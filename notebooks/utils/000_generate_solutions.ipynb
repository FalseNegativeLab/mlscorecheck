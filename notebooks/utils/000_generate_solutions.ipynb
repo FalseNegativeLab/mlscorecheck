{
 "cells": [
  {
   "cell_type": "code",
   "execution_count": 1,
   "metadata": {},
   "outputs": [],
   "source": [
    "import pickle\n",
    "\n",
    "from mlscorecheck.utils import ProblemSolver, generate_problem\n",
    "from mlscorecheck.core import score_function_set, sqrt\n",
    "from mlscorecheck.core import Interval, union"
   ]
  },
  {
   "cell_type": "code",
   "execution_count": 2,
   "metadata": {},
   "outputs": [],
   "source": [
    "score_functions = score_function_set()"
   ]
  },
  {
   "cell_type": "code",
   "execution_count": 4,
   "metadata": {},
   "outputs": [
    {
     "name": "stdout",
     "output_type": "stream",
     "text": [
      "dor mcc\n",
      "[dor - tn*tp/((n - tn)*(p - tp)), mcc - (tn*tp - (n - tn)*(p - tp))/sqrt(n*p*(n - tn + tp)*(p + tn - tp)), -fn + p - tp, -fp + n - tn]\n"
     ]
    },
    {
     "name": "stderr",
     "output_type": "stream",
     "text": [
      "2023-06-15 10:11:41 INFO     number of non-linear solutions 5\n",
      "2023-06-15 10:11:41 INFO     res [{fn: 0, fp: n, tn: 0, tp: p}, {fn: p, fp: 0, tn: n, tp: 0}, {fn: -p/(dor - 1), fp: zoo*dor*n*p, tn: zoo*dor*n*p, tp: dor*p/(dor - 1)}, {fn: (-dor*mcc**2*n*p + dor*n*p - mcc**2*n*p - 2*mcc**2*p**2 - n*p - sqrt(n*p*(dor**2*mcc**4*n*p - 2*dor**2*mcc**2*n*p + dor**2*n*p - 2*dor*mcc**4*n*p - 4*dor*mcc**2*n**2 - 4*dor*mcc**2*n*p - 4*dor*mcc**2*p**2 - 2*dor*n*p + mcc**4*n*p - 2*mcc**2*n*p + n*p)))/(2*(dor*mcc**2*p + dor*n - mcc**2*p - n)), fp: n*(-dor*mcc**2*n*p - 2*dor*mcc**2*p**2 - dor*n*p - mcc**2*n*p + n*p - sqrt(n*p*(dor**2*mcc**4*n*p - 2*dor**2*mcc**2*n*p + dor**2*n*p - 2*dor*mcc**4*n*p - 4*dor*mcc**2*n**2 - 4*dor*mcc**2*n*p - 4*dor*mcc**2*p**2 - 2*dor*n*p + mcc**4*n*p - 2*mcc**2*n*p + n*p)))/(dor**2*mcc**2*n*p - dor**2*n*p + dor*sqrt(n*p*(dor**2*mcc**4*n*p - 2*dor**2*mcc**2*n*p + dor**2*n*p - 2*dor*mcc**4*n*p - 4*dor*mcc**2*n**2 - 4*dor*mcc**2*n*p - 4*dor*mcc**2*p**2 - 2*dor*n*p + mcc**4*n*p - 2*mcc**2*n*p + n*p)) - mcc**2*n*p + n*p - sqrt(n*p*(dor**2*mcc**4*n*p - 2*dor**2*mcc**2*n*p + dor**2*n*p - 2*dor*mcc**4*n*p - 4*dor*mcc**2*n**2 - 4*dor*mcc**2*n*p - 4*dor*mcc**2*p**2 - 2*dor*n*p + mcc**4*n*p - 2*mcc**2*n*p + n*p))), tn: dor*n*(dor*mcc**2*n*p - dor*n*p + mcc**2*n*p + 2*mcc**2*p**2 + n*p + sqrt(n*p*(dor**2*mcc**4*n*p - 2*dor**2*mcc**2*n*p + dor**2*n*p - 2*dor*mcc**4*n*p - 4*dor*mcc**2*n**2 - 4*dor*mcc**2*n*p - 4*dor*mcc**2*p**2 - 2*dor*n*p + mcc**4*n*p - 2*mcc**2*n*p + n*p)))/(dor**2*mcc**2*n*p - dor**2*n*p + dor*sqrt(n*p*(dor**2*mcc**4*n*p - 2*dor**2*mcc**2*n*p + dor**2*n*p - 2*dor*mcc**4*n*p - 4*dor*mcc**2*n**2 - 4*dor*mcc**2*n*p - 4*dor*mcc**2*p**2 - 2*dor*n*p + mcc**4*n*p - 2*mcc**2*n*p + n*p)) - mcc**2*n*p + n*p - sqrt(n*p*(dor**2*mcc**4*n*p - 2*dor**2*mcc**2*n*p + dor**2*n*p - 2*dor*mcc**4*n*p - 4*dor*mcc**2*n**2 - 4*dor*mcc**2*n*p - 4*dor*mcc**2*p**2 - 2*dor*n*p + mcc**4*n*p - 2*mcc**2*n*p + n*p))), tp: (dor*mcc**2*n*p + 2*dor*mcc**2*p**2 + dor*n*p + mcc**2*n*p - n*p + sqrt(n*p*(dor**2*mcc**4*n*p - 2*dor**2*mcc**2*n*p + dor**2*n*p - 2*dor*mcc**4*n*p - 4*dor*mcc**2*n**2 - 4*dor*mcc**2*n*p - 4*dor*mcc**2*p**2 - 2*dor*n*p + mcc**4*n*p - 2*mcc**2*n*p + n*p)))/(2*(dor*mcc**2*p + dor*n - mcc**2*p - n))}, {fn: (-dor*mcc**2*n*p + dor*n*p - mcc**2*n*p - 2*mcc**2*p**2 - n*p + sqrt(n*p*(dor**2*mcc**4*n*p - 2*dor**2*mcc**2*n*p + dor**2*n*p - 2*dor*mcc**4*n*p - 4*dor*mcc**2*n**2 - 4*dor*mcc**2*n*p - 4*dor*mcc**2*p**2 - 2*dor*n*p + mcc**4*n*p - 2*mcc**2*n*p + n*p)))/(2*(dor*mcc**2*p + dor*n - mcc**2*p - n)), fp: n*(-dor*mcc**2*n*p - 2*dor*mcc**2*p**2 - dor*n*p - mcc**2*n*p + n*p + sqrt(n*p*(dor**2*mcc**4*n*p - 2*dor**2*mcc**2*n*p + dor**2*n*p - 2*dor*mcc**4*n*p - 4*dor*mcc**2*n**2 - 4*dor*mcc**2*n*p - 4*dor*mcc**2*p**2 - 2*dor*n*p + mcc**4*n*p - 2*mcc**2*n*p + n*p)))/(dor**2*mcc**2*n*p - dor**2*n*p - dor*sqrt(n*p*(dor**2*mcc**4*n*p - 2*dor**2*mcc**2*n*p + dor**2*n*p - 2*dor*mcc**4*n*p - 4*dor*mcc**2*n**2 - 4*dor*mcc**2*n*p - 4*dor*mcc**2*p**2 - 2*dor*n*p + mcc**4*n*p - 2*mcc**2*n*p + n*p)) - mcc**2*n*p + n*p + sqrt(n*p*(dor**2*mcc**4*n*p - 2*dor**2*mcc**2*n*p + dor**2*n*p - 2*dor*mcc**4*n*p - 4*dor*mcc**2*n**2 - 4*dor*mcc**2*n*p - 4*dor*mcc**2*p**2 - 2*dor*n*p + mcc**4*n*p - 2*mcc**2*n*p + n*p))), tn: dor*n*(dor*mcc**2*n*p - dor*n*p + mcc**2*n*p + 2*mcc**2*p**2 + n*p - sqrt(n*p*(dor**2*mcc**4*n*p - 2*dor**2*mcc**2*n*p + dor**2*n*p - 2*dor*mcc**4*n*p - 4*dor*mcc**2*n**2 - 4*dor*mcc**2*n*p - 4*dor*mcc**2*p**2 - 2*dor*n*p + mcc**4*n*p - 2*mcc**2*n*p + n*p)))/(dor**2*mcc**2*n*p - dor**2*n*p - dor*sqrt(n*p*(dor**2*mcc**4*n*p - 2*dor**2*mcc**2*n*p + dor**2*n*p - 2*dor*mcc**4*n*p - 4*dor*mcc**2*n**2 - 4*dor*mcc**2*n*p - 4*dor*mcc**2*p**2 - 2*dor*n*p + mcc**4*n*p - 2*mcc**2*n*p + n*p)) - mcc**2*n*p + n*p + sqrt(n*p*(dor**2*mcc**4*n*p - 2*dor**2*mcc**2*n*p + dor**2*n*p - 2*dor*mcc**4*n*p - 4*dor*mcc**2*n**2 - 4*dor*mcc**2*n*p - 4*dor*mcc**2*p**2 - 2*dor*n*p + mcc**4*n*p - 2*mcc**2*n*p + n*p))), tp: (dor*mcc**2*n*p + 2*dor*mcc**2*p**2 + dor*n*p + mcc**2*n*p - n*p - sqrt(n*p*(dor**2*mcc**4*n*p - 2*dor**2*mcc**2*n*p + dor**2*n*p - 2*dor*mcc**4*n*p - 4*dor*mcc**2*n**2 - 4*dor*mcc**2*n*p - 4*dor*mcc**2*p**2 - 2*dor*n*p + mcc**4*n*p - 2*mcc**2*n*p + n*p)))/(2*(dor*mcc**2*p + dor*n - mcc**2*p - n))}]\n",
      "2023-06-15 10:11:41 INFO     Linear solution failed \n",
      "nonlinear cross-term: -tn*tp/((n - tn)*(p - tp))\n"
     ]
    }
   ],
   "source": [
    "# generating the solutions for all pairs\n",
    "\n",
    "scores = list(score_functions.keys())\n",
    "\n",
    "solutions = []\n",
    "\n",
    "for idx, score0 in enumerate(scores):\n",
    "    for score1 in scores[idx+1:]:\n",
    "        if (score0, score1) != ('dor', 'mcc'):\n",
    "            continue\n",
    "        print(score0, score1, flush=True)\n",
    "        ps = ProblemSolver(score0, score_functions[score0], score1, score_functions[score1])\n",
    "        ps.solve()\n",
    "        solutions.append(ps)"
   ]
  },
  {
   "cell_type": "code",
   "execution_count": null,
   "metadata": {},
   "outputs": [],
   "source": [
    "with open('solutions.pickle', 'wb') as handle:\n",
    "    pickle.dump(solutions, handle)"
   ]
  },
  {
   "cell_type": "code",
   "execution_count": null,
   "metadata": {},
   "outputs": [],
   "source": [
    "for ps in solutions:\n",
    "    if len(ps.solutions) > 1:\n",
    "        print(ps.score0.name, ps.score1.name, len(ps.solutions))"
   ]
  },
  {
   "cell_type": "code",
   "execution_count": null,
   "metadata": {},
   "outputs": [],
   "source": []
  }
 ],
 "metadata": {
  "kernelspec": {
   "display_name": "mlscorecheck",
   "language": "python",
   "name": "python3"
  },
  "language_info": {
   "codemirror_mode": {
    "name": "ipython",
    "version": 3
   },
   "file_extension": ".py",
   "mimetype": "text/x-python",
   "name": "python",
   "nbconvert_exporter": "python",
   "pygments_lexer": "ipython3",
   "version": "3.10.0"
  },
  "orig_nbformat": 4
 },
 "nbformat": 4,
 "nbformat_minor": 2
}
