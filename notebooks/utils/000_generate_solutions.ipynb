{
 "cells": [
  {
   "cell_type": "code",
   "execution_count": 1,
   "metadata": {},
   "outputs": [],
   "source": [
    "import pickle\n",
    "\n",
    "from mlscorecheck.utils import ProblemSolver, generate_problem\n",
    "from mlscorecheck.core import score_function_set, sqrt\n",
    "from mlscorecheck.core import Interval, union"
   ]
  },
  {
   "cell_type": "code",
   "execution_count": 2,
   "metadata": {},
   "outputs": [],
   "source": [
    "score_functions = score_function_set()"
   ]
  },
  {
   "cell_type": "code",
   "execution_count": 3,
   "metadata": {},
   "outputs": [
    {
     "name": "stdout",
     "output_type": "stream",
     "text": [
      "acc sens\n"
     ]
    },
    {
     "name": "stderr",
     "output_type": "stream",
     "text": [
      "2023-06-11 22:04:20 INFO     number of non-linear solutions 1\n",
      "2023-06-11 22:04:20 INFO     res [{fn: -p*sens + p, fp: -acc*n - acc*p + n + p*sens, tn: acc*n + acc*p - p*sens, tp: p*sens}]\n",
      "2023-06-11 22:04:20 INFO     number of linear solutions 1\n"
     ]
    },
    {
     "name": "stdout",
     "output_type": "stream",
     "text": [
      "acc spec\n"
     ]
    },
    {
     "name": "stderr",
     "output_type": "stream",
     "text": [
      "2023-06-11 22:04:20 INFO     number of non-linear solutions 1\n",
      "2023-06-11 22:04:20 INFO     res [{fn: -acc*n - acc*p + n*spec + p, fp: -n*spec + n, tn: n*spec, tp: acc*n + acc*p - n*spec}]\n",
      "2023-06-11 22:04:20 INFO     number of linear solutions 1\n"
     ]
    },
    {
     "name": "stdout",
     "output_type": "stream",
     "text": [
      "acc npv\n"
     ]
    },
    {
     "name": "stderr",
     "output_type": "stream",
     "text": [
      "2023-06-11 22:04:20 INFO     number of non-linear solutions 1\n",
      "2023-06-11 22:04:20 INFO     res [{fn: (-acc*n*npv + acc*n - acc*npv*p + acc*p + npv*p - p)/(2*npv - 1), fp: (-acc*n*npv - acc*npv*p + 2*n*npv - n + npv*p)/(2*npv - 1), tn: (acc*n*npv + acc*npv*p - npv*p)/(2*npv - 1), tp: (acc*n*npv - acc*n + acc*npv*p - acc*p + npv*p)/(2*npv - 1)}]\n",
      "2023-06-11 22:04:20 INFO     Linear solution failed nonlinear term: 1/(fn + tn)\n"
     ]
    },
    {
     "name": "stdout",
     "output_type": "stream",
     "text": [
      "acc ppv\n"
     ]
    },
    {
     "name": "stderr",
     "output_type": "stream",
     "text": [
      "2023-06-11 22:04:20 INFO     number of non-linear solutions 1\n",
      "2023-06-11 22:04:20 INFO     res [{fn: (-acc*n*ppv - acc*p*ppv + n*ppv + 2*p*ppv - p)/(2*ppv - 1), fp: (-acc*n*ppv + acc*n - acc*p*ppv + acc*p + n*ppv - n)/(2*ppv - 1), tn: (acc*n*ppv - acc*n + acc*p*ppv - acc*p + n*ppv)/(2*ppv - 1), tp: (acc*n*ppv + acc*p*ppv - n*ppv)/(2*ppv - 1)}]\n",
      "2023-06-11 22:04:20 INFO     Linear solution failed nonlinear term: 1/(fp + tp)\n"
     ]
    },
    {
     "name": "stdout",
     "output_type": "stream",
     "text": [
      "acc f1_plus\n"
     ]
    },
    {
     "name": "stderr",
     "output_type": "stream",
     "text": [
      "2023-06-11 22:04:20 INFO     number of non-linear solutions 1\n",
      "2023-06-11 22:04:20 INFO     res [{fn: (-acc*f1_plus*n - acc*f1_plus*p + f1_plus*n + 3*f1_plus*p - 2*p)/(2*f1_plus - 2), fp: (-acc*f1_plus*n - acc*f1_plus*p + 2*acc*n + 2*acc*p + f1_plus*n - f1_plus*p - 2*n)/(2*f1_plus - 2), tn: (acc*f1_plus*n + acc*f1_plus*p - 2*acc*n - 2*acc*p + f1_plus*n + f1_plus*p)/(2*f1_plus - 2), tp: (acc*f1_plus*n + acc*f1_plus*p - f1_plus*n - f1_plus*p)/(2*f1_plus - 2)}]\n",
      "2023-06-11 22:04:20 INFO     Linear solution failed nonlinear term: 1/(fp + p + tp)\n"
     ]
    },
    {
     "name": "stdout",
     "output_type": "stream",
     "text": [
      "acc f1_minus\n"
     ]
    },
    {
     "name": "stderr",
     "output_type": "stream",
     "text": [
      "2023-06-11 22:04:20 INFO     number of non-linear solutions 1\n",
      "2023-06-11 22:04:20 INFO     res [{fn: (-acc*f1_minus*n - acc*f1_minus*p + 2*acc*n + 2*acc*p - f1_minus*n + f1_minus*p - 2*p)/(2*f1_minus - 2), fp: (-acc*f1_minus*n - acc*f1_minus*p + 3*f1_minus*n + f1_minus*p - 2*n)/(2*f1_minus - 2), tn: (acc*f1_minus*n + acc*f1_minus*p - f1_minus*n - f1_minus*p)/(2*f1_minus - 2), tp: (acc*f1_minus*n + acc*f1_minus*p - 2*acc*n - 2*acc*p + f1_minus*n + f1_minus*p)/(2*f1_minus - 2)}]\n",
      "2023-06-11 22:04:20 INFO     Linear solution failed nonlinear term: 1/(fn + n + tn)\n"
     ]
    },
    {
     "name": "stdout",
     "output_type": "stream",
     "text": [
      "acc fm\n"
     ]
    },
    {
     "name": "stderr",
     "output_type": "stream",
     "text": [
      "2023-06-11 22:04:21 INFO     number of non-linear solutions 2\n",
      "2023-06-11 22:04:21 INFO     res [{fn: -fm*sqrt(-p*(acc*n + acc*p - fm**2*p - n)) - p*(fm - 1)*(fm + 1), fp: -acc*n - acc*p + fm**2*p + fm*sqrt(p*(-acc*n - acc*p + fm**2*p + n)) + n, tn: acc*n + acc*p - fm**2*p - fm*sqrt(p*(-acc*n - acc*p + fm**2*p + n)), tp: fm*(fm*p + sqrt(p*(-acc*n - acc*p + fm**2*p + n)))}, {fn: fm*sqrt(-p*(acc*n + acc*p - fm**2*p - n)) - p*(fm - 1)*(fm + 1), fp: -acc*n - acc*p + fm**2*p - fm*sqrt(-p*(acc*n + acc*p - fm**2*p - n)) + n, tn: acc*n + acc*p - fm**2*p + fm*sqrt(p*(-acc*n - acc*p + fm**2*p + n)), tp: fm*(fm*p - sqrt(p*(-acc*n - acc*p + fm**2*p + n)))}]\n",
      "2023-06-11 22:04:21 INFO     Linear solution failed nonlinear term: sqrt(tp**2/(p*(fp + tp)))\n"
     ]
    },
    {
     "name": "stdout",
     "output_type": "stream",
     "text": [
      "acc bm\n"
     ]
    },
    {
     "name": "stderr",
     "output_type": "stream",
     "text": [
      "2023-06-11 22:04:21 INFO     number of non-linear solutions 1\n",
      "2023-06-11 22:04:21 INFO     res [{fn: (-acc*n*p - acc*p**2 + bm*n*p + p**2)/(-n + p), fp: (acc*n**2 + acc*n*p - bm*n*p - n**2)/(-n + p), tn: (-acc*n**2 - acc*n*p + bm*n*p + n*p)/(-n + p), tp: (acc*n*p + acc*p**2 - bm*n*p - n*p)/(-n + p)}]\n",
      "2023-06-11 22:04:21 INFO     number of linear solutions 1\n"
     ]
    },
    {
     "name": "stdout",
     "output_type": "stream",
     "text": [
      "acc pt\n"
     ]
    },
    {
     "name": "stderr",
     "output_type": "stream",
     "text": [
      "2023-06-11 22:04:22 INFO     number of non-linear solutions 2\n",
      "2023-06-11 22:04:22 INFO     res [{fn: p*(acc*n + acc*p - p)/(n - p), fp: n*(acc*n + acc*p - n)/(-n + p), tn: n*(acc*n + acc*p - p)/(n - p), tp: p*(-acc*n - acc*p + n)/(n - p)}, {fn: p*(acc*n*pt**2 - 2*acc*n*pt + acc*n + acc*p*pt**2 - 2*acc*p*pt + acc*p + 2*n*pt - n - p*pt**2 + 2*p*pt - p)/(n*pt**2 - p*pt**2 + 2*p*pt - p), fp: n*pt**2*(acc*n + acc*p - n)/(-n*pt**2 + p*pt**2 - 2*p*pt + p), tn: n*(-acc*n*pt**2 - acc*p*pt**2 + p*pt**2 - 2*p*pt + p)/(-n*pt**2 + p*pt**2 - 2*p*pt + p), tp: p*(-acc*n*pt**2 + 2*acc*n*pt - acc*n - acc*p*pt**2 + 2*acc*p*pt - acc*p + n*pt**2 - 2*n*pt + n)/(n*pt**2 - p*pt**2 + 2*p*pt - p)}]\n",
      "2023-06-11 22:04:22 INFO     Linear solution failed nonlinear term: 1/(-fp/n + tp/p)\n"
     ]
    },
    {
     "name": "stdout",
     "output_type": "stream",
     "text": [
      "acc lrp\n"
     ]
    },
    {
     "name": "stderr",
     "output_type": "stream",
     "text": [
      "2023-06-11 22:04:22 INFO     number of non-linear solutions 1\n",
      "2023-06-11 22:04:22 INFO     res [{fn: (-acc*lrp*n*p - acc*lrp*p**2 + lrp*n*p + lrp*p**2 - n*p)/(lrp*p - n), fp: (acc*n**2 + acc*n*p - n**2)/(lrp*p - n), tn: (-acc*n**2 - acc*n*p + lrp*n*p)/(lrp*p - n), tp: (acc*lrp*n*p + acc*lrp*p**2 - lrp*n*p)/(lrp*p - n)}]\n",
      "2023-06-11 22:04:22 INFO     Linear solution failed nonlinear term: 1/fp\n"
     ]
    },
    {
     "name": "stdout",
     "output_type": "stream",
     "text": [
      "acc lrn\n"
     ]
    },
    {
     "name": "stderr",
     "output_type": "stream",
     "text": [
      "2023-06-11 22:04:22 INFO     number of non-linear solutions 1\n",
      "2023-06-11 22:04:22 INFO     res [{fn: (-acc*lrn*n*p - acc*lrn*p**2 + lrn*p**2)/(lrn*p - n), fp: (acc*n**2 + acc*n*p + lrn*n*p - n**2 - n*p)/(lrn*p - n), tn: (-acc*n**2 - acc*n*p + n*p)/(lrn*p - n), tp: (acc*lrn*n*p + acc*lrn*p**2 - n*p)/(lrn*p - n)}]\n",
      "2023-06-11 22:04:22 INFO     Linear solution failed nonlinear term: 1/tn\n"
     ]
    },
    {
     "name": "stdout",
     "output_type": "stream",
     "text": [
      "acc mk\n"
     ]
    },
    {
     "name": "stderr",
     "output_type": "stream",
     "text": [
      "2023-06-11 22:04:23 INFO     number of non-linear solutions 2\n",
      "2023-06-11 22:04:23 INFO     res [{fn: -(4*acc*mk*n + 4*acc*mk*p - 2*mk*n - 6*mk*p - n + p)/(8*mk) - sqrt(-8*acc*mk*n**2 - 16*acc*mk*n*p - 8*acc*mk*p**2 + 4*mk**2*n**2 + 8*mk**2*n*p + 4*mk**2*p**2 + 4*mk*n**2 + 8*mk*n*p + 4*mk*p**2 + n**2 - 2*n*p + p**2)/(8*mk), fp: (-4*acc*mk*n - 4*acc*mk*p + 6*mk*n + 2*mk*p - n + p + sqrt(-8*acc*mk*n**2 - 16*acc*mk*n*p - 8*acc*mk*p**2 + 4*mk**2*n**2 + 8*mk**2*n*p + 4*mk**2*p**2 + 4*mk*n**2 + 8*mk*n*p + 4*mk*p**2 + n**2 - 2*n*p + p**2))/(8*mk), tn: (4*acc*mk*n + 4*acc*mk*p + 2*mk*n - 2*mk*p + n - p - sqrt(-8*acc*mk*n**2 - 16*acc*mk*n*p - 8*acc*mk*p**2 + 4*mk**2*n**2 + 8*mk**2*n*p + 4*mk**2*p**2 + 4*mk*n**2 + 8*mk*n*p + 4*mk*p**2 + n**2 - 2*n*p + p**2))/(8*mk), tp: (4*acc*mk*n + 4*acc*mk*p - 2*mk*n + 2*mk*p - n + p + sqrt(-8*acc*mk*n**2 - 16*acc*mk*n*p - 8*acc*mk*p**2 + 4*mk**2*n**2 + 8*mk**2*n*p + 4*mk**2*p**2 + 4*mk*n**2 + 8*mk*n*p + 4*mk*p**2 + n**2 - 2*n*p + p**2))/(8*mk)}, {fn: -(4*acc*mk*n + 4*acc*mk*p - 2*mk*n - 6*mk*p - n + p)/(8*mk) + sqrt(-8*acc*mk*n**2 - 16*acc*mk*n*p - 8*acc*mk*p**2 + 4*mk**2*n**2 + 8*mk**2*n*p + 4*mk**2*p**2 + 4*mk*n**2 + 8*mk*n*p + 4*mk*p**2 + n**2 - 2*n*p + p**2)/(8*mk), fp: (-4*acc*mk*n - 4*acc*mk*p + 6*mk*n + 2*mk*p - n + p - sqrt(-8*acc*mk*n**2 - 16*acc*mk*n*p - 8*acc*mk*p**2 + 4*mk**2*n**2 + 8*mk**2*n*p + 4*mk**2*p**2 + 4*mk*n**2 + 8*mk*n*p + 4*mk*p**2 + n**2 - 2*n*p + p**2))/(8*mk), tn: (4*acc*mk*n + 4*acc*mk*p + 2*mk*n - 2*mk*p + n - p + sqrt(-8*acc*mk*n**2 - 16*acc*mk*n*p - 8*acc*mk*p**2 + 4*mk**2*n**2 + 8*mk**2*n*p + 4*mk**2*p**2 + 4*mk*n**2 + 8*mk*n*p + 4*mk*p**2 + n**2 - 2*n*p + p**2))/(8*mk), tp: (4*acc*mk*n + 4*acc*mk*p - 2*mk*n + 2*mk*p - n + p - sqrt(-8*acc*mk*n**2 - 16*acc*mk*n*p - 8*acc*mk*p**2 + 4*mk**2*n**2 + 8*mk**2*n*p + 4*mk**2*p**2 + 4*mk*n**2 + 8*mk*n*p + 4*mk*p**2 + n**2 - 2*n*p + p**2))/(8*mk)}]\n",
      "2023-06-11 22:04:23 INFO     Linear solution failed nonlinear term: 1/(fn + tn)\n"
     ]
    },
    {
     "name": "stdout",
     "output_type": "stream",
     "text": [
      "acc dor\n"
     ]
    },
    {
     "name": "stderr",
     "output_type": "stream",
     "text": [
      "2023-06-11 22:04:25 INFO     number of non-linear solutions 2\n",
      "2023-06-11 22:04:25 INFO     res [{fn: -(acc*dor*n + acc*dor*p - acc*n - acc*p - dor*n - dor*p + 2*p)/(2*(dor - 1)) - sqrt(acc**2*dor**2*n**2 + 2*acc**2*dor**2*n*p + acc**2*dor**2*p**2 - 2*acc**2*dor*n**2 - 4*acc**2*dor*n*p - 2*acc**2*dor*p**2 + acc**2*n**2 + 2*acc**2*n*p + acc**2*p**2 - 2*acc*dor**2*n**2 - 4*acc*dor**2*n*p - 2*acc*dor**2*p**2 + 2*acc*dor*n**2 + 4*acc*dor*n*p + 2*acc*dor*p**2 + dor**2*n**2 + 2*dor**2*n*p + dor**2*p**2 - 4*dor*n*p)/(2*(dor - 1)), fp: (-acc*dor*n - acc*dor*p + acc*n + acc*p + dor*n + dor*p - 2*n + sqrt(acc**2*dor**2*n**2 + 2*acc**2*dor**2*n*p + acc**2*dor**2*p**2 - 2*acc**2*dor*n**2 - 4*acc**2*dor*n*p - 2*acc**2*dor*p**2 + acc**2*n**2 + 2*acc**2*n*p + acc**2*p**2 - 2*acc*dor**2*n**2 - 4*acc*dor**2*n*p - 2*acc*dor**2*p**2 + 2*acc*dor*n**2 + 4*acc*dor*n*p + 2*acc*dor*p**2 + dor**2*n**2 + 2*dor**2*n*p + dor**2*p**2 - 4*dor*n*p))/(2*(dor - 1)), tn: (acc*dor*n + acc*dor*p - acc*n - acc*p + dor*n - dor*p - sqrt(acc**2*dor**2*n**2 + 2*acc**2*dor**2*n*p + acc**2*dor**2*p**2 - 2*acc**2*dor*n**2 - 4*acc**2*dor*n*p - 2*acc**2*dor*p**2 + acc**2*n**2 + 2*acc**2*n*p + acc**2*p**2 - 2*acc*dor**2*n**2 - 4*acc*dor**2*n*p - 2*acc*dor**2*p**2 + 2*acc*dor*n**2 + 4*acc*dor*n*p + 2*acc*dor*p**2 + dor**2*n**2 + 2*dor**2*n*p + dor**2*p**2 - 4*dor*n*p))/(2*(dor - 1)), tp: (acc*dor*n + acc*dor*p - acc*n - acc*p - dor*n + dor*p + sqrt(acc**2*dor**2*n**2 + 2*acc**2*dor**2*n*p + acc**2*dor**2*p**2 - 2*acc**2*dor*n**2 - 4*acc**2*dor*n*p - 2*acc**2*dor*p**2 + acc**2*n**2 + 2*acc**2*n*p + acc**2*p**2 - 2*acc*dor**2*n**2 - 4*acc*dor**2*n*p - 2*acc*dor**2*p**2 + 2*acc*dor*n**2 + 4*acc*dor*n*p + 2*acc*dor*p**2 + dor**2*n**2 + 2*dor**2*n*p + dor**2*p**2 - 4*dor*n*p))/(2*(dor - 1))}, {fn: -(acc*dor*n + acc*dor*p - acc*n - acc*p - dor*n - dor*p + 2*p)/(2*(dor - 1)) + sqrt(acc**2*dor**2*n**2 + 2*acc**2*dor**2*n*p + acc**2*dor**2*p**2 - 2*acc**2*dor*n**2 - 4*acc**2*dor*n*p - 2*acc**2*dor*p**2 + acc**2*n**2 + 2*acc**2*n*p + acc**2*p**2 - 2*acc*dor**2*n**2 - 4*acc*dor**2*n*p - 2*acc*dor**2*p**2 + 2*acc*dor*n**2 + 4*acc*dor*n*p + 2*acc*dor*p**2 + dor**2*n**2 + 2*dor**2*n*p + dor**2*p**2 - 4*dor*n*p)/(2*(dor - 1)), fp: (-acc*dor*n - acc*dor*p + acc*n + acc*p + dor*n + dor*p - 2*n - sqrt(acc**2*dor**2*n**2 + 2*acc**2*dor**2*n*p + acc**2*dor**2*p**2 - 2*acc**2*dor*n**2 - 4*acc**2*dor*n*p - 2*acc**2*dor*p**2 + acc**2*n**2 + 2*acc**2*n*p + acc**2*p**2 - 2*acc*dor**2*n**2 - 4*acc*dor**2*n*p - 2*acc*dor**2*p**2 + 2*acc*dor*n**2 + 4*acc*dor*n*p + 2*acc*dor*p**2 + dor**2*n**2 + 2*dor**2*n*p + dor**2*p**2 - 4*dor*n*p))/(2*(dor - 1)), tn: (acc*dor*n + acc*dor*p - acc*n - acc*p + dor*n - dor*p + sqrt(acc**2*dor**2*n**2 + 2*acc**2*dor**2*n*p + acc**2*dor**2*p**2 - 2*acc**2*dor*n**2 - 4*acc**2*dor*n*p - 2*acc**2*dor*p**2 + acc**2*n**2 + 2*acc**2*n*p + acc**2*p**2 - 2*acc*dor**2*n**2 - 4*acc*dor**2*n*p - 2*acc*dor**2*p**2 + 2*acc*dor*n**2 + 4*acc*dor*n*p + 2*acc*dor*p**2 + dor**2*n**2 + 2*dor**2*n*p + dor**2*p**2 - 4*dor*n*p))/(2*(dor - 1)), tp: (acc*dor*n + acc*dor*p - acc*n - acc*p - dor*n + dor*p - sqrt(acc**2*dor**2*n**2 + 2*acc**2*dor**2*n*p + acc**2*dor**2*p**2 - 2*acc**2*dor*n**2 - 4*acc**2*dor*n*p - 2*acc**2*dor*p**2 + acc**2*n**2 + 2*acc**2*n*p + acc**2*p**2 - 2*acc*dor**2*n**2 - 4*acc*dor**2*n*p - 2*acc*dor**2*p**2 + 2*acc*dor*n**2 + 4*acc*dor*n*p + 2*acc*dor*p**2 + dor**2*n**2 + 2*dor**2*n*p + dor**2*p**2 - 4*dor*n*p))/(2*(dor - 1))}]\n",
      "2023-06-11 22:04:25 INFO     Linear solution failed \n",
      "nonlinear cross-term: -tn*tp/(fn*fp)\n"
     ]
    },
    {
     "name": "stdout",
     "output_type": "stream",
     "text": [
      "acc mcc\n"
     ]
    },
    {
     "name": "stderr",
     "output_type": "stream",
     "text": [
      "2023-06-11 22:04:27 INFO     number of non-linear solutions 2\n",
      "2023-06-11 22:04:27 INFO     res [{fn: (-mcc*sqrt(-n*p*(acc**2*n**2 + 2*acc**2*n*p + acc**2*p**2 - acc*n**2 - 2*acc*n*p - acc*p**2 - mcc**2*n*p + n*p))*(n + p) - p*(2*acc*mcc**2*n**2 + 2*acc*mcc**2*n*p - acc*n**2 + acc*p**2 - mcc**2*n**2 - 3*mcc**2*n*p + n*p - p**2))/(4*mcc**2*n*p + n**2 - 2*n*p + p**2), fp: (mcc*sqrt(-n*p*(acc**2*n**2 + 2*acc**2*n*p + acc**2*p**2 - acc*n**2 - 2*acc*n*p - acc*p**2 - mcc**2*n*p + n*p))*(n + p) + p*(2*acc*mcc**2*n**2 + 2*acc*mcc**2*n*p - acc*n**2 + acc*p**2 - mcc**2*n**2 - 3*mcc**2*n*p + n*p - p**2) + (-acc*n - acc*p + n + p)*(4*mcc**2*n*p + n**2 - 2*n*p + p**2))/(4*mcc**2*n*p + n**2 - 2*n*p + p**2), tn: (-mcc*sqrt(-n*p*(acc**2*n**2 + 2*acc**2*n*p + acc**2*p**2 - acc*n**2 - 2*acc*n*p - acc*p**2 - mcc**2*n*p + n*p))*(n + p) - p*(2*acc*mcc**2*n**2 + 2*acc*mcc**2*n*p - acc*n**2 + acc*p**2 - mcc**2*n**2 - 3*mcc**2*n*p + n*p - p**2) + (acc*n + acc*p - p)*(4*mcc**2*n*p + n**2 - 2*n*p + p**2))/(4*mcc**2*n*p + n**2 - 2*n*p + p**2), tp: (mcc*sqrt(-n*p*(acc**2*n**2 + 2*acc**2*n*p + acc**2*p**2 - acc*n**2 - 2*acc*n*p - acc*p**2 - mcc**2*n*p + n*p))*(n + p) + p*(4*mcc**2*n*p + n**2 - 2*n*p + p**2) + p*(2*acc*mcc**2*n**2 + 2*acc*mcc**2*n*p - acc*n**2 + acc*p**2 - mcc**2*n**2 - 3*mcc**2*n*p + n*p - p**2))/(4*mcc**2*n*p + n**2 - 2*n*p + p**2)}, {fn: (mcc*sqrt(-n*p*(acc**2*n**2 + 2*acc**2*n*p + acc**2*p**2 - acc*n**2 - 2*acc*n*p - acc*p**2 - mcc**2*n*p + n*p))*(n + p) - p*(2*acc*mcc**2*n**2 + 2*acc*mcc**2*n*p - acc*n**2 + acc*p**2 - mcc**2*n**2 - 3*mcc**2*n*p + n*p - p**2))/(4*mcc**2*n*p + n**2 - 2*n*p + p**2), fp: (-mcc*sqrt(-n*p*(acc**2*n**2 + 2*acc**2*n*p + acc**2*p**2 - acc*n**2 - 2*acc*n*p - acc*p**2 - mcc**2*n*p + n*p))*(n + p) + p*(2*acc*mcc**2*n**2 + 2*acc*mcc**2*n*p - acc*n**2 + acc*p**2 - mcc**2*n**2 - 3*mcc**2*n*p + n*p - p**2) + (-acc*n - acc*p + n + p)*(4*mcc**2*n*p + n**2 - 2*n*p + p**2))/(4*mcc**2*n*p + n**2 - 2*n*p + p**2), tn: (mcc*sqrt(-n*p*(acc**2*n**2 + 2*acc**2*n*p + acc**2*p**2 - acc*n**2 - 2*acc*n*p - acc*p**2 - mcc**2*n*p + n*p))*(n + p) - p*(2*acc*mcc**2*n**2 + 2*acc*mcc**2*n*p - acc*n**2 + acc*p**2 - mcc**2*n**2 - 3*mcc**2*n*p + n*p - p**2) + (acc*n + acc*p - p)*(4*mcc**2*n*p + n**2 - 2*n*p + p**2))/(4*mcc**2*n*p + n**2 - 2*n*p + p**2), tp: (-mcc*sqrt(-n*p*(acc**2*n**2 + 2*acc**2*n*p + acc**2*p**2 - acc*n**2 - 2*acc*n*p - acc*p**2 - mcc**2*n*p + n*p))*(n + p) + p*(4*mcc**2*n*p + n**2 - 2*n*p + p**2) + p*(2*acc*mcc**2*n**2 + 2*acc*mcc**2*n*p - acc*n**2 + acc*p**2 - mcc**2*n**2 - 3*mcc**2*n*p + n*p - p**2))/(4*mcc**2*n*p + n**2 - 2*n*p + p**2)}]\n",
      "2023-06-11 22:04:27 INFO     Linear solution failed nonlinear term: 1/sqrt(n*p*(fn + tn)*(fp + tp))\n"
     ]
    },
    {
     "name": "stdout",
     "output_type": "stream",
     "text": [
      "acc ji\n"
     ]
    },
    {
     "name": "stderr",
     "output_type": "stream",
     "text": [
      "2023-06-11 22:04:27 INFO     number of non-linear solutions 1\n",
      "2023-06-11 22:04:27 INFO     res [{fn: (-acc*ji*n - acc*ji*p + ji*n + 2*ji*p - p)/(ji - 1), fp: (acc*n + acc*p - ji*p - n)/(ji - 1), tn: (-acc*n - acc*p + ji*n + ji*p)/(ji - 1), tp: (acc*ji*n + acc*ji*p - ji*n - ji*p)/(ji - 1)}]\n",
      "2023-06-11 22:04:27 INFO     Linear solution failed nonlinear term: 1/(fp + p)\n"
     ]
    },
    {
     "name": "stdout",
     "output_type": "stream",
     "text": [
      "acc ba\n"
     ]
    },
    {
     "name": "stderr",
     "output_type": "stream",
     "text": [
      "2023-06-11 22:04:27 INFO     number of non-linear solutions 1\n",
      "2023-06-11 22:04:27 INFO     res [{fn: (-acc*n*p - acc*p**2 + 2.0*ba*n*p - n*p + p**2)/(-n + p), fp: (acc*n**2 + acc*n*p - 2.0*ba*n*p - n**2 + n*p)/(-n + p), tn: (-acc*n**2 - acc*n*p + 2.0*ba*n*p)/(-n + p), tp: (acc*n*p + acc*p**2 - 2.0*ba*n*p)/(-n + p)}]\n",
      "2023-06-11 22:04:28 INFO     number of linear solutions 1\n"
     ]
    },
    {
     "name": "stdout",
     "output_type": "stream",
     "text": [
      "sens spec\n"
     ]
    },
    {
     "name": "stderr",
     "output_type": "stream",
     "text": [
      "2023-06-11 22:04:28 INFO     number of non-linear solutions 1\n",
      "2023-06-11 22:04:28 INFO     res [{fn: -p*sens + p, fp: -n*spec + n, tn: n*spec, tp: p*sens}]\n",
      "2023-06-11 22:04:28 INFO     number of linear solutions 1\n"
     ]
    },
    {
     "name": "stdout",
     "output_type": "stream",
     "text": [
      "sens npv\n"
     ]
    },
    {
     "name": "stderr",
     "output_type": "stream",
     "text": [
      "2023-06-11 22:04:28 INFO     number of non-linear solutions 1\n",
      "2023-06-11 22:04:28 INFO     res [{fn: -p*sens + p, fp: (n*npv - n - npv*p*sens + npv*p)/(npv - 1), tn: (npv*p*sens - npv*p)/(npv - 1), tp: p*sens}]\n",
      "2023-06-11 22:04:28 INFO     Linear solution failed nonlinear term: 1/(fn + tn)\n"
     ]
    },
    {
     "name": "stdout",
     "output_type": "stream",
     "text": [
      "sens ppv\n"
     ]
    },
    {
     "name": "stderr",
     "output_type": "stream",
     "text": [
      "2023-06-11 22:04:28 INFO     number of non-linear solutions 1\n",
      "2023-06-11 22:04:28 INFO     res [{fn: -p*sens + p, fp: (-p*ppv*sens + p*sens)/ppv, tn: (n*ppv + p*ppv*sens - p*sens)/ppv, tp: p*sens}]\n",
      "2023-06-11 22:04:28 INFO     Linear solution failed nonlinear term: 1/(fp + tp)\n"
     ]
    },
    {
     "name": "stdout",
     "output_type": "stream",
     "text": [
      "sens f1_plus\n"
     ]
    },
    {
     "name": "stderr",
     "output_type": "stream",
     "text": [
      "2023-06-11 22:04:28 INFO     number of non-linear solutions 1\n",
      "2023-06-11 22:04:28 INFO     res [{fn: -p*sens + p, fp: (-f1_plus*p*sens - f1_plus*p + 2*p*sens)/f1_plus, tn: (f1_plus*n + f1_plus*p*sens + f1_plus*p - 2*p*sens)/f1_plus, tp: p*sens}]\n",
      "2023-06-11 22:04:28 INFO     Linear solution failed nonlinear term: 1/(fp + p + tp)\n"
     ]
    },
    {
     "name": "stdout",
     "output_type": "stream",
     "text": [
      "sens f1_minus\n"
     ]
    },
    {
     "name": "stderr",
     "output_type": "stream",
     "text": [
      "2023-06-11 22:04:28 INFO     number of non-linear solutions 1\n",
      "2023-06-11 22:04:28 INFO     res [{fn: -p*sens + p, fp: (2*f1_minus*n - f1_minus*p*sens + f1_minus*p - 2*n)/(f1_minus - 2), tn: (-f1_minus*n + f1_minus*p*sens - f1_minus*p)/(f1_minus - 2), tp: p*sens}]\n",
      "2023-06-11 22:04:28 INFO     Linear solution failed nonlinear term: 1/(fn + n + tn)\n"
     ]
    },
    {
     "name": "stdout",
     "output_type": "stream",
     "text": [
      "sens fm\n"
     ]
    },
    {
     "name": "stderr",
     "output_type": "stream",
     "text": [
      "2023-06-11 22:04:28 INFO     number of non-linear solutions 1\n",
      "2023-06-11 22:04:28 INFO     res [{fn: -p*(sens - 1), fp: -p*sens*(fm**2 - sens)/fm**2, tn: (fm**2*n + fm**2*p*sens - p*sens**2)/fm**2, tp: p*sens}]\n",
      "2023-06-11 22:04:28 INFO     Linear solution failed nonlinear term: sqrt(tp**2/(p*(fp + tp)))\n"
     ]
    },
    {
     "name": "stdout",
     "output_type": "stream",
     "text": [
      "sens bm\n"
     ]
    },
    {
     "name": "stderr",
     "output_type": "stream",
     "text": [
      "2023-06-11 22:04:28 INFO     number of non-linear solutions 1\n",
      "2023-06-11 22:04:28 INFO     res [{fn: -p*sens + p, fp: -bm*n + n*sens, tn: bm*n - n*sens + n, tp: p*sens}]\n",
      "2023-06-11 22:04:28 INFO     number of linear solutions 1\n"
     ]
    },
    {
     "name": "stdout",
     "output_type": "stream",
     "text": [
      "sens pt\n"
     ]
    },
    {
     "name": "stderr",
     "output_type": "stream",
     "text": [
      "2023-06-11 22:04:28 INFO     number of non-linear solutions 2\n",
      "2023-06-11 22:04:28 INFO     res [{fn: p*(1 - sens), fp: n*sens, tn: n*(1 - sens), tp: p*sens}, {fn: p*(1 - sens), fp: n*pt**2*sens/(pt**2 - 2*pt + 1), tn: n*(-pt**2*sens + pt**2 - 2*pt + 1)/(pt**2 - 2*pt + 1), tp: p*sens}]\n",
      "2023-06-11 22:04:28 INFO     Linear solution failed nonlinear term: 1/(-fp/n + tp/p)\n"
     ]
    },
    {
     "name": "stdout",
     "output_type": "stream",
     "text": [
      "sens lrp\n"
     ]
    },
    {
     "name": "stderr",
     "output_type": "stream",
     "text": [
      "2023-06-11 22:04:28 INFO     number of non-linear solutions 1\n",
      "2023-06-11 22:04:28 INFO     res [{fn: -p*sens + p, fp: n*sens/lrp, tn: (lrp*n - n*sens)/lrp, tp: p*sens}]\n",
      "2023-06-11 22:04:28 INFO     Linear solution failed nonlinear term: 1/fp\n"
     ]
    },
    {
     "name": "stdout",
     "output_type": "stream",
     "text": [
      "sens lrn\n"
     ]
    },
    {
     "name": "stderr",
     "output_type": "stream",
     "text": [
      "2023-06-11 22:04:28 INFO     number of non-linear solutions 1\n",
      "2023-06-11 22:04:28 INFO     res [{fn: -p*sens + p, fp: (lrn*n + n*sens - n)/lrn, tn: (-n*sens + n)/lrn, tp: p*sens}]\n",
      "2023-06-11 22:04:28 INFO     Linear solution failed nonlinear term: 1/tn\n"
     ]
    },
    {
     "name": "stdout",
     "output_type": "stream",
     "text": [
      "sens mk\n"
     ]
    },
    {
     "name": "stderr",
     "output_type": "stream",
     "text": [
      "2023-06-11 22:04:29 INFO     number of non-linear solutions 2\n",
      "2023-06-11 22:04:29 INFO     res [{fn: -p*(sens - 1), fp: -(-mk*n + 2*mk*p*sens - mk*p - p)/(2*mk) - sqrt(mk**2*n**2 + 2*mk**2*n*p + mk**2*p**2 - 4*mk*n*p*sens + 2*mk*n*p - 4*mk*p**2*sens + 2*mk*p**2 + p**2)/(2*mk), tn: (mk*n + 2*mk*p*sens - mk*p - p + sqrt(mk**2*n**2 + 2*mk**2*n*p + mk**2*p**2 - 4*mk*n*p*sens + 2*mk*n*p - 4*mk*p**2*sens + 2*mk*p**2 + p**2))/(2*mk), tp: p*sens}, {fn: -p*(sens - 1), fp: -(-mk*n + 2*mk*p*sens - mk*p - p)/(2*mk) + sqrt(mk**2*n**2 + 2*mk**2*n*p + mk**2*p**2 - 4*mk*n*p*sens + 2*mk*n*p - 4*mk*p**2*sens + 2*mk*p**2 + p**2)/(2*mk), tn: (mk*n + 2*mk*p*sens - mk*p - p - sqrt(mk**2*n**2 + 2*mk**2*n*p + mk**2*p**2 - 4*mk*n*p*sens + 2*mk*n*p - 4*mk*p**2*sens + 2*mk*p**2 + p**2))/(2*mk), tp: p*sens}]\n",
      "2023-06-11 22:04:29 INFO     Linear solution failed nonlinear term: 1/(fn + tn)\n"
     ]
    },
    {
     "name": "stdout",
     "output_type": "stream",
     "text": [
      "sens dor\n"
     ]
    },
    {
     "name": "stderr",
     "output_type": "stream",
     "text": [
      "2023-06-11 22:04:29 INFO     number of non-linear solutions 1\n",
      "2023-06-11 22:04:29 INFO     res [{fn: -p*(sens - 1), fp: -n*sens/(dor*sens - dor - sens), tn: dor*n*(sens - 1)/(dor*sens - dor - sens), tp: p*sens}]\n",
      "2023-06-11 22:04:29 INFO     Linear solution failed \n",
      "nonlinear cross-term: -tn*tp/(fn*fp)\n"
     ]
    },
    {
     "name": "stdout",
     "output_type": "stream",
     "text": [
      "sens mcc\n"
     ]
    },
    {
     "name": "stderr",
     "output_type": "stream",
     "text": [
      "2023-06-11 22:04:30 INFO     number of non-linear solutions 2\n",
      "2023-06-11 22:04:30 INFO     res [{fn: p*(1 - sens), fp: (-mcc*sqrt(n*(mcc**2*n - 4*p*sens**2 + 4*p*sens))*(n + p) + n*(mcc**2*n - 2*mcc**2*p*sens + mcc**2*p + 2*p*sens))/(2*(mcc**2*n + p)), tn: (mcc*sqrt(n*(mcc**2*n - 4*p*sens**2 + 4*p*sens))*(n + p)/2 + n*(mcc**2*n + p) - n*(mcc**2*n - 2*mcc**2*p*sens + mcc**2*p + 2*p*sens)/2)/(mcc**2*n + p), tp: p*sens}, {fn: p*(1 - sens), fp: (mcc*sqrt(n*(mcc**2*n - 4*p*sens**2 + 4*p*sens))*(n + p) + n*(mcc**2*n - 2*mcc**2*p*sens + mcc**2*p + 2*p*sens))/(2*(mcc**2*n + p)), tn: (-mcc*sqrt(n*(mcc**2*n - 4*p*sens**2 + 4*p*sens))*(n + p)/2 + n*(mcc**2*n + p) - n*(mcc**2*n - 2*mcc**2*p*sens + mcc**2*p + 2*p*sens)/2)/(mcc**2*n + p), tp: p*sens}]\n",
      "2023-06-11 22:04:30 INFO     Linear solution failed nonlinear term: 1/sqrt(n*p*(fn + tn)*(fp + tp))\n"
     ]
    },
    {
     "name": "stdout",
     "output_type": "stream",
     "text": [
      "sens ji\n"
     ]
    },
    {
     "name": "stderr",
     "output_type": "stream",
     "text": [
      "2023-06-11 22:04:30 INFO     number of non-linear solutions 1\n",
      "2023-06-11 22:04:30 INFO     res [{fn: -p*sens + p, fp: (-ji*p + p*sens)/ji, tn: (ji*n + ji*p - p*sens)/ji, tp: p*sens}]\n",
      "2023-06-11 22:04:30 INFO     Linear solution failed nonlinear term: 1/(fp + p)\n"
     ]
    },
    {
     "name": "stdout",
     "output_type": "stream",
     "text": [
      "sens ba\n"
     ]
    },
    {
     "name": "stderr",
     "output_type": "stream",
     "text": [
      "2023-06-11 22:04:30 INFO     number of non-linear solutions 1\n",
      "2023-06-11 22:04:30 INFO     res [{fn: -p*sens + p, fp: -2.0*ba*n + n*sens + n, tn: 2.0*ba*n - n*sens, tp: p*sens}]\n",
      "2023-06-11 22:04:30 INFO     number of linear solutions 1\n"
     ]
    },
    {
     "name": "stdout",
     "output_type": "stream",
     "text": [
      "spec npv\n"
     ]
    },
    {
     "name": "stderr",
     "output_type": "stream",
     "text": [
      "2023-06-11 22:04:30 INFO     number of non-linear solutions 1\n",
      "2023-06-11 22:04:30 INFO     res [{fn: (-n*npv*spec + n*spec)/npv, fp: -n*spec + n, tn: n*spec, tp: (n*npv*spec - n*spec + npv*p)/npv}]\n",
      "2023-06-11 22:04:30 INFO     Linear solution failed nonlinear term: 1/(fn + tn)\n"
     ]
    },
    {
     "name": "stdout",
     "output_type": "stream",
     "text": [
      "spec ppv\n"
     ]
    },
    {
     "name": "stderr",
     "output_type": "stream",
     "text": [
      "2023-06-11 22:04:30 INFO     number of non-linear solutions 1\n",
      "2023-06-11 22:04:30 INFO     res [{fn: (-n*ppv*spec + n*ppv + p*ppv - p)/(ppv - 1), fp: -n*spec + n, tn: n*spec, tp: (n*ppv*spec - n*ppv)/(ppv - 1)}]\n",
      "2023-06-11 22:04:30 INFO     Linear solution failed nonlinear term: 1/(fp + tp)\n"
     ]
    },
    {
     "name": "stdout",
     "output_type": "stream",
     "text": [
      "spec f1_plus\n"
     ]
    },
    {
     "name": "stderr",
     "output_type": "stream",
     "text": [
      "2023-06-11 22:04:30 INFO     number of non-linear solutions 1\n",
      "2023-06-11 22:04:30 INFO     res [{fn: (-f1_plus*n*spec + f1_plus*n + 2*f1_plus*p - 2*p)/(f1_plus - 2), fp: -n*spec + n, tn: n*spec, tp: (f1_plus*n*spec - f1_plus*n - f1_plus*p)/(f1_plus - 2)}]\n",
      "2023-06-11 22:04:30 INFO     Linear solution failed nonlinear term: 1/(fp + p + tp)\n"
     ]
    },
    {
     "name": "stdout",
     "output_type": "stream",
     "text": [
      "spec f1_minus\n"
     ]
    },
    {
     "name": "stderr",
     "output_type": "stream",
     "text": [
      "2023-06-11 22:04:30 INFO     number of non-linear solutions 1\n",
      "2023-06-11 22:04:30 INFO     res [{fn: (-f1_minus*n*spec - f1_minus*n + 2*n*spec)/f1_minus, fp: -n*spec + n, tn: n*spec, tp: (f1_minus*n*spec + f1_minus*n + f1_minus*p - 2*n*spec)/f1_minus}]\n",
      "2023-06-11 22:04:30 INFO     Linear solution failed nonlinear term: 1/(fn + n + tn)\n"
     ]
    },
    {
     "name": "stdout",
     "output_type": "stream",
     "text": [
      "spec fm\n"
     ]
    },
    {
     "name": "stderr",
     "output_type": "stream",
     "text": [
      "2023-06-11 22:04:30 INFO     number of non-linear solutions 2\n",
      "2023-06-11 22:04:30 INFO     res [{fn: -fm*sqrt(p*(fm**2*p - 4*n*spec + 4*n))/2 - p*(fm**2 - 2)/2, fp: -n*(spec - 1), tn: n*spec, tp: fm*(fm*p + sqrt(p*(fm**2*p - 4*n*spec + 4*n)))/2}, {fn: fm*sqrt(p*(fm**2*p - 4*n*spec + 4*n))/2 - p*(fm**2 - 2)/2, fp: -n*(spec - 1), tn: n*spec, tp: fm*(fm*p - sqrt(p*(fm**2*p - 4*n*spec + 4*n)))/2}]\n",
      "2023-06-11 22:04:30 INFO     Linear solution failed nonlinear term: sqrt(tp**2/(p*(fp + tp)))\n"
     ]
    },
    {
     "name": "stdout",
     "output_type": "stream",
     "text": [
      "spec bm\n"
     ]
    },
    {
     "name": "stderr",
     "output_type": "stream",
     "text": [
      "2023-06-11 22:04:30 INFO     number of non-linear solutions 1\n",
      "2023-06-11 22:04:30 INFO     res [{fn: -bm*p + p*spec, fp: -n*spec + n, tn: n*spec, tp: bm*p - p*spec + p}]\n",
      "2023-06-11 22:04:30 INFO     number of linear solutions 1\n"
     ]
    },
    {
     "name": "stdout",
     "output_type": "stream",
     "text": [
      "spec pt\n"
     ]
    },
    {
     "name": "stderr",
     "output_type": "stream",
     "text": [
      "2023-06-11 22:04:31 INFO     number of non-linear solutions 2\n",
      "2023-06-11 22:04:31 INFO     res [{fn: p*spec, fp: n*(1 - spec), tn: n*spec, tp: p*(1 - spec)}, {fn: p*(pt**2*spec - 2*pt*spec + 2*pt + spec - 1)/pt**2, fp: n*(1 - spec), tn: n*spec, tp: p*(-pt**2*spec + pt**2 + 2*pt*spec - 2*pt - spec + 1)/pt**2}]\n",
      "2023-06-11 22:04:31 INFO     Linear solution failed nonlinear term: 1/(-fp/n + tp/p)\n"
     ]
    },
    {
     "name": "stdout",
     "output_type": "stream",
     "text": [
      "spec lrp\n"
     ]
    },
    {
     "name": "stderr",
     "output_type": "stream",
     "text": [
      "2023-06-11 22:04:31 INFO     number of non-linear solutions 1\n",
      "2023-06-11 22:04:31 INFO     res [{fn: lrp*p*spec - lrp*p + p, fp: -n*spec + n, tn: n*spec, tp: -lrp*p*spec + lrp*p}]\n",
      "2023-06-11 22:04:31 INFO     Linear solution failed nonlinear term: 1/fp\n"
     ]
    },
    {
     "name": "stdout",
     "output_type": "stream",
     "text": [
      "spec lrn\n"
     ]
    },
    {
     "name": "stderr",
     "output_type": "stream",
     "text": [
      "2023-06-11 22:04:31 INFO     number of non-linear solutions 1\n",
      "2023-06-11 22:04:31 INFO     res [{fn: lrn*p*spec, fp: -n*spec + n, tn: n*spec, tp: -lrn*p*spec + p}]\n",
      "2023-06-11 22:04:31 INFO     Linear solution failed nonlinear term: 1/tn\n"
     ]
    },
    {
     "name": "stdout",
     "output_type": "stream",
     "text": [
      "spec mk\n"
     ]
    },
    {
     "name": "stderr",
     "output_type": "stream",
     "text": [
      "2023-06-11 22:04:31 INFO     number of non-linear solutions 2\n",
      "2023-06-11 22:04:31 INFO     res [{fn: (-2*mk*n*spec + mk*n + mk*p + n)/(2*mk) - sqrt(mk**2*n**2 + 2*mk**2*n*p + mk**2*p**2 - 4*mk*n**2*spec + 2*mk*n**2 - 4*mk*n*p*spec + 2*mk*n*p + n**2)/(2*mk), fp: -n*(spec - 1), tn: n*spec, tp: (2*mk*n*spec - mk*n + mk*p - n + sqrt(mk**2*n**2 + 2*mk**2*n*p + mk**2*p**2 - 4*mk*n**2*spec + 2*mk*n**2 - 4*mk*n*p*spec + 2*mk*n*p + n**2))/(2*mk)}, {fn: (-2*mk*n*spec + mk*n + mk*p + n)/(2*mk) + sqrt(mk**2*n**2 + 2*mk**2*n*p + mk**2*p**2 - 4*mk*n**2*spec + 2*mk*n**2 - 4*mk*n*p*spec + 2*mk*n*p + n**2)/(2*mk), fp: -n*(spec - 1), tn: n*spec, tp: (2*mk*n*spec - mk*n + mk*p - n - sqrt(mk**2*n**2 + 2*mk**2*n*p + mk**2*p**2 - 4*mk*n**2*spec + 2*mk*n**2 - 4*mk*n*p*spec + 2*mk*n*p + n**2))/(2*mk)}]\n",
      "2023-06-11 22:04:31 INFO     Linear solution failed nonlinear term: 1/(fn + tn)\n"
     ]
    },
    {
     "name": "stdout",
     "output_type": "stream",
     "text": [
      "spec dor\n"
     ]
    },
    {
     "name": "stderr",
     "output_type": "stream",
     "text": [
      "2023-06-11 22:04:31 INFO     number of non-linear solutions 1\n",
      "2023-06-11 22:04:31 INFO     res [{fn: -p*spec/(dor*spec - dor - spec), fp: -n*(spec - 1), tn: n*spec, tp: dor*p*(spec - 1)/(dor*spec - dor - spec)}]\n",
      "2023-06-11 22:04:31 INFO     Linear solution failed \n",
      "nonlinear cross-term: -tn*tp/(fn*fp)\n"
     ]
    },
    {
     "name": "stdout",
     "output_type": "stream",
     "text": [
      "spec mcc\n"
     ]
    },
    {
     "name": "stderr",
     "output_type": "stream",
     "text": [
      "2023-06-11 22:04:32 INFO     number of non-linear solutions 2\n",
      "2023-06-11 22:04:32 INFO     res [{fn: (-mcc*sqrt(p*(mcc**2*p - 4*n*spec**2 + 4*n*spec))*(n + p) + p*(-2*mcc**2*n*spec + mcc**2*n + mcc**2*p + 2*n*spec))/(2*(mcc**2*p + n)), fp: n*(1 - spec), tn: n*spec, tp: (mcc*sqrt(p*(mcc**2*p - 4*n*spec**2 + 4*n*spec))*(n + p)/2 + p*(mcc**2*p + n) - p*(-2*mcc**2*n*spec + mcc**2*n + mcc**2*p + 2*n*spec)/2)/(mcc**2*p + n)}, {fn: (mcc*sqrt(p*(mcc**2*p - 4*n*spec**2 + 4*n*spec))*(n + p) + p*(-2*mcc**2*n*spec + mcc**2*n + mcc**2*p + 2*n*spec))/(2*(mcc**2*p + n)), fp: n*(1 - spec), tn: n*spec, tp: (-mcc*sqrt(p*(mcc**2*p - 4*n*spec**2 + 4*n*spec))*(n + p)/2 + p*(mcc**2*p + n) - p*(-2*mcc**2*n*spec + mcc**2*n + mcc**2*p + 2*n*spec)/2)/(mcc**2*p + n)}]\n",
      "2023-06-11 22:04:32 INFO     Linear solution failed nonlinear term: 1/sqrt(n*p*(fn + tn)*(fp + tp))\n"
     ]
    },
    {
     "name": "stdout",
     "output_type": "stream",
     "text": [
      "spec ji\n"
     ]
    },
    {
     "name": "stderr",
     "output_type": "stream",
     "text": [
      "2023-06-11 22:04:32 INFO     number of non-linear solutions 1\n",
      "2023-06-11 22:04:32 INFO     res [{fn: ji*n*spec - ji*n - ji*p + p, fp: -n*spec + n, tn: n*spec, tp: -ji*n*spec + ji*n + ji*p}]\n",
      "2023-06-11 22:04:32 INFO     Linear solution failed nonlinear term: 1/(fp + p)\n"
     ]
    },
    {
     "name": "stdout",
     "output_type": "stream",
     "text": [
      "spec ba\n"
     ]
    },
    {
     "name": "stderr",
     "output_type": "stream",
     "text": [
      "2023-06-11 22:04:32 INFO     number of non-linear solutions 1\n",
      "2023-06-11 22:04:32 INFO     res [{fn: -2.0*ba*p + p*spec + p, fp: -n*spec + n, tn: n*spec, tp: 2.0*ba*p - p*spec}]\n",
      "2023-06-11 22:04:32 INFO     number of linear solutions 1\n"
     ]
    },
    {
     "name": "stdout",
     "output_type": "stream",
     "text": [
      "npv ppv\n"
     ]
    },
    {
     "name": "stderr",
     "output_type": "stream",
     "text": [
      "2023-06-11 22:04:32 INFO     number of non-linear solutions 1\n",
      "2023-06-11 22:04:32 INFO     res [{fn: (-n*npv*ppv + n*ppv - npv*p*ppv + npv*p + p*ppv - p)/(npv + ppv - 1), fp: (-n*npv*ppv + n*npv + n*ppv - n - npv*p*ppv + npv*p)/(npv + ppv - 1), tn: (n*npv*ppv + npv*p*ppv - npv*p)/(npv + ppv - 1), tp: (n*npv*ppv - n*ppv + npv*p*ppv)/(npv + ppv - 1)}]\n",
      "2023-06-11 22:04:32 INFO     Linear solution failed nonlinear term: 1/(fn + tn)\n"
     ]
    },
    {
     "name": "stdout",
     "output_type": "stream",
     "text": [
      "npv f1_plus\n"
     ]
    },
    {
     "name": "stderr",
     "output_type": "stream",
     "text": [
      "2023-06-11 22:04:32 INFO     number of non-linear solutions 1\n",
      "2023-06-11 22:04:32 INFO     res [{fn: (-f1_plus*n*npv + f1_plus*n - 2*f1_plus*npv*p + 2*f1_plus*p + 2*npv*p - 2*p)/(f1_plus + 2*npv - 2), fp: (-f1_plus*n*npv + f1_plus*n - 2*f1_plus*npv*p + 2*n*npv - 2*n + 2*npv*p)/(f1_plus + 2*npv - 2), tn: (f1_plus*n*npv + 2*f1_plus*npv*p - 2*npv*p)/(f1_plus + 2*npv - 2), tp: (f1_plus*n*npv - f1_plus*n + 2*f1_plus*npv*p - f1_plus*p)/(f1_plus + 2*npv - 2)}]\n",
      "2023-06-11 22:04:32 INFO     Linear solution failed nonlinear term: 1/(fn + tn)\n"
     ]
    },
    {
     "name": "stdout",
     "output_type": "stream",
     "text": [
      "npv f1_minus\n"
     ]
    },
    {
     "name": "stderr",
     "output_type": "stream",
     "text": [
      "2023-06-11 22:04:32 INFO     number of non-linear solutions 1\n",
      "2023-06-11 22:04:32 INFO     res [{fn: (f1_minus*n*npv - f1_minus*n)/(f1_minus - 2*npv), fp: (f1_minus*n*npv + f1_minus*n - 2*n*npv)/(f1_minus - 2*npv), tn: -f1_minus*n*npv/(f1_minus - 2*npv), tp: (-f1_minus*n*npv + f1_minus*n + f1_minus*p - 2*npv*p)/(f1_minus - 2*npv)}]\n",
      "2023-06-11 22:04:32 INFO     Linear solution failed nonlinear term: 1/(fn + tn)\n"
     ]
    },
    {
     "name": "stdout",
     "output_type": "stream",
     "text": [
      "npv fm\n"
     ]
    },
    {
     "name": "stderr",
     "output_type": "stream",
     "text": [
      "2023-06-11 22:04:33 INFO     number of non-linear solutions 2\n",
      "2023-06-11 22:04:33 INFO     res [{fn: -fm*sqrt(p*(fm**2*p + 4*n*npv**2 - 8*n*npv + 4*n + 4*npv**2*p - 4*npv*p))/(2*(npv - 1)) + p*(fm**2 + 2*npv - 2)/(2*(npv - 1)), fp: (fm**2*npv*p/2 - fm*npv*sqrt(p*(fm**2*p + 4*n*npv**2 - 8*n*npv + 4*n + 4*npv**2*p - 4*npv*p))/2 + n*npv**2 - 2*n*npv + n + npv**2*p - npv*p)/(npv**2 - 2*npv + 1), tn: npv*(-fm**2*p + fm*sqrt(p*(fm**2*p + 4*n*npv**2 - 8*n*npv + 4*n + 4*npv**2*p - 4*npv*p)) - 2*npv*p + 2*p)/(2*(npv**2 - 2*npv + 1)), tp: fm*(-fm*p + sqrt(p*(fm**2*p + 4*n*npv**2 - 8*n*npv + 4*n + 4*npv**2*p - 4*npv*p)))/(2*(npv - 1))}, {fn: fm*sqrt(p*(fm**2*p + 4*n*npv**2 - 8*n*npv + 4*n + 4*npv**2*p - 4*npv*p))/(2*(npv - 1)) + p*(fm**2 + 2*npv - 2)/(2*(npv - 1)), fp: (fm**2*npv*p/2 + fm*npv*sqrt(p*(fm**2*p + 4*n*npv**2 - 8*n*npv + 4*n + 4*npv**2*p - 4*npv*p))/2 + n*npv**2 - 2*n*npv + n + npv**2*p - npv*p)/(npv**2 - 2*npv + 1), tn: npv*(-fm**2*p - fm*sqrt(p*(fm**2*p + 4*n*npv**2 - 8*n*npv + 4*n + 4*npv**2*p - 4*npv*p)) - 2*npv*p + 2*p)/(2*(npv**2 - 2*npv + 1)), tp: fm*(-fm*p - sqrt(p*(fm**2*p + 4*n*npv**2 - 8*n*npv + 4*n + 4*npv**2*p - 4*npv*p)))/(2*(npv - 1))}]\n",
      "2023-06-11 22:04:33 INFO     Linear solution failed nonlinear term: 1/(fn + tn)\n"
     ]
    },
    {
     "name": "stdout",
     "output_type": "stream",
     "text": [
      "npv bm\n"
     ]
    },
    {
     "name": "stderr",
     "output_type": "stream",
     "text": [
      "2023-06-11 22:04:33 INFO     number of non-linear solutions 1\n",
      "2023-06-11 22:04:33 INFO     res [{fn: (-bm*n*npv*p + bm*n*p)/(n*npv - n + npv*p), fp: (-bm*n*npv*p + n**2*npv - n**2 + n*npv*p)/(n*npv - n + npv*p), tn: bm*n*npv*p/(n*npv - n + npv*p), tp: (bm*n*npv*p - bm*n*p + n*npv*p - n*p + npv*p**2)/(n*npv - n + npv*p)}]\n",
      "2023-06-11 22:04:33 INFO     Linear solution failed nonlinear term: 1/(fn + tn)\n"
     ]
    },
    {
     "name": "stdout",
     "output_type": "stream",
     "text": [
      "npv pt\n"
     ]
    },
    {
     "name": "stderr",
     "output_type": "stream",
     "text": [
      "2023-06-11 22:04:34 INFO     number of non-linear solutions 2\n",
      "2023-06-11 22:04:34 INFO     res [{fn: 0, fp: n, tn: 0, tp: p}, {fn: n*p*(2*npv*pt - npv - 2*pt + 1)/(n*npv*pt**2 - n*pt**2 + npv*p*pt**2 - 2*npv*p*pt + npv*p), fp: n*pt**2*(n*npv - n + npv*p)/(n*npv*pt**2 - n*pt**2 + npv*p*pt**2 - 2*npv*p*pt + npv*p), tn: n*npv*p*(1 - 2*pt)/(n*npv*pt**2 - n*pt**2 + npv*p*pt**2 - 2*npv*p*pt + npv*p), tp: p*(n*npv*pt**2 - n*pt**2 - n*(2*npv*pt - npv - 2*pt + 1) + npv*p*pt**2 - 2*npv*p*pt + npv*p)/(n*npv*pt**2 - n*pt**2 + npv*p*pt**2 - 2*npv*p*pt + npv*p)}]\n",
      "2023-06-11 22:04:34 INFO     Linear solution failed nonlinear term: 1/(fn + tn)\n"
     ]
    },
    {
     "name": "stdout",
     "output_type": "stream",
     "text": [
      "npv lrp\n"
     ]
    },
    {
     "name": "stderr",
     "output_type": "stream",
     "text": [
      "2023-06-11 22:04:34 INFO     number of non-linear solutions 1\n",
      "2023-06-11 22:04:34 INFO     res [{fn: (-lrp*n*npv*p + lrp*n*p + n*npv*p - n*p)/(lrp*npv*p + n*npv - n), fp: (n**2*npv - n**2 + n*npv*p)/(lrp*npv*p + n*npv - n), tn: (lrp*n*npv*p - n*npv*p)/(lrp*npv*p + n*npv - n), tp: (lrp*n*npv*p - lrp*n*p + lrp*npv*p**2)/(lrp*npv*p + n*npv - n)}]\n",
      "2023-06-11 22:04:34 INFO     Linear solution failed nonlinear term: 1/(fn + tn)\n"
     ]
    },
    {
     "name": "stdout",
     "output_type": "stream",
     "text": [
      "npv lrn\n"
     ]
    },
    {
     "name": "stderr",
     "output_type": "stream",
     "text": [
      "2023-06-11 22:04:34 INFO     number of non-linear solutions 1\n",
      "2023-06-11 22:04:34 INFO     res [{fn: 0, fp: n, tn: 0, tp: p}]\n",
      "2023-06-11 22:04:34 INFO     Linear solution failed nonlinear term: 1/(fn + tn)\n"
     ]
    },
    {
     "name": "stdout",
     "output_type": "stream",
     "text": [
      "npv mk\n"
     ]
    },
    {
     "name": "stderr",
     "output_type": "stream",
     "text": [
      "2023-06-11 22:04:35 INFO     number of non-linear solutions 2\n",
      "2023-06-11 22:04:35 INFO     res [{fn: 0, fp: n, tn: 0, tp: p}, {fn: -(npv - 1)*(mk*n + mk*p - n*npv + n - npv*p)/mk, fp: -(mk - npv)*(n*npv - n + npv*p)/mk, tn: npv*(mk*n + mk*p - n*npv + n - npv*p)/mk, tp: (mk - npv + 1)*(n*npv - n + npv*p)/mk}]\n",
      "2023-06-11 22:04:35 INFO     Linear solution failed nonlinear term: 1/(fn + tn)\n"
     ]
    },
    {
     "name": "stdout",
     "output_type": "stream",
     "text": [
      "npv dor\n"
     ]
    },
    {
     "name": "stderr",
     "output_type": "stream",
     "text": [
      "2023-06-11 22:04:35 INFO     number of non-linear solutions 2\n",
      "2023-06-11 22:04:35 INFO     res [{fn: 0, fp: n, tn: 0, tp: p}, {fn: -(dor*n*npv - dor*n + npv*p)/(npv*(dor - 1)), fp: -(n*npv - n + npv*p)/((dor - 1)*(npv - 1)), tn: (dor*n*npv - dor*n + npv*p)/((dor - 1)*(npv - 1)), tp: dor*(n*npv - n + npv*p)/(npv*(dor - 1))}]\n",
      "2023-06-11 22:04:35 INFO     Linear solution failed nonlinear term: 1/(fn + tn)\n"
     ]
    },
    {
     "name": "stdout",
     "output_type": "stream",
     "text": [
      "npv mcc\n"
     ]
    },
    {
     "name": "stderr",
     "output_type": "stream",
     "text": [
      "2023-06-11 22:04:36 INFO     number of non-linear solutions 2\n",
      "2023-06-11 22:04:36 INFO     res [{fn: 0, fp: n, tn: 0, tp: p}, {fn: mcc**2*n*p*(-n*npv + n - npv*p + p)/(mcc**2*n*p + n**2*npv**2 - 2*n**2*npv + n**2 + 2*n*npv**2*p - 2*n*npv*p + npv**2*p**2), fp: n*(-mcc**2*n*npv*p + mcc**2*n*p - mcc**2*npv*p**2 + n**2*npv**2 - 2*n**2*npv + n**2 + 2*n*npv**2*p - 2*n*npv*p + npv**2*p**2)/(mcc**2*n*p + n**2*npv**2 - 2*n**2*npv + n**2 + 2*n*npv**2*p - 2*n*npv*p + npv**2*p**2), tn: mcc**2*n*npv*p*(n + p)/(mcc**2*n*p + n**2*npv**2 - 2*n**2*npv + n**2 + 2*n*npv**2*p - 2*n*npv*p + npv**2*p**2), tp: mcc**2*n*p*(n*npv - n + npv*p - p)/(mcc**2*n*p + n**2*npv**2 - 2*n**2*npv + n**2 + 2*n*npv**2*p - 2*n*npv*p + npv**2*p**2) + p}]\n",
      "2023-06-11 22:04:36 INFO     Linear solution failed nonlinear term: 1/(fn + tn)\n"
     ]
    },
    {
     "name": "stdout",
     "output_type": "stream",
     "text": [
      "npv ji\n"
     ]
    },
    {
     "name": "stderr",
     "output_type": "stream",
     "text": [
      "2023-06-11 22:04:36 INFO     number of non-linear solutions 1\n",
      "2023-06-11 22:04:36 INFO     res [{fn: (-ji*n*npv + ji*n - ji*npv*p + ji*p + npv*p - p)/(ji*npv + npv - 1), fp: (-ji*npv*p + n*npv - n + npv*p)/(ji*npv + npv - 1), tn: (ji*n*npv + ji*npv*p - npv*p)/(ji*npv + npv - 1), tp: (ji*n*npv - ji*n + 2*ji*npv*p - ji*p)/(ji*npv + npv - 1)}]\n",
      "2023-06-11 22:04:36 INFO     Linear solution failed nonlinear term: 1/(fn + tn)\n"
     ]
    },
    {
     "name": "stdout",
     "output_type": "stream",
     "text": [
      "npv ba\n"
     ]
    },
    {
     "name": "stderr",
     "output_type": "stream",
     "text": [
      "2023-06-11 22:04:36 INFO     number of non-linear solutions 1\n",
      "2023-06-11 22:04:36 INFO     res [{fn: (-2.0*ba*n*npv*p + 2.0*ba*n*p + n*npv*p - n*p)/(n*npv - n + npv*p), fp: (-2.0*ba*n*npv*p + n**2*npv - n**2 + 2.0*n*npv*p)/(n*npv - n + npv*p), tn: (2.0*ba*n*npv*p - n*npv*p)/(n*npv - n + npv*p), tp: (2.0*ba*n*npv*p - 2.0*ba*n*p + npv*p**2)/(n*npv - n + npv*p)}]\n",
      "2023-06-11 22:04:36 INFO     Linear solution failed nonlinear term: 1/(fn + tn)\n"
     ]
    },
    {
     "name": "stdout",
     "output_type": "stream",
     "text": [
      "ppv f1_plus\n"
     ]
    },
    {
     "name": "stderr",
     "output_type": "stream",
     "text": [
      "2023-06-11 22:04:36 INFO     number of non-linear solutions 1\n",
      "2023-06-11 22:04:36 INFO     res [{fn: (f1_plus*p*ppv + f1_plus*p - 2*p*ppv)/(f1_plus - 2*ppv), fp: (f1_plus*p*ppv - f1_plus*p)/(f1_plus - 2*ppv), tn: (f1_plus*n - f1_plus*p*ppv + f1_plus*p - 2*n*ppv)/(f1_plus - 2*ppv), tp: -f1_plus*p*ppv/(f1_plus - 2*ppv)}]\n",
      "2023-06-11 22:04:36 INFO     Linear solution failed nonlinear term: 1/(fp + tp)\n"
     ]
    },
    {
     "name": "stdout",
     "output_type": "stream",
     "text": [
      "ppv f1_minus\n"
     ]
    },
    {
     "name": "stderr",
     "output_type": "stream",
     "text": [
      "2023-06-11 22:04:36 INFO     number of non-linear solutions 1\n",
      "2023-06-11 22:04:36 INFO     res [{fn: (-2*f1_minus*n*ppv - f1_minus*p*ppv + f1_minus*p + 2*n*ppv + 2*p*ppv - 2*p)/(f1_minus + 2*ppv - 2), fp: (-2*f1_minus*n*ppv + 2*f1_minus*n - f1_minus*p*ppv + f1_minus*p + 2*n*ppv - 2*n)/(f1_minus + 2*ppv - 2), tn: (2*f1_minus*n*ppv - f1_minus*n + f1_minus*p*ppv - f1_minus*p)/(f1_minus + 2*ppv - 2), tp: (2*f1_minus*n*ppv + f1_minus*p*ppv - 2*n*ppv)/(f1_minus + 2*ppv - 2)}]\n",
      "2023-06-11 22:04:36 INFO     Linear solution failed nonlinear term: 1/(fp + tp)\n"
     ]
    },
    {
     "name": "stdout",
     "output_type": "stream",
     "text": [
      "ppv fm\n"
     ]
    },
    {
     "name": "stderr",
     "output_type": "stream",
     "text": [
      "2023-06-11 22:04:36 INFO     number of non-linear solutions 2\n",
      "2023-06-11 22:04:36 INFO     res [{fn: p, fp: 0, tn: n, tp: 0}, {fn: (-fm**2*p + p*ppv)/ppv, fp: -fm**2*p*(ppv - 1)/ppv**2, tn: (fm**2*p*ppv - fm**2*p + n*ppv**2)/ppv**2, tp: fm**2*p/ppv}]\n",
      "2023-06-11 22:04:36 INFO     Linear solution failed nonlinear term: 1/(fp + tp)\n"
     ]
    },
    {
     "name": "stdout",
     "output_type": "stream",
     "text": [
      "ppv bm\n"
     ]
    },
    {
     "name": "stderr",
     "output_type": "stream",
     "text": [
      "2023-06-11 22:04:36 INFO     number of non-linear solutions 1\n",
      "2023-06-11 22:04:36 INFO     res [{fn: (-bm*n*p*ppv + n*p*ppv + p**2*ppv - p**2)/(n*ppv + p*ppv - p), fp: (-bm*n*p*ppv + bm*n*p)/(n*ppv + p*ppv - p), tn: (bm*n*p*ppv - bm*n*p + n**2*ppv + n*p*ppv - n*p)/(n*ppv + p*ppv - p), tp: bm*n*p*ppv/(n*ppv + p*ppv - p)}]\n",
      "2023-06-11 22:04:36 INFO     Linear solution failed nonlinear term: 1/(fp + tp)\n"
     ]
    },
    {
     "name": "stdout",
     "output_type": "stream",
     "text": [
      "ppv pt\n"
     ]
    },
    {
     "name": "stderr",
     "output_type": "stream",
     "text": [
      "2023-06-11 22:04:37 INFO     number of non-linear solutions 1\n",
      "2023-06-11 22:04:37 INFO     res [{fn: p, fp: 0, tn: n, tp: 0}]\n",
      "2023-06-11 22:04:37 INFO     Linear solution failed nonlinear term: 1/(fp + tp)\n"
     ]
    },
    {
     "name": "stdout",
     "output_type": "stream",
     "text": [
      "ppv lrp\n"
     ]
    },
    {
     "name": "stderr",
     "output_type": "stream",
     "text": [
      "2023-06-11 22:04:37 INFO     number of non-linear solutions 1\n",
      "2023-06-11 22:04:37 INFO     res [{fn: p, fp: 0, tn: n, tp: 0}]\n",
      "2023-06-11 22:04:37 INFO     Linear solution failed nonlinear term: 1/(fp + tp)\n"
     ]
    },
    {
     "name": "stdout",
     "output_type": "stream",
     "text": [
      "ppv lrn\n"
     ]
    },
    {
     "name": "stderr",
     "output_type": "stream",
     "text": [
      "2023-06-11 22:04:37 INFO     number of non-linear solutions 1\n",
      "2023-06-11 22:04:37 INFO     res [{fn: (lrn*n*p*ppv + lrn*p**2*ppv - lrn*p**2)/(lrn*p*ppv - lrn*p + n*ppv), fp: (lrn*n*p*ppv - lrn*n*p - n*p*ppv + n*p)/(lrn*p*ppv - lrn*p + n*ppv), tn: (n**2*ppv + n*p*ppv - n*p)/(lrn*p*ppv - lrn*p + n*ppv), tp: (-lrn*n*p*ppv + n*p*ppv)/(lrn*p*ppv - lrn*p + n*ppv)}]\n",
      "2023-06-11 22:04:37 INFO     Linear solution failed nonlinear term: 1/(fp + tp)\n"
     ]
    },
    {
     "name": "stdout",
     "output_type": "stream",
     "text": [
      "ppv mk\n"
     ]
    },
    {
     "name": "stderr",
     "output_type": "stream",
     "text": [
      "2023-06-11 22:04:37 INFO     number of non-linear solutions 2\n",
      "2023-06-11 22:04:37 INFO     res [{fn: p, fp: 0, tn: n, tp: 0}, {fn: (-mk*n*ppv - mk*p*ppv + mk*p + n*ppv**2 + p*ppv**2 - p*ppv)/mk, fp: -(ppv - 1)*(mk*n + mk*p - n*ppv - p*ppv + p)/mk, tn: (mk - ppv + 1)*(n*ppv + p*ppv - p)/mk, tp: ppv*(mk*n + mk*p - n*ppv - p*ppv + p)/mk}]\n",
      "2023-06-11 22:04:37 INFO     Linear solution failed nonlinear term: 1/(fp + tp)\n"
     ]
    },
    {
     "name": "stdout",
     "output_type": "stream",
     "text": [
      "ppv dor\n"
     ]
    },
    {
     "name": "stderr",
     "output_type": "stream",
     "text": [
      "2023-06-11 22:04:37 INFO     number of non-linear solutions 2\n",
      "2023-06-11 22:04:37 INFO     res [{fn: p, fp: 0, tn: n, tp: 0}, {fn: (-n*ppv - p*ppv + p)/(dor*ppv - dor - ppv + 1), fp: -(dor*p*ppv - dor*p + n*ppv)/(ppv*(dor - 1)), tn: dor*(n*ppv + p*ppv - p)/(ppv*(dor - 1)), tp: (dor*p*ppv - dor*p + n*ppv)/((dor - 1)*(ppv - 1))}]\n",
      "2023-06-11 22:04:37 INFO     Linear solution failed nonlinear term: 1/(fp + tp)\n"
     ]
    },
    {
     "name": "stdout",
     "output_type": "stream",
     "text": [
      "ppv mcc\n"
     ]
    },
    {
     "name": "stderr",
     "output_type": "stream",
     "text": [
      "2023-06-11 22:04:38 INFO     number of non-linear solutions 2\n",
      "2023-06-11 22:04:38 INFO     res [{fn: p, fp: 0, tn: n, tp: 0}, {fn: p*(-mcc**2*n**2*ppv - mcc**2*n*p*ppv + mcc**2*n*p + n**2*ppv**2 + 2*n*p*ppv**2 - 2*n*p*ppv + p**2*ppv**2 - 2*p**2*ppv + p**2)/(mcc**2*n*p + n**2*ppv**2 + 2*n*p*ppv**2 - 2*n*p*ppv + p**2*ppv**2 - 2*p**2*ppv + p**2), fp: mcc**2*n*p*(-n*ppv + n - p*ppv + p)/(mcc**2*n*p + n**2*ppv**2 + 2*n*p*ppv**2 - 2*n*p*ppv + p**2*ppv**2 - 2*p**2*ppv + p**2), tn: n*(mcc**2*n*p*ppv + mcc**2*p**2*ppv - mcc**2*p**2 + n**2*ppv**2 + 2*n*p*ppv**2 - 2*n*p*ppv + p**2*ppv**2 - 2*p**2*ppv + p**2)/(mcc**2*n*p + n**2*ppv**2 + 2*n*p*ppv**2 - 2*n*p*ppv + p**2*ppv**2 - 2*p**2*ppv + p**2), tp: mcc**2*n*p*ppv*(n + p)/(mcc**2*n*p + n**2*ppv**2 + 2*n*p*ppv**2 - 2*n*p*ppv + p**2*ppv**2 - 2*p**2*ppv + p**2)}]\n",
      "2023-06-11 22:04:38 INFO     Linear solution failed nonlinear term: 1/(fp + tp)\n"
     ]
    },
    {
     "name": "stdout",
     "output_type": "stream",
     "text": [
      "ppv ji\n"
     ]
    },
    {
     "name": "stderr",
     "output_type": "stream",
     "text": [
      "2023-06-11 22:04:38 INFO     number of non-linear solutions 1\n",
      "2023-06-11 22:04:38 INFO     res [{fn: (-ji*p + p*ppv)/(ji*ppv - ji + ppv), fp: (-ji*p*ppv + ji*p)/(ji*ppv - ji + ppv), tn: (ji*n*ppv - ji*n + ji*p*ppv - ji*p + n*ppv)/(ji*ppv - ji + ppv), tp: ji*p*ppv/(ji*ppv - ji + ppv)}]\n",
      "2023-06-11 22:04:38 INFO     Linear solution failed nonlinear term: 1/(fp + tp)\n"
     ]
    },
    {
     "name": "stdout",
     "output_type": "stream",
     "text": [
      "ppv ba\n"
     ]
    },
    {
     "name": "stderr",
     "output_type": "stream",
     "text": [
      "2023-06-11 22:04:38 INFO     number of non-linear solutions 1\n",
      "2023-06-11 22:04:38 INFO     res [{fn: (-2.0*ba*n*p*ppv + 2.0*n*p*ppv + p**2*ppv - p**2)/(n*ppv + p*ppv - p), fp: (-2.0*ba*n*p*ppv + 2.0*ba*n*p + n*p*ppv - n*p)/(n*ppv + p*ppv - p), tn: (2.0*ba*n*p*ppv - 2.0*ba*n*p + n**2*ppv)/(n*ppv + p*ppv - p), tp: (2.0*ba*n*p*ppv - n*p*ppv)/(n*ppv + p*ppv - p)}]\n",
      "2023-06-11 22:04:38 INFO     Linear solution failed nonlinear term: 1/(fp + tp)\n"
     ]
    },
    {
     "name": "stdout",
     "output_type": "stream",
     "text": [
      "f1_plus f1_minus\n"
     ]
    },
    {
     "name": "stderr",
     "output_type": "stream",
     "text": [
      "2023-06-11 22:04:38 INFO     number of non-linear solutions 1\n",
      "2023-06-11 22:04:38 INFO     res [{fn: (-f1_minus*f1_plus*n - f1_minus*f1_plus*p + f1_minus*p + f1_plus*n + 2*f1_plus*p - 2*p)/(f1_minus + f1_plus - 2), fp: (-f1_minus*f1_plus*n - f1_minus*f1_plus*p + 2*f1_minus*n + f1_minus*p + f1_plus*n - 2*n)/(f1_minus + f1_plus - 2), tn: (f1_minus*f1_plus*n + f1_minus*f1_plus*p - f1_minus*n - f1_minus*p)/(f1_minus + f1_plus - 2), tp: (f1_minus*f1_plus*n + f1_minus*f1_plus*p - f1_plus*n - f1_plus*p)/(f1_minus + f1_plus - 2)}]\n",
      "2023-06-11 22:04:38 INFO     Linear solution failed nonlinear term: 1/(fp + p + tp)\n"
     ]
    },
    {
     "name": "stdout",
     "output_type": "stream",
     "text": [
      "f1_plus fm\n"
     ]
    },
    {
     "name": "stderr",
     "output_type": "stream",
     "text": [
      "2023-06-11 22:04:39 INFO     number of non-linear solutions 2\n",
      "2023-06-11 22:04:39 INFO     res [{fn: -fm*p*sqrt(-(f1_plus - fm)*(f1_plus + fm))/f1_plus + p*(f1_plus - fm**2)/f1_plus, fp: p*(-f1_plus**2 - f1_plus*fm**2 - f1_plus*fm*sqrt(-f1_plus**2 + fm**2) + 2*fm**2 + 2*fm*sqrt(-f1_plus**2 + fm**2))/f1_plus**2, tn: n + p + fm**2*p/f1_plus + fm*p*sqrt(-f1_plus**2 + fm**2)/f1_plus - 2*fm**2*p/f1_plus**2 - 2*fm*p*sqrt(-f1_plus**2 + fm**2)/f1_plus**2, tp: fm*p*(fm + sqrt(-f1_plus**2 + fm**2))/f1_plus}, {fn: fm*p*sqrt(-(f1_plus - fm)*(f1_plus + fm))/f1_plus + p*(f1_plus - fm**2)/f1_plus, fp: p*(-f1_plus**2 - f1_plus*fm**2 + f1_plus*fm*sqrt(-f1_plus**2 + fm**2) + 2*fm**2 - 2*fm*sqrt(-f1_plus**2 + fm**2))/f1_plus**2, tn: n + p + fm**2*p/f1_plus - fm*p*sqrt(-f1_plus**2 + fm**2)/f1_plus - 2*fm**2*p/f1_plus**2 + 2*fm*p*sqrt(-f1_plus**2 + fm**2)/f1_plus**2, tp: fm*p*(fm - sqrt(-f1_plus**2 + fm**2))/f1_plus}]\n",
      "2023-06-11 22:04:39 INFO     Linear solution failed nonlinear term: 1/(fp + p + tp)\n"
     ]
    },
    {
     "name": "stdout",
     "output_type": "stream",
     "text": [
      "f1_plus bm\n"
     ]
    },
    {
     "name": "stderr",
     "output_type": "stream",
     "text": [
      "2023-06-11 22:04:39 INFO     number of non-linear solutions 1\n",
      "2023-06-11 22:04:39 INFO     res [{fn: (-bm*f1_plus*n*p + f1_plus*n*p + 2*f1_plus*p**2 - 2*p**2)/(f1_plus*n + f1_plus*p - 2*p), fp: (-bm*f1_plus*n*p + 2*bm*n*p - f1_plus*n*p)/(f1_plus*n + f1_plus*p - 2*p), tn: (bm*f1_plus*n*p - 2*bm*n*p + f1_plus*n**2 + 2*f1_plus*n*p - 2*n*p)/(f1_plus*n + f1_plus*p - 2*p), tp: (bm*f1_plus*n*p - f1_plus*p**2)/(f1_plus*n + f1_plus*p - 2*p)}]\n",
      "2023-06-11 22:04:39 INFO     Linear solution failed nonlinear term: 1/(fp + p + tp)\n"
     ]
    },
    {
     "name": "stdout",
     "output_type": "stream",
     "text": [
      "f1_plus pt\n"
     ]
    },
    {
     "name": "stderr",
     "output_type": "stream",
     "text": [
      "2023-06-11 22:04:41 INFO     number of non-linear solutions 2\n",
      "2023-06-11 22:04:41 INFO     res [{fn: p*(f1_plus*n + 2*f1_plus*p - 2*p)/(f1_plus*n + f1_plus*p - 2*p), fp: -f1_plus*n*p/(f1_plus*n + f1_plus*p - 2*p), tn: n*(f1_plus*n + 2*f1_plus*p - 2*p)/(f1_plus*n + f1_plus*p - 2*p), tp: -f1_plus*p**2/(f1_plus*n + f1_plus*p - 2*p)}, {fn: p*(f1_plus*n*pt**2 + 2*f1_plus*p*pt**2 - 4*f1_plus*p*pt + 2*f1_plus*p - 2*p*pt**2 + 4*p*pt - 2*p)/(f1_plus*n*pt**2 + f1_plus*p*pt**2 - 2*f1_plus*p*pt + f1_plus*p - 2*p*pt**2 + 4*p*pt - 2*p), fp: -f1_plus*n*p*pt**2/(f1_plus*n*pt**2 + f1_plus*p*pt**2 - 2*f1_plus*p*pt + f1_plus*p - 2*p*pt**2 + 4*p*pt - 2*p), tn: n*(f1_plus*n*pt**2 + 2*f1_plus*p*pt**2 - 2*f1_plus*p*pt + f1_plus*p - 2*p*pt**2 + 4*p*pt - 2*p)/(f1_plus*n*pt**2 + f1_plus*p*pt**2 - 2*f1_plus*p*pt + f1_plus*p - 2*p*pt**2 + 4*p*pt - 2*p), tp: f1_plus*p**2*(-pt**2 + 2*pt - 1)/(f1_plus*n*pt**2 + f1_plus*p*pt**2 - 2*f1_plus*p*pt + f1_plus*p - 2*p*pt**2 + 4*p*pt - 2*p)}]\n",
      "2023-06-11 22:04:41 INFO     Linear solution failed nonlinear term: 1/(fp + p + tp)\n"
     ]
    },
    {
     "name": "stdout",
     "output_type": "stream",
     "text": [
      "f1_plus lrp\n"
     ]
    },
    {
     "name": "stderr",
     "output_type": "stream",
     "text": [
      "2023-06-11 22:04:41 INFO     number of non-linear solutions 1\n",
      "2023-06-11 22:04:41 INFO     res [{fn: (2*f1_plus*lrp*p**2 + f1_plus*n*p - 2*lrp*p**2)/(f1_plus*lrp*p + f1_plus*n - 2*lrp*p), fp: -f1_plus*n*p/(f1_plus*lrp*p + f1_plus*n - 2*lrp*p), tn: (f1_plus*lrp*n*p + f1_plus*n**2 + f1_plus*n*p - 2*lrp*n*p)/(f1_plus*lrp*p + f1_plus*n - 2*lrp*p), tp: -f1_plus*lrp*p**2/(f1_plus*lrp*p + f1_plus*n - 2*lrp*p)}]\n",
      "2023-06-11 22:04:41 INFO     Linear solution failed nonlinear term: 1/(fp + p + tp)\n"
     ]
    },
    {
     "name": "stdout",
     "output_type": "stream",
     "text": [
      "f1_plus lrn\n"
     ]
    },
    {
     "name": "stderr",
     "output_type": "stream",
     "text": [
      "2023-06-11 22:04:41 INFO     number of non-linear solutions 1\n",
      "2023-06-11 22:04:41 INFO     res [{fn: (f1_plus*lrn*n*p + 2*f1_plus*lrn*p**2 - 2*lrn*p**2)/(f1_plus*lrn*p + f1_plus*n - 2*lrn*p), fp: (f1_plus*lrn*n*p - 2*f1_plus*n*p - 2*lrn*n*p + 2*n*p)/(f1_plus*lrn*p + f1_plus*n - 2*lrn*p), tn: (f1_plus*n**2 + 2*f1_plus*n*p - 2*n*p)/(f1_plus*lrn*p + f1_plus*n - 2*lrn*p), tp: (-f1_plus*lrn*n*p - f1_plus*lrn*p**2 + f1_plus*n*p)/(f1_plus*lrn*p + f1_plus*n - 2*lrn*p)}]\n",
      "2023-06-11 22:04:41 INFO     Linear solution failed nonlinear term: 1/(fp + p + tp)\n"
     ]
    },
    {
     "name": "stdout",
     "output_type": "stream",
     "text": [
      "f1_plus mk\n"
     ]
    },
    {
     "name": "stderr",
     "output_type": "stream",
     "text": [
      "2023-06-11 22:04:43 INFO     number of non-linear solutions 2\n",
      "2023-06-11 22:04:43 INFO     res [{fn: -f1_plus*sqrt(f1_plus**2*n**2 + 2*f1_plus**2*n*p + f1_plus**2*p**2 - 4*f1_plus*mk*n**2 - 16*f1_plus*mk*n*p - 12*f1_plus*mk*p**2 - 4*f1_plus*n*p - 4*f1_plus*p**2 + 4*mk**2*n**2 + 8*mk**2*n*p + 4*mk**2*p**2 + 8*mk*n*p + 8*mk*p**2 + 4*p**2)/(8*mk) + (f1_plus**2*n + f1_plus**2*p - 2*f1_plus*mk*n - 6*f1_plus*mk*p - 2*f1_plus*p + 8*mk*p)/(8*mk), fp: (f1_plus**2*n + f1_plus**2*p - 2*f1_plus*mk*n - 6*f1_plus*mk*p - 2*f1_plus*n - 4*f1_plus*p - f1_plus*sqrt(f1_plus**2*n**2 + 2*f1_plus**2*n*p + f1_plus**2*p**2 - 4*f1_plus*mk*n**2 - 16*f1_plus*mk*n*p - 12*f1_plus*mk*p**2 - 4*f1_plus*n*p - 4*f1_plus*p**2 + 4*mk**2*n**2 + 8*mk**2*n*p + 4*mk**2*p**2 + 8*mk*n*p + 8*mk*p**2 + 4*p**2) + 4*mk*n + 4*mk*p + 4*p + 2*sqrt(f1_plus**2*n**2 + 2*f1_plus**2*n*p + f1_plus**2*p**2 - 4*f1_plus*mk*n**2 - 16*f1_plus*mk*n*p - 12*f1_plus*mk*p**2 - 4*f1_plus*n*p - 4*f1_plus*p**2 + 4*mk**2*n**2 + 8*mk**2*n*p + 4*mk**2*p**2 + 8*mk*n*p + 8*mk*p**2 + 4*p**2))/(8*mk), tn: (-f1_plus**2*n - f1_plus**2*p + 2*f1_plus*mk*n + 6*f1_plus*mk*p + 2*f1_plus*n + 4*f1_plus*p + f1_plus*sqrt(f1_plus**2*n**2 + 2*f1_plus**2*n*p + f1_plus**2*p**2 - 4*f1_plus*mk*n**2 - 16*f1_plus*mk*n*p - 12*f1_plus*mk*p**2 - 4*f1_plus*n*p - 4*f1_plus*p**2 + 4*mk**2*n**2 + 8*mk**2*n*p + 4*mk**2*p**2 + 8*mk*n*p + 8*mk*p**2 + 4*p**2) + 4*mk*n - 4*mk*p - 4*p - 2*sqrt(f1_plus**2*n**2 + 2*f1_plus**2*n*p + f1_plus**2*p**2 - 4*f1_plus*mk*n**2 - 16*f1_plus*mk*n*p - 12*f1_plus*mk*p**2 - 4*f1_plus*n*p - 4*f1_plus*p**2 + 4*mk**2*n**2 + 8*mk**2*n*p + 4*mk**2*p**2 + 8*mk*n*p + 8*mk*p**2 + 4*p**2))/(8*mk), tp: f1_plus*(-f1_plus*n - f1_plus*p + 2*mk*n + 6*mk*p + 2*p + sqrt(f1_plus**2*n**2 + 2*f1_plus**2*n*p + f1_plus**2*p**2 - 4*f1_plus*mk*n**2 - 16*f1_plus*mk*n*p - 12*f1_plus*mk*p**2 - 4*f1_plus*n*p - 4*f1_plus*p**2 + 4*mk**2*n**2 + 8*mk**2*n*p + 4*mk**2*p**2 + 8*mk*n*p + 8*mk*p**2 + 4*p**2))/(8*mk)}, {fn: f1_plus*sqrt(f1_plus**2*n**2 + 2*f1_plus**2*n*p + f1_plus**2*p**2 - 4*f1_plus*mk*n**2 - 16*f1_plus*mk*n*p - 12*f1_plus*mk*p**2 - 4*f1_plus*n*p - 4*f1_plus*p**2 + 4*mk**2*n**2 + 8*mk**2*n*p + 4*mk**2*p**2 + 8*mk*n*p + 8*mk*p**2 + 4*p**2)/(8*mk) + (f1_plus**2*n + f1_plus**2*p - 2*f1_plus*mk*n - 6*f1_plus*mk*p - 2*f1_plus*p + 8*mk*p)/(8*mk), fp: (f1_plus**2*n + f1_plus**2*p - 2*f1_plus*mk*n - 6*f1_plus*mk*p - 2*f1_plus*n - 4*f1_plus*p + f1_plus*sqrt(f1_plus**2*n**2 + 2*f1_plus**2*n*p + f1_plus**2*p**2 - 4*f1_plus*mk*n**2 - 16*f1_plus*mk*n*p - 12*f1_plus*mk*p**2 - 4*f1_plus*n*p - 4*f1_plus*p**2 + 4*mk**2*n**2 + 8*mk**2*n*p + 4*mk**2*p**2 + 8*mk*n*p + 8*mk*p**2 + 4*p**2) + 4*mk*n + 4*mk*p + 4*p - 2*sqrt(f1_plus**2*n**2 + 2*f1_plus**2*n*p + f1_plus**2*p**2 - 4*f1_plus*mk*n**2 - 16*f1_plus*mk*n*p - 12*f1_plus*mk*p**2 - 4*f1_plus*n*p - 4*f1_plus*p**2 + 4*mk**2*n**2 + 8*mk**2*n*p + 4*mk**2*p**2 + 8*mk*n*p + 8*mk*p**2 + 4*p**2))/(8*mk), tn: (-f1_plus**2*n - f1_plus**2*p + 2*f1_plus*mk*n + 6*f1_plus*mk*p + 2*f1_plus*n + 4*f1_plus*p - f1_plus*sqrt(f1_plus**2*n**2 + 2*f1_plus**2*n*p + f1_plus**2*p**2 - 4*f1_plus*mk*n**2 - 16*f1_plus*mk*n*p - 12*f1_plus*mk*p**2 - 4*f1_plus*n*p - 4*f1_plus*p**2 + 4*mk**2*n**2 + 8*mk**2*n*p + 4*mk**2*p**2 + 8*mk*n*p + 8*mk*p**2 + 4*p**2) + 4*mk*n - 4*mk*p - 4*p + 2*sqrt(f1_plus**2*n**2 + 2*f1_plus**2*n*p + f1_plus**2*p**2 - 4*f1_plus*mk*n**2 - 16*f1_plus*mk*n*p - 12*f1_plus*mk*p**2 - 4*f1_plus*n*p - 4*f1_plus*p**2 + 4*mk**2*n**2 + 8*mk**2*n*p + 4*mk**2*p**2 + 8*mk*n*p + 8*mk*p**2 + 4*p**2))/(8*mk), tp: f1_plus*(-f1_plus*n - f1_plus*p + 2*mk*n + 6*mk*p + 2*p - sqrt(f1_plus**2*n**2 + 2*f1_plus**2*n*p + f1_plus**2*p**2 - 4*f1_plus*mk*n**2 - 16*f1_plus*mk*n*p - 12*f1_plus*mk*p**2 - 4*f1_plus*n*p - 4*f1_plus*p**2 + 4*mk**2*n**2 + 8*mk**2*n*p + 4*mk**2*p**2 + 8*mk*n*p + 8*mk*p**2 + 4*p**2))/(8*mk)}]\n",
      "2023-06-11 22:04:43 INFO     Linear solution failed nonlinear term: 1/(fp + p + tp)\n"
     ]
    },
    {
     "name": "stdout",
     "output_type": "stream",
     "text": [
      "f1_plus dor\n"
     ]
    },
    {
     "name": "stderr",
     "output_type": "stream",
     "text": [
      "2023-06-11 22:04:44 INFO     number of non-linear solutions 2\n",
      "2023-06-11 22:04:44 INFO     res [{fn: -sqrt(4*dor**2*f1_plus**2*p**2 - 8*dor**2*f1_plus*p**2 + 4*dor**2*p**2 - 4*dor*f1_plus**2*p**2 - 4*dor*f1_plus*n*p + 4*dor*f1_plus*p**2 + f1_plus**2*n**2 + 2*f1_plus**2*n*p + f1_plus**2*p**2)/(2*(dor*f1_plus - 2*dor - f1_plus + 2)) + (2*dor*f1_plus*p - 2*dor*p - f1_plus*n - 3*f1_plus*p + 4*p)/(2*(dor - 1)*(f1_plus - 2)), fp: (-2*dor*f1_plus*p + 2*dor*p - f1_plus*n + f1_plus*p - sqrt(4*dor**2*f1_plus**2*p**2 - 8*dor**2*f1_plus*p**2 + 4*dor**2*p**2 - 4*dor*f1_plus**2*p**2 - 4*dor*f1_plus*n*p + 4*dor*f1_plus*p**2 + f1_plus**2*n**2 + 2*f1_plus**2*n*p + f1_plus**2*p**2))/(2*f1_plus*(dor - 1)), tn: (dor*f1_plus*n + dor*f1_plus*p - dor*p - f1_plus*n/2 - f1_plus*p/2 + sqrt(4*dor**2*f1_plus**2*p**2 - 8*dor**2*f1_plus*p**2 + 4*dor**2*p**2 - 4*dor*f1_plus**2*p**2 - 4*dor*f1_plus*n*p + 4*dor*f1_plus*p**2 + f1_plus**2*n**2 + 2*f1_plus**2*n*p + f1_plus**2*p**2)/2)/(f1_plus*(dor - 1)), tp: (-2*dor*p + f1_plus*n + f1_plus*p + sqrt(4*dor**2*f1_plus**2*p**2 - 8*dor**2*f1_plus*p**2 + 4*dor**2*p**2 - 4*dor*f1_plus**2*p**2 - 4*dor*f1_plus*n*p + 4*dor*f1_plus*p**2 + f1_plus**2*n**2 + 2*f1_plus**2*n*p + f1_plus**2*p**2))/(2*(dor*f1_plus - 2*dor - f1_plus + 2))}, {fn: sqrt(4*dor**2*f1_plus**2*p**2 - 8*dor**2*f1_plus*p**2 + 4*dor**2*p**2 - 4*dor*f1_plus**2*p**2 - 4*dor*f1_plus*n*p + 4*dor*f1_plus*p**2 + f1_plus**2*n**2 + 2*f1_plus**2*n*p + f1_plus**2*p**2)/(2*(dor*f1_plus - 2*dor - f1_plus + 2)) + (2*dor*f1_plus*p - 2*dor*p - f1_plus*n - 3*f1_plus*p + 4*p)/(2*(dor - 1)*(f1_plus - 2)), fp: (-2*dor*f1_plus*p + 2*dor*p - f1_plus*n + f1_plus*p + sqrt(4*dor**2*f1_plus**2*p**2 - 8*dor**2*f1_plus*p**2 + 4*dor**2*p**2 - 4*dor*f1_plus**2*p**2 - 4*dor*f1_plus*n*p + 4*dor*f1_plus*p**2 + f1_plus**2*n**2 + 2*f1_plus**2*n*p + f1_plus**2*p**2))/(2*f1_plus*(dor - 1)), tn: (dor*f1_plus*n + dor*f1_plus*p - dor*p - f1_plus*n/2 - f1_plus*p/2 - sqrt(4*dor**2*f1_plus**2*p**2 - 8*dor**2*f1_plus*p**2 + 4*dor**2*p**2 - 4*dor*f1_plus**2*p**2 - 4*dor*f1_plus*n*p + 4*dor*f1_plus*p**2 + f1_plus**2*n**2 + 2*f1_plus**2*n*p + f1_plus**2*p**2)/2)/(f1_plus*(dor - 1)), tp: (-2*dor*p + f1_plus*n + f1_plus*p - sqrt(4*dor**2*f1_plus**2*p**2 - 8*dor**2*f1_plus*p**2 + 4*dor**2*p**2 - 4*dor*f1_plus**2*p**2 - 4*dor*f1_plus*n*p + 4*dor*f1_plus*p**2 + f1_plus**2*n**2 + 2*f1_plus**2*n*p + f1_plus**2*p**2))/(2*(dor*f1_plus - 2*dor - f1_plus + 2))}]\n",
      "2023-06-11 22:04:44 INFO     Linear solution failed nonlinear term: 1/(fp + p + tp)\n"
     ]
    },
    {
     "name": "stdout",
     "output_type": "stream",
     "text": [
      "f1_plus mcc\n"
     ]
    },
    {
     "name": "stderr",
     "output_type": "stream",
     "text": [
      "2023-06-11 22:04:47 INFO     number of non-linear solutions 2\n",
      "2023-06-11 22:04:47 INFO     res [{fn: p*(f1_plus**2*n**2 + 3*f1_plus**2*n*p + 2*f1_plus**2*p**2 - f1_plus*mcc**2*n**2 - 3*f1_plus*mcc**2*n*p - f1_plus*mcc*sqrt(-n*(f1_plus**2*n + 2*f1_plus**2*p - 2*f1_plus*p - mcc**2*n))*(n + p) - 4*f1_plus*n*p - 6*f1_plus*p**2 + 4*mcc**2*n*p + 4*p**2)/(f1_plus**2*n**2 + 2*f1_plus**2*n*p + f1_plus**2*p**2 - 4*f1_plus*n*p - 4*f1_plus*p**2 + 4*mcc**2*n*p + 4*p**2), fp: p*(2*(1 - f1_plus)*(f1_plus**2*n**2 + 2*f1_plus**2*n*p + f1_plus**2*p**2 - 4*f1_plus*n*p - 4*f1_plus*p**2 + 4*mcc**2*n*p + 4*p**2) + (f1_plus - 2)*(f1_plus**2*n**2 + 3*f1_plus**2*n*p + 2*f1_plus**2*p**2 - f1_plus*mcc**2*n**2 - 3*f1_plus*mcc**2*n*p - f1_plus*mcc*sqrt(-n*(f1_plus**2*n + 2*f1_plus**2*p - 2*f1_plus*p - mcc**2*n))*(n + p) - 4*f1_plus*n*p - 6*f1_plus*p**2 + 4*mcc**2*n*p + 4*p**2))/(f1_plus*(f1_plus**2*n**2 + 2*f1_plus**2*n*p + f1_plus**2*p**2 - 4*f1_plus*n*p - 4*f1_plus*p**2 + 4*mcc**2*n*p + 4*p**2)), tn: (-p*(f1_plus - 2)*(f1_plus**2*n**2 + 3*f1_plus**2*n*p + 2*f1_plus**2*p**2 - f1_plus*mcc**2*n**2 - 3*f1_plus*mcc**2*n*p - f1_plus*mcc*sqrt(-n*(f1_plus**2*n + 2*f1_plus**2*p - 2*f1_plus*p - mcc**2*n))*(n + p) - 4*f1_plus*n*p - 6*f1_plus*p**2 + 4*mcc**2*n*p + 4*p**2) + (f1_plus*n + 2*f1_plus*p - 2*p)*(f1_plus**2*n**2 + 2*f1_plus**2*n*p + f1_plus**2*p**2 - 4*f1_plus*n*p - 4*f1_plus*p**2 + 4*mcc**2*n*p + 4*p**2))/(f1_plus*(f1_plus**2*n**2 + 2*f1_plus**2*n*p + f1_plus**2*p**2 - 4*f1_plus*n*p - 4*f1_plus*p**2 + 4*mcc**2*n*p + 4*p**2)), tp: f1_plus*p*(-f1_plus*n*p - f1_plus*p**2 + mcc**2*n**2 + 3*mcc**2*n*p + mcc*sqrt(-n*(f1_plus**2*n + 2*f1_plus**2*p - 2*f1_plus*p - mcc**2*n))*(n + p) + 2*p**2)/(f1_plus**2*n**2 + 2*f1_plus**2*n*p + f1_plus**2*p**2 - 4*f1_plus*n*p - 4*f1_plus*p**2 + 4*mcc**2*n*p + 4*p**2)}, {fn: p*(f1_plus**2*n**2 + 3*f1_plus**2*n*p + 2*f1_plus**2*p**2 - f1_plus*mcc**2*n**2 - 3*f1_plus*mcc**2*n*p + f1_plus*mcc*sqrt(-n*(f1_plus**2*n + 2*f1_plus**2*p - 2*f1_plus*p - mcc**2*n))*(n + p) - 4*f1_plus*n*p - 6*f1_plus*p**2 + 4*mcc**2*n*p + 4*p**2)/(f1_plus**2*n**2 + 2*f1_plus**2*n*p + f1_plus**2*p**2 - 4*f1_plus*n*p - 4*f1_plus*p**2 + 4*mcc**2*n*p + 4*p**2), fp: p*(2*(1 - f1_plus)*(f1_plus**2*n**2 + 2*f1_plus**2*n*p + f1_plus**2*p**2 - 4*f1_plus*n*p - 4*f1_plus*p**2 + 4*mcc**2*n*p + 4*p**2) + (f1_plus - 2)*(f1_plus**2*n**2 + 3*f1_plus**2*n*p + 2*f1_plus**2*p**2 - f1_plus*mcc**2*n**2 - 3*f1_plus*mcc**2*n*p + f1_plus*mcc*sqrt(-n*(f1_plus**2*n + 2*f1_plus**2*p - 2*f1_plus*p - mcc**2*n))*(n + p) - 4*f1_plus*n*p - 6*f1_plus*p**2 + 4*mcc**2*n*p + 4*p**2))/(f1_plus*(f1_plus**2*n**2 + 2*f1_plus**2*n*p + f1_plus**2*p**2 - 4*f1_plus*n*p - 4*f1_plus*p**2 + 4*mcc**2*n*p + 4*p**2)), tn: (-p*(f1_plus - 2)*(f1_plus**2*n**2 + 3*f1_plus**2*n*p + 2*f1_plus**2*p**2 - f1_plus*mcc**2*n**2 - 3*f1_plus*mcc**2*n*p + f1_plus*mcc*sqrt(-n*(f1_plus**2*n + 2*f1_plus**2*p - 2*f1_plus*p - mcc**2*n))*(n + p) - 4*f1_plus*n*p - 6*f1_plus*p**2 + 4*mcc**2*n*p + 4*p**2) + (f1_plus*n + 2*f1_plus*p - 2*p)*(f1_plus**2*n**2 + 2*f1_plus**2*n*p + f1_plus**2*p**2 - 4*f1_plus*n*p - 4*f1_plus*p**2 + 4*mcc**2*n*p + 4*p**2))/(f1_plus*(f1_plus**2*n**2 + 2*f1_plus**2*n*p + f1_plus**2*p**2 - 4*f1_plus*n*p - 4*f1_plus*p**2 + 4*mcc**2*n*p + 4*p**2)), tp: f1_plus*p*(-f1_plus*n*p - f1_plus*p**2 + mcc**2*n**2 + 3*mcc**2*n*p - mcc*sqrt(-n*(f1_plus**2*n + 2*f1_plus**2*p - 2*f1_plus*p - mcc**2*n))*(n + p) + 2*p**2)/(f1_plus**2*n**2 + 2*f1_plus**2*n*p + f1_plus**2*p**2 - 4*f1_plus*n*p - 4*f1_plus*p**2 + 4*mcc**2*n*p + 4*p**2)}]\n",
      "2023-06-11 22:04:47 INFO     Linear solution failed nonlinear term: 1/(fp + p + tp)\n"
     ]
    },
    {
     "name": "stdout",
     "output_type": "stream",
     "text": [
      "f1_plus ji\n"
     ]
    },
    {
     "name": "stderr",
     "output_type": "stream",
     "text": [
      "2023-06-11 22:04:47 INFO     number of non-linear solutions 1\n",
      "2023-06-11 22:04:47 INFO     res [{fn: p, fp: -p, tn: n + p, tp: 0}]\n",
      "2023-06-11 22:04:47 INFO     Linear solution failed nonlinear term: 1/(fp + p + tp)\n"
     ]
    },
    {
     "name": "stdout",
     "output_type": "stream",
     "text": [
      "f1_plus ba\n"
     ]
    },
    {
     "name": "stderr",
     "output_type": "stream",
     "text": [
      "2023-06-11 22:04:47 INFO     number of non-linear solutions 1\n",
      "2023-06-11 22:04:47 INFO     res [{fn: (-2.0*ba*f1_plus*n*p + 2.0*f1_plus*n*p + 2.0*f1_plus*p**2 - 2.0*p**2)/(f1_plus*n + f1_plus*p - 2.0*p), fp: (-2.0*ba*f1_plus*n*p + 4.0*ba*n*p - 2.0*n*p)/(f1_plus*n + f1_plus*p - 2.0*p), tn: (2.0*ba*f1_plus*n*p - 4.0*ba*n*p + f1_plus*n**2 + f1_plus*n*p)/(f1_plus*n + f1_plus*p - 2.0*p), tp: (2.0*ba*f1_plus*n*p - f1_plus*n*p - f1_plus*p**2)/(f1_plus*n + f1_plus*p - 2.0*p)}]\n",
      "2023-06-11 22:04:47 INFO     Linear solution failed nonlinear term: 1/(fp + p + tp)\n"
     ]
    },
    {
     "name": "stdout",
     "output_type": "stream",
     "text": [
      "f1_minus fm\n"
     ]
    },
    {
     "name": "stderr",
     "output_type": "stream",
     "text": [
      "2023-06-11 22:04:48 INFO     number of non-linear solutions 2\n",
      "2023-06-11 22:04:48 INFO     res [{fn: -fm*sqrt(p*(2*f1_minus**2*n + f1_minus**2*p - 6*f1_minus*n - 2*f1_minus*p + fm**2*p + 4*n))/(f1_minus - 2) + p*(f1_minus + fm**2 - 2)/(f1_minus - 2), fp: (2*f1_minus**2*n + f1_minus**2*p + f1_minus*fm**2*p - f1_minus*fm*sqrt(p*(2*f1_minus**2*n + f1_minus**2*p - 6*f1_minus*n - 2*f1_minus*p + fm**2*p + 4*n)) - 6*f1_minus*n - 2*f1_minus*p + 4*n)/(f1_minus**2 - 4*f1_minus + 4), tn: f1_minus*(-f1_minus*n - f1_minus*p - fm**2*p + fm*sqrt(p*(2*f1_minus**2*n + f1_minus**2*p - 6*f1_minus*n - 2*f1_minus*p + fm**2*p + 4*n)) + 2*n + 2*p)/(f1_minus**2 - 4*f1_minus + 4), tp: fm*(-fm*p + sqrt(p*(2*f1_minus**2*n + f1_minus**2*p - 6*f1_minus*n - 2*f1_minus*p + fm**2*p + 4*n)))/(f1_minus - 2)}, {fn: fm*sqrt(p*(2*f1_minus**2*n + f1_minus**2*p - 6*f1_minus*n - 2*f1_minus*p + fm**2*p + 4*n))/(f1_minus - 2) + p*(f1_minus + fm**2 - 2)/(f1_minus - 2), fp: (2*f1_minus**2*n + f1_minus**2*p + f1_minus*fm**2*p + f1_minus*fm*sqrt(p*(2*f1_minus**2*n + f1_minus**2*p - 6*f1_minus*n - 2*f1_minus*p + fm**2*p + 4*n)) - 6*f1_minus*n - 2*f1_minus*p + 4*n)/(f1_minus**2 - 4*f1_minus + 4), tn: f1_minus*(-f1_minus*n - f1_minus*p - fm**2*p - fm*sqrt(p*(2*f1_minus**2*n + f1_minus**2*p - 6*f1_minus*n - 2*f1_minus*p + fm**2*p + 4*n)) + 2*n + 2*p)/(f1_minus**2 - 4*f1_minus + 4), tp: fm*(-fm*p - sqrt(p*(2*f1_minus**2*n + f1_minus**2*p - 6*f1_minus*n - 2*f1_minus*p + fm**2*p + 4*n)))/(f1_minus - 2)}]\n",
      "2023-06-11 22:04:48 INFO     Linear solution failed nonlinear term: 1/(fn + n + tn)\n"
     ]
    },
    {
     "name": "stdout",
     "output_type": "stream",
     "text": [
      "f1_minus bm\n"
     ]
    },
    {
     "name": "stderr",
     "output_type": "stream",
     "text": [
      "2023-06-11 22:04:48 INFO     number of non-linear solutions 1\n",
      "2023-06-11 22:04:48 INFO     res [{fn: (-bm*f1_minus*n*p + 2*bm*n*p - f1_minus*n*p)/(f1_minus*n + f1_minus*p - 2*n), fp: (-bm*f1_minus*n*p + 2*f1_minus*n**2 + f1_minus*n*p - 2*n**2)/(f1_minus*n + f1_minus*p - 2*n), tn: (bm*f1_minus*n*p - f1_minus*n**2)/(f1_minus*n + f1_minus*p - 2*n), tp: (bm*f1_minus*n*p - 2*bm*n*p + 2*f1_minus*n*p + f1_minus*p**2 - 2*n*p)/(f1_minus*n + f1_minus*p - 2*n)}]\n",
      "2023-06-11 22:04:48 INFO     Linear solution failed nonlinear term: 1/(fn + n + tn)\n"
     ]
    },
    {
     "name": "stdout",
     "output_type": "stream",
     "text": [
      "f1_minus pt\n"
     ]
    },
    {
     "name": "stderr",
     "output_type": "stream",
     "text": [
      "2023-06-11 22:04:49 INFO     number of non-linear solutions 2\n",
      "2023-06-11 22:04:49 INFO     res [{fn: -f1_minus*n*p/(f1_minus*n + f1_minus*p - 2*n), fp: n*(2*f1_minus*n + f1_minus*p - 2*n)/(f1_minus*n + f1_minus*p - 2*n), tn: -f1_minus*n**2/(f1_minus*n + f1_minus*p - 2*n), tp: p*(2*f1_minus*n + f1_minus*p - 2*n)/(f1_minus*n + f1_minus*p - 2*n)}, {fn: n*p*(-f1_minus*pt**2 + 4*f1_minus*pt - 2*f1_minus - 4*pt + 2)/(f1_minus*n*pt**2 + f1_minus*p*pt**2 - 2*f1_minus*p*pt + f1_minus*p - 2*n*pt**2), fp: n*pt**2*(2*f1_minus*n + f1_minus*p - 2*n)/(f1_minus*n*pt**2 + f1_minus*p*pt**2 - 2*f1_minus*p*pt + f1_minus*p - 2*n*pt**2), tn: f1_minus*n*(-n*pt**2 - 2*p*pt + p)/(f1_minus*n*pt**2 + f1_minus*p*pt**2 - 2*f1_minus*p*pt + f1_minus*p - 2*n*pt**2), tp: p*(f1_minus*n*pt**2 + f1_minus*p*pt**2 - 2*f1_minus*p*pt + f1_minus*p - 2*n*pt**2 + n*(f1_minus*pt**2 - 4*f1_minus*pt + 2*f1_minus + 4*pt - 2))/(f1_minus*n*pt**2 + f1_minus*p*pt**2 - 2*f1_minus*p*pt + f1_minus*p - 2*n*pt**2)}]\n",
      "2023-06-11 22:04:49 INFO     Linear solution failed nonlinear term: 1/(fn + n + tn)\n"
     ]
    },
    {
     "name": "stdout",
     "output_type": "stream",
     "text": [
      "f1_minus lrp\n"
     ]
    },
    {
     "name": "stderr",
     "output_type": "stream",
     "text": [
      "2023-06-11 22:04:49 INFO     number of non-linear solutions 1\n",
      "2023-06-11 22:04:49 INFO     res [{fn: (-2*f1_minus*lrp*n*p + f1_minus*n*p + 2*lrp*n*p - 2*n*p)/(f1_minus*lrp*p + f1_minus*n - 2*n), fp: (2*f1_minus*n**2 + f1_minus*n*p - 2*n**2)/(f1_minus*lrp*p + f1_minus*n - 2*n), tn: (f1_minus*lrp*n*p - f1_minus*n**2 - f1_minus*n*p)/(f1_minus*lrp*p + f1_minus*n - 2*n), tp: (2*f1_minus*lrp*n*p + f1_minus*lrp*p**2 - 2*lrp*n*p)/(f1_minus*lrp*p + f1_minus*n - 2*n)}]\n",
      "2023-06-11 22:04:49 INFO     Linear solution failed nonlinear term: 1/(fn + n + tn)\n"
     ]
    },
    {
     "name": "stdout",
     "output_type": "stream",
     "text": [
      "f1_minus lrn\n"
     ]
    },
    {
     "name": "stderr",
     "output_type": "stream",
     "text": [
      "2023-06-11 22:04:49 INFO     number of non-linear solutions 1\n",
      "2023-06-11 22:04:49 INFO     res [{fn: -f1_minus*lrn*n*p/(f1_minus*lrn*p + f1_minus*n - 2*n), fp: (f1_minus*lrn*n*p + 2*f1_minus*n**2 - 2*n**2)/(f1_minus*lrn*p + f1_minus*n - 2*n), tn: -f1_minus*n**2/(f1_minus*lrn*p + f1_minus*n - 2*n), tp: (f1_minus*lrn*n*p + f1_minus*lrn*p**2 + f1_minus*n*p - 2*n*p)/(f1_minus*lrn*p + f1_minus*n - 2*n)}]\n",
      "2023-06-11 22:04:49 INFO     Linear solution failed nonlinear term: 1/(fn + n + tn)\n"
     ]
    },
    {
     "name": "stdout",
     "output_type": "stream",
     "text": [
      "f1_minus mk\n"
     ]
    },
    {
     "name": "stderr",
     "output_type": "stream",
     "text": [
      "2023-06-11 22:04:51 INFO     number of non-linear solutions 2\n",
      "2023-06-11 22:04:51 INFO     res [{fn: -(f1_minus - 2)*sqrt(f1_minus**2*n**2 + 2*f1_minus**2*n*p + f1_minus**2*p**2 - 12*f1_minus*mk*n**2 - 16*f1_minus*mk*n*p - 4*f1_minus*mk*p**2 - 4*f1_minus*n**2 - 4*f1_minus*n*p + 4*mk**2*n**2 + 8*mk**2*n*p + 4*mk**2*p**2 + 8*mk*n**2 + 8*mk*n*p + 4*n**2)/(8*mk) + (f1_minus**2*n + f1_minus**2*p - 6*f1_minus*mk*n - 2*f1_minus*mk*p - 4*f1_minus*n - 2*f1_minus*p + 4*mk*n + 4*mk*p + 4*n)/(8*mk), fp: (f1_minus**2*n + f1_minus**2*p - 6*f1_minus*mk*n - 2*f1_minus*mk*p - 2*f1_minus*n - f1_minus*sqrt(f1_minus**2*n**2 + 2*f1_minus**2*n*p + f1_minus**2*p**2 - 12*f1_minus*mk*n**2 - 16*f1_minus*mk*n*p - 4*f1_minus*mk*p**2 - 4*f1_minus*n**2 - 4*f1_minus*n*p + 4*mk**2*n**2 + 8*mk**2*n*p + 4*mk**2*p**2 + 8*mk*n**2 + 8*mk*n*p + 4*n**2) + 8*mk*n)/(8*mk), tn: f1_minus*(-f1_minus*n - f1_minus*p + 6*mk*n + 2*mk*p + 2*n + sqrt(f1_minus**2*n**2 + 2*f1_minus**2*n*p + f1_minus**2*p**2 - 12*f1_minus*mk*n**2 - 16*f1_minus*mk*n*p - 4*f1_minus*mk*p**2 - 4*f1_minus*n**2 - 4*f1_minus*n*p + 4*mk**2*n**2 + 8*mk**2*n*p + 4*mk**2*p**2 + 8*mk*n**2 + 8*mk*n*p + 4*n**2))/(8*mk), tp: (-f1_minus**2*n - f1_minus**2*p + 6*f1_minus*mk*n + 2*f1_minus*mk*p + 4*f1_minus*n + 2*f1_minus*p + f1_minus*sqrt(f1_minus**2*n**2 + 2*f1_minus**2*n*p + f1_minus**2*p**2 - 12*f1_minus*mk*n**2 - 16*f1_minus*mk*n*p - 4*f1_minus*mk*p**2 - 4*f1_minus*n**2 - 4*f1_minus*n*p + 4*mk**2*n**2 + 8*mk**2*n*p + 4*mk**2*p**2 + 8*mk*n**2 + 8*mk*n*p + 4*n**2) - 4*mk*n + 4*mk*p - 4*n - 2*sqrt(f1_minus**2*n**2 + 2*f1_minus**2*n*p + f1_minus**2*p**2 - 12*f1_minus*mk*n**2 - 16*f1_minus*mk*n*p - 4*f1_minus*mk*p**2 - 4*f1_minus*n**2 - 4*f1_minus*n*p + 4*mk**2*n**2 + 8*mk**2*n*p + 4*mk**2*p**2 + 8*mk*n**2 + 8*mk*n*p + 4*n**2))/(8*mk)}, {fn: (f1_minus - 2)*sqrt(f1_minus**2*n**2 + 2*f1_minus**2*n*p + f1_minus**2*p**2 - 12*f1_minus*mk*n**2 - 16*f1_minus*mk*n*p - 4*f1_minus*mk*p**2 - 4*f1_minus*n**2 - 4*f1_minus*n*p + 4*mk**2*n**2 + 8*mk**2*n*p + 4*mk**2*p**2 + 8*mk*n**2 + 8*mk*n*p + 4*n**2)/(8*mk) + (f1_minus**2*n + f1_minus**2*p - 6*f1_minus*mk*n - 2*f1_minus*mk*p - 4*f1_minus*n - 2*f1_minus*p + 4*mk*n + 4*mk*p + 4*n)/(8*mk), fp: (f1_minus**2*n + f1_minus**2*p - 6*f1_minus*mk*n - 2*f1_minus*mk*p - 2*f1_minus*n + f1_minus*sqrt(f1_minus**2*n**2 + 2*f1_minus**2*n*p + f1_minus**2*p**2 - 12*f1_minus*mk*n**2 - 16*f1_minus*mk*n*p - 4*f1_minus*mk*p**2 - 4*f1_minus*n**2 - 4*f1_minus*n*p + 4*mk**2*n**2 + 8*mk**2*n*p + 4*mk**2*p**2 + 8*mk*n**2 + 8*mk*n*p + 4*n**2) + 8*mk*n)/(8*mk), tn: f1_minus*(-f1_minus*n - f1_minus*p + 6*mk*n + 2*mk*p + 2*n - sqrt(f1_minus**2*n**2 + 2*f1_minus**2*n*p + f1_minus**2*p**2 - 12*f1_minus*mk*n**2 - 16*f1_minus*mk*n*p - 4*f1_minus*mk*p**2 - 4*f1_minus*n**2 - 4*f1_minus*n*p + 4*mk**2*n**2 + 8*mk**2*n*p + 4*mk**2*p**2 + 8*mk*n**2 + 8*mk*n*p + 4*n**2))/(8*mk), tp: (-f1_minus**2*n - f1_minus**2*p + 6*f1_minus*mk*n + 2*f1_minus*mk*p + 4*f1_minus*n + 2*f1_minus*p - f1_minus*sqrt(f1_minus**2*n**2 + 2*f1_minus**2*n*p + f1_minus**2*p**2 - 12*f1_minus*mk*n**2 - 16*f1_minus*mk*n*p - 4*f1_minus*mk*p**2 - 4*f1_minus*n**2 - 4*f1_minus*n*p + 4*mk**2*n**2 + 8*mk**2*n*p + 4*mk**2*p**2 + 8*mk*n**2 + 8*mk*n*p + 4*n**2) - 4*mk*n + 4*mk*p - 4*n + 2*sqrt(f1_minus**2*n**2 + 2*f1_minus**2*n*p + f1_minus**2*p**2 - 12*f1_minus*mk*n**2 - 16*f1_minus*mk*n*p - 4*f1_minus*mk*p**2 - 4*f1_minus*n**2 - 4*f1_minus*n*p + 4*mk**2*n**2 + 8*mk**2*n*p + 4*mk**2*p**2 + 8*mk*n**2 + 8*mk*n*p + 4*n**2))/(8*mk)}]\n",
      "2023-06-11 22:04:51 INFO     Linear solution failed nonlinear term: 1/(fn + n + tn)\n"
     ]
    },
    {
     "name": "stdout",
     "output_type": "stream",
     "text": [
      "f1_minus dor\n"
     ]
    },
    {
     "name": "stderr",
     "output_type": "stream",
     "text": [
      "2023-06-11 22:04:52 INFO     number of non-linear solutions 2\n",
      "2023-06-11 22:04:52 INFO     res [{fn: -(2*dor*f1_minus*n - 2*dor*n - f1_minus*n + f1_minus*p)/(2*f1_minus*(dor - 1)) - sqrt(4*dor**2*f1_minus**2*n**2 - 8*dor**2*f1_minus*n**2 + 4*dor**2*n**2 - 4*dor*f1_minus**2*n**2 + 4*dor*f1_minus*n**2 - 4*dor*f1_minus*n*p + f1_minus**2*n**2 + 2*f1_minus**2*n*p + f1_minus**2*p**2)/(2*f1_minus*(dor - 1)), fp: (dor*f1_minus*n - dor*n - 3*f1_minus*n/2 - f1_minus*p/2 + 2*n - sqrt(4*dor**2*f1_minus**2*n**2 - 8*dor**2*f1_minus*n**2 + 4*dor**2*n**2 - 4*dor*f1_minus**2*n**2 + 4*dor*f1_minus*n**2 - 4*dor*f1_minus*n*p + f1_minus**2*n**2 + 2*f1_minus**2*n*p + f1_minus**2*p**2)/2)/(dor*f1_minus - 2*dor - f1_minus + 2), tn: (-2*dor*n + f1_minus*n + f1_minus*p + sqrt(4*dor**2*f1_minus**2*n**2 - 8*dor**2*f1_minus*n**2 + 4*dor**2*n**2 - 4*dor*f1_minus**2*n**2 + 4*dor*f1_minus*n**2 - 4*dor*f1_minus*n*p + f1_minus**2*n**2 + 2*f1_minus**2*n*p + f1_minus**2*p**2))/(2*(dor*f1_minus - 2*dor - f1_minus + 2)), tp: (dor*f1_minus*n + dor*f1_minus*p - dor*n - f1_minus*n/2 - f1_minus*p/2 + sqrt(4*dor**2*f1_minus**2*n**2 - 8*dor**2*f1_minus*n**2 + 4*dor**2*n**2 - 4*dor*f1_minus**2*n**2 + 4*dor*f1_minus*n**2 - 4*dor*f1_minus*n*p + f1_minus**2*n**2 + 2*f1_minus**2*n*p + f1_minus**2*p**2)/2)/(f1_minus*(dor - 1))}, {fn: -(2*dor*f1_minus*n - 2*dor*n - f1_minus*n + f1_minus*p)/(2*f1_minus*(dor - 1)) + sqrt(4*dor**2*f1_minus**2*n**2 - 8*dor**2*f1_minus*n**2 + 4*dor**2*n**2 - 4*dor*f1_minus**2*n**2 + 4*dor*f1_minus*n**2 - 4*dor*f1_minus*n*p + f1_minus**2*n**2 + 2*f1_minus**2*n*p + f1_minus**2*p**2)/(2*f1_minus*(dor - 1)), fp: (dor*f1_minus*n - dor*n - 3*f1_minus*n/2 - f1_minus*p/2 + 2*n + sqrt(4*dor**2*f1_minus**2*n**2 - 8*dor**2*f1_minus*n**2 + 4*dor**2*n**2 - 4*dor*f1_minus**2*n**2 + 4*dor*f1_minus*n**2 - 4*dor*f1_minus*n*p + f1_minus**2*n**2 + 2*f1_minus**2*n*p + f1_minus**2*p**2)/2)/(dor*f1_minus - 2*dor - f1_minus + 2), tn: (-2*dor*n + f1_minus*n + f1_minus*p - sqrt(4*dor**2*f1_minus**2*n**2 - 8*dor**2*f1_minus*n**2 + 4*dor**2*n**2 - 4*dor*f1_minus**2*n**2 + 4*dor*f1_minus*n**2 - 4*dor*f1_minus*n*p + f1_minus**2*n**2 + 2*f1_minus**2*n*p + f1_minus**2*p**2))/(2*(dor*f1_minus - 2*dor - f1_minus + 2)), tp: (dor*f1_minus*n + dor*f1_minus*p - dor*n - f1_minus*n/2 - f1_minus*p/2 - sqrt(4*dor**2*f1_minus**2*n**2 - 8*dor**2*f1_minus*n**2 + 4*dor**2*n**2 - 4*dor*f1_minus**2*n**2 + 4*dor*f1_minus*n**2 - 4*dor*f1_minus*n*p + f1_minus**2*n**2 + 2*f1_minus**2*n*p + f1_minus**2*p**2)/2)/(f1_minus*(dor - 1))}]\n",
      "2023-06-11 22:04:52 INFO     Linear solution failed nonlinear term: 1/(fn + n + tn)\n"
     ]
    },
    {
     "name": "stdout",
     "output_type": "stream",
     "text": [
      "f1_minus mcc\n"
     ]
    },
    {
     "name": "stderr",
     "output_type": "stream",
     "text": [
      "2023-06-11 22:04:55 INFO     number of non-linear solutions 2\n",
      "2023-06-11 22:04:55 INFO     res [{fn: n*(mcc*sqrt(-p*(2*f1_minus**2*n + f1_minus**2*p - 2*f1_minus*n - mcc**2*p))*(f1_minus - 2)*(n + p) - p*(f1_minus**2*n + f1_minus**2*p + 3*f1_minus*mcc**2*n + f1_minus*mcc**2*p - 2*f1_minus*n - 2*mcc**2*n - 2*mcc**2*p))/(f1_minus**2*n**2 + 2*f1_minus**2*n*p + f1_minus**2*p**2 - 4*f1_minus*n**2 - 4*f1_minus*n*p + 4*mcc**2*n*p + 4*n**2), fp: n*(2*f1_minus**2*n**2 + 3*f1_minus**2*n*p + f1_minus**2*p**2 - 3*f1_minus*mcc**2*n*p - f1_minus*mcc**2*p**2 + f1_minus*mcc*n*sqrt(p*(-2*f1_minus**2*n - f1_minus**2*p + 2*f1_minus*n + mcc**2*p)) + f1_minus*mcc*p*sqrt(p*(-2*f1_minus**2*n - f1_minus**2*p + 2*f1_minus*n + mcc**2*p)) - 6*f1_minus*n**2 - 4*f1_minus*n*p + 4*mcc**2*n*p + 4*n**2)/(f1_minus**2*n**2 + 2*f1_minus**2*n*p + f1_minus**2*p**2 - 4*f1_minus*n**2 - 4*f1_minus*n*p + 4*mcc**2*n*p + 4*n**2), tn: f1_minus*n*(-f1_minus*n**2 - f1_minus*n*p + 3*mcc**2*n*p + mcc**2*p**2 - mcc*n*sqrt(p*(-2*f1_minus**2*n - f1_minus**2*p + 2*f1_minus*n + mcc**2*p)) - mcc*p*sqrt(p*(-2*f1_minus**2*n - f1_minus**2*p + 2*f1_minus*n + mcc**2*p)) + 2*n**2)/(f1_minus**2*n**2 + 2*f1_minus**2*n*p + f1_minus**2*p**2 - 4*f1_minus*n**2 - 4*f1_minus*n*p + 4*mcc**2*n*p + 4*n**2), tp: (-n*(mcc*sqrt(-p*(2*f1_minus**2*n + f1_minus**2*p - 2*f1_minus*n - mcc**2*p))*(f1_minus - 2)*(n + p) - p*(f1_minus**2*n + f1_minus**2*p + 3*f1_minus*mcc**2*n + f1_minus*mcc**2*p - 2*f1_minus*n - 2*mcc**2*n - 2*mcc**2*p)) + p*(f1_minus**2*n**2 + 2*f1_minus**2*n*p + f1_minus**2*p**2 - 4*f1_minus*n**2 - 4*f1_minus*n*p + 4*mcc**2*n*p + 4*n**2))/(f1_minus**2*n**2 + 2*f1_minus**2*n*p + f1_minus**2*p**2 - 4*f1_minus*n**2 - 4*f1_minus*n*p + 4*mcc**2*n*p + 4*n**2)}, {fn: -n*(mcc*sqrt(-p*(2*f1_minus**2*n + f1_minus**2*p - 2*f1_minus*n - mcc**2*p))*(f1_minus - 2)*(n + p) + p*(f1_minus**2*n + f1_minus**2*p + 3*f1_minus*mcc**2*n + f1_minus*mcc**2*p - 2*f1_minus*n - 2*mcc**2*n - 2*mcc**2*p))/(f1_minus**2*n**2 + 2*f1_minus**2*n*p + f1_minus**2*p**2 - 4*f1_minus*n**2 - 4*f1_minus*n*p + 4*mcc**2*n*p + 4*n**2), fp: n*(2*f1_minus**2*n**2 + 3*f1_minus**2*n*p + f1_minus**2*p**2 - 3*f1_minus*mcc**2*n*p - f1_minus*mcc**2*p**2 - f1_minus*mcc*n*sqrt(p*(-2*f1_minus**2*n - f1_minus**2*p + 2*f1_minus*n + mcc**2*p)) - f1_minus*mcc*p*sqrt(p*(-2*f1_minus**2*n - f1_minus**2*p + 2*f1_minus*n + mcc**2*p)) - 6*f1_minus*n**2 - 4*f1_minus*n*p + 4*mcc**2*n*p + 4*n**2)/(f1_minus**2*n**2 + 2*f1_minus**2*n*p + f1_minus**2*p**2 - 4*f1_minus*n**2 - 4*f1_minus*n*p + 4*mcc**2*n*p + 4*n**2), tn: f1_minus*n*(-f1_minus*n**2 - f1_minus*n*p + 3*mcc**2*n*p + mcc**2*p**2 + mcc*n*sqrt(p*(-2*f1_minus**2*n - f1_minus**2*p + 2*f1_minus*n + mcc**2*p)) + mcc*p*sqrt(p*(-2*f1_minus**2*n - f1_minus**2*p + 2*f1_minus*n + mcc**2*p)) + 2*n**2)/(f1_minus**2*n**2 + 2*f1_minus**2*n*p + f1_minus**2*p**2 - 4*f1_minus*n**2 - 4*f1_minus*n*p + 4*mcc**2*n*p + 4*n**2), tp: (n*(mcc*sqrt(-p*(2*f1_minus**2*n + f1_minus**2*p - 2*f1_minus*n - mcc**2*p))*(f1_minus - 2)*(n + p) + p*(f1_minus**2*n + f1_minus**2*p + 3*f1_minus*mcc**2*n + f1_minus*mcc**2*p - 2*f1_minus*n - 2*mcc**2*n - 2*mcc**2*p)) + p*(f1_minus**2*n**2 + 2*f1_minus**2*n*p + f1_minus**2*p**2 - 4*f1_minus*n**2 - 4*f1_minus*n*p + 4*mcc**2*n*p + 4*n**2))/(f1_minus**2*n**2 + 2*f1_minus**2*n*p + f1_minus**2*p**2 - 4*f1_minus*n**2 - 4*f1_minus*n*p + 4*mcc**2*n*p + 4*n**2)}]\n",
      "2023-06-11 22:04:55 INFO     Linear solution failed nonlinear term: 1/(fn + n + tn)\n"
     ]
    },
    {
     "name": "stdout",
     "output_type": "stream",
     "text": [
      "f1_minus ji\n"
     ]
    },
    {
     "name": "stderr",
     "output_type": "stream",
     "text": [
      "2023-06-11 22:04:55 INFO     number of non-linear solutions 1\n",
      "2023-06-11 22:04:55 INFO     res [{fn: (-2*f1_minus*ji*n - f1_minus*ji*p + f1_minus*p + 2*ji*n + 2*ji*p - 2*p)/(f1_minus*ji + f1_minus - 2), fp: (-f1_minus*ji*p + 2*f1_minus*n + f1_minus*p - 2*n)/(f1_minus*ji + f1_minus - 2), tn: (f1_minus*ji*n + f1_minus*ji*p - f1_minus*n - f1_minus*p)/(f1_minus*ji + f1_minus - 2), tp: (2*f1_minus*ji*n + 2*f1_minus*ji*p - 2*ji*n - 2*ji*p)/(f1_minus*ji + f1_minus - 2)}]\n",
      "2023-06-11 22:04:55 INFO     Linear solution failed nonlinear term: 1/(fn + n + tn)\n"
     ]
    },
    {
     "name": "stdout",
     "output_type": "stream",
     "text": [
      "f1_minus ba\n"
     ]
    },
    {
     "name": "stderr",
     "output_type": "stream",
     "text": [
      "2023-06-11 22:04:55 INFO     number of non-linear solutions 1\n",
      "2023-06-11 22:04:55 INFO     res [{fn: (-2.0*ba*f1_minus*n*p + 4.0*ba*n*p - 2.0*n*p)/(f1_minus*n + f1_minus*p - 2.0*n), fp: (-2.0*ba*f1_minus*n*p + 2.0*f1_minus*n**2 + 2.0*f1_minus*n*p - 2.0*n**2)/(f1_minus*n + f1_minus*p - 2.0*n), tn: (2.0*ba*f1_minus*n*p - f1_minus*n**2 - f1_minus*n*p)/(f1_minus*n + f1_minus*p - 2.0*n), tp: (2.0*ba*f1_minus*n*p - 4.0*ba*n*p + f1_minus*n*p + f1_minus*p**2)/(f1_minus*n + f1_minus*p - 2.0*n)}]\n",
      "2023-06-11 22:04:55 INFO     Linear solution failed nonlinear term: 1/(fn + n + tn)\n"
     ]
    },
    {
     "name": "stdout",
     "output_type": "stream",
     "text": [
      "fm bm\n"
     ]
    },
    {
     "name": "stderr",
     "output_type": "stream",
     "text": [
      "2023-06-11 22:04:56 INFO     number of non-linear solutions 2\n",
      "2023-06-11 22:04:56 INFO     res [{fn: -fm**2*n/2 - fm**2*p/2 - fm*sqrt(-4*bm*n*p + fm**2*n**2 + 2*fm**2*n*p + fm**2*p**2)/2 + p, fp: n*(-2*bm*p + fm**2*n + fm**2*p + fm*sqrt(-4*bm*n*p + fm**2*n**2 + 2*fm**2*n*p + fm**2*p**2))/(2*p), tn: n*(2*bm*p - fm**2*n - fm**2*p - fm*sqrt(-4*bm*n*p + fm**2*n**2 + 2*fm**2*n*p + fm**2*p**2) + 2*p)/(2*p), tp: fm*(fm*n + fm*p + sqrt(-4*bm*n*p + fm**2*n**2 + 2*fm**2*n*p + fm**2*p**2))/2}, {fn: -fm**2*n/2 - fm**2*p/2 + fm*sqrt(-4*bm*n*p + fm**2*n**2 + 2*fm**2*n*p + fm**2*p**2)/2 + p, fp: n*(-2*bm*p + fm**2*n + fm**2*p - fm*sqrt(-4*bm*n*p + fm**2*n**2 + 2*fm**2*n*p + fm**2*p**2))/(2*p), tn: n*(2*bm*p - fm**2*n - fm**2*p + fm*sqrt(-4*bm*n*p + fm**2*n**2 + 2*fm**2*n*p + fm**2*p**2) + 2*p)/(2*p), tp: fm*(fm*n + fm*p - sqrt(-4*bm*n*p + fm**2*n**2 + 2*fm**2*n*p + fm**2*p**2))/2}]\n",
      "2023-06-11 22:04:56 INFO     Linear solution failed nonlinear term: sqrt(tp**2/(p*(fp + tp)))\n"
     ]
    },
    {
     "name": "stdout",
     "output_type": "stream",
     "text": [
      "fm pt\n"
     ]
    },
    {
     "name": "stderr",
     "output_type": "stream",
     "text": [
      "2023-06-11 22:04:57 INFO     number of non-linear solutions 3\n",
      "2023-06-11 22:04:57 INFO     res [{fn: p, fp: 0, tn: n, tp: 0}, {fn: (fm**2*(-n*pt**2 - p*pt**2 + 2*p*pt - p) + p*(pt**2 - 2*pt + 1))/(pt**2 - 2*pt + 1), fp: fm**2*n*pt**2*(n*pt**2 + p*pt**2 - 2*p*pt + p)/(p*(pt**4 - 4*pt**3 + 6*pt**2 - 4*pt + 1)), tn: n*(-fm**2*n*pt**4 - fm**2*p*pt**4 + 2*fm**2*p*pt**3 - fm**2*p*pt**2 + p*pt**4 - 4*p*pt**3 + 6*p*pt**2 - 4*p*pt + p)/(p*(pt**4 - 4*pt**3 + 6*pt**2 - 4*pt + 1)), tp: fm**2*(n*pt**2 + p*pt**2 - 2*p*pt + p)/(pt**2 - 2*pt + 1)}, {fn: -fm**2*(n + p) + p, fp: fm**2*n*(n + p)/p, tn: n*(-fm**2*n - fm**2*p + p)/p, tp: fm**2*(n + p)}]\n",
      "2023-06-11 22:04:57 INFO     Linear solution failed nonlinear term: sqrt(tp**2/(p*(fp + tp)))\n"
     ]
    },
    {
     "name": "stdout",
     "output_type": "stream",
     "text": [
      "fm lrp\n"
     ]
    },
    {
     "name": "stderr",
     "output_type": "stream",
     "text": [
      "2023-06-11 22:04:57 INFO     number of non-linear solutions 2\n",
      "2023-06-11 22:04:57 INFO     res [{fn: p, fp: 0, tn: n, tp: 0}, {fn: (-fm**2*lrp*p - fm**2*n + lrp*p)/lrp, fp: fm**2*n*(lrp*p + n)/(lrp**2*p), tn: -n*(fm**2*lrp*p + fm**2*n - lrp**2*p)/(lrp**2*p), tp: fm**2*(lrp*p + n)/lrp}]\n",
      "2023-06-11 22:04:57 INFO     Linear solution failed nonlinear term: sqrt(tp**2/(p*(fp + tp)))\n"
     ]
    },
    {
     "name": "stdout",
     "output_type": "stream",
     "text": [
      "fm lrn\n"
     ]
    },
    {
     "name": "stderr",
     "output_type": "stream",
     "text": [
      "2023-06-11 22:04:58 INFO     number of non-linear solutions 2\n",
      "2023-06-11 22:04:58 INFO     res [{fn: -fm*sqrt(fm**2*lrn**2*p**2 + 2*fm**2*lrn*n*p + fm**2*n**2 + 4*lrn**2*n*p - 4*lrn*n*p)/(2*lrn) - (fm**2*lrn*p + fm**2*n - 2*lrn*p)/(2*lrn), fp: n*(fm**2*lrn*p + fm**2*n + fm*sqrt(fm**2*lrn**2*p**2 + 2*fm**2*lrn*n*p + fm**2*n**2 + 4*lrn**2*n*p - 4*lrn*n*p) + 2*lrn**2*p - 2*lrn*p)/(2*lrn**2*p), tn: n*(-fm**2*lrn*p - fm**2*n - fm*sqrt(fm**2*lrn**2*p**2 + 2*fm**2*lrn*n*p + fm**2*n**2 + 4*lrn**2*n*p - 4*lrn*n*p) + 2*lrn*p)/(2*lrn**2*p), tp: fm*(fm*lrn*p + fm*n + sqrt(fm**2*lrn**2*p**2 + 2*fm**2*lrn*n*p + fm**2*n**2 + 4*lrn**2*n*p - 4*lrn*n*p))/(2*lrn)}, {fn: fm*sqrt(fm**2*lrn**2*p**2 + 2*fm**2*lrn*n*p + fm**2*n**2 + 4*lrn**2*n*p - 4*lrn*n*p)/(2*lrn) - (fm**2*lrn*p + fm**2*n - 2*lrn*p)/(2*lrn), fp: n*(fm**2*lrn*p + fm**2*n - fm*sqrt(fm**2*lrn**2*p**2 + 2*fm**2*lrn*n*p + fm**2*n**2 + 4*lrn**2*n*p - 4*lrn*n*p) + 2*lrn**2*p - 2*lrn*p)/(2*lrn**2*p), tn: n*(-fm**2*lrn*p - fm**2*n + fm*sqrt(fm**2*lrn**2*p**2 + 2*fm**2*lrn*n*p + fm**2*n**2 + 4*lrn**2*n*p - 4*lrn*n*p) + 2*lrn*p)/(2*lrn**2*p), tp: fm*(fm*lrn*p + fm*n - sqrt(fm**2*lrn**2*p**2 + 2*fm**2*lrn*n*p + fm**2*n**2 + 4*lrn**2*n*p - 4*lrn*n*p))/(2*lrn)}]\n",
      "2023-06-11 22:04:58 INFO     Linear solution failed nonlinear term: sqrt(tp**2/(p*(fp + tp)))\n"
     ]
    },
    {
     "name": "stdout",
     "output_type": "stream",
     "text": [
      "fm dor\n"
     ]
    },
    {
     "name": "stderr",
     "output_type": "stream",
     "text": [
      "2023-06-11 22:05:00 INFO     number of non-linear solutions 3\n",
      "2023-06-11 22:05:00 INFO     res [{fn: p, fp: 0, tn: n, tp: 0}, {fn: (-dor*fm**2*p + dor*p + fm**2*p - 2*p - sqrt(dor**2*fm**4*p**2 - 2*dor**2*fm**2*p**2 + dor**2*p**2 - 2*dor*fm**4*p**2 - 4*dor*fm**2*n*p + 2*dor*fm**2*p**2 + fm**4*p**2 + 4*fm**2*n*p))/(2*dor - 2), fp: (-dor**2*fm**2*p + dor**2*p - 2*dor*fm**2*n + dor*fm**2*p + dor*sqrt(p*(dor**2*fm**4*p - 2*dor**2*fm**2*p + dor**2*p - 2*dor*fm**4*p - 4*dor*fm**2*n + 2*dor*fm**2*p + fm**4*p + 4*fm**2*n)) + 2*fm**2*n)/(2*fm**2*(dor**2 - 2*dor + 1)), tn: dor*(2*dor*fm**2*n + dor*fm**2*p - dor*p - 2*fm**2*n - fm**2*p - sqrt(p*(dor**2*fm**4*p - 2*dor**2*fm**2*p + dor**2*p - 2*dor*fm**4*p - 4*dor*fm**2*n + 2*dor*fm**2*p + fm**4*p + 4*fm**2*n)))/(2*fm**2*(dor**2 - 2*dor + 1)), tp: (dor*fm**2*p + dor*p - fm**2*p + sqrt(p*(dor**2*fm**4*p - 2*dor**2*fm**2*p + dor**2*p - 2*dor*fm**4*p - 4*dor*fm**2*n + 2*dor*fm**2*p + fm**4*p + 4*fm**2*n)))/(2*(dor - 1))}, {fn: (-dor*fm**2*p + dor*p + fm**2*p - 2*p + sqrt(dor**2*fm**4*p**2 - 2*dor**2*fm**2*p**2 + dor**2*p**2 - 2*dor*fm**4*p**2 - 4*dor*fm**2*n*p + 2*dor*fm**2*p**2 + fm**4*p**2 + 4*fm**2*n*p))/(2*dor - 2), fp: (-dor**2*fm**2*p + dor**2*p - 2*dor*fm**2*n + dor*fm**2*p - dor*sqrt(p*(dor**2*fm**4*p - 2*dor**2*fm**2*p + dor**2*p - 2*dor*fm**4*p - 4*dor*fm**2*n + 2*dor*fm**2*p + fm**4*p + 4*fm**2*n)) + 2*fm**2*n)/(2*fm**2*(dor**2 - 2*dor + 1)), tn: dor*(2*dor*fm**2*n + dor*fm**2*p - dor*p - 2*fm**2*n - fm**2*p + sqrt(p*(dor**2*fm**4*p - 2*dor**2*fm**2*p + dor**2*p - 2*dor*fm**4*p - 4*dor*fm**2*n + 2*dor*fm**2*p + fm**4*p + 4*fm**2*n)))/(2*fm**2*(dor**2 - 2*dor + 1)), tp: (dor*fm**2*p + dor*p - fm**2*p - sqrt(p*(dor**2*fm**4*p - 2*dor**2*fm**2*p + dor**2*p - 2*dor*fm**4*p - 4*dor*fm**2*n + 2*dor*fm**2*p + fm**4*p + 4*fm**2*n)))/(2*(dor - 1))}]\n",
      "2023-06-11 22:05:00 INFO     Linear solution failed nonlinear term: sqrt(tp**2/(p*(fp + tp)))\n"
     ]
    },
    {
     "name": "stdout",
     "output_type": "stream",
     "text": [
      "fm mcc\n"
     ]
    },
    {
     "name": "stderr",
     "output_type": "stream",
     "text": [
      "2023-06-11 22:05:03 INFO     number of non-linear solutions 3\n",
      "2023-06-11 22:05:03 INFO     res [{fn: p, fp: 0, tn: n, tp: 0}, {fn: (-fm*(fm*p*(n + p) - mcc*sqrt(-n*p*(n + p)*(fm**2*n + fm**2*p - mcc**2*n - p))) + p*(mcc**2*n + p))/(mcc**2*n + p), fp: -(fm*p*(n + p) - mcc*sqrt(-n*p*(n + p)*(fm**2*n + fm**2*p - mcc**2*n - p)))*(-fm*p*(n + p) + fm*p*(mcc**2*n + p) + mcc*sqrt(-n*p*(n + p)*(fm**2*n + fm**2*p - mcc**2*n - p)))/(p*(mcc**2*n + p)**2), tn: (fm*p*(mcc**2*n + p)*(fm*p*(n + p) - mcc*sqrt(-n*p*(n + p)*(fm**2*n + fm**2*p - mcc**2*n - p))) + n*p*(mcc**2*n + p)**2 - (fm*p*(n + p) - mcc*sqrt(-n*p*(n + p)*(fm**2*n + fm**2*p - mcc**2*n - p)))**2)/(p*(mcc**2*n + p)**2), tp: fm*(fm*p*(n + p) - mcc*sqrt(-n*p*(n + p)*(fm**2*n + fm**2*p - mcc**2*n - p)))/(mcc**2*n + p)}, {fn: (-fm*(fm*p*(n + p) + mcc*sqrt(-n*p*(n + p)*(fm**2*n + fm**2*p - mcc**2*n - p))) + p*(mcc**2*n + p))/(mcc**2*n + p), fp: (fm*p*(n + p) + mcc*sqrt(-n*p*(n + p)*(fm**2*n + fm**2*p - mcc**2*n - p)))*(fm*p*(n + p) - fm*p*(mcc**2*n + p) + mcc*sqrt(-n*p*(n + p)*(fm**2*n + fm**2*p - mcc**2*n - p)))/(p*(mcc**2*n + p)**2), tn: (fm*p*(mcc**2*n + p)*(fm*p*(n + p) + mcc*sqrt(-n*p*(n + p)*(fm**2*n + fm**2*p - mcc**2*n - p))) + n*p*(mcc**2*n + p)**2 - (fm*p*(n + p) + mcc*sqrt(-n*p*(n + p)*(fm**2*n + fm**2*p - mcc**2*n - p)))**2)/(p*(mcc**2*n + p)**2), tp: fm*(fm*p*(n + p) + mcc*sqrt(-n*p*(n + p)*(fm**2*n + fm**2*p - mcc**2*n - p)))/(mcc**2*n + p)}]\n",
      "2023-06-11 22:05:03 INFO     Linear solution failed nonlinear term: sqrt(tp**2/(p*(fp + tp)))\n"
     ]
    },
    {
     "name": "stdout",
     "output_type": "stream",
     "text": [
      "fm ji\n"
     ]
    },
    {
     "name": "stderr",
     "output_type": "stream",
     "text": [
      "2023-06-11 22:05:04 INFO     number of non-linear solutions 2\n",
      "2023-06-11 22:05:04 INFO     res [{fn: -fm*p*sqrt((fm*ji + fm - 2*ji)*(fm*ji + fm + 2*ji))/(2*ji) - p*(fm**2*ji + fm**2 - 2*ji)/(2*ji), fp: p*(fm**2*ji + fm**2 + fm*sqrt(fm**2*ji**2 + 2*fm**2*ji + fm**2 - 4*ji**2) - 2*ji**2)/(2*ji**2), tn: -fm**2*p/(2*ji) - fm**2*p/(2*ji**2) - fm*p*sqrt(fm**2*ji**2 + 2*fm**2*ji + fm**2 - 4*ji**2)/(2*ji**2) + n + p, tp: fm*p*(fm*ji + fm + sqrt(fm**2*ji**2 + 2*fm**2*ji + fm**2 - 4*ji**2))/(2*ji)}, {fn: fm*p*sqrt((fm*ji + fm - 2*ji)*(fm*ji + fm + 2*ji))/(2*ji) - p*(fm**2*ji + fm**2 - 2*ji)/(2*ji), fp: p*(fm**2*ji + fm**2 - fm*sqrt(fm**2*ji**2 + 2*fm**2*ji + fm**2 - 4*ji**2) - 2*ji**2)/(2*ji**2), tn: -fm**2*p/(2*ji) - fm**2*p/(2*ji**2) + fm*p*sqrt(fm**2*ji**2 + 2*fm**2*ji + fm**2 - 4*ji**2)/(2*ji**2) + n + p, tp: fm*p*(fm*ji + fm - sqrt(fm**2*ji**2 + 2*fm**2*ji + fm**2 - 4*ji**2))/(2*ji)}]\n",
      "2023-06-11 22:05:04 INFO     Linear solution failed nonlinear term: sqrt(tp**2/(p*(fp + tp)))\n"
     ]
    },
    {
     "name": "stdout",
     "output_type": "stream",
     "text": [
      "fm ba\n"
     ]
    },
    {
     "name": "stderr",
     "output_type": "stream",
     "text": [
      "2023-06-11 22:05:05 INFO     number of non-linear solutions 2\n",
      "2023-06-11 22:05:05 INFO     res [{fn: -0.5*fm**2*n - 0.5*fm**2*p - 1.4142135623731*fm*sqrt(-ba*n*p + 0.125*fm**2*n**2 + 0.25*fm**2*n*p + 0.125*fm**2*p**2 + 0.5*n*p) + p, fp: 0.5*n*(-4.0*ba*p + fm**2*n + fm**2*p + 2.82842712474619*fm*sqrt(-ba*n*p + 0.125*fm**2*n**2 + 0.25*fm**2*n*p + 0.125*fm**2*p**2 + 0.5*n*p) + 2.0*p)/p, tn: 0.5*n*(4.0*ba*p - fm**2*n - fm**2*p - 2.82842712474619*fm*sqrt(-ba*n*p + 0.125*fm**2*n**2 + 0.25*fm**2*n*p + 0.125*fm**2*p**2 + 0.5*n*p))/p, tp: 0.5*fm*(fm*n + fm*p + 2.82842712474619*sqrt(-ba*n*p + 0.125*fm**2*n**2 + 0.25*fm**2*n*p + 0.125*fm**2*p**2 + 0.5*n*p))}, {fn: -0.5*fm**2*n - 0.5*fm**2*p + 1.4142135623731*fm*sqrt(-ba*n*p + 0.125*fm**2*n**2 + 0.25*fm**2*n*p + 0.125*fm**2*p**2 + 0.5*n*p) + p, fp: 0.5*n*(-4.0*ba*p + fm**2*n + fm**2*p - 2.82842712474619*fm*sqrt(-ba*n*p + 0.125*fm**2*n**2 + 0.25*fm**2*n*p + 0.125*fm**2*p**2 + 0.5*n*p) + 2.0*p)/p, tn: 0.5*n*(4.0*ba*p - fm**2*n - fm**2*p + 2.82842712474619*fm*sqrt(-ba*n*p + 0.125*fm**2*n**2 + 0.25*fm**2*n*p + 0.125*fm**2*p**2 + 0.5*n*p))/p, tp: 0.5*fm*(fm*n + fm*p - 2.82842712474619*sqrt(-ba*n*p + 0.125*fm**2*n**2 + 0.25*fm**2*n*p + 0.125*fm**2*p**2 + 0.5*n*p))}]\n",
      "2023-06-11 22:05:05 INFO     Linear solution failed nonlinear term: sqrt(tp**2/(p*(fp + tp)))\n"
     ]
    },
    {
     "name": "stdout",
     "output_type": "stream",
     "text": [
      "bm pt\n"
     ]
    },
    {
     "name": "stderr",
     "output_type": "stream",
     "text": [
      "2023-06-11 22:05:05 INFO     number of non-linear solutions 1\n",
      "2023-06-11 22:05:05 INFO     res [{fn: p*(bm*pt**2 - 2*bm*pt + bm + 2*pt - 1)/(2*pt - 1), fp: -bm*n*pt**2/(2*pt - 1), tn: n*(bm*pt**2 + 2*pt - 1)/(2*pt - 1), tp: bm*p*(-pt**2 + 2*pt - 1)/(2*pt - 1)}]\n",
      "2023-06-11 22:05:05 INFO     Linear solution failed nonlinear term: 1/(-fp/n + tp/p)\n"
     ]
    },
    {
     "name": "stdout",
     "output_type": "stream",
     "text": [
      "bm lrp\n"
     ]
    },
    {
     "name": "stderr",
     "output_type": "stream",
     "text": [
      "2023-06-11 22:05:05 INFO     number of non-linear solutions 1\n",
      "2023-06-11 22:05:05 INFO     res [{fn: (-bm*lrp*p + lrp*p - p)/(lrp - 1), fp: bm*n/(lrp - 1), tn: (-bm*n + lrp*n - n)/(lrp - 1), tp: bm*lrp*p/(lrp - 1)}]\n",
      "2023-06-11 22:05:05 INFO     Linear solution failed nonlinear term: 1/fp\n"
     ]
    },
    {
     "name": "stdout",
     "output_type": "stream",
     "text": [
      "bm lrn\n"
     ]
    },
    {
     "name": "stderr",
     "output_type": "stream",
     "text": [
      "2023-06-11 22:05:05 INFO     number of non-linear solutions 1\n",
      "2023-06-11 22:05:05 INFO     res [{fn: -bm*lrn*p/(lrn - 1), fp: (bm*n + lrn*n - n)/(lrn - 1), tn: -bm*n/(lrn - 1), tp: (bm*lrn*p + lrn*p - p)/(lrn - 1)}]\n",
      "2023-06-11 22:05:05 INFO     Linear solution failed nonlinear term: 1/tn\n"
     ]
    },
    {
     "name": "stdout",
     "output_type": "stream",
     "text": [
      "bm mk\n"
     ]
    },
    {
     "name": "stderr",
     "output_type": "stream",
     "text": [
      "2023-06-11 22:05:07 INFO     number of non-linear solutions 2\n",
      "2023-06-11 22:05:07 INFO     res [{fn: p*(-2*bm*n + n + p)/(2*(n + p)) - p*sqrt(mk*(-4*bm*n*p + mk*n**2 + 2*mk*n*p + mk*p**2))*(n + p)/(2*mk*(n**2 + 2*n*p + p**2)), fp: n*(-2*bm*mk*p + mk*n + mk*p + sqrt(mk*(-4*bm*n*p + mk*n**2 + 2*mk*n*p + mk*p**2)))/(2*mk*(n + p)), tn: n*(2*bm*mk*p + mk*n + mk*p - sqrt(mk*(-4*bm*n*p + mk*n**2 + 2*mk*n*p + mk*p**2)))/(2*mk*(n + p)), tp: p*(2*bm*mk*n + mk*n + mk*p + sqrt(mk*(-4*bm*n*p + mk*n**2 + 2*mk*n*p + mk*p**2)))/(2*mk*(n + p))}, {fn: p*(-2*bm*n + n + p)/(2*(n + p)) + p*sqrt(mk*(-4*bm*n*p + mk*n**2 + 2*mk*n*p + mk*p**2))*(n + p)/(2*mk*(n**2 + 2*n*p + p**2)), fp: n*(-2*bm*mk*p + mk*n + mk*p - sqrt(mk*(-4*bm*n*p + mk*n**2 + 2*mk*n*p + mk*p**2)))/(2*mk*(n + p)), tn: n*(2*bm*mk*p + mk*n + mk*p + sqrt(mk*(-4*bm*n*p + mk*n**2 + 2*mk*n*p + mk*p**2)))/(2*mk*(n + p)), tp: p*(2*bm*mk*n + mk*n + mk*p - sqrt(mk*(-4*bm*n*p + mk*n**2 + 2*mk*n*p + mk*p**2)))/(2*mk*(n + p))}]\n",
      "2023-06-11 22:05:07 INFO     Linear solution failed nonlinear term: 1/(fn + tn)\n"
     ]
    },
    {
     "name": "stdout",
     "output_type": "stream",
     "text": [
      "bm dor\n"
     ]
    },
    {
     "name": "stderr",
     "output_type": "stream",
     "text": [
      "2023-06-11 22:05:07 INFO     number of non-linear solutions 2\n",
      "2023-06-11 22:05:07 INFO     res [{fn: -p*sqrt((dor - 1)*(bm**2*dor - bm**2 - 2*bm*dor - 2*bm + dor - 1))/(2*(dor - 1)) - p*(bm - 1)/2, fp: n*(-bm*dor + bm + dor + sqrt(bm**2*dor**2 - 2*bm**2*dor + bm**2 - 2*bm*dor**2 + 2*bm + dor**2 - 2*dor + 1) - 1)/(2*(dor - 1)), tn: n*(bm*dor - bm + dor - sqrt(bm**2*dor**2 - 2*bm**2*dor + bm**2 - 2*bm*dor**2 + 2*bm + dor**2 - 2*dor + 1) - 1)/(2*(dor - 1)), tp: p*(bm*dor - bm + dor + sqrt(bm**2*dor**2 - 2*bm**2*dor + bm**2 - 2*bm*dor**2 + 2*bm + dor**2 - 2*dor + 1) - 1)/(2*(dor - 1))}, {fn: p*sqrt((dor - 1)*(bm**2*dor - bm**2 - 2*bm*dor - 2*bm + dor - 1))/(2*(dor - 1)) - p*(bm - 1)/2, fp: n*(-bm*dor + bm + dor - sqrt(bm**2*dor**2 - 2*bm**2*dor + bm**2 - 2*bm*dor**2 + 2*bm + dor**2 - 2*dor + 1) - 1)/(2*(dor - 1)), tn: n*(bm*dor - bm + dor + sqrt(bm**2*dor**2 - 2*bm**2*dor + bm**2 - 2*bm*dor**2 + 2*bm + dor**2 - 2*dor + 1) - 1)/(2*(dor - 1)), tp: p*(bm*dor - bm + dor - sqrt(bm**2*dor**2 - 2*bm**2*dor + bm**2 - 2*bm*dor**2 + 2*bm + dor**2 - 2*dor + 1) - 1)/(2*(dor - 1))}]\n",
      "2023-06-11 22:05:07 INFO     Linear solution failed \n",
      "nonlinear cross-term: -tn*tp/(fn*fp)\n"
     ]
    },
    {
     "name": "stdout",
     "output_type": "stream",
     "text": [
      "bm mcc\n"
     ]
    },
    {
     "name": "stderr",
     "output_type": "stream",
     "text": [
      "2023-06-11 22:05:09 INFO     number of non-linear solutions 2\n",
      "2023-06-11 22:05:09 INFO     res [{fn: (-2*bm*n**2*p + n**2*p + n*p**2 - sqrt(-n**2*p**2*(4*bm**2*n*p - mcc**2*(n**2 + 2*n*p + p**2))/mcc**2))/(2*n*(n + p)), fp: (-2*bm*n*p**2 + n**2*p + n*p**2 + sqrt(n**2*p**2*(-4*bm**2*n*p + mcc**2*n**2 + 2*mcc**2*n*p + mcc**2*p**2)/mcc**2))/(2*p*(n + p)), tn: (2*bm*n*p**2 + n**2*p + n*p**2 - sqrt(n**2*p**2*(-4*bm**2*n*p + mcc**2*n**2 + 2*mcc**2*n*p + mcc**2*p**2)/mcc**2))/(2*p*(n + p)), tp: (2*bm*n**2*p + n**2*p + n*p**2 + sqrt(n**2*p**2*(-4*bm**2*n*p + mcc**2*n**2 + 2*mcc**2*n*p + mcc**2*p**2)/mcc**2))/(2*n*(n + p))}, {fn: (-2*bm*n**2*p + n**2*p + n*p**2 + sqrt(-n**2*p**2*(4*bm**2*n*p - mcc**2*(n**2 + 2*n*p + p**2))/mcc**2))/(2*n*(n + p)), fp: (-2*bm*n*p**2 + n**2*p + n*p**2 - sqrt(n**2*p**2*(-4*bm**2*n*p + mcc**2*n**2 + 2*mcc**2*n*p + mcc**2*p**2)/mcc**2))/(2*p*(n + p)), tn: (2*bm*n*p**2 + n**2*p + n*p**2 + sqrt(n**2*p**2*(-4*bm**2*n*p + mcc**2*n**2 + 2*mcc**2*n*p + mcc**2*p**2)/mcc**2))/(2*p*(n + p)), tp: (2*bm*n**2*p + n**2*p + n*p**2 - sqrt(n**2*p**2*(-4*bm**2*n*p + mcc**2*n**2 + 2*mcc**2*n*p + mcc**2*p**2)/mcc**2))/(2*n*(n + p))}]\n",
      "2023-06-11 22:05:09 INFO     Linear solution failed nonlinear term: 1/sqrt(n*p*(fn + tn)*(fp + tp))\n"
     ]
    },
    {
     "name": "stdout",
     "output_type": "stream",
     "text": [
      "bm ji\n"
     ]
    },
    {
     "name": "stderr",
     "output_type": "stream",
     "text": [
      "2023-06-11 22:05:09 INFO     number of non-linear solutions 1\n",
      "2023-06-11 22:05:09 INFO     res [{fn: (bm*ji*n*p - ji*n*p - ji*p**2 + p**2)/(-ji*n + p), fp: (-bm*n*p + ji*n*p)/(-ji*n + p), tn: (bm*n*p - ji*n**2 - ji*n*p + n*p)/(-ji*n + p), tp: (-bm*ji*n*p + ji*p**2)/(-ji*n + p)}]\n",
      "2023-06-11 22:05:09 INFO     Linear solution failed nonlinear term: 1/(fp + p)\n"
     ]
    },
    {
     "name": "stdout",
     "output_type": "stream",
     "text": [
      "bm ba\n"
     ]
    },
    {
     "name": "stderr",
     "output_type": "stream",
     "text": [
      "2023-06-11 22:05:09 INFO     number of non-linear solutions 0\n",
      "2023-06-11 22:05:09 INFO     res []\n",
      "2023-06-11 22:05:09 INFO     number of linear solutions 0\n"
     ]
    },
    {
     "name": "stdout",
     "output_type": "stream",
     "text": [
      "pt lrp\n"
     ]
    },
    {
     "name": "stderr",
     "output_type": "stream",
     "text": [
      "2023-06-11 22:05:10 INFO     number of non-linear solutions 1\n",
      "2023-06-11 22:05:10 INFO     res [{fn: p, fp: 0, tn: n, tp: 0}]\n",
      "2023-06-11 22:05:10 INFO     Linear solution failed nonlinear term: 1/(-fp/n + tp/p)\n"
     ]
    },
    {
     "name": "stdout",
     "output_type": "stream",
     "text": [
      "pt lrn\n"
     ]
    },
    {
     "name": "stderr",
     "output_type": "stream",
     "text": [
      "2023-06-11 22:05:10 INFO     number of non-linear solutions 2\n",
      "2023-06-11 22:05:10 INFO     res [{fn: 0, fp: n, tn: 0, tp: p}, {fn: lrn*p*(2*pt - 1)/(lrn*pt**2 - pt**2 + 2*pt - 1), fp: n*pt**2*(lrn - 1)/(lrn*pt**2 - pt**2 + 2*pt - 1), tn: n*(2*pt - 1)/(lrn*pt**2 - pt**2 + 2*pt - 1), tp: p*(lrn*pt**2 - lrn*(2*pt - 1) - pt**2 + 2*pt - 1)/(lrn*pt**2 - pt**2 + 2*pt - 1)}]\n",
      "2023-06-11 22:05:10 INFO     Linear solution failed nonlinear term: 1/(-fp/n + tp/p)\n"
     ]
    },
    {
     "name": "stdout",
     "output_type": "stream",
     "text": [
      "pt mk\n"
     ]
    },
    {
     "name": "stderr",
     "output_type": "stream",
     "text": [
      "2023-06-11 22:05:48 INFO     number of non-linear solutions 6\n",
      "2023-06-11 22:05:48 INFO     res [{fn: 0, fp: (mk*n - mk*p + p - sqrt(mk**2*n**2 + 2*mk**2*n*p + mk**2*p**2 - 2*mk*n*p - 2*mk*p**2 + p**2))/(2*mk), tn: (mk*n + mk*p - p + sqrt(mk**2*n**2 + 2*mk**2*n*p + mk**2*p**2 - 2*mk*n*p - 2*mk*p**2 + p**2))/(2*mk), tp: p}, {fn: 0, fp: (mk*n - mk*p + p + sqrt(mk**2*n**2 + 2*mk**2*n*p + mk**2*p**2 - 2*mk*n*p - 2*mk*p**2 + p**2))/(2*mk), tn: (mk*n + mk*p - p - sqrt(mk**2*n**2 + 2*mk**2*n*p + mk**2*p**2 - 2*mk*n*p - 2*mk*p**2 + p**2))/(2*mk), tp: p}, {fn: p, fp: (mk*n + mk*p + p - sqrt(mk**2*n**2 + 2*mk**2*n*p + mk**2*p**2 + 2*mk*n*p + 2*mk*p**2 + p**2))/(2*mk), tn: (mk*n - mk*p - p + sqrt(mk**2*n**2 + 2*mk**2*n*p + mk**2*p**2 + 2*mk*n*p + 2*mk*p**2 + p**2))/(2*mk), tp: 0}, {fn: p, fp: (mk*n + mk*p + p + sqrt(mk**2*n**2 + 2*mk**2*n*p + mk**2*p**2 + 2*mk*n*p + 2*mk*p**2 + p**2))/(2*mk), tn: (mk*n - mk*p - p - sqrt(mk**2*n**2 + 2*mk**2*n*p + mk**2*p**2 + 2*mk*n*p + 2*mk*p**2 + p**2))/(2*mk), tp: 0}, {fn: n*p*(2*mk*n*pt**3 - mk*n*pt**2 + 2*mk*p*pt**3 - 5*mk*p*pt**2 + 4*mk*p*pt - mk*p - 2*p*pt**3 + 5*p*pt**2 - 4*p*pt + p)/(mk*(n**2*pt**4 + 2*n*p*pt**4 - 4*n*p*pt**3 + 2*n*p*pt**2 + p**2*pt**4 - 4*p**2*pt**3 + 6*p**2*pt**2 - 4*p**2*pt + p**2)), fp: (-p*(mk*n**2*pt**4 - 2*mk*n**2*pt**3 + mk*n**2*pt**2 + 2*mk*n*p*pt**4 - 6*mk*n*p*pt**3 + 7*mk*n*p*pt**2 - 4*mk*n*p*pt + mk*n*p + mk*p**2*pt**4 - 4*mk*p**2*pt**3 + 6*mk*p**2*pt**2 - 4*mk*p**2*pt + mk*p**2 + 2*n*p*pt**3 - 5*n*p*pt**2 + 4*n*p*pt - n*p) + (mk*n + mk*p + p - sqrt((-4*n*p*(mk*n**2*pt**4 - 2*mk*n**2*pt**3 + mk*n**2*pt**2 + 2*mk*n*p*pt**4 - 6*mk*n*p*pt**3 + 7*mk*n*p*pt**2 - 4*mk*n*p*pt + mk*n*p + mk*p**2*pt**4 - 4*mk*p**2*pt**3 + 6*mk*p**2*pt**2 - 4*mk*p**2*pt + mk*p**2 + 2*n*p*pt**3 - 5*n*p*pt**2 + 4*n*p*pt - n*p) - 4*p**2*(mk*n**2*pt**4 - 2*mk*n**2*pt**3 + mk*n**2*pt**2 + 2*mk*n*p*pt**4 - 6*mk*n*p*pt**3 + 7*mk*n*p*pt**2 - 4*mk*n*p*pt + mk*n*p + mk*p**2*pt**4 - 4*mk*p**2*pt**3 + 6*mk*p**2*pt**2 - 4*mk*p**2*pt + mk*p**2 + 2*n*p*pt**3 - 5*n*p*pt**2 + 4*n*p*pt - n*p) + (mk**2*n**2 + 2*mk**2*n*p + mk**2*p**2 + 2*mk*n*p + 2*mk*p**2 + p**2)*(n**2*pt**4 + 2*n*p*pt**4 - 4*n*p*pt**3 + 2*n*p*pt**2 + p**2*pt**4 - 4*p**2*pt**3 + 6*p**2*pt**2 - 4*p**2*pt + p**2))/(n**2*pt**4 + 2*n*p*pt**4 - 4*n*p*pt**3 + 2*n*p*pt**2 + p**2*pt**4 - 4*p**2*pt**3 + 6*p**2*pt**2 - 4*p**2*pt + p**2)))*(n**2*pt**4 + 2*n*p*pt**4 - 4*n*p*pt**3 + 2*n*p*pt**2 + p**2*pt**4 - 4*p**2*pt**3 + 6*p**2*pt**2 - 4*p**2*pt + p**2)/2)/(mk*(n**2*pt**4 + 2*n*p*pt**4 - 4*n*p*pt**3 + 2*n*p*pt**2 + p**2*pt**4 - 4*p**2*pt**3 + 6*p**2*pt**2 - 4*p**2*pt + p**2)), tn: (2*p*(mk*n**2*pt**4 - 2*mk*n**2*pt**3 + mk*n**2*pt**2 + 2*mk*n*p*pt**4 - 6*mk*n*p*pt**3 + 7*mk*n*p*pt**2 - 4*mk*n*p*pt + mk*n*p + mk*p**2*pt**4 - 4*mk*p**2*pt**3 + 6*mk*p**2*pt**2 - 4*mk*p**2*pt + mk*p**2 + 2*n*p*pt**3 - 5*n*p*pt**2 + 4*n*p*pt - n*p) + sqrt((-4*n*p*(mk*n**2*pt**4 - 2*mk*n**2*pt**3 + mk*n**2*pt**2 + 2*mk*n*p*pt**4 - 6*mk*n*p*pt**3 + 7*mk*n*p*pt**2 - 4*mk*n*p*pt + mk*n*p + mk*p**2*pt**4 - 4*mk*p**2*pt**3 + 6*mk*p**2*pt**2 - 4*mk*p**2*pt + mk*p**2 + 2*n*p*pt**3 - 5*n*p*pt**2 + 4*n*p*pt - n*p) - 4*p**2*(mk*n**2*pt**4 - 2*mk*n**2*pt**3 + mk*n**2*pt**2 + 2*mk*n*p*pt**4 - 6*mk*n*p*pt**3 + 7*mk*n*p*pt**2 - 4*mk*n*p*pt + mk*n*p + mk*p**2*pt**4 - 4*mk*p**2*pt**3 + 6*mk*p**2*pt**2 - 4*mk*p**2*pt + mk*p**2 + 2*n*p*pt**3 - 5*n*p*pt**2 + 4*n*p*pt - n*p) + (mk**2*n**2 + 2*mk**2*n*p + mk**2*p**2 + 2*mk*n*p + 2*mk*p**2 + p**2)*(n**2*pt**4 + 2*n*p*pt**4 - 4*n*p*pt**3 + 2*n*p*pt**2 + p**2*pt**4 - 4*p**2*pt**3 + 6*p**2*pt**2 - 4*p**2*pt + p**2))/(n**2*pt**4 + 2*n*p*pt**4 - 4*n*p*pt**3 + 2*n*p*pt**2 + p**2*pt**4 - 4*p**2*pt**3 + 6*p**2*pt**2 - 4*p**2*pt + p**2))*(n**2*pt**4 + 2*n*p*pt**4 - 4*n*p*pt**3 + 2*n*p*pt**2 + p**2*pt**4 - 4*p**2*pt**3 + 6*p**2*pt**2 - 4*p**2*pt + p**2) + (mk*n - mk*p - p)*(n**2*pt**4 + 2*n*p*pt**4 - 4*n*p*pt**3 + 2*n*p*pt**2 + p**2*pt**4 - 4*p**2*pt**3 + 6*p**2*pt**2 - 4*p**2*pt + p**2))/(2*mk*(n**2*pt**4 + 2*n*p*pt**4 - 4*n*p*pt**3 + 2*n*p*pt**2 + p**2*pt**4 - 4*p**2*pt**3 + 6*p**2*pt**2 - 4*p**2*pt + p**2)), tp: p*(mk*n**2*pt**4 - 2*mk*n**2*pt**3 + mk*n**2*pt**2 + 2*mk*n*p*pt**4 - 6*mk*n*p*pt**3 + 7*mk*n*p*pt**2 - 4*mk*n*p*pt + mk*n*p + mk*p**2*pt**4 - 4*mk*p**2*pt**3 + 6*mk*p**2*pt**2 - 4*mk*p**2*pt + mk*p**2 + 2*n*p*pt**3 - 5*n*p*pt**2 + 4*n*p*pt - n*p)/(mk*(n**2*pt**4 + 2*n*p*pt**4 - 4*n*p*pt**3 + 2*n*p*pt**2 + p**2*pt**4 - 4*p**2*pt**3 + 6*p**2*pt**2 - 4*p**2*pt + p**2))}, {fn: n*p*(2*mk*n*pt**3 - mk*n*pt**2 + 2*mk*p*pt**3 - 5*mk*p*pt**2 + 4*mk*p*pt - mk*p - 2*p*pt**3 + 5*p*pt**2 - 4*p*pt + p)/(mk*(n**2*pt**4 + 2*n*p*pt**4 - 4*n*p*pt**3 + 2*n*p*pt**2 + p**2*pt**4 - 4*p**2*pt**3 + 6*p**2*pt**2 - 4*p**2*pt + p**2)), fp: (-p*(mk*n**2*pt**4 - 2*mk*n**2*pt**3 + mk*n**2*pt**2 + 2*mk*n*p*pt**4 - 6*mk*n*p*pt**3 + 7*mk*n*p*pt**2 - 4*mk*n*p*pt + mk*n*p + mk*p**2*pt**4 - 4*mk*p**2*pt**3 + 6*mk*p**2*pt**2 - 4*mk*p**2*pt + mk*p**2 + 2*n*p*pt**3 - 5*n*p*pt**2 + 4*n*p*pt - n*p) + (mk*n + mk*p + p + sqrt((-4*n*p*(mk*n**2*pt**4 - 2*mk*n**2*pt**3 + mk*n**2*pt**2 + 2*mk*n*p*pt**4 - 6*mk*n*p*pt**3 + 7*mk*n*p*pt**2 - 4*mk*n*p*pt + mk*n*p + mk*p**2*pt**4 - 4*mk*p**2*pt**3 + 6*mk*p**2*pt**2 - 4*mk*p**2*pt + mk*p**2 + 2*n*p*pt**3 - 5*n*p*pt**2 + 4*n*p*pt - n*p) - 4*p**2*(mk*n**2*pt**4 - 2*mk*n**2*pt**3 + mk*n**2*pt**2 + 2*mk*n*p*pt**4 - 6*mk*n*p*pt**3 + 7*mk*n*p*pt**2 - 4*mk*n*p*pt + mk*n*p + mk*p**2*pt**4 - 4*mk*p**2*pt**3 + 6*mk*p**2*pt**2 - 4*mk*p**2*pt + mk*p**2 + 2*n*p*pt**3 - 5*n*p*pt**2 + 4*n*p*pt - n*p) + (mk**2*n**2 + 2*mk**2*n*p + mk**2*p**2 + 2*mk*n*p + 2*mk*p**2 + p**2)*(n**2*pt**4 + 2*n*p*pt**4 - 4*n*p*pt**3 + 2*n*p*pt**2 + p**2*pt**4 - 4*p**2*pt**3 + 6*p**2*pt**2 - 4*p**2*pt + p**2))/(n**2*pt**4 + 2*n*p*pt**4 - 4*n*p*pt**3 + 2*n*p*pt**2 + p**2*pt**4 - 4*p**2*pt**3 + 6*p**2*pt**2 - 4*p**2*pt + p**2)))*(n**2*pt**4 + 2*n*p*pt**4 - 4*n*p*pt**3 + 2*n*p*pt**2 + p**2*pt**4 - 4*p**2*pt**3 + 6*p**2*pt**2 - 4*p**2*pt + p**2)/2)/(mk*(n**2*pt**4 + 2*n*p*pt**4 - 4*n*p*pt**3 + 2*n*p*pt**2 + p**2*pt**4 - 4*p**2*pt**3 + 6*p**2*pt**2 - 4*p**2*pt + p**2)), tn: (2*p*(mk*n**2*pt**4 - 2*mk*n**2*pt**3 + mk*n**2*pt**2 + 2*mk*n*p*pt**4 - 6*mk*n*p*pt**3 + 7*mk*n*p*pt**2 - 4*mk*n*p*pt + mk*n*p + mk*p**2*pt**4 - 4*mk*p**2*pt**3 + 6*mk*p**2*pt**2 - 4*mk*p**2*pt + mk*p**2 + 2*n*p*pt**3 - 5*n*p*pt**2 + 4*n*p*pt - n*p) - sqrt((-4*n*p*(mk*n**2*pt**4 - 2*mk*n**2*pt**3 + mk*n**2*pt**2 + 2*mk*n*p*pt**4 - 6*mk*n*p*pt**3 + 7*mk*n*p*pt**2 - 4*mk*n*p*pt + mk*n*p + mk*p**2*pt**4 - 4*mk*p**2*pt**3 + 6*mk*p**2*pt**2 - 4*mk*p**2*pt + mk*p**2 + 2*n*p*pt**3 - 5*n*p*pt**2 + 4*n*p*pt - n*p) - 4*p**2*(mk*n**2*pt**4 - 2*mk*n**2*pt**3 + mk*n**2*pt**2 + 2*mk*n*p*pt**4 - 6*mk*n*p*pt**3 + 7*mk*n*p*pt**2 - 4*mk*n*p*pt + mk*n*p + mk*p**2*pt**4 - 4*mk*p**2*pt**3 + 6*mk*p**2*pt**2 - 4*mk*p**2*pt + mk*p**2 + 2*n*p*pt**3 - 5*n*p*pt**2 + 4*n*p*pt - n*p) + (mk**2*n**2 + 2*mk**2*n*p + mk**2*p**2 + 2*mk*n*p + 2*mk*p**2 + p**2)*(n**2*pt**4 + 2*n*p*pt**4 - 4*n*p*pt**3 + 2*n*p*pt**2 + p**2*pt**4 - 4*p**2*pt**3 + 6*p**2*pt**2 - 4*p**2*pt + p**2))/(n**2*pt**4 + 2*n*p*pt**4 - 4*n*p*pt**3 + 2*n*p*pt**2 + p**2*pt**4 - 4*p**2*pt**3 + 6*p**2*pt**2 - 4*p**2*pt + p**2))*(n**2*pt**4 + 2*n*p*pt**4 - 4*n*p*pt**3 + 2*n*p*pt**2 + p**2*pt**4 - 4*p**2*pt**3 + 6*p**2*pt**2 - 4*p**2*pt + p**2) + (mk*n - mk*p - p)*(n**2*pt**4 + 2*n*p*pt**4 - 4*n*p*pt**3 + 2*n*p*pt**2 + p**2*pt**4 - 4*p**2*pt**3 + 6*p**2*pt**2 - 4*p**2*pt + p**2))/(2*mk*(n**2*pt**4 + 2*n*p*pt**4 - 4*n*p*pt**3 + 2*n*p*pt**2 + p**2*pt**4 - 4*p**2*pt**3 + 6*p**2*pt**2 - 4*p**2*pt + p**2)), tp: p*(mk*n**2*pt**4 - 2*mk*n**2*pt**3 + mk*n**2*pt**2 + 2*mk*n*p*pt**4 - 6*mk*n*p*pt**3 + 7*mk*n*p*pt**2 - 4*mk*n*p*pt + mk*n*p + mk*p**2*pt**4 - 4*mk*p**2*pt**3 + 6*mk*p**2*pt**2 - 4*mk*p**2*pt + mk*p**2 + 2*n*p*pt**3 - 5*n*p*pt**2 + 4*n*p*pt - n*p)/(mk*(n**2*pt**4 + 2*n*p*pt**4 - 4*n*p*pt**3 + 2*n*p*pt**2 + p**2*pt**4 - 4*p**2*pt**3 + 6*p**2*pt**2 - 4*p**2*pt + p**2))}]\n",
      "2023-06-11 22:05:48 INFO     Linear solution failed nonlinear term: 1/(-fp/n + tp/p)\n"
     ]
    },
    {
     "name": "stdout",
     "output_type": "stream",
     "text": [
      "pt dor\n"
     ]
    },
    {
     "name": "stderr",
     "output_type": "stream",
     "text": [
      "2023-06-11 22:05:49 INFO     number of non-linear solutions 4\n",
      "2023-06-11 22:05:49 INFO     res [{fn: 0, fp: n, tn: 0, tp: p}, {fn: p, fp: 0, tn: n, tp: 0}, {fn: -p/(dor - 1), fp: zoo*dor*n*p, tn: zoo*dor*n*p, tp: dor*p/(dor - 1)}, {fn: p*(1 - 2*pt)/(pt**2*(dor - 1)), fp: n*(dor*pt**2 - pt**2 + 2*pt - 1)/(dor*pt**2 - 2*dor*pt + dor - pt**2 + 2*pt - 1), tn: dor*n*(1 - 2*pt)/(dor*pt**2 - 2*dor*pt + dor - pt**2 + 2*pt - 1), tp: p*(dor*pt**2 - pt**2 + 2*pt - 1)/(pt**2*(dor - 1))}]\n",
      "2023-06-11 22:05:49 INFO     Linear solution failed nonlinear term: 1/(-fp/n + tp/p)\n"
     ]
    },
    {
     "name": "stdout",
     "output_type": "stream",
     "text": [
      "pt mcc\n"
     ]
    },
    {
     "name": "stderr",
     "output_type": "stream",
     "text": [
      "2023-06-11 22:05:53 INFO     number of non-linear solutions 4\n",
      "2023-06-11 22:05:53 INFO     res [{fn: p, fp: 0, tn: n, tp: 0}, {fn: (n**2*p + n*p**2 - sqrt(n**2*p**2*(n**2 + 2*n*p + p**2)))/(2*n*(n + p)), fp: (n**2*p + n*p**2 + sqrt(n**2*p**2*(n**2 + 2*n*p + p**2)))/(2*p*(n + p)), tn: (n**2*p + n*p**2 - sqrt(n**2*p**2*(n**2 + 2*n*p + p**2)))/(2*p*(n + p)), tp: (n**2*p + n*p**2 + sqrt(n**2*p**2*(n**2 + 2*n*p + p**2)))/(2*n*(n + p))}, {fn: (n**2*p + n*p**2 + sqrt(n**2*p**2*(n**2 + 2*n*p + p**2)))/(2*n*(n + p)), fp: (n**2*p + n*p**2 - sqrt(n**2*p**2*(n**2 + 2*n*p + p**2)))/(2*p*(n + p)), tn: (n**2*p + n*p**2 + sqrt(n**2*p**2*(n**2 + 2*n*p + p**2)))/(2*p*(n + p)), tp: (n**2*p + n*p**2 - sqrt(n**2*p**2*(n**2 + 2*n*p + p**2)))/(2*n*(n + p))}, {fn: n*p*(2*mcc**2*n*pt**3 - mcc**2*n*pt**2 + 2*mcc**2*p*pt**3 - 5*mcc**2*p*pt**2 + 4*mcc**2*p*pt - mcc**2*p + 4*p*pt**2 - 4*p*pt + p)/(mcc**2*n**2*pt**4 + 2*mcc**2*n*p*pt**4 - 4*mcc**2*n*p*pt**3 + 2*mcc**2*n*p*pt**2 + mcc**2*p**2*pt**4 - 4*mcc**2*p**2*pt**3 + 6*mcc**2*p**2*pt**2 - 4*mcc**2*p**2*pt + mcc**2*p**2 + 4*n*p*pt**2 - 4*n*p*pt + n*p), fp: mcc**2*n*pt**2*(n**2*pt**2 + 2*n*p*pt**2 - 2*n*p*pt + n*p + p**2*pt**2 - 2*p**2*pt + p**2)/(mcc**2*n**2*pt**4 + 2*mcc**2*n*p*pt**4 - 4*mcc**2*n*p*pt**3 + 2*mcc**2*n*p*pt**2 + mcc**2*p**2*pt**4 - 4*mcc**2*p**2*pt**3 + 6*mcc**2*p**2*pt**2 - 4*mcc**2*p**2*pt + mcc**2*p**2 + 4*n*p*pt**2 - 4*n*p*pt + n*p), tn: n*p*(-2*mcc**2*n*pt**3 + mcc**2*n*pt**2 - 2*mcc**2*p*pt**3 + 5*mcc**2*p*pt**2 - 4*mcc**2*p*pt + mcc**2*p + 4*n*pt**2 - 4*n*pt + n)/(mcc**2*n**2*pt**4 + 2*mcc**2*n*p*pt**4 - 4*mcc**2*n*p*pt**3 + 2*mcc**2*n*p*pt**2 + mcc**2*p**2*pt**4 - 4*mcc**2*p**2*pt**3 + 6*mcc**2*p**2*pt**2 - 4*mcc**2*p**2*pt + mcc**2*p**2 + 4*n*p*pt**2 - 4*n*p*pt + n*p), tp: mcc**2*p*(n**2*pt**4 - 2*n**2*pt**3 + n**2*pt**2 + 2*n*p*pt**4 - 6*n*p*pt**3 + 7*n*p*pt**2 - 4*n*p*pt + n*p + p**2*pt**4 - 4*p**2*pt**3 + 6*p**2*pt**2 - 4*p**2*pt + p**2)/(mcc**2*n**2*pt**4 + 2*mcc**2*n*p*pt**4 - 4*mcc**2*n*p*pt**3 + 2*mcc**2*n*p*pt**2 + mcc**2*p**2*pt**4 - 4*mcc**2*p**2*pt**3 + 6*mcc**2*p**2*pt**2 - 4*mcc**2*p**2*pt + mcc**2*p**2 + 4*n*p*pt**2 - 4*n*p*pt + n*p)}]\n",
      "2023-06-11 22:05:53 INFO     Linear solution failed nonlinear term: 1/(-fp/n + tp/p)\n"
     ]
    },
    {
     "name": "stdout",
     "output_type": "stream",
     "text": [
      "pt ji\n"
     ]
    },
    {
     "name": "stderr",
     "output_type": "stream",
     "text": [
      "2023-06-11 22:05:55 INFO     number of non-linear solutions 2\n",
      "2023-06-11 22:05:55 INFO     res [{fn: p*(ji*n + ji*p - p)/(ji*n - p), fp: ji*n*p/(-ji*n + p), tn: n*(ji*n + ji*p - p)/(ji*n - p), tp: ji*p**2/(-ji*n + p)}, {fn: p*(ji*n*pt**2 + ji*p*pt**2 - 2*ji*p*pt + ji*p - p*pt**2 + 2*p*pt - p)/(ji*n*pt**2 - p*pt**2 + 2*p*pt - p), fp: ji*n*p*pt**2/(-ji*n*pt**2 + p*pt**2 - 2*p*pt + p), tn: n*(-ji*n*pt**2 - ji*p*pt**2 + p*pt**2 - 2*p*pt + p)/(-ji*n*pt**2 + p*pt**2 - 2*p*pt + p), tp: ji*p**2*(pt**2 - 2*pt + 1)/(-ji*n*pt**2 + p*pt**2 - 2*p*pt + p)}]\n",
      "2023-06-11 22:05:55 INFO     Linear solution failed nonlinear term: 1/(-fp/n + tp/p)\n"
     ]
    },
    {
     "name": "stdout",
     "output_type": "stream",
     "text": [
      "pt ba\n"
     ]
    },
    {
     "name": "stderr",
     "output_type": "stream",
     "text": [
      "2023-06-11 22:05:56 INFO     number of non-linear solutions 1\n",
      "2023-06-11 22:05:56 INFO     res [{fn: p*(2.0*ba*pt**2 - 4.0*ba*pt + 2.0*ba - pt**2 + 4.0*pt - 2.0)/(2.0*pt - 1.0), fp: n*pt**2*(1.0 - 2.0*ba)/(2.0*pt - 1.0), tn: n*(2.0*ba*pt**2 - pt**2 + 2.0*pt - 1.0)/(2.0*pt - 1.0), tp: p*(-2.0*ba*pt**2 + 4.0*ba*pt - 2.0*ba + pt**2 - 2.0*pt + 1.0)/(2.0*pt - 1.0)}]\n",
      "2023-06-11 22:05:56 INFO     Linear solution failed nonlinear term: 1/(-fp/n + tp/p)\n"
     ]
    },
    {
     "name": "stdout",
     "output_type": "stream",
     "text": [
      "lrp lrn\n"
     ]
    },
    {
     "name": "stderr",
     "output_type": "stream",
     "text": [
      "2023-06-11 22:05:56 INFO     number of non-linear solutions 1\n",
      "2023-06-11 22:05:56 INFO     res [{fn: (-lrn*lrp*p + lrn*p)/(lrn - lrp), fp: (lrn*n - n)/(lrn - lrp), tn: (-lrp*n + n)/(lrn - lrp), tp: (lrn*lrp*p - lrp*p)/(lrn - lrp)}]\n",
      "2023-06-11 22:05:56 INFO     Linear solution failed nonlinear term: 1/fp\n"
     ]
    },
    {
     "name": "stdout",
     "output_type": "stream",
     "text": [
      "lrp mk\n"
     ]
    },
    {
     "name": "stderr",
     "output_type": "stream",
     "text": [
      "2023-06-11 22:05:56 INFO     number of non-linear solutions 2\n",
      "2023-06-11 22:05:56 INFO     res [{fn: p, fp: 0, tn: n, tp: 0}, {fn: (-lrp**2*mk*n*p**2 + lrp**2*n*p**2 - lrp*mk*n**2*p + lrp*mk*n*p**2 - lrp*n*p**2 + mk*n**2*p)/(lrp**2*mk*p**2 + 2*lrp*mk*n*p + mk*n**2), fp: n*(lrp*mk*n*p + lrp*mk*p**2 - lrp*n*p + mk*n**2 + mk*n*p + n*p)/(mk*(lrp*p + n)**2), tn: n*p*(lrp - 1)*(lrp*mk*p + mk*n + n)/(mk*(lrp*p + n)**2), tp: lrp*p*(lrp*mk*n*p + lrp*mk*p**2 - lrp*n*p + mk*n**2 + mk*n*p + n*p)/(mk*(lrp*p + n)**2)}]\n",
      "2023-06-11 22:05:56 INFO     Linear solution failed nonlinear term: 1/fp\n"
     ]
    },
    {
     "name": "stdout",
     "output_type": "stream",
     "text": [
      "lrp dor\n"
     ]
    },
    {
     "name": "stderr",
     "output_type": "stream",
     "text": [
      "2023-06-11 22:05:56 INFO     number of non-linear solutions 2\n",
      "2023-06-11 22:05:56 INFO     res [{fn: p, fp: 0, tn: n, tp: 0}, {fn: (lrp*p - p)/(dor - 1), fp: n*(dor - lrp)/(lrp*(dor - 1)), tn: dor*n*(lrp - 1)/(lrp*(dor - 1)), tp: p*(dor - lrp)/(dor - 1)}]\n",
      "2023-06-11 22:05:56 INFO     Linear solution failed nonlinear term: 1/fp\n"
     ]
    },
    {
     "name": "stdout",
     "output_type": "stream",
     "text": [
      "lrp mcc\n"
     ]
    },
    {
     "name": "stderr",
     "output_type": "stream",
     "text": [
      "2023-06-11 22:05:58 INFO     number of non-linear solutions 2\n",
      "2023-06-11 22:05:58 INFO     res [{fn: p, fp: 0, tn: n, tp: 0}, {fn: n*p*(-lrp**2*mcc**2*p + lrp**2*p - lrp*mcc**2*n + lrp*mcc**2*p - 2*lrp*p + mcc**2*n + p)/(lrp**2*mcc**2*p**2 + lrp**2*n*p + 2*lrp*mcc**2*n*p - 2*lrp*n*p + mcc**2*n**2 + n*p), fp: mcc**2*n*(lrp*n*p + lrp*p**2 + n**2 + n*p)/(lrp**2*mcc**2*p**2 + lrp**2*n*p + 2*lrp*mcc**2*n*p - 2*lrp*n*p + mcc**2*n**2 + n*p), tn: n*p*(lrp**2*mcc**2*p + lrp**2*n + lrp*mcc**2*n - lrp*mcc**2*p - 2*lrp*n - mcc**2*n + n)/(lrp**2*mcc**2*p**2 + lrp**2*n*p + 2*lrp*mcc**2*n*p - 2*lrp*n*p + mcc**2*n**2 + n*p), tp: lrp*mcc**2*p*(lrp*n*p + lrp*p**2 + n**2 + n*p)/(lrp**2*mcc**2*p**2 + lrp**2*n*p + 2*lrp*mcc**2*n*p - 2*lrp*n*p + mcc**2*n**2 + n*p)}]\n",
      "2023-06-11 22:05:58 INFO     Linear solution failed nonlinear term: 1/fp\n"
     ]
    },
    {
     "name": "stdout",
     "output_type": "stream",
     "text": [
      "lrp ji\n"
     ]
    },
    {
     "name": "stderr",
     "output_type": "stream",
     "text": [
      "2023-06-11 22:05:58 INFO     number of non-linear solutions 1\n",
      "2023-06-11 22:05:58 INFO     res [{fn: (-ji*lrp*p**2 - ji*n*p + lrp*p**2)/(-ji*n + lrp*p), fp: ji*n*p/(-ji*n + lrp*p), tn: (-ji*n**2 - ji*n*p + lrp*n*p)/(-ji*n + lrp*p), tp: ji*lrp*p**2/(-ji*n + lrp*p)}]\n",
      "2023-06-11 22:05:58 INFO     Linear solution failed nonlinear term: 1/fp\n"
     ]
    },
    {
     "name": "stdout",
     "output_type": "stream",
     "text": [
      "lrp ba\n"
     ]
    },
    {
     "name": "stderr",
     "output_type": "stream",
     "text": [
      "2023-06-11 22:05:58 INFO     number of non-linear solutions 1\n",
      "2023-06-11 22:05:58 INFO     res [{fn: (-2.0*ba*lrp*p + 2.0*lrp*p - p)/(lrp - 1.0), fp: (2.0*ba*n - n)/(lrp - 1.0), tn: (-2.0*ba*n + lrp*n)/(lrp - 1.0), tp: (2.0*ba*lrp*p - lrp*p)/(lrp - 1.0)}]\n",
      "2023-06-11 22:05:58 INFO     Linear solution failed nonlinear term: 1/fp\n"
     ]
    },
    {
     "name": "stdout",
     "output_type": "stream",
     "text": [
      "lrn mk\n"
     ]
    },
    {
     "name": "stderr",
     "output_type": "stream",
     "text": [
      "2023-06-11 22:05:58 INFO     number of non-linear solutions 2\n",
      "2023-06-11 22:05:58 INFO     res [{fn: 0, fp: n, tn: 0, tp: p}, {fn: lrn*p*(lrn*mk*n*p + lrn*mk*p**2 + lrn*n*p + mk*n**2 + mk*n*p - n*p)/(mk*(lrn*p + n)**2), fp: n*p*(lrn - 1)*(lrn*mk*p + mk*n - n)/(mk*(lrn*p + n)**2), tn: n*(lrn*mk*n*p + lrn*mk*p**2 + lrn*n*p + mk*n**2 + mk*n*p - n*p)/(mk*(lrn*p + n)**2), tp: -n*p*(lrn - 1)*(lrn*mk*p + lrn*p + mk*n)/(mk*(lrn*p + n)**2)}]\n",
      "2023-06-11 22:05:58 INFO     Linear solution failed nonlinear term: 1/tn\n"
     ]
    },
    {
     "name": "stdout",
     "output_type": "stream",
     "text": [
      "lrn dor\n"
     ]
    },
    {
     "name": "stderr",
     "output_type": "stream",
     "text": [
      "2023-06-11 22:05:59 INFO     number of non-linear solutions 2\n",
      "2023-06-11 22:05:59 INFO     res [{fn: 0, fp: n, tn: 0, tp: p}, {fn: p*(dor*lrn - 1)/(dor - 1), fp: -n*(lrn - 1)/(lrn*(dor - 1)), tn: n*(dor*lrn - 1)/(lrn*(dor - 1)), tp: -dor*p*(lrn - 1)/(dor - 1)}]\n",
      "2023-06-11 22:05:59 INFO     Linear solution failed nonlinear term: 1/tn\n"
     ]
    },
    {
     "name": "stdout",
     "output_type": "stream",
     "text": [
      "lrn mcc\n"
     ]
    },
    {
     "name": "stderr",
     "output_type": "stream",
     "text": [
      "2023-06-11 22:06:00 INFO     number of non-linear solutions 2\n",
      "2023-06-11 22:06:00 INFO     res [{fn: 0, fp: n, tn: 0, tp: p}, {fn: lrn*mcc**2*p*(lrn*n*p + lrn*p**2 + n**2 + n*p)/(lrn**2*mcc**2*p**2 + lrn**2*n*p + 2*lrn*mcc**2*n*p - 2*lrn*n*p + mcc**2*n**2 + n*p), fp: n*p*(lrn**2*mcc**2*p + lrn**2*n + lrn*mcc**2*n - lrn*mcc**2*p - 2*lrn*n - mcc**2*n + n)/(lrn**2*mcc**2*p**2 + lrn**2*n*p + 2*lrn*mcc**2*n*p - 2*lrn*n*p + mcc**2*n**2 + n*p), tn: mcc**2*n*(lrn*n*p + lrn*p**2 + n**2 + n*p)/(lrn**2*mcc**2*p**2 + lrn**2*n*p + 2*lrn*mcc**2*n*p - 2*lrn*n*p + mcc**2*n**2 + n*p), tp: n*p*(-lrn**2*mcc**2*p + lrn**2*p - lrn*mcc**2*n + lrn*mcc**2*p - 2*lrn*p + mcc**2*n + p)/(lrn**2*mcc**2*p**2 + lrn**2*n*p + 2*lrn*mcc**2*n*p - 2*lrn*n*p + mcc**2*n**2 + n*p)}]\n",
      "2023-06-11 22:06:00 INFO     Linear solution failed nonlinear term: 1/tn\n"
     ]
    },
    {
     "name": "stdout",
     "output_type": "stream",
     "text": [
      "lrn ji\n"
     ]
    },
    {
     "name": "stderr",
     "output_type": "stream",
     "text": [
      "2023-06-11 22:06:00 INFO     number of non-linear solutions 1\n",
      "2023-06-11 22:06:00 INFO     res [{fn: (-ji*lrn*n*p - ji*lrn*p**2 + lrn*p**2)/(-ji*n + lrn*p), fp: (ji*n*p + lrn*n*p - n*p)/(-ji*n + lrn*p), tn: (-ji*n**2 - ji*n*p + n*p)/(-ji*n + lrn*p), tp: (ji*lrn*n*p + ji*lrn*p**2 - ji*n*p)/(-ji*n + lrn*p)}]\n",
      "2023-06-11 22:06:00 INFO     Linear solution failed nonlinear term: 1/tn\n"
     ]
    },
    {
     "name": "stdout",
     "output_type": "stream",
     "text": [
      "lrn ba\n"
     ]
    },
    {
     "name": "stderr",
     "output_type": "stream",
     "text": [
      "2023-06-11 22:06:00 INFO     number of non-linear solutions 1\n",
      "2023-06-11 22:06:00 INFO     res [{fn: (-2.0*ba*lrn*p + lrn*p)/(lrn - 1.0), fp: (2.0*ba*n + lrn*n - 2.0*n)/(lrn - 1.0), tn: (-2.0*ba*n + n)/(lrn - 1.0), tp: (2.0*ba*lrn*p - p)/(lrn - 1.0)}]\n",
      "2023-06-11 22:06:00 INFO     Linear solution failed nonlinear term: 1/tn\n"
     ]
    },
    {
     "name": "stdout",
     "output_type": "stream",
     "text": [
      "mk dor\n"
     ]
    },
    {
     "name": "stderr",
     "output_type": "stream",
     "text": [
      "2023-06-11 22:06:30 INFO     number of non-linear solutions 4\n",
      "2023-06-11 22:06:30 INFO     res [{fn: 0, fp: n, tn: 0, tp: p}, {fn: p, fp: 0, tn: n, tp: 0}, {fn: (-dor**2*mk*n + dor**2*n - 2*dor*mk*p - 2*dor*n + mk*n + 2*mk*p - n*sqrt(dor**4*mk**2 - 2*dor**4*mk + dor**4 - 4*dor**3*mk**2 + 4*dor**3*mk - 4*dor**3 + 6*dor**2*mk**2 + 6*dor**2 - 4*dor*mk**2 - 4*dor*mk - 4*dor + mk**2 + 2*mk + 1) + n)/(2*dor**2*mk - 4*dor*mk + 2*mk), fp: (-dor**2*mk*p + dor**2*p - 2*dor*mk*n - 2*dor*p + 2*mk*n + mk*p + p*sqrt(dor**4*mk**2 - 2*dor**4*mk + dor**4 - 4*dor**3*mk**2 + 4*dor**3*mk - 4*dor**3 + 6*dor**2*mk**2 + 6*dor**2 - 4*dor*mk**2 - 4*dor*mk - 4*dor + mk**2 + 2*mk + 1) + p)/(2*mk*(dor**2 - 2*dor + 1)), tn: (2*dor**2*mk*n + dor**2*mk*p - dor**2*p - 2*dor*mk*n + 2*dor*p - mk*p - p*sqrt(dor**4*mk**2 - 2*dor**4*mk + dor**4 - 4*dor**3*mk**2 + 4*dor**3*mk - 4*dor**3 + 6*dor**2*mk**2 + 6*dor**2 - 4*dor*mk**2 - 4*dor*mk - 4*dor + mk**2 + 2*mk + 1) - p)/(2*mk*(dor**2 - 2*dor + 1)), tp: (dor**2*mk*n + 2*dor**2*mk*p - dor**2*n - 2*dor*mk*p + 2*dor*n - mk*n + n*sqrt(dor**4*mk**2 - 2*dor**4*mk + dor**4 - 4*dor**3*mk**2 + 4*dor**3*mk - 4*dor**3 + 6*dor**2*mk**2 + 6*dor**2 - 4*dor*mk**2 - 4*dor*mk - 4*dor + mk**2 + 2*mk + 1) - n)/(2*mk*(dor**2 - 2*dor + 1))}, {fn: (-dor**2*mk*n + dor**2*n - 2*dor*mk*p - 2*dor*n + mk*n + 2*mk*p + n*sqrt(dor**4*mk**2 - 2*dor**4*mk + dor**4 - 4*dor**3*mk**2 + 4*dor**3*mk - 4*dor**3 + 6*dor**2*mk**2 + 6*dor**2 - 4*dor*mk**2 - 4*dor*mk - 4*dor + mk**2 + 2*mk + 1) + n)/(2*dor**2*mk - 4*dor*mk + 2*mk), fp: (-dor**2*mk*p + dor**2*p - 2*dor*mk*n - 2*dor*p + 2*mk*n + mk*p - p*sqrt(dor**4*mk**2 - 2*dor**4*mk + dor**4 - 4*dor**3*mk**2 + 4*dor**3*mk - 4*dor**3 + 6*dor**2*mk**2 + 6*dor**2 - 4*dor*mk**2 - 4*dor*mk - 4*dor + mk**2 + 2*mk + 1) + p)/(2*mk*(dor**2 - 2*dor + 1)), tn: (2*dor**2*mk*n + dor**2*mk*p - dor**2*p - 2*dor*mk*n + 2*dor*p - mk*p + p*sqrt(dor**4*mk**2 - 2*dor**4*mk + dor**4 - 4*dor**3*mk**2 + 4*dor**3*mk - 4*dor**3 + 6*dor**2*mk**2 + 6*dor**2 - 4*dor*mk**2 - 4*dor*mk - 4*dor + mk**2 + 2*mk + 1) - p)/(2*mk*(dor**2 - 2*dor + 1)), tp: (dor**2*mk*n + 2*dor**2*mk*p - dor**2*n - 2*dor*mk*p + 2*dor*n - mk*n - n*sqrt(dor**4*mk**2 - 2*dor**4*mk + dor**4 - 4*dor**3*mk**2 + 4*dor**3*mk - 4*dor**3 + 6*dor**2*mk**2 + 6*dor**2 - 4*dor*mk**2 - 4*dor*mk - 4*dor + mk**2 + 2*mk + 1) - n)/(2*mk*(dor**2 - 2*dor + 1))}]\n",
      "2023-06-11 22:06:30 INFO     Linear solution failed nonlinear term: 1/(fn + tn)\n"
     ]
    },
    {
     "name": "stdout",
     "output_type": "stream",
     "text": [
      "mk mcc\n"
     ]
    },
    {
     "name": "stderr",
     "output_type": "stream",
     "text": [
      "2023-06-11 22:06:39 INFO     number of non-linear solutions 8\n",
      "2023-06-11 22:06:39 INFO     res [{fn: 0, fp: (mk*n - mk*p + p - sqrt(mk**2*n**2 + 2*mk**2*n*p + mk**2*p**2 - 2*mk*n*p - 2*mk*p**2 + p**2))/(2*mk), tn: (mk*n + mk*p - p + sqrt(mk**2*n**2 + 2*mk**2*n*p + mk**2*p**2 - 2*mk*n*p - 2*mk*p**2 + p**2))/(2*mk), tp: p}, {fn: 0, fp: (mk*n - mk*p + p + sqrt(mk**2*n**2 + 2*mk**2*n*p + mk**2*p**2 - 2*mk*n*p - 2*mk*p**2 + p**2))/(2*mk), tn: (mk*n + mk*p - p - sqrt(mk**2*n**2 + 2*mk**2*n*p + mk**2*p**2 - 2*mk*n*p - 2*mk*p**2 + p**2))/(2*mk), tp: p}, {fn: p, fp: (mk*n + mk*p + p - sqrt(mk**2*n**2 + 2*mk**2*n*p + mk**2*p**2 + 2*mk*n*p + 2*mk*p**2 + p**2))/(2*mk), tn: (mk*n - mk*p - p + sqrt(mk**2*n**2 + 2*mk**2*n*p + mk**2*p**2 + 2*mk*n*p + 2*mk*p**2 + p**2))/(2*mk), tp: 0}, {fn: p, fp: (mk*n + mk*p + p + sqrt(mk**2*n**2 + 2*mk**2*n*p + mk**2*p**2 + 2*mk*n*p + 2*mk*p**2 + p**2))/(2*mk), tn: (mk*n - mk*p - p - sqrt(mk**2*n**2 + 2*mk**2*n*p + mk**2*p**2 + 2*mk*n*p + 2*mk*p**2 + p**2))/(2*mk), tp: 0}, {fn: p*(-2*mcc**2*n + mk*n + mk*p - sqrt(-4*mcc**2*n*p + mk**2*n**2 + 2*mk**2*n*p + mk**2*p**2))/(2*mk*(n + p)), fp: (-p*(2*mcc**2*n + mk*n + mk*p + sqrt(-4*mcc**2*n*p + mk**2*n**2 + 2*mk**2*n*p + mk**2*p**2)) + (n + p)*(mk*n + mk*p + p - sqrt((-2*n*p*(2*mcc**2*n + mk*n + mk*p + sqrt(-4*mcc**2*n*p + mk**2*n**2 + 2*mk**2*n*p + mk**2*p**2)) - 2*p**2*(2*mcc**2*n + mk*n + mk*p + sqrt(-4*mcc**2*n*p + mk**2*n**2 + 2*mk**2*n*p + mk**2*p**2)) + (n + p)*(mk**2*n**2 + 2*mk**2*n*p + mk**2*p**2 + 2*mk*n*p + 2*mk*p**2 + p**2))/(n + p))))/(2*mk*(n + p)), tn: (p*(2*mcc**2*n + mk*n + mk*p + sqrt(-4*mcc**2*n*p + mk**2*n**2 + 2*mk**2*n*p + mk**2*p**2)) + sqrt((-2*n*p*(2*mcc**2*n + mk*n + mk*p + sqrt(-4*mcc**2*n*p + mk**2*n**2 + 2*mk**2*n*p + mk**2*p**2)) - 2*p**2*(2*mcc**2*n + mk*n + mk*p + sqrt(-4*mcc**2*n*p + mk**2*n**2 + 2*mk**2*n*p + mk**2*p**2)) + (n + p)*(mk**2*n**2 + 2*mk**2*n*p + mk**2*p**2 + 2*mk*n*p + 2*mk*p**2 + p**2))/(n + p))*(n + p) + (n + p)*(mk*n - mk*p - p))/(2*mk*(n + p)), tp: p*(2*mcc**2*n + mk*n + mk*p + sqrt(-4*mcc**2*n*p + mk**2*n**2 + 2*mk**2*n*p + mk**2*p**2))/(2*mk*(n + p))}, {fn: p*(-2*mcc**2*n + mk*n + mk*p - sqrt(-4*mcc**2*n*p + mk**2*n**2 + 2*mk**2*n*p + mk**2*p**2))/(2*mk*(n + p)), fp: (-p*(2*mcc**2*n + mk*n + mk*p + sqrt(-4*mcc**2*n*p + mk**2*n**2 + 2*mk**2*n*p + mk**2*p**2)) + (n + p)*(mk*n + mk*p + p + sqrt((-2*n*p*(2*mcc**2*n + mk*n + mk*p + sqrt(-4*mcc**2*n*p + mk**2*n**2 + 2*mk**2*n*p + mk**2*p**2)) - 2*p**2*(2*mcc**2*n + mk*n + mk*p + sqrt(-4*mcc**2*n*p + mk**2*n**2 + 2*mk**2*n*p + mk**2*p**2)) + (n + p)*(mk**2*n**2 + 2*mk**2*n*p + mk**2*p**2 + 2*mk*n*p + 2*mk*p**2 + p**2))/(n + p))))/(2*mk*(n + p)), tn: (p*(2*mcc**2*n + mk*n + mk*p + sqrt(-4*mcc**2*n*p + mk**2*n**2 + 2*mk**2*n*p + mk**2*p**2)) - sqrt((-2*n*p*(2*mcc**2*n + mk*n + mk*p + sqrt(-4*mcc**2*n*p + mk**2*n**2 + 2*mk**2*n*p + mk**2*p**2)) - 2*p**2*(2*mcc**2*n + mk*n + mk*p + sqrt(-4*mcc**2*n*p + mk**2*n**2 + 2*mk**2*n*p + mk**2*p**2)) + (n + p)*(mk**2*n**2 + 2*mk**2*n*p + mk**2*p**2 + 2*mk*n*p + 2*mk*p**2 + p**2))/(n + p))*(n + p) + (n + p)*(mk*n - mk*p - p))/(2*mk*(n + p)), tp: p*(2*mcc**2*n + mk*n + mk*p + sqrt(-4*mcc**2*n*p + mk**2*n**2 + 2*mk**2*n*p + mk**2*p**2))/(2*mk*(n + p))}, {fn: p*(-2*mcc**2*n + mk*n + mk*p + sqrt(-4*mcc**2*n*p + mk**2*n**2 + 2*mk**2*n*p + mk**2*p**2))/(2*mk*(n + p)), fp: (-p*(2*mcc**2*n + mk*n + mk*p - sqrt(-4*mcc**2*n*p + mk**2*n**2 + 2*mk**2*n*p + mk**2*p**2)) + (n + p)*(mk*n + mk*p + p - sqrt((-2*n*p*(2*mcc**2*n + mk*n + mk*p - sqrt(-4*mcc**2*n*p + mk**2*n**2 + 2*mk**2*n*p + mk**2*p**2)) - 2*p**2*(2*mcc**2*n + mk*n + mk*p - sqrt(-4*mcc**2*n*p + mk**2*n**2 + 2*mk**2*n*p + mk**2*p**2)) + (n + p)*(mk**2*n**2 + 2*mk**2*n*p + mk**2*p**2 + 2*mk*n*p + 2*mk*p**2 + p**2))/(n + p))))/(2*mk*(n + p)), tn: (p*(2*mcc**2*n + mk*n + mk*p - sqrt(-4*mcc**2*n*p + mk**2*n**2 + 2*mk**2*n*p + mk**2*p**2)) + sqrt((-2*n*p*(2*mcc**2*n + mk*n + mk*p - sqrt(-4*mcc**2*n*p + mk**2*n**2 + 2*mk**2*n*p + mk**2*p**2)) - 2*p**2*(2*mcc**2*n + mk*n + mk*p - sqrt(-4*mcc**2*n*p + mk**2*n**2 + 2*mk**2*n*p + mk**2*p**2)) + (n + p)*(mk**2*n**2 + 2*mk**2*n*p + mk**2*p**2 + 2*mk*n*p + 2*mk*p**2 + p**2))/(n + p))*(n + p) + (n + p)*(mk*n - mk*p - p))/(2*mk*(n + p)), tp: p*(2*mcc**2*n + mk*n + mk*p - sqrt(-4*mcc**2*n*p + mk**2*n**2 + 2*mk**2*n*p + mk**2*p**2))/(2*mk*(n + p))}, {fn: p*(-2*mcc**2*n + mk*n + mk*p + sqrt(-4*mcc**2*n*p + mk**2*n**2 + 2*mk**2*n*p + mk**2*p**2))/(2*mk*(n + p)), fp: (-p*(2*mcc**2*n + mk*n + mk*p - sqrt(-4*mcc**2*n*p + mk**2*n**2 + 2*mk**2*n*p + mk**2*p**2)) + (n + p)*(mk*n + mk*p + p + sqrt((-2*n*p*(2*mcc**2*n + mk*n + mk*p - sqrt(-4*mcc**2*n*p + mk**2*n**2 + 2*mk**2*n*p + mk**2*p**2)) - 2*p**2*(2*mcc**2*n + mk*n + mk*p - sqrt(-4*mcc**2*n*p + mk**2*n**2 + 2*mk**2*n*p + mk**2*p**2)) + (n + p)*(mk**2*n**2 + 2*mk**2*n*p + mk**2*p**2 + 2*mk*n*p + 2*mk*p**2 + p**2))/(n + p))))/(2*mk*(n + p)), tn: (p*(2*mcc**2*n + mk*n + mk*p - sqrt(-4*mcc**2*n*p + mk**2*n**2 + 2*mk**2*n*p + mk**2*p**2)) - sqrt((-2*n*p*(2*mcc**2*n + mk*n + mk*p - sqrt(-4*mcc**2*n*p + mk**2*n**2 + 2*mk**2*n*p + mk**2*p**2)) - 2*p**2*(2*mcc**2*n + mk*n + mk*p - sqrt(-4*mcc**2*n*p + mk**2*n**2 + 2*mk**2*n*p + mk**2*p**2)) + (n + p)*(mk**2*n**2 + 2*mk**2*n*p + mk**2*p**2 + 2*mk*n*p + 2*mk*p**2 + p**2))/(n + p))*(n + p) + (n + p)*(mk*n - mk*p - p))/(2*mk*(n + p)), tp: p*(2*mcc**2*n + mk*n + mk*p - sqrt(-4*mcc**2*n*p + mk**2*n**2 + 2*mk**2*n*p + mk**2*p**2))/(2*mk*(n + p))}]\n",
      "2023-06-11 22:06:39 INFO     Linear solution failed nonlinear term: 1/(fn + tn)\n"
     ]
    },
    {
     "name": "stdout",
     "output_type": "stream",
     "text": [
      "mk ji\n"
     ]
    },
    {
     "name": "stderr",
     "output_type": "stream",
     "text": [
      "2023-06-11 22:06:42 INFO     number of non-linear solutions 2\n",
      "2023-06-11 22:06:42 INFO     res [{fn: -ji*sqrt(ji**2*mk**2*n**2 + 2*ji**2*mk**2*n*p + ji**2*mk**2*p**2 - 2*ji**2*mk*n**2 - 6*ji**2*mk*n*p - 4*ji**2*mk*p**2 + ji**2*n**2 + 2*ji*mk**2*n**2 + 4*ji*mk**2*n*p + 2*ji*mk**2*p**2 - 2*ji*mk*n**2 - 4*ji*mk*n*p - 2*ji*mk*p**2 - 2*ji*n*p + mk**2*n**2 + 2*mk**2*n*p + mk**2*p**2 + 2*mk*n*p + 2*mk*p**2 + p**2)/(2*mk*(ji**2 + 2*ji + 1)) - (ji**2*mk*n + ji**2*mk*p - ji**2*n + ji*mk*n - ji*mk*p + ji*p - 2*mk*p)/(2*mk*(ji + 1)**2), fp: (-2*ji**2*mk*p + ji*mk*n - ji*mk*p - ji*n + mk*n + mk*p + p + sqrt(ji**2*mk**2*n**2 + 2*ji**2*mk**2*n*p + ji**2*mk**2*p**2 - 2*ji**2*mk*n**2 - 6*ji**2*mk*n*p - 4*ji**2*mk*p**2 + ji**2*n**2 + 2*ji*mk**2*n**2 + 4*ji*mk**2*n*p + 2*ji*mk**2*p**2 - 2*ji*mk*n**2 - 4*ji*mk*n*p - 2*ji*mk*p**2 - 2*ji*n*p + mk**2*n**2 + 2*mk**2*n*p + mk**2*p**2 + 2*mk*n*p + 2*mk*p**2 + p**2))/(2*mk*(ji**2 + 2*ji + 1)), tn: (2*ji**2*mk*n + 2*ji**2*mk*p + 3*ji*mk*n + ji*mk*p + ji*n + mk*n - mk*p - p - sqrt(ji**2*mk**2*n**2 + 2*ji**2*mk**2*n*p + ji**2*mk**2*p**2 - 2*ji**2*mk*n**2 - 6*ji**2*mk*n*p - 4*ji**2*mk*p**2 + ji**2*n**2 + 2*ji*mk**2*n**2 + 4*ji*mk**2*n*p + 2*ji*mk**2*p**2 - 2*ji*mk*n**2 - 4*ji*mk*n*p - 2*ji*mk*p**2 - 2*ji*n*p + mk**2*n**2 + 2*mk**2*n*p + mk**2*p**2 + 2*mk*n*p + 2*mk*p**2 + p**2))/(2*mk*(ji**2 + 2*ji + 1)), tp: ji*(ji*mk*n + 3*ji*mk*p - ji*n + mk*n + 3*mk*p + p + sqrt(ji**2*mk**2*n**2 + 2*ji**2*mk**2*n*p + ji**2*mk**2*p**2 - 2*ji**2*mk*n**2 - 6*ji**2*mk*n*p - 4*ji**2*mk*p**2 + ji**2*n**2 + 2*ji*mk**2*n**2 + 4*ji*mk**2*n*p + 2*ji*mk**2*p**2 - 2*ji*mk*n**2 - 4*ji*mk*n*p - 2*ji*mk*p**2 - 2*ji*n*p + mk**2*n**2 + 2*mk**2*n*p + mk**2*p**2 + 2*mk*n*p + 2*mk*p**2 + p**2))/(2*mk*(ji**2 + 2*ji + 1))}, {fn: ji*sqrt(ji**2*mk**2*n**2 + 2*ji**2*mk**2*n*p + ji**2*mk**2*p**2 - 2*ji**2*mk*n**2 - 6*ji**2*mk*n*p - 4*ji**2*mk*p**2 + ji**2*n**2 + 2*ji*mk**2*n**2 + 4*ji*mk**2*n*p + 2*ji*mk**2*p**2 - 2*ji*mk*n**2 - 4*ji*mk*n*p - 2*ji*mk*p**2 - 2*ji*n*p + mk**2*n**2 + 2*mk**2*n*p + mk**2*p**2 + 2*mk*n*p + 2*mk*p**2 + p**2)/(2*mk*(ji**2 + 2*ji + 1)) - (ji**2*mk*n + ji**2*mk*p - ji**2*n + ji*mk*n - ji*mk*p + ji*p - 2*mk*p)/(2*mk*(ji + 1)**2), fp: (-2*ji**2*mk*p + ji*mk*n - ji*mk*p - ji*n + mk*n + mk*p + p - sqrt(ji**2*mk**2*n**2 + 2*ji**2*mk**2*n*p + ji**2*mk**2*p**2 - 2*ji**2*mk*n**2 - 6*ji**2*mk*n*p - 4*ji**2*mk*p**2 + ji**2*n**2 + 2*ji*mk**2*n**2 + 4*ji*mk**2*n*p + 2*ji*mk**2*p**2 - 2*ji*mk*n**2 - 4*ji*mk*n*p - 2*ji*mk*p**2 - 2*ji*n*p + mk**2*n**2 + 2*mk**2*n*p + mk**2*p**2 + 2*mk*n*p + 2*mk*p**2 + p**2))/(2*mk*(ji**2 + 2*ji + 1)), tn: (2*ji**2*mk*n + 2*ji**2*mk*p + 3*ji*mk*n + ji*mk*p + ji*n + mk*n - mk*p - p + sqrt(ji**2*mk**2*n**2 + 2*ji**2*mk**2*n*p + ji**2*mk**2*p**2 - 2*ji**2*mk*n**2 - 6*ji**2*mk*n*p - 4*ji**2*mk*p**2 + ji**2*n**2 + 2*ji*mk**2*n**2 + 4*ji*mk**2*n*p + 2*ji*mk**2*p**2 - 2*ji*mk*n**2 - 4*ji*mk*n*p - 2*ji*mk*p**2 - 2*ji*n*p + mk**2*n**2 + 2*mk**2*n*p + mk**2*p**2 + 2*mk*n*p + 2*mk*p**2 + p**2))/(2*mk*(ji**2 + 2*ji + 1)), tp: ji*(ji*mk*n + 3*ji*mk*p - ji*n + mk*n + 3*mk*p + p - sqrt(ji**2*mk**2*n**2 + 2*ji**2*mk**2*n*p + ji**2*mk**2*p**2 - 2*ji**2*mk*n**2 - 6*ji**2*mk*n*p - 4*ji**2*mk*p**2 + ji**2*n**2 + 2*ji*mk**2*n**2 + 4*ji*mk**2*n*p + 2*ji*mk**2*p**2 - 2*ji*mk*n**2 - 4*ji*mk*n*p - 2*ji*mk*p**2 - 2*ji*n*p + mk**2*n**2 + 2*mk**2*n*p + mk**2*p**2 + 2*mk*n*p + 2*mk*p**2 + p**2))/(2*mk*(ji**2 + 2*ji + 1))}]\n",
      "2023-06-11 22:06:42 INFO     Linear solution failed nonlinear term: 1/(fn + tn)\n"
     ]
    },
    {
     "name": "stdout",
     "output_type": "stream",
     "text": [
      "mk ba\n"
     ]
    },
    {
     "name": "stderr",
     "output_type": "stream",
     "text": [
      "2023-06-11 22:06:43 INFO     number of non-linear solutions 2\n",
      "2023-06-11 22:06:43 INFO     res [{fn: 0.5*p*(-4.0*ba*n + 3.0*n + p)/(n + p) - 0.5*p*sqrt(mk*(-8.0*ba*n*p + mk*n**2 + 2.0*mk*n*p + mk*p**2 + 4.0*n*p))*(n + p)/(mk*(n**2 + 2.0*n*p + p**2)), fp: 0.5*n*(-4.0*ba*mk*p + mk*n + 3.0*mk*p + sqrt(mk*(-8.0*ba*n*p + mk*n**2 + 2.0*mk*n*p + mk*p**2 + 4.0*n*p)))/(mk*(n + p)), tn: 0.5*n*(4.0*ba*mk*p + mk*n - mk*p - sqrt(mk*(-8.0*ba*n*p + mk*n**2 + 2.0*mk*n*p + mk*p**2 + 4.0*n*p)))/(mk*(n + p)), tp: 0.5*p*(4.0*ba*mk*n - mk*n + mk*p + sqrt(mk*(-8.0*ba*n*p + mk*n**2 + 2.0*mk*n*p + mk*p**2 + 4.0*n*p)))/(mk*(n + p))}, {fn: 0.5*p*(-4.0*ba*n + 3.0*n + p)/(n + p) + 0.5*p*sqrt(mk*(-8.0*ba*n*p + mk*n**2 + 2.0*mk*n*p + mk*p**2 + 4.0*n*p))*(n + p)/(mk*(n**2 + 2.0*n*p + p**2)), fp: 0.5*n*(-4.0*ba*mk*p + mk*n + 3.0*mk*p - sqrt(mk*(-8.0*ba*n*p + mk*n**2 + 2.0*mk*n*p + mk*p**2 + 4.0*n*p)))/(mk*(n + p)), tn: 0.5*n*(4.0*ba*mk*p + mk*n - mk*p + sqrt(mk*(-8.0*ba*n*p + mk*n**2 + 2.0*mk*n*p + mk*p**2 + 4.0*n*p)))/(mk*(n + p)), tp: 0.5*p*(4.0*ba*mk*n - mk*n + mk*p - sqrt(mk*(-8.0*ba*n*p + mk*n**2 + 2.0*mk*n*p + mk*p**2 + 4.0*n*p)))/(mk*(n + p))}]\n",
      "2023-06-11 22:06:43 INFO     Linear solution failed nonlinear term: 1/(fn + tn)\n"
     ]
    },
    {
     "name": "stdout",
     "output_type": "stream",
     "text": [
      "dor mcc\n"
     ]
    },
    {
     "name": "stderr",
     "output_type": "stream",
     "text": [
      "2023-06-11 22:06:49 INFO     number of non-linear solutions 5\n",
      "2023-06-11 22:06:49 INFO     res [{fn: 0, fp: n, tn: 0, tp: p}, {fn: p, fp: 0, tn: n, tp: 0}, {fn: -p/(dor - 1), fp: zoo*dor*n*p, tn: zoo*dor*n*p, tp: dor*p/(dor - 1)}, {fn: (-dor*mcc**2*n*p + dor*n*p - mcc**2*n*p - 2*mcc**2*p**2 - n*p - sqrt(n*p*(dor**2*mcc**4*n*p - 2*dor**2*mcc**2*n*p + dor**2*n*p - 2*dor*mcc**4*n*p - 4*dor*mcc**2*n**2 - 4*dor*mcc**2*n*p - 4*dor*mcc**2*p**2 - 2*dor*n*p + mcc**4*n*p - 2*mcc**2*n*p + n*p)))/(2*(dor*mcc**2*p + dor*n - mcc**2*p - n)), fp: n*(-dor*mcc**2*n*p - 2*dor*mcc**2*p**2 - dor*n*p - mcc**2*n*p + n*p - sqrt(n*p*(dor**2*mcc**4*n*p - 2*dor**2*mcc**2*n*p + dor**2*n*p - 2*dor*mcc**4*n*p - 4*dor*mcc**2*n**2 - 4*dor*mcc**2*n*p - 4*dor*mcc**2*p**2 - 2*dor*n*p + mcc**4*n*p - 2*mcc**2*n*p + n*p)))/(dor**2*mcc**2*n*p - dor**2*n*p + dor*sqrt(n*p*(dor**2*mcc**4*n*p - 2*dor**2*mcc**2*n*p + dor**2*n*p - 2*dor*mcc**4*n*p - 4*dor*mcc**2*n**2 - 4*dor*mcc**2*n*p - 4*dor*mcc**2*p**2 - 2*dor*n*p + mcc**4*n*p - 2*mcc**2*n*p + n*p)) - mcc**2*n*p + n*p - sqrt(n*p*(dor**2*mcc**4*n*p - 2*dor**2*mcc**2*n*p + dor**2*n*p - 2*dor*mcc**4*n*p - 4*dor*mcc**2*n**2 - 4*dor*mcc**2*n*p - 4*dor*mcc**2*p**2 - 2*dor*n*p + mcc**4*n*p - 2*mcc**2*n*p + n*p))), tn: dor*n*(dor*mcc**2*n*p - dor*n*p + mcc**2*n*p + 2*mcc**2*p**2 + n*p + sqrt(n*p*(dor**2*mcc**4*n*p - 2*dor**2*mcc**2*n*p + dor**2*n*p - 2*dor*mcc**4*n*p - 4*dor*mcc**2*n**2 - 4*dor*mcc**2*n*p - 4*dor*mcc**2*p**2 - 2*dor*n*p + mcc**4*n*p - 2*mcc**2*n*p + n*p)))/(dor**2*mcc**2*n*p - dor**2*n*p + dor*sqrt(n*p*(dor**2*mcc**4*n*p - 2*dor**2*mcc**2*n*p + dor**2*n*p - 2*dor*mcc**4*n*p - 4*dor*mcc**2*n**2 - 4*dor*mcc**2*n*p - 4*dor*mcc**2*p**2 - 2*dor*n*p + mcc**4*n*p - 2*mcc**2*n*p + n*p)) - mcc**2*n*p + n*p - sqrt(n*p*(dor**2*mcc**4*n*p - 2*dor**2*mcc**2*n*p + dor**2*n*p - 2*dor*mcc**4*n*p - 4*dor*mcc**2*n**2 - 4*dor*mcc**2*n*p - 4*dor*mcc**2*p**2 - 2*dor*n*p + mcc**4*n*p - 2*mcc**2*n*p + n*p))), tp: (dor*mcc**2*n*p + 2*dor*mcc**2*p**2 + dor*n*p + mcc**2*n*p - n*p + sqrt(n*p*(dor**2*mcc**4*n*p - 2*dor**2*mcc**2*n*p + dor**2*n*p - 2*dor*mcc**4*n*p - 4*dor*mcc**2*n**2 - 4*dor*mcc**2*n*p - 4*dor*mcc**2*p**2 - 2*dor*n*p + mcc**4*n*p - 2*mcc**2*n*p + n*p)))/(2*(dor*mcc**2*p + dor*n - mcc**2*p - n))}, {fn: (-dor*mcc**2*n*p + dor*n*p - mcc**2*n*p - 2*mcc**2*p**2 - n*p + sqrt(n*p*(dor**2*mcc**4*n*p - 2*dor**2*mcc**2*n*p + dor**2*n*p - 2*dor*mcc**4*n*p - 4*dor*mcc**2*n**2 - 4*dor*mcc**2*n*p - 4*dor*mcc**2*p**2 - 2*dor*n*p + mcc**4*n*p - 2*mcc**2*n*p + n*p)))/(2*(dor*mcc**2*p + dor*n - mcc**2*p - n)), fp: n*(-dor*mcc**2*n*p - 2*dor*mcc**2*p**2 - dor*n*p - mcc**2*n*p + n*p + sqrt(n*p*(dor**2*mcc**4*n*p - 2*dor**2*mcc**2*n*p + dor**2*n*p - 2*dor*mcc**4*n*p - 4*dor*mcc**2*n**2 - 4*dor*mcc**2*n*p - 4*dor*mcc**2*p**2 - 2*dor*n*p + mcc**4*n*p - 2*mcc**2*n*p + n*p)))/(dor**2*mcc**2*n*p - dor**2*n*p - dor*sqrt(n*p*(dor**2*mcc**4*n*p - 2*dor**2*mcc**2*n*p + dor**2*n*p - 2*dor*mcc**4*n*p - 4*dor*mcc**2*n**2 - 4*dor*mcc**2*n*p - 4*dor*mcc**2*p**2 - 2*dor*n*p + mcc**4*n*p - 2*mcc**2*n*p + n*p)) - mcc**2*n*p + n*p + sqrt(n*p*(dor**2*mcc**4*n*p - 2*dor**2*mcc**2*n*p + dor**2*n*p - 2*dor*mcc**4*n*p - 4*dor*mcc**2*n**2 - 4*dor*mcc**2*n*p - 4*dor*mcc**2*p**2 - 2*dor*n*p + mcc**4*n*p - 2*mcc**2*n*p + n*p))), tn: dor*n*(dor*mcc**2*n*p - dor*n*p + mcc**2*n*p + 2*mcc**2*p**2 + n*p - sqrt(n*p*(dor**2*mcc**4*n*p - 2*dor**2*mcc**2*n*p + dor**2*n*p - 2*dor*mcc**4*n*p - 4*dor*mcc**2*n**2 - 4*dor*mcc**2*n*p - 4*dor*mcc**2*p**2 - 2*dor*n*p + mcc**4*n*p - 2*mcc**2*n*p + n*p)))/(dor**2*mcc**2*n*p - dor**2*n*p - dor*sqrt(n*p*(dor**2*mcc**4*n*p - 2*dor**2*mcc**2*n*p + dor**2*n*p - 2*dor*mcc**4*n*p - 4*dor*mcc**2*n**2 - 4*dor*mcc**2*n*p - 4*dor*mcc**2*p**2 - 2*dor*n*p + mcc**4*n*p - 2*mcc**2*n*p + n*p)) - mcc**2*n*p + n*p + sqrt(n*p*(dor**2*mcc**4*n*p - 2*dor**2*mcc**2*n*p + dor**2*n*p - 2*dor*mcc**4*n*p - 4*dor*mcc**2*n**2 - 4*dor*mcc**2*n*p - 4*dor*mcc**2*p**2 - 2*dor*n*p + mcc**4*n*p - 2*mcc**2*n*p + n*p))), tp: (dor*mcc**2*n*p + 2*dor*mcc**2*p**2 + dor*n*p + mcc**2*n*p - n*p - sqrt(n*p*(dor**2*mcc**4*n*p - 2*dor**2*mcc**2*n*p + dor**2*n*p - 2*dor*mcc**4*n*p - 4*dor*mcc**2*n**2 - 4*dor*mcc**2*n*p - 4*dor*mcc**2*p**2 - 2*dor*n*p + mcc**4*n*p - 2*mcc**2*n*p + n*p)))/(2*(dor*mcc**2*p + dor*n - mcc**2*p - n))}]\n",
      "2023-06-11 22:06:49 INFO     Linear solution failed \n",
      "nonlinear cross-term: -tn*tp/(fn*fp)\n"
     ]
    },
    {
     "name": "stdout",
     "output_type": "stream",
     "text": [
      "dor ji\n"
     ]
    },
    {
     "name": "stderr",
     "output_type": "stream",
     "text": [
      "2023-06-11 22:06:50 INFO     number of non-linear solutions 2\n",
      "2023-06-11 22:06:50 INFO     res [{fn: -(dor*ji*p - dor*p - ji*n - ji*p + 2*p)/(2*(dor - 1)) - sqrt(dor**2*ji**2*p**2 - 2*dor**2*ji*p**2 + dor**2*p**2 - 2*dor*ji**2*n*p - 2*dor*ji**2*p**2 - 2*dor*ji*n*p + 2*dor*ji*p**2 + ji**2*n**2 + 2*ji**2*n*p + ji**2*p**2)/(2*(dor - 1)), fp: (-dor*ji*p + dor*p - ji*n + ji*p + sqrt(dor**2*ji**2*p**2 - 2*dor**2*ji*p**2 + dor**2*p**2 - 2*dor*ji**2*n*p - 2*dor*ji**2*p**2 - 2*dor*ji*n*p + 2*dor*ji*p**2 + ji**2*n**2 + 2*ji**2*n*p + ji**2*p**2))/(2*ji*(dor - 1)), tn: (2*dor*ji*n + dor*ji*p - dor*p - ji*n - ji*p - sqrt(dor**2*ji**2*p**2 - 2*dor**2*ji*p**2 + dor**2*p**2 - 2*dor*ji**2*n*p - 2*dor*ji**2*p**2 - 2*dor*ji*n*p + 2*dor*ji*p**2 + ji**2*n**2 + 2*ji**2*n*p + ji**2*p**2))/(2*ji*(dor - 1)), tp: (dor*ji*p + dor*p - ji*n - ji*p + sqrt(dor**2*ji**2*p**2 - 2*dor**2*ji*p**2 + dor**2*p**2 - 2*dor*ji**2*n*p - 2*dor*ji**2*p**2 - 2*dor*ji*n*p + 2*dor*ji*p**2 + ji**2*n**2 + 2*ji**2*n*p + ji**2*p**2))/(2*(dor - 1))}, {fn: -(dor*ji*p - dor*p - ji*n - ji*p + 2*p)/(2*(dor - 1)) + sqrt(dor**2*ji**2*p**2 - 2*dor**2*ji*p**2 + dor**2*p**2 - 2*dor*ji**2*n*p - 2*dor*ji**2*p**2 - 2*dor*ji*n*p + 2*dor*ji*p**2 + ji**2*n**2 + 2*ji**2*n*p + ji**2*p**2)/(2*(dor - 1)), fp: (-dor*ji*p + dor*p - ji*n + ji*p - sqrt(dor**2*ji**2*p**2 - 2*dor**2*ji*p**2 + dor**2*p**2 - 2*dor*ji**2*n*p - 2*dor*ji**2*p**2 - 2*dor*ji*n*p + 2*dor*ji*p**2 + ji**2*n**2 + 2*ji**2*n*p + ji**2*p**2))/(2*ji*(dor - 1)), tn: (2*dor*ji*n + dor*ji*p - dor*p - ji*n - ji*p + sqrt(dor**2*ji**2*p**2 - 2*dor**2*ji*p**2 + dor**2*p**2 - 2*dor*ji**2*n*p - 2*dor*ji**2*p**2 - 2*dor*ji*n*p + 2*dor*ji*p**2 + ji**2*n**2 + 2*ji**2*n*p + ji**2*p**2))/(2*ji*(dor - 1)), tp: (dor*ji*p + dor*p - ji*n - ji*p - sqrt(dor**2*ji**2*p**2 - 2*dor**2*ji*p**2 + dor**2*p**2 - 2*dor*ji**2*n*p - 2*dor*ji**2*p**2 - 2*dor*ji*n*p + 2*dor*ji*p**2 + ji**2*n**2 + 2*ji**2*n*p + ji**2*p**2))/(2*(dor - 1))}]\n",
      "2023-06-11 22:06:50 INFO     Linear solution failed \n",
      "nonlinear cross-term: -tn*tp/(fn*fp)\n"
     ]
    },
    {
     "name": "stdout",
     "output_type": "stream",
     "text": [
      "dor ba\n"
     ]
    },
    {
     "name": "stderr",
     "output_type": "stream",
     "text": [
      "2023-06-11 22:06:51 INFO     number of non-linear solutions 2\n",
      "2023-06-11 22:06:51 INFO     res [{fn: -p*sqrt((dor - 1.0)*(ba**2*dor - ba**2 - 2.0*ba*dor + dor))/(dor - 1.0) - p*(ba - 1.0), fp: n*(-ba*dor + ba + dor + 1.4142135623731*sqrt(0.5*ba**2*dor**2 - ba**2*dor + 0.5*ba**2 - ba*dor**2 + ba*dor + 0.5*dor**2 - 0.5*dor) - 1.0)/(dor - 1.0), tn: n*(ba*dor - ba - 1.4142135623731*sqrt(0.5*ba**2*dor**2 - ba**2*dor + 0.5*ba**2 - ba*dor**2 + ba*dor + 0.5*dor**2 - 0.5*dor))/(dor - 1.0), tp: p*(ba*dor - ba + 1.4142135623731*sqrt(0.5*ba**2*dor**2 - ba**2*dor + 0.5*ba**2 - ba*dor**2 + ba*dor + 0.5*dor**2 - 0.5*dor))/(dor - 1.0)}, {fn: p*sqrt((dor - 1.0)*(ba**2*dor - ba**2 - 2.0*ba*dor + dor))/(dor - 1.0) - p*(ba - 1.0), fp: n*(-ba*dor + ba + dor - 1.4142135623731*sqrt(0.5*ba**2*dor**2 - ba**2*dor + 0.5*ba**2 - ba*dor**2 + ba*dor + 0.5*dor**2 - 0.5*dor) - 1.0)/(dor - 1.0), tn: n*(ba*dor - ba + 1.4142135623731*sqrt(0.5*ba**2*dor**2 - ba**2*dor + 0.5*ba**2 - ba*dor**2 + ba*dor + 0.5*dor**2 - 0.5*dor))/(dor - 1.0), tp: p*(ba*dor - ba - 1.4142135623731*sqrt(0.5*ba**2*dor**2 - ba**2*dor + 0.5*ba**2 - ba*dor**2 + ba*dor + 0.5*dor**2 - 0.5*dor))/(dor - 1.0)}]\n",
      "2023-06-11 22:06:51 INFO     Linear solution failed \n",
      "nonlinear cross-term: -tn*tp/(fn*fp)\n"
     ]
    },
    {
     "name": "stdout",
     "output_type": "stream",
     "text": [
      "mcc ji\n"
     ]
    },
    {
     "name": "stderr",
     "output_type": "stream",
     "text": [
      "2023-06-11 22:06:55 INFO     number of non-linear solutions 2\n",
      "2023-06-11 22:06:55 INFO     res [{fn: p*(-ji**2*mcc**2*n**2 - ji**2*mcc**2*n*p + 2*ji**2*n**2 + 2*ji**2*n*p - ji*mcc**2*n**2 + ji*mcc**2*n*p + ji*mcc*sqrt(n*(ji**2*mcc**2*n - 4*ji**2*n - 4*ji**2*p + 2*ji*mcc**2*n + 4*ji*p + mcc**2*n))*(n + p) - 4*ji*n*p - 2*ji*p**2 + 2*mcc**2*n*p + 2*p**2)/(2*(ji**2*mcc**2*n*p + ji**2*n**2 + 2*ji*mcc**2*n*p - 2*ji*n*p + mcc**2*n*p + p**2)), fp: p*(-2*ji**2*mcc**2*n*p - 2*ji**2*n**2 + ji*mcc**2*n**2 - ji*mcc**2*n*p + 2*ji*n*p + mcc**2*n**2 + mcc**2*n*p - mcc*n*sqrt(n*(ji**2*mcc**2*n - 4*ji**2*n - 4*ji**2*p + 2*ji*mcc**2*n + 4*ji*p + mcc**2*n)) - mcc*p*sqrt(n*(ji**2*mcc**2*n - 4*ji**2*n - 4*ji**2*p + 2*ji*mcc**2*n + 4*ji*p + mcc**2*n)))/(2*(ji**2*mcc**2*n*p + ji**2*n**2 + 2*ji*mcc**2*n*p - 2*ji*n*p + mcc**2*n*p + p**2)), tn: (p*(-ji**2*mcc**2*n**2 - ji**2*mcc**2*n*p + 2*ji**2*n**2 + 2*ji**2*n*p - ji*mcc**2*n**2 + ji*mcc**2*n*p + ji*mcc*sqrt(n*(ji**2*mcc**2*n - 4*ji**2*n - 4*ji**2*p + 2*ji*mcc**2*n + 4*ji*p + mcc**2*n))*(n + p) - 4*ji*n*p - 2*ji*p**2 + 2*mcc**2*n*p + 2*p**2)/2 + (ji*n + ji*p - p)*(ji**2*mcc**2*n*p + ji**2*n**2 + 2*ji*mcc**2*n*p - 2*ji*n*p + mcc**2*n*p + p**2))/(ji*(ji**2*mcc**2*n*p + ji**2*n**2 + 2*ji*mcc**2*n*p - 2*ji*n*p + mcc**2*n*p + p**2)), tp: ji*p*(ji*mcc**2*n**2 + 3*ji*mcc**2*n*p - 2*ji*n*p + mcc**2*n**2 + 3*mcc**2*n*p - mcc*sqrt(n*(ji**2*mcc**2*n - 4*ji**2*n - 4*ji**2*p + 2*ji*mcc**2*n + 4*ji*p + mcc**2*n))*(n + p) + 2*p**2)/(2*(ji**2*mcc**2*n*p + ji**2*n**2 + 2*ji*mcc**2*n*p - 2*ji*n*p + mcc**2*n*p + p**2))}, {fn: -p*(ji**2*mcc**2*n**2 + ji**2*mcc**2*n*p - 2*ji**2*n**2 - 2*ji**2*n*p + ji*mcc**2*n**2 - ji*mcc**2*n*p + ji*mcc*sqrt(n*(ji**2*mcc**2*n - 4*ji**2*n - 4*ji**2*p + 2*ji*mcc**2*n + 4*ji*p + mcc**2*n))*(n + p) + 4*ji*n*p + 2*ji*p**2 - 2*mcc**2*n*p - 2*p**2)/(2*ji**2*mcc**2*n*p + 2*ji**2*n**2 + 4*ji*mcc**2*n*p - 4*ji*n*p + 2*mcc**2*n*p + 2*p**2), fp: p*(-2*ji**2*mcc**2*n*p - 2*ji**2*n**2 + ji*mcc**2*n**2 - ji*mcc**2*n*p + 2*ji*n*p + mcc**2*n**2 + mcc**2*n*p + mcc*n*sqrt(n*(ji**2*mcc**2*n - 4*ji**2*n - 4*ji**2*p + 2*ji*mcc**2*n + 4*ji*p + mcc**2*n)) + mcc*p*sqrt(n*(ji**2*mcc**2*n - 4*ji**2*n - 4*ji**2*p + 2*ji*mcc**2*n + 4*ji*p + mcc**2*n)))/(2*(ji**2*mcc**2*n*p + ji**2*n**2 + 2*ji*mcc**2*n*p - 2*ji*n*p + mcc**2*n*p + p**2)), tn: (-p*(ji**2*mcc**2*n**2 + ji**2*mcc**2*n*p - 2*ji**2*n**2 - 2*ji**2*n*p + ji*mcc**2*n**2 - ji*mcc**2*n*p + ji*mcc*sqrt(n*(ji**2*mcc**2*n - 4*ji**2*n - 4*ji**2*p + 2*ji*mcc**2*n + 4*ji*p + mcc**2*n))*(n + p) + 4*ji*n*p + 2*ji*p**2 - 2*mcc**2*n*p - 2*p**2)/2 + (ji*n + ji*p - p)*(ji**2*mcc**2*n*p + ji**2*n**2 + 2*ji*mcc**2*n*p - 2*ji*n*p + mcc**2*n*p + p**2))/(ji*(ji**2*mcc**2*n*p + ji**2*n**2 + 2*ji*mcc**2*n*p - 2*ji*n*p + mcc**2*n*p + p**2)), tp: ji*p*(ji*mcc**2*n**2 + 3*ji*mcc**2*n*p - 2*ji*n*p + mcc**2*n**2 + 3*mcc**2*n*p + mcc*sqrt(n*(ji**2*mcc**2*n - 4*ji**2*n - 4*ji**2*p + 2*ji*mcc**2*n + 4*ji*p + mcc**2*n))*(n + p) + 2*p**2)/(2*(ji**2*mcc**2*n*p + ji**2*n**2 + 2*ji*mcc**2*n*p - 2*ji*n*p + mcc**2*n*p + p**2))}]\n",
      "2023-06-11 22:06:55 INFO     Linear solution failed nonlinear term: 1/sqrt(n*p*(fn + tn)*(fp + tp))\n"
     ]
    },
    {
     "name": "stdout",
     "output_type": "stream",
     "text": [
      "mcc ba\n"
     ]
    },
    {
     "name": "stderr",
     "output_type": "stream",
     "text": [
      "2023-06-11 22:06:57 INFO     number of non-linear solutions 2\n",
      "2023-06-11 22:06:57 INFO     res [{fn: 0.5*(-4.0*ba*n**2*p + 3.0*n**2*p + n*p**2 - sqrt(n**2*p**2*(mcc**2*(n**2 + 2.0*n*p + p**2) - 16.0*n*p*(ba - 0.5)**2)/mcc**2))/(n*(n + p)), fp: 0.5*(4.0*ba*n**2*p - 3.0*n**2*p - n*p**2 + 4.0*n*p*(1.0 - ba)*(n + p) + sqrt(n**2*p**2*(mcc**2*(n**2 + 2.0*n*p + p**2) - 16.0*n*p*(ba - 0.5)**2)/mcc**2))/(p*(n + p)), tn: 0.5*(-4.0*ba*n**2*p + 3.0*n**2*p + n*p**2 + 2.0*n*p*(2.0*ba - 1.0)*(n + p) - sqrt(n**2*p**2*(mcc**2*(n**2 + 2.0*n*p + p**2) - 16.0*n*p*(ba - 0.5)**2)/mcc**2))/(p*(n + p)), tp: 0.5*(4.0*ba*n**2*p - 3.0*n**2*p - n*p**2 + 2.0*n*p*(n + p) + sqrt(n**2*p**2*(mcc**2*(n**2 + 2.0*n*p + p**2) - 16.0*n*p*(ba - 0.5)**2)/mcc**2))/(n*(n + p))}, {fn: 0.5*(-4.0*ba*n**2*p + 3.0*n**2*p + n*p**2 + sqrt(n**2*p**2*(mcc**2*(n**2 + 2.0*n*p + p**2) - 16.0*n*p*(ba - 0.5)**2)/mcc**2))/(n*(n + p)), fp: 0.5*(4.0*ba*n**2*p - 3.0*n**2*p - n*p**2 + 4.0*n*p*(1.0 - ba)*(n + p) - sqrt(n**2*p**2*(mcc**2*(n**2 + 2.0*n*p + p**2) - 16.0*n*p*(ba - 0.5)**2)/mcc**2))/(p*(n + p)), tn: 0.5*(-4.0*ba*n**2*p + 3.0*n**2*p + n*p**2 + 2.0*n*p*(2.0*ba - 1.0)*(n + p) + sqrt(n**2*p**2*(mcc**2*(n**2 + 2.0*n*p + p**2) - 16.0*n*p*(ba - 0.5)**2)/mcc**2))/(p*(n + p)), tp: 0.5*(4.0*ba*n**2*p - 3.0*n**2*p - n*p**2 + 2.0*n*p*(n + p) - sqrt(n**2*p**2*(mcc**2*(n**2 + 2.0*n*p + p**2) - 16.0*n*p*(ba - 0.5)**2)/mcc**2))/(n*(n + p))}]\n",
      "2023-06-11 22:06:57 INFO     Linear solution failed nonlinear term: 1/sqrt(n*p*(fn + tn)*(fp + tp))\n"
     ]
    },
    {
     "name": "stdout",
     "output_type": "stream",
     "text": [
      "ji ba\n"
     ]
    },
    {
     "name": "stderr",
     "output_type": "stream",
     "text": [
      "2023-06-11 22:06:57 INFO     number of non-linear solutions 1\n",
      "2023-06-11 22:06:57 INFO     res [{fn: (2.0*ba*ji*n*p - 2.0*ji*n*p - ji*p**2 + p**2)/(-ji*n + p), fp: (-2.0*ba*n*p + ji*n*p + n*p)/(-ji*n + p), tn: (2.0*ba*n*p - ji*n**2 - ji*n*p)/(-ji*n + p), tp: (-2.0*ba*ji*n*p + ji*n*p + ji*p**2)/(-ji*n + p)}]\n",
      "2023-06-11 22:06:57 INFO     Linear solution failed nonlinear term: 1/(fp + p)\n"
     ]
    }
   ],
   "source": [
    "# generating the solutions for all pairs\n",
    "\n",
    "scores = list(score_functions.keys())\n",
    "\n",
    "solutions = []\n",
    "\n",
    "for idx, score0 in enumerate(scores):\n",
    "    for score1 in scores[idx+1:]:\n",
    "        if (score0, score1) == ('fm', 'mk'):\n",
    "            continue\n",
    "        print(score0, score1, flush=True)\n",
    "        ps = ProblemSolver(score0, score_functions[score0], score1, score_functions[score1])\n",
    "        ps.solve()\n",
    "        solutions.append(ps)"
   ]
  },
  {
   "cell_type": "code",
   "execution_count": 4,
   "metadata": {},
   "outputs": [],
   "source": [
    "with open('solutions.pickle', 'wb') as handle:\n",
    "    pickle.dump(solutions, handle)"
   ]
  },
  {
   "cell_type": "code",
   "execution_count": 5,
   "metadata": {},
   "outputs": [
    {
     "name": "stdout",
     "output_type": "stream",
     "text": [
      "acc fm 2\n",
      "acc pt 2\n",
      "acc mk 2\n",
      "acc dor 2\n",
      "acc mcc 2\n",
      "sens pt 2\n",
      "sens mk 2\n",
      "sens mcc 2\n",
      "spec fm 2\n",
      "spec pt 2\n",
      "spec mk 2\n",
      "spec mcc 2\n",
      "npv fm 2\n",
      "npv pt 2\n",
      "npv mk 2\n",
      "npv dor 2\n",
      "npv mcc 2\n",
      "ppv fm 2\n",
      "ppv mk 2\n",
      "ppv dor 2\n",
      "ppv mcc 2\n",
      "f1_plus fm 2\n",
      "f1_plus pt 2\n",
      "f1_plus mk 2\n",
      "f1_plus dor 2\n",
      "f1_plus mcc 2\n",
      "f1_minus fm 2\n",
      "f1_minus pt 2\n",
      "f1_minus mk 2\n",
      "f1_minus dor 2\n",
      "f1_minus mcc 2\n",
      "fm bm 2\n",
      "fm pt 3\n",
      "fm lrp 2\n",
      "fm lrn 2\n",
      "fm dor 3\n",
      "fm mcc 3\n",
      "fm ji 2\n",
      "fm ba 2\n",
      "bm mk 2\n",
      "bm dor 2\n",
      "bm mcc 2\n",
      "pt lrn 2\n",
      "pt mk 6\n",
      "pt dor 4\n",
      "pt mcc 4\n",
      "pt ji 2\n",
      "lrp mk 2\n",
      "lrp dor 2\n",
      "lrp mcc 2\n",
      "lrn mk 2\n",
      "lrn dor 2\n",
      "lrn mcc 2\n",
      "mk dor 4\n",
      "mk mcc 8\n",
      "mk ji 2\n",
      "mk ba 2\n",
      "dor mcc 5\n",
      "dor ji 2\n",
      "dor ba 2\n",
      "mcc ji 2\n",
      "mcc ba 2\n"
     ]
    }
   ],
   "source": [
    "for ps in solutions:\n",
    "    if len(ps.solutions) > 1:\n",
    "        print(ps.score0.name, ps.score1.name, len(ps.solutions))"
   ]
  },
  {
   "cell_type": "code",
   "execution_count": null,
   "metadata": {},
   "outputs": [],
   "source": []
  }
 ],
 "metadata": {
  "kernelspec": {
   "display_name": "mlscorecheck",
   "language": "python",
   "name": "python3"
  },
  "language_info": {
   "codemirror_mode": {
    "name": "ipython",
    "version": 3
   },
   "file_extension": ".py",
   "mimetype": "text/x-python",
   "name": "python",
   "nbconvert_exporter": "python",
   "pygments_lexer": "ipython3",
   "version": "3.10.0"
  },
  "orig_nbformat": 4
 },
 "nbformat": 4,
 "nbformat_minor": 2
}
