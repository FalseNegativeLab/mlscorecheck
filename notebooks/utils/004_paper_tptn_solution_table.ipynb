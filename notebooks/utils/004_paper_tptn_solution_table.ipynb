{
 "cells": [
  {
   "cell_type": "code",
   "execution_count": 744,
   "metadata": {},
   "outputs": [],
   "source": [
    "import json\n",
    "import pandas as pd\n",
    "import sympy as sp"
   ]
  },
  {
   "cell_type": "code",
   "execution_count": 745,
   "metadata": {},
   "outputs": [],
   "source": [
    "symbols = {'p': sp.Symbol('p'),\n",
    "            'n': sp.Symbol('n'),\n",
    "            'tp': sp.Symbol('tp'),\n",
    "            'tn': sp.Symbol('tn'),\n",
    "            'beta_positive': sp.Symbol('beta_+'),\n",
    "            'beta_negative': sp.Symbol('beta_-'),\n",
    "            'sqrt': sp.sqrt,\n",
    "            'f1n': sp.Symbol('f^1_-'),\n",
    "            'f1p': sp.Symbol('f^1_+'),\n",
    "            'fbn': sp.Symbol('f^\\\\beta_{-}'),\n",
    "            'fbp': sp.Symbol('f^\\\\beta_{+}'),\n",
    "            'ppv': sp.Symbol('ppv'),\n",
    "            'sens': sp.Symbol('sens'),\n",
    "            'spec': sp.Symbol('spec'),\n",
    "            'npv': sp.Symbol('npv'),\n",
    "            'mk': sp.Symbol('mk'),\n",
    "            'bm': sp.Symbol('bm'),\n",
    "            'lrp': sp.Symbol('lr_+'),\n",
    "            'lrn': sp.Symbol('lr_-'),\n",
    "            'acc': sp.Symbol('acc'),\n",
    "            'upm': sp.Symbol('upm'),\n",
    "            'gm': sp.Symbol('gm'),\n",
    "            'fm': sp.Symbol('fm'),\n",
    "            'mcc': sp.Symbol('mcc'),\n",
    "            'pt': sp.Symbol('pt'),\n",
    "            'dor': sp.Symbol('dor'),\n",
    "            'ji': sp.Symbol('ji'),\n",
    "            'bacc': sp.Symbol('bacc'),\n",
    "            'kappa': sp.Symbol('kappa'),\n",
    "            'p4': sp.Symbol('p4')}"
   ]
  },
  {
   "cell_type": "code",
   "execution_count": 746,
   "metadata": {},
   "outputs": [],
   "source": [
    "with open('tptn_solutions.json', 'rt') as file:\n",
    "    sols = json.load(file)"
   ]
  },
  {
   "cell_type": "code",
   "execution_count": 747,
   "metadata": {},
   "outputs": [
    {
     "name": "stdout",
     "output_type": "stream",
     "text": [
      "1 1\n",
      "1 0\n",
      "0 1\n",
      "1 1\n",
      "1 1\n",
      "1 1\n",
      "1 1\n",
      "1 1\n",
      "1 1\n",
      "1 1\n",
      "2 1\n",
      "2 2\n",
      "2 2\n",
      "1 1\n",
      "1 1\n",
      "1 1\n",
      "2 2\n",
      "1 1\n",
      "1 1\n",
      "1 1\n",
      "1 1\n",
      "2 2\n",
      "2 2\n"
     ]
    }
   ],
   "source": [
    "for key in sols:\n",
    "    print(len(sols[key]['tp']), len(sols[key]['tn']))"
   ]
  },
  {
   "cell_type": "code",
   "execution_count": 748,
   "metadata": {},
   "outputs": [],
   "source": [
    "tmp = pd.DataFrame(sols).T"
   ]
  },
  {
   "cell_type": "code",
   "execution_count": 749,
   "metadata": {},
   "outputs": [],
   "source": [
    "tmp = tmp.drop(['f1p', 'f1n'])"
   ]
  },
  {
   "cell_type": "code",
   "execution_count": 750,
   "metadata": {},
   "outputs": [],
   "source": [
    "def explode(expression):\n",
    "    exps = [eval(exp, symbols) for exp in expression]\n",
    "    if len(expression) > 0 and ('upm' in expression[0]):\n",
    "        exps[0] = sp.collect(exps[0], symbols['upm'])\n",
    "        exps[1] = sp.collect(exps[1], symbols['upm'])\n",
    "    if len(expression) > 0 and ('mk' in expression[0]):\n",
    "        exps[0] = sp.collect(exps[0], symbols['mk'])\n",
    "        exps[1] = sp.collect(exps[1], symbols['mk'])\n",
    "    if len(expression) > 0 and ('mcc' in expression[0]):\n",
    "        exps[0] = sp.collect(exps[0], symbols['mcc'])\n",
    "        exps[1] = sp.collect(exps[1], symbols['mcc'])\n",
    "    if len(expression) > 0 and ('p4' in expression[0]):\n",
    "        exps[0] = sp.collect(exps[0], symbols['p4'])\n",
    "        exps[1] = sp.collect(exps[1], symbols['p4'])\n",
    "    if len(expression) > 0 and ('kappa' in expression[0]):\n",
    "        exps[0] = sp.collect(exps[0], symbols['kappa'])\n",
    "    latexs = [sp.latex(tmp) for tmp in exps]\n",
    "    return latexs"
   ]
  },
  {
   "cell_type": "code",
   "execution_count": 751,
   "metadata": {},
   "outputs": [],
   "source": [
    "tmp['tp_exploded'] = tmp['tp'].apply(explode)\n",
    "tmp['tn_exploded'] = tmp['tn'].apply(explode)"
   ]
  },
  {
   "cell_type": "code",
   "execution_count": 752,
   "metadata": {},
   "outputs": [
    {
     "data": {
      "text/plain": [
       "'\\\\frac{fm \\\\left(fm p - \\\\sqrt{p} \\\\sqrt{fm^{2} p + 4 n - 4 tn}\\\\right)}{2}'"
      ]
     },
     "execution_count": 752,
     "metadata": {},
     "output_type": "execute_result"
    }
   ],
   "source": [
    "tmp.loc['fm', 'tp_exploded'][0]"
   ]
  },
  {
   "cell_type": "code",
   "execution_count": 753,
   "metadata": {},
   "outputs": [],
   "source": [
    "tmp.loc['fm', 'tp_exploded'] = ['\\\\frac{fm \\\\left(fm p \\\\pm \\\\sqrt{p} \\\\sqrt{fm^{2} p + 4 n - 4 tn}\\\\right)}{2}']"
   ]
  },
  {
   "cell_type": "code",
   "execution_count": 754,
   "metadata": {},
   "outputs": [
    {
     "data": {
      "text/plain": [
       "'\\\\frac{- mcc \\\\sqrt{p} \\\\left(n + p\\\\right) \\\\sqrt{mcc^{2} n p + 4 n tn - 4 tn^{2}} + \\\\sqrt{n} p \\\\left(mcc^{2} \\\\left(- n + p + 2 tn\\\\right) + 2 n - 2 tn\\\\right)}{2 \\\\sqrt{n} \\\\left(mcc^{2} p + n\\\\right)}'"
      ]
     },
     "execution_count": 754,
     "metadata": {},
     "output_type": "execute_result"
    }
   ],
   "source": [
    "tmp.loc['mcc', 'tp_exploded'][0]"
   ]
  },
  {
   "cell_type": "code",
   "execution_count": 755,
   "metadata": {},
   "outputs": [],
   "source": [
    "tmp.loc['mcc', 'tp_exploded'] = ['\\\\frac{\\\\pm mcc \\\\sqrt{p} \\\\left(n + p\\\\right) \\\\sqrt{mcc^{2} n p + 4 n tn - 4 tn^{2}} + \\\\sqrt{n} p \\\\left(mcc^{2} \\\\left(- n + p + 2 tn\\\\right) + 2 n - 2 tn\\\\right)}{2 \\\\sqrt{n} \\\\left(mcc^{2} p + n\\\\right)}'\n",
    "]"
   ]
  },
  {
   "cell_type": "code",
   "execution_count": 756,
   "metadata": {},
   "outputs": [
    {
     "data": {
      "text/plain": [
       "'\\\\frac{- mcc \\\\sqrt{n} \\\\left(n + p\\\\right) \\\\sqrt{mcc^{2} n p + 4 p tp - 4 tp^{2}} + n \\\\sqrt{p} \\\\left(mcc^{2} \\\\left(n - p + 2 tp\\\\right) + 2 p - 2 tp\\\\right)}{2 \\\\sqrt{p} \\\\left(mcc^{2} n + p\\\\right)}'"
      ]
     },
     "execution_count": 756,
     "metadata": {},
     "output_type": "execute_result"
    }
   ],
   "source": [
    "tmp.loc['mcc', 'tn_exploded'][0]"
   ]
  },
  {
   "cell_type": "code",
   "execution_count": 757,
   "metadata": {},
   "outputs": [],
   "source": [
    "tmp.loc['mcc', 'tn_exploded'] = ['\\\\frac{\\\\pm mcc \\\\sqrt{n} \\\\left(n + p\\\\right) \\\\sqrt{mcc^{2} n p + 4 p tp - 4 tp^{2}} + n \\\\sqrt{p} \\\\left(mcc^{2} \\\\left(n - p + 2 tp\\\\right) + 2 p - 2 tp\\\\right)}{2 \\\\sqrt{p} \\\\left(mcc^{2} n + p\\\\right)}'\n",
    "]"
   ]
  },
  {
   "cell_type": "code",
   "execution_count": 758,
   "metadata": {},
   "outputs": [
    {
     "data": {
      "text/plain": [
       "'\\\\frac{mk \\\\left(- n + p + 2 tn\\\\right) - n - \\\\sqrt{mk^{2} \\\\left(n^{2} + 2 n p + p^{2}\\\\right) + mk \\\\left(2 n^{2} + 2 n p - 4 n tn - 4 p tn\\\\right) + n^{2}}}{2 mk}'"
      ]
     },
     "execution_count": 758,
     "metadata": {},
     "output_type": "execute_result"
    }
   ],
   "source": [
    "tmp.loc['mk', 'tp_exploded'][0]"
   ]
  },
  {
   "cell_type": "code",
   "execution_count": 759,
   "metadata": {},
   "outputs": [],
   "source": [
    "tmp.loc['mk', 'tp_exploded'] = ['\\\\frac{mk \\\\left(- n + p + 2 tn\\\\right) - n \\\\pm \\\\sqrt{mk^{2} \\\\left(n^{2} + 2 n p + p^{2}\\\\right) + mk \\\\left(2 n^{2} + 2 n p - 4 n tn - 4 p tn\\\\right) + n^{2}}}{2 mk}'\n",
    "]"
   ]
  },
  {
   "cell_type": "code",
   "execution_count": 760,
   "metadata": {},
   "outputs": [
    {
     "data": {
      "text/plain": [
       "'\\\\frac{mk \\\\left(n - p + 2 tp\\\\right) - p - \\\\sqrt{mk^{2} \\\\left(n^{2} + 2 n p + p^{2}\\\\right) + mk \\\\left(2 n p - 4 n tp + 2 p^{2} - 4 p tp\\\\right) + p^{2}}}{2 mk}'"
      ]
     },
     "execution_count": 760,
     "metadata": {},
     "output_type": "execute_result"
    }
   ],
   "source": [
    "tmp.loc['mk', 'tn_exploded'][0]"
   ]
  },
  {
   "cell_type": "code",
   "execution_count": 761,
   "metadata": {},
   "outputs": [],
   "source": [
    "tmp.loc['mk', 'tn_exploded'] = ['\\\\frac{mk \\\\left(n - p + 2 tp\\\\right) \\\\pm p - \\\\sqrt{mk^{2} \\\\left(n^{2} + 2 n p + p^{2}\\\\right) + mk \\\\left(2 n p - 4 n tp + 2 p^{2} - 4 p tp\\\\right) + p^{2}}}{2 mk}']"
   ]
  },
  {
   "cell_type": "code",
   "execution_count": 762,
   "metadata": {},
   "outputs": [
    {
     "data": {
      "text/plain": [
       "'\\\\frac{n}{2} + \\\\frac{p}{2} + tn + \\\\frac{- 2 tn - \\\\frac{\\\\sqrt{p_{4}^{2} \\\\left(n^{2} + 2 n p + 8 n tn + p^{2} + 8 p tn\\\\right) + p_{4} \\\\left(- 8 n tn - 8 p tn - 16 tn^{2}\\\\right) + 16 tn^{2}}}{2}}{p_{4}}'"
      ]
     },
     "execution_count": 762,
     "metadata": {},
     "output_type": "execute_result"
    }
   ],
   "source": [
    "tmp.loc['p4', 'tp_exploded'][0]"
   ]
  },
  {
   "cell_type": "code",
   "execution_count": 763,
   "metadata": {},
   "outputs": [],
   "source": [
    "tmp.loc['p4', 'tp_exploded'] = ['\\\\frac{n}{2} + \\\\frac{p}{2} + tn + \\\\frac{- 2 tn \\\\pm \\\\frac{\\\\sqrt{p_{4}^{2} \\\\left(n^{2} + 2 n p + 8 n tn + p^{2} + 8 p tn\\\\right) + p_{4} \\\\left(- 8 n tn - 8 p tn - 16 tn^{2}\\\\right) + 16 tn^{2}}}{2}}{p_{4}}'\n",
    "]"
   ]
  },
  {
   "cell_type": "code",
   "execution_count": 764,
   "metadata": {},
   "outputs": [
    {
     "data": {
      "text/plain": [
       "'\\\\frac{n}{2} + \\\\frac{p}{2} + tp + \\\\frac{- 2 tp - \\\\frac{\\\\sqrt{p_{4}^{2} \\\\left(n^{2} + 2 n p + 8 n tp + p^{2} + 8 p tp\\\\right) + p_{4} \\\\left(- 8 n tp - 8 p tp - 16 tp^{2}\\\\right) + 16 tp^{2}}}{2}}{p_{4}}'"
      ]
     },
     "execution_count": 764,
     "metadata": {},
     "output_type": "execute_result"
    }
   ],
   "source": [
    "tmp.loc['p4', 'tn_exploded'][0]"
   ]
  },
  {
   "cell_type": "code",
   "execution_count": 765,
   "metadata": {},
   "outputs": [],
   "source": [
    "tmp.loc['p4', 'tn_exploded'] = ['\\\\frac{n}{2} + \\\\frac{p}{2} + tp + \\\\frac{- 2 tp \\\\pm \\\\frac{\\\\sqrt{p_{4}^{2} \\\\left(n^{2} + 2 n p + 8 n tp + p^{2} + 8 p tp\\\\right) + p_{4} \\\\left(- 8 n tp - 8 p tp - 16 tp^{2}\\\\right) + 16 tp^{2}}}{2}}{p_{4}}'\n",
    "]"
   ]
  },
  {
   "cell_type": "code",
   "execution_count": 766,
   "metadata": {},
   "outputs": [
    {
     "data": {
      "text/plain": [
       "'\\\\frac{n}{2} + \\\\frac{p}{2} + tn + \\\\frac{- 2 tn - \\\\frac{\\\\sqrt{16 tn^{2} + upm^{2} \\\\left(n^{2} + 2 n p + 8 n tn + p^{2} + 8 p tn\\\\right) + upm \\\\left(- 8 n tn - 8 p tn - 16 tn^{2}\\\\right)}}{2}}{upm}'"
      ]
     },
     "execution_count": 766,
     "metadata": {},
     "output_type": "execute_result"
    }
   ],
   "source": [
    "tmp.loc['upm', 'tp_exploded'][0]"
   ]
  },
  {
   "cell_type": "code",
   "execution_count": 767,
   "metadata": {},
   "outputs": [],
   "source": [
    "tmp.loc['upm', 'tp_exploded'] = ['\\\\frac{n}{2} + \\\\frac{p}{2} + tn + \\\\frac{- 2 tn \\\\pm \\\\frac{\\\\sqrt{16 tn^{2} + upm^{2} \\\\left(n^{2} + 2 n p + 8 n tn + p^{2} + 8 p tn\\\\right) + upm \\\\left(- 8 n tn - 8 p tn - 16 tn^{2}\\\\right)}}{2}}{upm}']"
   ]
  },
  {
   "cell_type": "code",
   "execution_count": 768,
   "metadata": {},
   "outputs": [
    {
     "data": {
      "text/plain": [
       "'\\\\frac{n}{2} + \\\\frac{p}{2} + tp + \\\\frac{- 2 tp - \\\\frac{\\\\sqrt{16 tp^{2} + upm^{2} \\\\left(n^{2} + 2 n p + 8 n tp + p^{2} + 8 p tp\\\\right) + upm \\\\left(- 8 n tp - 8 p tp - 16 tp^{2}\\\\right)}}{2}}{upm}'"
      ]
     },
     "execution_count": 768,
     "metadata": {},
     "output_type": "execute_result"
    }
   ],
   "source": [
    "tmp.loc['upm', 'tn_exploded'][0]"
   ]
  },
  {
   "cell_type": "code",
   "execution_count": 769,
   "metadata": {},
   "outputs": [],
   "source": [
    "tmp.loc['upm', 'tn_exploded'] = ['\\\\frac{n}{2} + \\\\frac{p}{2} + tp + \\\\frac{- 2 tp \\\\pm \\\\frac{\\\\sqrt{16 tp^{2} + upm^{2} \\\\left(n^{2} + 2 n p + 8 n tp + p^{2} + 8 p tp\\\\right) + upm \\\\left(- 8 n tp - 8 p tp - 16 tp^{2}\\\\right)}}{2}}{upm}']"
   ]
  },
  {
   "cell_type": "code",
   "execution_count": 770,
   "metadata": {},
   "outputs": [],
   "source": [
    "tmp['tp_exploded'] = tmp['tp_exploded'].apply(lambda x: '$' + x[0] + '$' if len(x) > 0 else '')\n",
    "tmp['tn_exploded'] = tmp['tn_exploded'].apply(lambda x: '$' + x[0] + '$' if len(x) > 0 else '')"
   ]
  },
  {
   "cell_type": "code",
   "execution_count": 771,
   "metadata": {},
   "outputs": [],
   "source": [
    "tmp = tmp.reset_index(drop=False)"
   ]
  },
  {
   "cell_type": "code",
   "execution_count": 772,
   "metadata": {},
   "outputs": [],
   "source": [
    "res = tmp[['index', 'tp_exploded', 'tn_exploded']]"
   ]
  },
  {
   "cell_type": "code",
   "execution_count": 773,
   "metadata": {},
   "outputs": [],
   "source": [
    "res.columns = ['score', 'tp', 'tn']"
   ]
  },
  {
   "cell_type": "code",
   "execution_count": 774,
   "metadata": {},
   "outputs": [],
   "source": [
    "res2 = res[res['score'].isin(['upm', 'mk', 'mcc', 'p4', 'fm'])]\n",
    "res = res[~res['score'].isin(['upm', 'mk', 'mcc', 'p4', 'fm'])]"
   ]
  },
  {
   "cell_type": "code",
   "execution_count": 775,
   "metadata": {},
   "outputs": [],
   "source": [
    "latex = res.to_latex(index=False).replace('frac', 'dfrac')\n",
    "latex = latex.replace('acc n', 'acc \\\\cdot n')\n",
    "latex = latex.replace('acc p', 'acc \\\\cdot p')\n",
    "latex = latex.replace('p sens', 'p \\\\cdot sens')\n",
    "latex = latex.replace('n spec', 'n \\\\cdot spec')\n",
    "latex = latex.replace('n tp', 'n \\\\cdot tp')\n",
    "latex = latex.replace('p tp', 'p \\\\cdot tp')\n",
    "latex = latex.replace('n tn', 'n \\\\cdot tn')\n",
    "latex = latex.replace('p tn', 'p \\\\cdot tn')\n",
    "latex = latex.replace('dor p', 'dor \\\\cdot p')\n",
    "latex = latex.replace('dor n', 'dor \\\\cdot n')\n",
    "latex = latex.replace('dor tp', 'dor \\\\cdot tp')\n",
    "latex = latex.replace('dor tn', 'dor \\\\cdot tn')\n",
    "latex = latex.replace('bacc p', 'bacc \\\\cdot p')\n",
    "latex = latex.replace('bacc n', 'bacc \\\\cdot n')"
   ]
  },
  {
   "cell_type": "code",
   "execution_count": 776,
   "metadata": {},
   "outputs": [
    {
     "name": "stdout",
     "output_type": "stream",
     "text": [
      "\\begin{tabular}{lll}\n",
      "\\toprule\n",
      "score & tp & tn \\\\\n",
      "\\midrule\n",
      "acc & $acc \\cdot n + acc \\cdot p - tn$ & $acc \\cdot n + acc \\cdot p - tp$ \\\\\n",
      "sens & $p \\cdot sens$ &  \\\\\n",
      "spec &  & $n \\cdot spec$ \\\\\n",
      "ppv & $\\dfrac{ppv \\left(- n + tn\\right)}{ppv - 1}$ & $n + tp - \\dfrac{tp}{ppv}$ \\\\\n",
      "npv & $p + tn - \\dfrac{tn}{npv}$ & $\\dfrac{npv \\left(- p + tp\\right)}{npv - 1}$ \\\\\n",
      "fbp & $\\dfrac{f^\\beta_{+} \\left(\\beta_{+}^{2} p + n - tn\\right)}{\\beta_{+}^{2} - f^\\beta_{+} + 1}$ & $\\dfrac{- \\beta_{+}^{2} tp + f^\\beta_{+} \\left(\\beta_{+}^{2} p + n + tp\\right) - tp}{f^\\beta_{+}}$ \\\\\n",
      "fbn & $\\dfrac{- \\beta_{-}^{2} tn + f^\\beta_{-} \\left(\\beta_{-}^{2} n + p + tn\\right) - tn}{f^\\beta_{-}}$ & $\\dfrac{f^\\beta_{-} \\left(\\beta_{-}^{2} n + p - tp\\right)}{\\beta_{-}^{2} - f^\\beta_{-} + 1}$ \\\\\n",
      "gm & $\\dfrac{gm^{2} n p}{tn}$ & $\\dfrac{gm^{2} n p}{tp}$ \\\\\n",
      "lrp & $\\dfrac{lr_{+} p \\left(n - tn\\right)}{n}$ & $n - \\dfrac{n \\cdot tp}{lr_{+} p}$ \\\\\n",
      "lrn & $\\dfrac{p \\left(- lr_{-} tn + n\\right)}{n}$ & $\\dfrac{n \\left(p - tp\\right)}{lr_{-} p}$ \\\\\n",
      "bm & $\\dfrac{p \\left(n \\left(bm + 1\\right) - tn\\right)}{n}$ & $\\dfrac{n \\left(p \\left(bm + 1\\right) - tp\\right)}{p}$ \\\\\n",
      "pt & $\\dfrac{p \\left(n - tn\\right)}{n}$ & $\\dfrac{n \\left(p - tp\\right)}{p}$ \\\\\n",
      "dor & $\\dfrac{dor \\cdot p \\left(n - tn\\right)}{dor \\cdot n - dor \\cdot tn + tn}$ & $\\dfrac{dor \\cdot n \\left(p - tp\\right)}{dor \\cdot p - dor \\cdot tp + tp}$ \\\\\n",
      "ji & $ji \\left(n + p - tn\\right)$ & $n + p - \\dfrac{tp}{ji}$ \\\\\n",
      "bacc & $\\dfrac{p \\left(2 bacc \\cdot n - tn\\right)}{n}$ & $\\dfrac{n \\left(2 bacc \\cdot p - tp\\right)}{p}$ \\\\\n",
      "kappa & $\\dfrac{\\kappa \\left(n^{2} - n \\cdot tn + p^{2} + p \\cdot tn\\right) + 2 n p - 2 p \\cdot tn}{\\kappa \\left(- n + p\\right) + 2 n}$ & $\\dfrac{\\kappa \\left(n^{2} + n \\cdot tp + p^{2} - p \\cdot tp\\right) + 2 n p - 2 n \\cdot tp}{\\kappa \\left(n - p\\right) + 2 p}$ \\\\\n",
      "\\bottomrule\n",
      "\\end{tabular}\n",
      "\n"
     ]
    }
   ],
   "source": [
    "print(latex)"
   ]
  },
  {
   "cell_type": "code",
   "execution_count": 777,
   "metadata": {},
   "outputs": [],
   "source": [
    "res2 = res2.melt(id_vars=['score']).sort_values('score')"
   ]
  },
  {
   "cell_type": "code",
   "execution_count": 778,
   "metadata": {},
   "outputs": [
    {
     "data": {
      "text/html": [
       "<div>\n",
       "<style scoped>\n",
       "    .dataframe tbody tr th:only-of-type {\n",
       "        vertical-align: middle;\n",
       "    }\n",
       "\n",
       "    .dataframe tbody tr th {\n",
       "        vertical-align: top;\n",
       "    }\n",
       "\n",
       "    .dataframe thead th {\n",
       "        text-align: right;\n",
       "    }\n",
       "</style>\n",
       "<table border=\"1\" class=\"dataframe\">\n",
       "  <thead>\n",
       "    <tr style=\"text-align: right;\">\n",
       "      <th></th>\n",
       "      <th>score</th>\n",
       "      <th>variable</th>\n",
       "      <th>value</th>\n",
       "    </tr>\n",
       "  </thead>\n",
       "  <tbody>\n",
       "    <tr>\n",
       "      <th>0</th>\n",
       "      <td>fm</td>\n",
       "      <td>tp</td>\n",
       "      <td>$\\frac{fm \\left(fm p \\pm \\sqrt{p} \\sqrt{fm^{2}...</td>\n",
       "    </tr>\n",
       "    <tr>\n",
       "      <th>5</th>\n",
       "      <td>fm</td>\n",
       "      <td>tn</td>\n",
       "      <td>$n + tp - \\frac{tp^{2}}{fm^{2} p}$</td>\n",
       "    </tr>\n",
       "    <tr>\n",
       "      <th>4</th>\n",
       "      <td>mcc</td>\n",
       "      <td>tp</td>\n",
       "      <td>$\\frac{\\pm mcc \\sqrt{p} \\left(n + p\\right) \\sq...</td>\n",
       "    </tr>\n",
       "    <tr>\n",
       "      <th>9</th>\n",
       "      <td>mcc</td>\n",
       "      <td>tn</td>\n",
       "      <td>$\\frac{\\pm mcc \\sqrt{n} \\left(n + p\\right) \\sq...</td>\n",
       "    </tr>\n",
       "    <tr>\n",
       "      <th>2</th>\n",
       "      <td>mk</td>\n",
       "      <td>tp</td>\n",
       "      <td>$\\frac{mk \\left(- n + p + 2 tn\\right) - n \\pm ...</td>\n",
       "    </tr>\n",
       "    <tr>\n",
       "      <th>7</th>\n",
       "      <td>mk</td>\n",
       "      <td>tn</td>\n",
       "      <td>$\\frac{mk \\left(n - p + 2 tp\\right) \\pm p - \\s...</td>\n",
       "    </tr>\n",
       "    <tr>\n",
       "      <th>3</th>\n",
       "      <td>p4</td>\n",
       "      <td>tp</td>\n",
       "      <td>$\\frac{n}{2} + \\frac{p}{2} + tn + \\frac{- 2 tn...</td>\n",
       "    </tr>\n",
       "    <tr>\n",
       "      <th>8</th>\n",
       "      <td>p4</td>\n",
       "      <td>tn</td>\n",
       "      <td>$\\frac{n}{2} + \\frac{p}{2} + tp + \\frac{- 2 tp...</td>\n",
       "    </tr>\n",
       "    <tr>\n",
       "      <th>1</th>\n",
       "      <td>upm</td>\n",
       "      <td>tp</td>\n",
       "      <td>$\\frac{n}{2} + \\frac{p}{2} + tn + \\frac{- 2 tn...</td>\n",
       "    </tr>\n",
       "    <tr>\n",
       "      <th>6</th>\n",
       "      <td>upm</td>\n",
       "      <td>tn</td>\n",
       "      <td>$\\frac{n}{2} + \\frac{p}{2} + tp + \\frac{- 2 tp...</td>\n",
       "    </tr>\n",
       "  </tbody>\n",
       "</table>\n",
       "</div>"
      ],
      "text/plain": [
       "  score variable                                              value\n",
       "0    fm       tp  $\\frac{fm \\left(fm p \\pm \\sqrt{p} \\sqrt{fm^{2}...\n",
       "5    fm       tn                 $n + tp - \\frac{tp^{2}}{fm^{2} p}$\n",
       "4   mcc       tp  $\\frac{\\pm mcc \\sqrt{p} \\left(n + p\\right) \\sq...\n",
       "9   mcc       tn  $\\frac{\\pm mcc \\sqrt{n} \\left(n + p\\right) \\sq...\n",
       "2    mk       tp  $\\frac{mk \\left(- n + p + 2 tn\\right) - n \\pm ...\n",
       "7    mk       tn  $\\frac{mk \\left(n - p + 2 tp\\right) \\pm p - \\s...\n",
       "3    p4       tp  $\\frac{n}{2} + \\frac{p}{2} + tn + \\frac{- 2 tn...\n",
       "8    p4       tn  $\\frac{n}{2} + \\frac{p}{2} + tp + \\frac{- 2 tp...\n",
       "1   upm       tp  $\\frac{n}{2} + \\frac{p}{2} + tn + \\frac{- 2 tn...\n",
       "6   upm       tn  $\\frac{n}{2} + \\frac{p}{2} + tp + \\frac{- 2 tp..."
      ]
     },
     "execution_count": 778,
     "metadata": {},
     "output_type": "execute_result"
    }
   ],
   "source": [
    "res2"
   ]
  },
  {
   "cell_type": "code",
   "execution_count": 779,
   "metadata": {},
   "outputs": [],
   "source": [
    "res2.iloc[0]['score'] = '\\multirow{2}{*}{fm}'\n",
    "res2.iloc[0]['variable'] = 'tp$_{1,2}$'\n",
    "res2.iloc[1]['score'] = ''\n",
    "res2.iloc[1]['variable'] = 'tn'\n",
    "res2.iloc[2]['score'] = '\\multirow{2}{*}{mcc}'\n",
    "res2.iloc[2]['variable'] = 'tp$_{1,2}$'\n",
    "res2.iloc[3]['score'] = ''\n",
    "res2.iloc[3]['variable'] = 'tn$_{1,2}$'\n",
    "res2.iloc[4]['score'] = '\\multirow{2}{*}{mk}'\n",
    "res2.iloc[4]['variable'] = 'tp$_{1,2}$'\n",
    "res2.iloc[5]['score'] = ''\n",
    "res2.iloc[5]['variable'] = 'tn$_{1,2}$'\n",
    "res2.iloc[6]['score'] = '\\multirow{2}{*}{p4}'\n",
    "res2.iloc[6]['variable'] = 'tp$_{1,2}$'\n",
    "res2.iloc[7]['score'] = ''\n",
    "res2.iloc[7]['variable'] = 'tn$_{1,2}$'\n",
    "res2.iloc[8]['score'] = '\\multirow{2}{*}{upm}'\n",
    "res2.iloc[8]['variable'] = 'tp$_{1,2}$'\n",
    "res2.iloc[9]['score'] = ''\n",
    "res2.iloc[9]['variable'] = 'tn$_{1,2}$'"
   ]
  },
  {
   "cell_type": "code",
   "execution_count": 780,
   "metadata": {},
   "outputs": [
    {
     "name": "stdout",
     "output_type": "stream",
     "text": [
      "\\begin{tabular}{lll}\n",
      "\\toprule\n",
      "score & variable & value \\\\\n",
      "\\midrule\n",
      "\\multirow{2}{*}{fm} & tp$_{1,2}$ & $\\dfrac{fm \\left(fm \\cdot p \\pm \\sqrt{p} \\sqrt{fm^{2} p + 4 n - 4 tn}\\right)}{2}$ \\\\\n",
      " & tn & $n + tp - \\dfrac{tp^{2}}{fm^{2} p}$ \\\\\n",
      "\\multirow{2}{*}{mcc} & tp$_{1,2}$ & $\\dfrac{\\pm mcc \\sqrt{p} \\left(n + p\\right) \\sqrt{mcc^{2} n p + 4 n \\cdot tn - 4 tn^{2}} + \\sqrt{n} p \\left(mcc^{2} \\left(- n + p + 2 tn\\right) + 2 n - 2 tn\\right)}{2 \\sqrt{n} \\left(mcc^{2} p + n\\right)}$ \\\\\n",
      " & tn$_{1,2}$ & $\\dfrac{\\pm mcc \\sqrt{n} \\left(n + p\\right) \\sqrt{mcc^{2} n p + 4 p \\cdot tp - 4 tp^{2}} + n \\sqrt{p} \\left(mcc^{2} \\left(n - p + 2 tp\\right) + 2 p - 2 tp\\right)}{2 \\sqrt{p} \\left(mcc^{2} n + p\\right)}$ \\\\\n",
      "\\multirow{2}{*}{mk} & tp$_{1,2}$ & $\\dfrac{mk \\left(- n + p + 2 tn\\right) - n \\pm \\sqrt{mk^{2} \\left(n^{2} + 2 n p + p^{2}\\right) + mk \\left(2 n^{2} + 2 n p - 4 n \\cdot tn - 4 p \\cdot tn\\right) + n^{2}}}{2 mk}$ \\\\\n",
      " & tn$_{1,2}$ & $\\dfrac{mk \\left(n - p + 2 tp\\right) \\pm p - \\sqrt{mk^{2} \\left(n^{2} + 2 n p + p^{2}\\right) + mk \\left(2 n p - 4 n \\cdot tp + 2 p^{2} - 4 p \\cdot tp\\right) + p^{2}}}{2 mk}$ \\\\\n",
      "\\multirow{2}{*}{p4} & tp$_{1,2}$ & $\\dfrac{n}{2} + \\dfrac{p}{2} + tn + \\dfrac{- 2 tn \\pm \\dfrac{\\sqrt{p_{4}^{2} \\left(n^{2} + 2 n p + 8 n \\cdot tn + p^{2} + 8 p \\cdot tn\\right) + p_{4} \\left(- 8 n \\cdot tn - 8 p \\cdot tn - 16 tn^{2}\\right) + 16 tn^{2}}}{2}}{p_{4}}$ \\\\\n",
      " & tn$_{1,2}$ & $\\dfrac{n}{2} + \\dfrac{p}{2} + tp + \\dfrac{- 2 tp \\pm \\dfrac{\\sqrt{p_{4}^{2} \\left(n^{2} + 2 n p + 8 n \\cdot tp + p^{2} + 8 p \\cdot tp\\right) + p_{4} \\left(- 8 n \\cdot tp - 8 p \\cdot tp - 16 tp^{2}\\right) + 16 tp^{2}}}{2}}{p_{4}}$ \\\\\n",
      "\\multirow{2}{*}{upm} & tp$_{1,2}$ & $\\dfrac{n}{2} + \\dfrac{p}{2} + tn + \\dfrac{- 2 tn \\pm \\dfrac{\\sqrt{16 tn^{2} + upm^{2} \\left(n^{2} + 2 n p + 8 n \\cdot tn + p^{2} + 8 p \\cdot tn\\right) + upm \\left(- 8 n \\cdot tn - 8 p \\cdot tn - 16 tn^{2}\\right)}}{2}}{upm}$ \\\\\n",
      " & tn$_{1,2}$ & $\\dfrac{n}{2} + \\dfrac{p}{2} + tp + \\dfrac{- 2 tp \\pm \\dfrac{\\sqrt{16 tp^{2} + upm^{2} \\left(n^{2} + 2 n p + 8 n \\cdot tp + p^{2} + 8 p \\cdot tp\\right) + upm \\left(- 8 n \\cdot tp - 8 p \\cdot tp - 16 tp^{2}\\right)}}{2}}{upm}$ \\\\\n",
      "\\bottomrule\n",
      "\\end{tabular}\n",
      "\n"
     ]
    }
   ],
   "source": [
    "latex = res2.to_latex(index=False).replace('frac', 'dfrac').replace('0.42', '0.85')\n",
    "latex = latex.replace('n tp', 'n \\\\cdot tp')\n",
    "latex = latex.replace('p tp', 'p \\\\cdot tp')\n",
    "latex = latex.replace('n tn', 'n \\\\cdot tn')\n",
    "latex = latex.replace('p tn', 'p \\\\cdot tn')\n",
    "latex = latex.replace('fm p', 'fm \\\\cdot p')\n",
    "print(latex)"
   ]
  },
  {
   "cell_type": "code",
   "execution_count": null,
   "metadata": {},
   "outputs": [],
   "source": []
  },
  {
   "cell_type": "code",
   "execution_count": null,
   "metadata": {},
   "outputs": [],
   "source": []
  },
  {
   "cell_type": "code",
   "execution_count": null,
   "metadata": {},
   "outputs": [],
   "source": []
  },
  {
   "cell_type": "code",
   "execution_count": null,
   "metadata": {},
   "outputs": [],
   "source": []
  },
  {
   "cell_type": "code",
   "execution_count": 781,
   "metadata": {},
   "outputs": [
    {
     "ename": "SyntaxError",
     "evalue": "invalid syntax (3232424161.py, line 1)",
     "output_type": "error",
     "traceback": [
      "\u001b[0;36m  Cell \u001b[0;32mIn[781], line 1\u001b[0;36m\u001b[0m\n\u001b[0;31m    res2 =\u001b[0m\n\u001b[0m           ^\u001b[0m\n\u001b[0;31mSyntaxError\u001b[0m\u001b[0;31m:\u001b[0m invalid syntax\n"
     ]
    }
   ],
   "source": [
    "res2 = "
   ]
  },
  {
   "cell_type": "code",
   "execution_count": null,
   "metadata": {},
   "outputs": [],
   "source": [
    "expr = eval(tmp[tmp['index'] == 'upm'].iloc[0]['tp'][0], symbols)"
   ]
  },
  {
   "cell_type": "code",
   "execution_count": null,
   "metadata": {},
   "outputs": [
    {
     "data": {
      "text/latex": [
       "$\\displaystyle \\frac{- 4 tn + upm \\left(n + p + 2 tn\\right) - \\sqrt{n^{2} upm^{2} + 2 n p upm^{2} + 8 n tn upm^{2} - 8 n tn upm + p^{2} upm^{2} + 8 p tn upm^{2} - 8 p tn upm - 16 tn^{2} upm + 16 tn^{2}}}{2 upm}$"
      ],
      "text/plain": [
       "(-4*tn + upm*(n + p + 2*tn) - sqrt(n**2*upm**2 + 2*n*p*upm**2 + 8*n*tn*upm**2 - 8*n*tn*upm + p**2*upm**2 + 8*p*tn*upm**2 - 8*p*tn*upm - 16*tn**2*upm + 16*tn**2))/(2*upm)"
      ]
     },
     "execution_count": 112,
     "metadata": {},
     "output_type": "execute_result"
    }
   ],
   "source": [
    "sp.simplify(expr)"
   ]
  },
  {
   "cell_type": "code",
   "execution_count": null,
   "metadata": {},
   "outputs": [
    {
     "data": {
      "text/plain": [
       "'n/2 + p/2 + tn - 2*tn/upm - sqrt(n**2*upm**2 + 2*n*p*upm**2 + 8*n*tn*upm**2 - 8*n*tn*upm + p**2*upm**2 + 8*p*tn*upm**2 - 8*p*tn*upm - 16*tn**2*upm + 16*tn**2)/(2*upm)'"
      ]
     },
     "execution_count": 113,
     "metadata": {},
     "output_type": "execute_result"
    }
   ],
   "source": [
    "str(expr)"
   ]
  },
  {
   "cell_type": "code",
   "execution_count": null,
   "metadata": {},
   "outputs": [],
   "source": [
    "discr = 'n**2*upm**2 + 2*n*p*upm**2 + 8*n*tn*upm**2 - 8*n*tn*upm + p**2*upm**2 + 8*p*tn*upm**2 - 8*p*tn*upm - 16*tn**2*upm + 16*tn**2'"
   ]
  },
  {
   "cell_type": "code",
   "execution_count": null,
   "metadata": {},
   "outputs": [],
   "source": [
    "discr2 = eval(discr, symbols)"
   ]
  },
  {
   "cell_type": "code",
   "execution_count": null,
   "metadata": {},
   "outputs": [
    {
     "data": {
      "text/latex": [
       "$\\displaystyle \\frac{n}{2} + \\frac{p}{2} + tn + \\frac{- 2 tn - \\frac{\\sqrt{16 tn^{2} + upm^{2} \\left(n^{2} + 2 n p + 8 n tn + p^{2} + 8 p tn\\right) + upm \\left(- 8 n tn - 8 p tn - 16 tn^{2}\\right)}}{2}}{upm}$"
      ],
      "text/plain": [
       "n/2 + p/2 + tn + (-2*tn - sqrt(16*tn**2 + upm**2*(n**2 + 2*n*p + 8*n*tn + p**2 + 8*p*tn) + upm*(-8*n*tn - 8*p*tn - 16*tn**2))/2)/upm"
      ]
     },
     "execution_count": 362,
     "metadata": {},
     "output_type": "execute_result"
    }
   ],
   "source": [
    "sp.collect(expr, symbols['upm'])"
   ]
  },
  {
   "cell_type": "code",
   "execution_count": null,
   "metadata": {},
   "outputs": [],
   "source": []
  }
 ],
 "metadata": {
  "kernelspec": {
   "display_name": "mlscorecheck",
   "language": "python",
   "name": "python3"
  },
  "language_info": {
   "codemirror_mode": {
    "name": "ipython",
    "version": 3
   },
   "file_extension": ".py",
   "mimetype": "text/x-python",
   "name": "python",
   "nbconvert_exporter": "python",
   "pygments_lexer": "ipython3",
   "version": "3.10.0"
  },
  "orig_nbformat": 4
 },
 "nbformat": 4,
 "nbformat_minor": 2
}
