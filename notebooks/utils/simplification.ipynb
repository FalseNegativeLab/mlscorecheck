{
 "cells": [
  {
   "cell_type": "code",
   "execution_count": 1,
   "metadata": {},
   "outputs": [],
   "source": [
    "import sympy as sp"
   ]
  },
  {
   "cell_type": "code",
   "execution_count": 21,
   "metadata": {},
   "outputs": [],
   "source": [
    "p = sp.Symbol('p')\n",
    "n = sp.Symbol('n')\n",
    "tp = sp.Symbol('tp')\n",
    "tn = sp.Symbol('tn')\n",
    "fp = sp.Symbol('fp')\n",
    "fn = sp.Symbol('fn')\n",
    "pt_sym = sp.Symbol('pt')"
   ]
  },
  {
   "cell_type": "code",
   "execution_count": 22,
   "metadata": {},
   "outputs": [],
   "source": [
    "tpr = tp/p\n",
    "fpr = fp/n"
   ]
  },
  {
   "cell_type": "code",
   "execution_count": 39,
   "metadata": {},
   "outputs": [],
   "source": [
    "pt = (sp.sqrt(tpr*fpr) - fpr)/(tpr - fpr)"
   ]
  },
  {
   "cell_type": "code",
   "execution_count": 40,
   "metadata": {},
   "outputs": [
    {
     "data": {
      "text/plain": [
       "'-p*(n*sqrt(tp*(n - tn)/(n*p)) - n + tn)/(-n*tp + p*(n - tn))'"
      ]
     },
     "execution_count": 40,
     "metadata": {},
     "output_type": "execute_result"
    }
   ],
   "source": [
    "str(sp.factor(pt).subs({fp: n - tn}))"
   ]
  },
  {
   "cell_type": "code",
   "execution_count": 30,
   "metadata": {},
   "outputs": [],
   "source": [
    "poly = pt_sym * (-n*tp + p*(n - tn)) - sp.factor(pt).subs({fp: n - tn}) * (-n*tp + p*(n - tn))"
   ]
  },
  {
   "cell_type": "code",
   "execution_count": 42,
   "metadata": {},
   "outputs": [
    {
     "data": {
      "text/plain": [
       "'p*(n*sqrt(tp*(n - tn)/(n*p)) - n + tn) + pt*(-n*tp + p*(n - tn))'"
      ]
     },
     "execution_count": 42,
     "metadata": {},
     "output_type": "execute_result"
    }
   ],
   "source": [
    "str(poly)"
   ]
  },
  {
   "cell_type": "code",
   "execution_count": 44,
   "metadata": {},
   "outputs": [
    {
     "data": {
      "text/latex": [
       "$\\displaystyle n p pt + n p \\sqrt{\\frac{tp}{p} - \\frac{tn tp}{n p}} - n p - n pt tp - p pt tn + p tn$"
      ],
      "text/plain": [
       "n*p*pt + n*p*sqrt(tp/p - tn*tp/(n*p)) - n*p - n*pt*tp - p*pt*tn + p*tn"
      ]
     },
     "execution_count": 44,
     "metadata": {},
     "output_type": "execute_result"
    }
   ],
   "source": [
    "sp.factor(poly)"
   ]
  },
  {
   "cell_type": "code",
   "execution_count": 45,
   "metadata": {},
   "outputs": [],
   "source": [
    "lhs = n*p*sp.sqrt(tp/p - tn*tp/(n*p))\n",
    "rhs = -n*p*pt_sym + n*p + n*pt_sym*tp - p*pt_sym*tn + p*tn\n",
    "\n",
    "lhs = lhs**2\n",
    "rhs = rhs**2\n",
    "lhs = lhs/(n**2*p**2)\n",
    "rhs = rhs/(n**2*p**2)"
   ]
  },
  {
   "cell_type": "code",
   "execution_count": 47,
   "metadata": {},
   "outputs": [
    {
     "data": {
      "text/plain": [
       "'tp/p - tn*tp/(n*p) - (-n*p*pt + n*p + n*pt*tp - p*pt*tn + p*tn)**2/(n**2*p**2)'"
      ]
     },
     "execution_count": 47,
     "metadata": {},
     "output_type": "execute_result"
    }
   ],
   "source": [
    "str(lhs - rhs)"
   ]
  },
  {
   "cell_type": "code",
   "execution_count": 38,
   "metadata": {},
   "outputs": [
    {
     "data": {
      "text/plain": [
       "'-tp/p + tn*tp/(n*p) + (n*p*pt - n*p - n*pt*tp - p*pt*tn + p*tn)**2/(n**2*p**2)'"
      ]
     },
     "execution_count": 38,
     "metadata": {},
     "output_type": "execute_result"
    }
   ],
   "source": [
    "str((sp.factor(poly) - (n*p*sp.sqrt(tp/p - tn*tp/(n*p))))**2 / (n**2*p**2) - (tp/p - tn*tp/(n*p)))"
   ]
  },
  {
   "cell_type": "code",
   "execution_count": null,
   "metadata": {},
   "outputs": [],
   "source": []
  }
 ],
 "metadata": {
  "kernelspec": {
   "display_name": "mlscorecheck",
   "language": "python",
   "name": "python3"
  },
  "language_info": {
   "codemirror_mode": {
    "name": "ipython",
    "version": 3
   },
   "file_extension": ".py",
   "mimetype": "text/x-python",
   "name": "python",
   "nbconvert_exporter": "python",
   "pygments_lexer": "ipython3",
   "version": "3.10.0"
  },
  "orig_nbformat": 4
 },
 "nbformat": 4,
 "nbformat_minor": 2
}
