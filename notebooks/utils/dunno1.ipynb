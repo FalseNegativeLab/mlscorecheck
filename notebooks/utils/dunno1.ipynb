{
 "cells": [
  {
   "cell_type": "code",
   "execution_count": 1,
   "metadata": {},
   "outputs": [],
   "source": [
    "from mlscorecheck.individual import check_scores_tptn"
   ]
  },
  {
   "cell_type": "code",
   "execution_count": 4,
   "metadata": {},
   "outputs": [
    {
     "name": "stderr",
     "output_type": "stream",
     "text": [
      "2023-09-04 14:41:26,803:INFO:testing acc, feasible tptn pairs: 9000000000\n",
      "2023-09-04 14:41:31,640:INFO:testing sens, feasible tptn pairs: 300001\n",
      "2023-09-04 14:41:32,351:INFO:testing spec, feasible tptn pairs: 7201\n",
      "2023-09-04 14:41:32,353:INFO:constructing final tp, tn pair set\n",
      "2023-09-04 14:41:32,354:INFO:final number of intervals: 4471\n",
      "2023-09-04 14:41:32,371:INFO:final number of pairs: 2506771\n"
     ]
    },
    {
     "data": {
      "text/plain": [
       "{'inconsistency': False,\n",
       " 'details': [{'testing': 'acc',\n",
       "   'score_interval': (0.9439989999999999, 0.964001),\n",
       "   'n_tptn_pairs_before': 9000000000,\n",
       "   'n_tptn_pairs_after': 300001,\n",
       "   'decision': 'continue'},\n",
       "  {'testing': 'sens',\n",
       "   'score_interval': (0.924999, 0.9450010000000001),\n",
       "   'n_tptn_pairs_before': 300001,\n",
       "   'n_tptn_pairs_after': 7201,\n",
       "   'decision': 'continue'},\n",
       "  {'testing': 'spec',\n",
       "   'score_interval': (0.9529989999999999, 0.973001),\n",
       "   'n_tptn_pairs_before': 7201,\n",
       "   'n_tptn_pairs_after': 4471,\n",
       "   'decision': 'continue'}]}"
      ]
     },
     "execution_count": 4,
     "metadata": {},
     "output_type": "execute_result"
    }
   ],
   "source": [
    "check_scores_tptn(p=30000, n=300000, scores={'acc': 0.954, 'sens': 0.935, 'spec': 0.963}, \n",
    "                  eps=1e-2,\n",
    "                  solve_for='tp')"
   ]
  },
  {
   "cell_type": "code",
   "execution_count": 3,
   "metadata": {},
   "outputs": [
    {
     "name": "stderr",
     "output_type": "stream",
     "text": [
      "2023-09-04 13:48:48,116:INFO:testing acc, feasible tptn pairs: 60000\n",
      "2023-09-04 13:48:48,124:INFO:testing sens, feasible tptn pairs: 275\n",
      "2023-09-04 13:48:48,126:INFO:testing spec, feasible tptn pairs: 44\n"
     ]
    },
    {
     "data": {
      "text/plain": [
       "{'inconsistency': False,\n",
       " 'details': [{'testing': 'acc',\n",
       "   'score_interval': (0.9439989999999999, 0.964001),\n",
       "   'n_tptn_pairs_before': 60000,\n",
       "   'n_tptn_pairs_after': 275,\n",
       "   'decision': 'continue'},\n",
       "  {'testing': 'sens',\n",
       "   'score_interval': (0.9279989999999999, 0.948001),\n",
       "   'n_tptn_pairs_before': 275,\n",
       "   'n_tptn_pairs_after': 44,\n",
       "   'decision': 'continue'},\n",
       "  {'testing': 'spec',\n",
       "   'score_interval': (0.9529989999999999, 0.973001),\n",
       "   'n_tptn_pairs_before': 44,\n",
       "   'n_tptn_pairs_after': 24,\n",
       "   'decision': 'continue'}]}"
      ]
     },
     "execution_count": 3,
     "metadata": {},
     "output_type": "execute_result"
    }
   ],
   "source": [
    "check_scores_tptn(p=200, n=300, scores={'acc': 0.954, 'sens': 0.938, 'spec': 0.963}, eps=1e-2,\n",
    "                  solve_for='tn')"
   ]
  },
  {
   "cell_type": "code",
   "execution_count": 3,
   "metadata": {},
   "outputs": [
    {
     "name": "stderr",
     "output_type": "stream",
     "text": [
      "2023-09-04 10:27:09,940:INFO:testing acc, feasible tptn pairs: 6000000\n",
      "2023-09-04 10:27:10,019:INFO:no more feasible tp,tn pairs left\n",
      "2023-09-04 10:27:10,022:INFO:testing acc, feasible tptn pairs: 6000000\n",
      "2023-09-04 10:27:10,086:INFO:no more feasible tp,tn pairs left\n",
      "2023-09-04 10:27:10,087:INFO:testing acc, feasible tptn pairs: 6000000\n",
      "2023-09-04 10:27:10,130:INFO:no more feasible tp,tn pairs left\n",
      "2023-09-04 10:27:10,131:INFO:testing acc, feasible tptn pairs: 6000000\n",
      "2023-09-04 10:27:10,178:INFO:no more feasible tp,tn pairs left\n",
      "2023-09-04 10:27:10,180:INFO:testing acc, feasible tptn pairs: 6000000\n",
      "2023-09-04 10:27:10,231:INFO:no more feasible tp,tn pairs left\n",
      "2023-09-04 10:27:10,233:INFO:testing acc, feasible tptn pairs: 6000000\n",
      "2023-09-04 10:27:10,275:INFO:no more feasible tp,tn pairs left\n",
      "2023-09-04 10:27:10,277:INFO:testing acc, feasible tptn pairs: 6000000\n",
      "2023-09-04 10:27:10,307:INFO:no more feasible tp,tn pairs left\n",
      "2023-09-04 10:27:10,308:INFO:testing acc, feasible tptn pairs: 6000000\n",
      "2023-09-04 10:27:10,344:INFO:no more feasible tp,tn pairs left\n",
      "2023-09-04 10:27:10,346:INFO:testing acc, feasible tptn pairs: 6000000\n",
      "2023-09-04 10:27:10,378:INFO:no more feasible tp,tn pairs left\n",
      "2023-09-04 10:27:10,380:INFO:testing acc, feasible tptn pairs: 6000000\n",
      "2023-09-04 10:27:10,407:INFO:no more feasible tp,tn pairs left\n",
      "2023-09-04 10:27:10,408:INFO:testing acc, feasible tptn pairs: 6000000\n",
      "2023-09-04 10:27:10,444:INFO:no more feasible tp,tn pairs left\n",
      "2023-09-04 10:27:10,445:INFO:testing acc, feasible tptn pairs: 6000000\n",
      "2023-09-04 10:27:10,477:INFO:no more feasible tp,tn pairs left\n",
      "2023-09-04 10:27:10,477:INFO:testing acc, feasible tptn pairs: 6000000\n",
      "2023-09-04 10:27:10,510:INFO:no more feasible tp,tn pairs left\n",
      "2023-09-04 10:27:10,511:INFO:testing acc, feasible tptn pairs: 6000000\n",
      "2023-09-04 10:27:10,537:INFO:no more feasible tp,tn pairs left\n",
      "2023-09-04 10:27:10,538:INFO:testing acc, feasible tptn pairs: 6000000\n",
      "2023-09-04 10:27:10,562:INFO:no more feasible tp,tn pairs left\n",
      "2023-09-04 10:27:10,563:INFO:testing acc, feasible tptn pairs: 6000000\n",
      "2023-09-04 10:27:10,590:INFO:no more feasible tp,tn pairs left\n",
      "2023-09-04 10:27:10,590:INFO:testing acc, feasible tptn pairs: 6000000\n",
      "2023-09-04 10:27:10,621:INFO:no more feasible tp,tn pairs left\n",
      "2023-09-04 10:27:10,621:INFO:testing acc, feasible tptn pairs: 6000000\n",
      "2023-09-04 10:27:10,648:INFO:no more feasible tp,tn pairs left\n",
      "2023-09-04 10:27:10,649:INFO:testing acc, feasible tptn pairs: 6000000\n",
      "2023-09-04 10:27:10,674:INFO:no more feasible tp,tn pairs left\n",
      "2023-09-04 10:27:10,675:INFO:testing acc, feasible tptn pairs: 6000000\n",
      "2023-09-04 10:27:10,703:INFO:no more feasible tp,tn pairs left\n",
      "2023-09-04 10:27:10,704:INFO:testing acc, feasible tptn pairs: 6000000\n",
      "2023-09-04 10:27:10,730:INFO:no more feasible tp,tn pairs left\n",
      "2023-09-04 10:27:10,731:INFO:testing acc, feasible tptn pairs: 6000000\n",
      "2023-09-04 10:27:10,757:INFO:no more feasible tp,tn pairs left\n",
      "2023-09-04 10:27:10,758:INFO:testing acc, feasible tptn pairs: 6000000\n",
      "2023-09-04 10:27:10,785:INFO:no more feasible tp,tn pairs left\n",
      "2023-09-04 10:27:10,786:INFO:testing acc, feasible tptn pairs: 6000000\n",
      "2023-09-04 10:27:10,810:INFO:no more feasible tp,tn pairs left\n",
      "2023-09-04 10:27:10,811:INFO:testing acc, feasible tptn pairs: 6000000\n",
      "2023-09-04 10:27:10,838:INFO:no more feasible tp,tn pairs left\n",
      "2023-09-04 10:27:10,839:INFO:testing acc, feasible tptn pairs: 6000000\n",
      "2023-09-04 10:27:10,864:INFO:no more feasible tp,tn pairs left\n",
      "2023-09-04 10:27:10,865:INFO:testing acc, feasible tptn pairs: 6000000\n",
      "2023-09-04 10:27:10,888:INFO:no more feasible tp,tn pairs left\n",
      "2023-09-04 10:27:10,889:INFO:testing acc, feasible tptn pairs: 6000000\n",
      "2023-09-04 10:27:10,918:INFO:no more feasible tp,tn pairs left\n",
      "2023-09-04 10:27:10,919:INFO:testing acc, feasible tptn pairs: 6000000\n",
      "2023-09-04 10:27:10,944:INFO:no more feasible tp,tn pairs left\n",
      "2023-09-04 10:27:10,947:INFO:testing acc, feasible tptn pairs: 6000000\n",
      "2023-09-04 10:27:10,971:INFO:no more feasible tp,tn pairs left\n",
      "2023-09-04 10:27:10,971:INFO:testing acc, feasible tptn pairs: 6000000\n",
      "2023-09-04 10:27:10,997:INFO:no more feasible tp,tn pairs left\n",
      "2023-09-04 10:27:10,998:INFO:testing acc, feasible tptn pairs: 6000000\n",
      "2023-09-04 10:27:11,024:INFO:no more feasible tp,tn pairs left\n",
      "2023-09-04 10:27:11,024:INFO:testing acc, feasible tptn pairs: 6000000\n",
      "2023-09-04 10:27:11,054:INFO:no more feasible tp,tn pairs left\n",
      "2023-09-04 10:27:11,055:INFO:testing acc, feasible tptn pairs: 6000000\n",
      "2023-09-04 10:27:11,079:INFO:no more feasible tp,tn pairs left\n",
      "2023-09-04 10:27:11,080:INFO:testing acc, feasible tptn pairs: 6000000\n",
      "2023-09-04 10:27:11,111:INFO:no more feasible tp,tn pairs left\n",
      "2023-09-04 10:27:11,113:INFO:testing acc, feasible tptn pairs: 6000000\n",
      "2023-09-04 10:27:11,141:INFO:no more feasible tp,tn pairs left\n",
      "2023-09-04 10:27:11,142:INFO:testing acc, feasible tptn pairs: 6000000\n",
      "2023-09-04 10:27:11,170:INFO:no more feasible tp,tn pairs left\n",
      "2023-09-04 10:27:11,171:INFO:testing acc, feasible tptn pairs: 6000000\n",
      "2023-09-04 10:27:11,207:INFO:no more feasible tp,tn pairs left\n",
      "2023-09-04 10:27:11,208:INFO:testing acc, feasible tptn pairs: 6000000\n",
      "2023-09-04 10:27:11,238:INFO:no more feasible tp,tn pairs left\n",
      "2023-09-04 10:27:11,239:INFO:testing acc, feasible tptn pairs: 6000000\n",
      "2023-09-04 10:27:11,278:INFO:no more feasible tp,tn pairs left\n",
      "2023-09-04 10:27:11,279:INFO:testing acc, feasible tptn pairs: 6000000\n",
      "2023-09-04 10:27:11,326:INFO:no more feasible tp,tn pairs left\n",
      "2023-09-04 10:27:11,327:INFO:testing acc, feasible tptn pairs: 6000000\n",
      "2023-09-04 10:27:11,375:INFO:no more feasible tp,tn pairs left\n",
      "2023-09-04 10:27:11,377:INFO:testing acc, feasible tptn pairs: 6000000\n",
      "2023-09-04 10:27:11,436:INFO:no more feasible tp,tn pairs left\n",
      "2023-09-04 10:27:11,438:INFO:testing acc, feasible tptn pairs: 6000000\n",
      "2023-09-04 10:27:11,470:INFO:no more feasible tp,tn pairs left\n",
      "2023-09-04 10:27:11,471:INFO:testing acc, feasible tptn pairs: 6000000\n",
      "2023-09-04 10:27:11,498:INFO:no more feasible tp,tn pairs left\n",
      "2023-09-04 10:27:11,499:INFO:testing acc, feasible tptn pairs: 6000000\n",
      "2023-09-04 10:27:11,527:INFO:no more feasible tp,tn pairs left\n",
      "2023-09-04 10:27:11,528:INFO:testing acc, feasible tptn pairs: 6000000\n",
      "2023-09-04 10:27:11,553:INFO:no more feasible tp,tn pairs left\n",
      "2023-09-04 10:27:11,554:INFO:testing acc, feasible tptn pairs: 6000000\n",
      "2023-09-04 10:27:11,577:INFO:no more feasible tp,tn pairs left\n",
      "2023-09-04 10:27:11,578:INFO:testing acc, feasible tptn pairs: 6000000\n",
      "2023-09-04 10:27:11,604:INFO:no more feasible tp,tn pairs left\n",
      "2023-09-04 10:27:11,605:INFO:testing acc, feasible tptn pairs: 6000000\n",
      "2023-09-04 10:27:11,630:INFO:no more feasible tp,tn pairs left\n",
      "2023-09-04 10:27:11,632:INFO:testing acc, feasible tptn pairs: 6000000\n",
      "2023-09-04 10:27:11,658:INFO:no more feasible tp,tn pairs left\n",
      "2023-09-04 10:27:11,659:INFO:testing acc, feasible tptn pairs: 6000000\n",
      "2023-09-04 10:27:11,687:INFO:no more feasible tp,tn pairs left\n",
      "2023-09-04 10:27:11,688:INFO:testing acc, feasible tptn pairs: 6000000\n",
      "2023-09-04 10:27:11,714:INFO:no more feasible tp,tn pairs left\n",
      "2023-09-04 10:27:11,715:INFO:testing acc, feasible tptn pairs: 6000000\n",
      "2023-09-04 10:27:11,742:INFO:no more feasible tp,tn pairs left\n",
      "2023-09-04 10:27:11,742:INFO:testing acc, feasible tptn pairs: 6000000\n",
      "2023-09-04 10:27:11,769:INFO:no more feasible tp,tn pairs left\n",
      "2023-09-04 10:27:11,770:INFO:testing acc, feasible tptn pairs: 6000000\n",
      "2023-09-04 10:27:11,802:INFO:no more feasible tp,tn pairs left\n",
      "2023-09-04 10:27:11,803:INFO:testing acc, feasible tptn pairs: 6000000\n",
      "2023-09-04 10:27:11,828:INFO:no more feasible tp,tn pairs left\n",
      "2023-09-04 10:27:11,829:INFO:testing acc, feasible tptn pairs: 6000000\n",
      "2023-09-04 10:27:11,856:INFO:no more feasible tp,tn pairs left\n",
      "2023-09-04 10:27:11,857:INFO:testing acc, feasible tptn pairs: 6000000\n",
      "2023-09-04 10:27:11,883:INFO:no more feasible tp,tn pairs left\n",
      "2023-09-04 10:27:11,884:INFO:testing acc, feasible tptn pairs: 6000000\n",
      "2023-09-04 10:27:11,908:INFO:no more feasible tp,tn pairs left\n",
      "2023-09-04 10:27:11,909:INFO:testing acc, feasible tptn pairs: 6000000\n",
      "2023-09-04 10:27:11,942:INFO:no more feasible tp,tn pairs left\n",
      "2023-09-04 10:27:11,943:INFO:testing acc, feasible tptn pairs: 6000000\n",
      "2023-09-04 10:27:11,971:INFO:no more feasible tp,tn pairs left\n",
      "2023-09-04 10:27:11,972:INFO:testing acc, feasible tptn pairs: 6000000\n",
      "2023-09-04 10:27:11,998:INFO:no more feasible tp,tn pairs left\n",
      "2023-09-04 10:27:11,999:INFO:testing acc, feasible tptn pairs: 6000000\n",
      "2023-09-04 10:27:12,024:INFO:no more feasible tp,tn pairs left\n",
      "2023-09-04 10:27:12,025:INFO:testing acc, feasible tptn pairs: 6000000\n",
      "2023-09-04 10:27:12,051:INFO:no more feasible tp,tn pairs left\n",
      "2023-09-04 10:27:12,052:INFO:testing acc, feasible tptn pairs: 6000000\n",
      "2023-09-04 10:27:12,080:INFO:no more feasible tp,tn pairs left\n",
      "2023-09-04 10:27:12,081:INFO:testing acc, feasible tptn pairs: 6000000\n",
      "2023-09-04 10:27:12,107:INFO:no more feasible tp,tn pairs left\n",
      "2023-09-04 10:27:12,108:INFO:testing acc, feasible tptn pairs: 6000000\n",
      "2023-09-04 10:27:12,136:INFO:no more feasible tp,tn pairs left\n",
      "2023-09-04 10:27:12,137:INFO:testing acc, feasible tptn pairs: 6000000\n",
      "2023-09-04 10:27:12,173:INFO:no more feasible tp,tn pairs left\n",
      "2023-09-04 10:27:12,175:INFO:testing acc, feasible tptn pairs: 6000000\n",
      "2023-09-04 10:27:12,202:INFO:no more feasible tp,tn pairs left\n",
      "2023-09-04 10:27:12,202:INFO:testing acc, feasible tptn pairs: 6000000\n",
      "2023-09-04 10:27:12,225:INFO:no more feasible tp,tn pairs left\n",
      "2023-09-04 10:27:12,226:INFO:testing acc, feasible tptn pairs: 6000000\n",
      "2023-09-04 10:27:12,253:INFO:no more feasible tp,tn pairs left\n",
      "2023-09-04 10:27:12,253:INFO:testing acc, feasible tptn pairs: 6000000\n",
      "2023-09-04 10:27:12,281:INFO:no more feasible tp,tn pairs left\n",
      "2023-09-04 10:27:12,282:INFO:testing acc, feasible tptn pairs: 6000000\n",
      "2023-09-04 10:27:12,309:INFO:no more feasible tp,tn pairs left\n",
      "2023-09-04 10:27:12,310:INFO:testing acc, feasible tptn pairs: 6000000\n",
      "2023-09-04 10:27:12,339:INFO:no more feasible tp,tn pairs left\n",
      "2023-09-04 10:27:12,340:INFO:testing acc, feasible tptn pairs: 6000000\n",
      "2023-09-04 10:27:12,368:INFO:no more feasible tp,tn pairs left\n",
      "2023-09-04 10:27:12,369:INFO:testing acc, feasible tptn pairs: 6000000\n",
      "2023-09-04 10:27:12,397:INFO:no more feasible tp,tn pairs left\n",
      "2023-09-04 10:27:12,399:INFO:testing acc, feasible tptn pairs: 6000000\n",
      "2023-09-04 10:27:12,424:INFO:no more feasible tp,tn pairs left\n",
      "2023-09-04 10:27:12,425:INFO:testing acc, feasible tptn pairs: 6000000\n",
      "2023-09-04 10:27:12,452:INFO:no more feasible tp,tn pairs left\n",
      "2023-09-04 10:27:12,452:INFO:testing acc, feasible tptn pairs: 6000000\n",
      "2023-09-04 10:27:12,480:INFO:no more feasible tp,tn pairs left\n",
      "2023-09-04 10:27:12,481:INFO:testing acc, feasible tptn pairs: 6000000\n",
      "2023-09-04 10:27:12,505:INFO:no more feasible tp,tn pairs left\n"
     ]
    },
    {
     "name": "stdout",
     "output_type": "stream",
     "text": [
      "29.4 ms ± 2.34 ms per loop (mean ± std. dev. of 7 runs, 10 loops each)\n"
     ]
    }
   ],
   "source": [
    "%%timeit\n",
    "check_scores_tptn(p=2000, n=3000, scores={'acc': 0.954, 'sens': 0.938, 'spec': 0.963}, eps=1e-3)"
   ]
  },
  {
   "cell_type": "code",
   "execution_count": null,
   "metadata": {},
   "outputs": [],
   "source": []
  }
 ],
 "metadata": {
  "kernelspec": {
   "display_name": "mlscorecheck",
   "language": "python",
   "name": "python3"
  },
  "language_info": {
   "codemirror_mode": {
    "name": "ipython",
    "version": 3
   },
   "file_extension": ".py",
   "mimetype": "text/x-python",
   "name": "python",
   "nbconvert_exporter": "python",
   "pygments_lexer": "ipython3",
   "version": "3.10.0"
  },
  "orig_nbformat": 4
 },
 "nbformat": 4,
 "nbformat_minor": 2
}
