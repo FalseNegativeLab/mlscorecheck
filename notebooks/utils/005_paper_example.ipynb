{
 "cells": [
  {
   "cell_type": "code",
   "execution_count": 3,
   "metadata": {},
   "outputs": [],
   "source": [
    "from mlscorecheck.individual import calculate_scores, check_scores_tptn_pairs, Interval, acc_tn\n",
    "from mlscorecheck.check import check_1_dataset_known_folds_mos_scores"
   ]
  },
  {
   "cell_type": "code",
   "execution_count": 4,
   "metadata": {},
   "outputs": [
    {
     "data": {
      "text/plain": [
       "(71.86000000000001, 72.08000000000001)"
      ]
     },
     "execution_count": 4,
     "metadata": {},
     "output_type": "execute_result"
    }
   ],
   "source": [
    "acc_tn(tp=30, p=40, n=70, acc=Interval(0.926, 0.928))"
   ]
  },
  {
   "cell_type": "code",
   "execution_count": 5,
   "metadata": {},
   "outputs": [],
   "source": [
    "figures = {'p': 1000,\n",
    "            'n': 6000,\n",
    "            'tp': 743,\n",
    "            'tn': 4032,\n",
    "            'beta_positive': 2,\n",
    "            'beta_negative': 2}"
   ]
  },
  {
   "cell_type": "code",
   "execution_count": 6,
   "metadata": {},
   "outputs": [],
   "source": [
    "scores = calculate_scores(figures, rounding_decimals=4)"
   ]
  },
  {
   "cell_type": "code",
   "execution_count": 7,
   "metadata": {},
   "outputs": [
    {
     "data": {
      "text/plain": [
       "{'acc': 0.6821,\n",
       " 'sens': 0.743,\n",
       " 'spec': 0.672,\n",
       " 'npv': 0.9401,\n",
       " 'ppv': 0.2741,\n",
       " 'bacc': 0.7075,\n",
       " 'f1p': 0.4004,\n",
       " 'fm': 0.4513,\n",
       " 'f1n': 0.7837,\n",
       " 'fbp': 0.5536,\n",
       " 'fbn': 0.7126,\n",
       " 'bm': 0.415,\n",
       " 'pt': 0.3992,\n",
       " 'lrp': 2.2652,\n",
       " 'lrn': 0.3824,\n",
       " 'mk': 0.2141,\n",
       " 'dor': 5.9231,\n",
       " 'mcc': 0.2981,\n",
       " 'ji': 0.2503,\n",
       " 'kappa': 0.2423,\n",
       " 'gm': 0.7066,\n",
       " 'upm': 0.5301}"
      ]
     },
     "execution_count": 7,
     "metadata": {},
     "output_type": "execute_result"
    }
   ],
   "source": [
    "scores"
   ]
  },
  {
   "cell_type": "code",
   "execution_count": 8,
   "metadata": {},
   "outputs": [],
   "source": [
    "scores_subset = {key: value for key, value in scores.items() if key in ['acc', 'npv', 'f1p']}"
   ]
  },
  {
   "cell_type": "code",
   "execution_count": 9,
   "metadata": {},
   "outputs": [
    {
     "data": {
      "text/plain": [
       "{'acc': 0.6821, 'npv': 0.9401, 'f1p': 0.4004}"
      ]
     },
     "execution_count": 9,
     "metadata": {},
     "output_type": "execute_result"
    }
   ],
   "source": [
    "scores_subset"
   ]
  },
  {
   "cell_type": "code",
   "execution_count": 10,
   "metadata": {},
   "outputs": [
    {
     "name": "stderr",
     "output_type": "stream",
     "text": [
      "2023-10-10 20:42:56,407:INFO:testing acc, feasible tptn pairs: 1001\n",
      "2023-10-10 20:42:56,432:INFO:testing npv, feasible tptn pairs: 1001\n",
      "2023-10-10 20:42:56,455:INFO:testing f1p, feasible tptn pairs: 1\n",
      "2023-10-10 20:42:56,456:INFO:constructing final tp, tn pair set\n",
      "2023-10-10 20:42:56,457:INFO:final number of intervals: 1\n",
      "2023-10-10 20:42:56,458:INFO:final number of pairs: 2\n"
     ]
    },
    {
     "data": {
      "text/plain": [
       "{'inconsistency': False,\n",
       " 'details': [{'testing': 'acc',\n",
       "   'score_interval': (0.681999, 0.6822010000000001),\n",
       "   'n_tptn_pairs_before': 1001,\n",
       "   'n_tptn_pairs_after': 1001,\n",
       "   'decision': 'continue'},\n",
       "  {'testing': 'npv',\n",
       "   'score_interval': (0.939999, 0.9402010000000001),\n",
       "   'n_tptn_pairs_before': 1001,\n",
       "   'n_tptn_pairs_after': 1,\n",
       "   'decision': 'continue'},\n",
       "  {'testing': 'f1p',\n",
       "   'score_interval': (0.40029899999999996, 0.400501),\n",
       "   'n_tptn_pairs_before': 1,\n",
       "   'n_tptn_pairs_after': 1,\n",
       "   'decision': 'continue'}],\n",
       " 'n_valid_tptn_pairs': 2,\n",
       " 'iterate_by': 'tp',\n",
       " 'solve_for': 'tn',\n",
       " 'evidence': (743, (4031, 4032))}"
      ]
     },
     "execution_count": 10,
     "metadata": {},
     "output_type": "execute_result"
    }
   ],
   "source": [
    "check_scores_tptn_pairs(scores=scores_subset,\n",
    "                        p=figures['p'],\n",
    "                        n=figures['n'],\n",
    "                        eps=1e-4)"
   ]
  },
  {
   "cell_type": "code",
   "execution_count": 11,
   "metadata": {},
   "outputs": [],
   "source": [
    "scores_mod = {**scores}\n",
    "scores_mod['acc'] = scores['acc'] + 1e-3"
   ]
  },
  {
   "cell_type": "code",
   "execution_count": 12,
   "metadata": {},
   "outputs": [
    {
     "name": "stderr",
     "output_type": "stream",
     "text": [
      "2023-10-10 20:42:56,480:INFO:testing acc, feasible tptn pairs: 1001\n",
      "2023-10-10 20:42:56,502:INFO:testing sens, feasible tptn pairs: 1001\n",
      "2023-10-10 20:42:56,504:INFO:testing spec, feasible tptn pairs: 1\n",
      "2023-10-10 20:42:56,505:INFO:no more feasible tp,tn pairs left\n",
      "2023-10-10 20:42:56,506:INFO:constructing final tp, tn pair set\n",
      "2023-10-10 20:42:56,506:INFO:final number of intervals: 0\n",
      "2023-10-10 20:42:56,507:INFO:final number of pairs: 0\n"
     ]
    },
    {
     "data": {
      "text/plain": [
       "{'inconsistency': True,\n",
       " 'details': [{'testing': 'acc',\n",
       "   'score_interval': (0.682999, 0.6832010000000001),\n",
       "   'n_tptn_pairs_before': 1001,\n",
       "   'n_tptn_pairs_after': 1001,\n",
       "   'decision': 'continue'},\n",
       "  {'testing': 'sens',\n",
       "   'score_interval': (0.742899, 0.743101),\n",
       "   'n_tptn_pairs_before': 1001,\n",
       "   'n_tptn_pairs_after': 1,\n",
       "   'decision': 'continue'},\n",
       "  {'testing': 'spec',\n",
       "   'score_interval': (0.671899, 0.6721010000000001),\n",
       "   'n_tptn_pairs_before': 1,\n",
       "   'n_tptn_pairs_after': 0,\n",
       "   'decision': 'infeasible'}],\n",
       " 'n_valid_tptn_pairs': 0,\n",
       " 'iterate_by': 'tp',\n",
       " 'solve_for': 'tn',\n",
       " 'evidence': None}"
      ]
     },
     "execution_count": 12,
     "metadata": {},
     "output_type": "execute_result"
    }
   ],
   "source": [
    "check_scores_tptn_pairs(scores=scores_mod,\n",
    "                        p=figures['p'],\n",
    "                        n=figures['n'],\n",
    "                        eps=1e-4)"
   ]
  },
  {
   "cell_type": "code",
   "execution_count": 13,
   "metadata": {},
   "outputs": [
    {
     "name": "stderr",
     "output_type": "stream",
     "text": [
      "2023-10-10 20:42:56,518:INFO:testing acc, feasible tptn pairs: 1101\n",
      "2023-10-10 20:42:56,541:INFO:testing npv, feasible tptn pairs: 1101\n",
      "2023-10-10 20:42:56,561:INFO:testing f1p, feasible tptn pairs: 1\n",
      "2023-10-10 20:42:56,562:INFO:no more feasible tp,tn pairs left\n",
      "2023-10-10 20:42:56,563:INFO:constructing final tp, tn pair set\n",
      "2023-10-10 20:42:56,564:INFO:final number of intervals: 0\n",
      "2023-10-10 20:42:56,564:INFO:final number of pairs: 0\n"
     ]
    },
    {
     "data": {
      "text/plain": [
       "{'inconsistency': True,\n",
       " 'details': [{'testing': 'acc',\n",
       "   'score_interval': (0.681999, 0.6822010000000001),\n",
       "   'n_tptn_pairs_before': 1101,\n",
       "   'n_tptn_pairs_after': 1101,\n",
       "   'decision': 'continue'},\n",
       "  {'testing': 'npv',\n",
       "   'score_interval': (0.939999, 0.9402010000000001),\n",
       "   'n_tptn_pairs_before': 1101,\n",
       "   'n_tptn_pairs_after': 1,\n",
       "   'decision': 'continue'},\n",
       "  {'testing': 'f1p',\n",
       "   'score_interval': (0.40029899999999996, 0.400501),\n",
       "   'n_tptn_pairs_before': 1,\n",
       "   'n_tptn_pairs_after': 0,\n",
       "   'decision': 'infeasible'}],\n",
       " 'n_valid_tptn_pairs': 0,\n",
       " 'iterate_by': 'tp',\n",
       " 'solve_for': 'tn',\n",
       " 'evidence': None}"
      ]
     },
     "execution_count": 13,
     "metadata": {},
     "output_type": "execute_result"
    }
   ],
   "source": [
    "check_scores_tptn_pairs(scores=scores_subset,\n",
    "                        p=1100,\n",
    "                        n=figures['n'],\n",
    "                        eps=1e-4)"
   ]
  },
  {
   "cell_type": "code",
   "execution_count": 14,
   "metadata": {},
   "outputs": [
    {
     "ename": "SyntaxError",
     "evalue": "unexpected character after line continuation character (1299330275.py, line 1)",
     "output_type": "error",
     "traceback": [
      "\u001b[0;36m  Cell \u001b[0;32mIn[14], line 1\u001b[0;36m\u001b[0m\n\u001b[0;31m    0 & 100 & 201 & 78 & 189 \\\\\u001b[0m\n\u001b[0m                              ^\u001b[0m\n\u001b[0;31mSyntaxError\u001b[0m\u001b[0;31m:\u001b[0m unexpected character after line continuation character\n"
     ]
    }
   ],
   "source": [
    "0 & 100 & 201 & 78 & 189 \\\\\n",
    "1 & 100 & 200 & 65 & 191 \\\\\n",
    "2 & 100 & 200 & 81 & 160 \\\\\n",
    "3 & 101 & 200 & 75 & 164 \\\\\n",
    "4 & 101 & 200 & 72 & 171 \\\\"
   ]
  },
  {
   "cell_type": "code",
   "execution_count": 15,
   "metadata": {},
   "outputs": [],
   "source": [
    "folds = [{'p': 100, 'n': 201},\n",
    "            {'p': 100, 'n': 200},\n",
    "            {'p': 100, 'n': 200},\n",
    "            {'p': 101, 'n': 200},\n",
    "            {'p': 101, 'n': 200}]"
   ]
  },
  {
   "cell_type": "code",
   "execution_count": null,
   "metadata": {},
   "outputs": [],
   "source": [
    "\\hat{v}_{acc}^{MoS} = 0.829, \\quad\n",
    "\\hat{v}_{sens}^{MoS} = 0.7391, \\quad\n",
    "\\hat{v}_{spec}^{MoS} = 0.8741"
   ]
  },
  {
   "cell_type": "code",
   "execution_count": 16,
   "metadata": {},
   "outputs": [],
   "source": [
    "scores = {'acc': 0.829,\n",
    "            'sens': 0.7391,\n",
    "            'spec': 0.8741}"
   ]
  },
  {
   "cell_type": "code",
   "execution_count": 22,
   "metadata": {},
   "outputs": [],
   "source": [
    "scores = {'acc': 0.8280,\n",
    "            'sens': 0.7391,\n",
    "            'spec': 0.8741}"
   ]
  },
  {
   "cell_type": "code",
   "execution_count": 23,
   "metadata": {},
   "outputs": [
    {
     "name": "stdout",
     "output_type": "stream",
     "text": [
      "Welcome to the CBC MILP Solver \n",
      "Version: 2.10.3 \n",
      "Build Date: Dec 15 2019 \n",
      "\n",
      "command line - /home/gykovacs/anaconda3/envs/mlscorecheck/lib/python3.10/site-packages/pulp/solverdir/cbc/linux/64/cbc /tmp/4ee10ac3b4bf4c89ace58aeb8bcdaae2-pulp.mps timeMode elapsed branch printingOptions all solution /tmp/4ee10ac3b4bf4c89ace58aeb8bcdaae2-pulp.sol (default strategy 1)\n",
      "At line 2 NAME          MODEL\n",
      "At line 3 ROWS\n",
      "At line 11 COLUMNS\n",
      "At line 73 RHS\n",
      "At line 80 BOUNDS\n",
      "At line 92 ENDATA\n",
      "Problem MODEL has 6 rows, 11 columns and 40 elements\n",
      "Coin0008I MODEL read with 0 errors\n",
      "Option for timeMode changed from cpu to elapsed\n",
      "Problem is infeasible - 0.00 seconds\n",
      "Option for printingOptions changed from normal to all\n",
      "Total time (CPU seconds):       0.00   (Wallclock seconds):       0.00\n",
      "\n"
     ]
    },
    {
     "data": {
      "text/plain": [
       "{'inconsistency': True,\n",
       " 'lp_status': 'infeasible',\n",
       " 'lp_configuration': {'evaluations': [{'folds': {'folds': [{'fold': {'p': 100,\n",
       "        'n': 201,\n",
       "        'identifier': 'ltrns',\n",
       "        'tp': 100.0,\n",
       "        'tn': 74.09751},\n",
       "       'scores': {'acc': 0.5783970431893688,\n",
       "        'sens': 1.0,\n",
       "        'spec': 0.36864432835820893,\n",
       "        'bacc': 0.6843221641791044},\n",
       "       'score_bounds': None,\n",
       "       'bounds_flag': True},\n",
       "      {'fold': {'p': 100,\n",
       "        'n': 200,\n",
       "        'identifier': 'nigbz',\n",
       "        'tp': 100.0,\n",
       "        'tn': 200.0},\n",
       "       'scores': {'acc': 1.0, 'sens': 1.0, 'spec': 1.0, 'bacc': 1.0},\n",
       "       'score_bounds': None,\n",
       "       'bounds_flag': True},\n",
       "      {'fold': {'p': 100,\n",
       "        'n': 200,\n",
       "        'identifier': 'xjhsi',\n",
       "        'tp': 100.0,\n",
       "        'tn': 200.0},\n",
       "       'scores': {'acc': 1.0, 'sens': 1.0, 'spec': 1.0, 'bacc': 1.0},\n",
       "       'score_bounds': None,\n",
       "       'bounds_flag': True},\n",
       "      {'fold': {'p': 101,\n",
       "        'n': 200,\n",
       "        'identifier': 'grtnu',\n",
       "        'tp': 0.0,\n",
       "        'tn': 200.0},\n",
       "       'scores': {'acc': 0.6644518272425249,\n",
       "        'sens': 0.0,\n",
       "        'spec': 1.0,\n",
       "        'bacc': 0.5},\n",
       "       'score_bounds': None,\n",
       "       'bounds_flag': True},\n",
       "      {'fold': {'p': 101,\n",
       "        'n': 200,\n",
       "        'identifier': 'defvz',\n",
       "        'tp': 70.194495,\n",
       "        'tn': 200.0},\n",
       "       'scores': {'acc': 0.8976561295681064,\n",
       "        'sens': 0.694995,\n",
       "        'spec': 1.0,\n",
       "        'bacc': 0.8474975},\n",
       "       'score_bounds': None,\n",
       "       'bounds_flag': True}],\n",
       "     'bounds_flag': True},\n",
       "    'scores': {'acc': 0.828101,\n",
       "     'sens': 0.738999,\n",
       "     'spec': 0.8737288656716418,\n",
       "     'bacc': 0.8063639328358209},\n",
       "    'score_bounds': None,\n",
       "    'bounds_flag': {'folds': [{'fold': {'p': 100,\n",
       "        'n': 201,\n",
       "        'identifier': 'ltrns',\n",
       "        'tp': 100.0,\n",
       "        'tn': 74.09751},\n",
       "       'scores': {'acc': 0.5783970431893688,\n",
       "        'sens': 1.0,\n",
       "        'spec': 0.36864432835820893,\n",
       "        'bacc': 0.6843221641791044},\n",
       "       'score_bounds': None,\n",
       "       'bounds_flag': True},\n",
       "      {'fold': {'p': 100,\n",
       "        'n': 200,\n",
       "        'identifier': 'nigbz',\n",
       "        'tp': 100.0,\n",
       "        'tn': 200.0},\n",
       "       'scores': {'acc': 1.0, 'sens': 1.0, 'spec': 1.0, 'bacc': 1.0},\n",
       "       'score_bounds': None,\n",
       "       'bounds_flag': True},\n",
       "      {'fold': {'p': 100,\n",
       "        'n': 200,\n",
       "        'identifier': 'xjhsi',\n",
       "        'tp': 100.0,\n",
       "        'tn': 200.0},\n",
       "       'scores': {'acc': 1.0, 'sens': 1.0, 'spec': 1.0, 'bacc': 1.0},\n",
       "       'score_bounds': None,\n",
       "       'bounds_flag': True},\n",
       "      {'fold': {'p': 101,\n",
       "        'n': 200,\n",
       "        'identifier': 'grtnu',\n",
       "        'tp': 0.0,\n",
       "        'tn': 200.0},\n",
       "       'scores': {'acc': 0.6644518272425249,\n",
       "        'sens': 0.0,\n",
       "        'spec': 1.0,\n",
       "        'bacc': 0.5},\n",
       "       'score_bounds': None,\n",
       "       'bounds_flag': True},\n",
       "      {'fold': {'p': 101,\n",
       "        'n': 200,\n",
       "        'identifier': 'defvz',\n",
       "        'tp': 70.194495,\n",
       "        'tn': 200.0},\n",
       "       'scores': {'acc': 0.8976561295681064,\n",
       "        'sens': 0.694995,\n",
       "        'spec': 1.0,\n",
       "        'bacc': 0.8474975},\n",
       "       'score_bounds': None,\n",
       "       'bounds_flag': True}],\n",
       "     'bounds_flag': True}}],\n",
       "  'bounds_flag': True}}"
      ]
     },
     "execution_count": 23,
     "metadata": {},
     "output_type": "execute_result"
    }
   ],
   "source": [
    "check_1_dataset_known_folds_mos_scores(scores=scores,\n",
    "                                        eps=1e-4,\n",
    "                                        dataset={'p': 502, 'n': 1001},\n",
    "                                        folding={'folds': folds})"
   ]
  },
  {
   "cell_type": "code",
   "execution_count": null,
   "metadata": {},
   "outputs": [],
   "source": []
  }
 ],
 "metadata": {
  "kernelspec": {
   "display_name": "mlscorecheck",
   "language": "python",
   "name": "python3"
  },
  "language_info": {
   "codemirror_mode": {
    "name": "ipython",
    "version": 3
   },
   "file_extension": ".py",
   "mimetype": "text/x-python",
   "name": "python",
   "nbconvert_exporter": "python",
   "pygments_lexer": "ipython3",
   "version": "3.10.0"
  },
  "orig_nbformat": 4
 },
 "nbformat": 4,
 "nbformat_minor": 2
}
