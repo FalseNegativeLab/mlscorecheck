{
 "cells": [
  {
   "cell_type": "code",
   "execution_count": 1,
   "metadata": {},
   "outputs": [],
   "source": [
    "import json"
   ]
  },
  {
   "cell_type": "code",
   "execution_count": 2,
   "metadata": {},
   "outputs": [],
   "source": [
    "from mlscorecheck.symbolic import get_base_objects, ProblemSolver\n",
    "from mlscorecheck.core import Solution, Solutions"
   ]
  },
  {
   "cell_type": "code",
   "execution_count": 3,
   "metadata": {},
   "outputs": [],
   "source": [
    "from mlscorecheck.core import load_solutions"
   ]
  },
  {
   "cell_type": "code",
   "execution_count": 4,
   "metadata": {},
   "outputs": [],
   "source": [
    "from mlscorecheck.utils import generate_problem, generate_problem_tp0"
   ]
  },
  {
   "cell_type": "code",
   "execution_count": 5,
   "metadata": {},
   "outputs": [],
   "source": [
    "scores = get_base_objects(algebraic_system='sage')"
   ]
  },
  {
   "cell_type": "code",
   "execution_count": 6,
   "metadata": {},
   "outputs": [
    {
     "data": {
      "text/plain": [
       "sage.symbolic.expression.Expression"
      ]
     },
     "execution_count": 6,
     "metadata": {},
     "output_type": "execute_result"
    }
   ],
   "source": [
    "scores['acc'].equation_polynomial.__class__"
   ]
  },
  {
   "cell_type": "code",
   "execution_count": 7,
   "metadata": {},
   "outputs": [],
   "source": [
    "symbols = scores['acc'].symbols"
   ]
  },
  {
   "cell_type": "code",
   "execution_count": 8,
   "metadata": {},
   "outputs": [
    {
     "name": "stderr",
     "output_type": "stream",
     "text": [
      "2023-08-11 14:48:39,956:INFO:eq0 p*sens - tp\n",
      "2023-08-11 14:48:39,957:INFO:sym0 tp\n",
      "2023-08-11 14:48:40,072:INFO:v0s [{tp: p*sens}]\n",
      "2023-08-11 14:48:40,072:INFO:v0 {v0}\n",
      "2023-08-11 14:48:40,073:INFO:{tn, n, spec}\n",
      "2023-08-11 14:48:40,073:INFO:eq1tmp n*spec - tn\n",
      "2023-08-11 14:48:40,143:INFO:v1s [{tn: n*spec}]\n"
     ]
    },
    {
     "name": "stdout",
     "output_type": "stream",
     "text": [
      "solutions [{'tp': {'expression': p*sens, 'symbols': ['p', 'sens']}, 'tn': {'expression': n*spec, 'symbols': ['n', 'spec']}}]\n"
     ]
    },
    {
     "data": {
      "text/plain": [
       "<mlscorecheck.symbolic._solver.ProblemSolver at 0x7f0906182fb0>"
      ]
     },
     "execution_count": 8,
     "metadata": {},
     "output_type": "execute_result"
    }
   ],
   "source": [
    "ProblemSolver(score0=scores['sens'], score1=scores['spec']).solve()"
   ]
  },
  {
   "cell_type": "code",
   "execution_count": 9,
   "metadata": {},
   "outputs": [
    {
     "name": "stderr",
     "output_type": "stream",
     "text": [
      "2023-08-11 14:48:40,155:INFO:eq0 p*sens - tp\n",
      "2023-08-11 14:48:40,158:INFO:sym0 tp\n",
      "2023-08-11 14:48:40,250:INFO:v0s [{tp: p*sens}]\n",
      "2023-08-11 14:48:40,251:INFO:v0 {v0}\n",
      "2023-08-11 14:48:40,251:INFO:{p, acc, tn, tp, n}\n",
      "2023-08-11 14:48:40,252:INFO:substitution acc*n + acc*p - tn - tp {tp: p*sens}\n",
      "2023-08-11 14:48:40,252:INFO:eq1tmp acc*n + acc*p - p*sens - tn\n",
      "2023-08-11 14:48:40,327:INFO:v1s [{tn: acc*n + acc*p - p*sens}]\n",
      "2023-08-11 14:48:40,328:INFO:eq0 n*spec - tn\n",
      "2023-08-11 14:48:40,329:INFO:sym0 tn\n"
     ]
    },
    {
     "name": "stdout",
     "output_type": "stream",
     "text": [
      "solutions [{'tp': {'expression': p*sens, 'symbols': ['p', 'sens']}, 'tn': {'expression': acc*n + acc*p - p*sens, 'symbols': ['acc', 'n', 'p', 'sens']}}]\n",
      "str_solutions [{'tp': {'expression': 'p*sens', 'symbols': ['p', 'sens']}, 'tn': {'expression': 'acc*n + acc*p - p*sens', 'symbols': ['acc', 'n', 'p', 'sens']}}]\n",
      "denoms [[]]\n",
      "bases [[]]\n"
     ]
    },
    {
     "name": "stderr",
     "output_type": "stream",
     "text": [
      "2023-08-11 14:48:40,405:INFO:v0s [{tn: n*spec}]\n",
      "2023-08-11 14:48:40,406:INFO:v0 {v0}\n",
      "2023-08-11 14:48:40,406:INFO:{p, acc, tn, tp, n}\n",
      "2023-08-11 14:48:40,407:INFO:substitution acc*n + acc*p - tn - tp {tn: n*spec}\n",
      "2023-08-11 14:48:40,407:INFO:eq1tmp acc*n + acc*p - n*spec - tp\n",
      "2023-08-11 14:48:40,483:INFO:v1s [{tp: acc*n + acc*p - n*spec}]\n",
      "2023-08-11 14:48:40,485:INFO:eq0 acc*n + acc*p - tn - tp\n",
      "2023-08-11 14:48:40,485:INFO:sym0 tp\n"
     ]
    },
    {
     "name": "stdout",
     "output_type": "stream",
     "text": [
      "solutions [{'tn': {'expression': n*spec, 'symbols': ['n', 'spec']}, 'tp': {'expression': acc*n + acc*p - n*spec, 'symbols': ['acc', 'n', 'p', 'spec']}}]\n",
      "str_solutions [{'tn': {'expression': 'n*spec', 'symbols': ['n', 'spec']}, 'tp': {'expression': 'acc*n + acc*p - n*spec', 'symbols': ['acc', 'n', 'p', 'spec']}}]\n",
      "denoms [[]]\n",
      "bases [[]]\n"
     ]
    },
    {
     "name": "stderr",
     "output_type": "stream",
     "text": [
      "2023-08-11 14:48:40,566:INFO:v0s [{tp: acc*n + acc*p - tn}]\n",
      "2023-08-11 14:48:40,567:INFO:v0 {v0}\n",
      "2023-08-11 14:48:40,568:INFO:{ppv, tn, tp, n}\n",
      "2023-08-11 14:48:40,568:INFO:substitution n*ppv - ppv*tn + ppv*tp - tp {tp: acc*n + acc*p - tn}\n",
      "2023-08-11 14:48:40,569:INFO:eq1tmp -acc*n - acc*p + (acc*n + acc*p - tn)*ppv + n*ppv - ppv*tn + tn\n",
      "2023-08-11 14:48:40,650:INFO:v1s [{tn: (acc*n*ppv + acc*p*ppv - acc*n - acc*p + n*ppv)/(2*ppv - 1)}]\n",
      "2023-08-11 14:48:40,653:INFO:eq0 acc*n + acc*p - tn - tp\n",
      "2023-08-11 14:48:40,653:INFO:sym0 tp\n"
     ]
    },
    {
     "name": "stdout",
     "output_type": "stream",
     "text": [
      "solutions [{'tp': {'expression': (acc*n + acc*p - n)*ppv/(2*ppv - 1), 'symbols': ['acc', 'n', 'p', 'ppv']}, 'tn': {'expression': (acc*n*ppv + acc*p*ppv - acc*n - acc*p + n*ppv)/(2*ppv - 1), 'symbols': ['acc', 'n', 'p', 'ppv']}}]\n",
      "str_solutions [{'tp': {'expression': '(acc*n + acc*p - n)*ppv/(2*ppv - 1)', 'symbols': ['acc', 'n', 'p', 'ppv']}, 'tn': {'expression': '(acc*n*ppv + acc*p*ppv - acc*n - acc*p + n*ppv)/(2*ppv - 1)', 'symbols': ['acc', 'n', 'p', 'ppv']}}]\n",
      "denoms [[{'expression': '2*ppv - 1', 'symbols': ['ppv']}]]\n",
      "bases [[]]\n"
     ]
    },
    {
     "name": "stderr",
     "output_type": "stream",
     "text": [
      "2023-08-11 14:48:40,735:INFO:v0s [{tp: acc*n + acc*p - tn}]\n",
      "2023-08-11 14:48:40,735:INFO:v0 {v0}\n",
      "2023-08-11 14:48:40,736:INFO:{p, tp, tn, npv}\n",
      "2023-08-11 14:48:40,737:INFO:substitution npv*p + npv*tn - npv*tp - tn {tp: acc*n + acc*p - tn}\n",
      "2023-08-11 14:48:40,737:INFO:eq1tmp -(acc*n + acc*p - tn)*npv + npv*p + npv*tn - tn\n",
      "2023-08-11 14:48:40,820:INFO:v1s [{tn: (acc*n + acc*p - p)*npv/(2*npv - 1)}]\n",
      "2023-08-11 14:48:40,823:INFO:eq0 acc*n + acc*p - tn - tp\n",
      "2023-08-11 14:48:40,823:INFO:sym0 tp\n"
     ]
    },
    {
     "name": "stdout",
     "output_type": "stream",
     "text": [
      "solutions [{'tp': {'expression': (acc*n*npv + acc*npv*p - acc*n - acc*p + npv*p)/(2*npv - 1), 'symbols': ['acc', 'n', 'npv', 'p']}, 'tn': {'expression': (acc*n + acc*p - p)*npv/(2*npv - 1), 'symbols': ['acc', 'n', 'npv', 'p']}}]\n",
      "str_solutions [{'tp': {'expression': '(acc*n*npv + acc*npv*p - acc*n - acc*p + npv*p)/(2*npv - 1)', 'symbols': ['acc', 'n', 'npv', 'p']}, 'tn': {'expression': '(acc*n + acc*p - p)*npv/(2*npv - 1)', 'symbols': ['acc', 'n', 'npv', 'p']}}]\n",
      "denoms [[{'expression': '2*npv - 1', 'symbols': ['npv']}]]\n",
      "bases [[]]\n"
     ]
    },
    {
     "name": "stderr",
     "output_type": "stream",
     "text": [
      "2023-08-11 14:48:40,903:INFO:v0s [{tp: acc*n + acc*p - tn}]\n",
      "2023-08-11 14:48:40,904:INFO:v0 {v0}\n",
      "2023-08-11 14:48:40,904:INFO:{p, tn, tp, n, bacc}\n",
      "2023-08-11 14:48:40,905:INFO:substitution 2*bacc*n*p - p*tn - n*tp {tp: acc*n + acc*p - tn}\n",
      "2023-08-11 14:48:40,906:INFO:eq1tmp 2*bacc*n*p - (acc*n + acc*p - tn)*n - p*tn\n",
      "2023-08-11 14:48:40,989:INFO:v1s [{tn: (acc*n + acc*p - 2*bacc*p)*n/(n - p)}]\n",
      "2023-08-11 14:48:40,992:INFO:eq0 acc*n + acc*p - tn - tp\n",
      "2023-08-11 14:48:40,993:INFO:sym0 tp\n"
     ]
    },
    {
     "name": "stdout",
     "output_type": "stream",
     "text": [
      "solutions [{'tp': {'expression': -(acc*n - 2*bacc*n + acc*p)*p/(n - p), 'symbols': ['acc', 'bacc', 'n', 'p']}, 'tn': {'expression': (acc*n + acc*p - 2*bacc*p)*n/(n - p), 'symbols': ['acc', 'bacc', 'n', 'p']}}]\n",
      "str_solutions [{'tp': {'expression': '-(acc*n - 2*bacc*n + acc*p)*p/(n - p)', 'symbols': ['acc', 'bacc', 'n', 'p']}, 'tn': {'expression': '(acc*n + acc*p - 2*bacc*p)*n/(n - p)', 'symbols': ['acc', 'bacc', 'n', 'p']}}]\n",
      "denoms [[{'expression': 'n - p', 'symbols': ['n', 'p']}]]\n",
      "bases [[]]\n"
     ]
    },
    {
     "name": "stderr",
     "output_type": "stream",
     "text": [
      "2023-08-11 14:48:41,072:INFO:v0s [{tp: acc*n + acc*p - tn}]\n",
      "2023-08-11 14:48:41,073:INFO:v0 {v0}\n",
      "2023-08-11 14:48:41,074:INFO:{p, f1p, tn, tp, n}\n",
      "2023-08-11 14:48:41,075:INFO:substitution f1p*n + f1p*p - f1p*tn + f1p*tp - 2*tp {tp: acc*n + acc*p - tn}\n",
      "2023-08-11 14:48:41,075:INFO:eq1tmp (acc*n + acc*p - tn)*f1p - 2*acc*n + f1p*n - 2*acc*p + f1p*p - f1p*tn + 2*tn\n",
      "2023-08-11 14:48:41,154:INFO:v1s [{tn: 1/2*(acc*f1p - 2*acc + f1p)*(n + p)/(f1p - 1)}]\n",
      "2023-08-11 14:48:41,158:INFO:eq0 p*sens - tp\n",
      "2023-08-11 14:48:41,159:INFO:sym0 tp\n"
     ]
    },
    {
     "name": "stdout",
     "output_type": "stream",
     "text": [
      "solutions [{'tp': {'expression': 1/2*(acc - 1)*f1p*(n + p)/(f1p - 1), 'symbols': ['acc', 'f1p', 'n', 'p']}, 'tn': {'expression': 1/2*(acc*f1p - 2*acc + f1p)*(n + p)/(f1p - 1), 'symbols': ['acc', 'f1p', 'n', 'p']}}]\n",
      "str_solutions [{'tp': {'expression': '1/2*(acc - 1)*f1p*(n + p)/(f1p - 1)', 'symbols': ['acc', 'f1p', 'n', 'p']}, 'tn': {'expression': '1/2*(acc*f1p - 2*acc + f1p)*(n + p)/(f1p - 1)', 'symbols': ['acc', 'f1p', 'n', 'p']}}]\n",
      "denoms [[{'expression': '2*f1p - 2', 'symbols': ['f1p']}]]\n",
      "bases [[]]\n"
     ]
    },
    {
     "name": "stderr",
     "output_type": "stream",
     "text": [
      "2023-08-11 14:48:41,236:INFO:v0s [{tp: p*sens}]\n",
      "2023-08-11 14:48:41,237:INFO:v0 {v0}\n",
      "2023-08-11 14:48:41,237:INFO:{tn, n, spec}\n",
      "2023-08-11 14:48:41,238:INFO:eq1tmp n*spec - tn\n",
      "2023-08-11 14:48:41,317:INFO:v1s [{tn: n*spec}]\n",
      "2023-08-11 14:48:41,319:INFO:eq0 p*sens - tp\n",
      "2023-08-11 14:48:41,319:INFO:sym0 tp\n"
     ]
    },
    {
     "name": "stdout",
     "output_type": "stream",
     "text": [
      "solutions [{'tp': {'expression': p*sens, 'symbols': ['p', 'sens']}, 'tn': {'expression': n*spec, 'symbols': ['n', 'spec']}}]\n",
      "str_solutions [{'tp': {'expression': 'p*sens', 'symbols': ['p', 'sens']}, 'tn': {'expression': 'n*spec', 'symbols': ['n', 'spec']}}]\n",
      "denoms [[]]\n",
      "bases [[]]\n"
     ]
    },
    {
     "name": "stderr",
     "output_type": "stream",
     "text": [
      "2023-08-11 14:48:41,407:INFO:v0s [{tp: p*sens}]\n",
      "2023-08-11 14:48:41,408:INFO:v0 {v0}\n",
      "2023-08-11 14:48:41,409:INFO:{ppv, tn, tp, n}\n",
      "2023-08-11 14:48:41,409:INFO:substitution n*ppv - ppv*tn + ppv*tp - tp {tp: p*sens}\n",
      "2023-08-11 14:48:41,410:INFO:eq1tmp p*ppv*sens + n*ppv - p*sens - ppv*tn\n",
      "2023-08-11 14:48:41,484:INFO:v1s [{tn: (p*ppv*sens + n*ppv - p*sens)/ppv}]\n",
      "2023-08-11 14:48:41,486:INFO:eq0 p*sens - tp\n",
      "2023-08-11 14:48:41,486:INFO:sym0 tp\n"
     ]
    },
    {
     "name": "stdout",
     "output_type": "stream",
     "text": [
      "solutions [{'tp': {'expression': p*sens, 'symbols': ['p', 'sens']}, 'tn': {'expression': (p*ppv*sens + n*ppv - p*sens)/ppv, 'symbols': ['n', 'p', 'ppv', 'sens']}}]\n",
      "str_solutions [{'tp': {'expression': 'p*sens', 'symbols': ['p', 'sens']}, 'tn': {'expression': '(p*ppv*sens + n*ppv - p*sens)/ppv', 'symbols': ['n', 'p', 'ppv', 'sens']}}]\n",
      "denoms [[{'expression': 'ppv', 'symbols': ['ppv']}]]\n",
      "bases [[]]\n"
     ]
    },
    {
     "name": "stderr",
     "output_type": "stream",
     "text": [
      "2023-08-11 14:48:41,569:INFO:v0s [{tp: p*sens}]\n",
      "2023-08-11 14:48:41,570:INFO:v0 {v0}\n",
      "2023-08-11 14:48:41,570:INFO:{p, tp, tn, npv}\n",
      "2023-08-11 14:48:41,571:INFO:substitution npv*p + npv*tn - npv*tp - tn {tp: p*sens}\n",
      "2023-08-11 14:48:41,572:INFO:eq1tmp -npv*p*sens + npv*p + npv*tn - tn\n",
      "2023-08-11 14:48:41,654:INFO:v1s [{tn: npv*p*(sens - 1)/(npv - 1)}]\n",
      "2023-08-11 14:48:41,656:INFO:eq0 p*sens - tp\n",
      "2023-08-11 14:48:41,656:INFO:sym0 tp\n"
     ]
    },
    {
     "name": "stdout",
     "output_type": "stream",
     "text": [
      "solutions [{'tp': {'expression': p*sens, 'symbols': ['p', 'sens']}, 'tn': {'expression': npv*p*(sens - 1)/(npv - 1), 'symbols': ['npv', 'p', 'sens']}}]\n",
      "str_solutions [{'tp': {'expression': 'p*sens', 'symbols': ['p', 'sens']}, 'tn': {'expression': 'npv*p*(sens - 1)/(npv - 1)', 'symbols': ['npv', 'p', 'sens']}}]\n",
      "denoms [[{'expression': 'npv - 1', 'symbols': ['npv']}]]\n",
      "bases [[]]\n"
     ]
    },
    {
     "name": "stderr",
     "output_type": "stream",
     "text": [
      "2023-08-11 14:48:41,748:INFO:v0s [{tp: p*sens}]\n",
      "2023-08-11 14:48:41,749:INFO:v0 {v0}\n",
      "2023-08-11 14:48:41,749:INFO:{p, tn, tp, n, bacc}\n",
      "2023-08-11 14:48:41,750:INFO:substitution 2*bacc*n*p - p*tn - n*tp {tp: p*sens}\n",
      "2023-08-11 14:48:41,750:INFO:eq1tmp 2*bacc*n*p - n*p*sens - p*tn\n",
      "2023-08-11 14:48:41,823:INFO:v1s [{tn: (2*bacc - sens)*n}]\n",
      "2023-08-11 14:48:41,824:INFO:eq0 p*sens - tp\n",
      "2023-08-11 14:48:41,825:INFO:sym0 tp\n"
     ]
    },
    {
     "name": "stdout",
     "output_type": "stream",
     "text": [
      "solutions [{'tp': {'expression': p*sens, 'symbols': ['p', 'sens']}, 'tn': {'expression': (2*bacc - sens)*n, 'symbols': ['bacc', 'n', 'sens']}}]\n",
      "str_solutions [{'tp': {'expression': 'p*sens', 'symbols': ['p', 'sens']}, 'tn': {'expression': '(2*bacc - sens)*n', 'symbols': ['bacc', 'n', 'sens']}}]\n",
      "denoms [[]]\n",
      "bases [[]]\n"
     ]
    },
    {
     "name": "stderr",
     "output_type": "stream",
     "text": [
      "2023-08-11 14:48:41,900:INFO:v0s [{tp: p*sens}]\n",
      "2023-08-11 14:48:41,901:INFO:v0 {v0}\n",
      "2023-08-11 14:48:41,901:INFO:{p, f1p, tn, tp, n}\n",
      "2023-08-11 14:48:41,902:INFO:substitution f1p*n + f1p*p - f1p*tn + f1p*tp - 2*tp {tp: p*sens}\n",
      "2023-08-11 14:48:41,903:INFO:eq1tmp f1p*p*sens + f1p*n + f1p*p - 2*p*sens - f1p*tn\n",
      "2023-08-11 14:48:41,973:INFO:v1s [{tn: (f1p*p*sens + f1p*n + f1p*p - 2*p*sens)/f1p}]\n",
      "2023-08-11 14:48:41,975:INFO:eq0 n*spec - tn\n",
      "2023-08-11 14:48:41,976:INFO:sym0 tn\n"
     ]
    },
    {
     "name": "stdout",
     "output_type": "stream",
     "text": [
      "solutions [{'tp': {'expression': p*sens, 'symbols': ['p', 'sens']}, 'tn': {'expression': (f1p*p*sens + f1p*n + f1p*p - 2*p*sens)/f1p, 'symbols': ['f1p', 'n', 'p', 'sens']}}]\n",
      "str_solutions [{'tp': {'expression': 'p*sens', 'symbols': ['p', 'sens']}, 'tn': {'expression': '(f1p*p*sens + f1p*n + f1p*p - 2*p*sens)/f1p', 'symbols': ['f1p', 'n', 'p', 'sens']}}]\n",
      "denoms [[{'expression': 'f1p', 'symbols': ['f1p']}]]\n",
      "bases [[]]\n"
     ]
    },
    {
     "name": "stderr",
     "output_type": "stream",
     "text": [
      "2023-08-11 14:48:42,062:INFO:v0s [{tn: n*spec}]\n",
      "2023-08-11 14:48:42,062:INFO:v0 {v0}\n",
      "2023-08-11 14:48:42,063:INFO:{ppv, tn, tp, n}\n",
      "2023-08-11 14:48:42,064:INFO:substitution n*ppv - ppv*tn + ppv*tp - tp {tn: n*spec}\n",
      "2023-08-11 14:48:42,065:INFO:eq1tmp -n*ppv*spec + n*ppv + ppv*tp - tp\n",
      "2023-08-11 14:48:42,137:INFO:v1s [{tp: n*ppv*(spec - 1)/(ppv - 1)}]\n",
      "2023-08-11 14:48:42,138:INFO:eq0 n*spec - tn\n",
      "2023-08-11 14:48:42,139:INFO:sym0 tn\n"
     ]
    },
    {
     "name": "stdout",
     "output_type": "stream",
     "text": [
      "solutions [{'tn': {'expression': n*spec, 'symbols': ['n', 'spec']}, 'tp': {'expression': n*ppv*(spec - 1)/(ppv - 1), 'symbols': ['n', 'ppv', 'spec']}}]\n",
      "str_solutions [{'tn': {'expression': 'n*spec', 'symbols': ['n', 'spec']}, 'tp': {'expression': 'n*ppv*(spec - 1)/(ppv - 1)', 'symbols': ['n', 'ppv', 'spec']}}]\n",
      "denoms [[{'expression': 'ppv - 1', 'symbols': ['ppv']}]]\n",
      "bases [[]]\n"
     ]
    },
    {
     "name": "stderr",
     "output_type": "stream",
     "text": [
      "2023-08-11 14:48:42,208:INFO:v0s [{tn: n*spec}]\n",
      "2023-08-11 14:48:42,209:INFO:v0 {v0}\n",
      "2023-08-11 14:48:42,209:INFO:{p, tp, tn, npv}\n",
      "2023-08-11 14:48:42,210:INFO:substitution npv*p + npv*tn - npv*tp - tn {tn: n*spec}\n",
      "2023-08-11 14:48:42,211:INFO:eq1tmp n*npv*spec + npv*p - n*spec - npv*tp\n",
      "2023-08-11 14:48:42,286:INFO:v1s [{tp: (n*npv*spec + npv*p - n*spec)/npv}]\n",
      "2023-08-11 14:48:42,287:INFO:eq0 n*spec - tn\n",
      "2023-08-11 14:48:42,288:INFO:sym0 tn\n"
     ]
    },
    {
     "name": "stdout",
     "output_type": "stream",
     "text": [
      "solutions [{'tn': {'expression': n*spec, 'symbols': ['n', 'spec']}, 'tp': {'expression': (n*npv*spec + npv*p - n*spec)/npv, 'symbols': ['n', 'npv', 'p', 'spec']}}]\n",
      "str_solutions [{'tn': {'expression': 'n*spec', 'symbols': ['n', 'spec']}, 'tp': {'expression': '(n*npv*spec + npv*p - n*spec)/npv', 'symbols': ['n', 'npv', 'p', 'spec']}}]\n",
      "denoms [[{'expression': 'npv', 'symbols': ['npv']}]]\n",
      "bases [[]]\n"
     ]
    },
    {
     "name": "stderr",
     "output_type": "stream",
     "text": [
      "2023-08-11 14:48:42,362:INFO:v0s [{tn: n*spec}]\n",
      "2023-08-11 14:48:42,363:INFO:v0 {v0}\n",
      "2023-08-11 14:48:42,364:INFO:{p, tn, tp, n, bacc}\n",
      "2023-08-11 14:48:42,364:INFO:substitution 2*bacc*n*p - p*tn - n*tp {tn: n*spec}\n",
      "2023-08-11 14:48:42,365:INFO:eq1tmp 2*bacc*n*p - n*p*spec - n*tp\n",
      "2023-08-11 14:48:42,548:INFO:v1s [{tp: (2*bacc - spec)*p}]\n",
      "2023-08-11 14:48:42,551:INFO:eq0 n*spec - tn\n",
      "2023-08-11 14:48:42,552:INFO:sym0 tn\n",
      "2023-08-11 14:48:42,648:INFO:v0s [{tn: n*spec}]\n",
      "2023-08-11 14:48:42,649:INFO:v0 {v0}\n",
      "2023-08-11 14:48:42,649:INFO:{p, f1p, tn, tp, n}\n",
      "2023-08-11 14:48:42,650:INFO:substitution f1p*n + f1p*p - f1p*tn + f1p*tp - 2*tp {tn: n*spec}\n",
      "2023-08-11 14:48:42,651:INFO:eq1tmp -f1p*n*spec + f1p*n + f1p*p + f1p*tp - 2*tp\n",
      "2023-08-11 14:48:42,750:INFO:v1s [{tp: (n*spec - n - p)*f1p/(f1p - 2)}]\n"
     ]
    },
    {
     "name": "stdout",
     "output_type": "stream",
     "text": [
      "solutions [{'tn': {'expression': n*spec, 'symbols': ['n', 'spec']}, 'tp': {'expression': (2*bacc - spec)*p, 'symbols': ['bacc', 'p', 'spec']}}]\n",
      "str_solutions [{'tn': {'expression': 'n*spec', 'symbols': ['n', 'spec']}, 'tp': {'expression': '(2*bacc - spec)*p', 'symbols': ['bacc', 'p', 'spec']}}]\n",
      "denoms [[]]\n",
      "bases [[]]\n"
     ]
    },
    {
     "name": "stderr",
     "output_type": "stream",
     "text": [
      "2023-08-11 14:48:42,753:INFO:eq0 n*ppv - ppv*tn + ppv*tp - tp\n",
      "2023-08-11 14:48:42,754:INFO:sym0 tp\n",
      "2023-08-11 14:48:42,854:INFO:v0s [{tp: -(n - tn)*ppv/(ppv - 1)}]\n",
      "2023-08-11 14:48:42,855:INFO:v0 {v0}\n",
      "2023-08-11 14:48:42,856:INFO:{p, tp, tn, npv}\n",
      "2023-08-11 14:48:42,856:INFO:substitution npv*p + npv*tn - npv*tp - tn {tp: -(n - tn)*ppv/(ppv - 1)}\n",
      "2023-08-11 14:48:42,857:INFO:eq1tmp npv*p + (n - tn)*npv*ppv/(ppv - 1) + npv*tn - tn\n"
     ]
    },
    {
     "name": "stdout",
     "output_type": "stream",
     "text": [
      "solutions [{'tn': {'expression': n*spec, 'symbols': ['n', 'spec']}, 'tp': {'expression': (n*spec - n - p)*f1p/(f1p - 2), 'symbols': ['f1p', 'n', 'p', 'spec']}}]\n",
      "str_solutions [{'tn': {'expression': 'n*spec', 'symbols': ['n', 'spec']}, 'tp': {'expression': '(n*spec - n - p)*f1p/(f1p - 2)', 'symbols': ['f1p', 'n', 'p', 'spec']}}]\n",
      "denoms [[{'expression': 'f1p - 2', 'symbols': ['f1p']}]]\n",
      "bases [[]]\n"
     ]
    },
    {
     "name": "stderr",
     "output_type": "stream",
     "text": [
      "2023-08-11 14:48:42,962:INFO:v1s [{tn: (n*ppv + p*ppv - p)*npv/(npv + ppv - 1)}]\n",
      "2023-08-11 14:48:42,968:INFO:eq0 n*ppv - ppv*tn + ppv*tp - tp\n",
      "2023-08-11 14:48:42,969:INFO:sym0 tp\n",
      "2023-08-11 14:48:43,075:INFO:v0s [{tp: -(n - tn)*ppv/(ppv - 1)}]\n",
      "2023-08-11 14:48:43,076:INFO:v0 {v0}\n",
      "2023-08-11 14:48:43,077:INFO:{p, tn, tp, n, bacc}\n",
      "2023-08-11 14:48:43,077:INFO:substitution 2*bacc*n*p - p*tn - n*tp {tp: -(n - tn)*ppv/(ppv - 1)}\n",
      "2023-08-11 14:48:43,078:INFO:eq1tmp 2*bacc*n*p + (n - tn)*n*ppv/(ppv - 1) - p*tn\n"
     ]
    },
    {
     "name": "stdout",
     "output_type": "stream",
     "text": [
      "solutions [{'tp': {'expression': (n*npv + npv*p - n)*ppv/(npv + ppv - 1), 'symbols': ['n', 'npv', 'p', 'ppv']}, 'tn': {'expression': (n*ppv + p*ppv - p)*npv/(npv + ppv - 1), 'symbols': ['n', 'npv', 'p', 'ppv']}}]\n",
      "str_solutions [{'tp': {'expression': '(n*npv + npv*p - n)*ppv/(npv + ppv - 1)', 'symbols': ['n', 'npv', 'p', 'ppv']}, 'tn': {'expression': '(n*ppv + p*ppv - p)*npv/(npv + ppv - 1)', 'symbols': ['n', 'npv', 'p', 'ppv']}}]\n",
      "denoms [[{'expression': 'npv + ppv - 1', 'symbols': ['npv', 'ppv']}]]\n",
      "bases [[]]\n"
     ]
    },
    {
     "name": "stderr",
     "output_type": "stream",
     "text": [
      "2023-08-11 14:48:43,187:INFO:v1s [{tn: (2*bacc*p*ppv - 2*bacc*p + n*ppv)*n/(n*ppv + p*ppv - p)}]\n",
      "2023-08-11 14:48:43,192:INFO:eq0 n*ppv - ppv*tn + ppv*tp - tp\n",
      "2023-08-11 14:48:43,193:INFO:sym0 tp\n",
      "2023-08-11 14:48:43,302:INFO:v0s [{tp: -(n - tn)*ppv/(ppv - 1)}]\n",
      "2023-08-11 14:48:43,303:INFO:v0 {v0}\n",
      "2023-08-11 14:48:43,303:INFO:{p, f1p, tn, tp, n}\n",
      "2023-08-11 14:48:43,304:INFO:substitution f1p*n + f1p*p - f1p*tn + f1p*tp - 2*tp {tp: -(n - tn)*ppv/(ppv - 1)}\n",
      "2023-08-11 14:48:43,305:INFO:eq1tmp f1p*n + f1p*p - f1p*(n - tn)*ppv/(ppv - 1) - f1p*tn + 2*(n - tn)*ppv/(ppv - 1)\n"
     ]
    },
    {
     "name": "stdout",
     "output_type": "stream",
     "text": [
      "solutions [{'tp': {'expression': (2*bacc - 1)*n*p*ppv/(n*ppv + p*ppv - p), 'symbols': ['bacc', 'n', 'p', 'ppv']}, 'tn': {'expression': (2*bacc*p*ppv - 2*bacc*p + n*ppv)*n/(n*ppv + p*ppv - p), 'symbols': ['bacc', 'n', 'p', 'ppv']}}]\n",
      "str_solutions [{'tp': {'expression': '(2*bacc - 1)*n*p*ppv/(n*ppv + p*ppv - p)', 'symbols': ['bacc', 'n', 'p', 'ppv']}, 'tn': {'expression': '(2*bacc*p*ppv - 2*bacc*p + n*ppv)*n/(n*ppv + p*ppv - p)', 'symbols': ['bacc', 'n', 'p', 'ppv']}}]\n",
      "denoms [[{'expression': 'n*ppv + p*ppv - p', 'symbols': ['n', 'p', 'ppv']}]]\n",
      "bases [[]]\n"
     ]
    },
    {
     "name": "stderr",
     "output_type": "stream",
     "text": [
      "2023-08-11 14:48:43,420:INFO:v1s [{tn: -(f1p*p*ppv - f1p*n - f1p*p + 2*n*ppv)/(f1p - 2*ppv)}]\n",
      "2023-08-11 14:48:43,423:INFO:eq0 npv*p + npv*tn - npv*tp - tn\n",
      "2023-08-11 14:48:43,424:INFO:sym0 tp\n",
      "2023-08-11 14:48:43,523:INFO:v0s [{tp: (npv*p + npv*tn - tn)/npv}]\n",
      "2023-08-11 14:48:43,524:INFO:v0 {v0}\n",
      "2023-08-11 14:48:43,525:INFO:{p, tn, tp, n, bacc}\n",
      "2023-08-11 14:48:43,525:INFO:substitution 2*bacc*n*p - p*tn - n*tp {tp: (npv*p + npv*tn - tn)/npv}\n",
      "2023-08-11 14:48:43,526:INFO:eq1tmp 2*bacc*n*p - p*tn - (npv*p + npv*tn - tn)*n/npv\n"
     ]
    },
    {
     "name": "stdout",
     "output_type": "stream",
     "text": [
      "solutions [{'tp': {'expression': -f1p*p*ppv/(f1p - 2*ppv), 'symbols': ['f1p', 'n', 'p', 'ppv']}, 'tn': {'expression': -(f1p*p*ppv - f1p*n - f1p*p + 2*n*ppv)/(f1p - 2*ppv), 'symbols': ['f1p', 'n', 'p', 'ppv']}}]\n",
      "str_solutions [{'tp': {'expression': '-f1p*p*ppv/(f1p - 2*ppv)', 'symbols': ['f1p', 'n', 'p', 'ppv']}, 'tn': {'expression': '-(f1p*p*ppv - f1p*n - f1p*p + 2*n*ppv)/(f1p - 2*ppv)', 'symbols': ['f1p', 'n', 'p', 'ppv']}}]\n",
      "denoms [[{'expression': 'f1p - 2*ppv', 'symbols': ['f1p', 'ppv']}]]\n",
      "bases [[]]\n"
     ]
    },
    {
     "name": "stderr",
     "output_type": "stream",
     "text": [
      "2023-08-11 14:48:43,635:INFO:v1s [{tn: (2*bacc - 1)*n*npv*p/(n*npv + npv*p - n)}]\n",
      "2023-08-11 14:48:43,641:INFO:eq0 npv*p + npv*tn - npv*tp - tn\n",
      "2023-08-11 14:48:43,642:INFO:sym0 tp\n",
      "2023-08-11 14:48:43,747:INFO:v0s [{tp: (npv*p + npv*tn - tn)/npv}]\n",
      "2023-08-11 14:48:43,747:INFO:v0 {v0}\n",
      "2023-08-11 14:48:43,748:INFO:{p, f1p, tn, tp, n}\n",
      "2023-08-11 14:48:43,749:INFO:substitution f1p*n + f1p*p - f1p*tn + f1p*tp - 2*tp {tp: (npv*p + npv*tn - tn)/npv}\n",
      "2023-08-11 14:48:43,750:INFO:eq1tmp f1p*n + f1p*p - f1p*tn + (npv*p + npv*tn - tn)*f1p/npv - 2*(npv*p + npv*tn - tn)/npv\n"
     ]
    },
    {
     "name": "stdout",
     "output_type": "stream",
     "text": [
      "solutions [{'tp': {'expression': (2*bacc*n*npv - 2*bacc*n + npv*p)*p/(n*npv + npv*p - n), 'symbols': ['bacc', 'n', 'npv', 'p']}, 'tn': {'expression': (2*bacc - 1)*n*npv*p/(n*npv + npv*p - n), 'symbols': ['bacc', 'n', 'npv', 'p']}}]\n",
      "str_solutions [{'tp': {'expression': '(2*bacc*n*npv - 2*bacc*n + npv*p)*p/(n*npv + npv*p - n)', 'symbols': ['bacc', 'n', 'npv', 'p']}, 'tn': {'expression': '(2*bacc - 1)*n*npv*p/(n*npv + npv*p - n)', 'symbols': ['bacc', 'n', 'npv', 'p']}}]\n",
      "denoms [[{'expression': 'n*npv + npv*p - n', 'symbols': ['n', 'npv', 'p']}]]\n",
      "bases [[]]\n"
     ]
    },
    {
     "name": "stderr",
     "output_type": "stream",
     "text": [
      "2023-08-11 14:48:43,870:INFO:v1s [{tn: (f1p*n + 2*f1p*p - 2*p)*npv/(f1p + 2*npv - 2)}]\n",
      "2023-08-11 14:48:43,876:INFO:eq0 2*bacc*n*p - p*tn - n*tp\n",
      "2023-08-11 14:48:43,877:INFO:sym0 tp\n",
      "2023-08-11 14:48:43,991:INFO:v0s [{tp: (2*bacc*n - tn)*p/n}]\n",
      "2023-08-11 14:48:43,992:INFO:v0 {v0}\n",
      "2023-08-11 14:48:43,993:INFO:{p, f1p, tn, tp, n}\n",
      "2023-08-11 14:48:43,993:INFO:substitution f1p*n + f1p*p - f1p*tn + f1p*tp - 2*tp {tp: (2*bacc*n - tn)*p/n}\n",
      "2023-08-11 14:48:43,994:INFO:eq1tmp f1p*n + f1p*p + (2*bacc*n - tn)*f1p*p/n - f1p*tn - 2*(2*bacc*n - tn)*p/n\n"
     ]
    },
    {
     "name": "stdout",
     "output_type": "stream",
     "text": [
      "solutions [{'tp': {'expression': (n*npv + 2*npv*p - n - p)*f1p/(f1p + 2*npv - 2), 'symbols': ['f1p', 'n', 'npv', 'p']}, 'tn': {'expression': (f1p*n + 2*f1p*p - 2*p)*npv/(f1p + 2*npv - 2), 'symbols': ['f1p', 'n', 'npv', 'p']}}]\n",
      "str_solutions [{'tp': {'expression': '(n*npv + 2*npv*p - n - p)*f1p/(f1p + 2*npv - 2)', 'symbols': ['f1p', 'n', 'npv', 'p']}, 'tn': {'expression': '(f1p*n + 2*f1p*p - 2*p)*npv/(f1p + 2*npv - 2)', 'symbols': ['f1p', 'n', 'npv', 'p']}}]\n",
      "denoms [[{'expression': 'f1p + 2*npv - 2', 'symbols': ['f1p', 'npv']}]]\n",
      "bases [[]]\n"
     ]
    },
    {
     "name": "stderr",
     "output_type": "stream",
     "text": [
      "2023-08-11 14:48:44,113:INFO:v1s [{tn: (2*bacc*f1p*p + f1p*n - 4*bacc*p + f1p*p)*n/(f1p*n + f1p*p - 2*p)}]\n"
     ]
    },
    {
     "name": "stdout",
     "output_type": "stream",
     "text": [
      "solutions [{'tp': {'expression': (2*bacc*n - n - p)*f1p*p/(f1p*n + f1p*p - 2*p), 'symbols': ['bacc', 'f1p', 'n', 'p']}, 'tn': {'expression': (2*bacc*f1p*p + f1p*n - 4*bacc*p + f1p*p)*n/(f1p*n + f1p*p - 2*p), 'symbols': ['bacc', 'f1p', 'n', 'p']}}]\n",
      "str_solutions [{'tp': {'expression': '(2*bacc*n - n - p)*f1p*p/(f1p*n + f1p*p - 2*p)', 'symbols': ['bacc', 'f1p', 'n', 'p']}, 'tn': {'expression': '(2*bacc*f1p*p + f1p*n - 4*bacc*p + f1p*p)*n/(f1p*n + f1p*p - 2*p)', 'symbols': ['bacc', 'f1p', 'n', 'p']}}]\n",
      "denoms [[{'expression': 'f1p*n + f1p*p - 2*p', 'symbols': ['f1p', 'n', 'p']}]]\n",
      "bases [[]]\n"
     ]
    }
   ],
   "source": [
    "solutions = []\n",
    "for idx, score0 in enumerate(list(scores.keys())):\n",
    "    for score1 in list(scores.keys())[(idx+1):]:\n",
    "        ps = ProblemSolver(score0=scores[score0], score1=scores[score1])\n",
    "        ps.solve()\n",
    "        ps.edge_cases()\n",
    "        solutions.append(ps)"
   ]
  },
  {
   "cell_type": "code",
   "execution_count": 10,
   "metadata": {},
   "outputs": [
    {
     "name": "stdout",
     "output_type": "stream",
     "text": [
      "solutions [{'solution': {'tp': {'expression': 'p*sens', 'symbols': ['p', 'sens']}, 'tn': {'expression': 'acc*n + acc*p - p*sens', 'symbols': ['acc', 'n', 'p', 'sens']}}, 'non_zero': [], 'non_negative': []}]\n",
      "sol {'tp': {'expression': 'p*sens', 'symbols': ['p', 'sens']}, 'tn': {'expression': 'acc*n + acc*p - p*sens', 'symbols': ['acc', 'n', 'p', 'sens']}}\n",
      "{'tp': {'expression': 'p*sens', 'symbols': ['p', 'sens']}, 'tn': {'expression': 'acc*n + acc*p - p*sens', 'symbols': ['acc', 'n', 'p', 'sens']}}\n",
      "[]\n",
      "[]\n"
     ]
    },
    {
     "data": {
      "text/plain": [
       "{'scores': ['acc', 'sens'],\n",
       " 'solutions': [{'solution': {'tp': {'expression': 'p*sens',\n",
       "     'symbols': ['p', 'sens']},\n",
       "    'tn': {'expression': 'acc*n + acc*p - p*sens',\n",
       "     'symbols': ['acc', 'n', 'p', 'sens']}},\n",
       "   'non_zero': [],\n",
       "   'non_negative': []}]}"
      ]
     },
     "execution_count": 10,
     "metadata": {},
     "output_type": "execute_result"
    }
   ],
   "source": [
    "solutions[0].get_solution().to_dict()"
   ]
  },
  {
   "cell_type": "code",
   "execution_count": 11,
   "metadata": {},
   "outputs": [
    {
     "name": "stdout",
     "output_type": "stream",
     "text": [
      "solutions [{'solution': {'tp': {'expression': 'p*sens', 'symbols': ['p', 'sens']}, 'tn': {'expression': 'acc*n + acc*p - p*sens', 'symbols': ['acc', 'n', 'p', 'sens']}}, 'non_zero': [], 'non_negative': []}]\n",
      "sol {'tp': {'expression': 'p*sens', 'symbols': ['p', 'sens']}, 'tn': {'expression': 'acc*n + acc*p - p*sens', 'symbols': ['acc', 'n', 'p', 'sens']}}\n",
      "{'tp': {'expression': 'p*sens', 'symbols': ['p', 'sens']}, 'tn': {'expression': 'acc*n + acc*p - p*sens', 'symbols': ['acc', 'n', 'p', 'sens']}}\n",
      "[]\n",
      "[]\n",
      "solutions [{'solution': {'tn': {'expression': 'n*spec', 'symbols': ['n', 'spec']}, 'tp': {'expression': 'acc*n + acc*p - n*spec', 'symbols': ['acc', 'n', 'p', 'spec']}}, 'non_zero': [], 'non_negative': []}]\n",
      "sol {'tn': {'expression': 'n*spec', 'symbols': ['n', 'spec']}, 'tp': {'expression': 'acc*n + acc*p - n*spec', 'symbols': ['acc', 'n', 'p', 'spec']}}\n",
      "{'tn': {'expression': 'n*spec', 'symbols': ['n', 'spec']}, 'tp': {'expression': 'acc*n + acc*p - n*spec', 'symbols': ['acc', 'n', 'p', 'spec']}}\n",
      "[]\n",
      "[]\n",
      "solutions [{'solution': {'tp': {'expression': '(acc*n + acc*p - n)*ppv/(2*ppv - 1)', 'symbols': ['acc', 'n', 'p', 'ppv']}, 'tn': {'expression': '(acc*n*ppv + acc*p*ppv - acc*n - acc*p + n*ppv)/(2*ppv - 1)', 'symbols': ['acc', 'n', 'p', 'ppv']}}, 'non_zero': [{'expression': '2*ppv - 1', 'symbols': ['ppv']}], 'non_negative': []}]\n",
      "sol {'tp': {'expression': '(acc*n + acc*p - n)*ppv/(2*ppv - 1)', 'symbols': ['acc', 'n', 'p', 'ppv']}, 'tn': {'expression': '(acc*n*ppv + acc*p*ppv - acc*n - acc*p + n*ppv)/(2*ppv - 1)', 'symbols': ['acc', 'n', 'p', 'ppv']}}\n",
      "{'tp': {'expression': '(acc*n + acc*p - n)*ppv/(2*ppv - 1)', 'symbols': ['acc', 'n', 'p', 'ppv']}, 'tn': {'expression': '(acc*n*ppv + acc*p*ppv - acc*n - acc*p + n*ppv)/(2*ppv - 1)', 'symbols': ['acc', 'n', 'p', 'ppv']}}\n",
      "[{'expression': '2*ppv - 1', 'symbols': ['ppv']}]\n",
      "[]\n",
      "solutions [{'solution': {'tp': {'expression': '(acc*n*npv + acc*npv*p - acc*n - acc*p + npv*p)/(2*npv - 1)', 'symbols': ['acc', 'n', 'npv', 'p']}, 'tn': {'expression': '(acc*n + acc*p - p)*npv/(2*npv - 1)', 'symbols': ['acc', 'n', 'npv', 'p']}}, 'non_zero': [{'expression': '2*npv - 1', 'symbols': ['npv']}], 'non_negative': []}]\n",
      "sol {'tp': {'expression': '(acc*n*npv + acc*npv*p - acc*n - acc*p + npv*p)/(2*npv - 1)', 'symbols': ['acc', 'n', 'npv', 'p']}, 'tn': {'expression': '(acc*n + acc*p - p)*npv/(2*npv - 1)', 'symbols': ['acc', 'n', 'npv', 'p']}}\n",
      "{'tp': {'expression': '(acc*n*npv + acc*npv*p - acc*n - acc*p + npv*p)/(2*npv - 1)', 'symbols': ['acc', 'n', 'npv', 'p']}, 'tn': {'expression': '(acc*n + acc*p - p)*npv/(2*npv - 1)', 'symbols': ['acc', 'n', 'npv', 'p']}}\n",
      "[{'expression': '2*npv - 1', 'symbols': ['npv']}]\n",
      "[]\n",
      "solutions [{'solution': {'tp': {'expression': '-(acc*n - 2*bacc*n + acc*p)*p/(n - p)', 'symbols': ['acc', 'bacc', 'n', 'p']}, 'tn': {'expression': '(acc*n + acc*p - 2*bacc*p)*n/(n - p)', 'symbols': ['acc', 'bacc', 'n', 'p']}}, 'non_zero': [{'expression': 'n - p', 'symbols': ['n', 'p']}], 'non_negative': []}]\n",
      "sol {'tp': {'expression': '-(acc*n - 2*bacc*n + acc*p)*p/(n - p)', 'symbols': ['acc', 'bacc', 'n', 'p']}, 'tn': {'expression': '(acc*n + acc*p - 2*bacc*p)*n/(n - p)', 'symbols': ['acc', 'bacc', 'n', 'p']}}\n",
      "{'tp': {'expression': '-(acc*n - 2*bacc*n + acc*p)*p/(n - p)', 'symbols': ['acc', 'bacc', 'n', 'p']}, 'tn': {'expression': '(acc*n + acc*p - 2*bacc*p)*n/(n - p)', 'symbols': ['acc', 'bacc', 'n', 'p']}}\n",
      "[{'expression': 'n - p', 'symbols': ['n', 'p']}]\n",
      "[]\n",
      "solutions [{'solution': {'tp': {'expression': '1/2*(acc - 1)*f1p*(n + p)/(f1p - 1)', 'symbols': ['acc', 'f1p', 'n', 'p']}, 'tn': {'expression': '1/2*(acc*f1p - 2*acc + f1p)*(n + p)/(f1p - 1)', 'symbols': ['acc', 'f1p', 'n', 'p']}}, 'non_zero': [{'expression': '2*f1p - 2', 'symbols': ['f1p']}], 'non_negative': []}]\n",
      "sol {'tp': {'expression': '1/2*(acc - 1)*f1p*(n + p)/(f1p - 1)', 'symbols': ['acc', 'f1p', 'n', 'p']}, 'tn': {'expression': '1/2*(acc*f1p - 2*acc + f1p)*(n + p)/(f1p - 1)', 'symbols': ['acc', 'f1p', 'n', 'p']}}\n",
      "{'tp': {'expression': '1/2*(acc - 1)*f1p*(n + p)/(f1p - 1)', 'symbols': ['acc', 'f1p', 'n', 'p']}, 'tn': {'expression': '1/2*(acc*f1p - 2*acc + f1p)*(n + p)/(f1p - 1)', 'symbols': ['acc', 'f1p', 'n', 'p']}}\n",
      "[{'expression': '2*f1p - 2', 'symbols': ['f1p']}]\n",
      "[]\n",
      "solutions [{'solution': {'tp': {'expression': 'p*sens', 'symbols': ['p', 'sens']}, 'tn': {'expression': 'n*spec', 'symbols': ['n', 'spec']}}, 'non_zero': [], 'non_negative': []}]\n",
      "sol {'tp': {'expression': 'p*sens', 'symbols': ['p', 'sens']}, 'tn': {'expression': 'n*spec', 'symbols': ['n', 'spec']}}\n",
      "{'tp': {'expression': 'p*sens', 'symbols': ['p', 'sens']}, 'tn': {'expression': 'n*spec', 'symbols': ['n', 'spec']}}\n",
      "[]\n",
      "[]\n",
      "solutions [{'solution': {'tp': {'expression': 'p*sens', 'symbols': ['p', 'sens']}, 'tn': {'expression': '(p*ppv*sens + n*ppv - p*sens)/ppv', 'symbols': ['n', 'p', 'ppv', 'sens']}}, 'non_zero': [{'expression': 'ppv', 'symbols': ['ppv']}], 'non_negative': []}]\n",
      "sol {'tp': {'expression': 'p*sens', 'symbols': ['p', 'sens']}, 'tn': {'expression': '(p*ppv*sens + n*ppv - p*sens)/ppv', 'symbols': ['n', 'p', 'ppv', 'sens']}}\n",
      "{'tp': {'expression': 'p*sens', 'symbols': ['p', 'sens']}, 'tn': {'expression': '(p*ppv*sens + n*ppv - p*sens)/ppv', 'symbols': ['n', 'p', 'ppv', 'sens']}}\n",
      "[{'expression': 'ppv', 'symbols': ['ppv']}]\n",
      "[]\n",
      "solutions [{'solution': {'tp': {'expression': 'p*sens', 'symbols': ['p', 'sens']}, 'tn': {'expression': 'npv*p*(sens - 1)/(npv - 1)', 'symbols': ['npv', 'p', 'sens']}}, 'non_zero': [{'expression': 'npv - 1', 'symbols': ['npv']}], 'non_negative': []}]\n",
      "sol {'tp': {'expression': 'p*sens', 'symbols': ['p', 'sens']}, 'tn': {'expression': 'npv*p*(sens - 1)/(npv - 1)', 'symbols': ['npv', 'p', 'sens']}}\n",
      "{'tp': {'expression': 'p*sens', 'symbols': ['p', 'sens']}, 'tn': {'expression': 'npv*p*(sens - 1)/(npv - 1)', 'symbols': ['npv', 'p', 'sens']}}\n",
      "[{'expression': 'npv - 1', 'symbols': ['npv']}]\n",
      "[]\n",
      "solutions [{'solution': {'tp': {'expression': 'p*sens', 'symbols': ['p', 'sens']}, 'tn': {'expression': '(2*bacc - sens)*n', 'symbols': ['bacc', 'n', 'sens']}}, 'non_zero': [], 'non_negative': []}]\n",
      "sol {'tp': {'expression': 'p*sens', 'symbols': ['p', 'sens']}, 'tn': {'expression': '(2*bacc - sens)*n', 'symbols': ['bacc', 'n', 'sens']}}\n",
      "{'tp': {'expression': 'p*sens', 'symbols': ['p', 'sens']}, 'tn': {'expression': '(2*bacc - sens)*n', 'symbols': ['bacc', 'n', 'sens']}}\n",
      "[]\n",
      "[]\n",
      "solutions [{'solution': {'tp': {'expression': 'p*sens', 'symbols': ['p', 'sens']}, 'tn': {'expression': '(f1p*p*sens + f1p*n + f1p*p - 2*p*sens)/f1p', 'symbols': ['f1p', 'n', 'p', 'sens']}}, 'non_zero': [{'expression': 'f1p', 'symbols': ['f1p']}], 'non_negative': []}]\n",
      "sol {'tp': {'expression': 'p*sens', 'symbols': ['p', 'sens']}, 'tn': {'expression': '(f1p*p*sens + f1p*n + f1p*p - 2*p*sens)/f1p', 'symbols': ['f1p', 'n', 'p', 'sens']}}\n",
      "{'tp': {'expression': 'p*sens', 'symbols': ['p', 'sens']}, 'tn': {'expression': '(f1p*p*sens + f1p*n + f1p*p - 2*p*sens)/f1p', 'symbols': ['f1p', 'n', 'p', 'sens']}}\n",
      "[{'expression': 'f1p', 'symbols': ['f1p']}]\n",
      "[]\n",
      "solutions [{'solution': {'tn': {'expression': 'n*spec', 'symbols': ['n', 'spec']}, 'tp': {'expression': 'n*ppv*(spec - 1)/(ppv - 1)', 'symbols': ['n', 'ppv', 'spec']}}, 'non_zero': [{'expression': 'ppv - 1', 'symbols': ['ppv']}], 'non_negative': []}]\n",
      "sol {'tn': {'expression': 'n*spec', 'symbols': ['n', 'spec']}, 'tp': {'expression': 'n*ppv*(spec - 1)/(ppv - 1)', 'symbols': ['n', 'ppv', 'spec']}}\n",
      "{'tn': {'expression': 'n*spec', 'symbols': ['n', 'spec']}, 'tp': {'expression': 'n*ppv*(spec - 1)/(ppv - 1)', 'symbols': ['n', 'ppv', 'spec']}}\n",
      "[{'expression': 'ppv - 1', 'symbols': ['ppv']}]\n",
      "[]\n",
      "solutions [{'solution': {'tn': {'expression': 'n*spec', 'symbols': ['n', 'spec']}, 'tp': {'expression': '(n*npv*spec + npv*p - n*spec)/npv', 'symbols': ['n', 'npv', 'p', 'spec']}}, 'non_zero': [{'expression': 'npv', 'symbols': ['npv']}], 'non_negative': []}]\n",
      "sol {'tn': {'expression': 'n*spec', 'symbols': ['n', 'spec']}, 'tp': {'expression': '(n*npv*spec + npv*p - n*spec)/npv', 'symbols': ['n', 'npv', 'p', 'spec']}}\n",
      "{'tn': {'expression': 'n*spec', 'symbols': ['n', 'spec']}, 'tp': {'expression': '(n*npv*spec + npv*p - n*spec)/npv', 'symbols': ['n', 'npv', 'p', 'spec']}}\n",
      "[{'expression': 'npv', 'symbols': ['npv']}]\n",
      "[]\n",
      "solutions [{'solution': {'tn': {'expression': 'n*spec', 'symbols': ['n', 'spec']}, 'tp': {'expression': '(2*bacc - spec)*p', 'symbols': ['bacc', 'p', 'spec']}}, 'non_zero': [], 'non_negative': []}]\n",
      "sol {'tn': {'expression': 'n*spec', 'symbols': ['n', 'spec']}, 'tp': {'expression': '(2*bacc - spec)*p', 'symbols': ['bacc', 'p', 'spec']}}\n",
      "{'tn': {'expression': 'n*spec', 'symbols': ['n', 'spec']}, 'tp': {'expression': '(2*bacc - spec)*p', 'symbols': ['bacc', 'p', 'spec']}}\n",
      "[]\n",
      "[]\n",
      "solutions [{'solution': {'tn': {'expression': 'n*spec', 'symbols': ['n', 'spec']}, 'tp': {'expression': '(n*spec - n - p)*f1p/(f1p - 2)', 'symbols': ['f1p', 'n', 'p', 'spec']}}, 'non_zero': [{'expression': 'f1p - 2', 'symbols': ['f1p']}], 'non_negative': []}]\n",
      "sol {'tn': {'expression': 'n*spec', 'symbols': ['n', 'spec']}, 'tp': {'expression': '(n*spec - n - p)*f1p/(f1p - 2)', 'symbols': ['f1p', 'n', 'p', 'spec']}}\n",
      "{'tn': {'expression': 'n*spec', 'symbols': ['n', 'spec']}, 'tp': {'expression': '(n*spec - n - p)*f1p/(f1p - 2)', 'symbols': ['f1p', 'n', 'p', 'spec']}}\n",
      "[{'expression': 'f1p - 2', 'symbols': ['f1p']}]\n",
      "[]\n",
      "solutions [{'solution': {'tp': {'expression': '(n*npv + npv*p - n)*ppv/(npv + ppv - 1)', 'symbols': ['n', 'npv', 'p', 'ppv']}, 'tn': {'expression': '(n*ppv + p*ppv - p)*npv/(npv + ppv - 1)', 'symbols': ['n', 'npv', 'p', 'ppv']}}, 'non_zero': [{'expression': 'npv + ppv - 1', 'symbols': ['npv', 'ppv']}], 'non_negative': []}]\n",
      "sol {'tp': {'expression': '(n*npv + npv*p - n)*ppv/(npv + ppv - 1)', 'symbols': ['n', 'npv', 'p', 'ppv']}, 'tn': {'expression': '(n*ppv + p*ppv - p)*npv/(npv + ppv - 1)', 'symbols': ['n', 'npv', 'p', 'ppv']}}\n",
      "{'tp': {'expression': '(n*npv + npv*p - n)*ppv/(npv + ppv - 1)', 'symbols': ['n', 'npv', 'p', 'ppv']}, 'tn': {'expression': '(n*ppv + p*ppv - p)*npv/(npv + ppv - 1)', 'symbols': ['n', 'npv', 'p', 'ppv']}}\n",
      "[{'expression': 'npv + ppv - 1', 'symbols': ['npv', 'ppv']}]\n",
      "[]\n",
      "solutions [{'solution': {'tp': {'expression': '(2*bacc - 1)*n*p*ppv/(n*ppv + p*ppv - p)', 'symbols': ['bacc', 'n', 'p', 'ppv']}, 'tn': {'expression': '(2*bacc*p*ppv - 2*bacc*p + n*ppv)*n/(n*ppv + p*ppv - p)', 'symbols': ['bacc', 'n', 'p', 'ppv']}}, 'non_zero': [{'expression': 'n*ppv + p*ppv - p', 'symbols': ['n', 'p', 'ppv']}], 'non_negative': []}]\n",
      "sol {'tp': {'expression': '(2*bacc - 1)*n*p*ppv/(n*ppv + p*ppv - p)', 'symbols': ['bacc', 'n', 'p', 'ppv']}, 'tn': {'expression': '(2*bacc*p*ppv - 2*bacc*p + n*ppv)*n/(n*ppv + p*ppv - p)', 'symbols': ['bacc', 'n', 'p', 'ppv']}}\n",
      "{'tp': {'expression': '(2*bacc - 1)*n*p*ppv/(n*ppv + p*ppv - p)', 'symbols': ['bacc', 'n', 'p', 'ppv']}, 'tn': {'expression': '(2*bacc*p*ppv - 2*bacc*p + n*ppv)*n/(n*ppv + p*ppv - p)', 'symbols': ['bacc', 'n', 'p', 'ppv']}}\n",
      "[{'expression': 'n*ppv + p*ppv - p', 'symbols': ['n', 'p', 'ppv']}]\n",
      "[]\n",
      "solutions [{'solution': {'tp': {'expression': '-f1p*p*ppv/(f1p - 2*ppv)', 'symbols': ['f1p', 'n', 'p', 'ppv']}, 'tn': {'expression': '-(f1p*p*ppv - f1p*n - f1p*p + 2*n*ppv)/(f1p - 2*ppv)', 'symbols': ['f1p', 'n', 'p', 'ppv']}}, 'non_zero': [{'expression': 'f1p - 2*ppv', 'symbols': ['f1p', 'ppv']}], 'non_negative': []}]\n",
      "sol {'tp': {'expression': '-f1p*p*ppv/(f1p - 2*ppv)', 'symbols': ['f1p', 'n', 'p', 'ppv']}, 'tn': {'expression': '-(f1p*p*ppv - f1p*n - f1p*p + 2*n*ppv)/(f1p - 2*ppv)', 'symbols': ['f1p', 'n', 'p', 'ppv']}}\n",
      "{'tp': {'expression': '-f1p*p*ppv/(f1p - 2*ppv)', 'symbols': ['f1p', 'n', 'p', 'ppv']}, 'tn': {'expression': '-(f1p*p*ppv - f1p*n - f1p*p + 2*n*ppv)/(f1p - 2*ppv)', 'symbols': ['f1p', 'n', 'p', 'ppv']}}\n",
      "[{'expression': 'f1p - 2*ppv', 'symbols': ['f1p', 'ppv']}]\n",
      "[]\n",
      "solutions [{'solution': {'tp': {'expression': '(2*bacc*n*npv - 2*bacc*n + npv*p)*p/(n*npv + npv*p - n)', 'symbols': ['bacc', 'n', 'npv', 'p']}, 'tn': {'expression': '(2*bacc - 1)*n*npv*p/(n*npv + npv*p - n)', 'symbols': ['bacc', 'n', 'npv', 'p']}}, 'non_zero': [{'expression': 'n*npv + npv*p - n', 'symbols': ['n', 'npv', 'p']}], 'non_negative': []}]\n",
      "sol {'tp': {'expression': '(2*bacc*n*npv - 2*bacc*n + npv*p)*p/(n*npv + npv*p - n)', 'symbols': ['bacc', 'n', 'npv', 'p']}, 'tn': {'expression': '(2*bacc - 1)*n*npv*p/(n*npv + npv*p - n)', 'symbols': ['bacc', 'n', 'npv', 'p']}}\n",
      "{'tp': {'expression': '(2*bacc*n*npv - 2*bacc*n + npv*p)*p/(n*npv + npv*p - n)', 'symbols': ['bacc', 'n', 'npv', 'p']}, 'tn': {'expression': '(2*bacc - 1)*n*npv*p/(n*npv + npv*p - n)', 'symbols': ['bacc', 'n', 'npv', 'p']}}\n",
      "[{'expression': 'n*npv + npv*p - n', 'symbols': ['n', 'npv', 'p']}]\n",
      "[]\n",
      "solutions [{'solution': {'tp': {'expression': '(n*npv + 2*npv*p - n - p)*f1p/(f1p + 2*npv - 2)', 'symbols': ['f1p', 'n', 'npv', 'p']}, 'tn': {'expression': '(f1p*n + 2*f1p*p - 2*p)*npv/(f1p + 2*npv - 2)', 'symbols': ['f1p', 'n', 'npv', 'p']}}, 'non_zero': [{'expression': 'f1p + 2*npv - 2', 'symbols': ['f1p', 'npv']}], 'non_negative': []}]\n",
      "sol {'tp': {'expression': '(n*npv + 2*npv*p - n - p)*f1p/(f1p + 2*npv - 2)', 'symbols': ['f1p', 'n', 'npv', 'p']}, 'tn': {'expression': '(f1p*n + 2*f1p*p - 2*p)*npv/(f1p + 2*npv - 2)', 'symbols': ['f1p', 'n', 'npv', 'p']}}\n",
      "{'tp': {'expression': '(n*npv + 2*npv*p - n - p)*f1p/(f1p + 2*npv - 2)', 'symbols': ['f1p', 'n', 'npv', 'p']}, 'tn': {'expression': '(f1p*n + 2*f1p*p - 2*p)*npv/(f1p + 2*npv - 2)', 'symbols': ['f1p', 'n', 'npv', 'p']}}\n",
      "[{'expression': 'f1p + 2*npv - 2', 'symbols': ['f1p', 'npv']}]\n",
      "[]\n",
      "solutions [{'solution': {'tp': {'expression': '(2*bacc*n - n - p)*f1p*p/(f1p*n + f1p*p - 2*p)', 'symbols': ['bacc', 'f1p', 'n', 'p']}, 'tn': {'expression': '(2*bacc*f1p*p + f1p*n - 4*bacc*p + f1p*p)*n/(f1p*n + f1p*p - 2*p)', 'symbols': ['bacc', 'f1p', 'n', 'p']}}, 'non_zero': [{'expression': 'f1p*n + f1p*p - 2*p', 'symbols': ['f1p', 'n', 'p']}], 'non_negative': []}]\n",
      "sol {'tp': {'expression': '(2*bacc*n - n - p)*f1p*p/(f1p*n + f1p*p - 2*p)', 'symbols': ['bacc', 'f1p', 'n', 'p']}, 'tn': {'expression': '(2*bacc*f1p*p + f1p*n - 4*bacc*p + f1p*p)*n/(f1p*n + f1p*p - 2*p)', 'symbols': ['bacc', 'f1p', 'n', 'p']}}\n",
      "{'tp': {'expression': '(2*bacc*n - n - p)*f1p*p/(f1p*n + f1p*p - 2*p)', 'symbols': ['bacc', 'f1p', 'n', 'p']}, 'tn': {'expression': '(2*bacc*f1p*p + f1p*n - 4*bacc*p + f1p*p)*n/(f1p*n + f1p*p - 2*p)', 'symbols': ['bacc', 'f1p', 'n', 'p']}}\n",
      "[{'expression': 'f1p*n + f1p*p - 2*p', 'symbols': ['f1p', 'n', 'p']}]\n",
      "[]\n"
     ]
    }
   ],
   "source": [
    "soljson = {'solutions': []}\n",
    "for sol in solutions:\n",
    "    soljson['solutions'].append(sol.get_solution().to_dict())"
   ]
  },
  {
   "cell_type": "code",
   "execution_count": 12,
   "metadata": {},
   "outputs": [
    {
     "data": {
      "text/plain": [
       "{'solutions': [{'scores': ['acc', 'sens'],\n",
       "   'solutions': [{'solution': {'tp': {'expression': 'p*sens',\n",
       "       'symbols': ['p', 'sens']},\n",
       "      'tn': {'expression': 'acc*n + acc*p - p*sens',\n",
       "       'symbols': ['acc', 'n', 'p', 'sens']}},\n",
       "     'non_zero': [],\n",
       "     'non_negative': []}]},\n",
       "  {'scores': ['acc', 'spec'],\n",
       "   'solutions': [{'solution': {'tn': {'expression': 'n*spec',\n",
       "       'symbols': ['n', 'spec']},\n",
       "      'tp': {'expression': 'acc*n + acc*p - n*spec',\n",
       "       'symbols': ['acc', 'n', 'p', 'spec']}},\n",
       "     'non_zero': [],\n",
       "     'non_negative': []}]},\n",
       "  {'scores': ['acc', 'ppv'],\n",
       "   'solutions': [{'solution': {'tp': {'expression': '(acc*n + acc*p - n)*ppv/(2*ppv - 1)',\n",
       "       'symbols': ['acc', 'n', 'p', 'ppv']},\n",
       "      'tn': {'expression': '(acc*n*ppv + acc*p*ppv - acc*n - acc*p + n*ppv)/(2*ppv - 1)',\n",
       "       'symbols': ['acc', 'n', 'p', 'ppv']}},\n",
       "     'non_zero': [{'expression': '2*ppv - 1', 'symbols': ['ppv']}],\n",
       "     'non_negative': []}]},\n",
       "  {'scores': ['acc', 'npv'],\n",
       "   'solutions': [{'solution': {'tp': {'expression': '(acc*n*npv + acc*npv*p - acc*n - acc*p + npv*p)/(2*npv - 1)',\n",
       "       'symbols': ['acc', 'n', 'npv', 'p']},\n",
       "      'tn': {'expression': '(acc*n + acc*p - p)*npv/(2*npv - 1)',\n",
       "       'symbols': ['acc', 'n', 'npv', 'p']}},\n",
       "     'non_zero': [{'expression': '2*npv - 1', 'symbols': ['npv']}],\n",
       "     'non_negative': []}]},\n",
       "  {'scores': ['acc', 'bacc'],\n",
       "   'solutions': [{'solution': {'tp': {'expression': '-(acc*n - 2*bacc*n + acc*p)*p/(n - p)',\n",
       "       'symbols': ['acc', 'bacc', 'n', 'p']},\n",
       "      'tn': {'expression': '(acc*n + acc*p - 2*bacc*p)*n/(n - p)',\n",
       "       'symbols': ['acc', 'bacc', 'n', 'p']}},\n",
       "     'non_zero': [{'expression': 'n - p', 'symbols': ['n', 'p']}],\n",
       "     'non_negative': []}]},\n",
       "  {'scores': ['acc', 'f1p'],\n",
       "   'solutions': [{'solution': {'tp': {'expression': '1/2*(acc - 1)*f1p*(n + p)/(f1p - 1)',\n",
       "       'symbols': ['acc', 'f1p', 'n', 'p']},\n",
       "      'tn': {'expression': '1/2*(acc*f1p - 2*acc + f1p)*(n + p)/(f1p - 1)',\n",
       "       'symbols': ['acc', 'f1p', 'n', 'p']}},\n",
       "     'non_zero': [{'expression': '2*f1p - 2', 'symbols': ['f1p']}],\n",
       "     'non_negative': []}]},\n",
       "  {'scores': ['sens', 'spec'],\n",
       "   'solutions': [{'solution': {'tp': {'expression': 'p*sens',\n",
       "       'symbols': ['p', 'sens']},\n",
       "      'tn': {'expression': 'n*spec', 'symbols': ['n', 'spec']}},\n",
       "     'non_zero': [],\n",
       "     'non_negative': []}]},\n",
       "  {'scores': ['sens', 'ppv'],\n",
       "   'solutions': [{'solution': {'tp': {'expression': 'p*sens',\n",
       "       'symbols': ['p', 'sens']},\n",
       "      'tn': {'expression': '(p*ppv*sens + n*ppv - p*sens)/ppv',\n",
       "       'symbols': ['n', 'p', 'ppv', 'sens']}},\n",
       "     'non_zero': [{'expression': 'ppv', 'symbols': ['ppv']}],\n",
       "     'non_negative': []}]},\n",
       "  {'scores': ['sens', 'npv'],\n",
       "   'solutions': [{'solution': {'tp': {'expression': 'p*sens',\n",
       "       'symbols': ['p', 'sens']},\n",
       "      'tn': {'expression': 'npv*p*(sens - 1)/(npv - 1)',\n",
       "       'symbols': ['npv', 'p', 'sens']}},\n",
       "     'non_zero': [{'expression': 'npv - 1', 'symbols': ['npv']}],\n",
       "     'non_negative': []}]},\n",
       "  {'scores': ['sens', 'bacc'],\n",
       "   'solutions': [{'solution': {'tp': {'expression': 'p*sens',\n",
       "       'symbols': ['p', 'sens']},\n",
       "      'tn': {'expression': '(2*bacc - sens)*n',\n",
       "       'symbols': ['bacc', 'n', 'sens']}},\n",
       "     'non_zero': [],\n",
       "     'non_negative': []}]},\n",
       "  {'scores': ['sens', 'f1p'],\n",
       "   'solutions': [{'solution': {'tp': {'expression': 'p*sens',\n",
       "       'symbols': ['p', 'sens']},\n",
       "      'tn': {'expression': '(f1p*p*sens + f1p*n + f1p*p - 2*p*sens)/f1p',\n",
       "       'symbols': ['f1p', 'n', 'p', 'sens']}},\n",
       "     'non_zero': [{'expression': 'f1p', 'symbols': ['f1p']}],\n",
       "     'non_negative': []}]},\n",
       "  {'scores': ['spec', 'ppv'],\n",
       "   'solutions': [{'solution': {'tn': {'expression': 'n*spec',\n",
       "       'symbols': ['n', 'spec']},\n",
       "      'tp': {'expression': 'n*ppv*(spec - 1)/(ppv - 1)',\n",
       "       'symbols': ['n', 'ppv', 'spec']}},\n",
       "     'non_zero': [{'expression': 'ppv - 1', 'symbols': ['ppv']}],\n",
       "     'non_negative': []}]},\n",
       "  {'scores': ['spec', 'npv'],\n",
       "   'solutions': [{'solution': {'tn': {'expression': 'n*spec',\n",
       "       'symbols': ['n', 'spec']},\n",
       "      'tp': {'expression': '(n*npv*spec + npv*p - n*spec)/npv',\n",
       "       'symbols': ['n', 'npv', 'p', 'spec']}},\n",
       "     'non_zero': [{'expression': 'npv', 'symbols': ['npv']}],\n",
       "     'non_negative': []}]},\n",
       "  {'scores': ['spec', 'bacc'],\n",
       "   'solutions': [{'solution': {'tn': {'expression': 'n*spec',\n",
       "       'symbols': ['n', 'spec']},\n",
       "      'tp': {'expression': '(2*bacc - spec)*p',\n",
       "       'symbols': ['bacc', 'p', 'spec']}},\n",
       "     'non_zero': [],\n",
       "     'non_negative': []}]},\n",
       "  {'scores': ['spec', 'f1p'],\n",
       "   'solutions': [{'solution': {'tn': {'expression': 'n*spec',\n",
       "       'symbols': ['n', 'spec']},\n",
       "      'tp': {'expression': '(n*spec - n - p)*f1p/(f1p - 2)',\n",
       "       'symbols': ['f1p', 'n', 'p', 'spec']}},\n",
       "     'non_zero': [{'expression': 'f1p - 2', 'symbols': ['f1p']}],\n",
       "     'non_negative': []}]},\n",
       "  {'scores': ['ppv', 'npv'],\n",
       "   'solutions': [{'solution': {'tp': {'expression': '(n*npv + npv*p - n)*ppv/(npv + ppv - 1)',\n",
       "       'symbols': ['n', 'npv', 'p', 'ppv']},\n",
       "      'tn': {'expression': '(n*ppv + p*ppv - p)*npv/(npv + ppv - 1)',\n",
       "       'symbols': ['n', 'npv', 'p', 'ppv']}},\n",
       "     'non_zero': [{'expression': 'npv + ppv - 1', 'symbols': ['npv', 'ppv']}],\n",
       "     'non_negative': []}]},\n",
       "  {'scores': ['ppv', 'bacc'],\n",
       "   'solutions': [{'solution': {'tp': {'expression': '(2*bacc - 1)*n*p*ppv/(n*ppv + p*ppv - p)',\n",
       "       'symbols': ['bacc', 'n', 'p', 'ppv']},\n",
       "      'tn': {'expression': '(2*bacc*p*ppv - 2*bacc*p + n*ppv)*n/(n*ppv + p*ppv - p)',\n",
       "       'symbols': ['bacc', 'n', 'p', 'ppv']}},\n",
       "     'non_zero': [{'expression': 'n*ppv + p*ppv - p',\n",
       "       'symbols': ['n', 'p', 'ppv']}],\n",
       "     'non_negative': []}]},\n",
       "  {'scores': ['ppv', 'f1p'],\n",
       "   'solutions': [{'solution': {'tp': {'expression': '-f1p*p*ppv/(f1p - 2*ppv)',\n",
       "       'symbols': ['f1p', 'n', 'p', 'ppv']},\n",
       "      'tn': {'expression': '-(f1p*p*ppv - f1p*n - f1p*p + 2*n*ppv)/(f1p - 2*ppv)',\n",
       "       'symbols': ['f1p', 'n', 'p', 'ppv']}},\n",
       "     'non_zero': [{'expression': 'f1p - 2*ppv', 'symbols': ['f1p', 'ppv']}],\n",
       "     'non_negative': []}]},\n",
       "  {'scores': ['npv', 'bacc'],\n",
       "   'solutions': [{'solution': {'tp': {'expression': '(2*bacc*n*npv - 2*bacc*n + npv*p)*p/(n*npv + npv*p - n)',\n",
       "       'symbols': ['bacc', 'n', 'npv', 'p']},\n",
       "      'tn': {'expression': '(2*bacc - 1)*n*npv*p/(n*npv + npv*p - n)',\n",
       "       'symbols': ['bacc', 'n', 'npv', 'p']}},\n",
       "     'non_zero': [{'expression': 'n*npv + npv*p - n',\n",
       "       'symbols': ['n', 'npv', 'p']}],\n",
       "     'non_negative': []}]},\n",
       "  {'scores': ['npv', 'f1p'],\n",
       "   'solutions': [{'solution': {'tp': {'expression': '(n*npv + 2*npv*p - n - p)*f1p/(f1p + 2*npv - 2)',\n",
       "       'symbols': ['f1p', 'n', 'npv', 'p']},\n",
       "      'tn': {'expression': '(f1p*n + 2*f1p*p - 2*p)*npv/(f1p + 2*npv - 2)',\n",
       "       'symbols': ['f1p', 'n', 'npv', 'p']}},\n",
       "     'non_zero': [{'expression': 'f1p + 2*npv - 2',\n",
       "       'symbols': ['f1p', 'npv']}],\n",
       "     'non_negative': []}]},\n",
       "  {'scores': ['bacc', 'f1p'],\n",
       "   'solutions': [{'solution': {'tp': {'expression': '(2*bacc*n - n - p)*f1p*p/(f1p*n + f1p*p - 2*p)',\n",
       "       'symbols': ['bacc', 'f1p', 'n', 'p']},\n",
       "      'tn': {'expression': '(2*bacc*f1p*p + f1p*n - 4*bacc*p + f1p*p)*n/(f1p*n + f1p*p - 2*p)',\n",
       "       'symbols': ['bacc', 'f1p', 'n', 'p']}},\n",
       "     'non_zero': [{'expression': 'f1p*n + f1p*p - 2*p',\n",
       "       'symbols': ['f1p', 'n', 'p']}],\n",
       "     'non_negative': []}]}]}"
      ]
     },
     "execution_count": 12,
     "metadata": {},
     "output_type": "execute_result"
    }
   ],
   "source": [
    "soljson"
   ]
  },
  {
   "cell_type": "code",
   "execution_count": 13,
   "metadata": {},
   "outputs": [],
   "source": [
    "with open('solutions.json', 'wt') as file:\n",
    "    file.write(json.dumps(soljson))"
   ]
  }
 ],
 "metadata": {
  "kernelspec": {
   "display_name": "mlscorecheck",
   "language": "python",
   "name": "python3"
  },
  "language_info": {
   "codemirror_mode": {
    "name": "ipython",
    "version": 3
   },
   "file_extension": ".py",
   "mimetype": "text/x-python",
   "name": "python",
   "nbconvert_exporter": "python",
   "pygments_lexer": "ipython3",
   "version": "3.10.0"
  },
  "orig_nbformat": 4
 },
 "nbformat": 4,
 "nbformat_minor": 2
}
