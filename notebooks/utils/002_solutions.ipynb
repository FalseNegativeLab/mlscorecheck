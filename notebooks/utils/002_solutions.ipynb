{
 "cells": [
  {
   "cell_type": "code",
   "execution_count": 1,
   "metadata": {
    "vscode": {
     "languageId": "python"
    }
   },
   "outputs": [],
   "source": [
    "from mlscorecheck import get_base_objects, ProblemSolver3, Score, Solution, Solutions"
   ]
  },
  {
   "cell_type": "code",
   "execution_count": 2,
   "metadata": {
    "vscode": {
     "languageId": "python"
    }
   },
   "outputs": [],
   "source": [
    "from mlscorecheck.core import load_solutions"
   ]
  },
  {
   "cell_type": "code",
   "execution_count": 3,
   "metadata": {
    "vscode": {
     "languageId": "python"
    }
   },
   "outputs": [],
   "source": [
    "sols = load_solutions()"
   ]
  },
  {
   "cell_type": "code",
   "execution_count": 4,
   "metadata": {
    "vscode": {
     "languageId": "python"
    }
   },
   "outputs": [
    {
     "data": {
      "text/plain": [
       "[('acc', 'sens'),\n",
       " ('acc', 'spec'),\n",
       " ('acc', 'ppv'),\n",
       " ('acc', 'npv'),\n",
       " ('acc', 'ba'),\n",
       " ('acc', 'f1p'),\n",
       " ('sens', 'spec'),\n",
       " ('ppv', 'sens'),\n",
       " ('npv', 'sens'),\n",
       " ('ba', 'sens'),\n",
       " ('f1p', 'sens'),\n",
       " ('ppv', 'spec'),\n",
       " ('npv', 'spec'),\n",
       " ('ba', 'spec'),\n",
       " ('f1p', 'spec'),\n",
       " ('npv', 'ppv'),\n",
       " ('ba', 'ppv'),\n",
       " ('f1p', 'ppv'),\n",
       " ('ba', 'npv'),\n",
       " ('f1p', 'npv'),\n",
       " ('ba', 'f1p')]"
      ]
     },
     "execution_count": 4,
     "metadata": {},
     "output_type": "execute_result"
    }
   ],
   "source": [
    "list(sols.keys())"
   ]
  },
  {
   "cell_type": "code",
   "execution_count": 5,
   "metadata": {
    "vscode": {
     "languageId": "python"
    }
   },
   "outputs": [
    {
     "data": {
      "text/plain": [
       "<mlscorecheck.core._solver.Solutions object at 0x7fb763f68520>"
      ]
     },
     "execution_count": 5,
     "metadata": {},
     "output_type": "execute_result"
    }
   ],
   "source": [
    "sols[('acc', 'sens')]"
   ]
  },
  {
   "cell_type": "code",
   "execution_count": 6,
   "metadata": {
    "vscode": {
     "languageId": "python"
    }
   },
   "outputs": [],
   "source": [
    "from mlscorecheck.utils import generate_problem, generate_problem_tp0"
   ]
  },
  {
   "cell_type": "code",
   "execution_count": 7,
   "metadata": {
    "vscode": {
     "languageId": "python"
    }
   },
   "outputs": [],
   "source": [
    "scores = get_base_objects(algebraic_system='sympy')"
   ]
  },
  {
   "cell_type": "code",
   "execution_count": 25,
   "metadata": {
    "vscode": {
     "languageId": "python"
    }
   },
   "outputs": [],
   "source": [
    "symbols = scores['acc'].symbols"
   ]
  },
  {
   "cell_type": "code",
   "execution_count": 8,
   "metadata": {
    "vscode": {
     "languageId": "python"
    }
   },
   "outputs": [
    {
     "name": "stderr",
     "output_type": "stream",
     "text": [
      "2023-08-08 15:19:05,460:INFO:eq0 p*sens - tp\n",
      "2023-08-08 15:19:05 INFO     eq0 p*sens - tp\n",
      "2023-08-08 15:19:05,461:INFO:sym0 tp\n",
      "2023-08-08 15:19:05 INFO     sym0 tp\n",
      "2023-08-08 15:19:05,473:INFO:v0s [{tp: p*sens}]\n",
      "2023-08-08 15:19:05 INFO     v0s [{tp: p*sens}]\n",
      "2023-08-08 15:19:05,476:INFO:v0 {v0}\n",
      "2023-08-08 15:19:05 INFO     v0 {v0}\n",
      "2023-08-08 15:19:05,477:INFO:{n, spec, tn}\n",
      "2023-08-08 15:19:05 INFO     {n, spec, tn}\n",
      "2023-08-08 15:19:05,481:INFO:eq1tmp n*spec - tn\n",
      "2023-08-08 15:19:05 INFO     eq1tmp n*spec - tn\n",
      "2023-08-08 15:19:05,489:INFO:v1s [{tn: n*spec}]\n",
      "2023-08-08 15:19:05 INFO     v1s [{tn: n*spec}]\n"
     ]
    },
    {
     "data": {
      "text/plain": [
       "<mlscorecheck.core._solver.ProblemSolver3 object at 0x7fb7615291b0>"
      ]
     },
     "execution_count": 8,
     "metadata": {},
     "output_type": "execute_result"
    }
   ],
   "source": [
    "ProblemSolver3(score0=scores['sens'], score1=scores['spec']).solve()"
   ]
  },
  {
   "cell_type": "code",
   "execution_count": 9,
   "metadata": {
    "vscode": {
     "languageId": "python"
    }
   },
   "outputs": [],
   "source": [
    "for score in scores:\n",
    "    scores[score] = Score(symbols=scores[score].symbols, **scores[score].to_dict())"
   ]
  },
  {
   "cell_type": "code",
   "execution_count": 10,
   "metadata": {
    "vscode": {
     "languageId": "python"
    }
   },
   "outputs": [
    {
     "name": "stderr",
     "output_type": "stream",
     "text": [
      "2023-08-08 15:19:05,546:INFO:eq0 p*sens - tp\n",
      "2023-08-08 15:19:05 INFO     eq0 p*sens - tp\n",
      "2023-08-08 15:19:05,549:INFO:sym0 tp\n",
      "2023-08-08 15:19:05 INFO     sym0 tp\n",
      "2023-08-08 15:19:05,554:INFO:v0s [{tp: p*sens}]\n",
      "2023-08-08 15:19:05 INFO     v0s [{tp: p*sens}]\n",
      "2023-08-08 15:19:05,558:INFO:v0 {v0}\n",
      "2023-08-08 15:19:05 INFO     v0 {v0}\n",
      "2023-08-08 15:19:05,559:INFO:{p, acc, n, tp, tn}\n",
      "2023-08-08 15:19:05 INFO     {p, acc, n, tp, tn}\n",
      "2023-08-08 15:19:05,562:INFO:substitution acc*(n + p) - tn - tp {tp: p*sens}\n",
      "2023-08-08 15:19:05 INFO     substitution acc*(n + p) - tn - tp {tp: p*sens}\n",
      "2023-08-08 15:19:05,565:INFO:eq1tmp acc*(n + p) - p*sens - tn\n",
      "2023-08-08 15:19:05 INFO     eq1tmp acc*(n + p) - p*sens - tn\n",
      "2023-08-08 15:19:05,594:INFO:v1s [{tn: acc*n + acc*p - p*sens}]\n",
      "2023-08-08 15:19:05 INFO     v1s [{tn: acc*n + acc*p - p*sens}]\n",
      "2023-08-08 15:19:05,655:INFO:eq0 n*spec - tn\n",
      "2023-08-08 15:19:05 INFO     eq0 n*spec - tn\n",
      "2023-08-08 15:19:05,656:INFO:sym0 tn\n",
      "2023-08-08 15:19:05 INFO     sym0 tn\n",
      "2023-08-08 15:19:05,662:INFO:v0s [{tn: n*spec}]\n",
      "2023-08-08 15:19:05 INFO     v0s [{tn: n*spec}]\n",
      "2023-08-08 15:19:05,664:INFO:v0 {v0}\n",
      "2023-08-08 15:19:05 INFO     v0 {v0}\n",
      "2023-08-08 15:19:05,666:INFO:{p, acc, n, tp, tn}\n",
      "2023-08-08 15:19:05 INFO     {p, acc, n, tp, tn}\n",
      "2023-08-08 15:19:05,668:INFO:substitution acc*(n + p) - tn - tp {tn: n*spec}\n",
      "2023-08-08 15:19:05 INFO     substitution acc*(n + p) - tn - tp {tn: n*spec}\n",
      "2023-08-08 15:19:05,670:INFO:eq1tmp acc*(n + p) - n*spec - tp\n",
      "2023-08-08 15:19:05 INFO     eq1tmp acc*(n + p) - n*spec - tp\n",
      "2023-08-08 15:19:05,701:INFO:v1s [{tp: acc*n + acc*p - n*spec}]\n",
      "2023-08-08 15:19:05 INFO     v1s [{tp: acc*n + acc*p - n*spec}]\n",
      "2023-08-08 15:19:05,734:INFO:eq0 acc*(n + p) - tn - tp\n",
      "2023-08-08 15:19:05 INFO     eq0 acc*(n + p) - tn - tp\n",
      "2023-08-08 15:19:05,736:INFO:sym0 tp\n",
      "2023-08-08 15:19:05 INFO     sym0 tp\n",
      "2023-08-08 15:19:05,751:INFO:v0s [{tp: acc*n + acc*p - tn}]\n",
      "2023-08-08 15:19:05 INFO     v0s [{tp: acc*n + acc*p - tn}]\n",
      "2023-08-08 15:19:05,752:INFO:v0 {v0}\n",
      "2023-08-08 15:19:05 INFO     v0 {v0}\n",
      "2023-08-08 15:19:05,753:INFO:{ppv, n, tp, tn}\n",
      "2023-08-08 15:19:05 INFO     {ppv, n, tp, tn}\n",
      "2023-08-08 15:19:05,756:INFO:substitution ppv*(n - tn + tp) - tp {tp: acc*n + acc*p - tn}\n",
      "2023-08-08 15:19:05 INFO     substitution ppv*(n - tn + tp) - tp {tp: acc*n + acc*p - tn}\n",
      "2023-08-08 15:19:05,760:INFO:eq1tmp -acc*n - acc*p + ppv*(acc*n + acc*p + n - 2*tn) + tn\n",
      "2023-08-08 15:19:05 INFO     eq1tmp -acc*n - acc*p + ppv*(acc*n + acc*p + n - 2*tn) + tn\n",
      "2023-08-08 15:19:05,810:INFO:v1s [{tn: (acc*n*ppv - acc*n + acc*p*ppv - acc*p + n*ppv)/(2*ppv - 1)}]\n",
      "2023-08-08 15:19:05 INFO     v1s [{tn: (acc*n*ppv - acc*n + acc*p*ppv - acc*p + n*ppv)/(2*ppv - 1)}]\n",
      "2023-08-08 15:19:05,959:INFO:eq0 acc*(n + p) - tn - tp\n",
      "2023-08-08 15:19:05 INFO     eq0 acc*(n + p) - tn - tp\n",
      "2023-08-08 15:19:05,961:INFO:sym0 tp\n",
      "2023-08-08 15:19:05 INFO     sym0 tp\n",
      "2023-08-08 15:19:05,975:INFO:v0s [{tp: acc*n + acc*p - tn}]\n",
      "2023-08-08 15:19:05 INFO     v0s [{tp: acc*n + acc*p - tn}]\n",
      "2023-08-08 15:19:05,977:INFO:v0 {v0}\n",
      "2023-08-08 15:19:05 INFO     v0 {v0}\n",
      "2023-08-08 15:19:05,978:INFO:{npv, p, tp, tn}\n",
      "2023-08-08 15:19:05 INFO     {npv, p, tp, tn}\n",
      "2023-08-08 15:19:05,983:INFO:substitution npv*(p + tn - tp) - tn {tp: acc*n + acc*p - tn}\n",
      "2023-08-08 15:19:05 INFO     substitution npv*(p + tn - tp) - tn {tp: acc*n + acc*p - tn}\n",
      "2023-08-08 15:19:05,989:INFO:eq1tmp npv*(-acc*n - acc*p + p + 2*tn) - tn\n",
      "2023-08-08 15:19:05 INFO     eq1tmp npv*(-acc*n - acc*p + p + 2*tn) - tn\n",
      "2023-08-08 15:19:06,027:INFO:v1s [{tn: npv*(acc*n + acc*p - p)/(2*npv - 1)}]\n",
      "2023-08-08 15:19:06 INFO     v1s [{tn: npv*(acc*n + acc*p - p)/(2*npv - 1)}]\n",
      "2023-08-08 15:19:06,258:INFO:eq0 acc*(n + p) - tn - tp\n",
      "2023-08-08 15:19:06 INFO     eq0 acc*(n + p) - tn - tp\n",
      "2023-08-08 15:19:06,260:INFO:sym0 tp\n",
      "2023-08-08 15:19:06 INFO     sym0 tp\n",
      "2023-08-08 15:19:06,275:INFO:v0s [{tp: acc*n + acc*p - tn}]\n",
      "2023-08-08 15:19:06 INFO     v0s [{tp: acc*n + acc*p - tn}]\n",
      "2023-08-08 15:19:06,276:INFO:v0 {v0}\n",
      "2023-08-08 15:19:06 INFO     v0 {v0}\n",
      "2023-08-08 15:19:06,277:INFO:{p, n, tp, tn, ba}\n",
      "2023-08-08 15:19:06 INFO     {p, n, tp, tn, ba}\n",
      "2023-08-08 15:19:06,280:INFO:substitution 2*ba*n*p - n*tp - p*tn {tp: acc*n + acc*p - tn}\n",
      "2023-08-08 15:19:06 INFO     substitution 2*ba*n*p - n*tp - p*tn {tp: acc*n + acc*p - tn}\n",
      "2023-08-08 15:19:06,284:INFO:eq1tmp 2*ba*n*p - n*(acc*n + acc*p - tn) - p*tn\n",
      "2023-08-08 15:19:06 INFO     eq1tmp 2*ba*n*p - n*(acc*n + acc*p - tn) - p*tn\n",
      "2023-08-08 15:19:06,334:INFO:v1s [{tn: n*(acc*n + acc*p - 2*ba*p)/(n - p)}]\n",
      "2023-08-08 15:19:06 INFO     v1s [{tn: n*(acc*n + acc*p - 2*ba*p)/(n - p)}]\n",
      "2023-08-08 15:19:06,493:INFO:eq0 acc*(n + p) - tn - tp\n",
      "2023-08-08 15:19:06 INFO     eq0 acc*(n + p) - tn - tp\n",
      "2023-08-08 15:19:06,494:INFO:sym0 tp\n",
      "2023-08-08 15:19:06 INFO     sym0 tp\n",
      "2023-08-08 15:19:06,511:INFO:v0s [{tp: acc*n + acc*p - tn}]\n",
      "2023-08-08 15:19:06 INFO     v0s [{tp: acc*n + acc*p - tn}]\n",
      "2023-08-08 15:19:06,512:INFO:v0 {v0}\n",
      "2023-08-08 15:19:06 INFO     v0 {v0}\n",
      "2023-08-08 15:19:06,514:INFO:{p, f1p, n, tp, tn}\n",
      "2023-08-08 15:19:06 INFO     {p, f1p, n, tp, tn}\n",
      "2023-08-08 15:19:06,518:INFO:substitution f1p*(n + p - tn + tp) - 2*tp {tp: acc*n + acc*p - tn}\n",
      "2023-08-08 15:19:06 INFO     substitution f1p*(n + p - tn + tp) - 2*tp {tp: acc*n + acc*p - tn}\n",
      "2023-08-08 15:19:06,524:INFO:eq1tmp -2*acc*n - 2*acc*p + f1p*(acc*n + acc*p + n + p - 2*tn) + 2*tn\n",
      "2023-08-08 15:19:06 INFO     eq1tmp -2*acc*n - 2*acc*p + f1p*(acc*n + acc*p + n + p - 2*tn) + 2*tn\n",
      "2023-08-08 15:19:06,665:INFO:v1s [{tn: (acc*f1p*n + acc*f1p*p - 2*acc*n - 2*acc*p + f1p*n + f1p*p)/(2*(f1p - 1))}]\n",
      "2023-08-08 15:19:06 INFO     v1s [{tn: (acc*f1p*n + acc*f1p*p - 2*acc*n - 2*acc*p + f1p*n + f1p*p)/(2*(f1p - 1))}]\n",
      "2023-08-08 15:19:06,854:INFO:eq0 p*sens - tp\n",
      "2023-08-08 15:19:06 INFO     eq0 p*sens - tp\n",
      "2023-08-08 15:19:06,855:INFO:sym0 tp\n",
      "2023-08-08 15:19:06 INFO     sym0 tp\n",
      "2023-08-08 15:19:06,864:INFO:v0s [{tp: p*sens}]\n",
      "2023-08-08 15:19:06 INFO     v0s [{tp: p*sens}]\n",
      "2023-08-08 15:19:06,865:INFO:v0 {v0}\n",
      "2023-08-08 15:19:06 INFO     v0 {v0}\n",
      "2023-08-08 15:19:06,867:INFO:{n, spec, tn}\n",
      "2023-08-08 15:19:06 INFO     {n, spec, tn}\n",
      "2023-08-08 15:19:06,868:INFO:eq1tmp n*spec - tn\n",
      "2023-08-08 15:19:06 INFO     eq1tmp n*spec - tn\n",
      "2023-08-08 15:19:06,877:INFO:v1s [{tn: n*spec}]\n",
      "2023-08-08 15:19:06 INFO     v1s [{tn: n*spec}]\n",
      "2023-08-08 15:19:06,893:INFO:eq0 p*sens - tp\n",
      "2023-08-08 15:19:06 INFO     eq0 p*sens - tp\n",
      "2023-08-08 15:19:06,895:INFO:sym0 tp\n",
      "2023-08-08 15:19:06 INFO     sym0 tp\n",
      "2023-08-08 15:19:06,902:INFO:v0s [{tp: p*sens}]\n",
      "2023-08-08 15:19:06 INFO     v0s [{tp: p*sens}]\n",
      "2023-08-08 15:19:06,905:INFO:v0 {v0}\n",
      "2023-08-08 15:19:06 INFO     v0 {v0}\n",
      "2023-08-08 15:19:06,906:INFO:{ppv, n, tp, tn}\n",
      "2023-08-08 15:19:06 INFO     {ppv, n, tp, tn}\n",
      "2023-08-08 15:19:06,909:INFO:substitution ppv*(n - tn + tp) - tp {tp: p*sens}\n",
      "2023-08-08 15:19:06 INFO     substitution ppv*(n - tn + tp) - tp {tp: p*sens}\n",
      "2023-08-08 15:19:06,915:INFO:eq1tmp -p*sens + ppv*(n + p*sens - tn)\n",
      "2023-08-08 15:19:06 INFO     eq1tmp -p*sens + ppv*(n + p*sens - tn)\n",
      "2023-08-08 15:19:06,949:INFO:v1s [{tn: n + p*sens - p*sens/ppv}]\n",
      "2023-08-08 15:19:06 INFO     v1s [{tn: n + p*sens - p*sens/ppv}]\n",
      "2023-08-08 15:19:07,011:INFO:eq0 p*sens - tp\n",
      "2023-08-08 15:19:07 INFO     eq0 p*sens - tp\n",
      "2023-08-08 15:19:07,012:INFO:sym0 tp\n",
      "2023-08-08 15:19:07 INFO     sym0 tp\n",
      "2023-08-08 15:19:07,017:INFO:v0s [{tp: p*sens}]\n",
      "2023-08-08 15:19:07 INFO     v0s [{tp: p*sens}]\n",
      "2023-08-08 15:19:07,019:INFO:v0 {v0}\n",
      "2023-08-08 15:19:07 INFO     v0 {v0}\n",
      "2023-08-08 15:19:07,020:INFO:{npv, p, tp, tn}\n",
      "2023-08-08 15:19:07 INFO     {npv, p, tp, tn}\n",
      "2023-08-08 15:19:07,022:INFO:substitution npv*(p + tn - tp) - tn {tp: p*sens}\n",
      "2023-08-08 15:19:07 INFO     substitution npv*(p + tn - tp) - tn {tp: p*sens}\n",
      "2023-08-08 15:19:07,025:INFO:eq1tmp npv*(-p*sens + p + tn) - tn\n",
      "2023-08-08 15:19:07 INFO     eq1tmp npv*(-p*sens + p + tn) - tn\n",
      "2023-08-08 15:19:07,061:INFO:v1s [{tn: npv*p*(sens - 1)/(npv - 1)}]\n",
      "2023-08-08 15:19:07 INFO     v1s [{tn: npv*p*(sens - 1)/(npv - 1)}]\n",
      "2023-08-08 15:19:07,105:INFO:eq0 p*sens - tp\n",
      "2023-08-08 15:19:07 INFO     eq0 p*sens - tp\n",
      "2023-08-08 15:19:07,106:INFO:sym0 tp\n",
      "2023-08-08 15:19:07 INFO     sym0 tp\n",
      "2023-08-08 15:19:07,111:INFO:v0s [{tp: p*sens}]\n",
      "2023-08-08 15:19:07 INFO     v0s [{tp: p*sens}]\n",
      "2023-08-08 15:19:07,112:INFO:v0 {v0}\n",
      "2023-08-08 15:19:07 INFO     v0 {v0}\n",
      "2023-08-08 15:19:07,115:INFO:{p, n, tp, tn, ba}\n",
      "2023-08-08 15:19:07 INFO     {p, n, tp, tn, ba}\n",
      "2023-08-08 15:19:07,117:INFO:substitution 2*ba*n*p - n*tp - p*tn {tp: p*sens}\n",
      "2023-08-08 15:19:07 INFO     substitution 2*ba*n*p - n*tp - p*tn {tp: p*sens}\n",
      "2023-08-08 15:19:07,119:INFO:eq1tmp 2*ba*n*p - n*p*sens - p*tn\n",
      "2023-08-08 15:19:07 INFO     eq1tmp 2*ba*n*p - n*p*sens - p*tn\n",
      "2023-08-08 15:19:07,141:INFO:v1s [{tn: n*(2*ba - sens)}]\n",
      "2023-08-08 15:19:07 INFO     v1s [{tn: n*(2*ba - sens)}]\n",
      "2023-08-08 15:19:07,172:INFO:eq0 p*sens - tp\n",
      "2023-08-08 15:19:07 INFO     eq0 p*sens - tp\n",
      "2023-08-08 15:19:07,173:INFO:sym0 tp\n",
      "2023-08-08 15:19:07 INFO     sym0 tp\n",
      "2023-08-08 15:19:07,178:INFO:v0s [{tp: p*sens}]\n",
      "2023-08-08 15:19:07 INFO     v0s [{tp: p*sens}]\n",
      "2023-08-08 15:19:07,180:INFO:v0 {v0}\n",
      "2023-08-08 15:19:07 INFO     v0 {v0}\n",
      "2023-08-08 15:19:07,182:INFO:{p, f1p, n, tp, tn}\n",
      "2023-08-08 15:19:07 INFO     {p, f1p, n, tp, tn}\n",
      "2023-08-08 15:19:07,185:INFO:substitution f1p*(n + p - tn + tp) - 2*tp {tp: p*sens}\n",
      "2023-08-08 15:19:07 INFO     substitution f1p*(n + p - tn + tp) - 2*tp {tp: p*sens}\n",
      "2023-08-08 15:19:07,189:INFO:eq1tmp f1p*(n + p*sens + p - tn) - 2*p*sens\n",
      "2023-08-08 15:19:07 INFO     eq1tmp f1p*(n + p*sens + p - tn) - 2*p*sens\n",
      "2023-08-08 15:19:07,222:INFO:v1s [{tn: n + p*sens + p - 2*p*sens/f1p}]\n",
      "2023-08-08 15:19:07 INFO     v1s [{tn: n + p*sens + p - 2*p*sens/f1p}]\n",
      "2023-08-08 15:19:07,281:INFO:eq0 n*spec - tn\n",
      "2023-08-08 15:19:07 INFO     eq0 n*spec - tn\n",
      "2023-08-08 15:19:07,282:INFO:sym0 tn\n",
      "2023-08-08 15:19:07 INFO     sym0 tn\n",
      "2023-08-08 15:19:07,291:INFO:v0s [{tn: n*spec}]\n",
      "2023-08-08 15:19:07 INFO     v0s [{tn: n*spec}]\n",
      "2023-08-08 15:19:07,293:INFO:v0 {v0}\n",
      "2023-08-08 15:19:07 INFO     v0 {v0}\n",
      "2023-08-08 15:19:07,296:INFO:{ppv, n, tp, tn}\n",
      "2023-08-08 15:19:07 INFO     {ppv, n, tp, tn}\n",
      "2023-08-08 15:19:07,301:INFO:substitution ppv*(n - tn + tp) - tp {tn: n*spec}\n",
      "2023-08-08 15:19:07 INFO     substitution ppv*(n - tn + tp) - tp {tn: n*spec}\n",
      "2023-08-08 15:19:07,311:INFO:eq1tmp ppv*(-n*spec + n + tp) - tp\n",
      "2023-08-08 15:19:07 INFO     eq1tmp ppv*(-n*spec + n + tp) - tp\n",
      "2023-08-08 15:19:07,383:INFO:v1s [{tp: n*ppv*(spec - 1)/(ppv - 1)}]\n",
      "2023-08-08 15:19:07 INFO     v1s [{tp: n*ppv*(spec - 1)/(ppv - 1)}]\n",
      "2023-08-08 15:19:07,499:INFO:eq0 n*spec - tn\n",
      "2023-08-08 15:19:07 INFO     eq0 n*spec - tn\n",
      "2023-08-08 15:19:07,500:INFO:sym0 tn\n",
      "2023-08-08 15:19:07 INFO     sym0 tn\n",
      "2023-08-08 15:19:07,511:INFO:v0s [{tn: n*spec}]\n",
      "2023-08-08 15:19:07 INFO     v0s [{tn: n*spec}]\n",
      "2023-08-08 15:19:07,513:INFO:v0 {v0}\n",
      "2023-08-08 15:19:07 INFO     v0 {v0}\n",
      "2023-08-08 15:19:07,515:INFO:{npv, p, tp, tn}\n",
      "2023-08-08 15:19:07 INFO     {npv, p, tp, tn}\n",
      "2023-08-08 15:19:07,518:INFO:substitution npv*(p + tn - tp) - tn {tn: n*spec}\n",
      "2023-08-08 15:19:07 INFO     substitution npv*(p + tn - tp) - tn {tn: n*spec}\n",
      "2023-08-08 15:19:07,522:INFO:eq1tmp -n*spec + npv*(n*spec + p - tp)\n",
      "2023-08-08 15:19:07 INFO     eq1tmp -n*spec + npv*(n*spec + p - tp)\n",
      "2023-08-08 15:19:07,566:INFO:v1s [{tp: n*spec - n*spec/npv + p}]\n",
      "2023-08-08 15:19:07 INFO     v1s [{tp: n*spec - n*spec/npv + p}]\n",
      "2023-08-08 15:19:07,650:INFO:eq0 n*spec - tn\n",
      "2023-08-08 15:19:07 INFO     eq0 n*spec - tn\n",
      "2023-08-08 15:19:07,652:INFO:sym0 tn\n",
      "2023-08-08 15:19:07 INFO     sym0 tn\n",
      "2023-08-08 15:19:07,661:INFO:v0s [{tn: n*spec}]\n",
      "2023-08-08 15:19:07 INFO     v0s [{tn: n*spec}]\n",
      "2023-08-08 15:19:07,663:INFO:v0 {v0}\n",
      "2023-08-08 15:19:07 INFO     v0 {v0}\n",
      "2023-08-08 15:19:07,665:INFO:{p, n, tp, tn, ba}\n",
      "2023-08-08 15:19:07 INFO     {p, n, tp, tn, ba}\n",
      "2023-08-08 15:19:07,668:INFO:substitution 2*ba*n*p - n*tp - p*tn {tn: n*spec}\n",
      "2023-08-08 15:19:07 INFO     substitution 2*ba*n*p - n*tp - p*tn {tn: n*spec}\n",
      "2023-08-08 15:19:07,672:INFO:eq1tmp 2*ba*n*p - n*p*spec - n*tp\n",
      "2023-08-08 15:19:07 INFO     eq1tmp 2*ba*n*p - n*p*spec - n*tp\n",
      "2023-08-08 15:19:07,705:INFO:v1s [{tp: p*(2*ba - spec)}]\n",
      "2023-08-08 15:19:07 INFO     v1s [{tp: p*(2*ba - spec)}]\n",
      "2023-08-08 15:19:07,750:INFO:eq0 n*spec - tn\n",
      "2023-08-08 15:19:07 INFO     eq0 n*spec - tn\n",
      "2023-08-08 15:19:07,752:INFO:sym0 tn\n",
      "2023-08-08 15:19:07 INFO     sym0 tn\n",
      "2023-08-08 15:19:07,758:INFO:v0s [{tn: n*spec}]\n",
      "2023-08-08 15:19:07 INFO     v0s [{tn: n*spec}]\n",
      "2023-08-08 15:19:07,760:INFO:v0 {v0}\n",
      "2023-08-08 15:19:07 INFO     v0 {v0}\n",
      "2023-08-08 15:19:07,761:INFO:{p, f1p, n, tp, tn}\n",
      "2023-08-08 15:19:07 INFO     {p, f1p, n, tp, tn}\n",
      "2023-08-08 15:19:07,766:INFO:substitution f1p*(n + p - tn + tp) - 2*tp {tn: n*spec}\n",
      "2023-08-08 15:19:07 INFO     substitution f1p*(n + p - tn + tp) - 2*tp {tn: n*spec}\n",
      "2023-08-08 15:19:07,770:INFO:eq1tmp f1p*(-n*spec + n + p + tp) - 2*tp\n",
      "2023-08-08 15:19:07 INFO     eq1tmp f1p*(-n*spec + n + p + tp) - 2*tp\n",
      "2023-08-08 15:19:07,829:INFO:v1s [{tp: f1p*(n*spec - n - p)/(f1p - 2)}]\n",
      "2023-08-08 15:19:07 INFO     v1s [{tp: f1p*(n*spec - n - p)/(f1p - 2)}]\n",
      "2023-08-08 15:19:07,889:INFO:eq0 ppv*(n - tn + tp) - tp\n",
      "2023-08-08 15:19:07 INFO     eq0 ppv*(n - tn + tp) - tp\n",
      "2023-08-08 15:19:07,891:INFO:sym0 tp\n",
      "2023-08-08 15:19:07 INFO     sym0 tp\n",
      "2023-08-08 15:19:07,917:INFO:v0s [{tp: ppv*(-n + tn)/(ppv - 1)}]\n",
      "2023-08-08 15:19:07 INFO     v0s [{tp: ppv*(-n + tn)/(ppv - 1)}]\n",
      "2023-08-08 15:19:07,918:INFO:v0 {v0}\n",
      "2023-08-08 15:19:07 INFO     v0 {v0}\n",
      "2023-08-08 15:19:07,919:INFO:{npv, p, tp, tn}\n",
      "2023-08-08 15:19:07 INFO     {npv, p, tp, tn}\n",
      "2023-08-08 15:19:07,922:INFO:substitution npv*(p + tn - tp) - tn {tp: ppv*(-n + tn)/(ppv - 1)}\n",
      "2023-08-08 15:19:07 INFO     substitution npv*(p + tn - tp) - tn {tp: ppv*(-n + tn)/(ppv - 1)}\n",
      "2023-08-08 15:19:07,926:INFO:eq1tmp npv*(p - ppv*(-n + tn)/(ppv - 1) + tn) - tn\n",
      "2023-08-08 15:19:07 INFO     eq1tmp npv*(p - ppv*(-n + tn)/(ppv - 1) + tn) - tn\n",
      "2023-08-08 15:19:07,982:INFO:v1s [{tn: npv*(n*ppv + p*ppv - p)/(npv + ppv - 1)}]\n",
      "2023-08-08 15:19:07 INFO     v1s [{tn: npv*(n*ppv + p*ppv - p)/(npv + ppv - 1)}]\n",
      "2023-08-08 15:19:08,207:INFO:eq0 ppv*(n - tn + tp) - tp\n",
      "2023-08-08 15:19:08 INFO     eq0 ppv*(n - tn + tp) - tp\n",
      "2023-08-08 15:19:08,208:INFO:sym0 tp\n",
      "2023-08-08 15:19:08 INFO     sym0 tp\n",
      "2023-08-08 15:19:08,225:INFO:v0s [{tp: ppv*(-n + tn)/(ppv - 1)}]\n",
      "2023-08-08 15:19:08 INFO     v0s [{tp: ppv*(-n + tn)/(ppv - 1)}]\n",
      "2023-08-08 15:19:08,226:INFO:v0 {v0}\n",
      "2023-08-08 15:19:08 INFO     v0 {v0}\n",
      "2023-08-08 15:19:08,227:INFO:{p, n, tp, tn, ba}\n",
      "2023-08-08 15:19:08 INFO     {p, n, tp, tn, ba}\n",
      "2023-08-08 15:19:08,233:INFO:substitution 2*ba*n*p - n*tp - p*tn {tp: ppv*(-n + tn)/(ppv - 1)}\n",
      "2023-08-08 15:19:08 INFO     substitution 2*ba*n*p - n*tp - p*tn {tp: ppv*(-n + tn)/(ppv - 1)}\n",
      "2023-08-08 15:19:08,237:INFO:eq1tmp 2*ba*n*p - n*ppv*(-n + tn)/(ppv - 1) - p*tn\n",
      "2023-08-08 15:19:08 INFO     eq1tmp 2*ba*n*p - n*ppv*(-n + tn)/(ppv - 1) - p*tn\n",
      "2023-08-08 15:19:08,305:INFO:v1s [{tn: n*(2*ba*p*ppv - 2*ba*p + n*ppv)/(n*ppv + p*ppv - p)}]\n",
      "2023-08-08 15:19:08 INFO     v1s [{tn: n*(2*ba*p*ppv - 2*ba*p + n*ppv)/(n*ppv + p*ppv - p)}]\n",
      "2023-08-08 15:19:08,469:INFO:eq0 ppv*(n - tn + tp) - tp\n",
      "2023-08-08 15:19:08 INFO     eq0 ppv*(n - tn + tp) - tp\n",
      "2023-08-08 15:19:08,470:INFO:sym0 tp\n",
      "2023-08-08 15:19:08 INFO     sym0 tp\n",
      "2023-08-08 15:19:08,485:INFO:v0s [{tp: ppv*(-n + tn)/(ppv - 1)}]\n",
      "2023-08-08 15:19:08 INFO     v0s [{tp: ppv*(-n + tn)/(ppv - 1)}]\n",
      "2023-08-08 15:19:08,486:INFO:v0 {v0}\n",
      "2023-08-08 15:19:08 INFO     v0 {v0}\n",
      "2023-08-08 15:19:08,488:INFO:{p, f1p, n, tp, tn}\n",
      "2023-08-08 15:19:08 INFO     {p, f1p, n, tp, tn}\n",
      "2023-08-08 15:19:08,492:INFO:substitution f1p*(n + p - tn + tp) - 2*tp {tp: ppv*(-n + tn)/(ppv - 1)}\n",
      "2023-08-08 15:19:08 INFO     substitution f1p*(n + p - tn + tp) - 2*tp {tp: ppv*(-n + tn)/(ppv - 1)}\n",
      "2023-08-08 15:19:08,496:INFO:eq1tmp f1p*(n + p + ppv*(-n + tn)/(ppv - 1) - tn) - 2*ppv*(-n + tn)/(ppv - 1)\n",
      "2023-08-08 15:19:08 INFO     eq1tmp f1p*(n + p + ppv*(-n + tn)/(ppv - 1) - tn) - 2*ppv*(-n + tn)/(ppv - 1)\n",
      "2023-08-08 15:19:08,555:INFO:v1s [{tn: (f1p*n - f1p*p*ppv + f1p*p - 2*n*ppv)/(f1p - 2*ppv)}]\n",
      "2023-08-08 15:19:08 INFO     v1s [{tn: (f1p*n - f1p*p*ppv + f1p*p - 2*n*ppv)/(f1p - 2*ppv)}]\n",
      "2023-08-08 15:19:08,666:INFO:eq0 npv*(p + tn - tp) - tn\n",
      "2023-08-08 15:19:08 INFO     eq0 npv*(p + tn - tp) - tn\n",
      "2023-08-08 15:19:08,667:INFO:sym0 tp\n",
      "2023-08-08 15:19:08 INFO     sym0 tp\n",
      "2023-08-08 15:19:08,692:INFO:v0s [{tp: p + tn - tn/npv}]\n",
      "2023-08-08 15:19:08 INFO     v0s [{tp: p + tn - tn/npv}]\n",
      "2023-08-08 15:19:08,693:INFO:v0 {v0}\n",
      "2023-08-08 15:19:08 INFO     v0 {v0}\n",
      "2023-08-08 15:19:08,695:INFO:{p, n, tp, tn, ba}\n",
      "2023-08-08 15:19:08 INFO     {p, n, tp, tn, ba}\n",
      "2023-08-08 15:19:08,699:INFO:substitution 2*ba*n*p - n*tp - p*tn {tp: p + tn - tn/npv}\n",
      "2023-08-08 15:19:08 INFO     substitution 2*ba*n*p - n*tp - p*tn {tp: p + tn - tn/npv}\n",
      "2023-08-08 15:19:08,703:INFO:eq1tmp 2*ba*n*p - n*(p + tn - tn/npv) - p*tn\n",
      "2023-08-08 15:19:08 INFO     eq1tmp 2*ba*n*p - n*(p + tn - tn/npv) - p*tn\n",
      "2023-08-08 15:19:08,754:INFO:v1s [{tn: n*npv*p*(2*ba - 1)/(n*npv - n + npv*p)}]\n",
      "2023-08-08 15:19:08 INFO     v1s [{tn: n*npv*p*(2*ba - 1)/(n*npv - n + npv*p)}]\n",
      "2023-08-08 15:19:08,922:INFO:eq0 npv*(p + tn - tp) - tn\n",
      "2023-08-08 15:19:08 INFO     eq0 npv*(p + tn - tp) - tn\n",
      "2023-08-08 15:19:08,924:INFO:sym0 tp\n",
      "2023-08-08 15:19:08 INFO     sym0 tp\n",
      "2023-08-08 15:19:08,939:INFO:v0s [{tp: p + tn - tn/npv}]\n",
      "2023-08-08 15:19:08 INFO     v0s [{tp: p + tn - tn/npv}]\n",
      "2023-08-08 15:19:08,940:INFO:v0 {v0}\n",
      "2023-08-08 15:19:08 INFO     v0 {v0}\n",
      "2023-08-08 15:19:08,943:INFO:{p, f1p, n, tp, tn}\n",
      "2023-08-08 15:19:08 INFO     {p, f1p, n, tp, tn}\n",
      "2023-08-08 15:19:08,946:INFO:substitution f1p*(n + p - tn + tp) - 2*tp {tp: p + tn - tn/npv}\n",
      "2023-08-08 15:19:08 INFO     substitution f1p*(n + p - tn + tp) - 2*tp {tp: p + tn - tn/npv}\n",
      "2023-08-08 15:19:08,951:INFO:eq1tmp f1p*(n + 2*p - tn/npv) - 2*p - 2*tn + 2*tn/npv\n",
      "2023-08-08 15:19:08 INFO     eq1tmp f1p*(n + 2*p - tn/npv) - 2*p - 2*tn + 2*tn/npv\n",
      "2023-08-08 15:19:09,009:INFO:v1s [{tn: npv*(f1p*n + 2*f1p*p - 2*p)/(f1p + 2*npv - 2)}]\n",
      "2023-08-08 15:19:09 INFO     v1s [{tn: npv*(f1p*n + 2*f1p*p - 2*p)/(f1p + 2*npv - 2)}]\n",
      "2023-08-08 15:19:09,178:INFO:eq0 2*ba*n*p - n*tp - p*tn\n",
      "2023-08-08 15:19:09 INFO     eq0 2*ba*n*p - n*tp - p*tn\n",
      "2023-08-08 15:19:09,180:INFO:sym0 tp\n",
      "2023-08-08 15:19:09 INFO     sym0 tp\n",
      "2023-08-08 15:19:09,210:INFO:v0s [{tp: p*(2*ba*n - tn)/n}]\n",
      "2023-08-08 15:19:09 INFO     v0s [{tp: p*(2*ba*n - tn)/n}]\n",
      "2023-08-08 15:19:09,211:INFO:v0 {v0}\n",
      "2023-08-08 15:19:09 INFO     v0 {v0}\n",
      "2023-08-08 15:19:09,215:INFO:{p, f1p, n, tp, tn}\n",
      "2023-08-08 15:19:09 INFO     {p, f1p, n, tp, tn}\n",
      "2023-08-08 15:19:09,218:INFO:substitution f1p*(n + p - tn + tp) - 2*tp {tp: p*(2*ba*n - tn)/n}\n",
      "2023-08-08 15:19:09 INFO     substitution f1p*(n + p - tn + tp) - 2*tp {tp: p*(2*ba*n - tn)/n}\n",
      "2023-08-08 15:19:09,222:INFO:eq1tmp f1p*(n + p - tn + p*(2*ba*n - tn)/n) - 2*p*(2*ba*n - tn)/n\n",
      "2023-08-08 15:19:09 INFO     eq1tmp f1p*(n + p - tn + p*(2*ba*n - tn)/n) - 2*p*(2*ba*n - tn)/n\n",
      "2023-08-08 15:19:09,284:INFO:v1s [{tn: n*(2*ba*f1p*p - 4*ba*p + f1p*n + f1p*p)/(f1p*n + f1p*p - 2*p)}]\n",
      "2023-08-08 15:19:09 INFO     v1s [{tn: n*(2*ba*f1p*p - 4*ba*p + f1p*n + f1p*p)/(f1p*n + f1p*p - 2*p)}]\n"
     ]
    }
   ],
   "source": [
    "solutions = []\n",
    "for idx, score0 in enumerate(list(scores.keys())):\n",
    "    for score1 in list(scores.keys())[(idx+1):]:\n",
    "        ps = ProblemSolver3(score0=scores[score0], score1=scores[score1])\n",
    "        ps.solve()\n",
    "        ps.edge_cases()\n",
    "        solutions.append(ps)"
   ]
  },
  {
   "cell_type": "code",
   "execution_count": 11,
   "metadata": {
    "vscode": {
     "languageId": "python"
    }
   },
   "outputs": [
    {
     "data": {
      "text/plain": [
       "{'scores': [{'abbreviation': 'acc',\n",
       "   'name': 'accuracy',\n",
       "   'nans': None,\n",
       "   'range_': [0, 1],\n",
       "   'synonyms': None,\n",
       "   'complement': 'error_rate',\n",
       "   'args': ['tp', 'tn', 'p', 'n'],\n",
       "   'expression': '(tn + tp)/(n + p)',\n",
       "   'equation': 'acc - (tn + tp)/(n + p)',\n",
       "   'equation_polynomial': 'acc*(n + p) - tn - tp',\n",
       "   'function': 'accuracy_standardized'},\n",
       "  {'abbreviation': 'sens',\n",
       "   'name': 'sensitivity',\n",
       "   'nans': None,\n",
       "   'range_': [0, 1],\n",
       "   'synonyms': ['recall', 'true_positive_rate', 'Recall', 'TruePositiveRate'],\n",
       "   'complement': 'false_negative_rate',\n",
       "   'args': ['tp', 'p'],\n",
       "   'expression': 'tp/p',\n",
       "   'equation': 'sens - tp/p',\n",
       "   'equation_polynomial': 'p*sens - tp',\n",
       "   'function': 'sensitivity_standardized'}],\n",
       " 'solutions': [{'solution': {'expressions': {'tp': 'p*sens',\n",
       "     'tn': 'acc*n + acc*p - p*sens'},\n",
       "    'symbols': {'tp': ['p', 'sens'], 'tn': ['p', 'acc', 'n', 'sens']}},\n",
       "   'non_zero': [],\n",
       "   'non_negative': []}]}"
      ]
     },
     "execution_count": 11,
     "metadata": {},
     "output_type": "execute_result"
    }
   ],
   "source": [
    "solutions[0].get_solution().to_dict()"
   ]
  },
  {
   "cell_type": "code",
   "execution_count": 12,
   "metadata": {
    "vscode": {
     "languageId": "python"
    }
   },
   "outputs": [],
   "source": [
    "soljson = {'solutions': []}\n",
    "for sol in solutions:\n",
    "    soljson['solutions'].append(sol.get_solution().to_dict())"
   ]
  },
  {
   "cell_type": "code",
   "execution_count": 13,
   "metadata": {
    "vscode": {
     "languageId": "python"
    }
   },
   "outputs": [
    {
     "data": {
      "text/plain": [
       "{'solutions': [{'scores': [{'abbreviation': 'acc',\n",
       "     'name': 'accuracy',\n",
       "     'nans': None,\n",
       "     'range_': [0, 1],\n",
       "     'synonyms': None,\n",
       "     'complement': 'error_rate',\n",
       "     'args': ['tp', 'tn', 'p', 'n'],\n",
       "     'expression': '(tn + tp)/(n + p)',\n",
       "     'equation': 'acc - (tn + tp)/(n + p)',\n",
       "     'equation_polynomial': 'acc*(n + p) - tn - tp',\n",
       "     'function': 'accuracy_standardized'},\n",
       "    {'abbreviation': 'sens',\n",
       "     'name': 'sensitivity',\n",
       "     'nans': None,\n",
       "     'range_': [0, 1],\n",
       "     'synonyms': ['recall',\n",
       "      'true_positive_rate',\n",
       "      'Recall',\n",
       "      'TruePositiveRate'],\n",
       "     'complement': 'false_negative_rate',\n",
       "     'args': ['tp', 'p'],\n",
       "     'expression': 'tp/p',\n",
       "     'equation': 'sens - tp/p',\n",
       "     'equation_polynomial': 'p*sens - tp',\n",
       "     'function': 'sensitivity_standardized'}],\n",
       "   'solutions': [{'solution': {'expressions': {'tp': 'p*sens',\n",
       "       'tn': 'acc*n + acc*p - p*sens'},\n",
       "      'symbols': {'tp': ['p', 'sens'], 'tn': ['p', 'acc', 'n', 'sens']}},\n",
       "     'non_zero': [],\n",
       "     'non_negative': []}]},\n",
       "  {'scores': [{'abbreviation': 'acc',\n",
       "     'name': 'accuracy',\n",
       "     'nans': None,\n",
       "     'range_': [0, 1],\n",
       "     'synonyms': None,\n",
       "     'complement': 'error_rate',\n",
       "     'args': ['tp', 'tn', 'p', 'n'],\n",
       "     'expression': '(tn + tp)/(n + p)',\n",
       "     'equation': 'acc - (tn + tp)/(n + p)',\n",
       "     'equation_polynomial': 'acc*(n + p) - tn - tp',\n",
       "     'function': 'accuracy_standardized'},\n",
       "    {'abbreviation': 'spec',\n",
       "     'name': 'specificity',\n",
       "     'nans': None,\n",
       "     'range_': [0, 1],\n",
       "     'synonyms': ['selectivity',\n",
       "      'Selectivity',\n",
       "      'true_negative_rate',\n",
       "      'TrueNegativeRate'],\n",
       "     'complement': 'false_positive_rate',\n",
       "     'args': ['tn', 'n'],\n",
       "     'expression': 'tn/n',\n",
       "     'equation': 'spec - tn/n',\n",
       "     'equation_polynomial': 'n*spec - tn',\n",
       "     'function': 'specificity_standardized'}],\n",
       "   'solutions': [{'solution': {'expressions': {'tn': 'n*spec',\n",
       "       'tp': 'acc*n + acc*p - n*spec'},\n",
       "      'symbols': {'tn': ['n', 'spec'], 'tp': ['p', 'acc', 'n', 'spec']}},\n",
       "     'non_zero': [],\n",
       "     'non_negative': []}]},\n",
       "  {'scores': [{'abbreviation': 'acc',\n",
       "     'name': 'accuracy',\n",
       "     'nans': None,\n",
       "     'range_': [0, 1],\n",
       "     'synonyms': None,\n",
       "     'complement': 'error_rate',\n",
       "     'args': ['tp', 'tn', 'p', 'n'],\n",
       "     'expression': '(tn + tp)/(n + p)',\n",
       "     'equation': 'acc - (tn + tp)/(n + p)',\n",
       "     'equation_polynomial': 'acc*(n + p) - tn - tp',\n",
       "     'function': 'accuracy_standardized'},\n",
       "    {'abbreviation': 'ppv',\n",
       "     'name': 'positive_predictive_value',\n",
       "     'nans': [{'tp': 0, 'fp': 0}],\n",
       "     'range_': [0, 1],\n",
       "     'synonyms': ('precision', 'Precision'),\n",
       "     'complement': 'false_discovery_rate',\n",
       "     'args': ['tp', 'tn', 'n'],\n",
       "     'expression': 'tp/(n - tn + tp)',\n",
       "     'equation': 'ppv - tp/(n - tn + tp)',\n",
       "     'equation_polynomial': 'ppv*(n - tn + tp) - tp',\n",
       "     'function': 'positive_predictive_value_standardized'}],\n",
       "   'solutions': [{'solution': {'expressions': {'tp': 'ppv*(acc*n + acc*p - n)/(2*ppv - 1)',\n",
       "       'tn': '(acc*n*ppv - acc*n + acc*p*ppv - acc*p + n*ppv)/(2*ppv - 1)'},\n",
       "      'symbols': {'tp': ['ppv', 'acc', 'n', 'p'],\n",
       "       'tn': ['p', 'ppv', 'acc', 'n']}},\n",
       "     'non_zero': [{'expression': '2*ppv - 1', 'symbols': ['ppv']}],\n",
       "     'non_negative': []}]},\n",
       "  {'scores': [{'abbreviation': 'acc',\n",
       "     'name': 'accuracy',\n",
       "     'nans': None,\n",
       "     'range_': [0, 1],\n",
       "     'synonyms': None,\n",
       "     'complement': 'error_rate',\n",
       "     'args': ['tp', 'tn', 'p', 'n'],\n",
       "     'expression': '(tn + tp)/(n + p)',\n",
       "     'equation': 'acc - (tn + tp)/(n + p)',\n",
       "     'equation_polynomial': 'acc*(n + p) - tn - tp',\n",
       "     'function': 'accuracy_standardized'},\n",
       "    {'abbreviation': 'npv',\n",
       "     'name': 'negative_predictive_value',\n",
       "     'nans': [{'tn': 0, 'fn': 0}],\n",
       "     'range_': [0, 1],\n",
       "     'synonyms': None,\n",
       "     'complement': 'false_omission_rate',\n",
       "     'args': ['tp', 'tn', 'p'],\n",
       "     'expression': 'tn/(p + tn - tp)',\n",
       "     'equation': 'npv - tn/(p + tn - tp)',\n",
       "     'equation_polynomial': 'npv*(p + tn - tp) - tn',\n",
       "     'function': 'negative_predictive_value_standardized'}],\n",
       "   'solutions': [{'solution': {'expressions': {'tp': '(acc*(n + p)*(2*npv - 1) - npv*(acc*n + acc*p - p))/(2*npv - 1)',\n",
       "       'tn': 'npv*(acc*n + acc*p - p)/(2*npv - 1)'},\n",
       "      'symbols': {'tp': ['npv', 'p', 'acc', 'n'],\n",
       "       'tn': ['n', 'npv', 'p', 'acc']}},\n",
       "     'non_zero': [{'expression': '2*npv - 1', 'symbols': ['npv']}],\n",
       "     'non_negative': []}]},\n",
       "  {'scores': [{'abbreviation': 'acc',\n",
       "     'name': 'accuracy',\n",
       "     'nans': None,\n",
       "     'range_': [0, 1],\n",
       "     'synonyms': None,\n",
       "     'complement': 'error_rate',\n",
       "     'args': ['tp', 'tn', 'p', 'n'],\n",
       "     'expression': '(tn + tp)/(n + p)',\n",
       "     'equation': 'acc - (tn + tp)/(n + p)',\n",
       "     'equation_polynomial': 'acc*(n + p) - tn - tp',\n",
       "     'function': 'accuracy_standardized'},\n",
       "    {'abbreviation': 'ba',\n",
       "     'name': 'balanced_accuracy',\n",
       "     'nans': None,\n",
       "     'range_': [0, 1],\n",
       "     'synonyms': None,\n",
       "     'complement': None,\n",
       "     'args': ['tp', 'tn', 'p', 'n'],\n",
       "     'expression': '0.5*tp/p + 0.5*tn/n',\n",
       "     'equation': 'ba - 0.5*tp/p - 0.5*tn/n',\n",
       "     'equation_polynomial': '2*ba*n*p - n*tp - p*tn',\n",
       "     'function': 'balanced_accuracy_standardized'}],\n",
       "   'solutions': [{'solution': {'expressions': {'tp': 'p*(acc*n + acc*p - 2*ba*n)/(-n + p)',\n",
       "       'tn': 'n*(acc*n + acc*p - 2*ba*p)/(n - p)'},\n",
       "      'symbols': {'tp': ['p', 'acc', 'n', 'ba'],\n",
       "       'tn': ['p', 'acc', 'n', 'ba']}},\n",
       "     'non_zero': [{'expression': 'n - p', 'symbols': ['n', 'p']}],\n",
       "     'non_negative': []}]},\n",
       "  {'scores': [{'abbreviation': 'acc',\n",
       "     'name': 'accuracy',\n",
       "     'nans': None,\n",
       "     'range_': [0, 1],\n",
       "     'synonyms': None,\n",
       "     'complement': 'error_rate',\n",
       "     'args': ['tp', 'tn', 'p', 'n'],\n",
       "     'expression': '(tn + tp)/(n + p)',\n",
       "     'equation': 'acc - (tn + tp)/(n + p)',\n",
       "     'equation_polynomial': 'acc*(n + p) - tn - tp',\n",
       "     'function': 'accuracy_standardized'},\n",
       "    {'abbreviation': 'f1p',\n",
       "     'name': 'f1_plus',\n",
       "     'nans': None,\n",
       "     'range_': [0, 1],\n",
       "     'synonyms': None,\n",
       "     'complement': None,\n",
       "     'args': ['tp', 'tn', 'p', 'n'],\n",
       "     'expression': '2*tp/(n + p - tn + tp)',\n",
       "     'equation': 'f1p - 2*tp/(n + p - tn + tp)',\n",
       "     'equation_polynomial': 'f1p*(n + p - tn + tp) - 2*tp',\n",
       "     'function': 'f1_plus_standardized'}],\n",
       "   'solutions': [{'solution': {'expressions': {'tp': 'f1p*(acc*n + acc*p - n - p)/(2*(f1p - 1))',\n",
       "       'tn': '(acc*f1p*n + acc*f1p*p - 2*acc*n - 2*acc*p + f1p*n + f1p*p)/(2*(f1p - 1))'},\n",
       "      'symbols': {'tp': ['n', 'acc', 'p', 'f1p'],\n",
       "       'tn': ['p', 'f1p', 'acc', 'n']}},\n",
       "     'non_zero': [{'expression': '2*f1p - 2', 'symbols': ['f1p']}],\n",
       "     'non_negative': []}]},\n",
       "  {'scores': [{'abbreviation': 'sens',\n",
       "     'name': 'sensitivity',\n",
       "     'nans': None,\n",
       "     'range_': [0, 1],\n",
       "     'synonyms': ['recall',\n",
       "      'true_positive_rate',\n",
       "      'Recall',\n",
       "      'TruePositiveRate'],\n",
       "     'complement': 'false_negative_rate',\n",
       "     'args': ['tp', 'p'],\n",
       "     'expression': 'tp/p',\n",
       "     'equation': 'sens - tp/p',\n",
       "     'equation_polynomial': 'p*sens - tp',\n",
       "     'function': 'sensitivity_standardized'},\n",
       "    {'abbreviation': 'spec',\n",
       "     'name': 'specificity',\n",
       "     'nans': None,\n",
       "     'range_': [0, 1],\n",
       "     'synonyms': ['selectivity',\n",
       "      'Selectivity',\n",
       "      'true_negative_rate',\n",
       "      'TrueNegativeRate'],\n",
       "     'complement': 'false_positive_rate',\n",
       "     'args': ['tn', 'n'],\n",
       "     'expression': 'tn/n',\n",
       "     'equation': 'spec - tn/n',\n",
       "     'equation_polynomial': 'n*spec - tn',\n",
       "     'function': 'specificity_standardized'}],\n",
       "   'solutions': [{'solution': {'expressions': {'tp': 'p*sens', 'tn': 'n*spec'},\n",
       "      'symbols': {'tp': ['p', 'sens'], 'tn': ['n', 'spec']}},\n",
       "     'non_zero': [],\n",
       "     'non_negative': []}]},\n",
       "  {'scores': [{'abbreviation': 'sens',\n",
       "     'name': 'sensitivity',\n",
       "     'nans': None,\n",
       "     'range_': [0, 1],\n",
       "     'synonyms': ['recall',\n",
       "      'true_positive_rate',\n",
       "      'Recall',\n",
       "      'TruePositiveRate'],\n",
       "     'complement': 'false_negative_rate',\n",
       "     'args': ['tp', 'p'],\n",
       "     'expression': 'tp/p',\n",
       "     'equation': 'sens - tp/p',\n",
       "     'equation_polynomial': 'p*sens - tp',\n",
       "     'function': 'sensitivity_standardized'},\n",
       "    {'abbreviation': 'ppv',\n",
       "     'name': 'positive_predictive_value',\n",
       "     'nans': [{'tp': 0, 'fp': 0}],\n",
       "     'range_': [0, 1],\n",
       "     'synonyms': ('precision', 'Precision'),\n",
       "     'complement': 'false_discovery_rate',\n",
       "     'args': ['tp', 'tn', 'n'],\n",
       "     'expression': 'tp/(n - tn + tp)',\n",
       "     'equation': 'ppv - tp/(n - tn + tp)',\n",
       "     'equation_polynomial': 'ppv*(n - tn + tp) - tp',\n",
       "     'function': 'positive_predictive_value_standardized'}],\n",
       "   'solutions': [{'solution': {'expressions': {'tp': 'p*sens',\n",
       "       'tn': 'n + p*sens - p*sens/ppv'},\n",
       "      'symbols': {'tp': ['p', 'sens'], 'tn': ['p', 'ppv', 'n', 'sens']}},\n",
       "     'non_zero': [{'expression': 'ppv', 'symbols': ['ppv']}],\n",
       "     'non_negative': []}]},\n",
       "  {'scores': [{'abbreviation': 'sens',\n",
       "     'name': 'sensitivity',\n",
       "     'nans': None,\n",
       "     'range_': [0, 1],\n",
       "     'synonyms': ['recall',\n",
       "      'true_positive_rate',\n",
       "      'Recall',\n",
       "      'TruePositiveRate'],\n",
       "     'complement': 'false_negative_rate',\n",
       "     'args': ['tp', 'p'],\n",
       "     'expression': 'tp/p',\n",
       "     'equation': 'sens - tp/p',\n",
       "     'equation_polynomial': 'p*sens - tp',\n",
       "     'function': 'sensitivity_standardized'},\n",
       "    {'abbreviation': 'npv',\n",
       "     'name': 'negative_predictive_value',\n",
       "     'nans': [{'tn': 0, 'fn': 0}],\n",
       "     'range_': [0, 1],\n",
       "     'synonyms': None,\n",
       "     'complement': 'false_omission_rate',\n",
       "     'args': ['tp', 'tn', 'p'],\n",
       "     'expression': 'tn/(p + tn - tp)',\n",
       "     'equation': 'npv - tn/(p + tn - tp)',\n",
       "     'equation_polynomial': 'npv*(p + tn - tp) - tn',\n",
       "     'function': 'negative_predictive_value_standardized'}],\n",
       "   'solutions': [{'solution': {'expressions': {'tp': 'p*sens',\n",
       "       'tn': 'npv*p*(sens - 1)/(npv - 1)'},\n",
       "      'symbols': {'tp': ['p', 'sens'], 'tn': ['npv', 'p', 'sens']}},\n",
       "     'non_zero': [{'expression': 'npv - 1', 'symbols': ['npv']}],\n",
       "     'non_negative': []}]},\n",
       "  {'scores': [{'abbreviation': 'sens',\n",
       "     'name': 'sensitivity',\n",
       "     'nans': None,\n",
       "     'range_': [0, 1],\n",
       "     'synonyms': ['recall',\n",
       "      'true_positive_rate',\n",
       "      'Recall',\n",
       "      'TruePositiveRate'],\n",
       "     'complement': 'false_negative_rate',\n",
       "     'args': ['tp', 'p'],\n",
       "     'expression': 'tp/p',\n",
       "     'equation': 'sens - tp/p',\n",
       "     'equation_polynomial': 'p*sens - tp',\n",
       "     'function': 'sensitivity_standardized'},\n",
       "    {'abbreviation': 'ba',\n",
       "     'name': 'balanced_accuracy',\n",
       "     'nans': None,\n",
       "     'range_': [0, 1],\n",
       "     'synonyms': None,\n",
       "     'complement': None,\n",
       "     'args': ['tp', 'tn', 'p', 'n'],\n",
       "     'expression': '0.5*tp/p + 0.5*tn/n',\n",
       "     'equation': 'ba - 0.5*tp/p - 0.5*tn/n',\n",
       "     'equation_polynomial': '2*ba*n*p - n*tp - p*tn',\n",
       "     'function': 'balanced_accuracy_standardized'}],\n",
       "   'solutions': [{'solution': {'expressions': {'tp': 'p*sens',\n",
       "       'tn': 'n*(2*ba - sens)'},\n",
       "      'symbols': {'tp': ['p', 'sens'], 'tn': ['n', 'sens', 'ba']}},\n",
       "     'non_zero': [],\n",
       "     'non_negative': []}]},\n",
       "  {'scores': [{'abbreviation': 'sens',\n",
       "     'name': 'sensitivity',\n",
       "     'nans': None,\n",
       "     'range_': [0, 1],\n",
       "     'synonyms': ['recall',\n",
       "      'true_positive_rate',\n",
       "      'Recall',\n",
       "      'TruePositiveRate'],\n",
       "     'complement': 'false_negative_rate',\n",
       "     'args': ['tp', 'p'],\n",
       "     'expression': 'tp/p',\n",
       "     'equation': 'sens - tp/p',\n",
       "     'equation_polynomial': 'p*sens - tp',\n",
       "     'function': 'sensitivity_standardized'},\n",
       "    {'abbreviation': 'f1p',\n",
       "     'name': 'f1_plus',\n",
       "     'nans': None,\n",
       "     'range_': [0, 1],\n",
       "     'synonyms': None,\n",
       "     'complement': None,\n",
       "     'args': ['tp', 'tn', 'p', 'n'],\n",
       "     'expression': '2*tp/(n + p - tn + tp)',\n",
       "     'equation': 'f1p - 2*tp/(n + p - tn + tp)',\n",
       "     'equation_polynomial': 'f1p*(n + p - tn + tp) - 2*tp',\n",
       "     'function': 'f1_plus_standardized'}],\n",
       "   'solutions': [{'solution': {'expressions': {'tp': 'p*sens',\n",
       "       'tn': 'n + p*sens + p - 2*p*sens/f1p'},\n",
       "      'symbols': {'tp': ['p', 'sens'], 'tn': ['p', 'f1p', 'n', 'sens']}},\n",
       "     'non_zero': [{'expression': 'f1p', 'symbols': ['f1p']}],\n",
       "     'non_negative': []}]},\n",
       "  {'scores': [{'abbreviation': 'spec',\n",
       "     'name': 'specificity',\n",
       "     'nans': None,\n",
       "     'range_': [0, 1],\n",
       "     'synonyms': ['selectivity',\n",
       "      'Selectivity',\n",
       "      'true_negative_rate',\n",
       "      'TrueNegativeRate'],\n",
       "     'complement': 'false_positive_rate',\n",
       "     'args': ['tn', 'n'],\n",
       "     'expression': 'tn/n',\n",
       "     'equation': 'spec - tn/n',\n",
       "     'equation_polynomial': 'n*spec - tn',\n",
       "     'function': 'specificity_standardized'},\n",
       "    {'abbreviation': 'ppv',\n",
       "     'name': 'positive_predictive_value',\n",
       "     'nans': [{'tp': 0, 'fp': 0}],\n",
       "     'range_': [0, 1],\n",
       "     'synonyms': ('precision', 'Precision'),\n",
       "     'complement': 'false_discovery_rate',\n",
       "     'args': ['tp', 'tn', 'n'],\n",
       "     'expression': 'tp/(n - tn + tp)',\n",
       "     'equation': 'ppv - tp/(n - tn + tp)',\n",
       "     'equation_polynomial': 'ppv*(n - tn + tp) - tp',\n",
       "     'function': 'positive_predictive_value_standardized'}],\n",
       "   'solutions': [{'solution': {'expressions': {'tn': 'n*spec',\n",
       "       'tp': 'n*ppv*(spec - 1)/(ppv - 1)'},\n",
       "      'symbols': {'tn': ['n', 'spec'], 'tp': ['ppv', 'n', 'spec']}},\n",
       "     'non_zero': [{'expression': 'ppv - 1', 'symbols': ['ppv']}],\n",
       "     'non_negative': []}]},\n",
       "  {'scores': [{'abbreviation': 'spec',\n",
       "     'name': 'specificity',\n",
       "     'nans': None,\n",
       "     'range_': [0, 1],\n",
       "     'synonyms': ['selectivity',\n",
       "      'Selectivity',\n",
       "      'true_negative_rate',\n",
       "      'TrueNegativeRate'],\n",
       "     'complement': 'false_positive_rate',\n",
       "     'args': ['tn', 'n'],\n",
       "     'expression': 'tn/n',\n",
       "     'equation': 'spec - tn/n',\n",
       "     'equation_polynomial': 'n*spec - tn',\n",
       "     'function': 'specificity_standardized'},\n",
       "    {'abbreviation': 'npv',\n",
       "     'name': 'negative_predictive_value',\n",
       "     'nans': [{'tn': 0, 'fn': 0}],\n",
       "     'range_': [0, 1],\n",
       "     'synonyms': None,\n",
       "     'complement': 'false_omission_rate',\n",
       "     'args': ['tp', 'tn', 'p'],\n",
       "     'expression': 'tn/(p + tn - tp)',\n",
       "     'equation': 'npv - tn/(p + tn - tp)',\n",
       "     'equation_polynomial': 'npv*(p + tn - tp) - tn',\n",
       "     'function': 'negative_predictive_value_standardized'}],\n",
       "   'solutions': [{'solution': {'expressions': {'tn': 'n*spec',\n",
       "       'tp': 'n*spec - n*spec/npv + p'},\n",
       "      'symbols': {'tn': ['n', 'spec'], 'tp': ['npv', 'p', 'n', 'spec']}},\n",
       "     'non_zero': [{'expression': 'npv', 'symbols': ['npv']}],\n",
       "     'non_negative': []}]},\n",
       "  {'scores': [{'abbreviation': 'spec',\n",
       "     'name': 'specificity',\n",
       "     'nans': None,\n",
       "     'range_': [0, 1],\n",
       "     'synonyms': ['selectivity',\n",
       "      'Selectivity',\n",
       "      'true_negative_rate',\n",
       "      'TrueNegativeRate'],\n",
       "     'complement': 'false_positive_rate',\n",
       "     'args': ['tn', 'n'],\n",
       "     'expression': 'tn/n',\n",
       "     'equation': 'spec - tn/n',\n",
       "     'equation_polynomial': 'n*spec - tn',\n",
       "     'function': 'specificity_standardized'},\n",
       "    {'abbreviation': 'ba',\n",
       "     'name': 'balanced_accuracy',\n",
       "     'nans': None,\n",
       "     'range_': [0, 1],\n",
       "     'synonyms': None,\n",
       "     'complement': None,\n",
       "     'args': ['tp', 'tn', 'p', 'n'],\n",
       "     'expression': '0.5*tp/p + 0.5*tn/n',\n",
       "     'equation': 'ba - 0.5*tp/p - 0.5*tn/n',\n",
       "     'equation_polynomial': '2*ba*n*p - n*tp - p*tn',\n",
       "     'function': 'balanced_accuracy_standardized'}],\n",
       "   'solutions': [{'solution': {'expressions': {'tn': 'n*spec',\n",
       "       'tp': 'p*(2*ba - spec)'},\n",
       "      'symbols': {'tn': ['n', 'spec'], 'tp': ['p', 'spec', 'ba']}},\n",
       "     'non_zero': [],\n",
       "     'non_negative': []}]},\n",
       "  {'scores': [{'abbreviation': 'spec',\n",
       "     'name': 'specificity',\n",
       "     'nans': None,\n",
       "     'range_': [0, 1],\n",
       "     'synonyms': ['selectivity',\n",
       "      'Selectivity',\n",
       "      'true_negative_rate',\n",
       "      'TrueNegativeRate'],\n",
       "     'complement': 'false_positive_rate',\n",
       "     'args': ['tn', 'n'],\n",
       "     'expression': 'tn/n',\n",
       "     'equation': 'spec - tn/n',\n",
       "     'equation_polynomial': 'n*spec - tn',\n",
       "     'function': 'specificity_standardized'},\n",
       "    {'abbreviation': 'f1p',\n",
       "     'name': 'f1_plus',\n",
       "     'nans': None,\n",
       "     'range_': [0, 1],\n",
       "     'synonyms': None,\n",
       "     'complement': None,\n",
       "     'args': ['tp', 'tn', 'p', 'n'],\n",
       "     'expression': '2*tp/(n + p - tn + tp)',\n",
       "     'equation': 'f1p - 2*tp/(n + p - tn + tp)',\n",
       "     'equation_polynomial': 'f1p*(n + p - tn + tp) - 2*tp',\n",
       "     'function': 'f1_plus_standardized'}],\n",
       "   'solutions': [{'solution': {'expressions': {'tn': 'n*spec',\n",
       "       'tp': 'f1p*(n*spec - n - p)/(f1p - 2)'},\n",
       "      'symbols': {'tn': ['n', 'spec'], 'tp': ['n', 'spec', 'f1p', 'p']}},\n",
       "     'non_zero': [{'expression': 'f1p - 2', 'symbols': ['f1p']}],\n",
       "     'non_negative': []}]},\n",
       "  {'scores': [{'abbreviation': 'ppv',\n",
       "     'name': 'positive_predictive_value',\n",
       "     'nans': [{'tp': 0, 'fp': 0}],\n",
       "     'range_': [0, 1],\n",
       "     'synonyms': ('precision', 'Precision'),\n",
       "     'complement': 'false_discovery_rate',\n",
       "     'args': ['tp', 'tn', 'n'],\n",
       "     'expression': 'tp/(n - tn + tp)',\n",
       "     'equation': 'ppv - tp/(n - tn + tp)',\n",
       "     'equation_polynomial': 'ppv*(n - tn + tp) - tp',\n",
       "     'function': 'positive_predictive_value_standardized'},\n",
       "    {'abbreviation': 'npv',\n",
       "     'name': 'negative_predictive_value',\n",
       "     'nans': [{'tn': 0, 'fn': 0}],\n",
       "     'range_': [0, 1],\n",
       "     'synonyms': None,\n",
       "     'complement': 'false_omission_rate',\n",
       "     'args': ['tp', 'tn', 'p'],\n",
       "     'expression': 'tn/(p + tn - tp)',\n",
       "     'equation': 'npv - tn/(p + tn - tp)',\n",
       "     'equation_polynomial': 'npv*(p + tn - tp) - tn',\n",
       "     'function': 'negative_predictive_value_standardized'}],\n",
       "   'solutions': [{'solution': {'expressions': {'tp': 'ppv*(n*npv - n + npv*p)/(npv + ppv - 1)',\n",
       "       'tn': 'npv*(n*ppv + p*ppv - p)/(npv + ppv - 1)'},\n",
       "      'symbols': {'tp': ['npv', 'p', 'ppv', 'n'],\n",
       "       'tn': ['npv', 'p', 'ppv', 'n']}},\n",
       "     'non_zero': [{'expression': 'npv + ppv - 1', 'symbols': ['ppv', 'npv']}],\n",
       "     'non_negative': []}]},\n",
       "  {'scores': [{'abbreviation': 'ppv',\n",
       "     'name': 'positive_predictive_value',\n",
       "     'nans': [{'tp': 0, 'fp': 0}],\n",
       "     'range_': [0, 1],\n",
       "     'synonyms': ('precision', 'Precision'),\n",
       "     'complement': 'false_discovery_rate',\n",
       "     'args': ['tp', 'tn', 'n'],\n",
       "     'expression': 'tp/(n - tn + tp)',\n",
       "     'equation': 'ppv - tp/(n - tn + tp)',\n",
       "     'equation_polynomial': 'ppv*(n - tn + tp) - tp',\n",
       "     'function': 'positive_predictive_value_standardized'},\n",
       "    {'abbreviation': 'ba',\n",
       "     'name': 'balanced_accuracy',\n",
       "     'nans': None,\n",
       "     'range_': [0, 1],\n",
       "     'synonyms': None,\n",
       "     'complement': None,\n",
       "     'args': ['tp', 'tn', 'p', 'n'],\n",
       "     'expression': '0.5*tp/p + 0.5*tn/n',\n",
       "     'equation': 'ba - 0.5*tp/p - 0.5*tn/n',\n",
       "     'equation_polynomial': '2*ba*n*p - n*tp - p*tn',\n",
       "     'function': 'balanced_accuracy_standardized'}],\n",
       "   'solutions': [{'solution': {'expressions': {'tp': 'n*p*ppv*(2*ba - 1)/(n*ppv + p*ppv - p)',\n",
       "       'tn': 'n*(2*ba*p*ppv - 2*ba*p + n*ppv)/(n*ppv + p*ppv - p)'},\n",
       "      'symbols': {'tp': ['p', 'ppv', 'n', 'ba'],\n",
       "       'tn': ['p', 'ppv', 'n', 'ba']}},\n",
       "     'non_zero': [{'expression': 'n*ppv + p*ppv - p',\n",
       "       'symbols': ['ppv', 'n', 'p']}],\n",
       "     'non_negative': []}]},\n",
       "  {'scores': [{'abbreviation': 'ppv',\n",
       "     'name': 'positive_predictive_value',\n",
       "     'nans': [{'tp': 0, 'fp': 0}],\n",
       "     'range_': [0, 1],\n",
       "     'synonyms': ('precision', 'Precision'),\n",
       "     'complement': 'false_discovery_rate',\n",
       "     'args': ['tp', 'tn', 'n'],\n",
       "     'expression': 'tp/(n - tn + tp)',\n",
       "     'equation': 'ppv - tp/(n - tn + tp)',\n",
       "     'equation_polynomial': 'ppv*(n - tn + tp) - tp',\n",
       "     'function': 'positive_predictive_value_standardized'},\n",
       "    {'abbreviation': 'f1p',\n",
       "     'name': 'f1_plus',\n",
       "     'nans': None,\n",
       "     'range_': [0, 1],\n",
       "     'synonyms': None,\n",
       "     'complement': None,\n",
       "     'args': ['tp', 'tn', 'p', 'n'],\n",
       "     'expression': '2*tp/(n + p - tn + tp)',\n",
       "     'equation': 'f1p - 2*tp/(n + p - tn + tp)',\n",
       "     'equation_polynomial': 'f1p*(n + p - tn + tp) - 2*tp',\n",
       "     'function': 'f1_plus_standardized'}],\n",
       "   'solutions': [{'solution': {'expressions': {'tp': '-f1p*p*ppv/(f1p - 2*ppv)',\n",
       "       'tn': '(f1p*n - f1p*p*ppv + f1p*p - 2*n*ppv)/(f1p - 2*ppv)'},\n",
       "      'symbols': {'tp': ['p', 'f1p', 'ppv'], 'tn': ['p', 'f1p', 'ppv', 'n']}},\n",
       "     'non_zero': [{'expression': 'f1p - 2*ppv', 'symbols': ['ppv', 'f1p']}],\n",
       "     'non_negative': []}]},\n",
       "  {'scores': [{'abbreviation': 'npv',\n",
       "     'name': 'negative_predictive_value',\n",
       "     'nans': [{'tn': 0, 'fn': 0}],\n",
       "     'range_': [0, 1],\n",
       "     'synonyms': None,\n",
       "     'complement': 'false_omission_rate',\n",
       "     'args': ['tp', 'tn', 'p'],\n",
       "     'expression': 'tn/(p + tn - tp)',\n",
       "     'equation': 'npv - tn/(p + tn - tp)',\n",
       "     'equation_polynomial': 'npv*(p + tn - tp) - tn',\n",
       "     'function': 'negative_predictive_value_standardized'},\n",
       "    {'abbreviation': 'ba',\n",
       "     'name': 'balanced_accuracy',\n",
       "     'nans': None,\n",
       "     'range_': [0, 1],\n",
       "     'synonyms': None,\n",
       "     'complement': None,\n",
       "     'args': ['tp', 'tn', 'p', 'n'],\n",
       "     'expression': '0.5*tp/p + 0.5*tn/n',\n",
       "     'equation': 'ba - 0.5*tp/p - 0.5*tn/n',\n",
       "     'equation_polynomial': '2*ba*n*p - n*tp - p*tn',\n",
       "     'function': 'balanced_accuracy_standardized'}],\n",
       "   'solutions': [{'solution': {'expressions': {'tp': 'p*(2*ba*n*npv - 2*ba*n + npv*p)/(n*npv - n + npv*p)',\n",
       "       'tn': 'n*npv*p*(2*ba - 1)/(n*npv - n + npv*p)'},\n",
       "      'symbols': {'tp': ['npv', 'p', 'n', 'ba'],\n",
       "       'tn': ['npv', 'p', 'n', 'ba']}},\n",
       "     'non_zero': [{'expression': 'n*npv - n + npv*p',\n",
       "       'symbols': ['n', 'npv', 'p']}],\n",
       "     'non_negative': []}]},\n",
       "  {'scores': [{'abbreviation': 'npv',\n",
       "     'name': 'negative_predictive_value',\n",
       "     'nans': [{'tn': 0, 'fn': 0}],\n",
       "     'range_': [0, 1],\n",
       "     'synonyms': None,\n",
       "     'complement': 'false_omission_rate',\n",
       "     'args': ['tp', 'tn', 'p'],\n",
       "     'expression': 'tn/(p + tn - tp)',\n",
       "     'equation': 'npv - tn/(p + tn - tp)',\n",
       "     'equation_polynomial': 'npv*(p + tn - tp) - tn',\n",
       "     'function': 'negative_predictive_value_standardized'},\n",
       "    {'abbreviation': 'f1p',\n",
       "     'name': 'f1_plus',\n",
       "     'nans': None,\n",
       "     'range_': [0, 1],\n",
       "     'synonyms': None,\n",
       "     'complement': None,\n",
       "     'args': ['tp', 'tn', 'p', 'n'],\n",
       "     'expression': '2*tp/(n + p - tn + tp)',\n",
       "     'equation': 'f1p - 2*tp/(n + p - tn + tp)',\n",
       "     'equation_polynomial': 'f1p*(n + p - tn + tp) - 2*tp',\n",
       "     'function': 'f1_plus_standardized'}],\n",
       "   'solutions': [{'solution': {'expressions': {'tp': 'f1p*(n*npv - n + 2*npv*p - p)/(f1p + 2*npv - 2)',\n",
       "       'tn': 'npv*(f1p*n + 2*f1p*p - 2*p)/(f1p + 2*npv - 2)'},\n",
       "      'symbols': {'tp': ['npv', 'p', 'f1p', 'n'],\n",
       "       'tn': ['npv', 'p', 'f1p', 'n']}},\n",
       "     'non_zero': [{'expression': 'f1p + 2*npv - 2',\n",
       "       'symbols': ['f1p', 'npv']}],\n",
       "     'non_negative': []}]},\n",
       "  {'scores': [{'abbreviation': 'ba',\n",
       "     'name': 'balanced_accuracy',\n",
       "     'nans': None,\n",
       "     'range_': [0, 1],\n",
       "     'synonyms': None,\n",
       "     'complement': None,\n",
       "     'args': ['tp', 'tn', 'p', 'n'],\n",
       "     'expression': '0.5*tp/p + 0.5*tn/n',\n",
       "     'equation': 'ba - 0.5*tp/p - 0.5*tn/n',\n",
       "     'equation_polynomial': '2*ba*n*p - n*tp - p*tn',\n",
       "     'function': 'balanced_accuracy_standardized'},\n",
       "    {'abbreviation': 'f1p',\n",
       "     'name': 'f1_plus',\n",
       "     'nans': None,\n",
       "     'range_': [0, 1],\n",
       "     'synonyms': None,\n",
       "     'complement': None,\n",
       "     'args': ['tp', 'tn', 'p', 'n'],\n",
       "     'expression': '2*tp/(n + p - tn + tp)',\n",
       "     'equation': 'f1p - 2*tp/(n + p - tn + tp)',\n",
       "     'equation_polynomial': 'f1p*(n + p - tn + tp) - 2*tp',\n",
       "     'function': 'f1_plus_standardized'}],\n",
       "   'solutions': [{'solution': {'expressions': {'tp': 'f1p*p*(2*ba*n - n - p)/(f1p*n + f1p*p - 2*p)',\n",
       "       'tn': 'n*(2*ba*f1p*p - 4*ba*p + f1p*n + f1p*p)/(f1p*n + f1p*p - 2*p)'},\n",
       "      'symbols': {'tp': ['p', 'f1p', 'n', 'ba'],\n",
       "       'tn': ['p', 'f1p', 'n', 'ba']}},\n",
       "     'non_zero': [{'expression': 'f1p*n + f1p*p - 2*p',\n",
       "       'symbols': ['n', 'f1p', 'p']}],\n",
       "     'non_negative': []}]}]}"
      ]
     },
     "execution_count": 13,
     "metadata": {},
     "output_type": "execute_result"
    }
   ],
   "source": [
    "soljson"
   ]
  },
  {
   "cell_type": "code",
   "execution_count": 14,
   "metadata": {
    "vscode": {
     "languageId": "python"
    }
   },
   "outputs": [],
   "source": [
    "import json"
   ]
  },
  {
   "cell_type": "code",
   "execution_count": 15,
   "metadata": {
    "vscode": {
     "languageId": "python"
    }
   },
   "outputs": [
    {
     "data": {
      "text/plain": [
       "'{\"solutions\": [{\"scores\": [{\"abbreviation\": \"acc\", \"name\": \"accuracy\", \"nans\": null, \"range_\": [0, 1], \"synonyms\": null, \"complement\": \"error_rate\", \"args\": [\"tp\", \"tn\", \"p\", \"n\"], \"expression\": \"(tn + tp)/(n + p)\", \"equation\": \"acc - (tn + tp)/(n + p)\", \"equation_polynomial\": \"acc*(n + p) - tn - tp\", \"function\": \"accuracy_standardized\"}, {\"abbreviation\": \"sens\", \"name\": \"sensitivity\", \"nans\": null, \"range_\": [0, 1], \"synonyms\": [\"recall\", \"true_positive_rate\", \"Recall\", \"TruePositiveRate\"], \"complement\": \"false_negative_rate\", \"args\": [\"tp\", \"p\"], \"expression\": \"tp/p\", \"equation\": \"sens - tp/p\", \"equation_polynomial\": \"p*sens - tp\", \"function\": \"sensitivity_standardized\"}], \"solutions\": [{\"solution\": {\"expressions\": {\"tp\": \"p*sens\", \"tn\": \"acc*n + acc*p - p*sens\"}, \"symbols\": {\"tp\": [\"p\", \"sens\"], \"tn\": [\"p\", \"acc\", \"n\", \"sens\"]}}, \"non_zero\": [], \"non_negative\": []}]}, {\"scores\": [{\"abbreviation\": \"acc\", \"name\": \"accuracy\", \"nans\": null, \"range_\": [0, 1], \"synonyms\": null, \"complement\": \"error_rate\", \"args\": [\"tp\", \"tn\", \"p\", \"n\"], \"expression\": \"(tn + tp)/(n + p)\", \"equation\": \"acc - (tn + tp)/(n + p)\", \"equation_polynomial\": \"acc*(n + p) - tn - tp\", \"function\": \"accuracy_standardized\"}, {\"abbreviation\": \"spec\", \"name\": \"specificity\", \"nans\": null, \"range_\": [0, 1], \"synonyms\": [\"selectivity\", \"Selectivity\", \"true_negative_rate\", \"TrueNegativeRate\"], \"complement\": \"false_positive_rate\", \"args\": [\"tn\", \"n\"], \"expression\": \"tn/n\", \"equation\": \"spec - tn/n\", \"equation_polynomial\": \"n*spec - tn\", \"function\": \"specificity_standardized\"}], \"solutions\": [{\"solution\": {\"expressions\": {\"tn\": \"n*spec\", \"tp\": \"acc*n + acc*p - n*spec\"}, \"symbols\": {\"tn\": [\"n\", \"spec\"], \"tp\": [\"p\", \"acc\", \"n\", \"spec\"]}}, \"non_zero\": [], \"non_negative\": []}]}, {\"scores\": [{\"abbreviation\": \"acc\", \"name\": \"accuracy\", \"nans\": null, \"range_\": [0, 1], \"synonyms\": null, \"complement\": \"error_rate\", \"args\": [\"tp\", \"tn\", \"p\", \"n\"], \"expression\": \"(tn + tp)/(n + p)\", \"equation\": \"acc - (tn + tp)/(n + p)\", \"equation_polynomial\": \"acc*(n + p) - tn - tp\", \"function\": \"accuracy_standardized\"}, {\"abbreviation\": \"ppv\", \"name\": \"positive_predictive_value\", \"nans\": [{\"tp\": 0, \"fp\": 0}], \"range_\": [0, 1], \"synonyms\": [\"precision\", \"Precision\"], \"complement\": \"false_discovery_rate\", \"args\": [\"tp\", \"tn\", \"n\"], \"expression\": \"tp/(n - tn + tp)\", \"equation\": \"ppv - tp/(n - tn + tp)\", \"equation_polynomial\": \"ppv*(n - tn + tp) - tp\", \"function\": \"positive_predictive_value_standardized\"}], \"solutions\": [{\"solution\": {\"expressions\": {\"tp\": \"ppv*(acc*n + acc*p - n)/(2*ppv - 1)\", \"tn\": \"(acc*n*ppv - acc*n + acc*p*ppv - acc*p + n*ppv)/(2*ppv - 1)\"}, \"symbols\": {\"tp\": [\"ppv\", \"acc\", \"n\", \"p\"], \"tn\": [\"p\", \"ppv\", \"acc\", \"n\"]}}, \"non_zero\": [{\"expression\": \"2*ppv - 1\", \"symbols\": [\"ppv\"]}], \"non_negative\": []}]}, {\"scores\": [{\"abbreviation\": \"acc\", \"name\": \"accuracy\", \"nans\": null, \"range_\": [0, 1], \"synonyms\": null, \"complement\": \"error_rate\", \"args\": [\"tp\", \"tn\", \"p\", \"n\"], \"expression\": \"(tn + tp)/(n + p)\", \"equation\": \"acc - (tn + tp)/(n + p)\", \"equation_polynomial\": \"acc*(n + p) - tn - tp\", \"function\": \"accuracy_standardized\"}, {\"abbreviation\": \"npv\", \"name\": \"negative_predictive_value\", \"nans\": [{\"tn\": 0, \"fn\": 0}], \"range_\": [0, 1], \"synonyms\": null, \"complement\": \"false_omission_rate\", \"args\": [\"tp\", \"tn\", \"p\"], \"expression\": \"tn/(p + tn - tp)\", \"equation\": \"npv - tn/(p + tn - tp)\", \"equation_polynomial\": \"npv*(p + tn - tp) - tn\", \"function\": \"negative_predictive_value_standardized\"}], \"solutions\": [{\"solution\": {\"expressions\": {\"tp\": \"(acc*(n + p)*(2*npv - 1) - npv*(acc*n + acc*p - p))/(2*npv - 1)\", \"tn\": \"npv*(acc*n + acc*p - p)/(2*npv - 1)\"}, \"symbols\": {\"tp\": [\"npv\", \"p\", \"acc\", \"n\"], \"tn\": [\"n\", \"npv\", \"p\", \"acc\"]}}, \"non_zero\": [{\"expression\": \"2*npv - 1\", \"symbols\": [\"npv\"]}], \"non_negative\": []}]}, {\"scores\": [{\"abbreviation\": \"acc\", \"name\": \"accuracy\", \"nans\": null, \"range_\": [0, 1], \"synonyms\": null, \"complement\": \"error_rate\", \"args\": [\"tp\", \"tn\", \"p\", \"n\"], \"expression\": \"(tn + tp)/(n + p)\", \"equation\": \"acc - (tn + tp)/(n + p)\", \"equation_polynomial\": \"acc*(n + p) - tn - tp\", \"function\": \"accuracy_standardized\"}, {\"abbreviation\": \"ba\", \"name\": \"balanced_accuracy\", \"nans\": null, \"range_\": [0, 1], \"synonyms\": null, \"complement\": null, \"args\": [\"tp\", \"tn\", \"p\", \"n\"], \"expression\": \"0.5*tp/p + 0.5*tn/n\", \"equation\": \"ba - 0.5*tp/p - 0.5*tn/n\", \"equation_polynomial\": \"2*ba*n*p - n*tp - p*tn\", \"function\": \"balanced_accuracy_standardized\"}], \"solutions\": [{\"solution\": {\"expressions\": {\"tp\": \"p*(acc*n + acc*p - 2*ba*n)/(-n + p)\", \"tn\": \"n*(acc*n + acc*p - 2*ba*p)/(n - p)\"}, \"symbols\": {\"tp\": [\"p\", \"acc\", \"n\", \"ba\"], \"tn\": [\"p\", \"acc\", \"n\", \"ba\"]}}, \"non_zero\": [{\"expression\": \"n - p\", \"symbols\": [\"n\", \"p\"]}], \"non_negative\": []}]}, {\"scores\": [{\"abbreviation\": \"acc\", \"name\": \"accuracy\", \"nans\": null, \"range_\": [0, 1], \"synonyms\": null, \"complement\": \"error_rate\", \"args\": [\"tp\", \"tn\", \"p\", \"n\"], \"expression\": \"(tn + tp)/(n + p)\", \"equation\": \"acc - (tn + tp)/(n + p)\", \"equation_polynomial\": \"acc*(n + p) - tn - tp\", \"function\": \"accuracy_standardized\"}, {\"abbreviation\": \"f1p\", \"name\": \"f1_plus\", \"nans\": null, \"range_\": [0, 1], \"synonyms\": null, \"complement\": null, \"args\": [\"tp\", \"tn\", \"p\", \"n\"], \"expression\": \"2*tp/(n + p - tn + tp)\", \"equation\": \"f1p - 2*tp/(n + p - tn + tp)\", \"equation_polynomial\": \"f1p*(n + p - tn + tp) - 2*tp\", \"function\": \"f1_plus_standardized\"}], \"solutions\": [{\"solution\": {\"expressions\": {\"tp\": \"f1p*(acc*n + acc*p - n - p)/(2*(f1p - 1))\", \"tn\": \"(acc*f1p*n + acc*f1p*p - 2*acc*n - 2*acc*p + f1p*n + f1p*p)/(2*(f1p - 1))\"}, \"symbols\": {\"tp\": [\"n\", \"acc\", \"p\", \"f1p\"], \"tn\": [\"p\", \"f1p\", \"acc\", \"n\"]}}, \"non_zero\": [{\"expression\": \"2*f1p - 2\", \"symbols\": [\"f1p\"]}], \"non_negative\": []}]}, {\"scores\": [{\"abbreviation\": \"sens\", \"name\": \"sensitivity\", \"nans\": null, \"range_\": [0, 1], \"synonyms\": [\"recall\", \"true_positive_rate\", \"Recall\", \"TruePositiveRate\"], \"complement\": \"false_negative_rate\", \"args\": [\"tp\", \"p\"], \"expression\": \"tp/p\", \"equation\": \"sens - tp/p\", \"equation_polynomial\": \"p*sens - tp\", \"function\": \"sensitivity_standardized\"}, {\"abbreviation\": \"spec\", \"name\": \"specificity\", \"nans\": null, \"range_\": [0, 1], \"synonyms\": [\"selectivity\", \"Selectivity\", \"true_negative_rate\", \"TrueNegativeRate\"], \"complement\": \"false_positive_rate\", \"args\": [\"tn\", \"n\"], \"expression\": \"tn/n\", \"equation\": \"spec - tn/n\", \"equation_polynomial\": \"n*spec - tn\", \"function\": \"specificity_standardized\"}], \"solutions\": [{\"solution\": {\"expressions\": {\"tp\": \"p*sens\", \"tn\": \"n*spec\"}, \"symbols\": {\"tp\": [\"p\", \"sens\"], \"tn\": [\"n\", \"spec\"]}}, \"non_zero\": [], \"non_negative\": []}]}, {\"scores\": [{\"abbreviation\": \"sens\", \"name\": \"sensitivity\", \"nans\": null, \"range_\": [0, 1], \"synonyms\": [\"recall\", \"true_positive_rate\", \"Recall\", \"TruePositiveRate\"], \"complement\": \"false_negative_rate\", \"args\": [\"tp\", \"p\"], \"expression\": \"tp/p\", \"equation\": \"sens - tp/p\", \"equation_polynomial\": \"p*sens - tp\", \"function\": \"sensitivity_standardized\"}, {\"abbreviation\": \"ppv\", \"name\": \"positive_predictive_value\", \"nans\": [{\"tp\": 0, \"fp\": 0}], \"range_\": [0, 1], \"synonyms\": [\"precision\", \"Precision\"], \"complement\": \"false_discovery_rate\", \"args\": [\"tp\", \"tn\", \"n\"], \"expression\": \"tp/(n - tn + tp)\", \"equation\": \"ppv - tp/(n - tn + tp)\", \"equation_polynomial\": \"ppv*(n - tn + tp) - tp\", \"function\": \"positive_predictive_value_standardized\"}], \"solutions\": [{\"solution\": {\"expressions\": {\"tp\": \"p*sens\", \"tn\": \"n + p*sens - p*sens/ppv\"}, \"symbols\": {\"tp\": [\"p\", \"sens\"], \"tn\": [\"p\", \"ppv\", \"n\", \"sens\"]}}, \"non_zero\": [{\"expression\": \"ppv\", \"symbols\": [\"ppv\"]}], \"non_negative\": []}]}, {\"scores\": [{\"abbreviation\": \"sens\", \"name\": \"sensitivity\", \"nans\": null, \"range_\": [0, 1], \"synonyms\": [\"recall\", \"true_positive_rate\", \"Recall\", \"TruePositiveRate\"], \"complement\": \"false_negative_rate\", \"args\": [\"tp\", \"p\"], \"expression\": \"tp/p\", \"equation\": \"sens - tp/p\", \"equation_polynomial\": \"p*sens - tp\", \"function\": \"sensitivity_standardized\"}, {\"abbreviation\": \"npv\", \"name\": \"negative_predictive_value\", \"nans\": [{\"tn\": 0, \"fn\": 0}], \"range_\": [0, 1], \"synonyms\": null, \"complement\": \"false_omission_rate\", \"args\": [\"tp\", \"tn\", \"p\"], \"expression\": \"tn/(p + tn - tp)\", \"equation\": \"npv - tn/(p + tn - tp)\", \"equation_polynomial\": \"npv*(p + tn - tp) - tn\", \"function\": \"negative_predictive_value_standardized\"}], \"solutions\": [{\"solution\": {\"expressions\": {\"tp\": \"p*sens\", \"tn\": \"npv*p*(sens - 1)/(npv - 1)\"}, \"symbols\": {\"tp\": [\"p\", \"sens\"], \"tn\": [\"npv\", \"p\", \"sens\"]}}, \"non_zero\": [{\"expression\": \"npv - 1\", \"symbols\": [\"npv\"]}], \"non_negative\": []}]}, {\"scores\": [{\"abbreviation\": \"sens\", \"name\": \"sensitivity\", \"nans\": null, \"range_\": [0, 1], \"synonyms\": [\"recall\", \"true_positive_rate\", \"Recall\", \"TruePositiveRate\"], \"complement\": \"false_negative_rate\", \"args\": [\"tp\", \"p\"], \"expression\": \"tp/p\", \"equation\": \"sens - tp/p\", \"equation_polynomial\": \"p*sens - tp\", \"function\": \"sensitivity_standardized\"}, {\"abbreviation\": \"ba\", \"name\": \"balanced_accuracy\", \"nans\": null, \"range_\": [0, 1], \"synonyms\": null, \"complement\": null, \"args\": [\"tp\", \"tn\", \"p\", \"n\"], \"expression\": \"0.5*tp/p + 0.5*tn/n\", \"equation\": \"ba - 0.5*tp/p - 0.5*tn/n\", \"equation_polynomial\": \"2*ba*n*p - n*tp - p*tn\", \"function\": \"balanced_accuracy_standardized\"}], \"solutions\": [{\"solution\": {\"expressions\": {\"tp\": \"p*sens\", \"tn\": \"n*(2*ba - sens)\"}, \"symbols\": {\"tp\": [\"p\", \"sens\"], \"tn\": [\"n\", \"sens\", \"ba\"]}}, \"non_zero\": [], \"non_negative\": []}]}, {\"scores\": [{\"abbreviation\": \"sens\", \"name\": \"sensitivity\", \"nans\": null, \"range_\": [0, 1], \"synonyms\": [\"recall\", \"true_positive_rate\", \"Recall\", \"TruePositiveRate\"], \"complement\": \"false_negative_rate\", \"args\": [\"tp\", \"p\"], \"expression\": \"tp/p\", \"equation\": \"sens - tp/p\", \"equation_polynomial\": \"p*sens - tp\", \"function\": \"sensitivity_standardized\"}, {\"abbreviation\": \"f1p\", \"name\": \"f1_plus\", \"nans\": null, \"range_\": [0, 1], \"synonyms\": null, \"complement\": null, \"args\": [\"tp\", \"tn\", \"p\", \"n\"], \"expression\": \"2*tp/(n + p - tn + tp)\", \"equation\": \"f1p - 2*tp/(n + p - tn + tp)\", \"equation_polynomial\": \"f1p*(n + p - tn + tp) - 2*tp\", \"function\": \"f1_plus_standardized\"}], \"solutions\": [{\"solution\": {\"expressions\": {\"tp\": \"p*sens\", \"tn\": \"n + p*sens + p - 2*p*sens/f1p\"}, \"symbols\": {\"tp\": [\"p\", \"sens\"], \"tn\": [\"p\", \"f1p\", \"n\", \"sens\"]}}, \"non_zero\": [{\"expression\": \"f1p\", \"symbols\": [\"f1p\"]}], \"non_negative\": []}]}, {\"scores\": [{\"abbreviation\": \"spec\", \"name\": \"specificity\", \"nans\": null, \"range_\": [0, 1], \"synonyms\": [\"selectivity\", \"Selectivity\", \"true_negative_rate\", \"TrueNegativeRate\"], \"complement\": \"false_positive_rate\", \"args\": [\"tn\", \"n\"], \"expression\": \"tn/n\", \"equation\": \"spec - tn/n\", \"equation_polynomial\": \"n*spec - tn\", \"function\": \"specificity_standardized\"}, {\"abbreviation\": \"ppv\", \"name\": \"positive_predictive_value\", \"nans\": [{\"tp\": 0, \"fp\": 0}], \"range_\": [0, 1], \"synonyms\": [\"precision\", \"Precision\"], \"complement\": \"false_discovery_rate\", \"args\": [\"tp\", \"tn\", \"n\"], \"expression\": \"tp/(n - tn + tp)\", \"equation\": \"ppv - tp/(n - tn + tp)\", \"equation_polynomial\": \"ppv*(n - tn + tp) - tp\", \"function\": \"positive_predictive_value_standardized\"}], \"solutions\": [{\"solution\": {\"expressions\": {\"tn\": \"n*spec\", \"tp\": \"n*ppv*(spec - 1)/(ppv - 1)\"}, \"symbols\": {\"tn\": [\"n\", \"spec\"], \"tp\": [\"ppv\", \"n\", \"spec\"]}}, \"non_zero\": [{\"expression\": \"ppv - 1\", \"symbols\": [\"ppv\"]}], \"non_negative\": []}]}, {\"scores\": [{\"abbreviation\": \"spec\", \"name\": \"specificity\", \"nans\": null, \"range_\": [0, 1], \"synonyms\": [\"selectivity\", \"Selectivity\", \"true_negative_rate\", \"TrueNegativeRate\"], \"complement\": \"false_positive_rate\", \"args\": [\"tn\", \"n\"], \"expression\": \"tn/n\", \"equation\": \"spec - tn/n\", \"equation_polynomial\": \"n*spec - tn\", \"function\": \"specificity_standardized\"}, {\"abbreviation\": \"npv\", \"name\": \"negative_predictive_value\", \"nans\": [{\"tn\": 0, \"fn\": 0}], \"range_\": [0, 1], \"synonyms\": null, \"complement\": \"false_omission_rate\", \"args\": [\"tp\", \"tn\", \"p\"], \"expression\": \"tn/(p + tn - tp)\", \"equation\": \"npv - tn/(p + tn - tp)\", \"equation_polynomial\": \"npv*(p + tn - tp) - tn\", \"function\": \"negative_predictive_value_standardized\"}], \"solutions\": [{\"solution\": {\"expressions\": {\"tn\": \"n*spec\", \"tp\": \"n*spec - n*spec/npv + p\"}, \"symbols\": {\"tn\": [\"n\", \"spec\"], \"tp\": [\"npv\", \"p\", \"n\", \"spec\"]}}, \"non_zero\": [{\"expression\": \"npv\", \"symbols\": [\"npv\"]}], \"non_negative\": []}]}, {\"scores\": [{\"abbreviation\": \"spec\", \"name\": \"specificity\", \"nans\": null, \"range_\": [0, 1], \"synonyms\": [\"selectivity\", \"Selectivity\", \"true_negative_rate\", \"TrueNegativeRate\"], \"complement\": \"false_positive_rate\", \"args\": [\"tn\", \"n\"], \"expression\": \"tn/n\", \"equation\": \"spec - tn/n\", \"equation_polynomial\": \"n*spec - tn\", \"function\": \"specificity_standardized\"}, {\"abbreviation\": \"ba\", \"name\": \"balanced_accuracy\", \"nans\": null, \"range_\": [0, 1], \"synonyms\": null, \"complement\": null, \"args\": [\"tp\", \"tn\", \"p\", \"n\"], \"expression\": \"0.5*tp/p + 0.5*tn/n\", \"equation\": \"ba - 0.5*tp/p - 0.5*tn/n\", \"equation_polynomial\": \"2*ba*n*p - n*tp - p*tn\", \"function\": \"balanced_accuracy_standardized\"}], \"solutions\": [{\"solution\": {\"expressions\": {\"tn\": \"n*spec\", \"tp\": \"p*(2*ba - spec)\"}, \"symbols\": {\"tn\": [\"n\", \"spec\"], \"tp\": [\"p\", \"spec\", \"ba\"]}}, \"non_zero\": [], \"non_negative\": []}]}, {\"scores\": [{\"abbreviation\": \"spec\", \"name\": \"specificity\", \"nans\": null, \"range_\": [0, 1], \"synonyms\": [\"selectivity\", \"Selectivity\", \"true_negative_rate\", \"TrueNegativeRate\"], \"complement\": \"false_positive_rate\", \"args\": [\"tn\", \"n\"], \"expression\": \"tn/n\", \"equation\": \"spec - tn/n\", \"equation_polynomial\": \"n*spec - tn\", \"function\": \"specificity_standardized\"}, {\"abbreviation\": \"f1p\", \"name\": \"f1_plus\", \"nans\": null, \"range_\": [0, 1], \"synonyms\": null, \"complement\": null, \"args\": [\"tp\", \"tn\", \"p\", \"n\"], \"expression\": \"2*tp/(n + p - tn + tp)\", \"equation\": \"f1p - 2*tp/(n + p - tn + tp)\", \"equation_polynomial\": \"f1p*(n + p - tn + tp) - 2*tp\", \"function\": \"f1_plus_standardized\"}], \"solutions\": [{\"solution\": {\"expressions\": {\"tn\": \"n*spec\", \"tp\": \"f1p*(n*spec - n - p)/(f1p - 2)\"}, \"symbols\": {\"tn\": [\"n\", \"spec\"], \"tp\": [\"n\", \"spec\", \"f1p\", \"p\"]}}, \"non_zero\": [{\"expression\": \"f1p - 2\", \"symbols\": [\"f1p\"]}], \"non_negative\": []}]}, {\"scores\": [{\"abbreviation\": \"ppv\", \"name\": \"positive_predictive_value\", \"nans\": [{\"tp\": 0, \"fp\": 0}], \"range_\": [0, 1], \"synonyms\": [\"precision\", \"Precision\"], \"complement\": \"false_discovery_rate\", \"args\": [\"tp\", \"tn\", \"n\"], \"expression\": \"tp/(n - tn + tp)\", \"equation\": \"ppv - tp/(n - tn + tp)\", \"equation_polynomial\": \"ppv*(n - tn + tp) - tp\", \"function\": \"positive_predictive_value_standardized\"}, {\"abbreviation\": \"npv\", \"name\": \"negative_predictive_value\", \"nans\": [{\"tn\": 0, \"fn\": 0}], \"range_\": [0, 1], \"synonyms\": null, \"complement\": \"false_omission_rate\", \"args\": [\"tp\", \"tn\", \"p\"], \"expression\": \"tn/(p + tn - tp)\", \"equation\": \"npv - tn/(p + tn - tp)\", \"equation_polynomial\": \"npv*(p + tn - tp) - tn\", \"function\": \"negative_predictive_value_standardized\"}], \"solutions\": [{\"solution\": {\"expressions\": {\"tp\": \"ppv*(n*npv - n + npv*p)/(npv + ppv - 1)\", \"tn\": \"npv*(n*ppv + p*ppv - p)/(npv + ppv - 1)\"}, \"symbols\": {\"tp\": [\"npv\", \"p\", \"ppv\", \"n\"], \"tn\": [\"npv\", \"p\", \"ppv\", \"n\"]}}, \"non_zero\": [{\"expression\": \"npv + ppv - 1\", \"symbols\": [\"ppv\", \"npv\"]}], \"non_negative\": []}]}, {\"scores\": [{\"abbreviation\": \"ppv\", \"name\": \"positive_predictive_value\", \"nans\": [{\"tp\": 0, \"fp\": 0}], \"range_\": [0, 1], \"synonyms\": [\"precision\", \"Precision\"], \"complement\": \"false_discovery_rate\", \"args\": [\"tp\", \"tn\", \"n\"], \"expression\": \"tp/(n - tn + tp)\", \"equation\": \"ppv - tp/(n - tn + tp)\", \"equation_polynomial\": \"ppv*(n - tn + tp) - tp\", \"function\": \"positive_predictive_value_standardized\"}, {\"abbreviation\": \"ba\", \"name\": \"balanced_accuracy\", \"nans\": null, \"range_\": [0, 1], \"synonyms\": null, \"complement\": null, \"args\": [\"tp\", \"tn\", \"p\", \"n\"], \"expression\": \"0.5*tp/p + 0.5*tn/n\", \"equation\": \"ba - 0.5*tp/p - 0.5*tn/n\", \"equation_polynomial\": \"2*ba*n*p - n*tp - p*tn\", \"function\": \"balanced_accuracy_standardized\"}], \"solutions\": [{\"solution\": {\"expressions\": {\"tp\": \"n*p*ppv*(2*ba - 1)/(n*ppv + p*ppv - p)\", \"tn\": \"n*(2*ba*p*ppv - 2*ba*p + n*ppv)/(n*ppv + p*ppv - p)\"}, \"symbols\": {\"tp\": [\"p\", \"ppv\", \"n\", \"ba\"], \"tn\": [\"p\", \"ppv\", \"n\", \"ba\"]}}, \"non_zero\": [{\"expression\": \"n*ppv + p*ppv - p\", \"symbols\": [\"ppv\", \"n\", \"p\"]}], \"non_negative\": []}]}, {\"scores\": [{\"abbreviation\": \"ppv\", \"name\": \"positive_predictive_value\", \"nans\": [{\"tp\": 0, \"fp\": 0}], \"range_\": [0, 1], \"synonyms\": [\"precision\", \"Precision\"], \"complement\": \"false_discovery_rate\", \"args\": [\"tp\", \"tn\", \"n\"], \"expression\": \"tp/(n - tn + tp)\", \"equation\": \"ppv - tp/(n - tn + tp)\", \"equation_polynomial\": \"ppv*(n - tn + tp) - tp\", \"function\": \"positive_predictive_value_standardized\"}, {\"abbreviation\": \"f1p\", \"name\": \"f1_plus\", \"nans\": null, \"range_\": [0, 1], \"synonyms\": null, \"complement\": null, \"args\": [\"tp\", \"tn\", \"p\", \"n\"], \"expression\": \"2*tp/(n + p - tn + tp)\", \"equation\": \"f1p - 2*tp/(n + p - tn + tp)\", \"equation_polynomial\": \"f1p*(n + p - tn + tp) - 2*tp\", \"function\": \"f1_plus_standardized\"}], \"solutions\": [{\"solution\": {\"expressions\": {\"tp\": \"-f1p*p*ppv/(f1p - 2*ppv)\", \"tn\": \"(f1p*n - f1p*p*ppv + f1p*p - 2*n*ppv)/(f1p - 2*ppv)\"}, \"symbols\": {\"tp\": [\"p\", \"f1p\", \"ppv\"], \"tn\": [\"p\", \"f1p\", \"ppv\", \"n\"]}}, \"non_zero\": [{\"expression\": \"f1p - 2*ppv\", \"symbols\": [\"ppv\", \"f1p\"]}], \"non_negative\": []}]}, {\"scores\": [{\"abbreviation\": \"npv\", \"name\": \"negative_predictive_value\", \"nans\": [{\"tn\": 0, \"fn\": 0}], \"range_\": [0, 1], \"synonyms\": null, \"complement\": \"false_omission_rate\", \"args\": [\"tp\", \"tn\", \"p\"], \"expression\": \"tn/(p + tn - tp)\", \"equation\": \"npv - tn/(p + tn - tp)\", \"equation_polynomial\": \"npv*(p + tn - tp) - tn\", \"function\": \"negative_predictive_value_standardized\"}, {\"abbreviation\": \"ba\", \"name\": \"balanced_accuracy\", \"nans\": null, \"range_\": [0, 1], \"synonyms\": null, \"complement\": null, \"args\": [\"tp\", \"tn\", \"p\", \"n\"], \"expression\": \"0.5*tp/p + 0.5*tn/n\", \"equation\": \"ba - 0.5*tp/p - 0.5*tn/n\", \"equation_polynomial\": \"2*ba*n*p - n*tp - p*tn\", \"function\": \"balanced_accuracy_standardized\"}], \"solutions\": [{\"solution\": {\"expressions\": {\"tp\": \"p*(2*ba*n*npv - 2*ba*n + npv*p)/(n*npv - n + npv*p)\", \"tn\": \"n*npv*p*(2*ba - 1)/(n*npv - n + npv*p)\"}, \"symbols\": {\"tp\": [\"npv\", \"p\", \"n\", \"ba\"], \"tn\": [\"npv\", \"p\", \"n\", \"ba\"]}}, \"non_zero\": [{\"expression\": \"n*npv - n + npv*p\", \"symbols\": [\"n\", \"npv\", \"p\"]}], \"non_negative\": []}]}, {\"scores\": [{\"abbreviation\": \"npv\", \"name\": \"negative_predictive_value\", \"nans\": [{\"tn\": 0, \"fn\": 0}], \"range_\": [0, 1], \"synonyms\": null, \"complement\": \"false_omission_rate\", \"args\": [\"tp\", \"tn\", \"p\"], \"expression\": \"tn/(p + tn - tp)\", \"equation\": \"npv - tn/(p + tn - tp)\", \"equation_polynomial\": \"npv*(p + tn - tp) - tn\", \"function\": \"negative_predictive_value_standardized\"}, {\"abbreviation\": \"f1p\", \"name\": \"f1_plus\", \"nans\": null, \"range_\": [0, 1], \"synonyms\": null, \"complement\": null, \"args\": [\"tp\", \"tn\", \"p\", \"n\"], \"expression\": \"2*tp/(n + p - tn + tp)\", \"equation\": \"f1p - 2*tp/(n + p - tn + tp)\", \"equation_polynomial\": \"f1p*(n + p - tn + tp) - 2*tp\", \"function\": \"f1_plus_standardized\"}], \"solutions\": [{\"solution\": {\"expressions\": {\"tp\": \"f1p*(n*npv - n + 2*npv*p - p)/(f1p + 2*npv - 2)\", \"tn\": \"npv*(f1p*n + 2*f1p*p - 2*p)/(f1p + 2*npv - 2)\"}, \"symbols\": {\"tp\": [\"npv\", \"p\", \"f1p\", \"n\"], \"tn\": [\"npv\", \"p\", \"f1p\", \"n\"]}}, \"non_zero\": [{\"expression\": \"f1p + 2*npv - 2\", \"symbols\": [\"f1p\", \"npv\"]}], \"non_negative\": []}]}, {\"scores\": [{\"abbreviation\": \"ba\", \"name\": \"balanced_accuracy\", \"nans\": null, \"range_\": [0, 1], \"synonyms\": null, \"complement\": null, \"args\": [\"tp\", \"tn\", \"p\", \"n\"], \"expression\": \"0.5*tp/p + 0.5*tn/n\", \"equation\": \"ba - 0.5*tp/p - 0.5*tn/n\", \"equation_polynomial\": \"2*ba*n*p - n*tp - p*tn\", \"function\": \"balanced_accuracy_standardized\"}, {\"abbreviation\": \"f1p\", \"name\": \"f1_plus\", \"nans\": null, \"range_\": [0, 1], \"synonyms\": null, \"complement\": null, \"args\": [\"tp\", \"tn\", \"p\", \"n\"], \"expression\": \"2*tp/(n + p - tn + tp)\", \"equation\": \"f1p - 2*tp/(n + p - tn + tp)\", \"equation_polynomial\": \"f1p*(n + p - tn + tp) - 2*tp\", \"function\": \"f1_plus_standardized\"}], \"solutions\": [{\"solution\": {\"expressions\": {\"tp\": \"f1p*p*(2*ba*n - n - p)/(f1p*n + f1p*p - 2*p)\", \"tn\": \"n*(2*ba*f1p*p - 4*ba*p + f1p*n + f1p*p)/(f1p*n + f1p*p - 2*p)\"}, \"symbols\": {\"tp\": [\"p\", \"f1p\", \"n\", \"ba\"], \"tn\": [\"p\", \"f1p\", \"n\", \"ba\"]}}, \"non_zero\": [{\"expression\": \"f1p*n + f1p*p - 2*p\", \"symbols\": [\"n\", \"f1p\", \"p\"]}], \"non_negative\": []}]}]}'"
      ]
     },
     "execution_count": 15,
     "metadata": {},
     "output_type": "execute_result"
    }
   ],
   "source": [
    "json.dumps(soljson)"
   ]
  },
  {
   "cell_type": "code",
   "execution_count": 16,
   "metadata": {
    "vscode": {
     "languageId": "python"
    }
   },
   "outputs": [],
   "source": [
    "with open('solutions.json', 'wt') as file:\n",
    "    file.write(json.dumps(soljson))"
   ]
  },
  {
   "cell_type": "code",
   "execution_count": null,
   "metadata": {
    "vscode": {
     "languageId": "python"
    }
   },
   "outputs": [],
   "source": []
  },
  {
   "cell_type": "code",
   "execution_count": null,
   "metadata": {
    "vscode": {
     "languageId": "python"
    }
   },
   "outputs": [],
   "source": []
  },
  {
   "cell_type": "code",
   "execution_count": null,
   "metadata": {
    "vscode": {
     "languageId": "python"
    }
   },
   "outputs": [],
   "source": []
  },
  {
   "cell_type": "code",
   "execution_count": null,
   "metadata": {
    "vscode": {
     "languageId": "python"
    }
   },
   "outputs": [],
   "source": []
  },
  {
   "cell_type": "code",
   "execution_count": 17,
   "metadata": {
    "vscode": {
     "languageId": "python"
    }
   },
   "outputs": [],
   "source": [
    "problem = generate_problem_tp0()"
   ]
  },
  {
   "cell_type": "code",
   "execution_count": 18,
   "metadata": {
    "vscode": {
     "languageId": "python"
    }
   },
   "outputs": [
    {
     "data": {
      "text/plain": [
       "{'p': 357, 'n': 844, 'tp': 0, 'tn': 225, 'fp': 619, 'fn': 357}"
      ]
     },
     "execution_count": 18,
     "metadata": {},
     "output_type": "execute_result"
    }
   ],
   "source": [
    "problem"
   ]
  },
  {
   "cell_type": "code",
   "execution_count": 19,
   "metadata": {
    "vscode": {
     "languageId": "python"
    }
   },
   "outputs": [],
   "source": [
    "tmp = {}"
   ]
  },
  {
   "cell_type": "code",
   "execution_count": 21,
   "metadata": {
    "vscode": {
     "languageId": "python"
    }
   },
   "outputs": [],
   "source": [
    "solutions = load_solutions()"
   ]
  },
  {
   "cell_type": "code",
   "execution_count": 29,
   "metadata": {
    "vscode": {
     "languageId": "python"
    }
   },
   "outputs": [
    {
     "name": "stdout",
     "output_type": "stream",
     "text": [
      "('acc', 'sens')\n",
      "[{'tp': 0.0, 'tn': 225.0}]\n",
      "('acc', 'spec')\n",
      "[{'tn': 225.0, 'tp': 0.0}]\n",
      "('acc', 'ppv')\n",
      "[{'tp': 0.0, 'tn': 225.0}]\n",
      "('acc', 'npv')\n",
      "[{'tp': -3.1328475167604424e-14, 'tn': 225.00000000000006}]\n",
      "('acc', 'ba')\n",
      "[{'tp': -0.0, 'tn': 225.0}]\n",
      "('acc', 'f1p')\n",
      "[{'tp': 0.0, 'tn': 225.0}]\n",
      "('sens', 'spec')\n",
      "[{'tp': 0.0, 'tn': 225.0}]\n",
      "('ppv', 'sens')\n",
      "[{'tp': None, 'tn': None, 'message': 'zero division error', 'solution': {'ppv': 0.0}}]\n",
      "('npv', 'sens')\n",
      "[{'tp': 0.0, 'tn': 225.0}]\n",
      "('ba', 'sens')\n",
      "[{'tp': 0.0, 'tn': 225.0}]\n",
      "('f1p', 'sens')\n",
      "[{'tp': None, 'tn': None, 'message': 'zero division error', 'solution': {'f1p': 0.0}}]\n",
      "('ppv', 'spec')\n",
      "[{'tn': 225.0, 'tp': 0.0}]\n",
      "('npv', 'spec')\n",
      "[{'tn': 225.0, 'tp': 0.0}]\n",
      "('ba', 'spec')\n",
      "[{'tn': 225.0, 'tp': 0.0}]\n",
      "('f1p', 'spec')\n",
      "[{'tn': 225.0, 'tp': 0.0}]\n",
      "('npv', 'ppv')\n",
      "[{'tp': 0.0, 'tn': 225.0}]\n",
      "('ba', 'ppv')\n",
      "[{'tp': 0.0, 'tn': 225.0}]\n",
      "('f1p', 'ppv')\n",
      "[{'tp': None, 'tn': None, 'message': 'zero division error', 'solution': {'f1p - 2*ppv': 0.0}}]\n",
      "('ba', 'npv')\n",
      "[{'tp': -0.0, 'tn': 224.99999999999997}]\n",
      "('f1p', 'npv')\n",
      "[{'tp': 0.0, 'tn': 225.0}]\n",
      "('ba', 'f1p')\n",
      "[{'tp': 0.0, 'tn': 225.0}]\n"
     ]
    }
   ],
   "source": [
    "for key, sol in solutions.items():\n",
    "    print(key)\n",
    "    tmp = {}\n",
    "    tmp[sol.scores[0]['abbreviation']] = Score(symbols=symbols, **sol.scores[0]).function(**{arg: problem[arg] for arg in sol.scores[0]['args']})\n",
    "    tmp[sol.scores[1]['abbreviation']] = Score(symbols=symbols, **sol.scores[1]).function(**{arg: problem[arg] for arg in sol.scores[1]['args']})\n",
    "    solution = sol.evaluate({**tmp, **problem})\n",
    "    print(solution)"
   ]
  },
  {
   "cell_type": "code",
   "execution_count": null,
   "metadata": {
    "vscode": {
     "languageId": "python"
    }
   },
   "outputs": [
    {
     "name": "stdout",
     "output_type": "stream",
     "text": [
      "acc sens\n",
      "[{'tp': 0.0, 'tn': 224.0}]\n",
      "acc spec\n",
      "[{'tn': 224.0, 'tp': 0.0}]\n",
      "acc ppv\n",
      "[{'tp': 0.0, 'tn': 224.0}]\n",
      "acc npv\n",
      "[{'tp': 3.97789788614289e-14, 'tn': 223.99999999999994}]\n",
      "acc ba\n",
      "[{'tp': 0.0, 'tn': 224.0}]\n",
      "acc f1p\n",
      "[{'tp': 0.0, 'tn': 224.0}]\n",
      "sens spec\n",
      "[{'tp': 0.0, 'tn': 224.0}]\n",
      "sens ppv\n",
      "[{'tp': None, 'tn': None, 'message': 'zero division error', 'solution': {'ppv': 0.0}}]\n",
      "sens npv\n",
      "[{'tp': 0.0, 'tn': 223.99999999999997}]\n",
      "sens ba\n",
      "[{'tp': 0.0, 'tn': 224.0}]\n",
      "sens f1p\n",
      "[{'tp': None, 'tn': None, 'message': 'zero division error', 'solution': {'f1p': 0.0}}]\n",
      "spec ppv\n",
      "[{'tn': 224.0, 'tp': 0.0}]\n",
      "spec npv\n",
      "[{'tn': 224.0, 'tp': 0.0}]\n",
      "spec ba\n",
      "[{'tn': 224.0, 'tp': 0.0}]\n",
      "spec f1p\n",
      "[{'tn': 224.0, 'tp': 0.0}]\n",
      "ppv npv\n",
      "[{'tp': 0.0, 'tn': 223.99999999999997}]\n",
      "ppv ba\n",
      "[{'tp': 0.0, 'tn': 224.0}]\n",
      "ppv f1p\n",
      "[{'tp': None, 'tn': None, 'message': 'zero division error', 'solution': {'f1p - 2*ppv': 0.0}}]\n",
      "npv ba\n",
      "[{'tp': -0.0, 'tn': 223.99999999999986}]\n",
      "npv f1p\n",
      "[{'tp': 0.0, 'tn': 223.99999999999997}]\n",
      "ba f1p\n",
      "[{'tp': 0.0, 'tn': 224.0}]\n"
     ]
    }
   ],
   "source": [
    "#for sol in solutions:\n",
    "#    print(sol.score0.abbreviation, sol.score1.abbreviation)\n",
    "#    tmp = {}\n",
    "#    tmp[sol.score0.abbreviation] = sol.score0.function(**{arg: problem[arg] for arg in sol.score0.args})\n",
    "#    tmp[sol.score1.abbreviation] = sol.score1.function(**{arg: problem[arg] for arg in sol.score1.args})\n",
    "#    solution = Solutions(**sol.get_solution().to_dict()).evaluate({**tmp, **problem})\n",
    "#    print(solution)"
   ]
  },
  {
   "cell_type": "code",
   "execution_count": null,
   "metadata": {
    "vscode": {
     "languageId": "python"
    }
   },
   "outputs": [
    {
     "name": "stdout",
     "output_type": "stream",
     "text": [
      "acc sens\n",
      "[{'expressions': {'tp': 'p*sens', 'tn': 'acc*n + acc*p - p*sens'}, 'symbols': {'tp': ['sens', 'p'], 'tn': ['p', 'n', 'sens', 'acc']}}]\n",
      "acc spec\n",
      "[{'expressions': {'tn': 'n*spec', 'tp': 'acc*n + acc*p - n*spec'}, 'symbols': {'tn': ['spec', 'n'], 'tp': ['p', 'spec', 'n', 'acc']}}]\n",
      "acc ppv\n",
      "[{'expressions': {'tp': 'ppv*(acc*n + acc*p - n)/(2*ppv - 1)', 'tn': '(acc*n*ppv - acc*n + acc*p*ppv - acc*p + n*ppv)/(2*ppv - 1)'}, 'symbols': {'tp': ['p', 'acc', 'n', 'ppv'], 'tn': ['p', 'ppv', 'acc', 'n']}}]\n",
      "acc npv\n",
      "[{'expressions': {'tp': '(acc*(n + p)*(2*npv - 1) - npv*(acc*n + acc*p - p))/(2*npv - 1)', 'tn': 'npv*(acc*n + acc*p - p)/(2*npv - 1)'}, 'symbols': {'tp': ['acc', 'p', 'n', 'npv'], 'tn': ['p', 'npv', 'acc', 'n']}}]\n",
      "acc ba\n",
      "[{'expressions': {'tp': 'p*(acc*n + acc*p - 2*ba*n)/(-n + p)', 'tn': 'n*(acc*n + acc*p - 2*ba*p)/(n - p)'}, 'symbols': {'tp': ['p', 'ba', 'n', 'acc'], 'tn': ['p', 'ba', 'n', 'acc']}}]\n",
      "acc f1p\n",
      "[{'expressions': {'tp': 'f1p*(acc*n + acc*p - n - p)/(2*(f1p - 1))', 'tn': '(acc*f1p*n + acc*f1p*p - 2*acc*n - 2*acc*p + f1p*n + f1p*p)/(2*(f1p - 1))'}, 'symbols': {'tp': ['p', 'f1p', 'acc', 'n'], 'tn': ['p', 'acc', 'n', 'f1p']}}]\n",
      "sens spec\n",
      "[{'expressions': {'tp': 'p*sens', 'tn': 'n*spec'}, 'symbols': {'tp': ['sens', 'p'], 'tn': ['spec', 'n']}}]\n",
      "sens ppv\n",
      "[{'expressions': {'tp': 'p*sens', 'tn': 'n + p*sens - p*sens/ppv'}, 'symbols': {'tp': ['sens', 'p'], 'tn': ['p', 'n', 'sens', 'ppv']}}]\n",
      "sens npv\n",
      "[{'expressions': {'tp': 'p*sens', 'tn': 'npv*p*(sens - 1)/(npv - 1)'}, 'symbols': {'tp': ['sens', 'p'], 'tn': ['p', 'npv', 'sens']}}]\n",
      "sens ba\n",
      "[{'expressions': {'tp': 'p*sens', 'tn': 'n*(2*ba - sens)'}, 'symbols': {'tp': ['sens', 'p'], 'tn': ['ba', 'sens', 'n']}}]\n",
      "sens f1p\n",
      "[{'expressions': {'tp': 'p*sens', 'tn': 'n + p*sens + p - 2*p*sens/f1p'}, 'symbols': {'tp': ['sens', 'p'], 'tn': ['p', 'n', 'sens', 'f1p']}}]\n",
      "spec ppv\n",
      "[{'expressions': {'tn': 'n*spec', 'tp': 'n*ppv*(spec - 1)/(ppv - 1)'}, 'symbols': {'tn': ['spec', 'n'], 'tp': ['spec', 'n', 'ppv']}}]\n",
      "spec npv\n",
      "[{'expressions': {'tn': 'n*spec', 'tp': 'n*spec - n*spec/npv + p'}, 'symbols': {'tn': ['spec', 'n'], 'tp': ['p', 'spec', 'n', 'npv']}}]\n",
      "spec ba\n",
      "[{'expressions': {'tn': 'n*spec', 'tp': 'p*(2*ba - spec)'}, 'symbols': {'tn': ['spec', 'n'], 'tp': ['ba', 'p', 'spec']}}]\n",
      "spec f1p\n",
      "[{'expressions': {'tn': 'n*spec', 'tp': 'f1p*(n*spec - n - p)/(f1p - 2)'}, 'symbols': {'tn': ['spec', 'n'], 'tp': ['p', 'f1p', 'spec', 'n']}}]\n",
      "ppv npv\n",
      "[{'expressions': {'tp': 'ppv*(n*npv - n + npv*p)/(npv + ppv - 1)', 'tn': 'npv*(n*ppv + p*ppv - p)/(npv + ppv - 1)'}, 'symbols': {'tp': ['p', 'ppv', 'npv', 'n'], 'tn': ['p', 'ppv', 'npv', 'n']}}]\n",
      "ppv ba\n",
      "[{'expressions': {'tp': 'n*p*ppv*(2*ba - 1)/(n*ppv + p*ppv - p)', 'tn': 'n*(2*ba*p*ppv - 2*ba*p + n*ppv)/(n*ppv + p*ppv - p)'}, 'symbols': {'tp': ['p', 'ba', 'n', 'ppv'], 'tn': ['p', 'ba', 'ppv', 'n']}}]\n",
      "ppv f1p\n",
      "[{'expressions': {'tp': '-f1p*p*ppv/(f1p - 2*ppv)', 'tn': '(f1p*n - f1p*p*ppv + f1p*p - 2*n*ppv)/(f1p - 2*ppv)'}, 'symbols': {'tp': ['p', 'ppv', 'f1p'], 'tn': ['p', 'ppv', 'f1p', 'n']}}]\n",
      "npv ba\n",
      "[{'expressions': {'tp': 'p*(2*ba*n*npv - 2*ba*n + npv*p)/(n*npv - n + npv*p)', 'tn': 'n*npv*p*(2*ba - 1)/(n*npv - n + npv*p)'}, 'symbols': {'tp': ['p', 'ba', 'n', 'npv'], 'tn': ['p', 'ba', 'n', 'npv']}}]\n",
      "npv f1p\n",
      "[{'expressions': {'tp': 'f1p*(n*npv - n + 2*npv*p - p)/(f1p + 2*npv - 2)', 'tn': 'npv*(f1p*n + 2*f1p*p - 2*p)/(f1p + 2*npv - 2)'}, 'symbols': {'tp': ['p', 'f1p', 'n', 'npv'], 'tn': ['p', 'f1p', 'n', 'npv']}}]\n",
      "ba f1p\n",
      "[{'expressions': {'tp': 'f1p*p*(2*ba*n - n - p)/(f1p*n + f1p*p - 2*p)', 'tn': 'n*(2*ba*f1p*p - 4*ba*p + f1p*n + f1p*p)/(f1p*n + f1p*p - 2*p)'}, 'symbols': {'tp': ['p', 'ba', 'n', 'f1p'], 'tn': ['p', 'ba', 'n', 'f1p']}}]\n"
     ]
    }
   ],
   "source": [
    "for sol in solutions:\n",
    "    print(sol.score0.abbreviation, sol.score1.abbreviation)\n",
    "    print(sol.solutions)\n",
    "    print(sol.get_solution().to_dict())\n",
    "    print('')"
   ]
  },
  {
   "cell_type": "code",
   "execution_count": null,
   "metadata": {
    "vscode": {
     "languageId": "python"
    }
   },
   "outputs": [
    {
     "data": {
      "text/plain": [
       "{'ba': 0.4307692307692308, 'f1p': 0.0}"
      ]
     },
     "execution_count": 22,
     "metadata": {},
     "output_type": "execute_result"
    }
   ],
   "source": [
    "tmp"
   ]
  },
  {
   "cell_type": "code",
   "execution_count": null,
   "metadata": {
    "vscode": {
     "languageId": "python"
    }
   },
   "outputs": [
    {
     "data": {
      "text/plain": [
       "{'expressions': {'tp': 'p*sens', 'tn': 'acc*n + acc*p - p*sens'},\n",
       " 'symbols': {'tp': ['sens', 'p'], 'tn': ['p', 'n', 'sens', 'acc']}}"
      ]
     },
     "execution_count": 23,
     "metadata": {},
     "output_type": "execute_result"
    }
   ],
   "source": [
    "Solutions(**solutions[0].get_solution().to_dict()).solutions[0].solution"
   ]
  },
  {
   "cell_type": "code",
   "execution_count": null,
   "metadata": {
    "vscode": {
     "languageId": "python"
    }
   },
   "outputs": [
    {
     "ename": "KeyError",
     "evalue": "'sens'",
     "output_type": "error",
     "traceback": [
      "\u001b[0;31m---------------------------------------------------------------------------\u001b[0m",
      "\u001b[0;31mKeyError\u001b[0m                                  Traceback (most recent call last)",
      "Cell \u001b[0;32mIn[24], line 1\u001b[0m\n\u001b[0;32m----> 1\u001b[0m Solutions(\u001b[39m*\u001b[39;49m\u001b[39m*\u001b[39;49msolutions[Integer(\u001b[39m0\u001b[39;49m)]\u001b[39m.\u001b[39;49mget_solution()\u001b[39m.\u001b[39;49mto_dict())\u001b[39m.\u001b[39;49msolutions[Integer(\u001b[39m0\u001b[39;49m)]\u001b[39m.\u001b[39;49mevaluate({\u001b[39m*\u001b[39;49m\u001b[39m*\u001b[39;49mtmp, \u001b[39m*\u001b[39;49m\u001b[39m*\u001b[39;49mproblem})\n",
      "File \u001b[0;32m~/workspaces/mlscorecheck/mlscorecheck/core/_solver.py:168\u001b[0m, in \u001b[0;36mSolution.evaluate\u001b[0;34m(self, subs)\u001b[0m\n\u001b[1;32m    154\u001b[0m \u001b[39mdef\u001b[39;00m \u001b[39mevaluate\u001b[39m(\u001b[39mself\u001b[39m, subs):\n\u001b[1;32m    155\u001b[0m \u001b[39m    \u001b[39m\u001b[39m\"\"\"\u001b[39;00m\n\u001b[1;32m    156\u001b[0m \u001b[39m    Evaluate the solution with a substitution\u001b[39;00m\n\u001b[1;32m    157\u001b[0m \n\u001b[0;32m   (...)\u001b[0m\n\u001b[1;32m    166\u001b[0m \u001b[39m        NegativeBase: when the root of a negative number is taken\u001b[39;00m\n\u001b[1;32m    167\u001b[0m \u001b[39m    \"\"\"\u001b[39;00m\n\u001b[0;32m--> 168\u001b[0m     subs \u001b[39m=\u001b[39m {key: subs[key] \u001b[39mfor\u001b[39;00m key \u001b[39min\u001b[39;00m \u001b[39mself\u001b[39m\u001b[39m.\u001b[39mall_symbols}\n\u001b[1;32m    170\u001b[0m     non_zero \u001b[39m=\u001b[39m \u001b[39mself\u001b[39m\u001b[39m.\u001b[39mnon_zero_conditions(subs)\n\u001b[1;32m    172\u001b[0m     \u001b[39mif\u001b[39;00m non_zero:\n",
      "File \u001b[0;32m~/workspaces/mlscorecheck/mlscorecheck/core/_solver.py:168\u001b[0m, in \u001b[0;36m<dictcomp>\u001b[0;34m(.0)\u001b[0m\n\u001b[1;32m    154\u001b[0m \u001b[39mdef\u001b[39;00m \u001b[39mevaluate\u001b[39m(\u001b[39mself\u001b[39m, subs):\n\u001b[1;32m    155\u001b[0m \u001b[39m    \u001b[39m\u001b[39m\"\"\"\u001b[39;00m\n\u001b[1;32m    156\u001b[0m \u001b[39m    Evaluate the solution with a substitution\u001b[39;00m\n\u001b[1;32m    157\u001b[0m \n\u001b[0;32m   (...)\u001b[0m\n\u001b[1;32m    166\u001b[0m \u001b[39m        NegativeBase: when the root of a negative number is taken\u001b[39;00m\n\u001b[1;32m    167\u001b[0m \u001b[39m    \"\"\"\u001b[39;00m\n\u001b[0;32m--> 168\u001b[0m     subs \u001b[39m=\u001b[39m {key: subs[key] \u001b[39mfor\u001b[39;00m key \u001b[39min\u001b[39;00m \u001b[39mself\u001b[39m\u001b[39m.\u001b[39mall_symbols}\n\u001b[1;32m    170\u001b[0m     non_zero \u001b[39m=\u001b[39m \u001b[39mself\u001b[39m\u001b[39m.\u001b[39mnon_zero_conditions(subs)\n\u001b[1;32m    172\u001b[0m     \u001b[39mif\u001b[39;00m non_zero:\n",
      "\u001b[0;31mKeyError\u001b[0m: 'sens'"
     ]
    }
   ],
   "source": [
    "Solutions(**solutions[0].get_solution().to_dict()).solutions[0].evaluate({**tmp, **problem})"
   ]
  },
  {
   "cell_type": "code",
   "execution_count": null,
   "metadata": {
    "vscode": {
     "languageId": "python"
    }
   },
   "outputs": [
    {
     "data": {
      "text/plain": [
       "{'p': 448, 'n': 45, 'tp': 372, 'tn': 25, 'fp': 20, 'fn': 76}"
      ]
     },
     "execution_count": 20,
     "metadata": {},
     "output_type": "execute_result"
    }
   ],
   "source": [
    "problem"
   ]
  },
  {
   "cell_type": "code",
   "execution_count": null,
   "metadata": {
    "vscode": {
     "languageId": "python"
    }
   },
   "outputs": [],
   "source": []
  }
 ],
 "metadata": {
  "kernelspec": {
   "display_name": "SageMath 10.0",
   "language": "sage",
   "name": "sagemath"
  },
  "language_info": {
   "codemirror_mode": {
    "name": "ipython",
    "version": 3
   },
   "file_extension": ".py",
   "mimetype": "text/x-python",
   "name": "sage",
   "nbconvert_exporter": "python",
   "pygments_lexer": "ipython3",
   "version": "3.10.11"
  },
  "orig_nbformat": 4
 },
 "nbformat": 4,
 "nbformat_minor": 2
}
