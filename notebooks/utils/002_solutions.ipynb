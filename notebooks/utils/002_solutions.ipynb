{
 "cells": [
  {
   "cell_type": "code",
   "execution_count": 1,
   "metadata": {},
   "outputs": [],
   "source": [
    "import json"
   ]
  },
  {
   "cell_type": "code",
   "execution_count": 2,
   "metadata": {},
   "outputs": [],
   "source": [
    "from mlscorecheck.symbolic import get_base_objects, ProblemSolver\n",
    "from mlscorecheck.individual import Solution, Solutions"
   ]
  },
  {
   "cell_type": "code",
   "execution_count": 3,
   "metadata": {},
   "outputs": [],
   "source": [
    "from mlscorecheck.individual import load_solutions"
   ]
  },
  {
   "cell_type": "code",
   "execution_count": 4,
   "metadata": {},
   "outputs": [],
   "source": [
    "scores = get_base_objects(algebraic_system='sage')"
   ]
  },
  {
   "cell_type": "code",
   "execution_count": 5,
   "metadata": {},
   "outputs": [
    {
     "name": "stderr",
     "output_type": "stream",
     "text": [
      "2023-08-30 21:19:04,210:INFO:eq0 p*sens - tp\n",
      "2023-08-30 21:19:04,212:INFO:sym0 tp\n",
      "2023-08-30 21:19:04,480:INFO:v0s [{tp: p*sens}]\n",
      "2023-08-30 21:19:04,481:INFO:v0 {tp: p*sens}\n",
      "2023-08-30 21:19:04,482:INFO:{p, tn, tp, n, fm}\n",
      "2023-08-30 21:19:04,483:INFO:substitution -fm^2*n*p + fm^2*p*tn - fm^2*p*tp + tp^2 {tp: p*sens}\n",
      "2023-08-30 21:19:04,484:INFO:eq1tmp -fm^2*p^2*sens - fm^2*n*p + p^2*sens^2 + fm^2*p*tn\n",
      "2023-08-30 21:19:04,625:INFO:v1s [{tn: (fm^2*p*sens + fm^2*n - p*sens^2)/fm^2}]\n"
     ]
    },
    {
     "name": "stdout",
     "output_type": "stream",
     "text": [
      "[p, sens]\n",
      "[fm^2*p*sens + fm^2*n - p*sens^2, fm^(-2)]\n",
      "[fm^2, p, sens]\n",
      "[fm^2, n]\n",
      "[p, sens^2, -1]\n"
     ]
    }
   ],
   "source": [
    "ps = ProblemSolver(score0=scores['sens'], score1=scores['fm'])\n",
    "ps.solve()\n",
    "ps.edge_cases()"
   ]
  },
  {
   "cell_type": "code",
   "execution_count": 11,
   "metadata": {},
   "outputs": [
    {
     "name": "stderr",
     "output_type": "stream",
     "text": [
      "2023-08-30 21:19:05,021:INFO:eq0 p*sens - tp\n",
      "2023-08-30 21:19:05,023:INFO:sym0 tp\n",
      "2023-08-30 21:19:05,178:INFO:v0s [{tp: p*sens}]\n",
      "2023-08-30 21:19:05,179:INFO:v0 {tp: p*sens}\n",
      "2023-08-30 21:19:05,180:INFO:{p, acc, tn, tp, n}\n",
      "2023-08-30 21:19:05,181:INFO:substitution acc*n + acc*p - tn - tp {tp: p*sens}\n",
      "2023-08-30 21:19:05,182:INFO:eq1tmp acc*n + acc*p - p*sens - tn\n",
      "2023-08-30 21:19:05,322:INFO:v1s [{tn: acc*n + acc*p - p*sens}]\n",
      "2023-08-30 21:19:05,324:INFO:eq0 n*spec - tn\n",
      "2023-08-30 21:19:05,325:INFO:sym0 tn\n",
      "2023-08-30 21:19:05,470:INFO:v0s [{tn: n*spec}]\n",
      "2023-08-30 21:19:05,471:INFO:v0 {tn: n*spec}\n",
      "2023-08-30 21:19:05,472:INFO:{p, acc, tn, tp, n}\n",
      "2023-08-30 21:19:05,473:INFO:substitution acc*n + acc*p - tn - tp {tn: n*spec}\n",
      "2023-08-30 21:19:05,474:INFO:eq1tmp acc*n + acc*p - n*spec - tp\n"
     ]
    },
    {
     "name": "stdout",
     "output_type": "stream",
     "text": [
      "[p, sens]\n",
      "[acc, n]\n",
      "[acc, p]\n",
      "[p, sens, -1]\n"
     ]
    },
    {
     "name": "stderr",
     "output_type": "stream",
     "text": [
      "2023-08-30 21:19:05,621:INFO:v1s [{tp: acc*n + acc*p - n*spec}]\n",
      "2023-08-30 21:19:05,624:INFO:eq0 acc*n + acc*p - tn - tp\n",
      "2023-08-30 21:19:05,626:INFO:sym0 tp\n",
      "2023-08-30 21:19:05,801:INFO:v0s [{tp: acc*n + acc*p - tn}]\n",
      "2023-08-30 21:19:05,803:INFO:v0 {tp: acc*n + acc*p - tn}\n",
      "2023-08-30 21:19:05,804:INFO:{ppv, tn, tp, n}\n",
      "2023-08-30 21:19:05,806:INFO:substitution n*ppv - ppv*tn + ppv*tp - tp {tp: acc*n + acc*p - tn}\n",
      "2023-08-30 21:19:05,807:INFO:eq1tmp -acc*n - acc*p + (acc*n + acc*p - tn)*ppv + n*ppv - ppv*tn + tn\n"
     ]
    },
    {
     "name": "stdout",
     "output_type": "stream",
     "text": [
      "[n, spec]\n",
      "[acc, n]\n",
      "[acc, p]\n",
      "[n, spec, -1]\n"
     ]
    },
    {
     "name": "stderr",
     "output_type": "stream",
     "text": [
      "2023-08-30 21:19:05,991:INFO:v1s [{tn: (acc*n*ppv + acc*p*ppv - acc*n - acc*p + n*ppv)/(2*ppv - 1)}]\n",
      "2023-08-30 21:19:05,996:INFO:eq0 acc*n + acc*p - tn - tp\n",
      "2023-08-30 21:19:05,997:INFO:sym0 tp\n",
      "2023-08-30 21:19:06,136:INFO:v0s [{tp: acc*n + acc*p - tn}]\n",
      "2023-08-30 21:19:06,137:INFO:v0 {tp: acc*n + acc*p - tn}\n",
      "2023-08-30 21:19:06,138:INFO:{p, tp, tn, npv}\n",
      "2023-08-30 21:19:06,139:INFO:substitution npv*p + npv*tn - npv*tp - tn {tp: acc*n + acc*p - tn}\n",
      "2023-08-30 21:19:06,140:INFO:eq1tmp -(acc*n + acc*p - tn)*npv + npv*p + npv*tn - tn\n"
     ]
    },
    {
     "name": "stdout",
     "output_type": "stream",
     "text": [
      "[acc*n + acc*p - n, 1/(2*ppv - 1), ppv]\n",
      "[acc, n]\n",
      "[acc, p]\n",
      "[n, -1]\n",
      "[ppv, 2]\n",
      "[acc*n*ppv + acc*p*ppv - acc*n - acc*p + n*ppv, 1/(2*ppv - 1)]\n",
      "[ppv, 2]\n",
      "[acc, n, ppv]\n",
      "[acc, p, ppv]\n",
      "[acc, n, -1]\n",
      "[acc, p, -1]\n",
      "[n, ppv]\n"
     ]
    },
    {
     "name": "stderr",
     "output_type": "stream",
     "text": [
      "2023-08-30 21:19:06,256:INFO:v1s [{tn: (acc*n + acc*p - p)*npv/(2*npv - 1)}]\n",
      "2023-08-30 21:19:06,260:INFO:eq0 acc*n + acc*p - tn - tp\n",
      "2023-08-30 21:19:06,260:INFO:sym0 tp\n",
      "2023-08-30 21:19:06,369:INFO:v0s [{tp: acc*n + acc*p - tn}]\n",
      "2023-08-30 21:19:06,370:INFO:v0 {tp: acc*n + acc*p - tn}\n",
      "2023-08-30 21:19:06,371:INFO:{p, tn, tp, n, bacc}\n",
      "2023-08-30 21:19:06,372:INFO:substitution 2*bacc*n*p - p*tn - n*tp {tp: acc*n + acc*p - tn}\n",
      "2023-08-30 21:19:06,372:INFO:eq1tmp 2*bacc*n*p - (acc*n + acc*p - tn)*n - p*tn\n"
     ]
    },
    {
     "name": "stdout",
     "output_type": "stream",
     "text": [
      "[acc*n*npv + acc*npv*p - acc*n - acc*p + npv*p, 1/(2*npv - 1)]\n",
      "[npv, 2]\n",
      "[acc, n, npv]\n",
      "[acc, npv, p]\n",
      "[acc, n, -1]\n",
      "[acc, p, -1]\n",
      "[npv, p]\n",
      "[acc*n + acc*p - p, 1/(2*npv - 1), npv]\n",
      "[acc, n]\n",
      "[acc, p]\n",
      "[p, -1]\n",
      "[npv, 2]\n"
     ]
    },
    {
     "name": "stderr",
     "output_type": "stream",
     "text": [
      "2023-08-30 21:19:06,483:INFO:v1s [{tn: (acc*n + acc*p - 2*bacc*p)*n/(n - p)}]\n",
      "2023-08-30 21:19:06,487:INFO:eq0 acc*n + acc*p - tn - tp\n",
      "2023-08-30 21:19:06,488:INFO:sym0 tp\n",
      "2023-08-30 21:19:06,612:INFO:v0s [{tp: acc*n + acc*p - tn}]\n",
      "2023-08-30 21:19:06,614:INFO:v0 {tp: acc*n + acc*p - tn}\n",
      "2023-08-30 21:19:06,616:INFO:{p, f1p, tn, tp, n}\n",
      "2023-08-30 21:19:06,617:INFO:substitution f1p*n + f1p*p - f1p*tn + f1p*tp - 2*tp {tp: acc*n + acc*p - tn}\n",
      "2023-08-30 21:19:06,617:INFO:eq1tmp (acc*n + acc*p - tn)*f1p - 2*acc*n + f1p*n - 2*acc*p + f1p*p - f1p*tn + 2*tn\n"
     ]
    },
    {
     "name": "stdout",
     "output_type": "stream",
     "text": [
      "[acc*n - 2*bacc*n + acc*p, 1/(n - p), p, -1]\n",
      "[acc, n]\n",
      "[bacc, n, -2]\n",
      "[acc, p]\n",
      "[p, -1]\n",
      "[acc*n + acc*p - 2*bacc*p, 1/(n - p), n]\n",
      "[acc, n]\n",
      "[acc, p]\n",
      "[bacc, p, -2]\n",
      "[p, -1]\n"
     ]
    },
    {
     "name": "stderr",
     "output_type": "stream",
     "text": [
      "2023-08-30 21:19:06,759:INFO:v1s [{tn: 1/2*(acc*f1p - 2*acc + f1p)*(n + p)/(f1p - 1)}]\n",
      "2023-08-30 21:19:06,766:INFO:eq0 acc*n + acc*p - tn - tp\n",
      "2023-08-30 21:19:06,767:INFO:sym0 tp\n",
      "2023-08-30 21:19:06,899:INFO:v0s [{tp: acc*n + acc*p - tn}]\n",
      "2023-08-30 21:19:06,901:INFO:v0 {tp: acc*n + acc*p - tn}\n",
      "2023-08-30 21:19:06,902:INFO:{p, tn, tp, n, fm}\n",
      "2023-08-30 21:19:06,903:INFO:substitution -fm^2*n*p + fm^2*p*tn - fm^2*p*tp + tp^2 {tp: acc*n + acc*p - tn}\n",
      "2023-08-30 21:19:06,905:INFO:eq1tmp -(acc*n + acc*p - tn)*fm^2*p - fm^2*n*p + fm^2*p*tn + (acc*n + acc*p - tn)^2\n"
     ]
    },
    {
     "name": "stdout",
     "output_type": "stream",
     "text": [
      "[acc - 1, 1/(f1p - 1), f1p, n + p, 1/2]\n",
      "[acc*f1p - 2*acc + f1p, 1/(f1p - 1), n + p, 1/2]\n",
      "[acc, f1p]\n",
      "[acc, -2]\n"
     ]
    },
    {
     "name": "stderr",
     "output_type": "stream",
     "text": [
      "2023-08-30 21:19:07,329:INFO:v1s [{tn: -fm^2*p + acc*n + acc*p - sqrt(-((acc - 1)*n - (fm^2 - acc)*p)*p)*fm}, {tn: -fm^2*p + acc*n + acc*p + sqrt(-((acc - 1)*n - (fm^2 - acc)*p)*p)*fm}]\n",
      "2023-08-30 21:19:07,392:INFO:eq0 p*sens - tp\n",
      "2023-08-30 21:19:07,394:INFO:sym0 tp\n",
      "2023-08-30 21:19:07,537:INFO:v0s [{tp: p*sens}]\n",
      "2023-08-30 21:19:07,538:INFO:v0 {tp: p*sens}\n",
      "2023-08-30 21:19:07,539:INFO:{tn, n, spec}\n",
      "2023-08-30 21:19:07,540:INFO:eq1tmp n*spec - tn\n"
     ]
    },
    {
     "name": "stdout",
     "output_type": "stream",
     "text": [
      "[fm*p + sqrt(-((acc - 1)*n - (fm^2 - acc)*p)*p), fm]\n",
      "[fm, p]\n",
      "[acc - 1, n]\n",
      "[fm^2 - acc, p, -1]\n",
      "[acc, -1]\n",
      "[fm^2, p, -1]\n",
      "[acc, n]\n",
      "[acc, p]\n",
      "[sqrt(-((acc - 1)*n - (fm^2 - acc)*p)*p), fm, -1]\n",
      "[acc - 1, n]\n",
      "[fm^2 - acc, p, -1]\n",
      "[acc, -1]\n",
      "[fm*p - sqrt(-((acc - 1)*n - (fm^2 - acc)*p)*p), fm]\n",
      "[fm, p]\n",
      "[sqrt(-((acc - 1)*n - (fm^2 - acc)*p)*p), -1]\n",
      "[acc - 1, n]\n",
      "[fm^2 - acc, p, -1]\n",
      "[acc, -1]\n",
      "[fm^2, p, -1]\n",
      "[acc, n]\n",
      "[acc, p]\n",
      "[sqrt(-((acc - 1)*n - (fm^2 - acc)*p)*p), fm]\n",
      "[acc - 1, n]\n",
      "[fm^2 - acc, p, -1]\n",
      "[acc, -1]\n"
     ]
    },
    {
     "name": "stderr",
     "output_type": "stream",
     "text": [
      "2023-08-30 21:19:07,691:INFO:v1s [{tn: n*spec}]\n",
      "2023-08-30 21:19:07,693:INFO:eq0 p*sens - tp\n",
      "2023-08-30 21:19:07,694:INFO:sym0 tp\n",
      "2023-08-30 21:19:07,844:INFO:v0s [{tp: p*sens}]\n",
      "2023-08-30 21:19:07,846:INFO:v0 {tp: p*sens}\n",
      "2023-08-30 21:19:07,846:INFO:{ppv, tn, tp, n}\n",
      "2023-08-30 21:19:07,848:INFO:substitution n*ppv - ppv*tn + ppv*tp - tp {tp: p*sens}\n",
      "2023-08-30 21:19:07,849:INFO:eq1tmp p*ppv*sens + n*ppv - p*sens - ppv*tn\n"
     ]
    },
    {
     "name": "stdout",
     "output_type": "stream",
     "text": [
      "[p, sens]\n",
      "[n, spec]\n"
     ]
    },
    {
     "name": "stderr",
     "output_type": "stream",
     "text": [
      "2023-08-30 21:19:08,017:INFO:v1s [{tn: (p*ppv*sens + n*ppv - p*sens)/ppv}]\n",
      "2023-08-30 21:19:08,020:INFO:eq0 p*sens - tp\n",
      "2023-08-30 21:19:08,021:INFO:sym0 tp\n",
      "2023-08-30 21:19:08,164:INFO:v0s [{tp: p*sens}]\n",
      "2023-08-30 21:19:08,165:INFO:v0 {tp: p*sens}\n",
      "2023-08-30 21:19:08,166:INFO:{p, tp, tn, npv}\n",
      "2023-08-30 21:19:08,167:INFO:substitution npv*p + npv*tn - npv*tp - tn {tp: p*sens}\n",
      "2023-08-30 21:19:08,169:INFO:eq1tmp -npv*p*sens + npv*p + npv*tn - tn\n"
     ]
    },
    {
     "name": "stdout",
     "output_type": "stream",
     "text": [
      "[p, sens]\n",
      "[p*ppv*sens + n*ppv - p*sens, 1/ppv]\n",
      "[p, ppv, sens]\n",
      "[n, ppv]\n",
      "[p, sens, -1]\n"
     ]
    },
    {
     "name": "stderr",
     "output_type": "stream",
     "text": [
      "2023-08-30 21:19:08,362:INFO:v1s [{tn: npv*p*(sens - 1)/(npv - 1)}]\n",
      "2023-08-30 21:19:08,365:INFO:eq0 p*sens - tp\n",
      "2023-08-30 21:19:08,366:INFO:sym0 tp\n",
      "2023-08-30 21:19:08,523:INFO:v0s [{tp: p*sens}]\n",
      "2023-08-30 21:19:08,524:INFO:v0 {tp: p*sens}\n",
      "2023-08-30 21:19:08,525:INFO:{p, tn, tp, n, bacc}\n",
      "2023-08-30 21:19:08,526:INFO:substitution 2*bacc*n*p - p*tn - n*tp {tp: p*sens}\n",
      "2023-08-30 21:19:08,526:INFO:eq1tmp 2*bacc*n*p - n*p*sens - p*tn\n"
     ]
    },
    {
     "name": "stdout",
     "output_type": "stream",
     "text": [
      "[p, sens]\n",
      "[1/(npv - 1), npv, p, sens - 1]\n"
     ]
    },
    {
     "name": "stderr",
     "output_type": "stream",
     "text": [
      "2023-08-30 21:19:08,672:INFO:v1s [{tn: (2*bacc - sens)*n}]\n",
      "2023-08-30 21:19:08,674:INFO:eq0 p*sens - tp\n",
      "2023-08-30 21:19:08,675:INFO:sym0 tp\n",
      "2023-08-30 21:19:08,846:INFO:v0s [{tp: p*sens}]\n",
      "2023-08-30 21:19:08,848:INFO:v0 {tp: p*sens}\n",
      "2023-08-30 21:19:08,850:INFO:{p, f1p, tn, tp, n}\n",
      "2023-08-30 21:19:08,851:INFO:substitution f1p*n + f1p*p - f1p*tn + f1p*tp - 2*tp {tp: p*sens}\n",
      "2023-08-30 21:19:08,853:INFO:eq1tmp f1p*p*sens + f1p*n + f1p*p - 2*p*sens - f1p*tn\n"
     ]
    },
    {
     "name": "stdout",
     "output_type": "stream",
     "text": [
      "[p, sens]\n",
      "[2*bacc - sens, n]\n",
      "[bacc, 2]\n",
      "[sens, -1]\n"
     ]
    },
    {
     "name": "stderr",
     "output_type": "stream",
     "text": [
      "2023-08-30 21:19:09,210:INFO:v1s [{tn: (f1p*p*sens + f1p*n + f1p*p - 2*p*sens)/f1p}]\n",
      "2023-08-30 21:19:09,218:INFO:eq0 p*sens - tp\n",
      "2023-08-30 21:19:09,225:INFO:sym0 tp\n"
     ]
    },
    {
     "name": "stdout",
     "output_type": "stream",
     "text": [
      "[p, sens]\n",
      "[f1p*p*sens + f1p*n + f1p*p - 2*p*sens, 1/f1p]\n",
      "[f1p, p, sens]\n",
      "[f1p, n]\n",
      "[f1p, p]\n",
      "[p, sens, -2]\n"
     ]
    },
    {
     "name": "stderr",
     "output_type": "stream",
     "text": [
      "2023-08-30 21:19:09,542:INFO:v0s [{tp: p*sens}]\n",
      "2023-08-30 21:19:09,544:INFO:v0 {tp: p*sens}\n",
      "2023-08-30 21:19:09,546:INFO:{p, tn, tp, n, fm}\n",
      "2023-08-30 21:19:09,547:INFO:substitution -fm^2*n*p + fm^2*p*tn - fm^2*p*tp + tp^2 {tp: p*sens}\n",
      "2023-08-30 21:19:09,548:INFO:eq1tmp -fm^2*p^2*sens - fm^2*n*p + p^2*sens^2 + fm^2*p*tn\n",
      "2023-08-30 21:19:09,757:INFO:v1s [{tn: (fm^2*p*sens + fm^2*n - p*sens^2)/fm^2}]\n",
      "2023-08-30 21:19:09,762:INFO:eq0 n*spec - tn\n",
      "2023-08-30 21:19:09,763:INFO:sym0 tn\n",
      "2023-08-30 21:19:09,932:INFO:v0s [{tn: n*spec}]\n",
      "2023-08-30 21:19:09,933:INFO:v0 {tn: n*spec}\n",
      "2023-08-30 21:19:09,934:INFO:{ppv, tn, tp, n}\n",
      "2023-08-30 21:19:09,935:INFO:substitution n*ppv - ppv*tn + ppv*tp - tp {tn: n*spec}\n",
      "2023-08-30 21:19:09,936:INFO:eq1tmp -n*ppv*spec + n*ppv + ppv*tp - tp\n"
     ]
    },
    {
     "name": "stdout",
     "output_type": "stream",
     "text": [
      "[p, sens]\n",
      "[fm^2*p*sens + fm^2*n - p*sens^2, fm^(-2)]\n",
      "[fm^2, p, sens]\n",
      "[fm^2, n]\n",
      "[p, sens^2, -1]\n"
     ]
    },
    {
     "name": "stderr",
     "output_type": "stream",
     "text": [
      "2023-08-30 21:19:10,122:INFO:v1s [{tp: n*ppv*(spec - 1)/(ppv - 1)}]\n",
      "2023-08-30 21:19:10,125:INFO:eq0 n*spec - tn\n",
      "2023-08-30 21:19:10,126:INFO:sym0 tn\n",
      "2023-08-30 21:19:10,314:INFO:v0s [{tn: n*spec}]\n",
      "2023-08-30 21:19:10,316:INFO:v0 {tn: n*spec}\n",
      "2023-08-30 21:19:10,317:INFO:{p, tp, tn, npv}\n",
      "2023-08-30 21:19:10,318:INFO:substitution npv*p + npv*tn - npv*tp - tn {tn: n*spec}\n",
      "2023-08-30 21:19:10,320:INFO:eq1tmp n*npv*spec + npv*p - n*spec - npv*tp\n"
     ]
    },
    {
     "name": "stdout",
     "output_type": "stream",
     "text": [
      "[n, spec]\n",
      "[n, 1/(ppv - 1), ppv, spec - 1]\n"
     ]
    },
    {
     "name": "stderr",
     "output_type": "stream",
     "text": [
      "2023-08-30 21:19:10,497:INFO:v1s [{tp: (n*npv*spec + npv*p - n*spec)/npv}]\n",
      "2023-08-30 21:19:10,500:INFO:eq0 n*spec - tn\n",
      "2023-08-30 21:19:10,501:INFO:sym0 tn\n",
      "2023-08-30 21:19:10,652:INFO:v0s [{tn: n*spec}]\n",
      "2023-08-30 21:19:10,653:INFO:v0 {tn: n*spec}\n",
      "2023-08-30 21:19:10,654:INFO:{p, tn, tp, n, bacc}\n",
      "2023-08-30 21:19:10,656:INFO:substitution 2*bacc*n*p - p*tn - n*tp {tn: n*spec}\n",
      "2023-08-30 21:19:10,657:INFO:eq1tmp 2*bacc*n*p - n*p*spec - n*tp\n"
     ]
    },
    {
     "name": "stdout",
     "output_type": "stream",
     "text": [
      "[n, spec]\n",
      "[n*npv*spec + npv*p - n*spec, 1/npv]\n",
      "[n, npv, spec]\n",
      "[npv, p]\n",
      "[n, spec, -1]\n"
     ]
    },
    {
     "name": "stderr",
     "output_type": "stream",
     "text": [
      "2023-08-30 21:19:10,805:INFO:v1s [{tp: (2*bacc - spec)*p}]\n",
      "2023-08-30 21:19:10,808:INFO:eq0 n*spec - tn\n",
      "2023-08-30 21:19:10,808:INFO:sym0 tn\n",
      "2023-08-30 21:19:10,927:INFO:v0s [{tn: n*spec}]\n",
      "2023-08-30 21:19:10,927:INFO:v0 {tn: n*spec}\n",
      "2023-08-30 21:19:10,929:INFO:{p, f1p, tn, tp, n}\n",
      "2023-08-30 21:19:10,929:INFO:substitution f1p*n + f1p*p - f1p*tn + f1p*tp - 2*tp {tn: n*spec}\n",
      "2023-08-30 21:19:10,931:INFO:eq1tmp -f1p*n*spec + f1p*n + f1p*p + f1p*tp - 2*tp\n"
     ]
    },
    {
     "name": "stdout",
     "output_type": "stream",
     "text": [
      "[n, spec]\n",
      "[2*bacc - spec, p]\n",
      "[bacc, 2]\n",
      "[spec, -1]\n"
     ]
    },
    {
     "name": "stderr",
     "output_type": "stream",
     "text": [
      "2023-08-30 21:19:11,052:INFO:v1s [{tp: (n*spec - n - p)*f1p/(f1p - 2)}]\n",
      "2023-08-30 21:19:11,055:INFO:eq0 n*spec - tn\n",
      "2023-08-30 21:19:11,056:INFO:sym0 tn\n",
      "2023-08-30 21:19:11,159:INFO:v0s [{tn: n*spec}]\n",
      "2023-08-30 21:19:11,160:INFO:v0 {tn: n*spec}\n",
      "2023-08-30 21:19:11,161:INFO:{p, tn, tp, n, fm}\n",
      "2023-08-30 21:19:11,162:INFO:substitution -fm^2*n*p + fm^2*p*tn - fm^2*p*tp + tp^2 {tn: n*spec}\n",
      "2023-08-30 21:19:11,162:INFO:eq1tmp fm^2*n*p*spec - fm^2*n*p - fm^2*p*tp + tp^2\n"
     ]
    },
    {
     "name": "stdout",
     "output_type": "stream",
     "text": [
      "[n, spec]\n",
      "[n*spec - n - p, 1/(f1p - 2), f1p]\n",
      "[n, spec]\n",
      "[n, -1]\n",
      "[p, -1]\n"
     ]
    },
    {
     "name": "stderr",
     "output_type": "stream",
     "text": [
      "2023-08-30 21:19:11,377:INFO:v1s [{tp: 1/2*(fm*p - sqrt((fm^2*p - 4*n*spec + 4*n)*p))*fm}, {tp: 1/2*(fm*p + sqrt((fm^2*p - 4*n*spec + 4*n)*p))*fm}]\n",
      "2023-08-30 21:19:11,391:INFO:eq0 n*ppv - ppv*tn + ppv*tp - tp\n",
      "2023-08-30 21:19:11,392:INFO:sym0 tp\n",
      "2023-08-30 21:19:11,488:INFO:v0s [{tp: -(n - tn)*ppv/(ppv - 1)}]\n",
      "2023-08-30 21:19:11,489:INFO:v0 {tp: -(n - tn)*ppv/(ppv - 1)}\n",
      "2023-08-30 21:19:11,490:INFO:{p, tp, tn, npv}\n",
      "2023-08-30 21:19:11,491:INFO:substitution npv*p + npv*tn - npv*tp - tn {tp: -(n - tn)*ppv/(ppv - 1)}\n",
      "2023-08-30 21:19:11,491:INFO:eq1tmp npv*p + (n - tn)*npv*ppv/(ppv - 1) + npv*tn - tn\n",
      "2023-08-30 21:19:11,582:INFO:v1s [{tn: (n*ppv + p*ppv - p)*npv/(npv + ppv - 1)}]\n",
      "2023-08-30 21:19:11,586:INFO:eq0 n*ppv - ppv*tn + ppv*tp - tp\n",
      "2023-08-30 21:19:11,587:INFO:sym0 tp\n"
     ]
    },
    {
     "name": "stdout",
     "output_type": "stream",
     "text": [
      "[n, spec]\n",
      "[fm*p - sqrt((fm^2*p - 4*n*spec + 4*n)*p), fm, 1/2]\n",
      "[fm, p]\n",
      "[sqrt((fm^2*p - 4*n*spec + 4*n)*p), -1]\n",
      "[fm^2, p]\n",
      "[n, spec, -4]\n",
      "[n, 4]\n",
      "[n, spec]\n",
      "[fm*p + sqrt((fm^2*p - 4*n*spec + 4*n)*p), fm, 1/2]\n",
      "[fm, p]\n",
      "[fm^2, p]\n",
      "[n, spec, -4]\n",
      "[n, 4]\n",
      "[n*npv + npv*p - n, 1/(npv + ppv - 1), ppv]\n",
      "[n, npv]\n",
      "[npv, p]\n",
      "[n, -1]\n",
      "[n*ppv + p*ppv - p, 1/(npv + ppv - 1), npv]\n",
      "[n, ppv]\n",
      "[p, ppv]\n",
      "[p, -1]\n"
     ]
    },
    {
     "name": "stderr",
     "output_type": "stream",
     "text": [
      "2023-08-30 21:19:11,688:INFO:v0s [{tp: -(n - tn)*ppv/(ppv - 1)}]\n",
      "2023-08-30 21:19:11,689:INFO:v0 {tp: -(n - tn)*ppv/(ppv - 1)}\n",
      "2023-08-30 21:19:11,690:INFO:{p, tn, tp, n, bacc}\n",
      "2023-08-30 21:19:11,691:INFO:substitution 2*bacc*n*p - p*tn - n*tp {tp: -(n - tn)*ppv/(ppv - 1)}\n",
      "2023-08-30 21:19:11,691:INFO:eq1tmp 2*bacc*n*p + (n - tn)*n*ppv/(ppv - 1) - p*tn\n",
      "2023-08-30 21:19:11,790:INFO:v1s [{tn: (2*bacc*p*ppv - 2*bacc*p + n*ppv)*n/(n*ppv + p*ppv - p)}]\n",
      "2023-08-30 21:19:11,795:INFO:eq0 n*ppv - ppv*tn + ppv*tp - tp\n",
      "2023-08-30 21:19:11,796:INFO:sym0 tp\n",
      "2023-08-30 21:19:11,883:INFO:v0s [{tp: -(n - tn)*ppv/(ppv - 1)}]\n",
      "2023-08-30 21:19:11,884:INFO:v0 {tp: -(n - tn)*ppv/(ppv - 1)}\n",
      "2023-08-30 21:19:11,885:INFO:{p, f1p, tn, tp, n}\n",
      "2023-08-30 21:19:11,885:INFO:substitution f1p*n + f1p*p - f1p*tn + f1p*tp - 2*tp {tp: -(n - tn)*ppv/(ppv - 1)}\n",
      "2023-08-30 21:19:11,886:INFO:eq1tmp f1p*n + f1p*p - f1p*(n - tn)*ppv/(ppv - 1) - f1p*tn + 2*(n - tn)*ppv/(ppv - 1)\n",
      "2023-08-30 21:19:11,989:INFO:v1s [{tn: -(f1p*p*ppv - f1p*n - f1p*p + 2*n*ppv)/(f1p - 2*ppv)}]\n",
      "2023-08-30 21:19:11,992:INFO:eq0 n*ppv - ppv*tn + ppv*tp - tp\n",
      "2023-08-30 21:19:11,993:INFO:sym0 tp\n"
     ]
    },
    {
     "name": "stdout",
     "output_type": "stream",
     "text": [
      "[1/(n*ppv + p*ppv - p), 2*bacc - 1, n, p, ppv]\n",
      "[n, ppv]\n",
      "[p, ppv]\n",
      "[p, -1]\n",
      "[bacc, 2]\n",
      "[2*bacc*p*ppv - 2*bacc*p + n*ppv, 1/(n*ppv + p*ppv - p), n]\n",
      "[bacc, p, ppv, 2]\n",
      "[bacc, p, -2]\n",
      "[n, ppv]\n",
      "[n, ppv]\n",
      "[p, ppv]\n",
      "[p, -1]\n",
      "[1/(f1p - 2*ppv), f1p, p, ppv, -1]\n",
      "[ppv, -2]\n",
      "[f1p*p*ppv - f1p*n - f1p*p + 2*n*ppv, 1/(f1p - 2*ppv), -1]\n",
      "[f1p, p, ppv]\n",
      "[f1p, n, -1]\n",
      "[f1p, p, -1]\n",
      "[n, ppv, 2]\n",
      "[ppv, -2]\n"
     ]
    },
    {
     "name": "stderr",
     "output_type": "stream",
     "text": [
      "2023-08-30 21:19:12,101:INFO:v0s [{tp: -(n - tn)*ppv/(ppv - 1)}]\n",
      "2023-08-30 21:19:12,102:INFO:v0 {tp: -(n - tn)*ppv/(ppv - 1)}\n",
      "2023-08-30 21:19:12,103:INFO:{p, tn, tp, n, fm}\n",
      "2023-08-30 21:19:12,104:INFO:substitution -fm^2*n*p + fm^2*p*tn - fm^2*p*tp + tp^2 {tp: -(n - tn)*ppv/(ppv - 1)}\n",
      "2023-08-30 21:19:12,105:INFO:eq1tmp -fm^2*n*p + fm^2*(n - tn)*p*ppv/(ppv - 1) + fm^2*p*tn + (n - tn)^2*ppv^2/(ppv - 1)^2\n",
      "2023-08-30 21:19:12,304:INFO:v1s [{tn: (fm^2*p*ppv - fm^2*p + n*ppv^2)/ppv^2}, {tn: n}]\n",
      "2023-08-30 21:19:12,308:INFO:eq0 npv*p + npv*tn - npv*tp - tn\n",
      "2023-08-30 21:19:12,309:INFO:sym0 tp\n",
      "2023-08-30 21:19:12,406:INFO:v0s [{tp: (npv*p + npv*tn - tn)/npv}]\n",
      "2023-08-30 21:19:12,407:INFO:v0 {tp: (npv*p + npv*tn - tn)/npv}\n",
      "2023-08-30 21:19:12,407:INFO:{p, tn, tp, n, bacc}\n",
      "2023-08-30 21:19:12,408:INFO:substitution 2*bacc*n*p - p*tn - n*tp {tp: (npv*p + npv*tn - tn)/npv}\n",
      "2023-08-30 21:19:12,409:INFO:eq1tmp 2*bacc*n*p - p*tn - (npv*p + npv*tn - tn)*n/npv\n",
      "2023-08-30 21:19:12,509:INFO:v1s [{tn: (2*bacc - 1)*n*npv*p/(n*npv + npv*p - n)}]\n"
     ]
    },
    {
     "name": "stdout",
     "output_type": "stream",
     "text": [
      "[fm^2, p, 1/ppv]\n",
      "[fm^2*p*ppv - fm^2*p + n*ppv^2, ppv^(-2)]\n",
      "[fm^2, p, ppv]\n",
      "[fm^2, p, -1]\n",
      "[n, ppv^2]\n"
     ]
    },
    {
     "name": "stderr",
     "output_type": "stream",
     "text": [
      "2023-08-30 21:19:12,514:INFO:eq0 npv*p + npv*tn - npv*tp - tn\n",
      "2023-08-30 21:19:12,514:INFO:sym0 tp\n",
      "2023-08-30 21:19:12,605:INFO:v0s [{tp: (npv*p + npv*tn - tn)/npv}]\n",
      "2023-08-30 21:19:12,606:INFO:v0 {tp: (npv*p + npv*tn - tn)/npv}\n",
      "2023-08-30 21:19:12,607:INFO:{p, f1p, tn, tp, n}\n",
      "2023-08-30 21:19:12,608:INFO:substitution f1p*n + f1p*p - f1p*tn + f1p*tp - 2*tp {tp: (npv*p + npv*tn - tn)/npv}\n",
      "2023-08-30 21:19:12,609:INFO:eq1tmp f1p*n + f1p*p - f1p*tn + (npv*p + npv*tn - tn)*f1p/npv - 2*(npv*p + npv*tn - tn)/npv\n",
      "2023-08-30 21:19:12,708:INFO:v1s [{tn: (f1p*n + 2*f1p*p - 2*p)*npv/(f1p + 2*npv - 2)}]\n"
     ]
    },
    {
     "name": "stdout",
     "output_type": "stream",
     "text": [
      "[2*bacc*n*npv - 2*bacc*n + npv*p, 1/(n*npv + npv*p - n), p]\n",
      "[bacc, n, npv, 2]\n",
      "[bacc, n, -2]\n",
      "[npv, p]\n",
      "[n, npv]\n",
      "[npv, p]\n",
      "[n, -1]\n",
      "[1/(n*npv + npv*p - n), 2*bacc - 1, n, npv, p]\n",
      "[n, npv]\n",
      "[npv, p]\n",
      "[n, -1]\n",
      "[bacc, 2]\n"
     ]
    },
    {
     "name": "stderr",
     "output_type": "stream",
     "text": [
      "2023-08-30 21:19:12,719:INFO:eq0 npv*p + npv*tn - npv*tp - tn\n",
      "2023-08-30 21:19:12,720:INFO:sym0 tp\n",
      "2023-08-30 21:19:12,835:INFO:v0s [{tp: (npv*p + npv*tn - tn)/npv}]\n",
      "2023-08-30 21:19:12,836:INFO:v0 {tp: (npv*p + npv*tn - tn)/npv}\n",
      "2023-08-30 21:19:12,837:INFO:{p, tn, tp, n, fm}\n",
      "2023-08-30 21:19:12,838:INFO:substitution -fm^2*n*p + fm^2*p*tn - fm^2*p*tp + tp^2 {tp: (npv*p + npv*tn - tn)/npv}\n",
      "2023-08-30 21:19:12,838:INFO:eq1tmp -fm^2*n*p + fm^2*p*tn - (npv*p + npv*tn - tn)*fm^2*p/npv + (npv*p + npv*tn - tn)^2/npv^2\n"
     ]
    },
    {
     "name": "stdout",
     "output_type": "stream",
     "text": [
      "[n*npv + 2*npv*p - n - p, 1/(f1p + 2*npv - 2), f1p]\n",
      "[n, npv]\n",
      "[npv, p, 2]\n",
      "[n, -1]\n",
      "[p, -1]\n",
      "[npv, 2]\n",
      "[f1p*n + 2*f1p*p - 2*p, 1/(f1p + 2*npv - 2), npv]\n",
      "[f1p, n]\n",
      "[f1p, p, 2]\n",
      "[p, -2]\n",
      "[npv, 2]\n"
     ]
    },
    {
     "name": "stderr",
     "output_type": "stream",
     "text": [
      "2023-08-30 21:19:13,055:INFO:v1s [{tn: -1/2*(fm^2*p + 2*npv*p + sqrt((4*n*npv^2 - 8*n*npv + (fm^2 + 4*npv^2 - 4*npv)*p + 4*n)*p)*fm - 2*p)*npv/(npv - 1)^2}, {tn: -1/2*(fm^2*p + 2*npv*p - sqrt((4*n*npv^2 - 8*n*npv + (fm^2 + 4*npv^2 - 4*npv)*p + 4*n)*p)*fm - 2*p)*npv/(npv - 1)^2}]\n",
      "2023-08-30 21:19:13,125:INFO:eq0 2*bacc*n*p - p*tn - n*tp\n",
      "2023-08-30 21:19:13,126:INFO:sym0 tp\n"
     ]
    },
    {
     "name": "stdout",
     "output_type": "stream",
     "text": [
      "[fm*p + sqrt((4*n*npv^2 - 8*n*npv + (fm^2 + 4*npv^2 - 4*npv)*p + 4*n)*p), fm, 1/(npv - 1), -1/2]\n",
      "[fm, p]\n",
      "[n, npv^2, 4]\n",
      "[n, npv, -8]\n",
      "[fm^2 + 4*npv^2 - 4*npv, p]\n",
      "[npv^2, 4]\n",
      "[npv, -4]\n",
      "[n, 4]\n",
      "[fm^2*p + 2*npv*p + sqrt((4*n*npv^2 - 8*n*npv + (fm^2 + 4*npv^2 - 4*npv)*p + 4*n)*p)*fm - 2*p, (npv - 1)^(-2), npv, -1/2]\n",
      "[fm^2, p]\n",
      "[npv, p, 2]\n",
      "[sqrt((4*n*npv^2 - 8*n*npv + (fm^2 + 4*npv^2 - 4*npv)*p + 4*n)*p), fm]\n",
      "[n, npv^2, 4]\n",
      "[n, npv, -8]\n",
      "[fm^2 + 4*npv^2 - 4*npv, p]\n",
      "[npv^2, 4]\n",
      "[npv, -4]\n",
      "[n, 4]\n",
      "[p, -2]\n",
      "[fm*p - sqrt((4*n*npv^2 - 8*n*npv + (fm^2 + 4*npv^2 - 4*npv)*p + 4*n)*p), fm, 1/(npv - 1), -1/2]\n",
      "[fm, p]\n",
      "[sqrt((4*n*npv^2 - 8*n*npv + (fm^2 + 4*npv^2 - 4*npv)*p + 4*n)*p), -1]\n",
      "[n, npv^2, 4]\n",
      "[n, npv, -8]\n",
      "[fm^2 + 4*npv^2 - 4*npv, p]\n",
      "[npv^2, 4]\n",
      "[npv, -4]\n",
      "[n, 4]\n",
      "[fm^2*p + 2*npv*p - sqrt((4*n*npv^2 - 8*n*npv + (fm^2 + 4*npv^2 - 4*npv)*p + 4*n)*p)*fm - 2*p, (npv - 1)^(-2), npv, -1/2]\n",
      "[fm^2, p]\n",
      "[npv, p, 2]\n",
      "[sqrt((4*n*npv^2 - 8*n*npv + (fm^2 + 4*npv^2 - 4*npv)*p + 4*n)*p), fm, -1]\n",
      "[n, npv^2, 4]\n",
      "[n, npv, -8]\n",
      "[fm^2 + 4*npv^2 - 4*npv, p]\n",
      "[npv^2, 4]\n",
      "[npv, -4]\n",
      "[n, 4]\n",
      "[p, -2]\n"
     ]
    },
    {
     "name": "stderr",
     "output_type": "stream",
     "text": [
      "2023-08-30 21:19:13,343:INFO:v0s [{tp: (2*bacc*n - tn)*p/n}]\n",
      "2023-08-30 21:19:13,344:INFO:v0 {tp: (2*bacc*n - tn)*p/n}\n",
      "2023-08-30 21:19:13,346:INFO:{p, f1p, tn, tp, n}\n",
      "2023-08-30 21:19:13,347:INFO:substitution f1p*n + f1p*p - f1p*tn + f1p*tp - 2*tp {tp: (2*bacc*n - tn)*p/n}\n",
      "2023-08-30 21:19:13,350:INFO:eq1tmp f1p*n + f1p*p + (2*bacc*n - tn)*f1p*p/n - f1p*tn - 2*(2*bacc*n - tn)*p/n\n",
      "2023-08-30 21:19:13,573:INFO:v1s [{tn: (2*bacc*f1p*p + f1p*n - 4*bacc*p + f1p*p)*n/(f1p*n + f1p*p - 2*p)}]\n",
      "2023-08-30 21:19:13,580:INFO:eq0 2*bacc*n*p - p*tn - n*tp\n",
      "2023-08-30 21:19:13,581:INFO:sym0 tp\n",
      "2023-08-30 21:19:13,742:INFO:v0s [{tp: (2*bacc*n - tn)*p/n}]\n",
      "2023-08-30 21:19:13,747:INFO:v0 {tp: (2*bacc*n - tn)*p/n}\n",
      "2023-08-30 21:19:13,748:INFO:{p, tn, tp, n, fm}\n",
      "2023-08-30 21:19:13,749:INFO:substitution -fm^2*n*p + fm^2*p*tn - fm^2*p*tp + tp^2 {tp: (2*bacc*n - tn)*p/n}\n",
      "2023-08-30 21:19:13,751:INFO:eq1tmp -fm^2*n*p - (2*bacc*n - tn)*fm^2*p^2/n + fm^2*p*tn + (2*bacc*n - tn)^2*p^2/n^2\n"
     ]
    },
    {
     "name": "stdout",
     "output_type": "stream",
     "text": [
      "[2*bacc*n - n - p, 1/(f1p*n + f1p*p - 2*p), f1p, p]\n",
      "[bacc, n, 2]\n",
      "[n, -1]\n",
      "[p, -1]\n",
      "[f1p, n]\n",
      "[f1p, p]\n",
      "[p, -2]\n",
      "[2*bacc*f1p*p + f1p*n - 4*bacc*p + f1p*p, 1/(f1p*n + f1p*p - 2*p), n]\n",
      "[bacc, f1p, p, 2]\n",
      "[f1p, n]\n",
      "[bacc, p, -4]\n",
      "[f1p, p]\n",
      "[f1p, n]\n",
      "[f1p, p]\n",
      "[p, -2]\n"
     ]
    },
    {
     "name": "stderr",
     "output_type": "stream",
     "text": [
      "2023-08-30 21:19:14,061:INFO:v1s [{tn: -1/2*(fm^2*n + fm^2*p - 4*bacc*p + sqrt(fm^2*n^2 + fm^2*p^2 + 2*(fm^2 - 4*bacc + 2)*n*p)*fm)*n/p}, {tn: -1/2*(fm^2*n + fm^2*p - 4*bacc*p - sqrt(fm^2*n^2 + fm^2*p^2 + 2*(fm^2 - 4*bacc + 2)*n*p)*fm)*n/p}]\n",
      "2023-08-30 21:19:14,130:INFO:eq0 f1p*n + f1p*p - f1p*tn + f1p*tp - 2*tp\n",
      "2023-08-30 21:19:14,131:INFO:sym0 tp\n",
      "2023-08-30 21:19:14,242:INFO:v0s [{tp: -f1p*(n + p - tn)/(f1p - 2)}]\n",
      "2023-08-30 21:19:14,243:INFO:v0 {tp: -f1p*(n + p - tn)/(f1p - 2)}\n",
      "2023-08-30 21:19:14,244:INFO:{p, tn, tp, n, fm}\n",
      "2023-08-30 21:19:14,245:INFO:substitution -fm^2*n*p + fm^2*p*tn - fm^2*p*tp + tp^2 {tp: -f1p*(n + p - tn)/(f1p - 2)}\n",
      "2023-08-30 21:19:14,246:INFO:eq1tmp f1p*fm^2*(n + p - tn)*p/(f1p - 2) - fm^2*n*p + fm^2*p*tn + f1p^2*(n + p - tn)^2/(f1p - 2)^2\n"
     ]
    },
    {
     "name": "stdout",
     "output_type": "stream",
     "text": [
      "[fm*n + fm*p + sqrt(fm^2*n^2 + fm^2*p^2 + 2*(fm^2 - 4*bacc + 2)*n*p), fm, 1/2]\n",
      "[fm, n]\n",
      "[fm, p]\n",
      "[fm^2, n^2]\n",
      "[fm^2, p^2]\n",
      "[fm^2 - 4*bacc + 2, n, p, 2]\n",
      "[bacc, -4]\n",
      "[fm^2*n + fm^2*p - 4*bacc*p + sqrt(fm^2*n^2 + fm^2*p^2 + 2*(fm^2 - 4*bacc + 2)*n*p)*fm, n, 1/p, -1/2]\n",
      "[fm^2, n]\n",
      "[fm^2, p]\n",
      "[bacc, p, -4]\n",
      "[sqrt(fm^2*n^2 + fm^2*p^2 + 2*(fm^2 - 4*bacc + 2)*n*p), fm]\n",
      "[fm^2, n^2]\n",
      "[fm^2, p^2]\n",
      "[fm^2 - 4*bacc + 2, n, p, 2]\n",
      "[bacc, -4]\n",
      "[fm*n + fm*p - sqrt(fm^2*n^2 + fm^2*p^2 + 2*(fm^2 - 4*bacc + 2)*n*p), fm, 1/2]\n",
      "[fm, n]\n",
      "[fm, p]\n",
      "[sqrt(fm^2*n^2 + fm^2*p^2 + 2*(fm^2 - 4*bacc + 2)*n*p), -1]\n",
      "[fm^2, n^2]\n",
      "[fm^2, p^2]\n",
      "[fm^2 - 4*bacc + 2, n, p, 2]\n",
      "[bacc, -4]\n",
      "[fm^2*n + fm^2*p - 4*bacc*p - sqrt(fm^2*n^2 + fm^2*p^2 + 2*(fm^2 - 4*bacc + 2)*n*p)*fm, n, 1/p, -1/2]\n",
      "[fm^2, n]\n",
      "[fm^2, p]\n",
      "[bacc, p, -4]\n",
      "[sqrt(fm^2*n^2 + fm^2*p^2 + 2*(fm^2 - 4*bacc + 2)*n*p), fm, -1]\n",
      "[fm^2, n^2]\n",
      "[fm^2, p^2]\n",
      "[fm^2 - 4*bacc + 2, n, p, 2]\n",
      "[bacc, -4]\n"
     ]
    },
    {
     "name": "stderr",
     "output_type": "stream",
     "text": [
      "2023-08-30 21:19:14,483:INFO:v1s [{tn: (f1p*fm^2*p - sqrt(-f1p^2 + fm^2)*f1p*fm*p + f1p^2*n + f1p^2*p - 2*fm^2*p + 2*sqrt(-f1p^2 + fm^2)*fm*p)/f1p^2}, {tn: (f1p*fm^2*p + sqrt(-f1p^2 + fm^2)*f1p*fm*p + f1p^2*n + f1p^2*p - 2*fm^2*p - 2*sqrt(-f1p^2 + fm^2)*fm*p)/f1p^2}]\n"
     ]
    },
    {
     "name": "stdout",
     "output_type": "stream",
     "text": [
      "[1/f1p, fm - sqrt(-f1p^2 + fm^2), fm, p]\n",
      "[sqrt(-f1p^2 + fm^2), -1]\n",
      "[f1p^2, -1]\n",
      "[f1p*fm^2*p - sqrt(-f1p^2 + fm^2)*f1p*fm*p + f1p^2*n + f1p^2*p - 2*fm^2*p + 2*sqrt(-f1p^2 + fm^2)*fm*p, f1p^(-2)]\n",
      "[f1p, fm^2, p]\n",
      "[sqrt(-f1p^2 + fm^2), f1p, fm, p, -1]\n",
      "[f1p^2, -1]\n",
      "[f1p^2, n]\n",
      "[f1p^2, p]\n",
      "[fm^2, p, -2]\n",
      "[sqrt(-f1p^2 + fm^2), fm, p, 2]\n",
      "[f1p^2, -1]\n",
      "[1/f1p, fm + sqrt(-f1p^2 + fm^2), fm, p]\n",
      "[f1p^2, -1]\n",
      "[f1p*fm^2*p + sqrt(-f1p^2 + fm^2)*f1p*fm*p + f1p^2*n + f1p^2*p - 2*fm^2*p - 2*sqrt(-f1p^2 + fm^2)*fm*p, f1p^(-2)]\n",
      "[f1p, fm^2, p]\n",
      "[sqrt(-f1p^2 + fm^2), f1p, fm, p]\n",
      "[f1p^2, -1]\n",
      "[f1p^2, n]\n",
      "[f1p^2, p]\n",
      "[fm^2, p, -2]\n",
      "[sqrt(-f1p^2 + fm^2), fm, p, -2]\n",
      "[f1p^2, -1]\n"
     ]
    }
   ],
   "source": [
    "solutions = []\n",
    "for idx, score0 in enumerate(list(scores.keys())):\n",
    "    for score1 in list(scores.keys())[(idx+1):]:\n",
    "        ps = ProblemSolver(score0=scores[score0], score1=scores[score1])\n",
    "        ps.solve()\n",
    "        ps.edge_cases()\n",
    "        solutions.append(ps)"
   ]
  },
  {
   "cell_type": "code",
   "execution_count": 12,
   "metadata": {},
   "outputs": [
    {
     "data": {
      "text/plain": [
       "{'scores': ['acc', 'sens'],\n",
       " 'solutions': [{'solution': {'tp': {'expression': 'p*sens',\n",
       "     'symbols': ['p', 'sens']},\n",
       "    'tn': {'expression': 'acc*n + acc*p - p*sens',\n",
       "     'symbols': ['acc', 'n', 'p', 'sens']}},\n",
       "   'non_zero': [],\n",
       "   'non_negative': []}]}"
      ]
     },
     "execution_count": 12,
     "metadata": {},
     "output_type": "execute_result"
    }
   ],
   "source": [
    "solutions[0].get_solution().to_dict()"
   ]
  },
  {
   "cell_type": "code",
   "execution_count": 13,
   "metadata": {},
   "outputs": [],
   "source": [
    "soljson = {'solutions': []}\n",
    "for sol in solutions:\n",
    "    soljson['solutions'].append(sol.get_solution().to_dict())"
   ]
  },
  {
   "cell_type": "code",
   "execution_count": 14,
   "metadata": {},
   "outputs": [
    {
     "data": {
      "text/plain": [
       "{'solutions': [{'scores': ['acc', 'sens'],\n",
       "   'solutions': [{'solution': {'tp': {'expression': 'p*sens',\n",
       "       'symbols': ['p', 'sens']},\n",
       "      'tn': {'expression': 'acc*n + acc*p - p*sens',\n",
       "       'symbols': ['acc', 'n', 'p', 'sens']}},\n",
       "     'non_zero': [],\n",
       "     'non_negative': []}]},\n",
       "  {'scores': ['acc', 'spec'],\n",
       "   'solutions': [{'solution': {'tn': {'expression': 'n*spec',\n",
       "       'symbols': ['n', 'spec']},\n",
       "      'tp': {'expression': 'acc*n + acc*p - n*spec',\n",
       "       'symbols': ['acc', 'n', 'p', 'spec']}},\n",
       "     'non_zero': [],\n",
       "     'non_negative': []}]},\n",
       "  {'scores': ['acc', 'ppv'],\n",
       "   'solutions': [{'solution': {'tp': {'expression': '(acc*n + acc*p - n)*ppv/(2*ppv - 1)',\n",
       "       'symbols': ['acc', 'n', 'p', 'ppv']},\n",
       "      'tn': {'expression': '(acc*n*ppv + acc*p*ppv - acc*n - acc*p + n*ppv)/(2*ppv - 1)',\n",
       "       'symbols': ['acc', 'n', 'p', 'ppv']}},\n",
       "     'non_zero': [{'expression': '2*ppv - 1', 'symbols': ['ppv']}],\n",
       "     'non_negative': []}]},\n",
       "  {'scores': ['acc', 'npv'],\n",
       "   'solutions': [{'solution': {'tp': {'expression': '(acc*n*npv + acc*npv*p - acc*n - acc*p + npv*p)/(2*npv - 1)',\n",
       "       'symbols': ['acc', 'n', 'npv', 'p']},\n",
       "      'tn': {'expression': '(acc*n + acc*p - p)*npv/(2*npv - 1)',\n",
       "       'symbols': ['acc', 'n', 'npv', 'p']}},\n",
       "     'non_zero': [{'expression': '2*npv - 1', 'symbols': ['npv']}],\n",
       "     'non_negative': []}]},\n",
       "  {'scores': ['acc', 'bacc'],\n",
       "   'solutions': [{'solution': {'tp': {'expression': '-(acc*n - 2*bacc*n + acc*p)*p/(n - p)',\n",
       "       'symbols': ['acc', 'bacc', 'n', 'p']},\n",
       "      'tn': {'expression': '(acc*n + acc*p - 2*bacc*p)*n/(n - p)',\n",
       "       'symbols': ['acc', 'bacc', 'n', 'p']}},\n",
       "     'non_zero': [{'expression': 'n - p', 'symbols': ['n', 'p']}],\n",
       "     'non_negative': []}]},\n",
       "  {'scores': ['acc', 'f1p'],\n",
       "   'solutions': [{'solution': {'tp': {'expression': '1/2*(acc - 1)*f1p*(n + p)/(f1p - 1)',\n",
       "       'symbols': ['acc', 'f1p', 'n', 'p']},\n",
       "      'tn': {'expression': '1/2*(acc*f1p - 2*acc + f1p)*(n + p)/(f1p - 1)',\n",
       "       'symbols': ['acc', 'f1p', 'n', 'p']}},\n",
       "     'non_zero': [{'expression': 'f1p - 1', 'symbols': ['f1p']}],\n",
       "     'non_negative': []}]},\n",
       "  {'scores': ['acc', 'fm'],\n",
       "   'solutions': [{'solution': {'tp': {'expression': '(fm*p + sqrt(-((acc - 1)*n - (fm^2 - acc)*p)*p))*fm',\n",
       "       'symbols': ['acc', 'fm', 'n', 'p']},\n",
       "      'tn': {'expression': '-fm^2*p + acc*n + acc*p - sqrt(-((acc - 1)*n - (fm^2 - acc)*p)*p)*fm',\n",
       "       'symbols': ['acc', 'fm', 'n', 'p']}},\n",
       "     'non_zero': [],\n",
       "     'non_negative': [{'expression': '-((acc - 1)*n - (fm^2 - acc)*p)*p',\n",
       "       'symbols': ['acc', 'fm', 'n', 'p']}]},\n",
       "    {'solution': {'tp': {'expression': '(fm*p - sqrt(-((acc - 1)*n - (fm^2 - acc)*p)*p))*fm',\n",
       "       'symbols': ['acc', 'fm', 'n', 'p']},\n",
       "      'tn': {'expression': '-fm^2*p + acc*n + acc*p + sqrt(-((acc - 1)*n - (fm^2 - acc)*p)*p)*fm',\n",
       "       'symbols': ['acc', 'fm', 'n', 'p']}},\n",
       "     'non_zero': [],\n",
       "     'non_negative': [{'expression': '-((acc - 1)*n - (fm^2 - acc)*p)*p',\n",
       "       'symbols': ['acc', 'fm', 'n', 'p']}]}]},\n",
       "  {'scores': ['sens', 'spec'],\n",
       "   'solutions': [{'solution': {'tp': {'expression': 'p*sens',\n",
       "       'symbols': ['p', 'sens']},\n",
       "      'tn': {'expression': 'n*spec', 'symbols': ['n', 'spec']}},\n",
       "     'non_zero': [],\n",
       "     'non_negative': []}]},\n",
       "  {'scores': ['sens', 'ppv'],\n",
       "   'solutions': [{'solution': {'tp': {'expression': 'p*sens',\n",
       "       'symbols': ['p', 'sens']},\n",
       "      'tn': {'expression': '(p*ppv*sens + n*ppv - p*sens)/ppv',\n",
       "       'symbols': ['n', 'p', 'ppv', 'sens']}},\n",
       "     'non_zero': [{'expression': 'ppv', 'symbols': ['ppv']}],\n",
       "     'non_negative': []}]},\n",
       "  {'scores': ['sens', 'npv'],\n",
       "   'solutions': [{'solution': {'tp': {'expression': 'p*sens',\n",
       "       'symbols': ['p', 'sens']},\n",
       "      'tn': {'expression': 'npv*p*(sens - 1)/(npv - 1)',\n",
       "       'symbols': ['npv', 'p', 'sens']}},\n",
       "     'non_zero': [{'expression': 'npv - 1', 'symbols': ['npv']}],\n",
       "     'non_negative': []}]},\n",
       "  {'scores': ['sens', 'bacc'],\n",
       "   'solutions': [{'solution': {'tp': {'expression': 'p*sens',\n",
       "       'symbols': ['p', 'sens']},\n",
       "      'tn': {'expression': '(2*bacc - sens)*n',\n",
       "       'symbols': ['bacc', 'n', 'sens']}},\n",
       "     'non_zero': [],\n",
       "     'non_negative': []}]},\n",
       "  {'scores': ['sens', 'f1p'],\n",
       "   'solutions': [{'solution': {'tp': {'expression': 'p*sens',\n",
       "       'symbols': ['p', 'sens']},\n",
       "      'tn': {'expression': '(f1p*p*sens + f1p*n + f1p*p - 2*p*sens)/f1p',\n",
       "       'symbols': ['f1p', 'n', 'p', 'sens']}},\n",
       "     'non_zero': [{'expression': 'f1p', 'symbols': ['f1p']}],\n",
       "     'non_negative': []}]},\n",
       "  {'scores': ['sens', 'fm'],\n",
       "   'solutions': [{'solution': {'tp': {'expression': 'p*sens',\n",
       "       'symbols': ['p', 'sens']},\n",
       "      'tn': {'expression': '(fm^2*p*sens + fm^2*n - p*sens^2)/fm^2',\n",
       "       'symbols': ['fm', 'n', 'p', 'sens']}},\n",
       "     'non_zero': [{'expression': 'fm^2', 'symbols': ['fm']}],\n",
       "     'non_negative': []}]},\n",
       "  {'scores': ['spec', 'ppv'],\n",
       "   'solutions': [{'solution': {'tn': {'expression': 'n*spec',\n",
       "       'symbols': ['n', 'spec']},\n",
       "      'tp': {'expression': 'n*ppv*(spec - 1)/(ppv - 1)',\n",
       "       'symbols': ['n', 'ppv', 'spec']}},\n",
       "     'non_zero': [{'expression': 'ppv - 1', 'symbols': ['ppv']}],\n",
       "     'non_negative': []}]},\n",
       "  {'scores': ['spec', 'npv'],\n",
       "   'solutions': [{'solution': {'tn': {'expression': 'n*spec',\n",
       "       'symbols': ['n', 'spec']},\n",
       "      'tp': {'expression': '(n*npv*spec + npv*p - n*spec)/npv',\n",
       "       'symbols': ['n', 'npv', 'p', 'spec']}},\n",
       "     'non_zero': [{'expression': 'npv', 'symbols': ['npv']}],\n",
       "     'non_negative': []}]},\n",
       "  {'scores': ['spec', 'bacc'],\n",
       "   'solutions': [{'solution': {'tn': {'expression': 'n*spec',\n",
       "       'symbols': ['n', 'spec']},\n",
       "      'tp': {'expression': '(2*bacc - spec)*p',\n",
       "       'symbols': ['bacc', 'p', 'spec']}},\n",
       "     'non_zero': [],\n",
       "     'non_negative': []}]},\n",
       "  {'scores': ['spec', 'f1p'],\n",
       "   'solutions': [{'solution': {'tn': {'expression': 'n*spec',\n",
       "       'symbols': ['n', 'spec']},\n",
       "      'tp': {'expression': '(n*spec - n - p)*f1p/(f1p - 2)',\n",
       "       'symbols': ['f1p', 'n', 'p', 'spec']}},\n",
       "     'non_zero': [{'expression': 'f1p - 2', 'symbols': ['f1p']}],\n",
       "     'non_negative': []}]},\n",
       "  {'scores': ['spec', 'fm'],\n",
       "   'solutions': [{'solution': {'tn': {'expression': 'n*spec',\n",
       "       'symbols': ['n', 'spec']},\n",
       "      'tp': {'expression': '1/2*(fm*p - sqrt((fm^2*p - 4*n*spec + 4*n)*p))*fm',\n",
       "       'symbols': ['fm', 'n', 'p', 'spec']}},\n",
       "     'non_zero': [],\n",
       "     'non_negative': [{'expression': '(fm^2*p - 4*n*spec + 4*n)*p',\n",
       "       'symbols': ['fm', 'n', 'p', 'spec']}]},\n",
       "    {'solution': {'tn': {'expression': 'n*spec', 'symbols': ['n', 'spec']},\n",
       "      'tp': {'expression': '1/2*(fm*p + sqrt((fm^2*p - 4*n*spec + 4*n)*p))*fm',\n",
       "       'symbols': ['fm', 'n', 'p', 'spec']}},\n",
       "     'non_zero': [],\n",
       "     'non_negative': [{'expression': '(fm^2*p - 4*n*spec + 4*n)*p',\n",
       "       'symbols': ['fm', 'n', 'p', 'spec']}]}]},\n",
       "  {'scores': ['ppv', 'npv'],\n",
       "   'solutions': [{'solution': {'tp': {'expression': '(n*npv + npv*p - n)*ppv/(npv + ppv - 1)',\n",
       "       'symbols': ['n', 'npv', 'p', 'ppv']},\n",
       "      'tn': {'expression': '(n*ppv + p*ppv - p)*npv/(npv + ppv - 1)',\n",
       "       'symbols': ['n', 'npv', 'p', 'ppv']}},\n",
       "     'non_zero': [{'expression': 'npv + ppv - 1', 'symbols': ['npv', 'ppv']}],\n",
       "     'non_negative': []}]},\n",
       "  {'scores': ['ppv', 'bacc'],\n",
       "   'solutions': [{'solution': {'tp': {'expression': '(2*bacc - 1)*n*p*ppv/(n*ppv + p*ppv - p)',\n",
       "       'symbols': ['bacc', 'n', 'p', 'ppv']},\n",
       "      'tn': {'expression': '(2*bacc*p*ppv - 2*bacc*p + n*ppv)*n/(n*ppv + p*ppv - p)',\n",
       "       'symbols': ['bacc', 'n', 'p', 'ppv']}},\n",
       "     'non_zero': [{'expression': 'n*ppv + p*ppv - p',\n",
       "       'symbols': ['n', 'p', 'ppv']}],\n",
       "     'non_negative': []}]},\n",
       "  {'scores': ['ppv', 'f1p'],\n",
       "   'solutions': [{'solution': {'tp': {'expression': '-f1p*p*ppv/(f1p - 2*ppv)',\n",
       "       'symbols': ['f1p', 'n', 'p', 'ppv']},\n",
       "      'tn': {'expression': '-(f1p*p*ppv - f1p*n - f1p*p + 2*n*ppv)/(f1p - 2*ppv)',\n",
       "       'symbols': ['f1p', 'n', 'p', 'ppv']}},\n",
       "     'non_zero': [{'expression': 'f1p - 2*ppv', 'symbols': ['f1p', 'ppv']}],\n",
       "     'non_negative': []}]},\n",
       "  {'scores': ['ppv', 'fm'],\n",
       "   'solutions': [{'solution': {'tp': {'expression': 'fm^2*p/ppv',\n",
       "       'symbols': ['fm', 'n', 'p', 'ppv']},\n",
       "      'tn': {'expression': '(fm^2*p*ppv - fm^2*p + n*ppv^2)/ppv^2',\n",
       "       'symbols': ['fm', 'n', 'p', 'ppv']}},\n",
       "     'non_zero': [{'expression': 'ppv', 'symbols': ['ppv']},\n",
       "      {'expression': 'ppv^2', 'symbols': ['ppv']}],\n",
       "     'non_negative': []}]},\n",
       "  {'scores': ['npv', 'bacc'],\n",
       "   'solutions': [{'solution': {'tp': {'expression': '(2*bacc*n*npv - 2*bacc*n + npv*p)*p/(n*npv + npv*p - n)',\n",
       "       'symbols': ['bacc', 'n', 'npv', 'p']},\n",
       "      'tn': {'expression': '(2*bacc - 1)*n*npv*p/(n*npv + npv*p - n)',\n",
       "       'symbols': ['bacc', 'n', 'npv', 'p']}},\n",
       "     'non_zero': [{'expression': 'n*npv + npv*p - n',\n",
       "       'symbols': ['n', 'npv', 'p']}],\n",
       "     'non_negative': []}]},\n",
       "  {'scores': ['npv', 'f1p'],\n",
       "   'solutions': [{'solution': {'tp': {'expression': '(n*npv + 2*npv*p - n - p)*f1p/(f1p + 2*npv - 2)',\n",
       "       'symbols': ['f1p', 'n', 'npv', 'p']},\n",
       "      'tn': {'expression': '(f1p*n + 2*f1p*p - 2*p)*npv/(f1p + 2*npv - 2)',\n",
       "       'symbols': ['f1p', 'n', 'npv', 'p']}},\n",
       "     'non_zero': [{'expression': 'f1p + 2*npv - 2',\n",
       "       'symbols': ['f1p', 'npv']}],\n",
       "     'non_negative': []}]},\n",
       "  {'scores': ['npv', 'fm'],\n",
       "   'solutions': [{'solution': {'tp': {'expression': '-1/2*(fm*p + sqrt((4*n*npv^2 - 8*n*npv + (fm^2 + 4*npv^2 - 4*npv)*p + 4*n)*p))*fm/(npv - 1)',\n",
       "       'symbols': ['fm', 'n', 'npv', 'p']},\n",
       "      'tn': {'expression': '-1/2*(fm^2*p + 2*npv*p + sqrt((4*n*npv^2 - 8*n*npv + (fm^2 + 4*npv^2 - 4*npv)*p + 4*n)*p)*fm - 2*p)*npv/(npv - 1)^2',\n",
       "       'symbols': ['fm', 'n', 'npv', 'p']}},\n",
       "     'non_zero': [{'expression': '(npv - 1)^2', 'symbols': ['npv']},\n",
       "      {'expression': 'npv - 1', 'symbols': ['npv']}],\n",
       "     'non_negative': [{'expression': '(4*n*npv^2 - 8*n*npv + (fm^2 + 4*npv^2 - 4*npv)*p + 4*n)*p',\n",
       "       'symbols': ['fm', 'n', 'npv', 'p']}]},\n",
       "    {'solution': {'tp': {'expression': '-1/2*(fm*p - sqrt((4*n*npv^2 - 8*n*npv + (fm^2 + 4*npv^2 - 4*npv)*p + 4*n)*p))*fm/(npv - 1)',\n",
       "       'symbols': ['fm', 'n', 'npv', 'p']},\n",
       "      'tn': {'expression': '-1/2*(fm^2*p + 2*npv*p - sqrt((4*n*npv^2 - 8*n*npv + (fm^2 + 4*npv^2 - 4*npv)*p + 4*n)*p)*fm - 2*p)*npv/(npv - 1)^2',\n",
       "       'symbols': ['fm', 'n', 'npv', 'p']}},\n",
       "     'non_zero': [{'expression': '(npv - 1)^2', 'symbols': ['npv']},\n",
       "      {'expression': 'npv - 1', 'symbols': ['npv']}],\n",
       "     'non_negative': [{'expression': '(4*n*npv^2 - 8*n*npv + (fm^2 + 4*npv^2 - 4*npv)*p + 4*n)*p',\n",
       "       'symbols': ['fm', 'n', 'npv', 'p']}]}]},\n",
       "  {'scores': ['bacc', 'f1p'],\n",
       "   'solutions': [{'solution': {'tp': {'expression': '(2*bacc*n - n - p)*f1p*p/(f1p*n + f1p*p - 2*p)',\n",
       "       'symbols': ['bacc', 'f1p', 'n', 'p']},\n",
       "      'tn': {'expression': '(2*bacc*f1p*p + f1p*n - 4*bacc*p + f1p*p)*n/(f1p*n + f1p*p - 2*p)',\n",
       "       'symbols': ['bacc', 'f1p', 'n', 'p']}},\n",
       "     'non_zero': [{'expression': 'f1p*n + f1p*p - 2*p',\n",
       "       'symbols': ['f1p', 'n', 'p']}],\n",
       "     'non_negative': []}]},\n",
       "  {'scores': ['bacc', 'fm'],\n",
       "   'solutions': [{'solution': {'tp': {'expression': '1/2*(fm*n + fm*p + sqrt(fm^2*n^2 + fm^2*p^2 + 2*(fm^2 - 4*bacc + 2)*n*p))*fm',\n",
       "       'symbols': ['bacc', 'fm', 'n', 'p']},\n",
       "      'tn': {'expression': '-1/2*(fm^2*n + fm^2*p - 4*bacc*p + sqrt(fm^2*n^2 + fm^2*p^2 + 2*(fm^2 - 4*bacc + 2)*n*p)*fm)*n/p',\n",
       "       'symbols': ['bacc', 'fm', 'n', 'p']}},\n",
       "     'non_zero': [{'expression': 'p', 'symbols': ['p']}],\n",
       "     'non_negative': [{'expression': 'fm^2*n^2 + fm^2*p^2 + 2*(fm^2 - 4*bacc + 2)*n*p',\n",
       "       'symbols': ['bacc', 'fm', 'n', 'p']}]},\n",
       "    {'solution': {'tp': {'expression': '1/2*(fm*n + fm*p - sqrt(fm^2*n^2 + fm^2*p^2 + 2*(fm^2 - 4*bacc + 2)*n*p))*fm',\n",
       "       'symbols': ['bacc', 'fm', 'n', 'p']},\n",
       "      'tn': {'expression': '-1/2*(fm^2*n + fm^2*p - 4*bacc*p - sqrt(fm^2*n^2 + fm^2*p^2 + 2*(fm^2 - 4*bacc + 2)*n*p)*fm)*n/p',\n",
       "       'symbols': ['bacc', 'fm', 'n', 'p']}},\n",
       "     'non_zero': [{'expression': 'p', 'symbols': ['p']}],\n",
       "     'non_negative': [{'expression': 'fm^2*n^2 + fm^2*p^2 + 2*(fm^2 - 4*bacc + 2)*n*p',\n",
       "       'symbols': ['bacc', 'fm', 'n', 'p']}]}]},\n",
       "  {'scores': ['f1p', 'fm'],\n",
       "   'solutions': [{'solution': {'tp': {'expression': '(fm - sqrt(-f1p^2 + fm^2))*fm*p/f1p',\n",
       "       'symbols': ['f1p', 'fm', 'n', 'p']},\n",
       "      'tn': {'expression': '(f1p*fm^2*p - sqrt(-f1p^2 + fm^2)*f1p*fm*p + f1p^2*n + f1p^2*p - 2*fm^2*p + 2*sqrt(-f1p^2 + fm^2)*fm*p)/f1p^2',\n",
       "       'symbols': ['f1p', 'fm', 'n', 'p']}},\n",
       "     'non_zero': [{'expression': 'f1p', 'symbols': ['f1p']},\n",
       "      {'expression': 'f1p^2', 'symbols': ['f1p']}],\n",
       "     'non_negative': [{'expression': '-f1p^2 + fm^2',\n",
       "       'symbols': ['f1p', 'fm']}]},\n",
       "    {'solution': {'tp': {'expression': '(fm + sqrt(-f1p^2 + fm^2))*fm*p/f1p',\n",
       "       'symbols': ['f1p', 'fm', 'n', 'p']},\n",
       "      'tn': {'expression': '(f1p*fm^2*p + sqrt(-f1p^2 + fm^2)*f1p*fm*p + f1p^2*n + f1p^2*p - 2*fm^2*p - 2*sqrt(-f1p^2 + fm^2)*fm*p)/f1p^2',\n",
       "       'symbols': ['f1p', 'fm', 'n', 'p']}},\n",
       "     'non_zero': [{'expression': 'f1p', 'symbols': ['f1p']},\n",
       "      {'expression': 'f1p^2', 'symbols': ['f1p']}],\n",
       "     'non_negative': [{'expression': '-f1p^2 + fm^2',\n",
       "       'symbols': ['f1p', 'fm']}]}]}]}"
      ]
     },
     "execution_count": 14,
     "metadata": {},
     "output_type": "execute_result"
    }
   ],
   "source": [
    "soljson"
   ]
  },
  {
   "cell_type": "code",
   "execution_count": 15,
   "metadata": {},
   "outputs": [],
   "source": [
    "with open('solutions.json', 'wt') as file:\n",
    "    file.write(json.dumps(soljson).replace('^', '**'))"
   ]
  }
 ],
 "metadata": {
  "kernelspec": {
   "display_name": "mlscorecheck",
   "language": "python",
   "name": "python3"
  },
  "language_info": {
   "codemirror_mode": {
    "name": "ipython",
    "version": 3
   },
   "file_extension": ".py",
   "mimetype": "text/x-python",
   "name": "python",
   "nbconvert_exporter": "python",
   "pygments_lexer": "ipython3",
   "version": "3.10.0"
  },
  "orig_nbformat": 4
 },
 "nbformat": 4,
 "nbformat_minor": 2
}
