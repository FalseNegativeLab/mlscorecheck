{
 "cells": [
  {
   "cell_type": "code",
   "execution_count": 55,
   "metadata": {},
   "outputs": [],
   "source": [
    "import numpy as np\n",
    "import pandas as pd\n",
    "import matplotlib.pyplot as plt\n",
    "\n",
    "from mlscorecheck.auc import (\n",
    "    auc_min, \n",
    "    auc_max, \n",
    "    auc_rmin, \n",
    "    auc_maxa, \n",
    "    auc_rmin,\n",
    "    auc_estimator,\n",
    "    max_acc_estimator,\n",
    "    macc_min,\n",
    "    acc_max)"
   ]
  },
  {
   "cell_type": "code",
   "execution_count": 56,
   "metadata": {},
   "outputs": [],
   "source": [
    "input_label = 'aggregated'\n",
    "\n",
    "input_file = f'fit-{input_label}-50k.csv'\n",
    "output_file = f'processed-{input_label}-50k.csv'"
   ]
  },
  {
   "cell_type": "code",
   "execution_count": 57,
   "metadata": {},
   "outputs": [
    {
     "data": {
      "text/plain": [
       "exp_tpr    1.685052\n",
       "exp_fpr    0.634456\n",
       "dtype: float64"
      ]
     },
     "execution_count": 57,
     "metadata": {},
     "output_type": "execute_result"
    }
   ],
   "source": [
    "data = pd.read_csv(input_file)\n",
    "data[['exp_tpr', 'exp_fpr']].median()"
   ]
  },
  {
   "cell_type": "code",
   "execution_count": 58,
   "metadata": {},
   "outputs": [],
   "source": [
    "#data = data.sample(2000)"
   ]
  },
  {
   "cell_type": "code",
   "execution_count": 59,
   "metadata": {},
   "outputs": [],
   "source": [
    "def protect(function, args):\n",
    "    try:\n",
    "        return function(*args)\n",
    "    except:\n",
    "        return None"
   ]
  },
  {
   "cell_type": "code",
   "execution_count": 60,
   "metadata": {},
   "outputs": [],
   "source": [
    "data['auc_min'] = data.apply(lambda row: auc_min(1 - row['spec'], row['sens']), axis=1)\n",
    "data['auc_min_best'] = data.apply(lambda row: auc_min(1 - row['best_spec'], row['best_sens']), axis=1)\n",
    "data['auc_max'] = data.apply(lambda row: auc_max(1 - row['spec'], row['sens']), axis=1)\n",
    "data['auc_max_best'] = data.apply(lambda row: auc_max(1 - row['best_spec'], row['best_sens']), axis=1)\n",
    "data['auc_maxa_best'] = data.apply(lambda row: protect(auc_maxa, (row['best_acc'], row['p'], row['n'])), axis=1)\n",
    "data['auc_rmin'] = data.apply(lambda row: protect(auc_rmin, (1 - row['spec'], row['sens'])), axis=1)\n",
    "data['auc_rmin_best'] = data.apply(lambda row: protect(auc_rmin, (1 - row['best_spec'], row['best_sens'])), axis=1)"
   ]
  },
  {
   "cell_type": "code",
   "execution_count": 61,
   "metadata": {},
   "outputs": [],
   "source": [
    "def estimate(label0, label1, mode='normal', weighted=False):\n",
    "    if mode != 'best':\n",
    "        mode = 'normal'\n",
    "    if weighted:\n",
    "        weighted_label = 'w'\n",
    "    else:\n",
    "        weighted_label = 'nw'\n",
    "    if mode != 'best':\n",
    "        if not weighted:\n",
    "            weights0 = np.repeat(1.0, len(data))\n",
    "            weights1 = np.repeat(1.0, len(data))\n",
    "        else:\n",
    "            weights0 = data[f'err_{label1}']\n",
    "            weights1 = data[f'err_{label0}']\n",
    "\n",
    "        weights0, weights1 = weights0 / (weights0 + weights1), weights1 / (weights0 + weights1)\n",
    "        data[f'auc_{label0}_{label1}_{mode}_{weighted_label}'] = weights0*data[f'auc_{label0}'] + weights1*data[f'auc_{label1}']\n",
    "    else:\n",
    "        if not weighted:\n",
    "            weights0 = np.repeat(1.0, len(data))\n",
    "            weights1 = np.repeat(1.0, len(data))\n",
    "        else:\n",
    "            weights0 = data[f'err_{label1}_best']\n",
    "            weights1 = data[f'err_{label0}_best']\n",
    "\n",
    "        weights0, weights1 = weights0 / (weights0 + weights1), weights1 / (weights0 + weights1)\n",
    "        data[f'auc_{label0}_{label1}_{mode}_{weighted_label}'] = weights0*data[f'auc_{label0}_best'] + weights1*data[f'auc_{label1}_best']"
   ]
  },
  {
   "cell_type": "code",
   "execution_count": 62,
   "metadata": {},
   "outputs": [],
   "source": [
    "estimate('min', 'max', 'normal', False)\n",
    "estimate('min', 'max', 'best', False)\n",
    "estimate('rmin', 'max', 'normal', False)\n",
    "estimate('rmin', 'max', 'best', False)\n",
    "estimate('min', 'maxa', 'best', False)\n",
    "estimate('rmin', 'maxa', 'best', False)"
   ]
  },
  {
   "cell_type": "code",
   "execution_count": 63,
   "metadata": {},
   "outputs": [
    {
     "data": {
      "text/plain": [
       "((0.9741123400395921, 0.7243191458012499, 4.26889190155123),\n",
       " (0.9658991740311904, 0.7939617845382275, 4.278214201767616),\n",
       " (0.9718685824057304, 7.201595336442369, 7.201595336442369),\n",
       " (0.9647881838405529, 6.200064365243391, 6.200064365243391))"
      ]
     },
     "execution_count": 63,
     "metadata": {},
     "output_type": "execute_result"
    }
   ],
   "source": [
    "(auc_estimator(0.024, 0.776, 30000, 300000, mode='separate', best=True),\n",
    "auc_estimator(0.024, 0.776, 30000, 300000, mode='joint', best=True),\n",
    "auc_estimator(0.024, 0.776, 30000, 300000, mode='roc', best=True),\n",
    "auc_estimator(0.024, 0.776, 30000, 300000, mode='roc2', best=True))"
   ]
  },
  {
   "cell_type": "code",
   "execution_count": 64,
   "metadata": {},
   "outputs": [],
   "source": [
    "data[['auc_integral_joint_best', 'aijb_p_fpr', 'aijb_p_tpr']] = \\\n",
    "    data.apply(lambda row: auc_estimator(1.0 - row['best_spec'], row['best_sens'], row['p'], row['n'], mode='joint', best=True), \n",
    "               axis=1, result_type=\"expand\")"
   ]
  },
  {
   "cell_type": "code",
   "execution_count": 65,
   "metadata": {},
   "outputs": [],
   "source": [
    "data[['auc_integral_roc', 'air_p_fpr', 'air_p_tpr']] = \\\n",
    "    data.apply(lambda row: auc_estimator(1.0 - row['spec'], row['sens'], row['p'], row['n'], mode='roc', best=False), \n",
    "               axis=1, result_type=\"expand\")\n",
    "data[['auc_integral_roc_best', 'airb_p_fpr', 'airb_p_tpr']] = \\\n",
    "    data.apply(lambda row: auc_estimator(1.0 - row['best_spec'], row['best_sens'], row['p'], row['n'], mode='roc', best=True), \n",
    "               axis=1, result_type=\"expand\")\n",
    "data[['auc_integral_roc2_best', 'air2b_p_fpr', 'air2b_p_tpr']] = \\\n",
    "    data.apply(lambda row: auc_estimator(1.0 - row['best_spec'], row['best_sens'], row['p'], row['n'], mode='roc2', best=True), \n",
    "               axis=1, result_type=\"expand\")"
   ]
  },
  {
   "cell_type": "code",
   "execution_count": 66,
   "metadata": {},
   "outputs": [
    {
     "data": {
      "text/plain": [
       "Index(['p', 'n', 'k', 'dataset', 'classifier', 'classifier_params', 'best_acc',\n",
       "       'best_sens', 'best_spec', 'best_acc_train', 'best_sens_train',\n",
       "       'best_spec_train', 'acc', 'sens', 'spec', 'auc', 'acc_train',\n",
       "       'sens_train', 'spec_train', 'auc_train', 'n_nodes', 'n_nodes_train',\n",
       "       'avg_n_nodes', 'avg_n_nodes_train', 'fprs', 'tprs', 'fprs_train',\n",
       "       'tprs_train', 'fracs', 'exp_fpr', 'exp_tpr', 'r2_fpr', 'r2_tpr',\n",
       "       'r2_roc', 'auc_min', 'auc_min_best', 'auc_max', 'auc_max_best',\n",
       "       'auc_maxa_best', 'auc_rmin', 'auc_rmin_best', 'auc_min_max_normal_nw',\n",
       "       'auc_min_max_best_nw', 'auc_rmin_max_normal_nw', 'auc_rmin_max_best_nw',\n",
       "       'auc_min_maxa_best_nw', 'auc_rmin_maxa_best_nw',\n",
       "       'auc_integral_joint_best', 'aijb_p_fpr', 'aijb_p_tpr',\n",
       "       'auc_integral_roc', 'air_p_fpr', 'air_p_tpr', 'auc_integral_roc_best',\n",
       "       'airb_p_fpr', 'airb_p_tpr', 'auc_integral_roc2_best', 'air2b_p_fpr',\n",
       "       'air2b_p_tpr'],\n",
       "      dtype='object')"
      ]
     },
     "execution_count": 66,
     "metadata": {},
     "output_type": "execute_result"
    }
   ],
   "source": [
    "data.columns"
   ]
  },
  {
   "cell_type": "code",
   "execution_count": 67,
   "metadata": {},
   "outputs": [
    {
     "data": {
      "text/html": [
       "<div>\n",
       "<style scoped>\n",
       "    .dataframe tbody tr th:only-of-type {\n",
       "        vertical-align: middle;\n",
       "    }\n",
       "\n",
       "    .dataframe tbody tr th {\n",
       "        vertical-align: top;\n",
       "    }\n",
       "\n",
       "    .dataframe thead th {\n",
       "        text-align: right;\n",
       "    }\n",
       "</style>\n",
       "<table border=\"1\" class=\"dataframe\">\n",
       "  <thead>\n",
       "    <tr style=\"text-align: right;\">\n",
       "      <th></th>\n",
       "      <th>best_sens</th>\n",
       "      <th>best_spec</th>\n",
       "      <th>p</th>\n",
       "      <th>n</th>\n",
       "      <th>air2b_p_fpr</th>\n",
       "      <th>airb_p_fpr</th>\n",
       "    </tr>\n",
       "  </thead>\n",
       "  <tbody>\n",
       "  </tbody>\n",
       "</table>\n",
       "</div>"
      ],
      "text/plain": [
       "Empty DataFrame\n",
       "Columns: [best_sens, best_spec, p, n, air2b_p_fpr, airb_p_fpr]\n",
       "Index: []"
      ]
     },
     "execution_count": 67,
     "metadata": {},
     "output_type": "execute_result"
    }
   ],
   "source": [
    "data[data['auc_integral_roc2_best'] < 0.1][['best_sens', 'best_spec', 'p', 'n', 'air2b_p_fpr', 'airb_p_fpr']]"
   ]
  },
  {
   "cell_type": "code",
   "execution_count": null,
   "metadata": {},
   "outputs": [],
   "source": []
  },
  {
   "cell_type": "code",
   "execution_count": 68,
   "metadata": {},
   "outputs": [
    {
     "data": {
      "text/plain": [
       "<matplotlib.collections.PathCollection at 0x7fb07fe33bf0>"
      ]
     },
     "execution_count": 68,
     "metadata": {},
     "output_type": "execute_result"
    },
    {
     "data": {
      "image/png": "[encoded data removed]",
      "text/plain": [
       "<Figure size 640x480 with 1 Axes>"
      ]
     },
     "metadata": {},
     "output_type": "display_data"
    }
   ],
   "source": [
    "plt.scatter(data['auc_integral_joint_best'], data['auc_integral_roc2_best'])"
   ]
  },
  {
   "cell_type": "code",
   "execution_count": 69,
   "metadata": {},
   "outputs": [],
   "source": [
    "#data['auc_integral_roc_rast'] = data.apply(lambda row: auc_estimator(1.0 - row['spec'], row['sens'], row['p'], row['n'], mode='roc', best=False, rasterize=True), axis=1)\n",
    "#data['auc_integral_roc_best_rast'] = data.apply(lambda row: auc_estimator(1.0 - row['best_spec'], row['best_sens'], row['p'], row['n'], mode='roc', best=True, rasterize=True), axis=1)"
   ]
  },
  {
   "cell_type": "code",
   "execution_count": 70,
   "metadata": {},
   "outputs": [],
   "source": [
    "data['max_acc_integral'] = data.apply(lambda row: max_acc_estimator(row['auc'], row['p'], row['n']), axis=1)"
   ]
  },
  {
   "cell_type": "code",
   "execution_count": 71,
   "metadata": {},
   "outputs": [],
   "source": [
    "data['max_acc_min'] = data.apply(lambda row: macc_min(row['auc'], row['p'], row['n']), axis=1)\n",
    "data['max_acc_max'] = data.apply(lambda row: acc_max(row['auc'], row['p'], row['n']), axis=1)"
   ]
  },
  {
   "cell_type": "code",
   "execution_count": 72,
   "metadata": {},
   "outputs": [],
   "source": [
    "data.to_csv(output_file, index=False)"
   ]
  }
 ],
 "metadata": {
  "kernelspec": {
   "display_name": "mlscorecheck",
   "language": "python",
   "name": "python3"
  },
  "language_info": {
   "codemirror_mode": {
    "name": "ipython",
    "version": 3
   },
   "file_extension": ".py",
   "mimetype": "text/x-python",
   "name": "python",
   "nbconvert_exporter": "python",
   "pygments_lexer": "ipython3",
   "version": "3.12.0"
  }
 },
 "nbformat": 4,
 "nbformat_minor": 2
}
