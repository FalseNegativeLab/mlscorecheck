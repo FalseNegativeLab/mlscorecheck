{
 "cells": [
  {
   "cell_type": "code",
   "execution_count": 26,
   "metadata": {},
   "outputs": [],
   "source": [
    "import pandas as pd"
   ]
  },
  {
   "cell_type": "code",
   "execution_count": 27,
   "metadata": {},
   "outputs": [],
   "source": [
    "a = pd.read_csv('results-intervals-single.csv')\n",
    "b = pd.read_csv('results-intervals-aggregated.csv')\n",
    "c = pd.read_csv('results-intervals-aggregated-ns.csv')"
   ]
  },
  {
   "cell_type": "code",
   "execution_count": 28,
   "metadata": {},
   "outputs": [],
   "source": [
    "data = pd.concat([a, b[b.columns[3:]], c[c.columns[3:]]], axis=1)"
   ]
  },
  {
   "cell_type": "code",
   "execution_count": 29,
   "metadata": {},
   "outputs": [],
   "source": [
    "data.columns = pd.MultiIndex.from_tuples([\n",
    "    ('', 'target'),\n",
    "    ('', 'source'),\n",
    "    ('', 'estimation'),\n",
    "    ('single test set', 'avg. lower'),\n",
    "    ('single test set', 'avg. upper'),\n",
    "    ('k-fold', 'avg. lower'),\n",
    "    ('k-fold', 'avg. upper'),\n",
    "    ('k-fold no strat.', 'avg. lower'),\n",
    "    ('k-fold no strat.', 'avg. upper')]\n",
    ")"
   ]
  },
  {
   "cell_type": "code",
   "execution_count": 30,
   "metadata": {},
   "outputs": [
    {
     "name": "stdout",
     "output_type": "stream",
     "text": [
      "\\begin{tabular}{lllrrrrrr}\n",
      "\\toprule\n",
      "\\multicolumn{3}{r}{} & \\multicolumn{2}{r}{single test set} & \\multicolumn{2}{r}{k-fold} & \\multicolumn{2}{r}{k-fold no strat.} \\\\\n",
      "target & source & estimation & avg. lower & avg. upper & avg. lower & avg. upper & avg. lower & avg. upper \\\\\n",
      "\\midrule\n",
      "auc & arbitrary sens, spec & (min, max) & -0.496 & 0.116 & -0.579 & 0.145 & -0.580 & 0.145 \\\\\n",
      "auc & arbitrary sens, spec & (rmin, max) & -0.247 & 0.116 & -0.277 & 0.145 & -0.278 & 0.145 \\\\\n",
      "auc & sens, spec at max. acc & (min, max) & -0.209 & 0.128 & -0.276 & 0.149 & -0.268 & 0.144 \\\\\n",
      "auc & sens, spec at max. acc & (rmin, max) & -0.102 & 0.128 & -0.130 & 0.149 & -0.130 & 0.144 \\\\\n",
      "auc & sens, spec at max. acc & (min, maxa) & -0.209 & 0.087 & -0.276 & 0.085 & -0.268 & 0.081 \\\\\n",
      "auc & sens, spec at max. acc & (rmin, maxa) & -0.102 & 0.087 & -0.130 & 0.085 & -0.130 & 0.081 \\\\\n",
      "max. acc & auc & (min, max) & -0.043 & 0.075 & -0.046 & 0.074 & -0.046 & 0.076 \\\\\n",
      "max. acc & auc & (min, rmax) & -0.043 & 0.066 & -0.046 & 0.069 & -0.046 & 0.071 \\\\\n",
      "\\bottomrule\n",
      "\\end{tabular}\n",
      "\n"
     ]
    }
   ],
   "source": [
    "print(data.to_latex(index=False, float_format=\"%.3f\"))"
   ]
  }
 ],
 "metadata": {
  "kernelspec": {
   "display_name": "mlscorecheck",
   "language": "python",
   "name": "python3"
  },
  "language_info": {
   "codemirror_mode": {
    "name": "ipython",
    "version": 3
   },
   "file_extension": ".py",
   "mimetype": "text/x-python",
   "name": "python",
   "nbconvert_exporter": "python",
   "pygments_lexer": "ipython3",
   "version": "3.12.0"
  }
 },
 "nbformat": 4,
 "nbformat_minor": 2
}
