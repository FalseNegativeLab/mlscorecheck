{
 "cells": [
  {
   "cell_type": "code",
   "execution_count": 21,
   "metadata": {},
   "outputs": [],
   "source": [
    "import pandas as pd"
   ]
  },
  {
   "cell_type": "code",
   "execution_count": 22,
   "metadata": {},
   "outputs": [],
   "source": [
    "a = pd.read_csv('results-midpoints-single.csv')\n",
    "b = pd.read_csv('results-midpoints-aggregated.csv')\n",
    "c = pd.read_csv('results-midpoints-aggregated-ns.csv')"
   ]
  },
  {
   "cell_type": "code",
   "execution_count": 23,
   "metadata": {},
   "outputs": [],
   "source": [
    "data = pd.concat([a, b[b.columns[3:]], c[c.columns[3:]]], axis=1)"
   ]
  },
  {
   "cell_type": "code",
   "execution_count": 24,
   "metadata": {},
   "outputs": [],
   "source": [
    "data.columns = pd.MultiIndex.from_tuples([\n",
    "    ('', 'target'),\n",
    "    ('', 'source'),\n",
    "    ('', 'estimation'),\n",
    "    ('single test set', 'r2'),\n",
    "    ('single test set', 'mape'),\n",
    "    ('k-fold', 'r2'),\n",
    "    ('k-fold', 'mape'),\n",
    "    ('k-fold no strat.', 'r2'),\n",
    "    ('k-fold no strat.', 'mape')]\n",
    ")"
   ]
  },
  {
   "cell_type": "code",
   "execution_count": 25,
   "metadata": {},
   "outputs": [
    {
     "name": "stdout",
     "output_type": "stream",
     "text": [
      "\\begin{tabular}{lllrrrrrr}\n",
      "\\toprule\n",
      "\\multicolumn{3}{r}{} & \\multicolumn{2}{r}{single test set} & \\multicolumn{2}{r}{k-fold} & \\multicolumn{2}{r}{k-fold no strat.} \\\\\n",
      "target & source & estimation & r2 & mape & r2 & mape & r2 & mape \\\\\n",
      "\\midrule\n",
      "auc & arbitrary sens, spec & (min, max) & -2.094 & 0.215 & -3.077 & 0.243 & -3.109 & 0.244 \\\\\n",
      "auc & arbitrary sens, spec & (rmin, max) & 0.246 & 0.110 & -0.354 & 0.101 & -0.526 & 0.107 \\\\\n",
      "auc & sens, spec at max. acc & (min, max) & 0.756 & 0.059 & 0.520 & 0.083 & 0.525 & 0.082 \\\\\n",
      "auc & sens, spec at max. acc & (rmin, max) & 0.766 & 0.064 & 0.740 & 0.066 & 0.747 & 0.064 \\\\\n",
      "auc & sens, spec at max. acc & (min, maxa) & 0.591 & 0.084 & 0.099 & 0.126 & 0.080 & 0.122 \\\\\n",
      "auc & sens, spec at max. acc & (rmin, maxa) & 0.828 & 0.053 & 0.786 & 0.058 & 0.782 & 0.057 \\\\\n",
      "max. acc & auc & (min, max) & 0.884 & 0.035 & 0.899 & 0.030 & 0.891 & 0.031 \\\\\n",
      "max. acc & auc & (min, rmax) & 0.918 & 0.030 & 0.920 & 0.027 & 0.914 & 0.028 \\\\\n",
      "\\bottomrule\n",
      "\\end{tabular}\n",
      "\n"
     ]
    }
   ],
   "source": [
    "print(data.to_latex(index=False, float_format=\"%.3f\"))"
   ]
  },
  {
   "cell_type": "code",
   "execution_count": null,
   "metadata": {},
   "outputs": [],
   "source": []
  }
 ],
 "metadata": {
  "kernelspec": {
   "display_name": "mlscorecheck",
   "language": "python",
   "name": "python3"
  },
  "language_info": {
   "codemirror_mode": {
    "name": "ipython",
    "version": 3
   },
   "file_extension": ".py",
   "mimetype": "text/x-python",
   "name": "python",
   "nbconvert_exporter": "python",
   "pygments_lexer": "ipython3",
   "version": "3.12.0"
  }
 },
 "nbformat": 4,
 "nbformat_minor": 2
}
