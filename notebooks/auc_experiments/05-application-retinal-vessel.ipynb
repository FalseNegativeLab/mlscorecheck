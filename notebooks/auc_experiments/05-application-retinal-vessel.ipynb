{
 "cells": [
  {
   "cell_type": "markdown",
   "metadata": {},
   "source": [
    "The paper to be processed: https://ieeexplore.ieee.org/stamp/stamp.jsp?tp=&arnumber=9504555\n",
    "\n",
    "Table 4."
   ]
  },
  {
   "cell_type": "markdown",
   "metadata": {},
   "source": [
    "citations:\n",
    "fan 65\n",
    "liskowski 66\n",
    "khalaf 67\n",
    "tan 69\n",
    "guo 70\n",
    "ulysal 71"
   ]
  },
  {
   "cell_type": "code",
   "execution_count": 1,
   "metadata": {},
   "outputs": [],
   "source": [
    "import sympy as sp"
   ]
  },
  {
   "cell_type": "code",
   "execution_count": 2,
   "metadata": {},
   "outputs": [],
   "source": [
    "x = sp.Symbol('x', nonnegative=True)\n",
    "alpha = sp.Symbol('alpha', nonnegative=True)\n",
    "beta = sp.Symbol('beta', nonnegative=True)\n",
    "th = sp.Symbol('th', nonnegative=True)"
   ]
  },
  {
   "cell_type": "code",
   "execution_count": 3,
   "metadata": {},
   "outputs": [
    {
     "ename": "KeyboardInterrupt",
     "evalue": "",
     "output_type": "error",
     "traceback": [
      "\u001b[0;31m---------------------------------------------------------------------------\u001b[0m",
      "\u001b[0;31mKeyboardInterrupt\u001b[0m                         Traceback (most recent call last)",
      "Cell \u001b[0;32mIn[3], line 1\u001b[0m\n\u001b[0;32m----> 1\u001b[0m sp\u001b[38;5;241m.\u001b[39mintegrate((\u001b[38;5;241m1\u001b[39m \u001b[38;5;241m-\u001b[39m x\u001b[38;5;241m*\u001b[39m\u001b[38;5;241m*\u001b[39mbeta)\u001b[38;5;241m*\u001b[39msp\u001b[38;5;241m.\u001b[39mdiff((\u001b[38;5;241m1\u001b[39m \u001b[38;5;241m-\u001b[39m x)\u001b[38;5;241m*\u001b[39m\u001b[38;5;241m*\u001b[39malpha, x), (x, \u001b[38;5;241m0\u001b[39m, \u001b[38;5;241m1\u001b[39m))\n",
      "File \u001b[0;32m~/anaconda3/envs/mlscorecheck/lib/python3.12/site-packages/sympy/integrals/integrals.py:1567\u001b[0m, in \u001b[0;36mintegrate\u001b[0;34m(meijerg, conds, risch, heurisch, manual, *args, **kwargs)\u001b[0m\n\u001b[1;32m   1564\u001b[0m integral \u001b[38;5;241m=\u001b[39m Integral(\u001b[38;5;241m*\u001b[39margs, \u001b[38;5;241m*\u001b[39m\u001b[38;5;241m*\u001b[39mkwargs)\n\u001b[1;32m   1566\u001b[0m \u001b[38;5;28;01mif\u001b[39;00m \u001b[38;5;28misinstance\u001b[39m(integral, Integral):\n\u001b[0;32m-> 1567\u001b[0m     \u001b[38;5;28;01mreturn\u001b[39;00m integral\u001b[38;5;241m.\u001b[39mdoit(\u001b[38;5;241m*\u001b[39m\u001b[38;5;241m*\u001b[39mdoit_flags)\n\u001b[1;32m   1568\u001b[0m \u001b[38;5;28;01melse\u001b[39;00m:\n\u001b[1;32m   1569\u001b[0m     new_args \u001b[38;5;241m=\u001b[39m [a\u001b[38;5;241m.\u001b[39mdoit(\u001b[38;5;241m*\u001b[39m\u001b[38;5;241m*\u001b[39mdoit_flags) \u001b[38;5;28;01mif\u001b[39;00m \u001b[38;5;28misinstance\u001b[39m(a, Integral) \u001b[38;5;28;01melse\u001b[39;00m a\n\u001b[1;32m   1570\u001b[0m         \u001b[38;5;28;01mfor\u001b[39;00m a \u001b[38;5;129;01min\u001b[39;00m integral\u001b[38;5;241m.\u001b[39margs]\n",
      "File \u001b[0;32m~/anaconda3/envs/mlscorecheck/lib/python3.12/site-packages/sympy/integrals/integrals.py:612\u001b[0m, in \u001b[0;36mIntegral.doit\u001b[0;34m(self, **hints)\u001b[0m\n\u001b[1;32m    610\u001b[0m     antideriv \u001b[38;5;241m=\u001b[39m \u001b[38;5;28;01mNone\u001b[39;00m\n\u001b[1;32m    611\u001b[0m \u001b[38;5;28;01melse\u001b[39;00m:\n\u001b[0;32m--> 612\u001b[0m     antideriv \u001b[38;5;241m=\u001b[39m \u001b[38;5;28mself\u001b[39m\u001b[38;5;241m.\u001b[39m_eval_integral(\n\u001b[1;32m    613\u001b[0m         function, xab[\u001b[38;5;241m0\u001b[39m], \u001b[38;5;241m*\u001b[39m\u001b[38;5;241m*\u001b[39meval_kwargs)\n\u001b[1;32m    614\u001b[0m     \u001b[38;5;28;01mif\u001b[39;00m antideriv \u001b[38;5;129;01mis\u001b[39;00m \u001b[38;5;28;01mNone\u001b[39;00m \u001b[38;5;129;01mand\u001b[39;00m meijerg \u001b[38;5;129;01mis\u001b[39;00m \u001b[38;5;28;01mTrue\u001b[39;00m:\n\u001b[1;32m    615\u001b[0m         ret \u001b[38;5;241m=\u001b[39m try_meijerg(function, xab)\n",
      "File \u001b[0;32m~/anaconda3/envs/mlscorecheck/lib/python3.12/site-packages/sympy/integrals/integrals.py:1150\u001b[0m, in \u001b[0;36mIntegral._eval_integral\u001b[0;34m(self, f, x, meijerg, risch, manual, heurisch, conds, final)\u001b[0m\n\u001b[1;32m   1145\u001b[0m     f \u001b[38;5;241m=\u001b[39m sincos_to_sum(f)\u001b[38;5;241m.\u001b[39mexpand(mul\u001b[38;5;241m=\u001b[39m\u001b[38;5;28;01mTrue\u001b[39;00m, deep\u001b[38;5;241m=\u001b[39m\u001b[38;5;28;01mFalse\u001b[39;00m)\n\u001b[1;32m   1146\u001b[0m     \u001b[38;5;28;01mif\u001b[39;00m f\u001b[38;5;241m.\u001b[39mis_Add:\n\u001b[1;32m   1147\u001b[0m         \u001b[38;5;66;03m# Note: risch will be identical on the expanded\u001b[39;00m\n\u001b[1;32m   1148\u001b[0m         \u001b[38;5;66;03m# expression, but maybe it will be able to pick out parts,\u001b[39;00m\n\u001b[1;32m   1149\u001b[0m         \u001b[38;5;66;03m# like x*(exp(x) + erf(x)).\u001b[39;00m\n\u001b[0;32m-> 1150\u001b[0m         \u001b[38;5;28;01mreturn\u001b[39;00m \u001b[38;5;28mself\u001b[39m\u001b[38;5;241m.\u001b[39m_eval_integral(f, x, \u001b[38;5;241m*\u001b[39m\u001b[38;5;241m*\u001b[39meval_kwargs)\n\u001b[1;32m   1152\u001b[0m \u001b[38;5;28;01mif\u001b[39;00m h \u001b[38;5;129;01mis\u001b[39;00m \u001b[38;5;129;01mnot\u001b[39;00m \u001b[38;5;28;01mNone\u001b[39;00m:\n\u001b[1;32m   1153\u001b[0m     parts\u001b[38;5;241m.\u001b[39mappend(coeff \u001b[38;5;241m*\u001b[39m h)\n",
      "File \u001b[0;32m~/anaconda3/envs/mlscorecheck/lib/python3.12/site-packages/sympy/integrals/integrals.py:1098\u001b[0m, in \u001b[0;36mIntegral._eval_integral\u001b[0;34m(self, f, x, meijerg, risch, manual, heurisch, conds, final)\u001b[0m\n\u001b[1;32m   1095\u001b[0m \u001b[38;5;28;01mif\u001b[39;00m meijerg \u001b[38;5;129;01mis\u001b[39;00m \u001b[38;5;129;01mnot\u001b[39;00m \u001b[38;5;28;01mFalse\u001b[39;00m \u001b[38;5;129;01mand\u001b[39;00m h \u001b[38;5;129;01mis\u001b[39;00m \u001b[38;5;28;01mNone\u001b[39;00m:\n\u001b[1;32m   1096\u001b[0m     \u001b[38;5;66;03m# rewrite using G functions\u001b[39;00m\n\u001b[1;32m   1097\u001b[0m     \u001b[38;5;28;01mtry\u001b[39;00m:\n\u001b[0;32m-> 1098\u001b[0m         h \u001b[38;5;241m=\u001b[39m meijerint_indefinite(g, x)\n\u001b[1;32m   1099\u001b[0m     \u001b[38;5;28;01mexcept\u001b[39;00m \u001b[38;5;167;01mNotImplementedError\u001b[39;00m:\n\u001b[1;32m   1100\u001b[0m         _debug(\u001b[38;5;124m'\u001b[39m\u001b[38;5;124mNotImplementedError from meijerint_definite\u001b[39m\u001b[38;5;124m'\u001b[39m)\n",
      "File \u001b[0;32m~/anaconda3/envs/mlscorecheck/lib/python3.12/site-packages/sympy/integrals/meijerint.py:1668\u001b[0m, in \u001b[0;36mmeijerint_indefinite\u001b[0;34m(f, x)\u001b[0m\n\u001b[1;32m   1666\u001b[0m results \u001b[38;5;241m=\u001b[39m []\n\u001b[1;32m   1667\u001b[0m \u001b[38;5;28;01mfor\u001b[39;00m a \u001b[38;5;129;01min\u001b[39;00m \u001b[38;5;28msorted\u001b[39m(_find_splitting_points(f, x) \u001b[38;5;241m|\u001b[39m {S\u001b[38;5;241m.\u001b[39mZero}, key\u001b[38;5;241m=\u001b[39mdefault_sort_key):\n\u001b[0;32m-> 1668\u001b[0m     res \u001b[38;5;241m=\u001b[39m _meijerint_indefinite_1(f\u001b[38;5;241m.\u001b[39msubs(x, x \u001b[38;5;241m+\u001b[39m a), x)\n\u001b[1;32m   1669\u001b[0m     \u001b[38;5;28;01mif\u001b[39;00m \u001b[38;5;129;01mnot\u001b[39;00m res:\n\u001b[1;32m   1670\u001b[0m         \u001b[38;5;28;01mcontinue\u001b[39;00m\n",
      "File \u001b[0;32m~/anaconda3/envs/mlscorecheck/lib/python3.12/site-packages/sympy/integrals/meijerint.py:1694\u001b[0m, in \u001b[0;36m_meijerint_indefinite_1\u001b[0;34m(f, x)\u001b[0m\n\u001b[1;32m   1691\u001b[0m _debug(\u001b[38;5;124m'\u001b[39m\u001b[38;5;124mTrying to compute the indefinite integral of\u001b[39m\u001b[38;5;124m'\u001b[39m, f, \u001b[38;5;124m'\u001b[39m\u001b[38;5;124mwrt\u001b[39m\u001b[38;5;124m'\u001b[39m, x)\n\u001b[1;32m   1692\u001b[0m \u001b[38;5;28;01mfrom\u001b[39;00m \u001b[38;5;21;01msympy\u001b[39;00m\u001b[38;5;21;01m.\u001b[39;00m\u001b[38;5;21;01msimplify\u001b[39;00m \u001b[38;5;28;01mimport\u001b[39;00m hyperexpand, powdenest\n\u001b[0;32m-> 1694\u001b[0m gs \u001b[38;5;241m=\u001b[39m _rewrite1(f, x)\n\u001b[1;32m   1695\u001b[0m \u001b[38;5;28;01mif\u001b[39;00m gs \u001b[38;5;129;01mis\u001b[39;00m \u001b[38;5;28;01mNone\u001b[39;00m:\n\u001b[1;32m   1696\u001b[0m     \u001b[38;5;66;03m# Note: the code that calls us will do expand() and try again\u001b[39;00m\n\u001b[1;32m   1697\u001b[0m     \u001b[38;5;28;01mreturn\u001b[39;00m \u001b[38;5;28;01mNone\u001b[39;00m\n",
      "File \u001b[0;32m~/anaconda3/envs/mlscorecheck/lib/python3.12/site-packages/sympy/integrals/meijerint.py:1618\u001b[0m, in \u001b[0;36m_rewrite1\u001b[0;34m(f, x, recursive)\u001b[0m\n\u001b[1;32m   1610\u001b[0m \u001b[38;5;250m\u001b[39m\u001b[38;5;124;03m\"\"\"\u001b[39;00m\n\u001b[1;32m   1611\u001b[0m \u001b[38;5;124;03mTry to rewrite ``f`` using a (sum of) single G functions with argument a*x**b.\u001b[39;00m\n\u001b[1;32m   1612\u001b[0m \u001b[38;5;124;03mReturn fac, po, g such that f = fac*po*g, fac is independent of ``x``.\u001b[39;00m\n\u001b[0;32m   (...)\u001b[0m\n\u001b[1;32m   1615\u001b[0m \u001b[38;5;124;03mReturn None on failure.\u001b[39;00m\n\u001b[1;32m   1616\u001b[0m \u001b[38;5;124;03m\"\"\"\u001b[39;00m\n\u001b[1;32m   1617\u001b[0m fac, po, g \u001b[38;5;241m=\u001b[39m _split_mul(f, x)\n\u001b[0;32m-> 1618\u001b[0m g \u001b[38;5;241m=\u001b[39m _rewrite_single(g, x, recursive)\n\u001b[1;32m   1619\u001b[0m \u001b[38;5;28;01mif\u001b[39;00m g:\n\u001b[1;32m   1620\u001b[0m     \u001b[38;5;28;01mreturn\u001b[39;00m fac, po, g[\u001b[38;5;241m0\u001b[39m], g[\u001b[38;5;241m1\u001b[39m]\n",
      "File \u001b[0;32m~/anaconda3/envs/mlscorecheck/lib/python3.12/site-packages/sympy/core/cache.py:72\u001b[0m, in \u001b[0;36m__cacheit.<locals>.func_wrapper.<locals>.wrapper\u001b[0;34m(*args, **kwargs)\u001b[0m\n\u001b[1;32m     69\u001b[0m \u001b[38;5;129m@wraps\u001b[39m(func)\n\u001b[1;32m     70\u001b[0m \u001b[38;5;28;01mdef\u001b[39;00m \u001b[38;5;21mwrapper\u001b[39m(\u001b[38;5;241m*\u001b[39margs, \u001b[38;5;241m*\u001b[39m\u001b[38;5;241m*\u001b[39mkwargs):\n\u001b[1;32m     71\u001b[0m     \u001b[38;5;28;01mtry\u001b[39;00m:\n\u001b[0;32m---> 72\u001b[0m         retval \u001b[38;5;241m=\u001b[39m cfunc(\u001b[38;5;241m*\u001b[39margs, \u001b[38;5;241m*\u001b[39m\u001b[38;5;241m*\u001b[39mkwargs)\n\u001b[1;32m     73\u001b[0m     \u001b[38;5;28;01mexcept\u001b[39;00m \u001b[38;5;167;01mTypeError\u001b[39;00m \u001b[38;5;28;01mas\u001b[39;00m e:\n\u001b[1;32m     74\u001b[0m         \u001b[38;5;28;01mif\u001b[39;00m \u001b[38;5;129;01mnot\u001b[39;00m e\u001b[38;5;241m.\u001b[39margs \u001b[38;5;129;01mor\u001b[39;00m \u001b[38;5;129;01mnot\u001b[39;00m e\u001b[38;5;241m.\u001b[39margs[\u001b[38;5;241m0\u001b[39m]\u001b[38;5;241m.\u001b[39mstartswith(\u001b[38;5;124m'\u001b[39m\u001b[38;5;124munhashable type:\u001b[39m\u001b[38;5;124m'\u001b[39m):\n",
      "File \u001b[0;32m~/anaconda3/envs/mlscorecheck/lib/python3.12/site-packages/sympy/integrals/meijerint.py:1584\u001b[0m, in \u001b[0;36m_rewrite_single\u001b[0;34m(f, x, recursive)\u001b[0m\n\u001b[1;32m   1582\u001b[0m \u001b[38;5;28;01mif\u001b[39;00m a \u001b[38;5;129;01mnot\u001b[39;00m \u001b[38;5;129;01min\u001b[39;00m f\u001b[38;5;241m.\u001b[39mfree_symbols \u001b[38;5;129;01mand\u001b[39;00m _is_analytic(f, x):\n\u001b[1;32m   1583\u001b[0m     \u001b[38;5;28;01mtry\u001b[39;00m:\n\u001b[0;32m-> 1584\u001b[0m         F, strip, _ \u001b[38;5;241m=\u001b[39m mellin_transform(f\u001b[38;5;241m.\u001b[39msubs(x, a\u001b[38;5;241m*\u001b[39mx), x, s,\n\u001b[1;32m   1585\u001b[0m                                        integrator\u001b[38;5;241m=\u001b[39mmy_integrator,\n\u001b[1;32m   1586\u001b[0m                                        needeval\u001b[38;5;241m=\u001b[39m\u001b[38;5;28;01mTrue\u001b[39;00m, simplify\u001b[38;5;241m=\u001b[39m\u001b[38;5;28;01mFalse\u001b[39;00m)\n\u001b[1;32m   1587\u001b[0m         g \u001b[38;5;241m=\u001b[39m my_imt(F, s, x, strip)\u001b[38;5;241m.\u001b[39msubs(a, \u001b[38;5;241m1\u001b[39m)\n\u001b[1;32m   1588\u001b[0m     \u001b[38;5;28;01mexcept\u001b[39;00m IntegralTransformError:\n",
      "File \u001b[0;32m~/anaconda3/envs/mlscorecheck/lib/python3.12/site-packages/sympy/integrals/transforms.py:405\u001b[0m, in \u001b[0;36mmellin_transform\u001b[0;34m(f, x, s, **hints)\u001b[0m\n\u001b[1;32m    364\u001b[0m \u001b[38;5;28;01mdef\u001b[39;00m \u001b[38;5;21mmellin_transform\u001b[39m(f, x, s, \u001b[38;5;241m*\u001b[39m\u001b[38;5;241m*\u001b[39mhints):\n\u001b[1;32m    365\u001b[0m \u001b[38;5;250m    \u001b[39m\u001b[38;5;124mr\u001b[39m\u001b[38;5;124;03m\"\"\"\u001b[39;00m\n\u001b[1;32m    366\u001b[0m \u001b[38;5;124;03m    Compute the Mellin transform `F(s)` of `f(x)`,\u001b[39;00m\n\u001b[1;32m    367\u001b[0m \n\u001b[0;32m   (...)\u001b[0m\n\u001b[1;32m    403\u001b[0m \u001b[38;5;124;03m    hankel_transform, inverse_hankel_transform\u001b[39;00m\n\u001b[1;32m    404\u001b[0m \u001b[38;5;124;03m    \"\"\"\u001b[39;00m\n\u001b[0;32m--> 405\u001b[0m     \u001b[38;5;28;01mreturn\u001b[39;00m MellinTransform(f, x, s)\u001b[38;5;241m.\u001b[39mdoit(\u001b[38;5;241m*\u001b[39m\u001b[38;5;241m*\u001b[39mhints)\n",
      "File \u001b[0;32m~/anaconda3/envs/mlscorecheck/lib/python3.12/site-packages/sympy/integrals/transforms.py:161\u001b[0m, in \u001b[0;36mIntegralTransform.doit\u001b[0;34m(self, **hints)\u001b[0m\n\u001b[1;32m    158\u001b[0m simplify \u001b[38;5;241m=\u001b[39m hints\u001b[38;5;241m.\u001b[39mpop(\u001b[38;5;124m'\u001b[39m\u001b[38;5;124msimplify\u001b[39m\u001b[38;5;124m'\u001b[39m, \u001b[38;5;28;01mTrue\u001b[39;00m)\n\u001b[1;32m    159\u001b[0m hints[\u001b[38;5;124m'\u001b[39m\u001b[38;5;124msimplify\u001b[39m\u001b[38;5;124m'\u001b[39m] \u001b[38;5;241m=\u001b[39m simplify\n\u001b[0;32m--> 161\u001b[0m fn, T \u001b[38;5;241m=\u001b[39m \u001b[38;5;28mself\u001b[39m\u001b[38;5;241m.\u001b[39m_try_directly(\u001b[38;5;241m*\u001b[39m\u001b[38;5;241m*\u001b[39mhints)\n\u001b[1;32m    163\u001b[0m \u001b[38;5;28;01mif\u001b[39;00m T \u001b[38;5;129;01mis\u001b[39;00m \u001b[38;5;129;01mnot\u001b[39;00m \u001b[38;5;28;01mNone\u001b[39;00m:\n\u001b[1;32m    164\u001b[0m     \u001b[38;5;28;01mreturn\u001b[39;00m T\n",
      "File \u001b[0;32m~/anaconda3/envs/mlscorecheck/lib/python3.12/site-packages/sympy/integrals/transforms.py:125\u001b[0m, in \u001b[0;36mIntegralTransform._try_directly\u001b[0;34m(self, **hints)\u001b[0m\n\u001b[1;32m    123\u001b[0m \u001b[38;5;28;01mif\u001b[39;00m try_directly:\n\u001b[1;32m    124\u001b[0m     \u001b[38;5;28;01mtry\u001b[39;00m:\n\u001b[0;32m--> 125\u001b[0m         T \u001b[38;5;241m=\u001b[39m \u001b[38;5;28mself\u001b[39m\u001b[38;5;241m.\u001b[39m_compute_transform(\u001b[38;5;28mself\u001b[39m\u001b[38;5;241m.\u001b[39mfunction,\n\u001b[1;32m    126\u001b[0m             \u001b[38;5;28mself\u001b[39m\u001b[38;5;241m.\u001b[39mfunction_variable, \u001b[38;5;28mself\u001b[39m\u001b[38;5;241m.\u001b[39mtransform_variable, \u001b[38;5;241m*\u001b[39m\u001b[38;5;241m*\u001b[39mhints)\n\u001b[1;32m    127\u001b[0m     \u001b[38;5;28;01mexcept\u001b[39;00m IntegralTransformError:\n\u001b[1;32m    128\u001b[0m         debug(\u001b[38;5;124m'\u001b[39m\u001b[38;5;124m[IT _try ] Caught IntegralTransformError, returns None\u001b[39m\u001b[38;5;124m'\u001b[39m)\n",
      "File \u001b[0;32m~/anaconda3/envs/mlscorecheck/lib/python3.12/site-packages/sympy/integrals/transforms.py:344\u001b[0m, in \u001b[0;36mMellinTransform._compute_transform\u001b[0;34m(self, f, x, s, **hints)\u001b[0m\n\u001b[1;32m    343\u001b[0m \u001b[38;5;28;01mdef\u001b[39;00m \u001b[38;5;21m_compute_transform\u001b[39m(\u001b[38;5;28mself\u001b[39m, f, x, s, \u001b[38;5;241m*\u001b[39m\u001b[38;5;241m*\u001b[39mhints):\n\u001b[0;32m--> 344\u001b[0m     \u001b[38;5;28;01mreturn\u001b[39;00m _mellin_transform(f, x, s, \u001b[38;5;241m*\u001b[39m\u001b[38;5;241m*\u001b[39mhints)\n",
      "File \u001b[0;32m~/anaconda3/envs/mlscorecheck/lib/python3.12/site-packages/sympy/integrals/transforms.py:245\u001b[0m, in \u001b[0;36m_noconds_.<locals>.make_wrapper.<locals>.wrapper\u001b[0;34m(noconds, *args, **kwargs)\u001b[0m\n\u001b[1;32m    243\u001b[0m \u001b[38;5;129m@wraps\u001b[39m(func)\n\u001b[1;32m    244\u001b[0m \u001b[38;5;28;01mdef\u001b[39;00m \u001b[38;5;21mwrapper\u001b[39m(\u001b[38;5;241m*\u001b[39margs, noconds\u001b[38;5;241m=\u001b[39mdefault, \u001b[38;5;241m*\u001b[39m\u001b[38;5;241m*\u001b[39mkwargs):\n\u001b[0;32m--> 245\u001b[0m     res \u001b[38;5;241m=\u001b[39m func(\u001b[38;5;241m*\u001b[39margs, \u001b[38;5;241m*\u001b[39m\u001b[38;5;241m*\u001b[39mkwargs)\n\u001b[1;32m    246\u001b[0m     \u001b[38;5;28;01mif\u001b[39;00m noconds:\n\u001b[1;32m    247\u001b[0m         \u001b[38;5;28;01mreturn\u001b[39;00m res[\u001b[38;5;241m0\u001b[39m]\n",
      "File \u001b[0;32m~/anaconda3/envs/mlscorecheck/lib/python3.12/site-packages/sympy/integrals/transforms.py:268\u001b[0m, in \u001b[0;36m_mellin_transform\u001b[0;34m(f, x, s_, integrator, simplify)\u001b[0m\n\u001b[1;32m    265\u001b[0m \u001b[38;5;66;03m# We use a fresh dummy, because assumptions on s might drop conditions on\u001b[39;00m\n\u001b[1;32m    266\u001b[0m \u001b[38;5;66;03m# convergence of the integral.\u001b[39;00m\n\u001b[1;32m    267\u001b[0m s \u001b[38;5;241m=\u001b[39m _dummy(\u001b[38;5;124m'\u001b[39m\u001b[38;5;124ms\u001b[39m\u001b[38;5;124m'\u001b[39m, \u001b[38;5;124m'\u001b[39m\u001b[38;5;124mmellin-transform\u001b[39m\u001b[38;5;124m'\u001b[39m, f)\n\u001b[0;32m--> 268\u001b[0m F \u001b[38;5;241m=\u001b[39m integrator(x\u001b[38;5;241m*\u001b[39m\u001b[38;5;241m*\u001b[39m(s \u001b[38;5;241m-\u001b[39m \u001b[38;5;241m1\u001b[39m) \u001b[38;5;241m*\u001b[39m f, x)\n\u001b[1;32m    270\u001b[0m \u001b[38;5;28;01mif\u001b[39;00m \u001b[38;5;129;01mnot\u001b[39;00m F\u001b[38;5;241m.\u001b[39mhas(Integral):\n\u001b[1;32m    271\u001b[0m     \u001b[38;5;28;01mreturn\u001b[39;00m _simplify(F\u001b[38;5;241m.\u001b[39msubs(s, s_), simplify), (S\u001b[38;5;241m.\u001b[39mNegativeInfinity, S\u001b[38;5;241m.\u001b[39mInfinity), S\u001b[38;5;241m.\u001b[39mtrue\n",
      "File \u001b[0;32m~/anaconda3/envs/mlscorecheck/lib/python3.12/site-packages/sympy/integrals/meijerint.py:1567\u001b[0m, in \u001b[0;36m_rewrite_single.<locals>.my_integrator\u001b[0;34m(f, x)\u001b[0m\n\u001b[1;32m   1565\u001b[0m     \u001b[38;5;28;01mfrom\u001b[39;00m \u001b[38;5;21;01msympy\u001b[39;00m\u001b[38;5;21;01m.\u001b[39;00m\u001b[38;5;21;01msimplify\u001b[39;00m \u001b[38;5;28;01mimport\u001b[39;00m hyperexpand\n\u001b[1;32m   1566\u001b[0m     res, cond \u001b[38;5;241m=\u001b[39m r\n\u001b[0;32m-> 1567\u001b[0m     res \u001b[38;5;241m=\u001b[39m _my_unpolarify(hyperexpand(res, rewrite\u001b[38;5;241m=\u001b[39m\u001b[38;5;124m'\u001b[39m\u001b[38;5;124mnonrepsmall\u001b[39m\u001b[38;5;124m'\u001b[39m))\n\u001b[1;32m   1568\u001b[0m     \u001b[38;5;28;01mreturn\u001b[39;00m Piecewise((res, cond),\n\u001b[1;32m   1569\u001b[0m                      (Integral(f, (x, S\u001b[38;5;241m.\u001b[39mZero, S\u001b[38;5;241m.\u001b[39mInfinity)), \u001b[38;5;28;01mTrue\u001b[39;00m))\n\u001b[1;32m   1570\u001b[0m \u001b[38;5;28;01mreturn\u001b[39;00m Integral(f, (x, S\u001b[38;5;241m.\u001b[39mZero, S\u001b[38;5;241m.\u001b[39mInfinity))\n",
      "File \u001b[0;32m~/anaconda3/envs/mlscorecheck/lib/python3.12/site-packages/sympy/simplify/hyperexpand.py:2494\u001b[0m, in \u001b[0;36mhyperexpand\u001b[0;34m(f, allow_hyper, rewrite, place)\u001b[0m\n\u001b[1;32m   2492\u001b[0m     \u001b[38;5;28;01mif\u001b[39;00m \u001b[38;5;129;01mnot\u001b[39;00m r\u001b[38;5;241m.\u001b[39mhas(nan, zoo, oo, \u001b[38;5;241m-\u001b[39moo):\n\u001b[1;32m   2493\u001b[0m         \u001b[38;5;28;01mreturn\u001b[39;00m r\n\u001b[0;32m-> 2494\u001b[0m \u001b[38;5;28;01mreturn\u001b[39;00m f\u001b[38;5;241m.\u001b[39mreplace(hyper, do_replace)\u001b[38;5;241m.\u001b[39mreplace(meijerg, do_meijer)\n",
      "File \u001b[0;32m~/anaconda3/envs/mlscorecheck/lib/python3.12/site-packages/sympy/core/basic.py:1666\u001b[0m, in \u001b[0;36mBasic.replace\u001b[0;34m(self, query, value, map, simultaneous, exact)\u001b[0m\n\u001b[1;32m   1663\u001b[0m             expr \u001b[38;5;241m=\u001b[39m v\n\u001b[1;32m   1664\u001b[0m     \u001b[38;5;28;01mreturn\u001b[39;00m expr\n\u001b[0;32m-> 1666\u001b[0m rv \u001b[38;5;241m=\u001b[39m walk(\u001b[38;5;28mself\u001b[39m, rec_replace)\n\u001b[1;32m   1667\u001b[0m \u001b[38;5;28;01mreturn\u001b[39;00m (rv, mapping) \u001b[38;5;28;01mif\u001b[39;00m \u001b[38;5;28mmap\u001b[39m \u001b[38;5;28;01melse\u001b[39;00m rv\n",
      "File \u001b[0;32m~/anaconda3/envs/mlscorecheck/lib/python3.12/site-packages/sympy/core/basic.py:1641\u001b[0m, in \u001b[0;36mBasic.replace.<locals>.walk\u001b[0;34m(rv, F)\u001b[0m\n\u001b[1;32m   1639\u001b[0m \u001b[38;5;28;01mif\u001b[39;00m args \u001b[38;5;129;01mis\u001b[39;00m \u001b[38;5;129;01mnot\u001b[39;00m \u001b[38;5;28;01mNone\u001b[39;00m:\n\u001b[1;32m   1640\u001b[0m     \u001b[38;5;28;01mif\u001b[39;00m args:\n\u001b[0;32m-> 1641\u001b[0m         newargs \u001b[38;5;241m=\u001b[39m \u001b[38;5;28mtuple\u001b[39m([walk(a, F) \u001b[38;5;28;01mfor\u001b[39;00m a \u001b[38;5;129;01min\u001b[39;00m args])\n\u001b[1;32m   1642\u001b[0m         \u001b[38;5;28;01mif\u001b[39;00m args \u001b[38;5;241m!=\u001b[39m newargs:\n\u001b[1;32m   1643\u001b[0m             rv \u001b[38;5;241m=\u001b[39m rv\u001b[38;5;241m.\u001b[39mfunc(\u001b[38;5;241m*\u001b[39mnewargs)\n",
      "File \u001b[0;32m~/anaconda3/envs/mlscorecheck/lib/python3.12/site-packages/sympy/core/basic.py:1651\u001b[0m, in \u001b[0;36mBasic.replace.<locals>.walk\u001b[0;34m(rv, F)\u001b[0m\n\u001b[1;32m   1649\u001b[0m                     \u001b[38;5;28;01mif\u001b[39;00m rv \u001b[38;5;241m==\u001b[39m e \u001b[38;5;129;01mand\u001b[39;00m e \u001b[38;5;241m!=\u001b[39m newargs[i]:\n\u001b[1;32m   1650\u001b[0m                         \u001b[38;5;28;01mreturn\u001b[39;00m rv\n\u001b[0;32m-> 1651\u001b[0m     rv \u001b[38;5;241m=\u001b[39m F(rv)\n\u001b[1;32m   1652\u001b[0m \u001b[38;5;28;01mreturn\u001b[39;00m rv\n",
      "File \u001b[0;32m~/anaconda3/envs/mlscorecheck/lib/python3.12/site-packages/sympy/core/basic.py:1659\u001b[0m, in \u001b[0;36mBasic.replace.<locals>.rec_replace\u001b[0;34m(expr)\u001b[0m\n\u001b[1;32m   1657\u001b[0m result \u001b[38;5;241m=\u001b[39m _query(expr)\n\u001b[1;32m   1658\u001b[0m \u001b[38;5;28;01mif\u001b[39;00m result \u001b[38;5;129;01mor\u001b[39;00m result \u001b[38;5;241m==\u001b[39m {}:\n\u001b[0;32m-> 1659\u001b[0m     v \u001b[38;5;241m=\u001b[39m _value(expr, result)\n\u001b[1;32m   1660\u001b[0m     \u001b[38;5;28;01mif\u001b[39;00m v \u001b[38;5;129;01mis\u001b[39;00m \u001b[38;5;129;01mnot\u001b[39;00m \u001b[38;5;28;01mNone\u001b[39;00m \u001b[38;5;129;01mand\u001b[39;00m v \u001b[38;5;241m!=\u001b[39m expr:\n\u001b[1;32m   1661\u001b[0m         \u001b[38;5;28;01mif\u001b[39;00m \u001b[38;5;28mmap\u001b[39m:\n",
      "File \u001b[0;32m~/anaconda3/envs/mlscorecheck/lib/python3.12/site-packages/sympy/core/basic.py:1588\u001b[0m, in \u001b[0;36mBasic.replace.<locals>.<lambda>\u001b[0;34m(expr, result)\u001b[0m\n\u001b[1;32m   1586\u001b[0m     _value \u001b[38;5;241m=\u001b[39m \u001b[38;5;28;01mlambda\u001b[39;00m expr, result: value(\u001b[38;5;241m*\u001b[39mexpr\u001b[38;5;241m.\u001b[39margs)\n\u001b[1;32m   1587\u001b[0m \u001b[38;5;28;01melif\u001b[39;00m \u001b[38;5;28mcallable\u001b[39m(value):\n\u001b[0;32m-> 1588\u001b[0m     _value \u001b[38;5;241m=\u001b[39m \u001b[38;5;28;01mlambda\u001b[39;00m expr, result: value(\u001b[38;5;241m*\u001b[39mexpr\u001b[38;5;241m.\u001b[39margs)\n\u001b[1;32m   1589\u001b[0m \u001b[38;5;28;01melse\u001b[39;00m:\n\u001b[1;32m   1590\u001b[0m     \u001b[38;5;28;01mraise\u001b[39;00m \u001b[38;5;167;01mTypeError\u001b[39;00m(\n\u001b[1;32m   1591\u001b[0m         \u001b[38;5;124m\"\u001b[39m\u001b[38;5;124mgiven a type, replace() expects another \u001b[39m\u001b[38;5;124m\"\u001b[39m\n\u001b[1;32m   1592\u001b[0m         \u001b[38;5;124m\"\u001b[39m\u001b[38;5;124mtype or a callable\u001b[39m\u001b[38;5;124m\"\u001b[39m)\n",
      "File \u001b[0;32m~/anaconda3/envs/mlscorecheck/lib/python3.12/site-packages/sympy/simplify/hyperexpand.py:2490\u001b[0m, in \u001b[0;36mhyperexpand.<locals>.do_meijer\u001b[0;34m(ap, bq, z)\u001b[0m\n\u001b[1;32m   2489\u001b[0m \u001b[38;5;28;01mdef\u001b[39;00m \u001b[38;5;21mdo_meijer\u001b[39m(ap, bq, z):\n\u001b[0;32m-> 2490\u001b[0m     r \u001b[38;5;241m=\u001b[39m _meijergexpand(G_Function(ap[\u001b[38;5;241m0\u001b[39m], ap[\u001b[38;5;241m1\u001b[39m], bq[\u001b[38;5;241m0\u001b[39m], bq[\u001b[38;5;241m1\u001b[39m]), z,\n\u001b[1;32m   2491\u001b[0m                allow_hyper, rewrite\u001b[38;5;241m=\u001b[39mrewrite, place\u001b[38;5;241m=\u001b[39mplace)\n\u001b[1;32m   2492\u001b[0m     \u001b[38;5;28;01mif\u001b[39;00m \u001b[38;5;129;01mnot\u001b[39;00m r\u001b[38;5;241m.\u001b[39mhas(nan, zoo, oo, \u001b[38;5;241m-\u001b[39moo):\n\u001b[1;32m   2493\u001b[0m         \u001b[38;5;28;01mreturn\u001b[39;00m r\n",
      "File \u001b[0;32m~/anaconda3/envs/mlscorecheck/lib/python3.12/site-packages/sympy/simplify/hyperexpand.py:2379\u001b[0m, in \u001b[0;36m_meijergexpand\u001b[0;34m(func, z0, allow_hyper, rewrite, place)\u001b[0m\n\u001b[1;32m   2375\u001b[0m slater2, cond2 \u001b[38;5;241m=\u001b[39m do_slater(tr(func\u001b[38;5;241m.\u001b[39mbm), tr(func\u001b[38;5;241m.\u001b[39man), tr(func\u001b[38;5;241m.\u001b[39mbq), tr(func\u001b[38;5;241m.\u001b[39map),\n\u001b[1;32m   2376\u001b[0m                            t, \u001b[38;5;241m1\u001b[39m\u001b[38;5;241m/\u001b[39mz0)\n\u001b[1;32m   2378\u001b[0m slater1 \u001b[38;5;241m=\u001b[39m powdenest(slater1\u001b[38;5;241m.\u001b[39msubs(z, z0), polar\u001b[38;5;241m=\u001b[39m\u001b[38;5;28;01mTrue\u001b[39;00m)\n\u001b[0;32m-> 2379\u001b[0m slater2 \u001b[38;5;241m=\u001b[39m powdenest(slater2\u001b[38;5;241m.\u001b[39msubs(t, \u001b[38;5;241m1\u001b[39m\u001b[38;5;241m/\u001b[39mz0), polar\u001b[38;5;241m=\u001b[39m\u001b[38;5;28;01mTrue\u001b[39;00m)\n\u001b[1;32m   2380\u001b[0m \u001b[38;5;28;01mif\u001b[39;00m \u001b[38;5;129;01mnot\u001b[39;00m \u001b[38;5;28misinstance\u001b[39m(cond2, \u001b[38;5;28mbool\u001b[39m):\n\u001b[1;32m   2381\u001b[0m     cond2 \u001b[38;5;241m=\u001b[39m cond2\u001b[38;5;241m.\u001b[39msubs(t, \u001b[38;5;241m1\u001b[39m\u001b[38;5;241m/\u001b[39mz)\n",
      "File \u001b[0;32m~/anaconda3/envs/mlscorecheck/lib/python3.12/site-packages/sympy/simplify/powsimp.py:604\u001b[0m, in \u001b[0;36mpowdenest\u001b[0;34m(eq, force, polar)\u001b[0m\n\u001b[1;32m    602\u001b[0m \u001b[38;5;28;01mif\u001b[39;00m polar:\n\u001b[1;32m    603\u001b[0m     eq, rep \u001b[38;5;241m=\u001b[39m polarify(eq)\n\u001b[0;32m--> 604\u001b[0m     \u001b[38;5;28;01mreturn\u001b[39;00m unpolarify(powdenest(unpolarify(eq, exponents_only\u001b[38;5;241m=\u001b[39m\u001b[38;5;28;01mTrue\u001b[39;00m)), rep)\n\u001b[1;32m    606\u001b[0m new \u001b[38;5;241m=\u001b[39m powsimp(eq)\n\u001b[1;32m    607\u001b[0m \u001b[38;5;28;01mreturn\u001b[39;00m new\u001b[38;5;241m.\u001b[39mxreplace(Transform(\n\u001b[1;32m    608\u001b[0m     _denest_pow, \u001b[38;5;28mfilter\u001b[39m\u001b[38;5;241m=\u001b[39m\u001b[38;5;28;01mlambda\u001b[39;00m m: m\u001b[38;5;241m.\u001b[39mis_Pow \u001b[38;5;129;01mor\u001b[39;00m \u001b[38;5;28misinstance\u001b[39m(m, exp)))\n",
      "File \u001b[0;32m~/anaconda3/envs/mlscorecheck/lib/python3.12/site-packages/sympy/functions/elementary/complexes.py:1449\u001b[0m, in \u001b[0;36munpolarify\u001b[0;34m(eq, subs, exponents_only)\u001b[0m\n\u001b[1;32m   1447\u001b[0m eq \u001b[38;5;241m=\u001b[39m sympify(eq)\n\u001b[1;32m   1448\u001b[0m \u001b[38;5;28;01mif\u001b[39;00m subs \u001b[38;5;129;01mis\u001b[39;00m \u001b[38;5;129;01mnot\u001b[39;00m \u001b[38;5;28;01mNone\u001b[39;00m:\n\u001b[0;32m-> 1449\u001b[0m     \u001b[38;5;28;01mreturn\u001b[39;00m unpolarify(eq\u001b[38;5;241m.\u001b[39msubs(subs))\n\u001b[1;32m   1450\u001b[0m changed \u001b[38;5;241m=\u001b[39m \u001b[38;5;28;01mTrue\u001b[39;00m\n\u001b[1;32m   1451\u001b[0m pause \u001b[38;5;241m=\u001b[39m \u001b[38;5;28;01mFalse\u001b[39;00m\n",
      "File \u001b[0;32m~/anaconda3/envs/mlscorecheck/lib/python3.12/site-packages/sympy/core/basic.py:1040\u001b[0m, in \u001b[0;36mBasic.subs\u001b[0;34m(self, *args, **kwargs)\u001b[0m\n\u001b[1;32m   1038\u001b[0m rv \u001b[38;5;241m=\u001b[39m \u001b[38;5;28mself\u001b[39m\n\u001b[1;32m   1039\u001b[0m \u001b[38;5;28;01mfor\u001b[39;00m old, new \u001b[38;5;129;01min\u001b[39;00m sequence:\n\u001b[0;32m-> 1040\u001b[0m     rv \u001b[38;5;241m=\u001b[39m rv\u001b[38;5;241m.\u001b[39m_subs(old, new, \u001b[38;5;241m*\u001b[39m\u001b[38;5;241m*\u001b[39mkwargs)\n\u001b[1;32m   1041\u001b[0m     \u001b[38;5;28;01mif\u001b[39;00m \u001b[38;5;129;01mnot\u001b[39;00m \u001b[38;5;28misinstance\u001b[39m(rv, Basic):\n\u001b[1;32m   1042\u001b[0m         \u001b[38;5;28;01mbreak\u001b[39;00m\n",
      "File \u001b[0;32m~/anaconda3/envs/mlscorecheck/lib/python3.12/site-packages/sympy/core/cache.py:72\u001b[0m, in \u001b[0;36m__cacheit.<locals>.func_wrapper.<locals>.wrapper\u001b[0;34m(*args, **kwargs)\u001b[0m\n\u001b[1;32m     69\u001b[0m \u001b[38;5;129m@wraps\u001b[39m(func)\n\u001b[1;32m     70\u001b[0m \u001b[38;5;28;01mdef\u001b[39;00m \u001b[38;5;21mwrapper\u001b[39m(\u001b[38;5;241m*\u001b[39margs, \u001b[38;5;241m*\u001b[39m\u001b[38;5;241m*\u001b[39mkwargs):\n\u001b[1;32m     71\u001b[0m     \u001b[38;5;28;01mtry\u001b[39;00m:\n\u001b[0;32m---> 72\u001b[0m         retval \u001b[38;5;241m=\u001b[39m cfunc(\u001b[38;5;241m*\u001b[39margs, \u001b[38;5;241m*\u001b[39m\u001b[38;5;241m*\u001b[39mkwargs)\n\u001b[1;32m     73\u001b[0m     \u001b[38;5;28;01mexcept\u001b[39;00m \u001b[38;5;167;01mTypeError\u001b[39;00m \u001b[38;5;28;01mas\u001b[39;00m e:\n\u001b[1;32m     74\u001b[0m         \u001b[38;5;28;01mif\u001b[39;00m \u001b[38;5;129;01mnot\u001b[39;00m e\u001b[38;5;241m.\u001b[39margs \u001b[38;5;129;01mor\u001b[39;00m \u001b[38;5;129;01mnot\u001b[39;00m e\u001b[38;5;241m.\u001b[39margs[\u001b[38;5;241m0\u001b[39m]\u001b[38;5;241m.\u001b[39mstartswith(\u001b[38;5;124m'\u001b[39m\u001b[38;5;124munhashable type:\u001b[39m\u001b[38;5;124m'\u001b[39m):\n",
      "File \u001b[0;32m~/anaconda3/envs/mlscorecheck/lib/python3.12/site-packages/sympy/core/basic.py:1154\u001b[0m, in \u001b[0;36mBasic._subs\u001b[0;34m(self, old, new, **hints)\u001b[0m\n\u001b[1;32m   1152\u001b[0m rv \u001b[38;5;241m=\u001b[39m \u001b[38;5;28mself\u001b[39m\u001b[38;5;241m.\u001b[39m_eval_subs(old, new)\n\u001b[1;32m   1153\u001b[0m \u001b[38;5;28;01mif\u001b[39;00m rv \u001b[38;5;129;01mis\u001b[39;00m \u001b[38;5;28;01mNone\u001b[39;00m:\n\u001b[0;32m-> 1154\u001b[0m     rv \u001b[38;5;241m=\u001b[39m fallback(\u001b[38;5;28mself\u001b[39m, old, new)\n\u001b[1;32m   1155\u001b[0m \u001b[38;5;28;01mreturn\u001b[39;00m rv\n",
      "File \u001b[0;32m~/anaconda3/envs/mlscorecheck/lib/python3.12/site-packages/sympy/core/basic.py:1126\u001b[0m, in \u001b[0;36mBasic._subs.<locals>.fallback\u001b[0;34m(self, old, new)\u001b[0m\n\u001b[1;32m   1124\u001b[0m \u001b[38;5;28;01mif\u001b[39;00m \u001b[38;5;129;01mnot\u001b[39;00m \u001b[38;5;28mhasattr\u001b[39m(arg, \u001b[38;5;124m'\u001b[39m\u001b[38;5;124m_eval_subs\u001b[39m\u001b[38;5;124m'\u001b[39m):\n\u001b[1;32m   1125\u001b[0m     \u001b[38;5;28;01mcontinue\u001b[39;00m\n\u001b[0;32m-> 1126\u001b[0m arg \u001b[38;5;241m=\u001b[39m arg\u001b[38;5;241m.\u001b[39m_subs(old, new, \u001b[38;5;241m*\u001b[39m\u001b[38;5;241m*\u001b[39mhints)\n\u001b[1;32m   1127\u001b[0m \u001b[38;5;28;01mif\u001b[39;00m \u001b[38;5;129;01mnot\u001b[39;00m _aresame(arg, args[i]):\n\u001b[1;32m   1128\u001b[0m     hit \u001b[38;5;241m=\u001b[39m \u001b[38;5;28;01mTrue\u001b[39;00m\n",
      "File \u001b[0;32m~/anaconda3/envs/mlscorecheck/lib/python3.12/site-packages/sympy/core/cache.py:72\u001b[0m, in \u001b[0;36m__cacheit.<locals>.func_wrapper.<locals>.wrapper\u001b[0;34m(*args, **kwargs)\u001b[0m\n\u001b[1;32m     69\u001b[0m \u001b[38;5;129m@wraps\u001b[39m(func)\n\u001b[1;32m     70\u001b[0m \u001b[38;5;28;01mdef\u001b[39;00m \u001b[38;5;21mwrapper\u001b[39m(\u001b[38;5;241m*\u001b[39margs, \u001b[38;5;241m*\u001b[39m\u001b[38;5;241m*\u001b[39mkwargs):\n\u001b[1;32m     71\u001b[0m     \u001b[38;5;28;01mtry\u001b[39;00m:\n\u001b[0;32m---> 72\u001b[0m         retval \u001b[38;5;241m=\u001b[39m cfunc(\u001b[38;5;241m*\u001b[39margs, \u001b[38;5;241m*\u001b[39m\u001b[38;5;241m*\u001b[39mkwargs)\n\u001b[1;32m     73\u001b[0m     \u001b[38;5;28;01mexcept\u001b[39;00m \u001b[38;5;167;01mTypeError\u001b[39;00m \u001b[38;5;28;01mas\u001b[39;00m e:\n\u001b[1;32m     74\u001b[0m         \u001b[38;5;28;01mif\u001b[39;00m \u001b[38;5;129;01mnot\u001b[39;00m e\u001b[38;5;241m.\u001b[39margs \u001b[38;5;129;01mor\u001b[39;00m \u001b[38;5;129;01mnot\u001b[39;00m e\u001b[38;5;241m.\u001b[39margs[\u001b[38;5;241m0\u001b[39m]\u001b[38;5;241m.\u001b[39mstartswith(\u001b[38;5;124m'\u001b[39m\u001b[38;5;124munhashable type:\u001b[39m\u001b[38;5;124m'\u001b[39m):\n",
      "File \u001b[0;32m~/anaconda3/envs/mlscorecheck/lib/python3.12/site-packages/sympy/core/basic.py:1154\u001b[0m, in \u001b[0;36mBasic._subs\u001b[0;34m(self, old, new, **hints)\u001b[0m\n\u001b[1;32m   1152\u001b[0m rv \u001b[38;5;241m=\u001b[39m \u001b[38;5;28mself\u001b[39m\u001b[38;5;241m.\u001b[39m_eval_subs(old, new)\n\u001b[1;32m   1153\u001b[0m \u001b[38;5;28;01mif\u001b[39;00m rv \u001b[38;5;129;01mis\u001b[39;00m \u001b[38;5;28;01mNone\u001b[39;00m:\n\u001b[0;32m-> 1154\u001b[0m     rv \u001b[38;5;241m=\u001b[39m fallback(\u001b[38;5;28mself\u001b[39m, old, new)\n\u001b[1;32m   1155\u001b[0m \u001b[38;5;28;01mreturn\u001b[39;00m rv\n",
      "File \u001b[0;32m~/anaconda3/envs/mlscorecheck/lib/python3.12/site-packages/sympy/core/basic.py:1126\u001b[0m, in \u001b[0;36mBasic._subs.<locals>.fallback\u001b[0;34m(self, old, new)\u001b[0m\n\u001b[1;32m   1124\u001b[0m \u001b[38;5;28;01mif\u001b[39;00m \u001b[38;5;129;01mnot\u001b[39;00m \u001b[38;5;28mhasattr\u001b[39m(arg, \u001b[38;5;124m'\u001b[39m\u001b[38;5;124m_eval_subs\u001b[39m\u001b[38;5;124m'\u001b[39m):\n\u001b[1;32m   1125\u001b[0m     \u001b[38;5;28;01mcontinue\u001b[39;00m\n\u001b[0;32m-> 1126\u001b[0m arg \u001b[38;5;241m=\u001b[39m arg\u001b[38;5;241m.\u001b[39m_subs(old, new, \u001b[38;5;241m*\u001b[39m\u001b[38;5;241m*\u001b[39mhints)\n\u001b[1;32m   1127\u001b[0m \u001b[38;5;28;01mif\u001b[39;00m \u001b[38;5;129;01mnot\u001b[39;00m _aresame(arg, args[i]):\n\u001b[1;32m   1128\u001b[0m     hit \u001b[38;5;241m=\u001b[39m \u001b[38;5;28;01mTrue\u001b[39;00m\n",
      "File \u001b[0;32m~/anaconda3/envs/mlscorecheck/lib/python3.12/site-packages/sympy/core/cache.py:72\u001b[0m, in \u001b[0;36m__cacheit.<locals>.func_wrapper.<locals>.wrapper\u001b[0;34m(*args, **kwargs)\u001b[0m\n\u001b[1;32m     69\u001b[0m \u001b[38;5;129m@wraps\u001b[39m(func)\n\u001b[1;32m     70\u001b[0m \u001b[38;5;28;01mdef\u001b[39;00m \u001b[38;5;21mwrapper\u001b[39m(\u001b[38;5;241m*\u001b[39margs, \u001b[38;5;241m*\u001b[39m\u001b[38;5;241m*\u001b[39mkwargs):\n\u001b[1;32m     71\u001b[0m     \u001b[38;5;28;01mtry\u001b[39;00m:\n\u001b[0;32m---> 72\u001b[0m         retval \u001b[38;5;241m=\u001b[39m cfunc(\u001b[38;5;241m*\u001b[39margs, \u001b[38;5;241m*\u001b[39m\u001b[38;5;241m*\u001b[39mkwargs)\n\u001b[1;32m     73\u001b[0m     \u001b[38;5;28;01mexcept\u001b[39;00m \u001b[38;5;167;01mTypeError\u001b[39;00m \u001b[38;5;28;01mas\u001b[39;00m e:\n\u001b[1;32m     74\u001b[0m         \u001b[38;5;28;01mif\u001b[39;00m \u001b[38;5;129;01mnot\u001b[39;00m e\u001b[38;5;241m.\u001b[39margs \u001b[38;5;129;01mor\u001b[39;00m \u001b[38;5;129;01mnot\u001b[39;00m e\u001b[38;5;241m.\u001b[39margs[\u001b[38;5;241m0\u001b[39m]\u001b[38;5;241m.\u001b[39mstartswith(\u001b[38;5;124m'\u001b[39m\u001b[38;5;124munhashable type:\u001b[39m\u001b[38;5;124m'\u001b[39m):\n",
      "File \u001b[0;32m~/anaconda3/envs/mlscorecheck/lib/python3.12/site-packages/sympy/core/basic.py:1154\u001b[0m, in \u001b[0;36mBasic._subs\u001b[0;34m(self, old, new, **hints)\u001b[0m\n\u001b[1;32m   1152\u001b[0m rv \u001b[38;5;241m=\u001b[39m \u001b[38;5;28mself\u001b[39m\u001b[38;5;241m.\u001b[39m_eval_subs(old, new)\n\u001b[1;32m   1153\u001b[0m \u001b[38;5;28;01mif\u001b[39;00m rv \u001b[38;5;129;01mis\u001b[39;00m \u001b[38;5;28;01mNone\u001b[39;00m:\n\u001b[0;32m-> 1154\u001b[0m     rv \u001b[38;5;241m=\u001b[39m fallback(\u001b[38;5;28mself\u001b[39m, old, new)\n\u001b[1;32m   1155\u001b[0m \u001b[38;5;28;01mreturn\u001b[39;00m rv\n",
      "File \u001b[0;32m~/anaconda3/envs/mlscorecheck/lib/python3.12/site-packages/sympy/core/basic.py:1126\u001b[0m, in \u001b[0;36mBasic._subs.<locals>.fallback\u001b[0;34m(self, old, new)\u001b[0m\n\u001b[1;32m   1124\u001b[0m \u001b[38;5;28;01mif\u001b[39;00m \u001b[38;5;129;01mnot\u001b[39;00m \u001b[38;5;28mhasattr\u001b[39m(arg, \u001b[38;5;124m'\u001b[39m\u001b[38;5;124m_eval_subs\u001b[39m\u001b[38;5;124m'\u001b[39m):\n\u001b[1;32m   1125\u001b[0m     \u001b[38;5;28;01mcontinue\u001b[39;00m\n\u001b[0;32m-> 1126\u001b[0m arg \u001b[38;5;241m=\u001b[39m arg\u001b[38;5;241m.\u001b[39m_subs(old, new, \u001b[38;5;241m*\u001b[39m\u001b[38;5;241m*\u001b[39mhints)\n\u001b[1;32m   1127\u001b[0m \u001b[38;5;28;01mif\u001b[39;00m \u001b[38;5;129;01mnot\u001b[39;00m _aresame(arg, args[i]):\n\u001b[1;32m   1128\u001b[0m     hit \u001b[38;5;241m=\u001b[39m \u001b[38;5;28;01mTrue\u001b[39;00m\n",
      "File \u001b[0;32m~/anaconda3/envs/mlscorecheck/lib/python3.12/site-packages/sympy/core/cache.py:72\u001b[0m, in \u001b[0;36m__cacheit.<locals>.func_wrapper.<locals>.wrapper\u001b[0;34m(*args, **kwargs)\u001b[0m\n\u001b[1;32m     69\u001b[0m \u001b[38;5;129m@wraps\u001b[39m(func)\n\u001b[1;32m     70\u001b[0m \u001b[38;5;28;01mdef\u001b[39;00m \u001b[38;5;21mwrapper\u001b[39m(\u001b[38;5;241m*\u001b[39margs, \u001b[38;5;241m*\u001b[39m\u001b[38;5;241m*\u001b[39mkwargs):\n\u001b[1;32m     71\u001b[0m     \u001b[38;5;28;01mtry\u001b[39;00m:\n\u001b[0;32m---> 72\u001b[0m         retval \u001b[38;5;241m=\u001b[39m cfunc(\u001b[38;5;241m*\u001b[39margs, \u001b[38;5;241m*\u001b[39m\u001b[38;5;241m*\u001b[39mkwargs)\n\u001b[1;32m     73\u001b[0m     \u001b[38;5;28;01mexcept\u001b[39;00m \u001b[38;5;167;01mTypeError\u001b[39;00m \u001b[38;5;28;01mas\u001b[39;00m e:\n\u001b[1;32m     74\u001b[0m         \u001b[38;5;28;01mif\u001b[39;00m \u001b[38;5;129;01mnot\u001b[39;00m e\u001b[38;5;241m.\u001b[39margs \u001b[38;5;129;01mor\u001b[39;00m \u001b[38;5;129;01mnot\u001b[39;00m e\u001b[38;5;241m.\u001b[39margs[\u001b[38;5;241m0\u001b[39m]\u001b[38;5;241m.\u001b[39mstartswith(\u001b[38;5;124m'\u001b[39m\u001b[38;5;124munhashable type:\u001b[39m\u001b[38;5;124m'\u001b[39m):\n",
      "File \u001b[0;32m~/anaconda3/envs/mlscorecheck/lib/python3.12/site-packages/sympy/core/basic.py:1154\u001b[0m, in \u001b[0;36mBasic._subs\u001b[0;34m(self, old, new, **hints)\u001b[0m\n\u001b[1;32m   1152\u001b[0m rv \u001b[38;5;241m=\u001b[39m \u001b[38;5;28mself\u001b[39m\u001b[38;5;241m.\u001b[39m_eval_subs(old, new)\n\u001b[1;32m   1153\u001b[0m \u001b[38;5;28;01mif\u001b[39;00m rv \u001b[38;5;129;01mis\u001b[39;00m \u001b[38;5;28;01mNone\u001b[39;00m:\n\u001b[0;32m-> 1154\u001b[0m     rv \u001b[38;5;241m=\u001b[39m fallback(\u001b[38;5;28mself\u001b[39m, old, new)\n\u001b[1;32m   1155\u001b[0m \u001b[38;5;28;01mreturn\u001b[39;00m rv\n",
      "File \u001b[0;32m~/anaconda3/envs/mlscorecheck/lib/python3.12/site-packages/sympy/core/basic.py:1131\u001b[0m, in \u001b[0;36mBasic._subs.<locals>.fallback\u001b[0;34m(self, old, new)\u001b[0m\n\u001b[1;32m   1129\u001b[0m         args[i] \u001b[38;5;241m=\u001b[39m arg\n\u001b[1;32m   1130\u001b[0m \u001b[38;5;28;01mif\u001b[39;00m hit:\n\u001b[0;32m-> 1131\u001b[0m     rv \u001b[38;5;241m=\u001b[39m \u001b[38;5;28mself\u001b[39m\u001b[38;5;241m.\u001b[39mfunc(\u001b[38;5;241m*\u001b[39margs)\n\u001b[1;32m   1132\u001b[0m     hack2 \u001b[38;5;241m=\u001b[39m hints\u001b[38;5;241m.\u001b[39mget(\u001b[38;5;124m'\u001b[39m\u001b[38;5;124mhack2\u001b[39m\u001b[38;5;124m'\u001b[39m, \u001b[38;5;28;01mFalse\u001b[39;00m)\n\u001b[1;32m   1133\u001b[0m     \u001b[38;5;28;01mif\u001b[39;00m hack2 \u001b[38;5;129;01mand\u001b[39;00m \u001b[38;5;28mself\u001b[39m\u001b[38;5;241m.\u001b[39mis_Mul \u001b[38;5;129;01mand\u001b[39;00m \u001b[38;5;129;01mnot\u001b[39;00m rv\u001b[38;5;241m.\u001b[39mis_Mul:  \u001b[38;5;66;03m# 2-arg hack\u001b[39;00m\n",
      "File \u001b[0;32m~/anaconda3/envs/mlscorecheck/lib/python3.12/site-packages/sympy/core/function.py:369\u001b[0m, in \u001b[0;36mApplication.func\u001b[0;34m(self)\u001b[0m\n\u001b[1;32m    339\u001b[0m \u001b[38;5;250m    \u001b[39m\u001b[38;5;124;03m\"\"\"\u001b[39;00m\n\u001b[1;32m    340\u001b[0m \u001b[38;5;124;03m    Returns a canonical form of cls applied to arguments args.\u001b[39;00m\n\u001b[1;32m    341\u001b[0m \n\u001b[0;32m   (...)\u001b[0m\n\u001b[1;32m    365\u001b[0m \n\u001b[1;32m    366\u001b[0m \u001b[38;5;124;03m    \"\"\"\u001b[39;00m\n\u001b[1;32m    367\u001b[0m     \u001b[38;5;28;01mreturn\u001b[39;00m\n\u001b[0;32m--> 369\u001b[0m \u001b[38;5;129m@property\u001b[39m\n\u001b[1;32m    370\u001b[0m \u001b[38;5;28;01mdef\u001b[39;00m \u001b[38;5;21mfunc\u001b[39m(\u001b[38;5;28mself\u001b[39m):\n\u001b[1;32m    371\u001b[0m     \u001b[38;5;28;01mreturn\u001b[39;00m \u001b[38;5;28mself\u001b[39m\u001b[38;5;241m.\u001b[39m\u001b[38;5;18m__class__\u001b[39m\n\u001b[1;32m    373\u001b[0m \u001b[38;5;28;01mdef\u001b[39;00m \u001b[38;5;21m_eval_subs\u001b[39m(\u001b[38;5;28mself\u001b[39m, old, new):\n",
      "\u001b[0;31mKeyboardInterrupt\u001b[0m: "
     ]
    }
   ],
   "source": [
    "sp.integrate((1 - x**beta)*sp.diff((1 - x)**alpha, x), (x, 0, 1))"
   ]
  },
  {
   "cell_type": "code",
   "execution_count": 1,
   "metadata": {},
   "outputs": [],
   "source": [
    "import numpy as np\n",
    "import pandas as pd\n",
    "\n",
    "import matplotlib.pyplot as plt\n",
    "\n",
    "from mlscorecheck.auc import auc_from_aggregated, max_acc_from_aggregated, estimate_acc_interval, auc_from, auc_min, auc_max\n",
    "from mlscorecheck.auc import auc_onmin_grad, auc_maxa_grad, auc_max_grad, auc_rmin_grad, auc_max, auc_lower_from, auc_upper_from, auc_analytic, auc_analytic_exponents, exponential_fitting, exponential_fitting2\n",
    "from mlscorecheck.auc import generate_roc_curve, integrate_roc_curve, generate_roc_curve_slope, generate_1_roc_curve, integrate_roc_curves, sample_triangle\n",
    "from mlscorecheck.experiments import load_drive"
   ]
  },
  {
   "cell_type": "code",
   "execution_count": 17,
   "metadata": {},
   "outputs": [],
   "source": [
    "fprs, tprs = [], []\n",
    "for _ in range(1000):\n",
    "    fp, tp = generate_1_roc_curve(0.7763, 1.0 - 0.9767, 1000, random_middle=False)\n",
    "    fprs.append(fp)\n",
    "    tprs.append(tp)                \n",
    "fprs = np.vstack(fprs)\n",
    "tprs = np.vstack(tprs)"
   ]
  },
  {
   "cell_type": "code",
   "execution_count": 18,
   "metadata": {},
   "outputs": [],
   "source": [
    "aucs = integrate_roc_curves(fprs, tprs)"
   ]
  },
  {
   "cell_type": "code",
   "execution_count": 19,
   "metadata": {},
   "outputs": [
    {
     "data": {
      "text/plain": [
       "np.float64(0.925546996137226)"
      ]
     },
     "execution_count": 19,
     "metadata": {},
     "output_type": "execute_result"
    }
   ],
   "source": [
    "np.mean(aucs)"
   ]
  },
  {
   "cell_type": "code",
   "execution_count": 20,
   "metadata": {},
   "outputs": [
    {
     "data": {
      "text/plain": [
       "(array([ 85., 129., 119., 133., 138., 106., 111.,  65.,  75.,  39.]),\n",
       " array([0.87673347, 0.88781352, 0.89889356, 0.90997361, 0.92105366,\n",
       "        0.9321337 , 0.94321375, 0.9542938 , 0.96537384, 0.97645389,\n",
       "        0.98753394]),\n",
       " <BarContainer object of 10 artists>)"
      ]
     },
     "execution_count": 20,
     "metadata": {},
     "output_type": "execute_result"
    },
    {
     "data": {
      "image/png": "[encoded data removed]",
      "text/plain": [
       "<Figure size 640x480 with 1 Axes>"
      ]
     },
     "metadata": {},
     "output_type": "display_data"
    }
   ],
   "source": [
    "plt.hist(aucs)"
   ]
  },
  {
   "cell_type": "code",
   "execution_count": 8,
   "metadata": {},
   "outputs": [
    {
     "data": {
      "text/plain": [
       "0.87615"
      ]
     },
     "execution_count": 8,
     "metadata": {},
     "output_type": "execute_result"
    }
   ],
   "source": [
    "(auc_min(1.0 - 0.976, 0.7763) + auc_max(1.0 - 0.976, 0.7763))/2"
   ]
  },
  {
   "cell_type": "code",
   "execution_count": 22,
   "metadata": {},
   "outputs": [
    {
     "data": {
      "image/png": "[encoded data removed]",
      "text/plain": [
       "<Figure size 640x480 with 1 Axes>"
      ]
     },
     "metadata": {},
     "output_type": "display_data"
    }
   ],
   "source": [
    "for idx in range(10, 20):\n",
    "    plt.plot(fprs[idx], tprs[idx])"
   ]
  },
  {
   "cell_type": "code",
   "execution_count": 45,
   "metadata": {},
   "outputs": [
    {
     "data": {
      "text/plain": [
       "<matplotlib.collections.PathCollection at 0x7f87c1fca3f0>"
      ]
     },
     "execution_count": 45,
     "metadata": {},
     "output_type": "execute_result"
    },
    {
     "data": {
      "image/png": "[encoded data removed]",
      "text/plain": [
       "<Figure size 640x480 with 1 Axes>"
      ]
     },
     "metadata": {},
     "output_type": "display_data"
    }
   ],
   "source": [
    "plt.scatter(fprs[:, 3], tprs[:, 3])"
   ]
  },
  {
   "cell_type": "code",
   "execution_count": 61,
   "metadata": {},
   "outputs": [
    {
     "name": "stdout",
     "output_type": "stream",
     "text": [
      "0\n",
      "1\n",
      "2\n",
      "3\n",
      "4\n",
      "5\n",
      "6\n",
      "7\n",
      "8\n",
      "9\n",
      "10\n",
      "11\n",
      "12\n",
      "13\n",
      "14\n",
      "15\n",
      "16\n",
      "[0.         0.70604274 0.75287448 0.77258868 0.7763     0.78357603\n",
      " 0.78644799 0.78744783 0.78804257 0.78826588 0.79658868 0.79784933\n",
      " 0.79813763 0.79953345 0.80147612 0.80857698 0.81239725 0.82194034\n",
      " 0.84334324 1.        ] [0.         0.01417873 0.01517306 0.02206642 0.024      0.02873858\n",
      " 0.03060901 0.03126021 0.0316479  0.03179354 0.03722977 0.03806165\n",
      " 0.03826535 0.03967356 0.04370281 0.05870015 0.06736218 0.10153672\n",
      " 0.20417802 1.        ]\n"
     ]
    },
    {
     "data": {
      "image/png": "[encoded data removed]",
      "text/plain": [
       "<Figure size 640x480 with 1 Axes>"
      ]
     },
     "metadata": {},
     "output_type": "display_data"
    }
   ],
   "source": [
    "#random_state = np.random.RandomState(5)\n",
    "fpr, tpr = generate_1_roc_curve(0.7763, 1.0 - 0.976, 20, random_middle=True\n",
    "plt.plot(fpr, tpr)\n",
    "print(tpr, fpr)"
   ]
  },
  {
   "cell_type": "code",
   "execution_count": 18,
   "metadata": {},
   "outputs": [
    {
     "data": {
      "text/plain": [
       "[<matplotlib.lines.Line2D at 0x7fca05226fc0>]"
      ]
     },
     "execution_count": 18,
     "metadata": {},
     "output_type": "execute_result"
    },
    {
     "data": {
      "image/png": "[encoded data removed]",
      "text/plain": [
       "<Figure size 640x480 with 1 Axes>"
      ]
     },
     "metadata": {},
     "output_type": "display_data"
    }
   ],
   "source": [
    "plt.plot(fpr, tpr)"
   ]
  },
  {
   "cell_type": "code",
   "execution_count": 5,
   "metadata": {},
   "outputs": [],
   "source": [
    "curves = generate_roc_curve_slope(0.7763, 1.0 - 0.976, 100, 1000)\n",
    "mask = np.all(curves[0] <= curves[1], axis=1)\n",
    "curves = (curves[0][mask], curves[1][mask])\n",
    "aucs = [integrate_roc_curve(fprs, tprs) for fprs, tprs in zip(*curves)]"
   ]
  },
  {
   "cell_type": "code",
   "execution_count": 6,
   "metadata": {},
   "outputs": [
    {
     "data": {
      "text/plain": [
       "(array([159., 153., 132., 111., 122., 102.,  96.,  64.,  41.,  20.]),\n",
       " array([0.87704229, 0.88760498, 0.89816768, 0.90873037, 0.91929306,\n",
       "        0.92985576, 0.94041845, 0.95098114, 0.96154383, 0.97210653,\n",
       "        0.98266922]),\n",
       " <BarContainer object of 10 artists>)"
      ]
     },
     "execution_count": 6,
     "metadata": {},
     "output_type": "execute_result"
    },
    {
     "data": {
      "image/png": "[encoded data removed]",
      "text/plain": [
       "<Figure size 640x480 with 1 Axes>"
      ]
     },
     "metadata": {},
     "output_type": "display_data"
    }
   ],
   "source": [
    "plt.hist(aucs)"
   ]
  },
  {
   "cell_type": "code",
   "execution_count": 18,
   "metadata": {},
   "outputs": [
    {
     "data": {
      "text/plain": [
       "(array([[0.00000000e+00, 1.16950049e-02, 1.73783040e-02, 1.92942283e-02,\n",
       "         1.95897351e-02, 1.98106097e-02, 1.98658816e-02, 1.99543963e-02,\n",
       "         2.00770622e-02, 2.05526862e-02, 2.18402767e-02, 2.28608488e-02,\n",
       "         2.34726813e-02, 2.36871079e-02, 2.37742703e-02, 2.40000000e-02,\n",
       "         7.64306482e-02, 9.28598565e-02, 1.52692127e-01, 2.99058420e-01,\n",
       "         5.63688953e-01, 6.23427045e-01, 7.18069220e-01, 7.18335363e-01,\n",
       "         7.18742308e-01, 7.27554341e-01, 7.49259061e-01, 7.99295492e-01,\n",
       "         8.14908854e-01, 1.00000000e+00],\n",
       "        [0.00000000e+00, 2.39414670e-04, 8.19294891e-03, 8.31951307e-03,\n",
       "         8.62733259e-03, 8.86866852e-03, 9.77809513e-03, 1.20804452e-02,\n",
       "         1.99759564e-02, 2.00591513e-02, 2.10598590e-02, 2.20355928e-02,\n",
       "         2.27953551e-02, 2.31942318e-02, 2.36985499e-02, 2.40000000e-02,\n",
       "         3.56829114e-02, 5.22327061e-02, 6.31696979e-02, 2.07184126e-01,\n",
       "         2.08500447e-01, 2.09390312e-01, 2.12065228e-01, 2.18723843e-01,\n",
       "         2.20935106e-01, 2.54061515e-01, 2.57095622e-01, 2.99960580e-01,\n",
       "         4.38563165e-01, 1.00000000e+00],\n",
       "        [0.00000000e+00, 6.21846562e-03, 6.36252359e-03, 6.70844246e-03,\n",
       "         6.97176198e-03, 9.11726286e-03, 9.63210906e-03, 9.77095886e-03,\n",
       "         1.24448258e-02, 1.42467343e-02, 1.44237769e-02, 1.46462447e-02,\n",
       "         1.49181808e-02, 2.03541560e-02, 2.27778253e-02, 2.40000000e-02,\n",
       "         5.28473628e-02, 1.85042995e-01, 5.69527257e-01, 8.75689761e-01,\n",
       "         8.76992063e-01, 8.78430674e-01, 8.78785057e-01, 8.79468027e-01,\n",
       "         8.80134525e-01, 8.80164558e-01, 8.80204633e-01, 8.80251871e-01,\n",
       "         9.27204964e-01, 1.00000000e+00],\n",
       "        [0.00000000e+00, 2.11114993e-02, 2.15651740e-02, 2.15712645e-02,\n",
       "         2.16109419e-02, 2.16128250e-02, 2.19885788e-02, 2.22780589e-02,\n",
       "         2.24180089e-02, 2.24254804e-02, 2.24408838e-02, 2.25921262e-02,\n",
       "         2.28328714e-02, 2.30440573e-02, 2.31378076e-02, 2.40000000e-02,\n",
       "         8.18872414e-02, 1.58992727e-01, 1.61440870e-01, 4.77455048e-01,\n",
       "         5.49445605e-01, 6.69688393e-01, 7.89780786e-01, 8.04350327e-01,\n",
       "         8.15417229e-01, 8.15757057e-01, 8.83215892e-01, 9.38538071e-01,\n",
       "         9.39444978e-01, 1.00000000e+00],\n",
       "        [0.00000000e+00, 2.72082844e-04, 7.13402097e-04, 1.62805179e-03,\n",
       "         3.48454382e-03, 3.91499740e-03, 4.12319596e-03, 1.22996630e-02,\n",
       "         2.16588504e-02, 2.17820879e-02, 2.20084667e-02, 2.21768066e-02,\n",
       "         2.21797132e-02, 2.21953194e-02, 2.22435267e-02, 2.40000000e-02,\n",
       "         1.07831644e-01, 1.16877373e-01, 1.46804079e-01, 1.51743463e-01,\n",
       "         1.61861685e-01, 1.69720809e-01, 2.23628288e-01, 2.23682451e-01,\n",
       "         2.23830717e-01, 2.23887956e-01, 2.24069352e-01, 2.25761815e-01,\n",
       "         3.56328369e-01, 1.00000000e+00],\n",
       "        [0.00000000e+00, 5.62993678e-04, 8.17709385e-04, 1.32687874e-03,\n",
       "         1.43056944e-03, 1.94105591e-03, 2.57033888e-03, 8.59602105e-03,\n",
       "         8.93042105e-03, 8.98553547e-03, 1.16524937e-02, 1.36552179e-02,\n",
       "         1.96973196e-02, 2.34534210e-02, 2.38142475e-02, 2.40000000e-02,\n",
       "         4.68336607e-01, 5.36232606e-01, 7.19100725e-01, 7.62007468e-01,\n",
       "         7.63967725e-01, 7.68460188e-01, 7.76812544e-01, 9.89279256e-01,\n",
       "         9.90030943e-01, 9.90072510e-01, 9.93381749e-01, 9.94290096e-01,\n",
       "         9.95743389e-01, 1.00000000e+00],\n",
       "        [0.00000000e+00, 5.10300702e-06, 5.90969295e-05, 1.01111894e-04,\n",
       "         1.35016904e-04, 1.26249018e-03, 1.30961047e-03, 1.34392867e-03,\n",
       "         1.37513567e-03, 1.40717930e-03, 4.36502947e-03, 7.14433356e-03,\n",
       "         8.04415349e-03, 1.06663197e-02, 2.30455334e-02, 2.40000000e-02,\n",
       "         2.09658996e-01, 5.99402060e-01, 6.11576139e-01, 6.14068986e-01,\n",
       "         6.16162591e-01, 6.30962829e-01, 6.56879056e-01, 6.58619640e-01,\n",
       "         7.34171817e-01, 7.35504490e-01, 7.37449812e-01, 7.48129598e-01,\n",
       "         8.34261195e-01, 1.00000000e+00],\n",
       "        [0.00000000e+00, 8.55819592e-03, 1.01518172e-02, 1.01912519e-02,\n",
       "         1.03842449e-02, 1.04840811e-02, 1.08098211e-02, 1.12726881e-02,\n",
       "         1.16896932e-02, 1.26464941e-02, 1.29749807e-02, 1.30840356e-02,\n",
       "         1.43845432e-02, 1.98667742e-02, 2.14075243e-02, 2.40000000e-02,\n",
       "         9.80939195e-02, 1.01529675e-01, 1.26323491e-01, 1.32916296e-01,\n",
       "         1.78645899e-01, 2.68330774e-01, 4.14623783e-01, 4.28474954e-01,\n",
       "         4.28590472e-01, 4.28661496e-01, 4.28721975e-01, 4.28726913e-01,\n",
       "         8.06871413e-01, 1.00000000e+00],\n",
       "        [0.00000000e+00, 7.73486893e-05, 8.38064278e-04, 2.64658958e-03,\n",
       "         2.64696577e-03, 2.64810622e-03, 2.65195895e-03, 2.65236580e-03,\n",
       "         2.87211607e-03, 2.96428956e-03, 2.99327490e-03, 3.02529814e-03,\n",
       "         3.03086388e-03, 3.56751589e-03, 1.72881198e-02, 2.40000000e-02,\n",
       "         2.56672850e-02, 2.67873075e-02, 2.75984194e-02, 2.95036027e-02,\n",
       "         3.17686676e-02, 3.30392687e-02, 3.47882333e-02, 3.49130033e-02,\n",
       "         3.51272329e-02, 5.24488673e-02, 5.48077995e-02, 6.14458710e-01,\n",
       "         7.97531780e-01, 1.00000000e+00],\n",
       "        [0.00000000e+00, 2.14397996e-03, 3.37000350e-03, 3.50817758e-03,\n",
       "         3.56503069e-03, 3.71484947e-03, 3.80771873e-03, 3.83251782e-03,\n",
       "         3.85347937e-03, 4.24185174e-03, 4.43744079e-03, 4.62103192e-03,\n",
       "         4.67138575e-03, 4.72504019e-03, 1.21626742e-02, 2.40000000e-02,\n",
       "         5.63962728e-01, 7.25913658e-01, 7.58347921e-01, 8.00560343e-01,\n",
       "         8.66758570e-01, 9.02978865e-01, 9.03831578e-01, 9.09351025e-01,\n",
       "         9.09403456e-01, 9.09793822e-01, 9.09864559e-01, 9.10336097e-01,\n",
       "         9.10515624e-01, 1.00000000e+00]]),\n",
       " array([[0.        , 0.73231341, 0.7599124 , 0.76605044, 0.76699579,\n",
       "         0.76768921, 0.76786215, 0.76813752, 0.76850475, 0.76966437,\n",
       "         0.7727753 , 0.77509883, 0.77595081, 0.77612146, 0.7761776 ,\n",
       "         0.7763    , 0.79410078, 0.79931952, 0.81715797, 0.85930012,\n",
       "         0.92212035, 0.93592836, 0.95722579, 0.95728563, 0.95737676,\n",
       "         0.959344  , 0.96412238, 0.97265203, 0.97520147, 1.        ],\n",
       "        [0.        , 0.03648412, 0.34408252, 0.34879589, 0.36025146,\n",
       "         0.36913083, 0.40041487, 0.47258371, 0.68610678, 0.68835272,\n",
       "         0.71306828, 0.73607743, 0.75172106, 0.75987824, 0.7701572 ,\n",
       "         0.7763    , 0.78079067, 0.78664836, 0.79051229, 0.84019659,\n",
       "         0.8406507 , 0.84095768, 0.84188045, 0.84417692, 0.84493888,\n",
       "         0.85633669, 0.85737606, 0.87192069, 0.90633141, 1.        ],\n",
       "        [0.        , 0.34116673, 0.34519204, 0.35473964, 0.3615623 ,\n",
       "         0.41495111, 0.4277438 , 0.43118592, 0.49682584, 0.54072253,\n",
       "         0.54503328, 0.55044188, 0.55703874, 0.68890878, 0.74719964,\n",
       "         0.7763    , 0.79034184, 0.82195224, 0.90739091, 0.97533005,\n",
       "         0.97561042, 0.97591975, 0.97599392, 0.9761365 , 0.97627421,\n",
       "         0.97628041, 0.97628869, 0.9762984 , 0.98585338, 1.        ],\n",
       "        [0.        , 0.73099332, 0.74253576, 0.74269002, 0.74367072,\n",
       "         0.74370216, 0.74991556, 0.75467481, 0.75697493, 0.75709769,\n",
       "         0.75735076, 0.7598355 , 0.76378777, 0.76717671, 0.76853684,\n",
       "         0.7763    , 0.85905675, 0.88815052, 0.8887843 , 0.96142619,\n",
       "         0.96739332, 0.97652801, 0.98516823, 0.98620548, 0.98699328,\n",
       "         0.98701747, 0.99181838, 0.99575336, 0.99581779, 1.        ],\n",
       "        [0.        , 0.12457071, 0.16982504, 0.23373058, 0.35458697,\n",
       "         0.37755687, 0.38239046, 0.5721328 , 0.73673346, 0.73887184,\n",
       "         0.74279978, 0.74572014, 0.74577055, 0.74604056, 0.74687366,\n",
       "         0.7763    , 0.89549097, 0.90137451, 0.91877355, 0.92161655,\n",
       "         0.92718464, 0.93150376, 0.9583063 , 0.9583332 , 0.95840537,\n",
       "         0.95843292, 0.95850814, 0.95903471, 0.97892781, 1.        ],\n",
       "        [0.        , 0.125005  , 0.17461298, 0.2659735 , 0.27867975,\n",
       "         0.33653644, 0.3686323 , 0.58699155, 0.59431413, 0.59546641,\n",
       "         0.64265929, 0.66720835, 0.73546733, 0.77339562, 0.77570869,\n",
       "         0.7763    , 0.96534346, 0.97003615, 0.9823193 , 0.98514928,\n",
       "         0.98527805, 0.9855731 , 0.98612145, 0.99990717, 0.99991951,\n",
       "         0.99992011, 0.99996466, 0.99997656, 0.99999131, 1.        ],\n",
       "        [0.        , 0.2802007 , 0.32684539, 0.36204673, 0.37145568,\n",
       "         0.68020933, 0.69299259, 0.70167038, 0.70923362, 0.71583826,\n",
       "         0.72971436, 0.74185185, 0.74536429, 0.75304221, 0.77548004,\n",
       "         0.7763    , 0.84704878, 0.93775052, 0.94041209, 0.94095699,\n",
       "         0.94141352, 0.9445038 , 0.9499012 , 0.9502626 , 0.96593955,\n",
       "         0.96621355, 0.96661324, 0.96879237, 0.98491251, 1.        ],\n",
       "        [0.        , 0.46326356, 0.5321026 , 0.53378475, 0.54189337,\n",
       "         0.54556934, 0.55167787, 0.56035259, 0.56816283, 0.58608081,\n",
       "         0.59222587, 0.59426595, 0.61859424, 0.72114901, 0.74613001,\n",
       "         0.7763    , 0.95752692, 0.95851056, 0.96343876, 0.96470017,\n",
       "         0.97338546, 0.99003796, 0.99311164, 0.99329853, 0.99329997,\n",
       "         0.99330085, 0.99330159, 0.99330165, 0.99794779, 1.        ],\n",
       "        [0.        , 0.00500611, 0.05099447, 0.16018685, 0.16020953,\n",
       "         0.16027694, 0.16050442, 0.16052837, 0.1734339 , 0.17884035,\n",
       "         0.18053995, 0.18241377, 0.18273458, 0.20013562, 0.59601947,\n",
       "         0.7763    , 0.82100433, 0.85074886, 0.86955802, 0.91129672,\n",
       "         0.9560502 , 0.96455873, 0.9716485 , 0.97204231, 0.97259448,\n",
       "         0.99315777, 0.99320504, 0.99910891, 0.99977292, 1.        ],\n",
       "        [0.        , 0.33287991, 0.52317886, 0.54461087, 0.55335827,\n",
       "         0.57636888, 0.58989195, 0.59349114, 0.59653167, 0.65099723,\n",
       "         0.67841563, 0.70415183, 0.71120879, 0.71872663, 0.7464088 ,\n",
       "         0.7763    , 0.9352672 , 0.96334993, 0.96829159, 0.97469374,\n",
       "         0.98452925, 0.98892195, 0.98902524, 0.98969302, 0.98969937,\n",
       "         0.98974659, 0.98975515, 0.98981213, 0.98983377, 1.        ]]))"
      ]
     },
     "execution_count": 18,
     "metadata": {},
     "output_type": "execute_result"
    }
   ],
   "source": [
    "curves"
   ]
  },
  {
   "cell_type": "code",
   "execution_count": 7,
   "metadata": {},
   "outputs": [
    {
     "data": {
      "image/png": "[encoded data removed]",
      "text/plain": [
       "<Figure size 640x480 with 1 Axes>"
      ]
     },
     "metadata": {},
     "output_type": "display_data"
    }
   ],
   "source": [
    "for idx in range(10):\n",
    "    plt.plot(curves[0][idx], curves[1][idx])"
   ]
  },
  {
   "cell_type": "code",
   "execution_count": 7,
   "metadata": {},
   "outputs": [
    {
     "data": {
      "text/plain": [
       "(array([0.        , 0.02108548, 0.0230091 , 0.0232    , 0.77689749,\n",
       "        1.        ]),\n",
       " array([0.        , 0.70554568, 0.76991234, 0.7763    , 0.9489066 ,\n",
       "        1.        ]))"
      ]
     },
     "execution_count": 7,
     "metadata": {},
     "output_type": "execute_result"
    }
   ],
   "source": [
    "curves[0][0], curves[1][0]"
   ]
  },
  {
   "cell_type": "code",
   "execution_count": 8,
   "metadata": {},
   "outputs": [
    {
     "data": {
      "text/plain": [
       "(array([0.        , 0.02171395, 0.02258074, 0.0232    , 0.26695228,\n",
       "        1.        ]),\n",
       " array([0.        , 0.72657491, 0.75557866, 0.7763    , 0.83212247,\n",
       "        1.        ]))"
      ]
     },
     "execution_count": 8,
     "metadata": {},
     "output_type": "execute_result"
    }
   ],
   "source": [
    "curves[0][1], curves[1][1]"
   ]
  },
  {
   "cell_type": "code",
   "execution_count": null,
   "metadata": {},
   "outputs": [],
   "source": []
  },
  {
   "cell_type": "code",
   "execution_count": null,
   "metadata": {},
   "outputs": [],
   "source": [
    "def auc_est(spec, sens, p, n):\n",
    "    alpha = np.logspace(0, 2, 5000)\n",
    "    beta = np.logspace(0, 2, 5000)\n",
    "    \n",
    "    tpr = sens\n",
    "    fpr = 1 - spec\n",
    "    \n",
    "    x = 1 - (tpr * p + fpr * n)/(p + n)\n",
    "    th = p/(p+n)\n",
    "\n",
    "    tmp = np.abs(((1 - th**alpha))[:, None] + (1 - th)**beta - x*(1/alpha[:, None] + 1/beta))\n",
    "\n",
    "    indices = np.where(tmp == tmp.min())\n",
    "\n",
    "    tprs = 1 - np.linspace(0, 1, 2000)**beta[indices[1]]\n",
    "    fprs = (1 - np.linspace(0, 1, 2000))**alpha[indices[0]]\n",
    "    return np.sum((tprs[1:] + tprs[:-1])/2 * (fprs[:-1] - fprs[1:]))"
   ]
  },
  {
   "cell_type": "code",
   "execution_count": 169,
   "metadata": {},
   "outputs": [],
   "source": [
    "alpha = np.logspace(0, 2, 5000)\n",
    "beta = np.logspace(0, 2, 5000)\n",
    "x = 0.08\n",
    "tpr = 0.776\n",
    "fpr = 1 - 0.976\n",
    "p = 30_000\n",
    "n = 200_000\n",
    "x = 1 - (tpr * p + fpr * n)/(p + n)\n",
    "th = p/(p+n)"
   ]
  },
  {
   "cell_type": "code",
   "execution_count": 170,
   "metadata": {},
   "outputs": [],
   "source": [
    "tmp = np.abs(((1 - th**alpha))[:, None] + (1 - th)**beta - x*(1/alpha[:, None] + 1/beta))"
   ]
  },
  {
   "cell_type": "code",
   "execution_count": 171,
   "metadata": {},
   "outputs": [
    {
     "data": {
      "text/plain": [
       "(5000, 5000)"
      ]
     },
     "execution_count": 171,
     "metadata": {},
     "output_type": "execute_result"
    }
   ],
   "source": [
    "tmp.shape"
   ]
  },
  {
   "cell_type": "code",
   "execution_count": 172,
   "metadata": {},
   "outputs": [
    {
     "data": {
      "text/plain": [
       "np.float64(3.7315402545701204e-07)"
      ]
     },
     "execution_count": 172,
     "metadata": {},
     "output_type": "execute_result"
    }
   ],
   "source": [
    "tmp.min()"
   ]
  },
  {
   "cell_type": "code",
   "execution_count": 173,
   "metadata": {},
   "outputs": [],
   "source": [
    "indices = np.where(tmp == tmp.min())"
   ]
  },
  {
   "cell_type": "code",
   "execution_count": 174,
   "metadata": {},
   "outputs": [
    {
     "data": {
      "text/plain": [
       "(array([1.01298058]), array([25.57888305]))"
      ]
     },
     "execution_count": 174,
     "metadata": {},
     "output_type": "execute_result"
    }
   ],
   "source": [
    "alpha[indices[0]], beta[indices[1]]"
   ]
  },
  {
   "cell_type": "code",
   "execution_count": 175,
   "metadata": {},
   "outputs": [
    {
     "data": {
      "text/plain": [
       "np.float64(0.9637524346519192)"
      ]
     },
     "execution_count": 175,
     "metadata": {},
     "output_type": "execute_result"
    }
   ],
   "source": [
    "tprs = 1 - np.linspace(0, 1, 2000)**beta[indices[1]]\n",
    "fprs = (1 - np.linspace(0, 1, 2000))**alpha[indices[0]]\n",
    "np.sum((tprs[1:] + tprs[:-1])/2 * (fprs[:-1] - fprs[1:]))"
   ]
  },
  {
   "cell_type": "code",
   "execution_count": 150,
   "metadata": {},
   "outputs": [
    {
     "data": {
      "text/plain": [
       "array([0.98554199])"
      ]
     },
     "execution_count": 150,
     "metadata": {},
     "output_type": "execute_result"
    }
   ],
   "source": [
    "np.max([alpha[indices[0]], beta[indices[1]]]) / (alpha[indices[0]] + beta[indices[1]])"
   ]
  },
  {
   "cell_type": "code",
   "execution_count": 16,
   "metadata": {},
   "outputs": [],
   "source": [
    "fprs = np.array([0, 1 - 0.9768, 1])\n",
    "tprs = np.array([0, 0.7763, 1])\n",
    "fracs = (tprs * 30000 + fprs * 200000)/230000\n",
    "row = {\n",
    "    'fprs': fprs,\n",
    "    'tprs': tprs,\n",
    "    'fracs': fracs\n",
    "}"
   ]
  },
  {
   "cell_type": "code",
   "execution_count": 27,
   "metadata": {},
   "outputs": [],
   "source": [
    "exp_sens = np.log(1 - row['tprs'][1])/np.log(row['fracs'][1])\n",
    "exp_spec = np.log(row['fprs'][1])/np.log(1 - row['fracs'][1])"
   ]
  },
  {
   "cell_type": "code",
   "execution_count": 28,
   "metadata": {},
   "outputs": [
    {
     "data": {
      "text/plain": [
       "(np.float64(0.7102256007741253), np.float64(29.071508814224735))"
      ]
     },
     "execution_count": 28,
     "metadata": {},
     "output_type": "execute_result"
    }
   ],
   "source": [
    "exp_sens, exp_spec"
   ]
  },
  {
   "cell_type": "code",
   "execution_count": 29,
   "metadata": {},
   "outputs": [
    {
     "data": {
      "text/plain": [
       "np.float64(0.9761523089663832)"
      ]
     },
     "execution_count": 29,
     "metadata": {},
     "output_type": "execute_result"
    }
   ],
   "source": [
    "exp_spec / (exp_spec + exp_sens)"
   ]
  },
  {
   "cell_type": "code",
   "execution_count": 3,
   "metadata": {},
   "outputs": [
    {
     "data": {
      "text/plain": [
       "((1.0, 1.0, -3), (1.0, 1.0, -1))"
      ]
     },
     "execution_count": 3,
     "metadata": {},
     "output_type": "execute_result"
    }
   ],
   "source": [
    "exponential_fitting2(row, 'fprs', 'fracs'), exponential_fitting2(row, 'tprs', 'fracs')"
   ]
  },
  {
   "cell_type": "code",
   "execution_count": 5,
   "metadata": {},
   "outputs": [
    {
     "data": {
      "text/plain": [
       "0.976190476190476"
      ]
     },
     "execution_count": 5,
     "metadata": {},
     "output_type": "execute_result"
    }
   ],
   "source": [
    "4.10/4.20"
   ]
  },
  {
   "cell_type": "code",
   "execution_count": 8,
   "metadata": {},
   "outputs": [
    {
     "data": {
      "text/plain": [
       "0.9608540925266904"
      ]
     },
     "execution_count": 8,
     "metadata": {},
     "output_type": "execute_result"
    }
   ],
   "source": [
    "1.62/(1.62 + 0.066)"
   ]
  },
  {
   "cell_type": "code",
   "execution_count": 4,
   "metadata": {},
   "outputs": [
    {
     "data": {
      "text/plain": [
       "0.9547405662782043"
      ]
     },
     "execution_count": 4,
     "metadata": {},
     "output_type": "execute_result"
    }
   ],
   "source": [
    "1.8728/(1.8728 + 0.08878)"
   ]
  },
  {
   "cell_type": "code",
   "execution_count": 4,
   "metadata": {},
   "outputs": [
    {
     "name": "stdout",
     "output_type": "stream",
     "text": [
      "1.0 1.785040070971583 0\n",
      "1.0 0.18131717962658297 1\n"
     ]
    },
    {
     "data": {
      "text/plain": [
       "(1.0, np.float64(0.18131717962658297), 1)"
      ]
     },
     "execution_count": 4,
     "metadata": {},
     "output_type": "execute_result"
    }
   ],
   "source": [
    "exponential_fitting(row, 'fprs', 'fracs')"
   ]
  },
  {
   "cell_type": "code",
   "execution_count": 5,
   "metadata": {},
   "outputs": [
    {
     "data": {
      "text/plain": [
       "0.9514091350826045"
      ]
     },
     "execution_count": 5,
     "metadata": {},
     "output_type": "execute_result"
    }
   ],
   "source": [
    "1.78/(1.78 + 1/11)"
   ]
  },
  {
   "cell_type": "code",
   "execution_count": 13,
   "metadata": {},
   "outputs": [
    {
     "data": {
      "text/plain": [
       "[<matplotlib.lines.Line2D at 0x7fe6a81f4200>]"
      ]
     },
     "execution_count": 13,
     "metadata": {},
     "output_type": "execute_result"
    },
    {
     "data": {
      "image/png": "[encoded data removed]",
      "text/plain": [
       "<Figure size 640x480 with 1 Axes>"
      ]
     },
     "metadata": {},
     "output_type": "display_data"
    }
   ],
   "source": [
    "x = np.linspace(0, 1, 1000)\n",
    "exp = 3\n",
    "plt.plot(x, (np.abs(1 - x)**exp + np.abs(1 - x)**exp)**(1/exp))"
   ]
  },
  {
   "cell_type": "code",
   "execution_count": 7,
   "metadata": {},
   "outputs": [
    {
     "data": {
      "text/plain": [
       "0.9851165310763219"
      ]
     },
     "execution_count": 7,
     "metadata": {},
     "output_type": "execute_result"
    }
   ],
   "source": [
    "1/0.1813 / (1/0.1813 + 1/12)"
   ]
  },
  {
   "cell_type": "code",
   "execution_count": 6,
   "metadata": {},
   "outputs": [
    {
     "data": {
      "text/plain": [
       "0.9368421052631579"
      ]
     },
     "execution_count": 6,
     "metadata": {},
     "output_type": "execute_result"
    }
   ],
   "source": [
    "1.78/(1.78 + 0.12)"
   ]
  },
  {
   "cell_type": "code",
   "execution_count": 7,
   "metadata": {},
   "outputs": [],
   "source": []
  },
  {
   "cell_type": "code",
   "execution_count": 8,
   "metadata": {},
   "outputs": [],
   "source": []
  },
  {
   "cell_type": "code",
   "execution_count": 9,
   "metadata": {},
   "outputs": [],
   "source": []
  },
  {
   "cell_type": "code",
   "execution_count": 13,
   "metadata": {},
   "outputs": [
    {
     "data": {
      "text/plain": [
       "[<matplotlib.lines.Line2D at 0x7f2802a31520>]"
      ]
     },
     "execution_count": 13,
     "metadata": {},
     "output_type": "execute_result"
    },
    {
     "data": {
      "image/png": "[encoded data removed]",
      "text/plain": [
       "<Figure size 640x480 with 1 Axes>"
      ]
     },
     "metadata": {},
     "output_type": "display_data"
    }
   ],
   "source": []
  },
  {
   "cell_type": "code",
   "execution_count": 11,
   "metadata": {},
   "outputs": [],
   "source": [
    "aucs = [integrate_roc_curve(fprs, tprs) for fprs, tprs in zip(curves[0], curves[1])]"
   ]
  },
  {
   "cell_type": "code",
   "execution_count": 12,
   "metadata": {},
   "outputs": [
    {
     "data": {
      "text/plain": [
       "(array([ 5.,  8., 10.,  4.,  9., 11.,  8.,  7.,  6.,  3.]),\n",
       " array([0.82094001, 0.83718162, 0.85342324, 0.86966485, 0.88590647,\n",
       "        0.90214808, 0.9183897 , 0.93463131, 0.95087293, 0.96711454,\n",
       "        0.98335616]),\n",
       " <BarContainer object of 10 artists>)"
      ]
     },
     "execution_count": 12,
     "metadata": {},
     "output_type": "execute_result"
    },
    {
     "data": {
      "image/png": "[encoded data removed]",
      "text/plain": [
       "<Figure size 640x480 with 1 Axes>"
      ]
     },
     "metadata": {},
     "output_type": "display_data"
    }
   ],
   "source": [
    "plt.hist(aucs)"
   ]
  },
  {
   "cell_type": "code",
   "execution_count": 2,
   "metadata": {},
   "outputs": [],
   "source": [
    "data = {\n",
    "'fan': {\n",
    "    'sens': 0.7814,\n",
    "    'spec': 0.9788,\n",
    "    'acc': 0.9612,\n",
    "    'cite': 65\n",
    "},\n",
    "'liskowski': {\n",
    "    'sens': 0.7763,\n",
    "    'spec': 0.9768,\n",
    "    'acc': 0.9495,\n",
    "    'auc': 0.972,\n",
    "    'cite': 66\n",
    "},\n",
    "'khalaf': {\n",
    "    'sens': 0.8397,\n",
    "    'spec': 0.9562,\n",
    "    'acc': 0.9456,\n",
    "    'cite': 67\n",
    "},\n",
    "'tan': {\n",
    "    'sens': 0.7537,\n",
    "    'spec': 0.9694,\n",
    "    'cite': 69\n",
    "},\n",
    "'guo': {\n",
    "    'acc': 0.9199,\n",
    "    'auc': 0.9652,\n",
    "    'cite': 70\n",
    "},\n",
    "'uysal': {\n",
    "    'sens': 0.7548,\n",
    "    'spec': 0.9682,\n",
    "    'acc': 0.9419,\n",
    "    'cite': 71\n",
    "}\n",
    "}"
   ]
  },
  {
   "cell_type": "code",
   "execution_count": 7,
   "metadata": {},
   "outputs": [
    {
     "name": "stdout",
     "output_type": "stream",
     "text": [
      "0.0842909090909091\n",
      "0.12990104486713247 1.5775630638744096\n"
     ]
    },
    {
     "data": {
      "text/plain": [
       "0.923921654222721"
      ]
     },
     "execution_count": 7,
     "metadata": {},
     "output_type": "execute_result"
    }
   ],
   "source": [
    "auc_analytic({'sens': 0.7252, 'spec': 0.9798} | {'p': 30000, 'n': 300000})"
   ]
  },
  {
   "cell_type": "code",
   "execution_count": 24,
   "metadata": {},
   "outputs": [],
   "source": [
    "def one_exponent(sens, spec):\n",
    "    x = np.logspace(-2, 0, 5000)\n",
    "    idx = np.argmin(((2**x - (1 - spec))/((1 - spec)))**2 + ((2**(1/x) - sens)/(sens))**2)\n",
    "\n",
    "    return x[idx]\n",
    "    "
   ]
  },
  {
   "cell_type": "code",
   "execution_count": 25,
   "metadata": {},
   "outputs": [
    {
     "data": {
      "text/plain": [
       "np.float64(0.2815074533594139)"
      ]
     },
     "execution_count": 25,
     "metadata": {},
     "output_type": "execute_result"
    }
   ],
   "source": [
    "one_exponent(0.7763, 0.9768)"
   ]
  },
  {
   "cell_type": "code",
   "execution_count": 26,
   "metadata": {},
   "outputs": [
    {
     "data": {
      "text/plain": [
       "0.9265760305436523"
      ]
     },
     "execution_count": 26,
     "metadata": {},
     "output_type": "execute_result"
    }
   ],
   "source": [
    "(1/0.2815)/((1/0.2815) + 0.2815)"
   ]
  },
  {
   "cell_type": "code",
   "execution_count": 13,
   "metadata": {},
   "outputs": [
    {
     "data": {
      "text/plain": [
       "np.float64(0.9369610080262911)"
      ]
     },
     "execution_count": 13,
     "metadata": {},
     "output_type": "execute_result"
    }
   ],
   "source": [
    "np.log10(1 - 0.9768)/(np.log10(1 - 0.9768) + np.log10(0.7763))"
   ]
  },
  {
   "cell_type": "code",
   "execution_count": 10,
   "metadata": {},
   "outputs": [
    {
     "data": {
      "text/plain": [
       "(np.float64(1.5775630638744096), np.float64(0.12990104486713247))"
      ]
     },
     "execution_count": 10,
     "metadata": {},
     "output_type": "execute_result"
    }
   ],
   "source": [
    "exp_fpr, exp_tpr"
   ]
  },
  {
   "cell_type": "code",
   "execution_count": 73,
   "metadata": {},
   "outputs": [
    {
     "data": {
      "text/plain": [
       "[<matplotlib.lines.Line2D at 0x7f011533a750>]"
      ]
     },
     "execution_count": 73,
     "metadata": {},
     "output_type": "execute_result"
    },
    {
     "data": {
      "image/png": "[encoded data removed]",
      "text/plain": [
       "<Figure size 350x350 with 1 Axes>"
      ]
     },
     "metadata": {},
     "output_type": "display_data"
    }
   ],
   "source": [
    "plt.figure(figsize=(3.5, 3.5))\n",
    "x = np.linspace(0, 1, 1001)\n",
    "#plt.plot(x**5, x**0.2)\n",
    "#plt.plot(x, x**5)\n",
    "plt.plot(x, x**0.2)\n",
    "\n",
    "#plt.plot((1-(x)**0.2), 1 - x)\n",
    "plt.plot(x, 1 - (1 - x)**5)\n",
    "\n",
    "#plt.plot(x, ((x**0.2) + (1 - (1 - x)**5))/2)"
   ]
  },
  {
   "cell_type": "code",
   "execution_count": 6,
   "metadata": {},
   "outputs": [
    {
     "name": "stdout",
     "output_type": "stream",
     "text": [
      "0.6332434782608696\n"
     ]
    },
    {
     "data": {
      "text/plain": [
       "0.9239216542227211"
      ]
     },
     "execution_count": 6,
     "metadata": {},
     "output_type": "execute_result"
    }
   ],
   "source": [
    "auc_analytic({'sens': 0.7252, 'spec': 0.9798} | {'p': 200000, 'n': 30000})"
   ]
  },
  {
   "cell_type": "code",
   "execution_count": 3,
   "metadata": {},
   "outputs": [],
   "source": [
    "data = pd.DataFrame(data).T"
   ]
  },
  {
   "cell_type": "code",
   "execution_count": 4,
   "metadata": {},
   "outputs": [
    {
     "data": {
      "text/html": [
       "<div>\n",
       "<style scoped>\n",
       "    .dataframe tbody tr th:only-of-type {\n",
       "        vertical-align: middle;\n",
       "    }\n",
       "\n",
       "    .dataframe tbody tr th {\n",
       "        vertical-align: top;\n",
       "    }\n",
       "\n",
       "    .dataframe thead th {\n",
       "        text-align: right;\n",
       "    }\n",
       "</style>\n",
       "<table border=\"1\" class=\"dataframe\">\n",
       "  <thead>\n",
       "    <tr style=\"text-align: right;\">\n",
       "      <th></th>\n",
       "      <th>sens</th>\n",
       "      <th>spec</th>\n",
       "      <th>acc</th>\n",
       "      <th>cite</th>\n",
       "      <th>auc</th>\n",
       "    </tr>\n",
       "  </thead>\n",
       "  <tbody>\n",
       "    <tr>\n",
       "      <th>fan</th>\n",
       "      <td>0.7814</td>\n",
       "      <td>0.9788</td>\n",
       "      <td>0.9612</td>\n",
       "      <td>65.0</td>\n",
       "      <td>NaN</td>\n",
       "    </tr>\n",
       "    <tr>\n",
       "      <th>liskowski</th>\n",
       "      <td>0.7763</td>\n",
       "      <td>0.9768</td>\n",
       "      <td>0.9495</td>\n",
       "      <td>66.0</td>\n",
       "      <td>0.9720</td>\n",
       "    </tr>\n",
       "    <tr>\n",
       "      <th>khalaf</th>\n",
       "      <td>0.8397</td>\n",
       "      <td>0.9562</td>\n",
       "      <td>0.9456</td>\n",
       "      <td>67.0</td>\n",
       "      <td>NaN</td>\n",
       "    </tr>\n",
       "    <tr>\n",
       "      <th>tan</th>\n",
       "      <td>0.7537</td>\n",
       "      <td>0.9694</td>\n",
       "      <td>NaN</td>\n",
       "      <td>69.0</td>\n",
       "      <td>NaN</td>\n",
       "    </tr>\n",
       "    <tr>\n",
       "      <th>guo</th>\n",
       "      <td>NaN</td>\n",
       "      <td>NaN</td>\n",
       "      <td>0.9199</td>\n",
       "      <td>70.0</td>\n",
       "      <td>0.9652</td>\n",
       "    </tr>\n",
       "    <tr>\n",
       "      <th>uysal</th>\n",
       "      <td>0.7548</td>\n",
       "      <td>0.9682</td>\n",
       "      <td>0.9419</td>\n",
       "      <td>71.0</td>\n",
       "      <td>NaN</td>\n",
       "    </tr>\n",
       "  </tbody>\n",
       "</table>\n",
       "</div>"
      ],
      "text/plain": [
       "             sens    spec     acc  cite     auc\n",
       "fan        0.7814  0.9788  0.9612  65.0     NaN\n",
       "liskowski  0.7763  0.9768  0.9495  66.0  0.9720\n",
       "khalaf     0.8397  0.9562  0.9456  67.0     NaN\n",
       "tan        0.7537  0.9694     NaN  69.0     NaN\n",
       "guo           NaN     NaN  0.9199  70.0  0.9652\n",
       "uysal      0.7548  0.9682  0.9419  71.0     NaN"
      ]
     },
     "execution_count": 4,
     "metadata": {},
     "output_type": "execute_result"
    }
   ],
   "source": [
    "data"
   ]
  },
  {
   "cell_type": "code",
   "execution_count": 5,
   "metadata": {},
   "outputs": [
    {
     "name": "stdout",
     "output_type": "stream",
     "text": [
      "\\begin{tabular}{lrrrrr}\n",
      "\\toprule\n",
      " & sens & spec & acc & cite & auc \\\\\n",
      "\\midrule\n",
      "fan & 0.781400 & 0.978800 & 0.961200 & 65.000000 & NaN \\\\\n",
      "liskowski & 0.776300 & 0.976800 & 0.949500 & 66.000000 & 0.972000 \\\\\n",
      "khalaf & 0.839700 & 0.956200 & 0.945600 & 67.000000 & NaN \\\\\n",
      "tan & 0.753700 & 0.969400 & NaN & 69.000000 & NaN \\\\\n",
      "guo & NaN & NaN & 0.919900 & 70.000000 & 0.965200 \\\\\n",
      "uysal & 0.754800 & 0.968200 & 0.941900 & 71.000000 & NaN \\\\\n",
      "\\bottomrule\n",
      "\\end{tabular}\n",
      "\n"
     ]
    }
   ],
   "source": [
    "print(data.to_latex())"
   ]
  },
  {
   "cell_type": "code",
   "execution_count": 6,
   "metadata": {},
   "outputs": [],
   "source": [
    "drive = load_drive()[(1, 'all')]['test']['images']"
   ]
  },
  {
   "cell_type": "code",
   "execution_count": 7,
   "metadata": {},
   "outputs": [
    {
     "data": {
      "text/plain": [
       "(array([29440, 33790, 32893, 30354, 30912, 32116, 30152, 28389, 26741,\n",
       "        27156, 29539, 28490, 32259, 26677, 23614, 29791, 27852, 26144,\n",
       "        27371, 24265]),\n",
       " array([300520, 296170, 297067, 299606, 299048, 297844, 299808, 301571,\n",
       "        303219, 302804, 300421, 301470, 297701, 303283, 306346, 300169,\n",
       "        302108, 303816, 302589, 305695]))"
      ]
     },
     "execution_count": 7,
     "metadata": {},
     "output_type": "execute_result"
    }
   ],
   "source": [
    "ns = np.array([dr['n'] for dr in drive])\n",
    "ps = np.array([dr['p'] for dr in drive])\n",
    "ps, ns"
   ]
  },
  {
   "cell_type": "code",
   "execution_count": 8,
   "metadata": {},
   "outputs": [
    {
     "data": {
      "text/html": [
       "<div>\n",
       "<style scoped>\n",
       "    .dataframe tbody tr th:only-of-type {\n",
       "        vertical-align: middle;\n",
       "    }\n",
       "\n",
       "    .dataframe tbody tr th {\n",
       "        vertical-align: top;\n",
       "    }\n",
       "\n",
       "    .dataframe thead th {\n",
       "        text-align: right;\n",
       "    }\n",
       "</style>\n",
       "<table border=\"1\" class=\"dataframe\">\n",
       "  <thead>\n",
       "    <tr style=\"text-align: right;\">\n",
       "      <th></th>\n",
       "      <th>sens</th>\n",
       "      <th>spec</th>\n",
       "      <th>acc</th>\n",
       "      <th>cite</th>\n",
       "      <th>auc</th>\n",
       "    </tr>\n",
       "  </thead>\n",
       "  <tbody>\n",
       "    <tr>\n",
       "      <th>fan</th>\n",
       "      <td>0.7814</td>\n",
       "      <td>0.9788</td>\n",
       "      <td>0.9612</td>\n",
       "      <td>65.0</td>\n",
       "      <td>NaN</td>\n",
       "    </tr>\n",
       "    <tr>\n",
       "      <th>liskowski</th>\n",
       "      <td>0.7763</td>\n",
       "      <td>0.9768</td>\n",
       "      <td>0.9495</td>\n",
       "      <td>66.0</td>\n",
       "      <td>0.9720</td>\n",
       "    </tr>\n",
       "    <tr>\n",
       "      <th>khalaf</th>\n",
       "      <td>0.8397</td>\n",
       "      <td>0.9562</td>\n",
       "      <td>0.9456</td>\n",
       "      <td>67.0</td>\n",
       "      <td>NaN</td>\n",
       "    </tr>\n",
       "    <tr>\n",
       "      <th>tan</th>\n",
       "      <td>0.7537</td>\n",
       "      <td>0.9694</td>\n",
       "      <td>NaN</td>\n",
       "      <td>69.0</td>\n",
       "      <td>NaN</td>\n",
       "    </tr>\n",
       "    <tr>\n",
       "      <th>guo</th>\n",
       "      <td>NaN</td>\n",
       "      <td>NaN</td>\n",
       "      <td>0.9199</td>\n",
       "      <td>70.0</td>\n",
       "      <td>0.9652</td>\n",
       "    </tr>\n",
       "    <tr>\n",
       "      <th>uysal</th>\n",
       "      <td>0.7548</td>\n",
       "      <td>0.9682</td>\n",
       "      <td>0.9419</td>\n",
       "      <td>71.0</td>\n",
       "      <td>NaN</td>\n",
       "    </tr>\n",
       "  </tbody>\n",
       "</table>\n",
       "</div>"
      ],
      "text/plain": [
       "             sens    spec     acc  cite     auc\n",
       "fan        0.7814  0.9788  0.9612  65.0     NaN\n",
       "liskowski  0.7763  0.9768  0.9495  66.0  0.9720\n",
       "khalaf     0.8397  0.9562  0.9456  67.0     NaN\n",
       "tan        0.7537  0.9694     NaN  69.0     NaN\n",
       "guo           NaN     NaN  0.9199  70.0  0.9652\n",
       "uysal      0.7548  0.9682  0.9419  71.0     NaN"
      ]
     },
     "execution_count": 8,
     "metadata": {},
     "output_type": "execute_result"
    }
   ],
   "source": [
    "data"
   ]
  },
  {
   "cell_type": "code",
   "execution_count": 9,
   "metadata": {},
   "outputs": [
    {
     "data": {
      "text/plain": [
       "np.float64(nan)"
      ]
     },
     "execution_count": 9,
     "metadata": {},
     "output_type": "execute_result"
    }
   ],
   "source": [
    "np.mean(auc_from(\n",
    "    scores={\n",
    "        'sens': 0.7350,\n",
    "        'spec': 0.9866,\n",
    "        'acc': 0.9546,\n",
    "    },\n",
    "    eps=1e-4,\n",
    "    #k=20,\n",
    "    #ps=ps,\n",
    "    #ns=ns,\n",
    "    lower='onmin',\n",
    "    upper='max'\n",
    "))"
   ]
  },
  {
   "cell_type": "code",
   "execution_count": 10,
   "metadata": {},
   "outputs": [
    {
     "data": {
      "text/plain": [
       "(0.8892826425, 0.8892826425)"
      ]
     },
     "execution_count": 10,
     "metadata": {},
     "output_type": "execute_result"
    }
   ],
   "source": [
    "auc_from(\n",
    "    scores={\n",
    "        'sens': data.loc['liskowski']['sens'],\n",
    "        'spec': data.loc['liskowski']['spec'],\n",
    "        'acc': data.loc['liskowski']['acc'],\n",
    "    },\n",
    "    eps=1e-4,\n",
    "    #k=20,\n",
    "    #ps=ps,\n",
    "    #ns=ns,\n",
    "    p=ps[0],\n",
    "    n=ns[0],\n",
    "    lower='rmin',\n",
    "    upper='max',\n",
    "    correction=None\n",
    ")"
   ]
  },
  {
   "cell_type": "code",
   "execution_count": 11,
   "metadata": {},
   "outputs": [
    {
     "data": {
      "text/plain": [
       "(np.int64(29440), np.int64(300520))"
      ]
     },
     "execution_count": 11,
     "metadata": {},
     "output_type": "execute_result"
    }
   ],
   "source": [
    "ps[0], ns[0]"
   ]
  },
  {
   "cell_type": "code",
   "execution_count": 11,
   "metadata": {},
   "outputs": [
    {
     "data": {
      "text/plain": [
       "((0.783730445, 1.0), (0.99483484, 1.0))"
      ]
     },
     "execution_count": 11,
     "metadata": {},
     "output_type": "execute_result"
    }
   ],
   "source": [
    "(auc_lower_from(\n",
    "    scores={\n",
    "        'sens': data.loc['liskowski']['sens'],\n",
    "        'spec': data.loc['liskowski']['spec'],\n",
    "        'acc': data.loc['liskowski']['acc'],\n",
    "    },\n",
    "    eps=1e-4,\n",
    "    #k=20,\n",
    "    #ps=ps,\n",
    "    #ns=ns,\n",
    "    p=ps[0],\n",
    "    n=ns[0],\n",
    "    lower='rmin'\n",
    "),\n",
    "auc_upper_from(\n",
    "    scores={\n",
    "        'sens': data.loc['liskowski']['sens'],\n",
    "        'spec': data.loc['liskowski']['spec'],\n",
    "        'acc': data.loc['liskowski']['acc'],\n",
    "    },\n",
    "    eps=1e-4,\n",
    "    #k=20,\n",
    "    #ps=ps,\n",
    "    #ns=ns,\n",
    "    p=ps[0],\n",
    "    n=ns[0],\n",
    "    upper='max'\n",
    "))"
   ]
  },
  {
   "cell_type": "code",
   "execution_count": 12,
   "metadata": {},
   "outputs": [
    {
     "data": {
      "text/plain": [
       "np.float64(0.9072292499999999)"
      ]
     },
     "execution_count": 12,
     "metadata": {},
     "output_type": "execute_result"
    }
   ],
   "source": [
    "np.mean(auc_from(\n",
    "    scores={\n",
    "        'sens': data.loc['liskowski']['sens'],\n",
    "        'spec': data.loc['liskowski']['spec'],\n",
    "        'acc': data.loc['liskowski']['acc'],\n",
    "    },\n",
    "    eps=1e-4,\n",
    "    #k=20,\n",
    "    #ps=ps,\n",
    "    #ns=ns,\n",
    "    p=ps[0],\n",
    "    n=ns[0],\n",
    "    lower='rmin',\n",
    "    upper='max',\n",
    "    correction=None\n",
    "))"
   ]
  },
  {
   "cell_type": "code",
   "execution_count": 13,
   "metadata": {},
   "outputs": [
    {
     "name": "stdout",
     "output_type": "stream",
     "text": [
      "0.7071067811865476 0.22489982214310444\n"
     ]
    },
    {
     "data": {
      "text/plain": [
       "(np.float64(0.783730445),\n",
       " 1.0,\n",
       " np.float64(0.24130711235267618),\n",
       " np.float64(0.7586928876473238),\n",
       " np.float64(0.9478126181931517),\n",
       " np.float64(0.8918652225))"
      ]
     },
     "execution_count": 13,
     "metadata": {},
     "output_type": "execute_result"
    }
   ],
   "source": [
    "lower, upper = auc_from_aggregated(\n",
    "    scores={\n",
    "        'sens': data.loc['liskowski']['sens'],\n",
    "        'spec': data.loc['liskowski']['spec'],\n",
    "        'acc': data.loc['liskowski']['acc'],\n",
    "    },\n",
    "    eps=1e-4,\n",
    "    k=20,\n",
    "    ps=ps,\n",
    "    ns=ns,\n",
    "    lower='rmin',\n",
    "    upper='max'\n",
    ")\n",
    "exponent = 1\n",
    "#lweight = auc_onmin_grad(fpr=1 - data.loc['liskowski']['spec'], tpr=data.loc['liskowski']['sens'])**exponent\n",
    "lweight = auc_onmin_grad(fpr=1 - data.loc['liskowski']['spec'], tpr=data.loc['liskowski']['sens'])**exponent\n",
    "uweight = auc_max_grad(fpr=1 - data.loc['liskowski']['spec'], tpr=data.loc['liskowski']['sens'])**exponent\n",
    "#uweight = auc_maxa_grad(acc=data.loc['liskowski']['acc'], p=ps[0], n=ns[0])**exponent\n",
    "#uweight = 1 - np.sqrt(data.loc['liskowski']['sens'] * data.loc['liskowski']['spec'])\n",
    "#lweight = np.sqrt(data.loc['liskowski']['sens'] * data.loc['liskowski']['spec'])\n",
    "\n",
    "#uweight = 1\n",
    "#lweight = ns[0]/ps[0]\n",
    "\n",
    "print(lweight, uweight)\n",
    "\n",
    "lweight2 = uweight / (uweight + lweight)\n",
    "uweight2 = lweight / (uweight + lweight)\n",
    "\n",
    "lower, upper, lweight2, uweight2, lower * lweight2 + upper * uweight2, (lower + upper)/2"
   ]
  },
  {
   "cell_type": "code",
   "execution_count": null,
   "metadata": {},
   "outputs": [
    {
     "data": {
      "text/plain": [
       "np.float64(0.9302712801483177)"
      ]
     },
     "execution_count": 14,
     "metadata": {},
     "output_type": "execute_result"
    }
   ],
   "source": [
    "np.mean(auc_from_aggregated(\n",
    "    scores={\n",
    "        'sens': data.loc['liskowski']['sens'],\n",
    "        'spec': data.loc['liskowski']['spec'],\n",
    "        'acc': data.loc['liskowski']['acc'],\n",
    "    },\n",
    "    eps=1e-4,\n",
    "    k=20,\n",
    "    ps=ps,\n",
    "    ns=ns,\n",
    "    lower='onmin',\n",
    "    upper='maxa'\n",
    "))"
   ]
  },
  {
   "cell_type": "code",
   "execution_count": 15,
   "metadata": {},
   "outputs": [
    {
     "data": {
      "text/plain": [
       "np.float64(0.935310450253265)"
      ]
     },
     "execution_count": 15,
     "metadata": {},
     "output_type": "execute_result"
    }
   ],
   "source": [
    "auc_fan = np.mean(auc_from_aggregated(\n",
    "    scores={\n",
    "        'sens': data.loc['fan']['sens'],\n",
    "        'spec': data.loc['fan']['spec'],\n",
    "        'acc': data.loc['fan']['acc'],\n",
    "    },\n",
    "    eps=1e-4,\n",
    "    k=20,\n",
    "    ps=ps,\n",
    "    ns=ns,\n",
    "    lower='onmin',\n",
    "    upper='maxa'\n",
    "))\n",
    "auc_fan"
   ]
  },
  {
   "cell_type": "code",
   "execution_count": 16,
   "metadata": {},
   "outputs": [],
   "source": [
    "tmp = np.mean(auc_from_aggregated(\n",
    "    scores={\n",
    "        'sens': data.loc['fan']['sens'],\n",
    "        'spec': data.loc['fan']['spec'],\n",
    "        'acc': data.loc['fan']['acc'],\n",
    "    },\n",
    "    eps=1e-4,\n",
    "    k=20,\n",
    "    ps=ps,\n",
    "    ns=ns,\n",
    "    lower='min',\n",
    "    upper='max'\n",
    "))"
   ]
  },
  {
   "cell_type": "code",
   "execution_count": 17,
   "metadata": {},
   "outputs": [
    {
     "data": {
      "text/plain": [
       "np.float64(0.935310450253265)"
      ]
     },
     "execution_count": 17,
     "metadata": {},
     "output_type": "execute_result"
    }
   ],
   "source": [
    "(auc_from_aggregated(\n",
    "    scores={\n",
    "        'sens': data.loc['fan']['sens'],\n",
    "        'spec': data.loc['fan']['spec'],\n",
    "        'acc': data.loc['fan']['acc'],\n",
    "    },\n",
    "    eps=1e-4,\n",
    "    k=20,\n",
    "    ps=ps,\n",
    "    ns=ns,\n",
    "    lower='min',\n",
    "    upper='maxa'\n",
    ")[1] + tmp)/2"
   ]
  },
  {
   "cell_type": "code",
   "execution_count": 18,
   "metadata": {},
   "outputs": [
    {
     "data": {
      "text/plain": [
       "(np.float64(0.78910408), 0.9906209005065298)"
      ]
     },
     "execution_count": 18,
     "metadata": {},
     "output_type": "execute_result"
    }
   ],
   "source": [
    "auc_from_aggregated(\n",
    "    scores={\n",
    "        'sens': data.loc['fan']['sens'],\n",
    "        'spec': data.loc['fan']['spec'],\n",
    "        'acc': data.loc['fan']['acc'],\n",
    "    },\n",
    "    eps=1e-4,\n",
    "    k=20,\n",
    "    ps=ps,\n",
    "    ns=ns,\n",
    "    lower='rmin',\n",
    "    upper='maxa'\n",
    ")"
   ]
  },
  {
   "cell_type": "code",
   "execution_count": 19,
   "metadata": {},
   "outputs": [
    {
     "data": {
      "text/plain": [
       "np.float64(0.8992115244366155)"
      ]
     },
     "execution_count": 19,
     "metadata": {},
     "output_type": "execute_result"
    }
   ],
   "source": [
    "auc_khalaf = np.mean(auc_from_aggregated(\n",
    "    scores={\n",
    "        'sens': data.loc['khalaf']['sens'],\n",
    "        'spec': data.loc['khalaf']['spec'],\n",
    "        'acc': data.loc['khalaf']['acc'],\n",
    "    },\n",
    "    eps=1e-4,\n",
    "    k=20,\n",
    "    ps=ps,\n",
    "    ns=ns,\n",
    "    lower='rmin',\n",
    "    upper='maxa'\n",
    "))\n",
    "auc_khalaf"
   ]
  },
  {
   "cell_type": "code",
   "execution_count": null,
   "metadata": {},
   "outputs": [
    {
     "data": {
      "text/plain": [
       "np.float64(0.8737035580494894)"
      ]
     },
     "execution_count": 20,
     "metadata": {},
     "output_type": "execute_result"
    }
   ],
   "source": [
    "auc_tan = np.mean(auc_from_aggregated(\n",
    "    scores={\n",
    "        'sens': data.loc['tan']['sens'],\n",
    "        'spec': data.loc['tan']['spec']\n",
    "    },\n",
    "    eps=1e-4,\n",
    "    k=20,\n",
    "    ps=ps,\n",
    "    ns=ns,\n",
    "    lower='rmin',\n",
    "    upper='maxa'\n",
    "))\n",
    "auc_tan"
   ]
  },
  {
   "cell_type": "code",
   "execution_count": 21,
   "metadata": {},
   "outputs": [
    {
     "data": {
      "text/plain": [
       "np.float64(0.8725519741835043)"
      ]
     },
     "execution_count": 21,
     "metadata": {},
     "output_type": "execute_result"
    }
   ],
   "source": [
    "auc_uysal = np.mean(auc_from_aggregated(\n",
    "    scores={\n",
    "        'sens': data.loc['uysal']['sens'],\n",
    "        'spec': data.loc['uysal']['spec']\n",
    "    },\n",
    "    eps=1e-4,\n",
    "    k=20,\n",
    "    ps=ps,\n",
    "    ns=ns,\n",
    "    lower='rmin',\n",
    "    upper='maxa'\n",
    "))\n",
    "auc_uysal"
   ]
  },
  {
   "cell_type": "code",
   "execution_count": 22,
   "metadata": {},
   "outputs": [
    {
     "data": {
      "text/plain": [
       "(np.float64(0.783730445), 0.9840925602966356)"
      ]
     },
     "execution_count": 22,
     "metadata": {},
     "output_type": "execute_result"
    }
   ],
   "source": [
    "auc_liskowski = (auc_from_aggregated(\n",
    "    scores={\n",
    "        'sens': data.loc['liskowski']['sens'],\n",
    "        'spec': data.loc['liskowski']['spec'],\n",
    "        'acc': data.loc['liskowski']['acc'],\n",
    "    },\n",
    "    eps=1e-4,\n",
    "    k=20,\n",
    "    ps=ps,\n",
    "    ns=ns,\n",
    "    lower='rmin',\n",
    "    upper='maxa'\n",
    "))\n",
    "auc_liskowski"
   ]
  },
  {
   "cell_type": "code",
   "execution_count": 23,
   "metadata": {},
   "outputs": [
    {
     "data": {
      "text/plain": [
       "np.float64(0.9653779392691764)"
      ]
     },
     "execution_count": 23,
     "metadata": {},
     "output_type": "execute_result"
    }
   ],
   "source": [
    "max_acc_liskowski = np.mean(max_acc_from_aggregated(\n",
    "    scores={'auc': data.loc['liskowski']['auc']},\n",
    "    eps=1e-4,\n",
    "    ps=ps,\n",
    "    ns=ns,\n",
    "    lower='min',\n",
    "    upper='rmax'\n",
    "))\n",
    "max_acc_liskowski"
   ]
  },
  {
   "cell_type": "code",
   "execution_count": 24,
   "metadata": {},
   "outputs": [
    {
     "data": {
      "text/plain": [
       "np.float64(0.961250475882503)"
      ]
     },
     "execution_count": 24,
     "metadata": {},
     "output_type": "execute_result"
    }
   ],
   "source": [
    "max_acc_guo = np.mean(max_acc_from_aggregated(\n",
    "    scores={'auc': data.loc['guo']['auc']},\n",
    "    eps=1e-4,\n",
    "    ps=ps,\n",
    "    ns=ns,\n",
    "    lower='min',\n",
    "    upper='rmax'\n",
    "))\n",
    "max_acc_guo"
   ]
  },
  {
   "cell_type": "code",
   "execution_count": 25,
   "metadata": {},
   "outputs": [
    {
     "data": {
      "text/plain": [
       "np.float64(0.9503445114559341)"
      ]
     },
     "execution_count": 25,
     "metadata": {},
     "output_type": "execute_result"
    }
   ],
   "source": [
    "np.mean(estimate_acc_interval(fpr=(1.0 - data.loc['tan']['spec'], 1.0 - data.loc['tan']['spec']), tpr=(data.loc['tan']['sens'], data.loc['tan']['sens']), ps=ps, ns=ns))"
   ]
  },
  {
   "cell_type": "code",
   "execution_count": 26,
   "metadata": {},
   "outputs": [
    {
     "data": {
      "text/plain": [
       "(0.799615405, 0.9933853642342678)"
      ]
     },
     "execution_count": 26,
     "metadata": {},
     "output_type": "execute_result"
    }
   ],
   "source": [
    "auc_liskowski = (auc_from_aggregated(\n",
    "    scores={\n",
    "        'sens': 0.7891,\n",
    "        'spec': 0.9848,\n",
    "        'acc': 0.9674,\n",
    "    },\n",
    "    eps=1e-4,\n",
    "    k=20,\n",
    "    ps=ps,\n",
    "    ns=ns,\n",
    "    lower='rmin',\n",
    "    upper='maxa'\n",
    "))\n",
    "auc_liskowski"
   ]
  },
  {
   "cell_type": "code",
   "execution_count": 27,
   "metadata": {},
   "outputs": [
    {
     "data": {
      "text/plain": [
       "np.float64(0.961250475882503)"
      ]
     },
     "execution_count": 27,
     "metadata": {},
     "output_type": "execute_result"
    }
   ],
   "source": [
    "np.mean(max_acc_from_aggregated(\n",
    "    scores={'auc': 0.9652},\n",
    "    eps=1e-4,\n",
    "    ps=ps,\n",
    "    ns=ns,\n",
    "    lower='min',\n",
    "    upper='rmax'\n",
    "))\n",
    "max_acc_guo"
   ]
  },
  {
   "cell_type": "code",
   "execution_count": null,
   "metadata": {},
   "outputs": [],
   "source": []
  }
 ],
 "metadata": {
  "kernelspec": {
   "display_name": "mlscorecheck",
   "language": "python",
   "name": "python3"
  },
  "language_info": {
   "codemirror_mode": {
    "name": "ipython",
    "version": 3
   },
   "file_extension": ".py",
   "mimetype": "text/x-python",
   "name": "python",
   "nbconvert_exporter": "python",
   "pygments_lexer": "ipython3",
   "version": "3.12.0"
  }
 },
 "nbformat": 4,
 "nbformat_minor": 2
}
