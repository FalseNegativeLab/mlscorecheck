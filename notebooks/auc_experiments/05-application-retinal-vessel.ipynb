{
 "cells": [
  {
   "cell_type": "markdown",
   "metadata": {},
   "source": [
    "The paper to be processed: https://ieeexplore.ieee.org/stamp/stamp.jsp?tp=&arnumber=9504555\n",
    "\n",
    "Table 4."
   ]
  },
  {
   "cell_type": "markdown",
   "metadata": {},
   "source": [
    "citations:\n",
    "fan 65\n",
    "liskowski 66\n",
    "khalaf 67\n",
    "tan 69\n",
    "guo 70\n",
    "ulysal 71"
   ]
  },
  {
   "cell_type": "code",
   "execution_count": 1,
   "metadata": {},
   "outputs": [],
   "source": [
    "import numpy as np\n",
    "import pandas as pd\n",
    "\n",
    "import matplotlib.pyplot as plt\n",
    "\n",
    "from mlscorecheck.auc import auc_from_aggregated, max_acc_from_aggregated, estimate_acc_interval, auc_from\n",
    "from mlscorecheck.auc import auc_onmin_grad, auc_maxa_grad, auc_max_grad, auc_rmin_grad, auc_max, auc_lower_from, auc_upper_from, auc_analytic, auc_analytic_exponents, exponential_fitting\n",
    "from mlscorecheck.experiments import load_drive"
   ]
  },
  {
   "cell_type": "code",
   "execution_count": 2,
   "metadata": {},
   "outputs": [],
   "source": [
    "fprs = np.array([0, 1 - 0.9768, 1])\n",
    "tprs = np.array([0, 0.7763, 1])\n",
    "fracs = (tprs * 30000 + fprs * 200000)/230000\n",
    "row = {\n",
    "    'fprs': fprs,\n",
    "    'tprs': tprs,\n",
    "    'fracs': fracs\n",
    "}"
   ]
  },
  {
   "cell_type": "code",
   "execution_count": 3,
   "metadata": {},
   "outputs": [
    {
     "data": {
      "text/plain": [
       "(1.0, -1, -1)"
      ]
     },
     "execution_count": 3,
     "metadata": {},
     "output_type": "execute_result"
    }
   ],
   "source": [
    "exponential_fitting(row, 'fprs', 'fracs')"
   ]
  },
  {
   "cell_type": "code",
   "execution_count": null,
   "metadata": {},
   "outputs": [],
   "source": []
  },
  {
   "cell_type": "code",
   "execution_count": 11,
   "metadata": {},
   "outputs": [
    {
     "data": {
      "text/plain": [
       "0.9838998211091234"
      ]
     },
     "execution_count": 11,
     "metadata": {},
     "output_type": "execute_result"
    }
   ],
   "source": [
    "1/0.18 / (1/0.18 + 1/11)"
   ]
  },
  {
   "cell_type": "code",
   "execution_count": 6,
   "metadata": {},
   "outputs": [
    {
     "data": {
      "text/plain": [
       "0.9368421052631579"
      ]
     },
     "execution_count": 6,
     "metadata": {},
     "output_type": "execute_result"
    }
   ],
   "source": [
    "1.78/(1.78 + 0.12)"
   ]
  },
  {
   "cell_type": "code",
   "execution_count": 2,
   "metadata": {},
   "outputs": [],
   "source": [
    "data = {\n",
    "'fan': {\n",
    "    'sens': 0.7814,\n",
    "    'spec': 0.9788,\n",
    "    'acc': 0.9612,\n",
    "    'cite': 65\n",
    "},\n",
    "'liskowski': {\n",
    "    'sens': 0.7763,\n",
    "    'spec': 0.9768,\n",
    "    'acc': 0.9495,\n",
    "    'auc': 0.972,\n",
    "    'cite': 66\n",
    "},\n",
    "'khalaf': {\n",
    "    'sens': 0.8397,\n",
    "    'spec': 0.9562,\n",
    "    'acc': 0.9456,\n",
    "    'cite': 67\n",
    "},\n",
    "'tan': {\n",
    "    'sens': 0.7537,\n",
    "    'spec': 0.9694,\n",
    "    'cite': 69\n",
    "},\n",
    "'guo': {\n",
    "    'acc': 0.9199,\n",
    "    'auc': 0.9652,\n",
    "    'cite': 70\n",
    "},\n",
    "'uysal': {\n",
    "    'sens': 0.7548,\n",
    "    'spec': 0.9682,\n",
    "    'acc': 0.9419,\n",
    "    'cite': 71\n",
    "}\n",
    "}"
   ]
  },
  {
   "cell_type": "code",
   "execution_count": 7,
   "metadata": {},
   "outputs": [
    {
     "name": "stdout",
     "output_type": "stream",
     "text": [
      "0.0842909090909091\n",
      "0.12990104486713247 1.5775630638744096\n"
     ]
    },
    {
     "data": {
      "text/plain": [
       "0.923921654222721"
      ]
     },
     "execution_count": 7,
     "metadata": {},
     "output_type": "execute_result"
    }
   ],
   "source": [
    "auc_analytic({'sens': 0.7252, 'spec': 0.9798} | {'p': 30000, 'n': 300000})"
   ]
  },
  {
   "cell_type": "code",
   "execution_count": 24,
   "metadata": {},
   "outputs": [],
   "source": [
    "def one_exponent(sens, spec):\n",
    "    x = np.logspace(-2, 0, 5000)\n",
    "    idx = np.argmin(((2**x - (1 - spec))/((1 - spec)))**2 + ((2**(1/x) - sens)/(sens))**2)\n",
    "\n",
    "    return x[idx]\n",
    "    "
   ]
  },
  {
   "cell_type": "code",
   "execution_count": 25,
   "metadata": {},
   "outputs": [
    {
     "data": {
      "text/plain": [
       "np.float64(0.2815074533594139)"
      ]
     },
     "execution_count": 25,
     "metadata": {},
     "output_type": "execute_result"
    }
   ],
   "source": [
    "one_exponent(0.7763, 0.9768)"
   ]
  },
  {
   "cell_type": "code",
   "execution_count": 26,
   "metadata": {},
   "outputs": [
    {
     "data": {
      "text/plain": [
       "0.9265760305436523"
      ]
     },
     "execution_count": 26,
     "metadata": {},
     "output_type": "execute_result"
    }
   ],
   "source": [
    "(1/0.2815)/((1/0.2815) + 0.2815)"
   ]
  },
  {
   "cell_type": "code",
   "execution_count": 13,
   "metadata": {},
   "outputs": [
    {
     "data": {
      "text/plain": [
       "np.float64(0.9369610080262911)"
      ]
     },
     "execution_count": 13,
     "metadata": {},
     "output_type": "execute_result"
    }
   ],
   "source": [
    "np.log10(1 - 0.9768)/(np.log10(1 - 0.9768) + np.log10(0.7763))"
   ]
  },
  {
   "cell_type": "code",
   "execution_count": 10,
   "metadata": {},
   "outputs": [
    {
     "data": {
      "text/plain": [
       "(np.float64(1.5775630638744096), np.float64(0.12990104486713247))"
      ]
     },
     "execution_count": 10,
     "metadata": {},
     "output_type": "execute_result"
    }
   ],
   "source": [
    "exp_fpr, exp_tpr"
   ]
  },
  {
   "cell_type": "code",
   "execution_count": 73,
   "metadata": {},
   "outputs": [
    {
     "data": {
      "text/plain": [
       "[<matplotlib.lines.Line2D at 0x7f011533a750>]"
      ]
     },
     "execution_count": 73,
     "metadata": {},
     "output_type": "execute_result"
    },
    {
     "data": {
      "image/png": "[encoded data removed]",
      "text/plain": [
       "<Figure size 350x350 with 1 Axes>"
      ]
     },
     "metadata": {},
     "output_type": "display_data"
    }
   ],
   "source": [
    "plt.figure(figsize=(3.5, 3.5))\n",
    "x = np.linspace(0, 1, 1001)\n",
    "#plt.plot(x**5, x**0.2)\n",
    "#plt.plot(x, x**5)\n",
    "plt.plot(x, x**0.2)\n",
    "\n",
    "#plt.plot((1-(x)**0.2), 1 - x)\n",
    "plt.plot(x, 1 - (1 - x)**5)\n",
    "\n",
    "#plt.plot(x, ((x**0.2) + (1 - (1 - x)**5))/2)"
   ]
  },
  {
   "cell_type": "code",
   "execution_count": 6,
   "metadata": {},
   "outputs": [
    {
     "name": "stdout",
     "output_type": "stream",
     "text": [
      "0.6332434782608696\n"
     ]
    },
    {
     "data": {
      "text/plain": [
       "0.9239216542227211"
      ]
     },
     "execution_count": 6,
     "metadata": {},
     "output_type": "execute_result"
    }
   ],
   "source": [
    "auc_analytic({'sens': 0.7252, 'spec': 0.9798} | {'p': 200000, 'n': 30000})"
   ]
  },
  {
   "cell_type": "code",
   "execution_count": 3,
   "metadata": {},
   "outputs": [],
   "source": [
    "data = pd.DataFrame(data).T"
   ]
  },
  {
   "cell_type": "code",
   "execution_count": 4,
   "metadata": {},
   "outputs": [
    {
     "data": {
      "text/html": [
       "<div>\n",
       "<style scoped>\n",
       "    .dataframe tbody tr th:only-of-type {\n",
       "        vertical-align: middle;\n",
       "    }\n",
       "\n",
       "    .dataframe tbody tr th {\n",
       "        vertical-align: top;\n",
       "    }\n",
       "\n",
       "    .dataframe thead th {\n",
       "        text-align: right;\n",
       "    }\n",
       "</style>\n",
       "<table border=\"1\" class=\"dataframe\">\n",
       "  <thead>\n",
       "    <tr style=\"text-align: right;\">\n",
       "      <th></th>\n",
       "      <th>sens</th>\n",
       "      <th>spec</th>\n",
       "      <th>acc</th>\n",
       "      <th>cite</th>\n",
       "      <th>auc</th>\n",
       "    </tr>\n",
       "  </thead>\n",
       "  <tbody>\n",
       "    <tr>\n",
       "      <th>fan</th>\n",
       "      <td>0.7814</td>\n",
       "      <td>0.9788</td>\n",
       "      <td>0.9612</td>\n",
       "      <td>65.0</td>\n",
       "      <td>NaN</td>\n",
       "    </tr>\n",
       "    <tr>\n",
       "      <th>liskowski</th>\n",
       "      <td>0.7763</td>\n",
       "      <td>0.9768</td>\n",
       "      <td>0.9495</td>\n",
       "      <td>66.0</td>\n",
       "      <td>0.9720</td>\n",
       "    </tr>\n",
       "    <tr>\n",
       "      <th>khalaf</th>\n",
       "      <td>0.8397</td>\n",
       "      <td>0.9562</td>\n",
       "      <td>0.9456</td>\n",
       "      <td>67.0</td>\n",
       "      <td>NaN</td>\n",
       "    </tr>\n",
       "    <tr>\n",
       "      <th>tan</th>\n",
       "      <td>0.7537</td>\n",
       "      <td>0.9694</td>\n",
       "      <td>NaN</td>\n",
       "      <td>69.0</td>\n",
       "      <td>NaN</td>\n",
       "    </tr>\n",
       "    <tr>\n",
       "      <th>guo</th>\n",
       "      <td>NaN</td>\n",
       "      <td>NaN</td>\n",
       "      <td>0.9199</td>\n",
       "      <td>70.0</td>\n",
       "      <td>0.9652</td>\n",
       "    </tr>\n",
       "    <tr>\n",
       "      <th>uysal</th>\n",
       "      <td>0.7548</td>\n",
       "      <td>0.9682</td>\n",
       "      <td>0.9419</td>\n",
       "      <td>71.0</td>\n",
       "      <td>NaN</td>\n",
       "    </tr>\n",
       "  </tbody>\n",
       "</table>\n",
       "</div>"
      ],
      "text/plain": [
       "             sens    spec     acc  cite     auc\n",
       "fan        0.7814  0.9788  0.9612  65.0     NaN\n",
       "liskowski  0.7763  0.9768  0.9495  66.0  0.9720\n",
       "khalaf     0.8397  0.9562  0.9456  67.0     NaN\n",
       "tan        0.7537  0.9694     NaN  69.0     NaN\n",
       "guo           NaN     NaN  0.9199  70.0  0.9652\n",
       "uysal      0.7548  0.9682  0.9419  71.0     NaN"
      ]
     },
     "execution_count": 4,
     "metadata": {},
     "output_type": "execute_result"
    }
   ],
   "source": [
    "data"
   ]
  },
  {
   "cell_type": "code",
   "execution_count": 5,
   "metadata": {},
   "outputs": [
    {
     "name": "stdout",
     "output_type": "stream",
     "text": [
      "\\begin{tabular}{lrrrrr}\n",
      "\\toprule\n",
      " & sens & spec & acc & cite & auc \\\\\n",
      "\\midrule\n",
      "fan & 0.781400 & 0.978800 & 0.961200 & 65.000000 & NaN \\\\\n",
      "liskowski & 0.776300 & 0.976800 & 0.949500 & 66.000000 & 0.972000 \\\\\n",
      "khalaf & 0.839700 & 0.956200 & 0.945600 & 67.000000 & NaN \\\\\n",
      "tan & 0.753700 & 0.969400 & NaN & 69.000000 & NaN \\\\\n",
      "guo & NaN & NaN & 0.919900 & 70.000000 & 0.965200 \\\\\n",
      "uysal & 0.754800 & 0.968200 & 0.941900 & 71.000000 & NaN \\\\\n",
      "\\bottomrule\n",
      "\\end{tabular}\n",
      "\n"
     ]
    }
   ],
   "source": [
    "print(data.to_latex())"
   ]
  },
  {
   "cell_type": "code",
   "execution_count": 6,
   "metadata": {},
   "outputs": [],
   "source": [
    "drive = load_drive()[(1, 'all')]['test']['images']"
   ]
  },
  {
   "cell_type": "code",
   "execution_count": 7,
   "metadata": {},
   "outputs": [
    {
     "data": {
      "text/plain": [
       "(array([29440, 33790, 32893, 30354, 30912, 32116, 30152, 28389, 26741,\n",
       "        27156, 29539, 28490, 32259, 26677, 23614, 29791, 27852, 26144,\n",
       "        27371, 24265]),\n",
       " array([300520, 296170, 297067, 299606, 299048, 297844, 299808, 301571,\n",
       "        303219, 302804, 300421, 301470, 297701, 303283, 306346, 300169,\n",
       "        302108, 303816, 302589, 305695]))"
      ]
     },
     "execution_count": 7,
     "metadata": {},
     "output_type": "execute_result"
    }
   ],
   "source": [
    "ns = np.array([dr['n'] for dr in drive])\n",
    "ps = np.array([dr['p'] for dr in drive])\n",
    "ps, ns"
   ]
  },
  {
   "cell_type": "code",
   "execution_count": 8,
   "metadata": {},
   "outputs": [
    {
     "data": {
      "text/html": [
       "<div>\n",
       "<style scoped>\n",
       "    .dataframe tbody tr th:only-of-type {\n",
       "        vertical-align: middle;\n",
       "    }\n",
       "\n",
       "    .dataframe tbody tr th {\n",
       "        vertical-align: top;\n",
       "    }\n",
       "\n",
       "    .dataframe thead th {\n",
       "        text-align: right;\n",
       "    }\n",
       "</style>\n",
       "<table border=\"1\" class=\"dataframe\">\n",
       "  <thead>\n",
       "    <tr style=\"text-align: right;\">\n",
       "      <th></th>\n",
       "      <th>sens</th>\n",
       "      <th>spec</th>\n",
       "      <th>acc</th>\n",
       "      <th>cite</th>\n",
       "      <th>auc</th>\n",
       "    </tr>\n",
       "  </thead>\n",
       "  <tbody>\n",
       "    <tr>\n",
       "      <th>fan</th>\n",
       "      <td>0.7814</td>\n",
       "      <td>0.9788</td>\n",
       "      <td>0.9612</td>\n",
       "      <td>65.0</td>\n",
       "      <td>NaN</td>\n",
       "    </tr>\n",
       "    <tr>\n",
       "      <th>liskowski</th>\n",
       "      <td>0.7763</td>\n",
       "      <td>0.9768</td>\n",
       "      <td>0.9495</td>\n",
       "      <td>66.0</td>\n",
       "      <td>0.9720</td>\n",
       "    </tr>\n",
       "    <tr>\n",
       "      <th>khalaf</th>\n",
       "      <td>0.8397</td>\n",
       "      <td>0.9562</td>\n",
       "      <td>0.9456</td>\n",
       "      <td>67.0</td>\n",
       "      <td>NaN</td>\n",
       "    </tr>\n",
       "    <tr>\n",
       "      <th>tan</th>\n",
       "      <td>0.7537</td>\n",
       "      <td>0.9694</td>\n",
       "      <td>NaN</td>\n",
       "      <td>69.0</td>\n",
       "      <td>NaN</td>\n",
       "    </tr>\n",
       "    <tr>\n",
       "      <th>guo</th>\n",
       "      <td>NaN</td>\n",
       "      <td>NaN</td>\n",
       "      <td>0.9199</td>\n",
       "      <td>70.0</td>\n",
       "      <td>0.9652</td>\n",
       "    </tr>\n",
       "    <tr>\n",
       "      <th>uysal</th>\n",
       "      <td>0.7548</td>\n",
       "      <td>0.9682</td>\n",
       "      <td>0.9419</td>\n",
       "      <td>71.0</td>\n",
       "      <td>NaN</td>\n",
       "    </tr>\n",
       "  </tbody>\n",
       "</table>\n",
       "</div>"
      ],
      "text/plain": [
       "             sens    spec     acc  cite     auc\n",
       "fan        0.7814  0.9788  0.9612  65.0     NaN\n",
       "liskowski  0.7763  0.9768  0.9495  66.0  0.9720\n",
       "khalaf     0.8397  0.9562  0.9456  67.0     NaN\n",
       "tan        0.7537  0.9694     NaN  69.0     NaN\n",
       "guo           NaN     NaN  0.9199  70.0  0.9652\n",
       "uysal      0.7548  0.9682  0.9419  71.0     NaN"
      ]
     },
     "execution_count": 8,
     "metadata": {},
     "output_type": "execute_result"
    }
   ],
   "source": [
    "data"
   ]
  },
  {
   "cell_type": "code",
   "execution_count": 9,
   "metadata": {},
   "outputs": [
    {
     "data": {
      "text/plain": [
       "np.float64(nan)"
      ]
     },
     "execution_count": 9,
     "metadata": {},
     "output_type": "execute_result"
    }
   ],
   "source": [
    "np.mean(auc_from(\n",
    "    scores={\n",
    "        'sens': 0.7350,\n",
    "        'spec': 0.9866,\n",
    "        'acc': 0.9546,\n",
    "    },\n",
    "    eps=1e-4,\n",
    "    #k=20,\n",
    "    #ps=ps,\n",
    "    #ns=ns,\n",
    "    lower='onmin',\n",
    "    upper='max'\n",
    "))"
   ]
  },
  {
   "cell_type": "code",
   "execution_count": 10,
   "metadata": {},
   "outputs": [
    {
     "data": {
      "text/plain": [
       "(0.8892826425, 0.8892826425)"
      ]
     },
     "execution_count": 10,
     "metadata": {},
     "output_type": "execute_result"
    }
   ],
   "source": [
    "auc_from(\n",
    "    scores={\n",
    "        'sens': data.loc['liskowski']['sens'],\n",
    "        'spec': data.loc['liskowski']['spec'],\n",
    "        'acc': data.loc['liskowski']['acc'],\n",
    "    },\n",
    "    eps=1e-4,\n",
    "    #k=20,\n",
    "    #ps=ps,\n",
    "    #ns=ns,\n",
    "    p=ps[0],\n",
    "    n=ns[0],\n",
    "    lower='rmin',\n",
    "    upper='max',\n",
    "    correction=None\n",
    ")"
   ]
  },
  {
   "cell_type": "code",
   "execution_count": 11,
   "metadata": {},
   "outputs": [
    {
     "data": {
      "text/plain": [
       "(np.int64(29440), np.int64(300520))"
      ]
     },
     "execution_count": 11,
     "metadata": {},
     "output_type": "execute_result"
    }
   ],
   "source": [
    "ps[0], ns[0]"
   ]
  },
  {
   "cell_type": "code",
   "execution_count": 11,
   "metadata": {},
   "outputs": [
    {
     "data": {
      "text/plain": [
       "((0.783730445, 1.0), (0.99483484, 1.0))"
      ]
     },
     "execution_count": 11,
     "metadata": {},
     "output_type": "execute_result"
    }
   ],
   "source": [
    "(auc_lower_from(\n",
    "    scores={\n",
    "        'sens': data.loc['liskowski']['sens'],\n",
    "        'spec': data.loc['liskowski']['spec'],\n",
    "        'acc': data.loc['liskowski']['acc'],\n",
    "    },\n",
    "    eps=1e-4,\n",
    "    #k=20,\n",
    "    #ps=ps,\n",
    "    #ns=ns,\n",
    "    p=ps[0],\n",
    "    n=ns[0],\n",
    "    lower='rmin'\n",
    "),\n",
    "auc_upper_from(\n",
    "    scores={\n",
    "        'sens': data.loc['liskowski']['sens'],\n",
    "        'spec': data.loc['liskowski']['spec'],\n",
    "        'acc': data.loc['liskowski']['acc'],\n",
    "    },\n",
    "    eps=1e-4,\n",
    "    #k=20,\n",
    "    #ps=ps,\n",
    "    #ns=ns,\n",
    "    p=ps[0],\n",
    "    n=ns[0],\n",
    "    upper='max'\n",
    "))"
   ]
  },
  {
   "cell_type": "code",
   "execution_count": 12,
   "metadata": {},
   "outputs": [
    {
     "data": {
      "text/plain": [
       "np.float64(0.9072292499999999)"
      ]
     },
     "execution_count": 12,
     "metadata": {},
     "output_type": "execute_result"
    }
   ],
   "source": [
    "np.mean(auc_from(\n",
    "    scores={\n",
    "        'sens': data.loc['liskowski']['sens'],\n",
    "        'spec': data.loc['liskowski']['spec'],\n",
    "        'acc': data.loc['liskowski']['acc'],\n",
    "    },\n",
    "    eps=1e-4,\n",
    "    #k=20,\n",
    "    #ps=ps,\n",
    "    #ns=ns,\n",
    "    p=ps[0],\n",
    "    n=ns[0],\n",
    "    lower='rmin',\n",
    "    upper='max',\n",
    "    correction=None\n",
    "))"
   ]
  },
  {
   "cell_type": "code",
   "execution_count": 13,
   "metadata": {},
   "outputs": [
    {
     "name": "stdout",
     "output_type": "stream",
     "text": [
      "0.7071067811865476 0.22489982214310444\n"
     ]
    },
    {
     "data": {
      "text/plain": [
       "(np.float64(0.783730445),\n",
       " 1.0,\n",
       " np.float64(0.24130711235267618),\n",
       " np.float64(0.7586928876473238),\n",
       " np.float64(0.9478126181931517),\n",
       " np.float64(0.8918652225))"
      ]
     },
     "execution_count": 13,
     "metadata": {},
     "output_type": "execute_result"
    }
   ],
   "source": [
    "lower, upper = auc_from_aggregated(\n",
    "    scores={\n",
    "        'sens': data.loc['liskowski']['sens'],\n",
    "        'spec': data.loc['liskowski']['spec'],\n",
    "        'acc': data.loc['liskowski']['acc'],\n",
    "    },\n",
    "    eps=1e-4,\n",
    "    k=20,\n",
    "    ps=ps,\n",
    "    ns=ns,\n",
    "    lower='rmin',\n",
    "    upper='max'\n",
    ")\n",
    "exponent = 1\n",
    "#lweight = auc_onmin_grad(fpr=1 - data.loc['liskowski']['spec'], tpr=data.loc['liskowski']['sens'])**exponent\n",
    "lweight = auc_onmin_grad(fpr=1 - data.loc['liskowski']['spec'], tpr=data.loc['liskowski']['sens'])**exponent\n",
    "uweight = auc_max_grad(fpr=1 - data.loc['liskowski']['spec'], tpr=data.loc['liskowski']['sens'])**exponent\n",
    "#uweight = auc_maxa_grad(acc=data.loc['liskowski']['acc'], p=ps[0], n=ns[0])**exponent\n",
    "#uweight = 1 - np.sqrt(data.loc['liskowski']['sens'] * data.loc['liskowski']['spec'])\n",
    "#lweight = np.sqrt(data.loc['liskowski']['sens'] * data.loc['liskowski']['spec'])\n",
    "\n",
    "#uweight = 1\n",
    "#lweight = ns[0]/ps[0]\n",
    "\n",
    "print(lweight, uweight)\n",
    "\n",
    "lweight2 = uweight / (uweight + lweight)\n",
    "uweight2 = lweight / (uweight + lweight)\n",
    "\n",
    "lower, upper, lweight2, uweight2, lower * lweight2 + upper * uweight2, (lower + upper)/2"
   ]
  },
  {
   "cell_type": "code",
   "execution_count": null,
   "metadata": {},
   "outputs": [
    {
     "data": {
      "text/plain": [
       "np.float64(0.9302712801483177)"
      ]
     },
     "execution_count": 14,
     "metadata": {},
     "output_type": "execute_result"
    }
   ],
   "source": [
    "np.mean(auc_from_aggregated(\n",
    "    scores={\n",
    "        'sens': data.loc['liskowski']['sens'],\n",
    "        'spec': data.loc['liskowski']['spec'],\n",
    "        'acc': data.loc['liskowski']['acc'],\n",
    "    },\n",
    "    eps=1e-4,\n",
    "    k=20,\n",
    "    ps=ps,\n",
    "    ns=ns,\n",
    "    lower='onmin',\n",
    "    upper='maxa'\n",
    "))"
   ]
  },
  {
   "cell_type": "code",
   "execution_count": 15,
   "metadata": {},
   "outputs": [
    {
     "data": {
      "text/plain": [
       "np.float64(0.935310450253265)"
      ]
     },
     "execution_count": 15,
     "metadata": {},
     "output_type": "execute_result"
    }
   ],
   "source": [
    "auc_fan = np.mean(auc_from_aggregated(\n",
    "    scores={\n",
    "        'sens': data.loc['fan']['sens'],\n",
    "        'spec': data.loc['fan']['spec'],\n",
    "        'acc': data.loc['fan']['acc'],\n",
    "    },\n",
    "    eps=1e-4,\n",
    "    k=20,\n",
    "    ps=ps,\n",
    "    ns=ns,\n",
    "    lower='onmin',\n",
    "    upper='maxa'\n",
    "))\n",
    "auc_fan"
   ]
  },
  {
   "cell_type": "code",
   "execution_count": 16,
   "metadata": {},
   "outputs": [],
   "source": [
    "tmp = np.mean(auc_from_aggregated(\n",
    "    scores={\n",
    "        'sens': data.loc['fan']['sens'],\n",
    "        'spec': data.loc['fan']['spec'],\n",
    "        'acc': data.loc['fan']['acc'],\n",
    "    },\n",
    "    eps=1e-4,\n",
    "    k=20,\n",
    "    ps=ps,\n",
    "    ns=ns,\n",
    "    lower='min',\n",
    "    upper='max'\n",
    "))"
   ]
  },
  {
   "cell_type": "code",
   "execution_count": 17,
   "metadata": {},
   "outputs": [
    {
     "data": {
      "text/plain": [
       "np.float64(0.935310450253265)"
      ]
     },
     "execution_count": 17,
     "metadata": {},
     "output_type": "execute_result"
    }
   ],
   "source": [
    "(auc_from_aggregated(\n",
    "    scores={\n",
    "        'sens': data.loc['fan']['sens'],\n",
    "        'spec': data.loc['fan']['spec'],\n",
    "        'acc': data.loc['fan']['acc'],\n",
    "    },\n",
    "    eps=1e-4,\n",
    "    k=20,\n",
    "    ps=ps,\n",
    "    ns=ns,\n",
    "    lower='min',\n",
    "    upper='maxa'\n",
    ")[1] + tmp)/2"
   ]
  },
  {
   "cell_type": "code",
   "execution_count": 18,
   "metadata": {},
   "outputs": [
    {
     "data": {
      "text/plain": [
       "(np.float64(0.78910408), 0.9906209005065298)"
      ]
     },
     "execution_count": 18,
     "metadata": {},
     "output_type": "execute_result"
    }
   ],
   "source": [
    "auc_from_aggregated(\n",
    "    scores={\n",
    "        'sens': data.loc['fan']['sens'],\n",
    "        'spec': data.loc['fan']['spec'],\n",
    "        'acc': data.loc['fan']['acc'],\n",
    "    },\n",
    "    eps=1e-4,\n",
    "    k=20,\n",
    "    ps=ps,\n",
    "    ns=ns,\n",
    "    lower='rmin',\n",
    "    upper='maxa'\n",
    ")"
   ]
  },
  {
   "cell_type": "code",
   "execution_count": 19,
   "metadata": {},
   "outputs": [
    {
     "data": {
      "text/plain": [
       "np.float64(0.8992115244366155)"
      ]
     },
     "execution_count": 19,
     "metadata": {},
     "output_type": "execute_result"
    }
   ],
   "source": [
    "auc_khalaf = np.mean(auc_from_aggregated(\n",
    "    scores={\n",
    "        'sens': data.loc['khalaf']['sens'],\n",
    "        'spec': data.loc['khalaf']['spec'],\n",
    "        'acc': data.loc['khalaf']['acc'],\n",
    "    },\n",
    "    eps=1e-4,\n",
    "    k=20,\n",
    "    ps=ps,\n",
    "    ns=ns,\n",
    "    lower='rmin',\n",
    "    upper='maxa'\n",
    "))\n",
    "auc_khalaf"
   ]
  },
  {
   "cell_type": "code",
   "execution_count": null,
   "metadata": {},
   "outputs": [
    {
     "data": {
      "text/plain": [
       "np.float64(0.8737035580494894)"
      ]
     },
     "execution_count": 20,
     "metadata": {},
     "output_type": "execute_result"
    }
   ],
   "source": [
    "auc_tan = np.mean(auc_from_aggregated(\n",
    "    scores={\n",
    "        'sens': data.loc['tan']['sens'],\n",
    "        'spec': data.loc['tan']['spec']\n",
    "    },\n",
    "    eps=1e-4,\n",
    "    k=20,\n",
    "    ps=ps,\n",
    "    ns=ns,\n",
    "    lower='rmin',\n",
    "    upper='maxa'\n",
    "))\n",
    "auc_tan"
   ]
  },
  {
   "cell_type": "code",
   "execution_count": 21,
   "metadata": {},
   "outputs": [
    {
     "data": {
      "text/plain": [
       "np.float64(0.8725519741835043)"
      ]
     },
     "execution_count": 21,
     "metadata": {},
     "output_type": "execute_result"
    }
   ],
   "source": [
    "auc_uysal = np.mean(auc_from_aggregated(\n",
    "    scores={\n",
    "        'sens': data.loc['uysal']['sens'],\n",
    "        'spec': data.loc['uysal']['spec']\n",
    "    },\n",
    "    eps=1e-4,\n",
    "    k=20,\n",
    "    ps=ps,\n",
    "    ns=ns,\n",
    "    lower='rmin',\n",
    "    upper='maxa'\n",
    "))\n",
    "auc_uysal"
   ]
  },
  {
   "cell_type": "code",
   "execution_count": 22,
   "metadata": {},
   "outputs": [
    {
     "data": {
      "text/plain": [
       "(np.float64(0.783730445), 0.9840925602966356)"
      ]
     },
     "execution_count": 22,
     "metadata": {},
     "output_type": "execute_result"
    }
   ],
   "source": [
    "auc_liskowski = (auc_from_aggregated(\n",
    "    scores={\n",
    "        'sens': data.loc['liskowski']['sens'],\n",
    "        'spec': data.loc['liskowski']['spec'],\n",
    "        'acc': data.loc['liskowski']['acc'],\n",
    "    },\n",
    "    eps=1e-4,\n",
    "    k=20,\n",
    "    ps=ps,\n",
    "    ns=ns,\n",
    "    lower='rmin',\n",
    "    upper='maxa'\n",
    "))\n",
    "auc_liskowski"
   ]
  },
  {
   "cell_type": "code",
   "execution_count": 23,
   "metadata": {},
   "outputs": [
    {
     "data": {
      "text/plain": [
       "np.float64(0.9653779392691764)"
      ]
     },
     "execution_count": 23,
     "metadata": {},
     "output_type": "execute_result"
    }
   ],
   "source": [
    "max_acc_liskowski = np.mean(max_acc_from_aggregated(\n",
    "    scores={'auc': data.loc['liskowski']['auc']},\n",
    "    eps=1e-4,\n",
    "    ps=ps,\n",
    "    ns=ns,\n",
    "    lower='min',\n",
    "    upper='rmax'\n",
    "))\n",
    "max_acc_liskowski"
   ]
  },
  {
   "cell_type": "code",
   "execution_count": 24,
   "metadata": {},
   "outputs": [
    {
     "data": {
      "text/plain": [
       "np.float64(0.961250475882503)"
      ]
     },
     "execution_count": 24,
     "metadata": {},
     "output_type": "execute_result"
    }
   ],
   "source": [
    "max_acc_guo = np.mean(max_acc_from_aggregated(\n",
    "    scores={'auc': data.loc['guo']['auc']},\n",
    "    eps=1e-4,\n",
    "    ps=ps,\n",
    "    ns=ns,\n",
    "    lower='min',\n",
    "    upper='rmax'\n",
    "))\n",
    "max_acc_guo"
   ]
  },
  {
   "cell_type": "code",
   "execution_count": 25,
   "metadata": {},
   "outputs": [
    {
     "data": {
      "text/plain": [
       "np.float64(0.9503445114559341)"
      ]
     },
     "execution_count": 25,
     "metadata": {},
     "output_type": "execute_result"
    }
   ],
   "source": [
    "np.mean(estimate_acc_interval(fpr=(1.0 - data.loc['tan']['spec'], 1.0 - data.loc['tan']['spec']), tpr=(data.loc['tan']['sens'], data.loc['tan']['sens']), ps=ps, ns=ns))"
   ]
  },
  {
   "cell_type": "code",
   "execution_count": 26,
   "metadata": {},
   "outputs": [
    {
     "data": {
      "text/plain": [
       "(0.799615405, 0.9933853642342678)"
      ]
     },
     "execution_count": 26,
     "metadata": {},
     "output_type": "execute_result"
    }
   ],
   "source": [
    "auc_liskowski = (auc_from_aggregated(\n",
    "    scores={\n",
    "        'sens': 0.7891,\n",
    "        'spec': 0.9848,\n",
    "        'acc': 0.9674,\n",
    "    },\n",
    "    eps=1e-4,\n",
    "    k=20,\n",
    "    ps=ps,\n",
    "    ns=ns,\n",
    "    lower='rmin',\n",
    "    upper='maxa'\n",
    "))\n",
    "auc_liskowski"
   ]
  },
  {
   "cell_type": "code",
   "execution_count": 27,
   "metadata": {},
   "outputs": [
    {
     "data": {
      "text/plain": [
       "np.float64(0.961250475882503)"
      ]
     },
     "execution_count": 27,
     "metadata": {},
     "output_type": "execute_result"
    }
   ],
   "source": [
    "np.mean(max_acc_from_aggregated(\n",
    "    scores={'auc': 0.9652},\n",
    "    eps=1e-4,\n",
    "    ps=ps,\n",
    "    ns=ns,\n",
    "    lower='min',\n",
    "    upper='rmax'\n",
    "))\n",
    "max_acc_guo"
   ]
  },
  {
   "cell_type": "code",
   "execution_count": null,
   "metadata": {},
   "outputs": [],
   "source": []
  }
 ],
 "metadata": {
  "kernelspec": {
   "display_name": "mlscorecheck",
   "language": "python",
   "name": "python3"
  },
  "language_info": {
   "codemirror_mode": {
    "name": "ipython",
    "version": 3
   },
   "file_extension": ".py",
   "mimetype": "text/x-python",
   "name": "python",
   "nbconvert_exporter": "python",
   "pygments_lexer": "ipython3",
   "version": "3.12.0"
  }
 },
 "nbformat": 4,
 "nbformat_minor": 2
}
