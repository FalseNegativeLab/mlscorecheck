{
 "cells": [
  {
   "cell_type": "code",
   "execution_count": 14,
   "metadata": {},
   "outputs": [],
   "source": [
    "import numpy as np\n",
    "import pandas as pd\n",
    "import matplotlib.pyplot as plt\n",
    "\n",
    "from mlscorecheck.auc import (\n",
    "    integrate_roc_curve, \n",
    "    auc_min, \n",
    "    auc_max, \n",
    "    p_norm_fit_auc, \n",
    "    roc_min, \n",
    "    roc_max, \n",
    "    auc_rmin, \n",
    "    auc_maxa, \n",
    "    roc_maxa, \n",
    "    auc_rmin, \n",
    "    roc_rmin, \n",
    "    roc_maxa2, \n",
    "    auc_maxa2, \n",
    "    p_norm_fit,\n",
    "    p_norm_fit_joint,\n",
    "    auc_estimator,\n",
    "    max_acc_estimator)\n",
    "\n",
    "from sklearn.metrics import r2_score\n",
    "\n",
    "from scipy.stats import beta, binom\n",
    "from scipy.optimize import minimize_scalar, root_scalar"
   ]
  },
  {
   "cell_type": "code",
   "execution_count": 15,
   "metadata": {},
   "outputs": [],
   "source": [
    "input_label = 'single'\n",
    "\n",
    "input_file = f'fit-{input_label}-50k.csv'\n",
    "output_file = f'processed-{input_label}-50k.csv'"
   ]
  },
  {
   "cell_type": "code",
   "execution_count": 16,
   "metadata": {},
   "outputs": [
    {
     "data": {
      "text/plain": [
       "exp_tpr    1.780842\n",
       "exp_fpr    0.605886\n",
       "dtype: float64"
      ]
     },
     "execution_count": 16,
     "metadata": {},
     "output_type": "execute_result"
    }
   ],
   "source": [
    "data = pd.read_csv(input_file)\n",
    "data[['exp_tpr', 'exp_fpr']].median()"
   ]
  },
  {
   "cell_type": "code",
   "execution_count": 17,
   "metadata": {},
   "outputs": [],
   "source": [
    "def protect(function, args):\n",
    "    try:\n",
    "        return function(*args)\n",
    "    except:\n",
    "        return None"
   ]
  },
  {
   "cell_type": "code",
   "execution_count": 18,
   "metadata": {},
   "outputs": [],
   "source": [
    "data['auc_min'] = data.apply(lambda row: auc_min(1 - row['spec'], row['sens']), axis=1)\n",
    "data['auc_min_best'] = data.apply(lambda row: auc_min(1 - row['best_spec'], row['best_sens']), axis=1)\n",
    "data['auc_max'] = data.apply(lambda row: auc_max(1 - row['spec'], row['sens']), axis=1)\n",
    "data['auc_max_best'] = data.apply(lambda row: auc_max(1 - row['best_spec'], row['best_sens']), axis=1)\n",
    "data['auc_maxa_best'] = data.apply(lambda row: protect(auc_maxa, (row['best_acc'], row['p'], row['n'])), axis=1)\n",
    "data['auc_maxa2_best'] = data.apply(lambda row: protect(auc_maxa2, (row['best_acc'], row['p'], row['n'])), axis=1)\n",
    "data['auc_rmin_best'] = data.apply(lambda row: protect(auc_rmin, (1 - row['best_spec'], row['best_sens'])), axis=1)\n",
    "data['auc_rmin'] = data.apply(lambda row: protect(auc_rmin, (1 - row['spec'], row['sens'])), axis=1)"
   ]
  },
  {
   "cell_type": "code",
   "execution_count": 19,
   "metadata": {},
   "outputs": [],
   "source": [
    "_, x0, y0 = auc_estimator(0.024, 0.776, 30000, 300000, mode='separate', return_details=True, best=False)\n",
    "_, x1, y1 = auc_estimator(0.024, 0.776, 30000, 300000, mode='joint', return_details=True, best=False)\n",
    "_, x2, y2 = auc_estimator(0.024, 0.776, 30000, 300000, mode='roc', return_details=True, best=False)"
   ]
  },
  {
   "cell_type": "code",
   "execution_count": 20,
   "metadata": {},
   "outputs": [
    {
     "data": {
      "text/plain": [
       "<matplotlib.collections.PathCollection at 0x7fa30c518c50>"
      ]
     },
     "execution_count": 20,
     "metadata": {},
     "output_type": "execute_result"
    },
    {
     "data": {
      "image/png": "[encoded data removed]",
      "text/plain": [
       "<Figure size 640x480 with 1 Axes>"
      ]
     },
     "metadata": {},
     "output_type": "display_data"
    }
   ],
   "source": [
    "plt.plot(x0, y0)\n",
    "plt.plot(x1, y1)\n",
    "plt.plot(x2, y2)\n",
    "plt.scatter([0.024], [0.776])"
   ]
  },
  {
   "cell_type": "code",
   "execution_count": 21,
   "metadata": {},
   "outputs": [
    {
     "data": {
      "text/plain": [
       "(0.9741123400395921, 0.9892126094609782, 0.9719590818924887)"
      ]
     },
     "execution_count": 21,
     "metadata": {},
     "output_type": "execute_result"
    }
   ],
   "source": [
    "(auc_estimator(0.024, 0.776, 30000, 300000, mode='separate', best=True),\n",
    "auc_estimator(0.024, 0.776, 30000, 300000, mode='joint', best=True),\n",
    "auc_estimator(0.024, 0.776, 30000, 300000, mode='roc', best=True))"
   ]
  },
  {
   "cell_type": "code",
   "execution_count": 22,
   "metadata": {},
   "outputs": [
    {
     "data": {
      "text/plain": [
       "np.float64(0.00020032072730817121)"
      ]
     },
     "execution_count": 22,
     "metadata": {},
     "output_type": "execute_result"
    }
   ],
   "source": [
    "p = 7.2\n",
    "x = np.array([0.0, 1.0 - 0.976, 1.0])\n",
    "y = np.array([0.0, 0.776, 1.0])\n",
    "np.mean(np.abs((1 - x)**p + y**p - 1))"
   ]
  },
  {
   "cell_type": "code",
   "execution_count": 23,
   "metadata": {},
   "outputs": [],
   "source": [
    "data['auc_integral'] = data.apply(lambda row: auc_estimator(1.0 - row['spec'], row['sens'], row['p'], row['n'], mode='separate', best=False), axis=1)\n",
    "data['auc_integral_best'] = data.apply(lambda row: auc_estimator(1.0 - row['best_spec'], row['best_sens'], row['p'], row['n'], mode='separate', best=True), axis=1)"
   ]
  },
  {
   "cell_type": "code",
   "execution_count": 24,
   "metadata": {},
   "outputs": [],
   "source": [
    "data['auc_integral3'] = data.apply(lambda row: auc_estimator(1.0 - row['spec'], row['sens'], row['p'], row['n'], mode='joint', best=False), axis=1)\n",
    "data['auc_integral3_best'] = data.apply(lambda row: auc_estimator(1.0 - row['best_spec'], row['best_sens'], row['p'], row['n'], mode='joint', best=True), axis=1)"
   ]
  },
  {
   "cell_type": "code",
   "execution_count": 25,
   "metadata": {},
   "outputs": [],
   "source": [
    "data['auc_integral4'] = data.apply(lambda row: auc_estimator(1.0 - row['spec'], row['sens'], row['p'], row['n'], mode='roc', best=False), axis=1)\n",
    "data['auc_integral4_best'] = data.apply(lambda row: auc_estimator(1.0 - row['best_spec'], row['best_sens'], row['p'], row['n'], mode='roc', best=True), axis=1)"
   ]
  },
  {
   "cell_type": "code",
   "execution_count": 26,
   "metadata": {},
   "outputs": [
    {
     "data": {
      "text/plain": [
       "(np.float64(0.713047352900976), np.float64(0.7681159420289855))"
      ]
     },
     "execution_count": 26,
     "metadata": {},
     "output_type": "execute_result"
    }
   ],
   "source": [
    "row = data.iloc[0]\n",
    "max_acc_estimator(row['auc'], row['p'], row['n']), row['best_acc']"
   ]
  },
  {
   "cell_type": "code",
   "execution_count": 27,
   "metadata": {},
   "outputs": [],
   "source": [
    "data['max_acc_integral'] = data.apply(lambda row: max_acc_estimator(row['auc'], row['p'], row['n']), axis=1)"
   ]
  },
  {
   "cell_type": "code",
   "execution_count": 28,
   "metadata": {},
   "outputs": [],
   "source": [
    "from mlscorecheck.auc import macc_min, acc_max"
   ]
  },
  {
   "cell_type": "code",
   "execution_count": 29,
   "metadata": {},
   "outputs": [
    {
     "name": "stderr",
     "output_type": "stream",
     "text": [
      "/home/gykovacs/workspaces/mlscorecheck/mlscorecheck/auc/_acc_single.py:182: RuntimeWarning: invalid value encountered in sqrt\n",
      "  return 1 - (np.sqrt(2 * p * n - 2 * auc * p * n)) / (p + n)\n"
     ]
    }
   ],
   "source": [
    "data['max_acc_min'] = data.apply(lambda row: macc_min(row['auc'], row['p'], row['n']), axis=1)\n",
    "data['max_acc_max'] = data.apply(lambda row: acc_max(row['auc'], row['p'], row['n']), axis=1)"
   ]
  },
  {
   "cell_type": "code",
   "execution_count": 30,
   "metadata": {},
   "outputs": [],
   "source": [
    "tmp = data[['best_acc', 'max_acc_min', 'max_acc_max', 'max_acc_integral']].dropna()"
   ]
  },
  {
   "cell_type": "code",
   "execution_count": 31,
   "metadata": {},
   "outputs": [
    {
     "data": {
      "text/plain": [
       "0.8727635757234633"
      ]
     },
     "execution_count": 31,
     "metadata": {},
     "output_type": "execute_result"
    }
   ],
   "source": [
    "r2_score(tmp['best_acc'], (tmp['max_acc_min'] + tmp['max_acc_max'])/2.0)"
   ]
  },
  {
   "cell_type": "code",
   "execution_count": 32,
   "metadata": {},
   "outputs": [
    {
     "data": {
      "text/plain": [
       "0.8926588402930946"
      ]
     },
     "execution_count": 32,
     "metadata": {},
     "output_type": "execute_result"
    }
   ],
   "source": [
    "r2_score(data['best_acc'], data['max_acc_integral'])"
   ]
  },
  {
   "cell_type": "code",
   "execution_count": 33,
   "metadata": {},
   "outputs": [
    {
     "data": {
      "text/plain": [
       "0.936464671621682"
      ]
     },
     "execution_count": 33,
     "metadata": {},
     "output_type": "execute_result"
    }
   ],
   "source": [
    "r2_score(tmp['best_acc'], ((tmp['max_acc_min'] + tmp['max_acc_max'])/2.0 + tmp['max_acc_integral'])/2.0)"
   ]
  },
  {
   "cell_type": "code",
   "execution_count": 34,
   "metadata": {},
   "outputs": [
    {
     "data": {
      "text/plain": [
       "<matplotlib.collections.PathCollection at 0x7fa2ff0ccb90>"
      ]
     },
     "execution_count": 34,
     "metadata": {},
     "output_type": "execute_result"
    },
    {
     "data": {
      "image/png": "[encoded data removed]",
      "text/plain": [
       "<Figure size 350x350 with 1 Axes>"
      ]
     },
     "metadata": {},
     "output_type": "display_data"
    }
   ],
   "source": [
    "plt.figure(figsize=(3.5, 3.5))\n",
    "plt.xlim((0.5, 1.0))\n",
    "plt.ylim((0.5, 1.0))\n",
    "plt.scatter(tmp['best_acc'], (tmp['max_acc_min'] + tmp['max_acc_max'])/2.0, s=1)\n",
    "plt.scatter(data['best_acc'], data['max_acc_integral'], s=1)\n",
    "plt.scatter(tmp['best_acc'], ((tmp['max_acc_min'] + tmp['max_acc_max'])/2.0 + tmp['max_acc_integral'])/2.0, s=1)"
   ]
  },
  {
   "cell_type": "code",
   "execution_count": 35,
   "metadata": {},
   "outputs": [],
   "source": [
    "data.to_csv(output_file, index=False)"
   ]
  },
  {
   "cell_type": "code",
   "execution_count": null,
   "metadata": {},
   "outputs": [],
   "source": []
  },
  {
   "cell_type": "code",
   "execution_count": null,
   "metadata": {},
   "outputs": [],
   "source": []
  },
  {
   "cell_type": "code",
   "execution_count": null,
   "metadata": {},
   "outputs": [],
   "source": []
  },
  {
   "cell_type": "code",
   "execution_count": null,
   "metadata": {},
   "outputs": [],
   "source": []
  },
  {
   "cell_type": "code",
   "execution_count": 36,
   "metadata": {},
   "outputs": [
    {
     "data": {
      "text/plain": [
       "dataset                                                            bupa\n",
       "classifier                                       RandomForestClassifier\n",
       "classifier_params                  {'max_depth': 55, 'random_state': 5}\n",
       "p                                                                    40\n",
       "n                                                                    29\n",
       "p_train                                                             160\n",
       "n_train                                                             116\n",
       "auc                                                            0.781466\n",
       "auc_train                                                           1.0\n",
       "fprs                  [0.0, 0.0, 0.06896551724137931, 0.068965517241...\n",
       "tprs                  [0.0, 0.05, 0.05, 0.125, 0.125, 0.45, 0.45, 0....\n",
       "thresholds            [inf, 0.95, 0.9, 0.84, 0.83, 0.76, 0.74, 0.73,...\n",
       "n_nodes                                                              24\n",
       "fprs_train                                              [0.0, 0.0, 1.0]\n",
       "tprs_train                                              [0.0, 1.0, 1.0]\n",
       "thresholds_train                                      [inf, 0.71, 0.02]\n",
       "n_nodes_train                                                         3\n",
       "acc                                                            0.768116\n",
       "sens                                                              0.875\n",
       "spec                                                            0.62069\n",
       "best_acc                                                       0.768116\n",
       "best_sens                                                          0.95\n",
       "best_spec                                                      0.517241\n",
       "acc_train                                                           1.0\n",
       "sens_train                                                          1.0\n",
       "spec_train                                                          1.0\n",
       "best_acc_train                                                      1.0\n",
       "best_sens_train                                                     1.0\n",
       "best_spec_train                                                     1.0\n",
       "fracs                 [1.0, 0.9710144927536232, 0.9420289855072463, ...\n",
       "exp_fpr                                                        0.708639\n",
       "exp_tpr                                                        1.289898\n",
       "r2_fpr                                                         0.982772\n",
       "r2_tpr                                                         0.973081\n",
       "r2_roc                                                         0.849462\n",
       "auc_min                                                        0.543103\n",
       "auc_min_best                                                   0.491379\n",
       "auc_max                                                        0.952586\n",
       "auc_max_best                                                   0.975862\n",
       "auc_maxa_best                                                  0.889655\n",
       "auc_maxa2_best                                                 0.110345\n",
       "auc_rmin_best                                                  0.609157\n",
       "auc_rmin                                                       0.622854\n",
       "auc_integral                                                   0.850695\n",
       "auc_integral_best                                              0.868354\n",
       "auc_integral3                                                  0.845896\n",
       "auc_integral3_best                                             0.838766\n",
       "auc_integral4                                                  0.853308\n",
       "auc_integral4_best                                             0.869493\n",
       "max_acc_integral                                               0.713047\n",
       "max_acc_min                                                    0.673672\n",
       "max_acc_max                                                    0.908152\n",
       "Name: 0, dtype: object"
      ]
     },
     "execution_count": 36,
     "metadata": {},
     "output_type": "execute_result"
    }
   ],
   "source": [
    "data.iloc[0]"
   ]
  },
  {
   "cell_type": "code",
   "execution_count": 37,
   "metadata": {},
   "outputs": [
    {
     "ename": "KeyError",
     "evalue": "'r2_min'",
     "output_type": "error",
     "traceback": [
      "\u001b[0;31m---------------------------------------------------------------------------\u001b[0m",
      "\u001b[0;31mKeyError\u001b[0m                                  Traceback (most recent call last)",
      "File \u001b[0;32m~/anaconda3/envs/mlscorecheck/lib/python3.12/site-packages/pandas/core/indexes/base.py:3805\u001b[0m, in \u001b[0;36mIndex.get_loc\u001b[0;34m(self, key)\u001b[0m\n\u001b[1;32m   3804\u001b[0m \u001b[38;5;28;01mtry\u001b[39;00m:\n\u001b[0;32m-> 3805\u001b[0m     \u001b[38;5;28;01mreturn\u001b[39;00m \u001b[38;5;28mself\u001b[39m\u001b[38;5;241m.\u001b[39m_engine\u001b[38;5;241m.\u001b[39mget_loc(casted_key)\n\u001b[1;32m   3806\u001b[0m \u001b[38;5;28;01mexcept\u001b[39;00m \u001b[38;5;167;01mKeyError\u001b[39;00m \u001b[38;5;28;01mas\u001b[39;00m err:\n",
      "File \u001b[0;32mindex.pyx:167\u001b[0m, in \u001b[0;36mpandas._libs.index.IndexEngine.get_loc\u001b[0;34m()\u001b[0m\n",
      "File \u001b[0;32mindex.pyx:196\u001b[0m, in \u001b[0;36mpandas._libs.index.IndexEngine.get_loc\u001b[0;34m()\u001b[0m\n",
      "File \u001b[0;32mpandas/_libs/hashtable_class_helper.pxi:7081\u001b[0m, in \u001b[0;36mpandas._libs.hashtable.PyObjectHashTable.get_item\u001b[0;34m()\u001b[0m\n",
      "File \u001b[0;32mpandas/_libs/hashtable_class_helper.pxi:7089\u001b[0m, in \u001b[0;36mpandas._libs.hashtable.PyObjectHashTable.get_item\u001b[0;34m()\u001b[0m\n",
      "\u001b[0;31mKeyError\u001b[0m: 'r2_min'",
      "\nThe above exception was the direct cause of the following exception:\n",
      "\u001b[0;31mKeyError\u001b[0m                                  Traceback (most recent call last)",
      "Cell \u001b[0;32mIn[37], line 1\u001b[0m\n\u001b[0;32m----> 1\u001b[0m data[\u001b[38;5;124m'\u001b[39m\u001b[38;5;124mr2_sum\u001b[39m\u001b[38;5;124m'\u001b[39m] \u001b[38;5;241m=\u001b[39m data[\u001b[38;5;124m'\u001b[39m\u001b[38;5;124mr2_min\u001b[39m\u001b[38;5;124m'\u001b[39m] \u001b[38;5;241m+\u001b[39m data[\u001b[38;5;124m'\u001b[39m\u001b[38;5;124mr2_max\u001b[39m\u001b[38;5;124m'\u001b[39m]\n\u001b[1;32m      2\u001b[0m data[\u001b[38;5;124m'\u001b[39m\u001b[38;5;124mr2_min\u001b[39m\u001b[38;5;124m'\u001b[39m] \u001b[38;5;241m=\u001b[39m data[\u001b[38;5;124m'\u001b[39m\u001b[38;5;124mr2_min\u001b[39m\u001b[38;5;124m'\u001b[39m] \u001b[38;5;241m/\u001b[39m data[\u001b[38;5;124m'\u001b[39m\u001b[38;5;124mr2_sum\u001b[39m\u001b[38;5;124m'\u001b[39m]\n\u001b[1;32m      3\u001b[0m data[\u001b[38;5;124m'\u001b[39m\u001b[38;5;124mr2_max\u001b[39m\u001b[38;5;124m'\u001b[39m] \u001b[38;5;241m=\u001b[39m data[\u001b[38;5;124m'\u001b[39m\u001b[38;5;124mr2_max\u001b[39m\u001b[38;5;124m'\u001b[39m] \u001b[38;5;241m/\u001b[39m data[\u001b[38;5;124m'\u001b[39m\u001b[38;5;124mr2_sum\u001b[39m\u001b[38;5;124m'\u001b[39m]\n",
      "File \u001b[0;32m~/anaconda3/envs/mlscorecheck/lib/python3.12/site-packages/pandas/core/frame.py:4102\u001b[0m, in \u001b[0;36mDataFrame.__getitem__\u001b[0;34m(self, key)\u001b[0m\n\u001b[1;32m   4100\u001b[0m \u001b[38;5;28;01mif\u001b[39;00m \u001b[38;5;28mself\u001b[39m\u001b[38;5;241m.\u001b[39mcolumns\u001b[38;5;241m.\u001b[39mnlevels \u001b[38;5;241m>\u001b[39m \u001b[38;5;241m1\u001b[39m:\n\u001b[1;32m   4101\u001b[0m     \u001b[38;5;28;01mreturn\u001b[39;00m \u001b[38;5;28mself\u001b[39m\u001b[38;5;241m.\u001b[39m_getitem_multilevel(key)\n\u001b[0;32m-> 4102\u001b[0m indexer \u001b[38;5;241m=\u001b[39m \u001b[38;5;28mself\u001b[39m\u001b[38;5;241m.\u001b[39mcolumns\u001b[38;5;241m.\u001b[39mget_loc(key)\n\u001b[1;32m   4103\u001b[0m \u001b[38;5;28;01mif\u001b[39;00m is_integer(indexer):\n\u001b[1;32m   4104\u001b[0m     indexer \u001b[38;5;241m=\u001b[39m [indexer]\n",
      "File \u001b[0;32m~/anaconda3/envs/mlscorecheck/lib/python3.12/site-packages/pandas/core/indexes/base.py:3812\u001b[0m, in \u001b[0;36mIndex.get_loc\u001b[0;34m(self, key)\u001b[0m\n\u001b[1;32m   3807\u001b[0m     \u001b[38;5;28;01mif\u001b[39;00m \u001b[38;5;28misinstance\u001b[39m(casted_key, \u001b[38;5;28mslice\u001b[39m) \u001b[38;5;129;01mor\u001b[39;00m (\n\u001b[1;32m   3808\u001b[0m         \u001b[38;5;28misinstance\u001b[39m(casted_key, abc\u001b[38;5;241m.\u001b[39mIterable)\n\u001b[1;32m   3809\u001b[0m         \u001b[38;5;129;01mand\u001b[39;00m \u001b[38;5;28many\u001b[39m(\u001b[38;5;28misinstance\u001b[39m(x, \u001b[38;5;28mslice\u001b[39m) \u001b[38;5;28;01mfor\u001b[39;00m x \u001b[38;5;129;01min\u001b[39;00m casted_key)\n\u001b[1;32m   3810\u001b[0m     ):\n\u001b[1;32m   3811\u001b[0m         \u001b[38;5;28;01mraise\u001b[39;00m InvalidIndexError(key)\n\u001b[0;32m-> 3812\u001b[0m     \u001b[38;5;28;01mraise\u001b[39;00m \u001b[38;5;167;01mKeyError\u001b[39;00m(key) \u001b[38;5;28;01mfrom\u001b[39;00m \u001b[38;5;21;01merr\u001b[39;00m\n\u001b[1;32m   3813\u001b[0m \u001b[38;5;28;01mexcept\u001b[39;00m \u001b[38;5;167;01mTypeError\u001b[39;00m:\n\u001b[1;32m   3814\u001b[0m     \u001b[38;5;66;03m# If we have a listlike key, _check_indexing_error will raise\u001b[39;00m\n\u001b[1;32m   3815\u001b[0m     \u001b[38;5;66;03m#  InvalidIndexError. Otherwise we fall through and re-raise\u001b[39;00m\n\u001b[1;32m   3816\u001b[0m     \u001b[38;5;66;03m#  the TypeError.\u001b[39;00m\n\u001b[1;32m   3817\u001b[0m     \u001b[38;5;28mself\u001b[39m\u001b[38;5;241m.\u001b[39m_check_indexing_error(key)\n",
      "\u001b[0;31mKeyError\u001b[0m: 'r2_min'"
     ]
    }
   ],
   "source": [
    "data['r2_sum'] = data['r2_min'] + data['r2_max']\n",
    "data['r2_min'] = data['r2_min'] / data['r2_sum']\n",
    "data['r2_max'] = data['r2_max'] / data['r2_sum']\n",
    "\n",
    "data['r2_sum_best'] = data['r2_min_best'] + data['r2_max_best']\n",
    "data['r2_min_best'] = data['r2_min_best'] / data['r2_sum_best']\n",
    "data['r2_max_best'] = data['r2_max_best'] / data['r2_sum_best']"
   ]
  },
  {
   "cell_type": "code",
   "execution_count": null,
   "metadata": {},
   "outputs": [],
   "source": [
    "data['auc_min_max'] = (data['auc_min'] + data['auc_max'])/2.0\n",
    "data['auc_min_max_best'] = (data['auc_min_best'] + data['auc_max_best'])/2.0\n",
    "#data['auc_min_maxa_best'] = (data['auc_min_best'] + data['auc_maxa_best'])/2.0\n",
    "data['auc_min_maxa_best'] = (data['auc_min_best'] * data['r2_max_best'] + data['auc_max_best'] * data['r2_min_best'])\n",
    "data['auc_min_max_weighted'] = (data['r2_min'] * data['auc_max'] + data['r2_max'] * data['auc_min'])\n",
    "data['auc_min_maxa_best_weighted'] = (data['r2_min_best'] * data['auc_maxa_best'] + data['r2_maxa_best'] * data['auc_min_best'])\n"
   ]
  },
  {
   "cell_type": "code",
   "execution_count": null,
   "metadata": {},
   "outputs": [
    {
     "data": {
      "text/plain": [
       "r2_min                  0.650614\n",
       "r2_max                  0.349386\n",
       "r2_sum                       1.0\n",
       "auc_min                 0.416379\n",
       "auc_max                 0.882759\n",
       "auc                     0.759914\n",
       "auc_min_max             0.649569\n",
       "auc_min_max_weighted    0.719812\n",
       "n_nodes                       25\n",
       "Name: 13215, dtype: object"
      ]
     },
     "execution_count": 62,
     "metadata": {},
     "output_type": "execute_result"
    }
   ],
   "source": [
    "idx = 1500\n",
    "row = data.iloc[idx]\n",
    "row[['r2_min', 'r2_max', 'r2_sum', 'auc_min', 'auc_max', 'auc', 'auc_min_max', 'auc_min_max_weighted', 'n_nodes']]"
   ]
  },
  {
   "cell_type": "code",
   "execution_count": null,
   "metadata": {},
   "outputs": [
    {
     "data": {
      "text/plain": [
       "auc                           0.759914\n",
       "auc_min_best                  0.524138\n",
       "auc_maxa_best                 0.903017\n",
       "r2_min_best                   0.899821\n",
       "r2_maxa_best                  0.232364\n",
       "auc_min_maxa_best_weighted    0.934345\n",
       "Name: 13215, dtype: object"
      ]
     },
     "execution_count": 63,
     "metadata": {},
     "output_type": "execute_result"
    }
   ],
   "source": [
    "row[['auc', 'auc_min_best', 'auc_maxa_best', 'r2_min_best', 'r2_maxa_best', 'auc_min_maxa_best_weighted']]"
   ]
  },
  {
   "cell_type": "code",
   "execution_count": null,
   "metadata": {},
   "outputs": [
    {
     "data": {
      "text/plain": [
       "(0.8690299382903445, 0.9216840567591656)"
      ]
     },
     "execution_count": 64,
     "metadata": {},
     "output_type": "execute_result"
    },
    {
     "data": {
      "image/png": "[encoded data removed]",
      "text/plain": [
       "<Figure size 640x480 with 1 Axes>"
      ]
     },
     "metadata": {},
     "output_type": "display_data"
    }
   ],
   "source": [
    "fprs, tprs = roc_min(1.0 - row['spec'], row['sens'])\n",
    "fracs = 1.0 - (row['p']*tprs + row['n']*fprs)/(row['p'] + row['n'])\n",
    "p = exponential_fit(fracs, fprs)\n",
    "p_tpr = exponential_fit(fracs, tprs)\n",
    "x = np.linspace(0, 1, 100)\n",
    "plt.scatter(fracs, fprs)\n",
    "plt.scatter(fracs, tprs)\n",
    "plt.scatter(x, ((1.0 - x**p)**(1.0/p)))\n",
    "plt.scatter(x, ((1.0 - x**p_tpr)**(1.0/p_tpr)))\n",
    "(r2_score(fprs, ((1.0 - fracs**p)**(1.0/p))),\n",
    "r2_score(tprs, ((1.0 - fracs**p_tpr)**(1.0/p_tpr))))"
   ]
  },
  {
   "cell_type": "code",
   "execution_count": null,
   "metadata": {},
   "outputs": [
    {
     "data": {
      "text/plain": [
       "('[0.0, 0.0, 0.034482758620689655, 0.06896551724137931, 0.13793103448275862, 0.13793103448275862, 0.20689655172413793, 0.20689655172413793, 0.2413793103448276, 0.2413793103448276, 0.27586206896551724, 0.27586206896551724, 0.3103448275862069, 0.3103448275862069, 0.3448275862068966, 0.3448275862068966, 0.41379310344827586, 0.41379310344827586, 0.4482758620689655, 0.4482758620689655, 0.6206896551724138, 0.6206896551724138, 0.7931034482758621, 0.8275862068965517, 1.0]',\n",
       " '[0.0, 0.225, 0.225, 0.25, 0.25, 0.3, 0.3, 0.45, 0.45, 0.55, 0.575, 0.65, 0.675, 0.7, 0.7, 0.8, 0.8, 0.875, 0.9, 0.95, 0.95, 0.975, 0.975, 1.0, 1.0]',\n",
       " np.float64(0.7241379310344828),\n",
       " np.float64(0.575))"
      ]
     },
     "execution_count": 65,
     "metadata": {},
     "output_type": "execute_result"
    }
   ],
   "source": [
    "row['fprs'], row['tprs'], row['spec'], row['sens']"
   ]
  },
  {
   "cell_type": "code",
   "execution_count": null,
   "metadata": {},
   "outputs": [],
   "source": [
    "fprs = np.array([0.0, 1.0 - row['spec'], 1.0])\n",
    "tprs = np.array([0.0, row['sens'], 1.0])\n",
    "fracs = 1.0 - (row['p']*tprs + row['n']*fprs)/(row['p'] + row['n'])\n",
    "\n",
    "p_fpr = exponential_fit(fracs, fprs)\n",
    "p_tpr = exponential_fit(fracs, tprs)"
   ]
  },
  {
   "cell_type": "code",
   "execution_count": null,
   "metadata": {},
   "outputs": [
    {
     "data": {
      "text/plain": [
       "(0.7731380223583438, 1.206160775482911)"
      ]
     },
     "execution_count": 67,
     "metadata": {},
     "output_type": "execute_result"
    },
    {
     "data": {
      "image/png": "[encoded data removed]",
      "text/plain": [
       "<Figure size 350x350 with 1 Axes>"
      ]
     },
     "metadata": {},
     "output_type": "display_data"
    }
   ],
   "source": [
    "plt.figure(figsize=(3.5, 3.5))\n",
    "plt.plot(eval(row['fprs']), eval(row['tprs']))\n",
    "plt.plot(*roc_min(1.0 - row['spec'], row['sens']))\n",
    "plt.plot(*roc_max(1.0 - row['spec'], row['sens']))\n",
    "plt.plot(((1.0 - x**p_fpr)**(1.0/p_fpr)), ((1.0 - x**p_tpr)**(1.0/p_tpr)))\n",
    "p_fpr, p_tpr"
   ]
  },
  {
   "cell_type": "code",
   "execution_count": null,
   "metadata": {},
   "outputs": [],
   "source": [
    "tmp = data[data['n_nodes'] > 3]"
   ]
  },
  {
   "cell_type": "code",
   "execution_count": null,
   "metadata": {},
   "outputs": [
    {
     "data": {
      "text/plain": [
       "<matplotlib.collections.PathCollection at 0x7f0071aa1e50>"
      ]
     },
     "execution_count": 51,
     "metadata": {},
     "output_type": "execute_result"
    },
    {
     "data": {
      "image/png": "[encoded data removed]",
      "text/plain": [
       "<Figure size 350x350 with 1 Axes>"
      ]
     },
     "metadata": {},
     "output_type": "display_data"
    }
   ],
   "source": [
    "plt.figure(figsize=(3.5, 3.5))\n",
    "#plt.xlim((0.5, 1))\n",
    "#plt.ylim((0.5, 1))\n",
    "plt.scatter(tmp['auc'], tmp['auc_min_max'], s=1)\n",
    "plt.scatter(tmp['auc'], tmp['auc_min_max_weighted'], s=1)\n",
    "plt.scatter(tmp['auc'], tmp['auc_integral'], s=1)"
   ]
  },
  {
   "cell_type": "code",
   "execution_count": null,
   "metadata": {},
   "outputs": [
    {
     "data": {
      "text/plain": [
       "(0.6464459659423477, 0.8033864568145052, 0.6298287243049956)"
      ]
     },
     "execution_count": 52,
     "metadata": {},
     "output_type": "execute_result"
    }
   ],
   "source": [
    "r2_score(tmp['auc'], tmp['auc_min_max']), r2_score(tmp['auc'], tmp['auc_min_max_weighted']), r2_score(tmp['auc'], tmp['auc_integral'])"
   ]
  },
  {
   "cell_type": "code",
   "execution_count": null,
   "metadata": {},
   "outputs": [
    {
     "data": {
      "text/plain": [
       "<matplotlib.collections.PathCollection at 0x7f006c9a7a10>"
      ]
     },
     "execution_count": 58,
     "metadata": {},
     "output_type": "execute_result"
    },
    {
     "data": {
      "image/png": "[encoded data removed]",
      "text/plain": [
       "<Figure size 350x350 with 1 Axes>"
      ]
     },
     "metadata": {},
     "output_type": "display_data"
    }
   ],
   "source": [
    "plt.figure(figsize=(3.5, 3.5))\n",
    "plt.xlim((0.5, 1))\n",
    "plt.ylim((0.5, 1))\n",
    "plt.scatter(tmp['auc'], tmp['auc_min_max_best'], s=1)\n",
    "#plt.scatter(tmp['auc'], tmp['auc_min_maxa_best'], s=1)\n",
    "plt.scatter(tmp['auc'], tmp['auc_min_maxa_best_weighted'], s=1)\n",
    "plt.scatter(tmp['auc'], tmp['auc_integral_best'], s=1)"
   ]
  },
  {
   "cell_type": "code",
   "execution_count": null,
   "metadata": {},
   "outputs": [],
   "source": [
    "tmp2 = tmp[['auc', 'auc_min_max_best', 'auc_min_maxa_best', 'auc_min_maxa_best_weighted', 'auc_integral_best']].dropna()"
   ]
  },
  {
   "cell_type": "code",
   "execution_count": null,
   "metadata": {},
   "outputs": [
    {
     "data": {
      "text/plain": [
       "(0.25937737096156743, -0.1315558311072753, -0.19677445407509464)"
      ]
     },
     "execution_count": 61,
     "metadata": {},
     "output_type": "execute_result"
    }
   ],
   "source": [
    "r2_score(tmp2['auc'], tmp2['auc_min_max_best']), r2_score(tmp2['auc'], tmp2['auc_min_maxa_best']), r2_score(tmp2['auc'], tmp2['auc_min_maxa_best_weighted'])"
   ]
  },
  {
   "cell_type": "code",
   "execution_count": null,
   "metadata": {},
   "outputs": [],
   "source": []
  },
  {
   "cell_type": "code",
   "execution_count": null,
   "metadata": {},
   "outputs": [],
   "source": []
  },
  {
   "cell_type": "code",
   "execution_count": null,
   "metadata": {},
   "outputs": [],
   "source": []
  },
  {
   "cell_type": "code",
   "execution_count": null,
   "metadata": {},
   "outputs": [],
   "source": [
    "def fit_curve(row, values, fracs):\n",
    "    if values == 'fprs':\n",
    "        values = row[values]\n",
    "        fracs = row[fracs]\n",
    "        p = np.logspace(-2, 0, 3000)\n",
    "    else:\n",
    "        values = row[values]\n",
    "        fracs = row[fracs]\n",
    "        p = np.logspace(0, 2, 3000)\n",
    "    \n",
    "    err = np.abs(values[:, None]**p - 1 + (1 - fracs)[:, None]**p)\n",
    "    err = np.mean(err, axis=0)\n",
    "    exp = p[np.argmin(err)]\n",
    "\n",
    "    pred = (1 - (1 - fracs)**exp)**(1/exp)\n",
    "\n",
    "    if len(values) < 2:\n",
    "        return (1, exp, 0)\n",
    "\n",
    "    r2 = r2_score(values, pred)\n",
    "\n",
    "    return (r2, exp, 0)"
   ]
  },
  {
   "cell_type": "code",
   "execution_count": null,
   "metadata": {},
   "outputs": [],
   "source": [
    "def auc_est6(sens, spec):\n",
    "    p = np.logspace(-3, 3, 3000)\n",
    "    \n",
    "    err = np.abs(sens**p - 1 + spec**p)\n",
    "    exp = p[np.argmin(err)]\n",
    "\n",
    "    x = np.linspace(0, 1, 1000)\n",
    "    y = (1 - (1 - x)**exp)**(1/exp)\n",
    "    \n",
    "    return np.sum((y[1:] + y[:-1])/2*(x[1:] - x[:-1]))"
   ]
  },
  {
   "cell_type": "code",
   "execution_count": null,
   "metadata": {},
   "outputs": [],
   "source": [
    "def auc_est5(sens, spec, p, n):\n",
    "    spec = max(min(spec, 0.999), 0.001)\n",
    "    sens = max(min(sens, 0.999), 0.001)\n",
    "    frac = (sens*p + (1 - spec)*n)/(p + n)\n",
    "    exp_tpr = fit_curve({'tprs': np.array([sens]), 'fracs': np.array([frac])}, 'tprs', 'fracs')[1]\n",
    "    exp_fpr = fit_curve({'fprs': np.array([1 - spec]), 'fracs': np.array([frac])}, 'fprs', 'fracs')[1]\n",
    "\n",
    "    x = np.linspace(0, 1, 1000)\n",
    "    fprs = (1 - (1 - x)**exp_fpr)**(1/exp_fpr)\n",
    "    tprs = (1 - (1 - x)**exp_tpr)**(1/exp_tpr)\n",
    "\n",
    "    return np.sum((tprs[1:] + tprs[:-1])/2*(fprs[1:] - fprs[:-1]))"
   ]
  },
  {
   "cell_type": "code",
   "execution_count": null,
   "metadata": {},
   "outputs": [
    {
     "data": {
      "text/plain": [
       "\"def auc_est6(row):\\n    return row['exp_fpr'] / (row['exp_fpr'] + row['exp_tpr'])\""
      ]
     },
     "execution_count": 20,
     "metadata": {},
     "output_type": "execute_result"
    }
   ],
   "source": [
    "\"\"\"def auc_est6(row):\n",
    "    return row['exp_fpr'] / (row['exp_fpr'] + row['exp_tpr'])\"\"\""
   ]
  },
  {
   "cell_type": "code",
   "execution_count": null,
   "metadata": {},
   "outputs": [],
   "source": [
    "#data = data[(data['sens'] > 0) & (data['sens'] < 1) & (data['spec'] > 0) & (data['spec'] < 1)]"
   ]
  },
  {
   "cell_type": "code",
   "execution_count": null,
   "metadata": {},
   "outputs": [],
   "source": [
    "data['min_class'] = data.apply(lambda row: min(row['p'], row['n']), axis=1)"
   ]
  },
  {
   "cell_type": "code",
   "execution_count": null,
   "metadata": {},
   "outputs": [
    {
     "data": {
      "text/plain": [
       "<matplotlib.collections.PathCollection at 0x7fe2f54b50d0>"
      ]
     },
     "execution_count": 23,
     "metadata": {},
     "output_type": "execute_result"
    },
    {
     "data": {
      "image/png": "[encoded data removed]",
      "text/plain": [
       "<Figure size 640x480 with 1 Axes>"
      ]
     },
     "metadata": {},
     "output_type": "display_data"
    }
   ],
   "source": [
    "plt.scatter(data['min_class'], data['n_nodes'])"
   ]
  },
  {
   "cell_type": "code",
   "execution_count": null,
   "metadata": {},
   "outputs": [],
   "source": [
    "#data = data[data.apply(lambda row: min(row['p'], row['n']), axis=1) > 40]"
   ]
  },
  {
   "cell_type": "code",
   "execution_count": null,
   "metadata": {},
   "outputs": [],
   "source": [
    "data['auc_est5'] = data.apply(lambda row: auc_est5(row['sens'], row['spec'], row['p'], row['n']), axis=1)\n",
    "\n",
    "data['auc_min_max'] = (data['sens'] + data['spec'])/2.0"
   ]
  },
  {
   "cell_type": "code",
   "execution_count": null,
   "metadata": {},
   "outputs": [],
   "source": [
    "data['auc_est6'] = data.apply(lambda row: auc_est6(row['sens'], row['spec']), axis=1)"
   ]
  },
  {
   "cell_type": "code",
   "execution_count": null,
   "metadata": {},
   "outputs": [],
   "source": [
    "def auc_composite(row):\n",
    "    auc_upper = row['auc_est5']\n",
    "    auc_lower = row['auc_min_max']\n",
    "    weight = row['n_nodes']\n",
    "    weight_upper = weight**2\n",
    "    weight_lower = max(25 - weight, 0)**2\n",
    "    weight_sum = weight_lower + weight_upper\n",
    "    weight_upper = weight_upper / weight_sum\n",
    "    weight_lower = weight_lower / weight_sum\n",
    "\n",
    "    return auc_upper * weight_upper + auc_lower * weight_lower\n",
    "\n",
    "data['auc_comp'] = data.apply(auc_composite, axis=1)"
   ]
  },
  {
   "cell_type": "code",
   "execution_count": null,
   "metadata": {},
   "outputs": [],
   "source": [
    "#data = data[data['classifier'] != 'DecisionTreeClassifier']"
   ]
  },
  {
   "cell_type": "code",
   "execution_count": null,
   "metadata": {},
   "outputs": [],
   "source": [
    "#data = data[data['n_nodes'] > 20]"
   ]
  },
  {
   "cell_type": "code",
   "execution_count": null,
   "metadata": {},
   "outputs": [],
   "source": [
    "#data = data[(data['sens'] > 0) & (data['sens'] < 1) & (data['spec'] > 0) & (data['spec'] < 1)]"
   ]
  },
  {
   "cell_type": "code",
   "execution_count": null,
   "metadata": {},
   "outputs": [
    {
     "data": {
      "text/plain": [
       "(0.8003842662327819,\n",
       " 0.839017739487883,\n",
       " 0.958715476443063,\n",
       " -0.21635288511704487)"
      ]
     },
     "execution_count": 31,
     "metadata": {},
     "output_type": "execute_result"
    }
   ],
   "source": [
    "r2_score(data['auc'], data['auc_est5']), r2_score(data['auc'], data['auc_min_max']), r2_score(data['auc'], data['auc_comp']), r2_score(data['auc'], data['auc_est6'])"
   ]
  },
  {
   "cell_type": "code",
   "execution_count": null,
   "metadata": {},
   "outputs": [
    {
     "data": {
      "text/plain": [
       "<matplotlib.legend.Legend at 0x7fe2f546e060>"
      ]
     },
     "execution_count": 32,
     "metadata": {},
     "output_type": "execute_result"
    },
    {
     "data": {
      "image/png": "[encoded data removed]",
      "text/plain": [
       "<Figure size 350x350 with 1 Axes>"
      ]
     },
     "metadata": {},
     "output_type": "display_data"
    }
   ],
   "source": [
    "plt.figure(figsize=(3.5, 3.5))\n",
    "for classifier in data['classifier'].drop_duplicates():\n",
    "    tmp = data[data['classifier'] == classifier]\n",
    "    plt.scatter(tmp['auc'], tmp['auc_comp'], s=1, label=classifier)\n",
    "plt.legend()"
   ]
  },
  {
   "cell_type": "code",
   "execution_count": null,
   "metadata": {},
   "outputs": [
    {
     "data": {
      "text/plain": [
       "np.float64(0.9763938791759392)"
      ]
     },
     "execution_count": 33,
     "metadata": {},
     "output_type": "execute_result"
    }
   ],
   "source": [
    "auc_est5(0.776, 0.978, 30000, 300000)"
   ]
  },
  {
   "cell_type": "code",
   "execution_count": null,
   "metadata": {},
   "outputs": [],
   "source": [
    "def auc_est5_stats(sens, spec, p, n):\n",
    "    aucs = []\n",
    "    for _ in range(100000):\n",
    "        sens_samp = beta.rvs(b=p-sens*p+1, a=sens*p)\n",
    "        spec_samp = beta.rvs(b=n-spec*n+1, a=spec*n)\n",
    "        p_samp = binom.rvs(p, sens_samp)\n",
    "        n_samp = binom.rvs(n, spec_samp)\n",
    "\n",
    "        aucs.append(auc_est5(p_samp/p, n_samp/n, p, n))\n",
    "    return aucs"
   ]
  },
  {
   "cell_type": "code",
   "execution_count": null,
   "metadata": {},
   "outputs": [],
   "source": [
    "tmp = data.sample(10, random_state=5)"
   ]
  },
  {
   "cell_type": "code",
   "execution_count": null,
   "metadata": {},
   "outputs": [
    {
     "data": {
      "text/html": [
       "<div>\n",
       "<style scoped>\n",
       "    .dataframe tbody tr th:only-of-type {\n",
       "        vertical-align: middle;\n",
       "    }\n",
       "\n",
       "    .dataframe tbody tr th {\n",
       "        vertical-align: top;\n",
       "    }\n",
       "\n",
       "    .dataframe thead th {\n",
       "        text-align: right;\n",
       "    }\n",
       "</style>\n",
       "<table border=\"1\" class=\"dataframe\">\n",
       "  <thead>\n",
       "    <tr style=\"text-align: right;\">\n",
       "      <th></th>\n",
       "      <th>sens</th>\n",
       "      <th>spec</th>\n",
       "    </tr>\n",
       "  </thead>\n",
       "  <tbody>\n",
       "    <tr>\n",
       "      <th>18364</th>\n",
       "      <td>0.957977</td>\n",
       "      <td>0.960859</td>\n",
       "    </tr>\n",
       "    <tr>\n",
       "      <th>6235</th>\n",
       "      <td>0.918968</td>\n",
       "      <td>0.934199</td>\n",
       "    </tr>\n",
       "    <tr>\n",
       "      <th>9606</th>\n",
       "      <td>0.977767</td>\n",
       "      <td>0.943750</td>\n",
       "    </tr>\n",
       "    <tr>\n",
       "      <th>11594</th>\n",
       "      <td>0.897569</td>\n",
       "      <td>0.631944</td>\n",
       "    </tr>\n",
       "    <tr>\n",
       "      <th>8302</th>\n",
       "      <td>0.779804</td>\n",
       "      <td>0.708000</td>\n",
       "    </tr>\n",
       "    <tr>\n",
       "      <th>10399</th>\n",
       "      <td>0.631250</td>\n",
       "      <td>0.705082</td>\n",
       "    </tr>\n",
       "    <tr>\n",
       "      <th>18476</th>\n",
       "      <td>0.724973</td>\n",
       "      <td>0.668750</td>\n",
       "    </tr>\n",
       "    <tr>\n",
       "      <th>8043</th>\n",
       "      <td>0.878641</td>\n",
       "      <td>0.954955</td>\n",
       "    </tr>\n",
       "    <tr>\n",
       "      <th>7577</th>\n",
       "      <td>0.750167</td>\n",
       "      <td>0.690236</td>\n",
       "    </tr>\n",
       "    <tr>\n",
       "      <th>7129</th>\n",
       "      <td>0.619307</td>\n",
       "      <td>0.713138</td>\n",
       "    </tr>\n",
       "  </tbody>\n",
       "</table>\n",
       "</div>"
      ],
      "text/plain": [
       "           sens      spec\n",
       "18364  0.957977  0.960859\n",
       "6235   0.918968  0.934199\n",
       "9606   0.977767  0.943750\n",
       "11594  0.897569  0.631944\n",
       "8302   0.779804  0.708000\n",
       "10399  0.631250  0.705082\n",
       "18476  0.724973  0.668750\n",
       "8043   0.878641  0.954955\n",
       "7577   0.750167  0.690236\n",
       "7129   0.619307  0.713138"
      ]
     },
     "execution_count": 36,
     "metadata": {},
     "output_type": "execute_result"
    }
   ],
   "source": [
    "tmp[['sens', 'spec']]"
   ]
  },
  {
   "cell_type": "code",
   "execution_count": null,
   "metadata": {},
   "outputs": [
    {
     "ename": "KeyboardInterrupt",
     "evalue": "",
     "output_type": "error",
     "traceback": [
      "\u001b[0;31m---------------------------------------------------------------------------\u001b[0m",
      "\u001b[0;31mKeyboardInterrupt\u001b[0m                         Traceback (most recent call last)",
      "Cell \u001b[0;32mIn[37], line 1\u001b[0m\n\u001b[0;32m----> 1\u001b[0m tmp[\u001b[38;5;124m'\u001b[39m\u001b[38;5;124maucs\u001b[39m\u001b[38;5;124m'\u001b[39m] \u001b[38;5;241m=\u001b[39m tmp\u001b[38;5;241m.\u001b[39mapply(\u001b[38;5;28;01mlambda\u001b[39;00m row: auc_est5_stats(row[\u001b[38;5;124m'\u001b[39m\u001b[38;5;124msens\u001b[39m\u001b[38;5;124m'\u001b[39m], row[\u001b[38;5;124m'\u001b[39m\u001b[38;5;124mspec\u001b[39m\u001b[38;5;124m'\u001b[39m], row[\u001b[38;5;124m'\u001b[39m\u001b[38;5;124mp\u001b[39m\u001b[38;5;124m'\u001b[39m], row[\u001b[38;5;124m'\u001b[39m\u001b[38;5;124mn\u001b[39m\u001b[38;5;124m'\u001b[39m]), axis\u001b[38;5;241m=\u001b[39m\u001b[38;5;241m1\u001b[39m)\n",
      "File \u001b[0;32m~/anaconda3/envs/mlscorecheck/lib/python3.12/site-packages/pandas/core/frame.py:10374\u001b[0m, in \u001b[0;36mDataFrame.apply\u001b[0;34m(self, func, axis, raw, result_type, args, by_row, engine, engine_kwargs, **kwargs)\u001b[0m\n\u001b[1;32m  10360\u001b[0m \u001b[38;5;28;01mfrom\u001b[39;00m \u001b[38;5;21;01mpandas\u001b[39;00m\u001b[38;5;21;01m.\u001b[39;00m\u001b[38;5;21;01mcore\u001b[39;00m\u001b[38;5;21;01m.\u001b[39;00m\u001b[38;5;21;01mapply\u001b[39;00m \u001b[38;5;28;01mimport\u001b[39;00m frame_apply\n\u001b[1;32m  10362\u001b[0m op \u001b[38;5;241m=\u001b[39m frame_apply(\n\u001b[1;32m  10363\u001b[0m     \u001b[38;5;28mself\u001b[39m,\n\u001b[1;32m  10364\u001b[0m     func\u001b[38;5;241m=\u001b[39mfunc,\n\u001b[0;32m   (...)\u001b[0m\n\u001b[1;32m  10372\u001b[0m     kwargs\u001b[38;5;241m=\u001b[39mkwargs,\n\u001b[1;32m  10373\u001b[0m )\n\u001b[0;32m> 10374\u001b[0m \u001b[38;5;28;01mreturn\u001b[39;00m op\u001b[38;5;241m.\u001b[39mapply()\u001b[38;5;241m.\u001b[39m__finalize__(\u001b[38;5;28mself\u001b[39m, method\u001b[38;5;241m=\u001b[39m\u001b[38;5;124m\"\u001b[39m\u001b[38;5;124mapply\u001b[39m\u001b[38;5;124m\"\u001b[39m)\n",
      "File \u001b[0;32m~/anaconda3/envs/mlscorecheck/lib/python3.12/site-packages/pandas/core/apply.py:916\u001b[0m, in \u001b[0;36mFrameApply.apply\u001b[0;34m(self)\u001b[0m\n\u001b[1;32m    913\u001b[0m \u001b[38;5;28;01melif\u001b[39;00m \u001b[38;5;28mself\u001b[39m\u001b[38;5;241m.\u001b[39mraw:\n\u001b[1;32m    914\u001b[0m     \u001b[38;5;28;01mreturn\u001b[39;00m \u001b[38;5;28mself\u001b[39m\u001b[38;5;241m.\u001b[39mapply_raw(engine\u001b[38;5;241m=\u001b[39m\u001b[38;5;28mself\u001b[39m\u001b[38;5;241m.\u001b[39mengine, engine_kwargs\u001b[38;5;241m=\u001b[39m\u001b[38;5;28mself\u001b[39m\u001b[38;5;241m.\u001b[39mengine_kwargs)\n\u001b[0;32m--> 916\u001b[0m \u001b[38;5;28;01mreturn\u001b[39;00m \u001b[38;5;28mself\u001b[39m\u001b[38;5;241m.\u001b[39mapply_standard()\n",
      "File \u001b[0;32m~/anaconda3/envs/mlscorecheck/lib/python3.12/site-packages/pandas/core/apply.py:1063\u001b[0m, in \u001b[0;36mFrameApply.apply_standard\u001b[0;34m(self)\u001b[0m\n\u001b[1;32m   1061\u001b[0m \u001b[38;5;28;01mdef\u001b[39;00m \u001b[38;5;21mapply_standard\u001b[39m(\u001b[38;5;28mself\u001b[39m):\n\u001b[1;32m   1062\u001b[0m     \u001b[38;5;28;01mif\u001b[39;00m \u001b[38;5;28mself\u001b[39m\u001b[38;5;241m.\u001b[39mengine \u001b[38;5;241m==\u001b[39m \u001b[38;5;124m\"\u001b[39m\u001b[38;5;124mpython\u001b[39m\u001b[38;5;124m\"\u001b[39m:\n\u001b[0;32m-> 1063\u001b[0m         results, res_index \u001b[38;5;241m=\u001b[39m \u001b[38;5;28mself\u001b[39m\u001b[38;5;241m.\u001b[39mapply_series_generator()\n\u001b[1;32m   1064\u001b[0m     \u001b[38;5;28;01melse\u001b[39;00m:\n\u001b[1;32m   1065\u001b[0m         results, res_index \u001b[38;5;241m=\u001b[39m \u001b[38;5;28mself\u001b[39m\u001b[38;5;241m.\u001b[39mapply_series_numba()\n",
      "File \u001b[0;32m~/anaconda3/envs/mlscorecheck/lib/python3.12/site-packages/pandas/core/apply.py:1081\u001b[0m, in \u001b[0;36mFrameApply.apply_series_generator\u001b[0;34m(self)\u001b[0m\n\u001b[1;32m   1078\u001b[0m \u001b[38;5;28;01mwith\u001b[39;00m option_context(\u001b[38;5;124m\"\u001b[39m\u001b[38;5;124mmode.chained_assignment\u001b[39m\u001b[38;5;124m\"\u001b[39m, \u001b[38;5;28;01mNone\u001b[39;00m):\n\u001b[1;32m   1079\u001b[0m     \u001b[38;5;28;01mfor\u001b[39;00m i, v \u001b[38;5;129;01min\u001b[39;00m \u001b[38;5;28menumerate\u001b[39m(series_gen):\n\u001b[1;32m   1080\u001b[0m         \u001b[38;5;66;03m# ignore SettingWithCopy here in case the user mutates\u001b[39;00m\n\u001b[0;32m-> 1081\u001b[0m         results[i] \u001b[38;5;241m=\u001b[39m \u001b[38;5;28mself\u001b[39m\u001b[38;5;241m.\u001b[39mfunc(v, \u001b[38;5;241m*\u001b[39m\u001b[38;5;28mself\u001b[39m\u001b[38;5;241m.\u001b[39margs, \u001b[38;5;241m*\u001b[39m\u001b[38;5;241m*\u001b[39m\u001b[38;5;28mself\u001b[39m\u001b[38;5;241m.\u001b[39mkwargs)\n\u001b[1;32m   1082\u001b[0m         \u001b[38;5;28;01mif\u001b[39;00m \u001b[38;5;28misinstance\u001b[39m(results[i], ABCSeries):\n\u001b[1;32m   1083\u001b[0m             \u001b[38;5;66;03m# If we have a view on v, we need to make a copy because\u001b[39;00m\n\u001b[1;32m   1084\u001b[0m             \u001b[38;5;66;03m#  series_generator will swap out the underlying data\u001b[39;00m\n\u001b[1;32m   1085\u001b[0m             results[i] \u001b[38;5;241m=\u001b[39m results[i]\u001b[38;5;241m.\u001b[39mcopy(deep\u001b[38;5;241m=\u001b[39m\u001b[38;5;28;01mFalse\u001b[39;00m)\n",
      "Cell \u001b[0;32mIn[37], line 1\u001b[0m, in \u001b[0;36m<lambda>\u001b[0;34m(row)\u001b[0m\n\u001b[0;32m----> 1\u001b[0m tmp[\u001b[38;5;124m'\u001b[39m\u001b[38;5;124maucs\u001b[39m\u001b[38;5;124m'\u001b[39m] \u001b[38;5;241m=\u001b[39m tmp\u001b[38;5;241m.\u001b[39mapply(\u001b[38;5;28;01mlambda\u001b[39;00m row: auc_est5_stats(row[\u001b[38;5;124m'\u001b[39m\u001b[38;5;124msens\u001b[39m\u001b[38;5;124m'\u001b[39m], row[\u001b[38;5;124m'\u001b[39m\u001b[38;5;124mspec\u001b[39m\u001b[38;5;124m'\u001b[39m], row[\u001b[38;5;124m'\u001b[39m\u001b[38;5;124mp\u001b[39m\u001b[38;5;124m'\u001b[39m], row[\u001b[38;5;124m'\u001b[39m\u001b[38;5;124mn\u001b[39m\u001b[38;5;124m'\u001b[39m]), axis\u001b[38;5;241m=\u001b[39m\u001b[38;5;241m1\u001b[39m)\n",
      "Cell \u001b[0;32mIn[34], line 9\u001b[0m, in \u001b[0;36mauc_est5_stats\u001b[0;34m(sens, spec, p, n)\u001b[0m\n\u001b[1;32m      6\u001b[0m     p_samp \u001b[38;5;241m=\u001b[39m binom\u001b[38;5;241m.\u001b[39mrvs(p, sens_samp)\n\u001b[1;32m      7\u001b[0m     n_samp \u001b[38;5;241m=\u001b[39m binom\u001b[38;5;241m.\u001b[39mrvs(n, spec_samp)\n\u001b[0;32m----> 9\u001b[0m     aucs\u001b[38;5;241m.\u001b[39mappend(auc_est5(p_samp\u001b[38;5;241m/\u001b[39mp, n_samp\u001b[38;5;241m/\u001b[39mn, p, n))\n\u001b[1;32m     10\u001b[0m \u001b[38;5;28;01mreturn\u001b[39;00m aucs\n",
      "Cell \u001b[0;32mIn[19], line 8\u001b[0m, in \u001b[0;36mauc_est5\u001b[0;34m(sens, spec, p, n)\u001b[0m\n\u001b[1;32m      5\u001b[0m exp_tpr \u001b[38;5;241m=\u001b[39m fit_curve({\u001b[38;5;124m'\u001b[39m\u001b[38;5;124mtprs\u001b[39m\u001b[38;5;124m'\u001b[39m: np\u001b[38;5;241m.\u001b[39marray([sens]), \u001b[38;5;124m'\u001b[39m\u001b[38;5;124mfracs\u001b[39m\u001b[38;5;124m'\u001b[39m: np\u001b[38;5;241m.\u001b[39marray([frac])}, \u001b[38;5;124m'\u001b[39m\u001b[38;5;124mtprs\u001b[39m\u001b[38;5;124m'\u001b[39m, \u001b[38;5;124m'\u001b[39m\u001b[38;5;124mfracs\u001b[39m\u001b[38;5;124m'\u001b[39m)[\u001b[38;5;241m1\u001b[39m]\n\u001b[1;32m      6\u001b[0m exp_fpr \u001b[38;5;241m=\u001b[39m fit_curve({\u001b[38;5;124m'\u001b[39m\u001b[38;5;124mfprs\u001b[39m\u001b[38;5;124m'\u001b[39m: np\u001b[38;5;241m.\u001b[39marray([\u001b[38;5;241m1\u001b[39m \u001b[38;5;241m-\u001b[39m spec]), \u001b[38;5;124m'\u001b[39m\u001b[38;5;124mfracs\u001b[39m\u001b[38;5;124m'\u001b[39m: np\u001b[38;5;241m.\u001b[39marray([frac])}, \u001b[38;5;124m'\u001b[39m\u001b[38;5;124mfprs\u001b[39m\u001b[38;5;124m'\u001b[39m, \u001b[38;5;124m'\u001b[39m\u001b[38;5;124mfracs\u001b[39m\u001b[38;5;124m'\u001b[39m)[\u001b[38;5;241m1\u001b[39m]\n\u001b[0;32m----> 8\u001b[0m x \u001b[38;5;241m=\u001b[39m np\u001b[38;5;241m.\u001b[39mlinspace(\u001b[38;5;241m0\u001b[39m, \u001b[38;5;241m1\u001b[39m, \u001b[38;5;241m1000\u001b[39m)\n\u001b[1;32m      9\u001b[0m fprs \u001b[38;5;241m=\u001b[39m (\u001b[38;5;241m1\u001b[39m \u001b[38;5;241m-\u001b[39m (\u001b[38;5;241m1\u001b[39m \u001b[38;5;241m-\u001b[39m x)\u001b[38;5;241m*\u001b[39m\u001b[38;5;241m*\u001b[39mexp_fpr)\u001b[38;5;241m*\u001b[39m\u001b[38;5;241m*\u001b[39m(\u001b[38;5;241m1\u001b[39m\u001b[38;5;241m/\u001b[39mexp_fpr)\n\u001b[1;32m     10\u001b[0m tprs \u001b[38;5;241m=\u001b[39m (\u001b[38;5;241m1\u001b[39m \u001b[38;5;241m-\u001b[39m (\u001b[38;5;241m1\u001b[39m \u001b[38;5;241m-\u001b[39m x)\u001b[38;5;241m*\u001b[39m\u001b[38;5;241m*\u001b[39mexp_tpr)\u001b[38;5;241m*\u001b[39m\u001b[38;5;241m*\u001b[39m(\u001b[38;5;241m1\u001b[39m\u001b[38;5;241m/\u001b[39mexp_tpr)\n",
      "File \u001b[0;32m~/anaconda3/envs/mlscorecheck/lib/python3.12/site-packages/numpy/_core/function_base.py:146\u001b[0m, in \u001b[0;36mlinspace\u001b[0;34m(start, stop, num, endpoint, retstep, dtype, axis, device)\u001b[0m\n\u001b[1;32m    144\u001b[0m \u001b[38;5;66;03m# Use `dtype=type(dt)` to enforce a floating point evaluation:\u001b[39;00m\n\u001b[1;32m    145\u001b[0m delta \u001b[38;5;241m=\u001b[39m np\u001b[38;5;241m.\u001b[39msubtract(stop, start, dtype\u001b[38;5;241m=\u001b[39m\u001b[38;5;28mtype\u001b[39m(dt))\n\u001b[0;32m--> 146\u001b[0m y \u001b[38;5;241m=\u001b[39m _nx\u001b[38;5;241m.\u001b[39marange(\n\u001b[1;32m    147\u001b[0m     \u001b[38;5;241m0\u001b[39m, num, dtype\u001b[38;5;241m=\u001b[39mdt, device\u001b[38;5;241m=\u001b[39mdevice\n\u001b[1;32m    148\u001b[0m )\u001b[38;5;241m.\u001b[39mreshape((\u001b[38;5;241m-\u001b[39m\u001b[38;5;241m1\u001b[39m,) \u001b[38;5;241m+\u001b[39m (\u001b[38;5;241m1\u001b[39m,) \u001b[38;5;241m*\u001b[39m ndim(delta))\n\u001b[1;32m    150\u001b[0m \u001b[38;5;66;03m# In-place multiplication y *= delta/div is faster, but prevents\u001b[39;00m\n\u001b[1;32m    151\u001b[0m \u001b[38;5;66;03m# the multiplicant from overriding what class is produced, and thus\u001b[39;00m\n\u001b[1;32m    152\u001b[0m \u001b[38;5;66;03m# prevents, e.g. use of Quantities, see gh-7142. Hence, we multiply\u001b[39;00m\n\u001b[1;32m    153\u001b[0m \u001b[38;5;66;03m# in place only for standard scalar types.\u001b[39;00m\n\u001b[1;32m    154\u001b[0m \u001b[38;5;28;01mif\u001b[39;00m div \u001b[38;5;241m>\u001b[39m \u001b[38;5;241m0\u001b[39m:\n",
      "\u001b[0;31mKeyboardInterrupt\u001b[0m: "
     ]
    }
   ],
   "source": [
    "tmp['aucs'] = tmp.apply(lambda row: auc_est5_stats(row['sens'], row['spec'], row['p'], row['n']), axis=1)"
   ]
  },
  {
   "cell_type": "code",
   "execution_count": null,
   "metadata": {},
   "outputs": [
    {
     "data": {
      "text/plain": [
       "((array([419.,  95.,  82.,  82.,  89.,  82.,  59.,  42.,  38.,  12.]),\n",
       "  array([0.5       , 0.53959259, 0.57918518, 0.61877777, 0.65837037,\n",
       "         0.69796296, 0.73755555, 0.77714814, 0.81674073, 0.85633332,\n",
       "         0.89592592]),\n",
       "  <BarContainer object of 10 artists>),\n",
       " np.float64(0.7333333333333333),\n",
       " np.float64(0.6546049467138704))"
      ]
     },
     "execution_count": 63,
     "metadata": {},
     "output_type": "execute_result"
    },
    {
     "data": {
      "image/png": "[encoded data removed]",
      "text/plain": [
       "<Figure size 640x480 with 1 Axes>"
      ]
     },
     "metadata": {},
     "output_type": "display_data"
    }
   ],
   "source": [
    "row = tmp.iloc[6]\n",
    "plt.hist(row['aucs']), row['auc'], row['auc_est5']"
   ]
  },
  {
   "cell_type": "code",
   "execution_count": null,
   "metadata": {},
   "outputs": [],
   "source": [
    "aucs = auc_est5_stats(0.7763, 0.9768, 20_000, 200_000)"
   ]
  },
  {
   "cell_type": "code",
   "execution_count": null,
   "metadata": {},
   "outputs": [
    {
     "data": {
      "text/plain": [
       "((array([5.9000e+01, 6.8600e+02, 4.4330e+03, 1.4509e+04, 3.0116e+04,\n",
       "         2.9231e+04, 1.6381e+04, 4.0490e+03, 5.1300e+02, 2.3000e+01]),\n",
       "  array([0.97267136, 0.9732576 , 0.97384383, 0.97443006, 0.97501629,\n",
       "         0.97560253, 0.97618876, 0.97677499, 0.97736122, 0.97794746,\n",
       "         0.97853369]),\n",
       "  <BarContainer object of 10 artists>),\n",
       " np.float64(0.9726713642682261))"
      ]
     },
     "execution_count": 90,
     "metadata": {},
     "output_type": "execute_result"
    },
    {
     "data": {
      "image/png": "[encoded data removed]",
      "text/plain": [
       "<Figure size 640x480 with 1 Axes>"
      ]
     },
     "metadata": {},
     "output_type": "display_data"
    }
   ],
   "source": [
    "plt.hist(aucs), min(aucs)"
   ]
  },
  {
   "cell_type": "code",
   "execution_count": null,
   "metadata": {},
   "outputs": [],
   "source": []
  },
  {
   "cell_type": "code",
   "execution_count": null,
   "metadata": {},
   "outputs": [],
   "source": []
  },
  {
   "cell_type": "code",
   "execution_count": null,
   "metadata": {},
   "outputs": [
    {
     "ename": "IndexError",
     "evalue": "single positional indexer is out-of-bounds",
     "output_type": "error",
     "traceback": [
      "\u001b[0;31m---------------------------------------------------------------------------\u001b[0m",
      "\u001b[0;31mIndexError\u001b[0m                                Traceback (most recent call last)",
      "Cell \u001b[0;32mIn[1184], line 1\u001b[0m\n\u001b[0;32m----> 1\u001b[0m row \u001b[38;5;241m=\u001b[39m data[(data[\u001b[38;5;124m'\u001b[39m\u001b[38;5;124mauc\u001b[39m\u001b[38;5;124m'\u001b[39m] \u001b[38;5;241m<\u001b[39m \u001b[38;5;241m0.8\u001b[39m) \u001b[38;5;241m&\u001b[39m (data[\u001b[38;5;124m'\u001b[39m\u001b[38;5;124mauc_est5\u001b[39m\u001b[38;5;124m'\u001b[39m] \u001b[38;5;241m>\u001b[39m \u001b[38;5;241m0.99\u001b[39m)]\u001b[38;5;241m.\u001b[39miloc[\u001b[38;5;241m2\u001b[39m]\n",
      "File \u001b[0;32m~/anaconda3/envs/mlscorecheck/lib/python3.12/site-packages/pandas/core/indexing.py:1191\u001b[0m, in \u001b[0;36m_LocationIndexer.__getitem__\u001b[0;34m(self, key)\u001b[0m\n\u001b[1;32m   1189\u001b[0m maybe_callable \u001b[38;5;241m=\u001b[39m com\u001b[38;5;241m.\u001b[39mapply_if_callable(key, \u001b[38;5;28mself\u001b[39m\u001b[38;5;241m.\u001b[39mobj)\n\u001b[1;32m   1190\u001b[0m maybe_callable \u001b[38;5;241m=\u001b[39m \u001b[38;5;28mself\u001b[39m\u001b[38;5;241m.\u001b[39m_check_deprecated_callable_usage(key, maybe_callable)\n\u001b[0;32m-> 1191\u001b[0m \u001b[38;5;28;01mreturn\u001b[39;00m \u001b[38;5;28mself\u001b[39m\u001b[38;5;241m.\u001b[39m_getitem_axis(maybe_callable, axis\u001b[38;5;241m=\u001b[39maxis)\n",
      "File \u001b[0;32m~/anaconda3/envs/mlscorecheck/lib/python3.12/site-packages/pandas/core/indexing.py:1752\u001b[0m, in \u001b[0;36m_iLocIndexer._getitem_axis\u001b[0;34m(self, key, axis)\u001b[0m\n\u001b[1;32m   1749\u001b[0m     \u001b[38;5;28;01mraise\u001b[39;00m \u001b[38;5;167;01mTypeError\u001b[39;00m(\u001b[38;5;124m\"\u001b[39m\u001b[38;5;124mCannot index by location index with a non-integer key\u001b[39m\u001b[38;5;124m\"\u001b[39m)\n\u001b[1;32m   1751\u001b[0m \u001b[38;5;66;03m# validate the location\u001b[39;00m\n\u001b[0;32m-> 1752\u001b[0m \u001b[38;5;28mself\u001b[39m\u001b[38;5;241m.\u001b[39m_validate_integer(key, axis)\n\u001b[1;32m   1754\u001b[0m \u001b[38;5;28;01mreturn\u001b[39;00m \u001b[38;5;28mself\u001b[39m\u001b[38;5;241m.\u001b[39mobj\u001b[38;5;241m.\u001b[39m_ixs(key, axis\u001b[38;5;241m=\u001b[39maxis)\n",
      "File \u001b[0;32m~/anaconda3/envs/mlscorecheck/lib/python3.12/site-packages/pandas/core/indexing.py:1685\u001b[0m, in \u001b[0;36m_iLocIndexer._validate_integer\u001b[0;34m(self, key, axis)\u001b[0m\n\u001b[1;32m   1683\u001b[0m len_axis \u001b[38;5;241m=\u001b[39m \u001b[38;5;28mlen\u001b[39m(\u001b[38;5;28mself\u001b[39m\u001b[38;5;241m.\u001b[39mobj\u001b[38;5;241m.\u001b[39m_get_axis(axis))\n\u001b[1;32m   1684\u001b[0m \u001b[38;5;28;01mif\u001b[39;00m key \u001b[38;5;241m>\u001b[39m\u001b[38;5;241m=\u001b[39m len_axis \u001b[38;5;129;01mor\u001b[39;00m key \u001b[38;5;241m<\u001b[39m \u001b[38;5;241m-\u001b[39mlen_axis:\n\u001b[0;32m-> 1685\u001b[0m     \u001b[38;5;28;01mraise\u001b[39;00m \u001b[38;5;167;01mIndexError\u001b[39;00m(\u001b[38;5;124m\"\u001b[39m\u001b[38;5;124msingle positional indexer is out-of-bounds\u001b[39m\u001b[38;5;124m\"\u001b[39m)\n",
      "\u001b[0;31mIndexError\u001b[0m: single positional indexer is out-of-bounds"
     ]
    }
   ],
   "source": [
    "row = data[(data['auc'] < 0.8) & (data['auc_est5'] > 0.99)].iloc[2]"
   ]
  },
  {
   "cell_type": "code",
   "execution_count": null,
   "metadata": {},
   "outputs": [
    {
     "data": {
      "text/plain": [
       "dataset                                                   appendicitis\n",
       "classifier                                                         SVC\n",
       "classifier_params    {'probability': True, 'C': 0.10549567054834408...\n",
       "p                                                                    4\n",
       "n                                                                   18\n",
       "p_train                                                             17\n",
       "n_train                                                             67\n",
       "auc                                                           0.763889\n",
       "auc_train                                                     0.852502\n",
       "fprs                 [0.0, 0.0, 0.9444444444444444, 0.9444444444444...\n",
       "tprs                                       [0.0, 0.75, 0.75, 1.0, 1.0]\n",
       "thresholds           [inf, 0.3377494314457134, 0.08287531095442542,...\n",
       "n_nodes                                                              5\n",
       "fprs_train           [0.0, 0.0, 0.014925373134328358, 0.01492537313...\n",
       "tprs_train           [0.0, 0.4117647058823529, 0.4117647058823529, ...\n",
       "thresholds_train     [inf, 0.9008302699372828, 0.8633769506146745, ...\n",
       "n_nodes_train                                                       21\n",
       "acc                                                           0.954545\n",
       "sens                                                              0.75\n",
       "spec                                                               1.0\n",
       "best_acc                                                      0.954545\n",
       "best_sens                                                         0.75\n",
       "best_spec                                                          1.0\n",
       "acc_train                                                     0.880952\n",
       "sens_train                                                    0.705882\n",
       "spec_train                                                    0.925373\n",
       "best_acc_train                                                0.892857\n",
       "best_sens_train                                               0.647059\n",
       "best_spec_train                                               0.955224\n",
       "fracs                [0.0, 0.13636363636363635, 0.9090909090909091,...\n",
       "r2_fpr                                                        0.985208\n",
       "exp_fpr                                                       0.952781\n",
       "fit_mode_fpr                                                         0\n",
       "r2_tpr                                                        0.907485\n",
       "exp_tpr                                                       3.320272\n",
       "fit_mode_tpr                                                         0\n",
       "min_class                                                            4\n",
       "auc_est5                                                       0.99595\n",
       "auc_min_max                                                      0.875\n",
       "auc_est6                                                      0.999419\n",
       "auc_comp                                                      0.882115\n",
       "Name: 13866, dtype: object"
      ]
     },
     "execution_count": 1107,
     "metadata": {},
     "output_type": "execute_result"
    }
   ],
   "source": [
    "row"
   ]
  },
  {
   "cell_type": "code",
   "execution_count": null,
   "metadata": {},
   "outputs": [],
   "source": [
    "def auc_est5(sens, spec, p, n):\n",
    "    frac = (sens*p + (1 - spec)*n)/(p + n)\n",
    "    exp_tpr = fit_curve({'tprs': np.array([sens]), 'fracs': np.array([frac])}, 'tprs', 'fracs')[1]\n",
    "    exp_fpr = fit_curve({'fprs': np.array([1 - spec]), 'fracs': np.array([frac])}, 'fprs', 'fracs')[1]\n",
    "\n",
    "    print(exp_tpr, exp_fpr)\n",
    "\n",
    "    x = np.linspace(0, 1, 10000)\n",
    "    fprs = (1 - (1 - x)**exp_fpr)**(1/exp_fpr)\n",
    "    tprs = (1 - (1 - x)**exp_tpr)**(1/exp_tpr)\n",
    "\n",
    "    plt.plot(fprs, tprs)\n",
    "    plt.plot(x, fprs)\n",
    "    plt.plot(x, tprs)\n",
    "\n",
    "    print(fprs, tprs)\n",
    "\n",
    "    return np.sum((tprs[1:] + tprs[:-1])/2*(fprs[1:] - fprs[:-1]))"
   ]
  },
  {
   "cell_type": "code",
   "execution_count": null,
   "metadata": {},
   "outputs": [
    {
     "name": "stdout",
     "output_type": "stream",
     "text": [
      "3.3177241960960204 0.01\n",
      "[0.00000000e+000 0.00000000e+000 0.00000000e+000 ... 1.55884352e-109\n",
      " 2.76992055e-106 1.00000000e+000] [0.         0.08940039 0.11016867 ... 1.         1.         1.        ]\n"
     ]
    },
    {
     "data": {
      "text/plain": [
       "np.float64(0.9999999999999919)"
      ]
     },
     "execution_count": 1109,
     "metadata": {},
     "output_type": "execute_result"
    },
    {
     "data": {
      "image/png": "[encoded data removed]",
      "text/plain": [
       "<Figure size 640x480 with 1 Axes>"
      ]
     },
     "metadata": {},
     "output_type": "display_data"
    }
   ],
   "source": [
    "auc_est5(row['sens'], row['spec'], row['p'], row['n'])"
   ]
  },
  {
   "cell_type": "code",
   "execution_count": null,
   "metadata": {},
   "outputs": [],
   "source": [
    "def auc_est4(row):\n",
    "\n",
    "    p = row['p']\n",
    "    n = row['n']\n",
    "\n",
    "    th = p/(p + n)\n",
    "\n",
    "    tpr = row['sens']\n",
    "    fpr = 1 - row['spec']\n",
    "\n",
    "    alpha = max(0, np.log(1 - tpr)/ np.log(th))\n",
    "    beta = max(0, np.log(fpr)/np.log(1 - th))\n",
    "\n",
    "    print(alpha, beta)\n",
    "\n",
    "    tprs = 1 - np.linspace(0, 1, 2000)**alpha\n",
    "    fprs = (1 - np.linspace(0, 1, 2000))**beta\n",
    "\n",
    "    return np.sum((tprs[1:] + tprs[:-1])/2 * (fprs[:-1] - fprs[1:]))"
   ]
  },
  {
   "cell_type": "code",
   "execution_count": null,
   "metadata": {},
   "outputs": [
    {
     "ename": "KeyError",
     "evalue": "\"['auc_est4'] not in index\"",
     "output_type": "error",
     "traceback": [
      "\u001b[0;31m---------------------------------------------------------------------------\u001b[0m",
      "\u001b[0;31mKeyError\u001b[0m                                  Traceback (most recent call last)",
      "Cell \u001b[0;32mIn[1111], line 1\u001b[0m\n\u001b[0;32m----> 1\u001b[0m tmp2[[\u001b[38;5;124m'\u001b[39m\u001b[38;5;124mauc\u001b[39m\u001b[38;5;124m'\u001b[39m, \u001b[38;5;124m'\u001b[39m\u001b[38;5;124mauc_est4\u001b[39m\u001b[38;5;124m'\u001b[39m, \u001b[38;5;124m'\u001b[39m\u001b[38;5;124msens\u001b[39m\u001b[38;5;124m'\u001b[39m, \u001b[38;5;124m'\u001b[39m\u001b[38;5;124mspec\u001b[39m\u001b[38;5;124m'\u001b[39m, \u001b[38;5;124m'\u001b[39m\u001b[38;5;124mp\u001b[39m\u001b[38;5;124m'\u001b[39m, \u001b[38;5;124m'\u001b[39m\u001b[38;5;124mn\u001b[39m\u001b[38;5;124m'\u001b[39m, \u001b[38;5;124m'\u001b[39m\u001b[38;5;124mn_nodes\u001b[39m\u001b[38;5;124m'\u001b[39m]]\n",
      "File \u001b[0;32m~/anaconda3/envs/mlscorecheck/lib/python3.12/site-packages/pandas/core/frame.py:4108\u001b[0m, in \u001b[0;36mDataFrame.__getitem__\u001b[0;34m(self, key)\u001b[0m\n\u001b[1;32m   4106\u001b[0m     \u001b[38;5;28;01mif\u001b[39;00m is_iterator(key):\n\u001b[1;32m   4107\u001b[0m         key \u001b[38;5;241m=\u001b[39m \u001b[38;5;28mlist\u001b[39m(key)\n\u001b[0;32m-> 4108\u001b[0m     indexer \u001b[38;5;241m=\u001b[39m \u001b[38;5;28mself\u001b[39m\u001b[38;5;241m.\u001b[39mcolumns\u001b[38;5;241m.\u001b[39m_get_indexer_strict(key, \u001b[38;5;124m\"\u001b[39m\u001b[38;5;124mcolumns\u001b[39m\u001b[38;5;124m\"\u001b[39m)[\u001b[38;5;241m1\u001b[39m]\n\u001b[1;32m   4110\u001b[0m \u001b[38;5;66;03m# take() does not accept boolean indexers\u001b[39;00m\n\u001b[1;32m   4111\u001b[0m \u001b[38;5;28;01mif\u001b[39;00m \u001b[38;5;28mgetattr\u001b[39m(indexer, \u001b[38;5;124m\"\u001b[39m\u001b[38;5;124mdtype\u001b[39m\u001b[38;5;124m\"\u001b[39m, \u001b[38;5;28;01mNone\u001b[39;00m) \u001b[38;5;241m==\u001b[39m \u001b[38;5;28mbool\u001b[39m:\n",
      "File \u001b[0;32m~/anaconda3/envs/mlscorecheck/lib/python3.12/site-packages/pandas/core/indexes/base.py:6200\u001b[0m, in \u001b[0;36mIndex._get_indexer_strict\u001b[0;34m(self, key, axis_name)\u001b[0m\n\u001b[1;32m   6197\u001b[0m \u001b[38;5;28;01melse\u001b[39;00m:\n\u001b[1;32m   6198\u001b[0m     keyarr, indexer, new_indexer \u001b[38;5;241m=\u001b[39m \u001b[38;5;28mself\u001b[39m\u001b[38;5;241m.\u001b[39m_reindex_non_unique(keyarr)\n\u001b[0;32m-> 6200\u001b[0m \u001b[38;5;28mself\u001b[39m\u001b[38;5;241m.\u001b[39m_raise_if_missing(keyarr, indexer, axis_name)\n\u001b[1;32m   6202\u001b[0m keyarr \u001b[38;5;241m=\u001b[39m \u001b[38;5;28mself\u001b[39m\u001b[38;5;241m.\u001b[39mtake(indexer)\n\u001b[1;32m   6203\u001b[0m \u001b[38;5;28;01mif\u001b[39;00m \u001b[38;5;28misinstance\u001b[39m(key, Index):\n\u001b[1;32m   6204\u001b[0m     \u001b[38;5;66;03m# GH 42790 - Preserve name from an Index\u001b[39;00m\n",
      "File \u001b[0;32m~/anaconda3/envs/mlscorecheck/lib/python3.12/site-packages/pandas/core/indexes/base.py:6252\u001b[0m, in \u001b[0;36mIndex._raise_if_missing\u001b[0;34m(self, key, indexer, axis_name)\u001b[0m\n\u001b[1;32m   6249\u001b[0m     \u001b[38;5;28;01mraise\u001b[39;00m \u001b[38;5;167;01mKeyError\u001b[39;00m(\u001b[38;5;124mf\u001b[39m\u001b[38;5;124m\"\u001b[39m\u001b[38;5;124mNone of [\u001b[39m\u001b[38;5;132;01m{\u001b[39;00mkey\u001b[38;5;132;01m}\u001b[39;00m\u001b[38;5;124m] are in the [\u001b[39m\u001b[38;5;132;01m{\u001b[39;00maxis_name\u001b[38;5;132;01m}\u001b[39;00m\u001b[38;5;124m]\u001b[39m\u001b[38;5;124m\"\u001b[39m)\n\u001b[1;32m   6251\u001b[0m not_found \u001b[38;5;241m=\u001b[39m \u001b[38;5;28mlist\u001b[39m(ensure_index(key)[missing_mask\u001b[38;5;241m.\u001b[39mnonzero()[\u001b[38;5;241m0\u001b[39m]]\u001b[38;5;241m.\u001b[39munique())\n\u001b[0;32m-> 6252\u001b[0m \u001b[38;5;28;01mraise\u001b[39;00m \u001b[38;5;167;01mKeyError\u001b[39;00m(\u001b[38;5;124mf\u001b[39m\u001b[38;5;124m\"\u001b[39m\u001b[38;5;132;01m{\u001b[39;00mnot_found\u001b[38;5;132;01m}\u001b[39;00m\u001b[38;5;124m not in index\u001b[39m\u001b[38;5;124m\"\u001b[39m)\n",
      "\u001b[0;31mKeyError\u001b[0m: \"['auc_est4'] not in index\""
     ]
    }
   ],
   "source": [
    "tmp2[['auc', 'auc_est4', 'sens', 'spec', 'p', 'n', 'n_nodes']]"
   ]
  },
  {
   "cell_type": "code",
   "execution_count": null,
   "metadata": {},
   "outputs": [
    {
     "name": "stdout",
     "output_type": "stream",
     "text": [
      "1 6.383263099338103\n"
     ]
    },
    {
     "data": {
      "text/plain": [
       "np.float64(0.8645583979077229)"
      ]
     },
     "execution_count": 124,
     "metadata": {},
     "output_type": "execute_result"
    }
   ],
   "source": [
    "auc_est4(data.iloc[19999])"
   ]
  },
  {
   "cell_type": "code",
   "execution_count": null,
   "metadata": {},
   "outputs": [
    {
     "data": {
      "text/plain": [
       "[<matplotlib.lines.Line2D at 0x7fb5d6f737d0>]"
      ]
     },
     "execution_count": 93,
     "metadata": {},
     "output_type": "execute_result"
    },
    {
     "data": {
      "image/png": "[encoded data removed]",
      "text/plain": [
       "<Figure size 640x480 with 1 Axes>"
      ]
     },
     "metadata": {},
     "output_type": "display_data"
    }
   ],
   "source": [
    "plt.plot(fprs, tprs)"
   ]
  },
  {
   "cell_type": "code",
   "execution_count": null,
   "metadata": {},
   "outputs": [],
   "source": []
  },
  {
   "cell_type": "code",
   "execution_count": null,
   "metadata": {},
   "outputs": [],
   "source": [
    "tmp = data[(data['sens'] > 0) & (data['sens'] < 1) & (data['spec'] > 0) & (data['spec'] < 1)].sample(20)"
   ]
  },
  {
   "cell_type": "code",
   "execution_count": null,
   "metadata": {},
   "outputs": [
    {
     "name": "stdout",
     "output_type": "stream",
     "text": [
      "0.5038167938931297 0.45038167938931295 2.2887054167495595 2.460921578846517 59 72 6.092286952696924e-08 0.8388804247851294 0.8813559322033898 0.22925087386907328 0.19444444444444442\n",
      "0.5481927710843374 0.4879518072289157 6.133338360122559 3.0557743442915037 81 85 2.7150456327618144e-09 0.987733793378303 0.8641975308641975 0.12933602689011645 0.24705882352941178\n",
      "0.3376623376623376 0.35064935064935066 2.6736636812950803 10.098364971651748 54 100 3.4541369764440333e-09 0.9393063055524823 0.6111111111111112 0.012774600321030468 0.18999999999999995\n",
      "0.3064516129032258 0.25806451612903225 2.777223955699531 8.754584902464511 16 46 1.0321265397905677e-08 0.9767599144030501 0.5 0.07330091324934027 0.23913043478260865\n",
      "0.572289156626506 0.4879518072289157 3.0663495109125387 1.9546669424687464 81 85 3.3571593394121635e-08 0.8892216851815073 0.8518518518518519 0.2702710344401577 0.3058823529411765\n",
      "0.5915492957746479 0.647887323943662 4.09876636139165 1.8136966095989817 46 25 3.597732800564302e-08 0.8311968985781684 0.8913043478260869 0.15059760444055864 0.040000000000000036\n",
      "0.34210526315789475 0.3684210526315789 2.427148083780218 10.01728863426509 42 72 5.289007343201035e-09 0.9113959167955067 0.9047619047619048 0.01001904016169285 0.01388888888888884\n",
      "0.22580645161290322 0.1935483870967742 4.9280280177065245 14.95525072647426 6 25 4.013247015266508e-08 0.9996943116046819 0.6666666666666666 0.040073315450613343 0.12\n",
      "0.4946236559139785 0.34408602150537637 2.68600784527522 3.1998254006604614 32 61 2.3905395818424324e-07 0.9430512747795403 0.625 0.2593833022798824 0.42622950819672134\n",
      "0.6086956521739131 0.5797101449275363 3.811933242385137 1.6389044649628666 40 29 3.431038664292174e-08 0.8748658751817077 0.65 0.2415642284591385 0.5517241379310345\n",
      "0.4032258064516129 0.25806451612903225 5.14254137374281 5.459895066210372 16 46 4.596825703417906e-08 0.9990563989650301 0.4375 0.19598044492590114 0.3913043478260869\n",
      "0.40860215053763443 0.34408602150537637 8.565114701721441 5.497750747420089 32 61 8.306458021412055e-08 0.9998924773486616 0.46875 0.09841693442355527 0.3770491803278688\n",
      "0.4578313253012048 0.5120481927710844 3.354527896502286 15.660250318291546 85 81 4.401567998968403e-11 0.8941050875169688 0.7294117647058823 1.3179675938782458e-05 0.1728395061728395\n",
      "0.7306397306397306 0.7104377104377104 37.6611843606967 2.1482410977051067 211 86 6.842413524665858e-09 0.9999974396841873 0.8436018957345972 0.06977374719573581 0.4534883720930233\n",
      "0.5602409638554217 0.4879518072289157 3.027751863300086 2.0729037861846837 81 85 3.018256755638049e-09 0.8861107660706464 0.8395061728395061 0.24970620526172968 0.2941176470588235\n",
      "0.4175084175084175 0.2895622895622896 7.748583288553034 5.013892794376777 86 211 4.8027951060625185e-08 0.9999325063257345 0.6976744186046512 0.1801222283966131 0.3033175355450237\n",
      "0.56 0.9 9.06231825389081 1.1940410421117038 90 10 1.8619966224431295e-07 0.6151149359828789 0.6111111111111112 0.06396743815071226 0.09999999999999998\n",
      "0.09523809523809522 0.05442176870748299 4.567356551740081 56.1613267970889 8 139 5.468867858571258e-10 0.9999983180118168 0.75 0.04316556385261226 0.05755395683453235\n",
      "0.4090909090909091 0.35064935064935066 3.9550254942480763 5.366392334953542 54 100 2.1000399086368304e-08 0.984152481549515 0.6851851851851852 0.09855762762264739 0.26\n",
      "0.4032258064516129 0.25806451612903225 5.14254137374281 5.459895066210372 16 46 4.596825703417906e-08 0.9990563989650301 0.625 0.19598044492590114 0.32608695652173914\n"
     ]
    }
   ],
   "source": [
    "tmp['auc_est3'] = tmp.apply(lambda row: auc_est3(row['spec'], row['sens'], row['p'], row['n']), axis=1)"
   ]
  },
  {
   "cell_type": "code",
   "execution_count": null,
   "metadata": {},
   "outputs": [
    {
     "data": {
      "text/html": [
       "<div>\n",
       "<style scoped>\n",
       "    .dataframe tbody tr th:only-of-type {\n",
       "        vertical-align: middle;\n",
       "    }\n",
       "\n",
       "    .dataframe tbody tr th {\n",
       "        vertical-align: top;\n",
       "    }\n",
       "\n",
       "    .dataframe thead th {\n",
       "        text-align: right;\n",
       "    }\n",
       "</style>\n",
       "<table border=\"1\" class=\"dataframe\">\n",
       "  <thead>\n",
       "    <tr style=\"text-align: right;\">\n",
       "      <th></th>\n",
       "      <th>auc</th>\n",
       "      <th>auc_est3</th>\n",
       "    </tr>\n",
       "  </thead>\n",
       "  <tbody>\n",
       "    <tr>\n",
       "      <th>18549</th>\n",
       "      <td>0.924788</td>\n",
       "      <td>0.892745</td>\n",
       "    </tr>\n",
       "    <tr>\n",
       "      <th>11156</th>\n",
       "      <td>0.867901</td>\n",
       "      <td>0.989294</td>\n",
       "    </tr>\n",
       "    <tr>\n",
       "      <th>10920</th>\n",
       "      <td>0.710556</td>\n",
       "      <td>0.994631</td>\n",
       "    </tr>\n",
       "    <tr>\n",
       "      <th>19394</th>\n",
       "      <td>0.730978</td>\n",
       "      <td>0.993539</td>\n",
       "    </tr>\n",
       "    <tr>\n",
       "      <th>2191</th>\n",
       "      <td>0.837981</td>\n",
       "      <td>0.899333</td>\n",
       "    </tr>\n",
       "    <tr>\n",
       "      <th>16046</th>\n",
       "      <td>0.981739</td>\n",
       "      <td>0.922677</td>\n",
       "    </tr>\n",
       "    <tr>\n",
       "      <th>5161</th>\n",
       "      <td>0.993386</td>\n",
       "      <td>0.992180</td>\n",
       "    </tr>\n",
       "    <tr>\n",
       "      <th>7794</th>\n",
       "      <td>0.820000</td>\n",
       "      <td>0.999928</td>\n",
       "    </tr>\n",
       "    <tr>\n",
       "      <th>10307</th>\n",
       "      <td>0.711066</td>\n",
       "      <td>0.945325</td>\n",
       "    </tr>\n",
       "    <tr>\n",
       "      <th>8183</th>\n",
       "      <td>0.620690</td>\n",
       "      <td>0.898618</td>\n",
       "    </tr>\n",
       "    <tr>\n",
       "      <th>5979</th>\n",
       "      <td>0.539402</td>\n",
       "      <td>0.997301</td>\n",
       "    </tr>\n",
       "    <tr>\n",
       "      <th>2834</th>\n",
       "      <td>0.631660</td>\n",
       "      <td>0.999617</td>\n",
       "    </tr>\n",
       "    <tr>\n",
       "      <th>8292</th>\n",
       "      <td>0.855192</td>\n",
       "      <td>0.999393</td>\n",
       "    </tr>\n",
       "    <tr>\n",
       "      <th>13895</th>\n",
       "      <td>0.800727</td>\n",
       "      <td>0.999131</td>\n",
       "    </tr>\n",
       "    <tr>\n",
       "      <th>7756</th>\n",
       "      <td>0.861147</td>\n",
       "      <td>0.906701</td>\n",
       "    </tr>\n",
       "    <tr>\n",
       "      <th>8827</th>\n",
       "      <td>0.801444</td>\n",
       "      <td>0.999137</td>\n",
       "    </tr>\n",
       "    <tr>\n",
       "      <th>4880</th>\n",
       "      <td>0.806667</td>\n",
       "      <td>0.931047</td>\n",
       "    </tr>\n",
       "    <tr>\n",
       "      <th>2355</th>\n",
       "      <td>0.930306</td>\n",
       "      <td>1.000000</td>\n",
       "    </tr>\n",
       "    <tr>\n",
       "      <th>2582</th>\n",
       "      <td>0.806111</td>\n",
       "      <td>0.993234</td>\n",
       "    </tr>\n",
       "    <tr>\n",
       "      <th>15332</th>\n",
       "      <td>0.680707</td>\n",
       "      <td>0.997301</td>\n",
       "    </tr>\n",
       "  </tbody>\n",
       "</table>\n",
       "</div>"
      ],
      "text/plain": [
       "            auc  auc_est3\n",
       "18549  0.924788  0.892745\n",
       "11156  0.867901  0.989294\n",
       "10920  0.710556  0.994631\n",
       "19394  0.730978  0.993539\n",
       "2191   0.837981  0.899333\n",
       "16046  0.981739  0.922677\n",
       "5161   0.993386  0.992180\n",
       "7794   0.820000  0.999928\n",
       "10307  0.711066  0.945325\n",
       "8183   0.620690  0.898618\n",
       "5979   0.539402  0.997301\n",
       "2834   0.631660  0.999617\n",
       "8292   0.855192  0.999393\n",
       "13895  0.800727  0.999131\n",
       "7756   0.861147  0.906701\n",
       "8827   0.801444  0.999137\n",
       "4880   0.806667  0.931047\n",
       "2355   0.930306  1.000000\n",
       "2582   0.806111  0.993234\n",
       "15332  0.680707  0.997301"
      ]
     },
     "execution_count": 67,
     "metadata": {},
     "output_type": "execute_result"
    }
   ],
   "source": [
    "tmp[['auc', 'auc_est3']]"
   ]
  },
  {
   "cell_type": "code",
   "execution_count": null,
   "metadata": {},
   "outputs": [
    {
     "data": {
      "text/plain": [
       "<matplotlib.collections.PathCollection at 0x7fb5d6d3be90>"
      ]
     },
     "execution_count": 60,
     "metadata": {},
     "output_type": "execute_result"
    },
    {
     "data": {
      "image/png": "[encoded data removed]",
      "text/plain": [
       "<Figure size 640x480 with 1 Axes>"
      ]
     },
     "metadata": {},
     "output_type": "display_data"
    }
   ],
   "source": [
    "plt.scatter(tmp['auc'], tmp['auc_est3'])"
   ]
  },
  {
   "cell_type": "code",
   "execution_count": null,
   "metadata": {},
   "outputs": [
    {
     "data": {
      "text/plain": [
       "0.45497661734405814"
      ]
     },
     "execution_count": 55,
     "metadata": {},
     "output_type": "execute_result"
    }
   ],
   "source": [
    "r2_score(tmp['auc'], tmp['auc_est2'])"
   ]
  },
  {
   "cell_type": "code",
   "execution_count": null,
   "metadata": {},
   "outputs": [],
   "source": [
    "if equalized:\n",
    "    n_samples = 300\n",
    "\n",
    "    tmp = []\n",
    "    lower_bounds = np.linspace(0.5, 1.0, 11)\n",
    "    for lower, upper in zip(lower_bounds[:-1], lower_bounds[1:]):\n",
    "        if upper == 1.0:\n",
    "            tmp2 = data[(data['auc'] >= lower) & (data['auc'] <= upper)]\n",
    "        else:\n",
    "            tmp2 = data[(data['auc'] >= lower) & (data['auc'] < upper)]\n",
    "        if len(tmp2) > n_samples:\n",
    "            tmp.append(tmp2.sample(n_samples, random_state=5, replace=False))\n",
    "        else:\n",
    "            tmp.append(tmp2.sample(n_samples, random_state=5, replace=True))\n",
    "    data = pd.concat(tmp)"
   ]
  },
  {
   "cell_type": "code",
   "execution_count": null,
   "metadata": {},
   "outputs": [],
   "source": [
    "data['tprs'] = data['tprs'].apply(lambda x: np.array(eval(x)))\n",
    "data['fprs'] = data['fprs'].apply(lambda x: np.array(eval(x)))\n",
    "data['fracs'] = data['fracs'].apply(lambda x: np.array(eval(x)))\n",
    "data['frac'] = (data['sens']*data['p'] + (1 - data['spec'])*data['n'])/(data['p'] + data['n'])"
   ]
  },
  {
   "cell_type": "code",
   "execution_count": null,
   "metadata": {},
   "outputs": [],
   "source": [
    "def fit_p3(sens, frac):\n",
    "    tpr = sens\n",
    "\n",
    "    p = np.logspace(-2, 2, 10000)\n",
    "    etpr = np.abs(frac**p - tpr) / tpr + np.abs((1 - frac)**(1/p) - (1 - tpr))/(1 - tpr)\n",
    "\n",
    "    idx = np.argmin(etpr)\n",
    "    return p[idx]"
   ]
  },
  {
   "cell_type": "code",
   "execution_count": null,
   "metadata": {},
   "outputs": [],
   "source": [
    "def auc_est(sens, spec, frac):\n",
    "    p0 = fit_p3(sens, frac)\n",
    "    p1 = 1.0/fit_p3(spec, 1-frac)\n",
    "\n",
    "    return p1/(p0 + p1)"
   ]
  },
  {
   "cell_type": "code",
   "execution_count": null,
   "metadata": {},
   "outputs": [
    {
     "data": {
      "text/html": [
       "<div>\n",
       "<style scoped>\n",
       "    .dataframe tbody tr th:only-of-type {\n",
       "        vertical-align: middle;\n",
       "    }\n",
       "\n",
       "    .dataframe tbody tr th {\n",
       "        vertical-align: top;\n",
       "    }\n",
       "\n",
       "    .dataframe thead th {\n",
       "        text-align: right;\n",
       "    }\n",
       "</style>\n",
       "<table border=\"1\" class=\"dataframe\">\n",
       "  <thead>\n",
       "    <tr style=\"text-align: right;\">\n",
       "      <th></th>\n",
       "      <th>dataset</th>\n",
       "      <th>classifier</th>\n",
       "      <th>classifier_params</th>\n",
       "      <th>p</th>\n",
       "      <th>n</th>\n",
       "      <th>p_train</th>\n",
       "      <th>n_train</th>\n",
       "      <th>auc</th>\n",
       "      <th>auc_train</th>\n",
       "      <th>fprs</th>\n",
       "      <th>...</th>\n",
       "      <th>best_sens_train</th>\n",
       "      <th>best_spec_train</th>\n",
       "      <th>fracs</th>\n",
       "      <th>r2_fpr</th>\n",
       "      <th>exp_fpr</th>\n",
       "      <th>fit_mode_fpr</th>\n",
       "      <th>r2_tpr</th>\n",
       "      <th>exp_tpr</th>\n",
       "      <th>fit_mode_tpr</th>\n",
       "      <th>frac</th>\n",
       "    </tr>\n",
       "  </thead>\n",
       "  <tbody>\n",
       "    <tr>\n",
       "      <th>9333</th>\n",
       "      <td>abalone9_18</td>\n",
       "      <td>DecisionTreeClassifier</td>\n",
       "      <td>{'max_depth': 116, 'random_state': 5}</td>\n",
       "      <td>8</td>\n",
       "      <td>139</td>\n",
       "      <td>34</td>\n",
       "      <td>550</td>\n",
       "      <td>0.526529</td>\n",
       "      <td>1.000000</td>\n",
       "      <td>[0.0, 0.07194244604316546, 1.0]</td>\n",
       "      <td>...</td>\n",
       "      <td>1.000000</td>\n",
       "      <td>1.000000</td>\n",
       "      <td>[0.0, 0.07482993197278912, 1.0]</td>\n",
       "      <td>1.000000</td>\n",
       "      <td>1.015179</td>\n",
       "      <td>-1</td>\n",
       "      <td>1.000000</td>\n",
       "      <td>0.582468</td>\n",
       "      <td>-3</td>\n",
       "      <td>0.074830</td>\n",
       "    </tr>\n",
       "    <tr>\n",
       "      <th>18298</th>\n",
       "      <td>appendicitis</td>\n",
       "      <td>XGBClassifier</td>\n",
       "      <td>{'random_state': 5, 'max_depth': 3}</td>\n",
       "      <td>18</td>\n",
       "      <td>4</td>\n",
       "      <td>67</td>\n",
       "      <td>17</td>\n",
       "      <td>0.527778</td>\n",
       "      <td>0.997366</td>\n",
       "      <td>[0.0, 0.25, 0.25, 0.5, 0.5, 0.75, 0.75, 1.0]</td>\n",
       "      <td>...</td>\n",
       "      <td>0.985075</td>\n",
       "      <td>1.000000</td>\n",
       "      <td>[0.0, 0.045454545454545456, 0.3181818181818182...</td>\n",
       "      <td>0.410385</td>\n",
       "      <td>0.570687</td>\n",
       "      <td>-1</td>\n",
       "      <td>0.988386</td>\n",
       "      <td>0.937009</td>\n",
       "      <td>-3</td>\n",
       "      <td>0.772727</td>\n",
       "    </tr>\n",
       "    <tr>\n",
       "      <th>11554</th>\n",
       "      <td>saheart</td>\n",
       "      <td>DecisionTreeClassifier</td>\n",
       "      <td>{'max_depth': 73, 'random_state': 5}</td>\n",
       "      <td>61</td>\n",
       "      <td>32</td>\n",
       "      <td>241</td>\n",
       "      <td>128</td>\n",
       "      <td>0.539959</td>\n",
       "      <td>1.000000</td>\n",
       "      <td>[0.0, 0.625, 1.0]</td>\n",
       "      <td>...</td>\n",
       "      <td>1.000000</td>\n",
       "      <td>1.000000</td>\n",
       "      <td>[0.0, 0.6774193548387096, 1.0]</td>\n",
       "      <td>1.000000</td>\n",
       "      <td>1.206794</td>\n",
       "      <td>-1</td>\n",
       "      <td>1.000000</td>\n",
       "      <td>0.926997</td>\n",
       "      <td>-3</td>\n",
       "      <td>0.677419</td>\n",
       "    </tr>\n",
       "    <tr>\n",
       "      <th>13791</th>\n",
       "      <td>saheart</td>\n",
       "      <td>DecisionTreeClassifier</td>\n",
       "      <td>{'max_depth': 18, 'random_state': 5}</td>\n",
       "      <td>32</td>\n",
       "      <td>61</td>\n",
       "      <td>128</td>\n",
       "      <td>241</td>\n",
       "      <td>0.524334</td>\n",
       "      <td>1.000000</td>\n",
       "      <td>[0.0, 0.29508196721311475, 1.0]</td>\n",
       "      <td>...</td>\n",
       "      <td>1.000000</td>\n",
       "      <td>1.000000</td>\n",
       "      <td>[0.0, 0.3118279569892473, 1.0]</td>\n",
       "      <td>1.000000</td>\n",
       "      <td>1.047368</td>\n",
       "      <td>-1</td>\n",
       "      <td>1.000000</td>\n",
       "      <td>0.887238</td>\n",
       "      <td>-3</td>\n",
       "      <td>0.311828</td>\n",
       "    </tr>\n",
       "    <tr>\n",
       "      <th>7159</th>\n",
       "      <td>CM1</td>\n",
       "      <td>SVC</td>\n",
       "      <td>{'probability': True, 'C': 0.3716572355638991,...</td>\n",
       "      <td>90</td>\n",
       "      <td>10</td>\n",
       "      <td>359</td>\n",
       "      <td>39</td>\n",
       "      <td>0.513333</td>\n",
       "      <td>0.881830</td>\n",
       "      <td>[0.0, 0.0, 0.3, 0.3, 0.4, 0.4, 0.5, 0.5, 0.7, ...</td>\n",
       "      <td>...</td>\n",
       "      <td>0.963788</td>\n",
       "      <td>0.794872</td>\n",
       "      <td>[0.0, 0.08, 0.11, 0.13, 0.14, 0.54, 0.55, 0.77...</td>\n",
       "      <td>0.623334</td>\n",
       "      <td>0.599823</td>\n",
       "      <td>-1</td>\n",
       "      <td>0.996598</td>\n",
       "      <td>0.992561</td>\n",
       "      <td>-3</td>\n",
       "      <td>0.900000</td>\n",
       "    </tr>\n",
       "  </tbody>\n",
       "</table>\n",
       "<p>5 rows × 37 columns</p>\n",
       "</div>"
      ],
      "text/plain": [
       "            dataset              classifier  \\\n",
       "9333    abalone9_18  DecisionTreeClassifier   \n",
       "18298  appendicitis           XGBClassifier   \n",
       "11554       saheart  DecisionTreeClassifier   \n",
       "13791       saheart  DecisionTreeClassifier   \n",
       "7159            CM1                     SVC   \n",
       "\n",
       "                                       classifier_params   p    n  p_train  \\\n",
       "9333               {'max_depth': 116, 'random_state': 5}   8  139       34   \n",
       "18298                {'random_state': 5, 'max_depth': 3}  18    4       67   \n",
       "11554               {'max_depth': 73, 'random_state': 5}  61   32      241   \n",
       "13791               {'max_depth': 18, 'random_state': 5}  32   61      128   \n",
       "7159   {'probability': True, 'C': 0.3716572355638991,...  90   10      359   \n",
       "\n",
       "       n_train       auc  auc_train  \\\n",
       "9333       550  0.526529   1.000000   \n",
       "18298       17  0.527778   0.997366   \n",
       "11554      128  0.539959   1.000000   \n",
       "13791      241  0.524334   1.000000   \n",
       "7159        39  0.513333   0.881830   \n",
       "\n",
       "                                                    fprs  ... best_sens_train  \\\n",
       "9333                     [0.0, 0.07194244604316546, 1.0]  ...        1.000000   \n",
       "18298       [0.0, 0.25, 0.25, 0.5, 0.5, 0.75, 0.75, 1.0]  ...        0.985075   \n",
       "11554                                  [0.0, 0.625, 1.0]  ...        1.000000   \n",
       "13791                    [0.0, 0.29508196721311475, 1.0]  ...        1.000000   \n",
       "7159   [0.0, 0.0, 0.3, 0.3, 0.4, 0.4, 0.5, 0.5, 0.7, ...  ...        0.963788   \n",
       "\n",
       "      best_spec_train                                              fracs  \\\n",
       "9333         1.000000                    [0.0, 0.07482993197278912, 1.0]   \n",
       "18298        1.000000  [0.0, 0.045454545454545456, 0.3181818181818182...   \n",
       "11554        1.000000                     [0.0, 0.6774193548387096, 1.0]   \n",
       "13791        1.000000                     [0.0, 0.3118279569892473, 1.0]   \n",
       "7159         0.794872  [0.0, 0.08, 0.11, 0.13, 0.14, 0.54, 0.55, 0.77...   \n",
       "\n",
       "         r2_fpr   exp_fpr fit_mode_fpr    r2_tpr   exp_tpr  fit_mode_tpr  \\\n",
       "9333   1.000000  1.015179           -1  1.000000  0.582468            -3   \n",
       "18298  0.410385  0.570687           -1  0.988386  0.937009            -3   \n",
       "11554  1.000000  1.206794           -1  1.000000  0.926997            -3   \n",
       "13791  1.000000  1.047368           -1  1.000000  0.887238            -3   \n",
       "7159   0.623334  0.599823           -1  0.996598  0.992561            -3   \n",
       "\n",
       "           frac  \n",
       "9333   0.074830  \n",
       "18298  0.772727  \n",
       "11554  0.677419  \n",
       "13791  0.311828  \n",
       "7159   0.900000  \n",
       "\n",
       "[5 rows x 37 columns]"
      ]
     },
     "execution_count": 31,
     "metadata": {},
     "output_type": "execute_result"
    }
   ],
   "source": [
    "data.head()"
   ]
  },
  {
   "cell_type": "code",
   "execution_count": null,
   "metadata": {},
   "outputs": [],
   "source": [
    "data['auc_est2'] = data['exp_fpr'] / (data['exp_fpr'] + data['exp_tpr'])"
   ]
  },
  {
   "cell_type": "code",
   "execution_count": null,
   "metadata": {},
   "outputs": [
    {
     "data": {
      "text/plain": [
       "Index(['dataset', 'classifier', 'classifier_params', 'p', 'n', 'p_train',\n",
       "       'n_train', 'auc', 'auc_train', 'fprs', 'tprs', 'thresholds', 'n_nodes',\n",
       "       'fprs_train', 'tprs_train', 'thresholds_train', 'n_nodes_train', 'acc',\n",
       "       'sens', 'spec', 'best_acc', 'best_sens', 'best_spec', 'acc_train',\n",
       "       'sens_train', 'spec_train', 'best_acc_train', 'best_sens_train',\n",
       "       'best_spec_train', 'fracs', 'r2_fpr', 'exp_fpr', 'fit_mode_fpr',\n",
       "       'r2_tpr', 'exp_tpr', 'fit_mode_tpr', 'frac', 'auc_est2'],\n",
       "      dtype='object')"
      ]
     },
     "execution_count": 33,
     "metadata": {},
     "output_type": "execute_result"
    }
   ],
   "source": [
    "data.columns"
   ]
  },
  {
   "cell_type": "code",
   "execution_count": null,
   "metadata": {},
   "outputs": [
    {
     "name": "stderr",
     "output_type": "stream",
     "text": [
      "/tmp/ipykernel_3311169/2336068737.py:5: RuntimeWarning: divide by zero encountered in divide\n",
      "  etpr = np.abs(frac**p - tpr) / tpr + np.abs((1 - frac)**(1/p) - (1 - tpr))/(1 - tpr)\n"
     ]
    }
   ],
   "source": [
    "data['auc_est'] = data.apply(lambda row: auc_est(row['sens'], row['spec'], row['frac']), axis=1)"
   ]
  },
  {
   "cell_type": "code",
   "execution_count": null,
   "metadata": {},
   "outputs": [
    {
     "data": {
      "text/plain": [
       "0.8131877917941088"
      ]
     },
     "execution_count": 35,
     "metadata": {},
     "output_type": "execute_result"
    },
    {
     "data": {
      "image/png": "[encoded data removed]",
      "text/plain": [
       "<Figure size 640x480 with 1 Axes>"
      ]
     },
     "metadata": {},
     "output_type": "display_data"
    }
   ],
   "source": [
    "tmp = data[(data['sens'] > 0) & (data['sens'] < 1) &(data['spec'] > 0) & (data['spec'] < 1)].dropna()\n",
    "plt.scatter(tmp['auc'], tmp['auc_est'])\n",
    "r2_score(tmp['auc'], tmp['auc_est'])"
   ]
  },
  {
   "cell_type": "code",
   "execution_count": null,
   "metadata": {},
   "outputs": [
    {
     "data": {
      "text/plain": [
       "np.float64(0.9668847398440344)"
      ]
     },
     "execution_count": 36,
     "metadata": {},
     "output_type": "execute_result"
    }
   ],
   "source": [
    "auc_est(0.776, 0.9768, 0.07)"
   ]
  },
  {
   "cell_type": "code",
   "execution_count": null,
   "metadata": {},
   "outputs": [
    {
     "data": {
      "text/plain": [
       "np.float64(0.05572814761090012)"
      ]
     },
     "execution_count": 37,
     "metadata": {},
     "output_type": "execute_result"
    }
   ],
   "source": [
    "fit_p3(0.776, 0.08)"
   ]
  },
  {
   "cell_type": "code",
   "execution_count": null,
   "metadata": {},
   "outputs": [
    {
     "data": {
      "text/plain": [
       "np.float64(1.4907929892623273)"
      ]
     },
     "execution_count": 38,
     "metadata": {},
     "output_type": "execute_result"
    }
   ],
   "source": [
    "fit_p3(1 - 0.9768, 0.08)"
   ]
  },
  {
   "cell_type": "code",
   "execution_count": null,
   "metadata": {},
   "outputs": [
    {
     "data": {
      "text/plain": [
       "0.964401294498382"
      ]
     },
     "execution_count": 39,
     "metadata": {},
     "output_type": "execute_result"
    }
   ],
   "source": [
    "1.49/(1.49 + 0.055)"
   ]
  },
  {
   "cell_type": "code",
   "execution_count": null,
   "metadata": {},
   "outputs": [],
   "source": [
    "def fit_p1(spec, sens, frac, mode_tpr=0, mode_fpr=0):\n",
    "    tpr = sens\n",
    "    fpr = 1 - spec\n",
    "\n",
    "    p = np.logspace(-2, 0, 10000)\n",
    "    if mode_tpr == 0:\n",
    "        etpr = np.abs(frac**p - tpr) / tpr\n",
    "    else:\n",
    "        etpr = np.abs((1 - frac)**(1/p) - (1 - tpr))/(1 - tpr)\n",
    "\n",
    "    if mode_fpr == 0:\n",
    "        efpr = np.abs(frac**(1/p) - fpr) / fpr\n",
    "    else:\n",
    "        efpr = np.abs((1 - frac)**(p) - (1 - fpr))/(1 - fpr)\n",
    "\n",
    "    idx = np.argmin(etpr + efpr)\n",
    "    print(etpr[idx], efpr[idx])\n",
    "    return p[idx]"
   ]
  },
  {
   "cell_type": "code",
   "execution_count": null,
   "metadata": {},
   "outputs": [
    {
     "name": "stdout",
     "output_type": "stream",
     "text": [
      "0.7634027463416212 1.7787864410589995e-06\n",
      "0.00011148300482790944 1.0\n",
      "3.9188450620303236e-05 0.015217108071320144\n",
      "0.00011148300482790944 0.01900499243364162\n"
     ]
    },
    {
     "data": {
      "text/plain": [
       "(np.float64(0.6710929527817348),\n",
       " np.float64(0.05572814761090012),\n",
       " np.float64(0.10039224589211208),\n",
       " np.float64(0.05572814761090012))"
      ]
     },
     "execution_count": 41,
     "metadata": {},
     "output_type": "execute_result"
    }
   ],
   "source": [
    "(fit_p1(0.9768, 0.776, 0.08, 0, 0),\n",
    " fit_p1(0.9768, 0.776, 0.08, 1, 0),\n",
    " fit_p1(0.9768, 0.776, 0.08, 0, 1),\n",
    " fit_p1(0.9768, 0.776, 0.08, 1, 1))"
   ]
  },
  {
   "cell_type": "code",
   "execution_count": null,
   "metadata": {},
   "outputs": [],
   "source": [
    "def fit_p2(spec, sens, frac):\n",
    "    tpr = sens\n",
    "    fpr = 1 - spec\n",
    "\n",
    "    p = np.logspace(-2, 2, 10000)\n",
    "    idx = np.argmin(np.abs((1 - frac)**p - (1 - tpr)) / tpr + np.abs((1 - frac)**(p) - (1 - fpr))/(1 - spec))\n",
    "    return p[idx]"
   ]
  },
  {
   "cell_type": "code",
   "execution_count": null,
   "metadata": {},
   "outputs": [
    {
     "name": "stdout",
     "output_type": "stream",
     "text": [
      "0.7634027463416212 1.7787864410589995e-06\n"
     ]
    },
    {
     "data": {
      "text/plain": [
       "(np.float64(0.6710929527817348), np.float64(0.2814135044524948))"
      ]
     },
     "execution_count": 43,
     "metadata": {},
     "output_type": "execute_result"
    }
   ],
   "source": [
    "p1 = fit_p1(0.9768, 0.776, 0.08)\n",
    "p2 = fit_p2(0.9768, 0.776, 0.08)\n",
    "p1, p2"
   ]
  },
  {
   "cell_type": "code",
   "execution_count": null,
   "metadata": {},
   "outputs": [
    {
     "data": {
      "text/plain": [
       "(np.float64(0.31051874389471884), np.float64(0.07338216552404798))"
      ]
     },
     "execution_count": 44,
     "metadata": {},
     "output_type": "execute_result"
    }
   ],
   "source": [
    "p1/(p1 + (1/p1)), (p2)/(p2 + (1/p2))"
   ]
  },
  {
   "cell_type": "code",
   "execution_count": null,
   "metadata": {},
   "outputs": [
    {
     "ename": "NameError",
     "evalue": "name 'p' is not defined",
     "output_type": "error",
     "traceback": [
      "\u001b[0;31m---------------------------------------------------------------------------\u001b[0m",
      "\u001b[0;31mNameError\u001b[0m                                 Traceback (most recent call last)",
      "Cell \u001b[0;32mIn[45], line 1\u001b[0m\n\u001b[0;32m----> 1\u001b[0m \u001b[38;5;28mfloat\u001b[39m(p\u001b[38;5;241m/\u001b[39m(p \u001b[38;5;241m+\u001b[39m (\u001b[38;5;241m1\u001b[39m\u001b[38;5;241m/\u001b[39mp)))\n",
      "\u001b[0;31mNameError\u001b[0m: name 'p' is not defined"
     ]
    }
   ],
   "source": [
    "float(p/(p + (1/p)))"
   ]
  },
  {
   "cell_type": "code",
   "execution_count": null,
   "metadata": {},
   "outputs": [],
   "source": [
    "def fit_p(spec, sens):\n",
    "    x = np.linspace(1, 5, 10000)\n",
    "    idx = np.argmin(np.abs(spec**x + (1 - sens)**x - 1))\n",
    "    return x[idx]"
   ]
  },
  {
   "cell_type": "code",
   "execution_count": null,
   "metadata": {},
   "outputs": [],
   "source": [
    "def norm_area(spec, sens):\n",
    "    p = fit_p(spec, sens)\n",
    "    x = np.linspace(0, 1, 1000)\n",
    "    return integrate_roc_curve(x**p, (1 - (1 - x)**p)**(1/p))"
   ]
  },
  {
   "cell_type": "code",
   "execution_count": null,
   "metadata": {},
   "outputs": [
    {
     "data": {
      "text/plain": [
       "0.9109848333984671"
      ]
     },
     "execution_count": 73,
     "metadata": {},
     "output_type": "execute_result"
    }
   ],
   "source": [
    "norm_area(0.9768, 0.7763)"
   ]
  },
  {
   "cell_type": "code",
   "execution_count": null,
   "metadata": {},
   "outputs": [
    {
     "data": {
      "text/plain": [
       "np.float64(2.2033203320332033)"
      ]
     },
     "execution_count": 68,
     "metadata": {},
     "output_type": "execute_result"
    }
   ],
   "source": [
    "p = fit_p(0.982, 0.77)\n",
    "p"
   ]
  },
  {
   "cell_type": "code",
   "execution_count": null,
   "metadata": {},
   "outputs": [
    {
     "data": {
      "text/plain": [
       "[<matplotlib.lines.Line2D at 0x7f8b34279700>]"
      ]
     },
     "execution_count": 69,
     "metadata": {},
     "output_type": "execute_result"
    },
    {
     "data": {
      "image/png": "[encoded data removed]",
      "text/plain": [
       "<Figure size 350x350 with 1 Axes>"
      ]
     },
     "metadata": {},
     "output_type": "display_data"
    }
   ],
   "source": [
    "#p = 3\n",
    "x = np.linspace(0, 1, 1000)\n",
    "plt.figure(figsize=(3.5, 3.5))\n",
    "plt.plot(x**p, (1 - (1 - x)**p)**(1/p))"
   ]
  },
  {
   "cell_type": "code",
   "execution_count": null,
   "metadata": {},
   "outputs": [
    {
     "data": {
      "text/plain": [
       "np.float64(2.1493149314931497)"
      ]
     },
     "execution_count": 70,
     "metadata": {},
     "output_type": "execute_result"
    }
   ],
   "source": [
    "fit_p(0.98, 0.77)"
   ]
  },
  {
   "cell_type": "code",
   "execution_count": null,
   "metadata": {},
   "outputs": [
    {
     "data": {
      "text/plain": [
       "0.9253901055010616"
      ]
     },
     "execution_count": 71,
     "metadata": {},
     "output_type": "execute_result"
    }
   ],
   "source": [
    "norm_area(0.98, 0.77)"
   ]
  },
  {
   "cell_type": "code",
   "execution_count": null,
   "metadata": {},
   "outputs": [],
   "source": [
    "from sklearn.linear_model import LinearRegression\n",
    "from sklearn.metrics import r2_score\n",
    "\n",
    "def exponential_fitting2(row, label, frac_label):\n",
    "\n",
    "    values = row[label].copy()\n",
    "    counts = row[frac_label].copy()\n",
    "    \n",
    "    mask = values > 1e-6\n",
    "    values_nz = values[mask]\n",
    "    counts_nz = counts[mask]\n",
    "\n",
    "    ln_values = np.log(values_nz)\n",
    "    ln_counts = np.log(counts_nz)\n",
    "\n",
    "    values2 = (1 - values)\n",
    "    counts2 = (1 - counts)\n",
    "\n",
    "    mask2 = (values2 > 1e-6) & (values2 < 1)\n",
    "    values2_nz = values2[mask2]\n",
    "    counts2_nz = counts2[mask2]\n",
    "\n",
    "    ln_values2 = 1/np.log(values2_nz)\n",
    "    ln_counts2 = 1/np.log(counts2_nz)\n",
    "\n",
    "    ln_y = np.hstack([ln_values, ln_values2])\n",
    "    ln_x = np.hstack([ln_counts, ln_counts2]).reshape(-1, 1)\n",
    "\n",
    "    print(ln_x, ln_y)\n",
    "\n",
    "    linreg_a = LinearRegression(fit_intercept=False, positive=True)\n",
    "    pred_values = linreg_a\\\n",
    "        .fit(ln_x, ln_y)\\\n",
    "        .predict(ln_x)\n",
    "\n",
    "    r2_a = r2_score(ln_y, pred_values)\n",
    "\n",
    "    return (r2_a, linreg_a.coef_[0], 0)"
   ]
  },
  {
   "cell_type": "code",
   "execution_count": null,
   "metadata": {},
   "outputs": [
    {
     "data": {
      "text/plain": [
       "\"row = data.iloc[0]\\nexponential_fitting(row, 'tprs', 'fracs')\""
      ]
     },
     "execution_count": 14,
     "metadata": {},
     "output_type": "execute_result"
    }
   ],
   "source": [
    "\"\"\"row = data.iloc[0]\n",
    "exponential_fitting(row, 'tprs', 'fracs')\"\"\""
   ]
  },
  {
   "cell_type": "code",
   "execution_count": null,
   "metadata": {},
   "outputs": [
    {
     "data": {
      "text/plain": [
       "dataset                                                           bupa\n",
       "classifier                                      RandomForestClassifier\n",
       "classifier_params                 {'max_depth': 22, 'random_state': 5}\n",
       "p                                                                   40\n",
       "n                                                                   29\n",
       "p_train                                                            160\n",
       "n_train                                                            116\n",
       "auc                                                           0.781466\n",
       "auc_train                                                          1.0\n",
       "fprs                 [0.0, 0.0, 0.06896551724137931, 0.068965517241...\n",
       "tprs                 [0.0, 0.05, 0.05, 0.125, 0.125, 0.45, 0.45, 0....\n",
       "thresholds           [inf, 0.95, 0.9, 0.84, 0.83, 0.76, 0.74, 0.73,...\n",
       "n_nodes                                                             24\n",
       "fprs_train                                             [0.0, 0.0, 1.0]\n",
       "tprs_train                                             [0.0, 1.0, 1.0]\n",
       "thresholds_train                                     [inf, 0.71, 0.02]\n",
       "n_nodes_train                                                        3\n",
       "acc                                                           0.768116\n",
       "sens                                                             0.875\n",
       "spec                                                           0.62069\n",
       "best_acc                                                      0.768116\n",
       "best_sens                                                        0.925\n",
       "best_spec                                                     0.551724\n",
       "acc_train                                                          1.0\n",
       "sens_train                                                         1.0\n",
       "spec_train                                                         1.0\n",
       "best_acc_train                                                     1.0\n",
       "best_sens_train                                                    1.0\n",
       "best_spec_train                                                    1.0\n",
       "fracs                [0.0, 0.028985507246376812, 0.0579710144927536...\n",
       "r2_fpr                                                        0.974198\n",
       "exp_fpr                                                       0.503067\n",
       "fit_mode_fpr                                                         1\n",
       "r2_tpr                                                        0.949818\n",
       "exp_tpr                                                       0.866674\n",
       "fit_mode_tpr                                                         0\n",
       "Name: 0, dtype: object"
      ]
     },
     "execution_count": 15,
     "metadata": {},
     "output_type": "execute_result"
    }
   ],
   "source": [
    "row"
   ]
  },
  {
   "cell_type": "code",
   "execution_count": null,
   "metadata": {},
   "outputs": [],
   "source": [
    "if equalized:\n",
    "    n_samples = 300\n",
    "\n",
    "    tmp = []\n",
    "    lower_bounds = np.linspace(0.5, 1.0, 11)\n",
    "    for lower, upper in zip(lower_bounds[:-1], lower_bounds[1:]):\n",
    "        if upper == 1.0:\n",
    "            tmp2 = data[(data['auc'] >= lower) & (data['auc'] <= upper)]\n",
    "        else:\n",
    "            tmp2 = data[(data['auc'] >= lower) & (data['auc'] < upper)]\n",
    "        if len(tmp2) > n_samples:\n",
    "            tmp.append(tmp2.sample(n_samples, random_state=5, replace=False))\n",
    "        else:\n",
    "            tmp.append(tmp2.sample(n_samples, random_state=5, replace=True))\n",
    "    data = pd.concat(tmp)"
   ]
  },
  {
   "cell_type": "code",
   "execution_count": null,
   "metadata": {},
   "outputs": [
    {
     "data": {
      "text/plain": [
       "Index(['p', 'n', 'k', 'dataset', 'classifier', 'classifier_params', 'best_acc',\n",
       "       'best_sens', 'best_spec', 'best_acc_train', 'best_sens_train',\n",
       "       'best_spec_train', 'acc', 'sens', 'spec', 'auc', 'acc_train',\n",
       "       'sens_train', 'spec_train', 'auc_train', 'n_nodes', 'n_nodes_train',\n",
       "       'avg_n_nodes', 'avg_n_nodes_train', 'fprs', 'tprs', 'fprs_train',\n",
       "       'tprs_train', 'fracs', 'r2_fpr', 'exp_fpr', 'fit_mode_fpr', 'r2_tpr',\n",
       "       'exp_tpr', 'fit_mode_tpr'],\n",
       "      dtype='object')"
      ]
     },
     "execution_count": 17,
     "metadata": {},
     "output_type": "execute_result"
    }
   ],
   "source": [
    "data.columns"
   ]
  },
  {
   "cell_type": "code",
   "execution_count": null,
   "metadata": {},
   "outputs": [],
   "source": [
    "data['auc_analytic'] = data['exp_fpr'] / (data['exp_fpr'] + data['exp_tpr'])"
   ]
  },
  {
   "cell_type": "code",
   "execution_count": null,
   "metadata": {},
   "outputs": [],
   "source": [
    "data['frac'] = (data['sens'] * data['p'] + (1 - data['spec']) * data['n']) / (data['p'] + data['n'])\n",
    "data['frac'] = data['frac'].apply(lambda x: np.round(x, 1))"
   ]
  },
  {
   "cell_type": "code",
   "execution_count": null,
   "metadata": {},
   "outputs": [],
   "source": [
    "data['flag'] = (data['p'] / data['n'] < 1.3) & (data['p'] / data['n'] > 0.7)\n",
    "data['n_nodes'] = data['n_nodes'].apply(lambda x: np.round(x/10, 0)*10)"
   ]
  },
  {
   "cell_type": "code",
   "execution_count": null,
   "metadata": {},
   "outputs": [
    {
     "data": {
      "text/html": [
       "<div>\n",
       "<style scoped>\n",
       "    .dataframe tbody tr th:only-of-type {\n",
       "        vertical-align: middle;\n",
       "    }\n",
       "\n",
       "    .dataframe tbody tr th {\n",
       "        vertical-align: top;\n",
       "    }\n",
       "\n",
       "    .dataframe thead th {\n",
       "        text-align: right;\n",
       "    }\n",
       "</style>\n",
       "<table border=\"1\" class=\"dataframe\">\n",
       "  <thead>\n",
       "    <tr style=\"text-align: right;\">\n",
       "      <th></th>\n",
       "      <th>p</th>\n",
       "    </tr>\n",
       "    <tr>\n",
       "      <th>fit_mode_tpr</th>\n",
       "      <th></th>\n",
       "    </tr>\n",
       "  </thead>\n",
       "  <tbody>\n",
       "    <tr>\n",
       "      <th>0</th>\n",
       "      <td>575</td>\n",
       "    </tr>\n",
       "    <tr>\n",
       "      <th>1</th>\n",
       "      <td>871</td>\n",
       "    </tr>\n",
       "  </tbody>\n",
       "</table>\n",
       "</div>"
      ],
      "text/plain": [
       "                p\n",
       "fit_mode_tpr     \n",
       "0             575\n",
       "1             871"
      ]
     },
     "execution_count": 122,
     "metadata": {},
     "output_type": "execute_result"
    }
   ],
   "source": [
    "data[(data['fit_mode_tpr'] != -1) & (data['p'] < data['n'])].groupby(['fit_mode_tpr']).agg({'p': 'count'}).iloc[:30]"
   ]
  },
  {
   "cell_type": "code",
   "execution_count": null,
   "metadata": {},
   "outputs": [
    {
     "data": {
      "text/html": [
       "<div>\n",
       "<style scoped>\n",
       "    .dataframe tbody tr th:only-of-type {\n",
       "        vertical-align: middle;\n",
       "    }\n",
       "\n",
       "    .dataframe tbody tr th {\n",
       "        vertical-align: top;\n",
       "    }\n",
       "\n",
       "    .dataframe thead th {\n",
       "        text-align: right;\n",
       "    }\n",
       "</style>\n",
       "<table border=\"1\" class=\"dataframe\">\n",
       "  <thead>\n",
       "    <tr style=\"text-align: right;\">\n",
       "      <th></th>\n",
       "      <th>p</th>\n",
       "      <th>n</th>\n",
       "      <th>n_nodes</th>\n",
       "      <th>r2_fpr</th>\n",
       "      <th>exp_fpr</th>\n",
       "      <th>fit_mode_fpr</th>\n",
       "      <th>r2_tpr</th>\n",
       "      <th>exp_tpr</th>\n",
       "      <th>fit_mode_tpr</th>\n",
       "    </tr>\n",
       "  </thead>\n",
       "  <tbody>\n",
       "    <tr>\n",
       "      <th>16789</th>\n",
       "      <td>81</td>\n",
       "      <td>225</td>\n",
       "      <td>8</td>\n",
       "      <td>0.999835</td>\n",
       "      <td>1.059050</td>\n",
       "      <td>0</td>\n",
       "      <td>0.998477</td>\n",
       "      <td>0.856185</td>\n",
       "      <td>0</td>\n",
       "    </tr>\n",
       "    <tr>\n",
       "      <th>4864</th>\n",
       "      <td>49</td>\n",
       "      <td>449</td>\n",
       "      <td>4</td>\n",
       "      <td>0.999549</td>\n",
       "      <td>1.070177</td>\n",
       "      <td>0</td>\n",
       "      <td>0.997862</td>\n",
       "      <td>0.688733</td>\n",
       "      <td>0</td>\n",
       "    </tr>\n",
       "    <tr>\n",
       "      <th>18884</th>\n",
       "      <td>225</td>\n",
       "      <td>81</td>\n",
       "      <td>6</td>\n",
       "      <td>0.996687</td>\n",
       "      <td>1.195727</td>\n",
       "      <td>0</td>\n",
       "      <td>0.999438</td>\n",
       "      <td>0.933275</td>\n",
       "      <td>0</td>\n",
       "    </tr>\n",
       "    <tr>\n",
       "      <th>2702</th>\n",
       "      <td>225</td>\n",
       "      <td>81</td>\n",
       "      <td>8</td>\n",
       "      <td>0.999691</td>\n",
       "      <td>0.844438</td>\n",
       "      <td>1</td>\n",
       "      <td>0.999951</td>\n",
       "      <td>1.068382</td>\n",
       "      <td>1</td>\n",
       "    </tr>\n",
       "    <tr>\n",
       "      <th>16895</th>\n",
       "      <td>49</td>\n",
       "      <td>449</td>\n",
       "      <td>7</td>\n",
       "      <td>0.999822</td>\n",
       "      <td>0.946262</td>\n",
       "      <td>1</td>\n",
       "      <td>0.996732</td>\n",
       "      <td>0.807258</td>\n",
       "      <td>0</td>\n",
       "    </tr>\n",
       "    <tr>\n",
       "      <th>...</th>\n",
       "      <td>...</td>\n",
       "      <td>...</td>\n",
       "      <td>...</td>\n",
       "      <td>...</td>\n",
       "      <td>...</td>\n",
       "      <td>...</td>\n",
       "      <td>...</td>\n",
       "      <td>...</td>\n",
       "      <td>...</td>\n",
       "    </tr>\n",
       "    <tr>\n",
       "      <th>15871</th>\n",
       "      <td>444</td>\n",
       "      <td>239</td>\n",
       "      <td>17</td>\n",
       "      <td>0.853574</td>\n",
       "      <td>7.886440</td>\n",
       "      <td>0</td>\n",
       "      <td>0.855360</td>\n",
       "      <td>2.960262</td>\n",
       "      <td>1</td>\n",
       "    </tr>\n",
       "    <tr>\n",
       "      <th>7498</th>\n",
       "      <td>28</td>\n",
       "      <td>444</td>\n",
       "      <td>9</td>\n",
       "      <td>0.955269</td>\n",
       "      <td>0.557980</td>\n",
       "      <td>1</td>\n",
       "      <td>0.910346</td>\n",
       "      <td>11.178554</td>\n",
       "      <td>1</td>\n",
       "    </tr>\n",
       "    <tr>\n",
       "      <th>5666</th>\n",
       "      <td>444</td>\n",
       "      <td>239</td>\n",
       "      <td>17</td>\n",
       "      <td>0.762624</td>\n",
       "      <td>7.471571</td>\n",
       "      <td>0</td>\n",
       "      <td>0.905277</td>\n",
       "      <td>3.025893</td>\n",
       "      <td>1</td>\n",
       "    </tr>\n",
       "    <tr>\n",
       "      <th>11136</th>\n",
       "      <td>180</td>\n",
       "      <td>35</td>\n",
       "      <td>3</td>\n",
       "      <td>1.000000</td>\n",
       "      <td>-1.000000</td>\n",
       "      <td>-1</td>\n",
       "      <td>1.000000</td>\n",
       "      <td>-1.000000</td>\n",
       "      <td>-1</td>\n",
       "    </tr>\n",
       "    <tr>\n",
       "      <th>2908</th>\n",
       "      <td>1706</td>\n",
       "      <td>123</td>\n",
       "      <td>3</td>\n",
       "      <td>1.000000</td>\n",
       "      <td>-1.000000</td>\n",
       "      <td>-1</td>\n",
       "      <td>1.000000</td>\n",
       "      <td>-1.000000</td>\n",
       "      <td>-1</td>\n",
       "    </tr>\n",
       "  </tbody>\n",
       "</table>\n",
       "<p>3000 rows × 9 columns</p>\n",
       "</div>"
      ],
      "text/plain": [
       "          p    n  n_nodes    r2_fpr   exp_fpr  fit_mode_fpr    r2_tpr  \\\n",
       "16789    81  225        8  0.999835  1.059050             0  0.998477   \n",
       "4864     49  449        4  0.999549  1.070177             0  0.997862   \n",
       "18884   225   81        6  0.996687  1.195727             0  0.999438   \n",
       "2702    225   81        8  0.999691  0.844438             1  0.999951   \n",
       "16895    49  449        7  0.999822  0.946262             1  0.996732   \n",
       "...     ...  ...      ...       ...       ...           ...       ...   \n",
       "15871   444  239       17  0.853574  7.886440             0  0.855360   \n",
       "7498     28  444        9  0.955269  0.557980             1  0.910346   \n",
       "5666    444  239       17  0.762624  7.471571             0  0.905277   \n",
       "11136   180   35        3  1.000000 -1.000000            -1  1.000000   \n",
       "2908   1706  123        3  1.000000 -1.000000            -1  1.000000   \n",
       "\n",
       "         exp_tpr  fit_mode_tpr  \n",
       "16789   0.856185             0  \n",
       "4864    0.688733             0  \n",
       "18884   0.933275             0  \n",
       "2702    1.068382             1  \n",
       "16895   0.807258             0  \n",
       "...          ...           ...  \n",
       "15871   2.960262             1  \n",
       "7498   11.178554             1  \n",
       "5666    3.025893             1  \n",
       "11136  -1.000000            -1  \n",
       "2908   -1.000000            -1  \n",
       "\n",
       "[3000 rows x 9 columns]"
      ]
     },
     "execution_count": 21,
     "metadata": {},
     "output_type": "execute_result"
    }
   ],
   "source": [
    "data[['p', 'n', 'n_nodes', 'r2_fpr', 'exp_fpr', 'fit_mode_fpr', 'r2_tpr', 'exp_tpr', 'fit_mode_tpr']]"
   ]
  },
  {
   "cell_type": "code",
   "execution_count": null,
   "metadata": {},
   "outputs": [],
   "source": [
    "tmp = data[(data['fit_mode_fpr'] == 0) & (data['fit_mode_tpr'] == 0)]"
   ]
  },
  {
   "cell_type": "code",
   "execution_count": null,
   "metadata": {},
   "outputs": [],
   "source": [
    "tmp2 = tmp[tmp['auc_analytic'] >= 0.5]"
   ]
  },
  {
   "cell_type": "code",
   "execution_count": null,
   "metadata": {},
   "outputs": [
    {
     "data": {
      "text/plain": [
       "0.8928208790464232"
      ]
     },
     "execution_count": 24,
     "metadata": {},
     "output_type": "execute_result"
    }
   ],
   "source": [
    "r2_score(tmp2['auc'], tmp2['auc_analytic'])"
   ]
  },
  {
   "cell_type": "code",
   "execution_count": null,
   "metadata": {},
   "outputs": [
    {
     "data": {
      "text/plain": [
       "<matplotlib.collections.PathCollection at 0x7f8b398970b0>"
      ]
     },
     "execution_count": 25,
     "metadata": {},
     "output_type": "execute_result"
    },
    {
     "data": {
      "image/png": "[encoded data removed]",
      "text/plain": [
       "<Figure size 640x480 with 1 Axes>"
      ]
     },
     "metadata": {},
     "output_type": "display_data"
    }
   ],
   "source": [
    "plt.scatter(tmp2['auc'], tmp2['auc_analytic'])"
   ]
  },
  {
   "cell_type": "code",
   "execution_count": null,
   "metadata": {},
   "outputs": [],
   "source": []
  }
 ],
 "metadata": {
  "kernelspec": {
   "display_name": "mlscorecheck",
   "language": "python",
   "name": "python3"
  },
  "language_info": {
   "codemirror_mode": {
    "name": "ipython",
    "version": 3
   },
   "file_extension": ".py",
   "mimetype": "text/x-python",
   "name": "python",
   "nbconvert_exporter": "python",
   "pygments_lexer": "ipython3",
   "version": "3.12.0"
  }
 },
 "nbformat": 4,
 "nbformat_minor": 2
}
