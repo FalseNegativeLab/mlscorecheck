{
 "cells": [
  {
   "cell_type": "code",
   "execution_count": 1,
   "metadata": {},
   "outputs": [],
   "source": [
    "import numpy as np\n",
    "import pandas as pd\n",
    "import matplotlib.pyplot as plt\n",
    "from scipy.stats import wilcoxon\n",
    "\n",
    "from mlscorecheck.auc import auc_from_sens_spec, acc_from_auc"
   ]
  },
  {
   "cell_type": "code",
   "execution_count": 2,
   "metadata": {},
   "outputs": [],
   "source": [
    "data = pd.read_csv('kfold.csv')"
   ]
  },
  {
   "cell_type": "code",
   "execution_count": 3,
   "metadata": {},
   "outputs": [
    {
     "data": {
      "text/html": [
       "<div>\n",
       "<style scoped>\n",
       "    .dataframe tbody tr th:only-of-type {\n",
       "        vertical-align: middle;\n",
       "    }\n",
       "\n",
       "    .dataframe tbody tr th {\n",
       "        vertical-align: top;\n",
       "    }\n",
       "\n",
       "    .dataframe thead th {\n",
       "        text-align: right;\n",
       "    }\n",
       "</style>\n",
       "<table border=\"1\" class=\"dataframe\">\n",
       "  <thead>\n",
       "    <tr style=\"text-align: right;\">\n",
       "      <th></th>\n",
       "      <th>Unnamed: 0</th>\n",
       "      <th>dataset</th>\n",
       "      <th>k</th>\n",
       "      <th>acc</th>\n",
       "      <th>sens</th>\n",
       "      <th>spec</th>\n",
       "      <th>auc</th>\n",
       "      <th>best_acc</th>\n",
       "      <th>best_sens</th>\n",
       "      <th>best_spec</th>\n",
       "      <th>threshold</th>\n",
       "      <th>best_threshold</th>\n",
       "      <th>best_acc_orig</th>\n",
       "      <th>p</th>\n",
       "      <th>n</th>\n",
       "    </tr>\n",
       "  </thead>\n",
       "  <tbody>\n",
       "    <tr>\n",
       "      <th>0</th>\n",
       "      <td>0</td>\n",
       "      <td>abalone9_18</td>\n",
       "      <td>5</td>\n",
       "      <td>0.908400</td>\n",
       "      <td>0.48056</td>\n",
       "      <td>0.93474</td>\n",
       "      <td>0.716189</td>\n",
       "      <td>0.94256</td>\n",
       "      <td>0.000000</td>\n",
       "      <td>1.000000</td>\n",
       "      <td>0.055180</td>\n",
       "      <td>inf</td>\n",
       "      <td>0.94256</td>\n",
       "      <td>42</td>\n",
       "      <td>689</td>\n",
       "    </tr>\n",
       "    <tr>\n",
       "      <th>1</th>\n",
       "      <td>1</td>\n",
       "      <td>appendicitis</td>\n",
       "      <td>10</td>\n",
       "      <td>0.803650</td>\n",
       "      <td>0.45000</td>\n",
       "      <td>0.89584</td>\n",
       "      <td>0.743056</td>\n",
       "      <td>0.81274</td>\n",
       "      <td>0.533330</td>\n",
       "      <td>0.884730</td>\n",
       "      <td>0.986773</td>\n",
       "      <td>0.333333</td>\n",
       "      <td>0.81274</td>\n",
       "      <td>21</td>\n",
       "      <td>85</td>\n",
       "    </tr>\n",
       "    <tr>\n",
       "      <th>2</th>\n",
       "      <td>2</td>\n",
       "      <td>australian</td>\n",
       "      <td>2</td>\n",
       "      <td>0.569550</td>\n",
       "      <td>0.03265</td>\n",
       "      <td>1.00000</td>\n",
       "      <td>0.716136</td>\n",
       "      <td>0.68115</td>\n",
       "      <td>0.586200</td>\n",
       "      <td>0.757250</td>\n",
       "      <td>0.932181</td>\n",
       "      <td>0.419929</td>\n",
       "      <td>0.68115</td>\n",
       "      <td>307</td>\n",
       "      <td>383</td>\n",
       "    </tr>\n",
       "    <tr>\n",
       "      <th>3</th>\n",
       "      <td>3</td>\n",
       "      <td>bupa</td>\n",
       "      <td>7</td>\n",
       "      <td>0.423229</td>\n",
       "      <td>1.00000</td>\n",
       "      <td>0.00510</td>\n",
       "      <td>0.732602</td>\n",
       "      <td>0.70110</td>\n",
       "      <td>0.690114</td>\n",
       "      <td>0.710414</td>\n",
       "      <td>0.046065</td>\n",
       "      <td>0.425281</td>\n",
       "      <td>0.70110</td>\n",
       "      <td>145</td>\n",
       "      <td>200</td>\n",
       "    </tr>\n",
       "    <tr>\n",
       "      <th>4</th>\n",
       "      <td>4</td>\n",
       "      <td>CM1</td>\n",
       "      <td>5</td>\n",
       "      <td>0.901620</td>\n",
       "      <td>0.00000</td>\n",
       "      <td>1.00000</td>\n",
       "      <td>0.597264</td>\n",
       "      <td>0.90162</td>\n",
       "      <td>0.000000</td>\n",
       "      <td>1.000000</td>\n",
       "      <td>0.859359</td>\n",
       "      <td>inf</td>\n",
       "      <td>0.90162</td>\n",
       "      <td>49</td>\n",
       "      <td>449</td>\n",
       "    </tr>\n",
       "  </tbody>\n",
       "</table>\n",
       "</div>"
      ],
      "text/plain": [
       "   Unnamed: 0       dataset   k       acc     sens     spec       auc  \\\n",
       "0           0   abalone9_18   5  0.908400  0.48056  0.93474  0.716189   \n",
       "1           1  appendicitis  10  0.803650  0.45000  0.89584  0.743056   \n",
       "2           2    australian   2  0.569550  0.03265  1.00000  0.716136   \n",
       "3           3          bupa   7  0.423229  1.00000  0.00510  0.732602   \n",
       "4           4           CM1   5  0.901620  0.00000  1.00000  0.597264   \n",
       "\n",
       "   best_acc  best_sens  best_spec  threshold  best_threshold  best_acc_orig  \\\n",
       "0   0.94256   0.000000   1.000000   0.055180             inf        0.94256   \n",
       "1   0.81274   0.533330   0.884730   0.986773        0.333333        0.81274   \n",
       "2   0.68115   0.586200   0.757250   0.932181        0.419929        0.68115   \n",
       "3   0.70110   0.690114   0.710414   0.046065        0.425281        0.70110   \n",
       "4   0.90162   0.000000   1.000000   0.859359             inf        0.90162   \n",
       "\n",
       "     p    n  \n",
       "0   42  689  \n",
       "1   21   85  \n",
       "2  307  383  \n",
       "3  145  200  \n",
       "4   49  449  "
      ]
     },
     "execution_count": 3,
     "metadata": {},
     "output_type": "execute_result"
    }
   ],
   "source": [
    "data.head()"
   ]
  },
  {
   "cell_type": "code",
   "execution_count": 4,
   "metadata": {},
   "outputs": [],
   "source": [
    "data['auc_min_max_int'] = data.apply(\n",
    "    lambda row: \n",
    "    auc_from_sens_spec(\n",
    "        scores={'acc': row['acc'], 'sens': row['sens'], 'spec': row['spec']},\n",
    "        p=row['p'],\n",
    "        n=row['n'],\n",
    "        eps=1e-4,\n",
    "        lower='min',\n",
    "        upper='max'\n",
    "        ), \n",
    "axis=1)\n",
    "\n",
    "data['auc_cmin_max_int'] = data.apply(\n",
    "    lambda row:\n",
    "    auc_from_sens_spec(\n",
    "        scores={'acc': row['acc'], 'sens': row['sens'], 'spec': row['spec']},\n",
    "        p=row['p'],\n",
    "        n=row['n'],\n",
    "        eps=1e-4,\n",
    "        lower='cmin',\n",
    "        upper='max'\n",
    "        ),\n",
    "axis=1)\n",
    "\n",
    "data['auc_max_acc_min_max_int'] = data.apply(\n",
    "    lambda row: \n",
    "    auc_from_sens_spec(\n",
    "        scores={'acc': row['best_acc'], 'sens': row['best_sens'], 'spec': row['best_spec']},\n",
    "        p=row['p'],\n",
    "        n=row['n'],\n",
    "        eps=1e-4,\n",
    "        lower='min',\n",
    "        upper='max'\n",
    "        ), \n",
    "axis=1)\n",
    "\n",
    "data['auc_max_acc_cmin_max_int'] = data.apply(\n",
    "    lambda row: \n",
    "    auc_from_sens_spec(\n",
    "        scores={'acc': row['best_acc'], 'sens': row['best_sens'], 'spec': row['best_spec']},\n",
    "        p=row['p'],\n",
    "        n=row['n'],\n",
    "        eps=1e-4,\n",
    "        lower='cmin',\n",
    "        upper='max'\n",
    "        ), \n",
    "axis=1)\n",
    "\n",
    "data['auc_max_acc_min_amax_int'] = data.apply(\n",
    "    lambda row: \n",
    "    auc_from_sens_spec(\n",
    "        scores={'acc': row['best_acc'], 'sens': row['best_sens'], 'spec': row['best_spec']},\n",
    "        p=row['p'],\n",
    "        n=row['n'],\n",
    "        eps=1e-4,\n",
    "        lower='min',\n",
    "        upper='amax'\n",
    "        ), \n",
    "axis=1)\n",
    "\n",
    "data['auc_max_acc_cmin_amax_int'] = data.apply(\n",
    "    lambda row: \n",
    "    auc_from_sens_spec(\n",
    "        scores={'acc': row['best_acc'], 'sens': row['best_sens'], 'spec': row['best_spec']},\n",
    "        p=row['p'],\n",
    "        n=row['n'],\n",
    "        eps=1e-4,\n",
    "        lower='cmin',\n",
    "        upper='amax'\n",
    "        ), \n",
    "axis=1)"
   ]
  },
  {
   "cell_type": "code",
   "execution_count": 5,
   "metadata": {},
   "outputs": [],
   "source": [
    "data['acc_min_max_int'] = data.apply(\n",
    "    lambda row: \n",
    "    acc_from_auc(\n",
    "        scores={'auc': row['auc']},\n",
    "        p=row['p'],\n",
    "        n=row['n'],\n",
    "        eps=1e-4,\n",
    "        upper='max'\n",
    "        ), \n",
    "axis=1)\n",
    "\n",
    "data['acc_min_cmax_int'] = data.apply(\n",
    "    lambda row: \n",
    "    acc_from_auc(\n",
    "        scores={'auc': row['auc']},\n",
    "        p=row['p'],\n",
    "        n=row['n'],\n",
    "        eps=1e-4,\n",
    "        upper='cmax'\n",
    "        ), \n",
    "axis=1)"
   ]
  },
  {
   "cell_type": "code",
   "execution_count": 6,
   "metadata": {},
   "outputs": [],
   "source": [
    "for label in ['auc_min_max_int', 'auc_cmin_max_int', \n",
    "              'auc_max_acc_min_max_int', 'auc_max_acc_cmin_max_int', \n",
    "              'auc_max_acc_min_amax_int', 'auc_max_acc_cmin_amax_int', \n",
    "              'acc_min_max_int', 'acc_min_cmax_int']:\n",
    "    data[label[:-4]] = data[label].apply(lambda x: None if x is None else (x[0] + x[1])/2.0)"
   ]
  },
  {
   "cell_type": "code",
   "execution_count": 7,
   "metadata": {},
   "outputs": [],
   "source": [
    "data['auc_min_max_diff'] = data['auc'] - data['auc_min_max']\n",
    "data['auc_cmin_max_diff'] = data['auc'] - data['auc_cmin_max']\n",
    "data['auc_max_acc_min_max_diff'] = data['auc'] - data['auc_max_acc_min_max']\n",
    "data['auc_max_acc_cmin_max_diff'] = data['auc'] - data['auc_max_acc_cmin_max']\n",
    "data['auc_max_acc_min_amax_diff'] = data['auc'] - data['auc_max_acc_min_amax']\n",
    "data['auc_max_acc_cmin_amax_diff'] = data['auc'] - data['auc_max_acc_cmin_amax']\n",
    "\n",
    "data['acc_min_max_diff'] = data['best_acc'] - data['acc_min_max']\n",
    "data['acc_min_cmax_diff'] = data['best_acc'] - data['acc_min_cmax']"
   ]
  },
  {
   "cell_type": "code",
   "execution_count": 8,
   "metadata": {},
   "outputs": [
    {
     "data": {
      "text/plain": [
       "(np.float64(0.1282681101795442), np.float64(0.06667071954273698))"
      ]
     },
     "execution_count": 8,
     "metadata": {},
     "output_type": "execute_result"
    }
   ],
   "source": [
    "(np.mean(np.abs(data['auc_min_max_diff']) / data['auc']), \n",
    " np.mean(np.abs(data['auc_cmin_max_diff']) / data['auc']))"
   ]
  },
  {
   "cell_type": "code",
   "execution_count": 9,
   "metadata": {},
   "outputs": [],
   "source": [
    "figsize = (3.5, 2)\n",
    "figsize2 = (2, 2)\n",
    "n_bins = 20"
   ]
  },
  {
   "cell_type": "code",
   "execution_count": 10,
   "metadata": {},
   "outputs": [
    {
     "data": {
      "image/png": "[encoded data removed]",
      "text/plain": [
       "<Figure size 350x200 with 1 Axes>"
      ]
     },
     "metadata": {},
     "output_type": "display_data"
    }
   ],
   "source": [
    "plt.figure(figsize=figsize)\n",
    "plt.hist(data['auc_min_max_diff'], label='(min, max)', alpha=0.5, density=True, bins=n_bins)\n",
    "plt.hist(data['auc_cmin_max_diff'], label='(cmin, max)', alpha=0.5, density=True, bins=n_bins)\n",
    "plt.xlabel(r'$\\Delta auc = auc - auc_M$')\n",
    "plt.ylabel('density')\n",
    "plt.legend()\n",
    "plt.tight_layout()\n",
    "plt.savefig('auc-min-max-cmin-max-hist-kfold.pdf')\n",
    "plt.show()"
   ]
  },
  {
   "cell_type": "code",
   "execution_count": 11,
   "metadata": {},
   "outputs": [
    {
     "data": {
      "image/png": "[encoded data removed]",
      "text/plain": [
       "<Figure size 350x200 with 1 Axes>"
      ]
     },
     "metadata": {},
     "output_type": "display_data"
    }
   ],
   "source": [
    "plt.figure(figsize=figsize)\n",
    "plt.hist(np.abs(data['auc_min_max_diff']), label='(min, max)', alpha=0.5, density=True, bins=n_bins)\n",
    "plt.hist(np.abs(data['auc_cmin_max_diff']), label='(cmin, max)', alpha=0.5, density=True, bins=n_bins)\n",
    "plt.xlabel(r'$\\vert auc - auc_M\\vert$')\n",
    "plt.ylabel('density')\n",
    "plt.legend()\n",
    "plt.tight_layout()\n",
    "plt.savefig('auc-min-max-cmin-max-abs-hist-kfold.pdf')\n",
    "plt.show()"
   ]
  },
  {
   "cell_type": "code",
   "execution_count": 12,
   "metadata": {},
   "outputs": [
    {
     "name": "stderr",
     "output_type": "stream",
     "text": [
      "<>:4: SyntaxWarning: invalid escape sequence '\\D'\n",
      "<>:4: SyntaxWarning: invalid escape sequence '\\D'\n",
      "/tmp/ipykernel_22506/967181890.py:4: SyntaxWarning: invalid escape sequence '\\D'\n",
      "  plt.ylabel('$\\Delta auc_M$ (cmin, max)')\n"
     ]
    },
    {
     "data": {
      "image/png": "[encoded data removed]",
      "text/plain": [
       "<Figure size 200x200 with 1 Axes>"
      ]
     },
     "metadata": {},
     "output_type": "display_data"
    }
   ],
   "source": [
    "plt.figure(figsize=figsize2)\n",
    "plt.scatter(data['auc_min_max_diff'], data['auc_cmin_max_diff'], s=2)\n",
    "plt.xlabel(r'$\\Delta auc_M$ (min, max)')\n",
    "plt.ylabel('$\\Delta auc_M$ (cmin, max)')\n",
    "plt.tight_layout()\n",
    "plt.savefig('auc-min-max-cmin-max-scatter-kfold.pdf')\n",
    "plt.show()"
   ]
  },
  {
   "cell_type": "code",
   "execution_count": 13,
   "metadata": {},
   "outputs": [
    {
     "data": {
      "text/plain": [
       "WilcoxonResult(statistic=np.float64(102553.0), pvalue=np.float64(3.2799052213986947e-202))"
      ]
     },
     "execution_count": 13,
     "metadata": {},
     "output_type": "execute_result"
    }
   ],
   "source": [
    "wilcoxon(\n",
    "    np.abs(data.dropna()['auc_cmin_max_diff']), \n",
    "    np.abs(data.dropna()['auc_min_max_diff']), \n",
    "    alternative='less'\n",
    ")"
   ]
  },
  {
   "cell_type": "code",
   "execution_count": 14,
   "metadata": {},
   "outputs": [
    {
     "data": {
      "text/plain": [
       "(np.float64(0.08513017769728413),\n",
       " np.float64(0.046863852054966335),\n",
       " np.float64(0.09684754832406983),\n",
       " np.float64(0.05168497998805046))"
      ]
     },
     "execution_count": 14,
     "metadata": {},
     "output_type": "execute_result"
    }
   ],
   "source": [
    "(np.mean(np.abs(data['auc_max_acc_min_max_diff']) / data['auc']), \n",
    "np.mean(np.abs(data['auc_max_acc_cmin_max_diff']) / data['auc']),\n",
    "np.mean(np.abs(data['auc_max_acc_min_amax_diff']) / data['auc']), \n",
    "np.mean(np.abs(data['auc_max_acc_cmin_amax_diff']) / data['auc']))"
   ]
  },
  {
   "cell_type": "code",
   "execution_count": 15,
   "metadata": {},
   "outputs": [
    {
     "data": {
      "image/png": "[encoded data removed]",
      "text/plain": [
       "<Figure size 350x200 with 1 Axes>"
      ]
     },
     "metadata": {},
     "output_type": "display_data"
    }
   ],
   "source": [
    "plt.figure(figsize=figsize)\n",
    "plt.hist(data['auc_max_acc_min_max_diff'], label='(min, max)', alpha=0.5, density=True, bins=n_bins)\n",
    "plt.hist(data['auc_max_acc_cmin_max_diff'], label='(cmin, max)', alpha=0.5, density=True, bins=n_bins)\n",
    "plt.hist(data['auc_max_acc_min_amax_diff'], label='(min, amax)', alpha=0.5, density=True, bins=n_bins)\n",
    "plt.hist(data['auc_max_acc_cmin_amax_diff'], label='(cmin, amax)', alpha=0.5, density=True, bins=n_bins)\n",
    "plt.xlabel(r'$\\Delta auc = auc - auc_M$')\n",
    "plt.ylabel('density')\n",
    "plt.legend()\n",
    "plt.tight_layout()\n",
    "plt.savefig('auc-min-amax-cmin-amax-hist-kfold.pdf')\n",
    "plt.show()"
   ]
  },
  {
   "cell_type": "code",
   "execution_count": 16,
   "metadata": {},
   "outputs": [
    {
     "data": {
      "image/png": "[encoded data removed]",
      "text/plain": [
       "<Figure size 350x200 with 1 Axes>"
      ]
     },
     "metadata": {},
     "output_type": "display_data"
    }
   ],
   "source": [
    "plt.figure(figsize=figsize)\n",
    "plt.hist(np.abs(data['auc_max_acc_min_max_diff']), label='(min, max)', alpha=0.5, density=True, bins=n_bins)\n",
    "plt.hist(np.abs(data['auc_max_acc_cmin_max_diff']), label='(cmin, max)', alpha=0.5, density=True, bins=n_bins)\n",
    "plt.hist(np.abs(data['auc_max_acc_min_amax_diff']), label='(min, amax)', alpha=0.5, density=True, bins=n_bins)\n",
    "plt.hist(np.abs(data['auc_max_acc_cmin_amax_diff']), label='(cmin, amax)', alpha=0.5, density=True, bins=n_bins)\n",
    "plt.xlabel(r'$\\vert auc - auc_M\\vert$')\n",
    "plt.ylabel('density')\n",
    "plt.legend()\n",
    "plt.tight_layout()\n",
    "plt.savefig('auc-min-amax-cmin-amax-abs-hist-kfold.pdf')\n",
    "plt.show()"
   ]
  },
  {
   "cell_type": "code",
   "execution_count": 17,
   "metadata": {},
   "outputs": [
    {
     "name": "stderr",
     "output_type": "stream",
     "text": [
      "<>:4: SyntaxWarning: invalid escape sequence '\\D'\n",
      "<>:4: SyntaxWarning: invalid escape sequence '\\D'\n",
      "/tmp/ipykernel_22506/3396233447.py:4: SyntaxWarning: invalid escape sequence '\\D'\n",
      "  plt.ylabel('$\\Delta auc_M$ (cmin, amax)')\n"
     ]
    },
    {
     "data": {
      "image/png": "[encoded data removed]",
      "text/plain": [
       "<Figure size 200x200 with 1 Axes>"
      ]
     },
     "metadata": {},
     "output_type": "display_data"
    }
   ],
   "source": [
    "plt.figure(figsize=figsize2)\n",
    "plt.scatter(data['auc_max_acc_min_amax_diff'], data['auc_max_acc_cmin_amax_diff'], s=2)\n",
    "plt.xlabel(r'$\\Delta auc_M$ (min, amax)')\n",
    "plt.ylabel('$\\Delta auc_M$ (cmin, amax)')\n",
    "plt.tight_layout()\n",
    "plt.savefig('auc-min-amax-cmin-amax-scatter-kfold.pdf')\n",
    "plt.show()"
   ]
  },
  {
   "cell_type": "code",
   "execution_count": 18,
   "metadata": {},
   "outputs": [
    {
     "data": {
      "text/plain": [
       "WilcoxonResult(statistic=np.float64(46021.0), pvalue=np.float64(1.300316940987457e-241))"
      ]
     },
     "execution_count": 18,
     "metadata": {},
     "output_type": "execute_result"
    }
   ],
   "source": [
    "wilcoxon(\n",
    "    np.abs(data.dropna()['auc_max_acc_cmin_amax_diff']), \n",
    "    np.abs(data.dropna()['auc_max_acc_min_amax_diff']), \n",
    "    alternative='less'\n",
    ")"
   ]
  },
  {
   "cell_type": "code",
   "execution_count": 19,
   "metadata": {},
   "outputs": [
    {
     "data": {
      "text/plain": [
       "(np.float64(0.030945651939492058), np.float64(0.027901818177332526))"
      ]
     },
     "execution_count": 19,
     "metadata": {},
     "output_type": "execute_result"
    }
   ],
   "source": [
    "(np.mean(np.abs(data['acc_min_max_diff']) / data['best_acc']),\n",
    " np.mean(np.abs(data['acc_min_cmax_diff']) / data['best_acc']))"
   ]
  },
  {
   "cell_type": "code",
   "execution_count": 20,
   "metadata": {},
   "outputs": [
    {
     "data": {
      "image/png": "[encoded data removed]",
      "text/plain": [
       "<Figure size 350x200 with 1 Axes>"
      ]
     },
     "metadata": {},
     "output_type": "display_data"
    }
   ],
   "source": [
    "plt.figure(figsize=figsize)\n",
    "plt.hist(data['acc_min_max_diff'], label='(min, max)', alpha=0.5, density=True, bins=n_bins)\n",
    "plt.hist(data['acc_min_cmax_diff'], label='(min, cmax)', alpha=0.5, density=True, bins=n_bins)\n",
    "plt.xlabel(r'$\\Delta = acc - acc_M$')\n",
    "plt.ylabel('density')\n",
    "plt.legend()\n",
    "plt.tight_layout()\n",
    "plt.savefig('acc-min-max-min-cmax-hist-kfold.pdf')\n",
    "plt.show()"
   ]
  },
  {
   "cell_type": "code",
   "execution_count": 21,
   "metadata": {},
   "outputs": [
    {
     "data": {
      "image/png": "[encoded data removed]",
      "text/plain": [
       "<Figure size 350x200 with 1 Axes>"
      ]
     },
     "metadata": {},
     "output_type": "display_data"
    }
   ],
   "source": [
    "plt.figure(figsize=figsize)\n",
    "plt.hist(np.abs(data['acc_min_max_diff']), label='(min, max)', alpha=0.5, density=True, bins=n_bins)\n",
    "plt.hist(np.abs(data['acc_min_cmax_diff']), label='(min, cmax)', alpha=0.5, density=True, bins=n_bins)\n",
    "plt.xlabel(r'$\\vert acc - acc_M \\vert$')\n",
    "plt.ylabel('density')\n",
    "plt.legend()\n",
    "plt.tight_layout()\n",
    "plt.savefig('acc-min-max-min-cmax-abs-hist-kfold.pdf')\n",
    "plt.show()"
   ]
  },
  {
   "cell_type": "code",
   "execution_count": 22,
   "metadata": {},
   "outputs": [
    {
     "name": "stderr",
     "output_type": "stream",
     "text": [
      "<>:4: SyntaxWarning: invalid escape sequence '\\D'\n",
      "<>:4: SyntaxWarning: invalid escape sequence '\\D'\n",
      "/tmp/ipykernel_22506/4026538229.py:4: SyntaxWarning: invalid escape sequence '\\D'\n",
      "  plt.ylabel('$\\Delta acc_M$ (min, amax)')\n"
     ]
    },
    {
     "data": {
      "image/png": "[encoded data removed]",
      "text/plain": [
       "<Figure size 200x200 with 1 Axes>"
      ]
     },
     "metadata": {},
     "output_type": "display_data"
    }
   ],
   "source": [
    "plt.figure(figsize=figsize2)\n",
    "plt.scatter(data['acc_min_max_diff'], data['acc_min_cmax_diff'], s=2)\n",
    "plt.xlabel(r'$\\Delta acc_M$ (min, max)')\n",
    "plt.ylabel('$\\Delta acc_M$ (min, amax)')\n",
    "plt.tight_layout()\n",
    "plt.savefig('acc-min-max-min-cmax-scatter-kfold.pdf')\n",
    "plt.show()"
   ]
  },
  {
   "cell_type": "code",
   "execution_count": null,
   "metadata": {},
   "outputs": [],
   "source": []
  }
 ],
 "metadata": {
  "kernelspec": {
   "display_name": "mlscorecheck",
   "language": "python",
   "name": "python3"
  },
  "language_info": {
   "codemirror_mode": {
    "name": "ipython",
    "version": 3
   },
   "file_extension": ".py",
   "mimetype": "text/x-python",
   "name": "python",
   "nbconvert_exporter": "python",
   "pygments_lexer": "ipython3",
   "version": "3.12.0"
  }
 },
 "nbformat": 4,
 "nbformat_minor": 2
}
