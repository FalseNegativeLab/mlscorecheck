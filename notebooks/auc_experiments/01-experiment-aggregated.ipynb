{
 "cells": [
  {
   "cell_type": "code",
   "execution_count": 61,
   "metadata": {},
   "outputs": [],
   "source": [
    "import common_datasets.binary_classification as binclas\n",
    "from sklearn.ensemble import RandomForestClassifier\n",
    "from sklearn.tree import DecisionTreeClassifier\n",
    "from sklearn.svm import SVC\n",
    "from sklearn.neighbors import KNeighborsClassifier\n",
    "from sklearn.model_selection import train_test_split, StratifiedKFold\n",
    "from sklearn.metrics import roc_auc_score, roc_curve\n",
    "from sklearn.preprocessing import StandardScaler\n",
    "\n",
    "from mlscorecheck.auc import simplify_roc\n",
    "\n",
    "import matplotlib.pyplot as plt\n",
    "\n",
    "import numpy as np\n",
    "import pandas as pd\n",
    "\n",
    "from scipy.stats import wilcoxon"
   ]
  },
  {
   "cell_type": "code",
   "execution_count": 62,
   "metadata": {},
   "outputs": [],
   "source": [
    "def generate_random_classifier(random_state):\n",
    "    mode = random_state.randint(4)\n",
    "    if mode == 0:\n",
    "        classifier = RandomForestClassifier\n",
    "        params = {'max_depth': random_state.randint(2, 10),\n",
    "                  'random_state': 5}\n",
    "    if mode == 1:\n",
    "        classifier = DecisionTreeClassifier\n",
    "        params = {'max_depth': random_state.randint(2, 10),\n",
    "                  'random_state': 5}\n",
    "    if mode == 2:\n",
    "        classifier = SVC\n",
    "        params = {'probability': True, 'C': random_state.rand()/2 + 0.001}\n",
    "    if mode == 3:\n",
    "        classifier = KNeighborsClassifier\n",
    "        params = {'n_neighbors': random_state.randint(2, 10)}\n",
    "    \n",
    "    return (classifier, params)"
   ]
  },
  {
   "cell_type": "code",
   "execution_count": 63,
   "metadata": {},
   "outputs": [],
   "source": [
    "datasets = binclas.get_filtered_data_loaders(n_col_bounds=(0, 50), n_bounds=(0, 2000), n_minority_bounds=(20, 1000), n_from_phenotypes=1, imbalance_ratio_bounds=(0.2, 20.0))"
   ]
  },
  {
   "cell_type": "code",
   "execution_count": 64,
   "metadata": {},
   "outputs": [
    {
     "data": {
      "text/plain": [
       "28"
      ]
     },
     "execution_count": 64,
     "metadata": {},
     "output_type": "execute_result"
    }
   ],
   "source": [
    "len(datasets)"
   ]
  },
  {
   "cell_type": "code",
   "execution_count": 65,
   "metadata": {},
   "outputs": [],
   "source": [
    "names = [dataset()['name'] for dataset in datasets if not dataset()['name'].startswith('led')]"
   ]
  },
  {
   "cell_type": "code",
   "execution_count": 66,
   "metadata": {},
   "outputs": [],
   "source": [
    "from common_datasets.binary_classification import summary_pdf"
   ]
  },
  {
   "cell_type": "code",
   "execution_count": 67,
   "metadata": {},
   "outputs": [],
   "source": [
    "tmp = summary_pdf[summary_pdf['name'].isin(names)].reset_index(drop=True)\n",
    "tmp = tmp[['name', 'n_col', 'n', 'n_minority', 'imbalance_ratio', 'citation_key']]\n",
    "tmp['name_key'] = tmp.apply(lambda row: f'{row[\"name\"]} \\\\cite{{{row[\"citation_key\"]}}}', axis=1)\n",
    "tmp = tmp[['name_key', 'n', 'n_col', 'n_minority', 'imbalance_ratio']]\n",
    "tmp.columns = ['name', 'size', 'attr.', 'p', 'imb. ratio']\n",
    "tmp['n'] = tmp['size'] - tmp['p']\n",
    "tmp = tmp[['name', 'size', 'attr.', 'p', 'n', 'imb. ratio']]"
   ]
  },
  {
   "cell_type": "code",
   "execution_count": 68,
   "metadata": {},
   "outputs": [
    {
     "name": "stdout",
     "output_type": "stream",
     "text": [
      "\\begin{tabular}{llrrrrr}\n",
      "\\toprule\n",
      " & name & size & attr. & p & n & imb. ratio \\\\\n",
      "\\midrule\n",
      "1 & abalone9 18 \\cite{keel} & 731 & 9 & 42 & 689 & 16.40 \\\\\n",
      "2 & appendicitis \\cite{keel} & 106 & 7 & 21 & 85 & 4.05 \\\\\n",
      "3 & australian \\cite{keel} & 690 & 16 & 307 & 383 & 1.25 \\\\\n",
      "4 & bupa \\cite{keel} & 345 & 6 & 145 & 200 & 1.38 \\\\\n",
      "5 & CM1 \\cite{krnn} & 498 & 21 & 49 & 449 & 9.16 \\\\\n",
      "6 & crx \\cite{keel} & 653 & 37 & 296 & 357 & 1.21 \\\\\n",
      "7 & dermatology-6 \\cite{keel} & 358 & 34 & 20 & 338 & 16.90 \\\\\n",
      "8 & ecoli1 \\cite{keel} & 336 & 7 & 77 & 259 & 3.36 \\\\\n",
      "9 & glass0 \\cite{keel} & 214 & 9 & 70 & 144 & 2.06 \\\\\n",
      "10 & haberman \\cite{keel} & 306 & 3 & 81 & 225 & 2.78 \\\\\n",
      "11 & hepatitis \\cite{krnn} & 155 & 19 & 32 & 123 & 3.84 \\\\\n",
      "12 & ionosphere \\cite{keel} & 351 & 33 & 126 & 225 & 1.79 \\\\\n",
      "13 & iris0 \\cite{keel} & 150 & 4 & 50 & 100 & 2.00 \\\\\n",
      "14 & mammographic \\cite{keel} & 830 & 5 & 403 & 427 & 1.06 \\\\\n",
      "15 & monk-2 \\cite{keel} & 432 & 6 & 204 & 228 & 1.12 \\\\\n",
      "16 & new thyroid1 \\cite{keel} & 215 & 5 & 35 & 180 & 5.14 \\\\\n",
      "17 & page-blocks-1-3 vs 4 \\cite{keel} & 472 & 10 & 28 & 444 & 15.86 \\\\\n",
      "18 & PC1 \\cite{krnn} & 1109 & 21 & 77 & 1032 & 13.40 \\\\\n",
      "19 & pima \\cite{keel} & 768 & 8 & 268 & 500 & 1.87 \\\\\n",
      "20 & saheart \\cite{keel} & 462 & 9 & 160 & 302 & 1.89 \\\\\n",
      "21 & shuttle-c0-vs-c4 \\cite{keel} & 1829 & 9 & 123 & 1706 & 13.87 \\\\\n",
      "22 & SPECTF \\cite{krnn} & 267 & 44 & 55 & 212 & 3.85 \\\\\n",
      "23 & vehicle0 \\cite{keel} & 846 & 18 & 199 & 647 & 3.25 \\\\\n",
      "24 & vowel0 \\cite{keel} & 988 & 13 & 90 & 898 & 9.98 \\\\\n",
      "25 & wdbc \\cite{keel} & 569 & 30 & 212 & 357 & 1.68 \\\\\n",
      "26 & wisconsin \\cite{keel} & 683 & 9 & 239 & 444 & 1.86 \\\\\n",
      "27 & yeast1 \\cite{keel} & 1484 & 8 & 429 & 1055 & 2.46 \\\\\n",
      "\\bottomrule\n",
      "\\end{tabular}\n",
      "\n"
     ]
    }
   ],
   "source": [
    "tmp.index = [idx for idx in range(1, 28)]\n",
    "print(tmp.to_latex(float_format=\"%.2f\").replace('_', ' '))"
   ]
  },
  {
   "cell_type": "code",
   "execution_count": 113,
   "metadata": {},
   "outputs": [],
   "source": [
    "def pava(array, sample_weight):\n",
    "    output = array.copy()\n",
    "    counts = np.repeat(1, output.shape[0])\n",
    "    prev_pool = np.repeat(1, output.shape[0])\n",
    "    sample_weight = sample_weight.copy()\n",
    "\n",
    "    idx = 0\n",
    "    while idx + counts[idx] < output.shape[0]:\n",
    "        next_pool_idx = idx + counts[idx]\n",
    "        if output[idx] <= output[next_pool_idx]:\n",
    "            idx = next_pool_idx\n",
    "            continue\n",
    "        else:\n",
    "            total_weight = sample_weight[idx] + sample_weight[next_pool_idx]\n",
    "            term_0 = sample_weight[idx] * output[idx]\n",
    "            term_1 = sample_weight[next_pool_idx] * output[next_pool_idx]\n",
    "            output[idx] = (term_0 + term_1) / total_weight\n",
    "\n",
    "            next_next_pool_idx = next_pool_idx  +counts[next_pool_idx]\n",
    "            if next_next_pool_idx < output.shape[0]:\n",
    "                prev_pool[next_next_pool_idx] = counts[idx] + counts[next_pool_idx]\n",
    "            \n",
    "            sample_weight[idx] = sample_weight[idx] + sample_weight[next_pool_idx]\n",
    "\n",
    "            counts[idx] = counts[idx] + counts[next_pool_idx]\n",
    "\n",
    "            if prev_pool[idx] <= idx:\n",
    "                idx -= prev_pool[idx]\n",
    "    \n",
    "    result = array.copy()\n",
    "\n",
    "    idx = 0\n",
    "    while idx < array.shape[0]:\n",
    "        next_pool_idx = idx + counts[idx]\n",
    "        result[idx:next_pool_idx] = output[idx]\n",
    "        idx = next_pool_idx\n",
    "    \n",
    "    return result"
   ]
  },
  {
   "cell_type": "code",
   "execution_count": 107,
   "metadata": {},
   "outputs": [],
   "source": [
    "def linearize_roc_curve(fprs, tprs):\n",
    "    fprs_new = []\n",
    "    tprs_new = []\n",
    "    \n",
    "    if fprs[1] == 0:\n",
    "        fprs_new.append(fprs[1])\n",
    "        tprs_new.append(tprs[1])\n",
    "    else:\n",
    "        fprs_new.append(fprs[0])\n",
    "        tprs_new.append(tprs[0])\n",
    "    \n",
    "    i = 1\n",
    "    while i <= len(fprs) - 2:\n",
    "        if fprs[i] != fprs[i+1]:\n",
    "            fprs_new.append(fprs[i])\n",
    "            tprs_new.append(tprs[i])\n",
    "        else:\n",
    "            fpr_diff_left = (fprs[i] - fprs_new[-1]) * (tprs[i] - tprs_new[-1])\n",
    "            fpr_diff_right = (fprs[i+2] - fprs[i-1]) * (tprs[i+2] - tprs[i-1])\n",
    "\n",
    "            fpr_diff_left, fpr_diff_right = fpr_diff_left / (fpr_diff_left + fpr_diff_right), fpr_diff_right / (fpr_diff_left + fpr_diff_right)\n",
    "\n",
    "            fprs_new.append(fprs[i])\n",
    "            tprs_new.append(fpr_diff_left * tprs[i+1] + fpr_diff_right * tprs[i])\n",
    "            i += 1\n",
    "        i += 1\n",
    "    fprs_new.append(fprs[i])\n",
    "    tprs_new.append(tprs[i])\n",
    "\n",
    "    return np.array(fprs_new), np.array(tprs_new)\n",
    "        "
   ]
  },
  {
   "cell_type": "code",
   "execution_count": 108,
   "metadata": {},
   "outputs": [],
   "source": [
    "fprs = np.array([0, 0.2, 0.4, 0.4, 0.5, 0.7, 0.9, 0.9, 1.0])\n",
    "tprs = np.array([0, 0.3, 0.5, 0.6, 0.8, 0.8, 0.85, 0.94, 1.0])"
   ]
  },
  {
   "cell_type": "code",
   "execution_count": 109,
   "metadata": {},
   "outputs": [],
   "source": [
    "from mlscorecheck.auc import integrate_roc_curve"
   ]
  },
  {
   "cell_type": "code",
   "execution_count": 110,
   "metadata": {},
   "outputs": [
    {
     "data": {
      "text/plain": [
       "0.602"
      ]
     },
     "execution_count": 110,
     "metadata": {},
     "output_type": "execute_result"
    }
   ],
   "source": [
    "integrate_roc_curve(fprs, tprs)"
   ]
  },
  {
   "cell_type": "code",
   "execution_count": 111,
   "metadata": {},
   "outputs": [],
   "source": [
    "fprs_new, tprs_new = linearize_roc_curve(fprs, tprs)"
   ]
  },
  {
   "cell_type": "code",
   "execution_count": 112,
   "metadata": {},
   "outputs": [
    {
     "data": {
      "text/plain": [
       "0.5975864661654136"
      ]
     },
     "execution_count": 112,
     "metadata": {},
     "output_type": "execute_result"
    }
   ],
   "source": [
    "integrate_roc_curve(fprs_new, tprs_new)"
   ]
  },
  {
   "cell_type": "code",
   "execution_count": 100,
   "metadata": {},
   "outputs": [
    {
     "data": {
      "text/plain": [
       "[<matplotlib.lines.Line2D at 0x7f54cb9e9eb0>]"
      ]
     },
     "execution_count": 100,
     "metadata": {},
     "output_type": "execute_result"
    },
    {
     "data": {
      "image/png": "[encoded data removed]",
      "text/plain": [
       "<Figure size 640x480 with 1 Axes>"
      ]
     },
     "metadata": {},
     "output_type": "display_data"
    }
   ],
   "source": [
    "plt.plot(fprs, tprs)\n",
    "plt.plot(fprs_new, tprs_new)"
   ]
  },
  {
   "cell_type": "code",
   "execution_count": null,
   "metadata": {},
   "outputs": [],
   "source": []
  },
  {
   "cell_type": "code",
   "execution_count": null,
   "metadata": {},
   "outputs": [],
   "source": []
  },
  {
   "cell_type": "code",
   "execution_count": 69,
   "metadata": {},
   "outputs": [],
   "source": [
    "def acc_sens_spec_at_th(y_test, y_pred, th):\n",
    "    tp = np.sum((y_pred >= th) & (y_test == 1))\n",
    "    tn = np.sum((y_pred < th) & (y_test == 0))\n",
    "    p = np.sum(y_test)\n",
    "    n = len(y_test) - np.sum(y_test)\n",
    "\n",
    "    return (tp + tn)/(p + n), tp/p, tn/n"
   ]
  },
  {
   "cell_type": "code",
   "execution_count": 70,
   "metadata": {},
   "outputs": [],
   "source": [
    "def calculate_scores(y_test, y_pred, y_train, random_state, label=''):\n",
    "    threshold = np.sum(y_train)/len(y_train)\n",
    "\n",
    "    acc, sens, spec = acc_sens_spec_at_th(y_test, y_pred, threshold)\n",
    "\n",
    "    best_ths = []\n",
    "    best_acc = 0\n",
    "    for th in np.hstack([np.unique(y_pred), np.array([-np.inf, np.inf])]):\n",
    "        acc_tmp, _, _ = acc_sens_spec_at_th(y_test, y_pred, th)\n",
    "\n",
    "        if acc_tmp > best_acc:\n",
    "            best_acc = acc_tmp\n",
    "            best_ths = [th]\n",
    "        elif acc_tmp == best_acc:\n",
    "            best_ths.append(th)\n",
    "\n",
    "    best_th = random_state.choice(best_ths)\n",
    "\n",
    "    best_acc, best_sens, best_spec = acc_sens_spec_at_th(y_test, y_pred, best_th)\n",
    "\n",
    "    return {\n",
    "        f'acc{label}': acc,\n",
    "        f'sens{label}': sens,\n",
    "        f'spec{label}': spec,\n",
    "        f'threshold{label}': threshold,\n",
    "        f'best_acc{label}': best_acc,\n",
    "        f'best_sens{label}': best_sens,\n",
    "        f'best_spec{label}': best_spec,\n",
    "        f'best_threshold{label}': best_th\n",
    "    }"
   ]
  },
  {
   "cell_type": "code",
   "execution_count": 71,
   "metadata": {},
   "outputs": [],
   "source": [
    "def best_aggregated_scores(y_trues, y_preds, random_state, label=''):\n",
    "    thresholds = np.unique(np.hstack(y_trues))\n",
    "\n",
    "    best_ths = []\n",
    "    best_acc = 0\n",
    "    for th in thresholds.tolist() + [np.inf, -np.inf]:\n",
    "        acc_tmp = np.mean([acc_sens_spec_at_th(y_true, y_pred, th)[0] for y_true, y_pred in zip(y_trues, y_preds)])\n",
    "\n",
    "        if acc_tmp > best_acc:\n",
    "            best_acc = acc_tmp\n",
    "            best_ths = [th]\n",
    "        elif acc_tmp == best_acc:\n",
    "            best_ths.append(th)\n",
    "\n",
    "    best_th = random_state.choice(best_ths)\n",
    "\n",
    "    scores = [acc_sens_spec_at_th(y_true, y_pred, best_th) for y_true, y_pred in zip(y_trues, y_preds)]\n",
    "\n",
    "    best_acc = np.mean([item[0] for item in scores])\n",
    "    best_sens = np.mean([item[1] for item in scores])\n",
    "    best_spec = np.mean([item[2] for item in scores])\n",
    "\n",
    "    return {\n",
    "        f'best_acc{label}': best_acc,\n",
    "        f'best_sens{label}': best_sens,\n",
    "        f'best_spec{label}': best_spec\n",
    "    }"
   ]
  },
  {
   "cell_type": "code",
   "execution_count": 72,
   "metadata": {},
   "outputs": [],
   "source": [
    "def process_results(fold_results, random_state):\n",
    "    results = {}\n",
    "\n",
    "    results = results | best_aggregated_scores(\n",
    "        [record['y_test'] for record in fold_results],\n",
    "        [record['y_pred'] for record in fold_results],\n",
    "        random_state\n",
    "    )\n",
    "\n",
    "    results = results | best_aggregated_scores(\n",
    "        [record['y_train'] for record in fold_results],\n",
    "        [record['y_pred_train'] for record in fold_results],\n",
    "        random_state,\n",
    "        label='_train'\n",
    "    )\n",
    "\n",
    "    results = results | {\n",
    "        'acc': np.mean([record['acc'] for record in fold_results]),\n",
    "        'sens': np.mean([record['sens'] for record in fold_results]),\n",
    "        'spec': np.mean([record['spec'] for record in fold_results]),\n",
    "        'auc': np.mean([record['auc'] for record in fold_results]),\n",
    "        'acc_train': np.mean([record['acc_train'] for record in fold_results]),\n",
    "        'sens_train': np.mean([record['sens_train'] for record in fold_results]),\n",
    "        'spec_train': np.mean([record['spec_train'] for record in fold_results]),\n",
    "        'auc_train': np.mean([record['auc_train'] for record in fold_results])\n",
    "    }\n",
    "\n",
    "    roc = []\n",
    "    roc_train = []\n",
    "\n",
    "    for record in fold_results:\n",
    "        fprs, tprs, thresholds = simplify_roc(*roc_curve(record['y_test'], record['y_pred']))\n",
    "        roc.append((fprs.tolist(), tprs.tolist(), thresholds.tolist()))\n",
    "        fprs_train, tprs_train, thresholds_train = simplify_roc(*roc_curve(record['y_train'], record['y_pred_train']))\n",
    "        roc_train.append((fprs_train.tolist(), tprs_train.tolist(), thresholds_train.tolist()))\n",
    "\n",
    "\n",
    "    n_nodes = np.mean([len(curve[0]) for curve in roc])\n",
    "    n_nodes_train = np.mean([len(curve[0]) for curve in roc_train])\n",
    "\n",
    "    results = results | {\n",
    "        'n_nodes': n_nodes, \n",
    "        'n_nodes_train': n_nodes_train,\n",
    "        'roc': str(roc),\n",
    "        'roc_train': str(roc_train)\n",
    "    }\n",
    "\n",
    "    return results\n"
   ]
  },
  {
   "cell_type": "code",
   "execution_count": 73,
   "metadata": {},
   "outputs": [],
   "source": [
    "N_SAMPLES = 10\n",
    "\n",
    "results = []\n",
    "random_state = np.random.RandomState(5)\n",
    "dropped = 0\n",
    "\n",
    "while len(results) < N_SAMPLES:\n",
    "    result = {}\n",
    "\n",
    "    loader = random_state.choice(datasets)\n",
    "    dataset = loader()\n",
    "\n",
    "    X = dataset['data']\n",
    "    y = dataset['target']\n",
    "    name = dataset['name']\n",
    "\n",
    "    if random_state.randint(2) == 0:\n",
    "        y = 1 - y\n",
    "\n",
    "    p_total = np.sum(y)\n",
    "    n_total = len(y) - p_total\n",
    "\n",
    "    k = random_state.randint(2, 11)\n",
    "    while k > p_total:\n",
    "        k = random_state.randint(2, 11)\n",
    "\n",
    "    result = result | {'p': p_total, 'n': n_total, 'k': k, 'dataset': name}\n",
    "    \n",
    "    fold_results = []\n",
    "\n",
    "    classifier = generate_random_classifier(random_state)\n",
    "\n",
    "    result = result | {'classifier': classifier[0].__name__, 'classifier_params': str(classifier[1])}\n",
    "\n",
    "    classifier_obj = classifier[0](**classifier[1])\n",
    "    \n",
    "    for train, test in StratifiedKFold(n_splits=k, shuffle=True, random_state=random_state).split(X, y):\n",
    "        X_train = X[train]\n",
    "        X_test = X[test]\n",
    "        y_train = y[train]\n",
    "        y_test = y[test]\n",
    "\n",
    "        ss = StandardScaler()\n",
    "        X_train = ss.fit_transform(X_train)\n",
    "        X_test = ss.transform(X_test)\n",
    "\n",
    "        classifier_obj.fit(X_train, y_train)\n",
    "\n",
    "        y_pred = classifier_obj.predict_proba(X_test)[:, 1]\n",
    "        y_pred_train = classifier_obj.predict_proba(X_train)[:, 1]\n",
    "\n",
    "        scores = calculate_scores(y_test, y_pred, y_train, random_state)\n",
    "        scores_train = calculate_scores(y_train, y_pred_train, y_train, random_state, '_train')\n",
    "\n",
    "        auc = roc_auc_score(y_test, y_pred)\n",
    "        auc_train = roc_auc_score(y_train, y_pred_train)\n",
    "\n",
    "        fold_results.append(scores | scores_train | {'auc': auc, 'auc_train': auc_train, \n",
    "                'y_pred': y_pred, 'y_test': y_test, \n",
    "                'y_pred_train': y_pred_train, 'y_train': y_train})\n",
    "\n",
    "    if np.mean([record['auc'] for record in fold_results]) < 0.5:\n",
    "        dropped += 1\n",
    "        continue\n",
    "\n",
    "    result = result | process_results(fold_results, random_state)\n",
    "    \n",
    "    results.append(result)\n"
   ]
  },
  {
   "cell_type": "code",
   "execution_count": 74,
   "metadata": {},
   "outputs": [
    {
     "data": {
      "text/plain": [
       "0"
      ]
     },
     "execution_count": 74,
     "metadata": {},
     "output_type": "execute_result"
    }
   ],
   "source": [
    "dropped"
   ]
  },
  {
   "cell_type": "code",
   "execution_count": 75,
   "metadata": {},
   "outputs": [],
   "source": [
    "data = pd.DataFrame.from_dict(results)"
   ]
  },
  {
   "cell_type": "code",
   "execution_count": 76,
   "metadata": {},
   "outputs": [
    {
     "data": {
      "text/html": [
       "<div>\n",
       "<style scoped>\n",
       "    .dataframe tbody tr th:only-of-type {\n",
       "        vertical-align: middle;\n",
       "    }\n",
       "\n",
       "    .dataframe tbody tr th {\n",
       "        vertical-align: top;\n",
       "    }\n",
       "\n",
       "    .dataframe thead th {\n",
       "        text-align: right;\n",
       "    }\n",
       "</style>\n",
       "<table border=\"1\" class=\"dataframe\">\n",
       "  <thead>\n",
       "    <tr style=\"text-align: right;\">\n",
       "      <th></th>\n",
       "      <th>p</th>\n",
       "      <th>n</th>\n",
       "      <th>k</th>\n",
       "      <th>dataset</th>\n",
       "      <th>classifier</th>\n",
       "      <th>classifier_params</th>\n",
       "      <th>best_acc</th>\n",
       "      <th>best_sens</th>\n",
       "      <th>best_spec</th>\n",
       "      <th>best_acc_train</th>\n",
       "      <th>...</th>\n",
       "      <th>spec</th>\n",
       "      <th>auc</th>\n",
       "      <th>acc_train</th>\n",
       "      <th>sens_train</th>\n",
       "      <th>spec_train</th>\n",
       "      <th>auc_train</th>\n",
       "      <th>n_nodes</th>\n",
       "      <th>n_nodes_train</th>\n",
       "      <th>roc</th>\n",
       "      <th>roc_train</th>\n",
       "    </tr>\n",
       "  </thead>\n",
       "  <tbody>\n",
       "    <tr>\n",
       "      <th>0</th>\n",
       "      <td>200</td>\n",
       "      <td>145</td>\n",
       "      <td>8</td>\n",
       "      <td>bupa</td>\n",
       "      <td>SVC</td>\n",
       "      <td>{'probability': True, 'C': 0.4603054539689608}</td>\n",
       "      <td>0.579744</td>\n",
       "      <td>1.000000</td>\n",
       "      <td>0.000000</td>\n",
       "      <td>0.579711</td>\n",
       "      <td>...</td>\n",
       "      <td>0.649488</td>\n",
       "      <td>0.731784</td>\n",
       "      <td>0.752794</td>\n",
       "      <td>0.774286</td>\n",
       "      <td>0.723160</td>\n",
       "      <td>0.824103</td>\n",
       "      <td>19.75</td>\n",
       "      <td>100.250</td>\n",
       "      <td>[([0.0, 0.0, 0.10526315789473684, 0.1052631578...</td>\n",
       "      <td>[([0.0, 0.0, 0.007936507936507936, 0.007936507...</td>\n",
       "    </tr>\n",
       "    <tr>\n",
       "      <th>1</th>\n",
       "      <td>145</td>\n",
       "      <td>200</td>\n",
       "      <td>2</td>\n",
       "      <td>bupa</td>\n",
       "      <td>RandomForestClassifier</td>\n",
       "      <td>{'max_depth': 4, 'random_state': 5}</td>\n",
       "      <td>0.579715</td>\n",
       "      <td>0.000000</td>\n",
       "      <td>1.000000</td>\n",
       "      <td>0.579715</td>\n",
       "      <td>...</td>\n",
       "      <td>0.720000</td>\n",
       "      <td>0.733862</td>\n",
       "      <td>0.924620</td>\n",
       "      <td>0.937785</td>\n",
       "      <td>0.915000</td>\n",
       "      <td>0.977109</td>\n",
       "      <td>72.50</td>\n",
       "      <td>22.000</td>\n",
       "      <td>[([0.0, 0.01, 0.01, 0.02, 0.02, 0.03, 0.03, 0....</td>\n",
       "      <td>[([0.0, 0.0, 0.01, 0.01, 0.04, 0.04, 0.05, 0.0...</td>\n",
       "    </tr>\n",
       "    <tr>\n",
       "      <th>2</th>\n",
       "      <td>126</td>\n",
       "      <td>225</td>\n",
       "      <td>8</td>\n",
       "      <td>ionosphere</td>\n",
       "      <td>DecisionTreeClassifier</td>\n",
       "      <td>{'max_depth': 5, 'random_state': 5}</td>\n",
       "      <td>0.871829</td>\n",
       "      <td>0.785937</td>\n",
       "      <td>0.919643</td>\n",
       "      <td>0.963370</td>\n",
       "      <td>...</td>\n",
       "      <td>0.919643</td>\n",
       "      <td>0.888328</td>\n",
       "      <td>0.967441</td>\n",
       "      <td>0.911589</td>\n",
       "      <td>0.998731</td>\n",
       "      <td>0.970760</td>\n",
       "      <td>4.25</td>\n",
       "      <td>5.125</td>\n",
       "      <td>[([0.0, 0.0, 1.0], [0.0, 0.8666666666666667, 1...</td>\n",
       "      <td>[([0.0, 0.0, 0.07142857142857142, 0.9744897959...</td>\n",
       "    </tr>\n",
       "    <tr>\n",
       "      <th>3</th>\n",
       "      <td>145</td>\n",
       "      <td>200</td>\n",
       "      <td>2</td>\n",
       "      <td>bupa</td>\n",
       "      <td>SVC</td>\n",
       "      <td>{'probability': True, 'C': 0.08889747830955769}</td>\n",
       "      <td>0.579715</td>\n",
       "      <td>0.000000</td>\n",
       "      <td>1.000000</td>\n",
       "      <td>0.579715</td>\n",
       "      <td>...</td>\n",
       "      <td>0.615000</td>\n",
       "      <td>0.681413</td>\n",
       "      <td>0.756553</td>\n",
       "      <td>0.765696</td>\n",
       "      <td>0.750000</td>\n",
       "      <td>0.846906</td>\n",
       "      <td>78.50</td>\n",
       "      <td>53.500</td>\n",
       "      <td>[([0.0, 0.0, 0.01, 0.01, 0.04, 0.04, 0.05, 0.0...</td>\n",
       "      <td>[([0.0, 0.0, 0.01, 0.01, 0.02, 0.02, 0.03, 0.0...</td>\n",
       "    </tr>\n",
       "    <tr>\n",
       "      <th>4</th>\n",
       "      <td>429</td>\n",
       "      <td>1055</td>\n",
       "      <td>8</td>\n",
       "      <td>yeast1</td>\n",
       "      <td>SVC</td>\n",
       "      <td>{'probability': True, 'C': 0.2553153590001828}</td>\n",
       "      <td>0.710920</td>\n",
       "      <td>0.000000</td>\n",
       "      <td>1.000000</td>\n",
       "      <td>0.710917</td>\n",
       "      <td>...</td>\n",
       "      <td>0.839781</td>\n",
       "      <td>0.789363</td>\n",
       "      <td>0.776762</td>\n",
       "      <td>0.594738</td>\n",
       "      <td>0.850778</td>\n",
       "      <td>0.813447</td>\n",
       "      <td>61.00</td>\n",
       "      <td>385.125</td>\n",
       "      <td>[([0.0, 0.0, 0.007575757575757576, 0.007575757...</td>\n",
       "      <td>[([0.0, 0.0, 0.0010834236186348862, 0.00108342...</td>\n",
       "    </tr>\n",
       "  </tbody>\n",
       "</table>\n",
       "<p>5 rows × 24 columns</p>\n",
       "</div>"
      ],
      "text/plain": [
       "     p     n  k     dataset              classifier  \\\n",
       "0  200   145  8        bupa                     SVC   \n",
       "1  145   200  2        bupa  RandomForestClassifier   \n",
       "2  126   225  8  ionosphere  DecisionTreeClassifier   \n",
       "3  145   200  2        bupa                     SVC   \n",
       "4  429  1055  8      yeast1                     SVC   \n",
       "\n",
       "                                 classifier_params  best_acc  best_sens  \\\n",
       "0   {'probability': True, 'C': 0.4603054539689608}  0.579744   1.000000   \n",
       "1              {'max_depth': 4, 'random_state': 5}  0.579715   0.000000   \n",
       "2              {'max_depth': 5, 'random_state': 5}  0.871829   0.785937   \n",
       "3  {'probability': True, 'C': 0.08889747830955769}  0.579715   0.000000   \n",
       "4   {'probability': True, 'C': 0.2553153590001828}  0.710920   0.000000   \n",
       "\n",
       "   best_spec  best_acc_train  ...      spec       auc  acc_train  sens_train  \\\n",
       "0   0.000000        0.579711  ...  0.649488  0.731784   0.752794    0.774286   \n",
       "1   1.000000        0.579715  ...  0.720000  0.733862   0.924620    0.937785   \n",
       "2   0.919643        0.963370  ...  0.919643  0.888328   0.967441    0.911589   \n",
       "3   1.000000        0.579715  ...  0.615000  0.681413   0.756553    0.765696   \n",
       "4   1.000000        0.710917  ...  0.839781  0.789363   0.776762    0.594738   \n",
       "\n",
       "   spec_train  auc_train  n_nodes  n_nodes_train  \\\n",
       "0    0.723160   0.824103    19.75        100.250   \n",
       "1    0.915000   0.977109    72.50         22.000   \n",
       "2    0.998731   0.970760     4.25          5.125   \n",
       "3    0.750000   0.846906    78.50         53.500   \n",
       "4    0.850778   0.813447    61.00        385.125   \n",
       "\n",
       "                                                 roc  \\\n",
       "0  [([0.0, 0.0, 0.10526315789473684, 0.1052631578...   \n",
       "1  [([0.0, 0.01, 0.01, 0.02, 0.02, 0.03, 0.03, 0....   \n",
       "2  [([0.0, 0.0, 1.0], [0.0, 0.8666666666666667, 1...   \n",
       "3  [([0.0, 0.0, 0.01, 0.01, 0.04, 0.04, 0.05, 0.0...   \n",
       "4  [([0.0, 0.0, 0.007575757575757576, 0.007575757...   \n",
       "\n",
       "                                           roc_train  \n",
       "0  [([0.0, 0.0, 0.007936507936507936, 0.007936507...  \n",
       "1  [([0.0, 0.0, 0.01, 0.01, 0.04, 0.04, 0.05, 0.0...  \n",
       "2  [([0.0, 0.0, 0.07142857142857142, 0.9744897959...  \n",
       "3  [([0.0, 0.0, 0.01, 0.01, 0.02, 0.02, 0.03, 0.0...  \n",
       "4  [([0.0, 0.0, 0.0010834236186348862, 0.00108342...  \n",
       "\n",
       "[5 rows x 24 columns]"
      ]
     },
     "execution_count": 76,
     "metadata": {},
     "output_type": "execute_result"
    }
   ],
   "source": [
    "data.head()"
   ]
  },
  {
   "cell_type": "code",
   "execution_count": 79,
   "metadata": {},
   "outputs": [
    {
     "data": {
      "text/plain": [
       "p                                                                  200\n",
       "n                                                                  145\n",
       "k                                                                    8\n",
       "dataset                                                           bupa\n",
       "classifier                                                         SVC\n",
       "classifier_params       {'probability': True, 'C': 0.4603054539689608}\n",
       "best_acc                                                      0.579744\n",
       "best_sens                                                          1.0\n",
       "best_spec                                                          0.0\n",
       "best_acc_train                                                0.579711\n",
       "best_sens_train                                                    1.0\n",
       "best_spec_train                                                    0.0\n",
       "acc                                                           0.681224\n",
       "sens                                                             0.705\n",
       "spec                                                          0.649488\n",
       "auc                                                           0.731784\n",
       "acc_train                                                     0.752794\n",
       "sens_train                                                    0.774286\n",
       "spec_train                                                     0.72316\n",
       "auc_train                                                     0.824103\n",
       "n_nodes                                                          19.75\n",
       "n_nodes_train                                                   100.25\n",
       "roc                  [([0.0, 0.0, 0.10526315789473684, 0.1052631578...\n",
       "roc_train            [([0.0, 0.0, 0.007936507936507936, 0.007936507...\n",
       "Name: 0, dtype: object"
      ]
     },
     "execution_count": 79,
     "metadata": {},
     "output_type": "execute_result"
    }
   ],
   "source": [
    "data.iloc[0]"
   ]
  },
  {
   "cell_type": "code",
   "execution_count": 114,
   "metadata": {},
   "outputs": [],
   "source": [
    "row = data.iloc[0]"
   ]
  },
  {
   "cell_type": "code",
   "execution_count": 116,
   "metadata": {},
   "outputs": [],
   "source": [
    "roc_curves = eval(row['roc'], {'inf': np.inf})"
   ]
  },
  {
   "cell_type": "code",
   "execution_count": 188,
   "metadata": {},
   "outputs": [],
   "source": [
    "fprs0 = np.array(roc_curves[0][0])\n",
    "tprs0 = np.array(roc_curves[0][1])\n",
    "fprs1 = np.array(roc_curves[1][0])\n",
    "tprs1 = np.array(roc_curves[1][1])\n",
    "fprs2 = np.array(roc_curves[2][0])\n",
    "tprs2 = np.array(roc_curves[2][1])"
   ]
  },
  {
   "cell_type": "code",
   "execution_count": 189,
   "metadata": {},
   "outputs": [
    {
     "data": {
      "text/plain": [
       "[<matplotlib.lines.Line2D at 0x7f54b8fdb3e0>]"
      ]
     },
     "execution_count": 189,
     "metadata": {},
     "output_type": "execute_result"
    },
    {
     "data": {
      "image/png": "[encoded data removed]",
      "text/plain": [
       "<Figure size 640x480 with 1 Axes>"
      ]
     },
     "metadata": {},
     "output_type": "display_data"
    }
   ],
   "source": [
    "plt.plot(fprs0, tprs0)\n",
    "plt.plot(fprs1, tprs1)\n",
    "plt.plot(fprs2, tprs2)"
   ]
  },
  {
   "cell_type": "code",
   "execution_count": 190,
   "metadata": {},
   "outputs": [
    {
     "data": {
      "text/plain": [
       "(0.6631578947368422, 0.7133333333333334, 0.6066666666666668)"
      ]
     },
     "execution_count": 190,
     "metadata": {},
     "output_type": "execute_result"
    }
   ],
   "source": [
    "integrate_roc_curve(fprs0, tprs0), integrate_roc_curve(fprs1, tprs1), integrate_roc_curve(fprs2, tprs2)"
   ]
  },
  {
   "cell_type": "code",
   "execution_count": 192,
   "metadata": {},
   "outputs": [
    {
     "data": {
      "text/plain": [
       "np.float64(0.6610526315789474)"
      ]
     },
     "execution_count": 192,
     "metadata": {},
     "output_type": "execute_result"
    }
   ],
   "source": [
    "np.mean([integrate_roc_curve(fprs0, tprs0), integrate_roc_curve(fprs1, tprs1), integrate_roc_curve(fprs2, tprs2)])"
   ]
  },
  {
   "cell_type": "code",
   "execution_count": 139,
   "metadata": {},
   "outputs": [],
   "source": [
    "def roc_value_at(fpr, fprs, tprs):\n",
    "    values = []\n",
    "    for idx in range(len(fprs)):\n",
    "        if fprs[idx] == fpr:\n",
    "            values.append(tprs[idx])\n",
    "        elif idx < len(fprs) and fpr > fprs[idx] and fpr < fprs[idx+1]:\n",
    "            diff_left = fpr - fprs[idx]\n",
    "            diff_right = fprs[idx+1] - fpr\n",
    "\n",
    "            diff_sum = diff_left + diff_right\n",
    "\n",
    "            diff_left, diff_right = diff_left/diff_sum, diff_right/diff_sum\n",
    "\n",
    "            values.append(tprs[idx] * diff_right + tprs[idx+1]*diff_left)\n",
    "            break\n",
    "\n",
    "    return np.array([values])"
   ]
  },
  {
   "cell_type": "code",
   "execution_count": 140,
   "metadata": {},
   "outputs": [],
   "source": [
    "def avg_2_roc_curves_(fprs0, tprs0, fprs1, tprs1):\n",
    "    fprs_new = []\n",
    "    tprs_new = []\n",
    "    for fpr, tpr in zip(fprs0, tprs0):\n",
    "        tpr1s = roc_value_at(fpr, fprs1, tprs1)\n",
    "        for tpr1 in tpr1s:\n",
    "            fprs_new.append(fpr)\n",
    "            tprs_new.append((tpr + tpr1)/2)\n",
    "    \n",
    "    return np.array(fprs_new), np.array(tprs_new)"
   ]
  },
  {
   "cell_type": "code",
   "execution_count": 179,
   "metadata": {},
   "outputs": [],
   "source": [
    "def avg_n_roc_curves_(fprs0, tprs0, fprs, tprs):\n",
    "    fprs_new = []\n",
    "    tprs_new = []\n",
    "    for fpr, tpr in zip(fprs0, tprs0):\n",
    "        tpr_x = np.array([tpr, tpr])\n",
    "        for jdx in range(len(fprs)):\n",
    "            tpr_js = roc_value_at(fpr, fprs[jdx], tprs[jdx])\n",
    "            tpr_x += tpr_js\n",
    "        \n",
    "        fprs_new.append(fpr)\n",
    "        tprs_new.append(tpr_x[0]/(1 + len(fprs)))\n",
    "\n",
    "        if tpr_x[0] != tpr_x[1]:\n",
    "            fprs_new.append(fpr)\n",
    "            tprs_new.append(tpr_x[1]/(1 + len(fprs)))\n",
    "    \n",
    "    return np.array(fprs_new), np.array(tprs_new)"
   ]
  },
  {
   "cell_type": "code",
   "execution_count": 184,
   "metadata": {},
   "outputs": [],
   "source": [
    "def avg_n_roc_curves(fprs, tprs):\n",
    "    fprs_new = []\n",
    "    tprs_new = []\n",
    "\n",
    "    for idx in range(len(fprs)):\n",
    "        fprs_b = fprs[0:idx] + fprs[(idx+1):]\n",
    "        tprs_b = tprs[0:idx] + tprs[(idx+1):]\n",
    "        fprs_a, tprs_a = avg_n_roc_curves_(fprs[idx], tprs[idx], fprs_b, tprs_b)\n",
    "        fprs_new.append(fprs_a)\n",
    "        tprs_new.append(tprs_a)\n",
    "    \n",
    "    fprs5 = np.hstack(fprs_new)\n",
    "    tprs5 = np.hstack(tprs_new)\n",
    "\n",
    "    rates = np.vstack([fprs5, tprs5]).T.copy()\n",
    "\n",
    "    sorting = np.argsort(rates[:, 0])\n",
    "    rates = rates[sorting]\n",
    "    sorting = np.argsort(rates[:, 1])\n",
    "    rates = rates[sorting]\n",
    "    rates = np.unique(rates, axis=0)\n",
    "\n",
    "    fprs5 = rates[:, 0]\n",
    "    tprs5 = rates[:, 1]\n",
    "\n",
    "    fprs5, tprs5, _ = simplify_roc(fprs5, tprs5, np.repeat(0, len(fprs5)))\n",
    "\n",
    "    return fprs5, tprs5"
   ]
  },
  {
   "cell_type": "code",
   "execution_count": 180,
   "metadata": {},
   "outputs": [],
   "source": [
    "def avg_2_roc_curves(fprs0, tprs0, fprs1, tprs1):\n",
    "    #fprs3, tprs3 = avg_2_roc_curves_(fprs1, tprs1, fprs0, tprs0)\n",
    "    #fprs4, tprs4 = avg_2_roc_curves_(fprs0, tprs0, fprs1, tprs1)\n",
    "\n",
    "    fprs3, tprs3 = avg_n_roc_curves_(fprs1, tprs1, [fprs0], [tprs0])\n",
    "    fprs4, tprs4 = avg_n_roc_curves_(fprs0, tprs0, [fprs1], [tprs1])\n",
    "\n",
    "    fprs5 = np.hstack([fprs3, fprs4])\n",
    "    tprs5 = np.hstack([tprs3, tprs4])\n",
    "\n",
    "    rates = np.vstack([fprs5, tprs5]).T.copy()\n",
    "\n",
    "    sorting = np.argsort(rates[:, 0])\n",
    "    rates = rates[sorting]\n",
    "    sorting = np.argsort(rates[:, 1])\n",
    "    rates = rates[sorting]\n",
    "    rates = np.unique(rates, axis=0)\n",
    "\n",
    "    fprs5 = rates[:, 0]\n",
    "    tprs5 = rates[:, 1]\n",
    "\n",
    "    return fprs5, tprs5"
   ]
  },
  {
   "cell_type": "code",
   "execution_count": 181,
   "metadata": {},
   "outputs": [],
   "source": [
    "fprs5, tprs5 = avg_2_roc_curves(fprs0, tprs0, fprs1, tprs1)"
   ]
  },
  {
   "cell_type": "code",
   "execution_count": 193,
   "metadata": {},
   "outputs": [],
   "source": [
    "fprs5, tprs5 = avg_n_roc_curves([fprs0, fprs1, fprs2], [tprs0, tprs1, tprs2])"
   ]
  },
  {
   "cell_type": "code",
   "execution_count": 141,
   "metadata": {},
   "outputs": [],
   "source": []
  },
  {
   "cell_type": "code",
   "execution_count": 168,
   "metadata": {},
   "outputs": [],
   "source": []
  },
  {
   "cell_type": "code",
   "execution_count": 194,
   "metadata": {},
   "outputs": [
    {
     "data": {
      "text/plain": [
       "[<matplotlib.lines.Line2D at 0x7f54b8e955b0>]"
      ]
     },
     "execution_count": 194,
     "metadata": {},
     "output_type": "execute_result"
    },
    {
     "data": {
      "image/png": "[encoded data removed]",
      "text/plain": [
       "<Figure size 640x480 with 1 Axes>"
      ]
     },
     "metadata": {},
     "output_type": "display_data"
    }
   ],
   "source": [
    "\n",
    "plt.plot(fprs5, tprs5)"
   ]
  },
  {
   "cell_type": "code",
   "execution_count": 195,
   "metadata": {},
   "outputs": [
    {
     "data": {
      "text/plain": [
       "0.6610526315789473"
      ]
     },
     "execution_count": 195,
     "metadata": {},
     "output_type": "execute_result"
    }
   ],
   "source": [
    "integrate_roc_curve(fprs5, tprs5)"
   ]
  },
  {
   "cell_type": "code",
   "execution_count": 118,
   "metadata": {},
   "outputs": [],
   "source": [
    "fprs = []\n",
    "tprs = []\n",
    "for fpr, tpr, th in roc_curves:\n",
    "    fprs.append(fpr)\n",
    "    tprs.append(tpr)\n",
    "fprs = np.hstack(fprs)\n",
    "tprs = np.hstack(tprs)\n",
    "sorting = np.argsort(fprs)\n",
    "fprs = fprs[sorting]\n",
    "tprs = tprs[sorting]"
   ]
  },
  {
   "cell_type": "code",
   "execution_count": 119,
   "metadata": {},
   "outputs": [
    {
     "data": {
      "text/plain": [
       "(array([0.        , 0.        , 0.        , 0.        , 0.        ,\n",
       "        0.        , 0.        , 0.        , 0.        , 0.        ,\n",
       "        0.        , 0.        , 0.        , 0.        , 0.05555556,\n",
       "        0.05555556, 0.05555556, 0.05555556, 0.05555556, 0.05555556,\n",
       "        0.05555556, 0.05555556, 0.05555556, 0.05555556, 0.10526316,\n",
       "        0.10526316, 0.11111111, 0.11111111, 0.11111111, 0.11111111,\n",
       "        0.11111111, 0.11111111, 0.11111111, 0.11111111, 0.11111111,\n",
       "        0.11111111, 0.11111111, 0.11111111, 0.15789474, 0.15789474,\n",
       "        0.16666667, 0.16666667, 0.16666667, 0.16666667, 0.16666667,\n",
       "        0.16666667, 0.16666667, 0.16666667, 0.21052632, 0.21052632,\n",
       "        0.22222222, 0.22222222, 0.22222222, 0.22222222, 0.22222222,\n",
       "        0.22222222, 0.22222222, 0.22222222, 0.22222222, 0.22222222,\n",
       "        0.26315789, 0.26315789, 0.27777778, 0.27777778, 0.27777778,\n",
       "        0.27777778, 0.27777778, 0.27777778, 0.27777778, 0.27777778,\n",
       "        0.27777778, 0.27777778, 0.31578947, 0.31578947, 0.33333333,\n",
       "        0.33333333, 0.33333333, 0.33333333, 0.33333333, 0.33333333,\n",
       "        0.36842105, 0.36842105, 0.38888889, 0.38888889, 0.38888889,\n",
       "        0.38888889, 0.38888889, 0.38888889, 0.38888889, 0.38888889,\n",
       "        0.44444444, 0.44444444, 0.44444444, 0.44444444, 0.44444444,\n",
       "        0.44444444, 0.44444444, 0.44444444, 0.44444444, 0.44444444,\n",
       "        0.47368421, 0.47368421, 0.5       , 0.5       , 0.5       ,\n",
       "        0.5       , 0.5       , 0.5       , 0.55555556, 0.55555556,\n",
       "        0.55555556, 0.55555556, 0.55555556, 0.55555556, 0.57894737,\n",
       "        0.57894737, 0.61111111, 0.61111111, 0.61111111, 0.61111111,\n",
       "        0.63157895, 0.63157895, 0.66666667, 0.66666667, 0.66666667,\n",
       "        0.66666667, 0.66666667, 0.66666667, 0.72222222, 0.72222222,\n",
       "        0.72222222, 0.72222222, 0.77777778, 0.77777778, 0.83333333,\n",
       "        0.83333333, 0.83333333, 0.83333333, 0.84210526, 0.84210526,\n",
       "        0.88888889, 0.88888889, 0.89473684, 0.89473684, 0.94444444,\n",
       "        0.94444444, 0.94444444, 0.94444444, 0.94444444, 0.94444444,\n",
       "        1.        , 1.        , 1.        , 1.        , 1.        ,\n",
       "        1.        , 1.        , 1.        ]),\n",
       " array([0.  , 0.12, 0.  , 0.28, 0.  , 0.16, 0.08, 0.  , 0.  , 0.  , 0.  ,\n",
       "        0.16, 0.4 , 0.  , 0.08, 0.  , 0.  , 0.32, 0.36, 0.36, 0.4 , 0.16,\n",
       "        0.16, 0.2 , 0.12, 0.2 , 0.48, 0.36, 0.28, 0.4 , 0.2 , 0.24, 0.4 ,\n",
       "        0.56, 0.36, 0.68, 0.44, 0.4 , 0.2 , 0.32, 0.32, 0.44, 0.64, 0.52,\n",
       "        0.24, 0.36, 0.56, 0.6 , 0.32, 0.4 , 0.8 , 0.68, 0.52, 0.48, 0.52,\n",
       "        0.56, 0.52, 0.4 , 0.6 , 0.72, 0.4 , 0.44, 0.72, 0.76, 0.52, 0.56,\n",
       "        0.56, 0.64, 0.68, 0.88, 0.6 , 0.52, 0.52, 0.44, 0.88, 0.92, 0.56,\n",
       "        0.72, 0.6 , 0.64, 0.52, 0.68, 0.84, 0.8 , 0.8 , 0.76, 0.72, 0.8 ,\n",
       "        0.68, 0.84, 0.84, 0.92, 0.36, 0.84, 0.8 , 0.56, 0.96, 0.92, 0.84,\n",
       "        0.8 , 0.8 , 0.68, 0.84, 0.64, 0.56, 0.68, 1.  , 0.96, 0.84, 0.88,\n",
       "        0.68, 0.84, 0.92, 0.84, 0.88, 0.8 , 0.92, 0.96, 0.88, 0.92, 0.92,\n",
       "        0.88, 0.84, 0.88, 0.88, 0.84, 0.84, 0.92, 1.  , 0.96, 1.  , 0.92,\n",
       "        0.92, 0.88, 0.92, 1.  , 0.92, 0.88, 0.92, 0.96, 0.96, 0.92, 0.96,\n",
       "        1.  , 1.  , 1.  , 0.92, 0.92, 1.  , 0.96, 1.  , 1.  , 1.  , 1.  ,\n",
       "        1.  , 1.  , 1.  , 1.  ]))"
      ]
     },
     "execution_count": 119,
     "metadata": {},
     "output_type": "execute_result"
    }
   ],
   "source": [
    "fprs, tprs"
   ]
  },
  {
   "cell_type": "code",
   "execution_count": 120,
   "metadata": {},
   "outputs": [
    {
     "data": {
      "text/plain": [
       "<matplotlib.collections.PathCollection at 0x7f54fce15700>"
      ]
     },
     "execution_count": 120,
     "metadata": {},
     "output_type": "execute_result"
    },
    {
     "data": {
      "image/png": "[encoded data removed]",
      "text/plain": [
       "<Figure size 640x480 with 1 Axes>"
      ]
     },
     "metadata": {},
     "output_type": "display_data"
    }
   ],
   "source": [
    "plt.scatter(fprs, tprs)"
   ]
  },
  {
   "cell_type": "code",
   "execution_count": 77,
   "metadata": {},
   "outputs": [],
   "source": [
    "data.to_csv('raw-aggregated4.csv')"
   ]
  },
  {
   "cell_type": "code",
   "execution_count": 78,
   "metadata": {},
   "outputs": [
    {
     "data": {
      "text/html": [
       "<div>\n",
       "<style scoped>\n",
       "    .dataframe tbody tr th:only-of-type {\n",
       "        vertical-align: middle;\n",
       "    }\n",
       "\n",
       "    .dataframe tbody tr th {\n",
       "        vertical-align: top;\n",
       "    }\n",
       "\n",
       "    .dataframe thead th {\n",
       "        text-align: right;\n",
       "    }\n",
       "</style>\n",
       "<table border=\"1\" class=\"dataframe\">\n",
       "  <thead>\n",
       "    <tr style=\"text-align: right;\">\n",
       "      <th></th>\n",
       "      <th>p</th>\n",
       "      <th>n</th>\n",
       "      <th>k</th>\n",
       "      <th>dataset</th>\n",
       "      <th>classifier</th>\n",
       "      <th>classifier_params</th>\n",
       "      <th>best_acc</th>\n",
       "      <th>best_sens</th>\n",
       "      <th>best_spec</th>\n",
       "      <th>best_acc_train</th>\n",
       "      <th>...</th>\n",
       "      <th>spec</th>\n",
       "      <th>auc</th>\n",
       "      <th>acc_train</th>\n",
       "      <th>sens_train</th>\n",
       "      <th>spec_train</th>\n",
       "      <th>auc_train</th>\n",
       "      <th>n_nodes</th>\n",
       "      <th>n_nodes_train</th>\n",
       "      <th>roc</th>\n",
       "      <th>roc_train</th>\n",
       "    </tr>\n",
       "  </thead>\n",
       "  <tbody>\n",
       "    <tr>\n",
       "      <th>0</th>\n",
       "      <td>200</td>\n",
       "      <td>145</td>\n",
       "      <td>8</td>\n",
       "      <td>bupa</td>\n",
       "      <td>SVC</td>\n",
       "      <td>{'probability': True, 'C': 0.4603054539689608}</td>\n",
       "      <td>0.579744</td>\n",
       "      <td>1.000000</td>\n",
       "      <td>0.000000</td>\n",
       "      <td>0.579711</td>\n",
       "      <td>...</td>\n",
       "      <td>0.649488</td>\n",
       "      <td>0.731784</td>\n",
       "      <td>0.752794</td>\n",
       "      <td>0.774286</td>\n",
       "      <td>0.723160</td>\n",
       "      <td>0.824103</td>\n",
       "      <td>19.75</td>\n",
       "      <td>100.250</td>\n",
       "      <td>[([0.0, 0.0, 0.10526315789473684, 0.1052631578...</td>\n",
       "      <td>[([0.0, 0.0, 0.007936507936507936, 0.007936507...</td>\n",
       "    </tr>\n",
       "    <tr>\n",
       "      <th>1</th>\n",
       "      <td>145</td>\n",
       "      <td>200</td>\n",
       "      <td>2</td>\n",
       "      <td>bupa</td>\n",
       "      <td>RandomForestClassifier</td>\n",
       "      <td>{'max_depth': 4, 'random_state': 5}</td>\n",
       "      <td>0.579715</td>\n",
       "      <td>0.000000</td>\n",
       "      <td>1.000000</td>\n",
       "      <td>0.579715</td>\n",
       "      <td>...</td>\n",
       "      <td>0.720000</td>\n",
       "      <td>0.733862</td>\n",
       "      <td>0.924620</td>\n",
       "      <td>0.937785</td>\n",
       "      <td>0.915000</td>\n",
       "      <td>0.977109</td>\n",
       "      <td>72.50</td>\n",
       "      <td>22.000</td>\n",
       "      <td>[([0.0, 0.01, 0.01, 0.02, 0.02, 0.03, 0.03, 0....</td>\n",
       "      <td>[([0.0, 0.0, 0.01, 0.01, 0.04, 0.04, 0.05, 0.0...</td>\n",
       "    </tr>\n",
       "    <tr>\n",
       "      <th>2</th>\n",
       "      <td>126</td>\n",
       "      <td>225</td>\n",
       "      <td>8</td>\n",
       "      <td>ionosphere</td>\n",
       "      <td>DecisionTreeClassifier</td>\n",
       "      <td>{'max_depth': 5, 'random_state': 5}</td>\n",
       "      <td>0.871829</td>\n",
       "      <td>0.785937</td>\n",
       "      <td>0.919643</td>\n",
       "      <td>0.963370</td>\n",
       "      <td>...</td>\n",
       "      <td>0.919643</td>\n",
       "      <td>0.888328</td>\n",
       "      <td>0.967441</td>\n",
       "      <td>0.911589</td>\n",
       "      <td>0.998731</td>\n",
       "      <td>0.970760</td>\n",
       "      <td>4.25</td>\n",
       "      <td>5.125</td>\n",
       "      <td>[([0.0, 0.0, 1.0], [0.0, 0.8666666666666667, 1...</td>\n",
       "      <td>[([0.0, 0.0, 0.07142857142857142, 0.9744897959...</td>\n",
       "    </tr>\n",
       "    <tr>\n",
       "      <th>3</th>\n",
       "      <td>145</td>\n",
       "      <td>200</td>\n",
       "      <td>2</td>\n",
       "      <td>bupa</td>\n",
       "      <td>SVC</td>\n",
       "      <td>{'probability': True, 'C': 0.08889747830955769}</td>\n",
       "      <td>0.579715</td>\n",
       "      <td>0.000000</td>\n",
       "      <td>1.000000</td>\n",
       "      <td>0.579715</td>\n",
       "      <td>...</td>\n",
       "      <td>0.615000</td>\n",
       "      <td>0.681413</td>\n",
       "      <td>0.756553</td>\n",
       "      <td>0.765696</td>\n",
       "      <td>0.750000</td>\n",
       "      <td>0.846906</td>\n",
       "      <td>78.50</td>\n",
       "      <td>53.500</td>\n",
       "      <td>[([0.0, 0.0, 0.01, 0.01, 0.04, 0.04, 0.05, 0.0...</td>\n",
       "      <td>[([0.0, 0.0, 0.01, 0.01, 0.02, 0.02, 0.03, 0.0...</td>\n",
       "    </tr>\n",
       "    <tr>\n",
       "      <th>4</th>\n",
       "      <td>429</td>\n",
       "      <td>1055</td>\n",
       "      <td>8</td>\n",
       "      <td>yeast1</td>\n",
       "      <td>SVC</td>\n",
       "      <td>{'probability': True, 'C': 0.2553153590001828}</td>\n",
       "      <td>0.710920</td>\n",
       "      <td>0.000000</td>\n",
       "      <td>1.000000</td>\n",
       "      <td>0.710917</td>\n",
       "      <td>...</td>\n",
       "      <td>0.839781</td>\n",
       "      <td>0.789363</td>\n",
       "      <td>0.776762</td>\n",
       "      <td>0.594738</td>\n",
       "      <td>0.850778</td>\n",
       "      <td>0.813447</td>\n",
       "      <td>61.00</td>\n",
       "      <td>385.125</td>\n",
       "      <td>[([0.0, 0.0, 0.007575757575757576, 0.007575757...</td>\n",
       "      <td>[([0.0, 0.0, 0.0010834236186348862, 0.00108342...</td>\n",
       "    </tr>\n",
       "  </tbody>\n",
       "</table>\n",
       "<p>5 rows × 24 columns</p>\n",
       "</div>"
      ],
      "text/plain": [
       "     p     n  k     dataset              classifier  \\\n",
       "0  200   145  8        bupa                     SVC   \n",
       "1  145   200  2        bupa  RandomForestClassifier   \n",
       "2  126   225  8  ionosphere  DecisionTreeClassifier   \n",
       "3  145   200  2        bupa                     SVC   \n",
       "4  429  1055  8      yeast1                     SVC   \n",
       "\n",
       "                                 classifier_params  best_acc  best_sens  \\\n",
       "0   {'probability': True, 'C': 0.4603054539689608}  0.579744   1.000000   \n",
       "1              {'max_depth': 4, 'random_state': 5}  0.579715   0.000000   \n",
       "2              {'max_depth': 5, 'random_state': 5}  0.871829   0.785937   \n",
       "3  {'probability': True, 'C': 0.08889747830955769}  0.579715   0.000000   \n",
       "4   {'probability': True, 'C': 0.2553153590001828}  0.710920   0.000000   \n",
       "\n",
       "   best_spec  best_acc_train  ...      spec       auc  acc_train  sens_train  \\\n",
       "0   0.000000        0.579711  ...  0.649488  0.731784   0.752794    0.774286   \n",
       "1   1.000000        0.579715  ...  0.720000  0.733862   0.924620    0.937785   \n",
       "2   0.919643        0.963370  ...  0.919643  0.888328   0.967441    0.911589   \n",
       "3   1.000000        0.579715  ...  0.615000  0.681413   0.756553    0.765696   \n",
       "4   1.000000        0.710917  ...  0.839781  0.789363   0.776762    0.594738   \n",
       "\n",
       "   spec_train  auc_train  n_nodes  n_nodes_train  \\\n",
       "0    0.723160   0.824103    19.75        100.250   \n",
       "1    0.915000   0.977109    72.50         22.000   \n",
       "2    0.998731   0.970760     4.25          5.125   \n",
       "3    0.750000   0.846906    78.50         53.500   \n",
       "4    0.850778   0.813447    61.00        385.125   \n",
       "\n",
       "                                                 roc  \\\n",
       "0  [([0.0, 0.0, 0.10526315789473684, 0.1052631578...   \n",
       "1  [([0.0, 0.01, 0.01, 0.02, 0.02, 0.03, 0.03, 0....   \n",
       "2  [([0.0, 0.0, 1.0], [0.0, 0.8666666666666667, 1...   \n",
       "3  [([0.0, 0.0, 0.01, 0.01, 0.04, 0.04, 0.05, 0.0...   \n",
       "4  [([0.0, 0.0, 0.007575757575757576, 0.007575757...   \n",
       "\n",
       "                                           roc_train  \n",
       "0  [([0.0, 0.0, 0.007936507936507936, 0.007936507...  \n",
       "1  [([0.0, 0.0, 0.01, 0.01, 0.04, 0.04, 0.05, 0.0...  \n",
       "2  [([0.0, 0.0, 0.07142857142857142, 0.9744897959...  \n",
       "3  [([0.0, 0.0, 0.01, 0.01, 0.02, 0.02, 0.03, 0.0...  \n",
       "4  [([0.0, 0.0, 0.0010834236186348862, 0.00108342...  \n",
       "\n",
       "[5 rows x 24 columns]"
      ]
     },
     "execution_count": 78,
     "metadata": {},
     "output_type": "execute_result"
    }
   ],
   "source": [
    "data.head()"
   ]
  }
 ],
 "metadata": {
  "kernelspec": {
   "display_name": "mlscorecheck",
   "language": "python",
   "name": "python3"
  },
  "language_info": {
   "codemirror_mode": {
    "name": "ipython",
    "version": 3
   },
   "file_extension": ".py",
   "mimetype": "text/x-python",
   "name": "python",
   "nbconvert_exporter": "python",
   "pygments_lexer": "ipython3",
   "version": "3.12.0"
  }
 },
 "nbformat": 4,
 "nbformat_minor": 2
}
