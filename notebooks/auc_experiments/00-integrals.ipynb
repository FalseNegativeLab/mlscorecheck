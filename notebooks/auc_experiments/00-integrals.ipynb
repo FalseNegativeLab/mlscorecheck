{
 "cells": [
  {
   "cell_type": "code",
   "execution_count": 5,
   "metadata": {},
   "outputs": [],
   "source": [
    "import numpy as np\n",
    "import sympy as sp"
   ]
  },
  {
   "cell_type": "code",
   "execution_count": 6,
   "metadata": {},
   "outputs": [],
   "source": [
    "x = sp.Symbol('x', positive=True)\n",
    "etpr = sp.Symbol('etpr', positive=True)\n",
    "efpr = sp.Symbol('efpr', positive=True)\n",
    "\n",
    "fpr = (1 - (1 - x)**efpr)**(1/efpr)\n",
    "tpr = (1 - (1 - x)**etpr)**(1/etpr)"
   ]
  },
  {
   "cell_type": "code",
   "execution_count": 20,
   "metadata": {},
   "outputs": [
    {
     "data": {
      "text/latex": [
       "$\\displaystyle \\frac{\\left(1 - \\left(1 - x\\right)^{etpr}\\right)^{\\frac{1 - etpr}{etpr}} \\left(- etpr \\left(1 - x\\right)^{etpr} \\log{\\left(1 - x \\right)} + \\left(\\left(1 - x\\right)^{etpr} - 1\\right) \\log{\\left(1 - \\left(1 - x\\right)^{etpr} \\right)}\\right)}{etpr^{2}}$"
      ],
      "text/plain": [
       "(1 - (1 - x)**etpr)**((1 - etpr)/etpr)*(-etpr*(1 - x)**etpr*log(1 - x) + ((1 - x)**etpr - 1)*log(1 - (1 - x)**etpr))/etpr**2"
      ]
     },
     "execution_count": 20,
     "metadata": {},
     "output_type": "execute_result"
    }
   ],
   "source": [
    "sp.simplify(sp.diff(tpr, etpr))"
   ]
  },
  {
   "cell_type": "code",
   "execution_count": 10,
   "metadata": {},
   "outputs": [
    {
     "data": {
      "text/latex": [
       "$\\displaystyle \\left(1 - x\\right)^{etpr - 1} \\left(1 - \\left(1 - x\\right)^{efpr}\\right)^{\\frac{1}{efpr}} \\left(1 - \\left(1 - x\\right)^{etpr}\\right)^{\\frac{1 - etpr}{etpr}}$"
      ],
      "text/plain": [
       "(1 - x)**(etpr - 1)*(1 - (1 - x)**efpr)**(1/efpr)*(1 - (1 - x)**etpr)**((1 - etpr)/etpr)"
      ]
     },
     "execution_count": 10,
     "metadata": {},
     "output_type": "execute_result"
    }
   ],
   "source": [
    "integrand = sp.simplify(fpr*sp.diff(tpr, x))\n",
    "integrand"
   ]
  },
  {
   "cell_type": "code",
   "execution_count": 18,
   "metadata": {},
   "outputs": [
    {
     "data": {
      "text/latex": [
       "$\\displaystyle \\text{NaN}$"
      ],
      "text/plain": [
       "nan"
      ]
     },
     "execution_count": 18,
     "metadata": {},
     "output_type": "execute_result"
    }
   ],
   "source": [
    "sp.diff(integrand, efpr).subs({efpr: 0})"
   ]
  },
  {
   "cell_type": "code",
   "execution_count": 14,
   "metadata": {},
   "outputs": [
    {
     "name": "stdout",
     "output_type": "stream",
     "text": [
      "O(etpr**5)\n"
     ]
    }
   ],
   "source": [
    "tmp = integrand.series(etpr, 0, 5)"
   ]
  },
  {
   "cell_type": "code",
   "execution_count": 11,
   "metadata": {},
   "outputs": [
    {
     "ename": "KeyboardInterrupt",
     "evalue": "",
     "output_type": "error",
     "traceback": [
      "\u001b[0;31m---------------------------------------------------------------------------\u001b[0m",
      "\u001b[0;31mKeyboardInterrupt\u001b[0m                         Traceback (most recent call last)",
      "Cell \u001b[0;32mIn[11], line 1\u001b[0m\n\u001b[0;32m----> 1\u001b[0m area \u001b[38;5;241m=\u001b[39m sp\u001b[38;5;241m.\u001b[39mintegrate(integrand, (x, \u001b[38;5;241m0\u001b[39m, \u001b[38;5;241m1\u001b[39m))\n",
      "File \u001b[0;32m~/anaconda3/envs/mlscorecheck/lib/python3.12/site-packages/sympy/integrals/integrals.py:1567\u001b[0m, in \u001b[0;36mintegrate\u001b[0;34m(meijerg, conds, risch, heurisch, manual, *args, **kwargs)\u001b[0m\n\u001b[1;32m   1564\u001b[0m integral \u001b[38;5;241m=\u001b[39m Integral(\u001b[38;5;241m*\u001b[39margs, \u001b[38;5;241m*\u001b[39m\u001b[38;5;241m*\u001b[39mkwargs)\n\u001b[1;32m   1566\u001b[0m \u001b[38;5;28;01mif\u001b[39;00m \u001b[38;5;28misinstance\u001b[39m(integral, Integral):\n\u001b[0;32m-> 1567\u001b[0m     \u001b[38;5;28;01mreturn\u001b[39;00m integral\u001b[38;5;241m.\u001b[39mdoit(\u001b[38;5;241m*\u001b[39m\u001b[38;5;241m*\u001b[39mdoit_flags)\n\u001b[1;32m   1568\u001b[0m \u001b[38;5;28;01melse\u001b[39;00m:\n\u001b[1;32m   1569\u001b[0m     new_args \u001b[38;5;241m=\u001b[39m [a\u001b[38;5;241m.\u001b[39mdoit(\u001b[38;5;241m*\u001b[39m\u001b[38;5;241m*\u001b[39mdoit_flags) \u001b[38;5;28;01mif\u001b[39;00m \u001b[38;5;28misinstance\u001b[39m(a, Integral) \u001b[38;5;28;01melse\u001b[39;00m a\n\u001b[1;32m   1570\u001b[0m         \u001b[38;5;28;01mfor\u001b[39;00m a \u001b[38;5;129;01min\u001b[39;00m integral\u001b[38;5;241m.\u001b[39margs]\n",
      "File \u001b[0;32m~/anaconda3/envs/mlscorecheck/lib/python3.12/site-packages/sympy/integrals/integrals.py:612\u001b[0m, in \u001b[0;36mIntegral.doit\u001b[0;34m(self, **hints)\u001b[0m\n\u001b[1;32m    610\u001b[0m     antideriv \u001b[38;5;241m=\u001b[39m \u001b[38;5;28;01mNone\u001b[39;00m\n\u001b[1;32m    611\u001b[0m \u001b[38;5;28;01melse\u001b[39;00m:\n\u001b[0;32m--> 612\u001b[0m     antideriv \u001b[38;5;241m=\u001b[39m \u001b[38;5;28mself\u001b[39m\u001b[38;5;241m.\u001b[39m_eval_integral(\n\u001b[1;32m    613\u001b[0m         function, xab[\u001b[38;5;241m0\u001b[39m], \u001b[38;5;241m*\u001b[39m\u001b[38;5;241m*\u001b[39meval_kwargs)\n\u001b[1;32m    614\u001b[0m     \u001b[38;5;28;01mif\u001b[39;00m antideriv \u001b[38;5;129;01mis\u001b[39;00m \u001b[38;5;28;01mNone\u001b[39;00m \u001b[38;5;129;01mand\u001b[39;00m meijerg \u001b[38;5;129;01mis\u001b[39;00m \u001b[38;5;28;01mTrue\u001b[39;00m:\n\u001b[1;32m    615\u001b[0m         ret \u001b[38;5;241m=\u001b[39m try_meijerg(function, xab)\n",
      "File \u001b[0;32m~/anaconda3/envs/mlscorecheck/lib/python3.12/site-packages/sympy/integrals/integrals.py:1084\u001b[0m, in \u001b[0;36mIntegral._eval_integral\u001b[0;34m(self, f, x, meijerg, risch, manual, heurisch, conds, final)\u001b[0m\n\u001b[1;32m   1082\u001b[0m \u001b[38;5;28;01mtry\u001b[39;00m:\n\u001b[1;32m   1083\u001b[0m     \u001b[38;5;28;01mif\u001b[39;00m conds \u001b[38;5;241m==\u001b[39m \u001b[38;5;124m'\u001b[39m\u001b[38;5;124mpiecewise\u001b[39m\u001b[38;5;124m'\u001b[39m:\n\u001b[0;32m-> 1084\u001b[0m         h \u001b[38;5;241m=\u001b[39m heurisch_wrapper(g, x, hints\u001b[38;5;241m=\u001b[39m[])\n\u001b[1;32m   1085\u001b[0m     \u001b[38;5;28;01melse\u001b[39;00m:\n\u001b[1;32m   1086\u001b[0m         h \u001b[38;5;241m=\u001b[39m heurisch_(g, x, hints\u001b[38;5;241m=\u001b[39m[])\n",
      "File \u001b[0;32m~/anaconda3/envs/mlscorecheck/lib/python3.12/site-packages/sympy/integrals/heurisch.py:143\u001b[0m, in \u001b[0;36mheurisch_wrapper\u001b[0;34m(f, x, rewrite, hints, mappings, retries, degree_offset, unnecessary_permutations, _try_heurisch)\u001b[0m\n\u001b[1;32m    140\u001b[0m \u001b[38;5;28;01mif\u001b[39;00m \u001b[38;5;129;01mnot\u001b[39;00m f\u001b[38;5;241m.\u001b[39mhas_free(x):\n\u001b[1;32m    141\u001b[0m     \u001b[38;5;28;01mreturn\u001b[39;00m f\u001b[38;5;241m*\u001b[39mx\n\u001b[0;32m--> 143\u001b[0m res \u001b[38;5;241m=\u001b[39m heurisch(f, x, rewrite, hints, mappings, retries, degree_offset,\n\u001b[1;32m    144\u001b[0m                unnecessary_permutations, _try_heurisch)\n\u001b[1;32m    145\u001b[0m \u001b[38;5;28;01mif\u001b[39;00m \u001b[38;5;129;01mnot\u001b[39;00m \u001b[38;5;28misinstance\u001b[39m(res, Basic):\n\u001b[1;32m    146\u001b[0m     \u001b[38;5;28;01mreturn\u001b[39;00m res\n",
      "File \u001b[0;32m~/anaconda3/envs/mlscorecheck/lib/python3.12/site-packages/sympy/integrals/heurisch.py:749\u001b[0m, in \u001b[0;36mheurisch\u001b[0;34m(f, x, rewrite, hints, mappings, retries, degree_offset, unnecessary_permutations, _try_heurisch)\u001b[0m\n\u001b[1;32m    745\u001b[0m     more_free \u001b[38;5;241m=\u001b[39m Fd\u001b[38;5;241m.\u001b[39mxreplace(\u001b[38;5;28mdict\u001b[39m(\u001b[38;5;28mzip\u001b[39m(V, (Dummy() \u001b[38;5;28;01mfor\u001b[39;00m _ \u001b[38;5;129;01min\u001b[39;00m V)))\n\u001b[1;32m    746\u001b[0m         )\u001b[38;5;241m.\u001b[39mfree_symbols \u001b[38;5;241m&\u001b[39m Fd\u001b[38;5;241m.\u001b[39mfree_symbols\n\u001b[1;32m    747\u001b[0m \u001b[38;5;28;01mif\u001b[39;00m \u001b[38;5;129;01mnot\u001b[39;00m more_free:\n\u001b[1;32m    748\u001b[0m     \u001b[38;5;66;03m# all free generators are identified in V\u001b[39;00m\n\u001b[0;32m--> 749\u001b[0m     solution \u001b[38;5;241m=\u001b[39m _integrate(\u001b[38;5;124m'\u001b[39m\u001b[38;5;124mQ\u001b[39m\u001b[38;5;124m'\u001b[39m)\n\u001b[1;32m    751\u001b[0m     \u001b[38;5;28;01mif\u001b[39;00m solution \u001b[38;5;129;01mis\u001b[39;00m \u001b[38;5;28;01mNone\u001b[39;00m:\n\u001b[1;32m    752\u001b[0m         solution \u001b[38;5;241m=\u001b[39m _integrate()\n",
      "File \u001b[0;32m~/anaconda3/envs/mlscorecheck/lib/python3.12/site-packages/sympy/integrals/heurisch.py:721\u001b[0m, in \u001b[0;36mheurisch.<locals>._integrate\u001b[0;34m(field)\u001b[0m\n\u001b[1;32m    718\u001b[0m         \u001b[38;5;28;01mraise\u001b[39;00m PolynomialError\n\u001b[1;32m    720\u001b[0m \u001b[38;5;28;01mtry\u001b[39;00m:\n\u001b[0;32m--> 721\u001b[0m     find_non_syms(raw_numer)\n\u001b[1;32m    722\u001b[0m \u001b[38;5;28;01mexcept\u001b[39;00m PolynomialError:\n\u001b[1;32m    723\u001b[0m     \u001b[38;5;28;01mreturn\u001b[39;00m \u001b[38;5;28;01mNone\u001b[39;00m\n",
      "File \u001b[0;32m~/anaconda3/envs/mlscorecheck/lib/python3.12/site-packages/sympy/integrals/heurisch.py:714\u001b[0m, in \u001b[0;36mheurisch.<locals>._integrate.<locals>.find_non_syms\u001b[0;34m(expr)\u001b[0m\n\u001b[1;32m    712\u001b[0m     non_syms\u001b[38;5;241m.\u001b[39madd(expr)\n\u001b[1;32m    713\u001b[0m \u001b[38;5;28;01melif\u001b[39;00m expr\u001b[38;5;241m.\u001b[39mis_Add \u001b[38;5;129;01mor\u001b[39;00m expr\u001b[38;5;241m.\u001b[39mis_Mul \u001b[38;5;129;01mor\u001b[39;00m expr\u001b[38;5;241m.\u001b[39mis_Pow:\n\u001b[0;32m--> 714\u001b[0m     \u001b[38;5;28mlist\u001b[39m(\u001b[38;5;28mmap\u001b[39m(find_non_syms, expr\u001b[38;5;241m.\u001b[39margs))\n\u001b[1;32m    715\u001b[0m \u001b[38;5;28;01melse\u001b[39;00m:\n\u001b[1;32m    716\u001b[0m     \u001b[38;5;66;03m# TODO: Non-polynomial expression. This should have been\u001b[39;00m\n\u001b[1;32m    717\u001b[0m     \u001b[38;5;66;03m# filtered out at an earlier stage.\u001b[39;00m\n\u001b[1;32m    718\u001b[0m     \u001b[38;5;28;01mraise\u001b[39;00m PolynomialError\n",
      "File \u001b[0;32m~/anaconda3/envs/mlscorecheck/lib/python3.12/site-packages/sympy/integrals/heurisch.py:714\u001b[0m, in \u001b[0;36mheurisch.<locals>._integrate.<locals>.find_non_syms\u001b[0;34m(expr)\u001b[0m\n\u001b[1;32m    712\u001b[0m     non_syms\u001b[38;5;241m.\u001b[39madd(expr)\n\u001b[1;32m    713\u001b[0m \u001b[38;5;28;01melif\u001b[39;00m expr\u001b[38;5;241m.\u001b[39mis_Add \u001b[38;5;129;01mor\u001b[39;00m expr\u001b[38;5;241m.\u001b[39mis_Mul \u001b[38;5;129;01mor\u001b[39;00m expr\u001b[38;5;241m.\u001b[39mis_Pow:\n\u001b[0;32m--> 714\u001b[0m     \u001b[38;5;28mlist\u001b[39m(\u001b[38;5;28mmap\u001b[39m(find_non_syms, expr\u001b[38;5;241m.\u001b[39margs))\n\u001b[1;32m    715\u001b[0m \u001b[38;5;28;01melse\u001b[39;00m:\n\u001b[1;32m    716\u001b[0m     \u001b[38;5;66;03m# TODO: Non-polynomial expression. This should have been\u001b[39;00m\n\u001b[1;32m    717\u001b[0m     \u001b[38;5;66;03m# filtered out at an earlier stage.\u001b[39;00m\n\u001b[1;32m    718\u001b[0m     \u001b[38;5;28;01mraise\u001b[39;00m PolynomialError\n",
      "    \u001b[0;31m[... skipping similar frames: heurisch.<locals>._integrate.<locals>.find_non_syms at line 714 (2 times)]\u001b[0m\n",
      "File \u001b[0;32m~/anaconda3/envs/mlscorecheck/lib/python3.12/site-packages/sympy/integrals/heurisch.py:714\u001b[0m, in \u001b[0;36mheurisch.<locals>._integrate.<locals>.find_non_syms\u001b[0;34m(expr)\u001b[0m\n\u001b[1;32m    712\u001b[0m     non_syms\u001b[38;5;241m.\u001b[39madd(expr)\n\u001b[1;32m    713\u001b[0m \u001b[38;5;28;01melif\u001b[39;00m expr\u001b[38;5;241m.\u001b[39mis_Add \u001b[38;5;129;01mor\u001b[39;00m expr\u001b[38;5;241m.\u001b[39mis_Mul \u001b[38;5;129;01mor\u001b[39;00m expr\u001b[38;5;241m.\u001b[39mis_Pow:\n\u001b[0;32m--> 714\u001b[0m     \u001b[38;5;28mlist\u001b[39m(\u001b[38;5;28mmap\u001b[39m(find_non_syms, expr\u001b[38;5;241m.\u001b[39margs))\n\u001b[1;32m    715\u001b[0m \u001b[38;5;28;01melse\u001b[39;00m:\n\u001b[1;32m    716\u001b[0m     \u001b[38;5;66;03m# TODO: Non-polynomial expression. This should have been\u001b[39;00m\n\u001b[1;32m    717\u001b[0m     \u001b[38;5;66;03m# filtered out at an earlier stage.\u001b[39;00m\n\u001b[1;32m    718\u001b[0m     \u001b[38;5;28;01mraise\u001b[39;00m PolynomialError\n",
      "File \u001b[0;32m~/anaconda3/envs/mlscorecheck/lib/python3.12/site-packages/sympy/integrals/heurisch.py:711\u001b[0m, in \u001b[0;36mheurisch.<locals>._integrate.<locals>.find_non_syms\u001b[0;34m(expr)\u001b[0m\n\u001b[1;32m    709\u001b[0m \u001b[38;5;28;01melif\u001b[39;00m expr \u001b[38;5;129;01min\u001b[39;00m syms:\n\u001b[1;32m    710\u001b[0m     \u001b[38;5;28;01mpass\u001b[39;00m \u001b[38;5;66;03m# ignore variables\u001b[39;00m\n\u001b[0;32m--> 711\u001b[0m \u001b[38;5;28;01melif\u001b[39;00m \u001b[38;5;129;01mnot\u001b[39;00m expr\u001b[38;5;241m.\u001b[39mhas_free(\u001b[38;5;241m*\u001b[39msyms):\n\u001b[1;32m    712\u001b[0m     non_syms\u001b[38;5;241m.\u001b[39madd(expr)\n\u001b[1;32m    713\u001b[0m \u001b[38;5;28;01melif\u001b[39;00m expr\u001b[38;5;241m.\u001b[39mis_Add \u001b[38;5;129;01mor\u001b[39;00m expr\u001b[38;5;241m.\u001b[39mis_Mul \u001b[38;5;129;01mor\u001b[39;00m expr\u001b[38;5;241m.\u001b[39mis_Pow:\n",
      "File \u001b[0;32m~/anaconda3/envs/mlscorecheck/lib/python3.12/site-packages/sympy/core/cache.py:72\u001b[0m, in \u001b[0;36m__cacheit.<locals>.func_wrapper.<locals>.wrapper\u001b[0;34m(*args, **kwargs)\u001b[0m\n\u001b[1;32m     69\u001b[0m \u001b[38;5;129m@wraps\u001b[39m(func)\n\u001b[1;32m     70\u001b[0m \u001b[38;5;28;01mdef\u001b[39;00m \u001b[38;5;21mwrapper\u001b[39m(\u001b[38;5;241m*\u001b[39margs, \u001b[38;5;241m*\u001b[39m\u001b[38;5;241m*\u001b[39mkwargs):\n\u001b[1;32m     71\u001b[0m     \u001b[38;5;28;01mtry\u001b[39;00m:\n\u001b[0;32m---> 72\u001b[0m         retval \u001b[38;5;241m=\u001b[39m cfunc(\u001b[38;5;241m*\u001b[39margs, \u001b[38;5;241m*\u001b[39m\u001b[38;5;241m*\u001b[39mkwargs)\n\u001b[1;32m     73\u001b[0m     \u001b[38;5;28;01mexcept\u001b[39;00m \u001b[38;5;167;01mTypeError\u001b[39;00m \u001b[38;5;28;01mas\u001b[39;00m e:\n\u001b[1;32m     74\u001b[0m         \u001b[38;5;28;01mif\u001b[39;00m \u001b[38;5;129;01mnot\u001b[39;00m e\u001b[38;5;241m.\u001b[39margs \u001b[38;5;129;01mor\u001b[39;00m \u001b[38;5;129;01mnot\u001b[39;00m e\u001b[38;5;241m.\u001b[39margs[\u001b[38;5;241m0\u001b[39m]\u001b[38;5;241m.\u001b[39mstartswith(\u001b[38;5;124m'\u001b[39m\u001b[38;5;124munhashable type:\u001b[39m\u001b[38;5;124m'\u001b[39m):\n",
      "File \u001b[0;32m~/anaconda3/envs/mlscorecheck/lib/python3.12/site-packages/sympy/core/basic.py:1370\u001b[0m, in \u001b[0;36mBasic.has_free\u001b[0;34m(self, *patterns)\u001b[0m\n\u001b[1;32m   1368\u001b[0m \u001b[38;5;66;03m# try quick test first\u001b[39;00m\n\u001b[1;32m   1369\u001b[0m s \u001b[38;5;241m=\u001b[39m \u001b[38;5;28mset\u001b[39m(patterns)\n\u001b[0;32m-> 1370\u001b[0m rv \u001b[38;5;241m=\u001b[39m \u001b[38;5;28mself\u001b[39m\u001b[38;5;241m.\u001b[39mhas_xfree(s)\n\u001b[1;32m   1371\u001b[0m \u001b[38;5;28;01mif\u001b[39;00m rv:\n\u001b[1;32m   1372\u001b[0m     \u001b[38;5;28;01mreturn\u001b[39;00m rv\n",
      "File \u001b[0;32m~/anaconda3/envs/mlscorecheck/lib/python3.12/site-packages/sympy/core/basic.py:1329\u001b[0m, in \u001b[0;36mBasic.has_xfree\u001b[0;34m(self, s)\u001b[0m\n\u001b[1;32m   1327\u001b[0m \u001b[38;5;28;01mif\u001b[39;00m \u001b[38;5;28mtype\u001b[39m(s) \u001b[38;5;129;01mis\u001b[39;00m \u001b[38;5;129;01mnot\u001b[39;00m \u001b[38;5;28mset\u001b[39m:\n\u001b[1;32m   1328\u001b[0m     \u001b[38;5;28;01mraise\u001b[39;00m \u001b[38;5;167;01mTypeError\u001b[39;00m(\u001b[38;5;124m'\u001b[39m\u001b[38;5;124mexpecting set argument\u001b[39m\u001b[38;5;124m'\u001b[39m)\n\u001b[0;32m-> 1329\u001b[0m \u001b[38;5;28;01mreturn\u001b[39;00m \u001b[38;5;28many\u001b[39m(a \u001b[38;5;129;01min\u001b[39;00m s \u001b[38;5;28;01mfor\u001b[39;00m a \u001b[38;5;129;01min\u001b[39;00m iterfreeargs(\u001b[38;5;28mself\u001b[39m))\n",
      "File \u001b[0;32m~/anaconda3/envs/mlscorecheck/lib/python3.12/site-packages/sympy/core/basic.py:1329\u001b[0m, in \u001b[0;36m<genexpr>\u001b[0;34m(.0)\u001b[0m\n\u001b[1;32m   1327\u001b[0m \u001b[38;5;28;01mif\u001b[39;00m \u001b[38;5;28mtype\u001b[39m(s) \u001b[38;5;129;01mis\u001b[39;00m \u001b[38;5;129;01mnot\u001b[39;00m \u001b[38;5;28mset\u001b[39m:\n\u001b[1;32m   1328\u001b[0m     \u001b[38;5;28;01mraise\u001b[39;00m \u001b[38;5;167;01mTypeError\u001b[39;00m(\u001b[38;5;124m'\u001b[39m\u001b[38;5;124mexpecting set argument\u001b[39m\u001b[38;5;124m'\u001b[39m)\n\u001b[0;32m-> 1329\u001b[0m \u001b[38;5;28;01mreturn\u001b[39;00m \u001b[38;5;28many\u001b[39m(a \u001b[38;5;129;01min\u001b[39;00m s \u001b[38;5;28;01mfor\u001b[39;00m a \u001b[38;5;129;01min\u001b[39;00m iterfreeargs(\u001b[38;5;28mself\u001b[39m))\n",
      "File \u001b[0;32m~/anaconda3/envs/mlscorecheck/lib/python3.12/site-packages/sympy/core/traversal.py:65\u001b[0m, in \u001b[0;36miterfreeargs\u001b[0;34m(expr, _first)\u001b[0m\n\u001b[1;32m     63\u001b[0m             \u001b[38;5;28;01myield\u001b[39;00m i\n\u001b[1;32m     64\u001b[0m \u001b[38;5;28;01mtry\u001b[39;00m:\n\u001b[0;32m---> 65\u001b[0m     args\u001b[38;5;241m.\u001b[39mextend(i\u001b[38;5;241m.\u001b[39margs)\n\u001b[1;32m     66\u001b[0m \u001b[38;5;28;01mexcept\u001b[39;00m \u001b[38;5;167;01mTypeError\u001b[39;00m:\n\u001b[1;32m     67\u001b[0m     \u001b[38;5;28;01mpass\u001b[39;00m\n",
      "\u001b[0;31mKeyboardInterrupt\u001b[0m: "
     ]
    }
   ],
   "source": [
    "area = sp.integrate(integrand, (x, 0, 1))"
   ]
  },
  {
   "cell_type": "code",
   "execution_count": 4,
   "metadata": {},
   "outputs": [
    {
     "data": {
      "text/latex": [
       "$\\displaystyle \\int\\limits_{0}^{1} \\frac{frac \\left(1 - frac\\right)^{etpr} \\left(1 - \\left(1 - frac\\right)^{etpr}\\right)^{\\frac{1}{etpr}}}{\\left(frac - 1\\right) \\left(\\left(1 - frac\\right)^{etpr} - 1\\right)}\\, dfrac$"
      ],
      "text/plain": [
       "Integral(frac*(1 - frac)**etpr*(1 - (1 - frac)**etpr)**(1/etpr)/((frac - 1)*((1 - frac)**etpr - 1)), (frac, 0, 1))"
      ]
     },
     "execution_count": 4,
     "metadata": {},
     "output_type": "execute_result"
    }
   ],
   "source": [
    "area"
   ]
  },
  {
   "cell_type": "code",
   "execution_count": 38,
   "metadata": {},
   "outputs": [],
   "source": [
    "frac = sp.Symbol('frac', nonnegative=True)\n",
    "etpr = sp.Symbol('etpr', nonnegative=True)\n",
    "efpr = sp.Symbol('efpr', nonnegative=True)\n",
    "\n",
    "area = sp.integrate(frac**etpr * sp.diff((frac**efpr), frac), (frac, 0, 1))"
   ]
  },
  {
   "cell_type": "code",
   "execution_count": 39,
   "metadata": {},
   "outputs": [
    {
     "data": {
      "text/latex": [
       "$\\displaystyle \\begin{cases} - \\frac{0^{efpr} 0^{etpr} efpr}{efpr + etpr} + \\frac{efpr}{efpr + etpr} & \\text{for}\\: efpr \\neq - etpr \\\\\\infty \\operatorname{sign}{\\left(efpr \\right)} & \\text{otherwise} \\end{cases}$"
      ],
      "text/plain": [
       "Piecewise((-0**efpr*0**etpr*efpr/(efpr + etpr) + efpr/(efpr + etpr), Ne(efpr, -etpr)), (oo*sign(efpr), True))"
      ]
     },
     "execution_count": 39,
     "metadata": {},
     "output_type": "execute_result"
    }
   ],
   "source": [
    "area"
   ]
  },
  {
   "cell_type": "code",
   "execution_count": 23,
   "metadata": {},
   "outputs": [],
   "source": [
    "area = sp.simplify(area)"
   ]
  },
  {
   "cell_type": "code",
   "execution_count": 24,
   "metadata": {},
   "outputs": [
    {
     "data": {
      "text/latex": [
       "$\\displaystyle \\begin{cases} \\frac{efpr \\left(1 - 0^{efpr + etpr}\\right)}{efpr + etpr} & \\text{for}\\: efpr \\neq - etpr \\\\\\begin{cases} \\text{NaN} & \\text{for}\\: efpr = 0 \\\\\\infty & \\text{otherwise} \\end{cases} & \\text{otherwise} \\end{cases}$"
      ],
      "text/plain": [
       "Piecewise((efpr*(1 - 0**(efpr + etpr))/(efpr + etpr), Ne(efpr, -etpr)), (Piecewise((nan, Eq(efpr, 0)), (oo, True)), True))"
      ]
     },
     "execution_count": 24,
     "metadata": {},
     "output_type": "execute_result"
    }
   ],
   "source": [
    "area"
   ]
  },
  {
   "cell_type": "code",
   "execution_count": 31,
   "metadata": {},
   "outputs": [
    {
     "name": "stdout",
     "output_type": "stream",
     "text": [
      "Piecewise((efpr*(1 - 0**(efpr + etpr))/(efpr + etpr), Ne(efpr, -etpr)), (Piecewise((nan, Eq(efpr, 0)), (oo, True)), True))\n"
     ]
    }
   ],
   "source": [
    "print(area)"
   ]
  },
  {
   "cell_type": "code",
   "execution_count": 81,
   "metadata": {},
   "outputs": [
    {
     "data": {
      "text/latex": [
       "$\\displaystyle 0.869565217391304$"
      ],
      "text/plain": [
       "0.869565217391304"
      ]
     },
     "execution_count": 81,
     "metadata": {},
     "output_type": "execute_result"
    }
   ],
   "source": [
    "sp.simplify(area.subs({etpr: 0.3, efpr: 2}))"
   ]
  },
  {
   "cell_type": "code",
   "execution_count": 79,
   "metadata": {},
   "outputs": [
    {
     "data": {
      "text/plain": [
       "0.8695652145025436"
      ]
     },
     "execution_count": 79,
     "metadata": {},
     "output_type": "execute_result"
    }
   ],
   "source": [
    "exp_tpr = 0.3\n",
    "exp_fpr = 2\n",
    "\n",
    "x = np.linspace(0, 1, 10000)\n",
    "\n",
    "tprs = x**exp_tpr\n",
    "fprs = x**exp_fpr\n",
    "\n",
    "auc = float(np.sum((fprs[1:] - fprs[:-1])*(tprs[:-1] + tprs[1:])/2))\n",
    "auc"
   ]
  },
  {
   "cell_type": "code",
   "execution_count": 80,
   "metadata": {},
   "outputs": [
    {
     "data": {
      "text/plain": [
       "0.8695652173913044"
      ]
     },
     "execution_count": 80,
     "metadata": {},
     "output_type": "execute_result"
    }
   ],
   "source": [
    "exp_fpr / (exp_tpr + exp_fpr)"
   ]
  },
  {
   "cell_type": "code",
   "execution_count": 68,
   "metadata": {},
   "outputs": [],
   "source": [
    "frac = sp.Symbol('frac', nonegative=True)\n",
    "auc = sp.Symbol('auc', nonegative=True)\n",
    "alpha = sp.Symbol('alpha', nonnegative=True)\n",
    "beta = sp.Symbol('beta', nonnegative=True)\n",
    "p = sp.Symbol('p', nonnegative=True)\n",
    "n = sp.Symbol('n', nonnegative=True)"
   ]
  },
  {
   "cell_type": "code",
   "execution_count": 69,
   "metadata": {},
   "outputs": [],
   "source": [
    "accpn = p*frac**((1 - auc)*alpha/auc) + n*(1 - frac**alpha)"
   ]
  },
  {
   "cell_type": "code",
   "execution_count": 70,
   "metadata": {},
   "outputs": [
    {
     "data": {
      "text/plain": [
       "array([2/3, 0.665637034439202, 0.635434374165001, 0.615246351265044,\n",
       "       0.599680932699825, 0.586851145330147, 0.575853861764681,\n",
       "       0.566180507478589, 0.557513947937874, 0.549641978846422,\n",
       "       0.542415048662417, 0.535723476628751, 0.529484240443706,\n",
       "       0.523632860768368, 0.518118180465285, 0.512898875679222,\n",
       "       0.507941048614652, 0.503216520880315, 0.498701594836734,\n",
       "       0.494376136075483, 0.490222881470168, 0.486226908978975,\n",
       "       0.482375225581157, 0.478656442918197, 0.475060519016557,\n",
       "       0.471578550469244, 0.468202603617577, 0.464925576212733,\n",
       "       0.461741083141571, 0.458643361330168, 0.455627190063434,\n",
       "       0.452687823796560, 0.449820935164307, 0.447022566373233,\n",
       "       0.444289087529673, 0.441617160740943, 0.439003709049444,\n",
       "       0.436445889434129, 0.433941069252307, 0.431486805605214,\n",
       "       0.429080827199514, 0.426721018348511, 0.424405404815100,\n",
       "       0.422132141246011, 0.419899499985943, 0.417705861092409,\n",
       "       0.415549703398796, 0.413429596495409, 0.411344193516817,\n",
       "       0.409292224639460, 0.407272491206625, 0.405283860409011,\n",
       "       0.403325260458558, 0.401395676201285, 0.399494145121706,\n",
       "       0.397619753697342, 0.395771634066891, 0.393948960979972,\n",
       "       0.392150949000181, 0.390376849936436, 0.388625950480448,\n",
       "       0.386897570030656, 0.385191058685088, 0.383505795387573,\n",
       "       0.381841186213319, 0.380196662781415, 0.378571680783034,\n",
       "       0.376965718615312, 0.375378276111851, 0.373808873361697,\n",
       "       0.372257049609461, 0.370722362229904, 0.369204385771006,\n",
       "       0.367702711060039, 0.366216944367707, 0.364746706625847,\n",
       "       0.363291632694602, 0.361851370675317, 0.360425581265766,\n",
       "       0.359013937154590, 0.357616122452096, 0.356231832154815,\n",
       "       0.354860771641418, 0.353502656197808, 0.352157210569357,\n",
       "       0.350824168538440, 0.349503272525563, 0.348194273212493,\n",
       "       0.346896929185962, 0.345611006600579, 0.344336278859727,\n",
       "       0.343072526313291, 0.341819535971156, 0.340577101231493,\n",
       "       0.339345021622911, 0.338123102559642, 0.336911155108960,\n",
       "       0.335708995770103, 0.334516446264026, 0.333333333333333],\n",
       "      dtype=object)"
      ]
     },
     "execution_count": 70,
     "metadata": {},
     "output_type": "execute_result"
    }
   ],
   "source": [
    "np.array([accpn.subs({frac: f, p: 10, n: 20, auc: 0.8, alpha: 0.2})/(10 + 20) for f in np.linspace(0, 1, 100)])"
   ]
  },
  {
   "cell_type": "code",
   "execution_count": 71,
   "metadata": {},
   "outputs": [
    {
     "data": {
      "text/latex": [
       "$\\displaystyle - \\frac{\\alpha frac^{\\alpha} n}{frac} + \\frac{\\alpha frac^{\\frac{\\alpha \\left(1 - auc\\right)}{auc}} p \\left(1 - auc\\right)}{auc frac}$"
      ],
      "text/plain": [
       "-alpha*frac**alpha*n/frac + alpha*frac**(alpha*(1 - auc)/auc)*p*(1 - auc)/(auc*frac)"
      ]
     },
     "execution_count": 71,
     "metadata": {},
     "output_type": "execute_result"
    }
   ],
   "source": [
    "d1 = sp.diff(accpn, frac)\n",
    "d1"
   ]
  },
  {
   "cell_type": "code",
   "execution_count": 78,
   "metadata": {},
   "outputs": [
    {
     "data": {
      "text/plain": [
       "array([0, 0.000671430727776516, 0.00654785887595145, 0.0248130753766740,\n",
       "       0.0638518898426158, 0.132901220416834, 0.241843533555318,\n",
       "       0.401005040177211, 0.620875481526835, 0.911659178457388,\n",
       "       1.28254349864001, 1.74053877212077, 2.28870513117193,\n",
       "       2.92353754044410, 3.63123074036548, 4.38249110033322,\n",
       "       5.12550254420917, 5.77658880986794, 6.20804436037780,\n",
       "       6.23253129074161, 5.58335957961173, 3.88988302554514,\n",
       "       0.647153185822468, -4.82112139492220, -13.4073634173279,\n",
       "       -26.2738203169101, -44.9164308564974, -71.2402477223493,\n",
       "       -107.647919084194, -157.142857142857], dtype=object)"
      ]
     },
     "execution_count": 78,
     "metadata": {},
     "output_type": "execute_result"
    }
   ],
   "source": [
    "np.array([d1.subs({frac: f, p: 10, n: 20, auc: 0.7, alpha: 10}) for f in np.linspace(0, 1, 10+20)])"
   ]
  },
  {
   "cell_type": "code",
   "execution_count": 53,
   "metadata": {},
   "outputs": [
    {
     "data": {
      "text/latex": [
       "$\\displaystyle - \\frac{\\alpha^{2} frac^{\\alpha} n}{frac^{2}} + \\frac{\\alpha^{2} frac^{\\frac{\\alpha \\left(1 - auc\\right)}{auc}} p \\left(1 - auc\\right)^{2}}{auc^{2} frac^{2}} + \\frac{\\alpha frac^{\\alpha} n}{frac^{2}} - \\frac{\\alpha frac^{\\frac{\\alpha \\left(1 - auc\\right)}{auc}} p \\left(1 - auc\\right)}{auc frac^{2}}$"
      ],
      "text/plain": [
       "-alpha**2*frac**alpha*n/frac**2 + alpha**2*frac**(alpha*(1 - auc)/auc)*p*(1 - auc)**2/(auc**2*frac**2) + alpha*frac**alpha*n/frac**2 - alpha*frac**(alpha*(1 - auc)/auc)*p*(1 - auc)/(auc*frac**2)"
      ]
     },
     "execution_count": 53,
     "metadata": {},
     "output_type": "execute_result"
    }
   ],
   "source": [
    "d2 = sp.diff(d1, frac)\n",
    "d2"
   ]
  },
  {
   "cell_type": "code",
   "execution_count": 57,
   "metadata": {},
   "outputs": [
    {
     "data": {
      "text/plain": [
       "array([nan, 11538.4150037392, 3347.91580657809, 1622.38344421851,\n",
       "       970.093334689229, 650.904362435696, 469.771306043600,\n",
       "       356.544958838928, 280.766250596410, 227.405161463269,\n",
       "       188.321735292318, 158.783250983675, 135.879457535347,\n",
       "       117.737667992925, 103.106725830192, 91.1238812263612,\n",
       "       81.1779477834254, 72.8257441492970, 65.7393116924246,\n",
       "       59.6715746832436, 54.4334129299568, 49.8779991228591,\n",
       "       45.8898780809539, 42.3772113490447, 39.2661777673625,\n",
       "       36.4968695096725, 34.0202427525954, 31.7958234121287,\n",
       "       29.7899610105455, 27.9744855511527, 26.3256642048234,\n",
       "       24.8233834781513, 23.4505026840119, 22.1923387842450,\n",
       "       21.0362528708633, 19.9713159308427, 18.9880369349189,\n",
       "       18.0781402747023, 17.2343825411948, 16.4504008692791,\n",
       "       15.7205867637560, 15.0399806138224, 14.4041830961679,\n",
       "       13.8092804361884, 13.2517810965690, 12.7285619329631,\n",
       "       12.2368222277344, 11.7740443073215, 11.3379596838093,\n",
       "       10.9265198497480, 10.5378710071272, 10.1703321343570,\n",
       "       9.82237589509020, 9.49261197437570, 9.17977249459859,\n",
       "       8.88269921879440, 8.60033229449160, 8.33170032903116,\n",
       "       8.07591161877276, 7.83214638087327, 7.59964985834185,\n",
       "       7.37772618758283, 7.16573293324334, 6.96307620837683,\n",
       "       6.76920630912413, 6.58361380262804, 6.40582601500975,\n",
       "       6.23540387316928, 6.07193906011375, 5.91505144862090,\n",
       "       5.76438678243889, 5.61961457801526, 5.48042622302638,\n",
       "       5.34653325082039, 5.21766577235440, 5.09357104935373,\n",
       "       4.97401219429317, 4.85876698443578, 4.74762677859549,\n",
       "       4.64039552654489, 4.53688886209108, 4.43693327181214,\n",
       "       4.34036533230098, 4.24703100951699, 4.15678501451272,\n",
       "       4.06949021039288, 3.98501706588586, 3.90324315137302,\n",
       "       3.82405267363382, 3.74733604593299, 3.67298949040391,\n",
       "       3.60091466997533, 3.53101834735039, 3.46321206878155,\n",
       "       3.39741187059486, 3.33353800660587, 3.27151469473860,\n",
       "       3.21126988131169, 3.15273502159282, 3.09584487534626], dtype=object)"
      ]
     },
     "execution_count": 57,
     "metadata": {},
     "output_type": "execute_result"
    }
   ],
   "source": [
    "np.array([d2.subs({frac: f, p: 10, n: 20, auc: 0.95, alpha: 0.2}) for f in np.linspace(0, 1, 100)])"
   ]
  },
  {
   "cell_type": "code",
   "execution_count": 49,
   "metadata": {},
   "outputs": [
    {
     "data": {
      "text/latex": [
       "$\\displaystyle 105.249319061727$"
      ],
      "text/plain": [
       "105.249319061727"
      ]
     },
     "execution_count": 49,
     "metadata": {},
     "output_type": "execute_result"
    }
   ],
   "source": [
    "d2.subs({p:10, n:20, alpha: 0.3, frac: 0.1, auc: 0.5})"
   ]
  },
  {
   "cell_type": "code",
   "execution_count": 45,
   "metadata": {},
   "outputs": [
    {
     "data": {
      "text/plain": [
       "[(p*(1 - auc)/(auc*n))**(auc/(alpha*(2*auc - 1)))]"
      ]
     },
     "execution_count": 45,
     "metadata": {},
     "output_type": "execute_result"
    }
   ],
   "source": [
    "sp.solve(sp.diff(acc, frac), frac)"
   ]
  },
  {
   "cell_type": "code",
   "execution_count": null,
   "metadata": {},
   "outputs": [],
   "source": [
    "(p*(1 - auc)/(auc*n))**(auc/(alpha*(2*auc - 1)))"
   ]
  }
 ],
 "metadata": {
  "kernelspec": {
   "display_name": "mlscorecheck",
   "language": "python",
   "name": "python3"
  },
  "language_info": {
   "codemirror_mode": {
    "name": "ipython",
    "version": 3
   },
   "file_extension": ".py",
   "mimetype": "text/x-python",
   "name": "python",
   "nbconvert_exporter": "python",
   "pygments_lexer": "ipython3",
   "version": "3.12.0"
  }
 },
 "nbformat": 4,
 "nbformat_minor": 2
}
