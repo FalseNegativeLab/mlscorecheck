{
 "cells": [
  {
   "cell_type": "code",
   "execution_count": 1,
   "metadata": {},
   "outputs": [],
   "source": [
    "import pandas as pd"
   ]
  },
  {
   "cell_type": "code",
   "execution_count": 2,
   "metadata": {},
   "outputs": [],
   "source": [
    "a = pd.read_csv('results-single.csv')\n",
    "b = pd.read_csv('results-aggregated.csv')\n",
    "c = pd.read_csv('results-aggregated-ns.csv')"
   ]
  },
  {
   "cell_type": "code",
   "execution_count": 3,
   "metadata": {},
   "outputs": [],
   "source": [
    "data = pd.concat([a, b[b.columns[3:]], c[c.columns[3:]]], axis=1)"
   ]
  },
  {
   "cell_type": "code",
   "execution_count": 4,
   "metadata": {},
   "outputs": [],
   "source": [
    "data.columns = pd.MultiIndex.from_tuples([\n",
    "    ('', 'target'),\n",
    "    ('', 'source'),\n",
    "    ('', 'estimation'),\n",
    "    ('single test set', 'r2'),\n",
    "    ('single test set', 'mape'),\n",
    "    ('k-fold', 'r2'),\n",
    "    ('k-fold', 'mape'),\n",
    "    ('k-fold no strat.', 'r2'),\n",
    "    ('k-fold no strat.', 'mape')]\n",
    ")"
   ]
  },
  {
   "cell_type": "code",
   "execution_count": 5,
   "metadata": {},
   "outputs": [
    {
     "name": "stdout",
     "output_type": "stream",
     "text": [
      "\\begin{tabular}{lllrrrrrr}\n",
      "\\toprule\n",
      "\\multicolumn{3}{r}{} & \\multicolumn{2}{r}{single test set} & \\multicolumn{2}{r}{k-fold} & \\multicolumn{2}{r}{k-fold no strat.} \\\\\n",
      "target & source & estimation & r2 & mape & r2 & mape & r2 & mape \\\\\n",
      "\\midrule\n",
      "auc & arbitrary fpr, tpr & (min, max) & -1.605 & 0.247 & 0.029 & 0.122 & -0.002 & 0.124 \\\\\n",
      "auc & arbitrary fpr, tpr & (rmin, max) & -0.289 & 0.131 & 0.436 & 0.057 & 0.411 & 0.057 \\\\\n",
      "auc & fpr, tpr at max acc. & (min, max) & 0.814 & 0.064 & 0.629 & 0.083 & 0.603 & 0.085 \\\\\n",
      "auc & fpr, tpr at max acc. & (rmin, max) & 0.789 & 0.059 & 0.687 & 0.080 & 0.678 & 0.081 \\\\\n",
      "auc & fpr, tpr at max acc. & (min, maxa) & 0.621 & 0.067 & 0.300 & 0.123 & 0.222 & 0.123 \\\\\n",
      "auc & fpr, tpr at max acc. & (rmin, maxa) & 0.854 & 0.040 & 0.752 & 0.070 & 0.743 & 0.068 \\\\\n",
      "acc & auc & (min, max) & 0.848 & 0.039 & 0.901 & 0.030 & 0.894 & 0.031 \\\\\n",
      "acc & auc & (min, rmax) & 0.898 & 0.032 & 0.924 & 0.027 & 0.916 & 0.028 \\\\\n",
      "\\bottomrule\n",
      "\\end{tabular}\n",
      "\n"
     ]
    }
   ],
   "source": [
    "print(data.to_latex(index=False, float_format=\"%.3f\"))"
   ]
  },
  {
   "cell_type": "code",
   "execution_count": null,
   "metadata": {},
   "outputs": [],
   "source": []
  }
 ],
 "metadata": {
  "kernelspec": {
   "display_name": "mlscorecheck",
   "language": "python",
   "name": "python3"
  },
  "language_info": {
   "codemirror_mode": {
    "name": "ipython",
    "version": 3
   },
   "file_extension": ".py",
   "mimetype": "text/x-python",
   "name": "python",
   "nbconvert_exporter": "python",
   "pygments_lexer": "ipython3",
   "version": "3.12.0"
  }
 },
 "nbformat": 4,
 "nbformat_minor": 2
}
