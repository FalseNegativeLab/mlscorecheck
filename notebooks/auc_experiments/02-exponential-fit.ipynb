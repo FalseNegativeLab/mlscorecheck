{
 "cells": [
  {
   "cell_type": "code",
   "execution_count": 110,
   "metadata": {},
   "outputs": [],
   "source": [
    "import numpy as np\n",
    "import pandas as pd\n",
    "import matplotlib.pyplot as plt\n",
    "\n",
    "from sklearn.metrics import r2_score\n",
    "\n",
    "from mlscorecheck.auc import exponential_fitting, exponential_fitting2"
   ]
  },
  {
   "cell_type": "code",
   "execution_count": 111,
   "metadata": {},
   "outputs": [],
   "source": [
    "input_label = 'aggregated'\n",
    "\n",
    "input_file = f'raw-{input_label}-20k.csv'\n",
    "input_file2 = f'raw-{input_label}-20k-b.csv'\n",
    "output_file = f'fit-{input_label}-20k.csv'"
   ]
  },
  {
   "cell_type": "code",
   "execution_count": 112,
   "metadata": {},
   "outputs": [],
   "source": [
    "def fit_curve(row, values, fracs):\n",
    "    if values == 'fprs':\n",
    "        values = row[values]\n",
    "        fracs = row[fracs]\n",
    "    else:\n",
    "        values = row[values]\n",
    "        fracs = row[fracs]\n",
    "    p = np.logspace(-3, 3, 3000)\n",
    "    err = np.abs(values[:, None]**p - 1 + (1 - fracs)[:, None]**p)\n",
    "    err = np.mean(err, axis=0)\n",
    "    exp = p[np.argmin(err)]\n",
    "\n",
    "    pred = (1 - (1 - fracs)**exp)**(1/exp)\n",
    "\n",
    "    r2 = r2_score(values, pred)\n",
    "\n",
    "    return (r2, exp, 0)"
   ]
  },
  {
   "cell_type": "code",
   "execution_count": 113,
   "metadata": {},
   "outputs": [],
   "source": [
    "#data = pd.concat([pd.read_csv(input_file), pd.read_csv(input_file2)])\n",
    "data = pd.read_csv(input_file)"
   ]
  },
  {
   "cell_type": "code",
   "execution_count": 114,
   "metadata": {},
   "outputs": [],
   "source": [
    "data['fprs'] = data['fprs'].apply(lambda x: np.array(eval(x)))\n",
    "data['tprs'] = data['tprs'].apply(lambda x: np.array(eval(x)))\n",
    "\n",
    "data['fracs'] = (data['fprs'] * data['n'] + data['tprs'] * data['p']) / (data['n'] + data['p'])"
   ]
  },
  {
   "cell_type": "code",
   "execution_count": 115,
   "metadata": {},
   "outputs": [],
   "source": [
    "data['r2_fpr'] = data.apply(lambda row: fit_curve(row, 'fprs', 'fracs'), axis=1)\n",
    "data['exp_fpr'] = data['r2_fpr'].apply(lambda x: x[1])\n",
    "data['fit_mode_fpr'] = data['r2_fpr'].apply(lambda x: x[2])\n",
    "data['r2_fpr'] = data['r2_fpr'].apply(lambda x: x[0])\n",
    "\n",
    "data['r2_tpr'] = data.apply(lambda row: fit_curve(row, 'tprs', 'fracs'), axis=1)\n",
    "data['exp_tpr'] = data['r2_tpr'].apply(lambda x: x[1])\n",
    "data['fit_mode_tpr'] = data['r2_tpr'].apply(lambda x: x[2])\n",
    "data['r2_tpr'] = data['r2_tpr'].apply(lambda x: x[0])"
   ]
  },
  {
   "cell_type": "code",
   "execution_count": 116,
   "metadata": {},
   "outputs": [
    {
     "data": {
      "text/plain": [
       "Index(['p', 'n', 'k', 'dataset', 'classifier', 'classifier_params', 'best_acc',\n",
       "       'best_sens', 'best_spec', 'best_acc_train', 'best_sens_train',\n",
       "       'best_spec_train', 'acc', 'sens', 'spec', 'auc', 'acc_train',\n",
       "       'sens_train', 'spec_train', 'auc_train', 'n_nodes', 'n_nodes_train',\n",
       "       'avg_n_nodes', 'avg_n_nodes_train', 'fprs', 'tprs', 'fprs_train',\n",
       "       'tprs_train', 'fracs', 'r2_fpr', 'exp_fpr', 'fit_mode_fpr', 'r2_tpr',\n",
       "       'exp_tpr', 'fit_mode_tpr'],\n",
       "      dtype='object')"
      ]
     },
     "execution_count": 116,
     "metadata": {},
     "output_type": "execute_result"
    }
   ],
   "source": [
    "data.columns"
   ]
  },
  {
   "cell_type": "code",
   "execution_count": 117,
   "metadata": {},
   "outputs": [],
   "source": [
    "data['fprs'] = data['fprs'].apply(lambda x: str(x.tolist()))\n",
    "data['tprs'] = data['tprs'].apply(lambda x: str(x.tolist()))\n",
    "data['fracs'] = data['fracs'].apply(lambda x: str(x.tolist()))"
   ]
  },
  {
   "cell_type": "code",
   "execution_count": 118,
   "metadata": {},
   "outputs": [],
   "source": [
    "data.to_csv(output_file, index=False)"
   ]
  }
 ],
 "metadata": {
  "kernelspec": {
   "display_name": "mlscorecheck",
   "language": "python",
   "name": "python3"
  },
  "language_info": {
   "codemirror_mode": {
    "name": "ipython",
    "version": 3
   },
   "file_extension": ".py",
   "mimetype": "text/x-python",
   "name": "python",
   "nbconvert_exporter": "python",
   "pygments_lexer": "ipython3",
   "version": "3.12.0"
  }
 },
 "nbformat": 4,
 "nbformat_minor": 2
}
