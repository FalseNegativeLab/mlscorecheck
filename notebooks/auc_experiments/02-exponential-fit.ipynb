{
 "cells": [
  {
   "cell_type": "code",
   "execution_count": 31,
   "metadata": {},
   "outputs": [],
   "source": [
    "import numpy as np\n",
    "import pandas as pd\n",
    "import matplotlib.pyplot as plt\n",
    "\n",
    "from sklearn.metrics import r2_score\n",
    "\n",
    "from mlscorecheck.auc import exponential_fitting, exponential_fitting2"
   ]
  },
  {
   "cell_type": "code",
   "execution_count": 32,
   "metadata": {},
   "outputs": [],
   "source": [
    "input_label = 'single'\n",
    "\n",
    "input_file = f'raw-{input_label}-20k.csv'\n",
    "output_file = f'fit-{input_label}-20k.csv'"
   ]
  },
  {
   "cell_type": "code",
   "execution_count": 33,
   "metadata": {},
   "outputs": [],
   "source": [
    "x = np.linspace(0, 1, 1000)\n",
    "p = 0.5\n",
    "y = (1 - (1 - x)**p)**(1/p)"
   ]
  },
  {
   "cell_type": "code",
   "execution_count": 34,
   "metadata": {},
   "outputs": [],
   "source": [
    "def fit_curve(row, values, fracs):\n",
    "    if values == 'fprs':\n",
    "        values = row[values]\n",
    "        fracs = row[fracs]\n",
    "    else:\n",
    "        values = row[values]\n",
    "        fracs = 1 - row[fracs]\n",
    "    p = np.logspace(-3, 2, 1000)\n",
    "    err = np.abs(values[:, None]**p - 1 + (1 - fracs)[:, None]**p)\n",
    "    err = np.mean(err, axis=0)\n",
    "    exp = p[np.argmin(err)]\n",
    "\n",
    "    pred = (1 - (1 - fracs)**exp)/(1/exp)\n",
    "\n",
    "    r2 = r2_score(values, pred)\n",
    "\n",
    "    return (r2, exp, 0)"
   ]
  },
  {
   "cell_type": "code",
   "execution_count": 35,
   "metadata": {},
   "outputs": [
    {
     "data": {
      "text/plain": [
       "[<matplotlib.lines.Line2D at 0x7f7da5be3e00>]"
      ]
     },
     "execution_count": 35,
     "metadata": {},
     "output_type": "execute_result"
    },
    {
     "data": {
      "image/png": "[encoded data removed]",
      "text/plain": [
       "<Figure size 350x350 with 1 Axes>"
      ]
     },
     "metadata": {},
     "output_type": "display_data"
    }
   ],
   "source": [
    "plt.figure(figsize=(3.5, 3.5))\n",
    "plt.plot(x, y)"
   ]
  },
  {
   "cell_type": "code",
   "execution_count": 36,
   "metadata": {},
   "outputs": [],
   "source": [
    "data = pd.read_csv(input_file)"
   ]
  },
  {
   "cell_type": "code",
   "execution_count": 37,
   "metadata": {},
   "outputs": [],
   "source": [
    "data['fprs'] = data['fprs'].apply(lambda x: np.array(eval(x)))\n",
    "data['tprs'] = data['tprs'].apply(lambda x: np.array(eval(x)))\n",
    "\n",
    "data['fracs'] = (data['fprs'] * data['n'] + data['tprs'] * data['p']) / (data['n'] + data['p'])"
   ]
  },
  {
   "cell_type": "code",
   "execution_count": 38,
   "metadata": {},
   "outputs": [
    {
     "data": {
      "text/plain": [
       "\"idx = -5\\n\\nrow = data.iloc[idx]\\n\\np_fprs = fit_curve(row['fprs'], row['fracs'])\\np_tprs = fit_curve(row['tprs'], row['fracs'])\\np_fprs, p_tprs\\n\\n(r2_score((1 - (1 - row['fracs'])**p_fprs)**(1/p_fprs), row['fprs']),\\n r2_score((1 - (1 - row['fracs'])**p_tprs)**(1/p_tprs), row['tprs']))\""
      ]
     },
     "execution_count": 38,
     "metadata": {},
     "output_type": "execute_result"
    }
   ],
   "source": [
    "\n",
    "\n",
    "\"\"\"idx = -5\n",
    "\n",
    "row = data.iloc[idx]\n",
    "\n",
    "p_fprs = fit_curve(row['fprs'], row['fracs'])\n",
    "p_tprs = fit_curve(row['tprs'], row['fracs'])\n",
    "p_fprs, p_tprs\n",
    "\n",
    "(r2_score((1 - (1 - row['fracs'])**p_fprs)**(1/p_fprs), row['fprs']),\n",
    " r2_score((1 - (1 - row['fracs'])**p_tprs)**(1/p_tprs), row['tprs']))\"\"\""
   ]
  },
  {
   "cell_type": "code",
   "execution_count": 39,
   "metadata": {},
   "outputs": [],
   "source": [
    "data['r2_fpr'] = data.apply(lambda row: fit_curve(row, 'fprs', 'fracs'), axis=1)\n",
    "data['exp_fpr'] = data['r2_fpr'].apply(lambda x: x[1])\n",
    "data['fit_mode_fpr'] = data['r2_fpr'].apply(lambda x: x[2])\n",
    "data['r2_fpr'] = data['r2_fpr'].apply(lambda x: x[0])\n",
    "\n",
    "data['r2_tpr'] = data.apply(lambda row: fit_curve(row, 'tprs', 'fracs'), axis=1)\n",
    "data['exp_tpr'] = data['r2_tpr'].apply(lambda x: x[1])\n",
    "data['fit_mode_tpr'] = data['r2_tpr'].apply(lambda x: x[2])\n",
    "data['r2_tpr'] = data['r2_tpr'].apply(lambda x: x[0])"
   ]
  },
  {
   "cell_type": "code",
   "execution_count": 40,
   "metadata": {},
   "outputs": [
    {
     "data": {
      "text/plain": [
       "Index(['dataset', 'classifier', 'classifier_params', 'p', 'n', 'p_train',\n",
       "       'n_train', 'auc', 'auc_train', 'fprs', 'tprs', 'thresholds', 'n_nodes',\n",
       "       'fprs_train', 'tprs_train', 'thresholds_train', 'n_nodes_train', 'acc',\n",
       "       'sens', 'spec', 'best_acc', 'best_sens', 'best_spec', 'acc_train',\n",
       "       'sens_train', 'spec_train', 'best_acc_train', 'best_sens_train',\n",
       "       'best_spec_train', 'fracs', 'r2_fpr', 'exp_fpr', 'fit_mode_fpr',\n",
       "       'r2_tpr', 'exp_tpr', 'fit_mode_tpr'],\n",
       "      dtype='object')"
      ]
     },
     "execution_count": 40,
     "metadata": {},
     "output_type": "execute_result"
    }
   ],
   "source": [
    "data.columns"
   ]
  },
  {
   "cell_type": "code",
   "execution_count": 41,
   "metadata": {},
   "outputs": [],
   "source": [
    "data['fprs'] = data['fprs'].apply(lambda x: str(x.tolist()))\n",
    "data['tprs'] = data['tprs'].apply(lambda x: str(x.tolist()))\n",
    "data['fracs'] = data['fracs'].apply(lambda x: str(x.tolist()))"
   ]
  },
  {
   "cell_type": "code",
   "execution_count": 42,
   "metadata": {},
   "outputs": [],
   "source": [
    "data.to_csv(output_file, index=False)"
   ]
  }
 ],
 "metadata": {
  "kernelspec": {
   "display_name": "mlscorecheck",
   "language": "python",
   "name": "python3"
  },
  "language_info": {
   "codemirror_mode": {
    "name": "ipython",
    "version": 3
   },
   "file_extension": ".py",
   "mimetype": "text/x-python",
   "name": "python",
   "nbconvert_exporter": "python",
   "pygments_lexer": "ipython3",
   "version": "3.12.0"
  }
 },
 "nbformat": 4,
 "nbformat_minor": 2
}
