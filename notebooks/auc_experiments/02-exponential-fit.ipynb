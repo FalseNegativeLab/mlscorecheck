{
 "cells": [
  {
   "cell_type": "code",
   "execution_count": 1,
   "metadata": {},
   "outputs": [],
   "source": [
    "import numpy as np\n",
    "import pandas as pd\n",
    "import matplotlib.pyplot as plt\n",
    "\n",
    "from sklearn.metrics import r2_score\n",
    "\n",
    "from mlscorecheck.auc import p_norm_fit"
   ]
  },
  {
   "cell_type": "code",
   "execution_count": 2,
   "metadata": {},
   "outputs": [],
   "source": [
    "input_label = 'single'\n",
    "\n",
    "input_file = f'raw-{input_label}-50k-syn.csv'\n",
    "output_file = f'fit-{input_label}-50k-syn.csv'"
   ]
  },
  {
   "cell_type": "code",
   "execution_count": 3,
   "metadata": {},
   "outputs": [],
   "source": [
    "data = pd.read_csv(input_file)"
   ]
  },
  {
   "cell_type": "code",
   "execution_count": 16,
   "metadata": {},
   "outputs": [],
   "source": [
    "data['fprs'] = data['fprs'].apply(lambda x: np.array(eval(x)))\n",
    "data['tprs'] = data['tprs'].apply(lambda x: np.array(eval(x)))\n",
    "data['fracs'] = 1.0 - (data['fprs'] * data['n'] + data['tprs'] * data['p']) / (data['n'] + data['p'])"
   ]
  },
  {
   "cell_type": "code",
   "execution_count": 5,
   "metadata": {},
   "outputs": [],
   "source": [
    "data['exp_fpr'] = data.apply(lambda row: p_norm_fit(row['fracs'], row['fprs'], mode='explicit'), axis=1)\n",
    "data['exp_tpr'] = data.apply(lambda row: p_norm_fit(row['fracs'], row['tprs'], mode='explicit'), axis=1)"
   ]
  },
  {
   "cell_type": "code",
   "execution_count": 6,
   "metadata": {},
   "outputs": [],
   "source": [
    "data['r2_fpr'] = data.apply(lambda row: r2_score(row['fprs'], (1 - row['fracs']**row['exp_fpr'])**(1/row['exp_fpr'])), axis=1)\n",
    "data['r2_tpr'] = data.apply(lambda row: r2_score(row['tprs'], (1 - row['fracs']**row['exp_tpr'])**(1/row['exp_tpr'])), axis=1)"
   ]
  },
  {
   "cell_type": "code",
   "execution_count": null,
   "metadata": {},
   "outputs": [],
   "source": [
    "def fit_roc(row):\n",
    "    fprs = row['fprs']\n",
    "    tprs = row['tprs']\n",
    "    p_both = p_norm_fit(1 - fprs, tprs, bracket=(-5, 2))\n",
    "    \n",
    "    tprs_pred = (1.0 - (1 - fprs)**p_both)**(1/p_both)\n",
    "    fprs_pred = 1.0 - (1.0 - tprs**p_both)**(1/p_both)\n",
    "\n",
    "    return max(r2_score(tprs, tprs_pred), r2_score(fprs, fprs_pred))"
   ]
  },
  {
   "cell_type": "code",
   "execution_count": 8,
   "metadata": {},
   "outputs": [],
   "source": [
    "data['r2_roc'] = data.apply(fit_roc, axis=1)"
   ]
  },
  {
   "cell_type": "code",
   "execution_count": null,
   "metadata": {},
   "outputs": [],
   "source": [
    "#tmp = data[data['n_nodes'] > 100]\n",
    "tmp = data"
   ]
  },
  {
   "cell_type": "code",
   "execution_count": 20,
   "metadata": {},
   "outputs": [
    {
     "data": {
      "text/plain": [
       "(array([0.0000e+00, 0.0000e+00, 0.0000e+00, 0.0000e+00, 0.0000e+00,\n",
       "        0.0000e+00, 0.0000e+00, 0.0000e+00, 0.0000e+00, 2.0000e-05,\n",
       "        0.0000e+00, 8.0000e-05, 4.6000e-04, 1.5200e-03, 5.8800e-03,\n",
       "        1.7440e-02, 4.3860e-02, 1.0134e-01, 8.2940e-01]),\n",
       " array([0.        , 0.05263158, 0.10526316, 0.15789474, 0.21052632,\n",
       "        0.26315789, 0.31578947, 0.36842105, 0.42105263, 0.47368421,\n",
       "        0.52631579, 0.57894737, 0.63157895, 0.68421053, 0.73684211,\n",
       "        0.78947368, 0.84210526, 0.89473684, 0.94736842, 1.        ]),\n",
       " <BarContainer object of 19 artists>)"
      ]
     },
     "execution_count": 20,
     "metadata": {},
     "output_type": "execute_result"
    },
    {
     "data": {
      "image/png": "[encoded data removed]",
      "text/plain": [
       "<Figure size 640x480 with 1 Axes>"
      ]
     },
     "metadata": {},
     "output_type": "display_data"
    }
   ],
   "source": [
    "plt.hist(tmp['r2_fpr'], alpha=0.5, bins=np.linspace(0, 1, 20), weights=np.repeat(1/len(tmp), len(tmp)))\n",
    "plt.hist(tmp['r2_tpr'], alpha=0.5, bins=np.linspace(0, 1, 20), weights=np.repeat(1/len(tmp), len(tmp)))"
   ]
  },
  {
   "cell_type": "code",
   "execution_count": 11,
   "metadata": {},
   "outputs": [
    {
     "data": {
      "text/plain": [
       "(array([  222.,   209.,   199.,   272.,   345.,   476.,   361.,   368.,\n",
       "          428.,   549.,   705.,   930.,  1170.,  1433.,  1646.,  1988.,\n",
       "         2704.,  4611., 28673.]),\n",
       " array([0.        , 0.05263158, 0.10526316, 0.15789474, 0.21052632,\n",
       "        0.26315789, 0.31578947, 0.36842105, 0.42105263, 0.47368421,\n",
       "        0.52631579, 0.57894737, 0.63157895, 0.68421053, 0.73684211,\n",
       "        0.78947368, 0.84210526, 0.89473684, 0.94736842, 1.        ]),\n",
       " <BarContainer object of 19 artists>)"
      ]
     },
     "execution_count": 11,
     "metadata": {},
     "output_type": "execute_result"
    },
    {
     "data": {
      "image/png": "[encoded data removed]",
      "text/plain": [
       "<Figure size 640x480 with 1 Axes>"
      ]
     },
     "metadata": {},
     "output_type": "display_data"
    }
   ],
   "source": [
    "plt.hist(data['r2_roc'], alpha=0.5, bins=np.linspace(0, 1, 20))"
   ]
  },
  {
   "cell_type": "code",
   "execution_count": 12,
   "metadata": {},
   "outputs": [],
   "source": [
    "data['fprs'] = data['fprs'].apply(lambda x: str(x.tolist()))\n",
    "data['tprs'] = data['tprs'].apply(lambda x: str(x.tolist()))\n",
    "data['fracs'] = data['fracs'].apply(lambda x: str(x.tolist()))"
   ]
  },
  {
   "cell_type": "code",
   "execution_count": 13,
   "metadata": {},
   "outputs": [],
   "source": [
    "data.to_csv(output_file, index=False)"
   ]
  }
 ],
 "metadata": {
  "kernelspec": {
   "display_name": "mlscorecheck",
   "language": "python",
   "name": "python3"
  },
  "language_info": {
   "codemirror_mode": {
    "name": "ipython",
    "version": 3
   },
   "file_extension": ".py",
   "mimetype": "text/x-python",
   "name": "python",
   "nbconvert_exporter": "python",
   "pygments_lexer": "ipython3",
   "version": "3.12.0"
  }
 },
 "nbformat": 4,
 "nbformat_minor": 2
}
