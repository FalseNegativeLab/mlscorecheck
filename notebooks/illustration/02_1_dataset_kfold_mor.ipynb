{
 "cells": [
  {
   "cell_type": "code",
   "execution_count": 6,
   "metadata": {},
   "outputs": [],
   "source": [
    "from mlscorecheck.check import check_1_dataset_kfold_mor_scores\n",
    "from mlscorecheck.aggregated import generate_dataset_and_scores, Dataset"
   ]
  },
  {
   "cell_type": "code",
   "execution_count": 7,
   "metadata": {},
   "outputs": [
    {
     "name": "stderr",
     "output_type": "stream",
     "text": [
      "2023-08-30 19:43:02,723:INFO:generating a random id for the dataset\n",
      "2023-08-30 19:43:02,727:INFO:a random identifier for the fold has been generated dgujlhkbdpklexvq\n",
      "2023-08-30 19:43:02,729:INFO:a random identifier for the fold has been generated xecrlbdbiiledjjs\n",
      "2023-08-30 19:43:02,737:INFO:None: adding condition acc >= 0.571999\n",
      "2023-08-30 19:43:02,739:INFO:None: adding condition acc <= 0.574001\n",
      "2023-08-30 19:43:02,740:INFO:None: adding condition sens >= 0.766999\n",
      "2023-08-30 19:43:02,740:INFO:None: adding condition sens <= 0.769001\n",
      "2023-08-30 19:43:02,741:INFO:None: adding condition bacc >= 0.660999\n",
      "2023-08-30 19:43:02,742:INFO:None: adding condition bacc <= 0.663001\n"
     ]
    },
    {
     "name": "stdout",
     "output_type": "stream",
     "text": [
      "Welcome to the CBC MILP Solver \n",
      "Version: 2.10.3 \n",
      "Build Date: Dec 15 2019 \n",
      "\n",
      "command line - /home/gykovacs/anaconda3/envs/mlscorecheck/lib/python3.10/site-packages/pulp/solverdir/cbc/linux/64/cbc /tmp/eef8fcdb9e89420fa85e93a1e4a7f2ba-pulp.mps timeMode elapsed branch printingOptions all solution /tmp/eef8fcdb9e89420fa85e93a1e4a7f2ba-pulp.sol (default strategy 1)\n",
      "At line 2 NAME          MODEL\n",
      "At line 3 ROWS\n",
      "At line 11 COLUMNS\n",
      "At line 41 RHS\n",
      "At line 48 BOUNDS\n",
      "At line 54 ENDATA\n",
      "Problem MODEL has 6 rows, 5 columns and 20 elements\n",
      "Coin0008I MODEL read with 0 errors\n",
      "Option for timeMode changed from cpu to elapsed\n",
      "Continuous objective value is 0 - 0.00 seconds\n",
      "Cgl0003I 0 fixed, 9 tightened bounds, 0 strengthened rows, 0 substitutions\n",
      "Cgl0003I 0 fixed, 2 tightened bounds, 0 strengthened rows, 0 substitutions\n",
      "Cgl0004I processed model has 3 rows, 4 columns (4 integer (0 of which binary)) and 10 elements\n",
      "Cbc0012I Integer solution of 0 found by DiveCoefficient after 97 iterations and 0 nodes (0.02 seconds)\n",
      "Cbc0031I 3 added rows had average density of 3.3333333\n",
      "Cbc0013I At root node, 3 cuts changed objective from 0 to 0 in 100 passes\n",
      "Cbc0014I Cut generator 0 (Probing) - 0 row cuts average 0.0 elements, 0 column cuts (0 active)  in 0.001 seconds - new frequency is -100\n",
      "Cbc0014I Cut generator 1 (Gomory) - 178 row cuts average 3.9 elements, 0 column cuts (0 active)  in 0.001 seconds - new frequency is -100\n",
      "Cbc0014I Cut generator 2 (Knapsack) - 0 row cuts average 0.0 elements, 0 column cuts (0 active)  in 0.000 seconds - new frequency is -100\n",
      "Cbc0014I Cut generator 3 (Clique) - 0 row cuts average 0.0 elements, 0 column cuts (0 active)  in 0.000 seconds - new frequency is -100\n",
      "Cbc0014I Cut generator 4 (MixedIntegerRounding2) - 0 row cuts average 0.0 elements, 0 column cuts (0 active)  in 0.001 seconds - new frequency is -100\n",
      "Cbc0014I Cut generator 5 (FlowCover) - 0 row cuts average 0.0 elements, 0 column cuts (0 active)  in 0.000 seconds - new frequency is -100\n",
      "Cbc0014I Cut generator 6 (TwoMirCuts) - 5 row cuts average 2.4 elements, 0 column cuts (0 active)  in 0.000 seconds - new frequency is -100\n",
      "Cbc0001I Search completed - best objective 0, took 97 iterations and 0 nodes (0.02 seconds)\n",
      "Cbc0035I Maximum depth 0, 0 variables fixed on reduced cost\n",
      "Cuts at root node changed objective from 0 to 0\n",
      "Probing was tried 100 times and created 0 cuts of which 0 were active after adding rounds of cuts (0.001 seconds)\n",
      "Gomory was tried 100 times and created 178 cuts of which 0 were active after adding rounds of cuts (0.001 seconds)\n",
      "Knapsack was tried 100 times and created 0 cuts of which 0 were active after adding rounds of cuts (0.000 seconds)\n",
      "Clique was tried 100 times and created 0 cuts of which 0 were active after adding rounds of cuts (0.000 seconds)\n",
      "MixedIntegerRounding2 was tried 100 times and created 0 cuts of which 0 were active after adding rounds of cuts (0.001 seconds)\n",
      "FlowCover was tried 100 times and created 0 cuts of which 0 were active after adding rounds of cuts (0.000 seconds)\n",
      "TwoMirCuts was tried 100 times and created 5 cuts of which 0 were active after adding rounds of cuts (0.000 seconds)\n",
      "ZeroHalf was tried 1 times and created 0 cuts of which 0 were active after adding rounds of cuts (0.000 seconds)\n",
      "\n",
      "Result - Optimal solution found\n",
      "\n",
      "Objective value:                0.00000000\n",
      "Enumerated nodes:               0\n",
      "Total iterations:               97\n",
      "Time (CPU seconds):             0.02\n",
      "Time (Wallclock seconds):       0.02\n",
      "\n",
      "Option for printingOptions changed from normal to all\n",
      "Total time (CPU seconds):       0.02   (Wallclock seconds):       0.02\n",
      "\n"
     ]
    },
    {
     "data": {
      "text/plain": [
       "False"
      ]
     },
     "execution_count": 7,
     "metadata": {},
     "output_type": "execute_result"
    }
   ],
   "source": [
    "dataset = {'folds': [{'p': 52, 'n': 94}, {'p': 74, 'n': 37}]}\n",
    "scores = {'acc': 0.573, 'sens': 0.768, 'bacc': 0.662}\n",
    "\n",
    "result = check_1_dataset_kfold_mor_scores(scores=scores,\n",
    "                                            eps=1e-3,\n",
    "                                            dataset=dataset)\n",
    "result['inconsistency']"
   ]
  },
  {
   "cell_type": "code",
   "execution_count": 4,
   "metadata": {},
   "outputs": [
    {
     "data": {
      "text/plain": [
       "{'id': 'monjhyriadkqzmza',\n",
       " 'figures': {'p': 126, 'n': 131, 'tp': 93.0, 'tn': 49.0},\n",
       " 'scores': {'acc': 0.572689127483648,\n",
       "  'sens': 0.7684511434511435,\n",
       "  'spec': 0.5556354226566993,\n",
       "  'bacc': 0.6620432830539213},\n",
       " 'score_bounds': None,\n",
       " 'score_bounds_flag': None,\n",
       " 'bounds_flag': True,\n",
       " 'folds': [{'identifier': 'pwjncyepgdalgccc',\n",
       "   'figures': {'tn': 13.0, 'tp': 49.0},\n",
       "   'scores': {'acc': 0.4246575342465753,\n",
       "    'sens': 0.9423076923076924,\n",
       "    'spec': 0.13829787234042554,\n",
       "    'bacc': 0.5403027823240589},\n",
       "   'score_bounds': None,\n",
       "   'score_bounds_flag': None,\n",
       "   'bounds_flag': True},\n",
       "  {'identifier': 'nibjsmoafamcpezu',\n",
       "   'figures': {'tn': 36.0, 'tp': 44.0},\n",
       "   'scores': {'acc': 0.7207207207207207,\n",
       "    'sens': 0.5945945945945946,\n",
       "    'spec': 0.972972972972973,\n",
       "    'bacc': 0.7837837837837838},\n",
       "   'score_bounds': None,\n",
       "   'score_bounds_flag': None,\n",
       "   'bounds_flag': True}]}"
      ]
     },
     "execution_count": 4,
     "metadata": {},
     "output_type": "execute_result"
    }
   ],
   "source": [
    "result['lp_configuration']['datasets'][0]"
   ]
  },
  {
   "cell_type": "code",
   "execution_count": 18,
   "metadata": {},
   "outputs": [
    {
     "name": "stderr",
     "output_type": "stream",
     "text": [
      "2023-08-28 12:39:52,127:INFO:generating a random id for the dataset\n",
      "2023-08-28 12:39:52,131:INFO:None: adding condition acc >= 0.890000\n",
      "2023-08-28 12:39:52,132:INFO:None: adding condition acc <= 0.910000\n",
      "2023-08-28 12:39:52,133:INFO:None: adding condition spec >= 0.890000\n",
      "2023-08-28 12:39:52,136:INFO:None: adding condition spec <= 0.910000\n",
      "2023-08-28 12:39:52,137:INFO:None: adding condition sens >= 0.590000\n",
      "2023-08-28 12:39:52,138:INFO:None: adding condition sens <= 0.610000\n"
     ]
    },
    {
     "name": "stdout",
     "output_type": "stream",
     "text": [
      "Welcome to the CBC MILP Solver \n",
      "Version: 2.10.3 \n",
      "Build Date: Dec 15 2019 \n",
      "\n",
      "command line - /home/gykovacs/anaconda3/envs/mlscorecheck/lib/python3.10/site-packages/pulp/solverdir/cbc/linux/64/cbc /tmp/0bac669bf209494c82eb69ed7c3032d9-pulp.mps timeMode elapsed branch printingOptions all solution /tmp/0bac669bf209494c82eb69ed7c3032d9-pulp.sol (default strategy 1)\n",
      "At line 2 NAME          MODEL\n",
      "At line 3 ROWS\n",
      "At line 11 COLUMNS\n",
      "At line 109 RHS\n",
      "At line 116 BOUNDS\n",
      "At line 134 ENDATA\n",
      "Problem MODEL has 6 rows, 17 columns and 64 elements\n",
      "Coin0008I MODEL read with 0 errors\n",
      "Option for timeMode changed from cpu to elapsed\n",
      "Problem is infeasible - 0.00 seconds\n",
      "Option for printingOptions changed from normal to all\n",
      "Total time (CPU seconds):       0.00   (Wallclock seconds):       0.00\n",
      "\n"
     ]
    },
    {
     "data": {
      "text/plain": [
       "True"
      ]
     },
     "execution_count": 18,
     "metadata": {},
     "output_type": "execute_result"
    }
   ],
   "source": [
    "dataset = {'p': 398,\n",
    "            'n': 569,\n",
    "            'n_folds': 4,\n",
    "            'n_repeats': 2,\n",
    "            'folding': 'stratified_sklearn'}\n",
    "scores = {'acc': 0.9, 'spec': 0.9, 'sens': 0.6}\n",
    "\n",
    "result = check_1_dataset_kfold_mor_scores(scores=scores,\n",
    "                                            eps=1e-2,\n",
    "                                            dataset=dataset)\n",
    "result['inconsistency']"
   ]
  },
  {
   "cell_type": "code",
   "execution_count": 23,
   "metadata": {},
   "outputs": [
    {
     "name": "stderr",
     "output_type": "stream",
     "text": [
      "2023-08-28 12:42:03,511:INFO:fold common_datasets.glass_0_1_6_vs_2_0_0: adding lower bound 0.8 for acc\n",
      "2023-08-28 12:42:03,513:INFO:fold common_datasets.glass_0_1_6_vs_2_0_0: adding upper bound 1.0 for acc\n",
      "2023-08-28 12:42:03,514:INFO:fold common_datasets.glass_0_1_6_vs_2_0_1: adding lower bound 0.8 for acc\n",
      "2023-08-28 12:42:03,515:INFO:fold common_datasets.glass_0_1_6_vs_2_0_1: adding upper bound 1.0 for acc\n",
      "2023-08-28 12:42:03,515:INFO:fold common_datasets.glass_0_1_6_vs_2_0_2: adding lower bound 0.8 for acc\n",
      "2023-08-28 12:42:03,516:INFO:fold common_datasets.glass_0_1_6_vs_2_0_2: adding upper bound 1.0 for acc\n",
      "2023-08-28 12:42:03,517:INFO:fold common_datasets.glass_0_1_6_vs_2_0_3: adding lower bound 0.8 for acc\n",
      "2023-08-28 12:42:03,517:INFO:fold common_datasets.glass_0_1_6_vs_2_0_3: adding upper bound 1.0 for acc\n",
      "2023-08-28 12:42:03,518:INFO:fold common_datasets.glass_0_1_6_vs_2_1_0: adding lower bound 0.8 for acc\n",
      "2023-08-28 12:42:03,519:INFO:fold common_datasets.glass_0_1_6_vs_2_1_0: adding upper bound 1.0 for acc\n",
      "2023-08-28 12:42:03,520:INFO:fold common_datasets.glass_0_1_6_vs_2_1_1: adding lower bound 0.8 for acc\n",
      "2023-08-28 12:42:03,520:INFO:fold common_datasets.glass_0_1_6_vs_2_1_1: adding upper bound 1.0 for acc\n",
      "2023-08-28 12:42:03,524:INFO:fold common_datasets.glass_0_1_6_vs_2_1_2: adding lower bound 0.8 for acc\n",
      "2023-08-28 12:42:03,524:INFO:fold common_datasets.glass_0_1_6_vs_2_1_2: adding upper bound 1.0 for acc\n",
      "2023-08-28 12:42:03,525:INFO:fold common_datasets.glass_0_1_6_vs_2_1_3: adding lower bound 0.8 for acc\n",
      "2023-08-28 12:42:03,526:INFO:fold common_datasets.glass_0_1_6_vs_2_1_3: adding upper bound 1.0 for acc\n",
      "2023-08-28 12:42:03,526:INFO:None: adding condition acc >= 0.890000\n",
      "2023-08-28 12:42:03,528:INFO:None: adding condition acc <= 0.910000\n",
      "2023-08-28 12:42:03,528:INFO:None: adding condition spec >= 0.890000\n",
      "2023-08-28 12:42:03,529:INFO:None: adding condition spec <= 0.910000\n",
      "2023-08-28 12:42:03,530:INFO:None: adding condition sens >= 0.590000\n",
      "2023-08-28 12:42:03,531:INFO:None: adding condition sens <= 0.610000\n",
      "2023-08-28 12:42:03,533:INFO:None: adding condition bacc >= 0.090000\n",
      "2023-08-28 12:42:03,533:INFO:None: adding condition bacc <= 0.110000\n"
     ]
    },
    {
     "name": "stdout",
     "output_type": "stream",
     "text": [
      "Welcome to the CBC MILP Solver \n",
      "Version: 2.10.3 \n",
      "Build Date: Dec 15 2019 \n",
      "\n",
      "command line - /home/gykovacs/anaconda3/envs/mlscorecheck/lib/python3.10/site-packages/pulp/solverdir/cbc/linux/64/cbc /tmp/c36e43aac6bc41aaa4fe827166590a2b-pulp.mps timeMode elapsed branch printingOptions all solution /tmp/c36e43aac6bc41aaa4fe827166590a2b-pulp.sol (default strategy 1)\n",
      "At line 2 NAME          MODEL\n",
      "At line 3 ROWS\n",
      "At line 29 COLUMNS\n",
      "At line 191 RHS\n",
      "At line 216 BOUNDS\n",
      "At line 234 ENDATA\n",
      "Problem MODEL has 24 rows, 17 columns and 128 elements\n",
      "Coin0008I MODEL read with 0 errors\n",
      "Option for timeMode changed from cpu to elapsed\n",
      "Problem is infeasible - 0.00 seconds\n",
      "Option for printingOptions changed from normal to all\n",
      "Total time (CPU seconds):       0.00   (Wallclock seconds):       0.00\n",
      "\n"
     ]
    },
    {
     "data": {
      "text/plain": [
       "True"
      ]
     },
     "execution_count": 23,
     "metadata": {},
     "output_type": "execute_result"
    }
   ],
   "source": [
    "dataset = {'name': 'common_datasets.glass_0_1_6_vs_2',\n",
    "                    'n_folds': 4,\n",
    "                    'n_repeats': 2,\n",
    "                    'folding': 'stratified_sklearn',\n",
    "                    'fold_score_bounds': {'acc': (0.8, 1.0)}}\n",
    "scores = {'acc': 0.9, 'spec': 0.9, 'sens': 0.6, 'bacc': 0.1, 'f1p': 0.95}\n",
    "\n",
    "result = check_1_dataset_kfold_mor_scores(scores=scores,\n",
    "                                            eps=1e-2,\n",
    "                                            dataset=dataset,\n",
    "                                            numerical_tolerance=1e-6)\n",
    "result['inconsistency']"
   ]
  },
  {
   "cell_type": "code",
   "execution_count": 20,
   "metadata": {},
   "outputs": [
    {
     "name": "stderr",
     "output_type": "stream",
     "text": [
      "2023-08-28 12:39:52,213:INFO:a random identifier for the fold has been generated lyftqqztmgfmtqvy\n",
      "2023-08-28 12:39:52,215:INFO:a random identifier for the fold has been generated qeairpsypqpmubru\n",
      "2023-08-28 12:39:52,216:INFO:a random identifier for the fold has been generated juucxiavdybwqupf\n",
      "2023-08-28 12:39:52,217:INFO:a random identifier for the fold has been generated eabyvetmviyihtqj\n",
      "2023-08-28 12:39:52,218:INFO:a random identifier for the fold has been generated gndaqaoxmbtccxjb\n",
      "2023-08-28 12:39:52,219:INFO:a random identifier for the fold has been generated yqbuxcqrtbxbwvhv\n",
      "2023-08-28 12:39:52,220:INFO:a random identifier for the fold has been generated dhqrprncerzlmkmy\n",
      "2023-08-28 12:39:52,221:INFO:a random identifier for the fold has been generated exungqfxieojnmub\n"
     ]
    },
    {
     "data": {
      "text/plain": [
       "({'folds': [{'p': 52, 'n': 65},\n",
       "   {'p': 19, 'n': 73},\n",
       "   {'p': 89, 'n': 56},\n",
       "   {'p': 85, 'n': 95},\n",
       "   {'p': 31, 'n': 75},\n",
       "   {'p': 8, 'n': 27},\n",
       "   {'p': 46, 'n': 83},\n",
       "   {'p': 66, 'n': 23}],\n",
       "  'fold_score_bounds': {'acc': (0.19465217391304346, 0.8295714285714285),\n",
       "   'sens': (0.41204347826086957, 0.9048461538461539),\n",
       "   'spec': (0.03471428571428571, 0.9269259259259258),\n",
       "   'bacc': (0.33534408602150534, 0.7529230769230769)}},\n",
       " {'acc': 0.527, 'sens': 0.586, 'bacc': 0.537})"
      ]
     },
     "execution_count": 20,
     "metadata": {},
     "output_type": "execute_result"
    }
   ],
   "source": [
    "dataset, scores = generate_dataset_and_scores(max_n_folds=5,\n",
    "                                                max_n_repeats=2,\n",
    "                                                rounding_decimals=3,\n",
    "                                                fold_score_bounds=True,\n",
    "                                                aggregation='mor',\n",
    "                                                score_subset=['acc', 'sens', 'bacc', 'f1p'])\n",
    "dataset, scores"
   ]
  },
  {
   "cell_type": "code",
   "execution_count": 21,
   "metadata": {},
   "outputs": [
    {
     "name": "stderr",
     "output_type": "stream",
     "text": [
      "2023-08-28 12:39:52,233:INFO:generating a random id for the dataset\n",
      "2023-08-28 12:39:52,236:INFO:a random identifier for the fold has been generated wkpdgarcffpdouoc\n",
      "2023-08-28 12:39:52,237:INFO:a random identifier for the fold has been generated qjrqwcnvzrnddwfa\n",
      "2023-08-28 12:39:52,238:INFO:a random identifier for the fold has been generated lcgxueehccuydydp\n",
      "2023-08-28 12:39:52,240:INFO:a random identifier for the fold has been generated tnmwoijnewpimauq\n",
      "2023-08-28 12:39:52,240:INFO:a random identifier for the fold has been generated rgbmwgtysuhdsoka\n",
      "2023-08-28 12:39:52,241:INFO:a random identifier for the fold has been generated dyfovhjqolajtesy\n",
      "2023-08-28 12:39:52,241:INFO:a random identifier for the fold has been generated nwwztkxppetjvmnm\n",
      "2023-08-28 12:39:52,242:INFO:a random identifier for the fold has been generated jnibmekeuvuwsmmf\n",
      "2023-08-28 12:39:52,243:INFO:fold wkpdgarcffpdouoc: adding lower bound 0.19465217391304346 for acc\n",
      "2023-08-28 12:39:52,243:INFO:fold wkpdgarcffpdouoc: adding upper bound 0.8295714285714285 for acc\n",
      "2023-08-28 12:39:52,244:INFO:fold wkpdgarcffpdouoc: adding lower bound 0.41204347826086957 for sens\n",
      "2023-08-28 12:39:52,245:INFO:fold wkpdgarcffpdouoc: adding upper bound 0.9048461538461539 for sens\n",
      "2023-08-28 12:39:52,245:INFO:fold wkpdgarcffpdouoc: adding lower bound 0.03471428571428571 for spec\n",
      "2023-08-28 12:39:52,246:INFO:fold wkpdgarcffpdouoc: adding upper bound 0.9269259259259258 for spec\n",
      "2023-08-28 12:39:52,246:INFO:fold wkpdgarcffpdouoc: adding lower bound 0.33534408602150534 for bacc\n",
      "2023-08-28 12:39:52,247:INFO:fold wkpdgarcffpdouoc: adding upper bound 0.7529230769230769 for bacc\n",
      "2023-08-28 12:39:52,248:INFO:fold qjrqwcnvzrnddwfa: adding lower bound 0.19465217391304346 for acc\n",
      "2023-08-28 12:39:52,248:INFO:fold qjrqwcnvzrnddwfa: adding upper bound 0.8295714285714285 for acc\n",
      "2023-08-28 12:39:52,252:INFO:fold qjrqwcnvzrnddwfa: adding lower bound 0.41204347826086957 for sens\n",
      "2023-08-28 12:39:52,253:INFO:fold qjrqwcnvzrnddwfa: adding upper bound 0.9048461538461539 for sens\n",
      "2023-08-28 12:39:52,254:INFO:fold qjrqwcnvzrnddwfa: adding lower bound 0.03471428571428571 for spec\n",
      "2023-08-28 12:39:52,255:INFO:fold qjrqwcnvzrnddwfa: adding upper bound 0.9269259259259258 for spec\n",
      "2023-08-28 12:39:52,256:INFO:fold qjrqwcnvzrnddwfa: adding lower bound 0.33534408602150534 for bacc\n",
      "2023-08-28 12:39:52,256:INFO:fold qjrqwcnvzrnddwfa: adding upper bound 0.7529230769230769 for bacc\n",
      "2023-08-28 12:39:52,257:INFO:fold lcgxueehccuydydp: adding lower bound 0.19465217391304346 for acc\n",
      "2023-08-28 12:39:52,258:INFO:fold lcgxueehccuydydp: adding upper bound 0.8295714285714285 for acc\n",
      "2023-08-28 12:39:52,259:INFO:fold lcgxueehccuydydp: adding lower bound 0.41204347826086957 for sens\n",
      "2023-08-28 12:39:52,259:INFO:fold lcgxueehccuydydp: adding upper bound 0.9048461538461539 for sens\n",
      "2023-08-28 12:39:52,260:INFO:fold lcgxueehccuydydp: adding lower bound 0.03471428571428571 for spec\n",
      "2023-08-28 12:39:52,260:INFO:fold lcgxueehccuydydp: adding upper bound 0.9269259259259258 for spec\n",
      "2023-08-28 12:39:52,261:INFO:fold lcgxueehccuydydp: adding lower bound 0.33534408602150534 for bacc\n",
      "2023-08-28 12:39:52,262:INFO:fold lcgxueehccuydydp: adding upper bound 0.7529230769230769 for bacc\n",
      "2023-08-28 12:39:52,263:INFO:fold tnmwoijnewpimauq: adding lower bound 0.19465217391304346 for acc\n",
      "2023-08-28 12:39:52,263:INFO:fold tnmwoijnewpimauq: adding upper bound 0.8295714285714285 for acc\n",
      "2023-08-28 12:39:52,266:INFO:fold tnmwoijnewpimauq: adding lower bound 0.41204347826086957 for sens\n",
      "2023-08-28 12:39:52,266:INFO:fold tnmwoijnewpimauq: adding upper bound 0.9048461538461539 for sens\n",
      "2023-08-28 12:39:52,267:INFO:fold tnmwoijnewpimauq: adding lower bound 0.03471428571428571 for spec\n",
      "2023-08-28 12:39:52,268:INFO:fold tnmwoijnewpimauq: adding upper bound 0.9269259259259258 for spec\n",
      "2023-08-28 12:39:52,268:INFO:fold tnmwoijnewpimauq: adding lower bound 0.33534408602150534 for bacc\n",
      "2023-08-28 12:39:52,269:INFO:fold tnmwoijnewpimauq: adding upper bound 0.7529230769230769 for bacc\n",
      "2023-08-28 12:39:52,270:INFO:fold rgbmwgtysuhdsoka: adding lower bound 0.19465217391304346 for acc\n",
      "2023-08-28 12:39:52,270:INFO:fold rgbmwgtysuhdsoka: adding upper bound 0.8295714285714285 for acc\n",
      "2023-08-28 12:39:52,271:INFO:fold rgbmwgtysuhdsoka: adding lower bound 0.41204347826086957 for sens\n",
      "2023-08-28 12:39:52,271:INFO:fold rgbmwgtysuhdsoka: adding upper bound 0.9048461538461539 for sens\n",
      "2023-08-28 12:39:52,273:INFO:fold rgbmwgtysuhdsoka: adding lower bound 0.03471428571428571 for spec\n",
      "2023-08-28 12:39:52,274:INFO:fold rgbmwgtysuhdsoka: adding upper bound 0.9269259259259258 for spec\n",
      "2023-08-28 12:39:52,275:INFO:fold rgbmwgtysuhdsoka: adding lower bound 0.33534408602150534 for bacc\n",
      "2023-08-28 12:39:52,276:INFO:fold rgbmwgtysuhdsoka: adding upper bound 0.7529230769230769 for bacc\n",
      "2023-08-28 12:39:52,276:INFO:fold dyfovhjqolajtesy: adding lower bound 0.19465217391304346 for acc\n",
      "2023-08-28 12:39:52,278:INFO:fold dyfovhjqolajtesy: adding upper bound 0.8295714285714285 for acc\n",
      "2023-08-28 12:39:52,283:INFO:fold dyfovhjqolajtesy: adding lower bound 0.41204347826086957 for sens\n",
      "2023-08-28 12:39:52,284:INFO:fold dyfovhjqolajtesy: adding upper bound 0.9048461538461539 for sens\n",
      "2023-08-28 12:39:52,284:INFO:fold dyfovhjqolajtesy: adding lower bound 0.03471428571428571 for spec\n",
      "2023-08-28 12:39:52,285:INFO:fold dyfovhjqolajtesy: adding upper bound 0.9269259259259258 for spec\n",
      "2023-08-28 12:39:52,286:INFO:fold dyfovhjqolajtesy: adding lower bound 0.33534408602150534 for bacc\n",
      "2023-08-28 12:39:52,287:INFO:fold dyfovhjqolajtesy: adding upper bound 0.7529230769230769 for bacc\n",
      "2023-08-28 12:39:52,287:INFO:fold nwwztkxppetjvmnm: adding lower bound 0.19465217391304346 for acc\n",
      "2023-08-28 12:39:52,288:INFO:fold nwwztkxppetjvmnm: adding upper bound 0.8295714285714285 for acc\n",
      "2023-08-28 12:39:52,288:INFO:fold nwwztkxppetjvmnm: adding lower bound 0.41204347826086957 for sens\n",
      "2023-08-28 12:39:52,289:INFO:fold nwwztkxppetjvmnm: adding upper bound 0.9048461538461539 for sens\n",
      "2023-08-28 12:39:52,289:INFO:fold nwwztkxppetjvmnm: adding lower bound 0.03471428571428571 for spec\n",
      "2023-08-28 12:39:52,290:INFO:fold nwwztkxppetjvmnm: adding upper bound 0.9269259259259258 for spec\n",
      "2023-08-28 12:39:52,291:INFO:fold nwwztkxppetjvmnm: adding lower bound 0.33534408602150534 for bacc\n",
      "2023-08-28 12:39:52,291:INFO:fold nwwztkxppetjvmnm: adding upper bound 0.7529230769230769 for bacc\n",
      "2023-08-28 12:39:52,292:INFO:fold jnibmekeuvuwsmmf: adding lower bound 0.19465217391304346 for acc\n",
      "2023-08-28 12:39:52,293:INFO:fold jnibmekeuvuwsmmf: adding upper bound 0.8295714285714285 for acc\n",
      "2023-08-28 12:39:52,294:INFO:fold jnibmekeuvuwsmmf: adding lower bound 0.41204347826086957 for sens\n",
      "2023-08-28 12:39:52,295:INFO:fold jnibmekeuvuwsmmf: adding upper bound 0.9048461538461539 for sens\n",
      "2023-08-28 12:39:52,295:INFO:fold jnibmekeuvuwsmmf: adding lower bound 0.03471428571428571 for spec\n",
      "2023-08-28 12:39:52,296:INFO:fold jnibmekeuvuwsmmf: adding upper bound 0.9269259259259258 for spec\n",
      "2023-08-28 12:39:52,296:INFO:fold jnibmekeuvuwsmmf: adding lower bound 0.33534408602150534 for bacc\n",
      "2023-08-28 12:39:52,297:INFO:fold jnibmekeuvuwsmmf: adding upper bound 0.7529230769230769 for bacc\n",
      "2023-08-28 12:39:52,298:INFO:None: adding condition acc >= 0.526000\n",
      "2023-08-28 12:39:52,299:INFO:None: adding condition acc <= 0.528000\n",
      "2023-08-28 12:39:52,299:INFO:None: adding condition sens >= 0.585000\n",
      "2023-08-28 12:39:52,300:INFO:None: adding condition sens <= 0.587000\n",
      "2023-08-28 12:39:52,301:INFO:None: adding condition bacc >= 0.536000\n",
      "2023-08-28 12:39:52,301:INFO:None: adding condition bacc <= 0.538000\n"
     ]
    },
    {
     "data": {
      "text/plain": [
       "False"
      ]
     },
     "execution_count": 21,
     "metadata": {},
     "output_type": "execute_result"
    }
   ],
   "source": [
    "result = check_1_dataset_kfold_mor_scores(scores=scores, \n",
    "                                            eps=1e-3,\n",
    "                                            dataset=dataset,\n",
    "                                            verbosity=0)\n",
    "result['inconsistency']"
   ]
  },
  {
   "cell_type": "code",
   "execution_count": 8,
   "metadata": {},
   "outputs": [
    {
     "data": {
      "text/plain": [
       "{'inconsistency': False,\n",
       " 'lp_status': 'feasible',\n",
       " 'lp_configuration_scores_match': True,\n",
       " 'lp_configuration_bounds_match': True,\n",
       " 'lp_configuration': {'identifier': None,\n",
       "  'figures': {'p': 126, 'n': 131, 'tp': 93.0, 'tn': 49.0},\n",
       "  'scores': {'acc': 0.572689127483648,\n",
       "   'sens': 0.7684511434511435,\n",
       "   'spec': 0.5556354226566993,\n",
       "   'bacc': 0.6620432830539213},\n",
       "  'bounds_flag': True,\n",
       "  'datasets': [{'id': 'opzbgipopgeqahnx',\n",
       "    'figures': {'p': 126, 'n': 131, 'tp': 93.0, 'tn': 49.0},\n",
       "    'scores': {'acc': 0.572689127483648,\n",
       "     'sens': 0.7684511434511435,\n",
       "     'spec': 0.5556354226566993,\n",
       "     'bacc': 0.6620432830539213},\n",
       "    'score_bounds': None,\n",
       "    'score_bounds_flag': None,\n",
       "    'bounds_flag': True,\n",
       "    'folds': [{'identifier': 'dgujlhkbdpklexvq',\n",
       "      'figures': {'tn': 13.0, 'tp': 49.0},\n",
       "      'scores': {'acc': 0.4246575342465753,\n",
       "       'sens': 0.9423076923076924,\n",
       "       'spec': 0.13829787234042554,\n",
       "       'bacc': 0.5403027823240589},\n",
       "      'score_bounds': None,\n",
       "      'score_bounds_flag': None,\n",
       "      'bounds_flag': True},\n",
       "     {'identifier': 'xecrlbdbiiledjjs',\n",
       "      'figures': {'tn': 36.0, 'tp': 44.0},\n",
       "      'scores': {'acc': 0.7207207207207207,\n",
       "       'sens': 0.5945945945945946,\n",
       "       'spec': 0.972972972972973,\n",
       "       'bacc': 0.7837837837837838},\n",
       "      'score_bounds': None,\n",
       "      'score_bounds_flag': None,\n",
       "      'bounds_flag': True}]}]}}"
      ]
     },
     "execution_count": 8,
     "metadata": {},
     "output_type": "execute_result"
    }
   ],
   "source": [
    "result"
   ]
  },
  {
   "cell_type": "code",
   "execution_count": null,
   "metadata": {},
   "outputs": [],
   "source": []
  }
 ],
 "metadata": {
  "kernelspec": {
   "display_name": "mlscorecheck",
   "language": "python",
   "name": "python3"
  },
  "language_info": {
   "codemirror_mode": {
    "name": "ipython",
    "version": 3
   },
   "file_extension": ".py",
   "mimetype": "text/x-python",
   "name": "python",
   "nbconvert_exporter": "python",
   "pygments_lexer": "ipython3",
   "version": "3.10.0"
  },
  "orig_nbformat": 4
 },
 "nbformat": 4,
 "nbformat_minor": 2
}
