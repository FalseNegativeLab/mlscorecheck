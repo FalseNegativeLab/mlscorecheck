{
 "cells": [
  {
   "cell_type": "code",
   "execution_count": 1,
   "metadata": {},
   "outputs": [],
   "source": [
    "from mlscorecheck.check import check_n_datasets_mor_kfold_rom_scores"
   ]
  },
  {
   "cell_type": "code",
   "execution_count": 4,
   "metadata": {},
   "outputs": [],
   "source": [
    "evaluation0 = {'dataset': {'p': 39, 'n': 822},\n",
    "                'folding': {'n_folds': 8, 'n_repeats': 4, \n",
    "                            'strategy': 'stratified_sklearn'}}\n",
    "evaluation1 = {'dataset': {'dataset_name': 'common_datasets.winequality-white-3_vs_7'},\n",
    "                'folding': {'n_folds': 3, 'n_repeats': 3, \n",
    "                            'strategy': 'stratified_sklearn'}}\n",
    "experiment = {'evaluations': [evaluation0, evaluation1],\n",
    "                'dataset_score_bounds': {'acc': (0.5, 1.0)}}\n",
    "scores = {'acc': 0.548, 'sens': 0.593, 'spec': 0.546, 'bacc': 0.569}\n"
   ]
  },
  {
   "cell_type": "code",
   "execution_count": 5,
   "metadata": {},
   "outputs": [
    {
     "name": "stderr",
     "output_type": "stream",
     "text": [
      "2023-09-16 12:25:27,804:INFO:fncgy: adding lower bound 0.5 for acc\n",
      "2023-09-16 12:25:27,806:INFO:fncgy: adding upper bound 1.0 for acc\n",
      "2023-09-16 12:25:27,807:INFO:common_datasets.winequality-white-3_vs_7_qie: adding lower bound 0.5 for acc\n",
      "2023-09-16 12:25:27,808:INFO:common_datasets.winequality-white-3_vs_7_qie: adding upper bound 1.0 for acc\n"
     ]
    },
    {
     "name": "stdout",
     "output_type": "stream",
     "text": [
      "Welcome to the CBC MILP Solver \n",
      "Version: 2.10.3 \n",
      "Build Date: Dec 15 2019 \n",
      "\n",
      "command line - /home/gykovacs/anaconda3/envs/mlscorecheck/lib/python3.10/site-packages/pulp/solverdir/cbc/linux/64/cbc /tmp/8dcf904e70594e33b4febdc25d5ed9f3-pulp.mps timeMode elapsed branch printingOptions all solution /tmp/8dcf904e70594e33b4febdc25d5ed9f3-pulp.sol (default strategy 1)\n",
      "At line 2 NAME          MODEL\n",
      "At line 3 ROWS\n",
      "At line 17 COLUMNS\n",
      "At line 59 RHS\n",
      "At line 72 BOUNDS\n",
      "At line 78 ENDATA\n",
      "Problem MODEL has 12 rows, 5 columns and 32 elements\n",
      "Coin0008I MODEL read with 0 errors\n",
      "Option for timeMode changed from cpu to elapsed\n",
      "Continuous objective value is 0 - 0.00 seconds\n",
      "Cgl0003I 0 fixed, 3 tightened bounds, 0 strengthened rows, 0 substitutions\n",
      "Cgl0004I processed model has 6 rows, 4 columns (4 integer (0 of which binary)) and 16 elements\n",
      "Cbc0012I Integer solution of 0 found by DiveCoefficient after 0 iterations and 0 nodes (0.00 seconds)\n",
      "Cbc0001I Search completed - best objective 0, took 0 iterations and 0 nodes (0.00 seconds)\n",
      "Cbc0035I Maximum depth 0, 0 variables fixed on reduced cost\n",
      "Cuts at root node changed objective from 0 to 0\n",
      "Probing was tried 0 times and created 0 cuts of which 0 were active after adding rounds of cuts (0.000 seconds)\n",
      "Gomory was tried 0 times and created 0 cuts of which 0 were active after adding rounds of cuts (0.000 seconds)\n",
      "Knapsack was tried 0 times and created 0 cuts of which 0 were active after adding rounds of cuts (0.000 seconds)\n",
      "Clique was tried 0 times and created 0 cuts of which 0 were active after adding rounds of cuts (0.000 seconds)\n",
      "MixedIntegerRounding2 was tried 0 times and created 0 cuts of which 0 were active after adding rounds of cuts (0.000 seconds)\n",
      "FlowCover was tried 0 times and created 0 cuts of which 0 were active after adding rounds of cuts (0.000 seconds)\n",
      "TwoMirCuts was tried 0 times and created 0 cuts of which 0 were active after adding rounds of cuts (0.000 seconds)\n",
      "ZeroHalf was tried 0 times and created 0 cuts of which 0 were active after adding rounds of cuts (0.000 seconds)\n",
      "\n",
      "Result - Optimal solution found\n",
      "\n",
      "Objective value:                0.00000000\n",
      "Enumerated nodes:               0\n",
      "Total iterations:               0\n",
      "Time (CPU seconds):             0.00\n",
      "Time (Wallclock seconds):       0.00\n",
      "\n",
      "Option for printingOptions changed from normal to all\n",
      "Total time (CPU seconds):       0.00   (Wallclock seconds):       0.00\n",
      "\n"
     ]
    },
    {
     "data": {
      "text/plain": [
       "False"
      ]
     },
     "execution_count": 5,
     "metadata": {},
     "output_type": "execute_result"
    }
   ],
   "source": [
    "result = check_n_datasets_mor_kfold_rom_scores(experiment=experiment,\n",
    "                                                eps=1e-3,\n",
    "                                                scores=scores)\n",
    "result['inconsistency']"
   ]
  },
  {
   "cell_type": "code",
   "execution_count": 6,
   "metadata": {},
   "outputs": [],
   "source": [
    "evaluation0 = {'dataset': {'p': 184, 'n': 258},\n",
    "                'folding': {'folds': [{'p': 22, 'n': 90},\n",
    "                                        {'p': 51, 'n': 45},\n",
    "                                        {'p': 78, 'n': 34},\n",
    "                                        {'p': 33, 'n': 89}]}}\n",
    "evaluation1 = {'dataset': {'dataset_name': 'common_datasets.yeast-1-2-8-9_vs_7'},\n",
    "                'folding': {'n_folds': 8, 'n_repeats': 4, 'strategy': 'stratified_sklearn'}}\n",
    "experiment = {'evaluations': [evaluation0, evaluation1]}\n",
    "scores = {'acc': 0.552, 'sens': 0.555, 'spec': 0.556, 'bacc': 0.555}"
   ]
  },
  {
   "cell_type": "code",
   "execution_count": 8,
   "metadata": {},
   "outputs": [
    {
     "name": "stdout",
     "output_type": "stream",
     "text": [
      "Welcome to the CBC MILP Solver \n",
      "Version: 2.10.3 \n",
      "Build Date: Dec 15 2019 \n",
      "\n",
      "command line - /home/gykovacs/anaconda3/envs/mlscorecheck/lib/python3.10/site-packages/pulp/solverdir/cbc/linux/64/cbc /tmp/c69ad87eaa8c432198aeb0a10536b953-pulp.mps timeMode elapsed branch printingOptions all solution /tmp/c69ad87eaa8c432198aeb0a10536b953-pulp.sol (default strategy 1)\n",
      "At line 2 NAME          MODEL\n",
      "At line 3 ROWS\n",
      "At line 13 COLUMNS\n",
      "At line 95 RHS\n",
      "At line 104 BOUNDS\n",
      "At line 116 ENDATA\n",
      "Problem MODEL has 8 rows, 11 columns and 60 elements\n",
      "Coin0008I MODEL read with 0 errors\n",
      "Option for timeMode changed from cpu to elapsed\n",
      "Problem is infeasible - 0.00 seconds\n",
      "Option for printingOptions changed from normal to all\n",
      "Total time (CPU seconds):       0.00   (Wallclock seconds):       0.00\n",
      "\n"
     ]
    },
    {
     "data": {
      "text/plain": [
       "True"
      ]
     },
     "execution_count": 8,
     "metadata": {},
     "output_type": "execute_result"
    }
   ],
   "source": [
    "result = check_n_datasets_mor_kfold_rom_scores(experiment=experiment,\n",
    "                                                eps=1e-4,\n",
    "                                                scores=scores)\n",
    "result['inconsistency']"
   ]
  }
 ],
 "metadata": {
  "kernelspec": {
   "display_name": "mlscorecheck",
   "language": "python",
   "name": "python3"
  },
  "language_info": {
   "codemirror_mode": {
    "name": "ipython",
    "version": 3
   },
   "file_extension": ".py",
   "mimetype": "text/x-python",
   "name": "python",
   "nbconvert_exporter": "python",
   "pygments_lexer": "ipython3",
   "version": "3.10.0"
  },
  "orig_nbformat": 4
 },
 "nbformat": 4,
 "nbformat_minor": 2
}
