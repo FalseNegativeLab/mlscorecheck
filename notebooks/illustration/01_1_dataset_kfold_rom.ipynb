{
 "cells": [
  {
   "cell_type": "code",
   "execution_count": 1,
   "metadata": {},
   "outputs": [],
   "source": [
    "from mlscorecheck.check import check_1_dataset_kfold_rom_scores\n",
    "from mlscorecheck.aggregated import generate_dataset_and_scores, Dataset"
   ]
  },
  {
   "cell_type": "code",
   "execution_count": 9,
   "metadata": {},
   "outputs": [
    {
     "name": "stderr",
     "output_type": "stream",
     "text": [
      "2023-08-28 10:26:31,787:INFO:generating a random id for the dataset\n",
      "2023-08-28 10:26:31,791:INFO:a random identifier for the fold has been generated rvynwskqphqmltch\n",
      "2023-08-28 10:26:31,795:INFO:a random identifier for the fold has been generated gvyohectjvrxeazy\n",
      "2023-08-28 10:26:31,796:INFO:a random identifier for the fold has been generated rtmofstizxdarmiu\n",
      "2023-08-28 10:26:31,797:INFO:a random identifier for the fold has been generated ouoepbxeylfunfsr\n",
      "2023-08-28 10:26:31,799:INFO:a random identifier for the fold has been generated mialppqnyejmhzrc\n",
      "2023-08-28 10:26:31,800:INFO:checking acc and npv against bacc\n",
      "2023-08-28 10:26:31,808:INFO:checking acc and npv against f1p\n",
      "2023-08-28 10:26:31,811:INFO:checking acc and bacc against npv\n",
      "2023-08-28 10:26:31,812:INFO:checking acc and bacc against f1p\n",
      "2023-08-28 10:26:31,814:INFO:checking acc and f1p against npv\n",
      "2023-08-28 10:26:31,816:INFO:checking acc and f1p against bacc\n",
      "2023-08-28 10:26:31,818:INFO:checking npv and bacc against acc\n",
      "2023-08-28 10:26:31,823:INFO:checking npv and bacc against f1p\n",
      "2023-08-28 10:26:31,826:INFO:checking npv and f1p against acc\n",
      "2023-08-28 10:26:31,828:INFO:checking npv and f1p against bacc\n",
      "2023-08-28 10:26:31,830:INFO:checking bacc and f1p against acc\n",
      "2023-08-28 10:26:31,832:INFO:checking bacc and f1p against npv\n",
      "2023-08-28 10:26:31,837:INFO:In the lack of score bounds, the linear programming based aggregated test is not considered.\n"
     ]
    },
    {
     "data": {
      "text/plain": [
       "False"
      ]
     },
     "execution_count": 9,
     "metadata": {},
     "output_type": "execute_result"
    }
   ],
   "source": [
    "dataset = {'folds': [{'p': 16, 'n': 99},\n",
    "                            {'p': 81, 'n': 69},\n",
    "                            {'p': 83, 'n': 2},\n",
    "                            {'p': 52, 'n': 19},\n",
    "                            {'p': 28, 'n': 14}]}\n",
    "scores = {'acc': 0.428, 'npv': 0.392, 'bacc': 0.442, 'f1p': 0.391}\n",
    "\n",
    "result = check_1_dataset_kfold_rom_scores(scores=scores,\n",
    "                                            eps=1e-3,\n",
    "                                            dataset=dataset)\n",
    "result['inconsistency']"
   ]
  },
  {
   "cell_type": "code",
   "execution_count": 16,
   "metadata": {},
   "outputs": [
    {
     "name": "stderr",
     "output_type": "stream",
     "text": [
      "2023-08-28 10:38:19,566:INFO:generating a random id for the dataset\n",
      "2023-08-28 10:38:19,569:INFO:a random identifier for the fold has been generated ajazffkqgcjcuejg\n",
      "2023-08-28 10:38:19,570:INFO:a random identifier for the fold has been generated vshswabgusfjrzzv\n",
      "2023-08-28 10:38:19,571:INFO:a random identifier for the fold has been generated pcgkjcwxbmaxwwiy\n",
      "2023-08-28 10:38:19,572:INFO:a random identifier for the fold has been generated ljgoddqbclwhgqta\n",
      "2023-08-28 10:38:19,573:INFO:a random identifier for the fold has been generated jzyyizehinjseesq\n",
      "2023-08-28 10:38:19,574:INFO:checking acc and npv against bacc\n",
      "2023-08-28 10:38:19,575:INFO:checking acc and npv against f1p\n",
      "2023-08-28 10:38:19,576:INFO:checking acc and bacc against npv\n",
      "2023-08-28 10:38:19,578:INFO:checking acc and bacc against f1p\n",
      "2023-08-28 10:38:19,579:INFO:checking acc and f1p against npv\n",
      "2023-08-28 10:38:19,580:INFO:checking acc and f1p against bacc\n",
      "2023-08-28 10:38:19,581:INFO:checking npv and bacc against acc\n",
      "2023-08-28 10:38:19,582:INFO:checking npv and bacc against f1p\n",
      "2023-08-28 10:38:19,584:INFO:checking npv and f1p against acc\n",
      "2023-08-28 10:38:19,585:INFO:checking npv and f1p against bacc\n",
      "2023-08-28 10:38:19,586:INFO:checking bacc and f1p against acc\n",
      "2023-08-28 10:38:19,587:INFO:checking bacc and f1p against npv\n",
      "/home/gykovacs/workspaces/mlscorecheck/mlscorecheck/check/_check_1_dataset_kfold_rom_scores.py:103: UserWarning: It is not a common situation that score bounds can be specified with ratio-of-means aggregation on one single dataset. Please double check the configuration.\n",
      "  warnings.warn('It is not a common situation that score bounds '\\\n",
      "2023-08-28 10:38:19,589:INFO:fold ljgoddqbclwhgqta: adding lower bound 0.8 for acc\n",
      "2023-08-28 10:38:19,594:INFO:fold ljgoddqbclwhgqta: adding upper bound 1.0 for acc\n",
      "2023-08-28 10:38:19,595:INFO:None: adding condition acc >= 0.427000\n",
      "2023-08-28 10:38:19,596:INFO:None: adding condition acc <= 0.429000\n",
      "2023-08-28 10:38:19,597:INFO:None: adding condition bacc >= 0.441000\n",
      "2023-08-28 10:38:19,598:INFO:None: adding condition bacc <= 0.443000\n"
     ]
    },
    {
     "name": "stdout",
     "output_type": "stream",
     "text": [
      "Welcome to the CBC MILP Solver \n",
      "Version: 2.10.3 \n",
      "Build Date: Dec 15 2019 \n",
      "\n",
      "command line - /home/gykovacs/anaconda3/envs/mlscorecheck/lib/python3.10/site-packages/pulp/solverdir/cbc/linux/64/cbc /tmp/84ad5f46ca89415babd63f281500a314-pulp.mps timeMode elapsed branch printingOptions all solution /tmp/84ad5f46ca89415babd63f281500a314-pulp.sol (default strategy 1)\n",
      "At line 2 NAME          MODEL\n",
      "At line 3 ROWS\n",
      "At line 11 COLUMNS\n",
      "At line 77 RHS\n",
      "At line 84 BOUNDS\n",
      "At line 96 ENDATA\n",
      "Problem MODEL has 6 rows, 11 columns and 44 elements\n",
      "Coin0008I MODEL read with 0 errors\n",
      "Option for timeMode changed from cpu to elapsed\n",
      "Continuous objective value is 0 - 0.00 seconds\n",
      "Cgl0003I 0 fixed, 3 tightened bounds, 0 strengthened rows, 0 substitutions\n",
      "Cgl0004I processed model has 3 rows, 4 columns (4 integer (0 of which binary)) and 10 elements\n",
      "Cbc0012I Integer solution of 0 found by DiveCoefficient after 0 iterations and 0 nodes (0.00 seconds)\n",
      "Cbc0001I Search completed - best objective 0, took 0 iterations and 0 nodes (0.00 seconds)\n",
      "Cbc0035I Maximum depth 0, 0 variables fixed on reduced cost\n",
      "Cuts at root node changed objective from 0 to 0\n",
      "Probing was tried 0 times and created 0 cuts of which 0 were active after adding rounds of cuts (0.000 seconds)\n",
      "Gomory was tried 0 times and created 0 cuts of which 0 were active after adding rounds of cuts (0.000 seconds)\n",
      "Knapsack was tried 0 times and created 0 cuts of which 0 were active after adding rounds of cuts (0.000 seconds)\n",
      "Clique was tried 0 times and created 0 cuts of which 0 were active after adding rounds of cuts (0.000 seconds)\n",
      "MixedIntegerRounding2 was tried 0 times and created 0 cuts of which 0 were active after adding rounds of cuts (0.000 seconds)\n",
      "FlowCover was tried 0 times and created 0 cuts of which 0 were active after adding rounds of cuts (0.000 seconds)\n",
      "TwoMirCuts was tried 0 times and created 0 cuts of which 0 were active after adding rounds of cuts (0.000 seconds)\n",
      "ZeroHalf was tried 0 times and created 0 cuts of which 0 were active after adding rounds of cuts (0.000 seconds)\n",
      "\n",
      "Result - Optimal solution found\n",
      "\n",
      "Objective value:                0.00000000\n",
      "Enumerated nodes:               0\n",
      "Total iterations:               0\n",
      "Time (CPU seconds):             0.00\n",
      "Time (Wallclock seconds):       0.00\n",
      "\n",
      "Option for printingOptions changed from normal to all\n",
      "Total time (CPU seconds):       0.00   (Wallclock seconds):       0.00\n",
      "\n"
     ]
    },
    {
     "data": {
      "text/plain": [
       "False"
      ]
     },
     "execution_count": 16,
     "metadata": {},
     "output_type": "execute_result"
    }
   ],
   "source": [
    "dataset = {'folds': [{'p': 16, 'n': 99},\n",
    "                            {'p': 81, 'n': 69},\n",
    "                            {'p': 83, 'n': 2},\n",
    "                            {'p': 52, 'n': 19, 'score_bounds': {'acc': (0.8, 1.0)}},\n",
    "                            {'p': 28, 'n': 14}]}\n",
    "scores = {'acc': 0.428, 'npv': 0.392, 'bacc': 0.442, 'f1p': 0.391}\n",
    "\n",
    "result = check_1_dataset_kfold_rom_scores(scores=scores,\n",
    "                                            eps=1e-3,\n",
    "                                            dataset=dataset)\n",
    "result['inconsistency']"
   ]
  },
  {
   "cell_type": "code",
   "execution_count": 10,
   "metadata": {},
   "outputs": [
    {
     "name": "stderr",
     "output_type": "stream",
     "text": [
      "2023-08-28 10:26:44,234:INFO:checking acc and npv against sens\n",
      "2023-08-28 10:26:44,238:INFO:checking acc and npv against f1p\n",
      "2023-08-28 10:26:44,242:INFO:checking acc and sens against npv\n",
      "2023-08-28 10:26:44,243:INFO:checking acc and sens against f1p\n",
      "2023-08-28 10:26:44,247:INFO:checking acc and f1p against npv\n",
      "2023-08-28 10:26:44,249:INFO:checking acc and f1p against sens\n",
      "2023-08-28 10:26:44,251:INFO:checking npv and sens against acc\n",
      "2023-08-28 10:26:44,252:INFO:checking npv and sens against f1p\n",
      "2023-08-28 10:26:44,253:INFO:checking npv and f1p against acc\n",
      "2023-08-28 10:26:44,255:INFO:checking npv and f1p against sens\n",
      "2023-08-28 10:26:44,257:INFO:checking sens and f1p against acc\n",
      "2023-08-28 10:26:44,258:INFO:checking sens and f1p against npv\n",
      "2023-08-28 10:26:44,260:INFO:In the lack of score bounds, the linear programming based aggregated test is not considered.\n"
     ]
    },
    {
     "data": {
      "text/plain": [
       "True"
      ]
     },
     "execution_count": 10,
     "metadata": {},
     "output_type": "execute_result"
    }
   ],
   "source": [
    "dataset = {'name': 'common_datasets.glass_0_1_6_vs_2',\n",
    "                    'n_folds': 4,\n",
    "                    'n_repeats': 2,\n",
    "                    'folding': 'stratified_sklearn'}\n",
    "scores = {'acc': 0.9, 'npv': 0.9, 'sens': 0.6, 'f1p': 0.95}\n",
    "\n",
    "result = check_1_dataset_kfold_rom_scores(scores=scores,\n",
    "                                            eps=1e-2,\n",
    "                                            dataset=dataset)\n",
    "result['inconsistency']"
   ]
  },
  {
   "cell_type": "code",
   "execution_count": 17,
   "metadata": {},
   "outputs": [
    {
     "name": "stderr",
     "output_type": "stream",
     "text": [
      "2023-08-28 10:38:45,569:INFO:checking acc and npv against sens\n",
      "2023-08-28 10:38:45,571:INFO:checking acc and npv against f1p\n",
      "2023-08-28 10:38:45,573:INFO:checking acc and sens against npv\n",
      "2023-08-28 10:38:45,574:INFO:checking acc and sens against f1p\n",
      "2023-08-28 10:38:45,575:INFO:checking acc and f1p against npv\n",
      "2023-08-28 10:38:45,578:INFO:checking acc and f1p against sens\n",
      "2023-08-28 10:38:45,579:INFO:checking npv and sens against acc\n",
      "2023-08-28 10:38:45,581:INFO:checking npv and sens against f1p\n",
      "2023-08-28 10:38:45,582:INFO:checking npv and f1p against acc\n",
      "2023-08-28 10:38:45,584:INFO:checking npv and f1p against sens\n",
      "2023-08-28 10:38:45,587:INFO:checking sens and f1p against acc\n",
      "2023-08-28 10:38:45,589:INFO:checking sens and f1p against npv\n",
      "/home/gykovacs/workspaces/mlscorecheck/mlscorecheck/check/_check_1_dataset_kfold_rom_scores.py:103: UserWarning: It is not a common situation that score bounds can be specified with ratio-of-means aggregation on one single dataset. Please double check the configuration.\n",
      "  warnings.warn('It is not a common situation that score bounds '\\\n",
      "2023-08-28 10:38:45,592:INFO:fold common_datasets.glass_0_1_6_vs_2_0_0: adding lower bound 0.8 for acc\n",
      "2023-08-28 10:38:45,593:INFO:fold common_datasets.glass_0_1_6_vs_2_0_0: adding upper bound 1.0 for acc\n",
      "2023-08-28 10:38:45,594:INFO:fold common_datasets.glass_0_1_6_vs_2_0_1: adding lower bound 0.8 for acc\n",
      "2023-08-28 10:38:45,595:INFO:fold common_datasets.glass_0_1_6_vs_2_0_1: adding upper bound 1.0 for acc\n",
      "2023-08-28 10:38:45,596:INFO:fold common_datasets.glass_0_1_6_vs_2_0_2: adding lower bound 0.8 for acc\n",
      "2023-08-28 10:38:45,596:INFO:fold common_datasets.glass_0_1_6_vs_2_0_2: adding upper bound 1.0 for acc\n",
      "2023-08-28 10:38:45,597:INFO:fold common_datasets.glass_0_1_6_vs_2_0_3: adding lower bound 0.8 for acc\n",
      "2023-08-28 10:38:45,597:INFO:fold common_datasets.glass_0_1_6_vs_2_0_3: adding upper bound 1.0 for acc\n",
      "2023-08-28 10:38:45,598:INFO:fold common_datasets.glass_0_1_6_vs_2_1_0: adding lower bound 0.8 for acc\n",
      "2023-08-28 10:38:45,599:INFO:fold common_datasets.glass_0_1_6_vs_2_1_0: adding upper bound 1.0 for acc\n",
      "2023-08-28 10:38:45,600:INFO:fold common_datasets.glass_0_1_6_vs_2_1_1: adding lower bound 0.8 for acc\n",
      "2023-08-28 10:38:45,600:INFO:fold common_datasets.glass_0_1_6_vs_2_1_1: adding upper bound 1.0 for acc\n",
      "2023-08-28 10:38:45,601:INFO:fold common_datasets.glass_0_1_6_vs_2_1_2: adding lower bound 0.8 for acc\n",
      "2023-08-28 10:38:45,602:INFO:fold common_datasets.glass_0_1_6_vs_2_1_2: adding upper bound 1.0 for acc\n",
      "2023-08-28 10:38:45,603:INFO:fold common_datasets.glass_0_1_6_vs_2_1_3: adding lower bound 0.8 for acc\n",
      "2023-08-28 10:38:45,604:INFO:fold common_datasets.glass_0_1_6_vs_2_1_3: adding upper bound 1.0 for acc\n",
      "2023-08-28 10:38:45,605:INFO:None: adding condition acc >= 0.890000\n",
      "2023-08-28 10:38:45,607:INFO:None: adding condition acc <= 0.910000\n",
      "2023-08-28 10:38:45,609:INFO:None: adding condition sens >= 0.590000\n",
      "2023-08-28 10:38:45,609:INFO:None: adding condition sens <= 0.610000\n"
     ]
    },
    {
     "name": "stdout",
     "output_type": "stream",
     "text": [
      "Welcome to the CBC MILP Solver \n",
      "Version: 2.10.3 \n",
      "Build Date: Dec 15 2019 \n",
      "\n",
      "command line - /home/gykovacs/anaconda3/envs/mlscorecheck/lib/python3.10/site-packages/pulp/solverdir/cbc/linux/64/cbc /tmp/51753137a609476cae141fd154029d9d-pulp.mps timeMode elapsed branch printingOptions all solution /tmp/51753137a609476cae141fd154029d9d-pulp.sol (default strategy 1)\n",
      "At line 2 NAME          MODEL\n",
      "At line 3 ROWS\n",
      "At line 25 COLUMNS\n",
      "At line 139 RHS\n",
      "At line 160 BOUNDS\n",
      "At line 178 ENDATA\n",
      "Problem MODEL has 20 rows, 17 columns and 80 elements\n",
      "Coin0008I MODEL read with 0 errors\n",
      "Option for timeMode changed from cpu to elapsed\n",
      "Continuous objective value is 0 - 0.00 seconds\n",
      "Cgl0004I processed model has 10 rows, 16 columns (16 integer (0 of which binary)) and 40 elements\n",
      "Cbc0031I 3 added rows had average density of 4\n",
      "Cbc0013I At root node, 8 cuts changed objective from 0 to 0 in 1 passes\n",
      "Cbc0014I Cut generator 0 (Probing) - 0 row cuts average 0.0 elements, 0 column cuts (0 active)  in 0.000 seconds - new frequency is -100\n",
      "Cbc0014I Cut generator 1 (Gomory) - 4 row cuts average 5.5 elements, 0 column cuts (0 active)  in 0.000 seconds - new frequency is -100\n",
      "Cbc0014I Cut generator 2 (Knapsack) - 0 row cuts average 0.0 elements, 0 column cuts (0 active)  in 0.000 seconds - new frequency is -100\n",
      "Cbc0014I Cut generator 3 (Clique) - 0 row cuts average 0.0 elements, 0 column cuts (0 active)  in 0.000 seconds - new frequency is -100\n",
      "Cbc0014I Cut generator 4 (MixedIntegerRounding2) - 0 row cuts average 0.0 elements, 0 column cuts (0 active)  in 0.000 seconds - new frequency is -100\n",
      "Cbc0014I Cut generator 5 (FlowCover) - 0 row cuts average 0.0 elements, 0 column cuts (0 active)  in 0.000 seconds - new frequency is -100\n",
      "Cbc0014I Cut generator 6 (TwoMirCuts) - 4 row cuts average 5.5 elements, 0 column cuts (0 active)  in 0.000 seconds - new frequency is -100\n",
      "Cbc0001I Search completed - best objective 1e+50, took 0 iterations and 0 nodes (0.00 seconds)\n",
      "Cbc0035I Maximum depth 0, 0 variables fixed on reduced cost\n",
      "Cuts at root node changed objective from 0 to 0\n",
      "Probing was tried 1 times and created 0 cuts of which 0 were active after adding rounds of cuts (0.000 seconds)\n",
      "Gomory was tried 1 times and created 4 cuts of which 0 were active after adding rounds of cuts (0.000 seconds)\n",
      "Knapsack was tried 1 times and created 0 cuts of which 0 were active after adding rounds of cuts (0.000 seconds)\n",
      "Clique was tried 1 times and created 0 cuts of which 0 were active after adding rounds of cuts (0.000 seconds)\n",
      "MixedIntegerRounding2 was tried 1 times and created 0 cuts of which 0 were active after adding rounds of cuts (0.000 seconds)\n",
      "FlowCover was tried 1 times and created 0 cuts of which 0 were active after adding rounds of cuts (0.000 seconds)\n",
      "TwoMirCuts was tried 1 times and created 4 cuts of which 0 were active after adding rounds of cuts (0.000 seconds)\n",
      "ZeroHalf was tried 1 times and created 0 cuts of which 0 were active after adding rounds of cuts (0.000 seconds)\n",
      "\n",
      "Result - Problem proven infeasible\n",
      "\n",
      "No feasible solution found\n",
      "Enumerated nodes:               0\n",
      "Total iterations:               0\n",
      "Time (CPU seconds):             0.00\n",
      "Time (Wallclock seconds):       0.00\n",
      "\n",
      "Option for printingOptions changed from normal to all\n",
      "Total time (CPU seconds):       0.00   (Wallclock seconds):       0.00\n",
      "\n"
     ]
    },
    {
     "data": {
      "text/plain": [
       "True"
      ]
     },
     "execution_count": 17,
     "metadata": {},
     "output_type": "execute_result"
    }
   ],
   "source": [
    "dataset = {'name': 'common_datasets.glass_0_1_6_vs_2',\n",
    "                    'n_folds': 4,\n",
    "                    'n_repeats': 2,\n",
    "                    'folding': 'stratified_sklearn',\n",
    "                    'fold_score_bounds': {'acc': (0.8, 1.0)}}\n",
    "scores = {'acc': 0.9, 'npv': 0.9, 'sens': 0.6, 'f1p': 0.95}\n",
    "\n",
    "result = check_1_dataset_kfold_rom_scores(scores=scores,\n",
    "                                            eps=1e-2,\n",
    "                                            dataset=dataset)\n",
    "result['inconsistency']"
   ]
  },
  {
   "cell_type": "code",
   "execution_count": 12,
   "metadata": {},
   "outputs": [
    {
     "name": "stderr",
     "output_type": "stream",
     "text": [
      "2023-08-28 10:27:18,144:INFO:generating a random id for the dataset\n",
      "2023-08-28 10:27:18,145:INFO:a random identifier for the fold has been generated wyghbhyxcmkhxhum\n",
      "2023-08-28 10:27:18,146:INFO:a random identifier for the fold has been generated yljrbiatukvvddeh\n"
     ]
    },
    {
     "data": {
      "text/plain": [
       "({'folds': [{'p': 9, 'n': 63}, {'p': 28, 'n': 31}],\n",
       "  'fold_score_bounds': {'acc': (0.2351111111111111, 0.7467627118644068),\n",
       "   'sens': (0.3323333333333333, 0.5367142857142857),\n",
       "   'spec': (0.2212222222222222, 0.9364838709677419),\n",
       "   'bacc': (0.2767777777777778, 0.7365990783410138)}},\n",
       " {'acc': 0.466, 'npv': 0.694, 'bacc': 0.472, 'f1p': 0.34})"
      ]
     },
     "execution_count": 12,
     "metadata": {},
     "output_type": "execute_result"
    }
   ],
   "source": [
    "dataset, scores = generate_dataset_and_scores(max_n_folds=5,\n",
    "                                                max_n_repeats=2,\n",
    "                                                rounding_decimals=3,\n",
    "                                                fold_score_bounds=True,\n",
    "                                                aggregation='rom',\n",
    "                                                score_subset=['acc', 'npv', 'bacc', 'f1p'],\n",
    "                                                random_state=5)\n",
    "dataset, scores"
   ]
  },
  {
   "cell_type": "code",
   "execution_count": 15,
   "metadata": {},
   "outputs": [
    {
     "name": "stderr",
     "output_type": "stream",
     "text": [
      "2023-08-28 10:27:55,650:INFO:generating a random id for the dataset\n",
      "2023-08-28 10:27:55,654:INFO:a random identifier for the fold has been generated yguqgdnovzrhianm\n",
      "2023-08-28 10:27:55,655:INFO:a random identifier for the fold has been generated dgzifvsfvbjxilfc\n",
      "2023-08-28 10:27:55,657:INFO:checking acc and npv against bacc\n",
      "2023-08-28 10:27:55,660:INFO:checking acc and npv against f1p\n",
      "2023-08-28 10:27:55,662:INFO:checking acc and bacc against npv\n",
      "2023-08-28 10:27:55,664:INFO:checking acc and bacc against f1p\n",
      "2023-08-28 10:27:55,666:INFO:checking acc and f1p against npv\n",
      "2023-08-28 10:27:55,668:INFO:checking acc and f1p against bacc\n",
      "2023-08-28 10:27:55,671:INFO:checking npv and bacc against acc\n",
      "2023-08-28 10:27:55,673:INFO:checking npv and bacc against f1p\n",
      "2023-08-28 10:27:55,675:INFO:checking npv and f1p against acc\n",
      "2023-08-28 10:27:55,676:INFO:checking npv and f1p against bacc\n",
      "2023-08-28 10:27:55,678:INFO:checking bacc and f1p against acc\n",
      "2023-08-28 10:27:55,679:INFO:checking bacc and f1p against npv\n",
      "2023-08-28 10:27:55,681:INFO:fold yguqgdnovzrhianm: adding lower bound 0.2351111111111111 for acc\n",
      "2023-08-28 10:27:55,683:INFO:fold yguqgdnovzrhianm: adding upper bound 0.7467627118644068 for acc\n",
      "2023-08-28 10:27:55,685:INFO:fold yguqgdnovzrhianm: adding lower bound 0.3323333333333333 for sens\n",
      "2023-08-28 10:27:55,685:INFO:fold yguqgdnovzrhianm: adding upper bound 0.5367142857142857 for sens\n",
      "2023-08-28 10:27:55,686:INFO:fold yguqgdnovzrhianm: adding lower bound 0.2212222222222222 for spec\n",
      "2023-08-28 10:27:55,687:INFO:fold yguqgdnovzrhianm: adding upper bound 0.9364838709677419 for spec\n",
      "2023-08-28 10:27:55,689:INFO:fold yguqgdnovzrhianm: adding lower bound 0.2767777777777778 for bacc\n",
      "2023-08-28 10:27:55,691:INFO:fold yguqgdnovzrhianm: adding upper bound 0.7365990783410138 for bacc\n",
      "2023-08-28 10:27:55,692:INFO:fold dgzifvsfvbjxilfc: adding lower bound 0.2351111111111111 for acc\n",
      "2023-08-28 10:27:55,693:INFO:fold dgzifvsfvbjxilfc: adding upper bound 0.7467627118644068 for acc\n",
      "2023-08-28 10:27:55,694:INFO:fold dgzifvsfvbjxilfc: adding lower bound 0.3323333333333333 for sens\n",
      "2023-08-28 10:27:55,695:INFO:fold dgzifvsfvbjxilfc: adding upper bound 0.5367142857142857 for sens\n",
      "2023-08-28 10:27:55,696:INFO:fold dgzifvsfvbjxilfc: adding lower bound 0.2212222222222222 for spec\n",
      "2023-08-28 10:27:55,696:INFO:fold dgzifvsfvbjxilfc: adding upper bound 0.9364838709677419 for spec\n",
      "2023-08-28 10:27:55,698:INFO:fold dgzifvsfvbjxilfc: adding lower bound 0.2767777777777778 for bacc\n",
      "2023-08-28 10:27:55,701:INFO:fold dgzifvsfvbjxilfc: adding upper bound 0.7365990783410138 for bacc\n",
      "2023-08-28 10:27:55,702:INFO:None: adding condition acc >= 0.465000\n",
      "2023-08-28 10:27:55,703:INFO:None: adding condition acc <= 0.467000\n",
      "2023-08-28 10:27:55,705:INFO:None: adding condition bacc >= 0.471000\n",
      "2023-08-28 10:27:55,705:INFO:None: adding condition bacc <= 0.473000\n"
     ]
    },
    {
     "data": {
      "text/plain": [
       "False"
      ]
     },
     "execution_count": 15,
     "metadata": {},
     "output_type": "execute_result"
    }
   ],
   "source": [
    "result = check_1_dataset_kfold_rom_scores(scores=scores, \n",
    "                                            eps=1e-3,\n",
    "                                            dataset=dataset,\n",
    "                                            verbosity=0)\n",
    "result['inconsistency']"
   ]
  },
  {
   "cell_type": "code",
   "execution_count": 20,
   "metadata": {},
   "outputs": [
    {
     "data": {
      "text/plain": [
       "{'inconsistency': True,\n",
       " 'lp_status': 'infeasible',\n",
       " 'lp_configuration': {'identifier': None,\n",
       "  'figures': {'p': 34, 'n': 350, 'tp': 20.740000000000002, 'tn': 321.02},\n",
       "  'scores': {'acc': 0.8899999999999999,\n",
       "   'sens': 0.6100000000000001,\n",
       "   'spec': 0.9171999999999999,\n",
       "   'bacc': 0.7636000000000001},\n",
       "  'bounds_flag': True,\n",
       "  'datasets': [{'id': 'common_datasets.glass_0_1_6_vs_2',\n",
       "    'figures': {'p': 34, 'n': 350, 'tp': 20.740000000000002, 'tn': 321.02},\n",
       "    'scores': {'acc': 0.8899999999999999,\n",
       "     'sens': 0.6100000000000001,\n",
       "     'spec': 0.9171999999999999,\n",
       "     'bacc': 0.7636000000000001},\n",
       "    'score_bounds': None,\n",
       "    'score_bounds_flag': None,\n",
       "    'bounds_flag': True,\n",
       "    'folds': [{'identifier': 'common_datasets.glass_0_1_6_vs_2_0_0',\n",
       "      'figures': {'tn': 44.0, 'tp': 4.0},\n",
       "      'scores': {'acc': 1.0, 'sens': 1.0, 'spec': 1.0, 'bacc': 1.0},\n",
       "      'score_bounds': {'acc': (0.8, 1.0)},\n",
       "      'score_bounds_flag': True,\n",
       "      'bounds_flag': True},\n",
       "     {'identifier': 'common_datasets.glass_0_1_6_vs_2_0_1',\n",
       "      'figures': {'tn': 44.0, 'tp': 4.0},\n",
       "      'scores': {'acc': 1.0, 'sens': 1.0, 'spec': 1.0, 'bacc': 1.0},\n",
       "      'score_bounds': {'acc': (0.8, 1.0)},\n",
       "      'score_bounds_flag': True,\n",
       "      'bounds_flag': True},\n",
       "     {'identifier': 'common_datasets.glass_0_1_6_vs_2_0_2',\n",
       "      'figures': {'tn': 35.82, 'tp': 3.74},\n",
       "      'scores': {'acc': 0.8241666666666667,\n",
       "       'sens': 0.935,\n",
       "       'spec': 0.8140909090909091,\n",
       "       'bacc': 0.8745454545454545},\n",
       "      'score_bounds': {'acc': (0.8, 1.0)},\n",
       "      'score_bounds_flag': True,\n",
       "      'bounds_flag': True},\n",
       "     {'identifier': 'common_datasets.glass_0_1_6_vs_2_0_3',\n",
       "      'figures': {'tn': 43.0, 'tp': 5.0},\n",
       "      'scores': {'acc': 1.0, 'sens': 1.0, 'spec': 1.0, 'bacc': 1.0},\n",
       "      'score_bounds': {'acc': (0.8, 1.0)},\n",
       "      'score_bounds_flag': True,\n",
       "      'bounds_flag': True},\n",
       "     {'identifier': 'common_datasets.glass_0_1_6_vs_2_1_0',\n",
       "      'figures': {'tn': 38.4, 'tp': 0.0},\n",
       "      'scores': {'acc': 0.7999999999999999,\n",
       "       'sens': 0.0,\n",
       "       'spec': 0.8727272727272727,\n",
       "       'bacc': 0.43636363636363634},\n",
       "      'score_bounds': {'acc': (0.8, 1.0)},\n",
       "      'score_bounds_flag': True,\n",
       "      'bounds_flag': True},\n",
       "     {'identifier': 'common_datasets.glass_0_1_6_vs_2_1_1',\n",
       "      'figures': {'tn': 34.4, 'tp': 4.0},\n",
       "      'scores': {'acc': 0.7999999999999999,\n",
       "       'sens': 1.0,\n",
       "       'spec': 0.7818181818181819,\n",
       "       'bacc': 0.8909090909090909},\n",
       "      'score_bounds': {'acc': (0.8, 1.0)},\n",
       "      'score_bounds_flag': True,\n",
       "      'bounds_flag': True},\n",
       "     {'identifier': 'common_datasets.glass_0_1_6_vs_2_1_2',\n",
       "      'figures': {'tn': 38.4, 'tp': 0.0},\n",
       "      'scores': {'acc': 0.7999999999999999,\n",
       "       'sens': 0.0,\n",
       "       'spec': 0.8727272727272727,\n",
       "       'bacc': 0.43636363636363634},\n",
       "      'score_bounds': {'acc': (0.8, 1.0)},\n",
       "      'score_bounds_flag': True,\n",
       "      'bounds_flag': True},\n",
       "     {'identifier': 'common_datasets.glass_0_1_6_vs_2_1_3',\n",
       "      'figures': {'tn': 43.0, 'tp': 0.0},\n",
       "      'scores': {'acc': 0.8958333333333333,\n",
       "       'sens': 0.0,\n",
       "       'spec': 1.0,\n",
       "       'bacc': 0.5},\n",
       "      'score_bounds': {'acc': (0.8, 1.0)},\n",
       "      'score_bounds_flag': True,\n",
       "      'bounds_flag': True}]}]}}"
      ]
     },
     "execution_count": 20,
     "metadata": {},
     "output_type": "execute_result"
    }
   ],
   "source": [
    "result['aggregated_results']"
   ]
  },
  {
   "cell_type": "code",
   "execution_count": null,
   "metadata": {},
   "outputs": [],
   "source": []
  }
 ],
 "metadata": {
  "kernelspec": {
   "display_name": "mlscorecheck",
   "language": "python",
   "name": "python3"
  },
  "language_info": {
   "codemirror_mode": {
    "name": "ipython",
    "version": 3
   },
   "file_extension": ".py",
   "mimetype": "text/x-python",
   "name": "python",
   "nbconvert_exporter": "python",
   "pygments_lexer": "ipython3",
   "version": "3.10.0"
  },
  "orig_nbformat": 4
 },
 "nbformat": 4,
 "nbformat_minor": 2
}
