{
 "cells": [
  {
   "cell_type": "code",
   "execution_count": 1,
   "metadata": {},
   "outputs": [],
   "source": [
    "from mlscorecheck.check import check_1_dataset_kfold_rom_scores\n",
    "from mlscorecheck.aggregated import generate_dataset_and_scores, Dataset"
   ]
  },
  {
   "cell_type": "code",
   "execution_count": 2,
   "metadata": {},
   "outputs": [
    {
     "data": {
      "text/plain": [
       "({'name': 'common_datasets.australian',\n",
       "  'n_folds': 3,\n",
       "  'n_repeats': 1,\n",
       "  'folding': 'stratified_sklearn'},\n",
       " {'acc': 0.642, 'npv': 0.653, 'bacc': 0.628, 'f1p': 0.553})"
      ]
     },
     "execution_count": 2,
     "metadata": {},
     "output_type": "execute_result"
    }
   ],
   "source": [
    "dataset, scores = generate_dataset_and_scores(max_n_folds=5,\n",
    "                                                max_n_repeats=2,\n",
    "                                                rounding_decimals=3,\n",
    "                                                fold_bounds=False,\n",
    "                                                aggregation='rom',\n",
    "                                                score_subset=['acc', 'npv', 'bacc', 'f1p'])\n",
    "dataset, scores"
   ]
  },
  {
   "cell_type": "code",
   "execution_count": 3,
   "metadata": {},
   "outputs": [
    {
     "data": {
      "text/plain": [
       "{'name': 'common_datasets.australian',\n",
       " 'n_folds': 3,\n",
       " 'n_repeats': 1,\n",
       " 'folding': 'stratified_sklearn'}"
      ]
     },
     "execution_count": 3,
     "metadata": {},
     "output_type": "execute_result"
    }
   ],
   "source": [
    "dataset"
   ]
  },
  {
   "cell_type": "code",
   "execution_count": 4,
   "metadata": {},
   "outputs": [
    {
     "name": "stderr",
     "output_type": "stream",
     "text": [
      "2023-08-28 08:43:49,252:INFO:checking acc and npv against bacc\n",
      "2023-08-28 08:43:49,256:INFO:checking acc and npv against f1p\n",
      "2023-08-28 08:43:49,259:INFO:checking acc and bacc against npv\n",
      "2023-08-28 08:43:49,261:INFO:checking acc and bacc against f1p\n",
      "2023-08-28 08:43:49,266:INFO:checking acc and f1p against npv\n",
      "2023-08-28 08:43:49,269:INFO:checking acc and f1p against bacc\n",
      "2023-08-28 08:43:49,271:INFO:checking npv and bacc against acc\n",
      "2023-08-28 08:43:49,273:INFO:checking npv and bacc against f1p\n",
      "2023-08-28 08:43:49,275:INFO:checking npv and f1p against acc\n",
      "2023-08-28 08:43:49,277:INFO:checking npv and f1p against bacc\n",
      "2023-08-28 08:43:49,280:INFO:checking bacc and f1p against acc\n",
      "2023-08-28 08:43:49,283:INFO:checking bacc and f1p against npv\n",
      "2023-08-28 08:43:49,285:INFO:In the lack of score bounds, the linear programming based aggregated test is not considered.\n"
     ]
    }
   ],
   "source": [
    "result = check_1_dataset_kfold_rom_scores(scores=scores, \n",
    "                                            eps=1e-4,\n",
    "                                            dataset=dataset)"
   ]
  },
  {
   "cell_type": "code",
   "execution_count": 5,
   "metadata": {},
   "outputs": [
    {
     "data": {
      "text/plain": [
       "{'inconsistency': True,\n",
       " 'individual_results': {'tests_succeeded': [{'details': [{'score_0': 'acc',\n",
       "      'score_0_interval': (0.6419, 0.6421),\n",
       "      'score_1': 'npv',\n",
       "      'score_1_interval': (0.6529, 0.6531),\n",
       "      'target_score': 'bacc',\n",
       "      'target_interval': (0.6279, 0.6281),\n",
       "      'solution': {'tp': (152.08325244937978, 153.51864584695866),\n",
       "       'tn': (289.798471260614, 290.56115729234784),\n",
       "       'tp_formula': '(acc*n*npv + acc*npv*p - acc*n - acc*p + npv*p)/(2*npv - 1)',\n",
       "       'tn_formula': '(acc*n + acc*p - p)*npv/(2*npv - 1)'},\n",
       "      'inconsistency': False,\n",
       "      'explanation': 'the target score interval ((0.6279, 0.6281)) and the reconstructed intervals ((0.6260195795456789, 0.6293530274795076)) do intersect',\n",
       "      'target_interval_reconstructed': (0.6260195795456789,\n",
       "       0.6293530274795076)}],\n",
       "    'edge_scores': [],\n",
       "    'underdetermined': False,\n",
       "    'inconsistency': False},\n",
       "   {'details': [{'score_0': 'acc',\n",
       "      'score_0_interval': (0.6419, 0.6421),\n",
       "      'score_1': 'npv',\n",
       "      'score_1_interval': (0.6529, 0.6531),\n",
       "      'target_score': 'f1p',\n",
       "      'target_interval': (0.5529000000000001, 0.5531),\n",
       "      'solution': {'tp': (152.08325244937978, 153.51864584695866),\n",
       "       'tn': (289.798471260614, 290.56115729234784),\n",
       "       'tp_formula': '(acc*n*npv + acc*npv*p - acc*n - acc*p + npv*p)/(2*npv - 1)',\n",
       "       'tn_formula': '(acc*n + acc*p - p)*npv/(2*npv - 1)'},\n",
       "      'inconsistency': False,\n",
       "      'explanation': 'the target score interval ((0.5529000000000001, 0.5531)) and the reconstructed intervals ((0.5493144712055803, 0.5567089594234593)) do intersect',\n",
       "      'target_interval_reconstructed': (0.5493144712055803,\n",
       "       0.5567089594234593)}],\n",
       "    'edge_scores': [],\n",
       "    'underdetermined': False,\n",
       "    'inconsistency': False},\n",
       "   {'details': [{'score_0': 'acc',\n",
       "      'score_0_interval': (0.6419, 0.6421),\n",
       "      'score_1': 'bacc',\n",
       "      'score_1_interval': (0.6279, 0.6281),\n",
       "      'target_score': 'npv',\n",
       "      'target_interval': (0.6529, 0.6531),\n",
       "      'solution': {'tp': (153.18653684210543, 154.36283157894732),\n",
       "       'tn': (288.54816842105276, 289.86246315789464),\n",
       "       'tp_formula': '-(acc*n - 2*bacc*n + acc*p)*p/(n - p)',\n",
       "       'tn_formula': '(acc*n + acc*p - 2*bacc*p)*n/(n - p)'},\n",
       "      'inconsistency': False,\n",
       "      'explanation': 'the target score interval ((0.6529, 0.6531)) and the reconstructed intervals ((0.6503579556752348, 0.6570083793642323)) do intersect',\n",
       "      'target_interval_reconstructed': (0.6503579556752348,\n",
       "       0.6570083793642323)}],\n",
       "    'edge_scores': [],\n",
       "    'underdetermined': False,\n",
       "    'inconsistency': False},\n",
       "   {'details': [{'score_0': 'acc',\n",
       "      'score_0_interval': (0.6419, 0.6421),\n",
       "      'score_1': 'bacc',\n",
       "      'score_1_interval': (0.6279, 0.6281),\n",
       "      'target_score': 'f1p',\n",
       "      'target_interval': (0.5529000000000001, 0.5531),\n",
       "      'solution': {'tp': (153.18653684210543, 154.36283157894732),\n",
       "       'tn': (288.54816842105276, 289.86246315789464),\n",
       "       'tp_formula': '-(acc*n - 2*bacc*n + acc*p)*p/(n - p)',\n",
       "       'tn_formula': '(acc*n + acc*p - 2*bacc*p)*n/(n - p)'},\n",
       "      'inconsistency': False,\n",
       "      'explanation': 'the target score interval ((0.5529000000000001, 0.5531)) and the reconstructed intervals ((0.5512144496935971, 0.5579472823264299)) do intersect',\n",
       "      'target_interval_reconstructed': (0.5512144496935971,\n",
       "       0.5579472823264299)}],\n",
       "    'edge_scores': [],\n",
       "    'underdetermined': False,\n",
       "    'inconsistency': False},\n",
       "   {'details': [{'score_0': 'npv',\n",
       "      'score_0_interval': (0.6529, 0.6531),\n",
       "      'score_1': 'bacc',\n",
       "      'score_1_interval': (0.6279, 0.6281),\n",
       "      'target_score': 'acc',\n",
       "      'target_interval': (0.6419, 0.6421),\n",
       "      'solution': {'tp': (151.33239118585462, 153.51035261433154),\n",
       "       'tn': (290.3268352196218, 291.46455773721857),\n",
       "       'tp_formula': '(2*bacc*n*npv - 2*bacc*n + npv*p)*p/(n*npv + npv*p - n)',\n",
       "       'tn_formula': '(2*bacc - 1)*n*npv*p/(n*npv + npv*p - n)'},\n",
       "      'inconsistency': False,\n",
       "      'explanation': 'the target score interval ((0.6419, 0.6421)) and the reconstructed intervals ((0.6400858353702557, 0.6448911744225363)) do intersect',\n",
       "      'target_interval_reconstructed': (0.6400858353702557,\n",
       "       0.6448911744225363)}],\n",
       "    'edge_scores': [],\n",
       "    'underdetermined': False,\n",
       "    'inconsistency': False},\n",
       "   {'details': [{'score_0': 'npv',\n",
       "      'score_0_interval': (0.6529, 0.6531),\n",
       "      'score_1': 'bacc',\n",
       "      'score_1_interval': (0.6279, 0.6281),\n",
       "      'target_score': 'f1p',\n",
       "      'target_interval': (0.5529000000000001, 0.5531),\n",
       "      'solution': {'tp': (151.33239118585462, 153.51035261433154),\n",
       "       'tn': (290.3268352196218, 291.46455773721857),\n",
       "       'tp_formula': '(2*bacc*n*npv - 2*bacc*n + npv*p)*p/(n*npv + npv*p - n)',\n",
       "       'tn_formula': '(2*bacc - 1)*n*npv*p/(n*npv + npv*p - n)'},\n",
       "      'inconsistency': False,\n",
       "      'explanation': 'the target score interval ((0.5529000000000001, 0.5531)) and the reconstructed intervals ((0.5471326835570747, 0.5583536380062544)) do intersect',\n",
       "      'target_interval_reconstructed': (0.5471326835570747,\n",
       "       0.5583536380062544)}],\n",
       "    'edge_scores': [],\n",
       "    'underdetermined': False,\n",
       "    'inconsistency': False},\n",
       "   {'details': [{'score_0': 'npv',\n",
       "      'score_0_interval': (0.6529, 0.6531),\n",
       "      'score_1': 'f1p',\n",
       "      'score_1_interval': (0.5529000000000001, 0.5531),\n",
       "      'target_score': 'acc',\n",
       "      'target_interval': (0.6419, 0.6421),\n",
       "      'solution': {'tp': (152.05454331210206, 153.54205380241643),\n",
       "       'tn': (289.0655836518047, 291.3127716417913),\n",
       "       'tp_formula': '(n*npv + 2*npv*p - n - p)*f1p/(f1p + 2*npv - 2)',\n",
       "       'tn_formula': '(f1p*n + 2*f1p*p - 2*p)*npv/(f1p + 2*npv - 2)'},\n",
       "      'inconsistency': False,\n",
       "      'explanation': 'the target score interval ((0.6419, 0.6421)) and the reconstructed intervals ((0.6393045318317488, 0.6447171383249387)) do intersect',\n",
       "      'target_interval_reconstructed': (0.6393045318317488,\n",
       "       0.6447171383249387)}],\n",
       "    'edge_scores': [],\n",
       "    'underdetermined': False,\n",
       "    'inconsistency': False},\n",
       "   {'details': [{'score_0': 'npv',\n",
       "      'score_0_interval': (0.6529, 0.6531),\n",
       "      'score_1': 'f1p',\n",
       "      'score_1_interval': (0.5529000000000001, 0.5531),\n",
       "      'target_score': 'bacc',\n",
       "      'target_interval': (0.6279, 0.6281),\n",
       "      'solution': {'tp': (152.05454331210206, 153.54205380241643),\n",
       "       'tn': (289.0655836518047, 291.3127716417913),\n",
       "       'tp_formula': '(n*npv + 2*npv*p - n - p)*f1p/(f1p + 2*npv - 2)',\n",
       "       'tn_formula': '(f1p*n + 2*f1p*p - 2*p)*npv/(f1p + 2*npv - 2)'},\n",
       "      'inconsistency': False,\n",
       "      'explanation': 'the target score interval ((0.6279, 0.6281)) and the reconstructed intervals ((0.6250160496578492, 0.6303723709628062)) do intersect',\n",
       "      'target_interval_reconstructed': (0.6250160496578492,\n",
       "       0.6303723709628062)}],\n",
       "    'edge_scores': [],\n",
       "    'underdetermined': False,\n",
       "    'inconsistency': False}],\n",
       "  'tests_failed': [{'details': [{'score_0': 'acc',\n",
       "      'score_0_interval': (0.6419, 0.6421),\n",
       "      'score_1': 'f1p',\n",
       "      'score_1_interval': (0.5529000000000001, 0.5531),\n",
       "      'target_score': 'npv',\n",
       "      'target_interval': (0.6529, 0.6531),\n",
       "      'solution': {'tp': (152.6942606799374, 152.90325117475945),\n",
       "       'tn': (289.79266170879004, 290.57004710226),\n",
       "       'tp_formula': '1/2*(acc - 1)*f1p*(n + p)/(f1p - 1)',\n",
       "       'tn_formula': '1/2*(acc*f1p - 2*acc + f1p)*(n + p)/(f1p - 1)'},\n",
       "      'inconsistency': True,\n",
       "      'explanation': 'the interval for tp does not contain integers'}],\n",
       "    'edge_scores': [],\n",
       "    'underdetermined': False,\n",
       "    'inconsistency': True},\n",
       "   {'details': [{'score_0': 'acc',\n",
       "      'score_0_interval': (0.6419, 0.6421),\n",
       "      'score_1': 'f1p',\n",
       "      'score_1_interval': (0.5529000000000001, 0.5531),\n",
       "      'target_score': 'bacc',\n",
       "      'target_interval': (0.6279, 0.6281),\n",
       "      'solution': {'tp': (152.6942606799374, 152.90325117475945),\n",
       "       'tn': (289.79266170879004, 290.57004710226),\n",
       "       'tp_formula': '1/2*(acc - 1)*f1p*(n + p)/(f1p - 1)',\n",
       "       'tn_formula': '1/2*(acc*f1p - 2*acc + f1p)*(n + p)/(f1p - 1)'},\n",
       "      'inconsistency': True,\n",
       "      'explanation': 'the interval for tp does not contain integers'}],\n",
       "    'edge_scores': [],\n",
       "    'underdetermined': False,\n",
       "    'inconsistency': True},\n",
       "   {'details': [{'score_0': 'bacc',\n",
       "      'score_0_interval': (0.6279, 0.6281),\n",
       "      'score_1': 'f1p',\n",
       "      'score_1_interval': (0.5529000000000001, 0.5531),\n",
       "      'target_score': 'acc',\n",
       "      'target_interval': (0.6419, 0.6421),\n",
       "      'solution': {'tp': (152.49344323468063, 152.75115715898968),\n",
       "       'tn': (290.1213665786949, 291.1650047666346),\n",
       "       'tp_formula': '(2*bacc*n - n - p)*f1p*p/(f1p*n + f1p*p - 2*p)',\n",
       "       'tn_formula': '(2*bacc*f1p*p + f1p*n - 4*bacc*p + f1p*p)*n/(f1p*n + f1p*p - 2*p)'},\n",
       "      'inconsistency': True,\n",
       "      'explanation': 'the interval for tp does not contain integers'}],\n",
       "    'edge_scores': [],\n",
       "    'underdetermined': False,\n",
       "    'inconsistency': True},\n",
       "   {'details': [{'score_0': 'bacc',\n",
       "      'score_0_interval': (0.6279, 0.6281),\n",
       "      'score_1': 'f1p',\n",
       "      'score_1_interval': (0.5529000000000001, 0.5531),\n",
       "      'target_score': 'npv',\n",
       "      'target_interval': (0.6529, 0.6531),\n",
       "      'solution': {'tp': (152.49344323468063, 152.75115715898968),\n",
       "       'tn': (290.1213665786949, 291.1650047666346),\n",
       "       'tp_formula': '(2*bacc*n - n - p)*f1p*p/(f1p*n + f1p*p - 2*p)',\n",
       "       'tn_formula': '(2*bacc*f1p*p + f1p*n - 4*bacc*p + f1p*p)*n/(f1p*n + f1p*p - 2*p)'},\n",
       "      'inconsistency': True,\n",
       "      'explanation': 'the interval for tp does not contain integers'}],\n",
       "    'edge_scores': [],\n",
       "    'underdetermined': False,\n",
       "    'inconsistency': True}],\n",
       "  'underdetermined': False,\n",
       "  'edge_scores': [],\n",
       "  'inconsistency': True}}"
      ]
     },
     "execution_count": 5,
     "metadata": {},
     "output_type": "execute_result"
    }
   ],
   "source": [
    "result"
   ]
  },
  {
   "cell_type": "code",
   "execution_count": 6,
   "metadata": {},
   "outputs": [
    {
     "data": {
      "text/plain": [
       "True"
      ]
     },
     "execution_count": 6,
     "metadata": {},
     "output_type": "execute_result"
    }
   ],
   "source": [
    "result['inconsistency']"
   ]
  },
  {
   "cell_type": "code",
   "execution_count": null,
   "metadata": {},
   "outputs": [],
   "source": []
  }
 ],
 "metadata": {
  "kernelspec": {
   "display_name": "mlscorecheck",
   "language": "python",
   "name": "python3"
  },
  "language_info": {
   "codemirror_mode": {
    "name": "ipython",
    "version": 3
   },
   "file_extension": ".py",
   "mimetype": "text/x-python",
   "name": "python",
   "nbconvert_exporter": "python",
   "pygments_lexer": "ipython3",
   "version": "3.10.0"
  },
  "orig_nbformat": 4
 },
 "nbformat": 4,
 "nbformat_minor": 2
}
