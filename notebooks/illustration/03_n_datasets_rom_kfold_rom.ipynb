{
 "cells": [
  {
   "cell_type": "code",
   "execution_count": 1,
   "metadata": {},
   "outputs": [],
   "source": [
    "from mlscorecheck.aggregated import generate_datasets_and_scores\n",
    "from mlscorecheck.check import check_n_datasets_rom_kfold_rom_scores"
   ]
  },
  {
   "cell_type": "code",
   "execution_count": 24,
   "metadata": {},
   "outputs": [],
   "source": [
    "datasets = [{'p': 389,\n",
    "                'n': 630,\n",
    "                'n_folds': 6,\n",
    "                'n_repeats': 3,\n",
    "                'folding': 'stratified_sklearn',\n",
    "                'fold_score_bounds': {'acc': (0.5, 1.0)}},\n",
    "            {'name': 'common_datasets.saheart',\n",
    "                'n_folds': 2,\n",
    "                'n_repeats': 5,\n",
    "                'folding': 'stratified_sklearn'}]\n",
    "scores = {'acc': 0.467, 'sens': 0.432, 'spec': 0.488, 'f1p': 0.373}"
   ]
  },
  {
   "cell_type": "code",
   "execution_count": 3,
   "metadata": {},
   "outputs": [],
   "source": [
    "datasets = [{'p': 389,\n",
    "                    'n': 630,\n",
    "                    'n_folds': 6,\n",
    "                    'n_repeats': 3,\n",
    "                    'folding': 'stratified_sklearn',\n",
    "                    'fold_score_bounds': {'acc': (0.2, 1)}},\n",
    "                {'name': 'common_datasets.saheart',\n",
    "                    'n_folds': 2,\n",
    "                    'n_repeats': 5,\n",
    "                    'folding': 'stratified_sklearn'}]\n",
    "scores = {'acc': 0.467, 'sens': 0.432, 'spec': 0.488, 'f1p': 0.373}"
   ]
  },
  {
   "cell_type": "code",
   "execution_count": 4,
   "metadata": {},
   "outputs": [
    {
     "name": "stderr",
     "output_type": "stream",
     "text": [
      "2023-08-30 11:44:28,131:INFO:generating a random id for the dataset\n",
      "2023-08-30 11:44:28,134:INFO:checking acc and sens against spec\n",
      "2023-08-30 11:44:28,136:INFO:checking acc and sens against f1p\n",
      "2023-08-30 11:44:28,140:INFO:checking acc and spec against sens\n",
      "2023-08-30 11:44:28,142:INFO:checking acc and spec against f1p\n",
      "2023-08-30 11:44:28,145:INFO:checking acc and f1p against sens\n",
      "2023-08-30 11:44:28,147:INFO:checking acc and f1p against spec\n",
      "2023-08-30 11:44:28,148:INFO:checking sens and spec against acc\n",
      "2023-08-30 11:44:28,149:INFO:checking sens and spec against f1p\n",
      "2023-08-30 11:44:28,150:INFO:checking sens and f1p against acc\n",
      "2023-08-30 11:44:28,151:INFO:checking sens and f1p against spec\n",
      "2023-08-30 11:44:28,152:INFO:checking spec and f1p against acc\n",
      "2023-08-30 11:44:28,153:INFO:checking spec and f1p against sens\n",
      "/home/gykovacs/workspaces/mlscorecheck/mlscorecheck/check/_check_n_datasets_rom_kfold_rom_scores.py:161: UserWarning: It is not a common situation that score bounds can be specified with ratio-of-means aggregation on one single dataset. Please double check the configuration.\n",
      "  warnings.warn('It is not a common situation that score bounds '\\\n",
      "2023-08-30 11:44:28,159:INFO:fold zwaddaugchecrwpk_0_0: adding lower bound 0.2 for acc\n",
      "2023-08-30 11:44:28,160:INFO:fold zwaddaugchecrwpk_0_0: adding upper bound 1 for acc\n",
      "2023-08-30 11:44:28,161:INFO:fold zwaddaugchecrwpk_0_1: adding lower bound 0.2 for acc\n",
      "2023-08-30 11:44:28,162:INFO:fold zwaddaugchecrwpk_0_1: adding upper bound 1 for acc\n",
      "2023-08-30 11:44:28,163:INFO:fold zwaddaugchecrwpk_0_2: adding lower bound 0.2 for acc\n",
      "2023-08-30 11:44:28,164:INFO:fold zwaddaugchecrwpk_0_2: adding upper bound 1 for acc\n",
      "2023-08-30 11:44:28,165:INFO:fold zwaddaugchecrwpk_0_3: adding lower bound 0.2 for acc\n",
      "2023-08-30 11:44:28,165:INFO:fold zwaddaugchecrwpk_0_3: adding upper bound 1 for acc\n",
      "2023-08-30 11:44:28,166:INFO:fold zwaddaugchecrwpk_0_4: adding lower bound 0.2 for acc\n",
      "2023-08-30 11:44:28,166:INFO:fold zwaddaugchecrwpk_0_4: adding upper bound 1 for acc\n",
      "2023-08-30 11:44:28,168:INFO:fold zwaddaugchecrwpk_0_5: adding lower bound 0.2 for acc\n",
      "2023-08-30 11:44:28,169:INFO:fold zwaddaugchecrwpk_0_5: adding upper bound 1 for acc\n",
      "2023-08-30 11:44:28,170:INFO:fold zwaddaugchecrwpk_1_0: adding lower bound 0.2 for acc\n",
      "2023-08-30 11:44:28,171:INFO:fold zwaddaugchecrwpk_1_0: adding upper bound 1 for acc\n",
      "2023-08-30 11:44:28,172:INFO:fold zwaddaugchecrwpk_1_1: adding lower bound 0.2 for acc\n",
      "2023-08-30 11:44:28,173:INFO:fold zwaddaugchecrwpk_1_1: adding upper bound 1 for acc\n",
      "2023-08-30 11:44:28,174:INFO:fold zwaddaugchecrwpk_1_2: adding lower bound 0.2 for acc\n",
      "2023-08-30 11:44:28,175:INFO:fold zwaddaugchecrwpk_1_2: adding upper bound 1 for acc\n",
      "2023-08-30 11:44:28,176:INFO:fold zwaddaugchecrwpk_1_3: adding lower bound 0.2 for acc\n",
      "2023-08-30 11:44:28,177:INFO:fold zwaddaugchecrwpk_1_3: adding upper bound 1 for acc\n",
      "2023-08-30 11:44:28,178:INFO:fold zwaddaugchecrwpk_1_4: adding lower bound 0.2 for acc\n",
      "2023-08-30 11:44:28,179:INFO:fold zwaddaugchecrwpk_1_4: adding upper bound 1 for acc\n",
      "2023-08-30 11:44:28,182:INFO:fold zwaddaugchecrwpk_1_5: adding lower bound 0.2 for acc\n",
      "2023-08-30 11:44:28,183:INFO:fold zwaddaugchecrwpk_1_5: adding upper bound 1 for acc\n",
      "2023-08-30 11:44:28,184:INFO:fold zwaddaugchecrwpk_2_0: adding lower bound 0.2 for acc\n",
      "2023-08-30 11:44:28,185:INFO:fold zwaddaugchecrwpk_2_0: adding upper bound 1 for acc\n",
      "2023-08-30 11:44:28,186:INFO:fold zwaddaugchecrwpk_2_1: adding lower bound 0.2 for acc\n",
      "2023-08-30 11:44:28,188:INFO:fold zwaddaugchecrwpk_2_1: adding upper bound 1 for acc\n",
      "2023-08-30 11:44:28,189:INFO:fold zwaddaugchecrwpk_2_2: adding lower bound 0.2 for acc\n",
      "2023-08-30 11:44:28,190:INFO:fold zwaddaugchecrwpk_2_2: adding upper bound 1 for acc\n",
      "2023-08-30 11:44:28,191:INFO:fold zwaddaugchecrwpk_2_3: adding lower bound 0.2 for acc\n",
      "2023-08-30 11:44:28,191:INFO:fold zwaddaugchecrwpk_2_3: adding upper bound 1 for acc\n",
      "2023-08-30 11:44:28,193:INFO:fold zwaddaugchecrwpk_2_4: adding lower bound 0.2 for acc\n",
      "2023-08-30 11:44:28,195:INFO:fold zwaddaugchecrwpk_2_4: adding upper bound 1 for acc\n",
      "2023-08-30 11:44:28,196:INFO:fold zwaddaugchecrwpk_2_5: adding lower bound 0.2 for acc\n",
      "2023-08-30 11:44:28,197:INFO:fold zwaddaugchecrwpk_2_5: adding upper bound 1 for acc\n",
      "2023-08-30 11:44:28,200:INFO:None: adding condition acc >= 0.465999\n",
      "2023-08-30 11:44:28,201:INFO:None: adding condition acc <= 0.468001\n",
      "2023-08-30 11:44:28,202:INFO:None: adding condition sens >= 0.430999\n",
      "2023-08-30 11:44:28,202:INFO:None: adding condition sens <= 0.433001\n",
      "2023-08-30 11:44:28,203:INFO:None: adding condition spec >= 0.486999\n",
      "2023-08-30 11:44:28,204:INFO:None: adding condition spec <= 0.489001\n"
     ]
    },
    {
     "name": "stdout",
     "output_type": "stream",
     "text": [
      "Welcome to the CBC MILP Solver \n",
      "Version: 2.10.3 \n",
      "Build Date: Dec 15 2019 \n",
      "\n",
      "command line - /home/gykovacs/anaconda3/envs/mlscorecheck/lib/python3.10/site-packages/pulp/solverdir/cbc/linux/64/cbc /tmp/769e2d83f4af4ebfbd73521a89c16bb3-pulp.mps timeMode elapsed branch printingOptions all solution /tmp/769e2d83f4af4ebfbd73521a89c16bb3-pulp.sol (default strategy 1)\n",
      "At line 2 NAME          MODEL\n",
      "At line 3 ROWS\n",
      "At line 47 COLUMNS\n",
      "At line 457 RHS\n",
      "At line 500 BOUNDS\n",
      "At line 558 ENDATA\n",
      "Problem MODEL has 42 rows, 57 columns and 296 elements\n",
      "Coin0008I MODEL read with 0 errors\n",
      "Option for timeMode changed from cpu to elapsed\n",
      "Continuous objective value is 0 - 0.00 seconds\n",
      "Cgl0004I processed model has 21 rows, 38 columns (38 integer (0 of which binary)) and 112 elements\n",
      "Cbc0012I Integer solution of 0 found by DiveCoefficient after 0 iterations and 0 nodes (0.00 seconds)\n",
      "Cbc0001I Search completed - best objective 0, took 0 iterations and 0 nodes (0.00 seconds)\n",
      "Cbc0035I Maximum depth 0, 0 variables fixed on reduced cost\n",
      "Cuts at root node changed objective from 0 to 0\n",
      "Probing was tried 0 times and created 0 cuts of which 0 were active after adding rounds of cuts (0.000 seconds)\n",
      "Gomory was tried 0 times and created 0 cuts of which 0 were active after adding rounds of cuts (0.000 seconds)\n",
      "Knapsack was tried 0 times and created 0 cuts of which 0 were active after adding rounds of cuts (0.000 seconds)\n",
      "Clique was tried 0 times and created 0 cuts of which 0 were active after adding rounds of cuts (0.000 seconds)\n",
      "MixedIntegerRounding2 was tried 0 times and created 0 cuts of which 0 were active after adding rounds of cuts (0.000 seconds)\n",
      "FlowCover was tried 0 times and created 0 cuts of which 0 were active after adding rounds of cuts (0.000 seconds)\n",
      "TwoMirCuts was tried 0 times and created 0 cuts of which 0 were active after adding rounds of cuts (0.000 seconds)\n",
      "ZeroHalf was tried 0 times and created 0 cuts of which 0 were active after adding rounds of cuts (0.000 seconds)\n",
      "\n",
      "Result - Optimal solution found\n",
      "\n",
      "Objective value:                0.00000000\n",
      "Enumerated nodes:               0\n",
      "Total iterations:               0\n",
      "Time (CPU seconds):             0.00\n",
      "Time (Wallclock seconds):       0.01\n",
      "\n",
      "Option for printingOptions changed from normal to all\n",
      "Total time (CPU seconds):       0.01   (Wallclock seconds):       0.01\n",
      "\n"
     ]
    },
    {
     "data": {
      "text/plain": [
       "False"
      ]
     },
     "execution_count": 4,
     "metadata": {},
     "output_type": "execute_result"
    }
   ],
   "source": [
    "result = check_n_datasets_rom_kfold_rom_scores(scores=scores,\n",
    "                                                datasets=datasets,\n",
    "                                                eps=1e-3)\n",
    "result['inconsistency']"
   ]
  },
  {
   "cell_type": "code",
   "execution_count": 26,
   "metadata": {},
   "outputs": [],
   "source": [
    "datasets = [{'folds': [{'p': 98, 'n': 8},\n",
    "                        {'p': 68, 'n': 25},\n",
    "                        {'p': 92, 'n': 19},\n",
    "                        {'p': 78, 'n': 61},\n",
    "                        {'p': 76, 'n': 67}]},\n",
    "            {'name': 'common_datasets.zoo-3',\n",
    "                'n_folds': 3,\n",
    "                'n_repeats': 4,\n",
    "                'folding': 'stratified_sklearn'},\n",
    "            {'name': 'common_datasets.winequality-red-3_vs_5',\n",
    "                'n_folds': 5,\n",
    "                'n_repeats': 5,\n",
    "                'folding': 'stratified_sklearn'}]\n",
    "scores = {'acc': 0.4532, 'sens': 0.6639, 'npv': 0.9129, 'f1p': 0.2082}"
   ]
  },
  {
   "cell_type": "code",
   "execution_count": 27,
   "metadata": {},
   "outputs": [
    {
     "name": "stderr",
     "output_type": "stream",
     "text": [
      "2023-08-28 13:16:38,799:INFO:generating a random id for the dataset\n",
      "2023-08-28 13:16:38,801:INFO:a random identifier for the fold has been generated poicagydkrgnkiwv\n",
      "2023-08-28 13:16:38,803:INFO:a random identifier for the fold has been generated ykgajqbrowbigedg\n",
      "2023-08-28 13:16:38,804:INFO:a random identifier for the fold has been generated tnhhoboxqdyixngc\n",
      "2023-08-28 13:16:38,806:INFO:a random identifier for the fold has been generated wrucgpycaigsphvi\n",
      "2023-08-28 13:16:38,807:INFO:a random identifier for the fold has been generated tvscfhdkpjmzooge\n",
      "2023-08-28 13:16:38,809:INFO:checking acc and sens against npv\n",
      "2023-08-28 13:16:38,811:INFO:checking acc and sens against f1p\n",
      "2023-08-28 13:16:38,813:INFO:checking acc and npv against sens\n",
      "2023-08-28 13:16:38,816:INFO:checking acc and npv against f1p\n",
      "2023-08-28 13:16:38,818:INFO:checking acc and f1p against sens\n",
      "2023-08-28 13:16:38,820:INFO:checking acc and f1p against npv\n",
      "2023-08-28 13:16:38,822:INFO:checking sens and npv against acc\n",
      "2023-08-28 13:16:38,824:INFO:checking sens and npv against f1p\n",
      "2023-08-28 13:16:38,826:INFO:checking sens and f1p against acc\n",
      "2023-08-28 13:16:38,828:INFO:checking sens and f1p against npv\n",
      "2023-08-28 13:16:38,829:INFO:checking npv and f1p against acc\n",
      "2023-08-28 13:16:38,831:INFO:checking npv and f1p against sens\n",
      "2023-08-28 13:16:38,833:INFO:In the lack of score bounds, the linear programming based aggregated test is not considered.\n"
     ]
    },
    {
     "data": {
      "text/plain": [
       "False"
      ]
     },
     "execution_count": 27,
     "metadata": {},
     "output_type": "execute_result"
    }
   ],
   "source": [
    "result = check_n_datasets_rom_kfold_rom_scores(scores=scores,\n",
    "                                        datasets=datasets,\n",
    "                                        eps=1e-4)\n",
    "result['inconsistency']"
   ]
  },
  {
   "cell_type": "code",
   "execution_count": 28,
   "metadata": {},
   "outputs": [],
   "source": [
    "datasets = [{'folds': [{'p': 98, 'n': 8},\n",
    "                        {'p': 68, 'n': 25},\n",
    "                        {'p': 92, 'n': 19},\n",
    "                        {'p': 78, 'n': 61},\n",
    "                        {'p': 76, 'n': 67}]},\n",
    "            {'name': 'common_datasets.zoo-3',\n",
    "                'n_folds': 3,\n",
    "                'n_repeats': 4,\n",
    "                'folding': 'stratified_sklearn'}]\n",
    "scores = {'acc': 0.9, 'spec': 0.85, 'ppv': 0.7}"
   ]
  },
  {
   "cell_type": "code",
   "execution_count": 29,
   "metadata": {},
   "outputs": [
    {
     "name": "stderr",
     "output_type": "stream",
     "text": [
      "2023-08-28 13:16:38,876:INFO:generating a random id for the dataset\n",
      "2023-08-28 13:16:38,878:INFO:a random identifier for the fold has been generated bgjyakyukithoqdz\n",
      "2023-08-28 13:16:38,880:INFO:a random identifier for the fold has been generated wakvgzxwfhmfovgc\n",
      "2023-08-28 13:16:38,881:INFO:a random identifier for the fold has been generated mppqljbxuodzmjtj\n",
      "2023-08-28 13:16:38,882:INFO:a random identifier for the fold has been generated gjmbarfgjjsficvq\n",
      "2023-08-28 13:16:38,884:INFO:a random identifier for the fold has been generated rcsankwzcvqojenm\n",
      "2023-08-28 13:16:38,889:INFO:checking acc and spec against ppv\n",
      "2023-08-28 13:16:38,891:INFO:checking acc and ppv against spec\n",
      "2023-08-28 13:16:38,894:INFO:checking spec and ppv against acc\n",
      "2023-08-28 13:16:38,896:INFO:In the lack of score bounds, the linear programming based aggregated test is not considered.\n"
     ]
    },
    {
     "data": {
      "text/plain": [
       "True"
      ]
     },
     "execution_count": 29,
     "metadata": {},
     "output_type": "execute_result"
    }
   ],
   "source": [
    "result = check_n_datasets_rom_kfold_rom_scores(scores=scores,\n",
    "                                        datasets=datasets,\n",
    "                                        eps=1e-4)\n",
    "result['inconsistency']"
   ]
  },
  {
   "cell_type": "code",
   "execution_count": 30,
   "metadata": {},
   "outputs": [],
   "source": [
    "datasets, scores = generate_datasets_and_scores(max_n_datasets=3,\n",
    "                                rounding_decimals=4,\n",
    "                                score_subset=['acc', 'f1p', 'sens', 'npv'],\n",
    "                                aggregation='rom',\n",
    "                                aggregation_ds='rom')"
   ]
  },
  {
   "cell_type": "code",
   "execution_count": 32,
   "metadata": {},
   "outputs": [
    {
     "name": "stderr",
     "output_type": "stream",
     "text": [
      "2023-08-28 13:16:47,880:INFO:checking acc and sens against npv\n",
      "2023-08-28 13:16:47,882:INFO:checking acc and sens against f1p\n",
      "2023-08-28 13:16:47,884:INFO:checking acc and npv against sens\n",
      "2023-08-28 13:16:47,885:INFO:checking acc and npv against f1p\n",
      "2023-08-28 13:16:47,887:INFO:checking acc and f1p against sens\n",
      "2023-08-28 13:16:47,889:INFO:checking acc and f1p against npv\n",
      "2023-08-28 13:16:47,890:INFO:checking sens and npv against acc\n",
      "2023-08-28 13:16:47,890:INFO:checking sens and npv against f1p\n",
      "2023-08-28 13:16:47,891:INFO:checking sens and f1p against acc\n",
      "2023-08-28 13:16:47,893:INFO:checking sens and f1p against npv\n",
      "2023-08-28 13:16:47,894:INFO:checking npv and f1p against acc\n",
      "2023-08-28 13:16:47,895:INFO:checking npv and f1p against sens\n",
      "2023-08-28 13:16:47,896:INFO:In the lack of score bounds, the linear programming based aggregated test is not considered.\n"
     ]
    },
    {
     "data": {
      "text/plain": [
       "False"
      ]
     },
     "execution_count": 32,
     "metadata": {},
     "output_type": "execute_result"
    }
   ],
   "source": [
    "result = check_n_datasets_rom_kfold_rom_scores(scores=scores,\n",
    "                                        datasets=datasets,\n",
    "                                        eps=1e-4)\n",
    "result['inconsistency']"
   ]
  },
  {
   "cell_type": "code",
   "execution_count": null,
   "metadata": {},
   "outputs": [],
   "source": []
  }
 ],
 "metadata": {
  "kernelspec": {
   "display_name": "mlscorecheck",
   "language": "python",
   "name": "python3"
  },
  "language_info": {
   "codemirror_mode": {
    "name": "ipython",
    "version": 3
   },
   "file_extension": ".py",
   "mimetype": "text/x-python",
   "name": "python",
   "nbconvert_exporter": "python",
   "pygments_lexer": "ipython3",
   "version": "3.10.0"
  },
  "orig_nbformat": 4
 },
 "nbformat": 4,
 "nbformat_minor": 2
}
