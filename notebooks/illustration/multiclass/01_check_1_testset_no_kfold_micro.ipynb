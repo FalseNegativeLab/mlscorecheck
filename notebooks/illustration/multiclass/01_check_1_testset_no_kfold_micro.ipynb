{
 "cells": [
  {
   "cell_type": "code",
   "execution_count": 1,
   "metadata": {},
   "outputs": [],
   "source": [
    "from mlscorecheck.check.multiclass import check_1_testset_no_kfold_micro"
   ]
  },
  {
   "cell_type": "code",
   "execution_count": 2,
   "metadata": {},
   "outputs": [],
   "source": [
    "testset = {0: 10, 1: 100, 2: 80}"
   ]
  },
  {
   "cell_type": "code",
   "execution_count": 3,
   "metadata": {},
   "outputs": [],
   "source": [
    "scores = {'acc': 0.5158, 'sens': 0.2737, 'spec': 0.6368,\n",
    "          'bacc': 0.4553, 'ppv': 0.2737, 'npv': 0.6368}"
   ]
  },
  {
   "cell_type": "code",
   "execution_count": 4,
   "metadata": {},
   "outputs": [
    {
     "name": "stderr",
     "output_type": "stream",
     "text": [
      "2023-11-03 20:15:50,791:INFO:checking the scores {'acc': 0.5158, 'sens': 0.2737, 'spec': 0.6368, 'bacc': 0.4553, 'ppv': 0.2737, 'npv': 0.6368}\n",
      "2023-11-03 20:15:50,796:INFO:evaluating the tp and tn solution for acc and sens\n",
      "2023-11-03 20:15:50,798:INFO:intervals before: (0, 190), (0, 380)\n",
      "2023-11-03 20:15:50,800:INFO:the tp solutions: (51.98362, 52.02238)\n",
      "2023-11-03 20:15:50,801:INFO:the tn solutions: (241.92548, 242.08052000000006)\n",
      "2023-11-03 20:15:50,802:INFO:intervals after: [(52, 52)], [(242, 242)]\n",
      "2023-11-03 20:15:50,803:INFO:evaluating the tp and tn solution for acc and spec\n",
      "2023-11-03 20:15:50,803:INFO:intervals before: [(52, 52)], [(242, 242)]\n",
      "2023-11-03 20:15:50,804:INFO:the tp solutions: (51.92509999999996, 52.11890000000008)\n",
      "2023-11-03 20:15:50,805:INFO:the tn solutions: (241.94523999999998, 242.02276000000003)\n",
      "2023-11-03 20:15:50,806:INFO:intervals after: [(52, 52)], [(242, 242)]\n",
      "2023-11-03 20:15:50,807:INFO:evaluating the tp and tn solution for acc and bacc\n",
      "2023-11-03 20:15:50,809:INFO:intervals before: [(52, 52)], [(242, 242)]\n",
      "2023-11-03 20:15:50,810:INFO:the tp solutions: (51.886339999999905, 52.157659999999964)\n",
      "2023-11-03 20:15:50,811:INFO:the tn solutions: (241.79020000000003, 242.17780000000016)\n",
      "2023-11-03 20:15:50,812:INFO:intervals after: [(52, 52)], [(242, 242)]\n",
      "2023-11-03 20:15:50,813:INFO:evaluating the tp and tn solution for acc and ppv\n",
      "2023-11-03 20:15:50,814:INFO:intervals before: [(52, 52)], [(242, 242)]\n",
      "2023-11-03 20:15:50,815:INFO:the tp solutions: (51.92507006183688, 52.081026437634286)\n",
      "2023-11-03 20:15:50,815:INFO:the tn solutions: (241.57858662847494, 242.42776991777123)\n",
      "2023-11-03 20:15:50,816:INFO:intervals after: [(52, 52)], [(242, 242)]\n",
      "2023-11-03 20:15:50,817:INFO:evaluating the tp and tn solution for acc and npv\n",
      "2023-11-03 20:15:50,818:INFO:intervals before: [(52, 52)], [(242, 242)]\n",
      "2023-11-03 20:15:50,818:INFO:the tp solutions: (51.36701642883198, 52.50098353406811)\n",
      "2023-11-03 20:15:50,819:INFO:the tn solutions: (241.71814351243938, 242.4273174965254)\n",
      "2023-11-03 20:15:50,820:INFO:intervals after: [(52, 52)], [(242, 242)]\n",
      "2023-11-03 20:15:50,821:INFO:evaluating the tp and tn solution for sens and spec\n",
      "2023-11-03 20:15:50,822:INFO:intervals before: [(52, 52)], [(242, 242)]\n",
      "2023-11-03 20:15:50,822:INFO:the tp solutions: (51.98362, 52.02238)\n",
      "2023-11-03 20:15:50,823:INFO:the tn solutions: (241.94523999999998, 242.02276000000003)\n",
      "2023-11-03 20:15:50,824:INFO:intervals after: [(52, 52)], [(242, 242)]\n",
      "2023-11-03 20:15:50,825:INFO:evaluating the tp and tn solution for sens and bacc\n",
      "2023-11-03 20:15:50,826:INFO:intervals before: [(52, 52)], [(242, 242)]\n",
      "2023-11-03 20:15:50,826:INFO:the tp solutions: (51.98362, 52.02238)\n",
      "2023-11-03 20:15:50,827:INFO:the tn solutions: (241.90572, 242.13827999999998)\n",
      "2023-11-03 20:15:50,828:INFO:intervals after: [(52, 52)], [(242, 242)]\n",
      "2023-11-03 20:15:50,829:INFO:evaluating the tp and tn solution for sens and ppv\n",
      "2023-11-03 20:15:50,830:INFO:intervals before: [(52, 52)], [(242, 242)]\n",
      "2023-11-03 20:15:50,833:INFO:the tp solutions: (51.98362, 52.02238)\n",
      "2023-11-03 20:15:50,836:INFO:the tn solutions: (241.66176457717626, 242.3445043047098)\n",
      "2023-11-03 20:15:50,837:INFO:intervals after: [(52, 52)], [(242, 242)]\n",
      "2023-11-03 20:15:50,838:INFO:evaluating the tp and tn solution for sens and npv\n",
      "2023-11-03 20:15:50,838:INFO:intervals before: [(52, 52)], [(242, 242)]\n",
      "2023-11-03 20:15:50,839:INFO:the tp solutions: (51.98362, 52.02238)\n",
      "2023-11-03 20:15:50,840:INFO:the tn solutions: (241.81004976234647, 242.0914145898904)\n",
      "2023-11-03 20:15:50,841:INFO:intervals after: [(52, 52)], [(242, 242)]\n",
      "2023-11-03 20:15:50,842:INFO:evaluating the tp and tn solution for spec and bacc\n",
      "2023-11-03 20:15:50,844:INFO:intervals before: [(52, 52)], [(242, 242)]\n",
      "2023-11-03 20:15:50,845:INFO:the tp solutions: (51.96385999999998, 52.08013999999999)\n",
      "2023-11-03 20:15:50,846:INFO:the tn solutions: (241.94523999999998, 242.02276000000003)\n",
      "2023-11-03 20:15:50,847:INFO:intervals after: [(52, 52)], [(242, 242)]\n",
      "2023-11-03 20:15:50,847:INFO:evaluating the tp and tn solution for spec and ppv\n",
      "2023-11-03 20:15:50,848:INFO:intervals before: [(52, 52)], [(242, 242)]\n",
      "2023-11-03 20:15:50,849:INFO:the tp solutions: (51.96887798976324, 52.0514644732153)\n",
      "2023-11-03 20:15:50,849:INFO:the tn solutions: (241.94523999999998, 242.02276000000003)\n",
      "2023-11-03 20:15:50,850:INFO:intervals after: [(52, 52)], [(242, 242)]\n",
      "2023-11-03 20:15:50,851:INFO:evaluating the tp and tn solution for spec and npv\n",
      "2023-11-03 20:15:50,852:INFO:intervals before: [(52, 52)], [(242, 242)]\n",
      "2023-11-03 20:15:50,852:INFO:the tp solutions: (51.806887743357564, 52.161181422778235)\n",
      "2023-11-03 20:15:50,853:INFO:the tn solutions: (241.94523999999998, 242.02276000000003)\n",
      "2023-11-03 20:15:50,853:INFO:intervals after: [(52, 52)], [(242, 242)]\n",
      "2023-11-03 20:15:50,854:INFO:evaluating the tp and tn solution for bacc and ppv\n",
      "2023-11-03 20:15:50,855:INFO:intervals before: [(52, 52)], [(242, 242)]\n",
      "2023-11-03 20:15:50,856:INFO:the tp solutions: (51.74749695345026, 52.201231144607334)\n",
      "2023-11-03 20:15:50,857:INFO:the tn solutions: (240.48623602424024, 243.67941013113506)\n",
      "2023-11-03 20:15:50,857:INFO:intervals after: [(52, 52)], [(242, 242)]\n",
      "2023-11-03 20:15:50,862:INFO:evaluating the tp and tn solution for bacc and npv\n",
      "2023-11-03 20:15:50,864:INFO:intervals before: [(52, 52)], [(242, 242)]\n",
      "2023-11-03 20:15:50,864:INFO:the tp solutions: (50.094566557959965, 54.50446037762892)\n",
      "2023-11-03 20:15:50,866:INFO:the tn solutions: (240.03456529085898, 242.86298504983597)\n",
      "2023-11-03 20:15:50,867:INFO:intervals after: [(52, 52)], [(242, 242)]\n",
      "2023-11-03 20:15:50,869:INFO:evaluating the tp and tn solution for ppv and npv\n",
      "2023-11-03 20:15:50,871:INFO:intervals before: [(52, 52)], [(242, 242)]\n",
      "2023-11-03 20:15:50,871:INFO:the tp solutions: (51.74602430527055, 52.37775596084947)\n",
      "2023-11-03 20:15:50,872:INFO:the tn solutions: (240.84749951261927, 242.85483520292078)\n",
      "2023-11-03 20:15:50,873:INFO:intervals after: [(52, 52)], [(242, 242)]\n",
      "2023-11-03 20:15:50,874:INFO:testing acc, feasible tptn pairs: 1\n",
      "2023-11-03 20:15:50,875:INFO:testing sens, feasible tptn pairs: 1\n",
      "2023-11-03 20:15:50,876:INFO:testing spec, feasible tptn pairs: 1\n",
      "2023-11-03 20:15:50,877:INFO:testing bacc, feasible tptn pairs: 1\n",
      "2023-11-03 20:15:50,879:INFO:testing npv, feasible tptn pairs: 1\n",
      "2023-11-03 20:15:50,880:INFO:testing ppv, feasible tptn pairs: 1\n",
      "2023-11-03 20:15:50,881:INFO:constructing final tp, tn pair set\n",
      "2023-11-03 20:15:50,882:INFO:final number of intervals: 1\n",
      "2023-11-03 20:15:50,882:INFO:final number of pairs: 1\n"
     ]
    },
    {
     "data": {
      "text/plain": [
       "False"
      ]
     },
     "execution_count": 4,
     "metadata": {},
     "output_type": "execute_result"
    }
   ],
   "source": [
    "results = check_1_testset_no_kfold_micro(testset=testset,\n",
    "                                            scores=scores,\n",
    "                                            eps=1e-4)\n",
    "results['inconsistency']"
   ]
  },
  {
   "cell_type": "code",
   "execution_count": 5,
   "metadata": {},
   "outputs": [],
   "source": [
    "scores['acc'] = (1.0 + scores['spec']) / 2.0"
   ]
  },
  {
   "cell_type": "code",
   "execution_count": 6,
   "metadata": {},
   "outputs": [
    {
     "data": {
      "text/plain": [
       "0.8184"
      ]
     },
     "execution_count": 6,
     "metadata": {},
     "output_type": "execute_result"
    }
   ],
   "source": [
    "scores['acc']"
   ]
  },
  {
   "cell_type": "code",
   "execution_count": 7,
   "metadata": {},
   "outputs": [],
   "source": [
    "scores['acc'] = 0.5258"
   ]
  },
  {
   "cell_type": "code",
   "execution_count": 8,
   "metadata": {},
   "outputs": [
    {
     "name": "stderr",
     "output_type": "stream",
     "text": [
      "2023-11-03 20:16:02,927:INFO:checking the scores {'acc': 0.5258, 'sens': 0.2737, 'spec': 0.6368, 'bacc': 0.4553, 'ppv': 0.2737, 'npv': 0.6368}\n",
      "2023-11-03 20:16:02,929:INFO:evaluating the tp and tn solution for acc and sens\n",
      "2023-11-03 20:16:02,930:INFO:intervals before: (0, 190), (0, 380)\n",
      "2023-11-03 20:16:02,930:INFO:the tp solutions: (51.98362, 52.02238)\n",
      "2023-11-03 20:16:02,931:INFO:the tn solutions: (247.62548000000004, 247.78052000000005)\n",
      "2023-11-03 20:16:02,932:INFO:intervals after: [(52, 52)], [(1, 0)]\n",
      "2023-11-03 20:16:02,932:INFO:evaluating the tp and tn solution for acc and spec\n",
      "2023-11-03 20:16:02,933:INFO:intervals before: [(52, 52)], [(1, 0)]\n",
      "2023-11-03 20:16:02,935:INFO:the tp solutions: (57.6251, 57.81890000000007)\n",
      "2023-11-03 20:16:02,936:INFO:the tn solutions: (241.94523999999998, 242.02276000000003)\n",
      "2023-11-03 20:16:02,937:INFO:intervals after: [], []\n",
      "2023-11-03 20:16:02,938:INFO:evaluating the tp and tn solution for acc and bacc\n",
      "2023-11-03 20:16:02,938:INFO:intervals before: [], []\n",
      "2023-11-03 20:16:02,939:INFO:the tp solutions: (46.18633999999993, 46.45765999999995)\n",
      "2023-11-03 20:16:02,940:INFO:the tn solutions: (253.19020000000012, 253.57780000000014)\n",
      "2023-11-03 20:16:02,940:INFO:intervals after: [], []\n",
      "2023-11-03 20:16:02,941:INFO:evaluating the tp and tn solution for acc and ppv\n",
      "2023-11-03 20:16:02,942:INFO:intervals before: [], []\n",
      "2023-11-03 20:16:02,944:INFO:the tp solutions: (48.48095605224332, 48.631235988558664)\n",
      "2023-11-03 20:16:02,945:INFO:the tn solutions: (250.7201326395527, 251.58013068134997)\n",
      "2023-11-03 20:16:02,946:INFO:intervals after: [], []\n",
      "2023-11-03 20:16:02,946:INFO:evaluating the tp and tn solution for acc and npv\n",
      "2023-11-03 20:16:02,947:INFO:intervals before: [], []\n",
      "2023-11-03 20:16:02,948:INFO:the tp solutions: (43.80386395479962, 44.93079743039423)\n",
      "2023-11-03 20:16:02,949:INFO:the tn solutions: (254.97280231946934, 255.70600994264748)\n",
      "2023-11-03 20:16:02,951:INFO:intervals after: [], []\n",
      "2023-11-03 20:16:02,951:INFO:evaluating the tp and tn solution for sens and spec\n",
      "2023-11-03 20:16:02,952:INFO:intervals before: [], []\n",
      "2023-11-03 20:16:02,952:INFO:the tp solutions: (51.98362, 52.02238)\n",
      "2023-11-03 20:16:02,953:INFO:the tn solutions: (241.94523999999998, 242.02276000000003)\n",
      "2023-11-03 20:16:02,954:INFO:intervals after: [], []\n",
      "2023-11-03 20:16:02,955:INFO:evaluating the tp and tn solution for sens and bacc\n",
      "2023-11-03 20:16:02,957:INFO:intervals before: [], []\n",
      "2023-11-03 20:16:02,958:INFO:the tp solutions: (51.98362, 52.02238)\n",
      "2023-11-03 20:16:02,959:INFO:the tn solutions: (241.90572, 242.13827999999998)\n",
      "2023-11-03 20:16:02,960:INFO:intervals after: [], []\n",
      "2023-11-03 20:16:02,961:INFO:evaluating the tp and tn solution for sens and ppv\n",
      "2023-11-03 20:16:02,962:INFO:intervals before: [], []\n",
      "2023-11-03 20:16:02,963:INFO:the tp solutions: (51.98362, 52.02238)\n",
      "2023-11-03 20:16:02,963:INFO:the tn solutions: (241.66176457717626, 242.3445043047098)\n",
      "2023-11-03 20:16:02,966:INFO:intervals after: [], []\n",
      "2023-11-03 20:16:02,966:INFO:evaluating the tp and tn solution for sens and npv\n",
      "2023-11-03 20:16:02,967:INFO:intervals before: [], []\n",
      "2023-11-03 20:16:02,968:INFO:the tp solutions: (51.98362, 52.02238)\n",
      "2023-11-03 20:16:02,968:INFO:the tn solutions: (241.81004976234647, 242.0914145898904)\n",
      "2023-11-03 20:16:02,969:INFO:intervals after: [], []\n",
      "2023-11-03 20:16:02,970:INFO:evaluating the tp and tn solution for spec and bacc\n",
      "2023-11-03 20:16:02,971:INFO:intervals before: [], []\n",
      "2023-11-03 20:16:02,971:INFO:the tp solutions: (51.96385999999998, 52.08013999999999)\n",
      "2023-11-03 20:16:02,972:INFO:the tn solutions: (241.94523999999998, 242.02276000000003)\n",
      "2023-11-03 20:16:02,972:INFO:intervals after: [], []\n",
      "2023-11-03 20:16:02,974:INFO:evaluating the tp and tn solution for spec and ppv\n",
      "2023-11-03 20:16:02,975:INFO:intervals before: [], []\n",
      "2023-11-03 20:16:02,976:INFO:the tp solutions: (51.96887798976324, 52.0514644732153)\n",
      "2023-11-03 20:16:02,977:INFO:the tn solutions: (241.94523999999998, 242.02276000000003)\n",
      "2023-11-03 20:16:02,978:INFO:intervals after: [], []\n",
      "2023-11-03 20:16:02,978:INFO:evaluating the tp and tn solution for spec and npv\n",
      "2023-11-03 20:16:02,979:INFO:intervals before: [], []\n",
      "2023-11-03 20:16:02,980:INFO:the tp solutions: (51.806887743357564, 52.161181422778235)\n",
      "2023-11-03 20:16:02,980:INFO:the tn solutions: (241.94523999999998, 242.02276000000003)\n",
      "2023-11-03 20:16:02,981:INFO:intervals after: [], []\n",
      "2023-11-03 20:16:02,983:INFO:evaluating the tp and tn solution for bacc and ppv\n",
      "2023-11-03 20:16:02,984:INFO:intervals before: [], []\n",
      "2023-11-03 20:16:02,985:INFO:the tp solutions: (51.74749695345026, 52.201231144607334)\n",
      "2023-11-03 20:16:02,985:INFO:the tn solutions: (240.48623602424024, 243.67941013113506)\n",
      "2023-11-03 20:16:02,986:INFO:intervals after: [], []\n",
      "2023-11-03 20:16:02,986:INFO:evaluating the tp and tn solution for bacc and npv\n",
      "2023-11-03 20:16:02,987:INFO:intervals before: [], []\n",
      "2023-11-03 20:16:02,988:INFO:the tp solutions: (50.094566557959965, 54.50446037762892)\n",
      "2023-11-03 20:16:02,989:INFO:the tn solutions: (240.03456529085898, 242.86298504983597)\n",
      "2023-11-03 20:16:02,990:INFO:intervals after: [], []\n",
      "2023-11-03 20:16:02,990:INFO:evaluating the tp and tn solution for ppv and npv\n",
      "2023-11-03 20:16:02,991:INFO:intervals before: [], []\n",
      "2023-11-03 20:16:02,992:INFO:the tp solutions: (51.74602430527055, 52.37775596084947)\n",
      "2023-11-03 20:16:02,996:INFO:the tn solutions: (240.84749951261927, 242.85483520292078)\n",
      "2023-11-03 20:16:02,997:INFO:intervals after: [], []\n",
      "2023-11-03 20:16:02,998:INFO:testing acc, feasible tptn pairs: 0\n",
      "2023-11-03 20:16:02,998:INFO:no more feasible tp,tn pairs left\n",
      "2023-11-03 20:16:02,999:INFO:constructing final tp, tn pair set\n",
      "2023-11-03 20:16:03,000:INFO:final number of intervals: 0\n",
      "2023-11-03 20:16:03,000:INFO:final number of pairs: 0\n"
     ]
    },
    {
     "data": {
      "text/plain": [
       "True"
      ]
     },
     "execution_count": 8,
     "metadata": {},
     "output_type": "execute_result"
    }
   ],
   "source": [
    "results = check_1_testset_no_kfold_micro(testset=testset,\n",
    "                                            scores=scores,\n",
    "                                            eps=1e-4)\n",
    "results['inconsistency']"
   ]
  },
  {
   "cell_type": "code",
   "execution_count": null,
   "metadata": {},
   "outputs": [],
   "source": []
  }
 ],
 "metadata": {
  "kernelspec": {
   "display_name": "mlscorecheck",
   "language": "python",
   "name": "python3"
  },
  "language_info": {
   "codemirror_mode": {
    "name": "ipython",
    "version": 3
   },
   "file_extension": ".py",
   "mimetype": "text/x-python",
   "name": "python",
   "nbconvert_exporter": "python",
   "pygments_lexer": "ipython3",
   "version": "3.10.0"
  }
 },
 "nbformat": 4,
 "nbformat_minor": 2
}
