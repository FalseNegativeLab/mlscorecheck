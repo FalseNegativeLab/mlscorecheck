{
 "cells": [
  {
   "cell_type": "code",
   "execution_count": 1,
   "metadata": {},
   "outputs": [],
   "source": [
    "from mlscorecheck.check.multiclass import check_1_testset_no_kfold_micro"
   ]
  },
  {
   "cell_type": "code",
   "execution_count": 2,
   "metadata": {},
   "outputs": [],
   "source": [
    "testset = {0: 10, 1: 100, 2: 80}"
   ]
  },
  {
   "cell_type": "code",
   "execution_count": 3,
   "metadata": {},
   "outputs": [],
   "source": [
    "scores = {'acc': 0.5158, 'sens': 0.2737, 'spec': 0.6368,\n",
    "          'bacc': 0.4553, 'ppv': 0.2737, 'npv': 0.6368}"
   ]
  },
  {
   "cell_type": "code",
   "execution_count": 4,
   "metadata": {},
   "outputs": [
    {
     "name": "stderr",
     "output_type": "stream",
     "text": [
      "2023-11-03 07:31:27,081:INFO:checking the scores {'acc': 0.5158, 'sens': 0.2737, 'spec': 0.6368, 'bacc': 0.4553, 'ppv': 0.2737, 'npv': 0.6368}\n",
      "2023-11-03 07:31:27,084:INFO:evaluating the tp and tn solution for acc and sens\n",
      "2023-11-03 07:31:27,086:INFO:intervals before: (0, 190), (0, 380)\n",
      "2023-11-03 07:31:27,088:INFO:the tp solutions: (51.98362, 52.02238)\n",
      "2023-11-03 07:31:27,090:INFO:the tn solutions: (241.92548, 242.08052000000006)\n",
      "2023-11-03 07:31:27,091:INFO:intervals after: [(52, 52)], [(242, 242)]\n",
      "2023-11-03 07:31:27,093:INFO:evaluating the tp and tn solution for acc and spec\n",
      "2023-11-03 07:31:27,094:INFO:intervals before: [(52, 52)], [(242, 242)]\n",
      "2023-11-03 07:31:27,096:INFO:the tp solutions: (51.92509999999996, 52.11890000000008)\n",
      "2023-11-03 07:31:27,097:INFO:the tn solutions: (241.94523999999998, 242.02276000000003)\n",
      "2023-11-03 07:31:27,099:INFO:intervals after: [(52, 52)], [(242, 242)]\n",
      "2023-11-03 07:31:27,100:INFO:evaluating the tp and tn solution for acc and bacc\n",
      "2023-11-03 07:31:27,102:INFO:intervals before: [(52, 52)], [(242, 242)]\n",
      "2023-11-03 07:31:27,103:INFO:the tp solutions: (51.886339999999905, 52.157659999999964)\n",
      "2023-11-03 07:31:27,104:INFO:the tn solutions: (241.79020000000003, 242.17780000000016)\n",
      "2023-11-03 07:31:27,106:INFO:intervals after: [(52, 52)], [(242, 242)]\n",
      "2023-11-03 07:31:27,107:INFO:evaluating the tp and tn solution for acc and ppv\n",
      "2023-11-03 07:31:27,108:INFO:intervals before: [(52, 52)], [(242, 242)]\n",
      "2023-11-03 07:31:27,110:INFO:the tp solutions: (51.92507006183688, 52.081026437634286)\n",
      "2023-11-03 07:31:27,112:INFO:the tn solutions: (241.57858662847494, 242.42776991777123)\n",
      "2023-11-03 07:31:27,113:INFO:intervals after: [(52, 52)], [(242, 242)]\n",
      "2023-11-03 07:31:27,114:INFO:evaluating the tp and tn solution for acc and npv\n",
      "2023-11-03 07:31:27,115:INFO:intervals before: [(52, 52)], [(242, 242)]\n",
      "2023-11-03 07:31:27,117:INFO:the tp solutions: (51.36701642883198, 52.50098353406811)\n",
      "2023-11-03 07:31:27,119:INFO:the tn solutions: (241.71814351243938, 242.4273174965254)\n",
      "2023-11-03 07:31:27,120:INFO:intervals after: [(52, 52)], [(242, 242)]\n",
      "2023-11-03 07:31:27,122:INFO:evaluating the tp and tn solution for sens and spec\n",
      "2023-11-03 07:31:27,124:INFO:intervals before: [(52, 52)], [(242, 242)]\n",
      "2023-11-03 07:31:27,126:INFO:the tp solutions: (51.98362, 52.02238)\n",
      "2023-11-03 07:31:27,128:INFO:the tn solutions: (241.94523999999998, 242.02276000000003)\n",
      "2023-11-03 07:31:27,129:INFO:intervals after: [(52, 52)], [(242, 242)]\n",
      "2023-11-03 07:31:27,131:INFO:evaluating the tp and tn solution for sens and bacc\n",
      "2023-11-03 07:31:27,133:INFO:intervals before: [(52, 52)], [(242, 242)]\n",
      "2023-11-03 07:31:27,135:INFO:the tp solutions: (51.98362, 52.02238)\n",
      "2023-11-03 07:31:27,137:INFO:the tn solutions: (241.90572, 242.13827999999998)\n",
      "2023-11-03 07:31:27,139:INFO:intervals after: [(52, 52)], [(242, 242)]\n",
      "2023-11-03 07:31:27,140:INFO:evaluating the tp and tn solution for sens and ppv\n",
      "2023-11-03 07:31:27,142:INFO:intervals before: [(52, 52)], [(242, 242)]\n",
      "2023-11-03 07:31:27,143:INFO:the tp solutions: (51.98362, 52.02238)\n",
      "2023-11-03 07:31:27,145:INFO:the tn solutions: (241.66176457717626, 242.3445043047098)\n",
      "2023-11-03 07:31:27,147:INFO:intervals after: [(52, 52)], [(242, 242)]\n",
      "2023-11-03 07:31:27,149:INFO:evaluating the tp and tn solution for sens and npv\n",
      "2023-11-03 07:31:27,151:INFO:intervals before: [(52, 52)], [(242, 242)]\n",
      "2023-11-03 07:31:27,153:INFO:the tp solutions: (51.98362, 52.02238)\n",
      "2023-11-03 07:31:27,154:INFO:the tn solutions: (241.81004976234647, 242.0914145898904)\n",
      "2023-11-03 07:31:27,156:INFO:intervals after: [(52, 52)], [(242, 242)]\n",
      "2023-11-03 07:31:27,158:INFO:evaluating the tp and tn solution for spec and bacc\n",
      "2023-11-03 07:31:27,160:INFO:intervals before: [(52, 52)], [(242, 242)]\n",
      "2023-11-03 07:31:27,161:INFO:the tp solutions: (51.96385999999998, 52.08013999999999)\n",
      "2023-11-03 07:31:27,163:INFO:the tn solutions: (241.94523999999998, 242.02276000000003)\n",
      "2023-11-03 07:31:27,164:INFO:intervals after: [(52, 52)], [(242, 242)]\n",
      "2023-11-03 07:31:27,166:INFO:evaluating the tp and tn solution for spec and ppv\n",
      "2023-11-03 07:31:27,168:INFO:intervals before: [(52, 52)], [(242, 242)]\n",
      "2023-11-03 07:31:27,170:INFO:the tp solutions: (51.96887798976324, 52.0514644732153)\n",
      "2023-11-03 07:31:27,172:INFO:the tn solutions: (241.94523999999998, 242.02276000000003)\n",
      "2023-11-03 07:31:27,173:INFO:intervals after: [(52, 52)], [(242, 242)]\n",
      "2023-11-03 07:31:27,175:INFO:evaluating the tp and tn solution for spec and npv\n",
      "2023-11-03 07:31:27,177:INFO:intervals before: [(52, 52)], [(242, 242)]\n",
      "2023-11-03 07:31:27,178:INFO:the tp solutions: (51.806887743357564, 52.161181422778235)\n",
      "2023-11-03 07:31:27,180:INFO:the tn solutions: (241.94523999999998, 242.02276000000003)\n",
      "2023-11-03 07:31:27,182:INFO:intervals after: [(52, 52)], [(242, 242)]\n",
      "2023-11-03 07:31:27,186:INFO:evaluating the tp and tn solution for bacc and ppv\n",
      "2023-11-03 07:31:27,220:INFO:intervals before: [(52, 52)], [(242, 242)]\n",
      "2023-11-03 07:31:27,221:INFO:the tp solutions: (51.74749695345026, 52.201231144607334)\n",
      "2023-11-03 07:31:27,223:INFO:the tn solutions: (240.48623602424024, 243.67941013113506)\n",
      "2023-11-03 07:31:27,224:INFO:intervals after: [(52, 52)], [(242, 242)]\n",
      "2023-11-03 07:31:27,226:INFO:evaluating the tp and tn solution for bacc and npv\n",
      "2023-11-03 07:31:27,227:INFO:intervals before: [(52, 52)], [(242, 242)]\n",
      "2023-11-03 07:31:27,228:INFO:the tp solutions: (50.094566557959965, 54.50446037762892)\n",
      "2023-11-03 07:31:27,230:INFO:the tn solutions: (240.03456529085898, 242.86298504983597)\n",
      "2023-11-03 07:31:27,231:INFO:intervals after: [(52, 52)], [(242, 242)]\n",
      "2023-11-03 07:31:27,237:INFO:evaluating the tp and tn solution for ppv and npv\n",
      "2023-11-03 07:31:27,239:INFO:intervals before: [(52, 52)], [(242, 242)]\n",
      "2023-11-03 07:31:27,240:INFO:the tp solutions: (51.74602430527055, 52.37775596084947)\n",
      "2023-11-03 07:31:27,242:INFO:the tn solutions: (240.84749951261927, 242.85483520292078)\n",
      "2023-11-03 07:31:27,243:INFO:intervals after: [(52, 52)], [(242, 242)]\n",
      "2023-11-03 07:31:27,246:INFO:testing acc, feasible tptn pairs: 1\n",
      "2023-11-03 07:31:27,247:INFO:testing sens, feasible tptn pairs: 1\n",
      "2023-11-03 07:31:27,250:INFO:testing spec, feasible tptn pairs: 1\n",
      "2023-11-03 07:31:27,251:INFO:testing bacc, feasible tptn pairs: 1\n",
      "2023-11-03 07:31:27,253:INFO:testing npv, feasible tptn pairs: 1\n",
      "2023-11-03 07:31:27,255:INFO:testing ppv, feasible tptn pairs: 1\n",
      "2023-11-03 07:31:27,257:INFO:constructing final tp, tn pair set\n",
      "2023-11-03 07:31:27,259:INFO:final number of intervals: 1\n",
      "2023-11-03 07:31:27,260:INFO:final number of pairs: 1\n"
     ]
    },
    {
     "data": {
      "text/plain": [
       "False"
      ]
     },
     "execution_count": 4,
     "metadata": {},
     "output_type": "execute_result"
    }
   ],
   "source": [
    "results = check_1_testset_no_kfold_micro(testset=testset,\n",
    "                                            scores=scores,\n",
    "                                            eps=1e-4)\n",
    "results['inconsistency']"
   ]
  },
  {
   "cell_type": "code",
   "execution_count": 5,
   "metadata": {},
   "outputs": [],
   "source": [
    "scores['acc'] = (1.0 + scores['spec']) / 2.0"
   ]
  },
  {
   "cell_type": "code",
   "execution_count": 6,
   "metadata": {},
   "outputs": [
    {
     "data": {
      "text/plain": [
       "0.8184"
      ]
     },
     "execution_count": 6,
     "metadata": {},
     "output_type": "execute_result"
    }
   ],
   "source": [
    "scores['acc']"
   ]
  },
  {
   "cell_type": "code",
   "execution_count": 7,
   "metadata": {},
   "outputs": [
    {
     "name": "stderr",
     "output_type": "stream",
     "text": [
      "2023-11-03 07:31:27,328:INFO:checking the scores {'acc': 0.8184, 'sens': 0.2737, 'spec': 0.6368, 'bacc': 0.4553, 'ppv': 0.2737, 'npv': 0.6368}\n",
      "2023-11-03 07:31:27,332:INFO:evaluating the tp and tn solution for acc and sens\n",
      "2023-11-03 07:31:27,333:INFO:intervals before: (0, 190), (0, 380)\n",
      "2023-11-03 07:31:27,337:INFO:the tp solutions: (51.98362, 52.02238)\n",
      "2023-11-03 07:31:27,338:INFO:the tn solutions: (414.40747999999996, 414.56252000000006)\n",
      "2023-11-03 07:31:27,341:INFO:intervals after: [(52, 52)], []\n",
      "2023-11-03 07:31:27,342:INFO:evaluating the tp and tn solution for acc and spec\n",
      "2023-11-03 07:31:27,344:INFO:intervals before: [(52, 52)], []\n",
      "2023-11-03 07:31:27,346:INFO:the tp solutions: (224.40709999999993, 224.60090000000005)\n",
      "2023-11-03 07:31:27,348:INFO:the tn solutions: (241.94523999999998, 242.02276000000003)\n",
      "2023-11-03 07:31:27,350:INFO:intervals after: [], []\n",
      "2023-11-03 07:31:27,352:INFO:evaluating the tp and tn solution for acc and bacc\n",
      "2023-11-03 07:31:27,354:INFO:intervals before: [], []\n",
      "2023-11-03 07:31:27,356:INFO:the tp solutions: (-120.5956600000001, -120.32434000000003)\n",
      "2023-11-03 07:31:27,357:INFO:the tn solutions: (586.7542, 587.1418000000001)\n",
      "2023-11-03 07:31:27,358:INFO:intervals after: [], []\n",
      "2023-11-03 07:31:27,360:INFO:evaluating the tp and tn solution for acc and ppv\n",
      "2023-11-03 07:31:27,362:INFO:intervals before: [], []\n",
      "2023-11-03 07:31:27,363:INFO:the tp solutions: (-52.380008276554186, -52.22355994266834)\n",
      "2023-11-03 07:31:27,365:INFO:the tn solutions: (518.2017689236844, 519.3782066236661)\n",
      "2023-11-03 07:31:27,374:INFO:intervals after: [], []\n",
      "2023-11-03 07:31:27,375:INFO:evaluating the tp and tn solution for acc and npv\n",
      "2023-11-03 07:31:27,377:INFO:intervals before: [], []\n",
      "2023-11-03 07:31:27,378:INFO:the tp solutions: (-177.7588589361954, -176.30973375743184)\n",
      "2023-11-03 07:31:27,379:INFO:the tn solutions: (642.8041190131622, 644.2405509161804)\n",
      "2023-11-03 07:31:27,381:INFO:intervals after: [], []\n",
      "2023-11-03 07:31:27,382:INFO:evaluating the tp and tn solution for sens and spec\n",
      "2023-11-03 07:31:27,384:INFO:intervals before: [], []\n",
      "2023-11-03 07:31:27,386:INFO:the tp solutions: (51.98362, 52.02238)\n",
      "2023-11-03 07:31:27,387:INFO:the tn solutions: (241.94523999999998, 242.02276000000003)\n",
      "2023-11-03 07:31:27,389:INFO:intervals after: [], []\n",
      "2023-11-03 07:31:27,390:INFO:evaluating the tp and tn solution for sens and bacc\n",
      "2023-11-03 07:31:27,392:INFO:intervals before: [], []\n",
      "2023-11-03 07:31:27,395:INFO:the tp solutions: (51.98362, 52.02238)\n",
      "2023-11-03 07:31:27,396:INFO:the tn solutions: (241.90572, 242.13827999999998)\n",
      "2023-11-03 07:31:27,398:INFO:intervals after: [], []\n",
      "2023-11-03 07:31:27,399:INFO:evaluating the tp and tn solution for sens and ppv\n",
      "2023-11-03 07:31:27,401:INFO:intervals before: [], []\n",
      "2023-11-03 07:31:27,403:INFO:the tp solutions: (51.98362, 52.02238)\n",
      "2023-11-03 07:31:27,404:INFO:the tn solutions: (241.66176457717626, 242.3445043047098)\n",
      "2023-11-03 07:31:27,413:INFO:intervals after: [], []\n",
      "2023-11-03 07:31:27,415:INFO:evaluating the tp and tn solution for sens and npv\n",
      "2023-11-03 07:31:27,417:INFO:intervals before: [], []\n",
      "2023-11-03 07:31:27,420:INFO:the tp solutions: (51.98362, 52.02238)\n",
      "2023-11-03 07:31:27,421:INFO:the tn solutions: (241.81004976234647, 242.0914145898904)\n",
      "2023-11-03 07:31:27,423:INFO:intervals after: [], []\n",
      "2023-11-03 07:31:27,425:INFO:evaluating the tp and tn solution for spec and bacc\n",
      "2023-11-03 07:31:27,427:INFO:intervals before: [], []\n",
      "2023-11-03 07:31:27,429:INFO:the tp solutions: (51.96385999999998, 52.08013999999999)\n",
      "2023-11-03 07:31:27,430:INFO:the tn solutions: (241.94523999999998, 242.02276000000003)\n",
      "2023-11-03 07:31:27,432:INFO:intervals after: [], []\n",
      "2023-11-03 07:31:27,434:INFO:evaluating the tp and tn solution for spec and ppv\n",
      "2023-11-03 07:31:27,436:INFO:intervals before: [], []\n",
      "2023-11-03 07:31:27,438:INFO:the tp solutions: (51.96887798976324, 52.0514644732153)\n",
      "2023-11-03 07:31:27,439:INFO:the tn solutions: (241.94523999999998, 242.02276000000003)\n",
      "2023-11-03 07:31:27,440:INFO:intervals after: [], []\n",
      "2023-11-03 07:31:27,442:INFO:evaluating the tp and tn solution for spec and npv\n",
      "2023-11-03 07:31:27,443:INFO:intervals before: [], []\n",
      "2023-11-03 07:31:27,444:INFO:the tp solutions: (51.806887743357564, 52.161181422778235)\n",
      "2023-11-03 07:31:27,445:INFO:the tn solutions: (241.94523999999998, 242.02276000000003)\n",
      "2023-11-03 07:31:27,446:INFO:intervals after: [], []\n",
      "2023-11-03 07:31:27,448:INFO:evaluating the tp and tn solution for bacc and ppv\n",
      "2023-11-03 07:31:27,450:INFO:intervals before: [], []\n",
      "2023-11-03 07:31:27,451:INFO:the tp solutions: (51.74749695345026, 52.201231144607334)\n",
      "2023-11-03 07:31:27,453:INFO:the tn solutions: (240.48623602424024, 243.67941013113506)\n",
      "2023-11-03 07:31:27,455:INFO:intervals after: [], []\n",
      "2023-11-03 07:31:27,456:INFO:evaluating the tp and tn solution for bacc and npv\n",
      "2023-11-03 07:31:27,458:INFO:intervals before: [], []\n",
      "2023-11-03 07:31:27,460:INFO:the tp solutions: (50.094566557959965, 54.50446037762892)\n",
      "2023-11-03 07:31:27,461:INFO:the tn solutions: (240.03456529085898, 242.86298504983597)\n",
      "2023-11-03 07:31:27,463:INFO:intervals after: [], []\n",
      "2023-11-03 07:31:27,464:INFO:evaluating the tp and tn solution for ppv and npv\n",
      "2023-11-03 07:31:27,466:INFO:intervals before: [], []\n",
      "2023-11-03 07:31:27,467:INFO:the tp solutions: (51.74602430527055, 52.37775596084947)\n",
      "2023-11-03 07:31:27,470:INFO:the tn solutions: (240.84749951261927, 242.85483520292078)\n",
      "2023-11-03 07:31:27,472:INFO:intervals after: [], []\n",
      "2023-11-03 07:31:27,473:INFO:testing acc, feasible tptn pairs: 0\n",
      "2023-11-03 07:31:27,475:INFO:no more feasible tp,tn pairs left\n",
      "2023-11-03 07:31:27,476:INFO:constructing final tp, tn pair set\n",
      "2023-11-03 07:31:27,479:INFO:final number of intervals: 0\n",
      "2023-11-03 07:31:27,481:INFO:final number of pairs: 0\n"
     ]
    },
    {
     "data": {
      "text/plain": [
       "True"
      ]
     },
     "execution_count": 7,
     "metadata": {},
     "output_type": "execute_result"
    }
   ],
   "source": [
    "results = check_1_testset_no_kfold_micro(testset=testset,\n",
    "                                            scores=scores,\n",
    "                                            eps=1e-4)\n",
    "results['inconsistency']"
   ]
  },
  {
   "cell_type": "code",
   "execution_count": null,
   "metadata": {},
   "outputs": [],
   "source": []
  }
 ],
 "metadata": {
  "kernelspec": {
   "display_name": "mlscorecheck",
   "language": "python",
   "name": "python3"
  },
  "language_info": {
   "codemirror_mode": {
    "name": "ipython",
    "version": 3
   },
   "file_extension": ".py",
   "mimetype": "text/x-python",
   "name": "python",
   "nbconvert_exporter": "python",
   "pygments_lexer": "ipython3",
   "version": "3.10.0"
  }
 },
 "nbformat": 4,
 "nbformat_minor": 2
}
