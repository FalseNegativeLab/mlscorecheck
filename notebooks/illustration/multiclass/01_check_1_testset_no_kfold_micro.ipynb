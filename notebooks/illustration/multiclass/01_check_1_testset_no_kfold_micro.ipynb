{
 "cells": [
  {
   "cell_type": "code",
   "execution_count": 1,
   "metadata": {},
   "outputs": [],
   "source": [
    "from mlscorecheck.check.multiclass import check_1_testset_no_kfold_micro"
   ]
  },
  {
   "cell_type": "code",
   "execution_count": 2,
   "metadata": {},
   "outputs": [],
   "source": [
    "testset = {0: 10, 1: 100, 2: 80}"
   ]
  },
  {
   "cell_type": "code",
   "execution_count": 3,
   "metadata": {},
   "outputs": [],
   "source": [
    "scores = {'acc': 0.5158, 'sens': 0.2737, 'spec': 0.6368,\n",
    "          'bacc': 0.4553, 'ppv': 0.2737, 'npv': 0.6368}"
   ]
  },
  {
   "cell_type": "code",
   "execution_count": 4,
   "metadata": {},
   "outputs": [
    {
     "name": "stderr",
     "output_type": "stream",
     "text": [
      "2023-11-04 11:34:20,704:INFO:checking the scores {'acc': 0.5158, 'sens': 0.2737, 'spec': 0.6368, 'bacc': 0.4553, 'ppv': 0.2737, 'npv': 0.6368}\n",
      "2023-11-04 11:34:20,705:INFO:evaluating the tp and tn solution for acc and sens\n",
      "2023-11-04 11:34:20,706:INFO:intervals before: (0, 190), (0, 380)\n",
      "2023-11-04 11:34:20,707:INFO:the tp solutions: (51.98362, 52.02238)\n",
      "2023-11-04 11:34:20,709:INFO:the tn solutions: (241.92548, 242.08052000000006)\n",
      "2023-11-04 11:34:20,709:INFO:intervals after: [(52, 52)], [(242, 242)]\n",
      "2023-11-04 11:34:20,710:INFO:evaluating the tp and tn solution for acc and spec\n",
      "2023-11-04 11:34:20,711:INFO:intervals before: [(52, 52)], [(242, 242)]\n",
      "2023-11-04 11:34:20,712:INFO:the tp solutions: (51.92509999999996, 52.11890000000008)\n",
      "2023-11-04 11:34:20,713:INFO:the tn solutions: (241.94523999999998, 242.02276000000003)\n",
      "2023-11-04 11:34:20,714:INFO:intervals after: [(52, 52)], [(242, 242)]\n",
      "2023-11-04 11:34:20,716:INFO:evaluating the tp and tn solution for acc and bacc\n",
      "2023-11-04 11:34:20,717:INFO:intervals before: [(52, 52)], [(242, 242)]\n",
      "2023-11-04 11:34:20,718:INFO:the tp solutions: (51.886339999999905, 52.157659999999964)\n",
      "2023-11-04 11:34:20,719:INFO:the tn solutions: (241.79020000000003, 242.17780000000016)\n",
      "2023-11-04 11:34:20,719:INFO:intervals after: [(52, 52)], [(242, 242)]\n",
      "2023-11-04 11:34:20,720:INFO:evaluating the tp and tn solution for acc and ppv\n",
      "2023-11-04 11:34:20,721:INFO:intervals before: [(52, 52)], [(242, 242)]\n",
      "2023-11-04 11:34:20,722:INFO:the tp solutions: (51.92507006183688, 52.081026437634286)\n",
      "2023-11-04 11:34:20,722:INFO:the tn solutions: (241.57858662847494, 242.42776991777123)\n",
      "2023-11-04 11:34:20,723:INFO:intervals after: [(52, 52)], [(242, 242)]\n",
      "2023-11-04 11:34:20,724:INFO:evaluating the tp and tn solution for acc and npv\n",
      "2023-11-04 11:34:20,725:INFO:intervals before: [(52, 52)], [(242, 242)]\n",
      "2023-11-04 11:34:20,726:INFO:the tp solutions: (51.36701642883198, 52.50098353406811)\n",
      "2023-11-04 11:34:20,727:INFO:the tn solutions: (241.71814351243938, 242.4273174965254)\n",
      "2023-11-04 11:34:20,729:INFO:intervals after: [(52, 52)], [(242, 242)]\n",
      "2023-11-04 11:34:20,730:INFO:evaluating the tp and tn solution for sens and spec\n",
      "2023-11-04 11:34:20,730:INFO:intervals before: [(52, 52)], [(242, 242)]\n",
      "2023-11-04 11:34:20,731:INFO:the tp solutions: (51.98362, 52.02238)\n",
      "2023-11-04 11:34:20,732:INFO:the tn solutions: (241.94523999999998, 242.02276000000003)\n",
      "2023-11-04 11:34:20,733:INFO:intervals after: [(52, 52)], [(242, 242)]\n",
      "2023-11-04 11:34:20,733:INFO:evaluating the tp and tn solution for sens and bacc\n",
      "2023-11-04 11:34:20,734:INFO:intervals before: [(52, 52)], [(242, 242)]\n",
      "2023-11-04 11:34:20,735:INFO:the tp solutions: (51.98362, 52.02238)\n",
      "2023-11-04 11:34:20,736:INFO:the tn solutions: (241.90572, 242.13827999999998)\n",
      "2023-11-04 11:34:20,737:INFO:intervals after: [(52, 52)], [(242, 242)]\n",
      "2023-11-04 11:34:20,738:INFO:evaluating the tp and tn solution for sens and ppv\n",
      "2023-11-04 11:34:20,738:INFO:intervals before: [(52, 52)], [(242, 242)]\n",
      "2023-11-04 11:34:20,740:INFO:the tp solutions: (51.98362, 52.02238)\n",
      "2023-11-04 11:34:20,741:INFO:the tn solutions: (241.66176457717626, 242.3445043047098)\n",
      "2023-11-04 11:34:20,742:INFO:intervals after: [(52, 52)], [(242, 242)]\n",
      "2023-11-04 11:34:20,742:INFO:evaluating the tp and tn solution for sens and npv\n",
      "2023-11-04 11:34:20,743:INFO:intervals before: [(52, 52)], [(242, 242)]\n",
      "2023-11-04 11:34:20,745:INFO:the tp solutions: (51.98362, 52.02238)\n",
      "2023-11-04 11:34:20,747:INFO:the tn solutions: (241.81004976234647, 242.0914145898904)\n",
      "2023-11-04 11:34:20,751:INFO:intervals after: [(52, 52)], [(242, 242)]\n",
      "2023-11-04 11:34:20,751:INFO:evaluating the tp and tn solution for spec and bacc\n",
      "2023-11-04 11:34:20,753:INFO:intervals before: [(52, 52)], [(242, 242)]\n",
      "2023-11-04 11:34:20,753:INFO:the tp solutions: (51.96385999999998, 52.08013999999999)\n",
      "2023-11-04 11:34:20,754:INFO:the tn solutions: (241.94523999999998, 242.02276000000003)\n",
      "2023-11-04 11:34:20,755:INFO:intervals after: [(52, 52)], [(242, 242)]\n",
      "2023-11-04 11:34:20,756:INFO:evaluating the tp and tn solution for spec and ppv\n",
      "2023-11-04 11:34:20,756:INFO:intervals before: [(52, 52)], [(242, 242)]\n",
      "2023-11-04 11:34:20,758:INFO:the tp solutions: (51.96887798976324, 52.0514644732153)\n",
      "2023-11-04 11:34:20,759:INFO:the tn solutions: (241.94523999999998, 242.02276000000003)\n",
      "2023-11-04 11:34:20,759:INFO:intervals after: [(52, 52)], [(242, 242)]\n",
      "2023-11-04 11:34:20,760:INFO:evaluating the tp and tn solution for spec and npv\n",
      "2023-11-04 11:34:20,761:INFO:intervals before: [(52, 52)], [(242, 242)]\n",
      "2023-11-04 11:34:20,762:INFO:the tp solutions: (51.806887743357564, 52.161181422778235)\n",
      "2023-11-04 11:34:20,763:INFO:the tn solutions: (241.94523999999998, 242.02276000000003)\n",
      "2023-11-04 11:34:20,764:INFO:intervals after: [(52, 52)], [(242, 242)]\n",
      "2023-11-04 11:34:20,765:INFO:evaluating the tp and tn solution for bacc and ppv\n",
      "2023-11-04 11:34:20,766:INFO:intervals before: [(52, 52)], [(242, 242)]\n",
      "2023-11-04 11:34:20,767:INFO:the tp solutions: (51.74749695345026, 52.201231144607334)\n",
      "2023-11-04 11:34:20,768:INFO:the tn solutions: (240.48623602424024, 243.67941013113506)\n",
      "2023-11-04 11:34:20,769:INFO:intervals after: [(52, 52)], [(242, 242)]\n",
      "2023-11-04 11:34:20,769:INFO:evaluating the tp and tn solution for bacc and npv\n",
      "2023-11-04 11:34:20,770:INFO:intervals before: [(52, 52)], [(242, 242)]\n",
      "2023-11-04 11:34:20,771:INFO:the tp solutions: (50.094566557959965, 54.50446037762892)\n",
      "2023-11-04 11:34:20,771:INFO:the tn solutions: (240.03456529085898, 242.86298504983597)\n",
      "2023-11-04 11:34:20,772:INFO:intervals after: [(52, 52)], [(242, 242)]\n",
      "2023-11-04 11:34:20,773:INFO:evaluating the tp and tn solution for ppv and npv\n",
      "2023-11-04 11:34:20,773:INFO:intervals before: [(52, 52)], [(242, 242)]\n",
      "2023-11-04 11:34:20,774:INFO:the tp solutions: (51.74602430527055, 52.37775596084947)\n",
      "2023-11-04 11:34:20,775:INFO:the tn solutions: (240.84749951261927, 242.85483520292078)\n",
      "2023-11-04 11:34:20,776:INFO:intervals after: [(52, 52)], [(242, 242)]\n",
      "2023-11-04 11:34:20,777:INFO:testing acc, feasible tptn pairs: 1\n",
      "2023-11-04 11:34:20,778:INFO:testing sens, feasible tptn pairs: 1\n",
      "2023-11-04 11:34:20,779:INFO:testing spec, feasible tptn pairs: 1\n",
      "2023-11-04 11:34:20,781:INFO:testing bacc, feasible tptn pairs: 1\n",
      "2023-11-04 11:34:20,782:INFO:testing npv, feasible tptn pairs: 1\n",
      "2023-11-04 11:34:20,784:INFO:testing ppv, feasible tptn pairs: 1\n",
      "2023-11-04 11:34:20,785:INFO:constructing final tp, tn pair set\n",
      "2023-11-04 11:34:20,786:INFO:final number of intervals: 1\n",
      "2023-11-04 11:34:20,787:INFO:final number of pairs: 1\n"
     ]
    },
    {
     "data": {
      "text/plain": [
       "False"
      ]
     },
     "execution_count": 4,
     "metadata": {},
     "output_type": "execute_result"
    }
   ],
   "source": [
    "results = check_1_testset_no_kfold_micro(testset=testset,\n",
    "                                            scores=scores,\n",
    "                                            eps=1e-4)\n",
    "results['inconsistency']"
   ]
  },
  {
   "cell_type": "code",
   "execution_count": 6,
   "metadata": {},
   "outputs": [
    {
     "data": {
      "text/plain": [
       "{'acc': 0.5158,\n",
       " 'sens': 0.2737,\n",
       " 'spec': 0.6368,\n",
       " 'bacc': 0.4553,\n",
       " 'ppv': 0.2737,\n",
       " 'npv': 0.6368}"
      ]
     },
     "execution_count": 6,
     "metadata": {},
     "output_type": "execute_result"
    }
   ],
   "source": [
    "scores"
   ]
  },
  {
   "cell_type": "code",
   "execution_count": 8,
   "metadata": {},
   "outputs": [],
   "source": [
    "scores['acc'] = 0.5258"
   ]
  },
  {
   "cell_type": "code",
   "execution_count": 9,
   "metadata": {},
   "outputs": [
    {
     "name": "stderr",
     "output_type": "stream",
     "text": [
      "2023-11-04 11:34:20,856:INFO:checking the scores {'acc': 0.5258, 'sens': 0.2737, 'spec': 0.6368, 'bacc': 0.4553, 'ppv': 0.2737, 'npv': 0.6368}\n",
      "2023-11-04 11:34:20,857:INFO:evaluating the tp and tn solution for acc and sens\n",
      "2023-11-04 11:34:20,858:INFO:intervals before: (0, 190), (0, 380)\n",
      "2023-11-04 11:34:20,859:INFO:the tp solutions: (51.98362, 52.02238)\n",
      "2023-11-04 11:34:20,860:INFO:the tn solutions: (247.62548000000004, 247.78052000000005)\n",
      "2023-11-04 11:34:20,862:INFO:intervals after: [(52, 52)], [(1, 0)]\n",
      "2023-11-04 11:34:20,863:INFO:evaluating the tp and tn solution for acc and spec\n",
      "2023-11-04 11:34:20,864:INFO:intervals before: [(52, 52)], [(1, 0)]\n",
      "2023-11-04 11:34:20,865:INFO:the tp solutions: (57.6251, 57.81890000000007)\n",
      "2023-11-04 11:34:20,866:INFO:the tn solutions: (241.94523999999998, 242.02276000000003)\n",
      "2023-11-04 11:34:20,867:INFO:intervals after: [], []\n",
      "2023-11-04 11:34:20,867:INFO:evaluating the tp and tn solution for acc and bacc\n",
      "2023-11-04 11:34:20,868:INFO:intervals before: [], []\n",
      "2023-11-04 11:34:20,869:INFO:the tp solutions: (46.18633999999993, 46.45765999999995)\n",
      "2023-11-04 11:34:20,870:INFO:the tn solutions: (253.19020000000012, 253.57780000000014)\n",
      "2023-11-04 11:34:20,871:INFO:intervals after: [], []\n",
      "2023-11-04 11:34:20,871:INFO:evaluating the tp and tn solution for acc and ppv\n",
      "2023-11-04 11:34:20,872:INFO:intervals before: [], []\n",
      "2023-11-04 11:34:20,873:INFO:the tp solutions: (48.48095605224332, 48.631235988558664)\n",
      "2023-11-04 11:34:20,879:INFO:the tn solutions: (250.7201326395527, 251.58013068134997)\n",
      "2023-11-04 11:34:20,880:INFO:intervals after: [], []\n",
      "2023-11-04 11:34:20,881:INFO:evaluating the tp and tn solution for acc and npv\n",
      "2023-11-04 11:34:20,883:INFO:intervals before: [], []\n",
      "2023-11-04 11:34:20,884:INFO:the tp solutions: (43.80386395479962, 44.93079743039423)\n",
      "2023-11-04 11:34:20,884:INFO:the tn solutions: (254.97280231946934, 255.70600994264748)\n",
      "2023-11-04 11:34:20,885:INFO:intervals after: [], []\n",
      "2023-11-04 11:34:20,885:INFO:evaluating the tp and tn solution for sens and spec\n",
      "2023-11-04 11:34:20,886:INFO:intervals before: [], []\n",
      "2023-11-04 11:34:20,887:INFO:the tp solutions: (51.98362, 52.02238)\n",
      "2023-11-04 11:34:20,887:INFO:the tn solutions: (241.94523999999998, 242.02276000000003)\n",
      "2023-11-04 11:34:20,888:INFO:intervals after: [], []\n",
      "2023-11-04 11:34:20,889:INFO:evaluating the tp and tn solution for sens and bacc\n",
      "2023-11-04 11:34:20,890:INFO:intervals before: [], []\n",
      "2023-11-04 11:34:20,891:INFO:the tp solutions: (51.98362, 52.02238)\n",
      "2023-11-04 11:34:20,892:INFO:the tn solutions: (241.90572, 242.13827999999998)\n",
      "2023-11-04 11:34:20,893:INFO:intervals after: [], []\n",
      "2023-11-04 11:34:20,894:INFO:evaluating the tp and tn solution for sens and ppv\n",
      "2023-11-04 11:34:20,896:INFO:intervals before: [], []\n",
      "2023-11-04 11:34:20,897:INFO:the tp solutions: (51.98362, 52.02238)\n",
      "2023-11-04 11:34:20,898:INFO:the tn solutions: (241.66176457717626, 242.3445043047098)\n",
      "2023-11-04 11:34:20,899:INFO:intervals after: [], []\n",
      "2023-11-04 11:34:20,899:INFO:evaluating the tp and tn solution for sens and npv\n",
      "2023-11-04 11:34:20,900:INFO:intervals before: [], []\n",
      "2023-11-04 11:34:20,901:INFO:the tp solutions: (51.98362, 52.02238)\n",
      "2023-11-04 11:34:20,902:INFO:the tn solutions: (241.81004976234647, 242.0914145898904)\n",
      "2023-11-04 11:34:20,902:INFO:intervals after: [], []\n",
      "2023-11-04 11:34:20,903:INFO:evaluating the tp and tn solution for spec and bacc\n",
      "2023-11-04 11:34:20,904:INFO:intervals before: [], []\n",
      "2023-11-04 11:34:20,904:INFO:the tp solutions: (51.96385999999998, 52.08013999999999)\n",
      "2023-11-04 11:34:20,905:INFO:the tn solutions: (241.94523999999998, 242.02276000000003)\n",
      "2023-11-04 11:34:20,905:INFO:intervals after: [], []\n",
      "2023-11-04 11:34:20,906:INFO:evaluating the tp and tn solution for spec and ppv\n",
      "2023-11-04 11:34:20,906:INFO:intervals before: [], []\n",
      "2023-11-04 11:34:20,910:INFO:the tp solutions: (51.96887798976324, 52.0514644732153)\n",
      "2023-11-04 11:34:20,912:INFO:the tn solutions: (241.94523999999998, 242.02276000000003)\n",
      "2023-11-04 11:34:20,913:INFO:intervals after: [], []\n",
      "2023-11-04 11:34:20,914:INFO:evaluating the tp and tn solution for spec and npv\n",
      "2023-11-04 11:34:20,915:INFO:intervals before: [], []\n",
      "2023-11-04 11:34:20,915:INFO:the tp solutions: (51.806887743357564, 52.161181422778235)\n",
      "2023-11-04 11:34:20,916:INFO:the tn solutions: (241.94523999999998, 242.02276000000003)\n",
      "2023-11-04 11:34:20,916:INFO:intervals after: [], []\n",
      "2023-11-04 11:34:20,917:INFO:evaluating the tp and tn solution for bacc and ppv\n",
      "2023-11-04 11:34:20,918:INFO:intervals before: [], []\n",
      "2023-11-04 11:34:20,919:INFO:the tp solutions: (51.74749695345026, 52.201231144607334)\n",
      "2023-11-04 11:34:20,925:INFO:the tn solutions: (240.48623602424024, 243.67941013113506)\n",
      "2023-11-04 11:34:20,925:INFO:intervals after: [], []\n",
      "2023-11-04 11:34:20,926:INFO:evaluating the tp and tn solution for bacc and npv\n",
      "2023-11-04 11:34:20,928:INFO:intervals before: [], []\n",
      "2023-11-04 11:34:20,928:INFO:the tp solutions: (50.094566557959965, 54.50446037762892)\n",
      "2023-11-04 11:34:20,929:INFO:the tn solutions: (240.03456529085898, 242.86298504983597)\n",
      "2023-11-04 11:34:20,930:INFO:intervals after: [], []\n",
      "2023-11-04 11:34:20,931:INFO:evaluating the tp and tn solution for ppv and npv\n",
      "2023-11-04 11:34:20,932:INFO:intervals before: [], []\n",
      "2023-11-04 11:34:20,933:INFO:the tp solutions: (51.74602430527055, 52.37775596084947)\n",
      "2023-11-04 11:34:20,934:INFO:the tn solutions: (240.84749951261927, 242.85483520292078)\n",
      "2023-11-04 11:34:20,935:INFO:intervals after: [], []\n",
      "2023-11-04 11:34:20,939:INFO:testing acc, feasible tptn pairs: 0\n",
      "2023-11-04 11:34:20,940:INFO:no more feasible tp,tn pairs left\n",
      "2023-11-04 11:34:20,940:INFO:constructing final tp, tn pair set\n",
      "2023-11-04 11:34:20,941:INFO:final number of intervals: 0\n",
      "2023-11-04 11:34:20,942:INFO:final number of pairs: 0\n"
     ]
    },
    {
     "data": {
      "text/plain": [
       "True"
      ]
     },
     "execution_count": 9,
     "metadata": {},
     "output_type": "execute_result"
    }
   ],
   "source": [
    "results = check_1_testset_no_kfold_micro(testset=testset,\n",
    "                                            scores=scores,\n",
    "                                            eps=1e-4)\n",
    "results['inconsistency']"
   ]
  },
  {
   "cell_type": "code",
   "execution_count": null,
   "metadata": {},
   "outputs": [],
   "source": []
  }
 ],
 "metadata": {
  "kernelspec": {
   "display_name": "mlscorecheck",
   "language": "python",
   "name": "python3"
  },
  "language_info": {
   "codemirror_mode": {
    "name": "ipython",
    "version": 3
   },
   "file_extension": ".py",
   "mimetype": "text/x-python",
   "name": "python",
   "nbconvert_exporter": "python",
   "pygments_lexer": "ipython3",
   "version": "3.10.0"
  }
 },
 "nbformat": 4,
 "nbformat_minor": 2
}
