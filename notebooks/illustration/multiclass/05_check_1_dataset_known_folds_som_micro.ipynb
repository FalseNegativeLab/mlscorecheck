{
 "cells": [
  {
   "cell_type": "code",
   "execution_count": 9,
   "metadata": {},
   "outputs": [],
   "source": [
    "from mlscorecheck.aggregated import generate_dataset_folding_multiclass\n",
    "from mlscorecheck.check.multiclass import check_1_dataset_known_folds_som_micro"
   ]
  },
  {
   "cell_type": "code",
   "execution_count": 10,
   "metadata": {},
   "outputs": [
    {
     "data": {
      "text/plain": [
       "({0: 62, 1: 181, 2: 107, 3: 66},\n",
       " {'n_folds': 3, 'n_repeats': 2, 'strategy': 'stratified_sklearn'},\n",
       " {'acc': 0.6304,\n",
       "  'sens': 0.2608,\n",
       "  'spec': 0.7536,\n",
       "  'f1p': 0.2608,\n",
       "  'beta_positive': 2,\n",
       "  'beta_negative': 2})"
      ]
     },
     "execution_count": 10,
     "metadata": {},
     "output_type": "execute_result"
    }
   ],
   "source": [
    "dataset, folding, scores = generate_dataset_folding_multiclass(random_state=None,\n",
    "                                                                average='micro',\n",
    "                                                                aggregation='som',\n",
    "                                                                rounding_decimals=4,\n",
    "                                                                subset=['acc', 'sens', 'spec', 'f1p'])\n",
    "dataset, folding, scores"
   ]
  },
  {
   "cell_type": "code",
   "execution_count": 11,
   "metadata": {},
   "outputs": [],
   "source": [
    "dataset = {0: 86, 1: 96, 2: 59, 3: 105}\n",
    "folding = {'folds': [{0: 43, 1: 48, 2: 30, 3: 52}, {0: 43, 1: 48, 2: 29, 3: 53}]}\n",
    "scores =  {'acc': 0.6272, 'sens': 0.2543, 'spec': 0.7514, 'f1p': 0.2543}"
   ]
  },
  {
   "cell_type": "code",
   "execution_count": 12,
   "metadata": {},
   "outputs": [
    {
     "name": "stderr",
     "output_type": "stream",
     "text": [
      "2023-11-04 11:32:09,641:INFO:checking the scores {'acc': 0.6272, 'sens': 0.2543, 'spec': 0.7514, 'f1p': 0.2543}\n",
      "2023-11-04 11:32:09,644:INFO:evaluating the tp and tn solution for acc and sens\n",
      "2023-11-04 11:32:09,645:INFO:intervals before: (0, 346), (0, 1038)\n",
      "2023-11-04 11:32:09,646:INFO:the tp solutions: (87.95250800000001, 88.023092)\n",
      "2023-11-04 11:32:09,647:INFO:the tn solutions: (779.8805399999999, 780.23346)\n",
      "2023-11-04 11:32:09,648:INFO:intervals after: [(88, 88)], [(780, 780)]\n",
      "2023-11-04 11:32:09,649:INFO:evaluating the tp and tn solution for acc and spec\n",
      "2023-11-04 11:32:09,653:INFO:intervals before: [(88, 88)], [(780, 780)]\n",
      "2023-11-04 11:32:09,654:INFO:the tp solutions: (87.8445559999999, 88.33864400000004)\n",
      "2023-11-04 11:32:09,656:INFO:the tn solutions: (779.847324, 780.059076)\n",
      "2023-11-04 11:32:09,656:INFO:intervals after: [(88, 88)], [(780, 780)]\n",
      "2023-11-04 11:32:09,657:INFO:evaluating the tp and tn solution for acc and f1p\n",
      "2023-11-04 11:32:09,658:INFO:intervals before: [(88, 88)], [(780, 780)]\n",
      "2023-11-04 11:32:09,659:INFO:the tp solutions: (87.90462837746212, 88.04741174998863)\n",
      "2023-11-04 11:32:09,660:INFO:the tn solutions: (779.594751267001, 780.5429578357666)\n",
      "2023-11-04 11:32:09,661:INFO:intervals after: [(88, 88)], [(780, 780)]\n",
      "2023-11-04 11:32:09,664:INFO:evaluating the tp and tn solution for sens and spec\n",
      "2023-11-04 11:32:09,665:INFO:intervals before: [(88, 88)], [(780, 780)]\n",
      "2023-11-04 11:32:09,666:INFO:the tp solutions: (87.95250800000001, 88.023092)\n",
      "2023-11-04 11:32:09,666:INFO:the tn solutions: (779.847324, 780.059076)\n",
      "2023-11-04 11:32:09,667:INFO:intervals after: [(88, 88)], [(780, 780)]\n",
      "2023-11-04 11:32:09,668:INFO:evaluating the tp and tn solution for sens and f1p\n",
      "2023-11-04 11:32:09,670:INFO:intervals before: [(88, 88)], [(780, 780)]\n",
      "2023-11-04 11:32:09,672:INFO:the tp solutions: (87.95250800000001, 88.023092)\n",
      "2023-11-04 11:32:09,673:INFO:the tn solutions: (778.7721780040409, 781.2044258844836)\n",
      "2023-11-04 11:32:09,674:INFO:intervals after: [(88, 88)], [(780, 780)]\n",
      "2023-11-04 11:32:09,675:INFO:evaluating the tp and tn solution for spec and f1p\n",
      "2023-11-04 11:32:09,677:INFO:intervals before: [(88, 88)], [(780, 780)]\n",
      "2023-11-04 11:32:09,677:INFO:the tp solutions: (87.93699113585161, 88.04870828206266)\n",
      "2023-11-04 11:32:09,680:INFO:the tn solutions: (779.847324, 780.059076)\n",
      "2023-11-04 11:32:09,680:INFO:intervals after: [(88, 88)], [(780, 780)]\n",
      "2023-11-04 11:32:09,682:INFO:testing acc, feasible tptn pairs: 1\n",
      "2023-11-04 11:32:09,682:INFO:testing sens, feasible tptn pairs: 1\n",
      "2023-11-04 11:32:09,684:INFO:testing spec, feasible tptn pairs: 1\n",
      "2023-11-04 11:32:09,685:INFO:testing f1p, feasible tptn pairs: 1\n",
      "2023-11-04 11:32:09,686:INFO:constructing final tp, tn pair set\n",
      "2023-11-04 11:32:09,689:INFO:final number of intervals: 1\n",
      "2023-11-04 11:32:09,690:INFO:final number of pairs: 1\n"
     ]
    },
    {
     "data": {
      "text/plain": [
       "False"
      ]
     },
     "execution_count": 12,
     "metadata": {},
     "output_type": "execute_result"
    }
   ],
   "source": [
    "result = check_1_dataset_known_folds_som_micro(dataset=dataset,\n",
    "                                                folding=folding,\n",
    "                                                scores=scores,\n",
    "                                                eps=1e-4)\n",
    "result['inconsistency']"
   ]
  },
  {
   "cell_type": "code",
   "execution_count": 13,
   "metadata": {},
   "outputs": [
    {
     "data": {
      "text/plain": [
       "{'acc': 0.6272, 'sens': 0.2543, 'spec': 0.7514, 'f1p': 0.2543}"
      ]
     },
     "execution_count": 13,
     "metadata": {},
     "output_type": "execute_result"
    }
   ],
   "source": [
    "scores"
   ]
  },
  {
   "cell_type": "code",
   "execution_count": 14,
   "metadata": {},
   "outputs": [],
   "source": [
    "scores['sens'] = 0.2553"
   ]
  },
  {
   "cell_type": "code",
   "execution_count": 15,
   "metadata": {},
   "outputs": [
    {
     "name": "stderr",
     "output_type": "stream",
     "text": [
      "2023-11-04 11:32:09,740:INFO:checking the scores {'acc': 0.6272, 'sens': 0.2553, 'spec': 0.7514, 'f1p': 0.2543}\n",
      "2023-11-04 11:32:09,742:INFO:evaluating the tp and tn solution for acc and sens\n",
      "2023-11-04 11:32:09,744:INFO:intervals before: (0, 346), (0, 1038)\n",
      "2023-11-04 11:32:09,744:INFO:the tp solutions: (88.29850800000001, 88.36909200000001)\n",
      "2023-11-04 11:32:09,745:INFO:the tn solutions: (779.5345399999999, 779.88746)\n",
      "2023-11-04 11:32:09,746:INFO:intervals after: [(1, 0)], [(1, 0)]\n",
      "2023-11-04 11:32:09,750:INFO:evaluating the tp and tn solution for acc and spec\n",
      "2023-11-04 11:32:09,751:INFO:intervals before: [(1, 0)], [(1, 0)]\n",
      "2023-11-04 11:32:09,752:INFO:the tp solutions: (87.8445559999999, 88.33864400000004)\n",
      "2023-11-04 11:32:09,754:INFO:the tn solutions: (779.847324, 780.059076)\n",
      "2023-11-04 11:32:09,755:INFO:intervals after: [], []\n",
      "2023-11-04 11:32:09,756:INFO:evaluating the tp and tn solution for acc and f1p\n",
      "2023-11-04 11:32:09,757:INFO:intervals before: [], []\n",
      "2023-11-04 11:32:09,758:INFO:the tp solutions: (87.90462837746212, 88.04741174998863)\n",
      "2023-11-04 11:32:09,759:INFO:the tn solutions: (779.594751267001, 780.5429578357666)\n",
      "2023-11-04 11:32:09,760:INFO:intervals after: [], []\n",
      "2023-11-04 11:32:09,761:INFO:evaluating the tp and tn solution for sens and spec\n",
      "2023-11-04 11:32:09,762:INFO:intervals before: [], []\n",
      "2023-11-04 11:32:09,763:INFO:the tp solutions: (88.29850800000001, 88.36909200000001)\n",
      "2023-11-04 11:32:09,765:INFO:the tn solutions: (779.847324, 780.059076)\n",
      "2023-11-04 11:32:09,765:INFO:intervals after: [], []\n",
      "2023-11-04 11:32:09,767:INFO:evaluating the tp and tn solution for sens and f1p\n",
      "2023-11-04 11:32:09,768:INFO:intervals before: [], []\n",
      "2023-11-04 11:32:09,769:INFO:the tp solutions: (88.29850800000001, 88.36909200000001)\n",
      "2023-11-04 11:32:09,769:INFO:the tn solutions: (776.397796151697, 778.8284162069881)\n",
      "2023-11-04 11:32:09,771:INFO:intervals after: [], []\n",
      "2023-11-04 11:32:09,772:INFO:evaluating the tp and tn solution for spec and f1p\n",
      "2023-11-04 11:32:09,773:INFO:intervals before: [], []\n",
      "2023-11-04 11:32:09,774:INFO:the tp solutions: (87.93699113585161, 88.04870828206266)\n",
      "2023-11-04 11:32:09,775:INFO:the tn solutions: (779.847324, 780.059076)\n",
      "2023-11-04 11:32:09,776:INFO:intervals after: [], []\n",
      "2023-11-04 11:32:09,777:INFO:testing acc, feasible tptn pairs: 0\n",
      "2023-11-04 11:32:09,777:INFO:no more feasible tp,tn pairs left\n",
      "2023-11-04 11:32:09,778:INFO:constructing final tp, tn pair set\n",
      "2023-11-04 11:32:09,779:INFO:final number of intervals: 0\n",
      "2023-11-04 11:32:09,780:INFO:final number of pairs: 0\n"
     ]
    },
    {
     "data": {
      "text/plain": [
       "True"
      ]
     },
     "execution_count": 15,
     "metadata": {},
     "output_type": "execute_result"
    }
   ],
   "source": [
    "result = check_1_dataset_known_folds_som_micro(dataset=dataset,\n",
    "                                                folding=folding,\n",
    "                                                scores=scores,\n",
    "                                                eps=1e-4)\n",
    "result['inconsistency']"
   ]
  },
  {
   "cell_type": "code",
   "execution_count": null,
   "metadata": {},
   "outputs": [],
   "source": []
  }
 ],
 "metadata": {
  "kernelspec": {
   "display_name": "mlscorecheck",
   "language": "python",
   "name": "python3"
  },
  "language_info": {
   "codemirror_mode": {
    "name": "ipython",
    "version": 3
   },
   "file_extension": ".py",
   "mimetype": "text/x-python",
   "name": "python",
   "nbconvert_exporter": "python",
   "pygments_lexer": "ipython3",
   "version": "3.10.0"
  }
 },
 "nbformat": 4,
 "nbformat_minor": 2
}
