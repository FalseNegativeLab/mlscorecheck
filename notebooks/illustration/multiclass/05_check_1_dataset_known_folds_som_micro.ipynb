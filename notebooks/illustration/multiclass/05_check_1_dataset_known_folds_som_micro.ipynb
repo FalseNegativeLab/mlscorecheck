{
 "cells": [
  {
   "cell_type": "code",
   "execution_count": 1,
   "metadata": {},
   "outputs": [],
   "source": [
    "from mlscorecheck.check.multiclass import check_1_dataset_known_folds_som_micro\n",
    "from mlscorecheck.aggregated import generate_dataset_folding_multiclass"
   ]
  },
  {
   "cell_type": "code",
   "execution_count": 2,
   "metadata": {},
   "outputs": [
    {
     "data": {
      "text/plain": [
       "({0: 55, 1: 103},\n",
       " {'folds': [{0: 28, 1: 51}, {0: 27, 1: 52}]},\n",
       " {'acc': 0.4494,\n",
       "  'sens': 0.4494,\n",
       "  'spec': 0.4494,\n",
       "  'f1p': 0.4494,\n",
       "  'beta_positive': 2,\n",
       "  'beta_negative': 2})"
      ]
     },
     "execution_count": 2,
     "metadata": {},
     "output_type": "execute_result"
    }
   ],
   "source": [
    "dataset, folding, scores = generate_dataset_folding_multiclass(random_state=None,\n",
    "                                                                average='micro',\n",
    "                                                                aggregation='som',\n",
    "                                                                rounding_decimals=4,\n",
    "                                                                subset=['acc', 'sens', 'spec', 'f1p'])\n",
    "dataset, folding, scores"
   ]
  },
  {
   "cell_type": "code",
   "execution_count": 3,
   "metadata": {},
   "outputs": [],
   "source": [
    "dataset = {0: 86, 1: 96, 2: 59, 3: 105}\n",
    "folding = {'folds': [{0: 43, 1: 48, 2: 30, 3: 52}, {0: 43, 1: 48, 2: 29, 3: 53}]}\n",
    "scores =  {'acc': 0.6272, 'sens': 0.2543, 'spec': 0.7514, 'f1p': 0.2543}"
   ]
  },
  {
   "cell_type": "code",
   "execution_count": 4,
   "metadata": {},
   "outputs": [
    {
     "name": "stderr",
     "output_type": "stream",
     "text": [
      "2023-11-03 07:56:08,379:INFO:checking the scores {'acc': 0.6272, 'sens': 0.2543, 'spec': 0.7514, 'f1p': 0.2543}\n",
      "2023-11-03 07:56:08,382:INFO:evaluating the tp and tn solution for acc and sens\n",
      "2023-11-03 07:56:08,383:INFO:intervals before: (0, 346), (0, 1038)\n",
      "2023-11-03 07:56:08,385:INFO:the tp solutions: (87.95250800000001, 88.023092)\n",
      "2023-11-03 07:56:08,386:INFO:the tn solutions: (779.8805399999999, 780.23346)\n",
      "2023-11-03 07:56:08,387:INFO:intervals after: [(88, 88)], [(780, 780)]\n",
      "2023-11-03 07:56:08,388:INFO:evaluating the tp and tn solution for acc and spec\n",
      "2023-11-03 07:56:08,389:INFO:intervals before: [(88, 88)], [(780, 780)]\n",
      "2023-11-03 07:56:08,390:INFO:the tp solutions: (87.8445559999999, 88.33864400000004)\n",
      "2023-11-03 07:56:08,391:INFO:the tn solutions: (779.847324, 780.059076)\n",
      "2023-11-03 07:56:08,392:INFO:intervals after: [(88, 88)], [(780, 780)]\n",
      "2023-11-03 07:56:08,393:INFO:evaluating the tp and tn solution for acc and f1p\n",
      "2023-11-03 07:56:08,394:INFO:intervals before: [(88, 88)], [(780, 780)]\n",
      "2023-11-03 07:56:08,395:INFO:the tp solutions: (87.90462837746212, 88.04741174998863)\n",
      "2023-11-03 07:56:08,396:INFO:the tn solutions: (779.594751267001, 780.5429578357666)\n",
      "2023-11-03 07:56:08,398:INFO:intervals after: [(88, 88)], [(780, 780)]\n",
      "2023-11-03 07:56:08,399:INFO:evaluating the tp and tn solution for sens and spec\n",
      "2023-11-03 07:56:08,400:INFO:intervals before: [(88, 88)], [(780, 780)]\n",
      "2023-11-03 07:56:08,401:INFO:the tp solutions: (87.95250800000001, 88.023092)\n",
      "2023-11-03 07:56:08,402:INFO:the tn solutions: (779.847324, 780.059076)\n",
      "2023-11-03 07:56:08,402:INFO:intervals after: [(88, 88)], [(780, 780)]\n",
      "2023-11-03 07:56:08,403:INFO:evaluating the tp and tn solution for sens and f1p\n",
      "2023-11-03 07:56:08,404:INFO:intervals before: [(88, 88)], [(780, 780)]\n",
      "2023-11-03 07:56:08,405:INFO:the tp solutions: (87.95250800000001, 88.023092)\n",
      "2023-11-03 07:56:08,405:INFO:the tn solutions: (778.7721780040409, 781.2044258844836)\n",
      "2023-11-03 07:56:08,406:INFO:intervals after: [(88, 88)], [(780, 780)]\n",
      "2023-11-03 07:56:08,407:INFO:evaluating the tp and tn solution for spec and f1p\n",
      "2023-11-03 07:56:08,409:INFO:intervals before: [(88, 88)], [(780, 780)]\n",
      "2023-11-03 07:56:08,410:INFO:the tp solutions: (87.93699113585161, 88.04870828206266)\n",
      "2023-11-03 07:56:08,411:INFO:the tn solutions: (779.847324, 780.059076)\n",
      "2023-11-03 07:56:08,412:INFO:intervals after: [(88, 88)], [(780, 780)]\n",
      "2023-11-03 07:56:08,415:INFO:testing acc, feasible tptn pairs: 1\n",
      "2023-11-03 07:56:08,416:INFO:testing sens, feasible tptn pairs: 1\n",
      "2023-11-03 07:56:08,417:INFO:testing spec, feasible tptn pairs: 1\n",
      "2023-11-03 07:56:08,419:INFO:testing f1p, feasible tptn pairs: 1\n",
      "2023-11-03 07:56:08,419:INFO:constructing final tp, tn pair set\n",
      "2023-11-03 07:56:08,420:INFO:final number of intervals: 1\n",
      "2023-11-03 07:56:08,421:INFO:final number of pairs: 1\n"
     ]
    },
    {
     "name": "stdout",
     "output_type": "stream",
     "text": [
      "[{0: 43, 1: 48, 2: 30, 3: 52}, {0: 43, 1: 48, 2: 29, 3: 53}]\n"
     ]
    },
    {
     "data": {
      "text/plain": [
       "False"
      ]
     },
     "execution_count": 4,
     "metadata": {},
     "output_type": "execute_result"
    }
   ],
   "source": [
    "result = check_1_dataset_known_folds_som_micro(dataset=dataset,\n",
    "                                                folding=folding,\n",
    "                                                scores=scores,\n",
    "                                                eps=1e-4)\n",
    "result['inconsistency']"
   ]
  },
  {
   "cell_type": "code",
   "execution_count": 5,
   "metadata": {},
   "outputs": [],
   "source": [
    "scores['acc'] = (1.0 + scores['spec']) / 2.0"
   ]
  },
  {
   "cell_type": "code",
   "execution_count": 6,
   "metadata": {},
   "outputs": [
    {
     "data": {
      "text/plain": [
       "0.8756999999999999"
      ]
     },
     "execution_count": 6,
     "metadata": {},
     "output_type": "execute_result"
    }
   ],
   "source": [
    "scores['acc']"
   ]
  },
  {
   "cell_type": "code",
   "execution_count": 7,
   "metadata": {},
   "outputs": [],
   "source": [
    "scores['acc'] = 0.8756"
   ]
  },
  {
   "cell_type": "code",
   "execution_count": 8,
   "metadata": {},
   "outputs": [
    {
     "name": "stderr",
     "output_type": "stream",
     "text": [
      "2023-11-03 07:56:08,470:INFO:checking the scores {'acc': 0.8756, 'sens': 0.2543, 'spec': 0.7514, 'f1p': 0.2543}\n",
      "2023-11-03 07:56:08,471:INFO:evaluating the tp and tn solution for acc and sens\n",
      "2023-11-03 07:56:08,473:INFO:intervals before: (0, 346), (0, 1038)\n",
      "2023-11-03 07:56:08,474:INFO:the tp solutions: (87.95250800000001, 88.023092)\n",
      "2023-11-03 07:56:08,475:INFO:the tn solutions: (1123.66614, 1124.01906)\n",
      "2023-11-03 07:56:08,476:INFO:intervals after: [(88, 88)], []\n",
      "2023-11-03 07:56:08,477:INFO:evaluating the tp and tn solution for acc and spec\n",
      "2023-11-03 07:56:08,478:INFO:intervals before: [(88, 88)], []\n",
      "2023-11-03 07:56:08,479:INFO:the tp solutions: (431.63015599999994, 432.1242440000002)\n",
      "2023-11-03 07:56:08,480:INFO:the tn solutions: (779.847324, 780.059076)\n",
      "2023-11-03 07:56:08,484:INFO:intervals after: [], []\n",
      "2023-11-03 07:56:08,485:INFO:evaluating the tp and tn solution for acc and f1p\n",
      "2023-11-03 07:56:08,486:INFO:intervals before: [], []\n",
      "2023-11-03 07:56:08,487:INFO:the tp solutions: (29.316952326177706, 29.396674884278127)\n",
      "2023-11-03 07:56:08,488:INFO:the tn solutions: (1181.921009301171, 1183.026325582998)\n",
      "2023-11-03 07:56:08,489:INFO:intervals after: [], []\n",
      "2023-11-03 07:56:08,490:INFO:evaluating the tp and tn solution for sens and spec\n",
      "2023-11-03 07:56:08,491:INFO:intervals before: [], []\n",
      "2023-11-03 07:56:08,492:INFO:the tp solutions: (87.95250800000001, 88.023092)\n",
      "2023-11-03 07:56:08,493:INFO:the tn solutions: (779.847324, 780.059076)\n",
      "2023-11-03 07:56:08,495:INFO:intervals after: [], []\n",
      "2023-11-03 07:56:08,496:INFO:evaluating the tp and tn solution for sens and f1p\n",
      "2023-11-03 07:56:08,497:INFO:intervals before: [], []\n",
      "2023-11-03 07:56:08,498:INFO:the tp solutions: (87.95250800000001, 88.023092)\n",
      "2023-11-03 07:56:08,499:INFO:the tn solutions: (778.7721780040409, 781.2044258844836)\n",
      "2023-11-03 07:56:08,499:INFO:intervals after: [], []\n",
      "2023-11-03 07:56:08,501:INFO:evaluating the tp and tn solution for spec and f1p\n",
      "2023-11-03 07:56:08,502:INFO:intervals before: [], []\n",
      "2023-11-03 07:56:08,503:INFO:the tp solutions: (87.93699113585161, 88.04870828206266)\n",
      "2023-11-03 07:56:08,503:INFO:the tn solutions: (779.847324, 780.059076)\n",
      "2023-11-03 07:56:08,504:INFO:intervals after: [], []\n",
      "2023-11-03 07:56:08,506:INFO:testing acc, feasible tptn pairs: 0\n",
      "2023-11-03 07:56:08,506:INFO:no more feasible tp,tn pairs left\n",
      "2023-11-03 07:56:08,507:INFO:constructing final tp, tn pair set\n",
      "2023-11-03 07:56:08,508:INFO:final number of intervals: 0\n",
      "2023-11-03 07:56:08,509:INFO:final number of pairs: 0\n"
     ]
    },
    {
     "name": "stdout",
     "output_type": "stream",
     "text": [
      "[{0: 43, 1: 48, 2: 30, 3: 52}, {0: 43, 1: 48, 2: 29, 3: 53}]\n"
     ]
    },
    {
     "data": {
      "text/plain": [
       "True"
      ]
     },
     "execution_count": 8,
     "metadata": {},
     "output_type": "execute_result"
    }
   ],
   "source": [
    "result = check_1_dataset_known_folds_som_micro(dataset=dataset,\n",
    "                                                folding=folding,\n",
    "                                                scores=scores,\n",
    "                                                eps=1e-4)\n",
    "result['inconsistency']"
   ]
  },
  {
   "cell_type": "code",
   "execution_count": null,
   "metadata": {},
   "outputs": [],
   "source": []
  }
 ],
 "metadata": {
  "kernelspec": {
   "display_name": "mlscorecheck",
   "language": "python",
   "name": "python3"
  },
  "language_info": {
   "codemirror_mode": {
    "name": "ipython",
    "version": 3
   },
   "file_extension": ".py",
   "mimetype": "text/x-python",
   "name": "python",
   "nbconvert_exporter": "python",
   "pygments_lexer": "ipython3",
   "version": "3.10.0"
  }
 },
 "nbformat": 4,
 "nbformat_minor": 2
}
