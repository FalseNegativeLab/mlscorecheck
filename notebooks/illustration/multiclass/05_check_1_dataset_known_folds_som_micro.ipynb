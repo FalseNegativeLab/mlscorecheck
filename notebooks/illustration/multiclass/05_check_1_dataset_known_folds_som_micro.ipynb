{
 "cells": [
  {
   "cell_type": "code",
   "execution_count": 9,
   "metadata": {},
   "outputs": [],
   "source": [
    "from mlscorecheck.check.multiclass import check_1_dataset_known_folds_som_micro\n",
    "from mlscorecheck.aggregated import generate_dataset_folding_multiclass"
   ]
  },
  {
   "cell_type": "code",
   "execution_count": 10,
   "metadata": {},
   "outputs": [
    {
     "data": {
      "text/plain": [
       "({0: 165, 1: 130, 2: 77, 3: 66, 4: 116},\n",
       " {'n_folds': 4, 'n_repeats': 2, 'strategy': 'stratified_sklearn'},\n",
       " {'acc': 0.6726,\n",
       "  'sens': 0.1814,\n",
       "  'spec': 0.7954,\n",
       "  'f1p': 0.1814,\n",
       "  'beta_positive': 2,\n",
       "  'beta_negative': 2})"
      ]
     },
     "execution_count": 10,
     "metadata": {},
     "output_type": "execute_result"
    }
   ],
   "source": [
    "dataset, folding, scores = generate_dataset_folding_multiclass(random_state=None,\n",
    "                                                                average='micro',\n",
    "                                                                aggregation='som',\n",
    "                                                                rounding_decimals=4,\n",
    "                                                                subset=['acc', 'sens', 'spec', 'f1p'])\n",
    "dataset, folding, scores"
   ]
  },
  {
   "cell_type": "code",
   "execution_count": 11,
   "metadata": {},
   "outputs": [],
   "source": [
    "dataset = {0: 86, 1: 96, 2: 59, 3: 105}\n",
    "folding = {'folds': [{0: 43, 1: 48, 2: 30, 3: 52}, {0: 43, 1: 48, 2: 29, 3: 53}]}\n",
    "scores =  {'acc': 0.6272, 'sens': 0.2543, 'spec': 0.7514, 'f1p': 0.2543}"
   ]
  },
  {
   "cell_type": "code",
   "execution_count": 12,
   "metadata": {},
   "outputs": [
    {
     "name": "stderr",
     "output_type": "stream",
     "text": [
      "2023-11-03 20:23:20,198:INFO:checking the scores {'acc': 0.6272, 'sens': 0.2543, 'spec': 0.7514, 'f1p': 0.2543}\n",
      "2023-11-03 20:23:20,200:INFO:evaluating the tp and tn solution for acc and sens\n",
      "2023-11-03 20:23:20,202:INFO:intervals before: (0, 346), (0, 1038)\n",
      "2023-11-03 20:23:20,202:INFO:the tp solutions: (87.95250800000001, 88.023092)\n",
      "2023-11-03 20:23:20,203:INFO:the tn solutions: (779.8805399999999, 780.23346)\n",
      "2023-11-03 20:23:20,205:INFO:intervals after: [(88, 88)], [(780, 780)]\n",
      "2023-11-03 20:23:20,205:INFO:evaluating the tp and tn solution for acc and spec\n",
      "2023-11-03 20:23:20,206:INFO:intervals before: [(88, 88)], [(780, 780)]\n",
      "2023-11-03 20:23:20,207:INFO:the tp solutions: (87.8445559999999, 88.33864400000004)\n",
      "2023-11-03 20:23:20,208:INFO:the tn solutions: (779.847324, 780.059076)\n",
      "2023-11-03 20:23:20,209:INFO:intervals after: [(88, 88)], [(780, 780)]\n",
      "2023-11-03 20:23:20,210:INFO:evaluating the tp and tn solution for acc and f1p\n",
      "2023-11-03 20:23:20,211:INFO:intervals before: [(88, 88)], [(780, 780)]\n",
      "2023-11-03 20:23:20,211:INFO:the tp solutions: (87.90462837746212, 88.04741174998863)\n",
      "2023-11-03 20:23:20,213:INFO:the tn solutions: (779.594751267001, 780.5429578357666)\n",
      "2023-11-03 20:23:20,213:INFO:intervals after: [(88, 88)], [(780, 780)]\n",
      "2023-11-03 20:23:20,214:INFO:evaluating the tp and tn solution for sens and spec\n",
      "2023-11-03 20:23:20,215:INFO:intervals before: [(88, 88)], [(780, 780)]\n",
      "2023-11-03 20:23:20,217:INFO:the tp solutions: (87.95250800000001, 88.023092)\n",
      "2023-11-03 20:23:20,218:INFO:the tn solutions: (779.847324, 780.059076)\n",
      "2023-11-03 20:23:20,219:INFO:intervals after: [(88, 88)], [(780, 780)]\n",
      "2023-11-03 20:23:20,220:INFO:evaluating the tp and tn solution for sens and f1p\n",
      "2023-11-03 20:23:20,221:INFO:intervals before: [(88, 88)], [(780, 780)]\n",
      "2023-11-03 20:23:20,222:INFO:the tp solutions: (87.95250800000001, 88.023092)\n",
      "2023-11-03 20:23:20,223:INFO:the tn solutions: (778.7721780040409, 781.2044258844836)\n",
      "2023-11-03 20:23:20,224:INFO:intervals after: [(88, 88)], [(780, 780)]\n",
      "2023-11-03 20:23:20,224:INFO:evaluating the tp and tn solution for spec and f1p\n",
      "2023-11-03 20:23:20,225:INFO:intervals before: [(88, 88)], [(780, 780)]\n",
      "2023-11-03 20:23:20,226:INFO:the tp solutions: (87.93699113585161, 88.04870828206266)\n",
      "2023-11-03 20:23:20,226:INFO:the tn solutions: (779.847324, 780.059076)\n",
      "2023-11-03 20:23:20,227:INFO:intervals after: [(88, 88)], [(780, 780)]\n",
      "2023-11-03 20:23:20,227:INFO:testing acc, feasible tptn pairs: 1\n",
      "2023-11-03 20:23:20,230:INFO:testing sens, feasible tptn pairs: 1\n",
      "2023-11-03 20:23:20,230:INFO:testing spec, feasible tptn pairs: 1\n",
      "2023-11-03 20:23:20,231:INFO:testing f1p, feasible tptn pairs: 1\n",
      "2023-11-03 20:23:20,232:INFO:constructing final tp, tn pair set\n",
      "2023-11-03 20:23:20,232:INFO:final number of intervals: 1\n",
      "2023-11-03 20:23:20,233:INFO:final number of pairs: 1\n"
     ]
    },
    {
     "data": {
      "text/plain": [
       "False"
      ]
     },
     "execution_count": 12,
     "metadata": {},
     "output_type": "execute_result"
    }
   ],
   "source": [
    "result = check_1_dataset_known_folds_som_micro(dataset=dataset,\n",
    "                                                folding=folding,\n",
    "                                                scores=scores,\n",
    "                                                eps=1e-4)\n",
    "result['inconsistency']"
   ]
  },
  {
   "cell_type": "code",
   "execution_count": 13,
   "metadata": {},
   "outputs": [],
   "source": [
    "#scores['acc'] = (1.0 + scores['spec']) / 2.0"
   ]
  },
  {
   "cell_type": "code",
   "execution_count": 14,
   "metadata": {},
   "outputs": [],
   "source": [
    "#scores['acc']"
   ]
  },
  {
   "cell_type": "code",
   "execution_count": 15,
   "metadata": {},
   "outputs": [],
   "source": [
    "#scores['acc'] = 0.8756\n",
    "scores['sens'] = 0.2553"
   ]
  },
  {
   "cell_type": "code",
   "execution_count": 16,
   "metadata": {},
   "outputs": [
    {
     "name": "stderr",
     "output_type": "stream",
     "text": [
      "2023-11-03 20:23:20,274:INFO:checking the scores {'acc': 0.6272, 'sens': 0.2553, 'spec': 0.7514, 'f1p': 0.2543}\n",
      "2023-11-03 20:23:20,276:INFO:evaluating the tp and tn solution for acc and sens\n",
      "2023-11-03 20:23:20,277:INFO:intervals before: (0, 346), (0, 1038)\n",
      "2023-11-03 20:23:20,277:INFO:the tp solutions: (88.29850800000001, 88.36909200000001)\n",
      "2023-11-03 20:23:20,278:INFO:the tn solutions: (779.5345399999999, 779.88746)\n",
      "2023-11-03 20:23:20,279:INFO:intervals after: [(1, 0)], [(1, 0)]\n",
      "2023-11-03 20:23:20,279:INFO:evaluating the tp and tn solution for acc and spec\n",
      "2023-11-03 20:23:20,280:INFO:intervals before: [(1, 0)], [(1, 0)]\n",
      "2023-11-03 20:23:20,280:INFO:the tp solutions: (87.8445559999999, 88.33864400000004)\n",
      "2023-11-03 20:23:20,281:INFO:the tn solutions: (779.847324, 780.059076)\n",
      "2023-11-03 20:23:20,282:INFO:intervals after: [], []\n",
      "2023-11-03 20:23:20,282:INFO:evaluating the tp and tn solution for acc and f1p\n",
      "2023-11-03 20:23:20,283:INFO:intervals before: [], []\n",
      "2023-11-03 20:23:20,284:INFO:the tp solutions: (87.90462837746212, 88.04741174998863)\n",
      "2023-11-03 20:23:20,285:INFO:the tn solutions: (779.594751267001, 780.5429578357666)\n",
      "2023-11-03 20:23:20,286:INFO:intervals after: [], []\n",
      "2023-11-03 20:23:20,286:INFO:evaluating the tp and tn solution for sens and spec\n",
      "2023-11-03 20:23:20,289:INFO:intervals before: [], []\n",
      "2023-11-03 20:23:20,290:INFO:the tp solutions: (88.29850800000001, 88.36909200000001)\n",
      "2023-11-03 20:23:20,290:INFO:the tn solutions: (779.847324, 780.059076)\n",
      "2023-11-03 20:23:20,291:INFO:intervals after: [], []\n",
      "2023-11-03 20:23:20,291:INFO:evaluating the tp and tn solution for sens and f1p\n",
      "2023-11-03 20:23:20,293:INFO:intervals before: [], []\n",
      "2023-11-03 20:23:20,294:INFO:the tp solutions: (88.29850800000001, 88.36909200000001)\n",
      "2023-11-03 20:23:20,294:INFO:the tn solutions: (776.397796151697, 778.8284162069881)\n",
      "2023-11-03 20:23:20,295:INFO:intervals after: [], []\n",
      "2023-11-03 20:23:20,295:INFO:evaluating the tp and tn solution for spec and f1p\n",
      "2023-11-03 20:23:20,296:INFO:intervals before: [], []\n",
      "2023-11-03 20:23:20,297:INFO:the tp solutions: (87.93699113585161, 88.04870828206266)\n",
      "2023-11-03 20:23:20,297:INFO:the tn solutions: (779.847324, 780.059076)\n",
      "2023-11-03 20:23:20,298:INFO:intervals after: [], []\n",
      "2023-11-03 20:23:20,299:INFO:testing acc, feasible tptn pairs: 0\n",
      "2023-11-03 20:23:20,300:INFO:no more feasible tp,tn pairs left\n",
      "2023-11-03 20:23:20,301:INFO:constructing final tp, tn pair set\n",
      "2023-11-03 20:23:20,301:INFO:final number of intervals: 0\n",
      "2023-11-03 20:23:20,302:INFO:final number of pairs: 0\n"
     ]
    },
    {
     "data": {
      "text/plain": [
       "True"
      ]
     },
     "execution_count": 16,
     "metadata": {},
     "output_type": "execute_result"
    }
   ],
   "source": [
    "result = check_1_dataset_known_folds_som_micro(dataset=dataset,\n",
    "                                                folding=folding,\n",
    "                                                scores=scores,\n",
    "                                                eps=1e-4)\n",
    "result['inconsistency']"
   ]
  },
  {
   "cell_type": "code",
   "execution_count": null,
   "metadata": {},
   "outputs": [],
   "source": []
  }
 ],
 "metadata": {
  "kernelspec": {
   "display_name": "mlscorecheck",
   "language": "python",
   "name": "python3"
  },
  "language_info": {
   "codemirror_mode": {
    "name": "ipython",
    "version": 3
   },
   "file_extension": ".py",
   "mimetype": "text/x-python",
   "name": "python",
   "nbconvert_exporter": "python",
   "pygments_lexer": "ipython3",
   "version": "3.10.0"
  }
 },
 "nbformat": 4,
 "nbformat_minor": 2
}
