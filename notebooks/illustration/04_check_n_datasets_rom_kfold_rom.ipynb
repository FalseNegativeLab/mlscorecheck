{
 "cells": [
  {
   "cell_type": "code",
   "execution_count": 15,
   "metadata": {},
   "outputs": [],
   "source": [
    "from mlscorecheck.aggregated import generate_experiment\n",
    "from mlscorecheck.check import check_n_datasets_rom_kfold_rom_scores"
   ]
  },
  {
   "cell_type": "code",
   "execution_count": 16,
   "metadata": {},
   "outputs": [],
   "source": [
    "evaluation0 = {'dataset': {'p': 389, 'n': 630},\n",
    "                'folding': {'n_folds': 6, 'n_repeats': 3, \n",
    "                            'strategy': 'stratified_sklearn'}}\n",
    "evaluation1 = {'dataset': {'dataset_name': 'common_datasets.saheart'},\n",
    "                'folding': {'n_folds': 2, 'n_repeats': 5, \n",
    "                            'strategy': 'stratified_sklearn'}}\n",
    "evaluations = [evaluation0, evaluation1]\n",
    "scores = {'acc': 0.467, 'sens': 0.432, 'spec': 0.488, 'f1p': 0.373}"
   ]
  },
  {
   "cell_type": "code",
   "execution_count": 17,
   "metadata": {},
   "outputs": [
    {
     "name": "stderr",
     "output_type": "stream",
     "text": [
      "2023-09-16 12:19:27,902:INFO:testing acc, feasible tptn pairs: 1968\n",
      "2023-09-16 12:19:27,988:INFO:testing sens, feasible tptn pairs: 1968\n",
      "2023-09-16 12:19:27,991:INFO:testing spec, feasible tptn pairs: 4\n",
      "2023-09-16 12:19:27,993:INFO:testing f1p, feasible tptn pairs: 4\n",
      "2023-09-16 12:19:27,996:INFO:constructing final tp, tn pair set\n",
      "2023-09-16 12:19:27,998:INFO:final number of intervals: 4\n",
      "2023-09-16 12:19:28,000:INFO:final number of pairs: 25\n"
     ]
    },
    {
     "data": {
      "text/plain": [
       "False"
      ]
     },
     "execution_count": 17,
     "metadata": {},
     "output_type": "execute_result"
    }
   ],
   "source": [
    "result = check_n_datasets_rom_kfold_rom_scores(scores=scores,\n",
    "                                                evaluations=evaluations,\n",
    "                                                eps=1e-3)\n",
    "result['inconsistency']"
   ]
  },
  {
   "cell_type": "code",
   "execution_count": 18,
   "metadata": {},
   "outputs": [],
   "source": [
    "evaluation0 = {'dataset': {'p': 412, 'n': 180},\n",
    "                'folding': {'folds': [{'p': 98, 'n': 8},\n",
    "                                        {'p': 68, 'n': 25},\n",
    "                                        {'p': 92, 'n': 19},\n",
    "                                        {'p': 78, 'n': 61},\n",
    "                                        {'p': 76, 'n': 67}]}}\n",
    "evaluation1 = {'dataset': {'dataset_name': 'common_datasets.zoo-3'},\n",
    "                'folding': {'n_folds': 3, 'n_repeats': 4, \n",
    "                            'strategy': 'stratified_sklearn'}}\n",
    "evaluation2 = {'dataset': {'dataset_name': 'common_datasets.winequality-red-3_vs_5'},\n",
    "                'folding': {'n_folds': 5, 'n_repeats': 5, \n",
    "                            'strategy': 'stratified_sklearn'}}\n",
    "evaluations = [evaluation0, evaluation1, evaluation2]\n",
    "scores = {'acc': 0.4532, 'sens': 0.6639, 'npv': 0.9129, 'f1p': 0.2090}"
   ]
  },
  {
   "cell_type": "code",
   "execution_count": 19,
   "metadata": {},
   "outputs": [
    {
     "name": "stderr",
     "output_type": "stream",
     "text": [
      "2023-09-16 12:19:28,044:INFO:testing acc, feasible tptn pairs: 483\n",
      "2023-09-16 12:19:28,064:INFO:testing sens, feasible tptn pairs: 483\n",
      "2023-09-16 12:19:28,066:INFO:testing npv, feasible tptn pairs: 1\n",
      "2023-09-16 12:19:28,068:INFO:testing f1p, feasible tptn pairs: 1\n",
      "2023-09-16 12:19:28,069:INFO:no more feasible tp,tn pairs left\n",
      "2023-09-16 12:19:28,070:INFO:constructing final tp, tn pair set\n",
      "2023-09-16 12:19:28,071:INFO:final number of intervals: 0\n",
      "2023-09-16 12:19:28,072:INFO:final number of pairs: 0\n"
     ]
    },
    {
     "data": {
      "text/plain": [
       "True"
      ]
     },
     "execution_count": 19,
     "metadata": {},
     "output_type": "execute_result"
    }
   ],
   "source": [
    "result = check_n_datasets_rom_kfold_rom_scores(scores=scores,\n",
    "                                        evaluations=evaluations,\n",
    "                                        eps=1e-4/2)\n",
    "result['inconsistency']"
   ]
  },
  {
   "cell_type": "code",
   "execution_count": null,
   "metadata": {},
   "outputs": [],
   "source": []
  }
 ],
 "metadata": {
  "kernelspec": {
   "display_name": "mlscorecheck",
   "language": "python",
   "name": "python3"
  },
  "language_info": {
   "codemirror_mode": {
    "name": "ipython",
    "version": 3
   },
   "file_extension": ".py",
   "mimetype": "text/x-python",
   "name": "python",
   "nbconvert_exporter": "python",
   "pygments_lexer": "ipython3",
   "version": "3.10.0"
  },
  "orig_nbformat": 4
 },
 "nbformat": 4,
 "nbformat_minor": 2
}
