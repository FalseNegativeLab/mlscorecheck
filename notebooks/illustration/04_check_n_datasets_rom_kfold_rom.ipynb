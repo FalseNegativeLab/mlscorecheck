{
 "cells": [
  {
   "cell_type": "code",
   "execution_count": 1,
   "metadata": {},
   "outputs": [],
   "source": [
    "from mlscorecheck.aggregated import generate_experiment, Experiment\n",
    "from mlscorecheck.check import check_n_datasets_som_kfold_som_scores"
   ]
  },
  {
   "cell_type": "code",
   "execution_count": 2,
   "metadata": {},
   "outputs": [
    {
     "name": "stderr",
     "output_type": "stream",
     "text": [
      "2023-10-17 06:10:55,566:INFO:testing acc, feasible tptn pairs: 1099\n",
      "2023-10-17 06:10:55,679:INFO:testing sens, feasible tptn pairs: 1097\n",
      "2023-10-17 06:10:55,682:INFO:testing spec, feasible tptn pairs: 2\n",
      "2023-10-17 06:10:55,684:INFO:testing f1p, feasible tptn pairs: 2\n",
      "2023-10-17 06:10:55,692:INFO:testing fm, feasible tptn pairs: 2\n",
      "2023-10-17 06:10:55,695:INFO:constructing final tp, tn pair set\n",
      "2023-10-17 06:10:55,698:INFO:final number of intervals: 2\n"
     ]
    },
    {
     "name": "stderr",
     "output_type": "stream",
     "text": [
      "2023-10-17 06:10:55,700:INFO:final number of pairs: 4\n"
     ]
    },
    {
     "data": {
      "text/plain": [
       "False"
      ]
     },
     "execution_count": 2,
     "metadata": {},
     "output_type": "execute_result"
    }
   ],
   "source": [
    "evaluation0 = {'dataset': {'p': 389, 'n': 630},\n",
    "                'folding': {'n_folds': 5, 'n_repeats': 2, 'strategy': 'stratified_sklearn'}}\n",
    "evaluation1 = {'dataset': {'dataset_name': 'common_datasets.saheart'},\n",
    "                'folding': {'n_folds': 5, 'n_repeats': 2, 'strategy': 'stratified_sklearn'}}\n",
    "evaluations = [evaluation0, evaluation1]\n",
    "scores = {'acc': 0.631, 'sens': 0.341, 'spec': 0.802, 'f1p': 0.406, 'fm': 0.414}\n",
    "\n",
    "result = check_n_datasets_som_kfold_som_scores(scores=scores,\n",
    "                                                evaluations=evaluations,\n",
    "                                                eps=1e-3)\n",
    "result['inconsistency']"
   ]
  },
  {
   "cell_type": "code",
   "execution_count": 3,
   "metadata": {},
   "outputs": [
    {
     "name": "stderr",
     "output_type": "stream",
     "text": [
      "2023-10-17 06:10:55,800:INFO:testing acc, feasible tptn pairs: 1099\n",
      "2023-10-17 06:10:55,898:INFO:no more feasible tp,tn pairs left\n",
      "2023-10-17 06:10:55,900:INFO:constructing final tp, tn pair set\n",
      "2023-10-17 06:10:55,903:INFO:final number of intervals: 0\n",
      "2023-10-17 06:10:55,907:INFO:final number of pairs: 0\n"
     ]
    },
    {
     "data": {
      "text/plain": [
       "True"
      ]
     },
     "execution_count": 3,
     "metadata": {},
     "output_type": "execute_result"
    }
   ],
   "source": [
    "evaluation0 = {'dataset': {'p': 389, 'n': 630},\n",
    "                'folding': {'n_folds': 5, 'n_repeats': 2, 'strategy': 'stratified_sklearn'}}\n",
    "evaluation1 = {'dataset': {'dataset_name': 'common_datasets.saheart'},\n",
    "                'folding': {'n_folds': 5, 'n_repeats': 2, 'strategy': 'stratified_sklearn'}}\n",
    "evaluations = [evaluation0, evaluation1]\n",
    "scores = {'acc': 0.731, 'sens': 0.341, 'spec': 0.802, 'f1p': 0.406, 'fm': 0.414}\n",
    "\n",
    "result = check_n_datasets_som_kfold_som_scores(scores=scores,\n",
    "                                        evaluations=evaluations,\n",
    "                                        eps=1e-4/2)\n",
    "result['inconsistency']"
   ]
  }
 ],
 "metadata": {
  "kernelspec": {
   "display_name": "mlscorecheck",
   "language": "python",
   "name": "python3"
  },
  "language_info": {
   "codemirror_mode": {
    "name": "ipython",
    "version": 3
   },
   "file_extension": ".py",
   "mimetype": "text/x-python",
   "name": "python",
   "nbconvert_exporter": "python",
   "pygments_lexer": "ipython3",
   "version": "3.10.0"
  },
  "orig_nbformat": 4
 },
 "nbformat": 4,
 "nbformat_minor": 2
}
