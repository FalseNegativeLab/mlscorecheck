{
 "cells": [
  {
   "cell_type": "markdown",
   "metadata": {},
   "source": [
    "# Testing the consistency of performance scored reported for the DRIVE retinal vessel segmentation dataset"
   ]
  },
  {
   "cell_type": "code",
   "execution_count": 4,
   "metadata": {},
   "outputs": [],
   "source": [
    "from mlscorecheck.bundles.retina import (check_drive_vessel_image,\n",
    "                                        check_drive_vessel_aggregated)"
   ]
  },
  {
   "cell_type": "markdown",
   "metadata": {},
   "source": [
    "## Aggregated scores"
   ]
  },
  {
   "cell_type": "markdown",
   "metadata": {},
   "source": [
    "First we test the aggregated scores published in\n",
    "G. Kovacs et al, 2016: \"A self-calibrating technique for the segmentation of retinal vessels by\n",
    "template matching and contour reconstruction\", Medical Image Analysis 29(4), 24-46\n",
    "doi:10.1016/j.media.2015.12.003.\n"
   ]
  },
  {
   "cell_type": "code",
   "execution_count": 5,
   "metadata": {},
   "outputs": [],
   "source": [
    "scores = {'acc': 0.9494, 'sens': 0.7450, 'spec': 0.9793}\n",
    "\n",
    "# the numerical uncertainty (assuming ceiling/flooring)\n",
    "k = 4"
   ]
  },
  {
   "cell_type": "code",
   "execution_count": 6,
   "metadata": {},
   "outputs": [
    {
     "name": "stderr",
     "output_type": "stream",
     "text": [
      "2023-10-25 06:02:37,347:INFO:checking the scores {'acc': 0.9494, 'sens': 0.745, 'spec': 0.9793}\n",
      "2023-10-25 06:02:37,348:INFO:evaluating the tp and tn solution for acc and sens\n",
      "2023-10-25 06:02:37,350:INFO:intervals before: (0, 577649), (0, 3960494)\n",
      "2023-10-25 06:02:37,351:INFO:the tp solutions: (430289.58480199997, 430407.42519800004)\n",
      "2023-10-25 06:02:37,352:INFO:the tn solutions: (3877642.6484160004, 3878686.2699840004)\n",
      "2023-10-25 06:02:37,353:INFO:intervals after: [(430290, 430407)], [(3877643, 3878686)]\n",
      "2023-10-25 06:02:37,354:INFO:evaluating the tp and tn solution for acc and spec\n",
      "2023-10-25 06:02:37,355:INFO:intervals before: [(430290, 430407)], [(3877643, 3878686)]\n",
      "2023-10-25 06:02:37,356:INFO:the tp solutions: (429134.3290260006, 430868.0509740007)\n",
      "2023-10-25 06:02:37,357:INFO:the tn solutions: (3878107.8038119995, 3878915.744588)\n",
      "2023-10-25 06:02:37,358:INFO:intervals after: [(430290, 430407)], [(3878108, 3878686)]\n",
      "2023-10-25 06:02:37,358:INFO:evaluating the tp and tn solution for sens and spec\n",
      "2023-10-25 06:02:37,360:INFO:intervals before: [(430290, 430407)], [(3878108, 3878686)]\n",
      "2023-10-25 06:02:37,360:INFO:the tp solutions: (430289.58480199997, 430407.42519800004)\n",
      "2023-10-25 06:02:37,363:INFO:the tn solutions: (3878107.8038119995, 3878915.744588)\n",
      "2023-10-25 06:02:37,365:INFO:intervals after: [(430290, 430407)], [(3878108, 3878686)]\n",
      "2023-10-25 06:02:37,369:INFO:testing acc, feasible tptn pairs: 118\n",
      "2023-10-25 06:02:37,378:INFO:testing sens, feasible tptn pairs: 118\n",
      "2023-10-25 06:02:37,379:INFO:testing spec, feasible tptn pairs: 116\n",
      "2023-10-25 06:02:37,384:INFO:constructing final tp, tn pair set\n",
      "2023-10-25 06:02:37,385:INFO:final number of intervals: 116\n",
      "2023-10-25 06:02:37,386:INFO:final number of pairs: 59334\n",
      "2023-10-25 06:02:37,408:INFO:checking the scores {'acc': 0.9494, 'sens': 0.745, 'spec': 0.9793}\n",
      "2023-10-25 06:02:37,410:INFO:evaluating the tp and tn solution for acc and sens\n",
      "2023-10-25 06:02:37,411:INFO:intervals before: (0, 577945), (0, 6021255)\n",
      "2023-10-25 06:02:37,412:INFO:the tp solutions: (430510.07460999995, 430627.97539000004)\n",
      "2023-10-25 06:02:37,413:INFO:the tn solutions: (5833979.38621, 5835443.523790001)\n",
      "2023-10-25 06:02:37,416:INFO:intervals after: [(430511, 430627)], [(5833980, 5835443)]\n",
      "2023-10-25 06:02:37,417:INFO:evaluating the tp and tn solution for acc and spec\n",
      "2023-10-25 06:02:37,418:INFO:intervals before: [(430511, 430627)], [(5833980, 5835443)]\n",
      "2023-10-25 06:02:37,419:INFO:the tp solutions: (367378.1720900005, 369952.7449100008)\n",
      "2023-10-25 06:02:37,420:INFO:the tn solutions: (5896000.85349, 5897229.18951)\n",
      "2023-10-25 06:02:37,421:INFO:intervals after: [], []\n",
      "2023-10-25 06:02:37,422:INFO:evaluating the tp and tn solution for sens and spec\n",
      "2023-10-25 06:02:37,423:INFO:intervals before: [], []\n",
      "2023-10-25 06:02:37,425:INFO:the tp solutions: (430510.07460999995, 430627.97539000004)\n",
      "2023-10-25 06:02:37,427:INFO:the tn solutions: (5896000.85349, 5897229.18951)\n",
      "2023-10-25 06:02:37,429:INFO:intervals after: [], []\n",
      "2023-10-25 06:02:37,430:INFO:testing acc, feasible tptn pairs: 0\n",
      "2023-10-25 06:02:37,432:INFO:no more feasible tp,tn pairs left\n",
      "2023-10-25 06:02:37,433:INFO:constructing final tp, tn pair set\n",
      "2023-10-25 06:02:37,434:INFO:final number of intervals: 0\n",
      "2023-10-25 06:02:37,435:INFO:final number of pairs: 0\n"
     ]
    }
   ],
   "source": [
    "results = check_drive_vessel_aggregated(scores=scores,\n",
    "                                        eps=10**(-k),\n",
    "                                        imageset='test',\n",
    "                                        annotator=1,\n",
    "                                        verbosity=0)"
   ]
  },
  {
   "cell_type": "code",
   "execution_count": 7,
   "metadata": {},
   "outputs": [
    {
     "data": {
      "text/plain": [
       "{'inconsistency_fov_mos': False,\n",
       " 'inconsistency_fov_som': False,\n",
       " 'inconsistency_all_mos': True,\n",
       " 'inconsistency_all_som': True}"
      ]
     },
     "execution_count": 7,
     "metadata": {},
     "output_type": "execute_result"
    }
   ],
   "source": [
    "results['inconsistency']"
   ]
  },
  {
   "cell_type": "markdown",
   "metadata": {},
   "source": [
    "As the results show, the scores are inconsistent with the assumption of using all pixels with any aggregation ('Score-of-Means'/'Mean-of-Scores').\n",
    "\n",
    "Next, we test the aggregated scores published in\n",
    "Jebaseeli et al., 2019, \"Retinal Blood Vessel segmentation from diabetic retinopathy images using\n",
    "tandem PCNN model and deep learning based SVM\", Optik 199, 163328, doi:10.1016/j.ijleo.2019.163328."
   ]
  },
  {
   "cell_type": "code",
   "execution_count": 8,
   "metadata": {},
   "outputs": [],
   "source": [
    "scores = {'acc': 0.9898, 'sens': 0.8027, 'spec': 0.9980}\n",
    "\n",
    "# the numerical uncertainty (assuming ceiling/flooring)\n",
    "k = 4"
   ]
  },
  {
   "cell_type": "code",
   "execution_count": 9,
   "metadata": {},
   "outputs": [
    {
     "name": "stderr",
     "output_type": "stream",
     "text": [
      "2023-10-25 06:02:37,511:INFO:checking the scores {'acc': 0.9898, 'sens': 0.8027, 'spec': 0.998}\n",
      "2023-10-25 06:02:37,512:INFO:evaluating the tp and tn solution for acc and sens\n",
      "2023-10-25 06:02:37,514:INFO:intervals before: (0, 577649), (0, 3960494)\n",
      "2023-10-25 06:02:37,515:INFO:the tp solutions: (463619.93210199993, 463737.772498)\n",
      "2023-10-25 06:02:37,516:INFO:the tn solutions: (4027653.278316, 4028696.899884)\n",
      "2023-10-25 06:02:37,517:INFO:intervals after: [(463620, 463737)], []\n",
      "2023-10-25 06:02:37,518:INFO:evaluating the tp and tn solution for acc and spec\n",
      "2023-10-25 06:02:37,520:INFO:intervals before: [(463620, 463737)], []\n",
      "2023-10-25 06:02:37,521:INFO:the tp solutions: (538414.068426, 540147.7903740001)\n",
      "2023-10-25 06:02:37,522:INFO:the tn solutions: (3952169.0416119997, 3952976.982388)\n",
      "2023-10-25 06:02:37,524:INFO:intervals after: [], []\n",
      "2023-10-25 06:02:37,525:INFO:evaluating the tp and tn solution for sens and spec\n",
      "2023-10-25 06:02:37,527:INFO:intervals before: [], []\n",
      "2023-10-25 06:02:37,528:INFO:the tp solutions: (463619.93210199993, 463737.772498)\n",
      "2023-10-25 06:02:37,529:INFO:the tn solutions: (3952169.0416119997, 3952976.982388)\n",
      "2023-10-25 06:02:37,530:INFO:intervals after: [], []\n",
      "2023-10-25 06:02:37,531:INFO:testing acc, feasible tptn pairs: 0\n",
      "2023-10-25 06:02:37,532:INFO:no more feasible tp,tn pairs left\n",
      "2023-10-25 06:02:37,533:INFO:constructing final tp, tn pair set\n",
      "2023-10-25 06:02:37,535:INFO:final number of intervals: 0\n",
      "2023-10-25 06:02:37,536:INFO:final number of pairs: 0\n",
      "2023-10-25 06:02:37,565:INFO:checking the scores {'acc': 0.9898, 'sens': 0.8027, 'spec': 0.998}\n",
      "2023-10-25 06:02:37,568:INFO:evaluating the tp and tn solution for acc and sens\n",
      "2023-10-25 06:02:37,570:INFO:intervals before: (0, 577945), (0, 6021255)\n",
      "2023-10-25 06:02:37,571:INFO:the tp solutions: (463857.50110999995, 463975.40189000004)\n",
      "2023-10-25 06:02:37,572:INFO:the tn solutions: (6067239.63971, 6068703.777290001)\n",
      "2023-10-25 06:02:37,574:INFO:intervals after: [(463858, 463975)], []\n",
      "2023-10-25 06:02:37,575:INFO:evaluating the tp and tn solution for acc and spec\n",
      "2023-10-25 06:02:37,577:INFO:intervals before: [(463858, 463975)], []\n",
      "2023-10-25 06:02:37,578:INFO:the tp solutions: (521388.38358999975, 523962.9564100001)\n",
      "2023-10-25 06:02:37,580:INFO:the tn solutions: (6008598.32199, 6009826.65801)\n",
      "2023-10-25 06:02:37,581:INFO:intervals after: [], []\n",
      "2023-10-25 06:02:37,582:INFO:evaluating the tp and tn solution for sens and spec\n",
      "2023-10-25 06:02:37,583:INFO:intervals before: [], []\n",
      "2023-10-25 06:02:37,586:INFO:the tp solutions: (463857.50110999995, 463975.40189000004)\n",
      "2023-10-25 06:02:37,587:INFO:the tn solutions: (6008598.32199, 6009826.65801)\n",
      "2023-10-25 06:02:37,588:INFO:intervals after: [], []\n",
      "2023-10-25 06:02:37,590:INFO:testing acc, feasible tptn pairs: 0\n",
      "2023-10-25 06:02:37,591:INFO:no more feasible tp,tn pairs left\n",
      "2023-10-25 06:02:37,593:INFO:constructing final tp, tn pair set\n",
      "2023-10-25 06:02:37,600:INFO:final number of intervals: 0\n",
      "2023-10-25 06:02:37,602:INFO:final number of pairs: 0\n"
     ]
    }
   ],
   "source": [
    "results = check_drive_vessel_aggregated(scores=scores,\n",
    "                            eps=10**(-k),\n",
    "                            imageset='test',\n",
    "                            annotator=1,\n",
    "                            verbosity=0)"
   ]
  },
  {
   "cell_type": "code",
   "execution_count": 10,
   "metadata": {},
   "outputs": [
    {
     "data": {
      "text/plain": [
       "{'inconsistency_fov_mos': True,\n",
       " 'inconsistency_fov_som': True,\n",
       " 'inconsistency_all_mos': True,\n",
       " 'inconsistency_all_som': True}"
      ]
     },
     "execution_count": 10,
     "metadata": {},
     "output_type": "execute_result"
    }
   ],
   "source": [
    "results['inconsistency']"
   ]
  },
  {
   "cell_type": "markdown",
   "metadata": {},
   "source": [
    "As the results show, the reported scores are inconsistent with any of the four reasonable assumptions in the field (using the FoV pixels only or using all pixels; using Mean-of-Scores aggregation or 'Score-of-Means' aggregation)."
   ]
  },
  {
   "cell_type": "markdown",
   "metadata": {},
   "source": [
    "## Image level"
   ]
  },
  {
   "cell_type": "markdown",
   "metadata": {},
   "source": [
    "Image level figures from Mo et al., \"Multi-level deep supervised networks for retinal vessel seg-\n",
    "mentation\", Int J Comput Assist Radiol Surg, 12. doi:10.1007/s11548-017-1619-0"
   ]
  },
  {
   "cell_type": "code",
   "execution_count": 11,
   "metadata": {},
   "outputs": [],
   "source": [
    "scores = {'acc': 0.9323, 'sens': 0.5677, 'spec': 0.9944}\n",
    "identifier = '03'\n",
    "k = 4"
   ]
  },
  {
   "cell_type": "code",
   "execution_count": 12,
   "metadata": {},
   "outputs": [
    {
     "name": "stderr",
     "output_type": "stream",
     "text": [
      "2023-10-25 06:02:37,658:INFO:Use this function if the scores originate from the tp and tn statistics calculated on one test set with no aggregation of any kind.\n",
      "2023-10-25 06:02:37,661:INFO:calling the score check with scores {'acc': 0.9323, 'sens': 0.5677, 'spec': 0.9944}, uncertainty 0.0001, p 32886 and n 192841\n",
      "2023-10-25 06:02:37,663:INFO:checking the scores {'acc': 0.9323, 'sens': 0.5677, 'spec': 0.9944}\n",
      "2023-10-25 06:02:37,664:INFO:evaluating the tp and tn solution for acc and sens\n",
      "2023-10-25 06:02:37,666:INFO:intervals before: (0, 32886), (0, 192841)\n",
      "2023-10-25 06:02:37,668:INFO:the tp solutions: (18666.027828, 18672.736572)\n",
      "2023-10-25 06:02:37,669:INFO:the tn solutions: (191749.521374, 191802.27842600003)\n",
      "2023-10-25 06:02:37,671:INFO:intervals after: [(18667, 18672)], [(191750, 191802)]\n",
      "2023-10-25 06:02:37,672:INFO:evaluating the tp and tn solution for acc and spec\n",
      "2023-10-25 06:02:37,674:INFO:intervals before: [(18667, 18672)], [(191750, 191802)]\n",
      "2023-10-25 06:02:37,676:INFO:the tp solutions: (18641.497764, 18726.88563600005)\n",
      "2023-10-25 06:02:37,677:INFO:the tn solutions: (191741.42061799997, 191780.760182)\n",
      "2023-10-25 06:02:37,678:INFO:intervals after: [(18667, 18672)], [(191750, 191780)]\n",
      "2023-10-25 06:02:37,679:INFO:evaluating the tp and tn solution for sens and spec\n",
      "2023-10-25 06:02:37,681:INFO:intervals before: [(18667, 18672)], [(191750, 191780)]\n",
      "2023-10-25 06:02:37,683:INFO:the tp solutions: (18666.027828, 18672.736572)\n",
      "2023-10-25 06:02:37,684:INFO:the tn solutions: (191741.42061799997, 191780.760182)\n",
      "2023-10-25 06:02:37,685:INFO:intervals after: [(18667, 18672)], [(191750, 191780)]\n",
      "2023-10-25 06:02:37,687:INFO:testing acc, feasible tptn pairs: 6\n",
      "2023-10-25 06:02:37,689:INFO:testing sens, feasible tptn pairs: 6\n",
      "2023-10-25 06:02:37,690:INFO:testing spec, feasible tptn pairs: 6\n",
      "2023-10-25 06:02:37,692:INFO:constructing final tp, tn pair set\n",
      "2023-10-25 06:02:37,693:INFO:final number of intervals: 6\n",
      "2023-10-25 06:02:37,694:INFO:final number of pairs: 165\n",
      "2023-10-25 06:02:37,695:INFO:Use this function if the scores originate from the tp and tn statistics calculated on one test set with no aggregation of any kind.\n",
      "2023-10-25 06:02:37,697:INFO:calling the score check with scores {'acc': 0.9323, 'sens': 0.5677, 'spec': 0.9944}, uncertainty 0.0001, p 32893 and n 297067\n",
      "2023-10-25 06:02:37,698:INFO:checking the scores {'acc': 0.9323, 'sens': 0.5677, 'spec': 0.9944}\n",
      "2023-10-25 06:02:37,699:INFO:evaluating the tp and tn solution for acc and sens\n",
      "2023-10-25 06:02:37,700:INFO:intervals before: (0, 32893), (0, 297067)\n",
      "2023-10-25 06:02:37,701:INFO:the tp solutions: (18670.001013999998, 18676.711186)\n",
      "2023-10-25 06:02:37,703:INFO:the tn solutions: (288911.3408939999, 288985.36290600005)\n",
      "2023-10-25 06:02:37,705:INFO:intervals after: [(18671, 18676)], [(288912, 288985)]\n",
      "2023-10-25 06:02:37,706:INFO:evaluating the tp and tn solution for acc and spec\n",
      "2023-10-25 06:02:37,708:INFO:intervals before: [(18671, 18676)], [(288912, 288985)]\n",
      "2023-10-25 06:02:37,709:INFO:the tp solutions: (12154.326445999963, 12282.239954000048)\n",
      "2023-10-25 06:02:37,711:INFO:the tn solutions: (295373.123966, 295433.725634)\n",
      "2023-10-25 06:02:37,712:INFO:intervals after: [], []\n",
      "2023-10-25 06:02:37,713:INFO:evaluating the tp and tn solution for sens and spec\n",
      "2023-10-25 06:02:37,715:INFO:intervals before: [], []\n",
      "2023-10-25 06:02:37,717:INFO:the tp solutions: (18670.001013999998, 18676.711186)\n",
      "2023-10-25 06:02:37,719:INFO:the tn solutions: (295373.123966, 295433.725634)\n",
      "2023-10-25 06:02:37,721:INFO:intervals after: [], []\n",
      "2023-10-25 06:02:37,722:INFO:testing acc, feasible tptn pairs: 0\n",
      "2023-10-25 06:02:37,725:INFO:no more feasible tp,tn pairs left\n",
      "2023-10-25 06:02:37,726:INFO:constructing final tp, tn pair set\n",
      "2023-10-25 06:02:37,727:INFO:final number of intervals: 0\n",
      "2023-10-25 06:02:37,728:INFO:final number of pairs: 0\n"
     ]
    }
   ],
   "source": [
    "results = check_drive_vessel_image(scores=scores,\n",
    "                                    eps=10**(-k),\n",
    "                                    image_identifier=identifier,\n",
    "                                    annotator=1)"
   ]
  },
  {
   "cell_type": "code",
   "execution_count": 13,
   "metadata": {},
   "outputs": [
    {
     "data": {
      "text/plain": [
       "{'inconsistency_fov': False, 'inconsistency_all': True}"
      ]
     },
     "execution_count": 13,
     "metadata": {},
     "output_type": "execute_result"
    }
   ],
   "source": [
    "results['inconsistency']"
   ]
  },
  {
   "cell_type": "markdown",
   "metadata": {},
   "source": [
    "As the results show, the scores are inconsistent with the assumption that all pixels were, used, however, the scores are not inconsistent with the assumption that only the FoV pixels were used for evaluation."
   ]
  },
  {
   "cell_type": "markdown",
   "metadata": {},
   "source": [
    "Testing image level results from Lupascu et al., 2010, \"Fabc: retinal vessel segmentation using\n",
    "adaboost\", Trans. Info. Tech. Biomed 14 (5), 1267—1274, 2052282. doi:10.1109/TITB.2010."
   ]
  },
  {
   "cell_type": "code",
   "execution_count": 14,
   "metadata": {},
   "outputs": [],
   "source": [
    "scores = {'acc': 0.9633, 'sens': 0.7406, 'spec': 0.9849}\n",
    "identifier = '01'\n",
    "k = 4"
   ]
  },
  {
   "cell_type": "code",
   "execution_count": 15,
   "metadata": {},
   "outputs": [
    {
     "name": "stderr",
     "output_type": "stream",
     "text": [
      "2023-10-25 06:02:37,794:INFO:Use this function if the scores originate from the tp and tn statistics calculated on one test set with no aggregation of any kind.\n",
      "2023-10-25 06:02:37,797:INFO:calling the score check with scores {'acc': 0.9633, 'sens': 0.7406, 'spec': 0.9849}, uncertainty 0.0001, p 29412 and n 194965\n",
      "2023-10-25 06:02:37,799:INFO:checking the scores {'acc': 0.9633, 'sens': 0.7406, 'spec': 0.9849}\n",
      "2023-10-25 06:02:37,801:INFO:evaluating the tp and tn solution for acc and sens\n",
      "2023-10-25 06:02:37,802:INFO:intervals before: (0, 29412), (0, 194965)\n",
      "2023-10-25 06:02:37,804:INFO:the tp solutions: (21779.527176, 21785.527224)\n",
      "2023-10-25 06:02:37,805:INFO:the tn solutions: (194333.950422, 194385.72337800002)\n",
      "2023-10-25 06:02:37,807:INFO:intervals after: [(21780, 21785)], [(194334, 194385)]\n",
      "2023-10-25 06:02:37,808:INFO:evaluating the tp and tn solution for acc and spec\n",
      "2023-10-25 06:02:37,811:INFO:intervals before: [(21780, 21785)], [(194334, 194385)]\n",
      "2023-10-25 06:02:37,813:INFO:the tp solutions: (24078.562715999986, 24164.108484000026)\n",
      "2023-10-25 06:02:37,815:INFO:the tn solutions: (192001.14207, 192040.91493)\n",
      "2023-10-25 06:02:37,816:INFO:intervals after: [], []\n",
      "2023-10-25 06:02:37,817:INFO:evaluating the tp and tn solution for sens and spec\n",
      "2023-10-25 06:02:37,819:INFO:intervals before: [], []\n",
      "2023-10-25 06:02:37,821:INFO:the tp solutions: (21779.527176, 21785.527224)\n",
      "2023-10-25 06:02:37,822:INFO:the tn solutions: (192001.14207, 192040.91493)\n",
      "2023-10-25 06:02:37,823:INFO:intervals after: [], []\n",
      "2023-10-25 06:02:37,824:INFO:testing acc, feasible tptn pairs: 0\n",
      "2023-10-25 06:02:37,825:INFO:no more feasible tp,tn pairs left\n",
      "2023-10-25 06:02:37,826:INFO:constructing final tp, tn pair set\n",
      "2023-10-25 06:02:37,828:INFO:final number of intervals: 0\n",
      "2023-10-25 06:02:37,837:INFO:final number of pairs: 0\n",
      "2023-10-25 06:02:37,838:INFO:Use this function if the scores originate from the tp and tn statistics calculated on one test set with no aggregation of any kind.\n",
      "2023-10-25 06:02:37,839:INFO:calling the score check with scores {'acc': 0.9633, 'sens': 0.7406, 'spec': 0.9849}, uncertainty 0.0001, p 29440 and n 300520\n",
      "2023-10-25 06:02:37,841:INFO:checking the scores {'acc': 0.9633, 'sens': 0.7406, 'spec': 0.9849}\n",
      "2023-10-25 06:02:37,844:INFO:evaluating the tp and tn solution for acc and sens\n",
      "2023-10-25 06:02:37,848:INFO:intervals before: (0, 29440), (0, 300520)\n",
      "2023-10-25 06:02:37,850:INFO:the tp solutions: (21800.26112, 21806.266880000003)\n",
      "2023-10-25 06:02:37,852:INFO:the tn solutions: (296010.5452, 296083.86280000006)\n",
      "2023-10-25 06:02:37,853:INFO:intervals after: [(21801, 21806)], [(296011, 296083)]\n",
      "2023-10-25 06:02:37,855:INFO:evaluating the tp and tn solution for acc and spec\n",
      "2023-10-25 06:02:37,856:INFO:intervals before: [(21801, 21806)], [(296011, 296083)]\n",
      "2023-10-25 06:02:37,858:INFO:the tp solutions: (21804.011040000012, 21932.62896000006)\n",
      "2023-10-25 06:02:37,859:INFO:the tn solutions: (295951.49496, 296012.80104)\n",
      "2023-10-25 06:02:37,860:INFO:intervals after: [(21805, 21806)], [(296011, 296012)]\n",
      "2023-10-25 06:02:37,862:INFO:evaluating the tp and tn solution for sens and spec\n",
      "2023-10-25 06:02:37,863:INFO:intervals before: [(21805, 21806)], [(296011, 296012)]\n",
      "2023-10-25 06:02:37,865:INFO:the tp solutions: (21800.26112, 21806.266880000003)\n",
      "2023-10-25 06:02:37,866:INFO:the tn solutions: (295951.49496, 296012.80104)\n",
      "2023-10-25 06:02:37,868:INFO:intervals after: [(21805, 21806)], [(296011, 296012)]\n",
      "2023-10-25 06:02:37,869:INFO:testing acc, feasible tptn pairs: 2\n",
      "2023-10-25 06:02:37,870:INFO:testing sens, feasible tptn pairs: 1\n",
      "2023-10-25 06:02:37,871:INFO:testing spec, feasible tptn pairs: 1\n",
      "2023-10-25 06:02:37,872:INFO:constructing final tp, tn pair set\n",
      "2023-10-25 06:02:37,873:INFO:final number of intervals: 1\n",
      "2023-10-25 06:02:37,874:INFO:final number of pairs: 1\n"
     ]
    }
   ],
   "source": [
    "results = check_drive_vessel_image(scores=scores,\n",
    "                                eps=10**(-k),\n",
    "                                image_identifier=identifier,\n",
    "                                annotator=1)"
   ]
  },
  {
   "cell_type": "code",
   "execution_count": 16,
   "metadata": {},
   "outputs": [
    {
     "data": {
      "text/plain": [
       "{'inconsistency_fov': True, 'inconsistency_all': False}"
      ]
     },
     "execution_count": 16,
     "metadata": {},
     "output_type": "execute_result"
    }
   ],
   "source": [
    "results['inconsistency']"
   ]
  },
  {
   "cell_type": "markdown",
   "metadata": {},
   "source": [
    "As the results show, the scores are inconsistent with the assumption of evaluating the segmentation only in the FoV region, however, the scores are not inconsistent with the assumption of evaluating the method with all pixels."
   ]
  }
 ],
 "metadata": {
  "kernelspec": {
   "display_name": "mlscorecheck",
   "language": "python",
   "name": "python3"
  },
  "language_info": {
   "codemirror_mode": {
    "name": "ipython",
    "version": 3
   },
   "file_extension": ".py",
   "mimetype": "text/x-python",
   "name": "python",
   "nbconvert_exporter": "python",
   "pygments_lexer": "ipython3",
   "version": "3.10.0"
  },
  "orig_nbformat": 4
 },
 "nbformat": 4,
 "nbformat_minor": 2
}
