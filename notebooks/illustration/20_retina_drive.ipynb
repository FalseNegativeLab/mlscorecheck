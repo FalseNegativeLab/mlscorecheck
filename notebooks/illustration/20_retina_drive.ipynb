{
 "cells": [
  {
   "cell_type": "markdown",
   "metadata": {},
   "source": [
    "# Testing the consistency of performance scored reported for the DRIVE retinal vessel segmentation dataset"
   ]
  },
  {
   "cell_type": "code",
   "execution_count": 1,
   "metadata": {},
   "outputs": [],
   "source": [
    "from mlscorecheck.bundles.retina import (check_drive_vessel_image,\n",
    "                                        check_drive_vessel_aggregated)"
   ]
  },
  {
   "cell_type": "markdown",
   "metadata": {},
   "source": [
    "## Aggregated scores"
   ]
  },
  {
   "cell_type": "markdown",
   "metadata": {},
   "source": [
    "First we test the aggregated scores published in\n",
    "G. Kovacs et al, 2016: \"A self-calibrating technique for the segmentation of retinal vessels by\n",
    "template matching and contour reconstruction\", Medical Image Analysis 29(4), 24-46\n",
    "doi:10.1016/j.media.2015.12.003.\n"
   ]
  },
  {
   "cell_type": "code",
   "execution_count": 2,
   "metadata": {},
   "outputs": [],
   "source": [
    "scores = {'acc': 0.9494, 'sens': 0.7450, 'spec': 0.9793}\n",
    "\n",
    "# the numerical uncertainty (assuming ceiling/flooring)\n",
    "k = 4"
   ]
  },
  {
   "cell_type": "code",
   "execution_count": 3,
   "metadata": {},
   "outputs": [
    {
     "name": "stderr",
     "output_type": "stream",
     "text": [
      "2023-10-26 23:42:05,250:INFO:checking the scores {'acc': 0.9494, 'sens': 0.745, 'spec': 0.9793}\n",
      "2023-10-26 23:42:05,251:INFO:evaluating the tp and tn solution for acc and sens\n",
      "2023-10-26 23:42:05,253:INFO:intervals before: (0, 577649), (0, 3960494)\n",
      "2023-10-26 23:42:05,254:INFO:the tp solutions: (430289.58480199997, 430407.42519800004)\n",
      "2023-10-26 23:42:05,255:INFO:the tn solutions: (3877642.6484160004, 3878686.2699840004)\n",
      "2023-10-26 23:42:05,256:INFO:intervals after: [(430290, 430407)], [(3877643, 3878686)]\n",
      "2023-10-26 23:42:05,258:INFO:evaluating the tp and tn solution for acc and spec\n",
      "2023-10-26 23:42:05,259:INFO:intervals before: [(430290, 430407)], [(3877643, 3878686)]\n",
      "2023-10-26 23:42:05,260:INFO:the tp solutions: (429134.3290260006, 430868.0509740007)\n",
      "2023-10-26 23:42:05,261:INFO:the tn solutions: (3878107.8038119995, 3878915.744588)\n",
      "2023-10-26 23:42:05,262:INFO:intervals after: [(430290, 430407)], [(3878108, 3878686)]\n",
      "2023-10-26 23:42:05,263:INFO:evaluating the tp and tn solution for sens and spec\n",
      "2023-10-26 23:42:05,263:INFO:intervals before: [(430290, 430407)], [(3878108, 3878686)]\n",
      "2023-10-26 23:42:05,264:INFO:the tp solutions: (430289.58480199997, 430407.42519800004)\n",
      "2023-10-26 23:42:05,265:INFO:the tn solutions: (3878107.8038119995, 3878915.744588)\n",
      "2023-10-26 23:42:05,266:INFO:intervals after: [(430290, 430407)], [(3878108, 3878686)]\n",
      "2023-10-26 23:42:05,269:INFO:testing acc, feasible tptn pairs: 118\n",
      "2023-10-26 23:42:05,282:INFO:testing sens, feasible tptn pairs: 118\n",
      "2023-10-26 23:42:05,284:INFO:testing spec, feasible tptn pairs: 116\n",
      "2023-10-26 23:42:05,288:INFO:constructing final tp, tn pair set\n",
      "2023-10-26 23:42:05,289:INFO:final number of intervals: 116\n",
      "2023-10-26 23:42:05,289:INFO:final number of pairs: 59334\n",
      "2023-10-26 23:42:05,308:INFO:checking the scores {'acc': 0.9494, 'sens': 0.745, 'spec': 0.9793}\n",
      "2023-10-26 23:42:05,309:INFO:evaluating the tp and tn solution for acc and sens\n",
      "2023-10-26 23:42:05,310:INFO:intervals before: (0, 577945), (0, 6021255)\n",
      "2023-10-26 23:42:05,311:INFO:the tp solutions: (430510.07460999995, 430627.97539000004)\n",
      "2023-10-26 23:42:05,313:INFO:the tn solutions: (5833979.38621, 5835443.523790001)\n",
      "2023-10-26 23:42:05,315:INFO:intervals after: [(430511, 430627)], [(5833980, 5835443)]\n",
      "2023-10-26 23:42:05,316:INFO:evaluating the tp and tn solution for acc and spec\n",
      "2023-10-26 23:42:05,316:INFO:intervals before: [(430511, 430627)], [(5833980, 5835443)]\n",
      "2023-10-26 23:42:05,318:INFO:the tp solutions: (367378.1720900005, 369952.7449100008)\n",
      "2023-10-26 23:42:05,319:INFO:the tn solutions: (5896000.85349, 5897229.18951)\n",
      "2023-10-26 23:42:05,319:INFO:intervals after: [], []\n",
      "2023-10-26 23:42:05,320:INFO:evaluating the tp and tn solution for sens and spec\n",
      "2023-10-26 23:42:05,321:INFO:intervals before: [], []\n",
      "2023-10-26 23:42:05,322:INFO:the tp solutions: (430510.07460999995, 430627.97539000004)\n",
      "2023-10-26 23:42:05,323:INFO:the tn solutions: (5896000.85349, 5897229.18951)\n",
      "2023-10-26 23:42:05,324:INFO:intervals after: [], []\n",
      "2023-10-26 23:42:05,325:INFO:testing acc, feasible tptn pairs: 0\n",
      "2023-10-26 23:42:05,326:INFO:no more feasible tp,tn pairs left\n",
      "2023-10-26 23:42:05,327:INFO:constructing final tp, tn pair set\n",
      "2023-10-26 23:42:05,328:INFO:final number of intervals: 0\n",
      "2023-10-26 23:42:05,329:INFO:final number of pairs: 0\n"
     ]
    }
   ],
   "source": [
    "results = check_drive_vessel_aggregated(scores=scores,\n",
    "                                        eps=10**(-k),\n",
    "                                        imageset='test',\n",
    "                                        annotator=1,\n",
    "                                        verbosity=0)"
   ]
  },
  {
   "cell_type": "code",
   "execution_count": 4,
   "metadata": {},
   "outputs": [
    {
     "data": {
      "text/plain": [
       "{'inconsistency_fov_mos': False,\n",
       " 'inconsistency_fov_som': False,\n",
       " 'inconsistency_all_mos': True,\n",
       " 'inconsistency_all_som': True}"
      ]
     },
     "execution_count": 4,
     "metadata": {},
     "output_type": "execute_result"
    }
   ],
   "source": [
    "results['inconsistency']"
   ]
  },
  {
   "cell_type": "markdown",
   "metadata": {},
   "source": [
    "As the results show, the scores are inconsistent with the assumption of using all pixels with any aggregation ('Score-of-Means'/'Mean-of-Scores').\n",
    "\n",
    "Next, we test the aggregated scores published in\n",
    "Jebaseeli et al., 2019, \"Retinal Blood Vessel segmentation from diabetic retinopathy images using\n",
    "tandem PCNN model and deep learning based SVM\", Optik 199, 163328, doi:10.1016/j.ijleo.2019.163328."
   ]
  },
  {
   "cell_type": "code",
   "execution_count": 5,
   "metadata": {},
   "outputs": [],
   "source": [
    "scores = {'acc': 0.9898, 'sens': 0.8027, 'spec': 0.9980}\n",
    "\n",
    "# the numerical uncertainty (assuming ceiling/flooring)\n",
    "k = 4"
   ]
  },
  {
   "cell_type": "code",
   "execution_count": 6,
   "metadata": {},
   "outputs": [
    {
     "name": "stderr",
     "output_type": "stream",
     "text": [
      "2023-10-26 23:42:05,390:INFO:checking the scores {'acc': 0.9898, 'sens': 0.8027, 'spec': 0.998}\n",
      "2023-10-26 23:42:05,392:INFO:evaluating the tp and tn solution for acc and sens\n",
      "2023-10-26 23:42:05,393:INFO:intervals before: (0, 577649), (0, 3960494)\n",
      "2023-10-26 23:42:05,394:INFO:the tp solutions: (463619.93210199993, 463737.772498)\n",
      "2023-10-26 23:42:05,395:INFO:the tn solutions: (4027653.278316, 4028696.899884)\n",
      "2023-10-26 23:42:05,397:INFO:intervals after: [(463620, 463737)], []\n",
      "2023-10-26 23:42:05,398:INFO:evaluating the tp and tn solution for acc and spec\n",
      "2023-10-26 23:42:05,399:INFO:intervals before: [(463620, 463737)], []\n",
      "2023-10-26 23:42:05,401:INFO:the tp solutions: (538414.068426, 540147.7903740001)\n",
      "2023-10-26 23:42:05,402:INFO:the tn solutions: (3952169.0416119997, 3952976.982388)\n",
      "2023-10-26 23:42:05,403:INFO:intervals after: [], []\n",
      "2023-10-26 23:42:05,404:INFO:evaluating the tp and tn solution for sens and spec\n",
      "2023-10-26 23:42:05,405:INFO:intervals before: [], []\n",
      "2023-10-26 23:42:05,406:INFO:the tp solutions: (463619.93210199993, 463737.772498)\n",
      "2023-10-26 23:42:05,408:INFO:the tn solutions: (3952169.0416119997, 3952976.982388)\n",
      "2023-10-26 23:42:05,409:INFO:intervals after: [], []\n",
      "2023-10-26 23:42:05,410:INFO:testing acc, feasible tptn pairs: 0\n",
      "2023-10-26 23:42:05,411:INFO:no more feasible tp,tn pairs left\n",
      "2023-10-26 23:42:05,412:INFO:constructing final tp, tn pair set\n",
      "2023-10-26 23:42:05,413:INFO:final number of intervals: 0\n",
      "2023-10-26 23:42:05,414:INFO:final number of pairs: 0\n",
      "2023-10-26 23:42:05,434:INFO:checking the scores {'acc': 0.9898, 'sens': 0.8027, 'spec': 0.998}\n",
      "2023-10-26 23:42:05,436:INFO:evaluating the tp and tn solution for acc and sens\n",
      "2023-10-26 23:42:05,438:INFO:intervals before: (0, 577945), (0, 6021255)\n",
      "2023-10-26 23:42:05,439:INFO:the tp solutions: (463857.50110999995, 463975.40189000004)\n",
      "2023-10-26 23:42:05,441:INFO:the tn solutions: (6067239.63971, 6068703.777290001)\n",
      "2023-10-26 23:42:05,442:INFO:intervals after: [(463858, 463975)], []\n",
      "2023-10-26 23:42:05,444:INFO:evaluating the tp and tn solution for acc and spec\n",
      "2023-10-26 23:42:05,445:INFO:intervals before: [(463858, 463975)], []\n",
      "2023-10-26 23:42:05,446:INFO:the tp solutions: (521388.38358999975, 523962.9564100001)\n",
      "2023-10-26 23:42:05,446:INFO:the tn solutions: (6008598.32199, 6009826.65801)\n",
      "2023-10-26 23:42:05,447:INFO:intervals after: [], []\n",
      "2023-10-26 23:42:05,448:INFO:evaluating the tp and tn solution for sens and spec\n",
      "2023-10-26 23:42:05,450:INFO:intervals before: [], []\n",
      "2023-10-26 23:42:05,451:INFO:the tp solutions: (463857.50110999995, 463975.40189000004)\n",
      "2023-10-26 23:42:05,452:INFO:the tn solutions: (6008598.32199, 6009826.65801)\n",
      "2023-10-26 23:42:05,454:INFO:intervals after: [], []\n",
      "2023-10-26 23:42:05,457:INFO:testing acc, feasible tptn pairs: 0\n",
      "2023-10-26 23:42:05,458:INFO:no more feasible tp,tn pairs left\n",
      "2023-10-26 23:42:05,459:INFO:constructing final tp, tn pair set\n",
      "2023-10-26 23:42:05,461:INFO:final number of intervals: 0\n",
      "2023-10-26 23:42:05,462:INFO:final number of pairs: 0\n"
     ]
    }
   ],
   "source": [
    "results = check_drive_vessel_aggregated(scores=scores,\n",
    "                            eps=10**(-k),\n",
    "                            imageset='test',\n",
    "                            annotator=1,\n",
    "                            verbosity=0)"
   ]
  },
  {
   "cell_type": "code",
   "execution_count": 7,
   "metadata": {},
   "outputs": [
    {
     "data": {
      "text/plain": [
       "{'inconsistency_fov_mos': True,\n",
       " 'inconsistency_fov_som': True,\n",
       " 'inconsistency_all_mos': True,\n",
       " 'inconsistency_all_som': True}"
      ]
     },
     "execution_count": 7,
     "metadata": {},
     "output_type": "execute_result"
    }
   ],
   "source": [
    "results['inconsistency']"
   ]
  },
  {
   "cell_type": "markdown",
   "metadata": {},
   "source": [
    "As the results show, the reported scores are inconsistent with any of the four reasonable assumptions in the field (using the FoV pixels only or using all pixels; using Mean-of-Scores aggregation or 'Score-of-Means' aggregation)."
   ]
  },
  {
   "cell_type": "markdown",
   "metadata": {},
   "source": [
    "## Image level"
   ]
  },
  {
   "cell_type": "markdown",
   "metadata": {},
   "source": [
    "Image level figures from Mo et al., \"Multi-level deep supervised networks for retinal vessel seg-\n",
    "mentation\", Int J Comput Assist Radiol Surg, 12. doi:10.1007/s11548-017-1619-0"
   ]
  },
  {
   "cell_type": "code",
   "execution_count": 8,
   "metadata": {},
   "outputs": [],
   "source": [
    "scores = {'acc': 0.9323, 'sens': 0.5677, 'spec': 0.9944}\n",
    "identifier = '03'\n",
    "k = 4"
   ]
  },
  {
   "cell_type": "code",
   "execution_count": 9,
   "metadata": {},
   "outputs": [
    {
     "name": "stderr",
     "output_type": "stream",
     "text": [
      "2023-10-26 23:42:05,527:INFO:Use this function if the scores originate from the tp and tn statistics calculated on one test set with no aggregation of any kind.\n",
      "2023-10-26 23:42:05,529:INFO:calling the score check with scores {'acc': 0.9323, 'sens': 0.5677, 'spec': 0.9944}, uncertainty 0.0001, p 32886 and n 192841\n",
      "2023-10-26 23:42:05,531:INFO:checking the scores {'acc': 0.9323, 'sens': 0.5677, 'spec': 0.9944}\n",
      "2023-10-26 23:42:05,533:INFO:evaluating the tp and tn solution for acc and sens\n",
      "2023-10-26 23:42:05,534:INFO:intervals before: (0, 32886), (0, 192841)\n",
      "2023-10-26 23:42:05,536:INFO:the tp solutions: (18666.027828, 18672.736572)\n",
      "2023-10-26 23:42:05,537:INFO:the tn solutions: (191749.521374, 191802.27842600003)\n",
      "2023-10-26 23:42:05,539:INFO:intervals after: [(18667, 18672)], [(191750, 191802)]\n",
      "2023-10-26 23:42:05,541:INFO:evaluating the tp and tn solution for acc and spec\n",
      "2023-10-26 23:42:05,543:INFO:intervals before: [(18667, 18672)], [(191750, 191802)]\n",
      "2023-10-26 23:42:05,544:INFO:the tp solutions: (18641.497764, 18726.88563600005)\n",
      "2023-10-26 23:42:05,545:INFO:the tn solutions: (191741.42061799997, 191780.760182)\n",
      "2023-10-26 23:42:05,548:INFO:intervals after: [(18667, 18672)], [(191750, 191780)]\n",
      "2023-10-26 23:42:05,550:INFO:evaluating the tp and tn solution for sens and spec\n",
      "2023-10-26 23:42:05,551:INFO:intervals before: [(18667, 18672)], [(191750, 191780)]\n",
      "2023-10-26 23:42:05,553:INFO:the tp solutions: (18666.027828, 18672.736572)\n",
      "2023-10-26 23:42:05,554:INFO:the tn solutions: (191741.42061799997, 191780.760182)\n",
      "2023-10-26 23:42:05,556:INFO:intervals after: [(18667, 18672)], [(191750, 191780)]\n",
      "2023-10-26 23:42:05,557:INFO:testing acc, feasible tptn pairs: 6\n",
      "2023-10-26 23:42:05,559:INFO:testing sens, feasible tptn pairs: 6\n",
      "2023-10-26 23:42:05,561:INFO:testing spec, feasible tptn pairs: 6\n",
      "2023-10-26 23:42:05,564:INFO:constructing final tp, tn pair set\n",
      "2023-10-26 23:42:05,566:INFO:final number of intervals: 6\n",
      "2023-10-26 23:42:05,568:INFO:final number of pairs: 165\n",
      "2023-10-26 23:42:05,569:INFO:Use this function if the scores originate from the tp and tn statistics calculated on one test set with no aggregation of any kind.\n",
      "2023-10-26 23:42:05,571:INFO:calling the score check with scores {'acc': 0.9323, 'sens': 0.5677, 'spec': 0.9944}, uncertainty 0.0001, p 32893 and n 297067\n",
      "2023-10-26 23:42:05,584:INFO:checking the scores {'acc': 0.9323, 'sens': 0.5677, 'spec': 0.9944}\n",
      "2023-10-26 23:42:05,587:INFO:evaluating the tp and tn solution for acc and sens\n",
      "2023-10-26 23:42:05,589:INFO:intervals before: (0, 32893), (0, 297067)\n",
      "2023-10-26 23:42:05,590:INFO:the tp solutions: (18670.001013999998, 18676.711186)\n",
      "2023-10-26 23:42:05,592:INFO:the tn solutions: (288911.3408939999, 288985.36290600005)\n",
      "2023-10-26 23:42:05,593:INFO:intervals after: [(18671, 18676)], [(288912, 288985)]\n",
      "2023-10-26 23:42:05,595:INFO:evaluating the tp and tn solution for acc and spec\n",
      "2023-10-26 23:42:05,596:INFO:intervals before: [(18671, 18676)], [(288912, 288985)]\n",
      "2023-10-26 23:42:05,597:INFO:the tp solutions: (12154.326445999963, 12282.239954000048)\n",
      "2023-10-26 23:42:05,599:INFO:the tn solutions: (295373.123966, 295433.725634)\n",
      "2023-10-26 23:42:05,602:INFO:intervals after: [], []\n",
      "2023-10-26 23:42:05,604:INFO:evaluating the tp and tn solution for sens and spec\n",
      "2023-10-26 23:42:05,606:INFO:intervals before: [], []\n",
      "2023-10-26 23:42:05,607:INFO:the tp solutions: (18670.001013999998, 18676.711186)\n",
      "2023-10-26 23:42:05,609:INFO:the tn solutions: (295373.123966, 295433.725634)\n",
      "2023-10-26 23:42:05,610:INFO:intervals after: [], []\n",
      "2023-10-26 23:42:05,611:INFO:testing acc, feasible tptn pairs: 0\n",
      "2023-10-26 23:42:05,612:INFO:no more feasible tp,tn pairs left\n",
      "2023-10-26 23:42:05,613:INFO:constructing final tp, tn pair set\n",
      "2023-10-26 23:42:05,615:INFO:final number of intervals: 0\n",
      "2023-10-26 23:42:05,616:INFO:final number of pairs: 0\n"
     ]
    }
   ],
   "source": [
    "results = check_drive_vessel_image(scores=scores,\n",
    "                                    eps=10**(-k),\n",
    "                                    image_identifier=identifier,\n",
    "                                    annotator=1)"
   ]
  },
  {
   "cell_type": "code",
   "execution_count": 10,
   "metadata": {},
   "outputs": [
    {
     "data": {
      "text/plain": [
       "{'inconsistency_fov': False, 'inconsistency_all': True}"
      ]
     },
     "execution_count": 10,
     "metadata": {},
     "output_type": "execute_result"
    }
   ],
   "source": [
    "results['inconsistency']"
   ]
  },
  {
   "cell_type": "markdown",
   "metadata": {},
   "source": [
    "As the results show, the scores are inconsistent with the assumption that all pixels were, used, however, the scores are not inconsistent with the assumption that only the FoV pixels were used for evaluation."
   ]
  },
  {
   "cell_type": "markdown",
   "metadata": {},
   "source": [
    "Testing image level results from Lupascu et al., 2010, \"Fabc: retinal vessel segmentation using\n",
    "adaboost\", Trans. Info. Tech. Biomed 14 (5), 1267—1274, 2052282. doi:10.1109/TITB.2010."
   ]
  },
  {
   "cell_type": "code",
   "execution_count": 11,
   "metadata": {},
   "outputs": [],
   "source": [
    "scores = {'acc': 0.9633, 'sens': 0.7406, 'spec': 0.9849}\n",
    "identifier = '01'\n",
    "k = 4"
   ]
  },
  {
   "cell_type": "code",
   "execution_count": 12,
   "metadata": {},
   "outputs": [
    {
     "name": "stderr",
     "output_type": "stream",
     "text": [
      "2023-10-26 23:42:05,688:INFO:Use this function if the scores originate from the tp and tn statistics calculated on one test set with no aggregation of any kind.\n",
      "2023-10-26 23:42:05,691:INFO:calling the score check with scores {'acc': 0.9633, 'sens': 0.7406, 'spec': 0.9849}, uncertainty 0.0001, p 29412 and n 194965\n",
      "2023-10-26 23:42:05,694:INFO:checking the scores {'acc': 0.9633, 'sens': 0.7406, 'spec': 0.9849}\n",
      "2023-10-26 23:42:05,696:INFO:evaluating the tp and tn solution for acc and sens\n",
      "2023-10-26 23:42:05,697:INFO:intervals before: (0, 29412), (0, 194965)\n",
      "2023-10-26 23:42:05,700:INFO:the tp solutions: (21779.527176, 21785.527224)\n",
      "2023-10-26 23:42:05,701:INFO:the tn solutions: (194333.950422, 194385.72337800002)\n",
      "2023-10-26 23:42:05,704:INFO:intervals after: [(21780, 21785)], [(194334, 194385)]\n",
      "2023-10-26 23:42:05,706:INFO:evaluating the tp and tn solution for acc and spec\n",
      "2023-10-26 23:42:05,711:INFO:intervals before: [(21780, 21785)], [(194334, 194385)]\n",
      "2023-10-26 23:42:05,713:INFO:the tp solutions: (24078.562715999986, 24164.108484000026)\n",
      "2023-10-26 23:42:05,715:INFO:the tn solutions: (192001.14207, 192040.91493)\n",
      "2023-10-26 23:42:05,717:INFO:intervals after: [], []\n",
      "2023-10-26 23:42:05,719:INFO:evaluating the tp and tn solution for sens and spec\n",
      "2023-10-26 23:42:05,721:INFO:intervals before: [], []\n",
      "2023-10-26 23:42:05,724:INFO:the tp solutions: (21779.527176, 21785.527224)\n",
      "2023-10-26 23:42:05,728:INFO:the tn solutions: (192001.14207, 192040.91493)\n",
      "2023-10-26 23:42:05,731:INFO:intervals after: [], []\n",
      "2023-10-26 23:42:05,733:INFO:testing acc, feasible tptn pairs: 0\n",
      "2023-10-26 23:42:05,747:INFO:no more feasible tp,tn pairs left\n",
      "2023-10-26 23:42:05,749:INFO:constructing final tp, tn pair set\n",
      "2023-10-26 23:42:05,751:INFO:final number of intervals: 0\n",
      "2023-10-26 23:42:05,753:INFO:final number of pairs: 0\n",
      "2023-10-26 23:42:05,754:INFO:Use this function if the scores originate from the tp and tn statistics calculated on one test set with no aggregation of any kind.\n",
      "2023-10-26 23:42:05,755:INFO:calling the score check with scores {'acc': 0.9633, 'sens': 0.7406, 'spec': 0.9849}, uncertainty 0.0001, p 29440 and n 300520\n",
      "2023-10-26 23:42:05,756:INFO:checking the scores {'acc': 0.9633, 'sens': 0.7406, 'spec': 0.9849}\n",
      "2023-10-26 23:42:05,758:INFO:evaluating the tp and tn solution for acc and sens\n",
      "2023-10-26 23:42:05,759:INFO:intervals before: (0, 29440), (0, 300520)\n",
      "2023-10-26 23:42:05,761:INFO:the tp solutions: (21800.26112, 21806.266880000003)\n",
      "2023-10-26 23:42:05,766:INFO:the tn solutions: (296010.5452, 296083.86280000006)\n",
      "2023-10-26 23:42:05,768:INFO:intervals after: [(21801, 21806)], [(296011, 296083)]\n",
      "2023-10-26 23:42:05,770:INFO:evaluating the tp and tn solution for acc and spec\n",
      "2023-10-26 23:42:05,772:INFO:intervals before: [(21801, 21806)], [(296011, 296083)]\n",
      "2023-10-26 23:42:05,773:INFO:the tp solutions: (21804.011040000012, 21932.62896000006)\n",
      "2023-10-26 23:42:05,774:INFO:the tn solutions: (295951.49496, 296012.80104)\n",
      "2023-10-26 23:42:05,776:INFO:intervals after: [(21805, 21806)], [(296011, 296012)]\n",
      "2023-10-26 23:42:05,778:INFO:evaluating the tp and tn solution for sens and spec\n",
      "2023-10-26 23:42:05,780:INFO:intervals before: [(21805, 21806)], [(296011, 296012)]\n",
      "2023-10-26 23:42:05,783:INFO:the tp solutions: (21800.26112, 21806.266880000003)\n",
      "2023-10-26 23:42:05,785:INFO:the tn solutions: (295951.49496, 296012.80104)\n",
      "2023-10-26 23:42:05,798:INFO:intervals after: [(21805, 21806)], [(296011, 296012)]\n",
      "2023-10-26 23:42:05,802:INFO:testing acc, feasible tptn pairs: 2\n",
      "2023-10-26 23:42:05,804:INFO:testing sens, feasible tptn pairs: 1\n",
      "2023-10-26 23:42:05,806:INFO:testing spec, feasible tptn pairs: 1\n",
      "2023-10-26 23:42:05,807:INFO:constructing final tp, tn pair set\n",
      "2023-10-26 23:42:05,809:INFO:final number of intervals: 1\n",
      "2023-10-26 23:42:05,810:INFO:final number of pairs: 1\n"
     ]
    }
   ],
   "source": [
    "results = check_drive_vessel_image(scores=scores,\n",
    "                                eps=10**(-k),\n",
    "                                image_identifier=identifier,\n",
    "                                annotator=1)"
   ]
  },
  {
   "cell_type": "code",
   "execution_count": 13,
   "metadata": {},
   "outputs": [
    {
     "data": {
      "text/plain": [
       "{'inconsistency_fov': True, 'inconsistency_all': False}"
      ]
     },
     "execution_count": 13,
     "metadata": {},
     "output_type": "execute_result"
    }
   ],
   "source": [
    "results['inconsistency']"
   ]
  },
  {
   "cell_type": "markdown",
   "metadata": {},
   "source": [
    "As the results show, the scores are inconsistent with the assumption of evaluating the segmentation only in the FoV region, however, the scores are not inconsistent with the assumption of evaluating the method with all pixels."
   ]
  }
 ],
 "metadata": {
  "kernelspec": {
   "display_name": "mlscorecheck",
   "language": "python",
   "name": "python3"
  },
  "language_info": {
   "codemirror_mode": {
    "name": "ipython",
    "version": 3
   },
   "file_extension": ".py",
   "mimetype": "text/x-python",
   "name": "python",
   "nbconvert_exporter": "python",
   "pygments_lexer": "ipython3",
   "version": "3.10.0"
  },
  "orig_nbformat": 4
 },
 "nbformat": 4,
 "nbformat_minor": 2
}
