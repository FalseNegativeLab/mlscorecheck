{
 "cells": [
  {
   "cell_type": "code",
   "execution_count": 1,
   "metadata": {},
   "outputs": [],
   "source": [
    "from mlscorecheck.check import check_1_dataset_som_scores\n",
    "from mlscorecheck.aggregated import Dataset, Evaluation, generate_evaluation"
   ]
  },
  {
   "cell_type": "code",
   "execution_count": 2,
   "metadata": {},
   "outputs": [
    {
     "data": {
      "text/plain": [
       "({'dataset': {'p': 195, 'n': 402},\n",
       "  'folding': {'n_folds': 10, 'n_repeats': 5, 'strategy': 'stratified_sklearn'},\n",
       "  'fold_score_bounds': None,\n",
       "  'aggregation': 'mos'},\n",
       " {'acc': 0.487, 'sens': 0.467, 'spec': 0.496, 'bacc': 0.481})"
      ]
     },
     "execution_count": 2,
     "metadata": {},
     "output_type": "execute_result"
    }
   ],
   "source": [
    "dataset, scores = generate_evaluation(return_scores=True, rounding_decimals=3)\n",
    "dataset, scores"
   ]
  },
  {
   "cell_type": "code",
   "execution_count": 3,
   "metadata": {},
   "outputs": [
    {
     "name": "stderr",
     "output_type": "stream",
     "text": [
      "2023-10-26 23:38:05,126:INFO:testing spec, feasible tptn pairs: 613\n",
      "2023-10-26 23:38:05,129:INFO:testing bacc, feasible tptn pairs: 613\n",
      "2023-10-26 23:38:05,144:INFO:testing npv, feasible tptn pairs: 2\n",
      "2023-10-26 23:38:05,145:INFO:testing ppv, feasible tptn pairs: 1\n",
      "2023-10-26 23:38:05,146:INFO:testing f1p, feasible tptn pairs: 1\n",
      "2023-10-26 23:38:05,148:INFO:testing fm, feasible tptn pairs: 1\n",
      "2023-10-26 23:38:05,148:INFO:constructing final tp, tn pair set\n",
      "2023-10-26 23:38:05,150:INFO:final number of intervals: 1\n",
      "2023-10-26 23:38:05,151:INFO:final number of pairs: 1\n"
     ]
    },
    {
     "data": {
      "text/plain": [
       "False"
      ]
     },
     "execution_count": 3,
     "metadata": {},
     "output_type": "execute_result"
    }
   ],
   "source": [
    "dataset = {'dataset_name': 'common_datasets.monk-2'}\n",
    "folding = {'n_folds': 4, 'n_repeats': 3, 'strategy': 'stratified_sklearn'}\n",
    "scores = {'spec': 0.668, 'npv': 0.744, 'ppv': 0.667, 'bacc': 0.706, 'f1p': 0.703, 'fm': 0.704}\n",
    "result = check_1_dataset_som_scores(dataset=dataset,\n",
    "                                    folding=folding,\n",
    "                                    scores=scores,\n",
    "                                    eps=1e-3)\n",
    "result['inconsistency']"
   ]
  },
  {
   "cell_type": "code",
   "execution_count": 4,
   "metadata": {},
   "outputs": [
    {
     "name": "stderr",
     "output_type": "stream",
     "text": [
      "2023-10-26 23:38:05,163:INFO:testing spec, feasible tptn pairs: 613\n",
      "2023-10-26 23:38:05,166:INFO:testing bacc, feasible tptn pairs: 613\n",
      "2023-10-26 23:38:05,184:INFO:testing npv, feasible tptn pairs: 2\n",
      "2023-10-26 23:38:05,185:INFO:no more feasible tp,tn pairs left\n",
      "2023-10-26 23:38:05,186:INFO:constructing final tp, tn pair set\n",
      "2023-10-26 23:38:05,187:INFO:final number of intervals: 0\n",
      "2023-10-26 23:38:05,187:INFO:final number of pairs: 0\n"
     ]
    },
    {
     "data": {
      "text/plain": [
       "True"
      ]
     },
     "execution_count": 4,
     "metadata": {},
     "output_type": "execute_result"
    }
   ],
   "source": [
    "dataset = {'dataset_name': 'common_datasets.monk-2'}\n",
    "folding = {'n_folds': 4, 'n_repeats': 3, 'strategy': 'stratified_sklearn'}\n",
    "scores = {'spec': 0.668, 'npv': 0.544, 'ppv': 0.667, 'bacc': 0.706, 'f1p': 0.703, 'fm': 0.704}\n",
    "result = check_1_dataset_som_scores(dataset=dataset,\n",
    "                                    folding=folding,\n",
    "                                    scores=scores,\n",
    "                                    eps=1e-3)\n",
    "result['inconsistency']"
   ]
  },
  {
   "cell_type": "code",
   "execution_count": 5,
   "metadata": {},
   "outputs": [
    {
     "name": "stderr",
     "output_type": "stream",
     "text": [
      "2023-10-26 23:38:05,199:INFO:testing acc, feasible tptn pairs: 11\n",
      "2023-10-26 23:38:05,202:INFO:no more feasible tp,tn pairs left\n",
      "2023-10-26 23:38:05,203:INFO:constructing final tp, tn pair set\n",
      "2023-10-26 23:38:05,204:INFO:final number of intervals: 0\n",
      "2023-10-26 23:38:05,205:INFO:final number of pairs: 0\n"
     ]
    },
    {
     "data": {
      "text/plain": [
       "True"
      ]
     },
     "execution_count": 5,
     "metadata": {},
     "output_type": "execute_result"
    }
   ],
   "source": [
    "dataset = {'p': 10, 'n': 20}\n",
    "folding = {'n_folds': 5, 'n_repeats': 1}\n",
    "scores = {'acc': 0.428, 'npv': 0.392, 'bacc': 0.442, 'f1p': 0.391}\n",
    "\n",
    "result = check_1_dataset_som_scores(dataset=dataset,\n",
    "                                    folding=folding,\n",
    "                                    scores=scores,\n",
    "                                    eps=1e-3)\n",
    "result['inconsistency']"
   ]
  }
 ],
 "metadata": {
  "kernelspec": {
   "display_name": "mlscorecheck",
   "language": "python",
   "name": "python3"
  },
  "language_info": {
   "codemirror_mode": {
    "name": "ipython",
    "version": 3
   },
   "file_extension": ".py",
   "mimetype": "text/x-python",
   "name": "python",
   "nbconvert_exporter": "python",
   "pygments_lexer": "ipython3",
   "version": "3.10.0"
  },
  "orig_nbformat": 4
 },
 "nbformat": 4,
 "nbformat_minor": 2
}
