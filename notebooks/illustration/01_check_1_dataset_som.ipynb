{
 "cells": [
  {
   "cell_type": "code",
   "execution_count": 1,
   "metadata": {},
   "outputs": [],
   "source": [
    "from mlscorecheck.check import check_1_dataset_som_scores\n",
    "from mlscorecheck.aggregated import Dataset, Evaluation, generate_evaluation"
   ]
  },
  {
   "cell_type": "code",
   "execution_count": 2,
   "metadata": {},
   "outputs": [
    {
     "data": {
      "text/plain": [
       "({'dataset': {'dataset_name': 'common_datasets.winequality-red-8_vs_6'},\n",
       "  'folding': {'n_folds': 9, 'n_repeats': 4, 'strategy': 'stratified_sklearn'},\n",
       "  'fold_score_bounds': None,\n",
       "  'aggregation': 'som'},\n",
       " {'acc': 0.333,\n",
       "  'sens': 0.153,\n",
       "  'spec': 0.338,\n",
       "  'npv': 0.934,\n",
       "  'ppv': 0.006,\n",
       "  'bacc': 0.245,\n",
       "  'f1p': 0.012,\n",
       "  'fm': 0.031,\n",
       "  'f1n': 0.496,\n",
       "  'fbp': 0.028,\n",
       "  'fbn': 0.387,\n",
       "  'bm': -0.509,\n",
       "  'pt': 0.676,\n",
       "  'lrp': 0.231,\n",
       "  'lrn': 2.508,\n",
       "  'mk': -0.06,\n",
       "  'dor': 0.092,\n",
       "  'mcc': -0.174,\n",
       "  'ji': 0.006,\n",
       "  'kappa': -0.042,\n",
       "  'gm': 0.227,\n",
       "  'upm': 0.024,\n",
       "  'beta_positive': 2,\n",
       "  'beta_negative': 2})"
      ]
     },
     "execution_count": 2,
     "metadata": {},
     "output_type": "execute_result"
    }
   ],
   "source": [
    "dataset, scores = generate_evaluation(return_scores=True, rounding_decimals=3)\n",
    "dataset, scores"
   ]
  },
  {
   "cell_type": "code",
   "execution_count": 3,
   "metadata": {},
   "outputs": [
    {
     "name": "stderr",
     "output_type": "stream",
     "text": [
      "2023-10-17 06:10:18,727:INFO:testing spec, feasible tptn pairs: 613\n",
      "2023-10-17 06:10:18,733:INFO:testing bacc, feasible tptn pairs: 613\n",
      "2023-10-17 06:10:18,755:INFO:testing npv, feasible tptn pairs: 2\n",
      "2023-10-17 06:10:18,757:INFO:testing ppv, feasible tptn pairs: 1\n",
      "2023-10-17 06:10:18,758:INFO:testing f1p, feasible tptn pairs: 1\n",
      "2023-10-17 06:10:18,760:INFO:testing fm, feasible tptn pairs: 1\n",
      "2023-10-17 06:10:18,761:INFO:constructing final tp, tn pair set\n",
      "2023-10-17 06:10:18,762:INFO:final number of intervals: 1\n",
      "2023-10-17 06:10:18,763:INFO:final number of pairs: 1\n"
     ]
    },
    {
     "data": {
      "text/plain": [
       "False"
      ]
     },
     "execution_count": 3,
     "metadata": {},
     "output_type": "execute_result"
    }
   ],
   "source": [
    "dataset = {'dataset_name': 'common_datasets.monk-2'}\n",
    "folding = {'n_folds': 4, 'n_repeats': 3, 'strategy': 'stratified_sklearn'}\n",
    "scores = {'spec': 0.668, 'npv': 0.744, 'ppv': 0.667, 'bacc': 0.706, 'f1p': 0.703, 'fm': 0.704}\n",
    "result = check_1_dataset_som_scores(dataset=dataset,\n",
    "                                    folding=folding,\n",
    "                                    scores=scores,\n",
    "                                    eps=1e-3)\n",
    "result['inconsistency']"
   ]
  },
  {
   "cell_type": "code",
   "execution_count": 4,
   "metadata": {},
   "outputs": [
    {
     "name": "stderr",
     "output_type": "stream",
     "text": [
      "2023-10-17 06:10:18,775:INFO:testing spec, feasible tptn pairs: 613\n",
      "2023-10-17 06:10:18,779:INFO:testing bacc, feasible tptn pairs: 613\n",
      "2023-10-17 06:10:18,807:INFO:testing npv, feasible tptn pairs: 2\n",
      "2023-10-17 06:10:18,808:INFO:no more feasible tp,tn pairs left\n",
      "2023-10-17 06:10:18,810:INFO:constructing final tp, tn pair set\n",
      "2023-10-17 06:10:18,810:INFO:final number of intervals: 0\n",
      "2023-10-17 06:10:18,811:INFO:final number of pairs: 0\n"
     ]
    },
    {
     "data": {
      "text/plain": [
       "True"
      ]
     },
     "execution_count": 4,
     "metadata": {},
     "output_type": "execute_result"
    }
   ],
   "source": [
    "dataset = {'dataset_name': 'common_datasets.monk-2'}\n",
    "folding = {'n_folds': 4, 'n_repeats': 3, 'strategy': 'stratified_sklearn'}\n",
    "scores = {'spec': 0.668, 'npv': 0.544, 'ppv': 0.667, 'bacc': 0.706, 'f1p': 0.703, 'fm': 0.704}\n",
    "result = check_1_dataset_som_scores(dataset=dataset,\n",
    "                                    folding=folding,\n",
    "                                    scores=scores,\n",
    "                                    eps=1e-3)\n",
    "result['inconsistency']"
   ]
  },
  {
   "cell_type": "code",
   "execution_count": 5,
   "metadata": {},
   "outputs": [
    {
     "name": "stderr",
     "output_type": "stream",
     "text": [
      "2023-10-17 06:10:18,825:INFO:testing acc, feasible tptn pairs: 11\n",
      "2023-10-17 06:10:18,828:INFO:no more feasible tp,tn pairs left\n",
      "2023-10-17 06:10:18,829:INFO:constructing final tp, tn pair set\n",
      "2023-10-17 06:10:18,830:INFO:final number of intervals: 0\n",
      "2023-10-17 06:10:18,831:INFO:final number of pairs: 0\n"
     ]
    },
    {
     "data": {
      "text/plain": [
       "True"
      ]
     },
     "execution_count": 5,
     "metadata": {},
     "output_type": "execute_result"
    }
   ],
   "source": [
    "dataset = {'p': 10, 'n': 20}\n",
    "folding = {'n_folds': 5, 'n_repeats': 1}\n",
    "scores = {'acc': 0.428, 'npv': 0.392, 'bacc': 0.442, 'f1p': 0.391}\n",
    "\n",
    "result = check_1_dataset_som_scores(dataset=dataset,\n",
    "                                    folding=folding,\n",
    "                                    scores=scores,\n",
    "                                    eps=1e-3)\n",
    "result['inconsistency']"
   ]
  }
 ],
 "metadata": {
  "kernelspec": {
   "display_name": "mlscorecheck",
   "language": "python",
   "name": "python3"
  },
  "language_info": {
   "codemirror_mode": {
    "name": "ipython",
    "version": 3
   },
   "file_extension": ".py",
   "mimetype": "text/x-python",
   "name": "python",
   "nbconvert_exporter": "python",
   "pygments_lexer": "ipython3",
   "version": "3.10.0"
  },
  "orig_nbformat": 4
 },
 "nbformat": 4,
 "nbformat_minor": 2
}
