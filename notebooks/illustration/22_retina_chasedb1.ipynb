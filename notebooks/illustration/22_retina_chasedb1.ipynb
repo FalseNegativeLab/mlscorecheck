{
 "cells": [
  {
   "cell_type": "markdown",
   "metadata": {},
   "source": [
    "# Testing the consistency of performance scored reported for the CHASEDB1 retinal vessel segmentation dataset"
   ]
  },
  {
   "cell_type": "code",
   "execution_count": 1,
   "metadata": {},
   "outputs": [],
   "source": [
    "from mlscorecheck.bundles.retina import (check_chasedb1_vessel_image,\n",
    "                                        check_chasedb1_vessel_aggregated)"
   ]
  },
  {
   "cell_type": "markdown",
   "metadata": {},
   "source": [
    "## Aggreagted scores"
   ]
  },
  {
   "cell_type": "code",
   "execution_count": 2,
   "metadata": {},
   "outputs": [],
   "source": [
    "scores = {'acc': 0.5063, 'sens': 0.4147, 'spec': 0.5126}\n",
    "k = 4"
   ]
  },
  {
   "cell_type": "code",
   "execution_count": 3,
   "metadata": {},
   "outputs": [
    {
     "name": "stderr",
     "output_type": "stream",
     "text": [
      "2023-10-25 04:29:22,107:INFO:checking the scores {'acc': 0.5063, 'sens': 0.4147, 'spec': 0.5126}\n",
      "2023-10-25 04:29:22,109:INFO:evaluating the tp and tn solution for acc and sens\n",
      "2023-10-25 04:29:22,110:INFO:intervals before: (0, 1861974), (0, 24991146)\n",
      "2023-10-25 04:29:22,112:INFO:the tp solutions: (771970.6964520001, 772350.539148)\n",
      "2023-10-25 04:29:22,113:INFO:the tn solutions: (12820645.098612, 12826502.977788001)\n",
      "2023-10-25 04:29:22,114:INFO:intervals after: [(771971, 772350)], [(12820646, 12826502)]\n",
      "2023-10-25 04:29:22,116:INFO:evaluating the tp and tn solution for acc and spec\n",
      "2023-10-25 04:29:22,117:INFO:intervals before: [(771971, 772350)], [(12820646, 12826502)]\n",
      "2023-10-25 04:29:22,118:INFO:the tp solutions: (779985.101267999, 790561.3315320034)\n",
      "2023-10-25 04:29:22,120:INFO:the tn solutions: (12807912.342707997, 12813010.536492)\n",
      "2023-10-25 04:29:22,121:INFO:intervals after: [], []\n",
      "2023-10-25 04:29:22,122:INFO:evaluating the tp and tn solution for sens and spec\n",
      "2023-10-25 04:29:22,129:INFO:intervals before: [], []\n",
      "2023-10-25 04:29:22,130:INFO:the tp solutions: (771970.6964520001, 772350.539148)\n",
      "2023-10-25 04:29:22,132:INFO:the tn solutions: (12807912.342707997, 12813010.536492)\n",
      "2023-10-25 04:29:22,133:INFO:intervals after: [], []\n",
      "2023-10-25 04:29:22,135:INFO:testing acc, feasible tptn pairs: 0\n",
      "2023-10-25 04:29:22,136:INFO:no more feasible tp,tn pairs left\n",
      "2023-10-25 04:29:22,144:INFO:constructing final tp, tn pair set\n",
      "2023-10-25 04:29:22,145:INFO:final number of intervals: 0\n",
      "2023-10-25 04:29:22,147:INFO:final number of pairs: 0\n"
     ]
    },
    {
     "data": {
      "text/plain": [
       "{'inconsistency_mos': False, 'inconsistency_som': True}"
      ]
     },
     "execution_count": 3,
     "metadata": {},
     "output_type": "execute_result"
    }
   ],
   "source": [
    "results = check_chasedb1_vessel_aggregated(imageset='all',\n",
    "                                        annotator='manual1',\n",
    "                                        scores=scores,\n",
    "                                        eps=1e-4,\n",
    "                                        verbosity=0)\n",
    "results['inconsistency']"
   ]
  },
  {
   "cell_type": "markdown",
   "metadata": {},
   "source": [
    "## Image level scores"
   ]
  },
  {
   "cell_type": "code",
   "execution_count": 4,
   "metadata": {},
   "outputs": [],
   "source": [
    "img_identifier = '11R'"
   ]
  },
  {
   "cell_type": "code",
   "execution_count": 5,
   "metadata": {},
   "outputs": [],
   "source": [
    "scores = {'acc': 0.4457, 'sens': 0.0051, 'spec': 0.4706}"
   ]
  },
  {
   "cell_type": "code",
   "execution_count": 6,
   "metadata": {},
   "outputs": [
    {
     "name": "stderr",
     "output_type": "stream",
     "text": [
      "2023-10-25 04:29:22,246:INFO:Use this function if the scores originate from the tp and tn statistics calculated on one test set with no aggregation of any kind.\n",
      "2023-10-25 04:29:22,249:INFO:calling the score check with scores {'acc': 0.4457, 'sens': 0.0051, 'spec': 0.4706}, uncertainty 0.0001, p 51133 and n 907907\n",
      "2023-10-25 04:29:22,251:INFO:checking the scores {'acc': 0.4457, 'sens': 0.0051, 'spec': 0.4706}\n",
      "2023-10-25 04:29:22,253:INFO:evaluating the tp and tn solution for acc and sens\n",
      "2023-10-25 04:29:22,255:INFO:intervals before: (0, 51133), (0, 907907)\n",
      "2023-10-25 04:29:22,257:INFO:the tp solutions: (255.56273399999998, 265.993866)\n",
      "2023-10-25 04:29:22,258:INFO:the tn solutions: (427080.312054, 427286.387346)\n",
      "2023-10-25 04:29:22,260:INFO:intervals after: [(256, 265)], [(427081, 427286)]\n",
      "2023-10-25 04:29:22,261:INFO:evaluating the tp and tn solution for acc and spec\n",
      "2023-10-25 04:29:22,263:INFO:intervals before: [(256, 265)], [(427081, 427286)]\n",
      "2023-10-25 04:29:22,269:INFO:the tp solutions: (-7.334794000082184, 373.5223939999705)\n",
      "2023-10-25 04:29:22,271:INFO:the tn solutions: (427168.427686, 427353.64071400004)\n",
      "2023-10-25 04:29:22,273:INFO:intervals after: [(256, 265)], [(427169, 427286)]\n",
      "2023-10-25 04:29:22,275:INFO:evaluating the tp and tn solution for sens and spec\n",
      "2023-10-25 04:29:22,276:INFO:intervals before: [(256, 265)], [(427169, 427286)]\n",
      "2023-10-25 04:29:22,277:INFO:the tp solutions: (255.56273399999998, 265.993866)\n",
      "2023-10-25 04:29:22,279:INFO:the tn solutions: (427168.427686, 427353.64071400004)\n",
      "2023-10-25 04:29:22,280:INFO:intervals after: [(256, 265)], [(427169, 427286)]\n",
      "2023-10-25 04:29:22,282:INFO:testing acc, feasible tptn pairs: 10\n",
      "2023-10-25 04:29:22,285:INFO:testing sens, feasible tptn pairs: 10\n",
      "2023-10-25 04:29:22,287:INFO:testing spec, feasible tptn pairs: 10\n",
      "2023-10-25 04:29:22,290:INFO:constructing final tp, tn pair set\n",
      "2023-10-25 04:29:22,291:INFO:final number of intervals: 10\n",
      "2023-10-25 04:29:22,292:INFO:final number of pairs: 1105\n"
     ]
    }
   ],
   "source": [
    "results = check_chasedb1_vessel_image(image_identifier=img_identifier,\n",
    "                                    annotator='manual1',\n",
    "                                    scores=scores,\n",
    "                                    eps=1e-4)"
   ]
  },
  {
   "cell_type": "code",
   "execution_count": 7,
   "metadata": {},
   "outputs": [
    {
     "data": {
      "text/plain": [
       "False"
      ]
     },
     "execution_count": 7,
     "metadata": {},
     "output_type": "execute_result"
    }
   ],
   "source": [
    "results['inconsistency']"
   ]
  },
  {
   "cell_type": "code",
   "execution_count": null,
   "metadata": {},
   "outputs": [],
   "source": []
  }
 ],
 "metadata": {
  "kernelspec": {
   "display_name": "mlscorecheck",
   "language": "python",
   "name": "python3"
  },
  "language_info": {
   "codemirror_mode": {
    "name": "ipython",
    "version": 3
   },
   "file_extension": ".py",
   "mimetype": "text/x-python",
   "name": "python",
   "nbconvert_exporter": "python",
   "pygments_lexer": "ipython3",
   "version": "3.10.0"
  }
 },
 "nbformat": 4,
 "nbformat_minor": 2
}
