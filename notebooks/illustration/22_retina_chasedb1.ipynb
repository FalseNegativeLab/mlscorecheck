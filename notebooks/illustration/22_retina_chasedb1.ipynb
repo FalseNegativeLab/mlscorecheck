{
 "cells": [
  {
   "cell_type": "markdown",
   "metadata": {},
   "source": [
    "# Testing the consistency of performance scored reported for the CHASEDB1 retinal vessel segmentation dataset"
   ]
  },
  {
   "cell_type": "code",
   "execution_count": 1,
   "metadata": {},
   "outputs": [],
   "source": [
    "from mlscorecheck.bundles.retina import (check_chasedb1_vessel_image,\n",
    "                                        check_chasedb1_vessel_aggregated)"
   ]
  },
  {
   "cell_type": "markdown",
   "metadata": {},
   "source": [
    "## Aggreagted scores"
   ]
  },
  {
   "cell_type": "code",
   "execution_count": 2,
   "metadata": {},
   "outputs": [],
   "source": [
    "scores = {'acc': 0.5063, 'sens': 0.4147, 'spec': 0.5126}\n",
    "k = 4"
   ]
  },
  {
   "cell_type": "code",
   "execution_count": 3,
   "metadata": {},
   "outputs": [
    {
     "name": "stderr",
     "output_type": "stream",
     "text": [
      "2023-10-26 23:42:26,586:INFO:checking the scores {'acc': 0.5063, 'sens': 0.4147, 'spec': 0.5126}\n",
      "2023-10-26 23:42:26,588:INFO:evaluating the tp and tn solution for acc and sens\n",
      "2023-10-26 23:42:26,589:INFO:intervals before: (0, 1861974), (0, 24991146)\n",
      "2023-10-26 23:42:26,590:INFO:the tp solutions: (771970.6964520001, 772350.539148)\n",
      "2023-10-26 23:42:26,591:INFO:the tn solutions: (12820645.098612, 12826502.977788001)\n",
      "2023-10-26 23:42:26,592:INFO:intervals after: [(771971, 772350)], [(12820646, 12826502)]\n",
      "2023-10-26 23:42:26,593:INFO:evaluating the tp and tn solution for acc and spec\n",
      "2023-10-26 23:42:26,594:INFO:intervals before: [(771971, 772350)], [(12820646, 12826502)]\n",
      "2023-10-26 23:42:26,594:INFO:the tp solutions: (779985.101267999, 790561.3315320034)\n",
      "2023-10-26 23:42:26,595:INFO:the tn solutions: (12807912.342707997, 12813010.536492)\n",
      "2023-10-26 23:42:26,596:INFO:intervals after: [], []\n",
      "2023-10-26 23:42:26,597:INFO:evaluating the tp and tn solution for sens and spec\n",
      "2023-10-26 23:42:26,598:INFO:intervals before: [], []\n",
      "2023-10-26 23:42:26,600:INFO:the tp solutions: (771970.6964520001, 772350.539148)\n",
      "2023-10-26 23:42:26,601:INFO:the tn solutions: (12807912.342707997, 12813010.536492)\n",
      "2023-10-26 23:42:26,602:INFO:intervals after: [], []\n",
      "2023-10-26 23:42:26,603:INFO:testing acc, feasible tptn pairs: 0\n",
      "2023-10-26 23:42:26,604:INFO:no more feasible tp,tn pairs left\n",
      "2023-10-26 23:42:26,605:INFO:constructing final tp, tn pair set\n",
      "2023-10-26 23:42:26,605:INFO:final number of intervals: 0\n",
      "2023-10-26 23:42:26,606:INFO:final number of pairs: 0\n"
     ]
    },
    {
     "data": {
      "text/plain": [
       "{'inconsistency_mos': False, 'inconsistency_som': True}"
      ]
     },
     "execution_count": 3,
     "metadata": {},
     "output_type": "execute_result"
    }
   ],
   "source": [
    "results = check_chasedb1_vessel_aggregated(imageset='all',\n",
    "                                        annotator='manual1',\n",
    "                                        scores=scores,\n",
    "                                        eps=1e-4,\n",
    "                                        verbosity=0)\n",
    "results['inconsistency']"
   ]
  },
  {
   "cell_type": "markdown",
   "metadata": {},
   "source": [
    "## Image level scores"
   ]
  },
  {
   "cell_type": "code",
   "execution_count": 4,
   "metadata": {},
   "outputs": [],
   "source": [
    "img_identifier = '11R'"
   ]
  },
  {
   "cell_type": "code",
   "execution_count": 5,
   "metadata": {},
   "outputs": [],
   "source": [
    "scores = {'acc': 0.4457, 'sens': 0.0051, 'spec': 0.4706}"
   ]
  },
  {
   "cell_type": "code",
   "execution_count": 6,
   "metadata": {},
   "outputs": [
    {
     "name": "stderr",
     "output_type": "stream",
     "text": [
      "2023-10-26 23:42:26,713:INFO:Use this function if the scores originate from the tp and tn statistics calculated on one test set with no aggregation of any kind.\n",
      "2023-10-26 23:42:26,715:INFO:calling the score check with scores {'acc': 0.4457, 'sens': 0.0051, 'spec': 0.4706}, uncertainty 0.0001, p 51133 and n 907907\n",
      "2023-10-26 23:42:26,716:INFO:checking the scores {'acc': 0.4457, 'sens': 0.0051, 'spec': 0.4706}\n",
      "2023-10-26 23:42:26,718:INFO:evaluating the tp and tn solution for acc and sens\n",
      "2023-10-26 23:42:26,719:INFO:intervals before: (0, 51133), (0, 907907)\n",
      "2023-10-26 23:42:26,720:INFO:the tp solutions: (255.56273399999998, 265.993866)\n",
      "2023-10-26 23:42:26,720:INFO:the tn solutions: (427080.312054, 427286.387346)\n",
      "2023-10-26 23:42:26,721:INFO:intervals after: [(256, 265)], [(427081, 427286)]\n",
      "2023-10-26 23:42:26,722:INFO:evaluating the tp and tn solution for acc and spec\n",
      "2023-10-26 23:42:26,723:INFO:intervals before: [(256, 265)], [(427081, 427286)]\n",
      "2023-10-26 23:42:26,725:INFO:the tp solutions: (-7.334794000082184, 373.5223939999705)\n",
      "2023-10-26 23:42:26,726:INFO:the tn solutions: (427168.427686, 427353.64071400004)\n",
      "2023-10-26 23:42:26,729:INFO:intervals after: [(256, 265)], [(427169, 427286)]\n",
      "2023-10-26 23:42:26,730:INFO:evaluating the tp and tn solution for sens and spec\n",
      "2023-10-26 23:42:26,731:INFO:intervals before: [(256, 265)], [(427169, 427286)]\n",
      "2023-10-26 23:42:26,732:INFO:the tp solutions: (255.56273399999998, 265.993866)\n",
      "2023-10-26 23:42:26,733:INFO:the tn solutions: (427168.427686, 427353.64071400004)\n",
      "2023-10-26 23:42:26,734:INFO:intervals after: [(256, 265)], [(427169, 427286)]\n",
      "2023-10-26 23:42:26,735:INFO:testing acc, feasible tptn pairs: 10\n",
      "2023-10-26 23:42:26,736:INFO:testing sens, feasible tptn pairs: 10\n",
      "2023-10-26 23:42:26,737:INFO:testing spec, feasible tptn pairs: 10\n",
      "2023-10-26 23:42:26,739:INFO:constructing final tp, tn pair set\n",
      "2023-10-26 23:42:26,742:INFO:final number of intervals: 10\n",
      "2023-10-26 23:42:26,743:INFO:final number of pairs: 1105\n"
     ]
    }
   ],
   "source": [
    "results = check_chasedb1_vessel_image(image_identifier=img_identifier,\n",
    "                                    annotator='manual1',\n",
    "                                    scores=scores,\n",
    "                                    eps=1e-4)"
   ]
  },
  {
   "cell_type": "code",
   "execution_count": 7,
   "metadata": {},
   "outputs": [
    {
     "data": {
      "text/plain": [
       "False"
      ]
     },
     "execution_count": 7,
     "metadata": {},
     "output_type": "execute_result"
    }
   ],
   "source": [
    "results['inconsistency']"
   ]
  },
  {
   "cell_type": "code",
   "execution_count": null,
   "metadata": {},
   "outputs": [],
   "source": []
  }
 ],
 "metadata": {
  "kernelspec": {
   "display_name": "mlscorecheck",
   "language": "python",
   "name": "python3"
  },
  "language_info": {
   "codemirror_mode": {
    "name": "ipython",
    "version": 3
   },
   "file_extension": ".py",
   "mimetype": "text/x-python",
   "name": "python",
   "nbconvert_exporter": "python",
   "pygments_lexer": "ipython3",
   "version": "3.10.0"
  }
 },
 "nbformat": 4,
 "nbformat_minor": 2
}
