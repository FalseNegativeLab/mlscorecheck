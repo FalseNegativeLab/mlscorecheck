{
 "cells": [
  {
   "cell_type": "code",
   "execution_count": 1,
   "metadata": {},
   "outputs": [],
   "source": [
    "from mlscorecheck.check import check_n_datasets_mor_known_folds_mor_scores"
   ]
  },
  {
   "cell_type": "code",
   "execution_count": 2,
   "metadata": {},
   "outputs": [],
   "source": [
    "evaluation0 = {'dataset': {'p': 118, 'n': 95},\n",
    "                'folding': {'folds': [{'p': 22, 'n': 23},\n",
    "                                        {'p': 96, 'n': 72}]}}\n",
    "evaluation1 = {'dataset': {'p': 781, 'n': 423},\n",
    "                'folding': {'n_folds': 1, 'n_repeats': 3}}\n",
    "evaluation2 = {'dataset': {'dataset_name': 'common_datasets.glass_0_6_vs_5'},\n",
    "                'folding': {'n_folds': 6, 'n_repeats': 1, 'strategy': 'stratified_sklearn'}}\n",
    "experiment = {'evaluations': [evaluation0, evaluation1, evaluation2]}\n",
    "scores = {'acc': 0.541, 'sens': 0.32, 'spec': 0.728, 'bacc': 0.524}"
   ]
  },
  {
   "cell_type": "code",
   "execution_count": 3,
   "metadata": {},
   "outputs": [
    {
     "name": "stdout",
     "output_type": "stream",
     "text": [
      "Welcome to the CBC MILP Solver \n",
      "Version: 2.10.3 \n",
      "Build Date: Dec 15 2019 \n",
      "\n",
      "command line - /home/gykovacs/anaconda3/envs/mlscorecheck/lib/python3.10/site-packages/pulp/solverdir/cbc/linux/64/cbc /tmp/7dd6acc88c014ecca4b5bcb76d322afa-pulp.mps timeMode elapsed branch printingOptions all solution /tmp/7dd6acc88c014ecca4b5bcb76d322afa-pulp.sol (default strategy 1)\n",
      "At line 2 NAME          MODEL\n",
      "At line 3 ROWS\n",
      "At line 13 COLUMNS\n",
      "At line 191 RHS\n",
      "At line 200 BOUNDS\n",
      "At line 224 ENDATA\n",
      "Problem MODEL has 8 rows, 23 columns and 132 elements\n",
      "Coin0008I MODEL read with 0 errors\n",
      "Option for timeMode changed from cpu to elapsed\n",
      "Continuous objective value is 0 - 0.00 seconds\n",
      "Cgl0004I processed model has 4 rows, 10 columns (10 integer (0 of which binary)) and 30 elements\n",
      "Cbc0012I Integer solution of 0 found by DiveCoefficient after 3 iterations and 0 nodes (0.01 seconds)\n",
      "Cbc0031I 3 added rows had average density of 8\n",
      "Cbc0013I At root node, 3 cuts changed objective from 0 to 0 in 4 passes\n",
      "Cbc0014I Cut generator 0 (Probing) - 0 row cuts average 0.0 elements, 0 column cuts (0 active)  in 0.000 seconds - new frequency is -100\n",
      "Cbc0014I Cut generator 1 (Gomory) - 5 row cuts average 8.4 elements, 0 column cuts (0 active)  in 0.000 seconds - new frequency is -100\n",
      "Cbc0014I Cut generator 2 (Knapsack) - 0 row cuts average 0.0 elements, 0 column cuts (0 active)  in 0.000 seconds - new frequency is -100\n",
      "Cbc0014I Cut generator 3 (Clique) - 0 row cuts average 0.0 elements, 0 column cuts (0 active)  in 0.000 seconds - new frequency is -100\n",
      "Cbc0014I Cut generator 4 (MixedIntegerRounding2) - 0 row cuts average 0.0 elements, 0 column cuts (0 active)  in 0.000 seconds - new frequency is -100\n",
      "Cbc0014I Cut generator 5 (FlowCover) - 0 row cuts average 0.0 elements, 0 column cuts (0 active)  in 0.000 seconds - new frequency is -100\n",
      "Cbc0014I Cut generator 6 (TwoMirCuts) - 5 row cuts average 8.4 elements, 0 column cuts (0 active)  in 0.000 seconds - new frequency is -100\n",
      "Cbc0001I Search completed - best objective 0, took 3 iterations and 0 nodes (0.01 seconds)\n",
      "Cbc0035I Maximum depth 0, 0 variables fixed on reduced cost\n",
      "Cuts at root node changed objective from 0 to 0\n",
      "Probing was tried 4 times and created 0 cuts of which 0 were active after adding rounds of cuts (0.000 seconds)\n",
      "Gomory was tried 4 times and created 5 cuts of which 0 were active after adding rounds of cuts (0.000 seconds)\n",
      "Knapsack was tried 4 times and created 0 cuts of which 0 were active after adding rounds of cuts (0.000 seconds)\n",
      "Clique was tried 4 times and created 0 cuts of which 0 were active after adding rounds of cuts (0.000 seconds)\n",
      "MixedIntegerRounding2 was tried 4 times and created 0 cuts of which 0 were active after adding rounds of cuts (0.000 seconds)\n",
      "FlowCover was tried 4 times and created 0 cuts of which 0 were active after adding rounds of cuts (0.000 seconds)\n",
      "TwoMirCuts was tried 4 times and created 5 cuts of which 0 were active after adding rounds of cuts (0.000 seconds)\n",
      "ZeroHalf was tried 1 times and created 0 cuts of which 0 were active after adding rounds of cuts (0.000 seconds)\n",
      "\n",
      "Result - Optimal solution found\n",
      "\n",
      "Objective value:                0.00000000\n",
      "Enumerated nodes:               0\n",
      "Total iterations:               3\n",
      "Time (CPU seconds):             0.00\n",
      "Time (Wallclock seconds):       0.01\n",
      "\n",
      "Option for printingOptions changed from normal to all\n",
      "Total time (CPU seconds):       0.01   (Wallclock seconds):       0.01\n",
      "\n"
     ]
    },
    {
     "data": {
      "text/plain": [
       "False"
      ]
     },
     "execution_count": 3,
     "metadata": {},
     "output_type": "execute_result"
    }
   ],
   "source": [
    "result = check_n_datasets_mor_known_folds_mor_scores(experiment=experiment,\n",
    "                                                        scores=scores,\n",
    "                                                        eps=1e-3)\n",
    "result['inconsistency']"
   ]
  },
  {
   "cell_type": "code",
   "execution_count": 8,
   "metadata": {},
   "outputs": [],
   "source": [
    "evaluation0 = {'dataset': {'dataset_name': 'common_datasets.ecoli_0_2_3_4_vs_5'},\n",
    "                'folding': {'n_folds': 4, 'n_repeats': 3, 'strategy': 'stratified_sklearn'}}\n",
    "evaluation1 = {'dataset': {'p': 355, 'n': 438},\n",
    "                'folding': {'n_folds': 1, 'n_repeats': 3}}\n",
    "experiment = {'evaluations': [evaluation0, evaluation1],\n",
    "                'dataset_score_bounds': {'sens': (0.8, 1.0)}}\n",
    "scores = {'acc': 0.532, 'sens': 0.417, 'spec': 0.622, 'bacc': 0.519}"
   ]
  },
  {
   "cell_type": "code",
   "execution_count": 9,
   "metadata": {},
   "outputs": [
    {
     "name": "stderr",
     "output_type": "stream",
     "text": [
      "2023-09-16 12:44:29,427:INFO:common_datasets.ecoli_0_2_3_4_vs_5_egf: adding lower bound 0.8 for sens\n",
      "2023-09-16 12:44:29,430:INFO:common_datasets.ecoli_0_2_3_4_vs_5_egf: adding upper bound 1.0 for sens\n",
      "2023-09-16 12:44:29,433:INFO:fejxq: adding lower bound 0.8 for sens\n",
      "2023-09-16 12:44:29,435:INFO:fejxq: adding upper bound 1.0 for sens\n"
     ]
    },
    {
     "name": "stdout",
     "output_type": "stream",
     "text": [
      "Welcome to the CBC MILP Solver \n",
      "Version: 2.10.3 \n",
      "Build Date: Dec 15 2019 \n",
      "\n",
      "command line - /home/gykovacs/anaconda3/envs/mlscorecheck/lib/python3.10/site-packages/pulp/solverdir/cbc/linux/64/cbc /tmp/dfe82ad31f9e41aab67f6471a71dc028-pulp.mps timeMode elapsed branch printingOptions all solution /tmp/dfe82ad31f9e41aab67f6471a71dc028-pulp.sol (default strategy 1)\n",
      "At line 2 NAME          MODEL\n",
      "At line 3 ROWS\n",
      "At line 17 COLUMNS\n",
      "At line 289 RHS\n",
      "At line 302 BOUNDS\n",
      "At line 334 ENDATA\n",
      "Problem MODEL has 12 rows, 31 columns and 210 elements\n",
      "Coin0008I MODEL read with 0 errors\n",
      "Option for timeMode changed from cpu to elapsed\n",
      "Problem is infeasible - 0.00 seconds\n",
      "Option for printingOptions changed from normal to all\n",
      "Total time (CPU seconds):       0.00   (Wallclock seconds):       0.00\n",
      "\n"
     ]
    },
    {
     "data": {
      "text/plain": [
       "True"
      ]
     },
     "execution_count": 9,
     "metadata": {},
     "output_type": "execute_result"
    }
   ],
   "source": [
    "result = check_n_datasets_mor_known_folds_mor_scores(experiment=experiment,\n",
    "                                                    scores=scores,\n",
    "                                                    eps=1e-3)\n",
    "result['inconsistency']"
   ]
  }
 ],
 "metadata": {
  "kernelspec": {
   "display_name": "mlscorecheck",
   "language": "python",
   "name": "python3"
  },
  "language_info": {
   "codemirror_mode": {
    "name": "ipython",
    "version": 3
   },
   "file_extension": ".py",
   "mimetype": "text/x-python",
   "name": "python",
   "nbconvert_exporter": "python",
   "pygments_lexer": "ipython3",
   "version": "3.10.0"
  },
  "orig_nbformat": 4
 },
 "nbformat": 4,
 "nbformat_minor": 2
}
