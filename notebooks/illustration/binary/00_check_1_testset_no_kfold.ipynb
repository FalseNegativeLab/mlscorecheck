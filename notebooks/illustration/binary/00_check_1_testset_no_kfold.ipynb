{
 "cells": [
  {
   "cell_type": "code",
   "execution_count": 1,
   "metadata": {},
   "outputs": [],
   "source": [
    "from mlscorecheck.check.binary import check_1_testset_no_kfold\n",
    "from mlscorecheck.individual import generate_problem_and_scores"
   ]
  },
  {
   "cell_type": "code",
   "execution_count": 2,
   "metadata": {},
   "outputs": [
    {
     "name": "stderr",
     "output_type": "stream",
     "text": [
      "2023-11-03 06:29:16,066:INFO:Use this function if the scores originate from the tp and tn statistics calculated on one test set with no aggregation of any kind.\n",
      "2023-11-03 06:29:16,068:INFO:calling the score check with scores {'acc': 0.62, 'sens': 0.22, 'spec': 0.86, 'f1p': 0.3, 'fm': 0.32}, uncertainty 0.01, p 530 and n 902\n",
      "2023-11-03 06:29:16,069:INFO:checking the scores {'acc': 0.62, 'sens': 0.22, 'spec': 0.86, 'f1p': 0.3, 'fm': 0.32}\n",
      "2023-11-03 06:29:16,070:INFO:evaluating the tp and tn solution for acc and sens\n",
      "2023-11-03 06:29:16,072:INFO:intervals before: (0, 530), (0, 902)\n",
      "2023-11-03 06:29:16,072:INFO:the tp solutions: (111.29894, 121.90106)\n",
      "2023-11-03 06:29:16,073:INFO:the tn solutions: (751.6160759999999, 790.8639240000001)\n",
      "2023-11-03 06:29:16,075:INFO:intervals after: [(112, 121)], [(752, 790)]\n",
      "2023-11-03 06:29:16,076:INFO:evaluating the tp and tn solution for acc and spec\n",
      "2023-11-03 06:29:16,077:INFO:intervals before: [(112, 121)], [(752, 790)]\n",
      "2023-11-03 06:29:16,078:INFO:the tp solutions: (88.77533199999993, 135.4646680000002)\n",
      "2023-11-03 06:29:16,079:INFO:the tn solutions: (766.6981959999999, 784.741804)\n",
      "2023-11-03 06:29:16,080:INFO:intervals after: [(112, 121)], [(767, 784)]\n",
      "2023-11-03 06:29:16,081:INFO:evaluating the tp and tn solution for acc and f1p\n",
      "2023-11-03 06:29:16,083:INFO:intervals before: [(112, 121)], [(767, 784)]\n",
      "2023-11-03 06:29:16,084:INFO:the tp solutions: (108.20512460931658, 125.45746857652338)\n",
      "2023-11-03 06:29:16,084:INFO:the tn solutions: (720.729741489652, 822.9954069390577)\n",
      "2023-11-03 06:29:16,085:INFO:intervals after: [(112, 121)], [(767, 784)]\n",
      "2023-11-03 06:29:16,090:INFO:evaluating the tp and tn solution for acc and fm\n",
      "2023-11-03 06:29:16,092:INFO:intervals before: [(112, 121)], [(767, 784)]\n",
      "2023-11-03 06:29:16,094:INFO:the tp solutions: (-16.316815204318672, 3.5854769758786067) | (101.7831884021151, 128.25349360431866)\n",
      "2023-11-03 06:29:16,095:INFO:the tn solutions: (745.2636423956811, 800.379675597885) | (866.6502819978749, 921.7663152000788)\n",
      "2023-11-03 06:29:16,096:INFO:intervals after: [(112, 121)], [(767, 784)]\n",
      "2023-11-03 06:29:16,097:INFO:evaluating the tp and tn solution for sens and spec\n",
      "2023-11-03 06:29:16,098:INFO:intervals before: [(112, 121)], [(767, 784)]\n",
      "2023-11-03 06:29:16,099:INFO:the tp solutions: (111.29894, 121.90106)\n",
      "2023-11-03 06:29:16,100:INFO:the tn solutions: (766.6981959999999, 784.741804)\n",
      "2023-11-03 06:29:16,101:INFO:intervals after: [(112, 121)], [(767, 784)]\n",
      "2023-11-03 06:29:16,102:INFO:evaluating the tp and tn solution for sens and f1p\n",
      "2023-11-03 06:29:16,103:INFO:intervals before: [(112, 121)], [(767, 784)]\n",
      "2023-11-03 06:29:16,104:INFO:the tp solutions: (111.29894, 121.90106)\n",
      "2023-11-03 06:29:16,105:INFO:the tn solutions: (657.2586176931766, 893.5046324530509)\n",
      "2023-11-03 06:29:16,106:INFO:intervals after: [(112, 121)], [(767, 784)]\n",
      "2023-11-03 06:29:16,107:INFO:evaluating the tp and tn solution for sens and fm\n",
      "2023-11-03 06:29:16,114:INFO:intervals before: [(112, 121)], [(767, 784)]\n",
      "2023-11-03 06:29:16,115:INFO:the tp solutions: (111.29894, 121.90106)\n",
      "2023-11-03 06:29:16,116:INFO:the tn solutions: (636.7166535970434, 917.0942703288408)\n",
      "2023-11-03 06:29:16,117:INFO:intervals after: [(112, 121)], [(767, 784)]\n",
      "2023-11-03 06:29:16,118:INFO:evaluating the tp and tn solution for spec and f1p\n",
      "2023-11-03 06:29:16,119:INFO:intervals before: [(112, 121)], [(767, 784)]\n",
      "2023-11-03 06:29:16,120:INFO:the tp solutions: (109.76804841374923, 122.0385407814731)\n",
      "2023-11-03 06:29:16,121:INFO:the tn solutions: (766.6981959999999, 784.741804)\n",
      "2023-11-03 06:29:16,123:INFO:intervals after: [(112, 121)], [(767, 784)]\n",
      "2023-11-03 06:29:16,123:INFO:evaluating the tp and tn solution for spec and fm\n",
      "2023-11-03 06:29:16,125:INFO:intervals before: [(112, 121)], [(767, 784)]\n",
      "2023-11-03 06:29:16,127:INFO:the tp solutions: (-65.8536328094769, -54.25856650052427) | (106.83422730052428, 121.82197200947691)\n",
      "2023-11-03 06:29:16,128:INFO:the tn solutions: (766.6981959999999, 784.741804)\n",
      "2023-11-03 06:29:16,129:INFO:intervals after: [(112, 121)], [(767, 784)]\n",
      "2023-11-03 06:29:16,130:INFO:evaluating the tp and tn solution for f1p and fm\n",
      "2023-11-03 06:29:16,133:INFO:intervals before: [(112, 121)], [(767, 784)]\n",
      "2023-11-03 06:29:16,134:INFO:the tp solutions: (80.82924045095699, 294.0107283921828)\n",
      "2023-11-03 06:29:16,135:INFO:the tn solutions: (-420.04420024360695, 1292.9374484676016)\n",
      "2023-11-03 06:29:16,136:INFO:intervals after: [(112, 121)], [(767, 784)]\n",
      "2023-11-03 06:29:16,137:INFO:testing acc, feasible tptn pairs: 10\n",
      "2023-11-03 06:29:16,139:INFO:testing sens, feasible tptn pairs: 10\n",
      "2023-11-03 06:29:16,140:INFO:testing spec, feasible tptn pairs: 10\n",
      "2023-11-03 06:29:16,148:INFO:testing f1p, feasible tptn pairs: 10\n",
      "2023-11-03 06:29:16,150:INFO:testing fm, feasible tptn pairs: 10\n",
      "2023-11-03 06:29:16,152:INFO:constructing final tp, tn pair set\n",
      "2023-11-03 06:29:16,154:INFO:final number of intervals: 10\n",
      "2023-11-03 06:29:16,155:INFO:final number of pairs: 130\n"
     ]
    },
    {
     "data": {
      "text/plain": [
       "False"
      ]
     },
     "execution_count": 2,
     "metadata": {},
     "output_type": "execute_result"
    }
   ],
   "source": [
    "testset = {'p': 530, 'n': 902}\n",
    "scores = {'acc': 0.62, 'sens': 0.22, 'spec': 0.86, 'f1p': 0.3, 'fm': 0.32}\n",
    "\n",
    "result = check_1_testset_no_kfold(testset=testset,\n",
    "                                    scores=scores,\n",
    "                                    eps=1e-2)\n",
    "result['inconsistency']"
   ]
  },
  {
   "cell_type": "code",
   "execution_count": 3,
   "metadata": {},
   "outputs": [
    {
     "name": "stderr",
     "output_type": "stream",
     "text": [
      "2023-11-03 06:29:16,176:INFO:Use this function if the scores originate from the tp and tn statistics calculated on one test set with no aggregation of any kind.\n",
      "2023-11-03 06:29:16,179:INFO:calling the score check with scores {'acc': 0.92, 'sens': 0.22, 'spec': 0.86, 'f1p': 0.3, 'fm': 0.32}, uncertainty 0.01, p 530 and n 902\n",
      "2023-11-03 06:29:16,180:INFO:checking the scores {'acc': 0.92, 'sens': 0.22, 'spec': 0.86, 'f1p': 0.3, 'fm': 0.32}\n",
      "2023-11-03 06:29:16,182:INFO:evaluating the tp and tn solution for acc and sens\n",
      "2023-11-03 06:29:16,183:INFO:intervals before: (0, 530), (0, 902)\n",
      "2023-11-03 06:29:16,184:INFO:the tp solutions: (111.29894, 121.90106)\n",
      "2023-11-03 06:29:16,185:INFO:the tn solutions: (1181.216076, 1220.4639240000004)\n",
      "2023-11-03 06:29:16,187:INFO:intervals after: [(112, 121)], []\n",
      "2023-11-03 06:29:16,188:INFO:evaluating the tp and tn solution for acc and spec\n",
      "2023-11-03 06:29:16,190:INFO:intervals before: [(112, 121)], []\n",
      "2023-11-03 06:29:16,191:INFO:the tp solutions: (518.3753319999998, 565.0646680000003)\n",
      "2023-11-03 06:29:16,192:INFO:the tn solutions: (766.6981959999999, 784.741804)\n",
      "2023-11-03 06:29:16,194:INFO:intervals after: [], []\n",
      "2023-11-03 06:29:16,196:INFO:evaluating the tp and tn solution for acc and f1p\n",
      "2023-11-03 06:29:16,198:INFO:intervals before: [], []\n",
      "2023-11-03 06:29:16,200:INFO:the tp solutions: (20.470765551173063, 28.952218416378013)\n",
      "2023-11-03 06:29:16,201:INFO:the tn solutions: (1232.0122032291965, 1355.3280073234066)\n",
      "2023-11-03 06:29:16,202:INFO:intervals after: [], []\n",
      "2023-11-03 06:29:16,203:INFO:evaluating the tp and tn solution for acc and fm\n",
      "2023-11-03 06:29:16,205:INFO:all negative bases - iteration finished\n",
      "2023-11-03 06:29:16,206:INFO:testing acc, feasible tptn pairs: 0\n",
      "2023-11-03 06:29:16,207:INFO:no more feasible tp,tn pairs left\n",
      "2023-11-03 06:29:16,208:INFO:constructing final tp, tn pair set\n",
      "2023-11-03 06:29:16,209:INFO:final number of intervals: 0\n",
      "2023-11-03 06:29:16,210:INFO:final number of pairs: 0\n"
     ]
    },
    {
     "data": {
      "text/plain": [
       "True"
      ]
     },
     "execution_count": 3,
     "metadata": {},
     "output_type": "execute_result"
    }
   ],
   "source": [
    "testset = {'p': 530, 'n': 902}\n",
    "scores = {'acc': 0.92, 'sens': 0.22, 'spec': 0.86, 'f1p': 0.3, 'fm': 0.32}\n",
    "\n",
    "result = check_1_testset_no_kfold(testset=testset,\n",
    "                                    scores=scores,\n",
    "                                    eps=1e-2)\n",
    "result['inconsistency']"
   ]
  },
  {
   "cell_type": "code",
   "execution_count": 4,
   "metadata": {},
   "outputs": [
    {
     "name": "stderr",
     "output_type": "stream",
     "text": [
      "2023-11-03 06:29:16,234:INFO:Use this function if the scores originate from the tp and tn statistics calculated on one test set with no aggregation of any kind.\n",
      "2023-11-03 06:29:16,236:INFO:calling the score check with scores {'acc': 0.954, 'sens': 0.934, 'spec': 0.985, 'ppv': 0.901}, uncertainty 0.001, p 1029 and n 3118\n",
      "2023-11-03 06:29:16,238:INFO:checking the scores {'acc': 0.954, 'sens': 0.934, 'spec': 0.985, 'ppv': 0.901}\n",
      "2023-11-03 06:29:16,240:INFO:evaluating the tp and tn solution for acc and sens\n",
      "2023-11-03 06:29:16,242:INFO:intervals before: (0, 1029), (0, 3118)\n",
      "2023-11-03 06:29:16,243:INFO:the tp solutions: (960.054942, 962.1170580000002)\n",
      "2023-11-03 06:29:16,244:INFO:the tn solutions: (2989.965647999999, 3000.3383520000007)\n",
      "2023-11-03 06:29:16,246:INFO:intervals after: [(961, 962)], [(2990, 3000)]\n",
      "2023-11-03 06:29:16,248:INFO:evaluating the tp and tn solution for acc and spec\n",
      "2023-11-03 06:29:16,249:INFO:intervals before: [(961, 962)], [(2990, 3000)]\n",
      "2023-11-03 06:29:16,250:INFO:the tp solutions: (877.7284699999991, 892.2875300000005)\n",
      "2023-11-03 06:29:16,252:INFO:the tn solutions: (3068.105764, 3074.354236)\n",
      "2023-11-03 06:29:16,254:INFO:intervals after: [], []\n",
      "2023-11-03 06:29:16,255:INFO:evaluating the tp and tn solution for acc and ppv\n",
      "2023-11-03 06:29:16,257:INFO:intervals before: [], []\n",
      "2023-11-03 06:29:16,258:INFO:the tp solutions: (933.6679509487356, 949.8052939947056)\n",
      "2023-11-03 06:29:16,259:INFO:the tn solutions: (2988.3769250334417, 3040.8179565580203)\n",
      "2023-11-03 06:29:16,262:INFO:intervals after: [], []\n",
      "2023-11-03 06:29:16,264:INFO:evaluating the tp and tn solution for sens and spec\n",
      "2023-11-03 06:29:16,265:INFO:intervals before: [], []\n",
      "2023-11-03 06:29:16,266:INFO:the tp solutions: (960.054942, 962.1170580000002)\n",
      "2023-11-03 06:29:16,268:INFO:the tn solutions: (3068.105764, 3074.354236)\n",
      "2023-11-03 06:29:16,270:INFO:intervals after: [], []\n",
      "2023-11-03 06:29:16,271:INFO:evaluating the tp and tn solution for sens and ppv\n",
      "2023-11-03 06:29:16,273:INFO:intervals before: [], []\n",
      "2023-11-03 06:29:16,274:INFO:the tp solutions: (960.054942, 962.1170580000002)\n",
      "2023-11-03 06:29:16,275:INFO:the tn solutions: (3002.3483691722586, 3022.4720549935846)\n",
      "2023-11-03 06:29:16,276:INFO:intervals after: [], []\n",
      "2023-11-03 06:29:16,277:INFO:evaluating the tp and tn solution for spec and ppv\n",
      "2023-11-03 06:29:16,279:INFO:intervals before: [], []\n",
      "2023-11-03 06:29:16,280:INFO:the tp solutions: (392.8031470217782, 459.241011658118)\n",
      "2023-11-03 06:29:16,281:INFO:the tn solutions: (3068.105764, 3074.354236)\n",
      "2023-11-03 06:29:16,283:INFO:intervals after: [], []\n",
      "2023-11-03 06:29:16,284:INFO:testing acc, feasible tptn pairs: 0\n",
      "2023-11-03 06:29:16,285:INFO:no more feasible tp,tn pairs left\n",
      "2023-11-03 06:29:16,286:INFO:constructing final tp, tn pair set\n",
      "2023-11-03 06:29:16,286:INFO:final number of intervals: 0\n",
      "2023-11-03 06:29:16,287:INFO:final number of pairs: 0\n"
     ]
    },
    {
     "data": {
      "text/plain": [
       "True"
      ]
     },
     "execution_count": 4,
     "metadata": {},
     "output_type": "execute_result"
    }
   ],
   "source": [
    "result = check_1_testset_no_kfold(\n",
    "            scores={'acc': 0.954, 'sens': 0.934, 'spec': 0.985, 'ppv': 0.901},\n",
    "            eps=1e-3,\n",
    "            testset={'name': 'common_datasets.ADA'}\n",
    "        )\n",
    "result['inconsistency']"
   ]
  },
  {
   "cell_type": "code",
   "execution_count": 5,
   "metadata": {},
   "outputs": [
    {
     "data": {
      "text/plain": [
       "({'p': 80, 'n': 257},\n",
       " {'acc': 0.65, 'sens': 0.54, 'spec': 0.68, 'f1p': 0.42, 'fm': 0.43})"
      ]
     },
     "execution_count": 5,
     "metadata": {},
     "output_type": "execute_result"
    }
   ],
   "source": [
    "problem, scores = generate_problem_and_scores(rounding_decimals=2,\n",
    "                                            score_subset=['acc', 'sens', 'spec',\n",
    "                                                            'f1p', 'fm'])\n",
    "problem, scores"
   ]
  },
  {
   "cell_type": "code",
   "execution_count": 6,
   "metadata": {},
   "outputs": [
    {
     "name": "stderr",
     "output_type": "stream",
     "text": [
      "2023-11-03 06:29:16,337:INFO:Use this function if the scores originate from the tp and tn statistics calculated on one test set with no aggregation of any kind.\n",
      "2023-11-03 06:29:16,339:INFO:calling the score check with scores {'acc': 0.65, 'sens': 0.54, 'spec': 0.68, 'f1p': 0.42, 'fm': 0.43}, uncertainty 0.01, p 80 and n 257\n",
      "2023-11-03 06:29:16,340:INFO:checking the scores {'acc': 0.65, 'sens': 0.54, 'spec': 0.68, 'f1p': 0.42, 'fm': 0.43}\n",
      "2023-11-03 06:29:16,341:INFO:evaluating the tp and tn solution for acc and sens\n",
      "2023-11-03 06:29:16,343:INFO:intervals before: (0, 80), (0, 257)\n",
      "2023-11-03 06:29:16,344:INFO:the tp solutions: (42.39984, 44.00016000000001)\n",
      "2023-11-03 06:29:16,350:INFO:the tn solutions: (171.67916599999995, 180.02083400000004)\n",
      "2023-11-03 06:29:16,351:INFO:intervals after: [(43, 44)], [(172, 180)]\n",
      "2023-11-03 06:29:16,353:INFO:evaluating the tp and tn solution for acc and spec\n",
      "2023-11-03 06:29:16,355:INFO:intervals before: [(43, 44)], [(172, 180)]\n",
      "2023-11-03 06:29:16,357:INFO:the tp solutions: (38.34881199999995, 50.23118800000003)\n",
      "2023-11-03 06:29:16,358:INFO:the tn solutions: (172.189486, 177.33051400000002)\n",
      "2023-11-03 06:29:16,362:INFO:intervals after: [(43, 44)], [(173, 177)]\n",
      "2023-11-03 06:29:16,364:INFO:evaluating the tp and tn solution for acc and f1p\n",
      "2023-11-03 06:29:16,366:INFO:intervals before: [(43, 44)], [(173, 177)]\n",
      "2023-11-03 06:29:16,367:INFO:the tp solutions: (39.81113157357772, 45.76168027023603)\n",
      "2023-11-03 06:29:16,369:INFO:the tn solutions: (161.69999706666417, 191.4427153241345)\n",
      "2023-11-03 06:29:16,370:INFO:intervals after: [(43, 44)], [(173, 177)]\n",
      "2023-11-03 06:29:16,372:INFO:evaluating the tp and tn solution for acc and fm\n",
      "2023-11-03 06:29:16,375:INFO:intervals before: [(43, 44)], [(173, 177)]\n",
      "2023-11-03 06:29:16,377:INFO:the tp solutions: (-14.87848661500831, -11.429044835794995) | (40.324907235794996, 45.15062421500831)\n",
      "2023-11-03 06:29:16,379:INFO:the tn solutions: (170.52870178499165, 182.095766764205) | (226.404226835155, 237.97129181436833)\n",
      "2023-11-03 06:29:16,380:INFO:intervals after: [(43, 44)], [(173, 177)]\n",
      "2023-11-03 06:29:16,381:INFO:evaluating the tp and tn solution for sens and spec\n",
      "2023-11-03 06:29:16,383:INFO:intervals before: [(43, 44)], [(173, 177)]\n",
      "2023-11-03 06:29:16,384:INFO:the tp solutions: (42.39984, 44.00016000000001)\n",
      "2023-11-03 06:29:16,385:INFO:the tn solutions: (172.189486, 177.33051400000002)\n",
      "2023-11-03 06:29:16,393:INFO:intervals after: [(43, 44)], [(173, 177)]\n",
      "2023-11-03 06:29:16,395:INFO:evaluating the tp and tn solution for sens and f1p\n",
      "2023-11-03 06:29:16,397:INFO:intervals before: [(43, 44)], [(173, 177)]\n",
      "2023-11-03 06:29:16,400:INFO:the tp solutions: (42.39984, 44.00016000000001)\n",
      "2023-11-03 06:29:16,401:INFO:the tn solutions: (157.09893349407676, 192.75984468294968)\n",
      "2023-11-03 06:29:16,402:INFO:intervals after: [(43, 44)], [(173, 177)]\n",
      "2023-11-03 06:29:16,405:INFO:evaluating the tp and tn solution for sens and fm\n",
      "2023-11-03 06:29:16,407:INFO:intervals before: [(43, 44)], [(173, 177)]\n",
      "2023-11-03 06:29:16,408:INFO:the tp solutions: (42.39984, 44.00016000000001)\n",
      "2023-11-03 06:29:16,411:INFO:the tn solutions: (147.7954166561049, 202.96298930938647)\n",
      "2023-11-03 06:29:16,412:INFO:intervals after: [(43, 44)], [(173, 177)]\n",
      "2023-11-03 06:29:16,414:INFO:evaluating the tp and tn solution for spec and f1p\n",
      "2023-11-03 06:29:16,415:INFO:intervals before: [(43, 44)], [(173, 177)]\n",
      "2023-11-03 06:29:16,417:INFO:the tp solutions: (41.17238212343633, 45.13945281524434)\n",
      "2023-11-03 06:29:16,418:INFO:the tn solutions: (172.189486, 177.33051400000002)\n",
      "2023-11-03 06:29:16,419:INFO:intervals after: [(43, 44)], [(173, 177)]\n",
      "2023-11-03 06:29:16,420:INFO:evaluating the tp and tn solution for spec and fm\n",
      "2023-11-03 06:29:16,421:INFO:intervals before: [(43, 44)], [(173, 177)]\n",
      "2023-11-03 06:29:16,422:INFO:the tp solutions: (-29.669137693676408, -26.872724954638574) | (41.32065615463858, 44.80520649367641)\n",
      "2023-11-03 06:29:16,424:INFO:the tn solutions: (172.189486, 177.33051400000002)\n",
      "2023-11-03 06:29:16,425:INFO:intervals after: [(43, 44)], [(173, 177)]\n",
      "2023-11-03 06:29:16,427:INFO:evaluating the tp and tn solution for f1p and fm\n",
      "2023-11-03 06:29:16,430:INFO:intervals before: [(43, 44)], [(173, 177)]\n",
      "2023-11-03 06:29:16,432:INFO:the tp solutions: (20.339541998791276, 51.48691044561233)\n",
      "2023-11-03 06:29:16,433:INFO:the tn solutions: (109.3333440897702, 309.2883177266594)\n",
      "2023-11-03 06:29:16,435:INFO:intervals after: [(43, 44)], [(173, 177)]\n",
      "2023-11-03 06:29:16,436:INFO:testing acc, feasible tptn pairs: 2\n",
      "2023-11-03 06:29:16,437:INFO:testing sens, feasible tptn pairs: 2\n",
      "2023-11-03 06:29:16,439:INFO:testing spec, feasible tptn pairs: 2\n",
      "2023-11-03 06:29:16,440:INFO:testing f1p, feasible tptn pairs: 2\n",
      "2023-11-03 06:29:16,441:INFO:testing fm, feasible tptn pairs: 2\n",
      "2023-11-03 06:29:16,443:INFO:constructing final tp, tn pair set\n",
      "2023-11-03 06:29:16,444:INFO:final number of intervals: 2\n",
      "2023-11-03 06:29:16,445:INFO:final number of pairs: 9\n"
     ]
    }
   ],
   "source": [
    "result = check_1_testset_no_kfold(scores=scores,\n",
    "                                    eps=1e-2,\n",
    "                                    testset=problem)"
   ]
  }
 ],
 "metadata": {
  "kernelspec": {
   "display_name": "mlscorecheck",
   "language": "python",
   "name": "python3"
  },
  "language_info": {
   "codemirror_mode": {
    "name": "ipython",
    "version": 3
   },
   "file_extension": ".py",
   "mimetype": "text/x-python",
   "name": "python",
   "nbconvert_exporter": "python",
   "pygments_lexer": "ipython3",
   "version": "3.10.0"
  },
  "orig_nbformat": 4
 },
 "nbformat": 4,
 "nbformat_minor": 2
}
