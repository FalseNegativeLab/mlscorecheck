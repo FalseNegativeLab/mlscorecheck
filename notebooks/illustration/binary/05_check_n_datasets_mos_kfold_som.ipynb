{
 "cells": [
  {
   "cell_type": "code",
   "execution_count": 1,
   "metadata": {},
   "outputs": [],
   "source": [
    "from mlscorecheck.check.binary import check_n_datasets_mos_kfold_som\n",
    "from mlscorecheck.aggregated import Experiment"
   ]
  },
  {
   "cell_type": "code",
   "execution_count": 2,
   "metadata": {},
   "outputs": [
    {
     "name": "stderr",
     "output_type": "stream",
     "text": [
      "2023-11-03 07:28:07,181:INFO:fgryy: adding lower bound 0.0 for acc\n",
      "2023-11-03 07:28:07,183:INFO:fgryy: adding upper bound 0.5 for acc\n",
      "2023-11-03 07:28:07,184:INFO:common_datasets.winequality-white-3_vs_7_qiy: adding lower bound 0.0 for acc\n",
      "2023-11-03 07:28:07,185:INFO:common_datasets.winequality-white-3_vs_7_qiy: adding upper bound 0.5 for acc\n"
     ]
    },
    {
     "name": "stdout",
     "output_type": "stream",
     "text": [
      "Welcome to the CBC MILP Solver \n",
      "Version: 2.10.3 \n",
      "Build Date: Dec 15 2019 \n",
      "\n",
      "command line - /home/gykovacs/anaconda3/envs/mlscorecheck/lib/python3.10/site-packages/pulp/solverdir/cbc/linux/64/cbc /tmp/bc7cc1689f8943d4b7c2b4ee8e72ef0a-pulp.mps timeMode elapsed branch printingOptions all solution /tmp/bc7cc1689f8943d4b7c2b4ee8e72ef0a-pulp.sol (default strategy 1)\n",
      "At line 2 NAME          MODEL\n",
      "At line 3 ROWS\n",
      "At line 17 COLUMNS\n",
      "At line 59 RHS\n",
      "At line 72 BOUNDS\n",
      "At line 78 ENDATA\n",
      "Problem MODEL has 12 rows, 5 columns and 32 elements\n",
      "Coin0008I MODEL read with 0 errors\n",
      "Option for timeMode changed from cpu to elapsed\n",
      "Continuous objective value is 0 - 0.00 seconds\n",
      "Cgl0003I 0 fixed, 3 tightened bounds, 0 strengthened rows, 0 substitutions\n",
      "Cgl0003I 0 fixed, 5 tightened bounds, 0 strengthened rows, 0 substitutions\n",
      "Cgl0003I 0 fixed, 3 tightened bounds, 0 strengthened rows, 0 substitutions\n",
      "Cgl0003I 0 fixed, 4 tightened bounds, 0 strengthened rows, 0 substitutions\n",
      "Cgl0003I 0 fixed, 3 tightened bounds, 0 strengthened rows, 0 substitutions\n",
      "Cgl0003I 0 fixed, 5 tightened bounds, 0 strengthened rows, 0 substitutions\n",
      "Cgl0003I 0 fixed, 3 tightened bounds, 0 strengthened rows, 0 substitutions\n",
      "Cgl0003I 0 fixed, 5 tightened bounds, 0 strengthened rows, 0 substitutions\n",
      "Cgl0003I 0 fixed, 3 tightened bounds, 0 strengthened rows, 0 substitutions\n",
      "Cgl0004I processed model has 6 rows, 4 columns (4 integer (0 of which binary)) and 16 elements\n",
      "Cbc0012I Integer solution of 0 found by DiveCoefficient after 0 iterations and 0 nodes (0.00 seconds)\n",
      "Cbc0001I Search completed - best objective 0, took 0 iterations and 0 nodes (0.00 seconds)\n",
      "Cbc0035I Maximum depth 0, 0 variables fixed on reduced cost\n",
      "Cuts at root node changed objective from 0 to 0\n",
      "Probing was tried 0 times and created 0 cuts of which 0 were active after adding rounds of cuts (0.000 seconds)\n",
      "Gomory was tried 0 times and created 0 cuts of which 0 were active after adding rounds of cuts (0.000 seconds)\n",
      "Knapsack was tried 0 times and created 0 cuts of which 0 were active after adding rounds of cuts (0.000 seconds)\n",
      "Clique was tried 0 times and created 0 cuts of which 0 were active after adding rounds of cuts (0.000 seconds)\n",
      "MixedIntegerRounding2 was tried 0 times and created 0 cuts of which 0 were active after adding rounds of cuts (0.000 seconds)\n",
      "FlowCover was tried 0 times and created 0 cuts of which 0 were active after adding rounds of cuts (0.000 seconds)\n",
      "TwoMirCuts was tried 0 times and created 0 cuts of which 0 were active after adding rounds of cuts (0.000 seconds)\n",
      "ZeroHalf was tried 0 times and created 0 cuts of which 0 were active after adding rounds of cuts (0.000 seconds)\n",
      "\n",
      "Result - Optimal solution found\n",
      "\n",
      "Objective value:                0.00000000\n",
      "Enumerated nodes:               0\n",
      "Total iterations:               0\n",
      "Time (CPU seconds):             0.00\n",
      "Time (Wallclock seconds):       0.00\n",
      "\n",
      "Option for printingOptions changed from normal to all\n",
      "Total time (CPU seconds):       0.00   (Wallclock seconds):       0.00\n",
      "\n"
     ]
    },
    {
     "data": {
      "text/plain": [
       "False"
      ]
     },
     "execution_count": 2,
     "metadata": {},
     "output_type": "execute_result"
    }
   ],
   "source": [
    "evaluation0 = {'dataset': {'p': 39, 'n': 822},\n",
    "                'folding': {'n_folds': 5, 'n_repeats': 3, 'strategy': 'stratified_sklearn'}}\n",
    "evaluation1 = {'dataset': {'dataset_name': 'common_datasets.winequality-white-3_vs_7'},\n",
    "                'folding': {'n_folds': 5, 'n_repeats': 3, 'strategy': 'stratified_sklearn'}}\n",
    "evaluations = [evaluation0, evaluation1]\n",
    "scores = {'acc': 0.312, 'sens': 0.45, 'spec': 0.312, 'bacc': 0.381}\n",
    "result = check_n_datasets_mos_kfold_som(evaluations=evaluations,\n",
    "                                        dataset_score_bounds={'acc': (0.0, 0.5)},\n",
    "                                        eps=1e-4,\n",
    "                                        scores=scores)\n",
    "result['inconsistency']\n"
   ]
  },
  {
   "cell_type": "code",
   "execution_count": 3,
   "metadata": {},
   "outputs": [
    {
     "name": "stderr",
     "output_type": "stream",
     "text": [
      "2023-11-03 07:28:07,220:INFO:jpqbm: adding lower bound 0.5 for acc\n",
      "2023-11-03 07:28:07,222:INFO:jpqbm: adding upper bound 1.0 for acc\n",
      "2023-11-03 07:28:07,223:INFO:common_datasets.winequality-white-3_vs_7_kpi: adding lower bound 0.5 for acc\n",
      "2023-11-03 07:28:07,225:INFO:common_datasets.winequality-white-3_vs_7_kpi: adding upper bound 1.0 for acc\n"
     ]
    },
    {
     "name": "stdout",
     "output_type": "stream",
     "text": [
      "Welcome to the CBC MILP Solver \n",
      "Version: 2.10.3 \n",
      "Build Date: Dec 15 2019 \n",
      "\n",
      "command line - /home/gykovacs/anaconda3/envs/mlscorecheck/lib/python3.10/site-packages/pulp/solverdir/cbc/linux/64/cbc /tmp/436d49cf8ae14bbf82c80ab3daeacf86-pulp.mps timeMode elapsed branch printingOptions all solution /tmp/436d49cf8ae14bbf82c80ab3daeacf86-pulp.sol (default strategy 1)\n",
      "At line 2 NAME          MODEL\n",
      "At line 3 ROWS\n",
      "At line 17 COLUMNS\n",
      "At line 59 RHS\n",
      "At line 72 BOUNDS\n",
      "At line 78 ENDATA\n",
      "Problem MODEL has 12 rows, 5 columns and 32 elements\n",
      "Coin0008I MODEL read with 0 errors\n",
      "Option for timeMode changed from cpu to elapsed\n",
      "Problem is infeasible - 0.00 seconds\n",
      "Option for printingOptions changed from normal to all\n",
      "Total time (CPU seconds):       0.00   (Wallclock seconds):       0.00\n",
      "\n"
     ]
    },
    {
     "data": {
      "text/plain": [
       "True"
      ]
     },
     "execution_count": 3,
     "metadata": {},
     "output_type": "execute_result"
    }
   ],
   "source": [
    "evaluation0 = {'dataset': {'p': 39, 'n': 822},\n",
    "                'folding': {'n_folds': 8, 'n_repeats': 4, 'strategy': 'stratified_sklearn'}}\n",
    "evaluation1 = {'dataset': {'dataset_name': 'common_datasets.winequality-white-3_vs_7'},\n",
    "                'folding': {'n_folds': 3, 'n_repeats': 3, 'strategy': 'stratified_sklearn'}}\n",
    "evaluations = [evaluation0, evaluation1]\n",
    "scores = {'acc': 0.412, 'sens': 0.45, 'spec': 0.312, 'bacc': 0.381}\n",
    "result = check_n_datasets_mos_kfold_som(evaluations=evaluations,\n",
    "                                        dataset_score_bounds={'acc': (0.5, 1.0)},\n",
    "                                        eps=1e-4,\n",
    "                                        scores=scores)\n",
    "result['inconsistency']\n"
   ]
  },
  {
   "cell_type": "code",
   "execution_count": 4,
   "metadata": {},
   "outputs": [],
   "source": [
    "evaluation0 = {'dataset': {'p': 184, 'n': 258},\n",
    "                'folding': {'folds': [{'p': 22, 'n': 90},\n",
    "                                        {'p': 51, 'n': 45},\n",
    "                                        {'p': 78, 'n': 34},\n",
    "                                        {'p': 33, 'n': 89}]}}\n",
    "evaluation1 = {'dataset': {'dataset_name': 'common_datasets.yeast-1-2-8-9_vs_7'},\n",
    "                'folding': {'n_folds': 8, 'n_repeats': 4, 'strategy': 'stratified_sklearn'}}\n",
    "evaluations = [evaluation0, evaluation1]\n",
    "scores = {'acc': 0.552, 'sens': 0.555, 'spec': 0.556, 'bacc': 0.555}"
   ]
  },
  {
   "cell_type": "code",
   "execution_count": 5,
   "metadata": {},
   "outputs": [
    {
     "name": "stdout",
     "output_type": "stream",
     "text": [
      "Welcome to the CBC MILP Solver \n",
      "Version: 2.10.3 \n",
      "Build Date: Dec 15 2019 \n",
      "\n",
      "command line - /home/gykovacs/anaconda3/envs/mlscorecheck/lib/python3.10/site-packages/pulp/solverdir/cbc/linux/64/cbc /tmp/3f430724d2a34971b4aa601c87567ea6-pulp.mps timeMode elapsed branch printingOptions all solution /tmp/3f430724d2a34971b4aa601c87567ea6-pulp.sol (default strategy 1)\n",
      "At line 2 NAME          MODEL\n",
      "At line 3 ROWS\n",
      "At line 13 COLUMNS\n",
      "At line 95 RHS\n",
      "At line 104 BOUNDS\n",
      "At line 116 ENDATA\n",
      "Problem MODEL has 8 rows, 11 columns and 60 elements\n",
      "Coin0008I MODEL read with 0 errors\n",
      "Option for timeMode changed from cpu to elapsed\n",
      "Problem is infeasible - 0.00 seconds\n",
      "Option for printingOptions changed from normal to all\n",
      "Total time (CPU seconds):       0.00   (Wallclock seconds):       0.00\n",
      "\n"
     ]
    },
    {
     "data": {
      "text/plain": [
       "True"
      ]
     },
     "execution_count": 5,
     "metadata": {},
     "output_type": "execute_result"
    }
   ],
   "source": [
    "result = check_n_datasets_mos_kfold_som(evaluations=evaluations,\n",
    "                                        eps=1e-4,\n",
    "                                        scores=scores)\n",
    "result['inconsistency']"
   ]
  }
 ],
 "metadata": {
  "kernelspec": {
   "display_name": "mlscorecheck",
   "language": "python",
   "name": "python3"
  },
  "language_info": {
   "codemirror_mode": {
    "name": "ipython",
    "version": 3
   },
   "file_extension": ".py",
   "mimetype": "text/x-python",
   "name": "python",
   "nbconvert_exporter": "python",
   "pygments_lexer": "ipython3",
   "version": "3.10.0"
  },
  "orig_nbformat": 4
 },
 "nbformat": 4,
 "nbformat_minor": 2
}
