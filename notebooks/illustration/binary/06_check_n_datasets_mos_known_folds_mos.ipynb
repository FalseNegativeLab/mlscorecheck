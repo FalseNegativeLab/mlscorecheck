{
 "cells": [
  {
   "cell_type": "code",
   "execution_count": 5,
   "metadata": {},
   "outputs": [],
   "source": [
    "from mlscorecheck.check.binary import check_n_datasets_mos_known_folds_mos"
   ]
  },
  {
   "cell_type": "code",
   "execution_count": 6,
   "metadata": {},
   "outputs": [
    {
     "name": "stdout",
     "output_type": "stream",
     "text": [
      "Welcome to the CBC MILP Solver \n",
      "Version: 2.10.3 \n",
      "Build Date: Dec 15 2019 \n",
      "\n",
      "command line - /home/gykovacs/anaconda3/envs/mlscorecheck/lib/python3.10/site-packages/pulp/solverdir/cbc/linux/64/cbc /tmp/b443a865af7d44119a3e1bd681731ade-pulp.mps timeMode elapsed branch printingOptions all solution /tmp/b443a865af7d44119a3e1bd681731ade-pulp.sol (default strategy 1)\n",
      "At line 2 NAME          MODEL\n",
      "At line 3 ROWS\n",
      "At line 13 COLUMNS\n",
      "At line 79 RHS\n",
      "At line 88 BOUNDS\n",
      "At line 98 ENDATA\n",
      "Problem MODEL has 8 rows, 9 columns and 48 elements\n",
      "Coin0008I MODEL read with 0 errors\n",
      "Option for timeMode changed from cpu to elapsed\n",
      "Continuous objective value is 0 - 0.00 seconds\n",
      "Cgl0004I processed model has 4 rows, 8 columns (8 integer (0 of which binary)) and 24 elements\n",
      "Cbc0012I Integer solution of 0 found by DiveCoefficient after 0 iterations and 0 nodes (0.00 seconds)\n",
      "Cbc0001I Search completed - best objective 0, took 0 iterations and 0 nodes (0.00 seconds)\n",
      "Cbc0035I Maximum depth 0, 0 variables fixed on reduced cost\n",
      "Cuts at root node changed objective from 0 to 0\n",
      "Probing was tried 0 times and created 0 cuts of which 0 were active after adding rounds of cuts (0.000 seconds)\n",
      "Gomory was tried 0 times and created 0 cuts of which 0 were active after adding rounds of cuts (0.000 seconds)\n",
      "Knapsack was tried 0 times and created 0 cuts of which 0 were active after adding rounds of cuts (0.000 seconds)\n",
      "Clique was tried 0 times and created 0 cuts of which 0 were active after adding rounds of cuts (0.000 seconds)\n",
      "MixedIntegerRounding2 was tried 0 times and created 0 cuts of which 0 were active after adding rounds of cuts (0.000 seconds)\n",
      "FlowCover was tried 0 times and created 0 cuts of which 0 were active after adding rounds of cuts (0.000 seconds)\n",
      "TwoMirCuts was tried 0 times and created 0 cuts of which 0 were active after adding rounds of cuts (0.000 seconds)\n",
      "ZeroHalf was tried 0 times and created 0 cuts of which 0 were active after adding rounds of cuts (0.000 seconds)\n",
      "\n",
      "Result - Optimal solution found\n",
      "\n",
      "Objective value:                0.00000000\n",
      "Enumerated nodes:               0\n",
      "Total iterations:               0\n",
      "Time (CPU seconds):             0.00\n",
      "Time (Wallclock seconds):       0.00\n",
      "\n",
      "Option for printingOptions changed from normal to all\n",
      "Total time (CPU seconds):       0.00   (Wallclock seconds):       0.00\n",
      "\n"
     ]
    },
    {
     "data": {
      "text/plain": [
       "False"
      ]
     },
     "execution_count": 6,
     "metadata": {},
     "output_type": "execute_result"
    }
   ],
   "source": [
    "evaluation0 = {'dataset': {'p': 118, 'n': 95},\n",
    "                'folding': {'folds': [{'p': 22, 'n': 23}, {'p': 96, 'n': 72}]}}\n",
    "evaluation1 = {'dataset': {'p': 781, 'n': 423},\n",
    "                'folding': {'folds': [{'p': 300, 'n': 200}, {'p': 481, 'n': 223}]}}\n",
    "evaluations = [evaluation0, evaluation1]\n",
    "scores = {'acc': 0.61, 'sens': 0.709, 'spec': 0.461, 'bacc': 0.585}\n",
    "\n",
    "result = check_n_datasets_mos_known_folds_mos(evaluations=evaluations,\n",
    "                                                scores=scores,\n",
    "                                                eps=1e-3)\n",
    "result['inconsistency']"
   ]
  },
  {
   "cell_type": "code",
   "execution_count": 3,
   "metadata": {},
   "outputs": [
    {
     "name": "stdout",
     "output_type": "stream",
     "text": [
      "Welcome to the CBC MILP Solver \n",
      "Version: 2.10.3 \n",
      "Build Date: Dec 15 2019 \n",
      "\n",
      "command line - /home/gykovacs/anaconda3/envs/mlscorecheck/lib/python3.10/site-packages/pulp/solverdir/cbc/linux/64/cbc /tmp/adb9092f188a4abc80efed2e5428d4c4-pulp.mps timeMode elapsed branch printingOptions all solution /tmp/adb9092f188a4abc80efed2e5428d4c4-pulp.sol (default strategy 1)\n",
      "At line 2 NAME          MODEL\n",
      "At line 3 ROWS\n",
      "At line 11 COLUMNS\n",
      "At line 61 RHS\n",
      "At line 68 BOUNDS\n",
      "At line 78 ENDATA\n",
      "Problem MODEL has 6 rows, 9 columns and 32 elements\n",
      "Coin0008I MODEL read with 0 errors\n",
      "Option for timeMode changed from cpu to elapsed\n",
      "Problem is infeasible - 0.00 seconds\n",
      "Option for printingOptions changed from normal to all\n",
      "Total time (CPU seconds):       0.00   (Wallclock seconds):       0.00\n",
      "\n"
     ]
    },
    {
     "data": {
      "text/plain": [
       "True"
      ]
     },
     "execution_count": 3,
     "metadata": {},
     "output_type": "execute_result"
    }
   ],
   "source": [
    "evaluation0 = {'dataset': {'p': 118, 'n': 95},\n",
    "                'folding': {'folds': [{'p': 22, 'n': 23}, {'p': 96, 'n': 72}]}}\n",
    "evaluation1 = {'dataset': {'p': 781, 'n': 423},\n",
    "                'folding': {'folds': [{'p': 300, 'n': 200}, {'p': 481, 'n': 223}]}}\n",
    "evaluations = [evaluation0, evaluation1]\n",
    "scores = {'acc': 0.71, 'sens': 0.709, 'spec': 0.461}\n",
    "\n",
    "result = check_n_datasets_mos_known_folds_mos(evaluations=evaluations,\n",
    "                                                scores=scores,\n",
    "                                                eps=1e-3)\n",
    "result['inconsistency']"
   ]
  },
  {
   "cell_type": "code",
   "execution_count": 4,
   "metadata": {},
   "outputs": [
    {
     "name": "stderr",
     "output_type": "stream",
     "text": [
      "2023-11-03 07:00:11,341:INFO:common_datasets.ecoli_0_2_3_4_vs_5_wkx: adding lower bound 0.8 for sens\n",
      "2023-11-03 07:00:11,343:INFO:common_datasets.ecoli_0_2_3_4_vs_5_wkx: adding upper bound 1.0 for sens\n",
      "2023-11-03 07:00:11,344:INFO:rxnah: adding lower bound 0.8 for sens\n",
      "2023-11-03 07:00:11,344:INFO:rxnah: adding upper bound 1.0 for sens\n"
     ]
    },
    {
     "name": "stdout",
     "output_type": "stream",
     "text": [
      "Welcome to the CBC MILP Solver \n",
      "Version: 2.10.3 \n",
      "Build Date: Dec 15 2019 \n",
      "\n",
      "command line - /home/gykovacs/anaconda3/envs/mlscorecheck/lib/python3.10/site-packages/pulp/solverdir/cbc/linux/64/cbc /tmp/5985bf8316574586b9b8139f6dce455d-pulp.mps timeMode elapsed branch printingOptions all solution /tmp/5985bf8316574586b9b8139f6dce455d-pulp.sol (default strategy 1)\n",
      "At line 2 NAME          MODEL\n",
      "At line 3 ROWS\n",
      "At line 17 COLUMNS\n",
      "At line 289 RHS\n",
      "At line 302 BOUNDS\n",
      "At line 334 ENDATA\n",
      "Problem MODEL has 12 rows, 31 columns and 210 elements\n",
      "Coin0008I MODEL read with 0 errors\n",
      "Option for timeMode changed from cpu to elapsed\n",
      "Problem is infeasible - 0.00 seconds\n",
      "Option for printingOptions changed from normal to all\n",
      "Total time (CPU seconds):       0.00   (Wallclock seconds):       0.00\n",
      "\n"
     ]
    },
    {
     "data": {
      "text/plain": [
       "True"
      ]
     },
     "execution_count": 4,
     "metadata": {},
     "output_type": "execute_result"
    }
   ],
   "source": [
    "evaluation0 = {'dataset': {'dataset_name': 'common_datasets.ecoli_0_2_3_4_vs_5'},\n",
    "                'folding': {'n_folds': 4, 'n_repeats': 3, 'strategy': 'stratified_sklearn'}}\n",
    "evaluation1 = {'dataset': {'p': 355, 'n': 438},\n",
    "                'folding': {'n_folds': 1, 'n_repeats': 3}}\n",
    "evaluations = [evaluation0, evaluation1]\n",
    "scores = {'acc': 0.532, 'sens': 0.417, 'spec': 0.622, 'bacc': 0.519}\n",
    "\n",
    "result = check_n_datasets_mos_known_folds_mos(evaluations=evaluations,\n",
    "                                                dataset_score_bounds={'sens': (0.8, 1.0)},\n",
    "                                                scores=scores,\n",
    "                                                eps=1e-3)\n",
    "result['inconsistency']"
   ]
  }
 ],
 "metadata": {
  "kernelspec": {
   "display_name": "mlscorecheck",
   "language": "python",
   "name": "python3"
  },
  "language_info": {
   "codemirror_mode": {
    "name": "ipython",
    "version": 3
   },
   "file_extension": ".py",
   "mimetype": "text/x-python",
   "name": "python",
   "nbconvert_exporter": "python",
   "pygments_lexer": "ipython3",
   "version": "3.10.0"
  },
  "orig_nbformat": 4
 },
 "nbformat": 4,
 "nbformat_minor": 2
}
