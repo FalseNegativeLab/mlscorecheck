{
 "cells": [
  {
   "cell_type": "code",
   "execution_count": 1,
   "metadata": {},
   "outputs": [],
   "source": [
    "from mlscorecheck.check.binary import check_1_dataset_kfold_som\n",
    "from mlscorecheck.aggregated import Dataset, Evaluation, generate_evaluation"
   ]
  },
  {
   "cell_type": "code",
   "execution_count": 2,
   "metadata": {},
   "outputs": [
    {
     "data": {
      "text/plain": [
       "({'dataset': {'p': 53, 'n': 17},\n",
       "  'folding': {'n_folds': 9, 'n_repeats': 2, 'strategy': 'stratified_sklearn'},\n",
       "  'fold_score_bounds': None,\n",
       "  'aggregation': 'mos'},\n",
       " {'acc': 0.416, 'sens': 0.38, 'spec': 0.5, 'bacc': 0.44})"
      ]
     },
     "execution_count": 2,
     "metadata": {},
     "output_type": "execute_result"
    }
   ],
   "source": [
    "dataset, scores = generate_evaluation(return_scores=True, rounding_decimals=3)\n",
    "dataset, scores"
   ]
  },
  {
   "cell_type": "code",
   "execution_count": 3,
   "metadata": {},
   "outputs": [
    {
     "name": "stderr",
     "output_type": "stream",
     "text": [
      "2023-11-03 06:28:59,468:INFO:checking the scores {'spec': 0.668, 'npv': 0.744, 'ppv': 0.667, 'bacc': 0.706, 'f1p': 0.703, 'fm': 0.704}\n",
      "2023-11-03 06:28:59,470:INFO:evaluating the tp and tn solution for spec and npv\n",
      "2023-11-03 06:28:59,471:INFO:intervals before: (0, 612), (0, 684)\n",
      "2023-11-03 06:28:59,472:INFO:the tp solutions: (451.13017565420745, 458.4474606321096)\n",
      "2023-11-03 06:28:59,473:INFO:the tn solutions: (456.226632, 457.5973680000001)\n",
      "2023-11-03 06:28:59,475:INFO:intervals after: [(452, 458)], [(457, 457)]\n",
      "2023-11-03 06:28:59,476:INFO:evaluating the tp and tn solution for spec and ppv\n",
      "2023-11-03 06:28:59,477:INFO:intervals before: [(452, 458)], [(457, 457)]\n",
      "2023-11-03 06:28:59,478:INFO:the tp solutions: (451.4455006459121, 458.2951263885206)\n",
      "2023-11-03 06:28:59,482:INFO:the tn solutions: (456.226632, 457.5973680000001)\n",
      "2023-11-03 06:28:59,483:INFO:intervals after: [(452, 458)], [(457, 457)]\n",
      "2023-11-03 06:28:59,484:INFO:evaluating the tp and tn solution for spec and bacc\n",
      "2023-11-03 06:28:59,486:INFO:intervals before: [(452, 458)], [(457, 457)]\n",
      "2023-11-03 06:28:59,486:INFO:the tp solutions: (453.4883279999998, 457.16767200000004)\n",
      "2023-11-03 06:28:59,487:INFO:the tn solutions: (456.226632, 457.5973680000001)\n",
      "2023-11-03 06:28:59,488:INFO:intervals after: [(454, 457)], [(457, 457)]\n",
      "2023-11-03 06:28:59,489:INFO:evaluating the tp and tn solution for spec and f1p\n",
      "2023-11-03 06:28:59,490:INFO:intervals before: [(454, 457)], [(457, 457)]\n",
      "2023-11-03 06:28:59,491:INFO:the tp solutions: (453.43302310684874, 456.17518747616583)\n",
      "2023-11-03 06:28:59,494:INFO:the tn solutions: (456.226632, 457.5973680000001)\n",
      "2023-11-03 06:28:59,495:INFO:intervals after: [(454, 456)], [(457, 457)]\n",
      "2023-11-03 06:28:59,496:INFO:evaluating the tp and tn solution for spec and fm\n",
      "2023-11-03 06:28:59,498:INFO:intervals before: [(454, 456)], [(457, 457)]\n",
      "2023-11-03 06:28:59,499:INFO:the tp solutions: (-152.34158237393794, -150.5769147898986) | (453.46219709389857, 456.090284069938)\n",
      "2023-11-03 06:28:59,500:INFO:the tn solutions: (456.226632, 457.5973680000001)\n",
      "2023-11-03 06:28:59,501:INFO:intervals after: [(454, 456)], [(457, 457)]\n",
      "2023-11-03 06:28:59,502:INFO:evaluating the tp and tn solution for npv and ppv\n",
      "2023-11-03 06:28:59,503:INFO:intervals before: [(454, 456)], [(457, 457)]\n",
      "2023-11-03 06:28:59,504:INFO:the tp solutions: (449.7868395395296, 459.8031631145148)\n",
      "2023-11-03 06:28:59,507:INFO:the tn solutions: (451.7913140724638, 462.1800665561134)\n",
      "2023-11-03 06:28:59,508:INFO:intervals after: [(454, 456)], [(457, 457)]\n",
      "2023-11-03 06:28:59,509:INFO:evaluating the tp and tn solution for npv and bacc\n",
      "2023-11-03 06:28:59,510:INFO:intervals before: [(454, 456)], [(457, 457)]\n",
      "2023-11-03 06:28:59,512:INFO:the tp solutions: (443.7154761128823, 465.2752188090839)\n",
      "2023-11-03 06:28:59,514:INFO:the tn solutions: (452.9617561982833, 462.89386265812294)\n",
      "2023-11-03 06:28:59,515:INFO:intervals after: [(454, 456)], [(457, 457)]\n",
      "2023-11-03 06:28:59,516:INFO:evaluating the tp and tn solution for npv and f1p\n",
      "2023-11-03 06:28:59,518:INFO:intervals before: [(454, 456)], [(457, 457)]\n",
      "2023-11-03 06:28:59,519:INFO:the tp solutions: (440.147036110388, 469.8382788367301)\n",
      "2023-11-03 06:28:59,520:INFO:the tn solutions: (442.00190657831143, 472.519981444259)\n",
      "2023-11-03 06:28:59,522:INFO:intervals after: [(454, 456)], [(457, 457)]\n",
      "2023-11-03 06:28:59,523:INFO:evaluating the tp and tn solution for npv and fm\n",
      "2023-11-03 06:28:59,525:INFO:intervals before: [(454, 456)], [(457, 457)]\n",
      "2023-11-03 06:28:59,526:INFO:the tp solutions: (394.3507743984165, 792.5978000014203)\n",
      "2023-11-03 06:28:59,527:INFO:the tn solutions: (-527.6344214333369, 642.5102448871437)\n",
      "2023-11-03 06:28:59,528:INFO:intervals after: [(454, 456)], [(457, 457)]\n",
      "2023-11-03 06:28:59,532:INFO:evaluating the tp and tn solution for ppv and bacc\n",
      "2023-11-03 06:28:59,533:INFO:intervals before: [(454, 456)], [(457, 457)]\n",
      "2023-11-03 06:28:59,534:INFO:the tp solutions: (450.4921584429077, 460.9834496704991)\n",
      "2023-11-03 06:28:59,535:INFO:the tn solutions: (444.46160710915257, 468.645191592148)\n",
      "2023-11-03 06:28:59,536:INFO:intervals after: [(454, 456)], [(457, 457)]\n",
      "2023-11-03 06:28:59,537:INFO:evaluating the tp and tn solution for ppv and f1p\n",
      "2023-11-03 06:28:59,539:INFO:intervals before: [(454, 456)], [(457, 457)]\n",
      "2023-11-03 06:28:59,540:INFO:the tp solutions: (451.30158006461744, 458.2976005032661)\n",
      "2023-11-03 06:28:59,543:INFO:the tn solutions: (449.24903166602184, 464.72652816818044)\n",
      "2023-11-03 06:28:59,545:INFO:intervals after: [(454, 456)], [(457, 457)]\n",
      "2023-11-03 06:28:59,546:INFO:evaluating the tp and tn solution for ppv and fm\n",
      "2023-11-03 06:28:59,547:INFO:intervals before: [(454, 456)], [(457, 457)]\n",
      "2023-11-03 06:28:59,549:INFO:the tp solutions: (452.77437351751627, 456.729638591179)\n",
      "2023-11-03 06:28:59,550:INFO:the tn solutions: (449.644434645183, 464.3373716283757)\n",
      "2023-11-03 06:28:59,551:INFO:intervals after: [(454, 456)], [(457, 457)]\n",
      "2023-11-03 06:28:59,552:INFO:evaluating the tp and tn solution for bacc and f1p\n",
      "2023-11-03 06:28:59,554:INFO:intervals before: [(454, 456)], [(457, 457)]\n",
      "2023-11-03 06:28:59,555:INFO:the tp solutions: (449.6000702850551, 458.43196680714374)\n",
      "2023-11-03 06:28:59,556:INFO:the tn solutions: (444.57627428771997, 472.337195306036)\n",
      "2023-11-03 06:28:59,557:INFO:intervals after: [(454, 456)], [(457, 457)]\n",
      "2023-11-03 06:28:59,558:INFO:evaluating the tp and tn solution for bacc and fm\n",
      "2023-11-03 06:28:59,560:INFO:intervals before: [(454, 456)], [(457, 457)]\n",
      "2023-11-03 06:28:59,562:INFO:the tp solutions: (184.881771974585, 191.6700592910953) | (450.2788987340362, 457.82373989853176)\n",
      "2023-11-03 06:28:59,563:INFO:the tn solutions: (452.7519076428173, 463.9258491796066) | (749.8034974913054, 760.9774390280948)\n",
      "2023-11-03 06:28:59,564:INFO:intervals after: [(454, 456)], [(457, 457)]\n",
      "2023-11-03 06:28:59,565:INFO:evaluating the tp and tn solution for f1p and fm\n",
      "2023-11-03 06:28:59,566:INFO:intervals before: [(454, 456)], [(457, 457)]\n",
      "2023-11-03 06:28:59,567:INFO:the tp solutions: (389.8902833715994, 473.26546244312186)\n",
      "2023-11-03 06:28:59,568:INFO:the tn solutions: (376.3573072940828, 624.3053618675568)\n",
      "2023-11-03 06:28:59,570:INFO:intervals after: [(454, 456)], [(457, 457)]\n",
      "2023-11-03 06:28:59,571:INFO:testing spec, feasible tptn pairs: 3\n",
      "2023-11-03 06:28:59,572:INFO:testing bacc, feasible tptn pairs: 3\n",
      "2023-11-03 06:28:59,574:INFO:testing npv, feasible tptn pairs: 2\n",
      "2023-11-03 06:28:59,575:INFO:testing ppv, feasible tptn pairs: 1\n",
      "2023-11-03 06:28:59,576:INFO:testing f1p, feasible tptn pairs: 1\n",
      "2023-11-03 06:28:59,576:INFO:testing fm, feasible tptn pairs: 1\n",
      "2023-11-03 06:28:59,583:INFO:constructing final tp, tn pair set\n",
      "2023-11-03 06:28:59,583:INFO:final number of intervals: 1\n",
      "2023-11-03 06:28:59,584:INFO:final number of pairs: 1\n"
     ]
    },
    {
     "data": {
      "text/plain": [
       "False"
      ]
     },
     "execution_count": 3,
     "metadata": {},
     "output_type": "execute_result"
    }
   ],
   "source": [
    "dataset = {'dataset_name': 'common_datasets.monk-2'}\n",
    "folding = {'n_folds': 4, 'n_repeats': 3, 'strategy': 'stratified_sklearn'}\n",
    "scores = {'spec': 0.668, 'npv': 0.744, 'ppv': 0.667, 'bacc': 0.706, 'f1p': 0.703, 'fm': 0.704}\n",
    "result = check_1_dataset_kfold_som(dataset=dataset,\n",
    "                                    folding=folding,\n",
    "                                    scores=scores,\n",
    "                                    eps=1e-3)\n",
    "result['inconsistency']"
   ]
  },
  {
   "cell_type": "code",
   "execution_count": 4,
   "metadata": {},
   "outputs": [
    {
     "name": "stderr",
     "output_type": "stream",
     "text": [
      "2023-11-03 06:28:59,604:INFO:checking the scores {'spec': 0.668, 'npv': 0.544, 'ppv': 0.667, 'bacc': 0.706, 'f1p': 0.703, 'fm': 0.704}\n",
      "2023-11-03 06:28:59,606:INFO:evaluating the tp and tn solution for spec and npv\n",
      "2023-11-03 06:28:59,607:INFO:intervals before: (0, 612), (0, 684)\n",
      "2023-11-03 06:28:59,609:INFO:the tp solutions: (224.67359151477578, 233.34537651102963)\n",
      "2023-11-03 06:28:59,610:INFO:the tn solutions: (456.226632, 457.5973680000001)\n",
      "2023-11-03 06:28:59,611:INFO:intervals after: [(225, 233)], [(457, 457)]\n",
      "2023-11-03 06:28:59,613:INFO:evaluating the tp and tn solution for spec and ppv\n",
      "2023-11-03 06:28:59,614:INFO:intervals before: [(225, 233)], [(457, 457)]\n",
      "2023-11-03 06:28:59,616:INFO:the tp solutions: (451.4455006459121, 458.2951263885206)\n",
      "2023-11-03 06:28:59,617:INFO:the tn solutions: (456.226632, 457.5973680000001)\n",
      "2023-11-03 06:28:59,618:INFO:intervals after: [], [(457, 457)]\n",
      "2023-11-03 06:28:59,619:INFO:evaluating the tp and tn solution for spec and bacc\n",
      "2023-11-03 06:28:59,621:INFO:intervals before: [], [(457, 457)]\n",
      "2023-11-03 06:28:59,621:INFO:the tp solutions: (453.4883279999998, 457.16767200000004)\n",
      "2023-11-03 06:28:59,628:INFO:the tn solutions: (456.226632, 457.5973680000001)\n",
      "2023-11-03 06:28:59,630:INFO:intervals after: [], [(457, 457)]\n",
      "2023-11-03 06:28:59,631:INFO:evaluating the tp and tn solution for spec and f1p\n",
      "2023-11-03 06:28:59,633:INFO:intervals before: [], [(457, 457)]\n",
      "2023-11-03 06:28:59,634:INFO:the tp solutions: (453.43302310684874, 456.17518747616583)\n",
      "2023-11-03 06:28:59,635:INFO:the tn solutions: (456.226632, 457.5973680000001)\n",
      "2023-11-03 06:28:59,636:INFO:intervals after: [], [(457, 457)]\n",
      "2023-11-03 06:28:59,637:INFO:evaluating the tp and tn solution for spec and fm\n",
      "2023-11-03 06:28:59,639:INFO:intervals before: [], [(457, 457)]\n",
      "2023-11-03 06:28:59,640:INFO:the tp solutions: (-152.34158237393794, -150.5769147898986) | (453.46219709389857, 456.090284069938)\n",
      "2023-11-03 06:28:59,643:INFO:the tn solutions: (456.226632, 457.5973680000001)\n",
      "2023-11-03 06:28:59,645:INFO:intervals after: [], [(457, 457)]\n",
      "2023-11-03 06:28:59,646:INFO:evaluating the tp and tn solution for npv and ppv\n",
      "2023-11-03 06:28:59,647:INFO:intervals before: [], [(457, 457)]\n",
      "2023-11-03 06:28:59,651:INFO:the tp solutions: (61.67528439458414, 71.34842820524828)\n",
      "2023-11-03 06:28:59,652:INFO:the tn solutions: (640.1989553115615, 661.6570656911333)\n",
      "2023-11-03 06:28:59,653:INFO:intervals after: [], []\n",
      "2023-11-03 06:28:59,654:INFO:evaluating the tp and tn solution for npv and bacc\n",
      "2023-11-03 06:28:59,656:INFO:intervals before: [], []\n",
      "2023-11-03 06:28:59,657:INFO:the tp solutions: (-3449.3578113967096, -2845.2966863250767)\n",
      "2023-11-03 06:28:59,658:INFO:the tn solutions: (4174.848806456365, 4788.330979831333)\n",
      "2023-11-03 06:28:59,660:INFO:intervals after: [], []\n",
      "2023-11-03 06:28:59,660:INFO:evaluating the tp and tn solution for npv and f1p\n",
      "2023-11-03 06:28:59,662:INFO:intervals before: [], []\n",
      "2023-11-03 06:28:59,663:INFO:the tp solutions: (848.1226422631049, 888.4347620980816)\n",
      "2023-11-03 06:28:59,664:INFO:the tn solutions: (-315.46432513389715, -295.5981674463546)\n",
      "2023-11-03 06:28:59,665:INFO:intervals after: [], []\n",
      "2023-11-03 06:28:59,666:INFO:evaluating the tp and tn solution for npv and fm\n",
      "2023-11-03 06:28:59,668:INFO:intervals before: [], []\n",
      "2023-11-03 06:28:59,670:INFO:the tp solutions: (12.846926170011079, 30.911087774236353) | (632.0777110753301, 654.6422058656685)\n",
      "2023-11-03 06:28:59,671:INFO:the tn solutions: (-51.077339859078506, -23.855818920884683) | (686.3871737976272, 721.9244118372484)\n",
      "2023-11-03 06:28:59,672:INFO:intervals after: [], []\n",
      "2023-11-03 06:28:59,674:INFO:evaluating the tp and tn solution for ppv and bacc\n",
      "2023-11-03 06:28:59,676:INFO:intervals before: [], []\n",
      "2023-11-03 06:28:59,678:INFO:the tp solutions: (450.4921584429077, 460.9834496704991)\n",
      "2023-11-03 06:28:59,680:INFO:the tn solutions: (444.46160710915257, 468.645191592148)\n",
      "2023-11-03 06:28:59,681:INFO:intervals after: [], []\n",
      "2023-11-03 06:28:59,682:INFO:evaluating the tp and tn solution for ppv and f1p\n",
      "2023-11-03 06:28:59,683:INFO:intervals before: [], []\n",
      "2023-11-03 06:28:59,683:INFO:the tp solutions: (451.30158006461744, 458.2976005032661)\n",
      "2023-11-03 06:28:59,684:INFO:the tn solutions: (449.24903166602184, 464.72652816818044)\n",
      "2023-11-03 06:28:59,685:INFO:intervals after: [], []\n",
      "2023-11-03 06:28:59,686:INFO:evaluating the tp and tn solution for ppv and fm\n",
      "2023-11-03 06:28:59,688:INFO:intervals before: [], []\n",
      "2023-11-03 06:28:59,689:INFO:the tp solutions: (452.77437351751627, 456.729638591179)\n",
      "2023-11-03 06:28:59,690:INFO:the tn solutions: (449.644434645183, 464.3373716283757)\n",
      "2023-11-03 06:28:59,690:INFO:intervals after: [], []\n",
      "2023-11-03 06:28:59,691:INFO:evaluating the tp and tn solution for bacc and f1p\n",
      "2023-11-03 06:28:59,693:INFO:intervals before: [], []\n",
      "2023-11-03 06:28:59,694:INFO:the tp solutions: (449.6000702850551, 458.43196680714374)\n",
      "2023-11-03 06:28:59,695:INFO:the tn solutions: (444.57627428771997, 472.337195306036)\n",
      "2023-11-03 06:28:59,696:INFO:intervals after: [], []\n",
      "2023-11-03 06:28:59,697:INFO:evaluating the tp and tn solution for bacc and fm\n",
      "2023-11-03 06:28:59,699:INFO:intervals before: [], []\n",
      "2023-11-03 06:28:59,700:INFO:the tp solutions: (184.881771974585, 191.6700592910953) | (450.2788987340362, 457.82373989853176)\n",
      "2023-11-03 06:28:59,701:INFO:the tn solutions: (452.7519076428173, 463.9258491796066) | (749.8034974913054, 760.9774390280948)\n",
      "2023-11-03 06:28:59,702:INFO:intervals after: [], []\n",
      "2023-11-03 06:28:59,704:INFO:evaluating the tp and tn solution for f1p and fm\n",
      "2023-11-03 06:28:59,706:INFO:intervals before: [], []\n",
      "2023-11-03 06:28:59,707:INFO:the tp solutions: (389.8902833715994, 473.26546244312186)\n",
      "2023-11-03 06:28:59,708:INFO:the tn solutions: (376.3573072940828, 624.3053618675568)\n",
      "2023-11-03 06:28:59,709:INFO:intervals after: [], []\n",
      "2023-11-03 06:28:59,710:INFO:testing spec, feasible tptn pairs: 0\n",
      "2023-11-03 06:28:59,712:INFO:no more feasible tp,tn pairs left\n",
      "2023-11-03 06:28:59,714:INFO:constructing final tp, tn pair set\n",
      "2023-11-03 06:28:59,715:INFO:final number of intervals: 0\n",
      "2023-11-03 06:28:59,716:INFO:final number of pairs: 0\n"
     ]
    },
    {
     "data": {
      "text/plain": [
       "True"
      ]
     },
     "execution_count": 4,
     "metadata": {},
     "output_type": "execute_result"
    }
   ],
   "source": [
    "dataset = {'dataset_name': 'common_datasets.monk-2'}\n",
    "folding = {'n_folds': 4, 'n_repeats': 3, 'strategy': 'stratified_sklearn'}\n",
    "scores = {'spec': 0.668, 'npv': 0.544, 'ppv': 0.667, 'bacc': 0.706, 'f1p': 0.703, 'fm': 0.704}\n",
    "result = check_1_dataset_kfold_som(dataset=dataset,\n",
    "                                    folding=folding,\n",
    "                                    scores=scores,\n",
    "                                    eps=1e-3)\n",
    "result['inconsistency']"
   ]
  },
  {
   "cell_type": "code",
   "execution_count": 5,
   "metadata": {},
   "outputs": [
    {
     "name": "stderr",
     "output_type": "stream",
     "text": [
      "2023-11-03 06:28:59,754:INFO:checking the scores {'acc': 0.428, 'npv': 0.392, 'bacc': 0.442, 'f1p': 0.391}\n",
      "2023-11-03 06:28:59,757:INFO:evaluating the tp and tn solution for acc and npv\n",
      "2023-11-03 06:28:59,759:INFO:intervals before: (0, 10), (0, 20)\n",
      "2023-11-03 06:28:59,760:INFO:the tp solutions: (17.53160804333868, 18.464920278322932)\n",
      "2023-11-03 06:28:59,763:INFO:the tn solutions: (-5.270843006972088, -5.039728262417209)\n",
      "2023-11-03 06:28:59,765:INFO:intervals after: [], []\n",
      "2023-11-03 06:28:59,766:INFO:evaluating the tp and tn solution for acc and bacc\n",
      "2023-11-03 06:28:59,767:INFO:intervals before: [], []\n",
      "2023-11-03 06:28:59,769:INFO:the tp solutions: (4.769860000000006, 4.910139999999998)\n",
      "2023-11-03 06:28:59,770:INFO:the tn solutions: (7.899800000000002, 8.100199999999994)\n",
      "2023-11-03 06:28:59,770:INFO:intervals after: [], []\n",
      "2023-11-03 06:28:59,771:INFO:evaluating the tp and tn solution for acc and f1p\n",
      "2023-11-03 06:28:59,773:INFO:intervals before: [], []\n",
      "2023-11-03 06:28:59,774:INFO:the tp solutions: (5.47591839052987, 5.541579002003296)\n",
      "2023-11-03 06:28:59,774:INFO:the tn solutions: (7.2251654419821625, 7.437795041990264)\n",
      "2023-11-03 06:28:59,775:INFO:intervals after: [], []\n",
      "2023-11-03 06:28:59,776:INFO:evaluating the tp and tn solution for npv and bacc\n",
      "2023-11-03 06:28:59,777:INFO:intervals before: [], []\n",
      "2023-11-03 06:28:59,778:INFO:the tp solutions: (8.156982077324718, 8.420191328852582)\n",
      "2023-11-03 06:28:59,781:INFO:the tn solutions: (1.0779174034529388, 1.1297477937232172)\n",
      "2023-11-03 06:28:59,782:INFO:intervals after: [], []\n",
      "2023-11-03 06:28:59,783:INFO:evaluating the tp and tn solution for npv and f1p\n",
      "2023-11-03 06:28:59,785:INFO:intervals before: [], []\n",
      "2023-11-03 06:28:59,785:INFO:the tp solutions: (6.725966043917559, 6.848200935967899)\n",
      "2023-11-03 06:28:59,786:INFO:the tn solutions: (2.0399370054806383, 2.1037139445786694)\n",
      "2023-11-03 06:28:59,787:INFO:intervals after: [], []\n",
      "2023-11-03 06:28:59,788:INFO:evaluating the tp and tn solution for bacc and f1p\n",
      "2023-11-03 06:28:59,789:INFO:intervals before: [], []\n",
      "2023-11-03 06:28:59,790:INFO:the tp solutions: (5.770011590470432, 5.8801108747879205)\n",
      "2023-11-03 06:28:59,790:INFO:the tn solutions: (5.799251089558401, 6.263087449471712)\n",
      "2023-11-03 06:28:59,791:INFO:intervals after: [], []\n",
      "2023-11-03 06:28:59,792:INFO:testing acc, feasible tptn pairs: 0\n",
      "2023-11-03 06:28:59,795:INFO:no more feasible tp,tn pairs left\n",
      "2023-11-03 06:28:59,796:INFO:constructing final tp, tn pair set\n",
      "2023-11-03 06:28:59,798:INFO:final number of intervals: 0\n",
      "2023-11-03 06:28:59,799:INFO:final number of pairs: 0\n"
     ]
    },
    {
     "data": {
      "text/plain": [
       "True"
      ]
     },
     "execution_count": 5,
     "metadata": {},
     "output_type": "execute_result"
    }
   ],
   "source": [
    "dataset = {'p': 10, 'n': 20}\n",
    "folding = {'n_folds': 5, 'n_repeats': 1}\n",
    "scores = {'acc': 0.428, 'npv': 0.392, 'bacc': 0.442, 'f1p': 0.391}\n",
    "\n",
    "result = check_1_dataset_kfold_som(dataset=dataset,\n",
    "                                    folding=folding,\n",
    "                                    scores=scores,\n",
    "                                    eps=1e-3)\n",
    "result['inconsistency']"
   ]
  },
  {
   "cell_type": "code",
   "execution_count": null,
   "metadata": {},
   "outputs": [],
   "source": []
  }
 ],
 "metadata": {
  "kernelspec": {
   "display_name": "mlscorecheck",
   "language": "python",
   "name": "python3"
  },
  "language_info": {
   "codemirror_mode": {
    "name": "ipython",
    "version": 3
   },
   "file_extension": ".py",
   "mimetype": "text/x-python",
   "name": "python",
   "nbconvert_exporter": "python",
   "pygments_lexer": "ipython3",
   "version": "3.10.0"
  },
  "orig_nbformat": 4
 },
 "nbformat": 4,
 "nbformat_minor": 2
}
