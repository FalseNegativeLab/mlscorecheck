{
 "cells": [
  {
   "cell_type": "code",
   "execution_count": 1,
   "metadata": {},
   "outputs": [],
   "source": [
    "from mlscorecheck.check.binary import check_n_testsets_som_no_kfold"
   ]
  },
  {
   "cell_type": "code",
   "execution_count": 2,
   "metadata": {},
   "outputs": [],
   "source": [
    "scores = {'acc': 0.4719, 'npv': 0.6253, 'f1p': 0.3091}\n",
    "testsets = [{'p': 405, 'n': 223}, {'p': 3, 'n': 422}, {'p': 109, 'n': 404}]"
   ]
  },
  {
   "cell_type": "code",
   "execution_count": 3,
   "metadata": {},
   "outputs": [
    {
     "name": "stderr",
     "output_type": "stream",
     "text": [
      "2023-11-03 06:39:34,967:INFO:checking the scores {'acc': 0.4719, 'npv': 0.6253, 'f1p': 0.3091}\n",
      "2023-11-03 06:39:34,968:INFO:evaluating the tp and tn solution for acc and npv\n",
      "2023-11-03 06:39:34,970:INFO:intervals before: (0, 517), (0, 1049)\n",
      "2023-11-03 06:39:34,971:INFO:the tp solutions: (183.3735345619046, 186.76921301883434)\n",
      "2023-11-03 06:39:34,972:INFO:the tn solutions: (552.9864593956394, 554.8661474746565)\n",
      "2023-11-03 06:39:34,973:INFO:intervals after: [(184, 186)], [(553, 554)]\n",
      "2023-11-03 06:39:34,974:INFO:evaluating the tp and tn solution for acc and f1p\n",
      "2023-11-03 06:39:34,975:INFO:intervals before: [(184, 186)], [(553, 554)]\n",
      "2023-11-03 06:39:34,978:INFO:the tp solutions: (184.87168671166216, 185.11986556349612)\n",
      "2023-11-03 06:39:34,979:INFO:the tn solutions: (553.4808574181667, 554.5185801488539)\n",
      "2023-11-03 06:39:34,980:INFO:intervals after: [(185, 185)], [(554, 554)]\n",
      "2023-11-03 06:39:34,981:INFO:evaluating the tp and tn solution for npv and f1p\n",
      "2023-11-03 06:39:34,982:INFO:intervals before: [(185, 185)], [(554, 554)]\n",
      "2023-11-03 06:39:34,983:INFO:the tp solutions: (184.64422257239337, 185.32173809718321)\n",
      "2023-11-03 06:39:34,983:INFO:the tn solutions: (553.2944463587239, 554.8488214174102)\n",
      "2023-11-03 06:39:34,984:INFO:intervals after: [(185, 185)], [(554, 554)]\n",
      "2023-11-03 06:39:34,984:INFO:testing acc, feasible tptn pairs: 1\n",
      "2023-11-03 06:39:34,985:INFO:testing npv, feasible tptn pairs: 1\n",
      "2023-11-03 06:39:34,986:INFO:testing f1p, feasible tptn pairs: 1\n",
      "2023-11-03 06:39:34,987:INFO:constructing final tp, tn pair set\n",
      "2023-11-03 06:39:34,988:INFO:final number of intervals: 1\n",
      "2023-11-03 06:39:34,988:INFO:final number of pairs: 1\n"
     ]
    },
    {
     "data": {
      "text/plain": [
       "{'inconsistency': False,\n",
       " 'details': [{'testing': 'acc',\n",
       "   'score_interval': (0.47179899999999997, 0.472001),\n",
       "   'n_tptn_pairs_before': 1,\n",
       "   'n_tptn_pairs_after': 1,\n",
       "   'decision': 'continue'},\n",
       "  {'testing': 'npv',\n",
       "   'score_interval': (0.625199, 0.625401),\n",
       "   'n_tptn_pairs_before': 1,\n",
       "   'n_tptn_pairs_after': 1,\n",
       "   'decision': 'continue'},\n",
       "  {'testing': 'f1p',\n",
       "   'score_interval': (0.30899899999999997, 0.309201),\n",
       "   'n_tptn_pairs_before': 1,\n",
       "   'n_tptn_pairs_after': 1,\n",
       "   'decision': 'continue'}],\n",
       " 'n_valid_tptn_pairs': 1,\n",
       " 'iterate_by': 'tp',\n",
       " 'solve_for': 'tn',\n",
       " 'evidence': {'tp': 185, 'tn': 554},\n",
       " 'prefiltering_details': {'inconsistency': False,\n",
       "  'tp': [(185, 185)],\n",
       "  'tn': [(554, 554)],\n",
       "  'details': [{'base_score_0': 'acc',\n",
       "    'base_score_1': 'npv',\n",
       "    'base_score_0_interval': (0.471798, 0.472002),\n",
       "    'base_score_1_interval': (0.6251979999999999, 0.625402),\n",
       "    'tp_after': [(184, 186)],\n",
       "    'tn_after': [(553, 554)],\n",
       "    'inconsistency': False},\n",
       "   {'base_score_0': 'acc',\n",
       "    'base_score_1': 'f1p',\n",
       "    'base_score_0_interval': (0.471798, 0.472002),\n",
       "    'base_score_1_interval': (0.308998, 0.309202),\n",
       "    'tp_after': [(185, 185)],\n",
       "    'tn_after': [(554, 554)],\n",
       "    'inconsistency': False},\n",
       "   {'base_score_0': 'npv',\n",
       "    'base_score_1': 'f1p',\n",
       "    'base_score_0_interval': (0.6251979999999999, 0.625402),\n",
       "    'base_score_1_interval': (0.308998, 0.309202),\n",
       "    'tp_after': [(185, 185)],\n",
       "    'tn_after': [(554, 554)],\n",
       "    'inconsistency': False}]}}"
      ]
     },
     "execution_count": 3,
     "metadata": {},
     "output_type": "execute_result"
    }
   ],
   "source": [
    "check_n_testsets_som_no_kfold(testsets=testsets,\n",
    "                            scores=scores,\n",
    "                            eps=0.0001)"
   ]
  },
  {
   "cell_type": "code",
   "execution_count": 4,
   "metadata": {},
   "outputs": [],
   "source": [
    "scores['npv'] = 0.6263"
   ]
  },
  {
   "cell_type": "code",
   "execution_count": 5,
   "metadata": {},
   "outputs": [
    {
     "name": "stderr",
     "output_type": "stream",
     "text": [
      "2023-11-03 06:39:35,014:INFO:checking the scores {'acc': 0.4719, 'npv': 0.6263, 'f1p': 0.3091}\n",
      "2023-11-03 06:39:35,015:INFO:evaluating the tp and tn solution for acc and npv\n",
      "2023-11-03 06:39:35,016:INFO:intervals before: (0, 517), (0, 1049)\n",
      "2023-11-03 06:39:35,017:INFO:the tp solutions: (186.89044330890292, 190.26616505437528)\n",
      "2023-11-03 06:39:35,017:INFO:the tn solutions: (549.4891363675572, 551.3495419700156)\n",
      "2023-11-03 06:39:35,018:INFO:intervals after: [(187, 190)], [(550, 551)]\n",
      "2023-11-03 06:39:35,019:INFO:evaluating the tp and tn solution for acc and f1p\n",
      "2023-11-03 06:39:35,020:INFO:intervals before: [(187, 190)], [(550, 551)]\n",
      "2023-11-03 06:39:35,020:INFO:the tp solutions: (184.87168671166216, 185.11986556349612)\n",
      "2023-11-03 06:39:35,021:INFO:the tn solutions: (553.4808574181667, 554.5185801488539)\n",
      "2023-11-03 06:39:35,022:INFO:intervals after: [], []\n",
      "2023-11-03 06:39:35,023:INFO:evaluating the tp and tn solution for npv and f1p\n",
      "2023-11-03 06:39:35,024:INFO:intervals before: [], []\n",
      "2023-11-03 06:39:35,025:INFO:the tp solutions: (184.01870812695688, 184.69747317618967)\n",
      "2023-11-03 06:39:35,026:INFO:the tn solutions: (556.7064405556058, 558.2736510014568)\n",
      "2023-11-03 06:39:35,026:INFO:intervals after: [], []\n",
      "2023-11-03 06:39:35,027:INFO:testing acc, feasible tptn pairs: 0\n",
      "2023-11-03 06:39:35,028:INFO:no more feasible tp,tn pairs left\n",
      "2023-11-03 06:39:35,029:INFO:constructing final tp, tn pair set\n",
      "2023-11-03 06:39:35,029:INFO:final number of intervals: 0\n",
      "2023-11-03 06:39:35,030:INFO:final number of pairs: 0\n"
     ]
    },
    {
     "data": {
      "text/plain": [
       "{'inconsistency': True,\n",
       " 'details': [{'testing': 'acc',\n",
       "   'score_interval': (0.47179899999999997, 0.472001),\n",
       "   'n_tptn_pairs_before': 0,\n",
       "   'n_tptn_pairs_after': 0,\n",
       "   'decision': 'infeasible'}],\n",
       " 'n_valid_tptn_pairs': 0,\n",
       " 'iterate_by': 'tp',\n",
       " 'solve_for': 'tn',\n",
       " 'evidence': None,\n",
       " 'prefiltering_details': {'inconsistency': True,\n",
       "  'tp': [],\n",
       "  'tn': [],\n",
       "  'details': [{'base_score_0': 'acc',\n",
       "    'base_score_1': 'npv',\n",
       "    'base_score_0_interval': (0.471798, 0.472002),\n",
       "    'base_score_1_interval': (0.6261979999999999, 0.626402),\n",
       "    'tp_after': [(187, 190)],\n",
       "    'tn_after': [(550, 551)],\n",
       "    'inconsistency': False},\n",
       "   {'base_score_0': 'acc',\n",
       "    'base_score_1': 'f1p',\n",
       "    'base_score_0_interval': (0.471798, 0.472002),\n",
       "    'base_score_1_interval': (0.308998, 0.309202),\n",
       "    'tp_after': [],\n",
       "    'tn_after': [],\n",
       "    'inconsistency': True},\n",
       "   {'base_score_0': 'npv',\n",
       "    'base_score_1': 'f1p',\n",
       "    'base_score_0_interval': (0.6261979999999999, 0.626402),\n",
       "    'base_score_1_interval': (0.308998, 0.309202),\n",
       "    'tp_after': [],\n",
       "    'tn_after': [],\n",
       "    'inconsistency': True}]}}"
      ]
     },
     "execution_count": 5,
     "metadata": {},
     "output_type": "execute_result"
    }
   ],
   "source": [
    "check_n_testsets_som_no_kfold(testsets=testsets,\n",
    "                                scores=scores,\n",
    "                                eps=0.0001)"
   ]
  },
  {
   "cell_type": "code",
   "execution_count": null,
   "metadata": {},
   "outputs": [],
   "source": []
  }
 ],
 "metadata": {
  "kernelspec": {
   "display_name": "mlscorecheck",
   "language": "python",
   "name": "python3"
  },
  "language_info": {
   "codemirror_mode": {
    "name": "ipython",
    "version": 3
   },
   "file_extension": ".py",
   "mimetype": "text/x-python",
   "name": "python",
   "nbconvert_exporter": "python",
   "pygments_lexer": "ipython3",
   "version": "3.10.0"
  }
 },
 "nbformat": 4,
 "nbformat_minor": 2
}
