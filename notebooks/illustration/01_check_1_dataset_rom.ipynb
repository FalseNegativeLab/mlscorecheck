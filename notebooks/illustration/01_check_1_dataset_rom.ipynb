{
 "cells": [
  {
   "cell_type": "code",
   "execution_count": 1,
   "metadata": {},
   "outputs": [],
   "source": [
    "from mlscorecheck.check import check_1_dataset_rom_scores\n",
    "from mlscorecheck.aggregated import Dataset, Evaluation, generate_evaluation"
   ]
  },
  {
   "cell_type": "code",
   "execution_count": 2,
   "metadata": {},
   "outputs": [
    {
     "data": {
      "text/plain": [
       "({'dataset': {'dataset_name': 'common_datasets.vehicle1'},\n",
       "  'folding': {'n_folds': 4, 'n_repeats': 2, 'strategy': 'stratified_sklearn'},\n",
       "  'fold_score_bounds': None,\n",
       "  'aggregation': 'rom'},\n",
       " {'acc': 0.252,\n",
       "  'sens': 0.394,\n",
       "  'spec': 0.203,\n",
       "  'npv': 0.492,\n",
       "  'ppv': 0.146,\n",
       "  'bacc': 0.298,\n",
       "  'f1p': 0.213,\n",
       "  'fm': 0.24,\n",
       "  'f1n': 0.287,\n",
       "  'fbp': 0.294,\n",
       "  'fbn': 0.23,\n",
       "  'bm': -0.403,\n",
       "  'pt': 0.587,\n",
       "  'lrp': 0.494,\n",
       "  'lrn': 2.99,\n",
       "  'mk': -0.362,\n",
       "  'dor': 0.165,\n",
       "  'mcc': -0.382,\n",
       "  'ji': 0.119,\n",
       "  'kappa': -0.259,\n",
       "  'gm': 0.283,\n",
       "  'upm': 0.244,\n",
       "  'p4': 0.244,\n",
       "  'beta_positive': 2,\n",
       "  'beta_negative': 2})"
      ]
     },
     "execution_count": 2,
     "metadata": {},
     "output_type": "execute_result"
    }
   ],
   "source": [
    "dataset, scores = generate_evaluation(return_scores=True, rounding_decimals=3)\n",
    "dataset, scores"
   ]
  },
  {
   "cell_type": "code",
   "execution_count": 3,
   "metadata": {},
   "outputs": [
    {
     "name": "stderr",
     "output_type": "stream",
     "text": [
      "2023-09-17 13:11:38,038:INFO:testing spec, feasible tptn pairs: 613\n",
      "2023-09-17 13:11:38,041:INFO:testing bacc, feasible tptn pairs: 613\n",
      "2023-09-17 13:11:38,059:INFO:testing npv, feasible tptn pairs: 2\n",
      "2023-09-17 13:11:38,060:INFO:testing ppv, feasible tptn pairs: 1\n",
      "2023-09-17 13:11:38,061:INFO:testing f1p, feasible tptn pairs: 1\n",
      "2023-09-17 13:11:38,062:INFO:testing fm, feasible tptn pairs: 1\n",
      "2023-09-17 13:11:38,063:INFO:constructing final tp, tn pair set\n",
      "2023-09-17 13:11:38,064:INFO:final number of intervals: 1\n",
      "2023-09-17 13:11:38,065:INFO:final number of pairs: 1\n"
     ]
    },
    {
     "data": {
      "text/plain": [
       "False"
      ]
     },
     "execution_count": 3,
     "metadata": {},
     "output_type": "execute_result"
    }
   ],
   "source": [
    "dataset = {'dataset_name': 'common_datasets.monk-2'}\n",
    "folding = {'n_folds': 4, 'n_repeats': 3, 'strategy': 'stratified_sklearn'}\n",
    "scores = {'spec': 0.668, 'npv': 0.744, 'ppv': 0.667, 'bacc': 0.706, 'f1p': 0.703, 'fm': 0.704}\n",
    "result = check_1_dataset_rom_scores(dataset=dataset,\n",
    "                                    folding=folding,\n",
    "                                    scores=scores,\n",
    "                                    eps=1e-3)\n",
    "result['inconsistency']"
   ]
  },
  {
   "cell_type": "code",
   "execution_count": 4,
   "metadata": {},
   "outputs": [
    {
     "name": "stderr",
     "output_type": "stream",
     "text": [
      "2023-09-17 13:11:38,077:INFO:testing spec, feasible tptn pairs: 613\n",
      "2023-09-17 13:11:38,081:INFO:testing bacc, feasible tptn pairs: 613\n",
      "2023-09-17 13:11:38,101:INFO:testing npv, feasible tptn pairs: 2\n",
      "2023-09-17 13:11:38,102:INFO:no more feasible tp,tn pairs left\n",
      "2023-09-17 13:11:38,104:INFO:constructing final tp, tn pair set\n",
      "2023-09-17 13:11:38,105:INFO:final number of intervals: 0\n",
      "2023-09-17 13:11:38,106:INFO:final number of pairs: 0\n"
     ]
    },
    {
     "data": {
      "text/plain": [
       "True"
      ]
     },
     "execution_count": 4,
     "metadata": {},
     "output_type": "execute_result"
    }
   ],
   "source": [
    "dataset = {'dataset_name': 'common_datasets.monk-2'}\n",
    "folding = {'n_folds': 4, 'n_repeats': 3, 'strategy': 'stratified_sklearn'}\n",
    "scores = {'spec': 0.668, 'npv': 0.544, 'ppv': 0.667, 'bacc': 0.706, 'f1p': 0.703, 'fm': 0.704}\n",
    "result = check_1_dataset_rom_scores(dataset=dataset,\n",
    "                                    folding=folding,\n",
    "                                    scores=scores,\n",
    "                                    eps=1e-3)\n",
    "result['inconsistency']"
   ]
  },
  {
   "cell_type": "code",
   "execution_count": 14,
   "metadata": {},
   "outputs": [
    {
     "name": "stderr",
     "output_type": "stream",
     "text": [
      "2023-09-16 11:37:09,775:INFO:testing acc, feasible tptn pairs: 11\n",
      "2023-09-16 11:37:09,779:INFO:no more feasible tp,tn pairs left\n",
      "2023-09-16 11:37:09,780:INFO:constructing final tp, tn pair set\n",
      "2023-09-16 11:37:09,781:INFO:final number of intervals: 0\n",
      "2023-09-16 11:37:09,782:INFO:final number of pairs: 0\n"
     ]
    },
    {
     "data": {
      "text/plain": [
       "True"
      ]
     },
     "execution_count": 14,
     "metadata": {},
     "output_type": "execute_result"
    }
   ],
   "source": [
    "dataset = {'p': 10, 'n': 20}\n",
    "folding = {'n_folds': 5, 'n_repeats': 1}\n",
    "scores = {'acc': 0.428, 'npv': 0.392, 'bacc': 0.442, 'f1p': 0.391}\n",
    "\n",
    "result = check_1_dataset_rom_scores(dataset=dataset,\n",
    "                                    folding=folding,\n",
    "                                    scores=scores,\n",
    "                                    eps=1e-3)\n",
    "result['inconsistency']"
   ]
  },
  {
   "cell_type": "markdown",
   "metadata": {},
   "source": []
  }
 ],
 "metadata": {
  "kernelspec": {
   "display_name": "mlscorecheck",
   "language": "python",
   "name": "python3"
  },
  "language_info": {
   "codemirror_mode": {
    "name": "ipython",
    "version": 3
   },
   "file_extension": ".py",
   "mimetype": "text/x-python",
   "name": "python",
   "nbconvert_exporter": "python",
   "pygments_lexer": "ipython3",
   "version": "3.10.0"
  },
  "orig_nbformat": 4
 },
 "nbformat": 4,
 "nbformat_minor": 2
}
