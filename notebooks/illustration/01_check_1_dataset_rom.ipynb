{
 "cells": [
  {
   "cell_type": "code",
   "execution_count": 1,
   "metadata": {},
   "outputs": [],
   "source": [
    "from mlscorecheck.check import check_1_dataset_rom_scores\n",
    "from mlscorecheck.aggregated import Dataset, Evaluation, generate_evaluation"
   ]
  },
  {
   "cell_type": "code",
   "execution_count": 2,
   "metadata": {},
   "outputs": [
    {
     "data": {
      "text/plain": [
       "({'dataset': {'dataset_name': 'common_datasets.glass6'},\n",
       "  'folding': {'folds': [{'p': 3,\n",
       "     'n': 19,\n",
       "     'identifier': 'common_datasets.glass6_okb_0_0'},\n",
       "    {'p': 3, 'n': 19, 'identifier': 'common_datasets.glass6_okb_0_1'},\n",
       "    {'p': 3, 'n': 19, 'identifier': 'common_datasets.glass6_okb_0_2'},\n",
       "    {'p': 3, 'n': 19, 'identifier': 'common_datasets.glass6_okb_0_3'},\n",
       "    {'p': 3, 'n': 19, 'identifier': 'common_datasets.glass6_okb_0_4'},\n",
       "    {'p': 3, 'n': 19, 'identifier': 'common_datasets.glass6_okb_0_5'},\n",
       "    {'p': 3, 'n': 19, 'identifier': 'common_datasets.glass6_okb_0_6'},\n",
       "    {'p': 3, 'n': 19, 'identifier': 'common_datasets.glass6_okb_0_7'},\n",
       "    {'p': 3, 'n': 19, 'identifier': 'common_datasets.glass6_okb_0_8'},\n",
       "    {'p': 3, 'n': 19, 'identifier': 'common_datasets.glass6_okb_0_9'},\n",
       "    {'p': 3, 'n': 19, 'identifier': 'common_datasets.glass6_okb_1_0'},\n",
       "    {'p': 3, 'n': 19, 'identifier': 'common_datasets.glass6_okb_1_1'},\n",
       "    {'p': 3, 'n': 19, 'identifier': 'common_datasets.glass6_okb_1_2'},\n",
       "    {'p': 3, 'n': 19, 'identifier': 'common_datasets.glass6_okb_1_3'},\n",
       "    {'p': 3, 'n': 19, 'identifier': 'common_datasets.glass6_okb_1_4'},\n",
       "    {'p': 3, 'n': 19, 'identifier': 'common_datasets.glass6_okb_1_5'},\n",
       "    {'p': 3, 'n': 19, 'identifier': 'common_datasets.glass6_okb_1_6'},\n",
       "    {'p': 3, 'n': 19, 'identifier': 'common_datasets.glass6_okb_1_7'},\n",
       "    {'p': 3, 'n': 19, 'identifier': 'common_datasets.glass6_okb_1_8'},\n",
       "    {'p': 3, 'n': 19, 'identifier': 'common_datasets.glass6_okb_1_9'},\n",
       "    {'p': 2, 'n': 19, 'identifier': 'common_datasets.glass6_okb_2_0'},\n",
       "    {'p': 2, 'n': 19, 'identifier': 'common_datasets.glass6_okb_2_1'},\n",
       "    {'p': 2, 'n': 19, 'identifier': 'common_datasets.glass6_okb_2_2'},\n",
       "    {'p': 2, 'n': 19, 'identifier': 'common_datasets.glass6_okb_2_3'},\n",
       "    {'p': 2, 'n': 19, 'identifier': 'common_datasets.glass6_okb_2_4'},\n",
       "    {'p': 3, 'n': 18, 'identifier': 'common_datasets.glass6_okb_2_5'},\n",
       "    {'p': 3, 'n': 18, 'identifier': 'common_datasets.glass6_okb_2_6'},\n",
       "    {'p': 3, 'n': 18, 'identifier': 'common_datasets.glass6_okb_2_7'},\n",
       "    {'p': 3, 'n': 18, 'identifier': 'common_datasets.glass6_okb_2_8'},\n",
       "    {'p': 3, 'n': 18, 'identifier': 'common_datasets.glass6_okb_2_9'},\n",
       "    {'p': 3, 'n': 18, 'identifier': 'common_datasets.glass6_okb_3_0'},\n",
       "    {'p': 3, 'n': 18, 'identifier': 'common_datasets.glass6_okb_3_1'},\n",
       "    {'p': 3, 'n': 18, 'identifier': 'common_datasets.glass6_okb_3_2'},\n",
       "    {'p': 3, 'n': 18, 'identifier': 'common_datasets.glass6_okb_3_3'},\n",
       "    {'p': 3, 'n': 18, 'identifier': 'common_datasets.glass6_okb_3_4'},\n",
       "    {'p': 3, 'n': 18, 'identifier': 'common_datasets.glass6_okb_3_5'},\n",
       "    {'p': 3, 'n': 18, 'identifier': 'common_datasets.glass6_okb_3_6'},\n",
       "    {'p': 3, 'n': 18, 'identifier': 'common_datasets.glass6_okb_3_7'},\n",
       "    {'p': 3, 'n': 18, 'identifier': 'common_datasets.glass6_okb_3_8'},\n",
       "    {'p': 3, 'n': 18, 'identifier': 'common_datasets.glass6_okb_3_9'},\n",
       "    {'p': 3, 'n': 18, 'identifier': 'common_datasets.glass6_okb_4_0'},\n",
       "    {'p': 3, 'n': 18, 'identifier': 'common_datasets.glass6_okb_4_1'},\n",
       "    {'p': 3, 'n': 18, 'identifier': 'common_datasets.glass6_okb_4_2'},\n",
       "    {'p': 3, 'n': 18, 'identifier': 'common_datasets.glass6_okb_4_3'},\n",
       "    {'p': 3, 'n': 18, 'identifier': 'common_datasets.glass6_okb_4_4'},\n",
       "    {'p': 3, 'n': 18, 'identifier': 'common_datasets.glass6_okb_4_5'},\n",
       "    {'p': 3, 'n': 18, 'identifier': 'common_datasets.glass6_okb_4_6'},\n",
       "    {'p': 3, 'n': 18, 'identifier': 'common_datasets.glass6_okb_4_7'},\n",
       "    {'p': 3, 'n': 18, 'identifier': 'common_datasets.glass6_okb_4_8'},\n",
       "    {'p': 3, 'n': 18, 'identifier': 'common_datasets.glass6_okb_4_9'}]},\n",
       "  'fold_score_bounds': None,\n",
       "  'aggregation': 'rom'},\n",
       " {'acc': 0.553,\n",
       "  'sens': 0.469,\n",
       "  'spec': 0.566,\n",
       "  'npv': 0.872,\n",
       "  'ppv': 0.145,\n",
       "  'bacc': 0.518,\n",
       "  'f1p': 0.221,\n",
       "  'fm': 0.261,\n",
       "  'f1n': 0.687,\n",
       "  'fbp': 0.324,\n",
       "  'fbn': 0.609,\n",
       "  'bm': 0.035,\n",
       "  'pt': 0.49,\n",
       "  'lrp': 1.082,\n",
       "  'lrn': 0.937,\n",
       "  'mk': 0.017,\n",
       "  'dor': 1.154,\n",
       "  'mcc': 0.024,\n",
       "  'ji': 0.125,\n",
       "  'kappa': 0.018,\n",
       "  'gm': 0.515,\n",
       "  'upm': 0.335,\n",
       "  'beta_positive': 2,\n",
       "  'beta_negative': 2})"
      ]
     },
     "execution_count": 2,
     "metadata": {},
     "output_type": "execute_result"
    }
   ],
   "source": [
    "dataset, scores = generate_evaluation(return_scores=True, rounding_decimals=3)\n",
    "dataset, scores"
   ]
  },
  {
   "cell_type": "code",
   "execution_count": 3,
   "metadata": {},
   "outputs": [
    {
     "name": "stderr",
     "output_type": "stream",
     "text": [
      "2023-10-17 03:59:51,500:INFO:testing spec, feasible tptn pairs: 613\n",
      "2023-10-17 03:59:51,504:INFO:testing bacc, feasible tptn pairs: 613\n",
      "2023-10-17 03:59:51,518:INFO:testing npv, feasible tptn pairs: 2\n",
      "2023-10-17 03:59:51,519:INFO:testing ppv, feasible tptn pairs: 1\n",
      "2023-10-17 03:59:51,520:INFO:testing f1p, feasible tptn pairs: 1\n",
      "2023-10-17 03:59:51,521:INFO:testing fm, feasible tptn pairs: 1\n",
      "2023-10-17 03:59:51,522:INFO:constructing final tp, tn pair set\n",
      "2023-10-17 03:59:51,523:INFO:final number of intervals: 1\n",
      "2023-10-17 03:59:51,524:INFO:final number of pairs: 1\n"
     ]
    },
    {
     "data": {
      "text/plain": [
       "False"
      ]
     },
     "execution_count": 3,
     "metadata": {},
     "output_type": "execute_result"
    }
   ],
   "source": [
    "dataset = {'dataset_name': 'common_datasets.monk-2'}\n",
    "folding = {'n_folds': 4, 'n_repeats': 3, 'strategy': 'stratified_sklearn'}\n",
    "scores = {'spec': 0.668, 'npv': 0.744, 'ppv': 0.667, 'bacc': 0.706, 'f1p': 0.703, 'fm': 0.704}\n",
    "result = check_1_dataset_rom_scores(dataset=dataset,\n",
    "                                    folding=folding,\n",
    "                                    scores=scores,\n",
    "                                    eps=1e-3)\n",
    "result['inconsistency']"
   ]
  },
  {
   "cell_type": "code",
   "execution_count": 4,
   "metadata": {},
   "outputs": [
    {
     "name": "stderr",
     "output_type": "stream",
     "text": [
      "2023-10-17 03:59:51,535:INFO:testing spec, feasible tptn pairs: 613\n",
      "2023-10-17 03:59:51,540:INFO:testing bacc, feasible tptn pairs: 613\n",
      "2023-10-17 03:59:51,558:INFO:testing npv, feasible tptn pairs: 2\n",
      "2023-10-17 03:59:51,559:INFO:no more feasible tp,tn pairs left\n",
      "2023-10-17 03:59:51,559:INFO:constructing final tp, tn pair set\n",
      "2023-10-17 03:59:51,561:INFO:final number of intervals: 0\n",
      "2023-10-17 03:59:51,561:INFO:final number of pairs: 0\n"
     ]
    },
    {
     "data": {
      "text/plain": [
       "True"
      ]
     },
     "execution_count": 4,
     "metadata": {},
     "output_type": "execute_result"
    }
   ],
   "source": [
    "dataset = {'dataset_name': 'common_datasets.monk-2'}\n",
    "folding = {'n_folds': 4, 'n_repeats': 3, 'strategy': 'stratified_sklearn'}\n",
    "scores = {'spec': 0.668, 'npv': 0.544, 'ppv': 0.667, 'bacc': 0.706, 'f1p': 0.703, 'fm': 0.704}\n",
    "result = check_1_dataset_rom_scores(dataset=dataset,\n",
    "                                    folding=folding,\n",
    "                                    scores=scores,\n",
    "                                    eps=1e-3)\n",
    "result['inconsistency']"
   ]
  },
  {
   "cell_type": "code",
   "execution_count": 5,
   "metadata": {},
   "outputs": [
    {
     "name": "stderr",
     "output_type": "stream",
     "text": [
      "2023-10-17 03:59:51,572:INFO:testing acc, feasible tptn pairs: 11\n",
      "2023-10-17 03:59:51,574:INFO:no more feasible tp,tn pairs left\n",
      "2023-10-17 03:59:51,575:INFO:constructing final tp, tn pair set\n",
      "2023-10-17 03:59:51,576:INFO:final number of intervals: 0\n",
      "2023-10-17 03:59:51,576:INFO:final number of pairs: 0\n"
     ]
    },
    {
     "data": {
      "text/plain": [
       "True"
      ]
     },
     "execution_count": 5,
     "metadata": {},
     "output_type": "execute_result"
    }
   ],
   "source": [
    "dataset = {'p': 10, 'n': 20}\n",
    "folding = {'n_folds': 5, 'n_repeats': 1}\n",
    "scores = {'acc': 0.428, 'npv': 0.392, 'bacc': 0.442, 'f1p': 0.391}\n",
    "\n",
    "result = check_1_dataset_rom_scores(dataset=dataset,\n",
    "                                    folding=folding,\n",
    "                                    scores=scores,\n",
    "                                    eps=1e-3)\n",
    "result['inconsistency']"
   ]
  }
 ],
 "metadata": {
  "kernelspec": {
   "display_name": "mlscorecheck",
   "language": "python",
   "name": "python3"
  },
  "language_info": {
   "codemirror_mode": {
    "name": "ipython",
    "version": 3
   },
   "file_extension": ".py",
   "mimetype": "text/x-python",
   "name": "python",
   "nbconvert_exporter": "python",
   "pygments_lexer": "ipython3",
   "version": "3.10.0"
  },
  "orig_nbformat": 4
 },
 "nbformat": 4,
 "nbformat_minor": 2
}
