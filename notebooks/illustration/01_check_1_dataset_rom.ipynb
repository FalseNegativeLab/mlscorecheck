{
 "cells": [
  {
   "cell_type": "code",
   "execution_count": 4,
   "metadata": {},
   "outputs": [],
   "source": [
    "from mlscorecheck.check import check_1_dataset_rom_scores\n",
    "from mlscorecheck.aggregated import Dataset, Evaluation, generate_evaluation"
   ]
  },
  {
   "cell_type": "code",
   "execution_count": 10,
   "metadata": {},
   "outputs": [
    {
     "data": {
      "text/plain": [
       "({'dataset': {'dataset_name': 'common_datasets.monk-2'},\n",
       "  'folding': {'n_folds': 4, 'n_repeats': 3, 'strategy': 'stratified_sklearn'},\n",
       "  'fold_score_bounds': None,\n",
       "  'aggregation': 'rom'},\n",
       " {'acc': 0.704,\n",
       "  'sens': 0.743,\n",
       "  'spec': 0.668,\n",
       "  'npv': 0.744,\n",
       "  'ppv': 0.667,\n",
       "  'bacc': 0.706,\n",
       "  'f1p': 0.703,\n",
       "  'fm': 0.704,\n",
       "  'f1n': 0.704,\n",
       "  'fbp': 0.727,\n",
       "  'fbn': 0.682,\n",
       "  'bm': 0.412,\n",
       "  'pt': 0.401,\n",
       "  'lrp': 2.24,\n",
       "  'lrn': 0.384,\n",
       "  'mk': 0.411,\n",
       "  'dor': 5.834,\n",
       "  'mcc': 0.412,\n",
       "  'ji': 0.542,\n",
       "  'kappa': 0.409,\n",
       "  'gm': 0.705,\n",
       "  'upm': 0.704,\n",
       "  'p4': 0.704,\n",
       "  'beta_positive': 2,\n",
       "  'beta_negative': 2})"
      ]
     },
     "execution_count": 10,
     "metadata": {},
     "output_type": "execute_result"
    }
   ],
   "source": [
    "dataset, scores = generate_evaluation(return_scores=True, rounding_decimals=3)\n",
    "dataset, scores"
   ]
  },
  {
   "cell_type": "code",
   "execution_count": 12,
   "metadata": {},
   "outputs": [
    {
     "name": "stderr",
     "output_type": "stream",
     "text": [
      "2023-09-16 11:35:11,954:INFO:testing spec, feasible tptn pairs: 613\n",
      "2023-09-16 11:35:11,960:INFO:testing bacc, feasible tptn pairs: 613\n",
      "2023-09-16 11:35:11,983:INFO:testing npv, feasible tptn pairs: 2\n",
      "2023-09-16 11:35:11,985:INFO:testing ppv, feasible tptn pairs: 1\n",
      "2023-09-16 11:35:11,986:INFO:testing f1p, feasible tptn pairs: 1\n",
      "2023-09-16 11:35:11,987:INFO:testing fm, feasible tptn pairs: 1\n",
      "2023-09-16 11:35:11,988:INFO:constructing final tp, tn pair set\n",
      "2023-09-16 11:35:11,989:INFO:final number of intervals: 1\n",
      "2023-09-16 11:35:11,990:INFO:final number of pairs: 1\n"
     ]
    },
    {
     "data": {
      "text/plain": [
       "False"
      ]
     },
     "execution_count": 12,
     "metadata": {},
     "output_type": "execute_result"
    }
   ],
   "source": [
    "dataset = {'dataset_name': 'common_datasets.monk-2'}\n",
    "folding = {'n_folds': 4, 'n_repeats': 3, 'strategy': 'stratified_sklearn'}\n",
    "scores = {'spec': 0.668, 'npv': 0.744, 'ppv': 0.667, 'bacc': 0.706, 'f1p': 0.703, 'fm': 0.704}\n",
    "result = check_1_dataset_rom_scores(dataset=dataset,\n",
    "                                    folding=folding,\n",
    "                                    scores=scores,\n",
    "                                    eps=1e-3)\n",
    "result['inconsistency']"
   ]
  },
  {
   "cell_type": "code",
   "execution_count": 14,
   "metadata": {},
   "outputs": [
    {
     "name": "stderr",
     "output_type": "stream",
     "text": [
      "2023-09-16 11:37:09,775:INFO:testing acc, feasible tptn pairs: 11\n",
      "2023-09-16 11:37:09,779:INFO:no more feasible tp,tn pairs left\n",
      "2023-09-16 11:37:09,780:INFO:constructing final tp, tn pair set\n",
      "2023-09-16 11:37:09,781:INFO:final number of intervals: 0\n",
      "2023-09-16 11:37:09,782:INFO:final number of pairs: 0\n"
     ]
    },
    {
     "data": {
      "text/plain": [
       "True"
      ]
     },
     "execution_count": 14,
     "metadata": {},
     "output_type": "execute_result"
    }
   ],
   "source": [
    "dataset = {'p': 10, 'n': 20}\n",
    "folding = {'n_folds': 5, 'n_repeats': 1}\n",
    "scores = {'acc': 0.428, 'npv': 0.392, 'bacc': 0.442, 'f1p': 0.391}\n",
    "\n",
    "result = check_1_dataset_rom_scores(dataset=dataset,\n",
    "                                    folding=folding,\n",
    "                                    scores=scores,\n",
    "                                    eps=1e-3)\n",
    "result['inconsistency']"
   ]
  },
  {
   "cell_type": "markdown",
   "metadata": {},
   "source": []
  }
 ],
 "metadata": {
  "kernelspec": {
   "display_name": "mlscorecheck",
   "language": "python",
   "name": "python3"
  },
  "language_info": {
   "codemirror_mode": {
    "name": "ipython",
    "version": 3
   },
   "file_extension": ".py",
   "mimetype": "text/x-python",
   "name": "python",
   "nbconvert_exporter": "python",
   "pygments_lexer": "ipython3",
   "version": "3.10.0"
  },
  "orig_nbformat": 4
 },
 "nbformat": 4,
 "nbformat_minor": 2
}
