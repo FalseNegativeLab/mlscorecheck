{
 "cells": [
  {
   "cell_type": "markdown",
   "metadata": {},
   "source": [
    "# Testing the consistency of performance scored reported for the DRIVE retinal vessel segmentation dataset"
   ]
  },
  {
   "cell_type": "code",
   "execution_count": 1,
   "metadata": {},
   "outputs": [],
   "source": [
    "from mlscorecheck.bundles import (drive_image, drive_aggregated)"
   ]
  },
  {
   "cell_type": "markdown",
   "metadata": {},
   "source": [
    "## Aggregated scores"
   ]
  },
  {
   "cell_type": "markdown",
   "metadata": {},
   "source": [
    "First we test the aggregated scores published in\n",
    "G. Kovacs et al, 2016: \"A self-calibrating technique for the segmentation of retinal vessels by\n",
    "template matching and contour reconstruction\", Medical Image Analysis 29(4), 24-46\n",
    "doi:10.1016/j.media.2015.12.003.\n"
   ]
  },
  {
   "cell_type": "code",
   "execution_count": 2,
   "metadata": {},
   "outputs": [],
   "source": [
    "scores = {'acc': 0.9494, 'sens': 0.7450, 'spec': 0.9793}\n",
    "\n",
    "# the numerical uncertainty (assuming ceiling/flooring)\n",
    "k = 4"
   ]
  },
  {
   "cell_type": "code",
   "execution_count": 3,
   "metadata": {},
   "outputs": [
    {
     "name": "stderr",
     "output_type": "stream",
     "text": [
      "2023-10-17 04:02:39,338:INFO:testing MoR FoV pixels\n",
      "2023-10-17 04:02:39,362:INFO:testing MoR all pixels\n",
      "2023-10-17 04:02:39,378:INFO:testing RoM FoV pixels\n",
      "2023-10-17 04:02:39,444:INFO:testing acc, feasible tptn pairs: 577650\n",
      "2023-10-17 04:02:51,705:INFO:testing sens, feasible tptn pairs: 230090\n",
      "2023-10-17 04:02:51,758:INFO:testing spec, feasible tptn pairs: 116\n",
      "2023-10-17 04:02:51,760:INFO:constructing final tp, tn pair set\n",
      "2023-10-17 04:02:51,760:INFO:final number of intervals: 116\n",
      "2023-10-17 04:02:51,761:INFO:final number of pairs: 59334\n",
      "2023-10-17 04:02:51,762:INFO:testing RoM all pixels\n",
      "2023-10-17 04:02:51,799:INFO:testing acc, feasible tptn pairs: 577946\n",
      "2023-10-17 04:03:04,546:INFO:testing sens, feasible tptn pairs: 334588\n",
      "2023-10-17 04:03:04,647:INFO:testing spec, feasible tptn pairs: 117\n",
      "2023-10-17 04:03:04,649:INFO:no more feasible tp,tn pairs left\n",
      "2023-10-17 04:03:04,650:INFO:constructing final tp, tn pair set\n",
      "2023-10-17 04:03:04,651:INFO:final number of intervals: 0\n",
      "2023-10-17 04:03:04,652:INFO:final number of pairs: 0\n"
     ]
    }
   ],
   "source": [
    "results = drive_aggregated(scores=scores,\n",
    "                            eps=10**(-k),\n",
    "                            image_set='test',\n",
    "                            verbosity=0)"
   ]
  },
  {
   "cell_type": "code",
   "execution_count": 4,
   "metadata": {},
   "outputs": [
    {
     "data": {
      "text/plain": [
       "{'mor_fov_pixels_inconsistency': False,\n",
       " 'mor_all_pixels_inconsistency': True,\n",
       " 'rom_fov_pixels_inconsistency': False,\n",
       " 'rom_all_pixels_inconsistency': True}"
      ]
     },
     "execution_count": 4,
     "metadata": {},
     "output_type": "execute_result"
    }
   ],
   "source": [
    "results"
   ]
  },
  {
   "cell_type": "markdown",
   "metadata": {},
   "source": [
    "As the results show, the scores are inconsistent with the assumption of using all pixels with any aggregation ('Ratio-of-Means'/'Mean-of-Ratios').\n",
    "\n",
    "Next, we test the aggregated scores published in\n",
    "Jebaseeli et al., 2019, \"Retinal Blood Vessel segmentation from diabetic retinopathy images using\n",
    "tandem PCNN model and deep learning based SVM\", Optik 199, 163328, doi:10.1016/j.ijleo.2019.163328."
   ]
  },
  {
   "cell_type": "code",
   "execution_count": 5,
   "metadata": {},
   "outputs": [],
   "source": [
    "scores = {'acc': 0.9898, 'sens': 0.8027, 'spec': 0.9980}\n",
    "\n",
    "# the numerical uncertainty (assuming ceiling/flooring)\n",
    "k = 4"
   ]
  },
  {
   "cell_type": "code",
   "execution_count": 6,
   "metadata": {},
   "outputs": [
    {
     "name": "stderr",
     "output_type": "stream",
     "text": [
      "2023-10-17 04:03:04,693:INFO:testing MoR FoV pixels\n",
      "2023-10-17 04:03:04,709:INFO:testing MoR all pixels\n",
      "2023-10-17 04:03:04,725:INFO:testing RoM FoV pixels\n",
      "2023-10-17 04:03:04,767:INFO:testing acc, feasible tptn pairs: 577650\n",
      "2023-10-17 04:03:17,417:INFO:testing sens, feasible tptn pairs: 46749\n",
      "2023-10-17 04:03:17,426:INFO:no more feasible tp,tn pairs left\n",
      "2023-10-17 04:03:17,428:INFO:constructing final tp, tn pair set\n",
      "2023-10-17 04:03:17,429:INFO:final number of intervals: 0\n",
      "2023-10-17 04:03:17,429:INFO:final number of pairs: 0\n",
      "2023-10-17 04:03:17,430:INFO:testing RoM all pixels\n",
      "2023-10-17 04:03:17,458:INFO:testing acc, feasible tptn pairs: 577946\n",
      "2023-10-17 04:03:28,282:INFO:testing sens, feasible tptn pairs: 67980\n",
      "2023-10-17 04:03:28,295:INFO:no more feasible tp,tn pairs left\n",
      "2023-10-17 04:03:28,295:INFO:constructing final tp, tn pair set\n",
      "2023-10-17 04:03:28,296:INFO:final number of intervals: 0\n",
      "2023-10-17 04:03:28,297:INFO:final number of pairs: 0\n"
     ]
    }
   ],
   "source": [
    "results = drive_aggregated(scores=scores,\n",
    "                            eps=10**(-k),\n",
    "                            image_set='test',\n",
    "                            verbosity=0)"
   ]
  },
  {
   "cell_type": "code",
   "execution_count": 7,
   "metadata": {},
   "outputs": [
    {
     "data": {
      "text/plain": [
       "{'mor_fov_pixels_inconsistency': True,\n",
       " 'mor_all_pixels_inconsistency': True,\n",
       " 'rom_fov_pixels_inconsistency': True,\n",
       " 'rom_all_pixels_inconsistency': True}"
      ]
     },
     "execution_count": 7,
     "metadata": {},
     "output_type": "execute_result"
    }
   ],
   "source": [
    "results"
   ]
  },
  {
   "cell_type": "markdown",
   "metadata": {},
   "source": [
    "As the results show, the reported scores are inconsistent with any of the four reasonable assumptions in the field (using the FoV pixels only or using all pixels; using Mean-of-Ratios aggregation or 'Ratio-of-Means' aggregation)."
   ]
  },
  {
   "cell_type": "markdown",
   "metadata": {},
   "source": [
    "## Image level"
   ]
  },
  {
   "cell_type": "markdown",
   "metadata": {},
   "source": [
    "Image level figures from Mo et al., \"Multi-level deep supervised networks for retinal vessel seg-\n",
    "mentation\", Int J Comput Assist Radiol Surg, 12. doi:10.1007/s11548-017-1619-0"
   ]
  },
  {
   "cell_type": "code",
   "execution_count": 8,
   "metadata": {},
   "outputs": [],
   "source": [
    "scores = {'acc': 0.9323, 'sens': 0.5677, 'spec': 0.9944}\n",
    "identifier = '03'\n",
    "k = 4"
   ]
  },
  {
   "cell_type": "code",
   "execution_count": 9,
   "metadata": {},
   "outputs": [
    {
     "name": "stderr",
     "output_type": "stream",
     "text": [
      "2023-10-17 04:03:28,331:INFO:Use this function if the scores originate from the tp and tn statistics calculated on one test set with no aggregation of any kind.\n",
      "2023-10-17 04:03:28,333:INFO:calling the score check with scores {'acc': 0.9323, 'sens': 0.5677, 'spec': 0.9944}, uncertainty 0.0001, p 32886 and n 192841\n",
      "2023-10-17 04:03:28,334:INFO:checking the scores {'acc': 0.9323, 'sens': 0.5677, 'spec': 0.9944}\n",
      "2023-10-17 04:03:28,335:INFO:evaluating the tp and tn solution for acc and sens\n",
      "2023-10-17 04:03:28,336:INFO:intervals before: (0, 32886), (0, 192841)\n",
      "2023-10-17 04:03:28,338:INFO:the tp solutions: (18666.027828, 18672.736572)\n",
      "2023-10-17 04:03:28,338:INFO:the tn solutions: (191749.521374, 191802.27842600003)\n",
      "2023-10-17 04:03:28,339:INFO:intervals after: [(18667, 18672)], [(191750, 191802)]\n",
      "2023-10-17 04:03:28,341:INFO:evaluating the tp and tn solution for acc and spec\n",
      "2023-10-17 04:03:28,341:INFO:intervals before: [(18667, 18672)], [(191750, 191802)]\n",
      "2023-10-17 04:03:28,343:INFO:the tp solutions: (18641.497764, 18726.88563600005)\n",
      "2023-10-17 04:03:28,344:INFO:the tn solutions: (191741.42061799997, 191780.760182)\n",
      "2023-10-17 04:03:28,344:INFO:intervals after: [(18667, 18672)], [(191750, 191780)]\n",
      "2023-10-17 04:03:28,345:INFO:evaluating the tp and tn solution for sens and spec\n",
      "2023-10-17 04:03:28,346:INFO:intervals before: [(18667, 18672)], [(191750, 191780)]\n",
      "2023-10-17 04:03:28,347:INFO:the tp solutions: (18666.027828, 18672.736572)\n",
      "2023-10-17 04:03:28,348:INFO:the tn solutions: (191741.42061799997, 191780.760182)\n",
      "2023-10-17 04:03:28,348:INFO:intervals after: [(18667, 18672)], [(191750, 191780)]\n",
      "2023-10-17 04:03:28,350:INFO:testing acc, feasible tptn pairs: 6\n",
      "2023-10-17 04:03:28,351:INFO:testing sens, feasible tptn pairs: 6\n",
      "2023-10-17 04:03:28,352:INFO:testing spec, feasible tptn pairs: 6\n",
      "2023-10-17 04:03:28,353:INFO:constructing final tp, tn pair set\n",
      "2023-10-17 04:03:28,354:INFO:final number of intervals: 6\n",
      "2023-10-17 04:03:28,355:INFO:final number of pairs: 165\n",
      "2023-10-17 04:03:28,356:INFO:Use this function if the scores originate from the tp and tn statistics calculated on one test set with no aggregation of any kind.\n",
      "2023-10-17 04:03:28,357:INFO:calling the score check with scores {'acc': 0.9323, 'sens': 0.5677, 'spec': 0.9944}, uncertainty 0.0001, p 32893 and n 297067\n",
      "2023-10-17 04:03:28,358:INFO:checking the scores {'acc': 0.9323, 'sens': 0.5677, 'spec': 0.9944}\n",
      "2023-10-17 04:03:28,359:INFO:evaluating the tp and tn solution for acc and sens\n",
      "2023-10-17 04:03:28,359:INFO:intervals before: (0, 32893), (0, 297067)\n",
      "2023-10-17 04:03:28,360:INFO:the tp solutions: (18670.001013999998, 18676.711186)\n",
      "2023-10-17 04:03:28,361:INFO:the tn solutions: (288911.3408939999, 288985.36290600005)\n",
      "2023-10-17 04:03:28,362:INFO:intervals after: [(18671, 18676)], [(288912, 288985)]\n",
      "2023-10-17 04:03:28,364:INFO:evaluating the tp and tn solution for acc and spec\n",
      "2023-10-17 04:03:28,365:INFO:intervals before: [(18671, 18676)], [(288912, 288985)]\n",
      "2023-10-17 04:03:28,365:INFO:the tp solutions: (12154.326445999963, 12282.239954000048)\n",
      "2023-10-17 04:03:28,366:INFO:the tn solutions: (295373.123966, 295433.725634)\n",
      "2023-10-17 04:03:28,368:INFO:intervals after: [], []\n",
      "2023-10-17 04:03:28,369:INFO:evaluating the tp and tn solution for sens and spec\n",
      "2023-10-17 04:03:28,369:INFO:intervals before: [], []\n",
      "2023-10-17 04:03:28,370:INFO:the tp solutions: (18670.001013999998, 18676.711186)\n",
      "2023-10-17 04:03:28,371:INFO:the tn solutions: (295373.123966, 295433.725634)\n",
      "2023-10-17 04:03:28,372:INFO:intervals after: [], []\n",
      "2023-10-17 04:03:28,373:INFO:testing acc, feasible tptn pairs: 0\n",
      "2023-10-17 04:03:28,374:INFO:no more feasible tp,tn pairs left\n",
      "2023-10-17 04:03:28,375:INFO:constructing final tp, tn pair set\n",
      "2023-10-17 04:03:28,376:INFO:final number of intervals: 0\n",
      "2023-10-17 04:03:28,377:INFO:final number of pairs: 0\n"
     ]
    }
   ],
   "source": [
    "results = drive_image(scores=scores,\n",
    "                        eps=10**(-k),\n",
    "                        image_set='test',\n",
    "                        identifier=identifier)"
   ]
  },
  {
   "cell_type": "code",
   "execution_count": 10,
   "metadata": {},
   "outputs": [
    {
     "data": {
      "text/plain": [
       "{'fov_pixels_inconsistency': False, 'all_pixels_inconsistency': True}"
      ]
     },
     "execution_count": 10,
     "metadata": {},
     "output_type": "execute_result"
    }
   ],
   "source": [
    "results"
   ]
  },
  {
   "cell_type": "markdown",
   "metadata": {},
   "source": [
    "As the results show, the scores are inconsistent with the assumption that all pixels were, used, however, the scores are not inconsistent with the assumption that only the FoV pixels were used for evaluation."
   ]
  },
  {
   "cell_type": "markdown",
   "metadata": {},
   "source": [
    "Testing image level results from Lupascu et al., 2010, \"Fabc: retinal vessel segmentation using\n",
    "adaboost\", Trans. Info. Tech. Biomed 14 (5), 1267—1274, 2052282. doi:10.1109/TITB.2010."
   ]
  },
  {
   "cell_type": "code",
   "execution_count": 11,
   "metadata": {},
   "outputs": [],
   "source": [
    "scores = {'acc': 0.9633, 'sens': 0.7406, 'spec': 0.9849}\n",
    "identifier = '01'\n",
    "k = 4"
   ]
  },
  {
   "cell_type": "code",
   "execution_count": 12,
   "metadata": {},
   "outputs": [
    {
     "name": "stderr",
     "output_type": "stream",
     "text": [
      "2023-10-17 04:03:28,413:INFO:Use this function if the scores originate from the tp and tn statistics calculated on one test set with no aggregation of any kind.\n",
      "2023-10-17 04:03:28,414:INFO:calling the score check with scores {'acc': 0.9633, 'sens': 0.7406, 'spec': 0.9849}, uncertainty 0.0001, p 29412 and n 194965\n",
      "2023-10-17 04:03:28,415:INFO:checking the scores {'acc': 0.9633, 'sens': 0.7406, 'spec': 0.9849}\n",
      "2023-10-17 04:03:28,416:INFO:evaluating the tp and tn solution for acc and sens\n",
      "2023-10-17 04:03:28,417:INFO:intervals before: (0, 29412), (0, 194965)\n",
      "2023-10-17 04:03:28,418:INFO:the tp solutions: (21779.527176, 21785.527224)\n",
      "2023-10-17 04:03:28,419:INFO:the tn solutions: (194333.950422, 194385.72337800002)\n",
      "2023-10-17 04:03:28,420:INFO:intervals after: [(21780, 21785)], [(194334, 194385)]\n",
      "2023-10-17 04:03:28,423:INFO:evaluating the tp and tn solution for acc and spec\n",
      "2023-10-17 04:03:28,424:INFO:intervals before: [(21780, 21785)], [(194334, 194385)]\n",
      "2023-10-17 04:03:28,425:INFO:the tp solutions: (24078.562715999986, 24164.108484000026)\n",
      "2023-10-17 04:03:28,426:INFO:the tn solutions: (192001.14207, 192040.91493)\n",
      "2023-10-17 04:03:28,427:INFO:intervals after: [], []\n",
      "2023-10-17 04:03:28,429:INFO:evaluating the tp and tn solution for sens and spec\n",
      "2023-10-17 04:03:28,430:INFO:intervals before: [], []\n",
      "2023-10-17 04:03:28,431:INFO:the tp solutions: (21779.527176, 21785.527224)\n",
      "2023-10-17 04:03:28,431:INFO:the tn solutions: (192001.14207, 192040.91493)\n",
      "2023-10-17 04:03:28,432:INFO:intervals after: [], []\n",
      "2023-10-17 04:03:28,433:INFO:testing acc, feasible tptn pairs: 0\n",
      "2023-10-17 04:03:28,434:INFO:no more feasible tp,tn pairs left\n",
      "2023-10-17 04:03:28,435:INFO:constructing final tp, tn pair set\n",
      "2023-10-17 04:03:28,436:INFO:final number of intervals: 0\n",
      "2023-10-17 04:03:28,437:INFO:final number of pairs: 0\n",
      "2023-10-17 04:03:28,439:INFO:Use this function if the scores originate from the tp and tn statistics calculated on one test set with no aggregation of any kind.\n",
      "2023-10-17 04:03:28,440:INFO:calling the score check with scores {'acc': 0.9633, 'sens': 0.7406, 'spec': 0.9849}, uncertainty 0.0001, p 29440 and n 300520\n",
      "2023-10-17 04:03:28,441:INFO:checking the scores {'acc': 0.9633, 'sens': 0.7406, 'spec': 0.9849}\n",
      "2023-10-17 04:03:28,442:INFO:evaluating the tp and tn solution for acc and sens\n",
      "2023-10-17 04:03:28,443:INFO:intervals before: (0, 29440), (0, 300520)\n",
      "2023-10-17 04:03:28,445:INFO:the tp solutions: (21800.26112, 21806.266880000003)\n",
      "2023-10-17 04:03:28,446:INFO:the tn solutions: (296010.5452, 296083.86280000006)\n",
      "2023-10-17 04:03:28,447:INFO:intervals after: [(21801, 21806)], [(296011, 296083)]\n",
      "2023-10-17 04:03:28,448:INFO:evaluating the tp and tn solution for acc and spec\n",
      "2023-10-17 04:03:28,449:INFO:intervals before: [(21801, 21806)], [(296011, 296083)]\n",
      "2023-10-17 04:03:28,450:INFO:the tp solutions: (21804.011040000012, 21932.62896000006)\n",
      "2023-10-17 04:03:28,451:INFO:the tn solutions: (295951.49496, 296012.80104)\n",
      "2023-10-17 04:03:28,452:INFO:intervals after: [(21805, 21806)], [(296011, 296012)]\n",
      "2023-10-17 04:03:28,453:INFO:evaluating the tp and tn solution for sens and spec\n",
      "2023-10-17 04:03:28,454:INFO:intervals before: [(21805, 21806)], [(296011, 296012)]\n",
      "2023-10-17 04:03:28,455:INFO:the tp solutions: (21800.26112, 21806.266880000003)\n",
      "2023-10-17 04:03:28,456:INFO:the tn solutions: (295951.49496, 296012.80104)\n",
      "2023-10-17 04:03:28,458:INFO:intervals after: [(21805, 21806)], [(296011, 296012)]\n",
      "2023-10-17 04:03:28,459:INFO:testing acc, feasible tptn pairs: 2\n",
      "2023-10-17 04:03:28,461:INFO:testing sens, feasible tptn pairs: 1\n",
      "2023-10-17 04:03:28,462:INFO:testing spec, feasible tptn pairs: 1\n",
      "2023-10-17 04:03:28,463:INFO:constructing final tp, tn pair set\n",
      "2023-10-17 04:03:28,464:INFO:final number of intervals: 1\n",
      "2023-10-17 04:03:28,465:INFO:final number of pairs: 1\n"
     ]
    }
   ],
   "source": [
    "results = drive_image(scores=scores,\n",
    "                        eps=10**(-k),\n",
    "                        image_set='test',\n",
    "                        identifier=identifier)"
   ]
  },
  {
   "cell_type": "code",
   "execution_count": 13,
   "metadata": {},
   "outputs": [
    {
     "data": {
      "text/plain": [
       "{'fov_pixels_inconsistency': True, 'all_pixels_inconsistency': False}"
      ]
     },
     "execution_count": 13,
     "metadata": {},
     "output_type": "execute_result"
    }
   ],
   "source": [
    "results"
   ]
  },
  {
   "cell_type": "markdown",
   "metadata": {},
   "source": [
    "As the results show, the scores are inconsistent with the assumption of evaluating the segmentation only in the FoV region, however, the scores are not inconsistent with the assumption of evaluating the method with all pixels."
   ]
  }
 ],
 "metadata": {
  "kernelspec": {
   "display_name": "mlscorecheck",
   "language": "python",
   "name": "python3"
  },
  "language_info": {
   "codemirror_mode": {
    "name": "ipython",
    "version": 3
   },
   "file_extension": ".py",
   "mimetype": "text/x-python",
   "name": "python",
   "nbconvert_exporter": "python",
   "pygments_lexer": "ipython3",
   "version": "3.10.0"
  },
  "orig_nbformat": 4
 },
 "nbformat": 4,
 "nbformat_minor": 2
}
