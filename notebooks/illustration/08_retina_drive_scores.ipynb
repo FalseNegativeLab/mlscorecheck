{
 "cells": [
  {
   "cell_type": "markdown",
   "metadata": {},
   "source": [
    "# Testing the consistency of performance scored reported for the DRIVE retinal vessel segmentation dataset"
   ]
  },
  {
   "cell_type": "code",
   "execution_count": 1,
   "metadata": {},
   "outputs": [],
   "source": [
    "from mlscorecheck.bundles import (drive_image, drive_aggregated)"
   ]
  },
  {
   "cell_type": "markdown",
   "metadata": {},
   "source": [
    "## Aggregated scores"
   ]
  },
  {
   "cell_type": "markdown",
   "metadata": {},
   "source": [
    "First we test the aggregated scores published in\n",
    "G. Kovacs et al, 2016: \"A self-calibrating technique for the segmentation of retinal vessels by\n",
    "template matching and contour reconstruction\", Medical Image Analysis 29(4), 24-46\n",
    "doi:10.1016/j.media.2015.12.003.\n"
   ]
  },
  {
   "cell_type": "code",
   "execution_count": 2,
   "metadata": {},
   "outputs": [],
   "source": [
    "scores = {'acc': 0.9494, 'sens': 0.7450, 'spec': 0.9793}\n",
    "\n",
    "# the numerical uncertainty (assuming ceiling/flooring)\n",
    "k = 4"
   ]
  },
  {
   "cell_type": "code",
   "execution_count": 3,
   "metadata": {},
   "outputs": [
    {
     "name": "stderr",
     "output_type": "stream",
     "text": [
      "2023-09-16 14:04:43,944:INFO:testing MoR FoV pixels\n",
      "2023-09-16 14:04:43,966:INFO:testing MoR all pixels\n",
      "2023-09-16 14:04:43,979:INFO:testing RoM FoV pixels\n",
      "2023-09-16 14:04:44,030:INFO:testing acc, feasible tptn pairs: 577650\n",
      "2023-09-16 14:04:54,561:INFO:testing sens, feasible tptn pairs: 230090\n",
      "2023-09-16 14:04:54,613:INFO:testing spec, feasible tptn pairs: 116\n",
      "2023-09-16 14:04:54,615:INFO:constructing final tp, tn pair set\n",
      "2023-09-16 14:04:54,615:INFO:final number of intervals: 116\n",
      "2023-09-16 14:04:54,616:INFO:final number of pairs: 59334\n",
      "2023-09-16 14:04:54,617:INFO:testing RoM all pixels\n",
      "2023-09-16 14:04:54,644:INFO:testing acc, feasible tptn pairs: 577946\n",
      "2023-09-16 14:05:06,651:INFO:testing sens, feasible tptn pairs: 334588\n",
      "2023-09-16 14:05:06,755:INFO:testing spec, feasible tptn pairs: 117\n",
      "2023-09-16 14:05:06,757:INFO:no more feasible tp,tn pairs left\n",
      "2023-09-16 14:05:06,758:INFO:constructing final tp, tn pair set\n",
      "2023-09-16 14:05:06,759:INFO:final number of intervals: 0\n",
      "2023-09-16 14:05:06,760:INFO:final number of pairs: 0\n"
     ]
    }
   ],
   "source": [
    "results = drive_aggregated(scores=scores,\n",
    "                            eps=10**(-k),\n",
    "                            image_set='test',\n",
    "                            verbosity=0)"
   ]
  },
  {
   "cell_type": "code",
   "execution_count": 4,
   "metadata": {},
   "outputs": [
    {
     "data": {
      "text/plain": [
       "{'mor_fov_pixels_inconsistency': False,\n",
       " 'mor_all_pixels_inconsistency': True,\n",
       " 'rom_fov_pixels_inconsistency': False,\n",
       " 'rom_all_pixels_inconsistency': True}"
      ]
     },
     "execution_count": 4,
     "metadata": {},
     "output_type": "execute_result"
    }
   ],
   "source": [
    "results"
   ]
  },
  {
   "cell_type": "markdown",
   "metadata": {},
   "source": [
    "As the results show, the scores are inconsistent with the assumption of using all pixels with any aggregation ('Ratio-of-Means'/'Mean-of-Ratios').\n",
    "\n",
    "Next, we test the aggregated scores published in\n",
    "Jebaseeli et al., 2019, \"Retinal Blood Vessel segmentation from diabetic retinopathy images using\n",
    "tandem PCNN model and deep learning based SVM\", Optik 199, 163328, doi:10.1016/j.ijleo.2019.163328."
   ]
  },
  {
   "cell_type": "code",
   "execution_count": 5,
   "metadata": {},
   "outputs": [],
   "source": [
    "scores = {'acc': 0.9898, 'sens': 0.8027, 'spec': 0.9980}\n",
    "\n",
    "# the numerical uncertainty (assuming ceiling/flooring)\n",
    "k = 4"
   ]
  },
  {
   "cell_type": "code",
   "execution_count": 6,
   "metadata": {},
   "outputs": [
    {
     "name": "stderr",
     "output_type": "stream",
     "text": [
      "2023-09-16 14:05:06,797:INFO:testing MoR FoV pixels\n",
      "2023-09-16 14:05:06,814:INFO:testing MoR all pixels\n",
      "2023-09-16 14:05:06,830:INFO:testing RoM FoV pixels\n",
      "2023-09-16 14:05:06,861:INFO:testing acc, feasible tptn pairs: 577650\n",
      "2023-09-16 14:05:18,520:INFO:testing sens, feasible tptn pairs: 46749\n",
      "2023-09-16 14:05:18,530:INFO:no more feasible tp,tn pairs left\n",
      "2023-09-16 14:05:18,531:INFO:constructing final tp, tn pair set\n",
      "2023-09-16 14:05:18,532:INFO:final number of intervals: 0\n",
      "2023-09-16 14:05:18,533:INFO:final number of pairs: 0\n",
      "2023-09-16 14:05:18,534:INFO:testing RoM all pixels\n",
      "2023-09-16 14:05:18,570:INFO:testing acc, feasible tptn pairs: 577946\n",
      "2023-09-16 14:05:30,717:INFO:testing sens, feasible tptn pairs: 67980\n",
      "2023-09-16 14:05:30,729:INFO:no more feasible tp,tn pairs left\n",
      "2023-09-16 14:05:30,730:INFO:constructing final tp, tn pair set\n",
      "2023-09-16 14:05:30,731:INFO:final number of intervals: 0\n",
      "2023-09-16 14:05:30,732:INFO:final number of pairs: 0\n"
     ]
    }
   ],
   "source": [
    "results = drive_aggregated(scores=scores,\n",
    "                            eps=10**(-k),\n",
    "                            image_set='test',\n",
    "                            verbosity=0)"
   ]
  },
  {
   "cell_type": "code",
   "execution_count": 7,
   "metadata": {},
   "outputs": [
    {
     "data": {
      "text/plain": [
       "{'mor_fov_pixels_inconsistency': True,\n",
       " 'mor_all_pixels_inconsistency': True,\n",
       " 'rom_fov_pixels_inconsistency': True,\n",
       " 'rom_all_pixels_inconsistency': True}"
      ]
     },
     "execution_count": 7,
     "metadata": {},
     "output_type": "execute_result"
    }
   ],
   "source": [
    "results"
   ]
  },
  {
   "cell_type": "markdown",
   "metadata": {},
   "source": [
    "As the results show, the reported scores are inconsistent with any of the four reasonable assumptions in the field (using the FoV pixels only or using all pixels; using Mean-of-Ratios aggregation or 'Ratio-of-Means' aggregation)."
   ]
  },
  {
   "cell_type": "markdown",
   "metadata": {},
   "source": [
    "## Image level"
   ]
  },
  {
   "cell_type": "markdown",
   "metadata": {},
   "source": [
    "Image level figures from Mo et al., \"Multi-level deep supervised networks for retinal vessel seg-\n",
    "mentation\", Int J Comput Assist Radiol Surg, 12. doi:10.1007/s11548-017-1619-0"
   ]
  },
  {
   "cell_type": "code",
   "execution_count": 8,
   "metadata": {},
   "outputs": [],
   "source": [
    "scores = {'acc': 0.9323, 'sens': 0.5677, 'spec': 0.9944}\n",
    "identifier = '03'\n",
    "k = 4"
   ]
  },
  {
   "cell_type": "code",
   "execution_count": 9,
   "metadata": {},
   "outputs": [
    {
     "name": "stderr",
     "output_type": "stream",
     "text": [
      "2023-09-16 14:05:30,761:INFO:Use this function if the scores originate from the tp and tn statistics calculated on one test set with no aggregation of any kind.\n",
      "2023-09-16 14:05:30,762:INFO:calling the score check with scores {'acc': 0.9323, 'sens': 0.5677, 'spec': 0.9944}, uncertainty 0.0001, p 32886 and n 192841\n",
      "2023-09-16 14:05:30,763:INFO:evaluating the tp and tn solution for acc and sens\n",
      "2023-09-16 14:05:30,765:INFO:the tp solutions: (18666.027828, 18672.736572)\n",
      "2023-09-16 14:05:30,766:INFO:the tn solutions: (191749.521374, 191802.27842600003)\n",
      "2023-09-16 14:05:30,768:INFO:evaluating the tp and tn solution for acc and spec\n",
      "2023-09-16 14:05:30,769:INFO:the tp solutions: (18641.497764, 18726.88563600005)\n",
      "2023-09-16 14:05:30,770:INFO:the tn solutions: (191741.42061799997, 191780.760182)\n",
      "2023-09-16 14:05:30,771:INFO:evaluating the tp and tn solution for sens and spec\n",
      "2023-09-16 14:05:30,772:INFO:the tp solutions: (18666.027828, 18672.736572)\n",
      "2023-09-16 14:05:30,774:INFO:the tn solutions: (191741.42061799997, 191780.760182)\n",
      "2023-09-16 14:05:30,774:INFO:testing acc, feasible tptn pairs: 6\n",
      "2023-09-16 14:05:30,775:INFO:testing sens, feasible tptn pairs: 6\n",
      "2023-09-16 14:05:30,776:INFO:testing spec, feasible tptn pairs: 6\n",
      "2023-09-16 14:05:30,777:INFO:constructing final tp, tn pair set\n",
      "2023-09-16 14:05:30,777:INFO:final number of intervals: 6\n",
      "2023-09-16 14:05:30,778:INFO:final number of pairs: 165\n",
      "2023-09-16 14:05:30,780:INFO:Use this function if the scores originate from the tp and tn statistics calculated on one test set with no aggregation of any kind.\n",
      "2023-09-16 14:05:30,780:INFO:calling the score check with scores {'acc': 0.9323, 'sens': 0.5677, 'spec': 0.9944}, uncertainty 0.0001, p 32893 and n 297067\n",
      "2023-09-16 14:05:30,781:INFO:evaluating the tp and tn solution for acc and sens\n",
      "2023-09-16 14:05:30,782:INFO:the tp solutions: (18670.001013999998, 18676.711186)\n",
      "2023-09-16 14:05:30,784:INFO:the tn solutions: (288911.3408939999, 288985.36290600005)\n",
      "2023-09-16 14:05:30,785:INFO:evaluating the tp and tn solution for acc and spec\n",
      "2023-09-16 14:05:30,786:INFO:the tp solutions: (12154.326445999963, 12282.239954000048)\n",
      "2023-09-16 14:05:30,786:INFO:the tn solutions: (295373.123966, 295433.725634)\n",
      "2023-09-16 14:05:30,787:INFO:evaluating the tp and tn solution for sens and spec\n",
      "2023-09-16 14:05:30,788:INFO:the tp solutions: (18670.001013999998, 18676.711186)\n",
      "2023-09-16 14:05:30,789:INFO:the tn solutions: (295373.123966, 295433.725634)\n",
      "2023-09-16 14:05:30,789:INFO:testing acc, feasible tptn pairs: 0\n",
      "2023-09-16 14:05:30,790:INFO:no more feasible tp,tn pairs left\n",
      "2023-09-16 14:05:30,792:INFO:constructing final tp, tn pair set\n",
      "2023-09-16 14:05:30,794:INFO:final number of intervals: 0\n",
      "2023-09-16 14:05:30,795:INFO:final number of pairs: 0\n"
     ]
    }
   ],
   "source": [
    "results = drive_image(scores=scores,\n",
    "                        eps=10**(-k),\n",
    "                        image_set='test',\n",
    "                        identifier=identifier)"
   ]
  },
  {
   "cell_type": "code",
   "execution_count": 10,
   "metadata": {},
   "outputs": [
    {
     "data": {
      "text/plain": [
       "{'fov_pixels_inconsistency': False, 'all_pixels_inconsistency': True}"
      ]
     },
     "execution_count": 10,
     "metadata": {},
     "output_type": "execute_result"
    }
   ],
   "source": [
    "results"
   ]
  },
  {
   "cell_type": "markdown",
   "metadata": {},
   "source": [
    "As the results show, the scores are inconsistent with the assumption that all pixels were, used, however, the scores are not inconsistent with the assumption that only the FoV pixels were used for evaluation."
   ]
  },
  {
   "cell_type": "markdown",
   "metadata": {},
   "source": [
    "Testing image level results from Lupascu et al., 2010, \"Fabc: retinal vessel segmentation using\n",
    "adaboost\", Trans. Info. Tech. Biomed 14 (5), 1267—1274, 2052282. doi:10.1109/TITB.2010."
   ]
  },
  {
   "cell_type": "code",
   "execution_count": 11,
   "metadata": {},
   "outputs": [],
   "source": [
    "scores = {'acc': 0.9633, 'sens': 0.7406, 'spec': 0.9849}\n",
    "identifier = '01'\n",
    "k = 4"
   ]
  },
  {
   "cell_type": "code",
   "execution_count": 12,
   "metadata": {},
   "outputs": [
    {
     "name": "stderr",
     "output_type": "stream",
     "text": [
      "2023-09-16 14:05:30,830:INFO:Use this function if the scores originate from the tp and tn statistics calculated on one test set with no aggregation of any kind.\n",
      "2023-09-16 14:05:30,831:INFO:calling the score check with scores {'acc': 0.9633, 'sens': 0.7406, 'spec': 0.9849}, uncertainty 0.0001, p 29412 and n 194965\n",
      "2023-09-16 14:05:30,832:INFO:evaluating the tp and tn solution for acc and sens\n",
      "2023-09-16 14:05:30,834:INFO:the tp solutions: (21779.527176, 21785.527224)\n",
      "2023-09-16 14:05:30,835:INFO:the tn solutions: (194333.950422, 194385.72337800002)\n",
      "2023-09-16 14:05:30,835:INFO:evaluating the tp and tn solution for acc and spec\n",
      "2023-09-16 14:05:30,836:INFO:the tp solutions: (24078.562715999986, 24164.108484000026)\n",
      "2023-09-16 14:05:30,837:INFO:the tn solutions: (192001.14207, 192040.91493)\n",
      "2023-09-16 14:05:30,839:INFO:evaluating the tp and tn solution for sens and spec\n",
      "2023-09-16 14:05:30,839:INFO:the tp solutions: (21779.527176, 21785.527224)\n",
      "2023-09-16 14:05:30,840:INFO:the tn solutions: (192001.14207, 192040.91493)\n",
      "2023-09-16 14:05:30,843:INFO:testing acc, feasible tptn pairs: 0\n",
      "2023-09-16 14:05:30,843:INFO:no more feasible tp,tn pairs left\n",
      "2023-09-16 14:05:30,844:INFO:constructing final tp, tn pair set\n",
      "2023-09-16 14:05:30,845:INFO:final number of intervals: 0\n",
      "2023-09-16 14:05:30,847:INFO:final number of pairs: 0\n",
      "2023-09-16 14:05:30,850:INFO:Use this function if the scores originate from the tp and tn statistics calculated on one test set with no aggregation of any kind.\n",
      "2023-09-16 14:05:30,851:INFO:calling the score check with scores {'acc': 0.9633, 'sens': 0.7406, 'spec': 0.9849}, uncertainty 0.0001, p 29440 and n 300520\n",
      "2023-09-16 14:05:30,852:INFO:evaluating the tp and tn solution for acc and sens\n",
      "2023-09-16 14:05:30,853:INFO:the tp solutions: (21800.26112, 21806.266880000003)\n",
      "2023-09-16 14:05:30,854:INFO:the tn solutions: (296010.5452, 296083.86280000006)\n",
      "2023-09-16 14:05:30,855:INFO:evaluating the tp and tn solution for acc and spec\n",
      "2023-09-16 14:05:30,856:INFO:the tp solutions: (21804.011040000012, 21932.62896000006)\n",
      "2023-09-16 14:05:30,857:INFO:the tn solutions: (295951.49496, 296012.80104)\n",
      "2023-09-16 14:05:30,858:INFO:evaluating the tp and tn solution for sens and spec\n",
      "2023-09-16 14:05:30,858:INFO:the tp solutions: (21800.26112, 21806.266880000003)\n",
      "2023-09-16 14:05:30,859:INFO:the tn solutions: (295951.49496, 296012.80104)\n",
      "2023-09-16 14:05:30,860:INFO:testing acc, feasible tptn pairs: 2\n",
      "2023-09-16 14:05:30,861:INFO:testing sens, feasible tptn pairs: 1\n",
      "2023-09-16 14:05:30,862:INFO:testing spec, feasible tptn pairs: 1\n",
      "2023-09-16 14:05:30,862:INFO:constructing final tp, tn pair set\n",
      "2023-09-16 14:05:30,863:INFO:final number of intervals: 1\n",
      "2023-09-16 14:05:30,864:INFO:final number of pairs: 1\n"
     ]
    }
   ],
   "source": [
    "results = drive_image(scores=scores,\n",
    "                        eps=10**(-k),\n",
    "                        image_set='test',\n",
    "                        identifier=identifier)"
   ]
  },
  {
   "cell_type": "code",
   "execution_count": 13,
   "metadata": {},
   "outputs": [
    {
     "data": {
      "text/plain": [
       "{'fov_pixels_inconsistency': True, 'all_pixels_inconsistency': False}"
      ]
     },
     "execution_count": 13,
     "metadata": {},
     "output_type": "execute_result"
    }
   ],
   "source": [
    "results"
   ]
  },
  {
   "cell_type": "markdown",
   "metadata": {},
   "source": [
    "As the results show, the scores are inconsistent with the assumption of evaluating the segmentation only in the FoV region, however, the scores are not inconsistent with the assumption of evaluating the method with all pixels."
   ]
  },
  {
   "cell_type": "markdown",
   "metadata": {},
   "source": []
  }
 ],
 "metadata": {
  "kernelspec": {
   "display_name": "mlscorecheck",
   "language": "python",
   "name": "python3"
  },
  "language_info": {
   "codemirror_mode": {
    "name": "ipython",
    "version": 3
   },
   "file_extension": ".py",
   "mimetype": "text/x-python",
   "name": "python",
   "nbconvert_exporter": "python",
   "pygments_lexer": "ipython3",
   "version": "3.10.0"
  },
  "orig_nbformat": 4
 },
 "nbformat": 4,
 "nbformat_minor": 2
}
