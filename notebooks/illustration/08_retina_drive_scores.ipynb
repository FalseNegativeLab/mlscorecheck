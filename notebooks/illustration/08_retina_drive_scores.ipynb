{
 "cells": [
  {
   "cell_type": "markdown",
   "metadata": {},
   "source": [
    "# Testing the consistency of performance scored reported for the DRIVE retinal vessel segmentation dataset"
   ]
  },
  {
   "cell_type": "code",
   "execution_count": 1,
   "metadata": {},
   "outputs": [],
   "source": [
    "from mlscorecheck.bundles import (drive_image, drive_aggregated)"
   ]
  },
  {
   "cell_type": "markdown",
   "metadata": {},
   "source": [
    "## Aggregated scores"
   ]
  },
  {
   "cell_type": "markdown",
   "metadata": {},
   "source": [
    "First we test the aggregated scores published in\n",
    "G. Kovacs et al, 2016: \"A self-calibrating technique for the segmentation of retinal vessels by\n",
    "template matching and contour reconstruction\", Medical Image Analysis 29(4), 24-46\n",
    "doi:10.1016/j.media.2015.12.003.\n"
   ]
  },
  {
   "cell_type": "code",
   "execution_count": 2,
   "metadata": {},
   "outputs": [],
   "source": [
    "scores = {'acc': 0.9494, 'sens': 0.7450, 'spec': 0.9793}\n",
    "\n",
    "# the numerical uncertainty (assuming ceiling/flooring)\n",
    "k = 4"
   ]
  },
  {
   "cell_type": "code",
   "execution_count": 3,
   "metadata": {},
   "outputs": [
    {
     "name": "stderr",
     "output_type": "stream",
     "text": [
      "2023-10-17 06:11:31,117:INFO:testing MoS FoV pixels\n",
      "2023-10-17 06:11:31,138:INFO:testing MoS all pixels\n",
      "2023-10-17 06:11:31,152:INFO:testing SoM FoV pixels\n",
      "2023-10-17 06:11:31,218:INFO:testing acc, feasible tptn pairs: 577650\n"
     ]
    },
    {
     "name": "stderr",
     "output_type": "stream",
     "text": [
      "2023-10-17 06:11:43,338:INFO:testing sens, feasible tptn pairs: 230090\n",
      "2023-10-17 06:11:43,389:INFO:testing spec, feasible tptn pairs: 116\n",
      "2023-10-17 06:11:43,391:INFO:constructing final tp, tn pair set\n",
      "2023-10-17 06:11:43,392:INFO:final number of intervals: 116\n",
      "2023-10-17 06:11:43,392:INFO:final number of pairs: 59334\n",
      "2023-10-17 06:11:43,393:INFO:testing SoM all pixels\n",
      "2023-10-17 06:11:43,421:INFO:testing acc, feasible tptn pairs: 577946\n",
      "2023-10-17 06:11:54,224:INFO:testing sens, feasible tptn pairs: 334588\n",
      "2023-10-17 06:11:54,282:INFO:testing spec, feasible tptn pairs: 117\n",
      "2023-10-17 06:11:54,284:INFO:no more feasible tp,tn pairs left\n",
      "2023-10-17 06:11:54,285:INFO:constructing final tp, tn pair set\n",
      "2023-10-17 06:11:54,286:INFO:final number of intervals: 0\n",
      "2023-10-17 06:11:54,287:INFO:final number of pairs: 0\n"
     ]
    }
   ],
   "source": [
    "results = drive_aggregated(scores=scores,\n",
    "                            eps=10**(-k),\n",
    "                            image_set='test',\n",
    "                            verbosity=0)"
   ]
  },
  {
   "cell_type": "code",
   "execution_count": 4,
   "metadata": {},
   "outputs": [
    {
     "data": {
      "text/plain": [
       "{'mos_fov_pixels_inconsistency': False,\n",
       " 'mos_all_pixels_inconsistency': True,\n",
       " 'som_fov_pixels_inconsistency': False,\n",
       " 'som_all_pixels_inconsistency': True}"
      ]
     },
     "execution_count": 4,
     "metadata": {},
     "output_type": "execute_result"
    }
   ],
   "source": [
    "results"
   ]
  },
  {
   "cell_type": "markdown",
   "metadata": {},
   "source": [
    "As the results show, the scores are inconsistent with the assumption of using all pixels with any aggregation ('Score-of-Means'/'Mean-of-Scores').\n",
    "\n",
    "Next, we test the aggregated scores published in\n",
    "Jebaseeli et al., 2019, \"Retinal Blood Vessel segmentation from diabetic retinopathy images using\n",
    "tandem PCNN model and deep learning based SVM\", Optik 199, 163328, doi:10.1016/j.ijleo.2019.163328."
   ]
  },
  {
   "cell_type": "code",
   "execution_count": 5,
   "metadata": {},
   "outputs": [],
   "source": [
    "scores = {'acc': 0.9898, 'sens': 0.8027, 'spec': 0.9980}\n",
    "\n",
    "# the numerical uncertainty (assuming ceiling/flooring)\n",
    "k = 4"
   ]
  },
  {
   "cell_type": "code",
   "execution_count": 6,
   "metadata": {},
   "outputs": [
    {
     "name": "stderr",
     "output_type": "stream",
     "text": [
      "2023-10-17 06:11:54,323:INFO:testing MoS FoV pixels\n",
      "2023-10-17 06:11:54,337:INFO:testing MoS all pixels\n",
      "2023-10-17 06:11:54,349:INFO:testing SoM FoV pixels\n",
      "2023-10-17 06:11:54,387:INFO:testing acc, feasible tptn pairs: 577650\n",
      "2023-10-17 06:12:05,208:INFO:testing sens, feasible tptn pairs: 46749\n",
      "2023-10-17 06:12:05,228:INFO:no more feasible tp,tn pairs left\n",
      "2023-10-17 06:12:05,230:INFO:constructing final tp, tn pair set\n",
      "2023-10-17 06:12:05,231:INFO:final number of intervals: 0\n",
      "2023-10-17 06:12:05,232:INFO:final number of pairs: 0\n",
      "2023-10-17 06:12:05,233:INFO:testing SoM all pixels\n",
      "2023-10-17 06:12:05,285:INFO:testing acc, feasible tptn pairs: 577946\n",
      "2023-10-17 06:12:18,450:INFO:testing sens, feasible tptn pairs: 67980\n",
      "2023-10-17 06:12:18,464:INFO:no more feasible tp,tn pairs left\n",
      "2023-10-17 06:12:18,464:INFO:constructing final tp, tn pair set\n",
      "2023-10-17 06:12:18,465:INFO:final number of intervals: 0\n",
      "2023-10-17 06:12:18,466:INFO:final number of pairs: 0\n"
     ]
    }
   ],
   "source": [
    "results = drive_aggregated(scores=scores,\n",
    "                            eps=10**(-k),\n",
    "                            image_set='test',\n",
    "                            verbosity=0)"
   ]
  },
  {
   "cell_type": "code",
   "execution_count": 7,
   "metadata": {},
   "outputs": [
    {
     "data": {
      "text/plain": [
       "{'mos_fov_pixels_inconsistency': True,\n",
       " 'mos_all_pixels_inconsistency': True,\n",
       " 'som_fov_pixels_inconsistency': True,\n",
       " 'som_all_pixels_inconsistency': True}"
      ]
     },
     "execution_count": 7,
     "metadata": {},
     "output_type": "execute_result"
    }
   ],
   "source": [
    "results"
   ]
  },
  {
   "cell_type": "markdown",
   "metadata": {},
   "source": [
    "As the results show, the reported scores are inconsistent with any of the four reasonable assumptions in the field (using the FoV pixels only or using all pixels; using Mean-of-Scores aggregation or 'Score-of-Means' aggregation)."
   ]
  },
  {
   "cell_type": "markdown",
   "metadata": {},
   "source": [
    "## Image level"
   ]
  },
  {
   "cell_type": "markdown",
   "metadata": {},
   "source": [
    "Image level figures from Mo et al., \"Multi-level deep supervised networks for retinal vessel seg-\n",
    "mentation\", Int J Comput Assist Radiol Surg, 12. doi:10.1007/s11548-017-1619-0"
   ]
  },
  {
   "cell_type": "code",
   "execution_count": 8,
   "metadata": {},
   "outputs": [],
   "source": [
    "scores = {'acc': 0.9323, 'sens': 0.5677, 'spec': 0.9944}\n",
    "identifier = '03'\n",
    "k = 4"
   ]
  },
  {
   "cell_type": "code",
   "execution_count": 9,
   "metadata": {},
   "outputs": [
    {
     "name": "stderr",
     "output_type": "stream",
     "text": [
      "2023-10-17 06:12:18,499:INFO:Use this function if the scores originate from the tp and tn statistics calculated on one test set with no aggregation of any kind.\n",
      "2023-10-17 06:12:18,501:INFO:calling the score check with scores {'acc': 0.9323, 'sens': 0.5677, 'spec': 0.9944}, uncertainty 0.0001, p 32886 and n 192841\n",
      "2023-10-17 06:12:18,502:INFO:checking the scores {'acc': 0.9323, 'sens': 0.5677, 'spec': 0.9944}\n",
      "2023-10-17 06:12:18,503:INFO:evaluating the tp and tn solution for acc and sens\n",
      "2023-10-17 06:12:18,504:INFO:intervals before: (0, 32886), (0, 192841)\n",
      "2023-10-17 06:12:18,505:INFO:the tp solutions: (18666.027828, 18672.736572)\n",
      "2023-10-17 06:12:18,506:INFO:the tn solutions: (191749.521374, 191802.27842600003)\n",
      "2023-10-17 06:12:18,507:INFO:intervals after: [(18667, 18672)], [(191750, 191802)]\n",
      "2023-10-17 06:12:18,507:INFO:evaluating the tp and tn solution for acc and spec\n",
      "2023-10-17 06:12:18,508:INFO:intervals before: [(18667, 18672)], [(191750, 191802)]\n",
      "2023-10-17 06:12:18,509:INFO:the tp solutions: (18641.497764, 18726.88563600005)\n",
      "2023-10-17 06:12:18,510:INFO:the tn solutions: (191741.42061799997, 191780.760182)\n",
      "2023-10-17 06:12:18,511:INFO:intervals after: [(18667, 18672)], [(191750, 191780)]\n",
      "2023-10-17 06:12:18,511:INFO:evaluating the tp and tn solution for sens and spec\n",
      "2023-10-17 06:12:18,512:INFO:intervals before: [(18667, 18672)], [(191750, 191780)]\n",
      "2023-10-17 06:12:18,514:INFO:the tp solutions: (18666.027828, 18672.736572)\n",
      "2023-10-17 06:12:18,516:INFO:the tn solutions: (191741.42061799997, 191780.760182)\n",
      "2023-10-17 06:12:18,517:INFO:intervals after: [(18667, 18672)], [(191750, 191780)]\n",
      "2023-10-17 06:12:18,518:INFO:testing acc, feasible tptn pairs: 6\n",
      "2023-10-17 06:12:18,520:INFO:testing sens, feasible tptn pairs: 6\n",
      "2023-10-17 06:12:18,522:INFO:testing spec, feasible tptn pairs: 6\n",
      "2023-10-17 06:12:18,523:INFO:constructing final tp, tn pair set\n",
      "2023-10-17 06:12:18,524:INFO:final number of intervals: 6\n",
      "2023-10-17 06:12:18,525:INFO:final number of pairs: 165\n",
      "2023-10-17 06:12:18,527:INFO:Use this function if the scores originate from the tp and tn statistics calculated on one test set with no aggregation of any kind.\n",
      "2023-10-17 06:12:18,528:INFO:calling the score check with scores {'acc': 0.9323, 'sens': 0.5677, 'spec': 0.9944}, uncertainty 0.0001, p 32893 and n 297067\n",
      "2023-10-17 06:12:18,528:INFO:checking the scores {'acc': 0.9323, 'sens': 0.5677, 'spec': 0.9944}\n",
      "2023-10-17 06:12:18,531:INFO:evaluating the tp and tn solution for acc and sens\n",
      "2023-10-17 06:12:18,532:INFO:intervals before: (0, 32893), (0, 297067)\n",
      "2023-10-17 06:12:18,533:INFO:the tp solutions: (18670.001013999998, 18676.711186)\n",
      "2023-10-17 06:12:18,534:INFO:the tn solutions: (288911.3408939999, 288985.36290600005)\n",
      "2023-10-17 06:12:18,535:INFO:intervals after: [(18671, 18676)], [(288912, 288985)]\n",
      "2023-10-17 06:12:18,536:INFO:evaluating the tp and tn solution for acc and spec\n",
      "2023-10-17 06:12:18,537:INFO:intervals before: [(18671, 18676)], [(288912, 288985)]\n",
      "2023-10-17 06:12:18,537:INFO:the tp solutions: (12154.326445999963, 12282.239954000048)\n",
      "2023-10-17 06:12:18,538:INFO:the tn solutions: (295373.123966, 295433.725634)\n",
      "2023-10-17 06:12:18,539:INFO:intervals after: [], []\n",
      "2023-10-17 06:12:18,539:INFO:evaluating the tp and tn solution for sens and spec\n",
      "2023-10-17 06:12:18,540:INFO:intervals before: [], []\n",
      "2023-10-17 06:12:18,543:INFO:the tp solutions: (18670.001013999998, 18676.711186)\n",
      "2023-10-17 06:12:18,544:INFO:the tn solutions: (295373.123966, 295433.725634)\n",
      "2023-10-17 06:12:18,545:INFO:intervals after: [], []\n",
      "2023-10-17 06:12:18,546:INFO:testing acc, feasible tptn pairs: 0\n",
      "2023-10-17 06:12:18,546:INFO:no more feasible tp,tn pairs left\n",
      "2023-10-17 06:12:18,547:INFO:constructing final tp, tn pair set\n",
      "2023-10-17 06:12:18,549:INFO:final number of intervals: 0\n",
      "2023-10-17 06:12:18,549:INFO:final number of pairs: 0\n"
     ]
    }
   ],
   "source": [
    "results = drive_image(scores=scores,\n",
    "                        eps=10**(-k),\n",
    "                        image_set='test',\n",
    "                        identifier=identifier)"
   ]
  },
  {
   "cell_type": "code",
   "execution_count": 10,
   "metadata": {},
   "outputs": [
    {
     "data": {
      "text/plain": [
       "{'fov_pixels_inconsistency': False, 'all_pixels_inconsistency': True}"
      ]
     },
     "execution_count": 10,
     "metadata": {},
     "output_type": "execute_result"
    }
   ],
   "source": [
    "results"
   ]
  },
  {
   "cell_type": "markdown",
   "metadata": {},
   "source": [
    "As the results show, the scores are inconsistent with the assumption that all pixels were, used, however, the scores are not inconsistent with the assumption that only the FoV pixels were used for evaluation."
   ]
  },
  {
   "cell_type": "markdown",
   "metadata": {},
   "source": [
    "Testing image level results from Lupascu et al., 2010, \"Fabc: retinal vessel segmentation using\n",
    "adaboost\", Trans. Info. Tech. Biomed 14 (5), 1267—1274, 2052282. doi:10.1109/TITB.2010."
   ]
  },
  {
   "cell_type": "code",
   "execution_count": 11,
   "metadata": {},
   "outputs": [],
   "source": [
    "scores = {'acc': 0.9633, 'sens': 0.7406, 'spec': 0.9849}\n",
    "identifier = '01'\n",
    "k = 4"
   ]
  },
  {
   "cell_type": "code",
   "execution_count": 12,
   "metadata": {},
   "outputs": [
    {
     "name": "stderr",
     "output_type": "stream",
     "text": [
      "2023-10-17 06:12:18,587:INFO:Use this function if the scores originate from the tp and tn statistics calculated on one test set with no aggregation of any kind.\n",
      "2023-10-17 06:12:18,589:INFO:calling the score check with scores {'acc': 0.9633, 'sens': 0.7406, 'spec': 0.9849}, uncertainty 0.0001, p 29412 and n 194965\n",
      "2023-10-17 06:12:18,590:INFO:checking the scores {'acc': 0.9633, 'sens': 0.7406, 'spec': 0.9849}\n",
      "2023-10-17 06:12:18,591:INFO:evaluating the tp and tn solution for acc and sens\n",
      "2023-10-17 06:12:18,593:INFO:intervals before: (0, 29412), (0, 194965)\n",
      "2023-10-17 06:12:18,594:INFO:the tp solutions: (21779.527176, 21785.527224)\n",
      "2023-10-17 06:12:18,594:INFO:the tn solutions: (194333.950422, 194385.72337800002)\n",
      "2023-10-17 06:12:18,595:INFO:intervals after: [(21780, 21785)], [(194334, 194385)]\n",
      "2023-10-17 06:12:18,597:INFO:evaluating the tp and tn solution for acc and spec\n",
      "2023-10-17 06:12:18,598:INFO:intervals before: [(21780, 21785)], [(194334, 194385)]\n",
      "2023-10-17 06:12:18,599:INFO:the tp solutions: (24078.562715999986, 24164.108484000026)\n",
      "2023-10-17 06:12:18,600:INFO:the tn solutions: (192001.14207, 192040.91493)\n",
      "2023-10-17 06:12:18,601:INFO:intervals after: [], []\n",
      "2023-10-17 06:12:18,602:INFO:evaluating the tp and tn solution for sens and spec\n",
      "2023-10-17 06:12:18,603:INFO:intervals before: [], []\n",
      "2023-10-17 06:12:18,604:INFO:the tp solutions: (21779.527176, 21785.527224)\n",
      "2023-10-17 06:12:18,605:INFO:the tn solutions: (192001.14207, 192040.91493)\n",
      "2023-10-17 06:12:18,606:INFO:intervals after: [], []\n",
      "2023-10-17 06:12:18,607:INFO:testing acc, feasible tptn pairs: 0\n",
      "2023-10-17 06:12:18,608:INFO:no more feasible tp,tn pairs left\n",
      "2023-10-17 06:12:18,609:INFO:constructing final tp, tn pair set\n",
      "2023-10-17 06:12:18,611:INFO:final number of intervals: 0\n",
      "2023-10-17 06:12:18,611:INFO:final number of pairs: 0\n",
      "2023-10-17 06:12:18,617:INFO:Use this function if the scores originate from the tp and tn statistics calculated on one test set with no aggregation of any kind.\n",
      "2023-10-17 06:12:18,619:INFO:calling the score check with scores {'acc': 0.9633, 'sens': 0.7406, 'spec': 0.9849}, uncertainty 0.0001, p 29440 and n 300520\n",
      "2023-10-17 06:12:18,620:INFO:checking the scores {'acc': 0.9633, 'sens': 0.7406, 'spec': 0.9849}\n",
      "2023-10-17 06:12:18,620:INFO:evaluating the tp and tn solution for acc and sens\n",
      "2023-10-17 06:12:18,621:INFO:intervals before: (0, 29440), (0, 300520)\n",
      "2023-10-17 06:12:18,622:INFO:the tp solutions: (21800.26112, 21806.266880000003)\n",
      "2023-10-17 06:12:18,623:INFO:the tn solutions: (296010.5452, 296083.86280000006)\n",
      "2023-10-17 06:12:18,624:INFO:intervals after: [(21801, 21806)], [(296011, 296083)]\n",
      "2023-10-17 06:12:18,625:INFO:evaluating the tp and tn solution for acc and spec\n",
      "2023-10-17 06:12:18,626:INFO:intervals before: [(21801, 21806)], [(296011, 296083)]\n",
      "2023-10-17 06:12:18,627:INFO:the tp solutions: (21804.011040000012, 21932.62896000006)\n",
      "2023-10-17 06:12:18,628:INFO:the tn solutions: (295951.49496, 296012.80104)\n",
      "2023-10-17 06:12:18,628:INFO:intervals after: [(21805, 21806)], [(296011, 296012)]\n",
      "2023-10-17 06:12:18,629:INFO:evaluating the tp and tn solution for sens and spec\n",
      "2023-10-17 06:12:18,630:INFO:intervals before: [(21805, 21806)], [(296011, 296012)]\n",
      "2023-10-17 06:12:18,631:INFO:the tp solutions: (21800.26112, 21806.266880000003)\n",
      "2023-10-17 06:12:18,631:INFO:the tn solutions: (295951.49496, 296012.80104)\n",
      "2023-10-17 06:12:18,632:INFO:intervals after: [(21805, 21806)], [(296011, 296012)]\n",
      "2023-10-17 06:12:18,633:INFO:testing acc, feasible tptn pairs: 2\n",
      "2023-10-17 06:12:18,634:INFO:testing sens, feasible tptn pairs: 1\n",
      "2023-10-17 06:12:18,635:INFO:testing spec, feasible tptn pairs: 1\n",
      "2023-10-17 06:12:18,635:INFO:constructing final tp, tn pair set\n",
      "2023-10-17 06:12:18,636:INFO:final number of intervals: 1\n",
      "2023-10-17 06:12:18,637:INFO:final number of pairs: 1\n"
     ]
    }
   ],
   "source": [
    "results = drive_image(scores=scores,\n",
    "                        eps=10**(-k),\n",
    "                        image_set='test',\n",
    "                        identifier=identifier)"
   ]
  },
  {
   "cell_type": "code",
   "execution_count": 13,
   "metadata": {},
   "outputs": [
    {
     "data": {
      "text/plain": [
       "{'fov_pixels_inconsistency': True, 'all_pixels_inconsistency': False}"
      ]
     },
     "execution_count": 13,
     "metadata": {},
     "output_type": "execute_result"
    }
   ],
   "source": [
    "results"
   ]
  },
  {
   "cell_type": "markdown",
   "metadata": {},
   "source": [
    "As the results show, the scores are inconsistent with the assumption of evaluating the segmentation only in the FoV region, however, the scores are not inconsistent with the assumption of evaluating the method with all pixels."
   ]
  }
 ],
 "metadata": {
  "kernelspec": {
   "display_name": "mlscorecheck",
   "language": "python",
   "name": "python3"
  },
  "language_info": {
   "codemirror_mode": {
    "name": "ipython",
    "version": 3
   },
   "file_extension": ".py",
   "mimetype": "text/x-python",
   "name": "python",
   "nbconvert_exporter": "python",
   "pygments_lexer": "ipython3",
   "version": "3.10.0"
  },
  "orig_nbformat": 4
 },
 "nbformat": 4,
 "nbformat_minor": 2
}
