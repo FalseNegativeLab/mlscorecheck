{
 "cells": [
  {
   "cell_type": "markdown",
   "metadata": {},
   "source": [
    "# Testing the consistency of performance scored reported for the HRF retinal vessel segmentation dataset"
   ]
  },
  {
   "cell_type": "code",
   "execution_count": 1,
   "metadata": {},
   "outputs": [],
   "source": [
    "from mlscorecheck.bundles.retina import (check_hrf_vessel_image,\n",
    "                                        check_hrf_vessel_aggregated)"
   ]
  },
  {
   "cell_type": "markdown",
   "metadata": {},
   "source": [
    "# Aggregated scores"
   ]
  },
  {
   "cell_type": "code",
   "execution_count": 5,
   "metadata": {},
   "outputs": [],
   "source": [
    "scores = {'acc': 0.4841, 'sens': 0.5665, 'spec': 0.475}\n",
    "k = 4"
   ]
  },
  {
   "cell_type": "code",
   "execution_count": 8,
   "metadata": {},
   "outputs": [
    {
     "name": "stderr",
     "output_type": "stream",
     "text": [
      "2023-10-25 06:03:15,829:INFO:checking the scores {'acc': 0.4841, 'sens': 0.5665, 'spec': 0.475}\n",
      "2023-10-25 06:03:15,841:INFO:evaluating the tp and tn solution for acc and sens\n",
      "2023-10-25 06:03:15,843:INFO:intervals before: (0, 28395044), (0, 282712163)\n",
      "2023-10-25 06:03:15,845:INFO:the tp solutions: (16082896.131512, 16088688.720488)\n",
      "2023-10-25 06:03:15,847:INFO:the tn solutions: (134486577.25309798, 134555835.712302)\n",
      "2023-10-25 06:03:15,848:INFO:intervals after: [(16082897, 16088688)], [(134486578, 134555835)]\n",
      "2023-10-25 06:03:15,850:INFO:evaluating the tp and tn solution for acc and spec\n",
      "2023-10-25 06:03:15,851:INFO:intervals before: [(16082897, 16088688)], [(134486578, 134555835)]\n",
      "2023-10-25 06:03:15,853:INFO:the tp solutions: (16258151.907959998, 16379291.059439987)\n",
      "2023-10-25 06:03:15,856:INFO:the tn solutions: (134259440.784374, 134317114.065626)\n",
      "2023-10-25 06:03:15,858:INFO:intervals after: [], []\n",
      "2023-10-25 06:03:15,862:INFO:evaluating the tp and tn solution for sens and spec\n",
      "2023-10-25 06:03:15,864:INFO:intervals before: [], []\n",
      "2023-10-25 06:03:15,870:INFO:the tp solutions: (16082896.131512, 16088688.720488)\n",
      "2023-10-25 06:03:15,872:INFO:the tn solutions: (134259440.784374, 134317114.065626)\n",
      "2023-10-25 06:03:15,873:INFO:intervals after: [], []\n",
      "2023-10-25 06:03:15,875:INFO:testing acc, feasible tptn pairs: 0\n",
      "2023-10-25 06:03:15,885:INFO:no more feasible tp,tn pairs left\n",
      "2023-10-25 06:03:15,887:INFO:constructing final tp, tn pair set\n",
      "2023-10-25 06:03:15,889:INFO:final number of intervals: 0\n",
      "2023-10-25 06:03:15,890:INFO:final number of pairs: 0\n",
      "2023-10-25 06:03:16,010:INFO:checking the scores {'acc': 0.4841, 'sens': 0.5665, 'spec': 0.475}\n",
      "2023-10-25 06:03:16,013:INFO:evaluating the tp and tn solution for acc and sens\n",
      "2023-10-25 06:03:16,015:INFO:intervals before: (0, 28399210), (0, 339941270)\n",
      "2023-10-25 06:03:16,016:INFO:the tp solutions: (16085255.745579999, 16091049.18442)\n",
      "2023-10-25 06:03:16,018:INFO:the tn solutions: (162185006.45462, 162265941.35138002)\n",
      "2023-10-25 06:03:16,019:INFO:intervals after: [(16085256, 16091049)], [(162185007, 162265941)]\n",
      "2023-10-25 06:03:16,026:INFO:evaluating the tp and tn solution for acc and spec\n",
      "2023-10-25 06:03:16,033:INFO:intervals before: [(16085256, 16091049)], [(162185007, 162265941)]\n",
      "2023-10-25 06:03:16,034:INFO:the tp solutions: (16769278.379500002, 16913767.8565)\n",
      "2023-10-25 06:03:16,036:INFO:the tn solutions: (161437429.24046, 161506777.25954)\n",
      "2023-10-25 06:03:16,038:INFO:intervals after: [], []\n"
     ]
    },
    {
     "name": "stderr",
     "output_type": "stream",
     "text": [
      "2023-10-25 06:03:16,039:INFO:evaluating the tp and tn solution for sens and spec\n",
      "2023-10-25 06:03:16,040:INFO:intervals before: [], []\n",
      "2023-10-25 06:03:16,050:INFO:the tp solutions: (16085255.745579999, 16091049.18442)\n",
      "2023-10-25 06:03:16,057:INFO:the tn solutions: (161437429.24046, 161506777.25954)\n",
      "2023-10-25 06:03:16,059:INFO:intervals after: [], []\n",
      "2023-10-25 06:03:16,066:INFO:testing acc, feasible tptn pairs: 0\n",
      "2023-10-25 06:03:16,068:INFO:no more feasible tp,tn pairs left\n",
      "2023-10-25 06:03:16,069:INFO:constructing final tp, tn pair set\n",
      "2023-10-25 06:03:16,071:INFO:final number of intervals: 0\n",
      "2023-10-25 06:03:16,072:INFO:final number of pairs: 0\n"
     ]
    },
    {
     "data": {
      "text/plain": [
       "{'inconsistency_fov_mos': False,\n",
       " 'inconsistency_fov_som': True,\n",
       " 'inconsistency_all_mos': False,\n",
       " 'inconsistency_all_som': True}"
      ]
     },
     "execution_count": 8,
     "metadata": {},
     "output_type": "execute_result"
    }
   ],
   "source": [
    "results = check_hrf_vessel_aggregated(scores=scores,\n",
    "                                        eps=10**(-k),\n",
    "                                        imageset='all',\n",
    "                                        verbosity=0)\n",
    "results['inconsistency']"
   ]
  },
  {
   "cell_type": "markdown",
   "metadata": {},
   "source": [
    "## Image level scores"
   ]
  },
  {
   "cell_type": "code",
   "execution_count": 13,
   "metadata": {},
   "outputs": [],
   "source": [
    "img_identifier = '13_h'\n",
    "scores = {'acc': 0.5562, 'sens': 0.5049, 'spec': 0.5621}"
   ]
  },
  {
   "cell_type": "code",
   "execution_count": 15,
   "metadata": {},
   "outputs": [
    {
     "name": "stderr",
     "output_type": "stream",
     "text": [
      "2023-10-25 06:05:28,352:INFO:Use this function if the scores originate from the tp and tn statistics calculated on one test set with no aggregation of any kind.\n",
      "2023-10-25 06:05:28,354:INFO:calling the score check with scores {'acc': 0.5562, 'sens': 0.5049, 'spec': 0.5621}, uncertainty 0.0001, p 712528 and n 6199936\n",
      "2023-10-25 06:05:28,357:INFO:checking the scores {'acc': 0.5562, 'sens': 0.5049, 'spec': 0.5621}\n",
      "2023-10-25 06:05:28,358:INFO:evaluating the tp and tn solution for acc and sens\n",
      "2023-10-25 06:05:28,360:INFO:intervals before: (0, 712528), (0, 6199936)\n",
      "2023-10-25 06:05:28,361:INFO:the tp solutions: (359682.709344, 359828.065056)\n",
      "2023-10-25 06:05:28,362:INFO:the tn solutions: (3484179.340416, 3485734.8387840004)\n",
      "2023-10-25 06:05:28,363:INFO:intervals after: [(359683, 359828)], [(3484180, 3485734)]\n",
      "2023-10-25 06:05:28,365:INFO:evaluating the tp and tn solution for acc and spec\n",
      "2023-10-25 06:05:28,368:INFO:intervals before: [(359683, 359828)], [(3484180, 3485734)]\n",
      "2023-10-25 06:05:28,370:INFO:the tp solutions: (358390.98639999935, 361065.91600000067)\n",
      "2023-10-25 06:05:28,371:INFO:the tn solutions: (3484351.632128, 3485616.419072001)\n",
      "2023-10-25 06:05:28,372:INFO:intervals after: [(359683, 359828)], [(3484352, 3485616)]\n",
      "2023-10-25 06:05:28,374:INFO:evaluating the tp and tn solution for sens and spec\n",
      "2023-10-25 06:05:28,376:INFO:intervals before: [(359683, 359828)], [(3484352, 3485616)]\n",
      "2023-10-25 06:05:28,388:INFO:the tp solutions: (359682.709344, 359828.065056)\n",
      "2023-10-25 06:05:28,390:INFO:the tn solutions: (3484351.632128, 3485616.419072001)\n",
      "2023-10-25 06:05:28,392:INFO:intervals after: [(359683, 359828)], [(3484352, 3485616)]\n",
      "2023-10-25 06:05:28,398:INFO:testing acc, feasible tptn pairs: 146\n",
      "2023-10-25 06:05:28,430:INFO:testing sens, feasible tptn pairs: 146\n",
      "2023-10-25 06:05:28,432:INFO:testing spec, feasible tptn pairs: 144\n",
      "2023-10-25 06:05:28,447:INFO:constructing final tp, tn pair set\n",
      "2023-10-25 06:05:28,449:INFO:final number of intervals: 144\n",
      "2023-10-25 06:05:28,450:INFO:final number of pairs: 180054\n",
      "2023-10-25 06:05:28,452:INFO:Use this function if the scores originate from the tp and tn statistics calculated on one test set with no aggregation of any kind.\n",
      "2023-10-25 06:05:28,453:INFO:calling the score check with scores {'acc': 0.5562, 'sens': 0.5049, 'spec': 0.5621}, uncertainty 0.0001, p 712528 and n 7472816\n",
      "2023-10-25 06:05:28,459:INFO:checking the scores {'acc': 0.5562, 'sens': 0.5049, 'spec': 0.5621}\n",
      "2023-10-25 06:05:28,461:INFO:evaluating the tp and tn solution for acc and sens\n",
      "2023-10-25 06:05:28,464:INFO:intervals before: (0, 712528), (0, 7472816)\n",
      "2023-10-25 06:05:28,465:INFO:the tp solutions: (359682.709344, 359828.065056)\n",
      "2023-10-25 06:05:28,466:INFO:the tn solutions: (4192025.362656, 4193840.528544001)\n",
      "2023-10-25 06:05:28,467:INFO:intervals after: [(359683, 359828)], [(4192026, 4193840)]\n",
      "2023-10-25 06:05:28,468:INFO:evaluating the tp and tn solution for acc and spec\n",
      "2023-10-25 06:05:28,470:INFO:intervals before: [(359683, 359828)], [(4192026, 4193840)]\n",
      "2023-10-25 06:05:28,471:INFO:the tp solutions: (350621.3268799996, 353815.5915200012)\n",
      "2023-10-25 06:05:28,472:INFO:the tn solutions: (4199707.646368, 4201232.100832)\n",
      "2023-10-25 06:05:28,473:INFO:intervals after: [], []\n",
      "2023-10-25 06:05:28,474:INFO:evaluating the tp and tn solution for sens and spec\n",
      "2023-10-25 06:05:28,476:INFO:intervals before: [], []\n",
      "2023-10-25 06:05:28,477:INFO:the tp solutions: (359682.709344, 359828.065056)\n",
      "2023-10-25 06:05:28,478:INFO:the tn solutions: (4199707.646368, 4201232.100832)\n",
      "2023-10-25 06:05:28,480:INFO:intervals after: [], []\n",
      "2023-10-25 06:05:28,481:INFO:testing acc, feasible tptn pairs: 0\n",
      "2023-10-25 06:05:28,482:INFO:no more feasible tp,tn pairs left\n",
      "2023-10-25 06:05:28,485:INFO:constructing final tp, tn pair set\n",
      "2023-10-25 06:05:28,487:INFO:final number of intervals: 0\n",
      "2023-10-25 06:05:28,488:INFO:final number of pairs: 0\n"
     ]
    },
    {
     "data": {
      "text/plain": [
       "{'inconsistency_fov': False, 'inconsistency_all': True}"
      ]
     },
     "execution_count": 15,
     "metadata": {},
     "output_type": "execute_result"
    }
   ],
   "source": [
    "results = check_hrf_vessel_image(image_identifier=img_identifier,\n",
    "                                    scores=scores,\n",
    "                                    eps=10**(-k))\n",
    "results['inconsistency']"
   ]
  }
 ],
 "metadata": {
  "kernelspec": {
   "display_name": "mlscorecheck",
   "language": "python",
   "name": "python3"
  },
  "language_info": {
   "codemirror_mode": {
    "name": "ipython",
    "version": 3
   },
   "file_extension": ".py",
   "mimetype": "text/x-python",
   "name": "python",
   "nbconvert_exporter": "python",
   "pygments_lexer": "ipython3",
   "version": "3.10.0"
  }
 },
 "nbformat": 4,
 "nbformat_minor": 2
}
