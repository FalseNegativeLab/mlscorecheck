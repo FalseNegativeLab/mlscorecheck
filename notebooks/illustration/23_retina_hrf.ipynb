{
 "cells": [
  {
   "cell_type": "markdown",
   "metadata": {},
   "source": [
    "# Testing the consistency of performance scored reported for the HRF retinal vessel segmentation dataset"
   ]
  },
  {
   "cell_type": "code",
   "execution_count": 1,
   "metadata": {},
   "outputs": [],
   "source": [
    "from mlscorecheck.bundles.retina import (check_hrf_vessel_image,\n",
    "                                        check_hrf_vessel_aggregated)"
   ]
  },
  {
   "cell_type": "markdown",
   "metadata": {},
   "source": [
    "# Aggregated scores"
   ]
  },
  {
   "cell_type": "code",
   "execution_count": 2,
   "metadata": {},
   "outputs": [],
   "source": [
    "scores = {'acc': 0.4841, 'sens': 0.5665, 'spec': 0.475}\n",
    "k = 4"
   ]
  },
  {
   "cell_type": "code",
   "execution_count": 3,
   "metadata": {},
   "outputs": [
    {
     "name": "stderr",
     "output_type": "stream",
     "text": [
      "2023-10-26 23:42:33,586:INFO:checking the scores {'acc': 0.4841, 'sens': 0.5665, 'spec': 0.475}\n",
      "2023-10-26 23:42:33,588:INFO:evaluating the tp and tn solution for acc and sens\n",
      "2023-10-26 23:42:33,590:INFO:intervals before: (0, 28395044), (0, 282712163)\n",
      "2023-10-26 23:42:33,591:INFO:the tp solutions: (16082896.131512, 16088688.720488)\n",
      "2023-10-26 23:42:33,592:INFO:the tn solutions: (134486577.25309798, 134555835.712302)\n",
      "2023-10-26 23:42:33,593:INFO:intervals after: [(16082897, 16088688)], [(134486578, 134555835)]\n",
      "2023-10-26 23:42:33,594:INFO:evaluating the tp and tn solution for acc and spec\n",
      "2023-10-26 23:42:33,595:INFO:intervals before: [(16082897, 16088688)], [(134486578, 134555835)]\n",
      "2023-10-26 23:42:33,596:INFO:the tp solutions: (16258151.907959998, 16379291.059439987)\n",
      "2023-10-26 23:42:33,597:INFO:the tn solutions: (134259440.784374, 134317114.065626)\n",
      "2023-10-26 23:42:33,598:INFO:intervals after: [], []\n",
      "2023-10-26 23:42:33,599:INFO:evaluating the tp and tn solution for sens and spec\n",
      "2023-10-26 23:42:33,600:INFO:intervals before: [], []\n",
      "2023-10-26 23:42:33,601:INFO:the tp solutions: (16082896.131512, 16088688.720488)\n",
      "2023-10-26 23:42:33,602:INFO:the tn solutions: (134259440.784374, 134317114.065626)\n",
      "2023-10-26 23:42:33,603:INFO:intervals after: [], []\n",
      "2023-10-26 23:42:33,605:INFO:testing acc, feasible tptn pairs: 0\n",
      "2023-10-26 23:42:33,605:INFO:no more feasible tp,tn pairs left\n",
      "2023-10-26 23:42:33,606:INFO:constructing final tp, tn pair set\n",
      "2023-10-26 23:42:33,607:INFO:final number of intervals: 0\n",
      "2023-10-26 23:42:33,608:INFO:final number of pairs: 0\n",
      "2023-10-26 23:42:33,646:INFO:checking the scores {'acc': 0.4841, 'sens': 0.5665, 'spec': 0.475}\n",
      "2023-10-26 23:42:33,648:INFO:evaluating the tp and tn solution for acc and sens\n",
      "2023-10-26 23:42:33,649:INFO:intervals before: (0, 28399210), (0, 339941270)\n",
      "2023-10-26 23:42:33,650:INFO:the tp solutions: (16085255.745579999, 16091049.18442)\n",
      "2023-10-26 23:42:33,651:INFO:the tn solutions: (162185006.45462, 162265941.35138002)\n",
      "2023-10-26 23:42:33,653:INFO:intervals after: [(16085256, 16091049)], [(162185007, 162265941)]\n",
      "2023-10-26 23:42:33,654:INFO:evaluating the tp and tn solution for acc and spec\n",
      "2023-10-26 23:42:33,655:INFO:intervals before: [(16085256, 16091049)], [(162185007, 162265941)]\n",
      "2023-10-26 23:42:33,657:INFO:the tp solutions: (16769278.379500002, 16913767.8565)\n",
      "2023-10-26 23:42:33,660:INFO:the tn solutions: (161437429.24046, 161506777.25954)\n",
      "2023-10-26 23:42:33,661:INFO:intervals after: [], []\n",
      "2023-10-26 23:42:33,662:INFO:evaluating the tp and tn solution for sens and spec\n",
      "2023-10-26 23:42:33,664:INFO:intervals before: [], []\n",
      "2023-10-26 23:42:33,666:INFO:the tp solutions: (16085255.745579999, 16091049.18442)\n",
      "2023-10-26 23:42:33,668:INFO:the tn solutions: (161437429.24046, 161506777.25954)\n",
      "2023-10-26 23:42:33,669:INFO:intervals after: [], []\n",
      "2023-10-26 23:42:33,670:INFO:testing acc, feasible tptn pairs: 0\n",
      "2023-10-26 23:42:33,671:INFO:no more feasible tp,tn pairs left\n",
      "2023-10-26 23:42:33,672:INFO:constructing final tp, tn pair set\n",
      "2023-10-26 23:42:33,676:INFO:final number of intervals: 0\n",
      "2023-10-26 23:42:33,677:INFO:final number of pairs: 0\n"
     ]
    },
    {
     "data": {
      "text/plain": [
       "{'inconsistency_fov_mos': False,\n",
       " 'inconsistency_fov_som': True,\n",
       " 'inconsistency_all_mos': False,\n",
       " 'inconsistency_all_som': True}"
      ]
     },
     "execution_count": 3,
     "metadata": {},
     "output_type": "execute_result"
    }
   ],
   "source": [
    "results = check_hrf_vessel_aggregated(scores=scores,\n",
    "                                        eps=10**(-k),\n",
    "                                        imageset='all',\n",
    "                                        verbosity=0)\n",
    "results['inconsistency']"
   ]
  },
  {
   "cell_type": "markdown",
   "metadata": {},
   "source": [
    "## Image level scores"
   ]
  },
  {
   "cell_type": "code",
   "execution_count": 4,
   "metadata": {},
   "outputs": [],
   "source": [
    "img_identifier = '13_h'\n",
    "scores = {'acc': 0.5562, 'sens': 0.5049, 'spec': 0.5621}"
   ]
  },
  {
   "cell_type": "code",
   "execution_count": 5,
   "metadata": {},
   "outputs": [
    {
     "name": "stderr",
     "output_type": "stream",
     "text": [
      "2023-10-26 23:42:33,710:INFO:Use this function if the scores originate from the tp and tn statistics calculated on one test set with no aggregation of any kind.\n",
      "2023-10-26 23:42:33,713:INFO:calling the score check with scores {'acc': 0.5562, 'sens': 0.5049, 'spec': 0.5621}, uncertainty 0.0001, p 712528 and n 6199936\n",
      "2023-10-26 23:42:33,715:INFO:checking the scores {'acc': 0.5562, 'sens': 0.5049, 'spec': 0.5621}\n",
      "2023-10-26 23:42:33,716:INFO:evaluating the tp and tn solution for acc and sens\n",
      "2023-10-26 23:42:33,717:INFO:intervals before: (0, 712528), (0, 6199936)\n",
      "2023-10-26 23:42:33,718:INFO:the tp solutions: (359682.709344, 359828.065056)\n",
      "2023-10-26 23:42:33,720:INFO:the tn solutions: (3484179.340416, 3485734.8387840004)\n",
      "2023-10-26 23:42:33,721:INFO:intervals after: [(359683, 359828)], [(3484180, 3485734)]\n",
      "2023-10-26 23:42:33,722:INFO:evaluating the tp and tn solution for acc and spec\n",
      "2023-10-26 23:42:33,724:INFO:intervals before: [(359683, 359828)], [(3484180, 3485734)]\n",
      "2023-10-26 23:42:33,725:INFO:the tp solutions: (358390.98639999935, 361065.91600000067)\n",
      "2023-10-26 23:42:33,726:INFO:the tn solutions: (3484351.632128, 3485616.419072001)\n",
      "2023-10-26 23:42:33,727:INFO:intervals after: [(359683, 359828)], [(3484352, 3485616)]\n",
      "2023-10-26 23:42:33,729:INFO:evaluating the tp and tn solution for sens and spec\n",
      "2023-10-26 23:42:33,731:INFO:intervals before: [(359683, 359828)], [(3484352, 3485616)]\n",
      "2023-10-26 23:42:33,733:INFO:the tp solutions: (359682.709344, 359828.065056)\n",
      "2023-10-26 23:42:33,734:INFO:the tn solutions: (3484351.632128, 3485616.419072001)\n",
      "2023-10-26 23:42:33,735:INFO:intervals after: [(359683, 359828)], [(3484352, 3485616)]\n",
      "2023-10-26 23:42:33,745:INFO:testing acc, feasible tptn pairs: 146\n",
      "2023-10-26 23:42:33,757:INFO:testing sens, feasible tptn pairs: 146\n",
      "2023-10-26 23:42:33,759:INFO:testing spec, feasible tptn pairs: 144\n",
      "2023-10-26 23:42:33,765:INFO:constructing final tp, tn pair set\n",
      "2023-10-26 23:42:33,767:INFO:final number of intervals: 144\n",
      "2023-10-26 23:42:33,769:INFO:final number of pairs: 180054\n",
      "2023-10-26 23:42:33,772:INFO:Use this function if the scores originate from the tp and tn statistics calculated on one test set with no aggregation of any kind.\n",
      "2023-10-26 23:42:33,774:INFO:calling the score check with scores {'acc': 0.5562, 'sens': 0.5049, 'spec': 0.5621}, uncertainty 0.0001, p 712528 and n 7472816\n",
      "2023-10-26 23:42:33,777:INFO:checking the scores {'acc': 0.5562, 'sens': 0.5049, 'spec': 0.5621}\n",
      "2023-10-26 23:42:33,779:INFO:evaluating the tp and tn solution for acc and sens\n",
      "2023-10-26 23:42:33,781:INFO:intervals before: (0, 712528), (0, 7472816)\n",
      "2023-10-26 23:42:33,784:INFO:the tp solutions: (359682.709344, 359828.065056)\n",
      "2023-10-26 23:42:33,786:INFO:the tn solutions: (4192025.362656, 4193840.528544001)\n",
      "2023-10-26 23:42:33,787:INFO:intervals after: [(359683, 359828)], [(4192026, 4193840)]\n",
      "2023-10-26 23:42:33,789:INFO:evaluating the tp and tn solution for acc and spec\n",
      "2023-10-26 23:42:33,790:INFO:intervals before: [(359683, 359828)], [(4192026, 4193840)]\n",
      "2023-10-26 23:42:33,791:INFO:the tp solutions: (350621.3268799996, 353815.5915200012)\n",
      "2023-10-26 23:42:33,792:INFO:the tn solutions: (4199707.646368, 4201232.100832)\n",
      "2023-10-26 23:42:33,793:INFO:intervals after: [], []\n",
      "2023-10-26 23:42:33,794:INFO:evaluating the tp and tn solution for sens and spec\n",
      "2023-10-26 23:42:33,795:INFO:intervals before: [], []\n",
      "2023-10-26 23:42:33,796:INFO:the tp solutions: (359682.709344, 359828.065056)\n",
      "2023-10-26 23:42:33,798:INFO:the tn solutions: (4199707.646368, 4201232.100832)\n",
      "2023-10-26 23:42:33,799:INFO:intervals after: [], []\n",
      "2023-10-26 23:42:33,803:INFO:testing acc, feasible tptn pairs: 0\n",
      "2023-10-26 23:42:33,804:INFO:no more feasible tp,tn pairs left\n",
      "2023-10-26 23:42:33,806:INFO:constructing final tp, tn pair set\n",
      "2023-10-26 23:42:33,807:INFO:final number of intervals: 0\n",
      "2023-10-26 23:42:33,808:INFO:final number of pairs: 0\n"
     ]
    },
    {
     "data": {
      "text/plain": [
       "{'inconsistency_fov': False, 'inconsistency_all': True}"
      ]
     },
     "execution_count": 5,
     "metadata": {},
     "output_type": "execute_result"
    }
   ],
   "source": [
    "results = check_hrf_vessel_image(image_identifier=img_identifier,\n",
    "                                    scores=scores,\n",
    "                                    eps=10**(-k))\n",
    "results['inconsistency']"
   ]
  }
 ],
 "metadata": {
  "kernelspec": {
   "display_name": "mlscorecheck",
   "language": "python",
   "name": "python3"
  },
  "language_info": {
   "codemirror_mode": {
    "name": "ipython",
    "version": 3
   },
   "file_extension": ".py",
   "mimetype": "text/x-python",
   "name": "python",
   "nbconvert_exporter": "python",
   "pygments_lexer": "ipython3",
   "version": "3.10.0"
  }
 },
 "nbformat": 4,
 "nbformat_minor": 2
}
