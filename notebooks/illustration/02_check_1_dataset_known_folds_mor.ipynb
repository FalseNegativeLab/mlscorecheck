{
 "cells": [
  {
   "cell_type": "code",
   "execution_count": 9,
   "metadata": {},
   "outputs": [],
   "source": [
    "from mlscorecheck.check import check_1_dataset_known_folds_mor_scores"
   ]
  },
  {
   "cell_type": "code",
   "execution_count": 10,
   "metadata": {},
   "outputs": [
    {
     "name": "stdout",
     "output_type": "stream",
     "text": [
      "Welcome to the CBC MILP Solver \n",
      "Version: 2.10.3 \n",
      "Build Date: Dec 15 2019 \n",
      "\n",
      "command line - /home/gykovacs/anaconda3/envs/mlscorecheck/lib/python3.10/site-packages/pulp/solverdir/cbc/linux/64/cbc /tmp/87969d2809fc48369c3f7966d88d6176-pulp.mps timeMode elapsed branch printingOptions all solution /tmp/87969d2809fc48369c3f7966d88d6176-pulp.sol (default strategy 1)\n",
      "At line 2 NAME          MODEL\n",
      "At line 3 ROWS\n",
      "At line 11 COLUMNS\n",
      "At line 41 RHS\n",
      "At line 48 BOUNDS\n",
      "At line 54 ENDATA\n",
      "Problem MODEL has 6 rows, 5 columns and 20 elements\n",
      "Coin0008I MODEL read with 0 errors\n",
      "Option for timeMode changed from cpu to elapsed\n",
      "Continuous objective value is 0 - 0.00 seconds\n",
      "Cgl0003I 0 fixed, 9 tightened bounds, 0 strengthened rows, 0 substitutions\n",
      "Cgl0003I 0 fixed, 2 tightened bounds, 0 strengthened rows, 0 substitutions\n",
      "Cgl0004I processed model has 3 rows, 4 columns (4 integer (0 of which binary)) and 10 elements\n",
      "Cbc0012I Integer solution of 0 found by DiveCoefficient after 24 iterations and 0 nodes (0.00 seconds)\n",
      "Cbc0013I At root node, 0 cuts changed objective from 0 to 0 in 12 passes\n",
      "Cbc0014I Cut generator 0 (Probing) - 0 row cuts average 0.0 elements, 4 column cuts (4 active)  in 0.000 seconds - new frequency is 1\n",
      "Cbc0014I Cut generator 1 (Gomory) - 25 row cuts average 3.1 elements, 0 column cuts (0 active)  in 0.000 seconds - new frequency is 1\n",
      "Cbc0014I Cut generator 2 (Knapsack) - 0 row cuts average 0.0 elements, 0 column cuts (0 active)  in 0.000 seconds - new frequency is -100\n",
      "Cbc0014I Cut generator 3 (Clique) - 0 row cuts average 0.0 elements, 0 column cuts (0 active)  in 0.000 seconds - new frequency is -100\n",
      "Cbc0014I Cut generator 4 (MixedIntegerRounding2) - 0 row cuts average 0.0 elements, 0 column cuts (0 active)  in 0.000 seconds - new frequency is -100\n",
      "Cbc0014I Cut generator 5 (FlowCover) - 0 row cuts average 0.0 elements, 0 column cuts (0 active)  in 0.000 seconds - new frequency is -100\n",
      "Cbc0014I Cut generator 6 (TwoMirCuts) - 10 row cuts average 2.6 elements, 0 column cuts (0 active)  in 0.000 seconds - new frequency is -100\n",
      "Cbc0001I Search completed - best objective 0, took 24 iterations and 0 nodes (0.00 seconds)\n",
      "Cbc0035I Maximum depth 0, 0 variables fixed on reduced cost\n",
      "Cuts at root node changed objective from 0 to 0\n",
      "Probing was tried 12 times and created 4 cuts of which 0 were active after adding rounds of cuts (0.000 seconds)\n",
      "Gomory was tried 12 times and created 25 cuts of which 0 were active after adding rounds of cuts (0.000 seconds)\n",
      "Knapsack was tried 12 times and created 0 cuts of which 0 were active after adding rounds of cuts (0.000 seconds)\n",
      "Clique was tried 12 times and created 0 cuts of which 0 were active after adding rounds of cuts (0.000 seconds)\n",
      "MixedIntegerRounding2 was tried 12 times and created 0 cuts of which 0 were active after adding rounds of cuts (0.000 seconds)\n",
      "FlowCover was tried 12 times and created 0 cuts of which 0 were active after adding rounds of cuts (0.000 seconds)\n",
      "TwoMirCuts was tried 12 times and created 10 cuts of which 0 were active after adding rounds of cuts (0.000 seconds)\n",
      "ZeroHalf was tried 1 times and created 0 cuts of which 0 were active after adding rounds of cuts (0.000 seconds)\n",
      "\n",
      "Result - Optimal solution found\n",
      "\n",
      "Objective value:                0.00000000\n",
      "Enumerated nodes:               0\n",
      "Total iterations:               24\n",
      "Time (CPU seconds):             0.00\n",
      "Time (Wallclock seconds):       0.00\n",
      "\n",
      "Option for printingOptions changed from normal to all\n",
      "Total time (CPU seconds):       0.00   (Wallclock seconds):       0.00\n",
      "\n"
     ]
    },
    {
     "data": {
      "text/plain": [
       "False"
      ]
     },
     "execution_count": 10,
     "metadata": {},
     "output_type": "execute_result"
    }
   ],
   "source": [
    "dataset = {'p': 126, 'n': 131}\n",
    "folding = {'folds': [{'p': 52, 'n': 94}, {'p': 74, 'n': 37}]}\n",
    "scores = {'acc': 0.573, 'sens': 0.768, 'bacc': 0.662}\n",
    "result = check_1_dataset_known_folds_mor_scores(dataset=dataset,\n",
    "                                                folding=folding,\n",
    "                                                scores=scores,\n",
    "                                                eps=1e-3)\n",
    "result['inconsistency']"
   ]
  },
  {
   "cell_type": "code",
   "execution_count": 11,
   "metadata": {},
   "outputs": [
    {
     "data": {
      "text/plain": [
       "'feasible'"
      ]
     },
     "execution_count": 11,
     "metadata": {},
     "output_type": "execute_result"
    }
   ],
   "source": [
    "result['lp_status']"
   ]
  },
  {
   "cell_type": "code",
   "execution_count": 12,
   "metadata": {},
   "outputs": [
    {
     "data": {
      "text/plain": [
       "{'evaluations': [{'folds': {'folds': [{'fold': {'p': 52,\n",
       "       'n': 94,\n",
       "       'identifier': 'rxund',\n",
       "       'tp': 49.0,\n",
       "       'tn': 13.0},\n",
       "      'scores': {'acc': 0.4246575342465753,\n",
       "       'sens': 0.9423076923076924,\n",
       "       'spec': 0.13829787234042554,\n",
       "       'bacc': 0.5403027823240589},\n",
       "      'score_bounds': None,\n",
       "      'bounds_flag': True},\n",
       "     {'fold': {'p': 74,\n",
       "       'n': 37,\n",
       "       'identifier': 'ibdye',\n",
       "       'tp': 44.0,\n",
       "       'tn': 36.0},\n",
       "      'scores': {'acc': 0.7207207207207207,\n",
       "       'sens': 0.5945945945945946,\n",
       "       'spec': 0.972972972972973,\n",
       "       'bacc': 0.7837837837837838},\n",
       "      'score_bounds': None,\n",
       "      'bounds_flag': True}],\n",
       "    'bounds_flag': True},\n",
       "   'scores': {'acc': 0.572689127483648,\n",
       "    'sens': 0.7684511434511435,\n",
       "    'spec': 0.5556354226566993,\n",
       "    'bacc': 0.6620432830539213},\n",
       "   'score_bounds': None,\n",
       "   'bounds_flag': {'folds': [{'fold': {'p': 52,\n",
       "       'n': 94,\n",
       "       'identifier': 'rxund',\n",
       "       'tp': 49.0,\n",
       "       'tn': 13.0},\n",
       "      'scores': {'acc': 0.4246575342465753,\n",
       "       'sens': 0.9423076923076924,\n",
       "       'spec': 0.13829787234042554,\n",
       "       'bacc': 0.5403027823240589},\n",
       "      'score_bounds': None,\n",
       "      'bounds_flag': True},\n",
       "     {'fold': {'p': 74,\n",
       "       'n': 37,\n",
       "       'identifier': 'ibdye',\n",
       "       'tp': 44.0,\n",
       "       'tn': 36.0},\n",
       "      'scores': {'acc': 0.7207207207207207,\n",
       "       'sens': 0.5945945945945946,\n",
       "       'spec': 0.972972972972973,\n",
       "       'bacc': 0.7837837837837838},\n",
       "      'score_bounds': None,\n",
       "      'bounds_flag': True}],\n",
       "    'bounds_flag': True}}],\n",
       " 'bounds_flag': True}"
      ]
     },
     "execution_count": 12,
     "metadata": {},
     "output_type": "execute_result"
    }
   ],
   "source": [
    "result['lp_configuration']"
   ]
  },
  {
   "cell_type": "code",
   "execution_count": 13,
   "metadata": {},
   "outputs": [
    {
     "name": "stdout",
     "output_type": "stream",
     "text": [
      "Welcome to the CBC MILP Solver \n",
      "Version: 2.10.3 \n",
      "Build Date: Dec 15 2019 \n",
      "\n",
      "command line - /home/gykovacs/anaconda3/envs/mlscorecheck/lib/python3.10/site-packages/pulp/solverdir/cbc/linux/64/cbc /tmp/790bf9af93164946bf3b37ce585bfea5-pulp.mps timeMode elapsed branch printingOptions all solution /tmp/790bf9af93164946bf3b37ce585bfea5-pulp.sol (default strategy 1)\n",
      "At line 2 NAME          MODEL\n",
      "At line 3 ROWS\n",
      "At line 11 COLUMNS\n",
      "At line 109 RHS\n",
      "At line 116 BOUNDS\n",
      "At line 134 ENDATA\n",
      "Problem MODEL has 6 rows, 17 columns and 64 elements\n",
      "Coin0008I MODEL read with 0 errors\n",
      "Option for timeMode changed from cpu to elapsed\n",
      "Problem is infeasible - 0.00 seconds\n",
      "Option for printingOptions changed from normal to all\n",
      "Total time (CPU seconds):       0.00   (Wallclock seconds):       0.00\n",
      "\n"
     ]
    },
    {
     "data": {
      "text/plain": [
       "True"
      ]
     },
     "execution_count": 13,
     "metadata": {},
     "output_type": "execute_result"
    }
   ],
   "source": [
    "dataset = {'p': 398, 'n': 569}\n",
    "folding = {'n_folds': 4, 'n_repeats': 2, 'strategy': 'stratified_sklearn'}\n",
    "scores = {'acc': 0.9, 'spec': 0.9, 'sens': 0.6}\n",
    "result = check_1_dataset_known_folds_mor_scores(dataset=dataset,\n",
    "                                                folding=folding,\n",
    "                                                scores=scores,\n",
    "                                                eps=1e-2)\n",
    "result['inconsistency']"
   ]
  },
  {
   "cell_type": "code",
   "execution_count": 14,
   "metadata": {},
   "outputs": [
    {
     "name": "stderr",
     "output_type": "stream",
     "text": [
      "2023-09-17 10:24:38,784:INFO:common_datasets.glass_0_1_6_vs_2_yfk_0_0: adding lower bound 0.8 for acc\n",
      "2023-09-17 10:24:38,785:INFO:common_datasets.glass_0_1_6_vs_2_yfk_0_0: adding upper bound 1.0 for acc\n",
      "2023-09-17 10:24:38,786:INFO:common_datasets.glass_0_1_6_vs_2_yfk_0_1: adding lower bound 0.8 for acc\n",
      "2023-09-17 10:24:38,787:INFO:common_datasets.glass_0_1_6_vs_2_yfk_0_1: adding upper bound 1.0 for acc\n",
      "2023-09-17 10:24:38,788:INFO:common_datasets.glass_0_1_6_vs_2_yfk_0_2: adding lower bound 0.8 for acc\n",
      "2023-09-17 10:24:38,789:INFO:common_datasets.glass_0_1_6_vs_2_yfk_0_2: adding upper bound 1.0 for acc\n",
      "2023-09-17 10:24:38,789:INFO:common_datasets.glass_0_1_6_vs_2_yfk_0_3: adding lower bound 0.8 for acc\n",
      "2023-09-17 10:24:38,790:INFO:common_datasets.glass_0_1_6_vs_2_yfk_0_3: adding upper bound 1.0 for acc\n",
      "2023-09-17 10:24:38,791:INFO:common_datasets.glass_0_1_6_vs_2_yfk_1_0: adding lower bound 0.8 for acc\n",
      "2023-09-17 10:24:38,793:INFO:common_datasets.glass_0_1_6_vs_2_yfk_1_0: adding upper bound 1.0 for acc\n",
      "2023-09-17 10:24:38,794:INFO:common_datasets.glass_0_1_6_vs_2_yfk_1_1: adding lower bound 0.8 for acc\n",
      "2023-09-17 10:24:38,795:INFO:common_datasets.glass_0_1_6_vs_2_yfk_1_1: adding upper bound 1.0 for acc\n",
      "2023-09-17 10:24:38,795:INFO:common_datasets.glass_0_1_6_vs_2_yfk_1_2: adding lower bound 0.8 for acc\n",
      "2023-09-17 10:24:38,797:INFO:common_datasets.glass_0_1_6_vs_2_yfk_1_2: adding upper bound 1.0 for acc\n",
      "2023-09-17 10:24:38,798:INFO:common_datasets.glass_0_1_6_vs_2_yfk_1_3: adding lower bound 0.8 for acc\n",
      "2023-09-17 10:24:38,799:INFO:common_datasets.glass_0_1_6_vs_2_yfk_1_3: adding upper bound 1.0 for acc\n"
     ]
    },
    {
     "name": "stdout",
     "output_type": "stream",
     "text": [
      "Welcome to the CBC MILP Solver \n",
      "Version: 2.10.3 \n",
      "Build Date: Dec 15 2019 \n",
      "\n",
      "command line - /home/gykovacs/anaconda3/envs/mlscorecheck/lib/python3.10/site-packages/pulp/solverdir/cbc/linux/64/cbc /tmp/526bcafc69474f4992a89b510423c749-pulp.mps timeMode elapsed branch printingOptions all solution /tmp/526bcafc69474f4992a89b510423c749-pulp.sol (default strategy 1)\n",
      "At line 2 NAME          MODEL\n",
      "At line 3 ROWS\n",
      "At line 29 COLUMNS\n",
      "At line 191 RHS\n",
      "At line 216 BOUNDS\n",
      "At line 234 ENDATA\n",
      "Problem MODEL has 24 rows, 17 columns and 128 elements\n",
      "Coin0008I MODEL read with 0 errors\n",
      "Option for timeMode changed from cpu to elapsed\n",
      "Problem is infeasible - 0.00 seconds\n",
      "Option for printingOptions changed from normal to all\n",
      "Total time (CPU seconds):       0.00   (Wallclock seconds):       0.00\n",
      "\n"
     ]
    },
    {
     "data": {
      "text/plain": [
       "True"
      ]
     },
     "execution_count": 14,
     "metadata": {},
     "output_type": "execute_result"
    }
   ],
   "source": [
    "dataset = {'dataset_name': 'common_datasets.glass_0_1_6_vs_2'}\n",
    "folding = {'n_folds': 4, 'n_repeats': 2, 'strategy': 'stratified_sklearn'}\n",
    "\n",
    "scores = {'acc': 0.9, 'spec': 0.9, 'sens': 0.6, 'bacc': 0.1, 'f1': 0.95}\n",
    "\n",
    "result = check_1_dataset_known_folds_mor_scores(dataset=dataset,\n",
    "                                                folding=folding,\n",
    "                                                fold_score_bounds={'acc': (0.8, 1.0)},\n",
    "                                                scores=scores,\n",
    "                                                eps=1e-2,\n",
    "                                                numerical_tolerance=1e-6)\n",
    "result['inconsistency']"
   ]
  },
  {
   "cell_type": "code",
   "execution_count": null,
   "metadata": {},
   "outputs": [],
   "source": []
  }
 ],
 "metadata": {
  "kernelspec": {
   "display_name": "mlscorecheck",
   "language": "python",
   "name": "python3"
  },
  "language_info": {
   "codemirror_mode": {
    "name": "ipython",
    "version": 3
   },
   "file_extension": ".py",
   "mimetype": "text/x-python",
   "name": "python",
   "nbconvert_exporter": "python",
   "pygments_lexer": "ipython3",
   "version": "3.10.0"
  },
  "orig_nbformat": 4
 },
 "nbformat": 4,
 "nbformat_minor": 2
}
