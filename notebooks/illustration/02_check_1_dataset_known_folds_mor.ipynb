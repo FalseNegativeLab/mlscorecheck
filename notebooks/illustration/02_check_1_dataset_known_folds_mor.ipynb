{
 "cells": [
  {
   "cell_type": "code",
   "execution_count": 1,
   "metadata": {},
   "outputs": [],
   "source": [
    "from mlscorecheck.check import check_1_dataset_known_folds_mor_scores"
   ]
  },
  {
   "cell_type": "code",
   "execution_count": 2,
   "metadata": {},
   "outputs": [
    {
     "name": "stdout",
     "output_type": "stream",
     "text": [
      "Welcome to the CBC MILP Solver \n",
      "Version: 2.10.3 \n",
      "Build Date: Dec 15 2019 \n",
      "\n",
      "command line - /home/gykovacs/anaconda3/envs/mlscorecheck/lib/python3.10/site-packages/pulp/solverdir/cbc/linux/64/cbc /tmp/8a574c838b3840f08119d251fca085d5-pulp.mps timeMode elapsed branch printingOptions all solution /tmp/8a574c838b3840f08119d251fca085d5-pulp.sol (default strategy 1)\n",
      "At line 2 NAME          MODEL\n",
      "At line 3 ROWS\n",
      "At line 11 COLUMNS\n",
      "At line 41 RHS\n",
      "At line 48 BOUNDS\n",
      "At line 54 ENDATA\n",
      "Problem MODEL has 6 rows, 5 columns and 20 elements\n",
      "Coin0008I MODEL read with 0 errors\n",
      "Option for timeMode changed from cpu to elapsed\n",
      "Continuous objective value is 0 - 0.00 seconds\n",
      "Cgl0003I 0 fixed, 9 tightened bounds, 0 strengthened rows, 0 substitutions\n",
      "Cgl0003I 0 fixed, 2 tightened bounds, 0 strengthened rows, 0 substitutions\n",
      "Cgl0004I processed model has 3 rows, 4 columns (4 integer (0 of which binary)) and 10 elements\n",
      "Cbc0012I Integer solution of 0 found by DiveCoefficient after 97 iterations and 0 nodes (0.01 seconds)\n",
      "Cbc0031I 3 added rows had average density of 3.3333333\n",
      "Cbc0013I At root node, 3 cuts changed objective from 0 to 0 in 100 passes\n",
      "Cbc0014I Cut generator 0 (Probing) - 0 row cuts average 0.0 elements, 0 column cuts (0 active)  in 0.001 seconds - new frequency is -100\n",
      "Cbc0014I Cut generator 1 (Gomory) - 178 row cuts average 3.9 elements, 0 column cuts (0 active)  in 0.001 seconds - new frequency is -100\n",
      "Cbc0014I Cut generator 2 (Knapsack) - 0 row cuts average 0.0 elements, 0 column cuts (0 active)  in 0.000 seconds - new frequency is -100\n",
      "Cbc0014I Cut generator 3 (Clique) - 0 row cuts average 0.0 elements, 0 column cuts (0 active)  in 0.000 seconds - new frequency is -100\n",
      "Cbc0014I Cut generator 4 (MixedIntegerRounding2) - 0 row cuts average 0.0 elements, 0 column cuts (0 active)  in 0.000 seconds - new frequency is -100\n",
      "Cbc0014I Cut generator 5 (FlowCover) - 0 row cuts average 0.0 elements, 0 column cuts (0 active)  in 0.000 seconds - new frequency is -100\n",
      "Cbc0014I Cut generator 6 (TwoMirCuts) - 5 row cuts average 2.4 elements, 0 column cuts (0 active)  in 0.000 seconds - new frequency is -100\n",
      "Cbc0001I Search completed - best objective 0, took 97 iterations and 0 nodes (0.01 seconds)\n",
      "Cbc0035I Maximum depth 0, 0 variables fixed on reduced cost\n",
      "Cuts at root node changed objective from 0 to 0\n",
      "Probing was tried 100 times and created 0 cuts of which 0 were active after adding rounds of cuts (0.001 seconds)\n",
      "Gomory was tried 100 times and created 178 cuts of which 0 were active after adding rounds of cuts (0.001 seconds)\n",
      "Knapsack was tried 100 times and created 0 cuts of which 0 were active after adding rounds of cuts (0.000 seconds)\n",
      "Clique was tried 100 times and created 0 cuts of which 0 were active after adding rounds of cuts (0.000 seconds)\n",
      "MixedIntegerRounding2 was tried 100 times and created 0 cuts of which 0 were active after adding rounds of cuts (0.000 seconds)\n",
      "FlowCover was tried 100 times and created 0 cuts of which 0 were active after adding rounds of cuts (0.000 seconds)\n",
      "TwoMirCuts was tried 100 times and created 5 cuts of which 0 were active after adding rounds of cuts (0.000 seconds)\n",
      "ZeroHalf was tried 1 times and created 0 cuts of which 0 were active after adding rounds of cuts (0.000 seconds)\n",
      "\n",
      "Result - Optimal solution found\n",
      "\n",
      "Objective value:                0.00000000\n",
      "Enumerated nodes:               0\n",
      "Total iterations:               97\n",
      "Time (CPU seconds):             0.01\n",
      "Time (Wallclock seconds):       0.01\n",
      "\n",
      "Option for printingOptions changed from normal to all\n",
      "Total time (CPU seconds):       0.01   (Wallclock seconds):       0.01\n",
      "\n"
     ]
    },
    {
     "data": {
      "text/plain": [
       "False"
      ]
     },
     "execution_count": 2,
     "metadata": {},
     "output_type": "execute_result"
    }
   ],
   "source": [
    "dataset = {'p': 126, 'n': 131}\n",
    "folding = {'folds': [{'p': 52, 'n': 94}, {'p': 74, 'n': 37}]}\n",
    "scores = {'acc': 0.573, 'sens': 0.768, 'bacc': 0.662}\n",
    "result = check_1_dataset_known_folds_mor_scores(dataset=dataset,\n",
    "                                                folding=folding,\n",
    "                                                scores=scores,\n",
    "                                                eps=1e-3)\n",
    "result['inconsistency']"
   ]
  },
  {
   "cell_type": "code",
   "execution_count": 3,
   "metadata": {},
   "outputs": [
    {
     "data": {
      "text/plain": [
       "'feasible'"
      ]
     },
     "execution_count": 3,
     "metadata": {},
     "output_type": "execute_result"
    }
   ],
   "source": [
    "result['lp_status']"
   ]
  },
  {
   "cell_type": "code",
   "execution_count": 4,
   "metadata": {},
   "outputs": [
    {
     "data": {
      "text/plain": [
       "{'evaluations': [{'folds': {'folds': [{'fold': {'p': 52,\n",
       "       'n': 94,\n",
       "       'identifier': 'gxrek',\n",
       "       'tp': 49.0,\n",
       "       'tn': 13.0},\n",
       "      'scores': {'acc': 0.4246575342465753,\n",
       "       'sens': 0.9423076923076924,\n",
       "       'spec': 0.13829787234042554,\n",
       "       'bacc': 0.5403027823240589},\n",
       "      'score_bounds': None,\n",
       "      'bounds_flag': True},\n",
       "     {'fold': {'p': 74,\n",
       "       'n': 37,\n",
       "       'identifier': 'pwjio',\n",
       "       'tp': 44.0,\n",
       "       'tn': 36.0},\n",
       "      'scores': {'acc': 0.7207207207207207,\n",
       "       'sens': 0.5945945945945946,\n",
       "       'spec': 0.972972972972973,\n",
       "       'bacc': 0.7837837837837838},\n",
       "      'score_bounds': None,\n",
       "      'bounds_flag': True}],\n",
       "    'bounds_flag': True},\n",
       "   'scores': {'acc': 0.572689127483648,\n",
       "    'sens': 0.7684511434511435,\n",
       "    'spec': 0.5556354226566993,\n",
       "    'bacc': 0.6620432830539213},\n",
       "   'score_bounds': None,\n",
       "   'bounds_flag': {'folds': [{'fold': {'p': 52,\n",
       "       'n': 94,\n",
       "       'identifier': 'gxrek',\n",
       "       'tp': 49.0,\n",
       "       'tn': 13.0},\n",
       "      'scores': {'acc': 0.4246575342465753,\n",
       "       'sens': 0.9423076923076924,\n",
       "       'spec': 0.13829787234042554,\n",
       "       'bacc': 0.5403027823240589},\n",
       "      'score_bounds': None,\n",
       "      'bounds_flag': True},\n",
       "     {'fold': {'p': 74,\n",
       "       'n': 37,\n",
       "       'identifier': 'pwjio',\n",
       "       'tp': 44.0,\n",
       "       'tn': 36.0},\n",
       "      'scores': {'acc': 0.7207207207207207,\n",
       "       'sens': 0.5945945945945946,\n",
       "       'spec': 0.972972972972973,\n",
       "       'bacc': 0.7837837837837838},\n",
       "      'score_bounds': None,\n",
       "      'bounds_flag': True}],\n",
       "    'bounds_flag': True}}],\n",
       " 'bounds_flag': True}"
      ]
     },
     "execution_count": 4,
     "metadata": {},
     "output_type": "execute_result"
    }
   ],
   "source": [
    "result['lp_configuration']"
   ]
  },
  {
   "cell_type": "code",
   "execution_count": 8,
   "metadata": {},
   "outputs": [
    {
     "name": "stdout",
     "output_type": "stream",
     "text": [
      "Welcome to the CBC MILP Solver \n",
      "Version: 2.10.3 \n",
      "Build Date: Dec 15 2019 \n",
      "\n",
      "command line - /home/gykovacs/anaconda3/envs/mlscorecheck/lib/python3.10/site-packages/pulp/solverdir/cbc/linux/64/cbc /tmp/30115aa2e9a5472f9ff89d59ab3fac8a-pulp.mps timeMode elapsed branch printingOptions all solution /tmp/30115aa2e9a5472f9ff89d59ab3fac8a-pulp.sol (default strategy 1)\n",
      "At line 2 NAME          MODEL\n",
      "At line 3 ROWS\n",
      "At line 11 COLUMNS\n",
      "At line 41 RHS\n",
      "At line 48 BOUNDS\n",
      "At line 54 ENDATA\n",
      "Problem MODEL has 6 rows, 5 columns and 20 elements\n",
      "Coin0008I MODEL read with 0 errors\n",
      "Option for timeMode changed from cpu to elapsed\n",
      "Continuous objective value is 0 - 0.00 seconds\n",
      "Cgl0004I processed model has 3 rows, 4 columns (4 integer (0 of which binary)) and 10 elements\n",
      "Cbc0031I 2 added rows had average density of 4\n",
      "Cbc0013I At root node, 2 cuts changed objective from 0 to 0 in 28 passes\n",
      "Cbc0014I Cut generator 0 (Probing) - 0 row cuts average 0.0 elements, 1 column cuts (1 active)  in 0.001 seconds - new frequency is -100\n",
      "Cbc0014I Cut generator 1 (Gomory) - 45 row cuts average 3.6 elements, 0 column cuts (0 active)  in 0.001 seconds - new frequency is -100\n",
      "Cbc0014I Cut generator 2 (Knapsack) - 0 row cuts average 0.0 elements, 0 column cuts (0 active)  in 0.000 seconds - new frequency is -100\n",
      "Cbc0014I Cut generator 3 (Clique) - 0 row cuts average 0.0 elements, 0 column cuts (0 active)  in 0.000 seconds - new frequency is -100\n",
      "Cbc0014I Cut generator 4 (MixedIntegerRounding2) - 0 row cuts average 0.0 elements, 0 column cuts (0 active)  in 0.000 seconds - new frequency is -100\n",
      "Cbc0014I Cut generator 5 (FlowCover) - 0 row cuts average 0.0 elements, 0 column cuts (0 active)  in 0.000 seconds - new frequency is -100\n",
      "Cbc0014I Cut generator 6 (TwoMirCuts) - 12 row cuts average 2.3 elements, 0 column cuts (0 active)  in 0.000 seconds - new frequency is -100\n",
      "Cbc0010I After 0 nodes, 1 on tree, 1e+50 best solution, best possible 0 (0.01 seconds)\n",
      "Cbc0001I Search completed - best objective 1e+50, took 77 iterations and 4 nodes (0.01 seconds)\n",
      "Cbc0032I Strong branching done 16 times (23 iterations), fathomed 3 nodes and fixed 1 variables\n",
      "Cbc0035I Maximum depth 1, 0 variables fixed on reduced cost\n",
      "Cuts at root node changed objective from 0 to 0\n",
      "Probing was tried 28 times and created 1 cuts of which 0 were active after adding rounds of cuts (0.001 seconds)\n",
      "Gomory was tried 28 times and created 45 cuts of which 0 were active after adding rounds of cuts (0.001 seconds)\n",
      "Knapsack was tried 28 times and created 0 cuts of which 0 were active after adding rounds of cuts (0.000 seconds)\n",
      "Clique was tried 28 times and created 0 cuts of which 0 were active after adding rounds of cuts (0.000 seconds)\n",
      "MixedIntegerRounding2 was tried 28 times and created 0 cuts of which 0 were active after adding rounds of cuts (0.000 seconds)\n",
      "FlowCover was tried 28 times and created 0 cuts of which 0 were active after adding rounds of cuts (0.000 seconds)\n",
      "TwoMirCuts was tried 28 times and created 12 cuts of which 0 were active after adding rounds of cuts (0.000 seconds)\n",
      "ZeroHalf was tried 1 times and created 0 cuts of which 0 were active after adding rounds of cuts (0.000 seconds)\n",
      "\n",
      "Result - Problem proven infeasible\n",
      "\n",
      "No feasible solution found\n",
      "Enumerated nodes:               4\n",
      "Total iterations:               77\n",
      "Time (CPU seconds):             0.01\n",
      "Time (Wallclock seconds):       0.01\n",
      "\n",
      "Option for printingOptions changed from normal to all\n",
      "Total time (CPU seconds):       0.01   (Wallclock seconds):       0.01\n",
      "\n"
     ]
    },
    {
     "data": {
      "text/plain": [
       "True"
      ]
     },
     "execution_count": 8,
     "metadata": {},
     "output_type": "execute_result"
    }
   ],
   "source": [
    "dataset = {'p': 126, 'n': 131}\n",
    "folding = {'folds': [{'p': 52, 'n': 94}, {'p': 74, 'n': 37}]}\n",
    "scores = {'acc': 0.573, 'sens': 0.568, 'bacc': 0.662}\n",
    "result = check_1_dataset_known_folds_mor_scores(dataset=dataset,\n",
    "                                                folding=folding,\n",
    "                                                scores=scores,\n",
    "                                                eps=1e-3)\n",
    "result['inconsistency']"
   ]
  },
  {
   "cell_type": "code",
   "execution_count": 6,
   "metadata": {},
   "outputs": [
    {
     "name": "stdout",
     "output_type": "stream",
     "text": [
      "Welcome to the CBC MILP Solver \n",
      "Version: 2.10.3 \n",
      "Build Date: Dec 15 2019 \n",
      "\n",
      "command line - /home/gykovacs/anaconda3/envs/mlscorecheck/lib/python3.10/site-packages/pulp/solverdir/cbc/linux/64/cbc /tmp/81a6a1590b0c450bafc279c2843114ed-pulp.mps timeMode elapsed branch printingOptions all solution /tmp/81a6a1590b0c450bafc279c2843114ed-pulp.sol (default strategy 1)\n",
      "At line 2 NAME          MODEL\n",
      "At line 3 ROWS\n",
      "At line 11 COLUMNS\n",
      "At line 109 RHS\n",
      "At line 116 BOUNDS\n",
      "At line 134 ENDATA\n",
      "Problem MODEL has 6 rows, 17 columns and 64 elements\n",
      "Coin0008I MODEL read with 0 errors\n",
      "Option for timeMode changed from cpu to elapsed\n",
      "Problem is infeasible - 0.00 seconds\n",
      "Option for printingOptions changed from normal to all\n",
      "Total time (CPU seconds):       0.00   (Wallclock seconds):       0.00\n",
      "\n"
     ]
    },
    {
     "data": {
      "text/plain": [
       "True"
      ]
     },
     "execution_count": 6,
     "metadata": {},
     "output_type": "execute_result"
    }
   ],
   "source": [
    "dataset = {'p': 398, 'n': 569}\n",
    "folding = {'n_folds': 4, 'n_repeats': 2, 'strategy': 'stratified_sklearn'}\n",
    "scores = {'acc': 0.9, 'spec': 0.9, 'sens': 0.6}\n",
    "result = check_1_dataset_known_folds_mor_scores(dataset=dataset,\n",
    "                                                folding=folding,\n",
    "                                                scores=scores,\n",
    "                                                eps=1e-2)\n",
    "result['inconsistency']"
   ]
  },
  {
   "cell_type": "code",
   "execution_count": 7,
   "metadata": {},
   "outputs": [
    {
     "name": "stderr",
     "output_type": "stream",
     "text": [
      "2023-09-17 13:09:19,505:INFO:common_datasets.glass_0_1_6_vs_2_yfe_0_0: adding lower bound 0.8 for acc\n",
      "2023-09-17 13:09:19,507:INFO:common_datasets.glass_0_1_6_vs_2_yfe_0_0: adding upper bound 1.0 for acc\n",
      "2023-09-17 13:09:19,508:INFO:common_datasets.glass_0_1_6_vs_2_yfe_0_1: adding lower bound 0.8 for acc\n",
      "2023-09-17 13:09:19,508:INFO:common_datasets.glass_0_1_6_vs_2_yfe_0_1: adding upper bound 1.0 for acc\n",
      "2023-09-17 13:09:19,509:INFO:common_datasets.glass_0_1_6_vs_2_yfe_0_2: adding lower bound 0.8 for acc\n",
      "2023-09-17 13:09:19,510:INFO:common_datasets.glass_0_1_6_vs_2_yfe_0_2: adding upper bound 1.0 for acc\n",
      "2023-09-17 13:09:19,511:INFO:common_datasets.glass_0_1_6_vs_2_yfe_0_3: adding lower bound 0.8 for acc\n",
      "2023-09-17 13:09:19,512:INFO:common_datasets.glass_0_1_6_vs_2_yfe_0_3: adding upper bound 1.0 for acc\n",
      "2023-09-17 13:09:19,513:INFO:common_datasets.glass_0_1_6_vs_2_yfe_1_0: adding lower bound 0.8 for acc\n",
      "2023-09-17 13:09:19,515:INFO:common_datasets.glass_0_1_6_vs_2_yfe_1_0: adding upper bound 1.0 for acc\n",
      "2023-09-17 13:09:19,516:INFO:common_datasets.glass_0_1_6_vs_2_yfe_1_1: adding lower bound 0.8 for acc\n",
      "2023-09-17 13:09:19,517:INFO:common_datasets.glass_0_1_6_vs_2_yfe_1_1: adding upper bound 1.0 for acc\n",
      "2023-09-17 13:09:19,517:INFO:common_datasets.glass_0_1_6_vs_2_yfe_1_2: adding lower bound 0.8 for acc\n",
      "2023-09-17 13:09:19,518:INFO:common_datasets.glass_0_1_6_vs_2_yfe_1_2: adding upper bound 1.0 for acc\n",
      "2023-09-17 13:09:19,519:INFO:common_datasets.glass_0_1_6_vs_2_yfe_1_3: adding lower bound 0.8 for acc\n",
      "2023-09-17 13:09:19,519:INFO:common_datasets.glass_0_1_6_vs_2_yfe_1_3: adding upper bound 1.0 for acc\n"
     ]
    },
    {
     "name": "stdout",
     "output_type": "stream",
     "text": [
      "Welcome to the CBC MILP Solver \n",
      "Version: 2.10.3 \n",
      "Build Date: Dec 15 2019 \n",
      "\n",
      "command line - /home/gykovacs/anaconda3/envs/mlscorecheck/lib/python3.10/site-packages/pulp/solverdir/cbc/linux/64/cbc /tmp/f8a00a800a2a4641bf67052b7d6107a8-pulp.mps timeMode elapsed branch printingOptions all solution /tmp/f8a00a800a2a4641bf67052b7d6107a8-pulp.sol (default strategy 1)\n",
      "At line 2 NAME          MODEL\n",
      "At line 3 ROWS\n",
      "At line 29 COLUMNS\n",
      "At line 191 RHS\n",
      "At line 216 BOUNDS\n",
      "At line 234 ENDATA\n",
      "Problem MODEL has 24 rows, 17 columns and 128 elements\n",
      "Coin0008I MODEL read with 0 errors\n",
      "Option for timeMode changed from cpu to elapsed\n",
      "Problem is infeasible - 0.00 seconds\n",
      "Option for printingOptions changed from normal to all\n",
      "Total time (CPU seconds):       0.00   (Wallclock seconds):       0.00\n",
      "\n"
     ]
    },
    {
     "data": {
      "text/plain": [
       "True"
      ]
     },
     "execution_count": 7,
     "metadata": {},
     "output_type": "execute_result"
    }
   ],
   "source": [
    "dataset = {'dataset_name': 'common_datasets.glass_0_1_6_vs_2'}\n",
    "folding = {'n_folds': 4, 'n_repeats': 2, 'strategy': 'stratified_sklearn'}\n",
    "\n",
    "scores = {'acc': 0.9, 'spec': 0.9, 'sens': 0.6, 'bacc': 0.1, 'f1': 0.95}\n",
    "\n",
    "result = check_1_dataset_known_folds_mor_scores(dataset=dataset,\n",
    "                                                folding=folding,\n",
    "                                                fold_score_bounds={'acc': (0.8, 1.0)},\n",
    "                                                scores=scores,\n",
    "                                                eps=1e-2,\n",
    "                                                numerical_tolerance=1e-6)\n",
    "result['inconsistency']"
   ]
  },
  {
   "cell_type": "code",
   "execution_count": null,
   "metadata": {},
   "outputs": [],
   "source": []
  }
 ],
 "metadata": {
  "kernelspec": {
   "display_name": "mlscorecheck",
   "language": "python",
   "name": "python3"
  },
  "language_info": {
   "codemirror_mode": {
    "name": "ipython",
    "version": 3
   },
   "file_extension": ".py",
   "mimetype": "text/x-python",
   "name": "python",
   "nbconvert_exporter": "python",
   "pygments_lexer": "ipython3",
   "version": "3.10.0"
  },
  "orig_nbformat": 4
 },
 "nbformat": 4,
 "nbformat_minor": 2
}
