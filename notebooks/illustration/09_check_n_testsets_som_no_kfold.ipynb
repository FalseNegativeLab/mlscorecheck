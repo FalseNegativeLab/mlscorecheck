{
 "cells": [
  {
   "cell_type": "code",
   "execution_count": 4,
   "metadata": {},
   "outputs": [],
   "source": [
    "from mlscorecheck.check import check_n_testsets_som_no_kfold_scores"
   ]
  },
  {
   "cell_type": "code",
   "execution_count": 5,
   "metadata": {},
   "outputs": [],
   "source": [
    "scores = {'acc': 0.4719, 'npv': 0.6253, 'f1p': 0.3091}\n",
    "testsets = [{'p': 405, 'n': 223}, {'p': 3, 'n': 422}, {'p': 109, 'n': 404}]"
   ]
  },
  {
   "cell_type": "code",
   "execution_count": 6,
   "metadata": {},
   "outputs": [
    {
     "name": "stderr",
     "output_type": "stream",
     "text": [
      "2023-10-24 01:14:32,637:INFO:testing acc, feasible tptn pairs: 518\n",
      "2023-10-24 01:14:32,672:INFO:testing npv, feasible tptn pairs: 518\n",
      "2023-10-24 01:14:32,710:INFO:testing f1p, feasible tptn pairs: 1\n",
      "2023-10-24 01:14:32,711:INFO:constructing final tp, tn pair set\n",
      "2023-10-24 01:14:32,713:INFO:final number of intervals: 1\n",
      "2023-10-24 01:14:32,715:INFO:final number of pairs: 1\n"
     ]
    },
    {
     "data": {
      "text/plain": [
       "{'inconsistency': False,\n",
       " 'details': [{'testing': 'acc',\n",
       "   'score_interval': (0.47179899999999997, 0.472001),\n",
       "   'n_tptn_pairs_before': 518,\n",
       "   'n_tptn_pairs_after': 518,\n",
       "   'decision': 'continue'},\n",
       "  {'testing': 'npv',\n",
       "   'score_interval': (0.625199, 0.625401),\n",
       "   'n_tptn_pairs_before': 518,\n",
       "   'n_tptn_pairs_after': 1,\n",
       "   'decision': 'continue'},\n",
       "  {'testing': 'f1p',\n",
       "   'score_interval': (0.30899899999999997, 0.309201),\n",
       "   'n_tptn_pairs_before': 1,\n",
       "   'n_tptn_pairs_after': 1,\n",
       "   'decision': 'continue'}],\n",
       " 'n_valid_tptn_pairs': 1,\n",
       " 'iterate_by': 'tp',\n",
       " 'solve_for': 'tn',\n",
       " 'evidence': (185, (554, 554))}"
      ]
     },
     "execution_count": 6,
     "metadata": {},
     "output_type": "execute_result"
    }
   ],
   "source": [
    "check_n_testsets_som_no_kfold_scores(testsets=testsets,\n",
    "                                        scores=scores,\n",
    "                                        eps=0.0001)"
   ]
  },
  {
   "cell_type": "code",
   "execution_count": 7,
   "metadata": {},
   "outputs": [],
   "source": [
    "scores['npv'] = 0.6263"
   ]
  },
  {
   "cell_type": "code",
   "execution_count": 8,
   "metadata": {},
   "outputs": [
    {
     "name": "stderr",
     "output_type": "stream",
     "text": [
      "2023-10-24 01:14:32,761:INFO:testing acc, feasible tptn pairs: 518\n",
      "2023-10-24 01:14:32,786:INFO:testing npv, feasible tptn pairs: 518\n",
      "2023-10-24 01:14:32,813:INFO:no more feasible tp,tn pairs left\n",
      "2023-10-24 01:14:32,815:INFO:constructing final tp, tn pair set\n",
      "2023-10-24 01:14:32,816:INFO:final number of intervals: 0\n",
      "2023-10-24 01:14:32,818:INFO:final number of pairs: 0\n"
     ]
    },
    {
     "data": {
      "text/plain": [
       "{'inconsistency': True,\n",
       " 'details': [{'testing': 'acc',\n",
       "   'score_interval': (0.47179899999999997, 0.472001),\n",
       "   'n_tptn_pairs_before': 518,\n",
       "   'n_tptn_pairs_after': 518,\n",
       "   'decision': 'continue'},\n",
       "  {'testing': 'npv',\n",
       "   'score_interval': (0.626199, 0.626401),\n",
       "   'n_tptn_pairs_before': 518,\n",
       "   'n_tptn_pairs_after': 0,\n",
       "   'decision': 'infeasible'}],\n",
       " 'n_valid_tptn_pairs': 0,\n",
       " 'iterate_by': 'tp',\n",
       " 'solve_for': 'tn',\n",
       " 'evidence': None}"
      ]
     },
     "execution_count": 8,
     "metadata": {},
     "output_type": "execute_result"
    }
   ],
   "source": [
    "check_n_testsets_som_no_kfold_scores(testsets=testsets,\n",
    "                                        scores=scores,\n",
    "                                        eps=0.0001)"
   ]
  },
  {
   "cell_type": "code",
   "execution_count": null,
   "metadata": {},
   "outputs": [],
   "source": []
  }
 ],
 "metadata": {
  "kernelspec": {
   "display_name": "mlscorecheck",
   "language": "python",
   "name": "python3"
  },
  "language_info": {
   "codemirror_mode": {
    "name": "ipython",
    "version": 3
   },
   "file_extension": ".py",
   "mimetype": "text/x-python",
   "name": "python",
   "nbconvert_exporter": "python",
   "pygments_lexer": "ipython3",
   "version": "3.10.0"
  }
 },
 "nbformat": 4,
 "nbformat_minor": 2
}
