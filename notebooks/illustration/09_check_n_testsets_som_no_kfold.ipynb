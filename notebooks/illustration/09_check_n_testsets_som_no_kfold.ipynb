{
 "cells": [
  {
   "cell_type": "code",
   "execution_count": 1,
   "metadata": {},
   "outputs": [],
   "source": [
    "from mlscorecheck.check import check_n_testsets_som_no_kfold_scores"
   ]
  },
  {
   "cell_type": "code",
   "execution_count": 2,
   "metadata": {},
   "outputs": [],
   "source": [
    "scores = {'acc': 0.4719, 'npv': 0.6253, 'f1p': 0.3091}\n",
    "testsets = [{'p': 405, 'n': 223}, {'p': 3, 'n': 422}, {'p': 109, 'n': 404}]"
   ]
  },
  {
   "cell_type": "code",
   "execution_count": 3,
   "metadata": {},
   "outputs": [
    {
     "name": "stderr",
     "output_type": "stream",
     "text": [
      "2023-10-26 23:41:34,660:INFO:checking the scores {'acc': 0.4719, 'npv': 0.6253, 'f1p': 0.3091}\n",
      "2023-10-26 23:41:34,661:INFO:evaluating the tp and tn solution for acc and npv\n",
      "2023-10-26 23:41:34,662:INFO:intervals before: (0, 517), (0, 1049)\n",
      "2023-10-26 23:41:34,663:INFO:the tp solutions: (183.3735345619046, 186.76921301883434)\n",
      "2023-10-26 23:41:34,664:INFO:the tn solutions: (552.9864593956394, 554.8661474746565)\n",
      "2023-10-26 23:41:34,666:INFO:intervals after: [(184, 186)], [(553, 554)]\n",
      "2023-10-26 23:41:34,667:INFO:evaluating the tp and tn solution for acc and f1p\n",
      "2023-10-26 23:41:34,669:INFO:intervals before: [(184, 186)], [(553, 554)]\n",
      "2023-10-26 23:41:34,669:INFO:the tp solutions: (184.87168671166216, 185.11986556349612)\n",
      "2023-10-26 23:41:34,670:INFO:the tn solutions: (553.4808574181667, 554.5185801488539)\n",
      "2023-10-26 23:41:34,671:INFO:intervals after: [(185, 185)], [(554, 554)]\n",
      "2023-10-26 23:41:34,672:INFO:evaluating the tp and tn solution for npv and f1p\n",
      "2023-10-26 23:41:34,673:INFO:intervals before: [(185, 185)], [(554, 554)]\n",
      "2023-10-26 23:41:34,674:INFO:the tp solutions: (184.64422257239337, 185.32173809718321)\n",
      "2023-10-26 23:41:34,675:INFO:the tn solutions: (553.2944463587239, 554.8488214174102)\n",
      "2023-10-26 23:41:34,676:INFO:intervals after: [(185, 185)], [(554, 554)]\n",
      "2023-10-26 23:41:34,676:INFO:testing acc, feasible tptn pairs: 1\n",
      "2023-10-26 23:41:34,677:INFO:testing npv, feasible tptn pairs: 1\n",
      "2023-10-26 23:41:34,678:INFO:testing f1p, feasible tptn pairs: 1\n",
      "2023-10-26 23:41:34,681:INFO:constructing final tp, tn pair set\n",
      "2023-10-26 23:41:34,682:INFO:final number of intervals: 1\n",
      "2023-10-26 23:41:34,684:INFO:final number of pairs: 1\n"
     ]
    },
    {
     "data": {
      "text/plain": [
       "{'inconsistency': False,\n",
       " 'details': [{'testing': 'acc',\n",
       "   'score_interval': (0.47179899999999997, 0.472001),\n",
       "   'n_tptn_pairs_before': 1,\n",
       "   'n_tptn_pairs_after': 1,\n",
       "   'decision': 'continue'},\n",
       "  {'testing': 'npv',\n",
       "   'score_interval': (0.625199, 0.625401),\n",
       "   'n_tptn_pairs_before': 1,\n",
       "   'n_tptn_pairs_after': 1,\n",
       "   'decision': 'continue'},\n",
       "  {'testing': 'f1p',\n",
       "   'score_interval': (0.30899899999999997, 0.309201),\n",
       "   'n_tptn_pairs_before': 1,\n",
       "   'n_tptn_pairs_after': 1,\n",
       "   'decision': 'continue'}],\n",
       " 'n_valid_tptn_pairs': 1,\n",
       " 'iterate_by': 'tp',\n",
       " 'solve_for': 'tn',\n",
       " 'evidence': (185, [(554, 554)]),\n",
       " 'prefiltering_details': {'inconsistency': False,\n",
       "  'tp': [(185, 185)],\n",
       "  'tn': [(554, 554)],\n",
       "  'details': [{'base_score_0': 'acc',\n",
       "    'base_score_1': 'npv',\n",
       "    'base_score_0_interval': (0.471798, 0.472002),\n",
       "    'base_score_1_interval': (0.6251979999999999, 0.625402),\n",
       "    'tp_after': [(184, 186)],\n",
       "    'tn_after': [(553, 554)],\n",
       "    'inconsistency': False},\n",
       "   {'base_score_0': 'acc',\n",
       "    'base_score_1': 'f1p',\n",
       "    'base_score_0_interval': (0.471798, 0.472002),\n",
       "    'base_score_1_interval': (0.308998, 0.309202),\n",
       "    'tp_after': [(185, 185)],\n",
       "    'tn_after': [(554, 554)],\n",
       "    'inconsistency': False},\n",
       "   {'base_score_0': 'npv',\n",
       "    'base_score_1': 'f1p',\n",
       "    'base_score_0_interval': (0.6251979999999999, 0.625402),\n",
       "    'base_score_1_interval': (0.308998, 0.309202),\n",
       "    'tp_after': [(185, 185)],\n",
       "    'tn_after': [(554, 554)],\n",
       "    'inconsistency': False}]}}"
      ]
     },
     "execution_count": 3,
     "metadata": {},
     "output_type": "execute_result"
    }
   ],
   "source": [
    "check_n_testsets_som_no_kfold_scores(testsets=testsets,\n",
    "                                        scores=scores,\n",
    "                                        eps=0.0001)"
   ]
  },
  {
   "cell_type": "code",
   "execution_count": 4,
   "metadata": {},
   "outputs": [],
   "source": [
    "scores['npv'] = 0.6263"
   ]
  },
  {
   "cell_type": "code",
   "execution_count": 5,
   "metadata": {},
   "outputs": [
    {
     "name": "stderr",
     "output_type": "stream",
     "text": [
      "2023-10-26 23:41:34,746:INFO:checking the scores {'acc': 0.4719, 'npv': 0.6263, 'f1p': 0.3091}\n",
      "2023-10-26 23:41:34,748:INFO:evaluating the tp and tn solution for acc and npv\n",
      "2023-10-26 23:41:34,750:INFO:intervals before: (0, 517), (0, 1049)\n",
      "2023-10-26 23:41:34,751:INFO:the tp solutions: (186.89044330890292, 190.26616505437528)\n",
      "2023-10-26 23:41:34,752:INFO:the tn solutions: (549.4891363675572, 551.3495419700156)\n",
      "2023-10-26 23:41:34,753:INFO:intervals after: [(187, 190)], [(550, 551)]\n",
      "2023-10-26 23:41:34,754:INFO:evaluating the tp and tn solution for acc and f1p\n",
      "2023-10-26 23:41:34,755:INFO:intervals before: [(187, 190)], [(550, 551)]\n",
      "2023-10-26 23:41:34,756:INFO:the tp solutions: (184.87168671166216, 185.11986556349612)\n",
      "2023-10-26 23:41:34,758:INFO:the tn solutions: (553.4808574181667, 554.5185801488539)\n",
      "2023-10-26 23:41:34,760:INFO:intervals after: [], []\n",
      "2023-10-26 23:41:34,761:INFO:evaluating the tp and tn solution for npv and f1p\n",
      "2023-10-26 23:41:34,763:INFO:intervals before: [], []\n",
      "2023-10-26 23:41:34,764:INFO:the tp solutions: (184.01870812695688, 184.69747317618967)\n",
      "2023-10-26 23:41:34,766:INFO:the tn solutions: (556.7064405556058, 558.2736510014568)\n",
      "2023-10-26 23:41:34,766:INFO:intervals after: [], []\n",
      "2023-10-26 23:41:34,768:INFO:testing acc, feasible tptn pairs: 0\n",
      "2023-10-26 23:41:34,769:INFO:no more feasible tp,tn pairs left\n",
      "2023-10-26 23:41:34,770:INFO:constructing final tp, tn pair set\n",
      "2023-10-26 23:41:34,771:INFO:final number of intervals: 0\n",
      "2023-10-26 23:41:34,771:INFO:final number of pairs: 0\n"
     ]
    },
    {
     "data": {
      "text/plain": [
       "{'inconsistency': True,\n",
       " 'details': [{'testing': 'acc',\n",
       "   'score_interval': (0.47179899999999997, 0.472001),\n",
       "   'n_tptn_pairs_before': 0,\n",
       "   'n_tptn_pairs_after': 0,\n",
       "   'decision': 'infeasible'}],\n",
       " 'n_valid_tptn_pairs': 0,\n",
       " 'iterate_by': 'tp',\n",
       " 'solve_for': 'tn',\n",
       " 'evidence': None,\n",
       " 'prefiltering_details': {'inconsistency': True,\n",
       "  'tp': [],\n",
       "  'tn': [],\n",
       "  'details': [{'base_score_0': 'acc',\n",
       "    'base_score_1': 'npv',\n",
       "    'base_score_0_interval': (0.471798, 0.472002),\n",
       "    'base_score_1_interval': (0.6261979999999999, 0.626402),\n",
       "    'tp_after': [(187, 190)],\n",
       "    'tn_after': [(550, 551)],\n",
       "    'inconsistency': False},\n",
       "   {'base_score_0': 'acc',\n",
       "    'base_score_1': 'f1p',\n",
       "    'base_score_0_interval': (0.471798, 0.472002),\n",
       "    'base_score_1_interval': (0.308998, 0.309202),\n",
       "    'tp_after': [],\n",
       "    'tn_after': [],\n",
       "    'inconsistency': True},\n",
       "   {'base_score_0': 'npv',\n",
       "    'base_score_1': 'f1p',\n",
       "    'base_score_0_interval': (0.6261979999999999, 0.626402),\n",
       "    'base_score_1_interval': (0.308998, 0.309202),\n",
       "    'tp_after': [],\n",
       "    'tn_after': [],\n",
       "    'inconsistency': True}]}}"
      ]
     },
     "execution_count": 5,
     "metadata": {},
     "output_type": "execute_result"
    }
   ],
   "source": [
    "check_n_testsets_som_no_kfold_scores(testsets=testsets,\n",
    "                                        scores=scores,\n",
    "                                        eps=0.0001)"
   ]
  },
  {
   "cell_type": "code",
   "execution_count": null,
   "metadata": {},
   "outputs": [],
   "source": []
  }
 ],
 "metadata": {
  "kernelspec": {
   "display_name": "mlscorecheck",
   "language": "python",
   "name": "python3"
  },
  "language_info": {
   "codemirror_mode": {
    "name": "ipython",
    "version": 3
   },
   "file_extension": ".py",
   "mimetype": "text/x-python",
   "name": "python",
   "nbconvert_exporter": "python",
   "pygments_lexer": "ipython3",
   "version": "3.10.0"
  }
 },
 "nbformat": 4,
 "nbformat_minor": 2
}
