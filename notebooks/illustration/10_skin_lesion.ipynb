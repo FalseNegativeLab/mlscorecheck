{
 "cells": [
  {
   "cell_type": "code",
   "execution_count": 1,
   "metadata": {},
   "outputs": [],
   "source": [
    "import pandas as pd\n",
    "import numpy as np\n",
    "import logging\n",
    "from mlscorecheck.check import check_1_testset_no_kfold_scores\n",
    "\n",
    "logging.getLogger('mlscorecheck').setLevel(logging.ERROR)"
   ]
  },
  {
   "cell_type": "code",
   "execution_count": 2,
   "metadata": {},
   "outputs": [],
   "source": [
    "# the results are collected in this list\n",
    "\n",
    "results = []"
   ]
  },
  {
   "cell_type": "code",
   "execution_count": 3,
   "metadata": {},
   "outputs": [],
   "source": [
    "# the datasets appearing in the papers\n",
    "\n",
    "isic2016 = {'p': 75, 'n': 304}\n",
    "isic2017m = {'p': 117, 'n': 393 + 90}\n",
    "isic2017sk = {'p': 90, 'n': 393 + 117}"
   ]
  },
  {
   "cell_type": "code",
   "execution_count": 4,
   "metadata": {},
   "outputs": [],
   "source": [
    "def evaluate(scores, testset, eps, verbose=True):\n",
    "    \"\"\"\n",
    "    Evaluates all scores in a paper\n",
    "\n",
    "    Args:\n",
    "        scores (pd.DataFrame): the dataframe of scores\n",
    "        testset (dict): specification of the testset\n",
    "        eps (float): the numerical uncertainty\n",
    "\n",
    "    Returns:\n",
    "        int: the number of inconsistent score configurations\n",
    "    \"\"\"\n",
    "    n_inconsistent = 0\n",
    "    for idx, row in scores.iterrows():\n",
    "        res = check_1_testset_no_kfold_scores(testset=testset,\n",
    "                                                scores=row,\n",
    "                                                eps=eps)\n",
    "\n",
    "        if res['inconsistency']:\n",
    "            n_inconsistent += 1\n",
    "            if verbose:\n",
    "                print('inconsistency:', idx, row.to_dict(), testset, eps)\n",
    "    return n_inconsistent"
   ]
  },
  {
   "cell_type": "markdown",
   "metadata": {},
   "source": [
    "# Title: Automated melanoma recognition in dermoscopy images via very deep residual networks \n",
    "\n",
    "doi: 10.1109/TMI.2016.2642839"
   ]
  },
  {
   "cell_type": "code",
   "execution_count": 5,
   "metadata": {},
   "outputs": [],
   "source": [
    "df_table_iv = pd.DataFrame({'acc': [0.855, 0.813, 0.834, 0.786, 0.844, 0.821, 0.815, 0.681, 0.731, 0.599],\n",
    "                            'sens': [0.507, 0.573, 0.32 , 0.667, 0.24 , 0.2  , 0.467, 0.787, 0.773, 0.853],\n",
    "                            'spec': [0.941, 0.872, 0.961, 0.816, 0.993, 0.974, 0.901, 0.655, 0.72, 0.536]})\n",
    "\n",
    "df_table_v = pd.DataFrame({'acc': [0.828, 0.855],\n",
    "                            'sens': [0.427, 0.547],\n",
    "                            'spec': [0.927, 0.931]})\n",
    "\n",
    "df_table_vi = pd.DataFrame({'acc': [0.826, 0.847, 0.855],\n",
    "                            'sens': [0.413, 0.507, 0.547],\n",
    "                            'spec': [0.928, 0.931, 0.931]})\n",
    "\n",
    "df_table_vii = pd.DataFrame({'acc': [0.850, 0.844, 0.855],\n",
    "                                'sens': [0.507, 0.520, 0.547],\n",
    "                                'spec': [0.934, 0.824, 0.931]})"
   ]
  },
  {
   "cell_type": "code",
   "execution_count": 6,
   "metadata": {},
   "outputs": [
    {
     "name": "stdout",
     "output_type": "stream",
     "text": [
      "inconsistency: 1 {'acc': 0.844, 'sens': 0.52, 'spec': 0.824} {'p': 75, 'n': 304} 0.001\n",
      "n_inconsistent: 1\n"
     ]
    }
   ],
   "source": [
    "n_inconsistent = evaluate(df_table_iv, isic2016, 1e-3)\\\n",
    "                    + evaluate(df_table_v, isic2016, 1e-3)\\\n",
    "                    + evaluate(df_table_vi, isic2016, 1e-3)\\\n",
    "                    + evaluate(df_table_vii, isic2016, 1e-3)\n",
    "\n",
    "print('n_inconsistent:', n_inconsistent)"
   ]
  },
  {
   "cell_type": "code",
   "execution_count": 7,
   "metadata": {},
   "outputs": [],
   "source": [
    "results.append({'key': 'skin0',\n",
    "                'citations': 991,\n",
    "                'dataset': 'isic2016',\n",
    "                'uncertainty': 3,\n",
    "                'scores': ['acc', 'sens', 'spec'],\n",
    "                'suitable': 'y',\n",
    "                'n_scores': len(df_table_iv) + len(df_table_v) + len(df_table_vi) + len(df_table_vii),\n",
    "                'n_inconsistent': n_inconsistent,\n",
    "                'remark': None,\n",
    "                'conclusion': 'Potentially typos present.',\n",
    "                'survey': 'Only the accuracy score of segmentation is reported.',\n",
    "                'survey_ref': 155,\n",
    "                'year': 2017})"
   ]
  },
  {
   "cell_type": "markdown",
   "metadata": {},
   "source": [
    "# Title: Automatic Skin Lesion Segmentation Using Deep Fully Convolutional Networks with Jaccard Distance\n",
    "\n",
    "doi: 10.1109/TMI.2017.2695227"
   ]
  },
  {
   "cell_type": "code",
   "execution_count": 8,
   "metadata": {},
   "outputs": [],
   "source": [
    "results.append({'key': 'skin1',\n",
    "                'citations': 603,\n",
    "                'dataset': 'isic2016',\n",
    "                'uncertainty': '-',\n",
    "                'scores': ['-'],\n",
    "                'suitable': 'n',\n",
    "                'n_scores': '-',\n",
    "                'n_inconsistent': '-',\n",
    "                'remark': 'The paper is about image segmentation performance.',\n",
    "                'conclusion': None,\n",
    "                'survey': 'Reports segmentation scores',\n",
    "                'survey_ref': 158,\n",
    "                'year': 2017})"
   ]
  },
  {
   "cell_type": "markdown",
   "metadata": {},
   "source": [
    "# Title: Deep learning ensembles for melanoma recognition in dermoscopy images\n",
    "\n",
    "doi:  10.1147/JRD.2017.2708299"
   ]
  },
  {
   "cell_type": "code",
   "execution_count": 9,
   "metadata": {},
   "outputs": [],
   "source": [
    "df0 = pd.DataFrame({'acc': [0.755, 0.81, 0.781, 0.834, 0.834, 0.807, 0.805, 0.855, 0.855, 0.836, 0.77, 0.726, 0.752],\n",
    "                    'sens': [0.627, 0.72, 0.707, 0.533, 0.52, 0.693, 0.693, 0.547, 0.507, 0.253, 0.72, 0.693, 0.64],\n",
    "                    'spec': [0.796, 0.832, 0.799, 0.9079, 0.9112, 0.836, 0.832, 0.931, 0.941, 0.98, 0.723, 0.734, 0.78]})"
   ]
  },
  {
   "cell_type": "code",
   "execution_count": 10,
   "metadata": {},
   "outputs": [],
   "source": [
    "df1 = pd.DataFrame({'acc': [0.789, 0.734, 0.694, 0.702, 0.655, 0.694, 0.776, 0.723, 0.678, 0.699, 0.726, 0.686, 0.694, 0.702],\n",
    "                    'sens': [0.213, 0.707, 0.707, 0.64, 0.4, 0.6, 0.267, 0.693, 0.627, 0.6, 0.507, 0.48, 0.587, 0.573],\n",
    "                    'spec': [0.9309, 0.74, 0.691, 0.717, 0.73, 0.717, 0.9013, 0.73, 0.691, 0.724, 0.78, 0.737, 0.72, 0.734]})"
   ]
  },
  {
   "cell_type": "code",
   "execution_count": 11,
   "metadata": {},
   "outputs": [
    {
     "name": "stdout",
     "output_type": "stream",
     "text": [
      "inconsistency: 0 {'acc': 0.755, 'sens': 0.627, 'spec': 0.796} {'p': 75, 'n': 304} 0.001\n",
      "inconsistency: 10 {'acc': 0.77, 'sens': 0.72, 'spec': 0.723} {'p': 75, 'n': 304} 0.001\n",
      "inconsistency: 4 {'acc': 0.655, 'sens': 0.4, 'spec': 0.73} {'p': 75, 'n': 304} 0.001\n",
      "n_inconsistent: 3\n"
     ]
    }
   ],
   "source": [
    "n_inconsistent = evaluate(df0, isic2016, 1e-3) + evaluate(df1, isic2016, 1e-3)\n",
    "\n",
    "print('n_inconsistent:', n_inconsistent)"
   ]
  },
  {
   "cell_type": "code",
   "execution_count": 12,
   "metadata": {},
   "outputs": [],
   "source": [
    "results.append({'key': 'skin2',\n",
    "                'citations': 574,\n",
    "                'dataset': 'isic2016',\n",
    "                'uncertainty': 3,\n",
    "                'scores': ['acc', 'sens', 'spec'],\n",
    "                'suitable': 'y',\n",
    "                'n_scores': len(df0) + len(df1),\n",
    "                'n_inconsistent': n_inconsistent,\n",
    "                'remark': None,\n",
    "                'conclusion': 'Potentially typos present.',\n",
    "                'survey': 'Results for the evaluation of 100 images (50-50).',\n",
    "                'survey_ref': 156,\n",
    "                'year': 2017})"
   ]
  },
  {
   "cell_type": "markdown",
   "metadata": {},
   "source": [
    "# Title: Attention Residual Learning for Skin Lesion Classification\n",
    "\n",
    "doi: 10.1109/TMI.2019.2893944"
   ]
  },
  {
   "cell_type": "code",
   "execution_count": 13,
   "metadata": {},
   "outputs": [],
   "source": [
    "scores_m = pd.DataFrame({'acc': [0.748, 0.762, 0.757, 0.778, 0.838, 0.850, 0.848, 0.850],\n",
    "                            'sens': [0.538, 0.615, 0.598, 0.615, 0.632, 0.624, 0.624, 0.658],\n",
    "                            'spec': [0.799, 0.797, 0.795, 0.818, 0.888, 0.906, 0.903, 0.896]})\n",
    "scores_sk = pd.DataFrame({'acc': [0.711, 0.758, 0.727, 0.763, 0.842, 0.862, 0.863, 0.868],\n",
    "                            'sens': [0.8, 0.833, 0.811, 0.822, 0.867, 0.878, 0.856, 0.878],\n",
    "                            'spec': [0.696, 0.745, 0.712, 0.753, 0.837, 0.859, 0.865, 0.867]})\n",
    "scores_m_comp = pd.DataFrame({'acc': [0.850, 0.828, 0.823, 0.872, 0.858, 0.845, 0.837, 0.830],\n",
    "                                'sens': [0.658, 0.735, 0.103, 0.547, 0.427, 0.350, 0.590, 0.436],\n",
    "                                'spec': [0.896, 0.851, 0.998, 0.950, 0.963, 0.965, 0.896, 0.925]})\n",
    "scores_sk_comp = pd.DataFrame({'acc': [0.868, 0.803, 0.875, 0.895, 0.918, 0.913, 0.908, 0.917],\n",
    "                                'sens': [0.878, 0.978, 0.178, 0.356, 0.589, 0.556, 0.778, 0.7],\n",
    "                                'spec': [0.867, 0.773, 0.998, 0.99, 0.976, 0.976, 0.931, 0.995]})"
   ]
  },
  {
   "cell_type": "code",
   "execution_count": 14,
   "metadata": {},
   "outputs": [
    {
     "name": "stdout",
     "output_type": "stream",
     "text": [
      "inconsistency: 5 {'acc': 0.85, 'sens': 0.624, 'spec': 0.906} {'p': 117, 'n': 483} 0.001\n",
      "inconsistency: 7 {'acc': 0.917, 'sens': 0.7, 'spec': 0.995} {'p': 90, 'n': 510} 0.001\n",
      "n_inconsistent: 2\n"
     ]
    }
   ],
   "source": [
    "n_inconsistent = evaluate(scores_m, isic2017m, 1e-3)\\\n",
    "                + evaluate(scores_sk, isic2017sk, 1e-3)\\\n",
    "                + evaluate(scores_m_comp, isic2017m, 1e-3)\\\n",
    "                + evaluate(scores_sk_comp, isic2017sk, 1e-3)\n",
    "\n",
    "print('n_inconsistent:', n_inconsistent)"
   ]
  },
  {
   "cell_type": "code",
   "execution_count": 15,
   "metadata": {},
   "outputs": [],
   "source": [
    "results.append({'key': 'skin3',\n",
    "                'citations': 389,\n",
    "                'dataset': 'isic2017 m/sk',\n",
    "                'uncertainty': 3,\n",
    "                'scores': ['acc', 'sens', 'spec'],\n",
    "                'suitable': 'y',\n",
    "                'n_scores': len(scores_m) + len(scores_sk) + len(scores_m_comp) + len(scores_sk_comp),\n",
    "                'n_inconsistent': n_inconsistent,\n",
    "                'remark': None,\n",
    "                'conclusion': 'Potentially typos present.',\n",
    "                'survey': 'No scores in the survey',\n",
    "                'survey_ref': 169,\n",
    "                'year': 2019})"
   ]
  },
  {
   "cell_type": "markdown",
   "metadata": {},
   "source": [
    "# Title: Deep learning outperformed 136 of 157 dermatologists in a head-to-head dermoscopic melanoma image classification task\n",
    "\n",
    "doi : 10.1016/j.ejca.2019.04.001"
   ]
  },
  {
   "cell_type": "code",
   "execution_count": 16,
   "metadata": {},
   "outputs": [],
   "source": [
    "results.append({'key': 'skin4',\n",
    "                'citations': 389,\n",
    "                'dataset': 'isic2016 (custom selection)',\n",
    "                'uncertainty': '-',\n",
    "                'scores': ['-'],\n",
    "                'suitable': 'n',\n",
    "                'n_scores': '-',\n",
    "                'n_inconsistent': '-',\n",
    "                'remark': 'Not enough details shared.',\n",
    "                'conclusion': None,\n",
    "                'survey': None,\n",
    "                'survey_ref': 178,\n",
    "                'year': 2019})"
   ]
  },
  {
   "cell_type": "markdown",
   "metadata": {},
   "source": [
    "# Title: Seven-Point Checklist and Skin Lesion Classification Using Multitask Multimodal Neural Nets\n",
    "\n",
    "doi: 10.1109/JBHI.2018.2824327"
   ]
  },
  {
   "cell_type": "code",
   "execution_count": 17,
   "metadata": {},
   "outputs": [],
   "source": [
    "# the BWV classification is a binary classification problem"
   ]
  },
  {
   "cell_type": "code",
   "execution_count": 18,
   "metadata": {},
   "outputs": [],
   "source": [
    "scores_bwv_prs = pd.DataFrame({'sens': [0.493, 0.653, 0.773, 0.653],\n",
    "                                'spec': [0.966, 0.925, 0.894, 0.919],\n",
    "                                'ppv': [0.771, 0.671, 0.63, 0.653]})\n",
    "scores_bwv_abs = pd.DataFrame({'sens': [0.966, 0.925, 0.894, 0.919],\n",
    "                                'spec': [0.493, 0.653, 0.773, 0.653],\n",
    "                                'ppv': [0.89, 0.919, 0.944, 0.919]})\n",
    "\n",
    "scores_mel = pd.DataFrame({'sens': [0.901, 0.475, 0.96, 0.693, 0.96, 0.693, 0.941, 0.733],\n",
    "                            'spec': [0.401, 0.874, 0.33, 0.789, 0.361, 0.776, 0.361, 0.786],\n",
    "                            'ppv': [0.341, 0.565, 0.33, 0.53, 0.34, 0.515, 0.336, 0.54]})"
   ]
  },
  {
   "cell_type": "code",
   "execution_count": 19,
   "metadata": {},
   "outputs": [],
   "source": [
    "testset_bwv = {'n': int(np.ceil(395/1011 * 816))}\n",
    "testset_bwv['p'] = 395 - testset_bwv['n']"
   ]
  },
  {
   "cell_type": "code",
   "execution_count": 20,
   "metadata": {},
   "outputs": [
    {
     "data": {
      "text/plain": [
       "{'n': 319, 'p': 76}"
      ]
     },
     "execution_count": 20,
     "metadata": {},
     "output_type": "execute_result"
    }
   ],
   "source": [
    "testset_bwv"
   ]
  },
  {
   "cell_type": "code",
   "execution_count": 21,
   "metadata": {},
   "outputs": [
    {
     "name": "stdout",
     "output_type": "stream",
     "text": [
      "75 320\n"
     ]
    }
   ],
   "source": [
    "# The paper states that the testset consists of 395 images and has similar statistics as the entire dataset\n",
    "# A-priori, the test set should contain p = 76 positive and n = 319 negative samples\n",
    "# As there are multiple factors that need to be distributed in the test set equally, the characteristics of the test set could slightly deviate from this.\n",
    "# We check this configuration and some very similar ones in the hope that only one of them will be compatible with the scores\n",
    "\n",
    "for p in range(testset_bwv['p']-20, testset_bwv['p']+20):\n",
    "    n = 395 - p\n",
    "    tmp = check_1_testset_no_kfold_scores(testset={'p': p, 'n': n},\n",
    "                                    scores=scores_bwv_prs.iloc[0],\n",
    "                                    eps=1e-3)\n",
    "    if not tmp['inconsistency']:\n",
    "        print(p, n)"
   ]
  },
  {
   "cell_type": "code",
   "execution_count": 22,
   "metadata": {},
   "outputs": [],
   "source": [
    "# The statistics for the presence and absense of the BWV in the testset is found."
   ]
  },
  {
   "cell_type": "code",
   "execution_count": 23,
   "metadata": {},
   "outputs": [],
   "source": [
    "testset_bwv_prs = {'p': 75, 'n': 320}\n",
    "testset_bwv_abs = {'p': 320, 'n': 75}"
   ]
  },
  {
   "cell_type": "code",
   "execution_count": 24,
   "metadata": {},
   "outputs": [
    {
     "name": "stdout",
     "output_type": "stream",
     "text": [
      "n_inconsistent: 0\n"
     ]
    }
   ],
   "source": [
    "n_inconsistent = evaluate(scores_bwv_prs, testset_bwv_prs, 1e-3) + evaluate(scores_bwv_abs, testset_bwv_abs, 1e-3)\n",
    "\n",
    "print('n_inconsistent:', n_inconsistent)"
   ]
  },
  {
   "cell_type": "code",
   "execution_count": 25,
   "metadata": {},
   "outputs": [],
   "source": [
    "# Similarly to the case of BWV, now the number of melanoma samples in the testset is determined.\n",
    "\n",
    "testset_mel = {'p': int(np.ceil((1 + 64 + 102 + 53 + 28 + 4)*395/1011))}\n",
    "testset_mel['n'] = 395 - testset_mel['p']"
   ]
  },
  {
   "cell_type": "code",
   "execution_count": 26,
   "metadata": {},
   "outputs": [
    {
     "data": {
      "text/plain": [
       "{'p': 99, 'n': 296}"
      ]
     },
     "execution_count": 26,
     "metadata": {},
     "output_type": "execute_result"
    }
   ],
   "source": [
    "testset_mel"
   ]
  },
  {
   "cell_type": "code",
   "execution_count": 27,
   "metadata": {},
   "outputs": [
    {
     "name": "stdout",
     "output_type": "stream",
     "text": [
      "101 294\n"
     ]
    }
   ],
   "source": [
    "for p in range(testset_mel['p']-20, testset_mel['p']+20):\n",
    "    n = 395 - p\n",
    "    tmp = check_1_testset_no_kfold_scores(testset={'p': p, 'n': n},\n",
    "                                    scores=scores_mel.iloc[0],\n",
    "                                    eps=1e-3)\n",
    "    if not tmp['inconsistency']:\n",
    "        print(p, n)"
   ]
  },
  {
   "cell_type": "code",
   "execution_count": 28,
   "metadata": {},
   "outputs": [],
   "source": [
    "testset_mel = {'p': 101, 'n': 294}"
   ]
  },
  {
   "cell_type": "code",
   "execution_count": 29,
   "metadata": {},
   "outputs": [
    {
     "name": "stdout",
     "output_type": "stream",
     "text": [
      "n_inconsistent: 0\n"
     ]
    }
   ],
   "source": [
    "n_inconsistent += evaluate(scores_mel, testset_mel, 1e-3)\n",
    "\n",
    "print('n_inconsistent:', n_inconsistent)"
   ]
  },
  {
   "cell_type": "code",
   "execution_count": 30,
   "metadata": {},
   "outputs": [],
   "source": [
    "results.append({'key': 'skin5',\n",
    "                'citations': 322,\n",
    "                'dataset': \"Argenziano's \\cite{argenziano}\",\n",
    "                'uncertainty': 3,\n",
    "                'scores': ['ppv', 'sens', 'spec'],\n",
    "                'suitable': 'y',\n",
    "                'n_scores': len(scores_bwv_abs) + len(scores_bwv_prs) + len(scores_mel),\n",
    "                'n_inconsistent': n_inconsistent,\n",
    "                'remark': None,\n",
    "                'conclusion': 'No inconsistency identified.',\n",
    "                'survey': 'Reports the BWV results instead of the diagnosis results',\n",
    "                'survey_ref': 172,\n",
    "                'year': 2019})"
   ]
  },
  {
   "cell_type": "markdown",
   "metadata": {},
   "source": [
    "# Title: The skin cancer classification using deep convolutional neural network\n",
    "\n",
    "doi: 10.1007/s11042-018-5714-1"
   ]
  },
  {
   "cell_type": "code",
   "execution_count": 31,
   "metadata": {},
   "outputs": [],
   "source": [
    "results.append({'key': 'skin6',\n",
    "                'citations': 313,\n",
    "                'dataset': 'custom',\n",
    "                'uncertainty': '-',\n",
    "                'scores': ['-'],\n",
    "                'suitable': 'n',\n",
    "                'n_scores': '-',\n",
    "                'n_inconsistent': '-',\n",
    "                'remark': 'Not enough details shared.',\n",
    "                'conclusion': None,\n",
    "                'survey': None,\n",
    "                'survey_ref': 174,\n",
    "                'year': 2018})"
   ]
  },
  {
   "cell_type": "markdown",
   "metadata": {},
   "source": [
    "# Title: Skin lesion classification with ensembles of deep convolutional neural networks\n",
    "\n",
    "doi: 10.1016/j.jbi.2018.08.006"
   ]
  },
  {
   "cell_type": "code",
   "execution_count": 32,
   "metadata": {},
   "outputs": [],
   "source": [
    "scores = [['method', 'AVG_ACC', 'M_ACC', 'SK_ACC', 'AVG_AUC', 'M_AUC', 'SK_AUC', 'AVG_SE', 'M_SE', 'SK_SE', 'AVG_SP', 'M_SP', 'SK_SP'],\n",
    "['GoogLeNet',    0.842, 0.818, 0.865, 0.848, 0.794, 0.902, 0.592, 0.496, 0.689, 0.722, 0.613, 0.831],\n",
    "['AlexNet',      0.848, 0.823, 0.872, 0.830, 0.802, 0.859, 0.518, 0.470, 0.567, 0.645, 0.561, 0.728],\n",
    "['ResNet',       0.828, 0.822, 0.833, 0.809, 0.757, 0.861, 0.520, 0.385, 0.656, 0.598, 0.437, 0.759],\n",
    "['VGGNet',       0.813, 0.802, 0.825, 0.808, 0.766, 0.849, 0.434, 0.256, 0.611, 0.636, 0.585, 0.686],\n",
    "['SP',           0.867, 0.845, 0.888, 0.875, 0.832, 0.918, 0.516, 0.376, 0.656, 0.746, 0.654, 0.838],\n",
    "['PP',           0.861, 0.845, 0.877, 0.875, 0.836, 0.913, 0.524, 0.393, 0.656, 0.738, 0.650, 0.826],\n",
    "['SMV',          0.903, 0.875, 0.930, 0.839, 0.789, 0.888, 0.632, 0.487, 0.778, 0.822, 0.766, 0.878],\n",
    "['SMP',          0.868, 0.848, 0.887, 0.884, 0.843, 0.925, 0.551, 0.402, 0.700, 0.763, 0.689, 0.836],\n",
    "['ω(1)SMP',      0.869, 0.850, 0.888, 0.886, 0.844, 0.928, 0.580, 0.427, 0.733, 0.772, 0.689, 0.855],\n",
    "['ω(2)SMP',      0.866, 0.852, 0.880, 0.891, 0.851, 0.930, 0.556, 0.402, 0.711, 0.785, 0.719, 0.851]]"
   ]
  },
  {
   "cell_type": "code",
   "execution_count": 33,
   "metadata": {},
   "outputs": [],
   "source": [
    "scores = pd.DataFrame(scores)\n",
    "scores.columns = scores.iloc[0]\n",
    "scores.index = scores['method']\n",
    "scores = scores.drop('method', axis='rows').drop('method', axis='columns')"
   ]
  },
  {
   "cell_type": "code",
   "execution_count": 34,
   "metadata": {},
   "outputs": [],
   "source": [
    "isic2017m_reduced = {'p': 117, 'n': 393}\n",
    "isic2017sk_reduced = {'p': 90, 'n': 393}"
   ]
  },
  {
   "cell_type": "code",
   "execution_count": 35,
   "metadata": {},
   "outputs": [
    {
     "name": "stdout",
     "output_type": "stream",
     "text": [
      "inconsistency: GoogLeNet {'acc': 0.818, 'sens': 0.496, 'spec': 0.613} {'p': 117, 'n': 483} 0.001\n",
      "inconsistency: AlexNet {'acc': 0.823, 'sens': 0.47, 'spec': 0.561} {'p': 117, 'n': 483} 0.001\n",
      "inconsistency: ResNet {'acc': 0.822, 'sens': 0.385, 'spec': 0.437} {'p': 117, 'n': 483} 0.001\n",
      "inconsistency: VGGNet {'acc': 0.802, 'sens': 0.256, 'spec': 0.585} {'p': 117, 'n': 483} 0.001\n",
      "inconsistency: SP {'acc': 0.845, 'sens': 0.376, 'spec': 0.654} {'p': 117, 'n': 483} 0.001\n",
      "inconsistency: PP {'acc': 0.845, 'sens': 0.393, 'spec': 0.65} {'p': 117, 'n': 483} 0.001\n",
      "inconsistency: SMV {'acc': 0.875, 'sens': 0.487, 'spec': 0.766} {'p': 117, 'n': 483} 0.001\n",
      "inconsistency: SMP {'acc': 0.848, 'sens': 0.402, 'spec': 0.689} {'p': 117, 'n': 483} 0.001\n",
      "inconsistency: ω(1)SMP {'acc': 0.85, 'sens': 0.427, 'spec': 0.689} {'p': 117, 'n': 483} 0.001\n",
      "inconsistency: ω(2)SMP {'acc': 0.852, 'sens': 0.402, 'spec': 0.719} {'p': 117, 'n': 483} 0.001\n",
      "inconsistency: GoogLeNet {'acc': 0.865, 'sens': 0.689, 'spec': 0.831} {'p': 90, 'n': 510} 0.001\n",
      "inconsistency: AlexNet {'acc': 0.872, 'sens': 0.567, 'spec': 0.728} {'p': 90, 'n': 510} 0.001\n",
      "inconsistency: ResNet {'acc': 0.833, 'sens': 0.656, 'spec': 0.759} {'p': 90, 'n': 510} 0.001\n",
      "inconsistency: VGGNet {'acc': 0.825, 'sens': 0.611, 'spec': 0.686} {'p': 90, 'n': 510} 0.001\n",
      "inconsistency: SP {'acc': 0.888, 'sens': 0.656, 'spec': 0.838} {'p': 90, 'n': 510} 0.001\n",
      "inconsistency: PP {'acc': 0.877, 'sens': 0.656, 'spec': 0.826} {'p': 90, 'n': 510} 0.001\n",
      "inconsistency: SMV {'acc': 0.93, 'sens': 0.778, 'spec': 0.878} {'p': 90, 'n': 510} 0.001\n",
      "inconsistency: SMP {'acc': 0.887, 'sens': 0.7, 'spec': 0.836} {'p': 90, 'n': 510} 0.001\n",
      "inconsistency: ω(1)SMP {'acc': 0.888, 'sens': 0.733, 'spec': 0.855} {'p': 90, 'n': 510} 0.001\n",
      "inconsistency: ω(2)SMP {'acc': 0.88, 'sens': 0.711, 'spec': 0.851} {'p': 90, 'n': 510} 0.001\n",
      "n_inconsistent: 20\n"
     ]
    }
   ],
   "source": [
    "n_inconsistent = evaluate(scores[['M_ACC', 'M_SE', 'M_SP']]\\\n",
    "                            .rename({'M_ACC': 'acc', 'M_SE': 'sens', 'M_SP': 'spec'}, axis='columns'),\n",
    "                            isic2017m,\n",
    "                            1e-3)\n",
    "n_inconsistent += evaluate(scores[['SK_ACC', 'SK_SE', 'SK_SP']]\\\n",
    "                            .rename({'SK_ACC': 'acc', 'SK_SE': 'sens', 'SK_SP': 'spec'}, axis='columns'),\n",
    "                            isic2017sk,\n",
    "                            1e-3)\n",
    "\n",
    "print('n_inconsistent:', n_inconsistent)"
   ]
  },
  {
   "cell_type": "code",
   "execution_count": 36,
   "metadata": {},
   "outputs": [
    {
     "data": {
      "text/plain": [
       "20"
      ]
     },
     "execution_count": 36,
     "metadata": {},
     "output_type": "execute_result"
    }
   ],
   "source": [
    "n_inconsistent"
   ]
  },
  {
   "cell_type": "code",
   "execution_count": 37,
   "metadata": {},
   "outputs": [
    {
     "name": "stdout",
     "output_type": "stream",
     "text": [
      "inconsistency: GoogLeNet {'acc': 0.818, 'sens': 0.496, 'spec': 0.613} {'p': 117, 'n': 393} 0.001\n",
      "inconsistency: AlexNet {'acc': 0.823, 'sens': 0.47, 'spec': 0.561} {'p': 117, 'n': 393} 0.001\n",
      "inconsistency: ResNet {'acc': 0.822, 'sens': 0.385, 'spec': 0.437} {'p': 117, 'n': 393} 0.001\n",
      "inconsistency: VGGNet {'acc': 0.802, 'sens': 0.256, 'spec': 0.585} {'p': 117, 'n': 393} 0.001\n",
      "inconsistency: SP {'acc': 0.845, 'sens': 0.376, 'spec': 0.654} {'p': 117, 'n': 393} 0.001\n",
      "inconsistency: PP {'acc': 0.845, 'sens': 0.393, 'spec': 0.65} {'p': 117, 'n': 393} 0.001\n",
      "inconsistency: SMV {'acc': 0.875, 'sens': 0.487, 'spec': 0.766} {'p': 117, 'n': 393} 0.001\n",
      "inconsistency: SMP {'acc': 0.848, 'sens': 0.402, 'spec': 0.689} {'p': 117, 'n': 393} 0.001\n",
      "inconsistency: ω(1)SMP {'acc': 0.85, 'sens': 0.427, 'spec': 0.689} {'p': 117, 'n': 393} 0.001\n",
      "inconsistency: ω(2)SMP {'acc': 0.852, 'sens': 0.402, 'spec': 0.719} {'p': 117, 'n': 393} 0.001\n",
      "inconsistency: GoogLeNet {'acc': 0.865, 'sens': 0.689, 'spec': 0.831} {'p': 90, 'n': 393} 0.001\n",
      "inconsistency: AlexNet {'acc': 0.872, 'sens': 0.567, 'spec': 0.728} {'p': 90, 'n': 393} 0.001\n",
      "inconsistency: ResNet {'acc': 0.833, 'sens': 0.656, 'spec': 0.759} {'p': 90, 'n': 393} 0.001\n",
      "inconsistency: VGGNet {'acc': 0.825, 'sens': 0.611, 'spec': 0.686} {'p': 90, 'n': 393} 0.001\n",
      "inconsistency: SP {'acc': 0.888, 'sens': 0.656, 'spec': 0.838} {'p': 90, 'n': 393} 0.001\n",
      "inconsistency: PP {'acc': 0.877, 'sens': 0.656, 'spec': 0.826} {'p': 90, 'n': 393} 0.001\n",
      "inconsistency: SMV {'acc': 0.93, 'sens': 0.778, 'spec': 0.878} {'p': 90, 'n': 393} 0.001\n",
      "inconsistency: SMP {'acc': 0.887, 'sens': 0.7, 'spec': 0.836} {'p': 90, 'n': 393} 0.001\n",
      "inconsistency: ω(1)SMP {'acc': 0.888, 'sens': 0.733, 'spec': 0.855} {'p': 90, 'n': 393} 0.001\n",
      "inconsistency: ω(2)SMP {'acc': 0.88, 'sens': 0.711, 'spec': 0.851} {'p': 90, 'n': 393} 0.001\n",
      "n_inconsistent: 20\n"
     ]
    }
   ],
   "source": [
    "# testing the hypothesis that the negative class is only the nevus\n",
    "n_inconsistent = evaluate(scores[['M_ACC', 'M_SE', 'M_SP']]\\\n",
    "                            .rename({'M_ACC': 'acc', 'M_SE': 'sens', 'M_SP': 'spec'}, axis='columns'),\n",
    "                            isic2017m_reduced,\n",
    "                            1e-3)\n",
    "n_inconsistent += evaluate(scores[['SK_ACC', 'SK_SE', 'SK_SP']]\\\n",
    "                            .rename({'SK_ACC': 'acc', 'SK_SE': 'sens', 'SK_SP': 'spec'}, axis='columns'),\n",
    "                            isic2017sk_reduced,\n",
    "                            1e-3)\n",
    "\n",
    "print('n_inconsistent:', n_inconsistent)"
   ]
  },
  {
   "cell_type": "code",
   "execution_count": 38,
   "metadata": {},
   "outputs": [],
   "source": [
    "results.append({'key': 'skin7',\n",
    "                'citations': 312,\n",
    "                'dataset': 'isic2017 m/sk',\n",
    "                'uncertainty': 3,\n",
    "                'scores': ['acc', 'sens', 'spec'],\n",
    "                'suitable': 'y',\n",
    "                'n_scores': len(scores)*2,\n",
    "                'n_inconsistent': n_inconsistent,\n",
    "                'remark': None,\n",
    "                'conclusion': 'All accuracy, sensitivity and specificity scores reported for the two binary classification tasks M and SK are inconsistent.',\n",
    "                'survey': 'Reports incorrect scores',\n",
    "                'survey_ref': 162,\n",
    "                'year': 2018})"
   ]
  },
  {
   "cell_type": "markdown",
   "metadata": {},
   "source": [
    "# Title: Melanoma classification on dermoscopy images using a neural network ensemble model\n",
    "\n",
    "doi: 10.1109/TMI.2016.2633551"
   ]
  },
  {
   "cell_type": "code",
   "execution_count": 39,
   "metadata": {},
   "outputs": [],
   "source": [
    "scores_x = pd.DataFrame({'acc': [0.9083, 0.9083, 0.9, 0.8833, 0.9167, 0.8917, 0.85, 0.8750, 0.9417],\n",
    "                            'sens': [0.8250, 0.8, 0.775, 0.8, 0.875, 0.85, 0.65, 0.7, 0.95],\n",
    "                            'spec': [0.95, 0.9625, 0.9625, 0.925, 0.9375, 0.9125, 0.95, 0.9625, 0.9375]})\n",
    "scores_c = pd.DataFrame({'acc': [0.8722, 0.8833, 0.8222, 0.8778, 0.8778, 0.8722, 0.7722, 0.8389, 0.9111],\n",
    "                            'sens': [0.7, 0.7333, 0.5167, 0.7167, 0.75, 0.75, 0.6333, 0.7333, 0.8333],\n",
    "                            'spec': [0.9583, 0.9583, 0.975, 0.9583, 0.9417, 0.9333, 0.8417, 0.8917, 0.95]})\n",
    "\n",
    "testset_x = {'p': 80, 'n': 160}\n",
    "testset_c = {'p': 120, 'n': 240}"
   ]
  },
  {
   "cell_type": "code",
   "execution_count": 40,
   "metadata": {},
   "outputs": [
    {
     "name": "stdout",
     "output_type": "stream",
     "text": [
      "n_inconsistent: 0\n"
     ]
    }
   ],
   "source": [
    "n_inconsistent = evaluate(scores_x, testset_x, 1e-4) + evaluate(scores_c, testset_c, 1e-4)\n",
    "\n",
    "print('n_inconsistent:', n_inconsistent)"
   ]
  },
  {
   "cell_type": "code",
   "execution_count": 41,
   "metadata": {},
   "outputs": [],
   "source": [
    "results.append({'key': 'skin8',\n",
    "                'citations': 259,\n",
    "                'dataset': 'custom',\n",
    "                'uncertainty': 4,\n",
    "                'scores': ['acc', 'sens', 'spec'],\n",
    "                'suitable': 'y',\n",
    "                'n_scores': len(scores_x) + len(scores_c),\n",
    "                'n_inconsistent': n_inconsistent,\n",
    "                'remark': None,\n",
    "                'conclusion': 'No inconsistency identified.',\n",
    "                'survey': 'Reports the results only for the xanthous dataset',\n",
    "                'survey_ref': 113,\n",
    "                'year': 2017})"
   ]
  },
  {
   "cell_type": "markdown",
   "metadata": {},
   "source": [
    "# Title: Multiple Skin Lesions Diagnostics via Integrated Deep Convolutional Networks for Segmentation and Classification\n",
    "\n",
    "doi: 10.1016/j.cmpb.2020.105351\n"
   ]
  },
  {
   "cell_type": "code",
   "execution_count": 42,
   "metadata": {},
   "outputs": [],
   "source": [
    "scores_table2 = pd.DataFrame({'acc': [0.7230, 0.7625, 0.7995, 0.8179],\n",
    "                        'sens': [0.7229, 0.7626, 0.7994, 0.8180],\n",
    "                        'spec': [0.6605, 0.6702, 0.6894, 0.7140],\n",
    "                        'f1': [0.4776, 0.5161, 0.5632, 0.5965]})"
   ]
  },
  {
   "cell_type": "code",
   "execution_count": 43,
   "metadata": {},
   "outputs": [],
   "source": [
    "scores_table3 = pd.DataFrame({'acc': [0.7704, 0.7995, 0.8179, 0.8127],\n",
    "                        'sens': [0.7704, 0.7995, 0.8180, 0.8126],\n",
    "                        'spec': [0.6622, 0.6793, 0.7140, 0.6525],\n",
    "                        'f1': [0.7839, 0.8085, 0.8259, 0.8173]})"
   ]
  },
  {
   "cell_type": "code",
   "execution_count": 44,
   "metadata": {},
   "outputs": [
    {
     "name": "stdout",
     "output_type": "stream",
     "text": [
      "0\n"
     ]
    }
   ],
   "source": [
    "# these are not inconsistent, but the \"weighted\" sens and spec break the consistency\n",
    "n_inconsistent = evaluate(scores_table2[['acc', 'f1']], isic2016, 1e-4)\n",
    "\n",
    "print(n_inconsistent)"
   ]
  },
  {
   "cell_type": "code",
   "execution_count": 45,
   "metadata": {},
   "outputs": [
    {
     "name": "stdout",
     "output_type": "stream",
     "text": [
      "inconsistency: 0 {'acc': 0.7704, 'sens': 0.7704, 'spec': 0.6622, 'f1': 0.7839} {'p': 75, 'n': 304} 0.0001\n",
      "inconsistency: 1 {'acc': 0.7995, 'sens': 0.7995, 'spec': 0.6793, 'f1': 0.8085} {'p': 75, 'n': 304} 0.0001\n",
      "inconsistency: 2 {'acc': 0.8179, 'sens': 0.818, 'spec': 0.714, 'f1': 0.8259} {'p': 75, 'n': 304} 0.0001\n",
      "inconsistency: 3 {'acc': 0.8127, 'sens': 0.8126, 'spec': 0.6525, 'f1': 0.8173} {'p': 75, 'n': 304} 0.0001\n",
      "4\n"
     ]
    }
   ],
   "source": [
    "# the use of weighted measures is not claimed in this table\n",
    "n_inconsistent = evaluate(scores_table3, isic2016, 1e-4)\n",
    "\n",
    "print(n_inconsistent)"
   ]
  },
  {
   "cell_type": "code",
   "execution_count": 46,
   "metadata": {},
   "outputs": [],
   "source": [
    "results.append({'key': 'skin9',\n",
    "                'citations': 238,\n",
    "                'dataset': 'isic2016',\n",
    "                'uncertainty': 4,\n",
    "                'scores': ['acc', 'sens', 'spec', 'f1'],\n",
    "                'suitable': 'y',\n",
    "                'n_scores': len(scores_table2) + len(scores_table3),\n",
    "                'n_inconsistent': n_inconsistent,\n",
    "                'remark': None,\n",
    "                'conclusion': 'Unorthodox weighting of the scores.',\n",
    "                'survey': 'isic2018 reported',\n",
    "                'survey_ref': 201,\n",
    "                'year': 2020})"
   ]
  },
  {
   "cell_type": "markdown",
   "metadata": {},
   "source": [
    "# Assembling the final table"
   ]
  },
  {
   "cell_type": "code",
   "execution_count": 47,
   "metadata": {},
   "outputs": [],
   "source": [
    "data = pd.DataFrame(results)\n",
    "\n",
    "data['key'] = data['key'].apply(lambda x: '\\cite{' + x + '}')\n",
    "data = data.rename({'uncertainty': 'digits'}, axis='columns')\n",
    "data['scores'] = data['scores'].apply(lambda x: ', '.join(x))\n",
    "data['dataset'] = data['dataset'].apply(lambda x: x.replace('isic2016', 'ISIC2016 \\cite{isic2016}').replace('isic2017', 'ISIC2017 \\cite{isic2017}'))\n",
    "data['conclusion'] = data.apply(lambda row: row['conclusion'] if row['remark'] is None else row['remark'], axis=1)\n",
    "\n",
    "final = data[['key', 'citations', 'dataset', 'digits', 'scores', 'n_scores', 'n_inconsistent', 'conclusion']]"
   ]
  },
  {
   "cell_type": "code",
   "execution_count": 48,
   "metadata": {},
   "outputs": [],
   "source": [
    "final = final.rename({'key': 'ref.', 'citations': 'cit.', 'n_scores': '$N_{sc.}$', 'n_inconsistent': '$N_{inc.}$'}, axis='columns')"
   ]
  },
  {
   "cell_type": "code",
   "execution_count": 49,
   "metadata": {},
   "outputs": [
    {
     "name": "stdout",
     "output_type": "stream",
     "text": [
      "\\begin{tabular}{l@{\\hspace{5pt}}r@{\\hspace{5pt}}p{75pt}@{\\hspace{5pt}}r@{\\hspace{5pt}}p{75pt}@{\\hspace{5pt}}l@{\\hspace{5pt}}l@{\\hspace{5pt}}p{240pt}@{\\hspace{5pt}}}\n",
      "\\toprule\n",
      "ref. & cit. & dataset & digits & scores & $N_{sc.}$ & $N_{inc.}$ & conclusion \\\\\n",
      "\\midrule\n",
      "\\cite{skin0} & 991 & ISIC2016 \\cite{isic2016} & 3 & acc, sens, spec & 18 & 1 & Potentially typos present. \\\\\n",
      "\\cite{skin1} & 603 & ISIC2016 \\cite{isic2016} & - & - & - & - & The paper is about image segmentation performance. \\\\\n",
      "\\cite{skin2} & 574 & ISIC2016 \\cite{isic2016} & 3 & acc, sens, spec & 27 & 3 & Potentially typos present. \\\\\n",
      "\\cite{skin3} & 389 & ISIC2017 \\cite{isic2017} m/sk & 3 & acc, sens, spec & 32 & 2 & Potentially typos present. \\\\\n",
      "\\cite{skin4} & 389 & ISIC2016 \\cite{isic2016} (custom selection) & - & - & - & - & Not enough details shared. \\\\\n",
      "\\cite{skin5} & 322 & Argenziano's \\cite{argenziano} & 3 & ppv, sens, spec & 16 & 0 & No inconsistency identified. \\\\\n",
      "\\cite{skin6} & 313 & custom & - & - & - & - & Not enough details shared. \\\\\n",
      "\\cite{skin7} & 312 & ISIC2017 \\cite{isic2017} m/sk & 3 & acc, sens, spec & 20 & 20 & All accuracy, sensitivity and specificity scores reported for the two binary classification tasks M and SK are inconsistent. \\\\\n",
      "\\cite{skin8} & 259 & custom & 4 & acc, sens, spec & 18 & 0 & No inconsistency identified. \\\\\n",
      "\\cite{skin9} & 238 & ISIC2016 \\cite{isic2016} & 4 & acc, sens, spec, f1 & 8 & 4 & Unorthodox weighting of the scores. \\\\\n",
      "\\bottomrule\n",
      "\\end{tabular}\n",
      "\n"
     ]
    }
   ],
   "source": [
    "print(final.to_latex(index=False).replace('NaN', '').replace('lrllllll',\n",
    "            'l@{\\hspace{5pt}}'\\\n",
    "            'r@{\\hspace{5pt}}'\\\n",
    "            'p{75pt}@{\\hspace{5pt}}'\\\n",
    "            'r@{\\hspace{5pt}}'\\\n",
    "            'p{75pt}@{\\hspace{5pt}}'\\\n",
    "            'l@{\\hspace{5pt}}'\\\n",
    "            'l@{\\hspace{5pt}}'\\\n",
    "            'p{240pt}@{\\hspace{5pt}}'))"
   ]
  },
  {
   "cell_type": "code",
   "execution_count": 50,
   "metadata": {},
   "outputs": [
    {
     "data": {
      "text/html": [
       "<div>\n",
       "<style scoped>\n",
       "    .dataframe tbody tr th:only-of-type {\n",
       "        vertical-align: middle;\n",
       "    }\n",
       "\n",
       "    .dataframe tbody tr th {\n",
       "        vertical-align: top;\n",
       "    }\n",
       "\n",
       "    .dataframe thead th {\n",
       "        text-align: right;\n",
       "    }\n",
       "</style>\n",
       "<table border=\"1\" class=\"dataframe\">\n",
       "  <thead>\n",
       "    <tr style=\"text-align: right;\">\n",
       "      <th></th>\n",
       "      <th>key</th>\n",
       "      <th>citations</th>\n",
       "      <th>dataset</th>\n",
       "      <th>digits</th>\n",
       "      <th>scores</th>\n",
       "      <th>suitable</th>\n",
       "      <th>n_scores</th>\n",
       "      <th>n_inconsistent</th>\n",
       "      <th>remark</th>\n",
       "      <th>conclusion</th>\n",
       "      <th>survey</th>\n",
       "      <th>survey_ref</th>\n",
       "      <th>year</th>\n",
       "    </tr>\n",
       "  </thead>\n",
       "  <tbody>\n",
       "    <tr>\n",
       "      <th>0</th>\n",
       "      <td>\\cite{skin0}</td>\n",
       "      <td>991</td>\n",
       "      <td>ISIC2016 \\cite{isic2016}</td>\n",
       "      <td>3</td>\n",
       "      <td>acc, sens, spec</td>\n",
       "      <td>y</td>\n",
       "      <td>18</td>\n",
       "      <td>1</td>\n",
       "      <td>None</td>\n",
       "      <td>Potentially typos present.</td>\n",
       "      <td>Only the accuracy score of segmentation is rep...</td>\n",
       "      <td>155</td>\n",
       "      <td>2017</td>\n",
       "    </tr>\n",
       "    <tr>\n",
       "      <th>1</th>\n",
       "      <td>\\cite{skin1}</td>\n",
       "      <td>603</td>\n",
       "      <td>ISIC2016 \\cite{isic2016}</td>\n",
       "      <td>-</td>\n",
       "      <td>-</td>\n",
       "      <td>n</td>\n",
       "      <td>-</td>\n",
       "      <td>-</td>\n",
       "      <td>The paper is about image segmentation performa...</td>\n",
       "      <td>The paper is about image segmentation performa...</td>\n",
       "      <td>Reports segmentation scores</td>\n",
       "      <td>158</td>\n",
       "      <td>2017</td>\n",
       "    </tr>\n",
       "    <tr>\n",
       "      <th>2</th>\n",
       "      <td>\\cite{skin2}</td>\n",
       "      <td>574</td>\n",
       "      <td>ISIC2016 \\cite{isic2016}</td>\n",
       "      <td>3</td>\n",
       "      <td>acc, sens, spec</td>\n",
       "      <td>y</td>\n",
       "      <td>27</td>\n",
       "      <td>3</td>\n",
       "      <td>None</td>\n",
       "      <td>Potentially typos present.</td>\n",
       "      <td>Results for the evaluation of 100 images (50-50).</td>\n",
       "      <td>156</td>\n",
       "      <td>2017</td>\n",
       "    </tr>\n",
       "    <tr>\n",
       "      <th>3</th>\n",
       "      <td>\\cite{skin3}</td>\n",
       "      <td>389</td>\n",
       "      <td>ISIC2017 \\cite{isic2017} m/sk</td>\n",
       "      <td>3</td>\n",
       "      <td>acc, sens, spec</td>\n",
       "      <td>y</td>\n",
       "      <td>32</td>\n",
       "      <td>2</td>\n",
       "      <td>None</td>\n",
       "      <td>Potentially typos present.</td>\n",
       "      <td>No scores in the survey</td>\n",
       "      <td>169</td>\n",
       "      <td>2019</td>\n",
       "    </tr>\n",
       "    <tr>\n",
       "      <th>4</th>\n",
       "      <td>\\cite{skin4}</td>\n",
       "      <td>389</td>\n",
       "      <td>ISIC2016 \\cite{isic2016} (custom selection)</td>\n",
       "      <td>-</td>\n",
       "      <td>-</td>\n",
       "      <td>n</td>\n",
       "      <td>-</td>\n",
       "      <td>-</td>\n",
       "      <td>Not enough details shared.</td>\n",
       "      <td>Not enough details shared.</td>\n",
       "      <td>None</td>\n",
       "      <td>178</td>\n",
       "      <td>2019</td>\n",
       "    </tr>\n",
       "    <tr>\n",
       "      <th>5</th>\n",
       "      <td>\\cite{skin5}</td>\n",
       "      <td>322</td>\n",
       "      <td>Argenziano's \\cite{argenziano}</td>\n",
       "      <td>3</td>\n",
       "      <td>ppv, sens, spec</td>\n",
       "      <td>y</td>\n",
       "      <td>16</td>\n",
       "      <td>0</td>\n",
       "      <td>None</td>\n",
       "      <td>No inconsistency identified.</td>\n",
       "      <td>Reports the BWV results instead of the diagnos...</td>\n",
       "      <td>172</td>\n",
       "      <td>2019</td>\n",
       "    </tr>\n",
       "    <tr>\n",
       "      <th>6</th>\n",
       "      <td>\\cite{skin6}</td>\n",
       "      <td>313</td>\n",
       "      <td>custom</td>\n",
       "      <td>-</td>\n",
       "      <td>-</td>\n",
       "      <td>n</td>\n",
       "      <td>-</td>\n",
       "      <td>-</td>\n",
       "      <td>Not enough details shared.</td>\n",
       "      <td>Not enough details shared.</td>\n",
       "      <td>None</td>\n",
       "      <td>174</td>\n",
       "      <td>2018</td>\n",
       "    </tr>\n",
       "    <tr>\n",
       "      <th>7</th>\n",
       "      <td>\\cite{skin7}</td>\n",
       "      <td>312</td>\n",
       "      <td>ISIC2017 \\cite{isic2017} m/sk</td>\n",
       "      <td>3</td>\n",
       "      <td>acc, sens, spec</td>\n",
       "      <td>y</td>\n",
       "      <td>20</td>\n",
       "      <td>20</td>\n",
       "      <td>None</td>\n",
       "      <td>All accuracy, sensitivity and specificity scor...</td>\n",
       "      <td>Reports incorrect scores</td>\n",
       "      <td>162</td>\n",
       "      <td>2018</td>\n",
       "    </tr>\n",
       "    <tr>\n",
       "      <th>8</th>\n",
       "      <td>\\cite{skin8}</td>\n",
       "      <td>259</td>\n",
       "      <td>custom</td>\n",
       "      <td>4</td>\n",
       "      <td>acc, sens, spec</td>\n",
       "      <td>y</td>\n",
       "      <td>18</td>\n",
       "      <td>0</td>\n",
       "      <td>None</td>\n",
       "      <td>No inconsistency identified.</td>\n",
       "      <td>Reports the results only for the xanthous dataset</td>\n",
       "      <td>113</td>\n",
       "      <td>2017</td>\n",
       "    </tr>\n",
       "    <tr>\n",
       "      <th>9</th>\n",
       "      <td>\\cite{skin9}</td>\n",
       "      <td>238</td>\n",
       "      <td>ISIC2016 \\cite{isic2016}</td>\n",
       "      <td>4</td>\n",
       "      <td>acc, sens, spec, f1</td>\n",
       "      <td>y</td>\n",
       "      <td>8</td>\n",
       "      <td>4</td>\n",
       "      <td>None</td>\n",
       "      <td>Unorthodox weighting of the scores.</td>\n",
       "      <td>isic2018 reported</td>\n",
       "      <td>201</td>\n",
       "      <td>2020</td>\n",
       "    </tr>\n",
       "  </tbody>\n",
       "</table>\n",
       "</div>"
      ],
      "text/plain": [
       "            key  citations                                      dataset   \n",
       "0  \\cite{skin0}        991                     ISIC2016 \\cite{isic2016}  \\\n",
       "1  \\cite{skin1}        603                     ISIC2016 \\cite{isic2016}   \n",
       "2  \\cite{skin2}        574                     ISIC2016 \\cite{isic2016}   \n",
       "3  \\cite{skin3}        389                ISIC2017 \\cite{isic2017} m/sk   \n",
       "4  \\cite{skin4}        389  ISIC2016 \\cite{isic2016} (custom selection)   \n",
       "5  \\cite{skin5}        322               Argenziano's \\cite{argenziano}   \n",
       "6  \\cite{skin6}        313                                       custom   \n",
       "7  \\cite{skin7}        312                ISIC2017 \\cite{isic2017} m/sk   \n",
       "8  \\cite{skin8}        259                                       custom   \n",
       "9  \\cite{skin9}        238                     ISIC2016 \\cite{isic2016}   \n",
       "\n",
       "  digits               scores suitable n_scores n_inconsistent   \n",
       "0      3      acc, sens, spec        y       18              1  \\\n",
       "1      -                    -        n        -              -   \n",
       "2      3      acc, sens, spec        y       27              3   \n",
       "3      3      acc, sens, spec        y       32              2   \n",
       "4      -                    -        n        -              -   \n",
       "5      3      ppv, sens, spec        y       16              0   \n",
       "6      -                    -        n        -              -   \n",
       "7      3      acc, sens, spec        y       20             20   \n",
       "8      4      acc, sens, spec        y       18              0   \n",
       "9      4  acc, sens, spec, f1        y        8              4   \n",
       "\n",
       "                                              remark   \n",
       "0                                               None  \\\n",
       "1  The paper is about image segmentation performa...   \n",
       "2                                               None   \n",
       "3                                               None   \n",
       "4                         Not enough details shared.   \n",
       "5                                               None   \n",
       "6                         Not enough details shared.   \n",
       "7                                               None   \n",
       "8                                               None   \n",
       "9                                               None   \n",
       "\n",
       "                                          conclusion   \n",
       "0                         Potentially typos present.  \\\n",
       "1  The paper is about image segmentation performa...   \n",
       "2                         Potentially typos present.   \n",
       "3                         Potentially typos present.   \n",
       "4                         Not enough details shared.   \n",
       "5                       No inconsistency identified.   \n",
       "6                         Not enough details shared.   \n",
       "7  All accuracy, sensitivity and specificity scor...   \n",
       "8                       No inconsistency identified.   \n",
       "9                Unorthodox weighting of the scores.   \n",
       "\n",
       "                                              survey  survey_ref  year  \n",
       "0  Only the accuracy score of segmentation is rep...         155  2017  \n",
       "1                        Reports segmentation scores         158  2017  \n",
       "2  Results for the evaluation of 100 images (50-50).         156  2017  \n",
       "3                            No scores in the survey         169  2019  \n",
       "4                                               None         178  2019  \n",
       "5  Reports the BWV results instead of the diagnos...         172  2019  \n",
       "6                                               None         174  2018  \n",
       "7                           Reports incorrect scores         162  2018  \n",
       "8  Reports the results only for the xanthous dataset         113  2017  \n",
       "9                                  isic2018 reported         201  2020  "
      ]
     },
     "execution_count": 50,
     "metadata": {},
     "output_type": "execute_result"
    }
   ],
   "source": [
    "data"
   ]
  },
  {
   "cell_type": "code",
   "execution_count": null,
   "metadata": {},
   "outputs": [],
   "source": []
  }
 ],
 "metadata": {
  "kernelspec": {
   "display_name": "mlscorecheck",
   "language": "python",
   "name": "python3"
  },
  "language_info": {
   "codemirror_mode": {
    "name": "ipython",
    "version": 3
   },
   "file_extension": ".py",
   "mimetype": "text/x-python",
   "name": "python",
   "nbconvert_exporter": "python",
   "pygments_lexer": "ipython3",
   "version": "3.10.0"
  },
  "orig_nbformat": 4
 },
 "nbformat": 4,
 "nbformat_minor": 2
}
