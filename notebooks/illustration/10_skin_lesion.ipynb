{
 "cells": [
  {
   "cell_type": "code",
   "execution_count": 336,
   "metadata": {},
   "outputs": [],
   "source": [
    "import pandas as pd\n",
    "import numpy as np\n",
    "import logging\n",
    "logging.getLogger('mlscorecheck').setLevel(logging.ERROR)\n",
    "from mlscorecheck.check import check_1_testset_no_kfold_scores"
   ]
  },
  {
   "cell_type": "code",
   "execution_count": 337,
   "metadata": {},
   "outputs": [],
   "source": [
    "results = []"
   ]
  },
  {
   "cell_type": "code",
   "execution_count": 338,
   "metadata": {},
   "outputs": [],
   "source": [
    "isic2016 = {'p': 75, 'n': 304}\n",
    "isic2017m = {'p': 117, 'n': 393 + 90}\n",
    "isic2017sk = {'p': 90, 'n': 393 + 117}"
   ]
  },
  {
   "cell_type": "markdown",
   "metadata": {},
   "source": [
    "# Automated melanoma recognition in dermoscopy images via very deep residual networks \n",
    "\n",
    "doi: 10.1109/TMI.2016.2642839\n",
    "\n",
    "dataset: ISBI 2016"
   ]
  },
  {
   "cell_type": "code",
   "execution_count": 339,
   "metadata": {},
   "outputs": [],
   "source": [
    "table = \"\"\"Method AC AUC AP SE SP\n",
    "CUMED 0.855 0.804 0.637 0.507 0.941\n",
    "GTDL 0.813 0.802 0.619 0.573 0.872\n",
    "BF-TB 0.834 0.826 0.598 0.320 0.961\n",
    "ThrunLab 0.786 0.796 0.563 0.667 0.816\n",
    "JordanYap 0.844 0.775 0.559 0.240 0.993\n",
    "HaebeomLee 0.821 0.793 0.555 0.200 0.974\n",
    "GT-DL1 0.815 0.813 0.552 0.467 0.901\n",
    "GT-DL2 0.681 0.800 0.545 0.787 0.655\n",
    "SebastienPARIS 0.731 0.793 0.542 0.773 0.720\n",
    "USYD-BMIT 0.599 0.780 0.537 0.853 0.536\"\"\"\n",
    "\n",
    "df = pd.DataFrame([row.split(' ') for row in table.split('\\n')])\n",
    "df.columns = df.iloc[0]\n",
    "df = df.drop(0)\n",
    "df = df.rename({'AC': 'acc', 'DI': 'f1', 'JA': 'ji', 'SE': 'sens', 'SP': 'spec'}, axis='columns')\n",
    "for score in ['acc', 'sens', 'spec', 'AUC', 'AP']:\n",
    "    df[score] = df[score].astype(float)\n",
    "df = df.set_index('Method')\n",
    "df = df.drop(['AUC', 'AP'], axis='columns')"
   ]
  },
  {
   "cell_type": "code",
   "execution_count": 340,
   "metadata": {},
   "outputs": [
    {
     "data": {
      "text/html": [
       "<div>\n",
       "<style scoped>\n",
       "    .dataframe tbody tr th:only-of-type {\n",
       "        vertical-align: middle;\n",
       "    }\n",
       "\n",
       "    .dataframe tbody tr th {\n",
       "        vertical-align: top;\n",
       "    }\n",
       "\n",
       "    .dataframe thead th {\n",
       "        text-align: right;\n",
       "    }\n",
       "</style>\n",
       "<table border=\"1\" class=\"dataframe\">\n",
       "  <thead>\n",
       "    <tr style=\"text-align: right;\">\n",
       "      <th></th>\n",
       "      <th>acc</th>\n",
       "      <th>sens</th>\n",
       "      <th>spec</th>\n",
       "    </tr>\n",
       "    <tr>\n",
       "      <th>Method</th>\n",
       "      <th></th>\n",
       "      <th></th>\n",
       "      <th></th>\n",
       "    </tr>\n",
       "  </thead>\n",
       "  <tbody>\n",
       "    <tr>\n",
       "      <th>CUMED</th>\n",
       "      <td>0.855</td>\n",
       "      <td>0.507</td>\n",
       "      <td>0.941</td>\n",
       "    </tr>\n",
       "    <tr>\n",
       "      <th>GTDL</th>\n",
       "      <td>0.813</td>\n",
       "      <td>0.573</td>\n",
       "      <td>0.872</td>\n",
       "    </tr>\n",
       "    <tr>\n",
       "      <th>BF-TB</th>\n",
       "      <td>0.834</td>\n",
       "      <td>0.320</td>\n",
       "      <td>0.961</td>\n",
       "    </tr>\n",
       "    <tr>\n",
       "      <th>ThrunLab</th>\n",
       "      <td>0.786</td>\n",
       "      <td>0.667</td>\n",
       "      <td>0.816</td>\n",
       "    </tr>\n",
       "    <tr>\n",
       "      <th>JordanYap</th>\n",
       "      <td>0.844</td>\n",
       "      <td>0.240</td>\n",
       "      <td>0.993</td>\n",
       "    </tr>\n",
       "    <tr>\n",
       "      <th>HaebeomLee</th>\n",
       "      <td>0.821</td>\n",
       "      <td>0.200</td>\n",
       "      <td>0.974</td>\n",
       "    </tr>\n",
       "    <tr>\n",
       "      <th>GT-DL1</th>\n",
       "      <td>0.815</td>\n",
       "      <td>0.467</td>\n",
       "      <td>0.901</td>\n",
       "    </tr>\n",
       "    <tr>\n",
       "      <th>GT-DL2</th>\n",
       "      <td>0.681</td>\n",
       "      <td>0.787</td>\n",
       "      <td>0.655</td>\n",
       "    </tr>\n",
       "    <tr>\n",
       "      <th>SebastienPARIS</th>\n",
       "      <td>0.731</td>\n",
       "      <td>0.773</td>\n",
       "      <td>0.720</td>\n",
       "    </tr>\n",
       "    <tr>\n",
       "      <th>USYD-BMIT</th>\n",
       "      <td>0.599</td>\n",
       "      <td>0.853</td>\n",
       "      <td>0.536</td>\n",
       "    </tr>\n",
       "  </tbody>\n",
       "</table>\n",
       "</div>"
      ],
      "text/plain": [
       "0                 acc   sens   spec\n",
       "Method                             \n",
       "CUMED           0.855  0.507  0.941\n",
       "GTDL            0.813  0.573  0.872\n",
       "BF-TB           0.834  0.320  0.961\n",
       "ThrunLab        0.786  0.667  0.816\n",
       "JordanYap       0.844  0.240  0.993\n",
       "HaebeomLee      0.821  0.200  0.974\n",
       "GT-DL1          0.815  0.467  0.901\n",
       "GT-DL2          0.681  0.787  0.655\n",
       "SebastienPARIS  0.731  0.773  0.720\n",
       "USYD-BMIT       0.599  0.853  0.536"
      ]
     },
     "execution_count": 340,
     "metadata": {},
     "output_type": "execute_result"
    }
   ],
   "source": [
    "df"
   ]
  },
  {
   "cell_type": "code",
   "execution_count": 341,
   "metadata": {},
   "outputs": [
    {
     "name": "stdout",
     "output_type": "stream",
     "text": [
      "CUMED False\n",
      "GTDL False\n",
      "BF-TB False\n",
      "ThrunLab False\n",
      "JordanYap False\n",
      "HaebeomLee False\n",
      "GT-DL1 False\n",
      "GT-DL2 False\n",
      "SebastienPARIS False\n",
      "USYD-BMIT False\n"
     ]
    }
   ],
   "source": [
    "n_inconsistent = 0\n",
    "for idx, row in df.iterrows():\n",
    "    res = check_1_testset_no_kfold_scores(testset=isic2016,\n",
    "                                            scores=row,\n",
    "                                            eps=1e-3)\n",
    "\n",
    "    if res['inconsistency']:\n",
    "        n_inconsistent += 1\n",
    "    \n",
    "    print(idx, res['inconsistency'])"
   ]
  },
  {
   "cell_type": "code",
   "execution_count": 342,
   "metadata": {},
   "outputs": [],
   "source": [
    "results.append({'key': 'skin0',\n",
    "                'citations': 991,\n",
    "                'dataset': 'isic2016',\n",
    "                'epsilon': 1e-3,\n",
    "                'scores': ['acc', 'sens', 'spec'],\n",
    "                'n_scores': len(df),\n",
    "                'n_inconsistent': n_inconsistent,\n",
    "                'remark': None})"
   ]
  },
  {
   "cell_type": "markdown",
   "metadata": {},
   "source": [
    "# Automatic Skin Lesion Segmentation Using Deep Fully Convolutional Networks with Jaccard Distance\n",
    "\n",
    "doi: 10.1109/TMI.2017.2695227\n",
    "\n",
    "Does not carry out classification. Only segmentation.\n"
   ]
  },
  {
   "cell_type": "code",
   "execution_count": 343,
   "metadata": {},
   "outputs": [],
   "source": [
    "results.append({'key': 'skin1',\n",
    "                'citations': 603,\n",
    "                'dataset': 'isic2016',\n",
    "                'epsilon': 1e-3,\n",
    "                'scores': ['acc', 'sens', 'spec'],\n",
    "                'n_scores': None,\n",
    "                'n_inconsistent': None,\n",
    "                'remark': 'The paper is about image segmentation performance.'})"
   ]
  },
  {
   "cell_type": "markdown",
   "metadata": {},
   "source": [
    "# Deep learning ensembles for melanoma recognition in dermoscopy images\n",
    "\n",
    "doi:  10.1147/JRD.2017.2708299\n",
    "\n",
    "dataset: ISBI 2016"
   ]
  },
  {
   "cell_type": "code",
   "execution_count": 344,
   "metadata": {},
   "outputs": [],
   "source": [
    "df0 = pd.DataFrame({'acc': [0.755, 0.81, 0.781, 0.834, 0.834, 0.807, 0.805, 0.855, 0.855, 0.836, 0.77, 0.726, 0.752],\n",
    "                    'sens': [0.627, 0.72, 0.707, 0.533, 0.52, 0.693, 0.693, 0.547, 0.507, 0.253, 0.72, 0.693, 0.64],\n",
    "                    'spec': [0.796, 0.832, 0.799, 0.9079, 0.9112, 0.836, 0.832, 0.931, 0.941, 0.98, 0.723, 0.734, 0.78]})"
   ]
  },
  {
   "cell_type": "code",
   "execution_count": 345,
   "metadata": {},
   "outputs": [],
   "source": [
    "df1 = pd.DataFrame({'acc': [0.789, 0.734, 0.694, 0.702, 0.655, 0.694, 0.776, 0.723, 0.678, 0.699, 0.726, 0.686, 0.694, 0.702],\n",
    "                    'sens': [0.213, 0.707, 0.707, 0.64, 0.4, 0.6, 0.267, 0.693, 0.627, 0.6, 0.507, 0.48, 0.587, 0.573],\n",
    "                    'spec': [0.9309, 0.74, 0.691, 0.717, 0.73, 0.717, 0.9013, 0.73, 0.691, 0.724, 0.78, 0.737, 0.72, 0.734]})"
   ]
  },
  {
   "cell_type": "code",
   "execution_count": 346,
   "metadata": {},
   "outputs": [
    {
     "name": "stdout",
     "output_type": "stream",
     "text": [
      "0 True\n",
      "1 False\n",
      "2 False\n",
      "3 False\n",
      "4 False\n",
      "5 False\n",
      "6 False\n",
      "7 False\n",
      "8 False\n",
      "9 False\n",
      "10 True\n",
      "11 False\n",
      "12 False\n"
     ]
    }
   ],
   "source": [
    "n_inconsistent = 0\n",
    "for idx, row in df0.iterrows():\n",
    "    res = check_1_testset_no_kfold_scores(testset=isic2016,\n",
    "                                            scores=row,\n",
    "                                            eps=1e-3)\n",
    "    if res['inconsistency']:\n",
    "        n_inconsistent += 1\n",
    "        \n",
    "    print(idx, res['inconsistency'])"
   ]
  },
  {
   "cell_type": "code",
   "execution_count": 347,
   "metadata": {},
   "outputs": [
    {
     "name": "stdout",
     "output_type": "stream",
     "text": [
      "0 False\n",
      "1 False\n",
      "2 False\n",
      "3 False\n",
      "4 True\n",
      "5 False\n",
      "6 False\n",
      "7 False\n",
      "8 False\n",
      "9 False\n",
      "10 False\n",
      "11 False\n",
      "12 False\n",
      "13 False\n"
     ]
    }
   ],
   "source": [
    "for idx, row in df1.iterrows():\n",
    "    res = check_1_testset_no_kfold_scores(testset=isic2016,\n",
    "                                            scores=row,\n",
    "                                            eps=1e-3)\n",
    "    if res['inconsistency']:\n",
    "        n_inconsistent += 1\n",
    "        \n",
    "    print(idx, res['inconsistency'])"
   ]
  },
  {
   "cell_type": "code",
   "execution_count": 348,
   "metadata": {},
   "outputs": [],
   "source": [
    "results.append({'key': 'skin2',\n",
    "                'citations': 574,\n",
    "                'dataset': 'isic2016',\n",
    "                'epsilon': 1e-3,\n",
    "                'scores': ['acc', 'sens', 'spec'],\n",
    "                'n_scores': len(df0) + len(df1),\n",
    "                'n_inconsistent': n_inconsistent,\n",
    "                'remark': None})"
   ]
  },
  {
   "cell_type": "markdown",
   "metadata": {},
   "source": [
    "# Attention Residual Learning for Skin Lesion Classification\n",
    "\n",
    "doi: 10.1109/TMI.2019.2893944\n",
    "\n",
    "dataset: isic2017"
   ]
  },
  {
   "cell_type": "code",
   "execution_count": 349,
   "metadata": {},
   "outputs": [],
   "source": [
    "scores_m = pd.DataFrame({'acc': [0.748, 0.762, 0.757, 0.778, 0.838, 0.850, 0.848, 0.850],\n",
    "                            'sens': [0.538, 0.615, 0.598, 0.615, 0.632, 0.624, 0.624, 0.658],\n",
    "                            'spec': [0.799, 0.797, 0.795, 0.818, 0.888, 0.906, 0.903, 0.896]})\n",
    "scores_sk = pd.DataFrame({'acc': [0.711, 0.758, 0.727, 0.763, 0.842, 0.862, 0.863, 0.868],\n",
    "                            'sens': [0.8, 0.833, 0.811, 0.822, 0.867, 0.878, 0.856, 0.878],\n",
    "                            'spec': [0.696, 0.745, 0.712, 0.753, 0.837, 0.859, 0.865, 0.867]})\n",
    "scores_m_comp = pd.DataFrame({'acc': [0.850, 0.828, 0.823, 0.872, 0.858, 0.845, 0.837, 0.830],\n",
    "                                'sens': [0.658, 0.735, 0.103, 0.547, 0.427, 0.350, 0.590, 0.436],\n",
    "                                'spec': [0.896, 0.851, 0.998, 0.950, 0.963, 0.965, 0.896, 0.925]})\n",
    "scores_sk_comp = pd.DataFrame({'acc': [0.868, 0.803, 0.875, 0.895, 0.918, 0.913, 0.908, 0.917],\n",
    "                                'sens': [0.878, 0.978, 0.178, 0.356, 0.589, 0.556, 0.778, 0.7],\n",
    "                                'spec': [0.867, 0.773, 0.998, 0.99, 0.976, 0.976, 0.931, 0.995]})"
   ]
  },
  {
   "cell_type": "code",
   "execution_count": 350,
   "metadata": {},
   "outputs": [
    {
     "name": "stdout",
     "output_type": "stream",
     "text": [
      "0 False\n",
      "1 False\n",
      "2 False\n",
      "3 False\n",
      "4 False\n",
      "5 True\n",
      "6 False\n",
      "7 False\n",
      "0 False\n",
      "1 False\n",
      "2 False\n",
      "3 False\n",
      "4 False\n",
      "5 False\n",
      "6 False\n",
      "7 False\n"
     ]
    }
   ],
   "source": [
    "n_inconsistent = 0\n",
    "\n",
    "for idx, row in scores_m.iterrows():\n",
    "    res = check_1_testset_no_kfold_scores(testset=isic2017m,\n",
    "                                            scores=row,\n",
    "                                            eps=1e-3)\n",
    "    if res['inconsistency']:\n",
    "        n_inconsistent += 1\n",
    "        \n",
    "    print(idx, res['inconsistency'])\n",
    "\n",
    "for idx, row in scores_sk.iterrows():\n",
    "    res = check_1_testset_no_kfold_scores(testset=isic2017sk,\n",
    "                                            scores=row,\n",
    "                                            eps=1e-3)\n",
    "    if res['inconsistency']:\n",
    "        n_inconsistent += 1\n",
    "        \n",
    "    print(idx, res['inconsistency'])"
   ]
  },
  {
   "cell_type": "code",
   "execution_count": 351,
   "metadata": {},
   "outputs": [
    {
     "name": "stdout",
     "output_type": "stream",
     "text": [
      "0 False\n",
      "1 False\n",
      "2 False\n",
      "3 False\n",
      "4 False\n",
      "5 False\n",
      "6 False\n",
      "7 False\n",
      "0 False\n",
      "1 False\n",
      "2 False\n",
      "3 False\n",
      "4 False\n",
      "5 False\n",
      "6 False\n",
      "7 True\n"
     ]
    }
   ],
   "source": [
    "for idx, row in scores_m_comp.iterrows():\n",
    "    res = check_1_testset_no_kfold_scores(testset=isic2017m,\n",
    "                                            scores=row,\n",
    "                                            eps=1e-3)\n",
    "    if res['inconsistency']:\n",
    "        n_inconsistent += 1\n",
    "        \n",
    "    print(idx, res['inconsistency'])\n",
    "\n",
    "for idx, row in scores_sk_comp.iterrows():\n",
    "    res = check_1_testset_no_kfold_scores(testset=isic2017sk,\n",
    "                                            scores=row,\n",
    "                                            eps=1e-3)\n",
    "    if res['inconsistency']:\n",
    "        n_inconsistent += 1\n",
    "        \n",
    "    print(idx, res['inconsistency'])"
   ]
  },
  {
   "cell_type": "code",
   "execution_count": 352,
   "metadata": {},
   "outputs": [],
   "source": [
    "results.append({'key': 'skin3',\n",
    "                'citations': 389,\n",
    "                'dataset': 'isic2017 m/sk',\n",
    "                'epsilon': 1e-3,\n",
    "                'scores': ['acc', 'sens', 'spec'],\n",
    "                'n_scores': len(scores_m) + len(scores_sk) + len(scores_m_comp) + len(scores_sk_comp),\n",
    "                'n_inconsistent': n_inconsistent,\n",
    "                'remark': None})"
   ]
  },
  {
   "cell_type": "markdown",
   "metadata": {},
   "source": [
    "# Deep learning outperformed 136 of 157 dermatologists in a head-to-head dermoscopic melanoma image classification task\n",
    "\n",
    "doi : 10.1016/j.ejca.2019.04.001"
   ]
  },
  {
   "cell_type": "code",
   "execution_count": 353,
   "metadata": {},
   "outputs": [],
   "source": [
    "results.append({'key': 'skin4',\n",
    "                'citations': 389,\n",
    "                'dataset': 'custom',\n",
    "                'epsilon': 1e-3,\n",
    "                'scores': ['sens', 'spec'],\n",
    "                'n_scores': None,\n",
    "                'n_inconsistent': None,\n",
    "                'remark': 'Unclear evaluation methodology'})"
   ]
  },
  {
   "cell_type": "markdown",
   "metadata": {},
   "source": [
    "# Seven-Point Checklist and Skin Lesion Classification Using Multitask Multimodal Neural Nets\n",
    "\n",
    "doi: 10.1109/JBHI.2018.2824327\n",
    "\n",
    "dataset: ? 395 test images"
   ]
  },
  {
   "cell_type": "code",
   "execution_count": 354,
   "metadata": {},
   "outputs": [],
   "source": [
    "scores_bwv_prs = pd.DataFrame({'sens': [0.493, 0.653, 0.773, 0.653],\n",
    "                                'spec': [0.966, 0.925, 0.894, 0.919],\n",
    "                                'ppv': [0.771, 0.671, 0.63, 0.653]})\n",
    "scores_bwv_abs = pd.DataFrame({'sens': [0.966, 0.925, 0.894, 0.919],\n",
    "                                'spec': [0.493, 0.653, 0.773, 0.653],\n",
    "                                'ppv': [0.89, 0.919, 0.944, 0.919]})\n",
    "\n",
    "scores_mel = pd.DataFrame({'sens': [0.901, 0.475, 0.96, 0.693, 0.96, 0.693, 0.941, 0.733],\n",
    "                            'spec': [0.401, 0.874, 0.33, 0.789, 0.361, 0.776, 0.361, 0.786],\n",
    "                            'ppv': [0.341, 0.565, 0.33, 0.53, 0.34, 0.515, 0.336, 0.54]})"
   ]
  },
  {
   "cell_type": "code",
   "execution_count": 355,
   "metadata": {},
   "outputs": [],
   "source": [
    "testset_bwv = {'n': int(np.ceil(395/1011 * 816))}\n",
    "testset_bwv['p'] = 395 - testset_bwv['n']"
   ]
  },
  {
   "cell_type": "code",
   "execution_count": 356,
   "metadata": {},
   "outputs": [
    {
     "name": "stdout",
     "output_type": "stream",
     "text": [
      "75 320\n"
     ]
    }
   ],
   "source": [
    "for p in range(testset_bwv['p']-20, testset_bwv['p']+20):\n",
    "    n = 395 - p\n",
    "    tmp = check_1_testset_no_kfold_scores(testset={'p': p, 'n': n},\n",
    "                                    scores=scores_bwv_prs.iloc[0],\n",
    "                                    eps=1e-3)\n",
    "    if not tmp['inconsistency']:\n",
    "        print(p, n)"
   ]
  },
  {
   "cell_type": "code",
   "execution_count": 357,
   "metadata": {},
   "outputs": [],
   "source": [
    "testset_bwv_prs = {'p': 75, 'n': 320}\n",
    "testset_bwv_abs = {'p': 320, 'n': 75}"
   ]
  },
  {
   "cell_type": "code",
   "execution_count": 358,
   "metadata": {},
   "outputs": [
    {
     "name": "stdout",
     "output_type": "stream",
     "text": [
      "0 False\n",
      "1 False\n",
      "2 False\n",
      "3 False\n",
      "0 False\n",
      "1 False\n",
      "2 False\n",
      "3 False\n"
     ]
    }
   ],
   "source": [
    "n_inconsistent = 0\n",
    "\n",
    "for idx, row in scores_bwv_prs.iterrows():\n",
    "    res = check_1_testset_no_kfold_scores(testset=testset_bwv_prs,\n",
    "                                            scores=row,\n",
    "                                            eps=1e-3)\n",
    "    if res['inconsistency']:\n",
    "        n_inconsistent += 1\n",
    "        \n",
    "    print(idx, res['inconsistency'])\n",
    "\n",
    "for idx, row in scores_bwv_abs.iterrows():\n",
    "    res = check_1_testset_no_kfold_scores(testset=testset_bwv_abs,\n",
    "                                            scores=row,\n",
    "                                            eps=1e-3)\n",
    "    if res['inconsistency']:\n",
    "        n_inconsistent += 1\n",
    "        \n",
    "    print(idx, res['inconsistency'])"
   ]
  },
  {
   "cell_type": "code",
   "execution_count": 359,
   "metadata": {},
   "outputs": [],
   "source": [
    "testset_mel = {'p': int(np.ceil((1 + 64 + 102 + 53 + 28 + 4)*395/1011))}\n",
    "testset_mel['n'] = 395 - testset_mel['p']"
   ]
  },
  {
   "cell_type": "code",
   "execution_count": 360,
   "metadata": {},
   "outputs": [
    {
     "data": {
      "text/plain": [
       "{'p': 99, 'n': 296}"
      ]
     },
     "execution_count": 360,
     "metadata": {},
     "output_type": "execute_result"
    }
   ],
   "source": [
    "testset_mel"
   ]
  },
  {
   "cell_type": "code",
   "execution_count": 361,
   "metadata": {},
   "outputs": [
    {
     "name": "stdout",
     "output_type": "stream",
     "text": [
      "101 294\n"
     ]
    }
   ],
   "source": [
    "for p in range(testset_mel['p']-20, testset_mel['p']+20):\n",
    "    n = 395 - p\n",
    "    tmp = check_1_testset_no_kfold_scores(testset={'p': p, 'n': n},\n",
    "                                    scores=scores_mel.iloc[0],\n",
    "                                    eps=1e-3)\n",
    "    if not tmp['inconsistency']:\n",
    "        print(p, n)"
   ]
  },
  {
   "cell_type": "code",
   "execution_count": 362,
   "metadata": {},
   "outputs": [],
   "source": [
    "testset_mel = {'p': 101, 'n': 294}"
   ]
  },
  {
   "cell_type": "code",
   "execution_count": 363,
   "metadata": {},
   "outputs": [
    {
     "name": "stdout",
     "output_type": "stream",
     "text": [
      "0 False\n",
      "1 False\n",
      "2 False\n",
      "3 False\n",
      "4 False\n",
      "5 False\n",
      "6 False\n",
      "7 False\n"
     ]
    }
   ],
   "source": [
    "for idx, row in scores_mel.iterrows():\n",
    "    res = check_1_testset_no_kfold_scores(testset=testset_mel,\n",
    "                                            scores=row,\n",
    "                                            eps=1e-3)\n",
    "    if res['inconsistency']:\n",
    "        n_inconsistent += 1\n",
    "        \n",
    "    print(idx, res['inconsistency'])"
   ]
  },
  {
   "cell_type": "code",
   "execution_count": 364,
   "metadata": {},
   "outputs": [],
   "source": [
    "results.append({'key': 'skin5',\n",
    "                'citations': 322,\n",
    "                'dataset': None,\n",
    "                'epsilon': 1e-3,\n",
    "                'scores': ['ppv', 'sens', 'spec'],\n",
    "                'n_scores': len(scores_bwv_abs) + len(scores_bwv_prs) + len(scores_mel),\n",
    "                'n_inconsistent': n_inconsistent,\n",
    "                'remark': None})"
   ]
  },
  {
   "cell_type": "markdown",
   "metadata": {},
   "source": [
    "# The skin cancer classification using deep convolutional neural network\n",
    "\n",
    "doi : 10.1007/s11042-018-5714-1"
   ]
  },
  {
   "cell_type": "code",
   "execution_count": 365,
   "metadata": {},
   "outputs": [],
   "source": [
    "results.append({'key': 'skin6',\n",
    "                'citations': 313,\n",
    "                'dataset': None,\n",
    "                'epsilon': 1e-3,\n",
    "                'scores': ['acc', 'sens', 'spec'],\n",
    "                'n_scores': None,\n",
    "                'n_inconsistent': None,\n",
    "                'remark': 'Unclear evaluation'})"
   ]
  },
  {
   "cell_type": "markdown",
   "metadata": {},
   "source": [
    "# Skin lesion classification with ensembles of deep convolutional neural networks"
   ]
  },
  {
   "cell_type": "code",
   "execution_count": 366,
   "metadata": {},
   "outputs": [],
   "source": [
    "scores = [['method', 'AVG_ACC', 'M_ACC', 'SK_ACC', 'AVG_AUC', 'M_AUC', 'SK_AUC', 'AVG_SE', 'M_SE', 'SK_SE', 'AVG_SP', 'M_SP', 'SK_SP'],\n",
    "['GoogLeNet',    0.842, 0.818, 0.865, 0.848, 0.794, 0.902, 0.592, 0.496, 0.689, 0.722, 0.613, 0.831],\n",
    "['AlexNet',      0.848, 0.823, 0.872, 0.830, 0.802, 0.859, 0.518, 0.470, 0.567, 0.645, 0.561, 0.728],\n",
    "['ResNet',       0.828, 0.822, 0.833, 0.809, 0.757, 0.861, 0.520, 0.385, 0.656, 0.598, 0.437, 0.759],\n",
    "['VGGNet',       0.813, 0.802, 0.825, 0.808, 0.766, 0.849, 0.434, 0.256, 0.611, 0.636, 0.585, 0.686],\n",
    "['SP',           0.867, 0.845, 0.888, 0.875, 0.832, 0.918, 0.516, 0.376, 0.656, 0.746, 0.654, 0.838],\n",
    "['PP',           0.861, 0.845, 0.877, 0.875, 0.836, 0.913, 0.524, 0.393, 0.656, 0.738, 0.650, 0.826],\n",
    "['SMV',          0.903, 0.875, 0.930, 0.839, 0.789, 0.888, 0.632, 0.487, 0.778, 0.822, 0.766, 0.878],\n",
    "['SMP',          0.868, 0.848, 0.887, 0.884, 0.843, 0.925, 0.551, 0.402, 0.700, 0.763, 0.689, 0.836],\n",
    "['ω(1)SMP',      0.869, 0.850, 0.888, 0.886, 0.844, 0.928, 0.580, 0.427, 0.733, 0.772, 0.689, 0.855],\n",
    "['ω(2)SMP',      0.866, 0.852, 0.880, 0.891, 0.851, 0.930, 0.556, 0.402, 0.711, 0.785, 0.719, 0.851]]"
   ]
  },
  {
   "cell_type": "code",
   "execution_count": 367,
   "metadata": {},
   "outputs": [],
   "source": [
    "scores = pd.DataFrame(scores)\n",
    "scores.columns = scores.iloc[0]\n",
    "scores.index = scores['method']\n",
    "scores = scores.drop('method', axis='rows').drop('method', axis='columns')"
   ]
  },
  {
   "cell_type": "code",
   "execution_count": 368,
   "metadata": {},
   "outputs": [],
   "source": [
    "isic2017m_reduced = {'p': 117, 'n': 393}\n",
    "isic2017sk_reduced = {'p': 90, 'n': 393}"
   ]
  },
  {
   "cell_type": "code",
   "execution_count": 369,
   "metadata": {},
   "outputs": [
    {
     "name": "stdout",
     "output_type": "stream",
     "text": [
      "GoogLeNet True\n",
      "AlexNet True\n",
      "ResNet True\n",
      "VGGNet True\n",
      "SP True\n",
      "PP True\n",
      "SMV True\n",
      "SMP True\n",
      "ω(1)SMP True\n",
      "ω(2)SMP True\n",
      "GoogLeNet True\n",
      "AlexNet True\n",
      "ResNet True\n",
      "VGGNet True\n",
      "SP True\n",
      "PP True\n",
      "SMV True\n",
      "SMP True\n",
      "ω(1)SMP True\n",
      "ω(2)SMP True\n"
     ]
    }
   ],
   "source": [
    "n_inconsistent = 0\n",
    "\n",
    "for idx, row in scores.iterrows():\n",
    "    res = check_1_testset_no_kfold_scores(testset=isic2017m,\n",
    "                                            scores={'acc': row['M_ACC'],\n",
    "                                                    'sens': row['M_SE'],\n",
    "                                                    'spec': row['M_SP']},\n",
    "                                            eps=1e-3)\n",
    "    if res['inconsistency']:\n",
    "        n_inconsistent += 1\n",
    "        \n",
    "    print(idx, res['inconsistency'])\n",
    "\n",
    "for idx, row in scores.iterrows():\n",
    "    res = check_1_testset_no_kfold_scores(testset=isic2017sk,\n",
    "                                            scores={'acc': row['SK_ACC'],\n",
    "                                                    'sens': row['SK_SE'],\n",
    "                                                    'spec': row['SK_SP']},\n",
    "                                            eps=1e-3)\n",
    "    if res['inconsistency']:\n",
    "        n_inconsistent += 1\n",
    "        \n",
    "    print(idx, res['inconsistency'])"
   ]
  },
  {
   "cell_type": "code",
   "execution_count": 370,
   "metadata": {},
   "outputs": [
    {
     "name": "stdout",
     "output_type": "stream",
     "text": [
      "GoogLeNet True\n",
      "AlexNet True\n",
      "ResNet True\n",
      "VGGNet True\n",
      "SP True\n",
      "PP True\n",
      "SMV True\n",
      "SMP True\n",
      "ω(1)SMP True\n",
      "ω(2)SMP True\n",
      "GoogLeNet True\n",
      "AlexNet True\n",
      "ResNet True\n",
      "VGGNet True\n",
      "SP True\n",
      "PP True\n",
      "SMV True\n",
      "SMP True\n",
      "ω(1)SMP True\n",
      "ω(2)SMP True\n"
     ]
    }
   ],
   "source": [
    "for idx, row in scores.iterrows():\n",
    "    res = check_1_testset_no_kfold_scores(testset=isic2017m_reduced,\n",
    "                                            scores={'acc': row['M_ACC'],\n",
    "                                                    'sens': row['M_SE'],\n",
    "                                                    'spec': row['M_SP']},\n",
    "                                            eps=1e-3)\n",
    "        \n",
    "    print(idx, res['inconsistency'])\n",
    "\n",
    "for idx, row in scores.iterrows():\n",
    "    res = check_1_testset_no_kfold_scores(testset=isic2017sk_reduced,\n",
    "                                            scores={'acc': row['SK_ACC'],\n",
    "                                                    'sens': row['SK_SE'],\n",
    "                                                    'spec': row['SK_SP']},\n",
    "                                            eps=1e-3)\n",
    "\n",
    "    print(idx, res['inconsistency'])"
   ]
  },
  {
   "cell_type": "code",
   "execution_count": 371,
   "metadata": {},
   "outputs": [],
   "source": [
    "results.append({'key': 'skin7',\n",
    "                'citations': 312,\n",
    "                'dataset': 'isic2017?',\n",
    "                'epsilon': 1e-3,\n",
    "                'scores': ['acc', 'sens', 'spec'],\n",
    "                'n_scores': len(scores)*2,\n",
    "                'n_inconsistent': n_inconsistent,\n",
    "                'remark': 'Two hypothesis tested'})"
   ]
  },
  {
   "cell_type": "markdown",
   "metadata": {},
   "source": [
    "# Melanoma classification on dermoscopy images using a neural network ensemble model\n",
    "\n",
    "doi: 10.1109/TMI.2016.2633551"
   ]
  },
  {
   "cell_type": "code",
   "execution_count": 372,
   "metadata": {},
   "outputs": [],
   "source": [
    "scores_x = pd.DataFrame({'acc': [0.9083, 0.9083, 0.9, 0.8833, 0.9167, 0.8917, 0.85, 0.8750, 0.9417],\n",
    "                            'sens': [0.8250, 0.8, 0.775, 0.8, 0.875, 0.85, 0.65, 0.7, 0.95],\n",
    "                            'spec': [0.95, 0.9625, 0.9625, 0.925, 0.9375, 0.9125, 0.95, 0.9625, 0.9375]})\n",
    "scores_c = pd.DataFrame({'acc': [0.8722, 0.8833, 0.8222, 0.8778, 0.8778, 0.8722, 0.7722, 0.8389, 0.9111],\n",
    "                            'sens': [0.7, 0.7333, 0.5167, 0.7167, 0.75, 0.75, 0.6333, 0.7333, 0.8333],\n",
    "                            'spec': [0.9583, 0.9583, 0.975, 0.9583, 0.9417, 0.9333, 0.8417, 0.8917, 0.95]})\n",
    "\n",
    "testset_x = {'p': 80, 'n': 160}\n",
    "testset_c = {'p': 120, 'n': 240}"
   ]
  },
  {
   "cell_type": "code",
   "execution_count": 373,
   "metadata": {},
   "outputs": [
    {
     "name": "stdout",
     "output_type": "stream",
     "text": [
      "0 False\n",
      "1 False\n",
      "2 False\n",
      "3 False\n",
      "4 False\n",
      "5 False\n",
      "6 False\n",
      "7 False\n",
      "8 False\n",
      "0 False\n",
      "1 False\n",
      "2 False\n",
      "3 False\n",
      "4 False\n",
      "5 False\n",
      "6 False\n",
      "7 False\n",
      "8 False\n"
     ]
    }
   ],
   "source": [
    "n_inconsistent = 0\n",
    "\n",
    "for idx, row in scores_x.iterrows():\n",
    "    res = check_1_testset_no_kfold_scores(testset=testset_x,\n",
    "                                            scores=row,\n",
    "                                            eps=1e-4)\n",
    "    if res['inconsistency']:\n",
    "        n_inconsistent += 1\n",
    "        \n",
    "    print(idx, res['inconsistency'])\n",
    "    \n",
    "for idx, row in scores_c.iterrows():\n",
    "    res = check_1_testset_no_kfold_scores(testset=testset_c,\n",
    "                                            scores=row,\n",
    "                                            eps=1e-4)\n",
    "    if res['inconsistency']:\n",
    "        n_inconsistent += 1\n",
    "        \n",
    "    print(idx, res['inconsistency'])"
   ]
  },
  {
   "cell_type": "code",
   "execution_count": 374,
   "metadata": {},
   "outputs": [],
   "source": [
    "results.append({'key': 'skin8',\n",
    "                'citations': 259,\n",
    "                'dataset': 'custom',\n",
    "                'epsilon': 1e-4,\n",
    "                'scores': ['acc', 'sens', 'spec'],\n",
    "                'n_scores': len(scores_x) + len(scores_c),\n",
    "                'n_inconsistent': n_inconsistent,\n",
    "                'remark': None})"
   ]
  },
  {
   "cell_type": "markdown",
   "metadata": {},
   "source": [
    "# Multiple Skin Lesions Diagnostics via Integrated Deep Convolutional Networks for Segmentation and Classification\n",
    "\n",
    "doi: 10.1016/j.cmpb.2020.105351\n"
   ]
  },
  {
   "cell_type": "code",
   "execution_count": 375,
   "metadata": {},
   "outputs": [],
   "source": [
    "scores_raw = pd.DataFrame({'acc': [0.7230, 0.7625, 0.7995, 0.8179],\n",
    "                        'bacc': [0.7230, 0.7625, 0.7995, 0.8179],\n",
    "                        'sens': [0.7229, 0.7626, 0.7994, 0.8180],\n",
    "                        'spec': [0.6605, 0.6702, 0.6894, 0.7140],\n",
    "                        'f1': [0.4776, 0.5161, 0.5632, 0.5965]})"
   ]
  },
  {
   "cell_type": "code",
   "execution_count": 376,
   "metadata": {},
   "outputs": [],
   "source": [
    "scores = pd.DataFrame({'acc': [0.7704, 0.7995, 0.8179, 0.8127],\n",
    "                        'sens': [0.7704, 0.7995, 0.8180, 0.8126],\n",
    "                        'spec': [0.6622, 0.6793, 0.7140, 0.6525],\n",
    "                        'f1': [0.7839, 0.8085, 0.8259, 0.8173]})"
   ]
  },
  {
   "cell_type": "code",
   "execution_count": 377,
   "metadata": {},
   "outputs": [
    {
     "name": "stdout",
     "output_type": "stream",
     "text": [
      "False (48, [(226, 226)])\n",
      "False (48, [(241, 241)])\n",
      "False (49, [(254, 254)])\n",
      "False (51, [(259, 259)])\n"
     ]
    }
   ],
   "source": [
    "n_inconsistent = 0\n",
    "\n",
    "for idx, row in scores_raw[['acc', 'f1']].iterrows():\n",
    "    res = check_1_testset_no_kfold_scores(testset=isic2016,\n",
    "                                            scores=row,\n",
    "                                            eps=1e-4)\n",
    "    if res['inconsistency']:\n",
    "        n_inconsistent += 1\n",
    "    \n",
    "    print(res['inconsistency'], res['evidence'])"
   ]
  },
  {
   "cell_type": "code",
   "execution_count": 378,
   "metadata": {},
   "outputs": [],
   "source": [
    "results.append({'key': 'skin9',\n",
    "                'citations': 238,\n",
    "                'dataset': 'isic2016',\n",
    "                'epsilon': 1e-4,\n",
    "                'scores': ['acc', 'sens', 'spec', 'f1'],\n",
    "                'n_scores': len(scores_raw) + len(scores),\n",
    "                'n_inconsistent': n_inconsistent,\n",
    "                'remark': ['Incorrect weighting']})"
   ]
  },
  {
   "cell_type": "code",
   "execution_count": 379,
   "metadata": {},
   "outputs": [
    {
     "data": {
      "text/html": [
       "<div>\n",
       "<style scoped>\n",
       "    .dataframe tbody tr th:only-of-type {\n",
       "        vertical-align: middle;\n",
       "    }\n",
       "\n",
       "    .dataframe tbody tr th {\n",
       "        vertical-align: top;\n",
       "    }\n",
       "\n",
       "    .dataframe thead th {\n",
       "        text-align: right;\n",
       "    }\n",
       "</style>\n",
       "<table border=\"1\" class=\"dataframe\">\n",
       "  <thead>\n",
       "    <tr style=\"text-align: right;\">\n",
       "      <th></th>\n",
       "      <th>key</th>\n",
       "      <th>citations</th>\n",
       "      <th>dataset</th>\n",
       "      <th>epsilon</th>\n",
       "      <th>scores</th>\n",
       "      <th>n_scores</th>\n",
       "      <th>n_inconsistent</th>\n",
       "      <th>remark</th>\n",
       "    </tr>\n",
       "  </thead>\n",
       "  <tbody>\n",
       "    <tr>\n",
       "      <th>0</th>\n",
       "      <td>skin0</td>\n",
       "      <td>991</td>\n",
       "      <td>isic2016</td>\n",
       "      <td>0.0010</td>\n",
       "      <td>[acc, sens, spec]</td>\n",
       "      <td>10.0</td>\n",
       "      <td>0.0</td>\n",
       "      <td>None</td>\n",
       "    </tr>\n",
       "    <tr>\n",
       "      <th>1</th>\n",
       "      <td>skin1</td>\n",
       "      <td>603</td>\n",
       "      <td>isic2016</td>\n",
       "      <td>0.0010</td>\n",
       "      <td>[acc, sens, spec]</td>\n",
       "      <td>NaN</td>\n",
       "      <td>NaN</td>\n",
       "      <td>The paper is about image segmentation performa...</td>\n",
       "    </tr>\n",
       "    <tr>\n",
       "      <th>2</th>\n",
       "      <td>skin2</td>\n",
       "      <td>574</td>\n",
       "      <td>isic2016</td>\n",
       "      <td>0.0010</td>\n",
       "      <td>[acc, sens, spec]</td>\n",
       "      <td>27.0</td>\n",
       "      <td>3.0</td>\n",
       "      <td>None</td>\n",
       "    </tr>\n",
       "    <tr>\n",
       "      <th>3</th>\n",
       "      <td>skin3</td>\n",
       "      <td>389</td>\n",
       "      <td>isic2017 m/sk</td>\n",
       "      <td>0.0010</td>\n",
       "      <td>[acc, sens, spec]</td>\n",
       "      <td>32.0</td>\n",
       "      <td>2.0</td>\n",
       "      <td>None</td>\n",
       "    </tr>\n",
       "    <tr>\n",
       "      <th>4</th>\n",
       "      <td>skin4</td>\n",
       "      <td>389</td>\n",
       "      <td>custom</td>\n",
       "      <td>0.0010</td>\n",
       "      <td>[sens, spec]</td>\n",
       "      <td>NaN</td>\n",
       "      <td>NaN</td>\n",
       "      <td>Unclear evaluation methodology</td>\n",
       "    </tr>\n",
       "    <tr>\n",
       "      <th>5</th>\n",
       "      <td>skin5</td>\n",
       "      <td>322</td>\n",
       "      <td>None</td>\n",
       "      <td>0.0010</td>\n",
       "      <td>[ppv, sens, spec]</td>\n",
       "      <td>16.0</td>\n",
       "      <td>0.0</td>\n",
       "      <td>None</td>\n",
       "    </tr>\n",
       "    <tr>\n",
       "      <th>6</th>\n",
       "      <td>skin6</td>\n",
       "      <td>313</td>\n",
       "      <td>None</td>\n",
       "      <td>0.0010</td>\n",
       "      <td>[acc, sens, spec]</td>\n",
       "      <td>NaN</td>\n",
       "      <td>NaN</td>\n",
       "      <td>Unclear evaluation</td>\n",
       "    </tr>\n",
       "    <tr>\n",
       "      <th>7</th>\n",
       "      <td>skin7</td>\n",
       "      <td>312</td>\n",
       "      <td>isic2017?</td>\n",
       "      <td>0.0010</td>\n",
       "      <td>[acc, sens, spec]</td>\n",
       "      <td>20.0</td>\n",
       "      <td>20.0</td>\n",
       "      <td>Two hypothesis tested</td>\n",
       "    </tr>\n",
       "    <tr>\n",
       "      <th>8</th>\n",
       "      <td>skin8</td>\n",
       "      <td>259</td>\n",
       "      <td>custom</td>\n",
       "      <td>0.0001</td>\n",
       "      <td>[acc, sens, spec]</td>\n",
       "      <td>18.0</td>\n",
       "      <td>0.0</td>\n",
       "      <td>None</td>\n",
       "    </tr>\n",
       "    <tr>\n",
       "      <th>9</th>\n",
       "      <td>skin9</td>\n",
       "      <td>238</td>\n",
       "      <td>isic2016</td>\n",
       "      <td>0.0001</td>\n",
       "      <td>[acc, sens, spec, f1]</td>\n",
       "      <td>8.0</td>\n",
       "      <td>0.0</td>\n",
       "      <td>[Incorrect weighting]</td>\n",
       "    </tr>\n",
       "  </tbody>\n",
       "</table>\n",
       "</div>"
      ],
      "text/plain": [
       "     key  citations        dataset  epsilon                 scores  n_scores   \n",
       "0  skin0        991       isic2016   0.0010      [acc, sens, spec]      10.0  \\\n",
       "1  skin1        603       isic2016   0.0010      [acc, sens, spec]       NaN   \n",
       "2  skin2        574       isic2016   0.0010      [acc, sens, spec]      27.0   \n",
       "3  skin3        389  isic2017 m/sk   0.0010      [acc, sens, spec]      32.0   \n",
       "4  skin4        389         custom   0.0010           [sens, spec]       NaN   \n",
       "5  skin5        322           None   0.0010      [ppv, sens, spec]      16.0   \n",
       "6  skin6        313           None   0.0010      [acc, sens, spec]       NaN   \n",
       "7  skin7        312      isic2017?   0.0010      [acc, sens, spec]      20.0   \n",
       "8  skin8        259         custom   0.0001      [acc, sens, spec]      18.0   \n",
       "9  skin9        238       isic2016   0.0001  [acc, sens, spec, f1]       8.0   \n",
       "\n",
       "   n_inconsistent                                             remark  \n",
       "0             0.0                                               None  \n",
       "1             NaN  The paper is about image segmentation performa...  \n",
       "2             3.0                                               None  \n",
       "3             2.0                                               None  \n",
       "4             NaN                     Unclear evaluation methodology  \n",
       "5             0.0                                               None  \n",
       "6             NaN                                 Unclear evaluation  \n",
       "7            20.0                              Two hypothesis tested  \n",
       "8             0.0                                               None  \n",
       "9             0.0                              [Incorrect weighting]  "
      ]
     },
     "execution_count": 379,
     "metadata": {},
     "output_type": "execute_result"
    }
   ],
   "source": [
    "pd.DataFrame(results)"
   ]
  },
  {
   "cell_type": "code",
   "execution_count": null,
   "metadata": {},
   "outputs": [],
   "source": []
  }
 ],
 "metadata": {
  "kernelspec": {
   "display_name": "mlscorecheck",
   "language": "python",
   "name": "python3"
  },
  "language_info": {
   "codemirror_mode": {
    "name": "ipython",
    "version": 3
   },
   "file_extension": ".py",
   "mimetype": "text/x-python",
   "name": "python",
   "nbconvert_exporter": "python",
   "pygments_lexer": "ipython3",
   "version": "3.10.0"
  },
  "orig_nbformat": 4
 },
 "nbformat": 4,
 "nbformat_minor": 2
}
