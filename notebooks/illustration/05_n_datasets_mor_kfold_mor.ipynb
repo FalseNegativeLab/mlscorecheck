{
 "cells": [
  {
   "cell_type": "code",
   "execution_count": 17,
   "metadata": {},
   "outputs": [],
   "source": [
    "from mlscorecheck.aggregated import generate_datasets_and_scores\n",
    "from mlscorecheck.check import check_n_datasets_mor_kfold_mor_scores"
   ]
  },
  {
   "cell_type": "code",
   "execution_count": 18,
   "metadata": {},
   "outputs": [],
   "source": [
    "datasets = [{'folds': [{'p': 22, 'n': 23}, \n",
    "                        {'p': 96, 'n': 72}]},\n",
    "            {'p': 781, 'n': 423, 'n_folds': 1, 'n_repeats': 3},\n",
    "            {'name': 'common_datasets.glass_0_6_vs_5',\n",
    "            'n_folds': 6,\n",
    "            'n_repeats': 1,\n",
    "            'folding': 'stratified_sklearn'}]\n",
    "scores = {'acc': 0.541, 'sens': 0.32, 'spec': 0.728, 'bacc': 0.524}"
   ]
  },
  {
   "cell_type": "code",
   "execution_count": 19,
   "metadata": {},
   "outputs": [
    {
     "name": "stderr",
     "output_type": "stream",
     "text": [
      "2023-08-28 13:38:04,053:INFO:generating a random id for the dataset\n",
      "2023-08-28 13:38:04,054:INFO:a random identifier for the fold has been generated madhpqsehjmxngfi\n",
      "2023-08-28 13:38:04,055:INFO:a random identifier for the fold has been generated lrehanqtzablojdw\n",
      "2023-08-28 13:38:04,056:INFO:generating a random id for the dataset\n",
      "2023-08-28 13:38:04,056:INFO:a random identifier for the fold has been generated nfdgubnwzmtzusuo\n",
      "2023-08-28 13:38:04,057:INFO:a random identifier for the fold has been generated naynfibujlvgzvhx\n",
      "2023-08-28 13:38:04,058:INFO:a random identifier for the fold has been generated oyefwbqklhptludc\n",
      "2023-08-28 13:38:04,060:INFO:None: adding condition acc >= 0.540000\n",
      "2023-08-28 13:38:04,061:INFO:None: adding condition acc <= 0.542000\n",
      "2023-08-28 13:38:04,063:INFO:None: adding condition sens >= 0.319000\n",
      "2023-08-28 13:38:04,063:INFO:None: adding condition sens <= 0.321000\n",
      "2023-08-28 13:38:04,065:INFO:None: adding condition spec >= 0.727000\n",
      "2023-08-28 13:38:04,066:INFO:None: adding condition spec <= 0.729000\n",
      "2023-08-28 13:38:04,066:INFO:None: adding condition bacc >= 0.523000\n",
      "2023-08-28 13:38:04,067:INFO:None: adding condition bacc <= 0.525000\n"
     ]
    },
    {
     "name": "stdout",
     "output_type": "stream",
     "text": [
      "Welcome to the CBC MILP Solver \n",
      "Version: 2.10.3 \n",
      "Build Date: Dec 15 2019 \n",
      "\n",
      "command line - /home/gykovacs/anaconda3/envs/mlscorecheck/lib/python3.10/site-packages/pulp/solverdir/cbc/linux/64/cbc /tmp/634beed3da9540a797f332396f799e35-pulp.mps timeMode elapsed branch printingOptions all solution /tmp/634beed3da9540a797f332396f799e35-pulp.sol (default strategy 1)\n",
      "At line 2 NAME          MODEL\n",
      "At line 3 ROWS\n",
      "At line 13 COLUMNS\n",
      "At line 191 RHS\n",
      "At line 200 BOUNDS\n",
      "At line 224 ENDATA\n",
      "Problem MODEL has 8 rows, 23 columns and 132 elements\n",
      "Coin0008I MODEL read with 0 errors\n",
      "Option for timeMode changed from cpu to elapsed\n",
      "Continuous objective value is 0 - 0.00 seconds\n",
      "Cgl0004I processed model has 4 rows, 10 columns (10 integer (0 of which binary)) and 30 elements\n",
      "Cbc0012I Integer solution of 0 found by DiveCoefficient after 3 iterations and 0 nodes (0.00 seconds)\n",
      "Cbc0031I 3 added rows had average density of 8.3333333\n",
      "Cbc0013I At root node, 3 cuts changed objective from 0 to 0 in 4 passes\n",
      "Cbc0014I Cut generator 0 (Probing) - 0 row cuts average 0.0 elements, 0 column cuts (0 active)  in 0.000 seconds - new frequency is -100\n",
      "Cbc0014I Cut generator 1 (Gomory) - 5 row cuts average 8.6 elements, 0 column cuts (0 active)  in 0.000 seconds - new frequency is -100\n",
      "Cbc0014I Cut generator 2 (Knapsack) - 0 row cuts average 0.0 elements, 0 column cuts (0 active)  in 0.000 seconds - new frequency is -100\n",
      "Cbc0014I Cut generator 3 (Clique) - 0 row cuts average 0.0 elements, 0 column cuts (0 active)  in 0.000 seconds - new frequency is -100\n",
      "Cbc0014I Cut generator 4 (MixedIntegerRounding2) - 0 row cuts average 0.0 elements, 0 column cuts (0 active)  in 0.000 seconds - new frequency is -100\n",
      "Cbc0014I Cut generator 5 (FlowCover) - 0 row cuts average 0.0 elements, 0 column cuts (0 active)  in 0.000 seconds - new frequency is -100\n",
      "Cbc0014I Cut generator 6 (TwoMirCuts) - 4 row cuts average 8.2 elements, 0 column cuts (0 active)  in 0.000 seconds - new frequency is -100\n",
      "Cbc0001I Search completed - best objective 0, took 3 iterations and 0 nodes (0.00 seconds)\n",
      "Cbc0035I Maximum depth 0, 0 variables fixed on reduced cost\n",
      "Cuts at root node changed objective from 0 to 0\n",
      "Probing was tried 4 times and created 0 cuts of which 0 were active after adding rounds of cuts (0.000 seconds)\n",
      "Gomory was tried 4 times and created 5 cuts of which 0 were active after adding rounds of cuts (0.000 seconds)\n",
      "Knapsack was tried 4 times and created 0 cuts of which 0 were active after adding rounds of cuts (0.000 seconds)\n",
      "Clique was tried 4 times and created 0 cuts of which 0 were active after adding rounds of cuts (0.000 seconds)\n",
      "MixedIntegerRounding2 was tried 4 times and created 0 cuts of which 0 were active after adding rounds of cuts (0.000 seconds)\n",
      "FlowCover was tried 4 times and created 0 cuts of which 0 were active after adding rounds of cuts (0.000 seconds)\n",
      "TwoMirCuts was tried 4 times and created 4 cuts of which 0 were active after adding rounds of cuts (0.000 seconds)\n",
      "ZeroHalf was tried 1 times and created 0 cuts of which 0 were active after adding rounds of cuts (0.000 seconds)\n",
      "\n",
      "Result - Optimal solution found\n",
      "\n",
      "Objective value:                0.00000000\n",
      "Enumerated nodes:               0\n",
      "Total iterations:               3\n",
      "Time (CPU seconds):             0.00\n",
      "Time (Wallclock seconds):       0.00\n",
      "\n",
      "Option for printingOptions changed from normal to all\n",
      "Total time (CPU seconds):       0.00   (Wallclock seconds):       0.00\n",
      "\n"
     ]
    },
    {
     "data": {
      "text/plain": [
       "False"
      ]
     },
     "execution_count": 19,
     "metadata": {},
     "output_type": "execute_result"
    }
   ],
   "source": [
    "result = check_n_datasets_mor_kfold_mor_scores(datasets=datasets,\n",
    "                                                scores=scores,\n",
    "                                                eps=1e-3)\n",
    "result['inconsistency']"
   ]
  },
  {
   "cell_type": "code",
   "execution_count": 20,
   "metadata": {},
   "outputs": [],
   "source": [
    "datasets = [{'name': 'common_datasets.ecoli_0_2_3_4_vs_5',\n",
    "            'n_folds': 4,\n",
    "            'n_repeats': 3,\n",
    "            'folding': 'stratified_sklearn',\n",
    "            'score_bounds': {'sens': (0.33, 0.74)}},\n",
    "            {'p': 355,\n",
    "            'n': 438,\n",
    "            'n_folds': 1,\n",
    "            'n_repeats': 3,\n",
    "            'score_bounds': {'spec': (0.49, 0.90)}}]\n",
    "scores = {'acc': 0.532, 'sens': 0.417, 'spec': 0.622, 'bacc': 0.519}"
   ]
  },
  {
   "cell_type": "code",
   "execution_count": 21,
   "metadata": {},
   "outputs": [
    {
     "name": "stderr",
     "output_type": "stream",
     "text": [
      "2023-08-28 13:38:04,104:INFO:generating a random id for the dataset\n",
      "2023-08-28 13:38:04,105:INFO:a random identifier for the fold has been generated bubzchdexoqbtvqf\n",
      "2023-08-28 13:38:04,106:INFO:a random identifier for the fold has been generated qekdnsxrdqxnmbog\n",
      "2023-08-28 13:38:04,107:INFO:a random identifier for the fold has been generated bypjekpfdoztwjtw\n",
      "2023-08-28 13:38:04,108:INFO:dataset common_datasets.ecoli_0_2_3_4_vs_5: adding lower bound 0.33 for sens\n",
      "2023-08-28 13:38:04,109:INFO:dataset common_datasets.ecoli_0_2_3_4_vs_5: adding upper bound 0.74 for sens\n",
      "2023-08-28 13:38:04,110:INFO:dataset ommmzwmiaxmeyprw: adding lower bound 0.49 for spec\n",
      "2023-08-28 13:38:04,110:INFO:dataset ommmzwmiaxmeyprw: adding upper bound 0.9 for spec\n",
      "2023-08-28 13:38:04,111:INFO:None: adding condition acc >= 0.531000\n",
      "2023-08-28 13:38:04,112:INFO:None: adding condition acc <= 0.533000\n",
      "2023-08-28 13:38:04,113:INFO:None: adding condition sens >= 0.416000\n",
      "2023-08-28 13:38:04,113:INFO:None: adding condition sens <= 0.418000\n",
      "2023-08-28 13:38:04,114:INFO:None: adding condition spec >= 0.621000\n",
      "2023-08-28 13:38:04,115:INFO:None: adding condition spec <= 0.623000\n",
      "2023-08-28 13:38:04,116:INFO:None: adding condition bacc >= 0.518000\n",
      "2023-08-28 13:38:04,117:INFO:None: adding condition bacc <= 0.520000\n"
     ]
    },
    {
     "name": "stdout",
     "output_type": "stream",
     "text": [
      "Welcome to the CBC MILP Solver \n",
      "Version: 2.10.3 \n",
      "Build Date: Dec 15 2019 \n",
      "\n",
      "command line - /home/gykovacs/anaconda3/envs/mlscorecheck/lib/python3.10/site-packages/pulp/solverdir/cbc/linux/64/cbc /tmp/6557de971ec348f189f15d02d23cabc9-pulp.mps timeMode elapsed branch printingOptions all solution /tmp/6557de971ec348f189f15d02d23cabc9-pulp.sol (default strategy 1)\n",
      "At line 2 NAME          MODEL\n",
      "At line 3 ROWS\n",
      "At line 17 COLUMNS\n",
      "At line 289 RHS\n",
      "At line 302 BOUNDS\n",
      "At line 334 ENDATA\n",
      "Problem MODEL has 12 rows, 31 columns and 210 elements\n",
      "Coin0008I MODEL read with 0 errors\n",
      "Option for timeMode changed from cpu to elapsed\n",
      "Continuous objective value is 0 - 0.00 seconds\n",
      "Cgl0004I processed model has 5 rows, 6 columns (6 integer (0 of which binary)) and 20 elements\n",
      "Cbc0012I Integer solution of 0 found by DiveCoefficient after 20 iterations and 0 nodes (0.00 seconds)\n",
      "Cbc0031I 3 added rows had average density of 6\n",
      "Cbc0013I At root node, 3 cuts changed objective from 0 to 0 in 13 passes\n",
      "Cbc0014I Cut generator 0 (Probing) - 0 row cuts average 0.0 elements, 0 column cuts (0 active)  in 0.000 seconds - new frequency is -100\n",
      "Cbc0014I Cut generator 1 (Gomory) - 24 row cuts average 4.9 elements, 0 column cuts (0 active)  in 0.000 seconds - new frequency is -100\n",
      "Cbc0014I Cut generator 2 (Knapsack) - 0 row cuts average 0.0 elements, 0 column cuts (0 active)  in 0.000 seconds - new frequency is -100\n",
      "Cbc0014I Cut generator 3 (Clique) - 0 row cuts average 0.0 elements, 0 column cuts (0 active)  in 0.000 seconds - new frequency is -100\n",
      "Cbc0014I Cut generator 4 (MixedIntegerRounding2) - 0 row cuts average 0.0 elements, 0 column cuts (0 active)  in 0.000 seconds - new frequency is -100\n",
      "Cbc0014I Cut generator 5 (FlowCover) - 0 row cuts average 0.0 elements, 0 column cuts (0 active)  in 0.000 seconds - new frequency is -100\n",
      "Cbc0014I Cut generator 6 (TwoMirCuts) - 12 row cuts average 4.4 elements, 0 column cuts (0 active)  in 0.000 seconds - new frequency is -100\n",
      "Cbc0001I Search completed - best objective 0, took 20 iterations and 0 nodes (0.00 seconds)\n",
      "Cbc0035I Maximum depth 0, 0 variables fixed on reduced cost\n",
      "Cuts at root node changed objective from 0 to 0\n",
      "Probing was tried 13 times and created 0 cuts of which 0 were active after adding rounds of cuts (0.000 seconds)\n",
      "Gomory was tried 13 times and created 24 cuts of which 0 were active after adding rounds of cuts (0.000 seconds)\n",
      "Knapsack was tried 13 times and created 0 cuts of which 0 were active after adding rounds of cuts (0.000 seconds)\n",
      "Clique was tried 13 times and created 0 cuts of which 0 were active after adding rounds of cuts (0.000 seconds)\n",
      "MixedIntegerRounding2 was tried 13 times and created 0 cuts of which 0 were active after adding rounds of cuts (0.000 seconds)\n",
      "FlowCover was tried 13 times and created 0 cuts of which 0 were active after adding rounds of cuts (0.000 seconds)\n",
      "TwoMirCuts was tried 13 times and created 12 cuts of which 0 were active after adding rounds of cuts (0.000 seconds)\n",
      "ZeroHalf was tried 1 times and created 0 cuts of which 0 were active after adding rounds of cuts (0.000 seconds)\n",
      "\n",
      "Result - Optimal solution found\n",
      "\n",
      "Objective value:                0.00000000\n",
      "Enumerated nodes:               0\n",
      "Total iterations:               20\n",
      "Time (CPU seconds):             0.00\n",
      "Time (Wallclock seconds):       0.00\n",
      "\n",
      "Option for printingOptions changed from normal to all\n",
      "Total time (CPU seconds):       0.00   (Wallclock seconds):       0.00\n",
      "\n"
     ]
    },
    {
     "data": {
      "text/plain": [
       "False"
      ]
     },
     "execution_count": 21,
     "metadata": {},
     "output_type": "execute_result"
    }
   ],
   "source": [
    "result = check_n_datasets_mor_kfold_mor_scores(datasets=datasets,\n",
    "                                                scores=scores,\n",
    "                                                eps=1e-3)\n",
    "result['inconsistency']"
   ]
  },
  {
   "cell_type": "code",
   "execution_count": 22,
   "metadata": {},
   "outputs": [],
   "source": [
    "datasets = [{'name': 'common_datasets.ecoli_0_2_3_4_vs_5',\n",
    "            'n_folds': 4,\n",
    "            'n_repeats': 3,\n",
    "            'folding': 'stratified_sklearn',\n",
    "            'score_bounds': {'sens': (0.8, 1.0)}},\n",
    "            {'p': 355,\n",
    "            'n': 438,\n",
    "            'n_folds': 1,\n",
    "            'n_repeats': 3,\n",
    "            'score_bounds': {'spec': (0.8, 1.0)}}]\n",
    "scores = {'acc': 0.532, 'sens': 0.417, 'spec': 0.622, 'bacc': 0.519}"
   ]
  },
  {
   "cell_type": "code",
   "execution_count": 23,
   "metadata": {},
   "outputs": [
    {
     "name": "stderr",
     "output_type": "stream",
     "text": [
      "2023-08-28 13:38:04,154:INFO:generating a random id for the dataset\n",
      "2023-08-28 13:38:04,156:INFO:a random identifier for the fold has been generated kadgtagdteyknelm\n",
      "2023-08-28 13:38:04,157:INFO:a random identifier for the fold has been generated hxlnwtxiixmldhuj\n",
      "2023-08-28 13:38:04,158:INFO:a random identifier for the fold has been generated qrxwlnjlaphtuovn\n",
      "2023-08-28 13:38:04,160:INFO:dataset common_datasets.ecoli_0_2_3_4_vs_5: adding lower bound 0.8 for sens\n",
      "2023-08-28 13:38:04,161:INFO:dataset common_datasets.ecoli_0_2_3_4_vs_5: adding upper bound 1.0 for sens\n",
      "2023-08-28 13:38:04,162:INFO:dataset pdjcspobkzxirqvy: adding lower bound 0.8 for spec\n",
      "2023-08-28 13:38:04,163:INFO:dataset pdjcspobkzxirqvy: adding upper bound 1.0 for spec\n",
      "2023-08-28 13:38:04,164:INFO:None: adding condition acc >= 0.531000\n",
      "2023-08-28 13:38:04,165:INFO:None: adding condition acc <= 0.533000\n",
      "2023-08-28 13:38:04,166:INFO:None: adding condition sens >= 0.416000\n",
      "2023-08-28 13:38:04,167:INFO:None: adding condition sens <= 0.418000\n",
      "2023-08-28 13:38:04,168:INFO:None: adding condition spec >= 0.621000\n",
      "2023-08-28 13:38:04,170:INFO:None: adding condition spec <= 0.623000\n",
      "2023-08-28 13:38:04,171:INFO:None: adding condition bacc >= 0.518000\n",
      "2023-08-28 13:38:04,172:INFO:None: adding condition bacc <= 0.520000\n"
     ]
    },
    {
     "name": "stdout",
     "output_type": "stream",
     "text": [
      "Welcome to the CBC MILP Solver \n",
      "Version: 2.10.3 \n",
      "Build Date: Dec 15 2019 \n",
      "\n",
      "command line - /home/gykovacs/anaconda3/envs/mlscorecheck/lib/python3.10/site-packages/pulp/solverdir/cbc/linux/64/cbc /tmp/b2aebaf06fcb4b29a7d8265ce2df3497-pulp.mps timeMode elapsed branch printingOptions all solution /tmp/b2aebaf06fcb4b29a7d8265ce2df3497-pulp.sol (default strategy 1)\n",
      "At line 2 NAME          MODEL\n",
      "At line 3 ROWS\n",
      "At line 17 COLUMNS\n",
      "At line 289 RHS\n",
      "At line 302 BOUNDS\n",
      "At line 334 ENDATA\n",
      "Problem MODEL has 12 rows, 31 columns and 210 elements\n",
      "Coin0008I MODEL read with 0 errors\n",
      "Option for timeMode changed from cpu to elapsed\n",
      "Problem is infeasible - 0.00 seconds\n",
      "Option for printingOptions changed from normal to all\n",
      "Total time (CPU seconds):       0.00   (Wallclock seconds):       0.00\n",
      "\n"
     ]
    },
    {
     "data": {
      "text/plain": [
       "True"
      ]
     },
     "execution_count": 23,
     "metadata": {},
     "output_type": "execute_result"
    }
   ],
   "source": [
    "result = check_n_datasets_mor_kfold_mor_scores(datasets=datasets,\n",
    "                                                scores=scores,\n",
    "                                                eps=1e-3)\n",
    "result['inconsistency']"
   ]
  },
  {
   "cell_type": "code",
   "execution_count": 24,
   "metadata": {},
   "outputs": [
    {
     "name": "stderr",
     "output_type": "stream",
     "text": [
      "2023-08-28 13:38:04,194:INFO:generating a random id for the dataset\n",
      "2023-08-28 13:38:04,196:INFO:a random identifier for the fold has been generated icszllojjcvwfgle\n",
      "2023-08-28 13:38:04,196:INFO:a random identifier for the fold has been generated syfbllhestdktjim\n",
      "2023-08-28 13:38:04,197:INFO:a random identifier for the fold has been generated fxecpsubqkojmgck\n",
      "2023-08-28 13:38:04,198:INFO:a random identifier for the fold has been generated gilchlrblchikhol\n",
      "2023-08-28 13:38:04,199:INFO:a random identifier for the fold has been generated lamwrbdfnmtcwxoh\n",
      "2023-08-28 13:38:04,200:INFO:a random identifier for the fold has been generated skmemtkbdlsevbyg\n",
      "2023-08-28 13:38:04,202:INFO:a random identifier for the fold has been generated suutixpptfazibpm\n",
      "2023-08-28 13:38:04,202:INFO:a random identifier for the fold has been generated wbgbnahavhvyllil\n",
      "2023-08-28 13:38:04,203:INFO:a random identifier for the fold has been generated qsfgzvdgbdczlfws\n"
     ]
    },
    {
     "data": {
      "text/plain": [
       "([{'folds': [{'p': 37, 'n': 3},\n",
       "    {'p': 54, 'n': 39},\n",
       "    {'p': 49, 'n': 5},\n",
       "    {'p': 94, 'n': 59},\n",
       "    {'p': 70, 'n': 54},\n",
       "    {'p': 70, 'n': 85},\n",
       "    {'p': 73, 'n': 21},\n",
       "    {'p': 69, 'n': 76},\n",
       "    {'p': 12, 'n': 91}],\n",
       "   'score_bounds': {'acc': (0.26360090740837744, 0.6636009074083775),\n",
       "    'sens': (0.3259050192971898, 0.7259050192971899),\n",
       "    'spec': (0.11473714888674691, 0.5147371488867469),\n",
       "    'bacc': (0.22032108409196838, 0.6203210840919684)}},\n",
       "  {'p': 138,\n",
       "   'n': 756,\n",
       "   'n_folds': 3,\n",
       "   'n_repeats': 2,\n",
       "   'folding': 'stratified_sklearn',\n",
       "   'score_bounds': {'acc': (0.335234899328859, 0.7352348993288591),\n",
       "    'sens': (0.2239130434782609, 0.6239130434782609),\n",
       "    'spec': (0.35555555555555546, 0.7555555555555555),\n",
       "    'bacc': (0.2897342995169082, 0.6897342995169082)}},\n",
       "  {'p': 665,\n",
       "   'n': 608,\n",
       "   'n_folds': 5,\n",
       "   'n_repeats': 2,\n",
       "   'folding': 'stratified_sklearn',\n",
       "   'score_bounds': {'acc': (0.3049853327157635, 0.7049853327157636),\n",
       "    'sens': (0.3210526315789473, 0.7210526315789474),\n",
       "    'spec': (0.2871291152960303, 0.6871291152960304),\n",
       "    'bacc': (0.3040908734374888, 0.7040908734374889)}}],\n",
       " {'acc': 0.501, 'sens': 0.49, 'spec': 0.452, 'bacc': 0.471})"
      ]
     },
     "execution_count": 24,
     "metadata": {},
     "output_type": "execute_result"
    }
   ],
   "source": [
    "datasets, scores = generate_datasets_and_scores(max_n_datasets=3,\n",
    "                                rounding_decimals=3,\n",
    "                                ds_score_bounds=True,\n",
    "                                score_subset=['acc', 'sens', 'spec', 'bacc'],\n",
    "                                aggregation='mor',\n",
    "                                aggregation_ds='mor')\n",
    "datasets, scores"
   ]
  },
  {
   "cell_type": "code",
   "execution_count": 25,
   "metadata": {},
   "outputs": [
    {
     "name": "stderr",
     "output_type": "stream",
     "text": [
      "2023-08-28 13:38:04,218:INFO:generating a random id for the dataset\n",
      "2023-08-28 13:38:04,220:INFO:a random identifier for the fold has been generated wqglxjarcezcwhcp\n",
      "2023-08-28 13:38:04,221:INFO:a random identifier for the fold has been generated lrtnugpnjuopdfvm\n",
      "2023-08-28 13:38:04,221:INFO:a random identifier for the fold has been generated centwywzjvabhxax\n",
      "2023-08-28 13:38:04,222:INFO:a random identifier for the fold has been generated nptbfpcjuipwqwmq\n",
      "2023-08-28 13:38:04,223:INFO:a random identifier for the fold has been generated rlzjddogmmavcbis\n",
      "2023-08-28 13:38:04,224:INFO:a random identifier for the fold has been generated ulwlvykqwjpmffgb\n",
      "2023-08-28 13:38:04,227:INFO:a random identifier for the fold has been generated ikysbvimiyllhsgg\n",
      "2023-08-28 13:38:04,228:INFO:a random identifier for the fold has been generated igoosbidezcqacqz\n",
      "2023-08-28 13:38:04,228:INFO:a random identifier for the fold has been generated njvdgqfznagyhvct\n",
      "2023-08-28 13:38:04,229:INFO:generating a random id for the dataset\n",
      "2023-08-28 13:38:04,230:INFO:generating a random id for the dataset\n",
      "2023-08-28 13:38:04,232:INFO:dataset tfpnqwbdnqcxaula: adding lower bound 0.26360090740837744 for acc\n",
      "2023-08-28 13:38:04,233:INFO:dataset tfpnqwbdnqcxaula: adding upper bound 0.6636009074083775 for acc\n",
      "2023-08-28 13:38:04,234:INFO:dataset tfpnqwbdnqcxaula: adding lower bound 0.3259050192971898 for sens\n",
      "2023-08-28 13:38:04,235:INFO:dataset tfpnqwbdnqcxaula: adding upper bound 0.7259050192971899 for sens\n",
      "2023-08-28 13:38:04,235:INFO:dataset tfpnqwbdnqcxaula: adding lower bound 0.11473714888674691 for spec\n",
      "2023-08-28 13:38:04,236:INFO:dataset tfpnqwbdnqcxaula: adding upper bound 0.5147371488867469 for spec\n",
      "2023-08-28 13:38:04,237:INFO:dataset tfpnqwbdnqcxaula: adding lower bound 0.22032108409196838 for bacc\n",
      "2023-08-28 13:38:04,238:INFO:dataset tfpnqwbdnqcxaula: adding upper bound 0.6203210840919684 for bacc\n",
      "2023-08-28 13:38:04,239:INFO:dataset dqhqfsfbservqrqw: adding lower bound 0.335234899328859 for acc\n",
      "2023-08-28 13:38:04,240:INFO:dataset dqhqfsfbservqrqw: adding upper bound 0.7352348993288591 for acc\n",
      "2023-08-28 13:38:04,241:INFO:dataset dqhqfsfbservqrqw: adding lower bound 0.2239130434782609 for sens\n",
      "2023-08-28 13:38:04,243:INFO:dataset dqhqfsfbservqrqw: adding upper bound 0.6239130434782609 for sens\n",
      "2023-08-28 13:38:04,247:INFO:dataset dqhqfsfbservqrqw: adding lower bound 0.35555555555555546 for spec\n",
      "2023-08-28 13:38:04,248:INFO:dataset dqhqfsfbservqrqw: adding upper bound 0.7555555555555555 for spec\n",
      "2023-08-28 13:38:04,249:INFO:dataset dqhqfsfbservqrqw: adding lower bound 0.2897342995169082 for bacc\n",
      "2023-08-28 13:38:04,249:INFO:dataset dqhqfsfbservqrqw: adding upper bound 0.6897342995169082 for bacc\n",
      "2023-08-28 13:38:04,251:INFO:dataset tokrpmvdjrvmtyic: adding lower bound 0.3049853327157635 for acc\n",
      "2023-08-28 13:38:04,252:INFO:dataset tokrpmvdjrvmtyic: adding upper bound 0.7049853327157636 for acc\n",
      "2023-08-28 13:38:04,252:INFO:dataset tokrpmvdjrvmtyic: adding lower bound 0.3210526315789473 for sens\n",
      "2023-08-28 13:38:04,253:INFO:dataset tokrpmvdjrvmtyic: adding upper bound 0.7210526315789474 for sens\n",
      "2023-08-28 13:38:04,254:INFO:dataset tokrpmvdjrvmtyic: adding lower bound 0.2871291152960303 for spec\n",
      "2023-08-28 13:38:04,256:INFO:dataset tokrpmvdjrvmtyic: adding upper bound 0.6871291152960304 for spec\n",
      "2023-08-28 13:38:04,257:INFO:dataset tokrpmvdjrvmtyic: adding lower bound 0.3040908734374888 for bacc\n",
      "2023-08-28 13:38:04,258:INFO:dataset tokrpmvdjrvmtyic: adding upper bound 0.7040908734374889 for bacc\n",
      "2023-08-28 13:38:04,259:INFO:None: adding condition acc >= 0.500000\n",
      "2023-08-28 13:38:04,261:INFO:None: adding condition acc <= 0.502000\n",
      "2023-08-28 13:38:04,262:INFO:None: adding condition sens >= 0.489000\n",
      "2023-08-28 13:38:04,263:INFO:None: adding condition sens <= 0.491000\n",
      "2023-08-28 13:38:04,264:INFO:None: adding condition spec >= 0.451000\n",
      "2023-08-28 13:38:04,265:INFO:None: adding condition spec <= 0.453000\n",
      "2023-08-28 13:38:04,265:INFO:None: adding condition bacc >= 0.470000\n",
      "2023-08-28 13:38:04,266:INFO:None: adding condition bacc <= 0.472000\n"
     ]
    },
    {
     "name": "stdout",
     "output_type": "stream",
     "text": [
      "Welcome to the CBC MILP Solver \n",
      "Version: 2.10.3 \n",
      "Build Date: Dec 15 2019 \n",
      "\n",
      "command line - /home/gykovacs/anaconda3/envs/mlscorecheck/lib/python3.10/site-packages/pulp/solverdir/cbc/linux/64/cbc /tmp/286fe415e325417598f3a983a1813be0-pulp.mps timeMode elapsed branch printingOptions all solution /tmp/286fe415e325417598f3a983a1813be0-pulp.sol (default strategy 1)\n",
      "At line 2 NAME          MODEL\n",
      "At line 3 ROWS\n",
      "At line 37 COLUMNS\n",
      "At line 739 RHS\n",
      "At line 772 BOUNDS\n",
      "At line 824 ENDATA\n",
      "Problem MODEL has 32 rows, 51 columns and 600 elements\n",
      "Coin0008I MODEL read with 0 errors\n",
      "Option for timeMode changed from cpu to elapsed\n",
      "Continuous objective value is 0 - 0.00 seconds\n",
      "Cgl0004I processed model has 12 rows, 24 columns (24 integer (0 of which binary)) and 138 elements\n",
      "Cbc0012I Integer solution of 0 found by DiveCoefficient after 0 iterations and 0 nodes (0.00 seconds)\n",
      "Cbc0001I Search completed - best objective 0, took 0 iterations and 0 nodes (0.00 seconds)\n",
      "Cbc0035I Maximum depth 0, 0 variables fixed on reduced cost\n",
      "Cuts at root node changed objective from 0 to 0\n",
      "Probing was tried 0 times and created 0 cuts of which 0 were active after adding rounds of cuts (0.000 seconds)\n",
      "Gomory was tried 0 times and created 0 cuts of which 0 were active after adding rounds of cuts (0.000 seconds)\n",
      "Knapsack was tried 0 times and created 0 cuts of which 0 were active after adding rounds of cuts (0.000 seconds)\n",
      "Clique was tried 0 times and created 0 cuts of which 0 were active after adding rounds of cuts (0.000 seconds)\n",
      "MixedIntegerRounding2 was tried 0 times and created 0 cuts of which 0 were active after adding rounds of cuts (0.000 seconds)\n",
      "FlowCover was tried 0 times and created 0 cuts of which 0 were active after adding rounds of cuts (0.000 seconds)\n",
      "TwoMirCuts was tried 0 times and created 0 cuts of which 0 were active after adding rounds of cuts (0.000 seconds)\n",
      "ZeroHalf was tried 0 times and created 0 cuts of which 0 were active after adding rounds of cuts (0.000 seconds)\n",
      "\n",
      "Result - Optimal solution found\n",
      "\n",
      "Objective value:                0.00000000\n",
      "Enumerated nodes:               0\n",
      "Total iterations:               0\n",
      "Time (CPU seconds):             0.00\n",
      "Time (Wallclock seconds):       0.00\n",
      "\n",
      "Option for printingOptions changed from normal to all\n",
      "Total time (CPU seconds):       0.00   (Wallclock seconds):       0.00\n",
      "\n"
     ]
    },
    {
     "data": {
      "text/plain": [
       "False"
      ]
     },
     "execution_count": 25,
     "metadata": {},
     "output_type": "execute_result"
    }
   ],
   "source": [
    "result = check_n_datasets_mor_kfold_mor_scores(datasets=datasets,\n",
    "                                                scores=scores,\n",
    "                                                eps=1e-3)\n",
    "result['inconsistency']"
   ]
  }
 ],
 "metadata": {
  "kernelspec": {
   "display_name": "mlscorecheck",
   "language": "python",
   "name": "python3"
  },
  "language_info": {
   "codemirror_mode": {
    "name": "ipython",
    "version": 3
   },
   "file_extension": ".py",
   "mimetype": "text/x-python",
   "name": "python",
   "nbconvert_exporter": "python",
   "pygments_lexer": "ipython3",
   "version": "3.10.0"
  },
  "orig_nbformat": 4
 },
 "nbformat": 4,
 "nbformat_minor": 2
}
