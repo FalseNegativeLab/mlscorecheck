{
 "cells": [
  {
   "cell_type": "code",
   "execution_count": 2,
   "metadata": {},
   "outputs": [],
   "source": [
    "from mlscorecheck.check import check_1_testset_no_kfold_scores\n",
    "from mlscorecheck.individual import calculate_scores, generate_problem_and_scores"
   ]
  },
  {
   "cell_type": "code",
   "execution_count": 9,
   "metadata": {},
   "outputs": [
    {
     "data": {
      "text/plain": [
       "({'p': 530, 'n': 902},\n",
       " {'acc': 0.62, 'sens': 0.22, 'spec': 0.86, 'f1p': 0.3, 'fm': 0.32})"
      ]
     },
     "execution_count": 9,
     "metadata": {},
     "output_type": "execute_result"
    }
   ],
   "source": [
    "problem, scores = generate_problem_and_scores(rounding_decimals=2, \n",
    "                                            score_subset=['acc', 'sens', 'spec', \n",
    "                                                            'f1p', 'fm'])\n",
    "problem, scores"
   ]
  },
  {
   "cell_type": "code",
   "execution_count": 10,
   "metadata": {},
   "outputs": [
    {
     "name": "stderr",
     "output_type": "stream",
     "text": [
      "2023-08-28 08:11:11,753:INFO:Use this function if the scores originate from the tp and tn statistics calculated on one test set with no aggregation of any kind.\n",
      "2023-08-28 08:11:11,755:INFO:calling the score check with scores {'acc': 0.62, 'sens': 0.22, 'spec': 0.86, 'f1p': 0.3, 'fm': 0.32}, uncertainty 0.01, p 530 and n 902\n",
      "2023-08-28 08:11:11,756:INFO:checking acc and sens against spec\n",
      "2023-08-28 08:11:11,757:INFO:checking acc and sens against f1p\n",
      "2023-08-28 08:11:11,759:INFO:checking acc and sens against fm\n",
      "2023-08-28 08:11:11,761:INFO:checking acc and spec against sens\n",
      "2023-08-28 08:11:11,762:INFO:checking acc and spec against f1p\n",
      "2023-08-28 08:11:11,763:INFO:checking acc and spec against fm\n",
      "2023-08-28 08:11:11,764:INFO:checking acc and f1p against sens\n",
      "2023-08-28 08:11:11,765:INFO:checking acc and f1p against spec\n",
      "2023-08-28 08:11:11,767:INFO:checking acc and f1p against fm\n",
      "2023-08-28 08:11:11,768:INFO:checking acc and fm against sens\n",
      "2023-08-28 08:11:11,770:INFO:checking acc and fm against spec\n",
      "2023-08-28 08:11:11,772:INFO:checking acc and fm against f1p\n",
      "2023-08-28 08:11:11,774:INFO:checking sens and spec against acc\n",
      "2023-08-28 08:11:11,775:INFO:checking sens and spec against f1p\n",
      "2023-08-28 08:11:11,780:INFO:checking sens and spec against fm\n",
      "2023-08-28 08:11:11,781:INFO:checking sens and f1p against acc\n",
      "2023-08-28 08:11:11,783:INFO:checking sens and f1p against spec\n",
      "2023-08-28 08:11:11,784:INFO:checking sens and f1p against fm\n",
      "2023-08-28 08:11:11,785:INFO:checking sens and fm against acc\n",
      "2023-08-28 08:11:11,786:INFO:checking sens and fm against spec\n",
      "2023-08-28 08:11:11,789:INFO:checking sens and fm against f1p\n",
      "2023-08-28 08:11:11,790:INFO:checking spec and f1p against acc\n",
      "2023-08-28 08:11:11,792:INFO:checking spec and f1p against sens\n",
      "2023-08-28 08:11:11,794:INFO:checking spec and f1p against fm\n",
      "2023-08-28 08:11:11,795:INFO:checking spec and fm against acc\n",
      "2023-08-28 08:11:11,799:INFO:checking spec and fm against sens\n",
      "2023-08-28 08:11:11,800:INFO:checking spec and fm against f1p\n",
      "2023-08-28 08:11:11,802:INFO:checking f1p and fm against acc\n",
      "2023-08-28 08:11:11,805:INFO:checking f1p and fm against sens\n",
      "2023-08-28 08:11:11,808:INFO:checking f1p and fm against spec\n"
     ]
    }
   ],
   "source": [
    "result = check_1_testset_no_kfold_scores(scores=scores, eps=1e-2, testset=problem)"
   ]
  },
  {
   "cell_type": "code",
   "execution_count": 11,
   "metadata": {},
   "outputs": [
    {
     "data": {
      "text/plain": [
       "False"
      ]
     },
     "execution_count": 11,
     "metadata": {},
     "output_type": "execute_result"
    }
   ],
   "source": [
    "result['inconsistency']"
   ]
  },
  {
   "cell_type": "code",
   "execution_count": 13,
   "metadata": {},
   "outputs": [
    {
     "name": "stderr",
     "output_type": "stream",
     "text": [
      "2023-08-28 08:11:51,353:INFO:Use this function if the scores originate from the tp and tn statistics calculated on one test set with no aggregation of any kind.\n",
      "2023-08-28 08:11:51,355:INFO:calling the score check with scores {'acc': 0.954, 'sens': 0.934, 'spec': 0.985, 'ppv': 0.901}, uncertainty 0.001, p 1029 and n 3118\n",
      "2023-08-28 08:11:51,356:INFO:checking acc and sens against spec\n",
      "2023-08-28 08:11:51,357:INFO:checking acc and sens against ppv\n",
      "2023-08-28 08:11:51,358:INFO:checking acc and spec against sens\n",
      "2023-08-28 08:11:51,359:INFO:checking acc and spec against ppv\n",
      "2023-08-28 08:11:51,360:INFO:checking acc and ppv against sens\n",
      "2023-08-28 08:11:51,362:INFO:checking acc and ppv against spec\n",
      "2023-08-28 08:11:51,364:INFO:checking sens and spec against acc\n",
      "2023-08-28 08:11:51,365:INFO:checking sens and spec against ppv\n",
      "2023-08-28 08:11:51,366:INFO:checking sens and ppv against acc\n",
      "2023-08-28 08:11:51,367:INFO:checking sens and ppv against spec\n",
      "2023-08-28 08:11:51,368:INFO:checking spec and ppv against acc\n",
      "2023-08-28 08:11:51,372:INFO:checking spec and ppv against sens\n"
     ]
    },
    {
     "data": {
      "text/plain": [
       "True"
      ]
     },
     "execution_count": 13,
     "metadata": {},
     "output_type": "execute_result"
    }
   ],
   "source": [
    "result = check_1_testset_no_kfold_scores(\n",
    "            scores={'acc': 0.954, 'sens': 0.934, 'spec': 0.985, 'ppv': 0.901},\n",
    "            eps=1e-3,\n",
    "            testset={'name': 'common_datasets.ADA'}\n",
    "        )\n",
    "result['inconsistency']"
   ]
  },
  {
   "cell_type": "code",
   "execution_count": 4,
   "metadata": {},
   "outputs": [
    {
     "name": "stderr",
     "output_type": "stream",
     "text": [
      "2023-08-28 07:31:37,885:INFO:Use this function if the scores originate from the tp and tn statistics calculated on one test set with no aggregation of any kind.\n",
      "2023-08-28 07:31:37,887:INFO:calling the score check with scores {'acc': 0.954, 'sens': 0.934, 'spec': 0.98}, uncertainty {'acc': 0.001, 'sens': 0.001, 'spec': 0.01}, p 10 and n 20\n",
      "2023-08-28 07:31:37,889:INFO:checking acc and sens against spec\n",
      "2023-08-28 07:31:37,890:INFO:checking acc and spec against sens\n",
      "2023-08-28 07:31:37,892:INFO:checking sens and spec against acc\n"
     ]
    },
    {
     "data": {
      "text/plain": [
       "True"
      ]
     },
     "execution_count": 4,
     "metadata": {},
     "output_type": "execute_result"
    }
   ],
   "source": [
    "result = check_1_testset_no_kfold_scores(\n",
    "            scores={'acc': 0.954, 'sens': 0.934, 'spec': 0.98},\n",
    "            eps={'acc': 1e-3, 'sens': 1e-3, 'spec': 1e-2},\n",
    "            testset={'p': 10, 'n': 20}\n",
    "        )\n",
    "result['inconsistency']"
   ]
  },
  {
   "cell_type": "code",
   "execution_count": 5,
   "metadata": {},
   "outputs": [
    {
     "name": "stderr",
     "output_type": "stream",
     "text": [
      "2023-08-28 07:32:04,558:INFO:Use this function if the scores originate from the tp and tn statistics calculated on one test set with no aggregation of any kind.\n",
      "2023-08-28 07:32:04,560:INFO:calling the score check with scores {'acc': 0.954, 'sens': 0.934, 'spec': 0.985, 'ppv': 0.901}, uncertainty 0.001, p 1029 and n 3118\n",
      "2023-08-28 07:32:04,561:INFO:checking acc and sens against spec\n",
      "2023-08-28 07:32:04,563:INFO:checking acc and sens against ppv\n",
      "2023-08-28 07:32:04,566:INFO:checking acc and spec against sens\n",
      "2023-08-28 07:32:04,567:INFO:checking acc and spec against ppv\n",
      "2023-08-28 07:32:04,569:INFO:checking acc and ppv against sens\n",
      "2023-08-28 07:32:04,571:INFO:checking acc and ppv against spec\n",
      "2023-08-28 07:32:04,573:INFO:checking sens and spec against acc\n",
      "2023-08-28 07:32:04,577:INFO:checking sens and spec against ppv\n",
      "2023-08-28 07:32:04,579:INFO:checking sens and ppv against acc\n",
      "2023-08-28 07:32:04,580:INFO:checking sens and ppv against spec\n",
      "2023-08-28 07:32:04,582:INFO:checking spec and ppv against acc\n",
      "2023-08-28 07:32:04,583:INFO:checking spec and ppv against sens\n"
     ]
    },
    {
     "data": {
      "text/plain": [
       "True"
      ]
     },
     "execution_count": 5,
     "metadata": {},
     "output_type": "execute_result"
    }
   ],
   "source": [
    "result = check_1_testset_no_kfold_scores(\n",
    "            scores={'acc': 0.954, 'sens': 0.934, 'spec': 0.985, 'ppv': 0.901},\n",
    "            eps=1e-3,\n",
    "            testset={'name': 'common_datasets.ADA'}\n",
    "        )\n",
    "result['inconsistency']"
   ]
  },
  {
   "cell_type": "code",
   "execution_count": 2,
   "metadata": {},
   "outputs": [
    {
     "data": {
      "text/plain": [
       "{'acc': 0.8,\n",
       " 'sens': 0.8,\n",
       " 'spec': 0.8,\n",
       " 'npv': 0.952,\n",
       " 'ppv': 0.444,\n",
       " 'bacc': 0.8,\n",
       " 'f1p': 0.571,\n",
       " 'fm': 0.596}"
      ]
     },
     "execution_count": 2,
     "metadata": {},
     "output_type": "execute_result"
    }
   ],
   "source": [
    "testset = {'p': 10, 'n': 50}\n",
    "evaluation = {'tp': 8, 'tn': 40}\n",
    "scores = calculate_scores(testset | evaluation, rounding_decimals=3)\n",
    "scores"
   ]
  },
  {
   "cell_type": "code",
   "execution_count": 3,
   "metadata": {},
   "outputs": [
    {
     "name": "stderr",
     "output_type": "stream",
     "text": [
      "2023-08-28 04:53:37,897:INFO:Use this function if the scores originate from the tp and tn statistics calculated on one test set with no aggregation of any kind.\n",
      "2023-08-28 04:53:37,900:INFO:calling the score check with scores {'acc': 0.8, 'sens': 0.8, 'spec': 0.8, 'npv': 0.952, 'ppv': 0.444, 'bacc': 0.8, 'f1p': 0.571, 'fm': 0.596}, uncertainty 0.001, p 10 and n 50\n",
      "2023-08-28 04:53:37,901:INFO:checking acc and sens against spec\n",
      "2023-08-28 04:53:37,904:INFO:checking acc and sens against npv\n",
      "2023-08-28 04:53:37,906:INFO:checking acc and sens against ppv\n",
      "2023-08-28 04:53:37,908:INFO:checking acc and sens against bacc\n",
      "2023-08-28 04:53:37,910:INFO:checking acc and sens against f1p\n",
      "2023-08-28 04:53:37,911:INFO:checking acc and sens against fm\n",
      "2023-08-28 04:53:37,915:INFO:checking acc and spec against sens\n",
      "2023-08-28 04:53:37,916:INFO:checking acc and spec against npv\n",
      "2023-08-28 04:53:37,917:INFO:checking acc and spec against ppv\n",
      "2023-08-28 04:53:37,921:INFO:checking acc and spec against bacc\n",
      "2023-08-28 04:53:37,923:INFO:checking acc and spec against f1p\n",
      "2023-08-28 04:53:37,924:INFO:checking acc and spec against fm\n",
      "2023-08-28 04:53:37,926:INFO:checking acc and npv against sens\n",
      "2023-08-28 04:53:37,928:INFO:checking acc and npv against spec\n",
      "2023-08-28 04:53:37,930:INFO:checking acc and npv against ppv\n",
      "2023-08-28 04:53:37,931:INFO:checking acc and npv against bacc\n",
      "2023-08-28 04:53:37,933:INFO:checking acc and npv against f1p\n",
      "2023-08-28 04:53:37,936:INFO:checking acc and npv against fm\n",
      "2023-08-28 04:53:37,938:INFO:checking acc and ppv against sens\n",
      "2023-08-28 04:53:37,944:INFO:checking acc and ppv against spec\n",
      "2023-08-28 04:53:37,946:INFO:checking acc and ppv against npv\n",
      "2023-08-28 04:53:37,952:INFO:checking acc and ppv against bacc\n",
      "2023-08-28 04:53:37,955:INFO:checking acc and ppv against f1p\n",
      "2023-08-28 04:53:37,957:INFO:checking acc and ppv against fm\n",
      "2023-08-28 04:53:37,959:INFO:checking acc and bacc against sens\n",
      "2023-08-28 04:53:37,961:INFO:checking acc and bacc against spec\n",
      "2023-08-28 04:53:37,963:INFO:checking acc and bacc against npv\n",
      "2023-08-28 04:53:37,965:INFO:checking acc and bacc against ppv\n",
      "2023-08-28 04:53:37,967:INFO:checking acc and bacc against f1p\n",
      "2023-08-28 04:53:37,968:INFO:checking acc and bacc against fm\n",
      "2023-08-28 04:53:37,971:INFO:checking acc and f1p against sens\n",
      "2023-08-28 04:53:37,973:INFO:checking acc and f1p against spec\n",
      "2023-08-28 04:53:37,975:INFO:checking acc and f1p against npv\n",
      "2023-08-28 04:53:37,977:INFO:checking acc and f1p against ppv\n",
      "2023-08-28 04:53:37,979:INFO:checking acc and f1p against bacc\n",
      "2023-08-28 04:53:37,983:INFO:checking acc and f1p against fm\n",
      "2023-08-28 04:53:37,985:INFO:checking acc and fm against sens\n",
      "2023-08-28 04:53:37,988:INFO:checking acc and fm against spec\n",
      "2023-08-28 04:53:37,991:INFO:checking acc and fm against npv\n",
      "2023-08-28 04:53:37,994:INFO:checking acc and fm against ppv\n",
      "2023-08-28 04:53:37,997:INFO:checking acc and fm against bacc\n",
      "2023-08-28 04:53:38,000:INFO:checking acc and fm against f1p\n",
      "2023-08-28 04:53:38,003:INFO:checking sens and spec against acc\n",
      "2023-08-28 04:53:38,005:INFO:checking sens and spec against npv\n",
      "2023-08-28 04:53:38,011:INFO:checking sens and spec against ppv\n",
      "2023-08-28 04:53:38,013:INFO:checking sens and spec against bacc\n",
      "2023-08-28 04:53:38,017:INFO:checking sens and spec against f1p\n",
      "2023-08-28 04:53:38,020:INFO:checking sens and spec against fm\n",
      "2023-08-28 04:53:38,022:INFO:checking sens and npv against acc\n",
      "2023-08-28 04:53:38,024:INFO:checking sens and npv against spec\n",
      "2023-08-28 04:53:38,026:INFO:checking sens and npv against ppv\n",
      "2023-08-28 04:53:38,029:INFO:checking sens and npv against bacc\n",
      "2023-08-28 04:53:38,030:INFO:checking sens and npv against f1p\n",
      "2023-08-28 04:53:38,032:INFO:checking sens and npv against fm\n",
      "2023-08-28 04:53:38,034:INFO:checking sens and ppv against acc\n",
      "2023-08-28 04:53:38,036:INFO:checking sens and ppv against spec\n",
      "2023-08-28 04:53:38,038:INFO:checking sens and ppv against npv\n",
      "2023-08-28 04:53:38,040:INFO:checking sens and ppv against bacc\n",
      "2023-08-28 04:53:38,042:INFO:checking sens and ppv against f1p\n",
      "2023-08-28 04:53:38,045:INFO:checking sens and ppv against fm\n",
      "2023-08-28 04:53:38,047:INFO:checking sens and bacc against acc\n",
      "2023-08-28 04:53:38,049:INFO:checking sens and bacc against spec\n",
      "2023-08-28 04:53:38,056:INFO:checking sens and bacc against npv\n",
      "2023-08-28 04:53:38,058:INFO:checking sens and bacc against ppv\n",
      "2023-08-28 04:53:38,060:INFO:checking sens and bacc against f1p\n",
      "2023-08-28 04:53:38,062:INFO:checking sens and bacc against fm\n",
      "2023-08-28 04:53:38,064:INFO:checking sens and f1p against acc\n",
      "2023-08-28 04:53:38,066:INFO:checking sens and f1p against spec\n",
      "2023-08-28 04:53:38,068:INFO:checking sens and f1p against npv\n",
      "2023-08-28 04:53:38,070:INFO:checking sens and f1p against ppv\n",
      "2023-08-28 04:53:38,072:INFO:checking sens and f1p against bacc\n",
      "2023-08-28 04:53:38,074:INFO:checking sens and f1p against fm\n",
      "2023-08-28 04:53:38,075:INFO:checking sens and fm against acc\n",
      "2023-08-28 04:53:38,082:INFO:checking sens and fm against spec\n",
      "2023-08-28 04:53:38,084:INFO:checking sens and fm against npv\n",
      "2023-08-28 04:53:38,086:INFO:checking sens and fm against ppv\n",
      "2023-08-28 04:53:38,088:INFO:checking sens and fm against bacc\n",
      "2023-08-28 04:53:38,091:INFO:checking sens and fm against f1p\n",
      "2023-08-28 04:53:38,093:INFO:checking spec and npv against acc\n",
      "2023-08-28 04:53:38,095:INFO:checking spec and npv against sens\n",
      "2023-08-28 04:53:38,097:INFO:checking spec and npv against ppv\n",
      "2023-08-28 04:53:38,099:INFO:checking spec and npv against bacc\n",
      "2023-08-28 04:53:38,102:INFO:checking spec and npv against f1p\n",
      "2023-08-28 04:53:38,104:INFO:checking spec and npv against fm\n",
      "2023-08-28 04:53:38,106:INFO:checking spec and ppv against acc\n",
      "2023-08-28 04:53:38,108:INFO:checking spec and ppv against sens\n",
      "2023-08-28 04:53:38,109:INFO:checking spec and ppv against npv\n",
      "2023-08-28 04:53:38,114:INFO:checking spec and ppv against bacc\n",
      "2023-08-28 04:53:38,116:INFO:checking spec and ppv against f1p\n",
      "2023-08-28 04:53:38,119:INFO:checking spec and ppv against fm\n",
      "2023-08-28 04:53:38,121:INFO:checking spec and bacc against acc\n",
      "2023-08-28 04:53:38,123:INFO:checking spec and bacc against sens\n",
      "2023-08-28 04:53:38,125:INFO:checking spec and bacc against npv\n",
      "2023-08-28 04:53:38,127:INFO:checking spec and bacc against ppv\n",
      "2023-08-28 04:53:38,128:INFO:checking spec and bacc against f1p\n",
      "2023-08-28 04:53:38,130:INFO:checking spec and bacc against fm\n",
      "2023-08-28 04:53:38,132:INFO:checking spec and f1p against acc\n",
      "2023-08-28 04:53:38,138:INFO:checking spec and f1p against sens\n",
      "2023-08-28 04:53:38,140:INFO:checking spec and f1p against npv\n",
      "2023-08-28 04:53:38,142:INFO:checking spec and f1p against ppv\n",
      "2023-08-28 04:53:38,154:INFO:checking spec and f1p against bacc\n",
      "2023-08-28 04:53:38,156:INFO:checking spec and f1p against fm\n",
      "2023-08-28 04:53:38,159:INFO:checking spec and fm against acc\n",
      "2023-08-28 04:53:38,161:INFO:checking spec and fm against sens\n",
      "2023-08-28 04:53:38,164:INFO:checking spec and fm against npv\n",
      "2023-08-28 04:53:38,167:INFO:checking spec and fm against ppv\n",
      "2023-08-28 04:53:38,169:INFO:checking spec and fm against bacc\n",
      "2023-08-28 04:53:38,178:INFO:checking spec and fm against f1p\n",
      "2023-08-28 04:53:38,182:INFO:checking npv and ppv against acc\n",
      "2023-08-28 04:53:38,185:INFO:checking npv and ppv against sens\n",
      "2023-08-28 04:53:38,188:INFO:checking npv and ppv against spec\n",
      "2023-08-28 04:53:38,191:INFO:checking npv and ppv against bacc\n",
      "2023-08-28 04:53:38,194:INFO:checking npv and ppv against f1p\n",
      "2023-08-28 04:53:38,198:INFO:checking npv and ppv against fm\n",
      "2023-08-28 04:53:38,203:INFO:checking npv and bacc against acc\n",
      "2023-08-28 04:53:38,206:INFO:checking npv and bacc against sens\n",
      "2023-08-28 04:53:38,208:INFO:checking npv and bacc against spec\n",
      "2023-08-28 04:53:38,211:INFO:checking npv and bacc against ppv\n",
      "2023-08-28 04:53:38,214:INFO:checking npv and bacc against f1p\n",
      "2023-08-28 04:53:38,220:INFO:checking npv and bacc against fm\n",
      "2023-08-28 04:53:38,222:INFO:checking npv and f1p against acc\n",
      "2023-08-28 04:53:38,226:INFO:checking npv and f1p against sens\n",
      "2023-08-28 04:53:38,232:INFO:checking npv and f1p against spec\n",
      "2023-08-28 04:53:38,236:INFO:checking npv and f1p against ppv\n",
      "2023-08-28 04:53:38,238:INFO:checking npv and f1p against bacc\n",
      "2023-08-28 04:53:38,248:INFO:checking npv and f1p against fm\n",
      "2023-08-28 04:53:38,253:INFO:checking npv and fm against acc\n",
      "2023-08-28 04:53:38,261:INFO:checking npv and fm against sens\n",
      "2023-08-28 04:53:38,267:INFO:checking npv and fm against spec\n",
      "2023-08-28 04:53:38,271:INFO:checking npv and fm against ppv\n",
      "2023-08-28 04:53:38,281:INFO:checking npv and fm against bacc\n",
      "2023-08-28 04:53:38,286:INFO:checking npv and fm against f1p\n",
      "2023-08-28 04:53:38,291:INFO:checking ppv and bacc against acc\n",
      "2023-08-28 04:53:38,296:INFO:checking ppv and bacc against sens\n",
      "2023-08-28 04:53:38,301:INFO:checking ppv and bacc against spec\n",
      "2023-08-28 04:53:38,304:INFO:checking ppv and bacc against npv\n",
      "2023-08-28 04:53:38,307:INFO:checking ppv and bacc against f1p\n",
      "2023-08-28 04:53:38,309:INFO:checking ppv and bacc against fm\n",
      "2023-08-28 04:53:38,318:INFO:checking ppv and f1p against acc\n",
      "2023-08-28 04:53:38,324:INFO:checking ppv and f1p against sens\n",
      "2023-08-28 04:53:38,328:INFO:checking ppv and f1p against spec\n",
      "2023-08-28 04:53:38,331:INFO:checking ppv and f1p against npv\n",
      "2023-08-28 04:53:38,333:INFO:checking ppv and f1p against bacc\n",
      "2023-08-28 04:53:38,340:INFO:checking ppv and f1p against fm\n",
      "2023-08-28 04:53:38,346:INFO:checking ppv and fm against acc\n",
      "2023-08-28 04:53:38,350:INFO:checking ppv and fm against sens\n",
      "2023-08-28 04:53:38,353:INFO:checking ppv and fm against spec\n",
      "2023-08-28 04:53:38,357:INFO:checking ppv and fm against npv\n",
      "2023-08-28 04:53:38,360:INFO:checking ppv and fm against bacc\n",
      "2023-08-28 04:53:38,363:INFO:checking ppv and fm against f1p\n",
      "2023-08-28 04:53:38,369:INFO:checking bacc and f1p against acc\n",
      "2023-08-28 04:53:38,372:INFO:checking bacc and f1p against sens\n",
      "2023-08-28 04:53:38,375:INFO:checking bacc and f1p against spec\n",
      "2023-08-28 04:53:38,377:INFO:checking bacc and f1p against npv\n",
      "2023-08-28 04:53:38,380:INFO:checking bacc and f1p against ppv\n",
      "2023-08-28 04:53:38,384:INFO:checking bacc and f1p against fm\n",
      "2023-08-28 04:53:38,387:INFO:checking bacc and fm against acc\n",
      "2023-08-28 04:53:38,392:INFO:checking bacc and fm against sens\n",
      "2023-08-28 04:53:38,398:INFO:checking bacc and fm against spec\n",
      "2023-08-28 04:53:38,403:INFO:checking bacc and fm against npv\n",
      "2023-08-28 04:53:38,408:INFO:checking bacc and fm against ppv\n",
      "2023-08-28 04:53:38,415:INFO:checking bacc and fm against f1p\n",
      "2023-08-28 04:53:38,424:INFO:checking f1p and fm against acc\n",
      "2023-08-28 04:53:38,430:INFO:checking f1p and fm against sens\n",
      "2023-08-28 04:53:38,435:INFO:checking f1p and fm against spec\n",
      "2023-08-28 04:53:38,442:INFO:checking f1p and fm against npv\n",
      "2023-08-28 04:53:38,447:INFO:checking f1p and fm against ppv\n",
      "2023-08-28 04:53:38,452:INFO:checking f1p and fm against bacc\n"
     ]
    }
   ],
   "source": [
    "results = check_1_testset_no_kfold_scores(scores, 1e-3, testset)"
   ]
  },
  {
   "cell_type": "code",
   "execution_count": 4,
   "metadata": {},
   "outputs": [
    {
     "data": {
      "text/plain": [
       "False"
      ]
     },
     "execution_count": 4,
     "metadata": {},
     "output_type": "execute_result"
    }
   ],
   "source": [
    "results['inconsistency']"
   ]
  },
  {
   "cell_type": "code",
   "execution_count": 5,
   "metadata": {},
   "outputs": [
    {
     "name": "stderr",
     "output_type": "stream",
     "text": [
      "2023-08-28 04:53:55,713:INFO:Use this function if the scores originate from the tp and tn statistics calculated on one test set with no aggregation of any kind.\n",
      "2023-08-28 04:53:55,717:INFO:calling the score check with scores {'acc': 0.8, 'sens': 0.8, 'spec': 0.8, 'npv': 0.952, 'ppv': 0.444, 'bacc': 0.8, 'f1p': 0.571, 'fm': 0.596}, uncertainty 1e-05, p 10 and n 50\n",
      "2023-08-28 04:53:55,718:INFO:checking acc and sens against spec\n",
      "2023-08-28 04:53:55,719:INFO:checking acc and sens against npv\n",
      "2023-08-28 04:53:55,721:INFO:checking acc and sens against ppv\n",
      "2023-08-28 04:53:55,723:INFO:checking acc and sens against bacc\n",
      "2023-08-28 04:53:55,725:INFO:checking acc and sens against f1p\n",
      "2023-08-28 04:53:55,727:INFO:checking acc and sens against fm\n",
      "2023-08-28 04:53:55,729:INFO:checking acc and spec against sens\n",
      "2023-08-28 04:53:55,730:INFO:checking acc and spec against npv\n",
      "2023-08-28 04:53:55,732:INFO:checking acc and spec against ppv\n",
      "2023-08-28 04:53:55,734:INFO:checking acc and spec against bacc\n",
      "2023-08-28 04:53:55,735:INFO:checking acc and spec against f1p\n",
      "2023-08-28 04:53:55,737:INFO:checking acc and spec against fm\n",
      "2023-08-28 04:53:55,739:INFO:checking acc and npv against sens\n",
      "2023-08-28 04:53:55,741:INFO:checking acc and npv against spec\n",
      "2023-08-28 04:53:55,743:INFO:checking acc and npv against ppv\n",
      "2023-08-28 04:53:55,749:INFO:checking acc and npv against bacc\n",
      "2023-08-28 04:53:55,751:INFO:checking acc and npv against f1p\n",
      "2023-08-28 04:53:55,753:INFO:checking acc and npv against fm\n",
      "2023-08-28 04:53:55,757:INFO:checking acc and ppv against sens\n",
      "2023-08-28 04:53:55,759:INFO:checking acc and ppv against spec\n",
      "2023-08-28 04:53:55,761:INFO:checking acc and ppv against npv\n",
      "2023-08-28 04:53:55,765:INFO:checking acc and ppv against bacc\n",
      "2023-08-28 04:53:55,767:INFO:checking acc and ppv against f1p\n",
      "2023-08-28 04:53:55,768:INFO:checking acc and ppv against fm\n",
      "2023-08-28 04:53:55,770:INFO:checking acc and bacc against sens\n",
      "2023-08-28 04:53:55,771:INFO:checking acc and bacc against spec\n",
      "2023-08-28 04:53:55,773:INFO:checking acc and bacc against npv\n",
      "2023-08-28 04:53:55,774:INFO:checking acc and bacc against ppv\n",
      "2023-08-28 04:53:55,776:INFO:checking acc and bacc against f1p\n",
      "2023-08-28 04:53:55,778:INFO:checking acc and bacc against fm\n",
      "2023-08-28 04:53:55,781:INFO:checking acc and f1p against sens\n",
      "2023-08-28 04:53:55,783:INFO:checking acc and f1p against spec\n",
      "2023-08-28 04:53:55,788:INFO:checking acc and f1p against npv\n",
      "2023-08-28 04:53:55,790:INFO:checking acc and f1p against ppv\n",
      "2023-08-28 04:53:55,792:INFO:checking acc and f1p against bacc\n",
      "2023-08-28 04:53:55,794:INFO:checking acc and f1p against fm\n",
      "2023-08-28 04:53:55,796:INFO:checking acc and fm against sens\n",
      "2023-08-28 04:53:55,797:INFO:checking acc and fm against spec\n",
      "2023-08-28 04:53:55,799:INFO:checking acc and fm against npv\n",
      "2023-08-28 04:53:55,801:INFO:checking acc and fm against ppv\n",
      "2023-08-28 04:53:55,804:INFO:checking acc and fm against bacc\n",
      "2023-08-28 04:53:55,806:INFO:checking acc and fm against f1p\n",
      "2023-08-28 04:53:55,808:INFO:checking sens and spec against acc\n",
      "2023-08-28 04:53:55,810:INFO:checking sens and spec against npv\n",
      "2023-08-28 04:53:55,812:INFO:checking sens and spec against ppv\n",
      "2023-08-28 04:53:55,813:INFO:checking sens and spec against bacc\n",
      "2023-08-28 04:53:55,815:INFO:checking sens and spec against f1p\n",
      "2023-08-28 04:53:55,816:INFO:checking sens and spec against fm\n",
      "2023-08-28 04:53:55,822:INFO:checking sens and npv against acc\n",
      "2023-08-28 04:53:55,824:INFO:checking sens and npv against spec\n",
      "2023-08-28 04:53:55,826:INFO:checking sens and npv against ppv\n",
      "2023-08-28 04:53:55,827:INFO:checking sens and npv against bacc\n",
      "2023-08-28 04:53:55,830:INFO:checking sens and npv against f1p\n",
      "2023-08-28 04:53:55,832:INFO:checking sens and npv against fm\n",
      "2023-08-28 04:53:55,834:INFO:checking sens and ppv against acc\n",
      "2023-08-28 04:53:55,836:INFO:checking sens and ppv against spec\n",
      "2023-08-28 04:53:55,837:INFO:checking sens and ppv against npv\n",
      "2023-08-28 04:53:55,841:INFO:checking sens and ppv against bacc\n",
      "2023-08-28 04:53:55,843:INFO:checking sens and ppv against f1p\n",
      "2023-08-28 04:53:55,845:INFO:checking sens and ppv against fm\n",
      "2023-08-28 04:53:55,849:INFO:checking sens and bacc against acc\n",
      "2023-08-28 04:53:55,851:INFO:checking sens and bacc against spec\n",
      "2023-08-28 04:53:55,853:INFO:checking sens and bacc against npv\n",
      "2023-08-28 04:53:55,855:INFO:checking sens and bacc against ppv\n",
      "2023-08-28 04:53:55,857:INFO:checking sens and bacc against f1p\n",
      "2023-08-28 04:53:55,859:INFO:checking sens and bacc against fm\n",
      "2023-08-28 04:53:55,860:INFO:checking sens and f1p against acc\n",
      "2023-08-28 04:53:55,862:INFO:checking sens and f1p against spec\n",
      "2023-08-28 04:53:55,864:INFO:checking sens and f1p against npv\n",
      "2023-08-28 04:53:55,871:INFO:checking sens and f1p against ppv\n",
      "2023-08-28 04:53:55,875:INFO:checking sens and f1p against bacc\n",
      "2023-08-28 04:53:55,876:INFO:checking sens and f1p against fm\n",
      "2023-08-28 04:53:55,878:INFO:checking sens and fm against acc\n",
      "2023-08-28 04:53:55,879:INFO:checking sens and fm against spec\n",
      "2023-08-28 04:53:55,880:INFO:checking sens and fm against npv\n",
      "2023-08-28 04:53:55,882:INFO:checking sens and fm against ppv\n",
      "2023-08-28 04:53:55,884:INFO:checking sens and fm against bacc\n",
      "2023-08-28 04:53:55,886:INFO:checking sens and fm against f1p\n",
      "2023-08-28 04:53:55,888:INFO:checking spec and npv against acc\n",
      "2023-08-28 04:53:55,890:INFO:checking spec and npv against sens\n",
      "2023-08-28 04:53:55,892:INFO:checking spec and npv against ppv\n",
      "2023-08-28 04:53:55,894:INFO:checking spec and npv against bacc\n",
      "2023-08-28 04:53:55,896:INFO:checking spec and npv against f1p\n",
      "2023-08-28 04:53:55,898:INFO:checking spec and npv against fm\n",
      "2023-08-28 04:53:55,899:INFO:checking spec and ppv against acc\n",
      "2023-08-28 04:53:55,908:INFO:checking spec and ppv against sens\n",
      "2023-08-28 04:53:55,910:INFO:checking spec and ppv against npv\n",
      "2023-08-28 04:53:55,913:INFO:checking spec and ppv against bacc\n",
      "2023-08-28 04:53:55,914:INFO:checking spec and ppv against f1p\n",
      "2023-08-28 04:53:55,916:INFO:checking spec and ppv against fm\n",
      "2023-08-28 04:53:55,918:INFO:checking spec and bacc against acc\n",
      "2023-08-28 04:53:55,922:INFO:checking spec and bacc against sens\n",
      "2023-08-28 04:53:55,924:INFO:checking spec and bacc against npv\n",
      "2023-08-28 04:53:55,926:INFO:checking spec and bacc against ppv\n",
      "2023-08-28 04:53:55,928:INFO:checking spec and bacc against f1p\n",
      "2023-08-28 04:53:55,929:INFO:checking spec and bacc against fm\n",
      "2023-08-28 04:53:55,931:INFO:checking spec and f1p against acc\n",
      "2023-08-28 04:53:55,933:INFO:checking spec and f1p against sens\n",
      "2023-08-28 04:53:55,934:INFO:checking spec and f1p against npv\n",
      "2023-08-28 04:53:55,936:INFO:checking spec and f1p against ppv\n",
      "2023-08-28 04:53:55,938:INFO:checking spec and f1p against bacc\n",
      "2023-08-28 04:53:55,941:INFO:checking spec and f1p against fm\n",
      "2023-08-28 04:53:55,945:INFO:checking spec and fm against acc\n",
      "2023-08-28 04:53:55,947:INFO:checking spec and fm against sens\n",
      "2023-08-28 04:53:55,950:INFO:checking spec and fm against npv\n",
      "2023-08-28 04:53:55,952:INFO:checking spec and fm against ppv\n",
      "2023-08-28 04:53:55,955:INFO:checking spec and fm against bacc\n",
      "2023-08-28 04:53:55,958:INFO:checking spec and fm against f1p\n",
      "2023-08-28 04:53:55,960:INFO:checking npv and ppv against acc\n",
      "2023-08-28 04:53:55,962:INFO:checking npv and ppv against sens\n",
      "2023-08-28 04:53:55,967:INFO:checking npv and ppv against spec\n",
      "2023-08-28 04:53:55,969:INFO:checking npv and ppv against bacc\n",
      "2023-08-28 04:53:55,971:INFO:checking npv and ppv against f1p\n",
      "2023-08-28 04:53:55,974:INFO:checking npv and ppv against fm\n",
      "2023-08-28 04:53:55,976:INFO:checking npv and bacc against acc\n",
      "2023-08-28 04:53:55,978:INFO:checking npv and bacc against sens\n",
      "2023-08-28 04:53:55,980:INFO:checking npv and bacc against spec\n",
      "2023-08-28 04:53:55,983:INFO:checking npv and bacc against ppv\n",
      "2023-08-28 04:53:55,985:INFO:checking npv and bacc against f1p\n",
      "2023-08-28 04:53:55,988:INFO:checking npv and bacc against fm\n",
      "2023-08-28 04:53:55,992:INFO:checking npv and f1p against acc\n",
      "2023-08-28 04:53:55,995:INFO:checking npv and f1p against sens\n",
      "2023-08-28 04:53:55,997:INFO:checking npv and f1p against spec\n",
      "2023-08-28 04:53:56,000:INFO:checking npv and f1p against ppv\n",
      "2023-08-28 04:53:56,002:INFO:checking npv and f1p against bacc\n",
      "2023-08-28 04:53:56,004:INFO:checking npv and f1p against fm\n",
      "2023-08-28 04:53:56,005:INFO:checking npv and fm against acc\n",
      "2023-08-28 04:53:56,010:INFO:checking npv and fm against sens\n",
      "2023-08-28 04:53:56,015:INFO:checking npv and fm against spec\n",
      "2023-08-28 04:53:56,019:INFO:checking npv and fm against ppv\n",
      "2023-08-28 04:53:56,022:INFO:checking npv and fm against bacc\n",
      "2023-08-28 04:53:56,033:INFO:checking npv and fm against f1p\n",
      "2023-08-28 04:53:56,040:INFO:checking ppv and bacc against acc\n",
      "2023-08-28 04:53:56,042:INFO:checking ppv and bacc against sens\n",
      "2023-08-28 04:53:56,045:INFO:checking ppv and bacc against spec\n",
      "2023-08-28 04:53:56,047:INFO:checking ppv and bacc against npv\n",
      "2023-08-28 04:53:56,049:INFO:checking ppv and bacc against f1p\n",
      "2023-08-28 04:53:56,051:INFO:checking ppv and bacc against fm\n",
      "2023-08-28 04:53:56,056:INFO:checking ppv and f1p against acc\n",
      "2023-08-28 04:53:56,058:INFO:checking ppv and f1p against sens\n",
      "2023-08-28 04:53:56,061:INFO:checking ppv and f1p against spec\n",
      "2023-08-28 04:53:56,063:INFO:checking ppv and f1p against npv\n",
      "2023-08-28 04:53:56,065:INFO:checking ppv and f1p against bacc\n",
      "2023-08-28 04:53:56,067:INFO:checking ppv and f1p against fm\n",
      "2023-08-28 04:53:56,069:INFO:checking ppv and fm against acc\n",
      "2023-08-28 04:53:56,071:INFO:checking ppv and fm against sens\n",
      "2023-08-28 04:53:56,075:INFO:checking ppv and fm against spec\n",
      "2023-08-28 04:53:56,080:INFO:checking ppv and fm against npv\n",
      "2023-08-28 04:53:56,082:INFO:checking ppv and fm against bacc\n",
      "2023-08-28 04:53:56,088:INFO:checking ppv and fm against f1p\n",
      "2023-08-28 04:53:56,092:INFO:checking bacc and f1p against acc\n",
      "2023-08-28 04:53:56,097:INFO:checking bacc and f1p against sens\n",
      "2023-08-28 04:53:56,102:INFO:checking bacc and f1p against spec\n",
      "2023-08-28 04:53:56,104:INFO:checking bacc and f1p against npv\n",
      "2023-08-28 04:53:56,106:INFO:checking bacc and f1p against ppv\n",
      "2023-08-28 04:53:56,108:INFO:checking bacc and f1p against fm\n",
      "2023-08-28 04:53:56,120:INFO:checking bacc and fm against acc\n",
      "2023-08-28 04:53:56,123:INFO:checking bacc and fm against sens\n",
      "2023-08-28 04:53:56,125:INFO:checking bacc and fm against spec\n",
      "2023-08-28 04:53:56,141:INFO:checking bacc and fm against npv\n",
      "2023-08-28 04:53:56,144:INFO:checking bacc and fm against ppv\n",
      "2023-08-28 04:53:56,160:INFO:checking bacc and fm against f1p\n",
      "2023-08-28 04:53:56,164:INFO:checking f1p and fm against acc\n",
      "2023-08-28 04:53:56,167:INFO:checking f1p and fm against sens\n",
      "2023-08-28 04:53:56,183:INFO:checking f1p and fm against spec\n",
      "2023-08-28 04:53:56,199:INFO:checking f1p and fm against npv\n",
      "2023-08-28 04:53:56,202:INFO:checking f1p and fm against ppv\n",
      "2023-08-28 04:53:56,218:INFO:checking f1p and fm against bacc\n"
     ]
    }
   ],
   "source": [
    "results = check_1_testset_no_kfold_scores(scores, 1e-5, testset)"
   ]
  },
  {
   "cell_type": "code",
   "execution_count": 7,
   "metadata": {},
   "outputs": [
    {
     "data": {
      "text/plain": [
       "True"
      ]
     },
     "execution_count": 7,
     "metadata": {},
     "output_type": "execute_result"
    }
   ],
   "source": [
    "results['inconsistency']"
   ]
  },
  {
   "cell_type": "code",
   "execution_count": 24,
   "metadata": {},
   "outputs": [
    {
     "data": {
      "text/plain": [
       "{'details': [{'score_0': 'acc',\n",
       "   'score_0_interval': (0.7999900000000001, 0.80001),\n",
       "   'score_1': 'sens',\n",
       "   'score_1_interval': (0.7999900000000001, 0.80001),\n",
       "   'target_score': 'spec',\n",
       "   'target_interval': (0.7999900000000001, 0.80001),\n",
       "   'solution': {'tp': (7.999900000000001, 8.0001),\n",
       "    'tn': (39.999300000000005, 40.0007),\n",
       "    'tp_formula': 'p*sens',\n",
       "    'tn_formula': 'acc*n + acc*p - p*sens'},\n",
       "   'inconsistency': False,\n",
       "   'explanation': 'the target score interval ((0.7999900000000001, 0.80001)) and the reconstructed intervals ((0.7999860000000001, 0.800014)) do intersect',\n",
       "   'target_interval_reconstructed': (0.7999860000000001, 0.800014)}],\n",
       " 'edge_scores': set(),\n",
       " 'underdetermined': False,\n",
       " 'inconsistency': False}"
      ]
     },
     "execution_count": 24,
     "metadata": {},
     "output_type": "execute_result"
    }
   ],
   "source": [
    "results['tests_succeeded'][0]"
   ]
  },
  {
   "cell_type": "code",
   "execution_count": null,
   "metadata": {},
   "outputs": [],
   "source": []
  }
 ],
 "metadata": {
  "kernelspec": {
   "display_name": "mlscorecheck",
   "language": "python",
   "name": "python3"
  },
  "language_info": {
   "codemirror_mode": {
    "name": "ipython",
    "version": 3
   },
   "file_extension": ".py",
   "mimetype": "text/x-python",
   "name": "python",
   "nbconvert_exporter": "python",
   "pygments_lexer": "ipython3",
   "version": "3.10.0"
  },
  "orig_nbformat": 4
 },
 "nbformat": 4,
 "nbformat_minor": 2
}
