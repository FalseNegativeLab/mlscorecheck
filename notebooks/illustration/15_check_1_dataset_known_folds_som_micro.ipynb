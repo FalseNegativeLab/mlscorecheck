{
 "cells": [
  {
   "cell_type": "code",
   "execution_count": 18,
   "metadata": {},
   "outputs": [],
   "source": [
    "from mlscorecheck.check.multiclass import check_1_dataset_known_folds_som_micro\n",
    "from mlscorecheck.aggregated import generate_dataset_folding_multiclass"
   ]
  },
  {
   "cell_type": "code",
   "execution_count": 19,
   "metadata": {},
   "outputs": [
    {
     "name": "stdout",
     "output_type": "stream",
     "text": [
      "[array([[17, 16, 18],\n",
      "       [21, 17, 18],\n",
      "       [35, 30, 35]])]\n"
     ]
    },
    {
     "data": {
      "text/plain": [
       "({0: 51, 1: 56, 2: 100},\n",
       " {'n_folds': 1},\n",
       " {'acc': 0.5556,\n",
       "  'sens': 0.3333,\n",
       "  'spec': 0.6667,\n",
       "  'f1p': 0.3333,\n",
       "  'beta_positive': 2,\n",
       "  'beta_negative': 2})"
      ]
     },
     "execution_count": 19,
     "metadata": {},
     "output_type": "execute_result"
    }
   ],
   "source": [
    "dataset, folding, scores = generate_dataset_folding_multiclass(random_state=None,\n",
    "                                                                average='micro',\n",
    "                                                                aggregation='som',\n",
    "                                                                rounding_decimals=4,\n",
    "                                                                subset=['acc', 'sens', 'spec', 'f1p'])\n",
    "dataset, folding, scores"
   ]
  },
  {
   "cell_type": "code",
   "execution_count": 20,
   "metadata": {},
   "outputs": [],
   "source": [
    "dataset = {0: 86, 1: 96, 2: 59, 3: 105}\n",
    "folding = {'folds': [{0: 43, 1: 48, 2: 30, 3: 52}, {0: 43, 1: 48, 2: 29, 3: 53}]}\n",
    "scores =  {'acc': 0.6272, 'sens': 0.2543, 'spec': 0.7514, 'f1p': 0.2543}"
   ]
  },
  {
   "cell_type": "code",
   "execution_count": 21,
   "metadata": {},
   "outputs": [
    {
     "name": "stderr",
     "output_type": "stream",
     "text": [
      "2023-11-02 07:17:19,911:INFO:testing acc, feasible tptn pairs: 347\n",
      "2023-11-02 07:17:19,922:INFO:testing sens, feasible tptn pairs: 347\n",
      "2023-11-02 07:17:19,923:INFO:testing spec, feasible tptn pairs: 1\n",
      "2023-11-02 07:17:19,924:INFO:testing f1p, feasible tptn pairs: 1\n",
      "2023-11-02 07:17:19,925:INFO:constructing final tp, tn pair set\n",
      "2023-11-02 07:17:19,925:INFO:final number of intervals: 1\n",
      "2023-11-02 07:17:19,926:INFO:final number of pairs: 1\n"
     ]
    },
    {
     "name": "stdout",
     "output_type": "stream",
     "text": [
      "[{0: 43, 1: 48, 2: 30, 3: 52}, {0: 43, 1: 48, 2: 29, 3: 53}]\n"
     ]
    },
    {
     "data": {
      "text/plain": [
       "False"
      ]
     },
     "execution_count": 21,
     "metadata": {},
     "output_type": "execute_result"
    }
   ],
   "source": [
    "result = check_1_dataset_known_folds_som_micro(dataset=dataset,\n",
    "                                                folding=folding,\n",
    "                                                scores=scores,\n",
    "                                                eps=1e-4)\n",
    "result['inconsistency']"
   ]
  },
  {
   "cell_type": "code",
   "execution_count": 22,
   "metadata": {},
   "outputs": [],
   "source": [
    "scores['acc'] = (1.0 + scores['spec']) / 2.0"
   ]
  },
  {
   "cell_type": "code",
   "execution_count": 23,
   "metadata": {},
   "outputs": [
    {
     "data": {
      "text/plain": [
       "0.8756999999999999"
      ]
     },
     "execution_count": 23,
     "metadata": {},
     "output_type": "execute_result"
    }
   ],
   "source": [
    "scores['acc']"
   ]
  },
  {
   "cell_type": "code",
   "execution_count": 24,
   "metadata": {},
   "outputs": [],
   "source": [
    "scores['acc'] = 0.8756"
   ]
  },
  {
   "cell_type": "code",
   "execution_count": 25,
   "metadata": {},
   "outputs": [
    {
     "name": "stderr",
     "output_type": "stream",
     "text": [
      "2023-11-02 07:17:19,977:INFO:testing acc, feasible tptn pairs: 347\n",
      "2023-11-02 07:17:19,988:INFO:no more feasible tp,tn pairs left\n",
      "2023-11-02 07:17:19,989:INFO:constructing final tp, tn pair set\n",
      "2023-11-02 07:17:19,991:INFO:final number of intervals: 0\n",
      "2023-11-02 07:17:19,992:INFO:final number of pairs: 0\n"
     ]
    },
    {
     "name": "stdout",
     "output_type": "stream",
     "text": [
      "[{0: 43, 1: 48, 2: 30, 3: 52}, {0: 43, 1: 48, 2: 29, 3: 53}]\n"
     ]
    },
    {
     "data": {
      "text/plain": [
       "True"
      ]
     },
     "execution_count": 25,
     "metadata": {},
     "output_type": "execute_result"
    }
   ],
   "source": [
    "result = check_1_dataset_known_folds_som_micro(dataset=dataset,\n",
    "                                                folding=folding,\n",
    "                                                scores=scores,\n",
    "                                                eps=1e-4)\n",
    "result['inconsistency']"
   ]
  },
  {
   "cell_type": "code",
   "execution_count": null,
   "metadata": {},
   "outputs": [],
   "source": []
  }
 ],
 "metadata": {
  "kernelspec": {
   "display_name": "mlscorecheck",
   "language": "python",
   "name": "python3"
  },
  "language_info": {
   "codemirror_mode": {
    "name": "ipython",
    "version": 3
   },
   "file_extension": ".py",
   "mimetype": "text/x-python",
   "name": "python",
   "nbconvert_exporter": "python",
   "pygments_lexer": "ipython3",
   "version": "3.10.0"
  }
 },
 "nbformat": 4,
 "nbformat_minor": 2
}
