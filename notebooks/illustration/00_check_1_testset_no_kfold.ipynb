{
 "cells": [
  {
   "cell_type": "code",
   "execution_count": 7,
   "metadata": {},
   "outputs": [],
   "source": [
    "from mlscorecheck.check import check_1_testset_no_kfold_scores\n",
    "from mlscorecheck.individual import calculate_scores, generate_problem_and_scores"
   ]
  },
  {
   "cell_type": "code",
   "execution_count": 8,
   "metadata": {},
   "outputs": [
    {
     "name": "stderr",
     "output_type": "stream",
     "text": [
      "2023-09-17 13:05:24,239:INFO:Use this function if the scores originate from the tp and tn statistics calculated on one test set with no aggregation of any kind.\n",
      "2023-09-17 13:05:24,243:INFO:calling the score check with scores {'acc': 0.62, 'sens': 0.22, 'spec': 0.86, 'f1p': 0.3, 'fm': 0.32}, uncertainty 0.01, p 530 and n 902\n",
      "2023-09-17 13:05:24,245:INFO:evaluating the tp and tn solution for acc and sens\n",
      "2023-09-17 13:05:24,247:INFO:the tp solutions: (111.29894, 121.90106)\n",
      "2023-09-17 13:05:24,249:INFO:the tn solutions: (751.6160759999999, 790.8639240000001)\n",
      "2023-09-17 13:05:24,253:INFO:evaluating the tp and tn solution for acc and spec\n",
      "2023-09-17 13:05:24,256:INFO:the tp solutions: (88.77533199999993, 135.4646680000002)\n",
      "2023-09-17 13:05:24,258:INFO:the tn solutions: (766.6981959999999, 784.741804)\n",
      "2023-09-17 13:05:24,260:INFO:evaluating the tp and tn solution for acc and f1p\n",
      "2023-09-17 13:05:24,262:INFO:the tp solutions: (108.20512460931658, 125.45746857652338)\n",
      "2023-09-17 13:05:24,263:INFO:the tn solutions: (720.729741489652, 822.9954069390577)\n",
      "2023-09-17 13:05:24,267:INFO:evaluating the tp and tn solution for acc and fm\n",
      "2023-09-17 13:05:24,271:INFO:the tp solutions: (-16.316815204318672, 3.5854769758786067) | (101.7831884021151, 128.25349360431866)\n",
      "2023-09-17 13:05:24,273:INFO:the tn solutions: (745.2636423956811, 800.379675597885) | (866.6502819978749, 921.7663152000788)\n",
      "2023-09-17 13:05:24,275:INFO:evaluating the tp and tn solution for sens and spec\n",
      "2023-09-17 13:05:24,278:INFO:the tp solutions: (111.29894, 121.90106)\n",
      "2023-09-17 13:05:24,279:INFO:the tn solutions: (766.6981959999999, 784.741804)\n",
      "2023-09-17 13:05:24,281:INFO:evaluating the tp and tn solution for sens and f1p\n",
      "2023-09-17 13:05:24,284:INFO:the tp solutions: (111.29894, 121.90106)\n",
      "2023-09-17 13:05:24,286:INFO:the tn solutions: (657.2586176931766, 893.5046324530509)\n",
      "2023-09-17 13:05:24,287:INFO:evaluating the tp and tn solution for sens and fm\n",
      "2023-09-17 13:05:24,289:INFO:the tp solutions: (111.29894, 121.90106)\n",
      "2023-09-17 13:05:24,291:INFO:the tn solutions: (636.7166535970434, 917.0942703288408)\n",
      "2023-09-17 13:05:24,293:INFO:evaluating the tp and tn solution for spec and f1p\n",
      "2023-09-17 13:05:24,294:INFO:the tp solutions: (109.76804841374923, 122.0385407814731)\n",
      "2023-09-17 13:05:24,296:INFO:the tn solutions: (766.6981959999999, 784.741804)\n",
      "2023-09-17 13:05:24,298:INFO:evaluating the tp and tn solution for spec and fm\n",
      "2023-09-17 13:05:24,301:INFO:the tp solutions: (-65.8536328094769, -54.25856650052427) | (106.83422730052428, 121.82197200947691)\n",
      "2023-09-17 13:05:24,303:INFO:the tn solutions: (766.6981959999999, 784.741804)\n",
      "2023-09-17 13:05:24,305:INFO:evaluating the tp and tn solution for f1p and fm\n",
      "2023-09-17 13:05:24,309:INFO:the tp solutions: (80.82924045095699, 294.0107283921828)\n",
      "2023-09-17 13:05:24,311:INFO:the tn solutions: (-420.04420024360695, 1292.9374484676016)\n",
      "2023-09-17 13:05:24,313:INFO:testing acc, feasible tptn pairs: 10\n",
      "2023-09-17 13:05:24,316:INFO:testing sens, feasible tptn pairs: 10\n",
      "2023-09-17 13:05:24,318:INFO:testing spec, feasible tptn pairs: 10\n",
      "2023-09-17 13:05:24,320:INFO:testing f1p, feasible tptn pairs: 10\n",
      "2023-09-17 13:05:24,322:INFO:testing fm, feasible tptn pairs: 10\n",
      "2023-09-17 13:05:24,328:INFO:constructing final tp, tn pair set\n",
      "2023-09-17 13:05:24,330:INFO:final number of intervals: 10\n",
      "2023-09-17 13:05:24,332:INFO:final number of pairs: 130\n"
     ]
    },
    {
     "data": {
      "text/plain": [
       "False"
      ]
     },
     "execution_count": 8,
     "metadata": {},
     "output_type": "execute_result"
    }
   ],
   "source": [
    "testset = {'p': 530, 'n': 902}\n",
    "scores = {'acc': 0.62, 'sens': 0.22, 'spec': 0.86, 'f1p': 0.3, 'fm': 0.32}\n",
    "\n",
    "result = check_1_testset_no_kfold_scores(testset=testset,\n",
    "                                            scores=scores,\n",
    "                                            eps=1e-2)\n",
    "result['inconsistency']"
   ]
  },
  {
   "cell_type": "code",
   "execution_count": 9,
   "metadata": {},
   "outputs": [
    {
     "name": "stderr",
     "output_type": "stream",
     "text": [
      "2023-09-17 13:05:24,361:INFO:Use this function if the scores originate from the tp and tn statistics calculated on one test set with no aggregation of any kind.\n",
      "2023-09-17 13:05:24,364:INFO:calling the score check with scores {'acc': 0.92, 'sens': 0.22, 'spec': 0.86, 'f1p': 0.3, 'fm': 0.32}, uncertainty 0.01, p 530 and n 902\n",
      "2023-09-17 13:05:24,366:INFO:evaluating the tp and tn solution for acc and sens\n",
      "2023-09-17 13:05:24,368:INFO:the tp solutions: (111.29894, 121.90106)\n",
      "2023-09-17 13:05:24,372:INFO:the tn solutions: (1181.216076, 1220.4639240000004)\n",
      "2023-09-17 13:05:24,374:INFO:evaluating the tp and tn solution for acc and spec\n",
      "2023-09-17 13:05:24,376:INFO:the tp solutions: (518.3753319999998, 565.0646680000003)\n",
      "2023-09-17 13:05:24,378:INFO:the tn solutions: (766.6981959999999, 784.741804)\n",
      "2023-09-17 13:05:24,379:INFO:evaluating the tp and tn solution for acc and f1p\n",
      "2023-09-17 13:05:24,381:INFO:the tp solutions: (20.470765551173063, 28.952218416378013)\n",
      "2023-09-17 13:05:24,385:INFO:the tn solutions: (1232.0122032291965, 1355.3280073234066)\n",
      "2023-09-17 13:05:24,387:INFO:evaluating the tp and tn solution for acc and fm\n",
      "2023-09-17 13:05:24,389:INFO:testing acc, feasible tptn pairs: 0\n",
      "2023-09-17 13:05:24,391:INFO:no more feasible tp,tn pairs left\n",
      "2023-09-17 13:05:24,394:INFO:constructing final tp, tn pair set\n",
      "2023-09-17 13:05:24,396:INFO:final number of intervals: 0\n",
      "2023-09-17 13:05:24,398:INFO:final number of pairs: 0\n"
     ]
    },
    {
     "data": {
      "text/plain": [
       "True"
      ]
     },
     "execution_count": 9,
     "metadata": {},
     "output_type": "execute_result"
    }
   ],
   "source": [
    "testset = {'p': 530, 'n': 902}\n",
    "scores = {'acc': 0.92, 'sens': 0.22, 'spec': 0.86, 'f1p': 0.3, 'fm': 0.32}\n",
    "\n",
    "result = check_1_testset_no_kfold_scores(testset=testset,\n",
    "                                            scores=scores,\n",
    "                                            eps=1e-2)\n",
    "result['inconsistency']"
   ]
  },
  {
   "cell_type": "code",
   "execution_count": 10,
   "metadata": {},
   "outputs": [
    {
     "name": "stderr",
     "output_type": "stream",
     "text": [
      "2023-09-17 13:05:24,422:INFO:Use this function if the scores originate from the tp and tn statistics calculated on one test set with no aggregation of any kind.\n",
      "2023-09-17 13:05:24,426:INFO:calling the score check with scores {'acc': 0.954, 'sens': 0.934, 'spec': 0.985, 'ppv': 0.901}, uncertainty 0.001, p 1029 and n 3118\n",
      "2023-09-17 13:05:24,429:INFO:evaluating the tp and tn solution for acc and sens\n",
      "2023-09-17 13:05:24,431:INFO:the tp solutions: (960.054942, 962.1170580000002)\n",
      "2023-09-17 13:05:24,433:INFO:the tn solutions: (2989.965647999999, 3000.3383520000007)\n",
      "2023-09-17 13:05:24,435:INFO:evaluating the tp and tn solution for acc and spec\n",
      "2023-09-17 13:05:24,438:INFO:the tp solutions: (877.7284699999991, 892.2875300000005)\n",
      "2023-09-17 13:05:24,439:INFO:the tn solutions: (3068.105764, 3074.354236)\n",
      "2023-09-17 13:05:24,441:INFO:evaluating the tp and tn solution for acc and ppv\n",
      "2023-09-17 13:05:24,443:INFO:the tp solutions: (933.6679509487356, 949.8052939947056)\n",
      "2023-09-17 13:05:24,445:INFO:the tn solutions: (2988.3769250334417, 3040.8179565580203)\n",
      "2023-09-17 13:05:24,447:INFO:evaluating the tp and tn solution for sens and spec\n",
      "2023-09-17 13:05:24,452:INFO:the tp solutions: (960.054942, 962.1170580000002)\n",
      "2023-09-17 13:05:24,454:INFO:the tn solutions: (3068.105764, 3074.354236)\n",
      "2023-09-17 13:05:24,457:INFO:evaluating the tp and tn solution for sens and ppv\n",
      "2023-09-17 13:05:24,459:INFO:the tp solutions: (960.054942, 962.1170580000002)\n",
      "2023-09-17 13:05:24,462:INFO:the tn solutions: (3002.3483691722586, 3022.4720549935846)\n",
      "2023-09-17 13:05:24,464:INFO:evaluating the tp and tn solution for spec and ppv\n",
      "2023-09-17 13:05:24,466:INFO:the tp solutions: (392.8031470217782, 459.241011658118)\n",
      "2023-09-17 13:05:24,468:INFO:the tn solutions: (3068.105764, 3074.354236)\n",
      "2023-09-17 13:05:24,470:INFO:testing acc, feasible tptn pairs: 0\n",
      "2023-09-17 13:05:24,471:INFO:no more feasible tp,tn pairs left\n",
      "2023-09-17 13:05:24,473:INFO:constructing final tp, tn pair set\n",
      "2023-09-17 13:05:24,474:INFO:final number of intervals: 0\n",
      "2023-09-17 13:05:24,475:INFO:final number of pairs: 0\n"
     ]
    },
    {
     "data": {
      "text/plain": [
       "True"
      ]
     },
     "execution_count": 10,
     "metadata": {},
     "output_type": "execute_result"
    }
   ],
   "source": [
    "result = check_1_testset_no_kfold_scores(\n",
    "            scores={'acc': 0.954, 'sens': 0.934, 'spec': 0.985, 'ppv': 0.901},\n",
    "            eps=1e-3,\n",
    "            testset={'name': 'common_datasets.ADA'}\n",
    "        )\n",
    "result['inconsistency']"
   ]
  },
  {
   "cell_type": "code",
   "execution_count": 11,
   "metadata": {},
   "outputs": [
    {
     "data": {
      "text/plain": [
       "({'p': 970, 'n': 807},\n",
       " {'acc': 0.9, 'sens': 0.98, 'spec': 0.81, 'f1p': 0.92, 'fm': 0.92})"
      ]
     },
     "execution_count": 11,
     "metadata": {},
     "output_type": "execute_result"
    }
   ],
   "source": [
    "problem, scores = generate_problem_and_scores(rounding_decimals=2, \n",
    "                                            score_subset=['acc', 'sens', 'spec', \n",
    "                                                            'f1p', 'fm'])\n",
    "problem, scores"
   ]
  },
  {
   "cell_type": "code",
   "execution_count": 12,
   "metadata": {},
   "outputs": [
    {
     "name": "stderr",
     "output_type": "stream",
     "text": [
      "2023-09-17 13:05:24,522:INFO:Use this function if the scores originate from the tp and tn statistics calculated on one test set with no aggregation of any kind.\n",
      "2023-09-17 13:05:24,526:INFO:calling the score check with scores {'acc': 0.9, 'sens': 0.98, 'spec': 0.81, 'f1p': 0.92, 'fm': 0.92}, uncertainty 0.01, p 970 and n 807\n",
      "2023-09-17 13:05:24,529:INFO:evaluating the tp and tn solution for acc and sens\n",
      "2023-09-17 13:05:24,531:INFO:the tp solutions: (940.8980599999999, 960.3019400000001)\n",
      "2023-09-17 13:05:24,533:INFO:the tn solutions: (621.2245059999998, 676.1754940000002)\n",
      "2023-09-17 13:05:24,536:INFO:evaluating the tp and tn solution for acc and spec\n",
      "2023-09-17 13:05:24,539:INFO:the tp solutions: (919.7848319999997, 971.475168)\n",
      "2023-09-17 13:05:24,541:INFO:the tn solutions: (645.598386, 661.7416140000001)\n",
      "2023-09-17 13:05:24,542:INFO:evaluating the tp and tn solution for acc and f1p\n",
      "2023-09-17 13:05:24,544:INFO:the tp solutions: (808.4972889886213, 1298.542788130435)\n",
      "2023-09-17 13:05:24,546:INFO:the tn solutions: (36.430849497185676, 1270.7131574680168)\n",
      "2023-09-17 13:05:24,547:INFO:evaluating the tp and tn solution for acc and fm\n",
      "2023-09-17 13:05:24,550:INFO:the tp solutions: (575.7589605398548, 1071.4520073460326)\n",
      "2023-09-17 13:05:24,556:INFO:the tn solutions: (510.07443865396743, 1046.3154837382724)\n",
      "2023-09-17 13:05:24,558:INFO:evaluating the tp and tn solution for sens and spec\n",
      "2023-09-17 13:05:24,561:INFO:the tp solutions: (940.8980599999999, 960.3019400000001)\n",
      "2023-09-17 13:05:24,563:INFO:the tn solutions: (645.598386, 661.7416140000001)\n",
      "2023-09-17 13:05:24,565:INFO:evaluating the tp and tn solution for sens and f1p\n",
      "2023-09-17 13:05:24,569:INFO:the tp solutions: (940.8980599999999, 960.3019400000001)\n",
      "2023-09-17 13:05:24,570:INFO:the tn solutions: (594.2760540341627, 729.5622175036436)\n",
      "2023-09-17 13:05:24,571:INFO:evaluating the tp and tn solution for sens and fm\n",
      "2023-09-17 13:05:24,571:INFO:the tp solutions: (940.8980599999999, 960.3019400000001)\n",
      "2023-09-17 13:05:24,572:INFO:the tn solutions: (574.3149999839007, 743.7259908610533)\n",
      "2023-09-17 13:05:24,573:INFO:evaluating the tp and tn solution for spec and f1p\n",
      "2023-09-17 13:05:24,573:INFO:the tp solutions: (931.0835216295271, 983.3717108099528)\n",
      "2023-09-17 13:05:24,574:INFO:the tn solutions: (645.598386, 661.7416140000001)\n",
      "2023-09-17 13:05:24,577:INFO:evaluating the tp and tn solution for spec and fm\n",
      "2023-09-17 13:05:24,578:INFO:the tp solutions: (-147.55079030620828, -116.78577009508638) | (928.8679852950863, 977.4845751062085)\n",
      "2023-09-17 13:05:24,579:INFO:the tn solutions: (645.598386, 661.7416140000001)\n",
      "2023-09-17 13:05:24,580:INFO:evaluating the tp and tn solution for f1p and fm\n",
      "2023-09-17 13:05:24,582:INFO:the tp solutions: (681.617555335497, 1112.1201032289391)\n",
      "2023-09-17 13:05:24,582:INFO:the tn solutions: (206.30289669539042, 1276.179040747824)\n",
      "2023-09-17 13:05:24,583:INFO:testing acc, feasible tptn pairs: 16\n",
      "2023-09-17 13:05:24,585:INFO:testing sens, feasible tptn pairs: 16\n",
      "2023-09-17 13:05:24,586:INFO:testing spec, feasible tptn pairs: 16\n",
      "2023-09-17 13:05:24,586:INFO:testing f1p, feasible tptn pairs: 16\n",
      "2023-09-17 13:05:24,588:INFO:testing fm, feasible tptn pairs: 16\n",
      "2023-09-17 13:05:24,590:INFO:constructing final tp, tn pair set\n",
      "2023-09-17 13:05:24,591:INFO:final number of intervals: 16\n",
      "2023-09-17 13:05:24,592:INFO:final number of pairs: 300\n"
     ]
    }
   ],
   "source": [
    "result = check_1_testset_no_kfold_scores(scores=scores, \n",
    "                                            eps=1e-2, \n",
    "                                            testset=problem)"
   ]
  }
 ],
 "metadata": {
  "kernelspec": {
   "display_name": "mlscorecheck",
   "language": "python",
   "name": "python3"
  },
  "language_info": {
   "codemirror_mode": {
    "name": "ipython",
    "version": 3
   },
   "file_extension": ".py",
   "mimetype": "text/x-python",
   "name": "python",
   "nbconvert_exporter": "python",
   "pygments_lexer": "ipython3",
   "version": "3.10.0"
  },
  "orig_nbformat": 4
 },
 "nbformat": 4,
 "nbformat_minor": 2
}
