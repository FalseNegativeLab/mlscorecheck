{
 "cells": [
  {
   "cell_type": "code",
   "execution_count": 9,
   "metadata": {},
   "outputs": [],
   "source": [
    "from mlscorecheck.check.binary import check_1_testset_no_kfold\n",
    "from mlscorecheck.individual import generate_problem_and_scores"
   ]
  },
  {
   "cell_type": "code",
   "execution_count": 10,
   "metadata": {},
   "outputs": [
    {
     "name": "stderr",
     "output_type": "stream",
     "text": [
      "2023-10-31 11:54:10,621:INFO:Use this function if the scores originate from the tp and tn statistics calculated on one test set with no aggregation of any kind.\n",
      "2023-10-31 11:54:10,623:INFO:calling the score check with scores {'acc': 0.62, 'sens': 0.22, 'spec': 0.86, 'f1p': 0.3, 'fm': 0.32}, uncertainty 0.01, p 530 and n 902\n",
      "2023-10-31 11:54:10,625:INFO:checking the scores {'acc': 0.62, 'sens': 0.22, 'spec': 0.86, 'f1p': 0.3, 'fm': 0.32}\n",
      "2023-10-31 11:54:10,627:INFO:evaluating the tp and tn solution for acc and sens\n",
      "2023-10-31 11:54:10,628:INFO:intervals before: (0, 530), (0, 902)\n",
      "2023-10-31 11:54:10,630:INFO:the tp solutions: (111.29894, 121.90106)\n",
      "2023-10-31 11:54:10,631:INFO:the tn solutions: (751.6160759999999, 790.8639240000001)\n",
      "2023-10-31 11:54:10,633:INFO:intervals after: [(112, 121)], [(752, 790)]\n",
      "2023-10-31 11:54:10,635:INFO:evaluating the tp and tn solution for acc and spec\n",
      "2023-10-31 11:54:10,636:INFO:intervals before: [(112, 121)], [(752, 790)]\n",
      "2023-10-31 11:54:10,638:INFO:the tp solutions: (88.77533199999993, 135.4646680000002)\n",
      "2023-10-31 11:54:10,639:INFO:the tn solutions: (766.6981959999999, 784.741804)\n",
      "2023-10-31 11:54:10,640:INFO:intervals after: [(112, 121)], [(767, 784)]\n",
      "2023-10-31 11:54:10,642:INFO:evaluating the tp and tn solution for acc and f1p\n",
      "2023-10-31 11:54:10,644:INFO:intervals before: [(112, 121)], [(767, 784)]\n",
      "2023-10-31 11:54:10,645:INFO:the tp solutions: (108.20512460931658, 125.45746857652338)\n",
      "2023-10-31 11:54:10,646:INFO:the tn solutions: (720.729741489652, 822.9954069390577)\n",
      "2023-10-31 11:54:10,648:INFO:intervals after: [(112, 121)], [(767, 784)]\n",
      "2023-10-31 11:54:10,650:INFO:evaluating the tp and tn solution for acc and fm\n",
      "2023-10-31 11:54:10,652:INFO:intervals before: [(112, 121)], [(767, 784)]\n",
      "2023-10-31 11:54:10,653:INFO:the tp solutions: (-16.316815204318672, 3.5854769758786067) | (101.7831884021151, 128.25349360431866)\n",
      "2023-10-31 11:54:10,655:INFO:the tn solutions: (745.2636423956811, 800.379675597885) | (866.6502819978749, 921.7663152000788)\n",
      "2023-10-31 11:54:10,656:INFO:intervals after: [(112, 121)], [(767, 784)]\n",
      "2023-10-31 11:54:10,657:INFO:evaluating the tp and tn solution for sens and spec\n",
      "2023-10-31 11:54:10,659:INFO:intervals before: [(112, 121)], [(767, 784)]\n",
      "2023-10-31 11:54:10,660:INFO:the tp solutions: (111.29894, 121.90106)\n",
      "2023-10-31 11:54:10,661:INFO:the tn solutions: (766.6981959999999, 784.741804)\n",
      "2023-10-31 11:54:10,663:INFO:intervals after: [(112, 121)], [(767, 784)]\n",
      "2023-10-31 11:54:10,665:INFO:evaluating the tp and tn solution for sens and f1p\n",
      "2023-10-31 11:54:10,666:INFO:intervals before: [(112, 121)], [(767, 784)]\n",
      "2023-10-31 11:54:10,668:INFO:the tp solutions: (111.29894, 121.90106)\n",
      "2023-10-31 11:54:10,669:INFO:the tn solutions: (657.2586176931766, 893.5046324530509)\n",
      "2023-10-31 11:54:10,670:INFO:intervals after: [(112, 121)], [(767, 784)]\n",
      "2023-10-31 11:54:10,671:INFO:evaluating the tp and tn solution for sens and fm\n",
      "2023-10-31 11:54:10,672:INFO:intervals before: [(112, 121)], [(767, 784)]\n",
      "2023-10-31 11:54:10,674:INFO:the tp solutions: (111.29894, 121.90106)\n",
      "2023-10-31 11:54:10,675:INFO:the tn solutions: (636.7166535970434, 917.0942703288408)\n",
      "2023-10-31 11:54:10,677:INFO:intervals after: [(112, 121)], [(767, 784)]\n",
      "2023-10-31 11:54:10,678:INFO:evaluating the tp and tn solution for spec and f1p\n",
      "2023-10-31 11:54:10,680:INFO:intervals before: [(112, 121)], [(767, 784)]\n",
      "2023-10-31 11:54:10,681:INFO:the tp solutions: (109.76804841374923, 122.0385407814731)\n",
      "2023-10-31 11:54:10,682:INFO:the tn solutions: (766.6981959999999, 784.741804)\n",
      "2023-10-31 11:54:10,684:INFO:intervals after: [(112, 121)], [(767, 784)]\n",
      "2023-10-31 11:54:10,685:INFO:evaluating the tp and tn solution for spec and fm\n",
      "2023-10-31 11:54:10,687:INFO:intervals before: [(112, 121)], [(767, 784)]\n",
      "2023-10-31 11:54:10,688:INFO:the tp solutions: (-65.8536328094769, -54.25856650052427) | (106.83422730052428, 121.82197200947691)\n",
      "2023-10-31 11:54:10,689:INFO:the tn solutions: (766.6981959999999, 784.741804)\n",
      "2023-10-31 11:54:10,690:INFO:intervals after: [(112, 121)], [(767, 784)]\n",
      "2023-10-31 11:54:10,691:INFO:evaluating the tp and tn solution for f1p and fm\n",
      "2023-10-31 11:54:10,694:INFO:intervals before: [(112, 121)], [(767, 784)]\n",
      "2023-10-31 11:54:10,696:INFO:the tp solutions: (80.82924045095699, 294.0107283921828)\n",
      "2023-10-31 11:54:10,697:INFO:the tn solutions: (-420.04420024360695, 1292.9374484676016)\n",
      "2023-10-31 11:54:10,699:INFO:intervals after: [(112, 121)], [(767, 784)]\n",
      "2023-10-31 11:54:10,701:INFO:testing acc, feasible tptn pairs: 10\n",
      "2023-10-31 11:54:10,704:INFO:testing sens, feasible tptn pairs: 10\n",
      "2023-10-31 11:54:10,705:INFO:testing spec, feasible tptn pairs: 10\n",
      "2023-10-31 11:54:10,706:INFO:testing f1p, feasible tptn pairs: 10\n",
      "2023-10-31 11:54:10,708:INFO:testing fm, feasible tptn pairs: 10\n",
      "2023-10-31 11:54:10,714:INFO:constructing final tp, tn pair set\n",
      "2023-10-31 11:54:10,716:INFO:final number of intervals: 10\n",
      "2023-10-31 11:54:10,717:INFO:final number of pairs: 130\n"
     ]
    },
    {
     "data": {
      "text/plain": [
       "False"
      ]
     },
     "execution_count": 10,
     "metadata": {},
     "output_type": "execute_result"
    }
   ],
   "source": [
    "testset = {'p': 530, 'n': 902}\n",
    "scores = {'acc': 0.62, 'sens': 0.22, 'spec': 0.86, 'f1p': 0.3, 'fm': 0.32}\n",
    "\n",
    "result = check_1_testset_no_kfold(testset=testset,\n",
    "                                    scores=scores,\n",
    "                                    eps=1e-2)\n",
    "result['inconsistency']"
   ]
  },
  {
   "cell_type": "code",
   "execution_count": 11,
   "metadata": {},
   "outputs": [
    {
     "name": "stderr",
     "output_type": "stream",
     "text": [
      "2023-10-31 11:54:10,754:INFO:Use this function if the scores originate from the tp and tn statistics calculated on one test set with no aggregation of any kind.\n",
      "2023-10-31 11:54:10,756:INFO:calling the score check with scores {'acc': 0.92, 'sens': 0.22, 'spec': 0.86, 'f1p': 0.3, 'fm': 0.32}, uncertainty 0.01, p 530 and n 902\n",
      "2023-10-31 11:54:10,759:INFO:checking the scores {'acc': 0.92, 'sens': 0.22, 'spec': 0.86, 'f1p': 0.3, 'fm': 0.32}\n",
      "2023-10-31 11:54:10,761:INFO:evaluating the tp and tn solution for acc and sens\n",
      "2023-10-31 11:54:10,763:INFO:intervals before: (0, 530), (0, 902)\n",
      "2023-10-31 11:54:10,764:INFO:the tp solutions: (111.29894, 121.90106)\n",
      "2023-10-31 11:54:10,765:INFO:the tn solutions: (1181.216076, 1220.4639240000004)\n",
      "2023-10-31 11:54:10,767:INFO:intervals after: [(112, 121)], []\n",
      "2023-10-31 11:54:10,769:INFO:evaluating the tp and tn solution for acc and spec\n",
      "2023-10-31 11:54:10,770:INFO:intervals before: [(112, 121)], []\n",
      "2023-10-31 11:54:10,772:INFO:the tp solutions: (518.3753319999998, 565.0646680000003)\n",
      "2023-10-31 11:54:10,773:INFO:the tn solutions: (766.6981959999999, 784.741804)\n",
      "2023-10-31 11:54:10,774:INFO:intervals after: [], []\n",
      "2023-10-31 11:54:10,775:INFO:evaluating the tp and tn solution for acc and f1p\n",
      "2023-10-31 11:54:10,778:INFO:intervals before: [], []\n",
      "2023-10-31 11:54:10,779:INFO:the tp solutions: (20.470765551173063, 28.952218416378013)\n",
      "2023-10-31 11:54:10,780:INFO:the tn solutions: (1232.0122032291965, 1355.3280073234066)\n",
      "2023-10-31 11:54:10,781:INFO:intervals after: [], []\n",
      "2023-10-31 11:54:10,782:INFO:evaluating the tp and tn solution for acc and fm\n",
      "2023-10-31 11:54:10,783:INFO:all negative bases - iteration finished\n",
      "2023-10-31 11:54:10,784:INFO:testing acc, feasible tptn pairs: 0\n",
      "2023-10-31 11:54:10,785:INFO:no more feasible tp,tn pairs left\n",
      "2023-10-31 11:54:10,786:INFO:constructing final tp, tn pair set\n",
      "2023-10-31 11:54:10,788:INFO:final number of intervals: 0\n",
      "2023-10-31 11:54:10,789:INFO:final number of pairs: 0\n"
     ]
    },
    {
     "data": {
      "text/plain": [
       "True"
      ]
     },
     "execution_count": 11,
     "metadata": {},
     "output_type": "execute_result"
    }
   ],
   "source": [
    "testset = {'p': 530, 'n': 902}\n",
    "scores = {'acc': 0.92, 'sens': 0.22, 'spec': 0.86, 'f1p': 0.3, 'fm': 0.32}\n",
    "\n",
    "result = check_1_testset_no_kfold(testset=testset,\n",
    "                                    scores=scores,\n",
    "                                    eps=1e-2)\n",
    "result['inconsistency']"
   ]
  },
  {
   "cell_type": "code",
   "execution_count": 12,
   "metadata": {},
   "outputs": [
    {
     "name": "stderr",
     "output_type": "stream",
     "text": [
      "2023-10-31 11:54:10,814:INFO:Use this function if the scores originate from the tp and tn statistics calculated on one test set with no aggregation of any kind.\n",
      "2023-10-31 11:54:10,817:INFO:calling the score check with scores {'acc': 0.954, 'sens': 0.934, 'spec': 0.985, 'ppv': 0.901}, uncertainty 0.001, p 1029 and n 3118\n",
      "2023-10-31 11:54:10,820:INFO:checking the scores {'acc': 0.954, 'sens': 0.934, 'spec': 0.985, 'ppv': 0.901}\n",
      "2023-10-31 11:54:10,821:INFO:evaluating the tp and tn solution for acc and sens\n",
      "2023-10-31 11:54:10,823:INFO:intervals before: (0, 1029), (0, 3118)\n",
      "2023-10-31 11:54:10,824:INFO:the tp solutions: (960.054942, 962.1170580000002)\n",
      "2023-10-31 11:54:10,827:INFO:the tn solutions: (2989.965647999999, 3000.3383520000007)\n",
      "2023-10-31 11:54:10,829:INFO:intervals after: [(961, 962)], [(2990, 3000)]\n",
      "2023-10-31 11:54:10,831:INFO:evaluating the tp and tn solution for acc and spec\n",
      "2023-10-31 11:54:10,832:INFO:intervals before: [(961, 962)], [(2990, 3000)]\n",
      "2023-10-31 11:54:10,833:INFO:the tp solutions: (877.7284699999991, 892.2875300000005)\n",
      "2023-10-31 11:54:10,834:INFO:the tn solutions: (3068.105764, 3074.354236)\n",
      "2023-10-31 11:54:10,836:INFO:intervals after: [], []\n",
      "2023-10-31 11:54:10,837:INFO:evaluating the tp and tn solution for acc and ppv\n",
      "2023-10-31 11:54:10,839:INFO:intervals before: [], []\n",
      "2023-10-31 11:54:10,840:INFO:the tp solutions: (933.6679509487356, 949.8052939947056)\n",
      "2023-10-31 11:54:10,842:INFO:the tn solutions: (2988.3769250334417, 3040.8179565580203)\n",
      "2023-10-31 11:54:10,843:INFO:intervals after: [], []\n",
      "2023-10-31 11:54:10,844:INFO:evaluating the tp and tn solution for sens and spec\n",
      "2023-10-31 11:54:10,845:INFO:intervals before: [], []\n",
      "2023-10-31 11:54:10,847:INFO:the tp solutions: (960.054942, 962.1170580000002)\n",
      "2023-10-31 11:54:10,854:INFO:the tn solutions: (3068.105764, 3074.354236)\n",
      "2023-10-31 11:54:10,856:INFO:intervals after: [], []\n",
      "2023-10-31 11:54:10,857:INFO:evaluating the tp and tn solution for sens and ppv\n",
      "2023-10-31 11:54:10,859:INFO:intervals before: [], []\n",
      "2023-10-31 11:54:10,860:INFO:the tp solutions: (960.054942, 962.1170580000002)\n",
      "2023-10-31 11:54:10,861:INFO:the tn solutions: (3002.3483691722586, 3022.4720549935846)\n",
      "2023-10-31 11:54:10,862:INFO:intervals after: [], []\n",
      "2023-10-31 11:54:10,863:INFO:evaluating the tp and tn solution for spec and ppv\n",
      "2023-10-31 11:54:10,865:INFO:intervals before: [], []\n",
      "2023-10-31 11:54:10,867:INFO:the tp solutions: (392.8031470217782, 459.241011658118)\n",
      "2023-10-31 11:54:10,868:INFO:the tn solutions: (3068.105764, 3074.354236)\n",
      "2023-10-31 11:54:10,869:INFO:intervals after: [], []\n",
      "2023-10-31 11:54:10,871:INFO:testing acc, feasible tptn pairs: 0\n",
      "2023-10-31 11:54:10,872:INFO:no more feasible tp,tn pairs left\n",
      "2023-10-31 11:54:10,873:INFO:constructing final tp, tn pair set\n",
      "2023-10-31 11:54:10,874:INFO:final number of intervals: 0\n",
      "2023-10-31 11:54:10,875:INFO:final number of pairs: 0\n"
     ]
    },
    {
     "data": {
      "text/plain": [
       "True"
      ]
     },
     "execution_count": 12,
     "metadata": {},
     "output_type": "execute_result"
    }
   ],
   "source": [
    "result = check_1_testset_no_kfold(\n",
    "            scores={'acc': 0.954, 'sens': 0.934, 'spec': 0.985, 'ppv': 0.901},\n",
    "            eps=1e-3,\n",
    "            testset={'name': 'common_datasets.ADA'}\n",
    "        )\n",
    "result['inconsistency']"
   ]
  },
  {
   "cell_type": "code",
   "execution_count": 13,
   "metadata": {},
   "outputs": [
    {
     "data": {
      "text/plain": [
       "({'p': 210, 'n': 745},\n",
       " {'acc': 0.57, 'sens': 0.95, 'spec': 0.47, 'f1p': 0.49, 'fm': 0.56})"
      ]
     },
     "execution_count": 13,
     "metadata": {},
     "output_type": "execute_result"
    }
   ],
   "source": [
    "problem, scores = generate_problem_and_scores(rounding_decimals=2,\n",
    "                                            score_subset=['acc', 'sens', 'spec',\n",
    "                                                            'f1p', 'fm'])\n",
    "problem, scores"
   ]
  },
  {
   "cell_type": "code",
   "execution_count": 14,
   "metadata": {},
   "outputs": [
    {
     "name": "stderr",
     "output_type": "stream",
     "text": [
      "2023-10-31 11:54:10,923:INFO:Use this function if the scores originate from the tp and tn statistics calculated on one test set with no aggregation of any kind.\n",
      "2023-10-31 11:54:10,924:INFO:calling the score check with scores {'acc': 0.57, 'sens': 0.95, 'spec': 0.47, 'f1p': 0.49, 'fm': 0.56}, uncertainty 0.01, p 210 and n 745\n",
      "2023-10-31 11:54:10,926:INFO:checking the scores {'acc': 0.57, 'sens': 0.95, 'spec': 0.47, 'f1p': 0.49, 'fm': 0.56}\n",
      "2023-10-31 11:54:10,928:INFO:evaluating the tp and tn solution for acc and sens\n",
      "2023-10-31 11:54:10,929:INFO:intervals before: (0, 210), (0, 745)\n",
      "2023-10-31 11:54:10,930:INFO:the tp solutions: (197.39958, 201.60042)\n",
      "2023-10-31 11:54:10,932:INFO:the tn solutions: (333.1976699999999, 356.50233000000003)\n",
      "2023-10-31 11:54:10,933:INFO:intervals after: [(198, 201)], [(334, 356)]\n",
      "2023-10-31 11:54:10,935:INFO:evaluating the tp and tn solution for acc and spec\n",
      "2023-10-31 11:54:10,936:INFO:intervals before: [(198, 201)], [(334, 356)]\n",
      "2023-10-31 11:54:10,938:INFO:the tp solutions: (177.19659999999993, 211.20340000000004)\n",
      "2023-10-31 11:54:10,941:INFO:the tn solutions: (342.69851, 357.60148999999996)\n",
      "2023-10-31 11:54:10,942:INFO:intervals after: [(198, 201)], [(343, 356)]\n",
      "2023-10-31 11:54:10,943:INFO:evaluating the tp and tn solution for acc and f1p\n",
      "2023-10-31 11:54:10,945:INFO:intervals before: [(198, 201)], [(343, 356)]\n",
      "2023-10-31 11:54:10,946:INFO:the tp solutions: (185.120712039396, 210.10263581436337)\n",
      "2023-10-31 11:54:10,947:INFO:the tn solutions: (303.0201876109897, 392.7052872173289)\n",
      "2023-10-31 11:54:10,948:INFO:intervals after: [(198, 201)], [(343, 356)]\n",
      "2023-10-31 11:54:10,949:INFO:evaluating the tp and tn solution for acc and fm\n",
      "2023-10-31 11:54:10,952:INFO:intervals before: [(198, 201)], [(343, 356)]\n",
      "2023-10-31 11:54:10,953:INFO:the tp solutions: (-71.99544241189348, -61.34513581197725) | (190.70466541197726, 206.0599128118935)\n",
      "2023-10-31 11:54:10,955:INFO:the tn solutions: (328.7381771881064, 363.1972445880227) | (593.7487386102972, 628.2078060102135)\n",
      "2023-10-31 11:54:10,958:INFO:intervals after: [(198, 201)], [(343, 356)]\n",
      "2023-10-31 11:54:10,959:INFO:evaluating the tp and tn solution for sens and spec\n",
      "2023-10-31 11:54:10,971:INFO:intervals before: [(198, 201)], [(343, 356)]\n",
      "2023-10-31 11:54:10,973:INFO:the tp solutions: (197.39958, 201.60042)\n",
      "2023-10-31 11:54:10,976:INFO:the tn solutions: (342.69851, 357.60148999999996)\n",
      "2023-10-31 11:54:10,977:INFO:intervals after: [(198, 201)], [(343, 356)]\n",
      "2023-10-31 11:54:10,979:INFO:evaluating the tp and tn solution for sens and f1p\n",
      "2023-10-31 11:54:10,981:INFO:intervals before: [(198, 201)], [(343, 356)]\n",
      "2023-10-31 11:54:10,982:INFO:the tp solutions: (197.39958, 201.60042)\n",
      "2023-10-31 11:54:10,983:INFO:the tn solutions: (299.8961076172496, 382.3002662528595)\n",
      "2023-10-31 11:54:10,985:INFO:intervals after: [(198, 201)], [(343, 356)]\n",
      "2023-10-31 11:54:10,985:INFO:evaluating the tp and tn solution for sens and fm\n",
      "2023-10-31 11:54:10,987:INFO:intervals before: [(198, 201)], [(343, 356)]\n",
      "2023-10-31 11:54:10,988:INFO:the tp solutions: (197.39958, 201.60042)\n",
      "2023-10-31 11:54:10,992:INFO:the tn solutions: (281.73699880692305, 403.30020353302064)\n",
      "2023-10-31 11:54:10,995:INFO:intervals after: [(198, 201)], [(343, 356)]\n",
      "2023-10-31 11:54:10,997:INFO:evaluating the tp and tn solution for spec and f1p\n",
      "2023-10-31 11:54:10,999:INFO:intervals before: [(198, 201)], [(343, 356)]\n",
      "2023-10-31 11:54:11,003:INFO:the tp solutions: (188.65112677679375, 204.1015852041003)\n",
      "2023-10-31 11:54:11,004:INFO:the tn solutions: (342.69851, 357.60148999999996)\n",
      "2023-10-31 11:54:11,009:INFO:intervals after: [(198, 201)], [(343, 356)]\n",
      "2023-10-31 11:54:11,011:INFO:evaluating the tp and tn solution for spec and fm\n",
      "2023-10-31 11:54:11,013:INFO:intervals before: [(198, 201)], [(343, 356)]\n",
      "2023-10-31 11:54:11,014:INFO:the tp solutions: (-136.23520570961827, -127.13922259117933) | (191.81898739117935, 203.2674409096183)\n",
      "2023-10-31 11:54:11,018:INFO:the tn solutions: (342.69851, 357.60148999999996)\n",
      "2023-10-31 11:54:11,020:INFO:intervals after: [(198, 201)], [(343, 356)]\n",
      "2023-10-31 11:54:11,021:INFO:evaluating the tp and tn solution for f1p and fm\n",
      "2023-10-31 11:54:11,028:INFO:intervals before: [(198, 201)], [(343, 356)]\n",
      "2023-10-31 11:54:11,030:INFO:the tp solutions: (56.03616326493973, 85.00819613176057) | (179.9747957264409, 218.80763214312438)\n",
      "2023-10-31 11:54:11,031:INFO:the tn solutions: (212.67693278746776, 483.0344824810753) | (594.3566551997255, 897.1902513241985)\n",
      "2023-10-31 11:54:11,033:INFO:intervals after: [(198, 201)], [(343, 356)]\n",
      "2023-10-31 11:54:11,035:INFO:testing acc, feasible tptn pairs: 4\n",
      "2023-10-31 11:54:11,036:INFO:testing sens, feasible tptn pairs: 4\n",
      "2023-10-31 11:54:11,038:INFO:testing spec, feasible tptn pairs: 4\n",
      "2023-10-31 11:54:11,039:INFO:testing f1p, feasible tptn pairs: 4\n",
      "2023-10-31 11:54:11,040:INFO:testing fm, feasible tptn pairs: 4\n",
      "2023-10-31 11:54:11,042:INFO:constructing final tp, tn pair set\n",
      "2023-10-31 11:54:11,043:INFO:final number of intervals: 4\n",
      "2023-10-31 11:54:11,044:INFO:final number of pairs: 46\n"
     ]
    }
   ],
   "source": [
    "result = check_1_testset_no_kfold(scores=scores,\n",
    "                                    eps=1e-2,\n",
    "                                    testset=problem)"
   ]
  }
 ],
 "metadata": {
  "kernelspec": {
   "display_name": "mlscorecheck",
   "language": "python",
   "name": "python3"
  },
  "language_info": {
   "codemirror_mode": {
    "name": "ipython",
    "version": 3
   },
   "file_extension": ".py",
   "mimetype": "text/x-python",
   "name": "python",
   "nbconvert_exporter": "python",
   "pygments_lexer": "ipython3",
   "version": "3.10.0"
  },
  "orig_nbformat": 4
 },
 "nbformat": 4,
 "nbformat_minor": 2
}
