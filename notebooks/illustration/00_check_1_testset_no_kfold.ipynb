{
 "cells": [
  {
   "cell_type": "code",
   "execution_count": 7,
   "metadata": {},
   "outputs": [],
   "source": [
    "from mlscorecheck.check import check_1_testset_no_kfold_scores\n",
    "from mlscorecheck.individual import calculate_scores, generate_problem_and_scores"
   ]
  },
  {
   "cell_type": "code",
   "execution_count": 8,
   "metadata": {},
   "outputs": [
    {
     "name": "stderr",
     "output_type": "stream",
     "text": [
      "2023-09-16 11:31:06,144:INFO:Use this function if the scores originate from the tp and tn statistics calculated on one test set with no aggregation of any kind.\n",
      "2023-09-16 11:31:06,146:INFO:calling the score check with scores {'acc': 0.62, 'sens': 0.22, 'spec': 0.86, 'f1p': 0.3, 'fm': 0.32}, uncertainty 0.01, p 530 and n 902\n",
      "2023-09-16 11:31:06,148:INFO:evaluating the tp and tn solution for acc and sens\n",
      "2023-09-16 11:31:06,150:INFO:the tp solutions: (111.29894, 121.90106)\n",
      "2023-09-16 11:31:06,151:INFO:the tn solutions: (751.6160759999999, 790.8639240000001)\n",
      "2023-09-16 11:31:06,153:INFO:evaluating the tp and tn solution for acc and spec\n",
      "2023-09-16 11:31:06,154:INFO:the tp solutions: (88.77533199999993, 135.4646680000002)\n",
      "2023-09-16 11:31:06,155:INFO:the tn solutions: (766.6981959999999, 784.741804)\n",
      "2023-09-16 11:31:06,157:INFO:evaluating the tp and tn solution for acc and f1p\n",
      "2023-09-16 11:31:06,158:INFO:the tp solutions: (108.20512460931658, 125.45746857652338)\n",
      "2023-09-16 11:31:06,159:INFO:the tn solutions: (720.729741489652, 822.9954069390577)\n",
      "2023-09-16 11:31:06,166:INFO:evaluating the tp and tn solution for acc and fm\n",
      "2023-09-16 11:31:06,168:INFO:the tp solutions: (-16.316815204318672, 3.5854769758786067) | (101.7831884021151, 128.25349360431866)\n",
      "2023-09-16 11:31:06,168:INFO:the tn solutions: (745.2636423956811, 800.379675597885) | (866.6502819978749, 921.7663152000788)\n",
      "2023-09-16 11:31:06,171:INFO:evaluating the tp and tn solution for sens and spec\n",
      "2023-09-16 11:31:06,173:INFO:the tp solutions: (111.29894, 121.90106)\n",
      "2023-09-16 11:31:06,174:INFO:the tn solutions: (766.6981959999999, 784.741804)\n",
      "2023-09-16 11:31:06,175:INFO:evaluating the tp and tn solution for sens and f1p\n",
      "2023-09-16 11:31:06,177:INFO:the tp solutions: (111.29894, 121.90106)\n",
      "2023-09-16 11:31:06,180:INFO:the tn solutions: (657.2586176931766, 893.5046324530509)\n",
      "2023-09-16 11:31:06,181:INFO:evaluating the tp and tn solution for sens and fm\n",
      "2023-09-16 11:31:06,183:INFO:the tp solutions: (111.29894, 121.90106)\n",
      "2023-09-16 11:31:06,184:INFO:the tn solutions: (636.7166535970434, 917.0942703288408)\n",
      "2023-09-16 11:31:06,185:INFO:evaluating the tp and tn solution for spec and f1p\n",
      "2023-09-16 11:31:06,186:INFO:the tp solutions: (109.76804841374923, 122.0385407814731)\n",
      "2023-09-16 11:31:06,187:INFO:the tn solutions: (766.6981959999999, 784.741804)\n",
      "2023-09-16 11:31:06,189:INFO:evaluating the tp and tn solution for spec and fm\n",
      "2023-09-16 11:31:06,191:INFO:the tp solutions: (-65.8536328094769, -54.25856650052427) | (106.83422730052428, 121.82197200947691)\n",
      "2023-09-16 11:31:06,192:INFO:the tn solutions: (766.6981959999999, 784.741804)\n",
      "2023-09-16 11:31:06,194:INFO:evaluating the tp and tn solution for f1p and fm\n",
      "2023-09-16 11:31:06,196:INFO:the tp solutions: (80.82924045095699, 294.0107283921828)\n",
      "2023-09-16 11:31:06,197:INFO:the tn solutions: (-420.04420024360695, 1292.9374484676016)\n",
      "2023-09-16 11:31:06,199:INFO:testing acc, feasible tptn pairs: 10\n",
      "2023-09-16 11:31:06,201:INFO:testing sens, feasible tptn pairs: 10\n",
      "2023-09-16 11:31:06,202:INFO:testing spec, feasible tptn pairs: 10\n",
      "2023-09-16 11:31:06,203:INFO:testing f1p, feasible tptn pairs: 10\n",
      "2023-09-16 11:31:06,205:INFO:testing fm, feasible tptn pairs: 10\n",
      "2023-09-16 11:31:06,207:INFO:constructing final tp, tn pair set\n",
      "2023-09-16 11:31:06,208:INFO:final number of intervals: 10\n",
      "2023-09-16 11:31:06,210:INFO:final number of pairs: 130\n"
     ]
    },
    {
     "data": {
      "text/plain": [
       "False"
      ]
     },
     "execution_count": 8,
     "metadata": {},
     "output_type": "execute_result"
    }
   ],
   "source": [
    "result = check_1_testset_no_kfold_scores(\n",
    "            scores={'acc': 0.62, 'sens': 0.22, 'spec': 0.86, 'f1p': 0.3, 'fm': 0.32},\n",
    "            eps=1e-2,\n",
    "            testset={'p': 530, 'n': 902}\n",
    "        )\n",
    "result['inconsistency']"
   ]
  },
  {
   "cell_type": "code",
   "execution_count": 9,
   "metadata": {},
   "outputs": [
    {
     "name": "stderr",
     "output_type": "stream",
     "text": [
      "2023-09-16 11:31:06,231:INFO:Use this function if the scores originate from the tp and tn statistics calculated on one test set with no aggregation of any kind.\n",
      "2023-09-16 11:31:06,233:INFO:calling the score check with scores {'acc': 0.954, 'sens': 0.934, 'spec': 0.985, 'ppv': 0.901}, uncertainty 0.001, p 1029 and n 3118\n",
      "2023-09-16 11:31:06,234:INFO:evaluating the tp and tn solution for acc and sens\n",
      "2023-09-16 11:31:06,236:INFO:the tp solutions: (960.054942, 962.1170580000002)\n",
      "2023-09-16 11:31:06,237:INFO:the tn solutions: (2989.965647999999, 3000.3383520000007)\n",
      "2023-09-16 11:31:06,238:INFO:evaluating the tp and tn solution for acc and spec\n",
      "2023-09-16 11:31:06,240:INFO:the tp solutions: (877.7284699999991, 892.2875300000005)\n",
      "2023-09-16 11:31:06,241:INFO:the tn solutions: (3068.105764, 3074.354236)\n",
      "2023-09-16 11:31:06,242:INFO:evaluating the tp and tn solution for acc and ppv\n",
      "2023-09-16 11:31:06,244:INFO:the tp solutions: (933.6679509487356, 949.8052939947056)\n",
      "2023-09-16 11:31:06,245:INFO:the tn solutions: (2988.3769250334417, 3040.8179565580203)\n",
      "2023-09-16 11:31:06,246:INFO:evaluating the tp and tn solution for sens and spec\n",
      "2023-09-16 11:31:06,247:INFO:the tp solutions: (960.054942, 962.1170580000002)\n",
      "2023-09-16 11:31:06,248:INFO:the tn solutions: (3068.105764, 3074.354236)\n",
      "2023-09-16 11:31:06,250:INFO:evaluating the tp and tn solution for sens and ppv\n",
      "2023-09-16 11:31:06,251:INFO:the tp solutions: (960.054942, 962.1170580000002)\n",
      "2023-09-16 11:31:06,253:INFO:the tn solutions: (3002.3483691722586, 3022.4720549935846)\n",
      "2023-09-16 11:31:06,254:INFO:evaluating the tp and tn solution for spec and ppv\n",
      "2023-09-16 11:31:06,256:INFO:the tp solutions: (392.8031470217782, 459.241011658118)\n",
      "2023-09-16 11:31:06,258:INFO:the tn solutions: (3068.105764, 3074.354236)\n",
      "2023-09-16 11:31:06,265:INFO:testing acc, feasible tptn pairs: 0\n",
      "2023-09-16 11:31:06,266:INFO:no more feasible tp,tn pairs left\n",
      "2023-09-16 11:31:06,267:INFO:constructing final tp, tn pair set\n",
      "2023-09-16 11:31:06,271:INFO:final number of intervals: 0\n",
      "2023-09-16 11:31:06,272:INFO:final number of pairs: 0\n"
     ]
    },
    {
     "data": {
      "text/plain": [
       "True"
      ]
     },
     "execution_count": 9,
     "metadata": {},
     "output_type": "execute_result"
    }
   ],
   "source": [
    "result = check_1_testset_no_kfold_scores(\n",
    "            scores={'acc': 0.954, 'sens': 0.934, 'spec': 0.985, 'ppv': 0.901},\n",
    "            eps=1e-3,\n",
    "            testset={'name': 'common_datasets.ADA'}\n",
    "        )\n",
    "result['inconsistency']"
   ]
  },
  {
   "cell_type": "code",
   "execution_count": 10,
   "metadata": {},
   "outputs": [
    {
     "data": {
      "text/plain": [
       "({'p': 624, 'n': 372},\n",
       " {'acc': 0.22, 'sens': 0.11, 'spec': 0.4, 'f1p': 0.15, 'fm': 0.16})"
      ]
     },
     "execution_count": 10,
     "metadata": {},
     "output_type": "execute_result"
    }
   ],
   "source": [
    "problem, scores = generate_problem_and_scores(rounding_decimals=2, \n",
    "                                            score_subset=['acc', 'sens', 'spec', \n",
    "                                                            'f1p', 'fm'])\n",
    "problem, scores"
   ]
  },
  {
   "cell_type": "code",
   "execution_count": 11,
   "metadata": {},
   "outputs": [
    {
     "name": "stderr",
     "output_type": "stream",
     "text": [
      "2023-09-16 11:31:06,308:INFO:Use this function if the scores originate from the tp and tn statistics calculated on one test set with no aggregation of any kind.\n",
      "2023-09-16 11:31:06,311:INFO:calling the score check with scores {'acc': 0.22, 'sens': 0.11, 'spec': 0.4, 'f1p': 0.15, 'fm': 0.16}, uncertainty 0.01, p 624 and n 372\n",
      "2023-09-16 11:31:06,313:INFO:evaluating the tp and tn solution for acc and sens\n",
      "2023-09-16 11:31:06,315:INFO:the tp solutions: (62.398752, 74.881248)\n",
      "2023-09-16 11:31:06,316:INFO:the tn solutions: (134.27676, 166.68324)\n",
      "2023-09-16 11:31:06,318:INFO:evaluating the tp and tn solution for acc and spec\n",
      "2023-09-16 11:31:06,321:INFO:the tp solutions: (56.637264000000016, 84.002736)\n",
      "2023-09-16 11:31:06,323:INFO:the tn solutions: (145.07925600000002, 152.52074399999998)\n",
      "2023-09-16 11:31:06,324:INFO:evaluating the tp and tn solution for acc and f1p\n",
      "2023-09-16 11:31:06,325:INFO:the tp solutions: (62.4225218569166, 74.93844771296122)\n",
      "2023-09-16 11:31:06,327:INFO:the tn solutions: (129.24414542990365, 172.2886680658859)\n",
      "2023-09-16 11:31:06,329:INFO:evaluating the tp and tn solution for acc and fm\n",
      "2023-09-16 11:31:06,332:INFO:the tp solutions: (-41.20126753999353, -31.030824316952796) | (60.9824249569528, 75.14726689999354)\n",
      "2023-09-16 11:31:06,333:INFO:the tn solutions: (134.01074110000644, 168.09956704304722) | (238.06678303196077, 272.15560897500154)\n",
      "2023-09-16 11:31:06,334:INFO:evaluating the tp and tn solution for sens and spec\n",
      "2023-09-16 11:31:06,335:INFO:the tp solutions: (62.398752, 74.881248)\n",
      "2023-09-16 11:31:06,337:INFO:the tn solutions: (145.07925600000002, 152.52074399999998)\n",
      "2023-09-16 11:31:06,338:INFO:evaluating the tp and tn solution for sens and f1p\n",
      "2023-09-16 11:31:06,340:INFO:the tp solutions: (62.398752, 74.881248)\n",
      "2023-09-16 11:31:06,341:INFO:the tn solutions: (-11.348644391377139, 332.4735884976643)\n",
      "2023-09-16 11:31:06,342:INFO:evaluating the tp and tn solution for sens and fm\n",
      "2023-09-16 11:31:06,344:INFO:the tp solutions: (62.398752, 74.881248)\n",
      "2023-09-16 11:31:06,346:INFO:the tn solutions: (27.25928109239494, 296.69331380185224)\n",
      "2023-09-16 11:31:06,347:INFO:evaluating the tp and tn solution for spec and f1p\n",
      "2023-09-16 11:31:06,349:INFO:the tp solutions: (63.48671070326161, 73.99411351614947)\n",
      "2023-09-16 11:31:06,350:INFO:the tn solutions: (145.07925600000002, 152.52074399999998)\n",
      "2023-09-16 11:31:06,352:INFO:evaluating the tp and tn solution for spec and fm\n",
      "2023-09-16 11:31:06,354:INFO:the tp solutions: (-56.64742357455624, -47.996531222757206) | (62.9723315427572, 73.62042325455624)\n",
      "2023-09-16 11:31:06,355:INFO:the tn solutions: (145.07925600000002, 152.52074399999998)\n",
      "2023-09-16 11:31:06,357:INFO:evaluating the tp and tn solution for f1p and fm\n",
      "2023-09-16 11:31:06,359:INFO:the tp solutions: (31.32890280897305, 201.8943941112882)\n",
      "2023-09-16 11:31:06,362:INFO:the tn solutions: (-1787.9623610343033, 1059.5221252747097)\n",
      "2023-09-16 11:31:06,364:INFO:testing acc, feasible tptn pairs: 7\n",
      "2023-09-16 11:31:06,366:INFO:testing sens, feasible tptn pairs: 7\n",
      "2023-09-16 11:31:06,368:INFO:testing spec, feasible tptn pairs: 7\n",
      "2023-09-16 11:31:06,376:INFO:testing f1p, feasible tptn pairs: 7\n",
      "2023-09-16 11:31:06,379:INFO:testing fm, feasible tptn pairs: 7\n",
      "2023-09-16 11:31:06,381:INFO:constructing final tp, tn pair set\n",
      "2023-09-16 11:31:06,382:INFO:final number of intervals: 7\n",
      "2023-09-16 11:31:06,383:INFO:final number of pairs: 67\n"
     ]
    }
   ],
   "source": [
    "result = check_1_testset_no_kfold_scores(scores=scores, \n",
    "                                            eps=1e-2, \n",
    "                                            testset=problem)"
   ]
  }
 ],
 "metadata": {
  "kernelspec": {
   "display_name": "mlscorecheck",
   "language": "python",
   "name": "python3"
  },
  "language_info": {
   "codemirror_mode": {
    "name": "ipython",
    "version": 3
   },
   "file_extension": ".py",
   "mimetype": "text/x-python",
   "name": "python",
   "nbconvert_exporter": "python",
   "pygments_lexer": "ipython3",
   "version": "3.10.0"
  },
  "orig_nbformat": 4
 },
 "nbformat": 4,
 "nbformat_minor": 2
}
