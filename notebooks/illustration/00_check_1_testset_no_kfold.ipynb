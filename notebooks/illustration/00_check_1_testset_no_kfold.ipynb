{
 "cells": [
  {
   "cell_type": "code",
   "execution_count": 1,
   "metadata": {},
   "outputs": [],
   "source": [
    "from mlscorecheck.check import check_1_testset_no_kfold_scores\n",
    "from mlscorecheck.individual import calculate_scores, generate_problem_and_scores"
   ]
  },
  {
   "cell_type": "code",
   "execution_count": 2,
   "metadata": {},
   "outputs": [
    {
     "name": "stderr",
     "output_type": "stream",
     "text": [
      "2023-10-26 23:37:54,468:INFO:Use this function if the scores originate from the tp and tn statistics calculated on one test set with no aggregation of any kind.\n",
      "2023-10-26 23:37:54,472:INFO:calling the score check with scores {'acc': 0.62, 'sens': 0.22, 'spec': 0.86, 'f1p': 0.3, 'fm': 0.32}, uncertainty 0.01, p 530 and n 902\n",
      "2023-10-26 23:37:54,473:INFO:checking the scores {'acc': 0.62, 'sens': 0.22, 'spec': 0.86, 'f1p': 0.3, 'fm': 0.32}\n",
      "2023-10-26 23:37:54,474:INFO:evaluating the tp and tn solution for acc and sens\n",
      "2023-10-26 23:37:54,474:INFO:intervals before: (0, 530), (0, 902)\n",
      "2023-10-26 23:37:54,475:INFO:the tp solutions: (111.29894, 121.90106)\n",
      "2023-10-26 23:37:54,476:INFO:the tn solutions: (751.6160759999999, 790.8639240000001)\n",
      "2023-10-26 23:37:54,476:INFO:intervals after: [(112, 121)], [(752, 790)]\n",
      "2023-10-26 23:37:54,477:INFO:evaluating the tp and tn solution for acc and spec\n",
      "2023-10-26 23:37:54,478:INFO:intervals before: [(112, 121)], [(752, 790)]\n",
      "2023-10-26 23:37:54,479:INFO:the tp solutions: (88.77533199999993, 135.4646680000002)\n",
      "2023-10-26 23:37:54,480:INFO:the tn solutions: (766.6981959999999, 784.741804)\n",
      "2023-10-26 23:37:54,481:INFO:intervals after: [(112, 121)], [(767, 784)]\n",
      "2023-10-26 23:37:54,482:INFO:evaluating the tp and tn solution for acc and f1p\n",
      "2023-10-26 23:37:54,483:INFO:intervals before: [(112, 121)], [(767, 784)]\n",
      "2023-10-26 23:37:54,485:INFO:the tp solutions: (108.20512460931658, 125.45746857652338)\n",
      "2023-10-26 23:37:54,486:INFO:the tn solutions: (720.729741489652, 822.9954069390577)\n",
      "2023-10-26 23:37:54,486:INFO:intervals after: [(112, 121)], [(767, 784)]\n",
      "2023-10-26 23:37:54,487:INFO:evaluating the tp and tn solution for acc and fm\n",
      "2023-10-26 23:37:54,488:INFO:intervals before: [(112, 121)], [(767, 784)]\n",
      "2023-10-26 23:37:54,489:INFO:the tp solutions: (-16.316815204318672, 3.5854769758786067) | (101.7831884021151, 128.25349360431866)\n",
      "2023-10-26 23:37:54,489:INFO:the tn solutions: (745.2636423956811, 800.379675597885) | (866.6502819978749, 921.7663152000788)\n",
      "2023-10-26 23:37:54,491:INFO:intervals after: [(112, 121)], [(767, 784)]\n",
      "2023-10-26 23:37:54,492:INFO:evaluating the tp and tn solution for sens and spec\n",
      "2023-10-26 23:37:54,492:INFO:intervals before: [(112, 121)], [(767, 784)]\n",
      "2023-10-26 23:37:54,493:INFO:the tp solutions: (111.29894, 121.90106)\n",
      "2023-10-26 23:37:54,493:INFO:the tn solutions: (766.6981959999999, 784.741804)\n",
      "2023-10-26 23:37:54,495:INFO:intervals after: [(112, 121)], [(767, 784)]\n",
      "2023-10-26 23:37:54,495:INFO:evaluating the tp and tn solution for sens and f1p\n",
      "2023-10-26 23:37:54,496:INFO:intervals before: [(112, 121)], [(767, 784)]\n",
      "2023-10-26 23:37:54,497:INFO:the tp solutions: (111.29894, 121.90106)\n",
      "2023-10-26 23:37:54,498:INFO:the tn solutions: (657.2586176931766, 893.5046324530509)\n",
      "2023-10-26 23:37:54,499:INFO:intervals after: [(112, 121)], [(767, 784)]\n",
      "2023-10-26 23:37:54,500:INFO:evaluating the tp and tn solution for sens and fm\n",
      "2023-10-26 23:37:54,501:INFO:intervals before: [(112, 121)], [(767, 784)]\n",
      "2023-10-26 23:37:54,502:INFO:the tp solutions: (111.29894, 121.90106)\n",
      "2023-10-26 23:37:54,502:INFO:the tn solutions: (636.7166535970434, 917.0942703288408)\n",
      "2023-10-26 23:37:54,503:INFO:intervals after: [(112, 121)], [(767, 784)]\n",
      "2023-10-26 23:37:54,504:INFO:evaluating the tp and tn solution for spec and f1p\n",
      "2023-10-26 23:37:54,505:INFO:intervals before: [(112, 121)], [(767, 784)]\n",
      "2023-10-26 23:37:54,505:INFO:the tp solutions: (109.76804841374923, 122.0385407814731)\n",
      "2023-10-26 23:37:54,508:INFO:the tn solutions: (766.6981959999999, 784.741804)\n",
      "2023-10-26 23:37:54,508:INFO:intervals after: [(112, 121)], [(767, 784)]\n",
      "2023-10-26 23:37:54,509:INFO:evaluating the tp and tn solution for spec and fm\n",
      "2023-10-26 23:37:54,510:INFO:intervals before: [(112, 121)], [(767, 784)]\n",
      "2023-10-26 23:37:54,510:INFO:the tp solutions: (-65.8536328094769, -54.25856650052427) | (106.83422730052428, 121.82197200947691)\n",
      "2023-10-26 23:37:54,511:INFO:the tn solutions: (766.6981959999999, 784.741804)\n",
      "2023-10-26 23:37:54,512:INFO:intervals after: [(112, 121)], [(767, 784)]\n",
      "2023-10-26 23:37:54,512:INFO:evaluating the tp and tn solution for f1p and fm\n",
      "2023-10-26 23:37:54,514:INFO:intervals before: [(112, 121)], [(767, 784)]\n",
      "2023-10-26 23:37:54,517:INFO:the tp solutions: (80.82924045095699, 294.0107283921828)\n",
      "2023-10-26 23:37:54,518:INFO:the tn solutions: (-420.04420024360695, 1292.9374484676016)\n",
      "2023-10-26 23:37:54,519:INFO:intervals after: [(112, 121)], [(767, 784)]\n",
      "2023-10-26 23:37:54,520:INFO:testing acc, feasible tptn pairs: 10\n",
      "2023-10-26 23:37:54,522:INFO:testing sens, feasible tptn pairs: 10\n",
      "2023-10-26 23:37:54,522:INFO:testing spec, feasible tptn pairs: 10\n",
      "2023-10-26 23:37:54,523:INFO:testing f1p, feasible tptn pairs: 10\n",
      "2023-10-26 23:37:54,525:INFO:testing fm, feasible tptn pairs: 10\n",
      "2023-10-26 23:37:54,526:INFO:constructing final tp, tn pair set\n",
      "2023-10-26 23:37:54,526:INFO:final number of intervals: 10\n",
      "2023-10-26 23:37:54,527:INFO:final number of pairs: 130\n"
     ]
    },
    {
     "data": {
      "text/plain": [
       "False"
      ]
     },
     "execution_count": 2,
     "metadata": {},
     "output_type": "execute_result"
    }
   ],
   "source": [
    "testset = {'p': 530, 'n': 902}\n",
    "scores = {'acc': 0.62, 'sens': 0.22, 'spec': 0.86, 'f1p': 0.3, 'fm': 0.32}\n",
    "\n",
    "result = check_1_testset_no_kfold_scores(testset=testset,\n",
    "                                            scores=scores,\n",
    "                                            eps=1e-2)\n",
    "result['inconsistency']"
   ]
  },
  {
   "cell_type": "code",
   "execution_count": 3,
   "metadata": {},
   "outputs": [
    {
     "name": "stderr",
     "output_type": "stream",
     "text": [
      "2023-10-26 23:37:54,544:INFO:Use this function if the scores originate from the tp and tn statistics calculated on one test set with no aggregation of any kind.\n",
      "2023-10-26 23:37:54,545:INFO:calling the score check with scores {'acc': 0.92, 'sens': 0.22, 'spec': 0.86, 'f1p': 0.3, 'fm': 0.32}, uncertainty 0.01, p 530 and n 902\n",
      "2023-10-26 23:37:54,547:INFO:checking the scores {'acc': 0.92, 'sens': 0.22, 'spec': 0.86, 'f1p': 0.3, 'fm': 0.32}\n",
      "2023-10-26 23:37:54,548:INFO:evaluating the tp and tn solution for acc and sens\n",
      "2023-10-26 23:37:54,549:INFO:intervals before: (0, 530), (0, 902)\n",
      "2023-10-26 23:37:54,550:INFO:the tp solutions: (111.29894, 121.90106)\n",
      "2023-10-26 23:37:54,551:INFO:the tn solutions: (1181.216076, 1220.4639240000004)\n",
      "2023-10-26 23:37:54,551:INFO:intervals after: [(112, 121)], []\n",
      "2023-10-26 23:37:54,552:INFO:evaluating the tp and tn solution for acc and spec\n",
      "2023-10-26 23:37:54,553:INFO:intervals before: [(112, 121)], []\n",
      "2023-10-26 23:37:54,554:INFO:the tp solutions: (518.3753319999998, 565.0646680000003)\n",
      "2023-10-26 23:37:54,555:INFO:the tn solutions: (766.6981959999999, 784.741804)\n",
      "2023-10-26 23:37:54,556:INFO:intervals after: [], []\n",
      "2023-10-26 23:37:54,557:INFO:evaluating the tp and tn solution for acc and f1p\n",
      "2023-10-26 23:37:54,559:INFO:intervals before: [], []\n",
      "2023-10-26 23:37:54,559:INFO:the tp solutions: (20.470765551173063, 28.952218416378013)\n",
      "2023-10-26 23:37:54,560:INFO:the tn solutions: (1232.0122032291965, 1355.3280073234066)\n",
      "2023-10-26 23:37:54,561:INFO:intervals after: [], []\n",
      "2023-10-26 23:37:54,561:INFO:evaluating the tp and tn solution for acc and fm\n",
      "2023-10-26 23:37:54,564:INFO:all negative bases - iteration finished\n",
      "2023-10-26 23:37:54,565:INFO:testing acc, feasible tptn pairs: 0\n",
      "2023-10-26 23:37:54,566:INFO:no more feasible tp,tn pairs left\n",
      "2023-10-26 23:37:54,567:INFO:constructing final tp, tn pair set\n",
      "2023-10-26 23:37:54,568:INFO:final number of intervals: 0\n",
      "2023-10-26 23:37:54,569:INFO:final number of pairs: 0\n"
     ]
    },
    {
     "data": {
      "text/plain": [
       "True"
      ]
     },
     "execution_count": 3,
     "metadata": {},
     "output_type": "execute_result"
    }
   ],
   "source": [
    "testset = {'p': 530, 'n': 902}\n",
    "scores = {'acc': 0.92, 'sens': 0.22, 'spec': 0.86, 'f1p': 0.3, 'fm': 0.32}\n",
    "\n",
    "result = check_1_testset_no_kfold_scores(testset=testset,\n",
    "                                            scores=scores,\n",
    "                                            eps=1e-2)\n",
    "result['inconsistency']"
   ]
  },
  {
   "cell_type": "code",
   "execution_count": 4,
   "metadata": {},
   "outputs": [
    {
     "name": "stderr",
     "output_type": "stream",
     "text": [
      "2023-10-26 23:37:54,581:INFO:Use this function if the scores originate from the tp and tn statistics calculated on one test set with no aggregation of any kind.\n",
      "2023-10-26 23:37:54,582:INFO:calling the score check with scores {'acc': 0.954, 'sens': 0.934, 'spec': 0.985, 'ppv': 0.901}, uncertainty 0.001, p 1029 and n 3118\n",
      "2023-10-26 23:37:54,583:INFO:checking the scores {'acc': 0.954, 'sens': 0.934, 'spec': 0.985, 'ppv': 0.901}\n",
      "2023-10-26 23:37:54,584:INFO:evaluating the tp and tn solution for acc and sens\n",
      "2023-10-26 23:37:54,585:INFO:intervals before: (0, 1029), (0, 3118)\n",
      "2023-10-26 23:37:54,586:INFO:the tp solutions: (960.054942, 962.1170580000002)\n",
      "2023-10-26 23:37:54,587:INFO:the tn solutions: (2989.965647999999, 3000.3383520000007)\n",
      "2023-10-26 23:37:54,587:INFO:intervals after: [(961, 962)], [(2990, 3000)]\n",
      "2023-10-26 23:37:54,588:INFO:evaluating the tp and tn solution for acc and spec\n",
      "2023-10-26 23:37:54,589:INFO:intervals before: [(961, 962)], [(2990, 3000)]\n",
      "2023-10-26 23:37:54,590:INFO:the tp solutions: (877.7284699999991, 892.2875300000005)\n",
      "2023-10-26 23:37:54,591:INFO:the tn solutions: (3068.105764, 3074.354236)\n",
      "2023-10-26 23:37:54,592:INFO:intervals after: [], []\n",
      "2023-10-26 23:37:54,593:INFO:evaluating the tp and tn solution for acc and ppv\n",
      "2023-10-26 23:37:54,594:INFO:intervals before: [], []\n",
      "2023-10-26 23:37:54,595:INFO:the tp solutions: (933.6679509487356, 949.8052939947056)\n",
      "2023-10-26 23:37:54,595:INFO:the tn solutions: (2988.3769250334417, 3040.8179565580203)\n",
      "2023-10-26 23:37:54,596:INFO:intervals after: [], []\n",
      "2023-10-26 23:37:54,599:INFO:evaluating the tp and tn solution for sens and spec\n",
      "2023-10-26 23:37:54,600:INFO:intervals before: [], []\n",
      "2023-10-26 23:37:54,601:INFO:the tp solutions: (960.054942, 962.1170580000002)\n",
      "2023-10-26 23:37:54,602:INFO:the tn solutions: (3068.105764, 3074.354236)\n",
      "2023-10-26 23:37:54,602:INFO:intervals after: [], []\n",
      "2023-10-26 23:37:54,603:INFO:evaluating the tp and tn solution for sens and ppv\n",
      "2023-10-26 23:37:54,604:INFO:intervals before: [], []\n",
      "2023-10-26 23:37:54,604:INFO:the tp solutions: (960.054942, 962.1170580000002)\n",
      "2023-10-26 23:37:54,605:INFO:the tn solutions: (3002.3483691722586, 3022.4720549935846)\n",
      "2023-10-26 23:37:54,606:INFO:intervals after: [], []\n",
      "2023-10-26 23:37:54,607:INFO:evaluating the tp and tn solution for spec and ppv\n",
      "2023-10-26 23:37:54,608:INFO:intervals before: [], []\n",
      "2023-10-26 23:37:54,609:INFO:the tp solutions: (392.8031470217782, 459.241011658118)\n",
      "2023-10-26 23:37:54,610:INFO:the tn solutions: (3068.105764, 3074.354236)\n",
      "2023-10-26 23:37:54,610:INFO:intervals after: [], []\n",
      "2023-10-26 23:37:54,611:INFO:testing acc, feasible tptn pairs: 0\n",
      "2023-10-26 23:37:54,612:INFO:no more feasible tp,tn pairs left\n",
      "2023-10-26 23:37:54,613:INFO:constructing final tp, tn pair set\n",
      "2023-10-26 23:37:54,613:INFO:final number of intervals: 0\n",
      "2023-10-26 23:37:54,616:INFO:final number of pairs: 0\n"
     ]
    },
    {
     "data": {
      "text/plain": [
       "True"
      ]
     },
     "execution_count": 4,
     "metadata": {},
     "output_type": "execute_result"
    }
   ],
   "source": [
    "result = check_1_testset_no_kfold_scores(\n",
    "            scores={'acc': 0.954, 'sens': 0.934, 'spec': 0.985, 'ppv': 0.901},\n",
    "            eps=1e-3,\n",
    "            testset={'name': 'common_datasets.ADA'}\n",
    "        )\n",
    "result['inconsistency']"
   ]
  },
  {
   "cell_type": "code",
   "execution_count": 5,
   "metadata": {},
   "outputs": [
    {
     "data": {
      "text/plain": [
       "({'p': 112, 'n': 268},\n",
       " {'acc': 0.55, 'sens': 0.99, 'spec': 0.37, 'f1p': 0.57, 'fm': 0.63})"
      ]
     },
     "execution_count": 5,
     "metadata": {},
     "output_type": "execute_result"
    }
   ],
   "source": [
    "problem, scores = generate_problem_and_scores(rounding_decimals=2,\n",
    "                                            score_subset=['acc', 'sens', 'spec',\n",
    "                                                            'f1p', 'fm'])\n",
    "problem, scores"
   ]
  },
  {
   "cell_type": "code",
   "execution_count": 6,
   "metadata": {},
   "outputs": [
    {
     "name": "stderr",
     "output_type": "stream",
     "text": [
      "2023-10-26 23:37:54,643:INFO:Use this function if the scores originate from the tp and tn statistics calculated on one test set with no aggregation of any kind.\n",
      "2023-10-26 23:37:54,645:INFO:calling the score check with scores {'acc': 0.55, 'sens': 0.99, 'spec': 0.37, 'f1p': 0.57, 'fm': 0.63}, uncertainty 0.01, p 112 and n 268\n",
      "2023-10-26 23:37:54,646:INFO:checking the scores {'acc': 0.55, 'sens': 0.99, 'spec': 0.37, 'f1p': 0.57, 'fm': 0.63}\n",
      "2023-10-26 23:37:54,647:INFO:evaluating the tp and tn solution for acc and sens\n",
      "2023-10-26 23:37:54,648:INFO:intervals before: (0, 112), (0, 268)\n",
      "2023-10-26 23:37:54,648:INFO:the tp solutions: (109.75977599999999, 112)\n",
      "2023-10-26 23:37:54,650:INFO:the tn solutions: (93.19923999999997, 103.04098400000004)\n",
      "2023-10-26 23:37:54,652:INFO:intervals after: [(110, 112)], [(94, 103)]\n",
      "2023-10-26 23:37:54,653:INFO:evaluating the tp and tn solution for acc and spec\n",
      "2023-10-26 23:37:54,653:INFO:intervals before: [(110, 112)], [(94, 103)]\n",
      "2023-10-26 23:37:54,654:INFO:the tp solutions: (103.35870399999999, 116.32129600000002)\n",
      "2023-10-26 23:37:54,655:INFO:the tn solutions: (96.47946400000001, 101.84053599999999)\n",
      "2023-10-26 23:37:54,656:INFO:intervals after: [(110, 112)], [(97, 101)]\n",
      "2023-10-26 23:37:54,656:INFO:evaluating the tp and tn solution for acc and f1p\n",
      "2023-10-26 23:37:54,657:INFO:intervals before: [(110, 112)], [(97, 101)]\n",
      "2023-10-26 23:37:54,658:INFO:the tp solutions: (106.39865273512385, 120.69675379587524)\n",
      "2023-10-26 23:37:54,661:INFO:the tn solutions: (75.65062613179025, 116.5375977962754)\n",
      "2023-10-26 23:37:54,662:INFO:intervals after: [(110, 112)], [(97, 101)]\n",
      "2023-10-26 23:37:54,663:INFO:evaluating the tp and tn solution for acc and fm\n",
      "2023-10-26 23:37:54,665:INFO:intervals before: [(110, 112)], [(97, 101)]\n",
      "2023-10-26 23:37:54,666:INFO:the tp solutions: (-26.167013822737445, -20.5967483940202) | (108.09086615402019, 116.48409606273746)\n",
      "2023-10-26 23:37:54,666:INFO:the tn solutions: (88.71514393726252, 104.70989384597986) | (224.36209719312416, 240.3568471018415)\n",
      "2023-10-26 23:37:54,667:INFO:intervals after: [(110, 112)], [(97, 101)]\n",
      "2023-10-26 23:37:54,669:INFO:evaluating the tp and tn solution for sens and spec\n",
      "2023-10-26 23:37:54,669:INFO:intervals before: [(110, 112)], [(97, 101)]\n",
      "2023-10-26 23:37:54,670:INFO:the tp solutions: (109.75977599999999, 112)\n",
      "2023-10-26 23:37:54,671:INFO:the tn solutions: (96.47946400000001, 101.84053599999999)\n",
      "2023-10-26 23:37:54,671:INFO:intervals after: [(110, 112)], [(97, 101)]\n",
      "2023-10-26 23:37:54,672:INFO:evaluating the tp and tn solution for sens and f1p\n",
      "2023-10-26 23:37:54,673:INFO:intervals before: [(110, 112)], [(97, 101)]\n",
      "2023-10-26 23:37:54,673:INFO:the tp solutions: (109.75977599999999, 112)\n",
      "2023-10-26 23:37:54,674:INFO:the tn solutions: (86.66262364689761, 117.57440562287725)\n",
      "2023-10-26 23:37:54,675:INFO:intervals after: [(110, 112)], [(97, 101)]\n",
      "2023-10-26 23:37:54,675:INFO:evaluating the tp and tn solution for sens and fm\n",
      "2023-10-26 23:37:54,676:INFO:intervals before: [(110, 112)], [(97, 101)]\n",
      "2023-10-26 23:37:54,676:INFO:the tp solutions: (109.75977599999999, 112)\n",
      "2023-10-26 23:37:54,677:INFO:the tn solutions: (81.07840207674045, 125.0908482462938)\n",
      "2023-10-26 23:37:54,681:INFO:intervals after: [(110, 112)], [(97, 101)]\n",
      "2023-10-26 23:37:54,682:INFO:evaluating the tp and tn solution for spec and f1p\n",
      "2023-10-26 23:37:54,684:INFO:intervals before: [(110, 112)], [(97, 101)]\n",
      "2023-10-26 23:37:54,684:INFO:the tp solutions: (108.17258831659396, 115.80472502149439)\n",
      "2023-10-26 23:37:54,685:INFO:the tn solutions: (96.47946400000001, 101.84053599999999)\n",
      "2023-10-26 23:37:54,686:INFO:intervals after: [(110, 112)], [(97, 101)]\n",
      "2023-10-26 23:37:54,686:INFO:evaluating the tp and tn solution for spec and fm\n",
      "2023-10-26 23:37:54,687:INFO:intervals before: [(110, 112)], [(97, 101)]\n",
      "2023-10-26 23:37:54,688:INFO:the tp solutions: (-69.4019512822148, -65.05442173085025) | (108.80148061085025, 114.5604924022148)\n",
      "2023-10-26 23:37:54,689:INFO:the tn solutions: (96.47946400000001, 101.84053599999999)\n",
      "2023-10-26 23:37:54,689:INFO:intervals after: [(110, 112)], [(97, 101)]\n",
      "2023-10-26 23:37:54,690:INFO:evaluating the tp and tn solution for f1p and fm\n",
      "2023-10-26 23:37:54,691:INFO:intervals before: [(110, 112)], [(97, 101)]\n",
      "2023-10-26 23:37:54,692:INFO:the tp solutions: (37.132383488314474, 53.878624053768796) | (100.45698847265774, 121.5814110951982)\n",
      "2023-10-26 23:37:54,692:INFO:the tn solutions: (46.44700588745767, 161.96547642627584) | (205.3172590296215, 332.388638045686)\n",
      "2023-10-26 23:37:54,693:INFO:intervals after: [(110, 112)], [(97, 101)]\n",
      "2023-10-26 23:37:54,693:INFO:testing acc, feasible tptn pairs: 3\n",
      "2023-10-26 23:37:54,694:INFO:testing sens, feasible tptn pairs: 3\n",
      "2023-10-26 23:37:54,695:INFO:testing spec, feasible tptn pairs: 3\n",
      "2023-10-26 23:37:54,696:INFO:testing f1p, feasible tptn pairs: 3\n",
      "2023-10-26 23:37:54,697:INFO:testing fm, feasible tptn pairs: 3\n",
      "2023-10-26 23:37:54,698:INFO:constructing final tp, tn pair set\n",
      "2023-10-26 23:37:54,699:INFO:final number of intervals: 3\n",
      "2023-10-26 23:37:54,700:INFO:final number of pairs: 13\n"
     ]
    }
   ],
   "source": [
    "result = check_1_testset_no_kfold_scores(scores=scores,\n",
    "                                            eps=1e-2,\n",
    "                                            testset=problem)"
   ]
  }
 ],
 "metadata": {
  "kernelspec": {
   "display_name": "mlscorecheck",
   "language": "python",
   "name": "python3"
  },
  "language_info": {
   "codemirror_mode": {
    "name": "ipython",
    "version": 3
   },
   "file_extension": ".py",
   "mimetype": "text/x-python",
   "name": "python",
   "nbconvert_exporter": "python",
   "pygments_lexer": "ipython3",
   "version": "3.10.0"
  },
  "orig_nbformat": 4
 },
 "nbformat": 4,
 "nbformat_minor": 2
}
