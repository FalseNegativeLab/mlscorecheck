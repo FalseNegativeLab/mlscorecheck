{
 "cells": [
  {
   "cell_type": "code",
   "execution_count": 1,
   "metadata": {},
   "outputs": [],
   "source": [
    "from mlscorecheck.check import check_1_testset_no_kfold_scores\n",
    "from mlscorecheck.individual import calculate_scores, generate_problem_and_scores"
   ]
  },
  {
   "cell_type": "code",
   "execution_count": 2,
   "metadata": {},
   "outputs": [
    {
     "name": "stderr",
     "output_type": "stream",
     "text": [
      "2023-10-17 03:59:20,966:INFO:Use this function if the scores originate from the tp and tn statistics calculated on one test set with no aggregation of any kind.\n",
      "2023-10-17 03:59:20,968:INFO:calling the score check with scores {'acc': 0.62, 'sens': 0.22, 'spec': 0.86, 'f1p': 0.3, 'fm': 0.32}, uncertainty 0.01, p 530 and n 902\n",
      "2023-10-17 03:59:20,970:INFO:checking the scores {'acc': 0.62, 'sens': 0.22, 'spec': 0.86, 'f1p': 0.3, 'fm': 0.32}\n",
      "2023-10-17 03:59:20,973:INFO:evaluating the tp and tn solution for acc and sens\n",
      "2023-10-17 03:59:20,974:INFO:intervals before: (0, 530), (0, 902)\n",
      "2023-10-17 03:59:20,975:INFO:the tp solutions: (111.29894, 121.90106)\n",
      "2023-10-17 03:59:20,975:INFO:the tn solutions: (751.6160759999999, 790.8639240000001)\n",
      "2023-10-17 03:59:20,977:INFO:intervals after: [(112, 121)], [(752, 790)]\n",
      "2023-10-17 03:59:20,979:INFO:evaluating the tp and tn solution for acc and spec\n",
      "2023-10-17 03:59:20,980:INFO:intervals before: [(112, 121)], [(752, 790)]\n",
      "2023-10-17 03:59:20,981:INFO:the tp solutions: (88.77533199999993, 135.4646680000002)\n",
      "2023-10-17 03:59:20,982:INFO:the tn solutions: (766.6981959999999, 784.741804)\n",
      "2023-10-17 03:59:20,983:INFO:intervals after: [(112, 121)], [(767, 784)]\n",
      "2023-10-17 03:59:20,984:INFO:evaluating the tp and tn solution for acc and f1p\n",
      "2023-10-17 03:59:20,985:INFO:intervals before: [(112, 121)], [(767, 784)]\n",
      "2023-10-17 03:59:20,986:INFO:the tp solutions: (108.20512460931658, 125.45746857652338)\n",
      "2023-10-17 03:59:20,990:INFO:the tn solutions: (720.729741489652, 822.9954069390577)\n",
      "2023-10-17 03:59:20,991:INFO:intervals after: [(112, 121)], [(767, 784)]\n",
      "2023-10-17 03:59:20,992:INFO:evaluating the tp and tn solution for acc and fm\n",
      "2023-10-17 03:59:20,994:INFO:intervals before: [(112, 121)], [(767, 784)]\n",
      "2023-10-17 03:59:20,995:INFO:the tp solutions: (-16.316815204318672, 3.5854769758786067) | (101.7831884021151, 128.25349360431866)\n",
      "2023-10-17 03:59:20,996:INFO:the tn solutions: (745.2636423956811, 800.379675597885) | (866.6502819978749, 921.7663152000788)\n",
      "2023-10-17 03:59:20,997:INFO:intervals after: [(112, 121)], [(767, 784)]\n",
      "2023-10-17 03:59:20,998:INFO:evaluating the tp and tn solution for sens and spec\n",
      "2023-10-17 03:59:20,999:INFO:intervals before: [(112, 121)], [(767, 784)]\n",
      "2023-10-17 03:59:21,001:INFO:the tp solutions: (111.29894, 121.90106)\n",
      "2023-10-17 03:59:21,002:INFO:the tn solutions: (766.6981959999999, 784.741804)\n",
      "2023-10-17 03:59:21,003:INFO:intervals after: [(112, 121)], [(767, 784)]\n",
      "2023-10-17 03:59:21,004:INFO:evaluating the tp and tn solution for sens and f1p\n",
      "2023-10-17 03:59:21,005:INFO:intervals before: [(112, 121)], [(767, 784)]\n",
      "2023-10-17 03:59:21,007:INFO:the tp solutions: (111.29894, 121.90106)\n",
      "2023-10-17 03:59:21,008:INFO:the tn solutions: (657.2586176931766, 893.5046324530509)\n",
      "2023-10-17 03:59:21,009:INFO:intervals after: [(112, 121)], [(767, 784)]\n",
      "2023-10-17 03:59:21,010:INFO:evaluating the tp and tn solution for sens and fm\n",
      "2023-10-17 03:59:21,012:INFO:intervals before: [(112, 121)], [(767, 784)]\n",
      "2023-10-17 03:59:21,014:INFO:the tp solutions: (111.29894, 121.90106)\n",
      "2023-10-17 03:59:21,015:INFO:the tn solutions: (636.7166535970434, 917.0942703288408)\n",
      "2023-10-17 03:59:21,016:INFO:intervals after: [(112, 121)], [(767, 784)]\n",
      "2023-10-17 03:59:21,017:INFO:evaluating the tp and tn solution for spec and f1p\n",
      "2023-10-17 03:59:21,018:INFO:intervals before: [(112, 121)], [(767, 784)]\n",
      "2023-10-17 03:59:21,019:INFO:the tp solutions: (109.76804841374923, 122.0385407814731)\n",
      "2023-10-17 03:59:21,020:INFO:the tn solutions: (766.6981959999999, 784.741804)\n",
      "2023-10-17 03:59:21,021:INFO:intervals after: [(112, 121)], [(767, 784)]\n",
      "2023-10-17 03:59:21,022:INFO:evaluating the tp and tn solution for spec and fm\n",
      "2023-10-17 03:59:21,024:INFO:intervals before: [(112, 121)], [(767, 784)]\n",
      "2023-10-17 03:59:21,025:INFO:the tp solutions: (-65.8536328094769, -54.25856650052427) | (106.83422730052428, 121.82197200947691)\n",
      "2023-10-17 03:59:21,026:INFO:the tn solutions: (766.6981959999999, 784.741804)\n",
      "2023-10-17 03:59:21,027:INFO:intervals after: [(112, 121)], [(767, 784)]\n",
      "2023-10-17 03:59:21,028:INFO:evaluating the tp and tn solution for f1p and fm\n",
      "2023-10-17 03:59:21,033:INFO:intervals before: [(112, 121)], [(767, 784)]\n",
      "2023-10-17 03:59:21,034:INFO:the tp solutions: (80.82924045095699, 294.0107283921828)\n",
      "2023-10-17 03:59:21,035:INFO:the tn solutions: (-420.04420024360695, 1292.9374484676016)\n",
      "2023-10-17 03:59:21,037:INFO:intervals after: [(112, 121)], [(767, 784)]\n",
      "2023-10-17 03:59:21,038:INFO:testing acc, feasible tptn pairs: 10\n",
      "2023-10-17 03:59:21,040:INFO:testing sens, feasible tptn pairs: 10\n",
      "2023-10-17 03:59:21,041:INFO:testing spec, feasible tptn pairs: 10\n",
      "2023-10-17 03:59:21,042:INFO:testing f1p, feasible tptn pairs: 10\n",
      "2023-10-17 03:59:21,044:INFO:testing fm, feasible tptn pairs: 10\n",
      "2023-10-17 03:59:21,046:INFO:constructing final tp, tn pair set\n",
      "2023-10-17 03:59:21,047:INFO:final number of intervals: 10\n",
      "2023-10-17 03:59:21,048:INFO:final number of pairs: 130\n"
     ]
    },
    {
     "data": {
      "text/plain": [
       "False"
      ]
     },
     "execution_count": 2,
     "metadata": {},
     "output_type": "execute_result"
    }
   ],
   "source": [
    "testset = {'p': 530, 'n': 902}\n",
    "scores = {'acc': 0.62, 'sens': 0.22, 'spec': 0.86, 'f1p': 0.3, 'fm': 0.32}\n",
    "\n",
    "result = check_1_testset_no_kfold_scores(testset=testset,\n",
    "                                            scores=scores,\n",
    "                                            eps=1e-2)\n",
    "result['inconsistency']"
   ]
  },
  {
   "cell_type": "code",
   "execution_count": 3,
   "metadata": {},
   "outputs": [
    {
     "name": "stderr",
     "output_type": "stream",
     "text": [
      "2023-10-17 03:59:21,069:INFO:Use this function if the scores originate from the tp and tn statistics calculated on one test set with no aggregation of any kind.\n",
      "2023-10-17 03:59:21,071:INFO:calling the score check with scores {'acc': 0.92, 'sens': 0.22, 'spec': 0.86, 'f1p': 0.3, 'fm': 0.32}, uncertainty 0.01, p 530 and n 902\n",
      "2023-10-17 03:59:21,073:INFO:checking the scores {'acc': 0.92, 'sens': 0.22, 'spec': 0.86, 'f1p': 0.3, 'fm': 0.32}\n",
      "2023-10-17 03:59:21,074:INFO:evaluating the tp and tn solution for acc and sens\n",
      "2023-10-17 03:59:21,075:INFO:intervals before: (0, 530), (0, 902)\n",
      "2023-10-17 03:59:21,077:INFO:the tp solutions: (111.29894, 121.90106)\n",
      "2023-10-17 03:59:21,079:INFO:the tn solutions: (1181.216076, 1220.4639240000004)\n",
      "2023-10-17 03:59:21,080:INFO:intervals after: [(112, 121)], []\n",
      "2023-10-17 03:59:21,080:INFO:evaluating the tp and tn solution for acc and spec\n",
      "2023-10-17 03:59:21,082:INFO:intervals before: [(112, 121)], []\n",
      "2023-10-17 03:59:21,083:INFO:the tp solutions: (518.3753319999998, 565.0646680000003)\n",
      "2023-10-17 03:59:21,084:INFO:the tn solutions: (766.6981959999999, 784.741804)\n",
      "2023-10-17 03:59:21,085:INFO:intervals after: [], []\n",
      "2023-10-17 03:59:21,086:INFO:evaluating the tp and tn solution for acc and f1p\n",
      "2023-10-17 03:59:21,089:INFO:intervals before: [], []\n",
      "2023-10-17 03:59:21,091:INFO:the tp solutions: (20.470765551173063, 28.952218416378013)\n",
      "2023-10-17 03:59:21,092:INFO:the tn solutions: (1232.0122032291965, 1355.3280073234066)\n",
      "2023-10-17 03:59:21,093:INFO:intervals after: [], []\n",
      "2023-10-17 03:59:21,094:INFO:evaluating the tp and tn solution for acc and fm\n",
      "2023-10-17 03:59:21,097:INFO:all negative bases - iteration finished\n",
      "2023-10-17 03:59:21,099:INFO:testing acc, feasible tptn pairs: 0\n",
      "2023-10-17 03:59:21,100:INFO:no more feasible tp,tn pairs left\n",
      "2023-10-17 03:59:21,101:INFO:constructing final tp, tn pair set\n",
      "2023-10-17 03:59:21,102:INFO:final number of intervals: 0\n",
      "2023-10-17 03:59:21,103:INFO:final number of pairs: 0\n"
     ]
    },
    {
     "data": {
      "text/plain": [
       "True"
      ]
     },
     "execution_count": 3,
     "metadata": {},
     "output_type": "execute_result"
    }
   ],
   "source": [
    "testset = {'p': 530, 'n': 902}\n",
    "scores = {'acc': 0.92, 'sens': 0.22, 'spec': 0.86, 'f1p': 0.3, 'fm': 0.32}\n",
    "\n",
    "result = check_1_testset_no_kfold_scores(testset=testset,\n",
    "                                            scores=scores,\n",
    "                                            eps=1e-2)\n",
    "result['inconsistency']"
   ]
  },
  {
   "cell_type": "code",
   "execution_count": 4,
   "metadata": {},
   "outputs": [
    {
     "name": "stderr",
     "output_type": "stream",
     "text": [
      "2023-10-17 03:59:21,117:INFO:Use this function if the scores originate from the tp and tn statistics calculated on one test set with no aggregation of any kind.\n",
      "2023-10-17 03:59:21,120:INFO:calling the score check with scores {'acc': 0.954, 'sens': 0.934, 'spec': 0.985, 'ppv': 0.901}, uncertainty 0.001, p 1029 and n 3118\n",
      "2023-10-17 03:59:21,121:INFO:checking the scores {'acc': 0.954, 'sens': 0.934, 'spec': 0.985, 'ppv': 0.901}\n",
      "2023-10-17 03:59:21,123:INFO:evaluating the tp and tn solution for acc and sens\n",
      "2023-10-17 03:59:21,124:INFO:intervals before: (0, 1029), (0, 3118)\n",
      "2023-10-17 03:59:21,125:INFO:the tp solutions: (960.054942, 962.1170580000002)\n",
      "2023-10-17 03:59:21,126:INFO:the tn solutions: (2989.965647999999, 3000.3383520000007)\n",
      "2023-10-17 03:59:21,128:INFO:intervals after: [(961, 962)], [(2990, 3000)]\n",
      "2023-10-17 03:59:21,129:INFO:evaluating the tp and tn solution for acc and spec\n",
      "2023-10-17 03:59:21,131:INFO:intervals before: [(961, 962)], [(2990, 3000)]\n",
      "2023-10-17 03:59:21,131:INFO:the tp solutions: (877.7284699999991, 892.2875300000005)\n",
      "2023-10-17 03:59:21,132:INFO:the tn solutions: (3068.105764, 3074.354236)\n",
      "2023-10-17 03:59:21,134:INFO:intervals after: [], []\n",
      "2023-10-17 03:59:21,135:INFO:evaluating the tp and tn solution for acc and ppv\n",
      "2023-10-17 03:59:21,136:INFO:intervals before: [], []\n",
      "2023-10-17 03:59:21,137:INFO:the tp solutions: (933.6679509487356, 949.8052939947056)\n",
      "2023-10-17 03:59:21,138:INFO:the tn solutions: (2988.3769250334417, 3040.8179565580203)\n",
      "2023-10-17 03:59:21,144:INFO:intervals after: [], []\n",
      "2023-10-17 03:59:21,145:INFO:evaluating the tp and tn solution for sens and spec\n",
      "2023-10-17 03:59:21,147:INFO:intervals before: [], []\n",
      "2023-10-17 03:59:21,148:INFO:the tp solutions: (960.054942, 962.1170580000002)\n",
      "2023-10-17 03:59:21,149:INFO:the tn solutions: (3068.105764, 3074.354236)\n",
      "2023-10-17 03:59:21,150:INFO:intervals after: [], []\n",
      "2023-10-17 03:59:21,150:INFO:evaluating the tp and tn solution for sens and ppv\n",
      "2023-10-17 03:59:21,152:INFO:intervals before: [], []\n",
      "2023-10-17 03:59:21,155:INFO:the tp solutions: (960.054942, 962.1170580000002)\n",
      "2023-10-17 03:59:21,156:INFO:the tn solutions: (3002.3483691722586, 3022.4720549935846)\n",
      "2023-10-17 03:59:21,157:INFO:intervals after: [], []\n",
      "2023-10-17 03:59:21,158:INFO:evaluating the tp and tn solution for spec and ppv\n",
      "2023-10-17 03:59:21,160:INFO:intervals before: [], []\n",
      "2023-10-17 03:59:21,161:INFO:the tp solutions: (392.8031470217782, 459.241011658118)\n",
      "2023-10-17 03:59:21,163:INFO:the tn solutions: (3068.105764, 3074.354236)\n",
      "2023-10-17 03:59:21,164:INFO:intervals after: [], []\n",
      "2023-10-17 03:59:21,165:INFO:testing acc, feasible tptn pairs: 0\n",
      "2023-10-17 03:59:21,166:INFO:no more feasible tp,tn pairs left\n",
      "2023-10-17 03:59:21,167:INFO:constructing final tp, tn pair set\n",
      "2023-10-17 03:59:21,168:INFO:final number of intervals: 0\n",
      "2023-10-17 03:59:21,169:INFO:final number of pairs: 0\n"
     ]
    },
    {
     "data": {
      "text/plain": [
       "True"
      ]
     },
     "execution_count": 4,
     "metadata": {},
     "output_type": "execute_result"
    }
   ],
   "source": [
    "result = check_1_testset_no_kfold_scores(\n",
    "            scores={'acc': 0.954, 'sens': 0.934, 'spec': 0.985, 'ppv': 0.901},\n",
    "            eps=1e-3,\n",
    "            testset={'name': 'common_datasets.ADA'}\n",
    "        )\n",
    "result['inconsistency']"
   ]
  },
  {
   "cell_type": "code",
   "execution_count": 5,
   "metadata": {},
   "outputs": [
    {
     "data": {
      "text/plain": [
       "({'p': 196, 'n': 965},\n",
       " {'acc': 0.52, 'sens': 0.72, 'spec': 0.48, 'f1p': 0.34, 'fm': 0.4})"
      ]
     },
     "execution_count": 5,
     "metadata": {},
     "output_type": "execute_result"
    }
   ],
   "source": [
    "problem, scores = generate_problem_and_scores(rounding_decimals=2,\n",
    "                                            score_subset=['acc', 'sens', 'spec',\n",
    "                                                            'f1p', 'fm'])\n",
    "problem, scores"
   ]
  },
  {
   "cell_type": "code",
   "execution_count": 6,
   "metadata": {},
   "outputs": [
    {
     "name": "stderr",
     "output_type": "stream",
     "text": [
      "2023-10-17 03:59:21,219:INFO:Use this function if the scores originate from the tp and tn statistics calculated on one test set with no aggregation of any kind.\n",
      "2023-10-17 03:59:21,222:INFO:calling the score check with scores {'acc': 0.52, 'sens': 0.72, 'spec': 0.48, 'f1p': 0.34, 'fm': 0.4}, uncertainty 0.01, p 196 and n 965\n",
      "2023-10-17 03:59:21,223:INFO:checking the scores {'acc': 0.52, 'sens': 0.72, 'spec': 0.48, 'f1p': 0.34, 'fm': 0.4}\n",
      "2023-10-17 03:59:21,225:INFO:evaluating the tp and tn solution for acc and sens\n",
      "2023-10-17 03:59:21,226:INFO:intervals before: (0, 196), (0, 965)\n",
      "2023-10-17 03:59:21,228:INFO:the tp solutions: (139.159608, 143.08039200000002)\n",
      "2023-10-17 03:59:21,229:INFO:the tn solutions: (449.02728599999995, 476.1727140000001)\n",
      "2023-10-17 03:59:21,230:INFO:intervals after: [(140, 143)], [(450, 476)]\n",
      "2023-10-17 03:59:21,231:INFO:evaluating the tp and tn solution for acc and spec\n",
      "2023-10-17 03:59:21,233:INFO:intervals before: [(140, 143)], [(450, 476)]\n",
      "2023-10-17 03:59:21,234:INFO:the tp solutions: (119.25574800000004, 161.78425200000004)\n",
      "2023-10-17 03:59:21,236:INFO:the tn solutions: (453.54807000000005, 472.8519299999999)\n",
      "2023-10-17 03:59:21,238:INFO:intervals after: [(140, 143)], [(454, 472)]\n",
      "2023-10-17 03:59:21,240:INFO:evaluating the tp and tn solution for acc and f1p\n",
      "2023-10-17 03:59:21,241:INFO:intervals before: [(140, 143)], [(454, 472)]\n",
      "2023-10-17 03:59:21,243:INFO:the tp solutions: (134.37963051203133, 153.16466395638446)\n",
      "2023-10-17 03:59:21,244:INFO:the tn solutions: (419.7715011562324, 501.64971005707406)\n",
      "2023-10-17 03:59:21,246:INFO:intervals after: [(140, 143)], [(454, 472)]\n",
      "2023-10-17 03:59:21,248:INFO:evaluating the tp and tn solution for acc and fm\n",
      "2023-10-17 03:59:21,250:INFO:intervals before: [(140, 143)], [(454, 472)]\n",
      "2023-10-17 03:59:21,251:INFO:the tp solutions: (-84.29520987750797, -75.02106373369813) | (136.17275013369814, 148.58352347750798)\n",
      "2023-10-17 03:59:21,253:INFO:the tn solutions: (443.5241545224919, 479.1595718663019) | (665.52121245213, 701.15662979594)\n",
      "2023-10-17 03:59:21,254:INFO:intervals after: [(140, 143)], [(454, 472)]\n",
      "2023-10-17 03:59:21,256:INFO:evaluating the tp and tn solution for sens and spec\n",
      "2023-10-17 03:59:21,257:INFO:intervals before: [(140, 143)], [(454, 472)]\n",
      "2023-10-17 03:59:21,259:INFO:the tp solutions: (139.159608, 143.08039200000002)\n",
      "2023-10-17 03:59:21,260:INFO:the tn solutions: (453.54807000000005, 472.8519299999999)\n",
      "2023-10-17 03:59:21,268:INFO:intervals after: [(140, 143)], [(454, 472)]\n",
      "2023-10-17 03:59:21,270:INFO:evaluating the tp and tn solution for sens and f1p\n",
      "2023-10-17 03:59:21,273:INFO:intervals before: [(140, 143)], [(454, 472)]\n",
      "2023-10-17 03:59:21,274:INFO:the tp solutions: (139.159608, 143.08039200000002)\n",
      "2023-10-17 03:59:21,275:INFO:the tn solutions: (408.2527709006923, 539.7351782761834)\n",
      "2023-10-17 03:59:21,277:INFO:intervals after: [(140, 143)], [(454, 472)]\n",
      "2023-10-17 03:59:21,278:INFO:evaluating the tp and tn solution for sens and fm\n",
      "2023-10-17 03:59:21,280:INFO:intervals before: [(140, 143)], [(454, 472)]\n",
      "2023-10-17 03:59:21,281:INFO:the tp solutions: (139.159608, 143.08039200000002)\n",
      "2023-10-17 03:59:21,282:INFO:the tn solutions: (377.69995325407535, 575.0689342270106)\n",
      "2023-10-17 03:59:21,284:INFO:intervals after: [(140, 143)], [(454, 472)]\n",
      "2023-10-17 03:59:21,295:INFO:evaluating the tp and tn solution for spec and f1p\n",
      "2023-10-17 03:59:21,296:INFO:intervals before: [(140, 143)], [(454, 472)]\n",
      "2023-10-17 03:59:21,298:INFO:the tp solutions: (135.98036816953515, 150.06660032549127)\n",
      "2023-10-17 03:59:21,300:INFO:the tn solutions: (453.54807000000005, 472.8519299999999)\n",
      "2023-10-17 03:59:21,301:INFO:intervals after: [(140, 143)], [(454, 472)]\n",
      "2023-10-17 03:59:21,303:INFO:evaluating the tp and tn solution for spec and fm\n",
      "2023-10-17 03:59:21,305:INFO:intervals before: [(140, 143)], [(454, 472)]\n",
      "2023-10-17 03:59:21,306:INFO:the tp solutions: (-115.18342210573057, -106.36975328485882) | (136.9455964848588, 147.32757890573058)\n",
      "2023-10-17 03:59:21,308:INFO:the tn solutions: (453.54807000000005, 472.8519299999999)\n",
      "2023-10-17 03:59:21,310:INFO:intervals after: [(140, 143)], [(454, 472)]\n",
      "2023-10-17 03:59:21,311:INFO:evaluating the tp and tn solution for f1p and fm\n",
      "2023-10-17 03:59:21,314:INFO:intervals before: [(140, 143)], [(454, 472)]\n",
      "2023-10-17 03:59:21,320:INFO:the tp solutions: (32.03487393697518, 57.948497060214194) | (122.74731027822018, 159.0947142193662)\n",
      "2023-10-17 03:59:21,328:INFO:the tn solutions: (290.6644487679943, 685.737883561285) | (733.3027790020826, 1183.6669231705528)\n",
      "2023-10-17 03:59:21,329:INFO:intervals after: [(140, 143)], [(454, 472)]\n",
      "2023-10-17 03:59:21,332:INFO:testing acc, feasible tptn pairs: 4\n",
      "2023-10-17 03:59:21,334:INFO:testing sens, feasible tptn pairs: 4\n",
      "2023-10-17 03:59:21,336:INFO:testing spec, feasible tptn pairs: 4\n",
      "2023-10-17 03:59:21,337:INFO:testing f1p, feasible tptn pairs: 4\n",
      "2023-10-17 03:59:21,339:INFO:testing fm, feasible tptn pairs: 4\n",
      "2023-10-17 03:59:21,341:INFO:constructing final tp, tn pair set\n",
      "2023-10-17 03:59:21,342:INFO:final number of intervals: 4\n",
      "2023-10-17 03:59:21,343:INFO:final number of pairs: 76\n"
     ]
    }
   ],
   "source": [
    "result = check_1_testset_no_kfold_scores(scores=scores,\n",
    "                                            eps=1e-2,\n",
    "                                            testset=problem)"
   ]
  }
 ],
 "metadata": {
  "kernelspec": {
   "display_name": "mlscorecheck",
   "language": "python",
   "name": "python3"
  },
  "language_info": {
   "codemirror_mode": {
    "name": "ipython",
    "version": 3
   },
   "file_extension": ".py",
   "mimetype": "text/x-python",
   "name": "python",
   "nbconvert_exporter": "python",
   "pygments_lexer": "ipython3",
   "version": "3.10.0"
  },
  "orig_nbformat": 4
 },
 "nbformat": 4,
 "nbformat_minor": 2
}
