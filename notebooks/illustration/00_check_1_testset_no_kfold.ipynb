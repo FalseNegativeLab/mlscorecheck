{
 "cells": [
  {
   "cell_type": "code",
   "execution_count": 1,
   "metadata": {},
   "outputs": [],
   "source": [
    "from mlscorecheck.check import check_1_testset_no_kfold_scores\n",
    "from mlscorecheck.individual import calculate_scores, generate_problem_and_scores"
   ]
  },
  {
   "cell_type": "code",
   "execution_count": 2,
   "metadata": {},
   "outputs": [
    {
     "name": "stderr",
     "output_type": "stream",
     "text": [
      "2023-10-17 06:10:09,136:INFO:Use this function if the scores originate from the tp and tn statistics calculated on one test set with no aggregation of any kind.\n",
      "2023-10-17 06:10:09,137:INFO:calling the score check with scores {'acc': 0.62, 'sens': 0.22, 'spec': 0.86, 'f1p': 0.3, 'fm': 0.32}, uncertainty 0.01, p 530 and n 902\n",
      "2023-10-17 06:10:09,138:INFO:checking the scores {'acc': 0.62, 'sens': 0.22, 'spec': 0.86, 'f1p': 0.3, 'fm': 0.32}\n",
      "2023-10-17 06:10:09,140:INFO:evaluating the tp and tn solution for acc and sens\n",
      "2023-10-17 06:10:09,141:INFO:intervals before: (0, 530), (0, 902)\n",
      "2023-10-17 06:10:09,142:INFO:the tp solutions: (111.29894, 121.90106)\n",
      "2023-10-17 06:10:09,144:INFO:the tn solutions: (751.6160759999999, 790.8639240000001)\n",
      "2023-10-17 06:10:09,144:INFO:intervals after: [(112, 121)], [(752, 790)]\n",
      "2023-10-17 06:10:09,145:INFO:evaluating the tp and tn solution for acc and spec\n",
      "2023-10-17 06:10:09,146:INFO:intervals before: [(112, 121)], [(752, 790)]\n",
      "2023-10-17 06:10:09,147:INFO:the tp solutions: (88.77533199999993, 135.4646680000002)\n",
      "2023-10-17 06:10:09,148:INFO:the tn solutions: (766.6981959999999, 784.741804)\n",
      "2023-10-17 06:10:09,149:INFO:intervals after: [(112, 121)], [(767, 784)]\n",
      "2023-10-17 06:10:09,149:INFO:evaluating the tp and tn solution for acc and f1p\n",
      "2023-10-17 06:10:09,151:INFO:intervals before: [(112, 121)], [(767, 784)]\n",
      "2023-10-17 06:10:09,152:INFO:the tp solutions: (108.20512460931658, 125.45746857652338)\n",
      "2023-10-17 06:10:09,153:INFO:the tn solutions: (720.729741489652, 822.9954069390577)\n",
      "2023-10-17 06:10:09,153:INFO:intervals after: [(112, 121)], [(767, 784)]\n",
      "2023-10-17 06:10:09,154:INFO:evaluating the tp and tn solution for acc and fm\n",
      "2023-10-17 06:10:09,155:INFO:intervals before: [(112, 121)], [(767, 784)]\n",
      "2023-10-17 06:10:09,155:INFO:the tp solutions: (-16.316815204318672, 3.5854769758786067) | (101.7831884021151, 128.25349360431866)\n",
      "2023-10-17 06:10:09,156:INFO:the tn solutions: (745.2636423956811, 800.379675597885) | (866.6502819978749, 921.7663152000788)\n",
      "2023-10-17 06:10:09,156:INFO:intervals after: [(112, 121)], [(767, 784)]\n",
      "2023-10-17 06:10:09,157:INFO:evaluating the tp and tn solution for sens and spec\n",
      "2023-10-17 06:10:09,159:INFO:intervals before: [(112, 121)], [(767, 784)]\n",
      "2023-10-17 06:10:09,160:INFO:the tp solutions: (111.29894, 121.90106)\n",
      "2023-10-17 06:10:09,162:INFO:the tn solutions: (766.6981959999999, 784.741804)\n",
      "2023-10-17 06:10:09,163:INFO:intervals after: [(112, 121)], [(767, 784)]\n",
      "2023-10-17 06:10:09,163:INFO:evaluating the tp and tn solution for sens and f1p\n",
      "2023-10-17 06:10:09,164:INFO:intervals before: [(112, 121)], [(767, 784)]\n",
      "2023-10-17 06:10:09,165:INFO:the tp solutions: (111.29894, 121.90106)\n",
      "2023-10-17 06:10:09,165:INFO:the tn solutions: (657.2586176931766, 893.5046324530509)\n",
      "2023-10-17 06:10:09,166:INFO:intervals after: [(112, 121)], [(767, 784)]\n",
      "2023-10-17 06:10:09,167:INFO:evaluating the tp and tn solution for sens and fm\n",
      "2023-10-17 06:10:09,168:INFO:intervals before: [(112, 121)], [(767, 784)]\n",
      "2023-10-17 06:10:09,169:INFO:the tp solutions: (111.29894, 121.90106)\n",
      "2023-10-17 06:10:09,169:INFO:the tn solutions: (636.7166535970434, 917.0942703288408)\n",
      "2023-10-17 06:10:09,170:INFO:intervals after: [(112, 121)], [(767, 784)]\n",
      "2023-10-17 06:10:09,170:INFO:evaluating the tp and tn solution for spec and f1p\n",
      "2023-10-17 06:10:09,171:INFO:intervals before: [(112, 121)], [(767, 784)]\n",
      "2023-10-17 06:10:09,172:INFO:the tp solutions: (109.76804841374923, 122.0385407814731)\n",
      "2023-10-17 06:10:09,172:INFO:the tn solutions: (766.6981959999999, 784.741804)\n",
      "2023-10-17 06:10:09,173:INFO:intervals after: [(112, 121)], [(767, 784)]\n",
      "2023-10-17 06:10:09,174:INFO:evaluating the tp and tn solution for spec and fm\n",
      "2023-10-17 06:10:09,175:INFO:intervals before: [(112, 121)], [(767, 784)]\n",
      "2023-10-17 06:10:09,176:INFO:the tp solutions: (-65.8536328094769, -54.25856650052427) | (106.83422730052428, 121.82197200947691)\n",
      "2023-10-17 06:10:09,177:INFO:the tn solutions: (766.6981959999999, 784.741804)\n",
      "2023-10-17 06:10:09,180:INFO:intervals after: [(112, 121)], [(767, 784)]\n",
      "2023-10-17 06:10:09,181:INFO:evaluating the tp and tn solution for f1p and fm\n",
      "2023-10-17 06:10:09,182:INFO:intervals before: [(112, 121)], [(767, 784)]\n",
      "2023-10-17 06:10:09,183:INFO:the tp solutions: (80.82924045095699, 294.0107283921828)\n",
      "2023-10-17 06:10:09,185:INFO:the tn solutions: (-420.04420024360695, 1292.9374484676016)\n",
      "2023-10-17 06:10:09,186:INFO:intervals after: [(112, 121)], [(767, 784)]\n",
      "2023-10-17 06:10:09,188:INFO:testing acc, feasible tptn pairs: 10\n",
      "2023-10-17 06:10:09,189:INFO:testing sens, feasible tptn pairs: 10\n",
      "2023-10-17 06:10:09,190:INFO:testing spec, feasible tptn pairs: 10\n",
      "2023-10-17 06:10:09,191:INFO:testing f1p, feasible tptn pairs: 10\n",
      "2023-10-17 06:10:09,192:INFO:testing fm, feasible tptn pairs: 10\n",
      "2023-10-17 06:10:09,193:INFO:constructing final tp, tn pair set\n",
      "2023-10-17 06:10:09,194:INFO:final number of intervals: 10\n",
      "2023-10-17 06:10:09,195:INFO:final number of pairs: 130\n"
     ]
    },
    {
     "data": {
      "text/plain": [
       "False"
      ]
     },
     "execution_count": 2,
     "metadata": {},
     "output_type": "execute_result"
    }
   ],
   "source": [
    "testset = {'p': 530, 'n': 902}\n",
    "scores = {'acc': 0.62, 'sens': 0.22, 'spec': 0.86, 'f1p': 0.3, 'fm': 0.32}\n",
    "\n",
    "result = check_1_testset_no_kfold_scores(testset=testset,\n",
    "                                            scores=scores,\n",
    "                                            eps=1e-2)\n",
    "result['inconsistency']"
   ]
  },
  {
   "cell_type": "code",
   "execution_count": 3,
   "metadata": {},
   "outputs": [
    {
     "name": "stderr",
     "output_type": "stream",
     "text": [
      "2023-10-17 06:10:09,209:INFO:Use this function if the scores originate from the tp and tn statistics calculated on one test set with no aggregation of any kind.\n",
      "2023-10-17 06:10:09,211:INFO:calling the score check with scores {'acc': 0.92, 'sens': 0.22, 'spec': 0.86, 'f1p': 0.3, 'fm': 0.32}, uncertainty 0.01, p 530 and n 902\n",
      "2023-10-17 06:10:09,212:INFO:checking the scores {'acc': 0.92, 'sens': 0.22, 'spec': 0.86, 'f1p': 0.3, 'fm': 0.32}\n",
      "2023-10-17 06:10:09,213:INFO:evaluating the tp and tn solution for acc and sens\n",
      "2023-10-17 06:10:09,214:INFO:intervals before: (0, 530), (0, 902)\n",
      "2023-10-17 06:10:09,214:INFO:the tp solutions: (111.29894, 121.90106)\n",
      "2023-10-17 06:10:09,216:INFO:the tn solutions: (1181.216076, 1220.4639240000004)\n",
      "2023-10-17 06:10:09,216:INFO:intervals after: [(112, 121)], []\n",
      "2023-10-17 06:10:09,217:INFO:evaluating the tp and tn solution for acc and spec\n",
      "2023-10-17 06:10:09,219:INFO:intervals before: [(112, 121)], []\n",
      "2023-10-17 06:10:09,219:INFO:the tp solutions: (518.3753319999998, 565.0646680000003)\n",
      "2023-10-17 06:10:09,220:INFO:the tn solutions: (766.6981959999999, 784.741804)\n",
      "2023-10-17 06:10:09,221:INFO:intervals after: [], []\n",
      "2023-10-17 06:10:09,221:INFO:evaluating the tp and tn solution for acc and f1p\n",
      "2023-10-17 06:10:09,222:INFO:intervals before: [], []\n",
      "2023-10-17 06:10:09,222:INFO:the tp solutions: (20.470765551173063, 28.952218416378013)\n",
      "2023-10-17 06:10:09,223:INFO:the tn solutions: (1232.0122032291965, 1355.3280073234066)\n",
      "2023-10-17 06:10:09,223:INFO:intervals after: [], []\n",
      "2023-10-17 06:10:09,224:INFO:evaluating the tp and tn solution for acc and fm\n",
      "2023-10-17 06:10:09,227:INFO:all negative bases - iteration finished\n",
      "2023-10-17 06:10:09,228:INFO:testing acc, feasible tptn pairs: 0\n",
      "2023-10-17 06:10:09,228:INFO:no more feasible tp,tn pairs left\n",
      "2023-10-17 06:10:09,229:INFO:constructing final tp, tn pair set\n",
      "2023-10-17 06:10:09,230:INFO:final number of intervals: 0\n",
      "2023-10-17 06:10:09,230:INFO:final number of pairs: 0\n"
     ]
    },
    {
     "data": {
      "text/plain": [
       "True"
      ]
     },
     "execution_count": 3,
     "metadata": {},
     "output_type": "execute_result"
    }
   ],
   "source": [
    "testset = {'p': 530, 'n': 902}\n",
    "scores = {'acc': 0.92, 'sens': 0.22, 'spec': 0.86, 'f1p': 0.3, 'fm': 0.32}\n",
    "\n",
    "result = check_1_testset_no_kfold_scores(testset=testset,\n",
    "                                            scores=scores,\n",
    "                                            eps=1e-2)\n",
    "result['inconsistency']"
   ]
  },
  {
   "cell_type": "code",
   "execution_count": 4,
   "metadata": {},
   "outputs": [
    {
     "name": "stderr",
     "output_type": "stream",
     "text": [
      "2023-10-17 06:10:09,241:INFO:Use this function if the scores originate from the tp and tn statistics calculated on one test set with no aggregation of any kind.\n",
      "2023-10-17 06:10:09,243:INFO:calling the score check with scores {'acc': 0.954, 'sens': 0.934, 'spec': 0.985, 'ppv': 0.901}, uncertainty 0.001, p 1029 and n 3118\n",
      "2023-10-17 06:10:09,243:INFO:checking the scores {'acc': 0.954, 'sens': 0.934, 'spec': 0.985, 'ppv': 0.901}\n",
      "2023-10-17 06:10:09,244:INFO:evaluating the tp and tn solution for acc and sens\n",
      "2023-10-17 06:10:09,245:INFO:intervals before: (0, 1029), (0, 3118)\n",
      "2023-10-17 06:10:09,245:INFO:the tp solutions: (960.054942, 962.1170580000002)\n",
      "2023-10-17 06:10:09,246:INFO:the tn solutions: (2989.965647999999, 3000.3383520000007)\n",
      "2023-10-17 06:10:09,247:INFO:intervals after: [(961, 962)], [(2990, 3000)]\n",
      "2023-10-17 06:10:09,248:INFO:evaluating the tp and tn solution for acc and spec\n",
      "2023-10-17 06:10:09,249:INFO:intervals before: [(961, 962)], [(2990, 3000)]\n",
      "2023-10-17 06:10:09,249:INFO:the tp solutions: (877.7284699999991, 892.2875300000005)\n",
      "2023-10-17 06:10:09,250:INFO:the tn solutions: (3068.105764, 3074.354236)\n",
      "2023-10-17 06:10:09,250:INFO:intervals after: [], []\n",
      "2023-10-17 06:10:09,251:INFO:evaluating the tp and tn solution for acc and ppv\n",
      "2023-10-17 06:10:09,252:INFO:intervals before: [], []\n",
      "2023-10-17 06:10:09,253:INFO:the tp solutions: (933.6679509487356, 949.8052939947056)\n",
      "2023-10-17 06:10:09,254:INFO:the tn solutions: (2988.3769250334417, 3040.8179565580203)\n",
      "2023-10-17 06:10:09,254:INFO:intervals after: [], []\n",
      "2023-10-17 06:10:09,255:INFO:evaluating the tp and tn solution for sens and spec\n",
      "2023-10-17 06:10:09,256:INFO:intervals before: [], []\n",
      "2023-10-17 06:10:09,256:INFO:the tp solutions: (960.054942, 962.1170580000002)\n",
      "2023-10-17 06:10:09,257:INFO:the tn solutions: (3068.105764, 3074.354236)\n",
      "2023-10-17 06:10:09,258:INFO:intervals after: [], []\n",
      "2023-10-17 06:10:09,258:INFO:evaluating the tp and tn solution for sens and ppv\n",
      "2023-10-17 06:10:09,259:INFO:intervals before: [], []\n",
      "2023-10-17 06:10:09,259:INFO:the tp solutions: (960.054942, 962.1170580000002)\n",
      "2023-10-17 06:10:09,260:INFO:the tn solutions: (3002.3483691722586, 3022.4720549935846)\n",
      "2023-10-17 06:10:09,260:INFO:intervals after: [], []\n",
      "2023-10-17 06:10:09,261:INFO:evaluating the tp and tn solution for spec and ppv\n",
      "2023-10-17 06:10:09,264:INFO:intervals before: [], []\n",
      "2023-10-17 06:10:09,265:INFO:the tp solutions: (392.8031470217782, 459.241011658118)\n",
      "2023-10-17 06:10:09,266:INFO:the tn solutions: (3068.105764, 3074.354236)\n",
      "2023-10-17 06:10:09,266:INFO:intervals after: [], []\n",
      "2023-10-17 06:10:09,268:INFO:testing acc, feasible tptn pairs: 0\n",
      "2023-10-17 06:10:09,269:INFO:no more feasible tp,tn pairs left\n",
      "2023-10-17 06:10:09,270:INFO:constructing final tp, tn pair set\n",
      "2023-10-17 06:10:09,270:INFO:final number of intervals: 0\n",
      "2023-10-17 06:10:09,271:INFO:final number of pairs: 0\n"
     ]
    },
    {
     "data": {
      "text/plain": [
       "True"
      ]
     },
     "execution_count": 4,
     "metadata": {},
     "output_type": "execute_result"
    }
   ],
   "source": [
    "result = check_1_testset_no_kfold_scores(\n",
    "            scores={'acc': 0.954, 'sens': 0.934, 'spec': 0.985, 'ppv': 0.901},\n",
    "            eps=1e-3,\n",
    "            testset={'name': 'common_datasets.ADA'}\n",
    "        )\n",
    "result['inconsistency']"
   ]
  },
  {
   "cell_type": "code",
   "execution_count": 5,
   "metadata": {},
   "outputs": [
    {
     "data": {
      "text/plain": [
       "({'p': 233, 'n': 759},\n",
       " {'acc': 0.23, 'sens': 0.36, 'spec': 0.19, 'f1p': 0.18, 'fm': 0.21})"
      ]
     },
     "execution_count": 5,
     "metadata": {},
     "output_type": "execute_result"
    }
   ],
   "source": [
    "problem, scores = generate_problem_and_scores(rounding_decimals=2,\n",
    "                                            score_subset=['acc', 'sens', 'spec',\n",
    "                                                            'f1p', 'fm'])\n",
    "problem, scores"
   ]
  },
  {
   "cell_type": "code",
   "execution_count": 6,
   "metadata": {},
   "outputs": [
    {
     "name": "stderr",
     "output_type": "stream",
     "text": [
      "2023-10-17 06:10:09,299:INFO:Use this function if the scores originate from the tp and tn statistics calculated on one test set with no aggregation of any kind.\n",
      "2023-10-17 06:10:09,300:INFO:calling the score check with scores {'acc': 0.23, 'sens': 0.36, 'spec': 0.19, 'f1p': 0.18, 'fm': 0.21}, uncertainty 0.01, p 233 and n 759\n",
      "2023-10-17 06:10:09,301:INFO:checking the scores {'acc': 0.23, 'sens': 0.36, 'spec': 0.19, 'f1p': 0.18, 'fm': 0.21}\n",
      "2023-10-17 06:10:09,303:INFO:evaluating the tp and tn solution for acc and sens\n",
      "2023-10-17 06:10:09,304:INFO:intervals before: (0, 233), (0, 759)\n",
      "2023-10-17 06:10:09,305:INFO:the tp solutions: (81.54953400000001, 86.21046599999998)\n",
      "2023-10-17 06:10:09,305:INFO:the tn solutions: (132.02755000000002, 156.53245000000004)\n",
      "2023-10-17 06:10:09,306:INFO:intervals after: [(82, 86)], [(133, 156)]\n",
      "2023-10-17 06:10:09,307:INFO:evaluating the tp and tn solution for acc and spec\n",
      "2023-10-17 06:10:09,308:INFO:intervals before: [(82, 86)], [(133, 156)]\n",
      "2023-10-17 06:10:09,309:INFO:the tp solutions: (66.43649799999997, 101.46350200000003)\n",
      "2023-10-17 06:10:09,309:INFO:the tn solutions: (136.618482, 151.80151800000002)\n",
      "2023-10-17 06:10:09,312:INFO:intervals after: [(82, 86)], [(137, 151)]\n",
      "2023-10-17 06:10:09,313:INFO:evaluating the tp and tn solution for acc and f1p\n",
      "2023-10-17 06:10:09,314:INFO:intervals before: [(82, 86)], [(137, 151)]\n",
      "2023-10-17 06:10:09,315:INFO:the tp solutions: (77.20737714124061, 90.75104165934238)\n",
      "2023-10-17 06:10:09,316:INFO:the tn solutions: (122.14307608658292, 166.92999597284938)\n",
      "2023-10-17 06:10:09,316:INFO:intervals after: [(82, 86)], [(137, 151)]\n",
      "2023-10-17 06:10:09,317:INFO:evaluating the tp and tn solution for acc and fm\n",
      "2023-10-17 06:10:09,318:INFO:intervals before: [(82, 86)], [(137, 151)]\n",
      "2023-10-17 06:10:09,319:INFO:the tp solutions: (-68.6503019920783, -60.045361590014146) | (79.61716587001415, 90.17969771207831)\n",
      "2023-10-17 06:10:09,320:INFO:the tn solutions: (128.05831828792168, 158.46481812998587) | (277.2579632281501, 307.6644630702143)\n",
      "2023-10-17 06:10:09,321:INFO:intervals after: [(82, 86)], [(137, 151)]\n",
      "2023-10-17 06:10:09,322:INFO:evaluating the tp and tn solution for sens and spec\n",
      "2023-10-17 06:10:09,322:INFO:intervals before: [(82, 86)], [(137, 151)]\n",
      "2023-10-17 06:10:09,323:INFO:the tp solutions: (81.54953400000001, 86.21046599999998)\n",
      "2023-10-17 06:10:09,324:INFO:the tn solutions: (136.618482, 151.80151800000002)\n",
      "2023-10-17 06:10:09,325:INFO:intervals after: [(82, 86)], [(137, 151)]\n",
      "2023-10-17 06:10:09,325:INFO:evaluating the tp and tn solution for sens and f1p\n",
      "2023-10-17 06:10:09,327:INFO:intervals before: [(82, 86)], [(137, 151)]\n",
      "2023-10-17 06:10:09,327:INFO:the tp solutions: (81.54953400000001, 86.21046599999998)\n",
      "2023-10-17 06:10:09,331:INFO:the tn solutions: (53.05387143783769, 245.66804880605645)\n",
      "2023-10-17 06:10:09,332:INFO:intervals after: [(82, 86)], [(137, 151)]\n",
      "2023-10-17 06:10:09,333:INFO:evaluating the tp and tn solution for sens and fm\n",
      "2023-10-17 06:10:09,334:INFO:intervals before: [(82, 86)], [(137, 151)]\n",
      "2023-10-17 06:10:09,334:INFO:the tp solutions: (81.54953400000001, 86.21046599999998)\n",
      "2023-10-17 06:10:09,335:INFO:the tn solutions: (35.60398246190123, 309.17509702249606)\n",
      "2023-10-17 06:10:09,336:INFO:intervals after: [(82, 86)], [(137, 151)]\n",
      "2023-10-17 06:10:09,338:INFO:evaluating the tp and tn solution for spec and f1p\n",
      "2023-10-17 06:10:09,339:INFO:intervals before: [(82, 86)], [(137, 151)]\n",
      "2023-10-17 06:10:09,340:INFO:the tp solutions: (78.05022155332945, 89.79247445745024)\n",
      "2023-10-17 06:10:09,341:INFO:the tn solutions: (136.618482, 151.80151800000002)\n",
      "2023-10-17 06:10:09,342:INFO:intervals after: [(82, 86)], [(137, 151)]\n",
      "2023-10-17 06:10:09,344:INFO:evaluating the tp and tn solution for spec and fm\n",
      "2023-10-17 06:10:09,345:INFO:intervals before: [(82, 86)], [(137, 151)]\n",
      "2023-10-17 06:10:09,349:INFO:the tp solutions: (-78.84211428900547, -70.24436622519444) | (80.03026836519443, 89.60681214900545)\n",
      "2023-10-17 06:10:09,350:INFO:the tn solutions: (136.618482, 151.80151800000002)\n",
      "2023-10-17 06:10:09,351:INFO:intervals after: [(82, 86)], [(137, 151)]\n",
      "2023-10-17 06:10:09,351:INFO:evaluating the tp and tn solution for f1p and fm\n",
      "2023-10-17 06:10:09,353:INFO:intervals before: [(82, 86)], [(137, 151)]\n",
      "2023-10-17 06:10:09,353:INFO:the tp solutions: (14.801331187400145, 47.5113252645005) | (64.36443553377028, 108.44731044118801)\n",
      "2023-10-17 06:10:09,354:INFO:the tn solutions: (-211.9273956287053, 1146.645626562427)\n",
      "2023-10-17 06:10:09,355:INFO:intervals after: [(82, 86)], [(137, 151)]\n",
      "2023-10-17 06:10:09,356:INFO:testing acc, feasible tptn pairs: 5\n",
      "2023-10-17 06:10:09,357:INFO:testing sens, feasible tptn pairs: 5\n",
      "2023-10-17 06:10:09,361:INFO:testing spec, feasible tptn pairs: 5\n",
      "2023-10-17 06:10:09,362:INFO:testing f1p, feasible tptn pairs: 5\n",
      "2023-10-17 06:10:09,363:INFO:testing fm, feasible tptn pairs: 5\n",
      "2023-10-17 06:10:09,364:INFO:constructing final tp, tn pair set\n",
      "2023-10-17 06:10:09,365:INFO:final number of intervals: 5\n",
      "2023-10-17 06:10:09,366:INFO:final number of pairs: 75\n"
     ]
    }
   ],
   "source": [
    "result = check_1_testset_no_kfold_scores(scores=scores,\n",
    "                                            eps=1e-2,\n",
    "                                            testset=problem)"
   ]
  }
 ],
 "metadata": {
  "kernelspec": {
   "display_name": "mlscorecheck",
   "language": "python",
   "name": "python3"
  },
  "language_info": {
   "codemirror_mode": {
    "name": "ipython",
    "version": 3
   },
   "file_extension": ".py",
   "mimetype": "text/x-python",
   "name": "python",
   "nbconvert_exporter": "python",
   "pygments_lexer": "ipython3",
   "version": "3.10.0"
  },
  "orig_nbformat": 4
 },
 "nbformat": 4,
 "nbformat_minor": 2
}
