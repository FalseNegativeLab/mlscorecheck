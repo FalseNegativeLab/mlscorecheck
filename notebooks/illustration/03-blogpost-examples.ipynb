{
 "cells": [
  {
   "cell_type": "markdown",
   "metadata": {},
   "source": [
    "## 1 testset, no k-fold"
   ]
  },
  {
   "cell_type": "code",
   "execution_count": 183,
   "metadata": {},
   "outputs": [],
   "source": [
    "from mlscorecheck.check.binary import check_1_testset_no_kfold"
   ]
  },
  {
   "cell_type": "code",
   "execution_count": 184,
   "metadata": {},
   "outputs": [
    {
     "name": "stderr",
     "output_type": "stream",
     "text": [
      "2023-11-12 01:24:43,396:INFO:Use this function if the scores originate from the tp and tn statistics calculated on one test set with no aggregation of any kind.\n",
      "2023-11-12 01:24:43,398:INFO:calling the score check with scores {'acc': 0.8464, 'sens': 0.81, 'f1': 0.4894}, uncertainty 0.0001, p 100 and n 1000\n",
      "2023-11-12 01:24:43,400:INFO:checking the scores {'acc': 0.8464, 'sens': 0.81, 'f1': 0.4894}\n",
      "2023-11-12 01:24:43,402:INFO:evaluating the tp and tn solution for acc and sens\n",
      "2023-11-12 01:24:43,402:INFO:intervals before: (0, 100), (0, 1000)\n",
      "2023-11-12 01:24:43,403:INFO:the tp solutions: (80.9898, 81.01020000000001)\n",
      "2023-11-12 01:24:43,404:INFO:the tn solutions: (849.9176, 850.1624000000002)\n",
      "2023-11-12 01:24:43,405:INFO:intervals after: [(81, 81)], [(850, 850)]\n",
      "2023-11-12 01:24:43,408:INFO:evaluating the tp and tn solution for acc and f1p\n",
      "2023-11-12 01:24:43,409:INFO:intervals before: [(81, 81)], [(850, 850)]\n",
      "2023-11-12 01:24:43,410:INFO:the tp solutions: (80.8856151379865, 81.05925982511195)\n",
      "2023-11-12 01:24:43,410:INFO:the tn solutions: (849.4215176322002, 850.7139002656231)\n",
      "2023-11-12 01:24:43,412:INFO:intervals after: [(81, 81)], [(850, 850)]\n",
      "2023-11-12 01:24:43,413:INFO:evaluating the tp and tn solution for sens and f1p\n",
      "2023-11-12 01:24:43,413:INFO:intervals before: [(81, 81)], [(850, 850)]\n",
      "2023-11-12 01:24:43,415:INFO:the tp solutions: (80.9898, 81.01020000000001)\n",
      "2023-11-12 01:24:43,416:INFO:the tn solutions: (849.5073506551557, 850.4577065927103)\n",
      "2023-11-12 01:24:43,417:INFO:intervals after: [(81, 81)], [(850, 850)]\n",
      "2023-11-12 01:24:43,418:INFO:testing acc, feasible tptn pairs: 1\n",
      "2023-11-12 01:24:43,419:INFO:testing sens, feasible tptn pairs: 1\n",
      "2023-11-12 01:24:43,420:INFO:testing f1p, feasible tptn pairs: 1\n",
      "2023-11-12 01:24:43,421:INFO:constructing final tp, tn pair set\n",
      "2023-11-12 01:24:43,421:INFO:final number of intervals: 1\n",
      "2023-11-12 01:24:43,422:INFO:final number of pairs: 1\n"
     ]
    },
    {
     "data": {
      "text/plain": [
       "False"
      ]
     },
     "execution_count": 184,
     "metadata": {},
     "output_type": "execute_result"
    }
   ],
   "source": [
    "testset = {'p': 100, 'n': 1000}\n",
    "scores = {'acc': 0.8464, 'sens': 0.81, 'f1': 0.4894}\n",
    "\n",
    "result = check_1_testset_no_kfold(\n",
    "    testset=testset,\n",
    "    scores=scores,\n",
    "    eps=1e-4\n",
    ")\n",
    "result['inconsistency']"
   ]
  },
  {
   "cell_type": "code",
   "execution_count": 185,
   "metadata": {},
   "outputs": [
    {
     "name": "stderr",
     "output_type": "stream",
     "text": [
      "2023-11-12 01:24:43,434:INFO:Use this function if the scores originate from the tp and tn statistics calculated on one test set with no aggregation of any kind.\n",
      "2023-11-12 01:24:43,436:INFO:calling the score check with scores {'acc': 0.8474, 'sens': 0.81, 'f1': 0.4894}, uncertainty 0.0001, p 100 and n 1000\n",
      "2023-11-12 01:24:43,437:INFO:checking the scores {'acc': 0.8474, 'sens': 0.81, 'f1': 0.4894}\n",
      "2023-11-12 01:24:43,438:INFO:evaluating the tp and tn solution for acc and sens\n",
      "2023-11-12 01:24:43,439:INFO:intervals before: (0, 100), (0, 1000)\n",
      "2023-11-12 01:24:43,440:INFO:the tp solutions: (80.9898, 81.01020000000001)\n",
      "2023-11-12 01:24:43,440:INFO:the tn solutions: (851.0175999999999, 851.2624000000001)\n",
      "2023-11-12 01:24:43,441:INFO:intervals after: [(81, 81)], [(1, 0)]\n",
      "2023-11-12 01:24:43,442:INFO:evaluating the tp and tn solution for acc and f1p\n",
      "2023-11-12 01:24:43,443:INFO:intervals before: [(81, 81)], [(1, 0)]\n",
      "2023-11-12 01:24:43,443:INFO:the tp solutions: (80.3586661540389, 80.53188048180404)\n",
      "2023-11-12 01:24:43,444:INFO:the tn solutions: (851.0482469185552, 852.3414993943171)\n",
      "2023-11-12 01:24:43,445:INFO:intervals after: [], []\n",
      "2023-11-12 01:24:43,445:INFO:evaluating the tp and tn solution for sens and f1p\n",
      "2023-11-12 01:24:43,446:INFO:intervals before: [], []\n",
      "2023-11-12 01:24:43,447:INFO:the tp solutions: (80.9898, 81.01020000000001)\n",
      "2023-11-12 01:24:43,448:INFO:the tn solutions: (849.5073506551557, 850.4577065927103)\n",
      "2023-11-12 01:24:43,448:INFO:intervals after: [], []\n",
      "2023-11-12 01:24:43,453:INFO:testing acc, feasible tptn pairs: 0\n",
      "2023-11-12 01:24:43,454:INFO:no more feasible tp,tn pairs left\n",
      "2023-11-12 01:24:43,455:INFO:constructing final tp, tn pair set\n",
      "2023-11-12 01:24:43,456:INFO:final number of intervals: 0\n",
      "2023-11-12 01:24:43,456:INFO:final number of pairs: 0\n"
     ]
    },
    {
     "data": {
      "text/plain": [
       "True"
      ]
     },
     "execution_count": 185,
     "metadata": {},
     "output_type": "execute_result"
    }
   ],
   "source": [
    "result = check_1_testset_no_kfold(\n",
    "    testset={'p': 100, 'n': 1000},\n",
    "    scores={'acc': 0.8474, 'sens': 0.81, 'f1': 0.4894},\n",
    "    eps=1e-4\n",
    ")\n",
    "result['inconsistency']"
   ]
  },
  {
   "cell_type": "markdown",
   "metadata": {},
   "source": [
    "## n testsets, score of means, no kfold"
   ]
  },
  {
   "cell_type": "code",
   "execution_count": 186,
   "metadata": {},
   "outputs": [],
   "source": [
    "from mlscorecheck.check.binary import check_n_testsets_som_no_kfold\n",
    "\n",
    "scores = {'acc': 0.4719, 'npv': 0.6253, 'f1': 0.3091}\n",
    "testsets = [{'p': 405, 'n': 223}, {'p': 3, 'n': 422}, {'p': 109, 'n': 404}]"
   ]
  },
  {
   "cell_type": "code",
   "execution_count": 187,
   "metadata": {},
   "outputs": [
    {
     "name": "stderr",
     "output_type": "stream",
     "text": [
      "2023-11-12 01:24:43,479:INFO:checking the scores {'acc': 0.4719, 'npv': 0.6253, 'f1': 0.3091}\n",
      "2023-11-12 01:24:43,480:INFO:evaluating the tp and tn solution for acc and npv\n",
      "2023-11-12 01:24:43,481:INFO:intervals before: (0, 517), (0, 1049)\n",
      "2023-11-12 01:24:43,483:INFO:the tp solutions: (183.3735345619046, 186.76921301883434)\n",
      "2023-11-12 01:24:43,484:INFO:the tn solutions: (552.9864593956394, 554.8661474746565)\n",
      "2023-11-12 01:24:43,486:INFO:intervals after: [(184, 186)], [(553, 554)]\n",
      "2023-11-12 01:24:43,486:INFO:evaluating the tp and tn solution for acc and f1p\n",
      "2023-11-12 01:24:43,487:INFO:intervals before: [(184, 186)], [(553, 554)]\n",
      "2023-11-12 01:24:43,488:INFO:the tp solutions: (184.87168671166216, 185.11986556349612)\n",
      "2023-11-12 01:24:43,489:INFO:the tn solutions: (553.4808574181667, 554.5185801488539)\n",
      "2023-11-12 01:24:43,491:INFO:intervals after: [(185, 185)], [(554, 554)]\n",
      "2023-11-12 01:24:43,492:INFO:evaluating the tp and tn solution for npv and f1p\n",
      "2023-11-12 01:24:43,493:INFO:intervals before: [(185, 185)], [(554, 554)]\n",
      "2023-11-12 01:24:43,494:INFO:the tp solutions: (184.64422257239337, 185.32173809718321)\n",
      "2023-11-12 01:24:43,494:INFO:the tn solutions: (553.2944463587239, 554.8488214174102)\n",
      "2023-11-12 01:24:43,495:INFO:intervals after: [(185, 185)], [(554, 554)]\n",
      "2023-11-12 01:24:43,495:INFO:testing acc, feasible tptn pairs: 1\n",
      "2023-11-12 01:24:43,496:INFO:testing npv, feasible tptn pairs: 1\n",
      "2023-11-12 01:24:43,498:INFO:testing f1p, feasible tptn pairs: 1\n",
      "2023-11-12 01:24:43,498:INFO:constructing final tp, tn pair set\n",
      "2023-11-12 01:24:43,499:INFO:final number of intervals: 1\n",
      "2023-11-12 01:24:43,500:INFO:final number of pairs: 1\n"
     ]
    },
    {
     "data": {
      "text/plain": [
       "False"
      ]
     },
     "execution_count": 187,
     "metadata": {},
     "output_type": "execute_result"
    }
   ],
   "source": [
    "result = check_n_testsets_som_no_kfold(testsets=testsets,\n",
    "                                        scores=scores,\n",
    "                                        eps=1e-4)\n",
    "result['inconsistency']"
   ]
  },
  {
   "cell_type": "code",
   "execution_count": 188,
   "metadata": {},
   "outputs": [],
   "source": [
    "scores['f1'] = 0.3191"
   ]
  },
  {
   "cell_type": "code",
   "execution_count": 189,
   "metadata": {},
   "outputs": [
    {
     "name": "stderr",
     "output_type": "stream",
     "text": [
      "2023-11-12 01:24:43,525:INFO:checking the scores {'acc': 0.4719, 'npv': 0.6253, 'f1': 0.3191}\n",
      "2023-11-12 01:24:43,526:INFO:evaluating the tp and tn solution for acc and npv\n",
      "2023-11-12 01:24:43,529:INFO:intervals before: (0, 517), (0, 1049)\n",
      "2023-11-12 01:24:43,530:INFO:the tp solutions: (183.3735345619046, 186.76921301883434)\n",
      "2023-11-12 01:24:43,531:INFO:the tn solutions: (552.9864593956394, 554.8661474746565)\n",
      "2023-11-12 01:24:43,532:INFO:intervals after: [(184, 186)], [(553, 554)]\n",
      "2023-11-12 01:24:43,532:INFO:evaluating the tp and tn solution for acc and f1p\n",
      "2023-11-12 01:24:43,533:INFO:intervals before: [(184, 186)], [(553, 554)]\n",
      "2023-11-12 01:24:43,534:INFO:the tp solutions: (193.65718397469024, 193.91398704392788)\n",
      "2023-11-12 01:24:43,535:INFO:the tn solutions: (544.6835747584705, 545.7362503850892)\n",
      "2023-11-12 01:24:43,535:INFO:intervals after: [], []\n",
      "2023-11-12 01:24:43,536:INFO:evaluating the tp and tn solution for npv and f1p\n",
      "2023-11-12 01:24:43,538:INFO:intervals before: [], []\n",
      "2023-11-12 01:24:43,538:INFO:the tp solutions: (195.04658242275306, 195.76454204554494)\n",
      "2023-11-12 01:24:43,539:INFO:the tn solutions: (535.9005180892322, 537.456403277097)\n",
      "2023-11-12 01:24:43,542:INFO:intervals after: [], []\n",
      "2023-11-12 01:24:43,543:INFO:testing acc, feasible tptn pairs: 0\n",
      "2023-11-12 01:24:43,544:INFO:no more feasible tp,tn pairs left\n",
      "2023-11-12 01:24:43,544:INFO:constructing final tp, tn pair set\n",
      "2023-11-12 01:24:43,546:INFO:final number of intervals: 0\n",
      "2023-11-12 01:24:43,546:INFO:final number of pairs: 0\n"
     ]
    },
    {
     "data": {
      "text/plain": [
       "True"
      ]
     },
     "execution_count": 189,
     "metadata": {},
     "output_type": "execute_result"
    }
   ],
   "source": [
    "result = check_n_testsets_som_no_kfold(testsets=testsets,\n",
    "                                        scores=scores,\n",
    "                                        eps=1e-4)\n",
    "result['inconsistency']"
   ]
  },
  {
   "cell_type": "markdown",
   "metadata": {},
   "source": [
    "## 1 dataset, known folds, mean of scores"
   ]
  },
  {
   "cell_type": "code",
   "execution_count": 190,
   "metadata": {},
   "outputs": [],
   "source": [
    "from mlscorecheck.aggregated import generate_evaluation\n",
    "from mlscorecheck.check.binary import check_1_dataset_known_folds_mos"
   ]
  },
  {
   "cell_type": "code",
   "execution_count": 191,
   "metadata": {},
   "outputs": [],
   "source": [
    "evaluation, scores = generate_evaluation(return_scores=True, aggregation='mos', rounding_decimals=4, score_subset=['acc', 'sens', 'spec'], no_folds=True, no_name=True)\n",
    "while scores['acc'] < 0.7:\n",
    "    evaluation, scores = generate_evaluation(return_scores=True, aggregation='mos', rounding_decimals=4, score_subset=['acc', 'sens', 'spec'], no_folds=True, no_name=True)"
   ]
  },
  {
   "cell_type": "code",
   "execution_count": 192,
   "metadata": {},
   "outputs": [
    {
     "data": {
      "text/plain": [
       "{'dataset': {'p': 390, 'n': 222},\n",
       " 'folding': {'n_folds': 1, 'n_repeats': 2, 'strategy': 'stratified_sklearn'},\n",
       " 'fold_score_bounds': None,\n",
       " 'aggregation': 'mos'}"
      ]
     },
     "execution_count": 192,
     "metadata": {},
     "output_type": "execute_result"
    }
   ],
   "source": [
    "evaluation"
   ]
  },
  {
   "cell_type": "code",
   "execution_count": 193,
   "metadata": {},
   "outputs": [
    {
     "data": {
      "text/plain": [
       "{'acc': 0.741, 'sens': 0.6474, 'spec': 0.9054}"
      ]
     },
     "execution_count": 193,
     "metadata": {},
     "output_type": "execute_result"
    }
   ],
   "source": [
    "scores"
   ]
  },
  {
   "cell_type": "code",
   "execution_count": 194,
   "metadata": {},
   "outputs": [],
   "source": [
    "dataset = {'p': 21, 'n': 500}\n",
    "folding = {'n_folds': 2, 'n_repeats': 3, 'strategy': 'stratified_sklearn'}\n",
    "scores = {'acc': 0.7811, 'sens': 0.5848, 'spec': 0.7893}"
   ]
  },
  {
   "cell_type": "code",
   "execution_count": 195,
   "metadata": {},
   "outputs": [
    {
     "data": {
      "text/plain": [
       "False"
      ]
     },
     "execution_count": 195,
     "metadata": {},
     "output_type": "execute_result"
    }
   ],
   "source": [
    "result = check_1_dataset_known_folds_mos(dataset=dataset,\n",
    "                                folding=folding,\n",
    "                                scores=scores,\n",
    "                                eps=1e-4,\n",
    "                                verbosity=0)\n",
    "result['inconsistency']"
   ]
  },
  {
   "cell_type": "code",
   "execution_count": 196,
   "metadata": {},
   "outputs": [
    {
     "data": {
      "text/plain": [
       "True"
      ]
     },
     "execution_count": 196,
     "metadata": {},
     "output_type": "execute_result"
    }
   ],
   "source": [
    "scores['acc'] = 0.79\n",
    "\n",
    "result = check_1_dataset_known_folds_mos(dataset=dataset,\n",
    "                                folding=folding,\n",
    "                                scores=scores,\n",
    "                                eps=1e-4,\n",
    "                                verbosity=0)\n",
    "result['inconsistency']"
   ]
  },
  {
   "cell_type": "code",
   "execution_count": 197,
   "metadata": {},
   "outputs": [],
   "source": [
    "evaluation, scores = generate_evaluation(return_scores=True,\n",
    "                                            aggregation='mos',\n",
    "                                            rounding_decimals=4,\n",
    "                                            score_subset=['acc', 'sens', 'spec'],\n",
    "                                            no_name=True,\n",
    "                                            max_p=20)\n",
    "while scores['acc'] < 0.7:\n",
    "    evaluation, scores = generate_evaluation(return_scores=True,\n",
    "                                                aggregation='mos',\n",
    "                                                rounding_decimals=4,\n",
    "                                                score_subset=['acc', 'sens', 'spec'],\n",
    "                                                no_name=True,\n",
    "                                                max_p=20)"
   ]
  },
  {
   "cell_type": "code",
   "execution_count": 198,
   "metadata": {},
   "outputs": [
    {
     "data": {
      "text/plain": [
       "({'dataset': {'p': 11, 'n': 33},\n",
       "  'folding': {'n_folds': 3, 'n_repeats': 1, 'strategy': 'stratified_sklearn'},\n",
       "  'fold_score_bounds': None,\n",
       "  'aggregation': 'mos'},\n",
       " {'acc': 0.727, 'sens': 0.5833, 'spec': 0.7576})"
      ]
     },
     "execution_count": 198,
     "metadata": {},
     "output_type": "execute_result"
    }
   ],
   "source": [
    "evaluation, scores"
   ]
  },
  {
   "cell_type": "code",
   "execution_count": 199,
   "metadata": {},
   "outputs": [],
   "source": [
    "dataset = {'p': 17, 'n': 348}\n",
    "folding = {'n_folds': 5}\n",
    "scores = {'acc': 0.7808, 'sens': 0.5167, 'spec': 0.7958}"
   ]
  },
  {
   "cell_type": "code",
   "execution_count": 200,
   "metadata": {},
   "outputs": [],
   "source": [
    "from mlscorecheck.check.binary import check_1_dataset_unknown_folds_mos"
   ]
  },
  {
   "cell_type": "code",
   "execution_count": 201,
   "metadata": {},
   "outputs": [],
   "source": [
    "folding = {'n_folds': 2, 'n_repeats': 3}"
   ]
  },
  {
   "cell_type": "code",
   "execution_count": 202,
   "metadata": {},
   "outputs": [],
   "source": [
    "result = check_1_dataset_unknown_folds_mos(dataset=dataset,\n",
    "                                            folding=folding,\n",
    "                                            scores=scores,\n",
    "                                            eps=1e-4,\n",
    "                                            verbosity=0)"
   ]
  },
  {
   "cell_type": "code",
   "execution_count": 203,
   "metadata": {},
   "outputs": [
    {
     "data": {
      "text/plain": [
       "False"
      ]
     },
     "execution_count": 203,
     "metadata": {},
     "output_type": "execute_result"
    }
   ],
   "source": [
    "result['inconsistency']"
   ]
  },
  {
   "cell_type": "code",
   "execution_count": 204,
   "metadata": {},
   "outputs": [
    {
     "data": {
      "text/plain": [
       "4096"
      ]
     },
     "execution_count": 204,
     "metadata": {},
     "output_type": "execute_result"
    }
   ],
   "source": [
    "from mlscorecheck.check.binary import estimate_n_evaluations\n",
    "\n",
    "estimate_n_evaluations(\n",
    "    dataset=dataset,\n",
    "    folding=folding,\n",
    "    available_scores=['acc', 'sens', 'spec']\n",
    ")"
   ]
  },
  {
   "cell_type": "markdown",
   "metadata": {},
   "source": [
    "## Multiclass classification"
   ]
  },
  {
   "cell_type": "code",
   "execution_count": 205,
   "metadata": {},
   "outputs": [
    {
     "data": {
      "text/plain": [
       "False"
      ]
     },
     "execution_count": 205,
     "metadata": {},
     "output_type": "execute_result"
    }
   ],
   "source": [
    "from mlscorecheck.check.multiclass import check_1_dataset_known_folds_mos_macro\n",
    "\n",
    "dataset = {0: 149, 1: 118, 2: 83, 3: 154}\n",
    "folding = {'n_folds': 4, 'n_repeats': 2, 'strategy': 'stratified_sklearn'}\n",
    "scores = {'acc': 0.626, 'sens': 0.2483, 'spec': 0.7509, 'f1p': 0.2469}\n",
    "\n",
    "result = check_1_dataset_known_folds_mos_macro(dataset=dataset,\n",
    "                                                folding=folding,\n",
    "                                                scores=scores,\n",
    "                                                eps=1e-4,\n",
    "                                                verbosity=0)\n",
    "result['inconsistency']"
   ]
  },
  {
   "cell_type": "code",
   "execution_count": 206,
   "metadata": {},
   "outputs": [],
   "source": [
    "dataset = {0: 149, 1: 118, 2: 83, 3: 154}\n",
    "folding = {'n_folds': 4, 'n_repeats': 2, 'strategy': 'stratified_sklearn'}\n",
    "scores = {'acc': 0.626, 'sens': 0.2483, 'spec': 0.7509, 'f1': 0.2469}"
   ]
  },
  {
   "cell_type": "code",
   "execution_count": 207,
   "metadata": {},
   "outputs": [
    {
     "data": {
      "text/plain": [
       "False"
      ]
     },
     "execution_count": 207,
     "metadata": {},
     "output_type": "execute_result"
    }
   ],
   "source": [
    "result = check_1_dataset_known_folds_mos_macro(dataset=dataset,\n",
    "                                                folding=folding,\n",
    "                                                scores=scores,\n",
    "                                                eps=1e-4,\n",
    "                                                verbosity=0)\n",
    "result['inconsistency']"
   ]
  },
  {
   "cell_type": "code",
   "execution_count": 211,
   "metadata": {},
   "outputs": [
    {
     "data": {
      "text/plain": [
       "True"
      ]
     },
     "execution_count": 211,
     "metadata": {},
     "output_type": "execute_result"
    }
   ],
   "source": [
    "scores['acc'] = 0.656\n",
    "result = check_1_dataset_known_folds_mos_macro(dataset=dataset,\n",
    "                                                folding=folding,\n",
    "                                                scores=scores,\n",
    "                                                eps=1e-4,\n",
    "                                                verbosity=0)\n",
    "result['inconsistency']"
   ]
  },
  {
   "cell_type": "markdown",
   "metadata": {},
   "source": [
    "## Regression"
   ]
  },
  {
   "cell_type": "code",
   "execution_count": 149,
   "metadata": {},
   "outputs": [
    {
     "data": {
      "text/plain": [
       "False"
      ]
     },
     "execution_count": 149,
     "metadata": {},
     "output_type": "execute_result"
    }
   ],
   "source": [
    "from mlscorecheck.check.regression import check_1_testset_no_kfold\n",
    "\n",
    "var = 0.0831\n",
    "n_samples = 100\n",
    "scores =  {'mae': 0.0254, 'r2': 0.9897}\n",
    "\n",
    "result = check_1_testset_no_kfold(var=var,\n",
    "                                    n_samples=n_samples,\n",
    "                                    scores=scores,\n",
    "                                    eps=1e-4)\n",
    "result['inconsistency']"
   ]
  },
  {
   "cell_type": "code",
   "execution_count": 159,
   "metadata": {},
   "outputs": [
    {
     "data": {
      "text/plain": [
       "True"
      ]
     },
     "execution_count": 159,
     "metadata": {},
     "output_type": "execute_result"
    }
   ],
   "source": [
    "scores =  {'mae': 0.0254, 'r2': 0.9997}\n",
    "\n",
    "result = check_1_testset_no_kfold(var=var,\n",
    "                                    n_samples=n_samples,\n",
    "                                    scores=scores,\n",
    "                                    eps=1e-4)\n",
    "result['inconsistency']"
   ]
  },
  {
   "cell_type": "code",
   "execution_count": null,
   "metadata": {},
   "outputs": [],
   "source": []
  }
 ],
 "metadata": {
  "kernelspec": {
   "display_name": "mlscorecheck",
   "language": "python",
   "name": "python3"
  },
  "language_info": {
   "codemirror_mode": {
    "name": "ipython",
    "version": 3
   },
   "file_extension": ".py",
   "mimetype": "text/x-python",
   "name": "python",
   "nbconvert_exporter": "python",
   "pygments_lexer": "ipython3",
   "version": "3.10.0"
  }
 },
 "nbformat": 4,
 "nbformat_minor": 2
}
