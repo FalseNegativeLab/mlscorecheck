{
 "cells": [
  {
   "cell_type": "markdown",
   "metadata": {},
   "source": [
    "# Testing the consistency of performance scored reported for the DIARETDB1 retinal image dataset"
   ]
  },
  {
   "cell_type": "code",
   "execution_count": 1,
   "metadata": {},
   "outputs": [],
   "source": [
    "from mlscorecheck.bundles.retina import (check_diaretdb1_class,\n",
    "                                            check_diaretdb1_segmentation_image,\n",
    "                                            check_diaretdb1_segmentation_aggregated)"
   ]
  },
  {
   "cell_type": "markdown",
   "metadata": {},
   "source": [
    "## Testing the image labeling"
   ]
  },
  {
   "cell_type": "code",
   "execution_count": 2,
   "metadata": {},
   "outputs": [],
   "source": [
    "scores = {'acc': 0.3115, 'sens': 1.0, 'spec': 0.0455, 'f1p': 0.4474}"
   ]
  },
  {
   "cell_type": "code",
   "execution_count": 3,
   "metadata": {},
   "outputs": [
    {
     "name": "stderr",
     "output_type": "stream",
     "text": [
      "2023-10-26 08:08:11,067:INFO:Use this function if the scores originate from the tp and tn statistics calculated on one test set with no aggregation of any kind.\n",
      "2023-10-26 08:08:11,069:INFO:calling the score check with scores {'acc': 0.3115, 'sens': 1.0, 'spec': 0.0455, 'f1p': 0.4474}, uncertainty 0.0001, p 17 and n 44\n",
      "2023-10-26 08:08:11,069:INFO:checking the scores {'acc': 0.3115, 'sens': 1.0, 'spec': 0.0455, 'f1p': 0.4474}\n",
      "2023-10-26 08:08:11,070:INFO:evaluating the tp and tn solution for acc and sens\n",
      "2023-10-26 08:08:11,071:INFO:intervals before: (0, 17), (0, 44)\n",
      "2023-10-26 08:08:11,072:INFO:the tp solutions: (16.998266, 17)\n",
      "2023-10-26 08:08:11,124:INFO:the tn solutions: (1.995277999999999, 2.009456)\n",
      "2023-10-26 08:08:11,125:INFO:intervals after: [(17, 17)], [(2, 2)]\n",
      "2023-10-26 08:08:11,126:INFO:evaluating the tp and tn solution for acc and spec\n",
      "2023-10-26 08:08:11,127:INFO:intervals before: [(17, 17)], [(2, 2)]\n",
      "2023-10-26 08:08:11,127:INFO:the tp solutions: (16.988789999999998, 17.01021)\n",
      "2023-10-26 08:08:11,128:INFO:the tn solutions: (1.997512, 2.006488)\n",
      "2023-10-26 08:08:11,129:INFO:intervals after: [(17, 17)], [(2, 2)]\n",
      "2023-10-26 08:08:11,129:INFO:evaluating the tp and tn solution for acc and f1p\n",
      "2023-10-26 08:08:11,130:INFO:intervals before: [(17, 17)], [(2, 2)]\n",
      "2023-10-26 08:08:11,131:INFO:the tp solutions: (16.992033649999456, 17.011099682210617)\n",
      "2023-10-26 08:08:11,132:INFO:the tn solutions: (1.9784082467188469, 2.021469888719955)\n",
      "2023-10-26 08:08:11,132:INFO:intervals after: [(17, 17)], [(2, 2)]\n",
      "2023-10-26 08:08:11,133:INFO:evaluating the tp and tn solution for sens and spec\n",
      "2023-10-26 08:08:11,133:INFO:intervals before: [(17, 17)], [(2, 2)]\n",
      "2023-10-26 08:08:11,134:INFO:the tp solutions: (16.998266, 17)\n",
      "2023-10-26 08:08:11,135:INFO:the tn solutions: (1.997512, 2.006488)\n",
      "2023-10-26 08:08:11,135:INFO:intervals after: [(17, 17)], [(2, 2)]\n",
      "2023-10-26 08:08:11,135:INFO:evaluating the tp and tn solution for sens and f1p\n",
      "2023-10-26 08:08:11,136:INFO:intervals before: [(17, 17)], [(2, 2)]\n",
      "2023-10-26 08:08:11,137:INFO:the tp solutions: (16.998266, 17)\n",
      "2023-10-26 08:08:11,137:INFO:the tn solutions: (1.9853953396141368, 2.0313616425738457)\n",
      "2023-10-26 08:08:11,138:INFO:intervals after: [(17, 17)], [(2, 2)]\n",
      "2023-10-26 08:08:11,138:INFO:evaluating the tp and tn solution for spec and f1p\n",
      "2023-10-26 08:08:11,139:INFO:intervals before: [(17, 17)], [(2, 2)]\n",
      "2023-10-26 08:08:11,144:INFO:the tp solutions: (16.994684060802395, 17.00725629596689)\n",
      "2023-10-26 08:08:11,144:INFO:the tn solutions: (1.997512, 2.006488)\n",
      "2023-10-26 08:08:11,145:INFO:intervals after: [(17, 17)], [(2, 2)]\n",
      "2023-10-26 08:08:11,145:INFO:testing acc, feasible tptn pairs: 1\n",
      "2023-10-26 08:08:11,146:INFO:testing sens, feasible tptn pairs: 1\n",
      "2023-10-26 08:08:11,147:INFO:testing spec, feasible tptn pairs: 1\n",
      "2023-10-26 08:08:11,148:INFO:testing f1p, feasible tptn pairs: 1\n",
      "2023-10-26 08:08:11,149:INFO:constructing final tp, tn pair set\n",
      "2023-10-26 08:08:11,150:INFO:final number of intervals: 1\n",
      "2023-10-26 08:08:11,150:INFO:final number of pairs: 1\n"
     ]
    },
    {
     "data": {
      "text/plain": [
       "False"
      ]
     },
     "execution_count": 3,
     "metadata": {},
     "output_type": "execute_result"
    }
   ],
   "source": [
    "results = check_diaretdb1_class(subset='test',\n",
    "                                class_name=['hardexudates', 'softexudates'],\n",
    "                                confidence=0.75,\n",
    "                                scores=scores,\n",
    "                                eps=1e-4)\n",
    "results['inconsistency']"
   ]
  },
  {
   "cell_type": "markdown",
   "metadata": {},
   "source": [
    "## Testing the image segmentation"
   ]
  },
  {
   "cell_type": "code",
   "execution_count": 4,
   "metadata": {},
   "outputs": [],
   "source": [
    "scores = {'acc': 0.5753, 'sens': 0.0503, 'spec': 0.6187, 'f1p': 0.0178}"
   ]
  },
  {
   "cell_type": "code",
   "execution_count": 5,
   "metadata": {},
   "outputs": [
    {
     "name": "stderr",
     "output_type": "stream",
     "text": [
      "2023-10-26 08:08:11,172:INFO:Use this function if the scores originate from the tp and tn statistics calculated on one test set with no aggregation of any kind.\n",
      "2023-10-26 08:08:11,174:INFO:calling the score check with scores {'acc': 0.5753, 'sens': 0.0503, 'spec': 0.6187, 'f1p': 0.0178}, uncertainty 0.0001, p 132038 and n 1275197\n",
      "2023-10-26 08:08:11,175:INFO:checking the scores {'acc': 0.5753, 'sens': 0.0503, 'spec': 0.6187, 'f1p': 0.0178}\n",
      "2023-10-26 08:08:11,175:INFO:evaluating the tp and tn solution for acc and sens\n",
      "2023-10-26 08:08:11,176:INFO:intervals before: (0, 132038), (0, 1275197)\n",
      "2023-10-26 08:08:11,177:INFO:the tp solutions: (6628.043524, 6654.979275999999)\n",
      "2023-10-26 08:08:11,178:INFO:the tn solutions: (802783.778254, 803097.7899460001)\n",
      "2023-10-26 08:08:11,178:INFO:intervals after: [(6629, 6654)], [(802784, 803097)]\n",
      "2023-10-26 08:08:11,179:INFO:evaluating the tp and tn solution for acc and spec\n",
      "2023-10-26 08:08:11,180:INFO:intervals before: [(6629, 6654)], [(802784, 803097)]\n",
      "2023-10-26 08:08:11,180:INFO:the tp solutions: (20344.303535999963, 20891.519664000138)\n",
      "2023-10-26 08:08:11,183:INFO:the tn solutions: (788834.3138059999, 789094.4539940001)\n",
      "2023-10-26 08:08:11,184:INFO:intervals after: [], []\n",
      "2023-10-26 08:08:11,185:INFO:evaluating the tp and tn solution for acc and f1p\n",
      "2023-10-26 08:08:11,186:INFO:intervals before: [], []\n",
      "2023-10-26 08:08:11,187:INFO:the tp solutions: (5382.620227408646, 5448.411631373825)\n",
      "2023-10-26 08:08:11,187:INFO:the tn solutions: (803820.7609366671, 804512.8769120976)\n",
      "2023-10-26 08:08:11,188:INFO:intervals after: [], []\n",
      "2023-10-26 08:08:11,188:INFO:evaluating the tp and tn solution for sens and spec\n",
      "2023-10-26 08:08:11,189:INFO:intervals before: [], []\n",
      "2023-10-26 08:08:11,190:INFO:the tp solutions: (6628.043524, 6654.979275999999)\n",
      "2023-10-26 08:08:11,190:INFO:the tn solutions: (788834.3138059999, 789094.4539940001)\n",
      "2023-10-26 08:08:11,191:INFO:intervals after: [], []\n",
      "2023-10-26 08:08:11,191:INFO:evaluating the tp and tn solution for sens and f1p\n",
      "2023-10-26 08:08:11,192:INFO:intervals before: [], []\n",
      "2023-10-26 08:08:11,192:INFO:the tp solutions: (6628.043524, 6654.979275999999)\n",
      "2023-10-26 08:08:11,193:INFO:the tn solutions: (654261.5122493437, 681171.3956943698)\n",
      "2023-10-26 08:08:11,193:INFO:intervals after: [], []\n",
      "2023-10-26 08:08:11,194:INFO:evaluating the tp and tn solution for spec and f1p\n",
      "2023-10-26 08:08:11,194:INFO:intervals before: [], []\n",
      "2023-10-26 08:08:11,198:INFO:the tp solutions: (5518.761209550405, 5585.29854943852)\n",
      "2023-10-26 08:08:11,199:INFO:the tn solutions: (788834.3138059999, 789094.4539940001)\n",
      "2023-10-26 08:08:11,200:INFO:intervals after: [], []\n",
      "2023-10-26 08:08:11,201:INFO:testing acc, feasible tptn pairs: 0\n",
      "2023-10-26 08:08:11,202:INFO:no more feasible tp,tn pairs left\n",
      "2023-10-26 08:08:11,203:INFO:constructing final tp, tn pair set\n",
      "2023-10-26 08:08:11,203:INFO:final number of intervals: 0\n",
      "2023-10-26 08:08:11,204:INFO:final number of pairs: 0\n",
      "2023-10-26 08:08:11,206:INFO:Use this function if the scores originate from the tp and tn statistics calculated on one test set with no aggregation of any kind.\n",
      "2023-10-26 08:08:11,207:INFO:calling the score check with scores {'acc': 0.5753, 'sens': 0.0503, 'spec': 0.6187, 'f1p': 0.0178}, uncertainty 0.0001, p 132038 and n 1595962\n",
      "2023-10-26 08:08:11,207:INFO:checking the scores {'acc': 0.5753, 'sens': 0.0503, 'spec': 0.6187, 'f1p': 0.0178}\n",
      "2023-10-26 08:08:11,208:INFO:evaluating the tp and tn solution for acc and sens\n",
      "2023-10-26 08:08:11,209:INFO:intervals before: (0, 132038), (0, 1595962)\n",
      "2023-10-26 08:08:11,209:INFO:the tp solutions: (6628.043524, 6654.979275999999)\n",
      "2023-10-26 08:08:11,210:INFO:the tn solutions: (987287.1647239999, 987666.6124760002)\n",
      "2023-10-26 08:08:11,211:INFO:intervals after: [(6629, 6654)], [(987288, 987666)]\n",
      "2023-10-26 08:08:11,211:INFO:evaluating the tp and tn solution for acc and spec\n",
      "2023-10-26 08:08:11,212:INFO:intervals before: [(6629, 6654)], [(987288, 987666)]\n",
      "2023-10-26 08:08:11,212:INFO:the tp solutions: (6357.6664759998675, 7035.754724000231)\n",
      "2023-10-26 08:08:11,213:INFO:the tn solutions: (987258.901276, 987584.4775240001)\n",
      "2023-10-26 08:08:11,214:INFO:intervals after: [(6629, 6654)], [(987288, 987584)]\n",
      "2023-10-26 08:08:11,215:INFO:evaluating the tp and tn solution for acc and f1p\n",
      "2023-10-26 08:08:11,216:INFO:intervals before: [(6629, 6654)], [(987288, 987584)]\n",
      "2023-10-26 08:08:11,217:INFO:the tp solutions: (6609.5341239822355, 6690.322013746083)\n",
      "2023-10-26 08:08:11,217:INFO:the tn solutions: (987043.5818456482, 987893.4586647607)\n",
      "2023-10-26 08:08:11,218:INFO:intervals after: [(6629, 6654)], [(987288, 987584)]\n",
      "2023-10-26 08:08:11,218:INFO:evaluating the tp and tn solution for sens and spec\n",
      "2023-10-26 08:08:11,219:INFO:intervals before: [(6629, 6654)], [(987288, 987584)]\n",
      "2023-10-26 08:08:11,220:INFO:the tp solutions: (6628.043524, 6654.979275999999)\n",
      "2023-10-26 08:08:11,220:INFO:the tn solutions: (987258.901276, 987584.4775240001)\n",
      "2023-10-26 08:08:11,221:INFO:intervals after: [(6629, 6654)], [(987288, 987584)]\n",
      "2023-10-26 08:08:11,221:INFO:evaluating the tp and tn solution for sens and f1p\n",
      "2023-10-26 08:08:11,222:INFO:intervals before: [(6629, 6654)], [(987288, 987584)]\n",
      "2023-10-26 08:08:11,226:INFO:the tp solutions: (6628.043524, 6654.979275999999)\n",
      "2023-10-26 08:08:11,227:INFO:the tn solutions: (971371.2748457015, 1005633.7660187001)\n",
      "2023-10-26 08:08:11,228:INFO:intervals after: [(6629, 6654)], [(987288, 987584)]\n",
      "2023-10-26 08:08:11,229:INFO:evaluating the tp and tn solution for spec and f1p\n",
      "2023-10-26 08:08:11,230:INFO:intervals before: [(6629, 6654)], [(987288, 987584)]\n",
      "2023-10-26 08:08:11,230:INFO:the tp solutions: (6610.432677150226, 6690.258074705212)\n",
      "2023-10-26 08:08:11,231:INFO:the tn solutions: (987258.901276, 987584.4775240001)\n",
      "2023-10-26 08:08:11,232:INFO:intervals after: [(6629, 6654)], [(987288, 987584)]\n",
      "2023-10-26 08:08:11,233:INFO:testing acc, feasible tptn pairs: 26\n",
      "2023-10-26 08:08:11,235:INFO:testing sens, feasible tptn pairs: 26\n",
      "2023-10-26 08:08:11,236:INFO:testing spec, feasible tptn pairs: 26\n",
      "2023-10-26 08:08:11,238:INFO:testing f1p, feasible tptn pairs: 26\n",
      "2023-10-26 08:08:11,239:INFO:constructing final tp, tn pair set\n",
      "2023-10-26 08:08:11,240:INFO:final number of intervals: 26\n",
      "2023-10-26 08:08:11,241:INFO:final number of pairs: 7293\n"
     ]
    },
    {
     "data": {
      "text/plain": [
       "{'inconsistency_fov': True, 'inconsistency_all': False}"
      ]
     },
     "execution_count": 5,
     "metadata": {},
     "output_type": "execute_result"
    }
   ],
   "source": [
    "results = check_diaretdb1_segmentation_image(image_identifier='005',\n",
    "                                class_name=['hardexudates', 'softexudates'],\n",
    "                                confidence=0.75,\n",
    "                                scores=scores,\n",
    "                                eps=1e-4)\n",
    "results['inconsistency']"
   ]
  },
  {
   "cell_type": "markdown",
   "metadata": {},
   "source": [
    "## Testing the aggregated scores of image segmentation"
   ]
  },
  {
   "cell_type": "code",
   "execution_count": 6,
   "metadata": {},
   "outputs": [],
   "source": [
    "scores = {'acc': 0.7143, 'sens': 0.3775, 'spec': 0.7244}"
   ]
  },
  {
   "cell_type": "code",
   "execution_count": 7,
   "metadata": {},
   "outputs": [
    {
     "name": "stderr",
     "output_type": "stream",
     "text": [
      "2023-10-26 08:08:11,338:INFO:checking the scores {'acc': 0.7143, 'sens': 0.3775, 'spec': 0.7244}\n",
      "2023-10-26 08:08:11,339:INFO:evaluating the tp and tn solution for acc and sens\n",
      "2023-10-26 08:08:11,340:INFO:intervals before: (0, 1250927), (0, 26893773)\n",
      "2023-10-26 08:08:11,341:INFO:the tp solutions: (472097.347946, 472352.537054)\n",
      "2023-10-26 08:08:11,343:INFO:the tn solutions: (19628535.913546003, 19634532.621454004)\n",
      "2023-10-26 08:08:11,344:INFO:intervals after: [(472098, 472352)], [(19628536, 19634532)]\n",
      "2023-10-26 08:08:11,345:INFO:evaluating the tp and tn solution for acc and spec\n",
      "2023-10-26 08:08:11,345:INFO:intervals before: [(472098, 472352)], [(19628536, 19634532)]\n",
      "2023-10-26 08:08:11,346:INFO:the tp solutions: (616296.1245540008, 627523.9730460048)\n",
      "2023-10-26 08:08:11,347:INFO:the tn solutions: (19479105.996354, 19484592.326046)\n",
      "2023-10-26 08:08:11,348:INFO:intervals after: [], []\n",
      "2023-10-26 08:08:11,348:INFO:evaluating the tp and tn solution for sens and spec\n",
      "2023-10-26 08:08:11,349:INFO:intervals before: [], []\n",
      "2023-10-26 08:08:11,350:INFO:the tp solutions: (472097.347946, 472352.537054)\n",
      "2023-10-26 08:08:11,350:INFO:the tn solutions: (19479105.996354, 19484592.326046)\n",
      "2023-10-26 08:08:11,351:INFO:intervals after: [], []\n",
      "2023-10-26 08:08:11,351:INFO:testing acc, feasible tptn pairs: 0\n",
      "2023-10-26 08:08:11,352:INFO:no more feasible tp,tn pairs left\n",
      "2023-10-26 08:08:11,352:INFO:constructing final tp, tn pair set\n",
      "2023-10-26 08:08:11,353:INFO:final number of intervals: 0\n",
      "2023-10-26 08:08:11,353:INFO:final number of pairs: 0\n",
      "2023-10-26 08:08:11,406:INFO:checking the scores {'acc': 0.7143, 'sens': 0.3775, 'spec': 0.7244}\n",
      "2023-10-26 08:08:11,407:INFO:evaluating the tp and tn solution for acc and sens\n",
      "2023-10-26 08:08:11,408:INFO:intervals before: (0, 1252069), (0, 33307931)\n",
      "2023-10-26 08:08:11,409:INFO:the tp solutions: (472528.33646200004, 472783.758538)\n",
      "2023-10-26 08:08:11,409:INFO:the tn solutions: (24209899.121462, 24217204.783538006)\n",
      "2023-10-26 08:08:11,410:INFO:intervals after: [(472529, 472783)], [(24209900, 24217204)]\n",
      "2023-10-26 08:08:11,411:INFO:evaluating the tp and tn solution for acc and spec\n",
      "2023-10-26 08:08:11,411:INFO:intervals before: [(472529, 472783)], [(24209900, 24217204)]\n",
      "2023-10-26 08:08:11,412:INFO:the tp solutions: (551020.2546379976, 564865.3125620037)\n",
      "2023-10-26 08:08:11,413:INFO:the tn solutions: (24124867.807438, 24131662.625362)\n",
      "2023-10-26 08:08:11,413:INFO:intervals after: [], []\n",
      "2023-10-26 08:08:11,414:INFO:evaluating the tp and tn solution for sens and spec\n",
      "2023-10-26 08:08:11,415:INFO:intervals before: [], []\n",
      "2023-10-26 08:08:11,416:INFO:the tp solutions: (472528.33646200004, 472783.758538)\n",
      "2023-10-26 08:08:11,416:INFO:the tn solutions: (24124867.807438, 24131662.625362)\n",
      "2023-10-26 08:08:11,417:INFO:intervals after: [], []\n",
      "2023-10-26 08:08:11,418:INFO:testing acc, feasible tptn pairs: 0\n",
      "2023-10-26 08:08:11,419:INFO:no more feasible tp,tn pairs left\n",
      "2023-10-26 08:08:11,441:INFO:constructing final tp, tn pair set\n",
      "2023-10-26 08:08:11,442:INFO:final number of intervals: 0\n",
      "2023-10-26 08:08:11,443:INFO:final number of pairs: 0\n"
     ]
    },
    {
     "name": "stdout",
     "output_type": "stream",
     "text": [
      "Welcome to the CBC MILP Solver \n",
      "Version: 2.10.3 \n",
      "Build Date: Dec 15 2019 \n",
      "\n",
      "command line - /home/gykovacs/anaconda3/envs/mlscorecheck/lib/python3.10/site-packages/pulp/solverdir/cbc/linux/64/cbc /tmp/c543353d25a2499eaffcc1594a762522-pulp.mps timeMode elapsed branch printingOptions all solution /tmp/c543353d25a2499eaffcc1594a762522-pulp.sol (default strategy 1)\n",
      "At line 2 NAME          MODEL\n",
      "At line 3 ROWS\n",
      "At line 11 COLUMNS\n",
      "At line 253 RHS\n",
      "At line 260 BOUNDS\n",
      "At line 302 ENDATA\n",
      "Problem MODEL has 6 rows, 41 columns and 160 elements\n",
      "Coin0008I MODEL read with 0 errors\n",
      "Option for timeMode changed from cpu to elapsed\n",
      "Continuous objective value is 0 - 0.00 seconds\n",
      "Cgl0004I processed model has 3 rows, 40 columns (40 integer (0 of which binary)) and 80 elements\n",
      "Cbc0031I 6 added rows had average density of 36.666667\n",
      "Cbc0013I At root node, 6 cuts changed objective from 0 to 0 in 100 passes\n",
      "Cbc0014I Cut generator 0 (Probing) - 0 row cuts average 0.0 elements, 0 column cuts (0 active)  in 0.003 seconds - new frequency is -100\n",
      "Cbc0014I Cut generator 1 (Gomory) - 119 row cuts average 39.0 elements, 0 column cuts (0 active)  in 0.005 seconds - new frequency is -100\n",
      "Cbc0014I Cut generator 2 (Knapsack) - 0 row cuts average 0.0 elements, 0 column cuts (0 active)  in 0.002 seconds - new frequency is -100\n",
      "Cbc0014I Cut generator 3 (Clique) - 0 row cuts average 0.0 elements, 0 column cuts (0 active)  in 0.000 seconds - new frequency is -100\n",
      "Cbc0014I Cut generator 4 (MixedIntegerRounding2) - 0 row cuts average 0.0 elements, 0 column cuts (0 active)  in 0.003 seconds - new frequency is -100\n",
      "Cbc0014I Cut generator 5 (FlowCover) - 0 row cuts average 0.0 elements, 0 column cuts (0 active)  in 0.003 seconds - new frequency is -100\n",
      "Cbc0014I Cut generator 6 (TwoMirCuts) - 11 row cuts average 29.1 elements, 0 column cuts (0 active)  in 0.001 seconds - new frequency is -100\n",
      "Cbc0010I After 0 nodes, 1 on tree, 1e+50 best solution, best possible 0 (0.03 seconds)\n",
      "Cbc0012I Integer solution of 0 found by rounding after 195 iterations and 1 nodes (0.03 seconds)\n",
      "Cbc0001I Search completed - best objective 0, took 195 iterations and 1 nodes (0.03 seconds)\n",
      "Cbc0032I Strong branching done 6 times (6 iterations), fathomed 0 nodes and fixed 0 variables\n",
      "Cbc0035I Maximum depth 0, 0 variables fixed on reduced cost\n",
      "0  Obj 0 Primal inf 1.381899 (3) Dual inf 33111105 (3)\n",
      "2  Obj 0 Primal inf 0.45308009 (1)\n",
      "Primal infeasible - objective value 0\n",
      "Cuts at root node changed objective from 0 to 0\n",
      "Probing was tried 100 times and created 0 cuts of which 0 were active after adding rounds of cuts (0.003 seconds)\n",
      "Gomory was tried 100 times and created 119 cuts of which 0 were active after adding rounds of cuts (0.005 seconds)\n",
      "Knapsack was tried 100 times and created 0 cuts of which 0 were active after adding rounds of cuts (0.002 seconds)\n",
      "Clique was tried 100 times and created 0 cuts of which 0 were active after adding rounds of cuts (0.000 seconds)\n",
      "MixedIntegerRounding2 was tried 100 times and created 0 cuts of which 0 were active after adding rounds of cuts (0.003 seconds)\n",
      "FlowCover was tried 100 times and created 0 cuts of which 0 were active after adding rounds of cuts (0.003 seconds)\n",
      "TwoMirCuts was tried 100 times and created 11 cuts of which 0 were active after adding rounds of cuts (0.001 seconds)\n",
      "ZeroHalf was tried 1 times and created 0 cuts of which 0 were active after adding rounds of cuts (0.000 seconds)\n",
      "Optimal - objective value 0\n",
      "\n",
      "Result - Optimal solution found\n",
      "\n",
      "Objective value:                0.00000000\n",
      "Enumerated nodes:               1\n",
      "Total iterations:               195\n",
      "Time (CPU seconds):             0.04\n",
      "Time (Wallclock seconds):       0.04\n",
      "\n",
      "Option for printingOptions changed from normal to all\n",
      "Total time (CPU seconds):       0.04   (Wallclock seconds):       0.04\n",
      "\n",
      "Welcome to the CBC MILP Solver \n",
      "Version: 2.10.3 \n",
      "Build Date: Dec 15 2019 \n",
      "\n",
      "command line - /home/gykovacs/anaconda3/envs/mlscorecheck/lib/python3.10/site-packages/pulp/solverdir/cbc/linux/64/cbc /tmp/3999a1f960784f3e92b17432f5e397bc-pulp.mps timeMode elapsed branch printingOptions all solution /tmp/3999a1f960784f3e92b17432f5e397bc-pulp.sol (default strategy 1)\n",
      "At line 2 NAME          MODEL\n",
      "At line 3 ROWS\n",
      "At line 11 COLUMNS\n",
      "At line 253 RHS\n",
      "At line 260 BOUNDS\n",
      "At line 302 ENDATA\n",
      "Problem MODEL has 6 rows, 41 columns and 160 elements\n",
      "Coin0008I MODEL read with 0 errors\n",
      "Option for timeMode changed from cpu to elapsed\n",
      "Continuous objective value is 0 - 0.00 seconds\n",
      "Cgl0004I processed model has 3 rows, 40 columns (40 integer (0 of which binary)) and 80 elements\n",
      "Cbc0012I Integer solution of 0 found by DiveCoefficient after 0 iterations and 0 nodes (0.00 seconds)\n",
      "Cbc0001I Search completed - best objective 0, took 0 iterations and 0 nodes (0.00 seconds)\n",
      "Cbc0035I Maximum depth 0, 0 variables fixed on reduced cost\n",
      "Cuts at root node changed objective from 0 to 0\n",
      "Probing was tried 0 times and created 0 cuts of which 0 were active after adding rounds of cuts (0.000 seconds)\n",
      "Gomory was tried 0 times and created 0 cuts of which 0 were active after adding rounds of cuts (0.000 seconds)\n",
      "Knapsack was tried 0 times and created 0 cuts of which 0 were active after adding rounds of cuts (0.000 seconds)\n",
      "Clique was tried 0 times and created 0 cuts of which 0 were active after adding rounds of cuts (0.000 seconds)\n",
      "MixedIntegerRounding2 was tried 0 times and created 0 cuts of which 0 were active after adding rounds of cuts (0.000 seconds)\n",
      "FlowCover was tried 0 times and created 0 cuts of which 0 were active after adding rounds of cuts (0.000 seconds)\n",
      "TwoMirCuts was tried 0 times and created 0 cuts of which 0 were active after adding rounds of cuts (0.000 seconds)\n",
      "ZeroHalf was tried 0 times and created 0 cuts of which 0 were active after adding rounds of cuts (0.000 seconds)\n",
      "\n",
      "Result - Optimal solution found\n",
      "\n",
      "Objective value:                0.00000000\n",
      "Enumerated nodes:               0\n",
      "Total iterations:               0\n",
      "Time (CPU seconds):             0.00\n",
      "Time (Wallclock seconds):       0.00\n",
      "\n",
      "Option for printingOptions changed from normal to all\n",
      "Total time (CPU seconds):       0.00   (Wallclock seconds):       0.00\n",
      "\n"
     ]
    },
    {
     "data": {
      "text/plain": [
       "{'inconsistency_fov_som': True,\n",
       " 'inconsistency_all_som': True,\n",
       " 'inconsistency_fov_mos': False,\n",
       " 'inconsistency_all_mos': False}"
      ]
     },
     "execution_count": 7,
     "metadata": {},
     "output_type": "execute_result"
    }
   ],
   "source": [
    "results = check_diaretdb1_segmentation_aggregated(subset='test',\n",
    "                                class_name='hardexudates',\n",
    "                                confidence=0.5,\n",
    "                                only_valid=True,\n",
    "                                scores=scores,\n",
    "                                eps=1e-4)\n",
    "results['inconsistency']"
   ]
  },
  {
   "cell_type": "code",
   "execution_count": null,
   "metadata": {},
   "outputs": [],
   "source": []
  }
 ],
 "metadata": {
  "kernelspec": {
   "display_name": "mlscorecheck",
   "language": "python",
   "name": "python3"
  },
  "language_info": {
   "codemirror_mode": {
    "name": "ipython",
    "version": 3
   },
   "file_extension": ".py",
   "mimetype": "text/x-python",
   "name": "python",
   "nbconvert_exporter": "python",
   "pygments_lexer": "ipython3",
   "version": "3.10.0"
  }
 },
 "nbformat": 4,
 "nbformat_minor": 2
}
