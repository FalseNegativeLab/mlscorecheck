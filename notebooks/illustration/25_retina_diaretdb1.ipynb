{
 "cells": [
  {
   "cell_type": "markdown",
   "metadata": {},
   "source": [
    "# Testing the consistency of performance scored reported for the DIARETDB1 retinal image dataset"
   ]
  },
  {
   "cell_type": "code",
   "execution_count": 8,
   "metadata": {},
   "outputs": [],
   "source": [
    "from mlscorecheck.bundles.retina import (check_diaretdb1_class,\n",
    "                                            check_diaretdb1_segmentation_image,\n",
    "                                            check_diaretdb1_segmentation_aggregated)"
   ]
  },
  {
   "cell_type": "markdown",
   "metadata": {},
   "source": [
    "## Testing the image labeling"
   ]
  },
  {
   "cell_type": "code",
   "execution_count": 9,
   "metadata": {},
   "outputs": [],
   "source": [
    "scores = {'acc': 0.3115, 'sens': 1.0, 'spec': 0.0455, 'f1p': 0.4474}"
   ]
  },
  {
   "cell_type": "code",
   "execution_count": 10,
   "metadata": {},
   "outputs": [
    {
     "name": "stderr",
     "output_type": "stream",
     "text": [
      "2023-10-26 23:42:45,697:INFO:Use this function if the scores originate from the tp and tn statistics calculated on one test set with no aggregation of any kind.\n",
      "2023-10-26 23:42:45,725:INFO:calling the score check with scores {'acc': 0.3115, 'sens': 1.0, 'spec': 0.0455, 'f1p': 0.4474}, uncertainty 0.0001, p 17 and n 44\n",
      "2023-10-26 23:42:45,737:INFO:checking the scores {'acc': 0.3115, 'sens': 1.0, 'spec': 0.0455, 'f1p': 0.4474}\n",
      "2023-10-26 23:42:45,781:INFO:evaluating the tp and tn solution for acc and sens\n",
      "2023-10-26 23:42:45,797:INFO:intervals before: (0, 17), (0, 44)\n",
      "2023-10-26 23:42:45,801:INFO:the tp solutions: (16.998266, 17)\n",
      "2023-10-26 23:42:45,804:INFO:the tn solutions: (1.995277999999999, 2.009456)\n",
      "2023-10-26 23:42:45,817:INFO:intervals after: [(17, 17)], [(2, 2)]\n",
      "2023-10-26 23:42:45,821:INFO:evaluating the tp and tn solution for acc and spec\n",
      "2023-10-26 23:42:45,824:INFO:intervals before: [(17, 17)], [(2, 2)]\n",
      "2023-10-26 23:42:45,827:INFO:the tp solutions: (16.988789999999998, 17.01021)\n",
      "2023-10-26 23:42:45,828:INFO:the tn solutions: (1.997512, 2.006488)\n",
      "2023-10-26 23:42:45,830:INFO:intervals after: [(17, 17)], [(2, 2)]\n",
      "2023-10-26 23:42:45,832:INFO:evaluating the tp and tn solution for acc and f1p\n",
      "2023-10-26 23:42:45,837:INFO:intervals before: [(17, 17)], [(2, 2)]\n",
      "2023-10-26 23:42:45,838:INFO:the tp solutions: (16.992033649999456, 17.011099682210617)\n",
      "2023-10-26 23:42:45,840:INFO:the tn solutions: (1.9784082467188469, 2.021469888719955)\n",
      "2023-10-26 23:42:45,843:INFO:intervals after: [(17, 17)], [(2, 2)]\n",
      "2023-10-26 23:42:45,845:INFO:evaluating the tp and tn solution for sens and spec\n",
      "2023-10-26 23:42:45,850:INFO:intervals before: [(17, 17)], [(2, 2)]\n",
      "2023-10-26 23:42:45,852:INFO:the tp solutions: (16.998266, 17)\n",
      "2023-10-26 23:42:45,855:INFO:the tn solutions: (1.997512, 2.006488)\n",
      "2023-10-26 23:42:45,857:INFO:intervals after: [(17, 17)], [(2, 2)]\n",
      "2023-10-26 23:42:45,859:INFO:evaluating the tp and tn solution for sens and f1p\n",
      "2023-10-26 23:42:45,861:INFO:intervals before: [(17, 17)], [(2, 2)]\n",
      "2023-10-26 23:42:45,863:INFO:the tp solutions: (16.998266, 17)\n",
      "2023-10-26 23:42:45,865:INFO:the tn solutions: (1.9853953396141368, 2.0313616425738457)\n",
      "2023-10-26 23:42:45,867:INFO:intervals after: [(17, 17)], [(2, 2)]\n",
      "2023-10-26 23:42:45,869:INFO:evaluating the tp and tn solution for spec and f1p\n",
      "2023-10-26 23:42:45,873:INFO:intervals before: [(17, 17)], [(2, 2)]\n",
      "2023-10-26 23:42:45,875:INFO:the tp solutions: (16.994684060802395, 17.00725629596689)\n",
      "2023-10-26 23:42:45,877:INFO:the tn solutions: (1.997512, 2.006488)\n",
      "2023-10-26 23:42:45,878:INFO:intervals after: [(17, 17)], [(2, 2)]\n",
      "2023-10-26 23:42:45,891:INFO:testing acc, feasible tptn pairs: 1\n",
      "2023-10-26 23:42:45,911:INFO:testing sens, feasible tptn pairs: 1\n",
      "2023-10-26 23:42:45,913:INFO:testing spec, feasible tptn pairs: 1\n",
      "2023-10-26 23:42:45,919:INFO:testing f1p, feasible tptn pairs: 1\n",
      "2023-10-26 23:42:45,923:INFO:constructing final tp, tn pair set\n",
      "2023-10-26 23:42:45,926:INFO:final number of intervals: 1\n",
      "2023-10-26 23:42:45,929:INFO:final number of pairs: 1\n"
     ]
    },
    {
     "data": {
      "text/plain": [
       "False"
      ]
     },
     "execution_count": 10,
     "metadata": {},
     "output_type": "execute_result"
    }
   ],
   "source": [
    "results = check_diaretdb1_class(subset='test',\n",
    "                                class_name=['hardexudates', 'softexudates'],\n",
    "                                confidence=0.75,\n",
    "                                scores=scores,\n",
    "                                eps=1e-4)\n",
    "results['inconsistency']"
   ]
  },
  {
   "cell_type": "markdown",
   "metadata": {},
   "source": [
    "## Testing the image segmentation"
   ]
  },
  {
   "cell_type": "code",
   "execution_count": 11,
   "metadata": {},
   "outputs": [],
   "source": [
    "scores = {'acc': 0.5753, 'sens': 0.0503, 'spec': 0.6187, 'f1p': 0.0178}"
   ]
  },
  {
   "cell_type": "code",
   "execution_count": 12,
   "metadata": {},
   "outputs": [
    {
     "name": "stderr",
     "output_type": "stream",
     "text": [
      "2023-10-26 23:42:46,057:INFO:Use this function if the scores originate from the tp and tn statistics calculated on one test set with no aggregation of any kind.\n",
      "2023-10-26 23:42:46,059:INFO:calling the score check with scores {'acc': 0.5753, 'sens': 0.0503, 'spec': 0.6187, 'f1p': 0.0178}, uncertainty 0.0001, p 132038 and n 1275197\n",
      "2023-10-26 23:42:46,062:INFO:checking the scores {'acc': 0.5753, 'sens': 0.0503, 'spec': 0.6187, 'f1p': 0.0178}\n",
      "2023-10-26 23:42:46,064:INFO:evaluating the tp and tn solution for acc and sens\n",
      "2023-10-26 23:42:46,066:INFO:intervals before: (0, 132038), (0, 1275197)\n",
      "2023-10-26 23:42:46,067:INFO:the tp solutions: (6628.043524, 6654.979275999999)\n",
      "2023-10-26 23:42:46,068:INFO:the tn solutions: (802783.778254, 803097.7899460001)\n",
      "2023-10-26 23:42:46,071:INFO:intervals after: [(6629, 6654)], [(802784, 803097)]\n",
      "2023-10-26 23:42:46,072:INFO:evaluating the tp and tn solution for acc and spec\n",
      "2023-10-26 23:42:46,073:INFO:intervals before: [(6629, 6654)], [(802784, 803097)]\n",
      "2023-10-26 23:42:46,074:INFO:the tp solutions: (20344.303535999963, 20891.519664000138)\n",
      "2023-10-26 23:42:46,075:INFO:the tn solutions: (788834.3138059999, 789094.4539940001)\n",
      "2023-10-26 23:42:46,076:INFO:intervals after: [], []\n",
      "2023-10-26 23:42:46,078:INFO:evaluating the tp and tn solution for acc and f1p\n",
      "2023-10-26 23:42:46,081:INFO:intervals before: [], []\n",
      "2023-10-26 23:42:46,084:INFO:the tp solutions: (5382.620227408646, 5448.411631373825)\n",
      "2023-10-26 23:42:46,085:INFO:the tn solutions: (803820.7609366671, 804512.8769120976)\n",
      "2023-10-26 23:42:46,086:INFO:intervals after: [], []\n",
      "2023-10-26 23:42:46,087:INFO:evaluating the tp and tn solution for sens and spec\n",
      "2023-10-26 23:42:46,089:INFO:intervals before: [], []\n",
      "2023-10-26 23:42:46,090:INFO:the tp solutions: (6628.043524, 6654.979275999999)\n",
      "2023-10-26 23:42:46,091:INFO:the tn solutions: (788834.3138059999, 789094.4539940001)\n",
      "2023-10-26 23:42:46,092:INFO:intervals after: [], []\n",
      "2023-10-26 23:42:46,094:INFO:evaluating the tp and tn solution for sens and f1p\n",
      "2023-10-26 23:42:46,097:INFO:intervals before: [], []\n",
      "2023-10-26 23:42:46,100:INFO:the tp solutions: (6628.043524, 6654.979275999999)\n",
      "2023-10-26 23:42:46,102:INFO:the tn solutions: (654261.5122493437, 681171.3956943698)\n",
      "2023-10-26 23:42:46,116:INFO:intervals after: [], []\n",
      "2023-10-26 23:42:46,119:INFO:evaluating the tp and tn solution for spec and f1p\n",
      "2023-10-26 23:42:46,121:INFO:intervals before: [], []\n",
      "2023-10-26 23:42:46,122:INFO:the tp solutions: (5518.761209550405, 5585.29854943852)\n",
      "2023-10-26 23:42:46,123:INFO:the tn solutions: (788834.3138059999, 789094.4539940001)\n",
      "2023-10-26 23:42:46,125:INFO:intervals after: [], []\n",
      "2023-10-26 23:42:46,126:INFO:testing acc, feasible tptn pairs: 0\n",
      "2023-10-26 23:42:46,128:INFO:no more feasible tp,tn pairs left\n",
      "2023-10-26 23:42:46,129:INFO:constructing final tp, tn pair set\n",
      "2023-10-26 23:42:46,130:INFO:final number of intervals: 0\n",
      "2023-10-26 23:42:46,132:INFO:final number of pairs: 0\n",
      "2023-10-26 23:42:46,135:INFO:Use this function if the scores originate from the tp and tn statistics calculated on one test set with no aggregation of any kind.\n",
      "2023-10-26 23:42:46,138:INFO:calling the score check with scores {'acc': 0.5753, 'sens': 0.0503, 'spec': 0.6187, 'f1p': 0.0178}, uncertainty 0.0001, p 132038 and n 1595962\n",
      "2023-10-26 23:42:46,141:INFO:checking the scores {'acc': 0.5753, 'sens': 0.0503, 'spec': 0.6187, 'f1p': 0.0178}\n",
      "2023-10-26 23:42:46,143:INFO:evaluating the tp and tn solution for acc and sens\n",
      "2023-10-26 23:42:46,144:INFO:intervals before: (0, 132038), (0, 1595962)\n",
      "2023-10-26 23:42:46,146:INFO:the tp solutions: (6628.043524, 6654.979275999999)\n",
      "2023-10-26 23:42:46,148:INFO:the tn solutions: (987287.1647239999, 987666.6124760002)\n",
      "2023-10-26 23:42:46,156:INFO:intervals after: [(6629, 6654)], [(987288, 987666)]\n",
      "2023-10-26 23:42:46,157:INFO:evaluating the tp and tn solution for acc and spec\n",
      "2023-10-26 23:42:46,159:INFO:intervals before: [(6629, 6654)], [(987288, 987666)]\n",
      "2023-10-26 23:42:46,161:INFO:the tp solutions: (6357.6664759998675, 7035.754724000231)\n",
      "2023-10-26 23:42:46,163:INFO:the tn solutions: (987258.901276, 987584.4775240001)\n",
      "2023-10-26 23:42:46,164:INFO:intervals after: [(6629, 6654)], [(987288, 987584)]\n",
      "2023-10-26 23:42:46,166:INFO:evaluating the tp and tn solution for acc and f1p\n",
      "2023-10-26 23:42:46,168:INFO:intervals before: [(6629, 6654)], [(987288, 987584)]\n",
      "2023-10-26 23:42:46,170:INFO:the tp solutions: (6609.5341239822355, 6690.322013746083)\n",
      "2023-10-26 23:42:46,172:INFO:the tn solutions: (987043.5818456482, 987893.4586647607)\n",
      "2023-10-26 23:42:46,173:INFO:intervals after: [(6629, 6654)], [(987288, 987584)]\n",
      "2023-10-26 23:42:46,174:INFO:evaluating the tp and tn solution for sens and spec\n",
      "2023-10-26 23:42:46,180:INFO:intervals before: [(6629, 6654)], [(987288, 987584)]\n",
      "2023-10-26 23:42:46,183:INFO:the tp solutions: (6628.043524, 6654.979275999999)\n",
      "2023-10-26 23:42:46,184:INFO:the tn solutions: (987258.901276, 987584.4775240001)\n",
      "2023-10-26 23:42:46,185:INFO:intervals after: [(6629, 6654)], [(987288, 987584)]\n",
      "2023-10-26 23:42:46,187:INFO:evaluating the tp and tn solution for sens and f1p\n",
      "2023-10-26 23:42:46,188:INFO:intervals before: [(6629, 6654)], [(987288, 987584)]\n",
      "2023-10-26 23:42:46,190:INFO:the tp solutions: (6628.043524, 6654.979275999999)\n",
      "2023-10-26 23:42:46,191:INFO:the tn solutions: (971371.2748457015, 1005633.7660187001)\n",
      "2023-10-26 23:42:46,193:INFO:intervals after: [(6629, 6654)], [(987288, 987584)]\n",
      "2023-10-26 23:42:46,194:INFO:evaluating the tp and tn solution for spec and f1p\n",
      "2023-10-26 23:42:46,196:INFO:intervals before: [(6629, 6654)], [(987288, 987584)]\n",
      "2023-10-26 23:42:46,198:INFO:the tp solutions: (6610.432677150226, 6690.258074705212)\n",
      "2023-10-26 23:42:46,199:INFO:the tn solutions: (987258.901276, 987584.4775240001)\n",
      "2023-10-26 23:42:46,201:INFO:intervals after: [(6629, 6654)], [(987288, 987584)]\n",
      "2023-10-26 23:42:46,205:INFO:testing acc, feasible tptn pairs: 26\n",
      "2023-10-26 23:42:46,211:INFO:testing sens, feasible tptn pairs: 26\n",
      "2023-10-26 23:42:46,213:INFO:testing spec, feasible tptn pairs: 26\n",
      "2023-10-26 23:42:46,218:INFO:testing f1p, feasible tptn pairs: 26\n",
      "2023-10-26 23:42:46,224:INFO:constructing final tp, tn pair set\n",
      "2023-10-26 23:42:46,231:INFO:final number of intervals: 26\n",
      "2023-10-26 23:42:46,235:INFO:final number of pairs: 7293\n"
     ]
    },
    {
     "data": {
      "text/plain": [
       "{'inconsistency_fov': True, 'inconsistency_all': False}"
      ]
     },
     "execution_count": 12,
     "metadata": {},
     "output_type": "execute_result"
    }
   ],
   "source": [
    "results = check_diaretdb1_segmentation_image(image_identifier='005',\n",
    "                                class_name=['hardexudates', 'softexudates'],\n",
    "                                confidence=0.75,\n",
    "                                scores=scores,\n",
    "                                eps=1e-4)\n",
    "results['inconsistency']"
   ]
  },
  {
   "cell_type": "markdown",
   "metadata": {},
   "source": [
    "## Testing the aggregated scores of image segmentation"
   ]
  },
  {
   "cell_type": "code",
   "execution_count": 13,
   "metadata": {},
   "outputs": [],
   "source": [
    "scores = {'acc': 0.7143, 'sens': 0.3775, 'spec': 0.7244}"
   ]
  },
  {
   "cell_type": "code",
   "execution_count": 14,
   "metadata": {},
   "outputs": [
    {
     "name": "stderr",
     "output_type": "stream",
     "text": [
      "2023-10-26 23:42:46,316:INFO:checking the scores {'acc': 0.7143, 'sens': 0.3775, 'spec': 0.7244}\n",
      "2023-10-26 23:42:46,318:INFO:evaluating the tp and tn solution for acc and sens\n",
      "2023-10-26 23:42:46,319:INFO:intervals before: (0, 1250927), (0, 26893773)\n",
      "2023-10-26 23:42:46,321:INFO:the tp solutions: (472097.347946, 472352.537054)\n",
      "2023-10-26 23:42:46,323:INFO:the tn solutions: (19628535.913546003, 19634532.621454004)\n",
      "2023-10-26 23:42:46,324:INFO:intervals after: [(472098, 472352)], [(19628536, 19634532)]\n",
      "2023-10-26 23:42:46,325:INFO:evaluating the tp and tn solution for acc and spec\n",
      "2023-10-26 23:42:46,327:INFO:intervals before: [(472098, 472352)], [(19628536, 19634532)]\n",
      "2023-10-26 23:42:46,327:INFO:the tp solutions: (616296.1245540008, 627523.9730460048)\n",
      "2023-10-26 23:42:46,330:INFO:the tn solutions: (19479105.996354, 19484592.326046)\n",
      "2023-10-26 23:42:46,331:INFO:intervals after: [], []\n",
      "2023-10-26 23:42:46,334:INFO:evaluating the tp and tn solution for sens and spec\n",
      "2023-10-26 23:42:46,342:INFO:intervals before: [], []\n",
      "2023-10-26 23:42:46,343:INFO:the tp solutions: (472097.347946, 472352.537054)\n",
      "2023-10-26 23:42:46,345:INFO:the tn solutions: (19479105.996354, 19484592.326046)\n",
      "2023-10-26 23:42:46,347:INFO:intervals after: [], []\n",
      "2023-10-26 23:42:46,348:INFO:testing acc, feasible tptn pairs: 0\n",
      "2023-10-26 23:42:46,351:INFO:no more feasible tp,tn pairs left\n",
      "2023-10-26 23:42:46,353:INFO:constructing final tp, tn pair set\n",
      "2023-10-26 23:42:46,355:INFO:final number of intervals: 0\n",
      "2023-10-26 23:42:46,356:INFO:final number of pairs: 0\n",
      "2023-10-26 23:42:46,493:INFO:checking the scores {'acc': 0.7143, 'sens': 0.3775, 'spec': 0.7244}\n",
      "2023-10-26 23:42:46,495:INFO:evaluating the tp and tn solution for acc and sens\n",
      "2023-10-26 23:42:46,500:INFO:intervals before: (0, 1252069), (0, 33307931)\n",
      "2023-10-26 23:42:46,501:INFO:the tp solutions: (472528.33646200004, 472783.758538)\n",
      "2023-10-26 23:42:46,502:INFO:the tn solutions: (24209899.121462, 24217204.783538006)\n",
      "2023-10-26 23:42:46,504:INFO:intervals after: [(472529, 472783)], [(24209900, 24217204)]\n",
      "2023-10-26 23:42:46,505:INFO:evaluating the tp and tn solution for acc and spec\n",
      "2023-10-26 23:42:46,506:INFO:intervals before: [(472529, 472783)], [(24209900, 24217204)]\n",
      "2023-10-26 23:42:46,507:INFO:the tp solutions: (551020.2546379976, 564865.3125620037)\n",
      "2023-10-26 23:42:46,512:INFO:the tn solutions: (24124867.807438, 24131662.625362)\n",
      "2023-10-26 23:42:46,514:INFO:intervals after: [], []\n",
      "2023-10-26 23:42:46,515:INFO:evaluating the tp and tn solution for sens and spec\n",
      "2023-10-26 23:42:46,517:INFO:intervals before: [], []\n",
      "2023-10-26 23:42:46,518:INFO:the tp solutions: (472528.33646200004, 472783.758538)\n",
      "2023-10-26 23:42:46,519:INFO:the tn solutions: (24124867.807438, 24131662.625362)\n",
      "2023-10-26 23:42:46,520:INFO:intervals after: [], []\n",
      "2023-10-26 23:42:46,522:INFO:testing acc, feasible tptn pairs: 0\n",
      "2023-10-26 23:42:46,523:INFO:no more feasible tp,tn pairs left\n",
      "2023-10-26 23:42:46,524:INFO:constructing final tp, tn pair set\n",
      "2023-10-26 23:42:46,525:INFO:final number of intervals: 0\n",
      "2023-10-26 23:42:46,527:INFO:final number of pairs: 0\n"
     ]
    },
    {
     "name": "stdout",
     "output_type": "stream",
     "text": [
      "Welcome to the CBC MILP Solver \n",
      "Version: 2.10.3 \n",
      "Build Date: Dec 15 2019 \n",
      "\n",
      "command line - /home/gykovacs/anaconda3/envs/mlscorecheck/lib/python3.10/site-packages/pulp/solverdir/cbc/linux/64/cbc /tmp/f5a1320a23cf4bfe93c723fe6dacf0e9-pulp.mps timeMode elapsed branch printingOptions all solution /tmp/f5a1320a23cf4bfe93c723fe6dacf0e9-pulp.sol (default strategy 1)\n",
      "At line 2 NAME          MODEL\n",
      "At line 3 ROWS\n",
      "At line 11 COLUMNS\n",
      "At line 253 RHS\n",
      "At line 260 BOUNDS\n",
      "At line 302 ENDATA\n",
      "Problem MODEL has 6 rows, 41 columns and 160 elements\n",
      "Coin0008I MODEL read with 0 errors\n",
      "Option for timeMode changed from cpu to elapsed\n",
      "Continuous objective value is 0 - 0.00 seconds\n",
      "Cgl0004I processed model has 3 rows, 40 columns (40 integer (0 of which binary)) and 80 elements\n",
      "Cbc0012I Integer solution of 0 found by DiveCoefficient after 0 iterations and 0 nodes (0.00 seconds)\n",
      "Cbc0001I Search completed - best objective 0, took 0 iterations and 0 nodes (0.00 seconds)\n",
      "Cbc0035I Maximum depth 0, 0 variables fixed on reduced cost\n",
      "Cuts at root node changed objective from 0 to 0\n",
      "Probing was tried 0 times and created 0 cuts of which 0 were active after adding rounds of cuts (0.000 seconds)\n",
      "Gomory was tried 0 times and created 0 cuts of which 0 were active after adding rounds of cuts (0.000 seconds)\n",
      "Knapsack was tried 0 times and created 0 cuts of which 0 were active after adding rounds of cuts (0.000 seconds)\n",
      "Clique was tried 0 times and created 0 cuts of which 0 were active after adding rounds of cuts (0.000 seconds)\n",
      "MixedIntegerRounding2 was tried 0 times and created 0 cuts of which 0 were active after adding rounds of cuts (0.000 seconds)\n",
      "FlowCover was tried 0 times and created 0 cuts of which 0 were active after adding rounds of cuts (0.000 seconds)\n",
      "TwoMirCuts was tried 0 times and created 0 cuts of which 0 were active after adding rounds of cuts (0.000 seconds)\n",
      "ZeroHalf was tried 0 times and created 0 cuts of which 0 were active after adding rounds of cuts (0.000 seconds)\n",
      "\n",
      "Result - Optimal solution found\n",
      "\n",
      "Objective value:                0.00000000\n",
      "Enumerated nodes:               0\n",
      "Total iterations:               0\n",
      "Time (CPU seconds):             0.00\n",
      "Time (Wallclock seconds):       0.00\n",
      "\n",
      "Option for printingOptions changed from normal to all\n",
      "Total time (CPU seconds):       0.00   (Wallclock seconds):       0.00\n",
      "\n",
      "Welcome to the CBC MILP Solver \n",
      "Version: 2.10.3 \n",
      "Build Date: Dec 15 2019 \n",
      "\n",
      "command line - /home/gykovacs/anaconda3/envs/mlscorecheck/lib/python3.10/site-packages/pulp/solverdir/cbc/linux/64/cbc /tmp/6d02cdd183b84f8280f1a08cdad1b774-pulp.mps timeMode elapsed branch printingOptions all solution /tmp/6d02cdd183b84f8280f1a08cdad1b774-pulp.sol (default strategy 1)\n",
      "At line 2 NAME          MODEL\n",
      "At line 3 ROWS\n",
      "At line 11 COLUMNS\n",
      "At line 253 RHS\n",
      "At line 260 BOUNDS\n",
      "At line 302 ENDATA\n",
      "Problem MODEL has 6 rows, 41 columns and 160 elements\n",
      "Coin0008I MODEL read with 0 errors\n",
      "Option for timeMode changed from cpu to elapsed\n",
      "Continuous objective value is 0 - 0.00 seconds\n",
      "Cgl0004I processed model has 3 rows, 40 columns (40 integer (0 of which binary)) and 80 elements\n",
      "Cbc0012I Integer solution of 0 found by DiveCoefficient after 0 iterations and 0 nodes (0.00 seconds)\n",
      "Cbc0001I Search completed - best objective 0, took 0 iterations and 0 nodes (0.00 seconds)\n",
      "Cbc0035I Maximum depth 0, 0 variables fixed on reduced cost\n",
      "Cuts at root node changed objective from 0 to 0\n",
      "Probing was tried 0 times and created 0 cuts of which 0 were active after adding rounds of cuts (0.000 seconds)\n",
      "Gomory was tried 0 times and created 0 cuts of which 0 were active after adding rounds of cuts (0.000 seconds)\n",
      "Knapsack was tried 0 times and created 0 cuts of which 0 were active after adding rounds of cuts (0.000 seconds)\n",
      "Clique was tried 0 times and created 0 cuts of which 0 were active after adding rounds of cuts (0.000 seconds)\n",
      "MixedIntegerRounding2 was tried 0 times and created 0 cuts of which 0 were active after adding rounds of cuts (0.000 seconds)\n",
      "FlowCover was tried 0 times and created 0 cuts of which 0 were active after adding rounds of cuts (0.000 seconds)\n",
      "TwoMirCuts was tried 0 times and created 0 cuts of which 0 were active after adding rounds of cuts (0.000 seconds)\n",
      "ZeroHalf was tried 0 times and created 0 cuts of which 0 were active after adding rounds of cuts (0.000 seconds)\n",
      "\n",
      "Result - Optimal solution found\n",
      "\n",
      "Objective value:                0.00000000\n",
      "Enumerated nodes:               0\n",
      "Total iterations:               0\n",
      "Time (CPU seconds):             0.00\n",
      "Time (Wallclock seconds):       0.00\n",
      "\n",
      "Option for printingOptions changed from normal to all\n",
      "Total time (CPU seconds):       0.01   (Wallclock seconds):       0.01\n",
      "\n"
     ]
    },
    {
     "data": {
      "text/plain": [
       "{'inconsistency_fov_som': True,\n",
       " 'inconsistency_all_som': True,\n",
       " 'inconsistency_fov_mos': False,\n",
       " 'inconsistency_all_mos': False}"
      ]
     },
     "execution_count": 14,
     "metadata": {},
     "output_type": "execute_result"
    }
   ],
   "source": [
    "results = check_diaretdb1_segmentation_aggregated(subset='test',\n",
    "                                class_name='hardexudates',\n",
    "                                confidence=0.5,\n",
    "                                only_valid=True,\n",
    "                                scores=scores,\n",
    "                                eps=1e-4)\n",
    "results['inconsistency']"
   ]
  },
  {
   "cell_type": "code",
   "execution_count": null,
   "metadata": {},
   "outputs": [],
   "source": []
  }
 ],
 "metadata": {
  "kernelspec": {
   "display_name": "mlscorecheck",
   "language": "python",
   "name": "python3"
  },
  "language_info": {
   "codemirror_mode": {
    "name": "ipython",
    "version": 3
   },
   "file_extension": ".py",
   "mimetype": "text/x-python",
   "name": "python",
   "nbconvert_exporter": "python",
   "pygments_lexer": "ipython3",
   "version": "3.10.0"
  }
 },
 "nbformat": 4,
 "nbformat_minor": 2
}
