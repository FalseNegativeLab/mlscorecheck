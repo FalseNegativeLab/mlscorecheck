{
 "cells": [
  {
   "cell_type": "code",
   "execution_count": 4,
   "metadata": {},
   "outputs": [],
   "source": [
    "from mlscorecheck.aggregated import generate_datasets_and_scores\n",
    "from mlscorecheck.check import check_n_datasets_mor_kfold_rom_scores"
   ]
  },
  {
   "cell_type": "code",
   "execution_count": 12,
   "metadata": {},
   "outputs": [],
   "source": [
    "datasets = [{'p': 39,\n",
    "            'n': 822,\n",
    "            'n_folds': 8,\n",
    "            'n_repeats': 4,\n",
    "            'folding': 'stratified_sklearn'},\n",
    "            {'name': 'common_datasets.winequality-white-3_vs_7',\n",
    "            'n_folds': 3,\n",
    "            'n_repeats': 3,\n",
    "            'folding': 'stratified_sklearn'}]\n",
    "scores = {'acc': 0.548, 'sens': 0.593, 'spec': 0.546, 'bacc': 0.569}"
   ]
  },
  {
   "cell_type": "code",
   "execution_count": 14,
   "metadata": {},
   "outputs": [
    {
     "name": "stderr",
     "output_type": "stream",
     "text": [
      "2023-08-28 13:01:12,711:INFO:generating a random id for the dataset\n",
      "2023-08-28 13:01:12,718:INFO:None: adding condition acc >= 0.547000\n",
      "2023-08-28 13:01:12,719:INFO:None: adding condition acc <= 0.549000\n",
      "2023-08-28 13:01:12,720:INFO:None: adding condition sens >= 0.592000\n",
      "2023-08-28 13:01:12,722:INFO:None: adding condition sens <= 0.594000\n",
      "2023-08-28 13:01:12,723:INFO:None: adding condition spec >= 0.545000\n",
      "2023-08-28 13:01:12,724:INFO:None: adding condition spec <= 0.547000\n",
      "2023-08-28 13:01:12,725:INFO:None: adding condition bacc >= 0.568000\n",
      "2023-08-28 13:01:12,726:INFO:None: adding condition bacc <= 0.570000\n"
     ]
    },
    {
     "name": "stdout",
     "output_type": "stream",
     "text": [
      "Welcome to the CBC MILP Solver \n",
      "Version: 2.10.3 \n",
      "Build Date: Dec 15 2019 \n",
      "\n",
      "command line - /home/gykovacs/anaconda3/envs/mlscorecheck/lib/python3.10/site-packages/pulp/solverdir/cbc/linux/64/cbc /tmp/c6975f5e0a2d468bb6e375a624bee115-pulp.mps timeMode elapsed branch printingOptions all solution /tmp/c6975f5e0a2d468bb6e375a624bee115-pulp.sol (default strategy 1)\n",
      "At line 2 NAME          MODEL\n",
      "At line 3 ROWS\n",
      "At line 13 COLUMNS\n",
      "At line 671 RHS\n",
      "At line 680 BOUNDS\n",
      "At line 764 ENDATA\n",
      "Problem MODEL has 8 rows, 83 columns and 492 elements\n",
      "Coin0008I MODEL read with 0 errors\n",
      "Option for timeMode changed from cpu to elapsed\n",
      "Continuous objective value is 0 - 0.00 seconds\n",
      "Cgl0003I 0 fixed, 1 tightened bounds, 0 strengthened rows, 0 substitutions\n",
      "Cgl0004I processed model has 4 rows, 4 columns (4 integer (0 of which binary)) and 12 elements\n",
      "Cbc0012I Integer solution of 0 found by DiveCoefficient after 0 iterations and 0 nodes (0.00 seconds)\n",
      "Cbc0001I Search completed - best objective 0, took 0 iterations and 0 nodes (0.00 seconds)\n",
      "Cbc0035I Maximum depth 0, 0 variables fixed on reduced cost\n",
      "Cuts at root node changed objective from 0 to 0\n",
      "Probing was tried 0 times and created 0 cuts of which 0 were active after adding rounds of cuts (0.000 seconds)\n",
      "Gomory was tried 0 times and created 0 cuts of which 0 were active after adding rounds of cuts (0.000 seconds)\n",
      "Knapsack was tried 0 times and created 0 cuts of which 0 were active after adding rounds of cuts (0.000 seconds)\n",
      "Clique was tried 0 times and created 0 cuts of which 0 were active after adding rounds of cuts (0.000 seconds)\n",
      "MixedIntegerRounding2 was tried 0 times and created 0 cuts of which 0 were active after adding rounds of cuts (0.000 seconds)\n",
      "FlowCover was tried 0 times and created 0 cuts of which 0 were active after adding rounds of cuts (0.000 seconds)\n",
      "TwoMirCuts was tried 0 times and created 0 cuts of which 0 were active after adding rounds of cuts (0.000 seconds)\n",
      "ZeroHalf was tried 0 times and created 0 cuts of which 0 were active after adding rounds of cuts (0.000 seconds)\n",
      "\n",
      "Result - Optimal solution found\n",
      "\n",
      "Objective value:                0.00000000\n",
      "Enumerated nodes:               0\n",
      "Total iterations:               0\n",
      "Time (CPU seconds):             0.00\n",
      "Time (Wallclock seconds):       0.00\n",
      "\n",
      "Option for printingOptions changed from normal to all\n",
      "Total time (CPU seconds):       0.00   (Wallclock seconds):       0.00\n",
      "\n"
     ]
    },
    {
     "data": {
      "text/plain": [
       "False"
      ]
     },
     "execution_count": 14,
     "metadata": {},
     "output_type": "execute_result"
    }
   ],
   "source": [
    "result = check_n_datasets_mor_kfold_rom_scores(datasets=datasets,\n",
    "                                                eps=1e-3,\n",
    "                                                scores=scores)\n",
    "result['inconsistency']"
   ]
  },
  {
   "cell_type": "code",
   "execution_count": 30,
   "metadata": {},
   "outputs": [],
   "source": [
    "datasets = [{'folds': [{'p': 22, 'n': 90},\n",
    "                        {'p': 51, 'n': 45},\n",
    "                        {'p': 78, 'n': 34},\n",
    "                        {'p': 33, 'n': 89}]},\n",
    "            {'name': 'common_datasets.yeast-1-2-8-9_vs_7',\n",
    "            'n_folds': 8,\n",
    "            'n_repeats': 4,\n",
    "            'folding': 'stratified_sklearn'}]\n",
    "scores = {'acc': 0.552, 'sens': 0.555, 'spec': 0.556, 'bacc': 0.555}"
   ]
  },
  {
   "cell_type": "code",
   "execution_count": 31,
   "metadata": {},
   "outputs": [
    {
     "name": "stderr",
     "output_type": "stream",
     "text": [
      "2023-08-28 13:11:18,921:INFO:generating a random id for the dataset\n",
      "2023-08-28 13:11:18,923:INFO:a random identifier for the fold has been generated crrophvipmjutvit\n",
      "2023-08-28 13:11:18,924:INFO:a random identifier for the fold has been generated oghlflybadcajbdj\n",
      "2023-08-28 13:11:18,925:INFO:a random identifier for the fold has been generated hgtmxghhiszscojf\n",
      "2023-08-28 13:11:18,926:INFO:a random identifier for the fold has been generated udbpvoynyxamhoqc\n",
      "2023-08-28 13:11:18,930:INFO:None: adding condition acc >= 0.551000\n",
      "2023-08-28 13:11:18,931:INFO:None: adding condition acc <= 0.553000\n",
      "2023-08-28 13:11:18,932:INFO:None: adding condition sens >= 0.554000\n",
      "2023-08-28 13:11:18,933:INFO:None: adding condition sens <= 0.556000\n",
      "2023-08-28 13:11:18,933:INFO:None: adding condition spec >= 0.555000\n",
      "2023-08-28 13:11:18,934:INFO:None: adding condition spec <= 0.557000\n",
      "2023-08-28 13:11:18,935:INFO:None: adding condition bacc >= 0.554000\n",
      "2023-08-28 13:11:18,936:INFO:None: adding condition bacc <= 0.556000\n"
     ]
    },
    {
     "name": "stdout",
     "output_type": "stream",
     "text": [
      "Welcome to the CBC MILP Solver \n",
      "Version: 2.10.3 \n",
      "Build Date: Dec 15 2019 \n",
      "\n",
      "command line - /home/gykovacs/anaconda3/envs/mlscorecheck/lib/python3.10/site-packages/pulp/solverdir/cbc/linux/64/cbc /tmp/13165ced29ce4e22b0966237dfcbc32d-pulp.mps timeMode elapsed branch printingOptions all solution /tmp/13165ced29ce4e22b0966237dfcbc32d-pulp.sol (default strategy 1)\n",
      "At line 2 NAME          MODEL\n",
      "At line 3 ROWS\n",
      "At line 13 COLUMNS\n",
      "At line 591 RHS\n",
      "At line 600 BOUNDS\n",
      "At line 674 ENDATA\n",
      "Problem MODEL has 8 rows, 73 columns and 432 elements\n",
      "Coin0008I MODEL read with 0 errors\n",
      "Option for timeMode changed from cpu to elapsed\n",
      "Continuous objective value is 0 - 0.00 seconds\n",
      "Cgl0004I processed model has 4 rows, 4 columns (4 integer (0 of which binary)) and 12 elements\n",
      "Cbc0012I Integer solution of 0 found by DiveCoefficient after 0 iterations and 0 nodes (0.00 seconds)\n",
      "Cbc0001I Search completed - best objective 0, took 0 iterations and 0 nodes (0.00 seconds)\n",
      "Cbc0035I Maximum depth 0, 0 variables fixed on reduced cost\n",
      "Cuts at root node changed objective from 0 to 0\n",
      "Probing was tried 0 times and created 0 cuts of which 0 were active after adding rounds of cuts (0.000 seconds)\n",
      "Gomory was tried 0 times and created 0 cuts of which 0 were active after adding rounds of cuts (0.000 seconds)\n",
      "Knapsack was tried 0 times and created 0 cuts of which 0 were active after adding rounds of cuts (0.000 seconds)\n",
      "Clique was tried 0 times and created 0 cuts of which 0 were active after adding rounds of cuts (0.000 seconds)\n",
      "MixedIntegerRounding2 was tried 0 times and created 0 cuts of which 0 were active after adding rounds of cuts (0.000 seconds)\n",
      "FlowCover was tried 0 times and created 0 cuts of which 0 were active after adding rounds of cuts (0.000 seconds)\n",
      "TwoMirCuts was tried 0 times and created 0 cuts of which 0 were active after adding rounds of cuts (0.000 seconds)\n",
      "ZeroHalf was tried 0 times and created 0 cuts of which 0 were active after adding rounds of cuts (0.000 seconds)\n",
      "\n",
      "Result - Optimal solution found\n",
      "\n",
      "Objective value:                0.00000000\n",
      "Enumerated nodes:               0\n",
      "Total iterations:               0\n",
      "Time (CPU seconds):             0.00\n",
      "Time (Wallclock seconds):       0.00\n",
      "\n",
      "Option for printingOptions changed from normal to all\n",
      "Total time (CPU seconds):       0.00   (Wallclock seconds):       0.00\n",
      "\n"
     ]
    },
    {
     "data": {
      "text/plain": [
       "False"
      ]
     },
     "execution_count": 31,
     "metadata": {},
     "output_type": "execute_result"
    }
   ],
   "source": [
    "result = check_n_datasets_mor_kfold_rom_scores(datasets=datasets,\n",
    "                                                eps=1e-3,\n",
    "                                                scores=scores)\n",
    "result['inconsistency']"
   ]
  },
  {
   "cell_type": "code",
   "execution_count": 37,
   "metadata": {},
   "outputs": [],
   "source": [
    "datasets = [{'folds': [{'p': 22, 'n': 90},\n",
    "                        {'p': 51, 'n': 45},\n",
    "                        {'p': 78, 'n': 34},\n",
    "                        {'p': 33, 'n': 89}],\n",
    "            'fold_score_bounds': {'acc': (0.8, 1.0)},\n",
    "            'score_bounds': {'acc': (0.8, 1.0)}\n",
    "            },\n",
    "            {'name': 'common_datasets.yeast-1-2-8-9_vs_7',\n",
    "            'n_folds': 8,\n",
    "            'n_repeats': 4,\n",
    "            'folding': 'stratified_sklearn',\n",
    "            'fold_score_bounds': {'acc': (0.8, 1.0)},\n",
    "            'score_bounds': {'acc': (0.8, 1.0)}\n",
    "            }]\n",
    "scores = {'acc': 0.552, 'sens': 0.555, 'spec': 0.556, 'bacc': 0.555}"
   ]
  },
  {
   "cell_type": "code",
   "execution_count": 38,
   "metadata": {},
   "outputs": [
    {
     "name": "stderr",
     "output_type": "stream",
     "text": [
      "2023-08-28 13:14:28,834:INFO:generating a random id for the dataset\n",
      "2023-08-28 13:14:28,836:INFO:a random identifier for the fold has been generated uhgwakapnsjounvh\n",
      "2023-08-28 13:14:28,837:INFO:a random identifier for the fold has been generated epbgishxyglbjegl\n",
      "2023-08-28 13:14:28,838:INFO:a random identifier for the fold has been generated vunbkocyuovyesmj\n",
      "2023-08-28 13:14:28,839:INFO:a random identifier for the fold has been generated olvwovarblodfqfa\n",
      "2023-08-28 13:14:28,840:INFO:fold uhgwakapnsjounvh: adding lower bound 0.8 for acc\n",
      "2023-08-28 13:14:28,842:INFO:fold uhgwakapnsjounvh: adding upper bound 1.0 for acc\n",
      "2023-08-28 13:14:28,843:INFO:fold epbgishxyglbjegl: adding lower bound 0.8 for acc\n",
      "2023-08-28 13:14:28,844:INFO:fold epbgishxyglbjegl: adding upper bound 1.0 for acc\n",
      "2023-08-28 13:14:28,845:INFO:fold vunbkocyuovyesmj: adding lower bound 0.8 for acc\n",
      "2023-08-28 13:14:28,847:INFO:fold vunbkocyuovyesmj: adding upper bound 1.0 for acc\n",
      "2023-08-28 13:14:28,847:INFO:fold olvwovarblodfqfa: adding lower bound 0.8 for acc\n",
      "2023-08-28 13:14:28,848:INFO:fold olvwovarblodfqfa: adding upper bound 1.0 for acc\n",
      "2023-08-28 13:14:28,849:INFO:fold common_datasets.yeast_1_2_8_9_vs_7_0_0: adding lower bound 0.8 for acc\n",
      "2023-08-28 13:14:28,850:INFO:fold common_datasets.yeast_1_2_8_9_vs_7_0_0: adding upper bound 1.0 for acc\n",
      "2023-08-28 13:14:28,851:INFO:fold common_datasets.yeast_1_2_8_9_vs_7_0_1: adding lower bound 0.8 for acc\n",
      "2023-08-28 13:14:28,852:INFO:fold common_datasets.yeast_1_2_8_9_vs_7_0_1: adding upper bound 1.0 for acc\n",
      "2023-08-28 13:14:28,852:INFO:fold common_datasets.yeast_1_2_8_9_vs_7_0_2: adding lower bound 0.8 for acc\n",
      "2023-08-28 13:14:28,853:INFO:fold common_datasets.yeast_1_2_8_9_vs_7_0_2: adding upper bound 1.0 for acc\n",
      "2023-08-28 13:14:28,854:INFO:fold common_datasets.yeast_1_2_8_9_vs_7_0_3: adding lower bound 0.8 for acc\n",
      "2023-08-28 13:14:28,855:INFO:fold common_datasets.yeast_1_2_8_9_vs_7_0_3: adding upper bound 1.0 for acc\n",
      "2023-08-28 13:14:28,856:INFO:fold common_datasets.yeast_1_2_8_9_vs_7_0_4: adding lower bound 0.8 for acc\n",
      "2023-08-28 13:14:28,857:INFO:fold common_datasets.yeast_1_2_8_9_vs_7_0_4: adding upper bound 1.0 for acc\n",
      "2023-08-28 13:14:28,857:INFO:fold common_datasets.yeast_1_2_8_9_vs_7_0_5: adding lower bound 0.8 for acc\n",
      "2023-08-28 13:14:28,858:INFO:fold common_datasets.yeast_1_2_8_9_vs_7_0_5: adding upper bound 1.0 for acc\n",
      "2023-08-28 13:14:28,859:INFO:fold common_datasets.yeast_1_2_8_9_vs_7_0_6: adding lower bound 0.8 for acc\n",
      "2023-08-28 13:14:28,859:INFO:fold common_datasets.yeast_1_2_8_9_vs_7_0_6: adding upper bound 1.0 for acc\n",
      "2023-08-28 13:14:28,860:INFO:fold common_datasets.yeast_1_2_8_9_vs_7_0_7: adding lower bound 0.8 for acc\n",
      "2023-08-28 13:14:28,861:INFO:fold common_datasets.yeast_1_2_8_9_vs_7_0_7: adding upper bound 1.0 for acc\n",
      "2023-08-28 13:14:28,862:INFO:fold common_datasets.yeast_1_2_8_9_vs_7_1_0: adding lower bound 0.8 for acc\n",
      "2023-08-28 13:14:28,863:INFO:fold common_datasets.yeast_1_2_8_9_vs_7_1_0: adding upper bound 1.0 for acc\n",
      "2023-08-28 13:14:28,865:INFO:fold common_datasets.yeast_1_2_8_9_vs_7_1_1: adding lower bound 0.8 for acc\n",
      "2023-08-28 13:14:28,867:INFO:fold common_datasets.yeast_1_2_8_9_vs_7_1_1: adding upper bound 1.0 for acc\n",
      "2023-08-28 13:14:28,867:INFO:fold common_datasets.yeast_1_2_8_9_vs_7_1_2: adding lower bound 0.8 for acc\n",
      "2023-08-28 13:14:28,868:INFO:fold common_datasets.yeast_1_2_8_9_vs_7_1_2: adding upper bound 1.0 for acc\n",
      "2023-08-28 13:14:28,869:INFO:fold common_datasets.yeast_1_2_8_9_vs_7_1_3: adding lower bound 0.8 for acc\n",
      "2023-08-28 13:14:28,870:INFO:fold common_datasets.yeast_1_2_8_9_vs_7_1_3: adding upper bound 1.0 for acc\n",
      "2023-08-28 13:14:28,870:INFO:fold common_datasets.yeast_1_2_8_9_vs_7_1_4: adding lower bound 0.8 for acc\n",
      "2023-08-28 13:14:28,871:INFO:fold common_datasets.yeast_1_2_8_9_vs_7_1_4: adding upper bound 1.0 for acc\n",
      "2023-08-28 13:14:28,872:INFO:fold common_datasets.yeast_1_2_8_9_vs_7_1_5: adding lower bound 0.8 for acc\n",
      "2023-08-28 13:14:28,872:INFO:fold common_datasets.yeast_1_2_8_9_vs_7_1_5: adding upper bound 1.0 for acc\n",
      "2023-08-28 13:14:28,873:INFO:fold common_datasets.yeast_1_2_8_9_vs_7_1_6: adding lower bound 0.8 for acc\n",
      "2023-08-28 13:14:28,873:INFO:fold common_datasets.yeast_1_2_8_9_vs_7_1_6: adding upper bound 1.0 for acc\n",
      "2023-08-28 13:14:28,874:INFO:fold common_datasets.yeast_1_2_8_9_vs_7_1_7: adding lower bound 0.8 for acc\n",
      "2023-08-28 13:14:28,874:INFO:fold common_datasets.yeast_1_2_8_9_vs_7_1_7: adding upper bound 1.0 for acc\n",
      "2023-08-28 13:14:28,875:INFO:fold common_datasets.yeast_1_2_8_9_vs_7_2_0: adding lower bound 0.8 for acc\n",
      "2023-08-28 13:14:28,875:INFO:fold common_datasets.yeast_1_2_8_9_vs_7_2_0: adding upper bound 1.0 for acc\n",
      "2023-08-28 13:14:28,876:INFO:fold common_datasets.yeast_1_2_8_9_vs_7_2_1: adding lower bound 0.8 for acc\n",
      "2023-08-28 13:14:28,877:INFO:fold common_datasets.yeast_1_2_8_9_vs_7_2_1: adding upper bound 1.0 for acc\n",
      "2023-08-28 13:14:28,877:INFO:fold common_datasets.yeast_1_2_8_9_vs_7_2_2: adding lower bound 0.8 for acc\n",
      "2023-08-28 13:14:28,878:INFO:fold common_datasets.yeast_1_2_8_9_vs_7_2_2: adding upper bound 1.0 for acc\n",
      "2023-08-28 13:14:28,878:INFO:fold common_datasets.yeast_1_2_8_9_vs_7_2_3: adding lower bound 0.8 for acc\n",
      "2023-08-28 13:14:28,879:INFO:fold common_datasets.yeast_1_2_8_9_vs_7_2_3: adding upper bound 1.0 for acc\n",
      "2023-08-28 13:14:28,881:INFO:fold common_datasets.yeast_1_2_8_9_vs_7_2_4: adding lower bound 0.8 for acc\n",
      "2023-08-28 13:14:28,881:INFO:fold common_datasets.yeast_1_2_8_9_vs_7_2_4: adding upper bound 1.0 for acc\n",
      "2023-08-28 13:14:28,883:INFO:fold common_datasets.yeast_1_2_8_9_vs_7_2_5: adding lower bound 0.8 for acc\n",
      "2023-08-28 13:14:28,885:INFO:fold common_datasets.yeast_1_2_8_9_vs_7_2_5: adding upper bound 1.0 for acc\n",
      "2023-08-28 13:14:28,885:INFO:fold common_datasets.yeast_1_2_8_9_vs_7_2_6: adding lower bound 0.8 for acc\n",
      "2023-08-28 13:14:28,886:INFO:fold common_datasets.yeast_1_2_8_9_vs_7_2_6: adding upper bound 1.0 for acc\n",
      "2023-08-28 13:14:28,887:INFO:fold common_datasets.yeast_1_2_8_9_vs_7_2_7: adding lower bound 0.8 for acc\n",
      "2023-08-28 13:14:28,887:INFO:fold common_datasets.yeast_1_2_8_9_vs_7_2_7: adding upper bound 1.0 for acc\n",
      "2023-08-28 13:14:28,888:INFO:fold common_datasets.yeast_1_2_8_9_vs_7_3_0: adding lower bound 0.8 for acc\n",
      "2023-08-28 13:14:28,889:INFO:fold common_datasets.yeast_1_2_8_9_vs_7_3_0: adding upper bound 1.0 for acc\n",
      "2023-08-28 13:14:28,890:INFO:fold common_datasets.yeast_1_2_8_9_vs_7_3_1: adding lower bound 0.8 for acc\n",
      "2023-08-28 13:14:28,890:INFO:fold common_datasets.yeast_1_2_8_9_vs_7_3_1: adding upper bound 1.0 for acc\n",
      "2023-08-28 13:14:28,891:INFO:fold common_datasets.yeast_1_2_8_9_vs_7_3_2: adding lower bound 0.8 for acc\n",
      "2023-08-28 13:14:28,892:INFO:fold common_datasets.yeast_1_2_8_9_vs_7_3_2: adding upper bound 1.0 for acc\n",
      "2023-08-28 13:14:28,893:INFO:fold common_datasets.yeast_1_2_8_9_vs_7_3_3: adding lower bound 0.8 for acc\n",
      "2023-08-28 13:14:28,893:INFO:fold common_datasets.yeast_1_2_8_9_vs_7_3_3: adding upper bound 1.0 for acc\n",
      "2023-08-28 13:14:28,894:INFO:fold common_datasets.yeast_1_2_8_9_vs_7_3_4: adding lower bound 0.8 for acc\n",
      "2023-08-28 13:14:28,895:INFO:fold common_datasets.yeast_1_2_8_9_vs_7_3_4: adding upper bound 1.0 for acc\n",
      "2023-08-28 13:14:28,896:INFO:fold common_datasets.yeast_1_2_8_9_vs_7_3_5: adding lower bound 0.8 for acc\n",
      "2023-08-28 13:14:28,897:INFO:fold common_datasets.yeast_1_2_8_9_vs_7_3_5: adding upper bound 1.0 for acc\n",
      "2023-08-28 13:14:28,897:INFO:fold common_datasets.yeast_1_2_8_9_vs_7_3_6: adding lower bound 0.8 for acc\n",
      "2023-08-28 13:14:28,898:INFO:fold common_datasets.yeast_1_2_8_9_vs_7_3_6: adding upper bound 1.0 for acc\n",
      "2023-08-28 13:14:28,899:INFO:fold common_datasets.yeast_1_2_8_9_vs_7_3_7: adding lower bound 0.8 for acc\n",
      "2023-08-28 13:14:28,900:INFO:fold common_datasets.yeast_1_2_8_9_vs_7_3_7: adding upper bound 1.0 for acc\n",
      "2023-08-28 13:14:28,902:INFO:None: adding condition acc >= 0.551000\n",
      "2023-08-28 13:14:28,904:INFO:None: adding condition acc <= 0.553000\n",
      "2023-08-28 13:14:28,906:INFO:None: adding condition sens >= 0.554000\n",
      "2023-08-28 13:14:28,907:INFO:None: adding condition sens <= 0.556000\n",
      "2023-08-28 13:14:28,908:INFO:None: adding condition spec >= 0.555000\n",
      "2023-08-28 13:14:28,908:INFO:None: adding condition spec <= 0.557000\n",
      "2023-08-28 13:14:28,910:INFO:None: adding condition bacc >= 0.554000\n",
      "2023-08-28 13:14:28,911:INFO:None: adding condition bacc <= 0.556000\n"
     ]
    },
    {
     "name": "stdout",
     "output_type": "stream",
     "text": [
      "Welcome to the CBC MILP Solver \n",
      "Version: 2.10.3 \n",
      "Build Date: Dec 15 2019 \n",
      "\n",
      "command line - /home/gykovacs/anaconda3/envs/mlscorecheck/lib/python3.10/site-packages/pulp/solverdir/cbc/linux/64/cbc /tmp/31d33d7f53f34892940e7c6c222fda3a-pulp.mps timeMode elapsed branch printingOptions all solution /tmp/31d33d7f53f34892940e7c6c222fda3a-pulp.sol (default strategy 1)\n",
      "At line 2 NAME          MODEL\n",
      "At line 3 ROWS\n",
      "At line 85 COLUMNS\n",
      "At line 807 RHS\n",
      "At line 888 BOUNDS\n",
      "At line 962 ENDATA\n",
      "Problem MODEL has 80 rows, 73 columns and 576 elements\n",
      "Coin0008I MODEL read with 0 errors\n",
      "Option for timeMode changed from cpu to elapsed\n",
      "Problem is infeasible - 0.00 seconds\n",
      "Option for printingOptions changed from normal to all\n",
      "Total time (CPU seconds):       0.00   (Wallclock seconds):       0.00\n",
      "\n"
     ]
    },
    {
     "data": {
      "text/plain": [
       "True"
      ]
     },
     "execution_count": 38,
     "metadata": {},
     "output_type": "execute_result"
    }
   ],
   "source": [
    "result = check_n_datasets_mor_kfold_rom_scores(datasets=datasets,\n",
    "                                                eps=1e-3,\n",
    "                                                scores=scores)\n",
    "result['inconsistency']"
   ]
  },
  {
   "cell_type": "code",
   "execution_count": 40,
   "metadata": {},
   "outputs": [],
   "source": [
    "datasets, scores = generate_datasets_and_scores(max_n_datasets=3,\n",
    "                                rounding_decimals=3,\n",
    "                                score_subset=['acc', 'sens', 'spec', 'bacc'],\n",
    "                                aggregation='mor',\n",
    "                                aggregation_ds='rom')"
   ]
  },
  {
   "cell_type": "code",
   "execution_count": 41,
   "metadata": {},
   "outputs": [
    {
     "name": "stderr",
     "output_type": "stream",
     "text": [
      "2023-08-28 13:16:28,861:INFO:None: adding condition acc >= 0.443000\n",
      "2023-08-28 13:16:28,864:INFO:None: adding condition acc <= 0.445000\n",
      "2023-08-28 13:16:28,865:INFO:None: adding condition sens >= 0.492000\n",
      "2023-08-28 13:16:28,866:INFO:None: adding condition sens <= 0.494000\n",
      "2023-08-28 13:16:28,867:INFO:None: adding condition spec >= 0.419000\n",
      "2023-08-28 13:16:28,868:INFO:None: adding condition spec <= 0.421000\n",
      "2023-08-28 13:16:28,869:INFO:None: adding condition bacc >= 0.456000\n",
      "2023-08-28 13:16:28,870:INFO:None: adding condition bacc <= 0.458000\n"
     ]
    },
    {
     "name": "stdout",
     "output_type": "stream",
     "text": [
      "Welcome to the CBC MILP Solver \n",
      "Version: 2.10.3 \n",
      "Build Date: Dec 15 2019 \n",
      "\n",
      "command line - /home/gykovacs/anaconda3/envs/mlscorecheck/lib/python3.10/site-packages/pulp/solverdir/cbc/linux/64/cbc /tmp/e3bfdc3abf9245ea92687d0af070daae-pulp.mps timeMode elapsed branch printingOptions all solution /tmp/e3bfdc3abf9245ea92687d0af070daae-pulp.sol (default strategy 1)\n",
      "At line 2 NAME          MODEL\n",
      "At line 3 ROWS\n",
      "At line 13 COLUMNS\n",
      "At line 399 RHS\n",
      "At line 408 BOUNDS\n",
      "At line 458 ENDATA\n",
      "Problem MODEL has 8 rows, 49 columns and 288 elements\n",
      "Coin0008I MODEL read with 0 errors\n",
      "Option for timeMode changed from cpu to elapsed\n",
      "Continuous objective value is 0 - 0.00 seconds\n",
      "Cgl0004I processed model has 0 rows, 0 columns (0 integer (0 of which binary)) and 0 elements\n",
      "Cbc3007W No integer variables - nothing to do\n",
      "Cuts at root node changed objective from 0 to -1.79769e+308\n",
      "Probing was tried 0 times and created 0 cuts of which 0 were active after adding rounds of cuts (0.000 seconds)\n",
      "Gomory was tried 0 times and created 0 cuts of which 0 were active after adding rounds of cuts (0.000 seconds)\n",
      "Knapsack was tried 0 times and created 0 cuts of which 0 were active after adding rounds of cuts (0.000 seconds)\n",
      "Clique was tried 0 times and created 0 cuts of which 0 were active after adding rounds of cuts (0.000 seconds)\n",
      "MixedIntegerRounding2 was tried 0 times and created 0 cuts of which 0 were active after adding rounds of cuts (0.000 seconds)\n",
      "FlowCover was tried 0 times and created 0 cuts of which 0 were active after adding rounds of cuts (0.000 seconds)\n",
      "TwoMirCuts was tried 0 times and created 0 cuts of which 0 were active after adding rounds of cuts (0.000 seconds)\n",
      "ZeroHalf was tried 0 times and created 0 cuts of which 0 were active after adding rounds of cuts (0.000 seconds)\n",
      "\n",
      "Result - Optimal solution found\n",
      "\n",
      "Objective value:                0.00000000\n",
      "Enumerated nodes:               0\n",
      "Total iterations:               0\n",
      "Time (CPU seconds):             0.00\n",
      "Time (Wallclock seconds):       0.00\n",
      "\n",
      "Option for printingOptions changed from normal to all\n",
      "Total time (CPU seconds):       0.00   (Wallclock seconds):       0.00\n",
      "\n"
     ]
    },
    {
     "data": {
      "text/plain": [
       "False"
      ]
     },
     "execution_count": 41,
     "metadata": {},
     "output_type": "execute_result"
    }
   ],
   "source": [
    "result = check_n_datasets_mor_kfold_rom_scores(datasets=datasets,\n",
    "                                                eps=1e-3,\n",
    "                                                scores=scores)\n",
    "result['inconsistency']"
   ]
  },
  {
   "cell_type": "code",
   "execution_count": null,
   "metadata": {},
   "outputs": [],
   "source": []
  }
 ],
 "metadata": {
  "kernelspec": {
   "display_name": "mlscorecheck",
   "language": "python",
   "name": "python3"
  },
  "language_info": {
   "codemirror_mode": {
    "name": "ipython",
    "version": 3
   },
   "file_extension": ".py",
   "mimetype": "text/x-python",
   "name": "python",
   "nbconvert_exporter": "python",
   "pygments_lexer": "ipython3",
   "version": "3.10.0"
  },
  "orig_nbformat": 4
 },
 "nbformat": 4,
 "nbformat_minor": 2
}
