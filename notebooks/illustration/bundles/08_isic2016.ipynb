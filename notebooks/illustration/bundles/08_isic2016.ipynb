{
 "cells": [
  {
   "cell_type": "markdown",
   "metadata": {},
   "source": [
    "# Testing performance scores reported for the ISIC2016 dataset"
   ]
  },
  {
   "cell_type": "code",
   "execution_count": 185,
   "metadata": {},
   "outputs": [],
   "source": [
    "import logging"
   ]
  },
  {
   "cell_type": "code",
   "execution_count": 186,
   "metadata": {},
   "outputs": [],
   "source": [
    "from mlscorecheck.check.bundles.skinlesion import check_isic2016"
   ]
  },
  {
   "cell_type": "code",
   "execution_count": 187,
   "metadata": {},
   "outputs": [],
   "source": [
    "logging.getLogger('mlscorecheck').setLevel(logging.ERROR)"
   ]
  },
  {
   "cell_type": "code",
   "execution_count": 188,
   "metadata": {},
   "outputs": [],
   "source": [
    "scores = {'acc': 0.7916, 'sens': 0.2933, 'spec': 0.9145}"
   ]
  },
  {
   "cell_type": "code",
   "execution_count": 189,
   "metadata": {},
   "outputs": [
    {
     "data": {
      "text/plain": [
       "False"
      ]
     },
     "execution_count": 189,
     "metadata": {},
     "output_type": "execute_result"
    }
   ],
   "source": [
    "results = check_isic2016(scores=scores, eps=1e-4)\n",
    "results['inconsistency']"
   ]
  },
  {
   "cell_type": "markdown",
   "metadata": {},
   "source": [
    "## Power analysis"
   ]
  },
  {
   "cell_type": "code",
   "execution_count": 190,
   "metadata": {},
   "outputs": [],
   "source": [
    "import numpy as np"
   ]
  },
  {
   "cell_type": "code",
   "execution_count": 191,
   "metadata": {},
   "outputs": [
    {
     "name": "stdout",
     "output_type": "stream",
     "text": [
      "................................................................................................................................................................................................................................................................................................................................................................................................................................................................................................................................................................................................................................................................................................................................................................................................................................................................................................................................................................................................................................................................................................................................................................................................................................................................................................................................................................................................................................................................................................................................................................................................................................................................................................................................................................................................................................................................................................................................................................................................................................................................................"
     ]
    }
   ],
   "source": [
    "n_experiments = 2000\n",
    "all_results = []\n",
    "random_state = np.random.RandomState(5)\n",
    "\n",
    "p = 75\n",
    "n = 304\n",
    "\n",
    "for idx in range(n_experiments):\n",
    "    print('.', end='')\n",
    "\n",
    "    tp = random_state.randint(p/2, p + 1)\n",
    "    tn = random_state.randint(n/2, n + 1)\n",
    "\n",
    "    for k in [2, 3, 4]:\n",
    "\n",
    "        acc = (np.round((tp + tn) / (n + p), k))\n",
    "        sens = (np.round(tp / p, k))\n",
    "        spec = (np.round(tn / n, k))\n",
    "\n",
    "        if random_state.randint(2) == 0:\n",
    "            acc += 10**(-k)\n",
    "        else:\n",
    "            acc -= 10**(-k)\n",
    "\n",
    "        scores = {'acc': acc, 'sens': sens, 'spec': spec}\n",
    "        results = check_isic2016(scores=scores, eps=10**(-k)/2)\n",
    "\n",
    "        all_results.append((k, idx, results['inconsistency']))"
   ]
  },
  {
   "cell_type": "code",
   "execution_count": 192,
   "metadata": {},
   "outputs": [],
   "source": [
    "import pandas as pd\n",
    "data = pd.DataFrame(all_results, columns=['k', 'idx', 'flag'])\n",
    "results = data.groupby('k').agg({'flag': 'mean'})\n",
    "import matplotlib.pyplot as plt\n",
    "results.index = [2, 3, 4]"
   ]
  },
  {
   "cell_type": "code",
   "execution_count": 193,
   "metadata": {},
   "outputs": [
    {
     "data": {
      "text/html": [
       "<div>\n",
       "<style scoped>\n",
       "    .dataframe tbody tr th:only-of-type {\n",
       "        vertical-align: middle;\n",
       "    }\n",
       "\n",
       "    .dataframe tbody tr th {\n",
       "        vertical-align: top;\n",
       "    }\n",
       "\n",
       "    .dataframe thead th {\n",
       "        text-align: right;\n",
       "    }\n",
       "</style>\n",
       "<table border=\"1\" class=\"dataframe\">\n",
       "  <thead>\n",
       "    <tr style=\"text-align: right;\">\n",
       "      <th></th>\n",
       "      <th>flag</th>\n",
       "    </tr>\n",
       "  </thead>\n",
       "  <tbody>\n",
       "    <tr>\n",
       "      <th>2</th>\n",
       "      <td>0.7160</td>\n",
       "    </tr>\n",
       "    <tr>\n",
       "      <th>3</th>\n",
       "      <td>1.0000</td>\n",
       "    </tr>\n",
       "    <tr>\n",
       "      <th>4</th>\n",
       "      <td>0.9915</td>\n",
       "    </tr>\n",
       "  </tbody>\n",
       "</table>\n",
       "</div>"
      ],
      "text/plain": [
       "     flag\n",
       "2  0.7160\n",
       "3  1.0000\n",
       "4  0.9915"
      ]
     },
     "execution_count": 193,
     "metadata": {},
     "output_type": "execute_result"
    }
   ],
   "source": [
    "results"
   ]
  },
  {
   "cell_type": "code",
   "execution_count": 198,
   "metadata": {},
   "outputs": [
    {
     "data": {
      "image/png": "[encoded data removed]",
      "text/plain": [
       "<Figure size 320x320 with 1 Axes>"
      ]
     },
     "metadata": {},
     "output_type": "display_data"
    }
   ],
   "source": [
    "plt.figure(figsize=(3.2, 3.2))\n",
    "plt.style.use('seaborn-v0_8-muted')\n",
    "plt.plot(results.index, results['flag'])\n",
    "plt.scatter(results.index, results['flag'])\n",
    "ax = plt.gca()\n",
    "#ax.set_xscale('log')\n",
    "#ax.set_xticks(results.index, [r'${10^{-2}}/{2}$', r'${10^{-3}}/{2}$', r'${10^{-4}}/{2}$'])\n",
    "ax.set_xticks([2, 3, 4], [2, 3, 4])\n",
    "plt.ylim(0, 1.05)\n",
    "plt.xlabel(r'decimal places reported ($k$)')\n",
    "plt.ylabel(r'power ($1 - \\beta$)')\n",
    "#plt.grid(which='minor')\n",
    "#plt.grid(which='major')\n",
    "for i,j in zip(results.index[:2], results['flag'].iloc[:2]):\n",
    "    ax.annotate(str(np.round(j, 2)),xy=(i,j), xytext=(i, j - 0.08))\n",
    "ax.annotate(str(np.round(results['flag'].iloc[2], 2)), xy=(results.index[2], results['flag'].iloc[2]), xytext=(results.index[2]-0.20, results['flag'].iloc[2]-0.08))\n",
    "plt.tight_layout()\n",
    "plt.savefig('power-isic2016.eps')"
   ]
  },
  {
   "cell_type": "code",
   "execution_count": null,
   "metadata": {},
   "outputs": [],
   "source": []
  }
 ],
 "metadata": {
  "kernelspec": {
   "display_name": "mlscorecheck",
   "language": "python",
   "name": "python3"
  },
  "language_info": {
   "codemirror_mode": {
    "name": "ipython",
    "version": 3
   },
   "file_extension": ".py",
   "mimetype": "text/x-python",
   "name": "python",
   "nbconvert_exporter": "python",
   "pygments_lexer": "ipython3",
   "version": "3.1.undefined"
  }
 },
 "nbformat": 4,
 "nbformat_minor": 2
}
