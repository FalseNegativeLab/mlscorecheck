{
 "cells": [
  {
   "cell_type": "markdown",
   "metadata": {},
   "source": [
    "# Testing performance scores reported for the ISIC2016 dataset"
   ]
  },
  {
   "cell_type": "code",
   "execution_count": 1,
   "metadata": {},
   "outputs": [],
   "source": [
    "from mlscorecheck.check.bundles.skinlesion import check_isic2016"
   ]
  },
  {
   "cell_type": "code",
   "execution_count": 2,
   "metadata": {},
   "outputs": [],
   "source": [
    "scores = {'acc': 0.7916, 'sens': 0.2933, 'spec': 0.9145}"
   ]
  },
  {
   "cell_type": "code",
   "execution_count": 3,
   "metadata": {},
   "outputs": [
    {
     "name": "stderr",
     "output_type": "stream",
     "text": [
      "2023-11-03 08:52:30,546:INFO:Use this function if the scores originate from the tp and tn statistics calculated on one test set with no aggregation of any kind.\n",
      "2023-11-03 08:52:30,547:INFO:calling the score check with scores {'acc': 0.7916, 'sens': 0.2933, 'spec': 0.9145}, uncertainty 0.0001, p 75 and n 304\n",
      "2023-11-03 08:52:30,549:INFO:checking the scores {'acc': 0.7916, 'sens': 0.2933, 'spec': 0.9145}\n",
      "2023-11-03 08:52:30,551:INFO:evaluating the tp and tn solution for acc and sens\n",
      "2023-11-03 08:52:30,552:INFO:intervals before: (0, 75), (0, 304)\n",
      "2023-11-03 08:52:30,554:INFO:the tp solutions: (21.98985, 22.00515)\n",
      "2023-11-03 08:52:30,555:INFO:the tn solutions: (277.97259199999996, 278.06520800000004)\n",
      "2023-11-03 08:52:30,557:INFO:intervals after: [(22, 22)], [(278, 278)]\n",
      "2023-11-03 08:52:30,558:INFO:evaluating the tp and tn solution for acc and spec\n",
      "2023-11-03 08:52:30,559:INFO:intervals before: [(22, 22)], [(278, 278)]\n",
      "2023-11-03 08:52:30,560:INFO:the tp solutions: (21.938733999999954, 22.078066000000035)\n",
      "2023-11-03 08:52:30,561:INFO:the tn solutions: (277.976992, 278.039008)\n",
      "2023-11-03 08:52:30,561:INFO:intervals after: [(22, 22)], [(278, 278)]\n",
      "2023-11-03 08:52:30,562:INFO:evaluating the tp and tn solution for sens and spec\n",
      "2023-11-03 08:52:30,565:INFO:intervals before: [(22, 22)], [(278, 278)]\n",
      "2023-11-03 08:52:30,566:INFO:the tp solutions: (21.98985, 22.00515)\n",
      "2023-11-03 08:52:30,567:INFO:the tn solutions: (277.976992, 278.039008)\n",
      "2023-11-03 08:52:30,567:INFO:intervals after: [(22, 22)], [(278, 278)]\n",
      "2023-11-03 08:52:30,568:INFO:testing acc, feasible tptn pairs: 1\n",
      "2023-11-03 08:52:30,569:INFO:testing sens, feasible tptn pairs: 1\n",
      "2023-11-03 08:52:30,570:INFO:testing spec, feasible tptn pairs: 1\n",
      "2023-11-03 08:52:30,571:INFO:constructing final tp, tn pair set\n",
      "2023-11-03 08:52:30,572:INFO:final number of intervals: 1\n",
      "2023-11-03 08:52:30,574:INFO:final number of pairs: 1\n"
     ]
    },
    {
     "data": {
      "text/plain": [
       "False"
      ]
     },
     "execution_count": 3,
     "metadata": {},
     "output_type": "execute_result"
    }
   ],
   "source": [
    "results = check_isic2016(scores=scores, eps=1e-4)\n",
    "results['inconsistency']"
   ]
  },
  {
   "cell_type": "code",
   "execution_count": null,
   "metadata": {},
   "outputs": [],
   "source": []
  }
 ],
 "metadata": {
  "kernelspec": {
   "display_name": "mlscorecheck",
   "language": "python",
   "name": "python3"
  },
  "language_info": {
   "codemirror_mode": {
    "name": "ipython",
    "version": 3
   },
   "file_extension": ".py",
   "mimetype": "text/x-python",
   "name": "python",
   "nbconvert_exporter": "python",
   "pygments_lexer": "ipython3",
   "version": "3.10.0"
  }
 },
 "nbformat": 4,
 "nbformat_minor": 2
}
