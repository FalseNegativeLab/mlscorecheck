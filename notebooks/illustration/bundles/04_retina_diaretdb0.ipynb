{
 "cells": [
  {
   "cell_type": "markdown",
   "metadata": {},
   "source": [
    "# Testing the consistency of performance scored reported for the DIARETDB0 retinal image labeling dataset"
   ]
  },
  {
   "cell_type": "code",
   "execution_count": 1,
   "metadata": {},
   "outputs": [],
   "source": [
    "from mlscorecheck.check.bundles.retina import check_diaretdb0_class"
   ]
  },
  {
   "cell_type": "code",
   "execution_count": 2,
   "metadata": {},
   "outputs": [],
   "source": [
    "# the scores assumed to achieved on all batches, using the test subsets and\n",
    "# being aggregated for the hardexudates class\n",
    "scores = {'acc': 0.4271, 'sens': 0.406, 'spec': 0.4765}"
   ]
  },
  {
   "cell_type": "code",
   "execution_count": 3,
   "metadata": {},
   "outputs": [
    {
     "name": "stderr",
     "output_type": "stream",
     "text": [
      "2023-11-03 08:36:52,978:INFO:checking the scores {'acc': 0.4271, 'sens': 0.406, 'spec': 0.4765}\n",
      "2023-11-03 08:36:52,980:INFO:evaluating the tp and tn solution for acc and sens\n",
      "2023-11-03 08:36:52,982:INFO:intervals before: (0, 419), (0, 301)\n",
      "2023-11-03 08:36:52,986:INFO:the tp solutions: (170.07126200000002, 170.15673800000002)\n",
      "2023-11-03 08:36:52,987:INFO:the tn solutions: (137.28182199999998, 137.51417799999993)\n",
      "2023-11-03 08:36:52,988:INFO:intervals after: [(1, 0)], [(1, 0)]\n",
      "2023-11-03 08:36:52,989:INFO:evaluating the tp and tn solution for acc and spec\n",
      "2023-11-03 08:36:52,990:INFO:intervals before: [(1, 0)], [(1, 0)]\n",
      "2023-11-03 08:36:52,992:INFO:the tp solutions: (163.981358, 164.18964199999996)\n",
      "2023-11-03 08:36:52,996:INFO:the tn solutions: (143.39579799999998, 143.457202)\n",
      "2023-11-03 08:36:52,998:INFO:intervals after: [], []\n",
      "2023-11-03 08:36:53,000:INFO:evaluating the tp and tn solution for sens and spec\n",
      "2023-11-03 08:36:53,002:INFO:intervals before: [], []\n",
      "2023-11-03 08:36:53,004:INFO:the tp solutions: (170.07126200000002, 170.15673800000002)\n",
      "2023-11-03 08:36:53,006:INFO:the tn solutions: (143.39579799999998, 143.457202)\n",
      "2023-11-03 08:36:53,007:INFO:intervals after: [], []\n",
      "2023-11-03 08:36:53,008:INFO:testing acc, feasible tptn pairs: 0\n",
      "2023-11-03 08:36:53,010:INFO:no more feasible tp,tn pairs left\n",
      "2023-11-03 08:36:53,013:INFO:constructing final tp, tn pair set\n",
      "2023-11-03 08:36:53,015:INFO:final number of intervals: 0\n",
      "2023-11-03 08:36:53,017:INFO:final number of pairs: 0\n"
     ]
    },
    {
     "name": "stdout",
     "output_type": "stream",
     "text": [
      "Welcome to the CBC MILP Solver \n",
      "Version: 2.10.3 \n",
      "Build Date: Dec 15 2019 \n",
      "\n",
      "command line - /home/gykovacs/anaconda3/envs/mlscorecheck/lib/python3.10/site-packages/pulp/solverdir/cbc/linux/64/cbc /tmp/655bcca08de849fb80a0beb1b22ad102-pulp.mps timeMode elapsed branch printingOptions all solution /tmp/655bcca08de849fb80a0beb1b22ad102-pulp.sol (default strategy 1)\n",
      "At line 2 NAME          MODEL\n",
      "At line 3 ROWS\n",
      "At line 11 COLUMNS\n",
      "At line 121 RHS\n",
      "At line 128 BOUNDS\n",
      "At line 148 ENDATA\n",
      "Problem MODEL has 6 rows, 19 columns and 72 elements\n",
      "Coin0008I MODEL read with 0 errors\n",
      "Option for timeMode changed from cpu to elapsed\n",
      "Continuous objective value is 0 - 0.00 seconds\n",
      "Cgl0004I processed model has 3 rows, 18 columns (18 integer (0 of which binary)) and 36 elements\n",
      "Cbc0031I 4 added rows had average density of 13.25\n",
      "Cbc0013I At root node, 4 cuts changed objective from 0 to 0 in 68 passes\n",
      "Cbc0014I Cut generator 0 (Probing) - 0 row cuts average 0.0 elements, 0 column cuts (0 active)  in 0.002 seconds - new frequency is -100\n",
      "Cbc0014I Cut generator 1 (Gomory) - 194 row cuts average 16.5 elements, 0 column cuts (0 active)  in 0.005 seconds - new frequency is -100\n",
      "Cbc0014I Cut generator 2 (Knapsack) - 0 row cuts average 0.0 elements, 0 column cuts (0 active)  in 0.001 seconds - new frequency is -100\n",
      "Cbc0014I Cut generator 3 (Clique) - 0 row cuts average 0.0 elements, 0 column cuts (0 active)  in 0.000 seconds - new frequency is -100\n",
      "Cbc0014I Cut generator 4 (MixedIntegerRounding2) - 13 row cuts average 10.8 elements, 0 column cuts (0 active)  in 0.002 seconds - new frequency is -100\n",
      "Cbc0014I Cut generator 5 (FlowCover) - 0 row cuts average 0.0 elements, 0 column cuts (0 active)  in 0.001 seconds - new frequency is -100\n",
      "Cbc0014I Cut generator 6 (TwoMirCuts) - 19 row cuts average 10.4 elements, 0 column cuts (0 active)  in 0.001 seconds - new frequency is -100\n",
      "Cbc0010I After 0 nodes, 1 on tree, 1e+50 best solution, best possible 0 (0.03 seconds)\n",
      "Cbc0016I Integer solution of 0 found by strong branching after 224 iterations and 53 nodes (0.03 seconds)\n",
      "Cbc0001I Search completed - best objective 0, took 224 iterations and 53 nodes (0.03 seconds)\n",
      "Cbc0032I Strong branching done 150 times (226 iterations), fathomed 11 nodes and fixed 4 variables\n",
      "Cbc0035I Maximum depth 28, 0 variables fixed on reduced cost\n",
      "Cuts at root node changed objective from 0 to 0\n",
      "Probing was tried 68 times and created 0 cuts of which 0 were active after adding rounds of cuts (0.002 seconds)\n",
      "Gomory was tried 68 times and created 194 cuts of which 0 were active after adding rounds of cuts (0.005 seconds)\n",
      "Knapsack was tried 68 times and created 0 cuts of which 0 were active after adding rounds of cuts (0.001 seconds)\n",
      "Clique was tried 68 times and created 0 cuts of which 0 were active after adding rounds of cuts (0.000 seconds)\n",
      "MixedIntegerRounding2 was tried 68 times and created 13 cuts of which 0 were active after adding rounds of cuts (0.002 seconds)\n",
      "FlowCover was tried 68 times and created 0 cuts of which 0 were active after adding rounds of cuts (0.001 seconds)\n",
      "TwoMirCuts was tried 68 times and created 19 cuts of which 0 were active after adding rounds of cuts (0.001 seconds)\n",
      "ZeroHalf was tried 1 times and created 0 cuts of which 0 were active after adding rounds of cuts (0.000 seconds)\n",
      "\n",
      "Result - Optimal solution found\n",
      "\n",
      "Objective value:                0.00000000\n",
      "Enumerated nodes:               53\n",
      "Total iterations:               224\n",
      "Time (CPU seconds):             0.03\n",
      "Time (Wallclock seconds):       0.03\n",
      "\n",
      "Option for printingOptions changed from normal to all\n",
      "Total time (CPU seconds):       0.03   (Wallclock seconds):       0.03\n",
      "\n"
     ]
    },
    {
     "data": {
      "text/plain": [
       "{'inconsistency_som': True, 'inconsistency_mos': False}"
      ]
     },
     "execution_count": 3,
     "metadata": {},
     "output_type": "execute_result"
    }
   ],
   "source": [
    "results = check_diaretdb0_class(subset='test',\n",
    "                                batch='all',\n",
    "                                class_name='hardexudates',\n",
    "                                scores=scores,\n",
    "                                eps=1e-4)\n",
    "results['inconsistency']"
   ]
  },
  {
   "cell_type": "code",
   "execution_count": null,
   "metadata": {},
   "outputs": [],
   "source": []
  }
 ],
 "metadata": {
  "kernelspec": {
   "display_name": "mlscorecheck",
   "language": "python",
   "name": "python3"
  },
  "language_info": {
   "codemirror_mode": {
    "name": "ipython",
    "version": 3
   },
   "file_extension": ".py",
   "mimetype": "text/x-python",
   "name": "python",
   "nbconvert_exporter": "python",
   "pygments_lexer": "ipython3",
   "version": "3.10.0"
  }
 },
 "nbformat": 4,
 "nbformat_minor": 2
}
