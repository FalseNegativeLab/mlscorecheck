{
 "cells": [
  {
   "cell_type": "markdown",
   "metadata": {},
   "source": [
    "# Testing the consistency of performance scored reported for the DRISHTI_GS retinal image dataset"
   ]
  },
  {
   "cell_type": "code",
   "execution_count": 1,
   "metadata": {},
   "outputs": [],
   "source": [
    "from mlscorecheck.check.bundles.retina import (check_drishti_gs_segmentation_image,\n",
    "                                                check_drishti_gs_segmentation_aggregated)"
   ]
  },
  {
   "cell_type": "markdown",
   "metadata": {},
   "source": [
    "## Image level scores, optic disk segmentation"
   ]
  },
  {
   "cell_type": "code",
   "execution_count": 2,
   "metadata": {},
   "outputs": [],
   "source": [
    "scores = {'acc': 0.5966, 'sens': 0.3, 'spec': 0.6067, 'f1p': 0.0468}"
   ]
  },
  {
   "cell_type": "code",
   "execution_count": 3,
   "metadata": {},
   "outputs": [
    {
     "name": "stderr",
     "output_type": "stream",
     "text": [
      "2023-11-03 08:45:43,688:INFO:Use this function if the scores originate from the tp and tn statistics calculated on one test set with no aggregation of any kind.\n",
      "2023-11-03 08:45:43,689:INFO:calling the score check with scores {'acc': 0.5966, 'sens': 0.3, 'spec': 0.6067, 'f1p': 0.0468}, uncertainty 0.0001, p 118933 and n 3487307\n",
      "2023-11-03 08:45:43,691:INFO:checking the scores {'acc': 0.5966, 'sens': 0.3, 'spec': 0.6067, 'f1p': 0.0468}\n",
      "2023-11-03 08:45:43,693:INFO:evaluating the tp and tn solution for acc and sens\n",
      "2023-11-03 08:45:43,695:INFO:intervals before: (0, 118933), (0, 3487307)\n",
      "2023-11-03 08:45:43,696:INFO:the tp solutions: (35667.768834, 35692.031166)\n",
      "2023-11-03 08:45:43,697:INFO:the tn solutions: (2115422.916354, 2116182.851646)\n",
      "2023-11-03 08:45:43,697:INFO:intervals after: [(35668, 35692)], [(2115423, 2116182)]\n",
      "2023-11-03 08:45:43,698:INFO:evaluating the tp and tn solution for acc and spec\n",
      "2023-11-03 08:45:43,699:INFO:intervals before: [(35668, 35692)], [(2115423, 2116182)]\n",
      "2023-11-03 08:45:43,700:INFO:the tp solutions: (35010.0853059995, 36457.16889400035)\n",
      "2023-11-03 08:45:43,702:INFO:the tn solutions: (2115393.4515859997, 2116104.8622140004)\n",
      "2023-11-03 08:45:43,703:INFO:intervals after: [(35668, 35692)], [(2115423, 2116104)]\n",
      "2023-11-03 08:45:43,703:INFO:evaluating the tp and tn solution for acc and f1p\n",
      "2023-11-03 08:45:43,705:INFO:intervals before: [(35668, 35692)], [(2115423, 2116104)]\n",
      "2023-11-03 08:45:43,707:INFO:the tp solutions: (35622.01445335527, 35803.38811508206)\n",
      "2023-11-03 08:45:43,709:INFO:the tn solutions: (2114840.8000603416, 2116699.5836843182)\n",
      "2023-11-03 08:45:43,710:INFO:intervals after: [(35668, 35692)], [(2115423, 2116104)]\n",
      "2023-11-03 08:45:43,711:INFO:evaluating the tp and tn solution for sens and spec\n",
      "2023-11-03 08:45:43,712:INFO:intervals before: [(35668, 35692)], [(2115423, 2116104)]\n",
      "2023-11-03 08:45:43,713:INFO:the tp solutions: (35667.768834, 35692.031166)\n",
      "2023-11-03 08:45:43,713:INFO:the tn solutions: (2115393.4515859997, 2116104.8622140004)\n",
      "2023-11-03 08:45:43,714:INFO:intervals after: [(35668, 35692)], [(2115423, 2116104)]\n",
      "2023-11-03 08:45:43,715:INFO:evaluating the tp and tn solution for sens and f1p\n",
      "2023-11-03 08:45:43,716:INFO:intervals before: [(35668, 35692)], [(2115423, 2116104)]\n",
      "2023-11-03 08:45:43,716:INFO:the tp solutions: (35667.768834, 35692.031166)\n",
      "2023-11-03 08:45:43,717:INFO:the tn solutions: (2104083.976312527, 2130248.7999003753)\n",
      "2023-11-03 08:45:43,719:INFO:intervals after: [(35668, 35692)], [(2115423, 2116104)]\n",
      "2023-11-03 08:45:43,719:INFO:evaluating the tp and tn solution for spec and f1p\n",
      "2023-11-03 08:45:43,720:INFO:intervals before: [(35668, 35692)], [(2115423, 2116104)]\n",
      "2023-11-03 08:45:43,721:INFO:the tp solutions: (35624.9728226002, 35801.4215434727)\n",
      "2023-11-03 08:45:43,721:INFO:the tn solutions: (2115393.4515859997, 2116104.8622140004)\n",
      "2023-11-03 08:45:43,722:INFO:intervals after: [(35668, 35692)], [(2115423, 2116104)]\n",
      "2023-11-03 08:45:43,723:INFO:testing acc, feasible tptn pairs: 25\n",
      "2023-11-03 08:45:43,725:INFO:testing sens, feasible tptn pairs: 25\n",
      "2023-11-03 08:45:43,726:INFO:testing spec, feasible tptn pairs: 24\n",
      "2023-11-03 08:45:43,726:INFO:testing f1p, feasible tptn pairs: 24\n",
      "2023-11-03 08:45:43,729:INFO:constructing final tp, tn pair set\n",
      "2023-11-03 08:45:43,730:INFO:final number of intervals: 24\n",
      "2023-11-03 08:45:43,731:INFO:final number of pairs: 15900\n"
     ]
    },
    {
     "data": {
      "text/plain": [
       "False"
      ]
     },
     "execution_count": 3,
     "metadata": {},
     "output_type": "execute_result"
    }
   ],
   "source": [
    "results = check_drishti_gs_segmentation_image(image_identifier='053',\n",
    "                                    confidence=0.75,\n",
    "                                    target='OD',\n",
    "                                    scores=scores,\n",
    "                                    eps=1e-4)\n",
    "results['inconsistency']"
   ]
  },
  {
   "cell_type": "markdown",
   "metadata": {},
   "source": [
    "## Aggregated scores, optic disk segmentation"
   ]
  },
  {
   "cell_type": "code",
   "execution_count": 4,
   "metadata": {},
   "outputs": [],
   "source": [
    "scores = {'acc': 0.4767, 'sens': 0.4845, 'spec': 0.4765, 'f1p': 0.0512}"
   ]
  },
  {
   "cell_type": "code",
   "execution_count": 5,
   "metadata": {},
   "outputs": [
    {
     "name": "stderr",
     "output_type": "stream",
     "text": [
      "2023-11-03 08:45:43,783:INFO:checking the scores {'acc': 0.4767, 'sens': 0.4845, 'spec': 0.4765, 'f1p': 0.0512}\n",
      "2023-11-03 08:45:43,784:INFO:evaluating the tp and tn solution for acc and sens\n",
      "2023-11-03 08:45:43,785:INFO:intervals before: (0, 5414553), (0, 180494984)\n",
      "2023-11-03 08:45:43,786:INFO:the tp solutions: (2622798.644094, 2623903.2129059997)\n",
      "2023-11-03 08:45:43,787:INFO:the tn solutions: (85980210.30222, 86019240.41657999)\n",
      "2023-11-03 08:45:43,787:INFO:intervals after: [(2622799, 2623903)], [(85980211, 86019240)]\n",
      "2023-11-03 08:45:43,790:INFO:evaluating the tp and tn solution for acc and spec\n",
      "2023-11-03 08:45:43,791:INFO:intervals before: [(2622799, 2623903)], [(85980211, 86019240)]\n",
      "2023-11-03 08:45:43,791:INFO:the tp solutions: (2579843.150758013, 2654589.6730419993)\n",
      "2023-11-03 08:45:43,792:INFO:the tn solutions: (85987449.387632, 86024270.36436799)\n",
      "2023-11-03 08:45:43,794:INFO:intervals after: [(2622799, 2623903)], [(85987450, 86019240)]\n",
      "2023-11-03 08:45:43,794:INFO:evaluating the tp and tn solution for acc and f1p\n",
      "2023-11-03 08:45:43,795:INFO:intervals before: [(2622799, 2623903)], [(85987450, 86019240)]\n",
      "2023-11-03 08:45:43,798:INFO:the tp solutions: (2618908.280150996, 2630954.653441351)\n",
      "2023-11-03 08:45:43,799:INFO:the tn solutions: (85953650.68004246, 86042649.8249844)\n",
      "2023-11-03 08:45:43,800:INFO:intervals after: [(2622799, 2623903)], [(85987450, 86019240)]\n",
      "2023-11-03 08:45:43,801:INFO:evaluating the tp and tn solution for sens and spec\n",
      "2023-11-03 08:45:43,801:INFO:intervals before: [(2622799, 2623903)], [(85987450, 86019240)]\n",
      "2023-11-03 08:45:43,803:INFO:the tp solutions: (2622798.644094, 2623903.2129059997)\n",
      "2023-11-03 08:45:43,803:INFO:the tn solutions: (85987449.387632, 86024270.36436799)\n",
      "2023-11-03 08:45:43,804:INFO:intervals after: [(2622799, 2623903)], [(85987450, 86019240)]\n",
      "2023-11-03 08:45:43,804:INFO:evaluating the tp and tn solution for sens and f1p\n",
      "2023-11-03 08:45:43,806:INFO:intervals before: [(2622799, 2623903)], [(85987450, 86019240)]\n",
      "2023-11-03 08:45:43,807:INFO:the tp solutions: (2622798.644094, 2623903.2129059997)\n",
      "2023-11-03 08:45:43,807:INFO:the tn solutions: (85490212.09562817, 86628542.44030103)\n",
      "2023-11-03 08:45:43,810:INFO:intervals after: [(2622799, 2623903)], [(85987450, 86019240)]\n",
      "2023-11-03 08:45:43,811:INFO:evaluating the tp and tn solution for spec and f1p\n",
      "2023-11-03 08:45:43,811:INFO:intervals before: [(2622799, 2623903)], [(85987450, 86019240)]\n",
      "2023-11-03 08:45:43,812:INFO:the tp solutions: (2618878.4015550935, 2630578.4368279246)\n",
      "2023-11-03 08:45:43,813:INFO:the tn solutions: (85987449.387632, 86024270.36436799)\n",
      "2023-11-03 08:45:43,814:INFO:intervals after: [(2622799, 2623903)], [(85987450, 86019240)]\n",
      "2023-11-03 08:45:43,833:INFO:testing acc, feasible tptn pairs: 1105\n",
      "2023-11-03 08:45:43,886:INFO:testing sens, feasible tptn pairs: 1105\n",
      "2023-11-03 08:45:43,887:INFO:testing spec, feasible tptn pairs: 1093\n",
      "2023-11-03 08:45:43,956:INFO:testing f1p, feasible tptn pairs: 1093\n"
     ]
    },
    {
     "name": "stdout",
     "output_type": "stream",
     "text": [
      "Welcome to the CBC MILP Solver \n",
      "Version: 2.10.3 \n",
      "Build Date: Dec 15 2019 \n",
      "\n",
      "command line - /home/gykovacs/anaconda3/envs/mlscorecheck/lib/python3.10/site-packages/pulp/solverdir/cbc/linux/64/cbc /tmp/66c9789ac4b9417c935be1ef903cdc9a-pulp.mps timeMode elapsed branch printingOptions all solution /tmp/66c9789ac4b9417c935be1ef903cdc9a-pulp.sol (default strategy 1)\n",
      "At line 2 NAME          MODEL\n",
      "At line 3 ROWS\n",
      "At line 11 COLUMNS\n",
      "At line 625 RHS\n",
      "At line 632 BOUNDS\n",
      "At line 736 ENDATA\n",
      "Problem MODEL has 6 rows, 103 columns and 408 elements\n",
      "Coin0008I MODEL read with 0 errors\n",
      "Option for timeMode changed from cpu to elapsed\n",
      "Continuous objective value is 0 - 0.00 seconds\n",
      "Cgl0004I processed model has 3 rows, 102 columns (102 integer (0 of which binary)) and 204 elements\n",
      "Cbc0012I Integer solution of 0 found by DiveCoefficient after 0 iterations and 0 nodes (0.00 seconds)\n",
      "Cbc0001I Search completed - best objective 0, took 0 iterations and 0 nodes (0.00 seconds)\n",
      "Cbc0035I Maximum depth 0, 0 variables fixed on reduced cost\n",
      "Cuts at root node changed objective from 0 to 0\n",
      "Probing was tried 0 times and created 0 cuts of which 0 were active after adding rounds of cuts (0.000 seconds)\n",
      "Gomory was tried 0 times and created 0 cuts of which 0 were active after adding rounds of cuts (0.000 seconds)\n",
      "Knapsack was tried 0 times and created 0 cuts of which 0 were active after adding rounds of cuts (0.000 seconds)\n",
      "Clique was tried 0 times and created 0 cuts of which 0 were active after adding rounds of cuts (0.000 seconds)\n",
      "MixedIntegerRounding2 was tried 0 times and created 0 cuts of which 0 were active after adding rounds of cuts (0.000 seconds)\n",
      "FlowCover was tried 0 times and created 0 cuts of which 0 were active after adding rounds of cuts (0.000 seconds)\n",
      "TwoMirCuts was tried 0 times and created 0 cuts of which 0 were active after adding rounds of cuts (0.000 seconds)\n",
      "ZeroHalf was tried 0 times and created 0 cuts of which 0 were active after adding rounds of cuts (0.000 seconds)\n",
      "\n",
      "Result - Optimal solution found\n",
      "\n",
      "Objective value:                0.00000000\n",
      "Enumerated nodes:               0\n",
      "Total iterations:               0\n",
      "Time (CPU seconds):             0.00\n",
      "Time (Wallclock seconds):       0.00\n",
      "\n",
      "Option for printingOptions changed from normal to all\n",
      "Total time (CPU seconds):       0.00   (Wallclock seconds):       0.00\n",
      "\n"
     ]
    },
    {
     "name": "stderr",
     "output_type": "stream",
     "text": [
      "2023-11-03 08:45:44,009:INFO:constructing final tp, tn pair set\n",
      "2023-11-03 08:45:44,010:INFO:final number of intervals: 1093\n",
      "2023-11-03 08:45:44,011:INFO:final number of pairs: 33744189\n"
     ]
    },
    {
     "data": {
      "text/plain": [
       "{'inconsistency_som': False, 'inconsistency_mos': False}"
      ]
     },
     "execution_count": 5,
     "metadata": {},
     "output_type": "execute_result"
    }
   ],
   "source": [
    "results = check_drishti_gs_segmentation_aggregated(subset='test',\n",
    "                                    confidence=0.75,\n",
    "                                    target='OD',\n",
    "                                    scores=scores,\n",
    "                                    eps=1e-4)\n",
    "results['inconsistency']"
   ]
  },
  {
   "cell_type": "code",
   "execution_count": null,
   "metadata": {},
   "outputs": [],
   "source": []
  }
 ],
 "metadata": {
  "kernelspec": {
   "display_name": "mlscorecheck",
   "language": "python",
   "name": "python3"
  },
  "language_info": {
   "codemirror_mode": {
    "name": "ipython",
    "version": 3
   },
   "file_extension": ".py",
   "mimetype": "text/x-python",
   "name": "python",
   "nbconvert_exporter": "python",
   "pygments_lexer": "ipython3",
   "version": "3.10.0"
  }
 },
 "nbformat": 4,
 "nbformat_minor": 2
}
