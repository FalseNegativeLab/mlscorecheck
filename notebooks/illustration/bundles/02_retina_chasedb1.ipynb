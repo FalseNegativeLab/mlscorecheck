{
 "cells": [
  {
   "cell_type": "markdown",
   "metadata": {},
   "source": [
    "# Testing the consistency of performance scored reported for the CHASEDB1 retinal vessel segmentation dataset"
   ]
  },
  {
   "cell_type": "code",
   "execution_count": 1,
   "metadata": {},
   "outputs": [],
   "source": [
    "from mlscorecheck.check.bundles.retina import (check_chasedb1_vessel_image,\n",
    "                                                check_chasedb1_vessel_aggregated)"
   ]
  },
  {
   "cell_type": "markdown",
   "metadata": {},
   "source": [
    "## Aggreagted scores"
   ]
  },
  {
   "cell_type": "code",
   "execution_count": 2,
   "metadata": {},
   "outputs": [],
   "source": [
    "scores = {'acc': 0.5063, 'sens': 0.4147, 'spec': 0.5126}\n",
    "k = 4"
   ]
  },
  {
   "cell_type": "code",
   "execution_count": 3,
   "metadata": {},
   "outputs": [
    {
     "name": "stderr",
     "output_type": "stream",
     "text": [
      "2023-11-03 08:31:57,349:INFO:checking the scores {'acc': 0.5063, 'sens': 0.4147, 'spec': 0.5126}\n",
      "2023-11-03 08:31:57,350:INFO:evaluating the tp and tn solution for acc and sens\n",
      "2023-11-03 08:31:57,351:INFO:intervals before: (0, 1861974), (0, 24991146)\n",
      "2023-11-03 08:31:57,353:INFO:the tp solutions: (771970.6964520001, 772350.539148)\n",
      "2023-11-03 08:31:57,354:INFO:the tn solutions: (12820645.098612, 12826502.977788001)\n",
      "2023-11-03 08:31:57,355:INFO:intervals after: [(771971, 772350)], [(12820646, 12826502)]\n",
      "2023-11-03 08:31:57,356:INFO:evaluating the tp and tn solution for acc and spec\n",
      "2023-11-03 08:31:57,357:INFO:intervals before: [(771971, 772350)], [(12820646, 12826502)]\n",
      "2023-11-03 08:31:57,357:INFO:the tp solutions: (779985.101267999, 790561.3315320034)\n",
      "2023-11-03 08:31:57,358:INFO:the tn solutions: (12807912.342707997, 12813010.536492)\n",
      "2023-11-03 08:31:57,358:INFO:intervals after: [], []\n",
      "2023-11-03 08:31:57,359:INFO:evaluating the tp and tn solution for sens and spec\n",
      "2023-11-03 08:31:57,360:INFO:intervals before: [], []\n",
      "2023-11-03 08:31:57,360:INFO:the tp solutions: (771970.6964520001, 772350.539148)\n",
      "2023-11-03 08:31:57,362:INFO:the tn solutions: (12807912.342707997, 12813010.536492)\n",
      "2023-11-03 08:31:57,363:INFO:intervals after: [], []\n",
      "2023-11-03 08:31:57,363:INFO:testing acc, feasible tptn pairs: 0\n",
      "2023-11-03 08:31:57,364:INFO:no more feasible tp,tn pairs left\n",
      "2023-11-03 08:31:57,365:INFO:constructing final tp, tn pair set\n",
      "2023-11-03 08:31:57,367:INFO:final number of intervals: 0\n",
      "2023-11-03 08:31:57,368:INFO:final number of pairs: 0\n"
     ]
    },
    {
     "data": {
      "text/plain": [
       "{'inconsistency_mos': False, 'inconsistency_som': True}"
      ]
     },
     "execution_count": 3,
     "metadata": {},
     "output_type": "execute_result"
    }
   ],
   "source": [
    "results = check_chasedb1_vessel_aggregated(imageset='all',\n",
    "                                        annotator='manual1',\n",
    "                                        scores=scores,\n",
    "                                        eps=1e-4,\n",
    "                                        verbosity=0)\n",
    "results['inconsistency']"
   ]
  },
  {
   "cell_type": "markdown",
   "metadata": {},
   "source": [
    "## Image level scores"
   ]
  },
  {
   "cell_type": "code",
   "execution_count": 4,
   "metadata": {},
   "outputs": [],
   "source": [
    "img_identifier = '11R'"
   ]
  },
  {
   "cell_type": "code",
   "execution_count": 5,
   "metadata": {},
   "outputs": [],
   "source": [
    "scores = {'acc': 0.4457, 'sens': 0.0051, 'spec': 0.4706}"
   ]
  },
  {
   "cell_type": "code",
   "execution_count": 6,
   "metadata": {},
   "outputs": [
    {
     "name": "stderr",
     "output_type": "stream",
     "text": [
      "2023-11-03 08:31:57,403:INFO:Use this function if the scores originate from the tp and tn statistics calculated on one test set with no aggregation of any kind.\n",
      "2023-11-03 08:31:57,405:INFO:calling the score check with scores {'acc': 0.4457, 'sens': 0.0051, 'spec': 0.4706}, uncertainty 0.0001, p 51133 and n 907907\n",
      "2023-11-03 08:31:57,406:INFO:checking the scores {'acc': 0.4457, 'sens': 0.0051, 'spec': 0.4706}\n",
      "2023-11-03 08:31:57,407:INFO:evaluating the tp and tn solution for acc and sens\n",
      "2023-11-03 08:31:57,408:INFO:intervals before: (0, 51133), (0, 907907)\n",
      "2023-11-03 08:31:57,409:INFO:the tp solutions: (255.56273399999998, 265.993866)\n",
      "2023-11-03 08:31:57,410:INFO:the tn solutions: (427080.312054, 427286.387346)\n",
      "2023-11-03 08:31:57,411:INFO:intervals after: [(256, 265)], [(427081, 427286)]\n",
      "2023-11-03 08:31:57,411:INFO:evaluating the tp and tn solution for acc and spec\n",
      "2023-11-03 08:31:57,412:INFO:intervals before: [(256, 265)], [(427081, 427286)]\n",
      "2023-11-03 08:31:57,413:INFO:the tp solutions: (-7.334794000082184, 373.5223939999705)\n",
      "2023-11-03 08:31:57,415:INFO:the tn solutions: (427168.427686, 427353.64071400004)\n",
      "2023-11-03 08:31:57,416:INFO:intervals after: [(256, 265)], [(427169, 427286)]\n",
      "2023-11-03 08:31:57,417:INFO:evaluating the tp and tn solution for sens and spec\n",
      "2023-11-03 08:31:57,418:INFO:intervals before: [(256, 265)], [(427169, 427286)]\n",
      "2023-11-03 08:31:57,420:INFO:the tp solutions: (255.56273399999998, 265.993866)\n",
      "2023-11-03 08:31:57,421:INFO:the tn solutions: (427168.427686, 427353.64071400004)\n",
      "2023-11-03 08:31:57,422:INFO:intervals after: [(256, 265)], [(427169, 427286)]\n",
      "2023-11-03 08:31:57,423:INFO:testing acc, feasible tptn pairs: 10\n",
      "2023-11-03 08:31:57,425:INFO:testing sens, feasible tptn pairs: 10\n",
      "2023-11-03 08:31:57,425:INFO:testing spec, feasible tptn pairs: 10\n",
      "2023-11-03 08:31:57,426:INFO:constructing final tp, tn pair set\n",
      "2023-11-03 08:31:57,427:INFO:final number of intervals: 10\n",
      "2023-11-03 08:31:57,428:INFO:final number of pairs: 1105\n"
     ]
    }
   ],
   "source": [
    "results = check_chasedb1_vessel_image(image_identifier=img_identifier,\n",
    "                                    annotator='manual1',\n",
    "                                    scores=scores,\n",
    "                                    eps=1e-4)"
   ]
  },
  {
   "cell_type": "code",
   "execution_count": 7,
   "metadata": {},
   "outputs": [
    {
     "data": {
      "text/plain": [
       "False"
      ]
     },
     "execution_count": 7,
     "metadata": {},
     "output_type": "execute_result"
    }
   ],
   "source": [
    "results['inconsistency']"
   ]
  },
  {
   "cell_type": "code",
   "execution_count": null,
   "metadata": {},
   "outputs": [],
   "source": []
  }
 ],
 "metadata": {
  "kernelspec": {
   "display_name": "mlscorecheck",
   "language": "python",
   "name": "python3"
  },
  "language_info": {
   "codemirror_mode": {
    "name": "ipython",
    "version": 3
   },
   "file_extension": ".py",
   "mimetype": "text/x-python",
   "name": "python",
   "nbconvert_exporter": "python",
   "pygments_lexer": "ipython3",
   "version": "3.10.0"
  }
 },
 "nbformat": 4,
 "nbformat_minor": 2
}
