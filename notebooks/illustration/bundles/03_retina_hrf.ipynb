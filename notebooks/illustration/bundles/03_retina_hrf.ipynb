{
 "cells": [
  {
   "cell_type": "markdown",
   "metadata": {},
   "source": [
    "# Testing the consistency of performance scored reported for the HRF retinal vessel segmentation dataset"
   ]
  },
  {
   "cell_type": "code",
   "execution_count": 1,
   "metadata": {},
   "outputs": [],
   "source": [
    "from mlscorecheck.check.bundles.retina import (check_hrf_vessel_image,\n",
    "                                                check_hrf_vessel_aggregated)"
   ]
  },
  {
   "cell_type": "markdown",
   "metadata": {},
   "source": [
    "# Aggregated scores"
   ]
  },
  {
   "cell_type": "code",
   "execution_count": 2,
   "metadata": {},
   "outputs": [],
   "source": [
    "scores = {'acc': 0.4841, 'sens': 0.5665, 'spec': 0.475}\n",
    "k = 4"
   ]
  },
  {
   "cell_type": "code",
   "execution_count": 3,
   "metadata": {},
   "outputs": [
    {
     "name": "stderr",
     "output_type": "stream",
     "text": [
      "2023-11-03 08:26:16,122:INFO:checking the scores {'acc': 0.4841, 'sens': 0.5665, 'spec': 0.475}\n",
      "2023-11-03 08:26:16,124:INFO:evaluating the tp and tn solution for acc and sens\n",
      "2023-11-03 08:26:16,125:INFO:intervals before: (0, 28395044), (0, 282712163)\n",
      "2023-11-03 08:26:16,126:INFO:the tp solutions: (16082896.131512, 16088688.720488)\n",
      "2023-11-03 08:26:16,127:INFO:the tn solutions: (134486577.25309798, 134555835.712302)\n",
      "2023-11-03 08:26:16,128:INFO:intervals after: [(16082897, 16088688)], [(134486578, 134555835)]\n",
      "2023-11-03 08:26:16,128:INFO:evaluating the tp and tn solution for acc and spec\n",
      "2023-11-03 08:26:16,129:INFO:intervals before: [(16082897, 16088688)], [(134486578, 134555835)]\n",
      "2023-11-03 08:26:16,130:INFO:the tp solutions: (16258151.907959998, 16379291.059439987)\n",
      "2023-11-03 08:26:16,131:INFO:the tn solutions: (134259440.784374, 134317114.065626)\n",
      "2023-11-03 08:26:16,132:INFO:intervals after: [], []\n",
      "2023-11-03 08:26:16,133:INFO:evaluating the tp and tn solution for sens and spec\n",
      "2023-11-03 08:26:16,134:INFO:intervals before: [], []\n",
      "2023-11-03 08:26:16,135:INFO:the tp solutions: (16082896.131512, 16088688.720488)\n",
      "2023-11-03 08:26:16,136:INFO:the tn solutions: (134259440.784374, 134317114.065626)\n",
      "2023-11-03 08:26:16,137:INFO:intervals after: [], []\n",
      "2023-11-03 08:26:16,138:INFO:testing acc, feasible tptn pairs: 0\n",
      "2023-11-03 08:26:16,139:INFO:no more feasible tp,tn pairs left\n",
      "2023-11-03 08:26:16,140:INFO:constructing final tp, tn pair set\n",
      "2023-11-03 08:26:16,141:INFO:final number of intervals: 0\n",
      "2023-11-03 08:26:16,142:INFO:final number of pairs: 0\n",
      "2023-11-03 08:26:16,182:INFO:checking the scores {'acc': 0.4841, 'sens': 0.5665, 'spec': 0.475}\n",
      "2023-11-03 08:26:16,183:INFO:evaluating the tp and tn solution for acc and sens\n",
      "2023-11-03 08:26:16,185:INFO:intervals before: (0, 28399210), (0, 339941270)\n",
      "2023-11-03 08:26:16,185:INFO:the tp solutions: (16085255.745579999, 16091049.18442)\n",
      "2023-11-03 08:26:16,186:INFO:the tn solutions: (162185006.45462, 162265941.35138002)\n",
      "2023-11-03 08:26:16,187:INFO:intervals after: [(16085256, 16091049)], [(162185007, 162265941)]\n",
      "2023-11-03 08:26:16,190:INFO:evaluating the tp and tn solution for acc and spec\n",
      "2023-11-03 08:26:16,191:INFO:intervals before: [(16085256, 16091049)], [(162185007, 162265941)]\n",
      "2023-11-03 08:26:16,192:INFO:the tp solutions: (16769278.379500002, 16913767.8565)\n",
      "2023-11-03 08:26:16,192:INFO:the tn solutions: (161437429.24046, 161506777.25954)\n",
      "2023-11-03 08:26:16,193:INFO:intervals after: [], []\n",
      "2023-11-03 08:26:16,194:INFO:evaluating the tp and tn solution for sens and spec\n",
      "2023-11-03 08:26:16,196:INFO:intervals before: [], []\n",
      "2023-11-03 08:26:16,197:INFO:the tp solutions: (16085255.745579999, 16091049.18442)\n",
      "2023-11-03 08:26:16,198:INFO:the tn solutions: (161437429.24046, 161506777.25954)\n",
      "2023-11-03 08:26:16,199:INFO:intervals after: [], []\n",
      "2023-11-03 08:26:16,200:INFO:testing acc, feasible tptn pairs: 0\n",
      "2023-11-03 08:26:16,201:INFO:no more feasible tp,tn pairs left\n",
      "2023-11-03 08:26:16,202:INFO:constructing final tp, tn pair set\n",
      "2023-11-03 08:26:16,203:INFO:final number of intervals: 0\n",
      "2023-11-03 08:26:16,204:INFO:final number of pairs: 0\n"
     ]
    },
    {
     "data": {
      "text/plain": [
       "{'inconsistency_fov_mos': False,\n",
       " 'inconsistency_fov_som': True,\n",
       " 'inconsistency_all_mos': False,\n",
       " 'inconsistency_all_som': True}"
      ]
     },
     "execution_count": 3,
     "metadata": {},
     "output_type": "execute_result"
    }
   ],
   "source": [
    "results = check_hrf_vessel_aggregated(scores=scores,\n",
    "                                        eps=10**(-k),\n",
    "                                        imageset='all',\n",
    "                                        verbosity=0)\n",
    "results['inconsistency']"
   ]
  },
  {
   "cell_type": "markdown",
   "metadata": {},
   "source": [
    "## Image level scores"
   ]
  },
  {
   "cell_type": "code",
   "execution_count": 4,
   "metadata": {},
   "outputs": [],
   "source": [
    "img_identifier = '13_h'\n",
    "scores = {'acc': 0.5562, 'sens': 0.5049, 'spec': 0.5621}"
   ]
  },
  {
   "cell_type": "code",
   "execution_count": 5,
   "metadata": {},
   "outputs": [
    {
     "name": "stderr",
     "output_type": "stream",
     "text": [
      "2023-11-03 08:26:16,244:INFO:Use this function if the scores originate from the tp and tn statistics calculated on one test set with no aggregation of any kind.\n",
      "2023-11-03 08:26:16,246:INFO:calling the score check with scores {'acc': 0.5562, 'sens': 0.5049, 'spec': 0.5621}, uncertainty 0.0001, p 712528 and n 6199936\n",
      "2023-11-03 08:26:16,247:INFO:checking the scores {'acc': 0.5562, 'sens': 0.5049, 'spec': 0.5621}\n",
      "2023-11-03 08:26:16,249:INFO:evaluating the tp and tn solution for acc and sens\n",
      "2023-11-03 08:26:16,250:INFO:intervals before: (0, 712528), (0, 6199936)\n",
      "2023-11-03 08:26:16,251:INFO:the tp solutions: (359682.709344, 359828.065056)\n",
      "2023-11-03 08:26:16,253:INFO:the tn solutions: (3484179.340416, 3485734.8387840004)\n",
      "2023-11-03 08:26:16,255:INFO:intervals after: [(359683, 359828)], [(3484180, 3485734)]\n",
      "2023-11-03 08:26:16,256:INFO:evaluating the tp and tn solution for acc and spec\n",
      "2023-11-03 08:26:16,257:INFO:intervals before: [(359683, 359828)], [(3484180, 3485734)]\n",
      "2023-11-03 08:26:16,258:INFO:the tp solutions: (358390.98639999935, 361065.91600000067)\n",
      "2023-11-03 08:26:16,259:INFO:the tn solutions: (3484351.632128, 3485616.419072001)\n",
      "2023-11-03 08:26:16,259:INFO:intervals after: [(359683, 359828)], [(3484352, 3485616)]\n",
      "2023-11-03 08:26:16,260:INFO:evaluating the tp and tn solution for sens and spec\n",
      "2023-11-03 08:26:16,261:INFO:intervals before: [(359683, 359828)], [(3484352, 3485616)]\n",
      "2023-11-03 08:26:16,261:INFO:the tp solutions: (359682.709344, 359828.065056)\n",
      "2023-11-03 08:26:16,262:INFO:the tn solutions: (3484351.632128, 3485616.419072001)\n",
      "2023-11-03 08:26:16,262:INFO:intervals after: [(359683, 359828)], [(3484352, 3485616)]\n",
      "2023-11-03 08:26:16,267:INFO:testing acc, feasible tptn pairs: 146\n",
      "2023-11-03 08:26:16,278:INFO:testing sens, feasible tptn pairs: 146\n",
      "2023-11-03 08:26:16,279:INFO:testing spec, feasible tptn pairs: 144\n",
      "2023-11-03 08:26:16,284:INFO:constructing final tp, tn pair set\n",
      "2023-11-03 08:26:16,285:INFO:final number of intervals: 144\n",
      "2023-11-03 08:26:16,286:INFO:final number of pairs: 180054\n",
      "2023-11-03 08:26:16,287:INFO:Use this function if the scores originate from the tp and tn statistics calculated on one test set with no aggregation of any kind.\n",
      "2023-11-03 08:26:16,288:INFO:calling the score check with scores {'acc': 0.5562, 'sens': 0.5049, 'spec': 0.5621}, uncertainty 0.0001, p 712528 and n 7472816\n",
      "2023-11-03 08:26:16,289:INFO:checking the scores {'acc': 0.5562, 'sens': 0.5049, 'spec': 0.5621}\n",
      "2023-11-03 08:26:16,290:INFO:evaluating the tp and tn solution for acc and sens\n",
      "2023-11-03 08:26:16,291:INFO:intervals before: (0, 712528), (0, 7472816)\n",
      "2023-11-03 08:26:16,292:INFO:the tp solutions: (359682.709344, 359828.065056)\n",
      "2023-11-03 08:26:16,295:INFO:the tn solutions: (4192025.362656, 4193840.528544001)\n",
      "2023-11-03 08:26:16,296:INFO:intervals after: [(359683, 359828)], [(4192026, 4193840)]\n",
      "2023-11-03 08:26:16,297:INFO:evaluating the tp and tn solution for acc and spec\n",
      "2023-11-03 08:26:16,298:INFO:intervals before: [(359683, 359828)], [(4192026, 4193840)]\n",
      "2023-11-03 08:26:16,299:INFO:the tp solutions: (350621.3268799996, 353815.5915200012)\n",
      "2023-11-03 08:26:16,300:INFO:the tn solutions: (4199707.646368, 4201232.100832)\n",
      "2023-11-03 08:26:16,301:INFO:intervals after: [], []\n",
      "2023-11-03 08:26:16,302:INFO:evaluating the tp and tn solution for sens and spec\n",
      "2023-11-03 08:26:16,303:INFO:intervals before: [], []\n",
      "2023-11-03 08:26:16,304:INFO:the tp solutions: (359682.709344, 359828.065056)\n",
      "2023-11-03 08:26:16,305:INFO:the tn solutions: (4199707.646368, 4201232.100832)\n",
      "2023-11-03 08:26:16,306:INFO:intervals after: [], []\n",
      "2023-11-03 08:26:16,307:INFO:testing acc, feasible tptn pairs: 0\n",
      "2023-11-03 08:26:16,308:INFO:no more feasible tp,tn pairs left\n",
      "2023-11-03 08:26:16,308:INFO:constructing final tp, tn pair set\n",
      "2023-11-03 08:26:16,313:INFO:final number of intervals: 0\n",
      "2023-11-03 08:26:16,314:INFO:final number of pairs: 0\n"
     ]
    },
    {
     "data": {
      "text/plain": [
       "{'inconsistency_fov': False, 'inconsistency_all': True}"
      ]
     },
     "execution_count": 5,
     "metadata": {},
     "output_type": "execute_result"
    }
   ],
   "source": [
    "results = check_hrf_vessel_image(image_identifier=img_identifier,\n",
    "                                    scores=scores,\n",
    "                                    eps=10**(-k))\n",
    "results['inconsistency']"
   ]
  }
 ],
 "metadata": {
  "kernelspec": {
   "display_name": "mlscorecheck",
   "language": "python",
   "name": "python3"
  },
  "language_info": {
   "codemirror_mode": {
    "name": "ipython",
    "version": 3
   },
   "file_extension": ".py",
   "mimetype": "text/x-python",
   "name": "python",
   "nbconvert_exporter": "python",
   "pygments_lexer": "ipython3",
   "version": "3.10.0"
  }
 },
 "nbformat": 4,
 "nbformat_minor": 2
}
