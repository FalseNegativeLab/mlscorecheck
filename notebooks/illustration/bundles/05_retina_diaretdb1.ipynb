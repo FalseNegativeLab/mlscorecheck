{
 "cells": [
  {
   "cell_type": "markdown",
   "metadata": {},
   "source": [
    "# Testing the consistency of performance scored reported for the DIARETDB1 retinal image dataset"
   ]
  },
  {
   "cell_type": "code",
   "execution_count": 1,
   "metadata": {},
   "outputs": [],
   "source": [
    "from mlscorecheck.check.bundles.retina import (check_diaretdb1_class,\n",
    "                                                check_diaretdb1_segmentation_image,\n",
    "                                                check_diaretdb1_segmentation_aggregated)"
   ]
  },
  {
   "cell_type": "markdown",
   "metadata": {},
   "source": [
    "## Testing the image labeling"
   ]
  },
  {
   "cell_type": "code",
   "execution_count": 2,
   "metadata": {},
   "outputs": [],
   "source": [
    "scores = {'acc': 0.3115, 'sens': 1.0, 'spec': 0.0455, 'f1p': 0.4474}"
   ]
  },
  {
   "cell_type": "code",
   "execution_count": 3,
   "metadata": {},
   "outputs": [
    {
     "name": "stderr",
     "output_type": "stream",
     "text": [
      "2023-11-03 08:39:51,362:INFO:Use this function if the scores originate from the tp and tn statistics calculated on one test set with no aggregation of any kind.\n",
      "2023-11-03 08:39:51,363:INFO:calling the score check with scores {'acc': 0.3115, 'sens': 1.0, 'spec': 0.0455, 'f1p': 0.4474}, uncertainty 0.0001, p 17 and n 44\n",
      "2023-11-03 08:39:51,363:INFO:checking the scores {'acc': 0.3115, 'sens': 1.0, 'spec': 0.0455, 'f1p': 0.4474}\n",
      "2023-11-03 08:39:51,365:INFO:evaluating the tp and tn solution for acc and sens\n",
      "2023-11-03 08:39:51,365:INFO:intervals before: (0, 17), (0, 44)\n",
      "2023-11-03 08:39:51,366:INFO:the tp solutions: (16.998266, 17)\n",
      "2023-11-03 08:39:51,367:INFO:the tn solutions: (1.995277999999999, 2.009456)\n",
      "2023-11-03 08:39:51,367:INFO:intervals after: [(17, 17)], [(2, 2)]\n",
      "2023-11-03 08:39:51,370:INFO:evaluating the tp and tn solution for acc and spec\n",
      "2023-11-03 08:39:51,371:INFO:intervals before: [(17, 17)], [(2, 2)]\n",
      "2023-11-03 08:39:51,371:INFO:the tp solutions: (16.988789999999998, 17.01021)\n",
      "2023-11-03 08:39:51,372:INFO:the tn solutions: (1.997512, 2.006488)\n",
      "2023-11-03 08:39:51,373:INFO:intervals after: [(17, 17)], [(2, 2)]\n",
      "2023-11-03 08:39:51,374:INFO:evaluating the tp and tn solution for acc and f1p\n",
      "2023-11-03 08:39:51,376:INFO:intervals before: [(17, 17)], [(2, 2)]\n",
      "2023-11-03 08:39:51,377:INFO:the tp solutions: (16.992033649999456, 17.011099682210617)\n",
      "2023-11-03 08:39:51,378:INFO:the tn solutions: (1.9784082467188469, 2.021469888719955)\n",
      "2023-11-03 08:39:51,380:INFO:intervals after: [(17, 17)], [(2, 2)]\n",
      "2023-11-03 08:39:51,381:INFO:evaluating the tp and tn solution for sens and spec\n",
      "2023-11-03 08:39:51,382:INFO:intervals before: [(17, 17)], [(2, 2)]\n",
      "2023-11-03 08:39:51,383:INFO:the tp solutions: (16.998266, 17)\n",
      "2023-11-03 08:39:51,384:INFO:the tn solutions: (1.997512, 2.006488)\n",
      "2023-11-03 08:39:51,384:INFO:intervals after: [(17, 17)], [(2, 2)]\n",
      "2023-11-03 08:39:51,385:INFO:evaluating the tp and tn solution for sens and f1p\n",
      "2023-11-03 08:39:51,387:INFO:intervals before: [(17, 17)], [(2, 2)]\n",
      "2023-11-03 08:39:51,389:INFO:the tp solutions: (16.998266, 17)\n",
      "2023-11-03 08:39:51,390:INFO:the tn solutions: (1.9853953396141368, 2.0313616425738457)\n",
      "2023-11-03 08:39:51,392:INFO:intervals after: [(17, 17)], [(2, 2)]\n",
      "2023-11-03 08:39:51,393:INFO:evaluating the tp and tn solution for spec and f1p\n",
      "2023-11-03 08:39:51,394:INFO:intervals before: [(17, 17)], [(2, 2)]\n",
      "2023-11-03 08:39:51,394:INFO:the tp solutions: (16.994684060802395, 17.00725629596689)\n",
      "2023-11-03 08:39:51,395:INFO:the tn solutions: (1.997512, 2.006488)\n",
      "2023-11-03 08:39:51,396:INFO:intervals after: [(17, 17)], [(2, 2)]\n",
      "2023-11-03 08:39:51,396:INFO:testing acc, feasible tptn pairs: 1\n",
      "2023-11-03 08:39:51,397:INFO:testing sens, feasible tptn pairs: 1\n",
      "2023-11-03 08:39:51,398:INFO:testing spec, feasible tptn pairs: 1\n",
      "2023-11-03 08:39:51,398:INFO:testing f1p, feasible tptn pairs: 1\n",
      "2023-11-03 08:39:51,399:INFO:constructing final tp, tn pair set\n",
      "2023-11-03 08:39:51,400:INFO:final number of intervals: 1\n",
      "2023-11-03 08:39:51,401:INFO:final number of pairs: 1\n"
     ]
    },
    {
     "data": {
      "text/plain": [
       "False"
      ]
     },
     "execution_count": 3,
     "metadata": {},
     "output_type": "execute_result"
    }
   ],
   "source": [
    "results = check_diaretdb1_class(subset='test',\n",
    "                                class_name=['hardexudates', 'softexudates'],\n",
    "                                confidence=0.75,\n",
    "                                scores=scores,\n",
    "                                eps=1e-4)\n",
    "results['inconsistency']"
   ]
  },
  {
   "cell_type": "markdown",
   "metadata": {},
   "source": [
    "## Testing the image segmentation"
   ]
  },
  {
   "cell_type": "code",
   "execution_count": 4,
   "metadata": {},
   "outputs": [],
   "source": [
    "scores = {'acc': 0.5753, 'sens': 0.0503, 'spec': 0.6187, 'f1p': 0.0178}"
   ]
  },
  {
   "cell_type": "code",
   "execution_count": 5,
   "metadata": {},
   "outputs": [
    {
     "name": "stderr",
     "output_type": "stream",
     "text": [
      "2023-11-03 08:39:51,428:INFO:Use this function if the scores originate from the tp and tn statistics calculated on one test set with no aggregation of any kind.\n",
      "2023-11-03 08:39:51,429:INFO:calling the score check with scores {'acc': 0.5753, 'sens': 0.0503, 'spec': 0.6187, 'f1p': 0.0178}, uncertainty 0.0001, p 132038 and n 1275197\n",
      "2023-11-03 08:39:51,430:INFO:checking the scores {'acc': 0.5753, 'sens': 0.0503, 'spec': 0.6187, 'f1p': 0.0178}\n",
      "2023-11-03 08:39:51,431:INFO:evaluating the tp and tn solution for acc and sens\n",
      "2023-11-03 08:39:51,432:INFO:intervals before: (0, 132038), (0, 1275197)\n",
      "2023-11-03 08:39:51,433:INFO:the tp solutions: (6628.043524, 6654.979275999999)\n",
      "2023-11-03 08:39:51,435:INFO:the tn solutions: (802783.778254, 803097.7899460001)\n",
      "2023-11-03 08:39:51,436:INFO:intervals after: [(6629, 6654)], [(802784, 803097)]\n",
      "2023-11-03 08:39:51,437:INFO:evaluating the tp and tn solution for acc and spec\n",
      "2023-11-03 08:39:51,438:INFO:intervals before: [(6629, 6654)], [(802784, 803097)]\n",
      "2023-11-03 08:39:51,439:INFO:the tp solutions: (20344.303535999963, 20891.519664000138)\n",
      "2023-11-03 08:39:51,440:INFO:the tn solutions: (788834.3138059999, 789094.4539940001)\n",
      "2023-11-03 08:39:51,441:INFO:intervals after: [], []\n",
      "2023-11-03 08:39:51,442:INFO:evaluating the tp and tn solution for acc and f1p\n",
      "2023-11-03 08:39:51,443:INFO:intervals before: [], []\n",
      "2023-11-03 08:39:51,443:INFO:the tp solutions: (5382.620227408646, 5448.411631373825)\n",
      "2023-11-03 08:39:51,444:INFO:the tn solutions: (803820.7609366671, 804512.8769120976)\n",
      "2023-11-03 08:39:51,445:INFO:intervals after: [], []\n",
      "2023-11-03 08:39:51,445:INFO:evaluating the tp and tn solution for sens and spec\n",
      "2023-11-03 08:39:51,446:INFO:intervals before: [], []\n",
      "2023-11-03 08:39:51,447:INFO:the tp solutions: (6628.043524, 6654.979275999999)\n",
      "2023-11-03 08:39:51,447:INFO:the tn solutions: (788834.3138059999, 789094.4539940001)\n",
      "2023-11-03 08:39:51,448:INFO:intervals after: [], []\n",
      "2023-11-03 08:39:51,449:INFO:evaluating the tp and tn solution for sens and f1p\n",
      "2023-11-03 08:39:51,450:INFO:intervals before: [], []\n",
      "2023-11-03 08:39:51,450:INFO:the tp solutions: (6628.043524, 6654.979275999999)\n",
      "2023-11-03 08:39:51,453:INFO:the tn solutions: (654261.5122493437, 681171.3956943698)\n",
      "2023-11-03 08:39:51,454:INFO:intervals after: [], []\n",
      "2023-11-03 08:39:51,455:INFO:evaluating the tp and tn solution for spec and f1p\n",
      "2023-11-03 08:39:51,457:INFO:intervals before: [], []\n",
      "2023-11-03 08:39:51,458:INFO:the tp solutions: (5518.761209550405, 5585.29854943852)\n",
      "2023-11-03 08:39:51,459:INFO:the tn solutions: (788834.3138059999, 789094.4539940001)\n",
      "2023-11-03 08:39:51,459:INFO:intervals after: [], []\n",
      "2023-11-03 08:39:51,460:INFO:testing acc, feasible tptn pairs: 0\n",
      "2023-11-03 08:39:51,461:INFO:no more feasible tp,tn pairs left\n",
      "2023-11-03 08:39:51,461:INFO:constructing final tp, tn pair set\n",
      "2023-11-03 08:39:51,462:INFO:final number of intervals: 0\n",
      "2023-11-03 08:39:51,463:INFO:final number of pairs: 0\n",
      "2023-11-03 08:39:51,464:INFO:Use this function if the scores originate from the tp and tn statistics calculated on one test set with no aggregation of any kind.\n",
      "2023-11-03 08:39:51,464:INFO:calling the score check with scores {'acc': 0.5753, 'sens': 0.0503, 'spec': 0.6187, 'f1p': 0.0178}, uncertainty 0.0001, p 132038 and n 1595962\n",
      "2023-11-03 08:39:51,465:INFO:checking the scores {'acc': 0.5753, 'sens': 0.0503, 'spec': 0.6187, 'f1p': 0.0178}\n",
      "2023-11-03 08:39:51,466:INFO:evaluating the tp and tn solution for acc and sens\n",
      "2023-11-03 08:39:51,467:INFO:intervals before: (0, 132038), (0, 1595962)\n",
      "2023-11-03 08:39:51,468:INFO:the tp solutions: (6628.043524, 6654.979275999999)\n",
      "2023-11-03 08:39:51,468:INFO:the tn solutions: (987287.1647239999, 987666.6124760002)\n",
      "2023-11-03 08:39:51,474:INFO:intervals after: [(6629, 6654)], [(987288, 987666)]\n",
      "2023-11-03 08:39:51,475:INFO:evaluating the tp and tn solution for acc and spec\n",
      "2023-11-03 08:39:51,476:INFO:intervals before: [(6629, 6654)], [(987288, 987666)]\n",
      "2023-11-03 08:39:51,477:INFO:the tp solutions: (6357.6664759998675, 7035.754724000231)\n",
      "2023-11-03 08:39:51,478:INFO:the tn solutions: (987258.901276, 987584.4775240001)\n",
      "2023-11-03 08:39:51,479:INFO:intervals after: [(6629, 6654)], [(987288, 987584)]\n",
      "2023-11-03 08:39:51,480:INFO:evaluating the tp and tn solution for acc and f1p\n",
      "2023-11-03 08:39:51,481:INFO:intervals before: [(6629, 6654)], [(987288, 987584)]\n",
      "2023-11-03 08:39:51,482:INFO:the tp solutions: (6609.5341239822355, 6690.322013746083)\n",
      "2023-11-03 08:39:51,483:INFO:the tn solutions: (987043.5818456482, 987893.4586647607)\n",
      "2023-11-03 08:39:51,484:INFO:intervals after: [(6629, 6654)], [(987288, 987584)]\n",
      "2023-11-03 08:39:51,485:INFO:evaluating the tp and tn solution for sens and spec\n",
      "2023-11-03 08:39:51,485:INFO:intervals before: [(6629, 6654)], [(987288, 987584)]\n",
      "2023-11-03 08:39:51,486:INFO:the tp solutions: (6628.043524, 6654.979275999999)\n",
      "2023-11-03 08:39:51,487:INFO:the tn solutions: (987258.901276, 987584.4775240001)\n",
      "2023-11-03 08:39:51,489:INFO:intervals after: [(6629, 6654)], [(987288, 987584)]\n",
      "2023-11-03 08:39:51,489:INFO:evaluating the tp and tn solution for sens and f1p\n",
      "2023-11-03 08:39:51,491:INFO:intervals before: [(6629, 6654)], [(987288, 987584)]\n",
      "2023-11-03 08:39:51,492:INFO:the tp solutions: (6628.043524, 6654.979275999999)\n",
      "2023-11-03 08:39:51,493:INFO:the tn solutions: (971371.2748457015, 1005633.7660187001)\n",
      "2023-11-03 08:39:51,498:INFO:intervals after: [(6629, 6654)], [(987288, 987584)]\n",
      "2023-11-03 08:39:51,499:INFO:evaluating the tp and tn solution for spec and f1p\n",
      "2023-11-03 08:39:51,500:INFO:intervals before: [(6629, 6654)], [(987288, 987584)]\n",
      "2023-11-03 08:39:51,500:INFO:the tp solutions: (6610.432677150226, 6690.258074705212)\n",
      "2023-11-03 08:39:51,501:INFO:the tn solutions: (987258.901276, 987584.4775240001)\n",
      "2023-11-03 08:39:51,502:INFO:intervals after: [(6629, 6654)], [(987288, 987584)]\n",
      "2023-11-03 08:39:51,504:INFO:testing acc, feasible tptn pairs: 26\n",
      "2023-11-03 08:39:51,507:INFO:testing sens, feasible tptn pairs: 26\n",
      "2023-11-03 08:39:51,508:INFO:testing spec, feasible tptn pairs: 26\n",
      "2023-11-03 08:39:51,509:INFO:testing f1p, feasible tptn pairs: 26\n",
      "2023-11-03 08:39:51,511:INFO:constructing final tp, tn pair set\n",
      "2023-11-03 08:39:51,511:INFO:final number of intervals: 26\n",
      "2023-11-03 08:39:51,512:INFO:final number of pairs: 7293\n"
     ]
    },
    {
     "data": {
      "text/plain": [
       "{'inconsistency_fov': True, 'inconsistency_all': False}"
      ]
     },
     "execution_count": 5,
     "metadata": {},
     "output_type": "execute_result"
    }
   ],
   "source": [
    "results = check_diaretdb1_segmentation_image(image_identifier='005',\n",
    "                                class_name=['hardexudates', 'softexudates'],\n",
    "                                confidence=0.75,\n",
    "                                scores=scores,\n",
    "                                eps=1e-4)\n",
    "results['inconsistency']"
   ]
  },
  {
   "cell_type": "markdown",
   "metadata": {},
   "source": [
    "## Testing the aggregated scores of image segmentation"
   ]
  },
  {
   "cell_type": "code",
   "execution_count": 6,
   "metadata": {},
   "outputs": [],
   "source": [
    "scores = {'acc': 0.7143, 'sens': 0.3775, 'spec': 0.7244}"
   ]
  },
  {
   "cell_type": "code",
   "execution_count": 7,
   "metadata": {},
   "outputs": [
    {
     "name": "stderr",
     "output_type": "stream",
     "text": [
      "2023-11-03 08:39:51,539:INFO:checking the scores {'acc': 0.7143, 'sens': 0.3775, 'spec': 0.7244}\n",
      "2023-11-03 08:39:51,541:INFO:evaluating the tp and tn solution for acc and sens\n",
      "2023-11-03 08:39:51,542:INFO:intervals before: (0, 1250927), (0, 26893773)\n",
      "2023-11-03 08:39:51,543:INFO:the tp solutions: (472097.347946, 472352.537054)\n",
      "2023-11-03 08:39:51,543:INFO:the tn solutions: (19628535.913546003, 19634532.621454004)\n",
      "2023-11-03 08:39:51,544:INFO:intervals after: [(472098, 472352)], [(19628536, 19634532)]\n",
      "2023-11-03 08:39:51,545:INFO:evaluating the tp and tn solution for acc and spec\n",
      "2023-11-03 08:39:51,546:INFO:intervals before: [(472098, 472352)], [(19628536, 19634532)]\n",
      "2023-11-03 08:39:51,546:INFO:the tp solutions: (616296.1245540008, 627523.9730460048)\n",
      "2023-11-03 08:39:51,547:INFO:the tn solutions: (19479105.996354, 19484592.326046)\n",
      "2023-11-03 08:39:51,548:INFO:intervals after: [], []\n",
      "2023-11-03 08:39:51,548:INFO:evaluating the tp and tn solution for sens and spec\n",
      "2023-11-03 08:39:51,549:INFO:intervals before: [], []\n",
      "2023-11-03 08:39:51,550:INFO:the tp solutions: (472097.347946, 472352.537054)\n",
      "2023-11-03 08:39:51,551:INFO:the tn solutions: (19479105.996354, 19484592.326046)\n",
      "2023-11-03 08:39:51,552:INFO:intervals after: [], []\n",
      "2023-11-03 08:39:51,558:INFO:testing acc, feasible tptn pairs: 0\n",
      "2023-11-03 08:39:51,559:INFO:no more feasible tp,tn pairs left\n",
      "2023-11-03 08:39:51,560:INFO:constructing final tp, tn pair set\n",
      "2023-11-03 08:39:51,561:INFO:final number of intervals: 0\n",
      "2023-11-03 08:39:51,562:INFO:final number of pairs: 0\n",
      "2023-11-03 08:39:51,582:INFO:checking the scores {'acc': 0.7143, 'sens': 0.3775, 'spec': 0.7244}\n",
      "2023-11-03 08:39:51,583:INFO:evaluating the tp and tn solution for acc and sens\n",
      "2023-11-03 08:39:51,584:INFO:intervals before: (0, 1252069), (0, 33307931)\n",
      "2023-11-03 08:39:51,585:INFO:the tp solutions: (472528.33646200004, 472783.758538)\n",
      "2023-11-03 08:39:51,586:INFO:the tn solutions: (24209899.121462, 24217204.783538006)\n",
      "2023-11-03 08:39:51,587:INFO:intervals after: [(472529, 472783)], [(24209900, 24217204)]\n",
      "2023-11-03 08:39:51,588:INFO:evaluating the tp and tn solution for acc and spec\n",
      "2023-11-03 08:39:51,590:INFO:intervals before: [(472529, 472783)], [(24209900, 24217204)]\n",
      "2023-11-03 08:39:51,591:INFO:the tp solutions: (551020.2546379976, 564865.3125620037)\n",
      "2023-11-03 08:39:51,592:INFO:the tn solutions: (24124867.807438, 24131662.625362)\n",
      "2023-11-03 08:39:51,593:INFO:intervals after: [], []\n",
      "2023-11-03 08:39:51,594:INFO:evaluating the tp and tn solution for sens and spec\n",
      "2023-11-03 08:39:51,595:INFO:intervals before: [], []\n",
      "2023-11-03 08:39:51,595:INFO:the tp solutions: (472528.33646200004, 472783.758538)\n",
      "2023-11-03 08:39:51,596:INFO:the tn solutions: (24124867.807438, 24131662.625362)\n",
      "2023-11-03 08:39:51,597:INFO:intervals after: [], []\n",
      "2023-11-03 08:39:51,597:INFO:testing acc, feasible tptn pairs: 0\n",
      "2023-11-03 08:39:51,602:INFO:no more feasible tp,tn pairs left\n",
      "2023-11-03 08:39:51,603:INFO:constructing final tp, tn pair set\n",
      "2023-11-03 08:39:51,604:INFO:final number of intervals: 0\n",
      "2023-11-03 08:39:51,605:INFO:final number of pairs: 0\n"
     ]
    },
    {
     "name": "stdout",
     "output_type": "stream",
     "text": [
      "Welcome to the CBC MILP Solver \n",
      "Version: 2.10.3 \n",
      "Build Date: Dec 15 2019 \n",
      "\n",
      "command line - /home/gykovacs/anaconda3/envs/mlscorecheck/lib/python3.10/site-packages/pulp/solverdir/cbc/linux/64/cbc /tmp/5aff7dc80e034994b4911dff3c0e9491-pulp.mps timeMode elapsed branch printingOptions all solution /tmp/5aff7dc80e034994b4911dff3c0e9491-pulp.sol (default strategy 1)\n",
      "At line 2 NAME          MODEL\n",
      "At line 3 ROWS\n",
      "At line 11 COLUMNS\n",
      "At line 253 RHS\n",
      "At line 260 BOUNDS\n",
      "At line 302 ENDATA\n",
      "Problem MODEL has 6 rows, 41 columns and 160 elements\n",
      "Coin0008I MODEL read with 0 errors\n",
      "Option for timeMode changed from cpu to elapsed\n",
      "Continuous objective value is 0 - 0.00 seconds\n",
      "Cgl0004I processed model has 3 rows, 40 columns (40 integer (0 of which binary)) and 80 elements\n",
      "Cbc0012I Integer solution of 0 found by DiveCoefficient after 0 iterations and 0 nodes (0.00 seconds)\n",
      "Cbc0001I Search completed - best objective 0, took 0 iterations and 0 nodes (0.00 seconds)\n",
      "Cbc0035I Maximum depth 0, 0 variables fixed on reduced cost\n",
      "Cuts at root node changed objective from 0 to 0\n",
      "Probing was tried 0 times and created 0 cuts of which 0 were active after adding rounds of cuts (0.000 seconds)\n",
      "Gomory was tried 0 times and created 0 cuts of which 0 were active after adding rounds of cuts (0.000 seconds)\n",
      "Knapsack was tried 0 times and created 0 cuts of which 0 were active after adding rounds of cuts (0.000 seconds)\n",
      "Clique was tried 0 times and created 0 cuts of which 0 were active after adding rounds of cuts (0.000 seconds)\n",
      "MixedIntegerRounding2 was tried 0 times and created 0 cuts of which 0 were active after adding rounds of cuts (0.000 seconds)\n",
      "FlowCover was tried 0 times and created 0 cuts of which 0 were active after adding rounds of cuts (0.000 seconds)\n",
      "TwoMirCuts was tried 0 times and created 0 cuts of which 0 were active after adding rounds of cuts (0.000 seconds)\n",
      "ZeroHalf was tried 0 times and created 0 cuts of which 0 were active after adding rounds of cuts (0.000 seconds)\n",
      "\n",
      "Result - Optimal solution found\n",
      "\n",
      "Objective value:                0.00000000\n",
      "Enumerated nodes:               0\n",
      "Total iterations:               0\n",
      "Time (CPU seconds):             0.00\n",
      "Time (Wallclock seconds):       0.00\n",
      "\n",
      "Option for printingOptions changed from normal to all\n",
      "Total time (CPU seconds):       0.00   (Wallclock seconds):       0.00\n",
      "\n",
      "Welcome to the CBC MILP Solver \n",
      "Version: 2.10.3 \n",
      "Build Date: Dec 15 2019 \n",
      "\n",
      "command line - /home/gykovacs/anaconda3/envs/mlscorecheck/lib/python3.10/site-packages/pulp/solverdir/cbc/linux/64/cbc /tmp/4983d761810e47df8533a8df8a880cc7-pulp.mps timeMode elapsed branch printingOptions all solution /tmp/4983d761810e47df8533a8df8a880cc7-pulp.sol (default strategy 1)\n",
      "At line 2 NAME          MODEL\n",
      "At line 3 ROWS\n",
      "At line 11 COLUMNS\n",
      "At line 253 RHS\n",
      "At line 260 BOUNDS\n",
      "At line 302 ENDATA\n",
      "Problem MODEL has 6 rows, 41 columns and 160 elements\n",
      "Coin0008I MODEL read with 0 errors\n",
      "Option for timeMode changed from cpu to elapsed\n",
      "Continuous objective value is 0 - 0.00 seconds\n",
      "Cgl0004I processed model has 3 rows, 40 columns (40 integer (0 of which binary)) and 80 elements\n",
      "Cbc0012I Integer solution of 0 found by DiveCoefficient after 0 iterations and 0 nodes (0.00 seconds)\n",
      "Cbc0001I Search completed - best objective 0, took 0 iterations and 0 nodes (0.00 seconds)\n",
      "Cbc0035I Maximum depth 0, 0 variables fixed on reduced cost\n",
      "Cuts at root node changed objective from 0 to 0\n",
      "Probing was tried 0 times and created 0 cuts of which 0 were active after adding rounds of cuts (0.000 seconds)\n",
      "Gomory was tried 0 times and created 0 cuts of which 0 were active after adding rounds of cuts (0.000 seconds)\n",
      "Knapsack was tried 0 times and created 0 cuts of which 0 were active after adding rounds of cuts (0.000 seconds)\n",
      "Clique was tried 0 times and created 0 cuts of which 0 were active after adding rounds of cuts (0.000 seconds)\n",
      "MixedIntegerRounding2 was tried 0 times and created 0 cuts of which 0 were active after adding rounds of cuts (0.000 seconds)\n",
      "FlowCover was tried 0 times and created 0 cuts of which 0 were active after adding rounds of cuts (0.000 seconds)\n",
      "TwoMirCuts was tried 0 times and created 0 cuts of which 0 were active after adding rounds of cuts (0.000 seconds)\n",
      "ZeroHalf was tried 0 times and created 0 cuts of which 0 were active after adding rounds of cuts (0.000 seconds)\n",
      "\n",
      "Result - Optimal solution found\n",
      "\n",
      "Objective value:                0.00000000\n",
      "Enumerated nodes:               0\n",
      "Total iterations:               0\n",
      "Time (CPU seconds):             0.00\n",
      "Time (Wallclock seconds):       0.00\n",
      "\n",
      "Option for printingOptions changed from normal to all\n",
      "Total time (CPU seconds):       0.00   (Wallclock seconds):       0.00\n",
      "\n"
     ]
    },
    {
     "data": {
      "text/plain": [
       "{'inconsistency_fov_som': True,\n",
       " 'inconsistency_all_som': True,\n",
       " 'inconsistency_fov_mos': False,\n",
       " 'inconsistency_all_mos': False}"
      ]
     },
     "execution_count": 7,
     "metadata": {},
     "output_type": "execute_result"
    }
   ],
   "source": [
    "results = check_diaretdb1_segmentation_aggregated(subset='test',\n",
    "                                class_name='hardexudates',\n",
    "                                confidence=0.5,\n",
    "                                only_valid=True,\n",
    "                                scores=scores,\n",
    "                                eps=1e-4)\n",
    "results['inconsistency']"
   ]
  },
  {
   "cell_type": "code",
   "execution_count": null,
   "metadata": {},
   "outputs": [],
   "source": []
  }
 ],
 "metadata": {
  "kernelspec": {
   "display_name": "mlscorecheck",
   "language": "python",
   "name": "python3"
  },
  "language_info": {
   "codemirror_mode": {
    "name": "ipython",
    "version": 3
   },
   "file_extension": ".py",
   "mimetype": "text/x-python",
   "name": "python",
   "nbconvert_exporter": "python",
   "pygments_lexer": "ipython3",
   "version": "3.10.0"
  }
 },
 "nbformat": 4,
 "nbformat_minor": 2
}
