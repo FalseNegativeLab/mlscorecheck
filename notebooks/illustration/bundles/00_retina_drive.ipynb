{
 "cells": [
  {
   "cell_type": "markdown",
   "metadata": {},
   "source": [
    "# Testing the consistency of performance scored reported for the DRIVE retinal vessel segmentation dataset"
   ]
  },
  {
   "cell_type": "code",
   "execution_count": 1,
   "metadata": {},
   "outputs": [],
   "source": [
    "from mlscorecheck.check.bundles.retina import (\n",
    "                                                check_drive_vessel_aggregated,\n",
    "                                                check_drive_vessel_image,\n",
    ")"
   ]
  },
  {
   "cell_type": "markdown",
   "metadata": {},
   "source": [
    "## Aggregated scores"
   ]
  },
  {
   "cell_type": "markdown",
   "metadata": {},
   "source": [
    "First we test the aggregated scores published in\n",
    "G. Kovacs et al, 2016: \"A self-calibrating technique for the segmentation of retinal vessels by\n",
    "template matching and contour reconstruction\", Medical Image Analysis 29(4), 24-46\n",
    "doi:10.1016/j.media.2015.12.003.\n"
   ]
  },
  {
   "cell_type": "code",
   "execution_count": 2,
   "metadata": {},
   "outputs": [],
   "source": [
    "scores = {'acc': 0.9494, 'sens': 0.7450, 'spec': 0.9793}\n",
    "\n",
    "# the numerical uncertainty (assuming ceiling/flooring)\n",
    "k = 4"
   ]
  },
  {
   "cell_type": "code",
   "execution_count": 3,
   "metadata": {},
   "outputs": [
    {
     "name": "stderr",
     "output_type": "stream",
     "text": [
      "2023-11-03 07:59:01,488:INFO:checking the scores {'acc': 0.9494, 'sens': 0.745, 'spec': 0.9793}\n",
      "2023-11-03 07:59:01,489:INFO:evaluating the tp and tn solution for acc and sens\n",
      "2023-11-03 07:59:01,490:INFO:intervals before: (0, 577649), (0, 3960494)\n",
      "2023-11-03 07:59:01,491:INFO:the tp solutions: (430289.58480199997, 430407.42519800004)\n",
      "2023-11-03 07:59:01,492:INFO:the tn solutions: (3877642.6484160004, 3878686.2699840004)\n",
      "2023-11-03 07:59:01,493:INFO:intervals after: [(430290, 430407)], [(3877643, 3878686)]\n",
      "2023-11-03 07:59:01,493:INFO:evaluating the tp and tn solution for acc and spec\n",
      "2023-11-03 07:59:01,495:INFO:intervals before: [(430290, 430407)], [(3877643, 3878686)]\n",
      "2023-11-03 07:59:01,497:INFO:the tp solutions: (429134.3290260006, 430868.0509740007)\n",
      "2023-11-03 07:59:01,498:INFO:the tn solutions: (3878107.8038119995, 3878915.744588)\n",
      "2023-11-03 07:59:01,499:INFO:intervals after: [(430290, 430407)], [(3878108, 3878686)]\n",
      "2023-11-03 07:59:01,500:INFO:evaluating the tp and tn solution for sens and spec\n",
      "2023-11-03 07:59:01,501:INFO:intervals before: [(430290, 430407)], [(3878108, 3878686)]\n",
      "2023-11-03 07:59:01,502:INFO:the tp solutions: (430289.58480199997, 430407.42519800004)\n",
      "2023-11-03 07:59:01,503:INFO:the tn solutions: (3878107.8038119995, 3878915.744588)\n",
      "2023-11-03 07:59:01,504:INFO:intervals after: [(430290, 430407)], [(3878108, 3878686)]\n",
      "2023-11-03 07:59:01,507:INFO:testing acc, feasible tptn pairs: 118\n",
      "2023-11-03 07:59:01,517:INFO:testing sens, feasible tptn pairs: 118\n",
      "2023-11-03 07:59:01,518:INFO:testing spec, feasible tptn pairs: 116\n",
      "2023-11-03 07:59:01,522:INFO:constructing final tp, tn pair set\n",
      "2023-11-03 07:59:01,522:INFO:final number of intervals: 116\n",
      "2023-11-03 07:59:01,523:INFO:final number of pairs: 59334\n",
      "2023-11-03 07:59:01,538:INFO:checking the scores {'acc': 0.9494, 'sens': 0.745, 'spec': 0.9793}\n",
      "2023-11-03 07:59:01,539:INFO:evaluating the tp and tn solution for acc and sens\n",
      "2023-11-03 07:59:01,540:INFO:intervals before: (0, 577945), (0, 6021255)\n",
      "2023-11-03 07:59:01,543:INFO:the tp solutions: (430510.07460999995, 430627.97539000004)\n",
      "2023-11-03 07:59:01,544:INFO:the tn solutions: (5833979.38621, 5835443.523790001)\n",
      "2023-11-03 07:59:01,545:INFO:intervals after: [(430511, 430627)], [(5833980, 5835443)]\n",
      "2023-11-03 07:59:01,546:INFO:evaluating the tp and tn solution for acc and spec\n",
      "2023-11-03 07:59:01,548:INFO:intervals before: [(430511, 430627)], [(5833980, 5835443)]\n",
      "2023-11-03 07:59:01,549:INFO:the tp solutions: (367378.1720900005, 369952.7449100008)\n",
      "2023-11-03 07:59:01,550:INFO:the tn solutions: (5896000.85349, 5897229.18951)\n",
      "2023-11-03 07:59:01,551:INFO:intervals after: [], []\n",
      "2023-11-03 07:59:01,553:INFO:evaluating the tp and tn solution for sens and spec\n",
      "2023-11-03 07:59:01,554:INFO:intervals before: [], []\n",
      "2023-11-03 07:59:01,555:INFO:the tp solutions: (430510.07460999995, 430627.97539000004)\n",
      "2023-11-03 07:59:01,557:INFO:the tn solutions: (5896000.85349, 5897229.18951)\n",
      "2023-11-03 07:59:01,557:INFO:intervals after: [], []\n",
      "2023-11-03 07:59:01,558:INFO:testing acc, feasible tptn pairs: 0\n",
      "2023-11-03 07:59:01,559:INFO:no more feasible tp,tn pairs left\n",
      "2023-11-03 07:59:01,560:INFO:constructing final tp, tn pair set\n",
      "2023-11-03 07:59:01,561:INFO:final number of intervals: 0\n",
      "2023-11-03 07:59:01,562:INFO:final number of pairs: 0\n"
     ]
    }
   ],
   "source": [
    "results = check_drive_vessel_aggregated(scores=scores,\n",
    "                                        eps=10**(-k),\n",
    "                                        imageset='test',\n",
    "                                        annotator=1,\n",
    "                                        verbosity=0)"
   ]
  },
  {
   "cell_type": "code",
   "execution_count": 4,
   "metadata": {},
   "outputs": [
    {
     "data": {
      "text/plain": [
       "{'inconsistency_fov_mos': False,\n",
       " 'inconsistency_fov_som': False,\n",
       " 'inconsistency_all_mos': True,\n",
       " 'inconsistency_all_som': True}"
      ]
     },
     "execution_count": 4,
     "metadata": {},
     "output_type": "execute_result"
    }
   ],
   "source": [
    "results['inconsistency']"
   ]
  },
  {
   "cell_type": "markdown",
   "metadata": {},
   "source": [
    "As the results show, the scores are inconsistent with the assumption of using all pixels with any aggregation ('Score-of-Means'/'Mean-of-Scores').\n",
    "\n",
    "Next, we test the aggregated scores published in\n",
    "Jebaseeli et al., 2019, \"Retinal Blood Vessel segmentation from diabetic retinopathy images using\n",
    "tandem PCNN model and deep learning based SVM\", Optik 199, 163328, doi:10.1016/j.ijleo.2019.163328."
   ]
  },
  {
   "cell_type": "code",
   "execution_count": 5,
   "metadata": {},
   "outputs": [],
   "source": [
    "scores = {'acc': 0.9898, 'sens': 0.8027, 'spec': 0.9980}\n",
    "\n",
    "# the numerical uncertainty (assuming ceiling/flooring)\n",
    "k = 4"
   ]
  },
  {
   "cell_type": "code",
   "execution_count": 6,
   "metadata": {},
   "outputs": [
    {
     "name": "stderr",
     "output_type": "stream",
     "text": [
      "2023-11-03 07:59:01,624:INFO:checking the scores {'acc': 0.9898, 'sens': 0.8027, 'spec': 0.998}\n",
      "2023-11-03 07:59:01,626:INFO:evaluating the tp and tn solution for acc and sens\n",
      "2023-11-03 07:59:01,627:INFO:intervals before: (0, 577649), (0, 3960494)\n",
      "2023-11-03 07:59:01,629:INFO:the tp solutions: (463619.93210199993, 463737.772498)\n",
      "2023-11-03 07:59:01,630:INFO:the tn solutions: (4027653.278316, 4028696.899884)\n",
      "2023-11-03 07:59:01,631:INFO:intervals after: [(463620, 463737)], []\n",
      "2023-11-03 07:59:01,632:INFO:evaluating the tp and tn solution for acc and spec\n",
      "2023-11-03 07:59:01,633:INFO:intervals before: [(463620, 463737)], []\n",
      "2023-11-03 07:59:01,634:INFO:the tp solutions: (538414.068426, 540147.7903740001)\n",
      "2023-11-03 07:59:01,635:INFO:the tn solutions: (3952169.0416119997, 3952976.982388)\n",
      "2023-11-03 07:59:01,636:INFO:intervals after: [], []\n",
      "2023-11-03 07:59:01,636:INFO:evaluating the tp and tn solution for sens and spec\n",
      "2023-11-03 07:59:01,637:INFO:intervals before: [], []\n",
      "2023-11-03 07:59:01,639:INFO:the tp solutions: (463619.93210199993, 463737.772498)\n",
      "2023-11-03 07:59:01,640:INFO:the tn solutions: (3952169.0416119997, 3952976.982388)\n",
      "2023-11-03 07:59:01,641:INFO:intervals after: [], []\n",
      "2023-11-03 07:59:01,642:INFO:testing acc, feasible tptn pairs: 0\n",
      "2023-11-03 07:59:01,642:INFO:no more feasible tp,tn pairs left\n",
      "2023-11-03 07:59:01,643:INFO:constructing final tp, tn pair set\n",
      "2023-11-03 07:59:01,644:INFO:final number of intervals: 0\n",
      "2023-11-03 07:59:01,645:INFO:final number of pairs: 0\n",
      "2023-11-03 07:59:01,673:INFO:checking the scores {'acc': 0.9898, 'sens': 0.8027, 'spec': 0.998}\n",
      "2023-11-03 07:59:01,675:INFO:evaluating the tp and tn solution for acc and sens\n",
      "2023-11-03 07:59:01,677:INFO:intervals before: (0, 577945), (0, 6021255)\n",
      "2023-11-03 07:59:01,679:INFO:the tp solutions: (463857.50110999995, 463975.40189000004)\n",
      "2023-11-03 07:59:01,681:INFO:the tn solutions: (6067239.63971, 6068703.777290001)\n",
      "2023-11-03 07:59:01,682:INFO:intervals after: [(463858, 463975)], []\n",
      "2023-11-03 07:59:01,686:INFO:evaluating the tp and tn solution for acc and spec\n",
      "2023-11-03 07:59:01,687:INFO:intervals before: [(463858, 463975)], []\n",
      "2023-11-03 07:59:01,688:INFO:the tp solutions: (521388.38358999975, 523962.9564100001)\n",
      "2023-11-03 07:59:01,689:INFO:the tn solutions: (6008598.32199, 6009826.65801)\n",
      "2023-11-03 07:59:01,692:INFO:intervals after: [], []\n",
      "2023-11-03 07:59:01,694:INFO:evaluating the tp and tn solution for sens and spec\n",
      "2023-11-03 07:59:01,695:INFO:intervals before: [], []\n",
      "2023-11-03 07:59:01,696:INFO:the tp solutions: (463857.50110999995, 463975.40189000004)\n",
      "2023-11-03 07:59:01,697:INFO:the tn solutions: (6008598.32199, 6009826.65801)\n",
      "2023-11-03 07:59:01,698:INFO:intervals after: [], []\n",
      "2023-11-03 07:59:01,700:INFO:testing acc, feasible tptn pairs: 0\n",
      "2023-11-03 07:59:01,701:INFO:no more feasible tp,tn pairs left\n",
      "2023-11-03 07:59:01,703:INFO:constructing final tp, tn pair set\n",
      "2023-11-03 07:59:01,704:INFO:final number of intervals: 0\n",
      "2023-11-03 07:59:01,705:INFO:final number of pairs: 0\n"
     ]
    }
   ],
   "source": [
    "results = check_drive_vessel_aggregated(scores=scores,\n",
    "                            eps=10**(-k),\n",
    "                            imageset='test',\n",
    "                            annotator=1,\n",
    "                            verbosity=0)"
   ]
  },
  {
   "cell_type": "code",
   "execution_count": 7,
   "metadata": {},
   "outputs": [
    {
     "data": {
      "text/plain": [
       "{'inconsistency_fov_mos': True,\n",
       " 'inconsistency_fov_som': True,\n",
       " 'inconsistency_all_mos': True,\n",
       " 'inconsistency_all_som': True}"
      ]
     },
     "execution_count": 7,
     "metadata": {},
     "output_type": "execute_result"
    }
   ],
   "source": [
    "results['inconsistency']"
   ]
  },
  {
   "cell_type": "markdown",
   "metadata": {},
   "source": [
    "As the results show, the reported scores are inconsistent with any of the four reasonable assumptions in the field (using the FoV pixels only or using all pixels; using Mean-of-Scores aggregation or 'Score-of-Means' aggregation)."
   ]
  },
  {
   "cell_type": "markdown",
   "metadata": {},
   "source": [
    "## Image level"
   ]
  },
  {
   "cell_type": "markdown",
   "metadata": {},
   "source": [
    "Image level figures from Mo et al., \"Multi-level deep supervised networks for retinal vessel seg-\n",
    "mentation\", Int J Comput Assist Radiol Surg, 12. doi:10.1007/s11548-017-1619-0"
   ]
  },
  {
   "cell_type": "code",
   "execution_count": 8,
   "metadata": {},
   "outputs": [],
   "source": [
    "scores = {'acc': 0.9323, 'sens': 0.5677, 'spec': 0.9944}\n",
    "identifier = '03'\n",
    "k = 4"
   ]
  },
  {
   "cell_type": "code",
   "execution_count": 9,
   "metadata": {},
   "outputs": [
    {
     "name": "stderr",
     "output_type": "stream",
     "text": [
      "2023-11-03 07:59:01,757:INFO:Use this function if the scores originate from the tp and tn statistics calculated on one test set with no aggregation of any kind.\n",
      "2023-11-03 07:59:01,758:INFO:calling the score check with scores {'acc': 0.9323, 'sens': 0.5677, 'spec': 0.9944}, uncertainty 0.0001, p 32886 and n 192841\n",
      "2023-11-03 07:59:01,761:INFO:checking the scores {'acc': 0.9323, 'sens': 0.5677, 'spec': 0.9944}\n",
      "2023-11-03 07:59:01,762:INFO:evaluating the tp and tn solution for acc and sens\n",
      "2023-11-03 07:59:01,764:INFO:intervals before: (0, 32886), (0, 192841)\n",
      "2023-11-03 07:59:01,765:INFO:the tp solutions: (18666.027828, 18672.736572)\n",
      "2023-11-03 07:59:01,767:INFO:the tn solutions: (191749.521374, 191802.27842600003)\n",
      "2023-11-03 07:59:01,771:INFO:intervals after: [(18667, 18672)], [(191750, 191802)]\n",
      "2023-11-03 07:59:01,772:INFO:evaluating the tp and tn solution for acc and spec\n",
      "2023-11-03 07:59:01,773:INFO:intervals before: [(18667, 18672)], [(191750, 191802)]\n",
      "2023-11-03 07:59:01,775:INFO:the tp solutions: (18641.497764, 18726.88563600005)\n",
      "2023-11-03 07:59:01,777:INFO:the tn solutions: (191741.42061799997, 191780.760182)\n",
      "2023-11-03 07:59:01,779:INFO:intervals after: [(18667, 18672)], [(191750, 191780)]\n",
      "2023-11-03 07:59:01,780:INFO:evaluating the tp and tn solution for sens and spec\n",
      "2023-11-03 07:59:01,782:INFO:intervals before: [(18667, 18672)], [(191750, 191780)]\n",
      "2023-11-03 07:59:01,783:INFO:the tp solutions: (18666.027828, 18672.736572)\n",
      "2023-11-03 07:59:01,784:INFO:the tn solutions: (191741.42061799997, 191780.760182)\n",
      "2023-11-03 07:59:01,786:INFO:intervals after: [(18667, 18672)], [(191750, 191780)]\n",
      "2023-11-03 07:59:01,787:INFO:testing acc, feasible tptn pairs: 6\n",
      "2023-11-03 07:59:01,789:INFO:testing sens, feasible tptn pairs: 6\n",
      "2023-11-03 07:59:01,790:INFO:testing spec, feasible tptn pairs: 6\n",
      "2023-11-03 07:59:01,791:INFO:constructing final tp, tn pair set\n",
      "2023-11-03 07:59:01,792:INFO:final number of intervals: 6\n",
      "2023-11-03 07:59:01,794:INFO:final number of pairs: 165\n",
      "2023-11-03 07:59:01,795:INFO:Use this function if the scores originate from the tp and tn statistics calculated on one test set with no aggregation of any kind.\n",
      "2023-11-03 07:59:01,796:INFO:calling the score check with scores {'acc': 0.9323, 'sens': 0.5677, 'spec': 0.9944}, uncertainty 0.0001, p 32893 and n 297067\n",
      "2023-11-03 07:59:01,797:INFO:checking the scores {'acc': 0.9323, 'sens': 0.5677, 'spec': 0.9944}\n",
      "2023-11-03 07:59:01,798:INFO:evaluating the tp and tn solution for acc and sens\n",
      "2023-11-03 07:59:01,799:INFO:intervals before: (0, 32893), (0, 297067)\n",
      "2023-11-03 07:59:01,800:INFO:the tp solutions: (18670.001013999998, 18676.711186)\n",
      "2023-11-03 07:59:01,801:INFO:the tn solutions: (288911.3408939999, 288985.36290600005)\n",
      "2023-11-03 07:59:01,802:INFO:intervals after: [(18671, 18676)], [(288912, 288985)]\n",
      "2023-11-03 07:59:01,803:INFO:evaluating the tp and tn solution for acc and spec\n",
      "2023-11-03 07:59:01,805:INFO:intervals before: [(18671, 18676)], [(288912, 288985)]\n",
      "2023-11-03 07:59:01,806:INFO:the tp solutions: (12154.326445999963, 12282.239954000048)\n",
      "2023-11-03 07:59:01,815:INFO:the tn solutions: (295373.123966, 295433.725634)\n",
      "2023-11-03 07:59:01,816:INFO:intervals after: [], []\n",
      "2023-11-03 07:59:01,818:INFO:evaluating the tp and tn solution for sens and spec\n",
      "2023-11-03 07:59:01,819:INFO:intervals before: [], []\n",
      "2023-11-03 07:59:01,820:INFO:the tp solutions: (18670.001013999998, 18676.711186)\n",
      "2023-11-03 07:59:01,821:INFO:the tn solutions: (295373.123966, 295433.725634)\n",
      "2023-11-03 07:59:01,822:INFO:intervals after: [], []\n",
      "2023-11-03 07:59:01,823:INFO:testing acc, feasible tptn pairs: 0\n",
      "2023-11-03 07:59:01,824:INFO:no more feasible tp,tn pairs left\n",
      "2023-11-03 07:59:01,826:INFO:constructing final tp, tn pair set\n",
      "2023-11-03 07:59:01,827:INFO:final number of intervals: 0\n",
      "2023-11-03 07:59:01,828:INFO:final number of pairs: 0\n"
     ]
    }
   ],
   "source": [
    "results = check_drive_vessel_image(scores=scores,\n",
    "                                    eps=10**(-k),\n",
    "                                    image_identifier=identifier,\n",
    "                                    annotator=1)"
   ]
  },
  {
   "cell_type": "code",
   "execution_count": 10,
   "metadata": {},
   "outputs": [
    {
     "data": {
      "text/plain": [
       "{'inconsistency_fov': False, 'inconsistency_all': True}"
      ]
     },
     "execution_count": 10,
     "metadata": {},
     "output_type": "execute_result"
    }
   ],
   "source": [
    "results['inconsistency']"
   ]
  },
  {
   "cell_type": "markdown",
   "metadata": {},
   "source": [
    "As the results show, the scores are inconsistent with the assumption that all pixels were, used, however, the scores are not inconsistent with the assumption that only the FoV pixels were used for evaluation."
   ]
  },
  {
   "cell_type": "markdown",
   "metadata": {},
   "source": [
    "Testing image level results from Lupascu et al., 2010, \"Fabc: retinal vessel segmentation using\n",
    "adaboost\", Trans. Info. Tech. Biomed 14 (5), 1267—1274, 2052282. doi:10.1109/TITB.2010."
   ]
  },
  {
   "cell_type": "code",
   "execution_count": 11,
   "metadata": {},
   "outputs": [],
   "source": [
    "scores = {'acc': 0.9633, 'sens': 0.7406, 'spec': 0.9849}\n",
    "identifier = '01'\n",
    "k = 4"
   ]
  },
  {
   "cell_type": "code",
   "execution_count": 12,
   "metadata": {},
   "outputs": [
    {
     "name": "stderr",
     "output_type": "stream",
     "text": [
      "2023-11-03 07:59:01,874:INFO:Use this function if the scores originate from the tp and tn statistics calculated on one test set with no aggregation of any kind.\n",
      "2023-11-03 07:59:01,876:INFO:calling the score check with scores {'acc': 0.9633, 'sens': 0.7406, 'spec': 0.9849}, uncertainty 0.0001, p 29412 and n 194965\n",
      "2023-11-03 07:59:01,877:INFO:checking the scores {'acc': 0.9633, 'sens': 0.7406, 'spec': 0.9849}\n",
      "2023-11-03 07:59:01,878:INFO:evaluating the tp and tn solution for acc and sens\n",
      "2023-11-03 07:59:01,880:INFO:intervals before: (0, 29412), (0, 194965)\n",
      "2023-11-03 07:59:01,881:INFO:the tp solutions: (21779.527176, 21785.527224)\n",
      "2023-11-03 07:59:01,882:INFO:the tn solutions: (194333.950422, 194385.72337800002)\n",
      "2023-11-03 07:59:01,883:INFO:intervals after: [(21780, 21785)], [(194334, 194385)]\n",
      "2023-11-03 07:59:01,886:INFO:evaluating the tp and tn solution for acc and spec\n",
      "2023-11-03 07:59:01,887:INFO:intervals before: [(21780, 21785)], [(194334, 194385)]\n",
      "2023-11-03 07:59:01,889:INFO:the tp solutions: (24078.562715999986, 24164.108484000026)\n",
      "2023-11-03 07:59:01,895:INFO:the tn solutions: (192001.14207, 192040.91493)\n",
      "2023-11-03 07:59:01,896:INFO:intervals after: [], []\n",
      "2023-11-03 07:59:01,897:INFO:evaluating the tp and tn solution for sens and spec\n",
      "2023-11-03 07:59:01,898:INFO:intervals before: [], []\n",
      "2023-11-03 07:59:01,899:INFO:the tp solutions: (21779.527176, 21785.527224)\n",
      "2023-11-03 07:59:01,901:INFO:the tn solutions: (192001.14207, 192040.91493)\n",
      "2023-11-03 07:59:01,902:INFO:intervals after: [], []\n",
      "2023-11-03 07:59:01,903:INFO:testing acc, feasible tptn pairs: 0\n",
      "2023-11-03 07:59:01,904:INFO:no more feasible tp,tn pairs left\n",
      "2023-11-03 07:59:01,904:INFO:constructing final tp, tn pair set\n",
      "2023-11-03 07:59:01,905:INFO:final number of intervals: 0\n",
      "2023-11-03 07:59:01,906:INFO:final number of pairs: 0\n",
      "2023-11-03 07:59:01,907:INFO:Use this function if the scores originate from the tp and tn statistics calculated on one test set with no aggregation of any kind.\n",
      "2023-11-03 07:59:01,908:INFO:calling the score check with scores {'acc': 0.9633, 'sens': 0.7406, 'spec': 0.9849}, uncertainty 0.0001, p 29440 and n 300520\n",
      "2023-11-03 07:59:01,909:INFO:checking the scores {'acc': 0.9633, 'sens': 0.7406, 'spec': 0.9849}\n",
      "2023-11-03 07:59:01,911:INFO:evaluating the tp and tn solution for acc and sens\n",
      "2023-11-03 07:59:01,918:INFO:intervals before: (0, 29440), (0, 300520)\n",
      "2023-11-03 07:59:01,920:INFO:the tp solutions: (21800.26112, 21806.266880000003)\n",
      "2023-11-03 07:59:01,921:INFO:the tn solutions: (296010.5452, 296083.86280000006)\n",
      "2023-11-03 07:59:01,923:INFO:intervals after: [(21801, 21806)], [(296011, 296083)]\n",
      "2023-11-03 07:59:01,924:INFO:evaluating the tp and tn solution for acc and spec\n",
      "2023-11-03 07:59:01,925:INFO:intervals before: [(21801, 21806)], [(296011, 296083)]\n",
      "2023-11-03 07:59:01,926:INFO:the tp solutions: (21804.011040000012, 21932.62896000006)\n",
      "2023-11-03 07:59:01,927:INFO:the tn solutions: (295951.49496, 296012.80104)\n",
      "2023-11-03 07:59:01,931:INFO:intervals after: [(21805, 21806)], [(296011, 296012)]\n",
      "2023-11-03 07:59:01,933:INFO:evaluating the tp and tn solution for sens and spec\n",
      "2023-11-03 07:59:01,935:INFO:intervals before: [(21805, 21806)], [(296011, 296012)]\n",
      "2023-11-03 07:59:01,936:INFO:the tp solutions: (21800.26112, 21806.266880000003)\n",
      "2023-11-03 07:59:01,939:INFO:the tn solutions: (295951.49496, 296012.80104)\n",
      "2023-11-03 07:59:01,941:INFO:intervals after: [(21805, 21806)], [(296011, 296012)]\n",
      "2023-11-03 07:59:01,942:INFO:testing acc, feasible tptn pairs: 2\n",
      "2023-11-03 07:59:01,944:INFO:testing sens, feasible tptn pairs: 1\n",
      "2023-11-03 07:59:01,945:INFO:testing spec, feasible tptn pairs: 1\n",
      "2023-11-03 07:59:01,946:INFO:constructing final tp, tn pair set\n",
      "2023-11-03 07:59:01,947:INFO:final number of intervals: 1\n",
      "2023-11-03 07:59:01,948:INFO:final number of pairs: 1\n"
     ]
    }
   ],
   "source": [
    "results = check_drive_vessel_image(scores=scores,\n",
    "                                eps=10**(-k),\n",
    "                                image_identifier=identifier,\n",
    "                                annotator=1)"
   ]
  },
  {
   "cell_type": "code",
   "execution_count": 13,
   "metadata": {},
   "outputs": [
    {
     "data": {
      "text/plain": [
       "{'inconsistency_fov': True, 'inconsistency_all': False}"
      ]
     },
     "execution_count": 13,
     "metadata": {},
     "output_type": "execute_result"
    }
   ],
   "source": [
    "results['inconsistency']"
   ]
  },
  {
   "cell_type": "markdown",
   "metadata": {},
   "source": [
    "As the results show, the scores are inconsistent with the assumption of evaluating the segmentation only in the FoV region, however, the scores are not inconsistent with the assumption of evaluating the method with all pixels."
   ]
  }
 ],
 "metadata": {
  "kernelspec": {
   "display_name": "mlscorecheck",
   "language": "python",
   "name": "python3"
  },
  "language_info": {
   "codemirror_mode": {
    "name": "ipython",
    "version": 3
   },
   "file_extension": ".py",
   "mimetype": "text/x-python",
   "name": "python",
   "nbconvert_exporter": "python",
   "pygments_lexer": "ipython3",
   "version": "3.10.0"
  },
  "orig_nbformat": 4
 },
 "nbformat": 4,
 "nbformat_minor": 2
}
