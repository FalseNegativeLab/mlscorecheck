{
 "cells": [
  {
   "cell_type": "markdown",
   "metadata": {},
   "source": [
    "# Testing the consistency of performance scored reported for the STARE retinal vessel segmentation dataset"
   ]
  },
  {
   "cell_type": "code",
   "execution_count": 1,
   "metadata": {},
   "outputs": [],
   "source": [
    "from mlscorecheck.check.bundles.retina import (check_stare_vessel_image,\n",
    "                                                check_stare_vessel_aggregated)"
   ]
  },
  {
   "cell_type": "markdown",
   "metadata": {},
   "source": [
    "## Aggreagted scores"
   ]
  },
  {
   "cell_type": "code",
   "execution_count": 2,
   "metadata": {},
   "outputs": [],
   "source": [
    "scores = {'acc': 0.4964, 'sens': 0.5793, 'spec': 0.4871, 'bacc': 0.5332}\n",
    "k = 4"
   ]
  },
  {
   "cell_type": "code",
   "execution_count": 3,
   "metadata": {},
   "outputs": [
    {
     "name": "stderr",
     "output_type": "stream",
     "text": [
      "2023-11-03 08:14:16,715:INFO:checking the scores {'acc': 0.4964, 'sens': 0.5793, 'spec': 0.4871, 'bacc': 0.5332}\n",
      "2023-11-03 08:14:16,717:INFO:evaluating the tp and tn solution for acc and sens\n",
      "2023-11-03 08:14:16,718:INFO:intervals before: (0, 644053), (0, 7825947)\n",
      "2023-11-03 08:14:16,719:INFO:the tp solutions: (373034.209494, 373165.5963060001)\n",
      "2023-11-03 08:14:16,720:INFO:the tn solutions: (3830478.4636940006, 3832337.7305060006)\n",
      "2023-11-03 08:14:16,721:INFO:intervals after: [(373035, 373165)], [(3830479, 3832337)]\n",
      "2023-11-03 08:14:16,722:INFO:evaluating the tp and tn solution for acc and spec\n",
      "2023-11-03 08:14:16,723:INFO:intervals before: [(373035, 373165)], [(3830479, 3832337)]\n",
      "2023-11-03 08:14:16,724:INFO:the tp solutions: (390827.0297060008, 394151.4028940005)\n",
      "2023-11-03 08:14:16,725:INFO:the tn solutions: (3811220.537106, 3812817.0302939997)\n",
      "2023-11-03 08:14:16,726:INFO:intervals after: [], []\n",
      "2023-11-03 08:14:16,727:INFO:evaluating the tp and tn solution for acc and bacc\n",
      "2023-11-03 08:14:16,728:INFO:intervals before: [], []\n",
      "2023-11-03 08:14:16,729:INFO:the tp solutions: (371140.476202914, 371581.7663071766)\n",
      "2023-11-03 08:14:16,730:INFO:the tn solutions: (3832062.293692824, 3834231.4637970864)\n",
      "2023-11-03 08:14:16,731:INFO:intervals after: [], []\n",
      "2023-11-03 08:14:16,734:INFO:evaluating the tp and tn solution for sens and spec\n",
      "2023-11-03 08:14:16,736:INFO:intervals before: [], []\n",
      "2023-11-03 08:14:16,737:INFO:the tp solutions: (373034.209494, 373165.5963060001)\n",
      "2023-11-03 08:14:16,738:INFO:the tn solutions: (3811220.537106, 3812817.0302939997)\n",
      "2023-11-03 08:14:16,739:INFO:intervals after: [], []\n",
      "2023-11-03 08:14:16,740:INFO:evaluating the tp and tn solution for sens and bacc\n",
      "2023-11-03 08:14:16,742:INFO:intervals before: [], []\n",
      "2023-11-03 08:14:16,743:INFO:the tp solutions: (373034.209494, 373165.5963060001)\n",
      "2023-11-03 08:14:16,744:INFO:the tn solutions: (3809624.0439179987, 3814413.523482001)\n",
      "2023-11-03 08:14:16,745:INFO:intervals after: [], []\n",
      "2023-11-03 08:14:16,746:INFO:evaluating the tp and tn solution for spec and bacc\n",
      "2023-11-03 08:14:16,747:INFO:intervals before: [], []\n",
      "2023-11-03 08:14:16,748:INFO:the tp solutions: (372902.822682, 373296.98311800003)\n",
      "2023-11-03 08:14:16,749:INFO:the tn solutions: (3811220.537106, 3812817.0302939997)\n",
      "2023-11-03 08:14:16,750:INFO:intervals after: [], []\n",
      "2023-11-03 08:14:16,751:INFO:testing acc, feasible tptn pairs: 0\n",
      "2023-11-03 08:14:16,752:INFO:no more feasible tp,tn pairs left\n",
      "2023-11-03 08:14:16,753:INFO:constructing final tp, tn pair set\n",
      "2023-11-03 08:14:16,754:INFO:final number of intervals: 0\n",
      "2023-11-03 08:14:16,754:INFO:final number of pairs: 0\n"
     ]
    },
    {
     "data": {
      "text/plain": [
       "{'inconsistency_mos': False, 'inconsistency_som': True}"
      ]
     },
     "execution_count": 3,
     "metadata": {},
     "output_type": "execute_result"
    }
   ],
   "source": [
    "results = check_stare_vessel_aggregated(imageset='all',\n",
    "                                        annotator='ah',\n",
    "                                        scores=scores,\n",
    "                                        eps=1e-4,\n",
    "                                        verbosity=0)\n",
    "results['inconsistency']"
   ]
  },
  {
   "cell_type": "markdown",
   "metadata": {},
   "source": [
    "## Image level scores"
   ]
  },
  {
   "cell_type": "code",
   "execution_count": 4,
   "metadata": {},
   "outputs": [],
   "source": [
    "img_identifier = 'im0235'"
   ]
  },
  {
   "cell_type": "code",
   "execution_count": 5,
   "metadata": {},
   "outputs": [],
   "source": [
    "scores = {'acc': 0.4699, 'npv': 0.8993, 'f1p': 0.134}"
   ]
  },
  {
   "cell_type": "code",
   "execution_count": 6,
   "metadata": {},
   "outputs": [
    {
     "name": "stderr",
     "output_type": "stream",
     "text": [
      "2023-11-03 08:14:16,800:INFO:Use this function if the scores originate from the tp and tn statistics calculated on one test set with no aggregation of any kind.\n",
      "2023-11-03 08:14:16,802:INFO:calling the score check with scores {'acc': 0.4699, 'npv': 0.8993, 'f1p': 0.134}, uncertainty 0.0001, p 37701 and n 385799\n",
      "2023-11-03 08:14:16,803:INFO:checking the scores {'acc': 0.4699, 'npv': 0.8993, 'f1p': 0.134}\n",
      "2023-11-03 08:14:16,804:INFO:evaluating the tp and tn solution for acc and npv\n",
      "2023-11-03 08:14:16,806:INFO:intervals before: (0, 37701), (0, 385799)\n",
      "2023-11-03 08:14:16,807:INFO:the tp solutions: (17224.19894829517, 17499.003859606033)\n",
      "2023-11-03 08:14:16,809:INFO:the tn solutions: (181525.47861639896, 181756.76992556825)\n",
      "2023-11-03 08:14:16,810:INFO:intervals after: [(17225, 17499)], [(181526, 181756)]\n",
      "2023-11-03 08:14:16,812:INFO:evaluating the tp and tn solution for acc and f1p\n",
      "2023-11-03 08:14:16,813:INFO:intervals before: [(17225, 17499)], [(181526, 181756)]\n",
      "2023-11-03 08:14:16,815:INFO:the tp solutions: (17350.128609790765, 17387.34610415661)\n",
      "2023-11-03 08:14:16,819:INFO:the tn solutions: (181522.6513884081, 181745.20449418173)\n",
      "2023-11-03 08:14:16,820:INFO:intervals after: [(17351, 17387)], [(181526, 181745)]\n",
      "2023-11-03 08:14:16,822:INFO:evaluating the tp and tn solution for npv and f1p\n",
      "2023-11-03 08:14:16,823:INFO:intervals before: [(17351, 17387)], [(181526, 181745)]\n",
      "2023-11-03 08:14:16,824:INFO:the tp solutions: (17195.366421230152, 17566.700828011573)\n",
      "2023-11-03 08:14:16,825:INFO:the tn solutions: (180009.9078568309, 182954.30415410912)\n",
      "2023-11-03 08:14:16,827:INFO:intervals after: [(17351, 17387)], [(181526, 181745)]\n",
      "2023-11-03 08:14:16,831:INFO:testing acc, feasible tptn pairs: 37\n",
      "2023-11-03 08:14:16,834:INFO:testing npv, feasible tptn pairs: 37\n",
      "2023-11-03 08:14:16,839:INFO:testing f1p, feasible tptn pairs: 37\n",
      "2023-11-03 08:14:16,843:INFO:constructing final tp, tn pair set\n",
      "2023-11-03 08:14:16,846:INFO:final number of intervals: 37\n",
      "2023-11-03 08:14:16,847:INFO:final number of pairs: 2600\n"
     ]
    }
   ],
   "source": [
    "results = check_stare_vessel_image(image_identifier=img_identifier,\n",
    "                                    annotator='ah',\n",
    "                                    scores=scores,\n",
    "                                    eps=1e-4)"
   ]
  },
  {
   "cell_type": "code",
   "execution_count": 7,
   "metadata": {},
   "outputs": [
    {
     "data": {
      "text/plain": [
       "False"
      ]
     },
     "execution_count": 7,
     "metadata": {},
     "output_type": "execute_result"
    }
   ],
   "source": [
    "results['inconsistency']"
   ]
  }
 ],
 "metadata": {
  "kernelspec": {
   "display_name": "mlscorecheck",
   "language": "python",
   "name": "python3"
  },
  "language_info": {
   "codemirror_mode": {
    "name": "ipython",
    "version": 3
   },
   "file_extension": ".py",
   "mimetype": "text/x-python",
   "name": "python",
   "nbconvert_exporter": "python",
   "pygments_lexer": "ipython3",
   "version": "3.10.0"
  }
 },
 "nbformat": 4,
 "nbformat_minor": 2
}
