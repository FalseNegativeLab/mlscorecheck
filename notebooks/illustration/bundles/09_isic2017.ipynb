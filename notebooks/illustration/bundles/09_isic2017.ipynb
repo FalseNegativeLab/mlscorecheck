{
 "cells": [
  {
   "cell_type": "markdown",
   "metadata": {},
   "source": [
    "# Testing the performance scores reported for the ISIC2017 dataset"
   ]
  },
  {
   "cell_type": "code",
   "execution_count": 135,
   "metadata": {},
   "outputs": [],
   "source": [
    "import logging"
   ]
  },
  {
   "cell_type": "code",
   "execution_count": 136,
   "metadata": {},
   "outputs": [],
   "source": [
    "from mlscorecheck.check.bundles.skinlesion import check_isic2017"
   ]
  },
  {
   "cell_type": "code",
   "execution_count": 137,
   "metadata": {},
   "outputs": [],
   "source": [
    "logging.getLogger('mlscorecheck').setLevel(logging.ERROR)"
   ]
  },
  {
   "cell_type": "code",
   "execution_count": 138,
   "metadata": {},
   "outputs": [],
   "source": [
    "scores = {'acc': 0.6183, 'sens': 0.4957, 'ppv': 0.2544, 'f1p': 0.3362}"
   ]
  },
  {
   "cell_type": "code",
   "execution_count": 139,
   "metadata": {},
   "outputs": [
    {
     "data": {
      "text/plain": [
       "False"
      ]
     },
     "execution_count": 139,
     "metadata": {},
     "output_type": "execute_result"
    }
   ],
   "source": [
    "results = check_isic2017(target='M',\n",
    "                            against=['SK', 'N'],\n",
    "                            scores=scores,\n",
    "                            eps=1e-4)\n",
    "results['inconsistency']"
   ]
  },
  {
   "cell_type": "markdown",
   "metadata": {},
   "source": [
    "## Power analysis"
   ]
  },
  {
   "cell_type": "code",
   "execution_count": 140,
   "metadata": {},
   "outputs": [],
   "source": [
    "import numpy as np"
   ]
  },
  {
   "cell_type": "code",
   "execution_count": 141,
   "metadata": {},
   "outputs": [
    {
     "name": "stdout",
     "output_type": "stream",
     "text": [
      "................................................................................................................................................................................................................................................................................................................................................................................................................................................................................................................................................................................................................................................................................................................................................................................................................................................................................................................................................................................................................................................................................................................................................................................................................................................................................................................................................................................................................................................................................................................................................................................................................................................................................................................................................................................................................................................................................................................................................................................................................................................................................"
     ]
    }
   ],
   "source": [
    "n_experiments = 2000\n",
    "all_results = []\n",
    "random_state = np.random.RandomState(5)\n",
    "\n",
    "p = 117\n",
    "n = 483\n",
    "\n",
    "for idx in range(n_experiments):\n",
    "    print('.', end='')\n",
    "\n",
    "    tp = random_state.randint(p/2, p + 1)\n",
    "    tn = random_state.randint(n/2, n + 1)\n",
    "\n",
    "    for k in [2, 3, 4]:\n",
    "\n",
    "        acc = (np.round((tp + tn) / (n + p), k))\n",
    "        sens = (np.round(tp / p, k))\n",
    "        spec = (np.round(tn / n, k))\n",
    "\n",
    "        if random_state.randint(2) == 0:\n",
    "            acc += 10**(-k)\n",
    "        else:\n",
    "            acc -= 10**(-k)\n",
    "\n",
    "        scores = {'acc': acc, 'sens': sens, 'spec': spec}\n",
    "        results = check_isic2017(scores=scores, eps=10**(-k)/2, target='M', against=['SK', 'N'])\n",
    "\n",
    "        all_results.append((k, idx, results['inconsistency']))"
   ]
  },
  {
   "cell_type": "code",
   "execution_count": 142,
   "metadata": {},
   "outputs": [],
   "source": [
    "import pandas as pd\n",
    "\n",
    "data = pd.DataFrame(all_results, columns=['k', 'idx', 'flag'])\n",
    "results = data.groupby('k').agg({'flag': 'mean'})\n",
    "import matplotlib.pyplot as plt\n",
    "\n",
    "results.index = [2, 3, 4]"
   ]
  },
  {
   "cell_type": "code",
   "execution_count": 143,
   "metadata": {},
   "outputs": [
    {
     "data": {
      "image/png": "[encoded data removed]",
      "text/plain": [
       "<Figure size 320x320 with 1 Axes>"
      ]
     },
     "metadata": {},
     "output_type": "display_data"
    }
   ],
   "source": [
    "plt.figure(figsize=(3.2, 3.2))\n",
    "plt.style.use('seaborn-v0_8-muted')\n",
    "plt.plot(results.index, results['flag'])\n",
    "plt.scatter(results.index, results['flag'])\n",
    "ax = plt.gca()\n",
    "#ax.set_xscale('log')\n",
    "#ax.set_xticks(results.index, [r'${10^{-2}}/{2}$', r'${10^{-3}}/{2}$', r'${10^{-4}}/{2}$'])\n",
    "ax.set_xticks([2, 3, 4], [2, 3, 4])\n",
    "plt.ylim(0, 1.05)\n",
    "plt.xlabel(r'decimal places reported ($k$)')\n",
    "plt.ylabel(r'power ($1 - \\beta$)')\n",
    "#plt.grid(which='minor')\n",
    "#plt.grid(which='major')\n",
    "for i,j in zip(results.index[:2], results['flag'].iloc[:2], strict=False):\n",
    "    ax.annotate(str(np.round(j, 2)),xy=(i,j), xytext=(i, j - 0.08))\n",
    "ax.annotate(str(np.round(results['flag'].iloc[2], 2)), xy=(results.index[2], results['flag'].iloc[2]), xytext=(results.index[2]-0.13, results['flag'].iloc[2]-0.08))\n",
    "plt.tight_layout()\n",
    "plt.savefig('power-isic2017m.eps')"
   ]
  },
  {
   "cell_type": "code",
   "execution_count": 144,
   "metadata": {},
   "outputs": [
    {
     "name": "stdout",
     "output_type": "stream",
     "text": [
      "................................................................................................................................................................................................................................................................................................................................................................................................................................................................................................................................................................................................................................................................................................................................................................................................................................................................................................................................................................................................................................................................................................................................................................................................................................................................................................................................................................................................................................................................................................................................................................................................................................................................................................................................................................................................................................................................................................................................................................................................................................................................................"
     ]
    }
   ],
   "source": [
    "n_experiments = 2000\n",
    "all_results = []\n",
    "random_state = np.random.RandomState(5)\n",
    "\n",
    "p = 90\n",
    "n = 510\n",
    "\n",
    "for idx in range(n_experiments):\n",
    "    print('.', end='')\n",
    "\n",
    "    tp = random_state.randint(p/2, p + 1)\n",
    "    tn = random_state.randint(n/2, n + 1)\n",
    "\n",
    "    for k in [2, 3, 4]:\n",
    "\n",
    "        acc = (np.round((tp + tn) / (n + p), k))\n",
    "        sens = (np.round(tp / p, k))\n",
    "        spec = (np.round(tn / n, k))\n",
    "\n",
    "        if random_state.randint(2) == 0:\n",
    "            acc += 10**(-k)\n",
    "        else:\n",
    "            acc -= 10**(-k)\n",
    "\n",
    "        scores = {'acc': acc, 'sens': sens, 'spec': spec}\n",
    "        results = check_isic2017(scores=scores, eps=10**(-k)/2, target='SK', against=['M', 'N'])\n",
    "\n",
    "        all_results.append((k, idx, results['inconsistency']))"
   ]
  },
  {
   "cell_type": "code",
   "execution_count": 145,
   "metadata": {},
   "outputs": [],
   "source": [
    "import pandas as pd\n",
    "\n",
    "data = pd.DataFrame(all_results, columns=['k', 'idx', 'flag'])\n",
    "results = data.groupby('k').agg({'flag': 'mean'})\n",
    "import matplotlib.pyplot as plt\n",
    "\n",
    "results.index = [2, 3, 4]"
   ]
  },
  {
   "cell_type": "code",
   "execution_count": 146,
   "metadata": {},
   "outputs": [
    {
     "data": {
      "image/png": "[encoded data removed]",
      "text/plain": [
       "<Figure size 320x320 with 1 Axes>"
      ]
     },
     "metadata": {},
     "output_type": "display_data"
    }
   ],
   "source": [
    "plt.figure(figsize=(3.2, 3.2))\n",
    "plt.style.use('seaborn-v0_8-muted')\n",
    "plt.plot(results.index, results['flag'])\n",
    "plt.scatter(results.index, results['flag'])\n",
    "ax = plt.gca()\n",
    "#ax.set_xscale('log')\n",
    "#ax.set_xticks(results.index, [r'${10^{-2}}/{2}$', r'${10^{-3}}/{2}$', r'${10^{-4}}/{2}$'])\n",
    "ax.set_xticks([2, 3, 4], [2, 3, 4])\n",
    "plt.ylim(0, 1.05)\n",
    "plt.xlabel(r'decimal places reported ($k$)')\n",
    "plt.ylabel(r'power ($1 - \\beta$)')\n",
    "#plt.grid(which='minor')\n",
    "#plt.grid(which='major')\n",
    "for i,j in zip(results.index[:2], results['flag'].iloc[:2], strict=False):\n",
    "    ax.annotate(str(np.round(j, 2)),xy=(i,j), xytext=(i, j - 0.08))\n",
    "ax.annotate(str(np.round(results['flag'].iloc[2], 2)), xy=(results.index[2], results['flag'].iloc[2]), xytext=(results.index[2]-0.13, results['flag'].iloc[2]-0.08))\n",
    "plt.tight_layout()\n",
    "plt.savefig('power-isic2017sk.eps')"
   ]
  },
  {
   "cell_type": "code",
   "execution_count": null,
   "metadata": {},
   "outputs": [],
   "source": []
  }
 ],
 "metadata": {
  "kernelspec": {
   "display_name": "mlscorecheck",
   "language": "python",
   "name": "python3"
  },
  "language_info": {
   "codemirror_mode": {
    "name": "ipython",
    "version": 3
   },
   "file_extension": ".py",
   "mimetype": "text/x-python",
   "name": "python",
   "nbconvert_exporter": "python",
   "pygments_lexer": "ipython3",
   "version": "3.10.13"
  }
 },
 "nbformat": 4,
 "nbformat_minor": 2
}
