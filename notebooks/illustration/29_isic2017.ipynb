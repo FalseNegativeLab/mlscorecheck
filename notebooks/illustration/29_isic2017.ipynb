{
 "cells": [
  {
   "cell_type": "markdown",
   "metadata": {},
   "source": [
    "# Testing the performance scores reported for the ISIC2017 dataset"
   ]
  },
  {
   "cell_type": "code",
   "execution_count": 1,
   "metadata": {},
   "outputs": [],
   "source": [
    "from mlscorecheck.bundles.skinlesion import check_isic2017"
   ]
  },
  {
   "cell_type": "code",
   "execution_count": 2,
   "metadata": {},
   "outputs": [],
   "source": [
    "scores = {'acc': 0.6183, 'sens': 0.4957, 'ppv': 0.2544, 'f1p': 0.3362}"
   ]
  },
  {
   "cell_type": "code",
   "execution_count": 3,
   "metadata": {},
   "outputs": [
    {
     "name": "stderr",
     "output_type": "stream",
     "text": [
      "2023-10-26 23:44:15,476:INFO:Use this function if the scores originate from the tp and tn statistics calculated on one test set with no aggregation of any kind.\n",
      "2023-10-26 23:44:15,478:INFO:calling the score check with scores {'acc': 0.6183, 'sens': 0.4957, 'ppv': 0.2544, 'f1p': 0.3362}, uncertainty 0.0001, p 117 and n 483\n",
      "2023-10-26 23:44:15,478:INFO:checking the scores {'acc': 0.6183, 'sens': 0.4957, 'ppv': 0.2544, 'f1p': 0.3362}\n",
      "2023-10-26 23:44:15,479:INFO:evaluating the tp and tn solution for acc and sens\n",
      "2023-10-26 23:44:15,480:INFO:intervals before: (0, 117), (0, 483)\n",
      "2023-10-26 23:44:15,480:INFO:the tp solutions: (57.984966, 58.00883399999999)\n",
      "2023-10-26 23:44:15,481:INFO:the tn solutions: (312.90996599999994, 313.056234)\n",
      "2023-10-26 23:44:15,482:INFO:intervals after: [(58, 58)], [(313, 313)]\n",
      "2023-10-26 23:44:15,483:INFO:evaluating the tp and tn solution for acc and ppv\n",
      "2023-10-26 23:44:15,484:INFO:intervals before: [(58, 58)], [(313, 313)]\n",
      "2023-10-26 23:44:15,485:INFO:the tp solutions: (57.93786563072341, 58.095971377363604)\n",
      "2023-10-26 23:44:15,486:INFO:the tn solutions: (312.4997080154006, 313.4269057132848)\n",
      "2023-10-26 23:44:15,488:INFO:intervals after: [(58, 58)], [(313, 313)]\n",
      "2023-10-26 23:44:15,489:INFO:evaluating the tp and tn solution for acc and f1p\n",
      "2023-10-26 23:44:15,490:INFO:intervals before: [(58, 58)], [(313, 313)]\n",
      "2023-10-26 23:44:15,491:INFO:the tp solutions: (57.95478456338436, 58.03879605061339)\n",
      "2023-10-26 23:44:15,492:INFO:the tn solutions: (312.7528628906073, 313.2136402080464)\n",
      "2023-10-26 23:44:15,492:INFO:intervals after: [(58, 58)], [(313, 313)]\n",
      "2023-10-26 23:44:15,494:INFO:evaluating the tp and tn solution for sens and ppv\n",
      "2023-10-26 23:44:15,495:INFO:intervals before: [(58, 58)], [(313, 313)]\n",
      "2023-10-26 23:44:15,496:INFO:the tp solutions: (57.984966, 58.00883399999999)\n",
      "2023-10-26 23:44:15,496:INFO:the tn solutions: (312.6205722700333, 313.4230873646981)\n",
      "2023-10-26 23:44:15,497:INFO:intervals after: [(58, 58)], [(313, 313)]\n",
      "2023-10-26 23:44:15,498:INFO:evaluating the tp and tn solution for sens and f1p\n",
      "2023-10-26 23:44:15,499:INFO:intervals before: [(58, 58)], [(313, 313)]\n",
      "2023-10-26 23:44:15,500:INFO:the tp solutions: (57.984966, 58.00883399999999)\n",
      "2023-10-26 23:44:15,501:INFO:the tn solutions: (312.605227154962, 313.3602547229319)\n",
      "2023-10-26 23:44:15,503:INFO:intervals after: [(58, 58)], [(313, 313)]\n",
      "2023-10-26 23:44:15,504:INFO:evaluating the tp and tn solution for ppv and f1p\n",
      "2023-10-26 23:44:15,506:INFO:intervals before: [(58, 58)], [(313, 313)]\n",
      "2023-10-26 23:44:15,507:INFO:the tp solutions: (57.83419173925718, 58.121438922237544)\n",
      "2023-10-26 23:44:15,507:INFO:the tn solutions: (311.5597304712854, 314.6024074992048)\n",
      "2023-10-26 23:44:15,508:INFO:intervals after: [(58, 58)], [(313, 313)]\n",
      "2023-10-26 23:44:15,510:INFO:testing acc, feasible tptn pairs: 1\n",
      "2023-10-26 23:44:15,511:INFO:testing sens, feasible tptn pairs: 1\n",
      "2023-10-26 23:44:15,512:INFO:testing ppv, feasible tptn pairs: 1\n",
      "2023-10-26 23:44:15,513:INFO:testing f1p, feasible tptn pairs: 1\n",
      "2023-10-26 23:44:15,514:INFO:constructing final tp, tn pair set\n",
      "2023-10-26 23:44:15,515:INFO:final number of intervals: 1\n",
      "2023-10-26 23:44:15,516:INFO:final number of pairs: 1\n"
     ]
    },
    {
     "data": {
      "text/plain": [
       "False"
      ]
     },
     "execution_count": 3,
     "metadata": {},
     "output_type": "execute_result"
    }
   ],
   "source": [
    "results = check_isic2017(target='M',\n",
    "                            against=['SK', 'N'],\n",
    "                            scores=scores,\n",
    "                            eps=1e-4)\n",
    "results['inconsistency']"
   ]
  },
  {
   "cell_type": "code",
   "execution_count": null,
   "metadata": {},
   "outputs": [],
   "source": []
  }
 ],
 "metadata": {
  "kernelspec": {
   "display_name": "mlscorecheck",
   "language": "python",
   "name": "python3"
  },
  "language_info": {
   "codemirror_mode": {
    "name": "ipython",
    "version": 3
   },
   "file_extension": ".py",
   "mimetype": "text/x-python",
   "name": "python",
   "nbconvert_exporter": "python",
   "pygments_lexer": "ipython3",
   "version": "3.10.0"
  }
 },
 "nbformat": 4,
 "nbformat_minor": 2
}
