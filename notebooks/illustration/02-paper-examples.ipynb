{
 "cells": [
  {
   "cell_type": "code",
   "execution_count": 2,
   "metadata": {},
   "outputs": [],
   "source": [
    "from mlscorecheck.check.binary import check_1_testset_no_kfold\n",
    "from mlscorecheck.scores import calculate_scores"
   ]
  },
  {
   "cell_type": "code",
   "execution_count": 6,
   "metadata": {},
   "outputs": [],
   "source": [
    "testset = {'p': 100, 'n': 1000}"
   ]
  },
  {
   "cell_type": "code",
   "execution_count": 14,
   "metadata": {},
   "outputs": [
    {
     "data": {
      "text/plain": [
       "{'acc': 0.8464, 'sens': 0.81, 'f1p': 0.4894}"
      ]
     },
     "execution_count": 14,
     "metadata": {},
     "output_type": "execute_result"
    }
   ],
   "source": [
    "#evaluation = {'tp': 81, 'tn': 850}\n",
    "calculate_scores(testset | evaluation, rounding_decimals=4, subset=['acc', 'sens', 'f1p'])"
   ]
  },
  {
   "cell_type": "code",
   "execution_count": 8,
   "metadata": {},
   "outputs": [],
   "source": [
    "scores = {'acc': 0.8464, 'sens': 0.81, 'f1': 0.4894}"
   ]
  },
  {
   "cell_type": "code",
   "execution_count": 9,
   "metadata": {},
   "outputs": [
    {
     "name": "stderr",
     "output_type": "stream",
     "text": [
      "2023-11-11 07:22:58,691:INFO:Use this function if the scores originate from the tp and tn statistics calculated on one test set with no aggregation of any kind.\n",
      "2023-11-11 07:22:58,693:INFO:calling the score check with scores {'acc': 0.8464, 'sens': 0.81, 'f1': 0.4894}, uncertainty 0.0001, p 100 and n 1000\n",
      "2023-11-11 07:22:58,694:INFO:checking the scores {'acc': 0.8464, 'sens': 0.81, 'f1': 0.4894}\n",
      "2023-11-11 07:22:58,695:INFO:evaluating the tp and tn solution for acc and sens\n",
      "2023-11-11 07:22:58,698:INFO:intervals before: (0, 100), (0, 1000)\n",
      "2023-11-11 07:22:58,699:INFO:the tp solutions: (80.9898, 81.01020000000001)\n",
      "2023-11-11 07:22:58,700:INFO:the tn solutions: (849.9176, 850.1624000000002)\n",
      "2023-11-11 07:22:58,701:INFO:intervals after: [(81, 81)], [(850, 850)]\n",
      "2023-11-11 07:22:58,702:INFO:evaluating the tp and tn solution for acc and f1p\n",
      "2023-11-11 07:22:58,704:INFO:intervals before: [(81, 81)], [(850, 850)]\n",
      "2023-11-11 07:22:58,705:INFO:the tp solutions: (80.8856151379865, 81.05925982511195)\n",
      "2023-11-11 07:22:58,706:INFO:the tn solutions: (849.4215176322002, 850.7139002656231)\n",
      "2023-11-11 07:22:58,707:INFO:intervals after: [(81, 81)], [(850, 850)]\n",
      "2023-11-11 07:22:58,708:INFO:evaluating the tp and tn solution for sens and f1p\n",
      "2023-11-11 07:22:58,709:INFO:intervals before: [(81, 81)], [(850, 850)]\n",
      "2023-11-11 07:22:58,710:INFO:the tp solutions: (80.9898, 81.01020000000001)\n",
      "2023-11-11 07:22:58,710:INFO:the tn solutions: (849.5073506551557, 850.4577065927103)\n",
      "2023-11-11 07:22:58,711:INFO:intervals after: [(81, 81)], [(850, 850)]\n",
      "2023-11-11 07:22:58,713:INFO:testing acc, feasible tptn pairs: 1\n",
      "2023-11-11 07:22:58,714:INFO:testing sens, feasible tptn pairs: 1\n",
      "2023-11-11 07:22:58,714:INFO:testing f1p, feasible tptn pairs: 1\n",
      "2023-11-11 07:22:58,715:INFO:constructing final tp, tn pair set\n",
      "2023-11-11 07:22:58,716:INFO:final number of intervals: 1\n",
      "2023-11-11 07:22:58,718:INFO:final number of pairs: 1\n"
     ]
    },
    {
     "data": {
      "text/plain": [
       "False"
      ]
     },
     "execution_count": 9,
     "metadata": {},
     "output_type": "execute_result"
    }
   ],
   "source": [
    "result = check_1_testset_no_kfold(\n",
    "    testset=testset,\n",
    "    scores=scores,\n",
    "    eps=1e-4\n",
    ")\n",
    "result['inconsistency']"
   ]
  },
  {
   "cell_type": "code",
   "execution_count": 15,
   "metadata": {},
   "outputs": [
    {
     "name": "stderr",
     "output_type": "stream",
     "text": [
      "2023-11-11 07:37:59,007:INFO:Use this function if the scores originate from the tp and tn statistics calculated on one test set with no aggregation of any kind.\n",
      "2023-11-11 07:37:59,009:INFO:calling the score check with scores {'acc': 0.8474, 'sens': 0.81, 'f1': 0.4894}, uncertainty 0.0001, p 100 and n 1000\n",
      "2023-11-11 07:37:59,011:INFO:checking the scores {'acc': 0.8474, 'sens': 0.81, 'f1': 0.4894}\n",
      "2023-11-11 07:37:59,013:INFO:evaluating the tp and tn solution for acc and sens\n",
      "2023-11-11 07:37:59,014:INFO:intervals before: (0, 100), (0, 1000)\n",
      "2023-11-11 07:37:59,015:INFO:the tp solutions: (80.9898, 81.01020000000001)\n",
      "2023-11-11 07:37:59,015:INFO:the tn solutions: (851.0175999999999, 851.2624000000001)\n",
      "2023-11-11 07:37:59,017:INFO:intervals after: [(81, 81)], [(1, 0)]\n",
      "2023-11-11 07:37:59,017:INFO:evaluating the tp and tn solution for acc and f1p\n",
      "2023-11-11 07:37:59,018:INFO:intervals before: [(81, 81)], [(1, 0)]\n",
      "2023-11-11 07:37:59,020:INFO:the tp solutions: (80.3586661540389, 80.53188048180404)\n",
      "2023-11-11 07:37:59,021:INFO:the tn solutions: (851.0482469185552, 852.3414993943171)\n",
      "2023-11-11 07:37:59,021:INFO:intervals after: [], []\n",
      "2023-11-11 07:37:59,022:INFO:evaluating the tp and tn solution for sens and f1p\n",
      "2023-11-11 07:37:59,023:INFO:intervals before: [], []\n",
      "2023-11-11 07:37:59,024:INFO:the tp solutions: (80.9898, 81.01020000000001)\n",
      "2023-11-11 07:37:59,025:INFO:the tn solutions: (849.5073506551557, 850.4577065927103)\n",
      "2023-11-11 07:37:59,025:INFO:intervals after: [], []\n",
      "2023-11-11 07:37:59,026:INFO:testing acc, feasible tptn pairs: 0\n",
      "2023-11-11 07:37:59,027:INFO:no more feasible tp,tn pairs left\n",
      "2023-11-11 07:37:59,028:INFO:constructing final tp, tn pair set\n",
      "2023-11-11 07:37:59,028:INFO:final number of intervals: 0\n",
      "2023-11-11 07:37:59,029:INFO:final number of pairs: 0\n"
     ]
    },
    {
     "data": {
      "text/plain": [
       "True"
      ]
     },
     "execution_count": 15,
     "metadata": {},
     "output_type": "execute_result"
    }
   ],
   "source": [
    "result = check_1_testset_no_kfold(\n",
    "    testset=testset,\n",
    "    scores={'acc': 0.8474, 'sens': 0.81, 'f1': 0.4894},\n",
    "    eps=1e-4\n",
    ")\n",
    "result['inconsistency']"
   ]
  },
  {
   "cell_type": "code",
   "execution_count": 16,
   "metadata": {},
   "outputs": [
    {
     "name": "stderr",
     "output_type": "stream",
     "text": [
      "2023-11-11 07:38:15,150:INFO:Use this function if the scores originate from the tp and tn statistics calculated on one test set with no aggregation of any kind.\n",
      "2023-11-11 07:38:15,151:INFO:calling the score check with scores {'acc': 0.8464, 'sens': 0.81, 'f1': 0.4894}, uncertainty 0.0001, p 110 and n 1000\n",
      "2023-11-11 07:38:15,153:INFO:checking the scores {'acc': 0.8464, 'sens': 0.81, 'f1': 0.4894}\n",
      "2023-11-11 07:38:15,154:INFO:evaluating the tp and tn solution for acc and sens\n",
      "2023-11-11 07:38:15,155:INFO:intervals before: (0, 110), (0, 1000)\n",
      "2023-11-11 07:38:15,156:INFO:the tp solutions: (89.08878, 89.11122000000002)\n",
      "2023-11-11 07:38:15,157:INFO:the tn solutions: (850.27956, 850.52844)\n",
      "2023-11-11 07:38:15,158:INFO:intervals after: [(1, 0)], [(1, 0)]\n",
      "2023-11-11 07:38:15,158:INFO:evaluating the tp and tn solution for acc and f1p\n",
      "2023-11-11 07:38:15,159:INFO:intervals before: [(1, 0)], [(1, 0)]\n",
      "2023-11-11 07:38:15,160:INFO:the tp solutions: (81.6209389119682, 81.79616218715842)\n",
      "2023-11-11 07:38:15,161:INFO:the tn solutions: (857.1435314288566, 858.4476629953106)\n",
      "2023-11-11 07:38:15,164:INFO:intervals after: [], []\n",
      "2023-11-11 07:38:15,165:INFO:evaluating the tp and tn solution for sens and f1p\n",
      "2023-11-11 07:38:15,166:INFO:intervals before: [], []\n",
      "2023-11-11 07:38:15,166:INFO:the tp solutions: (89.08878, 89.11122000000002)\n",
      "2023-11-11 07:38:15,167:INFO:the tn solutions: (834.4997607291492, 835.4617848681991)\n",
      "2023-11-11 07:38:15,167:INFO:intervals after: [], []\n",
      "2023-11-11 07:38:15,169:INFO:testing acc, feasible tptn pairs: 0\n",
      "2023-11-11 07:38:15,170:INFO:no more feasible tp,tn pairs left\n",
      "2023-11-11 07:38:15,171:INFO:constructing final tp, tn pair set\n",
      "2023-11-11 07:38:15,171:INFO:final number of intervals: 0\n",
      "2023-11-11 07:38:15,173:INFO:final number of pairs: 0\n"
     ]
    },
    {
     "data": {
      "text/plain": [
       "True"
      ]
     },
     "execution_count": 16,
     "metadata": {},
     "output_type": "execute_result"
    }
   ],
   "source": [
    "result = check_1_testset_no_kfold(\n",
    "    testset={'p': 110, 'n': 1000},\n",
    "    scores={'acc': 0.8464, 'sens': 0.81, 'f1': 0.4894},\n",
    "    eps=1e-4\n",
    ")\n",
    "result['inconsistency']"
   ]
  },
  {
   "cell_type": "code",
   "execution_count": 17,
   "metadata": {},
   "outputs": [
    {
     "name": "stderr",
     "output_type": "stream",
     "text": [
      "2023-11-11 09:55:18,945:INFO:Use this function if the scores originate from the tp and tn statistics calculated on one test set with no aggregation of any kind.\n",
      "2023-11-11 09:55:18,949:INFO:calling the score check with scores {'acc': 0.7916, 'sens': 0.2933, 'spec': 0.9145}, uncertainty 0.0001, p 75 and n 304\n",
      "2023-11-11 09:55:18,951:INFO:checking the scores {'acc': 0.7916, 'sens': 0.2933, 'spec': 0.9145}\n",
      "2023-11-11 09:55:18,957:INFO:evaluating the tp and tn solution for acc and sens\n",
      "2023-11-11 09:55:18,961:INFO:intervals before: (0, 75), (0, 304)\n",
      "2023-11-11 09:55:18,962:INFO:the tp solutions: (21.98985, 22.00515)\n",
      "2023-11-11 09:55:18,964:INFO:the tn solutions: (277.97259199999996, 278.06520800000004)\n",
      "2023-11-11 09:55:18,965:INFO:intervals after: [(22, 22)], [(278, 278)]\n",
      "2023-11-11 09:55:18,966:INFO:evaluating the tp and tn solution for acc and spec\n",
      "2023-11-11 09:55:18,968:INFO:intervals before: [(22, 22)], [(278, 278)]\n",
      "2023-11-11 09:55:18,970:INFO:the tp solutions: (21.938733999999954, 22.078066000000035)\n",
      "2023-11-11 09:55:18,972:INFO:the tn solutions: (277.976992, 278.039008)\n",
      "2023-11-11 09:55:18,975:INFO:intervals after: [(22, 22)], [(278, 278)]\n",
      "2023-11-11 09:55:18,976:INFO:evaluating the tp and tn solution for sens and spec\n",
      "2023-11-11 09:55:18,978:INFO:intervals before: [(22, 22)], [(278, 278)]\n",
      "2023-11-11 09:55:18,978:INFO:the tp solutions: (21.98985, 22.00515)\n",
      "2023-11-11 09:55:18,979:INFO:the tn solutions: (277.976992, 278.039008)\n",
      "2023-11-11 09:55:18,980:INFO:intervals after: [(22, 22)], [(278, 278)]\n",
      "2023-11-11 09:55:18,983:INFO:testing acc, feasible tptn pairs: 1\n",
      "2023-11-11 09:55:18,985:INFO:testing sens, feasible tptn pairs: 1\n",
      "2023-11-11 09:55:18,986:INFO:testing spec, feasible tptn pairs: 1\n",
      "2023-11-11 09:55:18,990:INFO:constructing final tp, tn pair set\n",
      "2023-11-11 09:55:18,991:INFO:final number of intervals: 1\n",
      "2023-11-11 09:55:18,992:INFO:final number of pairs: 1\n"
     ]
    },
    {
     "data": {
      "text/plain": [
       "False"
      ]
     },
     "execution_count": 17,
     "metadata": {},
     "output_type": "execute_result"
    }
   ],
   "source": [
    "from mlscorecheck.check.bundles.skinlesion import check_isic2016\n",
    "\n",
    "result = check_isic2016(scores={'acc': 0.7916, 'sens': 0.2933, 'spec': 0.9145},\n",
    "                         eps=1e-4)\n",
    "result['inconsistency']"
   ]
  },
  {
   "cell_type": "code",
   "execution_count": 18,
   "metadata": {},
   "outputs": [
    {
     "name": "stderr",
     "output_type": "stream",
     "text": [
      "2023-11-11 09:55:32,969:INFO:Use this function if the scores originate from the tp and tn statistics calculated on one test set with no aggregation of any kind.\n",
      "2023-11-11 09:55:32,971:INFO:calling the score check with scores {'acc': 0.7926, 'sens': 0.2933, 'spec': 0.9145}, uncertainty 0.0001, p 75 and n 304\n",
      "2023-11-11 09:55:32,972:INFO:checking the scores {'acc': 0.7926, 'sens': 0.2933, 'spec': 0.9145}\n",
      "2023-11-11 09:55:32,973:INFO:evaluating the tp and tn solution for acc and sens\n",
      "2023-11-11 09:55:32,975:INFO:intervals before: (0, 75), (0, 304)\n",
      "2023-11-11 09:55:32,975:INFO:the tp solutions: (21.98985, 22.00515)\n",
      "2023-11-11 09:55:32,977:INFO:the tn solutions: (278.351592, 278.444208)\n",
      "2023-11-11 09:55:32,978:INFO:intervals after: [(22, 22)], [(1, 0)]\n",
      "2023-11-11 09:55:32,978:INFO:evaluating the tp and tn solution for acc and spec\n",
      "2023-11-11 09:55:32,979:INFO:intervals before: [(22, 22)], [(1, 0)]\n",
      "2023-11-11 09:55:32,980:INFO:the tp solutions: (22.317733999999973, 22.457065999999998)\n",
      "2023-11-11 09:55:32,981:INFO:the tn solutions: (277.976992, 278.039008)\n",
      "2023-11-11 09:55:32,982:INFO:intervals after: [], []\n",
      "2023-11-11 09:55:32,983:INFO:evaluating the tp and tn solution for sens and spec\n",
      "2023-11-11 09:55:32,984:INFO:intervals before: [], []\n",
      "2023-11-11 09:55:32,985:INFO:the tp solutions: (21.98985, 22.00515)\n",
      "2023-11-11 09:55:32,985:INFO:the tn solutions: (277.976992, 278.039008)\n",
      "2023-11-11 09:55:32,986:INFO:intervals after: [], []\n",
      "2023-11-11 09:55:32,987:INFO:testing acc, feasible tptn pairs: 0\n",
      "2023-11-11 09:55:32,988:INFO:no more feasible tp,tn pairs left\n",
      "2023-11-11 09:55:32,988:INFO:constructing final tp, tn pair set\n",
      "2023-11-11 09:55:32,989:INFO:final number of intervals: 0\n",
      "2023-11-11 09:55:32,989:INFO:final number of pairs: 0\n"
     ]
    },
    {
     "data": {
      "text/plain": [
       "True"
      ]
     },
     "execution_count": 18,
     "metadata": {},
     "output_type": "execute_result"
    }
   ],
   "source": [
    "result = check_isic2016(scores={'acc': 0.7926, 'sens': 0.2933, 'spec': 0.9145},\n",
    "                         eps=1e-4)\n",
    "result['inconsistency']"
   ]
  },
  {
   "cell_type": "code",
   "execution_count": null,
   "metadata": {},
   "outputs": [],
   "source": []
  }
 ],
 "metadata": {
  "kernelspec": {
   "display_name": "mlscorecheck",
   "language": "python",
   "name": "python3"
  },
  "language_info": {
   "codemirror_mode": {
    "name": "ipython",
    "version": 3
   },
   "file_extension": ".py",
   "mimetype": "text/x-python",
   "name": "python",
   "nbconvert_exporter": "python",
   "pygments_lexer": "ipython3",
   "version": "3.10.0"
  }
 },
 "nbformat": 4,
 "nbformat_minor": 2
}
