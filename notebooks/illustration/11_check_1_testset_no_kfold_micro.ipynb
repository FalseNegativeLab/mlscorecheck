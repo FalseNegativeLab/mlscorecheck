{
 "cells": [
  {
   "cell_type": "code",
   "execution_count": 17,
   "metadata": {},
   "outputs": [],
   "source": [
    "from mlscorecheck.check.multiclass import check_1_testset_no_kfold_micro"
   ]
  },
  {
   "cell_type": "code",
   "execution_count": 18,
   "metadata": {},
   "outputs": [],
   "source": [
    "testset = {0: 10, 1: 100, 2: 80}"
   ]
  },
  {
   "cell_type": "code",
   "execution_count": 19,
   "metadata": {},
   "outputs": [],
   "source": [
    "scores = {'acc': 0.5158, 'sens': 0.2737, 'spec': 0.6368,\n",
    "          'bacc': 0.4553, 'ppv': 0.2737, 'npv': 0.6368}"
   ]
  },
  {
   "cell_type": "code",
   "execution_count": 20,
   "metadata": {},
   "outputs": [
    {
     "data": {
      "text/plain": [
       "{'acc': 0.5158,\n",
       " 'sens': 0.2737,\n",
       " 'spec': 0.6368,\n",
       " 'bacc': 0.4553,\n",
       " 'ppv': 0.2737,\n",
       " 'npv': 0.6368}"
      ]
     },
     "execution_count": 20,
     "metadata": {},
     "output_type": "execute_result"
    }
   ],
   "source": [
    "scores"
   ]
  },
  {
   "cell_type": "code",
   "execution_count": 21,
   "metadata": {},
   "outputs": [
    {
     "name": "stderr",
     "output_type": "stream",
     "text": [
      "2023-11-01 12:38:33,653:INFO:testing acc, feasible tptn pairs: 191\n",
      "2023-11-01 12:38:33,658:INFO:testing sens, feasible tptn pairs: 191\n",
      "2023-11-01 12:38:33,659:INFO:testing spec, feasible tptn pairs: 1\n",
      "2023-11-01 12:38:33,660:INFO:testing bacc, feasible tptn pairs: 1\n",
      "2023-11-01 12:38:33,662:INFO:testing npv, feasible tptn pairs: 1\n",
      "2023-11-01 12:38:33,663:INFO:testing ppv, feasible tptn pairs: 1\n",
      "2023-11-01 12:38:33,664:INFO:constructing final tp, tn pair set\n",
      "2023-11-01 12:38:33,666:INFO:final number of intervals: 1\n",
      "2023-11-01 12:38:33,666:INFO:final number of pairs: 1\n"
     ]
    },
    {
     "data": {
      "text/plain": [
       "False"
      ]
     },
     "execution_count": 21,
     "metadata": {},
     "output_type": "execute_result"
    }
   ],
   "source": [
    "results = check_1_testset_no_kfold_micro(testset=testset,\n",
    "                                            scores=scores,\n",
    "                                            eps=1e-4)\n",
    "results['inconsistency']"
   ]
  },
  {
   "cell_type": "code",
   "execution_count": 22,
   "metadata": {},
   "outputs": [],
   "source": [
    "scores['acc'] = (1.0 + scores['spec']) / 2.0"
   ]
  },
  {
   "cell_type": "code",
   "execution_count": 23,
   "metadata": {},
   "outputs": [
    {
     "data": {
      "text/plain": [
       "0.8184"
      ]
     },
     "execution_count": 23,
     "metadata": {},
     "output_type": "execute_result"
    }
   ],
   "source": [
    "scores['acc']"
   ]
  },
  {
   "cell_type": "code",
   "execution_count": null,
   "metadata": {},
   "outputs": [],
   "source": [
    "results = check_1_testset_no_kfold_micro(testset=testset,\n",
    "                                            scores=scores,\n",
    "                                            eps=1e-4)\n",
    "results['inconsistency']"
   ]
  },
  {
   "cell_type": "code",
   "execution_count": null,
   "metadata": {},
   "outputs": [],
   "source": []
  }
 ],
 "metadata": {
  "kernelspec": {
   "display_name": "mlscorecheck",
   "language": "python",
   "name": "python3"
  },
  "language_info": {
   "codemirror_mode": {
    "name": "ipython",
    "version": 3
   },
   "file_extension": ".py",
   "mimetype": "text/x-python",
   "name": "python",
   "nbconvert_exporter": "python",
   "pygments_lexer": "ipython3",
   "version": "3.10.0"
  }
 },
 "nbformat": 4,
 "nbformat_minor": 2
}
