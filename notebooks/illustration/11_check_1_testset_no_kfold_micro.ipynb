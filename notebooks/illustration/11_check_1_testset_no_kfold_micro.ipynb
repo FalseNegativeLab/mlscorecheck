{
 "cells": [
  {
   "cell_type": "code",
   "execution_count": 1,
   "metadata": {},
   "outputs": [],
   "source": [
    "from mlscorecheck.check.multiclass import check_1_testset_no_kfold_micro"
   ]
  },
  {
   "cell_type": "code",
   "execution_count": 2,
   "metadata": {},
   "outputs": [],
   "source": [
    "testset = {0: 10, 1: 100, 2: 80}"
   ]
  },
  {
   "cell_type": "code",
   "execution_count": 3,
   "metadata": {},
   "outputs": [],
   "source": [
    "scores = {'acc': 0.5158, 'sens': 0.2737, 'spec': 0.6368,\n",
    "          'bacc': 0.4553, 'ppv': 0.2737, 'npv': 0.6368}"
   ]
  },
  {
   "cell_type": "code",
   "execution_count": 5,
   "metadata": {},
   "outputs": [
    {
     "name": "stderr",
     "output_type": "stream",
     "text": [
      "2023-11-01 12:41:04,041:INFO:testing acc, feasible tptn pairs: 191\n",
      "2023-11-01 12:41:04,054:INFO:testing sens, feasible tptn pairs: 191\n",
      "2023-11-01 12:41:04,060:INFO:testing spec, feasible tptn pairs: 1\n",
      "2023-11-01 12:41:04,063:INFO:testing bacc, feasible tptn pairs: 1\n",
      "2023-11-01 12:41:04,065:INFO:testing npv, feasible tptn pairs: 1\n",
      "2023-11-01 12:41:04,067:INFO:testing ppv, feasible tptn pairs: 1\n",
      "2023-11-01 12:41:04,068:INFO:constructing final tp, tn pair set\n",
      "2023-11-01 12:41:04,070:INFO:final number of intervals: 1\n",
      "2023-11-01 12:41:04,072:INFO:final number of pairs: 1\n"
     ]
    },
    {
     "data": {
      "text/plain": [
       "False"
      ]
     },
     "execution_count": 5,
     "metadata": {},
     "output_type": "execute_result"
    }
   ],
   "source": [
    "results = check_1_testset_no_kfold_micro(testset=testset,\n",
    "                                            scores=scores,\n",
    "                                            eps=1e-4)\n",
    "results['inconsistency']"
   ]
  },
  {
   "cell_type": "code",
   "execution_count": 6,
   "metadata": {},
   "outputs": [],
   "source": [
    "scores['acc'] = (1.0 + scores['spec']) / 2.0"
   ]
  },
  {
   "cell_type": "code",
   "execution_count": 7,
   "metadata": {},
   "outputs": [
    {
     "data": {
      "text/plain": [
       "0.8184"
      ]
     },
     "execution_count": 7,
     "metadata": {},
     "output_type": "execute_result"
    }
   ],
   "source": [
    "scores['acc']"
   ]
  },
  {
   "cell_type": "code",
   "execution_count": 8,
   "metadata": {},
   "outputs": [
    {
     "name": "stderr",
     "output_type": "stream",
     "text": [
      "2023-11-01 12:41:04,174:INFO:testing acc, feasible tptn pairs: 191\n",
      "2023-11-01 12:41:04,194:INFO:no more feasible tp,tn pairs left\n",
      "2023-11-01 12:41:04,197:INFO:constructing final tp, tn pair set\n",
      "2023-11-01 12:41:04,198:INFO:final number of intervals: 0\n",
      "2023-11-01 12:41:04,201:INFO:final number of pairs: 0\n"
     ]
    },
    {
     "data": {
      "text/plain": [
       "True"
      ]
     },
     "execution_count": 8,
     "metadata": {},
     "output_type": "execute_result"
    }
   ],
   "source": [
    "results = check_1_testset_no_kfold_micro(testset=testset,\n",
    "                                            scores=scores,\n",
    "                                            eps=1e-4)\n",
    "results['inconsistency']"
   ]
  },
  {
   "cell_type": "code",
   "execution_count": null,
   "metadata": {},
   "outputs": [],
   "source": []
  }
 ],
 "metadata": {
  "kernelspec": {
   "display_name": "mlscorecheck",
   "language": "python",
   "name": "python3"
  },
  "language_info": {
   "codemirror_mode": {
    "name": "ipython",
    "version": 3
   },
   "file_extension": ".py",
   "mimetype": "text/x-python",
   "name": "python",
   "nbconvert_exporter": "python",
   "pygments_lexer": "ipython3",
   "version": "3.10.0"
  }
 },
 "nbformat": 4,
 "nbformat_minor": 2
}
