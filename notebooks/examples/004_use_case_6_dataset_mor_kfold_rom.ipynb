{
 "cells": [
  {
   "cell_type": "code",
   "execution_count": 1,
   "metadata": {},
   "outputs": [],
   "source": [
    "import numpy as np\n",
    "\n",
    "from mlscorecheck.check import (check_multiple_dataset_mor_kfold_rom_scores,\n",
    "                                check_multiple_dataset_mor_scores)\n",
    "\n",
    "from mlscorecheck.core import (score_functions_with_solutions,\n",
    "                                load_solutions,\n",
    "                                Interval,\n",
    "                                IntervalUnion)\n",
    "\n",
    "from mlscorecheck.utils import (generate_problem,\n",
    "                                generate_n_problems,\n",
    "                                calculate_scores_rom,\n",
    "                                calculate_scores_mor,\n",
    "                                generate_folding_problem,\n",
    "                                calculate_all_scores)\n"
   ]
  },
  {
   "cell_type": "code",
   "execution_count": 2,
   "metadata": {},
   "outputs": [],
   "source": [
    "k = 4\n",
    "eps = 10**(-k)"
   ]
  },
  {
   "cell_type": "code",
   "execution_count": 3,
   "metadata": {},
   "outputs": [],
   "source": [
    "foldings, problems = [], []"
   ]
  },
  {
   "cell_type": "code",
   "execution_count": 4,
   "metadata": {},
   "outputs": [],
   "source": [
    "for idx in range(5):\n",
    "    folding, problem = generate_folding_problem(n_repeats=idx+1)\n",
    "    foldings.append(folding)\n",
    "    problems.append(problem)"
   ]
  },
  {
   "cell_type": "code",
   "execution_count": 5,
   "metadata": {},
   "outputs": [
    {
     "data": {
      "text/plain": [
       "[{'p': 831, 'n': 888, 'n_folds': 5, 'n_repeats': 1},\n",
       " {'p': 628, 'n': 938, 'n_folds': 5, 'n_repeats': 2},\n",
       " {'p': 175, 'n': 8, 'n_folds': 5, 'n_repeats': 3},\n",
       " {'p': 91, 'n': 926, 'n_folds': 5, 'n_repeats': 4},\n",
       " {'p': 105, 'n': 838, 'n_folds': 5, 'n_repeats': 5}]"
      ]
     },
     "execution_count": 5,
     "metadata": {},
     "output_type": "execute_result"
    }
   ],
   "source": [
    "problems"
   ]
  },
  {
   "cell_type": "code",
   "execution_count": 6,
   "metadata": {},
   "outputs": [],
   "source": [
    "rom_scores = [calculate_scores_rom(folding) for folding in foldings]"
   ]
  },
  {
   "cell_type": "code",
   "execution_count": 7,
   "metadata": {},
   "outputs": [],
   "source": [
    "scores = {'acc': np.mean([score['acc'] for score in rom_scores]),\n",
    "            'bacc': np.mean([score['bacc'] for score in rom_scores]),\n",
    "            'sens': np.mean([score['sens'] for score in rom_scores]),\n",
    "            'spec': np.mean([score['spec'] for score in rom_scores])}"
   ]
  },
  {
   "cell_type": "code",
   "execution_count": 8,
   "metadata": {},
   "outputs": [
    {
     "data": {
      "text/plain": [
       "{'acc': 0.5419622585173322,\n",
       " 'bacc': 0.5100798724934068,\n",
       " 'sens': 0.5397109570126655,\n",
       " 'spec': 0.48044878797414825}"
      ]
     },
     "execution_count": 8,
     "metadata": {},
     "output_type": "execute_result"
    }
   ],
   "source": [
    "scores"
   ]
  },
  {
   "cell_type": "code",
   "execution_count": 9,
   "metadata": {},
   "outputs": [
    {
     "name": "stdout",
     "output_type": "stream",
     "text": [
      "[{'p': 831, 'n': 888, 'score_bounds': None, 'tptn_bounds': None}, {'p': 1256, 'n': 1876, 'score_bounds': None, 'tptn_bounds': None}, {'p': 525, 'n': 24, 'score_bounds': None, 'tptn_bounds': None}, {'p': 364, 'n': 3704, 'score_bounds': None, 'tptn_bounds': None}, {'p': 525, 'n': 4190, 'score_bounds': None, 'tptn_bounds': None}]\n",
      "Welcome to the CBC MILP Solver \n",
      "Version: 2.10.3 \n",
      "Build Date: Dec 15 2019 \n",
      "\n",
      "command line - /home/gykovacs/anaconda3/envs/mlscorecheck/lib/python3.10/site-packages/pulp/solverdir/cbc/linux/64/cbc /tmp/3a76abe5845d4efc92b9b0c384cc64f7-pulp.mps timeMode elapsed branch printingOptions all solution /tmp/3a76abe5845d4efc92b9b0c384cc64f7-pulp.sol (default strategy 1)\n",
      "At line 2 NAME          MODEL\n",
      "At line 3 ROWS\n",
      "At line 13 COLUMNS\n",
      "At line 95 RHS\n",
      "At line 104 BOUNDS\n",
      "At line 115 ENDATA\n",
      "Problem MODEL has 8 rows, 10 columns and 60 elements\n",
      "Coin0008I MODEL read with 0 errors\n",
      "Option for timeMode changed from cpu to elapsed\n",
      "Continuous objective value is 0 - 0.00 seconds\n",
      "Cgl0004I processed model has 8 rows, 10 columns (10 integer (0 of which binary)) and 60 elements\n",
      "Cutoff increment increased from 1e-05 to 0.9999\n",
      "Cbc0012I Integer solution of 0 found by DiveCoefficient after 0 iterations and 0 nodes (0.00 seconds)\n",
      "Cbc0001I Search completed - best objective 0, took 0 iterations and 0 nodes (0.00 seconds)\n",
      "Cbc0035I Maximum depth 0, 0 variables fixed on reduced cost\n",
      "Cuts at root node changed objective from 0 to 0\n",
      "Probing was tried 0 times and created 0 cuts of which 0 were active after adding rounds of cuts (0.000 seconds)\n",
      "Gomory was tried 0 times and created 0 cuts of which 0 were active after adding rounds of cuts (0.000 seconds)\n",
      "Knapsack was tried 0 times and created 0 cuts of which 0 were active after adding rounds of cuts (0.000 seconds)\n",
      "Clique was tried 0 times and created 0 cuts of which 0 were active after adding rounds of cuts (0.000 seconds)\n",
      "MixedIntegerRounding2 was tried 0 times and created 0 cuts of which 0 were active after adding rounds of cuts (0.000 seconds)\n",
      "FlowCover was tried 0 times and created 0 cuts of which 0 were active after adding rounds of cuts (0.000 seconds)\n",
      "TwoMirCuts was tried 0 times and created 0 cuts of which 0 were active after adding rounds of cuts (0.000 seconds)\n",
      "ZeroHalf was tried 0 times and created 0 cuts of which 0 were active after adding rounds of cuts (0.000 seconds)\n",
      "\n",
      "Result - Optimal solution found\n",
      "\n",
      "Objective value:                0.00000000\n",
      "Enumerated nodes:               0\n",
      "Total iterations:               0\n",
      "Time (CPU seconds):             0.00\n",
      "Time (Wallclock seconds):       0.00\n",
      "\n",
      "Option for printingOptions changed from normal to all\n",
      "Total time (CPU seconds):       0.00   (Wallclock seconds):       0.00\n",
      "\n"
     ]
    }
   ],
   "source": [
    "flag, details = check_multiple_dataset_mor_kfold_rom_scores(scores=scores,\n",
    "                                                            eps=eps,\n",
    "                                                            dataset_setup=problems,\n",
    "                                                            return_details=True)"
   ]
  },
  {
   "cell_type": "code",
   "execution_count": 10,
   "metadata": {},
   "outputs": [
    {
     "data": {
      "text/plain": [
       "True"
      ]
     },
     "execution_count": 10,
     "metadata": {},
     "output_type": "execute_result"
    }
   ],
   "source": [
    "flag"
   ]
  },
  {
   "cell_type": "code",
   "execution_count": 11,
   "metadata": {},
   "outputs": [
    {
     "data": {
      "text/plain": [
       "{'overall_consistency': True,\n",
       " 'configuration': [{'p': 831, 'n': 888, 'tn': 0.0, 'tp': 0.0},\n",
       "  {'p': 1256, 'n': 1876, 'tn': 1876.0, 'tp': 1256.0},\n",
       "  {'p': 525, 'n': 24, 'tn': 9.0, 'tp': 367.0},\n",
       "  {'p': 364, 'n': 3704, 'tn': 103.0, 'tp': 0.0},\n",
       "  {'p': 525, 'n': 4190, 'tn': 4189.0, 'tp': 525.0}]}"
      ]
     },
     "execution_count": 11,
     "metadata": {},
     "output_type": "execute_result"
    }
   ],
   "source": [
    "details"
   ]
  },
  {
   "cell_type": "code",
   "execution_count": null,
   "metadata": {},
   "outputs": [],
   "source": []
  }
 ],
 "metadata": {
  "kernelspec": {
   "display_name": "mlscorecheck",
   "language": "python",
   "name": "python3"
  },
  "language_info": {
   "codemirror_mode": {
    "name": "ipython",
    "version": 3
   },
   "file_extension": ".py",
   "mimetype": "text/x-python",
   "name": "python",
   "nbconvert_exporter": "python",
   "pygments_lexer": "ipython3",
   "version": "3.10.0"
  },
  "orig_nbformat": 4
 },
 "nbformat": 4,
 "nbformat_minor": 2
}
