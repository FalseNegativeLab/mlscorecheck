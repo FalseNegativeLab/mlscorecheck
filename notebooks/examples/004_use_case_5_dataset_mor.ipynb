{
 "cells": [
  {
   "cell_type": "code",
   "execution_count": 1,
   "metadata": {},
   "outputs": [],
   "source": [
    "import numpy as np\n",
    "\n",
    "from mlscorecheck.check import (check_multiple_datasets_rom_kfold_rom_scores,\n",
    "                                check_multiple_dataset_mor_scores)\n",
    "\n",
    "from mlscorecheck.core import (score_functions_with_solutions,\n",
    "                                load_solutions,\n",
    "                                Interval,\n",
    "                                IntervalUnion)\n",
    "\n",
    "from mlscorecheck.utils import (generate_problem,\n",
    "                                generate_n_problems,\n",
    "                                calculate_scores_rom,\n",
    "                                calculate_scores_mor,\n",
    "                                generate_folding_problem,\n",
    "                                calculate_all_scores)"
   ]
  },
  {
   "cell_type": "code",
   "execution_count": 2,
   "metadata": {},
   "outputs": [],
   "source": [
    "k = 4\n",
    "eps = 10**(-k)"
   ]
  },
  {
   "cell_type": "code",
   "execution_count": 3,
   "metadata": {},
   "outputs": [],
   "source": [
    "problems = generate_n_problems(5)"
   ]
  },
  {
   "cell_type": "code",
   "execution_count": 4,
   "metadata": {},
   "outputs": [
    {
     "data": {
      "text/plain": [
       "[{'p': 511, 'n': 569, 'tp': 492, 'tn': 435, 'fp': 134, 'fn': 19},\n",
       " {'p': 541, 'n': 829, 'tp': 265, 'tn': 10, 'fp': 819, 'fn': 276},\n",
       " {'p': 535, 'n': 850, 'tp': 343, 'tn': 73, 'fp': 777, 'fn': 192},\n",
       " {'p': 679, 'n': 616, 'tp': 269, 'tn': 145, 'fp': 471, 'fn': 410},\n",
       " {'p': 739, 'n': 616, 'tp': 501, 'tn': 47, 'fp': 569, 'fn': 238}]"
      ]
     },
     "execution_count": 4,
     "metadata": {},
     "output_type": "execute_result"
    }
   ],
   "source": [
    "problems"
   ]
  },
  {
   "cell_type": "code",
   "execution_count": 5,
   "metadata": {},
   "outputs": [],
   "source": [
    "scores = calculate_scores_rom(problems, rounding_decimals=5)"
   ]
  },
  {
   "cell_type": "code",
   "execution_count": 6,
   "metadata": {},
   "outputs": [
    {
     "data": {
      "text/plain": [
       "{'acc': 0.39784,\n",
       " 'sens': 0.6223,\n",
       " 'spec': 0.20402,\n",
       " 'npv': 0.38482,\n",
       " 'ppv': 0.40302,\n",
       " 'bacc': 0.41316,\n",
       " 'f1p': 0.48921,\n",
       " 'fm': 0.5008}"
      ]
     },
     "execution_count": 6,
     "metadata": {},
     "output_type": "execute_result"
    }
   ],
   "source": [
    "scores"
   ]
  },
  {
   "cell_type": "code",
   "execution_count": 7,
   "metadata": {},
   "outputs": [
    {
     "name": "stdout",
     "output_type": "stream",
     "text": [
      "Help on function check_multiple_dataset_mor_scores in module mlscorecheck.check._check_scores:\n",
      "\n",
      "check_multiple_dataset_mor_scores(scores, eps, dataset_setup, *, return_details=False)\n",
      "\n"
     ]
    }
   ],
   "source": [
    "help(check_multiple_dataset_mor_scores)"
   ]
  },
  {
   "cell_type": "code",
   "execution_count": 8,
   "metadata": {},
   "outputs": [
    {
     "name": "stdout",
     "output_type": "stream",
     "text": [
      "Welcome to the CBC MILP Solver \n",
      "Version: 2.10.3 \n",
      "Build Date: Dec 15 2019 \n",
      "\n",
      "command line - /home/gykovacs/anaconda3/envs/mlscorecheck/lib/python3.10/site-packages/pulp/solverdir/cbc/linux/64/cbc /tmp/8b1e5e8e6c034ddf8174d387ec9fb72c-pulp.mps timeMode elapsed branch printingOptions all solution /tmp/8b1e5e8e6c034ddf8174d387ec9fb72c-pulp.sol (default strategy 1)\n",
      "At line 2 NAME          MODEL\n",
      "At line 3 ROWS\n",
      "At line 13 COLUMNS\n",
      "At line 95 RHS\n",
      "At line 104 BOUNDS\n",
      "At line 115 ENDATA\n",
      "Problem MODEL has 8 rows, 10 columns and 60 elements\n",
      "Coin0008I MODEL read with 0 errors\n",
      "Option for timeMode changed from cpu to elapsed\n",
      "Continuous objective value is 0 - 0.00 seconds\n",
      "Cgl0004I processed model has 8 rows, 10 columns (10 integer (0 of which binary)) and 60 elements\n",
      "Cutoff increment increased from 1e-05 to 0.9999\n",
      "Cbc0012I Integer solution of 0 found by DiveCoefficient after 110 iterations and 0 nodes (0.03 seconds)\n",
      "Cbc0031I 3 added rows had average density of 7.6666667\n",
      "Cbc0013I At root node, 3 cuts changed objective from 0 to 0 in 100 passes\n",
      "Cbc0014I Cut generator 0 (Probing) - 0 row cuts average 0.0 elements, 0 column cuts (0 active)  in 0.002 seconds - new frequency is -100\n",
      "Cbc0014I Cut generator 1 (Gomory) - 109 row cuts average 8.9 elements, 0 column cuts (0 active)  in 0.002 seconds - new frequency is -100\n",
      "Cbc0014I Cut generator 2 (Knapsack) - 0 row cuts average 0.0 elements, 0 column cuts (0 active)  in 0.001 seconds - new frequency is -100\n",
      "Cbc0014I Cut generator 3 (Clique) - 0 row cuts average 0.0 elements, 0 column cuts (0 active)  in 0.000 seconds - new frequency is -100\n",
      "Cbc0014I Cut generator 4 (MixedIntegerRounding2) - 2 row cuts average 5.0 elements, 0 column cuts (0 active)  in 0.002 seconds - new frequency is -100\n",
      "Cbc0014I Cut generator 5 (FlowCover) - 0 row cuts average 0.0 elements, 0 column cuts (0 active)  in 0.002 seconds - new frequency is -100\n",
      "Cbc0014I Cut generator 6 (TwoMirCuts) - 9 row cuts average 5.9 elements, 0 column cuts (0 active)  in 0.001 seconds - new frequency is -100\n",
      "Cbc0001I Search completed - best objective 0, took 110 iterations and 0 nodes (0.03 seconds)\n",
      "Cbc0035I Maximum depth 0, 0 variables fixed on reduced cost\n",
      "Cuts at root node changed objective from 0 to 0\n",
      "Probing was tried 100 times and created 0 cuts of which 0 were active after adding rounds of cuts (0.002 seconds)\n",
      "Gomory was tried 100 times and created 109 cuts of which 0 were active after adding rounds of cuts (0.002 seconds)\n",
      "Knapsack was tried 100 times and created 0 cuts of which 0 were active after adding rounds of cuts (0.001 seconds)\n",
      "Clique was tried 100 times and created 0 cuts of which 0 were active after adding rounds of cuts (0.000 seconds)\n",
      "MixedIntegerRounding2 was tried 100 times and created 2 cuts of which 0 were active after adding rounds of cuts (0.002 seconds)\n",
      "FlowCover was tried 100 times and created 0 cuts of which 0 were active after adding rounds of cuts (0.002 seconds)\n",
      "TwoMirCuts was tried 100 times and created 9 cuts of which 0 were active after adding rounds of cuts (0.001 seconds)\n",
      "ZeroHalf was tried 1 times and created 0 cuts of which 0 were active after adding rounds of cuts (0.000 seconds)\n",
      "\n",
      "Result - Optimal solution found\n",
      "\n",
      "Objective value:                0.00000000\n",
      "Enumerated nodes:               0\n",
      "Total iterations:               110\n",
      "Time (CPU seconds):             0.03\n",
      "Time (Wallclock seconds):       0.03\n",
      "\n",
      "Option for printingOptions changed from normal to all\n",
      "Total time (CPU seconds):       0.03   (Wallclock seconds):       0.03\n",
      "\n"
     ]
    }
   ],
   "source": [
    "flag, details = check_multiple_dataset_mor_scores(scores=scores, \n",
    "                                        eps=eps, \n",
    "                                        dataset_setup=problems,\n",
    "                                        return_details=True)"
   ]
  },
  {
   "cell_type": "code",
   "execution_count": 9,
   "metadata": {},
   "outputs": [
    {
     "data": {
      "text/plain": [
       "True"
      ]
     },
     "execution_count": 9,
     "metadata": {},
     "output_type": "execute_result"
    }
   ],
   "source": [
    "flag"
   ]
  },
  {
   "cell_type": "code",
   "execution_count": 10,
   "metadata": {},
   "outputs": [
    {
     "data": {
      "text/plain": [
       "{'overall_consistency': True,\n",
       " 'configuration': [{'p': 511, 'n': 569, 'tn': 0.0, 'tp': 0.0},\n",
       "  {'p': 541, 'n': 829, 'tn': 772.0, 'tp': 541.0},\n",
       "  {'p': 535, 'n': 850, 'tn': 0.0, 'tp': 535.0},\n",
       "  {'p': 679, 'n': 616, 'tn': 0.0, 'tp': 76.0},\n",
       "  {'p': 739, 'n': 616, 'tn': 55.0, 'tp': 739.0}]}"
      ]
     },
     "execution_count": 10,
     "metadata": {},
     "output_type": "execute_result"
    }
   ],
   "source": [
    "details"
   ]
  },
  {
   "cell_type": "code",
   "execution_count": null,
   "metadata": {},
   "outputs": [],
   "source": []
  }
 ],
 "metadata": {
  "kernelspec": {
   "display_name": "mlscorecheck",
   "language": "python",
   "name": "python3"
  },
  "language_info": {
   "codemirror_mode": {
    "name": "ipython",
    "version": 3
   },
   "file_extension": ".py",
   "mimetype": "text/x-python",
   "name": "python",
   "nbconvert_exporter": "python",
   "pygments_lexer": "ipython3",
   "version": "3.10.0"
  },
  "orig_nbformat": 4
 },
 "nbformat": 4,
 "nbformat_minor": 2
}
