{
 "cells": [
  {
   "cell_type": "code",
   "execution_count": 22,
   "metadata": {},
   "outputs": [],
   "source": [
    "import numpy as np\n",
    "\n",
    "from sympy import Symbol\n",
    "\n",
    "from mlscorecheck.core import (accuracy,\n",
    "                               sensitivity,\n",
    "                               specificity,\n",
    "                               negative_predictive_value,\n",
    "                               positive_predictive_value,\n",
    "                               Interval,\n",
    "                               SymbolicInterval)\n",
    "from mlscorecheck.machine_learning import (solve_acc_npv)"
   ]
  },
  {
   "cell_type": "code",
   "execution_count": 6,
   "metadata": {},
   "outputs": [],
   "source": [
    "p = 100\n",
    "n = 200\n",
    "tp = 80\n",
    "tn = 150\n",
    "fn = p - tp\n",
    "fp = n - tn\n",
    "\n",
    "k=4\n",
    "eps=10**(-k)\n",
    "\n",
    "acc = np.round(accuracy(tp=tp, tn=tn, total=p+n), k)\n",
    "sens = np.round(sensitivity(tp=tp, p=p), k)\n",
    "spec = np.round(specificity(tn=tn, n=n), k)\n",
    "ppv = np.round(positive_predictive_value(tp=tp, fp=fp), k)\n",
    "npv = np.round(negative_predictive_value(tn=tn, fn=fn), k)"
   ]
  },
  {
   "cell_type": "code",
   "execution_count": 10,
   "metadata": {},
   "outputs": [],
   "source": [
    "tp_sol, tn_sol = solve_acc_npv(acc=acc, npv=npv, p=p, n=n)"
   ]
  },
  {
   "cell_type": "code",
   "execution_count": 11,
   "metadata": {},
   "outputs": [
    {
     "data": {
      "text/plain": [
       "(80.00892259414226, 150.00107740585776)"
      ]
     },
     "execution_count": 11,
     "metadata": {},
     "output_type": "execute_result"
    }
   ],
   "source": [
    "tp_sol, tn_sol"
   ]
  },
  {
   "cell_type": "code",
   "execution_count": 12,
   "metadata": {},
   "outputs": [],
   "source": [
    "acc_i = Interval(acc - eps, acc + eps)\n",
    "npv_i = Interval(npv - eps, npv + eps)"
   ]
  },
  {
   "cell_type": "code",
   "execution_count": 13,
   "metadata": {},
   "outputs": [],
   "source": [
    "tp_int, tn_int = solve_acc_npv(acc=acc_i, npv=npv_i, p=p, n=n)"
   ]
  },
  {
   "cell_type": "code",
   "execution_count": 15,
   "metadata": {},
   "outputs": [],
   "source": [
    "fp_int = n - tn_int\n",
    "fn_int = p - tp_int"
   ]
  },
  {
   "cell_type": "code",
   "execution_count": 16,
   "metadata": {},
   "outputs": [
    {
     "data": {
      "text/plain": [
       "([79.87105098039216,\n",
       " 80.14687418257911],\n",
       " [149.9102666666667,\n",
       " 150.09194349986925],\n",
       " [49.908056500130755,\n",
       " 50.0897333333333],\n",
       " [19.85312581742089,\n",
       " 20.128949019607845])"
      ]
     },
     "execution_count": 16,
     "metadata": {},
     "output_type": "execute_result"
    }
   ],
   "source": [
    "tp_int, tn_int, fp_int, fn_int"
   ]
  },
  {
   "cell_type": "code",
   "execution_count": 18,
   "metadata": {},
   "outputs": [],
   "source": [
    "ppv_int = positive_predictive_value(tp=tp_int, fp=fp_int)"
   ]
  },
  {
   "cell_type": "code",
   "execution_count": 20,
   "metadata": {},
   "outputs": [
    {
     "data": {
      "text/plain": [
       "([0.6132765011606545,\n",
       " 0.6175637646036938],\n",
       " 0.6154)"
      ]
     },
     "execution_count": 20,
     "metadata": {},
     "output_type": "execute_result"
    }
   ],
   "source": [
    "ppv_int, ppv"
   ]
  },
  {
   "cell_type": "code",
   "execution_count": 23,
   "metadata": {},
   "outputs": [],
   "source": [
    "acc_sym = Symbol('acc')\n",
    "npv_sym = Symbol('npv')\n",
    "eps_sym = Symbol('eps')\n",
    "p_sym = Symbol('p')\n",
    "n_sym = Symbol('n')"
   ]
  },
  {
   "cell_type": "code",
   "execution_count": 24,
   "metadata": {},
   "outputs": [],
   "source": [
    "acc_si = SymbolicInterval(acc_sym - eps_sym, acc_sym + eps_sym)\n",
    "npv_si = SymbolicInterval(npv_sym - eps_sym, npv_sym + eps_sym)"
   ]
  },
  {
   "cell_type": "code",
   "execution_count": 25,
   "metadata": {},
   "outputs": [],
   "source": [
    "tp_si, tn_si = solve_acc_npv(acc=acc_si, npv=npv_si, p=p, n=n)"
   ]
  },
  {
   "cell_type": "code",
   "execution_count": 26,
   "metadata": {},
   "outputs": [
    {
     "data": {
      "text/plain": [
       "8640"
      ]
     },
     "execution_count": 26,
     "metadata": {},
     "output_type": "execute_result"
    }
   ],
   "source": [
    "len(tp_si.intervals)"
   ]
  },
  {
   "cell_type": "code",
   "execution_count": 27,
   "metadata": {},
   "outputs": [
    {
     "data": {
      "text/plain": [
       "720"
      ]
     },
     "execution_count": 27,
     "metadata": {},
     "output_type": "execute_result"
    }
   ],
   "source": [
    "len(tn_si.intervals)"
   ]
  },
  {
   "cell_type": "code",
   "execution_count": 28,
   "metadata": {},
   "outputs": [],
   "source": [
    "subst = {acc_sym: acc, eps_sym: eps, npv_sym: npv}"
   ]
  },
  {
   "cell_type": "code",
   "execution_count": 29,
   "metadata": {},
   "outputs": [
    {
     "data": {
      "text/plain": [
       "[79.8710509803922, 80.1468741825791]"
      ]
     },
     "execution_count": 29,
     "metadata": {},
     "output_type": "execute_result"
    }
   ],
   "source": [
    "tp_si.to_interval_union(subst)"
   ]
  },
  {
   "cell_type": "code",
   "execution_count": 30,
   "metadata": {},
   "outputs": [
    {
     "data": {
      "text/plain": [
       "[149.910266666667, 150.091943499869]"
      ]
     },
     "execution_count": 30,
     "metadata": {},
     "output_type": "execute_result"
    }
   ],
   "source": [
    "tn_si.to_interval_union(subst)"
   ]
  },
  {
   "cell_type": "code",
   "execution_count": null,
   "metadata": {},
   "outputs": [],
   "source": []
  }
 ],
 "metadata": {
  "kernelspec": {
   "display_name": "mlscorecheck",
   "language": "python",
   "name": "python3"
  },
  "language_info": {
   "codemirror_mode": {
    "name": "ipython",
    "version": 3
   },
   "file_extension": ".py",
   "mimetype": "text/x-python",
   "name": "python",
   "nbconvert_exporter": "python",
   "pygments_lexer": "ipython3",
   "version": "3.10.0"
  },
  "orig_nbformat": 4
 },
 "nbformat": 4,
 "nbformat_minor": 2
}
