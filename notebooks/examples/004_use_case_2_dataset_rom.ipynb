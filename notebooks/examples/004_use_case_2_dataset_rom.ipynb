{
 "cells": [
  {
   "cell_type": "code",
   "execution_count": 12,
   "metadata": {},
   "outputs": [],
   "source": [
    "import numpy as np\n",
    "\n",
    "from mlscorecheck.check import (check_multiple_datasets_rom_scores)\n",
    "\n",
    "from mlscorecheck.core import (score_functions_with_solutions,\n",
    "                                load_solutions,\n",
    "                                Interval,\n",
    "                                IntervalUnion)\n",
    "\n",
    "from mlscorecheck.utils import (generate_problem,\n",
    "                                generate_n_problems,\n",
    "                                calculate_scores_rom,\n",
    "                                generate_folding_problem,\n",
    "                                calculate_all_scores)"
   ]
  },
  {
   "cell_type": "code",
   "execution_count": 13,
   "metadata": {},
   "outputs": [],
   "source": [
    "k = 4\n",
    "eps = 10**(-k)"
   ]
  },
  {
   "cell_type": "code",
   "execution_count": 14,
   "metadata": {},
   "outputs": [],
   "source": [
    "problems = []\n",
    "for _ in range(5):\n",
    "    problems.append(generate_problem())"
   ]
  },
  {
   "cell_type": "code",
   "execution_count": 15,
   "metadata": {},
   "outputs": [
    {
     "data": {
      "text/plain": [
       "[{'p': 970, 'n': 392, 'tp': 904, 'tn': 298, 'fp': 94, 'fn': 66},\n",
       " {'p': 599, 'n': 898, 'tp': 241, 'tn': 767, 'fp': 131, 'fn': 358},\n",
       " {'p': 81, 'n': 580, 'tp': 80, 'tn': 82, 'fp': 498, 'fn': 1},\n",
       " {'p': 850, 'n': 238, 'tp': 48, 'tn': 43, 'fp': 195, 'fn': 802},\n",
       " {'p': 409, 'n': 720, 'tp': 130, 'tn': 558, 'fp': 162, 'fn': 279}]"
      ]
     },
     "execution_count": 15,
     "metadata": {},
     "output_type": "execute_result"
    }
   ],
   "source": [
    "problems"
   ]
  },
  {
   "cell_type": "code",
   "execution_count": 16,
   "metadata": {},
   "outputs": [],
   "source": [
    "scores = calculate_scores_rom(problems, rounding_decimals=k)"
   ]
  },
  {
   "cell_type": "code",
   "execution_count": 17,
   "metadata": {},
   "outputs": [
    {
     "name": "stderr",
     "output_type": "stream",
     "text": [
      "2023-08-14 16:51:38,436:INFO:checking acc and sens against spec\n",
      "2023-08-14 16:51:38,438:INFO:checking acc and sens against npv\n",
      "2023-08-14 16:51:38,439:INFO:checking acc and sens against ppv\n",
      "2023-08-14 16:51:38,440:INFO:checking acc and sens against bacc\n",
      "2023-08-14 16:51:38,441:INFO:checking acc and sens against f1p\n",
      "2023-08-14 16:51:38,442:INFO:checking acc and sens against fm\n",
      "2023-08-14 16:51:38,443:INFO:checking acc and spec against sens\n",
      "2023-08-14 16:51:38,443:INFO:checking acc and spec against npv\n",
      "2023-08-14 16:51:38,444:INFO:checking acc and spec against ppv\n",
      "2023-08-14 16:51:38,446:INFO:checking acc and spec against bacc\n",
      "2023-08-14 16:51:38,447:INFO:checking acc and spec against f1p\n",
      "2023-08-14 16:51:38,448:INFO:checking acc and spec against fm\n",
      "2023-08-14 16:51:38,449:INFO:checking acc and npv against sens\n",
      "2023-08-14 16:51:38,451:INFO:checking acc and npv against spec\n",
      "2023-08-14 16:51:38,452:INFO:checking acc and npv against ppv\n",
      "2023-08-14 16:51:38,453:INFO:checking acc and npv against bacc\n",
      "2023-08-14 16:51:38,455:INFO:checking acc and npv against f1p\n",
      "2023-08-14 16:51:38,456:INFO:checking acc and npv against fm\n",
      "2023-08-14 16:51:38,457:INFO:checking acc and ppv against sens\n",
      "2023-08-14 16:51:38,459:INFO:checking acc and ppv against spec\n",
      "2023-08-14 16:51:38,460:INFO:checking acc and ppv against npv\n",
      "2023-08-14 16:51:38,462:INFO:checking acc and ppv against bacc\n",
      "2023-08-14 16:51:38,463:INFO:checking acc and ppv against f1p\n",
      "2023-08-14 16:51:38,464:INFO:checking acc and ppv against fm\n",
      "2023-08-14 16:51:38,465:INFO:checking acc and bacc against sens\n",
      "2023-08-14 16:51:38,466:INFO:checking acc and bacc against spec\n",
      "2023-08-14 16:51:38,467:INFO:checking acc and bacc against npv\n",
      "2023-08-14 16:51:38,468:INFO:checking acc and bacc against ppv\n",
      "2023-08-14 16:51:38,470:INFO:checking acc and bacc against f1p\n",
      "2023-08-14 16:51:38,472:INFO:checking acc and bacc against fm\n",
      "2023-08-14 16:51:38,473:INFO:checking acc and f1p against sens\n",
      "2023-08-14 16:51:38,474:INFO:checking acc and f1p against spec\n",
      "2023-08-14 16:51:38,475:INFO:checking acc and f1p against npv\n",
      "2023-08-14 16:51:38,476:INFO:checking acc and f1p against ppv\n",
      "2023-08-14 16:51:38,477:INFO:checking acc and f1p against bacc\n",
      "2023-08-14 16:51:38,478:INFO:checking acc and f1p against fm\n",
      "2023-08-14 16:51:38,479:INFO:checking acc and fm against sens\n",
      "2023-08-14 16:51:38,481:INFO:checking acc and fm against spec\n",
      "2023-08-14 16:51:38,483:INFO:checking acc and fm against npv\n",
      "2023-08-14 16:51:38,485:INFO:checking acc and fm against ppv\n",
      "2023-08-14 16:51:38,486:INFO:checking acc and fm against bacc\n",
      "2023-08-14 16:51:38,488:INFO:checking acc and fm against f1p\n",
      "2023-08-14 16:51:38,490:INFO:checking sens and spec against acc\n",
      "2023-08-14 16:51:38,491:INFO:checking sens and spec against npv\n",
      "2023-08-14 16:51:38,492:INFO:checking sens and spec against ppv\n",
      "2023-08-14 16:51:38,493:INFO:checking sens and spec against bacc\n",
      "2023-08-14 16:51:38,494:INFO:checking sens and spec against f1p\n",
      "2023-08-14 16:51:38,495:INFO:checking sens and spec against fm\n",
      "2023-08-14 16:51:38,496:INFO:checking sens and npv against acc\n",
      "2023-08-14 16:51:38,497:INFO:checking sens and npv against spec\n",
      "2023-08-14 16:51:38,498:INFO:checking sens and npv against ppv\n",
      "2023-08-14 16:51:38,499:INFO:checking sens and npv against bacc\n",
      "2023-08-14 16:51:38,499:INFO:checking sens and npv against f1p\n",
      "2023-08-14 16:51:38,500:INFO:checking sens and npv against fm\n",
      "2023-08-14 16:51:38,501:INFO:checking sens and ppv against acc\n",
      "2023-08-14 16:51:38,502:INFO:checking sens and ppv against spec\n",
      "2023-08-14 16:51:38,503:INFO:checking sens and ppv against npv\n",
      "2023-08-14 16:51:38,507:INFO:checking sens and ppv against bacc\n",
      "2023-08-14 16:51:38,510:INFO:checking sens and ppv against f1p\n",
      "2023-08-14 16:51:38,511:INFO:checking sens and ppv against fm\n",
      "2023-08-14 16:51:38,512:INFO:checking sens and bacc against acc\n",
      "2023-08-14 16:51:38,513:INFO:checking sens and bacc against spec\n",
      "2023-08-14 16:51:38,516:INFO:checking sens and bacc against npv\n",
      "2023-08-14 16:51:38,517:INFO:checking sens and bacc against ppv\n",
      "2023-08-14 16:51:38,518:INFO:checking sens and bacc against f1p\n",
      "2023-08-14 16:51:38,519:INFO:checking sens and bacc against fm\n",
      "2023-08-14 16:51:38,520:INFO:checking sens and f1p against acc\n",
      "2023-08-14 16:51:38,521:INFO:checking sens and f1p against spec\n",
      "2023-08-14 16:51:38,522:INFO:checking sens and f1p against npv\n",
      "2023-08-14 16:51:38,523:INFO:checking sens and f1p against ppv\n",
      "2023-08-14 16:51:38,524:INFO:checking sens and f1p against bacc\n",
      "2023-08-14 16:51:38,525:INFO:checking sens and f1p against fm\n",
      "2023-08-14 16:51:38,526:INFO:checking sens and fm against acc\n",
      "2023-08-14 16:51:38,526:INFO:checking sens and fm against spec\n",
      "2023-08-14 16:51:38,530:INFO:checking sens and fm against npv\n",
      "2023-08-14 16:51:38,531:INFO:checking sens and fm against ppv\n",
      "2023-08-14 16:51:38,532:INFO:checking sens and fm against bacc\n",
      "2023-08-14 16:51:38,532:INFO:checking sens and fm against f1p\n",
      "2023-08-14 16:51:38,534:INFO:checking spec and npv against acc\n",
      "2023-08-14 16:51:38,534:INFO:checking spec and npv against sens\n",
      "2023-08-14 16:51:38,535:INFO:checking spec and npv against ppv\n",
      "2023-08-14 16:51:38,537:INFO:checking spec and npv against bacc\n",
      "2023-08-14 16:51:38,538:INFO:checking spec and npv against f1p\n",
      "2023-08-14 16:51:38,539:INFO:checking spec and npv against fm\n",
      "2023-08-14 16:51:38,540:INFO:checking spec and ppv against acc\n",
      "2023-08-14 16:51:38,541:INFO:checking spec and ppv against sens\n",
      "2023-08-14 16:51:38,541:INFO:checking spec and ppv against npv\n",
      "2023-08-14 16:51:38,543:INFO:checking spec and ppv against bacc\n",
      "2023-08-14 16:51:38,543:INFO:checking spec and ppv against f1p\n",
      "2023-08-14 16:51:38,545:INFO:checking spec and ppv against fm\n",
      "2023-08-14 16:51:38,546:INFO:checking spec and bacc against acc\n",
      "2023-08-14 16:51:38,546:INFO:checking spec and bacc against sens\n",
      "2023-08-14 16:51:38,547:INFO:checking spec and bacc against npv\n",
      "2023-08-14 16:51:38,548:INFO:checking spec and bacc against ppv\n",
      "2023-08-14 16:51:38,549:INFO:checking spec and bacc against f1p\n",
      "2023-08-14 16:51:38,550:INFO:checking spec and bacc against fm\n",
      "2023-08-14 16:51:38,551:INFO:checking spec and f1p against acc\n",
      "2023-08-14 16:51:38,558:INFO:checking spec and f1p against sens\n",
      "2023-08-14 16:51:38,559:INFO:checking spec and f1p against npv\n",
      "2023-08-14 16:51:38,560:INFO:checking spec and f1p against ppv\n",
      "2023-08-14 16:51:38,561:INFO:checking spec and f1p against bacc\n",
      "2023-08-14 16:51:38,563:INFO:checking spec and f1p against fm\n",
      "2023-08-14 16:51:38,564:INFO:checking spec and fm against acc\n",
      "2023-08-14 16:51:38,565:INFO:checking spec and fm against sens\n",
      "2023-08-14 16:51:38,566:INFO:checking spec and fm against npv\n",
      "2023-08-14 16:51:38,568:INFO:checking spec and fm against ppv\n",
      "2023-08-14 16:51:38,569:INFO:checking spec and fm against bacc\n",
      "2023-08-14 16:51:38,571:INFO:checking spec and fm against f1p\n",
      "2023-08-14 16:51:38,572:INFO:checking npv and ppv against acc\n",
      "2023-08-14 16:51:38,573:INFO:checking npv and ppv against sens\n",
      "2023-08-14 16:51:38,575:INFO:checking npv and ppv against spec\n",
      "2023-08-14 16:51:38,576:INFO:checking npv and ppv against bacc\n",
      "2023-08-14 16:51:38,577:INFO:checking npv and ppv against f1p\n",
      "2023-08-14 16:51:38,578:INFO:checking npv and ppv against fm\n",
      "2023-08-14 16:51:38,579:INFO:checking npv and bacc against acc\n",
      "2023-08-14 16:51:38,582:INFO:checking npv and bacc against sens\n",
      "2023-08-14 16:51:38,583:INFO:checking npv and bacc against spec\n",
      "2023-08-14 16:51:38,584:INFO:checking npv and bacc against ppv\n",
      "2023-08-14 16:51:38,589:INFO:checking npv and bacc against f1p\n",
      "2023-08-14 16:51:38,590:INFO:checking npv and bacc against fm\n",
      "2023-08-14 16:51:38,592:INFO:checking npv and f1p against acc\n",
      "2023-08-14 16:51:38,593:INFO:checking npv and f1p against sens\n",
      "2023-08-14 16:51:38,594:INFO:checking npv and f1p against spec\n",
      "2023-08-14 16:51:38,595:INFO:checking npv and f1p against ppv\n",
      "2023-08-14 16:51:38,596:INFO:checking npv and f1p against bacc\n",
      "2023-08-14 16:51:38,597:INFO:checking npv and f1p against fm\n",
      "2023-08-14 16:51:38,598:INFO:checking npv and fm against acc\n",
      "2023-08-14 16:51:38,600:INFO:checking npv and fm against sens\n",
      "2023-08-14 16:51:38,602:INFO:checking npv and fm against spec\n",
      "2023-08-14 16:51:38,604:INFO:checking npv and fm against ppv\n",
      "2023-08-14 16:51:38,606:INFO:checking npv and fm against bacc\n",
      "2023-08-14 16:51:38,609:INFO:checking npv and fm against f1p\n",
      "2023-08-14 16:51:38,613:INFO:checking ppv and bacc against acc\n",
      "2023-08-14 16:51:38,615:INFO:checking ppv and bacc against sens\n",
      "2023-08-14 16:51:38,616:INFO:checking ppv and bacc against spec\n",
      "2023-08-14 16:51:38,618:INFO:checking ppv and bacc against npv\n",
      "2023-08-14 16:51:38,619:INFO:checking ppv and bacc against f1p\n",
      "2023-08-14 16:51:38,621:INFO:checking ppv and bacc against fm\n",
      "2023-08-14 16:51:38,624:INFO:checking ppv and f1p against acc\n",
      "2023-08-14 16:51:38,625:INFO:checking ppv and f1p against sens\n",
      "2023-08-14 16:51:38,626:INFO:checking ppv and f1p against spec\n",
      "2023-08-14 16:51:38,628:INFO:checking ppv and f1p against npv\n",
      "2023-08-14 16:51:38,629:INFO:checking ppv and f1p against bacc\n",
      "2023-08-14 16:51:38,631:INFO:checking ppv and f1p against fm\n",
      "2023-08-14 16:51:38,633:INFO:checking ppv and fm against acc\n",
      "2023-08-14 16:51:38,634:INFO:checking ppv and fm against sens\n",
      "2023-08-14 16:51:38,635:INFO:checking ppv and fm against spec\n",
      "2023-08-14 16:51:38,636:INFO:checking ppv and fm against npv\n",
      "2023-08-14 16:51:38,637:INFO:checking ppv and fm against bacc\n",
      "2023-08-14 16:51:38,639:INFO:checking ppv and fm against f1p\n",
      "2023-08-14 16:51:38,641:INFO:checking bacc and f1p against acc\n",
      "2023-08-14 16:51:38,644:INFO:checking bacc and f1p against sens\n",
      "2023-08-14 16:51:38,645:INFO:checking bacc and f1p against spec\n",
      "2023-08-14 16:51:38,646:INFO:checking bacc and f1p against npv\n",
      "2023-08-14 16:51:38,648:INFO:checking bacc and f1p against ppv\n",
      "2023-08-14 16:51:38,649:INFO:checking bacc and f1p against fm\n",
      "2023-08-14 16:51:38,650:INFO:checking bacc and fm against acc\n",
      "2023-08-14 16:51:38,651:INFO:checking bacc and fm against sens\n",
      "2023-08-14 16:51:38,653:INFO:checking bacc and fm against spec\n",
      "2023-08-14 16:51:38,656:INFO:checking bacc and fm against npv\n",
      "2023-08-14 16:51:38,658:INFO:checking bacc and fm against ppv\n",
      "2023-08-14 16:51:38,659:INFO:checking bacc and fm against f1p\n",
      "2023-08-14 16:51:38,661:INFO:checking f1p and fm against acc\n",
      "2023-08-14 16:51:38,663:INFO:checking f1p and fm against sens\n",
      "2023-08-14 16:51:38,665:INFO:checking f1p and fm against spec\n",
      "2023-08-14 16:51:38,669:INFO:checking f1p and fm against npv\n",
      "2023-08-14 16:51:38,672:INFO:checking f1p and fm against ppv\n",
      "2023-08-14 16:51:38,674:INFO:checking f1p and fm against bacc\n"
     ]
    }
   ],
   "source": [
    "flag, details = check_multiple_datasets_rom_scores(scores=scores, \n",
    "                                                    eps=eps, \n",
    "                                                    dataset_setup=problems,\n",
    "                                                    return_details=True)"
   ]
  },
  {
   "cell_type": "code",
   "execution_count": 18,
   "metadata": {},
   "outputs": [
    {
     "data": {
      "text/plain": [
       "True"
      ]
     },
     "execution_count": 18,
     "metadata": {},
     "output_type": "execute_result"
    }
   ],
   "source": [
    "flag"
   ]
  },
  {
   "cell_type": "code",
   "execution_count": 19,
   "metadata": {},
   "outputs": [],
   "source": [
    "for tmp in details['succeeded']:\n",
    "    assert tmp['consistency']\n",
    "    for item in tmp['details']:\n",
    "        if item.get('target_interval_reconstructed') is not None and item.get('consistency'):\n",
    "            target_interval = item['target_interval_reconstructed']\n",
    "            iun = IntervalUnion(target_interval)\n",
    "            assert not iun.intersection(IntervalUnion(item['target_interval'])).is_empty()"
   ]
  }
 ],
 "metadata": {
  "kernelspec": {
   "display_name": "mlscorecheck",
   "language": "python",
   "name": "python3"
  },
  "language_info": {
   "codemirror_mode": {
    "name": "ipython",
    "version": 3
   },
   "file_extension": ".py",
   "mimetype": "text/x-python",
   "name": "python",
   "nbconvert_exporter": "python",
   "pygments_lexer": "ipython3",
   "version": "3.10.0"
  },
  "orig_nbformat": 4
 },
 "nbformat": 4,
 "nbformat_minor": 2
}
