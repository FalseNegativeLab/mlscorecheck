{
 "cells": [
  {
   "cell_type": "code",
   "execution_count": 3,
   "metadata": {},
   "outputs": [],
   "source": [
    "import numpy as np\n",
    "\n",
    "from mlscorecheck.check import (check_multiple_datasets_rom_kfold_rom_scores,\n",
    "                                check_kfold_mor_scores)\n",
    "\n",
    "from mlscorecheck.core import (score_functions_with_solutions,\n",
    "                                load_solutions,\n",
    "                                Interval,\n",
    "                                IntervalUnion)\n",
    "\n",
    "from mlscorecheck.utils import (generate_problem,\n",
    "                                generate_n_problems,\n",
    "                                calculate_scores_rom,\n",
    "                                calculate_scores_mor,\n",
    "                                generate_folding_problem,\n",
    "                                calculate_all_scores)"
   ]
  },
  {
   "cell_type": "code",
   "execution_count": 4,
   "metadata": {},
   "outputs": [],
   "source": [
    "k = 4\n",
    "eps = 10**(-k)"
   ]
  },
  {
   "cell_type": "code",
   "execution_count": 8,
   "metadata": {},
   "outputs": [],
   "source": [
    "foldings, problem = generate_folding_problem()"
   ]
  },
  {
   "cell_type": "code",
   "execution_count": 9,
   "metadata": {},
   "outputs": [
    {
     "data": {
      "text/plain": [
       "[{'p': 145, 'n': 44, 'tp': 36, 'tn': 43},\n",
       " {'p': 145, 'n': 44, 'tp': 51, 'tn': 1},\n",
       " {'p': 145, 'n': 44, 'tp': 135, 'tn': 10},\n",
       " {'p': 145, 'n': 44, 'tp': 38, 'tn': 36},\n",
       " {'p': 144, 'n': 45, 'tp': 131, 'tn': 22}]"
      ]
     },
     "execution_count": 9,
     "metadata": {},
     "output_type": "execute_result"
    }
   ],
   "source": [
    "foldings"
   ]
  },
  {
   "cell_type": "code",
   "execution_count": 14,
   "metadata": {},
   "outputs": [
    {
     "data": {
      "text/plain": [
       "{'p': 724, 'n': 221, 'n_folds': 5, 'n_repeats': 1}"
      ]
     },
     "execution_count": 14,
     "metadata": {},
     "output_type": "execute_result"
    }
   ],
   "source": [
    "problem"
   ]
  },
  {
   "cell_type": "code",
   "execution_count": 10,
   "metadata": {},
   "outputs": [],
   "source": [
    "scores = calculate_scores_rom(foldings, rounding_decimals=k)"
   ]
  },
  {
   "cell_type": "code",
   "execution_count": 12,
   "metadata": {},
   "outputs": [
    {
     "data": {
      "text/plain": [
       "{'acc': 0.5323,\n",
       " 'sens': 0.5401,\n",
       " 'spec': 0.5068,\n",
       " 'npv': 0.2517,\n",
       " 'ppv': 0.782,\n",
       " 'bacc': 0.5234,\n",
       " 'f1p': 0.6389,\n",
       " 'fm': 0.6499}"
      ]
     },
     "execution_count": 12,
     "metadata": {},
     "output_type": "execute_result"
    }
   ],
   "source": [
    "scores"
   ]
  },
  {
   "cell_type": "code",
   "execution_count": 15,
   "metadata": {},
   "outputs": [
    {
     "name": "stdout",
     "output_type": "stream",
     "text": [
      "Welcome to the CBC MILP Solver \n",
      "Version: 2.10.3 \n",
      "Build Date: Dec 15 2019 \n",
      "\n",
      "command line - /home/gykovacs/anaconda3/envs/mlscorecheck/lib/python3.10/site-packages/pulp/solverdir/cbc/linux/64/cbc /tmp/857e4a8d5aab46c6adc0ceb1594806bb-pulp.mps timeMode elapsed branch printingOptions all solution /tmp/857e4a8d5aab46c6adc0ceb1594806bb-pulp.sol (default strategy 1)\n",
      "At line 2 NAME          MODEL\n",
      "At line 3 ROWS\n",
      "At line 13 COLUMNS\n",
      "At line 95 RHS\n",
      "At line 104 BOUNDS\n",
      "At line 115 ENDATA\n",
      "Problem MODEL has 8 rows, 10 columns and 60 elements\n",
      "Coin0008I MODEL read with 0 errors\n",
      "Option for timeMode changed from cpu to elapsed\n",
      "Continuous objective value is 0 - 0.01 seconds\n",
      "Cgl0003I 0 fixed, 12 tightened bounds, 0 strengthened rows, 0 substitutions\n",
      "Cgl0003I 0 fixed, 12 tightened bounds, 0 strengthened rows, 0 substitutions\n",
      "Cgl0003I 0 fixed, 12 tightened bounds, 0 strengthened rows, 0 substitutions\n",
      "Cgl0003I 0 fixed, 12 tightened bounds, 0 strengthened rows, 0 substitutions\n",
      "Cgl0003I 0 fixed, 12 tightened bounds, 0 strengthened rows, 0 substitutions\n",
      "Cgl0003I 0 fixed, 13 tightened bounds, 0 strengthened rows, 0 substitutions\n",
      "Cgl0003I 0 fixed, 12 tightened bounds, 0 strengthened rows, 0 substitutions\n",
      "Cgl0003I 0 fixed, 12 tightened bounds, 0 strengthened rows, 0 substitutions\n",
      "Cgl0003I 0 fixed, 12 tightened bounds, 0 strengthened rows, 0 substitutions\n",
      "Cgl0003I 0 fixed, 12 tightened bounds, 0 strengthened rows, 0 substitutions\n",
      "Cgl0003I 0 fixed, 12 tightened bounds, 0 strengthened rows, 0 substitutions\n",
      "Cgl0003I 0 fixed, 12 tightened bounds, 0 strengthened rows, 0 substitutions\n",
      "Cgl0003I 0 fixed, 12 tightened bounds, 0 strengthened rows, 0 substitutions\n",
      "Cgl0003I 0 fixed, 12 tightened bounds, 0 strengthened rows, 0 substitutions\n",
      "Cgl0003I 0 fixed, 8 tightened bounds, 0 strengthened rows, 0 substitutions\n",
      "Cgl0003I 0 fixed, 8 tightened bounds, 0 strengthened rows, 0 substitutions\n",
      "Cgl0003I 0 fixed, 8 tightened bounds, 0 strengthened rows, 0 substitutions\n",
      "Cgl0003I 0 fixed, 8 tightened bounds, 0 strengthened rows, 0 substitutions\n",
      "Cgl0003I 0 fixed, 8 tightened bounds, 0 strengthened rows, 0 substitutions\n",
      "Cgl0003I 0 fixed, 8 tightened bounds, 0 strengthened rows, 0 substitutions\n",
      "Cgl0003I 0 fixed, 8 tightened bounds, 0 strengthened rows, 0 substitutions\n",
      "Cgl0003I 0 fixed, 8 tightened bounds, 0 strengthened rows, 0 substitutions\n",
      "Cgl0004I processed model has 8 rows, 4 columns (4 integer (0 of which binary)) and 24 elements\n",
      "Cbc0038I Initial state - 2 integers unsatisfied sum - 0.519\n",
      "Cbc0038I Solution found of 0\n",
      "Cbc0038I Branch and bound needed to clear up 2 general integers\n",
      "Cbc0038I Full problem 8 rows 4 columns, reduced to 8 rows 4 columns\n",
      "Cbc0038I Cleaned solution of 0\n",
      "Cbc0038I Before mini branch and bound, 2 integers at bound fixed and 0 continuous\n",
      "Cbc0038I Mini branch and bound did not improve solution (0.04 seconds)\n",
      "Cbc0038I After 0.04 seconds - Feasibility pump exiting with objective of 0 - took 0.01 seconds\n",
      "Cbc0012I Integer solution of 0 found by feasibility pump after 0 iterations and 0 nodes (0.04 seconds)\n",
      "Cbc0001I Search completed - best objective 0, took 0 iterations and 0 nodes (0.04 seconds)\n",
      "Cbc0035I Maximum depth 0, 0 variables fixed on reduced cost\n",
      "Cuts at root node changed objective from 0 to 0\n",
      "Probing was tried 0 times and created 0 cuts of which 0 were active after adding rounds of cuts (0.000 seconds)\n",
      "Gomory was tried 0 times and created 0 cuts of which 0 were active after adding rounds of cuts (0.000 seconds)\n",
      "Knapsack was tried 0 times and created 0 cuts of which 0 were active after adding rounds of cuts (0.000 seconds)\n",
      "Clique was tried 0 times and created 0 cuts of which 0 were active after adding rounds of cuts (0.000 seconds)\n",
      "MixedIntegerRounding2 was tried 0 times and created 0 cuts of which 0 were active after adding rounds of cuts (0.000 seconds)\n",
      "FlowCover was tried 0 times and created 0 cuts of which 0 were active after adding rounds of cuts (0.000 seconds)\n",
      "TwoMirCuts was tried 0 times and created 0 cuts of which 0 were active after adding rounds of cuts (0.000 seconds)\n",
      "ZeroHalf was tried 0 times and created 0 cuts of which 0 were active after adding rounds of cuts (0.000 seconds)\n",
      "\n",
      "Result - Optimal solution found\n",
      "\n",
      "Objective value:                0.00000000\n",
      "Enumerated nodes:               0\n",
      "Total iterations:               0\n",
      "Time (CPU seconds):             0.04\n",
      "Time (Wallclock seconds):       0.04\n",
      "\n",
      "Option for printingOptions changed from normal to all\n",
      "Total time (CPU seconds):       0.05   (Wallclock seconds):       0.05\n",
      "\n"
     ]
    }
   ],
   "source": [
    "flag, details = check_kfold_mor_scores(scores=scores, \n",
    "                                        eps=eps, \n",
    "                                        fold_setup=problem,\n",
    "                                        return_details=True)"
   ]
  },
  {
   "cell_type": "code",
   "execution_count": 16,
   "metadata": {},
   "outputs": [
    {
     "data": {
      "text/plain": [
       "True"
      ]
     },
     "execution_count": 16,
     "metadata": {},
     "output_type": "execute_result"
    }
   ],
   "source": [
    "flag"
   ]
  },
  {
   "cell_type": "code",
   "execution_count": 17,
   "metadata": {},
   "outputs": [
    {
     "data": {
      "text/plain": [
       "{'overall_consistency': True,\n",
       " 'configuration': [{'p': 145, 'n': 44, 'tn': 44.0, 'tp': 0.0},\n",
       "  {'p': 145, 'n': 44, 'tn': 44.0, 'tp': 145.0},\n",
       "  {'p': 145, 'n': 44, 'tn': 2.0, 'tp': 145.0},\n",
       "  {'p': 145, 'n': 44, 'tn': 0.0, 'tp': 19.0},\n",
       "  {'p': 144, 'n': 45, 'tn': 22.0, 'tp': 82.0}]}"
      ]
     },
     "execution_count": 17,
     "metadata": {},
     "output_type": "execute_result"
    }
   ],
   "source": [
    "details"
   ]
  },
  {
   "cell_type": "code",
   "execution_count": null,
   "metadata": {},
   "outputs": [],
   "source": []
  }
 ],
 "metadata": {
  "kernelspec": {
   "display_name": "mlscorecheck",
   "language": "python",
   "name": "python3"
  },
  "language_info": {
   "codemirror_mode": {
    "name": "ipython",
    "version": 3
   },
   "file_extension": ".py",
   "mimetype": "text/x-python",
   "name": "python",
   "nbconvert_exporter": "python",
   "pygments_lexer": "ipython3",
   "version": "3.10.0"
  },
  "orig_nbformat": 4
 },
 "nbformat": 4,
 "nbformat_minor": 2
}
