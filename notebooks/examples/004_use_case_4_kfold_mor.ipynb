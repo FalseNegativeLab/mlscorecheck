{
 "cells": [
  {
   "cell_type": "code",
   "execution_count": 59,
   "metadata": {},
   "outputs": [],
   "source": [
    "import numpy as np\n",
    "\n",
    "from mlscorecheck.check import (check_kfold_mor_scores)\n",
    "\n",
    "from mlscorecheck.utils import (generate_problems_with_folds,\n",
    "                                calculate_scores)"
   ]
  },
  {
   "cell_type": "code",
   "execution_count": 60,
   "metadata": {},
   "outputs": [],
   "source": [
    "k = 4\n",
    "eps = 10**(-k)"
   ]
  },
  {
   "cell_type": "code",
   "execution_count": 61,
   "metadata": {},
   "outputs": [],
   "source": [
    "foldings, problem = generate_problems_with_folds(n_repeats=2,\n",
    "                                                    random_seed=5)"
   ]
  },
  {
   "cell_type": "code",
   "execution_count": 62,
   "metadata": {},
   "outputs": [
    {
     "data": {
      "text/plain": [
       "[{'p': 174, 'n': 42, 'tp': 119, 'tn': 17},\n",
       " {'p': 174, 'n': 42, 'tp': 74, 'tn': 9},\n",
       " {'p': 174, 'n': 41, 'tp': 156, 'tn': 31},\n",
       " {'p': 174, 'n': 41, 'tp': 8, 'tn': 13},\n",
       " {'p': 173, 'n': 42, 'tp': 144, 'tn': 40},\n",
       " {'p': 174, 'n': 42, 'tp': 81, 'tn': 28},\n",
       " {'p': 174, 'n': 42, 'tp': 45, 'tn': 14},\n",
       " {'p': 174, 'n': 41, 'tp': 66, 'tn': 31},\n",
       " {'p': 174, 'n': 41, 'tp': 87, 'tn': 19},\n",
       " {'p': 173, 'n': 42, 'tp': 122, 'tn': 10}]"
      ]
     },
     "execution_count": 62,
     "metadata": {},
     "output_type": "execute_result"
    }
   ],
   "source": [
    "foldings"
   ]
  },
  {
   "cell_type": "code",
   "execution_count": 63,
   "metadata": {},
   "outputs": [
    {
     "data": {
      "text/plain": [
       "{'p': 869, 'n': 208, 'n_folds': 5, 'n_repeats': 2}"
      ]
     },
     "execution_count": 63,
     "metadata": {},
     "output_type": "execute_result"
    }
   ],
   "source": [
    "problem"
   ]
  },
  {
   "cell_type": "code",
   "execution_count": 64,
   "metadata": {},
   "outputs": [],
   "source": [
    "scores = calculate_scores(foldings, strategy='mor', rounding_decimals=k)"
   ]
  },
  {
   "cell_type": "code",
   "execution_count": 65,
   "metadata": {},
   "outputs": [
    {
     "data": {
      "text/plain": [
       "{'acc': 0.5173, 'sens': 0.5193, 'spec': 0.5102, 'bacc': 0.5147}"
      ]
     },
     "execution_count": 65,
     "metadata": {},
     "output_type": "execute_result"
    }
   ],
   "source": [
    "scores"
   ]
  },
  {
   "cell_type": "code",
   "execution_count": 66,
   "metadata": {},
   "outputs": [
    {
     "name": "stdout",
     "output_type": "stream",
     "text": [
      "[None, None, None, None, None, None, None, None, None, None]\n",
      "Welcome to the CBC MILP Solver \n",
      "Version: 2.10.3 \n",
      "Build Date: Dec 15 2019 \n",
      "\n",
      "command line - /home/gykovacs/anaconda3/envs/mlscorecheck/lib/python3.10/site-packages/pulp/solverdir/cbc/linux/64/cbc /tmp/95c03643b90f4675ac3c6fdcfc41a2ee-pulp.mps timeMode elapsed branch printingOptions all solution /tmp/95c03643b90f4675ac3c6fdcfc41a2ee-pulp.sol (default strategy 1)\n",
      "At line 2 NAME          MODEL\n",
      "At line 3 ROWS\n",
      "At line 13 COLUMNS\n",
      "At line 175 RHS\n",
      "At line 184 BOUNDS\n",
      "At line 205 ENDATA\n",
      "Problem MODEL has 8 rows, 20 columns and 120 elements\n",
      "Coin0008I MODEL read with 0 errors\n",
      "Option for timeMode changed from cpu to elapsed\n",
      "Continuous objective value is 0 - 0.00 seconds\n",
      "Cgl0004I processed model has 8 rows, 7 columns (7 integer (0 of which binary)) and 42 elements\n",
      "Cutoff increment increased from 1e-05 to 0.9999\n",
      "Cbc0012I Integer solution of 0 found by DiveCoefficient after 16 iterations and 0 nodes (0.02 seconds)\n",
      "Cbc0031I 3 added rows had average density of 3\n",
      "Cbc0013I At root node, 3 cuts changed objective from 0 to 0 in 4 passes\n",
      "Cbc0014I Cut generator 0 (Probing) - 0 row cuts average 0.0 elements, 0 column cuts (0 active)  in 0.000 seconds - new frequency is -100\n",
      "Cbc0014I Cut generator 1 (Gomory) - 9 row cuts average 2.9 elements, 0 column cuts (0 active)  in 0.000 seconds - new frequency is -100\n",
      "Cbc0014I Cut generator 2 (Knapsack) - 0 row cuts average 0.0 elements, 0 column cuts (0 active)  in 0.000 seconds - new frequency is -100\n",
      "Cbc0014I Cut generator 3 (Clique) - 0 row cuts average 0.0 elements, 0 column cuts (0 active)  in 0.000 seconds - new frequency is -100\n",
      "Cbc0014I Cut generator 4 (MixedIntegerRounding2) - 3 row cuts average 3.7 elements, 0 column cuts (0 active)  in 0.000 seconds - new frequency is -100\n",
      "Cbc0014I Cut generator 5 (FlowCover) - 0 row cuts average 0.0 elements, 0 column cuts (0 active)  in 0.000 seconds - new frequency is -100\n",
      "Cbc0014I Cut generator 6 (TwoMirCuts) - 9 row cuts average 2.9 elements, 0 column cuts (0 active)  in 0.000 seconds - new frequency is -100\n",
      "Cbc0001I Search completed - best objective 0, took 16 iterations and 0 nodes (0.02 seconds)\n",
      "Cbc0035I Maximum depth 0, 0 variables fixed on reduced cost\n",
      "Cuts at root node changed objective from 0 to 0\n",
      "Probing was tried 4 times and created 0 cuts of which 0 were active after adding rounds of cuts (0.000 seconds)\n",
      "Gomory was tried 4 times and created 9 cuts of which 0 were active after adding rounds of cuts (0.000 seconds)\n",
      "Knapsack was tried 4 times and created 0 cuts of which 0 were active after adding rounds of cuts (0.000 seconds)\n",
      "Clique was tried 4 times and created 0 cuts of which 0 were active after adding rounds of cuts (0.000 seconds)\n",
      "MixedIntegerRounding2 was tried 4 times and created 3 cuts of which 0 were active after adding rounds of cuts (0.000 seconds)\n",
      "FlowCover was tried 4 times and created 0 cuts of which 0 were active after adding rounds of cuts (0.000 seconds)\n",
      "TwoMirCuts was tried 4 times and created 9 cuts of which 0 were active after adding rounds of cuts (0.000 seconds)\n",
      "ZeroHalf was tried 1 times and created 0 cuts of which 0 were active after adding rounds of cuts (0.000 seconds)\n",
      "\n",
      "Result - Optimal solution found\n",
      "\n",
      "Objective value:                0.00000000\n",
      "Enumerated nodes:               0\n",
      "Total iterations:               16\n",
      "Time (CPU seconds):             0.02\n",
      "Time (Wallclock seconds):       0.02\n",
      "\n",
      "Option for printingOptions changed from normal to all\n",
      "Total time (CPU seconds):       0.02   (Wallclock seconds):       0.02\n",
      "\n"
     ]
    }
   ],
   "source": [
    "flag, details = check_kfold_mor_scores(scores=scores, \n",
    "                                        eps=eps, \n",
    "                                        dataset=problem,\n",
    "                                        return_details=True)"
   ]
  },
  {
   "cell_type": "code",
   "execution_count": 67,
   "metadata": {},
   "outputs": [],
   "source": [
    "assert flag"
   ]
  },
  {
   "cell_type": "code",
   "execution_count": 68,
   "metadata": {},
   "outputs": [
    {
     "data": {
      "text/plain": [
       "[{'p': 174, 'n': 42, 'tn': 42.0, 'tp': 0.0},\n",
       " {'p': 174, 'n': 42, 'tn': 0.0, 'tp': 50.0},\n",
       " {'p': 174, 'n': 41, 'tn': 10.0, 'tp': 174.0},\n",
       " {'p': 174, 'n': 41, 'tn': 41.0, 'tp': 174.0},\n",
       " {'p': 173, 'n': 42, 'tn': 0.0, 'tp': 173.0},\n",
       " {'p': 174, 'n': 42, 'tn': 0.0, 'tp': 0.0},\n",
       " {'p': 174, 'n': 42, 'tn': 36.0, 'tp': 0.0},\n",
       " {'p': 174, 'n': 41, 'tn': 41.0, 'tp': 174.0},\n",
       " {'p': 174, 'n': 41, 'tn': 41.0, 'tp': 86.0},\n",
       " {'p': 173, 'n': 42, 'tn': 0.0, 'tp': 71.0}]"
      ]
     },
     "execution_count": 68,
     "metadata": {},
     "output_type": "execute_result"
    }
   ],
   "source": [
    "details['configuration']"
   ]
  },
  {
   "cell_type": "code",
   "execution_count": 69,
   "metadata": {},
   "outputs": [
    {
     "data": {
      "text/plain": [
       "{'acc': 0.5173987941429802,\n",
       " 'sens': 0.5192013819679756,\n",
       " 'spec': 0.5101045296167248,\n",
       " 'bacc': 0.51465295579235}"
      ]
     },
     "execution_count": 69,
     "metadata": {},
     "output_type": "execute_result"
    }
   ],
   "source": [
    "calculate_scores(details['configuration'], strategy='mor')"
   ]
  },
  {
   "cell_type": "code",
   "execution_count": null,
   "metadata": {},
   "outputs": [],
   "source": []
  },
  {
   "cell_type": "code",
   "execution_count": 86,
   "metadata": {},
   "outputs": [
    {
     "data": {
      "text/plain": [
       "{(0.04597701149425287, 0.896551724137931),\n",
       " (0.07262569832402235, 0.6326530612244898),\n",
       " (0.0761904761904762, 0.9176470588235294),\n",
       " (0.09767441860465116, 0.8697674418604651),\n",
       " (0.10107973914385379, 0.917901184294705),\n",
       " (0.1815250911129801, 0.8923754472887421),\n",
       " (0.21428571428571427, 0.9523809523809523),\n",
       " (0.2222222222222222, 0.9863013698630136),\n",
       " (8, 156),\n",
       " (9, 40),\n",
       " (41, 42),\n",
       " (173, 174)}"
      ]
     },
     "execution_count": 86,
     "metadata": {},
     "output_type": "execute_result"
    }
   ],
   "source": [
    "folding_scores = [calculate_scores(folding, strategy='mor', scores_only=False) for folding in foldings]\n",
    "\n",
    "def score_ranges(folding_scores):\n",
    "    mins = {}\n",
    "    maxs = {}\n",
    "    for folding in folding_scores:\n",
    "        for key, value in folding.items():\n",
    "            mins[key] = min(mins.get(key, np.inf), value)\n",
    "            maxs[key] = max(maxs.get(key, -np.inf), value)\n",
    "    \n",
    "    return {key: (mins[key], maxs[key]) for key in mins}\n",
    "\n",
    "score_rang = score_ranges(folding_scores)\n",
    "\n",
    "score_rang"
   ]
  },
  {
   "cell_type": "code",
   "execution_count": 83,
   "metadata": {},
   "outputs": [
    {
     "data": {
      "text/plain": [
       "{(0.04597701149425287, 0.896551724137931),\n",
       " (0.07262569832402235, 0.6326530612244898),\n",
       " (0.0761904761904762, 0.9176470588235294),\n",
       " (0.09767441860465116, 0.8697674418604651),\n",
       " (0.10107973914385379, 0.917901184294705),\n",
       " (0.1815250911129801, 0.8923754472887421),\n",
       " (0.21428571428571427, 0.9523809523809523),\n",
       " (0.2222222222222222, 0.9863013698630136),\n",
       " (8, 156),\n",
       " (9, 40),\n",
       " (41, 42),\n",
       " (173, 174)}"
      ]
     },
     "execution_count": 83,
     "metadata": {},
     "output_type": "execute_result"
    }
   ],
   "source": [
    "score_rang"
   ]
  },
  {
   "cell_type": "code",
   "execution_count": 84,
   "metadata": {},
   "outputs": [],
   "source": [
    "problem['score_bounds'] = {'acc': (min_accuracy*0.75, 1)}\n",
    "problem['score_bounds'] = {'acc': (0.05, 1)}\n",
    "problem['tptn_bounds'] = {'tp': (50, 10000), 'tn': (50, 10000)}"
   ]
  },
  {
   "cell_type": "code",
   "execution_count": 85,
   "metadata": {},
   "outputs": [
    {
     "name": "stdout",
     "output_type": "stream",
     "text": [
      "[(0.05, 1), (0.05, 1), (0.05, 1), (0.05, 1), (0.05, 1), (0.05, 1), (0.05, 1), (0.05, 1), (0.05, 1), (0.05, 1)]\n",
      "Welcome to the CBC MILP Solver \n",
      "Version: 2.10.3 \n",
      "Build Date: Dec 15 2019 \n",
      "\n",
      "command line - /home/gykovacs/anaconda3/envs/mlscorecheck/lib/python3.10/site-packages/pulp/solverdir/cbc/linux/64/cbc /tmp/f52a7ea3f72647a0ad59aab54078bfab-pulp.mps timeMode elapsed branch printingOptions all solution /tmp/f52a7ea3f72647a0ad59aab54078bfab-pulp.sol (default strategy 1)\n",
      "At line 2 NAME          MODEL\n",
      "At line 3 ROWS\n",
      "At line 73 COLUMNS\n",
      "At line 315 RHS\n",
      "At line 384 BOUNDS\n",
      "At line 405 ENDATA\n",
      "Problem MODEL has 68 rows, 20 columns and 200 elements\n",
      "Coin0008I MODEL read with 0 errors\n",
      "Option for timeMode changed from cpu to elapsed\n",
      "Problem is infeasible - 0.00 seconds\n",
      "Option for printingOptions changed from normal to all\n",
      "Total time (CPU seconds):       0.00   (Wallclock seconds):       0.00\n",
      "\n"
     ]
    }
   ],
   "source": [
    "flag, details = check_kfold_mor_scores(scores=scores, \n",
    "                                        eps=eps, \n",
    "                                        dataset=problem,\n",
    "                                        return_details=True)"
   ]
  },
  {
   "cell_type": "code",
   "execution_count": 79,
   "metadata": {},
   "outputs": [],
   "source": [
    "assert flag"
   ]
  },
  {
   "cell_type": "code",
   "execution_count": null,
   "metadata": {},
   "outputs": [],
   "source": []
  },
  {
   "cell_type": "code",
   "execution_count": 38,
   "metadata": {},
   "outputs": [],
   "source": [
    "scores['bacc'] = 0.9"
   ]
  },
  {
   "cell_type": "code",
   "execution_count": 39,
   "metadata": {},
   "outputs": [
    {
     "name": "stdout",
     "output_type": "stream",
     "text": [
      "[(0.5, 1), (0.5, 1), (0.5, 1), (0.5, 1), (0.5, 1), (0.5, 1), (0.5, 1), (0.5, 1), (0.5, 1), (0.5, 1)]\n",
      "Welcome to the CBC MILP Solver \n",
      "Version: 2.10.3 \n",
      "Build Date: Dec 15 2019 \n",
      "\n",
      "command line - /home/gykovacs/anaconda3/envs/mlscorecheck/lib/python3.10/site-packages/pulp/solverdir/cbc/linux/64/cbc /tmp/fc3215d22692423f8547b59dbe64b25b-pulp.mps timeMode elapsed branch printingOptions all solution /tmp/fc3215d22692423f8547b59dbe64b25b-pulp.sol (default strategy 1)\n",
      "At line 2 NAME          MODEL\n",
      "At line 3 ROWS\n",
      "At line 33 COLUMNS\n",
      "At line 235 RHS\n",
      "At line 264 BOUNDS\n",
      "At line 285 ENDATA\n",
      "Problem MODEL has 28 rows, 20 columns and 160 elements\n",
      "Coin0008I MODEL read with 0 errors\n",
      "Option for timeMode changed from cpu to elapsed\n",
      "Problem is infeasible - 0.00 seconds\n",
      "Option for printingOptions changed from normal to all\n",
      "Total time (CPU seconds):       0.00   (Wallclock seconds):       0.00\n",
      "\n"
     ]
    }
   ],
   "source": [
    "flag, details = check_kfold_mor_scores(scores=scores, \n",
    "                                        eps=eps, \n",
    "                                        dataset=problem,\n",
    "                                        return_details=True)"
   ]
  },
  {
   "cell_type": "code",
   "execution_count": 40,
   "metadata": {},
   "outputs": [],
   "source": [
    "assert not flag"
   ]
  },
  {
   "cell_type": "code",
   "execution_count": null,
   "metadata": {},
   "outputs": [],
   "source": []
  }
 ],
 "metadata": {
  "kernelspec": {
   "display_name": "mlscorecheck",
   "language": "python",
   "name": "python3"
  },
  "language_info": {
   "codemirror_mode": {
    "name": "ipython",
    "version": 3
   },
   "file_extension": ".py",
   "mimetype": "text/x-python",
   "name": "python",
   "nbconvert_exporter": "python",
   "pygments_lexer": "ipython3",
   "version": "3.10.0"
  },
  "orig_nbformat": 4
 },
 "nbformat": 4,
 "nbformat_minor": 2
}
