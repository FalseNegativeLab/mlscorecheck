{
 "cells": [
  {
   "cell_type": "code",
   "execution_count": 9,
   "metadata": {},
   "outputs": [],
   "source": [
    "import glob\n",
    "import json"
   ]
  },
  {
   "cell_type": "code",
   "execution_count": 2,
   "metadata": {},
   "outputs": [],
   "source": [
    "trains = glob.glob('../../../retina-datasets/diaretdb0/diaretdb0_v_1_1/resources/traindatasets/*.txt')\n",
    "tests = glob.glob('../../../retina-datasets/diaretdb0/diaretdb0_v_1_1/resources/testdatasets/*.txt')"
   ]
  },
  {
   "cell_type": "code",
   "execution_count": 3,
   "metadata": {},
   "outputs": [
    {
     "data": {
      "text/plain": [
       "['../../../retina-datasets/diaretdb0/diaretdb0_v_1_1/resources/testdatasets/testdata5.txt',\n",
       " '../../../retina-datasets/diaretdb0/diaretdb0_v_1_1/resources/testdatasets/testdata8.txt',\n",
       " '../../../retina-datasets/diaretdb0/diaretdb0_v_1_1/resources/testdatasets/testdata6.txt',\n",
       " '../../../retina-datasets/diaretdb0/diaretdb0_v_1_1/resources/testdatasets/testdata2.txt',\n",
       " '../../../retina-datasets/diaretdb0/diaretdb0_v_1_1/resources/testdatasets/testdata9.txt',\n",
       " '../../../retina-datasets/diaretdb0/diaretdb0_v_1_1/resources/testdatasets/testdata1.txt',\n",
       " '../../../retina-datasets/diaretdb0/diaretdb0_v_1_1/resources/testdatasets/testdata7.txt',\n",
       " '../../../retina-datasets/diaretdb0/diaretdb0_v_1_1/resources/testdatasets/testdata3.txt',\n",
       " '../../../retina-datasets/diaretdb0/diaretdb0_v_1_1/resources/testdatasets/testdata4.txt']"
      ]
     },
     "execution_count": 3,
     "metadata": {},
     "output_type": "execute_result"
    }
   ],
   "source": [
    "tests"
   ]
  },
  {
   "cell_type": "code",
   "execution_count": 4,
   "metadata": {},
   "outputs": [],
   "source": [
    "trainsets = {}\n",
    "testsets = {}\n",
    "\n",
    "for train in trains:\n",
    "    iden = train[-5]\n",
    "    with open(train, 'rt') as file:\n",
    "        identifiers = set([tmp.strip()[5:] for tmp in file.readlines()])\n",
    "        trainsets[iden] = identifiers\n",
    "for test in tests:\n",
    "    iden = test[-5]\n",
    "    with open(test, 'rt') as file:\n",
    "        identifiers = set([tmp.strip()[5:] for tmp in file.readlines()])\n",
    "        testsets[iden] = identifiers"
   ]
  },
  {
   "cell_type": "code",
   "execution_count": 5,
   "metadata": {},
   "outputs": [],
   "source": [
    "imgs = glob.glob('../../../retina-datasets/diaretdb0/diaretdb0_v_1_1/resources/images/diaretdb0_groundtruths/*')"
   ]
  },
  {
   "cell_type": "code",
   "execution_count": 6,
   "metadata": {},
   "outputs": [],
   "source": [
    "classes = {}\n",
    "for img in imgs:\n",
    "    with open(img, 'rt') as file:\n",
    "        tmp = file.readlines()\n",
    "        identifier = img.split('/')[-1]\n",
    "        identifier = identifier.split('.')[0]\n",
    "        identifier = identifier[5:]\n",
    "        classes[identifier] = set([cl for cl in tmp[0].strip().split(' ') if cl != 'n/a'])"
   ]
  },
  {
   "cell_type": "code",
   "execution_count": 7,
   "metadata": {},
   "outputs": [],
   "source": [
    "distributions = {}\n",
    "for key in trainsets:\n",
    "    train = trainsets[key]\n",
    "    test = testsets[key]\n",
    "\n",
    "    train_dist = {'neovascularisation': 0,\n",
    "                    'hardexudates': 0,\n",
    "                    'hemorrhages': 0,\n",
    "                    'softexudates': 0,\n",
    "                    'redsmalldots': 0}\n",
    "    test_dist = {'neovascularisation': 0,\n",
    "                    'hardexudates': 0,\n",
    "                    'hemorrhages': 0,\n",
    "                    'softexudates': 0,\n",
    "                    'redsmalldots': 0}\n",
    "    for id in train:\n",
    "        for cl in classes[id]:\n",
    "            train_dist[cl.lower()] += 1\n",
    "    for id in test:\n",
    "        for cl in classes[id]:\n",
    "            test_dist[cl.lower()] += 1\n",
    "\n",
    "    distributions[key] = {'train': train_dist, 'test': test_dist}"
   ]
  },
  {
   "cell_type": "code",
   "execution_count": 14,
   "metadata": {},
   "outputs": [],
   "source": [
    "citation = \"\"\"@inproceedings{diaretdb0,\n",
    "  title={The DIARETDB1 Diabetic Retinopathy Database and Evaluation Protocol},\n",
    "  author={Tomi Kauppi and Valentina Kalesnykiene and J. K{\\\"a}m{\\\"a}r{\\\"a}inen and Lasse Lensu and Iiris Sorri and A. Raninen and R. Voutilainen and Hannu Uusitalo and Heikki K{\\\"a}lvi{\\\"a}inen and Juhani Pietil{\\\"a}},\n",
    "  booktitle={British Machine Vision Conference},\n",
    "  year={2007},\n",
    "  url={https://api.semanticscholar.org/CorpusID:15483141}\n",
    "}\"\"\""
   ]
  },
  {
   "cell_type": "code",
   "execution_count": 15,
   "metadata": {},
   "outputs": [],
   "source": [
    "results = {'distributions': distributions,\n",
    "            'citation': citation}"
   ]
  },
  {
   "cell_type": "code",
   "execution_count": 16,
   "metadata": {},
   "outputs": [],
   "source": [
    "with open('diaretdb0.json', 'wt') as file:\n",
    "    json.dump(results, file)"
   ]
  },
  {
   "cell_type": "code",
   "execution_count": null,
   "metadata": {},
   "outputs": [],
   "source": []
  }
 ],
 "metadata": {
  "kernelspec": {
   "display_name": "mlscorecheck",
   "language": "python",
   "name": "python3"
  },
  "language_info": {
   "codemirror_mode": {
    "name": "ipython",
    "version": 3
   },
   "file_extension": ".py",
   "mimetype": "text/x-python",
   "name": "python",
   "nbconvert_exporter": "python",
   "pygments_lexer": "ipython3",
   "version": "3.10.0"
  }
 },
 "nbformat": 4,
 "nbformat_minor": 2
}
