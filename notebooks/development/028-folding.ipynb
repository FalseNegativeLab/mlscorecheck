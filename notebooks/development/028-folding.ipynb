{
 "cells": [
  {
   "cell_type": "code",
   "execution_count": 1,
   "metadata": {},
   "outputs": [],
   "source": [
    "import itertools\n",
    "\n",
    "from mlscorecheck.aggregated import (\n",
    "    Experiment,\n",
    "    create_all_kfolds,\n",
    "    fold_partitioning_generator,\n",
    "    integer_partitioning_generator,\n",
    ")\n",
    "from mlscorecheck.check import check_1_dataset_known_folds_mos_scores"
   ]
  },
  {
   "cell_type": "code",
   "execution_count": 2,
   "metadata": {},
   "outputs": [
    {
     "name": "stdout",
     "output_type": "stream",
     "text": [
      "evaluation ['acc', 'spec']\n",
      "evaluation ['acc', 'spec']\n",
      "evaluation ['acc', 'spec']\n"
     ]
    },
    {
     "data": {
      "text/plain": [
       "{'acc': 0.5888888888888889, 'spec': 0.6}"
      ]
     },
     "execution_count": 2,
     "metadata": {},
     "output_type": "execute_result"
    }
   ],
   "source": [
    "dataset = {'p': 10, 'n': 20}\n",
    "folds = [{'p': 0, 'n': 5}, {'p': 5, 'n': 10}, {'p': 5, 'n': 5}]\n",
    "evaluation = {'dataset': dataset,\n",
    "                'folding': {'folds': folds},\n",
    "                'aggregation': 'mos'}\n",
    "experiment = {'evaluations': [evaluation],\n",
    "                'aggregation': 'mos'}\n",
    "\n",
    "experiment = Experiment(**experiment)\n",
    "\n",
    "experiment.sample_figures(score_subset=['acc', 'spec'])\n",
    "\n",
    "experiment.calculate_scores(score_subset=['acc', 'spec'])"
   ]
  },
  {
   "cell_type": "code",
   "execution_count": 5,
   "metadata": {},
   "outputs": [
    {
     "name": "stdout",
     "output_type": "stream",
     "text": [
      "evaluation ['acc', 'spec']\n",
      "evaluation ['acc', 'spec']\n"
     ]
    },
    {
     "data": {
      "text/plain": [
       "<mlscorecheck.aggregated._experiment.Experiment at 0x7f9af69056c0>"
      ]
     },
     "execution_count": 5,
     "metadata": {},
     "output_type": "execute_result"
    }
   ],
   "source": [
    "experiment.sample_figures(score_subset=['acc', 'spec'])"
   ]
  },
  {
   "cell_type": "code",
   "execution_count": null,
   "metadata": {},
   "outputs": [],
   "source": []
  },
  {
   "cell_type": "code",
   "execution_count": 2,
   "metadata": {},
   "outputs": [],
   "source": [
    "folding = {'folds': [{'p': 5, 'n': 10},\n",
    "                        {'p': 0, 'n': 11}]}\n",
    "eps = 1e-2\n",
    "scores = {'acc': 0.95, 'spec': 0.97, 'sens': 0.93}"
   ]
  },
  {
   "cell_type": "code",
   "execution_count": 3,
   "metadata": {},
   "outputs": [
    {
     "name": "stdout",
     "output_type": "stream",
     "text": [
      "aaa {'acc': 0.95, 'spec': 0.97, 'sens': 0.93}\n",
      "fold ['acc', 'spec', 'sens']\n",
      "aaa {'acc': 0.95, 'spec': 0.97, 'sens': 0.93}\n",
      "fold ['acc', 'spec', 'sens']\n"
     ]
    },
    {
     "ename": "ZeroDivisionError",
     "evalue": "float division by zero",
     "output_type": "error",
     "traceback": [
      "\u001b[0;31m---------------------------------------------------------------------------\u001b[0m",
      "\u001b[0;31mZeroDivisionError\u001b[0m                         Traceback (most recent call last)",
      "\u001b[1;32m/home/gykovacs/workspaces/mlscorecheck/notebooks/development/028-folding.ipynb Cell 3\u001b[0m line \u001b[0;36m1\n\u001b[0;32m----> <a href='vscode-notebook-cell://wsl%2Bubuntu-20.04/home/gykovacs/workspaces/mlscorecheck/notebooks/development/028-folding.ipynb#W2sdnNjb2RlLXJlbW90ZQ%3D%3D?line=0'>1</a>\u001b[0m check_1_dataset_known_folds_mos_scores(dataset\u001b[39m=\u001b[39;49m{\u001b[39m'\u001b[39;49m\u001b[39mp\u001b[39;49m\u001b[39m'\u001b[39;49m: \u001b[39m5\u001b[39;49m, \u001b[39m'\u001b[39;49m\u001b[39mn\u001b[39;49m\u001b[39m'\u001b[39;49m: \u001b[39m21\u001b[39;49m},\n\u001b[1;32m      <a href='vscode-notebook-cell://wsl%2Bubuntu-20.04/home/gykovacs/workspaces/mlscorecheck/notebooks/development/028-folding.ipynb#W2sdnNjb2RlLXJlbW90ZQ%3D%3D?line=1'>2</a>\u001b[0m                                         folding\u001b[39m=\u001b[39;49mfolding,\n\u001b[1;32m      <a href='vscode-notebook-cell://wsl%2Bubuntu-20.04/home/gykovacs/workspaces/mlscorecheck/notebooks/development/028-folding.ipynb#W2sdnNjb2RlLXJlbW90ZQ%3D%3D?line=2'>3</a>\u001b[0m                                         eps\u001b[39m=\u001b[39;49meps,\n\u001b[1;32m      <a href='vscode-notebook-cell://wsl%2Bubuntu-20.04/home/gykovacs/workspaces/mlscorecheck/notebooks/development/028-folding.ipynb#W2sdnNjb2RlLXJlbW90ZQ%3D%3D?line=3'>4</a>\u001b[0m                                         scores\u001b[39m=\u001b[39;49mscores)\n",
      "File \u001b[0;32m~/workspaces/mlscorecheck/mlscorecheck/check/_check_1_dataset_known_folds_mos_scores.py:108\u001b[0m, in \u001b[0;36mcheck_1_dataset_known_folds_mos_scores\u001b[0;34m(dataset, folding, scores, eps, fold_score_bounds, solver_name, timeout, verbosity, numerical_tolerance)\u001b[0m\n\u001b[1;32m    100\u001b[0m evaluation \u001b[39m=\u001b[39m Evaluation(dataset\u001b[39m=\u001b[39mdataset,\n\u001b[1;32m    101\u001b[0m                         folding\u001b[39m=\u001b[39mfolding,\n\u001b[1;32m    102\u001b[0m                         fold_score_bounds\u001b[39m=\u001b[39mfold_score_bounds,\n\u001b[1;32m    103\u001b[0m                         aggregation\u001b[39m=\u001b[39m\u001b[39m'\u001b[39m\u001b[39mmor\u001b[39m\u001b[39m'\u001b[39m)\n\u001b[1;32m    105\u001b[0m experiment \u001b[39m=\u001b[39m Experiment(evaluations\u001b[39m=\u001b[39m[evaluation\u001b[39m.\u001b[39mto_dict()],\n\u001b[1;32m    106\u001b[0m                         aggregation\u001b[39m=\u001b[39m\u001b[39m'\u001b[39m\u001b[39mmor\u001b[39m\u001b[39m'\u001b[39m)\n\u001b[0;32m--> 108\u001b[0m \u001b[39mreturn\u001b[39;00m check_aggregated_scores(experiment\u001b[39m=\u001b[39;49mexperiment\u001b[39m.\u001b[39;49mto_dict(),\n\u001b[1;32m    109\u001b[0m                                     scores\u001b[39m=\u001b[39;49mscores,\n\u001b[1;32m    110\u001b[0m                                     eps\u001b[39m=\u001b[39;49meps,\n\u001b[1;32m    111\u001b[0m                                     solver_name\u001b[39m=\u001b[39;49msolver_name,\n\u001b[1;32m    112\u001b[0m                                     timeout\u001b[39m=\u001b[39;49mtimeout,\n\u001b[1;32m    113\u001b[0m                                     verbosity\u001b[39m=\u001b[39;49mverbosity,\n\u001b[1;32m    114\u001b[0m                                     numerical_tolerance\u001b[39m=\u001b[39;49mnumerical_tolerance)\n",
      "File \u001b[0;32m~/workspaces/mlscorecheck/mlscorecheck/aggregated/_check_aggregated_scores.py:79\u001b[0m, in \u001b[0;36mcheck_aggregated_scores\u001b[0;34m(experiment, scores, eps, solver_name, timeout, verbosity, numerical_tolerance)\u001b[0m\n\u001b[1;32m     74\u001b[0m solver_name \u001b[39m=\u001b[39m (PREFERRED_SOLVER \u001b[39mif\u001b[39;00m solver_name \u001b[39mis\u001b[39;00m \u001b[39mNone\u001b[39;00m \u001b[39mor\u001b[39;00m solver_name \u001b[39mnot\u001b[39;00m \u001b[39min\u001b[39;00m solvers\n\u001b[1;32m     75\u001b[0m                                 \u001b[39melse\u001b[39;00m solver_name)\n\u001b[1;32m     77\u001b[0m solver \u001b[39m=\u001b[39m pl\u001b[39m.\u001b[39mgetSolver(solver_name, timeLimit\u001b[39m=\u001b[39mtimeout, msg\u001b[39m=\u001b[39mverbosity)\n\u001b[0;32m---> 79\u001b[0m result \u001b[39m=\u001b[39m solve(experiment, scores, eps, solver)\n\u001b[1;32m     81\u001b[0m populated \u001b[39m=\u001b[39m experiment\u001b[39m.\u001b[39mpopulate(result)\n\u001b[1;32m     82\u001b[0m populated\u001b[39m.\u001b[39mcalculate_scores(score_subset\u001b[39m=\u001b[39m\u001b[39mlist\u001b[39m(scores\u001b[39m.\u001b[39mkeys()))\n",
      "File \u001b[0;32m~/workspaces/mlscorecheck/mlscorecheck/aggregated/_linear_programming.py:100\u001b[0m, in \u001b[0;36msolve\u001b[0;34m(obj, scores, eps, solver)\u001b[0m\n\u001b[1;32m     96\u001b[0m     eps \u001b[39m=\u001b[39m {key: eps \u001b[39mfor\u001b[39;00m key \u001b[39min\u001b[39;00m [\u001b[39m'\u001b[39m\u001b[39macc\u001b[39m\u001b[39m'\u001b[39m, \u001b[39m'\u001b[39m\u001b[39msens\u001b[39m\u001b[39m'\u001b[39m, \u001b[39m'\u001b[39m\u001b[39mspec\u001b[39m\u001b[39m'\u001b[39m, \u001b[39m'\u001b[39m\u001b[39mbacc\u001b[39m\u001b[39m'\u001b[39m]}\n\u001b[1;32m     98\u001b[0m lp_problem \u001b[39m=\u001b[39m pl\u001b[39m.\u001b[39mLpProblem(\u001b[39mf\u001b[39m\u001b[39m'\u001b[39m\u001b[39mfeasibility_\u001b[39m\u001b[39m{\u001b[39;00mrandom_identifier(\u001b[39m8\u001b[39m)\u001b[39m}\u001b[39;00m\u001b[39m'\u001b[39m)\n\u001b[0;32m--> 100\u001b[0m lp_problem \u001b[39m=\u001b[39m obj\u001b[39m.\u001b[39;49minit_lp(lp_problem, scores)\n\u001b[1;32m    102\u001b[0m lp_problem \u001b[39m=\u001b[39m create_lp_target(obj, scores, eps, lp_problem)\n\u001b[1;32m    104\u001b[0m lp_problem\u001b[39m.\u001b[39msolve(solver\u001b[39m=\u001b[39msolver)\n",
      "File \u001b[0;32m~/workspaces/mlscorecheck/mlscorecheck/aggregated/_experiment.py:133\u001b[0m, in \u001b[0;36mExperiment.init_lp\u001b[0;34m(self, lp_problem, scores)\u001b[0m\n\u001b[1;32m    121\u001b[0m \u001b[39m\u001b[39m\u001b[39m\"\"\"\u001b[39;00m\n\u001b[1;32m    122\u001b[0m \u001b[39mInitializes a linear programming problem\u001b[39;00m\n\u001b[1;32m    123\u001b[0m \n\u001b[0;32m   (...)\u001b[0m\n\u001b[1;32m    129\u001b[0m \u001b[39m    pl.LpProblem: the updated linear programming problem\u001b[39;00m\n\u001b[1;32m    130\u001b[0m \u001b[39m\"\"\"\u001b[39;00m\n\u001b[1;32m    132\u001b[0m \u001b[39mfor\u001b[39;00m evaluation \u001b[39min\u001b[39;00m \u001b[39mself\u001b[39m\u001b[39m.\u001b[39mevaluations:\n\u001b[0;32m--> 133\u001b[0m     evaluation\u001b[39m.\u001b[39;49minit_lp(lp_problem,\n\u001b[1;32m    134\u001b[0m                         scores\u001b[39m=\u001b[39;49mscores)\n\u001b[1;32m    136\u001b[0m \u001b[39mif\u001b[39;00m scores \u001b[39mis\u001b[39;00m \u001b[39mnot\u001b[39;00m \u001b[39mNone\u001b[39;00m:\n\u001b[1;32m    137\u001b[0m     scores_to_calculate \u001b[39m=\u001b[39m \u001b[39mlist\u001b[39m(\u001b[39mset\u001b[39m(scores\u001b[39m.\u001b[39mkeys())\\\n\u001b[1;32m    138\u001b[0m                             \u001b[39m.\u001b[39mintersection({\u001b[39m'\u001b[39m\u001b[39macc\u001b[39m\u001b[39m'\u001b[39m, \u001b[39m'\u001b[39m\u001b[39msens\u001b[39m\u001b[39m'\u001b[39m, \u001b[39m'\u001b[39m\u001b[39mspec\u001b[39m\u001b[39m'\u001b[39m, \u001b[39m'\u001b[39m\u001b[39mbacc\u001b[39m\u001b[39m'\u001b[39m}))\n",
      "File \u001b[0;32m~/workspaces/mlscorecheck/mlscorecheck/aggregated/_evaluation.py:138\u001b[0m, in \u001b[0;36mEvaluation.init_lp\u001b[0;34m(self, lp_problem, scores)\u001b[0m\n\u001b[1;32m    126\u001b[0m \u001b[39m\u001b[39m\u001b[39m\"\"\"\u001b[39;00m\n\u001b[1;32m    127\u001b[0m \u001b[39mInitializes a linear programming problem\u001b[39;00m\n\u001b[1;32m    128\u001b[0m \n\u001b[0;32m   (...)\u001b[0m\n\u001b[1;32m    134\u001b[0m \u001b[39m    pl.LpProblem: the updated linear programming problem\u001b[39;00m\n\u001b[1;32m    135\u001b[0m \u001b[39m\"\"\"\u001b[39;00m\n\u001b[1;32m    137\u001b[0m \u001b[39mfor\u001b[39;00m fold \u001b[39min\u001b[39;00m \u001b[39mself\u001b[39m\u001b[39m.\u001b[39mfolds:\n\u001b[0;32m--> 138\u001b[0m     fold\u001b[39m.\u001b[39;49minit_lp(scores\u001b[39m=\u001b[39;49mscores)\n\u001b[1;32m    140\u001b[0m \u001b[39mif\u001b[39;00m scores \u001b[39mis\u001b[39;00m \u001b[39mnot\u001b[39;00m \u001b[39mNone\u001b[39;00m:\n\u001b[1;32m    141\u001b[0m     scores_to_calculate \u001b[39m=\u001b[39m \u001b[39mlist\u001b[39m(\u001b[39mset\u001b[39m(scores\u001b[39m.\u001b[39mkeys())\\\n\u001b[1;32m    142\u001b[0m                             \u001b[39m.\u001b[39mintersection({\u001b[39m'\u001b[39m\u001b[39macc\u001b[39m\u001b[39m'\u001b[39m, \u001b[39m'\u001b[39m\u001b[39msens\u001b[39m\u001b[39m'\u001b[39m, \u001b[39m'\u001b[39m\u001b[39mspec\u001b[39m\u001b[39m'\u001b[39m, \u001b[39m'\u001b[39m\u001b[39mbacc\u001b[39m\u001b[39m'\u001b[39m}))\n",
      "File \u001b[0;32m~/workspaces/mlscorecheck/mlscorecheck/aggregated/_fold.py:133\u001b[0m, in \u001b[0;36mFold.init_lp\u001b[0;34m(self, scores)\u001b[0m\n\u001b[1;32m    130\u001b[0m \u001b[39melse\u001b[39;00m:\n\u001b[1;32m    131\u001b[0m     scores_to_calculate \u001b[39m=\u001b[39m [\u001b[39m'\u001b[39m\u001b[39macc\u001b[39m\u001b[39m'\u001b[39m, \u001b[39m'\u001b[39m\u001b[39msens\u001b[39m\u001b[39m'\u001b[39m, \u001b[39m'\u001b[39m\u001b[39mspec\u001b[39m\u001b[39m'\u001b[39m, \u001b[39m'\u001b[39m\u001b[39mbacc\u001b[39m\u001b[39m'\u001b[39m]\n\u001b[0;32m--> 133\u001b[0m \u001b[39mself\u001b[39;49m\u001b[39m.\u001b[39;49mcalculate_scores(score_subset\u001b[39m=\u001b[39;49mscores_to_calculate)\n",
      "File \u001b[0;32m~/workspaces/mlscorecheck/mlscorecheck/aggregated/_fold.py:88\u001b[0m, in \u001b[0;36mFold.calculate_scores\u001b[0;34m(self, rounding_decimals, score_subset)\u001b[0m\n\u001b[1;32m     77\u001b[0m \u001b[39m\u001b[39m\u001b[39m\"\"\"\u001b[39;00m\n\u001b[1;32m     78\u001b[0m \u001b[39mCalculate the scores for the fold\u001b[39;00m\n\u001b[1;32m     79\u001b[0m \n\u001b[0;32m   (...)\u001b[0m\n\u001b[1;32m     85\u001b[0m \u001b[39m    dict: the scores\u001b[39;00m\n\u001b[1;32m     86\u001b[0m \u001b[39m\"\"\"\u001b[39;00m\n\u001b[1;32m     87\u001b[0m \u001b[39mprint\u001b[39m(\u001b[39m'\u001b[39m\u001b[39mfold\u001b[39m\u001b[39m'\u001b[39m, score_subset)\n\u001b[0;32m---> 88\u001b[0m \u001b[39mself\u001b[39m\u001b[39m.\u001b[39mscores \u001b[39m=\u001b[39m calculate_scores_for_lp({\u001b[39m'\u001b[39;49m\u001b[39mp\u001b[39;49m\u001b[39m'\u001b[39;49m: \u001b[39mself\u001b[39;49m\u001b[39m.\u001b[39;49mp,\n\u001b[1;32m     89\u001b[0m                                         \u001b[39m'\u001b[39;49m\u001b[39mn\u001b[39;49m\u001b[39m'\u001b[39;49m: \u001b[39mself\u001b[39;49m\u001b[39m.\u001b[39;49mn,\n\u001b[1;32m     90\u001b[0m                                         \u001b[39m'\u001b[39;49m\u001b[39mtp\u001b[39;49m\u001b[39m'\u001b[39;49m: \u001b[39mself\u001b[39;49m\u001b[39m.\u001b[39;49mtp,\n\u001b[1;32m     91\u001b[0m                                         \u001b[39m'\u001b[39;49m\u001b[39mtn\u001b[39;49m\u001b[39m'\u001b[39;49m: \u001b[39mself\u001b[39;49m\u001b[39m.\u001b[39;49mtn},\n\u001b[1;32m     92\u001b[0m                                         score_subset\u001b[39m=\u001b[39;49mscore_subset)\n\u001b[1;32m     94\u001b[0m \u001b[39mreturn\u001b[39;00m \u001b[39mself\u001b[39m\u001b[39m.\u001b[39mscores \u001b[39mif\u001b[39;00m rounding_decimals \u001b[39mis\u001b[39;00m \u001b[39mNone\u001b[39;00m \u001b[39melse\u001b[39;00m round_scores(\u001b[39mself\u001b[39m\u001b[39m.\u001b[39mscores,\n\u001b[1;32m     95\u001b[0m                                                                     rounding_decimals)\n",
      "File \u001b[0;32m~/workspaces/mlscorecheck/mlscorecheck/individual/_calculate_scores.py:34\u001b[0m, in \u001b[0;36mcalculate_scores_for_lp\u001b[0;34m(problem, score_subset)\u001b[0m\n\u001b[1;32m     32\u001b[0m     scores[\u001b[39m'\u001b[39m\u001b[39macc\u001b[39m\u001b[39m'\u001b[39m] \u001b[39m=\u001b[39m (problem[\u001b[39m'\u001b[39m\u001b[39mtp\u001b[39m\u001b[39m'\u001b[39m] \u001b[39m+\u001b[39m problem[\u001b[39m'\u001b[39m\u001b[39mtn\u001b[39m\u001b[39m'\u001b[39m]) \u001b[39m*\u001b[39m (\u001b[39m1.0\u001b[39m \u001b[39m/\u001b[39m (problem[\u001b[39m'\u001b[39m\u001b[39mp\u001b[39m\u001b[39m'\u001b[39m] \u001b[39m+\u001b[39m problem[\u001b[39m'\u001b[39m\u001b[39mn\u001b[39m\u001b[39m'\u001b[39m]))\n\u001b[1;32m     33\u001b[0m \u001b[39mif\u001b[39;00m \u001b[39m'\u001b[39m\u001b[39msens\u001b[39m\u001b[39m'\u001b[39m \u001b[39min\u001b[39;00m score_subset:\n\u001b[0;32m---> 34\u001b[0m     scores[\u001b[39m'\u001b[39m\u001b[39msens\u001b[39m\u001b[39m'\u001b[39m] \u001b[39m=\u001b[39m (problem[\u001b[39m'\u001b[39m\u001b[39mtp\u001b[39m\u001b[39m'\u001b[39m]) \u001b[39m*\u001b[39m (\u001b[39m1.0\u001b[39;49m \u001b[39m/\u001b[39;49m problem[\u001b[39m'\u001b[39;49m\u001b[39mp\u001b[39;49m\u001b[39m'\u001b[39;49m])\n\u001b[1;32m     35\u001b[0m \u001b[39mif\u001b[39;00m \u001b[39m'\u001b[39m\u001b[39mspec\u001b[39m\u001b[39m'\u001b[39m \u001b[39min\u001b[39;00m score_subset:\n\u001b[1;32m     36\u001b[0m     scores[\u001b[39m'\u001b[39m\u001b[39mspec\u001b[39m\u001b[39m'\u001b[39m] \u001b[39m=\u001b[39m (problem[\u001b[39m'\u001b[39m\u001b[39mtn\u001b[39m\u001b[39m'\u001b[39m]) \u001b[39m*\u001b[39m (\u001b[39m1.0\u001b[39m \u001b[39m/\u001b[39m problem[\u001b[39m'\u001b[39m\u001b[39mn\u001b[39m\u001b[39m'\u001b[39m])\n",
      "\u001b[0;31mZeroDivisionError\u001b[0m: float division by zero"
     ]
    }
   ],
   "source": [
    "check_1_dataset_known_folds_mos_scores(dataset={'p': 5, 'n': 21},\n",
    "                                        folding=folding,\n",
    "                                        eps=eps,\n",
    "                                        scores=scores)"
   ]
  },
  {
   "cell_type": "code",
   "execution_count": 9,
   "metadata": {},
   "outputs": [
    {
     "data": {
      "text/plain": [
       "[[(0, 3, 3), (4, 1, 1)], [(1, 2, 3), (3, 2, 1)], [(2, 2, 2), (2, 2, 2)]]"
      ]
     },
     "execution_count": 9,
     "metadata": {},
     "output_type": "execute_result"
    }
   ],
   "source": [
    "list(fold_partitioning_generator(6, 6, 3, True, False))"
   ]
  },
  {
   "cell_type": "code",
   "execution_count": 2,
   "metadata": {},
   "outputs": [
    {
     "name": "stdout",
     "output_type": "stream",
     "text": [
      "0\n",
      "ps_a []\n",
      "ps_b [0, 0, 6]\n",
      "ps_b [0, 1, 5]\n",
      "ps_b [0, 2, 4]\n",
      "[0, 2, 4] [4, 2, 0]\n",
      "1\n",
      "ps_b [0, 3, 3]\n",
      "[0, 3, 3] [4, 1, 1]\n",
      "2\n",
      "yielding [0, 3, 3] [4, 1, 1]\n",
      "ps_b [1, 1, 4]\n",
      "[1, 1, 4] [3, 3, 0]\n",
      "2\n",
      "yielding [1, 1, 4] [3, 3, 0]\n",
      "ps_b [1, 2, 3]\n",
      "[1, 2, 3] [3, 2, 1]\n",
      "3\n",
      "yielding [1, 2, 3] [3, 2, 1]\n",
      "ps_b [2, 2, 2]\n",
      "[2, 2, 2] [2, 2, 2]\n",
      "3\n",
      "yielding [2, 2, 2] [2, 2, 2]\n",
      "1\n",
      "2\n",
      "3\n",
      "4\n",
      "5\n",
      "6\n"
     ]
    },
    {
     "data": {
      "text/plain": [
       "[[(0, 3, 3), (1, 1, 4), (1, 2, 3), (2, 2, 2)],\n",
       " [(4, 1, 1), (3, 3, 0), (3, 2, 1), (2, 2, 2)]]"
      ]
     },
     "execution_count": 2,
     "metadata": {},
     "output_type": "execute_result"
    }
   ],
   "source": [
    "list(create_all_kfolds(6, 6, 3, True))"
   ]
  },
  {
   "cell_type": "code",
   "execution_count": null,
   "metadata": {},
   "outputs": [],
   "source": []
  },
  {
   "cell_type": "code",
   "execution_count": 3,
   "metadata": {},
   "outputs": [],
   "source": [
    "def all_integer_partitioning_generator(n, k):\n",
    "    for m in range(1, min(k+1, n+1)):\n",
    "        for ns in integer_partitioning_generator(n, m):\n",
    "            yield [0] * (k - m) + ns"
   ]
  },
  {
   "cell_type": "code",
   "execution_count": null,
   "metadata": {},
   "outputs": [],
   "source": []
  },
  {
   "cell_type": "code",
   "execution_count": 18,
   "metadata": {},
   "outputs": [],
   "source": [
    "def check(ps, ns):\n",
    "    ps_or_ns_zero = 0\n",
    "    for idx in range(len(ps)):\n",
    "        if ps[idx] < 0:\n",
    "            return False\n",
    "        if ns[idx] < 0:\n",
    "            return False\n",
    "        if ps[idx] == 0 or ns[idx] == 0:\n",
    "            ps_or_ns_zero += 1\n",
    "    if len(ps) - ps_or_ns_zero < 2:\n",
    "        return False\n",
    "    return True"
   ]
  },
  {
   "cell_type": "code",
   "execution_count": 34,
   "metadata": {},
   "outputs": [],
   "source": [
    "def all_kfolds_generator(p, n, k):\n",
    "    k_div = (p + n) // k\n",
    "    k_mod = (p + n) % k\n",
    "\n",
    "    print(k_div, k_mod)\n",
    "\n",
    "    total_left = k_mod * (k_div + 1)\n",
    "    total_right = (k - k_mod) * k_div\n",
    "\n",
    "    for p_left in range(p+1):\n",
    "        p_right = p - p_left\n",
    "        n_left = total_left - p_left\n",
    "        n_right = total_right - p_right\n",
    "\n",
    "        if n_left < 0 or n_left > n or n_right < 0 or n_right > n:\n",
    "            continue\n",
    "        if p_left < 0 or p_left > p or p_right < 0 or p_right > p:\n",
    "            continue\n",
    "\n",
    "        print('p_left', p_left, p_right, n_left, n_right, total_left, total_right)\n",
    "\n",
    "        if p_left == 0:\n",
    "            print('aaa')\n",
    "            ps_left = [0] * k_mod\n",
    "            ns_left = [k_div + 1] * k_mod\n",
    "            for ps in all_integer_partitioning_generator(p_right, k - k_mod):\n",
    "                ps_all = ps_left + ps\n",
    "                ns_all = ns_left + [k_div - ps[idx] for idx in range(k - k_mod)]\n",
    "                if check(ps_all, ns_all):\n",
    "                    yield ps_all, ns_all\n",
    "        #elif p_left > 0 and p_left < total_left and p_right < total_right and n_left < total_left and n_right < total_right:\n",
    "        elif p_left > 0 and p_left < total_left:\n",
    "            print('bbb')\n",
    "            for ps_left in all_integer_partitioning_generator(p_left, k_mod):\n",
    "                ns_left = [k_div + 1 - ps_left[idx] for idx in range(k_mod)]\n",
    "                for ps_right in all_integer_partitioning_generator(p_right, k - k_mod):\n",
    "                    ns_right = [k_div - ps_right[idx] for idx in range(k - k_mod)]\n",
    "                    ps_all = ps_left + ps_right\n",
    "                    ns_all = ns_left + ns_right\n",
    "                    if check(ps_all, ns_all):\n",
    "                        yield ps_all, ns_all\n",
    "        elif p_left == total_left:\n",
    "            print('ccc')\n",
    "            ps_left = [k_div + 1] * k_mod\n",
    "            ns_left = [0] * k_mod\n",
    "            for ps in all_integer_partitioning_generator(p_right, k - k_mod):\n",
    "                ps_all = ps_left + ps\n",
    "                ns_all = ns_left + [k_div - ps[idx] for idx in range(k - k_mod)]\n",
    "                if check(ps_all, ns_all):\n",
    "                    yield ps_all, ns_all\n",
    "\n",
    "            break\n"
   ]
  },
  {
   "cell_type": "code",
   "execution_count": 88,
   "metadata": {},
   "outputs": [],
   "source": [
    "def all_kfolds_generator2(p, n, k):\n",
    "    k_div = (p + n) // k\n",
    "    k_mod = (p + n) % k\n",
    "\n",
    "    total_left = k_mod * (k_div + 1)\n",
    "    total_right = (k - k_mod) * k_div\n",
    "\n",
    "    max_n_right = min(total_right - (k - k_mod), n - k_mod)\n",
    "    min_n_left = n - max_n_right\n",
    "    max_p_left = total_left - min_n_left\n",
    "    max_p_right = min(total_right - (k - k_mod), p - k_mod)\n",
    "    min_p_left = p - max_p_right\n",
    "\n",
    "    for p_left in range(min_p_left, max_p_left+1):\n",
    "        p_right = p - p_left\n",
    "\n",
    "        for ps_left in integer_partitioning_generator(p_left, k_mod):\n",
    "            if any(psl == k_div + 1 for psl in ps_left):\n",
    "                continue\n",
    "\n",
    "            ns_left = [k_div + 1 - ps_left[idx] for idx in range(k_mod)]\n",
    "\n",
    "            for ps_right in integer_partitioning_generator(p_right, k - k_mod):\n",
    "\n",
    "                if any(psr == k_div for psr in ps_right):\n",
    "                    continue\n",
    "\n",
    "                ns_right = [k_div - ps_right[idx] for idx in range(k - k_mod)]\n",
    "\n",
    "                ps_all = ps_left + ps_right\n",
    "                ns_all = ns_left + ns_right\n",
    "\n",
    "                res = sorted(list(zip(ps_all, ns_all, strict=False)), key=lambda x: (x[0], x[1]))\n",
    "\n",
    "                yield list(zip(*res, strict=False))\n"
   ]
  },
  {
   "cell_type": "code",
   "execution_count": 89,
   "metadata": {},
   "outputs": [
    {
     "data": {
      "text/plain": [
       "[[(1, 2, 2), (3, 1, 1)], [(1, 2, 2), (2, 1, 2)], [(1, 1, 3), (2, 2, 1)]]"
      ]
     },
     "execution_count": 89,
     "metadata": {},
     "output_type": "execute_result"
    }
   ],
   "source": [
    "[x for x in all_kfolds_generator2(5, 5, 3)]"
   ]
  },
  {
   "cell_type": "code",
   "execution_count": 83,
   "metadata": {},
   "outputs": [
    {
     "data": {
      "text/plain": [
       "[([1, 1, 3], [2, 2, 1]), ([1, 2, 2], [3, 1, 1]), ([1, 2, 2], [2, 1, 2])]"
      ]
     },
     "execution_count": 83,
     "metadata": {},
     "output_type": "execute_result"
    }
   ],
   "source": [
    "[tmp for tmp in fold_partitioning_generator(5, 5, 3)]"
   ]
  },
  {
   "cell_type": "code",
   "execution_count": 68,
   "metadata": {},
   "outputs": [
    {
     "data": {
      "text/plain": [
       "[[0, 0, 0, 2], [0, 0, 1, 1]]"
      ]
     },
     "execution_count": 68,
     "metadata": {},
     "output_type": "execute_result"
    }
   ],
   "source": [
    "[x for x in all_integer_partitioning_generator(2, 4)]"
   ]
  },
  {
   "cell_type": "code",
   "execution_count": 4,
   "metadata": {},
   "outputs": [
    {
     "data": {
      "text/plain": [
       "[(1, 2, 2), (1, 2, 3), (1, 2, 3), (2, 2, 3)]"
      ]
     },
     "execution_count": 4,
     "metadata": {},
     "output_type": "execute_result"
    }
   ],
   "source": [
    "[tuple(x)\n",
    "        for x in itertools.combinations([1, 2, 2, 3],\n",
    "                                        3)]"
   ]
  },
  {
   "cell_type": "code",
   "execution_count": 33,
   "metadata": {},
   "outputs": [],
   "source": [
    "def multiplicity_combinations(values, k):\n",
    "    for comb in itertools.combinations(list(range(len(values))), k):\n",
    "        for idx, cdx in enumerate(comb):\n",
    "            if cdx < len(values) - 1 and (values[cdx] == values[cdx + 1] and (idx == k-1 or comb[idx + 1] != cdx + 1)):\n",
    "                break\n",
    "        else:\n",
    "            yield comb\n"
   ]
  },
  {
   "cell_type": "code",
   "execution_count": 52,
   "metadata": {},
   "outputs": [
    {
     "data": {
      "text/plain": [
       "[[]]"
      ]
     },
     "execution_count": 52,
     "metadata": {},
     "output_type": "execute_result"
    }
   ],
   "source": [
    "[x for x in integer_partitioning_generator(2, 0)]"
   ]
  },
  {
   "cell_type": "code",
   "execution_count": 34,
   "metadata": {},
   "outputs": [],
   "source": [
    "import copy"
   ]
  },
  {
   "cell_type": "code",
   "execution_count": 37,
   "metadata": {},
   "outputs": [],
   "source": [
    "def fpg2(p, n, n_folds, p_non_zero):\n",
    "    max_items = (p + n) // n_folds\n",
    "    remainder = (p + n) % n_folds\n",
    "\n",
    "    for ps in integer_partitioning_generator(p, p_non_zero): # pylint: disable=invalid-name\n",
    "        ps = [0] * (n_folds - p_non_zero) + ps\n",
    "\n",
    "        if sum(item > max_items + 1 for item in ps) > 0:\n",
    "            continue\n",
    "\n",
    "        n_maxp1 = sum(item == max_items + 1 for item in ps)\n",
    "        n_max = sum(item == max_items for item in ps)\n",
    "        if n_maxp1 > remainder or n_maxp1 > 2:\n",
    "            continue\n",
    "\n",
    "        if n_maxp1 + n_max > n_folds - 2:\n",
    "            continue\n",
    "\n",
    "        if n_maxp1 + n_max > p_non_zero - 2:\n",
    "            continue\n",
    "\n",
    "        n_ordinary = len(ps) - sum(item == max_items for item in ps)\n",
    "        ns = [max_items - p_val + (idx >= n_ordinary) for idx, p_val in enumerate(ps)] # pylint: disable=invalid-name\n",
    "\n",
    "        for comb in multiplicity_combinations(ps[:n_ordinary], remainder - (len(ps) - n_ordinary)):\n",
    "            ns_tmp = copy.copy(ns)\n",
    "            for c in comb:\n",
    "                ns_tmp[c] += 1\n",
    "            yield ps, ns_tmp\n",
    "\n"
   ]
  },
  {
   "cell_type": "code",
   "execution_count": 42,
   "metadata": {},
   "outputs": [
    {
     "data": {
      "text/plain": [
       "[([1, 2, 3], [3, 2, 1]), ([2, 2, 2], [2, 2, 2])]"
      ]
     },
     "execution_count": 42,
     "metadata": {},
     "output_type": "execute_result"
    }
   ],
   "source": [
    "[(ps, ns) for ps, ns in fpg2(6, 6, 3)]"
   ]
  },
  {
   "cell_type": "code",
   "execution_count": 25,
   "metadata": {},
   "outputs": [
    {
     "data": {
      "text/plain": [
       "[(0, 1, 2), (0, 2, 3), (1, 2, 3)]"
      ]
     },
     "execution_count": 25,
     "metadata": {},
     "output_type": "execute_result"
    }
   ],
   "source": [
    "[tuple(x)\n",
    "        for x in multiplicity_combinations([1, 2, 2, 3],\n",
    "                                        3)]"
   ]
  },
  {
   "cell_type": "code",
   "execution_count": 43,
   "metadata": {},
   "outputs": [
    {
     "data": {
      "text/plain": [
       "[([1, 2, 3], [3, 2, 1]), ([2, 2, 2], [2, 2, 2])]"
      ]
     },
     "execution_count": 43,
     "metadata": {},
     "output_type": "execute_result"
    }
   ],
   "source": [
    "[tmp for tmp in fold_partitioning_generator(6, 6, 3)]"
   ]
  },
  {
   "cell_type": "code",
   "execution_count": 44,
   "metadata": {},
   "outputs": [],
   "source": [
    "from sklearn.model_selection import KFold"
   ]
  },
  {
   "cell_type": "code",
   "execution_count": 48,
   "metadata": {},
   "outputs": [],
   "source": [
    "import numpy as np\n",
    "\n",
    "X = np.random.random_sample(size=(6, 2))\n",
    "y = np.array([0, 0, 0, 1, 1, 1])"
   ]
  },
  {
   "cell_type": "code",
   "execution_count": 49,
   "metadata": {},
   "outputs": [
    {
     "name": "stdout",
     "output_type": "stream",
     "text": [
      "[0 0]\n",
      "[0 1]\n",
      "[1 1]\n"
     ]
    }
   ],
   "source": [
    "for train, test in KFold(n_splits=3).split(X=X, y=y):\n",
    "    print(y[test])"
   ]
  },
  {
   "cell_type": "code",
   "execution_count": null,
   "metadata": {},
   "outputs": [],
   "source": []
  }
 ],
 "metadata": {
  "kernelspec": {
   "display_name": "mlscorecheck",
   "language": "python",
   "name": "python3"
  },
  "language_info": {
   "codemirror_mode": {
    "name": "ipython",
    "version": 3
   },
   "file_extension": ".py",
   "mimetype": "text/x-python",
   "name": "python",
   "nbconvert_exporter": "python",
   "pygments_lexer": "ipython3",
   "version": "3.10.0"
  }
 },
 "nbformat": 4,
 "nbformat_minor": 2
}
