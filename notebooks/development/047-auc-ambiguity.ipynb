{
 "cells": [
  {
   "cell_type": "code",
   "execution_count": 2,
   "metadata": {},
   "outputs": [],
   "source": [
    "from sklearn.metrics import roc_auc_score\n",
    "from sklearn.neighbors import KNeighborsClassifier\n",
    "\n",
    "import numpy as np"
   ]
  },
  {
   "cell_type": "code",
   "execution_count": 5,
   "metadata": {},
   "outputs": [],
   "source": [
    "X = np.random.random_sample((100, 3))\n",
    "y = np.random.randint(0, 2, 100)"
   ]
  },
  {
   "cell_type": "code",
   "execution_count": 8,
   "metadata": {},
   "outputs": [],
   "source": [
    "preds = KNeighborsClassifier().fit(X, y).predict_proba(X)[:, 1]"
   ]
  },
  {
   "cell_type": "code",
   "execution_count": 23,
   "metadata": {},
   "outputs": [],
   "source": [
    "indices = np.arange(100)\n",
    "np.random.shuffle(indices)"
   ]
  },
  {
   "cell_type": "code",
   "execution_count": 24,
   "metadata": {},
   "outputs": [
    {
     "data": {
      "text/plain": [
       "np.float64(0.7057291666666666)"
      ]
     },
     "execution_count": 24,
     "metadata": {},
     "output_type": "execute_result"
    }
   ],
   "source": [
    "roc_auc_score(y[indices], preds[indices])"
   ]
  },
  {
   "cell_type": "code",
   "execution_count": 25,
   "metadata": {},
   "outputs": [
    {
     "data": {
      "text/plain": [
       "array([0.4, 0.6, 0.4, 0.2, 0.8, 0.4, 0.4, 0.6, 0.6, 0.8, 0.4, 0.2, 0.2,\n",
       "       0.6, 0.6, 0.6, 0.6, 0.4, 0.2, 0.8, 0.6, 0.6, 0.4, 0.2, 0.4, 0.2,\n",
       "       0.2, 0.4, 0.4, 0.8, 0.4, 0.4, 0.8, 0.6, 0.6, 0.4, 0.4, 0.4, 0.2,\n",
       "       0.6, 0.4, 0.8, 0.4, 0.4, 1. , 1. , 0.8, 0.6, 0.8, 0.4, 0.6, 0.6,\n",
       "       0.6, 0.6, 0.6, 0.8, 0.4, 0.2, 0.4, 1. , 0.4, 0.4, 0.2, 0.2, 0.4,\n",
       "       0.4, 0.4, 0. , 0.4, 0.6, 1. , 0.6, 1. , 0.6, 0.4, 0.4, 0.4, 0.8,\n",
       "       0.6, 0.2, 0.4, 0.8, 0.4, 0.4, 0.4, 0.4, 0.8, 0.6, 0.6, 0.4, 0.4,\n",
       "       0.4, 0.2, 0.8, 0.8, 0.8, 0.2, 0.2, 0.2, 0.4])"
      ]
     },
     "execution_count": 25,
     "metadata": {},
     "output_type": "execute_result"
    }
   ],
   "source": [
    "preds"
   ]
  },
  {
   "cell_type": "code",
   "execution_count": null,
   "metadata": {},
   "outputs": [],
   "source": []
  }
 ],
 "metadata": {
  "kernelspec": {
   "display_name": "mlscorecheck",
   "language": "python",
   "name": "python3"
  },
  "language_info": {
   "codemirror_mode": {
    "name": "ipython",
    "version": 3
   },
   "file_extension": ".py",
   "mimetype": "text/x-python",
   "name": "python",
   "nbconvert_exporter": "python",
   "pygments_lexer": "ipython3",
   "version": "3.12.0"
  }
 },
 "nbformat": 4,
 "nbformat_minor": 2
}
