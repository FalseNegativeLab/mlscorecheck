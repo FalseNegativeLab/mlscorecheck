{
 "cells": [
  {
   "cell_type": "code",
   "execution_count": 85,
   "metadata": {},
   "outputs": [],
   "source": [
    "import numpy as np\n",
    "\n",
    "from sklearn.datasets import load_breast_cancer\n",
    "from sklearn.model_selection import train_test_split, RepeatedStratifiedKFold\n",
    "from sklearn.tree import DecisionTreeClassifier\n",
    "from sklearn.metrics import accuracy_score, precision_score, recall_score\n",
    "\n",
    "from mlscorecheck.check import check_test_set_scores\n",
    "from mlscorecheck.core import (consistency_aggregated_integer_programming_rom,\n",
    "                                consistency_aggregated_integer_programming_mor)\n",
    "from mlscorecheck.utils import (generate_problem, generate_n_problems,\n",
    "                                calculate_scores_rom, calculate_scores_mor)"
   ]
  },
  {
   "cell_type": "code",
   "execution_count": 86,
   "metadata": {},
   "outputs": [],
   "source": [
    "problems = generate_n_problems(2)"
   ]
  },
  {
   "cell_type": "code",
   "execution_count": 87,
   "metadata": {},
   "outputs": [
    {
     "data": {
      "text/plain": [
       "[{'p': 627, 'n': 245, 'tp': 91, 'tn': 38, 'fp': 207, 'fn': 536},\n",
       " {'p': 994, 'n': 336, 'tp': 951, 'tn': 1, 'fp': 335, 'fn': 43}]"
      ]
     },
     "execution_count": 87,
     "metadata": {},
     "output_type": "execute_result"
    }
   ],
   "source": [
    "problems"
   ]
  },
  {
   "cell_type": "code",
   "execution_count": 88,
   "metadata": {},
   "outputs": [
    {
     "name": "stdout",
     "output_type": "stream",
     "text": [
      "0.14793577981651376 0.14513556618819776 0.15510204081632653\n",
      "0.7157894736842105 0.9567404426559356 0.002976190476190476\n"
     ]
    }
   ],
   "source": [
    "for prob in problems:\n",
    "    print((prob['tp'] + prob['tn'])/(prob['p'] + prob['n']), prob['tp']/prob['p'], prob['tn']/prob['n'])"
   ]
  },
  {
   "cell_type": "code",
   "execution_count": 89,
   "metadata": {},
   "outputs": [],
   "source": [
    "scores_rom = calculate_scores_rom(problems, rounding_decimals=4)"
   ]
  },
  {
   "cell_type": "code",
   "execution_count": 90,
   "metadata": {},
   "outputs": [
    {
     "data": {
      "text/plain": [
       "{'acc': 0.4909, 'sens': 0.6428, 'spec': 0.0671, 'bacc': 0.355}"
      ]
     },
     "execution_count": 90,
     "metadata": {},
     "output_type": "execute_result"
    }
   ],
   "source": [
    "scores_rom"
   ]
  },
  {
   "cell_type": "code",
   "execution_count": 91,
   "metadata": {},
   "outputs": [],
   "source": [
    "scores_mor = calculate_scores_mor(problems, rounding_decimals=4)"
   ]
  },
  {
   "cell_type": "code",
   "execution_count": 92,
   "metadata": {},
   "outputs": [
    {
     "data": {
      "text/plain": [
       "{'acc': 0.4319, 'sens': 0.5509, 'spec': 0.079, 'bacc': 0.315}"
      ]
     },
     "execution_count": 92,
     "metadata": {},
     "output_type": "execute_result"
    }
   ],
   "source": [
    "scores_mor"
   ]
  },
  {
   "cell_type": "code",
   "execution_count": 93,
   "metadata": {},
   "outputs": [
    {
     "name": "stdout",
     "output_type": "stream",
     "text": [
      "Welcome to the CBC MILP Solver \n",
      "Version: 2.10.3 \n",
      "Build Date: Dec 15 2019 \n",
      "\n",
      "command line - /home/gykovacs/anaconda3/envs/mlscorecheck/lib/python3.10/site-packages/pulp/solverdir/cbc/linux/64/cbc /tmp/7403628962fd4dc68fc2f9feb853380e-pulp.mps timeMode elapsed branch printingOptions all solution /tmp/7403628962fd4dc68fc2f9feb853380e-pulp.sol (default strategy 1)\n",
      "At line 2 NAME          MODEL\n",
      "At line 3 ROWS\n",
      "At line 37 COLUMNS\n",
      "At line 103 RHS\n",
      "At line 136 BOUNDS\n",
      "At line 141 ENDATA\n",
      "Problem MODEL has 32 rows, 4 columns and 56 elements\n",
      "Coin0008I MODEL read with 0 errors\n",
      "Option for timeMode changed from cpu to elapsed\n",
      "Problem is infeasible - 0.00 seconds\n",
      "Option for printingOptions changed from normal to all\n",
      "Total time (CPU seconds):       0.00   (Wallclock seconds):       0.01\n",
      "\n"
     ]
    },
    {
     "data": {
      "text/plain": [
       "(False, {'overall_consistency': False, 'configuration': None})"
      ]
     },
     "execution_count": 93,
     "metadata": {},
     "output_type": "execute_result"
    }
   ],
   "source": [
    "consistency_aggregated_integer_programming_rom(p=[problem['p'] for problem in problems],\n",
    "                                                n=[problem['n'] for problem in problems],\n",
    "                                                scores=scores_rom,\n",
    "                                                score_bounds={'acc': [(0.2, 1.0)]*len(problems),\n",
    "                                                                'sens': [(0.2, 1.0)]*len(problems),\n",
    "                                                                'spec': [(0.2, 1.0)]*len(problems),\n",
    "                                                                'bacc': [(0.2, 1.0)]*len(problems)},\n",
    "                                                eps={'acc': 1e-4,\n",
    "                                                        'sens': 1e-4,\n",
    "                                                        'spec': 1e-4,\n",
    "                                                        'bacc': 1e-4},\n",
    "                                                tptn_bounds=[{'tp': (0, 1000),\n",
    "                                                                'tn': (0, 1000)}]*len(problems),\n",
    "                                                return_details=True)"
   ]
  },
  {
   "cell_type": "code",
   "execution_count": 94,
   "metadata": {},
   "outputs": [
    {
     "name": "stdout",
     "output_type": "stream",
     "text": [
      "Welcome to the CBC MILP Solver \n",
      "Version: 2.10.3 \n",
      "Build Date: Dec 15 2019 \n",
      "\n",
      "command line - /home/gykovacs/anaconda3/envs/mlscorecheck/lib/python3.10/site-packages/pulp/solverdir/cbc/linux/64/cbc /tmp/088c980188a24473a31d7d0e1cab7771-pulp.mps timeMode elapsed branch printingOptions all solution /tmp/088c980188a24473a31d7d0e1cab7771-pulp.sol (default strategy 1)\n",
      "At line 2 NAME          MODEL\n",
      "At line 3 ROWS\n",
      "At line 37 COLUMNS\n",
      "At line 103 RHS\n",
      "At line 136 BOUNDS\n",
      "At line 141 ENDATA\n",
      "Problem MODEL has 32 rows, 4 columns and 56 elements\n",
      "Coin0008I MODEL read with 0 errors\n",
      "Option for timeMode changed from cpu to elapsed\n",
      "Problem is infeasible - 0.00 seconds\n",
      "Option for printingOptions changed from normal to all\n",
      "Total time (CPU seconds):       0.00   (Wallclock seconds):       0.00\n",
      "\n"
     ]
    },
    {
     "data": {
      "text/plain": [
       "(False, {'overall_consistency': False, 'configuration': None})"
      ]
     },
     "execution_count": 94,
     "metadata": {},
     "output_type": "execute_result"
    }
   ],
   "source": [
    "consistency_aggregated_integer_programming_mor(p=[problem['p'] for problem in problems],\n",
    "                                                n=[problem['n'] for problem in problems],\n",
    "                                                scores=scores_mor,\n",
    "                                                score_bounds={'acc': [(0.1, 1.0)]*len(problems),\n",
    "                                                                'sens': [(0.1, 1.0)]*len(problems),\n",
    "                                                                'spec': [(0.1, 1.0)]*len(problems),\n",
    "                                                                'bacc': [(0.1, 1.0)]*len(problems)\n",
    "                                                                },\n",
    "                                                eps={'acc': 1e-4,\n",
    "                                                        'sens': 1e-4,\n",
    "                                                        'spec': 1e-4,\n",
    "                                                        'bacc': 1e-4},\n",
    "                                                tptn_bounds=[{'tp': (0, 1000),\n",
    "                                                                'tn': (0, 1000)}]*len(problems),\n",
    "                                                return_details=True)"
   ]
  },
  {
   "cell_type": "code",
   "execution_count": null,
   "metadata": {},
   "outputs": [],
   "source": []
  },
  {
   "cell_type": "code",
   "execution_count": null,
   "metadata": {},
   "outputs": [],
   "source": []
  },
  {
   "cell_type": "code",
   "execution_count": null,
   "metadata": {},
   "outputs": [],
   "source": []
  },
  {
   "cell_type": "code",
   "execution_count": 95,
   "metadata": {},
   "outputs": [
    {
     "name": "stdout",
     "output_type": "stream",
     "text": [
      "Welcome to the CBC MILP Solver \n",
      "Version: 2.10.3 \n",
      "Build Date: Dec 15 2019 \n",
      "\n",
      "command line - /home/gykovacs/anaconda3/envs/mlscorecheck/lib/python3.10/site-packages/pulp/solverdir/cbc/linux/64/cbc /tmp/2af956e8f1224aa0af16e7f8b82c8278-pulp.mps timeMode elapsed branch printingOptions all solution /tmp/2af956e8f1224aa0af16e7f8b82c8278-pulp.sol (default strategy 1)\n",
      "At line 2 NAME          MODEL\n",
      "At line 3 ROWS\n",
      "At line 37 COLUMNS\n",
      "At line 103 RHS\n",
      "At line 136 BOUNDS\n",
      "At line 141 ENDATA\n",
      "Problem MODEL has 32 rows, 4 columns and 56 elements\n",
      "Coin0008I MODEL read with 0 errors\n",
      "Option for timeMode changed from cpu to elapsed\n",
      "Problem is infeasible - 0.00 seconds\n",
      "Option for printingOptions changed from normal to all\n",
      "Total time (CPU seconds):       0.00   (Wallclock seconds):       0.00\n",
      "\n"
     ]
    },
    {
     "data": {
      "text/plain": [
       "(False, {'overall_consistency': False, 'configuration': None})"
      ]
     },
     "execution_count": 95,
     "metadata": {},
     "output_type": "execute_result"
    }
   ],
   "source": [
    "consistency_aggregated_integer_programming_mor(p=[problem['p'] for problem in problems],\n",
    "                                                n=[problem['n'] for problem in problems],\n",
    "                                                scores=scores_mor,\n",
    "                                                score_bounds={'acc': [(0.2, 1.0)]*len(problems),\n",
    "                                                                'sens': [(0.2, 1.0)]*len(problems),\n",
    "                                                                'spec': [(0.2, 1.0)]*len(problems),\n",
    "                                                                'bacc': [(0.2, 1.0)]*len(problems)},\n",
    "                                                eps={'acc': 1e-4,\n",
    "                                                        'sens': 1e-4,\n",
    "                                                        'spec': 1e-4,\n",
    "                                                        'bacc': 1e-4},\n",
    "                                                tptn_bounds=[{'tp': (0, 1000),\n",
    "                                                                'tn': (0, 1000)}]*len(problems),\n",
    "                                                return_details=True)"
   ]
  },
  {
   "cell_type": "code",
   "execution_count": 96,
   "metadata": {},
   "outputs": [
    {
     "name": "stdout",
     "output_type": "stream",
     "text": [
      "Welcome to the CBC MILP Solver \n",
      "Version: 2.10.3 \n",
      "Build Date: Dec 15 2019 \n",
      "\n",
      "command line - /home/gykovacs/anaconda3/envs/mlscorecheck/lib/python3.10/site-packages/pulp/solverdir/cbc/linux/64/cbc /tmp/b66f05341ec64795af661086f3076a74-pulp.mps timeMode elapsed branch printingOptions all solution /tmp/b66f05341ec64795af661086f3076a74-pulp.sol (default strategy 1)\n",
      "At line 2 NAME          MODEL\n",
      "At line 3 ROWS\n",
      "At line 37 COLUMNS\n",
      "At line 103 RHS\n",
      "At line 136 BOUNDS\n",
      "At line 141 ENDATA\n",
      "Problem MODEL has 32 rows, 4 columns and 56 elements\n",
      "Coin0008I MODEL read with 0 errors\n",
      "Option for timeMode changed from cpu to elapsed\n",
      "Problem is infeasible - 0.00 seconds\n",
      "Option for printingOptions changed from normal to all\n",
      "Total time (CPU seconds):       0.00   (Wallclock seconds):       0.00\n",
      "\n"
     ]
    }
   ],
   "source": [
    "flag, prob = consistency_aggregated_integer_programming_mor(p=[problem['p'] for problem in problems],\n",
    "                                                n=[problem['n'] for problem in problems],\n",
    "                                                scores=scores_mor,\n",
    "                                                score_bounds={'acc': [(0.2, 1.0)]*len(problems),\n",
    "                                                                'sens': [(0.2, 1.0)]*len(problems),\n",
    "                                                                'spec': [(0.2, 1.0)]*len(problems),\n",
    "                                                                'bacc': [(0.2, 1.0)]*len(problems)},\n",
    "                                                eps={'acc': 1e-4,\n",
    "                                                        'sens': 1e-4,\n",
    "                                                        'spec': 1e-4,\n",
    "                                                        'bacc': 1e-4},\n",
    "                                                tptn_bounds=[{'tp': (0, 1000),\n",
    "                                                                'tn': (0, 1000)}]*len(problems),\n",
    "                                                return_details=True)"
   ]
  },
  {
   "cell_type": "code",
   "execution_count": 97,
   "metadata": {},
   "outputs": [
    {
     "data": {
      "text/plain": [
       "(False, {'overall_consistency': False, 'configuration': None})"
      ]
     },
     "execution_count": 97,
     "metadata": {},
     "output_type": "execute_result"
    }
   ],
   "source": [
    "flag, prob"
   ]
  },
  {
   "cell_type": "code",
   "execution_count": 98,
   "metadata": {},
   "outputs": [],
   "source": [
    "dataset = load_breast_cancer()\n",
    "\n",
    "X = dataset['data']\n",
    "y = dataset['target']"
   ]
  },
  {
   "cell_type": "code",
   "execution_count": 99,
   "metadata": {},
   "outputs": [],
   "source": [
    "validator = RepeatedStratifiedKFold(n_repeats=5, n_splits=5)"
   ]
  },
  {
   "cell_type": "code",
   "execution_count": 100,
   "metadata": {},
   "outputs": [],
   "source": [
    "y_test_all = []\n",
    "y_pred_all = []\n",
    "\n",
    "for train, test in validator.split(X, y, y):\n",
    "    X_train = X[train]\n",
    "    X_test = X[test]\n",
    "    y_train = y[train]\n",
    "    y_test = y[test]\n",
    "    \n",
    "    classifier = DecisionTreeClassifier()\n",
    "    \n",
    "    y_pred = classifier.fit(X_train, y_train).predict(X_test)\n",
    "    \n",
    "    y_test_all.extend(y_test)\n",
    "    y_pred_all.extend(y_pred)\n",
    "\n",
    "y_test_all = np.array(y_test_all)\n",
    "y_pred_all = np.array(y_pred_all)"
   ]
  },
  {
   "cell_type": "code",
   "execution_count": 101,
   "metadata": {},
   "outputs": [],
   "source": [
    "acc = accuracy_score(y_test_all, y_pred_all)\n",
    "rec = recall_score(y_test_all, y_pred_all)\n",
    "prec = precision_score(y_test_all, y_pred_all)"
   ]
  },
  {
   "cell_type": "code",
   "execution_count": 102,
   "metadata": {},
   "outputs": [],
   "source": [
    "scores = {'acc': np.round(acc, 4),\n",
    "            'sens': np.round(rec, 4),\n",
    "            'ppv': np.round(prec, 4)}"
   ]
  },
  {
   "cell_type": "code",
   "execution_count": 103,
   "metadata": {},
   "outputs": [
    {
     "name": "stderr",
     "output_type": "stream",
     "text": [
      "2023-08-13 10:58:39,076:INFO:checking acc and sens against ppv\n",
      "2023-08-13 10:58:39,085:INFO:checking acc and ppv against sens\n",
      "2023-08-13 10:58:39,087:INFO:checking sens and ppv against acc\n"
     ]
    },
    {
     "data": {
      "text/plain": [
       "(True,\n",
       " {'succeeded': [{'details': [{'score_0': 'acc',\n",
       "      'score_0_interval': (0.9261, 0.9263),\n",
       "      'score_1': 'sens',\n",
       "      'score_1_interval': (0.9394, 0.9396),\n",
       "      'target_score': 'ppv',\n",
       "      'target_interval': (0.9426, 0.9428),\n",
       "      'solution': {'tp': (1676.829, 1677.186),\n",
       "       'tn': (957.5685000000001, 958.4945)},\n",
       "      'consistency': True,\n",
       "      'explanation': 'the target score interval ((0.9426, 0.9428)) and the reconstructed intervals ((0.9422412400417507, 0.9431217805199191)) do not intersect',\n",
       "      'target_interval_reconstructed': (0.9422412400417507, 0.9431217805199191)}],\n",
       "    'consistency': True},\n",
       "   {'details': [{'score_0': 'acc',\n",
       "      'score_0_interval': (0.9261, 0.9263),\n",
       "      'score_1': 'ppv',\n",
       "      'score_1_interval': (0.9426, 0.9428),\n",
       "      'target_score': 'sens',\n",
       "      'target_interval': (0.9394, 0.9396),\n",
       "      'solution': {'tp': (1676.1106500677506, 1677.8298642114776),\n",
       "       'tn': (956.8113049909664, 959.3272659286033)},\n",
       "      'consistency': True,\n",
       "      'explanation': 'the target score interval ((0.9394, 0.9396)) and the reconstructed intervals ((0.9389975630631656, 0.9399607082417242)) do not intersect',\n",
       "      'target_interval_reconstructed': (0.9389975630631656, 0.9399607082417242)}],\n",
       "    'consistency': True},\n",
       "   {'details': [{'score_0': 'sens',\n",
       "      'score_0_interval': (0.9394, 0.9396),\n",
       "      'score_1': 'ppv',\n",
       "      'score_1_interval': (0.9426, 0.9428),\n",
       "      'target_score': 'acc',\n",
       "      'target_interval': (0.9261, 0.9263),\n",
       "      'solution': {'tp': (1676.829, 1677.186),\n",
       "       'tn': (957.3069743317774, 958.8266081052403)},\n",
       "      'consistency': True,\n",
       "      'explanation': 'the target score interval ((0.9261, 0.9263)) and the reconstructed intervals ((0.9258825920322591, 0.9265422172601899)) do not intersect',\n",
       "      'target_interval_reconstructed': (0.9258825920322591, 0.9265422172601899)}],\n",
       "    'consistency': True}],\n",
       "  'failed': [],\n",
       "  'overall_consistency': True})"
      ]
     },
     "execution_count": 103,
     "metadata": {},
     "output_type": "execute_result"
    }
   ],
   "source": [
    "check_test_set_scores(scores, 1e-4, p=5*np.sum(y), n=5*(len(y)-np.sum(y)), return_details=True)"
   ]
  },
  {
   "cell_type": "code",
   "execution_count": 104,
   "metadata": {},
   "outputs": [
    {
     "name": "stdout",
     "output_type": "stream",
     "text": [
      "Welcome to the CBC MILP Solver \n",
      "Version: 2.10.3 \n",
      "Build Date: Dec 15 2019 \n",
      "\n",
      "command line - /home/gykovacs/anaconda3/envs/mlscorecheck/lib/python3.10/site-packages/pulp/solverdir/cbc/linux/64/cbc /tmp/905f6b9c2ae94ae89855dc1827fd63dd-pulp.mps timeMode elapsed branch printingOptions all solution /tmp/905f6b9c2ae94ae89855dc1827fd63dd-pulp.sol (default strategy 1)\n",
      "At line 2 NAME          MODEL\n",
      "At line 3 ROWS\n",
      "At line 11 COLUMNS\n",
      "At line 37 RHS\n",
      "At line 44 BOUNDS\n",
      "At line 49 ENDATA\n",
      "Problem MODEL has 6 rows, 4 columns and 16 elements\n",
      "Coin0008I MODEL read with 0 errors\n",
      "Option for timeMode changed from cpu to elapsed\n",
      "Continuous objective value is 8 - 0.00 seconds\n",
      "Cgl0004I processed model has 4 rows, 2 columns (2 integer (0 of which binary)) and 8 elements\n",
      "Cutoff increment increased from 1e-05 to 0.9999\n",
      "Cbc0012I Integer solution of 8 found by DiveCoefficient after 0 iterations and 0 nodes (0.00 seconds)\n",
      "Cbc0001I Search completed - best objective 8, took 0 iterations and 0 nodes (0.00 seconds)\n",
      "Cbc0035I Maximum depth 0, 0 variables fixed on reduced cost\n",
      "Cuts at root node changed objective from 8 to 8\n",
      "Probing was tried 0 times and created 0 cuts of which 0 were active after adding rounds of cuts (0.000 seconds)\n",
      "Gomory was tried 0 times and created 0 cuts of which 0 were active after adding rounds of cuts (0.000 seconds)\n",
      "Knapsack was tried 0 times and created 0 cuts of which 0 were active after adding rounds of cuts (0.000 seconds)\n",
      "Clique was tried 0 times and created 0 cuts of which 0 were active after adding rounds of cuts (0.000 seconds)\n",
      "MixedIntegerRounding2 was tried 0 times and created 0 cuts of which 0 were active after adding rounds of cuts (0.000 seconds)\n",
      "FlowCover was tried 0 times and created 0 cuts of which 0 were active after adding rounds of cuts (0.000 seconds)\n",
      "TwoMirCuts was tried 0 times and created 0 cuts of which 0 were active after adding rounds of cuts (0.000 seconds)\n",
      "ZeroHalf was tried 0 times and created 0 cuts of which 0 were active after adding rounds of cuts (0.000 seconds)\n",
      "\n",
      "Result - Optimal solution found\n",
      "\n",
      "Objective value:                8.00000000\n",
      "Enumerated nodes:               0\n",
      "Total iterations:               0\n",
      "Time (CPU seconds):             0.00\n",
      "Time (Wallclock seconds):       0.00\n",
      "\n",
      "Option for printingOptions changed from normal to all\n",
      "Total time (CPU seconds):       0.00   (Wallclock seconds):       0.00\n",
      "\n"
     ]
    }
   ],
   "source": [
    "flag, prob = consistency_aggregated_integer_programming_rom(p=[10, 15],\n",
    "                                                n=[20, 25],\n",
    "                                                scores={'acc': 0.95,\n",
    "                                                        'sens': 0.93,\n",
    "                                                        'spec': 0.98},\n",
    "                                                eps=1e-2,\n",
    "                                                return_details=True)"
   ]
  },
  {
   "cell_type": "code",
   "execution_count": 105,
   "metadata": {},
   "outputs": [
    {
     "ename": "AttributeError",
     "evalue": "'dict' object has no attribute 'status'",
     "output_type": "error",
     "traceback": [
      "\u001b[0;31m---------------------------------------------------------------------------\u001b[0m",
      "\u001b[0;31mAttributeError\u001b[0m                            Traceback (most recent call last)",
      "Cell \u001b[0;32mIn[105], line 1\u001b[0m\n\u001b[0;32m----> 1\u001b[0m prob\u001b[39m.\u001b[39;49mstatus\n",
      "\u001b[0;31mAttributeError\u001b[0m: 'dict' object has no attribute 'status'"
     ]
    }
   ],
   "source": [
    "prob.status"
   ]
  },
  {
   "cell_type": "code",
   "execution_count": null,
   "metadata": {},
   "outputs": [
    {
     "name": "stdout",
     "output_type": "stream",
     "text": [
      "tn0 19.0\n",
      "tn1 25.0\n",
      "tp0 8.0\n",
      "tp1 15.0\n"
     ]
    }
   ],
   "source": [
    "for var in prob.variables():\n",
    "    print(var.name, var.varValue)"
   ]
  },
  {
   "cell_type": "code",
   "execution_count": null,
   "metadata": {},
   "outputs": [],
   "source": []
  }
 ],
 "metadata": {
  "kernelspec": {
   "display_name": "mlscorecheck",
   "language": "python",
   "name": "python3"
  },
  "language_info": {
   "codemirror_mode": {
    "name": "ipython",
    "version": 3
   },
   "file_extension": ".py",
   "mimetype": "text/x-python",
   "name": "python",
   "nbconvert_exporter": "python",
   "pygments_lexer": "ipython3",
   "version": "3.10.0"
  },
  "orig_nbformat": 4
 },
 "nbformat": 4,
 "nbformat_minor": 2
}
