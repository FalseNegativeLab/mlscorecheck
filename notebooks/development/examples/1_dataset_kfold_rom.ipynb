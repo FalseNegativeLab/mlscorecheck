{
 "cells": [
  {
   "cell_type": "code",
   "execution_count": 2,
   "metadata": {},
   "outputs": [],
   "source": [
    "from mlscorecheck.check import check_1_dataset_kfold_rom_scores"
   ]
  },
  {
   "cell_type": "code",
   "execution_count": 3,
   "metadata": {},
   "outputs": [
    {
     "name": "stderr",
     "output_type": "stream",
     "text": [
      "2023-08-27 07:44:05,886:INFO:generating a random id for the dataset\n",
      "2023-08-27 07:44:05,889:INFO:a random identifier for the fold has been generated exiebktnygjpaonu\n",
      "2023-08-27 07:44:05,890:INFO:checking acc and sens against spec\n",
      "2023-08-27 07:44:05,892:INFO:checking acc and spec against sens\n",
      "2023-08-27 07:44:05,893:INFO:checking sens and spec against acc\n",
      "2023-08-27 07:44:05,893:INFO:In the lack of score bounds, the linear programming based aggregated test is not considered.\n"
     ]
    }
   ],
   "source": [
    "result = check_1_dataset_kfold_rom_scores(\n",
    "            scores = {'acc': 0.954, 'sens': 0.934, 'spec': 0.98},\n",
    "            eps = 1e-3,\n",
    "            dataset = {'p': 5, 'n': 70, 'n_folds': 3, 'n_repeats': 10}\n",
    "        )"
   ]
  },
  {
   "cell_type": "code",
   "execution_count": 4,
   "metadata": {},
   "outputs": [
    {
     "name": "stderr",
     "output_type": "stream",
     "text": [
      "2023-08-27 07:44:05,905:INFO:a random identifier for the fold has been generated olfkyvptxlxcgkvt\n",
      "2023-08-27 07:44:05,907:INFO:checking acc and sens against spec\n",
      "2023-08-27 07:44:05,908:INFO:checking acc and spec against sens\n",
      "2023-08-27 07:44:05,909:INFO:checking sens and spec against acc\n",
      "2023-08-27 07:44:05,909:INFO:In the lack of score bounds, the linear programming based aggregated test is not considered.\n"
     ]
    }
   ],
   "source": [
    "result = check_1_dataset_kfold_rom_scores(\n",
    "            scores = {'acc': 0.954, 'sens': 0.934, 'spec': 0.98},\n",
    "            eps = 1e-3,\n",
    "            dataset = {'name': 'common_datasets.ADA',\n",
    "                        'n_folds': 1}\n",
    "        )"
   ]
  },
  {
   "cell_type": "code",
   "execution_count": 5,
   "metadata": {},
   "outputs": [
    {
     "name": "stderr",
     "output_type": "stream",
     "text": [
      "2023-08-27 07:44:05,920:INFO:checking acc and sens against spec\n",
      "2023-08-27 07:44:05,922:INFO:checking acc and spec against sens\n",
      "2023-08-27 07:44:05,924:INFO:checking sens and spec against acc\n",
      "2023-08-27 07:44:05,925:INFO:In the lack of score bounds, the linear programming based aggregated test is not considered.\n"
     ]
    }
   ],
   "source": [
    "result = check_1_dataset_kfold_rom_scores(\n",
    "            scores = {'acc': 0.954, 'sens': 0.934, 'spec': 0.98},\n",
    "            eps = 1e-3,\n",
    "            dataset = {'name': 'common_datasets.ADA',\n",
    "                        'n_folds': 3,\n",
    "                        'n_repeats': 1,\n",
    "                        'folding': 'stratified_sklearn'}\n",
    "        )"
   ]
  },
  {
   "cell_type": "code",
   "execution_count": 6,
   "metadata": {},
   "outputs": [
    {
     "ename": "ValueError",
     "evalue": "for fold score bounds to be set folding needs to be specified if n_folds > 1",
     "output_type": "error",
     "traceback": [
      "\u001b[0;31m---------------------------------------------------------------------------\u001b[0m",
      "\u001b[0;31mValueError\u001b[0m                                Traceback (most recent call last)",
      "Cell \u001b[0;32mIn[6], line 1\u001b[0m\n\u001b[0;32m----> 1\u001b[0m result \u001b[39m=\u001b[39m check_1_dataset_kfold_rom_scores(\n\u001b[1;32m      2\u001b[0m             scores \u001b[39m=\u001b[39;49m {\u001b[39m'\u001b[39;49m\u001b[39macc\u001b[39;49m\u001b[39m'\u001b[39;49m: \u001b[39m0.954\u001b[39;49m, \u001b[39m'\u001b[39;49m\u001b[39msens\u001b[39;49m\u001b[39m'\u001b[39;49m: \u001b[39m0.934\u001b[39;49m, \u001b[39m'\u001b[39;49m\u001b[39mspec\u001b[39;49m\u001b[39m'\u001b[39;49m: \u001b[39m0.98\u001b[39;49m},\n\u001b[1;32m      3\u001b[0m             eps \u001b[39m=\u001b[39;49m \u001b[39m1e-3\u001b[39;49m,\n\u001b[1;32m      4\u001b[0m             dataset \u001b[39m=\u001b[39;49m {\u001b[39m'\u001b[39;49m\u001b[39mname\u001b[39;49m\u001b[39m'\u001b[39;49m: \u001b[39m'\u001b[39;49m\u001b[39mcommon_datasets.ADA\u001b[39;49m\u001b[39m'\u001b[39;49m,\n\u001b[1;32m      5\u001b[0m                         \u001b[39m'\u001b[39;49m\u001b[39mn_folds\u001b[39;49m\u001b[39m'\u001b[39;49m: \u001b[39m3\u001b[39;49m,\n\u001b[1;32m      6\u001b[0m                         \u001b[39m'\u001b[39;49m\u001b[39mn_repeats\u001b[39;49m\u001b[39m'\u001b[39;49m: \u001b[39m1\u001b[39;49m,\n\u001b[1;32m      7\u001b[0m                         \u001b[39m'\u001b[39;49m\u001b[39mfold_score_bounds\u001b[39;49m\u001b[39m'\u001b[39;49m: {\u001b[39m'\u001b[39;49m\u001b[39macc\u001b[39;49m\u001b[39m'\u001b[39;49m: [\u001b[39m0\u001b[39;49m, \u001b[39m1\u001b[39;49m]}}\n\u001b[1;32m      8\u001b[0m         )\n",
      "File \u001b[0;32m~/workspaces/mlscorecheck/mlscorecheck/check/_check_1_dataset_kfold_rom_scores.py:84\u001b[0m, in \u001b[0;36mcheck_1_dataset_kfold_rom_scores\u001b[0;34m(scores, eps, dataset, solver_name, timeout)\u001b[0m\n\u001b[1;32m     79\u001b[0m     \u001b[39mraise\u001b[39;00m \u001b[39mValueError\u001b[39;00m(\u001b[39m'\u001b[39m\u001b[39mit is unnecessary to set score bounds at the dataset level, \u001b[39m\u001b[39m'\u001b[39m\\\n\u001b[1;32m     80\u001b[0m                         \u001b[39m'\u001b[39m\u001b[39mthe scores are implicitly bounded by the numerical uncertainty\u001b[39m\u001b[39m'\u001b[39m)\n\u001b[1;32m     82\u001b[0m \u001b[39m# creating the experiment consisting of one single dataset, the\u001b[39;00m\n\u001b[1;32m     83\u001b[0m \u001b[39m# outer level aggregation can be arbitrary\u001b[39;00m\n\u001b[0;32m---> 84\u001b[0m experiment \u001b[39m=\u001b[39m Experiment(datasets\u001b[39m=\u001b[39;49m[dataset],\n\u001b[1;32m     85\u001b[0m                         aggregation\u001b[39m=\u001b[39;49m\u001b[39m'\u001b[39;49m\u001b[39mrom\u001b[39;49m\u001b[39m'\u001b[39;49m)\n\u001b[1;32m     87\u001b[0m \u001b[39m# calculating the raw tp, tn, p and n figures\u001b[39;00m\n\u001b[1;32m     88\u001b[0m figures \u001b[39m=\u001b[39m experiment\u001b[39m.\u001b[39mcalculate_figures()\n",
      "File \u001b[0;32m~/workspaces/mlscorecheck/mlscorecheck/aggregated/_experiment.py:83\u001b[0m, in \u001b[0;36mExperiment.__init__\u001b[0;34m(self, aggregation, datasets, identifier)\u001b[0m\n\u001b[1;32m     79\u001b[0m \u001b[39mself\u001b[39m\u001b[39m.\u001b[39maggregation \u001b[39m=\u001b[39m aggregation\n\u001b[1;32m     81\u001b[0m \u001b[39mself\u001b[39m\u001b[39m.\u001b[39mlinear_programming \u001b[39m=\u001b[39m \u001b[39mNone\u001b[39;00m\n\u001b[0;32m---> 83\u001b[0m \u001b[39mself\u001b[39;49m\u001b[39m.\u001b[39;49minitialize_datasets()\n",
      "File \u001b[0;32m~/workspaces/mlscorecheck/mlscorecheck/aggregated/_experiment.py:121\u001b[0m, in \u001b[0;36mExperiment.initialize_datasets\u001b[0;34m(self)\u001b[0m\n\u001b[1;32m    117\u001b[0m \u001b[39m\u001b[39m\u001b[39m\"\"\"\u001b[39;00m\n\u001b[1;32m    118\u001b[0m \u001b[39mInitialize all datasets\u001b[39;00m\n\u001b[1;32m    119\u001b[0m \u001b[39m\"\"\"\u001b[39;00m\n\u001b[1;32m    120\u001b[0m \u001b[39mif\u001b[39;00m \u001b[39mnot\u001b[39;00m \u001b[39misinstance\u001b[39m(\u001b[39mself\u001b[39m\u001b[39m.\u001b[39mdatasets[\u001b[39m0\u001b[39m], Dataset):\n\u001b[0;32m--> 121\u001b[0m     \u001b[39mself\u001b[39m\u001b[39m.\u001b[39mdatasets \u001b[39m=\u001b[39m [Dataset(\u001b[39m*\u001b[39m\u001b[39m*\u001b[39mdataset) \u001b[39mfor\u001b[39;00m dataset \u001b[39min\u001b[39;00m \u001b[39mself\u001b[39m\u001b[39m.\u001b[39mdatasets]\n",
      "File \u001b[0;32m~/workspaces/mlscorecheck/mlscorecheck/aggregated/_experiment.py:121\u001b[0m, in \u001b[0;36m<listcomp>\u001b[0;34m(.0)\u001b[0m\n\u001b[1;32m    117\u001b[0m \u001b[39m\u001b[39m\u001b[39m\"\"\"\u001b[39;00m\n\u001b[1;32m    118\u001b[0m \u001b[39mInitialize all datasets\u001b[39;00m\n\u001b[1;32m    119\u001b[0m \u001b[39m\"\"\"\u001b[39;00m\n\u001b[1;32m    120\u001b[0m \u001b[39mif\u001b[39;00m \u001b[39mnot\u001b[39;00m \u001b[39misinstance\u001b[39m(\u001b[39mself\u001b[39m\u001b[39m.\u001b[39mdatasets[\u001b[39m0\u001b[39m], Dataset):\n\u001b[0;32m--> 121\u001b[0m     \u001b[39mself\u001b[39m\u001b[39m.\u001b[39mdatasets \u001b[39m=\u001b[39m [Dataset(\u001b[39m*\u001b[39;49m\u001b[39m*\u001b[39;49mdataset) \u001b[39mfor\u001b[39;00m dataset \u001b[39min\u001b[39;00m \u001b[39mself\u001b[39m\u001b[39m.\u001b[39mdatasets]\n",
      "File \u001b[0;32m~/workspaces/mlscorecheck/mlscorecheck/aggregated/_dataset.py:288\u001b[0m, in \u001b[0;36mDataset.__init__\u001b[0;34m(self, aggregation, identifier, name, p, n, folds, n_folds, n_repeats, folding, score_bounds, fold_score_bounds)\u001b[0m\n\u001b[1;32m    285\u001b[0m     logger\u001b[39m.\u001b[39minfo(\u001b[39m'\u001b[39m\u001b[39mgenerating a random id for the dataset\u001b[39m\u001b[39m'\u001b[39m)\n\u001b[1;32m    286\u001b[0m     \u001b[39mself\u001b[39m\u001b[39m.\u001b[39midentifier \u001b[39m=\u001b[39m random_identifier(\u001b[39m16\u001b[39m)\n\u001b[0;32m--> 288\u001b[0m \u001b[39mself\u001b[39m\u001b[39m.\u001b[39mfolds \u001b[39m=\u001b[39m create_folds(p\u001b[39m=\u001b[39;49mp,\n\u001b[1;32m    289\u001b[0m                             n\u001b[39m=\u001b[39;49mn,\n\u001b[1;32m    290\u001b[0m                             n_folds\u001b[39m=\u001b[39;49mn_folds,\n\u001b[1;32m    291\u001b[0m                             n_repeats\u001b[39m=\u001b[39;49mn_repeats,\n\u001b[1;32m    292\u001b[0m                             folds\u001b[39m=\u001b[39;49mfolds,\n\u001b[1;32m    293\u001b[0m                             folding\u001b[39m=\u001b[39;49mfolding,\n\u001b[1;32m    294\u001b[0m                             fold_score_bounds\u001b[39m=\u001b[39;49mfold_score_bounds,\n\u001b[1;32m    295\u001b[0m                             aggregation\u001b[39m=\u001b[39;49maggregation,\n\u001b[1;32m    296\u001b[0m                             name\u001b[39m=\u001b[39;49mname,\n\u001b[1;32m    297\u001b[0m                             identifier\u001b[39m=\u001b[39;49m\u001b[39mself\u001b[39;49m\u001b[39m.\u001b[39;49midentifier)\n\u001b[1;32m    299\u001b[0m \u001b[39mself\u001b[39m\u001b[39m.\u001b[39maggregation \u001b[39m=\u001b[39m aggregation\n\u001b[1;32m    301\u001b[0m \u001b[39mself\u001b[39m\u001b[39m.\u001b[39mscore_bounds \u001b[39m=\u001b[39m score_bounds\n",
      "File \u001b[0;32m~/workspaces/mlscorecheck/mlscorecheck/aggregated/_folding.py:64\u001b[0m, in \u001b[0;36mcreate_folds\u001b[0;34m(p, n, n_folds, n_repeats, folds, folding, fold_score_bounds, aggregation, name, identifier)\u001b[0m\n\u001b[1;32m     60\u001b[0m         \u001b[39mraise\u001b[39;00m \u001b[39mValueError\u001b[39;00m(\u001b[39m'\u001b[39m\u001b[39mfor mean of ratios aggregation the folding needs \u001b[39m\u001b[39m'\u001b[39m\\\n\u001b[1;32m     61\u001b[0m                             \u001b[39m'\u001b[39m\u001b[39mto be specified if n_folds > 1\u001b[39m\u001b[39m'\u001b[39m)\n\u001b[1;32m     63\u001b[0m     \u001b[39mif\u001b[39;00m n_folds \u001b[39m>\u001b[39m \u001b[39m1\u001b[39m \u001b[39mand\u001b[39;00m folding \u001b[39mis\u001b[39;00m \u001b[39mNone\u001b[39;00m \u001b[39mand\u001b[39;00m fold_score_bounds \u001b[39mis\u001b[39;00m \u001b[39mnot\u001b[39;00m \u001b[39mNone\u001b[39;00m:\n\u001b[0;32m---> 64\u001b[0m         \u001b[39mraise\u001b[39;00m \u001b[39mValueError\u001b[39;00m(\u001b[39m'\u001b[39m\u001b[39mfor fold score bounds to be set folding needs to \u001b[39m\u001b[39m'\u001b[39m\\\n\u001b[1;32m     65\u001b[0m                             \u001b[39m'\u001b[39m\u001b[39mbe specified if n_folds > 1\u001b[39m\u001b[39m'\u001b[39m)\n\u001b[1;32m     67\u001b[0m     \u001b[39mreturn\u001b[39;00m _create_folds(p\u001b[39m=\u001b[39mp,\n\u001b[1;32m     68\u001b[0m                             n\u001b[39m=\u001b[39mn,\n\u001b[1;32m     69\u001b[0m                             n_folds\u001b[39m=\u001b[39mn_folds,\n\u001b[0;32m   (...)\u001b[0m\n\u001b[1;32m     72\u001b[0m                             score_bounds\u001b[39m=\u001b[39mfold_score_bounds,\n\u001b[1;32m     73\u001b[0m                             identifier\u001b[39m=\u001b[39midentifier)\n\u001b[1;32m     75\u001b[0m \u001b[39mreturn\u001b[39;00m ([fold \u001b[39m|\u001b[39m {\u001b[39m'\u001b[39m\u001b[39mscore_bounds\u001b[39m\u001b[39m'\u001b[39m: {\u001b[39m*\u001b[39m\u001b[39m*\u001b[39mfold_score_bounds}} \u001b[39mfor\u001b[39;00m fold \u001b[39min\u001b[39;00m folds]\n\u001b[1;32m     76\u001b[0m         \u001b[39mif\u001b[39;00m fold_score_bounds \u001b[39mis\u001b[39;00m \u001b[39mnot\u001b[39;00m \u001b[39mNone\u001b[39;00m \u001b[39melse\u001b[39;00m folds)\n",
      "\u001b[0;31mValueError\u001b[0m: for fold score bounds to be set folding needs to be specified if n_folds > 1"
     ]
    }
   ],
   "source": [
    "result = check_1_dataset_kfold_rom_scores(\n",
    "            scores = {'acc': 0.954, 'sens': 0.934, 'spec': 0.98},\n",
    "            eps = 1e-3,\n",
    "            dataset = {'name': 'common_datasets.ADA',\n",
    "                        'n_folds': 3,\n",
    "                        'n_repeats': 1,\n",
    "                        'fold_score_bounds': {'acc': [0, 1]}}\n",
    "        )"
   ]
  },
  {
   "cell_type": "code",
   "execution_count": 6,
   "metadata": {},
   "outputs": [
    {
     "name": "stderr",
     "output_type": "stream",
     "text": [
      "2023-08-27 06:35:21,755:INFO:generating a random id for the dataset\n",
      "2023-08-27 06:35:21,758:INFO:a random identifier for the fold has been generated krpzzivyapfcuobt\n",
      "2023-08-27 06:35:21,761:INFO:a random identifier for the fold has been generated mfkhmkmtqxpaeenc\n",
      "2023-08-27 06:35:21,762:INFO:a random identifier for the fold has been generated gakhwtvrgzsofate\n",
      "2023-08-27 06:35:21,764:INFO:checking acc and sens against spec\n",
      "2023-08-27 06:35:21,765:INFO:checking acc and spec against sens\n",
      "2023-08-27 06:35:21,767:INFO:checking sens and spec against acc\n",
      "2023-08-27 06:35:21,769:INFO:In the lack of score bounds, the linear programming based aggregated test is not considered.\n"
     ]
    }
   ],
   "source": [
    "result = check_1_dataset_kfold_rom_scores(\n",
    "            scores = {'acc': 0.954, 'sens': 0.934, 'spec': 0.98},\n",
    "            eps = 1e-3,\n",
    "            dataset = {'folds': [{'p': 2, 'n': 20},\n",
    "                                    {'p': 2, 'n': 30},\n",
    "                                    {'p': 1, 'n': 20}]}\n",
    "        )"
   ]
  },
  {
   "cell_type": "code",
   "execution_count": 7,
   "metadata": {},
   "outputs": [
    {
     "name": "stderr",
     "output_type": "stream",
     "text": [
      "2023-08-27 06:35:21,782:INFO:generating a random id for the dataset\n",
      "2023-08-27 06:35:21,784:INFO:a random identifier for the fold has been generated xzuytglgpgraryjp\n",
      "2023-08-27 06:35:21,786:INFO:a random identifier for the fold has been generated cotouhdlmbkkkmon\n",
      "2023-08-27 06:35:21,787:INFO:a random identifier for the fold has been generated sijrxlsfbbvvnowf\n",
      "2023-08-27 06:35:21,789:INFO:checking acc and sens against spec\n",
      "2023-08-27 06:35:21,791:INFO:checking acc and spec against sens\n",
      "2023-08-27 06:35:21,792:INFO:checking sens and spec against acc\n",
      "/home/gykovacs/workspaces/mlscorecheck/mlscorecheck/check/_check_1_dataset_kfold_rom_scores.py:109: UserWarning: It is not a common situation that score bounds can be specified with ratio-of-means aggregation on one single dataset. Please double check the configuration.\n",
      "  warnings.warn('It is not a common situation that score bounds '\\\n",
      "2023-08-27 06:35:21,796:INFO:fold xzuytglgpgraryjp: adding lower bound 0.0 for acc\n",
      "2023-08-27 06:35:21,797:INFO:fold xzuytglgpgraryjp: adding upper bound 1.0 for acc\n",
      "2023-08-27 06:35:21,798:INFO:None: adding condition acc >= 0.953000\n",
      "2023-08-27 06:35:21,799:INFO:None: adding condition acc <= 0.955000\n",
      "2023-08-27 06:35:21,800:INFO:None: adding condition sens >= 0.933000\n",
      "2023-08-27 06:35:21,801:INFO:None: adding condition sens <= 0.935000\n",
      "2023-08-27 06:35:21,802:INFO:None: adding condition spec >= 0.979000\n",
      "2023-08-27 06:35:21,803:INFO:None: adding condition spec <= 0.981000\n"
     ]
    },
    {
     "name": "stdout",
     "output_type": "stream",
     "text": [
      "asdf None\n",
      "Welcome to the CBC MILP Solver \n",
      "Version: 2.10.3 \n",
      "Build Date: Dec 15 2019 \n",
      "\n",
      "command line - /home/gykovacs/anaconda3/envs/mlscorecheck/lib/python3.10/site-packages/pulp/solverdir/cbc/linux/64/cbc /tmp/ab524570fb7245cb8d98e99c718349e7-pulp.mps timeMode elapsed branch printingOptions all solution /tmp/ab524570fb7245cb8d98e99c718349e7-pulp.sol (default strategy 1)\n",
      "At line 2 NAME          MODEL\n",
      "At line 3 ROWS\n",
      "At line 13 COLUMNS\n",
      "At line 55 RHS\n",
      "At line 64 BOUNDS\n",
      "At line 72 ENDATA\n",
      "Problem MODEL has 8 rows, 7 columns and 28 elements\n",
      "Coin0008I MODEL read with 0 errors\n",
      "Option for timeMode changed from cpu to elapsed\n",
      "Problem is infeasible - 0.00 seconds\n",
      "Option for printingOptions changed from normal to all\n",
      "Total time (CPU seconds):       0.00   (Wallclock seconds):       0.00\n",
      "\n"
     ]
    }
   ],
   "source": [
    "result = check_1_dataset_kfold_rom_scores(\n",
    "            scores = {'acc': 0.954, 'sens': 0.934, 'spec': 0.98},\n",
    "            eps = 1e-3,\n",
    "            dataset = {'folds': [{'p': 2, 'n': 20, 'score_bounds': {'acc': (0.0, 1.0)}},\n",
    "                                    {'p': 2, 'n': 30},\n",
    "                                    {'p': 1, 'n': 20}]}\n",
    "        )"
   ]
  },
  {
   "cell_type": "code",
   "execution_count": 8,
   "metadata": {},
   "outputs": [
    {
     "name": "stderr",
     "output_type": "stream",
     "text": [
      "2023-08-27 06:35:21,825:INFO:generating a random id for the dataset\n",
      "2023-08-27 06:35:21,828:INFO:a random identifier for the fold has been generated pahpltbqepdnqruh\n",
      "2023-08-27 06:35:21,831:INFO:a random identifier for the fold has been generated mtvwxjvcklijfjnl\n",
      "2023-08-27 06:35:21,832:INFO:a random identifier for the fold has been generated smkvuzhcqqwwthwr\n",
      "2023-08-27 06:35:21,833:INFO:checking acc and sens against spec\n",
      "2023-08-27 06:35:21,835:INFO:checking acc and spec against sens\n",
      "2023-08-27 06:35:21,836:INFO:checking sens and spec against acc\n",
      "2023-08-27 06:35:21,838:INFO:fold pahpltbqepdnqruh: adding lower bound 0.0 for acc\n",
      "2023-08-27 06:35:21,839:INFO:fold pahpltbqepdnqruh: adding upper bound 1.0 for acc\n",
      "2023-08-27 06:35:21,840:INFO:fold mtvwxjvcklijfjnl: adding lower bound 0.0 for acc\n",
      "2023-08-27 06:35:21,842:INFO:fold mtvwxjvcklijfjnl: adding upper bound 1.0 for acc\n",
      "2023-08-27 06:35:21,843:INFO:fold smkvuzhcqqwwthwr: adding lower bound 0.0 for acc\n",
      "2023-08-27 06:35:21,844:INFO:fold smkvuzhcqqwwthwr: adding upper bound 1.0 for acc\n",
      "2023-08-27 06:35:21,846:INFO:None: adding condition acc >= 0.953000\n",
      "2023-08-27 06:35:21,847:INFO:None: adding condition acc <= 0.955000\n",
      "2023-08-27 06:35:21,848:INFO:None: adding condition sens >= 0.933000\n",
      "2023-08-27 06:35:21,849:INFO:None: adding condition sens <= 0.935000\n",
      "2023-08-27 06:35:21,850:INFO:None: adding condition spec >= 0.979000\n",
      "2023-08-27 06:35:21,851:INFO:None: adding condition spec <= 0.981000\n"
     ]
    },
    {
     "name": "stdout",
     "output_type": "stream",
     "text": [
      "asdf None\n",
      "Welcome to the CBC MILP Solver \n",
      "Version: 2.10.3 \n",
      "Build Date: Dec 15 2019 \n",
      "\n",
      "command line - /home/gykovacs/anaconda3/envs/mlscorecheck/lib/python3.10/site-packages/pulp/solverdir/cbc/linux/64/cbc /tmp/b64645380deb47fba2e5e02f0a38028f-pulp.mps timeMode elapsed branch printingOptions all solution /tmp/b64645380deb47fba2e5e02f0a38028f-pulp.sol (default strategy 1)\n",
      "At line 2 NAME          MODEL\n",
      "At line 3 ROWS\n",
      "At line 17 COLUMNS\n",
      "At line 67 RHS\n",
      "At line 80 BOUNDS\n",
      "At line 88 ENDATA\n",
      "Problem MODEL has 12 rows, 7 columns and 36 elements\n",
      "Coin0008I MODEL read with 0 errors\n",
      "Option for timeMode changed from cpu to elapsed\n",
      "Problem is infeasible - 0.00 seconds\n",
      "Option for printingOptions changed from normal to all\n",
      "Total time (CPU seconds):       0.00   (Wallclock seconds):       0.00\n",
      "\n"
     ]
    }
   ],
   "source": [
    "result = check_1_dataset_kfold_rom_scores(\n",
    "            scores = {'acc': 0.954, 'sens': 0.934, 'spec': 0.98},\n",
    "            eps = 1e-3,\n",
    "            dataset = {'folds': [{'p': 2, 'n': 20},\n",
    "                                    {'p': 2, 'n': 30},\n",
    "                                    {'p': 1, 'n': 20}],\n",
    "                        'fold_score_bounds': {'acc': (0.0, 1.0)}}\n",
    "        )"
   ]
  },
  {
   "cell_type": "code",
   "execution_count": null,
   "metadata": {},
   "outputs": [],
   "source": []
  }
 ],
 "metadata": {
  "kernelspec": {
   "display_name": "mlscorecheck",
   "language": "python",
   "name": "python3"
  },
  "language_info": {
   "codemirror_mode": {
    "name": "ipython",
    "version": 3
   },
   "file_extension": ".py",
   "mimetype": "text/x-python",
   "name": "python",
   "nbconvert_exporter": "python",
   "pygments_lexer": "ipython3",
   "version": "3.10.0"
  },
  "orig_nbformat": 4
 },
 "nbformat": 4,
 "nbformat_minor": 2
}
