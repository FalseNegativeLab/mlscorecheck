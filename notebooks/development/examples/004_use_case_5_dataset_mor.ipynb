{
 "cells": [
  {
   "cell_type": "code",
   "execution_count": 47,
   "metadata": {},
   "outputs": [],
   "source": [
    "import numpy as np\n",
    "\n",
    "from mlscorecheck.check import (check_multiple_datasets_mos_scores)\n",
    "\n",
    "from mlscorecheck.utils import (generate_problems_with_folds,\n",
    "                                calculate_scores)"
   ]
  },
  {
   "cell_type": "code",
   "execution_count": 48,
   "metadata": {},
   "outputs": [],
   "source": [
    "k = 4\n",
    "eps = 10**(-k)"
   ]
  },
  {
   "cell_type": "code",
   "execution_count": 49,
   "metadata": {},
   "outputs": [],
   "source": [
    "folds, problems = generate_problems_with_folds(n_problems=5,\n",
    "                                                n_folds=1,\n",
    "                                                random_seed=5)"
   ]
  },
  {
   "cell_type": "code",
   "execution_count": 50,
   "metadata": {},
   "outputs": [
    {
     "data": {
      "text/plain": [
       "[{'p': 869, 'n': 208, 'tp': 702, 'tn': 119},\n",
       " {'p': 402, 'n': 75, 'tp': 9, 'tn': 63},\n",
       " {'p': 413, 'n': 626, 'tp': 159, 'tn': 520},\n",
       " {'p': 206, 'n': 913, 'tp': 114, 'tn': 438},\n",
       " {'p': 82, 'n': 29, 'tp': 45, 'tn': 14}]"
      ]
     },
     "execution_count": 50,
     "metadata": {},
     "output_type": "execute_result"
    }
   ],
   "source": [
    "folds"
   ]
  },
  {
   "cell_type": "code",
   "execution_count": 51,
   "metadata": {},
   "outputs": [
    {
     "data": {
      "text/plain": [
       "[{'p': 869, 'n': 208, 'n_folds': 1, 'n_repeats': 1},\n",
       " {'p': 402, 'n': 75, 'n_folds': 1, 'n_repeats': 1},\n",
       " {'p': 413, 'n': 626, 'n_folds': 1, 'n_repeats': 1},\n",
       " {'p': 206, 'n': 913, 'n_folds': 1, 'n_repeats': 1},\n",
       " {'p': 82, 'n': 29, 'n_folds': 1, 'n_repeats': 1}]"
      ]
     },
     "execution_count": 51,
     "metadata": {},
     "output_type": "execute_result"
    }
   ],
   "source": [
    "problems"
   ]
  },
  {
   "cell_type": "code",
   "execution_count": 52,
   "metadata": {},
   "outputs": [],
   "source": [
    "scores = calculate_scores(folds, strategy='mos', rounding_decimals=4)"
   ]
  },
  {
   "cell_type": "code",
   "execution_count": 53,
   "metadata": {},
   "outputs": [
    {
     "data": {
      "text/plain": [
       "{'acc': 0.5183, 'sens': 0.4635, 'spec': 0.6411, 'bacc': 0.5523}"
      ]
     },
     "execution_count": 53,
     "metadata": {},
     "output_type": "execute_result"
    }
   ],
   "source": [
    "scores"
   ]
  },
  {
   "cell_type": "code",
   "execution_count": 54,
   "metadata": {},
   "outputs": [
    {
     "name": "stdout",
     "output_type": "stream",
     "text": [
      "[None, None, None, None, None]\n",
      "Welcome to the CBC MILP Solver \n",
      "Version: 2.10.3 \n",
      "Build Date: Dec 15 2019 \n",
      "\n",
      "command line - /home/gykovacs/anaconda3/envs/mlscorecheck/lib/python3.10/site-packages/pulp/solverdir/cbc/linux/64/cbc /tmp/0be0b794b79943fb9451fa8c81694322-pulp.mps timeMode elapsed branch printingOptions all solution /tmp/0be0b794b79943fb9451fa8c81694322-pulp.sol (default strategy 1)\n",
      "At line 2 NAME          MODEL\n",
      "At line 3 ROWS\n",
      "At line 13 COLUMNS\n",
      "At line 95 RHS\n",
      "At line 104 BOUNDS\n",
      "At line 115 ENDATA\n",
      "Problem MODEL has 8 rows, 10 columns and 60 elements\n",
      "Coin0008I MODEL read with 0 errors\n",
      "Option for timeMode changed from cpu to elapsed\n",
      "Continuous objective value is 0 - 0.00 seconds\n",
      "Cgl0004I processed model has 8 rows, 10 columns (10 integer (0 of which binary)) and 60 elements\n",
      "Cutoff increment increased from 1e-05 to 0.9999\n",
      "Cbc0012I Integer solution of 0 found by DiveCoefficient after 0 iterations and 0 nodes (0.00 seconds)\n",
      "Cbc0001I Search completed - best objective 0, took 0 iterations and 0 nodes (0.00 seconds)\n",
      "Cbc0035I Maximum depth 0, 0 variables fixed on reduced cost\n",
      "Cuts at root node changed objective from 0 to 0\n",
      "Probing was tried 0 times and created 0 cuts of which 0 were active after adding rounds of cuts (0.000 seconds)\n",
      "Gomory was tried 0 times and created 0 cuts of which 0 were active after adding rounds of cuts (0.000 seconds)\n",
      "Knapsack was tried 0 times and created 0 cuts of which 0 were active after adding rounds of cuts (0.000 seconds)\n",
      "Clique was tried 0 times and created 0 cuts of which 0 were active after adding rounds of cuts (0.000 seconds)\n",
      "MixedIntegerRounding2 was tried 0 times and created 0 cuts of which 0 were active after adding rounds of cuts (0.000 seconds)\n",
      "FlowCover was tried 0 times and created 0 cuts of which 0 were active after adding rounds of cuts (0.000 seconds)\n",
      "TwoMirCuts was tried 0 times and created 0 cuts of which 0 were active after adding rounds of cuts (0.000 seconds)\n",
      "ZeroHalf was tried 0 times and created 0 cuts of which 0 were active after adding rounds of cuts (0.000 seconds)\n",
      "\n",
      "Result - Optimal solution found\n",
      "\n",
      "Objective value:                0.00000000\n",
      "Enumerated nodes:               0\n",
      "Total iterations:               0\n",
      "Time (CPU seconds):             0.00\n",
      "Time (Wallclock seconds):       0.00\n",
      "\n",
      "Option for printingOptions changed from normal to all\n",
      "Total time (CPU seconds):       0.00   (Wallclock seconds):       0.00\n",
      "\n"
     ]
    }
   ],
   "source": [
    "flag, details = check_multiple_datasets_mos_scores(scores=scores, \n",
    "                                        eps=eps, \n",
    "                                        datasets=problems,\n",
    "                                        return_details=True)"
   ]
  },
  {
   "cell_type": "code",
   "execution_count": 55,
   "metadata": {},
   "outputs": [],
   "source": [
    "assert flag"
   ]
  },
  {
   "cell_type": "code",
   "execution_count": 56,
   "metadata": {},
   "outputs": [
    {
     "data": {
      "text/plain": [
       "{'overall_consistency': True,\n",
       " 'configuration': [{'p': 869, 'n': 208, 'tn': 173.0, 'tp': 0.0},\n",
       "  {'p': 402, 'n': 75, 'tn': 75.0, 'tp': 402.0},\n",
       "  {'p': 413, 'n': 626, 'tn': 0.0, 'tp': 131.0},\n",
       "  {'p': 206, 'n': 913, 'tn': 341.0, 'tp': 0.0},\n",
       "  {'p': 82, 'n': 29, 'tn': 29.0, 'tp': 82.0}]}"
      ]
     },
     "execution_count": 56,
     "metadata": {},
     "output_type": "execute_result"
    }
   ],
   "source": [
    "details"
   ]
  },
  {
   "cell_type": "code",
   "execution_count": 57,
   "metadata": {},
   "outputs": [
    {
     "data": {
      "text/plain": [
       "{'acc': 0.5182901054258326,\n",
       " 'sens': 0.4634382566585956,\n",
       " 'spec': 0.6410449490268768,\n",
       " 'bacc': 0.5522416028427362}"
      ]
     },
     "execution_count": 57,
     "metadata": {},
     "output_type": "execute_result"
    }
   ],
   "source": [
    "calculate_scores(details['configuration'], strategy='mos')"
   ]
  },
  {
   "cell_type": "code",
   "execution_count": 58,
   "metadata": {},
   "outputs": [
    {
     "data": {
      "text/plain": [
       "{'acc': (0.1509433962264151, 0.7623026926648097),\n",
       " 'sens': (0.022388059701492536, 0.807825086306099),\n",
       " 'spec': (0.47973713033953996, 0.84),\n",
       " 'npv': (0.13815789473684212, 0.8264150943396227),\n",
       " 'ppv': (0.1935483870967742, 0.8874841972187105),\n",
       " 'bacc': (0.43119402985074623, 0.6899702354607418),\n",
       " 'f1p': (0.0425531914893617, 0.8457831325301205),\n",
       " 'fm': (0.09795347226725089, 0.8467183700697085),\n",
       " 'p': (82, 869),\n",
       " 'n': (29, 913),\n",
       " 'tp': (9, 702),\n",
       " 'tn': (14, 520)}"
      ]
     },
     "execution_count": 58,
     "metadata": {},
     "output_type": "execute_result"
    }
   ],
   "source": [
    "folding_scores = [calculate_scores(folding, strategy='mos', scores_only=False) for folding in folds]\n",
    "\n",
    "def score_ranges(folding_scores):\n",
    "    mins = {}\n",
    "    maxs = {}\n",
    "    for folding in folding_scores:\n",
    "        for key, value in folding.items():\n",
    "            mins[key] = min(mins.get(key, np.inf), value)\n",
    "            maxs[key] = max(maxs.get(key, -np.inf), value)\n",
    "    \n",
    "    return {key: (mins[key], maxs[key]) for key in mins}\n",
    "\n",
    "score_rang = score_ranges(folding_scores)\n",
    "\n",
    "score_rang"
   ]
  },
  {
   "cell_type": "code",
   "execution_count": 64,
   "metadata": {},
   "outputs": [],
   "source": [
    "for problem in problems:\n",
    "    problem['score_bounds'] = {'acc': score_rang['acc']}\n",
    "    problem['tptn_bounds'] = {'tp': (100, 10000), 'tn': (100, 10000)}"
   ]
  },
  {
   "cell_type": "code",
   "execution_count": 65,
   "metadata": {},
   "outputs": [
    {
     "name": "stdout",
     "output_type": "stream",
     "text": [
      "[(0.1509433962264151, 0.7623026926648097), (0.1509433962264151, 0.7623026926648097), (0.1509433962264151, 0.7623026926648097), (0.1509433962264151, 0.7623026926648097), (0.1509433962264151, 0.7623026926648097)]\n",
      "Welcome to the CBC MILP Solver \n",
      "Version: 2.10.3 \n",
      "Build Date: Dec 15 2019 \n",
      "\n",
      "command line - /home/gykovacs/anaconda3/envs/mlscorecheck/lib/python3.10/site-packages/pulp/solverdir/cbc/linux/64/cbc /tmp/de78c5c65adb43dbab4a6823f18838f7-pulp.mps timeMode elapsed branch printingOptions all solution /tmp/de78c5c65adb43dbab4a6823f18838f7-pulp.sol (default strategy 1)\n",
      "At line 2 NAME          MODEL\n",
      "At line 3 ROWS\n",
      "At line 43 COLUMNS\n",
      "At line 165 RHS\n",
      "At line 204 BOUNDS\n",
      "At line 215 ENDATA\n",
      "Problem MODEL has 38 rows, 10 columns and 100 elements\n",
      "Coin0008I MODEL read with 0 errors\n",
      "Option for timeMode changed from cpu to elapsed\n",
      "Problem is infeasible - 0.00 seconds\n",
      "Option for printingOptions changed from normal to all\n",
      "Total time (CPU seconds):       0.00   (Wallclock seconds):       0.00\n",
      "\n"
     ]
    }
   ],
   "source": [
    "flag, details = check_multiple_datasets_mos_scores(scores=scores, \n",
    "                                        eps=eps, \n",
    "                                        datasets=problems,\n",
    "                                        return_details=True)"
   ]
  },
  {
   "cell_type": "code",
   "execution_count": null,
   "metadata": {},
   "outputs": [],
   "source": []
  },
  {
   "cell_type": "code",
   "execution_count": 28,
   "metadata": {},
   "outputs": [],
   "source": [
    "scores['bacc'] = 0.9"
   ]
  },
  {
   "cell_type": "code",
   "execution_count": 29,
   "metadata": {},
   "outputs": [
    {
     "ename": "NameError",
     "evalue": "name 'check_multiple_dataset_mos_scores' is not defined",
     "output_type": "error",
     "traceback": [
      "\u001b[0;31m---------------------------------------------------------------------------\u001b[0m",
      "\u001b[0;31mNameError\u001b[0m                                 Traceback (most recent call last)",
      "Cell \u001b[0;32mIn[29], line 1\u001b[0m\n\u001b[0;32m----> 1\u001b[0m flag, details \u001b[39m=\u001b[39m check_multiple_dataset_mos_scores(scores\u001b[39m=\u001b[39mscores, \n\u001b[1;32m      2\u001b[0m                                         eps\u001b[39m=\u001b[39meps, \n\u001b[1;32m      3\u001b[0m                                         dataset_setup\u001b[39m=\u001b[39mproblems,\n\u001b[1;32m      4\u001b[0m                                         return_details\u001b[39m=\u001b[39m\u001b[39mTrue\u001b[39;00m)\n",
      "\u001b[0;31mNameError\u001b[0m: name 'check_multiple_dataset_mos_scores' is not defined"
     ]
    }
   ],
   "source": [
    "flag, details = check_multiple_datasets_mos_scores(scores=scores, \n",
    "                                        eps=eps, \n",
    "                                        datasets=problems,\n",
    "                                        return_details=True)"
   ]
  },
  {
   "cell_type": "code",
   "execution_count": null,
   "metadata": {},
   "outputs": [],
   "source": [
    "assert not flag"
   ]
  },
  {
   "cell_type": "code",
   "execution_count": null,
   "metadata": {},
   "outputs": [],
   "source": []
  }
 ],
 "metadata": {
  "kernelspec": {
   "display_name": "mlscorecheck",
   "language": "python",
   "name": "python3"
  },
  "language_info": {
   "codemirror_mode": {
    "name": "ipython",
    "version": 3
   },
   "file_extension": ".py",
   "mimetype": "text/x-python",
   "name": "python",
   "nbconvert_exporter": "python",
   "pygments_lexer": "ipython3",
   "version": "3.10.0"
  },
  "orig_nbformat": 4
 },
 "nbformat": 4,
 "nbformat_minor": 2
}
