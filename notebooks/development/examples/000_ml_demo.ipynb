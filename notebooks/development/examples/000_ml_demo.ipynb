{
 "cells": [
  {
   "cell_type": "code",
   "execution_count": 33,
   "metadata": {},
   "outputs": [],
   "source": [
    "import numpy as np"
   ]
  },
  {
   "cell_type": "code",
   "execution_count": 34,
   "metadata": {},
   "outputs": [],
   "source": [
    "import common_datasets.binary_classification as bin_clas\n",
    "from sklearn.ensemble import RandomForestClassifier\n",
    "from sklearn.model_selection import RepeatedStratifiedKFold\n",
    "\n",
    "from mlscorecheck.core import consistency_aggregated_integer_programming_mos"
   ]
  },
  {
   "cell_type": "code",
   "execution_count": 35,
   "metadata": {},
   "outputs": [],
   "source": [
    "dataset = bin_clas.load_appendicitis()\n",
    "\n",
    "X = dataset['data']\n",
    "y = dataset['target']"
   ]
  },
  {
   "cell_type": "code",
   "execution_count": 36,
   "metadata": {},
   "outputs": [],
   "source": [
    "total, p = len(dataset['target']), sum(dataset['target'])\n",
    "n = total - p"
   ]
  },
  {
   "cell_type": "code",
   "execution_count": 37,
   "metadata": {},
   "outputs": [],
   "source": [
    "tps, tns, fps, fns = [], [], [], []\n",
    "tps_degen, tns_degen, fps_degen, fns_degen = [], [], [], []"
   ]
  },
  {
   "cell_type": "code",
   "execution_count": 38,
   "metadata": {},
   "outputs": [],
   "source": [
    "random_state = np.random.RandomState(5)"
   ]
  },
  {
   "cell_type": "code",
   "execution_count": 39,
   "metadata": {},
   "outputs": [],
   "source": [
    "n_splits = 5\n",
    "n_repeats = 1"
   ]
  },
  {
   "cell_type": "code",
   "execution_count": 40,
   "metadata": {},
   "outputs": [],
   "source": [
    "validator = RepeatedStratifiedKFold(n_repeats=n_repeats, n_splits=n_splits, random_state=5)"
   ]
  },
  {
   "cell_type": "code",
   "execution_count": 41,
   "metadata": {},
   "outputs": [],
   "source": [
    "for train, test in validator.split(X, y, y):\n",
    "    X_train = X[train]\n",
    "    X_test = X[test]\n",
    "    y_train = y[train]\n",
    "    y_test = y[test]\n",
    "\n",
    "    classifier = RandomForestClassifier()\n",
    "\n",
    "    classifier.fit(X_train, y_train)\n",
    "    pred = classifier.predict(X_test)\n",
    "\n",
    "    tp = np.sum((pred == y_test) & (y_test == 1))\n",
    "    tn = np.sum((pred == y_test) & (y_test == 0))\n",
    "    fp = np.sum((pred != y_test) & (y_test == 0))\n",
    "    fn = np.sum((pred != y_test) & (y_test == 1))\n",
    "\n",
    "    tps.append(tp)\n",
    "    tns.append(tn)\n",
    "    fps.append(fp)\n",
    "    fns.append(fn)\n",
    "\n",
    "    fn -= random_state.randint(0, 2)\n",
    "    fp -= random_state.randint(0, 2)\n",
    "\n",
    "    tps_degen.append(tp)\n",
    "    tns_degen.append(tn)\n",
    "    fps_degen.append(fp)\n",
    "    fns_degen.append(fn)"
   ]
  },
  {
   "cell_type": "code",
   "execution_count": 42,
   "metadata": {},
   "outputs": [],
   "source": [
    "tps = np.array(tps).reshape((-1, 5))\n",
    "tns = np.array(tns).reshape((-1, 5))\n",
    "fps = np.array(fps).reshape((-1, 5))\n",
    "fns = np.array(fns).reshape((-1, 5))\n",
    "\n",
    "tps_degen = np.array(tps_degen).reshape((-1, 5))\n",
    "tns_degen = np.array(tns_degen).reshape((-1, 5))\n",
    "fps_degen = np.array(fps_degen).reshape((-1, 5))\n",
    "fns_degen = np.array(fns_degen).reshape((-1, 5))"
   ]
  },
  {
   "cell_type": "code",
   "execution_count": 43,
   "metadata": {},
   "outputs": [],
   "source": [
    "tps = np.sum(tps, axis=1)\n",
    "tns = np.sum(tns, axis=1)\n",
    "fps = np.sum(fps, axis=1)\n",
    "fns = np.sum(fns, axis=1)\n",
    "\n",
    "tps_degen = np.sum(tps_degen, axis=1)\n",
    "tns_degen = np.sum(tns_degen, axis=1)\n",
    "fps_degen = np.sum(fps_degen, axis=1)\n",
    "fns_degen = np.sum(fns_degen, axis=1)"
   ]
  },
  {
   "cell_type": "code",
   "execution_count": 44,
   "metadata": {},
   "outputs": [],
   "source": [
    "acc = (tps + tns)/(tps + tns + fps + fns)\n",
    "sens = tps/(tps + fns)\n",
    "spec = tns/(tns + fps)\n",
    "\n",
    "acc_degen = (tps_degen + tns_degen)/(tps_degen + tns_degen + fps_degen + fns_degen)\n",
    "sens_degen = tps_degen/(tps_degen + fns_degen)\n",
    "spec_degen = tns_degen/(tns_degen + fps_degen)"
   ]
  },
  {
   "cell_type": "code",
   "execution_count": 45,
   "metadata": {},
   "outputs": [],
   "source": [
    "acc = np.mean(acc)\n",
    "sens = np.mean(sens)\n",
    "spec = np.mean(spec)\n",
    "\n",
    "acc_degen = np.mean(acc_degen)\n",
    "sens_degen = np.mean(sens_degen)\n",
    "spec_degen = np.mean(spec_degen)"
   ]
  },
  {
   "cell_type": "code",
   "execution_count": 46,
   "metadata": {},
   "outputs": [],
   "source": [
    "rounding = 4\n",
    "eps = 10**(-rounding)"
   ]
  },
  {
   "cell_type": "code",
   "execution_count": 47,
   "metadata": {},
   "outputs": [],
   "source": [
    "acc = np.round(acc, rounding)\n",
    "sens = np.round(sens, rounding)\n",
    "spec = np.round(spec, rounding)\n",
    "\n",
    "acc_degen = np.round(acc_degen, rounding)\n",
    "sens_degen = np.round(sens_degen, rounding)\n",
    "spec_degen = np.round(spec_degen, rounding)"
   ]
  },
  {
   "cell_type": "code",
   "execution_count": 48,
   "metadata": {},
   "outputs": [
    {
     "name": "stdout",
     "output_type": "stream",
     "text": [
      "Welcome to the CBC MILP Solver \n",
      "Version: 2.10.3 \n",
      "Build Date: Dec 15 2019 \n",
      "\n",
      "command line - /home/gykovacs/anaconda3/envs/mlscorecheck/lib/python3.10/site-packages/pulp/solverdir/cbc/linux/64/cbc /tmp/3558ca9a51e14b02b8492e5b24b578d4-pulp.mps timeMode elapsed branch printingOptions all solution /tmp/3558ca9a51e14b02b8492e5b24b578d4-pulp.sol (default strategy 1)\n",
      "At line 2 NAME          MODEL\n",
      "At line 3 ROWS\n",
      "At line 11 COLUMNS\n",
      "At line 25 RHS\n",
      "At line 32 BOUNDS\n",
      "At line 35 ENDATA\n",
      "Problem MODEL has 6 rows, 2 columns and 8 elements\n",
      "Coin0008I MODEL read with 0 errors\n",
      "Option for timeMode changed from cpu to elapsed\n",
      "Continuous objective value is 12.9969 - 0.00 seconds\n",
      "Cgl0004I processed model has 0 rows, 0 columns (0 integer (0 of which binary)) and 0 elements\n",
      "Cbc3007W No integer variables - nothing to do\n",
      "Cuts at root node changed objective from 13 to -1.79769e+308\n",
      "Probing was tried 0 times and created 0 cuts of which 0 were active after adding rounds of cuts (0.000 seconds)\n",
      "Gomory was tried 0 times and created 0 cuts of which 0 were active after adding rounds of cuts (0.000 seconds)\n",
      "Knapsack was tried 0 times and created 0 cuts of which 0 were active after adding rounds of cuts (0.000 seconds)\n",
      "Clique was tried 0 times and created 0 cuts of which 0 were active after adding rounds of cuts (0.000 seconds)\n",
      "MixedIntegerRounding2 was tried 0 times and created 0 cuts of which 0 were active after adding rounds of cuts (0.000 seconds)\n",
      "FlowCover was tried 0 times and created 0 cuts of which 0 were active after adding rounds of cuts (0.000 seconds)\n",
      "TwoMirCuts was tried 0 times and created 0 cuts of which 0 were active after adding rounds of cuts (0.000 seconds)\n",
      "ZeroHalf was tried 0 times and created 0 cuts of which 0 were active after adding rounds of cuts (0.000 seconds)\n",
      "\n",
      "Result - Optimal solution found\n",
      "\n",
      "Objective value:                13.00000000\n",
      "Enumerated nodes:               0\n",
      "Total iterations:               2\n",
      "Time (CPU seconds):             0.00\n",
      "Time (Wallclock seconds):       0.00\n",
      "\n",
      "Option for printingOptions changed from normal to all\n",
      "Total time (CPU seconds):       0.00   (Wallclock seconds):       0.00\n",
      "\n"
     ]
    },
    {
     "data": {
      "text/plain": [
       "True"
      ]
     },
     "execution_count": 48,
     "metadata": {},
     "output_type": "execute_result"
    }
   ],
   "source": [
    "consistency_aggregated_integer_programming_mos(p=np.repeat(np.sum(y), n_repeats),\n",
    "                                               n=np.repeat(np.sum(1.0 - y), n_repeats),\n",
    "                                               acc=acc,\n",
    "                                               sens=sens,\n",
    "                                               spec=spec,\n",
    "                                               eps=eps)"
   ]
  },
  {
   "cell_type": "code",
   "execution_count": 49,
   "metadata": {},
   "outputs": [
    {
     "name": "stdout",
     "output_type": "stream",
     "text": [
      "Welcome to the CBC MILP Solver \n",
      "Version: 2.10.3 \n",
      "Build Date: Dec 15 2019 \n",
      "\n",
      "command line - /home/gykovacs/anaconda3/envs/mlscorecheck/lib/python3.10/site-packages/pulp/solverdir/cbc/linux/64/cbc /tmp/3f9f26bbc87040e6a44ca6d2412ad7f9-pulp.mps timeMode elapsed branch printingOptions all solution /tmp/3f9f26bbc87040e6a44ca6d2412ad7f9-pulp.sol (default strategy 1)\n",
      "At line 2 NAME          MODEL\n",
      "At line 3 ROWS\n",
      "At line 11 COLUMNS\n",
      "At line 25 RHS\n",
      "At line 32 BOUNDS\n",
      "At line 35 ENDATA\n",
      "Problem MODEL has 6 rows, 2 columns and 8 elements\n",
      "Coin0008I MODEL read with 0 errors\n",
      "Option for timeMode changed from cpu to elapsed\n",
      "Problem is infeasible - 0.00 seconds\n",
      "Option for printingOptions changed from normal to all\n",
      "Total time (CPU seconds):       0.00   (Wallclock seconds):       0.00\n",
      "\n"
     ]
    },
    {
     "data": {
      "text/plain": [
       "False"
      ]
     },
     "execution_count": 49,
     "metadata": {},
     "output_type": "execute_result"
    }
   ],
   "source": [
    "consistency_aggregated_integer_programming_mos(p=np.repeat(np.sum(y), n_repeats),\n",
    "                                               n=np.repeat(np.sum(1.0 - y), n_repeats),\n",
    "                                               acc=acc_degen,\n",
    "                                               sens=sens_degen,\n",
    "                                               spec=spec_degen,\n",
    "                                               eps=eps)"
   ]
  },
  {
   "cell_type": "code",
   "execution_count": null,
   "metadata": {},
   "outputs": [],
   "source": [
    "# A Multivariate Multiscale Fuzzy Entropy Algorithm with Application to Uterine EMG Complexity Analysis"
   ]
  },
  {
   "cell_type": "code",
   "execution_count": 50,
   "metadata": {},
   "outputs": [],
   "source": [
    "acc_degen = 0.93\n",
    "sens_degen = 0.9\n",
    "spec_degen = 0.97\n",
    "\n",
    "eps = 1e-2"
   ]
  },
  {
   "cell_type": "code",
   "execution_count": 51,
   "metadata": {},
   "outputs": [
    {
     "name": "stdout",
     "output_type": "stream",
     "text": [
      "Welcome to the CBC MILP Solver \n",
      "Version: 2.10.3 \n",
      "Build Date: Dec 15 2019 \n",
      "\n",
      "command line - /home/gykovacs/anaconda3/envs/mlscorecheck/lib/python3.10/site-packages/pulp/solverdir/cbc/linux/64/cbc /tmp/3dbaa3e73c4c411d935e36f0bb622d89-pulp.mps timeMode elapsed branch printingOptions all solution /tmp/3dbaa3e73c4c411d935e36f0bb622d89-pulp.sol (default strategy 1)\n",
      "At line 2 NAME          MODEL\n",
      "At line 3 ROWS\n",
      "At line 11 COLUMNS\n",
      "At line 25 RHS\n",
      "At line 32 BOUNDS\n",
      "At line 35 ENDATA\n",
      "Problem MODEL has 6 rows, 2 columns and 8 elements\n",
      "Coin0008I MODEL read with 0 errors\n",
      "Option for timeMode changed from cpu to elapsed\n",
      "Problem is infeasible - 0.00 seconds\n",
      "Option for printingOptions changed from normal to all\n",
      "Total time (CPU seconds):       0.00   (Wallclock seconds):       0.00\n",
      "\n"
     ]
    },
    {
     "data": {
      "text/plain": [
       "False"
      ]
     },
     "execution_count": 51,
     "metadata": {},
     "output_type": "execute_result"
    }
   ],
   "source": [
    "consistency_aggregated_integer_programming_mos(p=np.repeat(38, 1),\n",
    "                                               n=np.repeat(262, 1),\n",
    "                                               acc=np.array([acc_degen]),\n",
    "                                               sens=np.array([sens_degen]),\n",
    "                                               spec=np.array([spec_degen]),\n",
    "                                               eps=eps)"
   ]
  },
  {
   "cell_type": "code",
   "execution_count": null,
   "metadata": {},
   "outputs": [],
   "source": []
  }
 ],
 "metadata": {
  "kernelspec": {
   "display_name": "mlscorecheck",
   "language": "python",
   "name": "python3"
  },
  "language_info": {
   "codemirror_mode": {
    "name": "ipython",
    "version": 3
   },
   "file_extension": ".py",
   "mimetype": "text/x-python",
   "name": "python",
   "nbconvert_exporter": "python",
   "pygments_lexer": "ipython3",
   "version": "3.10.0"
  },
  "orig_nbformat": 4
 },
 "nbformat": 4,
 "nbformat_minor": 2
}
