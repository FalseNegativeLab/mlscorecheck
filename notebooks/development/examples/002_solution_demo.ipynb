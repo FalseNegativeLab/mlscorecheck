{
 "cells": [
  {
   "cell_type": "code",
   "execution_count": 4,
   "metadata": {},
   "outputs": [],
   "source": [
    "import numpy as np\n",
    "from sympy import Symbol\n",
    "\n",
    "from mlscorecheck.core import (\n",
    "                               Interval,\n",
    "                               SymbolicInterval,\n",
    "                               accuracy,\n",
    "                               negative_predictive_value,\n",
    "                               positive_predictive_value,\n",
    "                               sensitivity,\n",
    "                               solve_acc_sens,\n",
    "                               specificity,\n",
    ")"
   ]
  },
  {
   "cell_type": "code",
   "execution_count": 5,
   "metadata": {},
   "outputs": [],
   "source": [
    "p = 100\n",
    "n = 200\n",
    "tp = 80\n",
    "tn = 150\n",
    "fn = p - tp\n",
    "fp = n - tn\n",
    "\n",
    "k=4\n",
    "eps=10**(-k)\n",
    "\n",
    "acc = np.round(accuracy(tp=tp, tn=tn, p=p, n=n), k)\n",
    "sens = np.round(sensitivity(tp=tp, p=p), k)\n",
    "spec = np.round(specificity(tn=tn, n=n), k)\n",
    "ppv = np.round(positive_predictive_value(tp=tp, fp=fp), k)\n",
    "npv = np.round(negative_predictive_value(tn=tn, fn=fn), k)"
   ]
  },
  {
   "cell_type": "code",
   "execution_count": 6,
   "metadata": {},
   "outputs": [],
   "source": [
    "tp_sol, tn_sol = solve_acc_sens(acc=acc, sens=sens, p=p, n=n)"
   ]
  },
  {
   "cell_type": "code",
   "execution_count": 7,
   "metadata": {},
   "outputs": [
    {
     "data": {
      "text/plain": [
       "(80.0, 150.01)"
      ]
     },
     "execution_count": 7,
     "metadata": {},
     "output_type": "execute_result"
    }
   ],
   "source": [
    "tp_sol, tn_sol"
   ]
  },
  {
   "cell_type": "code",
   "execution_count": 8,
   "metadata": {},
   "outputs": [],
   "source": [
    "acc_i = Interval(acc - eps, acc + eps)\n",
    "sens_i = Interval(sens - eps, sens + eps)"
   ]
  },
  {
   "cell_type": "code",
   "execution_count": 9,
   "metadata": {},
   "outputs": [
    {
     "data": {
      "text/plain": [
       "[0.7666000000000001,\n",
       "0.7668]"
      ]
     },
     "execution_count": 9,
     "metadata": {},
     "output_type": "execute_result"
    }
   ],
   "source": [
    "acc_i"
   ]
  },
  {
   "cell_type": "code",
   "execution_count": 10,
   "metadata": {},
   "outputs": [
    {
     "data": {
      "text/plain": [
       "[0.7999,\n",
       "0.8001]"
      ]
     },
     "execution_count": 10,
     "metadata": {},
     "output_type": "execute_result"
    }
   ],
   "source": [
    "sens_i"
   ]
  },
  {
   "cell_type": "code",
   "execution_count": 11,
   "metadata": {},
   "outputs": [],
   "source": [
    "tp_int, tn_int = solve_acc_sens(acc=acc_i, sens=sens_i, p=p, n=n)"
   ]
  },
  {
   "cell_type": "code",
   "execution_count": 12,
   "metadata": {},
   "outputs": [],
   "source": [
    "fp_int = n - tn_int\n",
    "fn_int = p - tp_int"
   ]
  },
  {
   "cell_type": "code",
   "execution_count": 13,
   "metadata": {},
   "outputs": [
    {
     "data": {
      "text/plain": [
       "([79.99000000000001,\n",
       " 80.01],\n",
       " [149.97000000000003,\n",
       " 150.05],\n",
       " [49.94999999999999,\n",
       " 50.02999999999997],\n",
       " [19.989999999999995,\n",
       " 20.00999999999999])"
      ]
     },
     "execution_count": 13,
     "metadata": {},
     "output_type": "execute_result"
    }
   ],
   "source": [
    "tp_int, tn_int, fp_int, fn_int"
   ]
  },
  {
   "cell_type": "code",
   "execution_count": 14,
   "metadata": {},
   "outputs": [],
   "source": [
    "ppv_int = positive_predictive_value(tp=tp_int, fp=fp_int)"
   ]
  },
  {
   "cell_type": "code",
   "execution_count": 15,
   "metadata": {},
   "outputs": [
    {
     "data": {
      "text/plain": [
       "([0.6151184250999695,\n",
       " 0.6157457287979068],\n",
       " 0.6154)"
      ]
     },
     "execution_count": 15,
     "metadata": {},
     "output_type": "execute_result"
    }
   ],
   "source": [
    "ppv_int, ppv"
   ]
  },
  {
   "cell_type": "code",
   "execution_count": 16,
   "metadata": {},
   "outputs": [],
   "source": [
    "acc_sym = Symbol('acc')\n",
    "sens_sym = Symbol('sens')\n",
    "eps_sym = Symbol('eps')\n",
    "p_sym = Symbol('p')\n",
    "n_sym = Symbol('n')"
   ]
  },
  {
   "cell_type": "code",
   "execution_count": 17,
   "metadata": {},
   "outputs": [],
   "source": [
    "acc_si = SymbolicInterval(acc_sym - eps_sym, acc_sym + eps_sym)\n",
    "sens_si = SymbolicInterval(sens_sym - eps_sym, sens_sym + eps_sym)"
   ]
  },
  {
   "cell_type": "code",
   "execution_count": 18,
   "metadata": {},
   "outputs": [],
   "source": [
    "tp_si, tn_si = solve_acc_sens(acc=acc_si, sens=sens_si, p=p, n=n)"
   ]
  },
  {
   "cell_type": "code",
   "execution_count": 19,
   "metadata": {},
   "outputs": [
    {
     "data": {
      "text/plain": [
       "[[-100*eps + 100*sens,\n",
       " 100*eps + 100*sens]\n",
       " subject to True]"
      ]
     },
     "execution_count": 19,
     "metadata": {},
     "output_type": "execute_result"
    }
   ],
   "source": [
    "tp_si.intervals"
   ]
  },
  {
   "cell_type": "code",
   "execution_count": 20,
   "metadata": {},
   "outputs": [
    {
     "data": {
      "text/plain": [
       "[[300*acc - 400*eps - 100*sens,\n",
       " 300*acc + 400*eps - 100*sens]\n",
       " subject to True]"
      ]
     },
     "execution_count": 20,
     "metadata": {},
     "output_type": "execute_result"
    }
   ],
   "source": [
    "tn_si.intervals"
   ]
  },
  {
   "cell_type": "code",
   "execution_count": 21,
   "metadata": {},
   "outputs": [],
   "source": [
    "subst = {acc_sym: acc, eps_sym: eps, sens_sym: sens}"
   ]
  },
  {
   "cell_type": "code",
   "execution_count": 22,
   "metadata": {},
   "outputs": [
    {
     "data": {
      "text/plain": [
       "[79.9900000000000, 80.0100000000000]"
      ]
     },
     "execution_count": 22,
     "metadata": {},
     "output_type": "execute_result"
    }
   ],
   "source": [
    "tp_si.to_interval_union(subst)"
   ]
  },
  {
   "cell_type": "code",
   "execution_count": 23,
   "metadata": {},
   "outputs": [
    {
     "data": {
      "text/plain": [
       "[149.970000000000, 150.050000000000]"
      ]
     },
     "execution_count": 23,
     "metadata": {},
     "output_type": "execute_result"
    }
   ],
   "source": [
    "tn_si.to_interval_union(subst)"
   ]
  },
  {
   "cell_type": "code",
   "execution_count": 24,
   "metadata": {},
   "outputs": [],
   "source": [
    "ppv_si = positive_predictive_value(tp=tp_si, fp=n-tn_si)"
   ]
  },
  {
   "cell_type": "code",
   "execution_count": 25,
   "metadata": {},
   "outputs": [
    {
     "data": {
      "text/plain": [
       "60"
      ]
     },
     "execution_count": 25,
     "metadata": {},
     "output_type": "execute_result"
    }
   ],
   "source": [
    "len(ppv_si.intervals)"
   ]
  },
  {
   "cell_type": "code",
   "execution_count": 26,
   "metadata": {},
   "outputs": [
    {
     "data": {
      "text/plain": [
       "[1.0*(eps - sens)/(3*acc + 5*eps - 2*sens - 2), 1.0*(-eps + sens)/(-3*acc + 5*eps + 2*sens + 2)]subject to ((-300*acc - 500*eps + 200*sens + 200 > 0) | (-300*acc + 500*eps + 200*sens + 200 < 0)) & (0.01*(-100*eps + 100*sens)/(-3*acc + 5*eps + 2*sens + 2) >= -0.01*(-100*eps + 100*sens)/(3*acc + 5*eps - 2*sens - 2)) & (0.01*(-100*eps + 100*sens)/(-3*acc + 5*eps + 2*sens + 2) >= 0.01*(100*eps + 100*sens)/(-3*acc + 5*eps + 2*sens + 2)) & (0.01*(-100*eps + 100*sens)/(-3*acc + 5*eps + 2*sens + 2) >= -0.01*(100*eps + 100*sens)/(3*acc + 5*eps - 2*sens - 2)) & (-0.01*(-100*eps + 100*sens)/(3*acc + 5*eps - 2*sens - 2) <= 0.01*(100*eps + 100*sens)/(-3*acc + 5*eps + 2*sens + 2)) & (-0.01*(-100*eps + 100*sens)/(3*acc + 5*eps - 2*sens - 2) <= -0.01*(100*eps + 100*sens)/(3*acc + 5*eps - 2*sens - 2)),\n",
       "[1.0*(-eps + sens)/(-3*acc + 5*eps + 2*sens + 2), 1.0*(eps - sens)/(3*acc + 5*eps - 2*sens - 2)]subject to ((-300*acc - 500*eps + 200*sens + 200 > 0) | (-300*acc + 500*eps + 200*sens + 200 < 0)) & (-0.01*(-100*eps + 100*sens)/(3*acc + 5*eps - 2*sens - 2) >= 0.01*(-100*eps + 100*sens)/(-3*acc + 5*eps + 2*sens + 2)) & (-0.01*(-100*eps + 100*sens)/(3*acc + 5*eps - 2*sens - 2) >= 0.01*(100*eps + 100*sens)/(-3*acc + 5*eps + 2*sens + 2)) & (-0.01*(-100*eps + 100*sens)/(3*acc + 5*eps - 2*sens - 2) >= -0.01*(100*eps + 100*sens)/(3*acc + 5*eps - 2*sens - 2)) & (0.01*(-100*eps + 100*sens)/(-3*acc + 5*eps + 2*sens + 2) <= 0.01*(100*eps + 100*sens)/(-3*acc + 5*eps + 2*sens + 2)) & (0.01*(-100*eps + 100*sens)/(-3*acc + 5*eps + 2*sens + 2) <= -0.01*(100*eps + 100*sens)/(3*acc + 5*eps - 2*sens - 2)),\n",
       "[oo*(-eps + sens), 1.0*(-eps + sens)/(-3*acc + 5*eps + 2*sens + 2)]subject to Eq(-300*acc - 500*eps + 200*sens + 200, 0) & (oo*(-100*eps + 100*sens) <= oo*(100*eps + 100*sens)) & ((-300*acc + 500*eps + 200*sens + 200 > 0) | (-300*acc + 500*eps + 200*sens + 200 < 0)) & (0.01*(-100*eps + 100*sens)/(-3*acc + 5*eps + 2*sens + 2) >= oo*(-100*eps + 100*sens)) & (0.01*(-100*eps + 100*sens)/(-3*acc + 5*eps + 2*sens + 2) >= oo*(100*eps + 100*sens)) & (oo*(-100*eps + 100*sens) <= 0.01*(100*eps + 100*sens)/(-3*acc + 5*eps + 2*sens + 2)) & (0.01*(-100*eps + 100*sens)/(-3*acc + 5*eps + 2*sens + 2) >= 0.01*(100*eps + 100*sens)/(-3*acc + 5*eps + 2*sens + 2)),\n",
       "[1.0*(-eps + sens)/(-3*acc + 5*eps + 2*sens + 2), oo*(-eps + sens)]subject to Eq(-300*acc - 500*eps + 200*sens + 200, 0) & (oo*(-100*eps + 100*sens) >= oo*(100*eps + 100*sens)) & ((-300*acc + 500*eps + 200*sens + 200 > 0) | (-300*acc + 500*eps + 200*sens + 200 < 0)) & (oo*(-100*eps + 100*sens) >= 0.01*(-100*eps + 100*sens)/(-3*acc + 5*eps + 2*sens + 2)) & (oo*(-100*eps + 100*sens) >= 0.01*(100*eps + 100*sens)/(-3*acc + 5*eps + 2*sens + 2)) & (0.01*(-100*eps + 100*sens)/(-3*acc + 5*eps + 2*sens + 2) <= oo*(100*eps + 100*sens)) & (0.01*(-100*eps + 100*sens)/(-3*acc + 5*eps + 2*sens + 2) <= 0.01*(100*eps + 100*sens)/(-3*acc + 5*eps + 2*sens + 2)),\n",
       "[oo*(eps - sens), 1.0*(-eps - sens)/(3*acc + 5*eps - 2*sens - 2)]subject to (-300*acc + 500*eps + 200*sens + 200 > 0) & (-300*acc - 500*eps + 200*sens + 200 < 0) & (-oo*(-100*eps + 100*sens) <= -oo*(100*eps + 100*sens)) & (-0.01*(100*eps + 100*sens)/(3*acc + 5*eps - 2*sens - 2) >= -oo*(-100*eps + 100*sens)) & (-0.01*(100*eps + 100*sens)/(3*acc + 5*eps - 2*sens - 2) >= -oo*(100*eps + 100*sens)) & (-oo*(-100*eps + 100*sens) <= -0.01*(-100*eps + 100*sens)/(3*acc + 5*eps - 2*sens - 2)) & (-0.01*(100*eps + 100*sens)/(3*acc + 5*eps - 2*sens - 2) >= -0.01*(-100*eps + 100*sens)/(3*acc + 5*eps - 2*sens - 2)),\n",
       "[1.0*(eps + sens)/(-3*acc + 5*eps + 2*sens + 2), 1.0*(-eps + sens)/(-3*acc + 5*eps + 2*sens + 2)]subject to Eq(-300*acc - 500*eps + 200*sens + 200, 0) & ((-300*acc + 500*eps + 200*sens + 200 > 0) | (-300*acc + 500*eps + 200*sens + 200 < 0)) & (0.01*(-100*eps + 100*sens)/(-3*acc + 5*eps + 2*sens + 2) >= oo*(-100*eps + 100*sens)) & (0.01*(-100*eps + 100*sens)/(-3*acc + 5*eps + 2*sens + 2) >= oo*(100*eps + 100*sens)) & (0.01*(100*eps + 100*sens)/(-3*acc + 5*eps + 2*sens + 2) <= oo*(-100*eps + 100*sens)) & (0.01*(100*eps + 100*sens)/(-3*acc + 5*eps + 2*sens + 2) <= oo*(100*eps + 100*sens)) & (0.01*(-100*eps + 100*sens)/(-3*acc + 5*eps + 2*sens + 2) >= 0.01*(100*eps + 100*sens)/(-3*acc + 5*eps + 2*sens + 2)),\n",
       "[1.0*(-eps + sens)/(-3*acc + 5*eps + 2*sens + 2), 1.0*(eps + sens)/(-3*acc + 5*eps + 2*sens + 2)]subject to Eq(-300*acc - 500*eps + 200*sens + 200, 0) & ((-300*acc + 500*eps + 200*sens + 200 > 0) | (-300*acc + 500*eps + 200*sens + 200 < 0)) & (0.01*(100*eps + 100*sens)/(-3*acc + 5*eps + 2*sens + 2) >= oo*(-100*eps + 100*sens)) & (0.01*(100*eps + 100*sens)/(-3*acc + 5*eps + 2*sens + 2) >= oo*(100*eps + 100*sens)) & (0.01*(-100*eps + 100*sens)/(-3*acc + 5*eps + 2*sens + 2) <= oo*(-100*eps + 100*sens)) & (0.01*(-100*eps + 100*sens)/(-3*acc + 5*eps + 2*sens + 2) <= oo*(100*eps + 100*sens)) & (0.01*(100*eps + 100*sens)/(-3*acc + 5*eps + 2*sens + 2) >= 0.01*(-100*eps + 100*sens)/(-3*acc + 5*eps + 2*sens + 2)),\n",
       "[1.0*(-eps - sens)/(3*acc + 5*eps - 2*sens - 2), oo*(eps - sens)]subject to (-300*acc + 500*eps + 200*sens + 200 > 0) & (-300*acc - 500*eps + 200*sens + 200 < 0) & (-oo*(-100*eps + 100*sens) >= -oo*(100*eps + 100*sens)) & (-oo*(-100*eps + 100*sens) >= -0.01*(-100*eps + 100*sens)/(3*acc + 5*eps - 2*sens - 2)) & (-oo*(-100*eps + 100*sens) >= -0.01*(100*eps + 100*sens)/(3*acc + 5*eps - 2*sens - 2)) & (-0.01*(100*eps + 100*sens)/(3*acc + 5*eps - 2*sens - 2) <= -oo*(100*eps + 100*sens)) & (-0.01*(100*eps + 100*sens)/(3*acc + 5*eps - 2*sens - 2) <= -0.01*(-100*eps + 100*sens)/(3*acc + 5*eps - 2*sens - 2)),\n",
       "[oo*(eps - sens), 1.0*(-eps - sens)/(3*acc + 5*eps - 2*sens - 2)]subject to Eq(-300*acc + 500*eps + 200*sens + 200, 0) & (-oo*(-100*eps + 100*sens) <= -oo*(100*eps + 100*sens)) & ((-300*acc - 500*eps + 200*sens + 200 > 0) | (-300*acc - 500*eps + 200*sens + 200 < 0)) & (-0.01*(100*eps + 100*sens)/(3*acc + 5*eps - 2*sens - 2) >= -oo*(-100*eps + 100*sens)) & (-0.01*(100*eps + 100*sens)/(3*acc + 5*eps - 2*sens - 2) >= -oo*(100*eps + 100*sens)) & (-oo*(-100*eps + 100*sens) <= -0.01*(-100*eps + 100*sens)/(3*acc + 5*eps - 2*sens - 2)) & (-0.01*(100*eps + 100*sens)/(3*acc + 5*eps - 2*sens - 2) >= -0.01*(-100*eps + 100*sens)/(3*acc + 5*eps - 2*sens - 2)),\n",
       "[1.0*(eps + sens)/(-3*acc + 5*eps + 2*sens + 2), 1.0*(-eps + sens)/(-3*acc + 5*eps + 2*sens + 2)]subject to ((-300*acc - 500*eps + 200*sens + 200 > 0) | (-300*acc + 500*eps + 200*sens + 200 < 0)) & (0.01*(-100*eps + 100*sens)/(-3*acc + 5*eps + 2*sens + 2) >= -0.01*(-100*eps + 100*sens)/(3*acc + 5*eps - 2*sens - 2)) & (0.01*(-100*eps + 100*sens)/(-3*acc + 5*eps + 2*sens + 2) >= 0.01*(100*eps + 100*sens)/(-3*acc + 5*eps + 2*sens + 2)) & (0.01*(-100*eps + 100*sens)/(-3*acc + 5*eps + 2*sens + 2) >= -0.01*(100*eps + 100*sens)/(3*acc + 5*eps - 2*sens - 2)) & (0.01*(100*eps + 100*sens)/(-3*acc + 5*eps + 2*sens + 2) <= -0.01*(-100*eps + 100*sens)/(3*acc + 5*eps - 2*sens - 2)) & (0.01*(100*eps + 100*sens)/(-3*acc + 5*eps + 2*sens + 2) <= -0.01*(100*eps + 100*sens)/(3*acc + 5*eps - 2*sens - 2)),\n",
       "[1.0*(-eps + sens)/(-3*acc + 5*eps + 2*sens + 2), 1.0*(eps + sens)/(-3*acc + 5*eps + 2*sens + 2)]subject to ((-300*acc - 500*eps + 200*sens + 200 > 0) | (-300*acc + 500*eps + 200*sens + 200 < 0)) & (0.01*(100*eps + 100*sens)/(-3*acc + 5*eps + 2*sens + 2) >= 0.01*(-100*eps + 100*sens)/(-3*acc + 5*eps + 2*sens + 2)) & (0.01*(100*eps + 100*sens)/(-3*acc + 5*eps + 2*sens + 2) >= -0.01*(-100*eps + 100*sens)/(3*acc + 5*eps - 2*sens - 2)) & (0.01*(100*eps + 100*sens)/(-3*acc + 5*eps + 2*sens + 2) >= -0.01*(100*eps + 100*sens)/(3*acc + 5*eps - 2*sens - 2)) & (0.01*(-100*eps + 100*sens)/(-3*acc + 5*eps + 2*sens + 2) <= -0.01*(-100*eps + 100*sens)/(3*acc + 5*eps - 2*sens - 2)) & (0.01*(-100*eps + 100*sens)/(-3*acc + 5*eps + 2*sens + 2) <= -0.01*(100*eps + 100*sens)/(3*acc + 5*eps - 2*sens - 2)),\n",
       "[1.0*(-eps - sens)/(3*acc + 5*eps - 2*sens - 2), oo*(eps - sens)]subject to Eq(-300*acc + 500*eps + 200*sens + 200, 0) & (-oo*(-100*eps + 100*sens) >= -oo*(100*eps + 100*sens)) & ((-300*acc - 500*eps + 200*sens + 200 > 0) | (-300*acc - 500*eps + 200*sens + 200 < 0)) & (-oo*(-100*eps + 100*sens) >= -0.01*(-100*eps + 100*sens)/(3*acc + 5*eps - 2*sens - 2)) & (-oo*(-100*eps + 100*sens) >= -0.01*(100*eps + 100*sens)/(3*acc + 5*eps - 2*sens - 2)) & (-0.01*(100*eps + 100*sens)/(3*acc + 5*eps - 2*sens - 2) <= -oo*(100*eps + 100*sens)) & (-0.01*(100*eps + 100*sens)/(3*acc + 5*eps - 2*sens - 2) <= -0.01*(-100*eps + 100*sens)/(3*acc + 5*eps - 2*sens - 2)),\n",
       "[-oo*(eps + sens), oo*(eps - sens)]subject to (-300*acc + 500*eps + 200*sens + 200 > 0) & (-300*acc - 500*eps + 200*sens + 200 < 0) & (-oo*(-100*eps + 100*sens) >= -oo*(100*eps + 100*sens)) & (-oo*(-100*eps + 100*sens) >= -0.01*(-100*eps + 100*sens)/(3*acc + 5*eps - 2*sens - 2)) & (-oo*(-100*eps + 100*sens) >= -0.01*(100*eps + 100*sens)/(3*acc + 5*eps - 2*sens - 2)) & (-oo*(100*eps + 100*sens) <= -0.01*(-100*eps + 100*sens)/(3*acc + 5*eps - 2*sens - 2)) & (-oo*(100*eps + 100*sens) <= -0.01*(100*eps + 100*sens)/(3*acc + 5*eps - 2*sens - 2)),\n",
       "[oo*(eps - sens), -oo*(eps + sens)]subject to (-300*acc + 500*eps + 200*sens + 200 > 0) & (-300*acc - 500*eps + 200*sens + 200 < 0) & (-oo*(100*eps + 100*sens) >= -oo*(-100*eps + 100*sens)) & (-oo*(100*eps + 100*sens) >= -0.01*(-100*eps + 100*sens)/(3*acc + 5*eps - 2*sens - 2)) & (-oo*(100*eps + 100*sens) >= -0.01*(100*eps + 100*sens)/(3*acc + 5*eps - 2*sens - 2)) & (-oo*(-100*eps + 100*sens) <= -0.01*(-100*eps + 100*sens)/(3*acc + 5*eps - 2*sens - 2)) & (-oo*(-100*eps + 100*sens) <= -0.01*(100*eps + 100*sens)/(3*acc + 5*eps - 2*sens - 2)),\n",
       "[1.0*(eps - sens)/(3*acc + 5*eps - 2*sens - 2), 1.0*(eps + sens)/(-3*acc + 5*eps + 2*sens + 2)]subject to ((-300*acc - 500*eps + 200*sens + 200 > 0) | (-300*acc + 500*eps + 200*sens + 200 < 0)) & (0.01*(100*eps + 100*sens)/(-3*acc + 5*eps + 2*sens + 2) >= 0.01*(-100*eps + 100*sens)/(-3*acc + 5*eps + 2*sens + 2)) & (0.01*(100*eps + 100*sens)/(-3*acc + 5*eps + 2*sens + 2) >= -0.01*(-100*eps + 100*sens)/(3*acc + 5*eps - 2*sens - 2)) & (0.01*(100*eps + 100*sens)/(-3*acc + 5*eps + 2*sens + 2) >= -0.01*(100*eps + 100*sens)/(3*acc + 5*eps - 2*sens - 2)) & (-0.01*(-100*eps + 100*sens)/(3*acc + 5*eps - 2*sens - 2) <= 0.01*(-100*eps + 100*sens)/(-3*acc + 5*eps + 2*sens + 2)) & (-0.01*(-100*eps + 100*sens)/(3*acc + 5*eps - 2*sens - 2) <= -0.01*(100*eps + 100*sens)/(3*acc + 5*eps - 2*sens - 2)),\n",
       "[1.0*(eps + sens)/(-3*acc + 5*eps + 2*sens + 2), 1.0*(eps - sens)/(3*acc + 5*eps - 2*sens - 2)]subject to ((-300*acc - 500*eps + 200*sens + 200 > 0) | (-300*acc + 500*eps + 200*sens + 200 < 0)) & (-0.01*(-100*eps + 100*sens)/(3*acc + 5*eps - 2*sens - 2) >= 0.01*(-100*eps + 100*sens)/(-3*acc + 5*eps + 2*sens + 2)) & (-0.01*(-100*eps + 100*sens)/(3*acc + 5*eps - 2*sens - 2) >= 0.01*(100*eps + 100*sens)/(-3*acc + 5*eps + 2*sens + 2)) & (-0.01*(-100*eps + 100*sens)/(3*acc + 5*eps - 2*sens - 2) >= -0.01*(100*eps + 100*sens)/(3*acc + 5*eps - 2*sens - 2)) & (0.01*(100*eps + 100*sens)/(-3*acc + 5*eps + 2*sens + 2) <= 0.01*(-100*eps + 100*sens)/(-3*acc + 5*eps + 2*sens + 2)) & (0.01*(100*eps + 100*sens)/(-3*acc + 5*eps + 2*sens + 2) <= -0.01*(100*eps + 100*sens)/(3*acc + 5*eps - 2*sens - 2)),\n",
       "[-oo*(eps + sens), oo*(eps - sens)]subject to Eq(-300*acc + 500*eps + 200*sens + 200, 0) & (-oo*(-100*eps + 100*sens) >= -oo*(100*eps + 100*sens)) & ((-300*acc - 500*eps + 200*sens + 200 > 0) | (-300*acc - 500*eps + 200*sens + 200 < 0)) & (-oo*(-100*eps + 100*sens) >= -0.01*(-100*eps + 100*sens)/(3*acc + 5*eps - 2*sens - 2)) & (-oo*(-100*eps + 100*sens) >= -0.01*(100*eps + 100*sens)/(3*acc + 5*eps - 2*sens - 2)) & (-oo*(100*eps + 100*sens) <= -0.01*(-100*eps + 100*sens)/(3*acc + 5*eps - 2*sens - 2)) & (-oo*(100*eps + 100*sens) <= -0.01*(100*eps + 100*sens)/(3*acc + 5*eps - 2*sens - 2)),\n",
       "[1.0*(eps - sens)/(3*acc + 5*eps - 2*sens - 2), -oo*(eps + sens)]subject to Eq(-300*acc + 500*eps + 200*sens + 200, 0) & (-oo*(100*eps + 100*sens) >= -oo*(-100*eps + 100*sens)) & ((-300*acc - 500*eps + 200*sens + 200 > 0) | (-300*acc - 500*eps + 200*sens + 200 < 0)) & (-oo*(100*eps + 100*sens) >= -0.01*(-100*eps + 100*sens)/(3*acc + 5*eps - 2*sens - 2)) & (-oo*(100*eps + 100*sens) >= -0.01*(100*eps + 100*sens)/(3*acc + 5*eps - 2*sens - 2)) & (-0.01*(-100*eps + 100*sens)/(3*acc + 5*eps - 2*sens - 2) <= -oo*(-100*eps + 100*sens)) & (-0.01*(-100*eps + 100*sens)/(3*acc + 5*eps - 2*sens - 2) <= -0.01*(100*eps + 100*sens)/(3*acc + 5*eps - 2*sens - 2)),\n",
       "[-oo*(eps + sens), 1.0*(eps - sens)/(3*acc + 5*eps - 2*sens - 2)]subject to Eq(-300*acc + 500*eps + 200*sens + 200, 0) & (-oo*(100*eps + 100*sens) <= -oo*(-100*eps + 100*sens)) & ((-300*acc - 500*eps + 200*sens + 200 > 0) | (-300*acc - 500*eps + 200*sens + 200 < 0)) & (-0.01*(-100*eps + 100*sens)/(3*acc + 5*eps - 2*sens - 2) >= -oo*(-100*eps + 100*sens)) & (-0.01*(-100*eps + 100*sens)/(3*acc + 5*eps - 2*sens - 2) >= -oo*(100*eps + 100*sens)) & (-oo*(100*eps + 100*sens) <= -0.01*(100*eps + 100*sens)/(3*acc + 5*eps - 2*sens - 2)) & (-0.01*(-100*eps + 100*sens)/(3*acc + 5*eps - 2*sens - 2) >= -0.01*(100*eps + 100*sens)/(3*acc + 5*eps - 2*sens - 2)),\n",
       "[1.0*(eps - sens)/(3*acc + 5*eps - 2*sens - 2), -oo*(eps + sens)]subject to (-300*acc + 500*eps + 200*sens + 200 > 0) & (-300*acc - 500*eps + 200*sens + 200 < 0) & (-oo*(100*eps + 100*sens) >= -oo*(-100*eps + 100*sens)) & (-oo*(100*eps + 100*sens) >= -0.01*(-100*eps + 100*sens)/(3*acc + 5*eps - 2*sens - 2)) & (-oo*(100*eps + 100*sens) >= -0.01*(100*eps + 100*sens)/(3*acc + 5*eps - 2*sens - 2)) & (-0.01*(-100*eps + 100*sens)/(3*acc + 5*eps - 2*sens - 2) <= -oo*(-100*eps + 100*sens)) & (-0.01*(-100*eps + 100*sens)/(3*acc + 5*eps - 2*sens - 2) <= -0.01*(100*eps + 100*sens)/(3*acc + 5*eps - 2*sens - 2)),\n",
       "[-oo*(eps + sens), 1.0*(eps - sens)/(3*acc + 5*eps - 2*sens - 2)]subject to (-300*acc + 500*eps + 200*sens + 200 > 0) & (-300*acc - 500*eps + 200*sens + 200 < 0) & (-oo*(100*eps + 100*sens) <= -oo*(-100*eps + 100*sens)) & (-0.01*(-100*eps + 100*sens)/(3*acc + 5*eps - 2*sens - 2) >= -oo*(-100*eps + 100*sens)) & (-0.01*(-100*eps + 100*sens)/(3*acc + 5*eps - 2*sens - 2) >= -oo*(100*eps + 100*sens)) & (-oo*(100*eps + 100*sens) <= -0.01*(100*eps + 100*sens)/(3*acc + 5*eps - 2*sens - 2)) & (-0.01*(-100*eps + 100*sens)/(3*acc + 5*eps - 2*sens - 2) >= -0.01*(100*eps + 100*sens)/(3*acc + 5*eps - 2*sens - 2)),\n",
       "[oo*(-eps + sens), 1.0*(eps + sens)/(-3*acc + 5*eps + 2*sens + 2)]subject to Eq(-300*acc - 500*eps + 200*sens + 200, 0) & (oo*(-100*eps + 100*sens) <= oo*(100*eps + 100*sens)) & ((-300*acc + 500*eps + 200*sens + 200 > 0) | (-300*acc + 500*eps + 200*sens + 200 < 0)) & (0.01*(100*eps + 100*sens)/(-3*acc + 5*eps + 2*sens + 2) >= oo*(-100*eps + 100*sens)) & (0.01*(100*eps + 100*sens)/(-3*acc + 5*eps + 2*sens + 2) >= oo*(100*eps + 100*sens)) & (oo*(-100*eps + 100*sens) <= 0.01*(-100*eps + 100*sens)/(-3*acc + 5*eps + 2*sens + 2)) & (0.01*(100*eps + 100*sens)/(-3*acc + 5*eps + 2*sens + 2) >= 0.01*(-100*eps + 100*sens)/(-3*acc + 5*eps + 2*sens + 2)),\n",
       "[1.0*(eps + sens)/(-3*acc + 5*eps + 2*sens + 2), oo*(-eps + sens)]subject to Eq(-300*acc - 500*eps + 200*sens + 200, 0) & (oo*(-100*eps + 100*sens) >= oo*(100*eps + 100*sens)) & ((-300*acc + 500*eps + 200*sens + 200 > 0) | (-300*acc + 500*eps + 200*sens + 200 < 0)) & (oo*(-100*eps + 100*sens) >= 0.01*(-100*eps + 100*sens)/(-3*acc + 5*eps + 2*sens + 2)) & (oo*(-100*eps + 100*sens) >= 0.01*(100*eps + 100*sens)/(-3*acc + 5*eps + 2*sens + 2)) & (0.01*(100*eps + 100*sens)/(-3*acc + 5*eps + 2*sens + 2) <= oo*(100*eps + 100*sens)) & (0.01*(100*eps + 100*sens)/(-3*acc + 5*eps + 2*sens + 2) <= 0.01*(-100*eps + 100*sens)/(-3*acc + 5*eps + 2*sens + 2)),\n",
       "[oo*(eps + sens), 1.0*(-eps + sens)/(-3*acc + 5*eps + 2*sens + 2)]subject to Eq(-300*acc - 500*eps + 200*sens + 200, 0) & (oo*(100*eps + 100*sens) <= oo*(-100*eps + 100*sens)) & ((-300*acc + 500*eps + 200*sens + 200 > 0) | (-300*acc + 500*eps + 200*sens + 200 < 0)) & (0.01*(-100*eps + 100*sens)/(-3*acc + 5*eps + 2*sens + 2) >= oo*(-100*eps + 100*sens)) & (0.01*(-100*eps + 100*sens)/(-3*acc + 5*eps + 2*sens + 2) >= oo*(100*eps + 100*sens)) & (oo*(100*eps + 100*sens) <= 0.01*(100*eps + 100*sens)/(-3*acc + 5*eps + 2*sens + 2)) & (0.01*(-100*eps + 100*sens)/(-3*acc + 5*eps + 2*sens + 2) >= 0.01*(100*eps + 100*sens)/(-3*acc + 5*eps + 2*sens + 2)),\n",
       "[1.0*(-eps + sens)/(-3*acc + 5*eps + 2*sens + 2), oo*(eps + sens)]subject to Eq(-300*acc - 500*eps + 200*sens + 200, 0) & (oo*(100*eps + 100*sens) >= oo*(-100*eps + 100*sens)) & ((-300*acc + 500*eps + 200*sens + 200 > 0) | (-300*acc + 500*eps + 200*sens + 200 < 0)) & (oo*(100*eps + 100*sens) >= 0.01*(-100*eps + 100*sens)/(-3*acc + 5*eps + 2*sens + 2)) & (oo*(100*eps + 100*sens) >= 0.01*(100*eps + 100*sens)/(-3*acc + 5*eps + 2*sens + 2)) & (0.01*(-100*eps + 100*sens)/(-3*acc + 5*eps + 2*sens + 2) <= oo*(-100*eps + 100*sens)) & (0.01*(-100*eps + 100*sens)/(-3*acc + 5*eps + 2*sens + 2) <= 0.01*(100*eps + 100*sens)/(-3*acc + 5*eps + 2*sens + 2)),\n",
       "[oo*(-eps + sens), 1.0*(eps + sens)/(-3*acc + 5*eps + 2*sens + 2)]subject to (-300*acc + 500*eps + 200*sens + 200 > 0) & (-300*acc - 500*eps + 200*sens + 200 < 0) & (oo*(-100*eps + 100*sens) <= oo*(100*eps + 100*sens)) & (0.01*(100*eps + 100*sens)/(-3*acc + 5*eps + 2*sens + 2) >= oo*(-100*eps + 100*sens)) & (0.01*(100*eps + 100*sens)/(-3*acc + 5*eps + 2*sens + 2) >= oo*(100*eps + 100*sens)) & (oo*(-100*eps + 100*sens) <= 0.01*(-100*eps + 100*sens)/(-3*acc + 5*eps + 2*sens + 2)) & (0.01*(100*eps + 100*sens)/(-3*acc + 5*eps + 2*sens + 2) >= 0.01*(-100*eps + 100*sens)/(-3*acc + 5*eps + 2*sens + 2)),\n",
       "[1.0*(eps + sens)/(-3*acc + 5*eps + 2*sens + 2), oo*(-eps + sens)]subject to (-300*acc + 500*eps + 200*sens + 200 > 0) & (-300*acc - 500*eps + 200*sens + 200 < 0) & (oo*(-100*eps + 100*sens) >= oo*(100*eps + 100*sens)) & (oo*(-100*eps + 100*sens) >= 0.01*(-100*eps + 100*sens)/(-3*acc + 5*eps + 2*sens + 2)) & (oo*(-100*eps + 100*sens) >= 0.01*(100*eps + 100*sens)/(-3*acc + 5*eps + 2*sens + 2)) & (0.01*(100*eps + 100*sens)/(-3*acc + 5*eps + 2*sens + 2) <= oo*(100*eps + 100*sens)) & (0.01*(100*eps + 100*sens)/(-3*acc + 5*eps + 2*sens + 2) <= 0.01*(-100*eps + 100*sens)/(-3*acc + 5*eps + 2*sens + 2)),\n",
       "[oo*(eps + sens), 1.0*(-eps + sens)/(-3*acc + 5*eps + 2*sens + 2)]subject to (-300*acc + 500*eps + 200*sens + 200 > 0) & (-300*acc - 500*eps + 200*sens + 200 < 0) & (oo*(100*eps + 100*sens) <= oo*(-100*eps + 100*sens)) & (0.01*(-100*eps + 100*sens)/(-3*acc + 5*eps + 2*sens + 2) >= oo*(-100*eps + 100*sens)) & (0.01*(-100*eps + 100*sens)/(-3*acc + 5*eps + 2*sens + 2) >= oo*(100*eps + 100*sens)) & (oo*(100*eps + 100*sens) <= 0.01*(100*eps + 100*sens)/(-3*acc + 5*eps + 2*sens + 2)) & (0.01*(-100*eps + 100*sens)/(-3*acc + 5*eps + 2*sens + 2) >= 0.01*(100*eps + 100*sens)/(-3*acc + 5*eps + 2*sens + 2)),\n",
       "[1.0*(-eps + sens)/(-3*acc + 5*eps + 2*sens + 2), oo*(eps + sens)]subject to (-300*acc + 500*eps + 200*sens + 200 > 0) & (-300*acc - 500*eps + 200*sens + 200 < 0) & (oo*(100*eps + 100*sens) >= oo*(-100*eps + 100*sens)) & (oo*(100*eps + 100*sens) >= 0.01*(-100*eps + 100*sens)/(-3*acc + 5*eps + 2*sens + 2)) & (oo*(100*eps + 100*sens) >= 0.01*(100*eps + 100*sens)/(-3*acc + 5*eps + 2*sens + 2)) & (0.01*(-100*eps + 100*sens)/(-3*acc + 5*eps + 2*sens + 2) <= oo*(-100*eps + 100*sens)) & (0.01*(-100*eps + 100*sens)/(-3*acc + 5*eps + 2*sens + 2) <= 0.01*(100*eps + 100*sens)/(-3*acc + 5*eps + 2*sens + 2)),\n",
       "[oo*(-eps + sens), oo*(eps + sens)]subject to (-300*acc + 500*eps + 200*sens + 200 > 0) & (-300*acc - 500*eps + 200*sens + 200 < 0) & (oo*(100*eps + 100*sens) >= oo*(-100*eps + 100*sens)) & (oo*(100*eps + 100*sens) >= 0.01*(-100*eps + 100*sens)/(-3*acc + 5*eps + 2*sens + 2)) & (oo*(100*eps + 100*sens) >= 0.01*(100*eps + 100*sens)/(-3*acc + 5*eps + 2*sens + 2)) & (oo*(-100*eps + 100*sens) <= 0.01*(-100*eps + 100*sens)/(-3*acc + 5*eps + 2*sens + 2)) & (oo*(-100*eps + 100*sens) <= 0.01*(100*eps + 100*sens)/(-3*acc + 5*eps + 2*sens + 2)),\n",
       "[1.0*(-eps + sens)/(-3*acc + 5*eps + 2*sens + 2), 1.0*(-eps - sens)/(3*acc + 5*eps - 2*sens - 2)]subject to ((-300*acc - 500*eps + 200*sens + 200 > 0) | (-300*acc + 500*eps + 200*sens + 200 < 0)) & (-0.01*(100*eps + 100*sens)/(3*acc + 5*eps - 2*sens - 2) >= 0.01*(-100*eps + 100*sens)/(-3*acc + 5*eps + 2*sens + 2)) & (-0.01*(100*eps + 100*sens)/(3*acc + 5*eps - 2*sens - 2) >= -0.01*(-100*eps + 100*sens)/(3*acc + 5*eps - 2*sens - 2)) & (-0.01*(100*eps + 100*sens)/(3*acc + 5*eps - 2*sens - 2) >= 0.01*(100*eps + 100*sens)/(-3*acc + 5*eps + 2*sens + 2)) & (0.01*(-100*eps + 100*sens)/(-3*acc + 5*eps + 2*sens + 2) <= -0.01*(-100*eps + 100*sens)/(3*acc + 5*eps - 2*sens - 2)) & (0.01*(-100*eps + 100*sens)/(-3*acc + 5*eps + 2*sens + 2) <= 0.01*(100*eps + 100*sens)/(-3*acc + 5*eps + 2*sens + 2)),\n",
       "[1.0*(-eps - sens)/(3*acc + 5*eps - 2*sens - 2), 1.0*(-eps + sens)/(-3*acc + 5*eps + 2*sens + 2)]subject to ((-300*acc - 500*eps + 200*sens + 200 > 0) | (-300*acc + 500*eps + 200*sens + 200 < 0)) & (0.01*(-100*eps + 100*sens)/(-3*acc + 5*eps + 2*sens + 2) >= -0.01*(-100*eps + 100*sens)/(3*acc + 5*eps - 2*sens - 2)) & (0.01*(-100*eps + 100*sens)/(-3*acc + 5*eps + 2*sens + 2) >= 0.01*(100*eps + 100*sens)/(-3*acc + 5*eps + 2*sens + 2)) & (0.01*(-100*eps + 100*sens)/(-3*acc + 5*eps + 2*sens + 2) >= -0.01*(100*eps + 100*sens)/(3*acc + 5*eps - 2*sens - 2)) & (-0.01*(100*eps + 100*sens)/(3*acc + 5*eps - 2*sens - 2) <= -0.01*(-100*eps + 100*sens)/(3*acc + 5*eps - 2*sens - 2)) & (-0.01*(100*eps + 100*sens)/(3*acc + 5*eps - 2*sens - 2) <= 0.01*(100*eps + 100*sens)/(-3*acc + 5*eps + 2*sens + 2)),\n",
       "[1.0*(eps + sens)/(-3*acc + 5*eps + 2*sens + 2), oo*(eps + sens)]subject to Eq(-300*acc - 500*eps + 200*sens + 200, 0) & (oo*(100*eps + 100*sens) >= oo*(-100*eps + 100*sens)) & ((-300*acc + 500*eps + 200*sens + 200 > 0) | (-300*acc + 500*eps + 200*sens + 200 < 0)) & (oo*(100*eps + 100*sens) >= 0.01*(-100*eps + 100*sens)/(-3*acc + 5*eps + 2*sens + 2)) & (oo*(100*eps + 100*sens) >= 0.01*(100*eps + 100*sens)/(-3*acc + 5*eps + 2*sens + 2)) & (0.01*(100*eps + 100*sens)/(-3*acc + 5*eps + 2*sens + 2) <= oo*(-100*eps + 100*sens)) & (0.01*(100*eps + 100*sens)/(-3*acc + 5*eps + 2*sens + 2) <= 0.01*(-100*eps + 100*sens)/(-3*acc + 5*eps + 2*sens + 2)),\n",
       "[oo*(eps + sens), oo*(-eps + sens)]subject to (-300*acc + 500*eps + 200*sens + 200 > 0) & (-300*acc - 500*eps + 200*sens + 200 < 0) & (oo*(-100*eps + 100*sens) >= oo*(100*eps + 100*sens)) & (oo*(-100*eps + 100*sens) >= 0.01*(-100*eps + 100*sens)/(-3*acc + 5*eps + 2*sens + 2)) & (oo*(-100*eps + 100*sens) >= 0.01*(100*eps + 100*sens)/(-3*acc + 5*eps + 2*sens + 2)) & (oo*(100*eps + 100*sens) <= 0.01*(-100*eps + 100*sens)/(-3*acc + 5*eps + 2*sens + 2)) & (oo*(100*eps + 100*sens) <= 0.01*(100*eps + 100*sens)/(-3*acc + 5*eps + 2*sens + 2)),\n",
       "[1.0*(-eps - sens)/(3*acc + 5*eps - 2*sens - 2), 1.0*(eps - sens)/(3*acc + 5*eps - 2*sens - 2)]subject to ((-300*acc - 500*eps + 200*sens + 200 > 0) | (-300*acc + 500*eps + 200*sens + 200 < 0)) & (-0.01*(-100*eps + 100*sens)/(3*acc + 5*eps - 2*sens - 2) >= 0.01*(-100*eps + 100*sens)/(-3*acc + 5*eps + 2*sens + 2)) & (-0.01*(-100*eps + 100*sens)/(3*acc + 5*eps - 2*sens - 2) >= 0.01*(100*eps + 100*sens)/(-3*acc + 5*eps + 2*sens + 2)) & (-0.01*(-100*eps + 100*sens)/(3*acc + 5*eps - 2*sens - 2) >= -0.01*(100*eps + 100*sens)/(3*acc + 5*eps - 2*sens - 2)) & (-0.01*(100*eps + 100*sens)/(3*acc + 5*eps - 2*sens - 2) <= 0.01*(-100*eps + 100*sens)/(-3*acc + 5*eps + 2*sens + 2)) & (-0.01*(100*eps + 100*sens)/(3*acc + 5*eps - 2*sens - 2) <= 0.01*(100*eps + 100*sens)/(-3*acc + 5*eps + 2*sens + 2)),\n",
       "[1.0*(eps - sens)/(3*acc + 5*eps - 2*sens - 2), 1.0*(-eps - sens)/(3*acc + 5*eps - 2*sens - 2)]subject to ((-300*acc - 500*eps + 200*sens + 200 > 0) | (-300*acc + 500*eps + 200*sens + 200 < 0)) & (-0.01*(100*eps + 100*sens)/(3*acc + 5*eps - 2*sens - 2) >= 0.01*(-100*eps + 100*sens)/(-3*acc + 5*eps + 2*sens + 2)) & (-0.01*(100*eps + 100*sens)/(3*acc + 5*eps - 2*sens - 2) >= -0.01*(-100*eps + 100*sens)/(3*acc + 5*eps - 2*sens - 2)) & (-0.01*(100*eps + 100*sens)/(3*acc + 5*eps - 2*sens - 2) >= 0.01*(100*eps + 100*sens)/(-3*acc + 5*eps + 2*sens + 2)) & (-0.01*(-100*eps + 100*sens)/(3*acc + 5*eps - 2*sens - 2) <= 0.01*(-100*eps + 100*sens)/(-3*acc + 5*eps + 2*sens + 2)) & (-0.01*(-100*eps + 100*sens)/(3*acc + 5*eps - 2*sens - 2) <= 0.01*(100*eps + 100*sens)/(-3*acc + 5*eps + 2*sens + 2)),\n",
       "[1.0*(-eps - sens)/(3*acc + 5*eps - 2*sens - 2), 1.0*(eps - sens)/(3*acc + 5*eps - 2*sens - 2)]subject to Eq(-300*acc + 500*eps + 200*sens + 200, 0) & ((-300*acc - 500*eps + 200*sens + 200 > 0) | (-300*acc - 500*eps + 200*sens + 200 < 0)) & (-0.01*(-100*eps + 100*sens)/(3*acc + 5*eps - 2*sens - 2) >= -oo*(-100*eps + 100*sens)) & (-0.01*(-100*eps + 100*sens)/(3*acc + 5*eps - 2*sens - 2) >= -oo*(100*eps + 100*sens)) & (-0.01*(100*eps + 100*sens)/(3*acc + 5*eps - 2*sens - 2) <= -oo*(-100*eps + 100*sens)) & (-0.01*(100*eps + 100*sens)/(3*acc + 5*eps - 2*sens - 2) <= -oo*(100*eps + 100*sens)) & (-0.01*(-100*eps + 100*sens)/(3*acc + 5*eps - 2*sens - 2) >= -0.01*(100*eps + 100*sens)/(3*acc + 5*eps - 2*sens - 2)),\n",
       "[1.0*(eps - sens)/(3*acc + 5*eps - 2*sens - 2), 1.0*(-eps - sens)/(3*acc + 5*eps - 2*sens - 2)]subject to Eq(-300*acc + 500*eps + 200*sens + 200, 0) & ((-300*acc - 500*eps + 200*sens + 200 > 0) | (-300*acc - 500*eps + 200*sens + 200 < 0)) & (-0.01*(100*eps + 100*sens)/(3*acc + 5*eps - 2*sens - 2) >= -oo*(-100*eps + 100*sens)) & (-0.01*(100*eps + 100*sens)/(3*acc + 5*eps - 2*sens - 2) >= -oo*(100*eps + 100*sens)) & (-0.01*(-100*eps + 100*sens)/(3*acc + 5*eps - 2*sens - 2) <= -oo*(-100*eps + 100*sens)) & (-0.01*(-100*eps + 100*sens)/(3*acc + 5*eps - 2*sens - 2) <= -oo*(100*eps + 100*sens)) & (-0.01*(100*eps + 100*sens)/(3*acc + 5*eps - 2*sens - 2) >= -0.01*(-100*eps + 100*sens)/(3*acc + 5*eps - 2*sens - 2)),\n",
       "[oo*(-eps + sens), oo*(eps + sens)]subject to Eq(-300*acc - 500*eps + 200*sens + 200, 0) & (oo*(100*eps + 100*sens) >= oo*(-100*eps + 100*sens)) & ((-300*acc + 500*eps + 200*sens + 200 > 0) | (-300*acc + 500*eps + 200*sens + 200 < 0)) & (oo*(100*eps + 100*sens) >= 0.01*(-100*eps + 100*sens)/(-3*acc + 5*eps + 2*sens + 2)) & (oo*(100*eps + 100*sens) >= 0.01*(100*eps + 100*sens)/(-3*acc + 5*eps + 2*sens + 2)) & (oo*(-100*eps + 100*sens) <= 0.01*(-100*eps + 100*sens)/(-3*acc + 5*eps + 2*sens + 2)) & (oo*(-100*eps + 100*sens) <= 0.01*(100*eps + 100*sens)/(-3*acc + 5*eps + 2*sens + 2)),\n",
       "[oo*(eps + sens), oo*(-eps + sens)]subject to Eq(-300*acc - 500*eps + 200*sens + 200, 0) & (oo*(-100*eps + 100*sens) >= oo*(100*eps + 100*sens)) & ((-300*acc + 500*eps + 200*sens + 200 > 0) | (-300*acc + 500*eps + 200*sens + 200 < 0)) & (oo*(-100*eps + 100*sens) >= 0.01*(-100*eps + 100*sens)/(-3*acc + 5*eps + 2*sens + 2)) & (oo*(-100*eps + 100*sens) >= 0.01*(100*eps + 100*sens)/(-3*acc + 5*eps + 2*sens + 2)) & (oo*(100*eps + 100*sens) <= 0.01*(-100*eps + 100*sens)/(-3*acc + 5*eps + 2*sens + 2)) & (oo*(100*eps + 100*sens) <= 0.01*(100*eps + 100*sens)/(-3*acc + 5*eps + 2*sens + 2)),\n",
       "[oo*(eps + sens), 1.0*(eps + sens)/(-3*acc + 5*eps + 2*sens + 2)]subject to Eq(-300*acc - 500*eps + 200*sens + 200, 0) & (oo*(100*eps + 100*sens) <= oo*(-100*eps + 100*sens)) & ((-300*acc + 500*eps + 200*sens + 200 > 0) | (-300*acc + 500*eps + 200*sens + 200 < 0)) & (0.01*(100*eps + 100*sens)/(-3*acc + 5*eps + 2*sens + 2) >= oo*(-100*eps + 100*sens)) & (0.01*(100*eps + 100*sens)/(-3*acc + 5*eps + 2*sens + 2) >= oo*(100*eps + 100*sens)) & (oo*(100*eps + 100*sens) <= 0.01*(-100*eps + 100*sens)/(-3*acc + 5*eps + 2*sens + 2)) & (0.01*(100*eps + 100*sens)/(-3*acc + 5*eps + 2*sens + 2) >= 0.01*(-100*eps + 100*sens)/(-3*acc + 5*eps + 2*sens + 2)),\n",
       "[1.0*(-eps - sens)/(3*acc + 5*eps - 2*sens - 2), 1.0*(eps - sens)/(3*acc + 5*eps - 2*sens - 2)]subject to (-300*acc + 500*eps + 200*sens + 200 > 0) & (-300*acc - 500*eps + 200*sens + 200 < 0) & (-0.01*(-100*eps + 100*sens)/(3*acc + 5*eps - 2*sens - 2) >= -oo*(-100*eps + 100*sens)) & (-0.01*(-100*eps + 100*sens)/(3*acc + 5*eps - 2*sens - 2) >= -oo*(100*eps + 100*sens)) & (-0.01*(100*eps + 100*sens)/(3*acc + 5*eps - 2*sens - 2) <= -oo*(-100*eps + 100*sens)) & (-0.01*(100*eps + 100*sens)/(3*acc + 5*eps - 2*sens - 2) <= -oo*(100*eps + 100*sens)) & (-0.01*(-100*eps + 100*sens)/(3*acc + 5*eps - 2*sens - 2) >= -0.01*(100*eps + 100*sens)/(3*acc + 5*eps - 2*sens - 2)),\n",
       "[1.0*(eps - sens)/(3*acc + 5*eps - 2*sens - 2), 1.0*(-eps - sens)/(3*acc + 5*eps - 2*sens - 2)]subject to (-300*acc + 500*eps + 200*sens + 200 > 0) & (-300*acc - 500*eps + 200*sens + 200 < 0) & (-0.01*(100*eps + 100*sens)/(3*acc + 5*eps - 2*sens - 2) >= -oo*(-100*eps + 100*sens)) & (-0.01*(100*eps + 100*sens)/(3*acc + 5*eps - 2*sens - 2) >= -oo*(100*eps + 100*sens)) & (-0.01*(-100*eps + 100*sens)/(3*acc + 5*eps - 2*sens - 2) <= -oo*(-100*eps + 100*sens)) & (-0.01*(-100*eps + 100*sens)/(3*acc + 5*eps - 2*sens - 2) <= -oo*(100*eps + 100*sens)) & (-0.01*(100*eps + 100*sens)/(3*acc + 5*eps - 2*sens - 2) >= -0.01*(-100*eps + 100*sens)/(3*acc + 5*eps - 2*sens - 2)),\n",
       "[1.0*(-eps - sens)/(3*acc + 5*eps - 2*sens - 2), 1.0*(eps + sens)/(-3*acc + 5*eps + 2*sens + 2)]subject to ((-300*acc - 500*eps + 200*sens + 200 > 0) | (-300*acc + 500*eps + 200*sens + 200 < 0)) & (0.01*(100*eps + 100*sens)/(-3*acc + 5*eps + 2*sens + 2) >= 0.01*(-100*eps + 100*sens)/(-3*acc + 5*eps + 2*sens + 2)) & (0.01*(100*eps + 100*sens)/(-3*acc + 5*eps + 2*sens + 2) >= -0.01*(-100*eps + 100*sens)/(3*acc + 5*eps - 2*sens - 2)) & (0.01*(100*eps + 100*sens)/(-3*acc + 5*eps + 2*sens + 2) >= -0.01*(100*eps + 100*sens)/(3*acc + 5*eps - 2*sens - 2)) & (-0.01*(100*eps + 100*sens)/(3*acc + 5*eps - 2*sens - 2) <= 0.01*(-100*eps + 100*sens)/(-3*acc + 5*eps + 2*sens + 2)) & (-0.01*(100*eps + 100*sens)/(3*acc + 5*eps - 2*sens - 2) <= -0.01*(-100*eps + 100*sens)/(3*acc + 5*eps - 2*sens - 2)),\n",
       "[1.0*(eps + sens)/(-3*acc + 5*eps + 2*sens + 2), 1.0*(-eps - sens)/(3*acc + 5*eps - 2*sens - 2)]subject to ((-300*acc - 500*eps + 200*sens + 200 > 0) | (-300*acc + 500*eps + 200*sens + 200 < 0)) & (-0.01*(100*eps + 100*sens)/(3*acc + 5*eps - 2*sens - 2) >= 0.01*(-100*eps + 100*sens)/(-3*acc + 5*eps + 2*sens + 2)) & (-0.01*(100*eps + 100*sens)/(3*acc + 5*eps - 2*sens - 2) >= -0.01*(-100*eps + 100*sens)/(3*acc + 5*eps - 2*sens - 2)) & (-0.01*(100*eps + 100*sens)/(3*acc + 5*eps - 2*sens - 2) >= 0.01*(100*eps + 100*sens)/(-3*acc + 5*eps + 2*sens + 2)) & (0.01*(100*eps + 100*sens)/(-3*acc + 5*eps + 2*sens + 2) <= 0.01*(-100*eps + 100*sens)/(-3*acc + 5*eps + 2*sens + 2)) & (0.01*(100*eps + 100*sens)/(-3*acc + 5*eps + 2*sens + 2) <= -0.01*(-100*eps + 100*sens)/(3*acc + 5*eps - 2*sens - 2)),\n",
       "[1.0*(eps + sens)/(-3*acc + 5*eps + 2*sens + 2), oo*(eps + sens)]subject to (-300*acc + 500*eps + 200*sens + 200 > 0) & (-300*acc - 500*eps + 200*sens + 200 < 0) & (oo*(100*eps + 100*sens) >= oo*(-100*eps + 100*sens)) & (oo*(100*eps + 100*sens) >= 0.01*(-100*eps + 100*sens)/(-3*acc + 5*eps + 2*sens + 2)) & (oo*(100*eps + 100*sens) >= 0.01*(100*eps + 100*sens)/(-3*acc + 5*eps + 2*sens + 2)) & (0.01*(100*eps + 100*sens)/(-3*acc + 5*eps + 2*sens + 2) <= oo*(-100*eps + 100*sens)) & (0.01*(100*eps + 100*sens)/(-3*acc + 5*eps + 2*sens + 2) <= 0.01*(-100*eps + 100*sens)/(-3*acc + 5*eps + 2*sens + 2)),\n",
       "[oo*(eps + sens), 1.0*(eps + sens)/(-3*acc + 5*eps + 2*sens + 2)]subject to (-300*acc + 500*eps + 200*sens + 200 > 0) & (-300*acc - 500*eps + 200*sens + 200 < 0) & (oo*(100*eps + 100*sens) <= oo*(-100*eps + 100*sens)) & (0.01*(100*eps + 100*sens)/(-3*acc + 5*eps + 2*sens + 2) >= oo*(-100*eps + 100*sens)) & (0.01*(100*eps + 100*sens)/(-3*acc + 5*eps + 2*sens + 2) >= oo*(100*eps + 100*sens)) & (oo*(100*eps + 100*sens) <= 0.01*(-100*eps + 100*sens)/(-3*acc + 5*eps + 2*sens + 2)) & (0.01*(100*eps + 100*sens)/(-3*acc + 5*eps + 2*sens + 2) >= 0.01*(-100*eps + 100*sens)/(-3*acc + 5*eps + 2*sens + 2)),\n",
       "[oo*(eps - sens), 1.0*(eps - sens)/(3*acc + 5*eps - 2*sens - 2)]subject to Eq(-300*acc + 500*eps + 200*sens + 200, 0) & (-oo*(-100*eps + 100*sens) <= -oo*(100*eps + 100*sens)) & ((-300*acc - 500*eps + 200*sens + 200 > 0) | (-300*acc - 500*eps + 200*sens + 200 < 0)) & (-0.01*(-100*eps + 100*sens)/(3*acc + 5*eps - 2*sens - 2) >= -oo*(-100*eps + 100*sens)) & (-0.01*(-100*eps + 100*sens)/(3*acc + 5*eps - 2*sens - 2) >= -oo*(100*eps + 100*sens)) & (-oo*(-100*eps + 100*sens) <= -0.01*(100*eps + 100*sens)/(3*acc + 5*eps - 2*sens - 2)) & (-0.01*(-100*eps + 100*sens)/(3*acc + 5*eps - 2*sens - 2) >= -0.01*(100*eps + 100*sens)/(3*acc + 5*eps - 2*sens - 2)),\n",
       "[1.0*(eps - sens)/(3*acc + 5*eps - 2*sens - 2), oo*(eps - sens)]subject to Eq(-300*acc + 500*eps + 200*sens + 200, 0) & (-oo*(-100*eps + 100*sens) >= -oo*(100*eps + 100*sens)) & ((-300*acc - 500*eps + 200*sens + 200 > 0) | (-300*acc - 500*eps + 200*sens + 200 < 0)) & (-oo*(-100*eps + 100*sens) >= -0.01*(-100*eps + 100*sens)/(3*acc + 5*eps - 2*sens - 2)) & (-oo*(-100*eps + 100*sens) >= -0.01*(100*eps + 100*sens)/(3*acc + 5*eps - 2*sens - 2)) & (-0.01*(-100*eps + 100*sens)/(3*acc + 5*eps - 2*sens - 2) <= -oo*(100*eps + 100*sens)) & (-0.01*(-100*eps + 100*sens)/(3*acc + 5*eps - 2*sens - 2) <= -0.01*(100*eps + 100*sens)/(3*acc + 5*eps - 2*sens - 2)),\n",
       "[oo*(eps - sens), 1.0*(eps - sens)/(3*acc + 5*eps - 2*sens - 2)]subject to (-300*acc + 500*eps + 200*sens + 200 > 0) & (-300*acc - 500*eps + 200*sens + 200 < 0) & (-oo*(-100*eps + 100*sens) <= -oo*(100*eps + 100*sens)) & (-0.01*(-100*eps + 100*sens)/(3*acc + 5*eps - 2*sens - 2) >= -oo*(-100*eps + 100*sens)) & (-0.01*(-100*eps + 100*sens)/(3*acc + 5*eps - 2*sens - 2) >= -oo*(100*eps + 100*sens)) & (-oo*(-100*eps + 100*sens) <= -0.01*(100*eps + 100*sens)/(3*acc + 5*eps - 2*sens - 2)) & (-0.01*(-100*eps + 100*sens)/(3*acc + 5*eps - 2*sens - 2) >= -0.01*(100*eps + 100*sens)/(3*acc + 5*eps - 2*sens - 2)),\n",
       "[1.0*(eps - sens)/(3*acc + 5*eps - 2*sens - 2), oo*(eps - sens)]subject to (-300*acc + 500*eps + 200*sens + 200 > 0) & (-300*acc - 500*eps + 200*sens + 200 < 0) & (-oo*(-100*eps + 100*sens) >= -oo*(100*eps + 100*sens)) & (-oo*(-100*eps + 100*sens) >= -0.01*(-100*eps + 100*sens)/(3*acc + 5*eps - 2*sens - 2)) & (-oo*(-100*eps + 100*sens) >= -0.01*(100*eps + 100*sens)/(3*acc + 5*eps - 2*sens - 2)) & (-0.01*(-100*eps + 100*sens)/(3*acc + 5*eps - 2*sens - 2) <= -oo*(100*eps + 100*sens)) & (-0.01*(-100*eps + 100*sens)/(3*acc + 5*eps - 2*sens - 2) <= -0.01*(100*eps + 100*sens)/(3*acc + 5*eps - 2*sens - 2)),\n",
       "[1.0*(-eps - sens)/(3*acc + 5*eps - 2*sens - 2), -oo*(eps + sens)]subject to Eq(-300*acc + 500*eps + 200*sens + 200, 0) & (-oo*(100*eps + 100*sens) >= -oo*(-100*eps + 100*sens)) & ((-300*acc - 500*eps + 200*sens + 200 > 0) | (-300*acc - 500*eps + 200*sens + 200 < 0)) & (-oo*(100*eps + 100*sens) >= -0.01*(-100*eps + 100*sens)/(3*acc + 5*eps - 2*sens - 2)) & (-oo*(100*eps + 100*sens) >= -0.01*(100*eps + 100*sens)/(3*acc + 5*eps - 2*sens - 2)) & (-0.01*(100*eps + 100*sens)/(3*acc + 5*eps - 2*sens - 2) <= -oo*(-100*eps + 100*sens)) & (-0.01*(100*eps + 100*sens)/(3*acc + 5*eps - 2*sens - 2) <= -0.01*(-100*eps + 100*sens)/(3*acc + 5*eps - 2*sens - 2)),\n",
       "[-oo*(eps + sens), 1.0*(-eps - sens)/(3*acc + 5*eps - 2*sens - 2)]subject to Eq(-300*acc + 500*eps + 200*sens + 200, 0) & (-oo*(100*eps + 100*sens) <= -oo*(-100*eps + 100*sens)) & ((-300*acc - 500*eps + 200*sens + 200 > 0) | (-300*acc - 500*eps + 200*sens + 200 < 0)) & (-0.01*(100*eps + 100*sens)/(3*acc + 5*eps - 2*sens - 2) >= -oo*(-100*eps + 100*sens)) & (-0.01*(100*eps + 100*sens)/(3*acc + 5*eps - 2*sens - 2) >= -oo*(100*eps + 100*sens)) & (-oo*(100*eps + 100*sens) <= -0.01*(-100*eps + 100*sens)/(3*acc + 5*eps - 2*sens - 2)) & (-0.01*(100*eps + 100*sens)/(3*acc + 5*eps - 2*sens - 2) >= -0.01*(-100*eps + 100*sens)/(3*acc + 5*eps - 2*sens - 2)),\n",
       "[1.0*(-eps - sens)/(3*acc + 5*eps - 2*sens - 2), -oo*(eps + sens)]subject to (-300*acc + 500*eps + 200*sens + 200 > 0) & (-300*acc - 500*eps + 200*sens + 200 < 0) & (-oo*(100*eps + 100*sens) >= -oo*(-100*eps + 100*sens)) & (-oo*(100*eps + 100*sens) >= -0.01*(-100*eps + 100*sens)/(3*acc + 5*eps - 2*sens - 2)) & (-oo*(100*eps + 100*sens) >= -0.01*(100*eps + 100*sens)/(3*acc + 5*eps - 2*sens - 2)) & (-0.01*(100*eps + 100*sens)/(3*acc + 5*eps - 2*sens - 2) <= -oo*(-100*eps + 100*sens)) & (-0.01*(100*eps + 100*sens)/(3*acc + 5*eps - 2*sens - 2) <= -0.01*(-100*eps + 100*sens)/(3*acc + 5*eps - 2*sens - 2)),\n",
       "[-oo*(eps + sens), 1.0*(-eps - sens)/(3*acc + 5*eps - 2*sens - 2)]subject to (-300*acc + 500*eps + 200*sens + 200 > 0) & (-300*acc - 500*eps + 200*sens + 200 < 0) & (-oo*(100*eps + 100*sens) <= -oo*(-100*eps + 100*sens)) & (-0.01*(100*eps + 100*sens)/(3*acc + 5*eps - 2*sens - 2) >= -oo*(-100*eps + 100*sens)) & (-0.01*(100*eps + 100*sens)/(3*acc + 5*eps - 2*sens - 2) >= -oo*(100*eps + 100*sens)) & (-oo*(100*eps + 100*sens) <= -0.01*(-100*eps + 100*sens)/(3*acc + 5*eps - 2*sens - 2)) & (-0.01*(100*eps + 100*sens)/(3*acc + 5*eps - 2*sens - 2) >= -0.01*(-100*eps + 100*sens)/(3*acc + 5*eps - 2*sens - 2)),\n",
       "[1.0*(eps + sens)/(-3*acc + 5*eps + 2*sens + 2), 1.0*(-eps + sens)/(-3*acc + 5*eps + 2*sens + 2)]subject to (-300*acc + 500*eps + 200*sens + 200 > 0) & (-300*acc - 500*eps + 200*sens + 200 < 0) & (0.01*(-100*eps + 100*sens)/(-3*acc + 5*eps + 2*sens + 2) >= oo*(-100*eps + 100*sens)) & (0.01*(-100*eps + 100*sens)/(-3*acc + 5*eps + 2*sens + 2) >= oo*(100*eps + 100*sens)) & (0.01*(100*eps + 100*sens)/(-3*acc + 5*eps + 2*sens + 2) <= oo*(-100*eps + 100*sens)) & (0.01*(100*eps + 100*sens)/(-3*acc + 5*eps + 2*sens + 2) <= oo*(100*eps + 100*sens)) & (0.01*(-100*eps + 100*sens)/(-3*acc + 5*eps + 2*sens + 2) >= 0.01*(100*eps + 100*sens)/(-3*acc + 5*eps + 2*sens + 2)),\n",
       "[1.0*(-eps + sens)/(-3*acc + 5*eps + 2*sens + 2), oo*(-eps + sens)]subject to (-300*acc + 500*eps + 200*sens + 200 > 0) & (-300*acc - 500*eps + 200*sens + 200 < 0) & (oo*(-100*eps + 100*sens) >= oo*(100*eps + 100*sens)) & (oo*(-100*eps + 100*sens) >= 0.01*(-100*eps + 100*sens)/(-3*acc + 5*eps + 2*sens + 2)) & (oo*(-100*eps + 100*sens) >= 0.01*(100*eps + 100*sens)/(-3*acc + 5*eps + 2*sens + 2)) & (0.01*(-100*eps + 100*sens)/(-3*acc + 5*eps + 2*sens + 2) <= oo*(100*eps + 100*sens)) & (0.01*(-100*eps + 100*sens)/(-3*acc + 5*eps + 2*sens + 2) <= 0.01*(100*eps + 100*sens)/(-3*acc + 5*eps + 2*sens + 2)),\n",
       "[oo*(-eps + sens), 1.0*(-eps + sens)/(-3*acc + 5*eps + 2*sens + 2)]subject to (-300*acc + 500*eps + 200*sens + 200 > 0) & (-300*acc - 500*eps + 200*sens + 200 < 0) & (oo*(-100*eps + 100*sens) <= oo*(100*eps + 100*sens)) & (0.01*(-100*eps + 100*sens)/(-3*acc + 5*eps + 2*sens + 2) >= oo*(-100*eps + 100*sens)) & (0.01*(-100*eps + 100*sens)/(-3*acc + 5*eps + 2*sens + 2) >= oo*(100*eps + 100*sens)) & (oo*(-100*eps + 100*sens) <= 0.01*(100*eps + 100*sens)/(-3*acc + 5*eps + 2*sens + 2)) & (0.01*(-100*eps + 100*sens)/(-3*acc + 5*eps + 2*sens + 2) >= 0.01*(100*eps + 100*sens)/(-3*acc + 5*eps + 2*sens + 2)),\n",
       "[1.0*(-eps + sens)/(-3*acc + 5*eps + 2*sens + 2), 1.0*(eps + sens)/(-3*acc + 5*eps + 2*sens + 2)]subject to (-300*acc + 500*eps + 200*sens + 200 > 0) & (-300*acc - 500*eps + 200*sens + 200 < 0) & (0.01*(100*eps + 100*sens)/(-3*acc + 5*eps + 2*sens + 2) >= oo*(-100*eps + 100*sens)) & (0.01*(100*eps + 100*sens)/(-3*acc + 5*eps + 2*sens + 2) >= oo*(100*eps + 100*sens)) & (0.01*(-100*eps + 100*sens)/(-3*acc + 5*eps + 2*sens + 2) <= oo*(-100*eps + 100*sens)) & (0.01*(-100*eps + 100*sens)/(-3*acc + 5*eps + 2*sens + 2) <= oo*(100*eps + 100*sens)) & (0.01*(100*eps + 100*sens)/(-3*acc + 5*eps + 2*sens + 2) >= 0.01*(-100*eps + 100*sens)/(-3*acc + 5*eps + 2*sens + 2)),\n",
       "[oo*(eps - sens), -oo*(eps + sens)]subject to Eq(-300*acc + 500*eps + 200*sens + 200, 0) & (-oo*(100*eps + 100*sens) >= -oo*(-100*eps + 100*sens)) & ((-300*acc - 500*eps + 200*sens + 200 > 0) | (-300*acc - 500*eps + 200*sens + 200 < 0)) & (-oo*(100*eps + 100*sens) >= -0.01*(-100*eps + 100*sens)/(3*acc + 5*eps - 2*sens - 2)) & (-oo*(100*eps + 100*sens) >= -0.01*(100*eps + 100*sens)/(3*acc + 5*eps - 2*sens - 2)) & (-oo*(-100*eps + 100*sens) <= -0.01*(-100*eps + 100*sens)/(3*acc + 5*eps - 2*sens - 2)) & (-oo*(-100*eps + 100*sens) <= -0.01*(100*eps + 100*sens)/(3*acc + 5*eps - 2*sens - 2))"
      ]
     },
     "execution_count": 26,
     "metadata": {},
     "output_type": "execute_result"
    }
   ],
   "source": [
    "ppv_si"
   ]
  },
  {
   "cell_type": "code",
   "execution_count": 27,
   "metadata": {},
   "outputs": [
    {
     "data": {
      "text/plain": [
       "[0.615118425099969, 0.615745728797907]"
      ]
     },
     "execution_count": 27,
     "metadata": {},
     "output_type": "execute_result"
    }
   ],
   "source": [
    "ppv_si.to_interval_union(subst)"
   ]
  },
  {
   "cell_type": "code",
   "execution_count": null,
   "metadata": {},
   "outputs": [],
   "source": []
  }
 ],
 "metadata": {
  "kernelspec": {
   "display_name": "mlscorecheck",
   "language": "python",
   "name": "python3"
  },
  "language_info": {
   "codemirror_mode": {
    "name": "ipython",
    "version": 3
   },
   "file_extension": ".py",
   "mimetype": "text/x-python",
   "name": "python",
   "nbconvert_exporter": "python",
   "pygments_lexer": "ipython3",
   "version": "3.10.0"
  },
  "orig_nbformat": 4
 },
 "nbformat": 4,
 "nbformat_minor": 2
}
