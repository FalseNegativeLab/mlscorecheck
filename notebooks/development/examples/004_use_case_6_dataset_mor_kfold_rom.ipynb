{
 "cells": [
  {
   "cell_type": "code",
   "execution_count": 1,
   "metadata": {},
   "outputs": [],
   "source": [
    "import numpy as np\n",
    "\n",
    "from mlscorecheck.check import (check_multiple_datasets_mor_kfold_rom_scores)\n",
    "\n",
    "from mlscorecheck.utils import (generate_problems_with_folds,\n",
    "                                calculate_scores)\n"
   ]
  },
  {
   "cell_type": "code",
   "execution_count": 2,
   "metadata": {},
   "outputs": [],
   "source": [
    "k = 4\n",
    "eps = 10**(-k)"
   ]
  },
  {
   "cell_type": "code",
   "execution_count": 3,
   "metadata": {},
   "outputs": [],
   "source": [
    "folds, problems = generate_problems_with_folds(n_problems=3, \n",
    "                                                n_repeats=2,\n",
    "                                                n_folds=4)"
   ]
  },
  {
   "cell_type": "code",
   "execution_count": 4,
   "metadata": {},
   "outputs": [
    {
     "data": {
      "text/plain": [
       "[[{'p': 91, 'n': 175, 'tp': 66, 'tn': 20},\n",
       "  {'p': 91, 'n': 174, 'tp': 41, 'tn': 9},\n",
       "  {'p': 90, 'n': 175, 'tp': 18, 'tn': 96},\n",
       "  {'p': 90, 'n': 175, 'tp': 37, 'tn': 137},\n",
       "  {'p': 91, 'n': 175, 'tp': 63, 'tn': 91},\n",
       "  {'p': 91, 'n': 174, 'tp': 16, 'tn': 31},\n",
       "  {'p': 90, 'n': 175, 'tp': 19, 'tn': 154},\n",
       "  {'p': 90, 'n': 175, 'tp': 59, 'tn': 38}],\n",
       " [{'p': 56, 'n': 108, 'tp': 32, 'tn': 53},\n",
       "  {'p': 55, 'n': 109, 'tp': 44, 'tn': 82},\n",
       "  {'p': 55, 'n': 109, 'tp': 5, 'tn': 82},\n",
       "  {'p': 55, 'n': 109, 'tp': 13, 'tn': 97},\n",
       "  {'p': 56, 'n': 108, 'tp': 29, 'tn': 71},\n",
       "  {'p': 55, 'n': 109, 'tp': 43, 'tn': 7},\n",
       "  {'p': 55, 'n': 109, 'tp': 53, 'tn': 43},\n",
       "  {'p': 55, 'n': 109, 'tp': 36, 'tn': 73}],\n",
       " [{'p': 145, 'n': 53, 'tp': 5, 'tn': 38},\n",
       "  {'p': 144, 'n': 54, 'tp': 21, 'tn': 21},\n",
       "  {'p': 144, 'n': 54, 'tp': 82, 'tn': 13},\n",
       "  {'p': 144, 'n': 53, 'tp': 46, 'tn': 6},\n",
       "  {'p': 145, 'n': 53, 'tp': 41, 'tn': 1},\n",
       "  {'p': 144, 'n': 54, 'tp': 64, 'tn': 42},\n",
       "  {'p': 144, 'n': 54, 'tp': 119, 'tn': 5},\n",
       "  {'p': 144, 'n': 53, 'tp': 42, 'tn': 5}]]"
      ]
     },
     "execution_count": 4,
     "metadata": {},
     "output_type": "execute_result"
    }
   ],
   "source": [
    "folds"
   ]
  },
  {
   "cell_type": "code",
   "execution_count": 5,
   "metadata": {},
   "outputs": [
    {
     "data": {
      "text/plain": [
       "[{'p': 362, 'n': 699, 'n_folds': 4, 'n_repeats': 2},\n",
       " {'p': 221, 'n': 435, 'n_folds': 4, 'n_repeats': 2},\n",
       " {'p': 577, 'n': 214, 'n_folds': 4, 'n_repeats': 2}]"
      ]
     },
     "execution_count": 5,
     "metadata": {},
     "output_type": "execute_result"
    }
   ],
   "source": [
    "problems"
   ]
  },
  {
   "cell_type": "code",
   "execution_count": 6,
   "metadata": {},
   "outputs": [],
   "source": [
    "scores = calculate_scores(folds, strategy=('mor', 'rom'))"
   ]
  },
  {
   "cell_type": "code",
   "execution_count": 7,
   "metadata": {},
   "outputs": [
    {
     "data": {
      "text/plain": [
       "{'acc': 0.45054003031962114,\n",
       " 'sens': 0.46049409495554067,\n",
       " 'spec': 0.433999993238042,\n",
       " 'bacc': 0.44724704409679134}"
      ]
     },
     "execution_count": 7,
     "metadata": {},
     "output_type": "execute_result"
    }
   ],
   "source": [
    "scores"
   ]
  },
  {
   "cell_type": "code",
   "execution_count": 8,
   "metadata": {},
   "outputs": [
    {
     "name": "stdout",
     "output_type": "stream",
     "text": [
      "[None, None, None]\n",
      "Welcome to the CBC MILP Solver \n",
      "Version: 2.10.3 \n",
      "Build Date: Dec 15 2019 \n",
      "\n",
      "command line - /home/gykovacs/anaconda3/envs/mlscorecheck/lib/python3.10/site-packages/pulp/solverdir/cbc/linux/64/cbc /tmp/a3df60503c3f468e82f81878292c3a44-pulp.mps timeMode elapsed branch printingOptions all solution /tmp/a3df60503c3f468e82f81878292c3a44-pulp.sol (default strategy 1)\n",
      "At line 2 NAME          MODEL\n",
      "At line 3 ROWS\n",
      "At line 13 COLUMNS\n",
      "At line 63 RHS\n",
      "At line 72 BOUNDS\n",
      "At line 79 ENDATA\n",
      "Problem MODEL has 8 rows, 6 columns and 36 elements\n",
      "Coin0008I MODEL read with 0 errors\n",
      "Option for timeMode changed from cpu to elapsed\n",
      "Continuous objective value is 0 - 0.00 seconds\n",
      "Cgl0004I processed model has 8 rows, 6 columns (6 integer (0 of which binary)) and 36 elements\n",
      "Cutoff increment increased from 1e-05 to 0.9999\n",
      "Cbc0031I 4 added rows had average density of 4.75\n",
      "Cbc0013I At root node, 4 cuts changed objective from 0 to 0 in 46 passes\n",
      "Cbc0014I Cut generator 0 (Probing) - 0 row cuts average 0.0 elements, 0 column cuts (0 active)  in 0.001 seconds - new frequency is -100\n",
      "Cbc0014I Cut generator 1 (Gomory) - 113 row cuts average 5.8 elements, 0 column cuts (0 active)  in 0.002 seconds - new frequency is -100\n",
      "Cbc0014I Cut generator 2 (Knapsack) - 0 row cuts average 0.0 elements, 0 column cuts (0 active)  in 0.001 seconds - new frequency is -100\n",
      "Cbc0014I Cut generator 3 (Clique) - 0 row cuts average 0.0 elements, 0 column cuts (0 active)  in 0.000 seconds - new frequency is -100\n",
      "Cbc0014I Cut generator 4 (MixedIntegerRounding2) - 3 row cuts average 3.0 elements, 0 column cuts (0 active)  in 0.001 seconds - new frequency is -100\n",
      "Cbc0014I Cut generator 5 (FlowCover) - 0 row cuts average 0.0 elements, 0 column cuts (0 active)  in 0.001 seconds - new frequency is -100\n",
      "Cbc0014I Cut generator 6 (TwoMirCuts) - 6 row cuts average 3.7 elements, 0 column cuts (0 active)  in 0.000 seconds - new frequency is -100\n",
      "Cbc0010I After 0 nodes, 1 on tree, 1e+50 best solution, best possible 0 (0.01 seconds)\n",
      "Cbc0012I Integer solution of 0 found by DiveCoefficient after 92 iterations and 4 nodes (0.01 seconds)\n",
      "Cbc0001I Search completed - best objective 0, took 92 iterations and 4 nodes (0.01 seconds)\n",
      "Cbc0032I Strong branching done 22 times (39 iterations), fathomed 0 nodes and fixed 1 variables\n",
      "Cbc0035I Maximum depth 3, 0 variables fixed on reduced cost\n",
      "Cuts at root node changed objective from 0 to 0\n",
      "Probing was tried 46 times and created 0 cuts of which 0 were active after adding rounds of cuts (0.001 seconds)\n",
      "Gomory was tried 46 times and created 113 cuts of which 0 were active after adding rounds of cuts (0.002 seconds)\n",
      "Knapsack was tried 46 times and created 0 cuts of which 0 were active after adding rounds of cuts (0.001 seconds)\n",
      "Clique was tried 46 times and created 0 cuts of which 0 were active after adding rounds of cuts (0.000 seconds)\n",
      "MixedIntegerRounding2 was tried 46 times and created 3 cuts of which 0 were active after adding rounds of cuts (0.001 seconds)\n",
      "FlowCover was tried 46 times and created 0 cuts of which 0 were active after adding rounds of cuts (0.001 seconds)\n",
      "TwoMirCuts was tried 46 times and created 6 cuts of which 0 were active after adding rounds of cuts (0.000 seconds)\n",
      "ZeroHalf was tried 1 times and created 0 cuts of which 0 were active after adding rounds of cuts (0.000 seconds)\n",
      "\n",
      "Result - Optimal solution found\n",
      "\n",
      "Objective value:                0.00000000\n",
      "Enumerated nodes:               4\n",
      "Total iterations:               92\n",
      "Time (CPU seconds):             0.01\n",
      "Time (Wallclock seconds):       0.01\n",
      "\n",
      "Option for printingOptions changed from normal to all\n",
      "Total time (CPU seconds):       0.01   (Wallclock seconds):       0.01\n",
      "\n"
     ]
    }
   ],
   "source": [
    "flag, details = check_multiple_datasets_mor_kfold_rom_scores(scores=scores,\n",
    "                                                            eps=eps,\n",
    "                                                            datasets=problems,\n",
    "                                                            return_details=True)"
   ]
  },
  {
   "cell_type": "code",
   "execution_count": 9,
   "metadata": {},
   "outputs": [],
   "source": [
    "assert flag"
   ]
  },
  {
   "cell_type": "code",
   "execution_count": 10,
   "metadata": {},
   "outputs": [
    {
     "data": {
      "text/plain": [
       "[{'p': 724, 'n': 1398, 'tn': 1379.0, 'tp': 0.0},\n",
       " {'p': 442, 'n': 870, 'tn': 0.0, 'tp': 441.0},\n",
       " {'p': 1154, 'n': 428, 'tn': 135.0, 'tp': 443.0}]"
      ]
     },
     "execution_count": 10,
     "metadata": {},
     "output_type": "execute_result"
    }
   ],
   "source": [
    "details['configuration']"
   ]
  },
  {
   "cell_type": "code",
   "execution_count": 11,
   "metadata": {},
   "outputs": [
    {
     "data": {
      "text/plain": [
       "{'acc': 0.4504489920445227,\n",
       " 'sens': 0.4605399018692933,\n",
       " 'spec': 0.43394323889490555,\n",
       " 'bacc': 0.44724157038209933}"
      ]
     },
     "execution_count": 11,
     "metadata": {},
     "output_type": "execute_result"
    }
   ],
   "source": [
    "calculate_scores(details['configuration'], strategy='mor')"
   ]
  },
  {
   "cell_type": "code",
   "execution_count": 12,
   "metadata": {},
   "outputs": [
    {
     "data": {
      "text/plain": [
       "([[{'p': 91, 'n': 175, 'tp': 66, 'tn': 20},\n",
       "   {'p': 91, 'n': 174, 'tp': 41, 'tn': 9},\n",
       "   {'p': 90, 'n': 175, 'tp': 18, 'tn': 96},\n",
       "   {'p': 90, 'n': 175, 'tp': 37, 'tn': 137},\n",
       "   {'p': 91, 'n': 175, 'tp': 63, 'tn': 91},\n",
       "   {'p': 91, 'n': 174, 'tp': 16, 'tn': 31},\n",
       "   {'p': 90, 'n': 175, 'tp': 19, 'tn': 154},\n",
       "   {'p': 90, 'n': 175, 'tp': 59, 'tn': 38}],\n",
       "  [{'p': 56, 'n': 108, 'tp': 32, 'tn': 53},\n",
       "   {'p': 55, 'n': 109, 'tp': 44, 'tn': 82},\n",
       "   {'p': 55, 'n': 109, 'tp': 5, 'tn': 82},\n",
       "   {'p': 55, 'n': 109, 'tp': 13, 'tn': 97},\n",
       "   {'p': 56, 'n': 108, 'tp': 29, 'tn': 71},\n",
       "   {'p': 55, 'n': 109, 'tp': 43, 'tn': 7},\n",
       "   {'p': 55, 'n': 109, 'tp': 53, 'tn': 43},\n",
       "   {'p': 55, 'n': 109, 'tp': 36, 'tn': 73}],\n",
       "  [{'p': 145, 'n': 53, 'tp': 5, 'tn': 38},\n",
       "   {'p': 144, 'n': 54, 'tp': 21, 'tn': 21},\n",
       "   {'p': 144, 'n': 54, 'tp': 82, 'tn': 13},\n",
       "   {'p': 144, 'n': 53, 'tp': 46, 'tn': 6},\n",
       "   {'p': 145, 'n': 53, 'tp': 41, 'tn': 1},\n",
       "   {'p': 144, 'n': 54, 'tp': 64, 'tn': 42},\n",
       "   {'p': 144, 'n': 54, 'tp': 119, 'tn': 5},\n",
       "   {'p': 144, 'n': 53, 'tp': 42, 'tn': 5}]],\n",
       " [{'p': 362, 'n': 699, 'n_folds': 4, 'n_repeats': 2},\n",
       "  {'p': 221, 'n': 435, 'n_folds': 4, 'n_repeats': 2},\n",
       "  {'p': 577, 'n': 214, 'n_folds': 4, 'n_repeats': 2}])"
      ]
     },
     "execution_count": 12,
     "metadata": {},
     "output_type": "execute_result"
    }
   ],
   "source": [
    "folds, problems"
   ]
  },
  {
   "cell_type": "code",
   "execution_count": 13,
   "metadata": {},
   "outputs": [
    {
     "data": {
      "text/plain": [
       "{'acc': (0.34829329962073324, 0.5815548780487805),\n",
       " 'sens': (0.36395147313691506, 0.5769230769230769),\n",
       " 'spec': (0.3060747663551402, 0.5839080459770115),\n",
       " 'npv': (0.15144508670520232, 0.7309352517985611),\n",
       " 'ppv': (0.27957931638913236, 0.5857740585774058),\n",
       " 'bacc': (0.33501311974602765, 0.5804155614500441),\n",
       " 'f1p': (0.3420911528150134, 0.48158640226628896),\n",
       " 'fm': (0.35097693555702725, 0.4882997070598383),\n",
       " 'tp': (255, 420),\n",
       " 'tn': (131, 576),\n",
       " 'p': (442, 1154),\n",
       " 'n': (428, 1398)}"
      ]
     },
     "execution_count": 13,
     "metadata": {},
     "output_type": "execute_result"
    }
   ],
   "source": [
    "folding_scores = [calculate_scores(folding, strategy='rom', scores_only=False) for folding in folds]\n",
    "\n",
    "def score_ranges(folding_scores):\n",
    "    mins = {}\n",
    "    maxs = {}\n",
    "    for folding in folding_scores:\n",
    "        for key, value in folding.items():\n",
    "            mins[key] = min(mins.get(key, np.inf), value)\n",
    "            maxs[key] = max(maxs.get(key, -np.inf), value)\n",
    "    \n",
    "    return {key: (mins[key], maxs[key]) for key in mins}\n",
    "\n",
    "score_rang = score_ranges(folding_scores)\n",
    "\n",
    "score_rang"
   ]
  },
  {
   "cell_type": "code",
   "execution_count": 16,
   "metadata": {},
   "outputs": [],
   "source": [
    "for problem in problems:\n",
    "    problem['score_bounds'] = {'acc': score_rang['acc']}\n",
    "    problem['tptn_bounds'] = {'tp': (1000, 10000), 'tn': (1000, 10000)}"
   ]
  },
  {
   "cell_type": "code",
   "execution_count": 17,
   "metadata": {},
   "outputs": [
    {
     "name": "stdout",
     "output_type": "stream",
     "text": [
      "[(0.34829329962073324, 0.5815548780487805), (0.34829329962073324, 0.5815548780487805), (0.34829329962073324, 0.5815548780487805)]\n",
      "Welcome to the CBC MILP Solver \n",
      "Version: 2.10.3 \n",
      "Build Date: Dec 15 2019 \n",
      "\n",
      "command line - /home/gykovacs/anaconda3/envs/mlscorecheck/lib/python3.10/site-packages/pulp/solverdir/cbc/linux/64/cbc /tmp/b8507e17667e4f73bb053625f45a8de0-pulp.mps timeMode elapsed branch printingOptions all solution /tmp/b8507e17667e4f73bb053625f45a8de0-pulp.sol (default strategy 1)\n",
      "At line 2 NAME          MODEL\n",
      "At line 3 ROWS\n",
      "At line 31 COLUMNS\n",
      "At line 105 RHS\n",
      "At line 132 BOUNDS\n",
      "At line 139 ENDATA\n",
      "Problem MODEL has 26 rows, 6 columns and 60 elements\n",
      "Coin0008I MODEL read with 0 errors\n",
      "Option for timeMode changed from cpu to elapsed\n",
      "Problem is infeasible - 0.00 seconds\n",
      "Option for printingOptions changed from normal to all\n",
      "Total time (CPU seconds):       0.00   (Wallclock seconds):       0.00\n",
      "\n"
     ]
    }
   ],
   "source": [
    "flag, details = check_multiple_datasets_mor_kfold_rom_scores(scores=scores,\n",
    "                                                            eps=eps,\n",
    "                                                            datasets=problems,\n",
    "                                                            return_details=True)"
   ]
  },
  {
   "cell_type": "code",
   "execution_count": null,
   "metadata": {},
   "outputs": [],
   "source": []
  },
  {
   "cell_type": "code",
   "execution_count": 39,
   "metadata": {},
   "outputs": [],
   "source": [
    "scores['bacc'] = 0.6"
   ]
  },
  {
   "cell_type": "code",
   "execution_count": 40,
   "metadata": {},
   "outputs": [
    {
     "name": "stdout",
     "output_type": "stream",
     "text": [
      "Welcome to the CBC MILP Solver \n",
      "Version: 2.10.3 \n",
      "Build Date: Dec 15 2019 \n",
      "\n",
      "command line - /home/gykovacs/anaconda3/envs/mlscorecheck/lib/python3.10/site-packages/pulp/solverdir/cbc/linux/64/cbc /tmp/ee61203173344f0ba5816678df96c720-pulp.mps timeMode elapsed branch printingOptions all solution /tmp/ee61203173344f0ba5816678df96c720-pulp.sol (default strategy 1)\n",
      "At line 2 NAME          MODEL\n",
      "At line 3 ROWS\n",
      "At line 13 COLUMNS\n",
      "At line 63 RHS\n",
      "At line 72 BOUNDS\n",
      "At line 79 ENDATA\n",
      "Problem MODEL has 8 rows, 6 columns and 36 elements\n",
      "Coin0008I MODEL read with 0 errors\n",
      "Option for timeMode changed from cpu to elapsed\n",
      "Problem is infeasible - 0.00 seconds\n",
      "Option for printingOptions changed from normal to all\n",
      "Total time (CPU seconds):       0.00   (Wallclock seconds):       0.00\n",
      "\n"
     ]
    }
   ],
   "source": [
    "flag, details = check_multiple_datasets_mor_kfold_rom_scores(scores=scores,\n",
    "                                                            eps=eps,\n",
    "                                                            datasets=problems,\n",
    "                                                            return_details=True)"
   ]
  },
  {
   "cell_type": "code",
   "execution_count": 41,
   "metadata": {},
   "outputs": [],
   "source": [
    "assert not flag"
   ]
  },
  {
   "cell_type": "code",
   "execution_count": null,
   "metadata": {},
   "outputs": [],
   "source": []
  }
 ],
 "metadata": {
  "kernelspec": {
   "display_name": "mlscorecheck",
   "language": "python",
   "name": "python3"
  },
  "language_info": {
   "codemirror_mode": {
    "name": "ipython",
    "version": 3
   },
   "file_extension": ".py",
   "mimetype": "text/x-python",
   "name": "python",
   "nbconvert_exporter": "python",
   "pygments_lexer": "ipython3",
   "version": "3.10.0"
  },
  "orig_nbformat": 4
 },
 "nbformat": 4,
 "nbformat_minor": 2
}
