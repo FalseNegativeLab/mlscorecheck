{
 "cells": [
  {
   "cell_type": "code",
   "execution_count": 3,
   "metadata": {},
   "outputs": [],
   "source": [
    "import sympy as sp\n",
    "\n",
    "from mlscorecheck import score_objects, symbols"
   ]
  },
  {
   "cell_type": "code",
   "execution_count": 4,
   "metadata": {},
   "outputs": [],
   "source": [
    "score0 = score_objects['npv']\n",
    "score1 = score_objects['acc']\n",
    "\n",
    "p_eq = symbols['p'] - symbols['tp'] - symbols['fn']\n",
    "n_eq = symbols['n'] - symbols['tn'] - symbols['fp']"
   ]
  },
  {
   "cell_type": "code",
   "execution_count": 5,
   "metadata": {},
   "outputs": [
    {
     "data": {
      "text/latex": [
       "$\\displaystyle npv - \\frac{tn}{fn + tn}$"
      ],
      "text/plain": [
       "npv - tn/(fn + tn)"
      ]
     },
     "execution_count": 5,
     "metadata": {},
     "output_type": "execute_result"
    }
   ],
   "source": [
    "score0.equation"
   ]
  },
  {
   "cell_type": "code",
   "execution_count": 6,
   "metadata": {},
   "outputs": [
    {
     "data": {
      "text/latex": [
       "$\\displaystyle npv \\left(fn + tn\\right) - tn$"
      ],
      "text/plain": [
       "npv*(fn + tn) - tn"
      ]
     },
     "execution_count": 6,
     "metadata": {},
     "output_type": "execute_result"
    }
   ],
   "source": [
    "score0.equation_polynomial"
   ]
  },
  {
   "cell_type": "code",
   "execution_count": 7,
   "metadata": {},
   "outputs": [
    {
     "data": {
      "text/latex": [
       "$\\displaystyle acc - \\frac{tn + tp}{n + p}$"
      ],
      "text/plain": [
       "acc - (tn + tp)/(n + p)"
      ]
     },
     "execution_count": 7,
     "metadata": {},
     "output_type": "execute_result"
    }
   ],
   "source": [
    "score1.equation"
   ]
  },
  {
   "cell_type": "code",
   "execution_count": 8,
   "metadata": {},
   "outputs": [
    {
     "data": {
      "text/latex": [
       "$\\displaystyle acc \\left(n + p\\right) - tn - tp$"
      ],
      "text/plain": [
       "acc*(n + p) - tn - tp"
      ]
     },
     "execution_count": 8,
     "metadata": {},
     "output_type": "execute_result"
    }
   ],
   "source": [
    "score1.equation_polynomial"
   ]
  },
  {
   "cell_type": "code",
   "execution_count": 9,
   "metadata": {},
   "outputs": [
    {
     "data": {
      "text/plain": [
       "[{fn: (-acc*n*npv + acc*n - acc*npv*p + acc*p + npv*p - p)/(2*npv - 1),\n",
       "  fp: (-acc*n*npv - acc*npv*p + 2*n*npv - n + npv*p)/(2*npv - 1),\n",
       "  tn: (acc*n*npv + acc*npv*p - npv*p)/(2*npv - 1),\n",
       "  tp: (acc*n*npv - acc*n + acc*npv*p - acc*p + npv*p)/(2*npv - 1)}]"
      ]
     },
     "execution_count": 9,
     "metadata": {},
     "output_type": "execute_result"
    }
   ],
   "source": [
    "sp.solve([score0.equation_polynomial, score1.equation_polynomial, p_eq, n_eq], \n",
    "            [symbols['tp'], symbols['tn'], symbols['fp'], symbols['fn']], \n",
    "            dict=True)"
   ]
  },
  {
   "cell_type": "code",
   "execution_count": 10,
   "metadata": {},
   "outputs": [
    {
     "data": {
      "text/latex": [
       "$\\displaystyle \\operatorname{GroebnerBasis}\\left(\\left( - acc n npv + acc n - acc npv p + acc p - npv p + tp \\left(2 npv - 1\\right), \\  - acc n npv - acc npv p + npv p + tn \\left(2 npv - 1\\right), \\  acc n npv + acc npv p + fp \\left(2 npv - 1\\right) - 2 n npv + n - npv p, \\  acc n npv - acc n + acc npv p - acc p + fn \\left(2 npv - 1\\right) - npv p + p\\right), \\left( tp, \\  tn, \\  fp, \\  fn\\right)\\right)$"
      ],
      "text/plain": [
       "GroebnerBasis([-acc*n*npv + acc*n - acc*npv*p + acc*p - npv*p + tp*(2*npv - 1), -acc*n*npv - acc*npv*p + npv*p + tn*(2*npv - 1), acc*n*npv + acc*npv*p + fp*(2*npv - 1) - 2*n*npv + n - npv*p, acc*n*npv - acc*n + acc*npv*p - acc*p + fn*(2*npv - 1) - npv*p + p], tp, tn, fp, fn, domain='ZZ[p,n,acc,npv]', order='lex')"
      ]
     },
     "execution_count": 10,
     "metadata": {},
     "output_type": "execute_result"
    }
   ],
   "source": [
    "sp.GroebnerBasis([score0.equation_polynomial, score1.equation_polynomial, p_eq, n_eq],\n",
    "                    [symbols['tp'], symbols['tn'], symbols['fp'], symbols['fn']])"
   ]
  },
  {
   "cell_type": "code",
   "execution_count": 11,
   "metadata": {},
   "outputs": [
    {
     "data": {
      "text/plain": [
       "[{fn: (-acc*n*npv + acc*n - acc*npv*p + acc*p + npv*p - p)/(2*npv - 1),\n",
       "  fp: (-acc*n*npv - acc*npv*p + 2*n*npv - n + npv*p)/(2*npv - 1),\n",
       "  tn: npv*(acc*n + acc*p - p)/(2*npv - 1),\n",
       "  tp: (acc*n*npv - acc*n + acc*npv*p - acc*p + npv*p)/(2*npv - 1)}]"
      ]
     },
     "execution_count": 11,
     "metadata": {},
     "output_type": "execute_result"
    }
   ],
   "source": [
    "sp.solve([score0.equation, score1.equation, p_eq, n_eq], \n",
    "            [symbols['tp'], symbols['tn'], symbols['fp'], symbols['fn']], \n",
    "            dict=True)"
   ]
  },
  {
   "cell_type": "code",
   "execution_count": 12,
   "metadata": {},
   "outputs": [
    {
     "ename": "PolynomialError",
     "evalue": "1/(fn + tn) contains an element of the set of generators.",
     "output_type": "error",
     "traceback": [
      "\u001b[0;31m---------------------------------------------------------------------------\u001b[0m",
      "\u001b[0;31mKeyError\u001b[0m                                  Traceback (most recent call last)",
      "File \u001b[0;32m~/anaconda3/envs/mlscorecheck/lib/python3.10/site-packages/sympy/polys/polyutils.py:211\u001b[0m, in \u001b[0;36m_parallel_dict_fsom_expr_if_gens\u001b[0;34m(exprs, opt)\u001b[0m\n\u001b[1;32m    209\u001b[0m         base, exp \u001b[39m=\u001b[39m decompose_power_rat(factor)\n\u001b[0;32m--> 211\u001b[0m     monom[indices[base]] \u001b[39m=\u001b[39m exp\n\u001b[1;32m    212\u001b[0m \u001b[39mexcept\u001b[39;00m \u001b[39mKeyError\u001b[39;00m:\n",
      "\u001b[0;31mKeyError\u001b[0m: 1/(fn + tn)",
      "\nDuring handling of the above exception, another exception occurred:\n",
      "\u001b[0;31mPolynomialError\u001b[0m                           Traceback (most recent call last)",
      "Cell \u001b[0;32mIn[12], line 1\u001b[0m\n\u001b[0;32m----> 1\u001b[0m sp\u001b[39m.\u001b[39;49mGroebnerBasis([score0\u001b[39m.\u001b[39;49mequation, score1\u001b[39m.\u001b[39;49mequation, p_eq, n_eq],\n\u001b[1;32m      2\u001b[0m                     [symbols[\u001b[39m'\u001b[39;49m\u001b[39mtp\u001b[39;49m\u001b[39m'\u001b[39;49m], symbols[\u001b[39m'\u001b[39;49m\u001b[39mtn\u001b[39;49m\u001b[39m'\u001b[39;49m], symbols[\u001b[39m'\u001b[39;49m\u001b[39mfp\u001b[39;49m\u001b[39m'\u001b[39;49m], symbols[\u001b[39m'\u001b[39;49m\u001b[39mfn\u001b[39;49m\u001b[39m'\u001b[39;49m]])\n",
      "File \u001b[0;32m~/anaconda3/envs/mlscorecheck/lib/python3.10/site-packages/sympy/polys/polytools.py:7045\u001b[0m, in \u001b[0;36mGroebnerBasis.__new__\u001b[0;34m(cls, F, *gens, **args)\u001b[0m\n\u001b[1;32m   7042\u001b[0m options\u001b[39m.\u001b[39mallowed_flags(args, [\u001b[39m'\u001b[39m\u001b[39mpolys\u001b[39m\u001b[39m'\u001b[39m, \u001b[39m'\u001b[39m\u001b[39mmethod\u001b[39m\u001b[39m'\u001b[39m])\n\u001b[1;32m   7044\u001b[0m \u001b[39mtry\u001b[39;00m:\n\u001b[0;32m-> 7045\u001b[0m     polys, opt \u001b[39m=\u001b[39m parallel_poly_fsom_expr(F, \u001b[39m*\u001b[39;49mgens, \u001b[39m*\u001b[39;49m\u001b[39m*\u001b[39;49margs)\n\u001b[1;32m   7046\u001b[0m \u001b[39mexcept\u001b[39;00m PolificationFailed \u001b[39mas\u001b[39;00m exc:\n\u001b[1;32m   7047\u001b[0m     \u001b[39mraise\u001b[39;00m ComputationFailed(\u001b[39m'\u001b[39m\u001b[39mgroebner\u001b[39m\u001b[39m'\u001b[39m, \u001b[39mlen\u001b[39m(F), exc)\n",
      "File \u001b[0;32m~/anaconda3/envs/mlscorecheck/lib/python3.10/site-packages/sympy/polys/polytools.py:4504\u001b[0m, in \u001b[0;36mparallel_poly_fsom_expr\u001b[0;34m(exprs, *gens, **args)\u001b[0m\n\u001b[1;32m   4502\u001b[0m \u001b[39m\u001b[39m\u001b[39m\"\"\"Construct polynomials from expressions. \"\"\"\u001b[39;00m\n\u001b[1;32m   4503\u001b[0m opt \u001b[39m=\u001b[39m options\u001b[39m.\u001b[39mbuild_options(gens, args)\n\u001b[0;32m-> 4504\u001b[0m \u001b[39mreturn\u001b[39;00m _parallel_poly_fsom_expr(exprs, opt)\n",
      "File \u001b[0;32m~/anaconda3/envs/mlscorecheck/lib/python3.10/site-packages/sympy/polys/polytools.py:4555\u001b[0m, in \u001b[0;36m_parallel_poly_fsom_expr\u001b[0;34m(exprs, opt)\u001b[0m\n\u001b[1;32m   4552\u001b[0m     \u001b[39mfor\u001b[39;00m i \u001b[39min\u001b[39;00m _polys:\n\u001b[1;32m   4553\u001b[0m         exprs[i] \u001b[39m=\u001b[39m exprs[i]\u001b[39m.\u001b[39mas_expr()\n\u001b[0;32m-> 4555\u001b[0m reps, opt \u001b[39m=\u001b[39m _parallel_dict_fsom_expr(exprs, opt)\n\u001b[1;32m   4556\u001b[0m \u001b[39mif\u001b[39;00m \u001b[39mnot\u001b[39;00m opt\u001b[39m.\u001b[39mgens:\n\u001b[1;32m   4557\u001b[0m     \u001b[39mraise\u001b[39;00m PolificationFailed(opt, origs, exprs, \u001b[39mTrue\u001b[39;00m)\n",
      "File \u001b[0;32m~/anaconda3/envs/mlscorecheck/lib/python3.10/site-packages/sympy/polys/polyutils.py:332\u001b[0m, in \u001b[0;36m_parallel_dict_fsom_expr\u001b[0;34m(exprs, opt)\u001b[0m\n\u001b[1;32m    329\u001b[0m     \u001b[39mraise\u001b[39;00m PolynomialError(\u001b[39m'\u001b[39m\u001b[39mnon-commutative expressions are not supported\u001b[39m\u001b[39m'\u001b[39m)\n\u001b[1;32m    331\u001b[0m \u001b[39mif\u001b[39;00m opt\u001b[39m.\u001b[39mgens:\n\u001b[0;32m--> 332\u001b[0m     reps, gens \u001b[39m=\u001b[39m _parallel_dict_fsom_expr_if_gens(exprs, opt)\n\u001b[1;32m    333\u001b[0m \u001b[39melse\u001b[39;00m:\n\u001b[1;32m    334\u001b[0m     reps, gens \u001b[39m=\u001b[39m _parallel_dict_fsom_expr_no_gens(exprs, opt)\n",
      "File \u001b[0;32m~/anaconda3/envs/mlscorecheck/lib/python3.10/site-packages/sympy/polys/polyutils.py:216\u001b[0m, in \u001b[0;36m_parallel_dict_fsom_expr_if_gens\u001b[0;34m(exprs, opt)\u001b[0m\n\u001b[1;32m    214\u001b[0m                 coeff\u001b[39m.\u001b[39mappend(factor)\n\u001b[1;32m    215\u001b[0m             \u001b[39melse\u001b[39;00m:\n\u001b[0;32m--> 216\u001b[0m                 \u001b[39mraise\u001b[39;00m PolynomialError(\u001b[39m\"\u001b[39m\u001b[39m%s\u001b[39;00m\u001b[39m contains an element of \u001b[39m\u001b[39m\"\u001b[39m\n\u001b[1;32m    217\u001b[0m                                       \u001b[39m\"\u001b[39m\u001b[39mthe set of generators.\u001b[39m\u001b[39m\"\u001b[39m \u001b[39m%\u001b[39m factor)\n\u001b[1;32m    219\u001b[0m monom \u001b[39m=\u001b[39m \u001b[39mtuple\u001b[39m(monom)\n\u001b[1;32m    221\u001b[0m \u001b[39mif\u001b[39;00m monom \u001b[39min\u001b[39;00m poly:\n",
      "\u001b[0;31mPolynomialError\u001b[0m: 1/(fn + tn) contains an element of the set of generators."
     ]
    }
   ],
   "source": [
    "sp.GroebnerBasis([score0.equation, score1.equation, p_eq, n_eq],\n",
    "                    [symbols['tp'], symbols['tn'], symbols['fp'], symbols['fn']])"
   ]
  },
  {
   "cell_type": "code",
   "execution_count": null,
   "metadata": {},
   "outputs": [],
   "source": []
  }
 ],
 "metadata": {
  "kernelspec": {
   "display_name": "mlscorecheck",
   "language": "python",
   "name": "python3"
  },
  "language_info": {
   "codemirror_mode": {
    "name": "ipython",
    "version": 3
   },
   "file_extension": ".py",
   "mimetype": "text/x-python",
   "name": "python",
   "nbconvert_exporter": "python",
   "pygments_lexer": "ipython3",
   "version": "3.10.0"
  },
  "orig_nbformat": 4
 },
 "nbformat": 4,
 "nbformat_minor": 2
}
