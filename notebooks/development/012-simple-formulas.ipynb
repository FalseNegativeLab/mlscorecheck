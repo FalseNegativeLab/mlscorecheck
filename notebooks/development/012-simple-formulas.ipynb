{
 "cells": [
  {
   "cell_type": "code",
   "execution_count": 53,
   "metadata": {},
   "outputs": [],
   "source": [
    "from mlscorecheck.core import score_functions"
   ]
  },
  {
   "cell_type": "code",
   "execution_count": 54,
   "metadata": {},
   "outputs": [],
   "source": [
    "import sympy as sp"
   ]
  },
  {
   "cell_type": "code",
   "execution_count": 55,
   "metadata": {},
   "outputs": [],
   "source": [
    "tp = sp.Symbol('tp')\n",
    "tn = sp.Symbol('tn')\n",
    "fp = sp.Symbol('fp')\n",
    "fn = sp.Symbol('fn')\n",
    "p = sp.Symbol('p')\n",
    "n = sp.Symbol('n')\n"
   ]
  },
  {
   "cell_type": "code",
   "execution_count": 56,
   "metadata": {},
   "outputs": [],
   "source": [
    "scores = score_functions()"
   ]
  },
  {
   "cell_type": "code",
   "execution_count": 77,
   "metadata": {},
   "outputs": [
    {
     "name": "stdout",
     "output_type": "stream",
     "text": [
      "fn*n/(p*tn)\n"
     ]
    }
   ],
   "source": [
    "print(scores['lrn'](tn=tn, fn=fn, p=p, n=n))"
   ]
  },
  {
   "cell_type": "code",
   "execution_count": 66,
   "metadata": {},
   "outputs": [],
   "source": [
    "kappa = 2*(tp*tn - fn*fp)/((tp + fp)*(fp + tn) + (tp + fn)*(fn + tn))"
   ]
  },
  {
   "cell_type": "code",
   "execution_count": 70,
   "metadata": {},
   "outputs": [],
   "source": [
    "kappa_subs = kappa.subs({fn: p-tp, fp: n-tn})"
   ]
  },
  {
   "cell_type": "code",
   "execution_count": 74,
   "metadata": {},
   "outputs": [
    {
     "name": "stdout",
     "output_type": "stream",
     "text": [
      "(2*tn*tp - 2*(n - tn)*(p - tp))/(n*(n - tn + tp) + p*(p + tn - tp))\n"
     ]
    }
   ],
   "source": [
    "print(kappa_subs)"
   ]
  },
  {
   "cell_type": "code",
   "execution_count": 73,
   "metadata": {},
   "outputs": [
    {
     "name": "stdout",
     "output_type": "stream",
     "text": [
      "-2*(n*p - n*tp - p*tn)/(n**2 - n*tn + n*tp + p**2 + p*tn - p*tp)\n"
     ]
    }
   ],
   "source": [
    "print(sp.factor(sp.simplify(kappa_subs)))"
   ]
  },
  {
   "cell_type": "code",
   "execution_count": 57,
   "metadata": {},
   "outputs": [],
   "source": [
    "formula = scores['kappa'](tp=tp, tn=tn, p=p, n=n)"
   ]
  },
  {
   "cell_type": "code",
   "execution_count": 58,
   "metadata": {},
   "outputs": [
    {
     "data": {
      "text/latex": [
       "$\\displaystyle \\frac{tn + tp}{\\left(n + p\\right) \\left(\\frac{\\left(tn + tp\\right) \\left(n + p - tn - tp\\right)}{2 tn tp - 2 \\left(n - tp\\right) \\left(p - tn\\right)} + \\frac{tn + tp}{n + p}\\right)}$"
      ],
      "text/plain": [
       "(tn + tp)/((n + p)*((tn + tp)*(n + p - tn - tp)/(2*tn*tp - 2*(n - tp)*(p - tn)) + (tn + tp)/(n + p)))"
      ]
     },
     "execution_count": 58,
     "metadata": {},
     "output_type": "execute_result"
    }
   ],
   "source": [
    "formula"
   ]
  },
  {
   "cell_type": "code",
   "execution_count": 59,
   "metadata": {},
   "outputs": [
    {
     "data": {
      "text/latex": [
       "$\\displaystyle \\frac{2 \\left(- n p + n tn + p tp\\right)}{n^{2} + n tn - n tp + p^{2} - p tn + p tp}$"
      ],
      "text/plain": [
       "2*(-n*p + n*tn + p*tp)/(n**2 + n*tn - n*tp + p**2 - p*tn + p*tp)"
      ]
     },
     "execution_count": 59,
     "metadata": {},
     "output_type": "execute_result"
    }
   ],
   "source": [
    "sp.simplify(formula)"
   ]
  },
  {
   "cell_type": "code",
   "execution_count": 60,
   "metadata": {},
   "outputs": [
    {
     "data": {
      "text/plain": [
       "'2*(-n*p + n*tn + p*tp)/(n**2 + n*tn - n*tp + p**2 - p*tn + p*tp)'"
      ]
     },
     "execution_count": 60,
     "metadata": {},
     "output_type": "execute_result"
    }
   ],
   "source": [
    "str(sp.simplify(formula))"
   ]
  },
  {
   "cell_type": "code",
   "execution_count": 61,
   "metadata": {},
   "outputs": [],
   "source": [
    "expr = 2*(tp*tn - fn*fp)/((tp + fp)*n + p*(fn + tn))"
   ]
  },
  {
   "cell_type": "code",
   "execution_count": 62,
   "metadata": {},
   "outputs": [],
   "source": [
    "expr = 2*(tp*tn - (p - tp)*(n - tn))/((tp + (n - tn))*n + p*((p - tp) + tn))"
   ]
  },
  {
   "cell_type": "code",
   "execution_count": 63,
   "metadata": {},
   "outputs": [
    {
     "data": {
      "text/latex": [
       "$\\displaystyle \\frac{2 \\left(- n p + n tp + p tn\\right)}{n^{2} - n tn + n tp + p^{2} + p tn - p tp}$"
      ],
      "text/plain": [
       "2*(-n*p + n*tp + p*tn)/(n**2 - n*tn + n*tp + p**2 + p*tn - p*tp)"
      ]
     },
     "execution_count": 63,
     "metadata": {},
     "output_type": "execute_result"
    }
   ],
   "source": [
    "sp.simplify(sp.factor(expr))"
   ]
  },
  {
   "cell_type": "code",
   "execution_count": 64,
   "metadata": {},
   "outputs": [],
   "source": [
    "num, denom = sp.simplify(formula).as_numer_denom()"
   ]
  },
  {
   "cell_type": "code",
   "execution_count": 65,
   "metadata": {},
   "outputs": [
    {
     "data": {
      "text/plain": [
       "[((n**2 + n*tn + p**2 - p*tn)/(n - p), tn)]"
      ]
     },
     "execution_count": 65,
     "metadata": {},
     "output_type": "execute_result"
    }
   ],
   "source": [
    "sp.solve(denom, [tp, tn])"
   ]
  },
  {
   "cell_type": "code",
   "execution_count": null,
   "metadata": {},
   "outputs": [],
   "source": []
  }
 ],
 "metadata": {
  "kernelspec": {
   "display_name": "mlscorecheck",
   "language": "python",
   "name": "python3"
  },
  "language_info": {
   "codemirror_mode": {
    "name": "ipython",
    "version": 3
   },
   "file_extension": ".py",
   "mimetype": "text/x-python",
   "name": "python",
   "nbconvert_exporter": "python",
   "pygments_lexer": "ipython3",
   "version": "3.10.0"
  },
  "orig_nbformat": 4
 },
 "nbformat": 4,
 "nbformat_minor": 2
}
