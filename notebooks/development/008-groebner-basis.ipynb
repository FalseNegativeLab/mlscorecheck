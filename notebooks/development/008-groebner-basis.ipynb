{
 "cells": [
  {
   "cell_type": "code",
   "execution_count": 130,
   "metadata": {},
   "outputs": [],
   "source": [
    "import pickle\n",
    "\n",
    "from mlscorecheck.utils import ProblemSolver, generate_problem, generate_problem_tp0\n",
    "from mlscorecheck.core import score_function_set, sqrt\n",
    "from mlscorecheck.core import Interval, union, reduce_solutions\n",
    "\n",
    "import sympy"
   ]
  },
  {
   "cell_type": "code",
   "execution_count": 131,
   "metadata": {},
   "outputs": [],
   "source": [
    "scores = score_function_set()"
   ]
  },
  {
   "cell_type": "code",
   "execution_count": 132,
   "metadata": {},
   "outputs": [],
   "source": [
    "score0 = 'ppv'\n",
    "score1 = 'ji'\n",
    "\n",
    "score0_fun = scores[score0]\n",
    "score1_fun = scores[score1]"
   ]
  },
  {
   "cell_type": "code",
   "execution_count": 133,
   "metadata": {},
   "outputs": [],
   "source": [
    "tp = sympy.Symbol('tp')\n",
    "tn = sympy.Symbol('tn')\n",
    "fp = sympy.Symbol('fp')\n",
    "fn = sympy.Symbol('fn')\n",
    "p = sympy.Symbol('p')\n",
    "n = sympy.Symbol('n')\n",
    "\n",
    "symbols = {'tp': tp,\n",
    "            'tn': tn,\n",
    "            'fp': fp,\n",
    "            'fn': fn,\n",
    "            'p': p,\n",
    "            'n': n}\n",
    "\n",
    "score0_sym = sympy.Symbol(score0)\n",
    "score1_sym = sympy.Symbol(score1)"
   ]
  },
  {
   "cell_type": "code",
   "execution_count": 134,
   "metadata": {},
   "outputs": [],
   "source": [
    "score0_args = score0_fun.__code__.co_varnames[:score0_fun.__code__.co_kwonlyargcount]\n",
    "score1_args = score1_fun.__code__.co_varnames[:score1_fun.__code__.co_kwonlyargcount]"
   ]
  },
  {
   "cell_type": "code",
   "execution_count": 135,
   "metadata": {},
   "outputs": [
    {
     "data": {
      "text/plain": [
       "(('tp', 'fp'), ('tp', 'fp', 'p'))"
      ]
     },
     "execution_count": 135,
     "metadata": {},
     "output_type": "execute_result"
    }
   ],
   "source": [
    "score0_args, score1_args"
   ]
  },
  {
   "cell_type": "code",
   "execution_count": 136,
   "metadata": {},
   "outputs": [],
   "source": [
    "score0_exp = score0_fun(**{key: val for key, val in symbols.items() if key in score0_args})\n",
    "score1_exp = score1_fun(**{key: val for key, val in symbols.items() if key in score1_args})\n",
    "score0_eq = score0_sym - score0_exp\n",
    "score1_eq = score1_sym - score1_exp\n",
    "n_eq = n - tn - fp\n",
    "p_eq = p - tp - fn"
   ]
  },
  {
   "cell_type": "code",
   "execution_count": 137,
   "metadata": {},
   "outputs": [
    {
     "data": {
      "text/plain": [
       "(tp/(fp + tp), tp/(fp + p))"
      ]
     },
     "execution_count": 137,
     "metadata": {},
     "output_type": "execute_result"
    }
   ],
   "source": [
    "score0_exp, score1_exp"
   ]
  },
  {
   "cell_type": "code",
   "execution_count": 138,
   "metadata": {},
   "outputs": [],
   "source": [
    "num0, denom0 = score0_exp.as_numer_denom()\n",
    "num1, denom1 = score1_exp.as_numer_denom()"
   ]
  },
  {
   "cell_type": "code",
   "execution_count": 139,
   "metadata": {},
   "outputs": [
    {
     "data": {
      "text/plain": [
       "(tp, fp + tp, tp, fp + p)"
      ]
     },
     "execution_count": 139,
     "metadata": {},
     "output_type": "execute_result"
    }
   ],
   "source": [
    "num0, denom0, num1, denom1"
   ]
  },
  {
   "cell_type": "code",
   "execution_count": 140,
   "metadata": {},
   "outputs": [],
   "source": [
    "score0_eq = sympy.simplify(score0_eq * denom0)\n",
    "score1_eq = sympy.simplify(score1_eq * denom1)"
   ]
  },
  {
   "cell_type": "code",
   "execution_count": 141,
   "metadata": {},
   "outputs": [
    {
     "data": {
      "text/plain": [
       "(ppv*(fp + tp) - tp, ji*(fp + p) - tp, -fp + n - tn, -fn + p - tp)"
      ]
     },
     "execution_count": 141,
     "metadata": {},
     "output_type": "execute_result"
    }
   ],
   "source": [
    "score0_eq, score1_eq, n_eq, p_eq"
   ]
  },
  {
   "cell_type": "code",
   "execution_count": 146,
   "metadata": {},
   "outputs": [],
   "source": [
    "gb = sympy.GroebnerBasis([score0_eq, score1_eq, n_eq, p_eq], tp, tn, fn, fp, order='grevlex')"
   ]
  },
  {
   "cell_type": "code",
   "execution_count": 147,
   "metadata": {},
   "outputs": [
    {
     "data": {
      "text/latex": [
       "$\\displaystyle \\operatorname{GroebnerBasis}\\left(\\left( - ji p ppv + tp \\left(ji ppv - ji + ppv\\right), \\  - ji n ppv + ji n - ji p ppv + ji p - n ppv + tn \\left(ji ppv - ji + ppv\\right), \\  fn \\left(ji ppv - ji + ppv\\right) + ji p - p ppv, \\  fp \\left(ji ppv - ji + ppv\\right) + ji p ppv - ji p\\right), \\left( tp, \\  tn, \\  fn, \\  fp\\right)\\right)$"
      ],
      "text/plain": [
       "GroebnerBasis([-ji*p*ppv + tp*(ji*ppv - ji + ppv), -ji*n*ppv - ji*p*ppv + ji*n + ji*p - n*ppv + tn*(ji*ppv - ji + ppv), ji*p - p*ppv + fn*(ji*ppv - ji + ppv), ji*p*ppv - ji*p + fp*(ji*ppv - ji + ppv)], tp, tn, fn, fp, domain='ZZ[p,n,ji,ppv]', order='grevlex')"
      ]
     },
     "execution_count": 147,
     "metadata": {},
     "output_type": "execute_result"
    }
   ],
   "source": [
    "gb"
   ]
  },
  {
   "cell_type": "code",
   "execution_count": 152,
   "metadata": {},
   "outputs": [
    {
     "data": {
      "text/latex": [
       "$\\displaystyle - ji p ppv + tp \\left(ji ppv - ji + ppv\\right)$"
      ],
      "text/plain": [
       "-ji*p*ppv + tp*(ji*ppv - ji + ppv)"
      ]
     },
     "execution_count": 152,
     "metadata": {},
     "output_type": "execute_result"
    }
   ],
   "source": [
    "gb[0]"
   ]
  },
  {
   "cell_type": "code",
   "execution_count": 155,
   "metadata": {},
   "outputs": [
    {
     "data": {
      "text/latex": [
       "$\\displaystyle ji ppv - ji + ppv$"
      ],
      "text/plain": [
       "ji*ppv - ji + ppv"
      ]
     },
     "execution_count": 155,
     "metadata": {},
     "output_type": "execute_result"
    }
   ],
   "source": [
    "gb[0].coeff(tp)"
   ]
  },
  {
   "cell_type": "code",
   "execution_count": null,
   "metadata": {},
   "outputs": [],
   "source": [
    "#ji*ppv - ji + ppv = 0\n",
    "#ji*ppv = ji - ppv"
   ]
  },
  {
   "cell_type": "code",
   "execution_count": null,
   "metadata": {},
   "outputs": [],
   "source": [
    "ji*ppv - ji + ppv = "
   ]
  },
  {
   "cell_type": "code",
   "execution_count": 145,
   "metadata": {},
   "outputs": [
    {
     "data": {
      "text/plain": [
       "[{p: 0}, {tp: 0}]"
      ]
     },
     "execution_count": 145,
     "metadata": {},
     "output_type": "execute_result"
    }
   ],
   "source": [
    "sympy.solve(score1_exp * score0_exp - score1_exp + score0_exp)"
   ]
  },
  {
   "cell_type": "code",
   "execution_count": null,
   "metadata": {},
   "outputs": [],
   "source": []
  },
  {
   "cell_type": "code",
   "execution_count": 92,
   "metadata": {},
   "outputs": [
    {
     "data": {
      "text/latex": [
       "$\\displaystyle \\operatorname{GroebnerBasis}\\left(\\left( fp \\left(npv - 1\\right) - n npv + n - npv p + npv tp, \\  fp - n + tn, \\  fn npv + fp \\left(1 - npv\\right) + n npv - n\\right), \\left( tp, \\  tn, \\  fn, \\  fp\\right)\\right)$"
      ],
      "text/plain": [
       "GroebnerBasis([fp*(npv - 1) - n*npv + n - npv*p + npv*tp, fp - n + tn, fn*npv + fp*(1 - npv) + n*npv - n], tp, tn, fn, fp, domain='ZZ[p,n,npv]', order='lex')"
      ]
     },
     "execution_count": 92,
     "metadata": {},
     "output_type": "execute_result"
    }
   ],
   "source": [
    "sympy.GroebnerBasis([npv_eq, n_eq, p_eq], tp, tn, fn, fp, order='lex')"
   ]
  },
  {
   "cell_type": "code",
   "execution_count": 93,
   "metadata": {},
   "outputs": [
    {
     "data": {
      "text/plain": [
       "True"
      ]
     },
     "execution_count": 93,
     "metadata": {},
     "output_type": "execute_result"
    }
   ],
   "source": [
    "sympy.GroebnerBasis([spec_eq, npv_eq, n_eq, p_eq], tp, tn, fn, fp, order='lex').is_zero_dimensional"
   ]
  },
  {
   "cell_type": "code",
   "execution_count": 94,
   "metadata": {},
   "outputs": [],
   "source": [
    "subst = {npv: 0}\n",
    "spec_eq_new = spec_eq.subs(subst)\n",
    "npv_eq_new = npv_eq.subs(subst)\n",
    "n_eq_new = n_eq.subs(subst)\n",
    "p_eq_new = p_eq.subs(subst)"
   ]
  },
  {
   "cell_type": "code",
   "execution_count": 95,
   "metadata": {},
   "outputs": [
    {
     "data": {
      "text/latex": [
       "$\\displaystyle \\operatorname{GroebnerBasis}\\left(\\left( 1,\\right), \\left( tp, \\  tn, \\  fn, \\  fp\\right)\\right)$"
      ],
      "text/plain": [
       "GroebnerBasis([1], tp, tn, fn, fp, domain='ZZ[p,n,spec]', order='lex')"
      ]
     },
     "execution_count": 95,
     "metadata": {},
     "output_type": "execute_result"
    }
   ],
   "source": [
    "sympy.GroebnerBasis([spec_eq_new, npv_eq_new, n_eq_new, p_eq_new], tp, tn, fn, fp, order='lex')"
   ]
  },
  {
   "cell_type": "code",
   "execution_count": 76,
   "metadata": {},
   "outputs": [
    {
     "data": {
      "text/plain": [
       "False"
      ]
     },
     "execution_count": 76,
     "metadata": {},
     "output_type": "execute_result"
    }
   ],
   "source": [
    "sympy.GroebnerBasis([spec_eq_new, npv_eq_new, n_eq_new, p_eq_new], tp, tn, fn, fp, order='lex').is_zero_dimensional"
   ]
  },
  {
   "cell_type": "code",
   "execution_count": 77,
   "metadata": {},
   "outputs": [
    {
     "data": {
      "text/plain": [
       "((n + p)*(n*spec - tn)/n, -tn, -fp + n - tn, -fn + p - tp)"
      ]
     },
     "execution_count": 77,
     "metadata": {},
     "output_type": "execute_result"
    }
   ],
   "source": [
    "spec_eq_new, npv_eq_new, n_eq_new, p_eq_new"
   ]
  },
  {
   "cell_type": "code",
   "execution_count": 78,
   "metadata": {},
   "outputs": [
    {
     "data": {
      "text/latex": [
       "$\\displaystyle \\operatorname{GroebnerBasis}\\left(\\left( - acc n - acc p + tp, \\  tn, \\  acc n + acc p + fn - p, \\  fp - n\\right), \\left( tp, \\  tn, \\  fn, \\  fp\\right)\\right)$"
      ],
      "text/plain": [
       "GroebnerBasis([-acc*n - acc*p + tp, tn, acc*n + acc*p + fn - p, fp - n], tp, tn, fn, fp, domain='ZZ[p,n,acc]', order='lex')"
      ]
     },
     "execution_count": 78,
     "metadata": {},
     "output_type": "execute_result"
    }
   ],
   "source": [
    "sympy.GroebnerBasis([acc_eq_new, npv_eq_new, n_eq_new, p_eq_new], tp, tn, fn, fp, order='lex')"
   ]
  },
  {
   "cell_type": "code",
   "execution_count": 79,
   "metadata": {},
   "outputs": [
    {
     "data": {
      "text/plain": [
       "[((acc*n*npv - acc*n + acc*npv*p - acc*p + npv*p)/(2*npv - 1),\n",
       "  npv*(acc*n + acc*p - p)/(2*npv - 1),\n",
       "  -(acc*n*npv + acc*npv*p - 2*n*npv + n - npv*p)/(2*npv - 1),\n",
       "  -(npv - 1)*(acc*n + acc*p - p)/(2*npv - 1))]"
      ]
     },
     "execution_count": 79,
     "metadata": {},
     "output_type": "execute_result"
    }
   ],
   "source": [
    "sympy.solve_poly_system([acc_eq, npv_eq, n_eq, p_eq], tp, tn, fp, fn)"
   ]
  },
  {
   "cell_type": "code",
   "execution_count": null,
   "metadata": {},
   "outputs": [],
   "source": []
  }
 ],
 "metadata": {
  "kernelspec": {
   "display_name": "mlscorecheck",
   "language": "python",
   "name": "python3"
  },
  "language_info": {
   "codemirror_mode": {
    "name": "ipython",
    "version": 3
   },
   "file_extension": ".py",
   "mimetype": "text/x-python",
   "name": "python",
   "nbconvert_exporter": "python",
   "pygments_lexer": "ipython3",
   "version": "3.10.0"
  },
  "orig_nbformat": 4
 },
 "nbformat": 4,
 "nbformat_minor": 2
}
