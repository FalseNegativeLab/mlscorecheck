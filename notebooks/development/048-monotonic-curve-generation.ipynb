{
 "cells": [
  {
   "cell_type": "code",
   "execution_count": 1,
   "metadata": {},
   "outputs": [],
   "source": [
    "import numpy as np\n",
    "\n",
    "import matplotlib.pyplot as plt"
   ]
  },
  {
   "cell_type": "code",
   "execution_count": 12,
   "metadata": {},
   "outputs": [],
   "source": [
    "def generate_roc_curve(\n",
    "        tpr: float,\n",
    "        fpr: float,\n",
    "        n_nodes: int,\n",
    "        n_samples: int = 1,\n",
    "        p: int = None,\n",
    "        n: int = None,\n",
    "        random_state = None\n",
    "):\n",
    "    \n",
    "    if not isinstance(random_state, np.random.RandomState):\n",
    "        random_state = np.random.RandomState(random_state)\n",
    "\n",
    "    tprs = np.full((n_samples, n_nodes), fill_value=-1, dtype=float)\n",
    "    fprs = np.full((n_samples, n_nodes), fill_value=-1, dtype=float)\n",
    "\n",
    "    tprs[:, 0] = 0.0\n",
    "    tprs[:, -1] = 1.0\n",
    "\n",
    "    fprs[:, 0] = 0.0\n",
    "    fprs[:, -1] = 1.0\n",
    "\n",
    "    middle_indices = random_state.choice(list(range(1, n_nodes-1)), n_samples)\n",
    "\n",
    "    tprs[np.arange(0, n_samples), middle_indices] = tpr\n",
    "    fprs[np.arange(0, n_samples), middle_indices] = fpr\n",
    "\n",
    "    first_indices = np.repeat(0, n_samples)\n",
    "    last_indices = middle_indices\n",
    "    queue = np.vstack((first_indices, last_indices)).T\n",
    "\n",
    "    first_indices = middle_indices.copy()\n",
    "    last_indices = np.repeat(n_nodes - 1, n_samples)\n",
    "    queue = np.vstack([queue, np.vstack((first_indices, last_indices)).T])\n",
    "\n",
    "    sample_indices = np.hstack([np.arange(0, n_samples), np.arange(0, n_samples)])\n",
    "\n",
    "    idx = 0\n",
    "    while queue.shape[0] > 0:\n",
    "\n",
    "        first_indices = queue[:, 0]\n",
    "        last_indices = queue[:, 1]\n",
    "\n",
    "        fpr_ranges = fprs[sample_indices, last_indices] - fprs[sample_indices, first_indices]\n",
    "        uniforms = random_state.random_sample(fpr_ranges.shape[0])\n",
    "        fpr_steps = (uniforms * fpr_ranges)\n",
    "\n",
    "        tpr_ranges = tprs[sample_indices, last_indices] - tprs[sample_indices, first_indices]\n",
    "        uniforms = random_state.random_sample(tpr_ranges.shape[0])\n",
    "        tpr_steps = (uniforms * tpr_ranges)\n",
    "\n",
    "        index_ranges = last_indices - first_indices - 1\n",
    "        uniforms = random_state.random_sample(index_ranges.shape[0])\n",
    "        index_steps = np.floor(index_ranges * uniforms).astype(int) + 1\n",
    "\n",
    "        fprs[sample_indices, first_indices + index_steps] = fprs[sample_indices, first_indices] + fpr_steps\n",
    "        tprs[sample_indices, first_indices + index_steps] = tprs[sample_indices, first_indices] + tpr_steps\n",
    "\n",
    "        lhs_queue = np.vstack([first_indices, first_indices + index_steps]).T\n",
    "        rhs_queue = np.vstack([first_indices + index_steps, last_indices]).T\n",
    "        queue = np.vstack([lhs_queue, rhs_queue])\n",
    "        sample_indices = np.hstack([sample_indices, sample_indices])\n",
    "\n",
    "        mask = queue[:, 0] < queue[:, 1] - 1\n",
    "        queue = queue[mask]\n",
    "        sample_indices = sample_indices[mask]\n",
    "        first_indices = queue[:, 0]\n",
    "        last_indices = queue[:, 1]\n",
    "\n",
    "        idx += 1\n",
    "    \n",
    "    if p is not None:\n",
    "        tprs = np.round(tprs * p) / p\n",
    "    if n is not None:\n",
    "        fprs = np.round(fprs * n) / n\n",
    "        \n",
    "    return fprs, tprs"
   ]
  },
  {
   "cell_type": "code",
   "execution_count": 17,
   "metadata": {},
   "outputs": [],
   "source": [
    "curves = generate_roc_curve(0.8, 0.2, n_nodes=10, n_samples=3, p=10, n=10)"
   ]
  },
  {
   "cell_type": "code",
   "execution_count": 18,
   "metadata": {},
   "outputs": [
    {
     "data": {
      "text/plain": [
       "[<matplotlib.lines.Line2D at 0x7f3b358e7440>]"
      ]
     },
     "execution_count": 18,
     "metadata": {},
     "output_type": "execute_result"
    },
    {
     "data": {
      "image/png": "[encoded data removed]",
      "text/plain": [
       "<Figure size 640x480 with 1 Axes>"
      ]
     },
     "metadata": {},
     "output_type": "display_data"
    }
   ],
   "source": [
    "plt.plot(curves[0][1], curves[1][1])"
   ]
  },
  {
   "cell_type": "code",
   "execution_count": 5,
   "metadata": {},
   "outputs": [
    {
     "data": {
      "text/plain": [
       "array([[0., 1., 1., 0., 0.],\n",
       "       [0., 0., 1., 1., 0.],\n",
       "       [0., 0., 0., 1., 1.]])"
      ]
     },
     "execution_count": 5,
     "metadata": {},
     "output_type": "execute_result"
    }
   ],
   "source": [
    "tmp = np.zeros(shape=(3, 5))\n",
    "tmp[np.array([0, 1, 2, 0, 1, 2]), np.array([1, 2, 3, 2, 3, 4])] = 1\n",
    "tmp"
   ]
  },
  {
   "cell_type": "code",
   "execution_count": null,
   "metadata": {},
   "outputs": [],
   "source": []
  }
 ],
 "metadata": {
  "kernelspec": {
   "display_name": "mlscorecheck",
   "language": "python",
   "name": "python3"
  },
  "language_info": {
   "codemirror_mode": {
    "name": "ipython",
    "version": 3
   },
   "file_extension": ".py",
   "mimetype": "text/x-python",
   "name": "python",
   "nbconvert_exporter": "python",
   "pygments_lexer": "ipython3",
   "version": "3.12.0"
  }
 },
 "nbformat": 4,
 "nbformat_minor": 2
}
