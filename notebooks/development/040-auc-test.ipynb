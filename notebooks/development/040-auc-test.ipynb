{
 "cells": [
  {
   "cell_type": "code",
   "execution_count": 27,
   "metadata": {},
   "outputs": [],
   "source": [
    "from mlscorecheck.auc import acc_from, auc_from\n",
    "import common_datasets.binary_classification as binclas\n",
    "from sklearn.ensemble import RandomForestClassifier\n",
    "from sklearn.tree import DecisionTreeClassifier\n",
    "from sklearn.svm import SVC\n",
    "from sklearn.neighbors import KNeighborsClassifier\n",
    "from sklearn.model_selection import train_test_split\n",
    "from sklearn.metrics import roc_auc_score\n",
    "\n",
    "import numpy as np\n",
    "import pandas as pd"
   ]
  },
  {
   "cell_type": "code",
   "execution_count": 28,
   "metadata": {},
   "outputs": [],
   "source": [
    "classifiers = [\n",
    "    (RandomForestClassifier, {'max_depth': 5, 'random_state': 5}),\n",
    "    (DecisionTreeClassifier, {'max_depth': 5, 'random_state': 5}),\n",
    "    (SVC, {'probability': True, 'C': 0.1}),\n",
    "    (KNeighborsClassifier, {'n_neighbors': 11})\n",
    "]"
   ]
  },
  {
   "cell_type": "code",
   "execution_count": 29,
   "metadata": {},
   "outputs": [],
   "source": [
    "datasets = binclas.get_filtered_data_loaders(n_col_bounds=(0, 50), n_bounds=(0, 1000), n_minority_bounds=(20, 1000), n_from_phenotypes=1, imbalance_ratio_bounds=(0.5, 2.0))"
   ]
  },
  {
   "cell_type": "code",
   "execution_count": 30,
   "metadata": {},
   "outputs": [],
   "source": [
    "results = []\n",
    "\n",
    "for loader in datasets:\n",
    "    dataset = loader()\n",
    "    X = dataset['data']\n",
    "    y = dataset['target']\n",
    "    name = dataset['name']\n",
    "\n",
    "    X_train, X_test, y_train, y_test = train_test_split(X, y, test_size=0.2, random_state=5)\n",
    "    classifier = classifiers[np.random.randint(len(classifiers))]\n",
    "\n",
    "    classifier_obj = classifier[0](**classifier[1])\n",
    "\n",
    "    classifier_obj.fit(X_train, y_train)\n",
    "    y_pred = classifier_obj.predict_proba(X_test)[:, 1]\n",
    "\n",
    "    auc = roc_auc_score(y_test, y_pred)\n",
    "\n",
    "    threshold = np.random.random()\n",
    "\n",
    "    tp = np.sum((y_pred >= threshold) & (y_test == 1))\n",
    "    tn = np.sum((y_pred < threshold) & (y_test == 0))\n",
    "    p = np.sum(y_test)\n",
    "    n = len(y_test) - np.sum(y_test)\n",
    "\n",
    "    acc = np.round((tp + tn) / (p + n), 4)\n",
    "    sens = np.round((tp) / (p), 4)\n",
    "    spec = np.round((tn) / (n), 4)\n",
    "\n",
    "    scores = {\n",
    "        'acc': acc,\n",
    "        'sens': sens,\n",
    "        'spec': spec\n",
    "    }\n",
    "\n",
    "    auc0_int = auc_from(scores=scores, eps=1e-4, p=p, n=n, lower='min', upper='max')\n",
    "    auc0 = (auc0_int[0] + auc0_int[1]) / 2.0\n",
    "\n",
    "    auc1_int = auc_from(scores=scores, eps=1e-4, p=p, n=n, lower='cmin', upper='max')\n",
    "    auc1 = (auc1_int[0] + auc1_int[1]) / 2.0\n",
    "\n",
    "\n",
    "    results.append((auc, acc, sens, spec, threshold, auc0_int, auc0, auc1_int, auc1))"
   ]
  },
  {
   "cell_type": "code",
   "execution_count": 32,
   "metadata": {},
   "outputs": [],
   "source": [
    "data = pd.DataFrame(results, columns=['auc', 'acc', 'sens', 'spec', 'threshold', 'auc0_int', 'auc0', 'auc1_int', 'auc1'])"
   ]
  },
  {
   "cell_type": "code",
   "execution_count": 34,
   "metadata": {},
   "outputs": [
    {
     "data": {
      "text/plain": [
       "(0.12551182373807993, 0.05224014298541613)"
      ]
     },
     "execution_count": 34,
     "metadata": {},
     "output_type": "execute_result"
    }
   ],
   "source": [
    "np.mean(np.abs((data['auc'] - data['auc0']))), np.mean(np.abs((data['auc'] - data['auc1']))),"
   ]
  },
  {
   "cell_type": "code",
   "execution_count": 31,
   "metadata": {},
   "outputs": [
    {
     "data": {
      "text/plain": [
       "(0.9049999999999999, 0.9943974775)"
      ]
     },
     "execution_count": 31,
     "metadata": {},
     "output_type": "execute_result"
    }
   ],
   "source": [
    "auc_from(\n",
    "    scores={'sens': 0.95, 'spec': 0.95},\n",
    "    eps=1e-4,\n",
    "    p=500,\n",
    "    n=1000,\n",
    "    lower='cmin',\n",
    "    upper='max-acc'\n",
    ")"
   ]
  },
  {
   "cell_type": "code",
   "execution_count": null,
   "metadata": {},
   "outputs": [],
   "source": []
  }
 ],
 "metadata": {
  "kernelspec": {
   "display_name": "mlscorecheck",
   "language": "python",
   "name": "python3"
  },
  "language_info": {
   "codemirror_mode": {
    "name": "ipython",
    "version": 3
   },
   "file_extension": ".py",
   "mimetype": "text/x-python",
   "name": "python",
   "nbconvert_exporter": "python",
   "pygments_lexer": "ipython3",
   "version": "3.10.13"
  }
 },
 "nbformat": 4,
 "nbformat_minor": 2
}
