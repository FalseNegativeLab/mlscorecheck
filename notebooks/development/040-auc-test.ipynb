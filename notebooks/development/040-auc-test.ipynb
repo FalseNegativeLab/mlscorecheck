{
 "cells": [
  {
   "cell_type": "code",
   "execution_count": 95,
   "metadata": {},
   "outputs": [],
   "source": [
    "from mlscorecheck.auc import acc_from_auc, auc_from_sens_spec\n",
    "import common_datasets.binary_classification as binclas\n",
    "from sklearn.ensemble import RandomForestClassifier\n",
    "from sklearn.tree import DecisionTreeClassifier\n",
    "from sklearn.svm import SVC\n",
    "from sklearn.neighbors import KNeighborsClassifier\n",
    "from sklearn.model_selection import train_test_split\n",
    "from sklearn.metrics import roc_auc_score\n",
    "\n",
    "import matplotlib.pyplot as plt\n",
    "\n",
    "import numpy as np\n",
    "import pandas as pd\n",
    "\n",
    "from scipy.stats import wilcoxon"
   ]
  },
  {
   "cell_type": "code",
   "execution_count": 96,
   "metadata": {},
   "outputs": [],
   "source": [
    "classifiers = [\n",
    "    (RandomForestClassifier, {'max_depth': 5, 'random_state': 5}),\n",
    "    (DecisionTreeClassifier, {'max_depth': 5, 'random_state': 5}),\n",
    "    (SVC, {'probability': True, 'C': 0.1}),\n",
    "    (KNeighborsClassifier, {'n_neighbors': 11})\n",
    "]"
   ]
  },
  {
   "cell_type": "code",
   "execution_count": 97,
   "metadata": {},
   "outputs": [],
   "source": [
    "def generate_random_classifier(random_state):\n",
    "    mode = random_state.randint(4)\n",
    "    if mode == 0:\n",
    "        classifier = RandomForestClassifier\n",
    "        params = {'max_depth': random_state.randint(3, 10),\n",
    "                  'random_state': 5}\n",
    "    if mode == 1:\n",
    "        classifier = DecisionTreeClassifier\n",
    "        params = {'max_depth': random_state.randint(3, 10),\n",
    "                  'random_state': 5}\n",
    "    if mode == 2:\n",
    "        classifier = SVC\n",
    "        params = {'probability': True, 'C': random_state.rand()*2 + 0.001}\n",
    "    if mode == 3:\n",
    "        classifier = KNeighborsClassifier\n",
    "        params = {'n_neighbors': random_state.randint(1, 10)}\n",
    "    \n",
    "    return (classifier, params)"
   ]
  },
  {
   "cell_type": "code",
   "execution_count": 98,
   "metadata": {},
   "outputs": [],
   "source": [
    "datasets = binclas.get_filtered_data_loaders(n_col_bounds=(0, 50), n_bounds=(0, 2000), n_minority_bounds=(20, 1000), n_from_phenotypes=1, imbalance_ratio_bounds=(0.2, 8.0))"
   ]
  },
  {
   "cell_type": "code",
   "execution_count": 99,
   "metadata": {},
   "outputs": [
    {
     "data": {
      "text/plain": [
       "20"
      ]
     },
     "execution_count": 99,
     "metadata": {},
     "output_type": "execute_result"
    }
   ],
   "source": [
    "len(datasets)"
   ]
  },
  {
   "cell_type": "code",
   "execution_count": 100,
   "metadata": {},
   "outputs": [],
   "source": [
    "results = []\n",
    "random_state = np.random.RandomState(5)\n",
    "\n",
    "for _ in range(20):\n",
    "    for loader in datasets:\n",
    "        dataset = loader()\n",
    "        X = dataset['data']\n",
    "        y = dataset['target']\n",
    "        name = dataset['name']\n",
    "\n",
    "        X_train, X_test, y_train, y_test = train_test_split(X, y, test_size=0.2, random_state=5)\n",
    "        classifier = generate_random_classifier(random_state)\n",
    "\n",
    "        classifier_obj = classifier[0](**classifier[1])\n",
    "\n",
    "        classifier_obj.fit(X_train, y_train)\n",
    "        y_pred = classifier_obj.predict_proba(X_test)[:, 1]\n",
    "\n",
    "        auc = roc_auc_score(y_test, y_pred)\n",
    "\n",
    "        threshold = random_state.random()\n",
    "\n",
    "        tp = np.sum((y_pred >= threshold) & (y_test == 1))\n",
    "        tn = np.sum((y_pred < threshold) & (y_test == 0))\n",
    "        p = np.sum(y_test)\n",
    "        n = len(y_test) - np.sum(y_test)\n",
    "\n",
    "        acc = np.round((tp + tn) / (p + n), 4)\n",
    "        sens = np.round((tp) / (p), 4)\n",
    "        spec = np.round((tn) / (n), 4)\n",
    "\n",
    "        scores = {\n",
    "            'acc': acc,\n",
    "            'sens': sens,\n",
    "            'spec': spec\n",
    "        }\n",
    "\n",
    "        auc0_int = auc_from_sens_spec(scores=scores, eps=1e-4, p=p, n=n, lower='min', upper='max')\n",
    "        auc0 = (auc0_int[0] + auc0_int[1]) / 2.0\n",
    "\n",
    "        try:\n",
    "            auc1_int = auc_from_sens_spec(scores=scores, eps=1e-4, p=p, n=n, lower='cmin', upper='max')\n",
    "            auc1 = (auc1_int[0] + auc1_int[1]) / 2.0\n",
    "        except:\n",
    "            auc1_int = None\n",
    "            auc1 = None\n",
    "\n",
    "\n",
    "        results.append((auc, acc, sens, spec, threshold, auc0_int, auc0, auc1_int, auc1))"
   ]
  },
  {
   "cell_type": "code",
   "execution_count": 101,
   "metadata": {},
   "outputs": [],
   "source": [
    "data = pd.DataFrame(results, columns=['auc', 'acc', 'sens', 'spec', 'threshold', 'auc0_int', 'auc0', 'auc1_int', 'auc1'])"
   ]
  },
  {
   "cell_type": "code",
   "execution_count": 102,
   "metadata": {},
   "outputs": [],
   "source": [
    "tmp = data[data['auc1'].notnull()]"
   ]
  },
  {
   "cell_type": "code",
   "execution_count": 103,
   "metadata": {},
   "outputs": [
    {
     "data": {
      "image/png": "[encoded data removed]",
      "text/plain": [
       "<Figure size 600x300 with 1 Axes>"
      ]
     },
     "metadata": {},
     "output_type": "display_data"
    }
   ],
   "source": [
    "plt.figure(figsize=(6, 3))\n",
    "\n",
    "plt.hist(tmp['auc'] - tmp['auc0'], density=True, label='A (min, max)', alpha=0.5, bins=15)\n",
    "plt.hist(tmp['auc'] - tmp['auc1'], density=True, label='B (cmin, max)', alpha=0.5, bins=15)\n",
    "\n",
    "plt.xlabel(r'$auc - M_{auc}$')\n",
    "plt.ylabel('frequency')\n",
    "\n",
    "plt.legend(title='estimation scheme')\n",
    "\n",
    "plt.tight_layout()\n",
    "plt.savefig('hist0.png')\n",
    "plt.show()"
   ]
  },
  {
   "cell_type": "code",
   "execution_count": 104,
   "metadata": {},
   "outputs": [
    {
     "data": {
      "text/plain": [
       "(np.float64(0.08636092494811481), np.float64(0.060940201466227896))"
      ]
     },
     "execution_count": 104,
     "metadata": {},
     "output_type": "execute_result"
    }
   ],
   "source": [
    "np.mean(np.abs((tmp['auc'] - tmp['auc0']))), np.mean(np.abs((tmp['auc'] - tmp['auc1']))),"
   ]
  },
  {
   "cell_type": "code",
   "execution_count": 105,
   "metadata": {},
   "outputs": [
    {
     "data": {
      "text/plain": [
       "WilcoxonResult(statistic=np.float64(14620.0), pvalue=np.float64(7.452719583839613e-18))"
      ]
     },
     "execution_count": 105,
     "metadata": {},
     "output_type": "execute_result"
    }
   ],
   "source": [
    "wilcoxon(np.abs((tmp['auc'] - tmp['auc0'])).values, np.abs((tmp['auc'] - tmp['auc1'])).values)"
   ]
  },
  {
   "cell_type": "code",
   "execution_count": null,
   "metadata": {},
   "outputs": [],
   "source": []
  }
 ],
 "metadata": {
  "kernelspec": {
   "display_name": "mlscorecheck",
   "language": "python",
   "name": "python3"
  },
  "language_info": {
   "codemirror_mode": {
    "name": "ipython",
    "version": 3
   },
   "file_extension": ".py",
   "mimetype": "text/x-python",
   "name": "python",
   "nbconvert_exporter": "python",
   "pygments_lexer": "ipython3",
   "version": "3.1.-1"
  }
 },
 "nbformat": 4,
 "nbformat_minor": 2
}
