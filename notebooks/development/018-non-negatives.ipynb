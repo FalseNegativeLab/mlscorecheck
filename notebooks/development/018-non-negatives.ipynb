{
 "cells": [
  {
   "cell_type": "code",
   "execution_count": 1,
   "metadata": {},
   "outputs": [],
   "source": [
    "import sympy as sp"
   ]
  },
  {
   "cell_type": "code",
   "execution_count": 8,
   "metadata": {},
   "outputs": [],
   "source": [
    "tp = sp.Symbol('tp')\n",
    "tn = sp.Symbol('tn')\n",
    "p = sp.Symbol('p')\n",
    "n = sp.Symbol('n')\n",
    "acc = sp.Symbol('acc')\n",
    "fm = sp.Symbol('fm')\n",
    "spec = sp.Symbol('spec')\n",
    "acc_ = (tp + tn) / (p + n)\n",
    "fm_ = tp / (p*(n - tn + tp))**(1/2)\n",
    "spec_ = tn / n\n",
    "expr = -((acc - 1)*n - (fm**2 - acc)*p)*p"
   ]
  },
  {
   "cell_type": "code",
   "execution_count": 5,
   "metadata": {},
   "outputs": [],
   "source": [
    "tmp = expr.subs({acc: acc_, fm: fm_})"
   ]
  },
  {
   "cell_type": "code",
   "execution_count": 6,
   "metadata": {},
   "outputs": [
    {
     "data": {
      "text/latex": [
       "$\\displaystyle n p + \\frac{p^{2} tp^{2}}{\\left(n p - p tn + p tp\\right)^{1.0}} - p tn - p tp$"
      ],
      "text/plain": [
       "n*p + p**2*tp**2/(n*p - p*tn + p*tp)**1.0 - p*tn - p*tp"
      ]
     },
     "execution_count": 6,
     "metadata": {},
     "output_type": "execute_result"
    }
   ],
   "source": [
    "sp.simplify(tmp)"
   ]
  },
  {
   "cell_type": "code",
   "execution_count": 7,
   "metadata": {},
   "outputs": [
    {
     "data": {
      "text/latex": [
       "$\\displaystyle p \\left(n + \\frac{p tp^{2}}{\\left(n p - p tn + p tp\\right)^{1.0}} - tn - tp\\right)$"
      ],
      "text/plain": [
       "p*(n + p*tp**2/(n*p - p*tn + p*tp)**1.0 - tn - tp)"
      ]
     },
     "execution_count": 7,
     "metadata": {},
     "output_type": "execute_result"
    }
   ],
   "source": [
    "sp.factor(sp.simplify(tmp))"
   ]
  },
  {
   "cell_type": "code",
   "execution_count": 9,
   "metadata": {},
   "outputs": [],
   "source": [
    "expr = (fm**2*p - 4*n*spec + 4*n)*p"
   ]
  },
  {
   "cell_type": "code",
   "execution_count": 10,
   "metadata": {},
   "outputs": [],
   "source": [
    "tmp = expr.subs({spec: spec_, fm: fm_})"
   ]
  },
  {
   "cell_type": "code",
   "execution_count": 12,
   "metadata": {},
   "outputs": [
    {
     "data": {
      "text/latex": [
       "$\\displaystyle \\frac{p \\left(p tp^{2} + 4 \\left(p \\left(n - tn + tp\\right)\\right)^{1.0} \\left(n - tn\\right)\\right)}{\\left(p \\left(n - tn + tp\\right)\\right)^{1.0}}$"
      ],
      "text/plain": [
       "p*(p*tp**2 + 4*(p*(n - tn + tp))**1.0*(n - tn))/(p*(n - tn + tp))**1.0"
      ]
     },
     "execution_count": 12,
     "metadata": {},
     "output_type": "execute_result"
    }
   ],
   "source": [
    "sp.simplify(tmp)"
   ]
  },
  {
   "cell_type": "code",
   "execution_count": 13,
   "metadata": {},
   "outputs": [],
   "source": [
    "from mlscorecheck.individual import solution_specifications"
   ]
  },
  {
   "cell_type": "code",
   "execution_count": 22,
   "metadata": {},
   "outputs": [
    {
     "name": "stdout",
     "output_type": "stream",
     "text": [
      "-((acc - 1)*n - (fm**2 - acc)*p)*p\n",
      "-((acc - 1)*n - (fm**2 - acc)*p)*p\n",
      "(fm**2*p - 4*n*spec + 4*n)*p\n",
      "(fm**2*p - 4*n*spec + 4*n)*p\n",
      "(4*n*npv**2 - 8*n*npv + (fm**2 + 4*npv**2 - 4*npv)*p + 4*n)*p\n",
      "(4*n*npv**2 - 8*n*npv + (fm**2 + 4*npv**2 - 4*npv)*p + 4*n)*p\n",
      "fm**2*n**2 + fm**2*p**2 + 2*(fm**2 - 4*bacc + 2)*n*p\n",
      "fm**2*n**2 + fm**2*p**2 + 2*(fm**2 - 4*bacc + 2)*n*p\n",
      "-f1p**2 + fm**2\n",
      "-f1p**2 + fm**2\n"
     ]
    }
   ],
   "source": [
    "for key, item in solution_specifications.items():\n",
    "    for sol in item.solutions:\n",
    "        if sol.non_negative != []:\n",
    "            print(sol.non_negative[0]['expression'])"
   ]
  },
  {
   "cell_type": "code",
   "execution_count": null,
   "metadata": {},
   "outputs": [],
   "source": []
  }
 ],
 "metadata": {
  "kernelspec": {
   "display_name": "mlscorecheck",
   "language": "python",
   "name": "python3"
  },
  "language_info": {
   "codemirror_mode": {
    "name": "ipython",
    "version": 3
   },
   "file_extension": ".py",
   "mimetype": "text/x-python",
   "name": "python",
   "nbconvert_exporter": "python",
   "pygments_lexer": "ipython3",
   "version": "3.10.0"
  },
  "orig_nbformat": 4
 },
 "nbformat": 4,
 "nbformat_minor": 2
}
