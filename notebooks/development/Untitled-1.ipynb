{
 "cells": [
  {
   "cell_type": "code",
   "execution_count": 1,
   "metadata": {},
   "outputs": [],
   "source": [
    "from mlscorecheck.core import safe_eval\n",
    "from mlscorecheck.scores import score_specifications"
   ]
  },
  {
   "cell_type": "code",
   "execution_count": 2,
   "metadata": {},
   "outputs": [],
   "source": [
    "import numpy as np"
   ]
  },
  {
   "cell_type": "code",
   "execution_count": 3,
   "metadata": {},
   "outputs": [],
   "source": [
    "params = {'p': 20,\n",
    "            'tp': 5,\n",
    "            'n': 40,\n",
    "            'tn': 35,\n",
    "            'beta_positive': 2,\n",
    "            'beta_negative': 2,\n",
    "            'sqrt': np.sqrt}"
   ]
  },
  {
   "cell_type": "code",
   "execution_count": 4,
   "metadata": {},
   "outputs": [
    {
     "name": "stdout",
     "output_type": "stream",
     "text": [
      "acc 0.6666666666666666 0.0\n",
      "sens 0.25 0.0\n",
      "spec 0.875 0.0\n",
      "ppv 0.5 0.0\n",
      "npv 0.7 0.0\n",
      "fbp 0.2777777777777778 0.0\n",
      "fbm 0.8333333333333334 0.0\n",
      "f1p 0.3333333333333333 0.0\n",
      "f1m 0.7777777777777778 0.0\n",
      "upm 0.4666666666666667 0.0\n",
      "gm 0.46770717334674267 0.0\n",
      "fm 0.35355339059327373 -7.105427357601002e-15\n",
      "mk 0.19999999999999996 0.0\n",
      "lrp 2.0 0.0\n",
      "lrn 0.8571428571428571 0.0\n",
      "mcc 0.15811388300841894 -3.637978807091713e-12\n",
      "bm 0.125 0.0\n",
      "pt 0.4142135623730951 0.0\n",
      "dor 2.3333333333333335 2.842170943040401e-14\n",
      "ji 0.2 0.0\n",
      "bacc 0.5625 0.0\n",
      "kappa 0.14285714285714285 0.0\n",
      "p4 0.4666666666666667 0.0\n"
     ]
    }
   ],
   "source": [
    "for score in score_specifications:\n",
    "    if 'polynomial_equation' not in score_specifications[score]:\n",
    "        continue\n",
    "    score_val = safe_eval(score_specifications[score]['formula_standardized'], params)\n",
    "    params[score] = score_val\n",
    "    poly = safe_eval(score_specifications[score]['polynomial_equation'], params)\n",
    "    print(score, score_val, poly)"
   ]
  },
  {
   "cell_type": "code",
   "execution_count": null,
   "metadata": {},
   "outputs": [],
   "source": []
  }
 ],
 "metadata": {
  "kernelspec": {
   "display_name": "mlscorecheck",
   "language": "python",
   "name": "python3"
  },
  "language_info": {
   "codemirror_mode": {
    "name": "ipython",
    "version": 3
   },
   "file_extension": ".py",
   "mimetype": "text/x-python",
   "name": "python",
   "nbconvert_exporter": "python",
   "pygments_lexer": "ipython3",
   "version": "3.10.0"
  },
  "orig_nbformat": 4
 },
 "nbformat": 4,
 "nbformat_minor": 2
}
