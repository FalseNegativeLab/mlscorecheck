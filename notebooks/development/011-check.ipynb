{
 "cells": [
  {
   "cell_type": "code",
   "execution_count": 1,
   "metadata": {},
   "outputs": [],
   "source": [
    "import numpy as np\n",
    "\n",
    "from mlscorecheck.core import (check, check_2v1)\n",
    "from mlscorecheck.utils import (generate_problem)\n",
    "from mlscorecheck.core import (sensitivity, specificity, accuracy,\n",
    "                                positive_predictive_value)\n",
    "from mlscorecheck.core import Interval, IntervalUnion\n",
    "from mlscorecheck.core import load_solutions"
   ]
  },
  {
   "cell_type": "code",
   "execution_count": 2,
   "metadata": {},
   "outputs": [],
   "source": [
    "int0 = Interval(0, 1)\n",
    "int1 = Interval(-1, 1)\n",
    "int2 = Interval(-2, -1)"
   ]
  },
  {
   "cell_type": "code",
   "execution_count": 3,
   "metadata": {},
   "outputs": [],
   "source": [
    "iu = IntervalUnion([int0, int1, int2])"
   ]
  },
  {
   "cell_type": "code",
   "execution_count": 4,
   "metadata": {},
   "outputs": [],
   "source": [
    "solutions = load_solutions()"
   ]
  },
  {
   "cell_type": "code",
   "execution_count": 5,
   "metadata": {},
   "outputs": [],
   "source": [
    "problem = generate_problem(zeros=['tp', 'tn'])"
   ]
  },
  {
   "cell_type": "code",
   "execution_count": 6,
   "metadata": {},
   "outputs": [
    {
     "data": {
      "text/plain": [
       "{'p': 511, 'n': 551, 'tp': 0, 'tn': 0, 'fp': 551, 'fn': 511}"
      ]
     },
     "execution_count": 6,
     "metadata": {},
     "output_type": "execute_result"
    }
   ],
   "source": [
    "problem"
   ]
  },
  {
   "cell_type": "code",
   "execution_count": 7,
   "metadata": {},
   "outputs": [],
   "source": [
    "k = 4\n",
    "eps = 10**(-k)"
   ]
  },
  {
   "cell_type": "code",
   "execution_count": 8,
   "metadata": {},
   "outputs": [],
   "source": [
    "scores = {'sens': sensitivity(tp=problem['tp'], p=problem['p']),\n",
    "            'spec': specificity(tn=problem['tn'], n=problem['n']),\n",
    "            'acc': accuracy(tp=problem['tp'], tn=problem['tn'], p=problem['p'], n=problem['n']),\n",
    "            'ppv': positive_predictive_value(tp=problem['tp'], fp=problem['fp'])}"
   ]
  },
  {
   "cell_type": "code",
   "execution_count": 9,
   "metadata": {},
   "outputs": [
    {
     "data": {
      "text/plain": [
       "{'sens': 0.0, 'spec': 0.0, 'acc': 0.0, 'ppv': 0.0}"
      ]
     },
     "execution_count": 9,
     "metadata": {},
     "output_type": "execute_result"
    }
   ],
   "source": [
    "scores"
   ]
  },
  {
   "cell_type": "code",
   "execution_count": 10,
   "metadata": {},
   "outputs": [],
   "source": [
    "for score in scores:\n",
    "    scores[score] = np.round(scores[score], k)"
   ]
  },
  {
   "cell_type": "code",
   "execution_count": 11,
   "metadata": {},
   "outputs": [],
   "source": [
    "solution = solutions[('sens', 'spec')]"
   ]
  },
  {
   "cell_type": "code",
   "execution_count": 12,
   "metadata": {},
   "outputs": [
    {
     "data": {
      "text/plain": [
       "[{'tp': 812.0015999999999, 'tn': 574.9744000000001}]"
      ]
     },
     "execution_count": 12,
     "metadata": {},
     "output_type": "execute_result"
    }
   ],
   "source": [
    "solution.evaluate({'sens': 0.8432, 'spec': 0.9334, 'p': 963, 'n': 616})"
   ]
  },
  {
   "cell_type": "code",
   "execution_count": 13,
   "metadata": {},
   "outputs": [
    {
     "data": {
      "text/plain": [
       "[{'tp': (10.1172, 10.119599999999998), 'tn': (574.9128000000001, 575.036)}]"
      ]
     },
     "execution_count": 13,
     "metadata": {},
     "output_type": "execute_result"
    }
   ],
   "source": [
    "solution.evaluate({'sens': Interval(0.8432-eps, 0.8432+eps),\n",
    "                    'spec': Interval(0.9334-eps, 0.9334+eps),\n",
    "                    'p': 12,\n",
    "                    'n': 616})"
   ]
  },
  {
   "cell_type": "code",
   "execution_count": 14,
   "metadata": {},
   "outputs": [
    {
     "name": "stderr",
     "output_type": "stream",
     "text": [
      "2023-08-12 16:15:09,013:INFO:checking sens and spec against acc\n",
      "2023-08-12 16:15:09,015:INFO:checking sens and spec against ppv\n",
      "2023-08-12 16:15:09,016:INFO:checking sens and acc against spec\n",
      "2023-08-12 16:15:09,017:INFO:checking sens and acc against ppv\n",
      "2023-08-12 16:15:09,018:INFO:checking sens and ppv against spec\n",
      "2023-08-12 16:15:09,019:INFO:checking sens and ppv against acc\n",
      "2023-08-12 16:15:09,019:INFO:checking spec and acc against sens\n",
      "2023-08-12 16:15:09,020:INFO:checking spec and acc against ppv\n",
      "2023-08-12 16:15:09,022:INFO:checking spec and ppv against sens\n",
      "2023-08-12 16:15:09,023:INFO:checking spec and ppv against acc\n",
      "2023-08-12 16:15:09,024:INFO:checking acc and ppv against sens\n",
      "2023-08-12 16:15:09,024:INFO:checking acc and ppv against spec\n"
     ]
    },
    {
     "data": {
      "text/plain": [
       "{'succeeded': [{'details': [{'score_0': 'sens',\n",
       "     'score_0_interval': (-0.0001, 0.0001),\n",
       "     'score_1': 'spec',\n",
       "     'score_1_interval': (-0.0001, 0.0001),\n",
       "     'target_score': 'acc',\n",
       "     'target_interval': (-0.0001, 0.0001),\n",
       "     'solution': {'tp': (-0.0511, 0.0511), 'tn': (-0.0551, 0.0551)},\n",
       "     'consistency': True,\n",
       "     'explanation': 'the target score interval ((-0.0001, 0.0001)) and the reconstructed intervals ((-0.0001, 0.0001)) do not intersect',\n",
       "     'target_interval_reconstructed': (-0.0001, 0.0001)}],\n",
       "   'consistency': True},\n",
       "  {'details': [{'score_0': 'sens',\n",
       "     'score_0_interval': (-0.0001, 0.0001),\n",
       "     'score_1': 'spec',\n",
       "     'score_1_interval': (-0.0001, 0.0001),\n",
       "     'target_score': 'ppv',\n",
       "     'target_interval': (-0.0001, 0.0001),\n",
       "     'solution': {'tp': (-0.0511, 0.0511), 'tn': (-0.0551, 0.0551)},\n",
       "     'consistency': True,\n",
       "     'explanation': 'the target score interval ((-0.0001, 0.0001)) and the reconstructed intervals ((-9.275835015750768e-05, 9.275835015750768e-05)) do not intersect',\n",
       "     'target_interval_reconstructed': (-9.275835015750768e-05, 9.275835015750768e-05)}],\n",
       "   'consistency': True},\n",
       "  {'details': [{'score_0': 'sens',\n",
       "     'score_0_interval': (-0.0001, 0.0001),\n",
       "     'score_1': 'acc',\n",
       "     'score_1_interval': (-0.0001, 0.0001),\n",
       "     'target_score': 'spec',\n",
       "     'target_interval': (-0.0001, 0.0001),\n",
       "     'solution': {'tp': (-0.0511, 0.0511), 'tn': (-0.1573, 0.1573)},\n",
       "     'consistency': True,\n",
       "     'explanation': 'the target score interval ((-0.0001, 0.0001)) and the reconstructed intervals ((-0.000285480943738657, 0.000285480943738657)) do not intersect',\n",
       "     'target_interval_reconstructed': (-0.000285480943738657, 0.000285480943738657)}],\n",
       "   'consistency': True},\n",
       "  {'details': [{'score_0': 'sens',\n",
       "     'score_0_interval': (-0.0001, 0.0001),\n",
       "     'score_1': 'acc',\n",
       "     'score_1_interval': (-0.0001, 0.0001),\n",
       "     'target_score': 'ppv',\n",
       "     'target_interval': (-0.0001, 0.0001),\n",
       "     'solution': {'tp': (-0.0511, 0.0511), 'tn': (-0.1573, 0.1573)},\n",
       "     'consistency': True,\n",
       "     'explanation': 'the target score interval ((-0.0001, 0.0001)) and the reconstructed intervals ((-9.277556157356068e-05, 9.277556157356068e-05)) do not intersect',\n",
       "     'target_interval_reconstructed': (-9.277556157356068e-05, 9.277556157356068e-05)}],\n",
       "   'consistency': True},\n",
       "  {'details': [{'score_0': 'sens',\n",
       "     'score_0_interval': (-0.0001, 0.0001),\n",
       "     'score_1': 'ppv',\n",
       "     'score_1_interval': (-0.0001, 0.0001),\n",
       "     'target_score': 'spec',\n",
       "     'target_interval': (-0.0001, 0.0001),\n",
       "     'solution': {'tp': None,\n",
       "      'tn': None,\n",
       "      'message': 'zero division',\n",
       "      'denominator': {'ppv': (-0.0001, 0.0001)}},\n",
       "     'consistency': True,\n",
       "     'explanation': 'zero division indicates an underdetermined system'}],\n",
       "   'consistency': True},\n",
       "  {'details': [{'score_0': 'sens',\n",
       "     'score_0_interval': (-0.0001, 0.0001),\n",
       "     'score_1': 'ppv',\n",
       "     'score_1_interval': (-0.0001, 0.0001),\n",
       "     'target_score': 'acc',\n",
       "     'target_interval': (-0.0001, 0.0001),\n",
       "     'solution': {'tp': None,\n",
       "      'tn': None,\n",
       "      'message': 'zero division',\n",
       "      'denominator': {'ppv': (-0.0001, 0.0001)}},\n",
       "     'consistency': True,\n",
       "     'explanation': 'zero division indicates an underdetermined system'}],\n",
       "   'consistency': True},\n",
       "  {'details': [{'score_0': 'spec',\n",
       "     'score_0_interval': (-0.0001, 0.0001),\n",
       "     'score_1': 'acc',\n",
       "     'score_1_interval': (-0.0001, 0.0001),\n",
       "     'target_score': 'sens',\n",
       "     'target_interval': (-0.0001, 0.0001),\n",
       "     'solution': {'tn': (-0.0551, 0.0551), 'tp': (-0.1613, 0.1613)},\n",
       "     'consistency': True,\n",
       "     'explanation': 'the target score interval ((-0.0001, 0.0001)) and the reconstructed intervals ((-0.0003156555772994129, 0.0003156555772994129)) do not intersect',\n",
       "     'target_interval_reconstructed': (-0.0003156555772994129, 0.0003156555772994129)}],\n",
       "   'consistency': True},\n",
       "  {'details': [{'score_0': 'spec',\n",
       "     'score_0_interval': (-0.0001, 0.0001),\n",
       "     'score_1': 'acc',\n",
       "     'score_1_interval': (-0.0001, 0.0001),\n",
       "     'target_score': 'ppv',\n",
       "     'target_interval': (-0.0001, 0.0001),\n",
       "     'solution': {'tn': (-0.0551, 0.0551), 'tp': (-0.1613, 0.1613)},\n",
       "     'consistency': True,\n",
       "     'explanation': 'the target score interval ((-0.0001, 0.0001)) and the reconstructed intervals ((-0.0002928554880719034, 0.0002928554880719034)) do not intersect',\n",
       "     'target_interval_reconstructed': (-0.0002928554880719034, 0.0002928554880719034)}],\n",
       "   'consistency': True},\n",
       "  {'details': [{'score_0': 'spec',\n",
       "     'score_0_interval': (-0.0001, 0.0001),\n",
       "     'score_1': 'ppv',\n",
       "     'score_1_interval': (-0.0001, 0.0001),\n",
       "     'target_score': 'sens',\n",
       "     'target_interval': (-0.0001, 0.0001),\n",
       "     'solution': {'tn': (-0.0551, 0.0551),\n",
       "      'tp': (-0.05511102110211021, 0.05511102110211021)},\n",
       "     'consistency': True,\n",
       "     'explanation': 'the target score interval ((-0.0001, 0.0001)) and the reconstructed intervals ((-0.00010784935636420785, 0.00010784935636420785)) do not intersect',\n",
       "     'target_interval_reconstructed': (-0.00010784935636420785, 0.00010784935636420785)}],\n",
       "   'consistency': True},\n",
       "  {'details': [{'score_0': 'spec',\n",
       "     'score_0_interval': (-0.0001, 0.0001),\n",
       "     'score_1': 'ppv',\n",
       "     'score_1_interval': (-0.0001, 0.0001),\n",
       "     'target_score': 'acc',\n",
       "     'target_interval': (-0.0001, 0.0001),\n",
       "     'solution': {'tn': (-0.0551, 0.0551),\n",
       "      'tp': (-0.05511102110211021, 0.05511102110211021)},\n",
       "     'consistency': True,\n",
       "     'explanation': 'the target score interval ((-0.0001, 0.0001)) and the reconstructed intervals ((-0.00010377685602835237, 0.00010377685602835237)) do not intersect',\n",
       "     'target_interval_reconstructed': (-0.00010377685602835237, 0.00010377685602835237)}],\n",
       "   'consistency': True},\n",
       "  {'details': [{'score_0': 'acc',\n",
       "     'score_0_interval': (-0.0001, 0.0001),\n",
       "     'score_1': 'ppv',\n",
       "     'score_1_interval': (-0.0001, 0.0001),\n",
       "     'target_score': 'sens',\n",
       "     'target_interval': (-0.0001, 0.0001),\n",
       "     'solution': {'tp': (-0.05512164432886577, 0.05512164432886577),\n",
       "      'tn': (-0.16134288857771556, 0.16134288857771556)},\n",
       "     'consistency': True,\n",
       "     'explanation': 'the target score interval ((-0.0001, 0.0001)) and the reconstructed intervals ((-0.00010787014545766296, 0.00010787014545766296)) do not intersect',\n",
       "     'target_interval_reconstructed': (-0.00010787014545766296, 0.00010787014545766296)}],\n",
       "   'consistency': True},\n",
       "  {'details': [{'score_0': 'acc',\n",
       "     'score_0_interval': (-0.0001, 0.0001),\n",
       "     'score_1': 'ppv',\n",
       "     'score_1_interval': (-0.0001, 0.0001),\n",
       "     'target_score': 'spec',\n",
       "     'target_interval': (-0.0001, 0.0001),\n",
       "     'solution': {'tp': (-0.05512164432886577, 0.05512164432886577),\n",
       "      'tn': (-0.16134288857771556, 0.16134288857771556)},\n",
       "     'consistency': True,\n",
       "     'explanation': 'the target score interval ((-0.0001, 0.0001)) and the reconstructed intervals ((-0.00029281830957843117, 0.00029281830957843117)) do not intersect',\n",
       "     'target_interval_reconstructed': (-0.00029281830957843117, 0.00029281830957843117)}],\n",
       "   'consistency': True}],\n",
       " 'failed': [],\n",
       " 'overall_consistency': True}"
      ]
     },
     "execution_count": 14,
     "metadata": {},
     "output_type": "execute_result"
    }
   ],
   "source": [
    "check(scores, p=problem['p'], n=problem['n'], eps=eps)"
   ]
  },
  {
   "cell_type": "code",
   "execution_count": 15,
   "metadata": {},
   "outputs": [
    {
     "name": "stderr",
     "output_type": "stream",
     "text": [
      "2023-08-12 16:15:09,037:INFO:checking sens and spec against acc\n",
      "2023-08-12 16:15:09,038:INFO:checking sens and spec against ppv\n",
      "2023-08-12 16:15:09,039:INFO:checking sens and acc against spec\n",
      "2023-08-12 16:15:09,040:INFO:checking sens and acc against ppv\n",
      "2023-08-12 16:15:09,041:INFO:checking sens and ppv against spec\n",
      "2023-08-12 16:15:09,041:INFO:checking sens and ppv against acc\n",
      "2023-08-12 16:15:09,042:INFO:checking spec and acc against sens\n",
      "2023-08-12 16:15:09,043:INFO:checking spec and acc against ppv\n",
      "2023-08-12 16:15:09,044:INFO:checking spec and ppv against sens\n",
      "2023-08-12 16:15:09,044:INFO:checking spec and ppv against acc\n",
      "2023-08-12 16:15:09,045:INFO:checking acc and ppv against sens\n",
      "2023-08-12 16:15:09,046:INFO:checking acc and ppv against spec\n"
     ]
    },
    {
     "data": {
      "text/plain": [
       "{'succeeded': [{'details': [{'score_0': 'sens',\n",
       "     'score_0_interval': (-0.0001, 0.0001),\n",
       "     'score_1': 'spec',\n",
       "     'score_1_interval': (-0.0001, 0.0001),\n",
       "     'target_score': 'acc',\n",
       "     'target_interval': (-0.0001, 0.0001),\n",
       "     'solution': {'tp': (-0.2, 0.2), 'tn': (-0.0551, 0.0551)},\n",
       "     'consistency': True,\n",
       "     'explanation': 'the target score interval ((-0.0001, 0.0001)) and the reconstructed intervals ((-9.999999999999999e-05, 9.999999999999999e-05)) do not intersect',\n",
       "     'target_interval_reconstructed': (-9.999999999999999e-05, 9.999999999999999e-05)}],\n",
       "   'consistency': True},\n",
       "  {'details': [{'score_0': 'sens',\n",
       "     'score_0_interval': (-0.0001, 0.0001),\n",
       "     'score_1': 'spec',\n",
       "     'score_1_interval': (-0.0001, 0.0001),\n",
       "     'target_score': 'ppv',\n",
       "     'target_interval': (-0.0001, 0.0001),\n",
       "     'solution': {'tp': (-0.2, 0.2), 'tn': (-0.0551, 0.0551)},\n",
       "     'consistency': True,\n",
       "     'explanation': 'the target score interval ((-0.0001, 0.0001)) and the reconstructed intervals ((-0.0003631445338849258, 0.0003631445338849258)) do not intersect',\n",
       "     'target_interval_reconstructed': (-0.0003631445338849258, 0.0003631445338849258)}],\n",
       "   'consistency': True},\n",
       "  {'details': [{'score_0': 'sens',\n",
       "     'score_0_interval': (-0.0001, 0.0001),\n",
       "     'score_1': 'acc',\n",
       "     'score_1_interval': (-0.0001, 0.0001),\n",
       "     'target_score': 'spec',\n",
       "     'target_interval': (-0.0001, 0.0001),\n",
       "     'solution': {'tp': (-0.2, 0.2), 'tn': (-0.4551, 0.4551)},\n",
       "     'consistency': True,\n",
       "     'explanation': 'the target score interval ((-0.0001, 0.0001)) and the reconstructed intervals ((-0.0008259528130671506, 0.0008259528130671506)) do not intersect',\n",
       "     'target_interval_reconstructed': (-0.0008259528130671506, 0.0008259528130671506)}],\n",
       "   'consistency': True},\n",
       "  {'details': [{'score_0': 'sens',\n",
       "     'score_0_interval': (-0.0001, 0.0001),\n",
       "     'score_1': 'acc',\n",
       "     'score_1_interval': (-0.0001, 0.0001),\n",
       "     'target_score': 'ppv',\n",
       "     'target_interval': (-0.0001, 0.0001),\n",
       "     'solution': {'tp': (-0.2, 0.2), 'tn': (-0.4551, 0.4551)},\n",
       "     'consistency': True,\n",
       "     'explanation': 'the target score interval ((-0.0001, 0.0001)) and the reconstructed intervals ((-0.0003634084734863538, 0.0003634084734863538)) do not intersect',\n",
       "     'target_interval_reconstructed': (-0.0003634084734863538, 0.0003634084734863538)}],\n",
       "   'consistency': True},\n",
       "  {'details': [{'score_0': 'sens',\n",
       "     'score_0_interval': (-0.0001, 0.0001),\n",
       "     'score_1': 'ppv',\n",
       "     'score_1_interval': (-0.0001, 0.0001),\n",
       "     'target_score': 'spec',\n",
       "     'target_interval': (-0.0001, 0.0001),\n",
       "     'solution': {'tp': None,\n",
       "      'tn': None,\n",
       "      'message': 'zero division',\n",
       "      'denominator': {'ppv': (-0.0001, 0.0001)}},\n",
       "     'consistency': True,\n",
       "     'explanation': 'zero division indicates an underdetermined system'}],\n",
       "   'consistency': True},\n",
       "  {'details': [{'score_0': 'sens',\n",
       "     'score_0_interval': (-0.0001, 0.0001),\n",
       "     'score_1': 'ppv',\n",
       "     'score_1_interval': (-0.0001, 0.0001),\n",
       "     'target_score': 'acc',\n",
       "     'target_interval': (-0.0001, 0.0001),\n",
       "     'solution': {'tp': None,\n",
       "      'tn': None,\n",
       "      'message': 'zero division',\n",
       "      'denominator': {'ppv': (-0.0001, 0.0001)}},\n",
       "     'consistency': True,\n",
       "     'explanation': 'zero division indicates an underdetermined system'}],\n",
       "   'consistency': True},\n",
       "  {'details': [{'score_0': 'spec',\n",
       "     'score_0_interval': (-0.0001, 0.0001),\n",
       "     'score_1': 'acc',\n",
       "     'score_1_interval': (-0.0001, 0.0001),\n",
       "     'target_score': 'sens',\n",
       "     'target_interval': (-0.0001, 0.0001),\n",
       "     'solution': {'tn': (-0.0551, 0.0551), 'tp': (-0.3102, 0.3102)},\n",
       "     'consistency': True,\n",
       "     'explanation': 'the target score interval ((-0.0001, 0.0001)) and the reconstructed intervals ((-0.00015509999999999998, 0.00015509999999999998)) do not intersect',\n",
       "     'target_interval_reconstructed': (-0.00015509999999999998, 0.00015509999999999998)}],\n",
       "   'consistency': True},\n",
       "  {'details': [{'score_0': 'spec',\n",
       "     'score_0_interval': (-0.0001, 0.0001),\n",
       "     'score_1': 'acc',\n",
       "     'score_1_interval': (-0.0001, 0.0001),\n",
       "     'target_score': 'ppv',\n",
       "     'target_interval': (-0.0001, 0.0001),\n",
       "     'solution': {'tn': (-0.0551, 0.0551), 'tp': (-0.3102, 0.3102)},\n",
       "     'consistency': True,\n",
       "     'explanation': 'the target score interval ((-0.0001, 0.0001)) and the reconstructed intervals ((-0.0005633498942220677, 0.0005633498942220677)) do not intersect',\n",
       "     'target_interval_reconstructed': (-0.0005633498942220677, 0.0005633498942220677)}],\n",
       "   'consistency': True},\n",
       "  {'details': [{'score_0': 'spec',\n",
       "     'score_0_interval': (-0.0001, 0.0001),\n",
       "     'score_1': 'ppv',\n",
       "     'score_1_interval': (-0.0001, 0.0001),\n",
       "     'target_score': 'sens',\n",
       "     'target_interval': (-0.0001, 0.0001),\n",
       "     'solution': {'tn': (-0.0551, 0.0551),\n",
       "      'tp': (-0.05511102110211021, 0.05511102110211021)},\n",
       "     'consistency': True,\n",
       "     'explanation': 'the target score interval ((-0.0001, 0.0001)) and the reconstructed intervals ((-2.7555510551055107e-05, 2.7555510551055107e-05)) do not intersect',\n",
       "     'target_interval_reconstructed': (-2.7555510551055107e-05, 2.7555510551055107e-05)}],\n",
       "   'consistency': True},\n",
       "  {'details': [{'score_0': 'spec',\n",
       "     'score_0_interval': (-0.0001, 0.0001),\n",
       "     'score_1': 'ppv',\n",
       "     'score_1_interval': (-0.0001, 0.0001),\n",
       "     'target_score': 'acc',\n",
       "     'target_interval': (-0.0001, 0.0001),\n",
       "     'solution': {'tn': (-0.0551, 0.0551),\n",
       "      'tp': (-0.05511102110211021, 0.05511102110211021)},\n",
       "     'consistency': True,\n",
       "     'explanation': 'the target score interval ((-0.0001, 0.0001)) and the reconstructed intervals ((-4.320306589655438e-05, 4.320306589655438e-05)) do not intersect',\n",
       "     'target_interval_reconstructed': (-4.320306589655438e-05, 4.320306589655438e-05)}],\n",
       "   'consistency': True},\n",
       "  {'details': [{'score_0': 'acc',\n",
       "     'score_0_interval': (-0.0001, 0.0001),\n",
       "     'score_1': 'ppv',\n",
       "     'score_1_interval': (-0.0001, 0.0001),\n",
       "     'target_score': 'sens',\n",
       "     'target_interval': (-0.0001, 0.0001),\n",
       "     'solution': {'tp': (-0.05513653730746149, 0.05513653730746149),\n",
       "      'tn': (-0.31028756751350267, 0.31028756751350267)},\n",
       "     'consistency': True,\n",
       "     'explanation': 'the target score interval ((-0.0001, 0.0001)) and the reconstructed intervals ((-2.7568268653730746e-05, 2.7568268653730746e-05)) do not intersect',\n",
       "     'target_interval_reconstructed': (-2.7568268653730746e-05, 2.7568268653730746e-05)}],\n",
       "   'consistency': True},\n",
       "  {'details': [{'score_0': 'acc',\n",
       "     'score_0_interval': (-0.0001, 0.0001),\n",
       "     'score_1': 'ppv',\n",
       "     'score_1_interval': (-0.0001, 0.0001),\n",
       "     'target_score': 'spec',\n",
       "     'target_interval': (-0.0001, 0.0001),\n",
       "     'solution': {'tp': (-0.05513653730746149, 0.05513653730746149),\n",
       "      'tn': (-0.31028756751350267, 0.31028756751350267)},\n",
       "     'consistency': True,\n",
       "     'explanation': 'the target score interval ((-0.0001, 0.0001)) and the reconstructed intervals ((-0.0005631353312404768, 0.0005631353312404768)) do not intersect',\n",
       "     'target_interval_reconstructed': (-0.0005631353312404768, 0.0005631353312404768)}],\n",
       "   'consistency': True}],\n",
       " 'failed': [],\n",
       " 'overall_consistency': True}"
      ]
     },
     "execution_count": 15,
     "metadata": {},
     "output_type": "execute_result"
    }
   ],
   "source": [
    "check(scores, p=2000, n=problem['n'], eps=eps)"
   ]
  },
  {
   "cell_type": "code",
   "execution_count": null,
   "metadata": {},
   "outputs": [],
   "source": []
  }
 ],
 "metadata": {
  "kernelspec": {
   "display_name": "mlscorecheck",
   "language": "python",
   "name": "python3"
  },
  "language_info": {
   "codemirror_mode": {
    "name": "ipython",
    "version": 3
   },
   "file_extension": ".py",
   "mimetype": "text/x-python",
   "name": "python",
   "nbconvert_exporter": "python",
   "pygments_lexer": "ipython3",
   "version": "3.10.0"
  },
  "orig_nbformat": 4
 },
 "nbformat": 4,
 "nbformat_minor": 2
}
