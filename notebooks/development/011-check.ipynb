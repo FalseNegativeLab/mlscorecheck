{
 "cells": [
  {
   "cell_type": "code",
   "execution_count": 1,
   "metadata": {},
   "outputs": [],
   "source": [
    "import numpy as np\n",
    "\n",
    "from mlscorecheck.core import (check, check_2v1)\n",
    "from mlscorecheck.utils import (generate_problem,\n",
    "                                generate_problem_tp0)\n",
    "from mlscorecheck.core import (sensitivity, specificity, accuracy,\n",
    "                                positive_predictive_value)\n",
    "from mlscorecheck.core import Interval, IntervalUnion\n",
    "from mlscorecheck.core import load_solutions"
   ]
  },
  {
   "cell_type": "code",
   "execution_count": 2,
   "metadata": {},
   "outputs": [],
   "source": [
    "int0 = Interval(0, 1)\n",
    "int1 = Interval(-1, 1)\n",
    "int2 = Interval(-2, -1)"
   ]
  },
  {
   "cell_type": "code",
   "execution_count": 3,
   "metadata": {},
   "outputs": [],
   "source": [
    "iu = IntervalUnion([int0, int1, int2])"
   ]
  },
  {
   "cell_type": "code",
   "execution_count": null,
   "metadata": {},
   "outputs": [],
   "source": [
    "solutions = load_solutions()"
   ]
  },
  {
   "cell_type": "code",
   "execution_count": null,
   "metadata": {},
   "outputs": [],
   "source": [
    "problem = generate_problem()"
   ]
  },
  {
   "cell_type": "code",
   "execution_count": null,
   "metadata": {},
   "outputs": [
    {
     "data": {
      "text/plain": [
       "{'p': 184, 'n': 372, 'tp': 89, 'tn': 239, 'fp': 133, 'fn': 95}"
      ]
     },
     "execution_count": 4,
     "metadata": {},
     "output_type": "execute_result"
    }
   ],
   "source": [
    "problem"
   ]
  },
  {
   "cell_type": "code",
   "execution_count": null,
   "metadata": {},
   "outputs": [],
   "source": [
    "k = 4\n",
    "eps = 10**(-k)"
   ]
  },
  {
   "cell_type": "code",
   "execution_count": null,
   "metadata": {},
   "outputs": [],
   "source": [
    "scores = {'sens': sensitivity(tp=problem['tp'], p=problem['p']),\n",
    "            'spec': specificity(tn=problem['tn'], n=problem['n']),\n",
    "            'acc': accuracy(tp=problem['tp'], tn=problem['tn'], p=problem['p'], n=problem['n']),\n",
    "            'ppv': positive_predictive_value(tp=problem['tp'], fp=problem['fp'])}"
   ]
  },
  {
   "cell_type": "code",
   "execution_count": null,
   "metadata": {},
   "outputs": [
    {
     "data": {
      "text/plain": [
       "{'sens': 0.483695652173913,\n",
       " 'spec': 0.6424731182795699,\n",
       " 'acc': 0.5899280575539568,\n",
       " 'ppv': 0.4009009009009009}"
      ]
     },
     "execution_count": 7,
     "metadata": {},
     "output_type": "execute_result"
    }
   ],
   "source": [
    "scores"
   ]
  },
  {
   "cell_type": "code",
   "execution_count": null,
   "metadata": {},
   "outputs": [],
   "source": [
    "for score in scores:\n",
    "    scores[score] = np.round(scores[score], k)"
   ]
  },
  {
   "cell_type": "code",
   "execution_count": null,
   "metadata": {},
   "outputs": [],
   "source": [
    "solution = solutions[('sens', 'spec')]"
   ]
  },
  {
   "cell_type": "code",
   "execution_count": null,
   "metadata": {},
   "outputs": [
    {
     "data": {
      "text/plain": [
       "[{'formula': {'tp': 'p*sens', 'tn': 'n*spec'},\n",
       "  'results': {'tp': 812.0015999999999,\n",
       "   'tn': 574.9744000000001,\n",
       "   'message': None}}]"
      ]
     },
     "execution_count": 10,
     "metadata": {},
     "output_type": "execute_result"
    }
   ],
   "source": [
    "solution.evaluate({'sens': 0.8432, 'spec': 0.9334, 'p': 963, 'n': 616})"
   ]
  },
  {
   "cell_type": "code",
   "execution_count": null,
   "metadata": {},
   "outputs": [
    {
     "data": {
      "text/plain": [
       "[{'formula': {'tp': 'p*sens', 'tn': 'n*spec'},\n",
       "  'results': {'tp': (10.1172, 10.119599999999998),\n",
       "   'tn': (574.9128000000001, 575.036),\n",
       "   'message': None}}]"
      ]
     },
     "execution_count": 11,
     "metadata": {},
     "output_type": "execute_result"
    }
   ],
   "source": [
    "solution.evaluate({'sens': Interval(0.8432-eps, 0.8432+eps),\n",
    "                    'spec': Interval(0.9334-eps, 0.9334+eps),\n",
    "                    'p': 12,\n",
    "                    'n': 616})"
   ]
  },
  {
   "cell_type": "code",
   "execution_count": null,
   "metadata": {},
   "outputs": [
    {
     "name": "stderr",
     "output_type": "stream",
     "text": [
      "2023-08-09 11:16:46,180:INFO:checking sens and spec against acc\n",
      "2023-08-09 11:16:46,182:INFO:checking sens and spec against ppv\n",
      "2023-08-09 11:16:46,184:INFO:checking sens and acc against spec\n",
      "2023-08-09 11:16:46,185:INFO:checking sens and acc against ppv\n",
      "2023-08-09 11:16:46,187:INFO:checking sens and ppv against spec\n",
      "2023-08-09 11:16:46,189:INFO:checking sens and ppv against acc\n",
      "2023-08-09 11:16:46,191:INFO:checking spec and acc against sens\n",
      "2023-08-09 11:16:46,193:INFO:checking spec and acc against ppv\n",
      "2023-08-09 11:16:46,194:INFO:checking spec and ppv against sens\n",
      "2023-08-09 11:16:46,196:INFO:checking spec and ppv against acc\n",
      "2023-08-09 11:16:46,197:INFO:checking acc and ppv against sens\n",
      "2023-08-09 11:16:46,199:INFO:checking acc and ppv against spec\n"
     ]
    },
    {
     "name": "stdout",
     "output_type": "stream",
     "text": [
      "{'sens': (0.48360000000000003, 0.4838), 'spec': (0.6424, 0.6426), 'acc': (0.5898, 0.59), 'ppv': (0.4008, 0.40099999999999997)}\n",
      "[{'formula': {'tp': 'p*sens', 'tn': 'n*spec'}, 'results': {'tp': (88.98240000000001, 89.0192), 'tn': (238.97279999999998, 239.04719999999998), 'message': None}}]\n",
      "[{'formula': {'tp': 'p*sens', 'tn': 'n*spec'}, 'results': {'tp': (88.98240000000001, 89.0192), 'tn': (238.97279999999998, 239.04719999999998), 'message': None}}]\n",
      "[{'formula': {'tp': 'p*sens', 'tn': 'acc*n + acc*p - p*sens'}, 'results': {'tp': (88.98240000000001, 89.0192), 'tn': (238.9096, 239.05759999999995), 'message': None}}]\n",
      "[{'formula': {'tp': 'p*sens', 'tn': 'acc*n + acc*p - p*sens'}, 'results': {'tp': (88.98240000000001, 89.0192), 'tn': (238.9096, 239.05759999999995), 'message': None}}]\n",
      "[{'formula': {'tp': 'p*sens', 'tn': 'n + p*sens - p*sens/ppv'}, 'results': {'tp': (88.98240000000001, 89.0192), 'tn': (238.87860758483032, 239.11795311720695), 'message': None}}]\n",
      "[{'formula': {'tp': 'p*sens', 'tn': 'n + p*sens - p*sens/ppv'}, 'results': {'tp': (88.98240000000001, 89.0192), 'tn': (238.87860758483032, 239.11795311720695), 'message': None}}]\n",
      "[{'formula': {'tn': 'n*spec', 'tp': 'acc*n + acc*p - n*spec'}, 'results': {'tn': (238.97279999999998, 239.04719999999998), 'tp': (88.88160000000005, 89.06719999999999), 'message': None}}]\n",
      "[{'formula': {'tn': 'n*spec', 'tp': 'acc*n + acc*p - n*spec'}, 'results': {'tn': (238.97279999999998, 239.04719999999998), 'tp': (88.88160000000005, 89.06719999999999), 'message': None}}]\n",
      "[{'formula': {'tn': 'n*spec', 'tp': 'n*ppv*(spec - 1)/(ppv - 1)'}, 'results': {'tn': (238.97279999999998, 239.04719999999998), 'tp': (88.9310451268358, 89.05493689482472), 'message': None}}]\n",
      "[{'formula': {'tn': 'n*spec', 'tp': 'n*ppv*(spec - 1)/(ppv - 1)'}, 'results': {'tn': (238.97279999999998, 239.04719999999998), 'tp': (88.9310451268358, 89.05493689482472), 'message': None}}]\n",
      "[{'formula': {'tp': 'ppv*(acc*n + acc*p - n)/(2*ppv - 1)', 'tn': '(acc*n*ppv - acc*n + acc*p*ppv - acc*p + n*ppv)/(2*ppv - 1)'}, 'results': {'tp': (88.80629032258071, 89.25530909090902), 'tn': (237.96754032258065, 239.9421058585856), 'message': None}}]\n",
      "[{'formula': {'tp': 'ppv*(acc*n + acc*p - n)/(2*ppv - 1)', 'tn': '(acc*n*ppv - acc*n + acc*p*ppv - acc*p + n*ppv)/(2*ppv - 1)'}, 'results': {'tp': (88.80629032258071, 89.25530909090902), 'tn': (237.96754032258065, 239.9421058585856), 'message': None}}]\n"
     ]
    },
    {
     "data": {
      "text/plain": [
       "{'succeeded': [{'details': [{'base_score_0': 'sens',\n",
       "     'base_score_0_interval': (0.48360000000000003, 0.4838),\n",
       "     'base_score_1': 'spec',\n",
       "     'base_score_1_interval': (0.6424, 0.6426),\n",
       "     'target_score': 'acc',\n",
       "     'target_interval': (0.5898, 0.59),\n",
       "     'solution': {'formula': {'tp': 'p*sens', 'tn': 'n*spec'},\n",
       "      'results': {'tp': (88.98240000000001, 89.0192),\n",
       "       'tn': (238.97279999999998, 239.04719999999998),\n",
       "       'message': None}},\n",
       "     'consistency': True,\n",
       "     'target_interval_reconstructed': (0.5898474820143885, 0.5900474820143885),\n",
       "     'explanation': 'the intervals do intersect'}],\n",
       "   'consistency': True},\n",
       "  {'details': [{'base_score_0': 'sens',\n",
       "     'base_score_0_interval': (0.48360000000000003, 0.4838),\n",
       "     'base_score_1': 'spec',\n",
       "     'base_score_1_interval': (0.6424, 0.6426),\n",
       "     'target_score': 'ppv',\n",
       "     'target_interval': (0.4008, 0.40099999999999997),\n",
       "     'solution': {'formula': {'tp': 'p*sens', 'tn': 'n*spec'},\n",
       "      'results': {'tp': (88.98240000000001, 89.0192),\n",
       "       'tn': (238.97279999999998, 239.04719999999998),\n",
       "       'message': None}},\n",
       "     'consistency': True,\n",
       "     'target_interval_reconstructed': (0.4007378637978369,\n",
       "      0.40110446652896875),\n",
       "     'explanation': 'the intervals do intersect'}],\n",
       "   'consistency': True},\n",
       "  {'details': [{'base_score_0': 'sens',\n",
       "     'base_score_0_interval': (0.48360000000000003, 0.4838),\n",
       "     'base_score_1': 'acc',\n",
       "     'base_score_1_interval': (0.5898, 0.59),\n",
       "     'target_score': 'spec',\n",
       "     'target_interval': (0.6424, 0.6426),\n",
       "     'solution': {'formula': {'tp': 'p*sens', 'tn': 'acc*n + acc*p - p*sens'},\n",
       "      'results': {'tp': (88.98240000000001, 89.0192),\n",
       "       'tn': (238.9096, 239.05759999999995),\n",
       "       'message': None}},\n",
       "     'consistency': True,\n",
       "     'target_interval_reconstructed': (0.6422301075268817, 0.6426279569892471),\n",
       "     'explanation': 'the intervals do intersect'}],\n",
       "   'consistency': True},\n",
       "  {'details': [{'base_score_0': 'sens',\n",
       "     'base_score_0_interval': (0.48360000000000003, 0.4838),\n",
       "     'base_score_1': 'acc',\n",
       "     'base_score_1_interval': (0.5898, 0.59),\n",
       "     'target_score': 'ppv',\n",
       "     'target_interval': (0.4008, 0.40099999999999997),\n",
       "     'solution': {'formula': {'tp': 'p*sens', 'tn': 'acc*n + acc*p - p*sens'},\n",
       "      'results': {'tp': (88.98240000000001, 89.0192),\n",
       "       'tn': (238.9096, 239.05759999999995),\n",
       "       'message': None}},\n",
       "     'consistency': True,\n",
       "     'target_interval_reconstructed': (0.400623836160166, 0.4011232633757019),\n",
       "     'explanation': 'the intervals do intersect'}],\n",
       "   'consistency': True},\n",
       "  {'details': [{'base_score_0': 'sens',\n",
       "     'base_score_0_interval': (0.48360000000000003, 0.4838),\n",
       "     'base_score_1': 'ppv',\n",
       "     'base_score_1_interval': (0.4008, 0.40099999999999997),\n",
       "     'target_score': 'spec',\n",
       "     'target_interval': (0.6424, 0.6426),\n",
       "     'solution': {'formula': {'tp': 'p*sens', 'tn': 'n + p*sens - p*sens/ppv'},\n",
       "      'results': {'tp': (88.98240000000001, 89.0192),\n",
       "       'tn': (238.87860758483032, 239.11795311720695),\n",
       "       'message': None}},\n",
       "     'consistency': True,\n",
       "     'target_interval_reconstructed': (0.6421467945828772, 0.6427901965516316),\n",
       "     'explanation': 'the intervals do intersect'}],\n",
       "   'consistency': True},\n",
       "  {'details': [{'base_score_0': 'sens',\n",
       "     'base_score_0_interval': (0.48360000000000003, 0.4838),\n",
       "     'base_score_1': 'ppv',\n",
       "     'base_score_1_interval': (0.4008, 0.40099999999999997),\n",
       "     'target_score': 'acc',\n",
       "     'target_interval': (0.5898, 0.59),\n",
       "     'solution': {'formula': {'tp': 'p*sens', 'tn': 'n + p*sens - p*sens/ppv'},\n",
       "      'results': {'tp': (88.98240000000001, 89.0192),\n",
       "       'tn': (238.87860758483032, 239.11795311720695),\n",
       "       'message': None}},\n",
       "     'consistency': True,\n",
       "     'target_interval_reconstructed': (0.589678071195738, 0.5901747358223146),\n",
       "     'explanation': 'the intervals do intersect'}],\n",
       "   'consistency': True},\n",
       "  {'details': [{'base_score_0': 'spec',\n",
       "     'base_score_0_interval': (0.6424, 0.6426),\n",
       "     'base_score_1': 'acc',\n",
       "     'base_score_1_interval': (0.5898, 0.59),\n",
       "     'target_score': 'sens',\n",
       "     'target_interval': (0.48360000000000003, 0.4838),\n",
       "     'solution': {'formula': {'tn': 'n*spec', 'tp': 'acc*n + acc*p - n*spec'},\n",
       "      'results': {'tn': (238.97279999999998, 239.04719999999998),\n",
       "       'tp': (88.88160000000005, 89.06719999999999),\n",
       "       'message': None}},\n",
       "     'consistency': True,\n",
       "     'target_interval_reconstructed': (0.4830521739130437, 0.4840608695652173),\n",
       "     'explanation': 'the intervals do intersect'}],\n",
       "   'consistency': True},\n",
       "  {'details': [{'base_score_0': 'spec',\n",
       "     'base_score_0_interval': (0.6424, 0.6426),\n",
       "     'base_score_1': 'acc',\n",
       "     'base_score_1_interval': (0.5898, 0.59),\n",
       "     'target_score': 'ppv',\n",
       "     'target_interval': (0.4008, 0.40099999999999997),\n",
       "     'solution': {'formula': {'tn': 'n*spec', 'tp': 'acc*n + acc*p - n*spec'},\n",
       "      'results': {'tn': (238.97279999999998, 239.04719999999998),\n",
       "       'tp': (88.88160000000005, 89.06719999999999),\n",
       "       'message': None}},\n",
       "     'consistency': True,\n",
       "     'target_interval_reconstructed': (0.40019739354076483,\n",
       "      0.4015031032157319),\n",
       "     'explanation': 'the intervals do intersect'}],\n",
       "   'consistency': True},\n",
       "  {'details': [{'base_score_0': 'spec',\n",
       "     'base_score_0_interval': (0.6424, 0.6426),\n",
       "     'base_score_1': 'ppv',\n",
       "     'base_score_1_interval': (0.4008, 0.40099999999999997),\n",
       "     'target_score': 'sens',\n",
       "     'target_interval': (0.48360000000000003, 0.4838),\n",
       "     'solution': {'formula': {'tn': 'n*spec',\n",
       "       'tp': 'n*ppv*(spec - 1)/(ppv - 1)'},\n",
       "      'results': {'tn': (238.97279999999998, 239.04719999999998),\n",
       "       'tp': (88.9310451268358, 89.05493689482472),\n",
       "       'message': None}},\n",
       "     'consistency': True,\n",
       "     'target_interval_reconstructed': (0.4833208974284554, 0.4839942222544822),\n",
       "     'explanation': 'the intervals do intersect'}],\n",
       "   'consistency': True},\n",
       "  {'details': [{'base_score_0': 'spec',\n",
       "     'base_score_0_interval': (0.6424, 0.6426),\n",
       "     'base_score_1': 'ppv',\n",
       "     'base_score_1_interval': (0.4008, 0.40099999999999997),\n",
       "     'target_score': 'acc',\n",
       "     'target_interval': (0.5898, 0.59),\n",
       "     'solution': {'formula': {'tn': 'n*spec',\n",
       "       'tp': 'n*ppv*(spec - 1)/(ppv - 1)'},\n",
       "      'results': {'tn': (238.97279999999998, 239.04719999999998),\n",
       "       'tp': (88.9310451268358, 89.05493689482472),\n",
       "       'message': None}},\n",
       "     'consistency': True,\n",
       "     'target_interval_reconstructed': (0.5897551171345967, 0.5901117570050803),\n",
       "     'explanation': 'the intervals do intersect'}],\n",
       "   'consistency': True},\n",
       "  {'details': [{'base_score_0': 'acc',\n",
       "     'base_score_0_interval': (0.5898, 0.59),\n",
       "     'base_score_1': 'ppv',\n",
       "     'base_score_1_interval': (0.4008, 0.40099999999999997),\n",
       "     'target_score': 'sens',\n",
       "     'target_interval': (0.48360000000000003, 0.4838),\n",
       "     'solution': {'formula': {'tp': 'ppv*(acc*n + acc*p - n)/(2*ppv - 1)',\n",
       "       'tn': '(acc*n*ppv - acc*n + acc*p*ppv - acc*p + n*ppv)/(2*ppv - 1)'},\n",
       "      'results': {'tp': (88.80629032258071, 89.25530909090902),\n",
       "       'tn': (237.96754032258065, 239.9421058585856),\n",
       "       'message': None}},\n",
       "     'consistency': True,\n",
       "     'target_interval_reconstructed': (0.4826428821879386, 0.4850832015810273),\n",
       "     'explanation': 'the intervals do intersect'}],\n",
       "   'consistency': True},\n",
       "  {'details': [{'base_score_0': 'acc',\n",
       "     'base_score_0_interval': (0.5898, 0.59),\n",
       "     'base_score_1': 'ppv',\n",
       "     'base_score_1_interval': (0.4008, 0.40099999999999997),\n",
       "     'target_score': 'spec',\n",
       "     'target_interval': (0.6424, 0.6426),\n",
       "     'solution': {'formula': {'tp': 'ppv*(acc*n + acc*p - n)/(2*ppv - 1)',\n",
       "       'tn': '(acc*n*ppv - acc*n + acc*p*ppv - acc*p + n*ppv)/(2*ppv - 1)'},\n",
       "      'results': {'tp': (88.80629032258071, 89.25530909090902),\n",
       "       'tn': (237.96754032258065, 239.9421058585856),\n",
       "       'message': None}},\n",
       "     'consistency': True,\n",
       "     'target_interval_reconstructed': (0.6396976890391953, 0.6450056609101763),\n",
       "     'explanation': 'the intervals do intersect'}],\n",
       "   'consistency': True}],\n",
       " 'failed': [],\n",
       " 'overall_consistency': True}"
      ]
     },
     "execution_count": 12,
     "metadata": {},
     "output_type": "execute_result"
    }
   ],
   "source": [
    "check(scores, p=problem['p'], n=problem['n'], eps=eps)"
   ]
  },
  {
   "cell_type": "code",
   "execution_count": null,
   "metadata": {},
   "outputs": [
    {
     "name": "stderr",
     "output_type": "stream",
     "text": [
      "2023-08-09 11:16:46,240:INFO:checking sens and spec against acc\n",
      "2023-08-09 11:16:46,243:INFO:checking sens and spec against ppv\n",
      "2023-08-09 11:16:46,245:INFO:checking sens and acc against spec\n",
      "2023-08-09 11:16:46,247:INFO:checking sens and acc against ppv\n",
      "2023-08-09 11:16:46,249:INFO:checking sens and ppv against spec\n",
      "2023-08-09 11:16:46,251:INFO:checking sens and ppv against acc\n",
      "2023-08-09 11:16:46,255:INFO:checking spec and acc against sens\n",
      "2023-08-09 11:16:46,257:INFO:checking spec and acc against ppv\n",
      "2023-08-09 11:16:46,259:INFO:checking spec and ppv against sens\n",
      "2023-08-09 11:16:46,261:INFO:checking spec and ppv against acc\n",
      "2023-08-09 11:16:46,263:INFO:checking acc and ppv against sens\n",
      "2023-08-09 11:16:46,264:INFO:checking acc and ppv against spec\n"
     ]
    },
    {
     "name": "stdout",
     "output_type": "stream",
     "text": [
      "{'sens': (0.48360000000000003, 0.4838), 'spec': (0.6424, 0.6426), 'acc': (0.5898, 0.59), 'ppv': (0.4008, 0.40099999999999997)}\n",
      "[{'formula': {'tp': 'p*sens', 'tn': 'n*spec'}, 'results': {'tp': (967.2, 967.6), 'tn': (238.97279999999998, 239.04719999999998), 'message': None}}]\n",
      "[{'formula': {'tp': 'p*sens', 'tn': 'n*spec'}, 'results': {'tp': (967.2, 967.6), 'tn': (238.97279999999998, 239.04719999999998), 'message': None}}]\n",
      "[{'formula': {'tp': 'p*sens', 'tn': 'acc*n + acc*p - p*sens'}, 'results': {'tp': (967.2, 967.6), 'tn': (431.40559999999994, 432.28), 'message': None}}]\n",
      "[{'formula': {'tp': 'p*sens', 'tn': 'acc*n + acc*p - p*sens'}, 'results': {'tp': (967.2, 967.6), 'tn': (431.40559999999994, 432.28), 'message': None}}]\n",
      "[{'formula': {'tp': 'p*sens', 'tn': 'n + p*sens - p*sens/ppv'}, 'results': {'tp': (967.2, 967.6), 'tn': (-1074.971656686627, -1072.3700748129677), 'message': None}}]\n",
      "[{'formula': {'tp': 'p*sens', 'tn': 'n + p*sens - p*sens/ppv'}, 'results': {'tp': (967.2, 967.6), 'tn': (-1074.971656686627, -1072.3700748129677), 'message': None}}]\n",
      "[{'formula': {'tn': 'n*spec', 'tp': 'acc*n + acc*p - n*spec'}, 'results': {'tn': (238.97279999999998, 239.04719999999998), 'tp': (1159.9584, 1160.5072), 'message': None}}]\n",
      "[{'formula': {'tn': 'n*spec', 'tp': 'acc*n + acc*p - n*spec'}, 'results': {'tn': (238.97279999999998, 239.04719999999998), 'tp': (1159.9584, 1160.5072), 'message': None}}]\n",
      "[{'formula': {'tn': 'n*spec', 'tp': 'n*ppv*(spec - 1)/(ppv - 1)'}, 'results': {'tn': (238.97279999999998, 239.04719999999998), 'tp': (88.9310451268358, 89.05493689482472), 'message': None}}]\n",
      "[{'formula': {'tn': 'n*spec', 'tp': 'n*ppv*(spec - 1)/(ppv - 1)'}, 'results': {'tn': (238.97279999999998, 239.04719999999998), 'tp': (88.9310451268358, 89.05493689482472), 'message': None}}]\n",
      "[{'formula': {'tp': 'ppv*(acc*n + acc*p - n)/(2*ppv - 1)', 'tn': '(acc*n*ppv - acc*n + acc*p*ppv - acc*p + n*ppv)/(2*ppv - 1)'}, 'results': {'tp': (-2080.906464646464, -2074.716958064516), 'tn': (3470.9784274193544, 3483.1361389898984), 'message': None}}]\n",
      "[{'formula': {'tp': 'ppv*(acc*n + acc*p - n)/(2*ppv - 1)', 'tn': '(acc*n*ppv - acc*n + acc*p*ppv - acc*p + n*ppv)/(2*ppv - 1)'}, 'results': {'tp': (-2080.906464646464, -2074.716958064516), 'tn': (3470.9784274193544, 3483.1361389898984), 'message': None}}]\n"
     ]
    },
    {
     "data": {
      "text/plain": [
       "{'succeeded': [],\n",
       " 'failed': [{'details': [{'base_score_0': 'sens',\n",
       "     'base_score_0_interval': (0.48360000000000003, 0.4838),\n",
       "     'base_score_1': 'spec',\n",
       "     'base_score_1_interval': (0.6424, 0.6426),\n",
       "     'target_score': 'acc',\n",
       "     'target_interval': (0.5898, 0.59),\n",
       "     'solution': {'formula': {'tp': 'p*sens', 'tn': 'n*spec'},\n",
       "      'results': {'tp': (967.2, 967.6),\n",
       "       'tn': (238.97279999999998, 239.04719999999998),\n",
       "       'message': None}},\n",
       "     'consistency': False,\n",
       "     'target_interval_reconstructed': (0.5085045531197302, 0.5087045531197302),\n",
       "     'explanation': 'the intervals do intersect'}],\n",
       "   'consistency': False},\n",
       "  {'details': [{'base_score_0': 'sens',\n",
       "     'base_score_0_interval': (0.48360000000000003, 0.4838),\n",
       "     'base_score_1': 'spec',\n",
       "     'base_score_1_interval': (0.6424, 0.6426),\n",
       "     'target_score': 'ppv',\n",
       "     'target_interval': (0.4008, 0.40099999999999997),\n",
       "     'solution': {'formula': {'tp': 'p*sens', 'tn': 'n*spec'},\n",
       "      'results': {'tp': (967.2, 967.6),\n",
       "       'tn': (238.97279999999998, 239.04719999999998),\n",
       "       'message': None}},\n",
       "     'consistency': False,\n",
       "     'target_interval_reconstructed': (0.8787716676455024, 0.8795141911196335),\n",
       "     'explanation': 'the intervals do intersect'}],\n",
       "   'consistency': False},\n",
       "  {'details': [{'base_score_0': 'sens',\n",
       "     'base_score_0_interval': (0.48360000000000003, 0.4838),\n",
       "     'base_score_1': 'acc',\n",
       "     'base_score_1_interval': (0.5898, 0.59),\n",
       "     'target_score': 'spec',\n",
       "     'target_interval': (0.6424, 0.6426),\n",
       "     'solution': {'formula': {'tp': 'p*sens', 'tn': 'acc*n + acc*p - p*sens'},\n",
       "      'results': {'tp': (967.2, 967.6),\n",
       "       'tn': (431.40559999999994, 432.28),\n",
       "       'message': None}},\n",
       "     'consistency': False,\n",
       "     'target_interval_reconstructed': (1.1596924731182794, 1.162043010752688),\n",
       "     'explanation': 'the intervals do intersect'}],\n",
       "   'consistency': False},\n",
       "  {'details': [{'base_score_0': 'sens',\n",
       "     'base_score_0_interval': (0.48360000000000003, 0.4838),\n",
       "     'base_score_1': 'acc',\n",
       "     'base_score_1_interval': (0.5898, 0.59),\n",
       "     'target_score': 'ppv',\n",
       "     'target_interval': (0.4008, 0.40099999999999997),\n",
       "     'solution': {'formula': {'tp': 'p*sens', 'tn': 'acc*n + acc*p - p*sens'},\n",
       "      'results': {'tp': (967.2, 967.6),\n",
       "       'tn': (431.40559999999994, 432.28),\n",
       "       'message': None}},\n",
       "     'consistency': False,\n",
       "     'target_interval_reconstructed': (1.0649702310430453, 1.0669077757685352),\n",
       "     'explanation': 'the intervals do intersect'}],\n",
       "   'consistency': False},\n",
       "  {'details': [{'base_score_0': 'sens',\n",
       "     'base_score_0_interval': (0.48360000000000003, 0.4838),\n",
       "     'base_score_1': 'ppv',\n",
       "     'base_score_1_interval': (0.4008, 0.40099999999999997),\n",
       "     'target_score': 'spec',\n",
       "     'target_interval': (0.6424, 0.6426),\n",
       "     'solution': {'formula': {'tp': 'p*sens', 'tn': 'n + p*sens - p*sens/ppv'},\n",
       "      'results': {'tp': (967.2, 967.6),\n",
       "       'tn': (-1074.971656686627, -1072.3700748129677),\n",
       "       'message': None}},\n",
       "     'consistency': False,\n",
       "     'target_interval_reconstructed': (-2.8897087545339435,\n",
       "      -2.882715254873569),\n",
       "     'explanation': 'the intervals do intersect'}],\n",
       "   'consistency': False},\n",
       "  {'details': [{'base_score_0': 'sens',\n",
       "     'base_score_0_interval': (0.48360000000000003, 0.4838),\n",
       "     'base_score_1': 'ppv',\n",
       "     'base_score_1_interval': (0.4008, 0.40099999999999997),\n",
       "     'target_score': 'acc',\n",
       "     'target_interval': (0.5898, 0.59),\n",
       "     'solution': {'formula': {'tp': 'p*sens', 'tn': 'n + p*sens - p*sens/ppv'},\n",
       "      'results': {'tp': (967.2, 967.6),\n",
       "       'tn': (-1074.971656686627, -1072.3700748129677),\n",
       "       'message': None}},\n",
       "     'consistency': False,\n",
       "     'target_interval_reconstructed': (-0.04543493114950548,\n",
       "      -0.04416950877443831),\n",
       "     'explanation': 'the intervals do intersect'}],\n",
       "   'consistency': False},\n",
       "  {'details': [{'base_score_0': 'spec',\n",
       "     'base_score_0_interval': (0.6424, 0.6426),\n",
       "     'base_score_1': 'acc',\n",
       "     'base_score_1_interval': (0.5898, 0.59),\n",
       "     'target_score': 'sens',\n",
       "     'target_interval': (0.48360000000000003, 0.4838),\n",
       "     'solution': {'formula': {'tn': 'n*spec', 'tp': 'acc*n + acc*p - n*spec'},\n",
       "      'results': {'tn': (238.97279999999998, 239.04719999999998),\n",
       "       'tp': (1159.9584, 1160.5072),\n",
       "       'message': None}},\n",
       "     'consistency': False,\n",
       "     'target_interval_reconstructed': (0.5799792, 0.5802536),\n",
       "     'explanation': 'the intervals do intersect'}],\n",
       "   'consistency': False},\n",
       "  {'details': [{'base_score_0': 'spec',\n",
       "     'base_score_0_interval': (0.6424, 0.6426),\n",
       "     'base_score_1': 'acc',\n",
       "     'base_score_1_interval': (0.5898, 0.59),\n",
       "     'target_score': 'ppv',\n",
       "     'target_interval': (0.4008, 0.40099999999999997),\n",
       "     'solution': {'formula': {'tn': 'n*spec', 'tp': 'acc*n + acc*p - n*spec'},\n",
       "      'results': {'tn': (238.97279999999998, 239.04719999999998),\n",
       "       'tp': (1159.9584, 1160.5072),\n",
       "       'message': None}},\n",
       "     'consistency': False,\n",
       "     'target_interval_reconstructed': (0.8967356415105775, 0.8975923481829224),\n",
       "     'explanation': 'the intervals do intersect'}],\n",
       "   'consistency': False},\n",
       "  {'details': [{'base_score_0': 'spec',\n",
       "     'base_score_0_interval': (0.6424, 0.6426),\n",
       "     'base_score_1': 'ppv',\n",
       "     'base_score_1_interval': (0.4008, 0.40099999999999997),\n",
       "     'target_score': 'sens',\n",
       "     'target_interval': (0.48360000000000003, 0.4838),\n",
       "     'solution': {'formula': {'tn': 'n*spec',\n",
       "       'tp': 'n*ppv*(spec - 1)/(ppv - 1)'},\n",
       "      'results': {'tn': (238.97279999999998, 239.04719999999998),\n",
       "       'tp': (88.9310451268358, 89.05493689482472),\n",
       "       'message': None}},\n",
       "     'consistency': False,\n",
       "     'target_interval_reconstructed': (0.044465522563417896,\n",
       "      0.04452746844741236),\n",
       "     'explanation': 'the intervals do intersect'}],\n",
       "   'consistency': False},\n",
       "  {'details': [{'base_score_0': 'spec',\n",
       "     'base_score_0_interval': (0.6424, 0.6426),\n",
       "     'base_score_1': 'ppv',\n",
       "     'base_score_1_interval': (0.4008, 0.40099999999999997),\n",
       "     'target_score': 'acc',\n",
       "     'target_interval': (0.5898, 0.59),\n",
       "     'solution': {'formula': {'tn': 'n*spec',\n",
       "       'tp': 'n*ppv*(spec - 1)/(ppv - 1)'},\n",
       "      'results': {'tn': (238.97279999999998, 239.04719999999998),\n",
       "       'tp': (88.9310451268358, 89.05493689482472),\n",
       "       'message': None}},\n",
       "     'consistency': False,\n",
       "     'target_interval_reconstructed': (0.1382393950787672, 0.1383229919455416),\n",
       "     'explanation': 'the intervals do intersect'}],\n",
       "   'consistency': False},\n",
       "  {'details': [{'base_score_0': 'acc',\n",
       "     'base_score_0_interval': (0.5898, 0.59),\n",
       "     'base_score_1': 'ppv',\n",
       "     'base_score_1_interval': (0.4008, 0.40099999999999997),\n",
       "     'target_score': 'sens',\n",
       "     'target_interval': (0.48360000000000003, 0.4838),\n",
       "     'solution': {'formula': {'tp': 'ppv*(acc*n + acc*p - n)/(2*ppv - 1)',\n",
       "       'tn': '(acc*n*ppv - acc*n + acc*p*ppv - acc*p + n*ppv)/(2*ppv - 1)'},\n",
       "      'results': {'tp': (-2080.906464646464, -2074.716958064516),\n",
       "       'tn': (3470.9784274193544, 3483.1361389898984),\n",
       "       'message': None}},\n",
       "     'consistency': False,\n",
       "     'target_interval_reconstructed': (-1.040453232323232,\n",
       "      -1.0373584790322579),\n",
       "     'explanation': 'the intervals do intersect'}],\n",
       "   'consistency': False},\n",
       "  {'details': [{'base_score_0': 'acc',\n",
       "     'base_score_0_interval': (0.5898, 0.59),\n",
       "     'base_score_1': 'ppv',\n",
       "     'base_score_1_interval': (0.4008, 0.40099999999999997),\n",
       "     'target_score': 'spec',\n",
       "     'target_interval': (0.6424, 0.6426),\n",
       "     'solution': {'formula': {'tp': 'ppv*(acc*n + acc*p - n)/(2*ppv - 1)',\n",
       "       'tn': '(acc*n*ppv - acc*n + acc*p*ppv - acc*p + n*ppv)/(2*ppv - 1)'},\n",
       "      'results': {'tp': (-2080.906464646464, -2074.716958064516),\n",
       "       'tn': (3470.9784274193544, 3483.1361389898984),\n",
       "       'message': None}},\n",
       "     'consistency': False,\n",
       "     'target_interval_reconstructed': (9.330587170482135, 9.36326919083306),\n",
       "     'explanation': 'the intervals do intersect'}],\n",
       "   'consistency': False}],\n",
       " 'overall_consistency': False}"
      ]
     },
     "execution_count": 13,
     "metadata": {},
     "output_type": "execute_result"
    }
   ],
   "source": [
    "check(scores, p=2000, n=problem['n'], eps=eps)"
   ]
  },
  {
   "cell_type": "code",
   "execution_count": null,
   "metadata": {},
   "outputs": [],
   "source": []
  }
 ],
 "metadata": {
  "kernelspec": {
   "display_name": "mlscorecheck",
   "language": "python",
   "name": "python3"
  },
  "language_info": {
   "codemirror_mode": {
    "name": "ipython",
    "version": 3
   },
   "file_extension": ".py",
   "mimetype": "text/x-python",
   "name": "python",
   "nbconvert_exporter": "python",
   "pygments_lexer": "ipython3",
   "version": "3.10.0"
  },
  "orig_nbformat": 4
 },
 "nbformat": 4,
 "nbformat_minor": 2
}
