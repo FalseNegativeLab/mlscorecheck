{
 "cells": [
  {
   "cell_type": "code",
   "execution_count": 1,
   "metadata": {},
   "outputs": [],
   "source": [
    "import numpy as np\n",
    "from cvxopt import matrix\n",
    "from cvxopt.solvers import qp, cp, cpl"
   ]
  },
  {
   "cell_type": "code",
   "execution_count": 11,
   "metadata": {},
   "outputs": [],
   "source": [
    "def auc_amax_kfold(ps, ns, accs):\n",
    "    return np.mean(1 - (1 - accs)**2*(ps + ns)**2/(2*ps*ns))\n",
    "\n",
    "def auc_amax_kfold_solve(ps, ns, avg_acc):\n",
    "    k = ps.shape[0]\n",
    "    q = (ps + ns)**2/(2*ps*ns)/k*2\n",
    "    Q = np.diag(q)\n",
    "    A = np.repeat(1.0/k, k).reshape(-1, 1).T\n",
    "    b = np.array([avg_acc])\n",
    "    G = np.vstack([np.eye(k), -np.eye(k)]).astype(float)\n",
    "    lower = np.array([max(p, n)/(p + n) for p, n in zip(ps, ns)])\n",
    "    h = np.hstack([np.repeat(1.0, k), -lower])\n",
    "    \n",
    "    Q = matrix(Q)\n",
    "    q = matrix(q)\n",
    "    G = matrix(G)\n",
    "    h = matrix(h)\n",
    "    A = matrix(A)\n",
    "    b = matrix(b)\n",
    "\n",
    "    res = qp(P=Q, q=q, G=G, h=h, A=A, b=b)\n",
    "\n",
    "    print(res['x'])\n",
    "\n",
    "    return auc_amax_kfold(ps, ns, np.array(res['x']))"
   ]
  },
  {
   "cell_type": "code",
   "execution_count": 14,
   "metadata": {},
   "outputs": [
    {
     "ename": "TypeError",
     "evalue": "auc_amax_kfold_solve() got an unexpected keyword argument 'avg_acc'",
     "output_type": "error",
     "traceback": [
      "\u001b[0;31m---------------------------------------------------------------------------\u001b[0m",
      "\u001b[0;31mTypeError\u001b[0m                                 Traceback (most recent call last)",
      "Cell \u001b[0;32mIn[14], line 1\u001b[0m\n\u001b[0;32m----> 1\u001b[0m auc_amax_kfold_solve(\n\u001b[1;32m      2\u001b[0m     ps \u001b[38;5;241m=\u001b[39m np\u001b[38;5;241m.\u001b[39marray([\u001b[38;5;241m10\u001b[39m, \u001b[38;5;241m11\u001b[39m, \u001b[38;5;241m12\u001b[39m]),\n\u001b[1;32m      3\u001b[0m     ns \u001b[38;5;241m=\u001b[39m np\u001b[38;5;241m.\u001b[39marray([\u001b[38;5;241m30\u001b[39m, \u001b[38;5;241m29\u001b[39m, \u001b[38;5;241m31\u001b[39m]),\n\u001b[1;32m      4\u001b[0m     avg_acc \u001b[38;5;241m=\u001b[39m \u001b[38;5;241m0.8\u001b[39m\n\u001b[1;32m      5\u001b[0m )\n",
      "\u001b[0;31mTypeError\u001b[0m: auc_amax_kfold_solve() got an unexpected keyword argument 'avg_acc'"
     ]
    }
   ],
   "source": [
    "auc_amax_kfold_solve(\n",
    "    ps = np.array([10, 11, 12]),\n",
    "    ns = np.array([30, 29, 31]),\n",
    "    avg_acc = 0.8\n",
    ")"
   ]
  },
  {
   "cell_type": "code",
   "execution_count": 21,
   "metadata": {},
   "outputs": [],
   "source": [
    "class F_acc_cmax:\n",
    "    def __init__(self, ps, ns, avg_auc):\n",
    "        self.ps = ps\n",
    "        self.ns = ns\n",
    "        self.avg_auc = avg_auc\n",
    "        self.k = len(ps)\n",
    "        self.maxs = np.array([max(p, n) for p, n in zip(ps, ns)])\n",
    "        self.mins = np.array([min(p, n) for p, n in zip(ps, ns)])\n",
    "        self.weights = self.mins / (ps + ns)\n",
    "\n",
    "    def __call__(self, x=None, z=None):\n",
    "        if x is None and z is None:\n",
    "            return (0, matrix(1.0, (self.k, 1)))\n",
    "        \n",
    "        if x is not None:\n",
    "            f = matrix(-np.sum(np.sqrt(x)*self.weights.reshape(-1, 1)))\n",
    "            Df = matrix(-0.5/np.sqrt(x)*self.weights.reshape(-1, 1)).T\n",
    "        \n",
    "        if z is None:\n",
    "            return (f, Df)\n",
    "        \n",
    "        hess = np.diag(0.5**2*np.array(x)[:, 0]**(-3/2)*self.weights)\n",
    "        \n",
    "        hess = matrix(z[0]*hess)\n",
    "\n",
    "        return (f, Df, hess)\n",
    "\n",
    "\n",
    "def acc_cmax_kfold(ps, ns, aucs):\n",
    "    maxs = np.array([max(p, n) for p, n in zip(ps, ns)])\n",
    "    mins = np.array([min(p, n) for p, n in zip(ps, ns)])\n",
    "\n",
    "    return np.mean((maxs + mins * np.sqrt(2*aucs - 1)) / (ps + ns))\n",
    "\n",
    "def acc_cmax_kfold_solve(ps, ns, avg_auc):\n",
    "    F = F_acc_cmax(ps, ns, avg_auc)\n",
    "\n",
    "    k = ps.shape[0]\n",
    "    q = (ps + ns)**2/(2*ps*ns)/k*2\n",
    "    Q = np.diag(q)\n",
    "    A = np.repeat(1.0/k, k).reshape(-1, 1).T\n",
    "    b = np.array([2*avg_auc - 1])\n",
    "    G = np.vstack([np.eye(k), -np.eye(k)]).astype(float)\n",
    "    h = np.hstack([np.repeat(1.0, k), -np.repeat(0, k)])\n",
    "    \n",
    "    Q = matrix(Q)\n",
    "    q = matrix(q)\n",
    "    G = matrix(G)\n",
    "    h = matrix(h)\n",
    "    A = matrix(A)\n",
    "    b = matrix(b)\n",
    "\n",
    "    res = cp(F, G, h, A=A, b=b)\n",
    "\n",
    "    aucs = (np.array(res['x']) + 1)/2\n",
    "\n",
    "    print(aucs)\n",
    "\n",
    "    return acc_cmax_kfold(ps, ns, aucs)"
   ]
  },
  {
   "cell_type": "code",
   "execution_count": 22,
   "metadata": {},
   "outputs": [
    {
     "name": "stdout",
     "output_type": "stream",
     "text": [
      "     pcost       dcost       gap    pres   dres\n",
      " 0:  0.0000e+00 -3.8041e+00  7e+00  1e+00  2e-01\n",
      " 1: -6.3352e-01 -2.0921e+00  1e+00  1e-02  2e-02\n",
      " 2: -6.2321e-01 -6.5391e-01  3e-02  2e-04  4e-04\n",
      " 3: -6.2378e-01 -6.2797e-01  5e-03  2e-04  5e-04\n",
      " 4: -6.2360e-01 -6.2383e-01  3e-04  3e-05  1e-04\n",
      " 5: -6.2355e-01 -6.2355e-01  4e-06  5e-07  2e-06\n",
      " 6: -6.2355e-01 -6.2355e-01  4e-08  5e-09  2e-08\n",
      "Optimal solution found.\n",
      "[[0.76041082]\n",
      " [0.81509697]\n",
      " [0.82449221]]\n"
     ]
    },
    {
     "data": {
      "text/plain": [
       "np.float64(0.9393483904285505)"
      ]
     },
     "execution_count": 22,
     "metadata": {},
     "output_type": "execute_result"
    }
   ],
   "source": [
    "acc_cmax_kfold_solve(\n",
    "    ps = np.array([10, 11, 12]),\n",
    "    ns = np.array([30, 29, 31]),\n",
    "    avg_auc = 0.8\n",
    ")"
   ]
  },
  {
   "cell_type": "code",
   "execution_count": 24,
   "metadata": {},
   "outputs": [],
   "source": [
    "class F_acc_amin:\n",
    "    def __init__(self, ps, ns, avg_auc):\n",
    "        self.ps = ps\n",
    "        self.ns = ns\n",
    "        self.avg_auc = avg_auc\n",
    "        self.k = len(ps)\n",
    "        self.maxs = np.array([max(p, n) for p, n in zip(ps, ns)])\n",
    "        self.mins = np.array([min(p, n) for p, n in zip(ps, ns)])\n",
    "        self.weights = np.sqrt(ps*ns)/(ps + ns)\n",
    "\n",
    "    def __call__(self, x=None, z=None):\n",
    "        if x is None and z is None:\n",
    "            return (0, matrix(1.0, (self.k, 1)))\n",
    "        \n",
    "        if x is not None:\n",
    "            f = matrix(-np.sum(np.sqrt(x)*self.weights.reshape(-1, 1)))\n",
    "            Df = matrix(-0.5/np.sqrt(x)*self.weights.reshape(-1, 1)).T\n",
    "        \n",
    "        if z is None:\n",
    "            return (f, Df)\n",
    "        \n",
    "        hess = np.diag(0.5**2*np.array(x)[:, 0]**(-3/2)*self.weights)\n",
    "        \n",
    "        hess = matrix(z[0]*hess)\n",
    "\n",
    "        return (f, Df, hess)\n",
    "\n",
    "def acc_amin_kfold(ps, ns, aucs):\n",
    "    maxs = np.array([max(p, n) for p, n in zip(ps, ns)])\n",
    "    mins = np.array([min(p, n) for p, n in zip(ps, ns)])\n",
    "\n",
    "    return np.mean(1 - np.sqrt(2*(1 - aucs)*ps*ns)/(ps + ns))\n",
    "\n",
    "def acc_amin_kfold_solve(ps, ns, avg_auc):\n",
    "    F = F_acc_cmax(ps, ns, avg_auc)\n",
    "\n",
    "    lower_bounds = 2*(1 - 1.0 - F.mins/(2*F.maxs))\n",
    "\n",
    "    k = ps.shape[0]\n",
    "    q = (ps + ns)**2/(2*ps*ns)/k*2\n",
    "    Q = np.diag(q)\n",
    "    A = np.repeat(1.0/k, k).reshape(-1, 1).T\n",
    "    b = np.array([2*(1 - avg_auc)])\n",
    "    G = np.vstack([np.eye(k), -np.eye(k)]).astype(float)\n",
    "    h = np.hstack([np.repeat(1.0, k), -lower_bounds])\n",
    "    \n",
    "    Q = matrix(Q)\n",
    "    q = matrix(q)\n",
    "    G = matrix(G)\n",
    "    h = matrix(h)\n",
    "    A = matrix(A)\n",
    "    b = matrix(b)\n",
    "\n",
    "    res = cp(F, G, h, A=A, b=b)\n",
    "\n",
    "    aucs = 1 - (np.array(res['x']))/2\n",
    "\n",
    "    print(aucs)\n",
    "\n",
    "    return acc_amin_kfold(ps, ns, aucs)"
   ]
  },
  {
   "cell_type": "code",
   "execution_count": 25,
   "metadata": {},
   "outputs": [
    {
     "name": "stdout",
     "output_type": "stream",
     "text": [
      "     pcost       dcost       gap    pres   dres\n",
      " 0:  0.0000e+00 -4.9038e+00  7e+00  1e+00  2e-01\n",
      " 1: -5.5428e-01 -1.8009e+00  1e+00  3e-02  7e-02\n",
      " 2: -5.0996e-01 -5.4869e-01  4e-02  8e-04  2e-03\n",
      " 3: -5.0961e-01 -5.1314e-01  4e-03  3e-04  1e-03\n",
      " 4: -5.0914e-01 -5.0922e-01  1e-04  1e-05  5e-05\n",
      " 5: -5.0912e-01 -5.0912e-01  1e-06  1e-07  5e-07\n",
      " 6: -5.0912e-01 -5.0912e-01  1e-08  1e-09  5e-09\n",
      "Optimal solution found.\n",
      "[[0.82639285]\n",
      " [0.78993535]\n",
      " [0.7836718 ]]\n"
     ]
    },
    {
     "data": {
      "text/plain": [
       "np.float64(0.7203398354097179)"
      ]
     },
     "execution_count": 25,
     "metadata": {},
     "output_type": "execute_result"
    }
   ],
   "source": [
    "acc_amin_kfold_solve(\n",
    "    ps = np.array([10, 11, 12]),\n",
    "    ns = np.array([30, 29, 31]),\n",
    "    avg_auc = 0.8\n",
    ")"
   ]
  },
  {
   "cell_type": "code",
   "execution_count": null,
   "metadata": {},
   "outputs": [],
   "source": []
  }
 ],
 "metadata": {
  "kernelspec": {
   "display_name": "mlscorecheck",
   "language": "python",
   "name": "python3"
  },
  "language_info": {
   "codemirror_mode": {
    "name": "ipython",
    "version": 3
   },
   "file_extension": ".py",
   "mimetype": "text/x-python",
   "name": "python",
   "nbconvert_exporter": "python",
   "pygments_lexer": "ipython3",
   "version": "3.12.0"
  }
 },
 "nbformat": 4,
 "nbformat_minor": 2
}
