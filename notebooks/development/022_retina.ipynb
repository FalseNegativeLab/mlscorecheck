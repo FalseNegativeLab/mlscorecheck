{
 "cells": [
  {
   "cell_type": "code",
   "execution_count": 1,
   "metadata": {},
   "outputs": [],
   "source": [
    "from mlscorecheck.experiments import load_drive\n",
    "from mlscorecheck.bundles import drive_test_scores_fov"
   ]
  },
  {
   "cell_type": "code",
   "execution_count": 3,
   "metadata": {},
   "outputs": [
    {
     "name": "stderr",
     "output_type": "stream",
     "text": [
      "2023-08-28 15:03:40,440:INFO:a random identifier for the fold has been generated vztwlkefjbccpqar\n",
      "2023-08-28 15:03:40,442:INFO:a random identifier for the fold has been generated yqyggipwaqapmbmu\n",
      "2023-08-28 15:03:40,443:INFO:a random identifier for the fold has been generated nlnumsnmrducsohs\n",
      "2023-08-28 15:03:40,446:INFO:a random identifier for the fold has been generated qkzdnhsyqeousukm\n",
      "2023-08-28 15:03:40,446:INFO:a random identifier for the fold has been generated ydyeskfvgfikvmxc\n",
      "2023-08-28 15:03:40,447:INFO:a random identifier for the fold has been generated zakmvpblveudrzfg\n",
      "2023-08-28 15:03:40,449:INFO:a random identifier for the fold has been generated ofokubpxnatdfxgj\n",
      "2023-08-28 15:03:40,450:INFO:a random identifier for the fold has been generated wnewoafomexymzoe\n",
      "2023-08-28 15:03:40,451:INFO:a random identifier for the fold has been generated zztskggazeveeuqu\n",
      "2023-08-28 15:03:40,452:INFO:a random identifier for the fold has been generated rtltwcxmpiqmuyny\n",
      "2023-08-28 15:03:40,454:INFO:a random identifier for the fold has been generated kldzeeabdygaernn\n",
      "2023-08-28 15:03:40,455:INFO:a random identifier for the fold has been generated fkioqgxbuygawzzv\n",
      "2023-08-28 15:03:40,455:INFO:a random identifier for the fold has been generated ngvhpzgdczqjjout\n",
      "2023-08-28 15:03:40,456:INFO:a random identifier for the fold has been generated lkphwdnmjhykafhi\n",
      "2023-08-28 15:03:40,457:INFO:a random identifier for the fold has been generated rknswzrzzdztzryt\n",
      "2023-08-28 15:03:40,458:INFO:a random identifier for the fold has been generated wkmsvypfihiwgxmg\n",
      "2023-08-28 15:03:40,459:INFO:a random identifier for the fold has been generated ymhujyyjihxhrzos\n",
      "2023-08-28 15:03:40,460:INFO:a random identifier for the fold has been generated ezcxoxzuihclrcjb\n",
      "2023-08-28 15:03:40,461:INFO:a random identifier for the fold has been generated cvjhdmifypfbsqek\n",
      "2023-08-28 15:03:40,462:INFO:a random identifier for the fold has been generated chzejvpqhtbyxeve\n",
      "2023-08-28 15:03:40,474:INFO:None: adding condition acc >= 0.947700\n",
      "2023-08-28 15:03:40,476:INFO:None: adding condition acc <= 0.947900\n",
      "2023-08-28 15:03:40,479:INFO:None: adding condition sens >= 0.853100\n",
      "2023-08-28 15:03:40,481:INFO:None: adding condition sens <= 0.853300\n",
      "2023-08-28 15:03:40,482:INFO:None: adding condition spec >= 0.980000\n",
      "2023-08-28 15:03:40,483:INFO:None: adding condition spec <= 0.980200\n"
     ]
    },
    {
     "name": "stdout",
     "output_type": "stream",
     "text": [
      "Welcome to the CBC MILP Solver \n",
      "Version: 2.10.3 \n",
      "Build Date: Dec 15 2019 \n",
      "\n",
      "command line - /home/gykovacs/anaconda3/envs/mlscorecheck/lib/python3.10/site-packages/pulp/solverdir/cbc/linux/64/cbc /tmp/a8bcca1db5004dc89895f8816784efb9-pulp.mps timeMode elapsed branch printingOptions all solution /tmp/a8bcca1db5004dc89895f8816784efb9-pulp.sol (default strategy 1)\n",
      "At line 2 NAME          MODEL\n",
      "At line 3 ROWS\n",
      "At line 11 COLUMNS\n",
      "At line 253 RHS\n",
      "At line 260 BOUNDS\n",
      "At line 302 ENDATA\n",
      "Problem MODEL has 6 rows, 41 columns and 160 elements\n",
      "Coin0008I MODEL read with 0 errors\n",
      "Option for timeMode changed from cpu to elapsed\n",
      "Problem is infeasible - 0.00 seconds\n",
      "Option for printingOptions changed from normal to all\n",
      "Total time (CPU seconds):       0.00   (Wallclock seconds):       0.00\n",
      "\n"
     ]
    },
    {
     "data": {
      "text/plain": [
       "True"
      ]
     },
     "execution_count": 3,
     "metadata": {},
     "output_type": "execute_result"
    }
   ],
   "source": [
    "result = drive_test_scores_fov(scores={'acc': 0.9478, 'sens': 0.8532, 'spec': 0.9801},\n",
    "                        eps=1e-4,\n",
    "                        aggregation='mor')\n",
    "result['inconsistency']"
   ]
  },
  {
   "cell_type": "code",
   "execution_count": 2,
   "metadata": {},
   "outputs": [
    {
     "data": {
      "text/plain": [
       "{'test_fov': {'identifier': 'drive_test_fov',\n",
       "  'datasets': [{'identifier': '01', 'folds': [{'p': 29412, 'n': 194965}]},\n",
       "   {'identifier': '02', 'folds': [{'p': 33723, 'n': 191364}]},\n",
       "   {'identifier': '03', 'folds': [{'p': 32886, 'n': 192841}]},\n",
       "   {'identifier': '04', 'folds': [{'p': 30343, 'n': 197234}]},\n",
       "   {'identifier': '05', 'folds': [{'p': 30898, 'n': 196795}]},\n",
       "   {'identifier': '06', 'folds': [{'p': 32105, 'n': 195394}]},\n",
       "   {'identifier': '07', 'folds': [{'p': 30144, 'n': 197531}]},\n",
       "   {'identifier': '08', 'folds': [{'p': 28311, 'n': 196937}]},\n",
       "   {'identifier': '09', 'folds': [{'p': 26740, 'n': 200920}]},\n",
       "   {'identifier': '10', 'folds': [{'p': 27152, 'n': 200180}]},\n",
       "   {'identifier': '11', 'folds': [{'p': 29533, 'n': 198281}]},\n",
       "   {'identifier': '12', 'folds': [{'p': 28490, 'n': 199115}]},\n",
       "   {'identifier': '13', 'folds': [{'p': 32252, 'n': 195248}]},\n",
       "   {'identifier': '14', 'folds': [{'p': 26631, 'n': 199223}]},\n",
       "   {'identifier': '15', 'folds': [{'p': 23612, 'n': 203782}]},\n",
       "   {'identifier': '16', 'folds': [{'p': 29791, 'n': 197903}]},\n",
       "   {'identifier': '17', 'folds': [{'p': 27851, 'n': 198033}]},\n",
       "   {'identifier': '18', 'folds': [{'p': 26144, 'n': 201468}]},\n",
       "   {'identifier': '19', 'folds': [{'p': 27367, 'n': 200021}]},\n",
       "   {'identifier': '20', 'folds': [{'p': 24264, 'n': 203259}]}]},\n",
       " 'test_no_fov': {'identifier': 'drive_test_no_fov',\n",
       "  'datasets': [{'identifier': '01', 'folds': [{'p': 29440, 'n': 300520}]},\n",
       "   {'identifier': '02', 'folds': [{'p': 33790, 'n': 296170}]},\n",
       "   {'identifier': '03', 'folds': [{'p': 32893, 'n': 297067}]},\n",
       "   {'identifier': '04', 'folds': [{'p': 30354, 'n': 299606}]},\n",
       "   {'identifier': '05', 'folds': [{'p': 30912, 'n': 299048}]},\n",
       "   {'identifier': '06', 'folds': [{'p': 32116, 'n': 297844}]},\n",
       "   {'identifier': '07', 'folds': [{'p': 30152, 'n': 299808}]},\n",
       "   {'identifier': '08', 'folds': [{'p': 28389, 'n': 301571}]},\n",
       "   {'identifier': '09', 'folds': [{'p': 26741, 'n': 303219}]},\n",
       "   {'identifier': '10', 'folds': [{'p': 27156, 'n': 302804}]},\n",
       "   {'identifier': '11', 'folds': [{'p': 29539, 'n': 300421}]},\n",
       "   {'identifier': '12', 'folds': [{'p': 28490, 'n': 301470}]},\n",
       "   {'identifier': '13', 'folds': [{'p': 32259, 'n': 297701}]},\n",
       "   {'identifier': '14', 'folds': [{'p': 26677, 'n': 303283}]},\n",
       "   {'identifier': '15', 'folds': [{'p': 23614, 'n': 306346}]},\n",
       "   {'identifier': '16', 'folds': [{'p': 29791, 'n': 300169}]},\n",
       "   {'identifier': '17', 'folds': [{'p': 27852, 'n': 302108}]},\n",
       "   {'identifier': '18', 'folds': [{'p': 26144, 'n': 303816}]},\n",
       "   {'identifier': '19', 'folds': [{'p': 27371, 'n': 302589}]},\n",
       "   {'identifier': '20', 'folds': [{'p': 24265, 'n': 305695}]}]},\n",
       " 'train_fov': {'identifier': 'drive_train_fov',\n",
       "  'datasets': [{'identifier': '21', 'folds': [{'p': 24650, 'n': 200950}]},\n",
       "   {'identifier': '22', 'folds': [{'p': 29800, 'n': 197886}]},\n",
       "   {'identifier': '23', 'folds': [{'p': 21714, 'n': 206473}]},\n",
       "   {'identifier': '24', 'folds': [{'p': 38215, 'n': 189511}]},\n",
       "   {'identifier': '25', 'folds': [{'p': 31664, 'n': 195698}]},\n",
       "   {'identifier': '26', 'folds': [{'p': 27496, 'n': 197596}]},\n",
       "   {'identifier': '27', 'folds': [{'p': 29071, 'n': 198755}]},\n",
       "   {'identifier': '28', 'folds': [{'p': 32209, 'n': 195118}]},\n",
       "   {'identifier': '29', 'folds': [{'p': 27738, 'n': 199571}]},\n",
       "   {'identifier': '30', 'folds': [{'p': 25877, 'n': 201382}]},\n",
       "   {'identifier': '31', 'folds': [{'p': 19897, 'n': 207804}]},\n",
       "   {'identifier': '32', 'folds': [{'p': 26956, 'n': 197988}]},\n",
       "   {'identifier': '33', 'folds': [{'p': 26679, 'n': 201059}]},\n",
       "   {'identifier': '34', 'folds': [{'p': 32287, 'n': 194255}]},\n",
       "   {'identifier': '35', 'folds': [{'p': 28612, 'n': 199034}]},\n",
       "   {'identifier': '36', 'folds': [{'p': 35884, 'n': 191333}]},\n",
       "   {'identifier': '37', 'folds': [{'p': 28841, 'n': 198345}]},\n",
       "   {'identifier': '38', 'folds': [{'p': 28477, 'n': 197747}]},\n",
       "   {'identifier': '39', 'folds': [{'p': 28348, 'n': 199112}]},\n",
       "   {'identifier': '40', 'folds': [{'p': 25000, 'n': 201974}]}]},\n",
       " 'train_no_fov': {'identifier': 'drive_train_no_fov',\n",
       "  'datasets': [{'identifier': '21', 'folds': [{'p': 24658, 'n': 305302}]},\n",
       "   {'identifier': '22', 'folds': [{'p': 29809, 'n': 300151}]},\n",
       "   {'identifier': '23', 'folds': [{'p': 21723, 'n': 308237}]},\n",
       "   {'identifier': '24', 'folds': [{'p': 38229, 'n': 291731}]},\n",
       "   {'identifier': '25', 'folds': [{'p': 31669, 'n': 298291}]},\n",
       "   {'identifier': '26', 'folds': [{'p': 27573, 'n': 302387}]},\n",
       "   {'identifier': '27', 'folds': [{'p': 29073, 'n': 300887}]},\n",
       "   {'identifier': '28', 'folds': [{'p': 32228, 'n': 297732}]},\n",
       "   {'identifier': '29', 'folds': [{'p': 27751, 'n': 302209}]},\n",
       "   {'identifier': '30', 'folds': [{'p': 25884, 'n': 304076}]},\n",
       "   {'identifier': '31', 'folds': [{'p': 19898, 'n': 310062}]},\n",
       "   {'identifier': '32', 'folds': [{'p': 26984, 'n': 302976}]},\n",
       "   {'identifier': '33', 'folds': [{'p': 26686, 'n': 303274}]},\n",
       "   {'identifier': '34', 'folds': [{'p': 32287, 'n': 297673}]},\n",
       "   {'identifier': '35', 'folds': [{'p': 28612, 'n': 301348}]},\n",
       "   {'identifier': '36', 'folds': [{'p': 35884, 'n': 294076}]},\n",
       "   {'identifier': '37', 'folds': [{'p': 28841, 'n': 301119}]},\n",
       "   {'identifier': '38', 'folds': [{'p': 28477, 'n': 301483}]},\n",
       "   {'identifier': '39', 'folds': [{'p': 28348, 'n': 301612}]},\n",
       "   {'identifier': '40', 'folds': [{'p': 25001, 'n': 304959}]}]}}"
      ]
     },
     "execution_count": 2,
     "metadata": {},
     "output_type": "execute_result"
    }
   ],
   "source": [
    "load_drive()"
   ]
  },
  {
   "cell_type": "code",
   "execution_count": null,
   "metadata": {},
   "outputs": [],
   "source": []
  }
 ],
 "metadata": {
  "kernelspec": {
   "display_name": "mlscorecheck",
   "language": "python",
   "name": "python3"
  },
  "language_info": {
   "codemirror_mode": {
    "name": "ipython",
    "version": 3
   },
   "file_extension": ".py",
   "mimetype": "text/x-python",
   "name": "python",
   "nbconvert_exporter": "python",
   "pygments_lexer": "ipython3",
   "version": "3.10.0"
  },
  "orig_nbformat": 4
 },
 "nbformat": 4,
 "nbformat_minor": 2
}
