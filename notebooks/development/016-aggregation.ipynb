{
 "cells": [
  {
   "cell_type": "code",
   "execution_count": 41,
   "metadata": {},
   "outputs": [],
   "source": [
    "from mlscorecheck.check import (aggregate_problems,\n",
    "                                prepare_for_mos,\n",
    "                                expand_for_mos,\n",
    "                                accumulate_dicts,\n",
    "                                aggregate_dicts,\n",
    "                                _resolve_p_n)\n",
    "from mlscorecheck.core import (determine_fold_configurations, check_aggregation,\n",
    "                                copy_problem_structure,\n",
    "                                solution_structure)\n",
    "from mlscorecheck.utils import calculate_scores, generate_problems_with_folds, calculate_all_scores"
   ]
  },
  {
   "cell_type": "code",
   "execution_count": 42,
   "metadata": {},
   "outputs": [],
   "source": [
    "datasetb0 = {'dataset': 'common_datasets.ecoli1'}\n",
    "datasetb1 = {'dataset': 'common_datasets.ecoli1', 'n_folds': 3, 'n_repeats': 5}\n",
    "datasetb2 = {'dataset': 'common_datasets.ecoli1', 'score_bounds': {'acc': (0.8, 1.0)}}\n",
    "datasetb3 = {'dataset': 'common_datasets.ecoli1', 'n_folds': 3, 'n_repeats': 5, 'score_bounds': {'acc': (0.8, 1.0)}}\n",
    "datasetb4 = {'dataset': 'common_datasets.ecoli1', 'score_bounds': {'acc': (0.8, 1.0)}, 'tptn_bounds': {'tp': (5, 10)}}\n",
    "datasetb5 = {'dataset': 'common_datasets.ecoli1', 'n_folds': 3, 'n_repeats': 5, 'score_bounds': {'acc': (0.8, 1.0)}, 'tptn_bounds': {'tp': (5, 10)}}"
   ]
  },
  {
   "cell_type": "code",
   "execution_count": 43,
   "metadata": {},
   "outputs": [
    {
     "data": {
      "text/plain": [
       "{'dataset': 'common_datasets.ecoli1',\n",
       " 'score_bounds': {'acc': (0.8, 1.0)},\n",
       " 'p': 77,\n",
       " 'n': 259}"
      ]
     },
     "execution_count": 43,
     "metadata": {},
     "output_type": "execute_result"
    }
   ],
   "source": [
    "_resolve_p_n(datasetb2)"
   ]
  },
  {
   "cell_type": "code",
   "execution_count": 44,
   "metadata": {},
   "outputs": [],
   "source": [
    "dataseta0 = {'p': 10, 'n': 20}\n",
    "dataseta1 = {'p': 20, 'n': 10, 'n_folds': 3, 'n_repeats': 5}\n",
    "dataseta2 = {'p': 10, 'n': 20, 'score_bounds': {'acc': (0.8, 1.0)}}\n",
    "dataseta3 = {'p': 20, 'n': 10, 'n_folds': 3, 'n_repeats': 5, 'score_bounds': {'acc': (0.8, 1.0)}, 'fold_score_bounds': {'acc': (0.75, 0.9)}}\n",
    "dataseta4 = {'p': 10, 'n': 20, 'score_bounds': {'acc': (0.8, 1.0)}, 'tptn_bounds': {'tp': (5, 10)}}\n",
    "dataseta5 = {'p': 20, 'n': 10, 'n_folds': 3, 'n_repeats': 5, 'score_bounds': {'acc': (0.8, 1.0)}, 'tptn_bounds': {'tp': (5, 10)}}\n",
    "\n",
    "datasetc0 = {'folds': [{'p': 10, 'n': 20},\n",
    "                        {'p': 20, 'n': 30}]}\n",
    "datasetc1 = {'folds': [{'p': 10, 'n': 20, 'score_bounds': {'acc': (0.8, 1.0)}},\n",
    "                        {'p': 20, 'n': 30, 'score_bounds': {'acc': (0.7, 0.9)}}]}\n",
    "datasetc2 = {'folds': [{'p': 10, 'n': 20, 'tptn_bounds': {'tp': (5, 10)}},\n",
    "                        {'p': 20, 'n': 30, 'tptn_bounds': {'tp': (2, 20)}}],\n",
    "                'score_bounds': {'acc': (0.75, 0.85)}}\n",
    "datasetc3 = {'folds': [{'p': 10, 'n': 20, 'score_bounds': {'acc': (0.8, 1.0)}, 'tptn_bounds': {'tp': (5, 10)}},\n",
    "                        {'p': 20, 'n': 30, 'score_bounds': {'acc': (0.7, 0.9)}, 'tptn_bounds': {'tp': (2, 20)}}]}\n"
   ]
  },
  {
   "cell_type": "code",
   "execution_count": 45,
   "metadata": {},
   "outputs": [],
   "source": [
    "def _create_folds(dataset):\n",
    "    results = {}\n",
    "    if 'folds' not in dataset:\n",
    "        if 'p' not in dataset:\n",
    "            dataset = resolve_pn(dataset)\n",
    "        results['folds'] = determine_fold_configurations(dataset['p'],\n",
    "                                                            dataset['n'],\n",
    "                                                            dataset.get('n_folds', 1),\n",
    "                                                            dataset.get('n_repeats', 1))\n",
    "        results['p'] = dataset['p'] * dataset.get('n_repeats', 1)\n",
    "        results['n'] = dataset['n'] * dataset.get('n_repeats', 1)\n",
    "        \n",
    "        if len(results['folds']) == 1 and 'tptn_bounds' in dataset:\n",
    "            results['folds'][0]['tptn_bounds'] = dataset['tptn_bounds']\n",
    "            results['tptn_bounds'] = dataset['tptn_bounds']\n",
    "        if 'score_bounds' in dataset:\n",
    "            for fold in results['folds']:\n",
    "                fold['score_bounds'] = dataset['score_bounds']\n",
    "            results['score_bounds'] = dataset['score_bounds']\n",
    "    else:\n",
    "        results['folds'] = dataset['folds']\n",
    "        results['p'] = sum(fold['p'] for fold in dataset['folds'])\n",
    "        results['n'] = sum(fold['n'] for fold in dataset['folds'])\n",
    "    return results"
   ]
  },
  {
   "cell_type": "code",
   "execution_count": 46,
   "metadata": {},
   "outputs": [],
   "source": [
    "def _expand_datasets(datasets):\n",
    "    if isinstance(datasets, dict):\n",
    "        return _create_folds(datasets)\n",
    "    return [_create_folds(dataset) for dataset in datasets]"
   ]
  },
  {
   "cell_type": "code",
   "execution_count": 47,
   "metadata": {},
   "outputs": [],
   "source": [
    "def score_bounds_to_tptn_bounds(p, n, score_bounds):\n",
    "    score_bounds['acc']"
   ]
  },
  {
   "cell_type": "code",
   "execution_count": 48,
   "metadata": {},
   "outputs": [],
   "source": [
    "def prepare_problem(datasets, strategy):\n",
    "    datasets = _expand_datasets(datasets)\n",
    "    \n",
    "    if strategy == ('som', 'mos'):\n",
    "        raise ValueError(f'strategy {strategy} is not applicable')\n",
    "    \n",
    "    if isinstance(datasets, dict):\n",
    "        if strategy == 'som':\n",
    "            return ({'p': datasets['p'], 'n': datasets['n']}, \n",
    "                    _extract_bounds(datasets, 'score_bounds'), \n",
    "                    _extract_bounds(datasets, 'tptn_bounds'))\n",
    "        elif strategy == 'mos':\n",
    "            return datasets['folds']\n",
    "    elif isinstance(datasets, list):\n",
    "        if strategy == ('som', 'som'):\n",
    "            return ({'p': sum(dataset['p'] for dataset in datasets),\n",
    "                    'n': sum(dataset['n'] for dataset in datasets)},\n",
    "                    _extract_bounds(datasets, 'score_bounds'),\n",
    "                    _extract_bounds(datasets, 'tptn_bounds'))\n",
    "        elif strategy == ('mos', 'som'):\n",
    "            return [{'p': dataset['p'],\n",
    "                        'n': dataset['n'],\n",
    "                        'score_bounds': dataset.get('score_bounds'),\n",
    "                        'tptn_bounds': dataset.get('tptn_bounds')} for dataset in datasets]\n",
    "        elif strategy == ('mos', 'mos'):\n",
    "            return [dataset['folds'] for dataset in datasets]"
   ]
  },
  {
   "cell_type": "code",
   "execution_count": 49,
   "metadata": {},
   "outputs": [
    {
     "data": {
      "text/plain": [
       "[{'folds': [{'p': 7, 'n': 3, 'score_bounds': {'acc': (0.8, 1.0)}},\n",
       "   {'p': 7, 'n': 3, 'score_bounds': {'acc': (0.8, 1.0)}},\n",
       "   {'p': 6, 'n': 4, 'score_bounds': {'acc': (0.8, 1.0)}},\n",
       "   {'p': 7, 'n': 3, 'score_bounds': {'acc': (0.8, 1.0)}},\n",
       "   {'p': 7, 'n': 3, 'score_bounds': {'acc': (0.8, 1.0)}},\n",
       "   {'p': 6, 'n': 4, 'score_bounds': {'acc': (0.8, 1.0)}},\n",
       "   {'p': 7, 'n': 3, 'score_bounds': {'acc': (0.8, 1.0)}},\n",
       "   {'p': 7, 'n': 3, 'score_bounds': {'acc': (0.8, 1.0)}},\n",
       "   {'p': 6, 'n': 4, 'score_bounds': {'acc': (0.8, 1.0)}},\n",
       "   {'p': 7, 'n': 3, 'score_bounds': {'acc': (0.8, 1.0)}},\n",
       "   {'p': 7, 'n': 3, 'score_bounds': {'acc': (0.8, 1.0)}},\n",
       "   {'p': 6, 'n': 4, 'score_bounds': {'acc': (0.8, 1.0)}},\n",
       "   {'p': 7, 'n': 3, 'score_bounds': {'acc': (0.8, 1.0)}},\n",
       "   {'p': 7, 'n': 3, 'score_bounds': {'acc': (0.8, 1.0)}},\n",
       "   {'p': 6, 'n': 4, 'score_bounds': {'acc': (0.8, 1.0)}}],\n",
       "  'p': 100,\n",
       "  'n': 50,\n",
       "  'score_bounds': {'acc': (0.8, 1.0)}},\n",
       " {'folds': [{'p': 10,\n",
       "    'n': 20,\n",
       "    'score_bounds': {'acc': (0.8, 1.0)},\n",
       "    'tptn_bounds': {'tp': (5, 10)}},\n",
       "   {'p': 20,\n",
       "    'n': 30,\n",
       "    'score_bounds': {'acc': (0.7, 0.9)},\n",
       "    'tptn_bounds': {'tp': (2, 20)}}],\n",
       "  'p': 30,\n",
       "  'n': 50}]"
      ]
     },
     "execution_count": 49,
     "metadata": {},
     "output_type": "execute_result"
    }
   ],
   "source": [
    "_expand_datasets([dataseta3, datasetc3])"
   ]
  },
  {
   "cell_type": "code",
   "execution_count": 50,
   "metadata": {},
   "outputs": [],
   "source": [
    "def calculate_base_scores_(tp, tn, p, n):\n",
    "    return {'tp': tp,\n",
    "            'tn': tn,\n",
    "            'p': p,\n",
    "            'n': n,\n",
    "            'acc': (tp + tn)/(p + n),\n",
    "            'sens': tp/p,\n",
    "            'spec': tn/n,\n",
    "            'bacc': (tp/p + tn/n)/2.0}\n",
    "\n",
    "def calculate_scores_(problems, strategy):\n",
    "    results = []\n",
    "    for problem in problems:\n",
    "        tmp = {'folds': []}\n",
    "        for fold in problem['folds']:\n",
    "            tmp['folds'].append(calculate_base_scores(tp=fold['tp'], tn=fold['tn'], p=fold['p'], n=fold['n']))\n",
    "        tmp['p'] = 0\n",
    "            "
   ]
  },
  {
   "cell_type": "code",
   "execution_count": 51,
   "metadata": {},
   "outputs": [],
   "source": [
    "folds, problems = generate_problems_with_folds(n_problems=2)"
   ]
  },
  {
   "cell_type": "code",
   "execution_count": 52,
   "metadata": {},
   "outputs": [
    {
     "data": {
      "text/plain": [
       "[[{'p': 60, 'n': 68, 'tp': 59, 'tn': 10},\n",
       "  {'p': 60, 'n': 68, 'tp': 43, 'tn': 62},\n",
       "  {'p': 60, 'n': 67, 'tp': 19, 'tn': 13},\n",
       "  {'p': 60, 'n': 67, 'tp': 34, 'tn': 6},\n",
       "  {'p': 60, 'n': 67, 'tp': 15, 'tn': 12}],\n",
       " [{'p': 193, 'n': 68, 'tp': 94, 'tn': 52},\n",
       "  {'p': 193, 'n': 68, 'tp': 46, 'tn': 28},\n",
       "  {'p': 193, 'n': 67, 'tp': 38, 'tn': 66},\n",
       "  {'p': 193, 'n': 67, 'tp': 39, 'tn': 33},\n",
       "  {'p': 192, 'n': 68, 'tp': 125, 'tn': 14}]]"
      ]
     },
     "execution_count": 52,
     "metadata": {},
     "output_type": "execute_result"
    }
   ],
   "source": [
    "folds"
   ]
  },
  {
   "cell_type": "code",
   "execution_count": 53,
   "metadata": {},
   "outputs": [
    {
     "data": {
      "text/plain": [
       "[{'folds': [{'p': 60, 'n': 68},\n",
       "   {'p': 60, 'n': 68},\n",
       "   {'p': 60, 'n': 67},\n",
       "   {'p': 60, 'n': 67},\n",
       "   {'p': 60, 'n': 67}],\n",
       "  'p': 300,\n",
       "  'n': 337},\n",
       " {'folds': [{'p': 193, 'n': 68},\n",
       "   {'p': 193, 'n': 68},\n",
       "   {'p': 193, 'n': 67},\n",
       "   {'p': 193, 'n': 67},\n",
       "   {'p': 192, 'n': 68}],\n",
       "  'p': 964,\n",
       "  'n': 338}]"
      ]
     },
     "execution_count": 53,
     "metadata": {},
     "output_type": "execute_result"
    }
   ],
   "source": [
    "_expand_datasets(problems)"
   ]
  },
  {
   "cell_type": "code",
   "execution_count": 54,
   "metadata": {},
   "outputs": [
    {
     "data": {
      "text/plain": [
       "{'acc': 0.4193352897988215,\n",
       " 'sens': 0.4608727331606217,\n",
       " 'spec': 0.4381474978050922,\n",
       " 'bacc': 0.44951011548285696}"
      ]
     },
     "execution_count": 54,
     "metadata": {},
     "output_type": "execute_result"
    }
   ],
   "source": [
    "calculate_scores(folds, strategy=('mos', 'mos'))"
   ]
  },
  {
   "cell_type": "code",
   "execution_count": 55,
   "metadata": {},
   "outputs": [],
   "source": [
    "strategy = ('som', 'som')"
   ]
  },
  {
   "cell_type": "code",
   "execution_count": 56,
   "metadata": {},
   "outputs": [],
   "source": [
    "scores = calculate_scores(folds, strategy=strategy)"
   ]
  },
  {
   "cell_type": "code",
   "execution_count": 57,
   "metadata": {},
   "outputs": [
    {
     "data": {
      "text/plain": [
       "{'acc': 0.4167096441464673,\n",
       " 'sens': 0.4050632911392405,\n",
       " 'spec': 0.43851851851851853,\n",
       " 'npv': 0.2824427480916031,\n",
       " 'ppv': 0.574635241301908,\n",
       " 'bacc': 0.4217909048288795,\n",
       " 'f1p': 0.4751740139211137,\n",
       " 'fm': 0.4824558446597393}"
      ]
     },
     "execution_count": 57,
     "metadata": {},
     "output_type": "execute_result"
    }
   ],
   "source": [
    "scores"
   ]
  },
  {
   "cell_type": "code",
   "execution_count": 58,
   "metadata": {},
   "outputs": [
    {
     "name": "stdout",
     "output_type": "stream",
     "text": [
      "Welcome to the CBC MILP Solver \n",
      "Version: 2.10.3 \n",
      "Build Date: Dec 15 2019 \n",
      "\n",
      "command line - /home/gykovacs/anaconda3/envs/mlscorecheck/lib/python3.10/site-packages/pulp/solverdir/cbc/linux/64/cbc /tmp/6312afd6abb34969b51ef87518d55166-pulp.mps timeMode elapsed branch printingOptions all solution /tmp/6312afd6abb34969b51ef87518d55166-pulp.sol (default strategy 1)\n",
      "At line 2 NAME          MODEL\n",
      "At line 3 ROWS\n",
      "At line 13 COLUMNS\n",
      "At line 175 RHS\n",
      "At line 184 BOUNDS\n",
      "At line 205 ENDATA\n",
      "Problem MODEL has 8 rows, 20 columns and 120 elements\n",
      "Coin0008I MODEL read with 0 errors\n",
      "Option for timeMode changed from cpu to elapsed\n",
      "Continuous objective value is 0 - 0.00 seconds\n",
      "Cgl0004I processed model has 0 rows, 0 columns (0 integer (0 of which binary)) and 0 elements\n",
      "Cbc3007W No integer variables - nothing to do\n",
      "Cuts at root node changed objective from 0 to -1.79769e+308\n",
      "Probing was tried 0 times and created 0 cuts of which 0 were active after adding rounds of cuts (0.000 seconds)\n",
      "Gomory was tried 0 times and created 0 cuts of which 0 were active after adding rounds of cuts (0.000 seconds)\n",
      "Knapsack was tried 0 times and created 0 cuts of which 0 were active after adding rounds of cuts (0.000 seconds)\n",
      "Clique was tried 0 times and created 0 cuts of which 0 were active after adding rounds of cuts (0.000 seconds)\n",
      "MixedIntegerRounding2 was tried 0 times and created 0 cuts of which 0 were active after adding rounds of cuts (0.000 seconds)\n",
      "FlowCover was tried 0 times and created 0 cuts of which 0 were active after adding rounds of cuts (0.000 seconds)\n",
      "TwoMirCuts was tried 0 times and created 0 cuts of which 0 were active after adding rounds of cuts (0.000 seconds)\n",
      "ZeroHalf was tried 0 times and created 0 cuts of which 0 were active after adding rounds of cuts (0.000 seconds)\n",
      "\n",
      "Result - Optimal solution found\n",
      "\n",
      "Objective value:                0.00000000\n",
      "Enumerated nodes:               0\n",
      "Total iterations:               0\n",
      "Time (CPU seconds):             0.01\n",
      "Time (Wallclock seconds):       0.01\n",
      "\n",
      "Option for printingOptions changed from normal to all\n",
      "Total time (CPU seconds):       0.01   (Wallclock seconds):       0.01\n",
      "\n"
     ]
    }
   ],
   "source": [
    "res = check_aggregation(scores, eps=0.0001, \n",
    "                    problems=_expand_datasets(problems),\n",
    "                    strategy=strategy)"
   ]
  },
  {
   "cell_type": "code",
   "execution_count": 59,
   "metadata": {},
   "outputs": [
    {
     "data": {
      "text/plain": [
       "[{'p': 300,\n",
       "  'n': 337,\n",
       "  'folds': [{'p': 60, 'n': 68, 'tn': 68.0, 'tp': 0.0},\n",
       "   {'p': 60, 'n': 68, 'tn': 0.0, 'tp': 0.0},\n",
       "   {'p': 60, 'n': 67, 'tn': 0.0, 'tp': 0.0},\n",
       "   {'p': 60, 'n': 67, 'tn': 0.0, 'tp': 0.0},\n",
       "   {'p': 60, 'n': 67, 'tn': 0.0, 'tp': 0.0}]},\n",
       " {'p': 964,\n",
       "  'n': 338,\n",
       "  'folds': [{'p': 193, 'n': 68, 'tn': 0.0, 'tp': 0.0},\n",
       "   {'p': 193, 'n': 68, 'tn': 26.0, 'tp': 0.0},\n",
       "   {'p': 193, 'n': 67, 'tn': 67.0, 'tp': 127.0},\n",
       "   {'p': 193, 'n': 67, 'tn': 67.0, 'tp': 193.0},\n",
       "   {'p': 192, 'n': 68, 'tn': 68.0, 'tp': 192.0}]}]"
      ]
     },
     "execution_count": 59,
     "metadata": {},
     "output_type": "execute_result"
    }
   ],
   "source": [
    "res[1]"
   ]
  },
  {
   "cell_type": "code",
   "execution_count": 61,
   "metadata": {},
   "outputs": [],
   "source": [
    "def calculate_scores(tp, tn, p, n):\n",
    "    return calculate_all_scores({'tp': tp, 'tn': tn, 'p': p, 'n': n})\n",
    "    #return {'acc': (tp + tn) * (1.0 / (p + n)),\n",
    "    #        'sens': tp * (1.0/p),\n",
    "    #        'spec': tn * (1.0/n),\n",
    "    #        'bacc': (tp * (1.0/p) + tn * (1.0/n))*0.5}"
   ]
  },
  {
   "cell_type": "code",
   "execution_count": 62,
   "metadata": {},
   "outputs": [],
   "source": []
  },
  {
   "cell_type": "code",
   "execution_count": 63,
   "metadata": {},
   "outputs": [],
   "source": [
    "def calculate_all_scores_(problems, strategy):\n",
    "    for problem in problems:\n",
    "        for fold in problem['folds']:\n",
    "            scores = calculate_scores(tp=fold['tp'], tn=fold['tn'], p=fold['p'], n=fold['n'])\n",
    "            for key in scores:\n",
    "                fold[key] = scores[key]\n",
    "        \n",
    "        total_scores = calculate_scores_(problem['folds'], strategy[1])\n",
    "        for key in total_scores:\n",
    "            problem[key] = total_scores[key]\n",
    "        \n",
    "    return calculate_scores_(problems, strategy[0])\n",
    "            "
   ]
  },
  {
   "cell_type": "code",
   "execution_count": 64,
   "metadata": {},
   "outputs": [
    {
     "data": {
      "text/plain": [
       "[{'p': 300,\n",
       "  'n': 337,\n",
       "  'folds': [{'p': 60, 'n': 68, 'tn': 68.0, 'tp': 0.0},\n",
       "   {'p': 60, 'n': 68, 'tn': 0.0, 'tp': 0.0},\n",
       "   {'p': 60, 'n': 67, 'tn': 0.0, 'tp': 0.0},\n",
       "   {'p': 60, 'n': 67, 'tn': 0.0, 'tp': 0.0},\n",
       "   {'p': 60, 'n': 67, 'tn': 0.0, 'tp': 0.0}]},\n",
       " {'p': 964,\n",
       "  'n': 338,\n",
       "  'folds': [{'p': 193, 'n': 68, 'tn': 0.0, 'tp': 0.0},\n",
       "   {'p': 193, 'n': 68, 'tn': 26.0, 'tp': 0.0},\n",
       "   {'p': 193, 'n': 67, 'tn': 67.0, 'tp': 127.0},\n",
       "   {'p': 193, 'n': 67, 'tn': 67.0, 'tp': 193.0},\n",
       "   {'p': 192, 'n': 68, 'tn': 68.0, 'tp': 192.0}]}]"
      ]
     },
     "execution_count": 64,
     "metadata": {},
     "output_type": "execute_result"
    }
   ],
   "source": [
    "res[1]"
   ]
  },
  {
   "cell_type": "code",
   "execution_count": 65,
   "metadata": {},
   "outputs": [
    {
     "name": "stdout",
     "output_type": "stream",
     "text": [
      "{'p': 300, 'n': 337, 'folds': [{'p': 60, 'n': 68, 'tn': 68.0, 'tp': 0.0}, {'p': 60, 'n': 68, 'tn': 0.0, 'tp': 0.0}, {'p': 60, 'n': 67, 'tn': 0.0, 'tp': 0.0}, {'p': 60, 'n': 67, 'tn': 0.0, 'tp': 0.0}, {'p': 60, 'n': 67, 'tn': 0.0, 'tp': 0.0}]}\n",
      "{'p': 60, 'n': 68, 'tn': 68.0, 'tp': 0.0}\n",
      "{'p': 60, 'n': 68, 'tn': 0.0, 'tp': 0.0}\n",
      "{'p': 60, 'n': 67, 'tn': 0.0, 'tp': 0.0}\n",
      "{'p': 60, 'n': 67, 'tn': 0.0, 'tp': 0.0}\n",
      "{'p': 60, 'n': 67, 'tn': 0.0, 'tp': 0.0}\n",
      "{'p': 964, 'n': 338, 'folds': [{'p': 193, 'n': 68, 'tn': 0.0, 'tp': 0.0}, {'p': 193, 'n': 68, 'tn': 26.0, 'tp': 0.0}, {'p': 193, 'n': 67, 'tn': 67.0, 'tp': 127.0}, {'p': 193, 'n': 67, 'tn': 67.0, 'tp': 193.0}, {'p': 192, 'n': 68, 'tn': 68.0, 'tp': 192.0}]}\n",
      "{'p': 193, 'n': 68, 'tn': 0.0, 'tp': 0.0}\n",
      "{'p': 193, 'n': 68, 'tn': 26.0, 'tp': 0.0}\n",
      "{'p': 193, 'n': 67, 'tn': 67.0, 'tp': 127.0}\n",
      "{'p': 193, 'n': 67, 'tn': 67.0, 'tp': 193.0}\n",
      "{'p': 192, 'n': 68, 'tn': 68.0, 'tp': 192.0}\n"
     ]
    },
    {
     "data": {
      "text/plain": [
       "{'acc': 0.4167096441464673,\n",
       " 'sens': 0.4050632911392405,\n",
       " 'spec': 0.43851851851851853,\n",
       " 'npv': 0.2824427480916031,\n",
       " 'ppv': 0.574635241301908,\n",
       " 'bacc': 0.4217909048288795,\n",
       " 'f1p': 0.4751740139211137,\n",
       " 'fm': 0.4824558446597393,\n",
       " 'tp': 512.0,\n",
       " 'tn': 296.0,\n",
       " 'p': 1264,\n",
       " 'n': 675}"
      ]
     },
     "execution_count": 65,
     "metadata": {},
     "output_type": "execute_result"
    }
   ],
   "source": [
    "calculate_scores_2(res[1], strategy)"
   ]
  },
  {
   "cell_type": "code",
   "execution_count": 66,
   "metadata": {},
   "outputs": [
    {
     "data": {
      "text/plain": [
       "[{'p': 300,\n",
       "  'n': 337,\n",
       "  'folds': [{'p': 60,\n",
       "    'n': 68,\n",
       "    'tn': 68.0,\n",
       "    'tp': 0.0,\n",
       "    'acc': 0.53125,\n",
       "    'sens': 0.0,\n",
       "    'spec': 1.0,\n",
       "    'npv': 0.53125,\n",
       "    'ppv': None,\n",
       "    'bacc': 0.5,\n",
       "    'f1p': 0.0,\n",
       "    'fm': None},\n",
       "   {'p': 60,\n",
       "    'n': 68,\n",
       "    'tn': 0.0,\n",
       "    'tp': 0.0,\n",
       "    'acc': 0.0,\n",
       "    'sens': 0.0,\n",
       "    'spec': 0.0,\n",
       "    'npv': 0.0,\n",
       "    'ppv': 0.0,\n",
       "    'bacc': 0.0,\n",
       "    'f1p': 0.0,\n",
       "    'fm': 0.0},\n",
       "   {'p': 60,\n",
       "    'n': 67,\n",
       "    'tn': 0.0,\n",
       "    'tp': 0.0,\n",
       "    'acc': 0.0,\n",
       "    'sens': 0.0,\n",
       "    'spec': 0.0,\n",
       "    'npv': 0.0,\n",
       "    'ppv': 0.0,\n",
       "    'bacc': 0.0,\n",
       "    'f1p': 0.0,\n",
       "    'fm': 0.0},\n",
       "   {'p': 60,\n",
       "    'n': 67,\n",
       "    'tn': 0.0,\n",
       "    'tp': 0.0,\n",
       "    'acc': 0.0,\n",
       "    'sens': 0.0,\n",
       "    'spec': 0.0,\n",
       "    'npv': 0.0,\n",
       "    'ppv': 0.0,\n",
       "    'bacc': 0.0,\n",
       "    'f1p': 0.0,\n",
       "    'fm': 0.0},\n",
       "   {'p': 60,\n",
       "    'n': 67,\n",
       "    'tn': 0.0,\n",
       "    'tp': 0.0,\n",
       "    'acc': 0.0,\n",
       "    'sens': 0.0,\n",
       "    'spec': 0.0,\n",
       "    'npv': 0.0,\n",
       "    'ppv': 0.0,\n",
       "    'bacc': 0.0,\n",
       "    'f1p': 0.0,\n",
       "    'fm': 0.0}],\n",
       "  'tp': 0.0,\n",
       "  'tn': 68.0,\n",
       "  'acc': 0.10675039246467818,\n",
       "  'sens': 0.0,\n",
       "  'spec': 0.20178041543026706,\n",
       "  'npv': 0.18478260869565216,\n",
       "  'ppv': 0.0,\n",
       "  'bacc': 0.10089020771513353,\n",
       "  'f1p': 0.0,\n",
       "  'fm': 0.0},\n",
       " {'p': 964,\n",
       "  'n': 338,\n",
       "  'folds': [{'p': 193,\n",
       "    'n': 68,\n",
       "    'tn': 0.0,\n",
       "    'tp': 0.0,\n",
       "    'acc': 0.0,\n",
       "    'sens': 0.0,\n",
       "    'spec': 0.0,\n",
       "    'npv': 0.0,\n",
       "    'ppv': 0.0,\n",
       "    'bacc': 0.0,\n",
       "    'f1p': 0.0,\n",
       "    'fm': 0.0},\n",
       "   {'p': 193,\n",
       "    'n': 68,\n",
       "    'tn': 26.0,\n",
       "    'tp': 0.0,\n",
       "    'acc': 0.09961685823754789,\n",
       "    'sens': 0.0,\n",
       "    'spec': 0.38235294117647056,\n",
       "    'npv': 0.1187214611872146,\n",
       "    'ppv': 0.0,\n",
       "    'bacc': 0.19117647058823528,\n",
       "    'f1p': 0.0,\n",
       "    'fm': 0.0},\n",
       "   {'p': 193,\n",
       "    'n': 67,\n",
       "    'tn': 67.0,\n",
       "    'tp': 127.0,\n",
       "    'acc': 0.7461538461538462,\n",
       "    'sens': 0.6580310880829016,\n",
       "    'spec': 1.0,\n",
       "    'npv': 0.5037593984962406,\n",
       "    'ppv': 1.0,\n",
       "    'bacc': 0.8290155440414508,\n",
       "    'f1p': 0.79375,\n",
       "    'fm': 0.8111911538490182},\n",
       "   {'p': 193,\n",
       "    'n': 67,\n",
       "    'tn': 67.0,\n",
       "    'tp': 193.0,\n",
       "    'acc': 1.0,\n",
       "    'sens': 1.0,\n",
       "    'spec': 1.0,\n",
       "    'npv': 1.0,\n",
       "    'ppv': 1.0,\n",
       "    'bacc': 1.0,\n",
       "    'f1p': 1.0,\n",
       "    'fm': 1.0},\n",
       "   {'p': 192,\n",
       "    'n': 68,\n",
       "    'tn': 68.0,\n",
       "    'tp': 192.0,\n",
       "    'acc': 1.0,\n",
       "    'sens': 1.0,\n",
       "    'spec': 1.0,\n",
       "    'npv': 1.0,\n",
       "    'ppv': 1.0,\n",
       "    'bacc': 1.0,\n",
       "    'f1p': 1.0,\n",
       "    'fm': 1.0}],\n",
       "  'tp': 512.0,\n",
       "  'tn': 228.0,\n",
       "  'acc': 0.5683563748079877,\n",
       "  'sens': 0.5311203319502075,\n",
       "  'spec': 0.6745562130177515,\n",
       "  'npv': 0.3352941176470588,\n",
       "  'ppv': 0.8231511254019293,\n",
       "  'bacc': 0.6028382724839795,\n",
       "  'f1p': 0.6456494325346784,\n",
       "  'fm': 0.661205186737566}]"
      ]
     },
     "execution_count": 66,
     "metadata": {},
     "output_type": "execute_result"
    }
   ],
   "source": [
    "res[1]"
   ]
  },
  {
   "cell_type": "code",
   "execution_count": null,
   "metadata": {},
   "outputs": [],
   "source": []
  },
  {
   "cell_type": "code",
   "execution_count": null,
   "metadata": {},
   "outputs": [],
   "source": [
    "configuration = [[{} for fold in range(len(problem['folds']))] for problem in expanded]\n",
    "for variable in res.variables():\n",
    "    tokens = variable.name.split('_')\n",
    "    pid = int(tokens[1])\n",
    "    fid = int(tokens[2])\n",
    "    configuration[pid][fid][tokens[0]] = variable.varValue\n",
    "for idx, problem in enumerate(expanded):\n",
    "    for jdx, fold in enumerate(problem['folds']):\n",
    "        configuration[idx][jdx]['p'] = fold['p']\n",
    "        configuration[idx][jdx]['n'] = fold['n']"
   ]
  },
  {
   "cell_type": "code",
   "execution_count": null,
   "metadata": {},
   "outputs": [
    {
     "data": {
      "text/plain": [
       "[[{'tn': 199.0, 'tp': 0.0, 'p': 168, 'n': 199},\n",
       "  {'tn': 0.0, 'tp': 0.0, 'p': 168, 'n': 199},\n",
       "  {'tn': 0.0, 'tp': 0.0, 'p': 168, 'n': 199},\n",
       "  {'tn': 0.0, 'tp': 0.0, 'p': 168, 'n': 199},\n",
       "  {'tn': 0.0, 'tp': 0.0, 'p': 168, 'n': 199}],\n",
       " [{'tn': 0.0, 'tp': 68.0, 'p': 137, 'n': 138},\n",
       "  {'tn': 13.0, 'tp': 137.0, 'p': 137, 'n': 138},\n",
       "  {'tn': 138.0, 'tp': 137.0, 'p': 137, 'n': 138},\n",
       "  {'tn': 138.0, 'tp': 137.0, 'p': 137, 'n': 138},\n",
       "  {'tn': 138.0, 'tp': 136.0, 'p': 136, 'n': 138}],\n",
       " [{'tn': 93.0, 'tp': 121.0, 'p': 121, 'n': 93},\n",
       "  {'tn': 92.0, 'tp': 121.0, 'p': 121, 'n': 92},\n",
       "  {'tn': 92.0, 'tp': 121.0, 'p': 121, 'n': 92},\n",
       "  {'tn': 92.0, 'tp': 121.0, 'p': 121, 'n': 92},\n",
       "  {'tn': 93.0, 'tp': 120.0, 'p': 120, 'n': 93}]]"
      ]
     },
     "execution_count": 82,
     "metadata": {},
     "output_type": "execute_result"
    }
   ],
   "source": [
    "configuration"
   ]
  },
  {
   "cell_type": "code",
   "execution_count": null,
   "metadata": {},
   "outputs": [
    {
     "data": {
      "text/plain": [
       "1"
      ]
     },
     "execution_count": 64,
     "metadata": {},
     "output_type": "execute_result"
    }
   ],
   "source": [
    "res.status"
   ]
  },
  {
   "cell_type": "code",
   "execution_count": null,
   "metadata": {},
   "outputs": [
    {
     "data": {
      "text/plain": [
       "{'acc': 0.5396491228070175,\n",
       " 'sens': 0.5728383458646616,\n",
       " 'spec': 0.5067536096879367,\n",
       " 'npv': 0.5448172258387581,\n",
       " 'ppv': 0.5351185250219491,\n",
       " 'bacc': 0.5397959777762992,\n",
       " 'f1p': 0.5533363595097595,\n",
       " 'fm': 0.5536573043996718}"
      ]
     },
     "execution_count": 65,
     "metadata": {},
     "output_type": "execute_result"
    }
   ],
   "source": [
    "calculate_scores(configuration, strategy=strategy)"
   ]
  },
  {
   "cell_type": "code",
   "execution_count": null,
   "metadata": {},
   "outputs": [
    {
     "data": {
      "text/plain": [
       "{'acc': 0.5396491228070175,\n",
       " 'sens': 0.5728383458646616,\n",
       " 'spec': 0.5067536096879367,\n",
       " 'npv': 0.5448172258387581,\n",
       " 'ppv': 0.5351185250219491,\n",
       " 'bacc': 0.5397959777762992,\n",
       " 'f1p': 0.5533363595097595,\n",
       " 'fm': 0.5536573043996718}"
      ]
     },
     "execution_count": 66,
     "metadata": {},
     "output_type": "execute_result"
    }
   ],
   "source": [
    "scores"
   ]
  },
  {
   "cell_type": "code",
   "execution_count": null,
   "metadata": {},
   "outputs": [],
   "source": []
  },
  {
   "cell_type": "code",
   "execution_count": null,
   "metadata": {},
   "outputs": [
    {
     "data": {
      "text/plain": [
       "[[{'tn': 199.0, 'tp': 0.0, 'p': 168, 'n': 199},\n",
       "  {'tn': 0.0, 'tp': 0.0, 'p': 168, 'n': 199},\n",
       "  {'tn': 0.0, 'tp': 0.0, 'p': 168, 'n': 199},\n",
       "  {'tn': 0.0, 'tp': 0.0, 'p': 168, 'n': 199},\n",
       "  {'tn': 0.0, 'tp': 0.0, 'p': 168, 'n': 199}],\n",
       " [{'tn': 0.0, 'tp': 68.0, 'p': 137, 'n': 138},\n",
       "  {'tn': 13.0, 'tp': 137.0, 'p': 137, 'n': 138},\n",
       "  {'tn': 138.0, 'tp': 137.0, 'p': 137, 'n': 138},\n",
       "  {'tn': 138.0, 'tp': 137.0, 'p': 137, 'n': 138},\n",
       "  {'tn': 138.0, 'tp': 136.0, 'p': 136, 'n': 138}],\n",
       " [{'tn': 93.0, 'tp': 121.0, 'p': 121, 'n': 93},\n",
       "  {'tn': 92.0, 'tp': 121.0, 'p': 121, 'n': 92},\n",
       "  {'tn': 92.0, 'tp': 121.0, 'p': 121, 'n': 92},\n",
       "  {'tn': 92.0, 'tp': 121.0, 'p': 121, 'n': 92},\n",
       "  {'tn': 93.0, 'tp': 120.0, 'p': 120, 'n': 93}]]"
      ]
     },
     "execution_count": 67,
     "metadata": {},
     "output_type": "execute_result"
    }
   ],
   "source": [
    "configuration"
   ]
  },
  {
   "cell_type": "code",
   "execution_count": null,
   "metadata": {},
   "outputs": [
    {
     "data": {
      "text/plain": [
       "[{'folds': [{'p': 7, 'n': 3, 'score_bounds': {'acc': (0.8, 1.0)}},\n",
       "   {'p': 7, 'n': 3, 'score_bounds': {'acc': (0.8, 1.0)}},\n",
       "   {'p': 6, 'n': 4, 'score_bounds': {'acc': (0.8, 1.0)}},\n",
       "   {'p': 7, 'n': 3, 'score_bounds': {'acc': (0.8, 1.0)}},\n",
       "   {'p': 7, 'n': 3, 'score_bounds': {'acc': (0.8, 1.0)}},\n",
       "   {'p': 6, 'n': 4, 'score_bounds': {'acc': (0.8, 1.0)}},\n",
       "   {'p': 7, 'n': 3, 'score_bounds': {'acc': (0.8, 1.0)}},\n",
       "   {'p': 7, 'n': 3, 'score_bounds': {'acc': (0.8, 1.0)}},\n",
       "   {'p': 6, 'n': 4, 'score_bounds': {'acc': (0.8, 1.0)}},\n",
       "   {'p': 7, 'n': 3, 'score_bounds': {'acc': (0.8, 1.0)}},\n",
       "   {'p': 7, 'n': 3, 'score_bounds': {'acc': (0.8, 1.0)}},\n",
       "   {'p': 6, 'n': 4, 'score_bounds': {'acc': (0.8, 1.0)}},\n",
       "   {'p': 7, 'n': 3, 'score_bounds': {'acc': (0.8, 1.0)}},\n",
       "   {'p': 7, 'n': 3, 'score_bounds': {'acc': (0.8, 1.0)}},\n",
       "   {'p': 6, 'n': 4, 'score_bounds': {'acc': (0.8, 1.0)}}],\n",
       "  'p': 100,\n",
       "  'n': 50,\n",
       "  'score_bounds': {'acc': (0.8, 1.0)}},\n",
       " {'folds': [{'p': 10,\n",
       "    'n': 20,\n",
       "    'score_bounds': {'acc': (0.8, 1.0)},\n",
       "    'tptn_bounds': {'tp': (5, 10)}},\n",
       "   {'p': 20,\n",
       "    'n': 30,\n",
       "    'score_bounds': {'acc': (0.7, 0.9)},\n",
       "    'tptn_bounds': {'tp': (2, 20)}}],\n",
       "  'p': 30,\n",
       "  'n': 50}]"
      ]
     },
     "execution_count": 68,
     "metadata": {},
     "output_type": "execute_result"
    }
   ],
   "source": [
    "_expand_datasets([dataseta3, datasetc3])"
   ]
  },
  {
   "cell_type": "code",
   "execution_count": null,
   "metadata": {},
   "outputs": [
    {
     "data": {
      "text/plain": [
       "{'folds': [{'p': 10,\n",
       "   'n': 20,\n",
       "   'tptn_bounds': {'tp': (5, 10)},\n",
       "   'score_bounds': {'acc': (0.8, 1.0)}}],\n",
       " 'p': 10,\n",
       " 'n': 20,\n",
       " 'tptn_bounds': {'tp': (5, 10)},\n",
       " 'score_bounds': {'acc': (0.8, 1.0)}}"
      ]
     },
     "execution_count": 69,
     "metadata": {},
     "output_type": "execute_result"
    }
   ],
   "source": [
    "_expand_datasets(dataseta4)"
   ]
  },
  {
   "cell_type": "code",
   "execution_count": null,
   "metadata": {},
   "outputs": [],
   "source": []
  },
  {
   "cell_type": "code",
   "execution_count": null,
   "metadata": {},
   "outputs": [],
   "source": [
    "def _standardize(datasets, strategy):\n",
    "    if isinstance(datasets, dict):\n",
    "        if strategy[0] == 'som':\n",
    "            if 'fold_configuration' not in datasets:\n",
    "                result = {'p': datasets.get('p') * datasets.get('n_repeats', 1),\n",
    "                            'n': datasets.get('n') * datasets.get('n_repeats', 1)}\n",
    "                if 'score_bounds' in datasets:\n",
    "                    result['score_bounds'] = datasets['score_bounds']\n",
    "            else:\n",
    "                result = _standardize(datasets['fold_configuration'], ['som', 'som'])\n",
    "            return result\n",
    "        elif strategy[0] == 'mos':\n",
    "            if 'fold_configuration' not in datasets:\n",
    "                if 'n_folds' in datasets or 'n_repeats' in datasets:\n",
    "                    return determine_fold_configurations(datasets['p'],\n",
    "                                                            datasets['n'],\n",
    "                                                            datasets.get('n_folds', 1),\n",
    "                                                            datasets.get('n_repeats', 1))\n",
    "                else:\n",
    "                    return [datasets]\n",
    "            else:\n",
    "                return datasets['fold_configuration']\n",
    "    else:\n",
    "        datasets = [_standardize(dataset, strategy[1:]) for dataset in datasets]\n",
    "        if strategy[0] == 'mos':\n",
    "            return datasets\n",
    "        else:\n",
    "            return {'p': sum(dataset['p'] for dataset in datasets),\n",
    "                    'n': sum(dataset['n'] for dataset in datasets)}\n",
    "    "
   ]
  },
  {
   "cell_type": "code",
   "execution_count": null,
   "metadata": {},
   "outputs": [
    {
     "data": {
      "text/plain": [
       "[[{'p': 7, 'n': 3},\n",
       "  {'p': 7, 'n': 3},\n",
       "  {'p': 6, 'n': 4},\n",
       "  {'p': 7, 'n': 3},\n",
       "  {'p': 7, 'n': 3},\n",
       "  {'p': 6, 'n': 4},\n",
       "  {'p': 7, 'n': 3},\n",
       "  {'p': 7, 'n': 3},\n",
       "  {'p': 6, 'n': 4},\n",
       "  {'p': 7, 'n': 3},\n",
       "  {'p': 7, 'n': 3},\n",
       "  {'p': 6, 'n': 4},\n",
       "  {'p': 7, 'n': 3},\n",
       "  {'p': 7, 'n': 3},\n",
       "  {'p': 6, 'n': 4}],\n",
       " [{'folds': [{'p': 10, 'n': 20, 'tptn_bounds': {'tp': (5, 10)}},\n",
       "    {'p': 20, 'n': 30, 'tptn_bounds': {'tp': (2, 20)}}],\n",
       "   'score_bounds': {'acc': (0.75, 0.85)}}]]"
      ]
     },
     "execution_count": 71,
     "metadata": {},
     "output_type": "execute_result"
    }
   ],
   "source": [
    "_standardize([dataseta3, datasetc2], ['mos', 'mos'])"
   ]
  },
  {
   "cell_type": "code",
   "execution_count": null,
   "metadata": {},
   "outputs": [
    {
     "data": {
      "text/plain": [
       "{'a': 5, 'c': 10, 'd': {'1': 5}}"
      ]
     },
     "execution_count": 72,
     "metadata": {},
     "output_type": "execute_result"
    }
   ],
   "source": [
    "accumulate_dicts({'a': 1, 'b': 2, 'c': 5, 'd': {'1': 2}},\n",
    "                    {'a': 4, 'c': 5, 'd': {'1': 3, '2': 4}})"
   ]
  },
  {
   "cell_type": "code",
   "execution_count": null,
   "metadata": {},
   "outputs": [
    {
     "data": {
      "text/plain": [
       "{'a': 6, 'c': 15, 'd': {'1': 7}}"
      ]
     },
     "execution_count": 73,
     "metadata": {},
     "output_type": "execute_result"
    }
   ],
   "source": [
    "aggregate_dicts([{'a': 1, 'b': 2, 'c': 5, 'd': {'1': 2}},\n",
    "                    {'a': 4, 'c': 5, 'd': {'1': 3, '2': 4}},\n",
    "                    {'a': 1, 'b': 2, 'c': 5, 'd': {'1': 2}}])"
   ]
  },
  {
   "cell_type": "code",
   "execution_count": null,
   "metadata": {},
   "outputs": [
    {
     "name": "stdout",
     "output_type": "stream",
     "text": [
      "[{'p': 4, 'n': 6, 'score_bounds': {'acc': (0.8, 1.0)}, 'tptn_bounds': {'tp': (5, 10)}}, {'p': 3, 'n': 7, 'score_bounds': {'acc': (0.8, 1.0)}, 'tptn_bounds': {'tp': (5, 10)}}, {'p': 3, 'n': 7, 'score_bounds': {'acc': (0.8, 1.0)}, 'tptn_bounds': {'tp': (5, 10)}}, {'p': 4, 'n': 6, 'score_bounds': {'acc': (0.8, 1.0)}, 'tptn_bounds': {'tp': (5, 10)}}, {'p': 3, 'n': 7, 'score_bounds': {'acc': (0.8, 1.0)}, 'tptn_bounds': {'tp': (5, 10)}}, {'p': 3, 'n': 7, 'score_bounds': {'acc': (0.8, 1.0)}, 'tptn_bounds': {'tp': (5, 10)}}, {'p': 4, 'n': 6, 'score_bounds': {'acc': (0.8, 1.0)}, 'tptn_bounds': {'tp': (5, 10)}}, {'p': 3, 'n': 7, 'score_bounds': {'acc': (0.8, 1.0)}, 'tptn_bounds': {'tp': (5, 10)}}, {'p': 3, 'n': 7, 'score_bounds': {'acc': (0.8, 1.0)}, 'tptn_bounds': {'tp': (5, 10)}}, {'p': 4, 'n': 6, 'score_bounds': {'acc': (0.8, 1.0)}, 'tptn_bounds': {'tp': (5, 10)}}, {'p': 3, 'n': 7, 'score_bounds': {'acc': (0.8, 1.0)}, 'tptn_bounds': {'tp': (5, 10)}}, {'p': 3, 'n': 7, 'score_bounds': {'acc': (0.8, 1.0)}, 'tptn_bounds': {'tp': (5, 10)}}, {'p': 4, 'n': 6, 'score_bounds': {'acc': (0.8, 1.0)}, 'tptn_bounds': {'tp': (5, 10)}}, {'p': 3, 'n': 7, 'score_bounds': {'acc': (0.8, 1.0)}, 'tptn_bounds': {'tp': (5, 10)}}, {'p': 3, 'n': 7, 'score_bounds': {'acc': (0.8, 1.0)}, 'tptn_bounds': {'tp': (5, 10)}}]\n"
     ]
    }
   ],
   "source": [
    "print(prepare_for_mos({'p': 10, 'n': 20, 'n_repeats': 5, 'n_folds': 3, 'score_bounds': {'acc': (0.8, 1.0)}, 'tptn_bounds': {'tp': (5, 10)}}, depth=0))"
   ]
  },
  {
   "cell_type": "code",
   "execution_count": null,
   "metadata": {},
   "outputs": [
    {
     "name": "stdout",
     "output_type": "stream",
     "text": [
      "[{'p': 26, 'n': 86, 'score_bounds': {'acc': (0.8, 1.0)}, 'tptn_bounds': {'tp': (5, 10)}}, {'p': 26, 'n': 86, 'score_bounds': {'acc': (0.8, 1.0)}, 'tptn_bounds': {'tp': (5, 10)}}, {'p': 25, 'n': 87, 'score_bounds': {'acc': (0.8, 1.0)}, 'tptn_bounds': {'tp': (5, 10)}}, {'p': 26, 'n': 86, 'score_bounds': {'acc': (0.8, 1.0)}, 'tptn_bounds': {'tp': (5, 10)}}, {'p': 26, 'n': 86, 'score_bounds': {'acc': (0.8, 1.0)}, 'tptn_bounds': {'tp': (5, 10)}}, {'p': 25, 'n': 87, 'score_bounds': {'acc': (0.8, 1.0)}, 'tptn_bounds': {'tp': (5, 10)}}, {'p': 26, 'n': 86, 'score_bounds': {'acc': (0.8, 1.0)}, 'tptn_bounds': {'tp': (5, 10)}}, {'p': 26, 'n': 86, 'score_bounds': {'acc': (0.8, 1.0)}, 'tptn_bounds': {'tp': (5, 10)}}, {'p': 25, 'n': 87, 'score_bounds': {'acc': (0.8, 1.0)}, 'tptn_bounds': {'tp': (5, 10)}}, {'p': 26, 'n': 86, 'score_bounds': {'acc': (0.8, 1.0)}, 'tptn_bounds': {'tp': (5, 10)}}, {'p': 26, 'n': 86, 'score_bounds': {'acc': (0.8, 1.0)}, 'tptn_bounds': {'tp': (5, 10)}}, {'p': 25, 'n': 87, 'score_bounds': {'acc': (0.8, 1.0)}, 'tptn_bounds': {'tp': (5, 10)}}, {'p': 26, 'n': 86, 'score_bounds': {'acc': (0.8, 1.0)}, 'tptn_bounds': {'tp': (5, 10)}}, {'p': 26, 'n': 86, 'score_bounds': {'acc': (0.8, 1.0)}, 'tptn_bounds': {'tp': (5, 10)}}, {'p': 25, 'n': 87, 'score_bounds': {'acc': (0.8, 1.0)}, 'tptn_bounds': {'tp': (5, 10)}}]\n"
     ]
    }
   ],
   "source": [
    "print(prepare_for_mos({'dataset': 'common_datasets.ecoli1', 'n_repeats': 5, 'n_folds': 3, 'score_bounds': {'acc': (0.8, 1.0)}, 'tptn_bounds': {'tp': (5, 10)}}, depth=0))"
   ]
  },
  {
   "cell_type": "code",
   "execution_count": null,
   "metadata": {},
   "outputs": [
    {
     "name": "stdout",
     "output_type": "stream",
     "text": [
      "[{'p': 10, 'n': 5, 'score_bounds': {'acc': (0.8, 1.0)}, 'tptn_bounds': {'tp': (5, 10)}}, {'p': 5, 'n': 20, 'score_bounds': {'acc': (0.9, 1.0)}, 'tptn_bounds': {'tp': (8, 20)}}]\n"
     ]
    }
   ],
   "source": [
    "print(prepare_for_mos({'fold_configuration': [{'p': 10, 'n': 5, 'score_bounds': {'acc': (0.8, 1.0)}, 'tptn_bounds': {'tp': (5, 10)}}, \n",
    "                                            {'p': 5, 'n': 20, 'score_bounds': {'acc': (0.9, 1.0)}, 'tptn_bounds': {'tp': (8, 20)}}]}, depth=0))"
   ]
  },
  {
   "cell_type": "code",
   "execution_count": null,
   "metadata": {},
   "outputs": [],
   "source": [
    "fold_configuration = [{'p': 10, 'n': 5, 'score_bounds': {'acc': (0.8, 1.0)}, \n",
    "                                        'tptn_bounds': {'tp': (5, 10)}}, \n",
    "                        {'p': 5, 'n': 20, 'score_bounds': {'acc': (0.9, 1.0)}, \n",
    "                                            'tptn_bounds': {'tp': (8, 20)}}]"
   ]
  },
  {
   "cell_type": "code",
   "execution_count": null,
   "metadata": {},
   "outputs": [
    {
     "data": {
      "text/plain": [
       "[{'p': 10, 'n': 20},\n",
       " {'p': 77, 'n': 259},\n",
       " {'p': 15,\n",
       "  'n': 25,\n",
       "  'score_bounds': {'acc': (0.8500000000000001, 1.0)},\n",
       "  'tptn_bounds': {'tp': (13, 30)}}]"
      ]
     },
     "execution_count": 78,
     "metadata": {},
     "output_type": "execute_result"
    }
   ],
   "source": [
    "prepare_for_mos([{\"p\": 10, \"n\": 20},\n",
    "                {\"dataset\": \"common_datasets.ecoli1\"},\n",
    "                {\"fold_configuration\": fold_configuration}], depth=0)"
   ]
  },
  {
   "cell_type": "code",
   "execution_count": null,
   "metadata": {},
   "outputs": [
    {
     "data": {
      "text/plain": [
       "[{'p': 50,\n",
       "  'n': 100,\n",
       "  'score_bounds': {'acc': (0.6999999999999998, 1.0)},\n",
       "  'tptn_bounds': {'tp': (75, 150)}},\n",
       " {'p': 77, 'n': 259},\n",
       " {'p': 15,\n",
       "  'n': 25,\n",
       "  'score_bounds': {'acc': (0.8500000000000001, 1.0)},\n",
       "  'tptn_bounds': {'tp': (13, 30)}}]"
      ]
     },
     "execution_count": 79,
     "metadata": {},
     "output_type": "execute_result"
    }
   ],
   "source": [
    "prepare_for_mos([{\"p\": 10, \"n\": 20, \"n_repeats\": 5, \"n_folds\": 3, \n",
    "                    \"score_bounds\": {'acc': (0.7, 1.0)}, \"tptn_bounds\": {'tp': (5, 10)}},\n",
    "                {\"dataset\": \"common_datasets.ecoli1\"},\n",
    "                {\"fold_configuration\": fold_configuration}], depth=0)"
   ]
  },
  {
   "cell_type": "code",
   "execution_count": null,
   "metadata": {},
   "outputs": [
    {
     "data": {
      "text/plain": [
       "[[{'p': 4, 'n': 6, 'score_bounds': {'acc': (0.7, 1.0)}},\n",
       "  {'p': 3, 'n': 7, 'score_bounds': {'acc': (0.7, 1.0)}},\n",
       "  {'p': 3, 'n': 7, 'score_bounds': {'acc': (0.7, 1.0)}},\n",
       "  {'p': 4, 'n': 6, 'score_bounds': {'acc': (0.7, 1.0)}},\n",
       "  {'p': 3, 'n': 7, 'score_bounds': {'acc': (0.7, 1.0)}},\n",
       "  {'p': 3, 'n': 7, 'score_bounds': {'acc': (0.7, 1.0)}},\n",
       "  {'p': 4, 'n': 6, 'score_bounds': {'acc': (0.7, 1.0)}},\n",
       "  {'p': 3, 'n': 7, 'score_bounds': {'acc': (0.7, 1.0)}},\n",
       "  {'p': 3, 'n': 7, 'score_bounds': {'acc': (0.7, 1.0)}},\n",
       "  {'p': 4, 'n': 6, 'score_bounds': {'acc': (0.7, 1.0)}},\n",
       "  {'p': 3, 'n': 7, 'score_bounds': {'acc': (0.7, 1.0)}},\n",
       "  {'p': 3, 'n': 7, 'score_bounds': {'acc': (0.7, 1.0)}},\n",
       "  {'p': 4, 'n': 6, 'score_bounds': {'acc': (0.7, 1.0)}},\n",
       "  {'p': 3, 'n': 7, 'score_bounds': {'acc': (0.7, 1.0)}},\n",
       "  {'p': 3, 'n': 7, 'score_bounds': {'acc': (0.7, 1.0)}}],\n",
       " [{'p': 77, 'n': 259}],\n",
       " [{'p': 10,\n",
       "   'n': 5,\n",
       "   'score_bounds': {'acc': (0.8, 1.0)},\n",
       "   'tptn_bounds': {'tp': (5, 10)}},\n",
       "  {'p': 5,\n",
       "   'n': 20,\n",
       "   'score_bounds': {'acc': (0.9, 1.0)},\n",
       "   'tptn_bounds': {'tp': (8, 20)}}]]"
      ]
     },
     "execution_count": 80,
     "metadata": {},
     "output_type": "execute_result"
    }
   ],
   "source": [
    "prepare_for_mos([{\"p\": 10, \"n\": 20, \"n_repeats\": 5, \"n_folds\": 3, \n",
    "                    \"score_bounds\": {'acc': (0.7, 1.0)}},\n",
    "                {\"dataset\": \"common_datasets.ecoli1\"},\n",
    "                {\"fold_configuration\": fold_configuration}], depth=1)"
   ]
  },
  {
   "cell_type": "code",
   "execution_count": null,
   "metadata": {},
   "outputs": [],
   "source": []
  }
 ],
 "metadata": {
  "kernelspec": {
   "display_name": "mlscorecheck",
   "language": "python",
   "name": "python3"
  },
  "language_info": {
   "codemirror_mode": {
    "name": "ipython",
    "version": 3
   },
   "file_extension": ".py",
   "mimetype": "text/x-python",
   "name": "python",
   "nbconvert_exporter": "python",
   "pygments_lexer": "ipython3",
   "version": "3.10.0"
  },
  "orig_nbformat": 4
 },
 "nbformat": 4,
 "nbformat_minor": 2
}
