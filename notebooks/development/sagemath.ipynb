{
 "cells": [
  {
   "cell_type": "code",
   "execution_count": 169,
   "metadata": {
    "vscode": {
     "languageId": "python"
    }
   },
   "outputs": [],
   "source": [
    "import sage"
   ]
  },
  {
   "cell_type": "code",
   "execution_count": 170,
   "metadata": {
    "vscode": {
     "languageId": "python"
    }
   },
   "outputs": [
    {
     "data": {
      "text/plain": [
       "['AA',\n",
       " 'AbelianGroup',\n",
       " 'AbelianGroupMorphism',\n",
       " 'AbelianGroupWithValues',\n",
       " 'AbelianVariety',\n",
       " 'AdditiveAbelianGroup',\n",
       " 'AdditiveAbelianGroupWrapper',\n",
       " 'AdditiveAbelianGroupWrapperElement',\n",
       " 'AdditiveMagmas',\n",
       " 'AffineCryptosystem',\n",
       " 'AffineGroup',\n",
       " 'AffineHypersurface',\n",
       " 'AffineNilTemperleyLiebTypeA',\n",
       " 'AffinePermutationGroup',\n",
       " 'AffineSpace',\n",
       " 'AffineToricVariety',\n",
       " 'AffineWeylGroups',\n",
       " 'AlarmInterrupt',\n",
       " 'Algebra',\n",
       " 'AlgebraIdeals',\n",
       " 'AlgebraModules',\n",
       " 'AlgebraicField',\n",
       " 'AlgebraicNumber',\n",
       " 'AlgebraicReal',\n",
       " 'AlgebraicRealField',\n",
       " 'Algebras',\n",
       " 'AlgebrasWithBasis',\n",
       " 'AllCusps',\n",
       " 'AllExactCovers',\n",
       " 'Alphabet',\n",
       " 'AlphabeticStrings',\n",
       " 'AlternatingGroup',\n",
       " 'AlternatingSignMatrices',\n",
       " 'AlternatingSignMatrix',\n",
       " 'ArithmeticSubgroup_Permutation',\n",
       " 'Arrangements',\n",
       " 'ArtinGroup',\n",
       " 'AssionGroupS',\n",
       " 'AssionGroupU',\n",
       " 'AsymptoticRing',\n",
       " 'AtkinModularCorrespondenceDatabase',\n",
       " 'AtkinModularPolynomialDatabase',\n",
       " 'AugmentedLatticeDiagramFilling',\n",
       " 'Automaton',\n",
       " 'Axiom',\n",
       " 'BackslashOperator',\n",
       " 'BaxterPermutations',\n",
       " 'Berkovich_Cp_Affine',\n",
       " 'Berkovich_Cp_Projective',\n",
       " 'Bessel',\n",
       " 'BezoutianQuadraticForm',\n",
       " 'Bialgebras',\n",
       " 'BialgebrasWithBasis',\n",
       " 'Bijectionist',\n",
       " 'Bimodules',\n",
       " 'BinaryQF',\n",
       " 'BinaryQF_reduced_representatives',\n",
       " 'BinaryRecurrenceSequence',\n",
       " 'BinaryStrings',\n",
       " 'BinaryTree',\n",
       " 'BinaryTrees',\n",
       " 'BipartiteGraph',\n",
       " 'Bitset',\n",
       " 'BlockDesign',\n",
       " 'BooleanPolynomialRing',\n",
       " 'BraidGroup',\n",
       " 'BranchingRule',\n",
       " 'BrandtModule',\n",
       " 'BrauerAlgebra',\n",
       " 'BruhatTitsQuotient',\n",
       " 'CBF',\n",
       " 'CC',\n",
       " 'CDF',\n",
       " 'CFiniteSequence',\n",
       " 'CFiniteSequences',\n",
       " 'CIF',\n",
       " 'CLF',\n",
       " 'CPRFanoToricVariety',\n",
       " 'CRT',\n",
       " 'CRT_basis',\n",
       " 'CRT_list',\n",
       " 'CRT_vectors',\n",
       " 'CachedFunction',\n",
       " 'CallableSymbolicExpressionRing',\n",
       " 'CartanMatrix',\n",
       " 'CartanType',\n",
       " 'Category',\n",
       " 'ChainComplex',\n",
       " 'ChainComplexMorphism',\n",
       " 'ChainComplexes',\n",
       " 'Chi',\n",
       " 'Ci',\n",
       " 'ClassFunction',\n",
       " 'ClassicalCrystals',\n",
       " 'ClassicalModularPolynomialDatabase',\n",
       " 'CliffordAlgebra',\n",
       " 'ClusterAlgebra',\n",
       " 'ClusterComplex',\n",
       " 'ClusterQuiver',\n",
       " 'ClusterSeed',\n",
       " 'Coalgebras',\n",
       " 'CoalgebrasWithBasis',\n",
       " 'Color',\n",
       " 'ColoredPermutations',\n",
       " 'Combinations',\n",
       " 'CombinatorialClass',\n",
       " 'CombinatorialFreeModule',\n",
       " 'CombinatorialObject',\n",
       " 'CombinatorialPolyhedron',\n",
       " 'CombinatorialSpecies',\n",
       " 'CommutativeAdditiveGroups',\n",
       " 'CommutativeAdditiveMonoids',\n",
       " 'CommutativeAdditiveSemigroups',\n",
       " 'CommutativeAlgebraElement',\n",
       " 'CommutativeAlgebraIdeals',\n",
       " 'CommutativeAlgebras',\n",
       " 'CommutativeRing',\n",
       " 'CommutativeRingElement',\n",
       " 'CommutativeRingIdeals',\n",
       " 'CommutativeRings',\n",
       " 'CompleteDiscreteValuationFields',\n",
       " 'CompleteDiscreteValuationRings',\n",
       " 'ComplexBallField',\n",
       " 'ComplexDoubleElement',\n",
       " 'ComplexDoubleField',\n",
       " 'ComplexField',\n",
       " 'ComplexIntervalField',\n",
       " 'ComplexIntervalFieldElement',\n",
       " 'ComplexLazyField',\n",
       " 'ComplexNumber',\n",
       " 'Complexes',\n",
       " 'Composition',\n",
       " 'CompositionTableau',\n",
       " 'CompositionTableaux',\n",
       " 'Compositions',\n",
       " 'ConditionSet',\n",
       " 'Cone',\n",
       " 'CongruenceSubgroup',\n",
       " 'Conic',\n",
       " 'ConjugacyClass',\n",
       " 'ConjugacyClassGAP',\n",
       " 'ConstantFunction',\n",
       " 'Constellation',\n",
       " 'Constellations',\n",
       " 'ContreTableaux',\n",
       " 'ConwayPolynomials',\n",
       " 'CooperativeGame',\n",
       " 'Core',\n",
       " 'Cores',\n",
       " 'CoveringDesign',\n",
       " 'CoxeterGroup',\n",
       " 'CoxeterGroups',\n",
       " 'CoxeterMatrix',\n",
       " 'CoxeterType',\n",
       " 'CremonaDatabase',\n",
       " 'CremonaModularSymbols',\n",
       " 'Crystals',\n",
       " 'CubeGroup',\n",
       " 'CubicBraidGroup',\n",
       " 'CubicalComplex',\n",
       " 'Curve',\n",
       " 'Cusp',\n",
       " 'CuspFamily',\n",
       " 'CuspForms',\n",
       " 'Cusps',\n",
       " 'CyclicCover',\n",
       " 'CyclicPermutationGroup',\n",
       " 'CyclicPermutations',\n",
       " 'CyclicPermutationsOfPartition',\n",
       " 'CyclicSievingCheck',\n",
       " 'CyclicSievingPolynomial',\n",
       " 'CyclotomicField',\n",
       " 'Cylindrical',\n",
       " 'D',\n",
       " 'DLXCPP',\n",
       " 'DLXMatrix',\n",
       " 'DOT_SAGE',\n",
       " 'DWT',\n",
       " 'DatabaseKnotInfo',\n",
       " 'DeBruijnSequences',\n",
       " 'DecoratedPermutation',\n",
       " 'DecoratedPermutations',\n",
       " 'DedekindDomain',\n",
       " 'DedekindDomainElement',\n",
       " 'DedekindEtaModularCorrespondenceDatabase',\n",
       " 'DedekindEtaModularPolynomialDatabase',\n",
       " 'DegreeSequences',\n",
       " 'DeltaComplex',\n",
       " 'Derangements',\n",
       " 'DescentAlgebra',\n",
       " 'DiCyclicGroup',\n",
       " 'DiGraph',\n",
       " 'DiagonalQuadraticForm',\n",
       " 'DifferentialWeylAlgebra',\n",
       " 'DihedralGroup',\n",
       " 'DirichletGroup',\n",
       " 'DiscreteDynamicalSystem',\n",
       " 'DiscreteProbabilitySpace',\n",
       " 'DiscreteRandomVariable',\n",
       " 'DiscreteValuationFields',\n",
       " 'DiscreteValuationRings',\n",
       " 'DiscreteValueGroup',\n",
       " 'DisjointSet',\n",
       " 'DisjointUnionEnumeratedSets',\n",
       " 'DivisionRings',\n",
       " 'Dokchitser',\n",
       " 'Domains',\n",
       " 'DrinfeldModule',\n",
       " 'DyckWord',\n",
       " 'DyckWords',\n",
       " 'DynamicalSystem',\n",
       " 'DynamicalSystem_Berkovich',\n",
       " 'DynamicalSystem_affine',\n",
       " 'DynamicalSystem_product_projective',\n",
       " 'DynamicalSystem_projective',\n",
       " 'DynkinDiagram',\n",
       " 'E',\n",
       " 'ECM',\n",
       " 'Ei',\n",
       " 'EisensteinForms',\n",
       " 'EisensteinIntegers',\n",
       " 'ElementWrapper',\n",
       " 'Elements',\n",
       " 'EllipticCurve',\n",
       " 'EllipticCurveIsogeny',\n",
       " 'EllipticCurve_fsom_c4c6',\n",
       " 'EllipticCurve_fsom_cubic',\n",
       " 'EllipticCurve_fsom_j',\n",
       " 'EllipticCurves_with_good_reduction_outside_S',\n",
       " 'EmptySetError',\n",
       " 'End',\n",
       " 'EnumeratedSets',\n",
       " 'EquationOrder',\n",
       " 'EtaGroup',\n",
       " 'EtaGroupElement',\n",
       " 'EtaProduct',\n",
       " 'EuclideanDomain',\n",
       " 'EuclideanDomainElement',\n",
       " 'EuclideanDomains',\n",
       " 'EuclideanGroup',\n",
       " 'EuclideanSpace',\n",
       " 'Euler_Phi',\n",
       " 'Expression',\n",
       " 'ExtendedAffineWeylGroup',\n",
       " 'ExteriorAlgebra',\n",
       " 'FFT',\n",
       " 'FaceFan',\n",
       " 'Factorization',\n",
       " 'Family',\n",
       " 'Fan',\n",
       " 'Fan2d',\n",
       " 'FanMorphism',\n",
       " 'FareySymbol',\n",
       " 'FastFourierTransform',\n",
       " 'Field',\n",
       " 'FieldElement',\n",
       " 'Fields',\n",
       " 'FilteredCombinatorialClass',\n",
       " 'FilteredSimplicialComplex',\n",
       " 'FilteredVectorSpace',\n",
       " 'FiniteCoxeterGroups',\n",
       " 'FiniteCrystals',\n",
       " 'FiniteDimensionalAlgebra',\n",
       " 'FiniteDimensionalAlgebrasWithBasis',\n",
       " 'FiniteDimensionalBialgebrasWithBasis',\n",
       " 'FiniteDimensionalCoalgebrasWithBasis',\n",
       " 'FiniteDimensionalHopfAlgebrasWithBasis',\n",
       " 'FiniteDimensionalModulesWithBasis',\n",
       " 'FiniteEnumeratedSet',\n",
       " 'FiniteEnumeratedSets',\n",
       " 'FiniteField',\n",
       " 'FiniteFields',\n",
       " 'FiniteGroups',\n",
       " 'FiniteLatticePosets',\n",
       " 'FiniteMonoids',\n",
       " 'FinitePermutationGroups',\n",
       " 'FinitePosets',\n",
       " 'FiniteRankFreeModule',\n",
       " 'FiniteSemigroups',\n",
       " 'FiniteSetMaps',\n",
       " 'FiniteSets',\n",
       " 'FiniteStateMachine',\n",
       " 'FiniteWeylGroups',\n",
       " 'FiniteWords',\n",
       " 'FockSpace',\n",
       " 'ForgetfulFunctor',\n",
       " 'FormalSum',\n",
       " 'FormalSums',\n",
       " 'Frac',\n",
       " 'FractionField',\n",
       " 'FreeAbelianMonoid',\n",
       " 'FreeAlgebra',\n",
       " 'FreeAlgebraQuotient',\n",
       " 'FreeGroup',\n",
       " 'FreeModule',\n",
       " 'FreeModules',\n",
       " 'FreeMonoid',\n",
       " 'FreeQuadraticModule',\n",
       " 'FreeQuasisymmetricFunctions',\n",
       " 'FreeSymmetricFunctions',\n",
       " 'FriCAS',\n",
       " 'FrozenBitset',\n",
       " 'FullyPackedLoop',\n",
       " 'FullyPackedLoops',\n",
       " 'FunctionField',\n",
       " 'FunctionFields',\n",
       " 'FusionRing',\n",
       " 'G1list',\n",
       " 'GCD',\n",
       " 'GF',\n",
       " 'GHlist',\n",
       " 'GL',\n",
       " 'GO',\n",
       " 'GSets',\n",
       " 'GU',\n",
       " 'Gamma',\n",
       " 'Gamma0',\n",
       " 'Gamma0_NFCusps',\n",
       " 'Gamma1',\n",
       " 'GammaH',\n",
       " 'Gap',\n",
       " 'Gap3',\n",
       " 'GaussValuation',\n",
       " 'GaussianIntegers',\n",
       " 'GcdDomains',\n",
       " 'GelfandTsetlinPattern',\n",
       " 'GelfandTsetlinPatterns',\n",
       " 'GeneralDihedralGroup',\n",
       " 'GeneralDiscreteDistribution',\n",
       " 'GenericGraphQuery',\n",
       " 'Genus',\n",
       " 'Genus2reduction',\n",
       " 'Gfan',\n",
       " 'Giac',\n",
       " 'Gp',\n",
       " 'GradedAlgebras',\n",
       " 'GradedAlgebrasWithBasis',\n",
       " 'GradedBialgebras',\n",
       " 'GradedBialgebrasWithBasis',\n",
       " 'GradedCoalgebras',\n",
       " 'GradedCoalgebrasWithBasis',\n",
       " 'GradedCommutativeAlgebra',\n",
       " 'GradedHopfAlgebras',\n",
       " 'GradedHopfAlgebrasWithBasis',\n",
       " 'GradedModules',\n",
       " 'GradedModulesWithBasis',\n",
       " 'Graph',\n",
       " 'GraphDatabase',\n",
       " 'GraphPaths',\n",
       " 'GraphQuery',\n",
       " 'Graphics',\n",
       " 'GroupAlgebra',\n",
       " 'GroupAlgebras',\n",
       " 'GroupExp',\n",
       " 'GroupExpElement',\n",
       " 'GroupExp_Class',\n",
       " 'GroupSemidirectProduct',\n",
       " 'GroupSemidirectProductElement',\n",
       " 'Groupoid',\n",
       " 'Groups',\n",
       " 'GrowthDiagram',\n",
       " 'HallAlgebra',\n",
       " 'Hasse_bounds',\n",
       " 'HeckeAlgebraSymmetricGroupT',\n",
       " 'HeckeModules',\n",
       " 'HeilbronnCremona',\n",
       " 'HeilbronnMerel',\n",
       " 'HexadecimalStrings',\n",
       " 'HighestWeightCrystals',\n",
       " 'HilbertClassPolynomialDatabase',\n",
       " 'HillCryptosystem',\n",
       " 'Hom',\n",
       " 'HomologyFunctor',\n",
       " 'Homset',\n",
       " 'HomsetWithBase',\n",
       " 'HopfAlgebras',\n",
       " 'HopfAlgebrasWithBasis',\n",
       " 'HyperbolicPlane',\n",
       " 'HyperbolicPlane_quadratic_form',\n",
       " 'HyperellipticCurve',\n",
       " 'HyperellipticCurve_fsom_invariants',\n",
       " 'Hypergraph',\n",
       " 'HyperplaneArrangements',\n",
       " 'I',\n",
       " 'Ideal',\n",
       " 'Ideals',\n",
       " 'IdentityFunctor',\n",
       " 'IncidenceStructure',\n",
       " 'IncreasingTableau',\n",
       " 'IncreasingTableaux',\n",
       " 'IndexedSequence',\n",
       " 'InfiniteAbstractCombinatorialClass',\n",
       " 'InfiniteEnumeratedSets',\n",
       " 'InfinitePolynomialRing',\n",
       " 'InfiniteWords',\n",
       " 'Infinity',\n",
       " 'InfinityRing',\n",
       " 'InnerProductSpace',\n",
       " 'InsertionRules',\n",
       " 'IntList',\n",
       " 'Integer',\n",
       " 'IntegerListsLex',\n",
       " 'IntegerMod',\n",
       " 'IntegerModRing',\n",
       " 'IntegerRange',\n",
       " 'IntegerRing',\n",
       " 'IntegerValuedPolynomialRing',\n",
       " 'IntegerVectors',\n",
       " 'IntegerVectorsModPermutationGroup',\n",
       " 'Integers',\n",
       " 'IntegrableRepresentation',\n",
       " 'IntegralDomain',\n",
       " 'IntegralDomainElement',\n",
       " 'IntegralDomains',\n",
       " 'IntegralLattice',\n",
       " 'InteractiveLPProblem',\n",
       " 'InteractiveLPProblemStandardForm',\n",
       " 'IwahoriHeckeAlgebra',\n",
       " 'J0',\n",
       " 'J1',\n",
       " 'JH',\n",
       " 'Jacobian',\n",
       " 'JoinSemilattice',\n",
       " 'JonesDatabase',\n",
       " 'JordanAlgebra',\n",
       " 'Kash',\n",
       " 'KazhdanLusztigPolynomial',\n",
       " 'KeyPolynomials',\n",
       " 'KleinFourGroup',\n",
       " 'KleshchevPartitions',\n",
       " 'Knot',\n",
       " 'Knots',\n",
       " 'KnutsonTaoPuzzleSolver',\n",
       " 'KodairaSymbol',\n",
       " 'KostkaFoulkesPolynomial',\n",
       " 'KoszulComplex',\n",
       " 'KummerSurface',\n",
       " 'LCM',\n",
       " 'LFSRCryptosystem',\n",
       " 'LFunctionZeroSum',\n",
       " 'LabelledBinaryTree',\n",
       " 'LabelledBinaryTrees',\n",
       " 'LabelledOrderedTree',\n",
       " 'LabelledOrderedTrees',\n",
       " 'LabelledRootedTree',\n",
       " 'LabelledRootedTrees',\n",
       " 'LatexExpr',\n",
       " 'LatinSquare',\n",
       " 'LatinSquare_generator',\n",
       " 'LatticeDiagram',\n",
       " 'LatticePolytope',\n",
       " 'LatticePoset',\n",
       " 'LatticePosets',\n",
       " 'LaurentPolynomialRing',\n",
       " 'LaurentSeries',\n",
       " 'LaurentSeriesRing',\n",
       " 'LazyDirichletSeriesRing',\n",
       " 'LazyLaurentSeriesRing',\n",
       " 'LazyPowerSeriesRing',\n",
       " 'LazySymmetricFunctions',\n",
       " 'LeftModules',\n",
       " 'Li',\n",
       " 'LiE',\n",
       " 'LieAlgebra',\n",
       " 'LieAlgebras',\n",
       " 'LieConformalAlgebra',\n",
       " 'LieConformalAlgebras',\n",
       " 'LinearCode',\n",
       " 'Link',\n",
       " 'Lisp',\n",
       " 'LittlewoodRichardsonTableau',\n",
       " 'LittlewoodRichardsonTableaux',\n",
       " 'LocalComponent',\n",
       " 'Localization',\n",
       " 'LyndonWord',\n",
       " 'LyndonWords',\n",
       " 'MPComplexField',\n",
       " 'MSymbol',\n",
       " 'MacMahonOmega',\n",
       " 'Macaulay2',\n",
       " 'Magma',\n",
       " 'Magmas',\n",
       " 'Manifold',\n",
       " 'MapCombinatorialClass',\n",
       " 'Maple',\n",
       " 'Mat',\n",
       " 'MatchingGame',\n",
       " 'Mathematica',\n",
       " 'Mathics',\n",
       " 'MathieuGroup',\n",
       " 'Matlab',\n",
       " 'Matrix',\n",
       " 'MatrixAlgebras',\n",
       " 'MatrixGroup',\n",
       " 'MatrixSpace',\n",
       " 'Matroid',\n",
       " 'Maxima',\n",
       " 'MeetSemilattice',\n",
       " 'Mestre_conic',\n",
       " 'Minimog',\n",
       " 'MixedIntegerLinearProgram',\n",
       " 'Mod',\n",
       " 'ModularAbelianVarieties',\n",
       " 'ModularForms',\n",
       " 'ModularFormsRing',\n",
       " 'ModularSymbols',\n",
       " 'ModularSymbols_clear_cache',\n",
       " 'Modules',\n",
       " 'ModulesWithBasis',\n",
       " 'Moebius',\n",
       " 'MonoidAlgebras',\n",
       " 'Monoids',\n",
       " 'MonotoneTriangles',\n",
       " 'Morphism',\n",
       " 'MultiFilteredVectorSpace',\n",
       " 'MultiSkewTableau',\n",
       " 'MultiSkewTableaux',\n",
       " 'Multizeta',\n",
       " 'Multizetas',\n",
       " 'Mupad',\n",
       " 'Mutability',\n",
       " 'Mwrank',\n",
       " 'N',\n",
       " 'NFCusp',\n",
       " 'NFCusps',\n",
       " 'NN',\n",
       " 'NaN',\n",
       " 'Necklaces',\n",
       " 'NefPartition',\n",
       " 'Newform',\n",
       " 'Newforms',\n",
       " 'NilCoxeterAlgebra',\n",
       " 'NonCommutativeSymmetricFunctions',\n",
       " 'NonDecreasingParkingFunction',\n",
       " 'NonDecreasingParkingFunctions',\n",
       " 'NonNegativeIntegerSemiring',\n",
       " 'NonNegativeIntegers',\n",
       " 'NonSymmetricMacdonaldPolynomials',\n",
       " 'NonattackingFillings',\n",
       " 'NormalFan',\n",
       " 'NormalFormGame',\n",
       " 'NuDyckWord',\n",
       " 'NuDyckWords',\n",
       " 'NumberField',\n",
       " 'NumberFieldElement',\n",
       " 'NumberFieldTower',\n",
       " 'NumberFields',\n",
       " 'O',\n",
       " 'Objects',\n",
       " 'OctalStrings',\n",
       " 'Octave',\n",
       " 'OneExactCover',\n",
       " 'OpenInterval',\n",
       " 'OrderedMonoids',\n",
       " 'OrderedMultisetPartitionIntoSets',\n",
       " 'OrderedMultisetPartitionsIntoSets',\n",
       " 'OrderedPartitions',\n",
       " 'OrderedSetPartition',\n",
       " 'OrderedSetPartitions',\n",
       " 'OrderedSets',\n",
       " 'OrderedTree',\n",
       " 'OrderedTrees',\n",
       " 'OrePolynomialRing',\n",
       " 'OverconvergentDistributions',\n",
       " 'OverconvergentModularForms',\n",
       " 'P1List',\n",
       " 'P1NFList',\n",
       " 'PGL',\n",
       " 'PGU',\n",
       " 'PSL',\n",
       " 'PSU',\n",
       " 'PSage',\n",
       " 'PSp',\n",
       " 'Parallelism',\n",
       " 'ParallelogramPolyomino',\n",
       " 'ParallelogramPolyominoes',\n",
       " 'ParametrizedSurface3D',\n",
       " 'Parent',\n",
       " 'Pari',\n",
       " 'PariError',\n",
       " 'PariGroup',\n",
       " 'PariRing',\n",
       " 'ParkingFunction',\n",
       " 'ParkingFunctions',\n",
       " 'PartiallyOrderedMonoids',\n",
       " 'PartiallyOrderedSets',\n",
       " 'Partition',\n",
       " 'PartitionAlgebra',\n",
       " 'PartitionTuple',\n",
       " 'PartitionTuples',\n",
       " 'Partitions',\n",
       " 'PartitionsGreatestEQ',\n",
       " 'PartitionsGreatestLE',\n",
       " 'PartitionsInBox',\n",
       " 'PerfectMatching',\n",
       " 'PerfectMatchings',\n",
       " 'PeriodicSolitonCellularAutomata',\n",
       " 'Permutation',\n",
       " 'PermutationGroup',\n",
       " 'PermutationGroupElement',\n",
       " 'PermutationGroupMap',\n",
       " 'PermutationGroupMorphism',\n",
       " 'PermutationGroupMorphism_id',\n",
       " 'PermutationGroupMorphism_im_gens',\n",
       " 'PermutationGroup_generic',\n",
       " 'PermutationGroup_subgroup',\n",
       " 'PermutationGroups',\n",
       " 'Permutations',\n",
       " 'PlanarAlgebra',\n",
       " 'PlanePartition',\n",
       " 'PlanePartitions',\n",
       " 'PointConfiguration',\n",
       " 'PointedSets',\n",
       " 'PollackStevensModularSymbols',\n",
       " 'PolyhedralComplex',\n",
       " 'PolyhedralSets',\n",
       " 'Polyhedron',\n",
       " 'Polynomial',\n",
       " 'PolynomialQuotientRing',\n",
       " 'PolynomialQuotientRingElement',\n",
       " 'PolynomialRing',\n",
       " 'Poset',\n",
       " 'Posets',\n",
       " 'PositiveIntegers',\n",
       " 'PowComputer',\n",
       " 'PowComputer_ext_maker',\n",
       " 'PowerSeries',\n",
       " 'PowerSeriesRing',\n",
       " 'PrimarySimilarityClassType',\n",
       " 'PrimarySimilarityClassTypes',\n",
       " 'Primes',\n",
       " 'PrimitiveGroup',\n",
       " 'PrimitiveGroups',\n",
       " 'PrincipalIdealDomain',\n",
       " 'PrincipalIdealDomainElement',\n",
       " 'PrincipalIdealDomains',\n",
       " 'ProductProjectiveSpaces',\n",
       " 'Profiler',\n",
       " 'ProjectiveHypersurface',\n",
       " 'ProjectiveSpace',\n",
       " 'PropagatingIdeal',\n",
       " 'PuiseuxSeries',\n",
       " 'PuiseuxSeriesRing',\n",
       " 'QQ',\n",
       " 'QQbar',\n",
       " 'QSystem',\n",
       " 'Qp',\n",
       " 'QpCR',\n",
       " 'QpER',\n",
       " 'QpFP',\n",
       " 'QpLC',\n",
       " 'QpLF',\n",
       " 'Qq',\n",
       " 'QqCR',\n",
       " 'QqFP',\n",
       " 'QuadraticBernoulliNumber',\n",
       " 'QuadraticField',\n",
       " 'QuadraticForm',\n",
       " 'QuadraticSpace',\n",
       " 'QuantumGroup',\n",
       " 'QuarticCurve',\n",
       " 'QuasiModularForms',\n",
       " 'QuasiSymmetricFunctions',\n",
       " 'QuaternionAlgebra',\n",
       " 'QuaternionGroup',\n",
       " 'QuaternionMatrixGroupGF3',\n",
       " 'QuiverMutationType',\n",
       " 'QuotientFields',\n",
       " 'QuotientRing',\n",
       " 'R',\n",
       " 'RBF',\n",
       " 'RDF',\n",
       " 'RIF',\n",
       " 'RLF',\n",
       " 'RR',\n",
       " 'RSK',\n",
       " 'RSK_inverse',\n",
       " 'Radix64Strings',\n",
       " 'Rational',\n",
       " 'RationalCherednikAlgebra',\n",
       " 'RationalField',\n",
       " 'Rationals',\n",
       " 'RealBallField',\n",
       " 'RealDistribution',\n",
       " 'RealDoubleElement',\n",
       " 'RealDoubleField',\n",
       " 'RealField',\n",
       " 'RealInterval',\n",
       " 'RealIntervalField',\n",
       " 'RealLazyField',\n",
       " 'RealLine',\n",
       " 'RealNumber',\n",
       " 'RealSet',\n",
       " 'Realizations',\n",
       " 'Reals',\n",
       " 'RecognizableSeriesSpace',\n",
       " 'RecursivelyEnumeratedSet',\n",
       " 'ReflectionGroup',\n",
       " 'ReflexivePolytope',\n",
       " 'ReflexivePolytopes',\n",
       " 'RegularCrystals',\n",
       " 'ResidueField',\n",
       " 'RibbonGraph',\n",
       " 'RibbonShapedTableau',\n",
       " 'RibbonShapedTableaux',\n",
       " 'RibbonTableau',\n",
       " 'RibbonTableaux',\n",
       " 'Riemann_Map',\n",
       " 'RiggedConfigurations',\n",
       " 'RightAngledArtinGroup',\n",
       " 'RightModules',\n",
       " 'Ring',\n",
       " 'RingElement',\n",
       " 'RingIdeals',\n",
       " 'RingModules',\n",
       " 'Rings',\n",
       " 'Rngs',\n",
       " 'RootSystem',\n",
       " 'RootedTree',\n",
       " 'RootedTrees',\n",
       " 'RowStandardTableau',\n",
       " 'RowStandardTableauTuple',\n",
       " 'RowStandardTableauTuples',\n",
       " 'RowStandardTableaux',\n",
       " 'RubiksCube',\n",
       " 'SAGE_DB',\n",
       " 'SAGE_DOC_SRC',\n",
       " 'SAGE_ENV',\n",
       " 'SAGE_LOCAL',\n",
       " 'SAGE_ROOT',\n",
       " 'SAGE_SRC',\n",
       " 'SAT',\n",
       " 'SL',\n",
       " 'SL2Z',\n",
       " 'SO',\n",
       " 'SQLDatabase',\n",
       " 'SQLQuery',\n",
       " 'SR',\n",
       " 'SU',\n",
       " 'Sage',\n",
       " 'SageObject',\n",
       " 'Sandpile',\n",
       " 'SandpileConfig',\n",
       " 'SandpileDivisor',\n",
       " 'Schemes',\n",
       " 'SchubertPolynomialRing',\n",
       " 'SchurAlgebra',\n",
       " 'SchurTensorModule',\n",
       " 'SemidefiniteProgram',\n",
       " 'SemidihedralGroup',\n",
       " 'Semigroups',\n",
       " 'SemimonomialTransformationGroup',\n",
       " 'Semirings',\n",
       " 'SemistandardMultiSkewTableaux',\n",
       " 'SemistandardSkewTableaux',\n",
       " 'SemistandardSuperTableau',\n",
       " 'SemistandardSuperTableaux',\n",
       " 'SemistandardTableau',\n",
       " 'SemistandardTableaux',\n",
       " 'Sequence',\n",
       " 'Set',\n",
       " 'SetPartition',\n",
       " 'SetPartitions',\n",
       " 'SetPartitionsAk',\n",
       " 'SetPartitionsBk',\n",
       " 'SetPartitionsIk',\n",
       " 'SetPartitionsPRk',\n",
       " 'SetPartitionsPk',\n",
       " 'SetPartitionsRk',\n",
       " 'SetPartitionsSk',\n",
       " 'SetPartitionsTk',\n",
       " 'Sets',\n",
       " 'SetsWithGrading',\n",
       " 'SetsWithPartialMaps',\n",
       " 'Shi',\n",
       " 'ShiftCryptosystem',\n",
       " 'ShiftedPrimedTableau',\n",
       " 'ShiftedPrimedTableaux',\n",
       " 'ShiftingOperatorAlgebra',\n",
       " 'ShrinkingGeneratorCryptosystem',\n",
       " 'ShuffleAlgebra',\n",
       " 'Si',\n",
       " 'Sigma',\n",
       " 'SignalError',\n",
       " 'SignedCompositions',\n",
       " 'SignedPermutation',\n",
       " 'SignedPermutations',\n",
       " 'SimilarityClassType',\n",
       " 'SimilarityClassTypes',\n",
       " 'Simplex',\n",
       " 'SimplicialComplex',\n",
       " 'SimplicialComplexMorphism',\n",
       " 'SimplicialComplexes',\n",
       " 'SineGordonYsystem',\n",
       " 'Singular',\n",
       " 'SixVertexModel',\n",
       " 'SkewPartition',\n",
       " 'SkewPartitions',\n",
       " 'SkewPolynomialRing',\n",
       " 'SkewTableau',\n",
       " 'SkewTableaux',\n",
       " 'SloaneEncyclopedia',\n",
       " 'SmallPermutationGroup',\n",
       " 'SolitonCellularAutomata',\n",
       " 'Sp',\n",
       " 'Spec',\n",
       " 'Spherical',\n",
       " 'SphericalDistribution',\n",
       " 'SphericalElevation',\n",
       " 'Spline',\n",
       " 'SplitMetacyclicGroup',\n",
       " 'Sq',\n",
       " 'StandardBracketedLyndonWords',\n",
       " 'StandardRibbonShapedTableaux',\n",
       " 'StandardSkewTableaux',\n",
       " 'StandardSuperTableau',\n",
       " 'StandardSuperTableaux',\n",
       " 'StandardTableau',\n",
       " 'StandardTableauTuple',\n",
       " 'StandardTableauTuples',\n",
       " 'StandardTableaux',\n",
       " 'SteenrodAlgebra',\n",
       " 'SteinWatkinsAllData',\n",
       " 'SteinWatkinsPrimeData',\n",
       " 'StrongTableau',\n",
       " 'StrongTableaux',\n",
       " 'Subsets',\n",
       " 'SubstitutionCryptosystem',\n",
       " 'SubwordComplex',\n",
       " 'Subwords',\n",
       " 'Sudoku',\n",
       " 'SuperPartition',\n",
       " 'SuperPartitions',\n",
       " 'SupersingularModule',\n",
       " 'SuzukiGroup',\n",
       " 'SymbolicData',\n",
       " 'SymbolicLogic',\n",
       " 'Symk',\n",
       " 'SymmetricFunctions',\n",
       " 'SymmetricFunctionsNonCommutingVariables',\n",
       " 'SymmetricFunctionsNonCommutingVariablesDual',\n",
       " 'SymmetricGroup',\n",
       " 'SymmetricGroupAlgebra',\n",
       " 'SymmetricGroupRepresentation',\n",
       " 'SymmetricGroupRepresentations',\n",
       " 'Tableau',\n",
       " 'TableauTuple',\n",
       " 'TableauTuples',\n",
       " 'Tableaux',\n",
       " 'Tachyon',\n",
       " 'TamariIntervalPoset',\n",
       " 'TamariIntervalPosets',\n",
       " 'TateAlgebra',\n",
       " 'TemperleyLiebAlgebra',\n",
       " 'TensorAlgebra',\n",
       " 'TermOrder',\n",
       " 'TernaryQF',\n",
       " 'TestSuite',\n",
       " 'TimeSeries',\n",
       " 'ToricIdeal',\n",
       " 'ToricLattice',\n",
       " 'ToricVariety',\n",
       " 'TorsionQuadraticForm',\n",
       " 'TotallyOrderedFiniteSet',\n",
       " 'Transducer',\n",
       " 'TransitiveGroup',\n",
       " 'TransitiveGroups',\n",
       " 'TranspositionCryptosystem',\n",
       " 'TropicalSemiring',\n",
       " 'TruncatedStaircases',\n",
       " 'Tuples',\n",
       " 'UnionCombinatorialClass',\n",
       " 'UniqueFactorizationDomains',\n",
       " 'UniqueRepresentation',\n",
       " 'UnitGroup',\n",
       " 'UniversalCyclotomicField',\n",
       " 'Unknown',\n",
       " 'UnknownError',\n",
       " 'UnorderedTuples',\n",
       " 'UnsignedInfinityRing',\n",
       " 'UnwrappingMorphism',\n",
       " 'VectorPartition',\n",
       " 'VectorPartitions',\n",
       " 'VectorSpace',\n",
       " 'VectorSpaces',\n",
       " 'VigenereCryptosystem',\n",
       " 'VoronoiDiagram',\n",
       " 'WaveletTransform',\n",
       " 'WeakReversePlanePartition',\n",
       " 'WeakReversePlanePartitions',\n",
       " 'WeakTableau',\n",
       " 'WeakTableaux',\n",
       " 'WehlerK3Surface',\n",
       " 'WeierstrassForm',\n",
       " 'WeightRing',\n",
       " 'WeightedIntegerVectors',\n",
       " 'WeylCharacterRing',\n",
       " 'WeylDim',\n",
       " 'WeylGroup',\n",
       " 'WeylGroupElement',\n",
       " 'WeylGroups',\n",
       " 'Word',\n",
       " 'WordMorphism',\n",
       " 'WordOptions',\n",
       " 'WordPaths',\n",
       " 'WordQuasiSymmetricFunctions',\n",
       " 'Words',\n",
       " 'YangBaxterGraph',\n",
       " 'Yangian',\n",
       " 'ZZ',\n",
       " 'Zmod',\n",
       " 'Zp',\n",
       " 'ZpCA',\n",
       " 'ZpCR',\n",
       " 'ZpER',\n",
       " 'ZpFM',\n",
       " 'ZpFP',\n",
       " 'ZpLC',\n",
       " 'ZpLF',\n",
       " 'Zq',\n",
       " 'ZqCA',\n",
       " 'ZqCR',\n",
       " 'ZqFM',\n",
       " 'ZqFP',\n",
       " '__builtins__',\n",
       " '__cached__',\n",
       " '__doc__',\n",
       " '__file__',\n",
       " '__loader__',\n",
       " '__name__',\n",
       " '__package__',\n",
       " '__spec__',\n",
       " '_cpu_time_',\n",
       " '_init_qqbar',\n",
       " '_wall_time_',\n",
       " 'abs_symbolic',\n",
       " 'absolute_igusa_invariants_kohel',\n",
       " 'absolute_igusa_invariants_wamelen',\n",
       " 'abstract_method',\n",
       " 'acos',\n",
       " 'acosh',\n",
       " 'acot',\n",
       " 'acoth',\n",
       " 'acsc',\n",
       " 'acsch',\n",
       " 'add',\n",
       " 'addgp',\n",
       " 'additive_order',\n",
       " 'airy_ai',\n",
       " 'airy_ai_prime',\n",
       " 'airy_bi',\n",
       " 'airy_bi_prime',\n",
       " 'alarm',\n",
       " 'algdep',\n",
       " 'algebras',\n",
       " 'animate',\n",
       " 'arc',\n",
       " 'arccos',\n",
       " 'arccosh',\n",
       " 'arccot',\n",
       " 'arccoth',\n",
       " 'arccsc',\n",
       " 'arccsch',\n",
       " 'arcsec',\n",
       " 'arcsech',\n",
       " 'arcsin',\n",
       " 'arcsinh',\n",
       " 'arctan',\n",
       " 'arctan2',\n",
       " 'arctanh',\n",
       " 'arg',\n",
       " 'arrow',\n",
       " 'arrow2d',\n",
       " 'arrow3d',\n",
       " 'ascii_art',\n",
       " 'asec',\n",
       " 'asech',\n",
       " 'asin',\n",
       " 'asinh',\n",
       " 'assume',\n",
       " 'assuming',\n",
       " 'assumptions',\n",
       " 'asymptotic_expansions',\n",
       " 'atan',\n",
       " 'atan2',\n",
       " 'atanh',\n",
       " 'attach',\n",
       " 'attached_files',\n",
       " 'attrcall',\n",
       " 'automata',\n",
       " 'autoregressive_fit',\n",
       " 'axiom',\n",
       " 'balanced_sum',\n",
       " 'banner',\n",
       " 'bar_chart',\n",
       " 'base_field',\n",
       " 'base_ring',\n",
       " 'basis',\n",
       " 'basis_fsom_generators',\n",
       " 'bell_number',\n",
       " 'bell_polynomial',\n",
       " 'benchmark',\n",
       " 'bernoulli',\n",
       " 'bernoulli_mod_p',\n",
       " 'bernoulli_mod_p_single',\n",
       " 'bernoulli_polynomial',\n",
       " 'bessel_I',\n",
       " 'bessel_J',\n",
       " 'bessel_K',\n",
       " 'bessel_Y',\n",
       " 'beta',\n",
       " 'betavariate',\n",
       " 'bezier3d',\n",
       " 'bezier_path',\n",
       " 'binomial',\n",
       " 'binomial_coefficients',\n",
       " 'block_diagonal_matrix',\n",
       " 'block_matrix',\n",
       " 'branching_rule',\n",
       " 'branching_rule_fsom_plethysm',\n",
       " 'browse_sage_doc',\n",
       " 'build_alphabet',\n",
       " 'cached_function',\n",
       " 'cached_in_parent_method',\n",
       " 'cached_method',\n",
       " 'cancel_alarm',\n",
       " 'canonical_coercion',\n",
       " 'carmichael_lambda',\n",
       " 'cartesian_product',\n",
       " 'cartesian_product_iterator',\n",
       " 'cases',\n",
       " 'catalan',\n",
       " 'catalan_number',\n",
       " 'category',\n",
       " 'ceil',\n",
       " 'cellular_automata',\n",
       " 'channels',\n",
       " 'characteristic_polynomial',\n",
       " 'charpoly',\n",
       " 'chebyshev_T',\n",
       " 'chebyshev_U',\n",
       " 'choice',\n",
       " 'circle',\n",
       " 'class_graph',\n",
       " 'clear_vars',\n",
       " 'clebsch_gordan',\n",
       " 'clebsch_invariants',\n",
       " 'cm_j_invariants',\n",
       " 'cm_j_invariants_and_orders',\n",
       " 'cm_orders',\n",
       " 'codes',\n",
       " 'coerce',\n",
       " 'coercion_model',\n",
       " 'coercion_traceback',\n",
       " 'coincidence_discriminant',\n",
       " 'coincidence_index',\n",
       " 'colormaps',\n",
       " 'colors',\n",
       " 'column_matrix',\n",
       " 'companion_matrix',\n",
       " 'complex_cubic_spline',\n",
       " 'complex_plot',\n",
       " 'complex_root_of',\n",
       " 'compose',\n",
       " 'cones',\n",
       " 'conjugate',\n",
       " 'constructions',\n",
       " 'continuant',\n",
       " 'continued_fraction',\n",
       " 'continued_fraction_list',\n",
       " 'contour_plot',\n",
       " 'convolution',\n",
       " 'conway_polynomial',\n",
       " 'copy',\n",
       " 'copying',\n",
       " 'copyright',\n",
       " 'cos',\n",
       " 'cos_integral',\n",
       " 'cosh',\n",
       " 'cosh_integral',\n",
       " 'cot',\n",
       " 'coth',\n",
       " 'cputime',\n",
       " 'cremona_curves',\n",
       " 'cremona_optimal_curves',\n",
       " 'crt',\n",
       " 'crt_basis',\n",
       " 'crystals',\n",
       " 'csc',\n",
       " 'csch',\n",
       " 'cube',\n",
       " 'cubical_complexes',\n",
       " 'cunningham_prime_factors',\n",
       " 'current_randstate',\n",
       " 'cyclotomic_polynomial',\n",
       " 'cyclotomic_value',\n",
       " 'cylindrical_plot3d',\n",
       " 'cython',\n",
       " 'cython_lambda',\n",
       " 'db',\n",
       " 'db_save',\n",
       " 'decomposition',\n",
       " 'dedekind_sum',\n",
       " 'deepcopy',\n",
       " 'default_mip_solver',\n",
       " 'default_sdp_solver',\n",
       " 'degree_lowest_rational_function',\n",
       " 'delta_complexes',\n",
       " 'delta_lseries',\n",
       " 'delta_qexp',\n",
       " 'denominator',\n",
       " 'density_plot',\n",
       " 'deprecated_function_alias',\n",
       " 'deprecationWarning',\n",
       " 'derivative',\n",
       " 'designs',\n",
       " 'desolve',\n",
       " 'desolve_laplace',\n",
       " 'desolve_mintides',\n",
       " 'desolve_odeint',\n",
       " 'desolve_rk4',\n",
       " 'desolve_system',\n",
       " 'desolve_system_rk4',\n",
       " 'desolve_tides_mpfr',\n",
       " 'desolvers',\n",
       " 'det',\n",
       " 'detach',\n",
       " 'developer',\n",
       " 'diagonal_matrix',\n",
       " 'dickman_rho',\n",
       " 'diff',\n",
       " 'differences',\n",
       " 'digraphs',\n",
       " 'dilog',\n",
       " 'dim',\n",
       " 'dimension',\n",
       " 'dimension_cusp_forms',\n",
       " 'dimension_eis',\n",
       " 'dimension_modular_forms',\n",
       " 'dimension_new_cusp_forms',\n",
       " 'dimension_supersingular_module',\n",
       " 'dirac_delta',\n",
       " 'direct_product_permgroups',\n",
       " 'disc',\n",
       " 'discrete_log',\n",
       " 'discrete_log_lambda',\n",
       " 'discrete_log_rho',\n",
       " 'discriminant',\n",
       " 'disk',\n",
       " 'disk_cached_function',\n",
       " 'divisors',\n",
       " 'dodecahedron',\n",
       " 'dumps',\n",
       " 'e',\n",
       " 'ecm',\n",
       " 'edit',\n",
       " 'eisenstein_series_lseries',\n",
       " 'eisenstein_series_qexp',\n",
       " 'elementary_matrix',\n",
       " 'ellipse',\n",
       " 'ellipsis_iter',\n",
       " 'ellipsis_range',\n",
       " 'elliptic_curves',\n",
       " 'elliptic_e',\n",
       " 'elliptic_ec',\n",
       " 'elliptic_eu',\n",
       " 'elliptic_f',\n",
       " 'elliptic_j',\n",
       " 'elliptic_kc',\n",
       " 'elliptic_pi',\n",
       " 'end',\n",
       " 'enum_affine_finite_field',\n",
       " 'enum_affine_rational_field',\n",
       " 'enumerate_totallyreal_fields_all',\n",
       " 'enumerate_totallyreal_fields_prim',\n",
       " 'enumerate_totallyreal_fields_rel',\n",
       " 'eratosthenes',\n",
       " 'erf',\n",
       " 'erfc',\n",
       " 'erfi',\n",
       " 'erfinv',\n",
       " 'eta',\n",
       " 'euler_gamma',\n",
       " 'euler_number',\n",
       " 'euler_phi',\n",
       " 'eulers_method',\n",
       " 'eulers_method_2x2',\n",
       " 'eulers_method_2x2_plot',\n",
       " 'exists',\n",
       " 'exists_conway_polynomial',\n",
       " 'exp',\n",
       " 'exp_integral_e',\n",
       " 'exp_integral_e1',\n",
       " 'exp_integral_ei',\n",
       " 'exp_polar',\n",
       " 'expand',\n",
       " 'experimental_packages',\n",
       " 'explain_pickle',\n",
       " 'expnums',\n",
       " 'exponential_integral_1',\n",
       " 'expovariate',\n",
       " 'extend_to_primitive',\n",
       " 'external_ray',\n",
       " 'factor',\n",
       " 'factorial',\n",
       " 'falling_factorial',\n",
       " 'false',\n",
       " 'fast_callable',\n",
       " 'fast_float',\n",
       " 'fcp',\n",
       " 'fibonacci',\n",
       " 'fibonacci_sequence',\n",
       " 'fibonacci_xrange',\n",
       " 'finance',\n",
       " 'find_a_ternary_qf_by_level_disc',\n",
       " 'find_all_ternary_qf_by_level_disc',\n",
       " 'find_fit',\n",
       " 'find_local_maximum',\n",
       " 'find_local_minimum',\n",
       " 'find_root',\n",
       " 'findmap',\n",
       " 'findstat',\n",
       " 'finite_dynamical_systems',\n",
       " 'firing_graph',\n",
       " 'flatten',\n",
       " 'floor',\n",
       " 'forall',\n",
       " 'forget',\n",
       " 'fork',\n",
       " 'fortran',\n",
       " 'four_squares',\n",
       " 'four_ti_2',\n",
       " 'frac',\n",
       " 'free_module_element',\n",
       " 'frequency_distribution',\n",
       " 'fresnel_cos',\n",
       " 'fresnel_sin',\n",
       " 'fricas',\n",
       " 'frobby',\n",
       " 'func_persist',\n",
       " 'function',\n",
       " 'fundamental_discriminant',\n",
       " 'game_theory',\n",
       " 'gamma',\n",
       " 'gamma__exact',\n",
       " 'gamma_inc',\n",
       " 'gamma_inc_lower',\n",
       " 'gammavariate',\n",
       " 'gap',\n",
       " 'gap3',\n",
       " 'gap3_version',\n",
       " 'gap_reset_workspace',\n",
       " 'gaunt',\n",
       " 'gauss',\n",
       " 'gaussian_binomial',\n",
       " 'gcd',\n",
       " 'gegenbauer',\n",
       " 'gen',\n",
       " 'gen_laguerre',\n",
       " 'gen_legendre_P',\n",
       " 'gen_legendre_Q',\n",
       " 'gens',\n",
       " 'genus2reduction',\n",
       " 'get_coercion_model',\n",
       " 'get_display_manager',\n",
       " 'get_gcd',\n",
       " 'get_inverse_mod',\n",
       " 'get_remote_file',\n",
       " 'get_verbose',\n",
       " 'get_verbose_files',\n",
       " 'getattr_debug',\n",
       " 'getrandbits',\n",
       " 'gfan',\n",
       " 'giac',\n",
       " 'glaisher',\n",
       " 'gnuplot',\n",
       " 'golden_ratio',\n",
       " 'gp',\n",
       " 'gp_version',\n",
       " 'graph_classes',\n",
       " 'graph_coloring',\n",
       " 'graph_db_info',\n",
       " 'graph_editor',\n",
       " 'graphics_array',\n",
       " 'graphs',\n",
       " 'graphs_list',\n",
       " 'groups',\n",
       " 'hadamard_matrix',\n",
       " 'hadamard_matrix_www',\n",
       " 'hahn',\n",
       " 'half_integral_weight_modform_basis',\n",
       " 'hankel1',\n",
       " 'hankel2',\n",
       " 'harmonic_number',\n",
       " 'heaviside',\n",
       " 'hecke_operator',\n",
       " 'hecke_operator_on_basis',\n",
       " 'hecke_operator_on_qexp',\n",
       " 'hecke_series',\n",
       " 'heegner_point',\n",
       " 'heegner_points',\n",
       " 'help',\n",
       " 'hermite',\n",
       " 'hermite_constant',\n",
       " 'hilbert_class_polynomial',\n",
       " 'hilbert_conductor',\n",
       " 'hilbert_conductor_inverse',\n",
       " 'hilbert_symbol',\n",
       " 'histogram',\n",
       " 'hmm',\n",
       " 'hold',\n",
       " 'hom',\n",
       " 'html',\n",
       " 'hue',\n",
       " 'hurwitz_zeta',\n",
       " 'hyperbolic_arc',\n",
       " 'hyperbolic_polygon',\n",
       " 'hyperbolic_regular_polygon',\n",
       " 'hyperbolic_triangle',\n",
       " 'hypergeometric',\n",
       " 'hypergeometric_M',\n",
       " 'hypergeometric_U',\n",
       " 'hypergraphs',\n",
       " 'hyperplane_arrangements',\n",
       " 'i',\n",
       " 'icosahedron',\n",
       " 'ideal',\n",
       " 'identity_matrix',\n",
       " 'igusa_clebsch_invariants',\n",
       " 'imag',\n",
       " 'imag_part',\n",
       " 'image',\n",
       " 'imaginary',\n",
       " 'implicit_multiplication',\n",
       " 'implicit_plot',\n",
       " 'implicit_plot3d',\n",
       " 'import_statements',\n",
       " 'infinity',\n",
       " 'infix_operator',\n",
       " 'initial_seed',\n",
       " 'install_dict',\n",
       " 'install_doc',\n",
       " 'install_scripts',\n",
       " 'installed_packages',\n",
       " 'integer_ceil',\n",
       " 'integer_floor',\n",
       " 'integral',\n",
       " 'integral_closure',\n",
       " 'integral_numerical',\n",
       " 'integrate',\n",
       " 'interacts',\n",
       " 'interfaces',\n",
       " 'interval',\n",
       " 'invariant_theory',\n",
       " 'inverse_jacobi',\n",
       " 'inverse_jacobi_cd',\n",
       " 'inverse_jacobi_cn',\n",
       " 'inverse_jacobi_cs',\n",
       " 'inverse_jacobi_dc',\n",
       " 'inverse_jacobi_dn',\n",
       " 'inverse_jacobi_ds',\n",
       " 'inverse_jacobi_nc',\n",
       " 'inverse_jacobi_nd',\n",
       " 'inverse_jacobi_ns',\n",
       " 'inverse_jacobi_sc',\n",
       " 'inverse_jacobi_sd',\n",
       " 'inverse_jacobi_sn',\n",
       " 'inverse_laplace',\n",
       " 'inverse_mod',\n",
       " 'is_ProductProjectiveSpaces',\n",
       " 'is_ProjectiveSpace',\n",
       " 'is_commutative',\n",
       " 'is_even',\n",
       " 'is_field',\n",
       " 'is_fundamental_discriminant',\n",
       " 'is_integrally_closed',\n",
       " 'is_iterator',\n",
       " 'is_odd',\n",
       " 'is_pAdicField',\n",
       " 'is_pAdicRing',\n",
       " 'is_package_installed',\n",
       " 'is_power_of_two',\n",
       " 'is_prime',\n",
       " 'is_prime_power',\n",
       " 'is_pseudoprime',\n",
       " 'is_pseudoprime_power',\n",
       " 'is_real_place',\n",
       " 'is_square',\n",
       " 'is_squarefree',\n",
       " 'is_triangular_number',\n",
       " 'isogeny_codomain_fsom_kernel',\n",
       " 'isqrt',\n",
       " 'j_invariant_qexp',\n",
       " 'jacobi',\n",
       " 'jacobi_P',\n",
       " 'jacobi_am',\n",
       " 'jacobi_cd',\n",
       " 'jacobi_cn',\n",
       " 'jacobi_cs',\n",
       " 'jacobi_dc',\n",
       " 'jacobi_dn',\n",
       " 'jacobi_ds',\n",
       " 'jacobi_nc',\n",
       " 'jacobi_nd',\n",
       " 'jacobi_ns',\n",
       " 'jacobi_sc',\n",
       " 'jacobi_sd',\n",
       " 'jacobi_sn',\n",
       " 'jacobi_symbol',\n",
       " 'jacobian',\n",
       " 'jordan_block',\n",
       " 'julia_plot',\n",
       " 'kRegularSequenceSpace',\n",
       " 'kash',\n",
       " 'kash_version',\n",
       " 'kernel',\n",
       " 'khinchin',\n",
       " 'kneading_sequence',\n",
       " 'krawtchouk',\n",
       " 'kronecker',\n",
       " 'kronecker_character',\n",
       " 'kronecker_character_upside_down',\n",
       " 'kronecker_delta',\n",
       " 'kronecker_symbol',\n",
       " 'krull_dimension',\n",
       " 'laguerre',\n",
       " 'lambert_w',\n",
       " 'laplace',\n",
       " 'latex',\n",
       " 'lattice_polytope',\n",
       " 'lazy_attribute',\n",
       " 'lazy_class_attribute',\n",
       " 'lazy_import',\n",
       " 'lcalc',\n",
       " 'lcm',\n",
       " 'least_quadratic_nonresidue',\n",
       " 'legendre_P',\n",
       " 'legendre_Q',\n",
       " 'legendre_phi',\n",
       " 'legendre_symbol',\n",
       " 'lfsr_autocorrelation',\n",
       " 'lfsr_connection_polynomial',\n",
       " 'lfsr_sequence',\n",
       " 'li',\n",
       " 'libgap',\n",
       " 'libgiac',\n",
       " 'license',\n",
       " 'lie',\n",
       " 'lie_algebras',\n",
       " 'lie_conformal_algebras',\n",
       " 'lift',\n",
       " 'lift_to_sl2z',\n",
       " 'lim',\n",
       " 'limit',\n",
       " 'line',\n",
       " 'line2d',\n",
       " 'line3d',\n",
       " 'linear_program',\n",
       " 'linear_relation',\n",
       " 'linear_transformation',\n",
       " 'lisp',\n",
       " 'list_plot',\n",
       " 'list_plot3d',\n",
       " 'list_plot_loglog',\n",
       " 'list_plot_semilogx',\n",
       " 'list_plot_semilogy',\n",
       " 'ln',\n",
       " 'load',\n",
       " 'load_attach_mode',\n",
       " 'load_attach_path',\n",
       " 'load_session',\n",
       " 'loads',\n",
       " 'local_print_mode',\n",
       " 'localvars',\n",
       " 'log',\n",
       " 'log2',\n",
       " 'log_b',\n",
       " 'log_gamma',\n",
       " 'log_integral',\n",
       " 'log_integral_offset',\n",
       " 'lognormvariate',\n",
       " 'logstr',\n",
       " 'lucas_number1',\n",
       " 'lucas_number2',\n",
       " 'macaulay2',\n",
       " 'magma',\n",
       " 'magma_free',\n",
       " 'mandelbrot_plot',\n",
       " 'manifolds',\n",
       " 'manual',\n",
       " 'map_threaded',\n",
       " 'maple',\n",
       " 'math',\n",
       " 'mathematica',\n",
       " 'mathics',\n",
       " 'mathml',\n",
       " 'matlab',\n",
       " 'matlab_version',\n",
       " 'matrix',\n",
       " 'matrix_plot',\n",
       " 'matroids',\n",
       " 'max_symbolic',\n",
       " 'maxima',\n",
       " 'maxima_calculus',\n",
       " 'mean',\n",
       " 'median',\n",
       " 'meixner',\n",
       " 'mertens',\n",
       " 'min_symbolic',\n",
       " 'minimal_polynomial',\n",
       " 'minimize',\n",
       " 'minimize_constrained',\n",
       " 'minpoly',\n",
       " 'mod',\n",
       " 'mode',\n",
       " 'moebius',\n",
       " 'monomials',\n",
       " 'monsky_washnitzer',\n",
       " 'monte_carlo_integral',\n",
       " 'moving_average',\n",
       " 'mq',\n",
       " 'mqrr_rational_reconstruction',\n",
       " 'mrange',\n",
       " 'mrange_iter',\n",
       " 'mul',\n",
       " 'multi_graphics',\n",
       " 'multinomial',\n",
       " 'multinomial_coefficients',\n",
       " 'multiple',\n",
       " 'multiples',\n",
       " 'multiplicative_order',\n",
       " 'mupad',\n",
       " 'mwrank',\n",
       " 'mwrank_EllipticCurve',\n",
       " 'mwrank_MordellWeil',\n",
       " 'mwrank_get_precision',\n",
       " 'mwrank_initprimes',\n",
       " 'mwrank_set_precision',\n",
       " 'n',\n",
       " 'nest',\n",
       " 'newton_method_sizes',\n",
       " 'next_prime',\n",
       " 'next_prime_power',\n",
       " 'next_probable_prime',\n",
       " 'ngens',\n",
       " 'norm',\n",
       " 'normalvariate',\n",
       " 'nth_prime',\n",
       " 'ntl',\n",
       " 'number_field_elements_fsom_algebraics',\n",
       " 'number_of_divisors',\n",
       " 'number_of_partitions',\n",
       " 'number_of_tuples',\n",
       " 'number_of_unordered_tuples',\n",
       " 'numbers_abc',\n",
       " 'numerator',\n",
       " 'numerical_approx',\n",
       " 'numerical_eigenforms',\n",
       " 'numerical_integral',\n",
       " 'objgen',\n",
       " 'objgens',\n",
       " 'octahedron',\n",
       " 'octave',\n",
       " 'odd_part',\n",
       " 'ode_solver',\n",
       " 'ode_system',\n",
       " 'oeis',\n",
       " 'ones_matrix',\n",
       " 'oo',\n",
       " 'operator',\n",
       " 'optional_packages',\n",
       " 'order',\n",
       " 'os',\n",
       " 'pAdicExtension',\n",
       " 'pAdicField',\n",
       " 'pAdicRing',\n",
       " 'pAdicWeightSpace',\n",
       " 'package_versions',\n",
       " 'pad_zeros',\n",
       " 'padic_printing',\n",
       " 'pager',\n",
       " 'parallel',\n",
       " 'parallel_firing_graph',\n",
       " 'parametric_plot',\n",
       " 'parametric_plot3d',\n",
       " 'parent',\n",
       " 'paretovariate',\n",
       " 'pari',\n",
       " 'pari_gen',\n",
       " 'partial_sieve_function',\n",
       " 'path_tableaux',\n",
       " 'permutation_action',\n",
       " 'pi',\n",
       " 'pickle_function',\n",
       " 'piecewise',\n",
       " 'plot',\n",
       " 'plot3d',\n",
       " 'plot_loglog',\n",
       " 'plot_semilogx',\n",
       " 'plot_semilogy',\n",
       " 'plot_slope_field',\n",
       " 'plot_step_function',\n",
       " 'plot_vector_field',\n",
       " 'plot_vector_field3d',\n",
       " 'point',\n",
       " 'point2d',\n",
       " 'point3d',\n",
       " 'points',\n",
       " 'polar_plot',\n",
       " 'polygen',\n",
       " 'polygens',\n",
       " 'polygon',\n",
       " 'polygon2d',\n",
       " 'polygon3d',\n",
       " 'polygon_spline',\n",
       " 'polygonal_number',\n",
       " 'polygons3d',\n",
       " 'polylog',\n",
       " 'polymake',\n",
       " 'polytopes',\n",
       " 'posets',\n",
       " 'povray',\n",
       " 'power',\n",
       " 'power_mod',\n",
       " 'powerset',\n",
       " 'preparse',\n",
       " 'preparser',\n",
       " 'pretty_print',\n",
       " 'pretty_print_default',\n",
       " 'previous_prime',\n",
       " 'previous_prime_power',\n",
       " 'prime_divisors',\n",
       " 'prime_factors',\n",
       " 'prime_pi',\n",
       " 'prime_powers',\n",
       " 'prime_range',\n",
       " 'prime_to_m_part',\n",
       " 'primer',\n",
       " 'primes',\n",
       " 'primes_first_n',\n",
       " 'primitive_root',\n",
       " 'prod',\n",
       " 'product',\n",
       " 'proof',\n",
       " 'propcalc',\n",
       " 'psi',\n",
       " 'python_help',\n",
       " 'q_binomial',\n",
       " 'qepcad',\n",
       " 'qepcad_formula',\n",
       " 'qepcad_version',\n",
       " 'qsieve',\n",
       " 'quadratic_L_function__exact',\n",
       " 'quadratic_L_function__numerical',\n",
       " 'quadratic_form_fsom_invariants',\n",
       " 'quadratic_residues',\n",
       " 'quit_sage',\n",
       " 'quo',\n",
       " 'quotient',\n",
       " 'r',\n",
       " 'r_version',\n",
       " 'racah',\n",
       " 'radical',\n",
       " 'rainbow',\n",
       " 'randint',\n",
       " 'random',\n",
       " 'random_WehlerK3Surface',\n",
       " 'random_cone',\n",
       " 'random_matrix',\n",
       " 'random_prime',\n",
       " 'random_quadraticform',\n",
       " 'random_quadraticform_with_conditions',\n",
       " 'random_sublist',\n",
       " 'random_ternaryqf',\n",
       " 'random_ternaryqf_with_conditions',\n",
       " 'random_vector',\n",
       " 'randrange',\n",
       " 'rank',\n",
       " 'ranker',\n",
       " 'rational_reconstruction',\n",
       " 'raw_getattr',\n",
       " 'read_data',\n",
       " 'real',\n",
       " 'real_nth_root',\n",
       " 'real_part',\n",
       " 'reciprocal_trig_functions',\n",
       " 'reduce',\n",
       " 'reference',\n",
       " 'region_plot',\n",
       " 'register_unpickle_override',\n",
       " 'regulator',\n",
       " 'repr_lincomb',\n",
       " 'reset',\n",
       " 'reset_load_attach_path',\n",
       " 'restore',\n",
       " 'revolution_plot3d',\n",
       " 'rising_factorial',\n",
       " 'robinson_schensted_knuth',\n",
       " 'robinson_schensted_knuth_inverse',\n",
       " 'round',\n",
       " 'run_doctests',\n",
       " 'running_total',\n",
       " 'runsnake',\n",
       " 'sage',\n",
       " 'sage0',\n",
       " 'sage0_version',\n",
       " 'sage_eval',\n",
       " 'sage_globals',\n",
       " 'sage_input',\n",
       " 'sage_wraps',\n",
       " 'sageobj',\n",
       " 'sample',\n",
       " 'sandpiles',\n",
       " 'save',\n",
       " 'save_session',\n",
       " 'scatter_plot',\n",
       " 'schonheim',\n",
       " 'scilab',\n",
       " 'search_def',\n",
       " 'search_doc',\n",
       " 'search_src',\n",
       " 'sec',\n",
       " 'sech',\n",
       " 'seed',\n",
       " 'seq',\n",
       " 'series_precision',\n",
       " 'set_default_variable_name',\n",
       " 'set_edit_template',\n",
       " 'set_modsym_print_mode',\n",
       " 'set_random_seed',\n",
       " 'set_series_precision',\n",
       " 'set_verbose',\n",
       " 'set_verbose_files',\n",
       " 'sgn',\n",
       " 'sh',\n",
       " 'show',\n",
       " 'show_identifiers',\n",
       " 'shuffle',\n",
       " 'sidon_sets',\n",
       " 'sig_on_count',\n",
       " 'sigma',\n",
       " 'sign',\n",
       " 'simplicial_complexes',\n",
       " 'simplicial_sets',\n",
       " 'simplify',\n",
       " 'sin',\n",
       " 'sin_integral',\n",
       " 'singular',\n",
       " 'singular_version',\n",
       " 'sinh',\n",
       " 'sinh_integral',\n",
       " 'sleep',\n",
       " 'sloane',\n",
       " 'solve',\n",
       " 'solve_diophantine',\n",
       " 'solve_ineq',\n",
       " 'solve_mod',\n",
       " 'sort_complex_numbers_for_display',\n",
       " 'span',\n",
       " 'specialize',\n",
       " 'species',\n",
       " 'sphere',\n",
       " 'spherical_bessel_J',\n",
       " 'spherical_bessel_Y',\n",
       " 'spherical_hankel1',\n",
       " 'spherical_hankel2',\n",
       " 'spherical_harmonic',\n",
       " 'spherical_plot3d',\n",
       " 'spike_function',\n",
       " 'spline',\n",
       " 'sqrt',\n",
       " 'squarefree_divisors',\n",
       " 'squarefree_part',\n",
       " 'srange',\n",
       " 'standard_packages',\n",
       " 'stats',\n",
       " 'std',\n",
       " 'steenrod_algebra_basis',\n",
       " 'stieltjes',\n",
       " 'stirling_number1',\n",
       " 'stirling_number2',\n",
       " 'streamline_plot',\n",
       " 'strip_encoding',\n",
       " 'struve_H',\n",
       " 'struve_L',\n",
       " 'sturm_bound',\n",
       " 'subfactorial',\n",
       " 'subsets',\n",
       " 'sudoku',\n",
       " 'sum',\n",
       " 'sum_of_k_squares',\n",
       " 'supersingular_D',\n",
       " 'supersingular_j',\n",
       " 'surfaces',\n",
       " 'sxrange',\n",
       " 'symbolic_expression',\n",
       " 'symmetrica',\n",
       " 'sympow',\n",
       " 'sys',\n",
       " 'table',\n",
       " 'tachyon_rt',\n",
       " 'tan',\n",
       " 'tanh',\n",
       " 'taylor',\n",
       " 'tensor',\n",
       " 'tensor_signed',\n",
       " 'tests',\n",
       " 'tetrahedron',\n",
       " 'text',\n",
       " 'text3d',\n",
       " 'theta2_qexp',\n",
       " 'theta_qexp',\n",
       " 'three_squares',\n",
       " 'timeit',\n",
       " 'tmp_dir',\n",
       " 'tmp_filename',\n",
       " 'toric_plotter',\n",
       " 'toric_varieties',\n",
       " 'trace',\n",
       " 'transducers',\n",
       " 'transpose',\n",
       " 'trial_division',\n",
       " 'triangle_sandpile',\n",
       " 'trivial_character',\n",
       " 'trivial_covering_design',\n",
       " 'true',\n",
       " 'ttest',\n",
       " 'tuples',\n",
       " 'tutorial',\n",
       " 'twinprime',\n",
       " 'two_squares',\n",
       " 'type_debug',\n",
       " 'ultraspherical',\n",
       " 'unicode_art',\n",
       " 'uniform',\n",
       " 'union',\n",
       " 'uniq',\n",
       " 'unit_step',\n",
       " 'units',\n",
       " 'unordered_tuples',\n",
       " 'unpickle_appends',\n",
       " 'unpickle_build',\n",
       " 'unpickle_extension',\n",
       " 'unpickle_function',\n",
       " 'unpickle_global',\n",
       " 'unpickle_instantiate',\n",
       " 'unpickle_newobj',\n",
       " 'unpickle_persistent',\n",
       " 'unset_verbose_files',\n",
       " 'unsigned_infinity',\n",
       " 'valuation',\n",
       " 'valuations',\n",
       " 'var',\n",
       " 'variance',\n",
       " 'vector',\n",
       " 'verbose',\n",
       " 'version',\n",
       " 'victor_miller_basis',\n",
       " 'view',\n",
       " 'vonmisesvariate',\n",
       " 'walltime',\n",
       " 'walsh_matrix',\n",
       " 'warnings',\n",
       " 'wave',\n",
       " 'weibullvariate',\n",
       " 'wigner_3j',\n",
       " 'wigner_6j',\n",
       " 'wigner_9j',\n",
       " 'wilmes_algorithm',\n",
       " 'word_problem',\n",
       " 'words',\n",
       " 'wronskian',\n",
       " 'xgcd',\n",
       " 'xinterval',\n",
       " 'xkcd',\n",
       " 'xlcm',\n",
       " 'xmrange',\n",
       " 'xmrange_iter',\n",
       " 'xsrange',\n",
       " 'zero_matrix',\n",
       " 'zero_vector',\n",
       " 'zeta',\n",
       " 'zeta__exact',\n",
       " 'zeta_symmetric',\n",
       " 'zeta_zeros',\n",
       " 'zetaderiv',\n",
       " 'Γ',\n",
       " 'ζ',\n",
       " 'π',\n",
       " 'σ',\n",
       " 'ψ']"
      ]
     },
     "execution_count": 170,
     "metadata": {},
     "output_type": "execute_result"
    }
   ],
   "source": [
    "dir(sage.all)"
   ]
  },
  {
   "cell_type": "code",
   "execution_count": 171,
   "metadata": {
    "vscode": {
     "languageId": "python"
    }
   },
   "outputs": [],
   "source": [
    "#from mlscorecheck.core import MatthewsCorrelationCoefficient"
   ]
  },
  {
   "cell_type": "code",
   "execution_count": 172,
   "metadata": {
    "vscode": {
     "languageId": "python"
    }
   },
   "outputs": [],
   "source": [
    "from mlscorecheck.core import Accuracy, accuracy, NegativePredictiveValue, negative_predictive_value, matthews_correlation_coefficient"
   ]
  },
  {
   "cell_type": "code",
   "execution_count": 173,
   "metadata": {
    "vscode": {
     "languageId": "python"
    }
   },
   "outputs": [],
   "source": [
    "tp = var('tp')\n",
    "tn = var('tn')\n",
    "fp = var('fp')\n",
    "fn = var('fn')\n",
    "p = var('p')\n",
    "n = var('n')\n",
    "\n",
    "acc = var('acc')\n",
    "npv = var('npv')"
   ]
  },
  {
   "cell_type": "code",
   "execution_count": 174,
   "metadata": {
    "vscode": {
     "languageId": "python"
    }
   },
   "outputs": [],
   "source": [
    "assume(p, 'real')\n",
    "assume(n, 'real')\n",
    "assume(tp, 'real')\n",
    "assume(tn, 'real')\n",
    "assume(fp, 'real')\n",
    "assume(fn, 'real')\n",
    "assume(acc, 'real')\n",
    "assume(npv, 'real')\n",
    "\n",
    "assume(tp >= 0, tp <= p)\n",
    "assume(tn >= 0, tn <= n)\n",
    "assume(fp >= 0, fp <= n)\n",
    "assume(fn >= 0, fn <= p)\n",
    "assume(p > 0)\n",
    "assume(n > 0)\n",
    "assume(acc >= 0)\n",
    "assume(npv >= 0)"
   ]
  },
  {
   "cell_type": "code",
   "execution_count": 175,
   "metadata": {
    "vscode": {
     "languageId": "python"
    }
   },
   "outputs": [],
   "source": [
    "eq0 = acc - accuracy(tp=tp, tn=tn, p=p, n=n)\n",
    "eq1 = npv - negative_predictive_value(tn=tn, fn=fn)\n",
    "eq2 = p - tp - fn\n",
    "eq3 = n - tn - fp"
   ]
  },
  {
   "cell_type": "code",
   "execution_count": 176,
   "metadata": {
    "vscode": {
     "languageId": "python"
    }
   },
   "outputs": [
    {
     "data": {
      "text/plain": [
       "tn + tp"
      ]
     },
     "execution_count": 176,
     "metadata": {},
     "output_type": "execute_result"
    }
   ],
   "source": [
    "simplify(accuracy(tp=tp, tn=tn, p=p, n=n).numerator())"
   ]
  },
  {
   "cell_type": "code",
   "execution_count": 177,
   "metadata": {
    "vscode": {
     "languageId": "python"
    }
   },
   "outputs": [],
   "source": [
    "mcc = matthews_correlation_coefficient(tp=tp, tn=tn, p=p, n=n)"
   ]
  },
  {
   "cell_type": "code",
   "execution_count": 178,
   "metadata": {
    "vscode": {
     "languageId": "python"
    }
   },
   "outputs": [
    {
     "data": {
      "text/plain": [
       "-((n - tn)*(p - tp) - tn*tp)/sqrt((n - tn + tp)*n*(p + tn - tp)*p)"
      ]
     },
     "execution_count": 178,
     "metadata": {},
     "output_type": "execute_result"
    }
   ],
   "source": [
    "mcc"
   ]
  },
  {
   "cell_type": "code",
   "execution_count": 179,
   "metadata": {
    "vscode": {
     "languageId": "python"
    }
   },
   "outputs": [
    {
     "data": {
      "text/plain": [
       "-n*p + p*tn + n*tp"
      ]
     },
     "execution_count": 179,
     "metadata": {},
     "output_type": "execute_result"
    }
   ],
   "source": [
    "mcc.numerator()"
   ]
  },
  {
   "cell_type": "code",
   "execution_count": 180,
   "metadata": {
    "vscode": {
     "languageId": "python"
    }
   },
   "outputs": [
    {
     "data": {
      "text/plain": [
       "-fn + p - tp"
      ]
     },
     "execution_count": 180,
     "metadata": {},
     "output_type": "execute_result"
    }
   ],
   "source": [
    "eq2.numerator()"
   ]
  },
  {
   "cell_type": "code",
   "execution_count": 181,
   "metadata": {
    "vscode": {
     "languageId": "python"
    }
   },
   "outputs": [
    {
     "data": {
      "text/plain": [
       "acc - (tn + tp)/(n + p)"
      ]
     },
     "execution_count": 181,
     "metadata": {},
     "output_type": "execute_result"
    }
   ],
   "source": [
    "eq0"
   ]
  },
  {
   "cell_type": "code",
   "execution_count": 182,
   "metadata": {
    "vscode": {
     "languageId": "python"
    }
   },
   "outputs": [
    {
     "data": {
      "text/plain": [
       "npv - tn/(fn + tn)"
      ]
     },
     "execution_count": 182,
     "metadata": {},
     "output_type": "execute_result"
    }
   ],
   "source": [
    "eq1"
   ]
  },
  {
   "cell_type": "code",
   "execution_count": 183,
   "metadata": {
    "vscode": {
     "languageId": "python"
    }
   },
   "outputs": [],
   "source": [
    "eq1b = npv*(tn + fn) - tn"
   ]
  },
  {
   "cell_type": "code",
   "execution_count": 184,
   "metadata": {
    "vscode": {
     "languageId": "python"
    }
   },
   "outputs": [
    {
     "data": {
      "text/plain": [
       "[{tp: (acc*n*(npv - 1) + (acc*(npv - 1) + npv)*p)/(2*npv - 1),\n",
       "  tn: (acc*n*npv + (acc*npv - npv)*p)/(2*npv - 1),\n",
       "  fp: -((acc*npv - 2*npv + 1)*n + (acc*npv - npv)*p)/(2*npv - 1),\n",
       "  fn: -(acc*n*(npv - 1) + (acc*(npv - 1) - npv + 1)*p)/(2*npv - 1)}]"
      ]
     },
     "execution_count": 184,
     "metadata": {},
     "output_type": "execute_result"
    }
   ],
   "source": [
    "solve([eq0, eq1, eq2, eq3], [tp, tn, fp, fn], solution_dict=True, to_poly_solve=True)"
   ]
  },
  {
   "cell_type": "code",
   "execution_count": 185,
   "metadata": {
    "vscode": {
     "languageId": "python"
    }
   },
   "outputs": [
    {
     "data": {
      "text/plain": [
       "[{tp: (acc*n*(npv - 1) + (acc*(npv - 1) + npv)*p)/(2*npv - 1),\n",
       "  tn: (acc*n*npv + (acc*npv - npv)*p)/(2*npv - 1),\n",
       "  fp: -((acc*npv - 2*npv + 1)*n + (acc*npv - npv)*p)/(2*npv - 1),\n",
       "  fn: -(acc*n*(npv - 1) + (acc*(npv - 1) - npv + 1)*p)/(2*npv - 1)}]"
      ]
     },
     "execution_count": 185,
     "metadata": {},
     "output_type": "execute_result"
    }
   ],
   "source": [
    "solve([eq0, eq1b, eq2, eq3], [tp, tn, fp, fn], solution_dict=True, to_poly_solve=True)"
   ]
  },
  {
   "cell_type": "code",
   "execution_count": 186,
   "metadata": {
    "vscode": {
     "languageId": "python"
    }
   },
   "outputs": [
    {
     "name": "stdout",
     "output_type": "stream",
     "text": [
      "Defining p, n, acc, npv\n"
     ]
    }
   ],
   "source": [
    "A.<p, n, acc, npv> = PolynomialRing(QQ)\n",
    "F = A.fraction_field()\n",
    "F.inject_variables()\n",
    "R.<tp, tn, fp, fn> = PolynomialRing(F, order='lex')\n",
    "I = R.ideal(eq0, eq1b, eq2, eq3)"
   ]
  },
  {
   "cell_type": "code",
   "execution_count": 187,
   "metadata": {
    "vscode": {
     "languageId": "python"
    }
   },
   "outputs": [],
   "source": [
    "gb = I.groebner_basis()"
   ]
  },
  {
   "cell_type": "code",
   "execution_count": 188,
   "metadata": {
    "vscode": {
     "languageId": "python"
    }
   },
   "outputs": [
    {
     "data": {
      "text/plain": [
       "tp + (-p*acc*npv + p*acc - p*npv - n*acc*npv + n*acc)/(2*npv - 1)"
      ]
     },
     "execution_count": 188,
     "metadata": {},
     "output_type": "execute_result"
    }
   ],
   "source": [
    "gb[0]"
   ]
  },
  {
   "cell_type": "code",
   "execution_count": 189,
   "metadata": {
    "vscode": {
     "languageId": "python"
    }
   },
   "outputs": [],
   "source": [
    "tmp = gb[0].constant_coefficient()"
   ]
  },
  {
   "cell_type": "code",
   "execution_count": 190,
   "metadata": {
    "vscode": {
     "languageId": "python"
    }
   },
   "outputs": [],
   "source": [
    "tmp = gb[0] + tp**2"
   ]
  },
  {
   "cell_type": "code",
   "execution_count": 191,
   "metadata": {
    "vscode": {
     "languageId": "python"
    }
   },
   "outputs": [
    {
     "data": {
      "text/plain": [
       "tp^2 + tp + (-p*acc*npv + p*acc - p*npv - n*acc*npv + n*acc)/(2*npv - 1)"
      ]
     },
     "execution_count": 191,
     "metadata": {},
     "output_type": "execute_result"
    }
   ],
   "source": [
    "tmp"
   ]
  },
  {
   "cell_type": "code",
   "execution_count": 192,
   "metadata": {
    "vscode": {
     "languageId": "python"
    }
   },
   "outputs": [
    {
     "data": {
      "text/plain": [
       "[1, (-p*acc*npv - n*acc*npv + p*acc + n*acc - p*npv)/(2*npv - 1)]"
      ]
     },
     "execution_count": 192,
     "metadata": {},
     "output_type": "execute_result"
    }
   ],
   "source": [
    "gb[0].coefficients()"
   ]
  },
  {
   "cell_type": "code",
   "execution_count": 193,
   "metadata": {
    "vscode": {
     "languageId": "python"
    }
   },
   "outputs": [
    {
     "data": {
      "text/plain": [
       "[1, 1, (-p*acc*npv - n*acc*npv + p*acc + n*acc - p*npv)/(2*npv - 1)]"
      ]
     },
     "execution_count": 193,
     "metadata": {},
     "output_type": "execute_result"
    }
   ],
   "source": [
    "tmp.coefficients()"
   ]
  },
  {
   "cell_type": "code",
   "execution_count": 197,
   "metadata": {
    "vscode": {
     "languageId": "python"
    }
   },
   "outputs": [
    {
     "data": {
      "text/plain": [
       "(tp, tn, fp, fn)"
      ]
     },
     "execution_count": 197,
     "metadata": {},
     "output_type": "execute_result"
    }
   ],
   "source": [
    "tmp.args()"
   ]
  },
  {
   "cell_type": "code",
   "execution_count": 196,
   "metadata": {
    "vscode": {
     "languageId": "python"
    }
   },
   "outputs": [
    {
     "data": {
      "text/plain": [
       "{(2, 0, 0, 0): 1,\n",
       " (1, 0, 0, 0): 1,\n",
       " (0, 0, 0, 0): (-p*acc*npv - n*acc*npv + p*acc + n*acc - p*npv)/(2*npv - 1)}"
      ]
     },
     "execution_count": 196,
     "metadata": {},
     "output_type": "execute_result"
    }
   ],
   "source": [
    "tmp.dict()"
   ]
  },
  {
   "cell_type": "code",
   "execution_count": 202,
   "metadata": {
    "vscode": {
     "languageId": "python"
    }
   },
   "outputs": [
    {
     "data": {
      "text/plain": [
       "[tp^2, tp, 1]"
      ]
     },
     "execution_count": 202,
     "metadata": {},
     "output_type": "execute_result"
    }
   ],
   "source": [
    "tmp.monomials()"
   ]
  },
  {
   "cell_type": "code",
   "execution_count": 203,
   "metadata": {
    "vscode": {
     "languageId": "python"
    }
   },
   "outputs": [
    {
     "data": {
      "text/plain": [
       "1"
      ]
     },
     "execution_count": 203,
     "metadata": {},
     "output_type": "execute_result"
    }
   ],
   "source": [
    "tmp.coefficient(tmp.monomials()[0])"
   ]
  },
  {
   "cell_type": "code",
   "execution_count": 22,
   "metadata": {
    "vscode": {
     "languageId": "python"
    }
   },
   "outputs": [
    {
     "data": {
      "text/plain": [
       "npv"
      ]
     },
     "execution_count": 22,
     "metadata": {},
     "output_type": "execute_result"
    }
   ],
   "source": [
    "var('p')\n",
    "var('n')\n",
    "\n",
    "var('acc')\n",
    "var('npv')"
   ]
  },
  {
   "cell_type": "code",
   "execution_count": 23,
   "metadata": {
    "vscode": {
     "languageId": "python"
    }
   },
   "outputs": [],
   "source": [
    "tmp = SR(tmp)"
   ]
  },
  {
   "cell_type": "code",
   "execution_count": 24,
   "metadata": {
    "vscode": {
     "languageId": "python"
    }
   },
   "outputs": [
    {
     "data": {
      "text/plain": [
       "[npv == (1/2)]"
      ]
     },
     "execution_count": 24,
     "metadata": {},
     "output_type": "execute_result"
    }
   ],
   "source": [
    "solve(tmp.denominator(), npv)"
   ]
  },
  {
   "cell_type": "code",
   "execution_count": 25,
   "metadata": {
    "vscode": {
     "languageId": "python"
    }
   },
   "outputs": [],
   "source": [
    "S = solve(tmp, npv, solution_dict=True)"
   ]
  },
  {
   "cell_type": "code",
   "execution_count": 26,
   "metadata": {
    "vscode": {
     "languageId": "python"
    }
   },
   "outputs": [],
   "source": [
    "eq1c = eq1.subs(S[0])"
   ]
  },
  {
   "cell_type": "code",
   "execution_count": 28,
   "metadata": {
    "vscode": {
     "languageId": "python"
    }
   },
   "outputs": [
    {
     "data": {
      "text/plain": [
       "acc - (tn + tp)/(n + p)"
      ]
     },
     "execution_count": 28,
     "metadata": {},
     "output_type": "execute_result"
    }
   ],
   "source": [
    "eq0"
   ]
  },
  {
   "cell_type": "code",
   "execution_count": 29,
   "metadata": {
    "vscode": {
     "languageId": "python"
    }
   },
   "outputs": [
    {
     "data": {
      "text/plain": [
       "(acc*n + acc*p)/(acc*n + (acc + 1)*p) - tn/(fn + tn)"
      ]
     },
     "execution_count": 29,
     "metadata": {},
     "output_type": "execute_result"
    }
   ],
   "source": [
    "eq1c"
   ]
  },
  {
   "cell_type": "code",
   "execution_count": 30,
   "metadata": {
    "vscode": {
     "languageId": "python"
    }
   },
   "outputs": [
    {
     "data": {
      "text/plain": [
       "-fn + p - tp"
      ]
     },
     "execution_count": 30,
     "metadata": {},
     "output_type": "execute_result"
    }
   ],
   "source": [
    "eq2"
   ]
  },
  {
   "cell_type": "code",
   "execution_count": 31,
   "metadata": {
    "vscode": {
     "languageId": "python"
    }
   },
   "outputs": [
    {
     "data": {
      "text/plain": [
       "-fp + n - tn"
      ]
     },
     "execution_count": 31,
     "metadata": {},
     "output_type": "execute_result"
    }
   ],
   "source": [
    "eq3"
   ]
  },
  {
   "cell_type": "code",
   "execution_count": 32,
   "metadata": {
    "vscode": {
     "languageId": "python"
    }
   },
   "outputs": [
    {
     "data": {
      "text/plain": [
       "fn"
      ]
     },
     "execution_count": 32,
     "metadata": {},
     "output_type": "execute_result"
    }
   ],
   "source": [
    "var('tp')\n",
    "var('tn')\n",
    "var('fp')\n",
    "var('fn')"
   ]
  },
  {
   "cell_type": "code",
   "execution_count": 33,
   "metadata": {
    "vscode": {
     "languageId": "python"
    }
   },
   "outputs": [
    {
     "data": {
      "text/plain": [
       "[{tp: 0, tn: acc*n + acc*p, fp: -(acc - 1)*n - acc*p, fn: p}]"
      ]
     },
     "execution_count": 33,
     "metadata": {},
     "output_type": "execute_result"
    }
   ],
   "source": [
    "solve([eq0, eq1c, eq2, eq3], [tp, tn, fp, fn], solution_dict=True, to_poly_solve=True)"
   ]
  },
  {
   "cell_type": "code",
   "execution_count": 39,
   "metadata": {
    "vscode": {
     "languageId": "python"
    }
   },
   "outputs": [],
   "source": [
    "eq = (sqrt(tp/tn) + 1) / fp"
   ]
  },
  {
   "cell_type": "code",
   "execution_count": 40,
   "metadata": {
    "vscode": {
     "languageId": "python"
    }
   },
   "outputs": [
    {
     "data": {
      "text/plain": [
       "(sqrt(tp/tn) + 1)/fp"
      ]
     },
     "execution_count": 40,
     "metadata": {},
     "output_type": "execute_result"
    }
   ],
   "source": [
    "simplify(eq)"
   ]
  },
  {
   "cell_type": "code",
   "execution_count": 41,
   "metadata": {
    "vscode": {
     "languageId": "python"
    }
   },
   "outputs": [
    {
     "data": {
      "text/plain": [
       "(sqrt(tp/tn) + 1)/fp"
      ]
     },
     "execution_count": 41,
     "metadata": {},
     "output_type": "execute_result"
    }
   ],
   "source": [
    "factor(eq)"
   ]
  },
  {
   "cell_type": "code",
   "execution_count": 43,
   "metadata": {
    "vscode": {
     "languageId": "python"
    }
   },
   "outputs": [],
   "source": [
    "tmp_expanded = expand(eq)"
   ]
  },
  {
   "cell_type": "code",
   "execution_count": 88,
   "metadata": {
    "vscode": {
     "languageId": "python"
    }
   },
   "outputs": [],
   "source": [
    "tmp7 = tp + fp + tn"
   ]
  },
  {
   "cell_type": "code",
   "execution_count": 89,
   "metadata": {
    "vscode": {
     "languageId": "python"
    }
   },
   "outputs": [
    {
     "data": {
      "text/plain": [
       "1"
      ]
     },
     "execution_count": 89,
     "metadata": {},
     "output_type": "execute_result"
    }
   ],
   "source": [
    "tmp7.denominator()"
   ]
  },
  {
   "cell_type": "code",
   "execution_count": 107,
   "metadata": {
    "vscode": {
     "languageId": "python"
    }
   },
   "outputs": [],
   "source": [
    "tmp8 = tmp7.denominator()"
   ]
  },
  {
   "cell_type": "code",
   "execution_count": 109,
   "metadata": {
    "vscode": {
     "languageId": "python"
    }
   },
   "outputs": [
    {
     "data": {
      "text/plain": [
       "True"
      ]
     },
     "execution_count": 109,
     "metadata": {},
     "output_type": "execute_result"
    }
   ],
   "source": [
    "tp.is_exact()"
   ]
  },
  {
   "cell_type": "code",
   "execution_count": 112,
   "metadata": {
    "vscode": {
     "languageId": "python"
    }
   },
   "outputs": [
    {
     "data": {
      "text/plain": [
       "True"
      ]
     },
     "execution_count": 112,
     "metadata": {},
     "output_type": "execute_result"
    }
   ],
   "source": [
    "tmp8.is_trivially_equal(1)"
   ]
  },
  {
   "cell_type": "code",
   "execution_count": 113,
   "metadata": {
    "vscode": {
     "languageId": "python"
    }
   },
   "outputs": [
    {
     "data": {
      "text/plain": [
       "False"
      ]
     },
     "execution_count": 113,
     "metadata": {},
     "output_type": "execute_result"
    }
   ],
   "source": [
    "fp.is_trivially_equal(1)"
   ]
  },
  {
   "cell_type": "code",
   "execution_count": 61,
   "metadata": {
    "vscode": {
     "languageId": "python"
    }
   },
   "outputs": [],
   "source": [
    "tmpa = tmp_expanded.operands()"
   ]
  },
  {
   "cell_type": "code",
   "execution_count": 63,
   "metadata": {
    "vscode": {
     "languageId": "python"
    }
   },
   "outputs": [
    {
     "data": {
      "text/plain": [
       "fp"
      ]
     },
     "execution_count": 63,
     "metadata": {},
     "output_type": "execute_result"
    }
   ],
   "source": [
    "tmpa[0].denominator()"
   ]
  },
  {
   "cell_type": "code",
   "execution_count": 65,
   "metadata": {
    "vscode": {
     "languageId": "python"
    }
   },
   "outputs": [],
   "source": [
    "tmpb = tmpa[0].numerator()"
   ]
  },
  {
   "cell_type": "code",
   "execution_count": 91,
   "metadata": {
    "vscode": {
     "languageId": "python"
    }
   },
   "outputs": [
    {
     "data": {
      "text/plain": [
       "<built-in function pow>"
      ]
     },
     "execution_count": 91,
     "metadata": {},
     "output_type": "execute_result"
    }
   ],
   "source": [
    "tmpb.operator()"
   ]
  },
  {
   "cell_type": "code",
   "execution_count": 70,
   "metadata": {
    "vscode": {
     "languageId": "python"
    }
   },
   "outputs": [],
   "source": [
    "tmpc = tmpb.operands()"
   ]
  },
  {
   "cell_type": "code",
   "execution_count": 79,
   "metadata": {
    "vscode": {
     "languageId": "python"
    }
   },
   "outputs": [],
   "source": [
    "tmpd = tmpc[0].operands()[0].denominator()"
   ]
  },
  {
   "cell_type": "code",
   "execution_count": 84,
   "metadata": {
    "vscode": {
     "languageId": "python"
    }
   },
   "outputs": [
    {
     "data": {
      "text/plain": [
       "True"
      ]
     },
     "execution_count": 84,
     "metadata": {},
     "output_type": "execute_result"
    }
   ],
   "source": [
    "tmpd.operator() is None"
   ]
  },
  {
   "cell_type": "code",
   "execution_count": 159,
   "metadata": {
    "vscode": {
     "languageId": "python"
    }
   },
   "outputs": [],
   "source": [
    "def _collect_denominators_and_bases(expression, denoms, bases):\n",
    "    num = expression.numerator()\n",
    "    denom = expression.denominator()\n",
    "    \n",
    "    if denom is not None and not denom.is_trivially_equal(1):\n",
    "        denoms.append(denom)\n",
    "        _collect_denominators_and_bases(denom, denoms, bases)\n",
    "    if num.operator() is not None:\n",
    "        if num.operator().__qualname__ == 'pow':\n",
    "            base, exponent = num.operands()\n",
    "            if exponent < 1:\n",
    "                bases.append(base)\n",
    "            _collect_denominators_and_bases(base, denoms, bases)\n",
    "        else:\n",
    "            for operand in num.operands():\n",
    "                _collect_denominators_and_bases(operand, denoms, bases)\n",
    "    return \n",
    "\n",
    "def collect_denominators_and_bases(expression):\n",
    "    denoms = []\n",
    "    bases = []\n",
    "    _collect_denominators_and_bases(expression, denoms, bases)\n",
    "    return denoms, bases"
   ]
  },
  {
   "cell_type": "code",
   "execution_count": 160,
   "metadata": {
    "vscode": {
     "languageId": "python"
    }
   },
   "outputs": [
    {
     "data": {
      "text/plain": [
       "([fn + tn], [(fn*npv + npv*tn - tn)/(fn + tn)])"
      ]
     },
     "execution_count": 160,
     "metadata": {},
     "output_type": "execute_result"
    }
   ],
   "source": [
    "collect_denominators_and_bases(eq1**(1/2))"
   ]
  },
  {
   "cell_type": "code",
   "execution_count": 161,
   "metadata": {
    "vscode": {
     "languageId": "python"
    }
   },
   "outputs": [
    {
     "ename": "TypeError",
     "evalue": "collect_denominators_and_bases() takes 1 positional argument but 3 were given",
     "output_type": "error",
     "traceback": [
      "\u001b[0;31m---------------------------------------------------------------------------\u001b[0m",
      "\u001b[0;31mTypeError\u001b[0m                                 Traceback (most recent call last)",
      "Cell \u001b[0;32mIn[161], line 3\u001b[0m\n\u001b[1;32m      1\u001b[0m denoms \u001b[39m=\u001b[39m []\n\u001b[1;32m      2\u001b[0m bases \u001b[39m=\u001b[39m []\n\u001b[0;32m----> 3\u001b[0m collect_denominators_and_bases(eq1\u001b[39m*\u001b[39;49m\u001b[39m*\u001b[39;49m(Integer(\u001b[39m1\u001b[39;49m)\u001b[39m/\u001b[39;49mInteger(\u001b[39m2\u001b[39;49m)), denoms, bases)\n",
      "\u001b[0;31mTypeError\u001b[0m: collect_denominators_and_bases() takes 1 positional argument but 3 were given"
     ]
    }
   ],
   "source": [
    "denoms = []\n",
    "bases = []\n",
    "collect_denominators_and_bases(eq1**(1/2), denoms, bases)"
   ]
  },
  {
   "cell_type": "code",
   "execution_count": 148,
   "metadata": {
    "vscode": {
     "languageId": "python"
    }
   },
   "outputs": [
    {
     "data": {
      "text/plain": [
       "[fn + tn]"
      ]
     },
     "execution_count": 148,
     "metadata": {},
     "output_type": "execute_result"
    }
   ],
   "source": [
    "denoms"
   ]
  },
  {
   "cell_type": "code",
   "execution_count": 149,
   "metadata": {
    "vscode": {
     "languageId": "python"
    }
   },
   "outputs": [
    {
     "data": {
      "text/plain": [
       "[(fn*npv + npv*tn - tn)/(fn + tn)]"
      ]
     },
     "execution_count": 149,
     "metadata": {},
     "output_type": "execute_result"
    }
   ],
   "source": [
    "bases"
   ]
  },
  {
   "cell_type": "code",
   "execution_count": 141,
   "metadata": {
    "vscode": {
     "languageId": "python"
    }
   },
   "outputs": [],
   "source": [
    "func1 = (eq1**(1/2)).numerator().operator()"
   ]
  },
  {
   "cell_type": "code",
   "execution_count": 145,
   "metadata": {
    "vscode": {
     "languageId": "python"
    }
   },
   "outputs": [
    {
     "data": {
      "text/plain": [
       "'pow'"
      ]
     },
     "execution_count": 145,
     "metadata": {},
     "output_type": "execute_result"
    }
   ],
   "source": [
    "func1.__qualname__"
   ]
  },
  {
   "cell_type": "code",
   "execution_count": 140,
   "metadata": {
    "vscode": {
     "languageId": "python"
    }
   },
   "outputs": [
    {
     "data": {
      "text/plain": [
       "<built-in function pow>"
      ]
     },
     "execution_count": 140,
     "metadata": {},
     "output_type": "execute_result"
    }
   ],
   "source": [
    "pow"
   ]
  },
  {
   "cell_type": "code",
   "execution_count": 139,
   "metadata": {
    "vscode": {
     "languageId": "python"
    }
   },
   "outputs": [
    {
     "data": {
      "text/plain": [
       "True"
      ]
     },
     "execution_count": 139,
     "metadata": {},
     "output_type": "execute_result"
    }
   ],
   "source": [
    "pow == pow"
   ]
  },
  {
   "cell_type": "code",
   "execution_count": 129,
   "metadata": {
    "vscode": {
     "languageId": "python"
    }
   },
   "outputs": [
    {
     "data": {
      "text/plain": [
       "[]"
      ]
     },
     "execution_count": 129,
     "metadata": {},
     "output_type": "execute_result"
    }
   ],
   "source": [
    "denoms"
   ]
  },
  {
   "cell_type": "code",
   "execution_count": 130,
   "metadata": {
    "vscode": {
     "languageId": "python"
    }
   },
   "outputs": [
    {
     "data": {
      "text/plain": [
       "[]"
      ]
     },
     "execution_count": 130,
     "metadata": {},
     "output_type": "execute_result"
    }
   ],
   "source": [
    "bases"
   ]
  },
  {
   "cell_type": "code",
   "execution_count": null,
   "metadata": {
    "vscode": {
     "languageId": "python"
    }
   },
   "outputs": [],
   "source": [
    "eq0.is"
   ]
  },
  {
   "cell_type": "code",
   "execution_count": 95,
   "metadata": {
    "vscode": {
     "languageId": "python"
    }
   },
   "outputs": [
    {
     "data": {
      "text/plain": [
       "[]"
      ]
     },
     "execution_count": 95,
     "metadata": {},
     "output_type": "execute_result"
    }
   ],
   "source": [
    "denoms"
   ]
  },
  {
   "cell_type": "code",
   "execution_count": 96,
   "metadata": {
    "vscode": {
     "languageId": "python"
    }
   },
   "outputs": [
    {
     "data": {
      "text/plain": [
       "[]"
      ]
     },
     "execution_count": 96,
     "metadata": {},
     "output_type": "execute_result"
    }
   ],
   "source": [
    "bases"
   ]
  },
  {
   "cell_type": "code",
   "execution_count": 97,
   "metadata": {
    "vscode": {
     "languageId": "python"
    }
   },
   "outputs": [],
   "source": [
    "R2.<p, n, acc, npv> = PolynomialRing(QQ)\n",
    "#R.inject_variables()\n",
    "F2 = R2.fraction_field()"
   ]
  },
  {
   "cell_type": "code",
   "execution_count": 100,
   "metadata": {
    "vscode": {
     "languageId": "python"
    }
   },
   "outputs": [],
   "source": [
    "poly = (-p*acc*npv + p*acc - p*npv - n*acc*npv + n*acc)/(2*npv-1)"
   ]
  },
  {
   "cell_type": "code",
   "execution_count": 101,
   "metadata": {
    "vscode": {
     "languageId": "python"
    }
   },
   "outputs": [],
   "source": [
    "#poly = F(poly)"
   ]
  },
  {
   "cell_type": "code",
   "execution_count": 102,
   "metadata": {
    "vscode": {
     "languageId": "python"
    }
   },
   "outputs": [
    {
     "data": {
      "text/plain": [
       "<class 'sage.rings.fraction_field_element.FractionFieldElement'>"
      ]
     },
     "execution_count": 102,
     "metadata": {},
     "output_type": "execute_result"
    }
   ],
   "source": [
    "poly.__class__"
   ]
  },
  {
   "cell_type": "code",
   "execution_count": 91,
   "metadata": {
    "vscode": {
     "languageId": "python"
    }
   },
   "outputs": [
    {
     "ename": "TypeError",
     "evalue": "npv is not a valid variable.",
     "output_type": "error",
     "traceback": [
      "\u001b[0;31m---------------------------------------------------------------------------\u001b[0m",
      "\u001b[0;31mTypeError\u001b[0m                                 Traceback (most recent call last)",
      "Cell \u001b[0;32mIn[91], line 1\u001b[0m\n\u001b[0;32m----> 1\u001b[0m solve(poly, npv)\n",
      "File \u001b[0;32m~/anaconda3/envs/sage/lib/python3.10/site-packages/sage/symbolic/relation.py:1056\u001b[0m, in \u001b[0;36msolve\u001b[0;34m(f, *args, **kwds)\u001b[0m\n\u001b[1;32m   1054\u001b[0m     x \u001b[39m=\u001b[39m \u001b[39mvars\u001b[39m[\u001b[39m0\u001b[39m]\n\u001b[1;32m   1055\u001b[0m \u001b[39melif\u001b[39;00m \u001b[39mnot\u001b[39;00m \u001b[39misinstance\u001b[39m(x, Expression):\n\u001b[0;32m-> 1056\u001b[0m     \u001b[39mraise\u001b[39;00m \u001b[39mTypeError\u001b[39;00m(\u001b[39m\"\u001b[39m\u001b[39m%s\u001b[39;00m\u001b[39m is not a valid variable.\u001b[39m\u001b[39m\"\u001b[39m \u001b[39m%\u001b[39m \u001b[39mrepr\u001b[39m(x))\n\u001b[1;32m   1058\u001b[0m \u001b[39mif\u001b[39;00m \u001b[39misinstance\u001b[39m(f, (\u001b[39mlist\u001b[39m, \u001b[39mtuple\u001b[39m)) \u001b[39mand\u001b[39;00m \u001b[39mlen\u001b[39m(f) \u001b[39m==\u001b[39m \u001b[39m1\u001b[39m:\n\u001b[1;32m   1059\u001b[0m     \u001b[39m# f is a list with a single element\u001b[39;00m\n\u001b[1;32m   1060\u001b[0m     \u001b[39mif\u001b[39;00m \u001b[39misinstance\u001b[39m(f[\u001b[39m0\u001b[39m], Expression):\n",
      "\u001b[0;31mTypeError\u001b[0m: npv is not a valid variable."
     ]
    }
   ],
   "source": [
    "solve(poly, npv)"
   ]
  },
  {
   "cell_type": "code",
   "execution_count": 31,
   "metadata": {
    "vscode": {
     "languageId": "python"
    }
   },
   "outputs": [
    {
     "ename": "IndexError",
     "evalue": "tuple index out of range",
     "output_type": "error",
     "traceback": [
      "\u001b[0;31m---------------------------------------------------------------------------\u001b[0m",
      "\u001b[0;31mIndexError\u001b[0m                                Traceback (most recent call last)",
      "Cell \u001b[0;32mIn[31], line 1\u001b[0m\n\u001b[0;32m----> 1\u001b[0m solve(poly)\n",
      "File \u001b[0;32m~/anaconda3/envs/sage/lib/python3.10/site-packages/sage/symbolic/relation.py:1042\u001b[0m, in \u001b[0;36msolve\u001b[0;34m(f, *args, **kwds)\u001b[0m\n\u001b[1;32m   1040\u001b[0m     x \u001b[39m=\u001b[39m args\n\u001b[1;32m   1041\u001b[0m \u001b[39melse\u001b[39;00m:\n\u001b[0;32m-> 1042\u001b[0m     x \u001b[39m=\u001b[39m args[\u001b[39m0\u001b[39;49m]\n\u001b[1;32m   1043\u001b[0m \u001b[39mif\u001b[39;00m \u001b[39misinstance\u001b[39m(x, (\u001b[39mlist\u001b[39m, \u001b[39mtuple\u001b[39m)):\n\u001b[1;32m   1044\u001b[0m     \u001b[39mfor\u001b[39;00m i \u001b[39min\u001b[39;00m x:\n",
      "\u001b[0;31mIndexError\u001b[0m: tuple index out of range"
     ]
    }
   ],
   "source": [
    "solve(poly)"
   ]
  },
  {
   "cell_type": "code",
   "execution_count": 28,
   "metadata": {
    "vscode": {
     "languageId": "python"
    }
   },
   "outputs": [
    {
     "ename": "TypeError",
     "evalue": "acc is not a valid variable.",
     "output_type": "error",
     "traceback": [
      "\u001b[0;31m---------------------------------------------------------------------------\u001b[0m",
      "\u001b[0;31mTypeError\u001b[0m                                 Traceback (most recent call last)",
      "Cell \u001b[0;32mIn[28], line 1\u001b[0m\n\u001b[0;32m----> 1\u001b[0m solve(tmp, acc)\n",
      "File \u001b[0;32m~/anaconda3/envs/sage/lib/python3.10/site-packages/sage/symbolic/relation.py:1056\u001b[0m, in \u001b[0;36msolve\u001b[0;34m(f, *args, **kwds)\u001b[0m\n\u001b[1;32m   1054\u001b[0m     x \u001b[39m=\u001b[39m \u001b[39mvars\u001b[39m[\u001b[39m0\u001b[39m]\n\u001b[1;32m   1055\u001b[0m \u001b[39melif\u001b[39;00m \u001b[39mnot\u001b[39;00m \u001b[39misinstance\u001b[39m(x, Expression):\n\u001b[0;32m-> 1056\u001b[0m     \u001b[39mraise\u001b[39;00m \u001b[39mTypeError\u001b[39;00m(\u001b[39m\"\u001b[39m\u001b[39m%s\u001b[39;00m\u001b[39m is not a valid variable.\u001b[39m\u001b[39m\"\u001b[39m \u001b[39m%\u001b[39m \u001b[39mrepr\u001b[39m(x))\n\u001b[1;32m   1058\u001b[0m \u001b[39mif\u001b[39;00m \u001b[39misinstance\u001b[39m(f, (\u001b[39mlist\u001b[39m, \u001b[39mtuple\u001b[39m)) \u001b[39mand\u001b[39;00m \u001b[39mlen\u001b[39m(f) \u001b[39m==\u001b[39m \u001b[39m1\u001b[39m:\n\u001b[1;32m   1059\u001b[0m     \u001b[39m# f is a list with a single element\u001b[39;00m\n\u001b[1;32m   1060\u001b[0m     \u001b[39mif\u001b[39;00m \u001b[39misinstance\u001b[39m(f[\u001b[39m0\u001b[39m], Expression):\n",
      "\u001b[0;31mTypeError\u001b[0m: acc is not a valid variable."
     ]
    }
   ],
   "source": [
    "solve(tmp, acc)"
   ]
  },
  {
   "cell_type": "code",
   "execution_count": null,
   "metadata": {
    "vscode": {
     "languageId": "python"
    }
   },
   "outputs": [
    {
     "data": {
      "text/plain": [
       "tn + (-p*acc*npv + p*npv - n*acc*npv)/(2*npv - 1)"
      ]
     },
     "execution_count": 21,
     "metadata": {},
     "output_type": "execute_result"
    }
   ],
   "source": [
    "gb[1]"
   ]
  },
  {
   "cell_type": "code",
   "execution_count": null,
   "metadata": {
    "vscode": {
     "languageId": "python"
    }
   },
   "outputs": [
    {
     "data": {
      "text/plain": [
       "fp + (p*acc*npv - p*npv + n*acc*npv - 2*n*npv + n)/(2*npv - 1)"
      ]
     },
     "execution_count": 22,
     "metadata": {},
     "output_type": "execute_result"
    }
   ],
   "source": [
    "gb[2]"
   ]
  },
  {
   "cell_type": "code",
   "execution_count": null,
   "metadata": {
    "vscode": {
     "languageId": "python"
    }
   },
   "outputs": [
    {
     "data": {
      "text/plain": [
       "fn + (p*acc*npv - p*acc - p*npv + p + n*acc*npv - n*acc)/(2*npv - 1)"
      ]
     },
     "execution_count": 23,
     "metadata": {},
     "output_type": "execute_result"
    }
   ],
   "source": [
    "gb[3]"
   ]
  },
  {
   "cell_type": "code",
   "execution_count": null,
   "metadata": {
    "vscode": {
     "languageId": "python"
    }
   },
   "outputs": [
    {
     "data": {
      "text/plain": [
       "0"
      ]
     },
     "execution_count": 24,
     "metadata": {},
     "output_type": "execute_result"
    }
   ],
   "source": [
    "I.dimension()"
   ]
  },
  {
   "cell_type": "code",
   "execution_count": null,
   "metadata": {
    "vscode": {
     "languageId": "python"
    }
   },
   "outputs": [
    {
     "data": {
      "text/plain": [
       "1"
      ]
     },
     "execution_count": 25,
     "metadata": {},
     "output_type": "execute_result"
    }
   ],
   "source": [
    "gb[3].degree()"
   ]
  },
  {
   "cell_type": "code",
   "execution_count": null,
   "metadata": {
    "vscode": {
     "languageId": "python"
    }
   },
   "outputs": [],
   "source": [
    "tmp = gb[3]"
   ]
  },
  {
   "cell_type": "code",
   "execution_count": null,
   "metadata": {
    "vscode": {
     "languageId": "python"
    }
   },
   "outputs": [
    {
     "data": {
      "text/plain": [
       "(tp, tn, fp, fn)"
      ]
     },
     "execution_count": 27,
     "metadata": {},
     "output_type": "execute_result"
    }
   ],
   "source": [
    "tmp.args()"
   ]
  },
  {
   "cell_type": "code",
   "execution_count": null,
   "metadata": {
    "vscode": {
     "languageId": "python"
    }
   },
   "outputs": [
    {
     "data": {
      "text/plain": [
       "[1, (p*acc*npv + n*acc*npv - p*acc - n*acc - p*npv + p)/(2*npv - 1)]"
      ]
     },
     "execution_count": 28,
     "metadata": {},
     "output_type": "execute_result"
    }
   ],
   "source": [
    "tmp.coefficients()"
   ]
  },
  {
   "cell_type": "code",
   "execution_count": null,
   "metadata": {
    "vscode": {
     "languageId": "python"
    }
   },
   "outputs": [
    {
     "data": {
      "text/plain": [
       "1"
      ]
     },
     "execution_count": 29,
     "metadata": {},
     "output_type": "execute_result"
    }
   ],
   "source": [
    "tmp.monomial_coefficient(fn)"
   ]
  },
  {
   "cell_type": "code",
   "execution_count": null,
   "metadata": {
    "vscode": {
     "languageId": "python"
    }
   },
   "outputs": [
    {
     "data": {
      "text/plain": [
       "[fn, 1]"
      ]
     },
     "execution_count": 30,
     "metadata": {},
     "output_type": "execute_result"
    }
   ],
   "source": [
    "tmp.monomials()"
   ]
  },
  {
   "cell_type": "code",
   "execution_count": null,
   "metadata": {
    "vscode": {
     "languageId": "python"
    }
   },
   "outputs": [
    {
     "data": {
      "text/plain": [
       "1"
      ]
     },
     "execution_count": 31,
     "metadata": {},
     "output_type": "execute_result"
    }
   ],
   "source": [
    "tmp.lc()"
   ]
  },
  {
   "cell_type": "code",
   "execution_count": null,
   "metadata": {
    "vscode": {
     "languageId": "python"
    }
   },
   "outputs": [
    {
     "ename": "TypeError",
     "evalue": "tn is not a valid variable.",
     "output_type": "error",
     "traceback": [
      "\u001b[0;31m---------------------------------------------------------------------------\u001b[0m",
      "\u001b[0;31mTypeError\u001b[0m                                 Traceback (most recent call last)",
      "Cell \u001b[0;32mIn[32], line 1\u001b[0m\n\u001b[0;32m----> 1\u001b[0m solve((\u001b[39m-\u001b[39;49mp\u001b[39m*\u001b[39;49macc\u001b[39m*\u001b[39;49mnpv \u001b[39m+\u001b[39;49m p\u001b[39m*\u001b[39;49mnpv \u001b[39m-\u001b[39;49m n\u001b[39m*\u001b[39;49macc\u001b[39m*\u001b[39;49mnpv)\u001b[39m/\u001b[39;49m(Integer(\u001b[39m2\u001b[39;49m)\u001b[39m*\u001b[39;49mnpv \u001b[39m-\u001b[39;49m Integer(\u001b[39m1\u001b[39;49m)) \u001b[39m-\u001b[39;49m tn, tn)\n",
      "File \u001b[0;32m~/anaconda3/envs/sage/lib/python3.10/site-packages/sage/symbolic/relation.py:1056\u001b[0m, in \u001b[0;36msolve\u001b[0;34m(f, *args, **kwds)\u001b[0m\n\u001b[1;32m   1054\u001b[0m     x \u001b[39m=\u001b[39m \u001b[39mvars\u001b[39m[\u001b[39m0\u001b[39m]\n\u001b[1;32m   1055\u001b[0m \u001b[39melif\u001b[39;00m \u001b[39mnot\u001b[39;00m \u001b[39misinstance\u001b[39m(x, Expression):\n\u001b[0;32m-> 1056\u001b[0m     \u001b[39mraise\u001b[39;00m \u001b[39mTypeError\u001b[39;00m(\u001b[39m\"\u001b[39m\u001b[39m%s\u001b[39;00m\u001b[39m is not a valid variable.\u001b[39m\u001b[39m\"\u001b[39m \u001b[39m%\u001b[39m \u001b[39mrepr\u001b[39m(x))\n\u001b[1;32m   1058\u001b[0m \u001b[39mif\u001b[39;00m \u001b[39misinstance\u001b[39m(f, (\u001b[39mlist\u001b[39m, \u001b[39mtuple\u001b[39m)) \u001b[39mand\u001b[39;00m \u001b[39mlen\u001b[39m(f) \u001b[39m==\u001b[39m \u001b[39m1\u001b[39m:\n\u001b[1;32m   1059\u001b[0m     \u001b[39m# f is a list with a single element\u001b[39;00m\n\u001b[1;32m   1060\u001b[0m     \u001b[39mif\u001b[39;00m \u001b[39misinstance\u001b[39m(f[\u001b[39m0\u001b[39m], Expression):\n",
      "\u001b[0;31mTypeError\u001b[0m: tn is not a valid variable."
     ]
    }
   ],
   "source": [
    "solve((-p*acc*npv + p*npv - n*acc*npv)/(2*npv - 1) - tn, tn)"
   ]
  },
  {
   "cell_type": "code",
   "execution_count": null,
   "metadata": {
    "vscode": {
     "languageId": "python"
    }
   },
   "outputs": [],
   "source": []
  }
 ],
 "metadata": {
  "kernelspec": {
   "display_name": "SageMath 10.0",
   "language": "sage",
   "name": "sagemath"
  },
  "language_info": {
   "codemirror_mode": {
    "name": "ipython",
    "version": 3
   },
   "file_extension": ".py",
   "mimetype": "text/x-python",
   "name": "sage",
   "nbconvert_exporter": "python",
   "pygments_lexer": "ipython3",
   "version": "3.10.11"
  },
  "orig_nbformat": 4
 },
 "nbformat": 4,
 "nbformat_minor": 2
}
