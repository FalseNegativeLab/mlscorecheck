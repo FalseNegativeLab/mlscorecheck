{
 "cells": [
  {
   "cell_type": "code",
   "execution_count": 1,
   "metadata": {},
   "outputs": [],
   "source": [
    "\n",
    "import sympy\n",
    "\n",
    "from mlscorecheck.core import score_function_set"
   ]
  },
  {
   "cell_type": "code",
   "execution_count": 5,
   "metadata": {},
   "outputs": [],
   "source": [
    "x = sympy.Symbol('x')\n",
    "y = sympy.Symbol('y')\n",
    "\n",
    "eq = x**3*y - sympy.sqrt(x)*y**2 + 5"
   ]
  },
  {
   "cell_type": "code",
   "execution_count": 24,
   "metadata": {},
   "outputs": [
    {
     "data": {
      "text/plain": [
       "True"
      ]
     },
     "execution_count": 24,
     "metadata": {},
     "output_type": "execute_result"
    }
   ],
   "source": [
    "eq.has(sympy.Pow)"
   ]
  },
  {
   "cell_type": "code",
   "execution_count": 12,
   "metadata": {},
   "outputs": [
    {
     "data": {
      "text/latex": [
       "$\\displaystyle - \\sqrt{x} y^{2}$"
      ],
      "text/plain": [
       "-sqrt(x)*y**2"
      ]
     },
     "execution_count": 12,
     "metadata": {},
     "output_type": "execute_result"
    }
   ],
   "source": [
    "eq.args[2]"
   ]
  },
  {
   "cell_type": "code",
   "execution_count": 6,
   "metadata": {},
   "outputs": [
    {
     "data": {
      "text/plain": [
       "False"
      ]
     },
     "execution_count": 6,
     "metadata": {},
     "output_type": "execute_result"
    }
   ],
   "source": [
    "eq.has(sympy.sqrt)"
   ]
  },
  {
   "cell_type": "code",
   "execution_count": 56,
   "metadata": {},
   "outputs": [],
   "source": [
    "scores = score_function_set()"
   ]
  },
  {
   "cell_type": "code",
   "execution_count": 57,
   "metadata": {},
   "outputs": [],
   "source": [
    "score0 = 'ppv'\n",
    "score1 = 'ji'\n",
    "\n",
    "score0_fun = scores[score0]\n",
    "score1_fun = scores[score1]"
   ]
  },
  {
   "cell_type": "code",
   "execution_count": 58,
   "metadata": {},
   "outputs": [],
   "source": [
    "tp = sympy.Symbol('tp')\n",
    "tn = sympy.Symbol('tn')\n",
    "fp = sympy.Symbol('fp')\n",
    "fn = sympy.Symbol('fn')\n",
    "p = sympy.Symbol('p')\n",
    "n = sympy.Symbol('n')\n",
    "\n",
    "symbols = {'tp': tp,\n",
    "            'tn': tn,\n",
    "            'fp': fp,\n",
    "            'fn': fn,\n",
    "            'p': p,\n",
    "            'n': n}\n",
    "\n",
    "score0_sym = sympy.Symbol(score0)\n",
    "score1_sym = sympy.Symbol(score1)"
   ]
  },
  {
   "cell_type": "code",
   "execution_count": 59,
   "metadata": {},
   "outputs": [],
   "source": [
    "score0_args = score0_fun.__code__.co_varnames[:score0_fun.__code__.co_kwonlyargcount]\n",
    "score1_args = score1_fun.__code__.co_varnames[:score1_fun.__code__.co_kwonlyargcount]"
   ]
  },
  {
   "cell_type": "code",
   "execution_count": 60,
   "metadata": {},
   "outputs": [
    {
     "data": {
      "text/plain": [
       "(('tp', 'fp'), ('tp', 'fp', 'p'))"
      ]
     },
     "execution_count": 60,
     "metadata": {},
     "output_type": "execute_result"
    }
   ],
   "source": [
    "score0_args, score1_args"
   ]
  },
  {
   "cell_type": "code",
   "execution_count": 61,
   "metadata": {},
   "outputs": [],
   "source": [
    "score0_exp = score0_fun(**{key: val for key, val in symbols.items() if key in score0_args})\n",
    "score1_exp = score1_fun(**{key: val for key, val in symbols.items() if key in score1_args})\n",
    "score0_eq = score0_sym - score0_exp\n",
    "score1_eq = score1_sym - score1_exp\n",
    "n_eq = n - tn - fp\n",
    "p_eq = p - tp - fn"
   ]
  },
  {
   "cell_type": "code",
   "execution_count": 62,
   "metadata": {},
   "outputs": [
    {
     "data": {
      "text/plain": [
       "(ppv - tp/(fp + tp), ji - tp/(fp + p), -fp + n - tn, -fn + p - tp)"
      ]
     },
     "execution_count": 62,
     "metadata": {},
     "output_type": "execute_result"
    }
   ],
   "source": [
    "score0_eq, score1_eq, n_eq, p_eq"
   ]
  },
  {
   "cell_type": "code",
   "execution_count": 63,
   "metadata": {},
   "outputs": [
    {
     "data": {
      "text/plain": [
       "(tp/(fp + tp), tp/(fp + p))"
      ]
     },
     "execution_count": 63,
     "metadata": {},
     "output_type": "execute_result"
    }
   ],
   "source": [
    "score0_exp, score1_exp"
   ]
  },
  {
   "cell_type": "code",
   "execution_count": 64,
   "metadata": {},
   "outputs": [],
   "source": [
    "num0, denom0 = score0_exp.as_numer_denom()\n",
    "num1, denom1 = score1_exp.as_numer_denom()"
   ]
  },
  {
   "cell_type": "code",
   "execution_count": 65,
   "metadata": {},
   "outputs": [
    {
     "data": {
      "text/plain": [
       "(tp, fp + tp, tp, fp + p)"
      ]
     },
     "execution_count": 65,
     "metadata": {},
     "output_type": "execute_result"
    }
   ],
   "source": [
    "num0, denom0, num1, denom1"
   ]
  },
  {
   "cell_type": "code",
   "execution_count": 66,
   "metadata": {},
   "outputs": [],
   "source": [
    "score0_eq = sympy.simplify(score0_eq * denom0)\n",
    "score1_eq = sympy.simplify(score1_eq * denom1)"
   ]
  },
  {
   "cell_type": "code",
   "execution_count": 67,
   "metadata": {},
   "outputs": [
    {
     "data": {
      "text/plain": [
       "(ppv*(fp + tp) - tp, ji*(fp + p) - tp, -fp + n - tn, -fn + p - tp)"
      ]
     },
     "execution_count": 67,
     "metadata": {},
     "output_type": "execute_result"
    }
   ],
   "source": [
    "score0_eq, score1_eq, n_eq, p_eq"
   ]
  },
  {
   "cell_type": "code",
   "execution_count": 68,
   "metadata": {},
   "outputs": [],
   "source": [
    "gb = sympy.GroebnerBasis([score0_eq, score1_eq, n_eq, p_eq], tp, tn, fn, fp, order='grevlex')"
   ]
  },
  {
   "cell_type": "code",
   "execution_count": 69,
   "metadata": {},
   "outputs": [
    {
     "data": {
      "text/latex": [
       "$\\displaystyle \\operatorname{GroebnerBasis}\\left(\\left( - ji p ppv + tp \\left(ji ppv - ji + ppv\\right), \\  - ji n ppv + ji n - ji p ppv + ji p - n ppv + tn \\left(ji ppv - ji + ppv\\right), \\  fn \\left(ji ppv - ji + ppv\\right) + ji p - p ppv, \\  fp \\left(ji ppv - ji + ppv\\right) + ji p ppv - ji p\\right), \\left( tp, \\  tn, \\  fn, \\  fp\\right)\\right)$"
      ],
      "text/plain": [
       "GroebnerBasis([-ji*p*ppv + tp*(ji*ppv - ji + ppv), -ji*n*ppv - ji*p*ppv + ji*n + ji*p - n*ppv + tn*(ji*ppv - ji + ppv), ji*p - p*ppv + fn*(ji*ppv - ji + ppv), ji*p*ppv - ji*p + fp*(ji*ppv - ji + ppv)], tp, tn, fn, fp, domain='ZZ[p,n,ji,ppv]', order='grevlex')"
      ]
     },
     "execution_count": 69,
     "metadata": {},
     "output_type": "execute_result"
    }
   ],
   "source": [
    "gb"
   ]
  },
  {
   "cell_type": "code",
   "execution_count": 70,
   "metadata": {},
   "outputs": [
    {
     "data": {
      "text/plain": [
       "(-ji*p*ppv + tp*(ji*ppv - ji + ppv),\n",
       " -ji*n*ppv + ji*n - ji*p*ppv + ji*p - n*ppv + tn*(ji*ppv - ji + ppv),\n",
       " fn*(ji*ppv - ji + ppv) + ji*p - p*ppv,\n",
       " fp*(ji*ppv - ji + ppv) + ji*p*ppv - ji*p)"
      ]
     },
     "execution_count": 70,
     "metadata": {},
     "output_type": "execute_result"
    }
   ],
   "source": [
    "gb[0], gb[1], gb[2], gb[3]"
   ]
  },
  {
   "cell_type": "code",
   "execution_count": 71,
   "metadata": {},
   "outputs": [
    {
     "data": {
      "text/plain": [
       "True"
      ]
     },
     "execution_count": 71,
     "metadata": {},
     "output_type": "execute_result"
    }
   ],
   "source": [
    "gb.is_zero_dimensional"
   ]
  },
  {
   "cell_type": "code",
   "execution_count": 79,
   "metadata": {},
   "outputs": [
    {
     "data": {
      "text/plain": [
       "[{ji: -ppv/(ppv - 1)}]"
      ]
     },
     "execution_count": 79,
     "metadata": {},
     "output_type": "execute_result"
    }
   ],
   "source": [
    "sympy.solve(score1_sym*score0_sym - score1_sym + score0_sym)"
   ]
  },
  {
   "cell_type": "code",
   "execution_count": 77,
   "metadata": {},
   "outputs": [
    {
     "name": "stdout",
     "output_type": "stream",
     "text": [
      "tp**0*tn**0*fp**1*fn**0\n"
     ]
    }
   ],
   "source": [
    "print(sympy.Poly(gb[3], tp, tn, fp, fn).LM())"
   ]
  },
  {
   "cell_type": "code",
   "execution_count": 35,
   "metadata": {},
   "outputs": [],
   "source": [
    "#ji*ppv - ji + ppv = 0\n",
    "#ji*ppv = ji - ppv"
   ]
  },
  {
   "cell_type": "code",
   "execution_count": 36,
   "metadata": {},
   "outputs": [
    {
     "data": {
      "text/plain": [
       "[{p: 0}, {tp: 0}]"
      ]
     },
     "execution_count": 36,
     "metadata": {},
     "output_type": "execute_result"
    }
   ],
   "source": [
    "sympy.solve(score1_exp * score0_exp - score1_exp + score0_exp)"
   ]
  },
  {
   "cell_type": "code",
   "execution_count": 39,
   "metadata": {},
   "outputs": [],
   "source": [
    "subst = {score0_sym: 0}\n",
    "score0_eq_new = score0_eq.subs(subst)\n",
    "score1_eq_new = score1_eq.subs(subst)\n",
    "n_eq_new = n_eq.subs(subst)\n",
    "p_eq_new = p_eq.subs(subst)"
   ]
  },
  {
   "cell_type": "code",
   "execution_count": 42,
   "metadata": {},
   "outputs": [
    {
     "data": {
      "text/plain": [
       "(-tp, ji*(fp + p) - tp, -fp + n - tn, -fn + p - tp)"
      ]
     },
     "execution_count": 42,
     "metadata": {},
     "output_type": "execute_result"
    }
   ],
   "source": [
    "score0_eq_new, score1_eq_new, n_eq_new, p_eq_new"
   ]
  },
  {
   "cell_type": "code",
   "execution_count": 46,
   "metadata": {},
   "outputs": [
    {
     "data": {
      "text/latex": [
       "$\\displaystyle \\operatorname{GroebnerBasis}\\left(\\left( tp, \\  - n - p + tn, \\  fn - p, \\  fp + p\\right), \\left( tp, \\  tn, \\  fn, \\  fp\\right)\\right)$"
      ],
      "text/plain": [
       "GroebnerBasis([tp, -n - p + tn, fn - p, fp + p], tp, tn, fn, fp, domain='ZZ[p,n,ji]', order='grevlex')"
      ]
     },
     "execution_count": 46,
     "metadata": {},
     "output_type": "execute_result"
    }
   ],
   "source": [
    "sympy.GroebnerBasis([score0_eq_new, score1_eq_new, n_eq_new, p_eq_new], tp, tn, fn, fp, order='grevlex')"
   ]
  },
  {
   "cell_type": "code",
   "execution_count": 49,
   "metadata": {},
   "outputs": [
    {
     "data": {
      "text/latex": [
       "$\\displaystyle - tp$"
      ],
      "text/plain": [
       "-tp"
      ]
     },
     "execution_count": 49,
     "metadata": {},
     "output_type": "execute_result"
    }
   ],
   "source": [
    "gb[0].subs({score0_sym: 0}) / score1_sym"
   ]
  },
  {
   "cell_type": "code",
   "execution_count": 51,
   "metadata": {},
   "outputs": [
    {
     "data": {
      "text/latex": [
       "$\\displaystyle n + p - tn$"
      ],
      "text/plain": [
       "n + p - tn"
      ]
     },
     "execution_count": 51,
     "metadata": {},
     "output_type": "execute_result"
    }
   ],
   "source": [
    "sympy.simplify(gb[1].subs({score0_sym: 0}) / score1_sym)"
   ]
  },
  {
   "cell_type": "code",
   "execution_count": 53,
   "metadata": {},
   "outputs": [
    {
     "data": {
      "text/latex": [
       "$\\displaystyle - fn + p$"
      ],
      "text/plain": [
       "-fn + p"
      ]
     },
     "execution_count": 53,
     "metadata": {},
     "output_type": "execute_result"
    }
   ],
   "source": [
    "sympy.simplify(gb[2].subs({score0_sym: 0}) / score1_sym)"
   ]
  },
  {
   "cell_type": "code",
   "execution_count": 54,
   "metadata": {},
   "outputs": [
    {
     "data": {
      "text/latex": [
       "$\\displaystyle - fp - p$"
      ],
      "text/plain": [
       "-fp - p"
      ]
     },
     "execution_count": 54,
     "metadata": {},
     "output_type": "execute_result"
    }
   ],
   "source": [
    "sympy.simplify(gb[3].subs({score0_sym: 0}) / score1_sym)"
   ]
  },
  {
   "cell_type": "code",
   "execution_count": null,
   "metadata": {},
   "outputs": [
    {
     "data": {
      "text/plain": [
       "False"
      ]
     },
     "execution_count": 76,
     "metadata": {},
     "output_type": "execute_result"
    }
   ],
   "source": [
    "sympy.GroebnerBasis([spec_eq_new, npv_eq_new, n_eq_new, p_eq_new], tp, tn, fn, fp, order='lex').is_zero_dimensional"
   ]
  },
  {
   "cell_type": "code",
   "execution_count": null,
   "metadata": {},
   "outputs": [
    {
     "data": {
      "text/plain": [
       "((n + p)*(n*spec - tn)/n, -tn, -fp + n - tn, -fn + p - tp)"
      ]
     },
     "execution_count": 77,
     "metadata": {},
     "output_type": "execute_result"
    }
   ],
   "source": [
    "spec_eq_new, npv_eq_new, n_eq_new, p_eq_new"
   ]
  },
  {
   "cell_type": "code",
   "execution_count": null,
   "metadata": {},
   "outputs": [
    {
     "data": {
      "text/latex": [
       "$\\displaystyle \\operatorname{GroebnerBasis}\\left(\\left( - acc n - acc p + tp, \\  tn, \\  acc n + acc p + fn - p, \\  fp - n\\right), \\left( tp, \\  tn, \\  fn, \\  fp\\right)\\right)$"
      ],
      "text/plain": [
       "GroebnerBasis([-acc*n - acc*p + tp, tn, acc*n + acc*p + fn - p, fp - n], tp, tn, fn, fp, domain='ZZ[p,n,acc]', order='lex')"
      ]
     },
     "execution_count": 78,
     "metadata": {},
     "output_type": "execute_result"
    }
   ],
   "source": [
    "sympy.GroebnerBasis([acc_eq_new, npv_eq_new, n_eq_new, p_eq_new], tp, tn, fn, fp, order='lex')"
   ]
  },
  {
   "cell_type": "code",
   "execution_count": null,
   "metadata": {},
   "outputs": [
    {
     "data": {
      "text/plain": [
       "[((acc*n*npv - acc*n + acc*npv*p - acc*p + npv*p)/(2*npv - 1),\n",
       "  npv*(acc*n + acc*p - p)/(2*npv - 1),\n",
       "  -(acc*n*npv + acc*npv*p - 2*n*npv + n - npv*p)/(2*npv - 1),\n",
       "  -(npv - 1)*(acc*n + acc*p - p)/(2*npv - 1))]"
      ]
     },
     "execution_count": 79,
     "metadata": {},
     "output_type": "execute_result"
    }
   ],
   "source": [
    "sympy.solve_poly_system([acc_eq, npv_eq, n_eq, p_eq], tp, tn, fp, fn)"
   ]
  },
  {
   "cell_type": "code",
   "execution_count": null,
   "metadata": {},
   "outputs": [],
   "source": []
  }
 ],
 "metadata": {
  "kernelspec": {
   "display_name": "mlscorecheck",
   "language": "python",
   "name": "python3"
  },
  "language_info": {
   "codemirror_mode": {
    "name": "ipython",
    "version": 3
   },
   "file_extension": ".py",
   "mimetype": "text/x-python",
   "name": "python",
   "nbconvert_exporter": "python",
   "pygments_lexer": "ipython3",
   "version": "3.10.0"
  },
  "orig_nbformat": 4
 },
 "nbformat": 4,
 "nbformat_minor": 2
}
