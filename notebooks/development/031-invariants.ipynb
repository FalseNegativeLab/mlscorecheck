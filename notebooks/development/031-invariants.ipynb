{
 "cells": [
  {
   "cell_type": "code",
   "execution_count": 1,
   "metadata": {},
   "outputs": [],
   "source": [
    "from mlscorecheck.individual import solution_specifications"
   ]
  },
  {
   "cell_type": "code",
   "execution_count": 12,
   "metadata": {},
   "outputs": [],
   "source": [
    "non_negatives = set()\n",
    "#non_zeros = set()\n",
    "for key in solution_specifications:\n",
    "    for solution in solution_specifications[key].solutions:\n",
    "        for condition in solution.conditions:\n",
    "            if condition['mode'] == 'non-negative':\n",
    "                non_negatives.add(condition['expression'])\n",
    "            #elif condition['mode'] == 'non-zero':\n",
    "            #    non_zeros.add(condition['expression'])"
   ]
  },
  {
   "cell_type": "code",
   "execution_count": 13,
   "metadata": {},
   "outputs": [
    {
     "data": {
      "text/plain": [
       "{'(((ji**2 + 2*ji + 1)*mcc**2 - 4*ji**2)*n - 4*(ji**2 - ji)*p)*n',\n",
       " '((acc**2 - 2*acc + 1)*dor**2 + acc**2 - 2*(acc**2 - acc)*dor)*n**2 + 2*((acc**2 - 2*acc + 1)*dor**2 + acc**2 - 2*(acc**2 - acc + 1)*dor)*n*p + ((acc**2 - 2*acc + 1)*dor**2 + acc**2 - 2*(acc**2 - acc)*dor)*p**2',\n",
       " '((dor - 1)*mk**2 - 2*(dor + 1)*mk + dor - 1)*(dor - 1)',\n",
       " '((ji**2 + 2*ji + 1)*mk**2 + ji**2 - 2*(ji**2 + ji)*mk)*n**2 + 2*((ji**2 + 2*ji + 1)*mk**2 - (3*ji**2 + 2*ji - 1)*mk - ji)*n*p + ((ji**2 + 2*ji + 1)*mk**2 - 2*(2*ji**2 + ji - 1)*mk + 1)*p**2',\n",
       " '(16*gm**2*n**2*p + 16*gm**2*n*p**2 - ((16*gm**2 + 3)*n**2*p + (16*gm**2 + 3)*n*p**2 + n**3 + p**3)*upm - (8*gm**2*n*p - (n**2 + 2*n*p + p**2)*upm)*sqrt(-(16*gm**2*n*p - (2*(8*gm**2 + 1)*n*p + n**2 + p**2)*upm)/upm))*sqrt(-upm/(16*gm**2*n*p - (2*(8*gm**2 + 1)*n*p + n**2 + p**2)*upm))/upm',\n",
       " '(16*gm**2*n**2*p + 16*gm**2*n*p**2 - ((16*gm**2 + 3)*n**2*p + (16*gm**2 + 3)*n*p**2 + n**3 + p**3)*upm - (8*gm**2*n*p - (n**2 + 2*n*p + p**2)*upm)*sqrt(-(16*gm**2*n*p - (2*(8*gm**2 + 1)*n*p + n**2 + p**2)*upm)/upm))/(upm*sqrt(-(16*gm**2*n*p - (2*(8*gm**2 + 1)*n*p + n**2 + p**2)*upm)/upm))',\n",
       " '(2*(f1n**2 - 3*f1n + 2)*n + (f1n**2 + fm**2 - 2*f1n)*p)*p',\n",
       " '(4*(beta_negative**4 + (beta_negative**2 + 1)*fbn**2 + 2*beta_negative**2 - (beta_negative**4 + 3*beta_negative**2 + 2)*fbn + 1)*n + ((beta_negative**4 + 2*beta_negative**2 + 1)*fm**2 - 4*(beta_negative**2 + 1)*fbn + 4*fbn**2)*p)*p',\n",
       " '(4*gm**2*n*npv - 4*gm**2*n + npv*p)*npv*p',\n",
       " '(4*n*npv**2 - 8*n*npv + (fm**2 + 4*npv**2 - 4*npv)*p + 4*n)*p',\n",
       " '(bacc**2 - 2*bacc + 1)*dor**2 + bacc**2 - (2*bacc**2 - 2*bacc + 1)*dor',\n",
       " '(beta_negative**4 + (beta_negative**4 + 2*beta_negative**2 + 1)*mk**2 + 2*beta_negative**2 - 2*(beta_negative**2 + 1)*fbn + fbn**2 + 2*(beta_negative**4 + 2*beta_negative**2 - (2*beta_negative**4 + 3*beta_negative**2 + 1)*fbn + 1)*mk + 1)*n**2 + 2*((beta_negative**4 + 2*beta_negative**2 + 1)*mk**2 - (beta_negative**2 + 1)*fbn + fbn**2 + (beta_negative**4 + 2*beta_negative**2 - 2*(beta_negative**4 + 2*beta_negative**2 + 1)*fbn + 1)*mk)*n*p - (2*(beta_negative**2 + 1)*fbn*mk - (beta_negative**4 + 2*beta_negative**2 + 1)*mk**2 - fbn**2)*p**2',\n",
       " '(beta_negative**4*fbn*n**2 + 2*(beta_negative**2*fbn - 2*(beta_negative**2 - fbn + 1)*gm**2)*n*p + fbn*p**2)*fbn',\n",
       " '(beta_positive**4*fbp*p**2 + fbp*n**2 + 2*(beta_positive**2*fbp - 2*(beta_positive**2 - fbp + 1)*gm**2)*n*p)*fbp',\n",
       " '(bm**2 - 2*bm + 1)*dor**2 + bm**2 - 2*(bm**2 + 1)*dor + 2*bm + 1',\n",
       " '(dor**2 - 2*dor + 1)*gm**4 - 2*(dor**2 + dor)*gm**2 + dor**2',\n",
       " '(f1n**2 - 4*(3*f1n - 2)*mk + 4*mk**2 - 4*f1n + 4)*n**2 + 2*(f1n**2 - 4*(2*f1n - 1)*mk + 4*mk**2 - 2*f1n)*n*p + (f1n**2 - 4*f1n*mk + 4*mk**2)*p**2',\n",
       " '(f1n*n**2 + 2*(2*(f1n - 2)*gm**2 + f1n)*n*p + f1n*p**2)*f1n',\n",
       " '(f1p**2 - 4*f1p*mk + 4*mk**2)*n**2 + 2*(f1p**2 - 4*(2*f1p - 1)*mk + 4*mk**2 - 2*f1p)*n*p + (f1p**2 - 4*(3*f1p - 2)*mk + 4*mk**2 - 4*f1p + 4)*p**2',\n",
       " '(f1p*n**2 + 2*(2*(f1p - 2)*gm**2 + f1p)*n*p + f1p*p**2)*f1p',\n",
       " '(fm**2 - kappa**2)*n**2 + 2*(fm**2 - kappa)*n*p + (fm**2 + kappa**2 - 2*kappa)*p**2',\n",
       " '(fm**2*p - 4*n*spec + 4*n)*p',\n",
       " '(ji*n**2 - 2*(2*gm**2 - ji)*n*p + ji*p**2)*ji',\n",
       " '(kappa**2 - 4*kappa*mk + 4*mk**2)*n**2 - 2*(kappa**2 + 4*kappa*mk - 4*mk**2)*n*p + (kappa**2 - 4*kappa*mk + 4*mk**2)*p**2',\n",
       " '(mcc**2*n - 4*p*sens**2 + 4*p*sens)*n',\n",
       " '(mcc**2*p - 4*n*spec**2 + 4*n*spec)*p',\n",
       " '(mk*n**2 - 2*(2*bm - mk)*n*p + mk*p**2)*mk',\n",
       " '(mk*n**2 - 2*(4*bacc - mk - 2)*n*p + mk*p**2)*mk',\n",
       " '-((4*beta_positive**2*fbp**2 - (beta_positive**4 + 2*beta_positive**2 + 1)*mcc**2)*n + 4*((beta_positive**4 + beta_positive**2)*fbp**2 - (beta_positive**4 + beta_positive**2)*fbp)*p)*n',\n",
       " '-((acc + 1)*upm - upm**2 - acc)*acc',\n",
       " '-((acc - 1)*n - (fm**2 - acc)*p)*p',\n",
       " '-((acc**2 - acc)*n**2 + (2*acc**2 - mcc**2 - 2*acc + 1)*n*p + (acc**2 - acc)*p**2)*n*p',\n",
       " '-((f1p**2 - mcc**2)*n + 2*(f1p**2 - f1p)*p)*n',\n",
       " '-((fm**2 - mcc**2)*n**2 + (2*fm**2 - mcc**2 - 1)*n*p + (fm**2 - 1)*p**2)*n*p',\n",
       " '-(16*gm**2*n**2*p + 16*gm**2*n*p**2 - ((16*gm**2 + 3)*n**2*p + (16*gm**2 + 3)*n*p**2 + n**3 + p**3)*upm + (8*gm**2*n*p - (n**2 + 2*n*p + p**2)*upm)*sqrt(-(16*gm**2*n*p - (2*(8*gm**2 + 1)*n*p + n**2 + p**2)*upm)/upm))*sqrt(-upm/(16*gm**2*n*p - (2*(8*gm**2 + 1)*n*p + n**2 + p**2)*upm))/upm',\n",
       " '-(16*gm**2*n**2*p + 16*gm**2*n*p**2 - ((16*gm**2 + 3)*n**2*p + (16*gm**2 + 3)*n*p**2 + n**3 + p**3)*upm + (8*gm**2*n*p - (n**2 + 2*n*p + p**2)*upm)*sqrt(-(16*gm**2*n*p - (2*(8*gm**2 + 1)*n*p + n**2 + p**2)*upm)/upm))/(upm*sqrt(-(16*gm**2*n*p - (2*(8*gm**2 + 1)*n*p + n**2 + p**2)*upm)/upm))',\n",
       " '-(16*gm**2*n*p - (2*(8*gm**2 + 1)*n*p + n**2 + p**2)*upm)/upm',\n",
       " '-(2*(beta_positive**2 + 1)*fbp*mk - (beta_positive**4 + 2*beta_positive**2 + 1)*mk**2 - fbp**2)*n**2 + 2*((beta_positive**4 + 2*beta_positive**2 + 1)*mk**2 - (beta_positive**2 + 1)*fbp + fbp**2 + (beta_positive**4 + 2*beta_positive**2 - 2*(beta_positive**4 + 2*beta_positive**2 + 1)*fbp + 1)*mk)*n*p + (beta_positive**4 + (beta_positive**4 + 2*beta_positive**2 + 1)*mk**2 + 2*beta_positive**2 - 2*(beta_positive**2 + 1)*fbp + fbp**2 + 2*(beta_positive**4 + 2*beta_positive**2 - (2*beta_positive**4 + 3*beta_positive**2 + 1)*fbp + 1)*mk + 1)*p**2',\n",
       " '-(2*(f1n**2 - f1n)*n + (f1n**2 - mcc**2)*p)*p',\n",
       " '-(4*((beta_negative**4 + beta_negative**2)*fbn**2 - (beta_negative**4 + beta_negative**2)*fbn)*n + (4*beta_negative**2*fbn**2 - (beta_negative**4 + 2*beta_negative**2 + 1)*mcc**2)*p)*p',\n",
       " '-(4*(2*acc - 1)*mk - 4*mk**2 - 1)*n**2 - 2*(4*(2*acc - 1)*mk - 4*mk**2 + 1)*n*p - (4*(2*acc - 1)*mk - 4*mk**2 - 1)*p**2',\n",
       " '-(4*(dor - 1)*fm**2*n - ((dor**2 - 2*dor + 1)*fm**4 - 2*(dor**2 - dor)*fm**2 + dor**2)*p)*p',\n",
       " '-(4*dor*mcc**2*n**2 + 4*dor*mcc**2*p**2 - ((dor**2 - 2*dor + 1)*mcc**4 - 2*(dor**2 + 2*dor + 1)*mcc**2 + dor**2 - 2*dor + 1)*n*p)*n*p',\n",
       " '-(4*gm**2 - 1)*pt**2 - 2*pt + 1',\n",
       " '-(4*gm**2 - lrp)*lrp',\n",
       " '-(4*gm**2*p - (4*gm**2*p + n)*ppv)*n*ppv',\n",
       " '-4*beta_positive**2*fbp**2 + (beta_positive**4 + 2*beta_positive**2 + 1)*fm**2',\n",
       " '-4*gm**2 + 1',\n",
       " '-4*gm**2*lrn + 1',\n",
       " '-f1p**2 + fm**2',\n",
       " '-kappa**2 + mcc**2',\n",
       " '-upm/(16*gm**2*n*p - (2*(8*gm**2 + 1)*n*p + n**2 + p**2)*upm)',\n",
       " '16*(bm**2 + 2*bm + 1)*n**2*p**2 + (8*(bm + 1)*n**3*p + 2*(8*bm + 7)*n**2*p**2 + 8*(bm + 1)*n*p**3 + n**4 + p**4)*upm**2 - 8*((bm + 1)*n**3*p + 2*(bm**2 + 3*bm + 2)*n**2*p**2 + (bm + 1)*n*p**3)*upm',\n",
       " '16*beta_negative**4*fbn**2*n**2 + 32*beta_negative**2*fbn**2*n*p + 16*fbn**2*p**2 + ((beta_negative**4 + 2*beta_negative**2 + 4*(2*beta_negative**4 + beta_negative**2 - 1)*fbn + 4*fbn**2 + 1)*n**2 + 2*(beta_negative**4 + 2*beta_negative**2 + 4*(beta_negative**4 + beta_negative**2)*fbn + 4*fbn**2 + 1)*n*p + (beta_negative**4 + 2*beta_negative**2 + 4*(beta_negative**2 + 1)*fbn + 4*fbn**2 + 1)*p**2)*upm**2 - 8*((2*beta_negative**4*fbn**2 + (beta_negative**4 + beta_negative**2)*fbn)*n**2 + (4*beta_negative**2*fbn**2 + (beta_negative**4 + 2*beta_negative**2 + 1)*fbn)*n*p + ((beta_negative**2 + 1)*fbn + 2*fbn**2)*p**2)*upm',\n",
       " '16*beta_positive**4*fbp**2*p**2 + 32*beta_positive**2*fbp**2*n*p + 16*fbp**2*n**2 + ((beta_positive**4 + 2*beta_positive**2 + 4*(beta_positive**2 + 1)*fbp + 4*fbp**2 + 1)*n**2 + 2*(beta_positive**4 + 2*beta_positive**2 + 4*(beta_positive**4 + beta_positive**2)*fbp + 4*fbp**2 + 1)*n*p + (beta_positive**4 + 2*beta_positive**2 + 4*(2*beta_positive**4 + beta_positive**2 - 1)*fbp + 4*fbp**2 + 1)*p**2)*upm**2 - 8*(((beta_positive**2 + 1)*fbp + 2*fbp**2)*n**2 + (4*beta_positive**2*fbp**2 + (beta_positive**4 + 2*beta_positive**2 + 1)*fbp)*n*p + (2*beta_positive**4*fbp**2 + (beta_positive**4 + beta_positive**2)*fbp)*p**2)*upm',\n",
       " '16*lrp**2*n**2*p**2 + (lrp**2*p**4 + 2*(3*lrp + 1)*n**3*p + (9*lrp**2 + 4*lrp + 1)*n**2*p**2 + 2*(5*lrp**2 - lrp)*n*p**3 + n**4)*upm**2 - 8*(lrp**2*n*p**3 + lrp*n**3*p + (3*lrp**2 + lrp)*n**2*p**2)*upm',\n",
       " '16*n**2*p**2 + (lrn**2*p**4 - 2*(lrn - 5)*n**3*p + (lrn**2 + 4*lrn + 9)*n**2*p**2 + 2*(lrn**2 + 3*lrn)*n*p**3 + n**4)*upm**2 - 8*((lrn + 3)*n**2*p**2 + lrn*n*p**3 + n**3*p)*upm',\n",
       " '16*n**2*p**2 + (n**4 + 8*n**3*p + 14*n**2*p**2 + 8*n*p**3 + p**4)*upm**2 - 8*(n**3*p + 4*n**2*p**2 + n*p**3)*upm',\n",
       " '16*n**2*p**2*pt**4 - 64*n**2*p**2*pt**3 + 96*n**2*p**2*pt**2 - 64*n**2*p**2*pt + 16*n**2*p**2 + ((n**4 + 8*n**3*p + 14*n**2*p**2 + 8*n*p**3 + p**4)*pt**4 + 9*n**2*p**2 + 10*n*p**3 + p**4 - 4*(3*n**3*p + 11*n**2*p**2 + 9*n*p**3 + p**4)*pt**3 + 2*(3*n**3*p + 29*n**2*p**2 + 29*n*p**3 + 3*p**4)*pt**2 - 4*(9*n**2*p**2 + 10*n*p**3 + p**4)*pt)*upm**2 - 8*((n**3*p + 4*n**2*p**2 + n*p**3)*pt**4 + 3*n**2*p**2 + n*p**3 - 2*(n**3*p + 7*n**2*p**2 + 2*n*p**3)*pt**3 + (n**3*p + 19*n**2*p**2 + 6*n*p**3)*pt**2 - 4*(3*n**2*p**2 + n*p**3)*pt)*upm',\n",
       " '16*n**2*ppv**2 + (4*(n**2 + 2*n*p + p**2)*ppv**2 + n**2 + 2*n*p + p**2 + 4*(n**2 - p**2)*ppv)*upm**2 - 8*(2*n**2*ppv**2 + (n**2 + n*p)*ppv)*upm',\n",
       " '16*n**2*spec**2 + (n**2 + 2*n*p + p**2 + 8*(n**2 + n*p)*spec)*upm**2 - 8*(2*n**2*spec**2 + (n**2 + n*p)*spec)*upm',\n",
       " '16*npv**2*p**2 + (4*n**2*npv**2 - 4*n**2*npv + (4*npv**2 + 4*npv + 1)*p**2 + n**2 + 2*(4*n*npv**2 + n)*p)*upm**2 - 8*(n*npv*p + (2*npv**2 + npv)*p**2)*upm',\n",
       " '16*p**2*sens**2 + (n**2 + 2*n*p + p**2 + 8*(n*p + p**2)*sens)*upm**2 - 8*(2*p**2*sens**2 + (n*p + p**2)*sens)*upm',\n",
       " '2',\n",
       " '2*fm**2*ji + (fm**2 - 4)*ji**2 + fm**2',\n",
       " '4*kappa**2*n**4 + 4*kappa**2*p**4 + 16*kappa*n**3*p + 8*(kappa**2 + 2)*n**2*p**2 + 16*kappa*n*p**3 + ((kappa**2 + 2*kappa + 1)*n**4 + 8*(kappa + 1)*n**3*p - 2*(kappa**2 - 6*kappa - 7)*n**2*p**2 + 8*(kappa + 1)*n*p**3 + (kappa**2 + 2*kappa + 1)*p**4)*upm**2 - 4*((kappa**2 + kappa)*n**4 + 2*(3*kappa + 1)*n**3*p + 2*(kappa**2 + kappa + 4)*n**2*p**2 + 2*(3*kappa + 1)*n*p**3 + (kappa**2 + kappa)*p**4)*upm',\n",
       " '64*bacc**2*n**2*p**2 + (16*bacc*n**3*p + 2*(16*bacc - 1)*n**2*p**2 + 16*bacc*n*p**3 + n**4 + p**4)*upm**2 - 16*(bacc*n**3*p + 2*(2*bacc**2 + bacc)*n**2*p**2 + bacc*n*p**3)*upm',\n",
       " 'acc**2*n**2 + acc**2*p**2 + 2*(acc**2 - 2*gm**2)*n*p',\n",
       " 'bacc**2 - gm**2',\n",
       " 'bm**2 - 4*gm**2 + 2*bm + 1',\n",
       " 'f1n**2*p**2 + ((4*dor**2 - 4*dor + 1)*f1n**2 + 4*dor**2 - 4*(2*dor**2 - dor)*f1n)*n**2 - 2*(2*dor*f1n - f1n**2)*n*p',\n",
       " 'f1p**2*n**2 - 2*(2*dor*f1p - f1p**2)*n*p + ((4*dor**2 - 4*dor + 1)*f1p**2 + 4*dor**2 - 4*(2*dor**2 - dor)*f1p)*p**2',\n",
       " 'fbn**2*p**2 + ((beta_negative**4 + 2*beta_negative**2 + 1)*dor**2 + (beta_negative**4 + (beta_negative**4 + 2*beta_negative**2 + 1)*dor**2 - 2*(beta_negative**4 + beta_negative**2)*dor)*fbn**2 - 2*((beta_negative**4 + 2*beta_negative**2 + 1)*dor**2 - (beta_negative**4 + beta_negative**2)*dor)*fbn)*n**2 - 2*((beta_negative**2 + 1)*dor*fbn - (beta_negative**2 - (beta_negative**2 - 1)*dor)*fbn**2)*n*p',\n",
       " 'fbp**2*n**2 - 2*((beta_positive**2 + 1)*dor*fbp - (beta_positive**2 - (beta_positive**2 - 1)*dor)*fbp**2)*n*p + ((beta_positive**4 + 2*beta_positive**2 + 1)*dor**2 + (beta_positive**4 + (beta_positive**4 + 2*beta_positive**2 + 1)*dor**2 - 2*(beta_positive**4 + beta_positive**2)*dor)*fbp**2 - 2*((beta_positive**4 + 2*beta_positive**2 + 1)*dor**2 - (beta_positive**4 + beta_positive**2)*dor)*fbp)*p**2',\n",
       " 'fm**2*lrn**2*p**2 + fm**2*n**2 + 2*((fm**2 - 2)*lrn + 2*lrn**2)*n*p',\n",
       " 'fm**2*n**2 + fm**2*p**2 + 2*(fm**2 - 2*bm)*n*p',\n",
       " 'fm**2*n**2 + fm**2*p**2 + 2*(fm**2 - 4*bacc + 2)*n*p',\n",
       " 'ji**2*n**2 - 2*((dor - 1)*ji**2 + dor*ji)*n*p + ((dor**2 - 2*dor + 1)*ji**2 + dor**2 - 2*(dor**2 - dor)*ji)*p**2',\n",
       " 'kappa**2*n**4 + kappa**2*p**4 + 4*(gm**2*kappa**2 - (2*gm**2 - 1)*kappa)*n**3*p + 2*(8*gm**2*kappa - (4*gm**2 - 1)*kappa**2 - 8*gm**2 + 2)*n**2*p**2 + 4*(gm**2*kappa**2 - (2*gm**2 - 1)*kappa)*n*p**3',\n",
       " 'kappa**2*n**4 - 4*(dor - 1)*kappa*n**3*p - 4*(dor - 1)*kappa*n*p**3 + kappa**2*p**4 + 2*((2*dor**2 - 4*dor + 1)*kappa**2 + 2*dor**2 - 4*(dor**2 - dor)*kappa - 4*dor + 2)*n**2*p**2',\n",
       " 'mcc**2*n**2 + mcc**2*p**2 - 2*(2*bm**2 - mcc**2)*n*p',\n",
       " 'mcc**2*n**2 + mcc**2*p**2 - 2*(8*bacc**2 - mcc**2 - 8*bacc + 2)*n*p',\n",
       " 'mk**2*n**2 + 2*(mk**2 + mk)*n*p + (mk**2 + 2*mk + 1)*p**2 - 4*(mk*n*p + mk*p**2)*sens',\n",
       " 'mk**2*p**2 + (mk**2 + 2*mk + 1)*n**2 + 2*(mk**2 + mk)*n*p - 4*(mk*n**2 + mk*n*p)*spec'}"
      ]
     },
     "execution_count": 13,
     "metadata": {},
     "output_type": "execute_result"
    }
   ],
   "source": [
    "non_negatives"
   ]
  },
  {
   "cell_type": "code",
   "execution_count": null,
   "metadata": {},
   "outputs": [],
   "source": []
  }
 ],
 "metadata": {
  "kernelspec": {
   "display_name": "mlscorecheck",
   "language": "python",
   "name": "python3"
  },
  "language_info": {
   "codemirror_mode": {
    "name": "ipython",
    "version": 3
   },
   "file_extension": ".py",
   "mimetype": "text/x-python",
   "name": "python",
   "nbconvert_exporter": "python",
   "pygments_lexer": "ipython3",
   "version": "3.10.0"
  }
 },
 "nbformat": 4,
 "nbformat_minor": 2
}
