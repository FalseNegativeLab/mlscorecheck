{
 "cells": [
  {
   "cell_type": "code",
   "execution_count": 13,
   "metadata": {},
   "outputs": [],
   "source": [
    "import pickle\n",
    "\n",
    "from mlscorecheck.utils import ProblemSolver, generate_problem, generate_problem_tp0\n",
    "from mlscorecheck.core import score_function_set, sqrt\n",
    "from mlscorecheck.core import Interval, union, reduce_solutions, collect_with_respect_to_vars\n",
    "\n",
    "import sympy"
   ]
  },
  {
   "cell_type": "code",
   "execution_count": 14,
   "metadata": {},
   "outputs": [],
   "source": [
    "scores = score_function_set()"
   ]
  },
  {
   "cell_type": "code",
   "execution_count": 15,
   "metadata": {},
   "outputs": [],
   "source": [
    "score0 = 'acc'\n",
    "score1 = 'npv'\n",
    "\n",
    "score0_fun = scores[score0]\n",
    "score1_fun = scores[score1]"
   ]
  },
  {
   "cell_type": "code",
   "execution_count": 16,
   "metadata": {},
   "outputs": [],
   "source": [
    "tp = sympy.Symbol('tp')\n",
    "tn = sympy.Symbol('tn')\n",
    "fp = sympy.Symbol('fp')\n",
    "fn = sympy.Symbol('fn')\n",
    "p = sympy.Symbol('p')\n",
    "n = sympy.Symbol('n')\n",
    "\n",
    "symbols = {'tp': tp,\n",
    "            'tn': tn,\n",
    "            'fp': fp,\n",
    "            'fn': fn,\n",
    "            'p': p,\n",
    "            'n': n}\n",
    "\n",
    "score0_sym = sympy.Symbol(score0)\n",
    "score1_sym = sympy.Symbol(score1)"
   ]
  },
  {
   "cell_type": "code",
   "execution_count": 17,
   "metadata": {},
   "outputs": [],
   "source": [
    "score0_args = score0_fun.__code__.co_varnames[:score0_fun.__code__.co_kwonlyargcount]\n",
    "score1_args = score1_fun.__code__.co_varnames[:score1_fun.__code__.co_kwonlyargcount]"
   ]
  },
  {
   "cell_type": "code",
   "execution_count": 18,
   "metadata": {},
   "outputs": [
    {
     "data": {
      "text/plain": [
       "(('tp', 'tn', 'p', 'n'), ('tn', 'fn'))"
      ]
     },
     "execution_count": 18,
     "metadata": {},
     "output_type": "execute_result"
    }
   ],
   "source": [
    "score0_args, score1_args"
   ]
  },
  {
   "cell_type": "code",
   "execution_count": 22,
   "metadata": {},
   "outputs": [],
   "source": [
    "score0_exp = score0_fun(**{key: val for key, val in symbols.items() if key in score0_args})\n",
    "score1_exp = score1_fun(**{key: val for key, val in symbols.items() if key in score1_args})\n",
    "score0_eq = score0_sym - score0_exp\n",
    "score1_eq = score1_sym - score1_exp\n",
    "n_eq = n - tn - fp\n",
    "p_eq = p - tp - fn"
   ]
  },
  {
   "cell_type": "code",
   "execution_count": 30,
   "metadata": {},
   "outputs": [],
   "source": [
    "score1_eq2 = score1_sym*(symbols['tn'] + symbols['fn']) - symbols['tn']"
   ]
  },
  {
   "cell_type": "code",
   "execution_count": 23,
   "metadata": {},
   "outputs": [
    {
     "data": {
      "text/plain": [
       "(acc - (tn + tp)/(n + p), npv - tn/(fn + tn))"
      ]
     },
     "execution_count": 23,
     "metadata": {},
     "output_type": "execute_result"
    }
   ],
   "source": [
    "score0_eq, score1_eq"
   ]
  },
  {
   "cell_type": "code",
   "execution_count": 24,
   "metadata": {},
   "outputs": [
    {
     "data": {
      "text/plain": [
       "((tn + tp)/(n + p), tn/(fn + tn))"
      ]
     },
     "execution_count": 24,
     "metadata": {},
     "output_type": "execute_result"
    }
   ],
   "source": [
    "score0_exp, score1_exp"
   ]
  },
  {
   "cell_type": "code",
   "execution_count": 25,
   "metadata": {},
   "outputs": [],
   "source": [
    "def transform_to_polynom(expression):\n",
    "    _, denom = expression.as_numer_denom()\n",
    "    return sympy.simplify(expression * denom)"
   ]
  },
  {
   "cell_type": "code",
   "execution_count": 26,
   "metadata": {},
   "outputs": [],
   "source": [
    "def special_cases(equations, variables, order='grlex'):\n",
    "    \n",
    "    peq = [transform_to_polynom(eq) for eq in equations]\n",
    "    gb = sympy.GroebnerBasis(peq, *variables, order=order)\n",
    "    if not gb.is_zero_dimensional:\n",
    "        return None\n",
    "    \n",
    "    edge_cases = {}\n",
    "    \n",
    "    i = 0\n",
    "    \n",
    "    for basis in gb:\n",
    "        terms = collect_with_respect_to_vars(basis, variables)\n",
    "        for term, coeff in terms.items():\n",
    "            print(coeff)\n",
    "            results0 = sympy.solve(coeff, score0_sym, dict=True)\n",
    "            results1 = sympy.solve(coeff, score1_sym, dict=True)\n",
    "            \n",
    "            if len(str(results0)) < len(str(results1)):\n",
    "                results = results0\n",
    "            else:\n",
    "                results = results1\n",
    "            \n",
    "            print(results)\n",
    "            for res in results:\n",
    "                key = str(res)\n",
    "                if key in edge_cases:\n",
    "                    continue\n",
    "                edge_cases[key] = res\n",
    "            i = i + 1\n",
    "    print(edge_cases)\n",
    "    \n",
    "    #return edge_cases\n",
    "    \n",
    "    for key, val in edge_cases.items():\n",
    "        subs = val\n",
    "        ec_equations = [eq.subs(subs) for eq in equations]\n",
    "        print(val)\n",
    "        print(ec_equations)\n",
    "        print(sympy.solve(ec_equations, tp, tn, fp, fn, check=False, dict=True))\n",
    "        \n",
    "        \"\"\"\n",
    "        ec_gb = sympy.GroebnerBasis(ec_equations, *variables, order=order)\n",
    "        print(ec_gb)\n",
    "        zd = ec_gb.is_zero_dimensional\n",
    "        print(zd)\n",
    "        if zd:\n",
    "            print(sympy.solve(ec_equations, *variables, dict=True))\n",
    "        \"\"\"\n",
    "    \n",
    "        "
   ]
  },
  {
   "cell_type": "code",
   "execution_count": 27,
   "metadata": {},
   "outputs": [
    {
     "data": {
      "text/latex": [
       "$\\displaystyle npv - \\frac{tn}{fn + tn}$"
      ],
      "text/plain": [
       "npv - tn/(fn + tn)"
      ]
     },
     "execution_count": 27,
     "metadata": {},
     "output_type": "execute_result"
    }
   ],
   "source": [
    "score1_eq"
   ]
  },
  {
   "cell_type": "code",
   "execution_count": 31,
   "metadata": {},
   "outputs": [
    {
     "data": {
      "text/latex": [
       "$\\displaystyle \\operatorname{GroebnerBasis}\\left(\\left( tp + \\frac{- acc n npv + acc n - acc npv p + acc p - npv p}{2 npv - 1}, \\  tn + \\frac{- acc n npv - acc npv p + npv p}{2 npv - 1}, \\  fp + \\frac{acc n npv + acc npv p - 2 n npv + n - npv p}{2 npv - 1}, \\  fn + \\frac{acc n npv - acc n + acc npv p - acc p - npv p + p}{2 npv - 1}\\right), \\left( tp, \\  tn, \\  fp, \\  fn\\right)\\right)$"
      ],
      "text/plain": [
       "GroebnerBasis([tp + (-acc*n*npv + acc*n - acc*npv*p + acc*p - npv*p)/(2*npv - 1), tn + (-acc*n*npv - acc*npv*p + npv*p)/(2*npv - 1), fp + (acc*n*npv + acc*npv*p - 2*n*npv + n - npv*p)/(2*npv - 1), fn + (acc*n*npv - acc*n + acc*npv*p - acc*p - npv*p + p)/(2*npv - 1)], tp, tn, fp, fn, domain='ZZ(p,n,acc,npv)', order='lex')"
      ]
     },
     "execution_count": 31,
     "metadata": {},
     "output_type": "execute_result"
    }
   ],
   "source": [
    "sympy.GroebnerBasis([score0_eq, score1_eq2, n_eq, p_eq], [tp, tn, fp, fn])"
   ]
  },
  {
   "cell_type": "code",
   "execution_count": 28,
   "metadata": {},
   "outputs": [
    {
     "name": "stdout",
     "output_type": "stream",
     "text": [
      "2*npv - 1\n",
      "[]\n",
      "-acc*n*npv + acc*n - acc*npv*p + acc*p - npv*p\n",
      "[{acc: -npv*p/(n*npv - n + npv*p - p)}]\n",
      "2*npv - 1\n",
      "[]\n",
      "-acc*n*npv - acc*npv*p + npv*p\n",
      "[{npv: 0}]\n",
      "2*npv - 1\n",
      "[]\n",
      "acc*n*npv + acc*npv*p - 2*n*npv + n - npv*p\n",
      "[{npv: -n/(acc*n + acc*p - 2*n - p)}]\n",
      "2*npv - 1\n",
      "[]\n",
      "acc*n*npv - acc*n + acc*npv*p - acc*p - npv*p + p\n",
      "[{npv: 1}]\n",
      "{'{acc: -npv*p/(n*npv - n + npv*p - p)}': {acc: -npv*p/(n*npv - n + npv*p - p)}, '{npv: 0}': {npv: 0}, '{npv: -n/(acc*n + acc*p - 2*n - p)}': {npv: -n/(acc*n + acc*p - 2*n - p)}, '{npv: 1}': {npv: 1}}\n",
      "{acc: -npv*p/(n*npv - n + npv*p - p)}\n",
      "[-npv*p/(n*npv - n + npv*p - p) - (tn + tp)/(n + p), npv - tn/(fn + tn), -fp + n - tn, -fn + p - tp]\n",
      "[{fn: p, fp: (n*npv - n + npv*p)/(npv - 1), tn: -npv*p/(npv - 1), tp: 0}]\n",
      "{npv: 0}\n",
      "[acc - (tn + tp)/(n + p), -tn/(fn + tn), -fp + n - tn, -fn + p - tp]\n",
      "[{fn: -acc*n - acc*p + p, fp: n, tn: 0, tp: acc*n + acc*p}]\n",
      "{npv: -n/(acc*n + acc*p - 2*n - p)}\n",
      "[acc - (tn + tp)/(n + p), -n/(acc*n + acc*p - 2*n - p) - tn/(fn + tn), -fp + n - tn, -fn + p - tp]\n",
      "[{fn: -acc*n - acc*p + n + p, fp: 0, tn: n, tp: acc*n + acc*p - n}]\n",
      "{npv: 1}\n",
      "[acc - (tn + tp)/(n + p), -tn/(fn + tn) + 1, -fp + n - tn, -fn + p - tp]\n",
      "[{fn: 0, fp: -acc*n - acc*p + n + p, tn: acc*n + acc*p - p, tp: p}]\n"
     ]
    }
   ],
   "source": [
    "edge_cases = special_cases([score0_eq, score1_eq, n_eq, p_eq], [tp, tn, fp, fn])"
   ]
  },
  {
   "cell_type": "code",
   "execution_count": 151,
   "metadata": {},
   "outputs": [
    {
     "name": "stdout",
     "output_type": "stream",
     "text": [
      "{dor: 0} {dor: 0}\n",
      "{n: -p/mcc**2} {n: -p/mcc**2}\n",
      "{p: 0} {p: 0}\n",
      "{dor: 1} {dor: 1}\n",
      "{n: -mcc**2*p} {n: -mcc**2*p}\n",
      "{dor: mcc*(mcc*n**2 - mcc*p**2 - sqrt(mcc**2*n**4 + 2*mcc**2*n**2*p**2 + 4*mcc**2*n*p**3 + mcc**2*p**4 - 4*n**2*p**2 - 4*n*p**3))/(2*n*p*(mcc**2 - 1))} {dor: mcc*(mcc*n**2 - mcc*p**2 - sqrt(mcc**2*n**4 + 2*mcc**2*n**2*p**2 + 4*mcc**2*n*p**3 + mcc**2*p**4 - 4*n**2*p**2 - 4*n*p**3))/(2*n*p*(mcc**2 - 1))}\n",
      "{dor: mcc*(mcc*n**2 - mcc*p**2 + sqrt(mcc**2*n**4 + 2*mcc**2*n**2*p**2 + 4*mcc**2*n*p**3 + mcc**2*p**4 - 4*n**2*p**2 - 4*n*p**3))/(2*n*p*(mcc**2 - 1))} {dor: mcc*(mcc*n**2 - mcc*p**2 + sqrt(mcc**2*n**4 + 2*mcc**2*n**2*p**2 + 4*mcc**2*n*p**3 + mcc**2*p**4 - 4*n**2*p**2 - 4*n*p**3))/(2*n*p*(mcc**2 - 1))}\n",
      "{n: mcc**2*p*(dor - 2)/(dor*mcc**2 - 2*dor + mcc**2 + 1)} {n: mcc**2*p*(dor - 2)/(dor*mcc**2 - 2*dor + mcc**2 + 1)}\n",
      "{mcc: -sqrt(-p/n)} {mcc: -sqrt(-p/n)}\n",
      "{mcc: sqrt(-p/n)} {mcc: sqrt(-p/n)}\n",
      "{n: 0} {n: 0}\n",
      "{dor: mcc**2*(n + p)/(mcc**2*n - mcc**2*p + 2*p)} {dor: mcc**2*(n + p)/(mcc**2*n - mcc**2*p + 2*p)}\n",
      "{p: -n/mcc**2} {p: -n/mcc**2}\n",
      "{dor: mcc**2*(n + p)/(-mcc**2*n + mcc**2*p + 2*n)} {dor: mcc**2*(n + p)/(-mcc**2*n + mcc**2*p + 2*n)}\n",
      "{dor: -1} {dor: -1}\n",
      "{mcc: -1} {mcc: -1}\n",
      "{mcc: 1} {mcc: 1}\n"
     ]
    }
   ],
   "source": [
    "for key, val in edge_cases.items():\n",
    "    print(key, val)"
   ]
  },
  {
   "cell_type": "code",
   "execution_count": 114,
   "metadata": {},
   "outputs": [],
   "source": [
    "dor = score0_sym\n",
    "mcc = score1_sym"
   ]
  },
  {
   "cell_type": "code",
   "execution_count": 119,
   "metadata": {},
   "outputs": [
    {
     "data": {
      "text/plain": [
       "{dor: mcc*(mcc*n**2 - mcc*p**2 - sqrt(mcc**2*n**4 + 2*mcc**2*n**2*p**2 + 4*mcc**2*n*p**3 + mcc**2*p**4 - 4*n**2*p**2 - 4*n*p**3))/(2*n*p*(mcc**2 - 1))}"
      ]
     },
     "execution_count": 119,
     "metadata": {},
     "output_type": "execute_result"
    }
   ],
   "source": [
    "edge_cases[list(edge_cases.keys())[5]]"
   ]
  },
  {
   "cell_type": "code",
   "execution_count": 120,
   "metadata": {},
   "outputs": [],
   "source": [
    "tmp = sympy.simplify((edge_cases[list(edge_cases.keys())[5]][score0_sym] - score0_sym) * (2*n*p*(mcc**2 - 1)))"
   ]
  },
  {
   "cell_type": "code",
   "execution_count": 124,
   "metadata": {},
   "outputs": [
    {
     "name": "stdout",
     "output_type": "stream",
     "text": [
      "-2*dor*mcc**2*n*p + 2*dor*n*p + mcc**2*n**2 - mcc**2*p**2 - mcc*sqrt(mcc**2*n**4 + 2*mcc**2*n**2*p**2 + 4*mcc**2*n*p**3 + mcc**2*p**4 - 4*n**2*p**2 - 4*n*p**3)\n"
     ]
    }
   ],
   "source": [
    "print(sympy.expand(tmp))"
   ]
  },
  {
   "cell_type": "code",
   "execution_count": 126,
   "metadata": {},
   "outputs": [],
   "source": [
    "tmp2 = ((-2*dor*mcc**2*n*p + 2*dor*n*p + mcc**2*n**2 - mcc**2*p**2) / mcc)**2 - mcc**2*n**4 + 2*mcc**2*n**2*p**2 + 4*mcc**2*n*p**3 + mcc**2*p**4 - 4*n**2*p**2 - 4*n*p**3"
   ]
  },
  {
   "cell_type": "code",
   "execution_count": 128,
   "metadata": {},
   "outputs": [],
   "source": [
    "tmp3 = tmp2.subs({dor: (tn*tp/(n - tn)/(p - tp))})"
   ]
  },
  {
   "cell_type": "code",
   "execution_count": 134,
   "metadata": {},
   "outputs": [
    {
     "data": {
      "text/latex": [
       "$\\displaystyle - mcc^{2} n^{4} + 2 mcc^{2} n^{2} p^{2} + 4 mcc^{2} n p^{3} + mcc^{2} p^{4} - 4 n^{2} p^{2} - 4 n p^{3} + \\frac{\\left(mcc^{2} n^{2} - \\frac{2 mcc^{2} n p tn tp}{\\left(n - tn\\right) \\left(p - tp\\right)} - mcc^{2} p^{2} + \\frac{2 n p tn tp}{\\left(n - tn\\right) \\left(p - tp\\right)}\\right)^{2}}{mcc^{2}}$"
      ],
      "text/plain": [
       "-mcc**2*n**4 + 2*mcc**2*n**2*p**2 + 4*mcc**2*n*p**3 + mcc**2*p**4 - 4*n**2*p**2 - 4*n*p**3 + (mcc**2*n**2 - 2*mcc**2*n*p*tn*tp/((n - tn)*(p - tp)) - mcc**2*p**2 + 2*n*p*tn*tp/((n - tn)*(p - tp)))**2/mcc**2"
      ]
     },
     "execution_count": 134,
     "metadata": {},
     "output_type": "execute_result"
    }
   ],
   "source": [
    "tmp3"
   ]
  },
  {
   "cell_type": "code",
   "execution_count": 140,
   "metadata": {},
   "outputs": [],
   "source": [
    "num, denom = sympy.simplify(sympy.expand(tmp3)).as_numer_denom()"
   ]
  },
  {
   "cell_type": "code",
   "execution_count": 142,
   "metadata": {},
   "outputs": [],
   "source": [
    "tmp4 = sympy.simplify(sympy.simplify(sympy.expand(tmp3)) * denom)"
   ]
  },
  {
   "cell_type": "code",
   "execution_count": 145,
   "metadata": {},
   "outputs": [],
   "source": [
    "tmp5 = sympy.expand(tmp4)"
   ]
  },
  {
   "cell_type": "code",
   "execution_count": 149,
   "metadata": {},
   "outputs": [
    {
     "data": {
      "text/latex": [
       "$\\displaystyle - 4 mcc^{4} n^{5} p^{3} tn tp + 8 mcc^{4} n^{5} p^{2} tn tp^{2} - 4 mcc^{4} n^{5} p tn tp^{3} + 4 mcc^{4} n^{4} p^{6} - 12 mcc^{4} n^{4} p^{5} tp + 12 mcc^{4} n^{4} p^{4} tp^{2} + 8 mcc^{4} n^{4} p^{3} tn^{2} tp - 4 mcc^{4} n^{4} p^{3} tp^{3} - 16 mcc^{4} n^{4} p^{2} tn^{2} tp^{2} + 8 mcc^{4} n^{4} p tn^{2} tp^{3} + 2 mcc^{4} n^{3} p^{7} - 12 mcc^{4} n^{3} p^{6} tn - 6 mcc^{4} n^{3} p^{6} tp + 40 mcc^{4} n^{3} p^{5} tn tp + 6 mcc^{4} n^{3} p^{5} tp^{2} - 44 mcc^{4} n^{3} p^{4} tn tp^{2} - 2 mcc^{4} n^{3} p^{4} tp^{3} - 4 mcc^{4} n^{3} p^{3} tn^{3} tp + 4 mcc^{4} n^{3} p^{3} tn^{2} tp^{2} + 16 mcc^{4} n^{3} p^{3} tn tp^{3} + 8 mcc^{4} n^{3} p^{2} tn^{3} tp^{2} - 4 mcc^{4} n^{3} p^{2} tn^{2} tp^{3} - 4 mcc^{4} n^{3} p tn^{3} tp^{3} - 6 mcc^{4} n^{2} p^{7} tn + 12 mcc^{4} n^{2} p^{6} tn^{2} + 18 mcc^{4} n^{2} p^{6} tn tp - 44 mcc^{4} n^{2} p^{5} tn^{2} tp - 18 mcc^{4} n^{2} p^{5} tn tp^{2} + 52 mcc^{4} n^{2} p^{4} tn^{2} tp^{2} + 6 mcc^{4} n^{2} p^{4} tn tp^{3} - 4 mcc^{4} n^{2} p^{3} tn^{3} tp^{2} - 20 mcc^{4} n^{2} p^{3} tn^{2} tp^{3} + 4 mcc^{4} n^{2} p^{2} tn^{3} tp^{3} + 6 mcc^{4} n p^{7} tn^{2} - 4 mcc^{4} n p^{6} tn^{3} - 18 mcc^{4} n p^{6} tn^{2} tp + 16 mcc^{4} n p^{5} tn^{3} tp + 18 mcc^{4} n p^{5} tn^{2} tp^{2} - 20 mcc^{4} n p^{4} tn^{3} tp^{2} - 6 mcc^{4} n p^{4} tn^{2} tp^{3} + 8 mcc^{4} n p^{3} tn^{3} tp^{3} - 2 mcc^{4} p^{7} tn^{3} + 6 mcc^{4} p^{6} tn^{3} tp - 6 mcc^{4} p^{5} tn^{3} tp^{2} + 2 mcc^{4} p^{4} tn^{3} tp^{3} - 4 mcc^{2} n^{5} p^{5} + 12 mcc^{2} n^{5} p^{4} tp + 4 mcc^{2} n^{5} p^{3} tn tp - 12 mcc^{2} n^{5} p^{3} tp^{2} - 8 mcc^{2} n^{5} p^{2} tn tp^{2} + 4 mcc^{2} n^{5} p^{2} tp^{3} + 4 mcc^{2} n^{5} p tn tp^{3} - 4 mcc^{2} n^{4} p^{6} + 12 mcc^{2} n^{4} p^{5} tn + 12 mcc^{2} n^{4} p^{5} tp - 36 mcc^{2} n^{4} p^{4} tn tp - 12 mcc^{2} n^{4} p^{4} tp^{2} - 8 mcc^{2} n^{4} p^{3} tn^{2} tp + 36 mcc^{2} n^{4} p^{3} tn tp^{2} + 4 mcc^{2} n^{4} p^{3} tp^{3} + 16 mcc^{2} n^{4} p^{2} tn^{2} tp^{2} - 12 mcc^{2} n^{4} p^{2} tn tp^{3} - 8 mcc^{2} n^{4} p tn^{2} tp^{3} + 12 mcc^{2} n^{3} p^{6} tn - 12 mcc^{2} n^{3} p^{5} tn^{2} - 40 mcc^{2} n^{3} p^{5} tn tp + 36 mcc^{2} n^{3} p^{4} tn^{2} tp + 44 mcc^{2} n^{3} p^{4} tn tp^{2} + 4 mcc^{2} n^{3} p^{3} tn^{3} tp - 44 mcc^{2} n^{3} p^{3} tn^{2} tp^{2} - 16 mcc^{2} n^{3} p^{3} tn tp^{3} - 8 mcc^{2} n^{3} p^{2} tn^{3} tp^{2} + 20 mcc^{2} n^{3} p^{2} tn^{2} tp^{3} + 4 mcc^{2} n^{3} p tn^{3} tp^{3} - 12 mcc^{2} n^{2} p^{6} tn^{2} + 4 mcc^{2} n^{2} p^{5} tn^{3} + 44 mcc^{2} n^{2} p^{5} tn^{2} tp - 12 mcc^{2} n^{2} p^{4} tn^{3} tp - 52 mcc^{2} n^{2} p^{4} tn^{2} tp^{2} + 20 mcc^{2} n^{2} p^{3} tn^{3} tp^{2} + 20 mcc^{2} n^{2} p^{3} tn^{2} tp^{3} - 12 mcc^{2} n^{2} p^{2} tn^{3} tp^{3} + 4 mcc^{2} n p^{6} tn^{3} - 16 mcc^{2} n p^{5} tn^{3} tp + 20 mcc^{2} n p^{4} tn^{3} tp^{2} - 8 mcc^{2} n p^{3} tn^{3} tp^{3} + 4 n^{3} p^{3} tn^{2} tp^{2} - 4 n^{3} p^{2} tn^{2} tp^{3} - 4 n^{2} p^{3} tn^{3} tp^{2} + 4 n^{2} p^{2} tn^{3} tp^{3}$"
      ],
      "text/plain": [
       "-4*mcc**4*n**5*p**3*tn*tp + 8*mcc**4*n**5*p**2*tn*tp**2 - 4*mcc**4*n**5*p*tn*tp**3 + 4*mcc**4*n**4*p**6 - 12*mcc**4*n**4*p**5*tp + 12*mcc**4*n**4*p**4*tp**2 + 8*mcc**4*n**4*p**3*tn**2*tp - 4*mcc**4*n**4*p**3*tp**3 - 16*mcc**4*n**4*p**2*tn**2*tp**2 + 8*mcc**4*n**4*p*tn**2*tp**3 + 2*mcc**4*n**3*p**7 - 12*mcc**4*n**3*p**6*tn - 6*mcc**4*n**3*p**6*tp + 40*mcc**4*n**3*p**5*tn*tp + 6*mcc**4*n**3*p**5*tp**2 - 44*mcc**4*n**3*p**4*tn*tp**2 - 2*mcc**4*n**3*p**4*tp**3 - 4*mcc**4*n**3*p**3*tn**3*tp + 4*mcc**4*n**3*p**3*tn**2*tp**2 + 16*mcc**4*n**3*p**3*tn*tp**3 + 8*mcc**4*n**3*p**2*tn**3*tp**2 - 4*mcc**4*n**3*p**2*tn**2*tp**3 - 4*mcc**4*n**3*p*tn**3*tp**3 - 6*mcc**4*n**2*p**7*tn + 12*mcc**4*n**2*p**6*tn**2 + 18*mcc**4*n**2*p**6*tn*tp - 44*mcc**4*n**2*p**5*tn**2*tp - 18*mcc**4*n**2*p**5*tn*tp**2 + 52*mcc**4*n**2*p**4*tn**2*tp**2 + 6*mcc**4*n**2*p**4*tn*tp**3 - 4*mcc**4*n**2*p**3*tn**3*tp**2 - 20*mcc**4*n**2*p**3*tn**2*tp**3 + 4*mcc**4*n**2*p**2*tn**3*tp**3 + 6*mcc**4*n*p**7*tn**2 - 4*mcc**4*n*p**6*tn**3 - 18*mcc**4*n*p**6*tn**2*tp + 16*mcc**4*n*p**5*tn**3*tp + 18*mcc**4*n*p**5*tn**2*tp**2 - 20*mcc**4*n*p**4*tn**3*tp**2 - 6*mcc**4*n*p**4*tn**2*tp**3 + 8*mcc**4*n*p**3*tn**3*tp**3 - 2*mcc**4*p**7*tn**3 + 6*mcc**4*p**6*tn**3*tp - 6*mcc**4*p**5*tn**3*tp**2 + 2*mcc**4*p**4*tn**3*tp**3 - 4*mcc**2*n**5*p**5 + 12*mcc**2*n**5*p**4*tp + 4*mcc**2*n**5*p**3*tn*tp - 12*mcc**2*n**5*p**3*tp**2 - 8*mcc**2*n**5*p**2*tn*tp**2 + 4*mcc**2*n**5*p**2*tp**3 + 4*mcc**2*n**5*p*tn*tp**3 - 4*mcc**2*n**4*p**6 + 12*mcc**2*n**4*p**5*tn + 12*mcc**2*n**4*p**5*tp - 36*mcc**2*n**4*p**4*tn*tp - 12*mcc**2*n**4*p**4*tp**2 - 8*mcc**2*n**4*p**3*tn**2*tp + 36*mcc**2*n**4*p**3*tn*tp**2 + 4*mcc**2*n**4*p**3*tp**3 + 16*mcc**2*n**4*p**2*tn**2*tp**2 - 12*mcc**2*n**4*p**2*tn*tp**3 - 8*mcc**2*n**4*p*tn**2*tp**3 + 12*mcc**2*n**3*p**6*tn - 12*mcc**2*n**3*p**5*tn**2 - 40*mcc**2*n**3*p**5*tn*tp + 36*mcc**2*n**3*p**4*tn**2*tp + 44*mcc**2*n**3*p**4*tn*tp**2 + 4*mcc**2*n**3*p**3*tn**3*tp - 44*mcc**2*n**3*p**3*tn**2*tp**2 - 16*mcc**2*n**3*p**3*tn*tp**3 - 8*mcc**2*n**3*p**2*tn**3*tp**2 + 20*mcc**2*n**3*p**2*tn**2*tp**3 + 4*mcc**2*n**3*p*tn**3*tp**3 - 12*mcc**2*n**2*p**6*tn**2 + 4*mcc**2*n**2*p**5*tn**3 + 44*mcc**2*n**2*p**5*tn**2*tp - 12*mcc**2*n**2*p**4*tn**3*tp - 52*mcc**2*n**2*p**4*tn**2*tp**2 + 20*mcc**2*n**2*p**3*tn**3*tp**2 + 20*mcc**2*n**2*p**3*tn**2*tp**3 - 12*mcc**2*n**2*p**2*tn**3*tp**3 + 4*mcc**2*n*p**6*tn**3 - 16*mcc**2*n*p**5*tn**3*tp + 20*mcc**2*n*p**4*tn**3*tp**2 - 8*mcc**2*n*p**3*tn**3*tp**3 + 4*n**3*p**3*tn**2*tp**2 - 4*n**3*p**2*tn**2*tp**3 - 4*n**2*p**3*tn**3*tp**2 + 4*n**2*p**2*tn**3*tp**3"
      ]
     },
     "execution_count": 149,
     "metadata": {},
     "output_type": "execute_result"
    }
   ],
   "source": [
    "tmp5"
   ]
  },
  {
   "cell_type": "code",
   "execution_count": 152,
   "metadata": {},
   "outputs": [
    {
     "ename": "KeyboardInterrupt",
     "evalue": "",
     "output_type": "error",
     "traceback": [
      "\u001b[0;31m---------------------------------------------------------------------------\u001b[0m",
      "\u001b[0;31mKeyboardInterrupt\u001b[0m                         Traceback (most recent call last)",
      "Cell \u001b[0;32mIn[152], line 1\u001b[0m\n\u001b[0;32m----> 1\u001b[0m sympy\u001b[39m.\u001b[39;49msolve([tmp5, score1_eq, p_eq, n_eq], tp, tn, fp, fn, check\u001b[39m=\u001b[39;49m\u001b[39mFalse\u001b[39;49;00m, \u001b[39mdict\u001b[39;49m\u001b[39m=\u001b[39;49m\u001b[39mTrue\u001b[39;49;00m)\n",
      "File \u001b[0;32m~/anaconda3/envs/mlscorecheck/lib/python3.10/site-packages/sympy/solvers/solvers.py:1147\u001b[0m, in \u001b[0;36msolve\u001b[0;34m(f, *symbols, **flags)\u001b[0m\n\u001b[1;32m   1145\u001b[0m         solution \u001b[39m=\u001b[39m _solve(f[\u001b[39m0\u001b[39m], \u001b[39m*\u001b[39msymbols, \u001b[39m*\u001b[39m\u001b[39m*\u001b[39mflags)\n\u001b[1;32m   1146\u001b[0m \u001b[39melse\u001b[39;00m:\n\u001b[0;32m-> 1147\u001b[0m     linear, solution \u001b[39m=\u001b[39m _solve_system(f, symbols, \u001b[39m*\u001b[39;49m\u001b[39m*\u001b[39;49mflags)\n\u001b[1;32m   1148\u001b[0m \u001b[39massert\u001b[39;00m \u001b[39mtype\u001b[39m(solution) \u001b[39mis\u001b[39;00m \u001b[39mlist\u001b[39m\n\u001b[1;32m   1149\u001b[0m \u001b[39massert\u001b[39;00m \u001b[39mnot\u001b[39;00m solution \u001b[39mor\u001b[39;00m \u001b[39mtype\u001b[39m(solution[\u001b[39m0\u001b[39m]) \u001b[39mis\u001b[39;00m \u001b[39mdict\u001b[39m, solution\n",
      "File \u001b[0;32m~/anaconda3/envs/mlscorecheck/lib/python3.10/site-packages/sympy/solvers/solvers.py:1863\u001b[0m, in \u001b[0;36m_solve_system\u001b[0;34m(exprs, symbols, **flags)\u001b[0m\n\u001b[1;32m   1861\u001b[0m \u001b[39melse\u001b[39;00m:\n\u001b[1;32m   1862\u001b[0m     \u001b[39mtry\u001b[39;00m:\n\u001b[0;32m-> 1863\u001b[0m         result \u001b[39m=\u001b[39m solve_poly_system(polys, \u001b[39m*\u001b[39;49msymbols)\n\u001b[1;32m   1864\u001b[0m         \u001b[39mif\u001b[39;00m result:\n\u001b[1;32m   1865\u001b[0m             solved_syms \u001b[39m=\u001b[39m symbols\n",
      "File \u001b[0;32m~/anaconda3/envs/mlscorecheck/lib/python3.10/site-packages/sympy/solvers/polysys.py:78\u001b[0m, in \u001b[0;36msolve_poly_system\u001b[0;34m(seq, strict, *gens, **args)\u001b[0m\n\u001b[1;32m     75\u001b[0m         \u001b[39mexcept\u001b[39;00m SolveFailed:\n\u001b[1;32m     76\u001b[0m             \u001b[39mpass\u001b[39;00m\n\u001b[0;32m---> 78\u001b[0m \u001b[39mreturn\u001b[39;00m solve_generic(polys, opt, strict\u001b[39m=\u001b[39;49mstrict)\n",
      "File \u001b[0;32m~/anaconda3/envs/mlscorecheck/lib/python3.10/site-packages/sympy/solvers/polysys.py:333\u001b[0m, in \u001b[0;36msolve_generic\u001b[0;34m(polys, opt, strict)\u001b[0m\n\u001b[1;32m    330\u001b[0m     \u001b[39mreturn\u001b[39;00m solutions\n\u001b[1;32m    332\u001b[0m \u001b[39mtry\u001b[39;00m:\n\u001b[0;32m--> 333\u001b[0m     result \u001b[39m=\u001b[39m _solve_reduced_system(polys, opt\u001b[39m.\u001b[39;49mgens, entry\u001b[39m=\u001b[39;49m\u001b[39mTrue\u001b[39;49;00m)\n\u001b[1;32m    334\u001b[0m \u001b[39mexcept\u001b[39;00m CoercionFailed:\n\u001b[1;32m    335\u001b[0m     \u001b[39mraise\u001b[39;00m \u001b[39mNotImplementedError\u001b[39;00m\n",
      "File \u001b[0;32m~/anaconda3/envs/mlscorecheck/lib/python3.10/site-packages/sympy/solvers/polysys.py:273\u001b[0m, in \u001b[0;36msolve_generic.<locals>._solve_reduced_system\u001b[0;34m(system, gens, entry)\u001b[0m\n\u001b[1;32m    270\u001b[0m     zeros \u001b[39m=\u001b[39m \u001b[39mlist\u001b[39m(roots(system[\u001b[39m0\u001b[39m], gens[\u001b[39m-\u001b[39m\u001b[39m1\u001b[39m], strict\u001b[39m=\u001b[39mstrict)\u001b[39m.\u001b[39mkeys())\n\u001b[1;32m    271\u001b[0m     \u001b[39mreturn\u001b[39;00m [(zero,) \u001b[39mfor\u001b[39;00m zero \u001b[39min\u001b[39;00m zeros]\n\u001b[0;32m--> 273\u001b[0m basis \u001b[39m=\u001b[39m groebner(system, gens, polys\u001b[39m=\u001b[39;49m\u001b[39mTrue\u001b[39;49;00m)\n\u001b[1;32m    275\u001b[0m \u001b[39mif\u001b[39;00m \u001b[39mlen\u001b[39m(basis) \u001b[39m==\u001b[39m \u001b[39m1\u001b[39m \u001b[39mand\u001b[39;00m basis[\u001b[39m0\u001b[39m]\u001b[39m.\u001b[39mis_ground:\n\u001b[1;32m    276\u001b[0m     \u001b[39mif\u001b[39;00m \u001b[39mnot\u001b[39;00m entry:\n",
      "File \u001b[0;32m~/anaconda3/envs/mlscorecheck/lib/python3.10/site-packages/sympy/polys/polytools.py:7015\u001b[0m, in \u001b[0;36mgroebner\u001b[0;34m(F, *gens, **args)\u001b[0m\n\u001b[1;32m   6964\u001b[0m \u001b[39m@public\u001b[39m\n\u001b[1;32m   6965\u001b[0m \u001b[39mdef\u001b[39;00m \u001b[39mgroebner\u001b[39m(F, \u001b[39m*\u001b[39mgens, \u001b[39m*\u001b[39m\u001b[39m*\u001b[39margs):\n\u001b[1;32m   6966\u001b[0m \u001b[39m    \u001b[39m\u001b[39m\"\"\"\u001b[39;00m\n\u001b[1;32m   6967\u001b[0m \u001b[39m    Computes the reduced Groebner basis for a set of polynomials.\u001b[39;00m\n\u001b[1;32m   6968\u001b[0m \n\u001b[0;32m   (...)\u001b[0m\n\u001b[1;32m   7013\u001b[0m \n\u001b[1;32m   7014\u001b[0m \u001b[39m    \"\"\"\u001b[39;00m\n\u001b[0;32m-> 7015\u001b[0m     \u001b[39mreturn\u001b[39;00m GroebnerBasis(F, \u001b[39m*\u001b[39;49mgens, \u001b[39m*\u001b[39;49m\u001b[39m*\u001b[39;49margs)\n",
      "File \u001b[0;32m~/anaconda3/envs/mlscorecheck/lib/python3.10/site-packages/sympy/polys/polytools.py:7054\u001b[0m, in \u001b[0;36mGroebnerBasis.__new__\u001b[0;34m(cls, F, *gens, **args)\u001b[0m\n\u001b[1;32m   7050\u001b[0m ring \u001b[39m=\u001b[39m PolyRing(opt\u001b[39m.\u001b[39mgens, opt\u001b[39m.\u001b[39mdomain, opt\u001b[39m.\u001b[39morder)\n\u001b[1;32m   7052\u001b[0m polys \u001b[39m=\u001b[39m [ring\u001b[39m.\u001b[39mfsom_dict(poly\u001b[39m.\u001b[39mrep\u001b[39m.\u001b[39mto_dict()) \u001b[39mfor\u001b[39;00m poly \u001b[39min\u001b[39;00m polys \u001b[39mif\u001b[39;00m poly]\n\u001b[0;32m-> 7054\u001b[0m G \u001b[39m=\u001b[39m _groebner(polys, ring, method\u001b[39m=\u001b[39;49mopt\u001b[39m.\u001b[39;49mmethod)\n\u001b[1;32m   7055\u001b[0m G \u001b[39m=\u001b[39m [Poly\u001b[39m.\u001b[39m_fsom_dict(g, opt) \u001b[39mfor\u001b[39;00m g \u001b[39min\u001b[39;00m G]\n\u001b[1;32m   7057\u001b[0m \u001b[39mreturn\u001b[39;00m \u001b[39mcls\u001b[39m\u001b[39m.\u001b[39m_new(G, opt)\n",
      "File \u001b[0;32m~/anaconda3/envs/mlscorecheck/lib/python3.10/site-packages/sympy/polys/groebnertools.py:43\u001b[0m, in \u001b[0;36mgroebner\u001b[0;34m(seq, ring, method)\u001b[0m\n\u001b[1;32m     40\u001b[0m     \u001b[39melse\u001b[39;00m:\n\u001b[1;32m     41\u001b[0m         seq \u001b[39m=\u001b[39m [ s\u001b[39m.\u001b[39mset_ring(ring) \u001b[39mfor\u001b[39;00m s \u001b[39min\u001b[39;00m seq ]\n\u001b[0;32m---> 43\u001b[0m G \u001b[39m=\u001b[39m _groebner(seq, ring)\n\u001b[1;32m     45\u001b[0m \u001b[39mif\u001b[39;00m orig \u001b[39mis\u001b[39;00m \u001b[39mnot\u001b[39;00m \u001b[39mNone\u001b[39;00m:\n\u001b[1;32m     46\u001b[0m     G \u001b[39m=\u001b[39m [ g\u001b[39m.\u001b[39mclear_denoms()[\u001b[39m1\u001b[39m]\u001b[39m.\u001b[39mset_ring(orig) \u001b[39mfor\u001b[39;00m g \u001b[39min\u001b[39;00m G ]\n",
      "File \u001b[0;32m~/anaconda3/envs/mlscorecheck/lib/python3.10/site-packages/sympy/polys/groebnertools.py:238\u001b[0m, in \u001b[0;36m_buchberger\u001b[0;34m(f, ring)\u001b[0m\n\u001b[1;32m    236\u001b[0m \u001b[39m# ordering divisors is on average more efficient [Cox] page 111\u001b[39;00m\n\u001b[1;32m    237\u001b[0m G1 \u001b[39m=\u001b[39m \u001b[39msorted\u001b[39m(G, key\u001b[39m=\u001b[39m\u001b[39mlambda\u001b[39;00m g: order(f[g]\u001b[39m.\u001b[39mLM))\n\u001b[0;32m--> 238\u001b[0m ht \u001b[39m=\u001b[39m normal(h, G1)\n\u001b[1;32m    240\u001b[0m \u001b[39mif\u001b[39;00m ht:\n\u001b[1;32m    241\u001b[0m     G, CP \u001b[39m=\u001b[39m update(G, CP, ht[\u001b[39m1\u001b[39m])\n",
      "File \u001b[0;32m~/anaconda3/envs/mlscorecheck/lib/python3.10/site-packages/sympy/polys/groebnertools.py:104\u001b[0m, in \u001b[0;36m_buchberger.<locals>.normal\u001b[0;34m(g, J)\u001b[0m\n\u001b[1;32m    103\u001b[0m \u001b[39mdef\u001b[39;00m \u001b[39mnormal\u001b[39m(g, J):\n\u001b[0;32m--> 104\u001b[0m     h \u001b[39m=\u001b[39m g\u001b[39m.\u001b[39;49mrem([ f[j] \u001b[39mfor\u001b[39;49;00m j \u001b[39min\u001b[39;49;00m J ])\n\u001b[1;32m    106\u001b[0m     \u001b[39mif\u001b[39;00m \u001b[39mnot\u001b[39;00m h:\n\u001b[1;32m    107\u001b[0m         \u001b[39mreturn\u001b[39;00m \u001b[39mNone\u001b[39;00m\n",
      "File \u001b[0;32m~/anaconda3/envs/mlscorecheck/lib/python3.10/site-packages/sympy/polys/rings.py:1512\u001b[0m, in \u001b[0;36mPolyElement.rem\u001b[0;34m(self, G)\u001b[0m\n\u001b[1;32m   1510\u001b[0m \u001b[39mfor\u001b[39;00m mg, cg \u001b[39min\u001b[39;00m g\u001b[39m.\u001b[39miterterms():\n\u001b[1;32m   1511\u001b[0m     m1 \u001b[39m=\u001b[39m monomial_mul(mg, m)\n\u001b[0;32m-> 1512\u001b[0m     c1 \u001b[39m=\u001b[39m get(m1, zero) \u001b[39m-\u001b[39;49m c\u001b[39m*\u001b[39;49mcg\n\u001b[1;32m   1513\u001b[0m     \u001b[39mif\u001b[39;00m \u001b[39mnot\u001b[39;00m c1:\n\u001b[1;32m   1514\u001b[0m         \u001b[39mdel\u001b[39;00m f[m1]\n",
      "File \u001b[0;32m~/anaconda3/envs/mlscorecheck/lib/python3.10/site-packages/sympy/polys/fields.py:451\u001b[0m, in \u001b[0;36mFracElement.__sub__\u001b[0;34m(f, g)\u001b[0m\n\u001b[1;32m    449\u001b[0m         \u001b[39mreturn\u001b[39;00m f\u001b[39m.\u001b[39mnew(f\u001b[39m.\u001b[39mnumer \u001b[39m-\u001b[39m g\u001b[39m.\u001b[39mnumer, f\u001b[39m.\u001b[39mdenom)\n\u001b[1;32m    450\u001b[0m     \u001b[39melse\u001b[39;00m:\n\u001b[0;32m--> 451\u001b[0m         \u001b[39mreturn\u001b[39;00m f\u001b[39m.\u001b[39;49mnew(f\u001b[39m.\u001b[39;49mnumer\u001b[39m*\u001b[39;49mg\u001b[39m.\u001b[39;49mdenom \u001b[39m-\u001b[39;49m f\u001b[39m.\u001b[39;49mdenom\u001b[39m*\u001b[39;49mg\u001b[39m.\u001b[39;49mnumer, f\u001b[39m.\u001b[39;49mdenom\u001b[39m*\u001b[39;49mg\u001b[39m.\u001b[39;49mdenom)\n\u001b[1;32m    452\u001b[0m \u001b[39melif\u001b[39;00m \u001b[39misinstance\u001b[39m(g, field\u001b[39m.\u001b[39mring\u001b[39m.\u001b[39mdtype):\n\u001b[1;32m    453\u001b[0m     \u001b[39mreturn\u001b[39;00m f\u001b[39m.\u001b[39mnew(f\u001b[39m.\u001b[39mnumer \u001b[39m-\u001b[39m f\u001b[39m.\u001b[39mdenom\u001b[39m*\u001b[39mg, f\u001b[39m.\u001b[39mdenom)\n",
      "File \u001b[0;32m~/anaconda3/envs/mlscorecheck/lib/python3.10/site-packages/sympy/polys/fields.py:301\u001b[0m, in \u001b[0;36mFracElement.new\u001b[0;34m(f, numer, denom)\u001b[0m\n\u001b[1;32m    300\u001b[0m \u001b[39mdef\u001b[39;00m \u001b[39mnew\u001b[39m(f, numer, denom):\n\u001b[0;32m--> 301\u001b[0m     \u001b[39mreturn\u001b[39;00m f\u001b[39m.\u001b[39mraw_new(\u001b[39m*\u001b[39mnumer\u001b[39m.\u001b[39;49mcancel(denom))\n",
      "File \u001b[0;32m~/anaconda3/envs/mlscorecheck/lib/python3.10/site-packages/sympy/polys/rings.py:2242\u001b[0m, in \u001b[0;36mPolyElement.cancel\u001b[0;34m(self, g)\u001b[0m\n\u001b[1;32m   2239\u001b[0m domain \u001b[39m=\u001b[39m ring\u001b[39m.\u001b[39mdomain\n\u001b[1;32m   2241\u001b[0m \u001b[39mif\u001b[39;00m \u001b[39mnot\u001b[39;00m (domain\u001b[39m.\u001b[39mis_Field \u001b[39mand\u001b[39;00m domain\u001b[39m.\u001b[39mhas_assoc_Ring):\n\u001b[0;32m-> 2242\u001b[0m     _, p, q \u001b[39m=\u001b[39m f\u001b[39m.\u001b[39;49mcofactors(g)\n\u001b[1;32m   2243\u001b[0m \u001b[39melse\u001b[39;00m:\n\u001b[1;32m   2244\u001b[0m     new_ring \u001b[39m=\u001b[39m ring\u001b[39m.\u001b[39mclone(domain\u001b[39m=\u001b[39mdomain\u001b[39m.\u001b[39mget_ring())\n",
      "File \u001b[0;32m~/anaconda3/envs/mlscorecheck/lib/python3.10/site-packages/sympy/polys/rings.py:2158\u001b[0m, in \u001b[0;36mPolyElement.cofactors\u001b[0;34m(f, g)\u001b[0m\n\u001b[1;32m   2155\u001b[0m     \u001b[39mreturn\u001b[39;00m h, cff, cfg\n\u001b[1;32m   2157\u001b[0m J, (f, g) \u001b[39m=\u001b[39m f\u001b[39m.\u001b[39mdeflate(g)\n\u001b[0;32m-> 2158\u001b[0m h, cff, cfg \u001b[39m=\u001b[39m f\u001b[39m.\u001b[39;49m_gcd(g)\n\u001b[1;32m   2160\u001b[0m \u001b[39mreturn\u001b[39;00m (h\u001b[39m.\u001b[39minflate(J), cff\u001b[39m.\u001b[39minflate(J), cfg\u001b[39m.\u001b[39minflate(J))\n",
      "File \u001b[0;32m~/anaconda3/envs/mlscorecheck/lib/python3.10/site-packages/sympy/polys/rings.py:2191\u001b[0m, in \u001b[0;36mPolyElement._gcd\u001b[0;34m(f, g)\u001b[0m\n\u001b[1;32m   2189\u001b[0m     \u001b[39mreturn\u001b[39;00m f\u001b[39m.\u001b[39m_gcd_QQ(g)\n\u001b[1;32m   2190\u001b[0m \u001b[39melif\u001b[39;00m ring\u001b[39m.\u001b[39mdomain\u001b[39m.\u001b[39mis_ZZ:\n\u001b[0;32m-> 2191\u001b[0m     \u001b[39mreturn\u001b[39;00m f\u001b[39m.\u001b[39;49m_gcd_ZZ(g)\n\u001b[1;32m   2192\u001b[0m \u001b[39melse\u001b[39;00m: \u001b[39m# TODO: don't use dense representation (port PRS algorithms)\u001b[39;00m\n\u001b[1;32m   2193\u001b[0m     \u001b[39mreturn\u001b[39;00m ring\u001b[39m.\u001b[39mdmp_inner_gcd(f, g)\n",
      "File \u001b[0;32m~/anaconda3/envs/mlscorecheck/lib/python3.10/site-packages/sympy/polys/rings.py:2196\u001b[0m, in \u001b[0;36mPolyElement._gcd_ZZ\u001b[0;34m(f, g)\u001b[0m\n\u001b[1;32m   2195\u001b[0m \u001b[39mdef\u001b[39;00m \u001b[39m_gcd_ZZ\u001b[39m(f, g):\n\u001b[0;32m-> 2196\u001b[0m     \u001b[39mreturn\u001b[39;00m heugcd(f, g)\n",
      "File \u001b[0;32m~/anaconda3/envs/mlscorecheck/lib/python3.10/site-packages/sympy/polys/heuristicgcd.py:80\u001b[0m, in \u001b[0;36mheugcd\u001b[0;34m(f, g)\u001b[0m\n\u001b[1;32m     78\u001b[0m     h, cff, cfg \u001b[39m=\u001b[39m domain\u001b[39m.\u001b[39mcofactors(ff, gg)\n\u001b[1;32m     79\u001b[0m \u001b[39melse\u001b[39;00m:\n\u001b[0;32m---> 80\u001b[0m     h, cff, cfg \u001b[39m=\u001b[39m heugcd(ff, gg)\n\u001b[1;32m     82\u001b[0m h \u001b[39m=\u001b[39m _gcd_interpolate(h, x, ring)\n\u001b[1;32m     83\u001b[0m h \u001b[39m=\u001b[39m h\u001b[39m.\u001b[39mprimitive()[\u001b[39m1\u001b[39m]\n",
      "File \u001b[0;32m~/anaconda3/envs/mlscorecheck/lib/python3.10/site-packages/sympy/polys/heuristicgcd.py:80\u001b[0m, in \u001b[0;36mheugcd\u001b[0;34m(f, g)\u001b[0m\n\u001b[1;32m     78\u001b[0m     h, cff, cfg \u001b[39m=\u001b[39m domain\u001b[39m.\u001b[39mcofactors(ff, gg)\n\u001b[1;32m     79\u001b[0m \u001b[39melse\u001b[39;00m:\n\u001b[0;32m---> 80\u001b[0m     h, cff, cfg \u001b[39m=\u001b[39m heugcd(ff, gg)\n\u001b[1;32m     82\u001b[0m h \u001b[39m=\u001b[39m _gcd_interpolate(h, x, ring)\n\u001b[1;32m     83\u001b[0m h \u001b[39m=\u001b[39m h\u001b[39m.\u001b[39mprimitive()[\u001b[39m1\u001b[39m]\n",
      "File \u001b[0;32m~/anaconda3/envs/mlscorecheck/lib/python3.10/site-packages/sympy/polys/heuristicgcd.py:73\u001b[0m, in \u001b[0;36mheugcd\u001b[0;34m(f, g)\u001b[0m\n\u001b[1;32m     68\u001b[0m x \u001b[39m=\u001b[39m \u001b[39mmax\u001b[39m(\u001b[39mmin\u001b[39m(B, \u001b[39m99\u001b[39m\u001b[39m*\u001b[39mdomain\u001b[39m.\u001b[39msqrt(B)),\n\u001b[1;32m     69\u001b[0m         \u001b[39m2\u001b[39m\u001b[39m*\u001b[39m\u001b[39mmin\u001b[39m(f_norm \u001b[39m/\u001b[39m\u001b[39m/\u001b[39m \u001b[39mabs\u001b[39m(f\u001b[39m.\u001b[39mLC),\n\u001b[1;32m     70\u001b[0m               g_norm \u001b[39m/\u001b[39m\u001b[39m/\u001b[39m \u001b[39mabs\u001b[39m(g\u001b[39m.\u001b[39mLC)) \u001b[39m+\u001b[39m \u001b[39m4\u001b[39m)\n\u001b[1;32m     72\u001b[0m \u001b[39mfor\u001b[39;00m i \u001b[39min\u001b[39;00m \u001b[39mrange\u001b[39m(\u001b[39m0\u001b[39m, HEU_GCD_MAX):\n\u001b[0;32m---> 73\u001b[0m     ff \u001b[39m=\u001b[39m f\u001b[39m.\u001b[39;49mevaluate(x0, x)\n\u001b[1;32m     74\u001b[0m     gg \u001b[39m=\u001b[39m g\u001b[39m.\u001b[39mevaluate(x0, x)\n\u001b[1;32m     76\u001b[0m     \u001b[39mif\u001b[39;00m ff \u001b[39mand\u001b[39;00m gg:\n",
      "File \u001b[0;32m~/anaconda3/envs/mlscorecheck/lib/python3.10/site-packages/sympy/polys/rings.py:2331\u001b[0m, in \u001b[0;36mPolyElement.evaluate\u001b[0;34m(self, x, a)\u001b[0m\n\u001b[1;32m   2328\u001b[0m     result \u001b[39m=\u001b[39m ring\u001b[39m.\u001b[39mdomain\u001b[39m.\u001b[39mzero\n\u001b[1;32m   2330\u001b[0m     \u001b[39mfor\u001b[39;00m (n,), coeff \u001b[39min\u001b[39;00m f\u001b[39m.\u001b[39miterterms():\n\u001b[0;32m-> 2331\u001b[0m         result \u001b[39m+\u001b[39m\u001b[39m=\u001b[39m coeff\u001b[39m*\u001b[39ma\u001b[39m*\u001b[39;49m\u001b[39m*\u001b[39;49mn\n\u001b[1;32m   2333\u001b[0m     \u001b[39mreturn\u001b[39;00m result\n\u001b[1;32m   2334\u001b[0m \u001b[39melse\u001b[39;00m:\n",
      "\u001b[0;31mKeyboardInterrupt\u001b[0m: "
     ]
    }
   ],
   "source": [
    "sympy.solve([tmp5, score1_eq, p_eq, n_eq], tp, tn, fp, fn, check=False, dict=True)"
   ]
  },
  {
   "cell_type": "code",
   "execution_count": 148,
   "metadata": {},
   "outputs": [
    {
     "ename": "KeyboardInterrupt",
     "evalue": "",
     "output_type": "error",
     "traceback": [
      "\u001b[0;31m---------------------------------------------------------------------------\u001b[0m",
      "\u001b[0;31mKeyboardInterrupt\u001b[0m                         Traceback (most recent call last)",
      "Cell \u001b[0;32mIn[148], line 1\u001b[0m\n\u001b[0;32m----> 1\u001b[0m sympy\u001b[39m.\u001b[39;49mGroebnerBasis([tmp5, score1_eq, n_eq, p_eq], tp, tn, fp, fn)\n",
      "File \u001b[0;32m~/anaconda3/envs/mlscorecheck/lib/python3.10/site-packages/sympy/polys/polytools.py:7054\u001b[0m, in \u001b[0;36mGroebnerBasis.__new__\u001b[0;34m(cls, F, *gens, **args)\u001b[0m\n\u001b[1;32m   7050\u001b[0m ring \u001b[39m=\u001b[39m PolyRing(opt\u001b[39m.\u001b[39mgens, opt\u001b[39m.\u001b[39mdomain, opt\u001b[39m.\u001b[39morder)\n\u001b[1;32m   7052\u001b[0m polys \u001b[39m=\u001b[39m [ring\u001b[39m.\u001b[39mfsom_dict(poly\u001b[39m.\u001b[39mrep\u001b[39m.\u001b[39mto_dict()) \u001b[39mfor\u001b[39;00m poly \u001b[39min\u001b[39;00m polys \u001b[39mif\u001b[39;00m poly]\n\u001b[0;32m-> 7054\u001b[0m G \u001b[39m=\u001b[39m _groebner(polys, ring, method\u001b[39m=\u001b[39;49mopt\u001b[39m.\u001b[39;49mmethod)\n\u001b[1;32m   7055\u001b[0m G \u001b[39m=\u001b[39m [Poly\u001b[39m.\u001b[39m_fsom_dict(g, opt) \u001b[39mfor\u001b[39;00m g \u001b[39min\u001b[39;00m G]\n\u001b[1;32m   7057\u001b[0m \u001b[39mreturn\u001b[39;00m \u001b[39mcls\u001b[39m\u001b[39m.\u001b[39m_new(G, opt)\n",
      "File \u001b[0;32m~/anaconda3/envs/mlscorecheck/lib/python3.10/site-packages/sympy/polys/groebnertools.py:43\u001b[0m, in \u001b[0;36mgroebner\u001b[0;34m(seq, ring, method)\u001b[0m\n\u001b[1;32m     40\u001b[0m     \u001b[39melse\u001b[39;00m:\n\u001b[1;32m     41\u001b[0m         seq \u001b[39m=\u001b[39m [ s\u001b[39m.\u001b[39mset_ring(ring) \u001b[39mfor\u001b[39;00m s \u001b[39min\u001b[39;00m seq ]\n\u001b[0;32m---> 43\u001b[0m G \u001b[39m=\u001b[39m _groebner(seq, ring)\n\u001b[1;32m     45\u001b[0m \u001b[39mif\u001b[39;00m orig \u001b[39mis\u001b[39;00m \u001b[39mnot\u001b[39;00m \u001b[39mNone\u001b[39;00m:\n\u001b[1;32m     46\u001b[0m     G \u001b[39m=\u001b[39m [ g\u001b[39m.\u001b[39mclear_denoms()[\u001b[39m1\u001b[39m]\u001b[39m.\u001b[39mset_ring(orig) \u001b[39mfor\u001b[39;00m g \u001b[39min\u001b[39;00m G ]\n",
      "File \u001b[0;32m~/anaconda3/envs/mlscorecheck/lib/python3.10/site-packages/sympy/polys/groebnertools.py:238\u001b[0m, in \u001b[0;36m_buchberger\u001b[0;34m(f, ring)\u001b[0m\n\u001b[1;32m    236\u001b[0m \u001b[39m# ordering divisors is on average more efficient [Cox] page 111\u001b[39;00m\n\u001b[1;32m    237\u001b[0m G1 \u001b[39m=\u001b[39m \u001b[39msorted\u001b[39m(G, key\u001b[39m=\u001b[39m\u001b[39mlambda\u001b[39;00m g: order(f[g]\u001b[39m.\u001b[39mLM))\n\u001b[0;32m--> 238\u001b[0m ht \u001b[39m=\u001b[39m normal(h, G1)\n\u001b[1;32m    240\u001b[0m \u001b[39mif\u001b[39;00m ht:\n\u001b[1;32m    241\u001b[0m     G, CP \u001b[39m=\u001b[39m update(G, CP, ht[\u001b[39m1\u001b[39m])\n",
      "File \u001b[0;32m~/anaconda3/envs/mlscorecheck/lib/python3.10/site-packages/sympy/polys/groebnertools.py:109\u001b[0m, in \u001b[0;36m_buchberger.<locals>.normal\u001b[0;34m(g, J)\u001b[0m\n\u001b[1;32m    107\u001b[0m     \u001b[39mreturn\u001b[39;00m \u001b[39mNone\u001b[39;00m\n\u001b[1;32m    108\u001b[0m \u001b[39melse\u001b[39;00m:\n\u001b[0;32m--> 109\u001b[0m     h \u001b[39m=\u001b[39m h\u001b[39m.\u001b[39;49mmonic()\n\u001b[1;32m    111\u001b[0m     \u001b[39mif\u001b[39;00m h \u001b[39mnot\u001b[39;00m \u001b[39min\u001b[39;00m I:\n\u001b[1;32m    112\u001b[0m         I[h] \u001b[39m=\u001b[39m \u001b[39mlen\u001b[39m(f)\n",
      "File \u001b[0;32m~/anaconda3/envs/mlscorecheck/lib/python3.10/site-packages/sympy/polys/rings.py:1977\u001b[0m, in \u001b[0;36mPolyElement.monic\u001b[0;34m(f)\u001b[0m\n\u001b[1;32m   1975\u001b[0m     \u001b[39mreturn\u001b[39;00m f\n\u001b[1;32m   1976\u001b[0m \u001b[39melse\u001b[39;00m:\n\u001b[0;32m-> 1977\u001b[0m     \u001b[39mreturn\u001b[39;00m f\u001b[39m.\u001b[39;49mquo_ground(f\u001b[39m.\u001b[39;49mLC)\n",
      "File \u001b[0;32m~/anaconda3/envs/mlscorecheck/lib/python3.10/site-packages/sympy/polys/rings.py:2013\u001b[0m, in \u001b[0;36mPolyElement.quo_ground\u001b[0;34m(f, x)\u001b[0m\n\u001b[1;32m   2011\u001b[0m \u001b[39mif\u001b[39;00m domain\u001b[39m.\u001b[39mis_Field:\n\u001b[1;32m   2012\u001b[0m     quo \u001b[39m=\u001b[39m domain\u001b[39m.\u001b[39mquo\n\u001b[0;32m-> 2013\u001b[0m     terms \u001b[39m=\u001b[39m [ (monom, quo(coeff, x)) \u001b[39mfor\u001b[39;00m monom, coeff \u001b[39min\u001b[39;00m f\u001b[39m.\u001b[39miterterms() ]\n\u001b[1;32m   2014\u001b[0m \u001b[39melse\u001b[39;00m:\n\u001b[1;32m   2015\u001b[0m     terms \u001b[39m=\u001b[39m [ (monom, coeff \u001b[39m/\u001b[39m\u001b[39m/\u001b[39m x) \u001b[39mfor\u001b[39;00m monom, coeff \u001b[39min\u001b[39;00m f\u001b[39m.\u001b[39miterterms() \u001b[39mif\u001b[39;00m \u001b[39mnot\u001b[39;00m (coeff \u001b[39m%\u001b[39m x) ]\n",
      "File \u001b[0;32m~/anaconda3/envs/mlscorecheck/lib/python3.10/site-packages/sympy/polys/rings.py:2013\u001b[0m, in \u001b[0;36m<listcomp>\u001b[0;34m(.0)\u001b[0m\n\u001b[1;32m   2011\u001b[0m \u001b[39mif\u001b[39;00m domain\u001b[39m.\u001b[39mis_Field:\n\u001b[1;32m   2012\u001b[0m     quo \u001b[39m=\u001b[39m domain\u001b[39m.\u001b[39mquo\n\u001b[0;32m-> 2013\u001b[0m     terms \u001b[39m=\u001b[39m [ (monom, quo(coeff, x)) \u001b[39mfor\u001b[39;00m monom, coeff \u001b[39min\u001b[39;00m f\u001b[39m.\u001b[39miterterms() ]\n\u001b[1;32m   2014\u001b[0m \u001b[39melse\u001b[39;00m:\n\u001b[1;32m   2015\u001b[0m     terms \u001b[39m=\u001b[39m [ (monom, coeff \u001b[39m/\u001b[39m\u001b[39m/\u001b[39m x) \u001b[39mfor\u001b[39;00m monom, coeff \u001b[39min\u001b[39;00m f\u001b[39m.\u001b[39miterterms() \u001b[39mif\u001b[39;00m \u001b[39mnot\u001b[39;00m (coeff \u001b[39m%\u001b[39m x) ]\n",
      "File \u001b[0;32m~/anaconda3/envs/mlscorecheck/lib/python3.10/site-packages/sympy/polys/domains/field.py:29\u001b[0m, in \u001b[0;36mField.quo\u001b[0;34m(self, a, b)\u001b[0m\n\u001b[1;32m     27\u001b[0m \u001b[39mdef\u001b[39;00m \u001b[39mquo\u001b[39m(\u001b[39mself\u001b[39m, a, b):\n\u001b[1;32m     28\u001b[0m \u001b[39m    \u001b[39m\u001b[39m\"\"\"Quotient of ``a`` and ``b``, implies ``__truediv__``. \"\"\"\u001b[39;00m\n\u001b[0;32m---> 29\u001b[0m     \u001b[39mreturn\u001b[39;00m a \u001b[39m/\u001b[39;49m b\n",
      "File \u001b[0;32m~/anaconda3/envs/mlscorecheck/lib/python3.10/site-packages/sympy/polys/fields.py:536\u001b[0m, in \u001b[0;36mFracElement.__truediv__\u001b[0;34m(f, g)\u001b[0m\n\u001b[1;32m    534\u001b[0m     \u001b[39mraise\u001b[39;00m \u001b[39mZeroDivisionError\u001b[39;00m\n\u001b[1;32m    535\u001b[0m \u001b[39melif\u001b[39;00m \u001b[39misinstance\u001b[39m(g, field\u001b[39m.\u001b[39mdtype):\n\u001b[0;32m--> 536\u001b[0m     \u001b[39mreturn\u001b[39;00m f\u001b[39m.\u001b[39;49mnew(f\u001b[39m.\u001b[39;49mnumer\u001b[39m*\u001b[39;49mg\u001b[39m.\u001b[39;49mdenom, f\u001b[39m.\u001b[39;49mdenom\u001b[39m*\u001b[39;49mg\u001b[39m.\u001b[39;49mnumer)\n\u001b[1;32m    537\u001b[0m \u001b[39melif\u001b[39;00m \u001b[39misinstance\u001b[39m(g, field\u001b[39m.\u001b[39mring\u001b[39m.\u001b[39mdtype):\n\u001b[1;32m    538\u001b[0m     \u001b[39mreturn\u001b[39;00m f\u001b[39m.\u001b[39mnew(f\u001b[39m.\u001b[39mnumer, f\u001b[39m.\u001b[39mdenom\u001b[39m*\u001b[39mg)\n",
      "File \u001b[0;32m~/anaconda3/envs/mlscorecheck/lib/python3.10/site-packages/sympy/polys/fields.py:301\u001b[0m, in \u001b[0;36mFracElement.new\u001b[0;34m(f, numer, denom)\u001b[0m\n\u001b[1;32m    300\u001b[0m \u001b[39mdef\u001b[39;00m \u001b[39mnew\u001b[39m(f, numer, denom):\n\u001b[0;32m--> 301\u001b[0m     \u001b[39mreturn\u001b[39;00m f\u001b[39m.\u001b[39mraw_new(\u001b[39m*\u001b[39mnumer\u001b[39m.\u001b[39;49mcancel(denom))\n",
      "File \u001b[0;32m~/anaconda3/envs/mlscorecheck/lib/python3.10/site-packages/sympy/polys/rings.py:2242\u001b[0m, in \u001b[0;36mPolyElement.cancel\u001b[0;34m(self, g)\u001b[0m\n\u001b[1;32m   2239\u001b[0m domain \u001b[39m=\u001b[39m ring\u001b[39m.\u001b[39mdomain\n\u001b[1;32m   2241\u001b[0m \u001b[39mif\u001b[39;00m \u001b[39mnot\u001b[39;00m (domain\u001b[39m.\u001b[39mis_Field \u001b[39mand\u001b[39;00m domain\u001b[39m.\u001b[39mhas_assoc_Ring):\n\u001b[0;32m-> 2242\u001b[0m     _, p, q \u001b[39m=\u001b[39m f\u001b[39m.\u001b[39;49mcofactors(g)\n\u001b[1;32m   2243\u001b[0m \u001b[39melse\u001b[39;00m:\n\u001b[1;32m   2244\u001b[0m     new_ring \u001b[39m=\u001b[39m ring\u001b[39m.\u001b[39mclone(domain\u001b[39m=\u001b[39mdomain\u001b[39m.\u001b[39mget_ring())\n",
      "File \u001b[0;32m~/anaconda3/envs/mlscorecheck/lib/python3.10/site-packages/sympy/polys/rings.py:2158\u001b[0m, in \u001b[0;36mPolyElement.cofactors\u001b[0;34m(f, g)\u001b[0m\n\u001b[1;32m   2155\u001b[0m     \u001b[39mreturn\u001b[39;00m h, cff, cfg\n\u001b[1;32m   2157\u001b[0m J, (f, g) \u001b[39m=\u001b[39m f\u001b[39m.\u001b[39mdeflate(g)\n\u001b[0;32m-> 2158\u001b[0m h, cff, cfg \u001b[39m=\u001b[39m f\u001b[39m.\u001b[39;49m_gcd(g)\n\u001b[1;32m   2160\u001b[0m \u001b[39mreturn\u001b[39;00m (h\u001b[39m.\u001b[39minflate(J), cff\u001b[39m.\u001b[39minflate(J), cfg\u001b[39m.\u001b[39minflate(J))\n",
      "File \u001b[0;32m~/anaconda3/envs/mlscorecheck/lib/python3.10/site-packages/sympy/polys/rings.py:2191\u001b[0m, in \u001b[0;36mPolyElement._gcd\u001b[0;34m(f, g)\u001b[0m\n\u001b[1;32m   2189\u001b[0m     \u001b[39mreturn\u001b[39;00m f\u001b[39m.\u001b[39m_gcd_QQ(g)\n\u001b[1;32m   2190\u001b[0m \u001b[39melif\u001b[39;00m ring\u001b[39m.\u001b[39mdomain\u001b[39m.\u001b[39mis_ZZ:\n\u001b[0;32m-> 2191\u001b[0m     \u001b[39mreturn\u001b[39;00m f\u001b[39m.\u001b[39;49m_gcd_ZZ(g)\n\u001b[1;32m   2192\u001b[0m \u001b[39melse\u001b[39;00m: \u001b[39m# TODO: don't use dense representation (port PRS algorithms)\u001b[39;00m\n\u001b[1;32m   2193\u001b[0m     \u001b[39mreturn\u001b[39;00m ring\u001b[39m.\u001b[39mdmp_inner_gcd(f, g)\n",
      "File \u001b[0;32m~/anaconda3/envs/mlscorecheck/lib/python3.10/site-packages/sympy/polys/rings.py:2196\u001b[0m, in \u001b[0;36mPolyElement._gcd_ZZ\u001b[0;34m(f, g)\u001b[0m\n\u001b[1;32m   2195\u001b[0m \u001b[39mdef\u001b[39;00m \u001b[39m_gcd_ZZ\u001b[39m(f, g):\n\u001b[0;32m-> 2196\u001b[0m     \u001b[39mreturn\u001b[39;00m heugcd(f, g)\n",
      "File \u001b[0;32m~/anaconda3/envs/mlscorecheck/lib/python3.10/site-packages/sympy/polys/heuristicgcd.py:80\u001b[0m, in \u001b[0;36mheugcd\u001b[0;34m(f, g)\u001b[0m\n\u001b[1;32m     78\u001b[0m     h, cff, cfg \u001b[39m=\u001b[39m domain\u001b[39m.\u001b[39mcofactors(ff, gg)\n\u001b[1;32m     79\u001b[0m \u001b[39melse\u001b[39;00m:\n\u001b[0;32m---> 80\u001b[0m     h, cff, cfg \u001b[39m=\u001b[39m heugcd(ff, gg)\n\u001b[1;32m     82\u001b[0m h \u001b[39m=\u001b[39m _gcd_interpolate(h, x, ring)\n\u001b[1;32m     83\u001b[0m h \u001b[39m=\u001b[39m h\u001b[39m.\u001b[39mprimitive()[\u001b[39m1\u001b[39m]\n",
      "File \u001b[0;32m~/anaconda3/envs/mlscorecheck/lib/python3.10/site-packages/sympy/polys/heuristicgcd.py:80\u001b[0m, in \u001b[0;36mheugcd\u001b[0;34m(f, g)\u001b[0m\n\u001b[1;32m     78\u001b[0m     h, cff, cfg \u001b[39m=\u001b[39m domain\u001b[39m.\u001b[39mcofactors(ff, gg)\n\u001b[1;32m     79\u001b[0m \u001b[39melse\u001b[39;00m:\n\u001b[0;32m---> 80\u001b[0m     h, cff, cfg \u001b[39m=\u001b[39m heugcd(ff, gg)\n\u001b[1;32m     82\u001b[0m h \u001b[39m=\u001b[39m _gcd_interpolate(h, x, ring)\n\u001b[1;32m     83\u001b[0m h \u001b[39m=\u001b[39m h\u001b[39m.\u001b[39mprimitive()[\u001b[39m1\u001b[39m]\n",
      "File \u001b[0;32m~/anaconda3/envs/mlscorecheck/lib/python3.10/site-packages/sympy/polys/heuristicgcd.py:78\u001b[0m, in \u001b[0;36mheugcd\u001b[0;34m(f, g)\u001b[0m\n\u001b[1;32m     76\u001b[0m \u001b[39mif\u001b[39;00m ff \u001b[39mand\u001b[39;00m gg:\n\u001b[1;32m     77\u001b[0m     \u001b[39mif\u001b[39;00m ring\u001b[39m.\u001b[39mngens \u001b[39m==\u001b[39m \u001b[39m1\u001b[39m:\n\u001b[0;32m---> 78\u001b[0m         h, cff, cfg \u001b[39m=\u001b[39m domain\u001b[39m.\u001b[39;49mcofactors(ff, gg)\n\u001b[1;32m     79\u001b[0m     \u001b[39melse\u001b[39;00m:\n\u001b[1;32m     80\u001b[0m         h, cff, cfg \u001b[39m=\u001b[39m heugcd(ff, gg)\n",
      "File \u001b[0;32m~/anaconda3/envs/mlscorecheck/lib/python3.10/site-packages/sympy/polys/domains/domain.py:1264\u001b[0m, in \u001b[0;36mDomain.cofactors\u001b[0;34m(self, a, b)\u001b[0m\n\u001b[1;32m   1262\u001b[0m gcd \u001b[39m=\u001b[39m \u001b[39mself\u001b[39m\u001b[39m.\u001b[39mgcd(a, b)\n\u001b[1;32m   1263\u001b[0m cfa \u001b[39m=\u001b[39m \u001b[39mself\u001b[39m\u001b[39m.\u001b[39mquo(a, gcd)\n\u001b[0;32m-> 1264\u001b[0m cfb \u001b[39m=\u001b[39m \u001b[39mself\u001b[39;49m\u001b[39m.\u001b[39;49mquo(b, gcd)\n\u001b[1;32m   1265\u001b[0m \u001b[39mreturn\u001b[39;00m gcd, cfa, cfb\n",
      "File \u001b[0;32m~/anaconda3/envs/mlscorecheck/lib/python3.10/site-packages/sympy/polys/domains/ring.py:28\u001b[0m, in \u001b[0;36mRing.quo\u001b[0;34m(self, a, b)\u001b[0m\n\u001b[1;32m     26\u001b[0m \u001b[39mdef\u001b[39;00m \u001b[39mquo\u001b[39m(\u001b[39mself\u001b[39m, a, b):\n\u001b[1;32m     27\u001b[0m \u001b[39m    \u001b[39m\u001b[39m\"\"\"Quotient of ``a`` and ``b``, implies ``__floordiv__``. \"\"\"\u001b[39;00m\n\u001b[0;32m---> 28\u001b[0m     \u001b[39mreturn\u001b[39;00m a \u001b[39m/\u001b[39;49m\u001b[39m/\u001b[39;49m b\n",
      "\u001b[0;31mKeyboardInterrupt\u001b[0m: "
     ]
    }
   ],
   "source": [
    "sympy.GroebnerBasis([tmp5, score1_eq, n_eq, p_eq], tp, tn, fp, fn)"
   ]
  },
  {
   "cell_type": "code",
   "execution_count": 112,
   "metadata": {},
   "outputs": [
    {
     "data": {
      "text/latex": [
       "$\\displaystyle dor \\left(n - tn\\right) \\left(p - tp\\right) - tn tp$"
      ],
      "text/plain": [
       "dor*(n - tn)*(p - tp) - tn*tp"
      ]
     },
     "execution_count": 112,
     "metadata": {},
     "output_type": "execute_result"
    }
   ],
   "source": [
    "score0_eq"
   ]
  },
  {
   "cell_type": "code",
   "execution_count": null,
   "metadata": {},
   "outputs": [],
   "source": []
  },
  {
   "cell_type": "code",
   "execution_count": null,
   "metadata": {},
   "outputs": [
    {
     "data": {
      "text/plain": [
       "True"
      ]
     },
     "execution_count": 15,
     "metadata": {},
     "output_type": "execute_result"
    }
   ],
   "source": [
    "gb.is_zero_dimensional"
   ]
  },
  {
   "cell_type": "code",
   "execution_count": null,
   "metadata": {},
   "outputs": [
    {
     "data": {
      "text/latex": [
       "$\\displaystyle \\operatorname{GroebnerBasis}\\left(\\left( - dor mcc^{2} n^{2} p^{2} - dor n^{3} p + fn \\left(dor mcc^{2} n^{2} p + dor n^{3}\\right) + fp^{3} \\left(dor^{2} mcc^{2} n + dor^{2} p - 2 dor mcc^{2} n - 2 dor p + mcc^{2} n + p\\right) + fp^{2} \\left(- dor^{2} mcc^{2} n^{2} + dor^{2} mcc^{2} n p - 2 dor^{2} n p + 3 dor mcc^{2} n^{2} + 3 dor n p - 2 mcc^{2} n^{2} - mcc^{2} n p - n p\\right) + fp \\left(- dor^{2} mcc^{2} n^{2} p + dor^{2} n^{2} p - dor mcc^{2} n^{3} + dor mcc^{2} n p^{2} + mcc^{2} n^{3} + mcc^{2} n^{2} p\\right), \\  - dor mcc^{2} n^{2} p^{2} + dor n^{2} p^{2} + fn^{2} \\left(dor mcc^{2} n p + dor n^{2} - mcc^{2} n p - n^{2}\\right) + fn \\left(dor mcc^{2} n^{2} p - dor mcc^{2} n p^{2} - 2 dor n^{2} p + mcc^{2} n^{2} p + mcc^{2} n p^{2}\\right) + fp^{2} \\left(dor mcc^{2} n p + dor p^{2} - mcc^{2} n p - p^{2}\\right) + fp \\left(- dor mcc^{2} n^{2} p + dor mcc^{2} n p^{2} - 2 dor n p^{2} + mcc^{2} n^{2} p + mcc^{2} n p^{2}\\right) - mcc^{2} n^{2} p^{2} + n^{2} p^{2}, \\  fn fp \\left(dor - 1\\right) + fn n + fp p - n p, \\  fn - p + tp, \\  fp - n + tn\\right), \\left( tp, \\  tn, \\  fn, \\  fp\\right)\\right)$"
      ],
      "text/plain": [
       "GroebnerBasis([-dor*mcc**2*n**2*p**2 - dor*n**3*p + fp**3*(dor**2*mcc**2*n + dor**2*p - 2*dor*mcc**2*n - 2*dor*p + mcc**2*n + p) + fp**2*(-dor**2*mcc**2*n**2 + dor**2*mcc**2*n*p - 2*dor**2*n*p + 3*dor*mcc**2*n**2 + 3*dor*n*p - 2*mcc**2*n**2 - mcc**2*n*p - n*p) + fn*(dor*mcc**2*n**2*p + dor*n**3) + fp*(-dor**2*mcc**2*n**2*p + dor**2*n**2*p - dor*mcc**2*n**3 + dor*mcc**2*n*p**2 + mcc**2*n**3 + mcc**2*n**2*p), -dor*mcc**2*n**2*p**2 - mcc**2*n**2*p**2 + dor*n**2*p**2 + n**2*p**2 + fn**2*(dor*mcc**2*n*p + dor*n**2 - mcc**2*n*p - n**2) + fp**2*(dor*mcc**2*n*p + dor*p**2 - mcc**2*n*p - p**2) + fn*(dor*mcc**2*n**2*p - dor*mcc**2*n*p**2 - 2*dor*n**2*p + mcc**2*n**2*p + mcc**2*n*p**2) + fp*(-dor*mcc**2*n**2*p + dor*mcc**2*n*p**2 - 2*dor*n*p**2 + mcc**2*n**2*p + mcc**2*n*p**2), fn*fp*(dor - 1) + fn*n + fp*p - n*p, fn - p + tp, fp - n + tn], tp, tn, fn, fp, domain='ZZ[p,n,dor,mcc]', order='grlex')"
      ]
     },
     "execution_count": 16,
     "metadata": {},
     "output_type": "execute_result"
    }
   ],
   "source": [
    "gb"
   ]
  },
  {
   "cell_type": "code",
   "execution_count": null,
   "metadata": {},
   "outputs": [
    {
     "data": {
      "text/latex": [
       "$\\displaystyle - dor mcc^{2} n^{2} p^{2} - dor n^{3} p + fn \\left(dor mcc^{2} n^{2} p + dor n^{3}\\right) + fp^{3} \\left(dor^{2} mcc^{2} n + dor^{2} p - 2 dor mcc^{2} n - 2 dor p + mcc^{2} n + p\\right) + fp^{2} \\left(- dor^{2} mcc^{2} n^{2} + dor^{2} mcc^{2} n p - 2 dor^{2} n p + 3 dor mcc^{2} n^{2} + 3 dor n p - 2 mcc^{2} n^{2} - mcc^{2} n p - n p\\right) + fp \\left(- dor^{2} mcc^{2} n^{2} p + dor^{2} n^{2} p - dor mcc^{2} n^{3} + dor mcc^{2} n p^{2} + mcc^{2} n^{3} + mcc^{2} n^{2} p\\right)$"
      ],
      "text/plain": [
       "-dor*mcc**2*n**2*p**2 - dor*n**3*p + fn*(dor*mcc**2*n**2*p + dor*n**3) + fp**3*(dor**2*mcc**2*n + dor**2*p - 2*dor*mcc**2*n - 2*dor*p + mcc**2*n + p) + fp**2*(-dor**2*mcc**2*n**2 + dor**2*mcc**2*n*p - 2*dor**2*n*p + 3*dor*mcc**2*n**2 + 3*dor*n*p - 2*mcc**2*n**2 - mcc**2*n*p - n*p) + fp*(-dor**2*mcc**2*n**2*p + dor**2*n**2*p - dor*mcc**2*n**3 + dor*mcc**2*n*p**2 + mcc**2*n**3 + mcc**2*n**2*p)"
      ]
     },
     "execution_count": 17,
     "metadata": {},
     "output_type": "execute_result"
    }
   ],
   "source": [
    "gb[0]"
   ]
  },
  {
   "cell_type": "code",
   "execution_count": null,
   "metadata": {},
   "outputs": [
    {
     "data": {
      "text/plain": [
       "GradedLexOrder()"
      ]
     },
     "execution_count": 18,
     "metadata": {},
     "output_type": "execute_result"
    }
   ],
   "source": [
    "gb.order"
   ]
  },
  {
   "cell_type": "code",
   "execution_count": null,
   "metadata": {},
   "outputs": [
    {
     "name": "stdout",
     "output_type": "stream",
     "text": [
      "tp**0*tn**0*fp**3*fn**0\n"
     ]
    }
   ],
   "source": [
    "print(sympy.Poly(gb[0], tp, tn, fp, fn).LM(order=gb.order))"
   ]
  },
  {
   "cell_type": "code",
   "execution_count": null,
   "metadata": {},
   "outputs": [
    {
     "name": "stdout",
     "output_type": "stream",
     "text": [
      "tp**0*tn**0*fp**3*fn**0\n"
     ]
    }
   ],
   "source": [
    "print(sympy.Poly(gb[0], tp, tn, fp, fn).LM())"
   ]
  },
  {
   "cell_type": "code",
   "execution_count": null,
   "metadata": {},
   "outputs": [
    {
     "data": {
      "text/latex": [
       "$\\displaystyle 0$"
      ],
      "text/plain": [
       "0"
      ]
     },
     "execution_count": 32,
     "metadata": {},
     "output_type": "execute_result"
    }
   ],
   "source": [
    "gb[0].coeff(sympy.Poly(gb[0], tp, tn, fp, fn).LM())"
   ]
  },
  {
   "cell_type": "code",
   "execution_count": null,
   "metadata": {},
   "outputs": [
    {
     "data": {
      "text/latex": [
       "$\\displaystyle 2 fp^{2}$"
      ],
      "text/plain": [
       "2*fp**2"
      ]
     },
     "execution_count": 59,
     "metadata": {},
     "output_type": "execute_result"
    }
   ],
   "source": [
    "sympy.Poly(2*fp**2*fn + fp*tp, tp, tn, fp, fn).as_expr().coeff(fn)"
   ]
  },
  {
   "cell_type": "code",
   "execution_count": null,
   "metadata": {},
   "outputs": [],
   "source": [
    "def collect_with_respect_to_vars(eq, vars):\n",
    "    assert isinstance(vars, list)\n",
    "    eq = eq.expand()\n",
    "    if len(vars) == 0:\n",
    "        return {1: eq}\n",
    "\n",
    "    var_map = eq.collect(vars[0], evaluate=False)\n",
    "    final_var_map = {}\n",
    "    for var_power in var_map:\n",
    "        sub_expression = var_map[var_power]\n",
    "        sub_var_map = collect_with_respect_to_vars(sub_expression, vars[1:])\n",
    "        for sub_var_power in sub_var_map:\n",
    "            final_var_map[var_power*sub_var_power] = sub_var_map[sub_var_power]\n",
    "    return final_var_map"
   ]
  },
  {
   "cell_type": "code",
   "execution_count": null,
   "metadata": {},
   "outputs": [
    {
     "data": {
      "text/plain": [
       "{fp*tp: 1, fn*fp**2: 2}"
      ]
     },
     "execution_count": 62,
     "metadata": {},
     "output_type": "execute_result"
    }
   ],
   "source": [
    "collect_with_respect_to_vars(2*fp**2*fn + fp*tp, [tp, tn, fp, fn])"
   ]
  },
  {
   "cell_type": "code",
   "execution_count": null,
   "metadata": {},
   "outputs": [],
   "source": [
    "vars = [tp, fp, tn, fn]"
   ]
  },
  {
   "cell_type": "code",
   "execution_count": null,
   "metadata": {},
   "outputs": [],
   "source": [
    "eq = 2*fp**2*fn + fp*tp"
   ]
  },
  {
   "cell_type": "code",
   "execution_count": null,
   "metadata": {},
   "outputs": [
    {
     "data": {
      "text/latex": [
       "$\\displaystyle 2 fn fp^{2} + fp tp$"
      ],
      "text/plain": [
       "2*fn*fp**2 + fp*tp"
      ]
     },
     "execution_count": 68,
     "metadata": {},
     "output_type": "execute_result"
    }
   ],
   "source": [
    "eq.expand()"
   ]
  },
  {
   "cell_type": "code",
   "execution_count": null,
   "metadata": {},
   "outputs": [
    {
     "data": {
      "text/plain": [
       "{tp: fp, 1: 2*fn*fp**2}"
      ]
     },
     "execution_count": 69,
     "metadata": {},
     "output_type": "execute_result"
    }
   ],
   "source": [
    "(2*fp**2*fn + fp*tp).collect(tp, evaluate=False)"
   ]
  },
  {
   "cell_type": "code",
   "execution_count": null,
   "metadata": {},
   "outputs": [
    {
     "data": {
      "text/plain": [
       "{fp**3: dor**2*mcc**2*n + dor**2*p - 2*dor*mcc**2*n - 2*dor*p + mcc**2*n + p,\n",
       " fp: -dor**2*mcc**2*n**2*p + dor**2*n**2*p - dor*mcc**2*n**3 + dor*mcc**2*n*p**2 + mcc**2*n**3 + mcc**2*n**2*p,\n",
       " fp**2: -dor**2*mcc**2*n**2 + dor**2*mcc**2*n*p - 2*dor**2*n*p + 3*dor*mcc**2*n**2 + 3*dor*n*p - 2*mcc**2*n**2 - mcc**2*n*p - n*p,\n",
       " fn: dor*mcc**2*n**2*p + dor*n**3,\n",
       " 1: -dor*mcc**2*n**2*p**2 - dor*n**3*p}"
      ]
     },
     "execution_count": 70,
     "metadata": {},
     "output_type": "execute_result"
    }
   ],
   "source": [
    "collect_with_respect_to_vars(gb[0], [tp, tn, fp, fn])"
   ]
  },
  {
   "cell_type": "code",
   "execution_count": null,
   "metadata": {},
   "outputs": [
    {
     "data": {
      "text/latex": [
       "$\\displaystyle - dor mcc^{2} n^{2} p^{2} - dor n^{3} p + fn \\left(dor mcc^{2} n^{2} p + dor n^{3}\\right) + fp^{3} \\left(dor^{2} mcc^{2} n + dor^{2} p - 2 dor mcc^{2} n - 2 dor p + mcc^{2} n + p\\right) + fp^{2} \\left(- dor^{2} mcc^{2} n^{2} + dor^{2} mcc^{2} n p - 2 dor^{2} n p + 3 dor mcc^{2} n^{2} + 3 dor n p - 2 mcc^{2} n^{2} - mcc^{2} n p - n p\\right) + fp \\left(- dor^{2} mcc^{2} n^{2} p + dor^{2} n^{2} p - dor mcc^{2} n^{3} + dor mcc^{2} n p^{2} + mcc^{2} n^{3} + mcc^{2} n^{2} p\\right)$"
      ],
      "text/plain": [
       "-dor*mcc**2*n**2*p**2 - dor*n**3*p + fn*(dor*mcc**2*n**2*p + dor*n**3) + fp**3*(dor**2*mcc**2*n + dor**2*p - 2*dor*mcc**2*n - 2*dor*p + mcc**2*n + p) + fp**2*(-dor**2*mcc**2*n**2 + dor**2*mcc**2*n*p - 2*dor**2*n*p + 3*dor*mcc**2*n**2 + 3*dor*n*p - 2*mcc**2*n**2 - mcc**2*n*p - n*p) + fp*(-dor**2*mcc**2*n**2*p + dor**2*n**2*p - dor*mcc**2*n**3 + dor*mcc**2*n*p**2 + mcc**2*n**3 + mcc**2*n**2*p)"
      ]
     },
     "execution_count": 21,
     "metadata": {},
     "output_type": "execute_result"
    }
   ],
   "source": [
    "gb[0]"
   ]
  },
  {
   "cell_type": "code",
   "execution_count": null,
   "metadata": {},
   "outputs": [
    {
     "data": {
      "text/plain": [
       "(fn*(dor*mcc**2*n**2*p + dor*n**3),\n",
       " fp*(-dor**2*mcc**2*n**2*p + dor**2*n**2*p - dor*mcc**2*n**3 + dor*mcc**2*n*p**2 + mcc**2*n**3 + mcc**2*n**2*p),\n",
       " fp**2*(-dor**2*mcc**2*n**2 + dor**2*mcc**2*n*p - 2*dor**2*n*p + 3*dor*mcc**2*n**2 + 3*dor*n*p - 2*mcc**2*n**2 - mcc**2*n*p - n*p),\n",
       " fp**3*(dor**2*mcc**2*n + dor**2*p - 2*dor*mcc**2*n - 2*dor*p + mcc**2*n + p),\n",
       " -dor*n**3*p,\n",
       " -dor*mcc**2*n**2*p**2)"
      ]
     },
     "execution_count": 20,
     "metadata": {},
     "output_type": "execute_result"
    }
   ],
   "source": [
    "gb[0].args"
   ]
  },
  {
   "cell_type": "code",
   "execution_count": null,
   "metadata": {},
   "outputs": [
    {
     "data": {
      "text/latex": [
       "$\\displaystyle dor^{2} mcc^{2} n + dor^{2} p - 2 dor mcc^{2} n - 2 dor p + mcc^{2} n + p$"
      ],
      "text/plain": [
       "dor**2*mcc**2*n + dor**2*p - 2*dor*mcc**2*n - 2*dor*p + mcc**2*n + p"
      ]
     },
     "execution_count": 36,
     "metadata": {},
     "output_type": "execute_result"
    }
   ],
   "source": [
    "gb[0].args[3]"
   ]
  },
  {
   "cell_type": "code",
   "execution_count": null,
   "metadata": {},
   "outputs": [
    {
     "data": {
      "text/latex": [
       "$\\displaystyle - dor mcc^{2} n^{2} p^{2} + dor n^{2} p^{2} + fn^{2} \\left(dor mcc^{2} n p + dor n^{2} - mcc^{2} n p - n^{2}\\right) + fn \\left(dor mcc^{2} n^{2} p - dor mcc^{2} n p^{2} - 2 dor n^{2} p + mcc^{2} n^{2} p + mcc^{2} n p^{2}\\right) + fp^{2} \\left(dor mcc^{2} n p + dor p^{2} - mcc^{2} n p - p^{2}\\right) + fp \\left(- dor mcc^{2} n^{2} p + dor mcc^{2} n p^{2} - 2 dor n p^{2} + mcc^{2} n^{2} p + mcc^{2} n p^{2}\\right) - mcc^{2} n^{2} p^{2} + n^{2} p^{2}$"
      ],
      "text/plain": [
       "-dor*mcc**2*n**2*p**2 + dor*n**2*p**2 + fn**2*(dor*mcc**2*n*p + dor*n**2 - mcc**2*n*p - n**2) + fn*(dor*mcc**2*n**2*p - dor*mcc**2*n*p**2 - 2*dor*n**2*p + mcc**2*n**2*p + mcc**2*n*p**2) + fp**2*(dor*mcc**2*n*p + dor*p**2 - mcc**2*n*p - p**2) + fp*(-dor*mcc**2*n**2*p + dor*mcc**2*n*p**2 - 2*dor*n*p**2 + mcc**2*n**2*p + mcc**2*n*p**2) - mcc**2*n**2*p**2 + n**2*p**2"
      ]
     },
     "execution_count": 117,
     "metadata": {},
     "output_type": "execute_result"
    }
   ],
   "source": [
    "gb[1]"
   ]
  },
  {
   "cell_type": "code",
   "execution_count": null,
   "metadata": {},
   "outputs": [
    {
     "name": "stdout",
     "output_type": "stream",
     "text": [
      "tp**0*tn**0*fp**2*fn**0\n"
     ]
    }
   ],
   "source": [
    "print(sympy.Poly(gb[1], tp, tn, fp, fn).LM(order=gb.order))"
   ]
  },
  {
   "cell_type": "code",
   "execution_count": null,
   "metadata": {},
   "outputs": [
    {
     "data": {
      "text/latex": [
       "$\\displaystyle dor mcc^{2} n p + dor p^{2} - mcc^{2} n p - p^{2}$"
      ],
      "text/plain": [
       "dor*mcc**2*n*p + dor*p**2 - mcc**2*n*p - p**2"
      ]
     },
     "execution_count": 106,
     "metadata": {},
     "output_type": "execute_result"
    }
   ],
   "source": [
    "gb[1].coeff(fp**2)"
   ]
  },
  {
   "cell_type": "code",
   "execution_count": null,
   "metadata": {},
   "outputs": [
    {
     "data": {
      "text/latex": [
       "$\\displaystyle fn fp \\left(dor - 1\\right) + fn n + fp p - n p$"
      ],
      "text/plain": [
       "fn*fp*(dor - 1) + fn*n + fp*p - n*p"
      ]
     },
     "execution_count": 118,
     "metadata": {},
     "output_type": "execute_result"
    }
   ],
   "source": [
    "gb[2]"
   ]
  },
  {
   "cell_type": "code",
   "execution_count": null,
   "metadata": {},
   "outputs": [
    {
     "name": "stdout",
     "output_type": "stream",
     "text": [
      "tp**0*tn**1*fp**0*fn**0\n"
     ]
    }
   ],
   "source": [
    "print(sympy.Poly(gb[4], tp, tn, fp, fn).LM(order=gb.order))"
   ]
  },
  {
   "cell_type": "code",
   "execution_count": null,
   "metadata": {},
   "outputs": [
    {
     "data": {
      "text/latex": [
       "$\\displaystyle dor - 1$"
      ],
      "text/plain": [
       "dor - 1"
      ]
     },
     "execution_count": 116,
     "metadata": {},
     "output_type": "execute_result"
    }
   ],
   "source": [
    "gb[2].coeff(fp*fn)"
   ]
  },
  {
   "cell_type": "code",
   "execution_count": null,
   "metadata": {},
   "outputs": [
    {
     "data": {
      "text/latex": [
       "$\\displaystyle fn - p + tp$"
      ],
      "text/plain": [
       "fn - p + tp"
      ]
     },
     "execution_count": 119,
     "metadata": {},
     "output_type": "execute_result"
    }
   ],
   "source": [
    "gb[3]"
   ]
  },
  {
   "cell_type": "code",
   "execution_count": null,
   "metadata": {},
   "outputs": [
    {
     "name": "stdout",
     "output_type": "stream",
     "text": [
      "tp**1*tn**0*fp**0*fn**0\n"
     ]
    }
   ],
   "source": [
    "print(sympy.Poly(gb[3], tp, tn, fp, fn).LM(order=gb.order))"
   ]
  },
  {
   "cell_type": "code",
   "execution_count": null,
   "metadata": {},
   "outputs": [
    {
     "data": {
      "text/latex": [
       "$\\displaystyle 1$"
      ],
      "text/plain": [
       "1"
      ]
     },
     "execution_count": 103,
     "metadata": {},
     "output_type": "execute_result"
    }
   ],
   "source": [
    "gb[3].coeff(tp)"
   ]
  },
  {
   "cell_type": "code",
   "execution_count": null,
   "metadata": {},
   "outputs": [
    {
     "name": "stdout",
     "output_type": "stream",
     "text": [
      "tp**0*tn**1*fp**0*fn**0\n"
     ]
    }
   ],
   "source": [
    "print(sympy.Poly(gb[4], tp, tn, fp, fn).LM())"
   ]
  },
  {
   "cell_type": "code",
   "execution_count": null,
   "metadata": {},
   "outputs": [
    {
     "data": {
      "text/latex": [
       "$\\displaystyle 1$"
      ],
      "text/plain": [
       "1"
      ]
     },
     "execution_count": 102,
     "metadata": {},
     "output_type": "execute_result"
    }
   ],
   "source": [
    "gb[4].coeff(tn)"
   ]
  },
  {
   "cell_type": "code",
   "execution_count": null,
   "metadata": {},
   "outputs": [
    {
     "data": {
      "text/latex": [
       "$\\displaystyle - dor mcc^{2} n^{2} p^{2} + dor n^{2} p^{2} + fn^{2} \\left(dor mcc^{2} n p + dor n^{2} - mcc^{2} n p - n^{2}\\right) + fn \\left(dor mcc^{2} n^{2} p - dor mcc^{2} n p^{2} - 2 dor n^{2} p + mcc^{2} n^{2} p + mcc^{2} n p^{2}\\right) + fp^{2} \\left(dor mcc^{2} n p + dor p^{2} - mcc^{2} n p - p^{2}\\right) + fp \\left(- dor mcc^{2} n^{2} p + dor mcc^{2} n p^{2} - 2 dor n p^{2} + mcc^{2} n^{2} p + mcc^{2} n p^{2}\\right) - mcc^{2} n^{2} p^{2} + n^{2} p^{2}$"
      ],
      "text/plain": [
       "-dor*mcc**2*n**2*p**2 + dor*n**2*p**2 + fn**2*(dor*mcc**2*n*p + dor*n**2 - mcc**2*n*p - n**2) + fn*(dor*mcc**2*n**2*p - dor*mcc**2*n*p**2 - 2*dor*n**2*p + mcc**2*n**2*p + mcc**2*n*p**2) + fp**2*(dor*mcc**2*n*p + dor*p**2 - mcc**2*n*p - p**2) + fp*(-dor*mcc**2*n**2*p + dor*mcc**2*n*p**2 - 2*dor*n*p**2 + mcc**2*n**2*p + mcc**2*n*p**2) - mcc**2*n**2*p**2 + n**2*p**2"
      ]
     },
     "execution_count": 90,
     "metadata": {},
     "output_type": "execute_result"
    }
   ],
   "source": [
    "gb[1]"
   ]
  },
  {
   "cell_type": "code",
   "execution_count": null,
   "metadata": {},
   "outputs": [
    {
     "data": {
      "text/latex": [
       "$\\displaystyle fn fp \\left(dor - 1\\right) + fn n + fp p - n p$"
      ],
      "text/plain": [
       "fn*fp*(dor - 1) + fn*n + fp*p - n*p"
      ]
     },
     "execution_count": 91,
     "metadata": {},
     "output_type": "execute_result"
    }
   ],
   "source": [
    "gb[2]"
   ]
  },
  {
   "cell_type": "code",
   "execution_count": null,
   "metadata": {},
   "outputs": [
    {
     "data": {
      "text/latex": [
       "$\\displaystyle fn - p + tp$"
      ],
      "text/plain": [
       "fn - p + tp"
      ]
     },
     "execution_count": 92,
     "metadata": {},
     "output_type": "execute_result"
    }
   ],
   "source": [
    "gb[3]"
   ]
  },
  {
   "cell_type": "code",
   "execution_count": null,
   "metadata": {},
   "outputs": [
    {
     "data": {
      "text/latex": [
       "$\\displaystyle fp - n + tn$"
      ],
      "text/plain": [
       "fp - n + tn"
      ]
     },
     "execution_count": 93,
     "metadata": {},
     "output_type": "execute_result"
    }
   ],
   "source": [
    "gb[4]"
   ]
  },
  {
   "cell_type": "code",
   "execution_count": null,
   "metadata": {},
   "outputs": [
    {
     "data": {
      "text/plain": [
       "[{fn: 0, fp: n, tn: 0, tp: p},\n",
       " {fn: p, fp: 0, tn: n, tp: 0},\n",
       " {fn: (-dor*mcc**2*n*p + dor*n*p - mcc**2*n*p - 2*mcc**2*p**2 - n*p - sqrt(n*p*(dor**2*mcc**4*n*p - 2*dor**2*mcc**2*n*p + dor**2*n*p - 2*dor*mcc**4*n*p - 4*dor*mcc**2*n**2 - 4*dor*mcc**2*n*p - 4*dor*mcc**2*p**2 - 2*dor*n*p + mcc**4*n*p - 2*mcc**2*n*p + n*p)))/(2*(dor*mcc**2*p + dor*n - mcc**2*p - n)),\n",
       "  fp: (-dor*mcc**2*n*p + dor*n*p - 2*mcc**2*n**2 - mcc**2*n*p - n*p + sqrt(dor**2*mcc**4*n**2*p**2 - 2*dor**2*mcc**2*n**2*p**2 + dor**2*n**2*p**2 - 2*dor*mcc**4*n**2*p**2 - 4*dor*mcc**2*n**3*p - 4*dor*mcc**2*n**2*p**2 - 4*dor*mcc**2*n*p**3 - 2*dor*n**2*p**2 + mcc**4*n**2*p**2 - 2*mcc**2*n**2*p**2 + n**2*p**2))/(2*dor*mcc**2*n + 2*dor*p - 2*mcc**2*n - 2*p),\n",
       "  tn: (2*dor*mcc**2*n**2 + dor*mcc**2*n*p + dor*n*p + mcc**2*n*p - n*p - sqrt(n*p*(dor**2*mcc**4*n*p - 2*dor**2*mcc**2*n*p + dor**2*n*p - 2*dor*mcc**4*n*p - 4*dor*mcc**2*n**2 - 4*dor*mcc**2*n*p - 4*dor*mcc**2*p**2 - 2*dor*n*p + mcc**4*n*p - 2*mcc**2*n*p + n*p)))/(2*(dor*mcc**2*n + dor*p - mcc**2*n - p)),\n",
       "  tp: (dor*mcc**2*n*p + 2*dor*mcc**2*p**2 + dor*n*p + mcc**2*n*p - n*p + sqrt(n*p*(dor**2*mcc**4*n*p - 2*dor**2*mcc**2*n*p + dor**2*n*p - 2*dor*mcc**4*n*p - 4*dor*mcc**2*n**2 - 4*dor*mcc**2*n*p - 4*dor*mcc**2*p**2 - 2*dor*n*p + mcc**4*n*p - 2*mcc**2*n*p + n*p)))/(2*(dor*mcc**2*p + dor*n - mcc**2*p - n))},\n",
       " {fn: (-dor*mcc**2*n*p + dor*n*p - mcc**2*n*p - 2*mcc**2*p**2 - n*p + sqrt(n*p*(dor**2*mcc**4*n*p - 2*dor**2*mcc**2*n*p + dor**2*n*p - 2*dor*mcc**4*n*p - 4*dor*mcc**2*n**2 - 4*dor*mcc**2*n*p - 4*dor*mcc**2*p**2 - 2*dor*n*p + mcc**4*n*p - 2*mcc**2*n*p + n*p)))/(2*(dor*mcc**2*p + dor*n - mcc**2*p - n)),\n",
       "  fp: (-dor*mcc**2*n*p + dor*n*p - 2*mcc**2*n**2 - mcc**2*n*p - n*p - sqrt(dor**2*mcc**4*n**2*p**2 - 2*dor**2*mcc**2*n**2*p**2 + dor**2*n**2*p**2 - 2*dor*mcc**4*n**2*p**2 - 4*dor*mcc**2*n**3*p - 4*dor*mcc**2*n**2*p**2 - 4*dor*mcc**2*n*p**3 - 2*dor*n**2*p**2 + mcc**4*n**2*p**2 - 2*mcc**2*n**2*p**2 + n**2*p**2))/(2*dor*mcc**2*n + 2*dor*p - 2*mcc**2*n - 2*p),\n",
       "  tn: (2*dor*mcc**2*n**2 + dor*mcc**2*n*p + dor*n*p + mcc**2*n*p - n*p + sqrt(n*p*(dor**2*mcc**4*n*p - 2*dor**2*mcc**2*n*p + dor**2*n*p - 2*dor*mcc**4*n*p - 4*dor*mcc**2*n**2 - 4*dor*mcc**2*n*p - 4*dor*mcc**2*p**2 - 2*dor*n*p + mcc**4*n*p - 2*mcc**2*n*p + n*p)))/(2*(dor*mcc**2*n + dor*p - mcc**2*n - p)),\n",
       "  tp: (dor*mcc**2*n*p + 2*dor*mcc**2*p**2 + dor*n*p + mcc**2*n*p - n*p - sqrt(n*p*(dor**2*mcc**4*n*p - 2*dor**2*mcc**2*n*p + dor**2*n*p - 2*dor*mcc**4*n*p - 4*dor*mcc**2*n**2 - 4*dor*mcc**2*n*p - 4*dor*mcc**2*p**2 - 2*dor*n*p + mcc**4*n*p - 2*mcc**2*n*p + n*p)))/(2*(dor*mcc**2*p + dor*n - mcc**2*p - n))}]"
      ]
     },
     "execution_count": 49,
     "metadata": {},
     "output_type": "execute_result"
    }
   ],
   "source": [
    "sympy.solve([score0_eq, score1_eq, n_eq, p_eq], tp, tn, fn, fp, dict=True)"
   ]
  },
  {
   "cell_type": "code",
   "execution_count": null,
   "metadata": {},
   "outputs": [
    {
     "name": "stdout",
     "output_type": "stream",
     "text": [
      "dor = Symbol('dor')\n",
      "mcc = Symbol('mcc')\n",
      "n = Symbol('n')\n",
      "p = Symbol('p')\n",
      "e = dor**2*mcc**2*n + dor**2*p - 2*dor*mcc**2*n - 2*dor*p + mcc**2*n + p\n"
     ]
    }
   ],
   "source": [
    "print(sympy.python(gb[0].coeff(fp**3)))"
   ]
  },
  {
   "cell_type": "code",
   "execution_count": null,
   "metadata": {},
   "outputs": [],
   "source": [
    "dor = score0_sym\n",
    "mcc = score1_sym\n",
    "p = symbols['p']\n",
    "n = symbols['n']"
   ]
  },
  {
   "cell_type": "code",
   "execution_count": null,
   "metadata": {},
   "outputs": [
    {
     "data": {
      "text/plain": [
       "[{dor: 1}, {n: -p/mcc**2}]"
      ]
     },
     "execution_count": 38,
     "metadata": {},
     "output_type": "execute_result"
    }
   ],
   "source": [
    "sympy.solve(dor**2*mcc**2*n + dor**2*p - 2*dor*mcc**2*n - 2*dor*p + mcc**2*n + p)"
   ]
  },
  {
   "cell_type": "code",
   "execution_count": null,
   "metadata": {},
   "outputs": [],
   "source": [
    "#ji*ppv - ji + ppv = 0\n",
    "#ji*ppv = ji - ppv"
   ]
  },
  {
   "cell_type": "code",
   "execution_count": null,
   "metadata": {},
   "outputs": [],
   "source": [
    "ji*ppv - ji + ppv = "
   ]
  },
  {
   "cell_type": "code",
   "execution_count": null,
   "metadata": {},
   "outputs": [
    {
     "data": {
      "text/plain": [
       "[{p: 0}, {tp: 0}]"
      ]
     },
     "execution_count": 145,
     "metadata": {},
     "output_type": "execute_result"
    }
   ],
   "source": [
    "sympy.solve(score1_exp * score0_exp - score1_exp + score0_exp)"
   ]
  },
  {
   "cell_type": "code",
   "execution_count": null,
   "metadata": {},
   "outputs": [],
   "source": []
  },
  {
   "cell_type": "code",
   "execution_count": null,
   "metadata": {},
   "outputs": [
    {
     "data": {
      "text/latex": [
       "$\\displaystyle \\operatorname{GroebnerBasis}\\left(\\left( fp \\left(npv - 1\\right) - n npv + n - npv p + npv tp, \\  fp - n + tn, \\  fn npv + fp \\left(1 - npv\\right) + n npv - n\\right), \\left( tp, \\  tn, \\  fn, \\  fp\\right)\\right)$"
      ],
      "text/plain": [
       "GroebnerBasis([fp*(npv - 1) - n*npv + n - npv*p + npv*tp, fp - n + tn, fn*npv + fp*(1 - npv) + n*npv - n], tp, tn, fn, fp, domain='ZZ[p,n,npv]', order='lex')"
      ]
     },
     "execution_count": 92,
     "metadata": {},
     "output_type": "execute_result"
    }
   ],
   "source": [
    "sympy.GroebnerBasis([npv_eq, n_eq, p_eq], tp, tn, fn, fp, order='lex')"
   ]
  },
  {
   "cell_type": "code",
   "execution_count": null,
   "metadata": {},
   "outputs": [
    {
     "data": {
      "text/plain": [
       "True"
      ]
     },
     "execution_count": 93,
     "metadata": {},
     "output_type": "execute_result"
    }
   ],
   "source": [
    "sympy.GroebnerBasis([spec_eq, npv_eq, n_eq, p_eq], tp, tn, fn, fp, order='lex').is_zero_dimensional"
   ]
  },
  {
   "cell_type": "code",
   "execution_count": null,
   "metadata": {},
   "outputs": [],
   "source": [
    "subst = {npv: 0}\n",
    "spec_eq_new = spec_eq.subs(subst)\n",
    "npv_eq_new = npv_eq.subs(subst)\n",
    "n_eq_new = n_eq.subs(subst)\n",
    "p_eq_new = p_eq.subs(subst)"
   ]
  },
  {
   "cell_type": "code",
   "execution_count": null,
   "metadata": {},
   "outputs": [
    {
     "data": {
      "text/latex": [
       "$\\displaystyle \\operatorname{GroebnerBasis}\\left(\\left( 1,\\right), \\left( tp, \\  tn, \\  fn, \\  fp\\right)\\right)$"
      ],
      "text/plain": [
       "GroebnerBasis([1], tp, tn, fn, fp, domain='ZZ[p,n,spec]', order='lex')"
      ]
     },
     "execution_count": 95,
     "metadata": {},
     "output_type": "execute_result"
    }
   ],
   "source": [
    "sympy.GroebnerBasis([spec_eq_new, npv_eq_new, n_eq_new, p_eq_new], tp, tn, fn, fp, order='lex')"
   ]
  },
  {
   "cell_type": "code",
   "execution_count": null,
   "metadata": {},
   "outputs": [
    {
     "data": {
      "text/plain": [
       "False"
      ]
     },
     "execution_count": 76,
     "metadata": {},
     "output_type": "execute_result"
    }
   ],
   "source": [
    "sympy.GroebnerBasis([spec_eq_new, npv_eq_new, n_eq_new, p_eq_new], tp, tn, fn, fp, order='lex').is_zero_dimensional"
   ]
  },
  {
   "cell_type": "code",
   "execution_count": null,
   "metadata": {},
   "outputs": [
    {
     "data": {
      "text/plain": [
       "((n + p)*(n*spec - tn)/n, -tn, -fp + n - tn, -fn + p - tp)"
      ]
     },
     "execution_count": 77,
     "metadata": {},
     "output_type": "execute_result"
    }
   ],
   "source": [
    "spec_eq_new, npv_eq_new, n_eq_new, p_eq_new"
   ]
  },
  {
   "cell_type": "code",
   "execution_count": null,
   "metadata": {},
   "outputs": [
    {
     "data": {
      "text/latex": [
       "$\\displaystyle \\operatorname{GroebnerBasis}\\left(\\left( - acc n - acc p + tp, \\  tn, \\  acc n + acc p + fn - p, \\  fp - n\\right), \\left( tp, \\  tn, \\  fn, \\  fp\\right)\\right)$"
      ],
      "text/plain": [
       "GroebnerBasis([-acc*n - acc*p + tp, tn, acc*n + acc*p + fn - p, fp - n], tp, tn, fn, fp, domain='ZZ[p,n,acc]', order='lex')"
      ]
     },
     "execution_count": 78,
     "metadata": {},
     "output_type": "execute_result"
    }
   ],
   "source": [
    "sympy.GroebnerBasis([acc_eq_new, npv_eq_new, n_eq_new, p_eq_new], tp, tn, fn, fp, order='lex')"
   ]
  },
  {
   "cell_type": "code",
   "execution_count": null,
   "metadata": {},
   "outputs": [
    {
     "data": {
      "text/plain": [
       "[((acc*n*npv - acc*n + acc*npv*p - acc*p + npv*p)/(2*npv - 1),\n",
       "  npv*(acc*n + acc*p - p)/(2*npv - 1),\n",
       "  -(acc*n*npv + acc*npv*p - 2*n*npv + n - npv*p)/(2*npv - 1),\n",
       "  -(npv - 1)*(acc*n + acc*p - p)/(2*npv - 1))]"
      ]
     },
     "execution_count": 79,
     "metadata": {},
     "output_type": "execute_result"
    }
   ],
   "source": [
    "sympy.solve_poly_system([acc_eq, npv_eq, n_eq, p_eq], tp, tn, fp, fn)"
   ]
  },
  {
   "cell_type": "code",
   "execution_count": null,
   "metadata": {},
   "outputs": [],
   "source": []
  }
 ],
 "metadata": {
  "kernelspec": {
   "display_name": "mlscorecheck",
   "language": "python",
   "name": "python3"
  },
  "language_info": {
   "codemirror_mode": {
    "name": "ipython",
    "version": 3
   },
   "file_extension": ".py",
   "mimetype": "text/x-python",
   "name": "python",
   "nbconvert_exporter": "python",
   "pygments_lexer": "ipython3",
   "version": "3.10.0"
  },
  "orig_nbformat": 4
 },
 "nbformat": 4,
 "nbformat_minor": 2
}
