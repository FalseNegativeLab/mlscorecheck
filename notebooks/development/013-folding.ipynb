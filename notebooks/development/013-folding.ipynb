{
 "cells": [
  {
   "cell_type": "code",
   "execution_count": 6,
   "metadata": {},
   "outputs": [],
   "source": [
    "import numpy as np\n",
    "from sklearn.model_selection import StratifiedKFold"
   ]
  },
  {
   "cell_type": "code",
   "execution_count": 28,
   "metadata": {},
   "outputs": [
    {
     "name": "stdout",
     "output_type": "stream",
     "text": [
      "[38  5]\n",
      "train [28  4] test [10  1]\n",
      "train [28  4] test [10  1]\n",
      "train [29  3] test [9 2]\n",
      "train [29  4] test [9 1]\n"
     ]
    }
   ],
   "source": [
    "N = 43\n",
    "N1 = 5\n",
    "N0 = N - N1\n",
    "N_SPLITS = 4\n",
    "\n",
    "y = np.hstack([np.repeat(0, N0), np.repeat(1, N1)])\n",
    "\n",
    "validator = StratifiedKFold(n_splits=N_SPLITS)\n",
    "\n",
    "print(np.bincount(y))\n",
    "\n",
    "for train, test in validator.split(y, y, y):\n",
    "    print('train', np.bincount(y[train]), 'test', np.bincount(y[test]))"
   ]
  },
  {
   "cell_type": "code",
   "execution_count": 30,
   "metadata": {},
   "outputs": [],
   "source": [
    "def sklearn_configurations(y, n_splits):\n",
    "    validator = StratifiedKFold(n_splits=n_splits)\n",
    "    \n",
    "    results = []\n",
    "    \n",
    "    for train, test in validator.split(y, y, y):\n",
    "        results.append(tuple(np.bincount(y[test]).tolist()))\n",
    "    \n",
    "    return results"
   ]
  },
  {
   "cell_type": "code",
   "execution_count": 38,
   "metadata": {},
   "outputs": [],
   "source": [
    "for _ in range(100):\n",
    "    N_SPLITS = np.random.randint(2, 40)\n",
    "    N = np.random.randint(N_SPLITS * 2, N_SPLITS*100)\n",
    "    N1 = np.random.randint(N_SPLITS, N - N_SPLITS + 1)\n",
    "    N0 = N - N1\n",
    "    \n",
    "    y = np.hstack([np.repeat(0, N0), np.repeat(1, N1)])\n",
    "    \n",
    "    if not sklearn_configurations(y, N_SPLITS) == configurations(y, N_SPLITS):\n",
    "        print(N_SPLITS, N, N1, N0)\n",
    "        print(sklearn_configurations(y, N_SPLITS))\n",
    "        print(configurations(y, N_SPLITS))\n",
    "        break"
   ]
  },
  {
   "cell_type": "code",
   "execution_count": 32,
   "metadata": {},
   "outputs": [],
   "source": [
    "assert sklearn_configurations(y, 4) == configurations(y, 4)"
   ]
  },
  {
   "cell_type": "code",
   "execution_count": 31,
   "metadata": {},
   "outputs": [
    {
     "data": {
      "text/plain": [
       "[(10, 1), (10, 1), (9, 2), (9, 1)]"
      ]
     },
     "execution_count": 31,
     "metadata": {},
     "output_type": "execute_result"
    }
   ],
   "source": [
    "sklearn_configurations(y, 4)"
   ]
  },
  {
   "cell_type": "code",
   "execution_count": 29,
   "metadata": {},
   "outputs": [
    {
     "data": {
      "text/plain": [
       "[(10, 1), (10, 1), (9, 2), (9, 1)]"
      ]
     },
     "execution_count": 29,
     "metadata": {},
     "output_type": "execute_result"
    }
   ],
   "source": [
    "configurations(y, 4)"
   ]
  },
  {
   "cell_type": "code",
   "execution_count": 24,
   "metadata": {},
   "outputs": [],
   "source": [
    "def configurations(y, n_splits):\n",
    "    n0, n1 = np.bincount(y)\n",
    "    n0_base = n0 // n_splits\n",
    "    n1_base = n1 // n_splits\n",
    "    n0_remainder = n0 % n_splits\n",
    "    n1_remainder = n1 % n_splits\n",
    "    \n",
    "    results = [(n0_base, n1_base)] * n_splits\n",
    "    \n",
    "    idx = 0\n",
    "    while n0_remainder > 0:\n",
    "        results[idx] = (results[idx][0] + 1, results[idx][1])\n",
    "        n0_remainder -= 1\n",
    "        idx += 1\n",
    "        idx = idx % n_splits\n",
    "    while n1_remainder > 0:\n",
    "        results[idx] = (results[idx][0], results[idx][1] + 1)\n",
    "        n1_remainder -= 1\n",
    "        idx += 1\n",
    "        idx = idx % n_splits\n",
    "    \n",
    "    return results\n",
    "    "
   ]
  },
  {
   "cell_type": "code",
   "execution_count": 58,
   "metadata": {},
   "outputs": [],
   "source": [
    "fold_setup = [{'p': 1, 'n': 2, 'score_bounds': {'acc': (0.5, 1.0)}, 'tptn_bounds': {'tp': 2, 'tn': 5}},\n",
    "                {'p': 3, 'n': 4, 'tptn_bounds': {'tp': 1, 'tn': 8}}]"
   ]
  },
  {
   "cell_type": "code",
   "execution_count": 59,
   "metadata": {},
   "outputs": [
    {
     "data": {
      "text/plain": [
       "[(1, 3),\n",
       " (2, 4),\n",
       " ({'acc': (0.5, 1.0)}, None),\n",
       " ({'tp': 2, 'tn': 5}, {'tp': 1, 'tn': 8})]"
      ]
     },
     "execution_count": 59,
     "metadata": {},
     "output_type": "execute_result"
    }
   ],
   "source": [
    "list(zip(*[[fold['p'], fold['n'], fold.get('score_bounds'), fold.get('tptn_bounds')] for fold in fold_setup]))"
   ]
  },
  {
   "cell_type": "code",
   "execution_count": null,
   "metadata": {},
   "outputs": [],
   "source": []
  }
 ],
 "metadata": {
  "kernelspec": {
   "display_name": "mlscorecheck",
   "language": "python",
   "name": "python3"
  },
  "language_info": {
   "codemirror_mode": {
    "name": "ipython",
    "version": 3
   },
   "file_extension": ".py",
   "mimetype": "text/x-python",
   "name": "python",
   "nbconvert_exporter": "python",
   "pygments_lexer": "ipython3",
   "version": "3.10.0"
  },
  "orig_nbformat": 4
 },
 "nbformat": 4,
 "nbformat_minor": 2
}
