{
 "cells": [
  {
   "cell_type": "code",
   "execution_count": 138,
   "metadata": {},
   "outputs": [],
   "source": [
    "import numpy as np\n",
    "import sympy as sp"
   ]
  },
  {
   "cell_type": "code",
   "execution_count": 169,
   "metadata": {},
   "outputs": [],
   "source": [
    "def R(x, lower, upper):\n",
    "    if np.sum(lower) > x or np.sum(upper) < x:\n",
    "        raise ValueError('infeasible configuration')\n",
    "\n",
    "    solution = lower.copy()\n",
    "    x = x - np.sum(lower)\n",
    "\n",
    "    idx = 0\n",
    "    while x > 0 and idx < len(lower):\n",
    "        if upper[idx] - lower[idx] < x:\n",
    "            solution[idx] = upper[idx]\n",
    "            x -= upper[idx] - lower[idx]\n",
    "        else:\n",
    "            solution[idx] = solution[idx] + x\n",
    "            x = 0.0\n",
    "        idx += 1\n",
    "    \n",
    "    return solution"
   ]
  },
  {
   "cell_type": "code",
   "execution_count": 196,
   "metadata": {},
   "outputs": [],
   "source": [
    "lower = np.array([0.3, 0.4, 0.6])\n",
    "upper = np.array([0.75, 0.8, 0.9])\n",
    "x = 0.8 * len(lower)"
   ]
  },
  {
   "cell_type": "code",
   "execution_count": 197,
   "metadata": {},
   "outputs": [
    {
     "data": {
      "text/plain": [
       "array([0.75, 0.8 , 0.85])"
      ]
     },
     "execution_count": 197,
     "metadata": {},
     "output_type": "execute_result"
    }
   ],
   "source": [
    "R(x, lower, upper)"
   ]
  },
  {
   "cell_type": "code",
   "execution_count": 198,
   "metadata": {},
   "outputs": [
    {
     "data": {
      "text/plain": [
       "array([0.85, 0.8 , 0.75])"
      ]
     },
     "execution_count": 198,
     "metadata": {},
     "output_type": "execute_result"
    }
   ],
   "source": [
    "1 - R(3 - x, 1 - np.flip(upper), 1 - np.flip(lower))"
   ]
  },
  {
   "cell_type": "code",
   "execution_count": 158,
   "metadata": {},
   "outputs": [],
   "source": [
    "p = sp.Symbol('p')\n",
    "n = sp.Symbol('n')\n",
    "fpr = sp.Symbol('fpr')\n",
    "tpr = sp.Symbol('tpr')\n",
    "acc = sp.Symbol('acc')\n",
    "auc = sp.Symbol('auc')\n",
    "\n",
    "auc0 = sp.solve(1 - fpr*(1 - tpr) - auc, tpr)[0]\n",
    "acc = (p * tpr + n * (1 - fpr))/(p + n)"
   ]
  },
  {
   "cell_type": "code",
   "execution_count": 162,
   "metadata": {},
   "outputs": [
    {
     "data": {
      "text/latex": [
       "$\\displaystyle \\frac{auc p}{n + p}$"
      ],
      "text/plain": [
       "auc*p/(n + p)"
      ]
     },
     "execution_count": 162,
     "metadata": {},
     "output_type": "execute_result"
    }
   ],
   "source": [
    "tmp.subs({fpr: 1})"
   ]
  },
  {
   "cell_type": "code",
   "execution_count": 163,
   "metadata": {},
   "outputs": [
    {
     "data": {
      "text/latex": [
       "$\\displaystyle \\frac{auc n}{n + p}$"
      ],
      "text/plain": [
       "auc*n/(n + p)"
      ]
     },
     "execution_count": 163,
     "metadata": {},
     "output_type": "execute_result"
    }
   ],
   "source": [
    "tmp.subs({fpr: 1 - auc})"
   ]
  },
  {
   "cell_type": "code",
   "execution_count": 160,
   "metadata": {},
   "outputs": [],
   "source": [
    "tmp = acc.subs({tpr: auc0})"
   ]
  },
  {
   "cell_type": "code",
   "execution_count": 155,
   "metadata": {},
   "outputs": [
    {
     "data": {
      "text/plain": [
       "[-sqrt(p/n), sqrt(p/n)]"
      ]
     },
     "execution_count": 155,
     "metadata": {},
     "output_type": "execute_result"
    }
   ],
   "source": [
    "sp.solve(sp.diff(tmp, fpr), fpr)"
   ]
  },
  {
   "cell_type": "code",
   "execution_count": 156,
   "metadata": {},
   "outputs": [
    {
     "data": {
      "text/latex": [
       "$\\displaystyle \\frac{- \\frac{2 p}{fpr^{2}} + \\frac{2 p \\left(fpr - 1\\right)}{fpr^{3}}}{n + p}$"
      ],
      "text/plain": [
       "(-2*p/fpr**2 + 2*p*(fpr - 1)/fpr**3)/(n + p)"
      ]
     },
     "execution_count": 156,
     "metadata": {},
     "output_type": "execute_result"
    }
   ],
   "source": [
    "sp.diff(sp.diff(tmp, fpr), fpr)"
   ]
  },
  {
   "cell_type": "code",
   "execution_count": 86,
   "metadata": {},
   "outputs": [],
   "source": [
    "p = 50\n",
    "n = 120\n",
    "\n",
    "def acc(auc):\n",
    "    return float(1 - np.sqrt(2*(1 - auc)*p*n)/(p + n)), 1 - min(p, n)**2/(2*p*n), max(p, n)/(p + n)"
   ]
  },
  {
   "cell_type": "code",
   "execution_count": 87,
   "metadata": {},
   "outputs": [
    {
     "data": {
      "text/plain": [
       "(0.70587764709647, 0.7916666666666666, 0.7058823529411765)"
      ]
     },
     "execution_count": 87,
     "metadata": {},
     "output_type": "execute_result"
    }
   ],
   "source": [
    "acc(0.79166)"
   ]
  },
  {
   "cell_type": "code",
   "execution_count": 127,
   "metadata": {},
   "outputs": [],
   "source": [
    "ps = np.array([17, 22, 19])\n",
    "ns = np.array([45, 41, 44])\n",
    "k = 3\n",
    "\n",
    "avg_auc = 0.8"
   ]
  },
  {
   "cell_type": "code",
   "execution_count": 128,
   "metadata": {},
   "outputs": [],
   "source": [
    "def avg_acc_cmax(ps, ns, aucs):\n",
    "    def acc_cmax(p, n, auc):\n",
    "        return (max(p, n) + min(p, n)*np.sqrt(2*auc - 1))/(p + n)\n",
    "    return np.mean([acc_cmax(p, n, auc) for p, n, auc in zip(ps, ns, aucs)])"
   ]
  },
  {
   "cell_type": "code",
   "execution_count": 129,
   "metadata": {},
   "outputs": [
    {
     "data": {
      "text/plain": [
       "np.float64(0.9377985564153045)"
      ]
     },
     "execution_count": 129,
     "metadata": {},
     "output_type": "execute_result"
    }
   ],
   "source": [
    "avg_acc_cmax(ps, ns, np.array([0.8, 0.86, 0.79]))"
   ]
  },
  {
   "cell_type": "code",
   "execution_count": 164,
   "metadata": {},
   "outputs": [],
   "source": [
    "def avg_acc_cmax_kfold(ps, ns, avg_auc):\n",
    "    w = np.array([min(p, n)/(p + n) for p, n in zip(ps, ns)])\n",
    "    c = (avg_auc - 0.5) * 2 * len(ps)\n",
    "    z = w / np.linalg.norm(w) * np.sqrt(c)\n",
    "    aucs = (z**2 + 1)/2\n",
    "\n",
    "    print(aucs)\n",
    "\n",
    "    return avg_acc_cmax(ps, ns, aucs)"
   ]
  },
  {
   "cell_type": "code",
   "execution_count": 166,
   "metadata": {},
   "outputs": [
    {
     "name": "stdout",
     "output_type": "stream",
     "text": [
      "[0.50037222 1.44925556 0.50037222]\n"
     ]
    },
    {
     "data": {
      "text/plain": [
       "np.float64(1.0565568844710629)"
      ]
     },
     "execution_count": 166,
     "metadata": {},
     "output_type": "execute_result"
    }
   ],
   "source": [
    "avg_acc_cmax_kfold([1, 10, 100], [100, 10, 1], np.mean([0.8, 0.86, 0.79]))"
   ]
  },
  {
   "cell_type": "code",
   "execution_count": 132,
   "metadata": {},
   "outputs": [],
   "source": [
    "import pulp as pl"
   ]
  },
  {
   "cell_type": "code",
   "execution_count": 133,
   "metadata": {},
   "outputs": [],
   "source": [
    "def avg_acc_max_kfold(ps, ns, avg_auc):\n",
    "    problem = pl.LpProblem('acc')\n",
    "    \n",
    "    aucs = [pl.LpVariable(f'auc{idx}') for idx in range(len(ps))]\n",
    "    ws = [min(p, n)/(p + n) for p, n in zip(ps, ns)]\n",
    "    maxs = [max(p, n)/(p + n) for p, n in zip(ps, ns)]\n",
    "\n",
    "    for auc in aucs:\n",
    "        problem += auc >= 0.0\n",
    "        problem += auc <= 1.0\n",
    "    \n",
    "    problem += sum(aucs)/len(ps) == avg_auc\n",
    "\n",
    "    problem += -sum(w*auc for w, auc in zip(ws, aucs))\n",
    "\n",
    "    problem.solve()\n",
    "\n",
    "    aucs = [variable.varValue for variable in problem.variables()]\n",
    "\n",
    "    print(ws)\n",
    "    print(aucs)\n",
    "\n",
    "    return np.mean([ma + w*auc for ma, w, auc in zip(maxs, ws, aucs)])"
   ]
  },
  {
   "cell_type": "code",
   "execution_count": 134,
   "metadata": {},
   "outputs": [
    {
     "name": "stdout",
     "output_type": "stream",
     "text": [
      "Welcome to the CBC MILP Solver \n",
      "Version: 2.10.3 \n",
      "Build Date: Dec 15 2019 \n",
      "\n",
      "command line - /home/gykovacs/anaconda3/envs/mlscorecheck/lib/python3.12/site-packages/pulp/solverdir/cbc/linux/64/cbc /tmp/c64ab868c2e44521a1e5082918e0a7d0-pulp.mps -timeMode elapsed -branch -printingOptions all -solution /tmp/c64ab868c2e44521a1e5082918e0a7d0-pulp.sol (default strategy 1)\n",
      "At line 2 NAME          MODEL\n",
      "At line 3 ROWS\n",
      "At line 12 COLUMNS\n",
      "At line 25 RHS\n",
      "At line 33 BOUNDS\n",
      "At line 37 ENDATA\n",
      "Problem MODEL has 7 rows, 3 columns and 9 elements\n",
      "Coin0008I MODEL read with 0 errors\n",
      "Option for timeMode changed from cpu to elapsed\n",
      "Presolve 1 (-6) rows, 3 (0) columns and 3 (-6) elements\n",
      "0  Obj 0 Primal inf 2.099999 (1) Dual inf 0.9249842 (3)\n",
      "1  Obj -0.67821301\n",
      "Optimal - objective value -0.67821301\n",
      "After Postsolve, objective -0.67821301, infeasibilities - dual 0 (0), primal 0 (0)\n",
      "Optimal objective -0.6782130056 - 1 iterations time 0.002, Presolve 0.00\n",
      "Option for printingOptions changed from normal to all\n",
      "Total time (CPU seconds):       0.00   (Wallclock seconds):       0.00\n",
      "\n",
      "[np.float64(0.27419354838709675), np.float64(0.3492063492063492), np.float64(0.30158730158730157)]\n",
      "[0.1, 1.0, 1.0]\n"
     ]
    },
    {
     "data": {
      "text/plain": [
       "np.float64(0.9177419354838711)"
      ]
     },
     "execution_count": 134,
     "metadata": {},
     "output_type": "execute_result"
    }
   ],
   "source": [
    "avg_acc_max_kfold(ps, ns, 0.7)"
   ]
  },
  {
   "cell_type": "code",
   "execution_count": 137,
   "metadata": {},
   "outputs": [
    {
     "name": "stdout",
     "output_type": "stream",
     "text": [
      "Welcome to the CBC MILP Solver \n",
      "Version: 2.10.3 \n",
      "Build Date: Dec 15 2019 \n",
      "\n",
      "command line - /home/gykovacs/anaconda3/envs/mlscorecheck/lib/python3.12/site-packages/pulp/solverdir/cbc/linux/64/cbc /tmp/5aad602a21c84544a223dbcc80700280-pulp.mps -timeMode elapsed -branch -printingOptions all -solution /tmp/5aad602a21c84544a223dbcc80700280-pulp.sol (default strategy 1)\n",
      "At line 2 NAME          MODEL\n",
      "At line 3 ROWS\n",
      "At line 12 COLUMNS\n",
      "At line 25 RHS\n",
      "At line 33 BOUNDS\n",
      "At line 37 ENDATA\n",
      "Problem MODEL has 7 rows, 3 columns and 9 elements\n",
      "Coin0008I MODEL read with 0 errors\n",
      "Option for timeMode changed from cpu to elapsed\n",
      "Presolve 1 (-6) rows, 3 (0) columns and 3 (-6) elements\n",
      "0  Obj 0 Primal inf 1.799999 (1) Dual inf 0.9249842 (3)\n",
      "1  Obj -0.59047619\n",
      "Optimal - objective value -0.59047619\n",
      "After Postsolve, objective -0.59047619, infeasibilities - dual 0 (0), primal 0 (0)\n",
      "Optimal objective -0.5904761905 - 1 iterations time 0.002, Presolve 0.00\n",
      "Option for printingOptions changed from normal to all\n",
      "Total time (CPU seconds):       0.00   (Wallclock seconds):       0.00\n",
      "\n",
      "[np.float64(0.27419354838709675), np.float64(0.3492063492063492), np.float64(0.30158730158730157)]\n",
      "[0.0, 1.0, 0.8]\n"
     ]
    }
   ],
   "source": [
    "problem = avg_acc_max_kfold(ps, ns, 0.6)"
   ]
  },
  {
   "cell_type": "code",
   "execution_count": 68,
   "metadata": {},
   "outputs": [
    {
     "data": {
      "text/plain": [
       "[auc0, auc1, auc2]"
      ]
     },
     "execution_count": 68,
     "metadata": {},
     "output_type": "execute_result"
    }
   ],
   "source": [
    "problem.variables()"
   ]
  },
  {
   "cell_type": "code",
   "execution_count": 69,
   "metadata": {},
   "outputs": [
    {
     "data": {
      "text/plain": [
       "acc:\n",
       "MINIMIZE\n",
       "-0.3333333333333333*auc0 + -0.3333333333333333*auc1 + -0.3333333333333333*auc2 + -0.0\n",
       "SUBJECT TO\n",
       "_C1: auc0 >= 0\n",
       "\n",
       "_C2: auc0 <= 1\n",
       "\n",
       "_C3: auc1 >= 0\n",
       "\n",
       "_C4: auc1 <= 1\n",
       "\n",
       "_C5: auc2 >= 0\n",
       "\n",
       "_C6: auc2 <= 1\n",
       "\n",
       "_C7: 0.333333333333 auc0 + 0.333333333333 auc1 + 0.333333333333 auc2 = 0.8\n",
       "\n",
       "VARIABLES\n",
       "auc0 free Continuous\n",
       "auc1 free Continuous\n",
       "auc2 free Continuous"
      ]
     },
     "execution_count": 69,
     "metadata": {},
     "output_type": "execute_result"
    }
   ],
   "source": [
    "problem"
   ]
  },
  {
   "cell_type": "code",
   "execution_count": 72,
   "metadata": {},
   "outputs": [
    {
     "data": {
      "text/plain": [
       "0.4"
      ]
     },
     "execution_count": 72,
     "metadata": {},
     "output_type": "execute_result"
    }
   ],
   "source": [
    "problem.variables()[2].varValue"
   ]
  },
  {
   "cell_type": "code",
   "execution_count": 50,
   "metadata": {},
   "outputs": [
    {
     "name": "stdout",
     "output_type": "stream",
     "text": [
      "Welcome to the CBC MILP Solver \n",
      "Version: 2.10.3 \n",
      "Build Date: Dec 15 2019 \n",
      "\n",
      "command line - /home/gykovacs/anaconda3/envs/mlscorecheck/lib/python3.12/site-packages/pulp/solverdir/cbc/linux/64/cbc /tmp/76c29bb6f1eb4e40add8ac64a68304c4-pulp.mps -timeMode elapsed -branch -printingOptions all -solution /tmp/76c29bb6f1eb4e40add8ac64a68304c4-pulp.sol (default strategy 1)\n",
      "At line 2 NAME          MODEL\n",
      "At line 3 ROWS\n",
      "At line 12 COLUMNS\n",
      "At line 25 RHS\n",
      "At line 33 BOUNDS\n",
      "At line 37 ENDATA\n",
      "Problem MODEL has 7 rows, 3 columns and 9 elements\n",
      "Coin0008I MODEL read with 0 errors\n",
      "Option for timeMode changed from cpu to elapsed\n",
      "Presolve 0 (-7) rows, 0 (-3) columns and 0 (-9) elements\n",
      "Empty problem - 0 rows, 0 columns and 0 elements\n",
      "Optimal - objective value -0.26666667\n",
      "After Postsolve, objective -0.26666667, infeasibilities - dual 0 (0), primal 0 (0)\n",
      "Optimal objective -0.2666666667 - 0 iterations time 0.002, Presolve 0.00\n",
      "Option for printingOptions changed from normal to all\n",
      "Total time (CPU seconds):       0.00   (Wallclock seconds):       0.00\n",
      "\n"
     ]
    }
   ],
   "source": [
    "solution = problem.solve()"
   ]
  },
  {
   "cell_type": "code",
   "execution_count": null,
   "metadata": {},
   "outputs": [],
   "source": []
  }
 ],
 "metadata": {
  "kernelspec": {
   "display_name": "mlscorecheck",
   "language": "python",
   "name": "python3"
  },
  "language_info": {
   "codemirror_mode": {
    "name": "ipython",
    "version": 3
   },
   "file_extension": ".py",
   "mimetype": "text/x-python",
   "name": "python",
   "nbconvert_exporter": "python",
   "pygments_lexer": "ipython3",
   "version": "3.12.0"
  }
 },
 "nbformat": 4,
 "nbformat_minor": 2
}
