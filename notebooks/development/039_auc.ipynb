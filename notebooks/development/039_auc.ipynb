{
 "cells": [
  {
   "cell_type": "code",
   "execution_count": 365,
   "metadata": {},
   "outputs": [],
   "source": [
    "import matplotlib.pyplot as plt\n",
    "import numpy as np\n",
    "from common_datasets.binary_classification import load_glass0\n",
    "from sklearn.ensemble import RandomForestClassifier\n",
    "from sklearn.metrics import accuracy_score, roc_auc_score, roc_curve"
   ]
  },
  {
   "cell_type": "code",
   "execution_count": 459,
   "metadata": {},
   "outputs": [
    {
     "data": {
      "text/plain": [
       "(70, 144, 214, 214)"
      ]
     },
     "execution_count": 459,
     "metadata": {},
     "output_type": "execute_result"
    }
   ],
   "source": [
    "dataset = load_glass0()\n",
    "X = dataset['data'][:, :2]\n",
    "y = dataset['target']\n",
    "rf = RandomForestClassifier(max_depth=5).fit(X, y)\n",
    "y_pred = rf.predict_proba(X)[:, 1]\n",
    "y_label = y_pred > 0.5\n",
    "\n",
    "p = np.sum(y)\n",
    "n = len(y) - np.sum(y)\n",
    "\n",
    "p, n, len(y), len(y_pred)"
   ]
  },
  {
   "cell_type": "code",
   "execution_count": 460,
   "metadata": {},
   "outputs": [
    {
     "data": {
      "text/plain": [
       "(0.9826388888888888, 0.9018691588785047)"
      ]
     },
     "execution_count": 460,
     "metadata": {},
     "output_type": "execute_result"
    }
   ],
   "source": [
    "roc_auc_score(y, y_pred), accuracy_score(y, y_label)"
   ]
  },
  {
   "cell_type": "code",
   "execution_count": 461,
   "metadata": {},
   "outputs": [],
   "source": [
    "acc = accuracy_score(y, y_label)\n",
    "sens = np.sum((y == y_label) & (y == 1)) / np.sum(y)\n",
    "spec = np.sum((y == y_label) & (y == 0)) / (len(y) - np.sum(y))"
   ]
  },
  {
   "cell_type": "code",
   "execution_count": 462,
   "metadata": {},
   "outputs": [],
   "source": [
    "fpr, tpr, thresholds = roc_curve(y, y_pred)"
   ]
  },
  {
   "cell_type": "code",
   "execution_count": 463,
   "metadata": {},
   "outputs": [],
   "source": [
    "def max_acc_sens_spec(y_true, y_pred, p, n):\n",
    "    thresholds = np.unique(y_pred)\n",
    "    max_acc = 0.0\n",
    "    sens = 0.0\n",
    "    spec = 0.0\n",
    "    for th in thresholds:\n",
    "        tp = np.sum((y_true == 1) & (y_pred > th))\n",
    "        tn = np.sum((y_true == 0) & (y_pred <= th))\n",
    "        acc = (tp + tn) / (p + n)\n",
    "        if acc > max_acc:\n",
    "            max_acc = acc\n",
    "            sens = tp / p\n",
    "            spec = tn / n\n",
    "\n",
    "    return max_acc, sens, spec"
   ]
  },
  {
   "cell_type": "code",
   "execution_count": 464,
   "metadata": {},
   "outputs": [],
   "source": [
    "def fpr_at_sens_1(acc, p, n):\n",
    "    return 1.0 - (acc * (p + n) - p) / n"
   ]
  },
  {
   "cell_type": "code",
   "execution_count": 465,
   "metadata": {},
   "outputs": [],
   "source": [
    "def sens_iso_acc(acc, fpr, p, n):\n",
    "    sens = fpr * n / p + acc * (p + n) / p - n / p\n",
    "    n_valid = np.sum(sens <= 1.0)\n",
    "    fpr = fpr[:n_valid]\n",
    "    sens = sens[:n_valid]\n",
    "    n_valid = np.sum(sens < 0.0)\n",
    "    fpr = fpr[n_valid:]\n",
    "    sens = sens[n_valid:]\n",
    "    return fpr, sens"
   ]
  },
  {
   "cell_type": "code",
   "execution_count": 466,
   "metadata": {},
   "outputs": [],
   "source": [
    "def extend_fpr_with_sens_1(fpr, acc, p, n):\n",
    "    fpr_to_add = fpr_at_sens_1(acc, p, n)\n",
    "    fpr = np.sorted(np.hstack([fpr, [fpr_to_add]]))\n",
    "    return fpr"
   ]
  },
  {
   "cell_type": "code",
   "execution_count": 467,
   "metadata": {},
   "outputs": [],
   "source": [
    "def roc_curve_own(y_true, y_pred, n_steps=10000):\n",
    "    ths = list(reversed(np.linspace(0, 1.0, n_steps, endpoint=True)))\n",
    "    tpr = []\n",
    "    fpr = []\n",
    "    for th in ths:\n",
    "        tpr.append(np.sum((y_pred >= th) & (y_true == 1)) / np.sum(y))\n",
    "        fpr.append(1.0 - np.sum((y_pred < th) & (y_true == 0)) / (len(y) - np.sum(y)))\n",
    "\n",
    "    return np.array(fpr), np.array(tpr), np.array(ths)"
   ]
  },
  {
   "cell_type": "code",
   "execution_count": 468,
   "metadata": {},
   "outputs": [
    {
     "data": {
      "text/plain": [
       "0.14583333333333337"
      ]
     },
     "execution_count": 468,
     "metadata": {},
     "output_type": "execute_result"
    }
   ],
   "source": [
    "fpr_at_sens_1(acc, p, n)"
   ]
  },
  {
   "cell_type": "code",
   "execution_count": 469,
   "metadata": {},
   "outputs": [
    {
     "data": {
      "text/plain": [
       "(214, 214)"
      ]
     },
     "execution_count": 469,
     "metadata": {},
     "output_type": "execute_result"
    }
   ],
   "source": [
    "len(y), len(y_pred)"
   ]
  },
  {
   "cell_type": "code",
   "execution_count": 470,
   "metadata": {},
   "outputs": [],
   "source": [
    "fpr, tpr, thresholds = roc_curve_own(y, y_pred)"
   ]
  },
  {
   "cell_type": "code",
   "execution_count": 471,
   "metadata": {},
   "outputs": [
    {
     "data": {
      "text/plain": [
       "(0.9018691588785047, 0.7285714285714285, 0.01388888888888884)"
      ]
     },
     "execution_count": 471,
     "metadata": {},
     "output_type": "execute_result"
    }
   ],
   "source": [
    "acc, sens, 1.0 - spec"
   ]
  },
  {
   "cell_type": "code",
   "execution_count": 483,
   "metadata": {},
   "outputs": [],
   "source": [
    "acc, sens, spec = max_acc_sens_spec(y, y_pred, p, n)"
   ]
  },
  {
   "cell_type": "code",
   "execution_count": 484,
   "metadata": {},
   "outputs": [
    {
     "data": {
      "text/plain": [
       "(0.9485981308411215, 0.9428571428571428, 0.9513888888888888)"
      ]
     },
     "execution_count": 484,
     "metadata": {},
     "output_type": "execute_result"
    }
   ],
   "source": [
    "acc, sens, spec"
   ]
  },
  {
   "cell_type": "code",
   "execution_count": 485,
   "metadata": {},
   "outputs": [
    {
     "data": {
      "text/plain": [
       "0.9826388888888888"
      ]
     },
     "execution_count": 485,
     "metadata": {},
     "output_type": "execute_result"
    }
   ],
   "source": [
    "auc = roc_auc_score(y, y_pred)\n",
    "auc"
   ]
  },
  {
   "cell_type": "code",
   "execution_count": 486,
   "metadata": {},
   "outputs": [
    {
     "data": {
      "text/plain": [
       "(0.9471230158730158, 0.9972222222222222)"
      ]
     },
     "execution_count": 486,
     "metadata": {},
     "output_type": "execute_result"
    }
   ],
   "source": [
    "sens*spec + (1.0 - sens)*spec/2 + (1.0 - spec)*sens/2, 1.0 - (1.0 - sens)*(1.0 - spec)"
   ]
  },
  {
   "cell_type": "code",
   "execution_count": 487,
   "metadata": {},
   "outputs": [],
   "source": [
    "def fpr_max(highest_acc, p, n):\n",
    "    return 1.0 - (highest_acc*(p + n) - p) / n\n",
    "\n",
    "def auc_upper(highest_acc, p, n, fpr_max_):\n",
    "    return (highest_acc * (p + n) / p - n / p) * fpr_max_ + n / p * (fpr_max_**2 / 2) + (1.0 - fpr_max_)"
   ]
  },
  {
   "cell_type": "code",
   "execution_count": 488,
   "metadata": {},
   "outputs": [
    {
     "data": {
      "text/plain": [
       "0.9939980158730158"
      ]
     },
     "execution_count": 488,
     "metadata": {},
     "output_type": "execute_result"
    }
   ],
   "source": [
    "auc_upper(acc, p, n, fpr_max(acc, p, n))"
   ]
  },
  {
   "cell_type": "code",
   "execution_count": 474,
   "metadata": {},
   "outputs": [
    {
     "data": {
      "text/plain": [
       "<matplotlib.legend.Legend at 0x7f474c756560>"
      ]
     },
     "execution_count": 474,
     "metadata": {},
     "output_type": "execute_result"
    },
    {
     "data": {
      "image/png": "[encoded data removed]",
      "text/plain": [
       "<Figure size 640x480 with 1 Axes>"
      ]
     },
     "metadata": {},
     "output_type": "display_data"
    }
   ],
   "source": [
    "plt.plot(fpr, tpr, label='roc')\n",
    "plt.plot(*sens_iso_acc(acc, fpr, np.sum(y), len(y) - np.sum(y)), label='iso-acc')\n",
    "plt.legend()"
   ]
  },
  {
   "cell_type": "code",
   "execution_count": null,
   "metadata": {},
   "outputs": [
    {
     "data": {
      "text/plain": [
       "array([1.00000000e+00, 9.99899990e-01, 9.99799980e-01, ...,\n",
       "       2.00020002e-04, 1.00010001e-04, 0.00000000e+00])"
      ]
     },
     "execution_count": 419,
     "metadata": {},
     "output_type": "execute_result"
    }
   ],
   "source": [
    "thresholds"
   ]
  },
  {
   "cell_type": "code",
   "execution_count": null,
   "metadata": {},
   "outputs": [
    {
     "data": {
      "text/plain": [
       "(array([0., 0., 0., ..., 1., 1., 1.]),\n",
       " array([0., 0., 0., ..., 1., 1., 1.]),\n",
       " array([1.00000000e+00, 9.99899990e-01, 9.99799980e-01, ...,\n",
       "        2.00020002e-04, 1.00010001e-04, 0.00000000e+00]))"
      ]
     },
     "execution_count": 420,
     "metadata": {},
     "output_type": "execute_result"
    }
   ],
   "source": [
    "fpr, tpr, thresholds"
   ]
  },
  {
   "cell_type": "code",
   "execution_count": null,
   "metadata": {},
   "outputs": [
    {
     "data": {
      "text/plain": [
       "(1.0, 0.5138888888888888, 70, 214)"
      ]
     },
     "execution_count": 421,
     "metadata": {},
     "output_type": "execute_result"
    }
   ],
   "source": [
    "th = 0.08341382\n",
    "np.sum((y_pred > th) & (y == 1)) / np.sum(y), 1.0 - np.sum((y_pred <= th) & (y == 0)) / (len(y) - np.sum(y)), np.sum(y), len(y - np.sum(y))"
   ]
  },
  {
   "cell_type": "code",
   "execution_count": null,
   "metadata": {},
   "outputs": [],
   "source": [
    "auc = 0.5\n",
    "\n",
    "while auc < 0.8:\n",
    "    y_test = np.random.randint(0, 2, 30)\n",
    "    y_pred = np.random.random_sample(30)\n",
    "\n",
    "    auc = roc_auc_score(y_test, y_pred)"
   ]
  },
  {
   "cell_type": "code",
   "execution_count": null,
   "metadata": {},
   "outputs": [
    {
     "data": {
      "text/plain": [
       "0.8803827751196172"
      ]
     },
     "execution_count": 423,
     "metadata": {},
     "output_type": "execute_result"
    }
   ],
   "source": [
    "auc"
   ]
  },
  {
   "cell_type": "code",
   "execution_count": null,
   "metadata": {},
   "outputs": [
    {
     "data": {
      "text/plain": [
       "0.8666666666666667"
      ]
     },
     "execution_count": 424,
     "metadata": {},
     "output_type": "execute_result"
    }
   ],
   "source": [
    "highest_acc = 0.0\n",
    "\n",
    "for threshold in np.linspace(0.0, 1.0, 1000):\n",
    "    p = np.sum(y_test == 1)\n",
    "    n = len(y_test) - p\n",
    "    tp = np.sum((y_pred >= threshold) & (y_test == 1))\n",
    "    tn = np.sum((y_pred < threshold) & (y_test == 0))\n",
    "\n",
    "    tmp_acc = (tp + tn)/(p + n)\n",
    "    if tmp_acc > highest_acc:\n",
    "        highest_acc = tmp_acc\n",
    "\n",
    "highest_acc"
   ]
  },
  {
   "cell_type": "code",
   "execution_count": null,
   "metadata": {},
   "outputs": [
    {
     "data": {
      "text/plain": [
       "(19, 12, 11, 10)"
      ]
     },
     "execution_count": 425,
     "metadata": {},
     "output_type": "execute_result"
    }
   ],
   "source": [
    "p = np.sum(y_test == 1)\n",
    "n = len(y_test) - p\n",
    "tp = np.sum((y_pred >= 0.5) & (y_test == 1))\n",
    "tn = np.sum((y_pred < 0.5) & (y_test == 0))\n",
    "\n",
    "p, tp, n, tn"
   ]
  },
  {
   "cell_type": "code",
   "execution_count": null,
   "metadata": {},
   "outputs": [],
   "source": [
    "def fpr_max(highest_acc, p, n):\n",
    "    return 1.0 - (highest_acc*(p + n) - p) / n\n",
    "\n",
    "def auc_upper(highest_acc, p, n, fpr_max_):\n",
    "    return (highest_acc * (p + n) / p - n / p) * fpr_max_ + n / p * (fpr_max_**2 / 2) + (1.0 - fpr_max_)"
   ]
  },
  {
   "cell_type": "code",
   "execution_count": null,
   "metadata": {},
   "outputs": [],
   "source": [
    "def auc_upper(highest_acc, p, n, fpr_max_):\n",
    "    return (highest_acc * (p + n) / p - n / p) * fpr_max_ + n / p * (fpr_max_**2 / 2) + (1.0 - fpr_max_)"
   ]
  },
  {
   "cell_type": "code",
   "execution_count": null,
   "metadata": {},
   "outputs": [
    {
     "data": {
      "text/plain": [
       "0.1322314049586777"
      ]
     },
     "execution_count": 428,
     "metadata": {},
     "output_type": "execute_result"
    }
   ],
   "source": [
    "fpr_max(highest_acc, p, n)**2"
   ]
  },
  {
   "cell_type": "code",
   "execution_count": null,
   "metadata": {},
   "outputs": [
    {
     "data": {
      "text/plain": [
       "0.9617224880382775"
      ]
     },
     "execution_count": 429,
     "metadata": {},
     "output_type": "execute_result"
    }
   ],
   "source": [
    "auc_upper(highest_acc, p, n, fpr_max_=fpr_max(highest_acc, p, n))"
   ]
  },
  {
   "cell_type": "code",
   "execution_count": null,
   "metadata": {},
   "outputs": [
    {
     "data": {
      "text/plain": [
       "1.0789473684210527"
      ]
     },
     "execution_count": 430,
     "metadata": {},
     "output_type": "execute_result"
    }
   ],
   "source": [
    "highest_acc * (p + n) / p - (n/(2*p))"
   ]
  },
  {
   "cell_type": "code",
   "execution_count": null,
   "metadata": {},
   "outputs": [],
   "source": [
    "def se(acc, fpr, p, n):\n",
    "    return (acc*(p + n) - (n*(1 - fpr)))/p"
   ]
  },
  {
   "cell_type": "code",
   "execution_count": null,
   "metadata": {},
   "outputs": [
    {
     "data": {
      "text/plain": [
       "1.0"
      ]
     },
     "execution_count": 432,
     "metadata": {},
     "output_type": "execute_result"
    }
   ],
   "source": [
    "se(highest_acc, fpr_max(highest_acc, p, n), p, n)"
   ]
  },
  {
   "cell_type": "code",
   "execution_count": null,
   "metadata": {},
   "outputs": [
    {
     "data": {
      "text/plain": [
       "(0.3256554449186028, 0.36363636363636365)"
      ]
     },
     "execution_count": 433,
     "metadata": {},
     "output_type": "execute_result"
    }
   ],
   "source": [
    "ls = np.linspace(0.0, 1.0, 1000)\n",
    "ls = ls[ls <= fpr_max(highest_acc, p, n)]\n",
    "np.sum(se(highest_acc, ls, p, n) * 1e-3), fpr_max(highest_acc, p, n)"
   ]
  },
  {
   "cell_type": "code",
   "execution_count": null,
   "metadata": {},
   "outputs": [
    {
     "data": {
      "text/plain": [
       "0.9617224880382775"
      ]
     },
     "execution_count": 434,
     "metadata": {},
     "output_type": "execute_result"
    }
   ],
   "source": [
    "auc_upper(highest_acc, p, n, fpr_max(highest_acc, p, n))"
   ]
  },
  {
   "cell_type": "code",
   "execution_count": null,
   "metadata": {},
   "outputs": [],
   "source": []
  },
  {
   "cell_type": "code",
   "execution_count": null,
   "metadata": {},
   "outputs": [],
   "source": []
  },
  {
   "cell_type": "code",
   "execution_count": null,
   "metadata": {},
   "outputs": [
    {
     "data": {
      "text/plain": [
       "0.6363636363636364"
      ]
     },
     "execution_count": 435,
     "metadata": {},
     "output_type": "execute_result"
    }
   ],
   "source": [
    "se(highest_acc, 0, n, p)"
   ]
  },
  {
   "cell_type": "code",
   "execution_count": null,
   "metadata": {},
   "outputs": [],
   "source": [
    "se_tmp = se(highest_acc, 0.2, n, p)"
   ]
  },
  {
   "cell_type": "code",
   "execution_count": null,
   "metadata": {},
   "outputs": [
    {
     "data": {
      "text/plain": [
       "0.9151515151515152"
      ]
     },
     "execution_count": 437,
     "metadata": {},
     "output_type": "execute_result"
    }
   ],
   "source": [
    "(se_tmp*p + n*(1 - 0.2)) / (p + n)"
   ]
  },
  {
   "cell_type": "code",
   "execution_count": null,
   "metadata": {},
   "outputs": [
    {
     "data": {
      "text/plain": [
       "(0.631578947368421, 0.9090909090909091)"
      ]
     },
     "execution_count": 438,
     "metadata": {},
     "output_type": "execute_result"
    }
   ],
   "source": [
    "sens = tp/p\n",
    "spec = tn/n\n",
    "sens, spec"
   ]
  },
  {
   "cell_type": "code",
   "execution_count": null,
   "metadata": {},
   "outputs": [],
   "source": [
    "auc_lower = sens*spec\n",
    "auc_upper = 1.0 - (1.0 + sens*spec - sens - spec)"
   ]
  },
  {
   "cell_type": "code",
   "execution_count": null,
   "metadata": {},
   "outputs": [
    {
     "data": {
      "text/plain": [
       "(0.5741626794258373, 0.9665071770334929)"
      ]
     },
     "execution_count": 440,
     "metadata": {},
     "output_type": "execute_result"
    }
   ],
   "source": [
    "auc_lower, auc_upper"
   ]
  },
  {
   "cell_type": "code",
   "execution_count": null,
   "metadata": {},
   "outputs": [],
   "source": []
  },
  {
   "cell_type": "code",
   "execution_count": null,
   "metadata": {},
   "outputs": [],
   "source": [
    "mask0 = y_test == 0\n",
    "mask1 = ~mask0"
   ]
  },
  {
   "cell_type": "code",
   "execution_count": null,
   "metadata": {},
   "outputs": [
    {
     "data": {
      "text/plain": [
       "209"
      ]
     },
     "execution_count": 442,
     "metadata": {},
     "output_type": "execute_result"
    }
   ],
   "source": [
    "(np.sum(y_test == 0) * np.sum(y_test == 1))"
   ]
  },
  {
   "cell_type": "code",
   "execution_count": null,
   "metadata": {},
   "outputs": [],
   "source": [
    "y_pred_0 = y_pred[mask0]\n",
    "y_pred_1 = y_pred[mask1]\n",
    "\n",
    "y_pred_0 = np.sort(y_pred_0)\n",
    "y_pred_1 = np.sort(y_pred_1)"
   ]
  },
  {
   "cell_type": "code",
   "execution_count": null,
   "metadata": {},
   "outputs": [
    {
     "data": {
      "text/plain": [
       "0.8803827751196173"
      ]
     },
     "execution_count": 444,
     "metadata": {},
     "output_type": "execute_result"
    }
   ],
   "source": [
    "np.sum(y_pred[mask0] < y_pred[mask1, None]) / (np.sum(y_test == 0) * np.sum(y_test == 1))"
   ]
  },
  {
   "cell_type": "code",
   "execution_count": null,
   "metadata": {},
   "outputs": [
    {
     "data": {
      "text/plain": [
       "0.8803827751196173"
      ]
     },
     "execution_count": 445,
     "metadata": {},
     "output_type": "execute_result"
    }
   ],
   "source": [
    "np.sum(y_pred_0 < y_pred_1[:, None]) / (y_pred_0.shape[0] * y_pred_1.shape[0])"
   ]
  },
  {
   "cell_type": "code",
   "execution_count": null,
   "metadata": {},
   "outputs": [
    {
     "data": {
      "text/plain": [
       "(array([0.01720317, 0.06098437, 0.07209726, 0.12980208, 0.15641371,\n",
       "        0.15762085, 0.17631225, 0.17701718, 0.2458146 , 0.36437823,\n",
       "        0.6504164 ]),\n",
       " array([0.02986345, 0.18431868, 0.23788079, 0.25830379, 0.2911928 ,\n",
       "        0.41398315, 0.46443193, 0.56501104, 0.59611109, 0.64554938,\n",
       "        0.66294018, 0.70232579, 0.71284228, 0.72562443, 0.88810102,\n",
       "        0.93009119, 0.95184502, 0.98370992, 0.99015865]))"
      ]
     },
     "execution_count": 446,
     "metadata": {},
     "output_type": "execute_result"
    }
   ],
   "source": [
    "y_pred_0, y_pred_1"
   ]
  },
  {
   "cell_type": "code",
   "execution_count": null,
   "metadata": {},
   "outputs": [
    {
     "data": {
      "text/plain": [
       "array([[ True, False, False, False, False, False, False, False, False,\n",
       "        False, False],\n",
       "       [ True,  True,  True,  True,  True,  True,  True,  True, False,\n",
       "        False, False],\n",
       "       [ True,  True,  True,  True,  True,  True,  True,  True, False,\n",
       "        False, False],\n",
       "       [ True,  True,  True,  True,  True,  True,  True,  True,  True,\n",
       "        False, False],\n",
       "       [ True,  True,  True,  True,  True,  True,  True,  True,  True,\n",
       "        False, False],\n",
       "       [ True,  True,  True,  True,  True,  True,  True,  True,  True,\n",
       "         True, False],\n",
       "       [ True,  True,  True,  True,  True,  True,  True,  True,  True,\n",
       "         True, False],\n",
       "       [ True,  True,  True,  True,  True,  True,  True,  True,  True,\n",
       "         True, False],\n",
       "       [ True,  True,  True,  True,  True,  True,  True,  True,  True,\n",
       "         True, False],\n",
       "       [ True,  True,  True,  True,  True,  True,  True,  True,  True,\n",
       "         True, False],\n",
       "       [ True,  True,  True,  True,  True,  True,  True,  True,  True,\n",
       "         True,  True],\n",
       "       [ True,  True,  True,  True,  True,  True,  True,  True,  True,\n",
       "         True,  True],\n",
       "       [ True,  True,  True,  True,  True,  True,  True,  True,  True,\n",
       "         True,  True],\n",
       "       [ True,  True,  True,  True,  True,  True,  True,  True,  True,\n",
       "         True,  True],\n",
       "       [ True,  True,  True,  True,  True,  True,  True,  True,  True,\n",
       "         True,  True],\n",
       "       [ True,  True,  True,  True,  True,  True,  True,  True,  True,\n",
       "         True,  True],\n",
       "       [ True,  True,  True,  True,  True,  True,  True,  True,  True,\n",
       "         True,  True],\n",
       "       [ True,  True,  True,  True,  True,  True,  True,  True,  True,\n",
       "         True,  True],\n",
       "       [ True,  True,  True,  True,  True,  True,  True,  True,  True,\n",
       "         True,  True]])"
      ]
     },
     "execution_count": 447,
     "metadata": {},
     "output_type": "execute_result"
    }
   ],
   "source": [
    "y_pred_0 < y_pred_1[:, None]"
   ]
  },
  {
   "cell_type": "code",
   "execution_count": null,
   "metadata": {},
   "outputs": [],
   "source": []
  }
 ],
 "metadata": {
  "kernelspec": {
   "display_name": "mlscorecheck",
   "language": "python",
   "name": "python3"
  },
  "language_info": {
   "codemirror_mode": {
    "name": "ipython",
    "version": 3
   },
   "file_extension": ".py",
   "mimetype": "text/x-python",
   "name": "python",
   "nbconvert_exporter": "python",
   "pygments_lexer": "ipython3",
   "version": "3.10.13"
  }
 },
 "nbformat": 4,
 "nbformat_minor": 2
}
