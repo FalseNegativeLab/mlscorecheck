{
 "cells": [
  {
   "cell_type": "code",
   "execution_count": 34,
   "metadata": {},
   "outputs": [],
   "source": [
    "from mlscorecheck.aggregated import generate_evaluations_with_all_kfolds\n",
    "import itertools"
   ]
  },
  {
   "cell_type": "code",
   "execution_count": 28,
   "metadata": {},
   "outputs": [],
   "source": [
    "def multiplicities(configuration):\n",
    "    mult = {}\n",
    "    for item in configuration:\n",
    "        if item[0] not in mult:\n",
    "            mult[item[0]] = 1\n",
    "        else:\n",
    "            mult[item[0]] += 1\n",
    "    return mult"
   ]
  },
  {
   "cell_type": "code",
   "execution_count": 65,
   "metadata": {},
   "outputs": [],
   "source": [
    "class IntegerPartitioning:\n",
    "    def __init__(self, n, m):\n",
    "        self.n = n\n",
    "        self.m = m\n",
    "        self.x = [0]*(m+1)\n",
    "        self.s = [0]*(m+1)\n",
    "        \n",
    "        for k in range(1, self.m):\n",
    "            self.x[k] = 1\n",
    "            \n",
    "        self.x[self.m] = self.n - self.m + 1\n",
    "        \n",
    "        for k in range(1, self.m + 1):\n",
    "            self.s[k] = self.x[k] + self.s[k-1]\n",
    "    \n",
    "    def generate(self):\n",
    "        while True:\n",
    "            yield self.x[1:]\n",
    "            \n",
    "            u = self.x[self.m]\n",
    "            k = self.m\n",
    "            while k > 0:\n",
    "                k = k - 1\n",
    "                if self.x[k] + 2 <= u:\n",
    "                    break\n",
    "            \n",
    "            if k == 0:\n",
    "                return\n",
    "            \n",
    "            f = self.x[k] + 1\n",
    "            s = self.s[k-1]\n",
    "            while k < self.m:\n",
    "                self.x[k] = f\n",
    "                s += f\n",
    "                self.s[k] = s\n",
    "                k += 1\n",
    "            \n",
    "            self.x[self.m] = self.n - self.s[self.m-1]\n"
   ]
  },
  {
   "cell_type": "code",
   "execution_count": 66,
   "metadata": {},
   "outputs": [
    {
     "name": "stdout",
     "output_type": "stream",
     "text": [
      "[1, 1, 1, 1, 3]\n",
      "[1, 1, 1, 2, 2]\n"
     ]
    }
   ],
   "source": [
    "for x in IntegerPartitioning(7, 5).generate():\n",
    "    print(x)"
   ]
  },
  {
   "cell_type": "code",
   "execution_count": 104,
   "metadata": {},
   "outputs": [],
   "source": [
    "class FoldPartitioning:\n",
    "    def __init__(self):\n",
    "        pass\n",
    "    \n",
    "    def generate(self, p, n, n_folds):\n",
    "        max_items = (p + n) // n_folds\n",
    "        remainder = (p + n) % n_folds\n",
    "        \n",
    "        ipart = IntegerPartitioning(p, n_folds)\n",
    "        \n",
    "        for actual in ipart.generate():\n",
    "            while (sum(item > max_items for item in actual) != 0 \n",
    "                    or sum(item == max_items for item in actual) > remainder):\n",
    "                continue\n",
    "            \n",
    "            ps = copy.copy(actual)\n",
    "            \n",
    "            ns = [max_items - p_val for p_val in ps]\n",
    "            n_ordinary = len(ps) - 1\n",
    "            while ps[n_ordinary] == max_items:\n",
    "                ns[n_ordinary] += 1\n",
    "                n_ordinary -= 1\n",
    "            n_ordinary += 1\n",
    "            \n",
    "            # distributing the remainders between 0:idx\n",
    "            combinations = {tuple(x) for x in itertools.combinations(ps[:n_ordinary], \n",
    "                                                                    remainder - (len(ps) - n_ordinary))}\n",
    "            \n",
    "            n_variants = []\n",
    "            for comb in combinations:\n",
    "                tmp = copy.copy(ns)\n",
    "                jdx = len(comb)-1\n",
    "                kdx = n_ordinary-1\n",
    "                while jdx >= 0 and kdx >= 0:\n",
    "                    if comb[jdx] == ps[kdx]:\n",
    "                        tmp[kdx] += 1\n",
    "                    \n",
    "                    if comb[jdx] <= ps[kdx]:\n",
    "                        kdx -= 1\n",
    "                    elif ps[kdx] <= comb[jdx]:\n",
    "                        jdx -= 1\n",
    "                \n",
    "                n_variants.append(tmp)\n",
    "            \n",
    "            for ns in n_variants:\n",
    "                yield ps, ns\n"
   ]
  },
  {
   "cell_type": "code",
   "execution_count": 105,
   "metadata": {},
   "outputs": [
    {
     "ename": "KeyboardInterrupt",
     "evalue": "",
     "output_type": "error",
     "traceback": [
      "\u001b[0;31m---------------------------------------------------------------------------\u001b[0m",
      "\u001b[0;31mKeyboardInterrupt\u001b[0m                         Traceback (most recent call last)",
      "\u001b[1;32m/home/gykovacs/workspaces/mlscorecheck/notebooks/development/025_kfold.ipynb Cell 6\u001b[0m line \u001b[0;36m1\n\u001b[0;32m----> <a href='vscode-notebook-cell://wsl%2Bubuntu-20.04/home/gykovacs/workspaces/mlscorecheck/notebooks/development/025_kfold.ipynb#X25sdnNjb2RlLXJlbW90ZQ%3D%3D?line=0'>1</a>\u001b[0m \u001b[39mfor\u001b[39;00m part \u001b[39min\u001b[39;00m FoldPartitioning()\u001b[39m.\u001b[39mgenerate(\u001b[39m7\u001b[39m, \u001b[39m15\u001b[39m, \u001b[39m5\u001b[39m):\n\u001b[1;32m      <a href='vscode-notebook-cell://wsl%2Bubuntu-20.04/home/gykovacs/workspaces/mlscorecheck/notebooks/development/025_kfold.ipynb#X25sdnNjb2RlLXJlbW90ZQ%3D%3D?line=1'>2</a>\u001b[0m     \u001b[39mprint\u001b[39m(part)\n",
      "\u001b[1;32m/home/gykovacs/workspaces/mlscorecheck/notebooks/development/025_kfold.ipynb Cell 6\u001b[0m line \u001b[0;36m3\n\u001b[1;32m     <a href='vscode-notebook-cell://wsl%2Bubuntu-20.04/home/gykovacs/workspaces/mlscorecheck/notebooks/development/025_kfold.ipynb#X25sdnNjb2RlLXJlbW90ZQ%3D%3D?line=31'>32</a>\u001b[0m jdx \u001b[39m=\u001b[39m \u001b[39mlen\u001b[39m(comb)\u001b[39m-\u001b[39m\u001b[39m1\u001b[39m\n\u001b[1;32m     <a href='vscode-notebook-cell://wsl%2Bubuntu-20.04/home/gykovacs/workspaces/mlscorecheck/notebooks/development/025_kfold.ipynb#X25sdnNjb2RlLXJlbW90ZQ%3D%3D?line=32'>33</a>\u001b[0m kdx \u001b[39m=\u001b[39m n_ordinary\u001b[39m-\u001b[39m\u001b[39m1\u001b[39m\n\u001b[0;32m---> <a href='vscode-notebook-cell://wsl%2Bubuntu-20.04/home/gykovacs/workspaces/mlscorecheck/notebooks/development/025_kfold.ipynb#X25sdnNjb2RlLXJlbW90ZQ%3D%3D?line=33'>34</a>\u001b[0m \u001b[39mwhile\u001b[39;00m (jdx\u001b[39m:=\u001b[39m (\u001b[39mlen\u001b[39m(comb) \u001b[39m-\u001b[39m \u001b[39m1\u001b[39m)) \u001b[39m>\u001b[39m\u001b[39m=\u001b[39m \u001b[39m0\u001b[39m \u001b[39mand\u001b[39;00m (kdx\u001b[39m:=\u001b[39m n_ordinary\u001b[39m-\u001b[39m\u001b[39m1\u001b[39m) \u001b[39m>\u001b[39m\u001b[39m=\u001b[39m \u001b[39m0\u001b[39m:\n\u001b[1;32m     <a href='vscode-notebook-cell://wsl%2Bubuntu-20.04/home/gykovacs/workspaces/mlscorecheck/notebooks/development/025_kfold.ipynb#X25sdnNjb2RlLXJlbW90ZQ%3D%3D?line=34'>35</a>\u001b[0m     \u001b[39mif\u001b[39;00m comb[jdx] \u001b[39m==\u001b[39m ps[kdx]:\n\u001b[1;32m     <a href='vscode-notebook-cell://wsl%2Bubuntu-20.04/home/gykovacs/workspaces/mlscorecheck/notebooks/development/025_kfold.ipynb#X25sdnNjb2RlLXJlbW90ZQ%3D%3D?line=35'>36</a>\u001b[0m         tmp[kdx] \u001b[39m+\u001b[39m\u001b[39m=\u001b[39m \u001b[39m1\u001b[39m\n",
      "\u001b[0;31mKeyboardInterrupt\u001b[0m: "
     ]
    }
   ],
   "source": [
    "for part in FoldPartitioning().generate(7, 15, 5):\n",
    "    print(part)"
   ]
  },
  {
   "cell_type": "code",
   "execution_count": null,
   "metadata": {},
   "outputs": [],
   "source": []
  },
  {
   "cell_type": "code",
   "execution_count": 51,
   "metadata": {},
   "outputs": [],
   "source": [
    "class MPartition:\n",
    "    def __init__(self, n, m, max_items, remainder):\n",
    "        self.n = n\n",
    "        self.m = m\n",
    "        self.max_items = max_items\n",
    "        self.remainder = remainder\n",
    "        self.x = [0]*(m+1)\n",
    "        self.s = [0]*(m+1)\n",
    "        \n",
    "        for k in range(1, self.m):\n",
    "            self.x[k] = 1\n",
    "            \n",
    "        self.x[self.m] = self.n - self.m + 1\n",
    "        \n",
    "        for k in range(1, self.m + 1):\n",
    "            self.s[k] = self.x[k] + self.s[k-1]\n",
    "    \n",
    "    def next_(self):\n",
    "        u = self.x[self.m]\n",
    "        k = self.m\n",
    "        while k > 0:\n",
    "            k = k - 1\n",
    "            if self.x[k] + 2 <= u:\n",
    "                break\n",
    "        \n",
    "        if k == 0:\n",
    "            return False\n",
    "        \n",
    "        f = self.x[k] + 1\n",
    "        s = self.s[k-1]\n",
    "        while k < self.m:\n",
    "            self.x[k] = f\n",
    "            s += f\n",
    "            self.s[k] = s\n",
    "            k += 1\n",
    "        \n",
    "        self.x[self.m] = self.n - self.s[self.m-1]\n",
    "        return True\n",
    "    \n",
    "    def next(self):\n",
    "        actual = self.x\n",
    "        print('actual', actual)\n",
    "        while not (sum(item > self.max_items for item in actual) == 0 \n",
    "                and sum(item == self.max_items for item in actual) <= self.remainder):\n",
    "            if not self.next():\n",
    "                print('skipped')\n",
    "                return False\n",
    "        \n",
    "        ps = copy.copy(actual[1:])\n",
    "        ns = [0]*len(ps)\n",
    "        idx = len(ps) - 1\n",
    "        remainder = self.remainder\n",
    "        while ps[idx] == self.max_items and remainder > 0:\n",
    "            ns[idx] = 1\n",
    "            remainder -= 1\n",
    "            idx -= 1\n",
    "        \n",
    "        print('ns', ns)\n",
    "        \n",
    "        # distributing the remainders between 0:idx\n",
    "        to_pick = ps[:(idx+1)]\n",
    "        combinations = set(tuple(x) for x in itertools.combinations(to_pick, remainder))\n",
    "        print('combs', combinations)\n",
    "        \n",
    "        n_variants = []\n",
    "        for comb in combinations:\n",
    "            print('c', comb)\n",
    "            tmp = copy.copy(ns)\n",
    "            jdx = len(comb)-1\n",
    "            kdx = len(ps[:(idx+1)])-1\n",
    "            while jdx >= 0 and kdx >= 0:\n",
    "                if comb[jdx] == ps[kdx]:\n",
    "                    tmp[kdx] = 1\n",
    "                    jdx -= 1\n",
    "                    kdx -= 1\n",
    "                elif comb[jdx] < ps[kdx]:\n",
    "                    kdx -= 1\n",
    "                elif ps[kdx] < comb[jdx]:\n",
    "                    jdx -= 1\n",
    "            n_variants.append(tmp)\n",
    "        \n",
    "        print('n_variants', n_variants)\n",
    "        \n",
    "        for variant in n_variants:\n",
    "            for idx in range(len(variant)):\n",
    "                variant[idx] += self.max_items - ps[idx]\n",
    "        \n",
    "        print('ps', ps)\n",
    "        print('ns', n_variants)\n",
    "        self.next_()\n",
    "        \n",
    "        "
   ]
  },
  {
   "cell_type": "code",
   "execution_count": 52,
   "metadata": {},
   "outputs": [],
   "source": [
    "p = 7\n",
    "n = 15\n",
    "n_folds = 5\n",
    "max_items = (p + n) // n_folds\n",
    "remainder = (p + n) % n_folds"
   ]
  },
  {
   "cell_type": "code",
   "execution_count": 53,
   "metadata": {},
   "outputs": [
    {
     "data": {
      "text/plain": [
       "(4, 2)"
      ]
     },
     "execution_count": 53,
     "metadata": {},
     "output_type": "execute_result"
    }
   ],
   "source": [
    "max_items, remainder"
   ]
  },
  {
   "cell_type": "code",
   "execution_count": 54,
   "metadata": {},
   "outputs": [],
   "source": [
    "mp = MPartition(p, n_folds, max_items, remainder)"
   ]
  },
  {
   "cell_type": "code",
   "execution_count": 59,
   "metadata": {},
   "outputs": [
    {
     "name": "stdout",
     "output_type": "stream",
     "text": [
      "actual [0, 1, 1, 1, 2, 2]\n",
      "ns [0, 0, 0, 0, 0]\n",
      "combs {(1, 1), (1, 2), (2, 2)}\n",
      "c (1, 1)\n",
      "c (1, 2)\n",
      "c (2, 2)\n",
      "n_variants [[0, 1, 1, 0, 0], [0, 0, 1, 0, 1], [0, 0, 0, 1, 1]]\n",
      "ps [1, 1, 1, 2, 2]\n",
      "ns [[3, 4, 4, 2, 2], [3, 3, 4, 2, 3], [3, 3, 3, 3, 3]]\n"
     ]
    }
   ],
   "source": [
    "mp.next()"
   ]
  },
  {
   "cell_type": "code",
   "execution_count": null,
   "metadata": {},
   "outputs": [],
   "source": []
  },
  {
   "cell_type": "code",
   "execution_count": 6,
   "metadata": {},
   "outputs": [
    {
     "name": "stdout",
     "output_type": "stream",
     "text": [
      "[0, 1, 2, 4]\n",
      "[0, 1, 3, 3]\n",
      "[0, 2, 2, 3]\n"
     ]
    }
   ],
   "source": [
    "mp = MPartition(7, 3)\n",
    "while mp.next():\n",
    "    print(mp.x)"
   ]
  },
  {
   "cell_type": "code",
   "execution_count": 9,
   "metadata": {},
   "outputs": [],
   "source": [
    "import copy"
   ]
  },
  {
   "cell_type": "code",
   "execution_count": 22,
   "metadata": {},
   "outputs": [],
   "source": [
    "def multiplicities(configuration):\n",
    "    mult = {}\n",
    "    for item in configuration:\n",
    "        if item[0] not in mult:\n",
    "            mult[item[0]] = 1\n",
    "        else:\n",
    "            mult[item[0]] += 1\n",
    "    return mult"
   ]
  },
  {
   "cell_type": "code",
   "execution_count": 16,
   "metadata": {},
   "outputs": [],
   "source": [
    "def generate_fold_structures(p, n, k):\n",
    "    items_per_fold = (p + n) // k\n",
    "    n_remainder = (p + n) % k\n",
    "    print(items_per_fold, n_remainder)\n",
    "    mpart = MPartition(p, k)\n",
    "    partitions = [copy.copy(mpart.x[1:])]\n",
    "    while mpart.next():\n",
    "        partitions.append(copy.copy(mpart.x[1:]))\n",
    "    # filtering\n",
    "    partitions = [partition for partition in partitions \n",
    "                    if all(part < items_per_fold for part in partition)]\n",
    "    # complementing\n",
    "    partitions = [[(part, items_per_fold - part) for part in partition] \n",
    "                    for partition in partitions]\n",
    "    \n",
    "    \n",
    "    \n",
    "    return partitions"
   ]
  },
  {
   "cell_type": "code",
   "execution_count": 21,
   "metadata": {},
   "outputs": [
    {
     "name": "stdout",
     "output_type": "stream",
     "text": [
      "6 2\n"
     ]
    }
   ],
   "source": [
    "tmp = generate_fold_structures(8, 12, 3)"
   ]
  },
  {
   "cell_type": "code",
   "execution_count": 27,
   "metadata": {},
   "outputs": [
    {
     "data": {
      "text/plain": [
       "{2: 2, 4: 1}"
      ]
     },
     "execution_count": 27,
     "metadata": {},
     "output_type": "execute_result"
    }
   ],
   "source": [
    "multiplicities(tmp[2])"
   ]
  },
  {
   "cell_type": "code",
   "execution_count": null,
   "metadata": {},
   "outputs": [],
   "source": []
  }
 ],
 "metadata": {
  "kernelspec": {
   "display_name": "mlscorecheck",
   "language": "python",
   "name": "python3"
  },
  "language_info": {
   "codemirror_mode": {
    "name": "ipython",
    "version": 3
   },
   "file_extension": ".py",
   "mimetype": "text/x-python",
   "name": "python",
   "nbconvert_exporter": "python",
   "pygments_lexer": "ipython3",
   "version": "3.10.0"
  },
  "orig_nbformat": 4
 },
 "nbformat": 4,
 "nbformat_minor": 2
}
