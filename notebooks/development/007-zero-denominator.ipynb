{
 "cells": [
  {
   "cell_type": "code",
   "execution_count": 7,
   "metadata": {},
   "outputs": [],
   "source": [
    "import sympy as sp"
   ]
  },
  {
   "cell_type": "code",
   "execution_count": 2,
   "metadata": {},
   "outputs": [],
   "source": [
    "n = sp.Symbol('n', integer=True, positive=True)\n",
    "k = sp.Symbol('k', integer=True, nonnegative=True)\n",
    "a = sp.Symbol('a', real=True, positive=True)\n",
    "b = sp.Symbol('b', real=True, positive=True)\n",
    "\n",
    "p = sp.Symbol('p', real=True, nonegative=True)"
   ]
  },
  {
   "cell_type": "code",
   "execution_count": 3,
   "metadata": {},
   "outputs": [],
   "source": [
    "pdf_bin = sp.simplify(sp.factorial(n)/sp.factorial(k)/sp.factorial(n-k)*p**k*(1-p)**(n-k))\n",
    "pdf_beta = sp.simplify(p**(a-1)*(1-p)**(b-1)*sp.gamma(a+b)/sp.gamma(a)/sp.gamma(b))"
   ]
  },
  {
   "cell_type": "code",
   "execution_count": 4,
   "metadata": {},
   "outputs": [
    {
     "data": {
      "text/latex": [
       "$\\displaystyle p^{k} \\left(1 - p\\right)^{- k + n} {\\binom{n}{k}}$"
      ],
      "text/plain": [
       "p**k*(1 - p)**(-k + n)*binomial(n, k)"
      ]
     },
     "execution_count": 4,
     "metadata": {},
     "output_type": "execute_result"
    }
   ],
   "source": [
    "pdf_bin"
   ]
  },
  {
   "cell_type": "code",
   "execution_count": 5,
   "metadata": {},
   "outputs": [
    {
     "data": {
      "text/latex": [
       "$\\displaystyle \\frac{p^{a - 1} \\left(1 - p\\right)^{b - 1} \\Gamma\\left(a + b\\right)}{\\Gamma\\left(a\\right) \\Gamma\\left(b\\right)}$"
      ],
      "text/plain": [
       "p**(a - 1)*(1 - p)**(b - 1)*gamma(a + b)/(gamma(a)*gamma(b))"
      ]
     },
     "execution_count": 5,
     "metadata": {},
     "output_type": "execute_result"
    }
   ],
   "source": [
    "pdf_beta"
   ]
  },
  {
   "cell_type": "code",
   "execution_count": 6,
   "metadata": {},
   "outputs": [
    {
     "data": {
      "text/latex": [
       "$\\displaystyle \\frac{{\\binom{n}{k}} \\Gamma\\left(k + 1\\right) {{}_{2}F_{1}\\left(\\begin{matrix} k + 1, k - n \\\\ k + 2 \\end{matrix}\\middle| {1} \\right)}}{\\Gamma\\left(k + 2\\right)}$"
      ],
      "text/plain": [
       "binomial(n, k)*gamma(k + 1)*hyper((k + 1, k - n), (k + 2,), 1)/gamma(k + 2)"
      ]
     },
     "execution_count": 6,
     "metadata": {},
     "output_type": "execute_result"
    }
   ],
   "source": [
    "sp.integrate(pdf_bin, (p, 0, 1))"
   ]
  },
  {
   "cell_type": "code",
   "execution_count": null,
   "metadata": {},
   "outputs": [],
   "source": []
  },
  {
   "cell_type": "code",
   "execution_count": 32,
   "metadata": {},
   "outputs": [
    {
     "data": {
      "text/latex": [
       "$\\displaystyle \\frac{\\pi^{2}}{6}$"
      ],
      "text/plain": [
       "pi**2/6"
      ]
     },
     "execution_count": 32,
     "metadata": {},
     "output_type": "execute_result"
    }
   ],
   "source": [
    "sp.Sum(1/n**2, (n, 1, sp.oo)).doit()"
   ]
  },
  {
   "cell_type": "code",
   "execution_count": null,
   "metadata": {},
   "outputs": [],
   "source": []
  },
  {
   "cell_type": "code",
   "execution_count": null,
   "metadata": {},
   "outputs": [],
   "source": []
  },
  {
   "cell_type": "code",
   "execution_count": null,
   "metadata": {},
   "outputs": [],
   "source": []
  },
  {
   "cell_type": "code",
   "execution_count": 9,
   "metadata": {},
   "outputs": [],
   "source": [
    "x = sp.Symbol('x')\n",
    "y = sp.Symbol('y')"
   ]
  },
  {
   "cell_type": "code",
   "execution_count": 11,
   "metadata": {},
   "outputs": [],
   "source": [
    "num, denom = (x + sp.sqrt(y)).as_numer_denom()"
   ]
  },
  {
   "cell_type": "code",
   "execution_count": 13,
   "metadata": {},
   "outputs": [
    {
     "data": {
      "text/plain": [
       "(x + sqrt(y), 1)"
      ]
     },
     "execution_count": 13,
     "metadata": {},
     "output_type": "execute_result"
    }
   ],
   "source": [
    "num, denom"
   ]
  },
  {
   "cell_type": "code",
   "execution_count": null,
   "metadata": {},
   "outputs": [],
   "source": []
  },
  {
   "cell_type": "code",
   "execution_count": 8,
   "metadata": {},
   "outputs": [],
   "source": [
    "import sympy as sp\n",
    "\n",
    "from mlscorecheck.core import score_objects, symbols"
   ]
  },
  {
   "cell_type": "code",
   "execution_count": 2,
   "metadata": {},
   "outputs": [],
   "source": [
    "score0 = score_objects['dor']\n",
    "score1 = score_objects['mcc']"
   ]
  },
  {
   "cell_type": "code",
   "execution_count": 27,
   "metadata": {},
   "outputs": [
    {
     "data": {
      "text/plain": [
       "True"
      ]
     },
     "execution_count": 27,
     "metadata": {},
     "output_type": "execute_result"
    }
   ],
   "source": [
    "sp.sqrt(y).has(sp.Pow)"
   ]
  },
  {
   "cell_type": "code",
   "execution_count": 22,
   "metadata": {},
   "outputs": [],
   "source": [
    "x = sp.Symbol('x')\n",
    "y = sp.Symbol('y')"
   ]
  },
  {
   "cell_type": "code",
   "execution_count": 24,
   "metadata": {},
   "outputs": [
    {
     "ename": "PolynomialError",
     "evalue": "1/sqrt(y) contains an element of the set of generators.",
     "output_type": "error",
     "traceback": [
      "\u001b[0;31m---------------------------------------------------------------------------\u001b[0m",
      "\u001b[0;31mKeyError\u001b[0m                                  Traceback (most recent call last)",
      "File \u001b[0;32m~/anaconda3/envs/mlscorecheck/lib/python3.10/site-packages/sympy/polys/polyutils.py:211\u001b[0m, in \u001b[0;36m_parallel_dict_from_expr_if_gens\u001b[0;34m(exprs, opt)\u001b[0m\n\u001b[1;32m    209\u001b[0m         base, exp \u001b[39m=\u001b[39m decompose_power_rat(factor)\n\u001b[0;32m--> 211\u001b[0m     monom[indices[base]] \u001b[39m=\u001b[39m exp\n\u001b[1;32m    212\u001b[0m \u001b[39mexcept\u001b[39;00m \u001b[39mKeyError\u001b[39;00m:\n",
      "\u001b[0;31mKeyError\u001b[0m: 1/sqrt(y)",
      "\nDuring handling of the above exception, another exception occurred:\n",
      "\u001b[0;31mPolynomialError\u001b[0m                           Traceback (most recent call last)",
      "Cell \u001b[0;32mIn[24], line 1\u001b[0m\n\u001b[0;32m----> 1\u001b[0m sp\u001b[39m.\u001b[39;49mPoly(\u001b[39m2\u001b[39;49m \u001b[39m-\u001b[39;49m (x \u001b[39m+\u001b[39;49m \u001b[39m1\u001b[39;49m)\u001b[39m/\u001b[39;49msp\u001b[39m.\u001b[39;49msqrt(y), x, y)\n",
      "File \u001b[0;32m~/anaconda3/envs/mlscorecheck/lib/python3.10/site-packages/sympy/polys/polytools.py:182\u001b[0m, in \u001b[0;36mPoly.__new__\u001b[0;34m(cls, rep, *gens, **args)\u001b[0m\n\u001b[1;32m    180\u001b[0m     \u001b[39mreturn\u001b[39;00m \u001b[39mcls\u001b[39m\u001b[39m.\u001b[39m_from_poly(rep, opt)\n\u001b[1;32m    181\u001b[0m \u001b[39melse\u001b[39;00m:\n\u001b[0;32m--> 182\u001b[0m     \u001b[39mreturn\u001b[39;00m \u001b[39mcls\u001b[39;49m\u001b[39m.\u001b[39;49m_from_expr(rep, opt)\n",
      "File \u001b[0;32m~/anaconda3/envs/mlscorecheck/lib/python3.10/site-packages/sympy/polys/polytools.py:311\u001b[0m, in \u001b[0;36mPoly._from_expr\u001b[0;34m(cls, rep, opt)\u001b[0m\n\u001b[1;32m    308\u001b[0m \u001b[39m@classmethod\u001b[39m\n\u001b[1;32m    309\u001b[0m \u001b[39mdef\u001b[39;00m \u001b[39m_from_expr\u001b[39m(\u001b[39mcls\u001b[39m, rep, opt):\n\u001b[1;32m    310\u001b[0m \u001b[39m    \u001b[39m\u001b[39m\"\"\"Construct a polynomial from an expression. \"\"\"\u001b[39;00m\n\u001b[0;32m--> 311\u001b[0m     rep, opt \u001b[39m=\u001b[39m _dict_from_expr(rep, opt)\n\u001b[1;32m    312\u001b[0m     \u001b[39mreturn\u001b[39;00m \u001b[39mcls\u001b[39m\u001b[39m.\u001b[39m_from_dict(rep, opt)\n",
      "File \u001b[0;32m~/anaconda3/envs/mlscorecheck/lib/python3.10/site-packages/sympy/polys/polyutils.py:368\u001b[0m, in \u001b[0;36m_dict_from_expr\u001b[0;34m(expr, opt)\u001b[0m\n\u001b[1;32m    365\u001b[0m         expr \u001b[39m=\u001b[39m expand_mul(expr)\n\u001b[1;32m    367\u001b[0m \u001b[39mif\u001b[39;00m opt\u001b[39m.\u001b[39mgens:\n\u001b[0;32m--> 368\u001b[0m     rep, gens \u001b[39m=\u001b[39m _dict_from_expr_if_gens(expr, opt)\n\u001b[1;32m    369\u001b[0m \u001b[39melse\u001b[39;00m:\n\u001b[1;32m    370\u001b[0m     rep, gens \u001b[39m=\u001b[39m _dict_from_expr_no_gens(expr, opt)\n",
      "File \u001b[0;32m~/anaconda3/envs/mlscorecheck/lib/python3.10/site-packages/sympy/polys/polyutils.py:307\u001b[0m, in \u001b[0;36m_dict_from_expr_if_gens\u001b[0;34m(expr, opt)\u001b[0m\n\u001b[1;32m    305\u001b[0m \u001b[39mdef\u001b[39;00m \u001b[39m_dict_from_expr_if_gens\u001b[39m(expr, opt):\n\u001b[1;32m    306\u001b[0m \u001b[39m    \u001b[39m\u001b[39m\"\"\"Transform an expression into a multinomial form given generators. \"\"\"\u001b[39;00m\n\u001b[0;32m--> 307\u001b[0m     (poly,), gens \u001b[39m=\u001b[39m _parallel_dict_from_expr_if_gens((expr,), opt)\n\u001b[1;32m    308\u001b[0m     \u001b[39mreturn\u001b[39;00m poly, gens\n",
      "File \u001b[0;32m~/anaconda3/envs/mlscorecheck/lib/python3.10/site-packages/sympy/polys/polyutils.py:216\u001b[0m, in \u001b[0;36m_parallel_dict_from_expr_if_gens\u001b[0;34m(exprs, opt)\u001b[0m\n\u001b[1;32m    214\u001b[0m                 coeff\u001b[39m.\u001b[39mappend(factor)\n\u001b[1;32m    215\u001b[0m             \u001b[39melse\u001b[39;00m:\n\u001b[0;32m--> 216\u001b[0m                 \u001b[39mraise\u001b[39;00m PolynomialError(\u001b[39m\"\u001b[39m\u001b[39m%s\u001b[39;00m\u001b[39m contains an element of \u001b[39m\u001b[39m\"\u001b[39m\n\u001b[1;32m    217\u001b[0m                                       \u001b[39m\"\u001b[39m\u001b[39mthe set of generators.\u001b[39m\u001b[39m\"\u001b[39m \u001b[39m%\u001b[39m factor)\n\u001b[1;32m    219\u001b[0m monom \u001b[39m=\u001b[39m \u001b[39mtuple\u001b[39m(monom)\n\u001b[1;32m    221\u001b[0m \u001b[39mif\u001b[39;00m monom \u001b[39min\u001b[39;00m poly:\n",
      "\u001b[0;31mPolynomialError\u001b[0m: 1/sqrt(y) contains an element of the set of generators."
     ]
    }
   ],
   "source": [
    "sp.Poly(2 - (x + 1)/sp.sqrt(y), x, y)"
   ]
  },
  {
   "cell_type": "code",
   "execution_count": 3,
   "metadata": {},
   "outputs": [
    {
     "data": {
      "text/latex": [
       "$\\displaystyle dor - \\frac{tn tp}{\\left(n - tn\\right) \\left(p - tp\\right)}$"
      ],
      "text/plain": [
       "dor - tn*tp/((n - tn)*(p - tp))"
      ]
     },
     "execution_count": 3,
     "metadata": {},
     "output_type": "execute_result"
    }
   ],
   "source": [
    "score0.equation"
   ]
  },
  {
   "cell_type": "code",
   "execution_count": 13,
   "metadata": {},
   "outputs": [
    {
     "name": "stdout",
     "output_type": "stream",
     "text": [
      "mcc - (tn*tp - (n - tn)*(p - tp))/(sqrt(n)*sqrt(p)*sqrt(n*p + n*tn - n*tp - p*tn + p*tp - tn**2 + 2*tn*tp - tp**2))\n"
     ]
    }
   ],
   "source": [
    "print(score1.equation)"
   ]
  },
  {
   "cell_type": "code",
   "execution_count": 18,
   "metadata": {},
   "outputs": [
    {
     "data": {
      "text/latex": [
       "$\\displaystyle mcc - \\frac{tn tp - \\left(n - tn\\right) \\left(p - tp\\right)}{\\sqrt{n} \\sqrt{p} \\sqrt{n p + n tn - n tp - p tn + p tp - tn^{2} + 2 tn tp - tp^{2}}}$"
      ],
      "text/plain": [
       "mcc - (tn*tp - (n - tn)*(p - tp))/(sqrt(n)*sqrt(p)*sqrt(n*p + n*tn - n*tp - p*tn + p*tp - tn**2 + 2*tn*tp - tp**2))"
      ]
     },
     "execution_count": 18,
     "metadata": {},
     "output_type": "execute_result"
    }
   ],
   "source": [
    "score1.equation"
   ]
  },
  {
   "cell_type": "code",
   "execution_count": 5,
   "metadata": {},
   "outputs": [
    {
     "data": {
      "text/latex": [
       "$\\displaystyle dor \\left(n - tn\\right) \\left(p - tp\\right) - tn tp$"
      ],
      "text/plain": [
       "dor*(n - tn)*(p - tp) - tn*tp"
      ]
     },
     "execution_count": 5,
     "metadata": {},
     "output_type": "execute_result"
    }
   ],
   "source": [
    "score0.equation_polynomial"
   ]
  },
  {
   "cell_type": "code",
   "execution_count": 6,
   "metadata": {},
   "outputs": [
    {
     "data": {
      "text/latex": [
       "$\\displaystyle mcc^{2} n p \\left(n p + n tn - n tp - p tn + p tp - tn^{2} + 2 tn tp - tp^{2}\\right) - \\left(tn tp - \\left(n - tn\\right) \\left(p - tp\\right)\\right)^{2}$"
      ],
      "text/plain": [
       "mcc**2*n*p*(n*p + n*tn - n*tp - p*tn + p*tp - tn**2 + 2*tn*tp - tp**2) - (tn*tp - (n - tn)*(p - tp))**2"
      ]
     },
     "execution_count": 6,
     "metadata": {},
     "output_type": "execute_result"
    }
   ],
   "source": [
    "score1.equation_polynomial"
   ]
  },
  {
   "cell_type": "code",
   "execution_count": 8,
   "metadata": {},
   "outputs": [],
   "source": [
    "n_eq = symbols['n'] - symbols['tn'] - symbols['fp']\n",
    "p_eq = symbols['p'] - symbols['tp'] - symbols['fn']"
   ]
  },
  {
   "cell_type": "code",
   "execution_count": 12,
   "metadata": {},
   "outputs": [
    {
     "data": {
      "text/plain": [
       "[{fn: 0, fp: n, tn: 0, tp: p},\n",
       " {fn: p, fp: 0, tn: n, tp: 0},\n",
       " {fn: -p/(dor - 1), fp: zoo*dor*n*p, tn: zoo*dor*n*p, tp: dor*p/(dor - 1)},\n",
       " {fn: (-dor*mcc**4*n*p**2 - dor*mcc**2*n**2*p + dor*mcc**2*n*p**2 + dor*n**2*p - mcc**4*n*p**2 - 2*mcc**4*p**3 - mcc**2*sqrt(n)*p**(3/2)*sqrt(dor**2*mcc**4*n*p - 2*dor**2*mcc**2*n*p + dor**2*n*p - 2*dor*mcc**4*n*p - 4*dor*mcc**2*n**2 - 4*dor*mcc**2*n*p - 4*dor*mcc**2*p**2 - 2*dor*n*p + mcc**4*n*p - 2*mcc**2*n*p + n*p) - mcc**2*n**2*p - 3*mcc**2*n*p**2 - n**(3/2)*sqrt(p)*sqrt(dor**2*mcc**4*n*p - 2*dor**2*mcc**2*n*p + dor**2*n*p - 2*dor*mcc**4*n*p - 4*dor*mcc**2*n**2 - 4*dor*mcc**2*n*p - 4*dor*mcc**2*p**2 - 2*dor*n*p + mcc**4*n*p - 2*mcc**2*n*p + n*p) - n**2*p)/(2*(dor*mcc**4*p**2 + 2*dor*mcc**2*n*p + dor*n**2 - mcc**4*p**2 - 2*mcc**2*n*p - n**2)),\n",
       "  fp: (-dor*mcc**4*n**2*p**2 - 2*dor*mcc**4*n*p**3 - dor*mcc**2*n**3*p - 3*dor*mcc**2*n**2*p**2 - dor*n**3*p - mcc**4*n**2*p**2 - mcc**2*n**(3/2)*p**(3/2)*sqrt(dor**2*mcc**4*n*p - 2*dor**2*mcc**2*n*p + dor**2*n*p - 2*dor*mcc**4*n*p - 4*dor*mcc**2*n**2 - 4*dor*mcc**2*n*p - 4*dor*mcc**2*p**2 - 2*dor*n*p + mcc**4*n*p - 2*mcc**2*n*p + n*p) - mcc**2*n**3*p + mcc**2*n**2*p**2 - n**(5/2)*sqrt(p)*sqrt(dor**2*mcc**4*n*p - 2*dor**2*mcc**2*n*p + dor**2*n*p - 2*dor*mcc**4*n*p - 4*dor*mcc**2*n**2 - 4*dor*mcc**2*n*p - 4*dor*mcc**2*p**2 - 2*dor*n*p + mcc**4*n*p - 2*mcc**2*n*p + n*p) + n**3*p)/(dor**2*mcc**4*n*p**2 + dor**2*mcc**2*n**2*p - dor**2*mcc**2*n*p**2 - dor**2*n**2*p + dor*mcc**2*sqrt(n)*p**(3/2)*sqrt(dor**2*mcc**4*n*p - 2*dor**2*mcc**2*n*p + dor**2*n*p - 2*dor*mcc**4*n*p - 4*dor*mcc**2*n**2 - 4*dor*mcc**2*n*p - 4*dor*mcc**2*p**2 - 2*dor*n*p + mcc**4*n*p - 2*mcc**2*n*p + n*p) + dor*n**(3/2)*sqrt(p)*sqrt(dor**2*mcc**4*n*p - 2*dor**2*mcc**2*n*p + dor**2*n*p - 2*dor*mcc**4*n*p - 4*dor*mcc**2*n**2 - 4*dor*mcc**2*n*p - 4*dor*mcc**2*p**2 - 2*dor*n*p + mcc**4*n*p - 2*mcc**2*n*p + n*p) - mcc**4*n*p**2 - mcc**2*sqrt(n)*p**(3/2)*sqrt(dor**2*mcc**4*n*p - 2*dor**2*mcc**2*n*p + dor**2*n*p - 2*dor*mcc**4*n*p - 4*dor*mcc**2*n**2 - 4*dor*mcc**2*n*p - 4*dor*mcc**2*p**2 - 2*dor*n*p + mcc**4*n*p - 2*mcc**2*n*p + n*p) - mcc**2*n**2*p + mcc**2*n*p**2 - n**(3/2)*sqrt(p)*sqrt(dor**2*mcc**4*n*p - 2*dor**2*mcc**2*n*p + dor**2*n*p - 2*dor*mcc**4*n*p - 4*dor*mcc**2*n**2 - 4*dor*mcc**2*n*p - 4*dor*mcc**2*p**2 - 2*dor*n*p + mcc**4*n*p - 2*mcc**2*n*p + n*p) + n**2*p),\n",
       "  tn: dor*(dor*mcc**4*n**2*p**2 + dor*mcc**2*n**3*p - dor*mcc**2*n**2*p**2 - dor*n**3*p + mcc**4*n**2*p**2 + 2*mcc**4*n*p**3 + mcc**2*n**(3/2)*p**(3/2)*sqrt(dor**2*mcc**4*n*p - 2*dor**2*mcc**2*n*p + dor**2*n*p - 2*dor*mcc**4*n*p - 4*dor*mcc**2*n**2 - 4*dor*mcc**2*n*p - 4*dor*mcc**2*p**2 - 2*dor*n*p + mcc**4*n*p - 2*mcc**2*n*p + n*p) + mcc**2*n**3*p + 3*mcc**2*n**2*p**2 + n**(5/2)*sqrt(p)*sqrt(dor**2*mcc**4*n*p - 2*dor**2*mcc**2*n*p + dor**2*n*p - 2*dor*mcc**4*n*p - 4*dor*mcc**2*n**2 - 4*dor*mcc**2*n*p - 4*dor*mcc**2*p**2 - 2*dor*n*p + mcc**4*n*p - 2*mcc**2*n*p + n*p) + n**3*p)/(dor**2*mcc**4*n*p**2 + dor**2*mcc**2*n**2*p - dor**2*mcc**2*n*p**2 - dor**2*n**2*p + dor*mcc**2*sqrt(n)*p**(3/2)*sqrt(dor**2*mcc**4*n*p - 2*dor**2*mcc**2*n*p + dor**2*n*p - 2*dor*mcc**4*n*p - 4*dor*mcc**2*n**2 - 4*dor*mcc**2*n*p - 4*dor*mcc**2*p**2 - 2*dor*n*p + mcc**4*n*p - 2*mcc**2*n*p + n*p) + dor*n**(3/2)*sqrt(p)*sqrt(dor**2*mcc**4*n*p - 2*dor**2*mcc**2*n*p + dor**2*n*p - 2*dor*mcc**4*n*p - 4*dor*mcc**2*n**2 - 4*dor*mcc**2*n*p - 4*dor*mcc**2*p**2 - 2*dor*n*p + mcc**4*n*p - 2*mcc**2*n*p + n*p) - mcc**4*n*p**2 - mcc**2*sqrt(n)*p**(3/2)*sqrt(dor**2*mcc**4*n*p - 2*dor**2*mcc**2*n*p + dor**2*n*p - 2*dor*mcc**4*n*p - 4*dor*mcc**2*n**2 - 4*dor*mcc**2*n*p - 4*dor*mcc**2*p**2 - 2*dor*n*p + mcc**4*n*p - 2*mcc**2*n*p + n*p) - mcc**2*n**2*p + mcc**2*n*p**2 - n**(3/2)*sqrt(p)*sqrt(dor**2*mcc**4*n*p - 2*dor**2*mcc**2*n*p + dor**2*n*p - 2*dor*mcc**4*n*p - 4*dor*mcc**2*n**2 - 4*dor*mcc**2*n*p - 4*dor*mcc**2*p**2 - 2*dor*n*p + mcc**4*n*p - 2*mcc**2*n*p + n*p) + n**2*p),\n",
       "  tp: (dor*mcc**4*n*p**2 + 2*dor*mcc**4*p**3 + dor*mcc**2*n**2*p + 3*dor*mcc**2*n*p**2 + dor*n**2*p + mcc**4*n*p**2 + mcc**2*sqrt(n)*p**(3/2)*sqrt(dor**2*mcc**4*n*p - 2*dor**2*mcc**2*n*p + dor**2*n*p - 2*dor*mcc**4*n*p - 4*dor*mcc**2*n**2 - 4*dor*mcc**2*n*p - 4*dor*mcc**2*p**2 - 2*dor*n*p + mcc**4*n*p - 2*mcc**2*n*p + n*p) + mcc**2*n**2*p - mcc**2*n*p**2 + n**(3/2)*sqrt(p)*sqrt(dor**2*mcc**4*n*p - 2*dor**2*mcc**2*n*p + dor**2*n*p - 2*dor*mcc**4*n*p - 4*dor*mcc**2*n**2 - 4*dor*mcc**2*n*p - 4*dor*mcc**2*p**2 - 2*dor*n*p + mcc**4*n*p - 2*mcc**2*n*p + n*p) - n**2*p)/(2*(dor*mcc**4*p**2 + 2*dor*mcc**2*n*p + dor*n**2 - mcc**4*p**2 - 2*mcc**2*n*p - n**2))},\n",
       " {fn: (-dor*mcc**4*n*p**2 - dor*mcc**2*n**2*p + dor*mcc**2*n*p**2 + dor*n**2*p - mcc**4*n*p**2 - 2*mcc**4*p**3 + mcc**2*sqrt(n)*p**(3/2)*sqrt(dor**2*mcc**4*n*p - 2*dor**2*mcc**2*n*p + dor**2*n*p - 2*dor*mcc**4*n*p - 4*dor*mcc**2*n**2 - 4*dor*mcc**2*n*p - 4*dor*mcc**2*p**2 - 2*dor*n*p + mcc**4*n*p - 2*mcc**2*n*p + n*p) - mcc**2*n**2*p - 3*mcc**2*n*p**2 + n**(3/2)*sqrt(p)*sqrt(dor**2*mcc**4*n*p - 2*dor**2*mcc**2*n*p + dor**2*n*p - 2*dor*mcc**4*n*p - 4*dor*mcc**2*n**2 - 4*dor*mcc**2*n*p - 4*dor*mcc**2*p**2 - 2*dor*n*p + mcc**4*n*p - 2*mcc**2*n*p + n*p) - n**2*p)/(2*(dor*mcc**4*p**2 + 2*dor*mcc**2*n*p + dor*n**2 - mcc**4*p**2 - 2*mcc**2*n*p - n**2)),\n",
       "  fp: (-dor*mcc**4*n**2*p**2 - 2*dor*mcc**4*n*p**3 - dor*mcc**2*n**3*p - 3*dor*mcc**2*n**2*p**2 - dor*n**3*p - mcc**4*n**2*p**2 + mcc**2*n**(3/2)*p**(3/2)*sqrt(dor**2*mcc**4*n*p - 2*dor**2*mcc**2*n*p + dor**2*n*p - 2*dor*mcc**4*n*p - 4*dor*mcc**2*n**2 - 4*dor*mcc**2*n*p - 4*dor*mcc**2*p**2 - 2*dor*n*p + mcc**4*n*p - 2*mcc**2*n*p + n*p) - mcc**2*n**3*p + mcc**2*n**2*p**2 + n**(5/2)*sqrt(p)*sqrt(dor**2*mcc**4*n*p - 2*dor**2*mcc**2*n*p + dor**2*n*p - 2*dor*mcc**4*n*p - 4*dor*mcc**2*n**2 - 4*dor*mcc**2*n*p - 4*dor*mcc**2*p**2 - 2*dor*n*p + mcc**4*n*p - 2*mcc**2*n*p + n*p) + n**3*p)/(dor**2*mcc**4*n*p**2 + dor**2*mcc**2*n**2*p - dor**2*mcc**2*n*p**2 - dor**2*n**2*p - dor*mcc**2*sqrt(n)*p**(3/2)*sqrt(dor**2*mcc**4*n*p - 2*dor**2*mcc**2*n*p + dor**2*n*p - 2*dor*mcc**4*n*p - 4*dor*mcc**2*n**2 - 4*dor*mcc**2*n*p - 4*dor*mcc**2*p**2 - 2*dor*n*p + mcc**4*n*p - 2*mcc**2*n*p + n*p) - dor*n**(3/2)*sqrt(p)*sqrt(dor**2*mcc**4*n*p - 2*dor**2*mcc**2*n*p + dor**2*n*p - 2*dor*mcc**4*n*p - 4*dor*mcc**2*n**2 - 4*dor*mcc**2*n*p - 4*dor*mcc**2*p**2 - 2*dor*n*p + mcc**4*n*p - 2*mcc**2*n*p + n*p) - mcc**4*n*p**2 + mcc**2*sqrt(n)*p**(3/2)*sqrt(dor**2*mcc**4*n*p - 2*dor**2*mcc**2*n*p + dor**2*n*p - 2*dor*mcc**4*n*p - 4*dor*mcc**2*n**2 - 4*dor*mcc**2*n*p - 4*dor*mcc**2*p**2 - 2*dor*n*p + mcc**4*n*p - 2*mcc**2*n*p + n*p) - mcc**2*n**2*p + mcc**2*n*p**2 + n**(3/2)*sqrt(p)*sqrt(dor**2*mcc**4*n*p - 2*dor**2*mcc**2*n*p + dor**2*n*p - 2*dor*mcc**4*n*p - 4*dor*mcc**2*n**2 - 4*dor*mcc**2*n*p - 4*dor*mcc**2*p**2 - 2*dor*n*p + mcc**4*n*p - 2*mcc**2*n*p + n*p) + n**2*p),\n",
       "  tn: dor*(dor*mcc**4*n**2*p**2 + dor*mcc**2*n**3*p - dor*mcc**2*n**2*p**2 - dor*n**3*p + mcc**4*n**2*p**2 + 2*mcc**4*n*p**3 - mcc**2*n**(3/2)*p**(3/2)*sqrt(dor**2*mcc**4*n*p - 2*dor**2*mcc**2*n*p + dor**2*n*p - 2*dor*mcc**4*n*p - 4*dor*mcc**2*n**2 - 4*dor*mcc**2*n*p - 4*dor*mcc**2*p**2 - 2*dor*n*p + mcc**4*n*p - 2*mcc**2*n*p + n*p) + mcc**2*n**3*p + 3*mcc**2*n**2*p**2 - n**(5/2)*sqrt(p)*sqrt(dor**2*mcc**4*n*p - 2*dor**2*mcc**2*n*p + dor**2*n*p - 2*dor*mcc**4*n*p - 4*dor*mcc**2*n**2 - 4*dor*mcc**2*n*p - 4*dor*mcc**2*p**2 - 2*dor*n*p + mcc**4*n*p - 2*mcc**2*n*p + n*p) + n**3*p)/(dor**2*mcc**4*n*p**2 + dor**2*mcc**2*n**2*p - dor**2*mcc**2*n*p**2 - dor**2*n**2*p - dor*mcc**2*sqrt(n)*p**(3/2)*sqrt(dor**2*mcc**4*n*p - 2*dor**2*mcc**2*n*p + dor**2*n*p - 2*dor*mcc**4*n*p - 4*dor*mcc**2*n**2 - 4*dor*mcc**2*n*p - 4*dor*mcc**2*p**2 - 2*dor*n*p + mcc**4*n*p - 2*mcc**2*n*p + n*p) - dor*n**(3/2)*sqrt(p)*sqrt(dor**2*mcc**4*n*p - 2*dor**2*mcc**2*n*p + dor**2*n*p - 2*dor*mcc**4*n*p - 4*dor*mcc**2*n**2 - 4*dor*mcc**2*n*p - 4*dor*mcc**2*p**2 - 2*dor*n*p + mcc**4*n*p - 2*mcc**2*n*p + n*p) - mcc**4*n*p**2 + mcc**2*sqrt(n)*p**(3/2)*sqrt(dor**2*mcc**4*n*p - 2*dor**2*mcc**2*n*p + dor**2*n*p - 2*dor*mcc**4*n*p - 4*dor*mcc**2*n**2 - 4*dor*mcc**2*n*p - 4*dor*mcc**2*p**2 - 2*dor*n*p + mcc**4*n*p - 2*mcc**2*n*p + n*p) - mcc**2*n**2*p + mcc**2*n*p**2 + n**(3/2)*sqrt(p)*sqrt(dor**2*mcc**4*n*p - 2*dor**2*mcc**2*n*p + dor**2*n*p - 2*dor*mcc**4*n*p - 4*dor*mcc**2*n**2 - 4*dor*mcc**2*n*p - 4*dor*mcc**2*p**2 - 2*dor*n*p + mcc**4*n*p - 2*mcc**2*n*p + n*p) + n**2*p),\n",
       "  tp: (dor*mcc**4*n*p**2 + 2*dor*mcc**4*p**3 + dor*mcc**2*n**2*p + 3*dor*mcc**2*n*p**2 + dor*n**2*p + mcc**4*n*p**2 - mcc**2*sqrt(n)*p**(3/2)*sqrt(dor**2*mcc**4*n*p - 2*dor**2*mcc**2*n*p + dor**2*n*p - 2*dor*mcc**4*n*p - 4*dor*mcc**2*n**2 - 4*dor*mcc**2*n*p - 4*dor*mcc**2*p**2 - 2*dor*n*p + mcc**4*n*p - 2*mcc**2*n*p + n*p) + mcc**2*n**2*p - mcc**2*n*p**2 - n**(3/2)*sqrt(p)*sqrt(dor**2*mcc**4*n*p - 2*dor**2*mcc**2*n*p + dor**2*n*p - 2*dor*mcc**4*n*p - 4*dor*mcc**2*n**2 - 4*dor*mcc**2*n*p - 4*dor*mcc**2*p**2 - 2*dor*n*p + mcc**4*n*p - 2*mcc**2*n*p + n*p) - n**2*p)/(2*(dor*mcc**4*p**2 + 2*dor*mcc**2*n*p + dor*n**2 - mcc**4*p**2 - 2*mcc**2*n*p - n**2))}]"
      ]
     },
     "execution_count": 12,
     "metadata": {},
     "output_type": "execute_result"
    }
   ],
   "source": [
    "sp.solve([score0.equation, \n",
    "            score1.equation,\n",
    "            n_eq,\n",
    "            p_eq], symbols['tn'], symbols['tp'], symbols['fn'], symbols['fp'],\n",
    "            dict=True,\n",
    "            check=False)"
   ]
  },
  {
   "cell_type": "code",
   "execution_count": 19,
   "metadata": {},
   "outputs": [
    {
     "data": {
      "text/plain": [
       "[{fn: 0, fp: n, tn: 0, tp: p},\n",
       " {fn: p, fp: 0, tn: n, tp: 0},\n",
       " {fn: (-dor*mcc**26*n**13*p + dor*mcc**24*n**13*p - 12*dor*mcc**24*n**12*p**2 + 12*dor*mcc**22*n**12*p**2 - 66*dor*mcc**22*n**11*p**3 + 66*dor*mcc**20*n**11*p**3 - 220*dor*mcc**20*n**10*p**4 + 220*dor*mcc**18*n**10*p**4 - 495*dor*mcc**18*n**9*p**5 + 495*dor*mcc**16*n**9*p**5 - 792*dor*mcc**16*n**8*p**6 + 792*dor*mcc**14*n**8*p**6 - 924*dor*mcc**14*n**7*p**7 + 924*dor*mcc**12*n**7*p**7 - 792*dor*mcc**12*n**6*p**8 + 792*dor*mcc**10*n**6*p**8 - 495*dor*mcc**10*n**5*p**9 + 495*dor*mcc**8*n**5*p**9 - 220*dor*mcc**8*n**4*p**10 + 220*dor*mcc**6*n**4*p**10 - 66*dor*mcc**6*n**3*p**11 + 66*dor*mcc**4*n**3*p**11 - 12*dor*mcc**4*n**2*p**12 + 12*dor*mcc**2*n**2*p**12 - dor*mcc**2*n*p**13 + dor*n*p**13 - mcc**26*n**13*p - 2*mcc**26*n**12*p**2 - mcc**24*n**(25/2)*sqrt(p)*sqrt(dor**2*mcc**4*n*p - 2*dor**2*mcc**2*n*p + dor**2*n*p - 2*dor*mcc**4*n*p - 4*dor*mcc**2*n**2 - 4*dor*mcc**2*n*p - 4*dor*mcc**2*p**2 - 2*dor*n*p + mcc**4*n*p - 2*mcc**2*n*p + n*p) - mcc**24*n**13*p - 12*mcc**24*n**12*p**2 - 24*mcc**24*n**11*p**3 - 12*mcc**22*n**(23/2)*p**(3/2)*sqrt(dor**2*mcc**4*n*p - 2*dor**2*mcc**2*n*p + dor**2*n*p - 2*dor*mcc**4*n*p - 4*dor*mcc**2*n**2 - 4*dor*mcc**2*n*p - 4*dor*mcc**2*p**2 - 2*dor*n*p + mcc**4*n*p - 2*mcc**2*n*p + n*p) - 12*mcc**22*n**12*p**2 - 66*mcc**22*n**11*p**3 - 132*mcc**22*n**10*p**4 - 66*mcc**20*n**(21/2)*p**(5/2)*sqrt(dor**2*mcc**4*n*p - 2*dor**2*mcc**2*n*p + dor**2*n*p - 2*dor*mcc**4*n*p - 4*dor*mcc**2*n**2 - 4*dor*mcc**2*n*p - 4*dor*mcc**2*p**2 - 2*dor*n*p + mcc**4*n*p - 2*mcc**2*n*p + n*p) - 66*mcc**20*n**11*p**3 - 220*mcc**20*n**10*p**4 - 440*mcc**20*n**9*p**5 - 220*mcc**18*n**(19/2)*p**(7/2)*sqrt(dor**2*mcc**4*n*p - 2*dor**2*mcc**2*n*p + dor**2*n*p - 2*dor*mcc**4*n*p - 4*dor*mcc**2*n**2 - 4*dor*mcc**2*n*p - 4*dor*mcc**2*p**2 - 2*dor*n*p + mcc**4*n*p - 2*mcc**2*n*p + n*p) - 220*mcc**18*n**10*p**4 - 495*mcc**18*n**9*p**5 - 990*mcc**18*n**8*p**6 - 495*mcc**16*n**(17/2)*p**(9/2)*sqrt(dor**2*mcc**4*n*p - 2*dor**2*mcc**2*n*p + dor**2*n*p - 2*dor*mcc**4*n*p - 4*dor*mcc**2*n**2 - 4*dor*mcc**2*n*p - 4*dor*mcc**2*p**2 - 2*dor*n*p + mcc**4*n*p - 2*mcc**2*n*p + n*p) - 495*mcc**16*n**9*p**5 - 792*mcc**16*n**8*p**6 - 1584*mcc**16*n**7*p**7 - 792*mcc**14*n**(15/2)*p**(11/2)*sqrt(dor**2*mcc**4*n*p - 2*dor**2*mcc**2*n*p + dor**2*n*p - 2*dor*mcc**4*n*p - 4*dor*mcc**2*n**2 - 4*dor*mcc**2*n*p - 4*dor*mcc**2*p**2 - 2*dor*n*p + mcc**4*n*p - 2*mcc**2*n*p + n*p) - 792*mcc**14*n**8*p**6 - 924*mcc**14*n**7*p**7 - 1848*mcc**14*n**6*p**8 - 924*mcc**12*n**(13/2)*p**(13/2)*sqrt(dor**2*mcc**4*n*p - 2*dor**2*mcc**2*n*p + dor**2*n*p - 2*dor*mcc**4*n*p - 4*dor*mcc**2*n**2 - 4*dor*mcc**2*n*p - 4*dor*mcc**2*p**2 - 2*dor*n*p + mcc**4*n*p - 2*mcc**2*n*p + n*p) - 924*mcc**12*n**7*p**7 - 792*mcc**12*n**6*p**8 - 1584*mcc**12*n**5*p**9 - 792*mcc**10*n**(11/2)*p**(15/2)*sqrt(dor**2*mcc**4*n*p - 2*dor**2*mcc**2*n*p + dor**2*n*p - 2*dor*mcc**4*n*p - 4*dor*mcc**2*n**2 - 4*dor*mcc**2*n*p - 4*dor*mcc**2*p**2 - 2*dor*n*p + mcc**4*n*p - 2*mcc**2*n*p + n*p) - 792*mcc**10*n**6*p**8 - 495*mcc**10*n**5*p**9 - 990*mcc**10*n**4*p**10 - 495*mcc**8*n**(9/2)*p**(17/2)*sqrt(dor**2*mcc**4*n*p - 2*dor**2*mcc**2*n*p + dor**2*n*p - 2*dor*mcc**4*n*p - 4*dor*mcc**2*n**2 - 4*dor*mcc**2*n*p - 4*dor*mcc**2*p**2 - 2*dor*n*p + mcc**4*n*p - 2*mcc**2*n*p + n*p) - 495*mcc**8*n**5*p**9 - 220*mcc**8*n**4*p**10 - 440*mcc**8*n**3*p**11 - 220*mcc**6*n**(7/2)*p**(19/2)*sqrt(dor**2*mcc**4*n*p - 2*dor**2*mcc**2*n*p + dor**2*n*p - 2*dor*mcc**4*n*p - 4*dor*mcc**2*n**2 - 4*dor*mcc**2*n*p - 4*dor*mcc**2*p**2 - 2*dor*n*p + mcc**4*n*p - 2*mcc**2*n*p + n*p) - 220*mcc**6*n**4*p**10 - 66*mcc**6*n**3*p**11 - 132*mcc**6*n**2*p**12 - 66*mcc**4*n**(5/2)*p**(21/2)*sqrt(dor**2*mcc**4*n*p - 2*dor**2*mcc**2*n*p + dor**2*n*p - 2*dor*mcc**4*n*p - 4*dor*mcc**2*n**2 - 4*dor*mcc**2*n*p - 4*dor*mcc**2*p**2 - 2*dor*n*p + mcc**4*n*p - 2*mcc**2*n*p + n*p) - 66*mcc**4*n**3*p**11 - 12*mcc**4*n**2*p**12 - 24*mcc**4*n*p**13 - 12*mcc**2*n**(3/2)*p**(23/2)*sqrt(dor**2*mcc**4*n*p - 2*dor**2*mcc**2*n*p + dor**2*n*p - 2*dor*mcc**4*n*p - 4*dor*mcc**2*n**2 - 4*dor*mcc**2*n*p - 4*dor*mcc**2*p**2 - 2*dor*n*p + mcc**4*n*p - 2*mcc**2*n*p + n*p) - 12*mcc**2*n**2*p**12 - mcc**2*n*p**13 - 2*mcc**2*p**14 - sqrt(n)*p**(25/2)*sqrt(dor**2*mcc**4*n*p - 2*dor**2*mcc**2*n*p + dor**2*n*p - 2*dor*mcc**4*n*p - 4*dor*mcc**2*n**2 - 4*dor*mcc**2*n*p - 4*dor*mcc**2*p**2 - 2*dor*n*p + mcc**4*n*p - 2*mcc**2*n*p + n*p) - n*p**13)/(2*(dor*mcc**26*n**12*p + dor*mcc**24*n**13 + 12*dor*mcc**24*n**11*p**2 + 12*dor*mcc**22*n**12*p + 66*dor*mcc**22*n**10*p**3 + 66*dor*mcc**20*n**11*p**2 + 220*dor*mcc**20*n**9*p**4 + 220*dor*mcc**18*n**10*p**3 + 495*dor*mcc**18*n**8*p**5 + 495*dor*mcc**16*n**9*p**4 + 792*dor*mcc**16*n**7*p**6 + 792*dor*mcc**14*n**8*p**5 + 924*dor*mcc**14*n**6*p**7 + 924*dor*mcc**12*n**7*p**6 + 792*dor*mcc**12*n**5*p**8 + 792*dor*mcc**10*n**6*p**7 + 495*dor*mcc**10*n**4*p**9 + 495*dor*mcc**8*n**5*p**8 + 220*dor*mcc**8*n**3*p**10 + 220*dor*mcc**6*n**4*p**9 + 66*dor*mcc**6*n**2*p**11 + 66*dor*mcc**4*n**3*p**10 + 12*dor*mcc**4*n*p**12 + 12*dor*mcc**2*n**2*p**11 + dor*mcc**2*p**13 + dor*n*p**12 - mcc**26*n**12*p - mcc**24*n**13 - 12*mcc**24*n**11*p**2 - 12*mcc**22*n**12*p - 66*mcc**22*n**10*p**3 - 66*mcc**20*n**11*p**2 - 220*mcc**20*n**9*p**4 - 220*mcc**18*n**10*p**3 - 495*mcc**18*n**8*p**5 - 495*mcc**16*n**9*p**4 - 792*mcc**16*n**7*p**6 - 792*mcc**14*n**8*p**5 - 924*mcc**14*n**6*p**7 - 924*mcc**12*n**7*p**6 - 792*mcc**12*n**5*p**8 - 792*mcc**10*n**6*p**7 - 495*mcc**10*n**4*p**9 - 495*mcc**8*n**5*p**8 - 220*mcc**8*n**3*p**10 - 220*mcc**6*n**4*p**9 - 66*mcc**6*n**2*p**11 - 66*mcc**4*n**3*p**10 - 12*mcc**4*n*p**12 - 12*mcc**2*n**2*p**11 - mcc**2*p**13 - n*p**12)),\n",
       "  fp: (-dor*mcc**4*n**2*p + dor*mcc**2*n**2*p - dor*mcc**2*n*p**2 + dor*n*p**2 - 2*mcc**4*n**3 - mcc**4*n**2*p + mcc**2*n**(3/2)*sqrt(p)*sqrt(dor**2*mcc**4*n*p - 2*dor**2*mcc**2*n*p + dor**2*n*p - 2*dor*mcc**4*n*p - 4*dor*mcc**2*n**2 - 4*dor*mcc**2*n*p - 4*dor*mcc**2*p**2 - 2*dor*n*p + mcc**4*n*p - 2*mcc**2*n*p + n*p) - 3*mcc**2*n**2*p - mcc**2*n*p**2 + sqrt(n)*p**(3/2)*sqrt(dor**2*mcc**4*n*p - 2*dor**2*mcc**2*n*p + dor**2*n*p - 2*dor*mcc**4*n*p - 4*dor*mcc**2*n**2 - 4*dor*mcc**2*n*p - 4*dor*mcc**2*p**2 - 2*dor*n*p + mcc**4*n*p - 2*mcc**2*n*p + n*p) - n*p**2)/(2*dor*mcc**4*n**2 + 4*dor*mcc**2*n*p + 2*dor*p**2 - 2*mcc**4*n**2 - 4*mcc**2*n*p - 2*p**2),\n",
       "  tn: (2*dor*mcc**8*n**5 + dor*mcc**8*n**4*p + 7*dor*mcc**6*n**4*p + 3*dor*mcc**6*n**3*p**2 + 9*dor*mcc**4*n**3*p**2 + 3*dor*mcc**4*n**2*p**3 + 5*dor*mcc**2*n**2*p**3 + dor*mcc**2*n*p**4 + dor*n*p**4 + mcc**8*n**4*p - mcc**6*n**(7/2)*sqrt(p)*sqrt(dor**2*mcc**4*n*p - 2*dor**2*mcc**2*n*p + dor**2*n*p - 2*dor*mcc**4*n*p - 4*dor*mcc**2*n**2 - 4*dor*mcc**2*n*p - 4*dor*mcc**2*p**2 - 2*dor*n*p + mcc**4*n*p - 2*mcc**2*n*p + n*p) - mcc**6*n**4*p + 3*mcc**6*n**3*p**2 - 3*mcc**4*n**(5/2)*p**(3/2)*sqrt(dor**2*mcc**4*n*p - 2*dor**2*mcc**2*n*p + dor**2*n*p - 2*dor*mcc**4*n*p - 4*dor*mcc**2*n**2 - 4*dor*mcc**2*n*p - 4*dor*mcc**2*p**2 - 2*dor*n*p + mcc**4*n*p - 2*mcc**2*n*p + n*p) - 3*mcc**4*n**3*p**2 + 3*mcc**4*n**2*p**3 - 3*mcc**2*n**(3/2)*p**(5/2)*sqrt(dor**2*mcc**4*n*p - 2*dor**2*mcc**2*n*p + dor**2*n*p - 2*dor*mcc**4*n*p - 4*dor*mcc**2*n**2 - 4*dor*mcc**2*n*p - 4*dor*mcc**2*p**2 - 2*dor*n*p + mcc**4*n*p - 2*mcc**2*n*p + n*p) - 3*mcc**2*n**2*p**3 + mcc**2*n*p**4 - sqrt(n)*p**(7/2)*sqrt(dor**2*mcc**4*n*p - 2*dor**2*mcc**2*n*p + dor**2*n*p - 2*dor*mcc**4*n*p - 4*dor*mcc**2*n**2 - 4*dor*mcc**2*n*p - 4*dor*mcc**2*p**2 - 2*dor*n*p + mcc**4*n*p - 2*mcc**2*n*p + n*p) - n*p**4)/(2*(mcc**4*n**2 + 2*mcc**2*n*p + p**2)*(dor*mcc**4*n**2 + 2*dor*mcc**2*n*p + dor*p**2 - mcc**4*n**2 - 2*mcc**2*n*p - p**2)),\n",
       "  tp: (dor*mcc**26*n**13*p + 2*dor*mcc**26*n**12*p**2 + dor*mcc**24*n**13*p + 12*dor*mcc**24*n**12*p**2 + 24*dor*mcc**24*n**11*p**3 + 12*dor*mcc**22*n**12*p**2 + 66*dor*mcc**22*n**11*p**3 + 132*dor*mcc**22*n**10*p**4 + 66*dor*mcc**20*n**11*p**3 + 220*dor*mcc**20*n**10*p**4 + 440*dor*mcc**20*n**9*p**5 + 220*dor*mcc**18*n**10*p**4 + 495*dor*mcc**18*n**9*p**5 + 990*dor*mcc**18*n**8*p**6 + 495*dor*mcc**16*n**9*p**5 + 792*dor*mcc**16*n**8*p**6 + 1584*dor*mcc**16*n**7*p**7 + 792*dor*mcc**14*n**8*p**6 + 924*dor*mcc**14*n**7*p**7 + 1848*dor*mcc**14*n**6*p**8 + 924*dor*mcc**12*n**7*p**7 + 792*dor*mcc**12*n**6*p**8 + 1584*dor*mcc**12*n**5*p**9 + 792*dor*mcc**10*n**6*p**8 + 495*dor*mcc**10*n**5*p**9 + 990*dor*mcc**10*n**4*p**10 + 495*dor*mcc**8*n**5*p**9 + 220*dor*mcc**8*n**4*p**10 + 440*dor*mcc**8*n**3*p**11 + 220*dor*mcc**6*n**4*p**10 + 66*dor*mcc**6*n**3*p**11 + 132*dor*mcc**6*n**2*p**12 + 66*dor*mcc**4*n**3*p**11 + 12*dor*mcc**4*n**2*p**12 + 24*dor*mcc**4*n*p**13 + 12*dor*mcc**2*n**2*p**12 + dor*mcc**2*n*p**13 + 2*dor*mcc**2*p**14 + dor*n*p**13 + mcc**26*n**13*p + mcc**24*n**(25/2)*sqrt(p)*sqrt(dor**2*mcc**4*n*p - 2*dor**2*mcc**2*n*p + dor**2*n*p - 2*dor*mcc**4*n*p - 4*dor*mcc**2*n**2 - 4*dor*mcc**2*n*p - 4*dor*mcc**2*p**2 - 2*dor*n*p + mcc**4*n*p - 2*mcc**2*n*p + n*p) - mcc**24*n**13*p + 12*mcc**24*n**12*p**2 + 12*mcc**22*n**(23/2)*p**(3/2)*sqrt(dor**2*mcc**4*n*p - 2*dor**2*mcc**2*n*p + dor**2*n*p - 2*dor*mcc**4*n*p - 4*dor*mcc**2*n**2 - 4*dor*mcc**2*n*p - 4*dor*mcc**2*p**2 - 2*dor*n*p + mcc**4*n*p - 2*mcc**2*n*p + n*p) - 12*mcc**22*n**12*p**2 + 66*mcc**22*n**11*p**3 + 66*mcc**20*n**(21/2)*p**(5/2)*sqrt(dor**2*mcc**4*n*p - 2*dor**2*mcc**2*n*p + dor**2*n*p - 2*dor*mcc**4*n*p - 4*dor*mcc**2*n**2 - 4*dor*mcc**2*n*p - 4*dor*mcc**2*p**2 - 2*dor*n*p + mcc**4*n*p - 2*mcc**2*n*p + n*p) - 66*mcc**20*n**11*p**3 + 220*mcc**20*n**10*p**4 + 220*mcc**18*n**(19/2)*p**(7/2)*sqrt(dor**2*mcc**4*n*p - 2*dor**2*mcc**2*n*p + dor**2*n*p - 2*dor*mcc**4*n*p - 4*dor*mcc**2*n**2 - 4*dor*mcc**2*n*p - 4*dor*mcc**2*p**2 - 2*dor*n*p + mcc**4*n*p - 2*mcc**2*n*p + n*p) - 220*mcc**18*n**10*p**4 + 495*mcc**18*n**9*p**5 + 495*mcc**16*n**(17/2)*p**(9/2)*sqrt(dor**2*mcc**4*n*p - 2*dor**2*mcc**2*n*p + dor**2*n*p - 2*dor*mcc**4*n*p - 4*dor*mcc**2*n**2 - 4*dor*mcc**2*n*p - 4*dor*mcc**2*p**2 - 2*dor*n*p + mcc**4*n*p - 2*mcc**2*n*p + n*p) - 495*mcc**16*n**9*p**5 + 792*mcc**16*n**8*p**6 + 792*mcc**14*n**(15/2)*p**(11/2)*sqrt(dor**2*mcc**4*n*p - 2*dor**2*mcc**2*n*p + dor**2*n*p - 2*dor*mcc**4*n*p - 4*dor*mcc**2*n**2 - 4*dor*mcc**2*n*p - 4*dor*mcc**2*p**2 - 2*dor*n*p + mcc**4*n*p - 2*mcc**2*n*p + n*p) - 792*mcc**14*n**8*p**6 + 924*mcc**14*n**7*p**7 + 924*mcc**12*n**(13/2)*p**(13/2)*sqrt(dor**2*mcc**4*n*p - 2*dor**2*mcc**2*n*p + dor**2*n*p - 2*dor*mcc**4*n*p - 4*dor*mcc**2*n**2 - 4*dor*mcc**2*n*p - 4*dor*mcc**2*p**2 - 2*dor*n*p + mcc**4*n*p - 2*mcc**2*n*p + n*p) - 924*mcc**12*n**7*p**7 + 792*mcc**12*n**6*p**8 + 792*mcc**10*n**(11/2)*p**(15/2)*sqrt(dor**2*mcc**4*n*p - 2*dor**2*mcc**2*n*p + dor**2*n*p - 2*dor*mcc**4*n*p - 4*dor*mcc**2*n**2 - 4*dor*mcc**2*n*p - 4*dor*mcc**2*p**2 - 2*dor*n*p + mcc**4*n*p - 2*mcc**2*n*p + n*p) - 792*mcc**10*n**6*p**8 + 495*mcc**10*n**5*p**9 + 495*mcc**8*n**(9/2)*p**(17/2)*sqrt(dor**2*mcc**4*n*p - 2*dor**2*mcc**2*n*p + dor**2*n*p - 2*dor*mcc**4*n*p - 4*dor*mcc**2*n**2 - 4*dor*mcc**2*n*p - 4*dor*mcc**2*p**2 - 2*dor*n*p + mcc**4*n*p - 2*mcc**2*n*p + n*p) - 495*mcc**8*n**5*p**9 + 220*mcc**8*n**4*p**10 + 220*mcc**6*n**(7/2)*p**(19/2)*sqrt(dor**2*mcc**4*n*p - 2*dor**2*mcc**2*n*p + dor**2*n*p - 2*dor*mcc**4*n*p - 4*dor*mcc**2*n**2 - 4*dor*mcc**2*n*p - 4*dor*mcc**2*p**2 - 2*dor*n*p + mcc**4*n*p - 2*mcc**2*n*p + n*p) - 220*mcc**6*n**4*p**10 + 66*mcc**6*n**3*p**11 + 66*mcc**4*n**(5/2)*p**(21/2)*sqrt(dor**2*mcc**4*n*p - 2*dor**2*mcc**2*n*p + dor**2*n*p - 2*dor*mcc**4*n*p - 4*dor*mcc**2*n**2 - 4*dor*mcc**2*n*p - 4*dor*mcc**2*p**2 - 2*dor*n*p + mcc**4*n*p - 2*mcc**2*n*p + n*p) - 66*mcc**4*n**3*p**11 + 12*mcc**4*n**2*p**12 + 12*mcc**2*n**(3/2)*p**(23/2)*sqrt(dor**2*mcc**4*n*p - 2*dor**2*mcc**2*n*p + dor**2*n*p - 2*dor*mcc**4*n*p - 4*dor*mcc**2*n**2 - 4*dor*mcc**2*n*p - 4*dor*mcc**2*p**2 - 2*dor*n*p + mcc**4*n*p - 2*mcc**2*n*p + n*p) - 12*mcc**2*n**2*p**12 + mcc**2*n*p**13 + sqrt(n)*p**(25/2)*sqrt(dor**2*mcc**4*n*p - 2*dor**2*mcc**2*n*p + dor**2*n*p - 2*dor*mcc**4*n*p - 4*dor*mcc**2*n**2 - 4*dor*mcc**2*n*p - 4*dor*mcc**2*p**2 - 2*dor*n*p + mcc**4*n*p - 2*mcc**2*n*p + n*p) - n*p**13)/(2*(dor*mcc**26*n**12*p + dor*mcc**24*n**13 + 12*dor*mcc**24*n**11*p**2 + 12*dor*mcc**22*n**12*p + 66*dor*mcc**22*n**10*p**3 + 66*dor*mcc**20*n**11*p**2 + 220*dor*mcc**20*n**9*p**4 + 220*dor*mcc**18*n**10*p**3 + 495*dor*mcc**18*n**8*p**5 + 495*dor*mcc**16*n**9*p**4 + 792*dor*mcc**16*n**7*p**6 + 792*dor*mcc**14*n**8*p**5 + 924*dor*mcc**14*n**6*p**7 + 924*dor*mcc**12*n**7*p**6 + 792*dor*mcc**12*n**5*p**8 + 792*dor*mcc**10*n**6*p**7 + 495*dor*mcc**10*n**4*p**9 + 495*dor*mcc**8*n**5*p**8 + 220*dor*mcc**8*n**3*p**10 + 220*dor*mcc**6*n**4*p**9 + 66*dor*mcc**6*n**2*p**11 + 66*dor*mcc**4*n**3*p**10 + 12*dor*mcc**4*n*p**12 + 12*dor*mcc**2*n**2*p**11 + dor*mcc**2*p**13 + dor*n*p**12 - mcc**26*n**12*p - mcc**24*n**13 - 12*mcc**24*n**11*p**2 - 12*mcc**22*n**12*p - 66*mcc**22*n**10*p**3 - 66*mcc**20*n**11*p**2 - 220*mcc**20*n**9*p**4 - 220*mcc**18*n**10*p**3 - 495*mcc**18*n**8*p**5 - 495*mcc**16*n**9*p**4 - 792*mcc**16*n**7*p**6 - 792*mcc**14*n**8*p**5 - 924*mcc**14*n**6*p**7 - 924*mcc**12*n**7*p**6 - 792*mcc**12*n**5*p**8 - 792*mcc**10*n**6*p**7 - 495*mcc**10*n**4*p**9 - 495*mcc**8*n**5*p**8 - 220*mcc**8*n**3*p**10 - 220*mcc**6*n**4*p**9 - 66*mcc**6*n**2*p**11 - 66*mcc**4*n**3*p**10 - 12*mcc**4*n*p**12 - 12*mcc**2*n**2*p**11 - mcc**2*p**13 - n*p**12))},\n",
       " {fn: (-dor*mcc**26*n**13*p + dor*mcc**24*n**13*p - 12*dor*mcc**24*n**12*p**2 + 12*dor*mcc**22*n**12*p**2 - 66*dor*mcc**22*n**11*p**3 + 66*dor*mcc**20*n**11*p**3 - 220*dor*mcc**20*n**10*p**4 + 220*dor*mcc**18*n**10*p**4 - 495*dor*mcc**18*n**9*p**5 + 495*dor*mcc**16*n**9*p**5 - 792*dor*mcc**16*n**8*p**6 + 792*dor*mcc**14*n**8*p**6 - 924*dor*mcc**14*n**7*p**7 + 924*dor*mcc**12*n**7*p**7 - 792*dor*mcc**12*n**6*p**8 + 792*dor*mcc**10*n**6*p**8 - 495*dor*mcc**10*n**5*p**9 + 495*dor*mcc**8*n**5*p**9 - 220*dor*mcc**8*n**4*p**10 + 220*dor*mcc**6*n**4*p**10 - 66*dor*mcc**6*n**3*p**11 + 66*dor*mcc**4*n**3*p**11 - 12*dor*mcc**4*n**2*p**12 + 12*dor*mcc**2*n**2*p**12 - dor*mcc**2*n*p**13 + dor*n*p**13 - mcc**26*n**13*p - 2*mcc**26*n**12*p**2 + mcc**24*n**(25/2)*sqrt(p)*sqrt(dor**2*mcc**4*n*p - 2*dor**2*mcc**2*n*p + dor**2*n*p - 2*dor*mcc**4*n*p - 4*dor*mcc**2*n**2 - 4*dor*mcc**2*n*p - 4*dor*mcc**2*p**2 - 2*dor*n*p + mcc**4*n*p - 2*mcc**2*n*p + n*p) - mcc**24*n**13*p - 12*mcc**24*n**12*p**2 - 24*mcc**24*n**11*p**3 + 12*mcc**22*n**(23/2)*p**(3/2)*sqrt(dor**2*mcc**4*n*p - 2*dor**2*mcc**2*n*p + dor**2*n*p - 2*dor*mcc**4*n*p - 4*dor*mcc**2*n**2 - 4*dor*mcc**2*n*p - 4*dor*mcc**2*p**2 - 2*dor*n*p + mcc**4*n*p - 2*mcc**2*n*p + n*p) - 12*mcc**22*n**12*p**2 - 66*mcc**22*n**11*p**3 - 132*mcc**22*n**10*p**4 + 66*mcc**20*n**(21/2)*p**(5/2)*sqrt(dor**2*mcc**4*n*p - 2*dor**2*mcc**2*n*p + dor**2*n*p - 2*dor*mcc**4*n*p - 4*dor*mcc**2*n**2 - 4*dor*mcc**2*n*p - 4*dor*mcc**2*p**2 - 2*dor*n*p + mcc**4*n*p - 2*mcc**2*n*p + n*p) - 66*mcc**20*n**11*p**3 - 220*mcc**20*n**10*p**4 - 440*mcc**20*n**9*p**5 + 220*mcc**18*n**(19/2)*p**(7/2)*sqrt(dor**2*mcc**4*n*p - 2*dor**2*mcc**2*n*p + dor**2*n*p - 2*dor*mcc**4*n*p - 4*dor*mcc**2*n**2 - 4*dor*mcc**2*n*p - 4*dor*mcc**2*p**2 - 2*dor*n*p + mcc**4*n*p - 2*mcc**2*n*p + n*p) - 220*mcc**18*n**10*p**4 - 495*mcc**18*n**9*p**5 - 990*mcc**18*n**8*p**6 + 495*mcc**16*n**(17/2)*p**(9/2)*sqrt(dor**2*mcc**4*n*p - 2*dor**2*mcc**2*n*p + dor**2*n*p - 2*dor*mcc**4*n*p - 4*dor*mcc**2*n**2 - 4*dor*mcc**2*n*p - 4*dor*mcc**2*p**2 - 2*dor*n*p + mcc**4*n*p - 2*mcc**2*n*p + n*p) - 495*mcc**16*n**9*p**5 - 792*mcc**16*n**8*p**6 - 1584*mcc**16*n**7*p**7 + 792*mcc**14*n**(15/2)*p**(11/2)*sqrt(dor**2*mcc**4*n*p - 2*dor**2*mcc**2*n*p + dor**2*n*p - 2*dor*mcc**4*n*p - 4*dor*mcc**2*n**2 - 4*dor*mcc**2*n*p - 4*dor*mcc**2*p**2 - 2*dor*n*p + mcc**4*n*p - 2*mcc**2*n*p + n*p) - 792*mcc**14*n**8*p**6 - 924*mcc**14*n**7*p**7 - 1848*mcc**14*n**6*p**8 + 924*mcc**12*n**(13/2)*p**(13/2)*sqrt(dor**2*mcc**4*n*p - 2*dor**2*mcc**2*n*p + dor**2*n*p - 2*dor*mcc**4*n*p - 4*dor*mcc**2*n**2 - 4*dor*mcc**2*n*p - 4*dor*mcc**2*p**2 - 2*dor*n*p + mcc**4*n*p - 2*mcc**2*n*p + n*p) - 924*mcc**12*n**7*p**7 - 792*mcc**12*n**6*p**8 - 1584*mcc**12*n**5*p**9 + 792*mcc**10*n**(11/2)*p**(15/2)*sqrt(dor**2*mcc**4*n*p - 2*dor**2*mcc**2*n*p + dor**2*n*p - 2*dor*mcc**4*n*p - 4*dor*mcc**2*n**2 - 4*dor*mcc**2*n*p - 4*dor*mcc**2*p**2 - 2*dor*n*p + mcc**4*n*p - 2*mcc**2*n*p + n*p) - 792*mcc**10*n**6*p**8 - 495*mcc**10*n**5*p**9 - 990*mcc**10*n**4*p**10 + 495*mcc**8*n**(9/2)*p**(17/2)*sqrt(dor**2*mcc**4*n*p - 2*dor**2*mcc**2*n*p + dor**2*n*p - 2*dor*mcc**4*n*p - 4*dor*mcc**2*n**2 - 4*dor*mcc**2*n*p - 4*dor*mcc**2*p**2 - 2*dor*n*p + mcc**4*n*p - 2*mcc**2*n*p + n*p) - 495*mcc**8*n**5*p**9 - 220*mcc**8*n**4*p**10 - 440*mcc**8*n**3*p**11 + 220*mcc**6*n**(7/2)*p**(19/2)*sqrt(dor**2*mcc**4*n*p - 2*dor**2*mcc**2*n*p + dor**2*n*p - 2*dor*mcc**4*n*p - 4*dor*mcc**2*n**2 - 4*dor*mcc**2*n*p - 4*dor*mcc**2*p**2 - 2*dor*n*p + mcc**4*n*p - 2*mcc**2*n*p + n*p) - 220*mcc**6*n**4*p**10 - 66*mcc**6*n**3*p**11 - 132*mcc**6*n**2*p**12 + 66*mcc**4*n**(5/2)*p**(21/2)*sqrt(dor**2*mcc**4*n*p - 2*dor**2*mcc**2*n*p + dor**2*n*p - 2*dor*mcc**4*n*p - 4*dor*mcc**2*n**2 - 4*dor*mcc**2*n*p - 4*dor*mcc**2*p**2 - 2*dor*n*p + mcc**4*n*p - 2*mcc**2*n*p + n*p) - 66*mcc**4*n**3*p**11 - 12*mcc**4*n**2*p**12 - 24*mcc**4*n*p**13 + 12*mcc**2*n**(3/2)*p**(23/2)*sqrt(dor**2*mcc**4*n*p - 2*dor**2*mcc**2*n*p + dor**2*n*p - 2*dor*mcc**4*n*p - 4*dor*mcc**2*n**2 - 4*dor*mcc**2*n*p - 4*dor*mcc**2*p**2 - 2*dor*n*p + mcc**4*n*p - 2*mcc**2*n*p + n*p) - 12*mcc**2*n**2*p**12 - mcc**2*n*p**13 - 2*mcc**2*p**14 + sqrt(n)*p**(25/2)*sqrt(dor**2*mcc**4*n*p - 2*dor**2*mcc**2*n*p + dor**2*n*p - 2*dor*mcc**4*n*p - 4*dor*mcc**2*n**2 - 4*dor*mcc**2*n*p - 4*dor*mcc**2*p**2 - 2*dor*n*p + mcc**4*n*p - 2*mcc**2*n*p + n*p) - n*p**13)/(2*(dor*mcc**26*n**12*p + dor*mcc**24*n**13 + 12*dor*mcc**24*n**11*p**2 + 12*dor*mcc**22*n**12*p + 66*dor*mcc**22*n**10*p**3 + 66*dor*mcc**20*n**11*p**2 + 220*dor*mcc**20*n**9*p**4 + 220*dor*mcc**18*n**10*p**3 + 495*dor*mcc**18*n**8*p**5 + 495*dor*mcc**16*n**9*p**4 + 792*dor*mcc**16*n**7*p**6 + 792*dor*mcc**14*n**8*p**5 + 924*dor*mcc**14*n**6*p**7 + 924*dor*mcc**12*n**7*p**6 + 792*dor*mcc**12*n**5*p**8 + 792*dor*mcc**10*n**6*p**7 + 495*dor*mcc**10*n**4*p**9 + 495*dor*mcc**8*n**5*p**8 + 220*dor*mcc**8*n**3*p**10 + 220*dor*mcc**6*n**4*p**9 + 66*dor*mcc**6*n**2*p**11 + 66*dor*mcc**4*n**3*p**10 + 12*dor*mcc**4*n*p**12 + 12*dor*mcc**2*n**2*p**11 + dor*mcc**2*p**13 + dor*n*p**12 - mcc**26*n**12*p - mcc**24*n**13 - 12*mcc**24*n**11*p**2 - 12*mcc**22*n**12*p - 66*mcc**22*n**10*p**3 - 66*mcc**20*n**11*p**2 - 220*mcc**20*n**9*p**4 - 220*mcc**18*n**10*p**3 - 495*mcc**18*n**8*p**5 - 495*mcc**16*n**9*p**4 - 792*mcc**16*n**7*p**6 - 792*mcc**14*n**8*p**5 - 924*mcc**14*n**6*p**7 - 924*mcc**12*n**7*p**6 - 792*mcc**12*n**5*p**8 - 792*mcc**10*n**6*p**7 - 495*mcc**10*n**4*p**9 - 495*mcc**8*n**5*p**8 - 220*mcc**8*n**3*p**10 - 220*mcc**6*n**4*p**9 - 66*mcc**6*n**2*p**11 - 66*mcc**4*n**3*p**10 - 12*mcc**4*n*p**12 - 12*mcc**2*n**2*p**11 - mcc**2*p**13 - n*p**12)),\n",
       "  fp: (-dor*mcc**4*n**2*p + dor*mcc**2*n**2*p - dor*mcc**2*n*p**2 + dor*n*p**2 - 2*mcc**4*n**3 - mcc**4*n**2*p - mcc**2*n**(3/2)*sqrt(p)*sqrt(dor**2*mcc**4*n*p - 2*dor**2*mcc**2*n*p + dor**2*n*p - 2*dor*mcc**4*n*p - 4*dor*mcc**2*n**2 - 4*dor*mcc**2*n*p - 4*dor*mcc**2*p**2 - 2*dor*n*p + mcc**4*n*p - 2*mcc**2*n*p + n*p) - 3*mcc**2*n**2*p - mcc**2*n*p**2 - sqrt(n)*p**(3/2)*sqrt(dor**2*mcc**4*n*p - 2*dor**2*mcc**2*n*p + dor**2*n*p - 2*dor*mcc**4*n*p - 4*dor*mcc**2*n**2 - 4*dor*mcc**2*n*p - 4*dor*mcc**2*p**2 - 2*dor*n*p + mcc**4*n*p - 2*mcc**2*n*p + n*p) - n*p**2)/(2*dor*mcc**4*n**2 + 4*dor*mcc**2*n*p + 2*dor*p**2 - 2*mcc**4*n**2 - 4*mcc**2*n*p - 2*p**2),\n",
       "  tn: (2*dor*mcc**8*n**5 + dor*mcc**8*n**4*p + 7*dor*mcc**6*n**4*p + 3*dor*mcc**6*n**3*p**2 + 9*dor*mcc**4*n**3*p**2 + 3*dor*mcc**4*n**2*p**3 + 5*dor*mcc**2*n**2*p**3 + dor*mcc**2*n*p**4 + dor*n*p**4 + mcc**8*n**4*p + mcc**6*n**(7/2)*sqrt(p)*sqrt(dor**2*mcc**4*n*p - 2*dor**2*mcc**2*n*p + dor**2*n*p - 2*dor*mcc**4*n*p - 4*dor*mcc**2*n**2 - 4*dor*mcc**2*n*p - 4*dor*mcc**2*p**2 - 2*dor*n*p + mcc**4*n*p - 2*mcc**2*n*p + n*p) - mcc**6*n**4*p + 3*mcc**6*n**3*p**2 + 3*mcc**4*n**(5/2)*p**(3/2)*sqrt(dor**2*mcc**4*n*p - 2*dor**2*mcc**2*n*p + dor**2*n*p - 2*dor*mcc**4*n*p - 4*dor*mcc**2*n**2 - 4*dor*mcc**2*n*p - 4*dor*mcc**2*p**2 - 2*dor*n*p + mcc**4*n*p - 2*mcc**2*n*p + n*p) - 3*mcc**4*n**3*p**2 + 3*mcc**4*n**2*p**3 + 3*mcc**2*n**(3/2)*p**(5/2)*sqrt(dor**2*mcc**4*n*p - 2*dor**2*mcc**2*n*p + dor**2*n*p - 2*dor*mcc**4*n*p - 4*dor*mcc**2*n**2 - 4*dor*mcc**2*n*p - 4*dor*mcc**2*p**2 - 2*dor*n*p + mcc**4*n*p - 2*mcc**2*n*p + n*p) - 3*mcc**2*n**2*p**3 + mcc**2*n*p**4 + sqrt(n)*p**(7/2)*sqrt(dor**2*mcc**4*n*p - 2*dor**2*mcc**2*n*p + dor**2*n*p - 2*dor*mcc**4*n*p - 4*dor*mcc**2*n**2 - 4*dor*mcc**2*n*p - 4*dor*mcc**2*p**2 - 2*dor*n*p + mcc**4*n*p - 2*mcc**2*n*p + n*p) - n*p**4)/(2*(mcc**4*n**2 + 2*mcc**2*n*p + p**2)*(dor*mcc**4*n**2 + 2*dor*mcc**2*n*p + dor*p**2 - mcc**4*n**2 - 2*mcc**2*n*p - p**2)),\n",
       "  tp: (dor*mcc**26*n**13*p + 2*dor*mcc**26*n**12*p**2 + dor*mcc**24*n**13*p + 12*dor*mcc**24*n**12*p**2 + 24*dor*mcc**24*n**11*p**3 + 12*dor*mcc**22*n**12*p**2 + 66*dor*mcc**22*n**11*p**3 + 132*dor*mcc**22*n**10*p**4 + 66*dor*mcc**20*n**11*p**3 + 220*dor*mcc**20*n**10*p**4 + 440*dor*mcc**20*n**9*p**5 + 220*dor*mcc**18*n**10*p**4 + 495*dor*mcc**18*n**9*p**5 + 990*dor*mcc**18*n**8*p**6 + 495*dor*mcc**16*n**9*p**5 + 792*dor*mcc**16*n**8*p**6 + 1584*dor*mcc**16*n**7*p**7 + 792*dor*mcc**14*n**8*p**6 + 924*dor*mcc**14*n**7*p**7 + 1848*dor*mcc**14*n**6*p**8 + 924*dor*mcc**12*n**7*p**7 + 792*dor*mcc**12*n**6*p**8 + 1584*dor*mcc**12*n**5*p**9 + 792*dor*mcc**10*n**6*p**8 + 495*dor*mcc**10*n**5*p**9 + 990*dor*mcc**10*n**4*p**10 + 495*dor*mcc**8*n**5*p**9 + 220*dor*mcc**8*n**4*p**10 + 440*dor*mcc**8*n**3*p**11 + 220*dor*mcc**6*n**4*p**10 + 66*dor*mcc**6*n**3*p**11 + 132*dor*mcc**6*n**2*p**12 + 66*dor*mcc**4*n**3*p**11 + 12*dor*mcc**4*n**2*p**12 + 24*dor*mcc**4*n*p**13 + 12*dor*mcc**2*n**2*p**12 + dor*mcc**2*n*p**13 + 2*dor*mcc**2*p**14 + dor*n*p**13 + mcc**26*n**13*p - mcc**24*n**(25/2)*sqrt(p)*sqrt(dor**2*mcc**4*n*p - 2*dor**2*mcc**2*n*p + dor**2*n*p - 2*dor*mcc**4*n*p - 4*dor*mcc**2*n**2 - 4*dor*mcc**2*n*p - 4*dor*mcc**2*p**2 - 2*dor*n*p + mcc**4*n*p - 2*mcc**2*n*p + n*p) - mcc**24*n**13*p + 12*mcc**24*n**12*p**2 - 12*mcc**22*n**(23/2)*p**(3/2)*sqrt(dor**2*mcc**4*n*p - 2*dor**2*mcc**2*n*p + dor**2*n*p - 2*dor*mcc**4*n*p - 4*dor*mcc**2*n**2 - 4*dor*mcc**2*n*p - 4*dor*mcc**2*p**2 - 2*dor*n*p + mcc**4*n*p - 2*mcc**2*n*p + n*p) - 12*mcc**22*n**12*p**2 + 66*mcc**22*n**11*p**3 - 66*mcc**20*n**(21/2)*p**(5/2)*sqrt(dor**2*mcc**4*n*p - 2*dor**2*mcc**2*n*p + dor**2*n*p - 2*dor*mcc**4*n*p - 4*dor*mcc**2*n**2 - 4*dor*mcc**2*n*p - 4*dor*mcc**2*p**2 - 2*dor*n*p + mcc**4*n*p - 2*mcc**2*n*p + n*p) - 66*mcc**20*n**11*p**3 + 220*mcc**20*n**10*p**4 - 220*mcc**18*n**(19/2)*p**(7/2)*sqrt(dor**2*mcc**4*n*p - 2*dor**2*mcc**2*n*p + dor**2*n*p - 2*dor*mcc**4*n*p - 4*dor*mcc**2*n**2 - 4*dor*mcc**2*n*p - 4*dor*mcc**2*p**2 - 2*dor*n*p + mcc**4*n*p - 2*mcc**2*n*p + n*p) - 220*mcc**18*n**10*p**4 + 495*mcc**18*n**9*p**5 - 495*mcc**16*n**(17/2)*p**(9/2)*sqrt(dor**2*mcc**4*n*p - 2*dor**2*mcc**2*n*p + dor**2*n*p - 2*dor*mcc**4*n*p - 4*dor*mcc**2*n**2 - 4*dor*mcc**2*n*p - 4*dor*mcc**2*p**2 - 2*dor*n*p + mcc**4*n*p - 2*mcc**2*n*p + n*p) - 495*mcc**16*n**9*p**5 + 792*mcc**16*n**8*p**6 - 792*mcc**14*n**(15/2)*p**(11/2)*sqrt(dor**2*mcc**4*n*p - 2*dor**2*mcc**2*n*p + dor**2*n*p - 2*dor*mcc**4*n*p - 4*dor*mcc**2*n**2 - 4*dor*mcc**2*n*p - 4*dor*mcc**2*p**2 - 2*dor*n*p + mcc**4*n*p - 2*mcc**2*n*p + n*p) - 792*mcc**14*n**8*p**6 + 924*mcc**14*n**7*p**7 - 924*mcc**12*n**(13/2)*p**(13/2)*sqrt(dor**2*mcc**4*n*p - 2*dor**2*mcc**2*n*p + dor**2*n*p - 2*dor*mcc**4*n*p - 4*dor*mcc**2*n**2 - 4*dor*mcc**2*n*p - 4*dor*mcc**2*p**2 - 2*dor*n*p + mcc**4*n*p - 2*mcc**2*n*p + n*p) - 924*mcc**12*n**7*p**7 + 792*mcc**12*n**6*p**8 - 792*mcc**10*n**(11/2)*p**(15/2)*sqrt(dor**2*mcc**4*n*p - 2*dor**2*mcc**2*n*p + dor**2*n*p - 2*dor*mcc**4*n*p - 4*dor*mcc**2*n**2 - 4*dor*mcc**2*n*p - 4*dor*mcc**2*p**2 - 2*dor*n*p + mcc**4*n*p - 2*mcc**2*n*p + n*p) - 792*mcc**10*n**6*p**8 + 495*mcc**10*n**5*p**9 - 495*mcc**8*n**(9/2)*p**(17/2)*sqrt(dor**2*mcc**4*n*p - 2*dor**2*mcc**2*n*p + dor**2*n*p - 2*dor*mcc**4*n*p - 4*dor*mcc**2*n**2 - 4*dor*mcc**2*n*p - 4*dor*mcc**2*p**2 - 2*dor*n*p + mcc**4*n*p - 2*mcc**2*n*p + n*p) - 495*mcc**8*n**5*p**9 + 220*mcc**8*n**4*p**10 - 220*mcc**6*n**(7/2)*p**(19/2)*sqrt(dor**2*mcc**4*n*p - 2*dor**2*mcc**2*n*p + dor**2*n*p - 2*dor*mcc**4*n*p - 4*dor*mcc**2*n**2 - 4*dor*mcc**2*n*p - 4*dor*mcc**2*p**2 - 2*dor*n*p + mcc**4*n*p - 2*mcc**2*n*p + n*p) - 220*mcc**6*n**4*p**10 + 66*mcc**6*n**3*p**11 - 66*mcc**4*n**(5/2)*p**(21/2)*sqrt(dor**2*mcc**4*n*p - 2*dor**2*mcc**2*n*p + dor**2*n*p - 2*dor*mcc**4*n*p - 4*dor*mcc**2*n**2 - 4*dor*mcc**2*n*p - 4*dor*mcc**2*p**2 - 2*dor*n*p + mcc**4*n*p - 2*mcc**2*n*p + n*p) - 66*mcc**4*n**3*p**11 + 12*mcc**4*n**2*p**12 - 12*mcc**2*n**(3/2)*p**(23/2)*sqrt(dor**2*mcc**4*n*p - 2*dor**2*mcc**2*n*p + dor**2*n*p - 2*dor*mcc**4*n*p - 4*dor*mcc**2*n**2 - 4*dor*mcc**2*n*p - 4*dor*mcc**2*p**2 - 2*dor*n*p + mcc**4*n*p - 2*mcc**2*n*p + n*p) - 12*mcc**2*n**2*p**12 + mcc**2*n*p**13 - sqrt(n)*p**(25/2)*sqrt(dor**2*mcc**4*n*p - 2*dor**2*mcc**2*n*p + dor**2*n*p - 2*dor*mcc**4*n*p - 4*dor*mcc**2*n**2 - 4*dor*mcc**2*n*p - 4*dor*mcc**2*p**2 - 2*dor*n*p + mcc**4*n*p - 2*mcc**2*n*p + n*p) - n*p**13)/(2*(dor*mcc**26*n**12*p + dor*mcc**24*n**13 + 12*dor*mcc**24*n**11*p**2 + 12*dor*mcc**22*n**12*p + 66*dor*mcc**22*n**10*p**3 + 66*dor*mcc**20*n**11*p**2 + 220*dor*mcc**20*n**9*p**4 + 220*dor*mcc**18*n**10*p**3 + 495*dor*mcc**18*n**8*p**5 + 495*dor*mcc**16*n**9*p**4 + 792*dor*mcc**16*n**7*p**6 + 792*dor*mcc**14*n**8*p**5 + 924*dor*mcc**14*n**6*p**7 + 924*dor*mcc**12*n**7*p**6 + 792*dor*mcc**12*n**5*p**8 + 792*dor*mcc**10*n**6*p**7 + 495*dor*mcc**10*n**4*p**9 + 495*dor*mcc**8*n**5*p**8 + 220*dor*mcc**8*n**3*p**10 + 220*dor*mcc**6*n**4*p**9 + 66*dor*mcc**6*n**2*p**11 + 66*dor*mcc**4*n**3*p**10 + 12*dor*mcc**4*n*p**12 + 12*dor*mcc**2*n**2*p**11 + dor*mcc**2*p**13 + dor*n*p**12 - mcc**26*n**12*p - mcc**24*n**13 - 12*mcc**24*n**11*p**2 - 12*mcc**22*n**12*p - 66*mcc**22*n**10*p**3 - 66*mcc**20*n**11*p**2 - 220*mcc**20*n**9*p**4 - 220*mcc**18*n**10*p**3 - 495*mcc**18*n**8*p**5 - 495*mcc**16*n**9*p**4 - 792*mcc**16*n**7*p**6 - 792*mcc**14*n**8*p**5 - 924*mcc**14*n**6*p**7 - 924*mcc**12*n**7*p**6 - 792*mcc**12*n**5*p**8 - 792*mcc**10*n**6*p**7 - 495*mcc**10*n**4*p**9 - 495*mcc**8*n**5*p**8 - 220*mcc**8*n**3*p**10 - 220*mcc**6*n**4*p**9 - 66*mcc**6*n**2*p**11 - 66*mcc**4*n**3*p**10 - 12*mcc**4*n*p**12 - 12*mcc**2*n**2*p**11 - mcc**2*p**13 - n*p**12))}]"
      ]
     },
     "execution_count": 19,
     "metadata": {},
     "output_type": "execute_result"
    }
   ],
   "source": [
    "sp.solve([score0.equation_polynomial, \n",
    "            score1.equation_polynomial,\n",
    "            n_eq,\n",
    "            p_eq], symbols['tn'], symbols['tp'], symbols['fn'], symbols['fp'],\n",
    "            dict=True,\n",
    "            check=False)"
   ]
  },
  {
   "cell_type": "code",
   "execution_count": 21,
   "metadata": {},
   "outputs": [
    {
     "data": {
      "text/latex": [
       "$\\displaystyle \\operatorname{GroebnerBasis}\\left(\\left( fp - n + tn, \\  fp^{3} \\left(- dor^{2} mcc^{2} n - dor^{2} p + 2 dor mcc^{2} n + 2 dor p - mcc^{2} n - p\\right) + fp^{2} \\left(dor^{2} mcc^{2} n^{2} - dor^{2} mcc^{2} n p + 2 dor^{2} n p - 3 dor mcc^{2} n^{2} - 3 dor n p + 2 mcc^{2} n^{2} + mcc^{2} n p + n p\\right) + fp \\left(dor^{2} mcc^{2} n^{2} p - dor^{2} n^{2} p + dor mcc^{2} n^{3} - dor mcc^{2} n p^{2} - mcc^{2} n^{3} - mcc^{2} n^{2} p\\right) + tp \\left(dor mcc^{2} n^{2} p + dor n^{3}\\right), \\  - dor mcc^{2} n^{2} p^{2} - dor n^{3} p + fn \\left(dor mcc^{2} n^{2} p + dor n^{3}\\right) + fp^{3} \\left(dor^{2} mcc^{2} n + dor^{2} p - 2 dor mcc^{2} n - 2 dor p + mcc^{2} n + p\\right) + fp^{2} \\left(- dor^{2} mcc^{2} n^{2} + dor^{2} mcc^{2} n p - 2 dor^{2} n p + 3 dor mcc^{2} n^{2} + 3 dor n p - 2 mcc^{2} n^{2} - mcc^{2} n p - n p\\right) + fp \\left(- dor^{2} mcc^{2} n^{2} p + dor^{2} n^{2} p - dor mcc^{2} n^{3} + dor mcc^{2} n p^{2} + mcc^{2} n^{3} + mcc^{2} n^{2} p\\right), \\  fp^{4} \\left(dor^{2} mcc^{2} n + dor^{2} p - 2 dor mcc^{2} n - 2 dor p + mcc^{2} n + p\\right) + fp^{3} \\left(- dor^{2} mcc^{2} n^{2} + dor^{2} mcc^{2} n p - 2 dor^{2} n p + 4 dor mcc^{2} n^{2} + 4 dor n p - 3 mcc^{2} n^{2} - mcc^{2} n p - 2 n p\\right) + fp^{2} \\left(- dor^{2} mcc^{2} n^{2} p + dor^{2} n^{2} p - 2 dor mcc^{2} n^{3} + dor mcc^{2} n^{2} p + dor mcc^{2} n p^{2} - 2 dor n^{2} p + 3 mcc^{2} n^{3} + 2 mcc^{2} n^{2} p + n^{2} p\\right) + fp \\left(- dor mcc^{2} n^{3} p - dor mcc^{2} n^{2} p^{2} - mcc^{2} n^{4} - mcc^{2} n^{3} p\\right)\\right), \\left( tn, \\  tp, \\  fn, \\  fp\\right)\\right)$"
      ],
      "text/plain": [
       "GroebnerBasis([fp - n + tn, fp**3*(-dor**2*mcc**2*n - dor**2*p + 2*dor*mcc**2*n + 2*dor*p - mcc**2*n - p) + fp**2*(dor**2*mcc**2*n**2 - dor**2*mcc**2*n*p + 2*dor**2*n*p - 3*dor*mcc**2*n**2 - 3*dor*n*p + 2*mcc**2*n**2 + mcc**2*n*p + n*p) + fp*(dor**2*mcc**2*n**2*p - dor**2*n**2*p + dor*mcc**2*n**3 - dor*mcc**2*n*p**2 - mcc**2*n**3 - mcc**2*n**2*p) + tp*(dor*mcc**2*n**2*p + dor*n**3), -dor*mcc**2*n**2*p**2 - dor*n**3*p + fn*(dor*mcc**2*n**2*p + dor*n**3) + fp**3*(dor**2*mcc**2*n + dor**2*p - 2*dor*mcc**2*n - 2*dor*p + mcc**2*n + p) + fp**2*(-dor**2*mcc**2*n**2 + dor**2*mcc**2*n*p - 2*dor**2*n*p + 3*dor*mcc**2*n**2 + 3*dor*n*p - 2*mcc**2*n**2 - mcc**2*n*p - n*p) + fp*(-dor**2*mcc**2*n**2*p + dor**2*n**2*p - dor*mcc**2*n**3 + dor*mcc**2*n*p**2 + mcc**2*n**3 + mcc**2*n**2*p), fp**4*(dor**2*mcc**2*n + dor**2*p - 2*dor*mcc**2*n - 2*dor*p + mcc**2*n + p) + fp**3*(-dor**2*mcc**2*n**2 + dor**2*mcc**2*n*p - 2*dor**2*n*p + 4*dor*mcc**2*n**2 + 4*dor*n*p - 3*mcc**2*n**2 - mcc**2*n*p - 2*n*p) + fp**2*(-dor**2*mcc**2*n**2*p + dor**2*n**2*p - 2*dor*mcc**2*n**3 + dor*mcc**2*n**2*p + dor*mcc**2*n*p**2 - 2*dor*n**2*p + 3*mcc**2*n**3 + 2*mcc**2*n**2*p + n**2*p) + fp*(-dor*mcc**2*n**3*p - dor*mcc**2*n**2*p**2 - mcc**2*n**4 - mcc**2*n**3*p)], tn, tp, fn, fp, domain='ZZ[p,n,dor,mcc]', order='lex')"
      ]
     },
     "execution_count": 21,
     "metadata": {},
     "output_type": "execute_result"
    }
   ],
   "source": [
    "sp.GroebnerBasis([score0.equation_polynomial, \n",
    "            score1.equation_polynomial,\n",
    "            n_eq,\n",
    "            p_eq], symbols['tn'], symbols['tp'], symbols['fn'], symbols['fp'])"
   ]
  },
  {
   "cell_type": "code",
   "execution_count": 4,
   "metadata": {},
   "outputs": [],
   "source": [
    "sp.solve([score0.equation, \n",
    "            score1.equation,\n",
    "            n_eq,\n",
    "            p_eq], symbols['tn'], symbols['tp'], symbols['fn'], symbols['fp'],\n",
    "            dict=True)"
   ]
  },
  {
   "cell_type": "code",
   "execution_count": 6,
   "metadata": {},
   "outputs": [
    {
     "data": {
      "text/latex": [
       "$\\displaystyle \\operatorname{GroebnerBasis}\\left(\\left( - ji n npv - ji npv p + npv p + tn \\left(ji npv + npv - 1\\right), \\  - ji n npv + ji n - 2 ji npv p + ji p + tp \\left(ji npv + npv - 1\\right), \\  fn \\left(ji npv + npv - 1\\right) + ji n npv - ji n + ji npv p - ji p - npv p + p, \\  fp \\left(ji npv + npv - 1\\right) + ji npv p - n npv + n - npv p\\right), \\left( tn, \\  tp, \\  fn, \\  fp\\right)\\right)$"
      ],
      "text/plain": [
       "GroebnerBasis([-ji*n*npv - ji*npv*p + npv*p + tn*(ji*npv + npv - 1), -ji*n*npv + ji*n - 2*ji*npv*p + ji*p + tp*(ji*npv + npv - 1), fn*(ji*npv + npv - 1) + ji*n*npv - ji*n + ji*npv*p - ji*p - npv*p + p, fp*(ji*npv + npv - 1) + ji*npv*p - n*npv + n - npv*p], tn, tp, fn, fp, domain='ZZ[p,n,ji,npv]', order='lex')"
      ]
     },
     "execution_count": 6,
     "metadata": {},
     "output_type": "execute_result"
    }
   ],
   "source": [
    "sp.GroebnerBasis([score0.equation_polynomial,\n",
    "                    score1.equation_polynomial,\n",
    "                    n_eq,\n",
    "                    p_eq],\n",
    "                    symbols['tn'], symbols['tp'], symbols['fn'], symbols['fp'])"
   ]
  },
  {
   "cell_type": "code",
   "execution_count": null,
   "metadata": {},
   "outputs": [],
   "source": []
  },
  {
   "cell_type": "code",
   "execution_count": 29,
   "metadata": {},
   "outputs": [],
   "source": [
    "# ppv fm"
   ]
  },
  {
   "cell_type": "code",
   "execution_count": 30,
   "metadata": {},
   "outputs": [],
   "source": [
    "import pickle\n",
    "\n",
    "from mlscorecheck.utils import ProblemSolver, generate_problem, generate_problem_tp0\n",
    "from mlscorecheck.core import score_function_set, sqrt\n",
    "from mlscorecheck.core import Interval, union, reduce_solutions"
   ]
  },
  {
   "cell_type": "code",
   "execution_count": 31,
   "metadata": {},
   "outputs": [],
   "source": [
    "scores = score_function_set()"
   ]
  },
  {
   "cell_type": "code",
   "execution_count": 58,
   "metadata": {},
   "outputs": [],
   "source": [
    "score0 = 'acc'\n",
    "score1 = 'pt'"
   ]
  },
  {
   "cell_type": "code",
   "execution_count": 59,
   "metadata": {},
   "outputs": [],
   "source": [
    "score0_fun = scores[score0]\n",
    "score1_fun = scores[score1]"
   ]
  },
  {
   "cell_type": "code",
   "execution_count": 60,
   "metadata": {},
   "outputs": [],
   "source": [
    "ps = ProblemSolver(score0, score0_fun, score1, score1_fun)"
   ]
  },
  {
   "cell_type": "code",
   "execution_count": 61,
   "metadata": {},
   "outputs": [
    {
     "name": "stderr",
     "output_type": "stream",
     "text": [
      "2023-06-12 02:32:08 INFO     number of non-linear solutions 2\n",
      "2023-06-12 02:32:08 INFO     res [{fn: p*(acc*n + acc*p - p)/(n - p), fp: n*(acc*n + acc*p - n)/(-n + p), tn: n*(acc*n + acc*p - p)/(n - p), tp: p*(-acc*n - acc*p + n)/(n - p)}, {fn: p*(acc*n*pt**2 - 2*acc*n*pt + acc*n + acc*p*pt**2 - 2*acc*p*pt + acc*p + 2*n*pt - n - p*pt**2 + 2*p*pt - p)/(n*pt**2 - p*pt**2 + 2*p*pt - p), fp: n*pt**2*(acc*n + acc*p - n)/(-n*pt**2 + p*pt**2 - 2*p*pt + p), tn: n*(-acc*n*pt**2 - acc*p*pt**2 + p*pt**2 - 2*p*pt + p)/(-n*pt**2 + p*pt**2 - 2*p*pt + p), tp: p*(-acc*n*pt**2 + 2*acc*n*pt - acc*n - acc*p*pt**2 + 2*acc*p*pt - acc*p + n*pt**2 - 2*n*pt + n)/(n*pt**2 - p*pt**2 + 2*p*pt - p)}]\n",
      "2023-06-12 02:32:08 INFO     Linear solution failed nonlinear term: 1/(-fp/n + tp/p)\n"
     ]
    }
   ],
   "source": [
    "ps.solve()"
   ]
  },
  {
   "cell_type": "code",
   "execution_count": 63,
   "metadata": {},
   "outputs": [],
   "source": [
    "problem = generate_problem_tp0()"
   ]
  },
  {
   "cell_type": "code",
   "execution_count": 85,
   "metadata": {},
   "outputs": [],
   "source": [
    "problem['fp'] = 92\n",
    "problem['tn'] = 92\n",
    "problem['tp'] = 172\n",
    "problem['fn'] = 172"
   ]
  },
  {
   "cell_type": "code",
   "execution_count": 86,
   "metadata": {},
   "outputs": [
    {
     "name": "stderr",
     "output_type": "stream",
     "text": [
      "/home/gykovacs/workspaces/mlscorecheck/mlscorecheck/core/_scores.py:503: RuntimeWarning: invalid value encountered in scalar divide\n",
      "  return (sqrt(tpr * fpr) - fpr)/(tpr - fpr)\n"
     ]
    }
   ],
   "source": [
    "problem[score0] = score0_fun(tp=problem['tp'], p=problem['p'], tn=problem['tn'], n=problem['n'])\n",
    "problem[score1] = score1_fun(tp=problem['tp'], fp=problem['fp'], p=problem['p'], n=problem['n'])"
   ]
  },
  {
   "cell_type": "code",
   "execution_count": 87,
   "metadata": {},
   "outputs": [
    {
     "data": {
      "text/plain": [
       "{'p': 344,\n",
       " 'n': 184,\n",
       " 'tp': 172,\n",
       " 'tn': 92,\n",
       " 'fp': 92,\n",
       " 'fn': 172,\n",
       " 'acc': 0.5,\n",
       " 'pt': nan}"
      ]
     },
     "execution_count": 87,
     "metadata": {},
     "output_type": "execute_result"
    }
   ],
   "source": [
    "problem"
   ]
  },
  {
   "cell_type": "code",
   "execution_count": 70,
   "metadata": {},
   "outputs": [],
   "source": [
    "exec(ps.to_python())"
   ]
  },
  {
   "cell_type": "code",
   "execution_count": 71,
   "metadata": {},
   "outputs": [
    {
     "name": "stdout",
     "output_type": "stream",
     "text": [
      "def _solve_acc_pt_0(*, acc, p, n):\n",
      "  \"\"\"\n",
      "  Solution of for the acc - pt pair\n",
      "\n",
      "  Args:\n",
      "    acc (int|float|Interval): the acc score\n",
      "    pt (int|float|Interval): the pt score\n",
      "    n (int|float|Interval): the n value\n",
      "\n",
      "  Returns:\n",
      "    float|interval, float|interval: the tp and tn solutions\n",
      "  \"\"\"\n",
      "  try:\n",
      "    tp = p*(-acc*n - acc*p + n)/(n - p)\n",
      "    tn = n*(acc*n + acc*p - p)/(n - p)\n",
      "  except ZeroDivisionError:\n",
      "    tp = np.nan\n",
      "    tn = np.nan\n",
      "  return tp, tn\n",
      "\n",
      "def _solve_acc_pt_1(*, acc, pt, p, n):\n",
      "  \"\"\"\n",
      "  Solution of for the acc - pt pair\n",
      "\n",
      "  Args:\n",
      "    acc (int|float|Interval): the acc score\n",
      "    pt (int|float|Interval): the pt score\n",
      "    p (int|float|Interval): the p value\n",
      "    n (int|float|Interval): the n value\n",
      "\n",
      "  Returns:\n",
      "    float|interval, float|interval: the tp and tn solutions\n",
      "  \"\"\"\n",
      "  try:\n",
      "    tp = p*(-acc*n*pt**2 + 2*acc*n*pt - acc*n - acc*p*pt**2 + 2*acc*p*pt - acc*p + n*pt**2 - 2*n*pt + n)/(n*pt**2 - p*pt**2 + 2*p*pt - p)\n",
      "    tn = n*(-acc*n*pt**2 - acc*p*pt**2 + p*pt**2 - 2*p*pt + p)/(-n*pt**2 + p*pt**2 - 2*p*pt + p)\n",
      "  except ZeroDivisionError:\n",
      "    tp = np.nan\n",
      "    tn = np.nan\n",
      "  return tp, tn\n",
      "\n",
      "def solve_acc_pt(*, acc, pt, p, n):\n",
      "  \"\"\"\n",
      "  Solution of for the acc - pt pair\n",
      "\n",
      "  Args:\n",
      "    acc (int|float|Interval): the acc score\n",
      "    pt (int|float|Interval): the pt score\n",
      "    p (int|float|Interval): the p value\n",
      "    n (int|float|Interval): the n value\n",
      "\n",
      "  Returns:\n",
      "    float|interval, float|interval: the tp and tn solutions\n",
      "  \"\"\"\n",
      "  tps = []\n",
      "  tns = []\n",
      "  tp, tn = _solve_acc_pt_0(acc=acc, p=p, n=n)\n",
      "  tps.append(tp)\n",
      "  tns.append(tn)\n",
      "  tp, tn = _solve_acc_pt_1(acc=acc, pt=pt, p=p, n=n)\n",
      "  tps.append(tp)\n",
      "  tns.append(tn)\n",
      "  return reduce_solutions(tps, tns, p, n)\n",
      "\n",
      "\n"
     ]
    }
   ],
   "source": [
    "print(ps.to_python())"
   ]
  },
  {
   "cell_type": "code",
   "execution_count": 77,
   "metadata": {},
   "outputs": [
    {
     "data": {
      "text/plain": [
       "[{'tp': -156.95, 'tn': 267.95}, {'tp': 0.0, 'tn': 111.0}]"
      ]
     },
     "execution_count": 77,
     "metadata": {},
     "output_type": "execute_result"
    }
   ],
   "source": [
    "solve_acc_pt(acc=problem['acc'], pt=problem['pt'], p=problem['p'], n=problem['n'])"
   ]
  },
  {
   "cell_type": "code",
   "execution_count": 78,
   "metadata": {},
   "outputs": [
    {
     "data": {
      "text/plain": [
       "(acc - (tn + tp)/(n + p),\n",
       " pt - (-fp/n + sqrt(fp*tp/(n*p)))/(-fp/n + tp/p),\n",
       " -fn + p - tp,\n",
       " -fp + n - tn)"
      ]
     },
     "execution_count": 78,
     "metadata": {},
     "output_type": "execute_result"
    }
   ],
   "source": [
    "ps.score0.equation, ps.score1.equation, ps.equation_p, ps.equation_n"
   ]
  },
  {
   "cell_type": "code",
   "execution_count": 74,
   "metadata": {},
   "outputs": [],
   "source": [
    "import sympy"
   ]
  },
  {
   "cell_type": "code",
   "execution_count": 75,
   "metadata": {},
   "outputs": [],
   "source": [
    "a = sympy.Symbol('a')\n",
    "b = sympy.Symbol('b')\n",
    "c = sympy.Symbol('c')\n",
    "x = sympy.Symbol('x')"
   ]
  },
  {
   "cell_type": "code",
   "execution_count": 53,
   "metadata": {},
   "outputs": [
    {
     "data": {
      "text/plain": [
       "[{x: (-b - sqrt(-4*a*c + b**2))/(2*a)}, {x: (-b + sqrt(-4*a*c + b**2))/(2*a)}]"
      ]
     },
     "execution_count": 53,
     "metadata": {},
     "output_type": "execute_result"
    }
   ],
   "source": [
    "sympy.solve(a*x**2 + b*x + c, x, check=False, dict=True)"
   ]
  },
  {
   "cell_type": "code",
   "execution_count": null,
   "metadata": {},
   "outputs": [],
   "source": []
  }
 ],
 "metadata": {
  "kernelspec": {
   "display_name": "mlscorecheck",
   "language": "python",
   "name": "python3"
  },
  "language_info": {
   "codemirror_mode": {
    "name": "ipython",
    "version": 3
   },
   "file_extension": ".py",
   "mimetype": "text/x-python",
   "name": "python",
   "nbconvert_exporter": "python",
   "pygments_lexer": "ipython3",
   "version": "3.10.0"
  },
  "orig_nbformat": 4
 },
 "nbformat": 4,
 "nbformat_minor": 2
}
