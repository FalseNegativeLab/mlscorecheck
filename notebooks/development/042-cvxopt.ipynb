{
 "cells": [
  {
   "cell_type": "code",
   "execution_count": 3,
   "metadata": {},
   "outputs": [],
   "source": [
    "import numpy as np"
   ]
  },
  {
   "cell_type": "code",
   "execution_count": 4,
   "metadata": {},
   "outputs": [],
   "source": [
    "k = 3\n",
    "\n",
    "ns = np.array([10, 10, 10])\n",
    "ps = np.array([6, 6, 7])\n",
    "\n",
    "acc = 0.76"
   ]
  },
  {
   "cell_type": "code",
   "execution_count": 5,
   "metadata": {},
   "outputs": [],
   "source": [
    "Q = np.diag((ps + ns)**2/(2*ps*ns)/k*2)\n",
    "q = (ps + ns)**2/(2*ps*ns)/k*2\n",
    "G = np.vstack([np.eye(k), -np.eye(k)]).astype(float)\n",
    "h = np.hstack([np.repeat(1.0, k), np.repeat(0.0, k)])\n",
    "A = np.repeat(1.0/k, k).reshape(-1, 1).T\n",
    "b = np.array([acc])"
   ]
  },
  {
   "cell_type": "code",
   "execution_count": 6,
   "metadata": {},
   "outputs": [
    {
     "data": {
      "text/plain": [
       "(array([[1.42222222, 0.        , 0.        ],\n",
       "        [0.        , 1.42222222, 0.        ],\n",
       "        [0.        , 0.        , 1.37619048]]),\n",
       " array([1.42222222, 1.42222222, 1.37619048]),\n",
       " array([[ 1.,  0.,  0.],\n",
       "        [ 0.,  1.,  0.],\n",
       "        [ 0.,  0.,  1.],\n",
       "        [-1., -0., -0.],\n",
       "        [-0., -1., -0.],\n",
       "        [-0., -0., -1.]]),\n",
       " array([1., 1., 1., 0., 0., 0.]),\n",
       " array([[0.33333333, 0.33333333, 0.33333333]]),\n",
       " array([0.76]))"
      ]
     },
     "execution_count": 6,
     "metadata": {},
     "output_type": "execute_result"
    }
   ],
   "source": [
    "Q, q, G, h, A, b"
   ]
  },
  {
   "cell_type": "code",
   "execution_count": 7,
   "metadata": {},
   "outputs": [],
   "source": [
    "from cvxopt import matrix\n",
    "from cvxopt.solvers import qp"
   ]
  },
  {
   "cell_type": "code",
   "execution_count": 8,
   "metadata": {},
   "outputs": [],
   "source": [
    "Q = matrix(Q)\n",
    "q = matrix(q)\n",
    "G = matrix(G)\n",
    "h = matrix(h)\n",
    "A = matrix(A)\n",
    "b = matrix(b)"
   ]
  },
  {
   "cell_type": "code",
   "execution_count": 9,
   "metadata": {},
   "outputs": [
    {
     "name": "stdout",
     "output_type": "stream",
     "text": [
      "     pcost       dcost       gap    pres   dres\n",
      " 0:  4.4256e+00  1.0042e+00  3e+00  0e+00  5e-16\n",
      " 1:  4.4253e+00  4.3717e+00  5e-02  1e-16  1e-16\n",
      " 2:  4.4250e+00  4.4243e+00  7e-04  2e-16  4e-16\n",
      " 3:  4.4250e+00  4.4250e+00  7e-06  0e+00  4e-16\n",
      " 4:  4.4250e+00  4.4250e+00  7e-08  1e-16  2e-16\n",
      "Optimal solution found.\n"
     ]
    }
   ],
   "source": [
    "res = qp(P=Q, q=q, G=G, h=h, A=A, b=b)"
   ]
  },
  {
   "cell_type": "code",
   "execution_count": 10,
   "metadata": {},
   "outputs": [
    {
     "data": {
      "text/plain": [
       "{'x': <3x1 matrix, tc='d'>,\n",
       " 'y': <1x1 matrix, tc='d'>,\n",
       " 's': <6x1 matrix, tc='d'>,\n",
       " 'z': <6x1 matrix, tc='d'>,\n",
       " 'status': 'optimal',\n",
       " 'gap': 7.463857539398303e-08,\n",
       " 'relative gap': 1.6867361958144857e-08,\n",
       " 'primal objective': 4.425029642344141,\n",
       " 'dual objective': 4.4250295677055655,\n",
       " 'primal infeasibility': 1.1102230246251565e-16,\n",
       " 'dual infeasibility': 2.0871597063187184e-16,\n",
       " 'primal slack': 0.20118636047226765,\n",
       " 'dual slack': 1.2667384555636575e-08,\n",
       " 'iterations': 4}"
      ]
     },
     "execution_count": 10,
     "metadata": {},
     "output_type": "execute_result"
    }
   ],
   "source": [
    "res"
   ]
  },
  {
   "cell_type": "code",
   "execution_count": 11,
   "metadata": {},
   "outputs": [
    {
     "data": {
      "text/plain": [
       "array([[0.74059318],\n",
       "       [0.74059318],\n",
       "       [0.79881364]])"
      ]
     },
     "execution_count": 11,
     "metadata": {},
     "output_type": "execute_result"
    }
   ],
   "source": [
    "np.array(res['x'])"
   ]
  },
  {
   "cell_type": "code",
   "execution_count": 12,
   "metadata": {},
   "outputs": [],
   "source": [
    "matrix = np.array([[0, 0, 1, 0], [0, 0, 0, 1], [1, 0, 0, 0], [0, 1, 0, 0]])"
   ]
  },
  {
   "cell_type": "code",
   "execution_count": 13,
   "metadata": {},
   "outputs": [
    {
     "data": {
      "text/plain": [
       "np.float64(1.0)"
      ]
     },
     "execution_count": 13,
     "metadata": {},
     "output_type": "execute_result"
    }
   ],
   "source": [
    "np.linalg.det(matrix)"
   ]
  },
  {
   "cell_type": "code",
   "execution_count": 14,
   "metadata": {},
   "outputs": [],
   "source": [
    "from cvxopt import log"
   ]
  },
  {
   "cell_type": "code",
   "execution_count": 15,
   "metadata": {},
   "outputs": [
    {
     "ename": "TypeError",
     "evalue": "'numpy.ndarray' object is not callable",
     "output_type": "error",
     "traceback": [
      "\u001b[0;31m---------------------------------------------------------------------------\u001b[0m",
      "\u001b[0;31mTypeError\u001b[0m                                 Traceback (most recent call last)",
      "Cell \u001b[0;32mIn[15], line 2\u001b[0m\n\u001b[1;32m      1\u001b[0m k \u001b[38;5;241m=\u001b[39m \u001b[38;5;241m2\u001b[39m\n\u001b[0;32m----> 2\u001b[0m F \u001b[38;5;241m=\u001b[39m matrix(np\u001b[38;5;241m.\u001b[39marray([[\u001b[38;5;241m1.0\u001b[39m, \u001b[38;5;241m0.0\u001b[39m],\n\u001b[1;32m      3\u001b[0m               [\u001b[38;5;241m0.0\u001b[39m, \u001b[38;5;241m1.0\u001b[39m],\n\u001b[1;32m      4\u001b[0m               [\u001b[38;5;241m1.0\u001b[39m, \u001b[38;5;241m0.0\u001b[39m],\n\u001b[1;32m      5\u001b[0m               [\u001b[38;5;241m0.0\u001b[39m, \u001b[38;5;241m1.0\u001b[39m]])\u001b[38;5;241m.\u001b[39mT)\n\u001b[1;32m      6\u001b[0m g \u001b[38;5;241m=\u001b[39m log(matrix([[\u001b[38;5;241m1.0\u001b[39m, \u001b[38;5;241m1.0\u001b[39m]]))\n\u001b[1;32m      7\u001b[0m G \u001b[38;5;241m=\u001b[39m matrix(np\u001b[38;5;241m.\u001b[39marray([[\u001b[38;5;241m1.0\u001b[39m, \u001b[38;5;241m0.0\u001b[39m, \u001b[38;5;241m0.0\u001b[39m, \u001b[38;5;241m0.0\u001b[39m],\n\u001b[1;32m      8\u001b[0m                      [\u001b[38;5;241m0.0\u001b[39m, \u001b[38;5;241m1.0\u001b[39m, \u001b[38;5;241m0.0\u001b[39m, \u001b[38;5;241m0.0\u001b[39m],\n\u001b[1;32m      9\u001b[0m                      [\u001b[38;5;241m0.0\u001b[39m, \u001b[38;5;241m0.0\u001b[39m, \u001b[38;5;241m1.0\u001b[39m, \u001b[38;5;241m0.0\u001b[39m],\n\u001b[0;32m   (...)\u001b[0m\n\u001b[1;32m     13\u001b[0m                      [\u001b[38;5;241m0.0\u001b[39m, \u001b[38;5;241m0.0\u001b[39m, \u001b[38;5;241m-\u001b[39m\u001b[38;5;241m1.0\u001b[39m, \u001b[38;5;241m0.0\u001b[39m],\n\u001b[1;32m     14\u001b[0m                      [\u001b[38;5;241m0.0\u001b[39m, \u001b[38;5;241m0.0\u001b[39m, \u001b[38;5;241m0.0\u001b[39m, \u001b[38;5;241m-\u001b[39m\u001b[38;5;241m1.0\u001b[39m]]))\n",
      "\u001b[0;31mTypeError\u001b[0m: 'numpy.ndarray' object is not callable"
     ]
    }
   ],
   "source": [
    "k = 2\n",
    "F = matrix(np.array([[1.0, 0.0],\n",
    "              [0.0, 1.0],\n",
    "              [1.0, 0.0],\n",
    "              [0.0, 1.0]]).T)\n",
    "g = log(matrix([[1.0, 1.0]]))\n",
    "G = matrix(np.array([[1.0, 0.0, 0.0, 0.0],\n",
    "                     [0.0, 1.0, 0.0, 0.0],\n",
    "                     [0.0, 0.0, 1.0, 0.0],\n",
    "                     [0.0, 0.0, 0.0, 1.0],\n",
    "                     [-1.0, 0.0, 0.0, 0.0],\n",
    "                     [0.0, -1.0, 0.0, 0.0],\n",
    "                     [0.0, 0.0, -1.0, 0.0],\n",
    "                     [0.0, 0.0, 0.0, -1.0]]))\n",
    "h = matrix(np.array([[1.0],\n",
    "                     [1.0],\n",
    "                     [1.0],\n",
    "                     [1.0],\n",
    "                     [0.0],\n",
    "                     [0.0],\n",
    "                     [0.0],\n",
    "                     [0.0]]))\n",
    "A = matrix(np.array([[1.0, 1.0, 0.0, 0.0],\n",
    "                     [0.0, 0.0, 1.0, 1.0]])*0.5)\n",
    "b = matrix(np.array([0.7, 0.8]))\n",
    "K = [2]"
   ]
  },
  {
   "cell_type": "code",
   "execution_count": null,
   "metadata": {},
   "outputs": [
    {
     "name": "stdout",
     "output_type": "stream",
     "text": [
      "     pcost       dcost       gap    pres   dres\n",
      " 0:  0.0000e+00 -3.3069e+00  9e+00  1e+00  1e+00\n",
      " 1:  2.1872e+00  6.8052e-01  2e+00  5e-03  5e-03\n",
      " 2:  2.1931e+00  2.1657e+00  3e-02  5e-05  5e-05\n",
      " 3:  2.1931e+00  2.1929e+00  3e-04  5e-07  5e-07\n",
      " 4:  2.1931e+00  2.1931e+00  3e-06  5e-09  5e-09\n",
      " 5:  2.1931e+00  2.1931e+00  3e-08  5e-11  5e-11\n",
      "Optimal solution found.\n"
     ]
    }
   ],
   "source": [
    "res = gp(K=K, F=F, g=g, G=G, h=h, A=A, b=b)"
   ]
  },
  {
   "cell_type": "code",
   "execution_count": null,
   "metadata": {},
   "outputs": [
    {
     "data": {
      "text/plain": [
       "{'status': 'optimal',\n",
       " 'x': <4x1 matrix, tc='d'>,\n",
       " 'y': <2x1 matrix, tc='d'>,\n",
       " 'znl': <0x1 matrix, tc='d'>,\n",
       " 'zl': <8x1 matrix, tc='d'>,\n",
       " 'snl': <0x1 matrix, tc='d'>,\n",
       " 'sl': <8x1 matrix, tc='d'>,\n",
       " 'gap': 2.780709422080815e-08,\n",
       " 'relative gap': 1.2679082744004168e-08,\n",
       " 'primal objective': 2.193147180502576,\n",
       " 'dual objective': 2.1931471528536157,\n",
       " 'primal slack': 1.0076478106767936e-10,\n",
       " 'dual slack': 2.329696361598543e-09,\n",
       " 'primal infeasibility': 4.952293127842303e-11,\n",
       " 'dual infeasibility': 4.952313743584385e-11}"
      ]
     },
     "execution_count": 374,
     "metadata": {},
     "output_type": "execute_result"
    }
   ],
   "source": [
    "res"
   ]
  },
  {
   "cell_type": "code",
   "execution_count": null,
   "metadata": {},
   "outputs": [
    {
     "data": {
      "text/plain": [
       "array([[0.7],\n",
       "       [0.7],\n",
       "       [0.8],\n",
       "       [0.8]])"
      ]
     },
     "execution_count": 373,
     "metadata": {},
     "output_type": "execute_result"
    }
   ],
   "source": [
    "np.array(res['x'])"
   ]
  },
  {
   "cell_type": "code",
   "execution_count": null,
   "metadata": {},
   "outputs": [],
   "source": [
    "sens = 0.7\n",
    "spec = 0.8\n",
    "\n",
    "areas = []\n",
    "\n",
    "for _ in range(1000):\n",
    "    sens0 = np.random.random()\n",
    "    spec0 = np.random.random()\n",
    "    sens1 = sens*2 - sens0\n",
    "    spec1 = spec*2 - spec0\n",
    "    if sens1 > 1 or spec1 > 1 or sens1 < 0 or spec1 < 0:\n",
    "        continue\n",
    "\n",
    "    area = (sens0*spec0 + sens1*spec1)/2.0\n",
    "    areas.append((area, sens0, sens1, spec0, spec1))"
   ]
  },
  {
   "cell_type": "code",
   "execution_count": null,
   "metadata": {},
   "outputs": [
    {
     "data": {
      "text/plain": [
       "(np.float64(0.5047032862474816), np.float64(0.6154901758412835))"
      ]
     },
     "execution_count": 360,
     "metadata": {},
     "output_type": "execute_result"
    }
   ],
   "source": [
    "amin = np.min([area[0] for area in areas])\n",
    "amax = np.max([area[0] for area in areas])\n",
    "amin, amax"
   ]
  },
  {
   "cell_type": "code",
   "execution_count": null,
   "metadata": {},
   "outputs": [
    {
     "name": "stdout",
     "output_type": "stream",
     "text": [
      "min (0.6154901758412835, 0.9807841130675344, 0.4192158869324655, 0.9976257674804306, 0.6023742325195695)\n",
      "min (0.5047032862474816, 0.4206394113387292, 0.9793605886612707, 0.9979402821905079, 0.6020597178094922)\n"
     ]
    }
   ],
   "source": [
    "for area in areas:\n",
    "    if area[0] == amin:\n",
    "        print('min', area)\n",
    "    if area[0] == amax:\n",
    "        print('min', area)"
   ]
  },
  {
   "cell_type": "code",
   "execution_count": 26,
   "metadata": {},
   "outputs": [],
   "source": [
    "def smo_inner(xa, xb, ya, yb):\n",
    "    c = xa + xb\n",
    "    mi = max(0, c-1)\n",
    "    ma = min(1, c)\n",
    "\n",
    "    if mi * (yb - ya) + c * ya < ma * (yb - ya) + c * ya:\n",
    "        xb = mi\n",
    "    else:\n",
    "        xb = ma\n",
    "\n",
    "    xa = c - xb\n",
    "\n",
    "    return xa, xb\n",
    "\n",
    "def smo(xs, ys):\n",
    "    idxa, idxb = np.random.choice(list(range(len(xs))), 2, replace=False)\n",
    "    xa = xs[idxa]\n",
    "    xb = xs[idxb]\n",
    "    ya = ys[idxa]\n",
    "    yb = ys[idxb]\n",
    "\n",
    "    if np.random.randint(2) == 0:\n",
    "        print('x')\n",
    "\n",
    "        xa, xb = smo_inner(xa, xb, ya, yb)        \n",
    "        \n",
    "        xs[idxa] = xa\n",
    "        xs[idxb] = xb\n",
    "    else:\n",
    "        print('y')\n",
    "        \n",
    "        ya, yb = smo_inner(ya, yb, xa, xb)\n",
    "\n",
    "        ys[idxa] = ya\n",
    "        ys[idxb] = yb\n",
    "    \n",
    "        "
   ]
  },
  {
   "cell_type": "code",
   "execution_count": 27,
   "metadata": {},
   "outputs": [
    {
     "name": "stdout",
     "output_type": "stream",
     "text": [
      "y\n",
      "0.7 0.8 [0.7, 0.7, 0.7, 0.7, 0.7] [0.8, 0.6000000000000001, 0.8, 1, 0.8] 0.56\n",
      "y\n",
      "0.7 0.8 [0.7, 0.7, 0.7, 0.7, 0.7] [1, 0.6000000000000001, 0.6000000000000001, 1, 0.8] 0.56\n",
      "y\n",
      "0.7 0.8 [0.7, 0.7, 0.7, 0.7, 0.7] [1, 1, 0.6000000000000001, 0.6000000000000001, 0.8] 0.5599999999999999\n",
      "x\n",
      "0.7 0.8 [0.3999999999999999, 0.7, 0.7, 1.0, 0.7] [1, 1, 0.6000000000000001, 0.6000000000000001, 0.8] 0.536\n",
      "y\n",
      "0.7 0.8 [0.3999999999999999, 0.7, 0.7, 1.0, 0.7] [1, 1, 0.6000000000000001, 0.6000000000000001, 0.8] 0.536\n",
      "x\n",
      "0.7 0.8 [0.3999999999999999, 0.7, 0.7, 1, 0.7] [1, 1, 0.6000000000000001, 0.6000000000000001, 0.8] 0.536\n",
      "y\n",
      "0.7 0.8 [0.3999999999999999, 0.7, 0.7, 1, 0.7] [1, 1, 1, 0.20000000000000018, 0.8] 0.512\n",
      "y\n",
      "0.7 0.8 [0.3999999999999999, 0.7, 0.7, 1, 0.7] [1, 1, 1, 0.20000000000000018, 0.8] 0.512\n",
      "y\n",
      "0.7 0.8 [0.3999999999999999, 0.7, 0.7, 1, 0.7] [1, 1, 0.8, 0.20000000000000018, 1] 0.5119999999999999\n",
      "y\n",
      "0.7 0.8 [0.3999999999999999, 0.7, 0.7, 1, 0.7] [1, 1, 1, 2.220446049250313e-16, 1] 0.5\n",
      "x\n",
      "0.7 0.8 [1, 0.7, 0.09999999999999987, 1, 0.7] [1, 1, 1, 2.220446049250313e-16, 1] 0.5\n",
      "x\n",
      "0.7 0.8 [1, 0.7, 0.09999999999999987, 1, 0.7] [1, 1, 1, 2.220446049250313e-16, 1] 0.5\n",
      "x\n",
      "0.7 0.8 [1, 0.7, 0.09999999999999987, 1, 0.7] [1, 1, 1, 2.220446049250313e-16, 1] 0.5\n",
      "x\n",
      "0.7 0.8 [1, 0.7, 0.09999999999999987, 1, 0.7] [1, 1, 1, 2.220446049250313e-16, 1] 0.5\n",
      "x\n",
      "0.7 0.8 [1, 0.7, 0.09999999999999987, 1, 0.7] [1, 1, 1, 2.220446049250313e-16, 1] 0.5\n",
      "x\n",
      "0.7 0.8 [0.7, 0.7, 0.09999999999999987, 1, 1] [1, 1, 1, 2.220446049250313e-16, 1] 0.5\n",
      "y\n",
      "0.7 0.8 [0.7, 0.7, 0.09999999999999987, 1, 1] [1, 1, 1.0, 2.220446049250313e-16, 1] 0.5\n",
      "y\n",
      "0.7 0.8 [0.7, 0.7, 0.09999999999999987, 1, 1] [1, 1, 1.0, 2.220446049250313e-16, 1] 0.5\n",
      "x\n",
      "0.7 0.8 [1, 0.3999999999999999, 0.09999999999999987, 1, 1] [1, 1, 1.0, 2.220446049250313e-16, 1] 0.5\n",
      "y\n",
      "0.7 0.8 [1, 0.3999999999999999, 0.09999999999999987, 1, 1] [1, 1, 1, 2.220446049250313e-16, 1.0] 0.5\n",
      "x\n",
      "0.7 0.8 [0.3999999999999999, 1, 0.09999999999999987, 1, 1] [1, 1, 1, 2.220446049250313e-16, 1.0] 0.5\n",
      "x\n",
      "0.7 0.8 [0.3999999999999999, 1, 0.09999999999999987, 1.0, 1] [1, 1, 1, 2.220446049250313e-16, 1.0] 0.5\n",
      "y\n",
      "0.7 0.8 [0.3999999999999999, 1, 0.09999999999999987, 1.0, 1] [1, 1, 1, 1, 2.220446049250313e-16] 0.5\n",
      "x\n",
      "0.7 0.8 [1, 1, 0.09999999999999987, 0.3999999999999999, 1] [1, 1, 1, 1, 2.220446049250313e-16] 0.5\n",
      "x\n",
      "0.7 0.8 [1, 1, 0.09999999999999987, 0.3999999999999999, 1] [1, 1, 1, 1, 2.220446049250313e-16] 0.5\n",
      "x\n",
      "0.7 0.8 [1, 1, 0.09999999999999987, 0.3999999999999999, 1] [1, 1, 1, 1, 2.220446049250313e-16] 0.5\n",
      "x\n",
      "0.7 0.8 [1, 1, 0.09999999999999987, 0.3999999999999999, 1] [1, 1, 1, 1, 2.220446049250313e-16] 0.5\n",
      "x\n",
      "0.7 0.8 [1, 1, 0.09999999999999987, 0.3999999999999999, 1] [1, 1, 1, 1, 2.220446049250313e-16] 0.5\n",
      "x\n",
      "0.7 0.8 [0.09999999999999987, 1, 1, 0.3999999999999999, 1] [1, 1, 1, 1, 2.220446049250313e-16] 0.5\n",
      "y\n",
      "0.7 0.8 [0.09999999999999987, 1, 1, 0.3999999999999999, 1] [1, 1, 1, 1, 2.220446049250313e-16] 0.5\n",
      "y\n",
      "0.7 0.8 [0.09999999999999987, 1, 1, 0.3999999999999999, 1] [1, 1, 1, 1, 2.220446049250313e-16] 0.5\n",
      "y\n",
      "0.7 0.8 [0.09999999999999987, 1, 1, 0.3999999999999999, 1] [1, 1, 1, 1, 2.220446049250313e-16] 0.5\n",
      "y\n",
      "0.7 0.8 [0.09999999999999987, 1, 1, 0.3999999999999999, 1] [1, 1, 1, 1, 2.220446049250313e-16] 0.5\n",
      "y\n",
      "0.7 0.8 [0.09999999999999987, 1, 1, 0.3999999999999999, 1] [1, 1, 1, 1, 2.220446049250313e-16] 0.5\n",
      "x\n",
      "0.7 0.8 [0.09999999999999987, 1, 1, 0.3999999999999999, 1] [1, 1, 1, 1, 2.220446049250313e-16] 0.5\n",
      "x\n",
      "0.7 0.8 [0.0, 1, 1, 0.4999999999999998, 1] [1, 1, 1, 1, 2.220446049250313e-16] 0.5\n",
      "x\n",
      "0.7 0.8 [0.0, 1, 1, 0.4999999999999998, 1] [1, 1, 1, 1, 2.220446049250313e-16] 0.5\n",
      "x\n",
      "0.7 0.8 [0.0, 1, 1, 0.4999999999999998, 1] [1, 1, 1, 1, 2.220446049250313e-16] 0.5\n",
      "y\n",
      "0.7 0.8 [0.0, 1, 1, 0.4999999999999998, 1] [1, 1, 1, 1, 2.220446049250313e-16] 0.5\n",
      "y\n",
      "0.7 0.8 [0.0, 1, 1, 0.4999999999999998, 1] [1, 1, 1, 1, 2.220446049250313e-16] 0.5\n",
      "x\n",
      "0.7 0.8 [1, 0.0, 1, 0.4999999999999998, 1] [1, 1, 1, 1, 2.220446049250313e-16] 0.5\n",
      "y\n",
      "0.7 0.8 [1, 0.0, 1, 0.4999999999999998, 1] [1, 1, 1, 1, 2.220446049250313e-16] 0.5\n",
      "y\n",
      "0.7 0.8 [1, 0.0, 1, 0.4999999999999998, 1] [1, 1, 1, 1, 2.220446049250313e-16] 0.5\n",
      "y\n",
      "0.7 0.8 [1, 0.0, 1, 0.4999999999999998, 1] [1, 1, 1, 1, 2.220446049250313e-16] 0.5\n",
      "y\n",
      "0.7 0.8 [1, 0.0, 1, 0.4999999999999998, 1] [1, 1, 1, 1, 2.220446049250313e-16] 0.5\n",
      "x\n",
      "0.7 0.8 [1, 0.0, 1, 0.4999999999999998, 1] [1, 1, 1, 1, 2.220446049250313e-16] 0.5\n",
      "x\n",
      "0.7 0.8 [1, 0.0, 1, 0.4999999999999998, 1] [1, 1, 1, 1, 2.220446049250313e-16] 0.5\n",
      "x\n",
      "0.7 0.8 [1, 0.0, 1, 0.4999999999999998, 1] [1, 1, 1, 1, 2.220446049250313e-16] 0.5\n",
      "x\n",
      "0.7 0.8 [1, 0.0, 1, 0.4999999999999998, 1] [1, 1, 1, 1, 2.220446049250313e-16] 0.5\n",
      "x\n",
      "0.7 0.8 [1, 0.0, 1, 0.4999999999999998, 1] [1, 1, 1, 1, 2.220446049250313e-16] 0.5\n",
      "y\n",
      "0.7 0.8 [1, 0.0, 1, 0.4999999999999998, 1] [1, 1, 1, 1, 2.220446049250313e-16] 0.5\n",
      "x\n",
      "0.7 0.8 [1, 0.4999999999999998, 1, 0.0, 1] [1, 1, 1, 1, 2.220446049250313e-16] 0.5\n",
      "y\n",
      "0.7 0.8 [1, 0.4999999999999998, 1, 0.0, 1] [1, 1, 1, 1, 2.220446049250313e-16] 0.5\n",
      "x\n",
      "0.7 0.8 [1, 1, 0.4999999999999998, 0.0, 1] [1, 1, 1, 1, 2.220446049250313e-16] 0.5\n",
      "y\n",
      "0.7 0.8 [1, 1, 0.4999999999999998, 0.0, 1] [1, 1, 1, 1, 2.220446049250313e-16] 0.5\n",
      "y\n",
      "0.7 0.8 [1, 1, 0.4999999999999998, 0.0, 1] [1, 1, 1, 1, 2.220446049250313e-16] 0.5\n",
      "y\n",
      "0.7 0.8 [1, 1, 0.4999999999999998, 0.0, 1] [1, 1, 1, 1, 2.220446049250313e-16] 0.5\n",
      "x\n",
      "0.7 0.8 [1, 1, 0.4999999999999998, 0.0, 1] [1, 1, 1, 1, 2.220446049250313e-16] 0.5\n",
      "y\n",
      "0.7 0.8 [1, 1, 0.4999999999999998, 0.0, 1] [1, 1, 1, 1, 2.220446049250313e-16] 0.5\n",
      "y\n",
      "0.7 0.8 [1, 1, 0.4999999999999998, 0.0, 1] [1, 1, 1, 1, 2.220446049250313e-16] 0.5\n",
      "y\n",
      "0.7 0.8 [1, 1, 0.4999999999999998, 0.0, 1] [1, 1, 1, 1, 2.220446049250313e-16] 0.5\n",
      "x\n",
      "0.7 0.8 [1, 1, 0.4999999999999998, 0.0, 1] [1, 1, 1, 1, 2.220446049250313e-16] 0.5\n",
      "y\n",
      "0.7 0.8 [1, 1, 0.4999999999999998, 0.0, 1] [1, 1, 1, 1, 2.220446049250313e-16] 0.5\n",
      "y\n",
      "0.7 0.8 [1, 1, 0.4999999999999998, 0.0, 1] [1, 1, 1, 1, 2.220446049250313e-16] 0.5\n",
      "y\n",
      "0.7 0.8 [1, 1, 0.4999999999999998, 0.0, 1] [1, 1, 1, 1, 2.220446049250313e-16] 0.5\n",
      "y\n",
      "0.7 0.8 [1, 1, 0.4999999999999998, 0.0, 1] [1, 1, 1, 1, 2.220446049250313e-16] 0.5\n",
      "x\n",
      "0.7 0.8 [1, 1, 0.4999999999999998, 0.0, 1.0] [1, 1, 1, 1, 2.220446049250313e-16] 0.5\n",
      "y\n",
      "0.7 0.8 [1, 1, 0.4999999999999998, 0.0, 1.0] [1, 1, 1.0, 1, 2.220446049250313e-16] 0.5\n",
      "x\n",
      "0.7 0.8 [1, 1, 0.0, 0.4999999999999998, 1.0] [1, 1, 1.0, 1, 2.220446049250313e-16] 0.5\n",
      "x\n",
      "0.7 0.8 [1, 1, 0.0, 0.4999999999999998, 1.0] [1, 1, 1.0, 1, 2.220446049250313e-16] 0.5\n",
      "x\n",
      "0.7 0.8 [1, 0.0, 1, 0.4999999999999998, 1.0] [1, 1, 1.0, 1, 2.220446049250313e-16] 0.5\n",
      "y\n",
      "0.7 0.8 [1, 0.0, 1, 0.4999999999999998, 1.0] [1, 1, 1, 1.0, 2.220446049250313e-16] 0.5\n",
      "x\n",
      "0.7 0.8 [1, 0.0, 1, 0.4999999999999998, 1.0] [1, 1, 1, 1.0, 2.220446049250313e-16] 0.5\n",
      "x\n",
      "0.7 0.8 [1, 0.0, 1, 0.4999999999999998, 1] [1, 1, 1, 1.0, 2.220446049250313e-16] 0.5\n",
      "y\n",
      "0.7 0.8 [1, 0.0, 1, 0.4999999999999998, 1] [1, 1, 1, 1, 2.220446049250313e-16] 0.5\n",
      "x\n",
      "0.7 0.8 [1, 0.4999999999999998, 1, 0.0, 1] [1, 1, 1, 1, 2.220446049250313e-16] 0.5\n",
      "x\n",
      "0.7 0.8 [1, 0.4999999999999998, 1, 0.0, 1.0] [1, 1, 1, 1, 2.220446049250313e-16] 0.5\n",
      "x\n",
      "0.7 0.8 [1, 0.0, 1, 0.4999999999999998, 1.0] [1, 1, 1, 1, 2.220446049250313e-16] 0.5\n",
      "x\n",
      "0.7 0.8 [1, 0.0, 1, 0.4999999999999998, 1.0] [1, 1, 1, 1, 2.220446049250313e-16] 0.5\n",
      "x\n",
      "0.7 0.8 [1, 0.0, 1, 0.4999999999999998, 1.0] [1, 1, 1, 1, 2.220446049250313e-16] 0.5\n",
      "x\n",
      "0.7 0.8 [1, 0.0, 0.4999999999999998, 1, 1.0] [1, 1, 1, 1, 2.220446049250313e-16] 0.5\n",
      "x\n",
      "0.7 0.8 [1, 0.4999999999999998, 0.0, 1, 1.0] [1, 1, 1, 1, 2.220446049250313e-16] 0.5\n",
      "y\n",
      "0.7 0.8 [1, 0.4999999999999998, 0.0, 1, 1.0] [1, 1, 1, 1, 2.220446049250313e-16] 0.5\n",
      "y\n",
      "0.7 0.8 [1, 0.4999999999999998, 0.0, 1, 1.0] [1, 1, 1, 1, 2.220446049250313e-16] 0.5\n",
      "x\n",
      "0.7 0.8 [1, 0.4999999999999998, 0.0, 1, 1.0] [1, 1, 1, 1, 2.220446049250313e-16] 0.5\n",
      "y\n",
      "0.7 0.8 [1, 0.4999999999999998, 0.0, 1, 1.0] [1, 1, 1, 1, 2.220446049250313e-16] 0.5\n",
      "y\n",
      "0.7 0.8 [1, 0.4999999999999998, 0.0, 1, 1.0] [1, 1, 1, 1, 2.220446049250313e-16] 0.5\n",
      "y\n",
      "0.7 0.8 [1, 0.4999999999999998, 0.0, 1, 1.0] [1, 1, 1, 1, 2.220446049250313e-16] 0.5\n",
      "x\n",
      "0.7 0.8 [1, 1, 0.0, 0.4999999999999998, 1.0] [1, 1, 1, 1, 2.220446049250313e-16] 0.5\n",
      "x\n",
      "0.7 0.8 [1, 1, 0.0, 0.4999999999999998, 1.0] [1, 1, 1, 1, 2.220446049250313e-16] 0.5\n",
      "y\n",
      "0.7 0.8 [1, 1, 0.0, 0.4999999999999998, 1.0] [1, 1, 1, 1, 2.220446049250313e-16] 0.5\n",
      "y\n",
      "0.7 0.8 [1, 1, 0.0, 0.4999999999999998, 1.0] [1, 1, 1, 1, 2.220446049250313e-16] 0.5\n",
      "y\n",
      "0.7 0.8 [1, 1, 0.0, 0.4999999999999998, 1.0] [1, 1, 1, 1, 2.220446049250313e-16] 0.5\n",
      "y\n",
      "0.7 0.8 [1, 1, 0.0, 0.4999999999999998, 1.0] [1, 1, 1, 1, 2.220446049250313e-16] 0.5\n",
      "y\n",
      "0.7 0.8 [1, 1, 0.0, 0.4999999999999998, 1.0] [1, 1, 1, 1, 2.220446049250313e-16] 0.5\n",
      "y\n",
      "0.7 0.8 [1, 1, 0.0, 0.4999999999999998, 1.0] [1, 1, 1, 1, 2.220446049250313e-16] 0.5\n",
      "x\n",
      "0.7 0.8 [0.0, 1, 1, 0.4999999999999998, 1.0] [1, 1, 1, 1, 2.220446049250313e-16] 0.5\n",
      "y\n",
      "0.7 0.8 [0.0, 1, 1, 0.4999999999999998, 1.0] [1, 1, 1, 1, 2.220446049250313e-16] 0.5\n",
      "y\n",
      "0.7 0.8 [0.0, 1, 1, 0.4999999999999998, 1.0] [1, 1, 1, 1, 2.220446049250313e-16] 0.5\n",
      "x\n",
      "0.7 0.8 [0.0, 1, 1, 0.4999999999999998, 1.0] [1, 1, 1, 1, 2.220446049250313e-16] 0.5\n"
     ]
    }
   ],
   "source": [
    "xs = [0.7] * 5\n",
    "ys = [0.8] * 5\n",
    "\n",
    "for _ in range(100):\n",
    "    smo(xs, ys)\n",
    "    print(np.mean(xs), np.mean(ys), xs, ys, np.mean([x*y for x, y in zip(xs, ys)]))"
   ]
  },
  {
   "cell_type": "code",
   "execution_count": 24,
   "metadata": {},
   "outputs": [
    {
     "data": {
      "text/plain": [
       "np.float64(0.7)"
      ]
     },
     "execution_count": 24,
     "metadata": {},
     "output_type": "execute_result"
    }
   ],
   "source": [
    "np.mean(np.array([0.0, 1.0, 0.7, 1.0, 0.8]) * np.array([0.0, 1.0, 1.0, 1.0, 1.0]))"
   ]
  },
  {
   "cell_type": "code",
   "execution_count": null,
   "metadata": {},
   "outputs": [],
   "source": []
  },
  {
   "cell_type": "code",
   "execution_count": null,
   "metadata": {},
   "outputs": [],
   "source": []
  },
  {
   "cell_type": "code",
   "execution_count": 416,
   "metadata": {},
   "outputs": [],
   "source": [
    "n = 2\n",
    "tmp1 = np.eye(n)\n",
    "tmp0 = np.zeros((n, n))\n",
    "Q = np.vstack([np.hstack([tmp0, tmp1]), np.hstack([tmp1, tmp0])])\n",
    "q = np.repeat(0.0, 2*n).reshape((1, -1)).T\n",
    "G = np.vstack([np.eye(2*n), -np.eye(2*n)]).astype(np.double)\n",
    "h = np.hstack([np.repeat(1.0, 2*n), np.repeat(0.0, 2*n)])\n",
    "#G = np.vstack([-np.eye(2*n)]).astype(np.double)\n",
    "#h = np.hstack([np.repeat(0.0, 2*n)])\n",
    "A = np.vstack([np.hstack([np.repeat(1.0, n), np.repeat(0.0, n)]), np.hstack([np.repeat(0.0, n), np.repeat(1.0, n)])])/n\n",
    "b = np.array([0.7, 0.816666])"
   ]
  },
  {
   "cell_type": "code",
   "execution_count": 402,
   "metadata": {},
   "outputs": [
    {
     "data": {
      "text/plain": [
       "array([[0., 0., 1., 0.],\n",
       "       [0., 0., 0., 1.],\n",
       "       [1., 0., 0., 0.],\n",
       "       [0., 1., 0., 0.]])"
      ]
     },
     "execution_count": 402,
     "metadata": {},
     "output_type": "execute_result"
    }
   ],
   "source": [
    "Q"
   ]
  },
  {
   "cell_type": "code",
   "execution_count": 403,
   "metadata": {},
   "outputs": [],
   "source": [
    "#Q[0, 0] = 1.0"
   ]
  },
  {
   "cell_type": "code",
   "execution_count": 417,
   "metadata": {},
   "outputs": [
    {
     "data": {
      "text/plain": [
       "array([ 1., -1.,  1., -1.])"
      ]
     },
     "execution_count": 417,
     "metadata": {},
     "output_type": "execute_result"
    }
   ],
   "source": [
    "np.linalg.eig(Q)[0]"
   ]
  },
  {
   "cell_type": "code",
   "execution_count": 405,
   "metadata": {},
   "outputs": [
    {
     "data": {
      "text/plain": [
       "array([[ 1.,  0.,  0.,  0.],\n",
       "       [ 0.,  1.,  0.,  0.],\n",
       "       [ 0.,  0.,  1.,  0.],\n",
       "       [ 0.,  0.,  0.,  1.],\n",
       "       [-1., -0., -0., -0.],\n",
       "       [-0., -1., -0., -0.],\n",
       "       [-0., -0., -1., -0.],\n",
       "       [-0., -0., -0., -1.]])"
      ]
     },
     "execution_count": 405,
     "metadata": {},
     "output_type": "execute_result"
    }
   ],
   "source": [
    "G"
   ]
  },
  {
   "cell_type": "code",
   "execution_count": 406,
   "metadata": {},
   "outputs": [
    {
     "data": {
      "text/plain": [
       "array([1., 1., 1., 1., 0., 0., 0., 0.])"
      ]
     },
     "execution_count": 406,
     "metadata": {},
     "output_type": "execute_result"
    }
   ],
   "source": [
    "h"
   ]
  },
  {
   "cell_type": "code",
   "execution_count": 407,
   "metadata": {},
   "outputs": [
    {
     "data": {
      "text/plain": [
       "array([[0.],\n",
       "       [0.],\n",
       "       [0.],\n",
       "       [0.]])"
      ]
     },
     "execution_count": 407,
     "metadata": {},
     "output_type": "execute_result"
    }
   ],
   "source": [
    "q"
   ]
  },
  {
   "cell_type": "code",
   "execution_count": 408,
   "metadata": {},
   "outputs": [
    {
     "data": {
      "text/plain": [
       "array([[0.5, 0.5, 0. , 0. ],\n",
       "       [0. , 0. , 0.5, 0.5]])"
      ]
     },
     "execution_count": 408,
     "metadata": {},
     "output_type": "execute_result"
    }
   ],
   "source": [
    "A"
   ]
  },
  {
   "cell_type": "code",
   "execution_count": 409,
   "metadata": {},
   "outputs": [
    {
     "data": {
      "text/plain": [
       "array([0.7     , 0.816666])"
      ]
     },
     "execution_count": 409,
     "metadata": {},
     "output_type": "execute_result"
    }
   ],
   "source": [
    "b"
   ]
  },
  {
   "cell_type": "code",
   "execution_count": 410,
   "metadata": {},
   "outputs": [],
   "source": [
    "from cvxopt.solvers import qp, cp, gp\n",
    "from cvxopt import matrix"
   ]
  },
  {
   "cell_type": "code",
   "execution_count": 411,
   "metadata": {},
   "outputs": [],
   "source": [
    "Q = matrix(Q, (2*n, 2*n))\n",
    "q = matrix(q, (2*n, 1))\n",
    "G = matrix(G)\n",
    "h = matrix(h)\n",
    "A = matrix(A)\n",
    "b = matrix(b)"
   ]
  },
  {
   "cell_type": "code",
   "execution_count": 415,
   "metadata": {},
   "outputs": [
    {
     "data": {
      "text/plain": [
       "EigResult(eigenvalues=array([ 1., -1.,  1., -1.]), eigenvectors=array([[ 0.70710678,  0.70710678,  0.        ,  0.        ],\n",
       "       [ 0.        ,  0.        , -0.70710678, -0.70710678],\n",
       "       [ 0.70710678, -0.70710678,  0.        ,  0.        ],\n",
       "       [ 0.        ,  0.        , -0.70710678,  0.70710678]]))"
      ]
     },
     "execution_count": 415,
     "metadata": {},
     "output_type": "execute_result"
    }
   ],
   "source": [
    "np.linalg.eig(Q)"
   ]
  },
  {
   "cell_type": "code",
   "execution_count": 412,
   "metadata": {},
   "outputs": [
    {
     "name": "stdout",
     "output_type": "stream",
     "text": [
      "     pcost       dcost       gap    pres   dres\n",
      " 0:  1.1433e+00 -3.5622e+00  5e+00  1e-16  1e-15\n",
      " 1:  1.1433e+00  1.0963e+00  5e-02  3e-16  6e-16\n",
      "Terminated (singular KKT matrix).\n"
     ]
    }
   ],
   "source": [
    "res = qp(P=Q, q=q, G=G, h=h, A=A, b=b)"
   ]
  },
  {
   "cell_type": "code",
   "execution_count": 414,
   "metadata": {},
   "outputs": [
    {
     "data": {
      "text/plain": [
       "array([[0.7     ],\n",
       "       [0.7     ],\n",
       "       [0.816666],\n",
       "       [0.816666]])"
      ]
     },
     "execution_count": 414,
     "metadata": {},
     "output_type": "execute_result"
    }
   ],
   "source": [
    "np.array(res['x'])"
   ]
  },
  {
   "cell_type": "code",
   "execution_count": 315,
   "metadata": {},
   "outputs": [
    {
     "data": {
      "text/plain": [
       "<4x1 matrix, tc='d'>"
      ]
     },
     "execution_count": 315,
     "metadata": {},
     "output_type": "execute_result"
    }
   ],
   "source": [
    "q"
   ]
  },
  {
   "cell_type": "code",
   "execution_count": 316,
   "metadata": {},
   "outputs": [
    {
     "name": "stdout",
     "output_type": "stream",
     "text": [
      "     pcost       dcost       gap    pres   dres\n",
      " 0:  0.0000e+00  1.3863e+00  5e+00  1e+00  1e+00\n",
      " 1:  6.2725e-01 -1.1522e-01  8e-01  7e-03  7e-03\n",
      " 2:  6.2964e-01  6.2057e-01  9e-03  7e-05  7e-05\n",
      " 3:  6.2966e-01  6.2957e-01  9e-05  7e-07  7e-07\n",
      " 4:  6.2966e-01  6.2966e-01  9e-07  7e-09  7e-09\n",
      " 5:  6.2966e-01  6.2966e-01  9e-09  7e-11  7e-11\n",
      "Optimal solution found.\n"
     ]
    }
   ],
   "source": [
    "res = gp(K=[2*n], F=Q, g=q, G=G, h=h, A=A, b=b)"
   ]
  },
  {
   "cell_type": "code",
   "execution_count": 317,
   "metadata": {},
   "outputs": [
    {
     "data": {
      "text/plain": [
       "'optimal'"
      ]
     },
     "execution_count": 317,
     "metadata": {},
     "output_type": "execute_result"
    }
   ],
   "source": [
    "res['status']"
   ]
  },
  {
   "cell_type": "code",
   "execution_count": 318,
   "metadata": {},
   "outputs": [
    {
     "data": {
      "text/plain": [
       "array([[0.7     ],\n",
       "       [0.7     ],\n",
       "       [0.816666],\n",
       "       [0.816666]])"
      ]
     },
     "execution_count": 318,
     "metadata": {},
     "output_type": "execute_result"
    }
   ],
   "source": [
    "np.array(res['x'])"
   ]
  },
  {
   "cell_type": "code",
   "execution_count": 296,
   "metadata": {},
   "outputs": [
    {
     "data": {
      "text/plain": [
       "np.float64(1.0)"
      ]
     },
     "execution_count": 296,
     "metadata": {},
     "output_type": "execute_result"
    }
   ],
   "source": [
    "np.linalg.det(np.array(Q))"
   ]
  },
  {
   "cell_type": "code",
   "execution_count": 301,
   "metadata": {},
   "outputs": [
    {
     "ename": "ValueError",
     "evalue": "Rank(A) < p or Rank([P; A; G]) < n",
     "output_type": "error",
     "traceback": [
      "\u001b[0;31m---------------------------------------------------------------------------\u001b[0m",
      "\u001b[0;31mArithmeticError\u001b[0m                           Traceback (most recent call last)",
      "File \u001b[0;32m~/anaconda3/envs/mlscorecheck/lib/python3.12/site-packages/cvxopt/misc.py:1429\u001b[0m, in \u001b[0;36mkkt_chol2.<locals>.factor\u001b[0;34m(W, H, Df)\u001b[0m\n\u001b[1;32m   1428\u001b[0m \u001b[38;5;28;01mif\u001b[39;00m \u001b[38;5;28mtype\u001b[39m(F[\u001b[38;5;124m'\u001b[39m\u001b[38;5;124mS\u001b[39m\u001b[38;5;124m'\u001b[39m]) \u001b[38;5;129;01mis\u001b[39;00m matrix: \n\u001b[0;32m-> 1429\u001b[0m     lapack\u001b[38;5;241m.\u001b[39mpotrf(F[\u001b[38;5;124m'\u001b[39m\u001b[38;5;124mS\u001b[39m\u001b[38;5;124m'\u001b[39m]) \n\u001b[1;32m   1430\u001b[0m \u001b[38;5;28;01melse\u001b[39;00m:\n",
      "\u001b[0;31mArithmeticError\u001b[0m: 3",
      "\nDuring handling of the above exception, another exception occurred:\n",
      "\u001b[0;31mArithmeticError\u001b[0m                           Traceback (most recent call last)",
      "File \u001b[0;32m~/anaconda3/envs/mlscorecheck/lib/python3.12/site-packages/cvxopt/coneprog.py:2065\u001b[0m, in \u001b[0;36mconeqp\u001b[0;34m(P, q, G, h, dims, A, b, initvals, kktsolver, xnewcopy, xdot, xaxpy, xscal, ynewcopy, ydot, yaxpy, yscal, **kwargs)\u001b[0m\n\u001b[1;32m   2064\u001b[0m \u001b[38;5;28;01mfor\u001b[39;00m rti \u001b[38;5;129;01min\u001b[39;00m W[\u001b[38;5;124m'\u001b[39m\u001b[38;5;124mrti\u001b[39m\u001b[38;5;124m'\u001b[39m]: rti[::rti\u001b[38;5;241m.\u001b[39msize[\u001b[38;5;241m0\u001b[39m]\u001b[38;5;241m+\u001b[39m\u001b[38;5;241m1\u001b[39m ] \u001b[38;5;241m=\u001b[39m \u001b[38;5;241m1.0\u001b[39m\n\u001b[0;32m-> 2065\u001b[0m \u001b[38;5;28;01mtry\u001b[39;00m: f \u001b[38;5;241m=\u001b[39m kktsolver(W)\n\u001b[1;32m   2066\u001b[0m \u001b[38;5;28;01mexcept\u001b[39;00m \u001b[38;5;167;01mArithmeticError\u001b[39;00m:\n",
      "File \u001b[0;32m~/anaconda3/envs/mlscorecheck/lib/python3.12/site-packages/cvxopt/coneprog.py:1981\u001b[0m, in \u001b[0;36mconeqp.<locals>.kktsolver\u001b[0;34m(W)\u001b[0m\n\u001b[1;32m   1980\u001b[0m \u001b[38;5;28;01mdef\u001b[39;00m \u001b[38;5;21mkktsolver\u001b[39m(W):\n\u001b[0;32m-> 1981\u001b[0m     \u001b[38;5;28;01mreturn\u001b[39;00m factor(W, P)\n",
      "File \u001b[0;32m~/anaconda3/envs/mlscorecheck/lib/python3.12/site-packages/cvxopt/misc.py:1444\u001b[0m, in \u001b[0;36mkkt_chol2.<locals>.factor\u001b[0;34m(W, H, Df)\u001b[0m\n\u001b[1;32m   1443\u001b[0m \u001b[38;5;28;01mif\u001b[39;00m \u001b[38;5;28mtype\u001b[39m(F[\u001b[38;5;124m'\u001b[39m\u001b[38;5;124mS\u001b[39m\u001b[38;5;124m'\u001b[39m]) \u001b[38;5;129;01mis\u001b[39;00m matrix: \n\u001b[0;32m-> 1444\u001b[0m     lapack\u001b[38;5;241m.\u001b[39mpotrf(F[\u001b[38;5;124m'\u001b[39m\u001b[38;5;124mS\u001b[39m\u001b[38;5;124m'\u001b[39m]) \n\u001b[1;32m   1445\u001b[0m \u001b[38;5;28;01melse\u001b[39;00m:\n",
      "\u001b[0;31mArithmeticError\u001b[0m: 4",
      "\nDuring handling of the above exception, another exception occurred:\n",
      "\u001b[0;31mValueError\u001b[0m                                Traceback (most recent call last)",
      "Cell \u001b[0;32mIn[301], line 1\u001b[0m\n\u001b[0;32m----> 1\u001b[0m res \u001b[38;5;241m=\u001b[39m qp(P\u001b[38;5;241m=\u001b[39mQ, q\u001b[38;5;241m=\u001b[39mq, G\u001b[38;5;241m=\u001b[39mG, h\u001b[38;5;241m=\u001b[39mh, A\u001b[38;5;241m=\u001b[39mA, b\u001b[38;5;241m=\u001b[39mb)\n",
      "File \u001b[0;32m~/anaconda3/envs/mlscorecheck/lib/python3.12/site-packages/cvxopt/coneprog.py:4485\u001b[0m, in \u001b[0;36mqp\u001b[0;34m(P, q, G, h, A, b, solver, kktsolver, initvals, **kwargs)\u001b[0m\n\u001b[1;32m   4475\u001b[0m         pinfres, dinfres \u001b[38;5;241m=\u001b[39m \u001b[38;5;28;01mNone\u001b[39;00m, \u001b[38;5;28;01mNone\u001b[39;00m\n\u001b[1;32m   4477\u001b[0m     \u001b[38;5;28;01mreturn\u001b[39;00m {\u001b[38;5;124m'\u001b[39m\u001b[38;5;124mstatus\u001b[39m\u001b[38;5;124m'\u001b[39m: status, \u001b[38;5;124m'\u001b[39m\u001b[38;5;124mx\u001b[39m\u001b[38;5;124m'\u001b[39m: x, \u001b[38;5;124m'\u001b[39m\u001b[38;5;124ms\u001b[39m\u001b[38;5;124m'\u001b[39m: s, \u001b[38;5;124m'\u001b[39m\u001b[38;5;124my\u001b[39m\u001b[38;5;124m'\u001b[39m: y, \u001b[38;5;124m'\u001b[39m\u001b[38;5;124mz\u001b[39m\u001b[38;5;124m'\u001b[39m: z,\n\u001b[1;32m   4478\u001b[0m         \u001b[38;5;124m'\u001b[39m\u001b[38;5;124mprimal objective\u001b[39m\u001b[38;5;124m'\u001b[39m: pcost, \u001b[38;5;124m'\u001b[39m\u001b[38;5;124mdual objective\u001b[39m\u001b[38;5;124m'\u001b[39m: dcost,\n\u001b[1;32m   4479\u001b[0m         \u001b[38;5;124m'\u001b[39m\u001b[38;5;124mgap\u001b[39m\u001b[38;5;124m'\u001b[39m: gap, \u001b[38;5;124m'\u001b[39m\u001b[38;5;124mrelative gap\u001b[39m\u001b[38;5;124m'\u001b[39m: relgap,\n\u001b[0;32m   (...)\u001b[0m\n\u001b[1;32m   4482\u001b[0m         \u001b[38;5;124m'\u001b[39m\u001b[38;5;124mresidual as primal infeasibility certificate\u001b[39m\u001b[38;5;124m'\u001b[39m: pinfres,\n\u001b[1;32m   4483\u001b[0m         \u001b[38;5;124m'\u001b[39m\u001b[38;5;124mresidual as dual infeasibility certificate\u001b[39m\u001b[38;5;124m'\u001b[39m: dinfres}\n\u001b[0;32m-> 4485\u001b[0m \u001b[38;5;28;01mreturn\u001b[39;00m coneqp(P, q, G, h, \u001b[38;5;28;01mNone\u001b[39;00m, A,  b, initvals, kktsolver \u001b[38;5;241m=\u001b[39m kktsolver, options \u001b[38;5;241m=\u001b[39m options)\n",
      "File \u001b[0;32m~/anaconda3/envs/mlscorecheck/lib/python3.12/site-packages/cvxopt/coneprog.py:2067\u001b[0m, in \u001b[0;36mconeqp\u001b[0;34m(P, q, G, h, dims, A, b, initvals, kktsolver, xnewcopy, xdot, xaxpy, xscal, ynewcopy, ydot, yaxpy, yscal, **kwargs)\u001b[0m\n\u001b[1;32m   2065\u001b[0m \u001b[38;5;28;01mtry\u001b[39;00m: f \u001b[38;5;241m=\u001b[39m kktsolver(W)\n\u001b[1;32m   2066\u001b[0m \u001b[38;5;28;01mexcept\u001b[39;00m \u001b[38;5;167;01mArithmeticError\u001b[39;00m:\n\u001b[0;32m-> 2067\u001b[0m     \u001b[38;5;28;01mraise\u001b[39;00m \u001b[38;5;167;01mValueError\u001b[39;00m(\u001b[38;5;124m\"\u001b[39m\u001b[38;5;124mRank(A) < p or Rank([P; A; G]) < n\u001b[39m\u001b[38;5;124m\"\u001b[39m)\n\u001b[1;32m   2070\u001b[0m \u001b[38;5;66;03m# Solve\u001b[39;00m\n\u001b[1;32m   2071\u001b[0m \u001b[38;5;66;03m#\u001b[39;00m\n\u001b[1;32m   2072\u001b[0m \u001b[38;5;66;03m#     [ P   A'  G' ]   [ x ]   [ -q ]\u001b[39;00m\n\u001b[1;32m   2073\u001b[0m \u001b[38;5;66;03m#     [ A   0   0  ] * [ y ] = [  b ].\u001b[39;00m\n\u001b[1;32m   2074\u001b[0m \u001b[38;5;66;03m#     [ G   0  -I  ]   [ z ]   [  h ]\u001b[39;00m\n\u001b[1;32m   2076\u001b[0m xcopy(q, x)\n",
      "\u001b[0;31mValueError\u001b[0m: Rank(A) < p or Rank([P; A; G]) < n"
     ]
    }
   ],
   "source": [
    "res = qp(P=Q, q=q, G=G, h=h, A=A, b=b)"
   ]
  },
  {
   "cell_type": "code",
   "execution_count": null,
   "metadata": {},
   "outputs": [
    {
     "data": {
      "text/plain": [
       "array([[3.19299199e-09],\n",
       "       [1.40000000e+00],\n",
       "       [1.63333200e+00],\n",
       "       [2.40948267e-09]])"
      ]
     },
     "execution_count": 235,
     "metadata": {},
     "output_type": "execute_result"
    }
   ],
   "source": [
    "np.array(res['x'])"
   ]
  },
  {
   "cell_type": "code",
   "execution_count": null,
   "metadata": {},
   "outputs": [
    {
     "data": {
      "text/plain": [
       "{'x': <4x1 matrix, tc='d'>,\n",
       " 'y': <2x1 matrix, tc='d'>,\n",
       " 's': <4x1 matrix, tc='d'>,\n",
       " 'z': <4x1 matrix, tc='d'>,\n",
       " 'status': 'optimal',\n",
       " 'gap': 5.693156853249831e-08,\n",
       " 'relative gap': None,\n",
       " 'primal objective': 8.588491713624935e-09,\n",
       " 'dual objective': -4.8343076818873306e-08,\n",
       " 'primal infeasibility': 6.280369834735114e-16,\n",
       " 'dual infeasibility': 4.9650683065029545e-16,\n",
       " 'primal slack': 2.409482665308534e-09,\n",
       " 'dual slack': 1.5770030456142635e-08,\n",
       " 'iterations': 5}"
      ]
     },
     "execution_count": 236,
     "metadata": {},
     "output_type": "execute_result"
    }
   ],
   "source": [
    "res"
   ]
  },
  {
   "cell_type": "code",
   "execution_count": null,
   "metadata": {},
   "outputs": [],
   "source": []
  }
 ],
 "metadata": {
  "kernelspec": {
   "display_name": "mlscorecheck",
   "language": "python",
   "name": "python3"
  },
  "language_info": {
   "codemirror_mode": {
    "name": "ipython",
    "version": 3
   },
   "file_extension": ".py",
   "mimetype": "text/x-python",
   "name": "python",
   "nbconvert_exporter": "python",
   "pygments_lexer": "ipython3",
   "version": "3.12.0"
  }
 },
 "nbformat": 4,
 "nbformat_minor": 2
}
