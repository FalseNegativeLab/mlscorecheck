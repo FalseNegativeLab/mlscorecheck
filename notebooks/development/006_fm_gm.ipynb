{
 "cells": [
  {
   "cell_type": "code",
   "execution_count": 26,
   "metadata": {},
   "outputs": [],
   "source": [
    "import sympy\n",
    "from sympy import Symbol\n",
    "\n",
    "from mlscorecheck.core import fowlkes_mallows_index, geometric_mean, sqrt"
   ]
  },
  {
   "cell_type": "code",
   "execution_count": 27,
   "metadata": {},
   "outputs": [],
   "source": [
    "tp = Symbol('tp')\n",
    "fp = Symbol('fp')\n",
    "tn = Symbol('tn')\n",
    "fn = Symbol('fn')\n",
    "eps = Symbol('eps')\n",
    "p = Symbol('p')\n",
    "n = Symbol('n')\n",
    "beta = Symbol('beta')\n",
    "fm = Symbol('fm')\n",
    "gm = Symbol('gm')"
   ]
  },
  {
   "cell_type": "code",
   "execution_count": 50,
   "metadata": {},
   "outputs": [],
   "source": [
    "tp_ = 20\n",
    "tn_ = 30\n",
    "p_ = 50\n",
    "n_ = 100\n",
    "fn_ = p_ - tp_\n",
    "fp_ = n_ - tn_\n",
    "fm_ = fowlkes_mallows_index(tp=tp_, fp=fp_, p=p_)\n",
    "gm_ = geometric_mean(tp=tp_, tn=tn_, p=p_, n=n_)"
   ]
  },
  {
   "cell_type": "code",
   "execution_count": 78,
   "metadata": {},
   "outputs": [
    {
     "data": {
      "text/plain": [
       "(0.29814239699997197, 0.34641016151377546)"
      ]
     },
     "execution_count": 78,
     "metadata": {},
     "output_type": "execute_result"
    }
   ],
   "source": [
    "fm_, gm_"
   ]
  },
  {
   "cell_type": "code",
   "execution_count": 29,
   "metadata": {},
   "outputs": [],
   "source": [
    "eq0 = fm - fowlkes_mallows_index(tp=tp, fp=fp, p=p)\n",
    "eq1 = gm - geometric_mean(tp=tp, tn=tn, p=p, n=n)\n",
    "eq2 = p - tp - fn\n",
    "eq3 = n - tn - fp"
   ]
  },
  {
   "cell_type": "code",
   "execution_count": 30,
   "metadata": {},
   "outputs": [],
   "source": [
    "tp0 = sympy.solve(eq0, tp, dict=True)\n",
    "tp1 = sympy.solve(eq1, tp, dict=True)\n",
    "tp2 = sympy.solve(eq2, tp, dict=True)"
   ]
  },
  {
   "cell_type": "code",
   "execution_count": 31,
   "metadata": {},
   "outputs": [
    {
     "name": "stdout",
     "output_type": "stream",
     "text": [
      "[{tp: fm*(fm*p - sqrt(p*(fm**2*p + 4*fp)))/2}, {tp: fm*(fm*p + sqrt(p*(fm**2*p + 4*fp)))/2}]\n",
      "[{tp: gm**2*n*p/tn}]\n",
      "[{tp: -fn + p}]\n"
     ]
    }
   ],
   "source": [
    "print(tp0)\n",
    "print(tp1)\n",
    "print(tp2)"
   ]
  },
  {
   "cell_type": "code",
   "execution_count": 81,
   "metadata": {},
   "outputs": [
    {
     "data": {
      "text/latex": [
       "$\\displaystyle 20.0$"
      ],
      "text/plain": [
       "20.0000000000000"
      ]
     },
     "execution_count": 81,
     "metadata": {},
     "output_type": "execute_result"
    }
   ],
   "source": [
    "tp0[1][tp].subs({fm: fm_, p: p_, fp: fp_})"
   ]
  },
  {
   "cell_type": "code",
   "execution_count": 32,
   "metadata": {},
   "outputs": [],
   "source": [
    "# tp0[0]"
   ]
  },
  {
   "cell_type": "code",
   "execution_count": 33,
   "metadata": {},
   "outputs": [],
   "source": [
    "eq10 = tp0[0][tp] - tp2[0][tp]\n",
    "eq11 = tp1[0][tp] - tp2[0][tp]"
   ]
  },
  {
   "cell_type": "code",
   "execution_count": 34,
   "metadata": {},
   "outputs": [
    {
     "data": {
      "text/latex": [
       "$\\displaystyle \\frac{fm \\left(fm p - \\sqrt{p \\left(fm^{2} p + 4 fp\\right)}\\right)}{2} + fn - p$"
      ],
      "text/plain": [
       "fm*(fm*p - sqrt(p*(fm**2*p + 4*fp)))/2 + fn - p"
      ]
     },
     "execution_count": 34,
     "metadata": {},
     "output_type": "execute_result"
    }
   ],
   "source": [
    "eq10"
   ]
  },
  {
   "cell_type": "code",
   "execution_count": 35,
   "metadata": {},
   "outputs": [
    {
     "data": {
      "text/latex": [
       "$\\displaystyle fn + \\frac{gm^{2} n p}{tn} - p$"
      ],
      "text/plain": [
       "fn + gm**2*n*p/tn - p"
      ]
     },
     "execution_count": 35,
     "metadata": {},
     "output_type": "execute_result"
    }
   ],
   "source": [
    "eq11"
   ]
  },
  {
   "cell_type": "code",
   "execution_count": 36,
   "metadata": {},
   "outputs": [],
   "source": [
    "fn0 = sympy.solve(eq10, fn, dict=True)\n",
    "fn1 = sympy.solve(eq11, fn, dict=True)"
   ]
  },
  {
   "cell_type": "code",
   "execution_count": 37,
   "metadata": {},
   "outputs": [
    {
     "data": {
      "text/plain": [
       "[{fn: -fm**2*p/2 + fm*sqrt(p*(fm**2*p + 4*fp))/2 + p}]"
      ]
     },
     "execution_count": 37,
     "metadata": {},
     "output_type": "execute_result"
    }
   ],
   "source": [
    "fn0"
   ]
  },
  {
   "cell_type": "code",
   "execution_count": 38,
   "metadata": {},
   "outputs": [
    {
     "data": {
      "text/plain": [
       "[{fn: p*(-gm**2*n + tn)/tn}]"
      ]
     },
     "execution_count": 38,
     "metadata": {},
     "output_type": "execute_result"
    }
   ],
   "source": [
    "fn1"
   ]
  },
  {
   "cell_type": "code",
   "execution_count": 83,
   "metadata": {},
   "outputs": [
    {
     "data": {
      "text/latex": [
       "$\\displaystyle 30.0$"
      ],
      "text/plain": [
       "30.0000000000000"
      ]
     },
     "execution_count": 83,
     "metadata": {},
     "output_type": "execute_result"
    }
   ],
   "source": [
    "fn0[0][fn].subs({fm: fm_, p: p_, fp: fp_})"
   ]
  },
  {
   "cell_type": "code",
   "execution_count": 87,
   "metadata": {},
   "outputs": [
    {
     "data": {
      "text/latex": [
       "$\\displaystyle 30.0$"
      ],
      "text/plain": [
       "30.0000000000000"
      ]
     },
     "execution_count": 87,
     "metadata": {},
     "output_type": "execute_result"
    }
   ],
   "source": [
    "fn1[0][fn].subs({fm: fm_, p: p_, fp: fp_, gm: gm_, n: n_, tn: tn_})"
   ]
  },
  {
   "cell_type": "code",
   "execution_count": 39,
   "metadata": {},
   "outputs": [],
   "source": [
    "fn_sol = fn1[0][fn]"
   ]
  },
  {
   "cell_type": "code",
   "execution_count": 40,
   "metadata": {},
   "outputs": [],
   "source": [
    "eq20 = fn0[0][fn] - fn1[0][fn]"
   ]
  },
  {
   "cell_type": "code",
   "execution_count": 41,
   "metadata": {},
   "outputs": [
    {
     "data": {
      "text/latex": [
       "$\\displaystyle - \\frac{fm^{2} p}{2} + \\frac{fm \\sqrt{p \\left(fm^{2} p + 4 fp\\right)}}{2} + p - \\frac{p \\left(- gm^{2} n + tn\\right)}{tn}$"
      ],
      "text/plain": [
       "-fm**2*p/2 + fm*sqrt(p*(fm**2*p + 4*fp))/2 + p - p*(-gm**2*n + tn)/tn"
      ]
     },
     "execution_count": 41,
     "metadata": {},
     "output_type": "execute_result"
    }
   ],
   "source": [
    "eq20"
   ]
  },
  {
   "cell_type": "code",
   "execution_count": 42,
   "metadata": {},
   "outputs": [],
   "source": [
    "fp0 = sympy.solve(eq20, fp, dict=True)\n",
    "fp1 = sympy.solve(eq3, fp, dict=True)"
   ]
  },
  {
   "cell_type": "code",
   "execution_count": 43,
   "metadata": {},
   "outputs": [],
   "source": [
    "fp_sol = fp0[0][fp]"
   ]
  },
  {
   "cell_type": "code",
   "execution_count": 44,
   "metadata": {},
   "outputs": [
    {
     "data": {
      "text/plain": [
       "[{fp: gm**2*n*p*(-fm**2*tn + gm**2*n)/(fm**2*tn**2)}]"
      ]
     },
     "execution_count": 44,
     "metadata": {},
     "output_type": "execute_result"
    }
   ],
   "source": [
    "fp0"
   ]
  },
  {
   "cell_type": "code",
   "execution_count": 45,
   "metadata": {},
   "outputs": [
    {
     "data": {
      "text/plain": [
       "[{fp: n - tn}]"
      ]
     },
     "execution_count": 45,
     "metadata": {},
     "output_type": "execute_result"
    }
   ],
   "source": [
    "fp1"
   ]
  },
  {
   "cell_type": "code",
   "execution_count": 89,
   "metadata": {},
   "outputs": [
    {
     "data": {
      "text/latex": [
       "$\\displaystyle 70.0$"
      ],
      "text/plain": [
       "70.0000000000000"
      ]
     },
     "execution_count": 89,
     "metadata": {},
     "output_type": "execute_result"
    }
   ],
   "source": [
    "fp0[0][fp].subs({gm: gm_, n: n_, p: p_, fm: fm_, tn: tn_})"
   ]
  },
  {
   "cell_type": "code",
   "execution_count": 93,
   "metadata": {},
   "outputs": [
    {
     "data": {
      "text/latex": [
       "$\\displaystyle 70$"
      ],
      "text/plain": [
       "70"
      ]
     },
     "execution_count": 93,
     "metadata": {},
     "output_type": "execute_result"
    }
   ],
   "source": [
    "fp1[0][fp].subs({n: n_, tn: tn_})"
   ]
  },
  {
   "cell_type": "code",
   "execution_count": 98,
   "metadata": {},
   "outputs": [],
   "source": [
    "eq_tn = fp0[0][fp] - fp1[0][fp]"
   ]
  },
  {
   "cell_type": "code",
   "execution_count": 99,
   "metadata": {},
   "outputs": [
    {
     "data": {
      "text/latex": [
       "$\\displaystyle -1.4210854715202 \\cdot 10^{-14}$"
      ],
      "text/plain": [
       "-1.42108547152020e-14"
      ]
     },
     "execution_count": 99,
     "metadata": {},
     "output_type": "execute_result"
    }
   ],
   "source": [
    "eq_tn.subs({gm: gm_, n: n_, p: p_, fm: fm_, tn: tn_})"
   ]
  },
  {
   "cell_type": "code",
   "execution_count": 100,
   "metadata": {},
   "outputs": [
    {
     "data": {
      "text/latex": [
       "$\\displaystyle - n + tn + \\frac{gm^{2} n p \\left(- fm^{2} tn + gm^{2} n\\right)}{fm^{2} tn^{2}}$"
      ],
      "text/plain": [
       "-n + tn + gm**2*n*p*(-fm**2*tn + gm**2*n)/(fm**2*tn**2)"
      ]
     },
     "execution_count": 100,
     "metadata": {},
     "output_type": "execute_result"
    }
   ],
   "source": [
    "eq_tn"
   ]
  },
  {
   "cell_type": "code",
   "execution_count": 113,
   "metadata": {},
   "outputs": [],
   "source": [
    "eq_tn2 = sympy.expand(eq_tn * fm**2*tn**2)"
   ]
  },
  {
   "cell_type": "code",
   "execution_count": 114,
   "metadata": {},
   "outputs": [
    {
     "data": {
      "text/latex": [
       "$\\displaystyle - fm^{2} gm^{2} n p tn - fm^{2} n tn^{2} + fm^{2} tn^{3} + gm^{4} n^{2} p$"
      ],
      "text/plain": [
       "-fm**2*gm**2*n*p*tn - fm**2*n*tn**2 + fm**2*tn**3 + gm**4*n**2*p"
      ]
     },
     "execution_count": 114,
     "metadata": {},
     "output_type": "execute_result"
    }
   ],
   "source": [
    "eq_tn2"
   ]
  },
  {
   "cell_type": "code",
   "execution_count": 141,
   "metadata": {},
   "outputs": [
    {
     "data": {
      "text/latex": [
       "$\\displaystyle 0$"
      ],
      "text/plain": [
       "0"
      ]
     },
     "execution_count": 141,
     "metadata": {},
     "output_type": "execute_result"
    }
   ],
   "source": [
    "eq_tn2.subs({gm: gm_, n: n_, p: p_, fm: fm_, tn: tn_})"
   ]
  },
  {
   "cell_type": "code",
   "execution_count": 115,
   "metadata": {},
   "outputs": [],
   "source": [
    "# if fm > 0 and tn > 0"
   ]
  },
  {
   "cell_type": "code",
   "execution_count": 124,
   "metadata": {},
   "outputs": [],
   "source": [
    "a = sympy.Symbol('a')\n",
    "b = sympy.Symbol('b')\n",
    "c = sympy.Symbol('c')\n",
    "d = sympy.Symbol('d')"
   ]
  },
  {
   "cell_type": "code",
   "execution_count": 149,
   "metadata": {},
   "outputs": [],
   "source": [
    "eq_third = a*tn**3 + b*tn**2 + c*tn + d"
   ]
  },
  {
   "cell_type": "code",
   "execution_count": 165,
   "metadata": {},
   "outputs": [
    {
     "data": {
      "text/latex": [
       "$\\displaystyle a tn^{3} + b tn^{2} + c tn + d$"
      ],
      "text/plain": [
       "a*tn**3 + b*tn**2 + c*tn + d"
      ]
     },
     "execution_count": 165,
     "metadata": {},
     "output_type": "execute_result"
    }
   ],
   "source": [
    "eq_third"
   ]
  },
  {
   "cell_type": "code",
   "execution_count": 150,
   "metadata": {},
   "outputs": [],
   "source": [
    "third = sympy.solve(eq_third, tn, dict=True)"
   ]
  },
  {
   "cell_type": "code",
   "execution_count": 151,
   "metadata": {},
   "outputs": [
    {
     "data": {
      "text/plain": [
       "[{tn: -(-3*c/a + b**2/a**2)/(3*(sqrt(-4*(-3*c/a + b**2/a**2)**3 + (27*d/a - 9*b*c/a**2 + 2*b**3/a**3)**2)/2 + 27*d/(2*a) - 9*b*c/(2*a**2) + b**3/a**3)**(1/3)) - (sqrt(-4*(-3*c/a + b**2/a**2)**3 + (27*d/a - 9*b*c/a**2 + 2*b**3/a**3)**2)/2 + 27*d/(2*a) - 9*b*c/(2*a**2) + b**3/a**3)**(1/3)/3 - b/(3*a)},\n",
       " {tn: -(-3*c/a + b**2/a**2)/(3*(-1/2 - sqrt(3)*I/2)*(sqrt(-4*(-3*c/a + b**2/a**2)**3 + (27*d/a - 9*b*c/a**2 + 2*b**3/a**3)**2)/2 + 27*d/(2*a) - 9*b*c/(2*a**2) + b**3/a**3)**(1/3)) - (-1/2 - sqrt(3)*I/2)*(sqrt(-4*(-3*c/a + b**2/a**2)**3 + (27*d/a - 9*b*c/a**2 + 2*b**3/a**3)**2)/2 + 27*d/(2*a) - 9*b*c/(2*a**2) + b**3/a**3)**(1/3)/3 - b/(3*a)},\n",
       " {tn: -(-3*c/a + b**2/a**2)/(3*(-1/2 + sqrt(3)*I/2)*(sqrt(-4*(-3*c/a + b**2/a**2)**3 + (27*d/a - 9*b*c/a**2 + 2*b**3/a**3)**2)/2 + 27*d/(2*a) - 9*b*c/(2*a**2) + b**3/a**3)**(1/3)) - (-1/2 + sqrt(3)*I/2)*(sqrt(-4*(-3*c/a + b**2/a**2)**3 + (27*d/a - 9*b*c/a**2 + 2*b**3/a**3)**2)/2 + 27*d/(2*a) - 9*b*c/(2*a**2) + b**3/a**3)**(1/3)/3 - b/(3*a)}]"
      ]
     },
     "execution_count": 151,
     "metadata": {},
     "output_type": "execute_result"
    }
   ],
   "source": [
    "third"
   ]
  },
  {
   "cell_type": "code",
   "execution_count": 197,
   "metadata": {},
   "outputs": [],
   "source": [
    "tn_sol = third[1][tn]"
   ]
  },
  {
   "cell_type": "code",
   "execution_count": 199,
   "metadata": {},
   "outputs": [
    {
     "name": "stdout",
     "output_type": "stream",
     "text": [
      "-(-3*c/a + b**2/a**2)/(3*(-1/2 - sqrt(3)*I/2)*(sqrt(-4*(-3*c/a + b**2/a**2)**3 + (27*d/a - 9*b*c/a**2 + 2*b**3/a**3)**2)/2 + 27*d/(2*a) - 9*b*c/(2*a**2) + b**3/a**3)**(1/3)) - (-1/2 - sqrt(3)*I/2)*(sqrt(-4*(-3*c/a + b**2/a**2)**3 + (27*d/a - 9*b*c/a**2 + 2*b**3/a**3)**2)/2 + 27*d/(2*a) - 9*b*c/(2*a**2) + b**3/a**3)**(1/3)/3 - b/(3*a)\n"
     ]
    }
   ],
   "source": [
    "print(tn_sol)"
   ]
  },
  {
   "cell_type": "code",
   "execution_count": 240,
   "metadata": {},
   "outputs": [],
   "source": [
    "def tn_solution(fm, gm, n, p):\n",
    "    a = fm**2\n",
    "    b = -fm**2*n\n",
    "    c = -fm**2*gm**2*n*p\n",
    "    d = gm**4*n**2*p\n",
    "\n",
    "    delta_0 = b**2 - 3*a*c\n",
    "    delta_1 = 2*b**3 - 9*a*b*c + 27*a**2*d\n",
    "\n",
    "    print(delta_0, delta_1)\n",
    "    print(delta_1**2 - 4*delta_0**3)\n",
    "\n",
    "    C = ((delta_1 + sqrt(4*delta_0**3 - delta_1**2))/2.0)**(1/3)\n",
    "    #xi = (-1 + sqrt(3))/2.0\n",
    "    xi = 1\n",
    "    x = -1/(3*a)*(b - xi*C + delta_0/(-xi*C))\n",
    "\n",
    "    return x"
   ]
  },
  {
   "cell_type": "code",
   "execution_count": 239,
   "metadata": {},
   "outputs": [
    {
     "name": "stdout",
     "output_type": "stream",
     "text": [
      "93.23456790123458 -247.92318244170133\n",
      "-3180368.8852309114\n"
     ]
    },
    {
     "name": "stderr",
     "output_type": "stream",
     "text": [
      "/tmp/ipykernel_9842/1534219169.py:13: RuntimeWarning: invalid value encountered in scalar power\n",
      "  C = ((delta_1 - sqrt(4*delta_0**3 - delta_1**2))/2.0)**(1/3)\n"
     ]
    },
    {
     "data": {
      "text/plain": [
       "nan"
      ]
     },
     "execution_count": 239,
     "metadata": {},
     "output_type": "execute_result"
    }
   ],
   "source": [
    "tn_solution(fm=fm_, gm=gm_, n=n_, p=p_)"
   ]
  },
  {
   "cell_type": "code",
   "execution_count": 190,
   "metadata": {},
   "outputs": [
    {
     "data": {
      "text/latex": [
       "$\\displaystyle 97.6498204307083 + 1.284 \\cdot 10^{-14} i$"
      ],
      "text/plain": [
       "97.6498204307083 + 1.284e-14*I"
      ]
     },
     "execution_count": 190,
     "metadata": {},
     "output_type": "execute_result"
    }
   ],
   "source": [
    "sympy.N(third[2][tn].subs({a: a_, b: b_, c: c_, d: d_}))"
   ]
  },
  {
   "cell_type": "code",
   "execution_count": 175,
   "metadata": {},
   "outputs": [
    {
     "name": "stdout",
     "output_type": "stream",
     "text": [
      "26.3745313257429\n"
     ]
    }
   ],
   "source": [
    "val0 = (((-b**3/(27*a**3) + b*c/(6*a**2) - d/(2*a)) + sqrt((-b**3/(27*a**3) + b*c/(6*a**2) - d/(2*a))**2 + (c/(3*a) - b**2/(9*a**2)**3)))**(1/3)).subs({a: a_, b: b_, c: c_, d: d_})\n",
    "val1 = (((-b**3/(27*a**3) + b*c/(6*a**2) - d/(2*a)) - sqrt((-b**3/(27*a**3) + b*c/(6*a**2) - d/(2*a))**2 + (c/(3*a) - b**2/(9*a**2)**3)))**(1/3)).subs({a: a_, b: b_, c: c_, d: d_})\n",
    "val2 = (b/3*a).subs({a: a_, b: b_, c: c_, d: d_})\n",
    "print(val0 + val1 - val2)"
   ]
  },
  {
   "cell_type": "code",
   "execution_count": 187,
   "metadata": {},
   "outputs": [
    {
     "data": {
      "text/latex": [
       "$\\displaystyle -27.6498204307083 + 1.684 \\cdot 10^{-14} i$"
      ],
      "text/plain": [
       "-27.6498204307083 + 1.684e-14*I"
      ]
     },
     "execution_count": 187,
     "metadata": {},
     "output_type": "execute_result"
    }
   ],
   "source": [
    "delta_0 = b**2 - 3*a*c\n",
    "delta_1 = 2*b**3 - 9*a*b*c + 27*a**2*d\n",
    "C = ((delta_1 + sqrt(delta_1**2 - 4*delta_0**3))/2.0)**(1/3)\n",
    "x = -1/(3*a)*(b + C + delta_0/C)\n",
    "sympy.N(x.subs({a: a_, b: b_, c: c_, d: d_}))"
   ]
  },
  {
   "cell_type": "code",
   "execution_count": 168,
   "metadata": {},
   "outputs": [
    {
     "data": {
      "text/latex": [
       "$\\displaystyle 324.845380043533 \\left(-0.139020354006141 + i\\right)^{0.333333333333333}$"
      ],
      "text/plain": [
       "324.845380043533*(-0.139020354006141 + I)**0.333333333333333"
      ]
     },
     "execution_count": 168,
     "metadata": {},
     "output_type": "execute_result"
    }
   ],
   "source": [
    "(3*(sqrt(-4*(-3*c/a + b**2/a**2)**3 + (27*d/a - 9*b*c/a**2 + 2*b**3/a**3)**2)/2 + 27*d/(2*a) - 9*b*c/(2*a**2) + b**3/a**3)**(1/3)).subs({a: a_, b: b_, c: c_, d: d_})"
   ]
  },
  {
   "cell_type": "code",
   "execution_count": 162,
   "metadata": {},
   "outputs": [
    {
     "data": {
      "text/latex": [
       "$\\displaystyle - \\frac{- \\frac{3 c}{a} + \\frac{b^{2}}{a^{2}}}{3 \\left(- \\frac{1}{2} - \\frac{\\sqrt{3} i}{2}\\right) \\sqrt[3]{\\frac{\\sqrt{- 4 \\left(- \\frac{3 c}{a} + \\frac{b^{2}}{a^{2}}\\right)^{3} + \\left(\\frac{27 d}{a} - \\frac{9 b c}{a^{2}} + \\frac{2 b^{3}}{a^{3}}\\right)^{2}}}{2} + \\frac{27 d}{2 a} - \\frac{9 b c}{2 a^{2}} + \\frac{b^{3}}{a^{3}}}} - \\frac{\\left(- \\frac{1}{2} - \\frac{\\sqrt{3} i}{2}\\right) \\sqrt[3]{\\frac{\\sqrt{- 4 \\left(- \\frac{3 c}{a} + \\frac{b^{2}}{a^{2}}\\right)^{3} + \\left(\\frac{27 d}{a} - \\frac{9 b c}{a^{2}} + \\frac{2 b^{3}}{a^{3}}\\right)^{2}}}{2} + \\frac{27 d}{2 a} - \\frac{9 b c}{2 a^{2}} + \\frac{b^{3}}{a^{3}}}}{3} - \\frac{b}{3 a}$"
      ],
      "text/plain": [
       "-(-3*c/a + b**2/a**2)/(3*(-1/2 - sqrt(3)*I/2)*(sqrt(-4*(-3*c/a + b**2/a**2)**3 + (27*d/a - 9*b*c/a**2 + 2*b**3/a**3)**2)/2 + 27*d/(2*a) - 9*b*c/(2*a**2) + b**3/a**3)**(1/3)) - (-1/2 - sqrt(3)*I/2)*(sqrt(-4*(-3*c/a + b**2/a**2)**3 + (27*d/a - 9*b*c/a**2 + 2*b**3/a**3)**2)/2 + 27*d/(2*a) - 9*b*c/(2*a**2) + b**3/a**3)**(1/3)/3 - b/(3*a)"
      ]
     },
     "execution_count": 162,
     "metadata": {},
     "output_type": "execute_result"
    }
   ],
   "source": [
    "third[1][tn]"
   ]
  },
  {
   "cell_type": "code",
   "execution_count": 152,
   "metadata": {},
   "outputs": [],
   "source": [
    "a_ = fm_**2\n",
    "b_ = -fm_**2*n_\n",
    "c_ = -fm_**2*gm_**2*n_*p_\n",
    "d_ = gm_**4*n_**2*p_"
   ]
  },
  {
   "cell_type": "code",
   "execution_count": 153,
   "metadata": {},
   "outputs": [],
   "source": [
    "eq_tmp = eq_third.subs({a: a_, b: b_, c: c_, d: d_})"
   ]
  },
  {
   "cell_type": "code",
   "execution_count": 164,
   "metadata": {},
   "outputs": [
    {
     "data": {
      "text/latex": [
       "$\\displaystyle 0.0888888888888889 tn^{3} - 8.88888888888889 tn^{2} - 53.3333333333333 tn + 7200.0$"
      ],
      "text/plain": [
       "0.0888888888888889*tn**3 - 8.88888888888889*tn**2 - 53.3333333333333*tn + 7200.0"
      ]
     },
     "execution_count": 164,
     "metadata": {},
     "output_type": "execute_result"
    }
   ],
   "source": [
    "eq_tmp"
   ]
  },
  {
   "cell_type": "code",
   "execution_count": 163,
   "metadata": {},
   "outputs": [
    {
     "data": {
      "text/plain": [
       "[-27.6498204307083, 30.0000000000000, 97.6498204307083]"
      ]
     },
     "execution_count": 163,
     "metadata": {},
     "output_type": "execute_result"
    }
   ],
   "source": [
    "sympy.solve(eq_tmp, tn)"
   ]
  },
  {
   "cell_type": "code",
   "execution_count": 156,
   "metadata": {},
   "outputs": [
    {
     "data": {
      "text/latex": [
       "$\\displaystyle 33.3333333333333 - 36.2092683040007 \\sqrt[3]{-0.137696118694114 + 0.99047452208352 i} - \\frac{36.2092683040007}{\\sqrt[3]{-0.137696118694114 + 0.99047452208352 i}}$"
      ],
      "text/plain": [
       "33.3333333333333 - 36.2092683040007*(-0.137696118694114 + 0.99047452208352*I)**(1/3) - 36.2092683040007/(-0.137696118694114 + 0.99047452208352*I)**(1/3)"
      ]
     },
     "execution_count": 156,
     "metadata": {},
     "output_type": "execute_result"
    }
   ],
   "source": [
    "third[0][tn].subs({a: a_, b: b_, c: c_, d: d_})"
   ]
  },
  {
   "cell_type": "code",
   "execution_count": 146,
   "metadata": {},
   "outputs": [
    {
     "data": {
      "text/plain": [
       "(0.8420931521063433+0.5393321083634964j)"
      ]
     },
     "execution_count": 146,
     "metadata": {},
     "output_type": "execute_result"
    }
   ],
   "source": [
    "complex(-0.1376961186, 0.990474522)**(1/3.0)"
   ]
  },
  {
   "cell_type": "code",
   "execution_count": null,
   "metadata": {},
   "outputs": [],
   "source": []
  },
  {
   "cell_type": "code",
   "execution_count": 116,
   "metadata": {},
   "outputs": [],
   "source": [
    "tn_sol = sympy.solve(eq_tn, tn, dict=True)"
   ]
  },
  {
   "cell_type": "code",
   "execution_count": 117,
   "metadata": {},
   "outputs": [
    {
     "data": {
      "text/plain": [
       "[{tn: n/3 - (3*gm**2*n*p + n**2)/(3*(-9*gm**2*n**2*p/2 - n**3 + sqrt(-4*(3*gm**2*n*p + n**2)**3 + (-9*gm**2*n**2*p - 2*n**3 + 27*gm**4*n**2*p/fm**2)**2)/2 + 27*gm**4*n**2*p/(2*fm**2))**(1/3)) - (-9*gm**2*n**2*p/2 - n**3 + sqrt(-4*(3*gm**2*n*p + n**2)**3 + (-9*gm**2*n**2*p - 2*n**3 + 27*gm**4*n**2*p/fm**2)**2)/2 + 27*gm**4*n**2*p/(2*fm**2))**(1/3)/3},\n",
       " {tn: n/3 - (3*gm**2*n*p + n**2)/(3*(-1/2 - sqrt(3)*I/2)*(-9*gm**2*n**2*p/2 - n**3 + sqrt(-4*(3*gm**2*n*p + n**2)**3 + (-9*gm**2*n**2*p - 2*n**3 + 27*gm**4*n**2*p/fm**2)**2)/2 + 27*gm**4*n**2*p/(2*fm**2))**(1/3)) - (-1/2 - sqrt(3)*I/2)*(-9*gm**2*n**2*p/2 - n**3 + sqrt(-4*(3*gm**2*n*p + n**2)**3 + (-9*gm**2*n**2*p - 2*n**3 + 27*gm**4*n**2*p/fm**2)**2)/2 + 27*gm**4*n**2*p/(2*fm**2))**(1/3)/3},\n",
       " {tn: n/3 - (3*gm**2*n*p + n**2)/(3*(-1/2 + sqrt(3)*I/2)*(-9*gm**2*n**2*p/2 - n**3 + sqrt(-4*(3*gm**2*n*p + n**2)**3 + (-9*gm**2*n**2*p - 2*n**3 + 27*gm**4*n**2*p/fm**2)**2)/2 + 27*gm**4*n**2*p/(2*fm**2))**(1/3)) - (-1/2 + sqrt(3)*I/2)*(-9*gm**2*n**2*p/2 - n**3 + sqrt(-4*(3*gm**2*n*p + n**2)**3 + (-9*gm**2*n**2*p - 2*n**3 + 27*gm**4*n**2*p/fm**2)**2)/2 + 27*gm**4*n**2*p/(2*fm**2))**(1/3)/3}]"
      ]
     },
     "execution_count": 117,
     "metadata": {},
     "output_type": "execute_result"
    }
   ],
   "source": [
    "tn_sol"
   ]
  },
  {
   "cell_type": "code",
   "execution_count": 118,
   "metadata": {},
   "outputs": [
    {
     "data": {
      "text/latex": [
       "$\\displaystyle \\frac{100}{3} - 33.3333333333333 \\sqrt[3]{-0.1765 + 1.26959826323133 i} - \\frac{39.3333333333333}{\\sqrt[3]{-0.1765 + 1.26959826323133 i}}$"
      ],
      "text/plain": [
       "100/3 - 33.3333333333333*(-0.1765 + 1.26959826323133*I)**(1/3) - 39.3333333333333/(-0.1765 + 1.26959826323133*I)**(1/3)"
      ]
     },
     "execution_count": 118,
     "metadata": {},
     "output_type": "execute_result"
    }
   ],
   "source": [
    "sympy.expand(tn_sol[0][tn].subs({gm: gm_, fm: fm_, p: p_, n: n_}))"
   ]
  },
  {
   "cell_type": "code",
   "execution_count": 94,
   "metadata": {},
   "outputs": [
    {
     "name": "stdout",
     "output_type": "stream",
     "text": [
      "n/3 - (3*gm**2*n*p + n**2)/(3*(-9*gm**2*n**2*p/2 - n**3 + sqrt(-4*(3*gm**2*n*p + n**2)**3 + (-9*gm**2*n**2*p - 2*n**3 + 27*gm**4*n**2*p/fm**2)**2)/2 + 27*gm**4*n**2*p/(2*fm**2))**(1/3)) - (-9*gm**2*n**2*p/2 - n**3 + sqrt(-4*(3*gm**2*n*p + n**2)**3 + (-9*gm**2*n**2*p - 2*n**3 + 27*gm**4*n**2*p/fm**2)**2)/2 + 27*gm**4*n**2*p/(2*fm**2))**(1/3)/3\n"
     ]
    }
   ],
   "source": [
    "print(tn_sol[0][tn])"
   ]
  },
  {
   "cell_type": "code",
   "execution_count": 95,
   "metadata": {},
   "outputs": [],
   "source": [
    "def solution(gm, fm, p, n):\n",
    "    return n/3 - (3*gm**2*n*p + n**2)/(3*(-9*gm**2*n**2*p/2 - n**3 + sqrt(-4*(3*gm**2*n*p + n**2)**3 + (-9*gm**2*n**2*p - 2*n**3 + 27*gm**4*n**2*p/fm**2)**2)/2 + 27*gm**4*n**2*p/(2*fm**2))**(1/3)) - (-9*gm**2*n**2*p/2 - n**3 + sqrt(-4*(3*gm**2*n*p + n**2)**3 + (-9*gm**2*n**2*p - 2*n**3 + 27*gm**4*n**2*p/fm**2)**2)/2 + 27*gm**4*n**2*p/(2*fm**2))**(1/3)/3"
   ]
  },
  {
   "cell_type": "code",
   "execution_count": 96,
   "metadata": {},
   "outputs": [
    {
     "name": "stderr",
     "output_type": "stream",
     "text": [
      "/home/gykovacs/workspaces/mlscorecheck/mlscorecheck/core/_scores.py:233: RuntimeWarning: invalid value encountered in sqrt\n",
      "  return np.sqrt(object)\n"
     ]
    },
    {
     "data": {
      "text/plain": [
       "nan"
      ]
     },
     "execution_count": 96,
     "metadata": {},
     "output_type": "execute_result"
    }
   ],
   "source": [
    "solution(gm=gm_, fm=fm_, p=p_, n=n_)"
   ]
  },
  {
   "cell_type": "code",
   "execution_count": 52,
   "metadata": {},
   "outputs": [
    {
     "data": {
      "text/latex": [
       "$\\displaystyle \\frac{100}{3} - \\frac{39.3333333333333}{\\left(- \\frac{1}{2} - \\frac{\\sqrt{3} i}{2}\\right) \\sqrt[3]{-0.1765 + 1.26959826323133 i}} - 33.3333333333333 \\left(- \\frac{1}{2} - \\frac{\\sqrt{3} i}{2}\\right) \\sqrt[3]{-0.1765 + 1.26959826323133 i}$"
      ],
      "text/plain": [
       "100/3 - 39.3333333333333/((-1/2 - sqrt(3)*I/2)*(-0.1765 + 1.26959826323133*I)**(1/3)) - 33.3333333333333*(-1/2 - sqrt(3)*I/2)*(-0.1765 + 1.26959826323133*I)**(1/3)"
      ]
     },
     "execution_count": 52,
     "metadata": {},
     "output_type": "execute_result"
    }
   ],
   "source": [
    "tn_sol[1][tn].subs({gm: gm_, fm: fm_, p: p_, n: n_})"
   ]
  },
  {
   "cell_type": "code",
   "execution_count": 53,
   "metadata": {},
   "outputs": [
    {
     "data": {
      "text/latex": [
       "$\\displaystyle \\frac{100}{3} - 33.3333333333333 \\left(- \\frac{1}{2} + \\frac{\\sqrt{3} i}{2}\\right) \\sqrt[3]{-0.1765 + 1.26959826323133 i} - \\frac{39.3333333333333}{\\left(- \\frac{1}{2} + \\frac{\\sqrt{3} i}{2}\\right) \\sqrt[3]{-0.1765 + 1.26959826323133 i}}$"
      ],
      "text/plain": [
       "100/3 - 33.3333333333333*(-1/2 + sqrt(3)*I/2)*(-0.1765 + 1.26959826323133*I)**(1/3) - 39.3333333333333/((-1/2 + sqrt(3)*I/2)*(-0.1765 + 1.26959826323133*I)**(1/3))"
      ]
     },
     "execution_count": 53,
     "metadata": {},
     "output_type": "execute_result"
    }
   ],
   "source": [
    "tn_sol[2][tn].subs({gm: gm_, fm: fm_, p: p_, n: n_})"
   ]
  },
  {
   "cell_type": "code",
   "execution_count": null,
   "metadata": {},
   "outputs": [],
   "source": [
    "# tp0[1]"
   ]
  },
  {
   "cell_type": "code",
   "execution_count": 54,
   "metadata": {},
   "outputs": [],
   "source": [
    "eq10 = tp0[1][tp] - tp2[0][tp]\n",
    "eq11 = tp1[0][tp] - tp2[0][tp]"
   ]
  },
  {
   "cell_type": "code",
   "execution_count": 55,
   "metadata": {},
   "outputs": [
    {
     "data": {
      "text/latex": [
       "$\\displaystyle \\frac{fm \\left(fm p + \\sqrt{p \\left(fm^{2} p + 4 fp\\right)}\\right)}{2} + fn - p$"
      ],
      "text/plain": [
       "fm*(fm*p + sqrt(p*(fm**2*p + 4*fp)))/2 + fn - p"
      ]
     },
     "execution_count": 55,
     "metadata": {},
     "output_type": "execute_result"
    }
   ],
   "source": [
    "eq10"
   ]
  },
  {
   "cell_type": "code",
   "execution_count": 56,
   "metadata": {},
   "outputs": [
    {
     "data": {
      "text/latex": [
       "$\\displaystyle fn + \\frac{gm^{2} n p}{tn} - p$"
      ],
      "text/plain": [
       "fn + gm**2*n*p/tn - p"
      ]
     },
     "execution_count": 56,
     "metadata": {},
     "output_type": "execute_result"
    }
   ],
   "source": [
    "eq11"
   ]
  },
  {
   "cell_type": "code",
   "execution_count": 57,
   "metadata": {},
   "outputs": [],
   "source": [
    "fn0 = sympy.solve(eq10, fn, dict=True)\n",
    "fn1 = sympy.solve(eq11, fn, dict=True)"
   ]
  },
  {
   "cell_type": "code",
   "execution_count": 58,
   "metadata": {},
   "outputs": [
    {
     "data": {
      "text/plain": [
       "[{fn: -fm**2*p/2 - fm*sqrt(p*(fm**2*p + 4*fp))/2 + p}]"
      ]
     },
     "execution_count": 58,
     "metadata": {},
     "output_type": "execute_result"
    }
   ],
   "source": [
    "fn0"
   ]
  },
  {
   "cell_type": "code",
   "execution_count": 59,
   "metadata": {},
   "outputs": [
    {
     "data": {
      "text/plain": [
       "[{fn: p*(-gm**2*n + tn)/tn}]"
      ]
     },
     "execution_count": 59,
     "metadata": {},
     "output_type": "execute_result"
    }
   ],
   "source": [
    "fn1"
   ]
  },
  {
   "cell_type": "code",
   "execution_count": 60,
   "metadata": {},
   "outputs": [],
   "source": [
    "fn_sol = fn1[0][fn]"
   ]
  },
  {
   "cell_type": "code",
   "execution_count": 61,
   "metadata": {},
   "outputs": [],
   "source": [
    "eq20 = fn0[0][fn] - fn1[0][fn]"
   ]
  },
  {
   "cell_type": "code",
   "execution_count": 62,
   "metadata": {},
   "outputs": [
    {
     "data": {
      "text/latex": [
       "$\\displaystyle - \\frac{fm^{2} p}{2} - \\frac{fm \\sqrt{p \\left(fm^{2} p + 4 fp\\right)}}{2} + p - \\frac{p \\left(- gm^{2} n + tn\\right)}{tn}$"
      ],
      "text/plain": [
       "-fm**2*p/2 - fm*sqrt(p*(fm**2*p + 4*fp))/2 + p - p*(-gm**2*n + tn)/tn"
      ]
     },
     "execution_count": 62,
     "metadata": {},
     "output_type": "execute_result"
    }
   ],
   "source": [
    "eq20"
   ]
  },
  {
   "cell_type": "code",
   "execution_count": 63,
   "metadata": {},
   "outputs": [],
   "source": [
    "fp0 = sympy.solve(eq20, fp, dict=True)\n",
    "fp1 = sympy.solve(eq3, fp, dict=True)"
   ]
  },
  {
   "cell_type": "code",
   "execution_count": 64,
   "metadata": {},
   "outputs": [],
   "source": [
    "fp_sol = fp0[0][fp]"
   ]
  },
  {
   "cell_type": "code",
   "execution_count": 65,
   "metadata": {},
   "outputs": [
    {
     "data": {
      "text/plain": [
       "[{fp: gm**2*n*p*(-fm**2*tn + gm**2*n)/(fm**2*tn**2)}]"
      ]
     },
     "execution_count": 65,
     "metadata": {},
     "output_type": "execute_result"
    }
   ],
   "source": [
    "fp0"
   ]
  },
  {
   "cell_type": "code",
   "execution_count": 66,
   "metadata": {},
   "outputs": [
    {
     "data": {
      "text/plain": [
       "[{fp: n - tn}]"
      ]
     },
     "execution_count": 66,
     "metadata": {},
     "output_type": "execute_result"
    }
   ],
   "source": [
    "fp1"
   ]
  },
  {
   "cell_type": "code",
   "execution_count": 67,
   "metadata": {},
   "outputs": [],
   "source": [
    "tn_sol = sympy.solve(fp0[0][fp] - fp1[0][fp], tn, dict=True)"
   ]
  },
  {
   "cell_type": "code",
   "execution_count": 68,
   "metadata": {},
   "outputs": [
    {
     "data": {
      "text/plain": [
       "[{tn: n/3 - (3*gm**2*n*p + n**2)/(3*(-9*gm**2*n**2*p/2 - n**3 + sqrt(-4*(3*gm**2*n*p + n**2)**3 + (-9*gm**2*n**2*p - 2*n**3 + 27*gm**4*n**2*p/fm**2)**2)/2 + 27*gm**4*n**2*p/(2*fm**2))**(1/3)) - (-9*gm**2*n**2*p/2 - n**3 + sqrt(-4*(3*gm**2*n*p + n**2)**3 + (-9*gm**2*n**2*p - 2*n**3 + 27*gm**4*n**2*p/fm**2)**2)/2 + 27*gm**4*n**2*p/(2*fm**2))**(1/3)/3},\n",
       " {tn: n/3 - (3*gm**2*n*p + n**2)/(3*(-1/2 - sqrt(3)*I/2)*(-9*gm**2*n**2*p/2 - n**3 + sqrt(-4*(3*gm**2*n*p + n**2)**3 + (-9*gm**2*n**2*p - 2*n**3 + 27*gm**4*n**2*p/fm**2)**2)/2 + 27*gm**4*n**2*p/(2*fm**2))**(1/3)) - (-1/2 - sqrt(3)*I/2)*(-9*gm**2*n**2*p/2 - n**3 + sqrt(-4*(3*gm**2*n*p + n**2)**3 + (-9*gm**2*n**2*p - 2*n**3 + 27*gm**4*n**2*p/fm**2)**2)/2 + 27*gm**4*n**2*p/(2*fm**2))**(1/3)/3},\n",
       " {tn: n/3 - (3*gm**2*n*p + n**2)/(3*(-1/2 + sqrt(3)*I/2)*(-9*gm**2*n**2*p/2 - n**3 + sqrt(-4*(3*gm**2*n*p + n**2)**3 + (-9*gm**2*n**2*p - 2*n**3 + 27*gm**4*n**2*p/fm**2)**2)/2 + 27*gm**4*n**2*p/(2*fm**2))**(1/3)) - (-1/2 + sqrt(3)*I/2)*(-9*gm**2*n**2*p/2 - n**3 + sqrt(-4*(3*gm**2*n*p + n**2)**3 + (-9*gm**2*n**2*p - 2*n**3 + 27*gm**4*n**2*p/fm**2)**2)/2 + 27*gm**4*n**2*p/(2*fm**2))**(1/3)/3}]"
      ]
     },
     "execution_count": 68,
     "metadata": {},
     "output_type": "execute_result"
    }
   ],
   "source": [
    "tn_sol"
   ]
  },
  {
   "cell_type": "code",
   "execution_count": 73,
   "metadata": {},
   "outputs": [
    {
     "data": {
      "text/latex": [
       "$\\displaystyle 33.3333333333333 - 33.3333333333333 \\sqrt[3]{-0.1765 + 1.26959826323133 i} - \\frac{39.3333333333333}{\\sqrt[3]{-0.1765 + 1.26959826323133 i}}$"
      ],
      "text/plain": [
       "33.3333333333333 - 33.3333333333333*(-0.1765 + 1.26959826323133*I)**(1/3) - 39.3333333333333/(-0.1765 + 1.26959826323133*I)**(1/3)"
      ]
     },
     "execution_count": 73,
     "metadata": {},
     "output_type": "execute_result"
    }
   ],
   "source": [
    "sympy.simplify(tn_sol[0][tn].subs({gm: gm_, fm: fm_, p: p_, n: n_}))"
   ]
  },
  {
   "cell_type": "code",
   "execution_count": null,
   "metadata": {},
   "outputs": [],
   "source": []
  },
  {
   "cell_type": "code",
   "execution_count": 74,
   "metadata": {},
   "outputs": [
    {
     "data": {
      "text/latex": [
       "$\\displaystyle \\frac{236.0 + \\sqrt[3]{-0.1765 + 1.26959826323133 i} \\left(1 + \\sqrt{3} i\\right) \\left(100 + 50.0 \\sqrt[3]{-0.1765 + 1.26959826323133 i} \\left(1 + \\sqrt{3} i\\right)\\right)}{3 \\sqrt[3]{-0.1765 + 1.26959826323133 i} \\left(1 + \\sqrt{3} i\\right)}$"
      ],
      "text/plain": [
       "(236.0 + (-0.1765 + 1.26959826323133*I)**(1/3)*(1 + sqrt(3)*I)*(100 + 50.0*(-0.1765 + 1.26959826323133*I)**(1/3)*(1 + sqrt(3)*I)))/(3*(-0.1765 + 1.26959826323133*I)**(1/3)*(1 + sqrt(3)*I))"
      ]
     },
     "execution_count": 74,
     "metadata": {},
     "output_type": "execute_result"
    }
   ],
   "source": [
    "sympy.simplify(tn_sol[1][tn].subs({gm: gm_, fm: fm_, p: p_, n: n_}))"
   ]
  },
  {
   "cell_type": "code",
   "execution_count": 75,
   "metadata": {},
   "outputs": [
    {
     "data": {
      "text/latex": [
       "$\\displaystyle \\frac{236.0 + \\sqrt[3]{-0.1765 + 1.26959826323133 i} \\left(1 - \\sqrt{3} i\\right) \\left(100 + 50.0 \\sqrt[3]{-0.1765 + 1.26959826323133 i} \\left(1 - \\sqrt{3} i\\right)\\right)}{3 \\sqrt[3]{-0.1765 + 1.26959826323133 i} \\left(1 - \\sqrt{3} i\\right)}$"
      ],
      "text/plain": [
       "(236.0 + (-0.1765 + 1.26959826323133*I)**(1/3)*(1 - sqrt(3)*I)*(100 + 50.0*(-0.1765 + 1.26959826323133*I)**(1/3)*(1 - sqrt(3)*I)))/(3*(-0.1765 + 1.26959826323133*I)**(1/3)*(1 - sqrt(3)*I))"
      ]
     },
     "execution_count": 75,
     "metadata": {},
     "output_type": "execute_result"
    }
   ],
   "source": [
    "sympy.simplify(tn_sol[2][tn].subs({gm: gm_, fm: fm_, p: p_, n: n_}))"
   ]
  },
  {
   "cell_type": "code",
   "execution_count": null,
   "metadata": {},
   "outputs": [],
   "source": []
  }
 ],
 "metadata": {
  "kernelspec": {
   "display_name": "mlscorecheck",
   "language": "python",
   "name": "python3"
  },
  "language_info": {
   "codemirror_mode": {
    "name": "ipython",
    "version": 3
   },
   "file_extension": ".py",
   "mimetype": "text/x-python",
   "name": "python",
   "nbconvert_exporter": "python",
   "pygments_lexer": "ipython3",
   "version": "3.10.0"
  },
  "orig_nbformat": 4
 },
 "nbformat": 4,
 "nbformat_minor": 2
}
