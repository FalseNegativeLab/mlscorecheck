{
 "cells": [
  {
   "cell_type": "code",
   "execution_count": 9,
   "metadata": {},
   "outputs": [],
   "source": [
    "import pandas as pd\n",
    "import json"
   ]
  },
  {
   "cell_type": "code",
   "execution_count": 10,
   "metadata": {},
   "outputs": [],
   "source": [
    "data = pd.read_csv('/mnt/c/Users/GyörgyKovács/Downloads/drive_stats.csv')"
   ]
  },
  {
   "cell_type": "code",
   "execution_count": 11,
   "metadata": {},
   "outputs": [],
   "source": [
    "citation = \"@article {drive, title= {Ridge-based vessel segmentation in color images of the retina}, author= {Staal, Joes and Abr {`a}moff, Michael D and Niemeijer, Meindert and Viergever, Max A and Van Ginneken, Bram}, journal= {IEEE transactions on medical imaging}, volume= {23}, number= {4}, pages= {501--509}, year= {2004}, publisher= {IEEE} }\""
   ]
  },
  {
   "cell_type": "code",
   "execution_count": 12,
   "metadata": {},
   "outputs": [
    {
     "data": {
      "text/plain": [
       "Index(['id', 'n_all', 'p', 'n', 'fov', 'annotator', 'tp', 'fp', 'tn', 'fn',\n",
       "       'ground_truth', 'width', 'height', 'img_size', 'test', 'acc', 'sens',\n",
       "       'spec'],\n",
       "      dtype='object')"
      ]
     },
     "execution_count": 12,
     "metadata": {},
     "output_type": "execute_result"
    }
   ],
   "source": [
    "data.columns"
   ]
  },
  {
   "cell_type": "code",
   "execution_count": 14,
   "metadata": {},
   "outputs": [],
   "source": [
    "for annotator in [1, 2]:\n",
    "    for test in [True, False]:\n",
    "        for fov in [True, False]:\n",
    "            filtered = data[(data['annotator'] == annotator) & (data['test'] == test) & (data['fov'] == fov)]\n",
    "\n",
    "            evaluations = []\n",
    "            for item in filtered[['id', 'p', 'n']].to_dict('records'):\n",
    "                evaluations.append({\"identifier\": '%02d' % item['id'], \"p\": item['p'], \"n\": item['n']})\n",
    "            tmp = {'images': evaluations, 'citation': citation}\n",
    "\n",
    "            subset = 'test' if test else 'train'\n",
    "            assumption = 'fov' if fov else 'all'\n",
    "\n",
    "            with open(f'drive_{annotator}_{subset}_{assumption}.json', 'wt') as file:\n",
    "                json.dump(tmp, file)"
   ]
  },
  {
   "cell_type": "code",
   "execution_count": null,
   "metadata": {},
   "outputs": [],
   "source": []
  }
 ],
 "metadata": {
  "kernelspec": {
   "display_name": "mlscorecheck",
   "language": "python",
   "name": "python3"
  },
  "language_info": {
   "codemirror_mode": {
    "name": "ipython",
    "version": 3
   },
   "file_extension": ".py",
   "mimetype": "text/x-python",
   "name": "python",
   "nbconvert_exporter": "python",
   "pygments_lexer": "ipython3",
   "version": "3.10.0"
  },
  "orig_nbformat": 4
 },
 "nbformat": 4,
 "nbformat_minor": 2
}
