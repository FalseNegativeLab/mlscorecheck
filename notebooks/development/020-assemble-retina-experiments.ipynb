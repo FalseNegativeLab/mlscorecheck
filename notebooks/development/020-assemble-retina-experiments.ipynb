{
 "cells": [
  {
   "cell_type": "code",
   "execution_count": 1,
   "metadata": {},
   "outputs": [],
   "source": [
    "import pandas as pd"
   ]
  },
  {
   "cell_type": "code",
   "execution_count": 3,
   "metadata": {},
   "outputs": [],
   "source": [
    "data = pd.read_csv('/mnt/c/Users/GyörgyKovács/Downloads/drive_stats.csv')"
   ]
  },
  {
   "cell_type": "code",
   "execution_count": 4,
   "metadata": {},
   "outputs": [
    {
     "data": {
      "text/plain": [
       "Index(['id', 'n_all', 'p', 'n', 'fov', 'annotator', 'tp', 'fp', 'tn', 'fn',\n",
       "       'ground_truth', 'width', 'height', 'img_size', 'test', 'acc', 'sens',\n",
       "       'spec'],\n",
       "      dtype='object')"
      ]
     },
     "execution_count": 4,
     "metadata": {},
     "output_type": "execute_result"
    }
   ],
   "source": [
    "data.columns"
   ]
  },
  {
   "cell_type": "code",
   "execution_count": 33,
   "metadata": {},
   "outputs": [],
   "source": [
    "with_fov = data[(data['annotator'] == 1) & (~data['test']) & (data['fov'])]\n",
    "without_fov = data[(data['annotator'] == 1) & (~data['test']) & (~data['fov'])]"
   ]
  },
  {
   "cell_type": "code",
   "execution_count": 38,
   "metadata": {},
   "outputs": [],
   "source": [
    "tmp = \\\n",
    "{\"id\": \"drive_train_fov\",\n",
    "\"datasets\": [{\"id\": '%02d' % item['id'], \n",
    "            \"folds\": [{\"p\": item['p'], \"n\": item['n']}]} \n",
    "            for item in with_fov[['id', 'p', 'n']].to_dict('records')]\n",
    "}"
   ]
  },
  {
   "cell_type": "code",
   "execution_count": 39,
   "metadata": {},
   "outputs": [
    {
     "data": {
      "text/plain": [
       "{'id': 'drive_train_fov',\n",
       " 'datasets': [{'id': '21', 'folds': [{'p': 24650, 'n': 200950}]},\n",
       "  {'id': '22', 'folds': [{'p': 29800, 'n': 197886}]},\n",
       "  {'id': '23', 'folds': [{'p': 21714, 'n': 206473}]},\n",
       "  {'id': '24', 'folds': [{'p': 38215, 'n': 189511}]},\n",
       "  {'id': '25', 'folds': [{'p': 31664, 'n': 195698}]},\n",
       "  {'id': '26', 'folds': [{'p': 27496, 'n': 197596}]},\n",
       "  {'id': '27', 'folds': [{'p': 29071, 'n': 198755}]},\n",
       "  {'id': '28', 'folds': [{'p': 32209, 'n': 195118}]},\n",
       "  {'id': '29', 'folds': [{'p': 27738, 'n': 199571}]},\n",
       "  {'id': '30', 'folds': [{'p': 25877, 'n': 201382}]},\n",
       "  {'id': '31', 'folds': [{'p': 19897, 'n': 207804}]},\n",
       "  {'id': '32', 'folds': [{'p': 26956, 'n': 197988}]},\n",
       "  {'id': '33', 'folds': [{'p': 26679, 'n': 201059}]},\n",
       "  {'id': '34', 'folds': [{'p': 32287, 'n': 194255}]},\n",
       "  {'id': '35', 'folds': [{'p': 28612, 'n': 199034}]},\n",
       "  {'id': '36', 'folds': [{'p': 35884, 'n': 191333}]},\n",
       "  {'id': '37', 'folds': [{'p': 28841, 'n': 198345}]},\n",
       "  {'id': '38', 'folds': [{'p': 28477, 'n': 197747}]},\n",
       "  {'id': '39', 'folds': [{'p': 28348, 'n': 199112}]},\n",
       "  {'id': '40', 'folds': [{'p': 25000, 'n': 201974}]}]}"
      ]
     },
     "execution_count": 39,
     "metadata": {},
     "output_type": "execute_result"
    }
   ],
   "source": [
    "tmp"
   ]
  },
  {
   "cell_type": "code",
   "execution_count": 42,
   "metadata": {},
   "outputs": [],
   "source": [
    "tmp = \\\n",
    "{\"id\": \"drive_train_no_fov\",\n",
    "\"datasets\": [{\"id\": '%02d' % item['id'], \n",
    "            \"folds\": [{\"p\": item['p'], \"n\": item['n']}]} \n",
    "            for item in without_fov[['id', 'p', 'n']].to_dict('records')]\n",
    "}"
   ]
  },
  {
   "cell_type": "code",
   "execution_count": 43,
   "metadata": {},
   "outputs": [
    {
     "data": {
      "text/plain": [
       "{'id': 'drive_train_no_fov',\n",
       " 'datasets': [{'id': '21', 'folds': [{'p': 24658, 'n': 305302}]},\n",
       "  {'id': '22', 'folds': [{'p': 29809, 'n': 300151}]},\n",
       "  {'id': '23', 'folds': [{'p': 21723, 'n': 308237}]},\n",
       "  {'id': '24', 'folds': [{'p': 38229, 'n': 291731}]},\n",
       "  {'id': '25', 'folds': [{'p': 31669, 'n': 298291}]},\n",
       "  {'id': '26', 'folds': [{'p': 27573, 'n': 302387}]},\n",
       "  {'id': '27', 'folds': [{'p': 29073, 'n': 300887}]},\n",
       "  {'id': '28', 'folds': [{'p': 32228, 'n': 297732}]},\n",
       "  {'id': '29', 'folds': [{'p': 27751, 'n': 302209}]},\n",
       "  {'id': '30', 'folds': [{'p': 25884, 'n': 304076}]},\n",
       "  {'id': '31', 'folds': [{'p': 19898, 'n': 310062}]},\n",
       "  {'id': '32', 'folds': [{'p': 26984, 'n': 302976}]},\n",
       "  {'id': '33', 'folds': [{'p': 26686, 'n': 303274}]},\n",
       "  {'id': '34', 'folds': [{'p': 32287, 'n': 297673}]},\n",
       "  {'id': '35', 'folds': [{'p': 28612, 'n': 301348}]},\n",
       "  {'id': '36', 'folds': [{'p': 35884, 'n': 294076}]},\n",
       "  {'id': '37', 'folds': [{'p': 28841, 'n': 301119}]},\n",
       "  {'id': '38', 'folds': [{'p': 28477, 'n': 301483}]},\n",
       "  {'id': '39', 'folds': [{'p': 28348, 'n': 301612}]},\n",
       "  {'id': '40', 'folds': [{'p': 25001, 'n': 304959}]}]}"
      ]
     },
     "execution_count": 43,
     "metadata": {},
     "output_type": "execute_result"
    }
   ],
   "source": [
    "tmp"
   ]
  },
  {
   "cell_type": "code",
   "execution_count": null,
   "metadata": {},
   "outputs": [],
   "source": []
  }
 ],
 "metadata": {
  "kernelspec": {
   "display_name": "mlscorecheck",
   "language": "python",
   "name": "python3"
  },
  "language_info": {
   "codemirror_mode": {
    "name": "ipython",
    "version": 3
   },
   "file_extension": ".py",
   "mimetype": "text/x-python",
   "name": "python",
   "nbconvert_exporter": "python",
   "pygments_lexer": "ipython3",
   "version": "3.10.0"
  },
  "orig_nbformat": 4
 },
 "nbformat": 4,
 "nbformat_minor": 2
}
