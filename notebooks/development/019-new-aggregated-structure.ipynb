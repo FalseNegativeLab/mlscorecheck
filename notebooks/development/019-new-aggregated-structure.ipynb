{
 "cells": [
  {
   "cell_type": "code",
   "execution_count": 1,
   "metadata": {},
   "outputs": [],
   "source": [
    "from mlscorecheck.aggregated import (generate_dataset_specification,\n",
    "                                        Dataset,\n",
    "                                        solve)\n",
    "import numpy as np"
   ]
  },
  {
   "cell_type": "code",
   "execution_count": 1,
   "metadata": {},
   "outputs": [],
   "source": [
    "import datetime\n",
    "\n",
    "from mlscorecheck.aggregated import (check_aggregated_scores,\n",
    "                                        generate_experiment_specification,\n",
    "                                        generate_dataset_specification,\n",
    "                                        Experiment)"
   ]
  },
  {
   "cell_type": "code",
   "execution_count": 19,
   "metadata": {},
   "outputs": [
    {
     "name": "stderr",
     "output_type": "stream",
     "text": [
      "2023-08-27 00:11:17,656:INFO:creating a folding based on the specification\n",
      "2023-08-27 00:11:17,658:INFO:querying p and n from looking up the dataset\n",
      "2023-08-27 00:11:17,659:INFO:creating a folding based on the specification\n",
      "2023-08-27 00:11:17,678:INFO:fold kiicdrkf_0_0: adding lower bound 0.11176470588235293 for acc\n",
      "2023-08-27 00:11:17,679:INFO:fold kiicdrkf_0_0: adding upper bound 0.5117647058823529 for acc\n",
      "2023-08-27 00:11:17,680:INFO:fold kiicdrkf_0_0: adding lower bound 0.11249999999999999 for sens\n",
      "2023-08-27 00:11:17,681:INFO:fold kiicdrkf_0_0: adding upper bound 0.5125 for sens\n",
      "2023-08-27 00:11:17,681:INFO:fold kiicdrkf_0_0: adding lower bound 0.1111111111111111 for spec\n",
      "2023-08-27 00:11:17,682:INFO:fold kiicdrkf_0_0: adding upper bound 0.5111111111111111 for spec\n",
      "2023-08-27 00:11:17,683:INFO:fold kiicdrkf_0_0: adding lower bound 0.11180555555555555 for bacc\n",
      "2023-08-27 00:11:17,685:INFO:fold kiicdrkf_0_0: adding upper bound 0.5118055555555556 for bacc\n",
      "2023-08-27 00:11:17,686:INFO:fold kiicdrkf_1_0: adding lower bound 0.673109243697479 for acc\n",
      "2023-08-27 00:11:17,687:INFO:fold kiicdrkf_1_0: adding upper bound 1.0 for acc\n",
      "2023-08-27 00:11:17,688:INFO:fold kiicdrkf_1_0: adding lower bound 0.7589285714285714 for sens\n",
      "2023-08-27 00:11:17,689:INFO:fold kiicdrkf_1_0: adding upper bound 1.0 for sens\n",
      "2023-08-27 00:11:17,689:INFO:fold kiicdrkf_1_0: adding lower bound 0.5968253968253967 for spec\n",
      "2023-08-27 00:11:17,690:INFO:fold kiicdrkf_1_0: adding upper bound 0.9968253968253968 for spec\n",
      "2023-08-27 00:11:17,691:INFO:fold kiicdrkf_1_0: adding lower bound 0.677876984126984 for bacc\n",
      "2023-08-27 00:11:17,691:INFO:fold kiicdrkf_1_0: adding upper bound 1.0 for bacc\n",
      "2023-08-27 00:11:17,692:INFO:fold kiicdrkf_2_0: adding lower bound 0.4941176470588236 for acc\n",
      "2023-08-27 00:11:17,693:INFO:fold kiicdrkf_2_0: adding upper bound 0.8941176470588237 for acc\n",
      "2023-08-27 00:11:17,693:INFO:fold kiicdrkf_2_0: adding lower bound 0.17678571428571427 for sens\n",
      "2023-08-27 00:11:17,694:INFO:fold kiicdrkf_2_0: adding upper bound 0.5767857142857142 for sens\n",
      "2023-08-27 00:11:17,695:INFO:fold kiicdrkf_2_0: adding lower bound 0.7761904761904761 for spec\n",
      "2023-08-27 00:11:17,695:INFO:fold kiicdrkf_2_0: adding upper bound 1.0 for spec\n",
      "2023-08-27 00:11:17,696:INFO:fold kiicdrkf_2_0: adding lower bound 0.47648809523809516 for bacc\n",
      "2023-08-27 00:11:17,696:INFO:fold kiicdrkf_2_0: adding upper bound 0.8764880952380951 for bacc\n",
      "2023-08-27 00:11:17,698:INFO:fold kiicdrkf_3_0: adding lower bound 0.24789915966386555 for acc\n",
      "2023-08-27 00:11:17,699:INFO:fold kiicdrkf_3_0: adding upper bound 0.6478991596638656 for acc\n",
      "2023-08-27 00:11:17,701:INFO:fold kiicdrkf_3_0: adding lower bound 0.42142857142857143 for sens\n",
      "2023-08-27 00:11:17,702:INFO:fold kiicdrkf_3_0: adding upper bound 0.8214285714285714 for sens\n",
      "2023-08-27 00:11:17,703:INFO:fold kiicdrkf_3_0: adding lower bound 0.09365079365079365 for spec\n",
      "2023-08-27 00:11:17,704:INFO:fold kiicdrkf_3_0: adding upper bound 0.4936507936507937 for spec\n",
      "2023-08-27 00:11:17,704:INFO:fold kiicdrkf_3_0: adding lower bound 0.25753968253968257 for bacc\n",
      "2023-08-27 00:11:17,705:INFO:fold kiicdrkf_3_0: adding upper bound 0.6575396825396826 for bacc\n",
      "2023-08-27 00:11:17,705:INFO:dataset kiicdrkf: adding lower bound 0.3817226890756303 for acc\n",
      "2023-08-27 00:11:17,706:INFO:dataset kiicdrkf: adding upper bound 0.7817226890756304 for acc\n",
      "2023-08-27 00:11:17,707:INFO:dataset kiicdrkf: adding lower bound 0.3674107142857143 for sens\n",
      "2023-08-27 00:11:17,708:INFO:dataset kiicdrkf: adding upper bound 0.7674107142857143 for sens\n",
      "2023-08-27 00:11:17,709:INFO:dataset kiicdrkf: adding lower bound 0.39444444444444443 for spec\n",
      "2023-08-27 00:11:17,709:INFO:dataset kiicdrkf: adding upper bound 0.7944444444444445 for spec\n",
      "2023-08-27 00:11:17,710:INFO:dataset kiicdrkf: adding lower bound 0.3809275793650793 for bacc\n",
      "2023-08-27 00:11:17,711:INFO:dataset kiicdrkf: adding upper bound 0.7809275793650794 for bacc\n",
      "2023-08-27 00:11:17,711:INFO:fold krclpryy_0_0: adding lower bound 0.5739130434782609 for acc\n",
      "2023-08-27 00:11:17,712:INFO:fold krclpryy_0_0: adding upper bound 0.9739130434782608 for acc\n",
      "2023-08-27 00:11:17,713:INFO:fold krclpryy_0_0: adding lower bound 0.0 for sens\n",
      "2023-08-27 00:11:17,713:INFO:fold krclpryy_0_0: adding upper bound 0.2 for sens\n",
      "2023-08-27 00:11:17,714:INFO:fold krclpryy_0_0: adding lower bound 0.6018018018018019 for spec\n",
      "2023-08-27 00:11:17,714:INFO:fold krclpryy_0_0: adding upper bound 1.0 for spec\n",
      "2023-08-27 00:11:17,715:INFO:fold krclpryy_0_0: adding lower bound 0.2009009009009009 for bacc\n",
      "2023-08-27 00:11:17,716:INFO:fold krclpryy_0_0: adding upper bound 0.600900900900901 for bacc\n",
      "2023-08-27 00:11:17,716:INFO:fold krclpryy_0_1: adding lower bound 0.6000000000000001 for acc\n",
      "2023-08-27 00:11:17,717:INFO:fold krclpryy_0_1: adding upper bound 1.0 for acc\n",
      "2023-08-27 00:11:17,718:INFO:fold krclpryy_0_1: adding lower bound 0.3 for sens\n",
      "2023-08-27 00:11:17,718:INFO:fold krclpryy_0_1: adding upper bound 0.7 for sens\n",
      "2023-08-27 00:11:17,719:INFO:fold krclpryy_0_1: adding lower bound 0.6108108108108108 for spec\n",
      "2023-08-27 00:11:17,720:INFO:fold krclpryy_0_1: adding upper bound 1.0 for spec\n",
      "2023-08-27 00:11:17,720:INFO:fold krclpryy_0_1: adding lower bound 0.4554054054054055 for bacc\n",
      "2023-08-27 00:11:17,721:INFO:fold krclpryy_0_1: adding upper bound 0.8554054054054054 for bacc\n",
      "2023-08-27 00:11:17,722:INFO:fold krclpryy_0_2: adding lower bound 0.14210526315789468 for acc\n",
      "2023-08-27 00:11:17,724:INFO:fold krclpryy_0_2: adding upper bound 0.5421052631578946 for acc\n",
      "2023-08-27 00:11:17,725:INFO:fold krclpryy_0_2: adding lower bound 0.0 for sens\n",
      "2023-08-27 00:11:17,725:INFO:fold krclpryy_0_2: adding upper bound 0.2 for sens\n",
      "2023-08-27 00:11:17,726:INFO:fold krclpryy_0_2: adding lower bound 0.15135135135135136 for spec\n",
      "2023-08-27 00:11:17,727:INFO:fold krclpryy_0_2: adding upper bound 0.5513513513513514 for spec\n",
      "2023-08-27 00:11:17,727:INFO:fold krclpryy_0_2: adding lower bound 0.0 for bacc\n",
      "2023-08-27 00:11:17,728:INFO:fold krclpryy_0_2: adding upper bound 0.3756756756756757 for bacc\n",
      "2023-08-27 00:11:17,728:INFO:fold krclpryy_0_3: adding lower bound 0.25614035087719295 for acc\n",
      "2023-08-27 00:11:17,729:INFO:fold krclpryy_0_3: adding upper bound 0.656140350877193 for acc\n",
      "2023-08-27 00:11:17,730:INFO:fold krclpryy_0_3: adding lower bound 0.8 for sens\n",
      "2023-08-27 00:11:17,730:INFO:fold krclpryy_0_3: adding upper bound 1.0 for sens\n",
      "2023-08-27 00:11:17,731:INFO:fold krclpryy_0_3: adding lower bound 0.23636363636363633 for spec\n",
      "2023-08-27 00:11:17,731:INFO:fold krclpryy_0_3: adding upper bound 0.6363636363636364 for spec\n",
      "2023-08-27 00:11:17,732:INFO:fold krclpryy_0_3: adding lower bound 0.5181818181818181 for bacc\n",
      "2023-08-27 00:11:17,732:INFO:fold krclpryy_0_3: adding upper bound 0.9181818181818182 for bacc\n",
      "2023-08-27 00:11:17,733:INFO:fold krclpryy_0_4: adding lower bound 0.0 for acc\n",
      "2023-08-27 00:11:17,733:INFO:fold krclpryy_0_4: adding upper bound 0.23508771929824562 for acc\n",
      "2023-08-27 00:11:17,733:INFO:fold krclpryy_0_4: adding lower bound 0.8 for sens\n",
      "2023-08-27 00:11:17,734:INFO:fold krclpryy_0_4: adding upper bound 1.0 for sens\n",
      "2023-08-27 00:11:17,735:INFO:fold krclpryy_0_4: adding lower bound 0.0 for spec\n",
      "2023-08-27 00:11:17,735:INFO:fold krclpryy_0_4: adding upper bound 0.2 for spec\n",
      "2023-08-27 00:11:17,736:INFO:fold krclpryy_0_4: adding lower bound 0.3 for bacc\n",
      "2023-08-27 00:11:17,736:INFO:fold krclpryy_0_4: adding upper bound 0.7 for bacc\n",
      "2023-08-27 00:11:17,737:INFO:fold krclpryy_0_5: adding lower bound 0.3087719298245614 for acc\n",
      "2023-08-27 00:11:17,737:INFO:fold krclpryy_0_5: adding upper bound 0.7087719298245614 for acc\n",
      "2023-08-27 00:11:17,738:INFO:fold krclpryy_0_5: adding lower bound 0.55 for sens\n",
      "2023-08-27 00:11:17,738:INFO:fold krclpryy_0_5: adding upper bound 0.95 for sens\n",
      "2023-08-27 00:11:17,739:INFO:fold krclpryy_0_5: adding lower bound 0.3 for spec\n",
      "2023-08-27 00:11:17,740:INFO:fold krclpryy_0_5: adding upper bound 0.7 for spec\n",
      "2023-08-27 00:11:17,741:INFO:fold krclpryy_0_5: adding lower bound 0.425 for bacc\n",
      "2023-08-27 00:11:17,741:INFO:fold krclpryy_0_5: adding upper bound 0.825 for bacc\n",
      "2023-08-27 00:11:17,742:INFO:fold krclpryy_0_6: adding lower bound 0.0 for acc\n",
      "2023-08-27 00:11:17,743:INFO:fold krclpryy_0_6: adding upper bound 0.27017543859649124 for acc\n",
      "2023-08-27 00:11:17,743:INFO:fold krclpryy_0_6: adding lower bound 0.3 for sens\n",
      "2023-08-27 00:11:17,743:INFO:fold krclpryy_0_6: adding upper bound 0.7 for sens\n",
      "2023-08-27 00:11:17,744:INFO:fold krclpryy_0_6: adding lower bound 0.0 for spec\n",
      "2023-08-27 00:11:17,745:INFO:fold krclpryy_0_6: adding upper bound 0.2545454545454546 for spec\n",
      "2023-08-27 00:11:17,745:INFO:fold krclpryy_0_6: adding lower bound 0.07727272727272727 for bacc\n",
      "2023-08-27 00:11:17,746:INFO:fold krclpryy_0_6: adding upper bound 0.4772727272727273 for bacc\n",
      "2023-08-27 00:11:17,747:INFO:fold krclpryy_0_7: adding lower bound 0.35263157894736835 for acc\n",
      "2023-08-27 00:11:17,747:INFO:fold krclpryy_0_7: adding upper bound 0.7526315789473683 for acc\n",
      "2023-08-27 00:11:17,747:INFO:fold krclpryy_0_7: adding lower bound 0.55 for sens\n",
      "2023-08-27 00:11:17,748:INFO:fold krclpryy_0_7: adding upper bound 0.95 for sens\n",
      "2023-08-27 00:11:17,749:INFO:fold krclpryy_0_7: adding lower bound 0.3454545454545454 for spec\n",
      "2023-08-27 00:11:17,753:INFO:fold krclpryy_0_7: adding upper bound 0.7454545454545454 for spec\n",
      "2023-08-27 00:11:17,754:INFO:fold krclpryy_0_7: adding lower bound 0.4477272727272727 for bacc\n",
      "2023-08-27 00:11:17,756:INFO:fold krclpryy_0_7: adding upper bound 0.8477272727272727 for bacc\n",
      "2023-08-27 00:11:17,759:INFO:fold krclpryy_0_8: adding lower bound 0.38771929824561396 for acc\n",
      "2023-08-27 00:11:17,760:INFO:fold krclpryy_0_8: adding upper bound 0.787719298245614 for acc\n",
      "2023-08-27 00:11:17,761:INFO:fold krclpryy_0_8: adding lower bound 0.8 for sens\n",
      "2023-08-27 00:11:17,761:INFO:fold krclpryy_0_8: adding upper bound 1.0 for sens\n",
      "2023-08-27 00:11:17,762:INFO:fold krclpryy_0_8: adding lower bound 0.37272727272727274 for spec\n",
      "2023-08-27 00:11:17,763:INFO:fold krclpryy_0_8: adding upper bound 0.7727272727272727 for spec\n",
      "2023-08-27 00:11:17,763:INFO:fold krclpryy_0_8: adding lower bound 0.5863636363636364 for bacc\n",
      "2023-08-27 00:11:17,764:INFO:fold krclpryy_0_8: adding upper bound 0.9863636363636363 for bacc\n",
      "2023-08-27 00:11:17,765:INFO:fold krclpryy_0_9: adding lower bound 0.010526315789473661 for acc\n",
      "2023-08-27 00:11:17,765:INFO:fold krclpryy_0_9: adding upper bound 0.4105263157894737 for acc\n",
      "2023-08-27 00:11:17,766:INFO:fold krclpryy_0_9: adding lower bound 0.0 for sens\n",
      "2023-08-27 00:11:17,766:INFO:fold krclpryy_0_9: adding upper bound 0.2 for sens\n",
      "2023-08-27 00:11:17,767:INFO:fold krclpryy_0_9: adding lower bound 0.01818181818181816 for spec\n",
      "2023-08-27 00:11:17,767:INFO:fold krclpryy_0_9: adding upper bound 0.4181818181818182 for spec\n",
      "2023-08-27 00:11:17,768:INFO:fold krclpryy_0_9: adding lower bound 0.0 for bacc\n",
      "2023-08-27 00:11:17,769:INFO:fold krclpryy_0_9: adding upper bound 0.3090909090909091 for bacc\n",
      "2023-08-27 00:11:17,769:INFO:fold krclpryy_0_10: adding lower bound 0.3350877192982456 for acc\n",
      "2023-08-27 00:11:17,770:INFO:fold krclpryy_0_10: adding upper bound 0.7350877192982457 for acc\n",
      "2023-08-27 00:11:17,770:INFO:fold krclpryy_0_10: adding lower bound 0.0 for sens\n",
      "2023-08-27 00:11:17,771:INFO:fold krclpryy_0_10: adding upper bound 0.2 for sens\n",
      "2023-08-27 00:11:17,771:INFO:fold krclpryy_0_10: adding lower bound 0.35454545454545455 for spec\n",
      "2023-08-27 00:11:17,772:INFO:fold krclpryy_0_10: adding upper bound 0.7545454545454546 for spec\n",
      "2023-08-27 00:11:17,772:INFO:fold krclpryy_0_10: adding lower bound 0.07727272727272727 for bacc\n",
      "2023-08-27 00:11:17,773:INFO:fold krclpryy_0_10: adding upper bound 0.4772727272727273 for bacc\n",
      "2023-08-27 00:11:17,774:INFO:fold krclpryy_0_11: adding lower bound 0.09824561403508769 for acc\n",
      "2023-08-27 00:11:17,774:INFO:fold krclpryy_0_11: adding upper bound 0.4982456140350877 for acc\n",
      "2023-08-27 00:11:17,775:INFO:fold krclpryy_0_11: adding lower bound 0.0 for sens\n",
      "2023-08-27 00:11:17,776:INFO:fold krclpryy_0_11: adding upper bound 0.2 for sens\n",
      "2023-08-27 00:11:17,777:INFO:fold krclpryy_0_11: adding lower bound 0.10909090909090907 for spec\n",
      "2023-08-27 00:11:17,779:INFO:fold krclpryy_0_11: adding upper bound 0.509090909090909 for spec\n",
      "2023-08-27 00:11:17,779:INFO:fold krclpryy_0_11: adding lower bound 0.0 for bacc\n",
      "2023-08-27 00:11:17,780:INFO:fold krclpryy_0_11: adding upper bound 0.35454545454545455 for bacc\n",
      "2023-08-27 00:11:17,781:INFO:fold krclpryy_0_12: adding lower bound 0.44035087719298244 for acc\n",
      "2023-08-27 00:11:17,785:INFO:fold krclpryy_0_12: adding upper bound 0.8403508771929824 for acc\n",
      "2023-08-27 00:11:17,786:INFO:fold krclpryy_0_12: adding lower bound 0.0 for sens\n",
      "2023-08-27 00:11:17,787:INFO:fold krclpryy_0_12: adding upper bound 0.2 for sens\n",
      "2023-08-27 00:11:17,788:INFO:fold krclpryy_0_12: adding lower bound 0.46363636363636357 for spec\n",
      "2023-08-27 00:11:17,788:INFO:fold krclpryy_0_12: adding upper bound 0.8636363636363635 for spec\n",
      "2023-08-27 00:11:17,789:INFO:fold krclpryy_0_12: adding lower bound 0.13181818181818178 for bacc\n",
      "2023-08-27 00:11:17,789:INFO:fold krclpryy_0_12: adding upper bound 0.5318181818181817 for bacc\n",
      "2023-08-27 00:11:17,790:INFO:fold krclpryy_1_0: adding lower bound 0.791304347826087 for acc\n",
      "2023-08-27 00:11:17,791:INFO:fold krclpryy_1_0: adding upper bound 1.0 for acc\n",
      "2023-08-27 00:11:17,791:INFO:fold krclpryy_1_0: adding lower bound 0.8 for sens\n",
      "2023-08-27 00:11:17,792:INFO:fold krclpryy_1_0: adding upper bound 1.0 for sens\n",
      "2023-08-27 00:11:17,793:INFO:fold krclpryy_1_0: adding lower bound 0.7909909909909909 for spec\n",
      "2023-08-27 00:11:17,793:INFO:fold krclpryy_1_0: adding upper bound 1.0 for spec\n",
      "2023-08-27 00:11:17,794:INFO:fold krclpryy_1_0: adding lower bound 0.7954954954954956 for bacc\n",
      "2023-08-27 00:11:17,795:INFO:fold krclpryy_1_0: adding upper bound 1.0 for bacc\n",
      "2023-08-27 00:11:17,797:INFO:fold krclpryy_1_1: adding lower bound 0.5652173913043479 for acc\n",
      "2023-08-27 00:11:17,798:INFO:fold krclpryy_1_1: adding upper bound 0.9652173913043478 for acc\n",
      "2023-08-27 00:11:17,798:INFO:fold krclpryy_1_1: adding lower bound 0.04999999999999999 for sens\n",
      "2023-08-27 00:11:17,799:INFO:fold krclpryy_1_1: adding upper bound 0.45 for sens\n",
      "2023-08-27 00:11:17,799:INFO:fold krclpryy_1_1: adding lower bound 0.5837837837837838 for spec\n",
      "2023-08-27 00:11:17,801:INFO:fold krclpryy_1_1: adding upper bound 0.9837837837837837 for spec\n",
      "2023-08-27 00:11:17,802:INFO:fold krclpryy_1_1: adding lower bound 0.3168918918918919 for bacc\n",
      "2023-08-27 00:11:17,802:INFO:fold krclpryy_1_1: adding upper bound 0.7168918918918918 for bacc\n",
      "2023-08-27 00:11:17,803:INFO:fold krclpryy_1_2: adding lower bound 0.41403508771929814 for acc\n",
      "2023-08-27 00:11:17,803:INFO:fold krclpryy_1_2: adding upper bound 0.8140350877192981 for acc\n",
      "2023-08-27 00:11:17,804:INFO:fold krclpryy_1_2: adding lower bound 0.8 for sens\n",
      "2023-08-27 00:11:17,805:INFO:fold krclpryy_1_2: adding upper bound 1.0 for sens\n",
      "2023-08-27 00:11:17,807:INFO:fold krclpryy_1_2: adding lower bound 0.40360360360360353 for spec\n",
      "2023-08-27 00:11:17,807:INFO:fold krclpryy_1_2: adding upper bound 0.8036036036036036 for spec\n",
      "2023-08-27 00:11:17,808:INFO:fold krclpryy_1_2: adding lower bound 0.6018018018018019 for bacc\n",
      "2023-08-27 00:11:17,809:INFO:fold krclpryy_1_2: adding upper bound 1.0 for bacc\n",
      "2023-08-27 00:11:17,810:INFO:fold krclpryy_1_3: adding lower bound 0.5280701754385964 for acc\n",
      "2023-08-27 00:11:17,811:INFO:fold krclpryy_1_3: adding upper bound 0.9280701754385965 for acc\n",
      "2023-08-27 00:11:17,811:INFO:fold krclpryy_1_3: adding lower bound 0.0 for sens\n",
      "2023-08-27 00:11:17,812:INFO:fold krclpryy_1_3: adding upper bound 0.2 for sens\n",
      "2023-08-27 00:11:17,813:INFO:fold krclpryy_1_3: adding lower bound 0.5545454545454545 for spec\n",
      "2023-08-27 00:11:17,814:INFO:fold krclpryy_1_3: adding upper bound 0.9545454545454546 for spec\n",
      "2023-08-27 00:11:17,815:INFO:fold krclpryy_1_3: adding lower bound 0.17727272727272725 for bacc\n",
      "2023-08-27 00:11:17,815:INFO:fold krclpryy_1_3: adding upper bound 0.5772727272727273 for bacc\n",
      "2023-08-27 00:11:17,816:INFO:fold krclpryy_1_4: adding lower bound 0.0 for acc\n",
      "2023-08-27 00:11:17,817:INFO:fold krclpryy_1_4: adding upper bound 0.20877192982456141 for acc\n",
      "2023-08-27 00:11:17,818:INFO:fold krclpryy_1_4: adding lower bound 0.0 for sens\n",
      "2023-08-27 00:11:17,818:INFO:fold krclpryy_1_4: adding upper bound 0.2 for sens\n",
      "2023-08-27 00:11:17,819:INFO:fold krclpryy_1_4: adding lower bound 0.0 for spec\n",
      "2023-08-27 00:11:17,819:INFO:fold krclpryy_1_4: adding upper bound 0.2090909090909091 for spec\n",
      "2023-08-27 00:11:17,821:INFO:fold krclpryy_1_4: adding lower bound 0.0 for bacc\n",
      "2023-08-27 00:11:17,821:INFO:fold krclpryy_1_4: adding upper bound 0.20454545454545456 for bacc\n",
      "2023-08-27 00:11:17,822:INFO:fold krclpryy_1_5: adding lower bound 0.0 for acc\n",
      "2023-08-27 00:11:17,825:INFO:fold krclpryy_1_5: adding upper bound 0.34035087719298246 for acc\n",
      "2023-08-27 00:11:17,826:INFO:fold krclpryy_1_5: adding lower bound 0.0 for sens\n",
      "2023-08-27 00:11:17,827:INFO:fold krclpryy_1_5: adding upper bound 0.2 for sens\n",
      "2023-08-27 00:11:17,828:INFO:fold krclpryy_1_5: adding lower bound 0.0 for spec\n",
      "2023-08-27 00:11:17,829:INFO:fold krclpryy_1_5: adding upper bound 0.34545454545454546 for spec\n",
      "2023-08-27 00:11:17,829:INFO:fold krclpryy_1_5: adding lower bound 0.0 for bacc\n",
      "2023-08-27 00:11:17,831:INFO:fold krclpryy_1_5: adding upper bound 0.2727272727272727 for bacc\n",
      "2023-08-27 00:11:17,832:INFO:fold krclpryy_1_6: adding lower bound 0.6421052631578947 for acc\n",
      "2023-08-27 00:11:17,833:INFO:fold krclpryy_1_6: adding upper bound 1.0 for acc\n",
      "2023-08-27 00:11:17,833:INFO:fold krclpryy_1_6: adding lower bound 0.8 for sens\n",
      "2023-08-27 00:11:17,834:INFO:fold krclpryy_1_6: adding upper bound 1.0 for sens\n",
      "2023-08-27 00:11:17,834:INFO:fold krclpryy_1_6: adding lower bound 0.6363636363636362 for spec\n",
      "2023-08-27 00:11:17,835:INFO:fold krclpryy_1_6: adding upper bound 1.0 for spec\n",
      "2023-08-27 00:11:17,835:INFO:fold krclpryy_1_6: adding lower bound 0.7181818181818183 for bacc\n",
      "2023-08-27 00:11:17,835:INFO:fold krclpryy_1_6: adding upper bound 1.0 for bacc\n",
      "2023-08-27 00:11:17,836:INFO:fold krclpryy_1_7: adding lower bound 0.4578947368421052 for acc\n",
      "2023-08-27 00:11:17,837:INFO:fold krclpryy_1_7: adding upper bound 0.8578947368421053 for acc\n",
      "2023-08-27 00:11:17,837:INFO:fold krclpryy_1_7: adding lower bound 0.8 for sens\n",
      "2023-08-27 00:11:17,838:INFO:fold krclpryy_1_7: adding upper bound 1.0 for sens\n",
      "2023-08-27 00:11:17,839:INFO:fold krclpryy_1_7: adding lower bound 0.4454545454545454 for spec\n",
      "2023-08-27 00:11:17,839:INFO:fold krclpryy_1_7: adding upper bound 0.8454545454545455 for spec\n",
      "2023-08-27 00:11:17,840:INFO:fold krclpryy_1_7: adding lower bound 0.6227272727272728 for bacc\n",
      "2023-08-27 00:11:17,841:INFO:fold krclpryy_1_7: adding upper bound 1.0 for bacc\n",
      "2023-08-27 00:11:17,841:INFO:fold krclpryy_1_8: adding lower bound 0.73859649122807 for acc\n",
      "2023-08-27 00:11:17,842:INFO:fold krclpryy_1_8: adding upper bound 1.0 for acc\n",
      "2023-08-27 00:11:17,843:INFO:fold krclpryy_1_8: adding lower bound 0.3 for sens\n",
      "2023-08-27 00:11:17,843:INFO:fold krclpryy_1_8: adding upper bound 0.7 for sens\n",
      "2023-08-27 00:11:17,844:INFO:fold krclpryy_1_8: adding lower bound 0.7545454545454544 for spec\n",
      "2023-08-27 00:11:17,844:INFO:fold krclpryy_1_8: adding upper bound 1.0 for spec\n",
      "2023-08-27 00:11:17,845:INFO:fold krclpryy_1_8: adding lower bound 0.5272727272727273 for bacc\n",
      "2023-08-27 00:11:17,851:INFO:fold krclpryy_1_8: adding upper bound 0.9272727272727272 for bacc\n",
      "2023-08-27 00:11:17,852:INFO:fold krclpryy_1_9: adding lower bound 0.38771929824561396 for acc\n",
      "2023-08-27 00:11:17,852:INFO:fold krclpryy_1_9: adding upper bound 0.787719298245614 for acc\n",
      "2023-08-27 00:11:17,853:INFO:fold krclpryy_1_9: adding lower bound 0.55 for sens\n",
      "2023-08-27 00:11:17,854:INFO:fold krclpryy_1_9: adding upper bound 0.95 for sens\n",
      "2023-08-27 00:11:17,855:INFO:fold krclpryy_1_9: adding lower bound 0.3818181818181818 for spec\n",
      "2023-08-27 00:11:17,855:INFO:fold krclpryy_1_9: adding upper bound 0.7818181818181817 for spec\n",
      "2023-08-27 00:11:17,856:INFO:fold krclpryy_1_9: adding lower bound 0.4659090909090909 for bacc\n",
      "2023-08-27 00:11:17,856:INFO:fold krclpryy_1_9: adding upper bound 0.865909090909091 for bacc\n",
      "2023-08-27 00:11:17,857:INFO:fold krclpryy_1_10: adding lower bound 0.6771929824561402 for acc\n"
     ]
    },
    {
     "name": "stdout",
     "output_type": "stream",
     "text": [
      "2023-08-27 00:11:17.656169\n",
      "2023-08-27 00:11:17.663514\n",
      "2023-08-27 00:11:17.675473\n",
      "asdf 1\n"
     ]
    },
    {
     "name": "stderr",
     "output_type": "stream",
     "text": [
      "2023-08-27 00:11:17,857:INFO:fold krclpryy_1_10: adding upper bound 1.0 for acc\n",
      "2023-08-27 00:11:17,858:INFO:fold krclpryy_1_10: adding lower bound 0.8 for sens\n",
      "2023-08-27 00:11:17,859:INFO:fold krclpryy_1_10: adding upper bound 1.0 for sens\n",
      "2023-08-27 00:11:17,859:INFO:fold krclpryy_1_10: adding lower bound 0.6727272727272726 for spec\n",
      "2023-08-27 00:11:17,859:INFO:fold krclpryy_1_10: adding upper bound 1.0 for spec\n",
      "2023-08-27 00:11:17,860:INFO:fold krclpryy_1_10: adding lower bound 0.7363636363636363 for bacc\n",
      "2023-08-27 00:11:17,860:INFO:fold krclpryy_1_10: adding upper bound 1.0 for bacc\n",
      "2023-08-27 00:11:17,861:INFO:fold krclpryy_1_11: adding lower bound 0.14210526315789468 for acc\n",
      "2023-08-27 00:11:17,862:INFO:fold krclpryy_1_11: adding upper bound 0.5421052631578946 for acc\n",
      "2023-08-27 00:11:17,862:INFO:fold krclpryy_1_11: adding lower bound 0.8 for sens\n",
      "2023-08-27 00:11:17,863:INFO:fold krclpryy_1_11: adding upper bound 1.0 for sens\n",
      "2023-08-27 00:11:17,863:INFO:fold krclpryy_1_11: adding lower bound 0.11818181818181817 for spec\n",
      "2023-08-27 00:11:17,864:INFO:fold krclpryy_1_11: adding upper bound 0.5181818181818182 for spec\n",
      "2023-08-27 00:11:17,865:INFO:fold krclpryy_1_11: adding lower bound 0.45909090909090905 for bacc\n",
      "2023-08-27 00:11:17,865:INFO:fold krclpryy_1_11: adding upper bound 0.8590909090909091 for bacc\n",
      "2023-08-27 00:11:17,866:INFO:fold krclpryy_1_12: adding lower bound 0.3964912280701754 for acc\n",
      "2023-08-27 00:11:17,866:INFO:fold krclpryy_1_12: adding upper bound 0.7964912280701755 for acc\n",
      "2023-08-27 00:11:17,867:INFO:fold krclpryy_1_12: adding lower bound 0.04999999999999999 for sens\n",
      "2023-08-27 00:11:17,868:INFO:fold krclpryy_1_12: adding upper bound 0.45 for sens\n",
      "2023-08-27 00:11:17,868:INFO:fold krclpryy_1_12: adding lower bound 0.409090909090909 for spec\n",
      "2023-08-27 00:11:17,869:INFO:fold krclpryy_1_12: adding upper bound 0.8090909090909091 for spec\n",
      "2023-08-27 00:11:17,870:INFO:fold krclpryy_1_12: adding lower bound 0.2295454545454545 for bacc\n",
      "2023-08-27 00:11:17,870:INFO:fold krclpryy_1_12: adding upper bound 0.6295454545454545 for bacc\n",
      "2023-08-27 00:11:17,871:INFO:fold krclpryy_2_0: adding lower bound 0.6173913043478261 for acc\n",
      "2023-08-27 00:11:17,872:INFO:fold krclpryy_2_0: adding upper bound 1.0 for acc\n",
      "2023-08-27 00:11:17,873:INFO:fold krclpryy_2_0: adding lower bound 0.55 for sens\n",
      "2023-08-27 00:11:17,874:INFO:fold krclpryy_2_0: adding upper bound 0.95 for sens\n",
      "2023-08-27 00:11:17,874:INFO:fold krclpryy_2_0: adding lower bound 0.6198198198198197 for spec\n",
      "2023-08-27 00:11:17,875:INFO:fold krclpryy_2_0: adding upper bound 1.0 for spec\n",
      "2023-08-27 00:11:17,875:INFO:fold krclpryy_2_0: adding lower bound 0.58490990990991 for bacc\n",
      "2023-08-27 00:11:17,876:INFO:fold krclpryy_2_0: adding upper bound 0.9849099099099099 for bacc\n",
      "2023-08-27 00:11:17,877:INFO:fold krclpryy_2_1: adding lower bound 0.0 for acc\n",
      "2023-08-27 00:11:17,877:INFO:fold krclpryy_2_1: adding upper bound 0.3739130434782609 for acc\n",
      "2023-08-27 00:11:17,878:INFO:fold krclpryy_2_1: adding lower bound 0.04999999999999999 for sens\n",
      "2023-08-27 00:11:17,878:INFO:fold krclpryy_2_1: adding upper bound 0.45 for sens\n",
      "2023-08-27 00:11:17,879:INFO:fold krclpryy_2_1: adding lower bound 0.0 for spec\n",
      "2023-08-27 00:11:17,879:INFO:fold krclpryy_2_1: adding upper bound 0.37117117117117115 for spec\n",
      "2023-08-27 00:11:17,880:INFO:fold krclpryy_2_1: adding lower bound 0.010585585585585588 for bacc\n",
      "2023-08-27 00:11:17,880:INFO:fold krclpryy_2_1: adding upper bound 0.4105855855855856 for bacc\n",
      "2023-08-27 00:11:17,881:INFO:fold krclpryy_2_2: adding lower bound 0.0 for acc\n",
      "2023-08-27 00:11:17,881:INFO:fold krclpryy_2_2: adding upper bound 0.26140350877192986 for acc\n",
      "2023-08-27 00:11:17,882:INFO:fold krclpryy_2_2: adding lower bound 0.8 for sens\n",
      "2023-08-27 00:11:17,882:INFO:fold krclpryy_2_2: adding upper bound 1.0 for sens\n",
      "2023-08-27 00:11:17,883:INFO:fold krclpryy_2_2: adding lower bound 0.0 for spec\n",
      "2023-08-27 00:11:17,884:INFO:fold krclpryy_2_2: adding upper bound 0.23603603603603604 for spec\n",
      "2023-08-27 00:11:17,884:INFO:fold krclpryy_2_2: adding lower bound 0.31801801801801804 for bacc\n",
      "2023-08-27 00:11:17,885:INFO:fold krclpryy_2_2: adding upper bound 0.718018018018018 for bacc\n",
      "2023-08-27 00:11:17,886:INFO:fold krclpryy_2_3: adding lower bound 0.1157894736842105 for acc\n",
      "2023-08-27 00:11:17,886:INFO:fold krclpryy_2_3: adding upper bound 0.5157894736842106 for acc\n",
      "2023-08-27 00:11:17,887:INFO:fold krclpryy_2_3: adding lower bound 0.55 for sens\n",
      "2023-08-27 00:11:17,888:INFO:fold krclpryy_2_3: adding upper bound 0.95 for sens\n",
      "2023-08-27 00:11:17,888:INFO:fold krclpryy_2_3: adding lower bound 0.09999999999999998 for spec\n",
      "2023-08-27 00:11:17,888:INFO:fold krclpryy_2_3: adding upper bound 0.5 for spec\n",
      "2023-08-27 00:11:17,889:INFO:fold krclpryy_2_3: adding lower bound 0.325 for bacc\n",
      "2023-08-27 00:11:17,890:INFO:fold krclpryy_2_3: adding upper bound 0.7250000000000001 for bacc\n",
      "2023-08-27 00:11:17,890:INFO:fold krclpryy_2_4: adding lower bound 0.08947368421052632 for acc\n",
      "2023-08-27 00:11:17,891:INFO:fold krclpryy_2_4: adding upper bound 0.48947368421052634 for acc\n",
      "2023-08-27 00:11:17,891:INFO:fold krclpryy_2_4: adding lower bound 0.55 for sens\n",
      "2023-08-27 00:11:17,892:INFO:fold krclpryy_2_4: adding upper bound 0.95 for sens\n",
      "2023-08-27 00:11:17,892:INFO:fold krclpryy_2_4: adding lower bound 0.0727272727272727 for spec\n",
      "2023-08-27 00:11:17,893:INFO:fold krclpryy_2_4: adding upper bound 0.4727272727272727 for spec\n",
      "2023-08-27 00:11:17,893:INFO:fold krclpryy_2_4: adding lower bound 0.31136363636363634 for bacc\n",
      "2023-08-27 00:11:17,894:INFO:fold krclpryy_2_4: adding upper bound 0.7113636363636364 for bacc\n",
      "2023-08-27 00:11:17,894:INFO:fold krclpryy_2_5: adding lower bound 0.6947368421052631 for acc\n",
      "2023-08-27 00:11:17,895:INFO:fold krclpryy_2_5: adding upper bound 1.0 for acc\n",
      "2023-08-27 00:11:17,896:INFO:fold krclpryy_2_5: adding lower bound 0.04999999999999999 for sens\n",
      "2023-08-27 00:11:17,896:INFO:fold krclpryy_2_5: adding upper bound 0.45 for sens\n",
      "2023-08-27 00:11:17,897:INFO:fold krclpryy_2_5: adding lower bound 0.718181818181818 for spec\n",
      "2023-08-27 00:11:17,897:INFO:fold krclpryy_2_5: adding upper bound 1.0 for spec\n",
      "2023-08-27 00:11:17,898:INFO:fold krclpryy_2_5: adding lower bound 0.384090909090909 for bacc\n",
      "2023-08-27 00:11:17,898:INFO:fold krclpryy_2_5: adding upper bound 0.784090909090909 for bacc\n",
      "2023-08-27 00:11:17,899:INFO:fold krclpryy_2_6: adding lower bound 0.6245614035087719 for acc\n",
      "2023-08-27 00:11:17,899:INFO:fold krclpryy_2_6: adding upper bound 1.0 for acc\n",
      "2023-08-27 00:11:17,900:INFO:fold krclpryy_2_6: adding lower bound 0.04999999999999999 for sens\n",
      "2023-08-27 00:11:17,900:INFO:fold krclpryy_2_6: adding upper bound 0.45 for sens\n",
      "2023-08-27 00:11:17,901:INFO:fold krclpryy_2_6: adding lower bound 0.6454545454545455 for spec\n",
      "2023-08-27 00:11:17,901:INFO:fold krclpryy_2_6: adding upper bound 1.0 for spec\n",
      "2023-08-27 00:11:17,901:INFO:fold krclpryy_2_6: adding lower bound 0.3477272727272727 for bacc\n",
      "2023-08-27 00:11:17,902:INFO:fold krclpryy_2_6: adding upper bound 0.7477272727272728 for bacc\n",
      "2023-08-27 00:11:17,902:INFO:fold krclpryy_2_7: adding lower bound 0.08070175438596489 for acc\n",
      "2023-08-27 00:11:17,903:INFO:fold krclpryy_2_7: adding upper bound 0.4807017543859649 for acc\n",
      "2023-08-27 00:11:17,903:INFO:fold krclpryy_2_7: adding lower bound 0.04999999999999999 for sens\n",
      "2023-08-27 00:11:17,904:INFO:fold krclpryy_2_7: adding upper bound 0.45 for sens\n",
      "2023-08-27 00:11:17,905:INFO:fold krclpryy_2_7: adding lower bound 0.08181818181818179 for spec\n",
      "2023-08-27 00:11:17,905:INFO:fold krclpryy_2_7: adding upper bound 0.4818181818181818 for spec\n",
      "2023-08-27 00:11:17,906:INFO:fold krclpryy_2_7: adding lower bound 0.06590909090909086 for bacc\n",
      "2023-08-27 00:11:17,906:INFO:fold krclpryy_2_7: adding upper bound 0.4659090909090909 for bacc\n",
      "2023-08-27 00:11:17,907:INFO:fold krclpryy_2_8: adding lower bound 0.5456140350877192 for acc\n",
      "2023-08-27 00:11:17,912:INFO:fold krclpryy_2_8: adding upper bound 0.9456140350877194 for acc\n",
      "2023-08-27 00:11:17,912:INFO:fold krclpryy_2_8: adding lower bound 0.3 for sens\n",
      "2023-08-27 00:11:17,913:INFO:fold krclpryy_2_8: adding upper bound 0.7 for sens\n",
      "2023-08-27 00:11:17,913:INFO:fold krclpryy_2_8: adding lower bound 0.5545454545454545 for spec\n",
      "2023-08-27 00:11:17,914:INFO:fold krclpryy_2_8: adding upper bound 0.9545454545454546 for spec\n",
      "2023-08-27 00:11:17,914:INFO:fold krclpryy_2_8: adding lower bound 0.4272727272727272 for bacc\n",
      "2023-08-27 00:11:17,915:INFO:fold krclpryy_2_8: adding upper bound 0.8272727272727272 for bacc\n",
      "2023-08-27 00:11:17,915:INFO:fold krclpryy_2_9: adding lower bound 0.0 for acc\n",
      "2023-08-27 00:11:17,916:INFO:fold krclpryy_2_9: adding upper bound 0.37543859649122807 for acc\n",
      "2023-08-27 00:11:17,917:INFO:fold krclpryy_2_9: adding lower bound 0.3 for sens\n",
      "2023-08-27 00:11:17,917:INFO:fold krclpryy_2_9: adding upper bound 0.7 for sens\n",
      "2023-08-27 00:11:17,918:INFO:fold krclpryy_2_9: adding lower bound 0.0 for spec\n",
      "2023-08-27 00:11:17,918:INFO:fold krclpryy_2_9: adding upper bound 0.36363636363636365 for spec\n",
      "2023-08-27 00:11:17,919:INFO:fold krclpryy_2_9: adding lower bound 0.13181818181818178 for bacc\n",
      "2023-08-27 00:11:17,920:INFO:fold krclpryy_2_9: adding upper bound 0.5318181818181817 for bacc\n",
      "2023-08-27 00:11:17,920:INFO:fold krclpryy_2_10: adding lower bound 0.48421052631578937 for acc\n",
      "2023-08-27 00:11:17,921:INFO:fold krclpryy_2_10: adding upper bound 0.8842105263157893 for acc\n",
      "2023-08-27 00:11:17,921:INFO:fold krclpryy_2_10: adding lower bound 0.55 for sens\n",
      "2023-08-27 00:11:17,922:INFO:fold krclpryy_2_10: adding upper bound 0.95 for sens\n",
      "2023-08-27 00:11:17,922:INFO:fold krclpryy_2_10: adding lower bound 0.48181818181818176 for spec\n",
      "2023-08-27 00:11:17,923:INFO:fold krclpryy_2_10: adding upper bound 0.8818181818181818 for spec\n",
      "2023-08-27 00:11:17,924:INFO:fold krclpryy_2_10: adding lower bound 0.5159090909090909 for bacc\n",
      "2023-08-27 00:11:17,925:INFO:fold krclpryy_2_10: adding upper bound 0.9159090909090908 for bacc\n",
      "2023-08-27 00:11:17,926:INFO:fold krclpryy_2_11: adding lower bound 0.22982456140350876 for acc\n",
      "2023-08-27 00:11:17,926:INFO:fold krclpryy_2_11: adding upper bound 0.6298245614035087 for acc\n",
      "2023-08-27 00:11:17,927:INFO:fold krclpryy_2_11: adding lower bound 0.3 for sens\n",
      "2023-08-27 00:11:17,927:INFO:fold krclpryy_2_11: adding upper bound 0.7 for sens\n",
      "2023-08-27 00:11:17,928:INFO:fold krclpryy_2_11: adding lower bound 0.22727272727272724 for spec\n",
      "2023-08-27 00:11:17,929:INFO:fold krclpryy_2_11: adding upper bound 0.6272727272727272 for spec\n",
      "2023-08-27 00:11:17,929:INFO:fold krclpryy_2_11: adding lower bound 0.2636363636363636 for bacc\n",
      "2023-08-27 00:11:17,930:INFO:fold krclpryy_2_11: adding upper bound 0.6636363636363636 for bacc\n",
      "2023-08-27 00:11:17,931:INFO:fold krclpryy_2_12: adding lower bound 0.0 for acc\n",
      "2023-08-27 00:11:17,949:INFO:fold krclpryy_2_12: adding upper bound 0.30526315789473685 for acc\n",
      "2023-08-27 00:11:17,950:INFO:fold krclpryy_2_12: adding lower bound 0.0 for sens\n",
      "2023-08-27 00:11:17,951:INFO:fold krclpryy_2_12: adding upper bound 0.2 for sens\n",
      "2023-08-27 00:11:17,951:INFO:fold krclpryy_2_12: adding lower bound 0.0 for spec\n",
      "2023-08-27 00:11:17,952:INFO:fold krclpryy_2_12: adding upper bound 0.3090909090909091 for spec\n",
      "2023-08-27 00:11:17,953:INFO:fold krclpryy_2_12: adding lower bound 0.0 for bacc\n",
      "2023-08-27 00:11:17,953:INFO:fold krclpryy_2_12: adding upper bound 0.2545454545454546 for bacc\n",
      "2023-08-27 00:11:17,954:INFO:fold krclpryy_3_0: adding lower bound 0.7391304347826086 for acc\n",
      "2023-08-27 00:11:17,955:INFO:fold krclpryy_3_0: adding upper bound 1.0 for acc\n",
      "2023-08-27 00:11:17,955:INFO:fold krclpryy_3_0: adding lower bound 0.55 for sens\n",
      "2023-08-27 00:11:17,956:INFO:fold krclpryy_3_0: adding upper bound 0.95 for sens\n",
      "2023-08-27 00:11:17,957:INFO:fold krclpryy_3_0: adding lower bound 0.7459459459459459 for spec\n",
      "2023-08-27 00:11:17,957:INFO:fold krclpryy_3_0: adding upper bound 1.0 for spec\n",
      "2023-08-27 00:11:17,958:INFO:fold krclpryy_3_0: adding lower bound 0.6479729729729731 for bacc\n",
      "2023-08-27 00:11:17,959:INFO:fold krclpryy_3_0: adding upper bound 1.0 for bacc\n",
      "2023-08-27 00:11:17,960:INFO:fold krclpryy_3_1: adding lower bound 0.46956521739130436 for acc\n",
      "2023-08-27 00:11:17,960:INFO:fold krclpryy_3_1: adding upper bound 0.8695652173913044 for acc\n",
      "2023-08-27 00:11:17,961:INFO:fold krclpryy_3_1: adding lower bound 0.04999999999999999 for sens\n",
      "2023-08-27 00:11:17,962:INFO:fold krclpryy_3_1: adding upper bound 0.45 for sens\n",
      "2023-08-27 00:11:17,962:INFO:fold krclpryy_3_1: adding lower bound 0.4846846846846847 for spec\n",
      "2023-08-27 00:11:17,963:INFO:fold krclpryy_3_1: adding upper bound 0.8846846846846848 for spec\n",
      "2023-08-27 00:11:17,963:INFO:fold krclpryy_3_1: adding lower bound 0.26734234234234233 for bacc\n",
      "2023-08-27 00:11:17,964:INFO:fold krclpryy_3_1: adding upper bound 0.6673423423423424 for bacc\n",
      "2023-08-27 00:11:17,965:INFO:fold krclpryy_3_2: adding lower bound 0.7912280701754386 for acc\n",
      "2023-08-27 00:11:17,965:INFO:fold krclpryy_3_2: adding upper bound 1.0 for acc\n",
      "2023-08-27 00:11:17,966:INFO:fold krclpryy_3_2: adding lower bound 0.8 for sens\n",
      "2023-08-27 00:11:17,969:INFO:fold krclpryy_3_2: adding upper bound 1.0 for sens\n",
      "2023-08-27 00:11:17,970:INFO:fold krclpryy_3_2: adding lower bound 0.7909909909909909 for spec\n",
      "2023-08-27 00:11:17,974:INFO:fold krclpryy_3_2: adding upper bound 1.0 for spec\n",
      "2023-08-27 00:11:17,975:INFO:fold krclpryy_3_2: adding lower bound 0.7954954954954956 for bacc\n",
      "2023-08-27 00:11:17,976:INFO:fold krclpryy_3_2: adding upper bound 1.0 for bacc\n",
      "2023-08-27 00:11:17,976:INFO:fold krclpryy_3_3: adding lower bound 0.010526315789473661 for acc\n",
      "2023-08-27 00:11:17,977:INFO:fold krclpryy_3_3: adding upper bound 0.4105263157894737 for acc\n",
      "2023-08-27 00:11:17,978:INFO:fold krclpryy_3_3: adding lower bound 0.8 for sens\n",
      "2023-08-27 00:11:17,978:INFO:fold krclpryy_3_3: adding upper bound 1.0 for sens\n",
      "2023-08-27 00:11:17,979:INFO:fold krclpryy_3_3: adding lower bound 0.0 for spec\n",
      "2023-08-27 00:11:17,980:INFO:fold krclpryy_3_3: adding upper bound 0.38181818181818183 for spec\n",
      "2023-08-27 00:11:17,980:INFO:fold krclpryy_3_3: adding lower bound 0.39090909090909093 for bacc\n",
      "2023-08-27 00:11:17,980:INFO:fold krclpryy_3_3: adding upper bound 0.790909090909091 for bacc\n",
      "2023-08-27 00:11:17,981:INFO:fold krclpryy_3_4: adding lower bound 0.0 for acc\n",
      "2023-08-27 00:11:17,981:INFO:fold krclpryy_3_4: adding upper bound 0.3666666666666667 for acc\n",
      "2023-08-27 00:11:17,982:INFO:fold krclpryy_3_4: adding lower bound 0.8 for sens\n",
      "2023-08-27 00:11:17,982:INFO:fold krclpryy_3_4: adding upper bound 1.0 for sens\n",
      "2023-08-27 00:11:17,983:INFO:fold krclpryy_3_4: adding lower bound 0.0 for spec\n",
      "2023-08-27 00:11:17,983:INFO:fold krclpryy_3_4: adding upper bound 0.33636363636363636 for spec\n",
      "2023-08-27 00:11:17,984:INFO:fold krclpryy_3_4: adding lower bound 0.3681818181818181 for bacc\n",
      "2023-08-27 00:11:17,984:INFO:fold krclpryy_3_4: adding upper bound 0.7681818181818181 for bacc\n",
      "2023-08-27 00:11:17,985:INFO:fold krclpryy_3_5: adding lower bound 0.1333333333333333 for acc\n",
      "2023-08-27 00:11:17,990:INFO:fold krclpryy_3_5: adding upper bound 0.5333333333333333 for acc\n",
      "2023-08-27 00:11:17,993:INFO:fold krclpryy_3_5: adding lower bound 0.55 for sens\n",
      "2023-08-27 00:11:17,995:INFO:fold krclpryy_3_5: adding upper bound 0.95 for sens\n",
      "2023-08-27 00:11:17,996:INFO:fold krclpryy_3_5: adding lower bound 0.11818181818181817 for spec\n",
      "2023-08-27 00:11:17,997:INFO:fold krclpryy_3_5: adding upper bound 0.5181818181818182 for spec\n",
      "2023-08-27 00:11:18,000:INFO:fold krclpryy_3_5: adding lower bound 0.33409090909090905 for bacc\n",
      "2023-08-27 00:11:18,002:INFO:fold krclpryy_3_5: adding upper bound 0.7340909090909091 for bacc\n",
      "2023-08-27 00:11:18,003:INFO:fold krclpryy_3_6: adding lower bound 0.0 for acc\n",
      "2023-08-27 00:11:18,003:INFO:fold krclpryy_3_6: adding upper bound 0.23508771929824562 for acc\n",
      "2023-08-27 00:11:18,005:INFO:fold krclpryy_3_6: adding lower bound 0.0 for sens\n",
      "2023-08-27 00:11:18,006:INFO:fold krclpryy_3_6: adding upper bound 0.2 for sens\n",
      "2023-08-27 00:11:18,007:INFO:fold krclpryy_3_6: adding lower bound 0.0 for spec\n",
      "2023-08-27 00:11:18,007:INFO:fold krclpryy_3_6: adding upper bound 0.2363636363636364 for spec\n",
      "2023-08-27 00:11:18,009:INFO:fold krclpryy_3_6: adding lower bound 0.0 for bacc\n",
      "2023-08-27 00:11:18,010:INFO:fold krclpryy_3_6: adding upper bound 0.2181818181818182 for bacc\n",
      "2023-08-27 00:11:18,011:INFO:fold krclpryy_3_7: adding lower bound 0.4578947368421052 for acc\n",
      "2023-08-27 00:11:18,013:INFO:fold krclpryy_3_7: adding upper bound 0.8578947368421053 for acc\n",
      "2023-08-27 00:11:18,014:INFO:fold krclpryy_3_7: adding lower bound 0.55 for sens\n",
      "2023-08-27 00:11:18,016:INFO:fold krclpryy_3_7: adding upper bound 0.95 for sens\n",
      "2023-08-27 00:11:18,017:INFO:fold krclpryy_3_7: adding lower bound 0.45454545454545453 for spec\n",
      "2023-08-27 00:11:18,020:INFO:fold krclpryy_3_7: adding upper bound 0.8545454545454545 for spec\n",
      "2023-08-27 00:11:18,021:INFO:fold krclpryy_3_7: adding lower bound 0.5022727272727272 for bacc\n",
      "2023-08-27 00:11:18,021:INFO:fold krclpryy_3_7: adding upper bound 0.9022727272727273 for bacc\n",
      "2023-08-27 00:11:18,025:INFO:fold krclpryy_3_8: adding lower bound 0.29122807017543856 for acc\n",
      "2023-08-27 00:11:18,026:INFO:fold krclpryy_3_8: adding upper bound 0.6912280701754385 for acc\n",
      "2023-08-27 00:11:18,027:INFO:fold krclpryy_3_8: adding lower bound 0.3 for sens\n",
      "2023-08-27 00:11:18,028:INFO:fold krclpryy_3_8: adding upper bound 0.7 for sens\n",
      "2023-08-27 00:11:18,030:INFO:fold krclpryy_3_8: adding lower bound 0.2909090909090909 for spec\n",
      "2023-08-27 00:11:18,033:INFO:fold krclpryy_3_8: adding upper bound 0.6909090909090909 for spec\n",
      "2023-08-27 00:11:18,033:INFO:fold krclpryy_3_8: adding lower bound 0.29545454545454547 for bacc\n",
      "2023-08-27 00:11:18,034:INFO:fold krclpryy_3_8: adding upper bound 0.6954545454545455 for bacc\n",
      "2023-08-27 00:11:18,035:INFO:fold krclpryy_3_9: adding lower bound 0.5894736842105264 for acc\n",
      "2023-08-27 00:11:18,036:INFO:fold krclpryy_3_9: adding upper bound 0.9894736842105263 for acc\n",
      "2023-08-27 00:11:18,039:INFO:fold krclpryy_3_9: adding lower bound 0.55 for sens\n",
      "2023-08-27 00:11:18,040:INFO:fold krclpryy_3_9: adding upper bound 0.95 for sens\n",
      "2023-08-27 00:11:18,041:INFO:fold krclpryy_3_9: adding lower bound 0.5909090909090908 for spec\n",
      "2023-08-27 00:11:18,042:INFO:fold krclpryy_3_9: adding upper bound 0.990909090909091 for spec\n",
      "2023-08-27 00:11:18,046:INFO:fold krclpryy_3_9: adding lower bound 0.5704545454545455 for bacc\n",
      "2023-08-27 00:11:18,047:INFO:fold krclpryy_3_9: adding upper bound 0.9704545454545455 for bacc\n",
      "2023-08-27 00:11:18,048:INFO:fold krclpryy_3_10: adding lower bound 0.15964912280701754 for acc\n",
      "2023-08-27 00:11:18,049:INFO:fold krclpryy_3_10: adding upper bound 0.5596491228070175 for acc\n",
      "2023-08-27 00:11:18,049:INFO:fold krclpryy_3_10: adding lower bound 0.3 for sens\n",
      "2023-08-27 00:11:18,050:INFO:fold krclpryy_3_10: adding upper bound 0.7 for sens\n",
      "2023-08-27 00:11:18,052:INFO:fold krclpryy_3_10: adding lower bound 0.15454545454545454 for spec\n",
      "2023-08-27 00:11:18,055:INFO:fold krclpryy_3_10: adding upper bound 0.5545454545454546 for spec\n",
      "2023-08-27 00:11:18,059:INFO:fold krclpryy_3_10: adding lower bound 0.22727272727272724 for bacc\n",
      "2023-08-27 00:11:18,061:INFO:fold krclpryy_3_10: adding upper bound 0.6272727272727272 for bacc\n",
      "2023-08-27 00:11:18,062:INFO:fold krclpryy_3_11: adding lower bound 0.08070175438596489 for acc\n",
      "2023-08-27 00:11:18,064:INFO:fold krclpryy_3_11: adding upper bound 0.4807017543859649 for acc\n",
      "2023-08-27 00:11:18,065:INFO:fold krclpryy_3_11: adding lower bound 0.55 for sens\n",
      "2023-08-27 00:11:18,066:INFO:fold krclpryy_3_11: adding upper bound 0.95 for sens\n",
      "2023-08-27 00:11:18,066:INFO:fold krclpryy_3_11: adding lower bound 0.0636363636363636 for spec\n",
      "2023-08-27 00:11:18,068:INFO:fold krclpryy_3_11: adding upper bound 0.4636363636363636 for spec\n",
      "2023-08-27 00:11:18,070:INFO:fold krclpryy_3_11: adding lower bound 0.3068181818181818 for bacc\n",
      "2023-08-27 00:11:18,071:INFO:fold krclpryy_3_11: adding upper bound 0.7068181818181818 for bacc\n",
      "2023-08-27 00:11:18,073:INFO:fold krclpryy_3_12: adding lower bound 0.5017543859649123 for acc\n",
      "2023-08-27 00:11:18,074:INFO:fold krclpryy_3_12: adding upper bound 0.9017543859649122 for acc\n",
      "2023-08-27 00:11:18,074:INFO:fold krclpryy_3_12: adding lower bound 0.8 for sens\n",
      "2023-08-27 00:11:18,077:INFO:fold krclpryy_3_12: adding upper bound 1.0 for sens\n",
      "2023-08-27 00:11:18,078:INFO:fold krclpryy_3_12: adding lower bound 0.4909090909090909 for spec\n",
      "2023-08-27 00:11:18,079:INFO:fold krclpryy_3_12: adding upper bound 0.8909090909090909 for spec\n",
      "2023-08-27 00:11:18,080:INFO:fold krclpryy_3_12: adding lower bound 0.6454545454545455 for bacc\n",
      "2023-08-27 00:11:18,081:INFO:fold krclpryy_3_12: adding upper bound 1.0 for bacc\n",
      "2023-08-27 00:11:18,082:INFO:fold krclpryy_4_0: adding lower bound 0.26956521739130435 for acc\n",
      "2023-08-27 00:11:18,082:INFO:fold krclpryy_4_0: adding upper bound 0.6695652173913044 for acc\n",
      "2023-08-27 00:11:18,083:INFO:fold krclpryy_4_0: adding lower bound 0.0 for sens\n",
      "2023-08-27 00:11:18,084:INFO:fold krclpryy_4_0: adding upper bound 0.2 for sens\n",
      "2023-08-27 00:11:18,084:INFO:fold krclpryy_4_0: adding lower bound 0.28648648648648645 for spec\n",
      "2023-08-27 00:11:18,085:INFO:fold krclpryy_4_0: adding upper bound 0.6864864864864865 for spec\n",
      "2023-08-27 00:11:18,089:INFO:fold krclpryy_4_0: adding lower bound 0.04324324324324322 for bacc\n",
      "2023-08-27 00:11:18,091:INFO:fold krclpryy_4_0: adding upper bound 0.44324324324324327 for bacc\n",
      "2023-08-27 00:11:18,092:INFO:fold krclpryy_4_1: adding lower bound 0.6260869565217391 for acc\n",
      "2023-08-27 00:11:18,095:INFO:fold krclpryy_4_1: adding upper bound 1.0 for acc\n",
      "2023-08-27 00:11:18,096:INFO:fold krclpryy_4_1: adding lower bound 0.8 for sens\n",
      "2023-08-27 00:11:18,098:INFO:fold krclpryy_4_1: adding upper bound 1.0 for sens\n",
      "2023-08-27 00:11:18,099:INFO:fold krclpryy_4_1: adding lower bound 0.6198198198198197 for spec\n",
      "2023-08-27 00:11:18,100:INFO:fold krclpryy_4_1: adding upper bound 1.0 for spec\n",
      "2023-08-27 00:11:18,101:INFO:fold krclpryy_4_1: adding lower bound 0.70990990990991 for bacc\n",
      "2023-08-27 00:11:18,105:INFO:fold krclpryy_4_1: adding upper bound 1.0 for bacc\n",
      "2023-08-27 00:11:18,106:INFO:fold krclpryy_4_2: adding lower bound 0.5368421052631578 for acc\n",
      "2023-08-27 00:11:18,107:INFO:fold krclpryy_4_2: adding upper bound 0.9368421052631579 for acc\n",
      "2023-08-27 00:11:18,111:INFO:fold krclpryy_4_2: adding lower bound 0.8 for sens\n",
      "2023-08-27 00:11:18,112:INFO:fold krclpryy_4_2: adding upper bound 1.0 for sens\n",
      "2023-08-27 00:11:18,113:INFO:fold krclpryy_4_2: adding lower bound 0.5297297297297296 for spec\n",
      "2023-08-27 00:11:18,114:INFO:fold krclpryy_4_2: adding upper bound 0.9297297297297298 for spec\n",
      "2023-08-27 00:11:18,115:INFO:fold krclpryy_4_2: adding lower bound 0.664864864864865 for bacc\n",
      "2023-08-27 00:11:18,115:INFO:fold krclpryy_4_2: adding upper bound 1.0 for bacc\n",
      "2023-08-27 00:11:18,116:INFO:fold krclpryy_4_3: adding lower bound 0.4228070175438596 for acc\n",
      "2023-08-27 00:11:18,117:INFO:fold krclpryy_4_3: adding upper bound 0.8228070175438595 for acc\n",
      "2023-08-27 00:11:18,118:INFO:fold krclpryy_4_3: adding lower bound 0.3 for sens\n",
      "2023-08-27 00:11:18,119:INFO:fold krclpryy_4_3: adding upper bound 0.7 for sens\n",
      "2023-08-27 00:11:18,120:INFO:fold krclpryy_4_3: adding lower bound 0.4272727272727272 for spec\n",
      "2023-08-27 00:11:18,120:INFO:fold krclpryy_4_3: adding upper bound 0.8272727272727272 for spec\n",
      "2023-08-27 00:11:18,121:INFO:fold krclpryy_4_3: adding lower bound 0.3636363636363636 for bacc\n",
      "2023-08-27 00:11:18,122:INFO:fold krclpryy_4_3: adding upper bound 0.7636363636363637 for bacc\n",
      "2023-08-27 00:11:18,127:INFO:fold krclpryy_4_4: adding lower bound 0.29122807017543856 for acc\n",
      "2023-08-27 00:11:18,129:INFO:fold krclpryy_4_4: adding upper bound 0.6912280701754385 for acc\n",
      "2023-08-27 00:11:18,130:INFO:fold krclpryy_4_4: adding lower bound 0.8 for sens\n",
      "2023-08-27 00:11:18,134:INFO:fold krclpryy_4_4: adding upper bound 1.0 for sens\n",
      "2023-08-27 00:11:18,136:INFO:fold krclpryy_4_4: adding lower bound 0.2727272727272727 for spec\n",
      "2023-08-27 00:11:18,136:INFO:fold krclpryy_4_4: adding upper bound 0.6727272727272727 for spec\n",
      "2023-08-27 00:11:18,137:INFO:fold krclpryy_4_4: adding lower bound 0.5363636363636364 for bacc\n",
      "2023-08-27 00:11:18,138:INFO:fold krclpryy_4_4: adding upper bound 0.9363636363636363 for bacc\n",
      "2023-08-27 00:11:18,139:INFO:fold krclpryy_4_5: adding lower bound 0.16842105263157892 for acc\n",
      "2023-08-27 00:11:18,139:INFO:fold krclpryy_4_5: adding upper bound 0.5684210526315789 for acc\n",
      "2023-08-27 00:11:18,140:INFO:fold krclpryy_4_5: adding lower bound 0.04999999999999999 for sens\n",
      "2023-08-27 00:11:18,141:INFO:fold krclpryy_4_5: adding upper bound 0.45 for sens\n",
      "2023-08-27 00:11:18,141:INFO:fold krclpryy_4_5: adding lower bound 0.17272727272727267 for spec\n",
      "2023-08-27 00:11:18,145:INFO:fold krclpryy_4_5: adding upper bound 0.5727272727272728 for spec\n",
      "2023-08-27 00:11:18,145:INFO:fold krclpryy_4_5: adding lower bound 0.11136363636363633 for bacc\n",
      "2023-08-27 00:11:18,147:INFO:fold krclpryy_4_5: adding upper bound 0.5113636363636364 for bacc\n",
      "2023-08-27 00:11:18,149:INFO:fold krclpryy_4_6: adding lower bound 0.37894736842105264 for acc\n",
      "2023-08-27 00:11:18,151:INFO:fold krclpryy_4_6: adding upper bound 0.7789473684210526 for acc\n",
      "2023-08-27 00:11:18,152:INFO:fold krclpryy_4_6: adding lower bound 0.3 for sens\n",
      "2023-08-27 00:11:18,153:INFO:fold krclpryy_4_6: adding upper bound 0.7 for sens\n",
      "2023-08-27 00:11:18,155:INFO:fold krclpryy_4_6: adding lower bound 0.3818181818181818 for spec\n",
      "2023-08-27 00:11:18,157:INFO:fold krclpryy_4_6: adding upper bound 0.7818181818181817 for spec\n",
      "2023-08-27 00:11:18,158:INFO:fold krclpryy_4_6: adding lower bound 0.3409090909090909 for bacc\n",
      "2023-08-27 00:11:18,160:INFO:fold krclpryy_4_6: adding upper bound 0.740909090909091 for bacc\n",
      "2023-08-27 00:11:18,161:INFO:fold krclpryy_4_7: adding lower bound 0.37894736842105264 for acc\n",
      "2023-08-27 00:11:18,162:INFO:fold krclpryy_4_7: adding upper bound 0.7789473684210526 for acc\n",
      "2023-08-27 00:11:18,163:INFO:fold krclpryy_4_7: adding lower bound 0.8 for sens\n",
      "2023-08-27 00:11:18,163:INFO:fold krclpryy_4_7: adding upper bound 1.0 for sens\n",
      "2023-08-27 00:11:18,164:INFO:fold krclpryy_4_7: adding lower bound 0.3636363636363636 for spec\n",
      "2023-08-27 00:11:18,165:INFO:fold krclpryy_4_7: adding upper bound 0.7636363636363637 for spec\n",
      "2023-08-27 00:11:18,165:INFO:fold krclpryy_4_7: adding lower bound 0.5818181818181818 for bacc\n",
      "2023-08-27 00:11:18,166:INFO:fold krclpryy_4_7: adding upper bound 0.9818181818181817 for bacc\n",
      "2023-08-27 00:11:18,167:INFO:fold krclpryy_4_8: adding lower bound 0.0 for acc\n",
      "2023-08-27 00:11:18,167:INFO:fold krclpryy_4_8: adding upper bound 0.32280701754385965 for acc\n",
      "2023-08-27 00:11:18,168:INFO:fold krclpryy_4_8: adding lower bound 0.3 for sens\n",
      "2023-08-27 00:11:18,169:INFO:fold krclpryy_4_8: adding upper bound 0.7 for sens\n",
      "2023-08-27 00:11:18,170:INFO:fold krclpryy_4_8: adding lower bound 0.0 for spec\n",
      "2023-08-27 00:11:18,170:INFO:fold krclpryy_4_8: adding upper bound 0.3090909090909091 for spec\n",
      "2023-08-27 00:11:18,171:INFO:fold krclpryy_4_8: adding lower bound 0.10454545454545455 for bacc\n",
      "2023-08-27 00:11:18,172:INFO:fold krclpryy_4_8: adding upper bound 0.5045454545454546 for bacc\n",
      "2023-08-27 00:11:18,173:INFO:fold krclpryy_4_9: adding lower bound 0.09824561403508769 for acc\n",
      "2023-08-27 00:11:18,181:INFO:fold krclpryy_4_9: adding upper bound 0.4982456140350877 for acc\n",
      "2023-08-27 00:11:18,182:INFO:fold krclpryy_4_9: adding lower bound 0.0 for sens\n",
      "2023-08-27 00:11:18,183:INFO:fold krclpryy_4_9: adding upper bound 0.2 for sens\n",
      "2023-08-27 00:11:18,184:INFO:fold krclpryy_4_9: adding lower bound 0.10909090909090907 for spec\n",
      "2023-08-27 00:11:18,184:INFO:fold krclpryy_4_9: adding upper bound 0.509090909090909 for spec\n",
      "2023-08-27 00:11:18,185:INFO:fold krclpryy_4_9: adding lower bound 0.0 for bacc\n",
      "2023-08-27 00:11:18,210:INFO:fold krclpryy_4_9: adding upper bound 0.35454545454545455 for bacc\n",
      "2023-08-27 00:11:18,211:INFO:fold krclpryy_4_10: adding lower bound 0.7561403508771929 for acc\n",
      "2023-08-27 00:11:18,212:INFO:fold krclpryy_4_10: adding upper bound 1.0 for acc\n",
      "2023-08-27 00:11:18,213:INFO:fold krclpryy_4_10: adding lower bound 0.55 for sens\n",
      "2023-08-27 00:11:18,214:INFO:fold krclpryy_4_10: adding upper bound 0.95 for sens\n",
      "2023-08-27 00:11:18,215:INFO:fold krclpryy_4_10: adding lower bound 0.7636363636363637 for spec\n",
      "2023-08-27 00:11:18,215:INFO:fold krclpryy_4_10: adding upper bound 1.0 for spec\n",
      "2023-08-27 00:11:18,216:INFO:fold krclpryy_4_10: adding lower bound 0.6568181818181817 for bacc\n",
      "2023-08-27 00:11:18,217:INFO:fold krclpryy_4_10: adding upper bound 1.0 for bacc\n",
      "2023-08-27 00:11:18,218:INFO:fold krclpryy_4_11: adding lower bound 0.6508771929824562 for acc\n",
      "2023-08-27 00:11:18,220:INFO:fold krclpryy_4_11: adding upper bound 1.0 for acc\n",
      "2023-08-27 00:11:18,221:INFO:fold krclpryy_4_11: adding lower bound 0.8 for sens\n",
      "2023-08-27 00:11:18,222:INFO:fold krclpryy_4_11: adding upper bound 1.0 for sens\n",
      "2023-08-27 00:11:18,222:INFO:fold krclpryy_4_11: adding lower bound 0.6454545454545455 for spec\n",
      "2023-08-27 00:11:18,223:INFO:fold krclpryy_4_11: adding upper bound 1.0 for spec\n",
      "2023-08-27 00:11:18,223:INFO:fold krclpryy_4_11: adding lower bound 0.7227272727272727 for bacc\n",
      "2023-08-27 00:11:18,225:INFO:fold krclpryy_4_11: adding upper bound 1.0 for bacc\n",
      "2023-08-27 00:11:18,226:INFO:fold krclpryy_4_12: adding lower bound 0.0 for acc\n",
      "2023-08-27 00:11:18,227:INFO:fold krclpryy_4_12: adding upper bound 0.3666666666666667 for acc\n",
      "2023-08-27 00:11:18,228:INFO:fold krclpryy_4_12: adding lower bound 0.3 for sens\n",
      "2023-08-27 00:11:18,236:INFO:fold krclpryy_4_12: adding upper bound 0.7 for sens\n",
      "2023-08-27 00:11:18,237:INFO:fold krclpryy_4_12: adding lower bound 0.0 for spec\n",
      "2023-08-27 00:11:18,249:INFO:fold krclpryy_4_12: adding upper bound 0.35454545454545455 for spec\n",
      "2023-08-27 00:11:18,250:INFO:fold krclpryy_4_12: adding lower bound 0.12727272727272726 for bacc\n",
      "2023-08-27 00:11:18,251:INFO:fold krclpryy_4_12: adding upper bound 0.5272727272727273 for bacc\n",
      "2023-08-27 00:11:18,252:INFO:fold krclpryy_5_0: adding lower bound 0.2782608695652174 for acc\n",
      "2023-08-27 00:11:18,252:INFO:fold krclpryy_5_0: adding upper bound 0.6782608695652175 for acc\n",
      "2023-08-27 00:11:18,253:INFO:fold krclpryy_5_0: adding lower bound 0.04999999999999999 for sens\n",
      "2023-08-27 00:11:18,254:INFO:fold krclpryy_5_0: adding upper bound 0.45 for sens\n",
      "2023-08-27 00:11:18,255:INFO:fold krclpryy_5_0: adding lower bound 0.28648648648648645 for spec\n",
      "2023-08-27 00:11:18,266:INFO:fold krclpryy_5_0: adding upper bound 0.6864864864864865 for spec\n",
      "2023-08-27 00:11:18,268:INFO:fold krclpryy_5_0: adding lower bound 0.1682432432432432 for bacc\n",
      "2023-08-27 00:11:18,268:INFO:fold krclpryy_5_0: adding upper bound 0.5682432432432432 for bacc\n",
      "2023-08-27 00:11:18,269:INFO:fold krclpryy_5_1: adding lower bound 0.7478260869565216 for acc\n",
      "2023-08-27 00:11:18,274:INFO:fold krclpryy_5_1: adding upper bound 1.0 for acc\n",
      "2023-08-27 00:11:18,275:INFO:fold krclpryy_5_1: adding lower bound 0.8 for sens\n",
      "2023-08-27 00:11:18,275:INFO:fold krclpryy_5_1: adding upper bound 1.0 for sens\n",
      "2023-08-27 00:11:18,276:INFO:fold krclpryy_5_1: adding lower bound 0.7459459459459459 for spec\n",
      "2023-08-27 00:11:18,277:INFO:fold krclpryy_5_1: adding upper bound 1.0 for spec\n",
      "2023-08-27 00:11:18,277:INFO:fold krclpryy_5_1: adding lower bound 0.7729729729729731 for bacc\n",
      "2023-08-27 00:11:18,278:INFO:fold krclpryy_5_1: adding upper bound 1.0 for bacc\n",
      "2023-08-27 00:11:18,279:INFO:fold krclpryy_5_2: adding lower bound 0.607017543859649 for acc\n",
      "2023-08-27 00:11:18,280:INFO:fold krclpryy_5_2: adding upper bound 1.0 for acc\n",
      "2023-08-27 00:11:18,280:INFO:fold krclpryy_5_2: adding lower bound 0.0 for sens\n",
      "2023-08-27 00:11:18,281:INFO:fold krclpryy_5_2: adding upper bound 0.2 for sens\n",
      "2023-08-27 00:11:18,282:INFO:fold krclpryy_5_2: adding lower bound 0.6288288288288288 for spec\n",
      "2023-08-27 00:11:18,282:INFO:fold krclpryy_5_2: adding upper bound 1.0 for spec\n",
      "2023-08-27 00:11:18,283:INFO:fold krclpryy_5_2: adding lower bound 0.2144144144144144 for bacc\n",
      "2023-08-27 00:11:18,284:INFO:fold krclpryy_5_2: adding upper bound 0.6144144144144144 for bacc\n",
      "2023-08-27 00:11:18,285:INFO:fold krclpryy_5_3: adding lower bound 0.5719298245614035 for acc\n",
      "2023-08-27 00:11:18,285:INFO:fold krclpryy_5_3: adding upper bound 0.9719298245614034 for acc\n",
      "2023-08-27 00:11:18,288:INFO:fold krclpryy_5_3: adding lower bound 0.04999999999999999 for sens\n",
      "2023-08-27 00:11:18,289:INFO:fold krclpryy_5_3: adding upper bound 0.45 for sens\n",
      "2023-08-27 00:11:18,290:INFO:fold krclpryy_5_3: adding lower bound 0.5909090909090908 for spec\n",
      "2023-08-27 00:11:18,290:INFO:fold krclpryy_5_3: adding upper bound 0.990909090909091 for spec\n",
      "2023-08-27 00:11:18,291:INFO:fold krclpryy_5_3: adding lower bound 0.3204545454545455 for bacc\n",
      "2023-08-27 00:11:18,292:INFO:fold krclpryy_5_3: adding upper bound 0.7204545454545455 for bacc\n",
      "2023-08-27 00:11:18,292:INFO:fold krclpryy_5_4: adding lower bound 0.6333333333333333 for acc\n",
      "2023-08-27 00:11:18,293:INFO:fold krclpryy_5_4: adding upper bound 1.0 for acc\n",
      "2023-08-27 00:11:18,294:INFO:fold krclpryy_5_4: adding lower bound 0.8 for sens\n",
      "2023-08-27 00:11:18,294:INFO:fold krclpryy_5_4: adding upper bound 1.0 for sens\n",
      "2023-08-27 00:11:18,295:INFO:fold krclpryy_5_4: adding lower bound 0.6272727272727272 for spec\n",
      "2023-08-27 00:11:18,295:INFO:fold krclpryy_5_4: adding upper bound 1.0 for spec\n",
      "2023-08-27 00:11:18,295:INFO:fold krclpryy_5_4: adding lower bound 0.7136363636363636 for bacc\n",
      "2023-08-27 00:11:18,296:INFO:fold krclpryy_5_4: adding upper bound 1.0 for bacc\n",
      "2023-08-27 00:11:18,297:INFO:fold krclpryy_5_5: adding lower bound 0.7561403508771929 for acc\n",
      "2023-08-27 00:11:18,297:INFO:fold krclpryy_5_5: adding upper bound 1.0 for acc\n",
      "2023-08-27 00:11:18,298:INFO:fold krclpryy_5_5: adding lower bound 0.8 for sens\n",
      "2023-08-27 00:11:18,298:INFO:fold krclpryy_5_5: adding upper bound 1.0 for sens\n",
      "2023-08-27 00:11:18,299:INFO:fold krclpryy_5_5: adding lower bound 0.7545454545454544 for spec\n",
      "2023-08-27 00:11:18,299:INFO:fold krclpryy_5_5: adding upper bound 1.0 for spec\n",
      "2023-08-27 00:11:18,300:INFO:fold krclpryy_5_5: adding lower bound 0.7772727272727273 for bacc\n",
      "2023-08-27 00:11:18,301:INFO:fold krclpryy_5_5: adding upper bound 1.0 for bacc\n",
      "2023-08-27 00:11:18,301:INFO:fold krclpryy_5_6: adding lower bound 0.0 for acc\n",
      "2023-08-27 00:11:18,302:INFO:fold krclpryy_5_6: adding upper bound 0.2789473684210526 for acc\n",
      "2023-08-27 00:11:18,303:INFO:fold krclpryy_5_6: adding lower bound 0.55 for sens\n",
      "2023-08-27 00:11:18,303:INFO:fold krclpryy_5_6: adding upper bound 0.95 for sens\n",
      "2023-08-27 00:11:18,304:INFO:fold krclpryy_5_6: adding lower bound 0.0 for spec\n",
      "2023-08-27 00:11:18,304:INFO:fold krclpryy_5_6: adding upper bound 0.2545454545454546 for spec\n",
      "2023-08-27 00:11:18,305:INFO:fold krclpryy_5_6: adding lower bound 0.20227272727272727 for bacc\n",
      "2023-08-27 00:11:18,306:INFO:fold krclpryy_5_6: adding upper bound 0.6022727272727273 for bacc\n",
      "2023-08-27 00:11:18,306:INFO:fold krclpryy_5_7: adding lower bound 0.6508771929824562 for acc\n",
      "2023-08-27 00:11:18,307:INFO:fold krclpryy_5_7: adding upper bound 1.0 for acc\n",
      "2023-08-27 00:11:18,308:INFO:fold krclpryy_5_7: adding lower bound 0.0 for sens\n",
      "2023-08-27 00:11:18,309:INFO:fold krclpryy_5_7: adding upper bound 0.2 for sens\n",
      "2023-08-27 00:11:18,310:INFO:fold krclpryy_5_7: adding lower bound 0.6818181818181817 for spec\n",
      "2023-08-27 00:11:18,310:INFO:fold krclpryy_5_7: adding upper bound 1.0 for spec\n",
      "2023-08-27 00:11:18,313:INFO:fold krclpryy_5_7: adding lower bound 0.24090909090909085 for bacc\n",
      "2023-08-27 00:11:18,314:INFO:fold krclpryy_5_7: adding upper bound 0.6409090909090909 for bacc\n",
      "2023-08-27 00:11:18,315:INFO:fold krclpryy_5_8: adding lower bound 0.6333333333333333 for acc\n",
      "2023-08-27 00:11:18,316:INFO:fold krclpryy_5_8: adding upper bound 1.0 for acc\n",
      "2023-08-27 00:11:18,316:INFO:fold krclpryy_5_8: adding lower bound 0.55 for sens\n",
      "2023-08-27 00:11:18,317:INFO:fold krclpryy_5_8: adding upper bound 0.95 for sens\n",
      "2023-08-27 00:11:18,318:INFO:fold krclpryy_5_8: adding lower bound 0.6363636363636362 for spec\n",
      "2023-08-27 00:11:18,319:INFO:fold krclpryy_5_8: adding upper bound 1.0 for spec\n",
      "2023-08-27 00:11:18,320:INFO:fold krclpryy_5_8: adding lower bound 0.5931818181818183 for bacc\n",
      "2023-08-27 00:11:18,323:INFO:fold krclpryy_5_8: adding upper bound 0.9931818181818182 for bacc\n",
      "2023-08-27 00:11:18,324:INFO:fold krclpryy_5_9: adding lower bound 0.24736842105263152 for acc\n",
      "2023-08-27 00:11:18,325:INFO:fold krclpryy_5_9: adding upper bound 0.6473684210526316 for acc\n",
      "2023-08-27 00:11:18,325:INFO:fold krclpryy_5_9: adding lower bound 0.0 for sens\n",
      "2023-08-27 00:11:18,326:INFO:fold krclpryy_5_9: adding upper bound 0.2 for sens\n",
      "2023-08-27 00:11:18,327:INFO:fold krclpryy_5_9: adding lower bound 0.2636363636363636 for spec\n",
      "2023-08-27 00:11:18,329:INFO:fold krclpryy_5_9: adding upper bound 0.6636363636363636 for spec\n",
      "2023-08-27 00:11:18,331:INFO:fold krclpryy_5_9: adding lower bound 0.0318181818181818 for bacc\n",
      "2023-08-27 00:11:18,331:INFO:fold krclpryy_5_9: adding upper bound 0.4318181818181818 for bacc\n",
      "2023-08-27 00:11:18,346:INFO:fold krclpryy_5_10: adding lower bound 0.0 for acc\n",
      "2023-08-27 00:11:18,349:INFO:fold krclpryy_5_10: adding upper bound 0.3140350877192982 for acc\n",
      "2023-08-27 00:11:18,351:INFO:fold krclpryy_5_10: adding lower bound 0.04999999999999999 for sens\n",
      "2023-08-27 00:11:18,351:INFO:fold krclpryy_5_10: adding upper bound 0.45 for sens\n",
      "2023-08-27 00:11:18,352:INFO:fold krclpryy_5_10: adding lower bound 0.0 for spec\n",
      "2023-08-27 00:11:18,353:INFO:fold krclpryy_5_10: adding upper bound 0.3090909090909091 for spec\n",
      "2023-08-27 00:11:18,353:INFO:fold krclpryy_5_10: adding lower bound 0.0 for bacc\n",
      "2023-08-27 00:11:18,354:INFO:fold krclpryy_5_10: adding upper bound 0.3795454545454545 for bacc\n",
      "2023-08-27 00:11:18,354:INFO:fold krclpryy_5_11: adding lower bound 0.7912280701754386 for acc\n",
      "2023-08-27 00:11:18,355:INFO:fold krclpryy_5_11: adding upper bound 1.0 for acc\n",
      "2023-08-27 00:11:18,356:INFO:fold krclpryy_5_11: adding lower bound 0.8 for sens\n",
      "2023-08-27 00:11:18,357:INFO:fold krclpryy_5_11: adding upper bound 1.0 for sens\n",
      "2023-08-27 00:11:18,357:INFO:fold krclpryy_5_11: adding lower bound 0.7909090909090908 for spec\n",
      "2023-08-27 00:11:18,358:INFO:fold krclpryy_5_11: adding upper bound 1.0 for spec\n",
      "2023-08-27 00:11:18,359:INFO:fold krclpryy_5_11: adding lower bound 0.7954545454545454 for bacc\n",
      "2023-08-27 00:11:18,362:INFO:fold krclpryy_5_11: adding upper bound 1.0 for bacc\n",
      "2023-08-27 00:11:18,363:INFO:fold krclpryy_5_12: adding lower bound 0.4578947368421052 for acc\n",
      "2023-08-27 00:11:18,364:INFO:fold krclpryy_5_12: adding upper bound 0.8578947368421053 for acc\n",
      "2023-08-27 00:11:18,365:INFO:fold krclpryy_5_12: adding lower bound 0.8 for sens\n",
      "2023-08-27 00:11:18,366:INFO:fold krclpryy_5_12: adding upper bound 1.0 for sens\n",
      "2023-08-27 00:11:18,366:INFO:fold krclpryy_5_12: adding lower bound 0.4454545454545454 for spec\n",
      "2023-08-27 00:11:18,367:INFO:fold krclpryy_5_12: adding upper bound 0.8454545454545455 for spec\n",
      "2023-08-27 00:11:18,368:INFO:fold krclpryy_5_12: adding lower bound 0.6227272727272728 for bacc\n",
      "2023-08-27 00:11:18,369:INFO:fold krclpryy_5_12: adding upper bound 1.0 for bacc\n",
      "2023-08-27 00:11:18,370:INFO:fold krclpryy_6_0: adding lower bound 0.17391304347826086 for acc\n",
      "2023-08-27 00:11:18,370:INFO:fold krclpryy_6_0: adding upper bound 0.5739130434782609 for acc\n",
      "2023-08-27 00:11:18,371:INFO:fold krclpryy_6_0: adding lower bound 0.3 for sens\n",
      "2023-08-27 00:11:18,372:INFO:fold krclpryy_6_0: adding upper bound 0.7 for sens\n",
      "2023-08-27 00:11:18,373:INFO:fold krclpryy_6_0: adding lower bound 0.16936936936936936 for spec\n",
      "2023-08-27 00:11:18,373:INFO:fold krclpryy_6_0: adding upper bound 0.5693693693693693 for spec\n",
      "2023-08-27 00:11:18,374:INFO:fold krclpryy_6_0: adding lower bound 0.23468468468468467 for bacc\n",
      "2023-08-27 00:11:18,375:INFO:fold krclpryy_6_0: adding upper bound 0.6346846846846848 for bacc\n",
      "2023-08-27 00:11:18,376:INFO:fold krclpryy_6_1: adding lower bound 0.3391304347826087 for acc\n",
      "2023-08-27 00:11:18,376:INFO:fold krclpryy_6_1: adding upper bound 0.7391304347826086 for acc\n",
      "2023-08-27 00:11:18,377:INFO:fold krclpryy_6_1: adding lower bound 0.55 for sens\n",
      "2023-08-27 00:11:18,378:INFO:fold krclpryy_6_1: adding upper bound 0.95 for sens\n",
      "2023-08-27 00:11:18,378:INFO:fold krclpryy_6_1: adding lower bound 0.33153153153153153 for spec\n",
      "2023-08-27 00:11:18,383:INFO:fold krclpryy_6_1: adding upper bound 0.7315315315315316 for spec\n",
      "2023-08-27 00:11:18,384:INFO:fold krclpryy_6_1: adding lower bound 0.4407657657657657 for bacc\n",
      "2023-08-27 00:11:18,385:INFO:fold krclpryy_6_1: adding upper bound 0.8407657657657657 for bacc\n",
      "2023-08-27 00:11:18,385:INFO:fold krclpryy_6_2: adding lower bound 0.3701754385964912 for acc\n",
      "2023-08-27 00:11:18,386:INFO:fold krclpryy_6_2: adding upper bound 0.7701754385964912 for acc\n",
      "2023-08-27 00:11:18,387:INFO:fold krclpryy_6_2: adding lower bound 0.4666666666666666 for sens\n",
      "2023-08-27 00:11:18,388:INFO:fold krclpryy_6_2: adding upper bound 0.8666666666666667 for sens\n",
      "2023-08-27 00:11:18,389:INFO:fold krclpryy_6_2: adding lower bound 0.36756756756756753 for spec\n",
      "2023-08-27 00:11:18,389:INFO:fold krclpryy_6_2: adding upper bound 0.7675675675675675 for spec\n",
      "2023-08-27 00:11:18,391:INFO:fold krclpryy_6_2: adding lower bound 0.417117117117117 for bacc\n",
      "2023-08-27 00:11:18,392:INFO:fold krclpryy_6_2: adding upper bound 0.817117117117117 for bacc\n",
      "2023-08-27 00:11:18,393:INFO:fold krclpryy_6_3: adding lower bound 0.0 for acc\n",
      "2023-08-27 00:11:18,394:INFO:fold krclpryy_6_3: adding upper bound 0.37543859649122807 for acc\n",
      "2023-08-27 00:11:18,395:INFO:fold krclpryy_6_3: adding lower bound 0.8 for sens\n",
      "2023-08-27 00:11:18,396:INFO:fold krclpryy_6_3: adding upper bound 1.0 for sens\n",
      "2023-08-27 00:11:18,397:INFO:fold krclpryy_6_3: adding lower bound 0.0 for spec\n",
      "2023-08-27 00:11:18,397:INFO:fold krclpryy_6_3: adding upper bound 0.34545454545454546 for spec\n",
      "2023-08-27 00:11:18,398:INFO:fold krclpryy_6_3: adding lower bound 0.37272727272727274 for bacc\n",
      "2023-08-27 00:11:18,399:INFO:fold krclpryy_6_3: adding upper bound 0.7727272727272727 for bacc\n",
      "2023-08-27 00:11:18,400:INFO:fold krclpryy_6_4: adding lower bound 0.5017543859649123 for acc\n",
      "2023-08-27 00:11:18,401:INFO:fold krclpryy_6_4: adding upper bound 0.9017543859649122 for acc\n",
      "2023-08-27 00:11:18,402:INFO:fold krclpryy_6_4: adding lower bound 0.55 for sens\n",
      "2023-08-27 00:11:18,402:INFO:fold krclpryy_6_4: adding upper bound 0.95 for sens\n",
      "2023-08-27 00:11:18,403:INFO:fold krclpryy_6_4: adding lower bound 0.49999999999999994 for spec\n",
      "2023-08-27 00:11:18,404:INFO:fold krclpryy_6_4: adding upper bound 0.8999999999999999 for spec\n",
      "2023-08-27 00:11:18,405:INFO:fold krclpryy_6_4: adding lower bound 0.5249999999999999 for bacc\n",
      "2023-08-27 00:11:18,405:INFO:fold krclpryy_6_4: adding upper bound 0.925 for bacc\n",
      "2023-08-27 00:11:18,406:INFO:fold krclpryy_6_5: adding lower bound 0.5631578947368421 for acc\n",
      "2023-08-27 00:11:18,407:INFO:fold krclpryy_6_5: adding upper bound 0.963157894736842 for acc\n",
      "2023-08-27 00:11:18,408:INFO:fold krclpryy_6_5: adding lower bound 0.0 for sens\n",
      "2023-08-27 00:11:18,408:INFO:fold krclpryy_6_5: adding upper bound 0.2 for sens\n",
      "2023-08-27 00:11:18,412:INFO:fold krclpryy_6_5: adding lower bound 0.5909090909090908 for spec\n",
      "2023-08-27 00:11:18,413:INFO:fold krclpryy_6_5: adding upper bound 0.990909090909091 for spec\n",
      "2023-08-27 00:11:18,414:INFO:fold krclpryy_6_5: adding lower bound 0.19545454545454544 for bacc\n",
      "2023-08-27 00:11:18,415:INFO:fold krclpryy_6_5: adding upper bound 0.5954545454545455 for bacc\n",
      "2023-08-27 00:11:18,415:INFO:fold krclpryy_6_6: adding lower bound 0.20350877192982453 for acc\n",
      "2023-08-27 00:11:18,416:INFO:fold krclpryy_6_6: adding upper bound 0.6035087719298246 for acc\n",
      "2023-08-27 00:11:18,416:INFO:fold krclpryy_6_6: adding lower bound 0.04999999999999999 for sens\n",
      "2023-08-27 00:11:18,417:INFO:fold krclpryy_6_6: adding upper bound 0.45 for sens\n",
      "2023-08-27 00:11:18,417:INFO:fold krclpryy_6_6: adding lower bound 0.20909090909090905 for spec\n",
      "2023-08-27 00:11:18,418:INFO:fold krclpryy_6_6: adding upper bound 0.6090909090909091 for spec\n",
      "2023-08-27 00:11:18,419:INFO:fold krclpryy_6_6: adding lower bound 0.12954545454545452 for bacc\n",
      "2023-08-27 00:11:18,420:INFO:fold krclpryy_6_6: adding upper bound 0.5295454545454545 for bacc\n",
      "2023-08-27 00:11:18,420:INFO:fold krclpryy_6_7: adding lower bound 0.5982456140350876 for acc\n",
      "2023-08-27 00:11:18,421:INFO:fold krclpryy_6_7: adding upper bound 0.9982456140350877 for acc\n",
      "2023-08-27 00:11:18,422:INFO:fold krclpryy_6_7: adding lower bound 0.0 for sens\n",
      "2023-08-27 00:11:18,422:INFO:fold krclpryy_6_7: adding upper bound 0.2 for sens\n",
      "2023-08-27 00:11:18,423:INFO:fold krclpryy_6_7: adding lower bound 0.6272727272727272 for spec\n",
      "2023-08-27 00:11:18,424:INFO:fold krclpryy_6_7: adding upper bound 1.0 for spec\n",
      "2023-08-27 00:11:18,424:INFO:fold krclpryy_6_7: adding lower bound 0.21363636363636362 for bacc\n",
      "2023-08-27 00:11:18,425:INFO:fold krclpryy_6_7: adding upper bound 0.6136363636363636 for bacc\n",
      "2023-08-27 00:11:18,425:INFO:fold krclpryy_6_8: adding lower bound 0.1771929824561403 for acc\n",
      "2023-08-27 00:11:18,426:INFO:fold krclpryy_6_8: adding upper bound 0.5771929824561404 for acc\n",
      "2023-08-27 00:11:18,427:INFO:fold krclpryy_6_8: adding lower bound 0.04999999999999999 for sens\n",
      "2023-08-27 00:11:18,427:INFO:fold krclpryy_6_8: adding upper bound 0.45 for sens\n",
      "2023-08-27 00:11:18,428:INFO:fold krclpryy_6_8: adding lower bound 0.18181818181818177 for spec\n",
      "2023-08-27 00:11:18,429:INFO:fold krclpryy_6_8: adding upper bound 0.5818181818181818 for spec\n",
      "2023-08-27 00:11:18,429:INFO:fold krclpryy_6_8: adding lower bound 0.1159090909090909 for bacc\n",
      "2023-08-27 00:11:18,430:INFO:fold krclpryy_6_8: adding upper bound 0.5159090909090909 for bacc\n",
      "2023-08-27 00:11:18,431:INFO:fold krclpryy_6_9: adding lower bound 0.09824561403508769 for acc\n",
      "2023-08-27 00:11:18,431:INFO:fold krclpryy_6_9: adding upper bound 0.4982456140350877 for acc\n",
      "2023-08-27 00:11:18,432:INFO:fold krclpryy_6_9: adding lower bound 0.0 for sens\n",
      "2023-08-27 00:11:18,432:INFO:fold krclpryy_6_9: adding upper bound 0.2 for sens\n",
      "2023-08-27 00:11:18,433:INFO:fold krclpryy_6_9: adding lower bound 0.10909090909090907 for spec\n",
      "2023-08-27 00:11:18,434:INFO:fold krclpryy_6_9: adding upper bound 0.509090909090909 for spec\n",
      "2023-08-27 00:11:18,434:INFO:fold krclpryy_6_9: adding lower bound 0.0 for bacc\n",
      "2023-08-27 00:11:18,435:INFO:fold krclpryy_6_9: adding upper bound 0.35454545454545455 for bacc\n",
      "2023-08-27 00:11:18,436:INFO:fold krclpryy_6_10: adding lower bound 0.2824561403508771 for acc\n",
      "2023-08-27 00:11:18,436:INFO:fold krclpryy_6_10: adding upper bound 0.6824561403508771 for acc\n",
      "2023-08-27 00:11:18,437:INFO:fold krclpryy_6_10: adding lower bound 0.0 for sens\n",
      "2023-08-27 00:11:18,437:INFO:fold krclpryy_6_10: adding upper bound 0.2 for sens\n",
      "2023-08-27 00:11:18,438:INFO:fold krclpryy_6_10: adding lower bound 0.3 for spec\n",
      "2023-08-27 00:11:18,439:INFO:fold krclpryy_6_10: adding upper bound 0.7 for spec\n",
      "2023-08-27 00:11:18,439:INFO:fold krclpryy_6_10: adding lower bound 0.04999999999999999 for bacc\n",
      "2023-08-27 00:11:18,440:INFO:fold krclpryy_6_10: adding upper bound 0.45 for bacc\n",
      "2023-08-27 00:11:18,440:INFO:fold krclpryy_6_11: adding lower bound 0.0 for acc\n",
      "2023-08-27 00:11:18,441:INFO:fold krclpryy_6_11: adding upper bound 0.29649122807017547 for acc\n",
      "2023-08-27 00:11:18,442:INFO:fold krclpryy_6_11: adding lower bound 0.3 for sens\n",
      "2023-08-27 00:11:18,442:INFO:fold krclpryy_6_11: adding upper bound 0.7 for sens\n",
      "2023-08-27 00:11:18,443:INFO:fold krclpryy_6_11: adding lower bound 0.0 for spec\n",
      "2023-08-27 00:11:18,444:INFO:fold krclpryy_6_11: adding upper bound 0.28181818181818186 for spec\n",
      "2023-08-27 00:11:18,444:INFO:fold krclpryy_6_11: adding lower bound 0.09090909090909088 for bacc\n",
      "2023-08-27 00:11:18,445:INFO:fold krclpryy_6_11: adding upper bound 0.4909090909090909 for bacc\n",
      "2023-08-27 00:11:18,447:INFO:fold krclpryy_6_12: adding lower bound 0.0 for acc\n",
      "2023-08-27 00:11:18,448:INFO:fold krclpryy_6_12: adding upper bound 0.32280701754385965 for acc\n",
      "2023-08-27 00:11:18,449:INFO:fold krclpryy_6_12: adding lower bound 0.04999999999999999 for sens\n",
      "2023-08-27 00:11:18,449:INFO:fold krclpryy_6_12: adding upper bound 0.45 for sens\n",
      "2023-08-27 00:11:18,450:INFO:fold krclpryy_6_12: adding lower bound 0.0 for spec\n",
      "2023-08-27 00:11:18,450:INFO:fold krclpryy_6_12: adding upper bound 0.3181818181818182 for spec\n",
      "2023-08-27 00:11:18,451:INFO:fold krclpryy_6_12: adding lower bound 0.0 for bacc\n",
      "2023-08-27 00:11:18,452:INFO:fold krclpryy_6_12: adding upper bound 0.3840909090909091 for bacc\n",
      "2023-08-27 00:11:18,453:INFO:fold krclpryy_7_0: adding lower bound 0.0 for acc\n",
      "2023-08-27 00:11:18,453:INFO:fold krclpryy_7_0: adding upper bound 0.23478260869565218 for acc\n",
      "2023-08-27 00:11:18,454:INFO:fold krclpryy_7_0: adding lower bound 0.55 for sens\n",
      "2023-08-27 00:11:18,454:INFO:fold krclpryy_7_0: adding upper bound 0.95 for sens\n",
      "2023-08-27 00:11:18,455:INFO:fold krclpryy_7_0: adding lower bound 0.0 for spec\n",
      "2023-08-27 00:11:18,456:INFO:fold krclpryy_7_0: adding upper bound 0.209009009009009 for spec\n",
      "2023-08-27 00:11:18,456:INFO:fold krclpryy_7_0: adding lower bound 0.1795045045045045 for bacc\n",
      "2023-08-27 00:11:18,457:INFO:fold krclpryy_7_0: adding upper bound 0.5795045045045045 for bacc\n",
      "2023-08-27 00:11:18,458:INFO:fold krclpryy_7_1: adding lower bound 0.2173913043478261 for acc\n",
      "2023-08-27 00:11:18,459:INFO:fold krclpryy_7_1: adding upper bound 0.6173913043478261 for acc\n",
      "2023-08-27 00:11:18,459:INFO:fold krclpryy_7_1: adding lower bound 0.0 for sens\n",
      "2023-08-27 00:11:18,460:INFO:fold krclpryy_7_1: adding upper bound 0.2 for sens\n",
      "2023-08-27 00:11:18,460:INFO:fold krclpryy_7_1: adding lower bound 0.23243243243243245 for spec\n",
      "2023-08-27 00:11:18,461:INFO:fold krclpryy_7_1: adding upper bound 0.6324324324324324 for spec\n",
      "2023-08-27 00:11:18,462:INFO:fold krclpryy_7_1: adding lower bound 0.016216216216216217 for bacc\n",
      "2023-08-27 00:11:18,462:INFO:fold krclpryy_7_1: adding upper bound 0.41621621621621624 for bacc\n",
      "2023-08-27 00:11:18,463:INFO:fold krclpryy_7_2: adding lower bound 0.7736842105263158 for acc\n",
      "2023-08-27 00:11:18,464:INFO:fold krclpryy_7_2: adding upper bound 1.0 for acc\n",
      "2023-08-27 00:11:18,465:INFO:fold krclpryy_7_2: adding lower bound 0.1333333333333333 for sens\n",
      "2023-08-27 00:11:18,466:INFO:fold krclpryy_7_2: adding upper bound 0.5333333333333333 for sens\n",
      "2023-08-27 00:11:18,466:INFO:fold krclpryy_7_2: adding lower bound 0.7909909909909909 for spec\n",
      "2023-08-27 00:11:18,468:INFO:fold krclpryy_7_2: adding upper bound 1.0 for spec\n",
      "2023-08-27 00:11:18,468:INFO:fold krclpryy_7_2: adding lower bound 0.46216216216216216 for bacc\n",
      "2023-08-27 00:11:18,469:INFO:fold krclpryy_7_2: adding upper bound 0.8621621621621622 for bacc\n",
      "2023-08-27 00:11:18,470:INFO:fold krclpryy_7_3: adding lower bound 0.5543859649122806 for acc\n",
      "2023-08-27 00:11:18,470:INFO:fold krclpryy_7_3: adding upper bound 0.9543859649122806 for acc\n",
      "2023-08-27 00:11:18,471:INFO:fold krclpryy_7_3: adding lower bound 0.04999999999999999 for sens\n",
      "2023-08-27 00:11:18,472:INFO:fold krclpryy_7_3: adding upper bound 0.45 for sens\n",
      "2023-08-27 00:11:18,472:INFO:fold krclpryy_7_3: adding lower bound 0.5727272727272728 for spec\n",
      "2023-08-27 00:11:18,473:INFO:fold krclpryy_7_3: adding upper bound 0.9727272727272727 for spec\n",
      "2023-08-27 00:11:18,473:INFO:fold krclpryy_7_3: adding lower bound 0.31136363636363634 for bacc\n",
      "2023-08-27 00:11:18,474:INFO:fold krclpryy_7_3: adding upper bound 0.7113636363636364 for bacc\n",
      "2023-08-27 00:11:18,475:INFO:fold krclpryy_7_4: adding lower bound 0.5456140350877192 for acc\n",
      "2023-08-27 00:11:18,476:INFO:fold krclpryy_7_4: adding upper bound 0.9456140350877194 for acc\n",
      "2023-08-27 00:11:18,476:INFO:fold krclpryy_7_4: adding lower bound 0.55 for sens\n",
      "2023-08-27 00:11:18,488:INFO:fold krclpryy_7_4: adding upper bound 0.95 for sens\n",
      "2023-08-27 00:11:18,489:INFO:fold krclpryy_7_4: adding lower bound 0.5454545454545454 for spec\n",
      "2023-08-27 00:11:18,491:INFO:fold krclpryy_7_4: adding upper bound 0.9454545454545453 for spec\n",
      "2023-08-27 00:11:18,496:INFO:fold krclpryy_7_4: adding lower bound 0.5477272727272726 for bacc\n",
      "2023-08-27 00:11:18,497:INFO:fold krclpryy_7_4: adding upper bound 0.9477272727272728 for bacc\n",
      "2023-08-27 00:11:18,498:INFO:fold krclpryy_7_5: adding lower bound 0.47543859649122805 for acc\n",
      "2023-08-27 00:11:18,499:INFO:fold krclpryy_7_5: adding upper bound 0.8754385964912281 for acc\n",
      "2023-08-27 00:11:18,500:INFO:fold krclpryy_7_5: adding lower bound 0.0 for sens\n",
      "2023-08-27 00:11:18,500:INFO:fold krclpryy_7_5: adding upper bound 0.2 for sens\n",
      "2023-08-27 00:11:18,501:INFO:fold krclpryy_7_5: adding lower bound 0.49999999999999994 for spec\n",
      "2023-08-27 00:11:18,502:INFO:fold krclpryy_7_5: adding upper bound 0.8999999999999999 for spec\n",
      "2023-08-27 00:11:18,509:INFO:fold krclpryy_7_5: adding lower bound 0.14999999999999997 for bacc\n",
      "2023-08-27 00:11:18,510:INFO:fold krclpryy_7_5: adding upper bound 0.55 for bacc\n",
      "2023-08-27 00:11:18,511:INFO:fold krclpryy_7_6: adding lower bound 0.0 for acc\n",
      "2023-08-27 00:11:18,512:INFO:fold krclpryy_7_6: adding upper bound 0.30526315789473685 for acc\n",
      "2023-08-27 00:11:18,514:INFO:fold krclpryy_7_6: adding lower bound 0.3 for sens\n",
      "2023-08-27 00:11:18,515:INFO:fold krclpryy_7_6: adding upper bound 0.7 for sens\n",
      "2023-08-27 00:11:18,516:INFO:fold krclpryy_7_6: adding lower bound 0.0 for spec\n",
      "2023-08-27 00:11:18,517:INFO:fold krclpryy_7_6: adding upper bound 0.2909090909090909 for spec\n",
      "2023-08-27 00:11:18,518:INFO:fold krclpryy_7_6: adding lower bound 0.09545454545454546 for bacc\n",
      "2023-08-27 00:11:18,519:INFO:fold krclpryy_7_6: adding upper bound 0.4954545454545455 for bacc\n",
      "2023-08-27 00:11:18,520:INFO:fold krclpryy_7_7: adding lower bound 0.07192982456140345 for acc\n",
      "2023-08-27 00:11:18,521:INFO:fold krclpryy_7_7: adding upper bound 0.4719298245614035 for acc\n",
      "2023-08-27 00:11:18,521:INFO:fold krclpryy_7_7: adding lower bound 0.8 for sens\n",
      "2023-08-27 00:11:18,522:INFO:fold krclpryy_7_7: adding upper bound 1.0 for sens\n",
      "2023-08-27 00:11:18,532:INFO:fold krclpryy_7_7: adding lower bound 0.04545454545454544 for spec\n",
      "2023-08-27 00:11:18,533:INFO:fold krclpryy_7_7: adding upper bound 0.44545454545454544 for spec\n",
      "2023-08-27 00:11:18,534:INFO:fold krclpryy_7_7: adding lower bound 0.4227272727272727 for bacc\n",
      "2023-08-27 00:11:18,535:INFO:fold krclpryy_7_7: adding upper bound 0.8227272727272728 for bacc\n",
      "2023-08-27 00:11:18,536:INFO:fold krclpryy_7_8: adding lower bound 0.0 for acc\n",
      "2023-08-27 00:11:18,536:INFO:fold krclpryy_7_8: adding upper bound 0.30526315789473685 for acc\n",
      "2023-08-27 00:11:18,537:INFO:fold krclpryy_7_8: adding lower bound 0.8 for sens\n",
      "2023-08-27 00:11:18,538:INFO:fold krclpryy_7_8: adding upper bound 1.0 for sens\n",
      "2023-08-27 00:11:18,539:INFO:fold krclpryy_7_8: adding lower bound 0.0 for spec\n",
      "2023-08-27 00:11:18,540:INFO:fold krclpryy_7_8: adding upper bound 0.2727272727272727 for spec\n",
      "2023-08-27 00:11:18,540:INFO:fold krclpryy_7_8: adding lower bound 0.33636363636363636 for bacc\n",
      "2023-08-27 00:11:18,541:INFO:fold krclpryy_7_8: adding upper bound 0.7363636363636363 for bacc\n",
      "2023-08-27 00:11:18,541:INFO:fold krclpryy_7_9: adding lower bound 0.6859649122807017 for acc\n",
      "2023-08-27 00:11:18,542:INFO:fold krclpryy_7_9: adding upper bound 1.0 for acc\n",
      "2023-08-27 00:11:18,542:INFO:fold krclpryy_7_9: adding lower bound 0.04999999999999999 for sens\n",
      "2023-08-27 00:11:18,543:INFO:fold krclpryy_7_9: adding upper bound 0.45 for sens\n",
      "2023-08-27 00:11:18,543:INFO:fold krclpryy_7_9: adding lower bound 0.709090909090909 for spec\n",
      "2023-08-27 00:11:18,544:INFO:fold krclpryy_7_9: adding upper bound 1.0 for spec\n",
      "2023-08-27 00:11:18,544:INFO:fold krclpryy_7_9: adding lower bound 0.3795454545454546 for bacc\n",
      "2023-08-27 00:11:18,545:INFO:fold krclpryy_7_9: adding upper bound 0.7795454545454545 for bacc\n",
      "2023-08-27 00:11:18,545:INFO:fold krclpryy_7_10: adding lower bound 0.19473684210526315 for acc\n",
      "2023-08-27 00:11:18,546:INFO:fold krclpryy_7_10: adding upper bound 0.5947368421052632 for acc\n",
      "2023-08-27 00:11:18,546:INFO:fold krclpryy_7_10: adding lower bound 0.04999999999999999 for sens\n",
      "2023-08-27 00:11:18,547:INFO:fold krclpryy_7_10: adding upper bound 0.45 for sens\n",
      "2023-08-27 00:11:18,547:INFO:fold krclpryy_7_10: adding lower bound 0.19999999999999996 for spec\n",
      "2023-08-27 00:11:18,548:INFO:fold krclpryy_7_10: adding upper bound 0.6 for spec\n",
      "2023-08-27 00:11:18,549:INFO:fold krclpryy_7_10: adding lower bound 0.12499999999999994 for bacc\n",
      "2023-08-27 00:11:18,549:INFO:fold krclpryy_7_10: adding upper bound 0.5249999999999999 for bacc\n",
      "2023-08-27 00:11:18,550:INFO:fold krclpryy_7_11: adding lower bound 0.3 for acc\n",
      "2023-08-27 00:11:18,550:INFO:fold krclpryy_7_11: adding upper bound 0.7 for acc\n",
      "2023-08-27 00:11:18,551:INFO:fold krclpryy_7_11: adding lower bound 0.55 for sens\n",
      "2023-08-27 00:11:18,551:INFO:fold krclpryy_7_11: adding upper bound 0.95 for sens\n",
      "2023-08-27 00:11:18,551:INFO:fold krclpryy_7_11: adding lower bound 0.2909090909090909 for spec\n",
      "2023-08-27 00:11:18,552:INFO:fold krclpryy_7_11: adding upper bound 0.6909090909090909 for spec\n",
      "2023-08-27 00:11:18,553:INFO:fold krclpryy_7_11: adding lower bound 0.42045454545454547 for bacc\n",
      "2023-08-27 00:11:18,553:INFO:fold krclpryy_7_11: adding upper bound 0.8204545454545455 for bacc\n",
      "2023-08-27 00:11:18,554:INFO:fold krclpryy_7_12: adding lower bound 0.6245614035087719 for acc\n",
      "2023-08-27 00:11:18,555:INFO:fold krclpryy_7_12: adding upper bound 1.0 for acc\n",
      "2023-08-27 00:11:18,556:INFO:fold krclpryy_7_12: adding lower bound 0.3 for sens\n",
      "2023-08-27 00:11:18,556:INFO:fold krclpryy_7_12: adding upper bound 0.7 for sens\n",
      "2023-08-27 00:11:18,557:INFO:fold krclpryy_7_12: adding lower bound 0.6363636363636362 for spec\n",
      "2023-08-27 00:11:18,557:INFO:fold krclpryy_7_12: adding upper bound 1.0 for spec\n",
      "2023-08-27 00:11:18,558:INFO:fold krclpryy_7_12: adding lower bound 0.4681818181818182 for bacc\n",
      "2023-08-27 00:11:18,558:INFO:fold krclpryy_7_12: adding upper bound 0.8681818181818182 for bacc\n",
      "2023-08-27 00:11:18,559:INFO:fold krclpryy_8_0: adding lower bound 0.0 for acc\n",
      "2023-08-27 00:11:18,559:INFO:fold krclpryy_8_0: adding upper bound 0.33913043478260874 for acc\n",
      "2023-08-27 00:11:18,560:INFO:fold krclpryy_8_0: adding lower bound 0.04999999999999999 for sens\n",
      "2023-08-27 00:11:18,560:INFO:fold krclpryy_8_0: adding upper bound 0.45 for sens\n",
      "2023-08-27 00:11:18,561:INFO:fold krclpryy_8_0: adding lower bound 0.0 for spec\n",
      "2023-08-27 00:11:18,561:INFO:fold krclpryy_8_0: adding upper bound 0.33513513513513515 for spec\n",
      "2023-08-27 00:11:18,562:INFO:fold krclpryy_8_0: adding lower bound 0.0 for bacc\n",
      "2023-08-27 00:11:18,562:INFO:fold krclpryy_8_0: adding upper bound 0.3925675675675676 for bacc\n",
      "2023-08-27 00:11:18,563:INFO:fold krclpryy_8_1: adding lower bound 0.5130434782608695 for acc\n",
      "2023-08-27 00:11:18,564:INFO:fold krclpryy_8_1: adding upper bound 0.9130434782608696 for acc\n",
      "2023-08-27 00:11:18,564:INFO:fold krclpryy_8_1: adding lower bound 0.0 for sens\n",
      "2023-08-27 00:11:18,565:INFO:fold krclpryy_8_1: adding upper bound 0.2 for sens\n",
      "2023-08-27 00:11:18,565:INFO:fold krclpryy_8_1: adding lower bound 0.5387387387387388 for spec\n",
      "2023-08-27 00:11:18,566:INFO:fold krclpryy_8_1: adding upper bound 0.9387387387387387 for spec\n",
      "2023-08-27 00:11:18,566:INFO:fold krclpryy_8_1: adding lower bound 0.16936936936936936 for bacc\n",
      "2023-08-27 00:11:18,567:INFO:fold krclpryy_8_1: adding upper bound 0.5693693693693693 for bacc\n",
      "2023-08-27 00:11:18,567:INFO:fold krclpryy_8_2: adding lower bound 0.7736842105263158 for acc\n",
      "2023-08-27 00:11:18,568:INFO:fold krclpryy_8_2: adding upper bound 1.0 for acc\n",
      "2023-08-27 00:11:18,568:INFO:fold krclpryy_8_2: adding lower bound 0.8 for sens\n",
      "2023-08-27 00:11:18,569:INFO:fold krclpryy_8_2: adding upper bound 1.0 for sens\n",
      "2023-08-27 00:11:18,570:INFO:fold krclpryy_8_2: adding lower bound 0.7729729729729728 for spec\n",
      "2023-08-27 00:11:18,570:INFO:fold krclpryy_8_2: adding upper bound 1.0 for spec\n",
      "2023-08-27 00:11:18,571:INFO:fold krclpryy_8_2: adding lower bound 0.7864864864864864 for bacc\n",
      "2023-08-27 00:11:18,571:INFO:fold krclpryy_8_2: adding upper bound 1.0 for bacc\n",
      "2023-08-27 00:11:18,577:INFO:fold krclpryy_8_3: adding lower bound 0.3614035087719298 for acc\n",
      "2023-08-27 00:11:18,578:INFO:fold krclpryy_8_3: adding upper bound 0.7614035087719297 for acc\n",
      "2023-08-27 00:11:18,578:INFO:fold krclpryy_8_3: adding lower bound 0.0 for sens\n",
      "2023-08-27 00:11:18,579:INFO:fold krclpryy_8_3: adding upper bound 0.2 for sens\n",
      "2023-08-27 00:11:18,579:INFO:fold krclpryy_8_3: adding lower bound 0.3818181818181818 for spec\n",
      "2023-08-27 00:11:18,580:INFO:fold krclpryy_8_3: adding upper bound 0.7818181818181817 for spec\n",
      "2023-08-27 00:11:18,581:INFO:fold krclpryy_8_3: adding lower bound 0.09090909090909088 for bacc\n",
      "2023-08-27 00:11:18,581:INFO:fold krclpryy_8_3: adding upper bound 0.4909090909090909 for bacc\n",
      "2023-08-27 00:11:18,584:INFO:fold krclpryy_8_4: adding lower bound 0.0 for acc\n",
      "2023-08-27 00:11:18,584:INFO:fold krclpryy_8_4: adding upper bound 0.3140350877192982 for acc\n",
      "2023-08-27 00:11:18,585:INFO:fold krclpryy_8_4: adding lower bound 0.8 for sens\n",
      "2023-08-27 00:11:18,585:INFO:fold krclpryy_8_4: adding upper bound 1.0 for sens\n",
      "2023-08-27 00:11:18,586:INFO:fold krclpryy_8_4: adding lower bound 0.0 for spec\n",
      "2023-08-27 00:11:18,586:INFO:fold krclpryy_8_4: adding upper bound 0.28181818181818186 for spec\n",
      "2023-08-27 00:11:18,587:INFO:fold krclpryy_8_4: adding lower bound 0.3409090909090909 for bacc\n",
      "2023-08-27 00:11:18,587:INFO:fold krclpryy_8_4: adding upper bound 0.740909090909091 for bacc\n",
      "2023-08-27 00:11:18,588:INFO:fold krclpryy_8_5: adding lower bound 0.6596491228070176 for acc\n",
      "2023-08-27 00:11:18,588:INFO:fold krclpryy_8_5: adding upper bound 1.0 for acc\n",
      "2023-08-27 00:11:18,589:INFO:fold krclpryy_8_5: adding lower bound 0.0 for sens\n",
      "2023-08-27 00:11:18,590:INFO:fold krclpryy_8_5: adding upper bound 0.2 for sens\n",
      "2023-08-27 00:11:18,590:INFO:fold krclpryy_8_5: adding lower bound 0.6909090909090909 for spec\n",
      "2023-08-27 00:11:18,591:INFO:fold krclpryy_8_5: adding upper bound 1.0 for spec\n",
      "2023-08-27 00:11:18,592:INFO:fold krclpryy_8_5: adding lower bound 0.24545454545454543 for bacc\n",
      "2023-08-27 00:11:18,593:INFO:fold krclpryy_8_5: adding upper bound 0.6454545454545455 for bacc\n",
      "2023-08-27 00:11:18,599:INFO:fold krclpryy_8_6: adding lower bound 0.1771929824561403 for acc\n",
      "2023-08-27 00:11:18,599:INFO:fold krclpryy_8_6: adding upper bound 0.5771929824561404 for acc\n",
      "2023-08-27 00:11:18,600:INFO:fold krclpryy_8_6: adding lower bound 0.0 for sens\n",
      "2023-08-27 00:11:18,601:INFO:fold krclpryy_8_6: adding upper bound 0.2 for sens\n",
      "2023-08-27 00:11:18,601:INFO:fold krclpryy_8_6: adding lower bound 0.19090909090909086 for spec\n",
      "2023-08-27 00:11:18,601:INFO:fold krclpryy_8_6: adding upper bound 0.5909090909090908 for spec\n",
      "2023-08-27 00:11:18,602:INFO:fold krclpryy_8_6: adding lower bound 0.0 for bacc\n",
      "2023-08-27 00:11:18,607:INFO:fold krclpryy_8_6: adding upper bound 0.39545454545454545 for bacc\n",
      "2023-08-27 00:11:18,608:INFO:fold krclpryy_8_7: adding lower bound 0.7210526315789474 for acc\n",
      "2023-08-27 00:11:18,609:INFO:fold krclpryy_8_7: adding upper bound 1.0 for acc\n",
      "2023-08-27 00:11:18,610:INFO:fold krclpryy_8_7: adding lower bound 0.0 for sens\n",
      "2023-08-27 00:11:18,610:INFO:fold krclpryy_8_7: adding upper bound 0.2 for sens\n",
      "2023-08-27 00:11:18,611:INFO:fold krclpryy_8_7: adding lower bound 0.7545454545454544 for spec\n",
      "2023-08-27 00:11:18,611:INFO:fold krclpryy_8_7: adding upper bound 1.0 for spec\n",
      "2023-08-27 00:11:18,612:INFO:fold krclpryy_8_7: adding lower bound 0.2772727272727272 for bacc\n",
      "2023-08-27 00:11:18,612:INFO:fold krclpryy_8_7: adding upper bound 0.6772727272727272 for bacc\n",
      "2023-08-27 00:11:18,613:INFO:fold krclpryy_8_8: adding lower bound 0.7561403508771929 for acc\n",
      "2023-08-27 00:11:18,613:INFO:fold krclpryy_8_8: adding upper bound 1.0 for acc\n",
      "2023-08-27 00:11:18,614:INFO:fold krclpryy_8_8: adding lower bound 0.55 for sens\n",
      "2023-08-27 00:11:18,615:INFO:fold krclpryy_8_8: adding upper bound 0.95 for sens\n",
      "2023-08-27 00:11:18,615:INFO:fold krclpryy_8_8: adding lower bound 0.7636363636363637 for spec\n",
      "2023-08-27 00:11:18,623:INFO:fold krclpryy_8_8: adding upper bound 1.0 for spec\n",
      "2023-08-27 00:11:18,623:INFO:fold krclpryy_8_8: adding lower bound 0.6568181818181817 for bacc\n",
      "2023-08-27 00:11:18,624:INFO:fold krclpryy_8_8: adding upper bound 1.0 for bacc\n",
      "2023-08-27 00:11:18,624:INFO:fold krclpryy_8_9: adding lower bound 0.1508771929824561 for acc\n",
      "2023-08-27 00:11:18,625:INFO:fold krclpryy_8_9: adding upper bound 0.5508771929824561 for acc\n",
      "2023-08-27 00:11:18,626:INFO:fold krclpryy_8_9: adding lower bound 0.0 for sens\n",
      "2023-08-27 00:11:18,626:INFO:fold krclpryy_8_9: adding upper bound 0.2 for sens\n",
      "2023-08-27 00:11:18,627:INFO:fold krclpryy_8_9: adding lower bound 0.16363636363636364 for spec\n",
      "2023-08-27 00:11:18,627:INFO:fold krclpryy_8_9: adding upper bound 0.5636363636363637 for spec\n",
      "2023-08-27 00:11:18,628:INFO:fold krclpryy_8_9: adding lower bound 0.0 for bacc\n",
      "2023-08-27 00:11:18,628:INFO:fold krclpryy_8_9: adding upper bound 0.38181818181818183 for bacc\n",
      "2023-08-27 00:11:18,629:INFO:fold krclpryy_8_10: adding lower bound 0.44035087719298244 for acc\n",
      "2023-08-27 00:11:18,629:INFO:fold krclpryy_8_10: adding upper bound 0.8403508771929824 for acc\n",
      "2023-08-27 00:11:18,629:INFO:fold krclpryy_8_10: adding lower bound 0.8 for sens\n",
      "2023-08-27 00:11:18,630:INFO:fold krclpryy_8_10: adding upper bound 1.0 for sens\n",
      "2023-08-27 00:11:18,630:INFO:fold krclpryy_8_10: adding lower bound 0.4272727272727272 for spec\n",
      "2023-08-27 00:11:18,631:INFO:fold krclpryy_8_10: adding upper bound 0.8272727272727272 for spec\n",
      "2023-08-27 00:11:18,631:INFO:fold krclpryy_8_10: adding lower bound 0.6136363636363635 for bacc\n",
      "2023-08-27 00:11:18,632:INFO:fold krclpryy_8_10: adding upper bound 1.0 for bacc\n",
      "2023-08-27 00:11:18,632:INFO:fold krclpryy_8_11: adding lower bound 0.7736842105263158 for acc\n",
      "2023-08-27 00:11:18,633:INFO:fold krclpryy_8_11: adding upper bound 1.0 for acc\n",
      "2023-08-27 00:11:18,633:INFO:fold krclpryy_8_11: adding lower bound 0.8 for sens\n",
      "2023-08-27 00:11:18,634:INFO:fold krclpryy_8_11: adding upper bound 1.0 for sens\n",
      "2023-08-27 00:11:18,634:INFO:fold krclpryy_8_11: adding lower bound 0.7727272727272727 for spec\n",
      "2023-08-27 00:11:18,634:INFO:fold krclpryy_8_11: adding upper bound 1.0 for spec\n",
      "2023-08-27 00:11:18,635:INFO:fold krclpryy_8_11: adding lower bound 0.7863636363636364 for bacc\n",
      "2023-08-27 00:11:18,635:INFO:fold krclpryy_8_11: adding upper bound 1.0 for bacc\n",
      "2023-08-27 00:11:18,636:INFO:fold krclpryy_8_12: adding lower bound 0.3438596491228069 for acc\n",
      "2023-08-27 00:11:18,636:INFO:fold krclpryy_8_12: adding upper bound 0.7438596491228069 for acc\n",
      "2023-08-27 00:11:18,637:INFO:fold krclpryy_8_12: adding lower bound 0.04999999999999999 for sens\n",
      "2023-08-27 00:11:18,638:INFO:fold krclpryy_8_12: adding upper bound 0.45 for sens\n",
      "2023-08-27 00:11:18,638:INFO:fold krclpryy_8_12: adding lower bound 0.35454545454545455 for spec\n",
      "2023-08-27 00:11:18,639:INFO:fold krclpryy_8_12: adding upper bound 0.7545454545454546 for spec\n",
      "2023-08-27 00:11:18,639:INFO:fold krclpryy_8_12: adding lower bound 0.20227272727272727 for bacc\n",
      "2023-08-27 00:11:18,639:INFO:fold krclpryy_8_12: adding upper bound 0.6022727272727273 for bacc\n",
      "2023-08-27 00:11:18,641:INFO:dataset krclpryy: adding lower bound 0.3356972885577005 for acc\n",
      "2023-08-27 00:11:18,642:INFO:dataset krclpryy: adding upper bound 0.7356972885577004 for acc\n",
      "2023-08-27 00:11:18,643:INFO:dataset krclpryy: adding lower bound 0.31709401709401713 for sens\n",
      "2023-08-27 00:11:18,644:INFO:dataset krclpryy: adding upper bound 0.7170940170940172 for sens\n",
      "2023-08-27 00:11:18,645:INFO:dataset krclpryy: adding lower bound 0.3363608363608362 for spec\n",
      "2023-08-27 00:11:18,646:INFO:dataset krclpryy: adding upper bound 0.7363608363608363 for spec\n",
      "2023-08-27 00:11:18,647:INFO:dataset krclpryy: adding lower bound 0.32672742672742655 for bacc\n",
      "2023-08-27 00:11:18,647:INFO:dataset krclpryy: adding upper bound 0.7267274267274266 for bacc\n",
      "2023-08-27 00:11:18,649:INFO:None: adding condition acc >= 0.558710\n",
      "2023-08-27 00:11:18,650:INFO:None: adding condition acc <= 0.558710\n",
      "2023-08-27 00:11:18,651:INFO:None: adding condition sens >= 0.542252\n",
      "2023-08-27 00:11:18,652:INFO:None: adding condition sens <= 0.542252\n",
      "2023-08-27 00:11:18,652:INFO:None: adding condition spec >= 0.565403\n",
      "2023-08-27 00:11:18,653:INFO:None: adding condition spec <= 0.565403\n",
      "2023-08-27 00:11:18,653:INFO:None: adding condition bacc >= 0.553827\n",
      "2023-08-27 00:11:18,654:INFO:None: adding condition bacc <= 0.553828\n"
     ]
    },
    {
     "name": "stdout",
     "output_type": "stream",
     "text": [
      "Welcome to the CBC MILP Solver \n",
      "Version: 2.10.3 \n",
      "Build Date: Dec 15 2019 \n",
      "\n",
      "command line - /home/gykovacs/anaconda3/envs/mlscorecheck/lib/python3.10/site-packages/pulp/solverdir/cbc/linux/64/cbc /tmp/291b70ac792c4d8faf5cb68b5adb4dae-pulp.mps sec 1 timeMode elapsed branch printingOptions all solution /tmp/291b70ac792c4d8faf5cb68b5adb4dae-pulp.sol (default strategy 1)\n",
      "At line 2 NAME          MODEL\n",
      "At line 3 ROWS\n",
      "At line 997 COLUMNS\n",
      "At line 5839 RHS\n",
      "At line 6832 BOUNDS\n",
      "At line 7076 ENDATA\n",
      "Problem MODEL has 992 rows, 243 columns and 4356 elements\n",
      "Coin0008I MODEL read with 0 errors\n",
      "seconds was changed from 1e+100 to 1\n",
      "Option for timeMode changed from cpu to elapsed\n",
      "Continuous objective value is 0 - 0.00 seconds\n",
      "Cgl0004I processed model has 4 rows, 125 columns (125 integer (0 of which binary)) and 375 elements\n",
      "Cbc0031I 4 added rows had average density of 109.75\n",
      "Cbc0013I At root node, 4 cuts changed objective from 0 to 0 in 93 passes\n",
      "Cbc0014I Cut generator 0 (Probing) - 0 row cuts average 0.0 elements, 0 column cuts (0 active)  in 0.004 seconds - new frequency is -100\n",
      "Cbc0014I Cut generator 1 (Gomory) - 214 row cuts average 116.4 elements, 0 column cuts (0 active)  in 0.004 seconds - new frequency is -100\n",
      "Cbc0014I Cut generator 2 (Knapsack) - 0 row cuts average 0.0 elements, 0 column cuts (0 active)  in 0.001 seconds - new frequency is -100\n",
      "Cbc0014I Cut generator 3 (Clique) - 0 row cuts average 0.0 elements, 0 column cuts (0 active)  in 0.000 seconds - new frequency is -100\n",
      "Cbc0014I Cut generator 4 (MixedIntegerRounding2) - 0 row cuts average 0.0 elements, 0 column cuts (0 active)  in 0.002 seconds - new frequency is -100\n",
      "Cbc0014I Cut generator 5 (FlowCover) - 0 row cuts average 0.0 elements, 0 column cuts (0 active)  in 0.002 seconds - new frequency is -100\n",
      "Cbc0014I Cut generator 6 (TwoMirCuts) - 13 row cuts average 97.9 elements, 0 column cuts (0 active)  in 0.001 seconds - new frequency is -100\n",
      "Cbc0010I After 0 nodes, 1 on tree, 1e+50 best solution, best possible 0 (0.06 seconds)\n",
      "Cbc0020I Exiting on maximum time\n",
      "Cbc0005I Partial search - best objective 1e+50 (best possible 0), took 361670 iterations and 153854 nodes (1.00 seconds)\n",
      "Cbc0032I Strong branching done 1250 times (2874 iterations), fathomed 31 nodes and fixed 159 variables\n",
      "Cbc0041I Maximum depth 413, 0 variables fixed on reduced cost (complete fathoming 176 times, 153179 nodes taking 356333 iterations)\n",
      "Cuts at root node changed objective from 0 to 0\n",
      "Probing was tried 93 times and created 0 cuts of which 0 were active after adding rounds of cuts (0.004 seconds)\n",
      "Gomory was tried 93 times and created 214 cuts of which 0 were active after adding rounds of cuts (0.004 seconds)\n",
      "Knapsack was tried 93 times and created 0 cuts of which 0 were active after adding rounds of cuts (0.001 seconds)\n",
      "Clique was tried 93 times and created 0 cuts of which 0 were active after adding rounds of cuts (0.000 seconds)\n",
      "MixedIntegerRounding2 was tried 93 times and created 0 cuts of which 0 were active after adding rounds of cuts (0.002 seconds)\n",
      "FlowCover was tried 93 times and created 0 cuts of which 0 were active after adding rounds of cuts (0.002 seconds)\n",
      "TwoMirCuts was tried 93 times and created 13 cuts of which 0 were active after adding rounds of cuts (0.001 seconds)\n",
      "ZeroHalf was tried 1 times and created 0 cuts of which 0 were active after adding rounds of cuts (0.000 seconds)\n",
      "\n",
      "Result - Stopped on time limit\n",
      "\n",
      "No feasible solution found\n",
      "Lower bound:                    0.000\n",
      "Enumerated nodes:               153854\n",
      "Total iterations:               361670\n",
      "Time (CPU seconds):             0.91\n",
      "Time (Wallclock seconds):       1.00\n",
      "\n",
      "Option for printingOptions changed from normal to all\n",
      "Total time (CPU seconds):       0.92   (Wallclock seconds):       1.00\n",
      "\n",
      "2023-08-27 00:11:19.827584\n"
     ]
    }
   ],
   "source": [
    "experiment_spec = {'aggregation': 'mor',\n",
    "                        'datasets': [generate_dataset_specification(aggregation='mor',\n",
    "                                                                    random_state=idx,\n",
    "                                                                    max_n_folds=20,\n",
    "                                                                    max_n_repeats=20)\n",
    "                                        for idx in range(2)]}\n",
    "print(datetime.datetime.now())\n",
    "experiment = Experiment(**experiment_spec)\n",
    "sample = experiment.sample(random_state=7)\n",
    "\n",
    "print(datetime.datetime.now())\n",
    "\n",
    "scores = sample.calculate_scores(rounding_decimals=7)\n",
    "\n",
    "bounds = sample.get_dataset_fold_bounds(['acc', 'sens', 'spec', 'bacc'], True)\n",
    "experiment = experiment.add_dataset_fold_bounds(bounds)\n",
    "\n",
    "bounds = sample.get_dataset_bounds(['acc', 'sens', 'spec', 'bacc'], True)\n",
    "experiment = experiment.add_dataset_bounds(bounds)\n",
    "\n",
    "print(datetime.datetime.now())\n",
    "\n",
    "flag, details = check_aggregated_scores(experiment.to_dict(problem_only=True),\n",
    "                                        scores,\n",
    "                                        1e-7,\n",
    "                                        return_details=True,\n",
    "                                        timeout=1)\n",
    "\n",
    "print(datetime.datetime.now())"
   ]
  },
  {
   "cell_type": "code",
   "execution_count": 20,
   "metadata": {},
   "outputs": [
    {
     "data": {
      "text/plain": [
       "'timeout'"
      ]
     },
     "execution_count": 20,
     "metadata": {},
     "output_type": "execute_result"
    }
   ],
   "source": [
    "details['lp_status']"
   ]
  },
  {
   "cell_type": "code",
   "execution_count": null,
   "metadata": {},
   "outputs": [],
   "source": []
  },
  {
   "cell_type": "code",
   "execution_count": 2,
   "metadata": {},
   "outputs": [],
   "source": [
    "import pulp as pl"
   ]
  },
  {
   "cell_type": "code",
   "execution_count": 56,
   "metadata": {},
   "outputs": [
    {
     "data": {
      "text/plain": [
       "{0: 'Not Solved',\n",
       " 1: 'Optimal',\n",
       " -1: 'Infeasible',\n",
       " -2: 'Unbounded',\n",
       " -3: 'Undefined'}"
      ]
     },
     "execution_count": 56,
     "metadata": {},
     "output_type": "execute_result"
    }
   ],
   "source": [
    "pl.LpStatus"
   ]
  },
  {
   "cell_type": "code",
   "execution_count": 3,
   "metadata": {},
   "outputs": [
    {
     "data": {
      "text/plain": [
       "['GLPK_CMD', 'PULP_CBC_CMD']"
      ]
     },
     "execution_count": 3,
     "metadata": {},
     "output_type": "execute_result"
    }
   ],
   "source": [
    "pl.listSolvers(onlyAvailable=True)"
   ]
  },
  {
   "cell_type": "code",
   "execution_count": 51,
   "metadata": {},
   "outputs": [],
   "source": [
    "solver = pl.getSolver('PULP_CBC_CMD', timeLimit=5)"
   ]
  },
  {
   "cell_type": "code",
   "execution_count": 52,
   "metadata": {},
   "outputs": [],
   "source": [
    "score_subset = ['acc', 'sens', 'spec']\n",
    "rounding_decimals = 3\n",
    "random_state = 15\n",
    "aggregation = 'mor'\n",
    "TOL = 10**(-(rounding_decimals+1))"
   ]
  },
  {
   "cell_type": "code",
   "execution_count": 53,
   "metadata": {},
   "outputs": [
    {
     "name": "stderr",
     "output_type": "stream",
     "text": [
      "2023-08-26 03:36:04,691:INFO:generating a random id for the dataset\n",
      "2023-08-26 03:36:04,692:INFO:creating a folding based on the specification\n"
     ]
    },
    {
     "name": "stdout",
     "output_type": "stream",
     "text": [
      "{'p': 758, 'n': 909, 'n_folds': 6, 'n_repeats': 1, 'aggregation': 'mor', 'identifier': None}\n",
      "{'acc': 0.469, 'sens': 0.442, 'spec': 0.49}\n",
      "{'identifier': 'bqbtiuusdywmqvgp', 'score_bounds': None, 'folds': [{'p': 126, 'n': 152, 'identifier': 'bqbtiuusdywmqvgp_0_0', 'score_bounds': {'acc': (0.3047553956834533, 0.763589928057554), 'sens': (-0.001, 0.9301338582677166), 'spec': (0.11158278145695365, 0.9220526315789473)}, 'figures': None}, {'p': 126, 'n': 152, 'identifier': 'bqbtiuusdywmqvgp_0_1', 'score_bounds': {'acc': (0.3047553956834533, 0.763589928057554), 'sens': (-0.001, 0.9301338582677166), 'spec': (0.11158278145695365, 0.9220526315789473)}, 'figures': None}, {'p': 126, 'n': 152, 'identifier': 'bqbtiuusdywmqvgp_0_2', 'score_bounds': {'acc': (0.3047553956834533, 0.763589928057554), 'sens': (-0.001, 0.9301338582677166), 'spec': (0.11158278145695365, 0.9220526315789473)}, 'figures': None}, {'p': 127, 'n': 151, 'identifier': 'bqbtiuusdywmqvgp_0_3', 'score_bounds': {'acc': (0.3047553956834533, 0.763589928057554), 'sens': (-0.001, 0.9301338582677166), 'spec': (0.11158278145695365, 0.9220526315789473)}, 'figures': None}, {'p': 127, 'n': 151, 'identifier': 'bqbtiuusdywmqvgp_0_4', 'score_bounds': {'acc': (0.3047553956834533, 0.763589928057554), 'sens': (-0.001, 0.9301338582677166), 'spec': (0.11158278145695365, 0.9220526315789473)}, 'figures': None}, {'p': 126, 'n': 151, 'identifier': 'bqbtiuusdywmqvgp_0_5', 'score_bounds': {'acc': (0.3047553956834533, 0.763589928057554), 'sens': (-0.001, 0.9301338582677166), 'spec': (0.11158278145695365, 0.9220526315789473)}, 'figures': None}], 'aggregation': 'mor'}\n",
      "0.0006000000000000001\n"
     ]
    }
   ],
   "source": [
    "problem_orig = generate_dataset_specification(random_state=random_state,\n",
    "                                        aggregation=aggregation)\n",
    "problem = Dataset(**problem_orig)\n",
    "\n",
    "sample = problem.sample(random_state)\n",
    "scores = sample.calculate_scores(score_subset, rounding_decimals)\n",
    "problem = problem.add_fold_bounds(sample.get_fold_bounds(score_subset, feasible=True))\n",
    "\n",
    "print(problem_orig)\n",
    "print(scores)\n",
    "print(problem)\n",
    "\n",
    "eps = 10**(-rounding_decimals)/2 + TOL\n",
    "\n",
    "print(eps)"
   ]
  },
  {
   "cell_type": "code",
   "execution_count": 54,
   "metadata": {},
   "outputs": [
    {
     "name": "stderr",
     "output_type": "stream",
     "text": [
      "2023-08-26 03:36:05,316:INFO:fold bqbtiuusdywmqvgp_0_0: adding lower bound 0.3047553956834533 for acc\n",
      "2023-08-26 03:36:05,318:INFO:fold bqbtiuusdywmqvgp_0_0: adding upper bound 0.763589928057554 for acc\n",
      "2023-08-26 03:36:05,322:INFO:fold bqbtiuusdywmqvgp_0_0: adding lower bound -0.001 for sens\n",
      "2023-08-26 03:36:05,325:INFO:fold bqbtiuusdywmqvgp_0_0: adding upper bound 0.9301338582677166 for sens\n",
      "2023-08-26 03:36:05,327:INFO:fold bqbtiuusdywmqvgp_0_0: adding lower bound 0.11158278145695365 for spec\n",
      "2023-08-26 03:36:05,329:INFO:fold bqbtiuusdywmqvgp_0_0: adding upper bound 0.9220526315789473 for spec\n",
      "2023-08-26 03:36:05,330:INFO:fold bqbtiuusdywmqvgp_0_1: adding lower bound 0.3047553956834533 for acc\n",
      "2023-08-26 03:36:05,332:INFO:fold bqbtiuusdywmqvgp_0_1: adding upper bound 0.763589928057554 for acc\n",
      "2023-08-26 03:36:05,333:INFO:fold bqbtiuusdywmqvgp_0_1: adding lower bound -0.001 for sens\n",
      "2023-08-26 03:36:05,334:INFO:fold bqbtiuusdywmqvgp_0_1: adding upper bound 0.9301338582677166 for sens\n",
      "2023-08-26 03:36:05,335:INFO:fold bqbtiuusdywmqvgp_0_1: adding lower bound 0.11158278145695365 for spec\n",
      "2023-08-26 03:36:05,336:INFO:fold bqbtiuusdywmqvgp_0_1: adding upper bound 0.9220526315789473 for spec\n",
      "2023-08-26 03:36:05,338:INFO:fold bqbtiuusdywmqvgp_0_2: adding lower bound 0.3047553956834533 for acc\n",
      "2023-08-26 03:36:05,339:INFO:fold bqbtiuusdywmqvgp_0_2: adding upper bound 0.763589928057554 for acc\n",
      "2023-08-26 03:36:05,339:INFO:fold bqbtiuusdywmqvgp_0_2: adding lower bound -0.001 for sens\n",
      "2023-08-26 03:36:05,340:INFO:fold bqbtiuusdywmqvgp_0_2: adding upper bound 0.9301338582677166 for sens\n",
      "2023-08-26 03:36:05,341:INFO:fold bqbtiuusdywmqvgp_0_2: adding lower bound 0.11158278145695365 for spec\n",
      "2023-08-26 03:36:05,346:INFO:fold bqbtiuusdywmqvgp_0_2: adding upper bound 0.9220526315789473 for spec\n",
      "2023-08-26 03:36:05,348:INFO:fold bqbtiuusdywmqvgp_0_3: adding lower bound 0.3047553956834533 for acc\n",
      "2023-08-26 03:36:05,350:INFO:fold bqbtiuusdywmqvgp_0_3: adding upper bound 0.763589928057554 for acc\n",
      "2023-08-26 03:36:05,351:INFO:fold bqbtiuusdywmqvgp_0_3: adding lower bound -0.001 for sens\n",
      "2023-08-26 03:36:05,353:INFO:fold bqbtiuusdywmqvgp_0_3: adding upper bound 0.9301338582677166 for sens\n",
      "2023-08-26 03:36:05,354:INFO:fold bqbtiuusdywmqvgp_0_3: adding lower bound 0.11158278145695365 for spec\n",
      "2023-08-26 03:36:05,355:INFO:fold bqbtiuusdywmqvgp_0_3: adding upper bound 0.9220526315789473 for spec\n",
      "2023-08-26 03:36:05,356:INFO:fold bqbtiuusdywmqvgp_0_4: adding lower bound 0.3047553956834533 for acc\n",
      "2023-08-26 03:36:05,357:INFO:fold bqbtiuusdywmqvgp_0_4: adding upper bound 0.763589928057554 for acc\n",
      "2023-08-26 03:36:05,359:INFO:fold bqbtiuusdywmqvgp_0_4: adding lower bound -0.001 for sens\n",
      "2023-08-26 03:36:05,360:INFO:fold bqbtiuusdywmqvgp_0_4: adding upper bound 0.9301338582677166 for sens\n",
      "2023-08-26 03:36:05,361:INFO:fold bqbtiuusdywmqvgp_0_4: adding lower bound 0.11158278145695365 for spec\n",
      "2023-08-26 03:36:05,362:INFO:fold bqbtiuusdywmqvgp_0_4: adding upper bound 0.9220526315789473 for spec\n",
      "2023-08-26 03:36:05,364:INFO:fold bqbtiuusdywmqvgp_0_5: adding lower bound 0.3047553956834533 for acc\n",
      "2023-08-26 03:36:05,367:INFO:fold bqbtiuusdywmqvgp_0_5: adding upper bound 0.763589928057554 for acc\n",
      "2023-08-26 03:36:05,368:INFO:fold bqbtiuusdywmqvgp_0_5: adding lower bound -0.001 for sens\n",
      "2023-08-26 03:36:05,369:INFO:fold bqbtiuusdywmqvgp_0_5: adding upper bound 0.9301338582677166 for sens\n",
      "2023-08-26 03:36:05,370:INFO:fold bqbtiuusdywmqvgp_0_5: adding lower bound 0.11158278145695365 for spec\n",
      "2023-08-26 03:36:05,372:INFO:fold bqbtiuusdywmqvgp_0_5: adding upper bound 0.9220526315789473 for spec\n",
      "2023-08-26 03:36:05,373:INFO:bqbtiuusdywmqvgp: adding condition acc >= 0.468400\n",
      "2023-08-26 03:36:05,374:INFO:bqbtiuusdywmqvgp: adding condition acc <= 0.469600\n",
      "2023-08-26 03:36:05,375:INFO:bqbtiuusdywmqvgp: adding condition sens >= 0.441400\n",
      "2023-08-26 03:36:05,376:INFO:bqbtiuusdywmqvgp: adding condition sens <= 0.442600\n",
      "2023-08-26 03:36:05,377:INFO:bqbtiuusdywmqvgp: adding condition spec >= 0.489400\n",
      "2023-08-26 03:36:05,378:INFO:bqbtiuusdywmqvgp: adding condition spec <= 0.490600\n"
     ]
    },
    {
     "name": "stdout",
     "output_type": "stream",
     "text": [
      "Welcome to the CBC MILP Solver \n",
      "Version: 2.10.3 \n",
      "Build Date: Dec 15 2019 \n",
      "\n",
      "command line - /home/gykovacs/anaconda3/envs/mlscorecheck/lib/python3.10/site-packages/pulp/solverdir/cbc/linux/64/cbc /tmp/f32cc59461a24f86a1a7e6e0aa055cbd-pulp.mps sec 5 timeMode elapsed branch printingOptions all solution /tmp/f32cc59461a24f86a1a7e6e0aa055cbd-pulp.sol (default strategy 1)\n",
      "At line 2 NAME          MODEL\n",
      "At line 3 ROWS\n",
      "At line 47 COLUMNS\n",
      "At line 169 RHS\n",
      "At line 212 BOUNDS\n",
      "At line 226 ENDATA\n",
      "Problem MODEL has 42 rows, 13 columns and 96 elements\n",
      "Coin0008I MODEL read with 0 errors\n",
      "seconds was changed from 1e+100 to 5\n",
      "Option for timeMode changed from cpu to elapsed\n",
      "Continuous objective value is 0 - 0.00 seconds\n",
      "Cgl0004I processed model has 9 rows, 12 columns (12 integer (0 of which binary)) and 36 elements\n",
      "Cbc0031I 4 added rows had average density of 7.75\n",
      "Cbc0013I At root node, 4 cuts changed objective from 0 to 0 in 32 passes\n",
      "Cbc0014I Cut generator 0 (Probing) - 0 row cuts average 0.0 elements, 0 column cuts (0 active)  in 0.001 seconds - new frequency is -100\n",
      "Cbc0014I Cut generator 1 (Gomory) - 72 row cuts average 9.6 elements, 0 column cuts (0 active)  in 0.001 seconds - new frequency is -100\n",
      "Cbc0014I Cut generator 2 (Knapsack) - 0 row cuts average 0.0 elements, 0 column cuts (0 active)  in 0.000 seconds - new frequency is -100\n",
      "Cbc0014I Cut generator 3 (Clique) - 0 row cuts average 0.0 elements, 0 column cuts (0 active)  in 0.000 seconds - new frequency is -100\n",
      "Cbc0014I Cut generator 4 (MixedIntegerRounding2) - 0 row cuts average 0.0 elements, 0 column cuts (0 active)  in 0.000 seconds - new frequency is -100\n",
      "Cbc0014I Cut generator 5 (FlowCover) - 0 row cuts average 0.0 elements, 0 column cuts (0 active)  in 0.000 seconds - new frequency is -100\n",
      "Cbc0014I Cut generator 6 (TwoMirCuts) - 22 row cuts average 6.5 elements, 0 column cuts (0 active)  in 0.000 seconds - new frequency is -100\n",
      "Cbc0010I After 0 nodes, 1 on tree, 1e+50 best solution, best possible 0 (0.02 seconds)\n",
      "Cbc0010I After 1000 nodes, 89 on tree, 1e+50 best solution, best possible 0 (1.74 seconds)\n",
      "Cbc0010I After 2000 nodes, 88 on tree, 1e+50 best solution, best possible 0 (2.00 seconds)\n",
      "Cbc0010I After 3000 nodes, 87 on tree, 1e+50 best solution, best possible 0 (2.26 seconds)\n",
      "Cbc0010I After 4000 nodes, 82 on tree, 1e+50 best solution, best possible 0 (2.43 seconds)\n",
      "Cbc0010I After 5000 nodes, 88 on tree, 1e+50 best solution, best possible 0 (2.59 seconds)\n",
      "Cbc0010I After 6000 nodes, 94 on tree, 1e+50 best solution, best possible 0 (2.73 seconds)\n",
      "Cbc0010I After 7000 nodes, 75 on tree, 1e+50 best solution, best possible 0 (2.86 seconds)\n",
      "Cbc0010I After 8000 nodes, 83 on tree, 1e+50 best solution, best possible 0 (3.00 seconds)\n",
      "Cbc0010I After 9000 nodes, 95 on tree, 1e+50 best solution, best possible 0 (3.13 seconds)\n",
      "Cbc0010I After 10000 nodes, 88 on tree, 1e+50 best solution, best possible 0 (3.25 seconds)\n",
      "Cbc0010I After 11000 nodes, 93 on tree, 1e+50 best solution, best possible 0 (3.37 seconds)\n",
      "Cbc0010I After 12000 nodes, 160 on tree, 1e+50 best solution, best possible 0 (3.41 seconds)\n",
      "Cbc0010I After 13000 nodes, 185 on tree, 1e+50 best solution, best possible 0 (3.44 seconds)\n",
      "Cbc0010I After 14000 nodes, 183 on tree, 1e+50 best solution, best possible 0 (3.58 seconds)\n",
      "Cbc0010I After 15000 nodes, 180 on tree, 1e+50 best solution, best possible 0 (3.69 seconds)\n",
      "Cbc0010I After 16000 nodes, 172 on tree, 1e+50 best solution, best possible 0 (3.80 seconds)\n",
      "Cbc0010I After 17000 nodes, 180 on tree, 1e+50 best solution, best possible 0 (3.90 seconds)\n",
      "Cbc0010I After 18000 nodes, 171 on tree, 1e+50 best solution, best possible 0 (3.99 seconds)\n",
      "Cbc0010I After 19000 nodes, 171 on tree, 1e+50 best solution, best possible 0 (4.09 seconds)\n",
      "Cbc0010I After 20000 nodes, 174 on tree, 1e+50 best solution, best possible 0 (4.19 seconds)\n",
      "Cbc0010I After 21000 nodes, 182 on tree, 1e+50 best solution, best possible 0 (4.28 seconds)\n",
      "Cbc0010I After 22000 nodes, 171 on tree, 1e+50 best solution, best possible 0 (4.33 seconds)\n",
      "Cbc0010I After 23000 nodes, 168 on tree, 1e+50 best solution, best possible 0 (4.42 seconds)\n",
      "Cbc0010I After 24000 nodes, 174 on tree, 1e+50 best solution, best possible 0 (4.50 seconds)\n",
      "Cbc0010I After 25000 nodes, 173 on tree, 1e+50 best solution, best possible 0 (4.55 seconds)\n",
      "Cbc0010I After 26000 nodes, 186 on tree, 1e+50 best solution, best possible 0 (4.63 seconds)\n",
      "Cbc0010I After 27000 nodes, 171 on tree, 1e+50 best solution, best possible 0 (4.70 seconds)\n",
      "Cbc0010I After 28000 nodes, 185 on tree, 1e+50 best solution, best possible 0 (4.78 seconds)\n",
      "Cbc0010I After 29000 nodes, 160 on tree, 1e+50 best solution, best possible 0 (4.83 seconds)\n",
      "Cbc0010I After 30000 nodes, 180 on tree, 1e+50 best solution, best possible 0 (4.91 seconds)\n",
      "Cbc0020I Exiting on maximum time\n",
      "Cbc0005I Partial search - best objective 1e+50 (best possible 0), took 930301 iterations and 822796 nodes (5.00 seconds)\n",
      "Cbc0032I Strong branching done 14236 times (15695 iterations), fathomed 4594 nodes and fixed 1138 variables\n",
      "Cbc0041I Maximum depth 107, 0 variables fixed on reduced cost (complete fathoming 2346 times, 792010 nodes taking 858566 iterations)\n",
      "Cuts at root node changed objective from 0 to 0\n",
      "Probing was tried 32 times and created 0 cuts of which 0 were active after adding rounds of cuts (0.001 seconds)\n",
      "Gomory was tried 32 times and created 72 cuts of which 0 were active after adding rounds of cuts (0.001 seconds)\n",
      "Knapsack was tried 32 times and created 0 cuts of which 0 were active after adding rounds of cuts (0.000 seconds)\n",
      "Clique was tried 32 times and created 0 cuts of which 0 were active after adding rounds of cuts (0.000 seconds)\n",
      "MixedIntegerRounding2 was tried 32 times and created 0 cuts of which 0 were active after adding rounds of cuts (0.000 seconds)\n",
      "FlowCover was tried 32 times and created 0 cuts of which 0 were active after adding rounds of cuts (0.000 seconds)\n",
      "TwoMirCuts was tried 32 times and created 22 cuts of which 0 were active after adding rounds of cuts (0.000 seconds)\n",
      "ZeroHalf was tried 1 times and created 0 cuts of which 0 were active after adding rounds of cuts (0.000 seconds)\n",
      "\n",
      "Result - Stopped on time limit\n",
      "\n",
      "No feasible solution found\n",
      "Lower bound:                    0.000\n",
      "Enumerated nodes:               822796\n",
      "Total iterations:               930301\n",
      "Time (CPU seconds):             4.62\n",
      "Time (Wallclock seconds):       5.00\n",
      "\n",
      "Option for printingOptions changed from normal to all\n",
      "Total time (CPU seconds):       4.62   (Wallclock seconds):       5.00\n",
      "\n"
     ]
    }
   ],
   "source": [
    "result = solve(problem, scores, eps, solver=solver)"
   ]
  },
  {
   "cell_type": "code",
   "execution_count": 55,
   "metadata": {},
   "outputs": [
    {
     "data": {
      "text/plain": [
       "0"
      ]
     },
     "execution_count": 55,
     "metadata": {},
     "output_type": "execute_result"
    }
   ],
   "source": [
    "result.status"
   ]
  },
  {
   "cell_type": "code",
   "execution_count": 8,
   "metadata": {},
   "outputs": [
    {
     "data": {
      "text/plain": [
       "{'acc': 0.527, 'sens': 0.443, 'spec': 0.616}"
      ]
     },
     "execution_count": 8,
     "metadata": {},
     "output_type": "execute_result"
    }
   ],
   "source": [
    "scores"
   ]
  },
  {
   "cell_type": "code",
   "execution_count": 9,
   "metadata": {},
   "outputs": [
    {
     "data": {
      "text/plain": [
       "[{'p': 59, 'n': 55, 'identifier': 'arifjscdmayhuxvn_0_0', 'score_bounds': {'acc': (0.15689473684210525, 0.9656017699115044), 'sens': (0.03289830508474576, 1.001), 'spec': (0.05354545454545454, 1.001)}, 'figures': None},\n",
       " {'p': 59, 'n': 55, 'identifier': 'arifjscdmayhuxvn_0_1', 'score_bounds': {'acc': (0.15689473684210525, 0.9656017699115044), 'sens': (0.03289830508474576, 1.001), 'spec': (0.05354545454545454, 1.001)}, 'figures': None},\n",
       " {'p': 59, 'n': 55, 'identifier': 'arifjscdmayhuxvn_0_2', 'score_bounds': {'acc': (0.15689473684210525, 0.9656017699115044), 'sens': (0.03289830508474576, 1.001), 'spec': (0.05354545454545454, 1.001)}, 'figures': None},\n",
       " {'p': 59, 'n': 55, 'identifier': 'arifjscdmayhuxvn_0_3', 'score_bounds': {'acc': (0.15689473684210525, 0.9656017699115044), 'sens': (0.03289830508474576, 1.001), 'spec': (0.05354545454545454, 1.001)}, 'figures': None},\n",
       " {'p': 59, 'n': 55, 'identifier': 'arifjscdmayhuxvn_0_4', 'score_bounds': {'acc': (0.15689473684210525, 0.9656017699115044), 'sens': (0.03289830508474576, 1.001), 'spec': (0.05354545454545454, 1.001)}, 'figures': None},\n",
       " {'p': 58, 'n': 55, 'identifier': 'arifjscdmayhuxvn_0_5', 'score_bounds': {'acc': (0.15689473684210525, 0.9656017699115044), 'sens': (0.03289830508474576, 1.001), 'spec': (0.05354545454545454, 1.001)}, 'figures': None},\n",
       " {'p': 58, 'n': 55, 'identifier': 'arifjscdmayhuxvn_0_6', 'score_bounds': {'acc': (0.15689473684210525, 0.9656017699115044), 'sens': (0.03289830508474576, 1.001), 'spec': (0.05354545454545454, 1.001)}, 'figures': None},\n",
       " {'p': 58, 'n': 55, 'identifier': 'arifjscdmayhuxvn_0_7', 'score_bounds': {'acc': (0.15689473684210525, 0.9656017699115044), 'sens': (0.03289830508474576, 1.001), 'spec': (0.05354545454545454, 1.001)}, 'figures': None},\n",
       " {'p': 59, 'n': 54, 'identifier': 'arifjscdmayhuxvn_0_8', 'score_bounds': {'acc': (0.15689473684210525, 0.9656017699115044), 'sens': (0.03289830508474576, 1.001), 'spec': (0.05354545454545454, 1.001)}, 'figures': None},\n",
       " {'p': 59, 'n': 55, 'identifier': 'arifjscdmayhuxvn_1_0', 'score_bounds': {'acc': (0.15689473684210525, 0.9656017699115044), 'sens': (0.03289830508474576, 1.001), 'spec': (0.05354545454545454, 1.001)}, 'figures': None},\n",
       " {'p': 59, 'n': 55, 'identifier': 'arifjscdmayhuxvn_1_1', 'score_bounds': {'acc': (0.15689473684210525, 0.9656017699115044), 'sens': (0.03289830508474576, 1.001), 'spec': (0.05354545454545454, 1.001)}, 'figures': None},\n",
       " {'p': 59, 'n': 55, 'identifier': 'arifjscdmayhuxvn_1_2', 'score_bounds': {'acc': (0.15689473684210525, 0.9656017699115044), 'sens': (0.03289830508474576, 1.001), 'spec': (0.05354545454545454, 1.001)}, 'figures': None},\n",
       " {'p': 59, 'n': 55, 'identifier': 'arifjscdmayhuxvn_1_3', 'score_bounds': {'acc': (0.15689473684210525, 0.9656017699115044), 'sens': (0.03289830508474576, 1.001), 'spec': (0.05354545454545454, 1.001)}, 'figures': None},\n",
       " {'p': 59, 'n': 55, 'identifier': 'arifjscdmayhuxvn_1_4', 'score_bounds': {'acc': (0.15689473684210525, 0.9656017699115044), 'sens': (0.03289830508474576, 1.001), 'spec': (0.05354545454545454, 1.001)}, 'figures': None},\n",
       " {'p': 58, 'n': 55, 'identifier': 'arifjscdmayhuxvn_1_5', 'score_bounds': {'acc': (0.15689473684210525, 0.9656017699115044), 'sens': (0.03289830508474576, 1.001), 'spec': (0.05354545454545454, 1.001)}, 'figures': None},\n",
       " {'p': 58, 'n': 55, 'identifier': 'arifjscdmayhuxvn_1_6', 'score_bounds': {'acc': (0.15689473684210525, 0.9656017699115044), 'sens': (0.03289830508474576, 1.001), 'spec': (0.05354545454545454, 1.001)}, 'figures': None},\n",
       " {'p': 58, 'n': 55, 'identifier': 'arifjscdmayhuxvn_1_7', 'score_bounds': {'acc': (0.15689473684210525, 0.9656017699115044), 'sens': (0.03289830508474576, 1.001), 'spec': (0.05354545454545454, 1.001)}, 'figures': None},\n",
       " {'p': 59, 'n': 54, 'identifier': 'arifjscdmayhuxvn_1_8', 'score_bounds': {'acc': (0.15689473684210525, 0.9656017699115044), 'sens': (0.03289830508474576, 1.001), 'spec': (0.05354545454545454, 1.001)}, 'figures': None},\n",
       " {'p': 59, 'n': 55, 'identifier': 'arifjscdmayhuxvn_2_0', 'score_bounds': {'acc': (0.15689473684210525, 0.9656017699115044), 'sens': (0.03289830508474576, 1.001), 'spec': (0.05354545454545454, 1.001)}, 'figures': None},\n",
       " {'p': 59, 'n': 55, 'identifier': 'arifjscdmayhuxvn_2_1', 'score_bounds': {'acc': (0.15689473684210525, 0.9656017699115044), 'sens': (0.03289830508474576, 1.001), 'spec': (0.05354545454545454, 1.001)}, 'figures': None},\n",
       " {'p': 59, 'n': 55, 'identifier': 'arifjscdmayhuxvn_2_2', 'score_bounds': {'acc': (0.15689473684210525, 0.9656017699115044), 'sens': (0.03289830508474576, 1.001), 'spec': (0.05354545454545454, 1.001)}, 'figures': None},\n",
       " {'p': 59, 'n': 55, 'identifier': 'arifjscdmayhuxvn_2_3', 'score_bounds': {'acc': (0.15689473684210525, 0.9656017699115044), 'sens': (0.03289830508474576, 1.001), 'spec': (0.05354545454545454, 1.001)}, 'figures': None},\n",
       " {'p': 59, 'n': 55, 'identifier': 'arifjscdmayhuxvn_2_4', 'score_bounds': {'acc': (0.15689473684210525, 0.9656017699115044), 'sens': (0.03289830508474576, 1.001), 'spec': (0.05354545454545454, 1.001)}, 'figures': None},\n",
       " {'p': 58, 'n': 55, 'identifier': 'arifjscdmayhuxvn_2_5', 'score_bounds': {'acc': (0.15689473684210525, 0.9656017699115044), 'sens': (0.03289830508474576, 1.001), 'spec': (0.05354545454545454, 1.001)}, 'figures': None},\n",
       " {'p': 58, 'n': 55, 'identifier': 'arifjscdmayhuxvn_2_6', 'score_bounds': {'acc': (0.15689473684210525, 0.9656017699115044), 'sens': (0.03289830508474576, 1.001), 'spec': (0.05354545454545454, 1.001)}, 'figures': None},\n",
       " {'p': 58, 'n': 55, 'identifier': 'arifjscdmayhuxvn_2_7', 'score_bounds': {'acc': (0.15689473684210525, 0.9656017699115044), 'sens': (0.03289830508474576, 1.001), 'spec': (0.05354545454545454, 1.001)}, 'figures': None},\n",
       " {'p': 59, 'n': 54, 'identifier': 'arifjscdmayhuxvn_2_8', 'score_bounds': {'acc': (0.15689473684210525, 0.9656017699115044), 'sens': (0.03289830508474576, 1.001), 'spec': (0.05354545454545454, 1.001)}, 'figures': None},\n",
       " {'p': 59, 'n': 55, 'identifier': 'arifjscdmayhuxvn_3_0', 'score_bounds': {'acc': (0.15689473684210525, 0.9656017699115044), 'sens': (0.03289830508474576, 1.001), 'spec': (0.05354545454545454, 1.001)}, 'figures': None},\n",
       " {'p': 59, 'n': 55, 'identifier': 'arifjscdmayhuxvn_3_1', 'score_bounds': {'acc': (0.15689473684210525, 0.9656017699115044), 'sens': (0.03289830508474576, 1.001), 'spec': (0.05354545454545454, 1.001)}, 'figures': None},\n",
       " {'p': 59, 'n': 55, 'identifier': 'arifjscdmayhuxvn_3_2', 'score_bounds': {'acc': (0.15689473684210525, 0.9656017699115044), 'sens': (0.03289830508474576, 1.001), 'spec': (0.05354545454545454, 1.001)}, 'figures': None},\n",
       " {'p': 59, 'n': 55, 'identifier': 'arifjscdmayhuxvn_3_3', 'score_bounds': {'acc': (0.15689473684210525, 0.9656017699115044), 'sens': (0.03289830508474576, 1.001), 'spec': (0.05354545454545454, 1.001)}, 'figures': None},\n",
       " {'p': 59, 'n': 55, 'identifier': 'arifjscdmayhuxvn_3_4', 'score_bounds': {'acc': (0.15689473684210525, 0.9656017699115044), 'sens': (0.03289830508474576, 1.001), 'spec': (0.05354545454545454, 1.001)}, 'figures': None},\n",
       " {'p': 58, 'n': 55, 'identifier': 'arifjscdmayhuxvn_3_5', 'score_bounds': {'acc': (0.15689473684210525, 0.9656017699115044), 'sens': (0.03289830508474576, 1.001), 'spec': (0.05354545454545454, 1.001)}, 'figures': None},\n",
       " {'p': 58, 'n': 55, 'identifier': 'arifjscdmayhuxvn_3_6', 'score_bounds': {'acc': (0.15689473684210525, 0.9656017699115044), 'sens': (0.03289830508474576, 1.001), 'spec': (0.05354545454545454, 1.001)}, 'figures': None},\n",
       " {'p': 58, 'n': 55, 'identifier': 'arifjscdmayhuxvn_3_7', 'score_bounds': {'acc': (0.15689473684210525, 0.9656017699115044), 'sens': (0.03289830508474576, 1.001), 'spec': (0.05354545454545454, 1.001)}, 'figures': None},\n",
       " {'p': 59, 'n': 54, 'identifier': 'arifjscdmayhuxvn_3_8', 'score_bounds': {'acc': (0.15689473684210525, 0.9656017699115044), 'sens': (0.03289830508474576, 1.001), 'spec': (0.05354545454545454, 1.001)}, 'figures': None}]"
      ]
     },
     "execution_count": 9,
     "metadata": {},
     "output_type": "execute_result"
    }
   ],
   "source": [
    "problem.folds"
   ]
  },
  {
   "cell_type": "code",
   "execution_count": 10,
   "metadata": {},
   "outputs": [
    {
     "name": "stdout",
     "output_type": "stream",
     "text": [
      "{'acc': 0.48245614035087714, 'sens': 0.6779661016949152, 'spec': 0.2727272727272727, 'bacc': 0.47534668721109397}\n",
      "{'acc': 0.4649122807017544, 'sens': 0.7627118644067796, 'spec': 0.14545454545454545, 'bacc': 0.45408320493066257}\n",
      "{'acc': 0.5701754385964912, 'sens': 0.3728813559322034, 'spec': 0.7818181818181817, 'bacc': 0.5773497688751925}\n",
      "{'acc': 0.2543859649122807, 'sens': 0.3050847457627119, 'spec': 0.19999999999999998, 'bacc': 0.25254237288135595}\n",
      "{'acc': 0.4122807017543859, 'sens': 0.6779661016949152, 'spec': 0.12727272727272726, 'bacc': 0.4026194144838212}\n",
      "{'acc': 0.7345132743362832, 'sens': 0.5862068965517241, 'spec': 0.8909090909090909, 'bacc': 0.7385579937304074}\n",
      "{'acc': 0.37168141592920356, 'sens': 0.5344827586206896, 'spec': 0.19999999999999998, 'bacc': 0.3672413793103448}\n",
      "{'acc': 0.6017699115044248, 'sens': 0.3620689655172414, 'spec': 0.8545454545454545, 'bacc': 0.6083072100313479}\n",
      "{'acc': 0.504424778761062, 'sens': 0.5254237288135594, 'spec': 0.48148148148148145, 'bacc': 0.5034526051475204}\n",
      "{'acc': 0.631578947368421, 'sens': 0.3389830508474576, 'spec': 0.9454545454545454, 'bacc': 0.6422187981510015}\n",
      "{'acc': 0.6666666666666666, 'sens': 0.6271186440677966, 'spec': 0.7090909090909091, 'bacc': 0.6681047765793529}\n",
      "{'acc': 0.35964912280701755, 'sens': 0.05084745762711865, 'spec': 0.6909090909090909, 'bacc': 0.37087827426810477}\n",
      "{'acc': 0.40350877192982454, 'sens': 0.06779661016949153, 'spec': 0.7636363636363636, 'bacc': 0.41571648690292756}\n",
      "{'acc': 0.8245614035087718, 'sens': 0.7288135593220338, 'spec': 0.9272727272727272, 'bacc': 0.8280431432973805}\n",
      "{'acc': 0.6814159292035398, 'sens': 0.6724137931034483, 'spec': 0.6909090909090909, 'bacc': 0.6816614420062697}\n",
      "{'acc': 0.6637168141592921, 'sens': 0.7241379310344828, 'spec': 0.6, 'bacc': 0.6620689655172414}\n",
      "{'acc': 0.5398230088495575, 'sens': 1.0, 'spec': 0.05454545454545454, 'bacc': 0.5272727272727272}\n",
      "{'acc': 0.25663716814159293, 'sens': 0.0847457627118644, 'spec': 0.4444444444444444, 'bacc': 0.2645951035781544}\n",
      "{'acc': 0.43859649122807015, 'sens': 0.06779661016949153, 'spec': 0.8363636363636363, 'bacc': 0.45208012326656394}\n",
      "{'acc': 0.32456140350877194, 'sens': 0.1016949152542373, 'spec': 0.5636363636363636, 'bacc': 0.3326656394453005}\n",
      "{'acc': 0.43859649122807015, 'sens': 0.3220338983050847, 'spec': 0.5636363636363636, 'bacc': 0.44283513097072413}\n",
      "{'acc': 0.15789473684210525, 'sens': 0.03389830508474576, 'spec': 0.2909090909090909, 'bacc': 0.16240369799691834}\n",
      "{'acc': 0.8596491228070176, 'sens': 0.8813559322033898, 'spec': 0.8363636363636363, 'bacc': 0.8588597842835131}\n",
      "{'acc': 0.5486725663716814, 'sens': 0.20689655172413793, 'spec': 0.9090909090909091, 'bacc': 0.5579937304075235}\n",
      "{'acc': 0.2654867256637168, 'sens': 0.06896551724137931, 'spec': 0.4727272727272727, 'bacc': 0.270846394984326}\n",
      "{'acc': 0.5663716814159292, 'sens': 0.25862068965517243, 'spec': 0.8909090909090909, 'bacc': 0.5747648902821316}\n",
      "{'acc': 0.7522123893805309, 'sens': 0.6610169491525424, 'spec': 0.8518518518518519, 'bacc': 0.7564344005021971}\n",
      "{'acc': 0.5087719298245614, 'sens': 0.13559322033898305, 'spec': 0.9090909090909091, 'bacc': 0.522342064714946}\n",
      "{'acc': 0.5263157894736842, 'sens': 0.7627118644067796, 'spec': 0.2727272727272727, 'bacc': 0.5177195685670262}\n",
      "{'acc': 0.7543859649122806, 'sens': 0.6949152542372882, 'spec': 0.8181818181818181, 'bacc': 0.7565485362095532}\n",
      "{'acc': 0.5526315789473684, 'sens': 0.13559322033898305, 'spec': 1.0, 'bacc': 0.5677966101694916}\n",
      "{'acc': 0.3421052631578947, 'sens': 0.288135593220339, 'spec': 0.39999999999999997, 'bacc': 0.3440677966101695}\n",
      "{'acc': 0.9646017699115044, 'sens': 0.9655172413793103, 'spec': 0.9636363636363636, 'bacc': 0.964576802507837}\n",
      "{'acc': 0.4424778761061947, 'sens': 0.15517241379310345, 'spec': 0.7454545454545454, 'bacc': 0.4503134796238244}\n",
      "{'acc': 0.6371681415929203, 'sens': 0.7931034482758621, 'spec': 0.4727272727272727, 'bacc': 0.6329153605015674}\n",
      "{'acc': 0.45132743362831856, 'sens': 0.3220338983050847, 'spec': 0.5925925925925926, 'bacc': 0.45731324544883867}\n"
     ]
    }
   ],
   "source": [
    "for fold in sample.folds:\n",
    "    print(fold.calculate_scores())"
   ]
  },
  {
   "cell_type": "code",
   "execution_count": 11,
   "metadata": {},
   "outputs": [],
   "source": [
    "import numpy as np\n",
    "import pulp as pl"
   ]
  },
  {
   "cell_type": "code",
   "execution_count": 12,
   "metadata": {},
   "outputs": [],
   "source": [
    "tmp = {'a': 5, 'b': 0}"
   ]
  },
  {
   "cell_type": "code",
   "execution_count": 13,
   "metadata": {},
   "outputs": [
    {
     "data": {
      "text/plain": [
       "{'a': 1, 'b': 0}"
      ]
     },
     "execution_count": 13,
     "metadata": {},
     "output_type": "execute_result"
    }
   ],
   "source": [
    "(tmp | {'a': 6}) | {'a': 1}"
   ]
  },
  {
   "cell_type": "code",
   "execution_count": 14,
   "metadata": {},
   "outputs": [],
   "source": [
    "problem = pl.LpProblem('dummy')"
   ]
  },
  {
   "cell_type": "code",
   "execution_count": 15,
   "metadata": {},
   "outputs": [],
   "source": [
    "var = pl.LpVariable('test', 0, 10, pl.LpInteger)"
   ]
  },
  {
   "cell_type": "code",
   "execution_count": 16,
   "metadata": {},
   "outputs": [],
   "source": [
    "problem += var <= 20"
   ]
  },
  {
   "cell_type": "code",
   "execution_count": 17,
   "metadata": {},
   "outputs": [
    {
     "data": {
      "text/plain": [
       "1"
      ]
     },
     "execution_count": 17,
     "metadata": {},
     "output_type": "execute_result"
    }
   ],
   "source": [
    "len(problem.constraints)"
   ]
  },
  {
   "cell_type": "code",
   "execution_count": null,
   "metadata": {},
   "outputs": [],
   "source": []
  },
  {
   "cell_type": "code",
   "execution_count": 18,
   "metadata": {},
   "outputs": [
    {
     "data": {
      "text/plain": [
       "0"
      ]
     },
     "execution_count": 18,
     "metadata": {},
     "output_type": "execute_result"
    }
   ],
   "source": [
    "var.lowBound"
   ]
  },
  {
   "cell_type": "code",
   "execution_count": 19,
   "metadata": {},
   "outputs": [
    {
     "data": {
      "text/plain": [
       "3.1"
      ]
     },
     "execution_count": 19,
     "metadata": {},
     "output_type": "execute_result"
    }
   ],
   "source": [
    "np.round(3.1415, 1)"
   ]
  },
  {
   "cell_type": "code",
   "execution_count": 20,
   "metadata": {},
   "outputs": [],
   "source": [
    "from mlscorecheck.aggregated import (Fold, Dataset, Experiment,\n",
    "                                        generate_dataset_specification,\n",
    "                                        generate_experiment_specification)\n",
    "from mlscorecheck.aggregated import solve\n",
    "from mlscorecheck.experiments import dataset_statistics"
   ]
  },
  {
   "cell_type": "code",
   "execution_count": 21,
   "metadata": {},
   "outputs": [],
   "source": [
    "TOL=1*1e-5\n",
    "score_subset=['acc', 'bacc']\n",
    "random_state=14\n",
    "rounding_decimals=2\n",
    "aggregation='rom'\n",
    "aggregation_ds='mor'"
   ]
  },
  {
   "cell_type": "code",
   "execution_count": 22,
   "metadata": {},
   "outputs": [
    {
     "name": "stderr",
     "output_type": "stream",
     "text": [
      "2023-08-26 03:30:30,802:INFO:generating a random id for the dataset\n",
      "2023-08-26 03:30:30,805:INFO:creating a folding based on the specification\n",
      "2023-08-26 03:30:30,807:INFO:generating a random id for the dataset\n",
      "2023-08-26 03:30:30,809:INFO:a random identifier for the fold has been generated pdhtxacycdejshpa\n",
      "2023-08-26 03:30:30,810:INFO:querying p and n from looking up the dataset\n",
      "2023-08-26 03:30:30,812:INFO:creating a folding based on the specification\n",
      "2023-08-26 03:30:30,813:INFO:generating a random id for the dataset\n",
      "2023-08-26 03:30:30,815:INFO:creating a folding based on the specification\n"
     ]
    }
   ],
   "source": [
    "problem = generate_experiment_specification(max_n_datasets=4,\n",
    "                                                max_n_folds=3,\n",
    "                                                max_n_repeats=2,\n",
    "                                                random_state=random_state,\n",
    "                                                aggregation=aggregation,\n",
    "                                                aggregation_ds=aggregation_ds)\n",
    "problem = Experiment(**problem)\n",
    "\n",
    "sample = problem.sample(random_state)\n",
    "problem = problem.add_dataset_bounds(sample.get_dataset_bounds(score_subset, feasible=True))\n",
    "\n",
    "scores = sample.calculate_scores(score_subset, rounding_decimals)\n",
    "\n",
    "eps = 10**(-rounding_decimals) + TOL"
   ]
  },
  {
   "cell_type": "code",
   "execution_count": 23,
   "metadata": {},
   "outputs": [
    {
     "name": "stderr",
     "output_type": "stream",
     "text": [
      "2023-08-26 03:30:30,843:INFO:dataset amksgwfffzlqcazx: adding lower bound 0.3177514792899408 for acc\n",
      "2023-08-26 03:30:30,846:INFO:dataset amksgwfffzlqcazx: adding upper bound 0.7177514792899409 for acc\n",
      "2023-08-26 03:30:30,848:INFO:dataset amksgwfffzlqcazx: adding lower bound 0.3095416959601362 for bacc\n",
      "2023-08-26 03:30:30,849:INFO:dataset amksgwfffzlqcazx: adding upper bound 0.7095416959601362 for bacc\n",
      "2023-08-26 03:30:30,850:INFO:dataset pnskqkbswrthqjfb: adding lower bound 0.15664335664335666 for acc\n",
      "2023-08-26 03:30:30,852:INFO:dataset pnskqkbswrthqjfb: adding upper bound 0.5566433566433566 for acc\n",
      "2023-08-26 03:30:30,854:INFO:dataset pnskqkbswrthqjfb: adding lower bound 0.16210673038630025 for bacc\n",
      "2023-08-26 03:30:30,855:INFO:dataset pnskqkbswrthqjfb: adding upper bound 0.5621067303863003 for bacc\n",
      "2023-08-26 03:30:30,857:INFO:dataset common_datasets.ecoli_0_1_vs_2_3_5: adding lower bound 0.259016393442623 for acc\n",
      "2023-08-26 03:30:30,858:INFO:dataset common_datasets.ecoli_0_1_vs_2_3_5: adding upper bound 0.659016393442623 for acc\n",
      "2023-08-26 03:30:30,860:INFO:dataset common_datasets.ecoli_0_1_vs_2_3_5: adding lower bound 0.21231060606060603 for bacc\n",
      "2023-08-26 03:30:30,861:INFO:dataset common_datasets.ecoli_0_1_vs_2_3_5: adding upper bound 0.612310606060606 for bacc\n",
      "2023-08-26 03:30:30,863:INFO:dataset xmvdvfccsfnbbbbl: adding lower bound 0.0 for acc\n",
      "2023-08-26 03:30:30,868:INFO:dataset xmvdvfccsfnbbbbl: adding upper bound 0.3757085020242915 for acc\n",
      "2023-08-26 03:30:30,870:INFO:dataset xmvdvfccsfnbbbbl: adding lower bound 0.02919469423399182 for bacc\n",
      "2023-08-26 03:30:30,873:INFO:dataset xmvdvfccsfnbbbbl: adding upper bound 0.4291946942339918 for bacc\n",
      "2023-08-26 03:30:30,875:INFO:None: adding condition acc >= 0.359990\n",
      "2023-08-26 03:30:30,876:INFO:None: adding condition acc <= 0.380010\n",
      "2023-08-26 03:30:30,878:INFO:None: adding condition bacc >= 0.369990\n",
      "2023-08-26 03:30:30,879:INFO:None: adding condition bacc <= 0.390010\n"
     ]
    },
    {
     "name": "stdout",
     "output_type": "stream",
     "text": [
      "Welcome to the CBC MILP Solver \n",
      "Version: 2.10.3 \n",
      "Build Date: Dec 15 2019 \n",
      "\n",
      "command line - /home/gykovacs/anaconda3/envs/mlscorecheck/lib/python3.10/site-packages/pulp/solverdir/cbc/linux/64/cbc /tmp/f1d7433ff3be4e25a04bd3b282f37082-pulp.mps timeMode elapsed branch printingOptions all solution /tmp/f1d7433ff3be4e25a04bd3b282f37082-pulp.sol (default strategy 1)\n",
      "At line 2 NAME          MODEL\n",
      "At line 3 ROWS\n",
      "At line 25 COLUMNS\n",
      "At line 227 RHS\n",
      "At line 248 BOUNDS\n",
      "At line 270 ENDATA\n",
      "Problem MODEL has 20 rows, 21 columns and 160 elements\n",
      "Coin0008I MODEL read with 0 errors\n",
      "Option for timeMode changed from cpu to elapsed\n",
      "Continuous objective value is 0 - 0.00 seconds\n",
      "Cgl0004I processed model has 10 rows, 10 columns (10 integer (0 of which binary)) and 40 elements\n",
      "Cbc0012I Integer solution of 0 found by DiveCoefficient after 3 iterations and 0 nodes (0.01 seconds)\n",
      "Cbc0031I 3 added rows had average density of 4\n",
      "Cbc0013I At root node, 3 cuts changed objective from 0 to 0 in 3 passes\n",
      "Cbc0014I Cut generator 0 (Probing) - 0 row cuts average 0.0 elements, 0 column cuts (0 active)  in 0.000 seconds - new frequency is -100\n",
      "Cbc0014I Cut generator 1 (Gomory) - 4 row cuts average 4.2 elements, 0 column cuts (0 active)  in 0.000 seconds - new frequency is -100\n",
      "Cbc0014I Cut generator 2 (Knapsack) - 0 row cuts average 0.0 elements, 0 column cuts (0 active)  in 0.000 seconds - new frequency is -100\n",
      "Cbc0014I Cut generator 3 (Clique) - 0 row cuts average 0.0 elements, 0 column cuts (0 active)  in 0.000 seconds - new frequency is -100\n",
      "Cbc0014I Cut generator 4 (MixedIntegerRounding2) - 1 row cuts average 2.0 elements, 0 column cuts (0 active)  in 0.000 seconds - new frequency is -100\n",
      "Cbc0014I Cut generator 5 (FlowCover) - 0 row cuts average 0.0 elements, 0 column cuts (0 active)  in 0.000 seconds - new frequency is -100\n",
      "Cbc0014I Cut generator 6 (TwoMirCuts) - 4 row cuts average 4.2 elements, 0 column cuts (0 active)  in 0.000 seconds - new frequency is -100\n",
      "Cbc0001I Search completed - best objective 0, took 3 iterations and 0 nodes (0.01 seconds)\n",
      "Cbc0035I Maximum depth 0, 0 variables fixed on reduced cost\n",
      "Cuts at root node changed objective from 0 to 0\n",
      "Probing was tried 3 times and created 0 cuts of which 0 were active after adding rounds of cuts (0.000 seconds)\n",
      "Gomory was tried 3 times and created 4 cuts of which 0 were active after adding rounds of cuts (0.000 seconds)\n",
      "Knapsack was tried 3 times and created 0 cuts of which 0 were active after adding rounds of cuts (0.000 seconds)\n",
      "Clique was tried 3 times and created 0 cuts of which 0 were active after adding rounds of cuts (0.000 seconds)\n",
      "MixedIntegerRounding2 was tried 3 times and created 1 cuts of which 0 were active after adding rounds of cuts (0.000 seconds)\n",
      "FlowCover was tried 3 times and created 0 cuts of which 0 were active after adding rounds of cuts (0.000 seconds)\n",
      "TwoMirCuts was tried 3 times and created 4 cuts of which 0 were active after adding rounds of cuts (0.000 seconds)\n",
      "ZeroHalf was tried 1 times and created 0 cuts of which 0 were active after adding rounds of cuts (0.000 seconds)\n",
      "\n",
      "Result - Optimal solution found\n",
      "\n",
      "Objective value:                0.00000000\n",
      "Enumerated nodes:               0\n",
      "Total iterations:               3\n",
      "Time (CPU seconds):             0.01\n",
      "Time (Wallclock seconds):       0.01\n",
      "\n",
      "Option for printingOptions changed from normal to all\n",
      "Total time (CPU seconds):       0.01   (Wallclock seconds):       0.01\n",
      "\n"
     ]
    }
   ],
   "source": [
    "result = solve(problem, scores, eps)"
   ]
  },
  {
   "cell_type": "code",
   "execution_count": 24,
   "metadata": {},
   "outputs": [
    {
     "data": {
      "text/plain": [
       "{'acc': 0.37, 'bacc': 0.38}"
      ]
     },
     "execution_count": 24,
     "metadata": {},
     "output_type": "execute_result"
    }
   ],
   "source": [
    "scores"
   ]
  },
  {
   "cell_type": "code",
   "execution_count": 25,
   "metadata": {},
   "outputs": [
    {
     "data": {
      "text/plain": [
       "{'acc': 0.5177514792899408,\n",
       " 'sens': 0.46727473742399117,\n",
       " 'spec': 0.5518086544962812,\n",
       " 'bacc': 0.5095416959601362}"
      ]
     },
     "execution_count": 25,
     "metadata": {},
     "output_type": "execute_result"
    }
   ],
   "source": [
    "sample.datasets[0].calculate_scores()"
   ]
  },
  {
   "cell_type": "code",
   "execution_count": 26,
   "metadata": {},
   "outputs": [
    {
     "data": {
      "text/plain": [
       "{'identifier': 'amksgwfffzlqcazx',\n",
       " 'score_bounds': None,\n",
       " 'folds': [{'p': 134,\n",
       "   'n': 204,\n",
       "   'identifier': 'amksgwfffzlqcazx_0_0',\n",
       "   'score_bounds': None,\n",
       "   'figures': {'tp': 107, 'tn': 88}},\n",
       "  {'p': 135,\n",
       "   'n': 203,\n",
       "   'identifier': 'amksgwfffzlqcazx_0_1',\n",
       "   'score_bounds': None,\n",
       "   'figures': {'tp': 12, 'tn': 150}},\n",
       "  {'p': 134,\n",
       "   'n': 204,\n",
       "   'identifier': 'amksgwfffzlqcazx_1_0',\n",
       "   'score_bounds': None,\n",
       "   'figures': {'tp': 71, 'tn': 102}},\n",
       "  {'p': 135,\n",
       "   'n': 203,\n",
       "   'identifier': 'amksgwfffzlqcazx_1_1',\n",
       "   'score_bounds': None,\n",
       "   'figures': {'tp': 61, 'tn': 109}}],\n",
       " 'aggregation': 'mor'}"
      ]
     },
     "execution_count": 26,
     "metadata": {},
     "output_type": "execute_result"
    }
   ],
   "source": [
    "sample.datasets[0].to_dict()"
   ]
  },
  {
   "cell_type": "code",
   "execution_count": 27,
   "metadata": {},
   "outputs": [
    {
     "data": {
      "text/plain": [
       "{'acc': 0.35664335664335667,\n",
       " 'sens': 0.32098765432098764,\n",
       " 'spec': 0.4032258064516129,\n",
       " 'bacc': 0.36210673038630026}"
      ]
     },
     "execution_count": 27,
     "metadata": {},
     "output_type": "execute_result"
    }
   ],
   "source": [
    "sample.datasets[1].calculate_scores()"
   ]
  },
  {
   "cell_type": "code",
   "execution_count": 28,
   "metadata": {},
   "outputs": [
    {
     "data": {
      "text/plain": [
       "{'identifier': 'pnskqkbswrthqjfb',\n",
       " 'score_bounds': {'acc': (0.15664335664335666, 0.5566433566433566),\n",
       "  'bacc': (0.16210673038630025, 0.5621067303863003)},\n",
       " 'folds': [{'p': 81,\n",
       "   'n': 62,\n",
       "   'identifier': 'pdhtxacycdejshpa',\n",
       "   'score_bounds': None,\n",
       "   'figures': None}],\n",
       " 'aggregation': 'mor'}"
      ]
     },
     "execution_count": 28,
     "metadata": {},
     "output_type": "execute_result"
    }
   ],
   "source": [
    "problem.datasets[1].to_dict()"
   ]
  },
  {
   "cell_type": "code",
   "execution_count": 29,
   "metadata": {},
   "outputs": [
    {
     "data": {
      "text/plain": [
       "{'acc': 0.459016393442623,\n",
       " 'sens': 0.35416666666666663,\n",
       " 'spec': 0.4704545454545454,\n",
       " 'bacc': 0.41231060606060604}"
      ]
     },
     "execution_count": 29,
     "metadata": {},
     "output_type": "execute_result"
    }
   ],
   "source": [
    "sample.datasets[2].calculate_scores()"
   ]
  },
  {
   "cell_type": "code",
   "execution_count": 30,
   "metadata": {},
   "outputs": [
    {
     "data": {
      "text/plain": [
       "{'identifier': 'common_datasets.ecoli_0_1_vs_2_3_5',\n",
       " 'score_bounds': {'acc': (0.259016393442623, 0.659016393442623),\n",
       "  'bacc': (0.21231060606060603, 0.612310606060606)},\n",
       " 'folds': [{'p': 12,\n",
       "   'n': 110,\n",
       "   'identifier': 'common_datasets.ecoli_0_1_vs_2_3_5_0_0',\n",
       "   'score_bounds': None,\n",
       "   'figures': None},\n",
       "  {'p': 12,\n",
       "   'n': 110,\n",
       "   'identifier': 'common_datasets.ecoli_0_1_vs_2_3_5_0_1',\n",
       "   'score_bounds': None,\n",
       "   'figures': None},\n",
       "  {'p': 12,\n",
       "   'n': 110,\n",
       "   'identifier': 'common_datasets.ecoli_0_1_vs_2_3_5_1_0',\n",
       "   'score_bounds': None,\n",
       "   'figures': None},\n",
       "  {'p': 12,\n",
       "   'n': 110,\n",
       "   'identifier': 'common_datasets.ecoli_0_1_vs_2_3_5_1_1',\n",
       "   'score_bounds': None,\n",
       "   'figures': None}],\n",
       " 'aggregation': 'mor'}"
      ]
     },
     "execution_count": 30,
     "metadata": {},
     "output_type": "execute_result"
    }
   ],
   "source": [
    "problem.datasets[2].to_dict()"
   ]
  },
  {
   "cell_type": "code",
   "execution_count": null,
   "metadata": {},
   "outputs": [],
   "source": []
  },
  {
   "cell_type": "code",
   "execution_count": null,
   "metadata": {},
   "outputs": [],
   "source": []
  },
  {
   "cell_type": "code",
   "execution_count": 31,
   "metadata": {},
   "outputs": [
    {
     "name": "stderr",
     "output_type": "stream",
     "text": [
      "2023-08-26 03:30:31,040:INFO:creating a folding based on the specification\n",
      "2023-08-26 03:30:31,041:INFO:a random identifier for the fold has been generated fzgdyygakpeenxad\n",
      "2023-08-26 03:30:31,042:INFO:a random identifier for the fold has been generated hepyyzvrirhydlbd\n",
      "2023-08-26 03:30:31,043:INFO:a random identifier for the fold has been generated opnpnmpsmlvvpbfn\n",
      "2023-08-26 03:30:31,043:INFO:a random identifier for the fold has been generated wbwbscounhfkdwlv\n",
      "2023-08-26 03:30:31,044:INFO:a random identifier for the fold has been generated tupafbfepeamjzkr\n",
      "2023-08-26 03:30:31,045:INFO:a random identifier for the fold has been generated dalhbfwfgltsetxy\n",
      "2023-08-26 03:30:31,046:INFO:a random identifier for the fold has been generated qekppywgqwekbors\n",
      "2023-08-26 03:30:31,047:INFO:a random identifier for the fold has been generated kqdjuoiloqdihtpe\n",
      "2023-08-26 03:30:31,048:INFO:a random identifier for the fold has been generated ltlinlolptkdmykf\n",
      "2023-08-26 03:30:31,049:INFO:a random identifier for the fold has been generated auxqqpnotsyagvgh\n",
      "2023-08-26 03:30:31,050:INFO:a random identifier for the fold has been generated etkmsfvkrusluiae\n",
      "2023-08-26 03:30:31,051:INFO:a random identifier for the fold has been generated mgriiljfnjrduswm\n",
      "2023-08-26 03:30:31,052:INFO:a random identifier for the fold has been generated dnvpooriiiiapkwn\n",
      "2023-08-26 03:30:31,056:INFO:a random identifier for the fold has been generated pdhyafjieeseltkg\n",
      "2023-08-26 03:30:31,056:INFO:a random identifier for the fold has been generated ujmdxyvkxmpbtspt\n",
      "2023-08-26 03:30:31,057:INFO:a random identifier for the fold has been generated efmcosrvzcxukkfn\n",
      "2023-08-26 03:30:31,058:INFO:a random identifier for the fold has been generated chhkqjzqlpzhgzre\n",
      "2023-08-26 03:30:31,058:INFO:a random identifier for the fold has been generated hnmhhbglxsnhsafp\n",
      "2023-08-26 03:30:31,059:INFO:a random identifier for the fold has been generated aghpgfzizkkfqrnt\n",
      "2023-08-26 03:30:31,060:INFO:a random identifier for the fold has been generated nnhorhyxjhjhgdxz\n",
      "2023-08-26 03:30:31,062:INFO:a random identifier for the fold has been generated snzpuzoebkpdzztm\n",
      "2023-08-26 03:30:31,063:INFO:querying p and n from looking up the dataset\n",
      "2023-08-26 03:30:31,064:INFO:creating a folding based on the specification\n",
      "2023-08-26 03:30:31,065:INFO:querying p and n from looking up the dataset\n",
      "2023-08-26 03:30:31,066:INFO:creating a folding based on the specification\n",
      "2023-08-26 03:30:31,067:INFO:querying p and n from looking up the dataset\n",
      "2023-08-26 03:30:31,068:INFO:creating a folding based on the specification\n",
      "2023-08-26 03:30:31,069:INFO:generating a random id for the dataset\n",
      "2023-08-26 03:30:31,074:INFO:a random identifier for the fold has been generated xgtpoxlibumvuana\n",
      "2023-08-26 03:30:31,075:INFO:a random identifier for the fold has been generated ctfqwrnnlsslawpn\n",
      "2023-08-26 03:30:31,076:INFO:a random identifier for the fold has been generated wbtkfgzsfxeuyxdi\n",
      "2023-08-26 03:30:31,077:INFO:a random identifier for the fold has been generated mexoreqahwoanpfw\n",
      "2023-08-26 03:30:31,078:INFO:a random identifier for the fold has been generated zllkhcpmuoxpjyfy\n",
      "2023-08-26 03:30:31,079:INFO:a random identifier for the fold has been generated ndgjtajhwjfcvser\n",
      "2023-08-26 03:30:31,079:INFO:a random identifier for the fold has been generated veycwfnrnbymdeze\n",
      "2023-08-26 03:30:31,080:INFO:a random identifier for the fold has been generated berxwblrfnppnbxj\n",
      "2023-08-26 03:30:31,081:INFO:a random identifier for the fold has been generated kebpaceacrkxgdkg\n",
      "2023-08-26 03:30:31,082:INFO:a random identifier for the fold has been generated ncizraicvgdkobiu\n",
      "2023-08-26 03:30:31,083:INFO:a random identifier for the fold has been generated sblkcnamxptwuntt\n",
      "2023-08-26 03:30:31,084:INFO:a random identifier for the fold has been generated wnvyngckeqvevewp\n",
      "2023-08-26 03:30:31,086:INFO:a random identifier for the fold has been generated umzlvtdmbmasuezz\n",
      "2023-08-26 03:30:31,087:INFO:a random identifier for the fold has been generated samanctpngcfwofl\n",
      "2023-08-26 03:30:31,088:INFO:a random identifier for the fold has been generated zsrokkmuwhhzdxdb\n",
      "2023-08-26 03:30:31,089:INFO:a random identifier for the fold has been generated yfljqxvmhyfnozpl\n",
      "2023-08-26 03:30:31,090:INFO:a random identifier for the fold has been generated rttbpwthtrlevkzs\n",
      "2023-08-26 03:30:31,090:INFO:a random identifier for the fold has been generated uaftzcibyxmbeail\n",
      "2023-08-26 03:30:31,091:INFO:a random identifier for the fold has been generated nadtklggutrjkzhk\n",
      "2023-08-26 03:30:31,092:INFO:a random identifier for the fold has been generated bdbidzdrhbsafcpt\n",
      "2023-08-26 03:30:31,092:INFO:a random identifier for the fold has been generated wvrfdvsbotvvvecg\n",
      "2023-08-26 03:30:31,093:INFO:a random identifier for the fold has been generated swxxmouflkfkygvz\n",
      "2023-08-26 03:30:31,094:INFO:a random identifier for the fold has been generated kiygifiukcljiunk\n",
      "2023-08-26 03:30:31,095:INFO:a random identifier for the fold has been generated cejjavnlfvnrujri\n",
      "2023-08-26 03:30:31,095:INFO:a random identifier for the fold has been generated yxoweaepuomyxbaf\n",
      "2023-08-26 03:30:31,096:INFO:a random identifier for the fold has been generated jyebohsteekbtzlk\n",
      "2023-08-26 03:30:31,097:INFO:a random identifier for the fold has been generated zuqoqxnfufgmhroo\n",
      "2023-08-26 03:30:31,097:INFO:a random identifier for the fold has been generated vrizanrwqbudsgnh\n",
      "2023-08-26 03:30:31,098:INFO:a random identifier for the fold has been generated zcxdmblolfipysmy\n",
      "2023-08-26 03:30:31,099:INFO:a random identifier for the fold has been generated cxazijdikkcjdddh\n",
      "2023-08-26 03:30:31,100:INFO:a random identifier for the fold has been generated fckyxwusqpqlbtzn\n",
      "2023-08-26 03:30:31,103:INFO:a random identifier for the fold has been generated ixvprapdqwidtjbc\n",
      "2023-08-26 03:30:31,112:INFO:a random identifier for the fold has been generated ljwoqxrteixtrrir\n",
      "2023-08-26 03:30:31,114:INFO:a random identifier for the fold has been generated knvpurmwijtuqtxq\n",
      "2023-08-26 03:30:31,115:INFO:a random identifier for the fold has been generated dnwypcgqlgkfwzor\n",
      "2023-08-26 03:30:31,115:INFO:a random identifier for the fold has been generated gsrrpohhnnpbdapv\n",
      "2023-08-26 03:30:31,116:INFO:a random identifier for the fold has been generated gssmpixtazguhfsf\n",
      "2023-08-26 03:30:31,117:INFO:a random identifier for the fold has been generated jiyoooyfvvooppye\n",
      "2023-08-26 03:30:31,118:INFO:a random identifier for the fold has been generated khcuondatdmagncb\n",
      "2023-08-26 03:30:31,119:INFO:a random identifier for the fold has been generated bumfkskhjdaqxgid\n",
      "2023-08-26 03:30:31,120:INFO:a random identifier for the fold has been generated owbmindnmmhjadbo\n",
      "2023-08-26 03:30:31,121:INFO:a random identifier for the fold has been generated fjtadnoaqovfxidy\n",
      "2023-08-26 03:30:31,122:INFO:a random identifier for the fold has been generated jjgoiyvpwfjfjuxl\n",
      "2023-08-26 03:30:31,123:INFO:a random identifier for the fold has been generated eeutfkfkikbzkwpb\n",
      "2023-08-26 03:30:31,124:INFO:a random identifier for the fold has been generated huctylehkaniyzia\n",
      "2023-08-26 03:30:31,125:INFO:a random identifier for the fold has been generated pbkrzqppzzyeyeez\n",
      "2023-08-26 03:30:31,125:INFO:a random identifier for the fold has been generated nkhgszvlkalkprhg\n",
      "2023-08-26 03:30:31,126:INFO:a random identifier for the fold has been generated qdstrobqunxxxihq\n",
      "2023-08-26 03:30:31,127:INFO:a random identifier for the fold has been generated pneonefrcsamgkuf\n",
      "2023-08-26 03:30:31,128:INFO:a random identifier for the fold has been generated vlddtqokftcvxuzm\n",
      "2023-08-26 03:30:31,129:INFO:a random identifier for the fold has been generated dosbjgnrlhbdabyn\n",
      "2023-08-26 03:30:31,134:INFO:a random identifier for the fold has been generated ndtemjowgodyexmn\n",
      "2023-08-26 03:30:31,135:INFO:querying p and n from looking up the dataset\n",
      "2023-08-26 03:30:31,135:INFO:creating a folding based on the specification\n"
     ]
    }
   ],
   "source": [
    "experiment = Experiment(**generate_experiment_specification())"
   ]
  },
  {
   "cell_type": "code",
   "execution_count": 32,
   "metadata": {},
   "outputs": [],
   "source": [
    "sample = experiment.sample()"
   ]
  },
  {
   "cell_type": "code",
   "execution_count": 33,
   "metadata": {},
   "outputs": [
    {
     "data": {
      "text/plain": [
       "{'acc': 0.4808915495216206,\n",
       " 'sens': 0.4419621175327829,\n",
       " 'spec': 0.5000797957229492,\n",
       " 'bacc': 0.4710209566278661}"
      ]
     },
     "execution_count": 33,
     "metadata": {},
     "output_type": "execute_result"
    }
   ],
   "source": [
    "sample.calculate_scores()"
   ]
  },
  {
   "cell_type": "code",
   "execution_count": 34,
   "metadata": {},
   "outputs": [
    {
     "name": "stderr",
     "output_type": "stream",
     "text": [
      "2023-08-26 03:30:31,203:INFO:None: adding condition acc >= 0.480792\n",
      "2023-08-26 03:30:31,205:INFO:None: adding condition acc <= 0.480992\n",
      "2023-08-26 03:30:31,207:INFO:None: adding condition sens >= 0.441862\n",
      "2023-08-26 03:30:31,208:INFO:None: adding condition sens <= 0.442062\n",
      "2023-08-26 03:30:31,209:INFO:None: adding condition spec >= 0.499980\n",
      "2023-08-26 03:30:31,211:INFO:None: adding condition spec <= 0.500180\n",
      "2023-08-26 03:30:31,212:INFO:None: adding condition bacc >= 0.470921\n",
      "2023-08-26 03:30:31,213:INFO:None: adding condition bacc <= 0.471121\n"
     ]
    },
    {
     "name": "stdout",
     "output_type": "stream",
     "text": [
      "Welcome to the CBC MILP Solver \n",
      "Version: 2.10.3 \n",
      "Build Date: Dec 15 2019 \n",
      "\n",
      "command line - /home/gykovacs/anaconda3/envs/mlscorecheck/lib/python3.10/site-packages/pulp/solverdir/cbc/linux/64/cbc /tmp/c2e9058322ac45278f38b5f5f4fb5b30-pulp.mps timeMode elapsed branch printingOptions all solution /tmp/c2e9058322ac45278f38b5f5f4fb5b30-pulp.sol (default strategy 1)\n",
      "At line 2 NAME          MODEL\n",
      "At line 3 ROWS\n",
      "At line 13 COLUMNS\n",
      "At line 2207 RHS\n",
      "At line 2216 BOUNDS\n",
      "At line 2492 ENDATA\n",
      "Problem MODEL has 8 rows, 275 columns and 1644 elements\n",
      "Coin0008I MODEL read with 0 errors\n",
      "Option for timeMode changed from cpu to elapsed\n",
      "Continuous objective value is 0 - 0.00 seconds\n",
      "Cgl0004I processed model has 0 rows, 0 columns (0 integer (0 of which binary)) and 0 elements\n",
      "Cbc3007W No integer variables - nothing to do\n",
      "Cuts at root node changed objective from 0 to -1.79769e+308\n",
      "Probing was tried 0 times and created 0 cuts of which 0 were active after adding rounds of cuts (0.000 seconds)\n",
      "Gomory was tried 0 times and created 0 cuts of which 0 were active after adding rounds of cuts (0.000 seconds)\n",
      "Knapsack was tried 0 times and created 0 cuts of which 0 were active after adding rounds of cuts (0.000 seconds)\n",
      "Clique was tried 0 times and created 0 cuts of which 0 were active after adding rounds of cuts (0.000 seconds)\n",
      "MixedIntegerRounding2 was tried 0 times and created 0 cuts of which 0 were active after adding rounds of cuts (0.000 seconds)\n",
      "FlowCover was tried 0 times and created 0 cuts of which 0 were active after adding rounds of cuts (0.000 seconds)\n",
      "TwoMirCuts was tried 0 times and created 0 cuts of which 0 were active after adding rounds of cuts (0.000 seconds)\n",
      "ZeroHalf was tried 0 times and created 0 cuts of which 0 were active after adding rounds of cuts (0.000 seconds)\n",
      "\n",
      "Result - Optimal solution found\n",
      "\n",
      "Objective value:                0.00000000\n",
      "Enumerated nodes:               0\n",
      "Total iterations:               0\n",
      "Time (CPU seconds):             0.00\n",
      "Time (Wallclock seconds):       0.00\n",
      "\n",
      "Option for printingOptions changed from normal to all\n",
      "Total time (CPU seconds):       0.01   (Wallclock seconds):       0.01\n",
      "\n"
     ]
    },
    {
     "data": {
      "text/plain": [
       "True"
      ]
     },
     "execution_count": 34,
     "metadata": {},
     "output_type": "execute_result"
    }
   ],
   "source": [
    "solve(experiment, sample.calculate_scores(), 1e-4).status == 1"
   ]
  },
  {
   "cell_type": "code",
   "execution_count": null,
   "metadata": {},
   "outputs": [],
   "source": []
  },
  {
   "cell_type": "code",
   "execution_count": 35,
   "metadata": {},
   "outputs": [
    {
     "name": "stderr",
     "output_type": "stream",
     "text": [
      "2023-08-26 03:30:31,242:INFO:querying p and n from looking up the dataset\n",
      "2023-08-26 03:30:31,245:INFO:creating a folding based on the specification\n"
     ]
    }
   ],
   "source": [
    "dataset = Dataset(name='common_datasets.winequality-red-4', n_folds=2, n_repeats=3, aggregation='mor')"
   ]
  },
  {
   "cell_type": "code",
   "execution_count": 36,
   "metadata": {},
   "outputs": [],
   "source": [
    "ds2 = dataset.sample()"
   ]
  },
  {
   "cell_type": "code",
   "execution_count": 37,
   "metadata": {},
   "outputs": [],
   "source": [
    "scores = ds2.calculate_scores()"
   ]
  },
  {
   "cell_type": "code",
   "execution_count": 38,
   "metadata": {},
   "outputs": [
    {
     "name": "stderr",
     "output_type": "stream",
     "text": [
      "2023-08-26 03:30:31,283:INFO:common_datasets.winequality_red_4: adding condition acc >= 0.664691\n",
      "2023-08-26 03:30:31,285:INFO:common_datasets.winequality_red_4: adding condition acc <= 0.664891\n",
      "2023-08-26 03:30:31,286:INFO:common_datasets.winequality_red_4: adding condition sens >= 0.385465\n",
      "2023-08-26 03:30:31,288:INFO:common_datasets.winequality_red_4: adding condition sens <= 0.385665\n",
      "2023-08-26 03:30:31,289:INFO:common_datasets.winequality_red_4: adding condition spec >= 0.674329\n",
      "2023-08-26 03:30:31,291:INFO:common_datasets.winequality_red_4: adding condition spec <= 0.674529\n",
      "2023-08-26 03:30:31,292:INFO:common_datasets.winequality_red_4: adding condition bacc >= 0.529897\n",
      "2023-08-26 03:30:31,293:INFO:common_datasets.winequality_red_4: adding condition bacc <= 0.530097\n"
     ]
    },
    {
     "name": "stdout",
     "output_type": "stream",
     "text": [
      "Welcome to the CBC MILP Solver \n",
      "Version: 2.10.3 \n",
      "Build Date: Dec 15 2019 \n",
      "\n",
      "command line - /home/gykovacs/anaconda3/envs/mlscorecheck/lib/python3.10/site-packages/pulp/solverdir/cbc/linux/64/cbc /tmp/6aa89e744dfb46798be5e3da319ca461-pulp.mps timeMode elapsed branch printingOptions all solution /tmp/6aa89e744dfb46798be5e3da319ca461-pulp.sol (default strategy 1)\n",
      "At line 2 NAME          MODEL\n",
      "At line 3 ROWS\n",
      "At line 13 COLUMNS\n",
      "At line 111 RHS\n",
      "At line 120 BOUNDS\n",
      "At line 134 ENDATA\n",
      "Problem MODEL has 8 rows, 13 columns and 72 elements\n",
      "Coin0008I MODEL read with 0 errors\n",
      "Option for timeMode changed from cpu to elapsed\n",
      "Continuous objective value is 0 - 0.00 seconds\n",
      "Cgl0003I 0 fixed, 2 tightened bounds, 0 strengthened rows, 0 substitutions\n",
      "Cgl0003I 0 fixed, 6 tightened bounds, 0 strengthened rows, 0 substitutions\n",
      "Cgl0003I 0 fixed, 2 tightened bounds, 0 strengthened rows, 0 substitutions\n",
      "Cgl0003I 0 fixed, 6 tightened bounds, 0 strengthened rows, 0 substitutions\n",
      "Cgl0003I 0 fixed, 2 tightened bounds, 0 strengthened rows, 0 substitutions\n",
      "Cgl0003I 0 fixed, 6 tightened bounds, 0 strengthened rows, 0 substitutions\n",
      "Cgl0003I 0 fixed, 2 tightened bounds, 0 strengthened rows, 0 substitutions\n",
      "Cgl0003I 0 fixed, 6 tightened bounds, 0 strengthened rows, 0 substitutions\n",
      "Cgl0003I 0 fixed, 2 tightened bounds, 0 strengthened rows, 0 substitutions\n",
      "Cgl0004I processed model has 4 rows, 4 columns (4 integer (0 of which binary)) and 12 elements\n",
      "Cbc0031I 2 added rows had average density of 4\n",
      "Cbc0013I At root node, 2 cuts changed objective from 0 to 0 in 16 passes\n",
      "Cbc0014I Cut generator 0 (Probing) - 0 row cuts average 0.0 elements, 9 column cuts (9 active)  in 0.000 seconds - new frequency is -100\n",
      "Cbc0014I Cut generator 1 (Gomory) - 18 row cuts average 3.9 elements, 0 column cuts (0 active)  in 0.000 seconds - new frequency is -100\n",
      "Cbc0014I Cut generator 2 (Knapsack) - 0 row cuts average 0.0 elements, 0 column cuts (0 active)  in 0.000 seconds - new frequency is -100\n",
      "Cbc0014I Cut generator 3 (Clique) - 0 row cuts average 0.0 elements, 0 column cuts (0 active)  in 0.000 seconds - new frequency is -100\n",
      "Cbc0014I Cut generator 4 (MixedIntegerRounding2) - 0 row cuts average 0.0 elements, 0 column cuts (0 active)  in 0.000 seconds - new frequency is -100\n",
      "Cbc0014I Cut generator 5 (FlowCover) - 0 row cuts average 0.0 elements, 0 column cuts (0 active)  in 0.000 seconds - new frequency is -100\n",
      "Cbc0014I Cut generator 6 (TwoMirCuts) - 1 row cuts average 2.0 elements, 0 column cuts (0 active)  in 0.000 seconds - new frequency is -100\n",
      "Cbc0016I Integer solution of 0 found by strong branching after 15 iterations and 0 nodes (0.01 seconds)\n",
      "Cbc0001I Search completed - best objective 0, took 15 iterations and 0 nodes (0.01 seconds)\n",
      "Cbc0032I Strong branching done 2 times (2 iterations), fathomed 1 nodes and fixed 0 variables\n",
      "Cbc0035I Maximum depth 0, 0 variables fixed on reduced cost\n",
      "Cuts at root node changed objective from 0 to 0\n",
      "Probing was tried 16 times and created 9 cuts of which 0 were active after adding rounds of cuts (0.000 seconds)\n",
      "Gomory was tried 16 times and created 18 cuts of which 0 were active after adding rounds of cuts (0.000 seconds)\n",
      "Knapsack was tried 16 times and created 0 cuts of which 0 were active after adding rounds of cuts (0.000 seconds)\n",
      "Clique was tried 16 times and created 0 cuts of which 0 were active after adding rounds of cuts (0.000 seconds)\n",
      "MixedIntegerRounding2 was tried 16 times and created 0 cuts of which 0 were active after adding rounds of cuts (0.000 seconds)\n",
      "FlowCover was tried 16 times and created 0 cuts of which 0 were active after adding rounds of cuts (0.000 seconds)\n",
      "TwoMirCuts was tried 16 times and created 1 cuts of which 0 were active after adding rounds of cuts (0.000 seconds)\n",
      "ZeroHalf was tried 1 times and created 0 cuts of which 0 were active after adding rounds of cuts (0.000 seconds)\n",
      "\n",
      "Result - Optimal solution found\n",
      "\n",
      "Objective value:                0.00000000\n",
      "Enumerated nodes:               0\n",
      "Total iterations:               15\n",
      "Time (CPU seconds):             0.01\n",
      "Time (Wallclock seconds):       0.01\n",
      "\n",
      "Option for printingOptions changed from normal to all\n",
      "Total time (CPU seconds):       0.01   (Wallclock seconds):       0.01\n",
      "\n"
     ]
    }
   ],
   "source": [
    "res = solve(ds2, scores, 1e-4)"
   ]
  },
  {
   "cell_type": "code",
   "execution_count": 39,
   "metadata": {},
   "outputs": [
    {
     "data": {
      "text/plain": [
       "True"
      ]
     },
     "execution_count": 39,
     "metadata": {},
     "output_type": "execute_result"
    }
   ],
   "source": [
    "res.status == 1"
   ]
  },
  {
   "cell_type": "code",
   "execution_count": 40,
   "metadata": {},
   "outputs": [],
   "source": [
    "ds3 = dataset.populate(res)"
   ]
  },
  {
   "cell_type": "code",
   "execution_count": 41,
   "metadata": {},
   "outputs": [
    {
     "data": {
      "text/plain": [
       "{'tp': 'tp_common_datasets.winequality_red_4_0_0',\n",
       " 'tn': 'tn_common_datasets.winequality_red_4_0_0'}"
      ]
     },
     "execution_count": 41,
     "metadata": {},
     "output_type": "execute_result"
    }
   ],
   "source": [
    "ds3.folds[0].variable_names"
   ]
  },
  {
   "cell_type": "code",
   "execution_count": 42,
   "metadata": {},
   "outputs": [
    {
     "data": {
      "text/plain": [
       "{'p': 27, 'n': 773, 'identifier': 'common_datasets.winequality_red_4_0_0', 'score_bounds': None, 'figures': {'tn': 773.0, 'tp': 23.0}}"
      ]
     },
     "execution_count": 42,
     "metadata": {},
     "output_type": "execute_result"
    }
   ],
   "source": [
    "ds3.folds[0].populate(res)"
   ]
  },
  {
   "cell_type": "code",
   "execution_count": null,
   "metadata": {},
   "outputs": [],
   "source": []
  },
  {
   "cell_type": "code",
   "execution_count": null,
   "metadata": {},
   "outputs": [],
   "source": []
  },
  {
   "cell_type": "code",
   "execution_count": 43,
   "metadata": {},
   "outputs": [
    {
     "name": "stderr",
     "output_type": "stream",
     "text": [
      "2023-08-26 03:30:31,380:INFO:creating a folding based on the specification\n"
     ]
    },
    {
     "data": {
      "text/plain": [
       "{'identifier': 'xolavqpg', 'score_bounds': None, 'folds': [{'p': 46, 'n': 95, 'identifier': 'xolavqpg_0_0', 'score_bounds': None, 'figures': None}, {'p': 46, 'n': 95, 'identifier': 'xolavqpg_0_1', 'score_bounds': None, 'figures': None}, {'p': 46, 'n': 95, 'identifier': 'xolavqpg_0_2', 'score_bounds': None, 'figures': None}, {'p': 46, 'n': 95, 'identifier': 'xolavqpg_0_3', 'score_bounds': None, 'figures': None}, {'p': 46, 'n': 95, 'identifier': 'xolavqpg_0_4', 'score_bounds': None, 'figures': None}, {'p': 46, 'n': 95, 'identifier': 'xolavqpg_0_5', 'score_bounds': None, 'figures': None}, {'p': 46, 'n': 94, 'identifier': 'xolavqpg_0_6', 'score_bounds': None, 'figures': None}, {'p': 46, 'n': 94, 'identifier': 'xolavqpg_0_7', 'score_bounds': None, 'figures': None}, {'p': 46, 'n': 95, 'identifier': 'xolavqpg_1_0', 'score_bounds': None, 'figures': None}, {'p': 46, 'n': 95, 'identifier': 'xolavqpg_1_1', 'score_bounds': None, 'figures': None}, {'p': 46, 'n': 95, 'identifier': 'xolavqpg_1_2', 'score_bounds': None, 'figures': None}, {'p': 46, 'n': 95, 'identifier': 'xolavqpg_1_3', 'score_bounds': None, 'figures': None}, {'p': 46, 'n': 95, 'identifier': 'xolavqpg_1_4', 'score_bounds': None, 'figures': None}, {'p': 46, 'n': 95, 'identifier': 'xolavqpg_1_5', 'score_bounds': None, 'figures': None}, {'p': 46, 'n': 94, 'identifier': 'xolavqpg_1_6', 'score_bounds': None, 'figures': None}, {'p': 46, 'n': 94, 'identifier': 'xolavqpg_1_7', 'score_bounds': None, 'figures': None}, {'p': 46, 'n': 95, 'identifier': 'xolavqpg_2_0', 'score_bounds': None, 'figures': None}, {'p': 46, 'n': 95, 'identifier': 'xolavqpg_2_1', 'score_bounds': None, 'figures': None}, {'p': 46, 'n': 95, 'identifier': 'xolavqpg_2_2', 'score_bounds': None, 'figures': None}, {'p': 46, 'n': 95, 'identifier': 'xolavqpg_2_3', 'score_bounds': None, 'figures': None}, {'p': 46, 'n': 95, 'identifier': 'xolavqpg_2_4', 'score_bounds': None, 'figures': None}, {'p': 46, 'n': 95, 'identifier': 'xolavqpg_2_5', 'score_bounds': None, 'figures': None}, {'p': 46, 'n': 94, 'identifier': 'xolavqpg_2_6', 'score_bounds': None, 'figures': None}, {'p': 46, 'n': 94, 'identifier': 'xolavqpg_2_7', 'score_bounds': None, 'figures': None}], 'aggregation': 'mor'}"
      ]
     },
     "execution_count": 43,
     "metadata": {},
     "output_type": "execute_result"
    }
   ],
   "source": [
    "Dataset(**generate_dataset_specification())"
   ]
  },
  {
   "cell_type": "code",
   "execution_count": 44,
   "metadata": {},
   "outputs": [
    {
     "name": "stderr",
     "output_type": "stream",
     "text": [
      "2023-08-26 03:30:31,398:INFO:generating a random id for the dataset\n",
      "2023-08-26 03:30:31,400:INFO:a random identifier for the fold has been generated piaufhtdltibrlxd\n",
      "2023-08-26 03:30:31,401:INFO:a random identifier for the fold has been generated ldugdqvpydnppwel\n",
      "2023-08-26 03:30:31,402:INFO:a random identifier for the fold has been generated feaqakbltjiargxx\n",
      "2023-08-26 03:30:31,402:INFO:a random identifier for the fold has been generated yriqhbjmsnzjpuzu\n",
      "2023-08-26 03:30:31,403:INFO:a random identifier for the fold has been generated jyrcnpvtdrfvdabr\n",
      "2023-08-26 03:30:31,405:INFO:a random identifier for the fold has been generated ljrdnxmhkbyuizqh\n",
      "2023-08-26 03:30:31,406:INFO:a random identifier for the fold has been generated yghalkrtnbcntwln\n",
      "2023-08-26 03:30:31,407:INFO:a random identifier for the fold has been generated ndemafwrqqewwdna\n",
      "2023-08-26 03:30:31,407:INFO:a random identifier for the fold has been generated vepgzkhtjfnvpbxl\n",
      "2023-08-26 03:30:31,409:INFO:a random identifier for the fold has been generated bjulmgtrcqjxmibl\n",
      "2023-08-26 03:30:31,410:INFO:a random identifier for the fold has been generated wefaperhutsesndu\n",
      "2023-08-26 03:30:31,411:INFO:a random identifier for the fold has been generated smjthcmruhsyysup\n",
      "2023-08-26 03:30:31,412:INFO:a random identifier for the fold has been generated prrwdkuoyxnoxkba\n",
      "2023-08-26 03:30:31,412:INFO:a random identifier for the fold has been generated kxuyafwbprsopcyu\n",
      "2023-08-26 03:30:31,413:INFO:a random identifier for the fold has been generated zxphdjlcugaamzhg\n",
      "2023-08-26 03:30:31,414:INFO:a random identifier for the fold has been generated tkiapjjtcmyiqbuw\n",
      "2023-08-26 03:30:31,414:INFO:a random identifier for the fold has been generated kajkjjjmabvtpovy\n",
      "2023-08-26 03:30:31,416:INFO:a random identifier for the fold has been generated bifspukrohwjrtyl\n",
      "2023-08-26 03:30:31,416:INFO:a random identifier for the fold has been generated nataogtsnfjgpmjb\n",
      "2023-08-26 03:30:31,417:INFO:a random identifier for the fold has been generated zkpkllhbxuquvwky\n",
      "2023-08-26 03:30:31,418:INFO:a random identifier for the fold has been generated ifczwfzbgwefurnp\n",
      "2023-08-26 03:30:31,419:INFO:a random identifier for the fold has been generated jgerdqqjkzyctrsm\n",
      "2023-08-26 03:30:31,419:INFO:a random identifier for the fold has been generated rkilwitsahyepphq\n",
      "2023-08-26 03:30:31,420:INFO:a random identifier for the fold has been generated czsqaiuauyrpczwc\n",
      "2023-08-26 03:30:31,421:INFO:a random identifier for the fold has been generated mthkskycxwopohnd\n",
      "2023-08-26 03:30:31,422:INFO:a random identifier for the fold has been generated imgimlpksvxqtzbi\n",
      "2023-08-26 03:30:31,429:INFO:a random identifier for the fold has been generated picteispemlnaybn\n"
     ]
    }
   ],
   "source": [
    "problem = Dataset(**generate_dataset_specification())"
   ]
  },
  {
   "cell_type": "code",
   "execution_count": 45,
   "metadata": {},
   "outputs": [],
   "source": [
    "sample = problem.sample()"
   ]
  },
  {
   "cell_type": "code",
   "execution_count": 46,
   "metadata": {},
   "outputs": [
    {
     "data": {
      "text/plain": [
       "{'tp': 705, 'tn': 534, 'p': 1513, 'n': 1060}"
      ]
     },
     "execution_count": 46,
     "metadata": {},
     "output_type": "execute_result"
    }
   ],
   "source": [
    "sample.calculate_figures()"
   ]
  },
  {
   "cell_type": "code",
   "execution_count": 47,
   "metadata": {},
   "outputs": [
    {
     "data": {
      "text/plain": [
       "{'acc': 0.47448535476679216,\n",
       " 'sens': 0.4649938256311379,\n",
       " 'spec': 0.46308416997699586,\n",
       " 'bacc': 0.4640389978040668}"
      ]
     },
     "execution_count": 47,
     "metadata": {},
     "output_type": "execute_result"
    }
   ],
   "source": [
    "sample.calculate_scores()"
   ]
  },
  {
   "cell_type": "code",
   "execution_count": 48,
   "metadata": {},
   "outputs": [
    {
     "ename": "AttributeError",
     "evalue": "'Dataset' object has no attribute 'set_fold_bounds'",
     "output_type": "error",
     "traceback": [
      "\u001b[0;31m---------------------------------------------------------------------------\u001b[0m",
      "\u001b[0;31mAttributeError\u001b[0m                            Traceback (most recent call last)",
      "Cell \u001b[0;32mIn[48], line 1\u001b[0m\n\u001b[0;32m----> 1\u001b[0m res \u001b[39m=\u001b[39m solve(problem\u001b[39m.\u001b[39;49mset_fold_bounds(sample\u001b[39m.\u001b[39mget_fold_bounds(feasible\u001b[39m=\u001b[39m\u001b[39mFalse\u001b[39;00m)), sample\u001b[39m.\u001b[39mcalculate_scores(), \u001b[39m1e-4\u001b[39m)\n",
      "\u001b[0;31mAttributeError\u001b[0m: 'Dataset' object has no attribute 'set_fold_bounds'"
     ]
    }
   ],
   "source": [
    "res = solve(problem.set_fold_bounds(sample.get_fold_bounds(feasible=False)), sample.calculate_scores(), 1e-4)"
   ]
  },
  {
   "cell_type": "code",
   "execution_count": null,
   "metadata": {},
   "outputs": [
    {
     "data": {
      "text/plain": [
       "False"
      ]
     },
     "execution_count": 12,
     "metadata": {},
     "output_type": "execute_result"
    }
   ],
   "source": [
    "res.status == 1"
   ]
  },
  {
   "cell_type": "code",
   "execution_count": null,
   "metadata": {},
   "outputs": [
    {
     "data": {
      "text/plain": [
       "{'acc': (0.5925483870967742, 0.5945483870967742),\n",
       " 'sens': (0.6786875, 0.6806875),\n",
       " 'spec': (0.5701382113821138, 0.5721382113821138),\n",
       " 'bacc': (0.624412855691057, 0.626412855691057)}"
      ]
     },
     "execution_count": 9,
     "metadata": {},
     "output_type": "execute_result"
    }
   ],
   "source": [
    "sample.get_bounds()"
   ]
  },
  {
   "cell_type": "code",
   "execution_count": null,
   "metadata": {},
   "outputs": [
    {
     "data": {
      "text/plain": [
       "{'acc': 0.5935483870967742,\n",
       " 'sens': 0.6796875,\n",
       " 'spec': 0.5711382113821138,\n",
       " 'bacc': 0.625412855691057}"
      ]
     },
     "execution_count": 10,
     "metadata": {},
     "output_type": "execute_result"
    }
   ],
   "source": [
    "problem.populate(res).calculate_scores()"
   ]
  },
  {
   "cell_type": "code",
   "execution_count": null,
   "metadata": {},
   "outputs": [],
   "source": []
  },
  {
   "cell_type": "code",
   "execution_count": null,
   "metadata": {},
   "outputs": [],
   "source": []
  },
  {
   "cell_type": "code",
   "execution_count": null,
   "metadata": {},
   "outputs": [
    {
     "ename": "NameError",
     "evalue": "name 'dataset' is not defined",
     "output_type": "error",
     "traceback": [
      "\u001b[0;31m---------------------------------------------------------------------------\u001b[0m",
      "\u001b[0;31mNameError\u001b[0m                                 Traceback (most recent call last)",
      "Cell \u001b[0;32mIn[5], line 1\u001b[0m\n\u001b[0;32m----> 1\u001b[0m dataset\u001b[39m.\u001b[39mcalculate_scores()\n",
      "\u001b[0;31mNameError\u001b[0m: name 'dataset' is not defined"
     ]
    }
   ],
   "source": [
    "dataset.calculate_scores()"
   ]
  },
  {
   "cell_type": "code",
   "execution_count": null,
   "metadata": {},
   "outputs": [
    {
     "name": "stderr",
     "output_type": "stream",
     "text": [
      "2023-08-24 12:47:30,940:INFO:generating a random id for the dataset\n",
      "2023-08-24 12:47:30,941:INFO:creating a folding based on the specification\n",
      "2023-08-24 12:47:30,942:INFO:generating a random id for the dataset\n",
      "2023-08-24 12:47:30,944:INFO:creating a folding based on the specification\n",
      "2023-08-24 12:47:30,944:INFO:generating a random id for the dataset\n",
      "2023-08-24 12:47:30,945:INFO:creating a folding based on the specification\n",
      "2023-08-24 12:47:30,946:INFO:generating a random id for the dataset\n",
      "2023-08-24 12:47:30,947:INFO:creating a folding based on the specification\n"
     ]
    }
   ],
   "source": [
    "dataset = Dataset(p=5, n=10, n_folds=2, n_repeats=3, aggregation='mor')\n",
    "dataset2 = Dataset(p=8, n=3, n_folds=2, n_repeats=3, aggregation='mor')\n",
    "experiment = Experiment(datasets=[{'p': 5, 'n': 10, 'n_folds': 2, 'n_repeats': 3, 'aggregation': 'mor'},\n",
    "                                    {'p': 8, 'n': 20, 'n_folds': 3, 'n_repeats': 3, 'aggregation': 'mor'}],\n",
    "                        aggregation='mor')"
   ]
  },
  {
   "cell_type": "code",
   "execution_count": null,
   "metadata": {},
   "outputs": [
    {
     "data": {
      "text/plain": [
       "{'id': None, 'aggregation': 'mor', 'datasets': [{'id': 'cninryupyaqqxvnf', 'score_bounds': None, 'tptn_bounds': None, 'folds': [{'p': 3, 'n': 5, 'id': 'cninryupyaqqxvnf_0_0', 'score_bounds': None, 'tptn_bounds': None, 'figures': {'tp': 1, 'tn': 4}, 'scores': {'acc': 0.625, 'sens': 0.3333333333333333, 'spec': 0.8, 'npv': 0.6666666666666666, 'ppv': 0.5, 'bacc': 0.5666666666666667, 'f1p': 0.4, 'fm': 0.4082482904638631, 'p': 3, 'n': 5, 'tp': 1, 'tn': 4}}, {'p': 2, 'n': 5, 'id': 'cninryupyaqqxvnf_0_1', 'score_bounds': None, 'tptn_bounds': None, 'figures': {'tp': 0, 'tn': 0}, 'scores': {'acc': 0.0, 'sens': 0.0, 'spec': 0.0, 'npv': 0.0, 'ppv': 0.0, 'bacc': 0.0, 'f1p': 0.0, 'fm': 0.0, 'p': 2, 'n': 5, 'tp': 0, 'tn': 0}}, {'p': 3, 'n': 5, 'id': 'cninryupyaqqxvnf_1_0', 'score_bounds': None, 'tptn_bounds': None, 'figures': {'tp': 2, 'tn': 0}, 'scores': {'acc': 0.25, 'sens': 0.6666666666666666, 'spec': 0.0, 'npv': 0.0, 'ppv': 0.2857142857142857, 'bacc': 0.3333333333333333, 'f1p': 0.4, 'fm': 0.4364357804719848, 'p': 3, 'n': 5, 'tp': 2, 'tn': 0}}, {'p': 2, 'n': 5, 'id': 'cninryupyaqqxvnf_1_1', 'score_bounds': None, 'tptn_bounds': None, 'figures': {'tp': 0, 'tn': 5}, 'scores': {'acc': 0.7142857142857143, 'sens': 0.0, 'spec': 1.0, 'npv': 0.7142857142857143, 'ppv': None, 'bacc': 0.5, 'f1p': 0.0, 'fm': None, 'p': 2, 'n': 5, 'tp': 0, 'tn': 5}}, {'p': 3, 'n': 5, 'id': 'cninryupyaqqxvnf_2_0', 'score_bounds': None, 'tptn_bounds': None, 'figures': {'tp': 0, 'tn': 1}, 'scores': {'acc': 0.125, 'sens': 0.0, 'spec': 0.2, 'npv': 0.25, 'ppv': 0.0, 'bacc': 0.1, 'f1p': 0.0, 'fm': 0.0, 'p': 3, 'n': 5, 'tp': 0, 'tn': 1}}, {'p': 2, 'n': 5, 'id': 'cninryupyaqqxvnf_2_1', 'score_bounds': None, 'tptn_bounds': None, 'figures': {'tp': 2, 'tn': 3}, 'scores': {'acc': 0.7142857142857143, 'sens': 1.0, 'spec': 0.6, 'npv': 1.0, 'ppv': 0.5, 'bacc': 0.8, 'f1p': 0.6666666666666666, 'fm': 0.7071067811865475, 'p': 2, 'n': 5, 'tp': 2, 'tn': 3}}], 'aggregation': 'mor', 'figures': {'tp': 5, 'tn': 13, 'p': 15, 'n': 30}, 'scores': {'acc': 0.4047619047619048, 'sens': 0.3333333333333333, 'spec': 0.43333333333333335, 'bacc': 0.3833333333333333}}, {'id': 'whradjeqmxqcgppb', 'score_bounds': None, 'tptn_bounds': None, 'folds': [{'p': 3, 'n': 7, 'id': 'whradjeqmxqcgppb_0_0', 'score_bounds': None, 'tptn_bounds': None, 'figures': {'tp': 3, 'tn': 0}, 'scores': {'acc': 0.3, 'sens': 1.0, 'spec': 0.0, 'npv': None, 'ppv': 0.3, 'bacc': 0.5, 'f1p': 0.46153846153846156, 'fm': 0.5477225575051661, 'p': 3, 'n': 7, 'tp': 3, 'tn': 0}}, {'p': 2, 'n': 7, 'id': 'whradjeqmxqcgppb_0_1', 'score_bounds': None, 'tptn_bounds': None, 'figures': {'tp': 2, 'tn': 0}, 'scores': {'acc': 0.2222222222222222, 'sens': 1.0, 'spec': 0.0, 'npv': None, 'ppv': 0.2222222222222222, 'bacc': 0.5, 'f1p': 0.36363636363636365, 'fm': 0.47140452079103173, 'p': 2, 'n': 7, 'tp': 2, 'tn': 0}}, {'p': 3, 'n': 6, 'id': 'whradjeqmxqcgppb_0_2', 'score_bounds': None, 'tptn_bounds': None, 'figures': {'tp': 1, 'tn': 5}, 'scores': {'acc': 0.6666666666666666, 'sens': 0.3333333333333333, 'spec': 0.8333333333333334, 'npv': 0.7142857142857143, 'ppv': 0.5, 'bacc': 0.5833333333333334, 'f1p': 0.4, 'fm': 0.4082482904638631, 'p': 3, 'n': 6, 'tp': 1, 'tn': 5}}, {'p': 3, 'n': 7, 'id': 'whradjeqmxqcgppb_1_0', 'score_bounds': None, 'tptn_bounds': None, 'figures': {'tp': 0, 'tn': 5}, 'scores': {'acc': 0.5, 'sens': 0.0, 'spec': 0.7142857142857143, 'npv': 0.625, 'ppv': 0.0, 'bacc': 0.35714285714285715, 'f1p': 0.0, 'fm': 0.0, 'p': 3, 'n': 7, 'tp': 0, 'tn': 5}}, {'p': 2, 'n': 7, 'id': 'whradjeqmxqcgppb_1_1', 'score_bounds': None, 'tptn_bounds': None, 'figures': {'tp': 2, 'tn': 0}, 'scores': {'acc': 0.2222222222222222, 'sens': 1.0, 'spec': 0.0, 'npv': None, 'ppv': 0.2222222222222222, 'bacc': 0.5, 'f1p': 0.36363636363636365, 'fm': 0.47140452079103173, 'p': 2, 'n': 7, 'tp': 2, 'tn': 0}}, {'p': 3, 'n': 6, 'id': 'whradjeqmxqcgppb_1_2', 'score_bounds': None, 'tptn_bounds': None, 'figures': {'tp': 1, 'tn': 2}, 'scores': {'acc': 0.3333333333333333, 'sens': 0.3333333333333333, 'spec': 0.3333333333333333, 'npv': 0.5, 'ppv': 0.2, 'bacc': 0.3333333333333333, 'f1p': 0.25, 'fm': 0.2581988897471611, 'p': 3, 'n': 6, 'tp': 1, 'tn': 2}}, {'p': 3, 'n': 7, 'id': 'whradjeqmxqcgppb_2_0', 'score_bounds': None, 'tptn_bounds': None, 'figures': {'tp': 1, 'tn': 6}, 'scores': {'acc': 0.7, 'sens': 0.3333333333333333, 'spec': 0.8571428571428571, 'npv': 0.75, 'ppv': 0.5, 'bacc': 0.5952380952380952, 'f1p': 0.4, 'fm': 0.4082482904638631, 'p': 3, 'n': 7, 'tp': 1, 'tn': 6}}, {'p': 2, 'n': 7, 'id': 'whradjeqmxqcgppb_2_1', 'score_bounds': None, 'tptn_bounds': None, 'figures': {'tp': 2, 'tn': 6}, 'scores': {'acc': 0.8888888888888888, 'sens': 1.0, 'spec': 0.8571428571428571, 'npv': 1.0, 'ppv': 0.6666666666666666, 'bacc': 0.9285714285714286, 'f1p': 0.8, 'fm': 0.8164965809277261, 'p': 2, 'n': 7, 'tp': 2, 'tn': 6}}, {'p': 3, 'n': 6, 'id': 'whradjeqmxqcgppb_2_2', 'score_bounds': None, 'tptn_bounds': None, 'figures': {'tp': 0, 'tn': 2}, 'scores': {'acc': 0.2222222222222222, 'sens': 0.0, 'spec': 0.3333333333333333, 'npv': 0.4, 'ppv': 0.0, 'bacc': 0.16666666666666666, 'f1p': 0.0, 'fm': 0.0, 'p': 3, 'n': 6, 'tp': 0, 'tn': 2}}], 'aggregation': 'mor', 'figures': {'tp': 12, 'tn': 26, 'p': 24, 'n': 60}, 'scores': {'acc': 0.4506172839506173, 'sens': 0.5555555555555556, 'spec': 0.4365079365079365, 'bacc': 0.49603174603174605}}], 'figures': {'tp': 17, 'tn': 39, 'p': 39, 'n': 90}, 'scores': {'acc': 0.4276895943562611, 'sens': 0.4444444444444444, 'spec': 0.43492063492063493, 'bacc': 0.4396825396825397}}"
      ]
     },
     "execution_count": 3,
     "metadata": {},
     "output_type": "execute_result"
    }
   ],
   "source": [
    "experiment.sample()"
   ]
  },
  {
   "cell_type": "code",
   "execution_count": null,
   "metadata": {},
   "outputs": [
    {
     "data": {
      "text/plain": [
       "{'acc': 0.4276895943562611,\n",
       " 'sens': 0.4444444444444444,\n",
       " 'spec': 0.43492063492063493,\n",
       " 'bacc': 0.4396825396825397}"
      ]
     },
     "execution_count": 4,
     "metadata": {},
     "output_type": "execute_result"
    }
   ],
   "source": [
    "experiment.scores"
   ]
  },
  {
   "cell_type": "code",
   "execution_count": null,
   "metadata": {},
   "outputs": [
    {
     "name": "stderr",
     "output_type": "stream",
     "text": [
      "2023-08-24 12:47:30,987:INFO:None: adding condition acc >= 0.4275895943562611\n",
      "2023-08-24 12:47:30,989:INFO:None: adding condition acc <= 0.42778959435626107\n",
      "2023-08-24 12:47:30,990:INFO:None: adding condition sens >= 0.44434444444444443\n",
      "2023-08-24 12:47:30,992:INFO:None: adding condition sens <= 0.4445444444444444\n",
      "2023-08-24 12:47:30,993:INFO:None: adding condition spec >= 0.43482063492063494\n",
      "2023-08-24 12:47:30,993:INFO:None: adding condition spec <= 0.4350206349206349\n",
      "2023-08-24 12:47:30,994:INFO:None: adding condition bacc >= 0.4395825396825397\n",
      "2023-08-24 12:47:30,995:INFO:None: adding condition bacc <= 0.43978253968253966\n"
     ]
    },
    {
     "name": "stdout",
     "output_type": "stream",
     "text": [
      "Welcome to the CBC MILP Solver \n",
      "Version: 2.10.3 \n",
      "Build Date: Dec 15 2019 \n",
      "\n",
      "command line - /home/gykovacs/anaconda3/envs/mlscorecheck/lib/python3.10/site-packages/pulp/solverdir/cbc/linux/64/cbc /tmp/a4ab4210a9304f23b32828ea9354afd9-pulp.mps timeMode elapsed branch printingOptions all solution /tmp/a4ab4210a9304f23b32828ea9354afd9-pulp.sol (default strategy 1)\n",
      "At line 2 NAME          MODEL\n",
      "At line 3 ROWS\n",
      "At line 13 COLUMNS\n",
      "At line 269 RHS\n",
      "At line 278 BOUNDS\n",
      "At line 309 ENDATA\n",
      "Problem MODEL has 8 rows, 30 columns and 180 elements\n",
      "Coin0008I MODEL read with 0 errors\n",
      "Option for timeMode changed from cpu to elapsed\n",
      "Continuous objective value is 12.9964 - 0.00 seconds\n",
      "Cgl0004I processed model has 4 rows, 10 columns (10 integer (0 of which binary)) and 30 elements\n",
      "Cutoff increment increased from 1e-05 to 0.9999\n",
      "Cbc0031I 2 added rows had average density of 7.5\n",
      "Cbc0013I At root node, 2 cuts changed objective from 12.9964 to 13 in 13 passes\n",
      "Cbc0014I Cut generator 0 (Probing) - 0 row cuts average 0.0 elements, 0 column cuts (0 active)  in 0.000 seconds - new frequency is -100\n",
      "Cbc0014I Cut generator 1 (Gomory) - 29 row cuts average 9.7 elements, 0 column cuts (0 active)  in 0.000 seconds - new frequency is 1\n",
      "Cbc0014I Cut generator 2 (Knapsack) - 0 row cuts average 0.0 elements, 0 column cuts (0 active)  in 0.000 seconds - new frequency is -100\n",
      "Cbc0014I Cut generator 3 (Clique) - 0 row cuts average 0.0 elements, 0 column cuts (0 active)  in 0.000 seconds - new frequency is -100\n",
      "Cbc0014I Cut generator 4 (MixedIntegerRounding2) - 4 row cuts average 7.5 elements, 0 column cuts (0 active)  in 0.000 seconds - new frequency is 1\n",
      "Cbc0014I Cut generator 5 (FlowCover) - 0 row cuts average 0.0 elements, 0 column cuts (0 active)  in 0.000 seconds - new frequency is -100\n",
      "Cbc0014I Cut generator 6 (TwoMirCuts) - 14 row cuts average 9.1 elements, 0 column cuts (0 active)  in 0.000 seconds - new frequency is -100\n",
      "Cbc0010I After 0 nodes, 1 on tree, 1e+50 best solution, best possible 13 (0.01 seconds)\n",
      "Cbc0004I Integer solution of 15 found after 1182 iterations and 190 nodes (0.05 seconds)\n",
      "Cbc0038I Full problem 4 rows 10 columns, reduced to 4 rows 7 columns\n",
      "Cbc0016I Integer solution of 14 found by strong branching after 1680 iterations and 293 nodes (0.06 seconds)\n",
      "Cbc0038I Full problem 4 rows 10 columns, reduced to 4 rows 6 columns\n",
      "Cbc0016I Integer solution of 13 found by strong branching after 1871 iterations and 322 nodes (0.06 seconds)\n",
      "Cbc0001I Search completed - best objective 13, took 1871 iterations and 322 nodes (0.06 seconds)\n",
      "Cbc0032I Strong branching done 1232 times (2491 iterations), fathomed 88 nodes and fixed 86 variables\n",
      "Cbc0035I Maximum depth 18, 19 variables fixed on reduced cost\n",
      "Cuts at root node changed objective from 12.9964 to 13\n",
      "Probing was tried 13 times and created 0 cuts of which 0 were active after adding rounds of cuts (0.000 seconds)\n",
      "Gomory was tried 119 times and created 236 cuts of which 0 were active after adding rounds of cuts (0.003 seconds)\n",
      "Knapsack was tried 13 times and created 0 cuts of which 0 were active after adding rounds of cuts (0.000 seconds)\n",
      "Clique was tried 13 times and created 0 cuts of which 0 were active after adding rounds of cuts (0.000 seconds)\n",
      "MixedIntegerRounding2 was tried 119 times and created 16 cuts of which 0 were active after adding rounds of cuts (0.001 seconds)\n",
      "FlowCover was tried 13 times and created 0 cuts of which 0 were active after adding rounds of cuts (0.000 seconds)\n",
      "TwoMirCuts was tried 13 times and created 14 cuts of which 0 were active after adding rounds of cuts (0.000 seconds)\n",
      "ZeroHalf was tried 1 times and created 0 cuts of which 0 were active after adding rounds of cuts (0.000 seconds)\n",
      "\n",
      "Result - Optimal solution found\n",
      "\n",
      "Objective value:                13.00000000\n",
      "Enumerated nodes:               322\n",
      "Total iterations:               1871\n",
      "Time (CPU seconds):             0.04\n",
      "Time (Wallclock seconds):       0.07\n",
      "\n",
      "Option for printingOptions changed from normal to all\n",
      "Total time (CPU seconds):       0.04   (Wallclock seconds):       0.07\n",
      "\n"
     ]
    }
   ],
   "source": [
    "res = solve(experiment, experiment.scores, eps=1e-4)"
   ]
  },
  {
   "cell_type": "code",
   "execution_count": null,
   "metadata": {},
   "outputs": [
    {
     "data": {
      "text/plain": [
       "{'acc': 0.4276785714285714,\n",
       " 'sens': 0.4444444444444445,\n",
       " 'spec': 0.43492063492063493,\n",
       " 'bacc': 0.4396825396825397}"
      ]
     },
     "execution_count": 6,
     "metadata": {},
     "output_type": "execute_result"
    }
   ],
   "source": [
    "Experiment(**experiment.to_dict(problem_only=True)).populate(res).scores"
   ]
  },
  {
   "cell_type": "code",
   "execution_count": null,
   "metadata": {},
   "outputs": [
    {
     "data": {
      "text/plain": [
       "({'acc': [0.0, 0.8888888888888888],\n",
       "  'sens': [0.0, 1.0],\n",
       "  'spec': [0.0, 1.0],\n",
       "  'bacc': [0.0, 0.9285714285714286]},\n",
       " {'tp': [0, 3], 'tn': [0, 6]})"
      ]
     },
     "execution_count": 7,
     "metadata": {},
     "output_type": "execute_result"
    }
   ],
   "source": [
    "experiment.extract_bounds()"
   ]
  },
  {
   "cell_type": "code",
   "execution_count": null,
   "metadata": {},
   "outputs": [
    {
     "data": {
      "text/plain": [
       "{'id': None,\n",
       " 'figures': {'tp': 17, 'tn': 39, 'p': 39, 'n': 90},\n",
       " 'scores': {'acc': 0.4276895943562611,\n",
       "  'sens': 0.4444444444444444,\n",
       "  'spec': 0.43492063492063493,\n",
       "  'bacc': 0.4396825396825397},\n",
       " 'all_bounds': False,\n",
       " 'datasets': [{'id': 'cninryupyaqqxvnf',\n",
       "   'figures': {'tp': 5, 'tn': 13, 'p': 15, 'n': 30},\n",
       "   'scores': {'acc': 0.4047619047619048,\n",
       "    'sens': 0.3333333333333333,\n",
       "    'spec': 0.43333333333333335,\n",
       "    'bacc': 0.3833333333333333},\n",
       "   'score_bounds': None,\n",
       "   'check_score_bounds': None,\n",
       "   'tptn_bounds': None,\n",
       "   'check_tptn_bounds': None,\n",
       "   'all_bounds': False,\n",
       "   'folds': [{'id': 'cninryupyaqqxvnf_0_0',\n",
       "     'figures': {'tp': 1, 'tn': 4},\n",
       "     'scores': {'acc': 0.625,\n",
       "      'sens': 0.3333333333333333,\n",
       "      'spec': 0.8,\n",
       "      'npv': 0.6666666666666666,\n",
       "      'ppv': 0.5,\n",
       "      'bacc': 0.5666666666666667,\n",
       "      'f1p': 0.4,\n",
       "      'fm': 0.4082482904638631,\n",
       "      'p': 3,\n",
       "      'n': 5,\n",
       "      'tp': 1,\n",
       "      'tn': 4},\n",
       "     'score_bounds': None,\n",
       "     'check_score_bounds': None,\n",
       "     'tptn_bounds': None,\n",
       "     'check_tptn_bounds': None,\n",
       "     'all_bounds_flag': None},\n",
       "    {'id': 'cninryupyaqqxvnf_0_1',\n",
       "     'figures': {'tp': 0, 'tn': 0},\n",
       "     'scores': {'acc': 0.0,\n",
       "      'sens': 0.0,\n",
       "      'spec': 0.0,\n",
       "      'npv': 0.0,\n",
       "      'ppv': 0.0,\n",
       "      'bacc': 0.0,\n",
       "      'f1p': 0.0,\n",
       "      'fm': 0.0,\n",
       "      'p': 2,\n",
       "      'n': 5,\n",
       "      'tp': 0,\n",
       "      'tn': 0},\n",
       "     'score_bounds': None,\n",
       "     'check_score_bounds': None,\n",
       "     'tptn_bounds': None,\n",
       "     'check_tptn_bounds': None,\n",
       "     'all_bounds_flag': None},\n",
       "    {'id': 'cninryupyaqqxvnf_1_0',\n",
       "     'figures': {'tp': 2, 'tn': 0},\n",
       "     'scores': {'acc': 0.25,\n",
       "      'sens': 0.6666666666666666,\n",
       "      'spec': 0.0,\n",
       "      'npv': 0.0,\n",
       "      'ppv': 0.2857142857142857,\n",
       "      'bacc': 0.3333333333333333,\n",
       "      'f1p': 0.4,\n",
       "      'fm': 0.4364357804719848,\n",
       "      'p': 3,\n",
       "      'n': 5,\n",
       "      'tp': 2,\n",
       "      'tn': 0},\n",
       "     'score_bounds': None,\n",
       "     'check_score_bounds': None,\n",
       "     'tptn_bounds': None,\n",
       "     'check_tptn_bounds': None,\n",
       "     'all_bounds_flag': None},\n",
       "    {'id': 'cninryupyaqqxvnf_1_1',\n",
       "     'figures': {'tp': 0, 'tn': 5},\n",
       "     'scores': {'acc': 0.7142857142857143,\n",
       "      'sens': 0.0,\n",
       "      'spec': 1.0,\n",
       "      'npv': 0.7142857142857143,\n",
       "      'ppv': None,\n",
       "      'bacc': 0.5,\n",
       "      'f1p': 0.0,\n",
       "      'fm': None,\n",
       "      'p': 2,\n",
       "      'n': 5,\n",
       "      'tp': 0,\n",
       "      'tn': 5},\n",
       "     'score_bounds': None,\n",
       "     'check_score_bounds': None,\n",
       "     'tptn_bounds': None,\n",
       "     'check_tptn_bounds': None,\n",
       "     'all_bounds_flag': None},\n",
       "    {'id': 'cninryupyaqqxvnf_2_0',\n",
       "     'figures': {'tp': 0, 'tn': 1},\n",
       "     'scores': {'acc': 0.125,\n",
       "      'sens': 0.0,\n",
       "      'spec': 0.2,\n",
       "      'npv': 0.25,\n",
       "      'ppv': 0.0,\n",
       "      'bacc': 0.1,\n",
       "      'f1p': 0.0,\n",
       "      'fm': 0.0,\n",
       "      'p': 3,\n",
       "      'n': 5,\n",
       "      'tp': 0,\n",
       "      'tn': 1},\n",
       "     'score_bounds': None,\n",
       "     'check_score_bounds': None,\n",
       "     'tptn_bounds': None,\n",
       "     'check_tptn_bounds': None,\n",
       "     'all_bounds_flag': None},\n",
       "    {'id': 'cninryupyaqqxvnf_2_1',\n",
       "     'figures': {'tp': 2, 'tn': 3},\n",
       "     'scores': {'acc': 0.7142857142857143,\n",
       "      'sens': 1.0,\n",
       "      'spec': 0.6,\n",
       "      'npv': 1.0,\n",
       "      'ppv': 0.5,\n",
       "      'bacc': 0.8,\n",
       "      'f1p': 0.6666666666666666,\n",
       "      'fm': 0.7071067811865475,\n",
       "      'p': 2,\n",
       "      'n': 5,\n",
       "      'tp': 2,\n",
       "      'tn': 3},\n",
       "     'score_bounds': None,\n",
       "     'check_score_bounds': None,\n",
       "     'tptn_bounds': None,\n",
       "     'check_tptn_bounds': None,\n",
       "     'all_bounds_flag': None}]},\n",
       "  {'id': 'whradjeqmxqcgppb',\n",
       "   'figures': {'tp': 12, 'tn': 26, 'p': 24, 'n': 60},\n",
       "   'scores': {'acc': 0.4506172839506173,\n",
       "    'sens': 0.5555555555555556,\n",
       "    'spec': 0.4365079365079365,\n",
       "    'bacc': 0.49603174603174605},\n",
       "   'score_bounds': None,\n",
       "   'check_score_bounds': None,\n",
       "   'tptn_bounds': None,\n",
       "   'check_tptn_bounds': None,\n",
       "   'all_bounds': False,\n",
       "   'folds': [{'id': 'whradjeqmxqcgppb_0_0',\n",
       "     'figures': {'tp': 3, 'tn': 0},\n",
       "     'scores': {'acc': 0.3,\n",
       "      'sens': 1.0,\n",
       "      'spec': 0.0,\n",
       "      'npv': None,\n",
       "      'ppv': 0.3,\n",
       "      'bacc': 0.5,\n",
       "      'f1p': 0.46153846153846156,\n",
       "      'fm': 0.5477225575051661,\n",
       "      'p': 3,\n",
       "      'n': 7,\n",
       "      'tp': 3,\n",
       "      'tn': 0},\n",
       "     'score_bounds': None,\n",
       "     'check_score_bounds': None,\n",
       "     'tptn_bounds': None,\n",
       "     'check_tptn_bounds': None,\n",
       "     'all_bounds_flag': None},\n",
       "    {'id': 'whradjeqmxqcgppb_0_1',\n",
       "     'figures': {'tp': 2, 'tn': 0},\n",
       "     'scores': {'acc': 0.2222222222222222,\n",
       "      'sens': 1.0,\n",
       "      'spec': 0.0,\n",
       "      'npv': None,\n",
       "      'ppv': 0.2222222222222222,\n",
       "      'bacc': 0.5,\n",
       "      'f1p': 0.36363636363636365,\n",
       "      'fm': 0.47140452079103173,\n",
       "      'p': 2,\n",
       "      'n': 7,\n",
       "      'tp': 2,\n",
       "      'tn': 0},\n",
       "     'score_bounds': None,\n",
       "     'check_score_bounds': None,\n",
       "     'tptn_bounds': None,\n",
       "     'check_tptn_bounds': None,\n",
       "     'all_bounds_flag': None},\n",
       "    {'id': 'whradjeqmxqcgppb_0_2',\n",
       "     'figures': {'tp': 1, 'tn': 5},\n",
       "     'scores': {'acc': 0.6666666666666666,\n",
       "      'sens': 0.3333333333333333,\n",
       "      'spec': 0.8333333333333334,\n",
       "      'npv': 0.7142857142857143,\n",
       "      'ppv': 0.5,\n",
       "      'bacc': 0.5833333333333334,\n",
       "      'f1p': 0.4,\n",
       "      'fm': 0.4082482904638631,\n",
       "      'p': 3,\n",
       "      'n': 6,\n",
       "      'tp': 1,\n",
       "      'tn': 5},\n",
       "     'score_bounds': None,\n",
       "     'check_score_bounds': None,\n",
       "     'tptn_bounds': None,\n",
       "     'check_tptn_bounds': None,\n",
       "     'all_bounds_flag': None},\n",
       "    {'id': 'whradjeqmxqcgppb_1_0',\n",
       "     'figures': {'tp': 0, 'tn': 5},\n",
       "     'scores': {'acc': 0.5,\n",
       "      'sens': 0.0,\n",
       "      'spec': 0.7142857142857143,\n",
       "      'npv': 0.625,\n",
       "      'ppv': 0.0,\n",
       "      'bacc': 0.35714285714285715,\n",
       "      'f1p': 0.0,\n",
       "      'fm': 0.0,\n",
       "      'p': 3,\n",
       "      'n': 7,\n",
       "      'tp': 0,\n",
       "      'tn': 5},\n",
       "     'score_bounds': None,\n",
       "     'check_score_bounds': None,\n",
       "     'tptn_bounds': None,\n",
       "     'check_tptn_bounds': None,\n",
       "     'all_bounds_flag': None},\n",
       "    {'id': 'whradjeqmxqcgppb_1_1',\n",
       "     'figures': {'tp': 2, 'tn': 0},\n",
       "     'scores': {'acc': 0.2222222222222222,\n",
       "      'sens': 1.0,\n",
       "      'spec': 0.0,\n",
       "      'npv': None,\n",
       "      'ppv': 0.2222222222222222,\n",
       "      'bacc': 0.5,\n",
       "      'f1p': 0.36363636363636365,\n",
       "      'fm': 0.47140452079103173,\n",
       "      'p': 2,\n",
       "      'n': 7,\n",
       "      'tp': 2,\n",
       "      'tn': 0},\n",
       "     'score_bounds': None,\n",
       "     'check_score_bounds': None,\n",
       "     'tptn_bounds': None,\n",
       "     'check_tptn_bounds': None,\n",
       "     'all_bounds_flag': None},\n",
       "    {'id': 'whradjeqmxqcgppb_1_2',\n",
       "     'figures': {'tp': 1, 'tn': 2},\n",
       "     'scores': {'acc': 0.3333333333333333,\n",
       "      'sens': 0.3333333333333333,\n",
       "      'spec': 0.3333333333333333,\n",
       "      'npv': 0.5,\n",
       "      'ppv': 0.2,\n",
       "      'bacc': 0.3333333333333333,\n",
       "      'f1p': 0.25,\n",
       "      'fm': 0.2581988897471611,\n",
       "      'p': 3,\n",
       "      'n': 6,\n",
       "      'tp': 1,\n",
       "      'tn': 2},\n",
       "     'score_bounds': None,\n",
       "     'check_score_bounds': None,\n",
       "     'tptn_bounds': None,\n",
       "     'check_tptn_bounds': None,\n",
       "     'all_bounds_flag': None},\n",
       "    {'id': 'whradjeqmxqcgppb_2_0',\n",
       "     'figures': {'tp': 1, 'tn': 6},\n",
       "     'scores': {'acc': 0.7,\n",
       "      'sens': 0.3333333333333333,\n",
       "      'spec': 0.8571428571428571,\n",
       "      'npv': 0.75,\n",
       "      'ppv': 0.5,\n",
       "      'bacc': 0.5952380952380952,\n",
       "      'f1p': 0.4,\n",
       "      'fm': 0.4082482904638631,\n",
       "      'p': 3,\n",
       "      'n': 7,\n",
       "      'tp': 1,\n",
       "      'tn': 6},\n",
       "     'score_bounds': None,\n",
       "     'check_score_bounds': None,\n",
       "     'tptn_bounds': None,\n",
       "     'check_tptn_bounds': None,\n",
       "     'all_bounds_flag': None},\n",
       "    {'id': 'whradjeqmxqcgppb_2_1',\n",
       "     'figures': {'tp': 2, 'tn': 6},\n",
       "     'scores': {'acc': 0.8888888888888888,\n",
       "      'sens': 1.0,\n",
       "      'spec': 0.8571428571428571,\n",
       "      'npv': 1.0,\n",
       "      'ppv': 0.6666666666666666,\n",
       "      'bacc': 0.9285714285714286,\n",
       "      'f1p': 0.8,\n",
       "      'fm': 0.8164965809277261,\n",
       "      'p': 2,\n",
       "      'n': 7,\n",
       "      'tp': 2,\n",
       "      'tn': 6},\n",
       "     'score_bounds': None,\n",
       "     'check_score_bounds': None,\n",
       "     'tptn_bounds': None,\n",
       "     'check_tptn_bounds': None,\n",
       "     'all_bounds_flag': None},\n",
       "    {'id': 'whradjeqmxqcgppb_2_2',\n",
       "     'figures': {'tp': 0, 'tn': 2},\n",
       "     'scores': {'acc': 0.2222222222222222,\n",
       "      'sens': 0.0,\n",
       "      'spec': 0.3333333333333333,\n",
       "      'npv': 0.4,\n",
       "      'ppv': 0.0,\n",
       "      'bacc': 0.16666666666666666,\n",
       "      'f1p': 0.0,\n",
       "      'fm': 0.0,\n",
       "      'p': 3,\n",
       "      'n': 6,\n",
       "      'tp': 0,\n",
       "      'tn': 2},\n",
       "     'score_bounds': None,\n",
       "     'check_score_bounds': None,\n",
       "     'tptn_bounds': None,\n",
       "     'check_tptn_bounds': None,\n",
       "     'all_bounds_flag': None}]}]}"
      ]
     },
     "execution_count": 8,
     "metadata": {},
     "output_type": "execute_result"
    }
   ],
   "source": [
    "experiment.check_bounds()"
   ]
  },
  {
   "cell_type": "code",
   "execution_count": null,
   "metadata": {},
   "outputs": [],
   "source": []
  },
  {
   "cell_type": "code",
   "execution_count": null,
   "metadata": {},
   "outputs": [
    {
     "name": "stderr",
     "output_type": "stream",
     "text": [
      "2023-08-24 12:47:31,130:INFO:querying p and n from looking up the dataset\n",
      "2023-08-24 12:47:31,132:INFO:creating a folding based on the specification\n",
      "2023-08-24 12:47:31,133:INFO:querying p and n from looking up the dataset\n",
      "2023-08-24 12:47:31,133:INFO:creating a folding based on the specification\n"
     ]
    }
   ],
   "source": [
    "experiment = Experiment(datasets=[{'name': 'common_datasets.ADA', 'aggregation': 'mor'},\n",
    "                                    {'name': 'common_datasets.ecoli1', 'n_folds': 5, 'n_repeats': 3, 'aggregation': 'mor'}],\n",
    "                        aggregation='mor')"
   ]
  },
  {
   "cell_type": "code",
   "execution_count": null,
   "metadata": {},
   "outputs": [
    {
     "data": {
      "text/plain": [
       "{'id': None, 'aggregation': 'mor', 'datasets': [{'id': 'common_datasets.ADA', 'score_bounds': None, 'tptn_bounds': None, 'folds': [{'p': 1029, 'n': 3118, 'id': 'ADA_0_0', 'score_bounds': None, 'tptn_bounds': None, 'figures': {'tp': 703, 'tn': 833}, 'scores': {'acc': 0.370388232457198, 'sens': 0.6831875607385811, 'spec': 0.2671584348941629, 'npv': 0.7187230371009491, 'ppv': 0.2352744310575636, 'bacc': 0.475172997816372, 'f1p': 0.35001244709982576, 'fm': 0.40091964863096236, 'p': 1029, 'n': 3118, 'tp': 703, 'tn': 833}}], 'aggregation': 'mor', 'figures': {'tp': 703, 'tn': 833, 'p': 1029, 'n': 3118}, 'scores': {'acc': 0.370388232457198, 'sens': 0.6831875607385811, 'spec': 0.2671584348941629, 'bacc': 0.475172997816372}}, {'id': 'common_datasets.ecoli1', 'score_bounds': None, 'tptn_bounds': None, 'folds': [{'p': 16, 'n': 52, 'id': 'ecoli1_0_0', 'score_bounds': None, 'tptn_bounds': None, 'figures': {'tp': 13, 'tn': 11}, 'scores': {'acc': 0.35294117647058826, 'sens': 0.8125, 'spec': 0.21153846153846154, 'npv': 0.7857142857142857, 'ppv': 0.24074074074074073, 'bacc': 0.5120192307692307, 'f1p': 0.37142857142857144, 'fm': 0.4422689813358516, 'p': 16, 'n': 52, 'tp': 13, 'tn': 11}}, {'p': 15, 'n': 52, 'id': 'ecoli1_0_1', 'score_bounds': None, 'tptn_bounds': None, 'figures': {'tp': 13, 'tn': 19}, 'scores': {'acc': 0.47761194029850745, 'sens': 0.8666666666666667, 'spec': 0.36538461538461536, 'npv': 0.9047619047619048, 'ppv': 0.2826086956521739, 'bacc': 0.6160256410256411, 'f1p': 0.4262295081967213, 'fm': 0.4949015419574726, 'p': 15, 'n': 52, 'tp': 13, 'tn': 19}}, {'p': 15, 'n': 52, 'id': 'ecoli1_0_2', 'score_bounds': None, 'tptn_bounds': None, 'figures': {'tp': 11, 'tn': 20}, 'scores': {'acc': 0.4626865671641791, 'sens': 0.7333333333333333, 'spec': 0.38461538461538464, 'npv': 0.8333333333333334, 'ppv': 0.2558139534883721, 'bacc': 0.558974358974359, 'f1p': 0.3793103448275862, 'fm': 0.43312457702698676, 'p': 15, 'n': 52, 'tp': 11, 'tn': 20}}, {'p': 15, 'n': 52, 'id': 'ecoli1_0_3', 'score_bounds': None, 'tptn_bounds': None, 'figures': {'tp': 12, 'tn': 20}, 'scores': {'acc': 0.47761194029850745, 'sens': 0.8, 'spec': 0.38461538461538464, 'npv': 0.8695652173913043, 'ppv': 0.2727272727272727, 'bacc': 0.5923076923076923, 'f1p': 0.4067796610169492, 'fm': 0.46709936649691375, 'p': 15, 'n': 52, 'tp': 12, 'tn': 20}}, {'p': 16, 'n': 51, 'id': 'ecoli1_0_4', 'score_bounds': None, 'tptn_bounds': None, 'figures': {'tp': 4, 'tn': 2}, 'scores': {'acc': 0.08955223880597014, 'sens': 0.25, 'spec': 0.0392156862745098, 'npv': 0.14285714285714285, 'ppv': 0.07547169811320754, 'bacc': 0.1446078431372549, 'f1p': 0.11594202898550725, 'fm': 0.13736056394868904, 'p': 16, 'n': 51, 'tp': 4, 'tn': 2}}, {'p': 16, 'n': 52, 'id': 'ecoli1_1_0', 'score_bounds': None, 'tptn_bounds': None, 'figures': {'tp': 7, 'tn': 6}, 'scores': {'acc': 0.19117647058823528, 'sens': 0.4375, 'spec': 0.11538461538461539, 'npv': 0.4, 'ppv': 0.1320754716981132, 'bacc': 0.2764423076923077, 'f1p': 0.2028985507246377, 'fm': 0.2403809869102058, 'p': 16, 'n': 52, 'tp': 7, 'tn': 6}}, {'p': 15, 'n': 52, 'id': 'ecoli1_1_1', 'score_bounds': None, 'tptn_bounds': None, 'figures': {'tp': 3, 'tn': 46}, 'scores': {'acc': 0.7313432835820896, 'sens': 0.2, 'spec': 0.8846153846153846, 'npv': 0.7931034482758621, 'ppv': 0.3333333333333333, 'bacc': 0.5423076923076923, 'f1p': 0.25, 'fm': 0.25819888974716115, 'p': 15, 'n': 52, 'tp': 3, 'tn': 46}}, {'p': 15, 'n': 52, 'id': 'ecoli1_1_2', 'score_bounds': None, 'tptn_bounds': None, 'figures': {'tp': 6, 'tn': 5}, 'scores': {'acc': 0.16417910447761194, 'sens': 0.4, 'spec': 0.09615384615384616, 'npv': 0.35714285714285715, 'ppv': 0.11320754716981132, 'bacc': 0.24807692307692308, 'f1p': 0.17647058823529413, 'fm': 0.2127980706395726, 'p': 15, 'n': 52, 'tp': 6, 'tn': 5}}, {'p': 15, 'n': 52, 'id': 'ecoli1_1_3', 'score_bounds': None, 'tptn_bounds': None, 'figures': {'tp': 15, 'tn': 33}, 'scores': {'acc': 0.7164179104477612, 'sens': 1.0, 'spec': 0.6346153846153846, 'npv': 1.0, 'ppv': 0.4411764705882353, 'bacc': 0.8173076923076923, 'f1p': 0.6122448979591837, 'fm': 0.6642111641550715, 'p': 15, 'n': 52, 'tp': 15, 'tn': 33}}, {'p': 16, 'n': 51, 'id': 'ecoli1_1_4', 'score_bounds': None, 'tptn_bounds': None, 'figures': {'tp': 5, 'tn': 26}, 'scores': {'acc': 0.4626865671641791, 'sens': 0.3125, 'spec': 0.5098039215686274, 'npv': 0.7027027027027027, 'ppv': 0.16666666666666666, 'bacc': 0.4111519607843137, 'f1p': 0.21739130434782608, 'fm': 0.22821773229381923, 'p': 16, 'n': 51, 'tp': 5, 'tn': 26}}, {'p': 16, 'n': 52, 'id': 'ecoli1_2_0', 'score_bounds': None, 'tptn_bounds': None, 'figures': {'tp': 12, 'tn': 38}, 'scores': {'acc': 0.7352941176470589, 'sens': 0.75, 'spec': 0.7307692307692307, 'npv': 0.9047619047619048, 'ppv': 0.46153846153846156, 'bacc': 0.7403846153846154, 'f1p': 0.5714285714285714, 'fm': 0.5883484054145521, 'p': 16, 'n': 52, 'tp': 12, 'tn': 38}}, {'p': 15, 'n': 52, 'id': 'ecoli1_2_1', 'score_bounds': None, 'tptn_bounds': None, 'figures': {'tp': 10, 'tn': 1}, 'scores': {'acc': 0.16417910447761194, 'sens': 0.6666666666666666, 'spec': 0.019230769230769232, 'npv': 0.16666666666666666, 'ppv': 0.16393442622950818, 'bacc': 0.34294871794871795, 'f1p': 0.2631578947368421, 'fm': 0.3305898024536431, 'p': 15, 'n': 52, 'tp': 10, 'tn': 1}}, {'p': 15, 'n': 52, 'id': 'ecoli1_2_2', 'score_bounds': None, 'tptn_bounds': None, 'figures': {'tp': 11, 'tn': 32}, 'scores': {'acc': 0.6417910447761194, 'sens': 0.7333333333333333, 'spec': 0.6153846153846154, 'npv': 0.8888888888888888, 'ppv': 0.3548387096774194, 'bacc': 0.6743589743589744, 'f1p': 0.4782608695652174, 'fm': 0.5101127853361851, 'p': 15, 'n': 52, 'tp': 11, 'tn': 32}}, {'p': 15, 'n': 52, 'id': 'ecoli1_2_3', 'score_bounds': None, 'tptn_bounds': None, 'figures': {'tp': 6, 'tn': 26}, 'scores': {'acc': 0.47761194029850745, 'sens': 0.4, 'spec': 0.5, 'npv': 0.7428571428571429, 'ppv': 0.1875, 'bacc': 0.45, 'f1p': 0.2553191489361702, 'fm': 0.27386127875258304, 'p': 15, 'n': 52, 'tp': 6, 'tn': 26}}, {'p': 16, 'n': 51, 'id': 'ecoli1_2_4', 'score_bounds': None, 'tptn_bounds': None, 'figures': {'tp': 7, 'tn': 25}, 'scores': {'acc': 0.47761194029850745, 'sens': 0.4375, 'spec': 0.49019607843137253, 'npv': 0.7352941176470589, 'ppv': 0.21212121212121213, 'bacc': 0.4638480392156863, 'f1p': 0.2857142857142857, 'fm': 0.3046358979224712, 'p': 16, 'n': 51, 'tp': 7, 'tn': 25}}], 'aggregation': 'mor', 'figures': {'tp': 135, 'tn': 310, 'p': 231, 'n': 777}, 'scores': {'acc': 0.4415130231196956, 'sens': 0.5866666666666667, 'spec': 0.39876822523881345, 'bacc': 0.49271744595274014}}], 'figures': {'tp': 838, 'tn': 1143, 'p': 1260, 'n': 3895}, 'scores': {'acc': 0.4059506277884468, 'sens': 0.6349271137026239, 'spec': 0.33296333006648815, 'bacc': 0.4839452218845561}}"
      ]
     },
     "execution_count": 10,
     "metadata": {},
     "output_type": "execute_result"
    }
   ],
   "source": [
    "experiment.sample()"
   ]
  },
  {
   "cell_type": "code",
   "execution_count": null,
   "metadata": {},
   "outputs": [
    {
     "data": {
      "text/plain": [
       "{'acc': 0.4059506277884468,\n",
       " 'sens': 0.6349271137026239,\n",
       " 'spec': 0.33296333006648815,\n",
       " 'bacc': 0.4839452218845561}"
      ]
     },
     "execution_count": 11,
     "metadata": {},
     "output_type": "execute_result"
    }
   ],
   "source": [
    "experiment.calculate_scores()"
   ]
  },
  {
   "cell_type": "code",
   "execution_count": null,
   "metadata": {},
   "outputs": [
    {
     "data": {
      "text/plain": [
       "({'acc': [0.08955223880597014, 0.7352941176470589],\n",
       "  'sens': [0.2, 1.0],\n",
       "  'spec': [0.019230769230769232, 0.8846153846153846],\n",
       "  'bacc': [0.1446078431372549, 0.8173076923076923]},\n",
       " {'tp': [3, 703], 'tn': [1, 833]})"
      ]
     },
     "execution_count": 12,
     "metadata": {},
     "output_type": "execute_result"
    }
   ],
   "source": [
    "experiment.extract_bounds()"
   ]
  },
  {
   "cell_type": "code",
   "execution_count": null,
   "metadata": {},
   "outputs": [],
   "source": [
    "scores = experiment.calculate_scores()"
   ]
  },
  {
   "cell_type": "code",
   "execution_count": null,
   "metadata": {},
   "outputs": [
    {
     "data": {
      "text/plain": [
       "{'acc': 0.4059506277884468,\n",
       " 'sens': 0.6349271137026239,\n",
       " 'spec': 0.33296333006648815,\n",
       " 'bacc': 0.4839452218845561}"
      ]
     },
     "execution_count": 14,
     "metadata": {},
     "output_type": "execute_result"
    }
   ],
   "source": [
    "scores"
   ]
  },
  {
   "cell_type": "code",
   "execution_count": null,
   "metadata": {},
   "outputs": [
    {
     "name": "stderr",
     "output_type": "stream",
     "text": [
      "2023-08-24 12:47:31,212:INFO:None: adding condition acc >= 0.4058506277884468\n",
      "2023-08-24 12:47:31,215:INFO:None: adding condition acc <= 0.4060506277884468\n",
      "2023-08-24 12:47:31,216:INFO:None: adding condition sens >= 0.6348271137026239\n",
      "2023-08-24 12:47:31,217:INFO:None: adding condition sens <= 0.6350271137026239\n",
      "2023-08-24 12:47:31,219:INFO:None: adding condition spec >= 0.33286333006648816\n",
      "2023-08-24 12:47:31,220:INFO:None: adding condition spec <= 0.33306333006648814\n",
      "2023-08-24 12:47:31,221:INFO:None: adding condition bacc >= 0.4838452218845561\n",
      "2023-08-24 12:47:31,223:INFO:None: adding condition bacc <= 0.48404522188455607\n"
     ]
    },
    {
     "name": "stdout",
     "output_type": "stream",
     "text": [
      "Welcome to the CBC MILP Solver \n",
      "Version: 2.10.3 \n",
      "Build Date: Dec 15 2019 \n",
      "\n",
      "command line - /home/gykovacs/anaconda3/envs/mlscorecheck/lib/python3.10/site-packages/pulp/solverdir/cbc/linux/64/cbc /tmp/c71d90ef7145457d9c5f4034c61a7968-pulp.mps timeMode elapsed branch printingOptions all solution /tmp/c71d90ef7145457d9c5f4034c61a7968-pulp.sol (default strategy 1)\n",
      "At line 2 NAME          MODEL\n",
      "At line 3 ROWS\n",
      "At line 13 COLUMNS\n",
      "At line 286 RHS\n",
      "At line 295 BOUNDS\n",
      "At line 328 ENDATA\n",
      "Problem MODEL has 8 rows, 32 columns and 192 elements\n",
      "Coin0008I MODEL read with 0 errors\n",
      "Option for timeMode changed from cpu to elapsed\n",
      "Continuous objective value is 508.474 - 0.00 seconds\n",
      "Cgl0004I processed model has 4 rows, 8 columns (8 integer (0 of which binary)) and 24 elements\n",
      "Cutoff increment increased from 1e-05 to 0.9999\n",
      "Cbc0012I Integer solution of 512 found by DiveCoefficient after 14 iterations and 0 nodes (0.00 seconds)\n",
      "Cbc0031I 3 added rows had average density of 4.3333333\n",
      "Cbc0013I At root node, 3 cuts changed objective from 508.87736 to 512 in 6 passes\n",
      "Cbc0014I Cut generator 0 (Probing) - 0 row cuts average 0.0 elements, 0 column cuts (0 active)  in 0.000 seconds - new frequency is -100\n",
      "Cbc0014I Cut generator 1 (Gomory) - 13 row cuts average 4.8 elements, 0 column cuts (0 active)  in 0.000 seconds - new frequency is 1\n",
      "Cbc0014I Cut generator 2 (Knapsack) - 0 row cuts average 0.0 elements, 0 column cuts (0 active)  in 0.000 seconds - new frequency is -100\n",
      "Cbc0014I Cut generator 3 (Clique) - 0 row cuts average 0.0 elements, 0 column cuts (0 active)  in 0.000 seconds - new frequency is -100\n",
      "Cbc0014I Cut generator 4 (MixedIntegerRounding2) - 1 row cuts average 4.0 elements, 0 column cuts (0 active)  in 0.000 seconds - new frequency is -100\n",
      "Cbc0014I Cut generator 5 (FlowCover) - 0 row cuts average 0.0 elements, 0 column cuts (0 active)  in 0.000 seconds - new frequency is -100\n",
      "Cbc0014I Cut generator 6 (TwoMirCuts) - 12 row cuts average 4.6 elements, 0 column cuts (0 active)  in 0.000 seconds - new frequency is 1\n",
      "Cbc0001I Search completed - best objective 512, took 14 iterations and 0 nodes (0.00 seconds)\n",
      "Cbc0035I Maximum depth 0, 0 variables fixed on reduced cost\n",
      "Cuts at root node changed objective from 508.877 to 512\n",
      "Probing was tried 6 times and created 0 cuts of which 0 were active after adding rounds of cuts (0.000 seconds)\n",
      "Gomory was tried 6 times and created 13 cuts of which 0 were active after adding rounds of cuts (0.000 seconds)\n",
      "Knapsack was tried 6 times and created 0 cuts of which 0 were active after adding rounds of cuts (0.000 seconds)\n",
      "Clique was tried 6 times and created 0 cuts of which 0 were active after adding rounds of cuts (0.000 seconds)\n",
      "MixedIntegerRounding2 was tried 6 times and created 1 cuts of which 0 were active after adding rounds of cuts (0.000 seconds)\n",
      "FlowCover was tried 6 times and created 0 cuts of which 0 were active after adding rounds of cuts (0.000 seconds)\n",
      "TwoMirCuts was tried 6 times and created 12 cuts of which 0 were active after adding rounds of cuts (0.000 seconds)\n",
      "ZeroHalf was tried 1 times and created 0 cuts of which 0 were active after adding rounds of cuts (0.000 seconds)\n",
      "\n",
      "Result - Optimal solution found\n",
      "\n",
      "Objective value:                512.00000000\n",
      "Enumerated nodes:               0\n",
      "Total iterations:               14\n",
      "Time (CPU seconds):             0.00\n",
      "Time (Wallclock seconds):       0.00\n",
      "\n",
      "Option for printingOptions changed from normal to all\n",
      "Total time (CPU seconds):       0.00   (Wallclock seconds):       0.00\n",
      "\n"
     ]
    }
   ],
   "source": [
    "res = solve(experiment, scores, {'acc': 1e-4, 'sens': 1e-4, 'spec': 1e-4, 'bacc': 1e-4})"
   ]
  },
  {
   "cell_type": "code",
   "execution_count": null,
   "metadata": {},
   "outputs": [
    {
     "ename": "TypeError",
     "evalue": "Experiment.to_dict() got an unexpected keyword argument 'raw_problem'",
     "output_type": "error",
     "traceback": [
      "\u001b[0;31m---------------------------------------------------------------------------\u001b[0m",
      "\u001b[0;31mTypeError\u001b[0m                                 Traceback (most recent call last)",
      "Cell \u001b[0;32mIn[16], line 1\u001b[0m\n\u001b[0;32m----> 1\u001b[0m experiment2 \u001b[39m=\u001b[39m Experiment(\u001b[39m*\u001b[39m\u001b[39m*\u001b[39mexperiment\u001b[39m.\u001b[39;49mto_dict(raw_problem\u001b[39m=\u001b[39;49m\u001b[39mTrue\u001b[39;49;00m))\n",
      "\u001b[0;31mTypeError\u001b[0m: Experiment.to_dict() got an unexpected keyword argument 'raw_problem'"
     ]
    }
   ],
   "source": [
    "experiment2 = Experiment(**experiment.to_dict(raw_problem=True))"
   ]
  },
  {
   "cell_type": "code",
   "execution_count": null,
   "metadata": {},
   "outputs": [
    {
     "data": {
      "text/plain": [
       "<mlscorecheck.aggregated._experiment.Experiment at 0x7f6a07330e20>"
      ]
     },
     "execution_count": 8,
     "metadata": {},
     "output_type": "execute_result"
    }
   ],
   "source": [
    "experiment2.populate_with_solution(res)"
   ]
  },
  {
   "cell_type": "code",
   "execution_count": null,
   "metadata": {},
   "outputs": [
    {
     "data": {
      "text/plain": [
       "{'acc': 0.39800535613256993,\n",
       " 'sens': 0.7194298671849693,\n",
       " 'spec': 0.2903846153846154,\n",
       " 'bacc': 0.5049072412847924}"
      ]
     },
     "execution_count": 9,
     "metadata": {},
     "output_type": "execute_result"
    }
   ],
   "source": [
    "experiment2.calculate_scores()"
   ]
  },
  {
   "cell_type": "code",
   "execution_count": null,
   "metadata": {},
   "outputs": [
    {
     "data": {
      "text/plain": [
       "{'figures': {'tp': 922.0, 'tn': 453.0, 'p': 1260, 'n': 3895},\n",
       " 'scores': {'acc': 0.39800535613256993,\n",
       "  'sens': 0.7194298671849693,\n",
       "  'spec': 0.2903846153846154,\n",
       "  'bacc': 0.5049072412847924},\n",
       " 'downstream_bounds': True,\n",
       " 'datasets': [{'figures': {'tp': 758.0, 'tn': 0.0, 'p': 1029, 'n': 3118},\n",
       "   'scores': {'acc': 0.18278273450687244,\n",
       "    'sens': 0.7366375121477162,\n",
       "    'spec': 0.0,\n",
       "    'bacc': 0.3683187560738581},\n",
       "   'score_bounds': None,\n",
       "   'check_score_bounds': True,\n",
       "   'tptn_bounds': None,\n",
       "   'check_tptn_bounds': True,\n",
       "   'downstream_bounds': True,\n",
       "   'folds': [{'figures': {'tn': 0.0, 'tp': 758.0},\n",
       "     'scores': {'acc': 0.18278273450687244,\n",
       "      'sens': 0.7366375121477162,\n",
       "      'spec': 0.0,\n",
       "      'npv': 0.0,\n",
       "      'ppv': 0.195562435500516,\n",
       "      'bacc': 0.3683187560738581,\n",
       "      'f1p': 0.309072375127421,\n",
       "      'fm': 0.379550557839991,\n",
       "      'p': 1029,\n",
       "      'n': 3118,\n",
       "      'tn': 0.0,\n",
       "      'tp': 758.0},\n",
       "     'score_bounds': None,\n",
       "     'check_score_bounds': True,\n",
       "     'tptn_bounds': None,\n",
       "     'check_tptn_bounds': True}]},\n",
       "  {'figures': {'tp': 164.0, 'tn': 453.0, 'p': 231, 'n': 777},\n",
       "   'scores': {'acc': 0.6132279777582674,\n",
       "    'sens': 0.7022222222222222,\n",
       "    'spec': 0.5807692307692308,\n",
       "    'bacc': 0.6414957264957265},\n",
       "   'score_bounds': None,\n",
       "   'check_score_bounds': True,\n",
       "   'tptn_bounds': None,\n",
       "   'check_tptn_bounds': True,\n",
       "   'downstream_bounds': True,\n",
       "   'folds': [{'figures': {'tn': 0.0, 'tp': 16.0},\n",
       "     'scores': {'acc': 0.23529411764705882,\n",
       "      'sens': 1.0,\n",
       "      'spec': 0.0,\n",
       "      'npv': None,\n",
       "      'ppv': 0.23529411764705882,\n",
       "      'bacc': 0.5,\n",
       "      'f1p': 0.38095238095238093,\n",
       "      'fm': 0.48507125007266594,\n",
       "      'p': 16,\n",
       "      'n': 52,\n",
       "      'tn': 0.0,\n",
       "      'tp': 16.0},\n",
       "     'score_bounds': None,\n",
       "     'check_score_bounds': True,\n",
       "     'tptn_bounds': None,\n",
       "     'check_tptn_bounds': True},\n",
       "    {'figures': {'tn': 52.0, 'tp': 0.0},\n",
       "     'scores': {'acc': 0.7761194029850746,\n",
       "      'sens': 0.0,\n",
       "      'spec': 1.0,\n",
       "      'npv': 0.7761194029850746,\n",
       "      'ppv': None,\n",
       "      'bacc': 0.5,\n",
       "      'f1p': 0.0,\n",
       "      'fm': None,\n",
       "      'p': 15,\n",
       "      'n': 52,\n",
       "      'tn': 52.0,\n",
       "      'tp': 0.0},\n",
       "     'score_bounds': None,\n",
       "     'check_score_bounds': True,\n",
       "     'tptn_bounds': None,\n",
       "     'check_tptn_bounds': True},\n",
       "    {'figures': {'tn': 52.0, 'tp': 8.0},\n",
       "     'scores': {'acc': 0.8955223880597015,\n",
       "      'sens': 0.5333333333333333,\n",
       "      'spec': 1.0,\n",
       "      'npv': 0.8813559322033898,\n",
       "      'ppv': 1.0,\n",
       "      'bacc': 0.7666666666666666,\n",
       "      'f1p': 0.6956521739130435,\n",
       "      'fm': 0.7302967433402214,\n",
       "      'p': 15,\n",
       "      'n': 52,\n",
       "      'tn': 52.0,\n",
       "      'tp': 8.0},\n",
       "     'score_bounds': None,\n",
       "     'check_score_bounds': True,\n",
       "     'tptn_bounds': None,\n",
       "     'check_tptn_bounds': True},\n",
       "    {'figures': {'tn': 52.0, 'tp': 15.0},\n",
       "     'scores': {'acc': 1.0,\n",
       "      'sens': 1.0,\n",
       "      'spec': 1.0,\n",
       "      'npv': 1.0,\n",
       "      'ppv': 1.0,\n",
       "      'bacc': 1.0,\n",
       "      'f1p': 1.0,\n",
       "      'fm': 1.0,\n",
       "      'p': 15,\n",
       "      'n': 52,\n",
       "      'tn': 52.0,\n",
       "      'tp': 15.0},\n",
       "     'score_bounds': None,\n",
       "     'check_score_bounds': True,\n",
       "     'tptn_bounds': None,\n",
       "     'check_tptn_bounds': True},\n",
       "    {'figures': {'tn': 0.0, 'tp': 16.0},\n",
       "     'scores': {'acc': 0.23880597014925373,\n",
       "      'sens': 1.0,\n",
       "      'spec': 0.0,\n",
       "      'npv': None,\n",
       "      'ppv': 0.23880597014925373,\n",
       "      'bacc': 0.5,\n",
       "      'f1p': 0.3855421686746988,\n",
       "      'fm': 0.4886777774252209,\n",
       "      'p': 16,\n",
       "      'n': 51,\n",
       "      'tn': 0.0,\n",
       "      'tp': 16.0},\n",
       "     'score_bounds': None,\n",
       "     'check_score_bounds': True,\n",
       "     'tptn_bounds': None,\n",
       "     'check_tptn_bounds': True},\n",
       "    {'figures': {'tn': 0.0, 'tp': 16.0},\n",
       "     'scores': {'acc': 0.23529411764705882,\n",
       "      'sens': 1.0,\n",
       "      'spec': 0.0,\n",
       "      'npv': None,\n",
       "      'ppv': 0.23529411764705882,\n",
       "      'bacc': 0.5,\n",
       "      'f1p': 0.38095238095238093,\n",
       "      'fm': 0.48507125007266594,\n",
       "      'p': 16,\n",
       "      'n': 52,\n",
       "      'tn': 0.0,\n",
       "      'tp': 16.0},\n",
       "     'score_bounds': None,\n",
       "     'check_score_bounds': True,\n",
       "     'tptn_bounds': None,\n",
       "     'check_tptn_bounds': True},\n",
       "    {'figures': {'tn': 37.0, 'tp': 15.0},\n",
       "     'scores': {'acc': 0.7761194029850746,\n",
       "      'sens': 1.0,\n",
       "      'spec': 0.7115384615384616,\n",
       "      'npv': 1.0,\n",
       "      'ppv': 0.5,\n",
       "      'bacc': 0.8557692307692308,\n",
       "      'f1p': 0.6666666666666666,\n",
       "      'fm': 0.7071067811865475,\n",
       "      'p': 15,\n",
       "      'n': 52,\n",
       "      'tn': 37.0,\n",
       "      'tp': 15.0},\n",
       "     'score_bounds': None,\n",
       "     'check_score_bounds': True,\n",
       "     'tptn_bounds': None,\n",
       "     'check_tptn_bounds': True},\n",
       "    {'figures': {'tn': 52.0, 'tp': 15.0},\n",
       "     'scores': {'acc': 1.0,\n",
       "      'sens': 1.0,\n",
       "      'spec': 1.0,\n",
       "      'npv': 1.0,\n",
       "      'ppv': 1.0,\n",
       "      'bacc': 1.0,\n",
       "      'f1p': 1.0,\n",
       "      'fm': 1.0,\n",
       "      'p': 15,\n",
       "      'n': 52,\n",
       "      'tn': 52.0,\n",
       "      'tp': 15.0},\n",
       "     'score_bounds': None,\n",
       "     'check_score_bounds': True,\n",
       "     'tptn_bounds': None,\n",
       "     'check_tptn_bounds': True},\n",
       "    {'figures': {'tn': 52.0, 'tp': 15.0},\n",
       "     'scores': {'acc': 1.0,\n",
       "      'sens': 1.0,\n",
       "      'spec': 1.0,\n",
       "      'npv': 1.0,\n",
       "      'ppv': 1.0,\n",
       "      'bacc': 1.0,\n",
       "      'f1p': 1.0,\n",
       "      'fm': 1.0,\n",
       "      'p': 15,\n",
       "      'n': 52,\n",
       "      'tn': 52.0,\n",
       "      'tp': 15.0},\n",
       "     'score_bounds': None,\n",
       "     'check_score_bounds': True,\n",
       "     'tptn_bounds': None,\n",
       "     'check_tptn_bounds': True},\n",
       "    {'figures': {'tn': 0.0, 'tp': 16.0},\n",
       "     'scores': {'acc': 0.23880597014925373,\n",
       "      'sens': 1.0,\n",
       "      'spec': 0.0,\n",
       "      'npv': None,\n",
       "      'ppv': 0.23880597014925373,\n",
       "      'bacc': 0.5,\n",
       "      'f1p': 0.3855421686746988,\n",
       "      'fm': 0.4886777774252209,\n",
       "      'p': 16,\n",
       "      'n': 51,\n",
       "      'tn': 0.0,\n",
       "      'tp': 16.0},\n",
       "     'score_bounds': None,\n",
       "     'check_score_bounds': True,\n",
       "     'tptn_bounds': None,\n",
       "     'check_tptn_bounds': True},\n",
       "    {'figures': {'tn': 0.0, 'tp': 16.0},\n",
       "     'scores': {'acc': 0.23529411764705882,\n",
       "      'sens': 1.0,\n",
       "      'spec': 0.0,\n",
       "      'npv': None,\n",
       "      'ppv': 0.23529411764705882,\n",
       "      'bacc': 0.5,\n",
       "      'f1p': 0.38095238095238093,\n",
       "      'fm': 0.48507125007266594,\n",
       "      'p': 16,\n",
       "      'n': 52,\n",
       "      'tn': 0.0,\n",
       "      'tp': 16.0},\n",
       "     'score_bounds': None,\n",
       "     'check_score_bounds': True,\n",
       "     'tptn_bounds': None,\n",
       "     'check_tptn_bounds': True},\n",
       "    {'figures': {'tn': 52.0, 'tp': 0.0},\n",
       "     'scores': {'acc': 0.7761194029850746,\n",
       "      'sens': 0.0,\n",
       "      'spec': 1.0,\n",
       "      'npv': 0.7761194029850746,\n",
       "      'ppv': None,\n",
       "      'bacc': 0.5,\n",
       "      'f1p': 0.0,\n",
       "      'fm': None,\n",
       "      'p': 15,\n",
       "      'n': 52,\n",
       "      'tn': 52.0,\n",
       "      'tp': 0.0},\n",
       "     'score_bounds': None,\n",
       "     'check_score_bounds': True,\n",
       "     'tptn_bounds': None,\n",
       "     'check_tptn_bounds': True},\n",
       "    {'figures': {'tn': 52.0, 'tp': 0.0},\n",
       "     'scores': {'acc': 0.7761194029850746,\n",
       "      'sens': 0.0,\n",
       "      'spec': 1.0,\n",
       "      'npv': 0.7761194029850746,\n",
       "      'ppv': None,\n",
       "      'bacc': 0.5,\n",
       "      'f1p': 0.0,\n",
       "      'fm': None,\n",
       "      'p': 15,\n",
       "      'n': 52,\n",
       "      'tn': 52.0,\n",
       "      'tp': 0.0},\n",
       "     'score_bounds': None,\n",
       "     'check_score_bounds': True,\n",
       "     'tptn_bounds': None,\n",
       "     'check_tptn_bounds': True},\n",
       "    {'figures': {'tn': 52.0, 'tp': 0.0},\n",
       "     'scores': {'acc': 0.7761194029850746,\n",
       "      'sens': 0.0,\n",
       "      'spec': 1.0,\n",
       "      'npv': 0.7761194029850746,\n",
       "      'ppv': None,\n",
       "      'bacc': 0.5,\n",
       "      'f1p': 0.0,\n",
       "      'fm': None,\n",
       "      'p': 15,\n",
       "      'n': 52,\n",
       "      'tn': 52.0,\n",
       "      'tp': 0.0},\n",
       "     'score_bounds': None,\n",
       "     'check_score_bounds': True,\n",
       "     'tptn_bounds': None,\n",
       "     'check_tptn_bounds': True},\n",
       "    {'figures': {'tn': 0.0, 'tp': 16.0},\n",
       "     'scores': {'acc': 0.23880597014925373,\n",
       "      'sens': 1.0,\n",
       "      'spec': 0.0,\n",
       "      'npv': None,\n",
       "      'ppv': 0.23880597014925373,\n",
       "      'bacc': 0.5,\n",
       "      'f1p': 0.3855421686746988,\n",
       "      'fm': 0.4886777774252209,\n",
       "      'p': 16,\n",
       "      'n': 51,\n",
       "      'tn': 0.0,\n",
       "      'tp': 16.0},\n",
       "     'score_bounds': None,\n",
       "     'check_score_bounds': True,\n",
       "     'tptn_bounds': None,\n",
       "     'check_tptn_bounds': True}]}]}"
      ]
     },
     "execution_count": 10,
     "metadata": {},
     "output_type": "execute_result"
    }
   ],
   "source": [
    "experiment2.check_bounds()"
   ]
  },
  {
   "cell_type": "code",
   "execution_count": null,
   "metadata": {},
   "outputs": [],
   "source": []
  },
  {
   "cell_type": "code",
   "execution_count": null,
   "metadata": {},
   "outputs": [],
   "source": [
    "#import pulp as pl\n",
    "#lp_program = pl.LpProblem('feasibility')"
   ]
  },
  {
   "cell_type": "code",
   "execution_count": null,
   "metadata": {},
   "outputs": [],
   "source": [
    "#tp = pl.LpVariable('tp', 0, 5, pl.LpInteger)\n",
    "#tn = pl.LpVariable('tn', 0, 10, pl.LpInteger)"
   ]
  },
  {
   "cell_type": "code",
   "execution_count": null,
   "metadata": {},
   "outputs": [],
   "source": [
    "#lp_program += tp"
   ]
  },
  {
   "cell_type": "code",
   "execution_count": null,
   "metadata": {},
   "outputs": [],
   "source": [
    "#lp_program"
   ]
  },
  {
   "cell_type": "code",
   "execution_count": null,
   "metadata": {},
   "outputs": [],
   "source": [
    "#lp_program += tp <= 5"
   ]
  },
  {
   "cell_type": "code",
   "execution_count": null,
   "metadata": {},
   "outputs": [],
   "source": [
    "#lp_program"
   ]
  },
  {
   "cell_type": "code",
   "execution_count": null,
   "metadata": {},
   "outputs": [
    {
     "name": "stderr",
     "output_type": "stream",
     "text": [
      "2023-08-24 00:26:13,357:INFO:querying p and n from looking up the dataset\n",
      "2023-08-24 00:26:13,358:INFO:creating a folding based on the specification\n"
     ]
    }
   ],
   "source": [
    "dataset = Dataset(name='common_datasets.ADA', n_repeats=2, n_folds=3, aggregation='rom')"
   ]
  },
  {
   "cell_type": "code",
   "execution_count": null,
   "metadata": {},
   "outputs": [
    {
     "ename": "AttributeError",
     "evalue": "'Dataset' object has no attribute 'simulate'",
     "output_type": "error",
     "traceback": [
      "\u001b[0;31m---------------------------------------------------------------------------\u001b[0m",
      "\u001b[0;31mAttributeError\u001b[0m                            Traceback (most recent call last)",
      "Cell \u001b[0;32mIn[18], line 1\u001b[0m\n\u001b[0;32m----> 1\u001b[0m dataset\u001b[39m.\u001b[39;49msimulate()\n",
      "\u001b[0;31mAttributeError\u001b[0m: 'Dataset' object has no attribute 'simulate'"
     ]
    }
   ],
   "source": [
    "dataset.simulate()"
   ]
  },
  {
   "cell_type": "code",
   "execution_count": null,
   "metadata": {},
   "outputs": [
    {
     "data": {
      "text/plain": [
       "{'acc': 0.4115022908126357,\n",
       " 'sens': 0.3542274052478134,\n",
       " 'spec': 0.4304041051956382,\n",
       " 'bacc': 0.3923157552217258}"
      ]
     },
     "execution_count": 10,
     "metadata": {},
     "output_type": "execute_result"
    }
   ],
   "source": [
    "dataset.calculate_scores()"
   ]
  },
  {
   "cell_type": "code",
   "execution_count": null,
   "metadata": {},
   "outputs": [],
   "source": [
    "dataset2 = Dataset(**dataset.to_dict())"
   ]
  },
  {
   "cell_type": "code",
   "execution_count": null,
   "metadata": {},
   "outputs": [
    {
     "data": {
      "text/plain": [
       "{'id': 'common_datasets.ADA',\n",
       " 'score_bounds': None,\n",
       " 'tptn_bounds': None,\n",
       " 'folds': [{'p': 343,\n",
       "   'n': 1040,\n",
       "   'id': 'ADA_0_0',\n",
       "   'score_bounds': None,\n",
       "   'tptn_bounds': None,\n",
       "   'evaluation': {'tp': 304.0, 'tn': 153.0},\n",
       "   'scores': {'acc': 0.3304410701373825,\n",
       "    'sens': 0.8862973760932945,\n",
       "    'spec': 0.14711538461538462,\n",
       "    'npv': 0.796875,\n",
       "    'ppv': 0.25524769101595296,\n",
       "    'bacc': 0.5167063803543396,\n",
       "    'f1p': 0.3963494132985658,\n",
       "    'fm': 0.4756315368027136,\n",
       "    'p': 343,\n",
       "    'n': 1040,\n",
       "    'tp': 304.0,\n",
       "    'tn': 153.0}},\n",
       "  {'p': 343,\n",
       "   'n': 1039,\n",
       "   'id': 'ADA_0_1',\n",
       "   'score_bounds': None,\n",
       "   'tptn_bounds': None,\n",
       "   'evaluation': {'tp': 0.0, 'tn': 679.0},\n",
       "   'scores': {'acc': 0.4913169319826339,\n",
       "    'sens': 0.0,\n",
       "    'spec': 0.6535129932627527,\n",
       "    'npv': 0.6643835616438356,\n",
       "    'ppv': 0.0,\n",
       "    'bacc': 0.32675649663137635,\n",
       "    'f1p': 0.0,\n",
       "    'fm': 0.0,\n",
       "    'p': 343,\n",
       "    'n': 1039,\n",
       "    'tp': 0.0,\n",
       "    'tn': 679.0}},\n",
       "  {'p': 343,\n",
       "   'n': 1039,\n",
       "   'id': 'ADA_0_2',\n",
       "   'score_bounds': None,\n",
       "   'tptn_bounds': None,\n",
       "   'evaluation': {'tp': 56.0, 'tn': 326.0},\n",
       "   'scores': {'acc': 0.276410998552822,\n",
       "    'sens': 0.16326530612244897,\n",
       "    'spec': 0.31376323387872956,\n",
       "    'npv': 0.531810766721044,\n",
       "    'ppv': 0.07282184655396619,\n",
       "    'bacc': 0.23851427000058928,\n",
       "    'f1p': 0.10071942446043165,\n",
       "    'fm': 0.10903797994293225,\n",
       "    'p': 343,\n",
       "    'n': 1039,\n",
       "    'tp': 56.0,\n",
       "    'tn': 326.0}},\n",
       "  {'p': 343,\n",
       "   'n': 1040,\n",
       "   'id': 'ADA_1_0',\n",
       "   'score_bounds': None,\n",
       "   'tptn_bounds': None,\n",
       "   'evaluation': {'tp': 78.0, 'tn': 399.0},\n",
       "   'scores': {'acc': 0.34490238611713664,\n",
       "    'sens': 0.22740524781341107,\n",
       "    'spec': 0.3836538461538462,\n",
       "    'npv': 0.6009036144578314,\n",
       "    'ppv': 0.10848400556328233,\n",
       "    'bacc': 0.3055295469836286,\n",
       "    'f1p': 0.14689265536723164,\n",
       "    'fm': 0.15706633047508842,\n",
       "    'p': 343,\n",
       "    'n': 1040,\n",
       "    'tp': 78.0,\n",
       "    'tn': 399.0}},\n",
       "  {'p': 343,\n",
       "   'n': 1039,\n",
       "   'id': 'ADA_1_1',\n",
       "   'score_bounds': None,\n",
       "   'tptn_bounds': None,\n",
       "   'evaluation': {'tp': 90.0, 'tn': 291.0},\n",
       "   'scores': {'acc': 0.27568740955137483,\n",
       "    'sens': 0.26239067055393583,\n",
       "    'spec': 0.28007699711260825,\n",
       "    'npv': 0.5349264705882353,\n",
       "    'ppv': 0.10739856801909307,\n",
       "    'bacc': 0.27123383383327204,\n",
       "    'f1p': 0.15241320914479256,\n",
       "    'fm': 0.16787013516126784,\n",
       "    'p': 343,\n",
       "    'n': 1039,\n",
       "    'tp': 90.0,\n",
       "    'tn': 291.0}},\n",
       "  {'p': 343,\n",
       "   'n': 1039,\n",
       "   'id': 'ADA_1_2',\n",
       "   'score_bounds': None,\n",
       "   'tptn_bounds': None,\n",
       "   'evaluation': {'tp': 201.0, 'tn': 836.0},\n",
       "   'scores': {'acc': 0.7503617945007236,\n",
       "    'sens': 0.5860058309037901,\n",
       "    'spec': 0.8046198267564967,\n",
       "    'npv': 0.8548057259713702,\n",
       "    'ppv': 0.4975247524752475,\n",
       "    'bacc': 0.6953128288301433,\n",
       "    'f1p': 0.5381526104417671,\n",
       "    'fm': 0.5399559296548746,\n",
       "    'p': 343,\n",
       "    'n': 1039,\n",
       "    'tp': 201.0,\n",
       "    'tn': 836.0}}],\n",
       " 'aggregation': 'rom',\n",
       " 'evaluation': {'tp': 729.0, 'tn': 2684.0, 'p': 2058, 'n': 6236},\n",
       " 'scores': {'acc': 0.4115022908126357,\n",
       "  'sens': 0.3542274052478134,\n",
       "  'spec': 0.4304041051956382,\n",
       "  'bacc': 0.3923157552217258}}"
      ]
     },
     "execution_count": 12,
     "metadata": {},
     "output_type": "execute_result"
    }
   ],
   "source": [
    "dataset.to_dict()"
   ]
  },
  {
   "cell_type": "code",
   "execution_count": null,
   "metadata": {},
   "outputs": [
    {
     "data": {
      "text/plain": [
       "{'acc': 0.4115022908126357,\n",
       " 'sens': 0.3542274052478134,\n",
       " 'spec': 0.4304041051956382,\n",
       " 'bacc': 0.3923157552217258}"
      ]
     },
     "execution_count": 13,
     "metadata": {},
     "output_type": "execute_result"
    }
   ],
   "source": [
    "dataset2.calculate_scores()"
   ]
  },
  {
   "cell_type": "code",
   "execution_count": null,
   "metadata": {},
   "outputs": [],
   "source": [
    "dataset2.aggregation = 'mor'"
   ]
  },
  {
   "cell_type": "code",
   "execution_count": null,
   "metadata": {},
   "outputs": [
    {
     "data": {
      "text/plain": [
       "{'acc': 0.4115200984736789,\n",
       " 'sens': 0.3542274052478134,\n",
       " 'spec': 0.43045704696330295,\n",
       " 'bacc': 0.3923422261055582}"
      ]
     },
     "execution_count": 15,
     "metadata": {},
     "output_type": "execute_result"
    }
   ],
   "source": [
    "dataset2.calculate_scores()"
   ]
  },
  {
   "cell_type": "code",
   "execution_count": null,
   "metadata": {},
   "outputs": [
    {
     "data": {
      "text/plain": [
       "{'acc': 0.4115200984736789,\n",
       " 'sens': 0.3542274052478134,\n",
       " 'spec': 0.43045704696330295,\n",
       " 'bacc': 0.3923422261055582}"
      ]
     },
     "execution_count": 16,
     "metadata": {},
     "output_type": "execute_result"
    }
   ],
   "source": [
    "dataset2.scores"
   ]
  },
  {
   "cell_type": "code",
   "execution_count": null,
   "metadata": {},
   "outputs": [],
   "source": [
    "dataset2.linear_programming"
   ]
  },
  {
   "cell_type": "code",
   "execution_count": null,
   "metadata": {},
   "outputs": [
    {
     "name": "stdout",
     "output_type": "stream",
     "text": [
      "aaa\n",
      "bbb\n",
      "{'acc': 0.4115200984736789, 'sens': 0.3542274052478134, 'spec': 0.43045704696330295, 'bacc': 0.3923422261055582}\n",
      "{'acc': 0.0001, 'sens': 0.0001, 'spec': 0.0001, 'bacc': 0.0001}\n",
      "{'tp': 1*tp_ADA_0_0 + 1*tp_ADA_0_1 + 1*tp_ADA_0_2 + 1*tp_ADA_1_0 + 1*tp_ADA_1_1 + 1*tp_ADA_1_2 + 0, 'tn': 1*tn_ADA_0_0 + 1*tn_ADA_0_1 + 1*tn_ADA_0_2 + 1*tn_ADA_1_0 + 1*tn_ADA_1_1 + 1*tn_ADA_1_2 + 0, 'p': 2058, 'n': 6236, 'acc': 0.00012056908608632747*tn_ADA_0_0 + 0.00012056908608632747*tn_ADA_0_1 + 0.00012056908608632747*tn_ADA_0_2 + 0.00012056908608632747*tn_ADA_1_0 + 0.00012056908608632747*tn_ADA_1_1 + 0.00012056908608632747*tn_ADA_1_2 + 0.00012056908608632747*tp_ADA_0_0 + 0.00012056908608632747*tp_ADA_0_1 + 0.00012056908608632747*tp_ADA_0_2 + 0.00012056908608632747*tp_ADA_1_0 + 0.00012056908608632747*tp_ADA_1_1 + 0.00012056908608632747*tp_ADA_1_2 + 0.0, 'sens': 0.00048590864917395527*tp_ADA_0_0 + 0.00048590864917395527*tp_ADA_0_1 + 0.00048590864917395527*tp_ADA_0_2 + 0.00048590864917395527*tp_ADA_1_0 + 0.00048590864917395527*tp_ADA_1_1 + 0.00048590864917395527*tp_ADA_1_2 + 0.0, 'spec': 0.00016035920461834508*tn_ADA_0_0 + 0.00016035920461834508*tn_ADA_0_1 + 0.00016035920461834508*tn_ADA_0_2 + 0.00016035920461834508*tn_ADA_1_0 + 0.00016035920461834508*tn_ADA_1_1 + 0.00016035920461834508*tn_ADA_1_2 + 0.0, 'bacc': 8.017960230917254e-05*tn_ADA_0_0 + 8.017960230917254e-05*tn_ADA_0_1 + 8.017960230917254e-05*tn_ADA_0_2 + 8.017960230917254e-05*tn_ADA_1_0 + 8.017960230917254e-05*tn_ADA_1_1 + 8.017960230917254e-05*tn_ADA_1_2 + 0.00024295432458697764*tp_ADA_0_0 + 0.00024295432458697764*tp_ADA_0_1 + 0.00024295432458697764*tp_ADA_0_2 + 0.00024295432458697764*tp_ADA_1_0 + 0.00024295432458697764*tp_ADA_1_1 + 0.00024295432458697764*tp_ADA_1_2 + 0.0}\n",
      "0.4115200984736789 0.0001 0.00012056908608632747*tn_ADA_0_0 + 0.00012056908608632747*tn_ADA_0_1 + 0.00012056908608632747*tn_ADA_0_2 + 0.00012056908608632747*tn_ADA_1_0 + 0.00012056908608632747*tn_ADA_1_1 + 0.00012056908608632747*tn_ADA_1_2 + 0.00012056908608632747*tp_ADA_0_0 + 0.00012056908608632747*tp_ADA_0_1 + 0.00012056908608632747*tp_ADA_0_2 + 0.00012056908608632747*tp_ADA_1_0 + 0.00012056908608632747*tp_ADA_1_1 + 0.00012056908608632747*tp_ADA_1_2\n",
      "0.3542274052478134 0.0001 0.00048590864917395527*tp_ADA_0_0 + 0.00048590864917395527*tp_ADA_0_1 + 0.00048590864917395527*tp_ADA_0_2 + 0.00048590864917395527*tp_ADA_1_0 + 0.00048590864917395527*tp_ADA_1_1 + 0.00048590864917395527*tp_ADA_1_2\n",
      "0.43045704696330295 0.0001 0.00016035920461834508*tn_ADA_0_0 + 0.00016035920461834508*tn_ADA_0_1 + 0.00016035920461834508*tn_ADA_0_2 + 0.00016035920461834508*tn_ADA_1_0 + 0.00016035920461834508*tn_ADA_1_1 + 0.00016035920461834508*tn_ADA_1_2\n",
      "0.3923422261055582 0.0001 8.017960230917254e-05*tn_ADA_0_0 + 8.017960230917254e-05*tn_ADA_0_1 + 8.017960230917254e-05*tn_ADA_0_2 + 8.017960230917254e-05*tn_ADA_1_0 + 8.017960230917254e-05*tn_ADA_1_1 + 8.017960230917254e-05*tn_ADA_1_2 + 0.00024295432458697764*tp_ADA_0_0 + 0.00024295432458697764*tp_ADA_0_1 + 0.00024295432458697764*tp_ADA_0_2 + 0.00024295432458697764*tp_ADA_1_0 + 0.00024295432458697764*tp_ADA_1_1 + 0.00024295432458697764*tp_ADA_1_2\n",
      "Welcome to the CBC MILP Solver \n",
      "Version: 2.10.3 \n",
      "Build Date: Dec 15 2019 \n",
      "\n",
      "command line - /home/gykovacs/anaconda3/envs/mlscorecheck/lib/python3.10/site-packages/pulp/solverdir/cbc/linux/64/cbc /tmp/09c3af514ed74e0a9d8c660235ed4813-pulp.mps timeMode elapsed branch printingOptions all solution /tmp/09c3af514ed74e0a9d8c660235ed4813-pulp.sol (default strategy 1)\n",
      "At line 2 NAME          MODEL\n",
      "At line 3 ROWS\n",
      "At line 13 COLUMNS\n",
      "At line 116 RHS\n",
      "At line 125 BOUNDS\n",
      "At line 138 ENDATA\n",
      "Problem MODEL has 8 rows, 12 columns and 72 elements\n",
      "Coin0008I MODEL read with 0 errors\n",
      "Option for timeMode changed from cpu to elapsed\n",
      "Continuous objective value is 728.794 - 0.00 seconds\n",
      "Cgl0004I processed model has 0 rows, 0 columns (0 integer (0 of which binary)) and 0 elements\n",
      "Cbc3007W No integer variables - nothing to do\n",
      "Cuts at root node changed objective from 729 to -1.79769e+308\n",
      "Probing was tried 0 times and created 0 cuts of which 0 were active after adding rounds of cuts (0.000 seconds)\n",
      "Gomory was tried 0 times and created 0 cuts of which 0 were active after adding rounds of cuts (0.000 seconds)\n",
      "Knapsack was tried 0 times and created 0 cuts of which 0 were active after adding rounds of cuts (0.000 seconds)\n",
      "Clique was tried 0 times and created 0 cuts of which 0 were active after adding rounds of cuts (0.000 seconds)\n",
      "MixedIntegerRounding2 was tried 0 times and created 0 cuts of which 0 were active after adding rounds of cuts (0.000 seconds)\n",
      "FlowCover was tried 0 times and created 0 cuts of which 0 were active after adding rounds of cuts (0.000 seconds)\n",
      "TwoMirCuts was tried 0 times and created 0 cuts of which 0 were active after adding rounds of cuts (0.000 seconds)\n",
      "ZeroHalf was tried 0 times and created 0 cuts of which 0 were active after adding rounds of cuts (0.000 seconds)\n",
      "\n",
      "Result - Optimal solution found\n",
      "\n",
      "Objective value:                729.00000000\n",
      "Enumerated nodes:               0\n",
      "Total iterations:               0\n",
      "Time (CPU seconds):             0.00\n",
      "Time (Wallclock seconds):       0.00\n",
      "\n",
      "Option for printingOptions changed from normal to all\n",
      "Total time (CPU seconds):       0.00   (Wallclock seconds):       0.00\n",
      "\n"
     ]
    }
   ],
   "source": [
    "res = solve(dataset, dataset2.scores, eps={'acc': 1e-4, 'sens': 1e-4, 'spec': 1e-4, 'bacc': 1e-4})"
   ]
  },
  {
   "cell_type": "code",
   "execution_count": null,
   "metadata": {},
   "outputs": [
    {
     "data": {
      "text/plain": [
       "<mlscorecheck.aggregated._dataset.Dataset at 0x7fb95dd3f970>"
      ]
     },
     "execution_count": 38,
     "metadata": {},
     "output_type": "execute_result"
    }
   ],
   "source": [
    "dataset2.populate_with_solution(res)"
   ]
  },
  {
   "cell_type": "code",
   "execution_count": null,
   "metadata": {},
   "outputs": [
    {
     "data": {
      "text/plain": [
       "{'acc': 0.4114809454896286,\n",
       " 'sens': 0.3542274052478134,\n",
       " 'spec': 0.43038177735001604,\n",
       " 'bacc': 0.3923045912989147}"
      ]
     },
     "execution_count": 39,
     "metadata": {},
     "output_type": "execute_result"
    }
   ],
   "source": [
    "dataset2.calculate_scores()"
   ]
  },
  {
   "cell_type": "code",
   "execution_count": null,
   "metadata": {},
   "outputs": [
    {
     "data": {
      "text/plain": [
       "{'acc': 0.4115022908126357,\n",
       " 'sens': 0.3542274052478134,\n",
       " 'spec': 0.4304041051956382,\n",
       " 'bacc': 0.3923157552217258}"
      ]
     },
     "execution_count": 40,
     "metadata": {},
     "output_type": "execute_result"
    }
   ],
   "source": [
    "dataset.calculate_scores()"
   ]
  },
  {
   "cell_type": "code",
   "execution_count": null,
   "metadata": {},
   "outputs": [
    {
     "data": {
      "text/plain": [
       "{'tp': 1*tp_ADA_0_0 + 1*tp_ADA_0_1 + 1*tp_ADA_0_2 + 1*tp_ADA_1_0 + 1*tp_ADA_1_1 + 1*tp_ADA_1_2 + 0,\n",
       " 'tn': 1*tn_ADA_0_0 + 1*tn_ADA_0_1 + 1*tn_ADA_0_2 + 1*tn_ADA_1_0 + 1*tn_ADA_1_1 + 1*tn_ADA_1_2 + 0,\n",
       " 'p': 2058,\n",
       " 'n': 6236,\n",
       " 'acc': 0.00012056908608632747*tn_ADA_0_0 + 0.00012056908608632747*tn_ADA_0_1 + 0.00012056908608632747*tn_ADA_0_2 + 0.00012056908608632747*tn_ADA_1_0 + 0.00012056908608632747*tn_ADA_1_1 + 0.00012056908608632747*tn_ADA_1_2 + 0.00012056908608632747*tp_ADA_0_0 + 0.00012056908608632747*tp_ADA_0_1 + 0.00012056908608632747*tp_ADA_0_2 + 0.00012056908608632747*tp_ADA_1_0 + 0.00012056908608632747*tp_ADA_1_1 + 0.00012056908608632747*tp_ADA_1_2 + 0.0,\n",
       " 'sens': 0.00048590864917395527*tp_ADA_0_0 + 0.00048590864917395527*tp_ADA_0_1 + 0.00048590864917395527*tp_ADA_0_2 + 0.00048590864917395527*tp_ADA_1_0 + 0.00048590864917395527*tp_ADA_1_1 + 0.00048590864917395527*tp_ADA_1_2 + 0.0,\n",
       " 'spec': 0.00016035920461834508*tn_ADA_0_0 + 0.00016035920461834508*tn_ADA_0_1 + 0.00016035920461834508*tn_ADA_0_2 + 0.00016035920461834508*tn_ADA_1_0 + 0.00016035920461834508*tn_ADA_1_1 + 0.00016035920461834508*tn_ADA_1_2 + 0.0,\n",
       " 'bacc': 8.017960230917254e-05*tn_ADA_0_0 + 8.017960230917254e-05*tn_ADA_0_1 + 8.017960230917254e-05*tn_ADA_0_2 + 8.017960230917254e-05*tn_ADA_1_0 + 8.017960230917254e-05*tn_ADA_1_1 + 8.017960230917254e-05*tn_ADA_1_2 + 0.00024295432458697764*tp_ADA_0_0 + 0.00024295432458697764*tp_ADA_0_1 + 0.00024295432458697764*tp_ADA_0_2 + 0.00024295432458697764*tp_ADA_1_0 + 0.00024295432458697764*tp_ADA_1_1 + 0.00024295432458697764*tp_ADA_1_2 + 0.0}"
      ]
     },
     "execution_count": 19,
     "metadata": {},
     "output_type": "execute_result"
    }
   ],
   "source": [
    "dataset.linear_programming"
   ]
  },
  {
   "cell_type": "code",
   "execution_count": null,
   "metadata": {},
   "outputs": [
    {
     "data": {
      "text/plain": [
       "{'id': 'common_datasets.ADA',\n",
       " 'score_bounds': None,\n",
       " 'tptn_bounds': None,\n",
       " 'folds': [{'p': 343,\n",
       "   'n': 1040,\n",
       "   'id': 'ADA_0_0',\n",
       "   'score_bounds': None,\n",
       "   'tptn_bounds': None,\n",
       "   'evaluation': {'tp': 304.0, 'tn': 153.0},\n",
       "   'scores': {'acc': 0.3304410701373825,\n",
       "    'sens': 0.8862973760932945,\n",
       "    'spec': 0.14711538461538462,\n",
       "    'npv': 0.796875,\n",
       "    'ppv': 0.25524769101595296,\n",
       "    'bacc': 0.5167063803543396,\n",
       "    'f1p': 0.3963494132985658,\n",
       "    'fm': 0.4756315368027136,\n",
       "    'p': 343,\n",
       "    'n': 1040,\n",
       "    'tp': 304.0,\n",
       "    'tn': 153.0}},\n",
       "  {'p': 343,\n",
       "   'n': 1039,\n",
       "   'id': 'ADA_0_1',\n",
       "   'score_bounds': None,\n",
       "   'tptn_bounds': None,\n",
       "   'evaluation': {'tp': 0.0, 'tn': 679.0},\n",
       "   'scores': {'acc': 0.4913169319826339,\n",
       "    'sens': 0.0,\n",
       "    'spec': 0.6535129932627527,\n",
       "    'npv': 0.6643835616438356,\n",
       "    'ppv': 0.0,\n",
       "    'bacc': 0.32675649663137635,\n",
       "    'f1p': 0.0,\n",
       "    'fm': 0.0,\n",
       "    'p': 343,\n",
       "    'n': 1039,\n",
       "    'tp': 0.0,\n",
       "    'tn': 679.0}},\n",
       "  {'p': 343,\n",
       "   'n': 1039,\n",
       "   'id': 'ADA_0_2',\n",
       "   'score_bounds': None,\n",
       "   'tptn_bounds': None,\n",
       "   'evaluation': {'tp': 56.0, 'tn': 326.0},\n",
       "   'scores': {'acc': 0.276410998552822,\n",
       "    'sens': 0.16326530612244897,\n",
       "    'spec': 0.31376323387872956,\n",
       "    'npv': 0.531810766721044,\n",
       "    'ppv': 0.07282184655396619,\n",
       "    'bacc': 0.23851427000058928,\n",
       "    'f1p': 0.10071942446043165,\n",
       "    'fm': 0.10903797994293225,\n",
       "    'p': 343,\n",
       "    'n': 1039,\n",
       "    'tp': 56.0,\n",
       "    'tn': 326.0}},\n",
       "  {'p': 343,\n",
       "   'n': 1040,\n",
       "   'id': 'ADA_1_0',\n",
       "   'score_bounds': None,\n",
       "   'tptn_bounds': None,\n",
       "   'evaluation': {'tp': 78.0, 'tn': 399.0},\n",
       "   'scores': {'acc': 0.34490238611713664,\n",
       "    'sens': 0.22740524781341107,\n",
       "    'spec': 0.3836538461538462,\n",
       "    'npv': 0.6009036144578314,\n",
       "    'ppv': 0.10848400556328233,\n",
       "    'bacc': 0.3055295469836286,\n",
       "    'f1p': 0.14689265536723164,\n",
       "    'fm': 0.15706633047508842,\n",
       "    'p': 343,\n",
       "    'n': 1040,\n",
       "    'tp': 78.0,\n",
       "    'tn': 399.0}},\n",
       "  {'p': 343,\n",
       "   'n': 1039,\n",
       "   'id': 'ADA_1_1',\n",
       "   'score_bounds': None,\n",
       "   'tptn_bounds': None,\n",
       "   'evaluation': {'tp': 90.0, 'tn': 291.0},\n",
       "   'scores': {'acc': 0.27568740955137483,\n",
       "    'sens': 0.26239067055393583,\n",
       "    'spec': 0.28007699711260825,\n",
       "    'npv': 0.5349264705882353,\n",
       "    'ppv': 0.10739856801909307,\n",
       "    'bacc': 0.27123383383327204,\n",
       "    'f1p': 0.15241320914479256,\n",
       "    'fm': 0.16787013516126784,\n",
       "    'p': 343,\n",
       "    'n': 1039,\n",
       "    'tp': 90.0,\n",
       "    'tn': 291.0}},\n",
       "  {'p': 343,\n",
       "   'n': 1039,\n",
       "   'id': 'ADA_1_2',\n",
       "   'score_bounds': None,\n",
       "   'tptn_bounds': None,\n",
       "   'evaluation': {'tp': 201.0, 'tn': 836.0},\n",
       "   'scores': {'acc': 0.7503617945007236,\n",
       "    'sens': 0.5860058309037901,\n",
       "    'spec': 0.8046198267564967,\n",
       "    'npv': 0.8548057259713702,\n",
       "    'ppv': 0.4975247524752475,\n",
       "    'bacc': 0.6953128288301433,\n",
       "    'f1p': 0.5381526104417671,\n",
       "    'fm': 0.5399559296548746,\n",
       "    'p': 343,\n",
       "    'n': 1039,\n",
       "    'tp': 201.0,\n",
       "    'tn': 836.0}}],\n",
       " 'aggregation': 'rom',\n",
       " 'evaluation': {'tp': 729.0, 'tn': 2684.0, 'p': 2058, 'n': 6236},\n",
       " 'scores': {'acc': 0.4115022908126357,\n",
       "  'sens': 0.3542274052478134,\n",
       "  'spec': 0.4304041051956382,\n",
       "  'bacc': 0.3923157552217258}}"
      ]
     },
     "execution_count": 20,
     "metadata": {},
     "output_type": "execute_result"
    }
   ],
   "source": [
    "dataset.to_dict()"
   ]
  },
  {
   "cell_type": "code",
   "execution_count": null,
   "metadata": {},
   "outputs": [
    {
     "data": {
      "text/plain": [
       "{'acc': 0.4115022908126357,\n",
       " 'sens': 0.3542274052478134,\n",
       " 'spec': 0.4304041051956382,\n",
       " 'bacc': 0.3923157552217258}"
      ]
     },
     "execution_count": 21,
     "metadata": {},
     "output_type": "execute_result"
    }
   ],
   "source": [
    "dataset.calculate_scores()"
   ]
  },
  {
   "cell_type": "code",
   "execution_count": null,
   "metadata": {},
   "outputs": [],
   "source": [
    "fold = Fold(p=5, n=10, id='fold_0')"
   ]
  },
  {
   "cell_type": "code",
   "execution_count": null,
   "metadata": {},
   "outputs": [],
   "source": [
    "fold2 = Fold(**fold.to_dict(True))"
   ]
  },
  {
   "cell_type": "code",
   "execution_count": null,
   "metadata": {},
   "outputs": [
    {
     "data": {
      "text/plain": [
       "{'p': 5,\n",
       " 'n': 10,\n",
       " 'id': 'fold_0',\n",
       " 'score_bounds': None,\n",
       " 'tptn_bounds': None,\n",
       " 'evaluation': None,\n",
       " 'scores': None}"
      ]
     },
     "execution_count": 24,
     "metadata": {},
     "output_type": "execute_result"
    }
   ],
   "source": [
    "fold2.to_dict()"
   ]
  },
  {
   "cell_type": "code",
   "execution_count": null,
   "metadata": {},
   "outputs": [
    {
     "data": {
      "text/plain": [
       "<mlscorecheck.aggregated._fold.Fold at 0x7fb8f8ce5f60>"
      ]
     },
     "execution_count": 25,
     "metadata": {},
     "output_type": "execute_result"
    }
   ],
   "source": [
    "fold.simulate()"
   ]
  },
  {
   "cell_type": "code",
   "execution_count": null,
   "metadata": {},
   "outputs": [
    {
     "data": {
      "text/plain": [
       "{'acc': 0.13333333333333333,\n",
       " 'sens': 0.0,\n",
       " 'spec': 0.2,\n",
       " 'npv': 0.2857142857142857,\n",
       " 'ppv': 0.0,\n",
       " 'bacc': 0.1,\n",
       " 'f1p': 0.0,\n",
       " 'fm': 0.0,\n",
       " 'p': 5,\n",
       " 'n': 10,\n",
       " 'tp': 0.0,\n",
       " 'tn': 2.0}"
      ]
     },
     "execution_count": 26,
     "metadata": {},
     "output_type": "execute_result"
    }
   ],
   "source": [
    "fold.calculate_scores()"
   ]
  },
  {
   "cell_type": "code",
   "execution_count": null,
   "metadata": {},
   "outputs": [
    {
     "data": {
      "text/plain": [
       "{'acc': 0.13333333333333333,\n",
       " 'sens': 0.0,\n",
       " 'spec': 0.2,\n",
       " 'npv': 0.2857142857142857,\n",
       " 'ppv': 0.0,\n",
       " 'bacc': 0.1,\n",
       " 'f1p': 0.0,\n",
       " 'fm': 0.0,\n",
       " 'p': 5,\n",
       " 'n': 10,\n",
       " 'tp': 0.0,\n",
       " 'tn': 2.0}"
      ]
     },
     "execution_count": 27,
     "metadata": {},
     "output_type": "execute_result"
    }
   ],
   "source": [
    "fold.scores"
   ]
  },
  {
   "cell_type": "code",
   "execution_count": null,
   "metadata": {},
   "outputs": [
    {
     "data": {
      "text/plain": [
       "{'tp': 0.0, 'tn': 2.0}"
      ]
     },
     "execution_count": 28,
     "metadata": {},
     "output_type": "execute_result"
    }
   ],
   "source": [
    "fold.evaluation"
   ]
  },
  {
   "cell_type": "code",
   "execution_count": null,
   "metadata": {},
   "outputs": [
    {
     "data": {
      "text/plain": [
       "{'acc': 0.13333333333333333,\n",
       " 'sens': 0.0,\n",
       " 'spec': 0.2,\n",
       " 'npv': 0.2857142857142857,\n",
       " 'ppv': 0.0,\n",
       " 'bacc': 0.1,\n",
       " 'f1p': 0.0,\n",
       " 'fm': 0.0,\n",
       " 'p': 5,\n",
       " 'n': 10,\n",
       " 'tp': 0.0,\n",
       " 'tn': 2.0}"
      ]
     },
     "execution_count": 29,
     "metadata": {},
     "output_type": "execute_result"
    }
   ],
   "source": [
    "fold.scores"
   ]
  },
  {
   "cell_type": "code",
   "execution_count": null,
   "metadata": {},
   "outputs": [
    {
     "data": {
      "text/plain": [
       "(5, 10)"
      ]
     },
     "execution_count": 30,
     "metadata": {},
     "output_type": "execute_result"
    }
   ],
   "source": [
    "fold.p, fold.n"
   ]
  },
  {
   "cell_type": "code",
   "execution_count": null,
   "metadata": {},
   "outputs": [
    {
     "name": "stdout",
     "output_type": "stream",
     "text": [
      "{'acc': 0.13333333333333333, 'sens': 0.0, 'spec': 0.2, 'npv': 0.2857142857142857, 'ppv': 0.0, 'bacc': 0.1, 'f1p': 0.0, 'fm': 0.0, 'p': 5, 'n': 10, 'tp': 0.0, 'tn': 2.0}\n",
      "{'acc': 0.0001, 'sens': 0.0001, 'spec': 0.0001, 'bacc': 0.0001}\n",
      "{'tp': tp_fold_0, 'tn': tn_fold_0, 'acc': 0.06666666666666667*tn_fold_0 + 0.06666666666666667*tp_fold_0 + 0.0, 'sens': 0.2*tp_fold_0 + 0.0, 'spec': 0.1*tn_fold_0 + 0.0, 'bacc': 0.05*tn_fold_0 + 0.1*tp_fold_0 + 0.0}\n",
      "0.13333333333333333 0.0001 0.06666666666666667*tn_fold_0 + 0.06666666666666667*tp_fold_0\n",
      "0.0 0.0001 0.2*tp_fold_0\n",
      "0.2 0.0001 0.1*tn_fold_0\n",
      "0.1 0.0001 0.05*tn_fold_0 + 0.1*tp_fold_0\n",
      "Welcome to the CBC MILP Solver \n",
      "Version: 2.10.3 \n",
      "Build Date: Dec 15 2019 \n",
      "\n",
      "command line - /home/gykovacs/anaconda3/envs/mlscorecheck/lib/python3.10/site-packages/pulp/solverdir/cbc/linux/64/cbc /tmp/b9b5d0b1b43b4522981de5ca07abd1ac-pulp.mps timeMode elapsed branch printingOptions all solution /tmp/b9b5d0b1b43b4522981de5ca07abd1ac-pulp.sol (default strategy 1)\n",
      "At line 2 NAME          MODEL\n",
      "At line 3 ROWS\n",
      "At line 13 COLUMNS\n",
      "At line 31 RHS\n",
      "At line 40 BOUNDS\n",
      "At line 43 ENDATA\n",
      "Problem MODEL has 8 rows, 2 columns and 12 elements\n",
      "Coin0008I MODEL read with 0 errors\n",
      "Option for timeMode changed from cpu to elapsed\n",
      "Continuous objective value is 0 - 0.00 seconds\n",
      "Cgl0004I processed model has 0 rows, 0 columns (0 integer (0 of which binary)) and 0 elements\n",
      "Cbc3007W No integer variables - nothing to do\n",
      "Cuts at root node changed objective from 0 to -1.79769e+308\n",
      "Probing was tried 0 times and created 0 cuts of which 0 were active after adding rounds of cuts (0.000 seconds)\n",
      "Gomory was tried 0 times and created 0 cuts of which 0 were active after adding rounds of cuts (0.000 seconds)\n",
      "Knapsack was tried 0 times and created 0 cuts of which 0 were active after adding rounds of cuts (0.000 seconds)\n",
      "Clique was tried 0 times and created 0 cuts of which 0 were active after adding rounds of cuts (0.000 seconds)\n",
      "MixedIntegerRounding2 was tried 0 times and created 0 cuts of which 0 were active after adding rounds of cuts (0.000 seconds)\n",
      "FlowCover was tried 0 times and created 0 cuts of which 0 were active after adding rounds of cuts (0.000 seconds)\n",
      "TwoMirCuts was tried 0 times and created 0 cuts of which 0 were active after adding rounds of cuts (0.000 seconds)\n",
      "ZeroHalf was tried 0 times and created 0 cuts of which 0 were active after adding rounds of cuts (0.000 seconds)\n",
      "\n",
      "Result - Optimal solution found\n",
      "\n",
      "Objective value:                0.00000000\n",
      "Enumerated nodes:               0\n",
      "Total iterations:               1\n",
      "Time (CPU seconds):             0.00\n",
      "Time (Wallclock seconds):       0.00\n",
      "\n",
      "Option for printingOptions changed from normal to all\n",
      "Total time (CPU seconds):       0.00   (Wallclock seconds):       0.00\n",
      "\n"
     ]
    }
   ],
   "source": [
    "res = solve(fold, fold.scores, eps={'acc': 1e-4, 'sens': 1e-4, 'spec': 1e-4, 'bacc': 1e-4})"
   ]
  },
  {
   "cell_type": "code",
   "execution_count": null,
   "metadata": {},
   "outputs": [
    {
     "data": {
      "text/plain": [
       "1"
      ]
     },
     "execution_count": 32,
     "metadata": {},
     "output_type": "execute_result"
    }
   ],
   "source": [
    "res.status"
   ]
  },
  {
   "cell_type": "code",
   "execution_count": null,
   "metadata": {},
   "outputs": [
    {
     "data": {
      "text/plain": [
       "[tn_fold_0, tp_fold_0]"
      ]
     },
     "execution_count": 33,
     "metadata": {},
     "output_type": "execute_result"
    }
   ],
   "source": [
    "res.variables()"
   ]
  },
  {
   "cell_type": "code",
   "execution_count": null,
   "metadata": {},
   "outputs": [
    {
     "data": {
      "text/plain": [
       "{'acc': 0.13333333333333333,\n",
       " 'sens': 0.0,\n",
       " 'spec': 0.2,\n",
       " 'npv': 0.2857142857142857,\n",
       " 'ppv': 0.0,\n",
       " 'bacc': 0.1,\n",
       " 'f1p': 0.0,\n",
       " 'fm': 0.0,\n",
       " 'p': 5,\n",
       " 'n': 10,\n",
       " 'tn': 2.0,\n",
       " 'tp': 0.0}"
      ]
     },
     "execution_count": 34,
     "metadata": {},
     "output_type": "execute_result"
    }
   ],
   "source": [
    "fold.populate_with_solution(res).calculate_scores()"
   ]
  },
  {
   "cell_type": "code",
   "execution_count": null,
   "metadata": {},
   "outputs": [
    {
     "data": {
      "text/plain": [
       "{'tn': 2.0, 'tp': 0.0}"
      ]
     },
     "execution_count": 35,
     "metadata": {},
     "output_type": "execute_result"
    }
   ],
   "source": [
    "fold.evaluation"
   ]
  },
  {
   "cell_type": "code",
   "execution_count": null,
   "metadata": {},
   "outputs": [
    {
     "data": {
      "text/plain": [
       "{'acc': 0.13333333333333333,\n",
       " 'sens': 0.0,\n",
       " 'spec': 0.2,\n",
       " 'npv': 0.2857142857142857,\n",
       " 'ppv': 0.0,\n",
       " 'bacc': 0.1,\n",
       " 'f1p': 0.0,\n",
       " 'fm': 0.0,\n",
       " 'p': 5,\n",
       " 'n': 10,\n",
       " 'tn': 2.0,\n",
       " 'tp': 0.0}"
      ]
     },
     "execution_count": 36,
     "metadata": {},
     "output_type": "execute_result"
    }
   ],
   "source": [
    "fold.calculate_scores()"
   ]
  },
  {
   "cell_type": "code",
   "execution_count": null,
   "metadata": {},
   "outputs": [],
   "source": []
  }
 ],
 "metadata": {
  "kernelspec": {
   "display_name": "mlscorecheck",
   "language": "python",
   "name": "python3"
  },
  "language_info": {
   "codemirror_mode": {
    "name": "ipython",
    "version": 3
   },
   "file_extension": ".py",
   "mimetype": "text/x-python",
   "name": "python",
   "nbconvert_exporter": "python",
   "pygments_lexer": "ipython3",
   "version": "3.10.0"
  },
  "orig_nbformat": 4
 },
 "nbformat": 4,
 "nbformat_minor": 2
}
