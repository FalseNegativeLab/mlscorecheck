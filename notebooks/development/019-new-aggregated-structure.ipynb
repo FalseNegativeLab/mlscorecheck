{
 "cells": [
  {
   "cell_type": "code",
   "execution_count": 1,
   "metadata": {},
   "outputs": [],
   "source": [
    "from mlscorecheck.aggregated import (Fold, Dataset, Experiment)\n",
    "from mlscorecheck.aggregated import solve"
   ]
  },
  {
   "cell_type": "code",
   "execution_count": 2,
   "metadata": {},
   "outputs": [
    {
     "name": "stderr",
     "output_type": "stream",
     "text": [
      "2023-08-24 00:26:13,134:INFO:querying p and n from looking up the dataset\n",
      "2023-08-24 00:26:13,137:INFO:creating a folding based on the specification\n",
      "2023-08-24 00:26:13,138:INFO:querying p and n from looking up the dataset\n",
      "2023-08-24 00:26:13,139:INFO:creating a folding based on the specification\n"
     ]
    }
   ],
   "source": [
    "experiment = Experiment(datasets=[{'name': 'common_datasets.ADA', 'aggregation': 'mor'},\n",
    "                                    {'name': 'common_datasets.ecoli1', 'n_folds': 5, 'n_repeats': 3, 'aggregation': 'mor'}],\n",
    "                        aggregation='mor')"
   ]
  },
  {
   "cell_type": "code",
   "execution_count": 3,
   "metadata": {},
   "outputs": [
    {
     "data": {
      "text/plain": [
       "<mlscorecheck.aggregated._experiment.Experiment at 0x7f6a07331450>"
      ]
     },
     "execution_count": 3,
     "metadata": {},
     "output_type": "execute_result"
    }
   ],
   "source": [
    "experiment.sample()"
   ]
  },
  {
   "cell_type": "code",
   "execution_count": 4,
   "metadata": {},
   "outputs": [],
   "source": [
    "scores = experiment.calculate_scores()"
   ]
  },
  {
   "cell_type": "code",
   "execution_count": 5,
   "metadata": {},
   "outputs": [
    {
     "data": {
      "text/plain": [
       "{'acc': 0.39809258964824945,\n",
       " 'sens': 0.7193808713961776,\n",
       " 'spec': 0.2903391117470656,\n",
       " 'bacc': 0.5048599915716216}"
      ]
     },
     "execution_count": 5,
     "metadata": {},
     "output_type": "execute_result"
    }
   ],
   "source": [
    "scores"
   ]
  },
  {
   "cell_type": "code",
   "execution_count": 6,
   "metadata": {},
   "outputs": [
    {
     "name": "stdout",
     "output_type": "stream",
     "text": [
      "{'acc': 0.39809258964824945, 'sens': 0.7193808713961776, 'spec': 0.2903391117470656, 'bacc': 0.5048599915716216}\n",
      "{'acc': 0.0001, 'sens': 0.0001, 'spec': 0.0001, 'bacc': 0.0001}\n",
      "{'tp': 1*tp_ADA_0_0 + 1*tp_ecoli1_0_0 + 1*tp_ecoli1_0_1 + 1*tp_ecoli1_0_2 + 1*tp_ecoli1_0_3 + 1*tp_ecoli1_0_4 + 1*tp_ecoli1_1_0 + 1*tp_ecoli1_1_1 + 1*tp_ecoli1_1_2 + 1*tp_ecoli1_1_3 + 1*tp_ecoli1_1_4 + 1*tp_ecoli1_2_0 + 1*tp_ecoli1_2_1 + 1*tp_ecoli1_2_2 + 1*tp_ecoli1_2_3 + 1*tp_ecoli1_2_4 + 0, 'tn': 1*tn_ADA_0_0 + 1*tn_ecoli1_0_0 + 1*tn_ecoli1_0_1 + 1*tn_ecoli1_0_2 + 1*tn_ecoli1_0_3 + 1*tn_ecoli1_0_4 + 1*tn_ecoli1_1_0 + 1*tn_ecoli1_1_1 + 1*tn_ecoli1_1_2 + 1*tn_ecoli1_1_3 + 1*tn_ecoli1_1_4 + 1*tn_ecoli1_2_0 + 1*tn_ecoli1_2_1 + 1*tn_ecoli1_2_2 + 1*tn_ecoli1_2_3 + 1*tn_ecoli1_2_4 + 0, 'p': 1260, 'n': 3895, 'acc': 0.00012056908608632747*tn_ADA_0_0 + 0.0004901960784313725*tn_ecoli1_0_0 + 0.0004975124378109452*tn_ecoli1_0_1 + 0.0004975124378109452*tn_ecoli1_0_2 + 0.0004975124378109452*tn_ecoli1_0_3 + 0.0004975124378109452*tn_ecoli1_0_4 + 0.0004901960784313725*tn_ecoli1_1_0 + 0.0004975124378109452*tn_ecoli1_1_1 + 0.0004975124378109452*tn_ecoli1_1_2 + 0.0004975124378109452*tn_ecoli1_1_3 + 0.0004975124378109452*tn_ecoli1_1_4 + 0.0004901960784313725*tn_ecoli1_2_0 + 0.0004975124378109452*tn_ecoli1_2_1 + 0.0004975124378109452*tn_ecoli1_2_2 + 0.0004975124378109452*tn_ecoli1_2_3 + 0.0004975124378109452*tn_ecoli1_2_4 + 0.00012056908608632747*tp_ADA_0_0 + 0.0004901960784313725*tp_ecoli1_0_0 + 0.0004975124378109452*tp_ecoli1_0_1 + 0.0004975124378109452*tp_ecoli1_0_2 + 0.0004975124378109452*tp_ecoli1_0_3 + 0.0004975124378109452*tp_ecoli1_0_4 + 0.0004901960784313725*tp_ecoli1_1_0 + 0.0004975124378109452*tp_ecoli1_1_1 + 0.0004975124378109452*tp_ecoli1_1_2 + 0.0004975124378109452*tp_ecoli1_1_3 + 0.0004975124378109452*tp_ecoli1_1_4 + 0.0004901960784313725*tp_ecoli1_2_0 + 0.0004975124378109452*tp_ecoli1_2_1 + 0.0004975124378109452*tp_ecoli1_2_2 + 0.0004975124378109452*tp_ecoli1_2_3 + 0.0004975124378109452*tp_ecoli1_2_4 + 0.0, 'sens': 0.00048590864917395527*tp_ADA_0_0 + 0.0020833333333333333*tp_ecoli1_0_0 + 0.0022222222222222222*tp_ecoli1_0_1 + 0.0022222222222222222*tp_ecoli1_0_2 + 0.0022222222222222222*tp_ecoli1_0_3 + 0.0020833333333333333*tp_ecoli1_0_4 + 0.0020833333333333333*tp_ecoli1_1_0 + 0.0022222222222222222*tp_ecoli1_1_1 + 0.0022222222222222222*tp_ecoli1_1_2 + 0.0022222222222222222*tp_ecoli1_1_3 + 0.0020833333333333333*tp_ecoli1_1_4 + 0.0020833333333333333*tp_ecoli1_2_0 + 0.0022222222222222222*tp_ecoli1_2_1 + 0.0022222222222222222*tp_ecoli1_2_2 + 0.0022222222222222222*tp_ecoli1_2_3 + 0.0020833333333333333*tp_ecoli1_2_4 + 0.0, 'spec': 0.00016035920461834508*tn_ADA_0_0 + 0.000641025641025641*tn_ecoli1_0_0 + 0.000641025641025641*tn_ecoli1_0_1 + 0.000641025641025641*tn_ecoli1_0_2 + 0.000641025641025641*tn_ecoli1_0_3 + 0.00065359477124183*tn_ecoli1_0_4 + 0.000641025641025641*tn_ecoli1_1_0 + 0.000641025641025641*tn_ecoli1_1_1 + 0.000641025641025641*tn_ecoli1_1_2 + 0.000641025641025641*tn_ecoli1_1_3 + 0.00065359477124183*tn_ecoli1_1_4 + 0.000641025641025641*tn_ecoli1_2_0 + 0.000641025641025641*tn_ecoli1_2_1 + 0.000641025641025641*tn_ecoli1_2_2 + 0.000641025641025641*tn_ecoli1_2_3 + 0.00065359477124183*tn_ecoli1_2_4 + 0.0, 'bacc': 8.017960230917254e-05*tn_ADA_0_0 + 0.0003205128205128205*tn_ecoli1_0_0 + 0.0003205128205128205*tn_ecoli1_0_1 + 0.0003205128205128205*tn_ecoli1_0_2 + 0.0003205128205128205*tn_ecoli1_0_3 + 0.000326797385620915*tn_ecoli1_0_4 + 0.0003205128205128205*tn_ecoli1_1_0 + 0.0003205128205128205*tn_ecoli1_1_1 + 0.0003205128205128205*tn_ecoli1_1_2 + 0.0003205128205128205*tn_ecoli1_1_3 + 0.000326797385620915*tn_ecoli1_1_4 + 0.0003205128205128205*tn_ecoli1_2_0 + 0.0003205128205128205*tn_ecoli1_2_1 + 0.0003205128205128205*tn_ecoli1_2_2 + 0.0003205128205128205*tn_ecoli1_2_3 + 0.000326797385620915*tn_ecoli1_2_4 + 0.00024295432458697764*tp_ADA_0_0 + 0.0010416666666666667*tp_ecoli1_0_0 + 0.0011111111111111111*tp_ecoli1_0_1 + 0.0011111111111111111*tp_ecoli1_0_2 + 0.0011111111111111111*tp_ecoli1_0_3 + 0.0010416666666666667*tp_ecoli1_0_4 + 0.0010416666666666667*tp_ecoli1_1_0 + 0.0011111111111111111*tp_ecoli1_1_1 + 0.0011111111111111111*tp_ecoli1_1_2 + 0.0011111111111111111*tp_ecoli1_1_3 + 0.0010416666666666667*tp_ecoli1_1_4 + 0.0010416666666666667*tp_ecoli1_2_0 + 0.0011111111111111111*tp_ecoli1_2_1 + 0.0011111111111111111*tp_ecoli1_2_2 + 0.0011111111111111111*tp_ecoli1_2_3 + 0.0010416666666666667*tp_ecoli1_2_4 + 0.0}\n",
      "0.39809258964824945 0.0001 0.00012056908608632747*tn_ADA_0_0 + 0.0004901960784313725*tn_ecoli1_0_0 + 0.0004975124378109452*tn_ecoli1_0_1 + 0.0004975124378109452*tn_ecoli1_0_2 + 0.0004975124378109452*tn_ecoli1_0_3 + 0.0004975124378109452*tn_ecoli1_0_4 + 0.0004901960784313725*tn_ecoli1_1_0 + 0.0004975124378109452*tn_ecoli1_1_1 + 0.0004975124378109452*tn_ecoli1_1_2 + 0.0004975124378109452*tn_ecoli1_1_3 + 0.0004975124378109452*tn_ecoli1_1_4 + 0.0004901960784313725*tn_ecoli1_2_0 + 0.0004975124378109452*tn_ecoli1_2_1 + 0.0004975124378109452*tn_ecoli1_2_2 + 0.0004975124378109452*tn_ecoli1_2_3 + 0.0004975124378109452*tn_ecoli1_2_4 + 0.00012056908608632747*tp_ADA_0_0 + 0.0004901960784313725*tp_ecoli1_0_0 + 0.0004975124378109452*tp_ecoli1_0_1 + 0.0004975124378109452*tp_ecoli1_0_2 + 0.0004975124378109452*tp_ecoli1_0_3 + 0.0004975124378109452*tp_ecoli1_0_4 + 0.0004901960784313725*tp_ecoli1_1_0 + 0.0004975124378109452*tp_ecoli1_1_1 + 0.0004975124378109452*tp_ecoli1_1_2 + 0.0004975124378109452*tp_ecoli1_1_3 + 0.0004975124378109452*tp_ecoli1_1_4 + 0.0004901960784313725*tp_ecoli1_2_0 + 0.0004975124378109452*tp_ecoli1_2_1 + 0.0004975124378109452*tp_ecoli1_2_2 + 0.0004975124378109452*tp_ecoli1_2_3 + 0.0004975124378109452*tp_ecoli1_2_4\n",
      "0.7193808713961776 0.0001 0.00048590864917395527*tp_ADA_0_0 + 0.0020833333333333333*tp_ecoli1_0_0 + 0.0022222222222222222*tp_ecoli1_0_1 + 0.0022222222222222222*tp_ecoli1_0_2 + 0.0022222222222222222*tp_ecoli1_0_3 + 0.0020833333333333333*tp_ecoli1_0_4 + 0.0020833333333333333*tp_ecoli1_1_0 + 0.0022222222222222222*tp_ecoli1_1_1 + 0.0022222222222222222*tp_ecoli1_1_2 + 0.0022222222222222222*tp_ecoli1_1_3 + 0.0020833333333333333*tp_ecoli1_1_4 + 0.0020833333333333333*tp_ecoli1_2_0 + 0.0022222222222222222*tp_ecoli1_2_1 + 0.0022222222222222222*tp_ecoli1_2_2 + 0.0022222222222222222*tp_ecoli1_2_3 + 0.0020833333333333333*tp_ecoli1_2_4\n",
      "0.2903391117470656 0.0001 0.00016035920461834508*tn_ADA_0_0 + 0.000641025641025641*tn_ecoli1_0_0 + 0.000641025641025641*tn_ecoli1_0_1 + 0.000641025641025641*tn_ecoli1_0_2 + 0.000641025641025641*tn_ecoli1_0_3 + 0.00065359477124183*tn_ecoli1_0_4 + 0.000641025641025641*tn_ecoli1_1_0 + 0.000641025641025641*tn_ecoli1_1_1 + 0.000641025641025641*tn_ecoli1_1_2 + 0.000641025641025641*tn_ecoli1_1_3 + 0.00065359477124183*tn_ecoli1_1_4 + 0.000641025641025641*tn_ecoli1_2_0 + 0.000641025641025641*tn_ecoli1_2_1 + 0.000641025641025641*tn_ecoli1_2_2 + 0.000641025641025641*tn_ecoli1_2_3 + 0.00065359477124183*tn_ecoli1_2_4\n",
      "0.5048599915716216 0.0001 8.017960230917254e-05*tn_ADA_0_0 + 0.0003205128205128205*tn_ecoli1_0_0 + 0.0003205128205128205*tn_ecoli1_0_1 + 0.0003205128205128205*tn_ecoli1_0_2 + 0.0003205128205128205*tn_ecoli1_0_3 + 0.000326797385620915*tn_ecoli1_0_4 + 0.0003205128205128205*tn_ecoli1_1_0 + 0.0003205128205128205*tn_ecoli1_1_1 + 0.0003205128205128205*tn_ecoli1_1_2 + 0.0003205128205128205*tn_ecoli1_1_3 + 0.000326797385620915*tn_ecoli1_1_4 + 0.0003205128205128205*tn_ecoli1_2_0 + 0.0003205128205128205*tn_ecoli1_2_1 + 0.0003205128205128205*tn_ecoli1_2_2 + 0.0003205128205128205*tn_ecoli1_2_3 + 0.000326797385620915*tn_ecoli1_2_4 + 0.00024295432458697764*tp_ADA_0_0 + 0.0010416666666666667*tp_ecoli1_0_0 + 0.0011111111111111111*tp_ecoli1_0_1 + 0.0011111111111111111*tp_ecoli1_0_2 + 0.0011111111111111111*tp_ecoli1_0_3 + 0.0010416666666666667*tp_ecoli1_0_4 + 0.0010416666666666667*tp_ecoli1_1_0 + 0.0011111111111111111*tp_ecoli1_1_1 + 0.0011111111111111111*tp_ecoli1_1_2 + 0.0011111111111111111*tp_ecoli1_1_3 + 0.0010416666666666667*tp_ecoli1_1_4 + 0.0010416666666666667*tp_ecoli1_2_0 + 0.0011111111111111111*tp_ecoli1_2_1 + 0.0011111111111111111*tp_ecoli1_2_2 + 0.0011111111111111111*tp_ecoli1_2_3 + 0.0010416666666666667*tp_ecoli1_2_4\n",
      "Welcome to the CBC MILP Solver \n",
      "Version: 2.10.3 \n",
      "Build Date: Dec 15 2019 \n",
      "\n",
      "command line - /home/gykovacs/anaconda3/envs/mlscorecheck/lib/python3.10/site-packages/pulp/solverdir/cbc/linux/64/cbc /tmp/c597a0955b9a491e84afce4962709891-pulp.mps timeMode elapsed branch printingOptions all solution /tmp/c597a0955b9a491e84afce4962709891-pulp.sol (default strategy 1)\n",
      "At line 2 NAME          MODEL\n",
      "At line 3 ROWS\n",
      "At line 13 COLUMNS\n",
      "At line 286 RHS\n",
      "At line 295 BOUNDS\n",
      "At line 328 ENDATA\n",
      "Problem MODEL has 8 rows, 32 columns and 192 elements\n",
      "Coin0008I MODEL read with 0 errors\n",
      "Option for timeMode changed from cpu to elapsed\n",
      "Continuous objective value is 917.615 - 0.00 seconds\n",
      "Cgl0004I processed model has 4 rows, 8 columns (8 integer (0 of which binary)) and 24 elements\n",
      "Cutoff increment increased from 1e-05 to 0.9999\n",
      "Cbc0012I Integer solution of 922 found by DiveCoefficient after 0 iterations and 0 nodes (0.01 seconds)\n",
      "Cbc0038I Full problem 4 rows 8 columns, reduced to 3 rows 2 columns\n",
      "Cbc0006I The LP relaxation is infeasible or too expensive\n",
      "Cbc0031I 2 added rows had average density of 3.5\n",
      "Cbc0013I At root node, 2 cuts changed objective from 917.65599 to 919 in 3 passes\n",
      "Cbc0014I Cut generator 0 (Probing) - 0 row cuts average 0.0 elements, 7 column cuts (7 active)  in 0.000 seconds - new frequency is 1\n",
      "Cbc0014I Cut generator 1 (Gomory) - 6 row cuts average 3.7 elements, 0 column cuts (0 active)  in 0.000 seconds - new frequency is 1\n",
      "Cbc0014I Cut generator 2 (Knapsack) - 0 row cuts average 0.0 elements, 0 column cuts (0 active)  in 0.000 seconds - new frequency is -100\n",
      "Cbc0014I Cut generator 3 (Clique) - 0 row cuts average 0.0 elements, 0 column cuts (0 active)  in 0.000 seconds - new frequency is -100\n",
      "Cbc0014I Cut generator 4 (MixedIntegerRounding2) - 0 row cuts average 0.0 elements, 0 column cuts (0 active)  in 0.000 seconds - new frequency is -100\n",
      "Cbc0014I Cut generator 5 (FlowCover) - 0 row cuts average 0.0 elements, 0 column cuts (0 active)  in 0.000 seconds - new frequency is -100\n",
      "Cbc0014I Cut generator 6 (TwoMirCuts) - 8 row cuts average 3.8 elements, 0 column cuts (0 active)  in 0.000 seconds - new frequency is -100\n",
      "Cbc0001I Search completed - best objective 922, took 9 iterations and 0 nodes (0.01 seconds)\n",
      "Cbc0035I Maximum depth 0, 0 variables fixed on reduced cost\n",
      "Cuts at root node changed objective from 917.656 to 919\n",
      "Probing was tried 3 times and created 7 cuts of which 0 were active after adding rounds of cuts (0.000 seconds)\n",
      "Gomory was tried 2 times and created 6 cuts of which 0 were active after adding rounds of cuts (0.000 seconds)\n",
      "Knapsack was tried 2 times and created 0 cuts of which 0 were active after adding rounds of cuts (0.000 seconds)\n",
      "Clique was tried 2 times and created 0 cuts of which 0 were active after adding rounds of cuts (0.000 seconds)\n",
      "MixedIntegerRounding2 was tried 2 times and created 0 cuts of which 0 were active after adding rounds of cuts (0.000 seconds)\n",
      "FlowCover was tried 2 times and created 0 cuts of which 0 were active after adding rounds of cuts (0.000 seconds)\n",
      "TwoMirCuts was tried 2 times and created 8 cuts of which 0 were active after adding rounds of cuts (0.000 seconds)\n",
      "ZeroHalf was tried 1 times and created 0 cuts of which 0 were active after adding rounds of cuts (0.000 seconds)\n",
      "\n",
      "Result - Optimal solution found\n",
      "\n",
      "Objective value:                922.00000000\n",
      "Enumerated nodes:               0\n",
      "Total iterations:               9\n",
      "Time (CPU seconds):             0.00\n",
      "Time (Wallclock seconds):       0.01\n",
      "\n",
      "Option for printingOptions changed from normal to all\n",
      "Total time (CPU seconds):       0.00   (Wallclock seconds):       0.01\n",
      "\n"
     ]
    }
   ],
   "source": [
    "res = solve(experiment, scores, {'acc': 1e-4, 'sens': 1e-4, 'spec': 1e-4, 'bacc': 1e-4})"
   ]
  },
  {
   "cell_type": "code",
   "execution_count": 7,
   "metadata": {},
   "outputs": [],
   "source": [
    "experiment2 = Experiment(**experiment.to_dict(raw_problem=True))"
   ]
  },
  {
   "cell_type": "code",
   "execution_count": 8,
   "metadata": {},
   "outputs": [
    {
     "data": {
      "text/plain": [
       "<mlscorecheck.aggregated._experiment.Experiment at 0x7f6a07330e20>"
      ]
     },
     "execution_count": 8,
     "metadata": {},
     "output_type": "execute_result"
    }
   ],
   "source": [
    "experiment2.populate_with_solution(res)"
   ]
  },
  {
   "cell_type": "code",
   "execution_count": 9,
   "metadata": {},
   "outputs": [
    {
     "data": {
      "text/plain": [
       "{'acc': 0.39800535613256993,\n",
       " 'sens': 0.7194298671849693,\n",
       " 'spec': 0.2903846153846154,\n",
       " 'bacc': 0.5049072412847924}"
      ]
     },
     "execution_count": 9,
     "metadata": {},
     "output_type": "execute_result"
    }
   ],
   "source": [
    "experiment2.calculate_scores()"
   ]
  },
  {
   "cell_type": "code",
   "execution_count": 10,
   "metadata": {},
   "outputs": [
    {
     "data": {
      "text/plain": [
       "{'figures': {'tp': 922.0, 'tn': 453.0, 'p': 1260, 'n': 3895},\n",
       " 'scores': {'acc': 0.39800535613256993,\n",
       "  'sens': 0.7194298671849693,\n",
       "  'spec': 0.2903846153846154,\n",
       "  'bacc': 0.5049072412847924},\n",
       " 'downstream_bounds': True,\n",
       " 'datasets': [{'figures': {'tp': 758.0, 'tn': 0.0, 'p': 1029, 'n': 3118},\n",
       "   'scores': {'acc': 0.18278273450687244,\n",
       "    'sens': 0.7366375121477162,\n",
       "    'spec': 0.0,\n",
       "    'bacc': 0.3683187560738581},\n",
       "   'score_bounds': None,\n",
       "   'check_score_bounds': True,\n",
       "   'tptn_bounds': None,\n",
       "   'check_tptn_bounds': True,\n",
       "   'downstream_bounds': True,\n",
       "   'folds': [{'figures': {'tn': 0.0, 'tp': 758.0},\n",
       "     'scores': {'acc': 0.18278273450687244,\n",
       "      'sens': 0.7366375121477162,\n",
       "      'spec': 0.0,\n",
       "      'npv': 0.0,\n",
       "      'ppv': 0.195562435500516,\n",
       "      'bacc': 0.3683187560738581,\n",
       "      'f1p': 0.309072375127421,\n",
       "      'fm': 0.379550557839991,\n",
       "      'p': 1029,\n",
       "      'n': 3118,\n",
       "      'tn': 0.0,\n",
       "      'tp': 758.0},\n",
       "     'score_bounds': None,\n",
       "     'check_score_bounds': True,\n",
       "     'tptn_bounds': None,\n",
       "     'check_tptn_bounds': True}]},\n",
       "  {'figures': {'tp': 164.0, 'tn': 453.0, 'p': 231, 'n': 777},\n",
       "   'scores': {'acc': 0.6132279777582674,\n",
       "    'sens': 0.7022222222222222,\n",
       "    'spec': 0.5807692307692308,\n",
       "    'bacc': 0.6414957264957265},\n",
       "   'score_bounds': None,\n",
       "   'check_score_bounds': True,\n",
       "   'tptn_bounds': None,\n",
       "   'check_tptn_bounds': True,\n",
       "   'downstream_bounds': True,\n",
       "   'folds': [{'figures': {'tn': 0.0, 'tp': 16.0},\n",
       "     'scores': {'acc': 0.23529411764705882,\n",
       "      'sens': 1.0,\n",
       "      'spec': 0.0,\n",
       "      'npv': None,\n",
       "      'ppv': 0.23529411764705882,\n",
       "      'bacc': 0.5,\n",
       "      'f1p': 0.38095238095238093,\n",
       "      'fm': 0.48507125007266594,\n",
       "      'p': 16,\n",
       "      'n': 52,\n",
       "      'tn': 0.0,\n",
       "      'tp': 16.0},\n",
       "     'score_bounds': None,\n",
       "     'check_score_bounds': True,\n",
       "     'tptn_bounds': None,\n",
       "     'check_tptn_bounds': True},\n",
       "    {'figures': {'tn': 52.0, 'tp': 0.0},\n",
       "     'scores': {'acc': 0.7761194029850746,\n",
       "      'sens': 0.0,\n",
       "      'spec': 1.0,\n",
       "      'npv': 0.7761194029850746,\n",
       "      'ppv': None,\n",
       "      'bacc': 0.5,\n",
       "      'f1p': 0.0,\n",
       "      'fm': None,\n",
       "      'p': 15,\n",
       "      'n': 52,\n",
       "      'tn': 52.0,\n",
       "      'tp': 0.0},\n",
       "     'score_bounds': None,\n",
       "     'check_score_bounds': True,\n",
       "     'tptn_bounds': None,\n",
       "     'check_tptn_bounds': True},\n",
       "    {'figures': {'tn': 52.0, 'tp': 8.0},\n",
       "     'scores': {'acc': 0.8955223880597015,\n",
       "      'sens': 0.5333333333333333,\n",
       "      'spec': 1.0,\n",
       "      'npv': 0.8813559322033898,\n",
       "      'ppv': 1.0,\n",
       "      'bacc': 0.7666666666666666,\n",
       "      'f1p': 0.6956521739130435,\n",
       "      'fm': 0.7302967433402214,\n",
       "      'p': 15,\n",
       "      'n': 52,\n",
       "      'tn': 52.0,\n",
       "      'tp': 8.0},\n",
       "     'score_bounds': None,\n",
       "     'check_score_bounds': True,\n",
       "     'tptn_bounds': None,\n",
       "     'check_tptn_bounds': True},\n",
       "    {'figures': {'tn': 52.0, 'tp': 15.0},\n",
       "     'scores': {'acc': 1.0,\n",
       "      'sens': 1.0,\n",
       "      'spec': 1.0,\n",
       "      'npv': 1.0,\n",
       "      'ppv': 1.0,\n",
       "      'bacc': 1.0,\n",
       "      'f1p': 1.0,\n",
       "      'fm': 1.0,\n",
       "      'p': 15,\n",
       "      'n': 52,\n",
       "      'tn': 52.0,\n",
       "      'tp': 15.0},\n",
       "     'score_bounds': None,\n",
       "     'check_score_bounds': True,\n",
       "     'tptn_bounds': None,\n",
       "     'check_tptn_bounds': True},\n",
       "    {'figures': {'tn': 0.0, 'tp': 16.0},\n",
       "     'scores': {'acc': 0.23880597014925373,\n",
       "      'sens': 1.0,\n",
       "      'spec': 0.0,\n",
       "      'npv': None,\n",
       "      'ppv': 0.23880597014925373,\n",
       "      'bacc': 0.5,\n",
       "      'f1p': 0.3855421686746988,\n",
       "      'fm': 0.4886777774252209,\n",
       "      'p': 16,\n",
       "      'n': 51,\n",
       "      'tn': 0.0,\n",
       "      'tp': 16.0},\n",
       "     'score_bounds': None,\n",
       "     'check_score_bounds': True,\n",
       "     'tptn_bounds': None,\n",
       "     'check_tptn_bounds': True},\n",
       "    {'figures': {'tn': 0.0, 'tp': 16.0},\n",
       "     'scores': {'acc': 0.23529411764705882,\n",
       "      'sens': 1.0,\n",
       "      'spec': 0.0,\n",
       "      'npv': None,\n",
       "      'ppv': 0.23529411764705882,\n",
       "      'bacc': 0.5,\n",
       "      'f1p': 0.38095238095238093,\n",
       "      'fm': 0.48507125007266594,\n",
       "      'p': 16,\n",
       "      'n': 52,\n",
       "      'tn': 0.0,\n",
       "      'tp': 16.0},\n",
       "     'score_bounds': None,\n",
       "     'check_score_bounds': True,\n",
       "     'tptn_bounds': None,\n",
       "     'check_tptn_bounds': True},\n",
       "    {'figures': {'tn': 37.0, 'tp': 15.0},\n",
       "     'scores': {'acc': 0.7761194029850746,\n",
       "      'sens': 1.0,\n",
       "      'spec': 0.7115384615384616,\n",
       "      'npv': 1.0,\n",
       "      'ppv': 0.5,\n",
       "      'bacc': 0.8557692307692308,\n",
       "      'f1p': 0.6666666666666666,\n",
       "      'fm': 0.7071067811865475,\n",
       "      'p': 15,\n",
       "      'n': 52,\n",
       "      'tn': 37.0,\n",
       "      'tp': 15.0},\n",
       "     'score_bounds': None,\n",
       "     'check_score_bounds': True,\n",
       "     'tptn_bounds': None,\n",
       "     'check_tptn_bounds': True},\n",
       "    {'figures': {'tn': 52.0, 'tp': 15.0},\n",
       "     'scores': {'acc': 1.0,\n",
       "      'sens': 1.0,\n",
       "      'spec': 1.0,\n",
       "      'npv': 1.0,\n",
       "      'ppv': 1.0,\n",
       "      'bacc': 1.0,\n",
       "      'f1p': 1.0,\n",
       "      'fm': 1.0,\n",
       "      'p': 15,\n",
       "      'n': 52,\n",
       "      'tn': 52.0,\n",
       "      'tp': 15.0},\n",
       "     'score_bounds': None,\n",
       "     'check_score_bounds': True,\n",
       "     'tptn_bounds': None,\n",
       "     'check_tptn_bounds': True},\n",
       "    {'figures': {'tn': 52.0, 'tp': 15.0},\n",
       "     'scores': {'acc': 1.0,\n",
       "      'sens': 1.0,\n",
       "      'spec': 1.0,\n",
       "      'npv': 1.0,\n",
       "      'ppv': 1.0,\n",
       "      'bacc': 1.0,\n",
       "      'f1p': 1.0,\n",
       "      'fm': 1.0,\n",
       "      'p': 15,\n",
       "      'n': 52,\n",
       "      'tn': 52.0,\n",
       "      'tp': 15.0},\n",
       "     'score_bounds': None,\n",
       "     'check_score_bounds': True,\n",
       "     'tptn_bounds': None,\n",
       "     'check_tptn_bounds': True},\n",
       "    {'figures': {'tn': 0.0, 'tp': 16.0},\n",
       "     'scores': {'acc': 0.23880597014925373,\n",
       "      'sens': 1.0,\n",
       "      'spec': 0.0,\n",
       "      'npv': None,\n",
       "      'ppv': 0.23880597014925373,\n",
       "      'bacc': 0.5,\n",
       "      'f1p': 0.3855421686746988,\n",
       "      'fm': 0.4886777774252209,\n",
       "      'p': 16,\n",
       "      'n': 51,\n",
       "      'tn': 0.0,\n",
       "      'tp': 16.0},\n",
       "     'score_bounds': None,\n",
       "     'check_score_bounds': True,\n",
       "     'tptn_bounds': None,\n",
       "     'check_tptn_bounds': True},\n",
       "    {'figures': {'tn': 0.0, 'tp': 16.0},\n",
       "     'scores': {'acc': 0.23529411764705882,\n",
       "      'sens': 1.0,\n",
       "      'spec': 0.0,\n",
       "      'npv': None,\n",
       "      'ppv': 0.23529411764705882,\n",
       "      'bacc': 0.5,\n",
       "      'f1p': 0.38095238095238093,\n",
       "      'fm': 0.48507125007266594,\n",
       "      'p': 16,\n",
       "      'n': 52,\n",
       "      'tn': 0.0,\n",
       "      'tp': 16.0},\n",
       "     'score_bounds': None,\n",
       "     'check_score_bounds': True,\n",
       "     'tptn_bounds': None,\n",
       "     'check_tptn_bounds': True},\n",
       "    {'figures': {'tn': 52.0, 'tp': 0.0},\n",
       "     'scores': {'acc': 0.7761194029850746,\n",
       "      'sens': 0.0,\n",
       "      'spec': 1.0,\n",
       "      'npv': 0.7761194029850746,\n",
       "      'ppv': None,\n",
       "      'bacc': 0.5,\n",
       "      'f1p': 0.0,\n",
       "      'fm': None,\n",
       "      'p': 15,\n",
       "      'n': 52,\n",
       "      'tn': 52.0,\n",
       "      'tp': 0.0},\n",
       "     'score_bounds': None,\n",
       "     'check_score_bounds': True,\n",
       "     'tptn_bounds': None,\n",
       "     'check_tptn_bounds': True},\n",
       "    {'figures': {'tn': 52.0, 'tp': 0.0},\n",
       "     'scores': {'acc': 0.7761194029850746,\n",
       "      'sens': 0.0,\n",
       "      'spec': 1.0,\n",
       "      'npv': 0.7761194029850746,\n",
       "      'ppv': None,\n",
       "      'bacc': 0.5,\n",
       "      'f1p': 0.0,\n",
       "      'fm': None,\n",
       "      'p': 15,\n",
       "      'n': 52,\n",
       "      'tn': 52.0,\n",
       "      'tp': 0.0},\n",
       "     'score_bounds': None,\n",
       "     'check_score_bounds': True,\n",
       "     'tptn_bounds': None,\n",
       "     'check_tptn_bounds': True},\n",
       "    {'figures': {'tn': 52.0, 'tp': 0.0},\n",
       "     'scores': {'acc': 0.7761194029850746,\n",
       "      'sens': 0.0,\n",
       "      'spec': 1.0,\n",
       "      'npv': 0.7761194029850746,\n",
       "      'ppv': None,\n",
       "      'bacc': 0.5,\n",
       "      'f1p': 0.0,\n",
       "      'fm': None,\n",
       "      'p': 15,\n",
       "      'n': 52,\n",
       "      'tn': 52.0,\n",
       "      'tp': 0.0},\n",
       "     'score_bounds': None,\n",
       "     'check_score_bounds': True,\n",
       "     'tptn_bounds': None,\n",
       "     'check_tptn_bounds': True},\n",
       "    {'figures': {'tn': 0.0, 'tp': 16.0},\n",
       "     'scores': {'acc': 0.23880597014925373,\n",
       "      'sens': 1.0,\n",
       "      'spec': 0.0,\n",
       "      'npv': None,\n",
       "      'ppv': 0.23880597014925373,\n",
       "      'bacc': 0.5,\n",
       "      'f1p': 0.3855421686746988,\n",
       "      'fm': 0.4886777774252209,\n",
       "      'p': 16,\n",
       "      'n': 51,\n",
       "      'tn': 0.0,\n",
       "      'tp': 16.0},\n",
       "     'score_bounds': None,\n",
       "     'check_score_bounds': True,\n",
       "     'tptn_bounds': None,\n",
       "     'check_tptn_bounds': True}]}]}"
      ]
     },
     "execution_count": 10,
     "metadata": {},
     "output_type": "execute_result"
    }
   ],
   "source": [
    "experiment2.check_bounds()"
   ]
  },
  {
   "cell_type": "code",
   "execution_count": null,
   "metadata": {},
   "outputs": [],
   "source": []
  },
  {
   "cell_type": "code",
   "execution_count": 11,
   "metadata": {},
   "outputs": [],
   "source": [
    "#import pulp as pl\n",
    "#lp_program = pl.LpProblem('feasibility')"
   ]
  },
  {
   "cell_type": "code",
   "execution_count": 12,
   "metadata": {},
   "outputs": [],
   "source": [
    "#tp = pl.LpVariable('tp', 0, 5, pl.LpInteger)\n",
    "#tn = pl.LpVariable('tn', 0, 10, pl.LpInteger)"
   ]
  },
  {
   "cell_type": "code",
   "execution_count": 13,
   "metadata": {},
   "outputs": [],
   "source": [
    "#lp_program += tp"
   ]
  },
  {
   "cell_type": "code",
   "execution_count": 14,
   "metadata": {},
   "outputs": [],
   "source": [
    "#lp_program"
   ]
  },
  {
   "cell_type": "code",
   "execution_count": 15,
   "metadata": {},
   "outputs": [],
   "source": [
    "#lp_program += tp <= 5"
   ]
  },
  {
   "cell_type": "code",
   "execution_count": 16,
   "metadata": {},
   "outputs": [],
   "source": [
    "#lp_program"
   ]
  },
  {
   "cell_type": "code",
   "execution_count": 17,
   "metadata": {},
   "outputs": [
    {
     "name": "stderr",
     "output_type": "stream",
     "text": [
      "2023-08-24 00:26:13,357:INFO:querying p and n from looking up the dataset\n",
      "2023-08-24 00:26:13,358:INFO:creating a folding based on the specification\n"
     ]
    }
   ],
   "source": [
    "dataset = Dataset(name='common_datasets.ADA', n_repeats=2, n_folds=3, aggregation='rom')"
   ]
  },
  {
   "cell_type": "code",
   "execution_count": 18,
   "metadata": {},
   "outputs": [
    {
     "ename": "AttributeError",
     "evalue": "'Dataset' object has no attribute 'simulate'",
     "output_type": "error",
     "traceback": [
      "\u001b[0;31m---------------------------------------------------------------------------\u001b[0m",
      "\u001b[0;31mAttributeError\u001b[0m                            Traceback (most recent call last)",
      "Cell \u001b[0;32mIn[18], line 1\u001b[0m\n\u001b[0;32m----> 1\u001b[0m dataset\u001b[39m.\u001b[39;49msimulate()\n",
      "\u001b[0;31mAttributeError\u001b[0m: 'Dataset' object has no attribute 'simulate'"
     ]
    }
   ],
   "source": [
    "dataset.simulate()"
   ]
  },
  {
   "cell_type": "code",
   "execution_count": null,
   "metadata": {},
   "outputs": [
    {
     "data": {
      "text/plain": [
       "{'acc': 0.4115022908126357,\n",
       " 'sens': 0.3542274052478134,\n",
       " 'spec': 0.4304041051956382,\n",
       " 'bacc': 0.3923157552217258}"
      ]
     },
     "execution_count": 10,
     "metadata": {},
     "output_type": "execute_result"
    }
   ],
   "source": [
    "dataset.calculate_scores()"
   ]
  },
  {
   "cell_type": "code",
   "execution_count": null,
   "metadata": {},
   "outputs": [],
   "source": [
    "dataset2 = Dataset(**dataset.to_dict())"
   ]
  },
  {
   "cell_type": "code",
   "execution_count": null,
   "metadata": {},
   "outputs": [
    {
     "data": {
      "text/plain": [
       "{'id': 'common_datasets.ADA',\n",
       " 'score_bounds': None,\n",
       " 'tptn_bounds': None,\n",
       " 'folds': [{'p': 343,\n",
       "   'n': 1040,\n",
       "   'id': 'ADA_0_0',\n",
       "   'score_bounds': None,\n",
       "   'tptn_bounds': None,\n",
       "   'evaluation': {'tp': 304.0, 'tn': 153.0},\n",
       "   'scores': {'acc': 0.3304410701373825,\n",
       "    'sens': 0.8862973760932945,\n",
       "    'spec': 0.14711538461538462,\n",
       "    'npv': 0.796875,\n",
       "    'ppv': 0.25524769101595296,\n",
       "    'bacc': 0.5167063803543396,\n",
       "    'f1p': 0.3963494132985658,\n",
       "    'fm': 0.4756315368027136,\n",
       "    'p': 343,\n",
       "    'n': 1040,\n",
       "    'tp': 304.0,\n",
       "    'tn': 153.0}},\n",
       "  {'p': 343,\n",
       "   'n': 1039,\n",
       "   'id': 'ADA_0_1',\n",
       "   'score_bounds': None,\n",
       "   'tptn_bounds': None,\n",
       "   'evaluation': {'tp': 0.0, 'tn': 679.0},\n",
       "   'scores': {'acc': 0.4913169319826339,\n",
       "    'sens': 0.0,\n",
       "    'spec': 0.6535129932627527,\n",
       "    'npv': 0.6643835616438356,\n",
       "    'ppv': 0.0,\n",
       "    'bacc': 0.32675649663137635,\n",
       "    'f1p': 0.0,\n",
       "    'fm': 0.0,\n",
       "    'p': 343,\n",
       "    'n': 1039,\n",
       "    'tp': 0.0,\n",
       "    'tn': 679.0}},\n",
       "  {'p': 343,\n",
       "   'n': 1039,\n",
       "   'id': 'ADA_0_2',\n",
       "   'score_bounds': None,\n",
       "   'tptn_bounds': None,\n",
       "   'evaluation': {'tp': 56.0, 'tn': 326.0},\n",
       "   'scores': {'acc': 0.276410998552822,\n",
       "    'sens': 0.16326530612244897,\n",
       "    'spec': 0.31376323387872956,\n",
       "    'npv': 0.531810766721044,\n",
       "    'ppv': 0.07282184655396619,\n",
       "    'bacc': 0.23851427000058928,\n",
       "    'f1p': 0.10071942446043165,\n",
       "    'fm': 0.10903797994293225,\n",
       "    'p': 343,\n",
       "    'n': 1039,\n",
       "    'tp': 56.0,\n",
       "    'tn': 326.0}},\n",
       "  {'p': 343,\n",
       "   'n': 1040,\n",
       "   'id': 'ADA_1_0',\n",
       "   'score_bounds': None,\n",
       "   'tptn_bounds': None,\n",
       "   'evaluation': {'tp': 78.0, 'tn': 399.0},\n",
       "   'scores': {'acc': 0.34490238611713664,\n",
       "    'sens': 0.22740524781341107,\n",
       "    'spec': 0.3836538461538462,\n",
       "    'npv': 0.6009036144578314,\n",
       "    'ppv': 0.10848400556328233,\n",
       "    'bacc': 0.3055295469836286,\n",
       "    'f1p': 0.14689265536723164,\n",
       "    'fm': 0.15706633047508842,\n",
       "    'p': 343,\n",
       "    'n': 1040,\n",
       "    'tp': 78.0,\n",
       "    'tn': 399.0}},\n",
       "  {'p': 343,\n",
       "   'n': 1039,\n",
       "   'id': 'ADA_1_1',\n",
       "   'score_bounds': None,\n",
       "   'tptn_bounds': None,\n",
       "   'evaluation': {'tp': 90.0, 'tn': 291.0},\n",
       "   'scores': {'acc': 0.27568740955137483,\n",
       "    'sens': 0.26239067055393583,\n",
       "    'spec': 0.28007699711260825,\n",
       "    'npv': 0.5349264705882353,\n",
       "    'ppv': 0.10739856801909307,\n",
       "    'bacc': 0.27123383383327204,\n",
       "    'f1p': 0.15241320914479256,\n",
       "    'fm': 0.16787013516126784,\n",
       "    'p': 343,\n",
       "    'n': 1039,\n",
       "    'tp': 90.0,\n",
       "    'tn': 291.0}},\n",
       "  {'p': 343,\n",
       "   'n': 1039,\n",
       "   'id': 'ADA_1_2',\n",
       "   'score_bounds': None,\n",
       "   'tptn_bounds': None,\n",
       "   'evaluation': {'tp': 201.0, 'tn': 836.0},\n",
       "   'scores': {'acc': 0.7503617945007236,\n",
       "    'sens': 0.5860058309037901,\n",
       "    'spec': 0.8046198267564967,\n",
       "    'npv': 0.8548057259713702,\n",
       "    'ppv': 0.4975247524752475,\n",
       "    'bacc': 0.6953128288301433,\n",
       "    'f1p': 0.5381526104417671,\n",
       "    'fm': 0.5399559296548746,\n",
       "    'p': 343,\n",
       "    'n': 1039,\n",
       "    'tp': 201.0,\n",
       "    'tn': 836.0}}],\n",
       " 'aggregation': 'rom',\n",
       " 'evaluation': {'tp': 729.0, 'tn': 2684.0, 'p': 2058, 'n': 6236},\n",
       " 'scores': {'acc': 0.4115022908126357,\n",
       "  'sens': 0.3542274052478134,\n",
       "  'spec': 0.4304041051956382,\n",
       "  'bacc': 0.3923157552217258}}"
      ]
     },
     "execution_count": 12,
     "metadata": {},
     "output_type": "execute_result"
    }
   ],
   "source": [
    "dataset.to_dict()"
   ]
  },
  {
   "cell_type": "code",
   "execution_count": null,
   "metadata": {},
   "outputs": [
    {
     "data": {
      "text/plain": [
       "{'acc': 0.4115022908126357,\n",
       " 'sens': 0.3542274052478134,\n",
       " 'spec': 0.4304041051956382,\n",
       " 'bacc': 0.3923157552217258}"
      ]
     },
     "execution_count": 13,
     "metadata": {},
     "output_type": "execute_result"
    }
   ],
   "source": [
    "dataset2.calculate_scores()"
   ]
  },
  {
   "cell_type": "code",
   "execution_count": null,
   "metadata": {},
   "outputs": [],
   "source": [
    "dataset2.aggregation = 'mor'"
   ]
  },
  {
   "cell_type": "code",
   "execution_count": null,
   "metadata": {},
   "outputs": [
    {
     "data": {
      "text/plain": [
       "{'acc': 0.4115200984736789,\n",
       " 'sens': 0.3542274052478134,\n",
       " 'spec': 0.43045704696330295,\n",
       " 'bacc': 0.3923422261055582}"
      ]
     },
     "execution_count": 15,
     "metadata": {},
     "output_type": "execute_result"
    }
   ],
   "source": [
    "dataset2.calculate_scores()"
   ]
  },
  {
   "cell_type": "code",
   "execution_count": null,
   "metadata": {},
   "outputs": [
    {
     "data": {
      "text/plain": [
       "{'acc': 0.4115200984736789,\n",
       " 'sens': 0.3542274052478134,\n",
       " 'spec': 0.43045704696330295,\n",
       " 'bacc': 0.3923422261055582}"
      ]
     },
     "execution_count": 16,
     "metadata": {},
     "output_type": "execute_result"
    }
   ],
   "source": [
    "dataset2.scores"
   ]
  },
  {
   "cell_type": "code",
   "execution_count": null,
   "metadata": {},
   "outputs": [],
   "source": [
    "dataset2.linear_programming"
   ]
  },
  {
   "cell_type": "code",
   "execution_count": null,
   "metadata": {},
   "outputs": [
    {
     "name": "stdout",
     "output_type": "stream",
     "text": [
      "aaa\n",
      "bbb\n",
      "{'acc': 0.4115200984736789, 'sens': 0.3542274052478134, 'spec': 0.43045704696330295, 'bacc': 0.3923422261055582}\n",
      "{'acc': 0.0001, 'sens': 0.0001, 'spec': 0.0001, 'bacc': 0.0001}\n",
      "{'tp': 1*tp_ADA_0_0 + 1*tp_ADA_0_1 + 1*tp_ADA_0_2 + 1*tp_ADA_1_0 + 1*tp_ADA_1_1 + 1*tp_ADA_1_2 + 0, 'tn': 1*tn_ADA_0_0 + 1*tn_ADA_0_1 + 1*tn_ADA_0_2 + 1*tn_ADA_1_0 + 1*tn_ADA_1_1 + 1*tn_ADA_1_2 + 0, 'p': 2058, 'n': 6236, 'acc': 0.00012056908608632747*tn_ADA_0_0 + 0.00012056908608632747*tn_ADA_0_1 + 0.00012056908608632747*tn_ADA_0_2 + 0.00012056908608632747*tn_ADA_1_0 + 0.00012056908608632747*tn_ADA_1_1 + 0.00012056908608632747*tn_ADA_1_2 + 0.00012056908608632747*tp_ADA_0_0 + 0.00012056908608632747*tp_ADA_0_1 + 0.00012056908608632747*tp_ADA_0_2 + 0.00012056908608632747*tp_ADA_1_0 + 0.00012056908608632747*tp_ADA_1_1 + 0.00012056908608632747*tp_ADA_1_2 + 0.0, 'sens': 0.00048590864917395527*tp_ADA_0_0 + 0.00048590864917395527*tp_ADA_0_1 + 0.00048590864917395527*tp_ADA_0_2 + 0.00048590864917395527*tp_ADA_1_0 + 0.00048590864917395527*tp_ADA_1_1 + 0.00048590864917395527*tp_ADA_1_2 + 0.0, 'spec': 0.00016035920461834508*tn_ADA_0_0 + 0.00016035920461834508*tn_ADA_0_1 + 0.00016035920461834508*tn_ADA_0_2 + 0.00016035920461834508*tn_ADA_1_0 + 0.00016035920461834508*tn_ADA_1_1 + 0.00016035920461834508*tn_ADA_1_2 + 0.0, 'bacc': 8.017960230917254e-05*tn_ADA_0_0 + 8.017960230917254e-05*tn_ADA_0_1 + 8.017960230917254e-05*tn_ADA_0_2 + 8.017960230917254e-05*tn_ADA_1_0 + 8.017960230917254e-05*tn_ADA_1_1 + 8.017960230917254e-05*tn_ADA_1_2 + 0.00024295432458697764*tp_ADA_0_0 + 0.00024295432458697764*tp_ADA_0_1 + 0.00024295432458697764*tp_ADA_0_2 + 0.00024295432458697764*tp_ADA_1_0 + 0.00024295432458697764*tp_ADA_1_1 + 0.00024295432458697764*tp_ADA_1_2 + 0.0}\n",
      "0.4115200984736789 0.0001 0.00012056908608632747*tn_ADA_0_0 + 0.00012056908608632747*tn_ADA_0_1 + 0.00012056908608632747*tn_ADA_0_2 + 0.00012056908608632747*tn_ADA_1_0 + 0.00012056908608632747*tn_ADA_1_1 + 0.00012056908608632747*tn_ADA_1_2 + 0.00012056908608632747*tp_ADA_0_0 + 0.00012056908608632747*tp_ADA_0_1 + 0.00012056908608632747*tp_ADA_0_2 + 0.00012056908608632747*tp_ADA_1_0 + 0.00012056908608632747*tp_ADA_1_1 + 0.00012056908608632747*tp_ADA_1_2\n",
      "0.3542274052478134 0.0001 0.00048590864917395527*tp_ADA_0_0 + 0.00048590864917395527*tp_ADA_0_1 + 0.00048590864917395527*tp_ADA_0_2 + 0.00048590864917395527*tp_ADA_1_0 + 0.00048590864917395527*tp_ADA_1_1 + 0.00048590864917395527*tp_ADA_1_2\n",
      "0.43045704696330295 0.0001 0.00016035920461834508*tn_ADA_0_0 + 0.00016035920461834508*tn_ADA_0_1 + 0.00016035920461834508*tn_ADA_0_2 + 0.00016035920461834508*tn_ADA_1_0 + 0.00016035920461834508*tn_ADA_1_1 + 0.00016035920461834508*tn_ADA_1_2\n",
      "0.3923422261055582 0.0001 8.017960230917254e-05*tn_ADA_0_0 + 8.017960230917254e-05*tn_ADA_0_1 + 8.017960230917254e-05*tn_ADA_0_2 + 8.017960230917254e-05*tn_ADA_1_0 + 8.017960230917254e-05*tn_ADA_1_1 + 8.017960230917254e-05*tn_ADA_1_2 + 0.00024295432458697764*tp_ADA_0_0 + 0.00024295432458697764*tp_ADA_0_1 + 0.00024295432458697764*tp_ADA_0_2 + 0.00024295432458697764*tp_ADA_1_0 + 0.00024295432458697764*tp_ADA_1_1 + 0.00024295432458697764*tp_ADA_1_2\n",
      "Welcome to the CBC MILP Solver \n",
      "Version: 2.10.3 \n",
      "Build Date: Dec 15 2019 \n",
      "\n",
      "command line - /home/gykovacs/anaconda3/envs/mlscorecheck/lib/python3.10/site-packages/pulp/solverdir/cbc/linux/64/cbc /tmp/09c3af514ed74e0a9d8c660235ed4813-pulp.mps timeMode elapsed branch printingOptions all solution /tmp/09c3af514ed74e0a9d8c660235ed4813-pulp.sol (default strategy 1)\n",
      "At line 2 NAME          MODEL\n",
      "At line 3 ROWS\n",
      "At line 13 COLUMNS\n",
      "At line 116 RHS\n",
      "At line 125 BOUNDS\n",
      "At line 138 ENDATA\n",
      "Problem MODEL has 8 rows, 12 columns and 72 elements\n",
      "Coin0008I MODEL read with 0 errors\n",
      "Option for timeMode changed from cpu to elapsed\n",
      "Continuous objective value is 728.794 - 0.00 seconds\n",
      "Cgl0004I processed model has 0 rows, 0 columns (0 integer (0 of which binary)) and 0 elements\n",
      "Cbc3007W No integer variables - nothing to do\n",
      "Cuts at root node changed objective from 729 to -1.79769e+308\n",
      "Probing was tried 0 times and created 0 cuts of which 0 were active after adding rounds of cuts (0.000 seconds)\n",
      "Gomory was tried 0 times and created 0 cuts of which 0 were active after adding rounds of cuts (0.000 seconds)\n",
      "Knapsack was tried 0 times and created 0 cuts of which 0 were active after adding rounds of cuts (0.000 seconds)\n",
      "Clique was tried 0 times and created 0 cuts of which 0 were active after adding rounds of cuts (0.000 seconds)\n",
      "MixedIntegerRounding2 was tried 0 times and created 0 cuts of which 0 were active after adding rounds of cuts (0.000 seconds)\n",
      "FlowCover was tried 0 times and created 0 cuts of which 0 were active after adding rounds of cuts (0.000 seconds)\n",
      "TwoMirCuts was tried 0 times and created 0 cuts of which 0 were active after adding rounds of cuts (0.000 seconds)\n",
      "ZeroHalf was tried 0 times and created 0 cuts of which 0 were active after adding rounds of cuts (0.000 seconds)\n",
      "\n",
      "Result - Optimal solution found\n",
      "\n",
      "Objective value:                729.00000000\n",
      "Enumerated nodes:               0\n",
      "Total iterations:               0\n",
      "Time (CPU seconds):             0.00\n",
      "Time (Wallclock seconds):       0.00\n",
      "\n",
      "Option for printingOptions changed from normal to all\n",
      "Total time (CPU seconds):       0.00   (Wallclock seconds):       0.00\n",
      "\n"
     ]
    }
   ],
   "source": [
    "res = solve(dataset, dataset2.scores, eps={'acc': 1e-4, 'sens': 1e-4, 'spec': 1e-4, 'bacc': 1e-4})"
   ]
  },
  {
   "cell_type": "code",
   "execution_count": null,
   "metadata": {},
   "outputs": [
    {
     "data": {
      "text/plain": [
       "<mlscorecheck.aggregated._dataset.Dataset at 0x7fb95dd3f970>"
      ]
     },
     "execution_count": 38,
     "metadata": {},
     "output_type": "execute_result"
    }
   ],
   "source": [
    "dataset2.populate_with_solution(res)"
   ]
  },
  {
   "cell_type": "code",
   "execution_count": null,
   "metadata": {},
   "outputs": [
    {
     "data": {
      "text/plain": [
       "{'acc': 0.4114809454896286,\n",
       " 'sens': 0.3542274052478134,\n",
       " 'spec': 0.43038177735001604,\n",
       " 'bacc': 0.3923045912989147}"
      ]
     },
     "execution_count": 39,
     "metadata": {},
     "output_type": "execute_result"
    }
   ],
   "source": [
    "dataset2.calculate_scores()"
   ]
  },
  {
   "cell_type": "code",
   "execution_count": null,
   "metadata": {},
   "outputs": [
    {
     "data": {
      "text/plain": [
       "{'acc': 0.4115022908126357,\n",
       " 'sens': 0.3542274052478134,\n",
       " 'spec': 0.4304041051956382,\n",
       " 'bacc': 0.3923157552217258}"
      ]
     },
     "execution_count": 40,
     "metadata": {},
     "output_type": "execute_result"
    }
   ],
   "source": [
    "dataset.calculate_scores()"
   ]
  },
  {
   "cell_type": "code",
   "execution_count": null,
   "metadata": {},
   "outputs": [
    {
     "data": {
      "text/plain": [
       "{'tp': 1*tp_ADA_0_0 + 1*tp_ADA_0_1 + 1*tp_ADA_0_2 + 1*tp_ADA_1_0 + 1*tp_ADA_1_1 + 1*tp_ADA_1_2 + 0,\n",
       " 'tn': 1*tn_ADA_0_0 + 1*tn_ADA_0_1 + 1*tn_ADA_0_2 + 1*tn_ADA_1_0 + 1*tn_ADA_1_1 + 1*tn_ADA_1_2 + 0,\n",
       " 'p': 2058,\n",
       " 'n': 6236,\n",
       " 'acc': 0.00012056908608632747*tn_ADA_0_0 + 0.00012056908608632747*tn_ADA_0_1 + 0.00012056908608632747*tn_ADA_0_2 + 0.00012056908608632747*tn_ADA_1_0 + 0.00012056908608632747*tn_ADA_1_1 + 0.00012056908608632747*tn_ADA_1_2 + 0.00012056908608632747*tp_ADA_0_0 + 0.00012056908608632747*tp_ADA_0_1 + 0.00012056908608632747*tp_ADA_0_2 + 0.00012056908608632747*tp_ADA_1_0 + 0.00012056908608632747*tp_ADA_1_1 + 0.00012056908608632747*tp_ADA_1_2 + 0.0,\n",
       " 'sens': 0.00048590864917395527*tp_ADA_0_0 + 0.00048590864917395527*tp_ADA_0_1 + 0.00048590864917395527*tp_ADA_0_2 + 0.00048590864917395527*tp_ADA_1_0 + 0.00048590864917395527*tp_ADA_1_1 + 0.00048590864917395527*tp_ADA_1_2 + 0.0,\n",
       " 'spec': 0.00016035920461834508*tn_ADA_0_0 + 0.00016035920461834508*tn_ADA_0_1 + 0.00016035920461834508*tn_ADA_0_2 + 0.00016035920461834508*tn_ADA_1_0 + 0.00016035920461834508*tn_ADA_1_1 + 0.00016035920461834508*tn_ADA_1_2 + 0.0,\n",
       " 'bacc': 8.017960230917254e-05*tn_ADA_0_0 + 8.017960230917254e-05*tn_ADA_0_1 + 8.017960230917254e-05*tn_ADA_0_2 + 8.017960230917254e-05*tn_ADA_1_0 + 8.017960230917254e-05*tn_ADA_1_1 + 8.017960230917254e-05*tn_ADA_1_2 + 0.00024295432458697764*tp_ADA_0_0 + 0.00024295432458697764*tp_ADA_0_1 + 0.00024295432458697764*tp_ADA_0_2 + 0.00024295432458697764*tp_ADA_1_0 + 0.00024295432458697764*tp_ADA_1_1 + 0.00024295432458697764*tp_ADA_1_2 + 0.0}"
      ]
     },
     "execution_count": 19,
     "metadata": {},
     "output_type": "execute_result"
    }
   ],
   "source": [
    "dataset.linear_programming"
   ]
  },
  {
   "cell_type": "code",
   "execution_count": null,
   "metadata": {},
   "outputs": [
    {
     "data": {
      "text/plain": [
       "{'id': 'common_datasets.ADA',\n",
       " 'score_bounds': None,\n",
       " 'tptn_bounds': None,\n",
       " 'folds': [{'p': 343,\n",
       "   'n': 1040,\n",
       "   'id': 'ADA_0_0',\n",
       "   'score_bounds': None,\n",
       "   'tptn_bounds': None,\n",
       "   'evaluation': {'tp': 304.0, 'tn': 153.0},\n",
       "   'scores': {'acc': 0.3304410701373825,\n",
       "    'sens': 0.8862973760932945,\n",
       "    'spec': 0.14711538461538462,\n",
       "    'npv': 0.796875,\n",
       "    'ppv': 0.25524769101595296,\n",
       "    'bacc': 0.5167063803543396,\n",
       "    'f1p': 0.3963494132985658,\n",
       "    'fm': 0.4756315368027136,\n",
       "    'p': 343,\n",
       "    'n': 1040,\n",
       "    'tp': 304.0,\n",
       "    'tn': 153.0}},\n",
       "  {'p': 343,\n",
       "   'n': 1039,\n",
       "   'id': 'ADA_0_1',\n",
       "   'score_bounds': None,\n",
       "   'tptn_bounds': None,\n",
       "   'evaluation': {'tp': 0.0, 'tn': 679.0},\n",
       "   'scores': {'acc': 0.4913169319826339,\n",
       "    'sens': 0.0,\n",
       "    'spec': 0.6535129932627527,\n",
       "    'npv': 0.6643835616438356,\n",
       "    'ppv': 0.0,\n",
       "    'bacc': 0.32675649663137635,\n",
       "    'f1p': 0.0,\n",
       "    'fm': 0.0,\n",
       "    'p': 343,\n",
       "    'n': 1039,\n",
       "    'tp': 0.0,\n",
       "    'tn': 679.0}},\n",
       "  {'p': 343,\n",
       "   'n': 1039,\n",
       "   'id': 'ADA_0_2',\n",
       "   'score_bounds': None,\n",
       "   'tptn_bounds': None,\n",
       "   'evaluation': {'tp': 56.0, 'tn': 326.0},\n",
       "   'scores': {'acc': 0.276410998552822,\n",
       "    'sens': 0.16326530612244897,\n",
       "    'spec': 0.31376323387872956,\n",
       "    'npv': 0.531810766721044,\n",
       "    'ppv': 0.07282184655396619,\n",
       "    'bacc': 0.23851427000058928,\n",
       "    'f1p': 0.10071942446043165,\n",
       "    'fm': 0.10903797994293225,\n",
       "    'p': 343,\n",
       "    'n': 1039,\n",
       "    'tp': 56.0,\n",
       "    'tn': 326.0}},\n",
       "  {'p': 343,\n",
       "   'n': 1040,\n",
       "   'id': 'ADA_1_0',\n",
       "   'score_bounds': None,\n",
       "   'tptn_bounds': None,\n",
       "   'evaluation': {'tp': 78.0, 'tn': 399.0},\n",
       "   'scores': {'acc': 0.34490238611713664,\n",
       "    'sens': 0.22740524781341107,\n",
       "    'spec': 0.3836538461538462,\n",
       "    'npv': 0.6009036144578314,\n",
       "    'ppv': 0.10848400556328233,\n",
       "    'bacc': 0.3055295469836286,\n",
       "    'f1p': 0.14689265536723164,\n",
       "    'fm': 0.15706633047508842,\n",
       "    'p': 343,\n",
       "    'n': 1040,\n",
       "    'tp': 78.0,\n",
       "    'tn': 399.0}},\n",
       "  {'p': 343,\n",
       "   'n': 1039,\n",
       "   'id': 'ADA_1_1',\n",
       "   'score_bounds': None,\n",
       "   'tptn_bounds': None,\n",
       "   'evaluation': {'tp': 90.0, 'tn': 291.0},\n",
       "   'scores': {'acc': 0.27568740955137483,\n",
       "    'sens': 0.26239067055393583,\n",
       "    'spec': 0.28007699711260825,\n",
       "    'npv': 0.5349264705882353,\n",
       "    'ppv': 0.10739856801909307,\n",
       "    'bacc': 0.27123383383327204,\n",
       "    'f1p': 0.15241320914479256,\n",
       "    'fm': 0.16787013516126784,\n",
       "    'p': 343,\n",
       "    'n': 1039,\n",
       "    'tp': 90.0,\n",
       "    'tn': 291.0}},\n",
       "  {'p': 343,\n",
       "   'n': 1039,\n",
       "   'id': 'ADA_1_2',\n",
       "   'score_bounds': None,\n",
       "   'tptn_bounds': None,\n",
       "   'evaluation': {'tp': 201.0, 'tn': 836.0},\n",
       "   'scores': {'acc': 0.7503617945007236,\n",
       "    'sens': 0.5860058309037901,\n",
       "    'spec': 0.8046198267564967,\n",
       "    'npv': 0.8548057259713702,\n",
       "    'ppv': 0.4975247524752475,\n",
       "    'bacc': 0.6953128288301433,\n",
       "    'f1p': 0.5381526104417671,\n",
       "    'fm': 0.5399559296548746,\n",
       "    'p': 343,\n",
       "    'n': 1039,\n",
       "    'tp': 201.0,\n",
       "    'tn': 836.0}}],\n",
       " 'aggregation': 'rom',\n",
       " 'evaluation': {'tp': 729.0, 'tn': 2684.0, 'p': 2058, 'n': 6236},\n",
       " 'scores': {'acc': 0.4115022908126357,\n",
       "  'sens': 0.3542274052478134,\n",
       "  'spec': 0.4304041051956382,\n",
       "  'bacc': 0.3923157552217258}}"
      ]
     },
     "execution_count": 20,
     "metadata": {},
     "output_type": "execute_result"
    }
   ],
   "source": [
    "dataset.to_dict()"
   ]
  },
  {
   "cell_type": "code",
   "execution_count": null,
   "metadata": {},
   "outputs": [
    {
     "data": {
      "text/plain": [
       "{'acc': 0.4115022908126357,\n",
       " 'sens': 0.3542274052478134,\n",
       " 'spec': 0.4304041051956382,\n",
       " 'bacc': 0.3923157552217258}"
      ]
     },
     "execution_count": 21,
     "metadata": {},
     "output_type": "execute_result"
    }
   ],
   "source": [
    "dataset.calculate_scores()"
   ]
  },
  {
   "cell_type": "code",
   "execution_count": null,
   "metadata": {},
   "outputs": [],
   "source": [
    "fold = Fold(p=5, n=10, id='fold_0')"
   ]
  },
  {
   "cell_type": "code",
   "execution_count": null,
   "metadata": {},
   "outputs": [],
   "source": [
    "fold2 = Fold(**fold.to_dict(True))"
   ]
  },
  {
   "cell_type": "code",
   "execution_count": null,
   "metadata": {},
   "outputs": [
    {
     "data": {
      "text/plain": [
       "{'p': 5,\n",
       " 'n': 10,\n",
       " 'id': 'fold_0',\n",
       " 'score_bounds': None,\n",
       " 'tptn_bounds': None,\n",
       " 'evaluation': None,\n",
       " 'scores': None}"
      ]
     },
     "execution_count": 24,
     "metadata": {},
     "output_type": "execute_result"
    }
   ],
   "source": [
    "fold2.to_dict()"
   ]
  },
  {
   "cell_type": "code",
   "execution_count": null,
   "metadata": {},
   "outputs": [
    {
     "data": {
      "text/plain": [
       "<mlscorecheck.aggregated._fold.Fold at 0x7fb8f8ce5f60>"
      ]
     },
     "execution_count": 25,
     "metadata": {},
     "output_type": "execute_result"
    }
   ],
   "source": [
    "fold.simulate()"
   ]
  },
  {
   "cell_type": "code",
   "execution_count": null,
   "metadata": {},
   "outputs": [
    {
     "data": {
      "text/plain": [
       "{'acc': 0.13333333333333333,\n",
       " 'sens': 0.0,\n",
       " 'spec': 0.2,\n",
       " 'npv': 0.2857142857142857,\n",
       " 'ppv': 0.0,\n",
       " 'bacc': 0.1,\n",
       " 'f1p': 0.0,\n",
       " 'fm': 0.0,\n",
       " 'p': 5,\n",
       " 'n': 10,\n",
       " 'tp': 0.0,\n",
       " 'tn': 2.0}"
      ]
     },
     "execution_count": 26,
     "metadata": {},
     "output_type": "execute_result"
    }
   ],
   "source": [
    "fold.calculate_scores()"
   ]
  },
  {
   "cell_type": "code",
   "execution_count": null,
   "metadata": {},
   "outputs": [
    {
     "data": {
      "text/plain": [
       "{'acc': 0.13333333333333333,\n",
       " 'sens': 0.0,\n",
       " 'spec': 0.2,\n",
       " 'npv': 0.2857142857142857,\n",
       " 'ppv': 0.0,\n",
       " 'bacc': 0.1,\n",
       " 'f1p': 0.0,\n",
       " 'fm': 0.0,\n",
       " 'p': 5,\n",
       " 'n': 10,\n",
       " 'tp': 0.0,\n",
       " 'tn': 2.0}"
      ]
     },
     "execution_count": 27,
     "metadata": {},
     "output_type": "execute_result"
    }
   ],
   "source": [
    "fold.scores"
   ]
  },
  {
   "cell_type": "code",
   "execution_count": null,
   "metadata": {},
   "outputs": [
    {
     "data": {
      "text/plain": [
       "{'tp': 0.0, 'tn': 2.0}"
      ]
     },
     "execution_count": 28,
     "metadata": {},
     "output_type": "execute_result"
    }
   ],
   "source": [
    "fold.evaluation"
   ]
  },
  {
   "cell_type": "code",
   "execution_count": null,
   "metadata": {},
   "outputs": [
    {
     "data": {
      "text/plain": [
       "{'acc': 0.13333333333333333,\n",
       " 'sens': 0.0,\n",
       " 'spec': 0.2,\n",
       " 'npv': 0.2857142857142857,\n",
       " 'ppv': 0.0,\n",
       " 'bacc': 0.1,\n",
       " 'f1p': 0.0,\n",
       " 'fm': 0.0,\n",
       " 'p': 5,\n",
       " 'n': 10,\n",
       " 'tp': 0.0,\n",
       " 'tn': 2.0}"
      ]
     },
     "execution_count": 29,
     "metadata": {},
     "output_type": "execute_result"
    }
   ],
   "source": [
    "fold.scores"
   ]
  },
  {
   "cell_type": "code",
   "execution_count": null,
   "metadata": {},
   "outputs": [
    {
     "data": {
      "text/plain": [
       "(5, 10)"
      ]
     },
     "execution_count": 30,
     "metadata": {},
     "output_type": "execute_result"
    }
   ],
   "source": [
    "fold.p, fold.n"
   ]
  },
  {
   "cell_type": "code",
   "execution_count": null,
   "metadata": {},
   "outputs": [
    {
     "name": "stdout",
     "output_type": "stream",
     "text": [
      "{'acc': 0.13333333333333333, 'sens': 0.0, 'spec': 0.2, 'npv': 0.2857142857142857, 'ppv': 0.0, 'bacc': 0.1, 'f1p': 0.0, 'fm': 0.0, 'p': 5, 'n': 10, 'tp': 0.0, 'tn': 2.0}\n",
      "{'acc': 0.0001, 'sens': 0.0001, 'spec': 0.0001, 'bacc': 0.0001}\n",
      "{'tp': tp_fold_0, 'tn': tn_fold_0, 'acc': 0.06666666666666667*tn_fold_0 + 0.06666666666666667*tp_fold_0 + 0.0, 'sens': 0.2*tp_fold_0 + 0.0, 'spec': 0.1*tn_fold_0 + 0.0, 'bacc': 0.05*tn_fold_0 + 0.1*tp_fold_0 + 0.0}\n",
      "0.13333333333333333 0.0001 0.06666666666666667*tn_fold_0 + 0.06666666666666667*tp_fold_0\n",
      "0.0 0.0001 0.2*tp_fold_0\n",
      "0.2 0.0001 0.1*tn_fold_0\n",
      "0.1 0.0001 0.05*tn_fold_0 + 0.1*tp_fold_0\n",
      "Welcome to the CBC MILP Solver \n",
      "Version: 2.10.3 \n",
      "Build Date: Dec 15 2019 \n",
      "\n",
      "command line - /home/gykovacs/anaconda3/envs/mlscorecheck/lib/python3.10/site-packages/pulp/solverdir/cbc/linux/64/cbc /tmp/b9b5d0b1b43b4522981de5ca07abd1ac-pulp.mps timeMode elapsed branch printingOptions all solution /tmp/b9b5d0b1b43b4522981de5ca07abd1ac-pulp.sol (default strategy 1)\n",
      "At line 2 NAME          MODEL\n",
      "At line 3 ROWS\n",
      "At line 13 COLUMNS\n",
      "At line 31 RHS\n",
      "At line 40 BOUNDS\n",
      "At line 43 ENDATA\n",
      "Problem MODEL has 8 rows, 2 columns and 12 elements\n",
      "Coin0008I MODEL read with 0 errors\n",
      "Option for timeMode changed from cpu to elapsed\n",
      "Continuous objective value is 0 - 0.00 seconds\n",
      "Cgl0004I processed model has 0 rows, 0 columns (0 integer (0 of which binary)) and 0 elements\n",
      "Cbc3007W No integer variables - nothing to do\n",
      "Cuts at root node changed objective from 0 to -1.79769e+308\n",
      "Probing was tried 0 times and created 0 cuts of which 0 were active after adding rounds of cuts (0.000 seconds)\n",
      "Gomory was tried 0 times and created 0 cuts of which 0 were active after adding rounds of cuts (0.000 seconds)\n",
      "Knapsack was tried 0 times and created 0 cuts of which 0 were active after adding rounds of cuts (0.000 seconds)\n",
      "Clique was tried 0 times and created 0 cuts of which 0 were active after adding rounds of cuts (0.000 seconds)\n",
      "MixedIntegerRounding2 was tried 0 times and created 0 cuts of which 0 were active after adding rounds of cuts (0.000 seconds)\n",
      "FlowCover was tried 0 times and created 0 cuts of which 0 were active after adding rounds of cuts (0.000 seconds)\n",
      "TwoMirCuts was tried 0 times and created 0 cuts of which 0 were active after adding rounds of cuts (0.000 seconds)\n",
      "ZeroHalf was tried 0 times and created 0 cuts of which 0 were active after adding rounds of cuts (0.000 seconds)\n",
      "\n",
      "Result - Optimal solution found\n",
      "\n",
      "Objective value:                0.00000000\n",
      "Enumerated nodes:               0\n",
      "Total iterations:               1\n",
      "Time (CPU seconds):             0.00\n",
      "Time (Wallclock seconds):       0.00\n",
      "\n",
      "Option for printingOptions changed from normal to all\n",
      "Total time (CPU seconds):       0.00   (Wallclock seconds):       0.00\n",
      "\n"
     ]
    }
   ],
   "source": [
    "res = solve(fold, fold.scores, eps={'acc': 1e-4, 'sens': 1e-4, 'spec': 1e-4, 'bacc': 1e-4})"
   ]
  },
  {
   "cell_type": "code",
   "execution_count": null,
   "metadata": {},
   "outputs": [
    {
     "data": {
      "text/plain": [
       "1"
      ]
     },
     "execution_count": 32,
     "metadata": {},
     "output_type": "execute_result"
    }
   ],
   "source": [
    "res.status"
   ]
  },
  {
   "cell_type": "code",
   "execution_count": null,
   "metadata": {},
   "outputs": [
    {
     "data": {
      "text/plain": [
       "[tn_fold_0, tp_fold_0]"
      ]
     },
     "execution_count": 33,
     "metadata": {},
     "output_type": "execute_result"
    }
   ],
   "source": [
    "res.variables()"
   ]
  },
  {
   "cell_type": "code",
   "execution_count": null,
   "metadata": {},
   "outputs": [
    {
     "data": {
      "text/plain": [
       "{'acc': 0.13333333333333333,\n",
       " 'sens': 0.0,\n",
       " 'spec': 0.2,\n",
       " 'npv': 0.2857142857142857,\n",
       " 'ppv': 0.0,\n",
       " 'bacc': 0.1,\n",
       " 'f1p': 0.0,\n",
       " 'fm': 0.0,\n",
       " 'p': 5,\n",
       " 'n': 10,\n",
       " 'tn': 2.0,\n",
       " 'tp': 0.0}"
      ]
     },
     "execution_count": 34,
     "metadata": {},
     "output_type": "execute_result"
    }
   ],
   "source": [
    "fold.populate_with_solution(res).calculate_scores()"
   ]
  },
  {
   "cell_type": "code",
   "execution_count": null,
   "metadata": {},
   "outputs": [
    {
     "data": {
      "text/plain": [
       "{'tn': 2.0, 'tp': 0.0}"
      ]
     },
     "execution_count": 35,
     "metadata": {},
     "output_type": "execute_result"
    }
   ],
   "source": [
    "fold.evaluation"
   ]
  },
  {
   "cell_type": "code",
   "execution_count": null,
   "metadata": {},
   "outputs": [
    {
     "data": {
      "text/plain": [
       "{'acc': 0.13333333333333333,\n",
       " 'sens': 0.0,\n",
       " 'spec': 0.2,\n",
       " 'npv': 0.2857142857142857,\n",
       " 'ppv': 0.0,\n",
       " 'bacc': 0.1,\n",
       " 'f1p': 0.0,\n",
       " 'fm': 0.0,\n",
       " 'p': 5,\n",
       " 'n': 10,\n",
       " 'tn': 2.0,\n",
       " 'tp': 0.0}"
      ]
     },
     "execution_count": 36,
     "metadata": {},
     "output_type": "execute_result"
    }
   ],
   "source": [
    "fold.calculate_scores()"
   ]
  },
  {
   "cell_type": "code",
   "execution_count": null,
   "metadata": {},
   "outputs": [],
   "source": []
  }
 ],
 "metadata": {
  "kernelspec": {
   "display_name": "mlscorecheck",
   "language": "python",
   "name": "python3"
  },
  "language_info": {
   "codemirror_mode": {
    "name": "ipython",
    "version": 3
   },
   "file_extension": ".py",
   "mimetype": "text/x-python",
   "name": "python",
   "nbconvert_exporter": "python",
   "pygments_lexer": "ipython3",
   "version": "3.10.0"
  },
  "orig_nbformat": 4
 },
 "nbformat": 4,
 "nbformat_minor": 2
}
