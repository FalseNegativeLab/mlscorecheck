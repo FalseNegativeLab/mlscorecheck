{
 "cells": [
  {
   "cell_type": "code",
   "execution_count": 1,
   "metadata": {},
   "outputs": [],
   "source": [
    "import copy"
   ]
  },
  {
   "cell_type": "code",
   "execution_count": 2,
   "metadata": {},
   "outputs": [],
   "source": [
    "copy.deepcopy(None)"
   ]
  },
  {
   "cell_type": "code",
   "execution_count": 3,
   "metadata": {},
   "outputs": [],
   "source": [
    "from mlscorecheck.aggregated import (Fold, Dataset, Experiment,\n",
    "                                        generate_dataset_specification,\n",
    "                                        generate_experiment_specification)\n",
    "from mlscorecheck.aggregated import solve\n",
    "from mlscorecheck.experiments import dataset_statistics"
   ]
  },
  {
   "cell_type": "code",
   "execution_count": 4,
   "metadata": {},
   "outputs": [
    {
     "name": "stderr",
     "output_type": "stream",
     "text": [
      "2023-08-25 10:31:10,049:INFO:a random identifier for the fold has been generated zomphmftrklmfnaf\n",
      "2023-08-25 10:31:10,050:INFO:a random identifier for the fold has been generated jylyugpjnbnyrghy\n",
      "2023-08-25 10:31:10,052:INFO:a random identifier for the fold has been generated bsckwaivackaehep\n",
      "2023-08-25 10:31:10,052:INFO:a random identifier for the fold has been generated ruxbudqrgcuyrkqu\n",
      "2023-08-25 10:31:10,053:INFO:a random identifier for the fold has been generated xboljkazwtytcaht\n",
      "2023-08-25 10:31:10,055:INFO:a random identifier for the fold has been generated hisowqyyqdlqbspg\n",
      "2023-08-25 10:31:10,055:INFO:a random identifier for the fold has been generated ximidhkogxlygcss\n",
      "2023-08-25 10:31:10,056:INFO:a random identifier for the fold has been generated pnjfvemyfrtigbxm\n",
      "2023-08-25 10:31:10,057:INFO:a random identifier for the fold has been generated dwhkfdecqdiyqjgz\n",
      "2023-08-25 10:31:10,058:INFO:a random identifier for the fold has been generated skovwmefioiowpqr\n",
      "2023-08-25 10:31:10,058:INFO:a random identifier for the fold has been generated pxwgecnbpurhcxhu\n",
      "2023-08-25 10:31:10,059:INFO:a random identifier for the fold has been generated krkkwuchadffgfay\n",
      "2023-08-25 10:31:10,060:INFO:a random identifier for the fold has been generated siazivmntqwcwgup\n",
      "2023-08-25 10:31:10,060:INFO:a random identifier for the fold has been generated mdgpnyucndnwxvtx\n",
      "2023-08-25 10:31:10,061:INFO:a random identifier for the fold has been generated lkbtnmbbeeukpezm\n",
      "2023-08-25 10:31:10,063:INFO:a random identifier for the fold has been generated cbylswuwmxmomvyn\n",
      "2023-08-25 10:31:10,064:INFO:a random identifier for the fold has been generated ihnzxusicddbtwjs\n",
      "2023-08-25 10:31:10,066:INFO:a random identifier for the fold has been generated bcshajdlsnrwjeua\n",
      "2023-08-25 10:31:10,067:INFO:a random identifier for the fold has been generated roreihypnbyzcqpz\n",
      "2023-08-25 10:31:10,069:INFO:a random identifier for the fold has been generated qhdnvhhltdwvwhtb\n"
     ]
    }
   ],
   "source": [
    "experiment = Experiment(**generate_experiment_specification())"
   ]
  },
  {
   "cell_type": "code",
   "execution_count": 5,
   "metadata": {},
   "outputs": [],
   "source": [
    "sample = experiment.sample()"
   ]
  },
  {
   "cell_type": "code",
   "execution_count": 6,
   "metadata": {},
   "outputs": [
    {
     "data": {
      "text/plain": [
       "{'acc': 0.49782800045327774,\n",
       " 'sens': 0.4530337787907355,\n",
       " 'spec': 0.5190310512995421,\n",
       " 'bacc': 0.4860324150451388}"
      ]
     },
     "execution_count": 6,
     "metadata": {},
     "output_type": "execute_result"
    }
   ],
   "source": [
    "sample.calculate_scores()"
   ]
  },
  {
   "cell_type": "code",
   "execution_count": 8,
   "metadata": {},
   "outputs": [
    {
     "name": "stderr",
     "output_type": "stream",
     "text": [
      "2023-08-25 10:31:33,853:INFO:None: adding condition acc >= 0.49772800045327775\n",
      "2023-08-25 10:31:33,854:INFO:None: adding condition acc <= 0.49792800045327773\n",
      "2023-08-25 10:31:33,855:INFO:None: adding condition sens >= 0.4529337787907355\n",
      "2023-08-25 10:31:33,856:INFO:None: adding condition sens <= 0.45313377879073546\n",
      "2023-08-25 10:31:33,858:INFO:None: adding condition spec >= 0.5189310512995421\n",
      "2023-08-25 10:31:33,859:INFO:None: adding condition spec <= 0.5191310512995421\n",
      "2023-08-25 10:31:33,859:INFO:None: adding condition bacc >= 0.4859324150451388\n",
      "2023-08-25 10:31:33,861:INFO:None: adding condition bacc <= 0.48613241504513877\n"
     ]
    },
    {
     "name": "stdout",
     "output_type": "stream",
     "text": [
      "Welcome to the CBC MILP Solver \n",
      "Version: 2.10.3 \n",
      "Build Date: Dec 15 2019 \n",
      "\n",
      "command line - /home/gykovacs/anaconda3/envs/mlscorecheck/lib/python3.10/site-packages/pulp/solverdir/cbc/linux/64/cbc /tmp/afd64f03f3c74aec823bc06a495f6d49-pulp.mps timeMode elapsed branch printingOptions all solution /tmp/afd64f03f3c74aec823bc06a495f6d49-pulp.sol (default strategy 1)\n",
      "At line 2 NAME          MODEL\n",
      "At line 3 ROWS\n",
      "At line 13 COLUMNS\n",
      "At line 354 RHS\n",
      "At line 363 BOUNDS\n",
      "At line 404 ENDATA\n",
      "Problem MODEL has 8 rows, 40 columns and 240 elements\n",
      "Coin0008I MODEL read with 0 errors\n",
      "Option for timeMode changed from cpu to elapsed\n",
      "Continuous objective value is 214.611 - 0.00 seconds\n",
      "Cgl0004I processed model has 4 rows, 26 columns (26 integer (0 of which binary)) and 78 elements\n",
      "Cutoff increment increased from 1e-05 to 0.9999\n",
      "Cbc0012I Integer solution of 215 found by DiveCoefficient after 9 iterations and 0 nodes (0.00 seconds)\n",
      "Cbc0031I 4 added rows had average density of 17\n",
      "Cbc0013I At root node, 4 cuts changed objective from 214.61052 to 215 in 5 passes\n",
      "Cbc0014I Cut generator 0 (Probing) - 0 row cuts average 0.0 elements, 0 column cuts (0 active)  in 0.000 seconds - new frequency is -100\n",
      "Cbc0014I Cut generator 1 (Gomory) - 11 row cuts average 18.5 elements, 0 column cuts (0 active)  in 0.000 seconds - new frequency is 1\n",
      "Cbc0014I Cut generator 2 (Knapsack) - 0 row cuts average 0.0 elements, 0 column cuts (0 active)  in 0.000 seconds - new frequency is -100\n",
      "Cbc0014I Cut generator 3 (Clique) - 0 row cuts average 0.0 elements, 0 column cuts (0 active)  in 0.000 seconds - new frequency is -100\n",
      "Cbc0014I Cut generator 4 (MixedIntegerRounding2) - 1 row cuts average 13.0 elements, 0 column cuts (0 active)  in 0.000 seconds - new frequency is -100\n",
      "Cbc0014I Cut generator 5 (FlowCover) - 0 row cuts average 0.0 elements, 0 column cuts (0 active)  in 0.000 seconds - new frequency is -100\n",
      "Cbc0014I Cut generator 6 (TwoMirCuts) - 17 row cuts average 19.2 elements, 0 column cuts (0 active)  in 0.000 seconds - new frequency is -100\n",
      "Cbc0001I Search completed - best objective 215, took 9 iterations and 0 nodes (0.00 seconds)\n",
      "Cbc0035I Maximum depth 0, 0 variables fixed on reduced cost\n",
      "Cuts at root node changed objective from 214.611 to 215\n",
      "Probing was tried 5 times and created 0 cuts of which 0 were active after adding rounds of cuts (0.000 seconds)\n",
      "Gomory was tried 5 times and created 11 cuts of which 0 were active after adding rounds of cuts (0.000 seconds)\n",
      "Knapsack was tried 5 times and created 0 cuts of which 0 were active after adding rounds of cuts (0.000 seconds)\n",
      "Clique was tried 5 times and created 0 cuts of which 0 were active after adding rounds of cuts (0.000 seconds)\n",
      "MixedIntegerRounding2 was tried 5 times and created 1 cuts of which 0 were active after adding rounds of cuts (0.000 seconds)\n",
      "FlowCover was tried 5 times and created 0 cuts of which 0 were active after adding rounds of cuts (0.000 seconds)\n",
      "TwoMirCuts was tried 5 times and created 17 cuts of which 0 were active after adding rounds of cuts (0.000 seconds)\n",
      "ZeroHalf was tried 1 times and created 0 cuts of which 0 were active after adding rounds of cuts (0.000 seconds)\n",
      "\n",
      "Result - Optimal solution found\n",
      "\n",
      "Objective value:                215.00000000\n",
      "Enumerated nodes:               0\n",
      "Total iterations:               9\n",
      "Time (CPU seconds):             0.00\n",
      "Time (Wallclock seconds):       0.00\n",
      "\n",
      "Option for printingOptions changed from normal to all\n",
      "Total time (CPU seconds):       0.00   (Wallclock seconds):       0.00\n",
      "\n"
     ]
    },
    {
     "data": {
      "text/plain": [
       "True"
      ]
     },
     "execution_count": 8,
     "metadata": {},
     "output_type": "execute_result"
    }
   ],
   "source": [
    "solve(experiment, sample.calculate_scores(), 1e-4).status == 1"
   ]
  },
  {
   "cell_type": "code",
   "execution_count": null,
   "metadata": {},
   "outputs": [],
   "source": []
  },
  {
   "cell_type": "code",
   "execution_count": 4,
   "metadata": {},
   "outputs": [
    {
     "name": "stderr",
     "output_type": "stream",
     "text": [
      "2023-08-24 21:54:05,538:INFO:querying p and n from looking up the dataset\n",
      "2023-08-24 21:54:05,540:INFO:creating a folding based on the specification\n"
     ]
    }
   ],
   "source": [
    "dataset = Dataset(name='common_datasets.winequality-red-4', n_folds=2, n_repeats=3, aggregation='mor')"
   ]
  },
  {
   "cell_type": "code",
   "execution_count": 5,
   "metadata": {},
   "outputs": [],
   "source": [
    "ds2 = dataset.sample()"
   ]
  },
  {
   "cell_type": "code",
   "execution_count": 6,
   "metadata": {},
   "outputs": [],
   "source": [
    "scores = ds2.calculate_scores()"
   ]
  },
  {
   "cell_type": "code",
   "execution_count": 7,
   "metadata": {},
   "outputs": [
    {
     "name": "stderr",
     "output_type": "stream",
     "text": [
      "2023-08-24 21:54:05,573:INFO:common_datasets.winequality-red-4: adding condition acc >= 0.7552778160200251\n",
      "2023-08-24 21:54:05,575:INFO:common_datasets.winequality-red-4: adding condition acc <= 0.7554778160200251\n",
      "2023-08-24 21:54:05,576:INFO:common_datasets.winequality-red-4: adding condition sens >= 0.4379341880341881\n",
      "2023-08-24 21:54:05,577:INFO:common_datasets.winequality-red-4: adding condition sens <= 0.4381341880341881\n",
      "2023-08-24 21:54:05,577:INFO:common_datasets.winequality-red-4: adding condition spec >= 0.766178568348426\n",
      "2023-08-24 21:54:05,578:INFO:common_datasets.winequality-red-4: adding condition spec <= 0.766378568348426\n",
      "2023-08-24 21:54:05,580:INFO:common_datasets.winequality-red-4: adding condition bacc >= 0.6020563781913071\n",
      "2023-08-24 21:54:05,582:INFO:common_datasets.winequality-red-4: adding condition bacc <= 0.6022563781913071\n"
     ]
    },
    {
     "name": "stdout",
     "output_type": "stream",
     "text": [
      "Welcome to the CBC MILP Solver \n",
      "Version: 2.10.3 \n",
      "Build Date: Dec 15 2019 \n",
      "\n",
      "command line - /home/gykovacs/anaconda3/envs/mlscorecheck/lib/python3.10/site-packages/pulp/solverdir/cbc/linux/64/cbc /tmp/7447f4fdb1e84d6a82ad129ca633c5ea-pulp.mps timeMode elapsed branch printingOptions all solution /tmp/7447f4fdb1e84d6a82ad129ca633c5ea-pulp.sol (default strategy 1)\n",
      "At line 2 NAME          MODEL\n",
      "At line 3 ROWS\n",
      "At line 13 COLUMNS\n",
      "At line 116 RHS\n",
      "At line 125 BOUNDS\n",
      "At line 138 ENDATA\n",
      "Problem MODEL has 8 rows, 12 columns and 72 elements\n",
      "Coin0008I MODEL read with 0 errors\n",
      "Option for timeMode changed from cpu to elapsed\n",
      "Continuous objective value is 68.3177 - 0.00 seconds\n",
      "Cgl0003I 0 fixed, 3 tightened bounds, 0 strengthened rows, 0 substitutions\n",
      "Cgl0003I 0 fixed, 6 tightened bounds, 0 strengthened rows, 0 substitutions\n",
      "Cgl0003I 0 fixed, 5 tightened bounds, 0 strengthened rows, 0 substitutions\n",
      "Cgl0003I 0 fixed, 3 tightened bounds, 0 strengthened rows, 0 substitutions\n",
      "Cgl0003I 0 fixed, 6 tightened bounds, 0 strengthened rows, 0 substitutions\n",
      "Cgl0003I 0 fixed, 5 tightened bounds, 0 strengthened rows, 0 substitutions\n",
      "Cgl0003I 0 fixed, 3 tightened bounds, 0 strengthened rows, 0 substitutions\n",
      "Cgl0003I 0 fixed, 6 tightened bounds, 0 strengthened rows, 0 substitutions\n",
      "Cgl0003I 0 fixed, 5 tightened bounds, 0 strengthened rows, 0 substitutions\n",
      "Cgl0004I processed model has 4 rows, 4 columns (4 integer (0 of which binary)) and 12 elements\n",
      "Cbc0012I Integer solution of 69 found by DiveCoefficient after 0 iterations and 0 nodes (0.00 seconds)\n",
      "Cbc0001I Search completed - best objective 69, took 0 iterations and 0 nodes (0.00 seconds)\n",
      "Cbc0035I Maximum depth 0, 0 variables fixed on reduced cost\n",
      "Cuts at root node changed objective from 68.7146 to 68.7146\n",
      "Probing was tried 0 times and created 0 cuts of which 0 were active after adding rounds of cuts (0.000 seconds)\n",
      "Gomory was tried 0 times and created 0 cuts of which 0 were active after adding rounds of cuts (0.000 seconds)\n",
      "Knapsack was tried 0 times and created 0 cuts of which 0 were active after adding rounds of cuts (0.000 seconds)\n",
      "Clique was tried 0 times and created 0 cuts of which 0 were active after adding rounds of cuts (0.000 seconds)\n",
      "MixedIntegerRounding2 was tried 0 times and created 0 cuts of which 0 were active after adding rounds of cuts (0.000 seconds)\n",
      "FlowCover was tried 0 times and created 0 cuts of which 0 were active after adding rounds of cuts (0.000 seconds)\n",
      "TwoMirCuts was tried 0 times and created 0 cuts of which 0 were active after adding rounds of cuts (0.000 seconds)\n",
      "ZeroHalf was tried 0 times and created 0 cuts of which 0 were active after adding rounds of cuts (0.000 seconds)\n",
      "\n",
      "Result - Optimal solution found\n",
      "\n",
      "Objective value:                69.00000000\n",
      "Enumerated nodes:               0\n",
      "Total iterations:               0\n",
      "Time (CPU seconds):             0.00\n",
      "Time (Wallclock seconds):       0.00\n",
      "\n",
      "Option for printingOptions changed from normal to all\n",
      "Total time (CPU seconds):       0.00   (Wallclock seconds):       0.00\n",
      "\n"
     ]
    }
   ],
   "source": [
    "res = solve(ds2, scores, 1e-4)"
   ]
  },
  {
   "cell_type": "code",
   "execution_count": 8,
   "metadata": {},
   "outputs": [
    {
     "data": {
      "text/plain": [
       "True"
      ]
     },
     "execution_count": 8,
     "metadata": {},
     "output_type": "execute_result"
    }
   ],
   "source": [
    "res.status == 1"
   ]
  },
  {
   "cell_type": "code",
   "execution_count": 9,
   "metadata": {},
   "outputs": [
    {
     "name": "stdout",
     "output_type": "stream",
     "text": [
      "['tp_winequality-red-4_0_0', 'tn_winequality-red-4_0_0']\n",
      "[tn_winequality_red_4_0_0, tn_winequality_red_4_0_1, tn_winequality_red_4_1_0, tn_winequality_red_4_1_1, tn_winequality_red_4_2_0, tn_winequality_red_4_2_1, tp_winequality_red_4_0_0, tp_winequality_red_4_0_1, tp_winequality_red_4_1_0, tp_winequality_red_4_1_1, tp_winequality_red_4_2_0, tp_winequality_red_4_2_1]\n",
      "{}\n",
      "['tp_winequality-red-4_0_1', 'tn_winequality-red-4_0_1']\n",
      "[tn_winequality_red_4_0_0, tn_winequality_red_4_0_1, tn_winequality_red_4_1_0, tn_winequality_red_4_1_1, tn_winequality_red_4_2_0, tn_winequality_red_4_2_1, tp_winequality_red_4_0_0, tp_winequality_red_4_0_1, tp_winequality_red_4_1_0, tp_winequality_red_4_1_1, tp_winequality_red_4_2_0, tp_winequality_red_4_2_1]\n",
      "{}\n",
      "['tp_winequality-red-4_1_0', 'tn_winequality-red-4_1_0']\n",
      "[tn_winequality_red_4_0_0, tn_winequality_red_4_0_1, tn_winequality_red_4_1_0, tn_winequality_red_4_1_1, tn_winequality_red_4_2_0, tn_winequality_red_4_2_1, tp_winequality_red_4_0_0, tp_winequality_red_4_0_1, tp_winequality_red_4_1_0, tp_winequality_red_4_1_1, tp_winequality_red_4_2_0, tp_winequality_red_4_2_1]\n",
      "{}\n",
      "['tp_winequality-red-4_1_1', 'tn_winequality-red-4_1_1']\n",
      "[tn_winequality_red_4_0_0, tn_winequality_red_4_0_1, tn_winequality_red_4_1_0, tn_winequality_red_4_1_1, tn_winequality_red_4_2_0, tn_winequality_red_4_2_1, tp_winequality_red_4_0_0, tp_winequality_red_4_0_1, tp_winequality_red_4_1_0, tp_winequality_red_4_1_1, tp_winequality_red_4_2_0, tp_winequality_red_4_2_1]\n",
      "{}\n",
      "['tp_winequality-red-4_2_0', 'tn_winequality-red-4_2_0']\n",
      "[tn_winequality_red_4_0_0, tn_winequality_red_4_0_1, tn_winequality_red_4_1_0, tn_winequality_red_4_1_1, tn_winequality_red_4_2_0, tn_winequality_red_4_2_1, tp_winequality_red_4_0_0, tp_winequality_red_4_0_1, tp_winequality_red_4_1_0, tp_winequality_red_4_1_1, tp_winequality_red_4_2_0, tp_winequality_red_4_2_1]\n",
      "{}\n",
      "['tp_winequality-red-4_2_1', 'tn_winequality-red-4_2_1']\n",
      "[tn_winequality_red_4_0_0, tn_winequality_red_4_0_1, tn_winequality_red_4_1_0, tn_winequality_red_4_1_1, tn_winequality_red_4_2_0, tn_winequality_red_4_2_1, tp_winequality_red_4_0_0, tp_winequality_red_4_0_1, tp_winequality_red_4_1_0, tp_winequality_red_4_1_1, tp_winequality_red_4_2_0, tp_winequality_red_4_2_1]\n",
      "{}\n"
     ]
    }
   ],
   "source": [
    "ds3 = dataset.populate(res)"
   ]
  },
  {
   "cell_type": "code",
   "execution_count": 10,
   "metadata": {},
   "outputs": [
    {
     "data": {
      "text/plain": [
       "{'tp': 'tp_winequality-red-4_0_0', 'tn': 'tn_winequality-red-4_0_0'}"
      ]
     },
     "execution_count": 10,
     "metadata": {},
     "output_type": "execute_result"
    }
   ],
   "source": [
    "ds3.folds[0].variable_names"
   ]
  },
  {
   "cell_type": "code",
   "execution_count": 11,
   "metadata": {},
   "outputs": [
    {
     "name": "stdout",
     "output_type": "stream",
     "text": [
      "['tp_winequality-red-4_0_0', 'tn_winequality-red-4_0_0']\n",
      "[tn_winequality_red_4_0_0, tn_winequality_red_4_0_1, tn_winequality_red_4_1_0, tn_winequality_red_4_1_1, tn_winequality_red_4_2_0, tn_winequality_red_4_2_1, tp_winequality_red_4_0_0, tp_winequality_red_4_0_1, tp_winequality_red_4_1_0, tp_winequality_red_4_1_1, tp_winequality_red_4_2_0, tp_winequality_red_4_2_1]\n",
      "{}\n"
     ]
    },
    {
     "data": {
      "text/plain": [
       "{'p': 27, 'n': 773, 'id': 'winequality-red-4_0_0', 'score_bounds': None, 'figures': {}}"
      ]
     },
     "execution_count": 11,
     "metadata": {},
     "output_type": "execute_result"
    }
   ],
   "source": [
    "ds3.folds[0].populate(res)"
   ]
  },
  {
   "cell_type": "code",
   "execution_count": null,
   "metadata": {},
   "outputs": [],
   "source": []
  },
  {
   "cell_type": "code",
   "execution_count": null,
   "metadata": {},
   "outputs": [],
   "source": []
  },
  {
   "cell_type": "code",
   "execution_count": 2,
   "metadata": {},
   "outputs": [
    {
     "name": "stderr",
     "output_type": "stream",
     "text": [
      "2023-08-24 21:29:42,241:INFO:querying p and n from looking up the dataset\n",
      "2023-08-24 21:29:42,242:INFO:creating a folding based on the specification\n"
     ]
    },
    {
     "data": {
      "text/plain": [
       "{'id': 'lgwcnkmg', 'score_bounds': None, 'folds': [{'p': 7, 'n': 115, 'id': 'lgwcnkmg_0_0', 'score_bounds': None, 'figures': None}, {'p': 7, 'n': 115, 'id': 'lgwcnkmg_0_1', 'score_bounds': None, 'figures': None}, {'p': 7, 'n': 115, 'id': 'lgwcnkmg_0_2', 'score_bounds': None, 'figures': None}, {'p': 7, 'n': 115, 'id': 'lgwcnkmg_0_3', 'score_bounds': None, 'figures': None}, {'p': 7, 'n': 115, 'id': 'lgwcnkmg_0_4', 'score_bounds': None, 'figures': None}, {'p': 7, 'n': 114, 'id': 'lgwcnkmg_0_5', 'score_bounds': None, 'figures': None}, {'p': 7, 'n': 115, 'id': 'lgwcnkmg_1_0', 'score_bounds': None, 'figures': None}, {'p': 7, 'n': 115, 'id': 'lgwcnkmg_1_1', 'score_bounds': None, 'figures': None}, {'p': 7, 'n': 115, 'id': 'lgwcnkmg_1_2', 'score_bounds': None, 'figures': None}, {'p': 7, 'n': 115, 'id': 'lgwcnkmg_1_3', 'score_bounds': None, 'figures': None}, {'p': 7, 'n': 115, 'id': 'lgwcnkmg_1_4', 'score_bounds': None, 'figures': None}, {'p': 7, 'n': 114, 'id': 'lgwcnkmg_1_5', 'score_bounds': None, 'figures': None}], 'aggregation': 'mor'}"
      ]
     },
     "execution_count": 2,
     "metadata": {},
     "output_type": "execute_result"
    }
   ],
   "source": [
    "Dataset(**generate_dataset_specification())"
   ]
  },
  {
   "cell_type": "code",
   "execution_count": 3,
   "metadata": {},
   "outputs": [
    {
     "name": "stderr",
     "output_type": "stream",
     "text": [
      "2023-08-24 21:29:56,703:INFO:querying p and n from looking up the dataset\n",
      "2023-08-24 21:29:56,705:INFO:creating a folding based on the specification\n"
     ]
    }
   ],
   "source": [
    "problem = Dataset(**generate_dataset_specification())"
   ]
  },
  {
   "cell_type": "code",
   "execution_count": 4,
   "metadata": {},
   "outputs": [],
   "source": [
    "sample = problem.sample()"
   ]
  },
  {
   "cell_type": "code",
   "execution_count": 5,
   "metadata": {},
   "outputs": [
    {
     "data": {
      "text/plain": [
       "{'tp': 87, 'tn': 281, 'p': 128, 'n': 492}"
      ]
     },
     "execution_count": 5,
     "metadata": {},
     "output_type": "execute_result"
    }
   ],
   "source": [
    "sample.calculate_figures()"
   ]
  },
  {
   "cell_type": "code",
   "execution_count": 6,
   "metadata": {},
   "outputs": [
    {
     "data": {
      "text/plain": [
       "{'acc': 0.5935483870967742,\n",
       " 'sens': 0.6796875,\n",
       " 'spec': 0.5711382113821138,\n",
       " 'bacc': 0.625412855691057}"
      ]
     },
     "execution_count": 6,
     "metadata": {},
     "output_type": "execute_result"
    }
   ],
   "source": [
    "sample.calculate_scores()"
   ]
  },
  {
   "cell_type": "code",
   "execution_count": 11,
   "metadata": {},
   "outputs": [
    {
     "name": "stderr",
     "output_type": "stream",
     "text": [
      "2023-08-24 21:30:10,495:INFO:fold hepatitis_0_0: adding lower bound 0.0 for acc\n",
      "2023-08-24 21:30:10,496:INFO:fold hepatitis_0_0: adding upper bound 0.9223076923076924 for acc\n",
      "2023-08-24 21:30:10,497:INFO:fold hepatitis_0_0: adding lower bound 0.0 for sens\n",
      "2023-08-24 21:30:10,498:INFO:fold hepatitis_0_0: adding upper bound 0.98 for sens\n",
      "2023-08-24 21:30:10,499:INFO:fold hepatitis_0_0: adding lower bound 0.0 for spec\n",
      "2023-08-24 21:30:10,500:INFO:fold hepatitis_0_0: adding upper bound 0.906829268292683 for spec\n",
      "2023-08-24 21:30:10,501:INFO:fold hepatitis_0_0: adding lower bound 0.0 for bacc\n",
      "2023-08-24 21:30:10,502:INFO:fold hepatitis_0_0: adding upper bound 0.9434146341463414 for bacc\n",
      "2023-08-24 21:30:10,502:INFO:fold hepatitis_0_1: adding lower bound 0.0 for acc\n",
      "2023-08-24 21:30:10,504:INFO:fold hepatitis_0_1: adding upper bound 0.49923076923076926 for acc\n",
      "2023-08-24 21:30:10,508:INFO:fold hepatitis_0_1: adding lower bound 0.0 for sens\n",
      "2023-08-24 21:30:10,509:INFO:fold hepatitis_0_1: adding upper bound 0.34363636363636363 for sens\n",
      "2023-08-24 21:30:10,510:INFO:fold hepatitis_0_1: adding lower bound 0.0 for spec\n",
      "2023-08-24 21:30:10,511:INFO:fold hepatitis_0_1: adding upper bound 0.5409756097560976 for spec\n",
      "2023-08-24 21:30:10,513:INFO:fold hepatitis_0_1: adding lower bound 0.0 for bacc\n",
      "2023-08-24 21:30:10,516:INFO:fold hepatitis_0_1: adding upper bound 0.4423059866962306 for bacc\n",
      "2023-08-24 21:30:10,517:INFO:fold hepatitis_0_2: adding lower bound 0.0 for acc\n",
      "2023-08-24 21:30:10,518:INFO:fold hepatitis_0_2: adding upper bound 0.3917647058823529 for acc\n",
      "2023-08-24 21:30:10,520:INFO:fold hepatitis_0_2: adding lower bound 0.0 for sens\n",
      "2023-08-24 21:30:10,520:INFO:fold hepatitis_0_2: adding upper bound 0.68 for sens\n",
      "2023-08-24 21:30:10,521:INFO:fold hepatitis_0_2: adding lower bound 0.0 for spec\n",
      "2023-08-24 21:30:10,522:INFO:fold hepatitis_0_2: adding upper bound 0.32146341463414635 for spec\n",
      "2023-08-24 21:30:10,523:INFO:fold hepatitis_0_2: adding lower bound 0.0 for bacc\n",
      "2023-08-24 21:30:10,524:INFO:fold hepatitis_0_2: adding upper bound 0.5007317073170732 for bacc\n",
      "2023-08-24 21:30:10,525:INFO:fold hepatitis_1_0: adding lower bound 0.0 for acc\n",
      "2023-08-24 21:30:10,525:INFO:fold hepatitis_1_0: adding upper bound 0.3646153846153846 for acc\n",
      "2023-08-24 21:30:10,526:INFO:fold hepatitis_1_0: adding lower bound 0.0 for sens\n",
      "2023-08-24 21:30:10,527:INFO:fold hepatitis_1_0: adding upper bound 0.8890909090909092 for sens\n",
      "2023-08-24 21:30:10,528:INFO:fold hepatitis_1_0: adding lower bound 0.0 for spec\n",
      "2023-08-24 21:30:10,529:INFO:fold hepatitis_1_0: adding upper bound 0.22390243902439025 for spec\n",
      "2023-08-24 21:30:10,529:INFO:fold hepatitis_1_0: adding lower bound 0.0 for bacc\n",
      "2023-08-24 21:30:10,530:INFO:fold hepatitis_1_0: adding upper bound 0.5564966740576497 for bacc\n",
      "2023-08-24 21:30:10,532:INFO:fold hepatitis_1_1: adding lower bound 0.0 for acc\n",
      "2023-08-24 21:30:10,535:INFO:fold hepatitis_1_1: adding upper bound 0.6338461538461538 for acc\n",
      "2023-08-24 21:30:10,536:INFO:fold hepatitis_1_1: adding lower bound 0.0 for sens\n",
      "2023-08-24 21:30:10,537:INFO:fold hepatitis_1_1: adding upper bound 0.98 for sens\n",
      "2023-08-24 21:30:10,537:INFO:fold hepatitis_1_1: adding lower bound 0.0 for spec\n",
      "2023-08-24 21:30:10,538:INFO:fold hepatitis_1_1: adding upper bound 0.5409756097560976 for spec\n",
      "2023-08-24 21:30:10,539:INFO:fold hepatitis_1_1: adding lower bound 0.0 for bacc\n",
      "2023-08-24 21:30:10,540:INFO:fold hepatitis_1_1: adding upper bound 0.7604878048780488 for bacc\n",
      "2023-08-24 21:30:10,541:INFO:fold hepatitis_1_2: adding lower bound 0.0 for acc\n",
      "2023-08-24 21:30:10,541:INFO:fold hepatitis_1_2: adding upper bound 0.7250980392156863 for acc\n",
      "2023-08-24 21:30:10,542:INFO:fold hepatitis_1_2: adding lower bound 0.0 for sens\n",
      "2023-08-24 21:30:10,543:INFO:fold hepatitis_1_2: adding upper bound 0.5800000000000001 for sens\n",
      "2023-08-24 21:30:10,547:INFO:fold hepatitis_1_2: adding lower bound 0.0 for spec\n",
      "2023-08-24 21:30:10,549:INFO:fold hepatitis_1_2: adding upper bound 0.7604878048780488 for spec\n",
      "2023-08-24 21:30:10,550:INFO:fold hepatitis_1_2: adding lower bound 0.0 for bacc\n",
      "2023-08-24 21:30:10,550:INFO:fold hepatitis_1_2: adding upper bound 0.6702439024390244 for bacc\n",
      "2023-08-24 21:30:10,551:INFO:fold hepatitis_2_0: adding lower bound 0.0 for acc\n",
      "2023-08-24 21:30:10,552:INFO:fold hepatitis_2_0: adding upper bound 0.8261538461538462 for acc\n",
      "2023-08-24 21:30:10,553:INFO:fold hepatitis_2_0: adding lower bound 0.0 for sens\n",
      "2023-08-24 21:30:10,555:INFO:fold hepatitis_2_0: adding upper bound 0.98 for sens\n",
      "2023-08-24 21:30:10,555:INFO:fold hepatitis_2_0: adding lower bound 0.0 for spec\n",
      "2023-08-24 21:30:10,556:INFO:fold hepatitis_2_0: adding upper bound 0.7848780487804878 for spec\n",
      "2023-08-24 21:30:10,557:INFO:fold hepatitis_2_0: adding lower bound 0.0 for bacc\n",
      "2023-08-24 21:30:10,558:INFO:fold hepatitis_2_0: adding upper bound 0.8824390243902439 for bacc\n",
      "2023-08-24 21:30:10,559:INFO:fold hepatitis_2_1: adding lower bound 0.0 for acc\n",
      "2023-08-24 21:30:10,560:INFO:fold hepatitis_2_1: adding upper bound 0.3453846153846154 for acc\n",
      "2023-08-24 21:30:10,561:INFO:fold hepatitis_2_1: adding lower bound 0.0 for sens\n",
      "2023-08-24 21:30:10,562:INFO:fold hepatitis_2_1: adding upper bound 0.2527272727272727 for sens\n",
      "2023-08-24 21:30:10,562:INFO:fold hepatitis_2_1: adding lower bound 0.0 for spec\n",
      "2023-08-24 21:30:10,563:INFO:fold hepatitis_2_1: adding upper bound 0.3702439024390244 for spec\n",
      "2023-08-24 21:30:10,564:INFO:fold hepatitis_2_1: adding lower bound 0.0 for bacc\n",
      "2023-08-24 21:30:10,565:INFO:fold hepatitis_2_1: adding upper bound 0.31148558758314854 for bacc\n",
      "2023-08-24 21:30:10,565:INFO:fold hepatitis_2_2: adding lower bound 0.0 for acc\n",
      "2023-08-24 21:30:10,566:INFO:fold hepatitis_2_2: adding upper bound 0.783921568627451 for acc\n",
      "2023-08-24 21:30:10,567:INFO:fold hepatitis_2_2: adding lower bound 0.0 for sens\n",
      "2023-08-24 21:30:10,567:INFO:fold hepatitis_2_2: adding upper bound 0.88 for sens\n",
      "2023-08-24 21:30:10,569:INFO:fold hepatitis_2_2: adding lower bound 0.0 for spec\n",
      "2023-08-24 21:30:10,570:INFO:fold hepatitis_2_2: adding upper bound 0.7604878048780488 for spec\n",
      "2023-08-24 21:30:10,571:INFO:fold hepatitis_2_2: adding lower bound 0.0 for bacc\n",
      "2023-08-24 21:30:10,571:INFO:fold hepatitis_2_2: adding upper bound 0.8202439024390245 for bacc\n",
      "2023-08-24 21:30:10,572:INFO:fold hepatitis_3_0: adding lower bound 0.0 for acc\n",
      "2023-08-24 21:30:10,573:INFO:fold hepatitis_3_0: adding upper bound 0.44153846153846155 for acc\n",
      "2023-08-24 21:30:10,574:INFO:fold hepatitis_3_0: adding lower bound 0.0 for sens\n",
      "2023-08-24 21:30:10,575:INFO:fold hepatitis_3_0: adding upper bound 0.7981818181818182 for sens\n",
      "2023-08-24 21:30:10,576:INFO:fold hepatitis_3_0: adding lower bound 0.0 for spec\n",
      "2023-08-24 21:30:10,577:INFO:fold hepatitis_3_0: adding upper bound 0.34585365853658534 for spec\n",
      "2023-08-24 21:30:10,578:INFO:fold hepatitis_3_0: adding lower bound 0.0 for bacc\n",
      "2023-08-24 21:30:10,579:INFO:fold hepatitis_3_0: adding upper bound 0.5720177383592018 for bacc\n",
      "2023-08-24 21:30:10,580:INFO:fold hepatitis_3_1: adding lower bound 0.0 for acc\n",
      "2023-08-24 21:30:10,580:INFO:fold hepatitis_3_1: adding upper bound 0.806923076923077 for acc\n",
      "2023-08-24 21:30:10,581:INFO:fold hepatitis_3_1: adding lower bound 0.0 for sens\n",
      "2023-08-24 21:30:10,582:INFO:fold hepatitis_3_1: adding upper bound 0.34363636363636363 for sens\n",
      "2023-08-24 21:30:10,583:INFO:fold hepatitis_3_1: adding lower bound 0.0 for spec\n",
      "2023-08-24 21:30:10,584:INFO:fold hepatitis_3_1: adding upper bound 0.931219512195122 for spec\n",
      "2023-08-24 21:30:10,588:INFO:fold hepatitis_3_1: adding lower bound 0.0 for bacc\n",
      "2023-08-24 21:30:10,589:INFO:fold hepatitis_3_1: adding upper bound 0.6374279379157428 for bacc\n",
      "2023-08-24 21:30:10,591:INFO:fold hepatitis_3_2: adding lower bound 0.1768627450980392 for acc\n",
      "2023-08-24 21:30:10,592:INFO:fold hepatitis_3_2: adding upper bound 1.0 for acc\n",
      "2023-08-24 21:30:10,593:INFO:fold hepatitis_3_2: adding lower bound 0.22 for sens\n",
      "2023-08-24 21:30:10,594:INFO:fold hepatitis_3_2: adding upper bound 1.0 for sens\n",
      "2023-08-24 21:30:10,594:INFO:fold hepatitis_3_2: adding lower bound 0.16634146341463416 for spec\n",
      "2023-08-24 21:30:10,595:INFO:fold hepatitis_3_2: adding upper bound 1.0 for spec\n",
      "2023-08-24 21:30:10,596:INFO:fold hepatitis_3_2: adding lower bound 0.19317073170731708 for bacc\n",
      "2023-08-24 21:30:10,597:INFO:fold hepatitis_3_2: adding upper bound 1.0 for bacc\n",
      "2023-08-24 21:30:10,598:INFO:common_datasets.hepatitis: adding condition acc >= 0.5934483870967742\n",
      "2023-08-24 21:30:10,599:INFO:common_datasets.hepatitis: adding condition acc <= 0.5936483870967741\n",
      "2023-08-24 21:30:10,600:INFO:common_datasets.hepatitis: adding condition sens >= 0.6795875\n",
      "2023-08-24 21:30:10,601:INFO:common_datasets.hepatitis: adding condition sens <= 0.6797875\n",
      "2023-08-24 21:30:10,602:INFO:common_datasets.hepatitis: adding condition spec >= 0.5710382113821139\n",
      "2023-08-24 21:30:10,604:INFO:common_datasets.hepatitis: adding condition spec <= 0.5712382113821138\n",
      "2023-08-24 21:30:10,606:INFO:common_datasets.hepatitis: adding condition bacc >= 0.625312855691057\n",
      "2023-08-24 21:30:10,620:INFO:common_datasets.hepatitis: adding condition bacc <= 0.625512855691057\n"
     ]
    },
    {
     "name": "stdout",
     "output_type": "stream",
     "text": [
      "Welcome to the CBC MILP Solver \n",
      "Version: 2.10.3 \n",
      "Build Date: Dec 15 2019 \n",
      "\n",
      "command line - /home/gykovacs/anaconda3/envs/mlscorecheck/lib/python3.10/site-packages/pulp/solverdir/cbc/linux/64/cbc /tmp/d6364d6266ba4d36a63e238ae6a49be9-pulp.mps timeMode elapsed branch printingOptions all solution /tmp/d6364d6266ba4d36a63e238ae6a49be9-pulp.sol (default strategy 1)\n",
      "At line 2 NAME          MODEL\n",
      "At line 3 ROWS\n",
      "At line 109 COLUMNS\n",
      "At line 458 RHS\n",
      "At line 563 BOUNDS\n",
      "At line 588 ENDATA\n",
      "Problem MODEL has 104 rows, 24 columns and 288 elements\n",
      "Coin0008I MODEL read with 0 errors\n",
      "Option for timeMode changed from cpu to elapsed\n",
      "Continuous objective value is 86.9872 - 0.00 seconds\n",
      "Cgl0000I Cut generators found to be infeasible! (or unbounded)\n",
      "Pre-processing says infeasible or unbounded\n",
      "Option for printingOptions changed from normal to all\n",
      "Total time (CPU seconds):       0.00   (Wallclock seconds):       0.00\n",
      "\n"
     ]
    }
   ],
   "source": [
    "res = solve(problem.set_fold_bounds(sample.get_fold_bounds(feasible=False)), sample.calculate_scores(), 1e-4)"
   ]
  },
  {
   "cell_type": "code",
   "execution_count": 12,
   "metadata": {},
   "outputs": [
    {
     "data": {
      "text/plain": [
       "False"
      ]
     },
     "execution_count": 12,
     "metadata": {},
     "output_type": "execute_result"
    }
   ],
   "source": [
    "res.status == 1"
   ]
  },
  {
   "cell_type": "code",
   "execution_count": 9,
   "metadata": {},
   "outputs": [
    {
     "data": {
      "text/plain": [
       "{'acc': (0.5925483870967742, 0.5945483870967742),\n",
       " 'sens': (0.6786875, 0.6806875),\n",
       " 'spec': (0.5701382113821138, 0.5721382113821138),\n",
       " 'bacc': (0.624412855691057, 0.626412855691057)}"
      ]
     },
     "execution_count": 9,
     "metadata": {},
     "output_type": "execute_result"
    }
   ],
   "source": [
    "sample.get_bounds()"
   ]
  },
  {
   "cell_type": "code",
   "execution_count": 10,
   "metadata": {},
   "outputs": [
    {
     "data": {
      "text/plain": [
       "{'acc': 0.5935483870967742,\n",
       " 'sens': 0.6796875,\n",
       " 'spec': 0.5711382113821138,\n",
       " 'bacc': 0.625412855691057}"
      ]
     },
     "execution_count": 10,
     "metadata": {},
     "output_type": "execute_result"
    }
   ],
   "source": [
    "problem.populate(res).calculate_scores()"
   ]
  },
  {
   "cell_type": "code",
   "execution_count": null,
   "metadata": {},
   "outputs": [],
   "source": []
  },
  {
   "cell_type": "code",
   "execution_count": null,
   "metadata": {},
   "outputs": [],
   "source": []
  },
  {
   "cell_type": "code",
   "execution_count": 5,
   "metadata": {},
   "outputs": [
    {
     "ename": "NameError",
     "evalue": "name 'dataset' is not defined",
     "output_type": "error",
     "traceback": [
      "\u001b[0;31m---------------------------------------------------------------------------\u001b[0m",
      "\u001b[0;31mNameError\u001b[0m                                 Traceback (most recent call last)",
      "Cell \u001b[0;32mIn[5], line 1\u001b[0m\n\u001b[0;32m----> 1\u001b[0m dataset\u001b[39m.\u001b[39mcalculate_scores()\n",
      "\u001b[0;31mNameError\u001b[0m: name 'dataset' is not defined"
     ]
    }
   ],
   "source": [
    "dataset.calculate_scores()"
   ]
  },
  {
   "cell_type": "code",
   "execution_count": 2,
   "metadata": {},
   "outputs": [
    {
     "name": "stderr",
     "output_type": "stream",
     "text": [
      "2023-08-24 12:47:30,940:INFO:generating a random id for the dataset\n",
      "2023-08-24 12:47:30,941:INFO:creating a folding based on the specification\n",
      "2023-08-24 12:47:30,942:INFO:generating a random id for the dataset\n",
      "2023-08-24 12:47:30,944:INFO:creating a folding based on the specification\n",
      "2023-08-24 12:47:30,944:INFO:generating a random id for the dataset\n",
      "2023-08-24 12:47:30,945:INFO:creating a folding based on the specification\n",
      "2023-08-24 12:47:30,946:INFO:generating a random id for the dataset\n",
      "2023-08-24 12:47:30,947:INFO:creating a folding based on the specification\n"
     ]
    }
   ],
   "source": [
    "dataset = Dataset(p=5, n=10, n_folds=2, n_repeats=3, aggregation='mor')\n",
    "dataset2 = Dataset(p=8, n=3, n_folds=2, n_repeats=3, aggregation='mor')\n",
    "experiment = Experiment(datasets=[{'p': 5, 'n': 10, 'n_folds': 2, 'n_repeats': 3, 'aggregation': 'mor'},\n",
    "                                    {'p': 8, 'n': 20, 'n_folds': 3, 'n_repeats': 3, 'aggregation': 'mor'}],\n",
    "                        aggregation='mor')"
   ]
  },
  {
   "cell_type": "code",
   "execution_count": 3,
   "metadata": {},
   "outputs": [
    {
     "data": {
      "text/plain": [
       "{'id': None, 'aggregation': 'mor', 'datasets': [{'id': 'cninryupyaqqxvnf', 'score_bounds': None, 'tptn_bounds': None, 'folds': [{'p': 3, 'n': 5, 'id': 'cninryupyaqqxvnf_0_0', 'score_bounds': None, 'tptn_bounds': None, 'figures': {'tp': 1, 'tn': 4}, 'scores': {'acc': 0.625, 'sens': 0.3333333333333333, 'spec': 0.8, 'npv': 0.6666666666666666, 'ppv': 0.5, 'bacc': 0.5666666666666667, 'f1p': 0.4, 'fm': 0.4082482904638631, 'p': 3, 'n': 5, 'tp': 1, 'tn': 4}}, {'p': 2, 'n': 5, 'id': 'cninryupyaqqxvnf_0_1', 'score_bounds': None, 'tptn_bounds': None, 'figures': {'tp': 0, 'tn': 0}, 'scores': {'acc': 0.0, 'sens': 0.0, 'spec': 0.0, 'npv': 0.0, 'ppv': 0.0, 'bacc': 0.0, 'f1p': 0.0, 'fm': 0.0, 'p': 2, 'n': 5, 'tp': 0, 'tn': 0}}, {'p': 3, 'n': 5, 'id': 'cninryupyaqqxvnf_1_0', 'score_bounds': None, 'tptn_bounds': None, 'figures': {'tp': 2, 'tn': 0}, 'scores': {'acc': 0.25, 'sens': 0.6666666666666666, 'spec': 0.0, 'npv': 0.0, 'ppv': 0.2857142857142857, 'bacc': 0.3333333333333333, 'f1p': 0.4, 'fm': 0.4364357804719848, 'p': 3, 'n': 5, 'tp': 2, 'tn': 0}}, {'p': 2, 'n': 5, 'id': 'cninryupyaqqxvnf_1_1', 'score_bounds': None, 'tptn_bounds': None, 'figures': {'tp': 0, 'tn': 5}, 'scores': {'acc': 0.7142857142857143, 'sens': 0.0, 'spec': 1.0, 'npv': 0.7142857142857143, 'ppv': None, 'bacc': 0.5, 'f1p': 0.0, 'fm': None, 'p': 2, 'n': 5, 'tp': 0, 'tn': 5}}, {'p': 3, 'n': 5, 'id': 'cninryupyaqqxvnf_2_0', 'score_bounds': None, 'tptn_bounds': None, 'figures': {'tp': 0, 'tn': 1}, 'scores': {'acc': 0.125, 'sens': 0.0, 'spec': 0.2, 'npv': 0.25, 'ppv': 0.0, 'bacc': 0.1, 'f1p': 0.0, 'fm': 0.0, 'p': 3, 'n': 5, 'tp': 0, 'tn': 1}}, {'p': 2, 'n': 5, 'id': 'cninryupyaqqxvnf_2_1', 'score_bounds': None, 'tptn_bounds': None, 'figures': {'tp': 2, 'tn': 3}, 'scores': {'acc': 0.7142857142857143, 'sens': 1.0, 'spec': 0.6, 'npv': 1.0, 'ppv': 0.5, 'bacc': 0.8, 'f1p': 0.6666666666666666, 'fm': 0.7071067811865475, 'p': 2, 'n': 5, 'tp': 2, 'tn': 3}}], 'aggregation': 'mor', 'figures': {'tp': 5, 'tn': 13, 'p': 15, 'n': 30}, 'scores': {'acc': 0.4047619047619048, 'sens': 0.3333333333333333, 'spec': 0.43333333333333335, 'bacc': 0.3833333333333333}}, {'id': 'whradjeqmxqcgppb', 'score_bounds': None, 'tptn_bounds': None, 'folds': [{'p': 3, 'n': 7, 'id': 'whradjeqmxqcgppb_0_0', 'score_bounds': None, 'tptn_bounds': None, 'figures': {'tp': 3, 'tn': 0}, 'scores': {'acc': 0.3, 'sens': 1.0, 'spec': 0.0, 'npv': None, 'ppv': 0.3, 'bacc': 0.5, 'f1p': 0.46153846153846156, 'fm': 0.5477225575051661, 'p': 3, 'n': 7, 'tp': 3, 'tn': 0}}, {'p': 2, 'n': 7, 'id': 'whradjeqmxqcgppb_0_1', 'score_bounds': None, 'tptn_bounds': None, 'figures': {'tp': 2, 'tn': 0}, 'scores': {'acc': 0.2222222222222222, 'sens': 1.0, 'spec': 0.0, 'npv': None, 'ppv': 0.2222222222222222, 'bacc': 0.5, 'f1p': 0.36363636363636365, 'fm': 0.47140452079103173, 'p': 2, 'n': 7, 'tp': 2, 'tn': 0}}, {'p': 3, 'n': 6, 'id': 'whradjeqmxqcgppb_0_2', 'score_bounds': None, 'tptn_bounds': None, 'figures': {'tp': 1, 'tn': 5}, 'scores': {'acc': 0.6666666666666666, 'sens': 0.3333333333333333, 'spec': 0.8333333333333334, 'npv': 0.7142857142857143, 'ppv': 0.5, 'bacc': 0.5833333333333334, 'f1p': 0.4, 'fm': 0.4082482904638631, 'p': 3, 'n': 6, 'tp': 1, 'tn': 5}}, {'p': 3, 'n': 7, 'id': 'whradjeqmxqcgppb_1_0', 'score_bounds': None, 'tptn_bounds': None, 'figures': {'tp': 0, 'tn': 5}, 'scores': {'acc': 0.5, 'sens': 0.0, 'spec': 0.7142857142857143, 'npv': 0.625, 'ppv': 0.0, 'bacc': 0.35714285714285715, 'f1p': 0.0, 'fm': 0.0, 'p': 3, 'n': 7, 'tp': 0, 'tn': 5}}, {'p': 2, 'n': 7, 'id': 'whradjeqmxqcgppb_1_1', 'score_bounds': None, 'tptn_bounds': None, 'figures': {'tp': 2, 'tn': 0}, 'scores': {'acc': 0.2222222222222222, 'sens': 1.0, 'spec': 0.0, 'npv': None, 'ppv': 0.2222222222222222, 'bacc': 0.5, 'f1p': 0.36363636363636365, 'fm': 0.47140452079103173, 'p': 2, 'n': 7, 'tp': 2, 'tn': 0}}, {'p': 3, 'n': 6, 'id': 'whradjeqmxqcgppb_1_2', 'score_bounds': None, 'tptn_bounds': None, 'figures': {'tp': 1, 'tn': 2}, 'scores': {'acc': 0.3333333333333333, 'sens': 0.3333333333333333, 'spec': 0.3333333333333333, 'npv': 0.5, 'ppv': 0.2, 'bacc': 0.3333333333333333, 'f1p': 0.25, 'fm': 0.2581988897471611, 'p': 3, 'n': 6, 'tp': 1, 'tn': 2}}, {'p': 3, 'n': 7, 'id': 'whradjeqmxqcgppb_2_0', 'score_bounds': None, 'tptn_bounds': None, 'figures': {'tp': 1, 'tn': 6}, 'scores': {'acc': 0.7, 'sens': 0.3333333333333333, 'spec': 0.8571428571428571, 'npv': 0.75, 'ppv': 0.5, 'bacc': 0.5952380952380952, 'f1p': 0.4, 'fm': 0.4082482904638631, 'p': 3, 'n': 7, 'tp': 1, 'tn': 6}}, {'p': 2, 'n': 7, 'id': 'whradjeqmxqcgppb_2_1', 'score_bounds': None, 'tptn_bounds': None, 'figures': {'tp': 2, 'tn': 6}, 'scores': {'acc': 0.8888888888888888, 'sens': 1.0, 'spec': 0.8571428571428571, 'npv': 1.0, 'ppv': 0.6666666666666666, 'bacc': 0.9285714285714286, 'f1p': 0.8, 'fm': 0.8164965809277261, 'p': 2, 'n': 7, 'tp': 2, 'tn': 6}}, {'p': 3, 'n': 6, 'id': 'whradjeqmxqcgppb_2_2', 'score_bounds': None, 'tptn_bounds': None, 'figures': {'tp': 0, 'tn': 2}, 'scores': {'acc': 0.2222222222222222, 'sens': 0.0, 'spec': 0.3333333333333333, 'npv': 0.4, 'ppv': 0.0, 'bacc': 0.16666666666666666, 'f1p': 0.0, 'fm': 0.0, 'p': 3, 'n': 6, 'tp': 0, 'tn': 2}}], 'aggregation': 'mor', 'figures': {'tp': 12, 'tn': 26, 'p': 24, 'n': 60}, 'scores': {'acc': 0.4506172839506173, 'sens': 0.5555555555555556, 'spec': 0.4365079365079365, 'bacc': 0.49603174603174605}}], 'figures': {'tp': 17, 'tn': 39, 'p': 39, 'n': 90}, 'scores': {'acc': 0.4276895943562611, 'sens': 0.4444444444444444, 'spec': 0.43492063492063493, 'bacc': 0.4396825396825397}}"
      ]
     },
     "execution_count": 3,
     "metadata": {},
     "output_type": "execute_result"
    }
   ],
   "source": [
    "experiment.sample()"
   ]
  },
  {
   "cell_type": "code",
   "execution_count": 4,
   "metadata": {},
   "outputs": [
    {
     "data": {
      "text/plain": [
       "{'acc': 0.4276895943562611,\n",
       " 'sens': 0.4444444444444444,\n",
       " 'spec': 0.43492063492063493,\n",
       " 'bacc': 0.4396825396825397}"
      ]
     },
     "execution_count": 4,
     "metadata": {},
     "output_type": "execute_result"
    }
   ],
   "source": [
    "experiment.scores"
   ]
  },
  {
   "cell_type": "code",
   "execution_count": 5,
   "metadata": {},
   "outputs": [
    {
     "name": "stderr",
     "output_type": "stream",
     "text": [
      "2023-08-24 12:47:30,987:INFO:None: adding condition acc >= 0.4275895943562611\n",
      "2023-08-24 12:47:30,989:INFO:None: adding condition acc <= 0.42778959435626107\n",
      "2023-08-24 12:47:30,990:INFO:None: adding condition sens >= 0.44434444444444443\n",
      "2023-08-24 12:47:30,992:INFO:None: adding condition sens <= 0.4445444444444444\n",
      "2023-08-24 12:47:30,993:INFO:None: adding condition spec >= 0.43482063492063494\n",
      "2023-08-24 12:47:30,993:INFO:None: adding condition spec <= 0.4350206349206349\n",
      "2023-08-24 12:47:30,994:INFO:None: adding condition bacc >= 0.4395825396825397\n",
      "2023-08-24 12:47:30,995:INFO:None: adding condition bacc <= 0.43978253968253966\n"
     ]
    },
    {
     "name": "stdout",
     "output_type": "stream",
     "text": [
      "Welcome to the CBC MILP Solver \n",
      "Version: 2.10.3 \n",
      "Build Date: Dec 15 2019 \n",
      "\n",
      "command line - /home/gykovacs/anaconda3/envs/mlscorecheck/lib/python3.10/site-packages/pulp/solverdir/cbc/linux/64/cbc /tmp/a4ab4210a9304f23b32828ea9354afd9-pulp.mps timeMode elapsed branch printingOptions all solution /tmp/a4ab4210a9304f23b32828ea9354afd9-pulp.sol (default strategy 1)\n",
      "At line 2 NAME          MODEL\n",
      "At line 3 ROWS\n",
      "At line 13 COLUMNS\n",
      "At line 269 RHS\n",
      "At line 278 BOUNDS\n",
      "At line 309 ENDATA\n",
      "Problem MODEL has 8 rows, 30 columns and 180 elements\n",
      "Coin0008I MODEL read with 0 errors\n",
      "Option for timeMode changed from cpu to elapsed\n",
      "Continuous objective value is 12.9964 - 0.00 seconds\n",
      "Cgl0004I processed model has 4 rows, 10 columns (10 integer (0 of which binary)) and 30 elements\n",
      "Cutoff increment increased from 1e-05 to 0.9999\n",
      "Cbc0031I 2 added rows had average density of 7.5\n",
      "Cbc0013I At root node, 2 cuts changed objective from 12.9964 to 13 in 13 passes\n",
      "Cbc0014I Cut generator 0 (Probing) - 0 row cuts average 0.0 elements, 0 column cuts (0 active)  in 0.000 seconds - new frequency is -100\n",
      "Cbc0014I Cut generator 1 (Gomory) - 29 row cuts average 9.7 elements, 0 column cuts (0 active)  in 0.000 seconds - new frequency is 1\n",
      "Cbc0014I Cut generator 2 (Knapsack) - 0 row cuts average 0.0 elements, 0 column cuts (0 active)  in 0.000 seconds - new frequency is -100\n",
      "Cbc0014I Cut generator 3 (Clique) - 0 row cuts average 0.0 elements, 0 column cuts (0 active)  in 0.000 seconds - new frequency is -100\n",
      "Cbc0014I Cut generator 4 (MixedIntegerRounding2) - 4 row cuts average 7.5 elements, 0 column cuts (0 active)  in 0.000 seconds - new frequency is 1\n",
      "Cbc0014I Cut generator 5 (FlowCover) - 0 row cuts average 0.0 elements, 0 column cuts (0 active)  in 0.000 seconds - new frequency is -100\n",
      "Cbc0014I Cut generator 6 (TwoMirCuts) - 14 row cuts average 9.1 elements, 0 column cuts (0 active)  in 0.000 seconds - new frequency is -100\n",
      "Cbc0010I After 0 nodes, 1 on tree, 1e+50 best solution, best possible 13 (0.01 seconds)\n",
      "Cbc0004I Integer solution of 15 found after 1182 iterations and 190 nodes (0.05 seconds)\n",
      "Cbc0038I Full problem 4 rows 10 columns, reduced to 4 rows 7 columns\n",
      "Cbc0016I Integer solution of 14 found by strong branching after 1680 iterations and 293 nodes (0.06 seconds)\n",
      "Cbc0038I Full problem 4 rows 10 columns, reduced to 4 rows 6 columns\n",
      "Cbc0016I Integer solution of 13 found by strong branching after 1871 iterations and 322 nodes (0.06 seconds)\n",
      "Cbc0001I Search completed - best objective 13, took 1871 iterations and 322 nodes (0.06 seconds)\n",
      "Cbc0032I Strong branching done 1232 times (2491 iterations), fathomed 88 nodes and fixed 86 variables\n",
      "Cbc0035I Maximum depth 18, 19 variables fixed on reduced cost\n",
      "Cuts at root node changed objective from 12.9964 to 13\n",
      "Probing was tried 13 times and created 0 cuts of which 0 were active after adding rounds of cuts (0.000 seconds)\n",
      "Gomory was tried 119 times and created 236 cuts of which 0 were active after adding rounds of cuts (0.003 seconds)\n",
      "Knapsack was tried 13 times and created 0 cuts of which 0 were active after adding rounds of cuts (0.000 seconds)\n",
      "Clique was tried 13 times and created 0 cuts of which 0 were active after adding rounds of cuts (0.000 seconds)\n",
      "MixedIntegerRounding2 was tried 119 times and created 16 cuts of which 0 were active after adding rounds of cuts (0.001 seconds)\n",
      "FlowCover was tried 13 times and created 0 cuts of which 0 were active after adding rounds of cuts (0.000 seconds)\n",
      "TwoMirCuts was tried 13 times and created 14 cuts of which 0 were active after adding rounds of cuts (0.000 seconds)\n",
      "ZeroHalf was tried 1 times and created 0 cuts of which 0 were active after adding rounds of cuts (0.000 seconds)\n",
      "\n",
      "Result - Optimal solution found\n",
      "\n",
      "Objective value:                13.00000000\n",
      "Enumerated nodes:               322\n",
      "Total iterations:               1871\n",
      "Time (CPU seconds):             0.04\n",
      "Time (Wallclock seconds):       0.07\n",
      "\n",
      "Option for printingOptions changed from normal to all\n",
      "Total time (CPU seconds):       0.04   (Wallclock seconds):       0.07\n",
      "\n"
     ]
    }
   ],
   "source": [
    "res = solve(experiment, experiment.scores, eps=1e-4)"
   ]
  },
  {
   "cell_type": "code",
   "execution_count": 6,
   "metadata": {},
   "outputs": [
    {
     "data": {
      "text/plain": [
       "{'acc': 0.4276785714285714,\n",
       " 'sens': 0.4444444444444445,\n",
       " 'spec': 0.43492063492063493,\n",
       " 'bacc': 0.4396825396825397}"
      ]
     },
     "execution_count": 6,
     "metadata": {},
     "output_type": "execute_result"
    }
   ],
   "source": [
    "Experiment(**experiment.to_dict(problem_only=True)).populate(res).scores"
   ]
  },
  {
   "cell_type": "code",
   "execution_count": 7,
   "metadata": {},
   "outputs": [
    {
     "data": {
      "text/plain": [
       "({'acc': [0.0, 0.8888888888888888],\n",
       "  'sens': [0.0, 1.0],\n",
       "  'spec': [0.0, 1.0],\n",
       "  'bacc': [0.0, 0.9285714285714286]},\n",
       " {'tp': [0, 3], 'tn': [0, 6]})"
      ]
     },
     "execution_count": 7,
     "metadata": {},
     "output_type": "execute_result"
    }
   ],
   "source": [
    "experiment.extract_bounds()"
   ]
  },
  {
   "cell_type": "code",
   "execution_count": 8,
   "metadata": {},
   "outputs": [
    {
     "data": {
      "text/plain": [
       "{'id': None,\n",
       " 'figures': {'tp': 17, 'tn': 39, 'p': 39, 'n': 90},\n",
       " 'scores': {'acc': 0.4276895943562611,\n",
       "  'sens': 0.4444444444444444,\n",
       "  'spec': 0.43492063492063493,\n",
       "  'bacc': 0.4396825396825397},\n",
       " 'all_bounds': False,\n",
       " 'datasets': [{'id': 'cninryupyaqqxvnf',\n",
       "   'figures': {'tp': 5, 'tn': 13, 'p': 15, 'n': 30},\n",
       "   'scores': {'acc': 0.4047619047619048,\n",
       "    'sens': 0.3333333333333333,\n",
       "    'spec': 0.43333333333333335,\n",
       "    'bacc': 0.3833333333333333},\n",
       "   'score_bounds': None,\n",
       "   'check_score_bounds': None,\n",
       "   'tptn_bounds': None,\n",
       "   'check_tptn_bounds': None,\n",
       "   'all_bounds': False,\n",
       "   'folds': [{'id': 'cninryupyaqqxvnf_0_0',\n",
       "     'figures': {'tp': 1, 'tn': 4},\n",
       "     'scores': {'acc': 0.625,\n",
       "      'sens': 0.3333333333333333,\n",
       "      'spec': 0.8,\n",
       "      'npv': 0.6666666666666666,\n",
       "      'ppv': 0.5,\n",
       "      'bacc': 0.5666666666666667,\n",
       "      'f1p': 0.4,\n",
       "      'fm': 0.4082482904638631,\n",
       "      'p': 3,\n",
       "      'n': 5,\n",
       "      'tp': 1,\n",
       "      'tn': 4},\n",
       "     'score_bounds': None,\n",
       "     'check_score_bounds': None,\n",
       "     'tptn_bounds': None,\n",
       "     'check_tptn_bounds': None,\n",
       "     'all_bounds_flag': None},\n",
       "    {'id': 'cninryupyaqqxvnf_0_1',\n",
       "     'figures': {'tp': 0, 'tn': 0},\n",
       "     'scores': {'acc': 0.0,\n",
       "      'sens': 0.0,\n",
       "      'spec': 0.0,\n",
       "      'npv': 0.0,\n",
       "      'ppv': 0.0,\n",
       "      'bacc': 0.0,\n",
       "      'f1p': 0.0,\n",
       "      'fm': 0.0,\n",
       "      'p': 2,\n",
       "      'n': 5,\n",
       "      'tp': 0,\n",
       "      'tn': 0},\n",
       "     'score_bounds': None,\n",
       "     'check_score_bounds': None,\n",
       "     'tptn_bounds': None,\n",
       "     'check_tptn_bounds': None,\n",
       "     'all_bounds_flag': None},\n",
       "    {'id': 'cninryupyaqqxvnf_1_0',\n",
       "     'figures': {'tp': 2, 'tn': 0},\n",
       "     'scores': {'acc': 0.25,\n",
       "      'sens': 0.6666666666666666,\n",
       "      'spec': 0.0,\n",
       "      'npv': 0.0,\n",
       "      'ppv': 0.2857142857142857,\n",
       "      'bacc': 0.3333333333333333,\n",
       "      'f1p': 0.4,\n",
       "      'fm': 0.4364357804719848,\n",
       "      'p': 3,\n",
       "      'n': 5,\n",
       "      'tp': 2,\n",
       "      'tn': 0},\n",
       "     'score_bounds': None,\n",
       "     'check_score_bounds': None,\n",
       "     'tptn_bounds': None,\n",
       "     'check_tptn_bounds': None,\n",
       "     'all_bounds_flag': None},\n",
       "    {'id': 'cninryupyaqqxvnf_1_1',\n",
       "     'figures': {'tp': 0, 'tn': 5},\n",
       "     'scores': {'acc': 0.7142857142857143,\n",
       "      'sens': 0.0,\n",
       "      'spec': 1.0,\n",
       "      'npv': 0.7142857142857143,\n",
       "      'ppv': None,\n",
       "      'bacc': 0.5,\n",
       "      'f1p': 0.0,\n",
       "      'fm': None,\n",
       "      'p': 2,\n",
       "      'n': 5,\n",
       "      'tp': 0,\n",
       "      'tn': 5},\n",
       "     'score_bounds': None,\n",
       "     'check_score_bounds': None,\n",
       "     'tptn_bounds': None,\n",
       "     'check_tptn_bounds': None,\n",
       "     'all_bounds_flag': None},\n",
       "    {'id': 'cninryupyaqqxvnf_2_0',\n",
       "     'figures': {'tp': 0, 'tn': 1},\n",
       "     'scores': {'acc': 0.125,\n",
       "      'sens': 0.0,\n",
       "      'spec': 0.2,\n",
       "      'npv': 0.25,\n",
       "      'ppv': 0.0,\n",
       "      'bacc': 0.1,\n",
       "      'f1p': 0.0,\n",
       "      'fm': 0.0,\n",
       "      'p': 3,\n",
       "      'n': 5,\n",
       "      'tp': 0,\n",
       "      'tn': 1},\n",
       "     'score_bounds': None,\n",
       "     'check_score_bounds': None,\n",
       "     'tptn_bounds': None,\n",
       "     'check_tptn_bounds': None,\n",
       "     'all_bounds_flag': None},\n",
       "    {'id': 'cninryupyaqqxvnf_2_1',\n",
       "     'figures': {'tp': 2, 'tn': 3},\n",
       "     'scores': {'acc': 0.7142857142857143,\n",
       "      'sens': 1.0,\n",
       "      'spec': 0.6,\n",
       "      'npv': 1.0,\n",
       "      'ppv': 0.5,\n",
       "      'bacc': 0.8,\n",
       "      'f1p': 0.6666666666666666,\n",
       "      'fm': 0.7071067811865475,\n",
       "      'p': 2,\n",
       "      'n': 5,\n",
       "      'tp': 2,\n",
       "      'tn': 3},\n",
       "     'score_bounds': None,\n",
       "     'check_score_bounds': None,\n",
       "     'tptn_bounds': None,\n",
       "     'check_tptn_bounds': None,\n",
       "     'all_bounds_flag': None}]},\n",
       "  {'id': 'whradjeqmxqcgppb',\n",
       "   'figures': {'tp': 12, 'tn': 26, 'p': 24, 'n': 60},\n",
       "   'scores': {'acc': 0.4506172839506173,\n",
       "    'sens': 0.5555555555555556,\n",
       "    'spec': 0.4365079365079365,\n",
       "    'bacc': 0.49603174603174605},\n",
       "   'score_bounds': None,\n",
       "   'check_score_bounds': None,\n",
       "   'tptn_bounds': None,\n",
       "   'check_tptn_bounds': None,\n",
       "   'all_bounds': False,\n",
       "   'folds': [{'id': 'whradjeqmxqcgppb_0_0',\n",
       "     'figures': {'tp': 3, 'tn': 0},\n",
       "     'scores': {'acc': 0.3,\n",
       "      'sens': 1.0,\n",
       "      'spec': 0.0,\n",
       "      'npv': None,\n",
       "      'ppv': 0.3,\n",
       "      'bacc': 0.5,\n",
       "      'f1p': 0.46153846153846156,\n",
       "      'fm': 0.5477225575051661,\n",
       "      'p': 3,\n",
       "      'n': 7,\n",
       "      'tp': 3,\n",
       "      'tn': 0},\n",
       "     'score_bounds': None,\n",
       "     'check_score_bounds': None,\n",
       "     'tptn_bounds': None,\n",
       "     'check_tptn_bounds': None,\n",
       "     'all_bounds_flag': None},\n",
       "    {'id': 'whradjeqmxqcgppb_0_1',\n",
       "     'figures': {'tp': 2, 'tn': 0},\n",
       "     'scores': {'acc': 0.2222222222222222,\n",
       "      'sens': 1.0,\n",
       "      'spec': 0.0,\n",
       "      'npv': None,\n",
       "      'ppv': 0.2222222222222222,\n",
       "      'bacc': 0.5,\n",
       "      'f1p': 0.36363636363636365,\n",
       "      'fm': 0.47140452079103173,\n",
       "      'p': 2,\n",
       "      'n': 7,\n",
       "      'tp': 2,\n",
       "      'tn': 0},\n",
       "     'score_bounds': None,\n",
       "     'check_score_bounds': None,\n",
       "     'tptn_bounds': None,\n",
       "     'check_tptn_bounds': None,\n",
       "     'all_bounds_flag': None},\n",
       "    {'id': 'whradjeqmxqcgppb_0_2',\n",
       "     'figures': {'tp': 1, 'tn': 5},\n",
       "     'scores': {'acc': 0.6666666666666666,\n",
       "      'sens': 0.3333333333333333,\n",
       "      'spec': 0.8333333333333334,\n",
       "      'npv': 0.7142857142857143,\n",
       "      'ppv': 0.5,\n",
       "      'bacc': 0.5833333333333334,\n",
       "      'f1p': 0.4,\n",
       "      'fm': 0.4082482904638631,\n",
       "      'p': 3,\n",
       "      'n': 6,\n",
       "      'tp': 1,\n",
       "      'tn': 5},\n",
       "     'score_bounds': None,\n",
       "     'check_score_bounds': None,\n",
       "     'tptn_bounds': None,\n",
       "     'check_tptn_bounds': None,\n",
       "     'all_bounds_flag': None},\n",
       "    {'id': 'whradjeqmxqcgppb_1_0',\n",
       "     'figures': {'tp': 0, 'tn': 5},\n",
       "     'scores': {'acc': 0.5,\n",
       "      'sens': 0.0,\n",
       "      'spec': 0.7142857142857143,\n",
       "      'npv': 0.625,\n",
       "      'ppv': 0.0,\n",
       "      'bacc': 0.35714285714285715,\n",
       "      'f1p': 0.0,\n",
       "      'fm': 0.0,\n",
       "      'p': 3,\n",
       "      'n': 7,\n",
       "      'tp': 0,\n",
       "      'tn': 5},\n",
       "     'score_bounds': None,\n",
       "     'check_score_bounds': None,\n",
       "     'tptn_bounds': None,\n",
       "     'check_tptn_bounds': None,\n",
       "     'all_bounds_flag': None},\n",
       "    {'id': 'whradjeqmxqcgppb_1_1',\n",
       "     'figures': {'tp': 2, 'tn': 0},\n",
       "     'scores': {'acc': 0.2222222222222222,\n",
       "      'sens': 1.0,\n",
       "      'spec': 0.0,\n",
       "      'npv': None,\n",
       "      'ppv': 0.2222222222222222,\n",
       "      'bacc': 0.5,\n",
       "      'f1p': 0.36363636363636365,\n",
       "      'fm': 0.47140452079103173,\n",
       "      'p': 2,\n",
       "      'n': 7,\n",
       "      'tp': 2,\n",
       "      'tn': 0},\n",
       "     'score_bounds': None,\n",
       "     'check_score_bounds': None,\n",
       "     'tptn_bounds': None,\n",
       "     'check_tptn_bounds': None,\n",
       "     'all_bounds_flag': None},\n",
       "    {'id': 'whradjeqmxqcgppb_1_2',\n",
       "     'figures': {'tp': 1, 'tn': 2},\n",
       "     'scores': {'acc': 0.3333333333333333,\n",
       "      'sens': 0.3333333333333333,\n",
       "      'spec': 0.3333333333333333,\n",
       "      'npv': 0.5,\n",
       "      'ppv': 0.2,\n",
       "      'bacc': 0.3333333333333333,\n",
       "      'f1p': 0.25,\n",
       "      'fm': 0.2581988897471611,\n",
       "      'p': 3,\n",
       "      'n': 6,\n",
       "      'tp': 1,\n",
       "      'tn': 2},\n",
       "     'score_bounds': None,\n",
       "     'check_score_bounds': None,\n",
       "     'tptn_bounds': None,\n",
       "     'check_tptn_bounds': None,\n",
       "     'all_bounds_flag': None},\n",
       "    {'id': 'whradjeqmxqcgppb_2_0',\n",
       "     'figures': {'tp': 1, 'tn': 6},\n",
       "     'scores': {'acc': 0.7,\n",
       "      'sens': 0.3333333333333333,\n",
       "      'spec': 0.8571428571428571,\n",
       "      'npv': 0.75,\n",
       "      'ppv': 0.5,\n",
       "      'bacc': 0.5952380952380952,\n",
       "      'f1p': 0.4,\n",
       "      'fm': 0.4082482904638631,\n",
       "      'p': 3,\n",
       "      'n': 7,\n",
       "      'tp': 1,\n",
       "      'tn': 6},\n",
       "     'score_bounds': None,\n",
       "     'check_score_bounds': None,\n",
       "     'tptn_bounds': None,\n",
       "     'check_tptn_bounds': None,\n",
       "     'all_bounds_flag': None},\n",
       "    {'id': 'whradjeqmxqcgppb_2_1',\n",
       "     'figures': {'tp': 2, 'tn': 6},\n",
       "     'scores': {'acc': 0.8888888888888888,\n",
       "      'sens': 1.0,\n",
       "      'spec': 0.8571428571428571,\n",
       "      'npv': 1.0,\n",
       "      'ppv': 0.6666666666666666,\n",
       "      'bacc': 0.9285714285714286,\n",
       "      'f1p': 0.8,\n",
       "      'fm': 0.8164965809277261,\n",
       "      'p': 2,\n",
       "      'n': 7,\n",
       "      'tp': 2,\n",
       "      'tn': 6},\n",
       "     'score_bounds': None,\n",
       "     'check_score_bounds': None,\n",
       "     'tptn_bounds': None,\n",
       "     'check_tptn_bounds': None,\n",
       "     'all_bounds_flag': None},\n",
       "    {'id': 'whradjeqmxqcgppb_2_2',\n",
       "     'figures': {'tp': 0, 'tn': 2},\n",
       "     'scores': {'acc': 0.2222222222222222,\n",
       "      'sens': 0.0,\n",
       "      'spec': 0.3333333333333333,\n",
       "      'npv': 0.4,\n",
       "      'ppv': 0.0,\n",
       "      'bacc': 0.16666666666666666,\n",
       "      'f1p': 0.0,\n",
       "      'fm': 0.0,\n",
       "      'p': 3,\n",
       "      'n': 6,\n",
       "      'tp': 0,\n",
       "      'tn': 2},\n",
       "     'score_bounds': None,\n",
       "     'check_score_bounds': None,\n",
       "     'tptn_bounds': None,\n",
       "     'check_tptn_bounds': None,\n",
       "     'all_bounds_flag': None}]}]}"
      ]
     },
     "execution_count": 8,
     "metadata": {},
     "output_type": "execute_result"
    }
   ],
   "source": [
    "experiment.check_bounds()"
   ]
  },
  {
   "cell_type": "code",
   "execution_count": null,
   "metadata": {},
   "outputs": [],
   "source": []
  },
  {
   "cell_type": "code",
   "execution_count": 9,
   "metadata": {},
   "outputs": [
    {
     "name": "stderr",
     "output_type": "stream",
     "text": [
      "2023-08-24 12:47:31,130:INFO:querying p and n from looking up the dataset\n",
      "2023-08-24 12:47:31,132:INFO:creating a folding based on the specification\n",
      "2023-08-24 12:47:31,133:INFO:querying p and n from looking up the dataset\n",
      "2023-08-24 12:47:31,133:INFO:creating a folding based on the specification\n"
     ]
    }
   ],
   "source": [
    "experiment = Experiment(datasets=[{'name': 'common_datasets.ADA', 'aggregation': 'mor'},\n",
    "                                    {'name': 'common_datasets.ecoli1', 'n_folds': 5, 'n_repeats': 3, 'aggregation': 'mor'}],\n",
    "                        aggregation='mor')"
   ]
  },
  {
   "cell_type": "code",
   "execution_count": 10,
   "metadata": {},
   "outputs": [
    {
     "data": {
      "text/plain": [
       "{'id': None, 'aggregation': 'mor', 'datasets': [{'id': 'common_datasets.ADA', 'score_bounds': None, 'tptn_bounds': None, 'folds': [{'p': 1029, 'n': 3118, 'id': 'ADA_0_0', 'score_bounds': None, 'tptn_bounds': None, 'figures': {'tp': 703, 'tn': 833}, 'scores': {'acc': 0.370388232457198, 'sens': 0.6831875607385811, 'spec': 0.2671584348941629, 'npv': 0.7187230371009491, 'ppv': 0.2352744310575636, 'bacc': 0.475172997816372, 'f1p': 0.35001244709982576, 'fm': 0.40091964863096236, 'p': 1029, 'n': 3118, 'tp': 703, 'tn': 833}}], 'aggregation': 'mor', 'figures': {'tp': 703, 'tn': 833, 'p': 1029, 'n': 3118}, 'scores': {'acc': 0.370388232457198, 'sens': 0.6831875607385811, 'spec': 0.2671584348941629, 'bacc': 0.475172997816372}}, {'id': 'common_datasets.ecoli1', 'score_bounds': None, 'tptn_bounds': None, 'folds': [{'p': 16, 'n': 52, 'id': 'ecoli1_0_0', 'score_bounds': None, 'tptn_bounds': None, 'figures': {'tp': 13, 'tn': 11}, 'scores': {'acc': 0.35294117647058826, 'sens': 0.8125, 'spec': 0.21153846153846154, 'npv': 0.7857142857142857, 'ppv': 0.24074074074074073, 'bacc': 0.5120192307692307, 'f1p': 0.37142857142857144, 'fm': 0.4422689813358516, 'p': 16, 'n': 52, 'tp': 13, 'tn': 11}}, {'p': 15, 'n': 52, 'id': 'ecoli1_0_1', 'score_bounds': None, 'tptn_bounds': None, 'figures': {'tp': 13, 'tn': 19}, 'scores': {'acc': 0.47761194029850745, 'sens': 0.8666666666666667, 'spec': 0.36538461538461536, 'npv': 0.9047619047619048, 'ppv': 0.2826086956521739, 'bacc': 0.6160256410256411, 'f1p': 0.4262295081967213, 'fm': 0.4949015419574726, 'p': 15, 'n': 52, 'tp': 13, 'tn': 19}}, {'p': 15, 'n': 52, 'id': 'ecoli1_0_2', 'score_bounds': None, 'tptn_bounds': None, 'figures': {'tp': 11, 'tn': 20}, 'scores': {'acc': 0.4626865671641791, 'sens': 0.7333333333333333, 'spec': 0.38461538461538464, 'npv': 0.8333333333333334, 'ppv': 0.2558139534883721, 'bacc': 0.558974358974359, 'f1p': 0.3793103448275862, 'fm': 0.43312457702698676, 'p': 15, 'n': 52, 'tp': 11, 'tn': 20}}, {'p': 15, 'n': 52, 'id': 'ecoli1_0_3', 'score_bounds': None, 'tptn_bounds': None, 'figures': {'tp': 12, 'tn': 20}, 'scores': {'acc': 0.47761194029850745, 'sens': 0.8, 'spec': 0.38461538461538464, 'npv': 0.8695652173913043, 'ppv': 0.2727272727272727, 'bacc': 0.5923076923076923, 'f1p': 0.4067796610169492, 'fm': 0.46709936649691375, 'p': 15, 'n': 52, 'tp': 12, 'tn': 20}}, {'p': 16, 'n': 51, 'id': 'ecoli1_0_4', 'score_bounds': None, 'tptn_bounds': None, 'figures': {'tp': 4, 'tn': 2}, 'scores': {'acc': 0.08955223880597014, 'sens': 0.25, 'spec': 0.0392156862745098, 'npv': 0.14285714285714285, 'ppv': 0.07547169811320754, 'bacc': 0.1446078431372549, 'f1p': 0.11594202898550725, 'fm': 0.13736056394868904, 'p': 16, 'n': 51, 'tp': 4, 'tn': 2}}, {'p': 16, 'n': 52, 'id': 'ecoli1_1_0', 'score_bounds': None, 'tptn_bounds': None, 'figures': {'tp': 7, 'tn': 6}, 'scores': {'acc': 0.19117647058823528, 'sens': 0.4375, 'spec': 0.11538461538461539, 'npv': 0.4, 'ppv': 0.1320754716981132, 'bacc': 0.2764423076923077, 'f1p': 0.2028985507246377, 'fm': 0.2403809869102058, 'p': 16, 'n': 52, 'tp': 7, 'tn': 6}}, {'p': 15, 'n': 52, 'id': 'ecoli1_1_1', 'score_bounds': None, 'tptn_bounds': None, 'figures': {'tp': 3, 'tn': 46}, 'scores': {'acc': 0.7313432835820896, 'sens': 0.2, 'spec': 0.8846153846153846, 'npv': 0.7931034482758621, 'ppv': 0.3333333333333333, 'bacc': 0.5423076923076923, 'f1p': 0.25, 'fm': 0.25819888974716115, 'p': 15, 'n': 52, 'tp': 3, 'tn': 46}}, {'p': 15, 'n': 52, 'id': 'ecoli1_1_2', 'score_bounds': None, 'tptn_bounds': None, 'figures': {'tp': 6, 'tn': 5}, 'scores': {'acc': 0.16417910447761194, 'sens': 0.4, 'spec': 0.09615384615384616, 'npv': 0.35714285714285715, 'ppv': 0.11320754716981132, 'bacc': 0.24807692307692308, 'f1p': 0.17647058823529413, 'fm': 0.2127980706395726, 'p': 15, 'n': 52, 'tp': 6, 'tn': 5}}, {'p': 15, 'n': 52, 'id': 'ecoli1_1_3', 'score_bounds': None, 'tptn_bounds': None, 'figures': {'tp': 15, 'tn': 33}, 'scores': {'acc': 0.7164179104477612, 'sens': 1.0, 'spec': 0.6346153846153846, 'npv': 1.0, 'ppv': 0.4411764705882353, 'bacc': 0.8173076923076923, 'f1p': 0.6122448979591837, 'fm': 0.6642111641550715, 'p': 15, 'n': 52, 'tp': 15, 'tn': 33}}, {'p': 16, 'n': 51, 'id': 'ecoli1_1_4', 'score_bounds': None, 'tptn_bounds': None, 'figures': {'tp': 5, 'tn': 26}, 'scores': {'acc': 0.4626865671641791, 'sens': 0.3125, 'spec': 0.5098039215686274, 'npv': 0.7027027027027027, 'ppv': 0.16666666666666666, 'bacc': 0.4111519607843137, 'f1p': 0.21739130434782608, 'fm': 0.22821773229381923, 'p': 16, 'n': 51, 'tp': 5, 'tn': 26}}, {'p': 16, 'n': 52, 'id': 'ecoli1_2_0', 'score_bounds': None, 'tptn_bounds': None, 'figures': {'tp': 12, 'tn': 38}, 'scores': {'acc': 0.7352941176470589, 'sens': 0.75, 'spec': 0.7307692307692307, 'npv': 0.9047619047619048, 'ppv': 0.46153846153846156, 'bacc': 0.7403846153846154, 'f1p': 0.5714285714285714, 'fm': 0.5883484054145521, 'p': 16, 'n': 52, 'tp': 12, 'tn': 38}}, {'p': 15, 'n': 52, 'id': 'ecoli1_2_1', 'score_bounds': None, 'tptn_bounds': None, 'figures': {'tp': 10, 'tn': 1}, 'scores': {'acc': 0.16417910447761194, 'sens': 0.6666666666666666, 'spec': 0.019230769230769232, 'npv': 0.16666666666666666, 'ppv': 0.16393442622950818, 'bacc': 0.34294871794871795, 'f1p': 0.2631578947368421, 'fm': 0.3305898024536431, 'p': 15, 'n': 52, 'tp': 10, 'tn': 1}}, {'p': 15, 'n': 52, 'id': 'ecoli1_2_2', 'score_bounds': None, 'tptn_bounds': None, 'figures': {'tp': 11, 'tn': 32}, 'scores': {'acc': 0.6417910447761194, 'sens': 0.7333333333333333, 'spec': 0.6153846153846154, 'npv': 0.8888888888888888, 'ppv': 0.3548387096774194, 'bacc': 0.6743589743589744, 'f1p': 0.4782608695652174, 'fm': 0.5101127853361851, 'p': 15, 'n': 52, 'tp': 11, 'tn': 32}}, {'p': 15, 'n': 52, 'id': 'ecoli1_2_3', 'score_bounds': None, 'tptn_bounds': None, 'figures': {'tp': 6, 'tn': 26}, 'scores': {'acc': 0.47761194029850745, 'sens': 0.4, 'spec': 0.5, 'npv': 0.7428571428571429, 'ppv': 0.1875, 'bacc': 0.45, 'f1p': 0.2553191489361702, 'fm': 0.27386127875258304, 'p': 15, 'n': 52, 'tp': 6, 'tn': 26}}, {'p': 16, 'n': 51, 'id': 'ecoli1_2_4', 'score_bounds': None, 'tptn_bounds': None, 'figures': {'tp': 7, 'tn': 25}, 'scores': {'acc': 0.47761194029850745, 'sens': 0.4375, 'spec': 0.49019607843137253, 'npv': 0.7352941176470589, 'ppv': 0.21212121212121213, 'bacc': 0.4638480392156863, 'f1p': 0.2857142857142857, 'fm': 0.3046358979224712, 'p': 16, 'n': 51, 'tp': 7, 'tn': 25}}], 'aggregation': 'mor', 'figures': {'tp': 135, 'tn': 310, 'p': 231, 'n': 777}, 'scores': {'acc': 0.4415130231196956, 'sens': 0.5866666666666667, 'spec': 0.39876822523881345, 'bacc': 0.49271744595274014}}], 'figures': {'tp': 838, 'tn': 1143, 'p': 1260, 'n': 3895}, 'scores': {'acc': 0.4059506277884468, 'sens': 0.6349271137026239, 'spec': 0.33296333006648815, 'bacc': 0.4839452218845561}}"
      ]
     },
     "execution_count": 10,
     "metadata": {},
     "output_type": "execute_result"
    }
   ],
   "source": [
    "experiment.sample()"
   ]
  },
  {
   "cell_type": "code",
   "execution_count": 11,
   "metadata": {},
   "outputs": [
    {
     "data": {
      "text/plain": [
       "{'acc': 0.4059506277884468,\n",
       " 'sens': 0.6349271137026239,\n",
       " 'spec': 0.33296333006648815,\n",
       " 'bacc': 0.4839452218845561}"
      ]
     },
     "execution_count": 11,
     "metadata": {},
     "output_type": "execute_result"
    }
   ],
   "source": [
    "experiment.calculate_scores()"
   ]
  },
  {
   "cell_type": "code",
   "execution_count": 12,
   "metadata": {},
   "outputs": [
    {
     "data": {
      "text/plain": [
       "({'acc': [0.08955223880597014, 0.7352941176470589],\n",
       "  'sens': [0.2, 1.0],\n",
       "  'spec': [0.019230769230769232, 0.8846153846153846],\n",
       "  'bacc': [0.1446078431372549, 0.8173076923076923]},\n",
       " {'tp': [3, 703], 'tn': [1, 833]})"
      ]
     },
     "execution_count": 12,
     "metadata": {},
     "output_type": "execute_result"
    }
   ],
   "source": [
    "experiment.extract_bounds()"
   ]
  },
  {
   "cell_type": "code",
   "execution_count": 13,
   "metadata": {},
   "outputs": [],
   "source": [
    "scores = experiment.calculate_scores()"
   ]
  },
  {
   "cell_type": "code",
   "execution_count": 14,
   "metadata": {},
   "outputs": [
    {
     "data": {
      "text/plain": [
       "{'acc': 0.4059506277884468,\n",
       " 'sens': 0.6349271137026239,\n",
       " 'spec': 0.33296333006648815,\n",
       " 'bacc': 0.4839452218845561}"
      ]
     },
     "execution_count": 14,
     "metadata": {},
     "output_type": "execute_result"
    }
   ],
   "source": [
    "scores"
   ]
  },
  {
   "cell_type": "code",
   "execution_count": 15,
   "metadata": {},
   "outputs": [
    {
     "name": "stderr",
     "output_type": "stream",
     "text": [
      "2023-08-24 12:47:31,212:INFO:None: adding condition acc >= 0.4058506277884468\n",
      "2023-08-24 12:47:31,215:INFO:None: adding condition acc <= 0.4060506277884468\n",
      "2023-08-24 12:47:31,216:INFO:None: adding condition sens >= 0.6348271137026239\n",
      "2023-08-24 12:47:31,217:INFO:None: adding condition sens <= 0.6350271137026239\n",
      "2023-08-24 12:47:31,219:INFO:None: adding condition spec >= 0.33286333006648816\n",
      "2023-08-24 12:47:31,220:INFO:None: adding condition spec <= 0.33306333006648814\n",
      "2023-08-24 12:47:31,221:INFO:None: adding condition bacc >= 0.4838452218845561\n",
      "2023-08-24 12:47:31,223:INFO:None: adding condition bacc <= 0.48404522188455607\n"
     ]
    },
    {
     "name": "stdout",
     "output_type": "stream",
     "text": [
      "Welcome to the CBC MILP Solver \n",
      "Version: 2.10.3 \n",
      "Build Date: Dec 15 2019 \n",
      "\n",
      "command line - /home/gykovacs/anaconda3/envs/mlscorecheck/lib/python3.10/site-packages/pulp/solverdir/cbc/linux/64/cbc /tmp/c71d90ef7145457d9c5f4034c61a7968-pulp.mps timeMode elapsed branch printingOptions all solution /tmp/c71d90ef7145457d9c5f4034c61a7968-pulp.sol (default strategy 1)\n",
      "At line 2 NAME          MODEL\n",
      "At line 3 ROWS\n",
      "At line 13 COLUMNS\n",
      "At line 286 RHS\n",
      "At line 295 BOUNDS\n",
      "At line 328 ENDATA\n",
      "Problem MODEL has 8 rows, 32 columns and 192 elements\n",
      "Coin0008I MODEL read with 0 errors\n",
      "Option for timeMode changed from cpu to elapsed\n",
      "Continuous objective value is 508.474 - 0.00 seconds\n",
      "Cgl0004I processed model has 4 rows, 8 columns (8 integer (0 of which binary)) and 24 elements\n",
      "Cutoff increment increased from 1e-05 to 0.9999\n",
      "Cbc0012I Integer solution of 512 found by DiveCoefficient after 14 iterations and 0 nodes (0.00 seconds)\n",
      "Cbc0031I 3 added rows had average density of 4.3333333\n",
      "Cbc0013I At root node, 3 cuts changed objective from 508.87736 to 512 in 6 passes\n",
      "Cbc0014I Cut generator 0 (Probing) - 0 row cuts average 0.0 elements, 0 column cuts (0 active)  in 0.000 seconds - new frequency is -100\n",
      "Cbc0014I Cut generator 1 (Gomory) - 13 row cuts average 4.8 elements, 0 column cuts (0 active)  in 0.000 seconds - new frequency is 1\n",
      "Cbc0014I Cut generator 2 (Knapsack) - 0 row cuts average 0.0 elements, 0 column cuts (0 active)  in 0.000 seconds - new frequency is -100\n",
      "Cbc0014I Cut generator 3 (Clique) - 0 row cuts average 0.0 elements, 0 column cuts (0 active)  in 0.000 seconds - new frequency is -100\n",
      "Cbc0014I Cut generator 4 (MixedIntegerRounding2) - 1 row cuts average 4.0 elements, 0 column cuts (0 active)  in 0.000 seconds - new frequency is -100\n",
      "Cbc0014I Cut generator 5 (FlowCover) - 0 row cuts average 0.0 elements, 0 column cuts (0 active)  in 0.000 seconds - new frequency is -100\n",
      "Cbc0014I Cut generator 6 (TwoMirCuts) - 12 row cuts average 4.6 elements, 0 column cuts (0 active)  in 0.000 seconds - new frequency is 1\n",
      "Cbc0001I Search completed - best objective 512, took 14 iterations and 0 nodes (0.00 seconds)\n",
      "Cbc0035I Maximum depth 0, 0 variables fixed on reduced cost\n",
      "Cuts at root node changed objective from 508.877 to 512\n",
      "Probing was tried 6 times and created 0 cuts of which 0 were active after adding rounds of cuts (0.000 seconds)\n",
      "Gomory was tried 6 times and created 13 cuts of which 0 were active after adding rounds of cuts (0.000 seconds)\n",
      "Knapsack was tried 6 times and created 0 cuts of which 0 were active after adding rounds of cuts (0.000 seconds)\n",
      "Clique was tried 6 times and created 0 cuts of which 0 were active after adding rounds of cuts (0.000 seconds)\n",
      "MixedIntegerRounding2 was tried 6 times and created 1 cuts of which 0 were active after adding rounds of cuts (0.000 seconds)\n",
      "FlowCover was tried 6 times and created 0 cuts of which 0 were active after adding rounds of cuts (0.000 seconds)\n",
      "TwoMirCuts was tried 6 times and created 12 cuts of which 0 were active after adding rounds of cuts (0.000 seconds)\n",
      "ZeroHalf was tried 1 times and created 0 cuts of which 0 were active after adding rounds of cuts (0.000 seconds)\n",
      "\n",
      "Result - Optimal solution found\n",
      "\n",
      "Objective value:                512.00000000\n",
      "Enumerated nodes:               0\n",
      "Total iterations:               14\n",
      "Time (CPU seconds):             0.00\n",
      "Time (Wallclock seconds):       0.00\n",
      "\n",
      "Option for printingOptions changed from normal to all\n",
      "Total time (CPU seconds):       0.00   (Wallclock seconds):       0.00\n",
      "\n"
     ]
    }
   ],
   "source": [
    "res = solve(experiment, scores, {'acc': 1e-4, 'sens': 1e-4, 'spec': 1e-4, 'bacc': 1e-4})"
   ]
  },
  {
   "cell_type": "code",
   "execution_count": 16,
   "metadata": {},
   "outputs": [
    {
     "ename": "TypeError",
     "evalue": "Experiment.to_dict() got an unexpected keyword argument 'raw_problem'",
     "output_type": "error",
     "traceback": [
      "\u001b[0;31m---------------------------------------------------------------------------\u001b[0m",
      "\u001b[0;31mTypeError\u001b[0m                                 Traceback (most recent call last)",
      "Cell \u001b[0;32mIn[16], line 1\u001b[0m\n\u001b[0;32m----> 1\u001b[0m experiment2 \u001b[39m=\u001b[39m Experiment(\u001b[39m*\u001b[39m\u001b[39m*\u001b[39mexperiment\u001b[39m.\u001b[39;49mto_dict(raw_problem\u001b[39m=\u001b[39;49m\u001b[39mTrue\u001b[39;49;00m))\n",
      "\u001b[0;31mTypeError\u001b[0m: Experiment.to_dict() got an unexpected keyword argument 'raw_problem'"
     ]
    }
   ],
   "source": [
    "experiment2 = Experiment(**experiment.to_dict(raw_problem=True))"
   ]
  },
  {
   "cell_type": "code",
   "execution_count": null,
   "metadata": {},
   "outputs": [
    {
     "data": {
      "text/plain": [
       "<mlscorecheck.aggregated._experiment.Experiment at 0x7f6a07330e20>"
      ]
     },
     "execution_count": 8,
     "metadata": {},
     "output_type": "execute_result"
    }
   ],
   "source": [
    "experiment2.populate_with_solution(res)"
   ]
  },
  {
   "cell_type": "code",
   "execution_count": null,
   "metadata": {},
   "outputs": [
    {
     "data": {
      "text/plain": [
       "{'acc': 0.39800535613256993,\n",
       " 'sens': 0.7194298671849693,\n",
       " 'spec': 0.2903846153846154,\n",
       " 'bacc': 0.5049072412847924}"
      ]
     },
     "execution_count": 9,
     "metadata": {},
     "output_type": "execute_result"
    }
   ],
   "source": [
    "experiment2.calculate_scores()"
   ]
  },
  {
   "cell_type": "code",
   "execution_count": null,
   "metadata": {},
   "outputs": [
    {
     "data": {
      "text/plain": [
       "{'figures': {'tp': 922.0, 'tn': 453.0, 'p': 1260, 'n': 3895},\n",
       " 'scores': {'acc': 0.39800535613256993,\n",
       "  'sens': 0.7194298671849693,\n",
       "  'spec': 0.2903846153846154,\n",
       "  'bacc': 0.5049072412847924},\n",
       " 'downstream_bounds': True,\n",
       " 'datasets': [{'figures': {'tp': 758.0, 'tn': 0.0, 'p': 1029, 'n': 3118},\n",
       "   'scores': {'acc': 0.18278273450687244,\n",
       "    'sens': 0.7366375121477162,\n",
       "    'spec': 0.0,\n",
       "    'bacc': 0.3683187560738581},\n",
       "   'score_bounds': None,\n",
       "   'check_score_bounds': True,\n",
       "   'tptn_bounds': None,\n",
       "   'check_tptn_bounds': True,\n",
       "   'downstream_bounds': True,\n",
       "   'folds': [{'figures': {'tn': 0.0, 'tp': 758.0},\n",
       "     'scores': {'acc': 0.18278273450687244,\n",
       "      'sens': 0.7366375121477162,\n",
       "      'spec': 0.0,\n",
       "      'npv': 0.0,\n",
       "      'ppv': 0.195562435500516,\n",
       "      'bacc': 0.3683187560738581,\n",
       "      'f1p': 0.309072375127421,\n",
       "      'fm': 0.379550557839991,\n",
       "      'p': 1029,\n",
       "      'n': 3118,\n",
       "      'tn': 0.0,\n",
       "      'tp': 758.0},\n",
       "     'score_bounds': None,\n",
       "     'check_score_bounds': True,\n",
       "     'tptn_bounds': None,\n",
       "     'check_tptn_bounds': True}]},\n",
       "  {'figures': {'tp': 164.0, 'tn': 453.0, 'p': 231, 'n': 777},\n",
       "   'scores': {'acc': 0.6132279777582674,\n",
       "    'sens': 0.7022222222222222,\n",
       "    'spec': 0.5807692307692308,\n",
       "    'bacc': 0.6414957264957265},\n",
       "   'score_bounds': None,\n",
       "   'check_score_bounds': True,\n",
       "   'tptn_bounds': None,\n",
       "   'check_tptn_bounds': True,\n",
       "   'downstream_bounds': True,\n",
       "   'folds': [{'figures': {'tn': 0.0, 'tp': 16.0},\n",
       "     'scores': {'acc': 0.23529411764705882,\n",
       "      'sens': 1.0,\n",
       "      'spec': 0.0,\n",
       "      'npv': None,\n",
       "      'ppv': 0.23529411764705882,\n",
       "      'bacc': 0.5,\n",
       "      'f1p': 0.38095238095238093,\n",
       "      'fm': 0.48507125007266594,\n",
       "      'p': 16,\n",
       "      'n': 52,\n",
       "      'tn': 0.0,\n",
       "      'tp': 16.0},\n",
       "     'score_bounds': None,\n",
       "     'check_score_bounds': True,\n",
       "     'tptn_bounds': None,\n",
       "     'check_tptn_bounds': True},\n",
       "    {'figures': {'tn': 52.0, 'tp': 0.0},\n",
       "     'scores': {'acc': 0.7761194029850746,\n",
       "      'sens': 0.0,\n",
       "      'spec': 1.0,\n",
       "      'npv': 0.7761194029850746,\n",
       "      'ppv': None,\n",
       "      'bacc': 0.5,\n",
       "      'f1p': 0.0,\n",
       "      'fm': None,\n",
       "      'p': 15,\n",
       "      'n': 52,\n",
       "      'tn': 52.0,\n",
       "      'tp': 0.0},\n",
       "     'score_bounds': None,\n",
       "     'check_score_bounds': True,\n",
       "     'tptn_bounds': None,\n",
       "     'check_tptn_bounds': True},\n",
       "    {'figures': {'tn': 52.0, 'tp': 8.0},\n",
       "     'scores': {'acc': 0.8955223880597015,\n",
       "      'sens': 0.5333333333333333,\n",
       "      'spec': 1.0,\n",
       "      'npv': 0.8813559322033898,\n",
       "      'ppv': 1.0,\n",
       "      'bacc': 0.7666666666666666,\n",
       "      'f1p': 0.6956521739130435,\n",
       "      'fm': 0.7302967433402214,\n",
       "      'p': 15,\n",
       "      'n': 52,\n",
       "      'tn': 52.0,\n",
       "      'tp': 8.0},\n",
       "     'score_bounds': None,\n",
       "     'check_score_bounds': True,\n",
       "     'tptn_bounds': None,\n",
       "     'check_tptn_bounds': True},\n",
       "    {'figures': {'tn': 52.0, 'tp': 15.0},\n",
       "     'scores': {'acc': 1.0,\n",
       "      'sens': 1.0,\n",
       "      'spec': 1.0,\n",
       "      'npv': 1.0,\n",
       "      'ppv': 1.0,\n",
       "      'bacc': 1.0,\n",
       "      'f1p': 1.0,\n",
       "      'fm': 1.0,\n",
       "      'p': 15,\n",
       "      'n': 52,\n",
       "      'tn': 52.0,\n",
       "      'tp': 15.0},\n",
       "     'score_bounds': None,\n",
       "     'check_score_bounds': True,\n",
       "     'tptn_bounds': None,\n",
       "     'check_tptn_bounds': True},\n",
       "    {'figures': {'tn': 0.0, 'tp': 16.0},\n",
       "     'scores': {'acc': 0.23880597014925373,\n",
       "      'sens': 1.0,\n",
       "      'spec': 0.0,\n",
       "      'npv': None,\n",
       "      'ppv': 0.23880597014925373,\n",
       "      'bacc': 0.5,\n",
       "      'f1p': 0.3855421686746988,\n",
       "      'fm': 0.4886777774252209,\n",
       "      'p': 16,\n",
       "      'n': 51,\n",
       "      'tn': 0.0,\n",
       "      'tp': 16.0},\n",
       "     'score_bounds': None,\n",
       "     'check_score_bounds': True,\n",
       "     'tptn_bounds': None,\n",
       "     'check_tptn_bounds': True},\n",
       "    {'figures': {'tn': 0.0, 'tp': 16.0},\n",
       "     'scores': {'acc': 0.23529411764705882,\n",
       "      'sens': 1.0,\n",
       "      'spec': 0.0,\n",
       "      'npv': None,\n",
       "      'ppv': 0.23529411764705882,\n",
       "      'bacc': 0.5,\n",
       "      'f1p': 0.38095238095238093,\n",
       "      'fm': 0.48507125007266594,\n",
       "      'p': 16,\n",
       "      'n': 52,\n",
       "      'tn': 0.0,\n",
       "      'tp': 16.0},\n",
       "     'score_bounds': None,\n",
       "     'check_score_bounds': True,\n",
       "     'tptn_bounds': None,\n",
       "     'check_tptn_bounds': True},\n",
       "    {'figures': {'tn': 37.0, 'tp': 15.0},\n",
       "     'scores': {'acc': 0.7761194029850746,\n",
       "      'sens': 1.0,\n",
       "      'spec': 0.7115384615384616,\n",
       "      'npv': 1.0,\n",
       "      'ppv': 0.5,\n",
       "      'bacc': 0.8557692307692308,\n",
       "      'f1p': 0.6666666666666666,\n",
       "      'fm': 0.7071067811865475,\n",
       "      'p': 15,\n",
       "      'n': 52,\n",
       "      'tn': 37.0,\n",
       "      'tp': 15.0},\n",
       "     'score_bounds': None,\n",
       "     'check_score_bounds': True,\n",
       "     'tptn_bounds': None,\n",
       "     'check_tptn_bounds': True},\n",
       "    {'figures': {'tn': 52.0, 'tp': 15.0},\n",
       "     'scores': {'acc': 1.0,\n",
       "      'sens': 1.0,\n",
       "      'spec': 1.0,\n",
       "      'npv': 1.0,\n",
       "      'ppv': 1.0,\n",
       "      'bacc': 1.0,\n",
       "      'f1p': 1.0,\n",
       "      'fm': 1.0,\n",
       "      'p': 15,\n",
       "      'n': 52,\n",
       "      'tn': 52.0,\n",
       "      'tp': 15.0},\n",
       "     'score_bounds': None,\n",
       "     'check_score_bounds': True,\n",
       "     'tptn_bounds': None,\n",
       "     'check_tptn_bounds': True},\n",
       "    {'figures': {'tn': 52.0, 'tp': 15.0},\n",
       "     'scores': {'acc': 1.0,\n",
       "      'sens': 1.0,\n",
       "      'spec': 1.0,\n",
       "      'npv': 1.0,\n",
       "      'ppv': 1.0,\n",
       "      'bacc': 1.0,\n",
       "      'f1p': 1.0,\n",
       "      'fm': 1.0,\n",
       "      'p': 15,\n",
       "      'n': 52,\n",
       "      'tn': 52.0,\n",
       "      'tp': 15.0},\n",
       "     'score_bounds': None,\n",
       "     'check_score_bounds': True,\n",
       "     'tptn_bounds': None,\n",
       "     'check_tptn_bounds': True},\n",
       "    {'figures': {'tn': 0.0, 'tp': 16.0},\n",
       "     'scores': {'acc': 0.23880597014925373,\n",
       "      'sens': 1.0,\n",
       "      'spec': 0.0,\n",
       "      'npv': None,\n",
       "      'ppv': 0.23880597014925373,\n",
       "      'bacc': 0.5,\n",
       "      'f1p': 0.3855421686746988,\n",
       "      'fm': 0.4886777774252209,\n",
       "      'p': 16,\n",
       "      'n': 51,\n",
       "      'tn': 0.0,\n",
       "      'tp': 16.0},\n",
       "     'score_bounds': None,\n",
       "     'check_score_bounds': True,\n",
       "     'tptn_bounds': None,\n",
       "     'check_tptn_bounds': True},\n",
       "    {'figures': {'tn': 0.0, 'tp': 16.0},\n",
       "     'scores': {'acc': 0.23529411764705882,\n",
       "      'sens': 1.0,\n",
       "      'spec': 0.0,\n",
       "      'npv': None,\n",
       "      'ppv': 0.23529411764705882,\n",
       "      'bacc': 0.5,\n",
       "      'f1p': 0.38095238095238093,\n",
       "      'fm': 0.48507125007266594,\n",
       "      'p': 16,\n",
       "      'n': 52,\n",
       "      'tn': 0.0,\n",
       "      'tp': 16.0},\n",
       "     'score_bounds': None,\n",
       "     'check_score_bounds': True,\n",
       "     'tptn_bounds': None,\n",
       "     'check_tptn_bounds': True},\n",
       "    {'figures': {'tn': 52.0, 'tp': 0.0},\n",
       "     'scores': {'acc': 0.7761194029850746,\n",
       "      'sens': 0.0,\n",
       "      'spec': 1.0,\n",
       "      'npv': 0.7761194029850746,\n",
       "      'ppv': None,\n",
       "      'bacc': 0.5,\n",
       "      'f1p': 0.0,\n",
       "      'fm': None,\n",
       "      'p': 15,\n",
       "      'n': 52,\n",
       "      'tn': 52.0,\n",
       "      'tp': 0.0},\n",
       "     'score_bounds': None,\n",
       "     'check_score_bounds': True,\n",
       "     'tptn_bounds': None,\n",
       "     'check_tptn_bounds': True},\n",
       "    {'figures': {'tn': 52.0, 'tp': 0.0},\n",
       "     'scores': {'acc': 0.7761194029850746,\n",
       "      'sens': 0.0,\n",
       "      'spec': 1.0,\n",
       "      'npv': 0.7761194029850746,\n",
       "      'ppv': None,\n",
       "      'bacc': 0.5,\n",
       "      'f1p': 0.0,\n",
       "      'fm': None,\n",
       "      'p': 15,\n",
       "      'n': 52,\n",
       "      'tn': 52.0,\n",
       "      'tp': 0.0},\n",
       "     'score_bounds': None,\n",
       "     'check_score_bounds': True,\n",
       "     'tptn_bounds': None,\n",
       "     'check_tptn_bounds': True},\n",
       "    {'figures': {'tn': 52.0, 'tp': 0.0},\n",
       "     'scores': {'acc': 0.7761194029850746,\n",
       "      'sens': 0.0,\n",
       "      'spec': 1.0,\n",
       "      'npv': 0.7761194029850746,\n",
       "      'ppv': None,\n",
       "      'bacc': 0.5,\n",
       "      'f1p': 0.0,\n",
       "      'fm': None,\n",
       "      'p': 15,\n",
       "      'n': 52,\n",
       "      'tn': 52.0,\n",
       "      'tp': 0.0},\n",
       "     'score_bounds': None,\n",
       "     'check_score_bounds': True,\n",
       "     'tptn_bounds': None,\n",
       "     'check_tptn_bounds': True},\n",
       "    {'figures': {'tn': 0.0, 'tp': 16.0},\n",
       "     'scores': {'acc': 0.23880597014925373,\n",
       "      'sens': 1.0,\n",
       "      'spec': 0.0,\n",
       "      'npv': None,\n",
       "      'ppv': 0.23880597014925373,\n",
       "      'bacc': 0.5,\n",
       "      'f1p': 0.3855421686746988,\n",
       "      'fm': 0.4886777774252209,\n",
       "      'p': 16,\n",
       "      'n': 51,\n",
       "      'tn': 0.0,\n",
       "      'tp': 16.0},\n",
       "     'score_bounds': None,\n",
       "     'check_score_bounds': True,\n",
       "     'tptn_bounds': None,\n",
       "     'check_tptn_bounds': True}]}]}"
      ]
     },
     "execution_count": 10,
     "metadata": {},
     "output_type": "execute_result"
    }
   ],
   "source": [
    "experiment2.check_bounds()"
   ]
  },
  {
   "cell_type": "code",
   "execution_count": null,
   "metadata": {},
   "outputs": [],
   "source": []
  },
  {
   "cell_type": "code",
   "execution_count": null,
   "metadata": {},
   "outputs": [],
   "source": [
    "#import pulp as pl\n",
    "#lp_program = pl.LpProblem('feasibility')"
   ]
  },
  {
   "cell_type": "code",
   "execution_count": null,
   "metadata": {},
   "outputs": [],
   "source": [
    "#tp = pl.LpVariable('tp', 0, 5, pl.LpInteger)\n",
    "#tn = pl.LpVariable('tn', 0, 10, pl.LpInteger)"
   ]
  },
  {
   "cell_type": "code",
   "execution_count": null,
   "metadata": {},
   "outputs": [],
   "source": [
    "#lp_program += tp"
   ]
  },
  {
   "cell_type": "code",
   "execution_count": null,
   "metadata": {},
   "outputs": [],
   "source": [
    "#lp_program"
   ]
  },
  {
   "cell_type": "code",
   "execution_count": null,
   "metadata": {},
   "outputs": [],
   "source": [
    "#lp_program += tp <= 5"
   ]
  },
  {
   "cell_type": "code",
   "execution_count": null,
   "metadata": {},
   "outputs": [],
   "source": [
    "#lp_program"
   ]
  },
  {
   "cell_type": "code",
   "execution_count": null,
   "metadata": {},
   "outputs": [
    {
     "name": "stderr",
     "output_type": "stream",
     "text": [
      "2023-08-24 00:26:13,357:INFO:querying p and n from looking up the dataset\n",
      "2023-08-24 00:26:13,358:INFO:creating a folding based on the specification\n"
     ]
    }
   ],
   "source": [
    "dataset = Dataset(name='common_datasets.ADA', n_repeats=2, n_folds=3, aggregation='rom')"
   ]
  },
  {
   "cell_type": "code",
   "execution_count": null,
   "metadata": {},
   "outputs": [
    {
     "ename": "AttributeError",
     "evalue": "'Dataset' object has no attribute 'simulate'",
     "output_type": "error",
     "traceback": [
      "\u001b[0;31m---------------------------------------------------------------------------\u001b[0m",
      "\u001b[0;31mAttributeError\u001b[0m                            Traceback (most recent call last)",
      "Cell \u001b[0;32mIn[18], line 1\u001b[0m\n\u001b[0;32m----> 1\u001b[0m dataset\u001b[39m.\u001b[39;49msimulate()\n",
      "\u001b[0;31mAttributeError\u001b[0m: 'Dataset' object has no attribute 'simulate'"
     ]
    }
   ],
   "source": [
    "dataset.simulate()"
   ]
  },
  {
   "cell_type": "code",
   "execution_count": null,
   "metadata": {},
   "outputs": [
    {
     "data": {
      "text/plain": [
       "{'acc': 0.4115022908126357,\n",
       " 'sens': 0.3542274052478134,\n",
       " 'spec': 0.4304041051956382,\n",
       " 'bacc': 0.3923157552217258}"
      ]
     },
     "execution_count": 10,
     "metadata": {},
     "output_type": "execute_result"
    }
   ],
   "source": [
    "dataset.calculate_scores()"
   ]
  },
  {
   "cell_type": "code",
   "execution_count": null,
   "metadata": {},
   "outputs": [],
   "source": [
    "dataset2 = Dataset(**dataset.to_dict())"
   ]
  },
  {
   "cell_type": "code",
   "execution_count": null,
   "metadata": {},
   "outputs": [
    {
     "data": {
      "text/plain": [
       "{'id': 'common_datasets.ADA',\n",
       " 'score_bounds': None,\n",
       " 'tptn_bounds': None,\n",
       " 'folds': [{'p': 343,\n",
       "   'n': 1040,\n",
       "   'id': 'ADA_0_0',\n",
       "   'score_bounds': None,\n",
       "   'tptn_bounds': None,\n",
       "   'evaluation': {'tp': 304.0, 'tn': 153.0},\n",
       "   'scores': {'acc': 0.3304410701373825,\n",
       "    'sens': 0.8862973760932945,\n",
       "    'spec': 0.14711538461538462,\n",
       "    'npv': 0.796875,\n",
       "    'ppv': 0.25524769101595296,\n",
       "    'bacc': 0.5167063803543396,\n",
       "    'f1p': 0.3963494132985658,\n",
       "    'fm': 0.4756315368027136,\n",
       "    'p': 343,\n",
       "    'n': 1040,\n",
       "    'tp': 304.0,\n",
       "    'tn': 153.0}},\n",
       "  {'p': 343,\n",
       "   'n': 1039,\n",
       "   'id': 'ADA_0_1',\n",
       "   'score_bounds': None,\n",
       "   'tptn_bounds': None,\n",
       "   'evaluation': {'tp': 0.0, 'tn': 679.0},\n",
       "   'scores': {'acc': 0.4913169319826339,\n",
       "    'sens': 0.0,\n",
       "    'spec': 0.6535129932627527,\n",
       "    'npv': 0.6643835616438356,\n",
       "    'ppv': 0.0,\n",
       "    'bacc': 0.32675649663137635,\n",
       "    'f1p': 0.0,\n",
       "    'fm': 0.0,\n",
       "    'p': 343,\n",
       "    'n': 1039,\n",
       "    'tp': 0.0,\n",
       "    'tn': 679.0}},\n",
       "  {'p': 343,\n",
       "   'n': 1039,\n",
       "   'id': 'ADA_0_2',\n",
       "   'score_bounds': None,\n",
       "   'tptn_bounds': None,\n",
       "   'evaluation': {'tp': 56.0, 'tn': 326.0},\n",
       "   'scores': {'acc': 0.276410998552822,\n",
       "    'sens': 0.16326530612244897,\n",
       "    'spec': 0.31376323387872956,\n",
       "    'npv': 0.531810766721044,\n",
       "    'ppv': 0.07282184655396619,\n",
       "    'bacc': 0.23851427000058928,\n",
       "    'f1p': 0.10071942446043165,\n",
       "    'fm': 0.10903797994293225,\n",
       "    'p': 343,\n",
       "    'n': 1039,\n",
       "    'tp': 56.0,\n",
       "    'tn': 326.0}},\n",
       "  {'p': 343,\n",
       "   'n': 1040,\n",
       "   'id': 'ADA_1_0',\n",
       "   'score_bounds': None,\n",
       "   'tptn_bounds': None,\n",
       "   'evaluation': {'tp': 78.0, 'tn': 399.0},\n",
       "   'scores': {'acc': 0.34490238611713664,\n",
       "    'sens': 0.22740524781341107,\n",
       "    'spec': 0.3836538461538462,\n",
       "    'npv': 0.6009036144578314,\n",
       "    'ppv': 0.10848400556328233,\n",
       "    'bacc': 0.3055295469836286,\n",
       "    'f1p': 0.14689265536723164,\n",
       "    'fm': 0.15706633047508842,\n",
       "    'p': 343,\n",
       "    'n': 1040,\n",
       "    'tp': 78.0,\n",
       "    'tn': 399.0}},\n",
       "  {'p': 343,\n",
       "   'n': 1039,\n",
       "   'id': 'ADA_1_1',\n",
       "   'score_bounds': None,\n",
       "   'tptn_bounds': None,\n",
       "   'evaluation': {'tp': 90.0, 'tn': 291.0},\n",
       "   'scores': {'acc': 0.27568740955137483,\n",
       "    'sens': 0.26239067055393583,\n",
       "    'spec': 0.28007699711260825,\n",
       "    'npv': 0.5349264705882353,\n",
       "    'ppv': 0.10739856801909307,\n",
       "    'bacc': 0.27123383383327204,\n",
       "    'f1p': 0.15241320914479256,\n",
       "    'fm': 0.16787013516126784,\n",
       "    'p': 343,\n",
       "    'n': 1039,\n",
       "    'tp': 90.0,\n",
       "    'tn': 291.0}},\n",
       "  {'p': 343,\n",
       "   'n': 1039,\n",
       "   'id': 'ADA_1_2',\n",
       "   'score_bounds': None,\n",
       "   'tptn_bounds': None,\n",
       "   'evaluation': {'tp': 201.0, 'tn': 836.0},\n",
       "   'scores': {'acc': 0.7503617945007236,\n",
       "    'sens': 0.5860058309037901,\n",
       "    'spec': 0.8046198267564967,\n",
       "    'npv': 0.8548057259713702,\n",
       "    'ppv': 0.4975247524752475,\n",
       "    'bacc': 0.6953128288301433,\n",
       "    'f1p': 0.5381526104417671,\n",
       "    'fm': 0.5399559296548746,\n",
       "    'p': 343,\n",
       "    'n': 1039,\n",
       "    'tp': 201.0,\n",
       "    'tn': 836.0}}],\n",
       " 'aggregation': 'rom',\n",
       " 'evaluation': {'tp': 729.0, 'tn': 2684.0, 'p': 2058, 'n': 6236},\n",
       " 'scores': {'acc': 0.4115022908126357,\n",
       "  'sens': 0.3542274052478134,\n",
       "  'spec': 0.4304041051956382,\n",
       "  'bacc': 0.3923157552217258}}"
      ]
     },
     "execution_count": 12,
     "metadata": {},
     "output_type": "execute_result"
    }
   ],
   "source": [
    "dataset.to_dict()"
   ]
  },
  {
   "cell_type": "code",
   "execution_count": null,
   "metadata": {},
   "outputs": [
    {
     "data": {
      "text/plain": [
       "{'acc': 0.4115022908126357,\n",
       " 'sens': 0.3542274052478134,\n",
       " 'spec': 0.4304041051956382,\n",
       " 'bacc': 0.3923157552217258}"
      ]
     },
     "execution_count": 13,
     "metadata": {},
     "output_type": "execute_result"
    }
   ],
   "source": [
    "dataset2.calculate_scores()"
   ]
  },
  {
   "cell_type": "code",
   "execution_count": null,
   "metadata": {},
   "outputs": [],
   "source": [
    "dataset2.aggregation = 'mor'"
   ]
  },
  {
   "cell_type": "code",
   "execution_count": null,
   "metadata": {},
   "outputs": [
    {
     "data": {
      "text/plain": [
       "{'acc': 0.4115200984736789,\n",
       " 'sens': 0.3542274052478134,\n",
       " 'spec': 0.43045704696330295,\n",
       " 'bacc': 0.3923422261055582}"
      ]
     },
     "execution_count": 15,
     "metadata": {},
     "output_type": "execute_result"
    }
   ],
   "source": [
    "dataset2.calculate_scores()"
   ]
  },
  {
   "cell_type": "code",
   "execution_count": null,
   "metadata": {},
   "outputs": [
    {
     "data": {
      "text/plain": [
       "{'acc': 0.4115200984736789,\n",
       " 'sens': 0.3542274052478134,\n",
       " 'spec': 0.43045704696330295,\n",
       " 'bacc': 0.3923422261055582}"
      ]
     },
     "execution_count": 16,
     "metadata": {},
     "output_type": "execute_result"
    }
   ],
   "source": [
    "dataset2.scores"
   ]
  },
  {
   "cell_type": "code",
   "execution_count": null,
   "metadata": {},
   "outputs": [],
   "source": [
    "dataset2.linear_programming"
   ]
  },
  {
   "cell_type": "code",
   "execution_count": null,
   "metadata": {},
   "outputs": [
    {
     "name": "stdout",
     "output_type": "stream",
     "text": [
      "aaa\n",
      "bbb\n",
      "{'acc': 0.4115200984736789, 'sens': 0.3542274052478134, 'spec': 0.43045704696330295, 'bacc': 0.3923422261055582}\n",
      "{'acc': 0.0001, 'sens': 0.0001, 'spec': 0.0001, 'bacc': 0.0001}\n",
      "{'tp': 1*tp_ADA_0_0 + 1*tp_ADA_0_1 + 1*tp_ADA_0_2 + 1*tp_ADA_1_0 + 1*tp_ADA_1_1 + 1*tp_ADA_1_2 + 0, 'tn': 1*tn_ADA_0_0 + 1*tn_ADA_0_1 + 1*tn_ADA_0_2 + 1*tn_ADA_1_0 + 1*tn_ADA_1_1 + 1*tn_ADA_1_2 + 0, 'p': 2058, 'n': 6236, 'acc': 0.00012056908608632747*tn_ADA_0_0 + 0.00012056908608632747*tn_ADA_0_1 + 0.00012056908608632747*tn_ADA_0_2 + 0.00012056908608632747*tn_ADA_1_0 + 0.00012056908608632747*tn_ADA_1_1 + 0.00012056908608632747*tn_ADA_1_2 + 0.00012056908608632747*tp_ADA_0_0 + 0.00012056908608632747*tp_ADA_0_1 + 0.00012056908608632747*tp_ADA_0_2 + 0.00012056908608632747*tp_ADA_1_0 + 0.00012056908608632747*tp_ADA_1_1 + 0.00012056908608632747*tp_ADA_1_2 + 0.0, 'sens': 0.00048590864917395527*tp_ADA_0_0 + 0.00048590864917395527*tp_ADA_0_1 + 0.00048590864917395527*tp_ADA_0_2 + 0.00048590864917395527*tp_ADA_1_0 + 0.00048590864917395527*tp_ADA_1_1 + 0.00048590864917395527*tp_ADA_1_2 + 0.0, 'spec': 0.00016035920461834508*tn_ADA_0_0 + 0.00016035920461834508*tn_ADA_0_1 + 0.00016035920461834508*tn_ADA_0_2 + 0.00016035920461834508*tn_ADA_1_0 + 0.00016035920461834508*tn_ADA_1_1 + 0.00016035920461834508*tn_ADA_1_2 + 0.0, 'bacc': 8.017960230917254e-05*tn_ADA_0_0 + 8.017960230917254e-05*tn_ADA_0_1 + 8.017960230917254e-05*tn_ADA_0_2 + 8.017960230917254e-05*tn_ADA_1_0 + 8.017960230917254e-05*tn_ADA_1_1 + 8.017960230917254e-05*tn_ADA_1_2 + 0.00024295432458697764*tp_ADA_0_0 + 0.00024295432458697764*tp_ADA_0_1 + 0.00024295432458697764*tp_ADA_0_2 + 0.00024295432458697764*tp_ADA_1_0 + 0.00024295432458697764*tp_ADA_1_1 + 0.00024295432458697764*tp_ADA_1_2 + 0.0}\n",
      "0.4115200984736789 0.0001 0.00012056908608632747*tn_ADA_0_0 + 0.00012056908608632747*tn_ADA_0_1 + 0.00012056908608632747*tn_ADA_0_2 + 0.00012056908608632747*tn_ADA_1_0 + 0.00012056908608632747*tn_ADA_1_1 + 0.00012056908608632747*tn_ADA_1_2 + 0.00012056908608632747*tp_ADA_0_0 + 0.00012056908608632747*tp_ADA_0_1 + 0.00012056908608632747*tp_ADA_0_2 + 0.00012056908608632747*tp_ADA_1_0 + 0.00012056908608632747*tp_ADA_1_1 + 0.00012056908608632747*tp_ADA_1_2\n",
      "0.3542274052478134 0.0001 0.00048590864917395527*tp_ADA_0_0 + 0.00048590864917395527*tp_ADA_0_1 + 0.00048590864917395527*tp_ADA_0_2 + 0.00048590864917395527*tp_ADA_1_0 + 0.00048590864917395527*tp_ADA_1_1 + 0.00048590864917395527*tp_ADA_1_2\n",
      "0.43045704696330295 0.0001 0.00016035920461834508*tn_ADA_0_0 + 0.00016035920461834508*tn_ADA_0_1 + 0.00016035920461834508*tn_ADA_0_2 + 0.00016035920461834508*tn_ADA_1_0 + 0.00016035920461834508*tn_ADA_1_1 + 0.00016035920461834508*tn_ADA_1_2\n",
      "0.3923422261055582 0.0001 8.017960230917254e-05*tn_ADA_0_0 + 8.017960230917254e-05*tn_ADA_0_1 + 8.017960230917254e-05*tn_ADA_0_2 + 8.017960230917254e-05*tn_ADA_1_0 + 8.017960230917254e-05*tn_ADA_1_1 + 8.017960230917254e-05*tn_ADA_1_2 + 0.00024295432458697764*tp_ADA_0_0 + 0.00024295432458697764*tp_ADA_0_1 + 0.00024295432458697764*tp_ADA_0_2 + 0.00024295432458697764*tp_ADA_1_0 + 0.00024295432458697764*tp_ADA_1_1 + 0.00024295432458697764*tp_ADA_1_2\n",
      "Welcome to the CBC MILP Solver \n",
      "Version: 2.10.3 \n",
      "Build Date: Dec 15 2019 \n",
      "\n",
      "command line - /home/gykovacs/anaconda3/envs/mlscorecheck/lib/python3.10/site-packages/pulp/solverdir/cbc/linux/64/cbc /tmp/09c3af514ed74e0a9d8c660235ed4813-pulp.mps timeMode elapsed branch printingOptions all solution /tmp/09c3af514ed74e0a9d8c660235ed4813-pulp.sol (default strategy 1)\n",
      "At line 2 NAME          MODEL\n",
      "At line 3 ROWS\n",
      "At line 13 COLUMNS\n",
      "At line 116 RHS\n",
      "At line 125 BOUNDS\n",
      "At line 138 ENDATA\n",
      "Problem MODEL has 8 rows, 12 columns and 72 elements\n",
      "Coin0008I MODEL read with 0 errors\n",
      "Option for timeMode changed from cpu to elapsed\n",
      "Continuous objective value is 728.794 - 0.00 seconds\n",
      "Cgl0004I processed model has 0 rows, 0 columns (0 integer (0 of which binary)) and 0 elements\n",
      "Cbc3007W No integer variables - nothing to do\n",
      "Cuts at root node changed objective from 729 to -1.79769e+308\n",
      "Probing was tried 0 times and created 0 cuts of which 0 were active after adding rounds of cuts (0.000 seconds)\n",
      "Gomory was tried 0 times and created 0 cuts of which 0 were active after adding rounds of cuts (0.000 seconds)\n",
      "Knapsack was tried 0 times and created 0 cuts of which 0 were active after adding rounds of cuts (0.000 seconds)\n",
      "Clique was tried 0 times and created 0 cuts of which 0 were active after adding rounds of cuts (0.000 seconds)\n",
      "MixedIntegerRounding2 was tried 0 times and created 0 cuts of which 0 were active after adding rounds of cuts (0.000 seconds)\n",
      "FlowCover was tried 0 times and created 0 cuts of which 0 were active after adding rounds of cuts (0.000 seconds)\n",
      "TwoMirCuts was tried 0 times and created 0 cuts of which 0 were active after adding rounds of cuts (0.000 seconds)\n",
      "ZeroHalf was tried 0 times and created 0 cuts of which 0 were active after adding rounds of cuts (0.000 seconds)\n",
      "\n",
      "Result - Optimal solution found\n",
      "\n",
      "Objective value:                729.00000000\n",
      "Enumerated nodes:               0\n",
      "Total iterations:               0\n",
      "Time (CPU seconds):             0.00\n",
      "Time (Wallclock seconds):       0.00\n",
      "\n",
      "Option for printingOptions changed from normal to all\n",
      "Total time (CPU seconds):       0.00   (Wallclock seconds):       0.00\n",
      "\n"
     ]
    }
   ],
   "source": [
    "res = solve(dataset, dataset2.scores, eps={'acc': 1e-4, 'sens': 1e-4, 'spec': 1e-4, 'bacc': 1e-4})"
   ]
  },
  {
   "cell_type": "code",
   "execution_count": null,
   "metadata": {},
   "outputs": [
    {
     "data": {
      "text/plain": [
       "<mlscorecheck.aggregated._dataset.Dataset at 0x7fb95dd3f970>"
      ]
     },
     "execution_count": 38,
     "metadata": {},
     "output_type": "execute_result"
    }
   ],
   "source": [
    "dataset2.populate_with_solution(res)"
   ]
  },
  {
   "cell_type": "code",
   "execution_count": null,
   "metadata": {},
   "outputs": [
    {
     "data": {
      "text/plain": [
       "{'acc': 0.4114809454896286,\n",
       " 'sens': 0.3542274052478134,\n",
       " 'spec': 0.43038177735001604,\n",
       " 'bacc': 0.3923045912989147}"
      ]
     },
     "execution_count": 39,
     "metadata": {},
     "output_type": "execute_result"
    }
   ],
   "source": [
    "dataset2.calculate_scores()"
   ]
  },
  {
   "cell_type": "code",
   "execution_count": null,
   "metadata": {},
   "outputs": [
    {
     "data": {
      "text/plain": [
       "{'acc': 0.4115022908126357,\n",
       " 'sens': 0.3542274052478134,\n",
       " 'spec': 0.4304041051956382,\n",
       " 'bacc': 0.3923157552217258}"
      ]
     },
     "execution_count": 40,
     "metadata": {},
     "output_type": "execute_result"
    }
   ],
   "source": [
    "dataset.calculate_scores()"
   ]
  },
  {
   "cell_type": "code",
   "execution_count": null,
   "metadata": {},
   "outputs": [
    {
     "data": {
      "text/plain": [
       "{'tp': 1*tp_ADA_0_0 + 1*tp_ADA_0_1 + 1*tp_ADA_0_2 + 1*tp_ADA_1_0 + 1*tp_ADA_1_1 + 1*tp_ADA_1_2 + 0,\n",
       " 'tn': 1*tn_ADA_0_0 + 1*tn_ADA_0_1 + 1*tn_ADA_0_2 + 1*tn_ADA_1_0 + 1*tn_ADA_1_1 + 1*tn_ADA_1_2 + 0,\n",
       " 'p': 2058,\n",
       " 'n': 6236,\n",
       " 'acc': 0.00012056908608632747*tn_ADA_0_0 + 0.00012056908608632747*tn_ADA_0_1 + 0.00012056908608632747*tn_ADA_0_2 + 0.00012056908608632747*tn_ADA_1_0 + 0.00012056908608632747*tn_ADA_1_1 + 0.00012056908608632747*tn_ADA_1_2 + 0.00012056908608632747*tp_ADA_0_0 + 0.00012056908608632747*tp_ADA_0_1 + 0.00012056908608632747*tp_ADA_0_2 + 0.00012056908608632747*tp_ADA_1_0 + 0.00012056908608632747*tp_ADA_1_1 + 0.00012056908608632747*tp_ADA_1_2 + 0.0,\n",
       " 'sens': 0.00048590864917395527*tp_ADA_0_0 + 0.00048590864917395527*tp_ADA_0_1 + 0.00048590864917395527*tp_ADA_0_2 + 0.00048590864917395527*tp_ADA_1_0 + 0.00048590864917395527*tp_ADA_1_1 + 0.00048590864917395527*tp_ADA_1_2 + 0.0,\n",
       " 'spec': 0.00016035920461834508*tn_ADA_0_0 + 0.00016035920461834508*tn_ADA_0_1 + 0.00016035920461834508*tn_ADA_0_2 + 0.00016035920461834508*tn_ADA_1_0 + 0.00016035920461834508*tn_ADA_1_1 + 0.00016035920461834508*tn_ADA_1_2 + 0.0,\n",
       " 'bacc': 8.017960230917254e-05*tn_ADA_0_0 + 8.017960230917254e-05*tn_ADA_0_1 + 8.017960230917254e-05*tn_ADA_0_2 + 8.017960230917254e-05*tn_ADA_1_0 + 8.017960230917254e-05*tn_ADA_1_1 + 8.017960230917254e-05*tn_ADA_1_2 + 0.00024295432458697764*tp_ADA_0_0 + 0.00024295432458697764*tp_ADA_0_1 + 0.00024295432458697764*tp_ADA_0_2 + 0.00024295432458697764*tp_ADA_1_0 + 0.00024295432458697764*tp_ADA_1_1 + 0.00024295432458697764*tp_ADA_1_2 + 0.0}"
      ]
     },
     "execution_count": 19,
     "metadata": {},
     "output_type": "execute_result"
    }
   ],
   "source": [
    "dataset.linear_programming"
   ]
  },
  {
   "cell_type": "code",
   "execution_count": null,
   "metadata": {},
   "outputs": [
    {
     "data": {
      "text/plain": [
       "{'id': 'common_datasets.ADA',\n",
       " 'score_bounds': None,\n",
       " 'tptn_bounds': None,\n",
       " 'folds': [{'p': 343,\n",
       "   'n': 1040,\n",
       "   'id': 'ADA_0_0',\n",
       "   'score_bounds': None,\n",
       "   'tptn_bounds': None,\n",
       "   'evaluation': {'tp': 304.0, 'tn': 153.0},\n",
       "   'scores': {'acc': 0.3304410701373825,\n",
       "    'sens': 0.8862973760932945,\n",
       "    'spec': 0.14711538461538462,\n",
       "    'npv': 0.796875,\n",
       "    'ppv': 0.25524769101595296,\n",
       "    'bacc': 0.5167063803543396,\n",
       "    'f1p': 0.3963494132985658,\n",
       "    'fm': 0.4756315368027136,\n",
       "    'p': 343,\n",
       "    'n': 1040,\n",
       "    'tp': 304.0,\n",
       "    'tn': 153.0}},\n",
       "  {'p': 343,\n",
       "   'n': 1039,\n",
       "   'id': 'ADA_0_1',\n",
       "   'score_bounds': None,\n",
       "   'tptn_bounds': None,\n",
       "   'evaluation': {'tp': 0.0, 'tn': 679.0},\n",
       "   'scores': {'acc': 0.4913169319826339,\n",
       "    'sens': 0.0,\n",
       "    'spec': 0.6535129932627527,\n",
       "    'npv': 0.6643835616438356,\n",
       "    'ppv': 0.0,\n",
       "    'bacc': 0.32675649663137635,\n",
       "    'f1p': 0.0,\n",
       "    'fm': 0.0,\n",
       "    'p': 343,\n",
       "    'n': 1039,\n",
       "    'tp': 0.0,\n",
       "    'tn': 679.0}},\n",
       "  {'p': 343,\n",
       "   'n': 1039,\n",
       "   'id': 'ADA_0_2',\n",
       "   'score_bounds': None,\n",
       "   'tptn_bounds': None,\n",
       "   'evaluation': {'tp': 56.0, 'tn': 326.0},\n",
       "   'scores': {'acc': 0.276410998552822,\n",
       "    'sens': 0.16326530612244897,\n",
       "    'spec': 0.31376323387872956,\n",
       "    'npv': 0.531810766721044,\n",
       "    'ppv': 0.07282184655396619,\n",
       "    'bacc': 0.23851427000058928,\n",
       "    'f1p': 0.10071942446043165,\n",
       "    'fm': 0.10903797994293225,\n",
       "    'p': 343,\n",
       "    'n': 1039,\n",
       "    'tp': 56.0,\n",
       "    'tn': 326.0}},\n",
       "  {'p': 343,\n",
       "   'n': 1040,\n",
       "   'id': 'ADA_1_0',\n",
       "   'score_bounds': None,\n",
       "   'tptn_bounds': None,\n",
       "   'evaluation': {'tp': 78.0, 'tn': 399.0},\n",
       "   'scores': {'acc': 0.34490238611713664,\n",
       "    'sens': 0.22740524781341107,\n",
       "    'spec': 0.3836538461538462,\n",
       "    'npv': 0.6009036144578314,\n",
       "    'ppv': 0.10848400556328233,\n",
       "    'bacc': 0.3055295469836286,\n",
       "    'f1p': 0.14689265536723164,\n",
       "    'fm': 0.15706633047508842,\n",
       "    'p': 343,\n",
       "    'n': 1040,\n",
       "    'tp': 78.0,\n",
       "    'tn': 399.0}},\n",
       "  {'p': 343,\n",
       "   'n': 1039,\n",
       "   'id': 'ADA_1_1',\n",
       "   'score_bounds': None,\n",
       "   'tptn_bounds': None,\n",
       "   'evaluation': {'tp': 90.0, 'tn': 291.0},\n",
       "   'scores': {'acc': 0.27568740955137483,\n",
       "    'sens': 0.26239067055393583,\n",
       "    'spec': 0.28007699711260825,\n",
       "    'npv': 0.5349264705882353,\n",
       "    'ppv': 0.10739856801909307,\n",
       "    'bacc': 0.27123383383327204,\n",
       "    'f1p': 0.15241320914479256,\n",
       "    'fm': 0.16787013516126784,\n",
       "    'p': 343,\n",
       "    'n': 1039,\n",
       "    'tp': 90.0,\n",
       "    'tn': 291.0}},\n",
       "  {'p': 343,\n",
       "   'n': 1039,\n",
       "   'id': 'ADA_1_2',\n",
       "   'score_bounds': None,\n",
       "   'tptn_bounds': None,\n",
       "   'evaluation': {'tp': 201.0, 'tn': 836.0},\n",
       "   'scores': {'acc': 0.7503617945007236,\n",
       "    'sens': 0.5860058309037901,\n",
       "    'spec': 0.8046198267564967,\n",
       "    'npv': 0.8548057259713702,\n",
       "    'ppv': 0.4975247524752475,\n",
       "    'bacc': 0.6953128288301433,\n",
       "    'f1p': 0.5381526104417671,\n",
       "    'fm': 0.5399559296548746,\n",
       "    'p': 343,\n",
       "    'n': 1039,\n",
       "    'tp': 201.0,\n",
       "    'tn': 836.0}}],\n",
       " 'aggregation': 'rom',\n",
       " 'evaluation': {'tp': 729.0, 'tn': 2684.0, 'p': 2058, 'n': 6236},\n",
       " 'scores': {'acc': 0.4115022908126357,\n",
       "  'sens': 0.3542274052478134,\n",
       "  'spec': 0.4304041051956382,\n",
       "  'bacc': 0.3923157552217258}}"
      ]
     },
     "execution_count": 20,
     "metadata": {},
     "output_type": "execute_result"
    }
   ],
   "source": [
    "dataset.to_dict()"
   ]
  },
  {
   "cell_type": "code",
   "execution_count": null,
   "metadata": {},
   "outputs": [
    {
     "data": {
      "text/plain": [
       "{'acc': 0.4115022908126357,\n",
       " 'sens': 0.3542274052478134,\n",
       " 'spec': 0.4304041051956382,\n",
       " 'bacc': 0.3923157552217258}"
      ]
     },
     "execution_count": 21,
     "metadata": {},
     "output_type": "execute_result"
    }
   ],
   "source": [
    "dataset.calculate_scores()"
   ]
  },
  {
   "cell_type": "code",
   "execution_count": null,
   "metadata": {},
   "outputs": [],
   "source": [
    "fold = Fold(p=5, n=10, id='fold_0')"
   ]
  },
  {
   "cell_type": "code",
   "execution_count": null,
   "metadata": {},
   "outputs": [],
   "source": [
    "fold2 = Fold(**fold.to_dict(True))"
   ]
  },
  {
   "cell_type": "code",
   "execution_count": null,
   "metadata": {},
   "outputs": [
    {
     "data": {
      "text/plain": [
       "{'p': 5,\n",
       " 'n': 10,\n",
       " 'id': 'fold_0',\n",
       " 'score_bounds': None,\n",
       " 'tptn_bounds': None,\n",
       " 'evaluation': None,\n",
       " 'scores': None}"
      ]
     },
     "execution_count": 24,
     "metadata": {},
     "output_type": "execute_result"
    }
   ],
   "source": [
    "fold2.to_dict()"
   ]
  },
  {
   "cell_type": "code",
   "execution_count": null,
   "metadata": {},
   "outputs": [
    {
     "data": {
      "text/plain": [
       "<mlscorecheck.aggregated._fold.Fold at 0x7fb8f8ce5f60>"
      ]
     },
     "execution_count": 25,
     "metadata": {},
     "output_type": "execute_result"
    }
   ],
   "source": [
    "fold.simulate()"
   ]
  },
  {
   "cell_type": "code",
   "execution_count": null,
   "metadata": {},
   "outputs": [
    {
     "data": {
      "text/plain": [
       "{'acc': 0.13333333333333333,\n",
       " 'sens': 0.0,\n",
       " 'spec': 0.2,\n",
       " 'npv': 0.2857142857142857,\n",
       " 'ppv': 0.0,\n",
       " 'bacc': 0.1,\n",
       " 'f1p': 0.0,\n",
       " 'fm': 0.0,\n",
       " 'p': 5,\n",
       " 'n': 10,\n",
       " 'tp': 0.0,\n",
       " 'tn': 2.0}"
      ]
     },
     "execution_count": 26,
     "metadata": {},
     "output_type": "execute_result"
    }
   ],
   "source": [
    "fold.calculate_scores()"
   ]
  },
  {
   "cell_type": "code",
   "execution_count": null,
   "metadata": {},
   "outputs": [
    {
     "data": {
      "text/plain": [
       "{'acc': 0.13333333333333333,\n",
       " 'sens': 0.0,\n",
       " 'spec': 0.2,\n",
       " 'npv': 0.2857142857142857,\n",
       " 'ppv': 0.0,\n",
       " 'bacc': 0.1,\n",
       " 'f1p': 0.0,\n",
       " 'fm': 0.0,\n",
       " 'p': 5,\n",
       " 'n': 10,\n",
       " 'tp': 0.0,\n",
       " 'tn': 2.0}"
      ]
     },
     "execution_count": 27,
     "metadata": {},
     "output_type": "execute_result"
    }
   ],
   "source": [
    "fold.scores"
   ]
  },
  {
   "cell_type": "code",
   "execution_count": null,
   "metadata": {},
   "outputs": [
    {
     "data": {
      "text/plain": [
       "{'tp': 0.0, 'tn': 2.0}"
      ]
     },
     "execution_count": 28,
     "metadata": {},
     "output_type": "execute_result"
    }
   ],
   "source": [
    "fold.evaluation"
   ]
  },
  {
   "cell_type": "code",
   "execution_count": null,
   "metadata": {},
   "outputs": [
    {
     "data": {
      "text/plain": [
       "{'acc': 0.13333333333333333,\n",
       " 'sens': 0.0,\n",
       " 'spec': 0.2,\n",
       " 'npv': 0.2857142857142857,\n",
       " 'ppv': 0.0,\n",
       " 'bacc': 0.1,\n",
       " 'f1p': 0.0,\n",
       " 'fm': 0.0,\n",
       " 'p': 5,\n",
       " 'n': 10,\n",
       " 'tp': 0.0,\n",
       " 'tn': 2.0}"
      ]
     },
     "execution_count": 29,
     "metadata": {},
     "output_type": "execute_result"
    }
   ],
   "source": [
    "fold.scores"
   ]
  },
  {
   "cell_type": "code",
   "execution_count": null,
   "metadata": {},
   "outputs": [
    {
     "data": {
      "text/plain": [
       "(5, 10)"
      ]
     },
     "execution_count": 30,
     "metadata": {},
     "output_type": "execute_result"
    }
   ],
   "source": [
    "fold.p, fold.n"
   ]
  },
  {
   "cell_type": "code",
   "execution_count": null,
   "metadata": {},
   "outputs": [
    {
     "name": "stdout",
     "output_type": "stream",
     "text": [
      "{'acc': 0.13333333333333333, 'sens': 0.0, 'spec': 0.2, 'npv': 0.2857142857142857, 'ppv': 0.0, 'bacc': 0.1, 'f1p': 0.0, 'fm': 0.0, 'p': 5, 'n': 10, 'tp': 0.0, 'tn': 2.0}\n",
      "{'acc': 0.0001, 'sens': 0.0001, 'spec': 0.0001, 'bacc': 0.0001}\n",
      "{'tp': tp_fold_0, 'tn': tn_fold_0, 'acc': 0.06666666666666667*tn_fold_0 + 0.06666666666666667*tp_fold_0 + 0.0, 'sens': 0.2*tp_fold_0 + 0.0, 'spec': 0.1*tn_fold_0 + 0.0, 'bacc': 0.05*tn_fold_0 + 0.1*tp_fold_0 + 0.0}\n",
      "0.13333333333333333 0.0001 0.06666666666666667*tn_fold_0 + 0.06666666666666667*tp_fold_0\n",
      "0.0 0.0001 0.2*tp_fold_0\n",
      "0.2 0.0001 0.1*tn_fold_0\n",
      "0.1 0.0001 0.05*tn_fold_0 + 0.1*tp_fold_0\n",
      "Welcome to the CBC MILP Solver \n",
      "Version: 2.10.3 \n",
      "Build Date: Dec 15 2019 \n",
      "\n",
      "command line - /home/gykovacs/anaconda3/envs/mlscorecheck/lib/python3.10/site-packages/pulp/solverdir/cbc/linux/64/cbc /tmp/b9b5d0b1b43b4522981de5ca07abd1ac-pulp.mps timeMode elapsed branch printingOptions all solution /tmp/b9b5d0b1b43b4522981de5ca07abd1ac-pulp.sol (default strategy 1)\n",
      "At line 2 NAME          MODEL\n",
      "At line 3 ROWS\n",
      "At line 13 COLUMNS\n",
      "At line 31 RHS\n",
      "At line 40 BOUNDS\n",
      "At line 43 ENDATA\n",
      "Problem MODEL has 8 rows, 2 columns and 12 elements\n",
      "Coin0008I MODEL read with 0 errors\n",
      "Option for timeMode changed from cpu to elapsed\n",
      "Continuous objective value is 0 - 0.00 seconds\n",
      "Cgl0004I processed model has 0 rows, 0 columns (0 integer (0 of which binary)) and 0 elements\n",
      "Cbc3007W No integer variables - nothing to do\n",
      "Cuts at root node changed objective from 0 to -1.79769e+308\n",
      "Probing was tried 0 times and created 0 cuts of which 0 were active after adding rounds of cuts (0.000 seconds)\n",
      "Gomory was tried 0 times and created 0 cuts of which 0 were active after adding rounds of cuts (0.000 seconds)\n",
      "Knapsack was tried 0 times and created 0 cuts of which 0 were active after adding rounds of cuts (0.000 seconds)\n",
      "Clique was tried 0 times and created 0 cuts of which 0 were active after adding rounds of cuts (0.000 seconds)\n",
      "MixedIntegerRounding2 was tried 0 times and created 0 cuts of which 0 were active after adding rounds of cuts (0.000 seconds)\n",
      "FlowCover was tried 0 times and created 0 cuts of which 0 were active after adding rounds of cuts (0.000 seconds)\n",
      "TwoMirCuts was tried 0 times and created 0 cuts of which 0 were active after adding rounds of cuts (0.000 seconds)\n",
      "ZeroHalf was tried 0 times and created 0 cuts of which 0 were active after adding rounds of cuts (0.000 seconds)\n",
      "\n",
      "Result - Optimal solution found\n",
      "\n",
      "Objective value:                0.00000000\n",
      "Enumerated nodes:               0\n",
      "Total iterations:               1\n",
      "Time (CPU seconds):             0.00\n",
      "Time (Wallclock seconds):       0.00\n",
      "\n",
      "Option for printingOptions changed from normal to all\n",
      "Total time (CPU seconds):       0.00   (Wallclock seconds):       0.00\n",
      "\n"
     ]
    }
   ],
   "source": [
    "res = solve(fold, fold.scores, eps={'acc': 1e-4, 'sens': 1e-4, 'spec': 1e-4, 'bacc': 1e-4})"
   ]
  },
  {
   "cell_type": "code",
   "execution_count": null,
   "metadata": {},
   "outputs": [
    {
     "data": {
      "text/plain": [
       "1"
      ]
     },
     "execution_count": 32,
     "metadata": {},
     "output_type": "execute_result"
    }
   ],
   "source": [
    "res.status"
   ]
  },
  {
   "cell_type": "code",
   "execution_count": null,
   "metadata": {},
   "outputs": [
    {
     "data": {
      "text/plain": [
       "[tn_fold_0, tp_fold_0]"
      ]
     },
     "execution_count": 33,
     "metadata": {},
     "output_type": "execute_result"
    }
   ],
   "source": [
    "res.variables()"
   ]
  },
  {
   "cell_type": "code",
   "execution_count": null,
   "metadata": {},
   "outputs": [
    {
     "data": {
      "text/plain": [
       "{'acc': 0.13333333333333333,\n",
       " 'sens': 0.0,\n",
       " 'spec': 0.2,\n",
       " 'npv': 0.2857142857142857,\n",
       " 'ppv': 0.0,\n",
       " 'bacc': 0.1,\n",
       " 'f1p': 0.0,\n",
       " 'fm': 0.0,\n",
       " 'p': 5,\n",
       " 'n': 10,\n",
       " 'tn': 2.0,\n",
       " 'tp': 0.0}"
      ]
     },
     "execution_count": 34,
     "metadata": {},
     "output_type": "execute_result"
    }
   ],
   "source": [
    "fold.populate_with_solution(res).calculate_scores()"
   ]
  },
  {
   "cell_type": "code",
   "execution_count": null,
   "metadata": {},
   "outputs": [
    {
     "data": {
      "text/plain": [
       "{'tn': 2.0, 'tp': 0.0}"
      ]
     },
     "execution_count": 35,
     "metadata": {},
     "output_type": "execute_result"
    }
   ],
   "source": [
    "fold.evaluation"
   ]
  },
  {
   "cell_type": "code",
   "execution_count": null,
   "metadata": {},
   "outputs": [
    {
     "data": {
      "text/plain": [
       "{'acc': 0.13333333333333333,\n",
       " 'sens': 0.0,\n",
       " 'spec': 0.2,\n",
       " 'npv': 0.2857142857142857,\n",
       " 'ppv': 0.0,\n",
       " 'bacc': 0.1,\n",
       " 'f1p': 0.0,\n",
       " 'fm': 0.0,\n",
       " 'p': 5,\n",
       " 'n': 10,\n",
       " 'tn': 2.0,\n",
       " 'tp': 0.0}"
      ]
     },
     "execution_count": 36,
     "metadata": {},
     "output_type": "execute_result"
    }
   ],
   "source": [
    "fold.calculate_scores()"
   ]
  },
  {
   "cell_type": "code",
   "execution_count": null,
   "metadata": {},
   "outputs": [],
   "source": []
  }
 ],
 "metadata": {
  "kernelspec": {
   "display_name": "mlscorecheck",
   "language": "python",
   "name": "python3"
  },
  "language_info": {
   "codemirror_mode": {
    "name": "ipython",
    "version": 3
   },
   "file_extension": ".py",
   "mimetype": "text/x-python",
   "name": "python",
   "nbconvert_exporter": "python",
   "pygments_lexer": "ipython3",
   "version": "3.10.0"
  },
  "orig_nbformat": 4
 },
 "nbformat": 4,
 "nbformat_minor": 2
}
