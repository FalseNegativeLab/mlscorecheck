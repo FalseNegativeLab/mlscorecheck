{
 "cells": [
  {
   "cell_type": "code",
   "execution_count": 54,
   "metadata": {},
   "outputs": [],
   "source": [
    "import pandas as pd\n",
    "\n",
    "from mlscorecheck.individual import calculate_scores\n",
    "from mlscorecheck.scores import score_functions_with_solutions"
   ]
  },
  {
   "cell_type": "code",
   "execution_count": 55,
   "metadata": {},
   "outputs": [],
   "source": [
    "folds = [{'p': 100, 'n': 201, 'tp': 78, 'tn': 189},\n",
    "            {'p': 100, 'n': 200, 'tp': 65, 'tn': 191},\n",
    "            {'p': 100, 'n': 200, 'tp': 81, 'tn': 160},\n",
    "            {'p': 101, 'n': 200, 'tp': 75, 'tn': 164},\n",
    "            {'p': 101, 'n': 200, 'tp': 72, 'tn': 171}]"
   ]
  },
  {
   "cell_type": "code",
   "execution_count": 56,
   "metadata": {},
   "outputs": [
    {
     "name": "stdout",
     "output_type": "stream",
     "text": [
      "\\begin{tabular}{rrrrr}\n",
      "\\toprule\n",
      "fold & p & n & tp & tn \\\\\n",
      "\\midrule\n",
      "0 & 100 & 201 & 78 & 189 \\\\\n",
      "1 & 100 & 200 & 65 & 191 \\\\\n",
      "2 & 100 & 200 & 81 & 160 \\\\\n",
      "3 & 101 & 200 & 75 & 164 \\\\\n",
      "4 & 101 & 200 & 72 & 171 \\\\\n",
      "\\bottomrule\n",
      "\\end{tabular}\n",
      "\n"
     ]
    }
   ],
   "source": [
    "tmp = pd.DataFrame(folds).reset_index(drop=False)\n",
    "tmp.columns = ['fold', 'p', 'n', 'tp', 'tn']\n",
    "print(tmp.to_latex(index=False))"
   ]
  },
  {
   "cell_type": "code",
   "execution_count": 57,
   "metadata": {},
   "outputs": [],
   "source": [
    "mos_scores = dict.fromkeys(score_functions_with_solutions, 0.0)\n",
    "for fold in folds:\n",
    "    scores = calculate_scores(fold | {'beta_positive': 2, 'beta_negative': 2})\n",
    "    for key in scores:\n",
    "        mos_scores[key] += scores[key]\n",
    "\n",
    "for key in mos_scores:\n",
    "    mos_scores[key] /= len(folds)\n",
    "\n",
    "totals = {'p': 0, 'n': 0, 'tp': 0, 'tn': 0}\n",
    "for fold in folds:\n",
    "    for key in fold:\n",
    "        totals[key] += fold[key]\n",
    "som_scores = calculate_scores(totals | {'beta_positive': 2, 'beta_negative': 2})\n",
    "\n"
   ]
  },
  {
   "cell_type": "code",
   "execution_count": 58,
   "metadata": {},
   "outputs": [],
   "source": [
    "tmp = pd.DataFrame([mos_scores, som_scores]).T\n",
    "tmp.columns = ['MoS', 'SoM']"
   ]
  },
  {
   "cell_type": "code",
   "execution_count": 59,
   "metadata": {},
   "outputs": [],
   "source": [
    "pd.options.display.float_format = '{:,.4f}'.format"
   ]
  },
  {
   "cell_type": "code",
   "execution_count": 60,
   "metadata": {},
   "outputs": [],
   "source": [
    "import numpy as np"
   ]
  },
  {
   "cell_type": "code",
   "execution_count": 61,
   "metadata": {},
   "outputs": [],
   "source": [
    "tmp['MoS'] = tmp['MoS'].apply(lambda x: np.round(x, 4))\n",
    "tmp['SoM'] = tmp['SoM'].apply(lambda x: np.round(x, 4))"
   ]
  },
  {
   "cell_type": "code",
   "execution_count": 62,
   "metadata": {},
   "outputs": [],
   "source": [
    "tmp = tmp.drop(['fbp', 'fbn', 'p4'], axis='index')\n",
    "tmp = tmp.reset_index(drop=False)\n",
    "tmp.columns = ['score', 'MoS', 'SoM']\n",
    "latex = tmp.to_latex(index=False)"
   ]
  },
  {
   "cell_type": "code",
   "execution_count": 81,
   "metadata": {},
   "outputs": [],
   "source": [
    "tmp = tmp.sort_values('score')"
   ]
  },
  {
   "cell_type": "code",
   "execution_count": 82,
   "metadata": {},
   "outputs": [],
   "source": [
    "tmp2 = pd.concat([tmp.iloc[:5].reset_index(drop=True),\n",
    "                  tmp.iloc[5:10].reset_index(drop=True),\n",
    "                  tmp.iloc[10:15].reset_index(drop=True),\n",
    "                  tmp.iloc[15:].reset_index(drop=True)], axis=1)"
   ]
  },
  {
   "cell_type": "code",
   "execution_count": 83,
   "metadata": {},
   "outputs": [],
   "source": [
    "latex = tmp2.to_latex(index=False)"
   ]
  },
  {
   "cell_type": "code",
   "execution_count": 84,
   "metadata": {},
   "outputs": [],
   "source": [
    "latex = latex.replace('f1p', '$f^1_+$').replace('f1n', '$f^1_-$').replace('00', '')"
   ]
  },
  {
   "cell_type": "code",
   "execution_count": 85,
   "metadata": {},
   "outputs": [
    {
     "name": "stdout",
     "output_type": "stream",
     "text": [
      "\\begin{tabular}{lrrlrrlrrlrr}\n",
      "\\toprule\n",
      "score & MoS & SoM & score & MoS & SoM & score & MoS & SoM & score & MoS & SoM \\\\\n",
      "\\midrule\n",
      "acc & 0.8290 & 0.8290 & $f^1_+$ & 0.7443 & 0.7427 & lrn & 0.2975 & 0.2985 & ppv & 0.7606 & 0.7465 \\\\\n",
      "bacc & 0.8066 & 0.8066 & fm & 0.7471 & 0.7428 & lrp & 8.1202 & 5.8713 & pt & 0.2795 & 0.2921 \\\\\n",
      "bm & 0.6131 & 0.6132 & gm & 0.8021 & 0.8038 & mcc & 0.6215 & 0.6147 & sens & 0.7391 & 0.7390 \\\\\n",
      "dor & 28.0174 & 19.6671 & ji & 0.5945 & 0.5908 & mk & 0.6312 & 0.6163 & spec & 0.8741 & 0.8741 \\\\\n",
      "$f^1_-$ & 0.8709 & 0.8719 & kappa & 0.6165 & 0.6147 & npv & 0.8706 & 0.8698 & upm & 0.8025 & 0.8022 \\\\\n",
      "\\bottomrule\n",
      "\\end{tabular}\n",
      "\n"
     ]
    }
   ],
   "source": [
    "print(latex)"
   ]
  },
  {
   "cell_type": "code",
   "execution_count": 86,
   "metadata": {},
   "outputs": [],
   "source": [
    "from mlscorecheck.check import check_1_dataset_known_folds_mos_scores"
   ]
  },
  {
   "cell_type": "code",
   "execution_count": 87,
   "metadata": {},
   "outputs": [
    {
     "data": {
      "text/plain": [
       "[{'p': 100, 'n': 201, 'tp': 78, 'tn': 189},\n",
       " {'p': 100, 'n': 200, 'tp': 65, 'tn': 191},\n",
       " {'p': 100, 'n': 200, 'tp': 81, 'tn': 160},\n",
       " {'p': 101, 'n': 200, 'tp': 75, 'tn': 164},\n",
       " {'p': 101, 'n': 200, 'tp': 72, 'tn': 171}]"
      ]
     },
     "execution_count": 87,
     "metadata": {},
     "output_type": "execute_result"
    }
   ],
   "source": [
    "folds"
   ]
  },
  {
   "cell_type": "code",
   "execution_count": 97,
   "metadata": {},
   "outputs": [],
   "source": [
    "mos_scores = {key: np.round(value, 4) for key, value in mos_scores.items()}"
   ]
  },
  {
   "cell_type": "code",
   "execution_count": 98,
   "metadata": {},
   "outputs": [],
   "source": [
    "mos_scores_test = {key: value for key, value in mos_scores.items() if key in ['acc', 'sens', 'spec']}"
   ]
  },
  {
   "cell_type": "code",
   "execution_count": 99,
   "metadata": {},
   "outputs": [
    {
     "name": "stdout",
     "output_type": "stream",
     "text": [
      "Welcome to the CBC MILP Solver \n",
      "Version: 2.10.3 \n",
      "Build Date: Dec 15 2019 \n",
      "\n",
      "command line - /home/gykovacs/anaconda3/envs/mlscorecheck/lib/python3.10/site-packages/pulp/solverdir/cbc/linux/64/cbc /tmp/c8e3067943154da192f05a118b77bcf2-pulp.mps timeMode elapsed branch printingOptions all solution /tmp/c8e3067943154da192f05a118b77bcf2-pulp.sol (default strategy 1)\n",
      "At line 2 NAME          MODEL\n",
      "At line 3 ROWS\n",
      "At line 11 COLUMNS\n",
      "At line 73 RHS\n",
      "At line 80 BOUNDS\n",
      "At line 92 ENDATA\n",
      "Problem MODEL has 6 rows, 11 columns and 40 elements\n",
      "Coin0008I MODEL read with 0 errors\n",
      "Option for timeMode changed from cpu to elapsed\n",
      "Continuous objective value is 0 - 0.00 seconds\n",
      "Cgl0004I processed model has 3 rows, 6 columns (6 integer (0 of which binary)) and 12 elements\n",
      "Cbc0012I Integer solution of 0 found by DiveCoefficient after 8 iterations and 0 nodes (0.00 seconds)\n",
      "Cbc0031I 1 added rows had average density of 3\n",
      "Cbc0013I At root node, 1 cuts changed objective from 0 to 0 in 5 passes\n",
      "Cbc0014I Cut generator 0 (Probing) - 0 row cuts average 0.0 elements, 0 column cuts (0 active)  in 0.000 seconds - new frequency is -100\n",
      "Cbc0014I Cut generator 1 (Gomory) - 7 row cuts average 2.1 elements, 0 column cuts (0 active)  in 0.000 seconds - new frequency is -100\n",
      "Cbc0014I Cut generator 2 (Knapsack) - 0 row cuts average 0.0 elements, 0 column cuts (0 active)  in 0.000 seconds - new frequency is -100\n",
      "Cbc0014I Cut generator 3 (Clique) - 0 row cuts average 0.0 elements, 0 column cuts (0 active)  in 0.000 seconds - new frequency is -100\n",
      "Cbc0014I Cut generator 4 (MixedIntegerRounding2) - 0 row cuts average 0.0 elements, 0 column cuts (0 active)  in 0.000 seconds - new frequency is -100\n",
      "Cbc0014I Cut generator 5 (FlowCover) - 0 row cuts average 0.0 elements, 0 column cuts (0 active)  in 0.000 seconds - new frequency is -100\n",
      "Cbc0014I Cut generator 6 (TwoMirCuts) - 7 row cuts average 2.1 elements, 0 column cuts (0 active)  in 0.000 seconds - new frequency is -100\n",
      "Cbc0001I Search completed - best objective 0, took 8 iterations and 0 nodes (0.00 seconds)\n",
      "Cbc0035I Maximum depth 0, 0 variables fixed on reduced cost\n",
      "Cuts at root node changed objective from 0 to 0\n",
      "Probing was tried 5 times and created 0 cuts of which 0 were active after adding rounds of cuts (0.000 seconds)\n",
      "Gomory was tried 5 times and created 7 cuts of which 0 were active after adding rounds of cuts (0.000 seconds)\n",
      "Knapsack was tried 5 times and created 0 cuts of which 0 were active after adding rounds of cuts (0.000 seconds)\n",
      "Clique was tried 5 times and created 0 cuts of which 0 were active after adding rounds of cuts (0.000 seconds)\n",
      "MixedIntegerRounding2 was tried 5 times and created 0 cuts of which 0 were active after adding rounds of cuts (0.000 seconds)\n",
      "FlowCover was tried 5 times and created 0 cuts of which 0 were active after adding rounds of cuts (0.000 seconds)\n",
      "TwoMirCuts was tried 5 times and created 7 cuts of which 0 were active after adding rounds of cuts (0.000 seconds)\n",
      "ZeroHalf was tried 1 times and created 0 cuts of which 0 were active after adding rounds of cuts (0.000 seconds)\n",
      "\n",
      "Result - Optimal solution found\n",
      "\n",
      "Objective value:                0.00000000\n",
      "Enumerated nodes:               0\n",
      "Total iterations:               8\n",
      "Time (CPU seconds):             0.01\n",
      "Time (Wallclock seconds):       0.01\n",
      "\n",
      "Option for printingOptions changed from normal to all\n",
      "Total time (CPU seconds):       0.01   (Wallclock seconds):       0.01\n",
      "\n"
     ]
    },
    {
     "data": {
      "text/plain": [
       "{'inconsistency': False,\n",
       " 'lp_scores': {'acc': 0.8290786267995571,\n",
       "  'sens': 0.7391881188118812,\n",
       "  'spec': 0.874,\n",
       "  'bacc': 0.8065940594059405},\n",
       " 'lp_status': 'feasible',\n",
       " 'lp_configuration_scores_match': True,\n",
       " 'lp_configuration_bounds_match': True,\n",
       " 'lp_configuration': {'evaluations': [{'folds': {'folds': [{'fold': {'p': 100,\n",
       "        'n': 201,\n",
       "        'identifier': 'eihnh',\n",
       "        'tp': 100.0,\n",
       "        'tn': 201.0},\n",
       "       'scores': {'acc': 1.0, 'sens': 1.0, 'spec': 1.0, 'bacc': 1.0},\n",
       "       'score_bounds': None,\n",
       "       'bounds_flag': True},\n",
       "      {'fold': {'p': 100,\n",
       "        'n': 200,\n",
       "        'identifier': 'youur',\n",
       "        'tp': 100.0,\n",
       "        'tn': 200.0},\n",
       "       'scores': {'acc': 1.0, 'sens': 1.0, 'spec': 1.0, 'bacc': 1.0},\n",
       "       'score_bounds': None,\n",
       "       'bounds_flag': True},\n",
       "      {'fold': {'p': 100,\n",
       "        'n': 200,\n",
       "        'identifier': 'dqjok',\n",
       "        'tp': 29.0,\n",
       "        'tn': 200.0},\n",
       "       'scores': {'acc': 0.7633333333333334,\n",
       "        'sens': 0.29,\n",
       "        'spec': 1.0,\n",
       "        'bacc': 0.645},\n",
       "       'score_bounds': None,\n",
       "       'bounds_flag': True},\n",
       "      {'fold': {'p': 101,\n",
       "        'n': 200,\n",
       "        'identifier': 'tdpye',\n",
       "        'tp': 101.0,\n",
       "        'tn': 200.0},\n",
       "       'scores': {'acc': 1.0, 'sens': 1.0, 'spec': 1.0, 'bacc': 1.0},\n",
       "       'score_bounds': None,\n",
       "       'bounds_flag': True},\n",
       "      {'fold': {'p': 101,\n",
       "        'n': 200,\n",
       "        'identifier': 'cmfgu',\n",
       "        'tp': 41.0,\n",
       "        'tn': 74.0},\n",
       "       'scores': {'acc': 0.38205980066445183,\n",
       "        'sens': 0.40594059405940597,\n",
       "        'spec': 0.37,\n",
       "        'bacc': 0.387970297029703},\n",
       "       'score_bounds': None,\n",
       "       'bounds_flag': True}],\n",
       "     'bounds_flag': True},\n",
       "    'scores': {'acc': 0.8290786267995571,\n",
       "     'sens': 0.7391881188118812,\n",
       "     'spec': 0.874,\n",
       "     'bacc': 0.8065940594059405},\n",
       "    'score_bounds': None,\n",
       "    'bounds_flag': {'folds': [{'fold': {'p': 100,\n",
       "        'n': 201,\n",
       "        'identifier': 'eihnh',\n",
       "        'tp': 100.0,\n",
       "        'tn': 201.0},\n",
       "       'scores': {'acc': 1.0, 'sens': 1.0, 'spec': 1.0, 'bacc': 1.0},\n",
       "       'score_bounds': None,\n",
       "       'bounds_flag': True},\n",
       "      {'fold': {'p': 100,\n",
       "        'n': 200,\n",
       "        'identifier': 'youur',\n",
       "        'tp': 100.0,\n",
       "        'tn': 200.0},\n",
       "       'scores': {'acc': 1.0, 'sens': 1.0, 'spec': 1.0, 'bacc': 1.0},\n",
       "       'score_bounds': None,\n",
       "       'bounds_flag': True},\n",
       "      {'fold': {'p': 100,\n",
       "        'n': 200,\n",
       "        'identifier': 'dqjok',\n",
       "        'tp': 29.0,\n",
       "        'tn': 200.0},\n",
       "       'scores': {'acc': 0.7633333333333334,\n",
       "        'sens': 0.29,\n",
       "        'spec': 1.0,\n",
       "        'bacc': 0.645},\n",
       "       'score_bounds': None,\n",
       "       'bounds_flag': True},\n",
       "      {'fold': {'p': 101,\n",
       "        'n': 200,\n",
       "        'identifier': 'tdpye',\n",
       "        'tp': 101.0,\n",
       "        'tn': 200.0},\n",
       "       'scores': {'acc': 1.0, 'sens': 1.0, 'spec': 1.0, 'bacc': 1.0},\n",
       "       'score_bounds': None,\n",
       "       'bounds_flag': True},\n",
       "      {'fold': {'p': 101,\n",
       "        'n': 200,\n",
       "        'identifier': 'cmfgu',\n",
       "        'tp': 41.0,\n",
       "        'tn': 74.0},\n",
       "       'scores': {'acc': 0.38205980066445183,\n",
       "        'sens': 0.40594059405940597,\n",
       "        'spec': 0.37,\n",
       "        'bacc': 0.387970297029703},\n",
       "       'score_bounds': None,\n",
       "       'bounds_flag': True}],\n",
       "     'bounds_flag': True}}],\n",
       "  'bounds_flag': True}}"
      ]
     },
     "execution_count": 99,
     "metadata": {},
     "output_type": "execute_result"
    }
   ],
   "source": [
    "check_1_dataset_known_folds_mos_scores(dataset={'p': 502, 'n': 1001},\n",
    "                                        folding={'folds': [{'p': item['p'], 'n': item['n']} for item in folds]},\n",
    "                                        scores=mos_scores_test,\n",
    "                                        eps=1e-4)"
   ]
  },
  {
   "cell_type": "code",
   "execution_count": 104,
   "metadata": {},
   "outputs": [],
   "source": [
    "mos_scores_test2 = mos_scores_test.copy()"
   ]
  },
  {
   "cell_type": "code",
   "execution_count": 105,
   "metadata": {},
   "outputs": [
    {
     "data": {
      "text/plain": [
       "{'acc': 0.829, 'sens': 0.7391, 'spec': 0.8741}"
      ]
     },
     "execution_count": 105,
     "metadata": {},
     "output_type": "execute_result"
    }
   ],
   "source": [
    "mos_scores_test"
   ]
  },
  {
   "cell_type": "code",
   "execution_count": 106,
   "metadata": {},
   "outputs": [],
   "source": [
    "mos_scores_test2['acc'] = 0.830"
   ]
  },
  {
   "cell_type": "code",
   "execution_count": 107,
   "metadata": {},
   "outputs": [
    {
     "name": "stdout",
     "output_type": "stream",
     "text": [
      "Welcome to the CBC MILP Solver \n",
      "Version: 2.10.3 \n",
      "Build Date: Dec 15 2019 \n",
      "\n",
      "command line - /home/gykovacs/anaconda3/envs/mlscorecheck/lib/python3.10/site-packages/pulp/solverdir/cbc/linux/64/cbc /tmp/372bf5d3d71047de925be4ab45c58162-pulp.mps timeMode elapsed branch printingOptions all solution /tmp/372bf5d3d71047de925be4ab45c58162-pulp.sol (default strategy 1)\n",
      "At line 2 NAME          MODEL\n",
      "At line 3 ROWS\n",
      "At line 11 COLUMNS\n",
      "At line 73 RHS\n",
      "At line 80 BOUNDS\n",
      "At line 92 ENDATA\n",
      "Problem MODEL has 6 rows, 11 columns and 40 elements\n",
      "Coin0008I MODEL read with 0 errors\n",
      "Option for timeMode changed from cpu to elapsed\n",
      "Problem is infeasible - 0.00 seconds\n",
      "Option for printingOptions changed from normal to all\n",
      "Total time (CPU seconds):       0.00   (Wallclock seconds):       0.00\n",
      "\n"
     ]
    },
    {
     "data": {
      "text/plain": [
       "{'inconsistency': True,\n",
       " 'lp_status': 'infeasible',\n",
       " 'lp_configuration': {'evaluations': [{'folds': {'folds': [{'fold': {'p': 100,\n",
       "        'n': 201,\n",
       "        'identifier': 'yxsjr',\n",
       "        'tp': 0.0,\n",
       "        'tn': 201.0},\n",
       "       'scores': {'acc': 0.6677740863787376,\n",
       "        'sens': 0.0,\n",
       "        'spec': 1.0,\n",
       "        'bacc': 0.5},\n",
       "       'score_bounds': None,\n",
       "       'bounds_flag': True},\n",
       "      {'fold': {'p': 100,\n",
       "        'n': 200,\n",
       "        'identifier': 'mjzul',\n",
       "        'tp': 69.897337,\n",
       "        'tn': 200.0},\n",
       "       'scores': {'acc': 0.89965779,\n",
       "        'sens': 0.6989733699999999,\n",
       "        'spec': 1.0,\n",
       "        'bacc': 0.849486685},\n",
       "       'score_bounds': None,\n",
       "       'bounds_flag': True},\n",
       "      {'fold': {'p': 100,\n",
       "        'n': 200,\n",
       "        'identifier': 'vynmu',\n",
       "        'tp': 100.0,\n",
       "        'tn': 200.0},\n",
       "       'scores': {'acc': 1.0, 'sens': 1.0, 'spec': 1.0, 'bacc': 1.0},\n",
       "       'score_bounds': None,\n",
       "       'bounds_flag': True},\n",
       "      {'fold': {'p': 101,\n",
       "        'n': 200,\n",
       "        'identifier': 'faoes',\n",
       "        'tp': 101.0,\n",
       "        'tn': 74.201},\n",
       "       'scores': {'acc': 0.5820631229235881,\n",
       "        'sens': 1.0,\n",
       "        'spec': 0.371005,\n",
       "        'bacc': 0.6855025},\n",
       "       'score_bounds': None,\n",
       "       'bounds_flag': True},\n",
       "      {'fold': {'p': 101,\n",
       "        'n': 200,\n",
       "        'identifier': 'ijdjr',\n",
       "        'tp': 101.0,\n",
       "        'tn': 200.0},\n",
       "       'scores': {'acc': 1.0, 'sens': 1.0, 'spec': 1.0, 'bacc': 1.0},\n",
       "       'score_bounds': None,\n",
       "       'bounds_flag': True}],\n",
       "     'bounds_flag': True},\n",
       "    'scores': {'acc': 0.829898999860465,\n",
       "     'sens': 0.739794674,\n",
       "     'spec': 0.874201,\n",
       "     'bacc': 0.8069978370000002},\n",
       "    'score_bounds': None,\n",
       "    'bounds_flag': {'folds': [{'fold': {'p': 100,\n",
       "        'n': 201,\n",
       "        'identifier': 'yxsjr',\n",
       "        'tp': 0.0,\n",
       "        'tn': 201.0},\n",
       "       'scores': {'acc': 0.6677740863787376,\n",
       "        'sens': 0.0,\n",
       "        'spec': 1.0,\n",
       "        'bacc': 0.5},\n",
       "       'score_bounds': None,\n",
       "       'bounds_flag': True},\n",
       "      {'fold': {'p': 100,\n",
       "        'n': 200,\n",
       "        'identifier': 'mjzul',\n",
       "        'tp': 69.897337,\n",
       "        'tn': 200.0},\n",
       "       'scores': {'acc': 0.89965779,\n",
       "        'sens': 0.6989733699999999,\n",
       "        'spec': 1.0,\n",
       "        'bacc': 0.849486685},\n",
       "       'score_bounds': None,\n",
       "       'bounds_flag': True},\n",
       "      {'fold': {'p': 100,\n",
       "        'n': 200,\n",
       "        'identifier': 'vynmu',\n",
       "        'tp': 100.0,\n",
       "        'tn': 200.0},\n",
       "       'scores': {'acc': 1.0, 'sens': 1.0, 'spec': 1.0, 'bacc': 1.0},\n",
       "       'score_bounds': None,\n",
       "       'bounds_flag': True},\n",
       "      {'fold': {'p': 101,\n",
       "        'n': 200,\n",
       "        'identifier': 'faoes',\n",
       "        'tp': 101.0,\n",
       "        'tn': 74.201},\n",
       "       'scores': {'acc': 0.5820631229235881,\n",
       "        'sens': 1.0,\n",
       "        'spec': 0.371005,\n",
       "        'bacc': 0.6855025},\n",
       "       'score_bounds': None,\n",
       "       'bounds_flag': True},\n",
       "      {'fold': {'p': 101,\n",
       "        'n': 200,\n",
       "        'identifier': 'ijdjr',\n",
       "        'tp': 101.0,\n",
       "        'tn': 200.0},\n",
       "       'scores': {'acc': 1.0, 'sens': 1.0, 'spec': 1.0, 'bacc': 1.0},\n",
       "       'score_bounds': None,\n",
       "       'bounds_flag': True}],\n",
       "     'bounds_flag': True}}],\n",
       "  'bounds_flag': True}}"
      ]
     },
     "execution_count": 107,
     "metadata": {},
     "output_type": "execute_result"
    }
   ],
   "source": [
    "check_1_dataset_known_folds_mos_scores(dataset={'p': 502, 'n': 1001},\n",
    "                                        folding={'folds': [{'p': item['p'], 'n': item['n']} for item in folds]},\n",
    "                                        scores=mos_scores_test2,\n",
    "                                        eps=1e-4)"
   ]
  },
  {
   "cell_type": "code",
   "execution_count": null,
   "metadata": {},
   "outputs": [],
   "source": []
  }
 ],
 "metadata": {
  "kernelspec": {
   "display_name": "mlscorecheck",
   "language": "python",
   "name": "python3"
  },
  "language_info": {
   "codemirror_mode": {
    "name": "ipython",
    "version": 3
   },
   "file_extension": ".py",
   "mimetype": "text/x-python",
   "name": "python",
   "nbconvert_exporter": "python",
   "pygments_lexer": "ipython3",
   "version": "3.10.0"
  },
  "orig_nbformat": 4
 },
 "nbformat": 4,
 "nbformat_minor": 2
}
