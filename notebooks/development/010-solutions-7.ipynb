{
 "cells": [
  {
   "cell_type": "code",
   "execution_count": 1,
   "metadata": {},
   "outputs": [],
   "source": [
    "from mlscorecheck.core import load_solutions"
   ]
  },
  {
   "cell_type": "code",
   "execution_count": 2,
   "metadata": {},
   "outputs": [],
   "source": [
    "solutions = load_solutions()"
   ]
  },
  {
   "cell_type": "code",
   "execution_count": 3,
   "metadata": {},
   "outputs": [
    {
     "data": {
      "text/plain": [
       "dict_keys([('acc', 'sens'), ('acc', 'spec'), ('acc', 'ppv'), ('acc', 'npv'), ('acc', 'ba'), ('acc', 'f1p'), ('sens', 'spec'), ('ppv', 'sens'), ('npv', 'sens'), ('ba', 'sens'), ('f1p', 'sens'), ('ppv', 'spec'), ('npv', 'spec'), ('ba', 'spec'), ('f1p', 'spec'), ('npv', 'ppv'), ('ba', 'ppv'), ('f1p', 'ppv'), ('ba', 'npv'), ('f1p', 'npv'), ('ba', 'f1p')])"
      ]
     },
     "execution_count": 3,
     "metadata": {},
     "output_type": "execute_result"
    }
   ],
   "source": [
    "solutions.keys()"
   ]
  },
  {
   "cell_type": "code",
   "execution_count": 4,
   "metadata": {},
   "outputs": [
    {
     "name": "stderr",
     "output_type": "stream",
     "text": [
      "\n",
      "KeyboardInterrupt\n",
      "\n"
     ]
    }
   ],
   "source": [
    "solutions['solutions'][0]"
   ]
  },
  {
   "cell_type": "code",
   "execution_count": null,
   "metadata": {},
   "outputs": [],
   "source": [
    "from mlscorecheck.core import base_score_objects, sage_symbols\n"
   ]
  },
  {
   "cell_type": "code",
   "execution_count": null,
   "metadata": {},
   "outputs": [],
   "source": [
    "def _collect_denominators_and_bases(expression, denoms, bases):\n",
    "    num = expression.numerator()\n",
    "    denom = expression.denominator()\n",
    "\n",
    "    if denom is not None and not denom.is_trivially_equal(1):\n",
    "        denoms.append(denom)\n",
    "        _collect_denominators_and_bases(denom, denoms, bases)\n",
    "    if num.operator() is not None:\n",
    "        if hasattr(num.operator(), '__qualname__') and num.operator().__qualname__ == 'pow':\n",
    "            base, exponent = num.operands()\n",
    "            if exponent < 1:\n",
    "                bases.append(base)\n",
    "            _collect_denominators_and_bases(base, denoms, bases)\n",
    "        else:\n",
    "            for operand in num.operands():\n",
    "                _collect_denominators_and_bases(operand, denoms, bases)\n",
    "    return\n",
    "\n",
    "def collect_denominators_and_bases(expression):\n",
    "    denoms = []\n",
    "    bases = []\n",
    "    _collect_denominators_and_bases(expression, denoms, bases)\n",
    "    return denoms, bases"
   ]
  },
  {
   "cell_type": "code",
   "execution_count": null,
   "metadata": {},
   "outputs": [],
   "source": [
    "class ProblemSolver2:\n",
    "    def __init__(self, score0, score1):\n",
    "        self.score0 = score0\n",
    "        self.score1 = score1\n",
    "\n",
    "    def solve_(self):\n",
    "        self.solutions = []\n",
    "\n",
    "        first_equation = self.score0.equation_polynomial\n",
    "        second_equation = self.score1.equation_polynomial\n",
    "        first_var = 'tp'\n",
    "        second_var = 'tn'\n",
    "\n",
    "        args0 = self.score0.args\n",
    "        args1 = self.score1.args\n",
    "\n",
    "        vars0 = int('tp' in args0) + int('tn' in args0)\n",
    "        vars1 = int('tp' in args1) + int('tn' in args1)\n",
    "\n",
    "        #print(vars0, vars1)\n",
    "\n",
    "        if vars0 == 1:\n",
    "            first_equation = self.score0.equation_polynomial\n",
    "            second_equation = self.score1.equation_polynomial\n",
    "            if 'tp' in args0:\n",
    "                first_var = 'tp'\n",
    "                second_var = 'tn'\n",
    "            else:\n",
    "                first_var = 'tn'\n",
    "                second_var = 'tp'\n",
    "        elif vars1 == 1:\n",
    "            first_equation = self.score1.equation_polynomial\n",
    "            second_equation = self.score0.equation_polynomial\n",
    "            if 'tp' in args1:\n",
    "                first_var = 'tp'\n",
    "                second_var = 'tn'\n",
    "            else:\n",
    "                first_var = 'tn'\n",
    "                second_var = 'tp'\n",
    "\n",
    "        #print(first_var, first_equation)\n",
    "        #print(second_var, second_equation)\n",
    "\n",
    "        v0s = solve(first_equation, sage_symbols[first_var], solution_dict=True)\n",
    "        #v0s = sp.solve(first_equation, symbols[first_var], dict=True)\n",
    "        #print('v0s', v0s)\n",
    "        for v0 in v0s:\n",
    "\n",
    "            second_equation_tmp = second_equation\n",
    "            #if symbols[first_var] in second_equation.free_symbols:\n",
    "            #print(first_var, second_equation_tmp.args())\n",
    "            if sage_symbols[first_var] in second_equation.args():\n",
    "                second_equation_tmp = second_equation.subs(v0)\n",
    "                #print('subs1')\n",
    "                #print('se', second_equation_tmp.args())\n",
    "\n",
    "            v1s = solve(second_equation_tmp, sage_symbols[second_var], solution_dict=True)\n",
    "            #print('v1sol', second_var, v1s[0][sage_symbols[second_var]].args())\n",
    "            #v1s = sp.solve(second_equation_tmp, symbols[second_var], dict=True)\n",
    "            #print('v1s', v1s)\n",
    "            for v1 in v1s:\n",
    "                sol = {}\n",
    "                v0_sol = v0[sage_symbols[first_var]]\n",
    "                #if sage_symbols[second_var] in v0_sol.free_symbols:\n",
    "                if sage_symbols[second_var] in v0_sol.args():\n",
    "                    #print('subs2')\n",
    "                    v0_sol = v0_sol.subs(v1)\n",
    "\n",
    "                #print('v0', v0_sol.args())\n",
    "                #print('v1', v1[sage_symbols[second_var]].args())\n",
    "\n",
    "                sol[first_var] = v0_sol\n",
    "                sol[second_var] = v1[sage_symbols[second_var]]\n",
    "                self.solutions.append(sol)\n",
    "\n",
    "        return self\n",
    "\n",
    "    def edge_cases(self):\n",
    "        self.denoms = []\n",
    "        self.bases = []\n",
    "        for solution in self.solutions:\n",
    "            denoms_sol = set()\n",
    "            bases_sol = set()\n",
    "            for _, item in solution.items():\n",
    "                denoms, bases = collect_denominators_and_bases(item)\n",
    "                denoms_sol = denoms_sol.union(set(denoms))\n",
    "                bases_sol = bases_sol.union(set(bases))\n",
    "            self.denoms.append(denoms_sol)\n",
    "            self.bases.append(bases_sol)\n",
    "\n",
    "        return self\n",
    "\n",
    "    def groebner_basis(self):\n",
    "        A = PolynomialRing(QQ, names=(sage_symbols['p'], sage_symbols['n'], self.score0.symbol, self.score1.symbol))\n",
    "        F = A.fraction_field()\n",
    "        F.inject_variables()\n",
    "        R = PolynomialRing(F, order='lex', names=(sage_symbols['tp'], sage_symbols['tn'], sage_symbols['fp'], sage_symbols['fn']))\n",
    "        I = R.ideal(self.score0.equation_polynomial,\n",
    "                    self.score1.equation_polynomial,\n",
    "                    sage_symbols['p'] - sage_symbols['tp'] - sage_symbols['fn'],\n",
    "                    sage_symbols['n'] - sage_symbols['tn'] - sage_symbols['fp'])\n",
    "        self.gb = I.groebner_basis()\n",
    "        return self\n",
    "\n",
    "    def to_dict(self):\n",
    "        solutions = []\n",
    "        for solution in self.solutions:\n",
    "            sol_str = {}\n",
    "            for key, item in solution.items():\n",
    "                sol_str[str(key)] = str(item)\n",
    "            solutions.append(sol_str)\n",
    "\n",
    "        denoms = []\n",
    "        for denom in self.denoms:\n",
    "            denom_str = []\n",
    "            for item in denom:\n",
    "                denom_str.append(str(item))\n",
    "            denoms.append(denom_str)\n",
    "\n",
    "        bases = []\n",
    "        for base in self.bases:\n",
    "            base_str = []\n",
    "            for item in base:\n",
    "                base_str.append(str(item))\n",
    "            bases.append(base_str)\n",
    "\n",
    "        results = {'scores': [self.score0.abbreviation, self.score1.abbreviation],\n",
    "                    'score0': self.score0.to_dict(),\n",
    "                    'score1': self.score1.to_dict(),\n",
    "                    'solutions': solutions,\n",
    "                    'non_zero': denoms,\n",
    "                    'non_negative': bases,\n",
    "                    #'groebner_basis': [str(gb) for gb in self.gb]\n",
    "                    }\n",
    "\n",
    "        return results\n"
   ]
  },
  {
   "cell_type": "code",
   "execution_count": null,
   "metadata": {},
   "outputs": [],
   "source": [
    "scores = list(base_score_objects.keys())"
   ]
  },
  {
   "cell_type": "code",
   "execution_count": null,
   "metadata": {},
   "outputs": [],
   "source": [
    "results = []"
   ]
  },
  {
   "cell_type": "code",
   "execution_count": null,
   "metadata": {},
   "outputs": [
    {
     "name": "stdout",
     "output_type": "stream",
     "text": [
      "acc sens\n",
      "acc spec\n",
      "acc ppv\n",
      "acc npv\n",
      "acc ba\n",
      "acc f1p\n",
      "sens spec\n",
      "sens ppv\n",
      "sens npv\n",
      "sens ba\n",
      "sens f1p\n",
      "spec ppv\n",
      "spec npv\n",
      "spec ba\n",
      "spec f1p\n",
      "ppv npv\n",
      "ppv ba\n",
      "ppv f1p\n",
      "npv ba\n",
      "npv f1p\n",
      "ba f1p\n"
     ]
    }
   ],
   "source": [
    "for idx, score0 in enumerate(scores):\n",
    "    for score1 in scores[(idx+1):]:\n",
    "        print(base_score_objects[score0].abbreviation, base_score_objects[score1].abbreviation)\n",
    "        ps = ProblemSolver2(base_score_objects[score0], base_score_objects[score1])\n",
    "        ps.solve_()\n",
    "        ps.edge_cases()\n",
    "        results.append(ps.to_dict())"
   ]
  },
  {
   "cell_type": "code",
   "execution_count": null,
   "metadata": {},
   "outputs": [
    {
     "data": {
      "text/plain": [
       "{'scores': ['acc', 'spec'],\n",
       " 'score0': {'abbreviation': 'acc',\n",
       "  'name': 'accuracy',\n",
       "  'nans': None,\n",
       "  'range': [0, 1],\n",
       "  'synonyms': None,\n",
       "  'complement': 'error_rate',\n",
       "  'args': ['tp', 'tn', 'p', 'n'],\n",
       "  'expression': '(tn + tp)/(n + p)',\n",
       "  'equation': 'acc - (tn + tp)/(n + p)',\n",
       "  'equation_polynomial': 'acc*n + acc*p - tn - tp',\n",
       "  'function': 'accuracy_standardized'},\n",
       " 'score1': {'abbreviation': 'spec',\n",
       "  'name': 'specificity',\n",
       "  'nans': None,\n",
       "  'range': [0, 1],\n",
       "  'synonyms': ['selectivity',\n",
       "   'Selectivity',\n",
       "   'true_negative_rate',\n",
       "   'TrueNegativeRate'],\n",
       "  'complement': 'false_positive_rate',\n",
       "  'args': ['tn', 'n'],\n",
       "  'expression': 'tn/n',\n",
       "  'equation': 'spec - tn/n',\n",
       "  'equation_polynomial': 'n*spec - tn',\n",
       "  'function': 'specificity_standardized'},\n",
       " 'solutions': [{'tn': 'n*spec', 'tp': 'acc*n + acc*p - n*spec'}],\n",
       " 'non_zero': [[]],\n",
       " 'non_negative': [[]]}"
      ]
     },
     "execution_count": 17,
     "metadata": {},
     "output_type": "execute_result"
    }
   ],
   "source": [
    "results[1]"
   ]
  },
  {
   "cell_type": "code",
   "execution_count": null,
   "metadata": {},
   "outputs": [],
   "source": [
    "import json"
   ]
  },
  {
   "cell_type": "code",
   "execution_count": null,
   "metadata": {},
   "outputs": [],
   "source": [
    "jresults = {'solutions': results}"
   ]
  },
  {
   "cell_type": "code",
   "execution_count": null,
   "metadata": {},
   "outputs": [],
   "source": [
    "with open('solutions.json', 'w') as file:\n",
    "    json.dump(jresults, file)"
   ]
  },
  {
   "cell_type": "code",
   "execution_count": null,
   "metadata": {},
   "outputs": [],
   "source": []
  }
 ],
 "metadata": {
  "kernelspec": {
   "display_name": "SageMath 10.0",
   "language": "sage",
   "name": "sagemath"
  },
  "language_info": {
   "codemirror_mode": {
    "name": "ipython",
    "version": 3
   },
   "file_extension": ".py",
   "mimetype": "text/x-python",
   "name": "python",
   "nbconvert_exporter": "python",
   "pygments_lexer": "ipython3",
   "version": "3.10.11"
  },
  "orig_nbformat": 4
 },
 "nbformat": 4,
 "nbformat_minor": 2
}
