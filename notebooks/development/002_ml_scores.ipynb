{
 "cells": [
  {
   "cell_type": "code",
   "execution_count": 7,
   "metadata": {},
   "outputs": [],
   "source": [
    "import sympy\n",
    "\n",
    "from sympy import Symbol"
   ]
  },
  {
   "cell_type": "code",
   "execution_count": 4,
   "metadata": {},
   "outputs": [],
   "source": [
    "tp = Symbol('tp')\n",
    "fp = Symbol('fp')\n",
    "tn = Symbol('tn')\n",
    "fn = Symbol('fn')\n",
    "eps = Symbol('eps')\n",
    "p = Symbol('p')\n",
    "n = Symbol('n')\n",
    "acc = Symbol('acc')\n",
    "sens = Symbol('sens')\n",
    "spec = Symbol('spec')\n",
    "ppv = Symbol('ppv')\n",
    "npv = Symbol('npv')"
   ]
  },
  {
   "cell_type": "code",
   "execution_count": 5,
   "metadata": {},
   "outputs": [],
   "source": [
    "p_eq = p - tp - fn\n",
    "n_eq = n - tn - fp\n",
    "sens_eq = sens - tp / p\n",
    "spec_eq = spec - tn / n\n",
    "acc_eq = acc - (tp + tn)/(p + n)\n",
    "ppv_eq = ppv - tp / (tp + fp)\n",
    "npv_eq = npv - tn / (tn + fn)"
   ]
  },
  {
   "cell_type": "code",
   "execution_count": 12,
   "metadata": {},
   "outputs": [
    {
     "name": "stdout",
     "output_type": "stream",
     "text": [
      "p*sens\n",
      "n*spec\n"
     ]
    }
   ],
   "source": [
    "results = sympy.solve([p_eq, n_eq, sens_eq, spec_eq], [tp, tn, fp, fn])\n",
    "\n",
    "print(results[tp])\n",
    "print(results[tn])"
   ]
  },
  {
   "cell_type": "code",
   "execution_count": 13,
   "metadata": {},
   "outputs": [
    {
     "name": "stdout",
     "output_type": "stream",
     "text": [
      "p*sens\n",
      "acc*n + acc*p - p*sens\n"
     ]
    }
   ],
   "source": [
    "results = sympy.solve([p_eq, n_eq, sens_eq, acc_eq], [tp, tn, fp, fn])\n",
    "\n",
    "print(results[tp])\n",
    "print(results[tn])"
   ]
  },
  {
   "cell_type": "code",
   "execution_count": 14,
   "metadata": {},
   "outputs": [
    {
     "name": "stdout",
     "output_type": "stream",
     "text": [
      "p*sens\n",
      "n + p*sens - p*sens/ppv\n"
     ]
    }
   ],
   "source": [
    "results = sympy.solve([p_eq, n_eq, sens_eq, ppv_eq], [tp, tn, fp, fn])\n",
    "\n",
    "print(results[tp])\n",
    "print(results[tn])"
   ]
  },
  {
   "cell_type": "code",
   "execution_count": 15,
   "metadata": {},
   "outputs": [
    {
     "name": "stdout",
     "output_type": "stream",
     "text": [
      "p*sens\n",
      "npv*p*(sens - 1)/(npv - 1)\n"
     ]
    }
   ],
   "source": [
    "results = sympy.solve([p_eq, n_eq, sens_eq, npv_eq], [tp, tn, fp, fn])\n",
    "\n",
    "print(results[tp])\n",
    "print(results[tn])"
   ]
  },
  {
   "cell_type": "code",
   "execution_count": 16,
   "metadata": {},
   "outputs": [
    {
     "name": "stdout",
     "output_type": "stream",
     "text": [
      "acc*n + acc*p - n*spec\n",
      "n*spec\n"
     ]
    }
   ],
   "source": [
    "results = sympy.solve([p_eq, n_eq, spec_eq, acc_eq], [tp, tn, fp, fn])\n",
    "\n",
    "print(results[tp])\n",
    "print(results[tn])"
   ]
  },
  {
   "cell_type": "code",
   "execution_count": 17,
   "metadata": {},
   "outputs": [
    {
     "name": "stdout",
     "output_type": "stream",
     "text": [
      "n*ppv*(spec - 1)/(ppv - 1)\n",
      "n*spec\n"
     ]
    }
   ],
   "source": [
    "results = sympy.solve([p_eq, n_eq, spec_eq, ppv_eq], [tp, tn, fp, fn])\n",
    "\n",
    "print(results[tp])\n",
    "print(results[tn])"
   ]
  },
  {
   "cell_type": "code",
   "execution_count": 18,
   "metadata": {},
   "outputs": [
    {
     "name": "stdout",
     "output_type": "stream",
     "text": [
      "n*spec - n*spec/npv + p\n",
      "n*spec\n"
     ]
    }
   ],
   "source": [
    "results = sympy.solve([p_eq, n_eq, spec_eq, npv_eq], [tp, tn, fp, fn])\n",
    "\n",
    "print(results[tp])\n",
    "print(results[tn])"
   ]
  },
  {
   "cell_type": "code",
   "execution_count": 19,
   "metadata": {},
   "outputs": [
    {
     "name": "stdout",
     "output_type": "stream",
     "text": [
      "ppv*(acc*n + acc*p - n)/(2*ppv - 1)\n",
      "(acc*n*ppv - acc*n + acc*p*ppv - acc*p + n*ppv)/(2*ppv - 1)\n"
     ]
    }
   ],
   "source": [
    "results = sympy.solve([p_eq, n_eq, acc_eq, ppv_eq], [tp, tn, fp, fn])\n",
    "\n",
    "print(results[tp])\n",
    "print(results[tn])"
   ]
  },
  {
   "cell_type": "code",
   "execution_count": 24,
   "metadata": {},
   "outputs": [
    {
     "name": "stdout",
     "output_type": "stream",
     "text": [
      "(acc*n*npv - acc*n + acc*npv*p - acc*p + npv*p)/(2*npv - 1)\n",
      "npv*(acc*n + acc*p - p)/(2*npv - 1)\n"
     ]
    }
   ],
   "source": [
    "results = sympy.solve([p_eq, n_eq, acc_eq, npv_eq], [tp, tn, fp, fn])\n",
    "\n",
    "print(results[tp])\n",
    "print(results[tn])"
   ]
  },
  {
   "cell_type": "code",
   "execution_count": 21,
   "metadata": {},
   "outputs": [
    {
     "name": "stdout",
     "output_type": "stream",
     "text": [
      "ppv*(n*npv - n + npv*p)/(npv + ppv - 1)\n",
      "npv*(n*ppv + p*ppv - p)/(npv + ppv - 1)\n"
     ]
    }
   ],
   "source": [
    "results = sympy.solve([p_eq, n_eq, ppv_eq, npv_eq], [tp, tn, fp, fn])\n",
    "\n",
    "print(results[tp])\n",
    "print(results[tn])"
   ]
  },
  {
   "cell_type": "code",
   "execution_count": null,
   "metadata": {},
   "outputs": [],
   "source": []
  }
 ],
 "metadata": {
  "kernelspec": {
   "display_name": "mlscorecheck",
   "language": "python",
   "name": "python3"
  },
  "language_info": {
   "codemirror_mode": {
    "name": "ipython",
    "version": 3
   },
   "file_extension": ".py",
   "mimetype": "text/x-python",
   "name": "python",
   "nbconvert_exporter": "python",
   "pygments_lexer": "ipython3",
   "version": "3.10.0"
  },
  "orig_nbformat": 4
 },
 "nbformat": 4,
 "nbformat_minor": 2
}
