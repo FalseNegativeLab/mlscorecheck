{
 "cells": [
  {
   "cell_type": "code",
   "execution_count": 2,
   "metadata": {},
   "outputs": [],
   "source": [
    "import sympy\n",
    "\n",
    "from sympy import Symbol"
   ]
  },
  {
   "cell_type": "code",
   "execution_count": 166,
   "metadata": {},
   "outputs": [],
   "source": [
    "tp = Symbol('tp', real=True, nonegative=True)\n",
    "fp = Symbol('fp', real=True, nonegative=True)\n",
    "tn = Symbol('tn', real=True, nonegative=True)\n",
    "fn = Symbol('fn', real=True, nonegative=True)\n",
    "eps = Symbol('eps', real=True, nonegative=True)\n",
    "p = Symbol('p', real=True, nonegative=True)\n",
    "n = Symbol('n', real=True, nonegative=True)\n",
    "acc = Symbol('acc', real=True, nonegative=True)\n",
    "sens = Symbol('sens', real=True, nonegative=True)\n",
    "spec = Symbol('spec', real=True, nonegative=True)\n",
    "ppv = Symbol('ppv', real=True, nonegative=True)\n",
    "npv = Symbol('npv', real=True, nonegative=True)\n",
    "f_beta = Symbol('f_beta', real=True, nonegative=True)\n",
    "beta = Symbol('beta', real=True, nonegative=True)\n",
    "fm = Symbol('fm', real=True, nonegative=True) # Fowlkes-Mallows index"
   ]
  },
  {
   "cell_type": "code",
   "execution_count": 152,
   "metadata": {},
   "outputs": [],
   "source": [
    "from sympy import sqrt"
   ]
  },
  {
   "cell_type": "code",
   "execution_count": 153,
   "metadata": {},
   "outputs": [],
   "source": [
    "p_eq = p - tp - fn\n",
    "n_eq = n - tn - fp\n",
    "sens_eq = sens - tp / p\n",
    "spec_eq = spec - tn / n\n",
    "acc_eq = acc - (tp + tn)/(p + n)\n",
    "ppv_eq = ppv - tp / (tp + fp)\n",
    "npv_eq = npv - tn / (tn + fn)\n",
    "f_beta_eq = f_beta - (((1 + beta**2) * tp) / ((1 + beta**2)*tp + beta**2*fn + fp))\n",
    "fm_eq = fm - sqrt(tp/(tp + fp)*tp/p)"
   ]
  },
  {
   "cell_type": "code",
   "execution_count": 12,
   "metadata": {},
   "outputs": [
    {
     "name": "stdout",
     "output_type": "stream",
     "text": [
      "p*sens\n",
      "n*spec\n"
     ]
    }
   ],
   "source": [
    "results = sympy.solve([p_eq, n_eq, sens_eq, spec_eq], [tp, tn, fp, fn])\n",
    "\n",
    "print(results[tp])\n",
    "print(results[tn])"
   ]
  },
  {
   "cell_type": "code",
   "execution_count": 13,
   "metadata": {},
   "outputs": [
    {
     "name": "stdout",
     "output_type": "stream",
     "text": [
      "p*sens\n",
      "acc*n + acc*p - p*sens\n"
     ]
    }
   ],
   "source": [
    "results = sympy.solve([p_eq, n_eq, sens_eq, acc_eq], [tp, tn, fp, fn])\n",
    "\n",
    "print(results[tp])\n",
    "print(results[tn])"
   ]
  },
  {
   "cell_type": "code",
   "execution_count": 14,
   "metadata": {},
   "outputs": [
    {
     "name": "stdout",
     "output_type": "stream",
     "text": [
      "p*sens\n",
      "n + p*sens - p*sens/ppv\n"
     ]
    }
   ],
   "source": [
    "results = sympy.solve([p_eq, n_eq, sens_eq, ppv_eq], [tp, tn, fp, fn])\n",
    "\n",
    "print(results[tp])\n",
    "print(results[tn])"
   ]
  },
  {
   "cell_type": "code",
   "execution_count": 15,
   "metadata": {},
   "outputs": [
    {
     "name": "stdout",
     "output_type": "stream",
     "text": [
      "p*sens\n",
      "npv*p*(sens - 1)/(npv - 1)\n"
     ]
    }
   ],
   "source": [
    "results = sympy.solve([p_eq, n_eq, sens_eq, npv_eq], [tp, tn, fp, fn])\n",
    "\n",
    "print(results[tp])\n",
    "print(results[tn])"
   ]
  },
  {
   "cell_type": "code",
   "execution_count": 16,
   "metadata": {},
   "outputs": [
    {
     "name": "stdout",
     "output_type": "stream",
     "text": [
      "acc*n + acc*p - n*spec\n",
      "n*spec\n"
     ]
    }
   ],
   "source": [
    "results = sympy.solve([p_eq, n_eq, spec_eq, acc_eq], [tp, tn, fp, fn])\n",
    "\n",
    "print(results[tp])\n",
    "print(results[tn])"
   ]
  },
  {
   "cell_type": "code",
   "execution_count": 17,
   "metadata": {},
   "outputs": [
    {
     "name": "stdout",
     "output_type": "stream",
     "text": [
      "n*ppv*(spec - 1)/(ppv - 1)\n",
      "n*spec\n"
     ]
    }
   ],
   "source": [
    "results = sympy.solve([p_eq, n_eq, spec_eq, ppv_eq], [tp, tn, fp, fn])\n",
    "\n",
    "print(results[tp])\n",
    "print(results[tn])"
   ]
  },
  {
   "cell_type": "code",
   "execution_count": 18,
   "metadata": {},
   "outputs": [
    {
     "name": "stdout",
     "output_type": "stream",
     "text": [
      "n*spec - n*spec/npv + p\n",
      "n*spec\n"
     ]
    }
   ],
   "source": [
    "results = sympy.solve([p_eq, n_eq, spec_eq, npv_eq], [tp, tn, fp, fn])\n",
    "\n",
    "print(results[tp])\n",
    "print(results[tn])"
   ]
  },
  {
   "cell_type": "code",
   "execution_count": 19,
   "metadata": {},
   "outputs": [
    {
     "name": "stdout",
     "output_type": "stream",
     "text": [
      "ppv*(acc*n + acc*p - n)/(2*ppv - 1)\n",
      "(acc*n*ppv - acc*n + acc*p*ppv - acc*p + n*ppv)/(2*ppv - 1)\n"
     ]
    }
   ],
   "source": [
    "results = sympy.solve([p_eq, n_eq, acc_eq, ppv_eq], [tp, tn, fp, fn])\n",
    "\n",
    "print(results[tp])\n",
    "print(results[tn])"
   ]
  },
  {
   "cell_type": "code",
   "execution_count": 24,
   "metadata": {},
   "outputs": [
    {
     "name": "stdout",
     "output_type": "stream",
     "text": [
      "(acc*n*npv - acc*n + acc*npv*p - acc*p + npv*p)/(2*npv - 1)\n",
      "npv*(acc*n + acc*p - p)/(2*npv - 1)\n"
     ]
    }
   ],
   "source": [
    "results = sympy.solve([p_eq, n_eq, acc_eq, npv_eq], [tp, tn, fp, fn])\n",
    "\n",
    "print(results[tp])\n",
    "print(results[tn])"
   ]
  },
  {
   "cell_type": "code",
   "execution_count": 9,
   "metadata": {},
   "outputs": [
    {
     "name": "stdout",
     "output_type": "stream",
     "text": [
      "ppv*(n*npv - n + npv*p)/(npv + ppv - 1)\n",
      "npv*(n*ppv + p*ppv - p)/(npv + ppv - 1)\n"
     ]
    }
   ],
   "source": [
    "results = sympy.solve([p_eq, n_eq, ppv_eq, npv_eq], [tp, tn, fp, fn])\n",
    "\n",
    "print(results[tp])\n",
    "print(results[tn])"
   ]
  },
  {
   "cell_type": "code",
   "execution_count": 38,
   "metadata": {},
   "outputs": [
    {
     "name": "stdout",
     "output_type": "stream",
     "text": [
      "p*sens\n",
      "beta**2*p - beta**2*p*sens/f_beta + n + p*sens - p*sens/f_beta\n"
     ]
    }
   ],
   "source": [
    "results = sympy.solve([p_eq, n_eq, f_beta_eq, sens_eq], [tp, tn, fp, fn])\n",
    "print(results[tp])\n",
    "print(results[tn])"
   ]
  },
  {
   "cell_type": "code",
   "execution_count": 39,
   "metadata": {},
   "outputs": [
    {
     "name": "stdout",
     "output_type": "stream",
     "text": [
      "f_beta*(beta**2*p - n*spec + n)/(beta**2 - f_beta + 1)\n",
      "n*spec\n"
     ]
    }
   ],
   "source": [
    "results = sympy.solve([p_eq, n_eq, f_beta_eq, spec_eq], [tp, tn, fp, fn])\n",
    "print(results[tp])\n",
    "print(results[tn])"
   ]
  },
  {
   "cell_type": "code",
   "execution_count": 40,
   "metadata": {},
   "outputs": [
    {
     "name": "stdout",
     "output_type": "stream",
     "text": [
      "f_beta*(-acc*n - acc*p + beta**2*p + n)/(beta**2 - 2*f_beta + 1)\n",
      "(acc*beta**2*n + acc*beta**2*p - acc*f_beta*n - acc*f_beta*p + acc*n + acc*p - beta**2*f_beta*p - f_beta*n)/(beta**2 - 2*f_beta + 1)\n"
     ]
    }
   ],
   "source": [
    "results = sympy.solve([p_eq, n_eq, f_beta_eq, acc_eq], [tp, tn, fp, fn])\n",
    "print(results[tp])\n",
    "print(results[tn])"
   ]
  },
  {
   "cell_type": "code",
   "execution_count": 41,
   "metadata": {},
   "outputs": [
    {
     "name": "stdout",
     "output_type": "stream",
     "text": [
      "f_beta*(beta**2*npv*p - beta**2*p + n*npv - n + npv*p)/(beta**2*npv - beta**2 + f_beta + npv - 1)\n",
      "npv*(beta**2*f_beta*p - beta**2*p + f_beta*n + f_beta*p - p)/(beta**2*npv - beta**2 + f_beta + npv - 1)\n"
     ]
    }
   ],
   "source": [
    "results = sympy.solve([p_eq, n_eq, f_beta_eq, npv_eq], [tp, tn, fp, fn])\n",
    "print(results[tp])\n",
    "print(results[tn])"
   ]
  },
  {
   "cell_type": "code",
   "execution_count": 42,
   "metadata": {},
   "outputs": [
    {
     "name": "stdout",
     "output_type": "stream",
     "text": [
      "beta**2*f_beta*p*ppv/(beta**2*ppv - f_beta + ppv)\n",
      "(beta**2*f_beta*p*ppv - beta**2*f_beta*p + beta**2*n*ppv - f_beta*n + n*ppv)/(beta**2*ppv - f_beta + ppv)\n"
     ]
    }
   ],
   "source": [
    "results = sympy.solve([p_eq, n_eq, f_beta_eq, ppv_eq], [tp, tn, fp, fn])\n",
    "print(results[tp])\n",
    "print(results[tn])"
   ]
  },
  {
   "cell_type": "code",
   "execution_count": 59,
   "metadata": {},
   "outputs": [
    {
     "data": {
      "text/plain": [
       "('sens', 'spec')"
      ]
     },
     "execution_count": 59,
     "metadata": {},
     "output_type": "execute_result"
    }
   ],
   "source": [
    "tuple(sorted(('spec', 'sens')))"
   ]
  },
  {
   "cell_type": "code",
   "execution_count": 60,
   "metadata": {},
   "outputs": [
    {
     "data": {
      "text/plain": [
       "('acc', 'sens')"
      ]
     },
     "execution_count": 60,
     "metadata": {},
     "output_type": "execute_result"
    }
   ],
   "source": [
    "tuple({'acc', 'sens'})"
   ]
  },
  {
   "cell_type": "code",
   "execution_count": null,
   "metadata": {},
   "outputs": [],
   "source": []
  },
  {
   "cell_type": "code",
   "execution_count": 158,
   "metadata": {},
   "outputs": [],
   "source": [
    "fm_eq = fm - sqrt(tp/(tp + fp)*tp/(tp + fn))"
   ]
  },
  {
   "cell_type": "code",
   "execution_count": 162,
   "metadata": {},
   "outputs": [],
   "source": [
    "fm2 = sqrt(tp/(tp + fp)*tp/(tp + fn))"
   ]
  },
  {
   "cell_type": "code",
   "execution_count": 190,
   "metadata": {},
   "outputs": [],
   "source": [
    "sens = Symbol('sens', nonegative=True)\n",
    "acc = Symbol('acc', nonegative=True)\n",
    "fm = Symbol('fm', nonegative=True) # Fowlkes-Mallows index\n",
    "tp = Symbol('tp', nonegative=True)\n",
    "fp = Symbol('fp', nonegative=True)\n",
    "tn = Symbol('tn', nonegative=True)\n",
    "fn = Symbol('fn', nonegative=True)\n",
    "p = Symbol('p', positive=True)\n",
    "n = Symbol('n', positive=True)\n",
    "\n",
    "p_eq = p - tp - fn\n",
    "n_eq = n - tn - fp\n",
    "sens_eq = sens - tp / p\n",
    "acc_eq = acc - (tp + tn)/(p + n)\n",
    "fm_eq = fm - sqrt(tp/(tp + fp)*tp/p)"
   ]
  },
  {
   "cell_type": "code",
   "execution_count": 194,
   "metadata": {},
   "outputs": [],
   "source": [
    "tmp = sympy.solve([acc_eq, fm_eq, p_eq, n_eq], [tp, tn, fp, fn], dict=True)"
   ]
  },
  {
   "cell_type": "code",
   "execution_count": 196,
   "metadata": {},
   "outputs": [
    {
     "data": {
      "text/plain": [
       "[{fn: -fm**2*p - fm*sqrt(p)*sqrt(-acc*n - acc*p + fm**2*p + n) + p,\n",
       "  fp: -acc*n - acc*p + fm**2*p + fm*sqrt(p)*sqrt(-acc*n - acc*p + fm**2*p + n) + n,\n",
       "  tn: acc*n + acc*p - fm**2*p - fm*sqrt(p)*sqrt(-acc*n - acc*p + fm**2*p + n),\n",
       "  tp: fm*(fm*p + sqrt(p)*sqrt(-acc*n - acc*p + fm**2*p + n))},\n",
       " {fn: -fm**2*p + fm*sqrt(p)*sqrt(-acc*n - acc*p + fm**2*p + n) + p,\n",
       "  fp: -acc*n - acc*p + fm**2*p - fm*sqrt(p)*sqrt(-acc*n - acc*p + fm**2*p + n) + n,\n",
       "  tn: acc*n + acc*p - fm**2*p + fm*sqrt(p)*sqrt(-acc*n - acc*p + fm**2*p + n),\n",
       "  tp: fm*(fm*p - sqrt(p)*sqrt(-acc*n - acc*p + fm**2*p + n))}]"
      ]
     },
     "execution_count": 196,
     "metadata": {},
     "output_type": "execute_result"
    }
   ],
   "source": [
    "tmp"
   ]
  },
  {
   "cell_type": "code",
   "execution_count": 191,
   "metadata": {},
   "outputs": [],
   "source": [
    "import numpy as np"
   ]
  },
  {
   "cell_type": "code",
   "execution_count": 201,
   "metadata": {},
   "outputs": [],
   "source": [
    "subst = {tp: 10,\n",
    " tn: 20,\n",
    " fp: 20,\n",
    " fn: 10,\n",
    " acc: (10 + 20)/60,\n",
    " fm: np.sqrt(10/20*10/30),\n",
    " p: 20,\n",
    " n: 40}"
   ]
  },
  {
   "cell_type": "code",
   "execution_count": 204,
   "metadata": {},
   "outputs": [
    {
     "data": {
      "text/latex": [
       "$\\displaystyle 10.0$"
      ],
      "text/plain": [
       "10.0000000000000"
      ]
     },
     "execution_count": 204,
     "metadata": {},
     "output_type": "execute_result"
    }
   ],
   "source": [
    "tmp[0][tp].evalf(subs=subst)"
   ]
  },
  {
   "cell_type": "code",
   "execution_count": 205,
   "metadata": {},
   "outputs": [],
   "source": [
    "def accuracy(tp, tn, p, n):\n",
    "    return (tp + tn)/(p + n)\n",
    "\n",
    "def sensitivity()"
   ]
  },
  {
   "cell_type": "code",
   "execution_count": 206,
   "metadata": {},
   "outputs": [
    {
     "data": {
      "text/plain": [
       "('tp', 'tn', 'p', 'n')"
      ]
     },
     "execution_count": 206,
     "metadata": {},
     "output_type": "execute_result"
    }
   ],
   "source": [
    "accuracy.__code__.co_varnames"
   ]
  },
  {
   "cell_type": "code",
   "execution_count": null,
   "metadata": {},
   "outputs": [],
   "source": [
    "def assert_nonnegative_solution(expression):\n",
    "    subst = {'tp': 10,\n",
    "             'tn': 20,\n",
    "             'fp': 20,\n",
    "             'fn': 10}\n",
    "    subst['p'] = subst['tp'] + subst['fn']\n",
    "    subst['n'] = subst['tn'] + subst['fp']\n",
    "\n",
    "    variables = [str(var) for var in expression.free_variables]\n",
    "    variables = [var for var in variables if var not in ['tp', 'tn', 'fp', 'fn', 'p', 'n']]\n",
    "\n",
    "    "
   ]
  },
  {
   "cell_type": "code",
   "execution_count": 155,
   "metadata": {},
   "outputs": [
    {
     "name": "stdout",
     "output_type": "stream",
     "text": [
      "acc f_beta\n",
      "1\n",
      "def solve_acc_f_beta(n, beta, p, f_beta, acc):\n",
      "  \"\"\"\n",
      "  Solves tp, tn from acc_f_beta\n",
      "  \n",
      "  Args:\n",
      "    acc (int|float|Interval): the acc score\n",
      "    f_beta (int|float|Interval): the f_beta score\n",
      "    n (int|float): the n value\n",
      "    p (int|float): the p value\n",
      "    beta (int|float): the beta value\n",
      "  \n",
      "  Returns:\n",
      "    float|interval, float|interval: the tp and tn scores\n",
      "  \"\"\"\n",
      "  tp = f_beta*(-acc*n - acc*p + beta**2*p + n)/(beta**2 - 2*f_beta + 1)\n",
      "  tn = (acc*beta**2*n + acc*beta**2*p - acc*f_beta*n - acc*f_beta*p + acc*n + acc*p - beta**2*f_beta*p - f_beta*n)/(beta**2 - 2*f_beta + 1)\n",
      "\n",
      "  return tp, tn\n",
      "\n",
      "acc fm\n",
      "0\n"
     ]
    },
    {
     "ename": "IndexError",
     "evalue": "list index out of range",
     "output_type": "error",
     "traceback": [
      "\u001b[0;31m---------------------------------------------------------------------------\u001b[0m",
      "\u001b[0;31mIndexError\u001b[0m                                Traceback (most recent call last)",
      "Cell \u001b[0;32mIn[155], line 23\u001b[0m\n\u001b[1;32m     21\u001b[0m     \u001b[39mprint\u001b[39m(tmp[\u001b[39m0\u001b[39m])\n\u001b[1;32m     22\u001b[0m     \u001b[39mprint\u001b[39m(tmp[\u001b[39m1\u001b[39m])\n\u001b[0;32m---> 23\u001b[0m tmp \u001b[39m=\u001b[39m tmp[\u001b[39m0\u001b[39;49m]\n\u001b[1;32m     24\u001b[0m symbols \u001b[39m=\u001b[39m \u001b[39mlist\u001b[39m(tmp[tp]\u001b[39m.\u001b[39mfree_symbols\u001b[39m.\u001b[39munion(tmp[tn]\u001b[39m.\u001b[39mfree_symbols))\n\u001b[1;32m     25\u001b[0m symbols \u001b[39m=\u001b[39m [\u001b[39mstr\u001b[39m(symb) \u001b[39mfor\u001b[39;00m symb \u001b[39min\u001b[39;00m symbols]\n",
      "\u001b[0;31mIndexError\u001b[0m: list index out of range"
     ]
    }
   ],
   "source": [
    "solutions = {}\n",
    "\n",
    "equations = [('acc', acc_eq), \n",
    "             ('sens', sens_eq), \n",
    "             ('spec', spec_eq), \n",
    "             ('npv', npv_eq), \n",
    "             ('ppv', ppv_eq), \n",
    "             ('f_beta', f_beta_eq),\n",
    "             ('fm', fm_eq)]\n",
    "equations = sorted(equations, key=lambda x: x[0])\n",
    "\n",
    "for idx, score0 in enumerate(equations):\n",
    "    for score1 in equations[(idx+1):]:\n",
    "        print(score0[0], score1[0])\n",
    "        tmp = sympy.solve([p_eq, n_eq, score0[1], score1[1]], [tp, tn, fp, fn], dict=True)\n",
    "        #solutions[tuple(sorted([score0[0], score1[0]]))] = {'tp': tmp[tp],\n",
    "        #                                                    'tn': tmp[tn]}\n",
    "        print(len(tmp))\n",
    "        if len(tmp) > 1:\n",
    "            print('MULTIPLE-----------------', len(tmp))\n",
    "            print(tmp[0])\n",
    "            print(tmp[1])\n",
    "        tmp = tmp[0]\n",
    "        symbols = list(tmp[tp].free_symbols.union(tmp[tn].free_symbols))\n",
    "        symbols = [str(symb) for symb in symbols]\n",
    "        params = ', '.join(symbols)\n",
    "        docstring = f\"  Solves tp, tn from {score0[0]}_{score1[0]}\\n\"\\\n",
    "                    f\"  \\n\"\\\n",
    "                    f\"  Args:\\n\"\\\n",
    "                    f\"    {score0[0]} (int|float|Interval): the {score0[0]} score\\n\"\\\n",
    "                    f\"    {score1[0]} (int|float|Interval): the {score1[0]} score\\n\"\n",
    "        for symb in set(symbols).difference({score0[0], score1[0]}):\n",
    "            docstring += f\"    {symb} (int|float): the {symb} value\\n\"\n",
    "        docstring += \"  \\n\"\n",
    "        docstring += \"  Returns:\\n\"\n",
    "        docstring += \"    float|interval, float|interval: the tp and tn scores\"\n",
    "        function = f\"def solve_{score0[0]}_{score1[0]}({params}):\\n\"\\\n",
    "                    f'  \"\"\"\\n{docstring}\\n  \"\"\"\\n'\\\n",
    "                    f\"  tp = {str(tmp[tp])}\\n\"\\\n",
    "                    f\"  tn = {str(tmp[tn])}\\n\\n\"\\\n",
    "                    f\"  return tp, tn\\n\"\\\n",
    "\n",
    "        print(function)\n",
    "            "
   ]
  },
  {
   "cell_type": "code",
   "execution_count": 140,
   "metadata": {},
   "outputs": [],
   "source": [
    "tn = Symbol('tn', positive=True, real=True)"
   ]
  },
  {
   "cell_type": "code",
   "execution_count": 142,
   "metadata": {},
   "outputs": [
    {
     "data": {
      "text/plain": [
       "[(4,)]"
      ]
     },
     "execution_count": 142,
     "metadata": {},
     "output_type": "execute_result"
    }
   ],
   "source": [
    "sympy.solve([sqrt(tn) - 2], [tn])"
   ]
  },
  {
   "cell_type": "code",
   "execution_count": 146,
   "metadata": {},
   "outputs": [
    {
     "data": {
      "text/plain": [
       "[{tn: fn**2, tp: fn}]"
      ]
     },
     "execution_count": 146,
     "metadata": {},
     "output_type": "execute_result"
    }
   ],
   "source": [
    "sympy.solve([sqrt(tn) - tp, tp - fn], [tn, tp], dict=True)"
   ]
  },
  {
   "cell_type": "code",
   "execution_count": 134,
   "metadata": {},
   "outputs": [
    {
     "data": {
      "text/latex": [
       "$\\displaystyle \\sqrt{tn} - 2$"
      ],
      "text/plain": [
       "sqrt(tn) - 2"
      ]
     },
     "execution_count": 134,
     "metadata": {},
     "output_type": "execute_result"
    }
   ],
   "source": [
    "sqrt(tn) - 2"
   ]
  },
  {
   "cell_type": "code",
   "execution_count": 73,
   "metadata": {},
   "outputs": [
    {
     "data": {
      "text/plain": [
       "{('acc', 'sens'): {'tp': p*sens, 'tn': acc*n + acc*p - p*sens},\n",
       " ('acc', 'spec'): {'tp': acc*n + acc*p - n*spec, 'tn': n*spec},\n",
       " ('acc',\n",
       "  'npv'): {'tp': (acc*n*npv - acc*n + acc*npv*p - acc*p + npv*p)/(2*npv - 1), 'tn': npv*(acc*n + acc*p - p)/(2*npv - 1)},\n",
       " ('acc', 'ppv'): {'tp': ppv*(acc*n + acc*p - n)/(2*ppv - 1),\n",
       "  'tn': (acc*n*ppv - acc*n + acc*p*ppv - acc*p + n*ppv)/(2*ppv - 1)},\n",
       " ('acc',\n",
       "  'f_beta'): {'tp': f_beta*(-acc*n - acc*p + beta**2*p + n)/(beta**2 - 2*f_beta + 1), 'tn': (acc*beta**2*n + acc*beta**2*p - acc*f_beta*n - acc*f_beta*p + acc*n + acc*p - beta**2*f_beta*p - f_beta*n)/(beta**2 - 2*f_beta + 1)},\n",
       " ('sens', 'spec'): {'tp': p*sens, 'tn': n*spec},\n",
       " ('npv', 'sens'): {'tp': p*sens, 'tn': npv*p*(sens - 1)/(npv - 1)},\n",
       " ('ppv', 'sens'): {'tp': p*sens, 'tn': n + p*sens - p*sens/ppv},\n",
       " ('f_beta', 'sens'): {'tp': p*sens,\n",
       "  'tn': beta**2*p - beta**2*p*sens/f_beta + n + p*sens - p*sens/f_beta},\n",
       " ('npv', 'spec'): {'tp': n*spec - n*spec/npv + p, 'tn': n*spec},\n",
       " ('ppv', 'spec'): {'tp': n*ppv*(spec - 1)/(ppv - 1), 'tn': n*spec},\n",
       " ('f_beta',\n",
       "  'spec'): {'tp': f_beta*(beta**2*p - n*spec + n)/(beta**2 - f_beta + 1), 'tn': n*spec},\n",
       " ('npv', 'ppv'): {'tp': ppv*(n*npv - n + npv*p)/(npv + ppv - 1),\n",
       "  'tn': npv*(n*ppv + p*ppv - p)/(npv + ppv - 1)},\n",
       " ('f_beta',\n",
       "  'npv'): {'tp': f_beta*(beta**2*npv*p - beta**2*p + n*npv - n + npv*p)/(beta**2*npv - beta**2 + f_beta + npv - 1), 'tn': npv*(beta**2*f_beta*p - beta**2*p + f_beta*n + f_beta*p - p)/(beta**2*npv - beta**2 + f_beta + npv - 1)},\n",
       " ('f_beta', 'ppv'): {'tp': beta**2*f_beta*p*ppv/(beta**2*ppv - f_beta + ppv),\n",
       "  'tn': (beta**2*f_beta*p*ppv - beta**2*f_beta*p + beta**2*n*ppv - f_beta*n + n*ppv)/(beta**2*ppv - f_beta + ppv)}}"
      ]
     },
     "execution_count": 73,
     "metadata": {},
     "output_type": "execute_result"
    }
   ],
   "source": [
    "solutions"
   ]
  },
  {
   "cell_type": "code",
   "execution_count": 110,
   "metadata": {},
   "outputs": [
    {
     "data": {
      "text/plain": [
       "{1, 2, 3, 4}"
      ]
     },
     "execution_count": 110,
     "metadata": {},
     "output_type": "execute_result"
    }
   ],
   "source": [
    "{1, 2}.union({3, 4})"
   ]
  },
  {
   "cell_type": "code",
   "execution_count": 66,
   "metadata": {},
   "outputs": [
    {
     "data": {
      "text/plain": [
       "\"p = Symbol('p')\\nsens = Symbol('sens')\\ne = p*sens\""
      ]
     },
     "execution_count": 66,
     "metadata": {},
     "output_type": "execute_result"
    }
   ],
   "source": [
    "sympy.python(solutions[('acc', 'sens')]['tp'])"
   ]
  },
  {
   "cell_type": "code",
   "execution_count": 67,
   "metadata": {},
   "outputs": [],
   "source": [
    "from sympy import print_python"
   ]
  },
  {
   "cell_type": "code",
   "execution_count": 69,
   "metadata": {},
   "outputs": [],
   "source": [
    "from sympy.codegen.pyutils import render_as_module"
   ]
  },
  {
   "cell_type": "code",
   "execution_count": 72,
   "metadata": {},
   "outputs": [
    {
     "name": "stdout",
     "output_type": "stream",
     "text": [
      "\n",
      "\n",
      "acc*n + acc*p - p*sens\n"
     ]
    }
   ],
   "source": [
    "print(render_as_module(solutions[('acc', 'sens')]['tn']))"
   ]
  },
  {
   "cell_type": "code",
   "execution_count": 79,
   "metadata": {},
   "outputs": [
    {
     "data": {
      "text/plain": [
       "949.0"
      ]
     },
     "execution_count": 79,
     "metadata": {},
     "output_type": "execute_result"
    }
   ],
   "source": [
    "eval(render_as_module(solutions[('acc', 'sens')]['tn']), {'acc': 0.94, 'sens': 0.85, 'p': 100, 'n': 1000})"
   ]
  },
  {
   "cell_type": "code",
   "execution_count": 82,
   "metadata": {},
   "outputs": [],
   "source": [
    "from sympy import Function, lambdify"
   ]
  },
  {
   "cell_type": "code",
   "execution_count": 81,
   "metadata": {},
   "outputs": [],
   "source": [
    "tn_func = Function('tn_acc_sens')(acc, sens, p, n)"
   ]
  },
  {
   "cell_type": "code",
   "execution_count": 84,
   "metadata": {},
   "outputs": [
    {
     "data": {
      "text/latex": [
       "$\\displaystyle acc n + acc p - p sens$"
      ],
      "text/plain": [
       "acc*n + acc*p - p*sens"
      ]
     },
     "execution_count": 84,
     "metadata": {},
     "output_type": "execute_result"
    }
   ],
   "source": [
    "solutions[('acc', 'sens')]['tn']"
   ]
  },
  {
   "cell_type": "code",
   "execution_count": 95,
   "metadata": {},
   "outputs": [
    {
     "ename": "AttributeError",
     "evalue": "'function' object has no attribute 'lambdastr'",
     "output_type": "error",
     "traceback": [
      "\u001b[0;31m---------------------------------------------------------------------------\u001b[0m",
      "\u001b[0;31mAttributeError\u001b[0m                            Traceback (most recent call last)",
      "Cell \u001b[0;32mIn[95], line 1\u001b[0m\n\u001b[0;32m----> 1\u001b[0m tn_func \u001b[39m=\u001b[39m lambdify\u001b[39m.\u001b[39;49mlambdastr((acc, sens, p, n), solutions[(\u001b[39m'\u001b[39m\u001b[39macc\u001b[39m\u001b[39m'\u001b[39m, \u001b[39m'\u001b[39m\u001b[39msens\u001b[39m\u001b[39m'\u001b[39m)][\u001b[39m'\u001b[39m\u001b[39mtn\u001b[39m\u001b[39m'\u001b[39m])\n",
      "\u001b[0;31mAttributeError\u001b[0m: 'function' object has no attribute 'lambdastr'"
     ]
    }
   ],
   "source": [
    "tn_func = lambdify((acc, sens, p, n), solutions[('acc', 'sens')]['tn'])"
   ]
  },
  {
   "cell_type": "code",
   "execution_count": 96,
   "metadata": {},
   "outputs": [],
   "source": [
    "from sympy.utilities.lambdify import lambdastr"
   ]
  },
  {
   "cell_type": "code",
   "execution_count": 97,
   "metadata": {},
   "outputs": [
    {
     "data": {
      "text/plain": [
       "'lambda acc,sens,p,n: (acc*n + acc*p - p*sens)'"
      ]
     },
     "execution_count": 97,
     "metadata": {},
     "output_type": "execute_result"
    }
   ],
   "source": [
    "lambdastr((acc, sens, p, n), solutions[('acc', 'sens')]['tn'])"
   ]
  },
  {
   "cell_type": "code",
   "execution_count": 89,
   "metadata": {},
   "outputs": [
    {
     "data": {
      "text/plain": [
       "950.0"
      ]
     },
     "execution_count": 89,
     "metadata": {},
     "output_type": "execute_result"
    }
   ],
   "source": [
    "tn_func(acc=0.94, sens=0.84, p=100, n=1000)"
   ]
  },
  {
   "cell_type": "code",
   "execution_count": 94,
   "metadata": {},
   "outputs": [
    {
     "data": {
      "text/plain": [
       "<line_iterator at 0x7f9453c8aab0>"
      ]
     },
     "execution_count": 94,
     "metadata": {},
     "output_type": "execute_result"
    }
   ],
   "source": [
    "tn_func.__code__"
   ]
  },
  {
   "cell_type": "code",
   "execution_count": 100,
   "metadata": {},
   "outputs": [
    {
     "data": {
      "text/plain": [
       "{acc, n, p, sens}"
      ]
     },
     "execution_count": 100,
     "metadata": {},
     "output_type": "execute_result"
    }
   ],
   "source": [
    "solutions[('acc', 'sens')]['tn'].free_symbols"
   ]
  },
  {
   "cell_type": "code",
   "execution_count": 109,
   "metadata": {},
   "outputs": [
    {
     "data": {
      "text/plain": [
       "'p'"
      ]
     },
     "execution_count": 109,
     "metadata": {},
     "output_type": "execute_result"
    }
   ],
   "source": [
    "str(list(solutions[('acc', 'sens')]['tn'].free_symbols)[0])"
   ]
  },
  {
   "cell_type": "code",
   "execution_count": 102,
   "metadata": {},
   "outputs": [],
   "source": []
  },
  {
   "cell_type": "code",
   "execution_count": 103,
   "metadata": {},
   "outputs": [],
   "source": [
    "from ast import literal_eval"
   ]
  },
  {
   "cell_type": "code",
   "execution_count": 106,
   "metadata": {},
   "outputs": [],
   "source": [
    "exec(function)"
   ]
  },
  {
   "cell_type": "code",
   "execution_count": null,
   "metadata": {},
   "outputs": [],
   "source": []
  }
 ],
 "metadata": {
  "kernelspec": {
   "display_name": "mlscorecheck",
   "language": "python",
   "name": "python3"
  },
  "language_info": {
   "codemirror_mode": {
    "name": "ipython",
    "version": 3
   },
   "file_extension": ".py",
   "mimetype": "text/x-python",
   "name": "python",
   "nbconvert_exporter": "python",
   "pygments_lexer": "ipython3",
   "version": "3.10.0"
  },
  "orig_nbformat": 4
 },
 "nbformat": 4,
 "nbformat_minor": 2
}
