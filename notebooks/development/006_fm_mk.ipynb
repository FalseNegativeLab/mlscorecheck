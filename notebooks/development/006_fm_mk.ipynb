{
 "cells": [
  {
   "cell_type": "code",
   "execution_count": 183,
   "metadata": {},
   "outputs": [],
   "source": [
    "import sympy\n",
    "from sympy import Symbol\n",
    "\n",
    "from mlscorecheck.core import (score_function_set, sqrt)\n",
    "from mlscorecheck.core import fowlkes_mallows_index, markedness"
   ]
  },
  {
   "cell_type": "code",
   "execution_count": 184,
   "metadata": {},
   "outputs": [],
   "source": [
    "tp = Symbol('tp')\n",
    "fp = Symbol('fp')\n",
    "tn = Symbol('tn')\n",
    "fn = Symbol('fn')\n",
    "eps = Symbol('eps')\n",
    "p = Symbol('p')\n",
    "n = Symbol('n')\n",
    "beta = Symbol('beta')\n",
    "fm = Symbol('fm')\n",
    "mk = Symbol('mk')"
   ]
  },
  {
   "cell_type": "code",
   "execution_count": 185,
   "metadata": {},
   "outputs": [],
   "source": [
    "tp_ = 20\n",
    "tn_ = 30\n",
    "p_ = 50\n",
    "n_ = 100\n",
    "fn_ = p_ - tp_\n",
    "fp_ = n_ - tn_\n",
    "fm_ = fowlkes_mallows_index(tp=tp_, fp=fp_, p=p_)\n",
    "mk_ = markedness(tp=tp_, tn=tn_, fp=fp_, fn=fn_)"
   ]
  },
  {
   "cell_type": "code",
   "execution_count": 186,
   "metadata": {},
   "outputs": [],
   "source": [
    "eq0 = fm - fowlkes_mallows_index(tp=tp, fp=fp, p=p)\n",
    "eq1 = mk - markedness(tp=tp, tn=tn, fp=fp, fn=fn)\n",
    "eq2 = p - tp - fn\n",
    "eq3 = n - tn - fp"
   ]
  },
  {
   "cell_type": "code",
   "execution_count": 187,
   "metadata": {},
   "outputs": [],
   "source": [
    "fp0 = sympy.solve(eq0, fp, dict=True)\n",
    "fp1 = sympy.solve(eq1, fp, dict=True)\n",
    "fp3 = sympy.solve(eq3, fp, dict=True)"
   ]
  },
  {
   "cell_type": "code",
   "execution_count": 188,
   "metadata": {},
   "outputs": [
    {
     "name": "stdout",
     "output_type": "stream",
     "text": [
      "[{fp: -tp + tp**2/(fm**2*p)}]\n",
      "[{fp: tp*(-fn*mk - mk*tn + tn)/(fn*mk + fn + mk*tn)}]\n",
      "[{fp: n - tn}]\n"
     ]
    }
   ],
   "source": [
    "print(fp0)\n",
    "print(fp1)\n",
    "print(fp3)"
   ]
  },
  {
   "cell_type": "code",
   "execution_count": 189,
   "metadata": {},
   "outputs": [],
   "source": [
    "eq10 = fp0[0][fp] - fp3[0][fp]\n",
    "eq11 = fp1[0][fp] - fp3[0][fp]"
   ]
  },
  {
   "cell_type": "code",
   "execution_count": 190,
   "metadata": {},
   "outputs": [
    {
     "data": {
      "text/latex": [
       "$\\displaystyle - n + tn - tp + \\frac{tp^{2}}{fm^{2} p}$"
      ],
      "text/plain": [
       "-n + tn - tp + tp**2/(fm**2*p)"
      ]
     },
     "execution_count": 190,
     "metadata": {},
     "output_type": "execute_result"
    }
   ],
   "source": [
    "eq10"
   ]
  },
  {
   "cell_type": "code",
   "execution_count": 191,
   "metadata": {},
   "outputs": [
    {
     "data": {
      "text/latex": [
       "$\\displaystyle - n + tn + \\frac{tp \\left(- fn mk - mk tn + tn\\right)}{fn mk + fn + mk tn}$"
      ],
      "text/plain": [
       "-n + tn + tp*(-fn*mk - mk*tn + tn)/(fn*mk + fn + mk*tn)"
      ]
     },
     "execution_count": 191,
     "metadata": {},
     "output_type": "execute_result"
    }
   ],
   "source": [
    "eq11"
   ]
  },
  {
   "cell_type": "code",
   "execution_count": 192,
   "metadata": {},
   "outputs": [],
   "source": [
    "tp0 = sympy.solve(eq10, tp, dict=True)\n",
    "tp1 = sympy.solve(eq11, tp, dict=True)\n",
    "tp2 = sympy.solve(eq2, tp, dict=True)"
   ]
  },
  {
   "cell_type": "code",
   "execution_count": 193,
   "metadata": {},
   "outputs": [
    {
     "name": "stdout",
     "output_type": "stream",
     "text": [
      "[{tp: fm*(fm*p - sqrt(p*(fm**2*p + 4*n - 4*tn)))/2}, {tp: fm*(fm*p + sqrt(p*(fm**2*p + 4*n - 4*tn)))/2}]\n",
      "[{tp: (-fn*mk*n + fn*mk*tn - fn*n + fn*tn - mk*n*tn + mk*tn**2)/(fn*mk + mk*tn - tn)}]\n",
      "[{tp: -fn + p}]\n"
     ]
    }
   ],
   "source": [
    "print(tp0)\n",
    "print(tp1)\n",
    "print(tp2)"
   ]
  },
  {
   "cell_type": "code",
   "execution_count": 194,
   "metadata": {},
   "outputs": [],
   "source": [
    "eq20 = tp0[0][tp] - tp2[0][tp]\n",
    "eq21 = tp1[0][tp] - tp2[0][tp]"
   ]
  },
  {
   "cell_type": "code",
   "execution_count": 195,
   "metadata": {},
   "outputs": [
    {
     "data": {
      "text/latex": [
       "$\\displaystyle \\frac{fm \\left(fm p - \\sqrt{p \\left(fm^{2} p + 4 n - 4 tn\\right)}\\right)}{2} + fn - p$"
      ],
      "text/plain": [
       "fm*(fm*p - sqrt(p*(fm**2*p + 4*n - 4*tn)))/2 + fn - p"
      ]
     },
     "execution_count": 195,
     "metadata": {},
     "output_type": "execute_result"
    }
   ],
   "source": [
    "eq20"
   ]
  },
  {
   "cell_type": "code",
   "execution_count": 196,
   "metadata": {},
   "outputs": [
    {
     "data": {
      "text/latex": [
       "$\\displaystyle fn - p + \\frac{- fn mk n + fn mk tn - fn n + fn tn - mk n tn + mk tn^{2}}{fn mk + mk tn - tn}$"
      ],
      "text/plain": [
       "fn - p + (-fn*mk*n + fn*mk*tn - fn*n + fn*tn - mk*n*tn + mk*tn**2)/(fn*mk + mk*tn - tn)"
      ]
     },
     "execution_count": 196,
     "metadata": {},
     "output_type": "execute_result"
    }
   ],
   "source": [
    "eq21"
   ]
  },
  {
   "cell_type": "code",
   "execution_count": 197,
   "metadata": {},
   "outputs": [],
   "source": [
    "tn0 = sympy.solve(eq20, tn, dict=True)\n",
    "tn1 = sympy.solve(eq21, tn, dict=True)"
   ]
  },
  {
   "cell_type": "code",
   "execution_count": 198,
   "metadata": {},
   "outputs": [
    {
     "data": {
      "text/plain": [
       "[{tn: fm**2*p/4 + n - (fm**2*p + 2*fn - 2*p)**2/(4*fm**2*p)}]"
      ]
     },
     "execution_count": 198,
     "metadata": {},
     "output_type": "execute_result"
    }
   ],
   "source": [
    "tn0"
   ]
  },
  {
   "cell_type": "code",
   "execution_count": 199,
   "metadata": {},
   "outputs": [
    {
     "data": {
      "text/plain": [
       "[{tn: (-2*fn*mk + mk*n + mk*p - p - sqrt(4*fn*mk*n + 4*fn*mk*p + mk**2*n**2 + 2*mk**2*n*p + mk**2*p**2 - 2*mk*n*p - 2*mk*p**2 + p**2))/(2*mk)},\n",
       " {tn: (-2*fn*mk + mk*n + mk*p - p + sqrt(4*fn*mk*n + 4*fn*mk*p + mk**2*n**2 + 2*mk**2*n*p + mk**2*p**2 - 2*mk*n*p - 2*mk*p**2 + p**2))/(2*mk)}]"
      ]
     },
     "execution_count": 199,
     "metadata": {},
     "output_type": "execute_result"
    }
   ],
   "source": [
    "tn1"
   ]
  },
  {
   "cell_type": "code",
   "execution_count": 200,
   "metadata": {},
   "outputs": [],
   "source": [
    "tn1_sol_0 = tn1[0][tn]"
   ]
  },
  {
   "cell_type": "code",
   "execution_count": 201,
   "metadata": {},
   "outputs": [],
   "source": [
    "# tn1 case 0"
   ]
  },
  {
   "cell_type": "code",
   "execution_count": 202,
   "metadata": {},
   "outputs": [],
   "source": [
    "eq30 = tn0[0][tn] - tn1[0][tn]"
   ]
  },
  {
   "cell_type": "code",
   "execution_count": 203,
   "metadata": {},
   "outputs": [
    {
     "data": {
      "text/latex": [
       "$\\displaystyle \\frac{fm^{2} p}{4} + n - \\frac{- 2 fn mk + mk n + mk p - p - \\sqrt{4 fn mk n + 4 fn mk p + mk^{2} n^{2} + 2 mk^{2} n p + mk^{2} p^{2} - 2 mk n p - 2 mk p^{2} + p^{2}}}{2 mk} - \\frac{\\left(fm^{2} p + 2 fn - 2 p\\right)^{2}}{4 fm^{2} p}$"
      ],
      "text/plain": [
       "fm**2*p/4 + n - (-2*fn*mk + mk*n + mk*p - p - sqrt(4*fn*mk*n + 4*fn*mk*p + mk**2*n**2 + 2*mk**2*n*p + mk**2*p**2 - 2*mk*n*p - 2*mk*p**2 + p**2))/(2*mk) - (fm**2*p + 2*fn - 2*p)**2/(4*fm**2*p)"
      ]
     },
     "execution_count": 203,
     "metadata": {},
     "output_type": "execute_result"
    }
   ],
   "source": [
    "eq30"
   ]
  },
  {
   "cell_type": "code",
   "execution_count": 204,
   "metadata": {},
   "outputs": [],
   "source": [
    "# supposing that mk > 0 and fm > 0"
   ]
  },
  {
   "cell_type": "code",
   "execution_count": 205,
   "metadata": {},
   "outputs": [],
   "source": [
    "eq30 = sympy.simplify(eq30 * (2*mk*4*fm**2*p))"
   ]
  },
  {
   "cell_type": "code",
   "execution_count": 206,
   "metadata": {},
   "outputs": [
    {
     "name": "stdout",
     "output_type": "stream",
     "text": [
      "4*fm**2*mk*n*p + 4*fm**2*mk*p**2 + 4*fm**2*p**2 + 4*fm**2*p*sqrt(4*fn*mk*n + 4*fn*mk*p + mk**2*n**2 + 2*mk**2*n*p + mk**2*p**2 - 2*mk*n*p - 2*mk*p**2 + p**2) - 8*fn**2*mk + 16*fn*mk*p - 8*mk*p**2\n"
     ]
    }
   ],
   "source": [
    "print(eq30)"
   ]
  },
  {
   "cell_type": "code",
   "execution_count": 207,
   "metadata": {},
   "outputs": [],
   "source": [
    "expr = 4*fm**2*p*sqrt(4*fn*mk*n + 4*fn*mk*p + mk**2*n**2 + 2*mk**2*n*p + mk**2*p**2 - 2*mk*n*p - 2*mk*p**2 + p**2)"
   ]
  },
  {
   "cell_type": "code",
   "execution_count": 208,
   "metadata": {},
   "outputs": [],
   "source": [
    "eq30_mod = sympy.simplify(sympy.Eq((eq30 - expr)**2, (-expr)**2))"
   ]
  },
  {
   "cell_type": "code",
   "execution_count": 209,
   "metadata": {},
   "outputs": [],
   "source": [
    "eq30_mod = eq30_mod.lhs - eq30_mod.rhs"
   ]
  },
  {
   "cell_type": "code",
   "execution_count": 210,
   "metadata": {},
   "outputs": [
    {
     "data": {
      "text/latex": [
       "$\\displaystyle - 16 fm^{4} p^{2} \\cdot \\left(4 fn mk n + 4 fn mk p + mk^{2} n^{2} + 2 mk^{2} n p + mk^{2} p^{2} - 2 mk n p - 2 mk p^{2} + p^{2}\\right) + 16 \\left(fm^{2} mk n p + fm^{2} mk p^{2} + fm^{2} p^{2} - 2 fn^{2} mk + 4 fn mk p - 2 mk p^{2}\\right)^{2}$"
      ],
      "text/plain": [
       "-16*fm**4*p**2*(4*fn*mk*n + 4*fn*mk*p + mk**2*n**2 + 2*mk**2*n*p + mk**2*p**2 - 2*mk*n*p - 2*mk*p**2 + p**2) + 16*(fm**2*mk*n*p + fm**2*mk*p**2 + fm**2*p**2 - 2*fn**2*mk + 4*fn*mk*p - 2*mk*p**2)**2"
      ]
     },
     "execution_count": 210,
     "metadata": {},
     "output_type": "execute_result"
    }
   ],
   "source": [
    "eq30_mod"
   ]
  },
  {
   "cell_type": "code",
   "execution_count": 211,
   "metadata": {},
   "outputs": [],
   "source": [
    "fn_sol_0 = sympy.solve(eq30_mod, fn, dict=True)"
   ]
  },
  {
   "cell_type": "code",
   "execution_count": 212,
   "metadata": {},
   "outputs": [
    {
     "data": {
      "text/plain": [
       "[{fn: p},\n",
       " {fn: p - (9*p**2 - 3*(-fm**2*mk*n*p - fm**2*mk*p**2 - fm**2*p**2 + 3*mk*p**2)/mk)/(3*(-27*p**3 + sqrt(-4*(9*p**2 - 3*(-fm**2*mk*n*p - fm**2*mk*p**2 - fm**2*p**2 + 3*mk*p**2)/mk)**3 + (-54*p**3 + 27*p*(-fm**2*mk*n*p - fm**2*mk*p**2 - fm**2*p**2 + 3*mk*p**2)/mk + 27*(-fm**4*n*p**2 - fm**4*p**3 + fm**2*mk*n*p**2 + fm**2*mk*p**3 + fm**2*p**3 - mk*p**3)/mk)**2)/2 + 27*p*(-fm**2*mk*n*p - fm**2*mk*p**2 - fm**2*p**2 + 3*mk*p**2)/(2*mk) + 27*(-fm**4*n*p**2 - fm**4*p**3 + fm**2*mk*n*p**2 + fm**2*mk*p**3 + fm**2*p**3 - mk*p**3)/(2*mk))**(1/3)) - (-27*p**3 + sqrt(-4*(9*p**2 - 3*(-fm**2*mk*n*p - fm**2*mk*p**2 - fm**2*p**2 + 3*mk*p**2)/mk)**3 + (-54*p**3 + 27*p*(-fm**2*mk*n*p - fm**2*mk*p**2 - fm**2*p**2 + 3*mk*p**2)/mk + 27*(-fm**4*n*p**2 - fm**4*p**3 + fm**2*mk*n*p**2 + fm**2*mk*p**3 + fm**2*p**3 - mk*p**3)/mk)**2)/2 + 27*p*(-fm**2*mk*n*p - fm**2*mk*p**2 - fm**2*p**2 + 3*mk*p**2)/(2*mk) + 27*(-fm**4*n*p**2 - fm**4*p**3 + fm**2*mk*n*p**2 + fm**2*mk*p**3 + fm**2*p**3 - mk*p**3)/(2*mk))**(1/3)/3},\n",
       " {fn: p - (9*p**2 - 3*(-fm**2*mk*n*p - fm**2*mk*p**2 - fm**2*p**2 + 3*mk*p**2)/mk)/(3*(-1/2 - sqrt(3)*I/2)*(-27*p**3 + sqrt(-4*(9*p**2 - 3*(-fm**2*mk*n*p - fm**2*mk*p**2 - fm**2*p**2 + 3*mk*p**2)/mk)**3 + (-54*p**3 + 27*p*(-fm**2*mk*n*p - fm**2*mk*p**2 - fm**2*p**2 + 3*mk*p**2)/mk + 27*(-fm**4*n*p**2 - fm**4*p**3 + fm**2*mk*n*p**2 + fm**2*mk*p**3 + fm**2*p**3 - mk*p**3)/mk)**2)/2 + 27*p*(-fm**2*mk*n*p - fm**2*mk*p**2 - fm**2*p**2 + 3*mk*p**2)/(2*mk) + 27*(-fm**4*n*p**2 - fm**4*p**3 + fm**2*mk*n*p**2 + fm**2*mk*p**3 + fm**2*p**3 - mk*p**3)/(2*mk))**(1/3)) - (-1/2 - sqrt(3)*I/2)*(-27*p**3 + sqrt(-4*(9*p**2 - 3*(-fm**2*mk*n*p - fm**2*mk*p**2 - fm**2*p**2 + 3*mk*p**2)/mk)**3 + (-54*p**3 + 27*p*(-fm**2*mk*n*p - fm**2*mk*p**2 - fm**2*p**2 + 3*mk*p**2)/mk + 27*(-fm**4*n*p**2 - fm**4*p**3 + fm**2*mk*n*p**2 + fm**2*mk*p**3 + fm**2*p**3 - mk*p**3)/mk)**2)/2 + 27*p*(-fm**2*mk*n*p - fm**2*mk*p**2 - fm**2*p**2 + 3*mk*p**2)/(2*mk) + 27*(-fm**4*n*p**2 - fm**4*p**3 + fm**2*mk*n*p**2 + fm**2*mk*p**3 + fm**2*p**3 - mk*p**3)/(2*mk))**(1/3)/3},\n",
       " {fn: p - (9*p**2 - 3*(-fm**2*mk*n*p - fm**2*mk*p**2 - fm**2*p**2 + 3*mk*p**2)/mk)/(3*(-1/2 + sqrt(3)*I/2)*(-27*p**3 + sqrt(-4*(9*p**2 - 3*(-fm**2*mk*n*p - fm**2*mk*p**2 - fm**2*p**2 + 3*mk*p**2)/mk)**3 + (-54*p**3 + 27*p*(-fm**2*mk*n*p - fm**2*mk*p**2 - fm**2*p**2 + 3*mk*p**2)/mk + 27*(-fm**4*n*p**2 - fm**4*p**3 + fm**2*mk*n*p**2 + fm**2*mk*p**3 + fm**2*p**3 - mk*p**3)/mk)**2)/2 + 27*p*(-fm**2*mk*n*p - fm**2*mk*p**2 - fm**2*p**2 + 3*mk*p**2)/(2*mk) + 27*(-fm**4*n*p**2 - fm**4*p**3 + fm**2*mk*n*p**2 + fm**2*mk*p**3 + fm**2*p**3 - mk*p**3)/(2*mk))**(1/3)) - (-1/2 + sqrt(3)*I/2)*(-27*p**3 + sqrt(-4*(9*p**2 - 3*(-fm**2*mk*n*p - fm**2*mk*p**2 - fm**2*p**2 + 3*mk*p**2)/mk)**3 + (-54*p**3 + 27*p*(-fm**2*mk*n*p - fm**2*mk*p**2 - fm**2*p**2 + 3*mk*p**2)/mk + 27*(-fm**4*n*p**2 - fm**4*p**3 + fm**2*mk*n*p**2 + fm**2*mk*p**3 + fm**2*p**3 - mk*p**3)/mk)**2)/2 + 27*p*(-fm**2*mk*n*p - fm**2*mk*p**2 - fm**2*p**2 + 3*mk*p**2)/(2*mk) + 27*(-fm**4*n*p**2 - fm**4*p**3 + fm**2*mk*n*p**2 + fm**2*mk*p**3 + fm**2*p**3 - mk*p**3)/(2*mk))**(1/3)/3}]"
      ]
     },
     "execution_count": 212,
     "metadata": {},
     "output_type": "execute_result"
    }
   ],
   "source": [
    "fn_sol_0"
   ]
  },
  {
   "cell_type": "code",
   "execution_count": 213,
   "metadata": {},
   "outputs": [
    {
     "data": {
      "text/latex": [
       "$\\displaystyle 30.0000000000001$"
      ],
      "text/plain": [
       "30.0000000000001"
      ]
     },
     "execution_count": 213,
     "metadata": {},
     "output_type": "execute_result"
    }
   ],
   "source": [
    "fn_sol_0[1][fn].subs({mk: mk_, fm: fm_, p: p_, n:n_})"
   ]
  },
  {
   "cell_type": "code",
   "execution_count": 214,
   "metadata": {},
   "outputs": [
    {
     "data": {
      "text/latex": [
       "$\\displaystyle 240.0$"
      ],
      "text/plain": [
       "240.000000000000"
      ]
     },
     "execution_count": 214,
     "metadata": {},
     "output_type": "execute_result"
    }
   ],
   "source": [
    "tn1_sol_0.subs({mk: mk_, fm: fm_, p: p_, n:n_, fn: 30})"
   ]
  },
  {
   "cell_type": "code",
   "execution_count": 215,
   "metadata": {},
   "outputs": [],
   "source": [
    "# tn1 case 1"
   ]
  },
  {
   "cell_type": "code",
   "execution_count": 216,
   "metadata": {},
   "outputs": [],
   "source": [
    "tn1_sol_1 = tn1[1][tn]"
   ]
  },
  {
   "cell_type": "code",
   "execution_count": 217,
   "metadata": {},
   "outputs": [],
   "source": [
    "eq30 = tn0[0][tn] - tn1[1][tn]"
   ]
  },
  {
   "cell_type": "code",
   "execution_count": 218,
   "metadata": {},
   "outputs": [
    {
     "data": {
      "text/latex": [
       "$\\displaystyle \\frac{fm^{2} p}{4} + n - \\frac{- 2 fn mk + mk n + mk p - p + \\sqrt{4 fn mk n + 4 fn mk p + mk^{2} n^{2} + 2 mk^{2} n p + mk^{2} p^{2} - 2 mk n p - 2 mk p^{2} + p^{2}}}{2 mk} - \\frac{\\left(fm^{2} p + 2 fn - 2 p\\right)^{2}}{4 fm^{2} p}$"
      ],
      "text/plain": [
       "fm**2*p/4 + n - (-2*fn*mk + mk*n + mk*p - p + sqrt(4*fn*mk*n + 4*fn*mk*p + mk**2*n**2 + 2*mk**2*n*p + mk**2*p**2 - 2*mk*n*p - 2*mk*p**2 + p**2))/(2*mk) - (fm**2*p + 2*fn - 2*p)**2/(4*fm**2*p)"
      ]
     },
     "execution_count": 218,
     "metadata": {},
     "output_type": "execute_result"
    }
   ],
   "source": [
    "eq30"
   ]
  },
  {
   "cell_type": "code",
   "execution_count": 219,
   "metadata": {},
   "outputs": [],
   "source": [
    "# supposing that mk > 0 and fm > 0"
   ]
  },
  {
   "cell_type": "code",
   "execution_count": 220,
   "metadata": {},
   "outputs": [],
   "source": [
    "eq30 = sympy.simplify(eq30 * (2*mk*4*fm**2*p))"
   ]
  },
  {
   "cell_type": "code",
   "execution_count": 221,
   "metadata": {},
   "outputs": [
    {
     "name": "stdout",
     "output_type": "stream",
     "text": [
      "4*fm**2*mk*n*p + 4*fm**2*mk*p**2 + 4*fm**2*p**2 - 4*fm**2*p*sqrt(4*fn*mk*n + 4*fn*mk*p + mk**2*n**2 + 2*mk**2*n*p + mk**2*p**2 - 2*mk*n*p - 2*mk*p**2 + p**2) - 8*fn**2*mk + 16*fn*mk*p - 8*mk*p**2\n"
     ]
    }
   ],
   "source": [
    "print(eq30)"
   ]
  },
  {
   "cell_type": "code",
   "execution_count": 222,
   "metadata": {},
   "outputs": [],
   "source": [
    "expr = 4*fm**2*p*sqrt(4*fn*mk*n + 4*fn*mk*p + mk**2*n**2 + 2*mk**2*n*p + mk**2*p**2 - 2*mk*n*p - 2*mk*p**2 + p**2)"
   ]
  },
  {
   "cell_type": "code",
   "execution_count": 223,
   "metadata": {},
   "outputs": [],
   "source": [
    "eq30_mod = sympy.simplify(sympy.Eq((eq30 + expr)**2, (expr)**2))"
   ]
  },
  {
   "cell_type": "code",
   "execution_count": 224,
   "metadata": {},
   "outputs": [],
   "source": [
    "eq30_mod = eq30_mod.lhs - eq30_mod.rhs"
   ]
  },
  {
   "cell_type": "code",
   "execution_count": 225,
   "metadata": {},
   "outputs": [
    {
     "data": {
      "text/latex": [
       "$\\displaystyle - 16 fm^{4} p^{2} \\cdot \\left(4 fn mk n + 4 fn mk p + mk^{2} n^{2} + 2 mk^{2} n p + mk^{2} p^{2} - 2 mk n p - 2 mk p^{2} + p^{2}\\right) + 16 \\left(fm^{2} mk n p + fm^{2} mk p^{2} + fm^{2} p^{2} - 2 fn^{2} mk + 4 fn mk p - 2 mk p^{2}\\right)^{2}$"
      ],
      "text/plain": [
       "-16*fm**4*p**2*(4*fn*mk*n + 4*fn*mk*p + mk**2*n**2 + 2*mk**2*n*p + mk**2*p**2 - 2*mk*n*p - 2*mk*p**2 + p**2) + 16*(fm**2*mk*n*p + fm**2*mk*p**2 + fm**2*p**2 - 2*fn**2*mk + 4*fn*mk*p - 2*mk*p**2)**2"
      ]
     },
     "execution_count": 225,
     "metadata": {},
     "output_type": "execute_result"
    }
   ],
   "source": [
    "eq30_mod"
   ]
  },
  {
   "cell_type": "code",
   "execution_count": 226,
   "metadata": {},
   "outputs": [],
   "source": [
    "fn_sol_0 = sympy.solve(eq30_mod, fn, dict=True)"
   ]
  },
  {
   "cell_type": "code",
   "execution_count": 227,
   "metadata": {},
   "outputs": [
    {
     "data": {
      "text/plain": [
       "[{fn: p},\n",
       " {fn: p - (9*p**2 - 3*(-fm**2*mk*n*p - fm**2*mk*p**2 - fm**2*p**2 + 3*mk*p**2)/mk)/(3*(-27*p**3 + sqrt(-4*(9*p**2 - 3*(-fm**2*mk*n*p - fm**2*mk*p**2 - fm**2*p**2 + 3*mk*p**2)/mk)**3 + (-54*p**3 + 27*p*(-fm**2*mk*n*p - fm**2*mk*p**2 - fm**2*p**2 + 3*mk*p**2)/mk + 27*(-fm**4*n*p**2 - fm**4*p**3 + fm**2*mk*n*p**2 + fm**2*mk*p**3 + fm**2*p**3 - mk*p**3)/mk)**2)/2 + 27*p*(-fm**2*mk*n*p - fm**2*mk*p**2 - fm**2*p**2 + 3*mk*p**2)/(2*mk) + 27*(-fm**4*n*p**2 - fm**4*p**3 + fm**2*mk*n*p**2 + fm**2*mk*p**3 + fm**2*p**3 - mk*p**3)/(2*mk))**(1/3)) - (-27*p**3 + sqrt(-4*(9*p**2 - 3*(-fm**2*mk*n*p - fm**2*mk*p**2 - fm**2*p**2 + 3*mk*p**2)/mk)**3 + (-54*p**3 + 27*p*(-fm**2*mk*n*p - fm**2*mk*p**2 - fm**2*p**2 + 3*mk*p**2)/mk + 27*(-fm**4*n*p**2 - fm**4*p**3 + fm**2*mk*n*p**2 + fm**2*mk*p**3 + fm**2*p**3 - mk*p**3)/mk)**2)/2 + 27*p*(-fm**2*mk*n*p - fm**2*mk*p**2 - fm**2*p**2 + 3*mk*p**2)/(2*mk) + 27*(-fm**4*n*p**2 - fm**4*p**3 + fm**2*mk*n*p**2 + fm**2*mk*p**3 + fm**2*p**3 - mk*p**3)/(2*mk))**(1/3)/3},\n",
       " {fn: p - (9*p**2 - 3*(-fm**2*mk*n*p - fm**2*mk*p**2 - fm**2*p**2 + 3*mk*p**2)/mk)/(3*(-1/2 - sqrt(3)*I/2)*(-27*p**3 + sqrt(-4*(9*p**2 - 3*(-fm**2*mk*n*p - fm**2*mk*p**2 - fm**2*p**2 + 3*mk*p**2)/mk)**3 + (-54*p**3 + 27*p*(-fm**2*mk*n*p - fm**2*mk*p**2 - fm**2*p**2 + 3*mk*p**2)/mk + 27*(-fm**4*n*p**2 - fm**4*p**3 + fm**2*mk*n*p**2 + fm**2*mk*p**3 + fm**2*p**3 - mk*p**3)/mk)**2)/2 + 27*p*(-fm**2*mk*n*p - fm**2*mk*p**2 - fm**2*p**2 + 3*mk*p**2)/(2*mk) + 27*(-fm**4*n*p**2 - fm**4*p**3 + fm**2*mk*n*p**2 + fm**2*mk*p**3 + fm**2*p**3 - mk*p**3)/(2*mk))**(1/3)) - (-1/2 - sqrt(3)*I/2)*(-27*p**3 + sqrt(-4*(9*p**2 - 3*(-fm**2*mk*n*p - fm**2*mk*p**2 - fm**2*p**2 + 3*mk*p**2)/mk)**3 + (-54*p**3 + 27*p*(-fm**2*mk*n*p - fm**2*mk*p**2 - fm**2*p**2 + 3*mk*p**2)/mk + 27*(-fm**4*n*p**2 - fm**4*p**3 + fm**2*mk*n*p**2 + fm**2*mk*p**3 + fm**2*p**3 - mk*p**3)/mk)**2)/2 + 27*p*(-fm**2*mk*n*p - fm**2*mk*p**2 - fm**2*p**2 + 3*mk*p**2)/(2*mk) + 27*(-fm**4*n*p**2 - fm**4*p**3 + fm**2*mk*n*p**2 + fm**2*mk*p**3 + fm**2*p**3 - mk*p**3)/(2*mk))**(1/3)/3},\n",
       " {fn: p - (9*p**2 - 3*(-fm**2*mk*n*p - fm**2*mk*p**2 - fm**2*p**2 + 3*mk*p**2)/mk)/(3*(-1/2 + sqrt(3)*I/2)*(-27*p**3 + sqrt(-4*(9*p**2 - 3*(-fm**2*mk*n*p - fm**2*mk*p**2 - fm**2*p**2 + 3*mk*p**2)/mk)**3 + (-54*p**3 + 27*p*(-fm**2*mk*n*p - fm**2*mk*p**2 - fm**2*p**2 + 3*mk*p**2)/mk + 27*(-fm**4*n*p**2 - fm**4*p**3 + fm**2*mk*n*p**2 + fm**2*mk*p**3 + fm**2*p**3 - mk*p**3)/mk)**2)/2 + 27*p*(-fm**2*mk*n*p - fm**2*mk*p**2 - fm**2*p**2 + 3*mk*p**2)/(2*mk) + 27*(-fm**4*n*p**2 - fm**4*p**3 + fm**2*mk*n*p**2 + fm**2*mk*p**3 + fm**2*p**3 - mk*p**3)/(2*mk))**(1/3)) - (-1/2 + sqrt(3)*I/2)*(-27*p**3 + sqrt(-4*(9*p**2 - 3*(-fm**2*mk*n*p - fm**2*mk*p**2 - fm**2*p**2 + 3*mk*p**2)/mk)**3 + (-54*p**3 + 27*p*(-fm**2*mk*n*p - fm**2*mk*p**2 - fm**2*p**2 + 3*mk*p**2)/mk + 27*(-fm**4*n*p**2 - fm**4*p**3 + fm**2*mk*n*p**2 + fm**2*mk*p**3 + fm**2*p**3 - mk*p**3)/mk)**2)/2 + 27*p*(-fm**2*mk*n*p - fm**2*mk*p**2 - fm**2*p**2 + 3*mk*p**2)/(2*mk) + 27*(-fm**4*n*p**2 - fm**4*p**3 + fm**2*mk*n*p**2 + fm**2*mk*p**3 + fm**2*p**3 - mk*p**3)/(2*mk))**(1/3)/3}]"
      ]
     },
     "execution_count": 227,
     "metadata": {},
     "output_type": "execute_result"
    }
   ],
   "source": [
    "fn_sol_0"
   ]
  },
  {
   "cell_type": "code",
   "execution_count": 228,
   "metadata": {},
   "outputs": [
    {
     "data": {
      "text/latex": [
       "$\\displaystyle 30.0000000000001$"
      ],
      "text/plain": [
       "30.0000000000001"
      ]
     },
     "execution_count": 228,
     "metadata": {},
     "output_type": "execute_result"
    }
   ],
   "source": [
    "fn_sol_0[1][fn].subs({mk: mk_, fm: fm_, p: p_, n:n_})"
   ]
  },
  {
   "cell_type": "code",
   "execution_count": 229,
   "metadata": {},
   "outputs": [
    {
     "data": {
      "text/latex": [
       "$\\displaystyle 29.9999999999999$"
      ],
      "text/plain": [
       "29.9999999999999"
      ]
     },
     "execution_count": 229,
     "metadata": {},
     "output_type": "execute_result"
    }
   ],
   "source": [
    "tn1_sol_1.subs({mk: mk_, fm: fm_, p: p_, n:n_, fn: 30})"
   ]
  },
  {
   "cell_type": "code",
   "execution_count": 230,
   "metadata": {},
   "outputs": [
    {
     "name": "stdout",
     "output_type": "stream",
     "text": [
      "p - (9*p**2 - 3*(-fm**2*mk*n*p - fm**2*mk*p**2 - fm**2*p**2 + 3*mk*p**2)/mk)/(3*(-27*p**3 + sqrt(-4*(9*p**2 - 3*(-fm**2*mk*n*p - fm**2*mk*p**2 - fm**2*p**2 + 3*mk*p**2)/mk)**3 + (-54*p**3 + 27*p*(-fm**2*mk*n*p - fm**2*mk*p**2 - fm**2*p**2 + 3*mk*p**2)/mk + 27*(-fm**4*n*p**2 - fm**4*p**3 + fm**2*mk*n*p**2 + fm**2*mk*p**3 + fm**2*p**3 - mk*p**3)/mk)**2)/2 + 27*p*(-fm**2*mk*n*p - fm**2*mk*p**2 - fm**2*p**2 + 3*mk*p**2)/(2*mk) + 27*(-fm**4*n*p**2 - fm**4*p**3 + fm**2*mk*n*p**2 + fm**2*mk*p**3 + fm**2*p**3 - mk*p**3)/(2*mk))**(1/3)) - (-27*p**3 + sqrt(-4*(9*p**2 - 3*(-fm**2*mk*n*p - fm**2*mk*p**2 - fm**2*p**2 + 3*mk*p**2)/mk)**3 + (-54*p**3 + 27*p*(-fm**2*mk*n*p - fm**2*mk*p**2 - fm**2*p**2 + 3*mk*p**2)/mk + 27*(-fm**4*n*p**2 - fm**4*p**3 + fm**2*mk*n*p**2 + fm**2*mk*p**3 + fm**2*p**3 - mk*p**3)/mk)**2)/2 + 27*p*(-fm**2*mk*n*p - fm**2*mk*p**2 - fm**2*p**2 + 3*mk*p**2)/(2*mk) + 27*(-fm**4*n*p**2 - fm**4*p**3 + fm**2*mk*n*p**2 + fm**2*mk*p**3 + fm**2*p**3 - mk*p**3)/(2*mk))**(1/3)/3\n",
      "(-2*fn*mk + mk*n + mk*p - p + sqrt(4*fn*mk*n + 4*fn*mk*p + mk**2*n**2 + 2*mk**2*n*p + mk**2*p**2 - 2*mk*n*p - 2*mk*p**2 + p**2))/(2*mk)\n"
     ]
    }
   ],
   "source": [
    "# the right solutions\n",
    "print(fn_sol_0[1][fn])\n",
    "print(tn1_sol_1)"
   ]
  },
  {
   "cell_type": "code",
   "execution_count": 231,
   "metadata": {},
   "outputs": [],
   "source": [
    "fn_sol_a = fn_sol_0[1][fn]\n",
    "tn_sol_a = tn1_sol_1"
   ]
  },
  {
   "cell_type": "code",
   "execution_count": 232,
   "metadata": {},
   "outputs": [],
   "source": [
    "# the other way"
   ]
  },
  {
   "cell_type": "code",
   "execution_count": 233,
   "metadata": {},
   "outputs": [],
   "source": [
    "eq20 = tp0[1][tp] - tp2[0][tp]\n",
    "eq21 = tp1[0][tp] - tp2[0][tp]"
   ]
  },
  {
   "cell_type": "code",
   "execution_count": 234,
   "metadata": {},
   "outputs": [],
   "source": [
    "tn0 = sympy.solve(eq20, tn, dict=True)\n",
    "tn1 = sympy.solve(eq21, tn, dict=True)"
   ]
  },
  {
   "cell_type": "code",
   "execution_count": 235,
   "metadata": {},
   "outputs": [
    {
     "data": {
      "text/plain": [
       "[{tn: fm**2*p/4 + n - (fm**2*p + 2*fn - 2*p)**2/(4*fm**2*p)}]"
      ]
     },
     "execution_count": 235,
     "metadata": {},
     "output_type": "execute_result"
    }
   ],
   "source": [
    "tn0"
   ]
  },
  {
   "cell_type": "code",
   "execution_count": 236,
   "metadata": {},
   "outputs": [
    {
     "data": {
      "text/plain": [
       "[{tn: (-2*fn*mk + mk*n + mk*p - p - sqrt(4*fn*mk*n + 4*fn*mk*p + mk**2*n**2 + 2*mk**2*n*p + mk**2*p**2 - 2*mk*n*p - 2*mk*p**2 + p**2))/(2*mk)},\n",
       " {tn: (-2*fn*mk + mk*n + mk*p - p + sqrt(4*fn*mk*n + 4*fn*mk*p + mk**2*n**2 + 2*mk**2*n*p + mk**2*p**2 - 2*mk*n*p - 2*mk*p**2 + p**2))/(2*mk)}]"
      ]
     },
     "execution_count": 236,
     "metadata": {},
     "output_type": "execute_result"
    }
   ],
   "source": [
    "tn1"
   ]
  },
  {
   "cell_type": "code",
   "execution_count": 237,
   "metadata": {},
   "outputs": [],
   "source": [
    "# tn1 case 0"
   ]
  },
  {
   "cell_type": "code",
   "execution_count": 238,
   "metadata": {},
   "outputs": [],
   "source": [
    "tn1_sol_0 = tn1[0][tn]"
   ]
  },
  {
   "cell_type": "code",
   "execution_count": 239,
   "metadata": {},
   "outputs": [],
   "source": [
    "eq30 = tn0[0][tn] - tn1[0][tn]"
   ]
  },
  {
   "cell_type": "code",
   "execution_count": 240,
   "metadata": {},
   "outputs": [
    {
     "data": {
      "text/latex": [
       "$\\displaystyle \\frac{fm^{2} p}{4} + n - \\frac{- 2 fn mk + mk n + mk p - p - \\sqrt{4 fn mk n + 4 fn mk p + mk^{2} n^{2} + 2 mk^{2} n p + mk^{2} p^{2} - 2 mk n p - 2 mk p^{2} + p^{2}}}{2 mk} - \\frac{\\left(fm^{2} p + 2 fn - 2 p\\right)^{2}}{4 fm^{2} p}$"
      ],
      "text/plain": [
       "fm**2*p/4 + n - (-2*fn*mk + mk*n + mk*p - p - sqrt(4*fn*mk*n + 4*fn*mk*p + mk**2*n**2 + 2*mk**2*n*p + mk**2*p**2 - 2*mk*n*p - 2*mk*p**2 + p**2))/(2*mk) - (fm**2*p + 2*fn - 2*p)**2/(4*fm**2*p)"
      ]
     },
     "execution_count": 240,
     "metadata": {},
     "output_type": "execute_result"
    }
   ],
   "source": [
    "eq30"
   ]
  },
  {
   "cell_type": "code",
   "execution_count": 241,
   "metadata": {},
   "outputs": [],
   "source": [
    "# supposing that mk > 0 and fm > 0"
   ]
  },
  {
   "cell_type": "code",
   "execution_count": 242,
   "metadata": {},
   "outputs": [],
   "source": [
    "eq30 = sympy.simplify(eq30 * (2*mk*4*fm**2*p))"
   ]
  },
  {
   "cell_type": "code",
   "execution_count": 243,
   "metadata": {},
   "outputs": [
    {
     "name": "stdout",
     "output_type": "stream",
     "text": [
      "4*fm**2*mk*n*p + 4*fm**2*mk*p**2 + 4*fm**2*p**2 + 4*fm**2*p*sqrt(4*fn*mk*n + 4*fn*mk*p + mk**2*n**2 + 2*mk**2*n*p + mk**2*p**2 - 2*mk*n*p - 2*mk*p**2 + p**2) - 8*fn**2*mk + 16*fn*mk*p - 8*mk*p**2\n"
     ]
    }
   ],
   "source": [
    "print(eq30)"
   ]
  },
  {
   "cell_type": "code",
   "execution_count": 244,
   "metadata": {},
   "outputs": [],
   "source": [
    "expr = 4*fm**2*p*sqrt(4*fn*mk*n + 4*fn*mk*p + mk**2*n**2 + 2*mk**2*n*p + mk**2*p**2 - 2*mk*n*p - 2*mk*p**2 + p**2)"
   ]
  },
  {
   "cell_type": "code",
   "execution_count": 245,
   "metadata": {},
   "outputs": [],
   "source": [
    "eq30_mod = sympy.simplify(sympy.Eq((eq30 - expr)**2, (-expr)**2))"
   ]
  },
  {
   "cell_type": "code",
   "execution_count": 246,
   "metadata": {},
   "outputs": [],
   "source": [
    "eq30_mod = eq30_mod.lhs - eq30_mod.rhs"
   ]
  },
  {
   "cell_type": "code",
   "execution_count": 247,
   "metadata": {},
   "outputs": [
    {
     "data": {
      "text/latex": [
       "$\\displaystyle - 16 fm^{4} p^{2} \\cdot \\left(4 fn mk n + 4 fn mk p + mk^{2} n^{2} + 2 mk^{2} n p + mk^{2} p^{2} - 2 mk n p - 2 mk p^{2} + p^{2}\\right) + 16 \\left(fm^{2} mk n p + fm^{2} mk p^{2} + fm^{2} p^{2} - 2 fn^{2} mk + 4 fn mk p - 2 mk p^{2}\\right)^{2}$"
      ],
      "text/plain": [
       "-16*fm**4*p**2*(4*fn*mk*n + 4*fn*mk*p + mk**2*n**2 + 2*mk**2*n*p + mk**2*p**2 - 2*mk*n*p - 2*mk*p**2 + p**2) + 16*(fm**2*mk*n*p + fm**2*mk*p**2 + fm**2*p**2 - 2*fn**2*mk + 4*fn*mk*p - 2*mk*p**2)**2"
      ]
     },
     "execution_count": 247,
     "metadata": {},
     "output_type": "execute_result"
    }
   ],
   "source": [
    "eq30_mod"
   ]
  },
  {
   "cell_type": "code",
   "execution_count": 248,
   "metadata": {},
   "outputs": [],
   "source": [
    "fn_sol_0 = sympy.solve(eq30_mod, fn, dict=True)"
   ]
  },
  {
   "cell_type": "code",
   "execution_count": 249,
   "metadata": {},
   "outputs": [
    {
     "data": {
      "text/latex": [
       "$\\displaystyle 30.0000000000001$"
      ],
      "text/plain": [
       "30.0000000000001"
      ]
     },
     "execution_count": 249,
     "metadata": {},
     "output_type": "execute_result"
    }
   ],
   "source": [
    "fn_sol_0[1][fn].subs({mk: mk_, fm: fm_, p: p_, n:n_})"
   ]
  },
  {
   "cell_type": "code",
   "execution_count": 250,
   "metadata": {},
   "outputs": [
    {
     "data": {
      "text/latex": [
       "$\\displaystyle 240.0$"
      ],
      "text/plain": [
       "240.000000000000"
      ]
     },
     "execution_count": 250,
     "metadata": {},
     "output_type": "execute_result"
    }
   ],
   "source": [
    "tn1_sol_0.subs({mk: mk_, fm: fm_, p: p_, n:n_, fn: 30})"
   ]
  },
  {
   "cell_type": "code",
   "execution_count": 251,
   "metadata": {},
   "outputs": [],
   "source": [
    "# tn1 case 1"
   ]
  },
  {
   "cell_type": "code",
   "execution_count": 252,
   "metadata": {},
   "outputs": [],
   "source": [
    "tn1_sol_0 = tn1[1][tn]"
   ]
  },
  {
   "cell_type": "code",
   "execution_count": 253,
   "metadata": {},
   "outputs": [],
   "source": [
    "eq30 = tn0[0][tn] - tn1[0][tn]"
   ]
  },
  {
   "cell_type": "code",
   "execution_count": 254,
   "metadata": {},
   "outputs": [
    {
     "data": {
      "text/latex": [
       "$\\displaystyle \\frac{fm^{2} p}{4} + n - \\frac{- 2 fn mk + mk n + mk p - p - \\sqrt{4 fn mk n + 4 fn mk p + mk^{2} n^{2} + 2 mk^{2} n p + mk^{2} p^{2} - 2 mk n p - 2 mk p^{2} + p^{2}}}{2 mk} - \\frac{\\left(fm^{2} p + 2 fn - 2 p\\right)^{2}}{4 fm^{2} p}$"
      ],
      "text/plain": [
       "fm**2*p/4 + n - (-2*fn*mk + mk*n + mk*p - p - sqrt(4*fn*mk*n + 4*fn*mk*p + mk**2*n**2 + 2*mk**2*n*p + mk**2*p**2 - 2*mk*n*p - 2*mk*p**2 + p**2))/(2*mk) - (fm**2*p + 2*fn - 2*p)**2/(4*fm**2*p)"
      ]
     },
     "execution_count": 254,
     "metadata": {},
     "output_type": "execute_result"
    }
   ],
   "source": [
    "eq30"
   ]
  },
  {
   "cell_type": "code",
   "execution_count": 255,
   "metadata": {},
   "outputs": [],
   "source": [
    "# supposing that mk > 0 and fm > 0"
   ]
  },
  {
   "cell_type": "code",
   "execution_count": 256,
   "metadata": {},
   "outputs": [],
   "source": [
    "eq30 = sympy.simplify(eq30 * (2*mk*4*fm**2*p))"
   ]
  },
  {
   "cell_type": "code",
   "execution_count": 257,
   "metadata": {},
   "outputs": [
    {
     "name": "stdout",
     "output_type": "stream",
     "text": [
      "4*fm**2*mk*n*p + 4*fm**2*mk*p**2 + 4*fm**2*p**2 + 4*fm**2*p*sqrt(4*fn*mk*n + 4*fn*mk*p + mk**2*n**2 + 2*mk**2*n*p + mk**2*p**2 - 2*mk*n*p - 2*mk*p**2 + p**2) - 8*fn**2*mk + 16*fn*mk*p - 8*mk*p**2\n"
     ]
    }
   ],
   "source": [
    "print(eq30)"
   ]
  },
  {
   "cell_type": "code",
   "execution_count": 258,
   "metadata": {},
   "outputs": [],
   "source": [
    "expr = 4*fm**2*p*sqrt(4*fn*mk*n + 4*fn*mk*p + mk**2*n**2 + 2*mk**2*n*p + mk**2*p**2 - 2*mk*n*p - 2*mk*p**2 + p**2)"
   ]
  },
  {
   "cell_type": "code",
   "execution_count": 259,
   "metadata": {},
   "outputs": [],
   "source": [
    "eq30_mod = sympy.simplify(sympy.Eq((eq30 - expr)**2, (-expr)**2))"
   ]
  },
  {
   "cell_type": "code",
   "execution_count": 260,
   "metadata": {},
   "outputs": [],
   "source": [
    "eq30_mod = eq30_mod.lhs - eq30_mod.rhs"
   ]
  },
  {
   "cell_type": "code",
   "execution_count": 261,
   "metadata": {},
   "outputs": [
    {
     "data": {
      "text/latex": [
       "$\\displaystyle - 16 fm^{4} p^{2} \\cdot \\left(4 fn mk n + 4 fn mk p + mk^{2} n^{2} + 2 mk^{2} n p + mk^{2} p^{2} - 2 mk n p - 2 mk p^{2} + p^{2}\\right) + 16 \\left(fm^{2} mk n p + fm^{2} mk p^{2} + fm^{2} p^{2} - 2 fn^{2} mk + 4 fn mk p - 2 mk p^{2}\\right)^{2}$"
      ],
      "text/plain": [
       "-16*fm**4*p**2*(4*fn*mk*n + 4*fn*mk*p + mk**2*n**2 + 2*mk**2*n*p + mk**2*p**2 - 2*mk*n*p - 2*mk*p**2 + p**2) + 16*(fm**2*mk*n*p + fm**2*mk*p**2 + fm**2*p**2 - 2*fn**2*mk + 4*fn*mk*p - 2*mk*p**2)**2"
      ]
     },
     "execution_count": 261,
     "metadata": {},
     "output_type": "execute_result"
    }
   ],
   "source": [
    "eq30_mod"
   ]
  },
  {
   "cell_type": "code",
   "execution_count": 262,
   "metadata": {},
   "outputs": [],
   "source": [
    "fn_sol_0 = sympy.solve(eq30_mod, fn, dict=True)"
   ]
  },
  {
   "cell_type": "code",
   "execution_count": 263,
   "metadata": {},
   "outputs": [
    {
     "data": {
      "text/latex": [
       "$\\displaystyle 30.0000000000001$"
      ],
      "text/plain": [
       "30.0000000000001"
      ]
     },
     "execution_count": 263,
     "metadata": {},
     "output_type": "execute_result"
    }
   ],
   "source": [
    "fn_sol_0[1][fn].subs({mk: mk_, fm: fm_, p: p_, n:n_})"
   ]
  },
  {
   "cell_type": "code",
   "execution_count": 264,
   "metadata": {},
   "outputs": [
    {
     "data": {
      "text/latex": [
       "$\\displaystyle 29.9999999999999$"
      ],
      "text/plain": [
       "29.9999999999999"
      ]
     },
     "execution_count": 264,
     "metadata": {},
     "output_type": "execute_result"
    }
   ],
   "source": [
    "tn1_sol_0.subs({mk: mk_, fm: fm_, p: p_, n:n_, fn: 30})"
   ]
  },
  {
   "cell_type": "code",
   "execution_count": 265,
   "metadata": {},
   "outputs": [
    {
     "name": "stdout",
     "output_type": "stream",
     "text": [
      "p - (9*p**2 - 3*(-fm**2*mk*n*p - fm**2*mk*p**2 - fm**2*p**2 + 3*mk*p**2)/mk)/(3*(-27*p**3 + sqrt(-4*(9*p**2 - 3*(-fm**2*mk*n*p - fm**2*mk*p**2 - fm**2*p**2 + 3*mk*p**2)/mk)**3 + (-54*p**3 + 27*p*(-fm**2*mk*n*p - fm**2*mk*p**2 - fm**2*p**2 + 3*mk*p**2)/mk + 27*(-fm**4*n*p**2 - fm**4*p**3 + fm**2*mk*n*p**2 + fm**2*mk*p**3 + fm**2*p**3 - mk*p**3)/mk)**2)/2 + 27*p*(-fm**2*mk*n*p - fm**2*mk*p**2 - fm**2*p**2 + 3*mk*p**2)/(2*mk) + 27*(-fm**4*n*p**2 - fm**4*p**3 + fm**2*mk*n*p**2 + fm**2*mk*p**3 + fm**2*p**3 - mk*p**3)/(2*mk))**(1/3)) - (-27*p**3 + sqrt(-4*(9*p**2 - 3*(-fm**2*mk*n*p - fm**2*mk*p**2 - fm**2*p**2 + 3*mk*p**2)/mk)**3 + (-54*p**3 + 27*p*(-fm**2*mk*n*p - fm**2*mk*p**2 - fm**2*p**2 + 3*mk*p**2)/mk + 27*(-fm**4*n*p**2 - fm**4*p**3 + fm**2*mk*n*p**2 + fm**2*mk*p**3 + fm**2*p**3 - mk*p**3)/mk)**2)/2 + 27*p*(-fm**2*mk*n*p - fm**2*mk*p**2 - fm**2*p**2 + 3*mk*p**2)/(2*mk) + 27*(-fm**4*n*p**2 - fm**4*p**3 + fm**2*mk*n*p**2 + fm**2*mk*p**3 + fm**2*p**3 - mk*p**3)/(2*mk))**(1/3)/3\n",
      "(-2*fn*mk + mk*n + mk*p - p + sqrt(4*fn*mk*n + 4*fn*mk*p + mk**2*n**2 + 2*mk**2*n*p + mk**2*p**2 - 2*mk*n*p - 2*mk*p**2 + p**2))/(2*mk)\n"
     ]
    }
   ],
   "source": [
    "# the other true solution\n",
    "print(fn_sol_0[1][fn])\n",
    "print(tn1_sol_0)"
   ]
  },
  {
   "cell_type": "code",
   "execution_count": 266,
   "metadata": {},
   "outputs": [],
   "source": [
    "fn_sol_b = fn_sol_0[1][fn]\n",
    "tn_sol_b = tn1_sol_0"
   ]
  },
  {
   "cell_type": "code",
   "execution_count": 267,
   "metadata": {},
   "outputs": [
    {
     "data": {
      "text/plain": [
       "True"
      ]
     },
     "execution_count": 267,
     "metadata": {},
     "output_type": "execute_result"
    }
   ],
   "source": [
    "fn_sol_a == fn_sol_b"
   ]
  },
  {
   "cell_type": "code",
   "execution_count": 268,
   "metadata": {},
   "outputs": [
    {
     "data": {
      "text/plain": [
       "True"
      ]
     },
     "execution_count": 268,
     "metadata": {},
     "output_type": "execute_result"
    }
   ],
   "source": [
    "tn_sol_a == tn_sol_b"
   ]
  },
  {
   "cell_type": "code",
   "execution_count": null,
   "metadata": {},
   "outputs": [],
   "source": []
  }
 ],
 "metadata": {
  "kernelspec": {
   "display_name": "mlscorecheck",
   "language": "python",
   "name": "python3"
  },
  "language_info": {
   "codemirror_mode": {
    "name": "ipython",
    "version": 3
   },
   "file_extension": ".py",
   "mimetype": "text/x-python",
   "name": "python",
   "nbconvert_exporter": "python",
   "pygments_lexer": "ipython3",
   "version": "3.10.0"
  },
  "orig_nbformat": 4
 },
 "nbformat": 4,
 "nbformat_minor": 2
}
