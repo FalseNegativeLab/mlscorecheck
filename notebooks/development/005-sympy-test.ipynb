{
 "cells": [
  {
   "cell_type": "code",
   "execution_count": 1,
   "metadata": {},
   "outputs": [],
   "source": [
    "from mlscorecheck.core import *"
   ]
  },
  {
   "cell_type": "code",
   "execution_count": 4,
   "metadata": {},
   "outputs": [],
   "source": [
    "lrp = PositiveLikelihoodRatio()"
   ]
  },
  {
   "cell_type": "code",
   "execution_count": 5,
   "metadata": {},
   "outputs": [
    {
     "data": {
      "text/latex": [
       "$\\displaystyle fp lrp p - n tp$"
      ],
      "text/plain": [
       "fp*lrp*p - n*tp"
      ]
     },
     "execution_count": 5,
     "metadata": {},
     "output_type": "execute_result"
    }
   ],
   "source": [
    "lrp.equation_polynomial"
   ]
  },
  {
   "cell_type": "code",
   "execution_count": 19,
   "metadata": {},
   "outputs": [],
   "source": [
    "from mlscorecheck.core import prevalence_threshold, diagnostic_odds_ratio, balanced_accuracy, cohens_kappa\n",
    "import sympy as sp"
   ]
  },
  {
   "cell_type": "code",
   "execution_count": 13,
   "metadata": {},
   "outputs": [],
   "source": [
    "tp = sp.Symbol('tp')\n",
    "tn = sp.Symbol('tn')\n",
    "fp = sp.Symbol('fp')\n",
    "p = sp.Symbol('p')\n",
    "n = sp.Symbol('n')"
   ]
  },
  {
   "cell_type": "code",
   "execution_count": 25,
   "metadata": {},
   "outputs": [
    {
     "data": {
      "text/latex": [
       "$\\displaystyle \\frac{tn + tp}{\\left(n + p\\right) \\left(\\frac{\\left(tn + tp\\right) \\left(n + p - tn - tp\\right)}{2 tn tp - 2 \\left(n - tp\\right) \\left(p - tn\\right)} + \\frac{tn + tp}{n + p}\\right)}$"
      ],
      "text/plain": [
       "(tn + tp)/((n + p)*((tn + tp)*(n + p - tn - tp)/(2*tn*tp - 2*(n - tp)*(p - tn)) + (tn + tp)/(n + p)))"
      ]
     },
     "execution_count": 25,
     "metadata": {},
     "output_type": "execute_result"
    }
   ],
   "source": [
    "cohens_kappa(tp=tp, tn=tn, p=p, n=n)"
   ]
  },
  {
   "cell_type": "code",
   "execution_count": 24,
   "metadata": {},
   "outputs": [
    {
     "data": {
      "text/latex": [
       "$\\displaystyle - \\frac{2 \\left(n p - n tn - p tp\\right)}{n^{2} + n tn - n tp + p^{2} - p tn + p tp}$"
      ],
      "text/plain": [
       "-2*(n*p - n*tn - p*tp)/(n**2 + n*tn - n*tp + p**2 - p*tn + p*tp)"
      ]
     },
     "execution_count": 24,
     "metadata": {},
     "output_type": "execute_result"
    }
   ],
   "source": [
    "sp.factor(cohens_kappa(tp=tp, tn=tn, p=p, n=n))"
   ]
  },
  {
   "cell_type": "code",
   "execution_count": 22,
   "metadata": {},
   "outputs": [
    {
     "ename": "TypeError",
     "evalue": "Invalid NaN comparison",
     "output_type": "error",
     "traceback": [
      "\u001b[0;31m---------------------------------------------------------------------------\u001b[0m",
      "\u001b[0;31mTypeError\u001b[0m                                 Traceback (most recent call last)",
      "Cell \u001b[0;32mIn[22], line 1\u001b[0m\n\u001b[0;32m----> 1\u001b[0m sp\u001b[39m.\u001b[39;49msolve(cohens_kappa(tp\u001b[39m=\u001b[39;49mtp, tn\u001b[39m=\u001b[39;49mtn, p\u001b[39m=\u001b[39;49mp, n\u001b[39m=\u001b[39;49mn), \u001b[39mdict\u001b[39;49m\u001b[39m=\u001b[39;49m\u001b[39mTrue\u001b[39;49;00m)\n",
      "File \u001b[0;32m~/anaconda3/envs/mlscorecheck/lib/python3.10/site-packages/sympy/solvers/solvers.py:1145\u001b[0m, in \u001b[0;36msolve\u001b[0;34m(f, *symbols, **flags)\u001b[0m\n\u001b[1;32m   1143\u001b[0m         solution \u001b[39m=\u001b[39m _solve_undetermined(f[\u001b[39m0\u001b[39m], symbols, flags)\n\u001b[1;32m   1144\u001b[0m     \u001b[39mif\u001b[39;00m \u001b[39mnot\u001b[39;00m solution:\n\u001b[0;32m-> 1145\u001b[0m         solution \u001b[39m=\u001b[39m _solve(f[\u001b[39m0\u001b[39;49m], \u001b[39m*\u001b[39;49msymbols, \u001b[39m*\u001b[39;49m\u001b[39m*\u001b[39;49mflags)\n\u001b[1;32m   1146\u001b[0m \u001b[39melse\u001b[39;00m:\n\u001b[1;32m   1147\u001b[0m     linear, solution \u001b[39m=\u001b[39m _solve_system(f, symbols, \u001b[39m*\u001b[39m\u001b[39m*\u001b[39mflags)\n",
      "File \u001b[0;32m~/anaconda3/envs/mlscorecheck/lib/python3.10/site-packages/sympy/solvers/solvers.py:1340\u001b[0m, in \u001b[0;36m_solve\u001b[0;34m(f, *symbols, **flags)\u001b[0m\n\u001b[1;32m   1338\u001b[0m \u001b[39mfor\u001b[39;00m s \u001b[39min\u001b[39;00m nonlin_s:\n\u001b[1;32m   1339\u001b[0m     \u001b[39mtry\u001b[39;00m:\n\u001b[0;32m-> 1340\u001b[0m         soln \u001b[39m=\u001b[39m _solve(f, s, \u001b[39m*\u001b[39;49m\u001b[39m*\u001b[39;49mflags)\n\u001b[1;32m   1341\u001b[0m         \u001b[39mfor\u001b[39;00m sol \u001b[39min\u001b[39;00m soln:\n\u001b[1;32m   1342\u001b[0m             \u001b[39mif\u001b[39;00m sol[s]\u001b[39m.\u001b[39mfree_symbols \u001b[39m&\u001b[39m got_s:\n\u001b[1;32m   1343\u001b[0m                 \u001b[39m# depends on previously solved symbols: ignore\u001b[39;00m\n",
      "File \u001b[0;32m~/anaconda3/envs/mlscorecheck/lib/python3.10/site-packages/sympy/solvers/solvers.py:1374\u001b[0m, in \u001b[0;36m_solve\u001b[0;34m(f, *symbols, **flags)\u001b[0m\n\u001b[1;32m   1372\u001b[0m         result \u001b[39m=\u001b[39m \u001b[39mset\u001b[39m()\n\u001b[1;32m   1373\u001b[0m         \u001b[39mbreak\u001b[39;00m\n\u001b[0;32m-> 1374\u001b[0m     soln \u001b[39m=\u001b[39m _vsolve(m, symbol, \u001b[39m*\u001b[39;49m\u001b[39m*\u001b[39;49mflags)\n\u001b[1;32m   1375\u001b[0m     result\u001b[39m.\u001b[39mupdate(\u001b[39mset\u001b[39m(soln))\n\u001b[1;32m   1376\u001b[0m result \u001b[39m=\u001b[39m [{symbol: v} \u001b[39mfor\u001b[39;00m v \u001b[39min\u001b[39;00m result]\n",
      "File \u001b[0;32m~/anaconda3/envs/mlscorecheck/lib/python3.10/site-packages/sympy/solvers/solvers.py:2606\u001b[0m, in \u001b[0;36m_vsolve\u001b[0;34m(e, s, **flags)\u001b[0m\n\u001b[1;32m   2604\u001b[0m \u001b[39mdef\u001b[39;00m \u001b[39m_vsolve\u001b[39m(e, s, \u001b[39m*\u001b[39m\u001b[39m*\u001b[39mflags):\n\u001b[1;32m   2605\u001b[0m \u001b[39m    \u001b[39m\u001b[39m\"\"\"return list of scalar values for the solution of e for symbol s\"\"\"\u001b[39;00m\n\u001b[0;32m-> 2606\u001b[0m     \u001b[39mreturn\u001b[39;00m [i[s] \u001b[39mfor\u001b[39;00m i \u001b[39min\u001b[39;00m _solve(e, s, \u001b[39m*\u001b[39;49m\u001b[39m*\u001b[39;49mflags)]\n",
      "File \u001b[0;32m~/anaconda3/envs/mlscorecheck/lib/python3.10/site-packages/sympy/solvers/solvers.py:1709\u001b[0m, in \u001b[0;36m_solve\u001b[0;34m(f, *symbols, **flags)\u001b[0m\n\u001b[1;32m   1705\u001b[0m \u001b[39mif\u001b[39;00m checkdens:\n\u001b[1;32m   1706\u001b[0m     \u001b[39m# reject any result that makes any denom. affirmatively 0;\u001b[39;00m\n\u001b[1;32m   1707\u001b[0m     \u001b[39m# if in doubt, keep it\u001b[39;00m\n\u001b[1;32m   1708\u001b[0m     dens \u001b[39m=\u001b[39m _simple_dens(f, symbols)\n\u001b[0;32m-> 1709\u001b[0m     result \u001b[39m=\u001b[39m [r \u001b[39mfor\u001b[39;00m r \u001b[39min\u001b[39;00m result \u001b[39mif\u001b[39;00m\n\u001b[1;32m   1710\u001b[0m               \u001b[39mnot\u001b[39;00m \u001b[39many\u001b[39m(checksol(d, r, \u001b[39m*\u001b[39m\u001b[39m*\u001b[39mflags)\n\u001b[1;32m   1711\u001b[0m                       \u001b[39mfor\u001b[39;00m d \u001b[39min\u001b[39;00m dens)]\n\u001b[1;32m   1712\u001b[0m \u001b[39mif\u001b[39;00m check:\n\u001b[1;32m   1713\u001b[0m     \u001b[39m# keep only results if the check is not False\u001b[39;00m\n\u001b[1;32m   1714\u001b[0m     result \u001b[39m=\u001b[39m [r \u001b[39mfor\u001b[39;00m r \u001b[39min\u001b[39;00m result \u001b[39mif\u001b[39;00m\n\u001b[1;32m   1715\u001b[0m               checksol(f_num, r, \u001b[39m*\u001b[39m\u001b[39m*\u001b[39mflags) \u001b[39mis\u001b[39;00m \u001b[39mnot\u001b[39;00m \u001b[39mFalse\u001b[39;00m]\n",
      "File \u001b[0;32m~/anaconda3/envs/mlscorecheck/lib/python3.10/site-packages/sympy/solvers/solvers.py:1710\u001b[0m, in \u001b[0;36m<listcomp>\u001b[0;34m(.0)\u001b[0m\n\u001b[1;32m   1705\u001b[0m \u001b[39mif\u001b[39;00m checkdens:\n\u001b[1;32m   1706\u001b[0m     \u001b[39m# reject any result that makes any denom. affirmatively 0;\u001b[39;00m\n\u001b[1;32m   1707\u001b[0m     \u001b[39m# if in doubt, keep it\u001b[39;00m\n\u001b[1;32m   1708\u001b[0m     dens \u001b[39m=\u001b[39m _simple_dens(f, symbols)\n\u001b[1;32m   1709\u001b[0m     result \u001b[39m=\u001b[39m [r \u001b[39mfor\u001b[39;00m r \u001b[39min\u001b[39;00m result \u001b[39mif\u001b[39;00m\n\u001b[0;32m-> 1710\u001b[0m               \u001b[39mnot\u001b[39;00m \u001b[39many\u001b[39;49m(checksol(d, r, \u001b[39m*\u001b[39;49m\u001b[39m*\u001b[39;49mflags)\n\u001b[1;32m   1711\u001b[0m                       \u001b[39mfor\u001b[39;49;00m d \u001b[39min\u001b[39;49;00m dens)]\n\u001b[1;32m   1712\u001b[0m \u001b[39mif\u001b[39;00m check:\n\u001b[1;32m   1713\u001b[0m     \u001b[39m# keep only results if the check is not False\u001b[39;00m\n\u001b[1;32m   1714\u001b[0m     result \u001b[39m=\u001b[39m [r \u001b[39mfor\u001b[39;00m r \u001b[39min\u001b[39;00m result \u001b[39mif\u001b[39;00m\n\u001b[1;32m   1715\u001b[0m               checksol(f_num, r, \u001b[39m*\u001b[39m\u001b[39m*\u001b[39mflags) \u001b[39mis\u001b[39;00m \u001b[39mnot\u001b[39;00m \u001b[39mFalse\u001b[39;00m]\n",
      "File \u001b[0;32m~/anaconda3/envs/mlscorecheck/lib/python3.10/site-packages/sympy/solvers/solvers.py:1710\u001b[0m, in \u001b[0;36m<genexpr>\u001b[0;34m(.0)\u001b[0m\n\u001b[1;32m   1705\u001b[0m \u001b[39mif\u001b[39;00m checkdens:\n\u001b[1;32m   1706\u001b[0m     \u001b[39m# reject any result that makes any denom. affirmatively 0;\u001b[39;00m\n\u001b[1;32m   1707\u001b[0m     \u001b[39m# if in doubt, keep it\u001b[39;00m\n\u001b[1;32m   1708\u001b[0m     dens \u001b[39m=\u001b[39m _simple_dens(f, symbols)\n\u001b[1;32m   1709\u001b[0m     result \u001b[39m=\u001b[39m [r \u001b[39mfor\u001b[39;00m r \u001b[39min\u001b[39;00m result \u001b[39mif\u001b[39;00m\n\u001b[0;32m-> 1710\u001b[0m               \u001b[39mnot\u001b[39;00m \u001b[39many\u001b[39m(checksol(d, r, \u001b[39m*\u001b[39;49m\u001b[39m*\u001b[39;49mflags)\n\u001b[1;32m   1711\u001b[0m                       \u001b[39mfor\u001b[39;00m d \u001b[39min\u001b[39;00m dens)]\n\u001b[1;32m   1712\u001b[0m \u001b[39mif\u001b[39;00m check:\n\u001b[1;32m   1713\u001b[0m     \u001b[39m# keep only results if the check is not False\u001b[39;00m\n\u001b[1;32m   1714\u001b[0m     result \u001b[39m=\u001b[39m [r \u001b[39mfor\u001b[39;00m r \u001b[39min\u001b[39;00m result \u001b[39mif\u001b[39;00m\n\u001b[1;32m   1715\u001b[0m               checksol(f_num, r, \u001b[39m*\u001b[39m\u001b[39m*\u001b[39mflags) \u001b[39mis\u001b[39;00m \u001b[39mnot\u001b[39;00m \u001b[39mFalse\u001b[39;00m]\n",
      "File \u001b[0;32m~/anaconda3/envs/mlscorecheck/lib/python3.10/site-packages/sympy/solvers/solvers.py:360\u001b[0m, in \u001b[0;36mchecksol\u001b[0;34m(f, symbol, sol, **flags)\u001b[0m\n\u001b[1;32m    358\u001b[0m         \u001b[39mreturn\u001b[39;00m val \u001b[39m==\u001b[39m \u001b[39m0\u001b[39m\n\u001b[1;32m    359\u001b[0m     \u001b[39mif\u001b[39;00m numerical \u001b[39mand\u001b[39;00m val\u001b[39m.\u001b[39mis_number:\n\u001b[0;32m--> 360\u001b[0m         \u001b[39mreturn\u001b[39;00m (\u001b[39mabs\u001b[39;49m(val\u001b[39m.\u001b[39;49mn(\u001b[39m18\u001b[39;49m)\u001b[39m.\u001b[39;49mn(\u001b[39m12\u001b[39;49m, chop\u001b[39m=\u001b[39;49m\u001b[39mTrue\u001b[39;49;00m)) \u001b[39m<\u001b[39;49m \u001b[39m1e-9\u001b[39;49m) \u001b[39mis\u001b[39;00m S\u001b[39m.\u001b[39mtrue\n\u001b[1;32m    362\u001b[0m \u001b[39mif\u001b[39;00m flags\u001b[39m.\u001b[39mget(\u001b[39m'\u001b[39m\u001b[39mwarn\u001b[39m\u001b[39m'\u001b[39m, \u001b[39mFalse\u001b[39;00m):\n\u001b[1;32m    363\u001b[0m     warnings\u001b[39m.\u001b[39mwarn(\u001b[39m\"\u001b[39m\u001b[39m\\n\u001b[39;00m\u001b[39m\\t\u001b[39;00m\u001b[39mWarning: could not verify solution \u001b[39m\u001b[39m%s\u001b[39;00m\u001b[39m.\u001b[39m\u001b[39m\"\u001b[39m \u001b[39m%\u001b[39m sol)\n",
      "File \u001b[0;32m~/anaconda3/envs/mlscorecheck/lib/python3.10/site-packages/sympy/core/decorators.py:236\u001b[0m, in \u001b[0;36m_SympifyWrapper.make_wrapped.<locals>._func\u001b[0;34m(self, other)\u001b[0m\n\u001b[1;32m    234\u001b[0m \u001b[39mif\u001b[39;00m \u001b[39mnot\u001b[39;00m \u001b[39misinstance\u001b[39m(other, expectedcls):\n\u001b[1;32m    235\u001b[0m     \u001b[39mreturn\u001b[39;00m retval\n\u001b[0;32m--> 236\u001b[0m \u001b[39mreturn\u001b[39;00m func(\u001b[39mself\u001b[39;49m, other)\n",
      "File \u001b[0;32m~/anaconda3/envs/mlscorecheck/lib/python3.10/site-packages/sympy/core/expr.py:376\u001b[0m, in \u001b[0;36mExpr.__lt__\u001b[0;34m(self, other)\u001b[0m\n\u001b[1;32m    373\u001b[0m \u001b[39m@sympify_return\u001b[39m([(\u001b[39m'\u001b[39m\u001b[39mother\u001b[39m\u001b[39m'\u001b[39m, \u001b[39m'\u001b[39m\u001b[39mExpr\u001b[39m\u001b[39m'\u001b[39m)], \u001b[39mNotImplemented\u001b[39m)\n\u001b[1;32m    374\u001b[0m \u001b[39mdef\u001b[39;00m \u001b[39m__lt__\u001b[39m(\u001b[39mself\u001b[39m, other):\n\u001b[1;32m    375\u001b[0m     \u001b[39mfrom\u001b[39;00m \u001b[39m.\u001b[39;00m\u001b[39mrelational\u001b[39;00m \u001b[39mimport\u001b[39;00m StrictLessThan\n\u001b[0;32m--> 376\u001b[0m     \u001b[39mreturn\u001b[39;00m StrictLessThan(\u001b[39mself\u001b[39;49m, other)\n",
      "File \u001b[0;32m~/anaconda3/envs/mlscorecheck/lib/python3.10/site-packages/sympy/core/relational.py:824\u001b[0m, in \u001b[0;36m_Inequality.__new__\u001b[0;34m(cls, lhs, rhs, **options)\u001b[0m\n\u001b[1;32m    822\u001b[0m         \u001b[39mraise\u001b[39;00m \u001b[39mTypeError\u001b[39;00m(\u001b[39m\"\u001b[39m\u001b[39mInvalid comparison of non-real \u001b[39m\u001b[39m%s\u001b[39;00m\u001b[39m\"\u001b[39m \u001b[39m%\u001b[39m me)\n\u001b[1;32m    823\u001b[0m     \u001b[39mif\u001b[39;00m me \u001b[39mis\u001b[39;00m S\u001b[39m.\u001b[39mNaN:\n\u001b[0;32m--> 824\u001b[0m         \u001b[39mraise\u001b[39;00m \u001b[39mTypeError\u001b[39;00m(\u001b[39m\"\u001b[39m\u001b[39mInvalid NaN comparison\u001b[39m\u001b[39m\"\u001b[39m)\n\u001b[1;32m    825\u001b[0m \u001b[39m# First we invoke the appropriate inequality method of `lhs`\u001b[39;00m\n\u001b[1;32m    826\u001b[0m \u001b[39m# (e.g., `lhs.__lt__`).  That method will try to reduce to\u001b[39;00m\n\u001b[1;32m    827\u001b[0m \u001b[39m# boolean or raise an exception.  It may keep calling\u001b[39;00m\n\u001b[0;32m   (...)\u001b[0m\n\u001b[1;32m    831\u001b[0m \u001b[39m# exception).  In that case, it must call us with\u001b[39;00m\n\u001b[1;32m    832\u001b[0m \u001b[39m# `evaluate=False` to prevent infinite recursion.\u001b[39;00m\n\u001b[1;32m    833\u001b[0m \u001b[39mreturn\u001b[39;00m \u001b[39mcls\u001b[39m\u001b[39m.\u001b[39m_eval_relation(lhs, rhs, \u001b[39m*\u001b[39m\u001b[39m*\u001b[39moptions)\n",
      "\u001b[0;31mTypeError\u001b[0m: Invalid NaN comparison"
     ]
    }
   ],
   "source": [
    "sp.solve(cohens_kappa(tp=tp, tn=tn, p=p, n=n), dict=True)"
   ]
  },
  {
   "cell_type": "code",
   "execution_count": 18,
   "metadata": {},
   "outputs": [
    {
     "data": {
      "text/latex": [
       "$\\displaystyle \\frac{0.5 \\left(n tp + p tn\\right)}{n p}$"
      ],
      "text/plain": [
       "0.5*(n*tp + p*tn)/(n*p)"
      ]
     },
     "execution_count": 18,
     "metadata": {},
     "output_type": "execute_result"
    }
   ],
   "source": [
    "sp.factor(balanced_accuracy(tp=tp, tn=tn, p=p, n=n))"
   ]
  },
  {
   "cell_type": "code",
   "execution_count": 14,
   "metadata": {},
   "outputs": [
    {
     "data": {
      "text/latex": [
       "$\\displaystyle \\frac{tn tp}{\\left(n - tn\\right) \\left(p - tp\\right)}$"
      ],
      "text/plain": [
       "tn*tp/((n - tn)*(p - tp))"
      ]
     },
     "execution_count": 14,
     "metadata": {},
     "output_type": "execute_result"
    }
   ],
   "source": [
    "diagnostic_odds_ratio(tp=tp, tn=tn, p=p, n=n)"
   ]
  },
  {
   "cell_type": "code",
   "execution_count": 11,
   "metadata": {},
   "outputs": [
    {
     "data": {
      "text/latex": [
       "$\\displaystyle \\frac{- \\frac{fp}{n} + \\sqrt{\\frac{fp tp}{n p}}}{- \\frac{fp}{n} + \\frac{tp}{p}}$"
      ],
      "text/plain": [
       "(-fp/n + sqrt(fp*tp/(n*p)))/(-fp/n + tp/p)"
      ]
     },
     "execution_count": 11,
     "metadata": {},
     "output_type": "execute_result"
    }
   ],
   "source": [
    "prevalence_threshold(tp=tp, fp=fp, p=p, n=n)"
   ]
  },
  {
   "cell_type": "code",
   "execution_count": 3,
   "metadata": {},
   "outputs": [],
   "source": [
    "import numpy as np"
   ]
  },
  {
   "cell_type": "code",
   "execution_count": 5,
   "metadata": {},
   "outputs": [
    {
     "data": {
      "text/plain": [
       "nan"
      ]
     },
     "execution_count": 5,
     "metadata": {},
     "output_type": "execute_result"
    }
   ],
   "source": [
    "1 / np.nan"
   ]
  },
  {
   "cell_type": "code",
   "execution_count": 2,
   "metadata": {},
   "outputs": [
    {
     "data": {
      "text/plain": [
       "{'__name__': '__main__',\n",
       " '__doc__': 'Automatically created module for IPython interactive environment',\n",
       " '__package__': None,\n",
       " '__loader__': None,\n",
       " '__spec__': None,\n",
       " '__builtin__': <module 'builtins' (built-in)>,\n",
       " '__builtins__': <module 'builtins' (built-in)>,\n",
       " '_ih': ['', 'from mlscorecheck.core import *', 'globals()'],\n",
       " '_oh': {},\n",
       " '_dh': [PosixPath('/home/gykovacs/workspaces/mlscorecheck/notebooks/development'),\n",
       "  PosixPath('/home/gykovacs/workspaces/mlscorecheck/notebooks/development')],\n",
       " 'In': ['', 'from mlscorecheck.core import *', 'globals()'],\n",
       " 'Out': {},\n",
       " 'get_ipython': <bound method InteractiveShell.get_ipython of <ipykernel.zmqshell.ZMQInteractiveShell object at 0x7f96be221990>>,\n",
       " 'exit': <IPython.core.autocall.ZMQExitAutocall at 0x7f96be222260>,\n",
       " 'quit': <IPython.core.autocall.ZMQExitAutocall at 0x7f96be222260>,\n",
       " 'open': <function io.open(file, mode='r', buffering=-1, encoding=None, errors=None, newline=None, closefd=True, opener=None)>,\n",
       " '_': '',\n",
       " '__': '',\n",
       " '___': '',\n",
       " '__vsc_ipynb_file__': '/home/gykovacs/workspaces/mlscorecheck/notebooks/development/005-sympy-test.ipynb',\n",
       " '_i': 'from mlscorecheck.core import *',\n",
       " '_ii': '',\n",
       " '_iii': '',\n",
       " '_i1': 'from mlscorecheck.core import *',\n",
       " 'consistency_individual': <function mlscorecheck.core._individual.consistency_individual(p, n, acc, sens, spec, eps)>,\n",
       " 'consistency_aggregated_integer_programming_mos': <function mlscorecheck.core._aggregated_mos.consistency_aggregated_integer_programming_mos(p, n, acc, sens, spec, eps)>,\n",
       " 'consistency_aggregated_integer_programming_som': <function mlscorecheck.core._aggregated_som.consistency_aggregated_integer_programming_som(p, n, acc, sens, spec, eps)>,\n",
       " 'accuracy': <function mlscorecheck.core._scores.accuracy(*, tp, tn, p, n)>,\n",
       " 'error_rate': <function mlscorecheck.core._scores.error_rate(*, fp, fn, p, n)>,\n",
       " 'sensitivity': <function mlscorecheck.core._scores.sensitivity(*, tp, p)>,\n",
       " 'specificity': <function mlscorecheck.core._scores.specificity(*, tn, n)>,\n",
       " 'positive_predictive_value': <function mlscorecheck.core._scores.positive_predictive_value(*, tp, fp)>,\n",
       " 'precision': <function mlscorecheck.core._scores.precision(*, tp, fp)>,\n",
       " 'negative_predictive_value': <function mlscorecheck.core._scores.negative_predictive_value(*, tn, fn)>,\n",
       " 'f_beta_positive': <function mlscorecheck.core._scores.f_beta_positive(*, tp, fp, p, beta_positive=1)>,\n",
       " 'f_beta_negative': <function mlscorecheck.core._scores.f_beta_negative(*, tn, fn, n, beta_negative=1)>,\n",
       " 'f1_plus': <function mlscorecheck.core._scores.f1_plus(*, tp, fp, p)>,\n",
       " 'f1_minus': <function mlscorecheck.core._scores.f1_minus(*, tn, fn, n)>,\n",
       " 'unified_performance_measure': <function mlscorecheck.core._scores.unified_performance_measure(*, tp, tn, p, n)>,\n",
       " 'true_positive_rate': <function mlscorecheck.core._scores.true_positive_rate(*, tp, p)>,\n",
       " 'recall': <function mlscorecheck.core._scores.recall(*, tp, p)>,\n",
       " 'false_positive_rate': <function mlscorecheck.core._scores.false_positive_rate(*, fp, n)>,\n",
       " 'false_negative_rate': <function mlscorecheck.core._scores.false_negative_rate(*, fn, p)>,\n",
       " 'true_negative_rate': <function mlscorecheck.core._scores.true_negative_rate(*, tn, n)>,\n",
       " 'false_discovery_rate': <function mlscorecheck.core._scores.false_discovery_rate(*, tp, fp)>,\n",
       " 'false_omission_rate': <function mlscorecheck.core._scores.false_omission_rate(*, tn, fn)>,\n",
       " 'geometric_mean': <function mlscorecheck.core._scores.geometric_mean(*, tp, tn, p, n)>,\n",
       " 'fowlkes_mallows_index': <function mlscorecheck.core._scores.fowlkes_mallows_index(*, tp, fp, p)>,\n",
       " 'markedness': <function mlscorecheck.core._scores.markedness(*, tp, tn, fp, fn)>,\n",
       " 'positive_likelihood_ratio': <function mlscorecheck.core._scores.positive_likelihood_ratio(*, tp, fp, p, n)>,\n",
       " 'negative_likelihood_ratio': <function mlscorecheck.core._scores.negative_likelihood_ratio(*, tn, fn, p, n)>,\n",
       " 'matthews_correlation_coefficient': <function mlscorecheck.core._scores.matthews_correlation_coefficient(*, tp, tn, fp, fn, p, n)>,\n",
       " 'informedness': <function mlscorecheck.core._scores.informedness(*, tp, tn, p, n)>,\n",
       " 'prevalence_threshold': <function mlscorecheck.core._scores.prevalence_threshold(*, tp, fp, p, n)>,\n",
       " 'diagnostic_odds_ratio': <function mlscorecheck.core._scores.diagnostic_odds_ratio(*, tp, tn, fp, fn, p, n)>,\n",
       " 'threat_score': <function mlscorecheck.core._scores.threat_score(*, tp, fp, p)>,\n",
       " 'jaccard_index': <function mlscorecheck.core._scores.jaccard_index(*, tp, fp, p)>,\n",
       " 'balanced_accuracy': <function mlscorecheck.core._scores.balanced_accuracy(*, tp, tn, p, n)>,\n",
       " 'cohens_kappa': <function mlscorecheck.core._scores.cohens_kappa(*, tp, tn, p, n)>,\n",
       " 'p4': <function mlscorecheck.core._scores.p4(*, tp, tn, p, n)>,\n",
       " 'score_function_set': <function mlscorecheck.core._scores.score_function_set()>,\n",
       " 'aliases': <function mlscorecheck.core._scores.aliases()>,\n",
       " 'complementers': <function mlscorecheck.core._scores.complementers()>,\n",
       " 'sqrt': <function mlscorecheck.core._scores.sqrt(object)>,\n",
       " 'Interval': mlscorecheck.core._interval.Interval,\n",
       " 'IntervalUnion': mlscorecheck.core._interval.IntervalUnion,\n",
       " 'SymbolicInterval': mlscorecheck.core._symbolic_interval.SymbolicInterval,\n",
       " 'SymbolicIntervalUnion': mlscorecheck.core._symbolic_interval.SymbolicIntervalUnion,\n",
       " 'solve_acc_sens': <function mlscorecheck.core._solutions.solve_acc_sens(*, acc, sens, p, n)>,\n",
       " 'solve_acc_spec': <function mlscorecheck.core._solutions.solve_acc_spec(*, acc, spec, p, n)>,\n",
       " 'solve_acc_npv': <function mlscorecheck.core._solutions.solve_acc_npv(*, acc, npv, p, n)>,\n",
       " 'solve_acc_ppv': <function mlscorecheck.core._solutions.solve_acc_ppv(*, acc, ppv, p, n)>,\n",
       " 'solve_acc_f1_plus': <function mlscorecheck.core._solutions.solve_acc_f1_plus(*, acc, f1_plus, p, n)>,\n",
       " 'solve_acc_f1_minus': <function mlscorecheck.core._solutions.solve_acc_f1_minus(*, acc, f1_minus, p, n)>,\n",
       " 'solve_acc_fm': <function mlscorecheck.core._solutions.solve_acc_fm(*, acc, fm, p, n)>,\n",
       " 'solve_acc_bm': <function mlscorecheck.core._solutions.solve_acc_bm(*, acc, bm, p, n)>,\n",
       " 'solve_acc_pt': <function mlscorecheck.core._solutions.solve_acc_pt(*, acc, pt, p, n)>,\n",
       " 'solve_acc_lrp': <function mlscorecheck.core._solutions.solve_acc_lrp(*, acc, lrp, p, n)>,\n",
       " 'solve_acc_lrn': <function mlscorecheck.core._solutions.solve_acc_lrn(*, acc, lrn, p, n)>,\n",
       " 'solve_acc_mk': <function mlscorecheck.core._solutions.solve_acc_mk(*, acc, mk, p, n)>,\n",
       " 'solve_acc_dor': <function mlscorecheck.core._solutions.solve_acc_dor(*, acc, dor, p, n)>,\n",
       " 'solve_acc_mcc': <function mlscorecheck.core._solutions.solve_acc_mcc(*, acc, mcc, p, n)>,\n",
       " 'solve_acc_ji': <function mlscorecheck.core._solutions.solve_acc_ji(*, acc, ji, p, n)>,\n",
       " 'solve_acc_ba': <function mlscorecheck.core._solutions.solve_acc_ba(*, acc, ba, p, n)>,\n",
       " 'solve_sens_spec': <function mlscorecheck.core._solutions.solve_sens_spec(*, sens, spec, p, n)>,\n",
       " 'solve_sens_npv': <function mlscorecheck.core._solutions.solve_sens_npv(*, sens, npv, p)>,\n",
       " 'solve_sens_ppv': <function mlscorecheck.core._solutions.solve_sens_ppv(*, sens, ppv, p, n)>,\n",
       " 'solve_sens_f1_plus': <function mlscorecheck.core._solutions.solve_sens_f1_plus(*, sens, f1_plus, p, n)>,\n",
       " 'solve_sens_f1_minus': <function mlscorecheck.core._solutions.solve_sens_f1_minus(*, sens, f1_minus, p, n)>,\n",
       " 'solve_sens_fm': <function mlscorecheck.core._solutions.solve_sens_fm(*, sens, fm, p, n)>,\n",
       " 'solve_sens_bm': <function mlscorecheck.core._solutions.solve_sens_bm(*, sens, bm, p, n)>,\n",
       " 'solve_sens_pt': <function mlscorecheck.core._solutions.solve_sens_pt(*, sens, pt, p, n)>,\n",
       " 'solve_sens_lrp': <function mlscorecheck.core._solutions.solve_sens_lrp(*, sens, lrp, p, n)>,\n",
       " 'solve_sens_lrn': <function mlscorecheck.core._solutions.solve_sens_lrn(*, sens, lrn, p, n)>,\n",
       " 'solve_sens_mk': <function mlscorecheck.core._solutions.solve_sens_mk(*, sens, mk, p, n)>,\n",
       " 'solve_sens_dor': <function mlscorecheck.core._solutions.solve_sens_dor(*, sens, dor, p, n)>,\n",
       " 'solve_sens_mcc': <function mlscorecheck.core._solutions.solve_sens_mcc(*, sens, mcc, p, n)>,\n",
       " 'solve_sens_ji': <function mlscorecheck.core._solutions.solve_sens_ji(*, sens, ji, p, n)>,\n",
       " 'solve_sens_ba': <function mlscorecheck.core._solutions.solve_sens_ba(*, sens, ba, p, n)>,\n",
       " 'solve_spec_npv': <function mlscorecheck.core._solutions.solve_spec_npv(*, spec, npv, p, n)>,\n",
       " 'solve_spec_ppv': <function mlscorecheck.core._solutions.solve_spec_ppv(*, spec, ppv, n)>,\n",
       " 'solve_spec_f1_plus': <function mlscorecheck.core._solutions.solve_spec_f1_plus(*, spec, f1_plus, p, n)>,\n",
       " 'solve_spec_f1_minus': <function mlscorecheck.core._solutions.solve_spec_f1_minus(*, spec, f1_minus, p, n)>,\n",
       " 'solve_spec_fm': <function mlscorecheck.core._solutions.solve_spec_fm(*, spec, fm, p, n)>,\n",
       " 'solve_spec_bm': <function mlscorecheck.core._solutions.solve_spec_bm(*, spec, bm, p, n)>,\n",
       " 'solve_spec_pt': <function mlscorecheck.core._solutions.solve_spec_pt(*, spec, pt, p, n)>,\n",
       " 'solve_spec_lrp': <function mlscorecheck.core._solutions.solve_spec_lrp(*, spec, lrp, p, n)>,\n",
       " 'solve_spec_lrn': <function mlscorecheck.core._solutions.solve_spec_lrn(*, spec, lrn, p, n)>,\n",
       " 'solve_spec_mk': <function mlscorecheck.core._solutions.solve_spec_mk(*, spec, mk, p, n)>,\n",
       " 'solve_spec_dor': <function mlscorecheck.core._solutions.solve_spec_dor(*, spec, dor, p, n)>,\n",
       " 'solve_spec_mcc': <function mlscorecheck.core._solutions.solve_spec_mcc(*, spec, mcc, p, n)>,\n",
       " 'solve_spec_ji': <function mlscorecheck.core._solutions.solve_spec_ji(*, spec, ji, p, n)>,\n",
       " 'solve_spec_ba': <function mlscorecheck.core._solutions.solve_spec_ba(*, spec, ba, p, n)>,\n",
       " 'solve_npv_ppv': <function mlscorecheck.core._solutions.solve_npv_ppv(*, npv, ppv, p, n)>,\n",
       " 'solve_npv_f1_plus': <function mlscorecheck.core._solutions.solve_npv_f1_plus(*, npv, f1_plus, p, n)>,\n",
       " 'solve_npv_f1_minus': <function mlscorecheck.core._solutions.solve_npv_f1_minus(*, npv, f1_minus, p, n)>,\n",
       " 'solve_npv_fm': <function mlscorecheck.core._solutions.solve_npv_fm(*, npv, fm, p, n)>,\n",
       " 'solve_npv_bm': <function mlscorecheck.core._solutions.solve_npv_bm(*, npv, bm, p, n)>,\n",
       " 'solve_npv_pt': <function mlscorecheck.core._solutions.solve_npv_pt(*, npv, pt, p, n)>,\n",
       " 'solve_npv_lrp': <function mlscorecheck.core._solutions.solve_npv_lrp(*, npv, lrp, p, n)>,\n",
       " 'solve_npv_mk': <function mlscorecheck.core._solutions.solve_npv_mk(*, npv, mk, p, n)>,\n",
       " 'solve_npv_dor': <function mlscorecheck.core._solutions.solve_npv_dor(*, npv, dor, p, n)>,\n",
       " 'solve_npv_mcc': <function mlscorecheck.core._solutions.solve_npv_mcc(*, npv, mcc, p, n)>,\n",
       " 'solve_npv_ji': <function mlscorecheck.core._solutions.solve_npv_ji(*, npv, ji, p, n)>,\n",
       " 'solve_npv_ba': <function mlscorecheck.core._solutions.solve_npv_ba(*, npv, ba, p, n)>,\n",
       " 'solve_ppv_f1_plus': <function mlscorecheck.core._solutions.solve_ppv_f1_plus(*, ppv, f1_plus, p, n)>,\n",
       " 'solve_ppv_f1_minus': <function mlscorecheck.core._solutions.solve_ppv_f1_minus(*, ppv, f1_minus, p, n)>,\n",
       " 'solve_ppv_fm': <function mlscorecheck.core._solutions.solve_ppv_fm(*, ppv, fm, p, n)>,\n",
       " 'solve_ppv_bm': <function mlscorecheck.core._solutions.solve_ppv_bm(*, ppv, bm, p, n)>,\n",
       " 'solve_ppv_lrn': <function mlscorecheck.core._solutions.solve_ppv_lrn(*, ppv, lrn, p, n)>,\n",
       " 'solve_ppv_mk': <function mlscorecheck.core._solutions.solve_ppv_mk(*, ppv, mk, p, n)>,\n",
       " 'solve_ppv_dor': <function mlscorecheck.core._solutions.solve_ppv_dor(*, ppv, dor, p, n)>,\n",
       " 'solve_ppv_mcc': <function mlscorecheck.core._solutions.solve_ppv_mcc(*, ppv, mcc, p, n)>,\n",
       " 'solve_ppv_ji': <function mlscorecheck.core._solutions.solve_ppv_ji(*, ppv, ji, p, n)>,\n",
       " 'solve_ppv_ba': <function mlscorecheck.core._solutions.solve_ppv_ba(*, ppv, ba, p, n)>,\n",
       " 'solve_f1_plus_f1_minus': <function mlscorecheck.core._solutions.solve_f1_plus_f1_minus(*, f1_plus, f1_minus, p, n)>,\n",
       " 'solve_f1_plus_fm': <function mlscorecheck.core._solutions.solve_f1_plus_fm(*, f1_plus, fm, p, n)>,\n",
       " 'solve_f1_plus_bm': <function mlscorecheck.core._solutions.solve_f1_plus_bm(*, f1_plus, bm, p, n)>,\n",
       " 'solve_f1_plus_pt': <function mlscorecheck.core._solutions.solve_f1_plus_pt(*, f1_plus, pt, p, n)>,\n",
       " 'solve_f1_plus_lrp': <function mlscorecheck.core._solutions.solve_f1_plus_lrp(*, f1_plus, lrp, p, n)>,\n",
       " 'solve_f1_plus_lrn': <function mlscorecheck.core._solutions.solve_f1_plus_lrn(*, f1_plus, lrn, p, n)>,\n",
       " 'solve_f1_plus_mk': <function mlscorecheck.core._solutions.solve_f1_plus_mk(*, f1_plus, mk, p, n)>,\n",
       " 'solve_f1_plus_dor': <function mlscorecheck.core._solutions.solve_f1_plus_dor(*, f1_plus, dor, p, n)>,\n",
       " 'solve_f1_plus_mcc': <function mlscorecheck.core._solutions.solve_f1_plus_mcc(*, f1_plus, mcc, p, n)>,\n",
       " 'solve_f1_plus_ba': <function mlscorecheck.core._solutions.solve_f1_plus_ba(*, f1_plus, ba, p, n)>,\n",
       " 'solve_f1_minus_fm': <function mlscorecheck.core._solutions.solve_f1_minus_fm(*, f1_minus, fm, p, n)>,\n",
       " 'solve_f1_minus_bm': <function mlscorecheck.core._solutions.solve_f1_minus_bm(*, f1_minus, bm, p, n)>,\n",
       " 'solve_f1_minus_pt': <function mlscorecheck.core._solutions.solve_f1_minus_pt(*, f1_minus, pt, p, n)>,\n",
       " 'solve_f1_minus_lrp': <function mlscorecheck.core._solutions.solve_f1_minus_lrp(*, f1_minus, lrp, p, n)>,\n",
       " 'solve_f1_minus_lrn': <function mlscorecheck.core._solutions.solve_f1_minus_lrn(*, f1_minus, lrn, p, n)>,\n",
       " 'solve_f1_minus_mk': <function mlscorecheck.core._solutions.solve_f1_minus_mk(*, f1_minus, mk, p, n)>,\n",
       " 'solve_f1_minus_dor': <function mlscorecheck.core._solutions.solve_f1_minus_dor(*, f1_minus, dor, p, n)>,\n",
       " 'solve_f1_minus_mcc': <function mlscorecheck.core._solutions.solve_f1_minus_mcc(*, f1_minus, mcc, p, n)>,\n",
       " 'solve_f1_minus_ji': <function mlscorecheck.core._solutions.solve_f1_minus_ji(*, f1_minus, ji, p, n)>,\n",
       " 'solve_f1_minus_ba': <function mlscorecheck.core._solutions.solve_f1_minus_ba(*, f1_minus, ba, p, n)>,\n",
       " 'solve_fm_bm': <function mlscorecheck.core._solutions.solve_fm_bm(*, fm, bm, p, n)>,\n",
       " 'solve_fm_pt': <function mlscorecheck.core._solutions.solve_fm_pt(*, fm, pt, p, n)>,\n",
       " 'solve_fm_lrp': <function mlscorecheck.core._solutions.solve_fm_lrp(*, fm, lrp, p, n)>,\n",
       " 'solve_fm_lrn': <function mlscorecheck.core._solutions.solve_fm_lrn(*, fm, lrn, p, n)>,\n",
       " 'solve_fm_dor': <function mlscorecheck.core._solutions.solve_fm_dor(*, fm, dor, p, n)>,\n",
       " 'solve_fm_mcc': <function mlscorecheck.core._solutions.solve_fm_mcc(*, fm, mcc, p, n)>,\n",
       " 'solve_fm_ji': <function mlscorecheck.core._solutions.solve_fm_ji(*, fm, ji, p, n)>,\n",
       " 'solve_fm_ba': <function mlscorecheck.core._solutions.solve_fm_ba(*, fm, ba, p, n)>,\n",
       " 'solve_bm_pt': <function mlscorecheck.core._solutions.solve_bm_pt(*, bm, pt, p, n)>,\n",
       " 'solve_bm_lrp': <function mlscorecheck.core._solutions.solve_bm_lrp(*, bm, lrp, p, n)>,\n",
       " 'solve_bm_lrn': <function mlscorecheck.core._solutions.solve_bm_lrn(*, bm, lrn, p, n)>,\n",
       " 'solve_bm_mk': <function mlscorecheck.core._solutions.solve_bm_mk(*, bm, mk, p, n)>,\n",
       " 'solve_bm_dor': <function mlscorecheck.core._solutions.solve_bm_dor(*, bm, dor, p, n)>,\n",
       " 'solve_bm_mcc': <function mlscorecheck.core._solutions.solve_bm_mcc(*, bm, mcc, p, n)>,\n",
       " 'solve_bm_ji': <function mlscorecheck.core._solutions.solve_bm_ji(*, bm, ji, p, n)>,\n",
       " 'solve_pt_lrn': <function mlscorecheck.core._solutions.solve_pt_lrn(*, pt, lrn, p, n)>,\n",
       " 'solve_pt_mk': <function mlscorecheck.core._solutions.solve_pt_mk(*, pt, mk, p, n)>,\n",
       " 'solve_pt_dor': <function mlscorecheck.core._solutions.solve_pt_dor(*, pt, dor, p, n)>,\n",
       " 'solve_pt_mcc': <function mlscorecheck.core._solutions.solve_pt_mcc(*, pt, mcc, p, n)>,\n",
       " 'solve_pt_ji': <function mlscorecheck.core._solutions.solve_pt_ji(*, pt, ji, p, n)>,\n",
       " 'solve_pt_ba': <function mlscorecheck.core._solutions.solve_pt_ba(*, pt, ba, p, n)>,\n",
       " 'solve_lrp_lrn': <function mlscorecheck.core._solutions.solve_lrp_lrn(*, lrp, lrn, p, n)>,\n",
       " 'solve_lrp_mk': <function mlscorecheck.core._solutions.solve_lrp_mk(*, lrp, mk, p, n)>,\n",
       " 'solve_lrp_dor': <function mlscorecheck.core._solutions.solve_lrp_dor(*, lrp, dor, p, n)>,\n",
       " 'solve_lrp_mcc': <function mlscorecheck.core._solutions.solve_lrp_mcc(*, lrp, mcc, p, n)>,\n",
       " 'solve_lrp_ji': <function mlscorecheck.core._solutions.solve_lrp_ji(*, lrp, ji, p, n)>,\n",
       " 'solve_lrp_ba': <function mlscorecheck.core._solutions.solve_lrp_ba(*, lrp, ba, p, n)>,\n",
       " 'solve_lrn_mk': <function mlscorecheck.core._solutions.solve_lrn_mk(*, lrn, mk, p, n)>,\n",
       " 'solve_lrn_dor': <function mlscorecheck.core._solutions.solve_lrn_dor(*, lrn, dor, p, n)>,\n",
       " 'solve_lrn_mcc': <function mlscorecheck.core._solutions.solve_lrn_mcc(*, lrn, mcc, p, n)>,\n",
       " 'solve_lrn_ji': <function mlscorecheck.core._solutions.solve_lrn_ji(*, lrn, ji, p, n)>,\n",
       " 'solve_lrn_ba': <function mlscorecheck.core._solutions.solve_lrn_ba(*, lrn, ba, p, n)>,\n",
       " 'solve_mk_dor': <function mlscorecheck.core._solutions.solve_mk_dor(*, mk, dor, p, n)>,\n",
       " 'solve_mk_mcc': <function mlscorecheck.core._solutions.solve_mk_mcc(*, mk, mcc, p, n)>,\n",
       " 'solve_mk_ji': <function mlscorecheck.core._solutions.solve_mk_ji(*, mk, ji, p, n)>,\n",
       " 'solve_mk_ba': <function mlscorecheck.core._solutions.solve_mk_ba(*, mk, ba, p, n)>,\n",
       " 'solve_dor_mcc': <function mlscorecheck.core._solutions.solve_dor_mcc(*, dor, mcc, p, n)>,\n",
       " 'solve_dor_ji': <function mlscorecheck.core._solutions.solve_dor_ji(*, dor, ji, p, n)>,\n",
       " 'solve_dor_ba': <function mlscorecheck.core._solutions.solve_dor_ba(*, dor, ba, p, n)>,\n",
       " 'solve_mcc_ji': <function mlscorecheck.core._solutions.solve_mcc_ji(*, mcc, ji, p, n)>,\n",
       " 'solve_mcc_ba': <function mlscorecheck.core._solutions.solve_mcc_ba(*, mcc, ba, p, n)>,\n",
       " 'solve_ji_ba': <function mlscorecheck.core._solutions.solve_ji_ba(*, ji, ba, p, n)>,\n",
       " '_i2': 'globals()'}"
      ]
     },
     "execution_count": 2,
     "metadata": {},
     "output_type": "execute_result"
    }
   ],
   "source": [
    "globals()"
   ]
  },
  {
   "cell_type": "code",
   "execution_count": 69,
   "metadata": {},
   "outputs": [],
   "source": [
    "import sympy\n",
    "from sympy import Symbol\n",
    "\n",
    "from mlscorecheck.core import (score_function_set, sqrt)"
   ]
  },
  {
   "cell_type": "code",
   "execution_count": 70,
   "metadata": {},
   "outputs": [],
   "source": [
    "tp = Symbol('tp')\n",
    "fp = Symbol('fp')\n",
    "tn = Symbol('tn')\n",
    "fn = Symbol('fn')\n",
    "eps = Symbol('eps')\n",
    "p = Symbol('p')\n",
    "n = Symbol('n')\n",
    "beta = Symbol('beta')"
   ]
  },
  {
   "cell_type": "code",
   "execution_count": 71,
   "metadata": {},
   "outputs": [],
   "source": [
    "atomic_symbols = {'tp': tp, \n",
    "                  'fp': fp, \n",
    "                  'tn': tn, \n",
    "                  'fn': fn, \n",
    "                  'eps': eps, \n",
    "                  'p': p, \n",
    "                  'n': n,\n",
    "                  'beta': beta}"
   ]
  },
  {
   "cell_type": "code",
   "execution_count": 72,
   "metadata": {},
   "outputs": [],
   "source": [
    "score_functions = score_function_set()\n",
    "#del score_functions['mcc']"
   ]
  },
  {
   "cell_type": "code",
   "execution_count": 73,
   "metadata": {},
   "outputs": [
    {
     "data": {
      "text/plain": [
       "{'acc': <function mlscorecheck.core._scores.accuracy(*, tp, tn, p, n)>,\n",
       " 'sens': <function mlscorecheck.core._scores.sensitivity(*, tp, p)>,\n",
       " 'spec': <function mlscorecheck.core._scores.specificity(*, tn, n)>,\n",
       " 'npv': <function mlscorecheck.core._scores.negative_predictive_value(*, tn, fn)>,\n",
       " 'ppv': <function mlscorecheck.core._scores.positive_predictive_value(*, tp, fp)>,\n",
       " 'f_beta': <function mlscorecheck.core._scores.f_beta(*, tp, fp, p, beta=1)>,\n",
       " 'fm': <function mlscorecheck.core._scores.fowlkes_mallows_index(*, tp, fp, p)>,\n",
       " 'bm': <function mlscorecheck.core._scores.informedness(*, tp, tn, p, n)>,\n",
       " 'pt': <function mlscorecheck.core._scores.prevalence_threshold(*, tp, fp, p, n)>,\n",
       " 'lrp': <function mlscorecheck.core._scores.positive_likelihood_ratio(*, tp, fp, p, n)>,\n",
       " 'lrn': <function mlscorecheck.core._scores.negative_predictive_value(*, tn, fn)>,\n",
       " 'mk': <function mlscorecheck.core._scores.markedness(*, tp, tn, fp, fn)>,\n",
       " 'dor': <function mlscorecheck.core._scores.diagnostic_odds_ratio(*, tp, tn, fp, fn, p, n)>,\n",
       " 'mcc': <function mlscorecheck.core._scores.matthews_correlation_coefficient(*, tp, tn, fp, fn, p, n)>,\n",
       " 'ji': <function mlscorecheck.core._scores.jaccard_index(*, tp, fp, p)>,\n",
       " 'ba': <function mlscorecheck.core._scores.balanced_accuracy(*, tp, tn, p, n)>}"
      ]
     },
     "execution_count": 73,
     "metadata": {},
     "output_type": "execute_result"
    }
   ],
   "source": [
    "score_functions"
   ]
  },
  {
   "cell_type": "code",
   "execution_count": 74,
   "metadata": {},
   "outputs": [],
   "source": [
    "score_symbols = {key: Symbol(key) for key in score_functions}"
   ]
  },
  {
   "cell_type": "code",
   "execution_count": 75,
   "metadata": {},
   "outputs": [
    {
     "data": {
      "text/plain": [
       "{'acc': acc,\n",
       " 'sens': sens,\n",
       " 'spec': spec,\n",
       " 'npv': npv,\n",
       " 'ppv': ppv,\n",
       " 'f_beta': f_beta,\n",
       " 'fm': fm,\n",
       " 'bm': bm,\n",
       " 'pt': pt,\n",
       " 'lrp': lrp,\n",
       " 'lrn': lrn,\n",
       " 'mk': mk,\n",
       " 'dor': dor,\n",
       " 'mcc': mcc,\n",
       " 'ji': ji,\n",
       " 'ba': ba}"
      ]
     },
     "execution_count": 75,
     "metadata": {},
     "output_type": "execute_result"
    }
   ],
   "source": [
    "score_symbols"
   ]
  },
  {
   "cell_type": "code",
   "execution_count": 76,
   "metadata": {},
   "outputs": [],
   "source": [
    "score_equations = {}\n",
    "\n",
    "for key in score_symbols:\n",
    "    function = score_functions[key]\n",
    "    params = function.__code__.co_varnames[:function.__code__.co_kwonlyargcount]\n",
    "    params = {param: atomic_symbols[param] for param in params}\n",
    "    score_equations[key] = score_symbols[key] - score_functions[key](**params)"
   ]
  },
  {
   "cell_type": "code",
   "execution_count": 77,
   "metadata": {},
   "outputs": [
    {
     "data": {
      "text/plain": [
       "{'acc': acc - (tn + tp)/(n + p),\n",
       " 'sens': sens - tp/p,\n",
       " 'spec': spec - tn/n,\n",
       " 'npv': npv - tn/(fn + tn),\n",
       " 'ppv': ppv - tp/(fp + tp),\n",
       " 'f_beta': f_beta - tp*(beta**2 + 1)/(beta**2*p + fp + tp),\n",
       " 'fm': fm - sqrt(tp**2/(p*(fp + tp))),\n",
       " 'bm': bm + 1 - tp/p - tn/n,\n",
       " 'pt': pt - (-fp/n + sqrt(fp*tp/(n*p)))/(-fp/n + tp/p),\n",
       " 'lrp': lrp - n*tp/(fp*p),\n",
       " 'lrn': lrn - tn/(fn + tn),\n",
       " 'mk': mk - tn/(fn + tn) - tp/(fp + tp) + 1,\n",
       " 'dor': dor - tn*tp/(fn*fp),\n",
       " 'mcc': mcc - (-fn*fp + tn*tp)/sqrt(n*p*(fn + tn)*(fp + tp)),\n",
       " 'ji': ji - tp/(fp + p),\n",
       " 'ba': ba - 0.5*tp/p - 0.5*tn/n}"
      ]
     },
     "execution_count": 77,
     "metadata": {},
     "output_type": "execute_result"
    }
   ],
   "source": [
    "score_equations"
   ]
  },
  {
   "cell_type": "code",
   "execution_count": 78,
   "metadata": {},
   "outputs": [],
   "source": [
    "tp = Symbol('tp')\n",
    "fp = Symbol('fp')\n",
    "tn = Symbol('tn')\n",
    "fn = Symbol('fn')\n",
    "eps = Symbol('eps')\n",
    "p = Symbol('p')\n",
    "n = Symbol('n')\n",
    "beta = Symbol('beta')"
   ]
  },
  {
   "cell_type": "code",
   "execution_count": 79,
   "metadata": {},
   "outputs": [],
   "source": [
    "score_symbols = {key: Symbol(key) for key in score_functions}"
   ]
  },
  {
   "cell_type": "code",
   "execution_count": 80,
   "metadata": {},
   "outputs": [],
   "source": [
    "score_equations = {}\n",
    "\n",
    "for key in score_symbols:\n",
    "    function = score_functions[key]\n",
    "    params = function.__code__.co_varnames[:function.__code__.co_kwonlyargcount]\n",
    "    params = {param: atomic_symbols[param] for param in params}\n",
    "    score_equations[key] = score_symbols[key] - score_functions[key](**params)"
   ]
  },
  {
   "cell_type": "code",
   "execution_count": 81,
   "metadata": {},
   "outputs": [],
   "source": [
    "eq0 = tp**2 - score_symbols['fm']**2*p*tp - score_symbols['fm']**2*fp*p\n",
    "eq1 = score_symbols['mk']*(tp + fp)*(tn + fn) - tp*(tn + fn) - tn*(tp + fp) + (tn+fn)*(tp+fp)"
   ]
  },
  {
   "cell_type": "code",
   "execution_count": 82,
   "metadata": {},
   "outputs": [],
   "source": [
    "eq2 = p - tp - fn\n",
    "eq3 = n - tn - fp"
   ]
  },
  {
   "cell_type": "code",
   "execution_count": 103,
   "metadata": {},
   "outputs": [],
   "source": [
    "fps0 = sympy.solve(eq0, fp)\n",
    "fps1 = sympy.solve(eq1, fp)\n",
    "fps2 = sympy.solve(eq3, fp)"
   ]
  },
  {
   "cell_type": "code",
   "execution_count": 104,
   "metadata": {},
   "outputs": [
    {
     "data": {
      "text/plain": [
       "[-tp + tp**2/(fm**2*p)]"
      ]
     },
     "execution_count": 104,
     "metadata": {},
     "output_type": "execute_result"
    }
   ],
   "source": [
    "fps0"
   ]
  },
  {
   "cell_type": "code",
   "execution_count": 105,
   "metadata": {},
   "outputs": [
    {
     "data": {
      "text/plain": [
       "[tp*(-fn*mk - mk*tn + tn)/(fn*mk + fn + mk*tn)]"
      ]
     },
     "execution_count": 105,
     "metadata": {},
     "output_type": "execute_result"
    }
   ],
   "source": [
    "fps1"
   ]
  },
  {
   "cell_type": "code",
   "execution_count": 106,
   "metadata": {},
   "outputs": [
    {
     "data": {
      "text/plain": [
       "[n - tn]"
      ]
     },
     "execution_count": 106,
     "metadata": {},
     "output_type": "execute_result"
    }
   ],
   "source": [
    "fps2"
   ]
  },
  {
   "cell_type": "code",
   "execution_count": 107,
   "metadata": {},
   "outputs": [],
   "source": [
    "eq10 = fps0[0] - fps2[0]\n",
    "eq11 = fps1[0] - fps2[0]"
   ]
  },
  {
   "cell_type": "code",
   "execution_count": 108,
   "metadata": {},
   "outputs": [
    {
     "data": {
      "text/latex": [
       "$\\displaystyle - n + tn - tp + \\frac{tp^{2}}{fm^{2} p}$"
      ],
      "text/plain": [
       "-n + tn - tp + tp**2/(fm**2*p)"
      ]
     },
     "execution_count": 108,
     "metadata": {},
     "output_type": "execute_result"
    }
   ],
   "source": [
    "eq10"
   ]
  },
  {
   "cell_type": "code",
   "execution_count": 109,
   "metadata": {},
   "outputs": [
    {
     "data": {
      "text/latex": [
       "$\\displaystyle - n + tn + \\frac{tp \\left(- fn mk - mk tn + tn\\right)}{fn mk + fn + mk tn}$"
      ],
      "text/plain": [
       "-n + tn + tp*(-fn*mk - mk*tn + tn)/(fn*mk + fn + mk*tn)"
      ]
     },
     "execution_count": 109,
     "metadata": {},
     "output_type": "execute_result"
    }
   ],
   "source": [
    "eq11"
   ]
  },
  {
   "cell_type": "code",
   "execution_count": 110,
   "metadata": {},
   "outputs": [],
   "source": [
    "tns0 = sympy.solve(eq10, tp)\n",
    "tns1 = sympy.solve(eq11, tp)\n",
    "tns2 = sympy.solve(eq2, tp)"
   ]
  },
  {
   "cell_type": "code",
   "execution_count": 111,
   "metadata": {},
   "outputs": [
    {
     "data": {
      "text/plain": [
       "[fm*(fm*p - sqrt(p*(fm**2*p + 4*n - 4*tn)))/2,\n",
       " fm*(fm*p + sqrt(p*(fm**2*p + 4*n - 4*tn)))/2]"
      ]
     },
     "execution_count": 111,
     "metadata": {},
     "output_type": "execute_result"
    }
   ],
   "source": [
    "tns0"
   ]
  },
  {
   "cell_type": "code",
   "execution_count": 112,
   "metadata": {},
   "outputs": [
    {
     "data": {
      "text/plain": [
       "[(-fn*mk*n + fn*mk*tn - fn*n + fn*tn - mk*n*tn + mk*tn**2)/(fn*mk + mk*tn - tn)]"
      ]
     },
     "execution_count": 112,
     "metadata": {},
     "output_type": "execute_result"
    }
   ],
   "source": [
    "tns1"
   ]
  },
  {
   "cell_type": "code",
   "execution_count": 113,
   "metadata": {},
   "outputs": [
    {
     "data": {
      "text/plain": [
       "[-fn + p]"
      ]
     },
     "execution_count": 113,
     "metadata": {},
     "output_type": "execute_result"
    }
   ],
   "source": [
    "tns2"
   ]
  },
  {
   "cell_type": "code",
   "execution_count": 115,
   "metadata": {},
   "outputs": [],
   "source": [
    "eq20 = tns0[0] - tns2[0]\n",
    "eq21 = tns1[0] - tns2[0]"
   ]
  },
  {
   "cell_type": "code",
   "execution_count": 116,
   "metadata": {},
   "outputs": [
    {
     "data": {
      "text/latex": [
       "$\\displaystyle \\frac{fm \\left(fm p - \\sqrt{p \\left(fm^{2} p + 4 n - 4 tn\\right)}\\right)}{2} + fn - p$"
      ],
      "text/plain": [
       "fm*(fm*p - sqrt(p*(fm**2*p + 4*n - 4*tn)))/2 + fn - p"
      ]
     },
     "execution_count": 116,
     "metadata": {},
     "output_type": "execute_result"
    }
   ],
   "source": [
    "eq20"
   ]
  },
  {
   "cell_type": "code",
   "execution_count": 117,
   "metadata": {},
   "outputs": [
    {
     "data": {
      "text/latex": [
       "$\\displaystyle fn - p + \\frac{- fn mk n + fn mk tn - fn n + fn tn - mk n tn + mk tn^{2}}{fn mk + mk tn - tn}$"
      ],
      "text/plain": [
       "fn - p + (-fn*mk*n + fn*mk*tn - fn*n + fn*tn - mk*n*tn + mk*tn**2)/(fn*mk + mk*tn - tn)"
      ]
     },
     "execution_count": 117,
     "metadata": {},
     "output_type": "execute_result"
    }
   ],
   "source": [
    "eq21"
   ]
  },
  {
   "cell_type": "code",
   "execution_count": 118,
   "metadata": {},
   "outputs": [],
   "source": [
    "tns0 = sympy.solve(eq20, tn)\n",
    "tns1 = sympy.solve(eq21, tn)"
   ]
  },
  {
   "cell_type": "code",
   "execution_count": 119,
   "metadata": {},
   "outputs": [
    {
     "data": {
      "text/plain": [
       "[fm**2*p/4 + n - (fm**2*p + 2*fn - 2*p)**2/(4*fm**2*p)]"
      ]
     },
     "execution_count": 119,
     "metadata": {},
     "output_type": "execute_result"
    }
   ],
   "source": [
    "tns0"
   ]
  },
  {
   "cell_type": "code",
   "execution_count": 120,
   "metadata": {},
   "outputs": [
    {
     "data": {
      "text/plain": [
       "[(-2*fn*mk + mk*n + mk*p - p - sqrt(4*fn*mk*n + 4*fn*mk*p + mk**2*n**2 + 2*mk**2*n*p + mk**2*p**2 - 2*mk*n*p - 2*mk*p**2 + p**2))/(2*mk),\n",
       " (-2*fn*mk + mk*n + mk*p - p + sqrt(4*fn*mk*n + 4*fn*mk*p + mk**2*n**2 + 2*mk**2*n*p + mk**2*p**2 - 2*mk*n*p - 2*mk*p**2 + p**2))/(2*mk)]"
      ]
     },
     "execution_count": 120,
     "metadata": {},
     "output_type": "execute_result"
    }
   ],
   "source": [
    "tns1"
   ]
  },
  {
   "cell_type": "code",
   "execution_count": 121,
   "metadata": {},
   "outputs": [],
   "source": [
    "eq_final = tns0[0] - tns1[0]"
   ]
  },
  {
   "cell_type": "code",
   "execution_count": 124,
   "metadata": {},
   "outputs": [
    {
     "data": {
      "text/latex": [
       "$\\displaystyle \\frac{fm^{2} p}{4} + n - \\frac{- 2 fn mk + mk n + mk p - p - \\sqrt{4 fn mk n + 4 fn mk p + mk^{2} n^{2} + 2 mk^{2} n p + mk^{2} p^{2} - 2 mk n p - 2 mk p^{2} + p^{2}}}{2 mk} - \\frac{\\left(fm^{2} p + 2 fn - 2 p\\right)^{2}}{4 fm^{2} p}$"
      ],
      "text/plain": [
       "fm**2*p/4 + n - (-2*fn*mk + mk*n + mk*p - p - sqrt(4*fn*mk*n + 4*fn*mk*p + mk**2*n**2 + 2*mk**2*n*p + mk**2*p**2 - 2*mk*n*p - 2*mk*p**2 + p**2))/(2*mk) - (fm**2*p + 2*fn - 2*p)**2/(4*fm**2*p)"
      ]
     },
     "execution_count": 124,
     "metadata": {},
     "output_type": "execute_result"
    }
   ],
   "source": [
    "eq_final"
   ]
  },
  {
   "cell_type": "code",
   "execution_count": 128,
   "metadata": {},
   "outputs": [],
   "source": [
    "eq_final = sympy.simplify(eq_final * 2*score_symbols['mk'] * 4 * score_symbols['fm']**2 * p)"
   ]
  },
  {
   "cell_type": "code",
   "execution_count": 129,
   "metadata": {},
   "outputs": [
    {
     "data": {
      "text/latex": [
       "$\\displaystyle 8 mk \\left(fm^{2} mk n p + fm^{2} mk p^{2} + fm^{2} p^{2} + fm^{2} p \\sqrt{4 fn mk n + 4 fn mk p + mk^{2} n^{2} + 2 mk^{2} n p + mk^{2} p^{2} - 2 mk n p - 2 mk p^{2} + p^{2}} - 2 fn^{2} mk + 4 fn mk p - 2 mk p^{2}\\right)$"
      ],
      "text/plain": [
       "8*mk*(fm**2*mk*n*p + fm**2*mk*p**2 + fm**2*p**2 + fm**2*p*sqrt(4*fn*mk*n + 4*fn*mk*p + mk**2*n**2 + 2*mk**2*n*p + mk**2*p**2 - 2*mk*n*p - 2*mk*p**2 + p**2) - 2*fn**2*mk + 4*fn*mk*p - 2*mk*p**2)"
      ]
     },
     "execution_count": 129,
     "metadata": {},
     "output_type": "execute_result"
    }
   ],
   "source": [
    "eq_final"
   ]
  },
  {
   "cell_type": "code",
   "execution_count": 144,
   "metadata": {},
   "outputs": [
    {
     "ename": "KeyboardInterrupt",
     "evalue": "",
     "output_type": "error",
     "traceback": [
      "\u001b[0;31m---------------------------------------------------------------------------\u001b[0m",
      "\u001b[0;31mKeyboardInterrupt\u001b[0m                         Traceback (most recent call last)",
      "Cell \u001b[0;32mIn[144], line 1\u001b[0m\n\u001b[0;32m----> 1\u001b[0m sympy\u001b[39m.\u001b[39;49msolve(sympy\u001b[39m.\u001b[39;49mexpand(eq_final), fn)\n",
      "File \u001b[0;32m~/anaconda3/envs/mlscorecheck/lib/python3.10/site-packages/sympy/solvers/solvers.py:1112\u001b[0m, in \u001b[0;36msolve\u001b[0;34m(f, *symbols, **flags)\u001b[0m\n\u001b[1;32m   1108\u001b[0m \u001b[39m#\u001b[39;00m\n\u001b[1;32m   1109\u001b[0m \u001b[39m# try to get a solution\u001b[39;00m\n\u001b[1;32m   1110\u001b[0m \u001b[39m###########################################################################\u001b[39;00m\n\u001b[1;32m   1111\u001b[0m \u001b[39mif\u001b[39;00m bare_f:\n\u001b[0;32m-> 1112\u001b[0m     solution \u001b[39m=\u001b[39m _solve(f[\u001b[39m0\u001b[39;49m], \u001b[39m*\u001b[39;49msymbols, \u001b[39m*\u001b[39;49m\u001b[39m*\u001b[39;49mflags)\n\u001b[1;32m   1113\u001b[0m \u001b[39melse\u001b[39;00m:\n\u001b[1;32m   1114\u001b[0m     solution \u001b[39m=\u001b[39m _solve_system(f, symbols, \u001b[39m*\u001b[39m\u001b[39m*\u001b[39mflags)\n",
      "File \u001b[0;32m~/anaconda3/envs/mlscorecheck/lib/python3.10/site-packages/sympy/solvers/solvers.py:1761\u001b[0m, in \u001b[0;36m_solve\u001b[0;34m(f, *symbols, **flags)\u001b[0m\n\u001b[1;32m   1756\u001b[0m     result \u001b[39m=\u001b[39m [s \u001b[39mfor\u001b[39;00m s \u001b[39min\u001b[39;00m result \u001b[39mif\u001b[39;00m\n\u001b[1;32m   1757\u001b[0m               \u001b[39mnot\u001b[39;00m \u001b[39many\u001b[39m(checksol(d, {symbol: s}, \u001b[39m*\u001b[39m\u001b[39m*\u001b[39mflags)\n\u001b[1;32m   1758\u001b[0m                       \u001b[39mfor\u001b[39;00m d \u001b[39min\u001b[39;00m dens)]\n\u001b[1;32m   1759\u001b[0m \u001b[39mif\u001b[39;00m check:\n\u001b[1;32m   1760\u001b[0m     \u001b[39m# keep only results if the check is not False\u001b[39;00m\n\u001b[0;32m-> 1761\u001b[0m     result \u001b[39m=\u001b[39m [r \u001b[39mfor\u001b[39;00m r \u001b[39min\u001b[39;00m result \u001b[39mif\u001b[39;00m\n\u001b[1;32m   1762\u001b[0m               checksol(f_num, {symbol: r}, \u001b[39m*\u001b[39m\u001b[39m*\u001b[39mflags) \u001b[39mis\u001b[39;00m \u001b[39mnot\u001b[39;00m \u001b[39mFalse\u001b[39;00m]\n\u001b[1;32m   1763\u001b[0m \u001b[39mreturn\u001b[39;00m result\n",
      "File \u001b[0;32m~/anaconda3/envs/mlscorecheck/lib/python3.10/site-packages/sympy/solvers/solvers.py:1762\u001b[0m, in \u001b[0;36m<listcomp>\u001b[0;34m(.0)\u001b[0m\n\u001b[1;32m   1756\u001b[0m     result \u001b[39m=\u001b[39m [s \u001b[39mfor\u001b[39;00m s \u001b[39min\u001b[39;00m result \u001b[39mif\u001b[39;00m\n\u001b[1;32m   1757\u001b[0m               \u001b[39mnot\u001b[39;00m \u001b[39many\u001b[39m(checksol(d, {symbol: s}, \u001b[39m*\u001b[39m\u001b[39m*\u001b[39mflags)\n\u001b[1;32m   1758\u001b[0m                       \u001b[39mfor\u001b[39;00m d \u001b[39min\u001b[39;00m dens)]\n\u001b[1;32m   1759\u001b[0m \u001b[39mif\u001b[39;00m check:\n\u001b[1;32m   1760\u001b[0m     \u001b[39m# keep only results if the check is not False\u001b[39;00m\n\u001b[1;32m   1761\u001b[0m     result \u001b[39m=\u001b[39m [r \u001b[39mfor\u001b[39;00m r \u001b[39min\u001b[39;00m result \u001b[39mif\u001b[39;00m\n\u001b[0;32m-> 1762\u001b[0m               checksol(f_num, {symbol: r}, \u001b[39m*\u001b[39;49m\u001b[39m*\u001b[39;49mflags) \u001b[39mis\u001b[39;00m \u001b[39mnot\u001b[39;00m \u001b[39mFalse\u001b[39;00m]\n\u001b[1;32m   1763\u001b[0m \u001b[39mreturn\u001b[39;00m result\n",
      "File \u001b[0;32m~/anaconda3/envs/mlscorecheck/lib/python3.10/site-packages/sympy/solvers/solvers.py:310\u001b[0m, in \u001b[0;36mchecksol\u001b[0;34m(f, symbol, sol, **flags)\u001b[0m\n\u001b[1;32m    307\u001b[0m         sol[k] \u001b[39m=\u001b[39m simplify(sol[k])\n\u001b[1;32m    308\u001b[0m \u001b[39m# start over without the failed expanded form, possibly\u001b[39;00m\n\u001b[1;32m    309\u001b[0m \u001b[39m# with a simplified solution\u001b[39;00m\n\u001b[0;32m--> 310\u001b[0m val \u001b[39m=\u001b[39m simplify(f\u001b[39m.\u001b[39;49msubs(sol))\n\u001b[1;32m    311\u001b[0m \u001b[39mif\u001b[39;00m flags\u001b[39m.\u001b[39mget(\u001b[39m'\u001b[39m\u001b[39mforce\u001b[39m\u001b[39m'\u001b[39m, \u001b[39mTrue\u001b[39;00m):\n\u001b[1;32m    312\u001b[0m     val, reps \u001b[39m=\u001b[39m posify(val)\n",
      "File \u001b[0;32m~/anaconda3/envs/mlscorecheck/lib/python3.10/site-packages/sympy/simplify/simplify.py:644\u001b[0m, in \u001b[0;36msimplify\u001b[0;34m(expr, ratio, measure, rational, inverse, doit, **kwargs)\u001b[0m\n\u001b[1;32m    642\u001b[0m expr \u001b[39m=\u001b[39m _bottom_up(expr, \u001b[39mlambda\u001b[39;00m w: \u001b[39mgetattr\u001b[39m(w, \u001b[39m'\u001b[39m\u001b[39mnormal\u001b[39m\u001b[39m'\u001b[39m, \u001b[39mlambda\u001b[39;00m: w)())\n\u001b[1;32m    643\u001b[0m expr \u001b[39m=\u001b[39m Mul(\u001b[39m*\u001b[39mpowsimp(expr)\u001b[39m.\u001b[39mas_content_primitive())\n\u001b[0;32m--> 644\u001b[0m _e \u001b[39m=\u001b[39m cancel(expr)\n\u001b[1;32m    645\u001b[0m expr1 \u001b[39m=\u001b[39m shorter(_e, _mexpand(_e)\u001b[39m.\u001b[39mcancel())  \u001b[39m# issue 6829\u001b[39;00m\n\u001b[1;32m    646\u001b[0m expr2 \u001b[39m=\u001b[39m shorter(together(expr, deep\u001b[39m=\u001b[39m\u001b[39mTrue\u001b[39;00m), together(expr1, deep\u001b[39m=\u001b[39m\u001b[39mTrue\u001b[39;00m))\n",
      "File \u001b[0;32m~/anaconda3/envs/mlscorecheck/lib/python3.10/site-packages/sympy/polys/polytools.py:6797\u001b[0m, in \u001b[0;36mcancel\u001b[0;34m(f, _signsimp, *gens, **args)\u001b[0m\n\u001b[1;32m   6794\u001b[0m                 \u001b[39mpass\u001b[39;00m\n\u001b[1;32m   6795\u001b[0m         \u001b[39mreturn\u001b[39;00m f\u001b[39m.\u001b[39mxreplace(\u001b[39mdict\u001b[39m(reps))\n\u001b[0;32m-> 6797\u001b[0m c, (P, Q) \u001b[39m=\u001b[39m \u001b[39m1\u001b[39m, F\u001b[39m.\u001b[39;49mcancel(G)\n\u001b[1;32m   6798\u001b[0m \u001b[39mif\u001b[39;00m opt\u001b[39m.\u001b[39mget(\u001b[39m'\u001b[39m\u001b[39mpolys\u001b[39m\u001b[39m'\u001b[39m, \u001b[39mFalse\u001b[39;00m) \u001b[39mand\u001b[39;00m \u001b[39m'\u001b[39m\u001b[39mgens\u001b[39m\u001b[39m'\u001b[39m \u001b[39mnot\u001b[39;00m \u001b[39min\u001b[39;00m opt:\n\u001b[1;32m   6799\u001b[0m     opt[\u001b[39m'\u001b[39m\u001b[39mgens\u001b[39m\u001b[39m'\u001b[39m] \u001b[39m=\u001b[39m R\u001b[39m.\u001b[39msymbols\n",
      "File \u001b[0;32m~/anaconda3/envs/mlscorecheck/lib/python3.10/site-packages/sympy/polys/rings.py:2223\u001b[0m, in \u001b[0;36mPolyElement.cancel\u001b[0;34m(self, g)\u001b[0m\n\u001b[1;32m   2220\u001b[0m domain \u001b[39m=\u001b[39m ring\u001b[39m.\u001b[39mdomain\n\u001b[1;32m   2222\u001b[0m \u001b[39mif\u001b[39;00m \u001b[39mnot\u001b[39;00m (domain\u001b[39m.\u001b[39mis_Field \u001b[39mand\u001b[39;00m domain\u001b[39m.\u001b[39mhas_assoc_Ring):\n\u001b[0;32m-> 2223\u001b[0m     _, p, q \u001b[39m=\u001b[39m f\u001b[39m.\u001b[39;49mcofactors(g)\n\u001b[1;32m   2224\u001b[0m \u001b[39melse\u001b[39;00m:\n\u001b[1;32m   2225\u001b[0m     new_ring \u001b[39m=\u001b[39m ring\u001b[39m.\u001b[39mclone(domain\u001b[39m=\u001b[39mdomain\u001b[39m.\u001b[39mget_ring())\n",
      "File \u001b[0;32m~/anaconda3/envs/mlscorecheck/lib/python3.10/site-packages/sympy/polys/rings.py:2139\u001b[0m, in \u001b[0;36mPolyElement.cofactors\u001b[0;34m(f, g)\u001b[0m\n\u001b[1;32m   2136\u001b[0m     \u001b[39mreturn\u001b[39;00m h, cff, cfg\n\u001b[1;32m   2138\u001b[0m J, (f, g) \u001b[39m=\u001b[39m f\u001b[39m.\u001b[39mdeflate(g)\n\u001b[0;32m-> 2139\u001b[0m h, cff, cfg \u001b[39m=\u001b[39m f\u001b[39m.\u001b[39;49m_gcd(g)\n\u001b[1;32m   2141\u001b[0m \u001b[39mreturn\u001b[39;00m (h\u001b[39m.\u001b[39minflate(J), cff\u001b[39m.\u001b[39minflate(J), cfg\u001b[39m.\u001b[39minflate(J))\n",
      "File \u001b[0;32m~/anaconda3/envs/mlscorecheck/lib/python3.10/site-packages/sympy/polys/rings.py:2174\u001b[0m, in \u001b[0;36mPolyElement._gcd\u001b[0;34m(f, g)\u001b[0m\n\u001b[1;32m   2172\u001b[0m     \u001b[39mreturn\u001b[39;00m f\u001b[39m.\u001b[39m_gcd_ZZ(g)\n\u001b[1;32m   2173\u001b[0m \u001b[39melse\u001b[39;00m: \u001b[39m# TODO: don't use dense representation (port PRS algorithms)\u001b[39;00m\n\u001b[0;32m-> 2174\u001b[0m     \u001b[39mreturn\u001b[39;00m ring\u001b[39m.\u001b[39;49mdmp_inner_gcd(f, g)\n",
      "File \u001b[0;32m~/anaconda3/envs/mlscorecheck/lib/python3.10/site-packages/sympy/polys/compatibility.py:663\u001b[0m, in \u001b[0;36mIPolys.dmp_inner_gcd\u001b[0;34m(self, f, g)\u001b[0m\n\u001b[1;32m    662\u001b[0m \u001b[39mdef\u001b[39;00m \u001b[39mdmp_inner_gcd\u001b[39m(\u001b[39mself\u001b[39m, f, g):\n\u001b[0;32m--> 663\u001b[0m     H, F, G \u001b[39m=\u001b[39m dmp_inner_gcd(\u001b[39mself\u001b[39;49m\u001b[39m.\u001b[39;49mto_dense(f), \u001b[39mself\u001b[39;49m\u001b[39m.\u001b[39;49mto_dense(g), \u001b[39mself\u001b[39;49m\u001b[39m.\u001b[39;49mngens\u001b[39m-\u001b[39;49m\u001b[39m1\u001b[39;49m, \u001b[39mself\u001b[39;49m\u001b[39m.\u001b[39;49mdomain)\n\u001b[1;32m    664\u001b[0m     \u001b[39mreturn\u001b[39;00m (\u001b[39mself\u001b[39m\u001b[39m.\u001b[39mfsom_dense(H), \u001b[39mself\u001b[39m\u001b[39m.\u001b[39mfsom_dense(F), \u001b[39mself\u001b[39m\u001b[39m.\u001b[39mfsom_dense(G))\n",
      "File \u001b[0;32m~/anaconda3/envs/mlscorecheck/lib/python3.10/site-packages/sympy/polys/euclidtools.py:1584\u001b[0m, in \u001b[0;36mdmp_inner_gcd\u001b[0;34m(f, g, u, K)\u001b[0m\n\u001b[1;32m   1581\u001b[0m     \u001b[39mreturn\u001b[39;00m dup_inner_gcd(f, g, K)\n\u001b[1;32m   1583\u001b[0m J, (f, g) \u001b[39m=\u001b[39m dmp_multi_deflate((f, g), u, K)\n\u001b[0;32m-> 1584\u001b[0m h, cff, cfg \u001b[39m=\u001b[39m _dmp_inner_gcd(f, g, u, K)\n\u001b[1;32m   1586\u001b[0m \u001b[39mreturn\u001b[39;00m (dmp_inflate(h, J, u, K),\n\u001b[1;32m   1587\u001b[0m         dmp_inflate(cff, J, u, K),\n\u001b[1;32m   1588\u001b[0m         dmp_inflate(cfg, J, u, K))\n",
      "File \u001b[0;32m~/anaconda3/envs/mlscorecheck/lib/python3.10/site-packages/sympy/polys/euclidtools.py:1557\u001b[0m, in \u001b[0;36m_dmp_inner_gcd\u001b[0;34m(f, g, u, K)\u001b[0m\n\u001b[1;32m   1554\u001b[0m     \u001b[39mexcept\u001b[39;00m HeuristicGCDFailed:\n\u001b[1;32m   1555\u001b[0m         \u001b[39mpass\u001b[39;00m\n\u001b[0;32m-> 1557\u001b[0m \u001b[39mreturn\u001b[39;00m dmp_rr_prs_gcd(f, g, u, K)\n",
      "File \u001b[0;32m~/anaconda3/envs/mlscorecheck/lib/python3.10/site-packages/sympy/polys/euclidtools.py:1068\u001b[0m, in \u001b[0;36mdmp_rr_prs_gcd\u001b[0;34m(f, g, u, K)\u001b[0m\n\u001b[1;32m   1065\u001b[0m fc, F \u001b[39m=\u001b[39m dmp_primitive(f, u, K)\n\u001b[1;32m   1066\u001b[0m gc, G \u001b[39m=\u001b[39m dmp_primitive(g, u, K)\n\u001b[0;32m-> 1068\u001b[0m h \u001b[39m=\u001b[39m dmp_subresultants(F, G, u, K)[\u001b[39m-\u001b[39m\u001b[39m1\u001b[39m]\n\u001b[1;32m   1069\u001b[0m c, _, _ \u001b[39m=\u001b[39m dmp_rr_prs_gcd(fc, gc, u \u001b[39m-\u001b[39m \u001b[39m1\u001b[39m, K)\n\u001b[1;32m   1071\u001b[0m \u001b[39mif\u001b[39;00m K\u001b[39m.\u001b[39mis_negative(dmp_ground_LC(h, u, K)):\n",
      "File \u001b[0;32m~/anaconda3/envs/mlscorecheck/lib/python3.10/site-packages/sympy/polys/euclidtools.py:549\u001b[0m, in \u001b[0;36mdmp_subresultants\u001b[0;34m(f, g, u, K)\u001b[0m\n\u001b[1;32m    529\u001b[0m \u001b[39mdef\u001b[39;00m \u001b[39mdmp_subresultants\u001b[39m(f, g, u, K):\n\u001b[1;32m    530\u001b[0m     \u001b[39m\"\"\"\u001b[39;00m\n\u001b[1;32m    531\u001b[0m \u001b[39m    Computes subresultant PRS of two polynomials in `K[X]`.\u001b[39;00m\n\u001b[1;32m    532\u001b[0m \n\u001b[0;32m   (...)\u001b[0m\n\u001b[1;32m    547\u001b[0m \n\u001b[1;32m    548\u001b[0m \u001b[39m    \"\"\"\u001b[39;00m\n\u001b[0;32m--> 549\u001b[0m     \u001b[39mreturn\u001b[39;00m dmp_inner_subresultants(f, g, u, K)[\u001b[39m0\u001b[39m]\n",
      "File \u001b[0;32m~/anaconda3/envs/mlscorecheck/lib/python3.10/site-packages/sympy/polys/euclidtools.py:512\u001b[0m, in \u001b[0;36mdmp_inner_subresultants\u001b[0;34m(f, g, u, K)\u001b[0m\n\u001b[1;32m    507\u001b[0m f, g, m, d \u001b[39m=\u001b[39m g, h, k, m \u001b[39m-\u001b[39m k\n\u001b[1;32m    509\u001b[0m b \u001b[39m=\u001b[39m dmp_mul(dmp_neg(lc, v, K),\n\u001b[1;32m    510\u001b[0m             dmp_pow(c, d, v, K), v, K)\n\u001b[0;32m--> 512\u001b[0m h \u001b[39m=\u001b[39m dmp_prem(f, g, u, K)\n\u001b[1;32m    513\u001b[0m h \u001b[39m=\u001b[39m [ dmp_quo(ch, b, v, K) \u001b[39mfor\u001b[39;00m ch \u001b[39min\u001b[39;00m h ]\n\u001b[1;32m    515\u001b[0m lc \u001b[39m=\u001b[39m dmp_LC(g, K)\n",
      "File \u001b[0;32m~/anaconda3/envs/mlscorecheck/lib/python3.10/site-packages/sympy/polys/densearith.py:1238\u001b[0m, in \u001b[0;36mdmp_prem\u001b[0;34m(f, g, u, K)\u001b[0m\n\u001b[1;32m   1235\u001b[0m j, N \u001b[39m=\u001b[39m dr \u001b[39m-\u001b[39m dg, N \u001b[39m-\u001b[39m \u001b[39m1\u001b[39m\n\u001b[1;32m   1237\u001b[0m R \u001b[39m=\u001b[39m dmp_mul_term(r, lc_g, \u001b[39m0\u001b[39m, u, K)\n\u001b[0;32m-> 1238\u001b[0m G \u001b[39m=\u001b[39m dmp_mul_term(g, lc_r, j, u, K)\n\u001b[1;32m   1239\u001b[0m r \u001b[39m=\u001b[39m dmp_sub(R, G, u, K)\n\u001b[1;32m   1241\u001b[0m _dr, dr \u001b[39m=\u001b[39m dr, dmp_degree(r, u)\n",
      "File \u001b[0;32m~/anaconda3/envs/mlscorecheck/lib/python3.10/site-packages/sympy/polys/densearith.py:184\u001b[0m, in \u001b[0;36mdmp_mul_term\u001b[0;34m(f, c, i, u, K)\u001b[0m\n\u001b[1;32m    182\u001b[0m     \u001b[39mreturn\u001b[39;00m dmp_zero(u)\n\u001b[1;32m    183\u001b[0m \u001b[39melse\u001b[39;00m:\n\u001b[0;32m--> 184\u001b[0m     \u001b[39mreturn\u001b[39;00m [ dmp_mul(cf, c, v, K) \u001b[39mfor\u001b[39;00m cf \u001b[39min\u001b[39;00m f ] \u001b[39m+\u001b[39m dmp_zeros(i, v, K)\n",
      "File \u001b[0;32m~/anaconda3/envs/mlscorecheck/lib/python3.10/site-packages/sympy/polys/densearith.py:184\u001b[0m, in \u001b[0;36m<listcomp>\u001b[0;34m(.0)\u001b[0m\n\u001b[1;32m    182\u001b[0m     \u001b[39mreturn\u001b[39;00m dmp_zero(u)\n\u001b[1;32m    183\u001b[0m \u001b[39melse\u001b[39;00m:\n\u001b[0;32m--> 184\u001b[0m     \u001b[39mreturn\u001b[39;00m [ dmp_mul(cf, c, v, K) \u001b[39mfor\u001b[39;00m cf \u001b[39min\u001b[39;00m f ] \u001b[39m+\u001b[39m dmp_zeros(i, v, K)\n",
      "File \u001b[0;32m~/anaconda3/envs/mlscorecheck/lib/python3.10/site-packages/sympy/polys/densearith.py:828\u001b[0m, in \u001b[0;36mdmp_mul\u001b[0;34m(f, g, u, K)\u001b[0m\n\u001b[1;32m    825\u001b[0m     coeff \u001b[39m=\u001b[39m dmp_zero(v)\n\u001b[1;32m    827\u001b[0m     \u001b[39mfor\u001b[39;00m j \u001b[39min\u001b[39;00m \u001b[39mrange\u001b[39m(\u001b[39mmax\u001b[39m(\u001b[39m0\u001b[39m, i \u001b[39m-\u001b[39m dg), \u001b[39mmin\u001b[39m(df, i) \u001b[39m+\u001b[39m \u001b[39m1\u001b[39m):\n\u001b[0;32m--> 828\u001b[0m         coeff \u001b[39m=\u001b[39m dmp_add(coeff, dmp_mul(f[j], g[i \u001b[39m-\u001b[39;49m j], v, K), v, K)\n\u001b[1;32m    830\u001b[0m     h\u001b[39m.\u001b[39mappend(coeff)\n\u001b[1;32m    832\u001b[0m \u001b[39mreturn\u001b[39;00m dmp_strip(h, u)\n",
      "File \u001b[0;32m~/anaconda3/envs/mlscorecheck/lib/python3.10/site-packages/sympy/polys/densearith.py:828\u001b[0m, in \u001b[0;36mdmp_mul\u001b[0;34m(f, g, u, K)\u001b[0m\n\u001b[1;32m    825\u001b[0m     coeff \u001b[39m=\u001b[39m dmp_zero(v)\n\u001b[1;32m    827\u001b[0m     \u001b[39mfor\u001b[39;00m j \u001b[39min\u001b[39;00m \u001b[39mrange\u001b[39m(\u001b[39mmax\u001b[39m(\u001b[39m0\u001b[39m, i \u001b[39m-\u001b[39m dg), \u001b[39mmin\u001b[39m(df, i) \u001b[39m+\u001b[39m \u001b[39m1\u001b[39m):\n\u001b[0;32m--> 828\u001b[0m         coeff \u001b[39m=\u001b[39m dmp_add(coeff, dmp_mul(f[j], g[i \u001b[39m-\u001b[39;49m j], v, K), v, K)\n\u001b[1;32m    830\u001b[0m     h\u001b[39m.\u001b[39mappend(coeff)\n\u001b[1;32m    832\u001b[0m \u001b[39mreturn\u001b[39;00m dmp_strip(h, u)\n",
      "    \u001b[0;31m[... skipping similar frames: dmp_mul at line 828 (5 times)]\u001b[0m\n",
      "File \u001b[0;32m~/anaconda3/envs/mlscorecheck/lib/python3.10/site-packages/sympy/polys/densearith.py:828\u001b[0m, in \u001b[0;36mdmp_mul\u001b[0;34m(f, g, u, K)\u001b[0m\n\u001b[1;32m    825\u001b[0m     coeff \u001b[39m=\u001b[39m dmp_zero(v)\n\u001b[1;32m    827\u001b[0m     \u001b[39mfor\u001b[39;00m j \u001b[39min\u001b[39;00m \u001b[39mrange\u001b[39m(\u001b[39mmax\u001b[39m(\u001b[39m0\u001b[39m, i \u001b[39m-\u001b[39m dg), \u001b[39mmin\u001b[39m(df, i) \u001b[39m+\u001b[39m \u001b[39m1\u001b[39m):\n\u001b[0;32m--> 828\u001b[0m         coeff \u001b[39m=\u001b[39m dmp_add(coeff, dmp_mul(f[j], g[i \u001b[39m-\u001b[39;49m j], v, K), v, K)\n\u001b[1;32m    830\u001b[0m     h\u001b[39m.\u001b[39mappend(coeff)\n\u001b[1;32m    832\u001b[0m \u001b[39mreturn\u001b[39;00m dmp_strip(h, u)\n",
      "File \u001b[0;32m~/anaconda3/envs/mlscorecheck/lib/python3.10/site-packages/sympy/polys/densearith.py:810\u001b[0m, in \u001b[0;36mdmp_mul\u001b[0;34m(f, g, u, K)\u001b[0m\n\u001b[1;32m    807\u001b[0m     \u001b[39mreturn\u001b[39;00m dup_mul(f, g, K)\n\u001b[1;32m    809\u001b[0m \u001b[39mif\u001b[39;00m f \u001b[39m==\u001b[39m g:\n\u001b[0;32m--> 810\u001b[0m     \u001b[39mreturn\u001b[39;00m dmp_sqr(f, u, K)\n\u001b[1;32m    812\u001b[0m df \u001b[39m=\u001b[39m dmp_degree(f, u)\n\u001b[1;32m    814\u001b[0m \u001b[39mif\u001b[39;00m df \u001b[39m<\u001b[39m \u001b[39m0\u001b[39m:\n",
      "File \u001b[0;32m~/anaconda3/envs/mlscorecheck/lib/python3.10/site-packages/sympy/polys/densearith.py:894\u001b[0m, in \u001b[0;36mdmp_sqr\u001b[0;34m(f, u, K)\u001b[0m\n\u001b[1;32m    890\u001b[0m     \u001b[39mreturn\u001b[39;00m dup_sqr(f, K)\n\u001b[1;32m    892\u001b[0m df \u001b[39m=\u001b[39m dmp_degree(f, u)\n\u001b[0;32m--> 894\u001b[0m \u001b[39mif\u001b[39;00m df \u001b[39m<\u001b[39;49m \u001b[39m0\u001b[39;49m:\n\u001b[1;32m    895\u001b[0m     \u001b[39mreturn\u001b[39;00m f\n\u001b[1;32m    897\u001b[0m h, v \u001b[39m=\u001b[39m [], u \u001b[39m-\u001b[39m \u001b[39m1\u001b[39m\n",
      "File \u001b[0;32m~/anaconda3/envs/mlscorecheck/lib/python3.10/site-packages/sympy/core/decorators.py:236\u001b[0m, in \u001b[0;36m_SympifyWrapper.make_wrapped.<locals>._func\u001b[0;34m(self, other)\u001b[0m\n\u001b[1;32m    234\u001b[0m \u001b[39mif\u001b[39;00m \u001b[39mnot\u001b[39;00m \u001b[39misinstance\u001b[39m(other, expectedcls):\n\u001b[1;32m    235\u001b[0m     \u001b[39mreturn\u001b[39;00m retval\n\u001b[0;32m--> 236\u001b[0m \u001b[39mreturn\u001b[39;00m func(\u001b[39mself\u001b[39;49m, other)\n",
      "File \u001b[0;32m~/anaconda3/envs/mlscorecheck/lib/python3.10/site-packages/sympy/core/expr.py:376\u001b[0m, in \u001b[0;36mExpr.__lt__\u001b[0;34m(self, other)\u001b[0m\n\u001b[1;32m    373\u001b[0m \u001b[39m@sympify_return\u001b[39m([(\u001b[39m'\u001b[39m\u001b[39mother\u001b[39m\u001b[39m'\u001b[39m, \u001b[39m'\u001b[39m\u001b[39mExpr\u001b[39m\u001b[39m'\u001b[39m)], \u001b[39mNotImplemented\u001b[39m)\n\u001b[1;32m    374\u001b[0m \u001b[39mdef\u001b[39;00m \u001b[39m__lt__\u001b[39m(\u001b[39mself\u001b[39m, other):\n\u001b[1;32m    375\u001b[0m     \u001b[39mfrom\u001b[39;00m \u001b[39m.\u001b[39;00m\u001b[39mrelational\u001b[39;00m \u001b[39mimport\u001b[39;00m StrictLessThan\n\u001b[0;32m--> 376\u001b[0m     \u001b[39mreturn\u001b[39;00m StrictLessThan(\u001b[39mself\u001b[39;49m, other)\n",
      "File \u001b[0;32m~/anaconda3/envs/mlscorecheck/lib/python3.10/site-packages/sympy/core/relational.py:845\u001b[0m, in \u001b[0;36m_Inequality.__new__\u001b[0;34m(cls, lhs, rhs, **options)\u001b[0m\n\u001b[1;32m    836\u001b[0m             \u001b[39mraise\u001b[39;00m \u001b[39mTypeError\u001b[39;00m(\u001b[39m\"\u001b[39m\u001b[39mInvalid NaN comparison\u001b[39m\u001b[39m\"\u001b[39m)\n\u001b[1;32m    837\u001b[0m     \u001b[39m# First we invoke the appropriate inequality method of `lhs`\u001b[39;00m\n\u001b[1;32m    838\u001b[0m     \u001b[39m# (e.g., `lhs.__lt__`).  That method will try to reduce to\u001b[39;00m\n\u001b[1;32m    839\u001b[0m     \u001b[39m# boolean or raise an exception.  It may keep calling\u001b[39;00m\n\u001b[0;32m   (...)\u001b[0m\n\u001b[1;32m    843\u001b[0m     \u001b[39m# exception).  In that case, it must call us with\u001b[39;00m\n\u001b[1;32m    844\u001b[0m     \u001b[39m# `evaluate=False` to prevent infinite recursion.\u001b[39;00m\n\u001b[0;32m--> 845\u001b[0m     \u001b[39mreturn\u001b[39;00m \u001b[39mcls\u001b[39;49m\u001b[39m.\u001b[39;49m_eval_relation(lhs, rhs, \u001b[39m*\u001b[39;49m\u001b[39m*\u001b[39;49moptions)\n\u001b[1;32m    847\u001b[0m \u001b[39m# make a \"non-evaluated\" Expr for the inequality\u001b[39;00m\n\u001b[1;32m    848\u001b[0m \u001b[39mreturn\u001b[39;00m Relational\u001b[39m.\u001b[39m\u001b[39m__new__\u001b[39m(\u001b[39mcls\u001b[39m, lhs, rhs, \u001b[39m*\u001b[39m\u001b[39m*\u001b[39moptions)\n",
      "File \u001b[0;32m~/anaconda3/envs/mlscorecheck/lib/python3.10/site-packages/sympy/core/relational.py:852\u001b[0m, in \u001b[0;36m_Inequality._eval_relation\u001b[0;34m(cls, lhs, rhs, **options)\u001b[0m\n\u001b[1;32m    850\u001b[0m \u001b[39m@classmethod\u001b[39m\n\u001b[1;32m    851\u001b[0m \u001b[39mdef\u001b[39;00m \u001b[39m_eval_relation\u001b[39m(\u001b[39mcls\u001b[39m, lhs, rhs, \u001b[39m*\u001b[39m\u001b[39m*\u001b[39moptions):\n\u001b[0;32m--> 852\u001b[0m     val \u001b[39m=\u001b[39m \u001b[39mcls\u001b[39;49m\u001b[39m.\u001b[39;49m_eval_fuzzy_relation(lhs, rhs)\n\u001b[1;32m    853\u001b[0m     \u001b[39mif\u001b[39;00m val \u001b[39mis\u001b[39;00m \u001b[39mNone\u001b[39;00m:\n\u001b[1;32m    854\u001b[0m         \u001b[39mreturn\u001b[39;00m \u001b[39mcls\u001b[39m(lhs, rhs, evaluate\u001b[39m=\u001b[39m\u001b[39mFalse\u001b[39;00m)\n",
      "File \u001b[0;32m~/anaconda3/envs/mlscorecheck/lib/python3.10/site-packages/sympy/core/relational.py:1179\u001b[0m, in \u001b[0;36mStrictLessThan._eval_fuzzy_relation\u001b[0;34m(cls, lhs, rhs)\u001b[0m\n\u001b[1;32m   1177\u001b[0m \u001b[39m@classmethod\u001b[39m\n\u001b[1;32m   1178\u001b[0m \u001b[39mdef\u001b[39;00m \u001b[39m_eval_fuzzy_relation\u001b[39m(\u001b[39mcls\u001b[39m, lhs, rhs):\n\u001b[0;32m-> 1179\u001b[0m     \u001b[39mreturn\u001b[39;00m is_lt(lhs, rhs)\n",
      "File \u001b[0;32m~/anaconda3/envs/mlscorecheck/lib/python3.10/site-packages/sympy/core/relational.py:1258\u001b[0m, in \u001b[0;36mis_lt\u001b[0;34m(lhs, rhs, assumptions)\u001b[0m\n\u001b[1;32m   1253\u001b[0m \u001b[39mdef\u001b[39;00m \u001b[39mis_lt\u001b[39m(lhs, rhs, assumptions\u001b[39m=\u001b[39m\u001b[39mNone\u001b[39;00m):\n\u001b[1;32m   1254\u001b[0m     \u001b[39m\"\"\"Fuzzy bool for lhs is strictly less than rhs.\u001b[39;00m\n\u001b[1;32m   1255\u001b[0m \n\u001b[1;32m   1256\u001b[0m \u001b[39m    See the docstring for :func:`~.is_ge` for more.\u001b[39;00m\n\u001b[1;32m   1257\u001b[0m \u001b[39m    \"\"\"\u001b[39;00m\n\u001b[0;32m-> 1258\u001b[0m     \u001b[39mreturn\u001b[39;00m fuzzy_not(is_ge(lhs, rhs, assumptions))\n",
      "File \u001b[0;32m~/anaconda3/envs/mlscorecheck/lib/python3.10/site-packages/sympy/core/relational.py:1380\u001b[0m, in \u001b[0;36mis_ge\u001b[0;34m(lhs, rhs, assumptions)\u001b[0m\n\u001b[1;32m   1378\u001b[0m     \u001b[39mreturn\u001b[39;00m retval\n\u001b[1;32m   1379\u001b[0m \u001b[39melse\u001b[39;00m:\n\u001b[0;32m-> 1380\u001b[0m     n2 \u001b[39m=\u001b[39m _n2(lhs, rhs)\n\u001b[1;32m   1381\u001b[0m     \u001b[39mif\u001b[39;00m n2 \u001b[39mis\u001b[39;00m \u001b[39mnot\u001b[39;00m \u001b[39mNone\u001b[39;00m:\n\u001b[1;32m   1382\u001b[0m         \u001b[39m# use float comparison for infinity.\u001b[39;00m\n\u001b[1;32m   1383\u001b[0m         \u001b[39m# otherwise get stuck in infinite recursion\u001b[39;00m\n\u001b[1;32m   1384\u001b[0m         \u001b[39mif\u001b[39;00m n2 \u001b[39min\u001b[39;00m (S\u001b[39m.\u001b[39mInfinity, S\u001b[39m.\u001b[39mNegativeInfinity):\n",
      "File \u001b[0;32m~/anaconda3/envs/mlscorecheck/lib/python3.10/site-packages/sympy/core/relational.py:1215\u001b[0m, in \u001b[0;36m_n2\u001b[0;34m(a, b)\u001b[0m\n\u001b[1;32m   1212\u001b[0m \u001b[39m# /!\\ it is very important (see issue 8245) not to\u001b[39;00m\n\u001b[1;32m   1213\u001b[0m \u001b[39m# use a re-evaluated number in the calculation of dif\u001b[39;00m\n\u001b[1;32m   1214\u001b[0m \u001b[39mif\u001b[39;00m a\u001b[39m.\u001b[39mis_comparable \u001b[39mand\u001b[39;00m b\u001b[39m.\u001b[39mis_comparable:\n\u001b[0;32m-> 1215\u001b[0m     dif \u001b[39m=\u001b[39m (a \u001b[39m-\u001b[39;49m b)\u001b[39m.\u001b[39mevalf(\u001b[39m2\u001b[39m)\n\u001b[1;32m   1216\u001b[0m     \u001b[39mif\u001b[39;00m dif\u001b[39m.\u001b[39mis_comparable:\n\u001b[1;32m   1217\u001b[0m         \u001b[39mreturn\u001b[39;00m dif\n",
      "File \u001b[0;32m~/anaconda3/envs/mlscorecheck/lib/python3.10/site-packages/sympy/core/decorators.py:65\u001b[0m, in \u001b[0;36m__sympifyit.<locals>.__sympifyit_wrapper\u001b[0;34m(a, b)\u001b[0m\n\u001b[1;32m     63\u001b[0m     \u001b[39mif\u001b[39;00m \u001b[39mnot\u001b[39;00m \u001b[39mhasattr\u001b[39m(b, \u001b[39m'\u001b[39m\u001b[39m_op_priority\u001b[39m\u001b[39m'\u001b[39m):\n\u001b[1;32m     64\u001b[0m         b \u001b[39m=\u001b[39m sympify(b, strict\u001b[39m=\u001b[39m\u001b[39mTrue\u001b[39;00m)\n\u001b[0;32m---> 65\u001b[0m     \u001b[39mreturn\u001b[39;00m func(a, b)\n\u001b[1;32m     66\u001b[0m \u001b[39mexcept\u001b[39;00m SympifyError:\n\u001b[1;32m     67\u001b[0m     \u001b[39mreturn\u001b[39;00m retval\n",
      "File \u001b[0;32m~/anaconda3/envs/mlscorecheck/lib/python3.10/site-packages/sympy/core/numbers.py:3496\u001b[0m, in \u001b[0;36mNegativeInfinity.__sub__\u001b[0;34m(self, other)\u001b[0m\n\u001b[1;32m   3493\u001b[0m \u001b[39m@_sympifyit\u001b[39m(\u001b[39m'\u001b[39m\u001b[39mother\u001b[39m\u001b[39m'\u001b[39m, \u001b[39mNotImplemented\u001b[39m)\n\u001b[1;32m   3494\u001b[0m \u001b[39mdef\u001b[39;00m \u001b[39m__sub__\u001b[39m(\u001b[39mself\u001b[39m, other):\n\u001b[1;32m   3495\u001b[0m     \u001b[39mif\u001b[39;00m \u001b[39misinstance\u001b[39m(other, Number) \u001b[39mand\u001b[39;00m global_parameters\u001b[39m.\u001b[39mevaluate:\n\u001b[0;32m-> 3496\u001b[0m         \u001b[39mif\u001b[39;00m other \u001b[39min\u001b[39;49;00m (S\u001b[39m.\u001b[39;49mNegativeInfinity, S\u001b[39m.\u001b[39;49mNaN):\n\u001b[1;32m   3497\u001b[0m             \u001b[39mreturn\u001b[39;00m S\u001b[39m.\u001b[39mNaN\n\u001b[1;32m   3498\u001b[0m         \u001b[39mreturn\u001b[39;00m \u001b[39mself\u001b[39m\n",
      "File \u001b[0;32m~/anaconda3/envs/mlscorecheck/lib/python3.10/site-packages/sympy/core/numbers.py:3584\u001b[0m, in \u001b[0;36mNegativeInfinity.__eq__\u001b[0;34m(self, other)\u001b[0m\n\u001b[1;32m   3583\u001b[0m \u001b[39mdef\u001b[39;00m \u001b[39m__eq__\u001b[39m(\u001b[39mself\u001b[39m, other):\n\u001b[0;32m-> 3584\u001b[0m     \u001b[39mreturn\u001b[39;00m other \u001b[39mis\u001b[39;00m S\u001b[39m.\u001b[39mNegativeInfinity \u001b[39mor\u001b[39;00m other \u001b[39m==\u001b[39;49m \u001b[39mfloat\u001b[39;49m(\u001b[39m'\u001b[39;49m\u001b[39m-inf\u001b[39;49m\u001b[39m'\u001b[39;49m)\n",
      "File \u001b[0;32m~/anaconda3/envs/mlscorecheck/lib/python3.10/site-packages/sympy/core/numbers.py:2243\u001b[0m, in \u001b[0;36mInteger.__eq__\u001b[0;34m(self, other)\u001b[0m\n\u001b[1;32m   2241\u001b[0m \u001b[39melif\u001b[39;00m \u001b[39misinstance\u001b[39m(other, Integer):\n\u001b[1;32m   2242\u001b[0m     \u001b[39mreturn\u001b[39;00m (\u001b[39mself\u001b[39m\u001b[39m.\u001b[39mp \u001b[39m==\u001b[39m other\u001b[39m.\u001b[39mp)\n\u001b[0;32m-> 2243\u001b[0m \u001b[39mreturn\u001b[39;00m Rational\u001b[39m.\u001b[39;49m\u001b[39m__eq__\u001b[39;49m(\u001b[39mself\u001b[39;49m, other)\n",
      "File \u001b[0;32m~/anaconda3/envs/mlscorecheck/lib/python3.10/site-packages/sympy/core/numbers.py:1869\u001b[0m, in \u001b[0;36mRational.__eq__\u001b[0;34m(self, other)\u001b[0m\n\u001b[1;32m   1867\u001b[0m \u001b[39mdef\u001b[39;00m \u001b[39m__eq__\u001b[39m(\u001b[39mself\u001b[39m, other):\n\u001b[1;32m   1868\u001b[0m     \u001b[39mtry\u001b[39;00m:\n\u001b[0;32m-> 1869\u001b[0m         other \u001b[39m=\u001b[39m _sympify(other)\n\u001b[1;32m   1870\u001b[0m     \u001b[39mexcept\u001b[39;00m SympifyError:\n\u001b[1;32m   1871\u001b[0m         \u001b[39mreturn\u001b[39;00m \u001b[39mNotImplemented\u001b[39m\n",
      "File \u001b[0;32m~/anaconda3/envs/mlscorecheck/lib/python3.10/site-packages/sympy/core/sympify.py:529\u001b[0m, in \u001b[0;36m_sympify\u001b[0;34m(a)\u001b[0m\n\u001b[1;32m    503\u001b[0m \u001b[39mdef\u001b[39;00m \u001b[39m_sympify\u001b[39m(a):\n\u001b[1;32m    504\u001b[0m     \u001b[39m\"\"\"\u001b[39;00m\n\u001b[1;32m    505\u001b[0m \u001b[39m    Short version of :func:`~.sympify` for internal usage for ``__add__`` and\u001b[39;00m\n\u001b[1;32m    506\u001b[0m \u001b[39m    ``__eq__`` methods where it is ok to allow some things (like Python\u001b[39;00m\n\u001b[0;32m   (...)\u001b[0m\n\u001b[1;32m    527\u001b[0m \n\u001b[1;32m    528\u001b[0m \u001b[39m    \"\"\"\u001b[39;00m\n\u001b[0;32m--> 529\u001b[0m     \u001b[39mreturn\u001b[39;00m sympify(a, strict\u001b[39m=\u001b[39;49m\u001b[39mTrue\u001b[39;49;00m)\n",
      "File \u001b[0;32m~/anaconda3/envs/mlscorecheck/lib/python3.10/site-packages/sympy/core/sympify.py:377\u001b[0m, in \u001b[0;36msympify\u001b[0;34m(a, locals, convert_xor, strict, rational, evaluate)\u001b[0m\n\u001b[1;32m    374\u001b[0m \u001b[39mcls\u001b[39m \u001b[39m=\u001b[39m \u001b[39mgetattr\u001b[39m(a, \u001b[39m\"\u001b[39m\u001b[39m__class__\u001b[39m\u001b[39m\"\u001b[39m, \u001b[39mNone\u001b[39;00m)\n\u001b[1;32m    376\u001b[0m \u001b[39m#Check if there exists a converter for any of the types in the mro\u001b[39;00m\n\u001b[0;32m--> 377\u001b[0m \u001b[39mfor\u001b[39;00m superclass \u001b[39min\u001b[39;00m getmro(\u001b[39mcls\u001b[39;49m):\n\u001b[1;32m    378\u001b[0m     \u001b[39m#First check for user defined converters\u001b[39;00m\n\u001b[1;32m    379\u001b[0m     conv \u001b[39m=\u001b[39m _external_converter\u001b[39m.\u001b[39mget(superclass)\n\u001b[1;32m    380\u001b[0m     \u001b[39mif\u001b[39;00m conv \u001b[39mis\u001b[39;00m \u001b[39mNone\u001b[39;00m:\n\u001b[1;32m    381\u001b[0m         \u001b[39m#if none exists, check for SymPy defined converters\u001b[39;00m\n",
      "\u001b[0;31mKeyboardInterrupt\u001b[0m: "
     ]
    }
   ],
   "source": [
    "sympy.solve(sympy.expand(eq_final), fn)"
   ]
  },
  {
   "cell_type": "code",
   "execution_count": 134,
   "metadata": {},
   "outputs": [],
   "source": [
    "tmp = sympy.Eq(eq_final, 0)"
   ]
  },
  {
   "cell_type": "code",
   "execution_count": 135,
   "metadata": {},
   "outputs": [
    {
     "data": {
      "text/latex": [
       "$\\displaystyle 8 mk \\left(fm^{2} mk n p + fm^{2} mk p^{2} + fm^{2} p^{2} + fm^{2} p \\sqrt{4 fn mk n + 4 fn mk p + mk^{2} n^{2} + 2 mk^{2} n p + mk^{2} p^{2} - 2 mk n p - 2 mk p^{2} + p^{2}} - 2 fn^{2} mk + 4 fn mk p - 2 mk p^{2}\\right) = 0$"
      ],
      "text/plain": [
       "Eq(8*mk*(fm**2*mk*n*p + fm**2*mk*p**2 + fm**2*p**2 + fm**2*p*sqrt(4*fn*mk*n + 4*fn*mk*p + mk**2*n**2 + 2*mk**2*n*p + mk**2*p**2 - 2*mk*n*p - 2*mk*p**2 + p**2) - 2*fn**2*mk + 4*fn*mk*p - 2*mk*p**2), 0)"
      ]
     },
     "execution_count": 135,
     "metadata": {},
     "output_type": "execute_result"
    }
   ],
   "source": []
  },
  {
   "cell_type": "code",
   "execution_count": 136,
   "metadata": {},
   "outputs": [],
   "source": [
    "expr = 8*score_symbols['mk']*score_symbols['fm']**2*p*sympy.sqrt(4*fn*score_symbols['mk']*n + 4*fn*score_symbols['mk']*p + score_symbols['mk']**2*n**2 + 2*score_symbols['mk']**2*n*p + score_symbols['mk']**2*p**2 - 2*score_symbols['mk']*n*p - 2*score_symbols['mk']*p**2 + p**2)"
   ]
  },
  {
   "cell_type": "code",
   "execution_count": 141,
   "metadata": {},
   "outputs": [],
   "source": [
    "eq_final2 = sympy.simplify(eq_final - expr)**2 - expr**2"
   ]
  },
  {
   "cell_type": "code",
   "execution_count": 146,
   "metadata": {},
   "outputs": [],
   "source": [
    "fn_solution = sympy.solve(eq_final2, fn)"
   ]
  },
  {
   "cell_type": "code",
   "execution_count": 150,
   "metadata": {},
   "outputs": [
    {
     "data": {
      "text/plain": [
       "[p,\n",
       " p - (9*p**2 - 3*(-fm**2*mk*n*p - fm**2*mk*p**2 - fm**2*p**2 + 3*mk*p**2)/mk)/(3*(-27*p**3 + sqrt(-4*(9*p**2 - 3*(-fm**2*mk*n*p - fm**2*mk*p**2 - fm**2*p**2 + 3*mk*p**2)/mk)**3 + (-54*p**3 + 27*p*(-fm**2*mk*n*p - fm**2*mk*p**2 - fm**2*p**2 + 3*mk*p**2)/mk + 27*(-fm**4*n*p**2 - fm**4*p**3 + fm**2*mk*n*p**2 + fm**2*mk*p**3 + fm**2*p**3 - mk*p**3)/mk)**2)/2 + 27*p*(-fm**2*mk*n*p - fm**2*mk*p**2 - fm**2*p**2 + 3*mk*p**2)/(2*mk) + 27*(-fm**4*n*p**2 - fm**4*p**3 + fm**2*mk*n*p**2 + fm**2*mk*p**3 + fm**2*p**3 - mk*p**3)/(2*mk))**(1/3)) - (-27*p**3 + sqrt(-4*(9*p**2 - 3*(-fm**2*mk*n*p - fm**2*mk*p**2 - fm**2*p**2 + 3*mk*p**2)/mk)**3 + (-54*p**3 + 27*p*(-fm**2*mk*n*p - fm**2*mk*p**2 - fm**2*p**2 + 3*mk*p**2)/mk + 27*(-fm**4*n*p**2 - fm**4*p**3 + fm**2*mk*n*p**2 + fm**2*mk*p**3 + fm**2*p**3 - mk*p**3)/mk)**2)/2 + 27*p*(-fm**2*mk*n*p - fm**2*mk*p**2 - fm**2*p**2 + 3*mk*p**2)/(2*mk) + 27*(-fm**4*n*p**2 - fm**4*p**3 + fm**2*mk*n*p**2 + fm**2*mk*p**3 + fm**2*p**3 - mk*p**3)/(2*mk))**(1/3)/3,\n",
       " p - (9*p**2 - 3*(-fm**2*mk*n*p - fm**2*mk*p**2 - fm**2*p**2 + 3*mk*p**2)/mk)/(3*(-1/2 - sqrt(3)*I/2)*(-27*p**3 + sqrt(-4*(9*p**2 - 3*(-fm**2*mk*n*p - fm**2*mk*p**2 - fm**2*p**2 + 3*mk*p**2)/mk)**3 + (-54*p**3 + 27*p*(-fm**2*mk*n*p - fm**2*mk*p**2 - fm**2*p**2 + 3*mk*p**2)/mk + 27*(-fm**4*n*p**2 - fm**4*p**3 + fm**2*mk*n*p**2 + fm**2*mk*p**3 + fm**2*p**3 - mk*p**3)/mk)**2)/2 + 27*p*(-fm**2*mk*n*p - fm**2*mk*p**2 - fm**2*p**2 + 3*mk*p**2)/(2*mk) + 27*(-fm**4*n*p**2 - fm**4*p**3 + fm**2*mk*n*p**2 + fm**2*mk*p**3 + fm**2*p**3 - mk*p**3)/(2*mk))**(1/3)) - (-1/2 - sqrt(3)*I/2)*(-27*p**3 + sqrt(-4*(9*p**2 - 3*(-fm**2*mk*n*p - fm**2*mk*p**2 - fm**2*p**2 + 3*mk*p**2)/mk)**3 + (-54*p**3 + 27*p*(-fm**2*mk*n*p - fm**2*mk*p**2 - fm**2*p**2 + 3*mk*p**2)/mk + 27*(-fm**4*n*p**2 - fm**4*p**3 + fm**2*mk*n*p**2 + fm**2*mk*p**3 + fm**2*p**3 - mk*p**3)/mk)**2)/2 + 27*p*(-fm**2*mk*n*p - fm**2*mk*p**2 - fm**2*p**2 + 3*mk*p**2)/(2*mk) + 27*(-fm**4*n*p**2 - fm**4*p**3 + fm**2*mk*n*p**2 + fm**2*mk*p**3 + fm**2*p**3 - mk*p**3)/(2*mk))**(1/3)/3,\n",
       " p - (9*p**2 - 3*(-fm**2*mk*n*p - fm**2*mk*p**2 - fm**2*p**2 + 3*mk*p**2)/mk)/(3*(-1/2 + sqrt(3)*I/2)*(-27*p**3 + sqrt(-4*(9*p**2 - 3*(-fm**2*mk*n*p - fm**2*mk*p**2 - fm**2*p**2 + 3*mk*p**2)/mk)**3 + (-54*p**3 + 27*p*(-fm**2*mk*n*p - fm**2*mk*p**2 - fm**2*p**2 + 3*mk*p**2)/mk + 27*(-fm**4*n*p**2 - fm**4*p**3 + fm**2*mk*n*p**2 + fm**2*mk*p**3 + fm**2*p**3 - mk*p**3)/mk)**2)/2 + 27*p*(-fm**2*mk*n*p - fm**2*mk*p**2 - fm**2*p**2 + 3*mk*p**2)/(2*mk) + 27*(-fm**4*n*p**2 - fm**4*p**3 + fm**2*mk*n*p**2 + fm**2*mk*p**3 + fm**2*p**3 - mk*p**3)/(2*mk))**(1/3)) - (-1/2 + sqrt(3)*I/2)*(-27*p**3 + sqrt(-4*(9*p**2 - 3*(-fm**2*mk*n*p - fm**2*mk*p**2 - fm**2*p**2 + 3*mk*p**2)/mk)**3 + (-54*p**3 + 27*p*(-fm**2*mk*n*p - fm**2*mk*p**2 - fm**2*p**2 + 3*mk*p**2)/mk + 27*(-fm**4*n*p**2 - fm**4*p**3 + fm**2*mk*n*p**2 + fm**2*mk*p**3 + fm**2*p**3 - mk*p**3)/mk)**2)/2 + 27*p*(-fm**2*mk*n*p - fm**2*mk*p**2 - fm**2*p**2 + 3*mk*p**2)/(2*mk) + 27*(-fm**4*n*p**2 - fm**4*p**3 + fm**2*mk*n*p**2 + fm**2*mk*p**3 + fm**2*p**3 - mk*p**3)/(2*mk))**(1/3)/3]"
      ]
     },
     "execution_count": 150,
     "metadata": {},
     "output_type": "execute_result"
    }
   ],
   "source": [
    "fn_solution"
   ]
  },
  {
   "cell_type": "code",
   "execution_count": 159,
   "metadata": {},
   "outputs": [
    {
     "data": {
      "text/latex": [
       "$\\displaystyle - \\frac{\\sqrt[3]{2} \\cdot 3^{\\frac{2}{3}} fm^{2} n p}{3 \\sqrt[3]{- \\frac{9 fm^{4} n p^{2}}{mk} - \\frac{9 fm^{4} p^{3}}{mk} + \\sqrt{3} \\sqrt{\\frac{27 fm^{8} p^{4} \\left(n + p\\right)^{2}}{mk^{2}} - \\frac{4 fm^{6} p^{3} \\left(mk n + mk p + p\\right)^{3}}{mk^{3}}}}} - \\frac{\\sqrt[3]{2} \\cdot 3^{\\frac{2}{3}} fm^{2} p^{2}}{3 \\sqrt[3]{- \\frac{9 fm^{4} n p^{2}}{mk} - \\frac{9 fm^{4} p^{3}}{mk} + \\sqrt{3} \\sqrt{\\frac{27 fm^{8} p^{4} \\left(n + p\\right)^{2}}{mk^{2}} - \\frac{4 fm^{6} p^{3} \\left(mk n + mk p + p\\right)^{3}}{mk^{3}}}}} - \\frac{\\sqrt[3]{2} \\cdot 3^{\\frac{2}{3}} fm^{2} p^{2}}{3 mk \\sqrt[3]{- \\frac{9 fm^{4} n p^{2}}{mk} - \\frac{9 fm^{4} p^{3}}{mk} + \\sqrt{3} \\sqrt{\\frac{27 fm^{8} p^{4} \\left(n + p\\right)^{2}}{mk^{2}} - \\frac{4 fm^{6} p^{3} \\left(mk n + mk p + p\\right)^{3}}{mk^{3}}}}} + p - \\frac{\\sqrt[3]{12} \\sqrt[3]{- \\frac{9 fm^{4} n p^{2}}{mk} - \\frac{9 fm^{4} p^{3}}{mk} + \\sqrt{3} \\sqrt{\\frac{27 fm^{8} p^{4} \\left(n + p\\right)^{2}}{mk^{2}} - \\frac{4 fm^{6} p^{3} \\left(mk n + mk p + p\\right)^{3}}{mk^{3}}}}}{6}$"
      ],
      "text/plain": [
       "-2**(1/3)*3**(2/3)*fm**2*n*p/(3*(-9*fm**4*n*p**2/mk - 9*fm**4*p**3/mk + sqrt(3)*sqrt(27*fm**8*p**4*(n + p)**2/mk**2 - 4*fm**6*p**3*(mk*n + mk*p + p)**3/mk**3))**(1/3)) - 2**(1/3)*3**(2/3)*fm**2*p**2/(3*(-9*fm**4*n*p**2/mk - 9*fm**4*p**3/mk + sqrt(3)*sqrt(27*fm**8*p**4*(n + p)**2/mk**2 - 4*fm**6*p**3*(mk*n + mk*p + p)**3/mk**3))**(1/3)) - 2**(1/3)*3**(2/3)*fm**2*p**2/(3*mk*(-9*fm**4*n*p**2/mk - 9*fm**4*p**3/mk + sqrt(3)*sqrt(27*fm**8*p**4*(n + p)**2/mk**2 - 4*fm**6*p**3*(mk*n + mk*p + p)**3/mk**3))**(1/3)) + p - 12**(1/3)*(-9*fm**4*n*p**2/mk - 9*fm**4*p**3/mk + sqrt(3)*sqrt(27*fm**8*p**4*(n + p)**2/mk**2 - 4*fm**6*p**3*(mk*n + mk*p + p)**3/mk**3))**(1/3)/6"
      ]
     },
     "execution_count": 159,
     "metadata": {},
     "output_type": "execute_result"
    }
   ],
   "source": [
    "sympy.simplify(fn_solution[1])"
   ]
  },
  {
   "cell_type": "code",
   "execution_count": 151,
   "metadata": {},
   "outputs": [],
   "source": [
    "tn_ = 10\n",
    "tp_ = 20\n",
    "p_ = 40\n",
    "n_ = 50\n",
    "fp_ = n_ - tn_\n",
    "fn_ = p_ - tp_\n",
    "mk_ = score_functions['mk'](tn=tn_, fn=fn_, tp=tp_, fp=fp_)\n",
    "fm_ = score_functions['fm'](tp=tp_, fp=fp_, p=p_)"
   ]
  },
  {
   "cell_type": "code",
   "execution_count": 153,
   "metadata": {},
   "outputs": [
    {
     "data": {
      "text/plain": [
       "20"
      ]
     },
     "execution_count": 153,
     "metadata": {},
     "output_type": "execute_result"
    }
   ],
   "source": [
    "fn_"
   ]
  },
  {
   "cell_type": "code",
   "execution_count": null,
   "metadata": {},
   "outputs": [],
   "source": []
  },
  {
   "cell_type": "code",
   "execution_count": 156,
   "metadata": {},
   "outputs": [
    {
     "data": {
      "text/latex": [
       "$\\displaystyle 20.0$"
      ],
      "text/plain": [
       "20.0000000000000"
      ]
     },
     "execution_count": 156,
     "metadata": {},
     "output_type": "execute_result"
    }
   ],
   "source": [
    "fn_solution[1].subs({p: p_, n: n_, score_symbols['mk']: mk_, score_symbols['fm']: fm_})"
   ]
  },
  {
   "cell_type": "code",
   "execution_count": null,
   "metadata": {},
   "outputs": [],
   "source": []
  },
  {
   "cell_type": "code",
   "execution_count": null,
   "metadata": {},
   "outputs": [],
   "source": []
  },
  {
   "cell_type": "code",
   "execution_count": 132,
   "metadata": {},
   "outputs": [
    {
     "ename": "KeyboardInterrupt",
     "evalue": "",
     "output_type": "error",
     "traceback": [
      "\u001b[0;31m---------------------------------------------------------------------------\u001b[0m",
      "\u001b[0;31mKeyboardInterrupt\u001b[0m                         Traceback (most recent call last)",
      "Cell \u001b[0;32mIn[132], line 1\u001b[0m\n\u001b[0;32m----> 1\u001b[0m sympy\u001b[39m.\u001b[39;49msolve(eq_final, fn)\n",
      "File \u001b[0;32m~/anaconda3/envs/mlscorecheck/lib/python3.10/site-packages/sympy/solvers/solvers.py:1112\u001b[0m, in \u001b[0;36msolve\u001b[0;34m(f, *symbols, **flags)\u001b[0m\n\u001b[1;32m   1108\u001b[0m \u001b[39m#\u001b[39;00m\n\u001b[1;32m   1109\u001b[0m \u001b[39m# try to get a solution\u001b[39;00m\n\u001b[1;32m   1110\u001b[0m \u001b[39m###########################################################################\u001b[39;00m\n\u001b[1;32m   1111\u001b[0m \u001b[39mif\u001b[39;00m bare_f:\n\u001b[0;32m-> 1112\u001b[0m     solution \u001b[39m=\u001b[39m _solve(f[\u001b[39m0\u001b[39;49m], \u001b[39m*\u001b[39;49msymbols, \u001b[39m*\u001b[39;49m\u001b[39m*\u001b[39;49mflags)\n\u001b[1;32m   1113\u001b[0m \u001b[39melse\u001b[39;00m:\n\u001b[1;32m   1114\u001b[0m     solution \u001b[39m=\u001b[39m _solve_system(f, symbols, \u001b[39m*\u001b[39m\u001b[39m*\u001b[39mflags)\n",
      "File \u001b[0;32m~/anaconda3/envs/mlscorecheck/lib/python3.10/site-packages/sympy/solvers/solvers.py:1418\u001b[0m, in \u001b[0;36m_solve\u001b[0;34m(f, *symbols, **flags)\u001b[0m\n\u001b[1;32m   1416\u001b[0m         result \u001b[39m=\u001b[39m \u001b[39mset\u001b[39m()\n\u001b[1;32m   1417\u001b[0m         \u001b[39mbreak\u001b[39;00m\n\u001b[0;32m-> 1418\u001b[0m     soln \u001b[39m=\u001b[39m _solve(m, symbol, \u001b[39m*\u001b[39;49m\u001b[39m*\u001b[39;49mflags)\n\u001b[1;32m   1419\u001b[0m     result\u001b[39m.\u001b[39mupdate(\u001b[39mset\u001b[39m(soln))\n\u001b[1;32m   1420\u001b[0m result \u001b[39m=\u001b[39m \u001b[39mlist\u001b[39m(result)\n",
      "File \u001b[0;32m~/anaconda3/envs/mlscorecheck/lib/python3.10/site-packages/sympy/solvers/solvers.py:1761\u001b[0m, in \u001b[0;36m_solve\u001b[0;34m(f, *symbols, **flags)\u001b[0m\n\u001b[1;32m   1756\u001b[0m     result \u001b[39m=\u001b[39m [s \u001b[39mfor\u001b[39;00m s \u001b[39min\u001b[39;00m result \u001b[39mif\u001b[39;00m\n\u001b[1;32m   1757\u001b[0m               \u001b[39mnot\u001b[39;00m \u001b[39many\u001b[39m(checksol(d, {symbol: s}, \u001b[39m*\u001b[39m\u001b[39m*\u001b[39mflags)\n\u001b[1;32m   1758\u001b[0m                       \u001b[39mfor\u001b[39;00m d \u001b[39min\u001b[39;00m dens)]\n\u001b[1;32m   1759\u001b[0m \u001b[39mif\u001b[39;00m check:\n\u001b[1;32m   1760\u001b[0m     \u001b[39m# keep only results if the check is not False\u001b[39;00m\n\u001b[0;32m-> 1761\u001b[0m     result \u001b[39m=\u001b[39m [r \u001b[39mfor\u001b[39;00m r \u001b[39min\u001b[39;00m result \u001b[39mif\u001b[39;00m\n\u001b[1;32m   1762\u001b[0m               checksol(f_num, {symbol: r}, \u001b[39m*\u001b[39m\u001b[39m*\u001b[39mflags) \u001b[39mis\u001b[39;00m \u001b[39mnot\u001b[39;00m \u001b[39mFalse\u001b[39;00m]\n\u001b[1;32m   1763\u001b[0m \u001b[39mreturn\u001b[39;00m result\n",
      "File \u001b[0;32m~/anaconda3/envs/mlscorecheck/lib/python3.10/site-packages/sympy/solvers/solvers.py:1762\u001b[0m, in \u001b[0;36m<listcomp>\u001b[0;34m(.0)\u001b[0m\n\u001b[1;32m   1756\u001b[0m     result \u001b[39m=\u001b[39m [s \u001b[39mfor\u001b[39;00m s \u001b[39min\u001b[39;00m result \u001b[39mif\u001b[39;00m\n\u001b[1;32m   1757\u001b[0m               \u001b[39mnot\u001b[39;00m \u001b[39many\u001b[39m(checksol(d, {symbol: s}, \u001b[39m*\u001b[39m\u001b[39m*\u001b[39mflags)\n\u001b[1;32m   1758\u001b[0m                       \u001b[39mfor\u001b[39;00m d \u001b[39min\u001b[39;00m dens)]\n\u001b[1;32m   1759\u001b[0m \u001b[39mif\u001b[39;00m check:\n\u001b[1;32m   1760\u001b[0m     \u001b[39m# keep only results if the check is not False\u001b[39;00m\n\u001b[1;32m   1761\u001b[0m     result \u001b[39m=\u001b[39m [r \u001b[39mfor\u001b[39;00m r \u001b[39min\u001b[39;00m result \u001b[39mif\u001b[39;00m\n\u001b[0;32m-> 1762\u001b[0m               checksol(f_num, {symbol: r}, \u001b[39m*\u001b[39;49m\u001b[39m*\u001b[39;49mflags) \u001b[39mis\u001b[39;00m \u001b[39mnot\u001b[39;00m \u001b[39mFalse\u001b[39;00m]\n\u001b[1;32m   1763\u001b[0m \u001b[39mreturn\u001b[39;00m result\n",
      "File \u001b[0;32m~/anaconda3/envs/mlscorecheck/lib/python3.10/site-packages/sympy/solvers/solvers.py:310\u001b[0m, in \u001b[0;36mchecksol\u001b[0;34m(f, symbol, sol, **flags)\u001b[0m\n\u001b[1;32m    307\u001b[0m         sol[k] \u001b[39m=\u001b[39m simplify(sol[k])\n\u001b[1;32m    308\u001b[0m \u001b[39m# start over without the failed expanded form, possibly\u001b[39;00m\n\u001b[1;32m    309\u001b[0m \u001b[39m# with a simplified solution\u001b[39;00m\n\u001b[0;32m--> 310\u001b[0m val \u001b[39m=\u001b[39m simplify(f\u001b[39m.\u001b[39;49msubs(sol))\n\u001b[1;32m    311\u001b[0m \u001b[39mif\u001b[39;00m flags\u001b[39m.\u001b[39mget(\u001b[39m'\u001b[39m\u001b[39mforce\u001b[39m\u001b[39m'\u001b[39m, \u001b[39mTrue\u001b[39;00m):\n\u001b[1;32m    312\u001b[0m     val, reps \u001b[39m=\u001b[39m posify(val)\n",
      "File \u001b[0;32m~/anaconda3/envs/mlscorecheck/lib/python3.10/site-packages/sympy/simplify/simplify.py:644\u001b[0m, in \u001b[0;36msimplify\u001b[0;34m(expr, ratio, measure, rational, inverse, doit, **kwargs)\u001b[0m\n\u001b[1;32m    642\u001b[0m expr \u001b[39m=\u001b[39m _bottom_up(expr, \u001b[39mlambda\u001b[39;00m w: \u001b[39mgetattr\u001b[39m(w, \u001b[39m'\u001b[39m\u001b[39mnormal\u001b[39m\u001b[39m'\u001b[39m, \u001b[39mlambda\u001b[39;00m: w)())\n\u001b[1;32m    643\u001b[0m expr \u001b[39m=\u001b[39m Mul(\u001b[39m*\u001b[39mpowsimp(expr)\u001b[39m.\u001b[39mas_content_primitive())\n\u001b[0;32m--> 644\u001b[0m _e \u001b[39m=\u001b[39m cancel(expr)\n\u001b[1;32m    645\u001b[0m expr1 \u001b[39m=\u001b[39m shorter(_e, _mexpand(_e)\u001b[39m.\u001b[39mcancel())  \u001b[39m# issue 6829\u001b[39;00m\n\u001b[1;32m    646\u001b[0m expr2 \u001b[39m=\u001b[39m shorter(together(expr, deep\u001b[39m=\u001b[39m\u001b[39mTrue\u001b[39;00m), together(expr1, deep\u001b[39m=\u001b[39m\u001b[39mTrue\u001b[39;00m))\n",
      "File \u001b[0;32m~/anaconda3/envs/mlscorecheck/lib/python3.10/site-packages/sympy/polys/polytools.py:6797\u001b[0m, in \u001b[0;36mcancel\u001b[0;34m(f, _signsimp, *gens, **args)\u001b[0m\n\u001b[1;32m   6794\u001b[0m                 \u001b[39mpass\u001b[39;00m\n\u001b[1;32m   6795\u001b[0m         \u001b[39mreturn\u001b[39;00m f\u001b[39m.\u001b[39mxreplace(\u001b[39mdict\u001b[39m(reps))\n\u001b[0;32m-> 6797\u001b[0m c, (P, Q) \u001b[39m=\u001b[39m \u001b[39m1\u001b[39m, F\u001b[39m.\u001b[39;49mcancel(G)\n\u001b[1;32m   6798\u001b[0m \u001b[39mif\u001b[39;00m opt\u001b[39m.\u001b[39mget(\u001b[39m'\u001b[39m\u001b[39mpolys\u001b[39m\u001b[39m'\u001b[39m, \u001b[39mFalse\u001b[39;00m) \u001b[39mand\u001b[39;00m \u001b[39m'\u001b[39m\u001b[39mgens\u001b[39m\u001b[39m'\u001b[39m \u001b[39mnot\u001b[39;00m \u001b[39min\u001b[39;00m opt:\n\u001b[1;32m   6799\u001b[0m     opt[\u001b[39m'\u001b[39m\u001b[39mgens\u001b[39m\u001b[39m'\u001b[39m] \u001b[39m=\u001b[39m R\u001b[39m.\u001b[39msymbols\n",
      "File \u001b[0;32m~/anaconda3/envs/mlscorecheck/lib/python3.10/site-packages/sympy/polys/rings.py:2223\u001b[0m, in \u001b[0;36mPolyElement.cancel\u001b[0;34m(self, g)\u001b[0m\n\u001b[1;32m   2220\u001b[0m domain \u001b[39m=\u001b[39m ring\u001b[39m.\u001b[39mdomain\n\u001b[1;32m   2222\u001b[0m \u001b[39mif\u001b[39;00m \u001b[39mnot\u001b[39;00m (domain\u001b[39m.\u001b[39mis_Field \u001b[39mand\u001b[39;00m domain\u001b[39m.\u001b[39mhas_assoc_Ring):\n\u001b[0;32m-> 2223\u001b[0m     _, p, q \u001b[39m=\u001b[39m f\u001b[39m.\u001b[39;49mcofactors(g)\n\u001b[1;32m   2224\u001b[0m \u001b[39melse\u001b[39;00m:\n\u001b[1;32m   2225\u001b[0m     new_ring \u001b[39m=\u001b[39m ring\u001b[39m.\u001b[39mclone(domain\u001b[39m=\u001b[39mdomain\u001b[39m.\u001b[39mget_ring())\n",
      "File \u001b[0;32m~/anaconda3/envs/mlscorecheck/lib/python3.10/site-packages/sympy/polys/rings.py:2139\u001b[0m, in \u001b[0;36mPolyElement.cofactors\u001b[0;34m(f, g)\u001b[0m\n\u001b[1;32m   2136\u001b[0m     \u001b[39mreturn\u001b[39;00m h, cff, cfg\n\u001b[1;32m   2138\u001b[0m J, (f, g) \u001b[39m=\u001b[39m f\u001b[39m.\u001b[39mdeflate(g)\n\u001b[0;32m-> 2139\u001b[0m h, cff, cfg \u001b[39m=\u001b[39m f\u001b[39m.\u001b[39;49m_gcd(g)\n\u001b[1;32m   2141\u001b[0m \u001b[39mreturn\u001b[39;00m (h\u001b[39m.\u001b[39minflate(J), cff\u001b[39m.\u001b[39minflate(J), cfg\u001b[39m.\u001b[39minflate(J))\n",
      "File \u001b[0;32m~/anaconda3/envs/mlscorecheck/lib/python3.10/site-packages/sympy/polys/rings.py:2174\u001b[0m, in \u001b[0;36mPolyElement._gcd\u001b[0;34m(f, g)\u001b[0m\n\u001b[1;32m   2172\u001b[0m     \u001b[39mreturn\u001b[39;00m f\u001b[39m.\u001b[39m_gcd_ZZ(g)\n\u001b[1;32m   2173\u001b[0m \u001b[39melse\u001b[39;00m: \u001b[39m# TODO: don't use dense representation (port PRS algorithms)\u001b[39;00m\n\u001b[0;32m-> 2174\u001b[0m     \u001b[39mreturn\u001b[39;00m ring\u001b[39m.\u001b[39;49mdmp_inner_gcd(f, g)\n",
      "File \u001b[0;32m~/anaconda3/envs/mlscorecheck/lib/python3.10/site-packages/sympy/polys/compatibility.py:663\u001b[0m, in \u001b[0;36mIPolys.dmp_inner_gcd\u001b[0;34m(self, f, g)\u001b[0m\n\u001b[1;32m    662\u001b[0m \u001b[39mdef\u001b[39;00m \u001b[39mdmp_inner_gcd\u001b[39m(\u001b[39mself\u001b[39m, f, g):\n\u001b[0;32m--> 663\u001b[0m     H, F, G \u001b[39m=\u001b[39m dmp_inner_gcd(\u001b[39mself\u001b[39;49m\u001b[39m.\u001b[39;49mto_dense(f), \u001b[39mself\u001b[39;49m\u001b[39m.\u001b[39;49mto_dense(g), \u001b[39mself\u001b[39;49m\u001b[39m.\u001b[39;49mngens\u001b[39m-\u001b[39;49m\u001b[39m1\u001b[39;49m, \u001b[39mself\u001b[39;49m\u001b[39m.\u001b[39;49mdomain)\n\u001b[1;32m    664\u001b[0m     \u001b[39mreturn\u001b[39;00m (\u001b[39mself\u001b[39m\u001b[39m.\u001b[39mfsom_dense(H), \u001b[39mself\u001b[39m\u001b[39m.\u001b[39mfsom_dense(F), \u001b[39mself\u001b[39m\u001b[39m.\u001b[39mfsom_dense(G))\n",
      "File \u001b[0;32m~/anaconda3/envs/mlscorecheck/lib/python3.10/site-packages/sympy/polys/euclidtools.py:1584\u001b[0m, in \u001b[0;36mdmp_inner_gcd\u001b[0;34m(f, g, u, K)\u001b[0m\n\u001b[1;32m   1581\u001b[0m     \u001b[39mreturn\u001b[39;00m dup_inner_gcd(f, g, K)\n\u001b[1;32m   1583\u001b[0m J, (f, g) \u001b[39m=\u001b[39m dmp_multi_deflate((f, g), u, K)\n\u001b[0;32m-> 1584\u001b[0m h, cff, cfg \u001b[39m=\u001b[39m _dmp_inner_gcd(f, g, u, K)\n\u001b[1;32m   1586\u001b[0m \u001b[39mreturn\u001b[39;00m (dmp_inflate(h, J, u, K),\n\u001b[1;32m   1587\u001b[0m         dmp_inflate(cff, J, u, K),\n\u001b[1;32m   1588\u001b[0m         dmp_inflate(cfg, J, u, K))\n",
      "File \u001b[0;32m~/anaconda3/envs/mlscorecheck/lib/python3.10/site-packages/sympy/polys/euclidtools.py:1557\u001b[0m, in \u001b[0;36m_dmp_inner_gcd\u001b[0;34m(f, g, u, K)\u001b[0m\n\u001b[1;32m   1554\u001b[0m     \u001b[39mexcept\u001b[39;00m HeuristicGCDFailed:\n\u001b[1;32m   1555\u001b[0m         \u001b[39mpass\u001b[39;00m\n\u001b[0;32m-> 1557\u001b[0m \u001b[39mreturn\u001b[39;00m dmp_rr_prs_gcd(f, g, u, K)\n",
      "File \u001b[0;32m~/anaconda3/envs/mlscorecheck/lib/python3.10/site-packages/sympy/polys/euclidtools.py:1068\u001b[0m, in \u001b[0;36mdmp_rr_prs_gcd\u001b[0;34m(f, g, u, K)\u001b[0m\n\u001b[1;32m   1065\u001b[0m fc, F \u001b[39m=\u001b[39m dmp_primitive(f, u, K)\n\u001b[1;32m   1066\u001b[0m gc, G \u001b[39m=\u001b[39m dmp_primitive(g, u, K)\n\u001b[0;32m-> 1068\u001b[0m h \u001b[39m=\u001b[39m dmp_subresultants(F, G, u, K)[\u001b[39m-\u001b[39m\u001b[39m1\u001b[39m]\n\u001b[1;32m   1069\u001b[0m c, _, _ \u001b[39m=\u001b[39m dmp_rr_prs_gcd(fc, gc, u \u001b[39m-\u001b[39m \u001b[39m1\u001b[39m, K)\n\u001b[1;32m   1071\u001b[0m \u001b[39mif\u001b[39;00m K\u001b[39m.\u001b[39mis_negative(dmp_ground_LC(h, u, K)):\n",
      "File \u001b[0;32m~/anaconda3/envs/mlscorecheck/lib/python3.10/site-packages/sympy/polys/euclidtools.py:549\u001b[0m, in \u001b[0;36mdmp_subresultants\u001b[0;34m(f, g, u, K)\u001b[0m\n\u001b[1;32m    529\u001b[0m \u001b[39mdef\u001b[39;00m \u001b[39mdmp_subresultants\u001b[39m(f, g, u, K):\n\u001b[1;32m    530\u001b[0m     \u001b[39m\"\"\"\u001b[39;00m\n\u001b[1;32m    531\u001b[0m \u001b[39m    Computes subresultant PRS of two polynomials in `K[X]`.\u001b[39;00m\n\u001b[1;32m    532\u001b[0m \n\u001b[0;32m   (...)\u001b[0m\n\u001b[1;32m    547\u001b[0m \n\u001b[1;32m    548\u001b[0m \u001b[39m    \"\"\"\u001b[39;00m\n\u001b[0;32m--> 549\u001b[0m     \u001b[39mreturn\u001b[39;00m dmp_inner_subresultants(f, g, u, K)[\u001b[39m0\u001b[39m]\n",
      "File \u001b[0;32m~/anaconda3/envs/mlscorecheck/lib/python3.10/site-packages/sympy/polys/euclidtools.py:512\u001b[0m, in \u001b[0;36mdmp_inner_subresultants\u001b[0;34m(f, g, u, K)\u001b[0m\n\u001b[1;32m    507\u001b[0m f, g, m, d \u001b[39m=\u001b[39m g, h, k, m \u001b[39m-\u001b[39m k\n\u001b[1;32m    509\u001b[0m b \u001b[39m=\u001b[39m dmp_mul(dmp_neg(lc, v, K),\n\u001b[1;32m    510\u001b[0m             dmp_pow(c, d, v, K), v, K)\n\u001b[0;32m--> 512\u001b[0m h \u001b[39m=\u001b[39m dmp_prem(f, g, u, K)\n\u001b[1;32m    513\u001b[0m h \u001b[39m=\u001b[39m [ dmp_quo(ch, b, v, K) \u001b[39mfor\u001b[39;00m ch \u001b[39min\u001b[39;00m h ]\n\u001b[1;32m    515\u001b[0m lc \u001b[39m=\u001b[39m dmp_LC(g, K)\n",
      "File \u001b[0;32m~/anaconda3/envs/mlscorecheck/lib/python3.10/site-packages/sympy/polys/densearith.py:1237\u001b[0m, in \u001b[0;36mdmp_prem\u001b[0;34m(f, g, u, K)\u001b[0m\n\u001b[1;32m   1234\u001b[0m lc_r \u001b[39m=\u001b[39m dmp_LC(r, K)\n\u001b[1;32m   1235\u001b[0m j, N \u001b[39m=\u001b[39m dr \u001b[39m-\u001b[39m dg, N \u001b[39m-\u001b[39m \u001b[39m1\u001b[39m\n\u001b[0;32m-> 1237\u001b[0m R \u001b[39m=\u001b[39m dmp_mul_term(r, lc_g, \u001b[39m0\u001b[39;49m, u, K)\n\u001b[1;32m   1238\u001b[0m G \u001b[39m=\u001b[39m dmp_mul_term(g, lc_r, j, u, K)\n\u001b[1;32m   1239\u001b[0m r \u001b[39m=\u001b[39m dmp_sub(R, G, u, K)\n",
      "File \u001b[0;32m~/anaconda3/envs/mlscorecheck/lib/python3.10/site-packages/sympy/polys/densearith.py:184\u001b[0m, in \u001b[0;36mdmp_mul_term\u001b[0;34m(f, c, i, u, K)\u001b[0m\n\u001b[1;32m    182\u001b[0m     \u001b[39mreturn\u001b[39;00m dmp_zero(u)\n\u001b[1;32m    183\u001b[0m \u001b[39melse\u001b[39;00m:\n\u001b[0;32m--> 184\u001b[0m     \u001b[39mreturn\u001b[39;00m [ dmp_mul(cf, c, v, K) \u001b[39mfor\u001b[39;00m cf \u001b[39min\u001b[39;00m f ] \u001b[39m+\u001b[39m dmp_zeros(i, v, K)\n",
      "File \u001b[0;32m~/anaconda3/envs/mlscorecheck/lib/python3.10/site-packages/sympy/polys/densearith.py:184\u001b[0m, in \u001b[0;36m<listcomp>\u001b[0;34m(.0)\u001b[0m\n\u001b[1;32m    182\u001b[0m     \u001b[39mreturn\u001b[39;00m dmp_zero(u)\n\u001b[1;32m    183\u001b[0m \u001b[39melse\u001b[39;00m:\n\u001b[0;32m--> 184\u001b[0m     \u001b[39mreturn\u001b[39;00m [ dmp_mul(cf, c, v, K) \u001b[39mfor\u001b[39;00m cf \u001b[39min\u001b[39;00m f ] \u001b[39m+\u001b[39m dmp_zeros(i, v, K)\n",
      "File \u001b[0;32m~/anaconda3/envs/mlscorecheck/lib/python3.10/site-packages/sympy/polys/densearith.py:828\u001b[0m, in \u001b[0;36mdmp_mul\u001b[0;34m(f, g, u, K)\u001b[0m\n\u001b[1;32m    825\u001b[0m     coeff \u001b[39m=\u001b[39m dmp_zero(v)\n\u001b[1;32m    827\u001b[0m     \u001b[39mfor\u001b[39;00m j \u001b[39min\u001b[39;00m \u001b[39mrange\u001b[39m(\u001b[39mmax\u001b[39m(\u001b[39m0\u001b[39m, i \u001b[39m-\u001b[39m dg), \u001b[39mmin\u001b[39m(df, i) \u001b[39m+\u001b[39m \u001b[39m1\u001b[39m):\n\u001b[0;32m--> 828\u001b[0m         coeff \u001b[39m=\u001b[39m dmp_add(coeff, dmp_mul(f[j], g[i \u001b[39m-\u001b[39;49m j], v, K), v, K)\n\u001b[1;32m    830\u001b[0m     h\u001b[39m.\u001b[39mappend(coeff)\n\u001b[1;32m    832\u001b[0m \u001b[39mreturn\u001b[39;00m dmp_strip(h, u)\n",
      "File \u001b[0;32m~/anaconda3/envs/mlscorecheck/lib/python3.10/site-packages/sympy/polys/densearith.py:828\u001b[0m, in \u001b[0;36mdmp_mul\u001b[0;34m(f, g, u, K)\u001b[0m\n\u001b[1;32m    825\u001b[0m     coeff \u001b[39m=\u001b[39m dmp_zero(v)\n\u001b[1;32m    827\u001b[0m     \u001b[39mfor\u001b[39;00m j \u001b[39min\u001b[39;00m \u001b[39mrange\u001b[39m(\u001b[39mmax\u001b[39m(\u001b[39m0\u001b[39m, i \u001b[39m-\u001b[39m dg), \u001b[39mmin\u001b[39m(df, i) \u001b[39m+\u001b[39m \u001b[39m1\u001b[39m):\n\u001b[0;32m--> 828\u001b[0m         coeff \u001b[39m=\u001b[39m dmp_add(coeff, dmp_mul(f[j], g[i \u001b[39m-\u001b[39;49m j], v, K), v, K)\n\u001b[1;32m    830\u001b[0m     h\u001b[39m.\u001b[39mappend(coeff)\n\u001b[1;32m    832\u001b[0m \u001b[39mreturn\u001b[39;00m dmp_strip(h, u)\n",
      "    \u001b[0;31m[... skipping similar frames: dmp_mul at line 828 (6 times)]\u001b[0m\n",
      "File \u001b[0;32m~/anaconda3/envs/mlscorecheck/lib/python3.10/site-packages/sympy/polys/densearith.py:828\u001b[0m, in \u001b[0;36mdmp_mul\u001b[0;34m(f, g, u, K)\u001b[0m\n\u001b[1;32m    825\u001b[0m     coeff \u001b[39m=\u001b[39m dmp_zero(v)\n\u001b[1;32m    827\u001b[0m     \u001b[39mfor\u001b[39;00m j \u001b[39min\u001b[39;00m \u001b[39mrange\u001b[39m(\u001b[39mmax\u001b[39m(\u001b[39m0\u001b[39m, i \u001b[39m-\u001b[39m dg), \u001b[39mmin\u001b[39m(df, i) \u001b[39m+\u001b[39m \u001b[39m1\u001b[39m):\n\u001b[0;32m--> 828\u001b[0m         coeff \u001b[39m=\u001b[39m dmp_add(coeff, dmp_mul(f[j], g[i \u001b[39m-\u001b[39;49m j], v, K), v, K)\n\u001b[1;32m    830\u001b[0m     h\u001b[39m.\u001b[39mappend(coeff)\n\u001b[1;32m    832\u001b[0m \u001b[39mreturn\u001b[39;00m dmp_strip(h, u)\n",
      "File \u001b[0;32m~/anaconda3/envs/mlscorecheck/lib/python3.10/site-packages/sympy/polys/densearith.py:567\u001b[0m, in \u001b[0;36mdmp_add\u001b[0;34m(f, g, u, K)\u001b[0m\n\u001b[1;32m    563\u001b[0m     \u001b[39mreturn\u001b[39;00m dup_add(f, g, K)\n\u001b[1;32m    565\u001b[0m df \u001b[39m=\u001b[39m dmp_degree(f, u)\n\u001b[0;32m--> 567\u001b[0m \u001b[39mif\u001b[39;00m df \u001b[39m<\u001b[39;49m \u001b[39m0\u001b[39;49m:\n\u001b[1;32m    568\u001b[0m     \u001b[39mreturn\u001b[39;00m g\n\u001b[1;32m    570\u001b[0m dg \u001b[39m=\u001b[39m dmp_degree(g, u)\n",
      "File \u001b[0;32m~/anaconda3/envs/mlscorecheck/lib/python3.10/site-packages/sympy/core/decorators.py:236\u001b[0m, in \u001b[0;36m_SympifyWrapper.make_wrapped.<locals>._func\u001b[0;34m(self, other)\u001b[0m\n\u001b[1;32m    234\u001b[0m \u001b[39mif\u001b[39;00m \u001b[39mnot\u001b[39;00m \u001b[39misinstance\u001b[39m(other, expectedcls):\n\u001b[1;32m    235\u001b[0m     \u001b[39mreturn\u001b[39;00m retval\n\u001b[0;32m--> 236\u001b[0m \u001b[39mreturn\u001b[39;00m func(\u001b[39mself\u001b[39;49m, other)\n",
      "File \u001b[0;32m~/anaconda3/envs/mlscorecheck/lib/python3.10/site-packages/sympy/core/expr.py:376\u001b[0m, in \u001b[0;36mExpr.__lt__\u001b[0;34m(self, other)\u001b[0m\n\u001b[1;32m    373\u001b[0m \u001b[39m@sympify_return\u001b[39m([(\u001b[39m'\u001b[39m\u001b[39mother\u001b[39m\u001b[39m'\u001b[39m, \u001b[39m'\u001b[39m\u001b[39mExpr\u001b[39m\u001b[39m'\u001b[39m)], \u001b[39mNotImplemented\u001b[39m)\n\u001b[1;32m    374\u001b[0m \u001b[39mdef\u001b[39;00m \u001b[39m__lt__\u001b[39m(\u001b[39mself\u001b[39m, other):\n\u001b[1;32m    375\u001b[0m     \u001b[39mfrom\u001b[39;00m \u001b[39m.\u001b[39;00m\u001b[39mrelational\u001b[39;00m \u001b[39mimport\u001b[39;00m StrictLessThan\n\u001b[0;32m--> 376\u001b[0m     \u001b[39mreturn\u001b[39;00m StrictLessThan(\u001b[39mself\u001b[39;49m, other)\n",
      "File \u001b[0;32m~/anaconda3/envs/mlscorecheck/lib/python3.10/site-packages/sympy/core/relational.py:845\u001b[0m, in \u001b[0;36m_Inequality.__new__\u001b[0;34m(cls, lhs, rhs, **options)\u001b[0m\n\u001b[1;32m    836\u001b[0m             \u001b[39mraise\u001b[39;00m \u001b[39mTypeError\u001b[39;00m(\u001b[39m\"\u001b[39m\u001b[39mInvalid NaN comparison\u001b[39m\u001b[39m\"\u001b[39m)\n\u001b[1;32m    837\u001b[0m     \u001b[39m# First we invoke the appropriate inequality method of `lhs`\u001b[39;00m\n\u001b[1;32m    838\u001b[0m     \u001b[39m# (e.g., `lhs.__lt__`).  That method will try to reduce to\u001b[39;00m\n\u001b[1;32m    839\u001b[0m     \u001b[39m# boolean or raise an exception.  It may keep calling\u001b[39;00m\n\u001b[0;32m   (...)\u001b[0m\n\u001b[1;32m    843\u001b[0m     \u001b[39m# exception).  In that case, it must call us with\u001b[39;00m\n\u001b[1;32m    844\u001b[0m     \u001b[39m# `evaluate=False` to prevent infinite recursion.\u001b[39;00m\n\u001b[0;32m--> 845\u001b[0m     \u001b[39mreturn\u001b[39;00m \u001b[39mcls\u001b[39;49m\u001b[39m.\u001b[39;49m_eval_relation(lhs, rhs, \u001b[39m*\u001b[39;49m\u001b[39m*\u001b[39;49moptions)\n\u001b[1;32m    847\u001b[0m \u001b[39m# make a \"non-evaluated\" Expr for the inequality\u001b[39;00m\n\u001b[1;32m    848\u001b[0m \u001b[39mreturn\u001b[39;00m Relational\u001b[39m.\u001b[39m\u001b[39m__new__\u001b[39m(\u001b[39mcls\u001b[39m, lhs, rhs, \u001b[39m*\u001b[39m\u001b[39m*\u001b[39moptions)\n",
      "File \u001b[0;32m~/anaconda3/envs/mlscorecheck/lib/python3.10/site-packages/sympy/core/relational.py:852\u001b[0m, in \u001b[0;36m_Inequality._eval_relation\u001b[0;34m(cls, lhs, rhs, **options)\u001b[0m\n\u001b[1;32m    850\u001b[0m \u001b[39m@classmethod\u001b[39m\n\u001b[1;32m    851\u001b[0m \u001b[39mdef\u001b[39;00m \u001b[39m_eval_relation\u001b[39m(\u001b[39mcls\u001b[39m, lhs, rhs, \u001b[39m*\u001b[39m\u001b[39m*\u001b[39moptions):\n\u001b[0;32m--> 852\u001b[0m     val \u001b[39m=\u001b[39m \u001b[39mcls\u001b[39;49m\u001b[39m.\u001b[39;49m_eval_fuzzy_relation(lhs, rhs)\n\u001b[1;32m    853\u001b[0m     \u001b[39mif\u001b[39;00m val \u001b[39mis\u001b[39;00m \u001b[39mNone\u001b[39;00m:\n\u001b[1;32m    854\u001b[0m         \u001b[39mreturn\u001b[39;00m \u001b[39mcls\u001b[39m(lhs, rhs, evaluate\u001b[39m=\u001b[39m\u001b[39mFalse\u001b[39;00m)\n",
      "File \u001b[0;32m~/anaconda3/envs/mlscorecheck/lib/python3.10/site-packages/sympy/core/relational.py:1179\u001b[0m, in \u001b[0;36mStrictLessThan._eval_fuzzy_relation\u001b[0;34m(cls, lhs, rhs)\u001b[0m\n\u001b[1;32m   1177\u001b[0m \u001b[39m@classmethod\u001b[39m\n\u001b[1;32m   1178\u001b[0m \u001b[39mdef\u001b[39;00m \u001b[39m_eval_fuzzy_relation\u001b[39m(\u001b[39mcls\u001b[39m, lhs, rhs):\n\u001b[0;32m-> 1179\u001b[0m     \u001b[39mreturn\u001b[39;00m is_lt(lhs, rhs)\n",
      "File \u001b[0;32m~/anaconda3/envs/mlscorecheck/lib/python3.10/site-packages/sympy/core/relational.py:1258\u001b[0m, in \u001b[0;36mis_lt\u001b[0;34m(lhs, rhs, assumptions)\u001b[0m\n\u001b[1;32m   1253\u001b[0m \u001b[39mdef\u001b[39;00m \u001b[39mis_lt\u001b[39m(lhs, rhs, assumptions\u001b[39m=\u001b[39m\u001b[39mNone\u001b[39;00m):\n\u001b[1;32m   1254\u001b[0m     \u001b[39m\"\"\"Fuzzy bool for lhs is strictly less than rhs.\u001b[39;00m\n\u001b[1;32m   1255\u001b[0m \n\u001b[1;32m   1256\u001b[0m \u001b[39m    See the docstring for :func:`~.is_ge` for more.\u001b[39;00m\n\u001b[1;32m   1257\u001b[0m \u001b[39m    \"\"\"\u001b[39;00m\n\u001b[0;32m-> 1258\u001b[0m     \u001b[39mreturn\u001b[39;00m fuzzy_not(is_ge(lhs, rhs, assumptions))\n",
      "\u001b[0;31mKeyboardInterrupt\u001b[0m: "
     ]
    }
   ],
   "source": [
    "sympy.solve(eq_final, fn)"
   ]
  },
  {
   "cell_type": "code",
   "execution_count": null,
   "metadata": {},
   "outputs": [],
   "source": []
  },
  {
   "cell_type": "code",
   "execution_count": null,
   "metadata": {},
   "outputs": [],
   "source": []
  },
  {
   "cell_type": "code",
   "execution_count": null,
   "metadata": {},
   "outputs": [],
   "source": []
  },
  {
   "cell_type": "code",
   "execution_count": null,
   "metadata": {},
   "outputs": [],
   "source": []
  },
  {
   "cell_type": "code",
   "execution_count": null,
   "metadata": {},
   "outputs": [],
   "source": []
  },
  {
   "cell_type": "code",
   "execution_count": null,
   "metadata": {},
   "outputs": [],
   "source": []
  },
  {
   "cell_type": "code",
   "execution_count": 125,
   "metadata": {},
   "outputs": [
    {
     "ename": "KeyboardInterrupt",
     "evalue": "",
     "output_type": "error",
     "traceback": [
      "\u001b[0;31m---------------------------------------------------------------------------\u001b[0m",
      "\u001b[0;31mKeyboardInterrupt\u001b[0m                         Traceback (most recent call last)",
      "Cell \u001b[0;32mIn[125], line 1\u001b[0m\n\u001b[0;32m----> 1\u001b[0m sympy\u001b[39m.\u001b[39;49msolve(eq_final, fn)\n",
      "File \u001b[0;32m~/anaconda3/envs/mlscorecheck/lib/python3.10/site-packages/sympy/solvers/solvers.py:1112\u001b[0m, in \u001b[0;36msolve\u001b[0;34m(f, *symbols, **flags)\u001b[0m\n\u001b[1;32m   1108\u001b[0m \u001b[39m#\u001b[39;00m\n\u001b[1;32m   1109\u001b[0m \u001b[39m# try to get a solution\u001b[39;00m\n\u001b[1;32m   1110\u001b[0m \u001b[39m###########################################################################\u001b[39;00m\n\u001b[1;32m   1111\u001b[0m \u001b[39mif\u001b[39;00m bare_f:\n\u001b[0;32m-> 1112\u001b[0m     solution \u001b[39m=\u001b[39m _solve(f[\u001b[39m0\u001b[39;49m], \u001b[39m*\u001b[39;49msymbols, \u001b[39m*\u001b[39;49m\u001b[39m*\u001b[39;49mflags)\n\u001b[1;32m   1113\u001b[0m \u001b[39melse\u001b[39;00m:\n\u001b[1;32m   1114\u001b[0m     solution \u001b[39m=\u001b[39m _solve_system(f, symbols, \u001b[39m*\u001b[39m\u001b[39m*\u001b[39mflags)\n",
      "File \u001b[0;32m~/anaconda3/envs/mlscorecheck/lib/python3.10/site-packages/sympy/solvers/solvers.py:1761\u001b[0m, in \u001b[0;36m_solve\u001b[0;34m(f, *symbols, **flags)\u001b[0m\n\u001b[1;32m   1756\u001b[0m     result \u001b[39m=\u001b[39m [s \u001b[39mfor\u001b[39;00m s \u001b[39min\u001b[39;00m result \u001b[39mif\u001b[39;00m\n\u001b[1;32m   1757\u001b[0m               \u001b[39mnot\u001b[39;00m \u001b[39many\u001b[39m(checksol(d, {symbol: s}, \u001b[39m*\u001b[39m\u001b[39m*\u001b[39mflags)\n\u001b[1;32m   1758\u001b[0m                       \u001b[39mfor\u001b[39;00m d \u001b[39min\u001b[39;00m dens)]\n\u001b[1;32m   1759\u001b[0m \u001b[39mif\u001b[39;00m check:\n\u001b[1;32m   1760\u001b[0m     \u001b[39m# keep only results if the check is not False\u001b[39;00m\n\u001b[0;32m-> 1761\u001b[0m     result \u001b[39m=\u001b[39m [r \u001b[39mfor\u001b[39;00m r \u001b[39min\u001b[39;00m result \u001b[39mif\u001b[39;00m\n\u001b[1;32m   1762\u001b[0m               checksol(f_num, {symbol: r}, \u001b[39m*\u001b[39m\u001b[39m*\u001b[39mflags) \u001b[39mis\u001b[39;00m \u001b[39mnot\u001b[39;00m \u001b[39mFalse\u001b[39;00m]\n\u001b[1;32m   1763\u001b[0m \u001b[39mreturn\u001b[39;00m result\n",
      "File \u001b[0;32m~/anaconda3/envs/mlscorecheck/lib/python3.10/site-packages/sympy/solvers/solvers.py:1762\u001b[0m, in \u001b[0;36m<listcomp>\u001b[0;34m(.0)\u001b[0m\n\u001b[1;32m   1756\u001b[0m     result \u001b[39m=\u001b[39m [s \u001b[39mfor\u001b[39;00m s \u001b[39min\u001b[39;00m result \u001b[39mif\u001b[39;00m\n\u001b[1;32m   1757\u001b[0m               \u001b[39mnot\u001b[39;00m \u001b[39many\u001b[39m(checksol(d, {symbol: s}, \u001b[39m*\u001b[39m\u001b[39m*\u001b[39mflags)\n\u001b[1;32m   1758\u001b[0m                       \u001b[39mfor\u001b[39;00m d \u001b[39min\u001b[39;00m dens)]\n\u001b[1;32m   1759\u001b[0m \u001b[39mif\u001b[39;00m check:\n\u001b[1;32m   1760\u001b[0m     \u001b[39m# keep only results if the check is not False\u001b[39;00m\n\u001b[1;32m   1761\u001b[0m     result \u001b[39m=\u001b[39m [r \u001b[39mfor\u001b[39;00m r \u001b[39min\u001b[39;00m result \u001b[39mif\u001b[39;00m\n\u001b[0;32m-> 1762\u001b[0m               checksol(f_num, {symbol: r}, \u001b[39m*\u001b[39;49m\u001b[39m*\u001b[39;49mflags) \u001b[39mis\u001b[39;00m \u001b[39mnot\u001b[39;00m \u001b[39mFalse\u001b[39;00m]\n\u001b[1;32m   1763\u001b[0m \u001b[39mreturn\u001b[39;00m result\n",
      "File \u001b[0;32m~/anaconda3/envs/mlscorecheck/lib/python3.10/site-packages/sympy/solvers/solvers.py:310\u001b[0m, in \u001b[0;36mchecksol\u001b[0;34m(f, symbol, sol, **flags)\u001b[0m\n\u001b[1;32m    307\u001b[0m         sol[k] \u001b[39m=\u001b[39m simplify(sol[k])\n\u001b[1;32m    308\u001b[0m \u001b[39m# start over without the failed expanded form, possibly\u001b[39;00m\n\u001b[1;32m    309\u001b[0m \u001b[39m# with a simplified solution\u001b[39;00m\n\u001b[0;32m--> 310\u001b[0m val \u001b[39m=\u001b[39m simplify(f\u001b[39m.\u001b[39;49msubs(sol))\n\u001b[1;32m    311\u001b[0m \u001b[39mif\u001b[39;00m flags\u001b[39m.\u001b[39mget(\u001b[39m'\u001b[39m\u001b[39mforce\u001b[39m\u001b[39m'\u001b[39m, \u001b[39mTrue\u001b[39;00m):\n\u001b[1;32m    312\u001b[0m     val, reps \u001b[39m=\u001b[39m posify(val)\n",
      "File \u001b[0;32m~/anaconda3/envs/mlscorecheck/lib/python3.10/site-packages/sympy/simplify/simplify.py:644\u001b[0m, in \u001b[0;36msimplify\u001b[0;34m(expr, ratio, measure, rational, inverse, doit, **kwargs)\u001b[0m\n\u001b[1;32m    642\u001b[0m expr \u001b[39m=\u001b[39m _bottom_up(expr, \u001b[39mlambda\u001b[39;00m w: \u001b[39mgetattr\u001b[39m(w, \u001b[39m'\u001b[39m\u001b[39mnormal\u001b[39m\u001b[39m'\u001b[39m, \u001b[39mlambda\u001b[39;00m: w)())\n\u001b[1;32m    643\u001b[0m expr \u001b[39m=\u001b[39m Mul(\u001b[39m*\u001b[39mpowsimp(expr)\u001b[39m.\u001b[39mas_content_primitive())\n\u001b[0;32m--> 644\u001b[0m _e \u001b[39m=\u001b[39m cancel(expr)\n\u001b[1;32m    645\u001b[0m expr1 \u001b[39m=\u001b[39m shorter(_e, _mexpand(_e)\u001b[39m.\u001b[39mcancel())  \u001b[39m# issue 6829\u001b[39;00m\n\u001b[1;32m    646\u001b[0m expr2 \u001b[39m=\u001b[39m shorter(together(expr, deep\u001b[39m=\u001b[39m\u001b[39mTrue\u001b[39;00m), together(expr1, deep\u001b[39m=\u001b[39m\u001b[39mTrue\u001b[39;00m))\n",
      "File \u001b[0;32m~/anaconda3/envs/mlscorecheck/lib/python3.10/site-packages/sympy/polys/polytools.py:6797\u001b[0m, in \u001b[0;36mcancel\u001b[0;34m(f, _signsimp, *gens, **args)\u001b[0m\n\u001b[1;32m   6794\u001b[0m                 \u001b[39mpass\u001b[39;00m\n\u001b[1;32m   6795\u001b[0m         \u001b[39mreturn\u001b[39;00m f\u001b[39m.\u001b[39mxreplace(\u001b[39mdict\u001b[39m(reps))\n\u001b[0;32m-> 6797\u001b[0m c, (P, Q) \u001b[39m=\u001b[39m \u001b[39m1\u001b[39m, F\u001b[39m.\u001b[39;49mcancel(G)\n\u001b[1;32m   6798\u001b[0m \u001b[39mif\u001b[39;00m opt\u001b[39m.\u001b[39mget(\u001b[39m'\u001b[39m\u001b[39mpolys\u001b[39m\u001b[39m'\u001b[39m, \u001b[39mFalse\u001b[39;00m) \u001b[39mand\u001b[39;00m \u001b[39m'\u001b[39m\u001b[39mgens\u001b[39m\u001b[39m'\u001b[39m \u001b[39mnot\u001b[39;00m \u001b[39min\u001b[39;00m opt:\n\u001b[1;32m   6799\u001b[0m     opt[\u001b[39m'\u001b[39m\u001b[39mgens\u001b[39m\u001b[39m'\u001b[39m] \u001b[39m=\u001b[39m R\u001b[39m.\u001b[39msymbols\n",
      "File \u001b[0;32m~/anaconda3/envs/mlscorecheck/lib/python3.10/site-packages/sympy/polys/rings.py:2223\u001b[0m, in \u001b[0;36mPolyElement.cancel\u001b[0;34m(self, g)\u001b[0m\n\u001b[1;32m   2220\u001b[0m domain \u001b[39m=\u001b[39m ring\u001b[39m.\u001b[39mdomain\n\u001b[1;32m   2222\u001b[0m \u001b[39mif\u001b[39;00m \u001b[39mnot\u001b[39;00m (domain\u001b[39m.\u001b[39mis_Field \u001b[39mand\u001b[39;00m domain\u001b[39m.\u001b[39mhas_assoc_Ring):\n\u001b[0;32m-> 2223\u001b[0m     _, p, q \u001b[39m=\u001b[39m f\u001b[39m.\u001b[39;49mcofactors(g)\n\u001b[1;32m   2224\u001b[0m \u001b[39melse\u001b[39;00m:\n\u001b[1;32m   2225\u001b[0m     new_ring \u001b[39m=\u001b[39m ring\u001b[39m.\u001b[39mclone(domain\u001b[39m=\u001b[39mdomain\u001b[39m.\u001b[39mget_ring())\n",
      "File \u001b[0;32m~/anaconda3/envs/mlscorecheck/lib/python3.10/site-packages/sympy/polys/rings.py:2139\u001b[0m, in \u001b[0;36mPolyElement.cofactors\u001b[0;34m(f, g)\u001b[0m\n\u001b[1;32m   2136\u001b[0m     \u001b[39mreturn\u001b[39;00m h, cff, cfg\n\u001b[1;32m   2138\u001b[0m J, (f, g) \u001b[39m=\u001b[39m f\u001b[39m.\u001b[39mdeflate(g)\n\u001b[0;32m-> 2139\u001b[0m h, cff, cfg \u001b[39m=\u001b[39m f\u001b[39m.\u001b[39;49m_gcd(g)\n\u001b[1;32m   2141\u001b[0m \u001b[39mreturn\u001b[39;00m (h\u001b[39m.\u001b[39minflate(J), cff\u001b[39m.\u001b[39minflate(J), cfg\u001b[39m.\u001b[39minflate(J))\n",
      "File \u001b[0;32m~/anaconda3/envs/mlscorecheck/lib/python3.10/site-packages/sympy/polys/rings.py:2174\u001b[0m, in \u001b[0;36mPolyElement._gcd\u001b[0;34m(f, g)\u001b[0m\n\u001b[1;32m   2172\u001b[0m     \u001b[39mreturn\u001b[39;00m f\u001b[39m.\u001b[39m_gcd_ZZ(g)\n\u001b[1;32m   2173\u001b[0m \u001b[39melse\u001b[39;00m: \u001b[39m# TODO: don't use dense representation (port PRS algorithms)\u001b[39;00m\n\u001b[0;32m-> 2174\u001b[0m     \u001b[39mreturn\u001b[39;00m ring\u001b[39m.\u001b[39;49mdmp_inner_gcd(f, g)\n",
      "File \u001b[0;32m~/anaconda3/envs/mlscorecheck/lib/python3.10/site-packages/sympy/polys/compatibility.py:663\u001b[0m, in \u001b[0;36mIPolys.dmp_inner_gcd\u001b[0;34m(self, f, g)\u001b[0m\n\u001b[1;32m    662\u001b[0m \u001b[39mdef\u001b[39;00m \u001b[39mdmp_inner_gcd\u001b[39m(\u001b[39mself\u001b[39m, f, g):\n\u001b[0;32m--> 663\u001b[0m     H, F, G \u001b[39m=\u001b[39m dmp_inner_gcd(\u001b[39mself\u001b[39;49m\u001b[39m.\u001b[39;49mto_dense(f), \u001b[39mself\u001b[39;49m\u001b[39m.\u001b[39;49mto_dense(g), \u001b[39mself\u001b[39;49m\u001b[39m.\u001b[39;49mngens\u001b[39m-\u001b[39;49m\u001b[39m1\u001b[39;49m, \u001b[39mself\u001b[39;49m\u001b[39m.\u001b[39;49mdomain)\n\u001b[1;32m    664\u001b[0m     \u001b[39mreturn\u001b[39;00m (\u001b[39mself\u001b[39m\u001b[39m.\u001b[39mfsom_dense(H), \u001b[39mself\u001b[39m\u001b[39m.\u001b[39mfsom_dense(F), \u001b[39mself\u001b[39m\u001b[39m.\u001b[39mfsom_dense(G))\n",
      "File \u001b[0;32m~/anaconda3/envs/mlscorecheck/lib/python3.10/site-packages/sympy/polys/euclidtools.py:1584\u001b[0m, in \u001b[0;36mdmp_inner_gcd\u001b[0;34m(f, g, u, K)\u001b[0m\n\u001b[1;32m   1581\u001b[0m     \u001b[39mreturn\u001b[39;00m dup_inner_gcd(f, g, K)\n\u001b[1;32m   1583\u001b[0m J, (f, g) \u001b[39m=\u001b[39m dmp_multi_deflate((f, g), u, K)\n\u001b[0;32m-> 1584\u001b[0m h, cff, cfg \u001b[39m=\u001b[39m _dmp_inner_gcd(f, g, u, K)\n\u001b[1;32m   1586\u001b[0m \u001b[39mreturn\u001b[39;00m (dmp_inflate(h, J, u, K),\n\u001b[1;32m   1587\u001b[0m         dmp_inflate(cff, J, u, K),\n\u001b[1;32m   1588\u001b[0m         dmp_inflate(cfg, J, u, K))\n",
      "File \u001b[0;32m~/anaconda3/envs/mlscorecheck/lib/python3.10/site-packages/sympy/polys/euclidtools.py:1557\u001b[0m, in \u001b[0;36m_dmp_inner_gcd\u001b[0;34m(f, g, u, K)\u001b[0m\n\u001b[1;32m   1554\u001b[0m     \u001b[39mexcept\u001b[39;00m HeuristicGCDFailed:\n\u001b[1;32m   1555\u001b[0m         \u001b[39mpass\u001b[39;00m\n\u001b[0;32m-> 1557\u001b[0m \u001b[39mreturn\u001b[39;00m dmp_rr_prs_gcd(f, g, u, K)\n",
      "File \u001b[0;32m~/anaconda3/envs/mlscorecheck/lib/python3.10/site-packages/sympy/polys/euclidtools.py:1068\u001b[0m, in \u001b[0;36mdmp_rr_prs_gcd\u001b[0;34m(f, g, u, K)\u001b[0m\n\u001b[1;32m   1065\u001b[0m fc, F \u001b[39m=\u001b[39m dmp_primitive(f, u, K)\n\u001b[1;32m   1066\u001b[0m gc, G \u001b[39m=\u001b[39m dmp_primitive(g, u, K)\n\u001b[0;32m-> 1068\u001b[0m h \u001b[39m=\u001b[39m dmp_subresultants(F, G, u, K)[\u001b[39m-\u001b[39m\u001b[39m1\u001b[39m]\n\u001b[1;32m   1069\u001b[0m c, _, _ \u001b[39m=\u001b[39m dmp_rr_prs_gcd(fc, gc, u \u001b[39m-\u001b[39m \u001b[39m1\u001b[39m, K)\n\u001b[1;32m   1071\u001b[0m \u001b[39mif\u001b[39;00m K\u001b[39m.\u001b[39mis_negative(dmp_ground_LC(h, u, K)):\n",
      "File \u001b[0;32m~/anaconda3/envs/mlscorecheck/lib/python3.10/site-packages/sympy/polys/euclidtools.py:549\u001b[0m, in \u001b[0;36mdmp_subresultants\u001b[0;34m(f, g, u, K)\u001b[0m\n\u001b[1;32m    529\u001b[0m \u001b[39mdef\u001b[39;00m \u001b[39mdmp_subresultants\u001b[39m(f, g, u, K):\n\u001b[1;32m    530\u001b[0m     \u001b[39m\"\"\"\u001b[39;00m\n\u001b[1;32m    531\u001b[0m \u001b[39m    Computes subresultant PRS of two polynomials in `K[X]`.\u001b[39;00m\n\u001b[1;32m    532\u001b[0m \n\u001b[0;32m   (...)\u001b[0m\n\u001b[1;32m    547\u001b[0m \n\u001b[1;32m    548\u001b[0m \u001b[39m    \"\"\"\u001b[39;00m\n\u001b[0;32m--> 549\u001b[0m     \u001b[39mreturn\u001b[39;00m dmp_inner_subresultants(f, g, u, K)[\u001b[39m0\u001b[39m]\n",
      "File \u001b[0;32m~/anaconda3/envs/mlscorecheck/lib/python3.10/site-packages/sympy/polys/euclidtools.py:512\u001b[0m, in \u001b[0;36mdmp_inner_subresultants\u001b[0;34m(f, g, u, K)\u001b[0m\n\u001b[1;32m    507\u001b[0m f, g, m, d \u001b[39m=\u001b[39m g, h, k, m \u001b[39m-\u001b[39m k\n\u001b[1;32m    509\u001b[0m b \u001b[39m=\u001b[39m dmp_mul(dmp_neg(lc, v, K),\n\u001b[1;32m    510\u001b[0m             dmp_pow(c, d, v, K), v, K)\n\u001b[0;32m--> 512\u001b[0m h \u001b[39m=\u001b[39m dmp_prem(f, g, u, K)\n\u001b[1;32m    513\u001b[0m h \u001b[39m=\u001b[39m [ dmp_quo(ch, b, v, K) \u001b[39mfor\u001b[39;00m ch \u001b[39min\u001b[39;00m h ]\n\u001b[1;32m    515\u001b[0m lc \u001b[39m=\u001b[39m dmp_LC(g, K)\n",
      "File \u001b[0;32m~/anaconda3/envs/mlscorecheck/lib/python3.10/site-packages/sympy/polys/densearith.py:1238\u001b[0m, in \u001b[0;36mdmp_prem\u001b[0;34m(f, g, u, K)\u001b[0m\n\u001b[1;32m   1235\u001b[0m j, N \u001b[39m=\u001b[39m dr \u001b[39m-\u001b[39m dg, N \u001b[39m-\u001b[39m \u001b[39m1\u001b[39m\n\u001b[1;32m   1237\u001b[0m R \u001b[39m=\u001b[39m dmp_mul_term(r, lc_g, \u001b[39m0\u001b[39m, u, K)\n\u001b[0;32m-> 1238\u001b[0m G \u001b[39m=\u001b[39m dmp_mul_term(g, lc_r, j, u, K)\n\u001b[1;32m   1239\u001b[0m r \u001b[39m=\u001b[39m dmp_sub(R, G, u, K)\n\u001b[1;32m   1241\u001b[0m _dr, dr \u001b[39m=\u001b[39m dr, dmp_degree(r, u)\n",
      "File \u001b[0;32m~/anaconda3/envs/mlscorecheck/lib/python3.10/site-packages/sympy/polys/densearith.py:184\u001b[0m, in \u001b[0;36mdmp_mul_term\u001b[0;34m(f, c, i, u, K)\u001b[0m\n\u001b[1;32m    182\u001b[0m     \u001b[39mreturn\u001b[39;00m dmp_zero(u)\n\u001b[1;32m    183\u001b[0m \u001b[39melse\u001b[39;00m:\n\u001b[0;32m--> 184\u001b[0m     \u001b[39mreturn\u001b[39;00m [ dmp_mul(cf, c, v, K) \u001b[39mfor\u001b[39;00m cf \u001b[39min\u001b[39;00m f ] \u001b[39m+\u001b[39m dmp_zeros(i, v, K)\n",
      "File \u001b[0;32m~/anaconda3/envs/mlscorecheck/lib/python3.10/site-packages/sympy/polys/densearith.py:184\u001b[0m, in \u001b[0;36m<listcomp>\u001b[0;34m(.0)\u001b[0m\n\u001b[1;32m    182\u001b[0m     \u001b[39mreturn\u001b[39;00m dmp_zero(u)\n\u001b[1;32m    183\u001b[0m \u001b[39melse\u001b[39;00m:\n\u001b[0;32m--> 184\u001b[0m     \u001b[39mreturn\u001b[39;00m [ dmp_mul(cf, c, v, K) \u001b[39mfor\u001b[39;00m cf \u001b[39min\u001b[39;00m f ] \u001b[39m+\u001b[39m dmp_zeros(i, v, K)\n",
      "File \u001b[0;32m~/anaconda3/envs/mlscorecheck/lib/python3.10/site-packages/sympy/polys/densearith.py:828\u001b[0m, in \u001b[0;36mdmp_mul\u001b[0;34m(f, g, u, K)\u001b[0m\n\u001b[1;32m    825\u001b[0m     coeff \u001b[39m=\u001b[39m dmp_zero(v)\n\u001b[1;32m    827\u001b[0m     \u001b[39mfor\u001b[39;00m j \u001b[39min\u001b[39;00m \u001b[39mrange\u001b[39m(\u001b[39mmax\u001b[39m(\u001b[39m0\u001b[39m, i \u001b[39m-\u001b[39m dg), \u001b[39mmin\u001b[39m(df, i) \u001b[39m+\u001b[39m \u001b[39m1\u001b[39m):\n\u001b[0;32m--> 828\u001b[0m         coeff \u001b[39m=\u001b[39m dmp_add(coeff, dmp_mul(f[j], g[i \u001b[39m-\u001b[39;49m j], v, K), v, K)\n\u001b[1;32m    830\u001b[0m     h\u001b[39m.\u001b[39mappend(coeff)\n\u001b[1;32m    832\u001b[0m \u001b[39mreturn\u001b[39;00m dmp_strip(h, u)\n",
      "File \u001b[0;32m~/anaconda3/envs/mlscorecheck/lib/python3.10/site-packages/sympy/polys/densearith.py:828\u001b[0m, in \u001b[0;36mdmp_mul\u001b[0;34m(f, g, u, K)\u001b[0m\n\u001b[1;32m    825\u001b[0m     coeff \u001b[39m=\u001b[39m dmp_zero(v)\n\u001b[1;32m    827\u001b[0m     \u001b[39mfor\u001b[39;00m j \u001b[39min\u001b[39;00m \u001b[39mrange\u001b[39m(\u001b[39mmax\u001b[39m(\u001b[39m0\u001b[39m, i \u001b[39m-\u001b[39m dg), \u001b[39mmin\u001b[39m(df, i) \u001b[39m+\u001b[39m \u001b[39m1\u001b[39m):\n\u001b[0;32m--> 828\u001b[0m         coeff \u001b[39m=\u001b[39m dmp_add(coeff, dmp_mul(f[j], g[i \u001b[39m-\u001b[39;49m j], v, K), v, K)\n\u001b[1;32m    830\u001b[0m     h\u001b[39m.\u001b[39mappend(coeff)\n\u001b[1;32m    832\u001b[0m \u001b[39mreturn\u001b[39;00m dmp_strip(h, u)\n",
      "    \u001b[0;31m[... skipping similar frames: dmp_mul at line 828 (8 times)]\u001b[0m\n",
      "File \u001b[0;32m~/anaconda3/envs/mlscorecheck/lib/python3.10/site-packages/sympy/polys/densearith.py:828\u001b[0m, in \u001b[0;36mdmp_mul\u001b[0;34m(f, g, u, K)\u001b[0m\n\u001b[1;32m    825\u001b[0m     coeff \u001b[39m=\u001b[39m dmp_zero(v)\n\u001b[1;32m    827\u001b[0m     \u001b[39mfor\u001b[39;00m j \u001b[39min\u001b[39;00m \u001b[39mrange\u001b[39m(\u001b[39mmax\u001b[39m(\u001b[39m0\u001b[39m, i \u001b[39m-\u001b[39m dg), \u001b[39mmin\u001b[39m(df, i) \u001b[39m+\u001b[39m \u001b[39m1\u001b[39m):\n\u001b[0;32m--> 828\u001b[0m         coeff \u001b[39m=\u001b[39m dmp_add(coeff, dmp_mul(f[j], g[i \u001b[39m-\u001b[39;49m j], v, K), v, K)\n\u001b[1;32m    830\u001b[0m     h\u001b[39m.\u001b[39mappend(coeff)\n\u001b[1;32m    832\u001b[0m \u001b[39mreturn\u001b[39;00m dmp_strip(h, u)\n",
      "File \u001b[0;32m~/anaconda3/envs/mlscorecheck/lib/python3.10/site-packages/sympy/polys/densearith.py:807\u001b[0m, in \u001b[0;36mdmp_mul\u001b[0;34m(f, g, u, K)\u001b[0m\n\u001b[1;32m    793\u001b[0m \u001b[39m\"\"\"\u001b[39;00m\n\u001b[1;32m    794\u001b[0m \u001b[39mMultiply dense polynomials in ``K[X]``.\u001b[39;00m\n\u001b[1;32m    795\u001b[0m \n\u001b[0;32m   (...)\u001b[0m\n\u001b[1;32m    804\u001b[0m \n\u001b[1;32m    805\u001b[0m \u001b[39m\"\"\"\u001b[39;00m\n\u001b[1;32m    806\u001b[0m \u001b[39mif\u001b[39;00m \u001b[39mnot\u001b[39;00m u:\n\u001b[0;32m--> 807\u001b[0m     \u001b[39mreturn\u001b[39;00m dup_mul(f, g, K)\n\u001b[1;32m    809\u001b[0m \u001b[39mif\u001b[39;00m f \u001b[39m==\u001b[39m g:\n\u001b[1;32m    810\u001b[0m     \u001b[39mreturn\u001b[39;00m dmp_sqr(f, u, K)\n",
      "File \u001b[0;32m~/anaconda3/envs/mlscorecheck/lib/python3.10/site-packages/sympy/polys/densearith.py:767\u001b[0m, in \u001b[0;36mdup_mul\u001b[0;34m(f, g, K)\u001b[0m\n\u001b[1;32m    764\u001b[0m     coeff \u001b[39m=\u001b[39m K\u001b[39m.\u001b[39mzero\n\u001b[1;32m    766\u001b[0m     \u001b[39mfor\u001b[39;00m j \u001b[39min\u001b[39;00m \u001b[39mrange\u001b[39m(\u001b[39mmax\u001b[39m(\u001b[39m0\u001b[39m, i \u001b[39m-\u001b[39m dg), \u001b[39mmin\u001b[39m(df, i) \u001b[39m+\u001b[39m \u001b[39m1\u001b[39m):\n\u001b[0;32m--> 767\u001b[0m         coeff \u001b[39m+\u001b[39m\u001b[39m=\u001b[39m f[j]\u001b[39m*\u001b[39;49mg[i \u001b[39m-\u001b[39;49m j]\n\u001b[1;32m    769\u001b[0m     h\u001b[39m.\u001b[39mappend(coeff)\n\u001b[1;32m    771\u001b[0m \u001b[39mreturn\u001b[39;00m dup_strip(h)\n",
      "File \u001b[0;32m~/anaconda3/envs/mlscorecheck/lib/python3.10/site-packages/sympy/polys/domains/gaussiandomains.py:98\u001b[0m, in \u001b[0;36mGaussianElement.__mul__\u001b[0;34m(self, other)\u001b[0m\n\u001b[1;32m     96\u001b[0m x, y \u001b[39m=\u001b[39m \u001b[39mself\u001b[39m\u001b[39m.\u001b[39m_get_xy(other)\n\u001b[1;32m     97\u001b[0m \u001b[39mif\u001b[39;00m x \u001b[39mis\u001b[39;00m \u001b[39mnot\u001b[39;00m \u001b[39mNone\u001b[39;00m:\n\u001b[0;32m---> 98\u001b[0m     \u001b[39mreturn\u001b[39;00m \u001b[39mself\u001b[39;49m\u001b[39m.\u001b[39;49mnew(\u001b[39mself\u001b[39;49m\u001b[39m.\u001b[39;49mx\u001b[39m*\u001b[39;49mx \u001b[39m-\u001b[39;49m \u001b[39mself\u001b[39;49m\u001b[39m.\u001b[39;49my\u001b[39m*\u001b[39;49my, \u001b[39mself\u001b[39;49m\u001b[39m.\u001b[39;49mx\u001b[39m*\u001b[39;49my \u001b[39m+\u001b[39;49m \u001b[39mself\u001b[39;49m\u001b[39m.\u001b[39;49my\u001b[39m*\u001b[39;49mx)\n\u001b[1;32m     99\u001b[0m \u001b[39melse\u001b[39;00m:\n\u001b[1;32m    100\u001b[0m     \u001b[39mreturn\u001b[39;00m \u001b[39mNotImplemented\u001b[39m\n",
      "\u001b[0;31mKeyboardInterrupt\u001b[0m: "
     ]
    }
   ],
   "source": [
    "sympy.solve(eq_final, fn)"
   ]
  },
  {
   "cell_type": "code",
   "execution_count": null,
   "metadata": {},
   "outputs": [],
   "source": []
  },
  {
   "cell_type": "code",
   "execution_count": null,
   "metadata": {},
   "outputs": [],
   "source": []
  },
  {
   "cell_type": "code",
   "execution_count": null,
   "metadata": {},
   "outputs": [],
   "source": []
  },
  {
   "cell_type": "code",
   "execution_count": 83,
   "metadata": {},
   "outputs": [],
   "source": [
    "tps0 = sympy.solve(eq0, tp)"
   ]
  },
  {
   "cell_type": "code",
   "execution_count": 84,
   "metadata": {},
   "outputs": [],
   "source": [
    "tps1 = sympy.solve(eq1, tp)"
   ]
  },
  {
   "cell_type": "code",
   "execution_count": 85,
   "metadata": {},
   "outputs": [],
   "source": [
    "tps2 = sympy.solve(eq2, tp)"
   ]
  },
  {
   "cell_type": "code",
   "execution_count": 86,
   "metadata": {},
   "outputs": [
    {
     "data": {
      "text/plain": [
       "[fm*(fm*p - sqrt(p*(fm**2*p + 4*fp)))/2,\n",
       " fm*(fm*p + sqrt(p*(fm**2*p + 4*fp)))/2]"
      ]
     },
     "execution_count": 86,
     "metadata": {},
     "output_type": "execute_result"
    }
   ],
   "source": [
    "tps0"
   ]
  },
  {
   "cell_type": "code",
   "execution_count": 87,
   "metadata": {},
   "outputs": [
    {
     "data": {
      "text/plain": [
       "[fp*(-fn*mk - fn - mk*tn)/(fn*mk + mk*tn - tn)]"
      ]
     },
     "execution_count": 87,
     "metadata": {},
     "output_type": "execute_result"
    }
   ],
   "source": [
    "tps1"
   ]
  },
  {
   "cell_type": "code",
   "execution_count": 102,
   "metadata": {},
   "outputs": [
    {
     "data": {
      "text/plain": [
       "[-fn + p]"
      ]
     },
     "execution_count": 102,
     "metadata": {},
     "output_type": "execute_result"
    }
   ],
   "source": [
    "tps2"
   ]
  },
  {
   "cell_type": "code",
   "execution_count": 88,
   "metadata": {},
   "outputs": [],
   "source": [
    "eq10 = tps0[0] - tps1[0]\n",
    "eq11 = tps0[0] - tps2[0]"
   ]
  },
  {
   "cell_type": "code",
   "execution_count": 89,
   "metadata": {},
   "outputs": [
    {
     "data": {
      "text/latex": [
       "$\\displaystyle \\frac{fm \\left(fm p - \\sqrt{p \\left(fm^{2} p + 4 fp\\right)}\\right)}{2} - \\frac{fp \\left(- fn mk - fn - mk tn\\right)}{fn mk + mk tn - tn}$"
      ],
      "text/plain": [
       "fm*(fm*p - sqrt(p*(fm**2*p + 4*fp)))/2 - fp*(-fn*mk - fn - mk*tn)/(fn*mk + mk*tn - tn)"
      ]
     },
     "execution_count": 89,
     "metadata": {},
     "output_type": "execute_result"
    }
   ],
   "source": [
    "eq10"
   ]
  },
  {
   "cell_type": "code",
   "execution_count": 90,
   "metadata": {},
   "outputs": [
    {
     "data": {
      "text/latex": [
       "$\\displaystyle \\frac{fm \\left(fm p - \\sqrt{p \\left(fm^{2} p + 4 fp\\right)}\\right)}{2} + fn - p$"
      ],
      "text/plain": [
       "fm*(fm*p - sqrt(p*(fm**2*p + 4*fp)))/2 + fn - p"
      ]
     },
     "execution_count": 90,
     "metadata": {},
     "output_type": "execute_result"
    }
   ],
   "source": [
    "eq11"
   ]
  },
  {
   "cell_type": "code",
   "execution_count": 91,
   "metadata": {},
   "outputs": [
    {
     "data": {
      "text/latex": [
       "$\\displaystyle - fp + n - tn$"
      ],
      "text/plain": [
       "-fp + n - tn"
      ]
     },
     "execution_count": 91,
     "metadata": {},
     "output_type": "execute_result"
    }
   ],
   "source": [
    "eq3"
   ]
  },
  {
   "cell_type": "code",
   "execution_count": 93,
   "metadata": {},
   "outputs": [
    {
     "data": {
      "text/latex": [
       "$\\displaystyle - fn + p - tp$"
      ],
      "text/plain": [
       "-fn + p - tp"
      ]
     },
     "execution_count": 93,
     "metadata": {},
     "output_type": "execute_result"
    }
   ],
   "source": [
    "eq2"
   ]
  },
  {
   "cell_type": "code",
   "execution_count": 94,
   "metadata": {},
   "outputs": [],
   "source": [
    "fns0 = sympy.solve(eq10, fn)"
   ]
  },
  {
   "cell_type": "code",
   "execution_count": 96,
   "metadata": {},
   "outputs": [
    {
     "data": {
      "text/latex": [
       "$\\displaystyle \\frac{tn \\left(- fm^{2} mk p + fm^{2} p + fm mk \\sqrt{p \\left(fm^{2} p + 4 fp\\right)} - fm \\sqrt{p \\left(fm^{2} p + 4 fp\\right)} - 2 fp mk\\right)}{fm^{2} mk p - fm mk \\sqrt{p \\left(fm^{2} p + 4 fp\\right)} + 2 fp mk + 2 fp}$"
      ],
      "text/plain": [
       "tn*(-fm**2*mk*p + fm**2*p + fm*mk*sqrt(p*(fm**2*p + 4*fp)) - fm*sqrt(p*(fm**2*p + 4*fp)) - 2*fp*mk)/(fm**2*mk*p - fm*mk*sqrt(p*(fm**2*p + 4*fp)) + 2*fp*mk + 2*fp)"
      ]
     },
     "execution_count": 96,
     "metadata": {},
     "output_type": "execute_result"
    }
   ],
   "source": [
    "fns0[0]"
   ]
  },
  {
   "cell_type": "code",
   "execution_count": 98,
   "metadata": {},
   "outputs": [],
   "source": [
    "fns1 = sympy.solve(eq2, fn)"
   ]
  },
  {
   "cell_type": "code",
   "execution_count": 100,
   "metadata": {},
   "outputs": [],
   "source": [
    "eq_fp = fns1[0] - fns0[0]"
   ]
  },
  {
   "cell_type": "code",
   "execution_count": 101,
   "metadata": {},
   "outputs": [
    {
     "data": {
      "text/latex": [
       "$\\displaystyle p - \\frac{tn \\left(- fm^{2} mk p + fm^{2} p + fm mk \\sqrt{p \\left(fm^{2} p + 4 fp\\right)} - fm \\sqrt{p \\left(fm^{2} p + 4 fp\\right)} - 2 fp mk\\right)}{fm^{2} mk p - fm mk \\sqrt{p \\left(fm^{2} p + 4 fp\\right)} + 2 fp mk + 2 fp} - tp$"
      ],
      "text/plain": [
       "p - tn*(-fm**2*mk*p + fm**2*p + fm*mk*sqrt(p*(fm**2*p + 4*fp)) - fm*sqrt(p*(fm**2*p + 4*fp)) - 2*fp*mk)/(fm**2*mk*p - fm*mk*sqrt(p*(fm**2*p + 4*fp)) + 2*fp*mk + 2*fp) - tp"
      ]
     },
     "execution_count": 101,
     "metadata": {},
     "output_type": "execute_result"
    }
   ],
   "source": [
    "eq_fp"
   ]
  },
  {
   "cell_type": "code",
   "execution_count": null,
   "metadata": {},
   "outputs": [],
   "source": []
  },
  {
   "cell_type": "code",
   "execution_count": null,
   "metadata": {},
   "outputs": [],
   "source": []
  },
  {
   "cell_type": "code",
   "execution_count": null,
   "metadata": {},
   "outputs": [],
   "source": []
  },
  {
   "cell_type": "code",
   "execution_count": null,
   "metadata": {},
   "outputs": [],
   "source": []
  },
  {
   "cell_type": "code",
   "execution_count": 44,
   "metadata": {},
   "outputs": [],
   "source": [
    "fps0 = sympy.solve(eq10, fp)"
   ]
  },
  {
   "cell_type": "code",
   "execution_count": 45,
   "metadata": {},
   "outputs": [],
   "source": [
    "fps1 = sympy.solve(eq11, fp)"
   ]
  },
  {
   "cell_type": "code",
   "execution_count": 46,
   "metadata": {},
   "outputs": [],
   "source": [
    "fps2 = sympy.solve(eq3, fp)"
   ]
  },
  {
   "cell_type": "code",
   "execution_count": 47,
   "metadata": {},
   "outputs": [
    {
     "data": {
      "text/plain": [
       "[0,\n",
       " fm**2*p*(-fn**2*mk - 2*fn*mk*tn + fn*tn - mk*tn**2 + tn**2)/(fn**2*mk**2 + 2*fn**2*mk + fn**2 + 2*fn*mk**2*tn + 2*fn*mk*tn + mk**2*tn**2)]"
      ]
     },
     "execution_count": 47,
     "metadata": {},
     "output_type": "execute_result"
    }
   ],
   "source": [
    "fps0"
   ]
  },
  {
   "cell_type": "code",
   "execution_count": 48,
   "metadata": {},
   "outputs": [
    {
     "data": {
      "text/plain": [
       "[(-fm**4*p**2 + (fm**2*p + 2*fn - 2*p)**2)/(4*fm**2*p)]"
      ]
     },
     "execution_count": 48,
     "metadata": {},
     "output_type": "execute_result"
    }
   ],
   "source": [
    "fps1"
   ]
  },
  {
   "cell_type": "code",
   "execution_count": 49,
   "metadata": {},
   "outputs": [
    {
     "data": {
      "text/plain": [
       "[n - tn]"
      ]
     },
     "execution_count": 49,
     "metadata": {},
     "output_type": "execute_result"
    }
   ],
   "source": [
    "fps2"
   ]
  },
  {
   "cell_type": "code",
   "execution_count": 50,
   "metadata": {},
   "outputs": [],
   "source": [
    "eq20 = fps0[1] - fps1[0]\n",
    "eq21 = fps0[1] - fps2[0]"
   ]
  },
  {
   "cell_type": "code",
   "execution_count": 51,
   "metadata": {},
   "outputs": [
    {
     "data": {
      "text/latex": [
       "$\\displaystyle \\frac{fm^{2} p \\left(- fn^{2} mk - 2 fn mk tn + fn tn - mk tn^{2} + tn^{2}\\right)}{fn^{2} mk^{2} + 2 fn^{2} mk + fn^{2} + 2 fn mk^{2} tn + 2 fn mk tn + mk^{2} tn^{2}} - \\frac{- fm^{4} p^{2} + \\left(fm^{2} p + 2 fn - 2 p\\right)^{2}}{4 fm^{2} p}$"
      ],
      "text/plain": [
       "fm**2*p*(-fn**2*mk - 2*fn*mk*tn + fn*tn - mk*tn**2 + tn**2)/(fn**2*mk**2 + 2*fn**2*mk + fn**2 + 2*fn*mk**2*tn + 2*fn*mk*tn + mk**2*tn**2) - (-fm**4*p**2 + (fm**2*p + 2*fn - 2*p)**2)/(4*fm**2*p)"
      ]
     },
     "execution_count": 51,
     "metadata": {},
     "output_type": "execute_result"
    }
   ],
   "source": [
    "eq20"
   ]
  },
  {
   "cell_type": "code",
   "execution_count": 52,
   "metadata": {},
   "outputs": [
    {
     "data": {
      "text/latex": [
       "$\\displaystyle \\frac{fm^{2} p \\left(- fn^{2} mk - 2 fn mk tn + fn tn - mk tn^{2} + tn^{2}\\right)}{fn^{2} mk^{2} + 2 fn^{2} mk + fn^{2} + 2 fn mk^{2} tn + 2 fn mk tn + mk^{2} tn^{2}} - n + tn$"
      ],
      "text/plain": [
       "fm**2*p*(-fn**2*mk - 2*fn*mk*tn + fn*tn - mk*tn**2 + tn**2)/(fn**2*mk**2 + 2*fn**2*mk + fn**2 + 2*fn*mk**2*tn + 2*fn*mk*tn + mk**2*tn**2) - n + tn"
      ]
     },
     "execution_count": 52,
     "metadata": {},
     "output_type": "execute_result"
    }
   ],
   "source": [
    "eq21"
   ]
  },
  {
   "cell_type": "code",
   "execution_count": 55,
   "metadata": {},
   "outputs": [],
   "source": [
    "fns0 = sympy.solve(eq20, fn)"
   ]
  },
  {
   "cell_type": "code",
   "execution_count": 56,
   "metadata": {},
   "outputs": [],
   "source": [
    "fns1 = sympy.solve(eq21, fn)"
   ]
  },
  {
   "cell_type": "code",
   "execution_count": 57,
   "metadata": {},
   "outputs": [
    {
     "data": {
      "text/plain": [
       "[(-fm**2*p + mk*p - mk*tn + p - sqrt(fm**4*p**2 - 2*fm**2*mk*p**2 - 2*fm**2*mk*p*tn - 2*fm**2*p**2 - 4*fm**2*p*tn + mk**2*p**2 + 2*mk**2*p*tn + mk**2*tn**2 + 2*mk*p**2 + 2*mk*p*tn + p**2))/(2*mk + 2),\n",
       " (-fm**2*p + mk*p - mk*tn + p + sqrt(fm**4*p**2 - 2*fm**2*mk*p**2 - 2*fm**2*mk*p*tn - 2*fm**2*p**2 - 4*fm**2*p*tn + mk**2*p**2 + 2*mk**2*p*tn + mk**2*tn**2 + 2*mk*p**2 + 2*mk*p*tn + p**2))/(2*mk + 2),\n",
       " (-fm**2*mk*p + mk*p - mk*tn + p - sqrt(fm**4*mk**2*p**2 - 2*fm**2*mk**2*p**2 - 2*fm**2*mk**2*p*tn - 2*fm**2*mk*p**2 + 4*fm**2*p*tn + mk**2*p**2 + 2*mk**2*p*tn + mk**2*tn**2 + 2*mk*p**2 + 2*mk*p*tn + p**2))/(2*mk + 2),\n",
       " (-fm**2*mk*p + mk*p - mk*tn + p + sqrt(fm**4*mk**2*p**2 - 2*fm**2*mk**2*p**2 - 2*fm**2*mk**2*p*tn - 2*fm**2*mk*p**2 + 4*fm**2*p*tn + mk**2*p**2 + 2*mk**2*p*tn + mk**2*tn**2 + 2*mk*p**2 + 2*mk*p*tn + p**2))/(2*mk + 2)]"
      ]
     },
     "execution_count": 57,
     "metadata": {},
     "output_type": "execute_result"
    }
   ],
   "source": [
    "fns0"
   ]
  },
  {
   "cell_type": "code",
   "execution_count": 58,
   "metadata": {},
   "outputs": [
    {
     "data": {
      "text/plain": [
       "[tn*(-2*fm**2*mk*p + fm**2*p - fm*sqrt(p*(fm**2*p + 4*n - 4*tn)) - 2*mk**2*n + 2*mk**2*tn - 2*mk*n + 2*mk*tn)/(2*(fm**2*mk*p + mk**2*n - mk**2*tn + 2*mk*n - 2*mk*tn + n - tn)),\n",
       " tn*(-2*fm**2*mk*p + fm**2*p + fm*sqrt(p*(fm**2*p + 4*n - 4*tn)) - 2*mk**2*n + 2*mk**2*tn - 2*mk*n + 2*mk*tn)/(2*(fm**2*mk*p + mk**2*n - mk**2*tn + 2*mk*n - 2*mk*tn + n - tn))]"
      ]
     },
     "execution_count": 58,
     "metadata": {},
     "output_type": "execute_result"
    }
   ],
   "source": [
    "fns1"
   ]
  },
  {
   "cell_type": "code",
   "execution_count": 60,
   "metadata": {},
   "outputs": [],
   "source": [
    "eq30 = fns0[0] - fns1[0]"
   ]
  },
  {
   "cell_type": "code",
   "execution_count": 61,
   "metadata": {},
   "outputs": [
    {
     "data": {
      "text/latex": [
       "$\\displaystyle \\frac{tn \\left(mk + 1\\right) \\left(2 fm^{2} mk p - fm^{2} p + fm \\sqrt{p \\left(fm^{2} p + 4 n - 4 tn\\right)} + 2 mk^{2} n - 2 mk^{2} tn + 2 mk n - 2 mk tn\\right) + \\left(- fm^{2} p + mk p - mk tn + p - \\sqrt{fm^{4} p^{2} - 2 fm^{2} mk p^{2} - 2 fm^{2} mk p tn - 2 fm^{2} p^{2} - 4 fm^{2} p tn + mk^{2} p^{2} + 2 mk^{2} p tn + mk^{2} tn^{2} + 2 mk p^{2} + 2 mk p tn + p^{2}}\\right) \\left(fm^{2} mk p + mk^{2} n - mk^{2} tn + 2 mk n - 2 mk tn + n - tn\\right)}{2 \\left(mk + 1\\right) \\left(fm^{2} mk p + mk^{2} n - mk^{2} tn + 2 mk n - 2 mk tn + n - tn\\right)}$"
      ],
      "text/plain": [
       "(tn*(mk + 1)*(2*fm**2*mk*p - fm**2*p + fm*sqrt(p*(fm**2*p + 4*n - 4*tn)) + 2*mk**2*n - 2*mk**2*tn + 2*mk*n - 2*mk*tn) + (-fm**2*p + mk*p - mk*tn + p - sqrt(fm**4*p**2 - 2*fm**2*mk*p**2 - 2*fm**2*mk*p*tn - 2*fm**2*p**2 - 4*fm**2*p*tn + mk**2*p**2 + 2*mk**2*p*tn + mk**2*tn**2 + 2*mk*p**2 + 2*mk*p*tn + p**2))*(fm**2*mk*p + mk**2*n - mk**2*tn + 2*mk*n - 2*mk*tn + n - tn))/(2*(mk + 1)*(fm**2*mk*p + mk**2*n - mk**2*tn + 2*mk*n - 2*mk*tn + n - tn))"
      ]
     },
     "execution_count": 61,
     "metadata": {},
     "output_type": "execute_result"
    }
   ],
   "source": [
    "sympy.simplify(eq30)"
   ]
  },
  {
   "cell_type": "code",
   "execution_count": 62,
   "metadata": {},
   "outputs": [
    {
     "data": {
      "text/latex": [
       "$\\displaystyle - \\frac{fm^{4} mk p^{2} + fm^{2} mk^{2} n p - fm^{2} mk^{2} p^{2} - 2 fm^{2} mk^{2} p tn + 2 fm^{2} mk n p - fm^{2} mk p^{2} - 3 fm^{2} mk p tn + fm^{2} mk p \\sqrt{fm^{4} p^{2} - 2 fm^{2} mk p^{2} - 2 fm^{2} mk p tn - 2 fm^{2} p^{2} - 4 fm^{2} p tn + mk^{2} p^{2} + 2 mk^{2} p tn + mk^{2} tn^{2} + 2 mk p^{2} + 2 mk p tn + p^{2}} + fm^{2} n p - fm mk tn \\sqrt{fm^{2} p^{2} + 4 n p - 4 p tn} - fm tn \\sqrt{fm^{2} p^{2} + 4 n p - 4 p tn} - mk^{3} n p - mk^{3} n tn + mk^{3} p tn + mk^{3} tn^{2} - 3 mk^{2} n p - 2 mk^{2} n tn + mk^{2} n \\sqrt{fm^{4} p^{2} - 2 fm^{2} mk p^{2} - 2 fm^{2} mk p tn - 2 fm^{2} p^{2} - 4 fm^{2} p tn + mk^{2} p^{2} + 2 mk^{2} p tn + mk^{2} tn^{2} + 2 mk p^{2} + 2 mk p tn + p^{2}} + 3 mk^{2} p tn + 2 mk^{2} tn^{2} - mk^{2} tn \\sqrt{fm^{4} p^{2} - 2 fm^{2} mk p^{2} - 2 fm^{2} mk p tn - 2 fm^{2} p^{2} - 4 fm^{2} p tn + mk^{2} p^{2} + 2 mk^{2} p tn + mk^{2} tn^{2} + 2 mk p^{2} + 2 mk p tn + p^{2}} - 3 mk n p - mk n tn + 2 mk n \\sqrt{fm^{4} p^{2} - 2 fm^{2} mk p^{2} - 2 fm^{2} mk p tn - 2 fm^{2} p^{2} - 4 fm^{2} p tn + mk^{2} p^{2} + 2 mk^{2} p tn + mk^{2} tn^{2} + 2 mk p^{2} + 2 mk p tn + p^{2}} + 3 mk p tn + mk tn^{2} - 2 mk tn \\sqrt{fm^{4} p^{2} - 2 fm^{2} mk p^{2} - 2 fm^{2} mk p tn - 2 fm^{2} p^{2} - 4 fm^{2} p tn + mk^{2} p^{2} + 2 mk^{2} p tn + mk^{2} tn^{2} + 2 mk p^{2} + 2 mk p tn + p^{2}} - n p + n \\sqrt{fm^{4} p^{2} - 2 fm^{2} mk p^{2} - 2 fm^{2} mk p tn - 2 fm^{2} p^{2} - 4 fm^{2} p tn + mk^{2} p^{2} + 2 mk^{2} p tn + mk^{2} tn^{2} + 2 mk p^{2} + 2 mk p tn + p^{2}} + p tn - tn \\sqrt{fm^{4} p^{2} - 2 fm^{2} mk p^{2} - 2 fm^{2} mk p tn - 2 fm^{2} p^{2} - 4 fm^{2} p tn + mk^{2} p^{2} + 2 mk^{2} p tn + mk^{2} tn^{2} + 2 mk p^{2} + 2 mk p tn + p^{2}}}{2 \\left(mk + 1\\right) \\left(fm^{2} mk p + mk^{2} n - mk^{2} tn + 2 mk n - 2 mk tn + n - tn\\right)}$"
      ],
      "text/plain": [
       "-(fm**4*mk*p**2 + fm**2*mk**2*n*p - fm**2*mk**2*p**2 - 2*fm**2*mk**2*p*tn + 2*fm**2*mk*n*p - fm**2*mk*p**2 - 3*fm**2*mk*p*tn + fm**2*mk*p*sqrt(fm**4*p**2 - 2*fm**2*mk*p**2 - 2*fm**2*mk*p*tn - 2*fm**2*p**2 - 4*fm**2*p*tn + mk**2*p**2 + 2*mk**2*p*tn + mk**2*tn**2 + 2*mk*p**2 + 2*mk*p*tn + p**2) + fm**2*n*p - fm*mk*tn*sqrt(fm**2*p**2 + 4*n*p - 4*p*tn) - fm*tn*sqrt(fm**2*p**2 + 4*n*p - 4*p*tn) - mk**3*n*p - mk**3*n*tn + mk**3*p*tn + mk**3*tn**2 - 3*mk**2*n*p - 2*mk**2*n*tn + mk**2*n*sqrt(fm**4*p**2 - 2*fm**2*mk*p**2 - 2*fm**2*mk*p*tn - 2*fm**2*p**2 - 4*fm**2*p*tn + mk**2*p**2 + 2*mk**2*p*tn + mk**2*tn**2 + 2*mk*p**2 + 2*mk*p*tn + p**2) + 3*mk**2*p*tn + 2*mk**2*tn**2 - mk**2*tn*sqrt(fm**4*p**2 - 2*fm**2*mk*p**2 - 2*fm**2*mk*p*tn - 2*fm**2*p**2 - 4*fm**2*p*tn + mk**2*p**2 + 2*mk**2*p*tn + mk**2*tn**2 + 2*mk*p**2 + 2*mk*p*tn + p**2) - 3*mk*n*p - mk*n*tn + 2*mk*n*sqrt(fm**4*p**2 - 2*fm**2*mk*p**2 - 2*fm**2*mk*p*tn - 2*fm**2*p**2 - 4*fm**2*p*tn + mk**2*p**2 + 2*mk**2*p*tn + mk**2*tn**2 + 2*mk*p**2 + 2*mk*p*tn + p**2) + 3*mk*p*tn + mk*tn**2 - 2*mk*tn*sqrt(fm**4*p**2 - 2*fm**2*mk*p**2 - 2*fm**2*mk*p*tn - 2*fm**2*p**2 - 4*fm**2*p*tn + mk**2*p**2 + 2*mk**2*p*tn + mk**2*tn**2 + 2*mk*p**2 + 2*mk*p*tn + p**2) - n*p + n*sqrt(fm**4*p**2 - 2*fm**2*mk*p**2 - 2*fm**2*mk*p*tn - 2*fm**2*p**2 - 4*fm**2*p*tn + mk**2*p**2 + 2*mk**2*p*tn + mk**2*tn**2 + 2*mk*p**2 + 2*mk*p*tn + p**2) + p*tn - tn*sqrt(fm**4*p**2 - 2*fm**2*mk*p**2 - 2*fm**2*mk*p*tn - 2*fm**2*p**2 - 4*fm**2*p*tn + mk**2*p**2 + 2*mk**2*p*tn + mk**2*tn**2 + 2*mk*p**2 + 2*mk*p*tn + p**2))/(2*(mk + 1)*(fm**2*mk*p + mk**2*n - mk**2*tn + 2*mk*n - 2*mk*tn + n - tn))"
      ]
     },
     "execution_count": 62,
     "metadata": {},
     "output_type": "execute_result"
    }
   ],
   "source": [
    "sympy.factor(eq30)"
   ]
  },
  {
   "cell_type": "code",
   "execution_count": 66,
   "metadata": {},
   "outputs": [],
   "source": [
    "eq30num, eq30den = sympy.fraction(sympy.factor(eq30))"
   ]
  },
  {
   "cell_type": "code",
   "execution_count": 67,
   "metadata": {},
   "outputs": [
    {
     "data": {
      "text/latex": [
       "$\\displaystyle - fm^{4} mk p^{2} - fm^{2} mk^{2} n p + fm^{2} mk^{2} p^{2} + 2 fm^{2} mk^{2} p tn - 2 fm^{2} mk n p + fm^{2} mk p^{2} + 3 fm^{2} mk p tn - fm^{2} mk p \\sqrt{fm^{4} p^{2} - 2 fm^{2} mk p^{2} - 2 fm^{2} mk p tn - 2 fm^{2} p^{2} - 4 fm^{2} p tn + mk^{2} p^{2} + 2 mk^{2} p tn + mk^{2} tn^{2} + 2 mk p^{2} + 2 mk p tn + p^{2}} - fm^{2} n p + fm mk tn \\sqrt{fm^{2} p^{2} + 4 n p - 4 p tn} + fm tn \\sqrt{fm^{2} p^{2} + 4 n p - 4 p tn} + mk^{3} n p + mk^{3} n tn - mk^{3} p tn - mk^{3} tn^{2} + 3 mk^{2} n p + 2 mk^{2} n tn - mk^{2} n \\sqrt{fm^{4} p^{2} - 2 fm^{2} mk p^{2} - 2 fm^{2} mk p tn - 2 fm^{2} p^{2} - 4 fm^{2} p tn + mk^{2} p^{2} + 2 mk^{2} p tn + mk^{2} tn^{2} + 2 mk p^{2} + 2 mk p tn + p^{2}} - 3 mk^{2} p tn - 2 mk^{2} tn^{2} + mk^{2} tn \\sqrt{fm^{4} p^{2} - 2 fm^{2} mk p^{2} - 2 fm^{2} mk p tn - 2 fm^{2} p^{2} - 4 fm^{2} p tn + mk^{2} p^{2} + 2 mk^{2} p tn + mk^{2} tn^{2} + 2 mk p^{2} + 2 mk p tn + p^{2}} + 3 mk n p + mk n tn - 2 mk n \\sqrt{fm^{4} p^{2} - 2 fm^{2} mk p^{2} - 2 fm^{2} mk p tn - 2 fm^{2} p^{2} - 4 fm^{2} p tn + mk^{2} p^{2} + 2 mk^{2} p tn + mk^{2} tn^{2} + 2 mk p^{2} + 2 mk p tn + p^{2}} - 3 mk p tn - mk tn^{2} + 2 mk tn \\sqrt{fm^{4} p^{2} - 2 fm^{2} mk p^{2} - 2 fm^{2} mk p tn - 2 fm^{2} p^{2} - 4 fm^{2} p tn + mk^{2} p^{2} + 2 mk^{2} p tn + mk^{2} tn^{2} + 2 mk p^{2} + 2 mk p tn + p^{2}} + n p - n \\sqrt{fm^{4} p^{2} - 2 fm^{2} mk p^{2} - 2 fm^{2} mk p tn - 2 fm^{2} p^{2} - 4 fm^{2} p tn + mk^{2} p^{2} + 2 mk^{2} p tn + mk^{2} tn^{2} + 2 mk p^{2} + 2 mk p tn + p^{2}} - p tn + tn \\sqrt{fm^{4} p^{2} - 2 fm^{2} mk p^{2} - 2 fm^{2} mk p tn - 2 fm^{2} p^{2} - 4 fm^{2} p tn + mk^{2} p^{2} + 2 mk^{2} p tn + mk^{2} tn^{2} + 2 mk p^{2} + 2 mk p tn + p^{2}}$"
      ],
      "text/plain": [
       "-fm**4*mk*p**2 - fm**2*mk**2*n*p + fm**2*mk**2*p**2 + 2*fm**2*mk**2*p*tn - 2*fm**2*mk*n*p + fm**2*mk*p**2 + 3*fm**2*mk*p*tn - fm**2*mk*p*sqrt(fm**4*p**2 - 2*fm**2*mk*p**2 - 2*fm**2*mk*p*tn - 2*fm**2*p**2 - 4*fm**2*p*tn + mk**2*p**2 + 2*mk**2*p*tn + mk**2*tn**2 + 2*mk*p**2 + 2*mk*p*tn + p**2) - fm**2*n*p + fm*mk*tn*sqrt(fm**2*p**2 + 4*n*p - 4*p*tn) + fm*tn*sqrt(fm**2*p**2 + 4*n*p - 4*p*tn) + mk**3*n*p + mk**3*n*tn - mk**3*p*tn - mk**3*tn**2 + 3*mk**2*n*p + 2*mk**2*n*tn - mk**2*n*sqrt(fm**4*p**2 - 2*fm**2*mk*p**2 - 2*fm**2*mk*p*tn - 2*fm**2*p**2 - 4*fm**2*p*tn + mk**2*p**2 + 2*mk**2*p*tn + mk**2*tn**2 + 2*mk*p**2 + 2*mk*p*tn + p**2) - 3*mk**2*p*tn - 2*mk**2*tn**2 + mk**2*tn*sqrt(fm**4*p**2 - 2*fm**2*mk*p**2 - 2*fm**2*mk*p*tn - 2*fm**2*p**2 - 4*fm**2*p*tn + mk**2*p**2 + 2*mk**2*p*tn + mk**2*tn**2 + 2*mk*p**2 + 2*mk*p*tn + p**2) + 3*mk*n*p + mk*n*tn - 2*mk*n*sqrt(fm**4*p**2 - 2*fm**2*mk*p**2 - 2*fm**2*mk*p*tn - 2*fm**2*p**2 - 4*fm**2*p*tn + mk**2*p**2 + 2*mk**2*p*tn + mk**2*tn**2 + 2*mk*p**2 + 2*mk*p*tn + p**2) - 3*mk*p*tn - mk*tn**2 + 2*mk*tn*sqrt(fm**4*p**2 - 2*fm**2*mk*p**2 - 2*fm**2*mk*p*tn - 2*fm**2*p**2 - 4*fm**2*p*tn + mk**2*p**2 + 2*mk**2*p*tn + mk**2*tn**2 + 2*mk*p**2 + 2*mk*p*tn + p**2) + n*p - n*sqrt(fm**4*p**2 - 2*fm**2*mk*p**2 - 2*fm**2*mk*p*tn - 2*fm**2*p**2 - 4*fm**2*p*tn + mk**2*p**2 + 2*mk**2*p*tn + mk**2*tn**2 + 2*mk*p**2 + 2*mk*p*tn + p**2) - p*tn + tn*sqrt(fm**4*p**2 - 2*fm**2*mk*p**2 - 2*fm**2*mk*p*tn - 2*fm**2*p**2 - 4*fm**2*p*tn + mk**2*p**2 + 2*mk**2*p*tn + mk**2*tn**2 + 2*mk*p**2 + 2*mk*p*tn + p**2)"
      ]
     },
     "execution_count": 67,
     "metadata": {},
     "output_type": "execute_result"
    }
   ],
   "source": [
    "eq30num"
   ]
  },
  {
   "cell_type": "code",
   "execution_count": 68,
   "metadata": {},
   "outputs": [
    {
     "ename": "KeyboardInterrupt",
     "evalue": "",
     "output_type": "error",
     "traceback": [
      "\u001b[0;31m---------------------------------------------------------------------------\u001b[0m",
      "\u001b[0;31mKeyboardInterrupt\u001b[0m                         Traceback (most recent call last)",
      "Cell \u001b[0;32mIn[68], line 1\u001b[0m\n\u001b[0;32m----> 1\u001b[0m sympy\u001b[39m.\u001b[39;49msolve(sympy\u001b[39m.\u001b[39;49mfactor(eq30num), tn)\n",
      "File \u001b[0;32m~/anaconda3/envs/mlscorecheck/lib/python3.10/site-packages/sympy/solvers/solvers.py:1112\u001b[0m, in \u001b[0;36msolve\u001b[0;34m(f, *symbols, **flags)\u001b[0m\n\u001b[1;32m   1108\u001b[0m \u001b[39m#\u001b[39;00m\n\u001b[1;32m   1109\u001b[0m \u001b[39m# try to get a solution\u001b[39;00m\n\u001b[1;32m   1110\u001b[0m \u001b[39m###########################################################################\u001b[39;00m\n\u001b[1;32m   1111\u001b[0m \u001b[39mif\u001b[39;00m bare_f:\n\u001b[0;32m-> 1112\u001b[0m     solution \u001b[39m=\u001b[39m _solve(f[\u001b[39m0\u001b[39;49m], \u001b[39m*\u001b[39;49msymbols, \u001b[39m*\u001b[39;49m\u001b[39m*\u001b[39;49mflags)\n\u001b[1;32m   1113\u001b[0m \u001b[39melse\u001b[39;00m:\n\u001b[1;32m   1114\u001b[0m     solution \u001b[39m=\u001b[39m _solve_system(f, symbols, \u001b[39m*\u001b[39m\u001b[39m*\u001b[39mflags)\n",
      "File \u001b[0;32m~/anaconda3/envs/mlscorecheck/lib/python3.10/site-packages/sympy/solvers/solvers.py:1761\u001b[0m, in \u001b[0;36m_solve\u001b[0;34m(f, *symbols, **flags)\u001b[0m\n\u001b[1;32m   1756\u001b[0m     result \u001b[39m=\u001b[39m [s \u001b[39mfor\u001b[39;00m s \u001b[39min\u001b[39;00m result \u001b[39mif\u001b[39;00m\n\u001b[1;32m   1757\u001b[0m               \u001b[39mnot\u001b[39;00m \u001b[39many\u001b[39m(checksol(d, {symbol: s}, \u001b[39m*\u001b[39m\u001b[39m*\u001b[39mflags)\n\u001b[1;32m   1758\u001b[0m                       \u001b[39mfor\u001b[39;00m d \u001b[39min\u001b[39;00m dens)]\n\u001b[1;32m   1759\u001b[0m \u001b[39mif\u001b[39;00m check:\n\u001b[1;32m   1760\u001b[0m     \u001b[39m# keep only results if the check is not False\u001b[39;00m\n\u001b[0;32m-> 1761\u001b[0m     result \u001b[39m=\u001b[39m [r \u001b[39mfor\u001b[39;00m r \u001b[39min\u001b[39;00m result \u001b[39mif\u001b[39;00m\n\u001b[1;32m   1762\u001b[0m               checksol(f_num, {symbol: r}, \u001b[39m*\u001b[39m\u001b[39m*\u001b[39mflags) \u001b[39mis\u001b[39;00m \u001b[39mnot\u001b[39;00m \u001b[39mFalse\u001b[39;00m]\n\u001b[1;32m   1763\u001b[0m \u001b[39mreturn\u001b[39;00m result\n",
      "File \u001b[0;32m~/anaconda3/envs/mlscorecheck/lib/python3.10/site-packages/sympy/solvers/solvers.py:1762\u001b[0m, in \u001b[0;36m<listcomp>\u001b[0;34m(.0)\u001b[0m\n\u001b[1;32m   1756\u001b[0m     result \u001b[39m=\u001b[39m [s \u001b[39mfor\u001b[39;00m s \u001b[39min\u001b[39;00m result \u001b[39mif\u001b[39;00m\n\u001b[1;32m   1757\u001b[0m               \u001b[39mnot\u001b[39;00m \u001b[39many\u001b[39m(checksol(d, {symbol: s}, \u001b[39m*\u001b[39m\u001b[39m*\u001b[39mflags)\n\u001b[1;32m   1758\u001b[0m                       \u001b[39mfor\u001b[39;00m d \u001b[39min\u001b[39;00m dens)]\n\u001b[1;32m   1759\u001b[0m \u001b[39mif\u001b[39;00m check:\n\u001b[1;32m   1760\u001b[0m     \u001b[39m# keep only results if the check is not False\u001b[39;00m\n\u001b[1;32m   1761\u001b[0m     result \u001b[39m=\u001b[39m [r \u001b[39mfor\u001b[39;00m r \u001b[39min\u001b[39;00m result \u001b[39mif\u001b[39;00m\n\u001b[0;32m-> 1762\u001b[0m               checksol(f_num, {symbol: r}, \u001b[39m*\u001b[39;49m\u001b[39m*\u001b[39;49mflags) \u001b[39mis\u001b[39;00m \u001b[39mnot\u001b[39;00m \u001b[39mFalse\u001b[39;00m]\n\u001b[1;32m   1763\u001b[0m \u001b[39mreturn\u001b[39;00m result\n",
      "File \u001b[0;32m~/anaconda3/envs/mlscorecheck/lib/python3.10/site-packages/sympy/solvers/solvers.py:310\u001b[0m, in \u001b[0;36mchecksol\u001b[0;34m(f, symbol, sol, **flags)\u001b[0m\n\u001b[1;32m    307\u001b[0m         sol[k] \u001b[39m=\u001b[39m simplify(sol[k])\n\u001b[1;32m    308\u001b[0m \u001b[39m# start over without the failed expanded form, possibly\u001b[39;00m\n\u001b[1;32m    309\u001b[0m \u001b[39m# with a simplified solution\u001b[39;00m\n\u001b[0;32m--> 310\u001b[0m val \u001b[39m=\u001b[39m simplify(f\u001b[39m.\u001b[39;49msubs(sol))\n\u001b[1;32m    311\u001b[0m \u001b[39mif\u001b[39;00m flags\u001b[39m.\u001b[39mget(\u001b[39m'\u001b[39m\u001b[39mforce\u001b[39m\u001b[39m'\u001b[39m, \u001b[39mTrue\u001b[39;00m):\n\u001b[1;32m    312\u001b[0m     val, reps \u001b[39m=\u001b[39m posify(val)\n",
      "File \u001b[0;32m~/anaconda3/envs/mlscorecheck/lib/python3.10/site-packages/sympy/simplify/simplify.py:644\u001b[0m, in \u001b[0;36msimplify\u001b[0;34m(expr, ratio, measure, rational, inverse, doit, **kwargs)\u001b[0m\n\u001b[1;32m    642\u001b[0m expr \u001b[39m=\u001b[39m _bottom_up(expr, \u001b[39mlambda\u001b[39;00m w: \u001b[39mgetattr\u001b[39m(w, \u001b[39m'\u001b[39m\u001b[39mnormal\u001b[39m\u001b[39m'\u001b[39m, \u001b[39mlambda\u001b[39;00m: w)())\n\u001b[1;32m    643\u001b[0m expr \u001b[39m=\u001b[39m Mul(\u001b[39m*\u001b[39mpowsimp(expr)\u001b[39m.\u001b[39mas_content_primitive())\n\u001b[0;32m--> 644\u001b[0m _e \u001b[39m=\u001b[39m cancel(expr)\n\u001b[1;32m    645\u001b[0m expr1 \u001b[39m=\u001b[39m shorter(_e, _mexpand(_e)\u001b[39m.\u001b[39mcancel())  \u001b[39m# issue 6829\u001b[39;00m\n\u001b[1;32m    646\u001b[0m expr2 \u001b[39m=\u001b[39m shorter(together(expr, deep\u001b[39m=\u001b[39m\u001b[39mTrue\u001b[39;00m), together(expr1, deep\u001b[39m=\u001b[39m\u001b[39mTrue\u001b[39;00m))\n",
      "File \u001b[0;32m~/anaconda3/envs/mlscorecheck/lib/python3.10/site-packages/sympy/polys/polytools.py:6766\u001b[0m, in \u001b[0;36mcancel\u001b[0;34m(f, _signsimp, *gens, **args)\u001b[0m\n\u001b[1;32m   6764\u001b[0m \u001b[39mif\u001b[39;00m f\u001b[39m.\u001b[39mhas(Piecewise):\n\u001b[1;32m   6765\u001b[0m     \u001b[39mraise\u001b[39;00m PolynomialError()\n\u001b[0;32m-> 6766\u001b[0m R, (F, G) \u001b[39m=\u001b[39m sring((p, q), \u001b[39m*\u001b[39;49mgens, \u001b[39m*\u001b[39;49m\u001b[39m*\u001b[39;49margs)\n\u001b[1;32m   6767\u001b[0m \u001b[39mif\u001b[39;00m \u001b[39mnot\u001b[39;00m R\u001b[39m.\u001b[39mngens:\n\u001b[1;32m   6768\u001b[0m     \u001b[39mif\u001b[39;00m \u001b[39mnot\u001b[39;00m \u001b[39misinstance\u001b[39m(f, (\u001b[39mtuple\u001b[39m, Tuple)):\n",
      "File \u001b[0;32m~/anaconda3/envs/mlscorecheck/lib/python3.10/site-packages/sympy/polys/rings.py:163\u001b[0m, in \u001b[0;36msring\u001b[0;34m(exprs, *symbols, **options)\u001b[0m\n\u001b[1;32m    160\u001b[0m opt \u001b[39m=\u001b[39m build_options(symbols, options)\n\u001b[1;32m    162\u001b[0m \u001b[39m# TODO: rewrite this so that it doesn't use expand() (see poly()).\u001b[39;00m\n\u001b[0;32m--> 163\u001b[0m reps, opt \u001b[39m=\u001b[39m _parallel_dict_fsom_expr(exprs, opt)\n\u001b[1;32m    165\u001b[0m \u001b[39mif\u001b[39;00m opt\u001b[39m.\u001b[39mdomain \u001b[39mis\u001b[39;00m \u001b[39mNone\u001b[39;00m:\n\u001b[1;32m    166\u001b[0m     coeffs \u001b[39m=\u001b[39m \u001b[39msum\u001b[39m([ \u001b[39mlist\u001b[39m(rep\u001b[39m.\u001b[39mvalues()) \u001b[39mfor\u001b[39;00m rep \u001b[39min\u001b[39;00m reps ], [])\n",
      "File \u001b[0;32m~/anaconda3/envs/mlscorecheck/lib/python3.10/site-packages/sympy/polys/polyutils.py:326\u001b[0m, in \u001b[0;36m_parallel_dict_fsom_expr\u001b[0;34m(exprs, opt)\u001b[0m\n\u001b[1;32m    324\u001b[0m \u001b[39m\"\"\"Transform expressions into a multinomial form. \"\"\"\u001b[39;00m\n\u001b[1;32m    325\u001b[0m \u001b[39mif\u001b[39;00m opt\u001b[39m.\u001b[39mexpand \u001b[39mis\u001b[39;00m \u001b[39mnot\u001b[39;00m \u001b[39mFalse\u001b[39;00m:\n\u001b[0;32m--> 326\u001b[0m     exprs \u001b[39m=\u001b[39m [ expr\u001b[39m.\u001b[39mexpand() \u001b[39mfor\u001b[39;00m expr \u001b[39min\u001b[39;00m exprs ]\n\u001b[1;32m    328\u001b[0m \u001b[39mif\u001b[39;00m \u001b[39many\u001b[39m(expr\u001b[39m.\u001b[39mis_commutative \u001b[39mis\u001b[39;00m \u001b[39mFalse\u001b[39;00m \u001b[39mfor\u001b[39;00m expr \u001b[39min\u001b[39;00m exprs):\n\u001b[1;32m    329\u001b[0m     \u001b[39mraise\u001b[39;00m PolynomialError(\u001b[39m'\u001b[39m\u001b[39mnon-commutative expressions are not supported\u001b[39m\u001b[39m'\u001b[39m)\n",
      "File \u001b[0;32m~/anaconda3/envs/mlscorecheck/lib/python3.10/site-packages/sympy/polys/polyutils.py:326\u001b[0m, in \u001b[0;36m<listcomp>\u001b[0;34m(.0)\u001b[0m\n\u001b[1;32m    324\u001b[0m \u001b[39m\"\"\"Transform expressions into a multinomial form. \"\"\"\u001b[39;00m\n\u001b[1;32m    325\u001b[0m \u001b[39mif\u001b[39;00m opt\u001b[39m.\u001b[39mexpand \u001b[39mis\u001b[39;00m \u001b[39mnot\u001b[39;00m \u001b[39mFalse\u001b[39;00m:\n\u001b[0;32m--> 326\u001b[0m     exprs \u001b[39m=\u001b[39m [ expr\u001b[39m.\u001b[39;49mexpand() \u001b[39mfor\u001b[39;00m expr \u001b[39min\u001b[39;00m exprs ]\n\u001b[1;32m    328\u001b[0m \u001b[39mif\u001b[39;00m \u001b[39many\u001b[39m(expr\u001b[39m.\u001b[39mis_commutative \u001b[39mis\u001b[39;00m \u001b[39mFalse\u001b[39;00m \u001b[39mfor\u001b[39;00m expr \u001b[39min\u001b[39;00m exprs):\n\u001b[1;32m    329\u001b[0m     \u001b[39mraise\u001b[39;00m PolynomialError(\u001b[39m'\u001b[39m\u001b[39mnon-commutative expressions are not supported\u001b[39m\u001b[39m'\u001b[39m)\n",
      "File \u001b[0;32m~/anaconda3/envs/mlscorecheck/lib/python3.10/site-packages/sympy/core/cache.py:70\u001b[0m, in \u001b[0;36m__cacheit.<locals>.func_wrapper.<locals>.wrapper\u001b[0;34m(*args, **kwargs)\u001b[0m\n\u001b[1;32m     67\u001b[0m \u001b[39m@wraps\u001b[39m(func)\n\u001b[1;32m     68\u001b[0m \u001b[39mdef\u001b[39;00m \u001b[39mwrapper\u001b[39m(\u001b[39m*\u001b[39margs, \u001b[39m*\u001b[39m\u001b[39m*\u001b[39mkwargs):\n\u001b[1;32m     69\u001b[0m     \u001b[39mtry\u001b[39;00m:\n\u001b[0;32m---> 70\u001b[0m         retval \u001b[39m=\u001b[39m cfunc(\u001b[39m*\u001b[39;49margs, \u001b[39m*\u001b[39;49m\u001b[39m*\u001b[39;49mkwargs)\n\u001b[1;32m     71\u001b[0m     \u001b[39mexcept\u001b[39;00m \u001b[39mTypeError\u001b[39;00m \u001b[39mas\u001b[39;00m e:\n\u001b[1;32m     72\u001b[0m         \u001b[39mif\u001b[39;00m \u001b[39mnot\u001b[39;00m e\u001b[39m.\u001b[39margs \u001b[39mor\u001b[39;00m \u001b[39mnot\u001b[39;00m e\u001b[39m.\u001b[39margs[\u001b[39m0\u001b[39m]\u001b[39m.\u001b[39mstartswith(\u001b[39m'\u001b[39m\u001b[39munhashable type:\u001b[39m\u001b[39m'\u001b[39m):\n",
      "File \u001b[0;32m~/anaconda3/envs/mlscorecheck/lib/python3.10/site-packages/sympy/core/expr.py:3659\u001b[0m, in \u001b[0;36mExpr.expand\u001b[0;34m(self, deep, modulus, power_base, power_exp, mul, log, multinomial, basic, **hints)\u001b[0m\n\u001b[1;32m   3656\u001b[0m     expr, _ \u001b[39m=\u001b[39m Expr\u001b[39m.\u001b[39m_expand_hint(\n\u001b[1;32m   3657\u001b[0m         expr, \u001b[39m'\u001b[39m\u001b[39m_eval_expand_multinomial\u001b[39m\u001b[39m'\u001b[39m, deep\u001b[39m=\u001b[39mdeep, \u001b[39m*\u001b[39m\u001b[39m*\u001b[39mhints)\n\u001b[1;32m   3658\u001b[0m \u001b[39mif\u001b[39;00m hints\u001b[39m.\u001b[39mget(\u001b[39m'\u001b[39m\u001b[39mmul\u001b[39m\u001b[39m'\u001b[39m, \u001b[39mFalse\u001b[39;00m):\n\u001b[0;32m-> 3659\u001b[0m     expr, _ \u001b[39m=\u001b[39m Expr\u001b[39m.\u001b[39;49m_expand_hint(\n\u001b[1;32m   3660\u001b[0m         expr, \u001b[39m'\u001b[39;49m\u001b[39m_eval_expand_mul\u001b[39;49m\u001b[39m'\u001b[39;49m, deep\u001b[39m=\u001b[39;49mdeep, \u001b[39m*\u001b[39;49m\u001b[39m*\u001b[39;49mhints)\n\u001b[1;32m   3661\u001b[0m \u001b[39mif\u001b[39;00m hints\u001b[39m.\u001b[39mget(\u001b[39m'\u001b[39m\u001b[39mlog\u001b[39m\u001b[39m'\u001b[39m, \u001b[39mFalse\u001b[39;00m):\n\u001b[1;32m   3662\u001b[0m     expr, _ \u001b[39m=\u001b[39m Expr\u001b[39m.\u001b[39m_expand_hint(\n\u001b[1;32m   3663\u001b[0m         expr, \u001b[39m'\u001b[39m\u001b[39m_eval_expand_log\u001b[39m\u001b[39m'\u001b[39m, deep\u001b[39m=\u001b[39mdeep, \u001b[39m*\u001b[39m\u001b[39m*\u001b[39mhints)\n",
      "File \u001b[0;32m~/anaconda3/envs/mlscorecheck/lib/python3.10/site-packages/sympy/core/expr.py:3584\u001b[0m, in \u001b[0;36mExpr._expand_hint\u001b[0;34m(expr, hint, deep, **hints)\u001b[0m\n\u001b[1;32m   3582\u001b[0m sargs \u001b[39m=\u001b[39m []\n\u001b[1;32m   3583\u001b[0m \u001b[39mfor\u001b[39;00m arg \u001b[39min\u001b[39;00m expr\u001b[39m.\u001b[39margs:\n\u001b[0;32m-> 3584\u001b[0m     arg, arghit \u001b[39m=\u001b[39m Expr\u001b[39m.\u001b[39;49m_expand_hint(arg, hint, \u001b[39m*\u001b[39;49m\u001b[39m*\u001b[39;49mhints)\n\u001b[1;32m   3585\u001b[0m     hit \u001b[39m|\u001b[39m\u001b[39m=\u001b[39m arghit\n\u001b[1;32m   3586\u001b[0m     sargs\u001b[39m.\u001b[39mappend(arg)\n",
      "File \u001b[0;32m~/anaconda3/envs/mlscorecheck/lib/python3.10/site-packages/sympy/core/expr.py:3584\u001b[0m, in \u001b[0;36mExpr._expand_hint\u001b[0;34m(expr, hint, deep, **hints)\u001b[0m\n\u001b[1;32m   3582\u001b[0m sargs \u001b[39m=\u001b[39m []\n\u001b[1;32m   3583\u001b[0m \u001b[39mfor\u001b[39;00m arg \u001b[39min\u001b[39;00m expr\u001b[39m.\u001b[39margs:\n\u001b[0;32m-> 3584\u001b[0m     arg, arghit \u001b[39m=\u001b[39m Expr\u001b[39m.\u001b[39;49m_expand_hint(arg, hint, \u001b[39m*\u001b[39;49m\u001b[39m*\u001b[39;49mhints)\n\u001b[1;32m   3585\u001b[0m     hit \u001b[39m|\u001b[39m\u001b[39m=\u001b[39m arghit\n\u001b[1;32m   3586\u001b[0m     sargs\u001b[39m.\u001b[39mappend(arg)\n",
      "    \u001b[0;31m[... skipping similar frames: Expr._expand_hint at line 3584 (9 times)]\u001b[0m\n",
      "File \u001b[0;32m~/anaconda3/envs/mlscorecheck/lib/python3.10/site-packages/sympy/core/expr.py:3584\u001b[0m, in \u001b[0;36mExpr._expand_hint\u001b[0;34m(expr, hint, deep, **hints)\u001b[0m\n\u001b[1;32m   3582\u001b[0m sargs \u001b[39m=\u001b[39m []\n\u001b[1;32m   3583\u001b[0m \u001b[39mfor\u001b[39;00m arg \u001b[39min\u001b[39;00m expr\u001b[39m.\u001b[39margs:\n\u001b[0;32m-> 3584\u001b[0m     arg, arghit \u001b[39m=\u001b[39m Expr\u001b[39m.\u001b[39;49m_expand_hint(arg, hint, \u001b[39m*\u001b[39;49m\u001b[39m*\u001b[39;49mhints)\n\u001b[1;32m   3585\u001b[0m     hit \u001b[39m|\u001b[39m\u001b[39m=\u001b[39m arghit\n\u001b[1;32m   3586\u001b[0m     sargs\u001b[39m.\u001b[39mappend(arg)\n",
      "File \u001b[0;32m~/anaconda3/envs/mlscorecheck/lib/python3.10/site-packages/sympy/core/expr.py:3581\u001b[0m, in \u001b[0;36mExpr._expand_hint\u001b[0;34m(expr, hint, deep, **hints)\u001b[0m\n\u001b[1;32m   3577\u001b[0m hit \u001b[39m=\u001b[39m \u001b[39mFalse\u001b[39;00m\n\u001b[1;32m   3578\u001b[0m \u001b[39m# XXX: Hack to support non-Basic args\u001b[39;00m\n\u001b[1;32m   3579\u001b[0m \u001b[39m#              |\u001b[39;00m\n\u001b[1;32m   3580\u001b[0m \u001b[39m#              V\u001b[39;00m\n\u001b[0;32m-> 3581\u001b[0m \u001b[39mif\u001b[39;00m deep \u001b[39mand\u001b[39;00m \u001b[39mgetattr\u001b[39;49m(expr, \u001b[39m'\u001b[39;49m\u001b[39margs\u001b[39;49m\u001b[39m'\u001b[39;49m, ()) \u001b[39mand\u001b[39;00m \u001b[39mnot\u001b[39;00m expr\u001b[39m.\u001b[39mis_Atom:\n\u001b[1;32m   3582\u001b[0m     sargs \u001b[39m=\u001b[39m []\n\u001b[1;32m   3583\u001b[0m     \u001b[39mfor\u001b[39;00m arg \u001b[39min\u001b[39;00m expr\u001b[39m.\u001b[39margs:\n",
      "File \u001b[0;32m~/anaconda3/envs/mlscorecheck/lib/python3.10/site-packages/sympy/core/basic.py:750\u001b[0m, in \u001b[0;36mBasic.args\u001b[0;34m(self)\u001b[0m\n\u001b[1;32m    726\u001b[0m     \u001b[39m\"\"\"\u001b[39;00m\n\u001b[1;32m    727\u001b[0m \u001b[39m    The top-level function in an expression.\u001b[39;00m\n\u001b[1;32m    728\u001b[0m \n\u001b[0;32m   (...)\u001b[0m\n\u001b[1;32m    746\u001b[0m \n\u001b[1;32m    747\u001b[0m \u001b[39m    \"\"\"\u001b[39;00m\n\u001b[1;32m    748\u001b[0m     \u001b[39mreturn\u001b[39;00m \u001b[39mself\u001b[39m\u001b[39m.\u001b[39m\u001b[39m__class__\u001b[39m\n\u001b[0;32m--> 750\u001b[0m \u001b[39m@property\u001b[39m\n\u001b[1;32m    751\u001b[0m \u001b[39mdef\u001b[39;00m \u001b[39margs\u001b[39m(\u001b[39mself\u001b[39m) \u001b[39m-\u001b[39m\u001b[39m>\u001b[39m \u001b[39mtuple\u001b[39m[Basic, \u001b[39m.\u001b[39m\u001b[39m.\u001b[39m\u001b[39m.\u001b[39m]:\n\u001b[1;32m    752\u001b[0m     \u001b[39m\"\"\"Returns a tuple of arguments of 'self'.\u001b[39;00m\n\u001b[1;32m    753\u001b[0m \n\u001b[1;32m    754\u001b[0m \u001b[39m    Examples\u001b[39;00m\n\u001b[0;32m   (...)\u001b[0m\n\u001b[1;32m    778\u001b[0m \u001b[39m    change the interface in the future if needed).\u001b[39;00m\n\u001b[1;32m    779\u001b[0m \u001b[39m    \"\"\"\u001b[39;00m\n\u001b[1;32m    780\u001b[0m     \u001b[39mreturn\u001b[39;00m \u001b[39mself\u001b[39m\u001b[39m.\u001b[39m_args\n",
      "\u001b[0;31mKeyboardInterrupt\u001b[0m: "
     ]
    }
   ],
   "source": [
    "sympy.solve(sympy.factor(eq30num), tn)"
   ]
  },
  {
   "cell_type": "code",
   "execution_count": null,
   "metadata": {},
   "outputs": [],
   "source": []
  }
 ],
 "metadata": {
  "kernelspec": {
   "display_name": "mlscorecheck",
   "language": "python",
   "name": "python3"
  },
  "language_info": {
   "codemirror_mode": {
    "name": "ipython",
    "version": 3
   },
   "file_extension": ".py",
   "mimetype": "text/x-python",
   "name": "python",
   "nbconvert_exporter": "python",
   "pygments_lexer": "ipython3",
   "version": "3.10.0"
  },
  "orig_nbformat": 4
 },
 "nbformat": 4,
 "nbformat_minor": 2
}
