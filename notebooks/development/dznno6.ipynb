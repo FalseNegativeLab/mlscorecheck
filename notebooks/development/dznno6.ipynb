{
 "cells": [
  {
   "cell_type": "code",
   "execution_count": 109,
   "metadata": {},
   "outputs": [],
   "source": [
    "from mlscorecheck.individual import load_solutions, Interval\n",
    "from mlscorecheck.scores import p4_standardized, fowlkes_mallows_index_standardized, diagnostic_odds_ratio_standardized, unified_performance_measure_standardized, markedness_standardized, geometric_mean_standardized, matthews_correlation_coefficient_standardized"
   ]
  },
  {
   "cell_type": "code",
   "execution_count": 110,
   "metadata": {},
   "outputs": [],
   "source": [
    "def sqrt(x):\n",
    "    return x**0.5"
   ]
  },
  {
   "cell_type": "code",
   "execution_count": 118,
   "metadata": {},
   "outputs": [],
   "source": [
    "params = {'p': 10, 'n': 50, 'tp': 8, 'tn': 0}"
   ]
  },
  {
   "cell_type": "code",
   "execution_count": 119,
   "metadata": {},
   "outputs": [],
   "source": [
    "p4 = p4_standardized(**params)\n",
    "fm = fowlkes_mallows_index_standardized(**params, sqrt=sqrt)\n",
    "dor = diagnostic_odds_ratio_standardized(**params)\n",
    "upm = unified_performance_measure_standardized(**params)\n",
    "mk = markedness_standardized(**params)\n",
    "gm = geometric_mean_standardized(**params, sqrt=sqrt)\n",
    "mcc = matthews_correlation_coefficient_standardized(**params, sqrt=sqrt)"
   ]
  },
  {
   "cell_type": "code",
   "execution_count": 120,
   "metadata": {},
   "outputs": [
    {
     "data": {
      "text/plain": [
       "(0.0,\n",
       " 0.3321819194149599,\n",
       " 0.0,\n",
       " 0.0,\n",
       " -0.8620689655172413,\n",
       " 0.0,\n",
       " -0.41522739926869984)"
      ]
     },
     "execution_count": 120,
     "metadata": {},
     "output_type": "execute_result"
    }
   ],
   "source": [
    "p4, fm, dor, upm, mk, gm, mcc"
   ]
  },
  {
   "cell_type": "code",
   "execution_count": 121,
   "metadata": {},
   "outputs": [],
   "source": [
    "params['p4'] = p4\n",
    "params['fm'] = fm\n",
    "params['dor'] = dor\n",
    "params['upm'] = upm\n",
    "params['gm'] = gm\n",
    "params['mk'] = mk\n",
    "params['mcc'] = mcc"
   ]
  },
  {
   "cell_type": "code",
   "execution_count": 116,
   "metadata": {},
   "outputs": [],
   "source": [
    "solutions = load_solutions()"
   ]
  },
  {
   "cell_type": "code",
   "execution_count": 74,
   "metadata": {},
   "outputs": [
    {
     "name": "stdout",
     "output_type": "stream",
     "text": [
      "acc dor\n",
      "dor sens\n",
      "dor spec\n",
      "dor ppv\n",
      "dor npv\n",
      "dor fbp\n",
      "dor f1p\n",
      "dor fbm\n",
      "dor f1m\n",
      "dor gm\n",
      "dor fm\n",
      "dor upm\n",
      "dor mk\n",
      "dor lrp\n",
      "dor lrn\n",
      "bm dor\n",
      "dor pt\n",
      "dor ji\n",
      "bacc dor\n",
      "dor kappa\n",
      "dor p4\n",
      "dor mcc\n"
     ]
    }
   ],
   "source": [
    "for key0, key1 in list(solutions.keys()):\n",
    "    if key0 == 'dor' or key1 == 'dor':\n",
    "        print(key0, key1)"
   ]
  },
  {
   "cell_type": "code",
   "execution_count": 122,
   "metadata": {},
   "outputs": [
    {
     "data": {
      "text/plain": [
       "[{'tp': None,\n",
       "  'tn': None,\n",
       "  'message': 'negative base',\n",
       "  'term': -1696.6382526888183},\n",
       " {'tp': None,\n",
       "  'tn': None,\n",
       "  'message': 'negative base',\n",
       "  'term': -1696.6382526888183},\n",
       " {'tp': None,\n",
       "  'tn': None,\n",
       "  'message': 'negative base',\n",
       "  'term': -1696.6382526888183},\n",
       " {'tp': None,\n",
       "  'tn': None,\n",
       "  'message': 'negative base',\n",
       "  'term': -1696.6382526888183}]"
      ]
     },
     "execution_count": 122,
     "metadata": {},
     "output_type": "execute_result"
    }
   ],
   "source": [
    "solutions[('gm', 'mcc')].evaluate(params)"
   ]
  },
  {
   "cell_type": "code",
   "execution_count": 123,
   "metadata": {},
   "outputs": [],
   "source": [
    "params['sqrt'] = sqrt"
   ]
  },
  {
   "cell_type": "code",
   "execution_count": 105,
   "metadata": {},
   "outputs": [
    {
     "data": {
      "text/plain": [
       "(5.731712552744486e-13+9360.596960258465j)"
      ]
     },
     "execution_count": 105,
     "metadata": {},
     "output_type": "execute_result"
    }
   ],
   "source": [
    "sqrt(-87620775.4524)"
   ]
  },
  {
   "cell_type": "code",
   "execution_count": 124,
   "metadata": {},
   "outputs": [
    {
     "data": {
      "text/plain": [
       "0j"
      ]
     },
     "execution_count": 124,
     "metadata": {},
     "output_type": "execute_result"
    }
   ],
   "source": [
    "eval(solutions[('gm', 'mcc')].solutions[2].solution['tp']['expression'], params)"
   ]
  },
  {
   "cell_type": "code",
   "execution_count": 63,
   "metadata": {},
   "outputs": [
    {
     "data": {
      "text/plain": [
       "(5.731712552744486e-13+9360.596960258465j)"
      ]
     },
     "execution_count": 63,
     "metadata": {},
     "output_type": "execute_result"
    }
   ],
   "source": [
    "(-87620775.4524)**0.5"
   ]
  },
  {
   "cell_type": "code",
   "execution_count": 125,
   "metadata": {},
   "outputs": [
    {
     "ename": "TypeError",
     "evalue": "complex() first argument must be a string or a number, not 'Interval'",
     "output_type": "error",
     "traceback": [
      "\u001b[0;31m---------------------------------------------------------------------------\u001b[0m",
      "\u001b[0;31mTypeError\u001b[0m                                 Traceback (most recent call last)",
      "Cell \u001b[0;32mIn[125], line 1\u001b[0m\n\u001b[0;32m----> 1\u001b[0m \u001b[39mcomplex\u001b[39;49m(Interval(\u001b[39m1\u001b[39;49m, \u001b[39m2\u001b[39;49m), Interval(\u001b[39m2\u001b[39;49m, \u001b[39m3\u001b[39;49m))\n",
      "\u001b[0;31mTypeError\u001b[0m: complex() first argument must be a string or a number, not 'Interval'"
     ]
    }
   ],
   "source": [
    "complex(Interval(1, 2), Interval(2, 3))"
   ]
  },
  {
   "cell_type": "code",
   "execution_count": 126,
   "metadata": {},
   "outputs": [],
   "source": [
    "import numpy as np"
   ]
  },
  {
   "cell_type": "code",
   "execution_count": 132,
   "metadata": {},
   "outputs": [
    {
     "data": {
      "text/plain": [
       "inf"
      ]
     },
     "execution_count": 132,
     "metadata": {},
     "output_type": "execute_result"
    }
   ],
   "source": [
    "1e30*1e1400"
   ]
  },
  {
   "cell_type": "code",
   "execution_count": null,
   "metadata": {},
   "outputs": [],
   "source": []
  }
 ],
 "metadata": {
  "kernelspec": {
   "display_name": "mlscorecheck",
   "language": "python",
   "name": "python3"
  },
  "language_info": {
   "codemirror_mode": {
    "name": "ipython",
    "version": 3
   },
   "file_extension": ".py",
   "mimetype": "text/x-python",
   "name": "python",
   "nbconvert_exporter": "python",
   "pygments_lexer": "ipython3",
   "version": "3.10.0"
  },
  "orig_nbformat": 4
 },
 "nbformat": 4,
 "nbformat_minor": 2
}
