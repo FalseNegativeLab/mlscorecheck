{
 "cells": [
  {
   "cell_type": "code",
   "execution_count": 2,
   "metadata": {},
   "outputs": [],
   "source": [
    "import pandas as pd\n",
    "\n",
    "from mlscorecheck.check import check_1_testset_no_kfold_scores"
   ]
  },
  {
   "cell_type": "code",
   "execution_count": 205,
   "metadata": {},
   "outputs": [
    {
     "data": {
      "text/plain": [
       "{'inconsistency': True,\n",
       " 'details': [{'testing': 'acc',\n",
       "   'score_interval': (0.484999, 0.48700099999999996),\n",
       "   'n_tptn_pairs_before': 0,\n",
       "   'n_tptn_pairs_after': 0,\n",
       "   'decision': 'infeasible'}],\n",
       " 'n_valid_tptn_pairs': 0,\n",
       " 'iterate_by': 'tp',\n",
       " 'solve_for': 'tn',\n",
       " 'evidence': None,\n",
       " 'prefiltering_details': {'inconsistency': True,\n",
       "  'tp': [],\n",
       "  'tn': [],\n",
       "  'details': [{'base_score_0': 'acc',\n",
       "    'base_score_1': 'sens',\n",
       "    'base_score_0_interval': (0.48499800000000004, 0.48700199999999993),\n",
       "    'base_score_1_interval': (0.49099800000000005, 0.49300199999999994),\n",
       "    'tp_after': [(489, 490)],\n",
       "    'tn_after': [(487, 492)],\n",
       "    'inconsistency': False},\n",
       "   {'base_score_0': 'acc',\n",
       "    'base_score_1': 'ppv',\n",
       "    'base_score_0_interval': (0.48499800000000004, 0.48700199999999993),\n",
       "    'base_score_1_interval': (0.29599800000000004, 0.29800199999999993),\n",
       "    'tp_after': [],\n",
       "    'tn_after': [],\n",
       "    'inconsistency': True},\n",
       "   {'base_score_0': 'sens',\n",
       "    'base_score_1': 'ppv',\n",
       "    'base_score_0_interval': (0.49099800000000005, 0.49300199999999994),\n",
       "    'base_score_1_interval': (0.29599800000000004, 0.29800199999999993),\n",
       "    'tp_after': [],\n",
       "    'tn_after': [],\n",
       "    'inconsistency': True}]}}"
      ]
     },
     "execution_count": 205,
     "metadata": {},
     "output_type": "execute_result"
    }
   ],
   "source": [
    "scores = {'acc': 0.486,\n",
    "            'sens': 0.492,\n",
    "            'ppv': 0.297}\n",
    "eps = 1e-3\n",
    "check_1_testset_no_kfold_scores(scores=scores,\n",
    "                                eps=eps,\n",
    "                                testset={'p': 994, 'n': 1020})"
   ]
  },
  {
   "cell_type": "code",
   "execution_count": 3,
   "metadata": {},
   "outputs": [],
   "source": [
    "import logging\n",
    "logger = logging.getLogger('mlscorecheck')\n",
    "logger.setLevel(logging.ERROR)"
   ]
  },
  {
   "cell_type": "code",
   "execution_count": 4,
   "metadata": {},
   "outputs": [],
   "source": [
    "data = [['method', 'AVG_ACC', 'M_ACC', 'SK_ACC', 'AVG_AUC', 'M_AUC', 'SK_AUC', 'AVG_SE', 'M_SE', 'SK_SE', 'AVG_SP', 'M_SP', 'SK_SP'],\n",
    "['GoogLeNet',    0.842, 0.818, 0.865, 0.848, 0.794, 0.902, 0.592, 0.496, 0.689, 0.722, 0.613, 0.831],\n",
    "['AlexNet',      0.848, 0.823, 0.872, 0.830, 0.802, 0.859, 0.518, 0.470, 0.567, 0.645, 0.561, 0.728],\n",
    "['ResNet',       0.828, 0.822, 0.833, 0.809, 0.757, 0.861, 0.520, 0.385, 0.656, 0.598, 0.437, 0.759],\n",
    "['VGGNet',       0.813, 0.802, 0.825, 0.808, 0.766, 0.849, 0.434, 0.256, 0.611, 0.636, 0.585, 0.686],\n",
    "['SP',           0.867, 0.845, 0.888, 0.875, 0.832, 0.918, 0.516, 0.376, 0.656, 0.746, 0.654, 0.838],\n",
    "['PP',           0.861, 0.845, 0.877, 0.875, 0.836, 0.913, 0.524, 0.393, 0.656, 0.738, 0.650, 0.826],\n",
    "['SMV',          0.903, 0.875, 0.930, 0.839, 0.789, 0.888, 0.632, 0.487, 0.778, 0.822, 0.766, 0.878],\n",
    "['SMP',          0.868, 0.848, 0.887, 0.884, 0.843, 0.925, 0.551, 0.402, 0.700, 0.763, 0.689, 0.836],\n",
    "['ω(1)SMP',      0.869, 0.850, 0.888, 0.886, 0.844, 0.928, 0.580, 0.427, 0.733, 0.772, 0.689, 0.855],\n",
    "['ω(2)SMP',      0.866, 0.852, 0.880, 0.891, 0.851, 0.930, 0.556, 0.402, 0.711, 0.785, 0.719, 0.851]]"
   ]
  },
  {
   "cell_type": "code",
   "execution_count": 5,
   "metadata": {},
   "outputs": [],
   "source": [
    "tmp = pd.DataFrame(data)\n",
    "tmp.columns = tmp.iloc[0]\n",
    "tmp.index = tmp['method']\n",
    "tmp = tmp.drop('method', axis='rows').drop('method', axis='columns')"
   ]
  },
  {
   "cell_type": "code",
   "execution_count": 6,
   "metadata": {},
   "outputs": [
    {
     "data": {
      "text/plain": [
       "method\n",
       "GoogLeNet    61.92\n",
       "AlexNet      50.94\n",
       "ResNet       58.95\n",
       "VGGNet        54.9\n",
       "SP           58.95\n",
       "PP           58.95\n",
       "SMV          69.93\n",
       "SMP          62.91\n",
       "ω(1)SMP      65.88\n",
       "ω(2)SMP       63.9\n",
       "Name: SK_SE, dtype: object"
      ]
     },
     "execution_count": 6,
     "metadata": {},
     "output_type": "execute_result"
    }
   ],
   "source": [
    "(tmp['SK_SE'] - 0.001) * 90"
   ]
  },
  {
   "cell_type": "code",
   "execution_count": 7,
   "metadata": {},
   "outputs": [
    {
     "data": {
      "text/html": [
       "<div>\n",
       "<style scoped>\n",
       "    .dataframe tbody tr th:only-of-type {\n",
       "        vertical-align: middle;\n",
       "    }\n",
       "\n",
       "    .dataframe tbody tr th {\n",
       "        vertical-align: top;\n",
       "    }\n",
       "\n",
       "    .dataframe thead th {\n",
       "        text-align: right;\n",
       "    }\n",
       "</style>\n",
       "<table border=\"1\" class=\"dataframe\">\n",
       "  <thead>\n",
       "    <tr style=\"text-align: right;\">\n",
       "      <th></th>\n",
       "      <th>AVG_ACC</th>\n",
       "      <th>M_ACC</th>\n",
       "      <th>SK_ACC</th>\n",
       "      <th>AVG_AUC</th>\n",
       "      <th>M_AUC</th>\n",
       "      <th>SK_AUC</th>\n",
       "      <th>AVG_SE</th>\n",
       "      <th>M_SE</th>\n",
       "      <th>SK_SE</th>\n",
       "      <th>AVG_SP</th>\n",
       "      <th>M_SP</th>\n",
       "      <th>SK_SP</th>\n",
       "    </tr>\n",
       "    <tr>\n",
       "      <th>method</th>\n",
       "      <th></th>\n",
       "      <th></th>\n",
       "      <th></th>\n",
       "      <th></th>\n",
       "      <th></th>\n",
       "      <th></th>\n",
       "      <th></th>\n",
       "      <th></th>\n",
       "      <th></th>\n",
       "      <th></th>\n",
       "      <th></th>\n",
       "      <th></th>\n",
       "    </tr>\n",
       "  </thead>\n",
       "  <tbody>\n",
       "    <tr>\n",
       "      <th>GoogLeNet</th>\n",
       "      <td>0.842</td>\n",
       "      <td>0.818</td>\n",
       "      <td>0.865</td>\n",
       "      <td>0.848</td>\n",
       "      <td>0.794</td>\n",
       "      <td>0.902</td>\n",
       "      <td>0.592</td>\n",
       "      <td>0.496</td>\n",
       "      <td>0.689</td>\n",
       "      <td>0.722</td>\n",
       "      <td>0.613</td>\n",
       "      <td>0.831</td>\n",
       "    </tr>\n",
       "    <tr>\n",
       "      <th>AlexNet</th>\n",
       "      <td>0.848</td>\n",
       "      <td>0.823</td>\n",
       "      <td>0.872</td>\n",
       "      <td>0.83</td>\n",
       "      <td>0.802</td>\n",
       "      <td>0.859</td>\n",
       "      <td>0.518</td>\n",
       "      <td>0.47</td>\n",
       "      <td>0.567</td>\n",
       "      <td>0.645</td>\n",
       "      <td>0.561</td>\n",
       "      <td>0.728</td>\n",
       "    </tr>\n",
       "    <tr>\n",
       "      <th>ResNet</th>\n",
       "      <td>0.828</td>\n",
       "      <td>0.822</td>\n",
       "      <td>0.833</td>\n",
       "      <td>0.809</td>\n",
       "      <td>0.757</td>\n",
       "      <td>0.861</td>\n",
       "      <td>0.52</td>\n",
       "      <td>0.385</td>\n",
       "      <td>0.656</td>\n",
       "      <td>0.598</td>\n",
       "      <td>0.437</td>\n",
       "      <td>0.759</td>\n",
       "    </tr>\n",
       "    <tr>\n",
       "      <th>VGGNet</th>\n",
       "      <td>0.813</td>\n",
       "      <td>0.802</td>\n",
       "      <td>0.825</td>\n",
       "      <td>0.808</td>\n",
       "      <td>0.766</td>\n",
       "      <td>0.849</td>\n",
       "      <td>0.434</td>\n",
       "      <td>0.256</td>\n",
       "      <td>0.611</td>\n",
       "      <td>0.636</td>\n",
       "      <td>0.585</td>\n",
       "      <td>0.686</td>\n",
       "    </tr>\n",
       "    <tr>\n",
       "      <th>SP</th>\n",
       "      <td>0.867</td>\n",
       "      <td>0.845</td>\n",
       "      <td>0.888</td>\n",
       "      <td>0.875</td>\n",
       "      <td>0.832</td>\n",
       "      <td>0.918</td>\n",
       "      <td>0.516</td>\n",
       "      <td>0.376</td>\n",
       "      <td>0.656</td>\n",
       "      <td>0.746</td>\n",
       "      <td>0.654</td>\n",
       "      <td>0.838</td>\n",
       "    </tr>\n",
       "    <tr>\n",
       "      <th>PP</th>\n",
       "      <td>0.861</td>\n",
       "      <td>0.845</td>\n",
       "      <td>0.877</td>\n",
       "      <td>0.875</td>\n",
       "      <td>0.836</td>\n",
       "      <td>0.913</td>\n",
       "      <td>0.524</td>\n",
       "      <td>0.393</td>\n",
       "      <td>0.656</td>\n",
       "      <td>0.738</td>\n",
       "      <td>0.65</td>\n",
       "      <td>0.826</td>\n",
       "    </tr>\n",
       "    <tr>\n",
       "      <th>SMV</th>\n",
       "      <td>0.903</td>\n",
       "      <td>0.875</td>\n",
       "      <td>0.93</td>\n",
       "      <td>0.839</td>\n",
       "      <td>0.789</td>\n",
       "      <td>0.888</td>\n",
       "      <td>0.632</td>\n",
       "      <td>0.487</td>\n",
       "      <td>0.778</td>\n",
       "      <td>0.822</td>\n",
       "      <td>0.766</td>\n",
       "      <td>0.878</td>\n",
       "    </tr>\n",
       "    <tr>\n",
       "      <th>SMP</th>\n",
       "      <td>0.868</td>\n",
       "      <td>0.848</td>\n",
       "      <td>0.887</td>\n",
       "      <td>0.884</td>\n",
       "      <td>0.843</td>\n",
       "      <td>0.925</td>\n",
       "      <td>0.551</td>\n",
       "      <td>0.402</td>\n",
       "      <td>0.7</td>\n",
       "      <td>0.763</td>\n",
       "      <td>0.689</td>\n",
       "      <td>0.836</td>\n",
       "    </tr>\n",
       "    <tr>\n",
       "      <th>ω(1)SMP</th>\n",
       "      <td>0.869</td>\n",
       "      <td>0.85</td>\n",
       "      <td>0.888</td>\n",
       "      <td>0.886</td>\n",
       "      <td>0.844</td>\n",
       "      <td>0.928</td>\n",
       "      <td>0.58</td>\n",
       "      <td>0.427</td>\n",
       "      <td>0.733</td>\n",
       "      <td>0.772</td>\n",
       "      <td>0.689</td>\n",
       "      <td>0.855</td>\n",
       "    </tr>\n",
       "    <tr>\n",
       "      <th>ω(2)SMP</th>\n",
       "      <td>0.866</td>\n",
       "      <td>0.852</td>\n",
       "      <td>0.88</td>\n",
       "      <td>0.891</td>\n",
       "      <td>0.851</td>\n",
       "      <td>0.93</td>\n",
       "      <td>0.556</td>\n",
       "      <td>0.402</td>\n",
       "      <td>0.711</td>\n",
       "      <td>0.785</td>\n",
       "      <td>0.719</td>\n",
       "      <td>0.851</td>\n",
       "    </tr>\n",
       "  </tbody>\n",
       "</table>\n",
       "</div>"
      ],
      "text/plain": [
       "0         AVG_ACC  M_ACC SK_ACC AVG_AUC  M_AUC SK_AUC AVG_SE   M_SE  SK_SE   \n",
       "method                                                                       \n",
       "GoogLeNet   0.842  0.818  0.865   0.848  0.794  0.902  0.592  0.496  0.689  \\\n",
       "AlexNet     0.848  0.823  0.872    0.83  0.802  0.859  0.518   0.47  0.567   \n",
       "ResNet      0.828  0.822  0.833   0.809  0.757  0.861   0.52  0.385  0.656   \n",
       "VGGNet      0.813  0.802  0.825   0.808  0.766  0.849  0.434  0.256  0.611   \n",
       "SP          0.867  0.845  0.888   0.875  0.832  0.918  0.516  0.376  0.656   \n",
       "PP          0.861  0.845  0.877   0.875  0.836  0.913  0.524  0.393  0.656   \n",
       "SMV         0.903  0.875   0.93   0.839  0.789  0.888  0.632  0.487  0.778   \n",
       "SMP         0.868  0.848  0.887   0.884  0.843  0.925  0.551  0.402    0.7   \n",
       "ω(1)SMP     0.869   0.85  0.888   0.886  0.844  0.928   0.58  0.427  0.733   \n",
       "ω(2)SMP     0.866  0.852   0.88   0.891  0.851   0.93  0.556  0.402  0.711   \n",
       "\n",
       "0         AVG_SP   M_SP  SK_SP  \n",
       "method                          \n",
       "GoogLeNet  0.722  0.613  0.831  \n",
       "AlexNet    0.645  0.561  0.728  \n",
       "ResNet     0.598  0.437  0.759  \n",
       "VGGNet     0.636  0.585  0.686  \n",
       "SP         0.746  0.654  0.838  \n",
       "PP         0.738   0.65  0.826  \n",
       "SMV        0.822  0.766  0.878  \n",
       "SMP        0.763  0.689  0.836  \n",
       "ω(1)SMP    0.772  0.689  0.855  \n",
       "ω(2)SMP    0.785  0.719  0.851  "
      ]
     },
     "execution_count": 7,
     "metadata": {},
     "output_type": "execute_result"
    }
   ],
   "source": [
    "tmp"
   ]
  },
  {
   "cell_type": "code",
   "execution_count": 133,
   "metadata": {},
   "outputs": [],
   "source": [
    "import numpy as np"
   ]
  },
  {
   "cell_type": "code",
   "execution_count": null,
   "metadata": {},
   "outputs": [],
   "source": []
  },
  {
   "cell_type": "code",
   "execution_count": 139,
   "metadata": {},
   "outputs": [
    {
     "data": {
      "text/plain": [
       "array([2., 5., 8.])"
      ]
     },
     "execution_count": 139,
     "metadata": {},
     "output_type": "execute_result"
    }
   ],
   "source": [
    "np.round(np.array([2.4, 5.2, 7.6]))"
   ]
  },
  {
   "cell_type": "code",
   "execution_count": 160,
   "metadata": {},
   "outputs": [
    {
     "name": "stdout",
     "output_type": "stream",
     "text": [
      "90 [62.01 51.03 59.04 54.99 59.04 59.04 70.02 63.   65.97 63.99]\n",
      "180 [124.02 102.06 118.08 109.98 118.08 118.08 140.04 126.   131.94 127.98]\n",
      "820 [564.98 464.94 537.92 501.02 537.92 537.92 637.96 574.   601.06 583.02]\n",
      "910 [626.99 515.97 596.96 556.01 596.96 596.96 707.98 637.   667.03 647.01]\n",
      "1000 [689. 567. 656. 611. 656. 656. 778. 700. 733. 711.]\n",
      "1090 [751.01 618.03 715.04 665.99 715.04 715.04 848.02 763.   798.97 774.99]\n",
      "1180 [813.02 669.06 774.08 720.98 774.08 774.08 918.04 826.   864.94 838.98]\n",
      "1820 [1253.98 1031.94 1193.92 1112.02 1193.92 1193.92 1415.96 1274.   1334.06\n",
      " 1294.02]\n",
      "1910 [1315.99 1082.97 1252.96 1167.01 1252.96 1252.96 1485.98 1337.   1400.03\n",
      " 1358.01]\n",
      "2000 [1378. 1134. 1312. 1222. 1312. 1312. 1556. 1400. 1466. 1422.]\n",
      "2090 [1440.01 1185.03 1371.04 1276.99 1371.04 1371.04 1626.02 1463.   1531.97\n",
      " 1485.99]\n",
      "2180 [1502.02 1236.06 1430.08 1331.98 1430.08 1430.08 1696.04 1526.   1597.94\n",
      " 1549.98]\n",
      "2820 [1942.98 1598.94 1849.92 1723.02 1849.92 1849.92 2193.96 1974.   2067.06\n",
      " 2005.02]\n",
      "2910 [2004.99 1649.97 1908.96 1778.01 1908.96 1908.96 2263.98 2037.   2133.03\n",
      " 2069.01]\n",
      "3000 [2067. 1701. 1968. 1833. 1968. 1968. 2334. 2100. 2199. 2133.]\n",
      "3090 [2129.01 1752.03 2027.04 1887.99 2027.04 2027.04 2404.02 2163.   2264.97\n",
      " 2196.99]\n",
      "3180 [2191.02 1803.06 2086.08 1942.98 2086.08 2086.08 2474.04 2226.   2330.94\n",
      " 2260.98]\n",
      "3820 [2631.98 2165.94 2505.92 2334.02 2505.92 2505.92 2971.96 2674.   2800.06\n",
      " 2716.02]\n",
      "3910 [2693.99 2216.97 2564.96 2389.01 2564.96 2564.96 3041.98 2737.   2866.03\n",
      " 2780.01]\n",
      "4000 [2756. 2268. 2624. 2444. 2624. 2624. 3112. 2800. 2932. 2844.]\n",
      "4090 [2818.01 2319.03 2683.04 2498.99 2683.04 2683.04 3182.02 2863.   2997.97\n",
      " 2907.99]\n",
      "4180 [2880.02 2370.06 2742.08 2553.98 2742.08 2742.08 3252.04 2926.   3063.94\n",
      " 2971.98]\n",
      "4820 [3320.98 2732.94 3161.92 2945.02 3161.92 3161.92 3749.96 3374.   3533.06\n",
      " 3427.02]\n",
      "4910 [3382.99 2783.97 3220.96 3000.01 3220.96 3220.96 3819.98 3437.   3599.03\n",
      " 3491.01]\n"
     ]
    }
   ],
   "source": [
    "for val in range(50, 5000):\n",
    "    res = (tmp['SK_SE'].values.astype(float) * val)\n",
    "    if np.mean(np.abs(res - np.round(res))) < 0.05:\n",
    "        print(val, res)"
   ]
  },
  {
   "cell_type": "code",
   "execution_count": 99,
   "metadata": {},
   "outputs": [
    {
     "data": {
      "text/plain": [
       "58.032"
      ]
     },
     "execution_count": 99,
     "metadata": {},
     "output_type": "execute_result"
    }
   ],
   "source": [
    "0.496 * 117"
   ]
  },
  {
   "cell_type": "code",
   "execution_count": 100,
   "metadata": {},
   "outputs": [
    {
     "data": {
      "text/plain": [
       "62.01"
      ]
     },
     "execution_count": 100,
     "metadata": {},
     "output_type": "execute_result"
    }
   ],
   "source": [
    "0.689 * 90"
   ]
  },
  {
   "cell_type": "code",
   "execution_count": 101,
   "metadata": {},
   "outputs": [
    {
     "data": {
      "text/plain": [
       "0.6328502415458938"
      ]
     },
     "execution_count": 101,
     "metadata": {},
     "output_type": "execute_result"
    }
   ],
   "source": [
    "(63 + 68) / (90 + 117)"
   ]
  },
  {
   "cell_type": "code",
   "execution_count": 174,
   "metadata": {},
   "outputs": [],
   "source": [
    "dataset = {'p': 393, 'n': 117 + 90}\n",
    "dataset = {'p': 393, 'n': 117 + 90}\n",
    "dataset = {'p': 117, 'n': 393 + 90}"
   ]
  },
  {
   "cell_type": "code",
   "execution_count": 175,
   "metadata": {},
   "outputs": [],
   "source": [
    "acc = tmp.iloc[5]['M_SP']\n",
    "sens = tmp.iloc[5]['M_SE']\n",
    "spec = tmp.iloc[5]['M_ACC']"
   ]
  },
  {
   "cell_type": "code",
   "execution_count": 176,
   "metadata": {},
   "outputs": [
    {
     "data": {
      "text/plain": [
       "154.20000000000005"
      ]
     },
     "execution_count": 176,
     "metadata": {},
     "output_type": "execute_result"
    }
   ],
   "source": [
    "117 * (sens - acc) / (acc - spec)"
   ]
  },
  {
   "cell_type": "code",
   "execution_count": 202,
   "metadata": {},
   "outputs": [],
   "source": [
    "tmp['n'] = tmp[['M_ACC', 'M_SE', 'M_SP']].apply(lambda row: (row['M_SE'] - row['M_SP'])/(row['M_SP'] - row['M_ACC']), axis=1)"
   ]
  },
  {
   "cell_type": "code",
   "execution_count": 203,
   "metadata": {},
   "outputs": [
    {
     "data": {
      "text/html": [
       "<div>\n",
       "<style scoped>\n",
       "    .dataframe tbody tr th:only-of-type {\n",
       "        vertical-align: middle;\n",
       "    }\n",
       "\n",
       "    .dataframe tbody tr th {\n",
       "        vertical-align: top;\n",
       "    }\n",
       "\n",
       "    .dataframe thead th {\n",
       "        text-align: right;\n",
       "    }\n",
       "</style>\n",
       "<table border=\"1\" class=\"dataframe\">\n",
       "  <thead>\n",
       "    <tr style=\"text-align: right;\">\n",
       "      <th></th>\n",
       "      <th>M_ACC</th>\n",
       "      <th>M_SE</th>\n",
       "      <th>M_SP</th>\n",
       "      <th>n</th>\n",
       "    </tr>\n",
       "    <tr>\n",
       "      <th>method</th>\n",
       "      <th></th>\n",
       "      <th></th>\n",
       "      <th></th>\n",
       "      <th></th>\n",
       "    </tr>\n",
       "  </thead>\n",
       "  <tbody>\n",
       "    <tr>\n",
       "      <th>GoogLeNet</th>\n",
       "      <td>0.818</td>\n",
       "      <td>0.496</td>\n",
       "      <td>0.613</td>\n",
       "      <td>0.570732</td>\n",
       "    </tr>\n",
       "    <tr>\n",
       "      <th>AlexNet</th>\n",
       "      <td>0.823</td>\n",
       "      <td>0.47</td>\n",
       "      <td>0.561</td>\n",
       "      <td>0.347328</td>\n",
       "    </tr>\n",
       "    <tr>\n",
       "      <th>ResNet</th>\n",
       "      <td>0.822</td>\n",
       "      <td>0.385</td>\n",
       "      <td>0.437</td>\n",
       "      <td>0.135065</td>\n",
       "    </tr>\n",
       "    <tr>\n",
       "      <th>VGGNet</th>\n",
       "      <td>0.802</td>\n",
       "      <td>0.256</td>\n",
       "      <td>0.585</td>\n",
       "      <td>1.516129</td>\n",
       "    </tr>\n",
       "    <tr>\n",
       "      <th>SP</th>\n",
       "      <td>0.845</td>\n",
       "      <td>0.376</td>\n",
       "      <td>0.654</td>\n",
       "      <td>1.455497</td>\n",
       "    </tr>\n",
       "    <tr>\n",
       "      <th>PP</th>\n",
       "      <td>0.845</td>\n",
       "      <td>0.393</td>\n",
       "      <td>0.65</td>\n",
       "      <td>1.317949</td>\n",
       "    </tr>\n",
       "    <tr>\n",
       "      <th>SMV</th>\n",
       "      <td>0.875</td>\n",
       "      <td>0.487</td>\n",
       "      <td>0.766</td>\n",
       "      <td>2.559633</td>\n",
       "    </tr>\n",
       "    <tr>\n",
       "      <th>SMP</th>\n",
       "      <td>0.848</td>\n",
       "      <td>0.402</td>\n",
       "      <td>0.689</td>\n",
       "      <td>1.805031</td>\n",
       "    </tr>\n",
       "    <tr>\n",
       "      <th>ω(1)SMP</th>\n",
       "      <td>0.85</td>\n",
       "      <td>0.427</td>\n",
       "      <td>0.689</td>\n",
       "      <td>1.627329</td>\n",
       "    </tr>\n",
       "    <tr>\n",
       "      <th>ω(2)SMP</th>\n",
       "      <td>0.852</td>\n",
       "      <td>0.402</td>\n",
       "      <td>0.719</td>\n",
       "      <td>2.383459</td>\n",
       "    </tr>\n",
       "  </tbody>\n",
       "</table>\n",
       "</div>"
      ],
      "text/plain": [
       "0          M_ACC   M_SE   M_SP         n\n",
       "method                                  \n",
       "GoogLeNet  0.818  0.496  0.613  0.570732\n",
       "AlexNet    0.823   0.47  0.561  0.347328\n",
       "ResNet     0.822  0.385  0.437  0.135065\n",
       "VGGNet     0.802  0.256  0.585  1.516129\n",
       "SP         0.845  0.376  0.654  1.455497\n",
       "PP         0.845  0.393   0.65  1.317949\n",
       "SMV        0.875  0.487  0.766  2.559633\n",
       "SMP        0.848  0.402  0.689  1.805031\n",
       "ω(1)SMP     0.85  0.427  0.689  1.627329\n",
       "ω(2)SMP    0.852  0.402  0.719  2.383459"
      ]
     },
     "execution_count": 203,
     "metadata": {},
     "output_type": "execute_result"
    }
   ],
   "source": [
    "tmp[['M_ACC', 'M_SE', 'M_SP', 'n']]"
   ]
  },
  {
   "cell_type": "code",
   "execution_count": 195,
   "metadata": {},
   "outputs": [],
   "source": [
    "max_false = 0\n",
    "for n in range(100, 130):\n",
    "    for p in range(393 + 70, 393 + 120):\n",
    "        testset = {'p': p, 'n': n}\n",
    "        results = []\n",
    "        for idx, row in tmp.iterrows():\n",
    "            result = check_1_testset_no_kfold_scores(eps=10**(-1.5),\n",
    "                                                        testset=testset,\n",
    "                                                        scores={'sens': row['M_SE'],\n",
    "                                                                'spec': row['M_ACC'],\n",
    "                                                                'acc': row['M_SP']})\n",
    "            results.append(result['inconsistency'])\n",
    "        \n",
    "        if not any(results):\n",
    "            print(p, n, results)\n",
    "        if sum(res == False for res in results) > max_false:\n",
    "            max_false = sum(res == False for res in results)"
   ]
  },
  {
   "cell_type": "code",
   "execution_count": 196,
   "metadata": {},
   "outputs": [
    {
     "data": {
      "text/plain": [
       "3"
      ]
     },
     "execution_count": 196,
     "metadata": {},
     "output_type": "execute_result"
    }
   ],
   "source": [
    "max_false"
   ]
  },
  {
   "cell_type": "code",
   "execution_count": null,
   "metadata": {},
   "outputs": [],
   "source": [
    "#62, 424\n",
    "#58, 296"
   ]
  },
  {
   "cell_type": "code",
   "execution_count": null,
   "metadata": {},
   "outputs": [],
   "source": []
  },
  {
   "cell_type": "code",
   "execution_count": 98,
   "metadata": {},
   "outputs": [
    {
     "data": {
      "text/plain": [
       "0.865"
      ]
     },
     "execution_count": 98,
     "metadata": {},
     "output_type": "execute_result"
    }
   ],
   "source": [
    "tmp.iloc[0]['SK_ACC']"
   ]
  },
  {
   "cell_type": "code",
   "execution_count": 94,
   "metadata": {},
   "outputs": [
    {
     "data": {
      "text/plain": [
       "413"
      ]
     },
     "execution_count": 94,
     "metadata": {},
     "output_type": "execute_result"
    }
   ],
   "source": [
    "296 + 117"
   ]
  },
  {
   "cell_type": "code",
   "execution_count": 97,
   "metadata": {},
   "outputs": [
    {
     "data": {
      "text/plain": [
       "432.7628361858191"
      ]
     },
     "execution_count": 97,
     "metadata": {},
     "output_type": "execute_result"
    }
   ],
   "source": [
    "(58+296)/tmp.iloc[0]['M_ACC']"
   ]
  },
  {
   "cell_type": "code",
   "execution_count": 95,
   "metadata": {},
   "outputs": [
    {
     "name": "stdout",
     "output_type": "stream",
     "text": [
      "73.61999999999999 90\n",
      "95.70599999999999 117\n",
      "321.474 393\n",
      "169.326 207\n",
      "395.094 483\n",
      "417.17999999999995 510\n",
      "490.79999999999995 600\n"
     ]
    }
   ],
   "source": [
    "for p in [90, 117, 393, 90 + 117, 90 + 393, 117 + 393, 90 + 117 + 393]:\n",
    "    print(p*tmp.iloc[0]['M_ACC'], p)"
   ]
  },
  {
   "cell_type": "code",
   "execution_count": 90,
   "metadata": {},
   "outputs": [
    {
     "data": {
      "text/plain": [
       "0.49572649572649574"
      ]
     },
     "execution_count": 90,
     "metadata": {},
     "output_type": "execute_result"
    }
   ],
   "source": [
    "(58) / (117)"
   ]
  },
  {
   "cell_type": "code",
   "execution_count": 70,
   "metadata": {},
   "outputs": [
    {
     "data": {
      "text/plain": [
       "432.7628361858191"
      ]
     },
     "execution_count": 70,
     "metadata": {},
     "output_type": "execute_result"
    }
   ],
   "source": [
    "(58 + 296) / 0.818"
   ]
  },
  {
   "cell_type": "code",
   "execution_count": 67,
   "metadata": {},
   "outputs": [
    {
     "data": {
      "text/plain": [
       "0.7329192546583851"
      ]
     },
     "execution_count": 67,
     "metadata": {},
     "output_type": "execute_result"
    }
   ],
   "source": [
    "(58 + 296) / (393 + 90)"
   ]
  },
  {
   "cell_type": "code",
   "execution_count": 65,
   "metadata": {},
   "outputs": [
    {
     "data": {
      "text/plain": [
       "0.6444444444444445"
      ]
     },
     "execution_count": 65,
     "metadata": {},
     "output_type": "execute_result"
    }
   ],
   "source": [
    "58/90"
   ]
  },
  {
   "cell_type": "code",
   "execution_count": 81,
   "metadata": {},
   "outputs": [
    {
     "name": "stdout",
     "output_type": "stream",
     "text": [
      "117 483 58 296\n"
     ]
    }
   ],
   "source": [
    "sol_idx = 0\n",
    "eps = 0.001\n",
    "p = 117\n",
    "n = (393 + 90)\n",
    "for tp in range(p+1):\n",
    "    for tn in range(n+1):\n",
    "        if abs(tp/p - tmp.iloc[sol_idx]['M_SE']) <= eps:\n",
    "            if abs(tn/n - tmp.iloc[sol_idx]['M_SP']) <= eps:\n",
    "                print(p, n, tp, tn)"
   ]
  },
  {
   "cell_type": "code",
   "execution_count": 82,
   "metadata": {},
   "outputs": [],
   "source": [
    "#62, 424\n",
    "#58, 296\n"
   ]
  },
  {
   "cell_type": "code",
   "execution_count": 73,
   "metadata": {},
   "outputs": [
    {
     "data": {
      "text/plain": [
       "0.865"
      ]
     },
     "execution_count": 73,
     "metadata": {},
     "output_type": "execute_result"
    }
   ],
   "source": [
    "tmp.iloc[0]['SK_ACC']"
   ]
  },
  {
   "cell_type": "code",
   "execution_count": 80,
   "metadata": {},
   "outputs": [
    {
     "data": {
      "text/plain": [
       "0.7209302325581395"
      ]
     },
     "execution_count": 80,
     "metadata": {},
     "output_type": "execute_result"
    }
   ],
   "source": [
    "62 / (393 + 117 - 424)"
   ]
  },
  {
   "cell_type": "code",
   "execution_count": 79,
   "metadata": {},
   "outputs": [
    {
     "data": {
      "text/plain": [
       "561.849710982659"
      ]
     },
     "execution_count": 79,
     "metadata": {},
     "output_type": "execute_result"
    }
   ],
   "source": [
    "(424 + 62)/0.865"
   ]
  },
  {
   "cell_type": "code",
   "execution_count": null,
   "metadata": {},
   "outputs": [],
   "source": []
  },
  {
   "cell_type": "code",
   "execution_count": 17,
   "metadata": {},
   "outputs": [
    {
     "name": "stdout",
     "output_type": "stream",
     "text": [
      "0.865 0.689 0.831\n",
      "90 90\n",
      "90 117\n",
      "90 393\n",
      "90 207\n",
      "90 483\n",
      "90 510\n",
      "90 600\n",
      "117 90\n",
      "117 117\n",
      "117 393\n",
      "117 207\n",
      "117 483\n",
      "117 510\n",
      "117 600\n",
      "393 90\n",
      "393 117\n",
      "393 393\n",
      "393 207\n",
      "393 483\n",
      "393 510\n",
      "393 600\n",
      "207 90\n",
      "207 117\n",
      "207 393\n",
      "207 207\n",
      "207 483\n",
      "207 510\n",
      "207 600\n",
      "483 90\n",
      "483 117\n",
      "483 393\n",
      "483 207\n",
      "483 483\n",
      "483 510\n",
      "483 600\n",
      "510 90\n",
      "510 117\n",
      "510 393\n",
      "510 207\n",
      "510 483\n",
      "510 510\n",
      "510 600\n",
      "600 90\n",
      "600 117\n",
      "600 393\n",
      "600 207\n",
      "600 483\n",
      "600 510\n",
      "600 600\n"
     ]
    }
   ],
   "source": [
    "sol_idx = 0\n",
    "eps = 1e-3\n",
    "print(tmp.iloc[sol_idx]['SK_ACC'], tmp.iloc[sol_idx]['SK_SE'], tmp.iloc[sol_idx]['SK_SP'])\n",
    "for p in [90, 117, 393, 90 + 117, 90 + 393, 117 + 393, 90 + 117 + 393]:\n",
    "    for n in [90, 117, 393, 90 + 117, 90 + 393, 117 + 393, 90 + 117 + 393]:\n",
    "        print(p, n)\n",
    "        k = 0\n",
    "        p_tmp = int(p/4)\n",
    "        n_tmp = int(n/4)\n",
    "        for tp in range(p_tmp+1):\n",
    "            for tn in range(n_tmp+1):\n",
    "                if abs((tp + tn)/(p_tmp + n_tmp) - tmp.iloc[sol_idx]['SK_SP']) <= eps:\n",
    "                    if abs(tp/p_tmp - tmp.iloc[sol_idx]['SK_SE']) <= eps:\n",
    "                        k += 1\n",
    "                        if abs(tn/n_tmp - tmp.iloc[sol_idx]['SK_ACC']) <= eps:\n",
    "                            print(p, n, tp, tn)\n",
    "        #print(k)"
   ]
  },
  {
   "cell_type": "code",
   "execution_count": null,
   "metadata": {},
   "outputs": [],
   "source": []
  },
  {
   "cell_type": "code",
   "execution_count": null,
   "metadata": {},
   "outputs": [],
   "source": [
    "# SK 90 /  M 117 / N 393"
   ]
  },
  {
   "cell_type": "code",
   "execution_count": 76,
   "metadata": {},
   "outputs": [
    {
     "data": {
      "text/plain": [
       "0.5652173913043478"
      ]
     },
     "execution_count": 76,
     "metadata": {},
     "output_type": "execute_result"
    }
   ],
   "source": [
    "117 / (117 + 90)"
   ]
  },
  {
   "cell_type": "code",
   "execution_count": 93,
   "metadata": {},
   "outputs": [],
   "source": [
    "scores = {'acc': 0.818,\n",
    "          'sens': 0.496,\n",
    "          'spec': 0.613}\n",
    "scores = {'acc': 0.613,\n",
    "          'sens': 0.496,\n",
    "          'spec': 0.818}\n",
    "\n",
    "\n",
    "#scores = {'acc': 0.852,\n",
    "#          'sens': 0.402,\n",
    "#          'spec': 0.719}\n",
    "#scores = {'acc': 0.719,\n",
    "#          'sens': 0.402,\n",
    "#          'spec': 0.852}\n",
    "eps = 0.01\n",
    "#dataset = {'p': 117, 'n': 483}\n",
    "#dataset = {'p': 483, 'n': 117}\n",
    "#dataset = {'p': 117, 'n': 90}\n",
    "dataset = {'p': 393, 'n': 117 + 90}"
   ]
  },
  {
   "cell_type": "code",
   "execution_count": 94,
   "metadata": {},
   "outputs": [],
   "source": [
    "n_to_p = ((scores['sens'] - scores['acc'])/(scores['acc'] - scores['spec']))"
   ]
  },
  {
   "cell_type": "code",
   "execution_count": 95,
   "metadata": {},
   "outputs": [
    {
     "data": {
      "text/plain": [
       "224.29756097560977"
      ]
     },
     "execution_count": 95,
     "metadata": {},
     "output_type": "execute_result"
    }
   ],
   "source": [
    "dataset['p']*n_to_p"
   ]
  },
  {
   "cell_type": "code",
   "execution_count": 96,
   "metadata": {},
   "outputs": [
    {
     "data": {
      "text/plain": [
       "0.6129937421777222"
      ]
     },
     "execution_count": 96,
     "metadata": {},
     "output_type": "execute_result"
    }
   ],
   "source": [
    "(scores['sens'] * 117 + scores['spec'] * 66.77) / (117 + 66.77)"
   ]
  },
  {
   "cell_type": "code",
   "execution_count": 97,
   "metadata": {},
   "outputs": [
    {
     "name": "stdout",
     "output_type": "stream",
     "text": [
      "191 171\n",
      "192 170\n",
      "192 171\n",
      "193 169\n",
      "193 170\n",
      "193 171\n",
      "194 168\n",
      "194 169\n",
      "194 170\n",
      "194 171\n",
      "195 168\n",
      "195 169\n",
      "195 170\n",
      "195 171\n",
      "196 168\n",
      "196 169\n",
      "196 170\n",
      "196 171\n",
      "197 168\n",
      "197 169\n",
      "197 170\n",
      "197 171\n",
      "198 168\n",
      "198 169\n",
      "198 170\n",
      "198 171\n"
     ]
    }
   ],
   "source": [
    "for tp in range(dataset['p']+1):\n",
    "    for tn in range(dataset['n']+1):\n",
    "        if abs((tp + tn) / (dataset['p'] + dataset['n']) - scores['acc']) <= eps:\n",
    "            if abs((tp) / (dataset['p']) - scores['sens']) <= eps:\n",
    "                if abs((tn) / (dataset['n']) - scores['spec']) <= eps:\n",
    "                    print(tp, tn)"
   ]
  },
  {
   "cell_type": "code",
   "execution_count": 98,
   "metadata": {},
   "outputs": [
    {
     "name": "stderr",
     "output_type": "stream",
     "text": [
      "2023-10-03 09:30:51,949:INFO:Use this function if the scores originate from the tp and tn statistics calculated on one test set with no aggregation of any kind.\n",
      "2023-10-03 09:30:51,951:INFO:calling the score check with scores {'acc': 0.613, 'sens': 0.496, 'spec': 0.818}, uncertainty 0.01, p 393 and n 207\n",
      "2023-10-03 09:30:51,952:INFO:testing acc, feasible tptn pairs: 208\n",
      "2023-10-03 09:30:51,958:INFO:testing sens, feasible tptn pairs: 208\n",
      "2023-10-03 09:30:51,960:INFO:testing spec, feasible tptn pairs: 19\n",
      "2023-10-03 09:30:51,961:INFO:constructing final tp, tn pair set\n",
      "2023-10-03 09:30:51,962:INFO:final number of intervals: 4\n",
      "2023-10-03 09:30:51,963:INFO:final number of pairs: 26\n"
     ]
    },
    {
     "data": {
      "text/plain": [
       "{'inconsistency': False,\n",
       " 'details': [{'testing': 'acc',\n",
       "   'score_interval': (0.602999, 0.623001),\n",
       "   'n_tptn_pairs_before': 208,\n",
       "   'n_tptn_pairs_after': 208,\n",
       "   'decision': 'continue'},\n",
       "  {'testing': 'sens',\n",
       "   'score_interval': (0.485999, 0.506001),\n",
       "   'n_tptn_pairs_before': 208,\n",
       "   'n_tptn_pairs_after': 19,\n",
       "   'decision': 'continue'},\n",
       "  {'testing': 'spec',\n",
       "   'score_interval': (0.8079989999999999, 0.828001),\n",
       "   'n_tptn_pairs_before': 19,\n",
       "   'n_tptn_pairs_after': 4,\n",
       "   'decision': 'continue'}],\n",
       " 'n_valid_tptn_pairs': 26,\n",
       " 'iterate_by': 'tn',\n",
       " 'solve_for': 'tp',\n",
       " 'evidence': (168, (194, 198))}"
      ]
     },
     "execution_count": 98,
     "metadata": {},
     "output_type": "execute_result"
    }
   ],
   "source": [
    "check_1_testset_no_kfold_scores(testset=dataset,\n",
    "                                eps=eps,\n",
    "                                scores=scores,\n",
    "                                prefilter_by_pairs=False)"
   ]
  },
  {
   "cell_type": "code",
   "execution_count": 161,
   "metadata": {},
   "outputs": [],
   "source": [
    "n = 313\n",
    "p = 562 - 313"
   ]
  },
  {
   "cell_type": "code",
   "execution_count": 165,
   "metadata": {},
   "outputs": [],
   "source": [
    "from mlscorecheck.individual import Interval"
   ]
  },
  {
   "cell_type": "code",
   "execution_count": 166,
   "metadata": {},
   "outputs": [],
   "source": [
    "sens = 0.8861\n",
    "spec = 0.9058\n",
    "sens_i = Interval(sens - 1e-4, sens + 1e-4)\n",
    "spec_i = Interval(spec - 1e-4, spec + 1e-4)"
   ]
  },
  {
   "cell_type": "code",
   "execution_count": 167,
   "metadata": {},
   "outputs": [
    {
     "data": {
      "text/plain": [
       "(220.614, 220.6638)"
      ]
     },
     "execution_count": 167,
     "metadata": {},
     "output_type": "execute_result"
    }
   ],
   "source": [
    "sens_i*p"
   ]
  },
  {
   "cell_type": "code",
   "execution_count": 168,
   "metadata": {},
   "outputs": [
    {
     "data": {
      "text/plain": [
       "(283.4841, 283.5467)"
      ]
     },
     "execution_count": 168,
     "metadata": {},
     "output_type": "execute_result"
    }
   ],
   "source": [
    "spec_i*n"
   ]
  },
  {
   "cell_type": "code",
   "execution_count": 163,
   "metadata": {},
   "outputs": [
    {
     "data": {
      "text/plain": [
       "220.6389"
      ]
     },
     "execution_count": 163,
     "metadata": {},
     "output_type": "execute_result"
    }
   ],
   "source": [
    "sens * p"
   ]
  },
  {
   "cell_type": "code",
   "execution_count": 164,
   "metadata": {},
   "outputs": [
    {
     "data": {
      "text/plain": [
       "283.5154"
      ]
     },
     "execution_count": 164,
     "metadata": {},
     "output_type": "execute_result"
    }
   ],
   "source": [
    "spec * n"
   ]
  },
  {
   "cell_type": "code",
   "execution_count": null,
   "metadata": {},
   "outputs": [],
   "source": []
  }
 ],
 "metadata": {
  "kernelspec": {
   "display_name": "mlscorecheck",
   "language": "python",
   "name": "python3"
  },
  "language_info": {
   "codemirror_mode": {
    "name": "ipython",
    "version": 3
   },
   "file_extension": ".py",
   "mimetype": "text/x-python",
   "name": "python",
   "nbconvert_exporter": "python",
   "pygments_lexer": "ipython3",
   "version": "3.10.0"
  },
  "orig_nbformat": 4
 },
 "nbformat": 4,
 "nbformat_minor": 2
}
