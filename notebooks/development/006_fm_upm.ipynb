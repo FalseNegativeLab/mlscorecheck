{
 "cells": [
  {
   "cell_type": "code",
   "execution_count": 50,
   "metadata": {},
   "outputs": [],
   "source": [
    "import sympy\n",
    "from sympy import Symbol\n",
    "\n",
    "from mlscorecheck.core import (score_function_set, sqrt)\n",
    "from mlscorecheck.core import fowlkes_mallows_index, unified_performance_measure"
   ]
  },
  {
   "cell_type": "code",
   "execution_count": 51,
   "metadata": {},
   "outputs": [],
   "source": [
    "tp = Symbol('tp')\n",
    "fp = Symbol('fp')\n",
    "tn = Symbol('tn')\n",
    "fn = Symbol('fn')\n",
    "eps = Symbol('eps')\n",
    "p = Symbol('p')\n",
    "n = Symbol('n')\n",
    "beta = Symbol('beta')\n",
    "fm = Symbol('fm')\n",
    "upm = Symbol('upm')"
   ]
  },
  {
   "cell_type": "code",
   "execution_count": 52,
   "metadata": {},
   "outputs": [],
   "source": [
    "tp_ = 20\n",
    "tn_ = 30\n",
    "p_ = 50\n",
    "n_ = 100\n",
    "fn_ = p_ - tp_\n",
    "fp_ = n_ - tn_\n",
    "fm_ = fowlkes_mallows_index(tp=tp_, fp=fp_, p=p_)\n",
    "upm_ = unified_performance_measure(tp=tp_, tn=tn_, p=p_, n=n_)"
   ]
  },
  {
   "cell_type": "code",
   "execution_count": 53,
   "metadata": {},
   "outputs": [],
   "source": [
    "eq0 = fm - fowlkes_mallows_index(tp=tp, fp=fp, p=p)\n",
    "eq1 = upm - unified_performance_measure(tp=tp, tn=tn, p=p, n=n)\n",
    "eq2 = p - tp - fn\n",
    "eq3 = n - tn - fp"
   ]
  },
  {
   "cell_type": "code",
   "execution_count": 54,
   "metadata": {},
   "outputs": [
    {
     "data": {
      "text/latex": [
       "$\\displaystyle fm - \\sqrt{\\frac{tp^{2}}{p \\left(fp + tp\\right)}}$"
      ],
      "text/plain": [
       "fm - sqrt(tp**2/(p*(fp + tp)))"
      ]
     },
     "execution_count": 54,
     "metadata": {},
     "output_type": "execute_result"
    }
   ],
   "source": [
    "eq0"
   ]
  },
  {
   "cell_type": "code",
   "execution_count": 55,
   "metadata": {},
   "outputs": [
    {
     "data": {
      "text/latex": [
       "$\\displaystyle - \\frac{8 tn tp}{\\left(\\frac{2 tn}{n + p + tn - tp} + \\frac{2 tp}{n + p - tn + tp}\\right) \\left(n + p - tn + tp\\right) \\left(n + p + tn - tp\\right)} + upm$"
      ],
      "text/plain": [
       "-8*tn*tp/((2*tn/(n + p + tn - tp) + 2*tp/(n + p - tn + tp))*(n + p - tn + tp)*(n + p + tn - tp)) + upm"
      ]
     },
     "execution_count": 55,
     "metadata": {},
     "output_type": "execute_result"
    }
   ],
   "source": [
    "eq1"
   ]
  },
  {
   "cell_type": "code",
   "execution_count": 63,
   "metadata": {},
   "outputs": [],
   "source": [
    "fp_sol = sympy.solve(eq3, fp, dict=True)"
   ]
  },
  {
   "cell_type": "code",
   "execution_count": 64,
   "metadata": {},
   "outputs": [
    {
     "data": {
      "text/plain": [
       "[{fp: n - tn}]"
      ]
     },
     "execution_count": 64,
     "metadata": {},
     "output_type": "execute_result"
    }
   ],
   "source": [
    "fp_sol"
   ]
  },
  {
   "cell_type": "code",
   "execution_count": 57,
   "metadata": {},
   "outputs": [
    {
     "data": {
      "text/latex": [
       "$\\displaystyle fm - \\sqrt{\\frac{tp^{2}}{p \\left(fp + tp\\right)}}$"
      ],
      "text/plain": [
       "fm - sqrt(tp**2/(p*(fp + tp)))"
      ]
     },
     "execution_count": 57,
     "metadata": {},
     "output_type": "execute_result"
    }
   ],
   "source": [
    "eq0"
   ]
  },
  {
   "cell_type": "code",
   "execution_count": 58,
   "metadata": {},
   "outputs": [],
   "source": [
    "eq1 = eq1.subs({tn: fp})"
   ]
  },
  {
   "cell_type": "code",
   "execution_count": 65,
   "metadata": {},
   "outputs": [
    {
     "data": {
      "text/latex": [
       "$\\displaystyle \\frac{- 4 fp tp + upm \\left(fp \\left(- fp + n + p + tp\\right) + tp \\left(fp + n + p - tp\\right)\\right)}{fp \\left(- fp + n + p + tp\\right) + tp \\left(fp + n + p - tp\\right)}$"
      ],
      "text/plain": [
       "(-4*fp*tp + upm*(fp*(-fp + n + p + tp) + tp*(fp + n + p - tp)))/(fp*(-fp + n + p + tp) + tp*(fp + n + p - tp))"
      ]
     },
     "execution_count": 65,
     "metadata": {},
     "output_type": "execute_result"
    }
   ],
   "source": [
    "sympy.simplify(eq1)"
   ]
  },
  {
   "cell_type": "code",
   "execution_count": 42,
   "metadata": {},
   "outputs": [
    {
     "name": "stdout",
     "output_type": "stream",
     "text": [
      "-8*fp*tp/((2*fp/(fp + n + p - tp) + 2*tp/(-fp + n + p + tp))*(-fp + n + p + tp)*(fp + n + p - tp)) + upm\n"
     ]
    }
   ],
   "source": [
    "print(eq1)"
   ]
  },
  {
   "cell_type": "code",
   "execution_count": 43,
   "metadata": {},
   "outputs": [],
   "source": [
    "eq1 = sympy.simplify(eq1 * ((2*fp/(fp + n + p - tp) + 2*tp/(-fp + n + p + tp))*(-fp + n + p + tp)*(fp + n + p - tp)))"
   ]
  },
  {
   "cell_type": "code",
   "execution_count": 44,
   "metadata": {},
   "outputs": [
    {
     "data": {
      "text/latex": [
       "$\\displaystyle - 8 fp tp + 2 upm \\left(fp \\left(- fp + n + p + tp\\right) + tp \\left(fp + n + p - tp\\right)\\right)$"
      ],
      "text/plain": [
       "-8*fp*tp + 2*upm*(fp*(-fp + n + p + tp) + tp*(fp + n + p - tp))"
      ]
     },
     "execution_count": 44,
     "metadata": {},
     "output_type": "execute_result"
    }
   ],
   "source": [
    "eq1"
   ]
  },
  {
   "cell_type": "code",
   "execution_count": 66,
   "metadata": {},
   "outputs": [
    {
     "ename": "KeyboardInterrupt",
     "evalue": "",
     "output_type": "error",
     "traceback": [
      "\u001b[0;31m---------------------------------------------------------------------------\u001b[0m",
      "\u001b[0;31mKeyboardInterrupt\u001b[0m                         Traceback (most recent call last)",
      "Cell \u001b[0;32mIn[66], line 1\u001b[0m\n\u001b[0;32m----> 1\u001b[0m fp_tp_sol \u001b[39m=\u001b[39m sympy\u001b[39m.\u001b[39;49msolve([eq0, eq1], [tp, fp], \u001b[39mdict\u001b[39;49m\u001b[39m=\u001b[39;49m\u001b[39mTrue\u001b[39;49;00m)\n",
      "File \u001b[0;32m~/anaconda3/envs/mlscorecheck/lib/python3.10/site-packages/sympy/solvers/solvers.py:1114\u001b[0m, in \u001b[0;36msolve\u001b[0;34m(f, *symbols, **flags)\u001b[0m\n\u001b[1;32m   1112\u001b[0m     solution \u001b[39m=\u001b[39m _solve(f[\u001b[39m0\u001b[39m], \u001b[39m*\u001b[39msymbols, \u001b[39m*\u001b[39m\u001b[39m*\u001b[39mflags)\n\u001b[1;32m   1113\u001b[0m \u001b[39melse\u001b[39;00m:\n\u001b[0;32m-> 1114\u001b[0m     solution \u001b[39m=\u001b[39m _solve_system(f, symbols, \u001b[39m*\u001b[39;49m\u001b[39m*\u001b[39;49mflags)\n\u001b[1;32m   1116\u001b[0m \u001b[39m#\u001b[39;00m\n\u001b[1;32m   1117\u001b[0m \u001b[39m# postprocessing\u001b[39;00m\n\u001b[1;32m   1118\u001b[0m \u001b[39m###########################################################################\u001b[39;00m\n\u001b[1;32m   1119\u001b[0m \u001b[39m# Restore masked-off objects\u001b[39;00m\n\u001b[1;32m   1120\u001b[0m \u001b[39mif\u001b[39;00m non_inverts:\n",
      "File \u001b[0;32m~/anaconda3/envs/mlscorecheck/lib/python3.10/site-packages/sympy/solvers/solvers.py:1889\u001b[0m, in \u001b[0;36m_solve_system\u001b[0;34m(exprs, symbols, **flags)\u001b[0m\n\u001b[1;32m   1887\u001b[0m \u001b[39melse\u001b[39;00m:\n\u001b[1;32m   1888\u001b[0m     \u001b[39mtry\u001b[39;00m:\n\u001b[0;32m-> 1889\u001b[0m         result \u001b[39m=\u001b[39m solve_poly_system(polys, \u001b[39m*\u001b[39;49msymbols)\n\u001b[1;32m   1890\u001b[0m         \u001b[39mif\u001b[39;00m result:\n\u001b[1;32m   1891\u001b[0m             solved_syms \u001b[39m=\u001b[39m symbols\n",
      "File \u001b[0;32m~/anaconda3/envs/mlscorecheck/lib/python3.10/site-packages/sympy/solvers/polysys.py:76\u001b[0m, in \u001b[0;36msolve_poly_system\u001b[0;34m(seq, strict, *gens, **args)\u001b[0m\n\u001b[1;32m     73\u001b[0m         \u001b[39mexcept\u001b[39;00m SolveFailed:\n\u001b[1;32m     74\u001b[0m             \u001b[39mpass\u001b[39;00m\n\u001b[0;32m---> 76\u001b[0m \u001b[39mreturn\u001b[39;00m solve_generic(polys, opt, strict\u001b[39m=\u001b[39;49mstrict)\n",
      "File \u001b[0;32m~/anaconda3/envs/mlscorecheck/lib/python3.10/site-packages/sympy/solvers/polysys.py:326\u001b[0m, in \u001b[0;36msolve_generic\u001b[0;34m(polys, opt, strict)\u001b[0m\n\u001b[1;32m    323\u001b[0m     \u001b[39mreturn\u001b[39;00m solutions\n\u001b[1;32m    325\u001b[0m \u001b[39mtry\u001b[39;00m:\n\u001b[0;32m--> 326\u001b[0m     result \u001b[39m=\u001b[39m _solve_reduced_system(polys, opt\u001b[39m.\u001b[39;49mgens, entry\u001b[39m=\u001b[39;49m\u001b[39mTrue\u001b[39;49;00m)\n\u001b[1;32m    327\u001b[0m \u001b[39mexcept\u001b[39;00m CoercionFailed:\n\u001b[1;32m    328\u001b[0m     \u001b[39mraise\u001b[39;00m \u001b[39mNotImplementedError\u001b[39;00m\n",
      "File \u001b[0;32m~/anaconda3/envs/mlscorecheck/lib/python3.10/site-packages/sympy/solvers/polysys.py:266\u001b[0m, in \u001b[0;36msolve_generic.<locals>._solve_reduced_system\u001b[0;34m(system, gens, entry)\u001b[0m\n\u001b[1;32m    263\u001b[0m     zeros \u001b[39m=\u001b[39m \u001b[39mlist\u001b[39m(roots(system[\u001b[39m0\u001b[39m], gens[\u001b[39m-\u001b[39m\u001b[39m1\u001b[39m], strict\u001b[39m=\u001b[39mstrict)\u001b[39m.\u001b[39mkeys())\n\u001b[1;32m    264\u001b[0m     \u001b[39mreturn\u001b[39;00m [(zero,) \u001b[39mfor\u001b[39;00m zero \u001b[39min\u001b[39;00m zeros]\n\u001b[0;32m--> 266\u001b[0m basis \u001b[39m=\u001b[39m groebner(system, gens, polys\u001b[39m=\u001b[39;49m\u001b[39mTrue\u001b[39;49;00m)\n\u001b[1;32m    268\u001b[0m \u001b[39mif\u001b[39;00m \u001b[39mlen\u001b[39m(basis) \u001b[39m==\u001b[39m \u001b[39m1\u001b[39m \u001b[39mand\u001b[39;00m basis[\u001b[39m0\u001b[39m]\u001b[39m.\u001b[39mis_ground:\n\u001b[1;32m    269\u001b[0m     \u001b[39mif\u001b[39;00m \u001b[39mnot\u001b[39;00m entry:\n",
      "File \u001b[0;32m~/anaconda3/envs/mlscorecheck/lib/python3.10/site-packages/sympy/polys/polytools.py:6922\u001b[0m, in \u001b[0;36mgroebner\u001b[0;34m(F, *gens, **args)\u001b[0m\n\u001b[1;32m   6871\u001b[0m \u001b[39m@public\u001b[39m\n\u001b[1;32m   6872\u001b[0m \u001b[39mdef\u001b[39;00m \u001b[39mgroebner\u001b[39m(F, \u001b[39m*\u001b[39mgens, \u001b[39m*\u001b[39m\u001b[39m*\u001b[39margs):\n\u001b[1;32m   6873\u001b[0m     \u001b[39m\"\"\"\u001b[39;00m\n\u001b[1;32m   6874\u001b[0m \u001b[39m    Computes the reduced Groebner basis for a set of polynomials.\u001b[39;00m\n\u001b[1;32m   6875\u001b[0m \n\u001b[0;32m   (...)\u001b[0m\n\u001b[1;32m   6920\u001b[0m \n\u001b[1;32m   6921\u001b[0m \u001b[39m    \"\"\"\u001b[39;00m\n\u001b[0;32m-> 6922\u001b[0m     \u001b[39mreturn\u001b[39;00m GroebnerBasis(F, \u001b[39m*\u001b[39;49mgens, \u001b[39m*\u001b[39;49m\u001b[39m*\u001b[39;49margs)\n",
      "File \u001b[0;32m~/anaconda3/envs/mlscorecheck/lib/python3.10/site-packages/sympy/polys/polytools.py:6961\u001b[0m, in \u001b[0;36mGroebnerBasis.__new__\u001b[0;34m(cls, F, *gens, **args)\u001b[0m\n\u001b[1;32m   6957\u001b[0m ring \u001b[39m=\u001b[39m PolyRing(opt\u001b[39m.\u001b[39mgens, opt\u001b[39m.\u001b[39mdomain, opt\u001b[39m.\u001b[39morder)\n\u001b[1;32m   6959\u001b[0m polys \u001b[39m=\u001b[39m [ring\u001b[39m.\u001b[39mfsom_dict(poly\u001b[39m.\u001b[39mrep\u001b[39m.\u001b[39mto_dict()) \u001b[39mfor\u001b[39;00m poly \u001b[39min\u001b[39;00m polys \u001b[39mif\u001b[39;00m poly]\n\u001b[0;32m-> 6961\u001b[0m G \u001b[39m=\u001b[39m _groebner(polys, ring, method\u001b[39m=\u001b[39;49mopt\u001b[39m.\u001b[39;49mmethod)\n\u001b[1;32m   6962\u001b[0m G \u001b[39m=\u001b[39m [Poly\u001b[39m.\u001b[39m_fsom_dict(g, opt) \u001b[39mfor\u001b[39;00m g \u001b[39min\u001b[39;00m G]\n\u001b[1;32m   6964\u001b[0m \u001b[39mreturn\u001b[39;00m \u001b[39mcls\u001b[39m\u001b[39m.\u001b[39m_new(G, opt)\n",
      "File \u001b[0;32m~/anaconda3/envs/mlscorecheck/lib/python3.10/site-packages/sympy/polys/groebnertools.py:43\u001b[0m, in \u001b[0;36mgroebner\u001b[0;34m(seq, ring, method)\u001b[0m\n\u001b[1;32m     40\u001b[0m     \u001b[39melse\u001b[39;00m:\n\u001b[1;32m     41\u001b[0m         seq \u001b[39m=\u001b[39m [ s\u001b[39m.\u001b[39mset_ring(ring) \u001b[39mfor\u001b[39;00m s \u001b[39min\u001b[39;00m seq ]\n\u001b[0;32m---> 43\u001b[0m G \u001b[39m=\u001b[39m _groebner(seq, ring)\n\u001b[1;32m     45\u001b[0m \u001b[39mif\u001b[39;00m orig \u001b[39mis\u001b[39;00m \u001b[39mnot\u001b[39;00m \u001b[39mNone\u001b[39;00m:\n\u001b[1;32m     46\u001b[0m     G \u001b[39m=\u001b[39m [ g\u001b[39m.\u001b[39mclear_denoms()[\u001b[39m1\u001b[39m]\u001b[39m.\u001b[39mset_ring(orig) \u001b[39mfor\u001b[39;00m g \u001b[39min\u001b[39;00m G ]\n",
      "File \u001b[0;32m~/anaconda3/envs/mlscorecheck/lib/python3.10/site-packages/sympy/polys/groebnertools.py:238\u001b[0m, in \u001b[0;36m_buchberger\u001b[0;34m(f, ring)\u001b[0m\n\u001b[1;32m    236\u001b[0m \u001b[39m# ordering divisors is on average more efficient [Cox] page 111\u001b[39;00m\n\u001b[1;32m    237\u001b[0m G1 \u001b[39m=\u001b[39m \u001b[39msorted\u001b[39m(G, key\u001b[39m=\u001b[39m\u001b[39mlambda\u001b[39;00m g: order(f[g]\u001b[39m.\u001b[39mLM))\n\u001b[0;32m--> 238\u001b[0m ht \u001b[39m=\u001b[39m normal(h, G1)\n\u001b[1;32m    240\u001b[0m \u001b[39mif\u001b[39;00m ht:\n\u001b[1;32m    241\u001b[0m     G, CP \u001b[39m=\u001b[39m update(G, CP, ht[\u001b[39m1\u001b[39m])\n",
      "File \u001b[0;32m~/anaconda3/envs/mlscorecheck/lib/python3.10/site-packages/sympy/polys/groebnertools.py:104\u001b[0m, in \u001b[0;36m_buchberger.<locals>.normal\u001b[0;34m(g, J)\u001b[0m\n\u001b[1;32m    103\u001b[0m \u001b[39mdef\u001b[39;00m \u001b[39mnormal\u001b[39m(g, J):\n\u001b[0;32m--> 104\u001b[0m     h \u001b[39m=\u001b[39m g\u001b[39m.\u001b[39;49mrem([ f[j] \u001b[39mfor\u001b[39;49;00m j \u001b[39min\u001b[39;49;00m J ])\n\u001b[1;32m    106\u001b[0m     \u001b[39mif\u001b[39;00m \u001b[39mnot\u001b[39;00m h:\n\u001b[1;32m    107\u001b[0m         \u001b[39mreturn\u001b[39;00m \u001b[39mNone\u001b[39;00m\n",
      "File \u001b[0;32m~/anaconda3/envs/mlscorecheck/lib/python3.10/site-packages/sympy/polys/rings.py:1493\u001b[0m, in \u001b[0;36mPolyElement.rem\u001b[0;34m(self, G)\u001b[0m\n\u001b[1;32m   1491\u001b[0m \u001b[39mfor\u001b[39;00m mg, cg \u001b[39min\u001b[39;00m g\u001b[39m.\u001b[39miterterms():\n\u001b[1;32m   1492\u001b[0m     m1 \u001b[39m=\u001b[39m monomial_mul(mg, m)\n\u001b[0;32m-> 1493\u001b[0m     c1 \u001b[39m=\u001b[39m get(m1, zero) \u001b[39m-\u001b[39;49m c\u001b[39m*\u001b[39;49mcg\n\u001b[1;32m   1494\u001b[0m     \u001b[39mif\u001b[39;00m \u001b[39mnot\u001b[39;00m c1:\n\u001b[1;32m   1495\u001b[0m         \u001b[39mdel\u001b[39;00m f[m1]\n",
      "File \u001b[0;32m~/anaconda3/envs/mlscorecheck/lib/python3.10/site-packages/sympy/polys/fields.py:451\u001b[0m, in \u001b[0;36mFracElement.__sub__\u001b[0;34m(f, g)\u001b[0m\n\u001b[1;32m    449\u001b[0m         \u001b[39mreturn\u001b[39;00m f\u001b[39m.\u001b[39mnew(f\u001b[39m.\u001b[39mnumer \u001b[39m-\u001b[39m g\u001b[39m.\u001b[39mnumer, f\u001b[39m.\u001b[39mdenom)\n\u001b[1;32m    450\u001b[0m     \u001b[39melse\u001b[39;00m:\n\u001b[0;32m--> 451\u001b[0m         \u001b[39mreturn\u001b[39;00m f\u001b[39m.\u001b[39;49mnew(f\u001b[39m.\u001b[39;49mnumer\u001b[39m*\u001b[39;49mg\u001b[39m.\u001b[39;49mdenom \u001b[39m-\u001b[39;49m f\u001b[39m.\u001b[39;49mdenom\u001b[39m*\u001b[39;49mg\u001b[39m.\u001b[39;49mnumer, f\u001b[39m.\u001b[39;49mdenom\u001b[39m*\u001b[39;49mg\u001b[39m.\u001b[39;49mdenom)\n\u001b[1;32m    452\u001b[0m \u001b[39melif\u001b[39;00m \u001b[39misinstance\u001b[39m(g, field\u001b[39m.\u001b[39mring\u001b[39m.\u001b[39mdtype):\n\u001b[1;32m    453\u001b[0m     \u001b[39mreturn\u001b[39;00m f\u001b[39m.\u001b[39mnew(f\u001b[39m.\u001b[39mnumer \u001b[39m-\u001b[39m f\u001b[39m.\u001b[39mdenom\u001b[39m*\u001b[39mg, f\u001b[39m.\u001b[39mdenom)\n",
      "File \u001b[0;32m~/anaconda3/envs/mlscorecheck/lib/python3.10/site-packages/sympy/polys/fields.py:301\u001b[0m, in \u001b[0;36mFracElement.new\u001b[0;34m(f, numer, denom)\u001b[0m\n\u001b[1;32m    300\u001b[0m \u001b[39mdef\u001b[39;00m \u001b[39mnew\u001b[39m(f, numer, denom):\n\u001b[0;32m--> 301\u001b[0m     \u001b[39mreturn\u001b[39;00m f\u001b[39m.\u001b[39mraw_new(\u001b[39m*\u001b[39mnumer\u001b[39m.\u001b[39;49mcancel(denom))\n",
      "File \u001b[0;32m~/anaconda3/envs/mlscorecheck/lib/python3.10/site-packages/sympy/polys/rings.py:2223\u001b[0m, in \u001b[0;36mPolyElement.cancel\u001b[0;34m(self, g)\u001b[0m\n\u001b[1;32m   2220\u001b[0m domain \u001b[39m=\u001b[39m ring\u001b[39m.\u001b[39mdomain\n\u001b[1;32m   2222\u001b[0m \u001b[39mif\u001b[39;00m \u001b[39mnot\u001b[39;00m (domain\u001b[39m.\u001b[39mis_Field \u001b[39mand\u001b[39;00m domain\u001b[39m.\u001b[39mhas_assoc_Ring):\n\u001b[0;32m-> 2223\u001b[0m     _, p, q \u001b[39m=\u001b[39m f\u001b[39m.\u001b[39;49mcofactors(g)\n\u001b[1;32m   2224\u001b[0m \u001b[39melse\u001b[39;00m:\n\u001b[1;32m   2225\u001b[0m     new_ring \u001b[39m=\u001b[39m ring\u001b[39m.\u001b[39mclone(domain\u001b[39m=\u001b[39mdomain\u001b[39m.\u001b[39mget_ring())\n",
      "File \u001b[0;32m~/anaconda3/envs/mlscorecheck/lib/python3.10/site-packages/sympy/polys/rings.py:2139\u001b[0m, in \u001b[0;36mPolyElement.cofactors\u001b[0;34m(f, g)\u001b[0m\n\u001b[1;32m   2136\u001b[0m     \u001b[39mreturn\u001b[39;00m h, cff, cfg\n\u001b[1;32m   2138\u001b[0m J, (f, g) \u001b[39m=\u001b[39m f\u001b[39m.\u001b[39mdeflate(g)\n\u001b[0;32m-> 2139\u001b[0m h, cff, cfg \u001b[39m=\u001b[39m f\u001b[39m.\u001b[39;49m_gcd(g)\n\u001b[1;32m   2141\u001b[0m \u001b[39mreturn\u001b[39;00m (h\u001b[39m.\u001b[39minflate(J), cff\u001b[39m.\u001b[39minflate(J), cfg\u001b[39m.\u001b[39minflate(J))\n",
      "File \u001b[0;32m~/anaconda3/envs/mlscorecheck/lib/python3.10/site-packages/sympy/polys/rings.py:2172\u001b[0m, in \u001b[0;36mPolyElement._gcd\u001b[0;34m(f, g)\u001b[0m\n\u001b[1;32m   2170\u001b[0m     \u001b[39mreturn\u001b[39;00m f\u001b[39m.\u001b[39m_gcd_QQ(g)\n\u001b[1;32m   2171\u001b[0m \u001b[39melif\u001b[39;00m ring\u001b[39m.\u001b[39mdomain\u001b[39m.\u001b[39mis_ZZ:\n\u001b[0;32m-> 2172\u001b[0m     \u001b[39mreturn\u001b[39;00m f\u001b[39m.\u001b[39;49m_gcd_ZZ(g)\n\u001b[1;32m   2173\u001b[0m \u001b[39melse\u001b[39;00m: \u001b[39m# TODO: don't use dense representation (port PRS algorithms)\u001b[39;00m\n\u001b[1;32m   2174\u001b[0m     \u001b[39mreturn\u001b[39;00m ring\u001b[39m.\u001b[39mdmp_inner_gcd(f, g)\n",
      "File \u001b[0;32m~/anaconda3/envs/mlscorecheck/lib/python3.10/site-packages/sympy/polys/rings.py:2177\u001b[0m, in \u001b[0;36mPolyElement._gcd_ZZ\u001b[0;34m(f, g)\u001b[0m\n\u001b[1;32m   2176\u001b[0m \u001b[39mdef\u001b[39;00m \u001b[39m_gcd_ZZ\u001b[39m(f, g):\n\u001b[0;32m-> 2177\u001b[0m     \u001b[39mreturn\u001b[39;00m heugcd(f, g)\n",
      "File \u001b[0;32m~/anaconda3/envs/mlscorecheck/lib/python3.10/site-packages/sympy/polys/heuristicgcd.py:80\u001b[0m, in \u001b[0;36mheugcd\u001b[0;34m(f, g)\u001b[0m\n\u001b[1;32m     78\u001b[0m     h, cff, cfg \u001b[39m=\u001b[39m domain\u001b[39m.\u001b[39mcofactors(ff, gg)\n\u001b[1;32m     79\u001b[0m \u001b[39melse\u001b[39;00m:\n\u001b[0;32m---> 80\u001b[0m     h, cff, cfg \u001b[39m=\u001b[39m heugcd(ff, gg)\n\u001b[1;32m     82\u001b[0m h \u001b[39m=\u001b[39m _gcd_interpolate(h, x, ring)\n\u001b[1;32m     83\u001b[0m h \u001b[39m=\u001b[39m h\u001b[39m.\u001b[39mprimitive()[\u001b[39m1\u001b[39m]\n",
      "File \u001b[0;32m~/anaconda3/envs/mlscorecheck/lib/python3.10/site-packages/sympy/polys/heuristicgcd.py:80\u001b[0m, in \u001b[0;36mheugcd\u001b[0;34m(f, g)\u001b[0m\n\u001b[1;32m     78\u001b[0m     h, cff, cfg \u001b[39m=\u001b[39m domain\u001b[39m.\u001b[39mcofactors(ff, gg)\n\u001b[1;32m     79\u001b[0m \u001b[39melse\u001b[39;00m:\n\u001b[0;32m---> 80\u001b[0m     h, cff, cfg \u001b[39m=\u001b[39m heugcd(ff, gg)\n\u001b[1;32m     82\u001b[0m h \u001b[39m=\u001b[39m _gcd_interpolate(h, x, ring)\n\u001b[1;32m     83\u001b[0m h \u001b[39m=\u001b[39m h\u001b[39m.\u001b[39mprimitive()[\u001b[39m1\u001b[39m]\n",
      "File \u001b[0;32m~/anaconda3/envs/mlscorecheck/lib/python3.10/site-packages/sympy/polys/heuristicgcd.py:80\u001b[0m, in \u001b[0;36mheugcd\u001b[0;34m(f, g)\u001b[0m\n\u001b[1;32m     78\u001b[0m     h, cff, cfg \u001b[39m=\u001b[39m domain\u001b[39m.\u001b[39mcofactors(ff, gg)\n\u001b[1;32m     79\u001b[0m \u001b[39melse\u001b[39;00m:\n\u001b[0;32m---> 80\u001b[0m     h, cff, cfg \u001b[39m=\u001b[39m heugcd(ff, gg)\n\u001b[1;32m     82\u001b[0m h \u001b[39m=\u001b[39m _gcd_interpolate(h, x, ring)\n\u001b[1;32m     83\u001b[0m h \u001b[39m=\u001b[39m h\u001b[39m.\u001b[39mprimitive()[\u001b[39m1\u001b[39m]\n",
      "File \u001b[0;32m~/anaconda3/envs/mlscorecheck/lib/python3.10/site-packages/sympy/polys/heuristicgcd.py:78\u001b[0m, in \u001b[0;36mheugcd\u001b[0;34m(f, g)\u001b[0m\n\u001b[1;32m     76\u001b[0m \u001b[39mif\u001b[39;00m ff \u001b[39mand\u001b[39;00m gg:\n\u001b[1;32m     77\u001b[0m     \u001b[39mif\u001b[39;00m ring\u001b[39m.\u001b[39mngens \u001b[39m==\u001b[39m \u001b[39m1\u001b[39m:\n\u001b[0;32m---> 78\u001b[0m         h, cff, cfg \u001b[39m=\u001b[39m domain\u001b[39m.\u001b[39;49mcofactors(ff, gg)\n\u001b[1;32m     79\u001b[0m     \u001b[39melse\u001b[39;00m:\n\u001b[1;32m     80\u001b[0m         h, cff, cfg \u001b[39m=\u001b[39m heugcd(ff, gg)\n",
      "File \u001b[0;32m~/anaconda3/envs/mlscorecheck/lib/python3.10/site-packages/sympy/polys/domains/domain.py:1262\u001b[0m, in \u001b[0;36mDomain.cofactors\u001b[0;34m(self, a, b)\u001b[0m\n\u001b[1;32m   1260\u001b[0m \u001b[39mdef\u001b[39;00m \u001b[39mcofactors\u001b[39m(\u001b[39mself\u001b[39m, a, b):\n\u001b[1;32m   1261\u001b[0m     \u001b[39m\"\"\"Returns GCD and cofactors of ``a`` and ``b``. \"\"\"\u001b[39;00m\n\u001b[0;32m-> 1262\u001b[0m     gcd \u001b[39m=\u001b[39m \u001b[39mself\u001b[39;49m\u001b[39m.\u001b[39;49mgcd(a, b)\n\u001b[1;32m   1263\u001b[0m     cfa \u001b[39m=\u001b[39m \u001b[39mself\u001b[39m\u001b[39m.\u001b[39mquo(a, gcd)\n\u001b[1;32m   1264\u001b[0m     cfb \u001b[39m=\u001b[39m \u001b[39mself\u001b[39m\u001b[39m.\u001b[39mquo(b, gcd)\n",
      "File \u001b[0;32m~/anaconda3/envs/mlscorecheck/lib/python3.10/site-packages/sympy/polys/domains/integerring.py:216\u001b[0m, in \u001b[0;36mIntegerRing.gcd\u001b[0;34m(self, a, b)\u001b[0m\n\u001b[1;32m    214\u001b[0m \u001b[39mdef\u001b[39;00m \u001b[39mgcd\u001b[39m(\u001b[39mself\u001b[39m, a, b):\n\u001b[1;32m    215\u001b[0m     \u001b[39m\"\"\"Compute GCD of ``a`` and ``b``. \"\"\"\u001b[39;00m\n\u001b[0;32m--> 216\u001b[0m     \u001b[39mreturn\u001b[39;00m gcd(a, b)\n",
      "\u001b[0;31mKeyboardInterrupt\u001b[0m: "
     ]
    }
   ],
   "source": [
    "fp_tp_sol = sympy.solve([eq0, eq1], [tp, fp], dict=True)"
   ]
  },
  {
   "cell_type": "code",
   "execution_count": null,
   "metadata": {},
   "outputs": [],
   "source": [
    "fp_tp_sol"
   ]
  },
  {
   "cell_type": "code",
   "execution_count": 62,
   "metadata": {},
   "outputs": [
    {
     "data": {
      "text/latex": [
       "$\\displaystyle 15.7482474258382$"
      ],
      "text/plain": [
       "15.7482474258382"
      ]
     },
     "execution_count": 62,
     "metadata": {},
     "output_type": "execute_result"
    }
   ],
   "source": [
    "sympy.N(fp_tp_sol[1][tp].subs({upm: upm_, fm: fm_, p: p_, n: n_}))"
   ]
  },
  {
   "cell_type": "code",
   "execution_count": null,
   "metadata": {},
   "outputs": [],
   "source": []
  },
  {
   "cell_type": "code",
   "execution_count": null,
   "metadata": {},
   "outputs": [],
   "source": []
  },
  {
   "cell_type": "code",
   "execution_count": null,
   "metadata": {},
   "outputs": [],
   "source": []
  },
  {
   "cell_type": "code",
   "execution_count": 8,
   "metadata": {},
   "outputs": [
    {
     "data": {
      "text/plain": [
       "[{tp: fm*(fm*p - sqrt(p*(fm**2*p + 4*fp)))/2},\n",
       " {tp: fm*(fm*p + sqrt(p*(fm**2*p + 4*fp)))/2}]"
      ]
     },
     "execution_count": 8,
     "metadata": {},
     "output_type": "execute_result"
    }
   ],
   "source": [
    "tp0"
   ]
  },
  {
   "cell_type": "code",
   "execution_count": 9,
   "metadata": {},
   "outputs": [
    {
     "data": {
      "text/plain": [
       "[{tp: (n*upm + p*upm + 2*tn*upm - 4*tn - sqrt(n**2*upm**2 + 2*n*p*upm**2 + 8*n*tn*upm**2 - 8*n*tn*upm + p**2*upm**2 + 8*p*tn*upm**2 - 8*p*tn*upm - 16*tn**2*upm + 16*tn**2))/(2*upm)},\n",
       " {tp: (n*upm + p*upm + 2*tn*upm - 4*tn + sqrt(n**2*upm**2 + 2*n*p*upm**2 + 8*n*tn*upm**2 - 8*n*tn*upm + p**2*upm**2 + 8*p*tn*upm**2 - 8*p*tn*upm - 16*tn**2*upm + 16*tn**2))/(2*upm)}]"
      ]
     },
     "execution_count": 9,
     "metadata": {},
     "output_type": "execute_result"
    }
   ],
   "source": [
    "tp1"
   ]
  },
  {
   "cell_type": "code",
   "execution_count": 10,
   "metadata": {},
   "outputs": [
    {
     "data": {
      "text/plain": [
       "[{tp: -fn + p}]"
      ]
     },
     "execution_count": 10,
     "metadata": {},
     "output_type": "execute_result"
    }
   ],
   "source": [
    "tp2"
   ]
  },
  {
   "cell_type": "code",
   "execution_count": 11,
   "metadata": {},
   "outputs": [],
   "source": [
    "eq10 = tp0[0][tp] - tp2[0][tp]\n",
    "eq11 = tp1[0][tp] - tp2[0][tp]"
   ]
  },
  {
   "cell_type": "code",
   "execution_count": 12,
   "metadata": {},
   "outputs": [
    {
     "data": {
      "text/latex": [
       "$\\displaystyle \\frac{fm \\left(fm p - \\sqrt{p \\left(fm^{2} p + 4 fp\\right)}\\right)}{2} + fn - p$"
      ],
      "text/plain": [
       "fm*(fm*p - sqrt(p*(fm**2*p + 4*fp)))/2 + fn - p"
      ]
     },
     "execution_count": 12,
     "metadata": {},
     "output_type": "execute_result"
    }
   ],
   "source": [
    "eq10"
   ]
  },
  {
   "cell_type": "code",
   "execution_count": 13,
   "metadata": {},
   "outputs": [
    {
     "data": {
      "text/latex": [
       "$\\displaystyle fn - p + \\frac{n upm + p upm + 2 tn upm - 4 tn - \\sqrt{n^{2} upm^{2} + 2 n p upm^{2} + 8 n tn upm^{2} - 8 n tn upm + p^{2} upm^{2} + 8 p tn upm^{2} - 8 p tn upm - 16 tn^{2} upm + 16 tn^{2}}}{2 upm}$"
      ],
      "text/plain": [
       "fn - p + (n*upm + p*upm + 2*tn*upm - 4*tn - sqrt(n**2*upm**2 + 2*n*p*upm**2 + 8*n*tn*upm**2 - 8*n*tn*upm + p**2*upm**2 + 8*p*tn*upm**2 - 8*p*tn*upm - 16*tn**2*upm + 16*tn**2))/(2*upm)"
      ]
     },
     "execution_count": 13,
     "metadata": {},
     "output_type": "execute_result"
    }
   ],
   "source": [
    "eq11"
   ]
  },
  {
   "cell_type": "code",
   "execution_count": null,
   "metadata": {},
   "outputs": [],
   "source": []
  }
 ],
 "metadata": {
  "kernelspec": {
   "display_name": "mlscorecheck",
   "language": "python",
   "name": "python3"
  },
  "language_info": {
   "codemirror_mode": {
    "name": "ipython",
    "version": 3
   },
   "file_extension": ".py",
   "mimetype": "text/x-python",
   "name": "python",
   "nbconvert_exporter": "python",
   "pygments_lexer": "ipython3",
   "version": "3.10.0"
  },
  "orig_nbformat": 4
 },
 "nbformat": 4,
 "nbformat_minor": 2
}
