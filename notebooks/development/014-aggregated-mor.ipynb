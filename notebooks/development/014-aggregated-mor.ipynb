{
 "cells": [
  {
   "cell_type": "code",
   "execution_count": 5,
   "metadata": {},
   "outputs": [],
   "source": [
    "import pulp as pl\n",
    "\n",
    "from mlscorecheck.core import add_accuracy_mor, generate_structure_1, generate_structure_group\n",
    "from mlscorecheck.core import consistency_1, consistency_grouped\n",
    "from mlscorecheck.utils import (calculate_scores_mor)\n",
    "from mlscorecheck.datasets import lookup_dataset\n"
   ]
  },
  {
   "cell_type": "code",
   "execution_count": 6,
   "metadata": {},
   "outputs": [
    {
     "data": {
      "text/plain": [
       "{'p': 1029, 'n': 3118}"
      ]
     },
     "execution_count": 6,
     "metadata": {},
     "output_type": "execute_result"
    }
   ],
   "source": [
    "lookup_dataset('common_datasets.ADA')"
   ]
  },
  {
   "cell_type": "code",
   "execution_count": 7,
   "metadata": {},
   "outputs": [],
   "source": [
    "import common_datasets.binary_classification as binclas"
   ]
  },
  {
   "cell_type": "code",
   "execution_count": 8,
   "metadata": {},
   "outputs": [],
   "source": [
    "cols = binclas.get_summary_pdf()[['name', 'n', 'n_minority']]"
   ]
  },
  {
   "cell_type": "code",
   "execution_count": 9,
   "metadata": {},
   "outputs": [],
   "source": [
    "cols = cols.rename(columns={'n_minority': 'p', 'n': 'total'})\n",
    "cols['n'] = cols['total'] - cols['p']\n",
    "cols = cols.drop(columns='total')"
   ]
  },
  {
   "cell_type": "code",
   "execution_count": 10,
   "metadata": {},
   "outputs": [
    {
     "data": {
      "text/plain": [
       "[{'name': 'abalone19', 'p': 32, 'n': 4142},\n",
       " {'name': 'abalone9_18', 'p': 42, 'n': 689},\n",
       " {'name': 'abalone-17_vs_7-8-9-10', 'p': 58, 'n': 2280},\n",
       " {'name': 'abalone-19_vs_10-11-12-13', 'p': 32, 'n': 1590},\n",
       " {'name': 'abalone-20_vs_8_9_10', 'p': 26, 'n': 1890},\n",
       " {'name': 'abalone-22_vs_8', 'p': 14, 'n': 567},\n",
       " {'name': 'abalone-3_vs_11', 'p': 15, 'n': 487},\n",
       " {'name': 'ADA', 'p': 1029, 'n': 3118},\n",
       " {'name': 'appendicitis', 'p': 21, 'n': 85},\n",
       " {'name': 'australian', 'p': 307, 'n': 383},\n",
       " {'name': 'bupa', 'p': 145, 'n': 200},\n",
       " {'name': 'car_good', 'p': 69, 'n': 1659},\n",
       " {'name': 'car-vgood', 'p': 65, 'n': 1663},\n",
       " {'name': 'cleveland-0_vs_4', 'p': 13, 'n': 164},\n",
       " {'name': 'CM1', 'p': 49, 'n': 449},\n",
       " {'name': 'crx', 'p': 296, 'n': 357},\n",
       " {'name': 'dermatology-6', 'p': 20, 'n': 338},\n",
       " {'name': 'ecoli1', 'p': 77, 'n': 259},\n",
       " {'name': 'ecoli2', 'p': 52, 'n': 284},\n",
       " {'name': 'ecoli3', 'p': 35, 'n': 301},\n",
       " {'name': 'ecoli4', 'p': 20, 'n': 316},\n",
       " {'name': 'ecoli_0_1_3_7_vs_2_6', 'p': 7, 'n': 274},\n",
       " {'name': 'ecoli_0_1_4_6_vs_5', 'p': 20, 'n': 260},\n",
       " {'name': 'ecoli_0_1_4_7_vs_2_3_5_6', 'p': 29, 'n': 307},\n",
       " {'name': 'ecoli_0_1_4_7_vs_5_6', 'p': 25, 'n': 307},\n",
       " {'name': 'ecoli_0_1_vs_2_3_5', 'p': 24, 'n': 220},\n",
       " {'name': 'ecoli_0_1_vs_5', 'p': 20, 'n': 220},\n",
       " {'name': 'ecoli_0_2_3_4_vs_5', 'p': 20, 'n': 182},\n",
       " {'name': 'ecoli_0_2_6_7_vs_3_5', 'p': 22, 'n': 202},\n",
       " {'name': 'ecoli_0_3_4_6_vs_5', 'p': 20, 'n': 185},\n",
       " {'name': 'ecoli_0_3_4_7_vs_5_6', 'p': 25, 'n': 232},\n",
       " {'name': 'ecoli_0_3_4_vs_5', 'p': 20, 'n': 180},\n",
       " {'name': 'ecoli_0_4_6_vs_5', 'p': 20, 'n': 183},\n",
       " {'name': 'ecoli_0_6_7_vs_3_5', 'p': 22, 'n': 200},\n",
       " {'name': 'ecoli_0_6_7_vs_5', 'p': 20, 'n': 200},\n",
       " {'name': 'ecoli_0_vs_1', 'p': 77, 'n': 143},\n",
       " {'name': 'flare-F', 'p': 43, 'n': 1023},\n",
       " {'name': 'german', 'p': 1, 'n': 999},\n",
       " {'name': 'glass0', 'p': 70, 'n': 144},\n",
       " {'name': 'glass1', 'p': 76, 'n': 138},\n",
       " {'name': 'glass2', 'p': 17, 'n': 197},\n",
       " {'name': 'glass4', 'p': 13, 'n': 201},\n",
       " {'name': 'glass5', 'p': 9, 'n': 205},\n",
       " {'name': 'glass6', 'p': 29, 'n': 185},\n",
       " {'name': 'glass_0_1_2_3_vs_4_5_6', 'p': 51, 'n': 163},\n",
       " {'name': 'glass_0_1_4_6_vs_2', 'p': 17, 'n': 188},\n",
       " {'name': 'glass_0_1_5_vs_2', 'p': 17, 'n': 155},\n",
       " {'name': 'glass_0_1_6_vs_2', 'p': 17, 'n': 175},\n",
       " {'name': 'glass_0_1_6_vs_5', 'p': 9, 'n': 175},\n",
       " {'name': 'glass_0_4_vs_5', 'p': 9, 'n': 83},\n",
       " {'name': 'glass_0_6_vs_5', 'p': 9, 'n': 99},\n",
       " {'name': 'haberman', 'p': 81, 'n': 225},\n",
       " {'name': 'hepatitis', 'p': 32, 'n': 123},\n",
       " {'name': 'hypothyroid', 'p': 151, 'n': 3012},\n",
       " {'name': 'ionosphere', 'p': 126, 'n': 225},\n",
       " {'name': 'iris0', 'p': 50, 'n': 100},\n",
       " {'name': 'KC1', 'p': 326, 'n': 1783},\n",
       " {'name': 'kddcup-buffer_overflow_vs_back', 'p': 30, 'n': 2203},\n",
       " {'name': 'kddcup-guess_passwd_vs_satan', 'p': 53, 'n': 1589},\n",
       " {'name': 'kddcup-land_vs_portsweep', 'p': 21, 'n': 1040},\n",
       " {'name': 'kddcup-land_vs_satan', 'p': 21, 'n': 1589},\n",
       " {'name': 'kddcup-rootkit-imap_vs_back', 'p': 22, 'n': 2203},\n",
       " {'name': 'kr_vs_k_one_vs_fifteen', 'p': 78, 'n': 2166},\n",
       " {'name': 'kr-vs-k-three_vs_eleven', 'p': 81, 'n': 2854},\n",
       " {'name': 'kr-vs-k-zero-one_vs_draw', 'p': 105, 'n': 2796},\n",
       " {'name': 'kr-vs-k-zero_vs_eight', 'p': 27, 'n': 1433},\n",
       " {'name': 'kr-vs-k-zero_vs_fifteen', 'p': 27, 'n': 2166},\n",
       " {'name': 'led7digit-0-2-4-6-7-8-9_vs_1', 'p': 37, 'n': 406},\n",
       " {'name': 'lymphography', 'p': 4, 'n': 144},\n",
       " {'name': 'lymphography-normal-fibrosis', 'p': 6, 'n': 142},\n",
       " {'name': 'mammographic', 'p': 403, 'n': 427},\n",
       " {'name': 'monk-2', 'p': 204, 'n': 228},\n",
       " {'name': 'new_thyroid1', 'p': 35, 'n': 180},\n",
       " {'name': 'new_thyroid2', 'p': 559, 'n': 4913},\n",
       " {'name': 'page-blocks-1-3_vs_4', 'p': 28, 'n': 444},\n",
       " {'name': 'PC1', 'p': 77, 'n': 1032},\n",
       " {'name': 'pima', 'p': 268, 'n': 500},\n",
       " {'name': 'poker-8-9_vs_5', 'p': 25, 'n': 2050},\n",
       " {'name': 'poker-8-9_vs_6', 'p': 25, 'n': 1460},\n",
       " {'name': 'poker-8_vs_6', 'p': 17, 'n': 1460},\n",
       " {'name': 'poker-9_vs_7', 'p': 8, 'n': 236},\n",
       " {'name': 'saheart', 'p': 160, 'n': 302},\n",
       " {'name': 'SATIMAGE', 'p': 626, 'n': 5809},\n",
       " {'name': 'segment0', 'p': 329, 'n': 1979},\n",
       " {'name': 'shuttle-2_vs_5', 'p': 49, 'n': 3267},\n",
       " {'name': 'shuttle-6_vs_2-3', 'p': 10, 'n': 220},\n",
       " {'name': 'shuttle-c0-vs-c4', 'p': 123, 'n': 1706},\n",
       " {'name': 'shuttle-c2-vs-c4', 'p': 6, 'n': 123},\n",
       " {'name': 'SPECTF', 'p': 55, 'n': 212},\n",
       " {'name': 'sylva', 'p': 805, 'n': 12281},\n",
       " {'name': 'vehicle0', 'p': 199, 'n': 647},\n",
       " {'name': 'vehicle1', 'p': 217, 'n': 629},\n",
       " {'name': 'vehicle2', 'p': 218, 'n': 628},\n",
       " {'name': 'vehicle3', 'p': 212, 'n': 634},\n",
       " {'name': 'vowel0', 'p': 90, 'n': 898},\n",
       " {'name': 'wdbc', 'p': 212, 'n': 357},\n",
       " {'name': 'winequality-red-3_vs_5', 'p': 10, 'n': 681},\n",
       " {'name': 'winequality-red-4', 'p': 53, 'n': 1546},\n",
       " {'name': 'winequality-red-8_vs_6', 'p': 18, 'n': 638},\n",
       " {'name': 'winequality-red-8_vs_6-7', 'p': 18, 'n': 837},\n",
       " {'name': 'winequality-white-3-9_vs_5', 'p': 25, 'n': 1457},\n",
       " {'name': 'winequality-white-3_vs_7', 'p': 20, 'n': 880},\n",
       " {'name': 'winequality-white-9_vs_4', 'p': 5, 'n': 163},\n",
       " {'name': 'wisconsin', 'p': 239, 'n': 444},\n",
       " {'name': 'yeast1', 'p': 429, 'n': 1055},\n",
       " {'name': 'yeast3', 'p': 163, 'n': 1321},\n",
       " {'name': 'yeast4', 'p': 51, 'n': 1433},\n",
       " {'name': 'yeast5', 'p': 44, 'n': 1440},\n",
       " {'name': 'yeast6', 'p': 35, 'n': 1449},\n",
       " {'name': 'yeast-0-2-5-6_vs_3-7-8-9', 'p': 99, 'n': 905},\n",
       " {'name': 'yeast-0-2-5-7-9_vs_3-6-8', 'p': 99, 'n': 905},\n",
       " {'name': 'yeast-0-3-5-9_vs_7-8', 'p': 50, 'n': 456},\n",
       " {'name': 'yeast-0-5-6-7-9_vs_4', 'p': 51, 'n': 477},\n",
       " {'name': 'yeast-1-2-8-9_vs_7', 'p': 30, 'n': 917},\n",
       " {'name': 'yeast-1-4-5-8_vs_7', 'p': 30, 'n': 663},\n",
       " {'name': 'yeast-1_vs_7', 'p': 30, 'n': 429},\n",
       " {'name': 'yeast-2_vs_4', 'p': 51, 'n': 463},\n",
       " {'name': 'yeast-2_vs_8', 'p': 20, 'n': 462},\n",
       " {'name': 'zoo-3', 'p': 5, 'n': 96}]"
      ]
     },
     "execution_count": 10,
     "metadata": {},
     "output_type": "execute_result"
    }
   ],
   "source": [
    "cols.to_dict('records')"
   ]
  },
  {
   "cell_type": "code",
   "execution_count": 11,
   "metadata": {},
   "outputs": [],
   "source": [
    "problems = [{'p': 10, 'n': 20, 'n_repeats': 2, 'n_folds': 3, 'score_bounds': {'acc': (0.8, 1.0), 'spec': (0.8, 1.0), 'sens': (0.8, 1.0), 'bacc': (0.8, 1.0)}},\n",
    "            {'p': 15, 'n': 25, 'n_repeats': 2, 'n_folds': 5, 'score_bounds': {'acc': (0.8, 1.0), 'spec': (0.8, 1.0), 'sens': (0.8, 1.0), 'bacc': (0.8, 1.0)}}]\n",
    "scores = {'acc': 0.95,\n",
    "            'sens': 0.92,\n",
    "            'spec': 0.98,\n",
    "            'bacc': 0.93}"
   ]
  },
  {
   "cell_type": "code",
   "execution_count": 3,
   "metadata": {},
   "outputs": [],
   "source": [
    "folds, problem = generate_folding_problem(n_repeats=2)"
   ]
  },
  {
   "cell_type": "code",
   "execution_count": 4,
   "metadata": {},
   "outputs": [
    {
     "data": {
      "text/plain": [
       "{'p': 151, 'n': 456, 'n_folds': 5, 'n_repeats': 2}"
      ]
     },
     "execution_count": 4,
     "metadata": {},
     "output_type": "execute_result"
    }
   ],
   "source": [
    "problem"
   ]
  },
  {
   "cell_type": "code",
   "execution_count": 5,
   "metadata": {},
   "outputs": [
    {
     "data": {
      "text/plain": [
       "[{'p': 31, 'n': 91, 'tp': 8, 'tn': 66},\n",
       " {'p': 30, 'n': 92, 'tp': 28, 'tn': 60},\n",
       " {'p': 30, 'n': 91, 'tp': 5, 'tn': 72},\n",
       " {'p': 30, 'n': 91, 'tp': 29, 'tn': 52},\n",
       " {'p': 30, 'n': 91, 'tp': 24, 'tn': 39},\n",
       " {'p': 31, 'n': 91, 'tp': 30, 'tn': 79},\n",
       " {'p': 30, 'n': 92, 'tp': 24, 'tn': 12},\n",
       " {'p': 30, 'n': 91, 'tp': 25, 'tn': 51},\n",
       " {'p': 30, 'n': 91, 'tp': 19, 'tn': 3},\n",
       " {'p': 30, 'n': 91, 'tp': 1, 'tn': 63}]"
      ]
     },
     "execution_count": 5,
     "metadata": {},
     "output_type": "execute_result"
    }
   ],
   "source": [
    "folds"
   ]
  },
  {
   "cell_type": "code",
   "execution_count": 6,
   "metadata": {},
   "outputs": [],
   "source": [
    "scores = calculate_scores_mor(folds)"
   ]
  },
  {
   "cell_type": "code",
   "execution_count": 7,
   "metadata": {},
   "outputs": [
    {
     "name": "stdout",
     "output_type": "stream",
     "text": [
      "Welcome to the CBC MILP Solver \n",
      "Version: 2.10.3 \n",
      "Build Date: Dec 15 2019 \n",
      "\n",
      "command line - /home/gykovacs/anaconda3/envs/mlscorecheck/lib/python3.10/site-packages/pulp/solverdir/cbc/linux/64/cbc /tmp/8ff1e166067e4104b4d0928d607dd8e8-pulp.mps timeMode elapsed branch printingOptions all solution /tmp/8ff1e166067e4104b4d0928d607dd8e8-pulp.sol (default strategy 1)\n",
      "At line 2 NAME          MODEL\n",
      "At line 3 ROWS\n",
      "At line 13 COLUMNS\n",
      "At line 175 RHS\n",
      "At line 184 BOUNDS\n",
      "At line 205 ENDATA\n",
      "Problem MODEL has 8 rows, 20 columns and 120 elements\n",
      "Coin0008I MODEL read with 0 errors\n",
      "Option for timeMode changed from cpu to elapsed\n",
      "Continuous objective value is 0 - 0.00 seconds\n",
      "Cgl0004I processed model has 8 rows, 7 columns (7 integer (0 of which binary)) and 42 elements\n",
      "Cutoff increment increased from 1e-05 to 0.9999\n",
      "Cbc0012I Integer solution of 0 found by DiveCoefficient after 9 iterations and 0 nodes (0.01 seconds)\n",
      "Cbc0031I 4 added rows had average density of 2.75\n",
      "Cbc0013I At root node, 4 cuts changed objective from 0 to 0 in 5 passes\n",
      "Cbc0014I Cut generator 0 (Probing) - 0 row cuts average 0.0 elements, 0 column cuts (0 active)  in 0.000 seconds - new frequency is -100\n",
      "Cbc0014I Cut generator 1 (Gomory) - 11 row cuts average 3.0 elements, 0 column cuts (0 active)  in 0.000 seconds - new frequency is -100\n",
      "Cbc0014I Cut generator 2 (Knapsack) - 0 row cuts average 0.0 elements, 0 column cuts (0 active)  in 0.000 seconds - new frequency is -100\n",
      "Cbc0014I Cut generator 3 (Clique) - 0 row cuts average 0.0 elements, 0 column cuts (0 active)  in 0.000 seconds - new frequency is -100\n",
      "Cbc0014I Cut generator 4 (MixedIntegerRounding2) - 0 row cuts average 0.0 elements, 0 column cuts (0 active)  in 0.000 seconds - new frequency is -100\n",
      "Cbc0014I Cut generator 5 (FlowCover) - 0 row cuts average 0.0 elements, 0 column cuts (0 active)  in 0.000 seconds - new frequency is -100\n",
      "Cbc0014I Cut generator 6 (TwoMirCuts) - 11 row cuts average 3.0 elements, 0 column cuts (0 active)  in 0.000 seconds - new frequency is -100\n",
      "Cbc0001I Search completed - best objective 0, took 9 iterations and 0 nodes (0.01 seconds)\n",
      "Cbc0035I Maximum depth 0, 0 variables fixed on reduced cost\n",
      "Cuts at root node changed objective from 0 to 0\n",
      "Probing was tried 5 times and created 0 cuts of which 0 were active after adding rounds of cuts (0.000 seconds)\n",
      "Gomory was tried 5 times and created 11 cuts of which 0 were active after adding rounds of cuts (0.000 seconds)\n",
      "Knapsack was tried 5 times and created 0 cuts of which 0 were active after adding rounds of cuts (0.000 seconds)\n",
      "Clique was tried 5 times and created 0 cuts of which 0 were active after adding rounds of cuts (0.000 seconds)\n",
      "MixedIntegerRounding2 was tried 5 times and created 0 cuts of which 0 were active after adding rounds of cuts (0.000 seconds)\n",
      "FlowCover was tried 5 times and created 0 cuts of which 0 were active after adding rounds of cuts (0.000 seconds)\n",
      "TwoMirCuts was tried 5 times and created 11 cuts of which 0 were active after adding rounds of cuts (0.000 seconds)\n",
      "ZeroHalf was tried 1 times and created 0 cuts of which 0 were active after adding rounds of cuts (0.000 seconds)\n",
      "\n",
      "Result - Optimal solution found\n",
      "\n",
      "Objective value:                0.00000000\n",
      "Enumerated nodes:               0\n",
      "Total iterations:               9\n",
      "Time (CPU seconds):             0.01\n",
      "Time (Wallclock seconds):       0.01\n",
      "\n",
      "Option for printingOptions changed from normal to all\n",
      "Total time (CPU seconds):       0.01   (Wallclock seconds):       0.01\n",
      "\n"
     ]
    }
   ],
   "source": [
    "flag, configuration = consistency_1(problem,\n",
    "            scores=scores,\n",
    "            eps=1e-4,\n",
    "            return_details=True)"
   ]
  },
  {
   "cell_type": "code",
   "execution_count": 8,
   "metadata": {},
   "outputs": [
    {
     "data": {
      "text/plain": [
       "{'overall_consistency': True,\n",
       " 'configuration': [{'p': 31, 'n': 91, 'tn': 4.0, 'tp': 0.0},\n",
       "  {'p': 30, 'n': 92, 'tn': 0.0, 'tp': 0.0},\n",
       "  {'p': 30, 'n': 91, 'tn': 0.0, 'tp': 30.0},\n",
       "  {'p': 30, 'n': 91, 'tn': 0.0, 'tp': 30.0},\n",
       "  {'p': 30, 'n': 91, 'tn': 65.0, 'tp': 30.0},\n",
       "  {'p': 31, 'n': 91, 'tn': 91.0, 'tp': 7.0},\n",
       "  {'p': 30, 'n': 92, 'tn': 64.0, 'tp': 5.0},\n",
       "  {'p': 30, 'n': 91, 'tn': 91.0, 'tp': 30.0},\n",
       "  {'p': 30, 'n': 91, 'tn': 91.0, 'tp': 30.0},\n",
       "  {'p': 30, 'n': 91, 'tn': 91.0, 'tp': 30.0}]}"
      ]
     },
     "execution_count": 8,
     "metadata": {},
     "output_type": "execute_result"
    }
   ],
   "source": [
    "configuration"
   ]
  },
  {
   "cell_type": "code",
   "execution_count": 9,
   "metadata": {},
   "outputs": [
    {
     "data": {
      "text/plain": [
       "{'acc': 0.5682631079799485,\n",
       " 'sens': 0.639247311827957,\n",
       " 'spec': 0.5453893932154802,\n",
       " 'bacc': 0.5923183525217185}"
      ]
     },
     "execution_count": 9,
     "metadata": {},
     "output_type": "execute_result"
    }
   ],
   "source": [
    "calculate_scores_mor(configuration['configuration'])"
   ]
  },
  {
   "cell_type": "code",
   "execution_count": 10,
   "metadata": {},
   "outputs": [
    {
     "data": {
      "text/plain": [
       "{'acc': 0.5681682698821298,\n",
       " 'sens': 0.639247311827957,\n",
       " 'spec': 0.5452938365981844,\n",
       " 'bacc': 0.5922705742130706}"
      ]
     },
     "execution_count": 10,
     "metadata": {},
     "output_type": "execute_result"
    }
   ],
   "source": [
    "scores"
   ]
  },
  {
   "cell_type": "code",
   "execution_count": null,
   "metadata": {},
   "outputs": [],
   "source": []
  },
  {
   "cell_type": "code",
   "execution_count": null,
   "metadata": {},
   "outputs": [],
   "source": []
  },
  {
   "cell_type": "code",
   "execution_count": null,
   "metadata": {},
   "outputs": [],
   "source": []
  },
  {
   "cell_type": "code",
   "execution_count": 32,
   "metadata": {},
   "outputs": [],
   "source": [
    "problems = []\n",
    "folds = []\n",
    "for idx in range(2):\n",
    "    f, p = generate_folding_problem(n_repeats=idx+1, n_folds=3)\n",
    "    problems.append(p)\n",
    "    folds.append(f)"
   ]
  },
  {
   "cell_type": "code",
   "execution_count": 33,
   "metadata": {},
   "outputs": [
    {
     "data": {
      "text/plain": [
       "[[{'p': 154, 'n': 98, 'tp': 115, 'tn': 21},\n",
       "  {'p': 154, 'n': 98, 'tp': 92, 'tn': 81},\n",
       "  {'p': 154, 'n': 98, 'tp': 29, 'tn': 17}],\n",
       " [{'p': 146, 'n': 177, 'tp': 144, 'tn': 91},\n",
       "  {'p': 145, 'n': 178, 'tp': 12, 'tn': 83},\n",
       "  {'p': 145, 'n': 178, 'tp': 134, 'tn': 82},\n",
       "  {'p': 146, 'n': 177, 'tp': 33, 'tn': 11},\n",
       "  {'p': 145, 'n': 178, 'tp': 100, 'tn': 142},\n",
       "  {'p': 145, 'n': 178, 'tp': 37, 'tn': 10}]]"
      ]
     },
     "execution_count": 33,
     "metadata": {},
     "output_type": "execute_result"
    }
   ],
   "source": [
    "folds"
   ]
  },
  {
   "cell_type": "code",
   "execution_count": 34,
   "metadata": {},
   "outputs": [
    {
     "data": {
      "text/plain": [
       "[{'p': 462, 'n': 294, 'n_folds': 3, 'n_repeats': 1},\n",
       " {'p': 436, 'n': 533, 'n_folds': 3, 'n_repeats': 2}]"
      ]
     },
     "execution_count": 34,
     "metadata": {},
     "output_type": "execute_result"
    }
   ],
   "source": [
    "problems"
   ]
  },
  {
   "cell_type": "code",
   "execution_count": 35,
   "metadata": {},
   "outputs": [],
   "source": [
    "scores = calculate_score_mor_grouped(folds)"
   ]
  },
  {
   "cell_type": "code",
   "execution_count": 36,
   "metadata": {},
   "outputs": [
    {
     "data": {
      "text/plain": [
       "{'acc': 0.4615685455468737,\n",
       " 'sens': 0.5190823308324488,\n",
       " 'spec': 0.3988117909513834,\n",
       " 'bacc': 0.45894706089191617}"
      ]
     },
     "execution_count": 36,
     "metadata": {},
     "output_type": "execute_result"
    }
   ],
   "source": [
    "scores"
   ]
  },
  {
   "cell_type": "code",
   "execution_count": 37,
   "metadata": {},
   "outputs": [
    {
     "data": {
      "text/plain": [
       "[[{'p': 154, 'n': 98, 'tp': 115, 'tn': 21},\n",
       "  {'p': 154, 'n': 98, 'tp': 92, 'tn': 81},\n",
       "  {'p': 154, 'n': 98, 'tp': 29, 'tn': 17}],\n",
       " [{'p': 146, 'n': 177, 'tp': 144, 'tn': 91},\n",
       "  {'p': 145, 'n': 178, 'tp': 12, 'tn': 83},\n",
       "  {'p': 145, 'n': 178, 'tp': 134, 'tn': 82},\n",
       "  {'p': 146, 'n': 177, 'tp': 33, 'tn': 11},\n",
       "  {'p': 145, 'n': 178, 'tp': 100, 'tn': 142},\n",
       "  {'p': 145, 'n': 178, 'tp': 37, 'tn': 10}]]"
      ]
     },
     "execution_count": 37,
     "metadata": {},
     "output_type": "execute_result"
    }
   ],
   "source": [
    "folds"
   ]
  },
  {
   "cell_type": "code",
   "execution_count": 38,
   "metadata": {},
   "outputs": [
    {
     "name": "stdout",
     "output_type": "stream",
     "text": [
      "[154, 154, 154, 146, 145, 145, 146, 145, 145]\n",
      "[98, 98, 98, 177, 178, 178, 177, 178, 178]\n",
      "[tp_0_0, tp_0_1, tp_0_2, tp_1_0, tp_1_1, tp_1_2, tp_1_3, tp_1_4, tp_1_5]\n",
      "[tn_0_0, tn_0_1, tn_0_2, tn_1_0, tn_1_1, tn_1_2, tn_1_3, tn_1_4, tn_1_5]\n",
      "[None, None]\n",
      "[[0, 1, 2], [3, 4, 5, 6, 7, 8]]\n",
      "OrderedDict([('_C1', 0.0006613756613756613*tn_0_0 + 0.0006613756613756613*tn_0_1 + 0.0006613756613756613*tn_0_2 + 0.00025799793601651185*tn_1_0 + 0.00025799793601651185*tn_1_1 + 0.00025799793601651185*tn_1_2 + 0.00025799793601651185*tn_1_3 + 0.00025799793601651185*tn_1_4 + 0.00025799793601651185*tn_1_5 + 0.0006613756613756613*tp_0_0 + 0.0006613756613756613*tp_0_1 + 0.0006613756613756613*tp_0_2 + 0.00025799793601651185*tp_1_0 + 0.00025799793601651185*tp_1_1 + 0.00025799793601651185*tp_1_2 + 0.00025799793601651185*tp_1_3 + 0.00025799793601651185*tp_1_4 + 0.00025799793601651185*tp_1_5 + -0.4616685455468737 <= 0), ('_C2', -0.0006613756613756613*tn_0_0 + -0.0006613756613756613*tn_0_1 + -0.0006613756613756613*tn_0_2 + -0.00025799793601651185*tn_1_0 + -0.00025799793601651185*tn_1_1 + -0.00025799793601651185*tn_1_2 + -0.00025799793601651185*tn_1_3 + -0.00025799793601651185*tn_1_4 + -0.00025799793601651185*tn_1_5 + -0.0006613756613756613*tp_0_0 + -0.0006613756613756613*tp_0_1 + -0.0006613756613756613*tp_0_2 + -0.00025799793601651185*tp_1_0 + -0.00025799793601651185*tp_1_1 + -0.00025799793601651185*tp_1_2 + -0.00025799793601651185*tp_1_3 + -0.00025799793601651185*tp_1_4 + -0.00025799793601651185*tp_1_5 + 0.4614685455468737 <= 0), ('_C3', 0.0010822510822510823*tp_0_0 + 0.0010822510822510823*tp_0_1 + 0.0010822510822510823*tp_0_2 + 0.0005707762557077625*tp_1_0 + 0.0005747126436781609*tp_1_1 + 0.0005747126436781609*tp_1_2 + 0.0005707762557077625*tp_1_3 + 0.0005747126436781609*tp_1_4 + 0.0005747126436781609*tp_1_5 + -0.5191823308324488 <= 0), ('_C4', -0.0010822510822510823*tp_0_0 + -0.0010822510822510823*tp_0_1 + -0.0010822510822510823*tp_0_2 + -0.0005707762557077625*tp_1_0 + -0.0005747126436781609*tp_1_1 + -0.0005747126436781609*tp_1_2 + -0.0005707762557077625*tp_1_3 + -0.0005747126436781609*tp_1_4 + -0.0005747126436781609*tp_1_5 + 0.5189823308324488 <= 0), ('_C5', 0.0017006802721088433*tn_0_0 + 0.0017006802721088433*tn_0_1 + 0.0017006802721088433*tn_0_2 + 0.00047080979284369113*tn_1_0 + 0.0004681647940074906*tn_1_1 + 0.0004681647940074906*tn_1_2 + 0.00047080979284369113*tn_1_3 + 0.0004681647940074906*tn_1_4 + 0.0004681647940074906*tn_1_5 + -0.3989117909513834 <= 0), ('_C6', -0.0017006802721088433*tn_0_0 + -0.0017006802721088433*tn_0_1 + -0.0017006802721088433*tn_0_2 + -0.00047080979284369113*tn_1_0 + -0.0004681647940074906*tn_1_1 + -0.0004681647940074906*tn_1_2 + -0.00047080979284369113*tn_1_3 + -0.0004681647940074906*tn_1_4 + -0.0004681647940074906*tn_1_5 + 0.3987117909513834 <= 0), ('_C7', 0.0008503401360544216*tn_0_0 + 0.0008503401360544216*tn_0_1 + 0.0008503401360544216*tn_0_2 + 0.00023540489642184556*tn_1_0 + 0.0002340823970037453*tn_1_1 + 0.0002340823970037453*tn_1_2 + 0.00023540489642184556*tn_1_3 + 0.0002340823970037453*tn_1_4 + 0.0002340823970037453*tn_1_5 + 0.0005411255411255411*tp_0_0 + 0.0005411255411255411*tp_0_1 + 0.0005411255411255411*tp_0_2 + 0.00028538812785388126*tp_1_0 + 0.00028735632183908046*tp_1_1 + 0.00028735632183908046*tp_1_2 + 0.00028538812785388126*tp_1_3 + 0.00028735632183908046*tp_1_4 + 0.00028735632183908046*tp_1_5 + -0.45904706089191616 <= 0), ('_C8', -0.0008503401360544216*tn_0_0 + -0.0008503401360544216*tn_0_1 + -0.0008503401360544216*tn_0_2 + -0.00023540489642184556*tn_1_0 + -0.0002340823970037453*tn_1_1 + -0.0002340823970037453*tn_1_2 + -0.00023540489642184556*tn_1_3 + -0.0002340823970037453*tn_1_4 + -0.0002340823970037453*tn_1_5 + -0.0005411255411255411*tp_0_0 + -0.0005411255411255411*tp_0_1 + -0.0005411255411255411*tp_0_2 + -0.00028538812785388126*tp_1_0 + -0.00028735632183908046*tp_1_1 + -0.00028735632183908046*tp_1_2 + -0.00028538812785388126*tp_1_3 + -0.00028735632183908046*tp_1_4 + -0.00028735632183908046*tp_1_5 + 0.4588470608919162 <= 0)])\n",
      "Welcome to the CBC MILP Solver \n",
      "Version: 2.10.3 \n",
      "Build Date: Dec 15 2019 \n",
      "\n",
      "command line - /home/gykovacs/anaconda3/envs/mlscorecheck/lib/python3.10/site-packages/pulp/solverdir/cbc/linux/64/cbc /tmp/00c208fcc4594c9c983309e8c8dd9fa9-pulp.mps timeMode elapsed branch printingOptions all solution /tmp/00c208fcc4594c9c983309e8c8dd9fa9-pulp.sol (default strategy 1)\n",
      "At line 2 NAME          MODEL\n",
      "At line 3 ROWS\n",
      "At line 13 COLUMNS\n",
      "At line 159 RHS\n",
      "At line 168 BOUNDS\n",
      "At line 187 ENDATA\n",
      "Problem MODEL has 8 rows, 18 columns and 108 elements\n",
      "Coin0008I MODEL read with 0 errors\n",
      "Option for timeMode changed from cpu to elapsed\n",
      "Continuous objective value is 0 - 0.00 seconds\n",
      "Cgl0004I processed model has 8 rows, 7 columns (7 integer (0 of which binary)) and 42 elements\n",
      "Cutoff increment increased from 1e-05 to 0.9999\n",
      "Cbc0031I 3 added rows had average density of 6\n",
      "Cbc0013I At root node, 3 cuts changed objective from 0 to 0 in 100 passes\n",
      "Cbc0014I Cut generator 0 (Probing) - 0 row cuts average 0.0 elements, 0 column cuts (0 active)  in 0.000 seconds - new frequency is -100\n",
      "Cbc0014I Cut generator 1 (Gomory) - 127 row cuts average 6.7 elements, 0 column cuts (0 active)  in 0.000 seconds - new frequency is -100\n",
      "Cbc0014I Cut generator 2 (Knapsack) - 0 row cuts average 0.0 elements, 0 column cuts (0 active)  in 0.000 seconds - new frequency is -100\n",
      "Cbc0014I Cut generator 3 (Clique) - 0 row cuts average 0.0 elements, 0 column cuts (0 active)  in 0.000 seconds - new frequency is -100\n",
      "Cbc0014I Cut generator 4 (MixedIntegerRounding2) - 1 row cuts average 4.0 elements, 0 column cuts (0 active)  in 0.000 seconds - new frequency is -100\n",
      "Cbc0014I Cut generator 5 (FlowCover) - 0 row cuts average 0.0 elements, 0 column cuts (0 active)  in 0.000 seconds - new frequency is -100\n",
      "Cbc0014I Cut generator 6 (TwoMirCuts) - 16 row cuts average 5.8 elements, 0 column cuts (0 active)  in 0.000 seconds - new frequency is -100\n",
      "Cbc0010I After 0 nodes, 1 on tree, 1e+50 best solution, best possible 0 (0.02 seconds)\n",
      "Cbc0016I Integer solution of 0 found by strong branching after 466 iterations and 100 nodes (0.06 seconds)\n",
      "Cbc0001I Search completed - best objective 0, took 466 iterations and 100 nodes (0.06 seconds)\n",
      "Cbc0032I Strong branching done 322 times (584 iterations), fathomed 4 nodes and fixed 42 variables\n",
      "Cbc0035I Maximum depth 86, 0 variables fixed on reduced cost\n",
      "Cuts at root node changed objective from 0 to 0\n",
      "Probing was tried 100 times and created 0 cuts of which 0 were active after adding rounds of cuts (0.000 seconds)\n",
      "Gomory was tried 100 times and created 127 cuts of which 0 were active after adding rounds of cuts (0.000 seconds)\n",
      "Knapsack was tried 100 times and created 0 cuts of which 0 were active after adding rounds of cuts (0.000 seconds)\n",
      "Clique was tried 100 times and created 0 cuts of which 0 were active after adding rounds of cuts (0.000 seconds)\n",
      "MixedIntegerRounding2 was tried 100 times and created 1 cuts of which 0 were active after adding rounds of cuts (0.000 seconds)\n",
      "FlowCover was tried 100 times and created 0 cuts of which 0 were active after adding rounds of cuts (0.000 seconds)\n",
      "TwoMirCuts was tried 100 times and created 16 cuts of which 0 were active after adding rounds of cuts (0.000 seconds)\n",
      "ZeroHalf was tried 1 times and created 0 cuts of which 0 were active after adding rounds of cuts (0.000 seconds)\n",
      "\n",
      "Result - Optimal solution found\n",
      "\n",
      "Objective value:                0.00000000\n",
      "Enumerated nodes:               100\n",
      "Total iterations:               466\n",
      "Time (CPU seconds):             0.04\n",
      "Time (Wallclock seconds):       0.06\n",
      "\n",
      "Option for printingOptions changed from normal to all\n",
      "Total time (CPU seconds):       0.04   (Wallclock seconds):       0.07\n",
      "\n"
     ]
    }
   ],
   "source": [
    "flag, configuration = consistency_grouped(problems,\n",
    "            scores=scores,\n",
    "            eps=1e-4,\n",
    "            return_details=True)"
   ]
  },
  {
   "cell_type": "code",
   "execution_count": 39,
   "metadata": {},
   "outputs": [
    {
     "data": {
      "text/plain": [
       "True"
      ]
     },
     "execution_count": 39,
     "metadata": {},
     "output_type": "execute_result"
    }
   ],
   "source": [
    "flag"
   ]
  },
  {
   "cell_type": "code",
   "execution_count": 40,
   "metadata": {},
   "outputs": [
    {
     "data": {
      "text/plain": [
       "[[{'p': 154, 'n': 98, 'tp': 115, 'tn': 21},\n",
       "  {'p': 154, 'n': 98, 'tp': 92, 'tn': 81},\n",
       "  {'p': 154, 'n': 98, 'tp': 29, 'tn': 17}],\n",
       " [{'p': 146, 'n': 177, 'tp': 144, 'tn': 91},\n",
       "  {'p': 145, 'n': 178, 'tp': 12, 'tn': 83},\n",
       "  {'p': 145, 'n': 178, 'tp': 134, 'tn': 82},\n",
       "  {'p': 146, 'n': 177, 'tp': 33, 'tn': 11},\n",
       "  {'p': 145, 'n': 178, 'tp': 100, 'tn': 142},\n",
       "  {'p': 145, 'n': 178, 'tp': 37, 'tn': 10}]]"
      ]
     },
     "execution_count": 40,
     "metadata": {},
     "output_type": "execute_result"
    }
   ],
   "source": [
    "folds"
   ]
  },
  {
   "cell_type": "code",
   "execution_count": 41,
   "metadata": {},
   "outputs": [
    {
     "data": {
      "text/plain": [
       "[[{'tn': 78.0, 'tp': 0.0, 'p': 154, 'n': 98},\n",
       "  {'tn': 0.0, 'tp': 154.0, 'p': 154, 'n': 98},\n",
       "  {'tn': 0.0, 'tp': 18.0, 'p': 154, 'n': 98}],\n",
       " [{'tn': 0.0, 'tp': 76.0, 'p': 146, 'n': 177},\n",
       "  {'tn': 0.0, 'tp': 69.0, 'p': 145, 'n': 178},\n",
       "  {'tn': 152.0, 'tp': 145.0, 'p': 145, 'n': 178},\n",
       "  {'tn': 60.0, 'tp': 0.0, 'p': 146, 'n': 177},\n",
       "  {'tn': 178.0, 'tp': 145.0, 'p': 145, 'n': 178},\n",
       "  {'tn': 178.0, 'tp': 145.0, 'p': 145, 'n': 178}]]"
      ]
     },
     "execution_count": 41,
     "metadata": {},
     "output_type": "execute_result"
    }
   ],
   "source": [
    "configuration['configuration']"
   ]
  },
  {
   "cell_type": "code",
   "execution_count": 42,
   "metadata": {},
   "outputs": [
    {
     "data": {
      "text/plain": [
       "{'acc': 0.46152554589087097,\n",
       " 'sens': 0.5191813539947692,\n",
       " 'spec': 0.39872936415091653,\n",
       " 'bacc': 0.4589553590728428}"
      ]
     },
     "execution_count": 42,
     "metadata": {},
     "output_type": "execute_result"
    }
   ],
   "source": [
    "calculate_score_mor_grouped(configuration['configuration'])"
   ]
  },
  {
   "cell_type": "code",
   "execution_count": 43,
   "metadata": {},
   "outputs": [
    {
     "data": {
      "text/plain": [
       "{'acc': 0.4615685455468737,\n",
       " 'sens': 0.5190823308324488,\n",
       " 'spec': 0.3988117909513834,\n",
       " 'bacc': 0.45894706089191617}"
      ]
     },
     "execution_count": 43,
     "metadata": {},
     "output_type": "execute_result"
    }
   ],
   "source": [
    "calculate_score_mor_grouped(folds)"
   ]
  },
  {
   "cell_type": "code",
   "execution_count": null,
   "metadata": {},
   "outputs": [],
   "source": []
  },
  {
   "cell_type": "code",
   "execution_count": null,
   "metadata": {},
   "outputs": [],
   "source": []
  },
  {
   "cell_type": "code",
   "execution_count": null,
   "metadata": {},
   "outputs": [],
   "source": []
  },
  {
   "cell_type": "code",
   "execution_count": null,
   "metadata": {},
   "outputs": [],
   "source": []
  },
  {
   "cell_type": "code",
   "execution_count": 44,
   "metadata": {},
   "outputs": [
    {
     "data": {
      "text/plain": [
       "([4, 3, 3, 4, 3, 3],\n",
       " [6, 7, 7, 6, 7, 7],\n",
       " [tp_0, tp_1, tp_2, tp_3, tp_4, tp_5],\n",
       " [tn_0, tn_1, tn_2, tn_3, tn_4, tn_5],\n",
       " [{'acc': (0.9, 1.0)},\n",
       "  {'acc': (0.9, 1.0)},\n",
       "  {'acc': (0.9, 1.0)},\n",
       "  {'acc': (0.9, 1.0)},\n",
       "  {'acc': (0.9, 1.0)},\n",
       "  {'acc': (0.9, 1.0)}],\n",
       " [[0], [1], [2], [3], [4], [5]],\n",
       " [{'tp': (5, 10), 'tn': (15, 20)},\n",
       "  {'tp': (5, 10), 'tn': (15, 20)},\n",
       "  {'tp': (5, 10), 'tn': (15, 20)},\n",
       "  {'tp': (5, 10), 'tn': (15, 20)},\n",
       "  {'tp': (5, 10), 'tn': (15, 20)},\n",
       "  {'tp': (5, 10), 'tn': (15, 20)}])"
      ]
     },
     "execution_count": 44,
     "metadata": {},
     "output_type": "execute_result"
    }
   ],
   "source": [
    "generate_structure_1({'p': 10, 'n': 20, 'n_repeats': 2, 'n_folds': 3, 'score_bounds': {'acc': (0.9, 1.0)}, 'tptn_bounds': {'tp': (5, 10), 'tn': (15, 20)}})"
   ]
  },
  {
   "cell_type": "code",
   "execution_count": 45,
   "metadata": {},
   "outputs": [
    {
     "data": {
      "text/plain": [
       "([4, 3, 3, 4, 3, 3],\n",
       " [6, 7, 7, 6, 7, 7],\n",
       " [tp_0_0, tp_0_1, tp_0_2, tp_0_3, tp_0_4, tp_0_5],\n",
       " [tn_0_0, tn_0_1, tn_0_2, tn_0_3, tn_0_4, tn_0_5],\n",
       " [{'acc': (0.9, 1.0)}],\n",
       " [[0, 1, 2, 3, 4, 5]])"
      ]
     },
     "execution_count": 45,
     "metadata": {},
     "output_type": "execute_result"
    }
   ],
   "source": [
    "generate_structure_group([{'p': 10, 'n': 20, 'n_repeats': 2, 'n_folds': 3, 'score_bounds': {'acc': (0.9, 1.0)}, 'tptn_bounds': {'tp': (5, 10), 'tn': (15, 20)}}])"
   ]
  },
  {
   "cell_type": "code",
   "execution_count": 46,
   "metadata": {},
   "outputs": [],
   "source": [
    "problem = pl.LpProblem(\"feasibility\")"
   ]
  },
  {
   "cell_type": "code",
   "execution_count": 47,
   "metadata": {},
   "outputs": [],
   "source": [
    "p = [5, 5, 5, 4, 4, 3]\n",
    "n = [10, 10, 10, 20, 20, 30]"
   ]
  },
  {
   "cell_type": "code",
   "execution_count": 48,
   "metadata": {},
   "outputs": [],
   "source": [
    "tps = [pl.LpVariable(f\"tp_{idx}\", 0, p[idx], pl.LpInteger) for idx in range(len(p))]\n",
    "tns = [pl.LpVariable(f\"tn_{idx}\", 0, n[idx], pl.LpInteger) for idx in range(len(n))]"
   ]
  },
  {
   "cell_type": "code",
   "execution_count": 49,
   "metadata": {},
   "outputs": [],
   "source": [
    "problem += tps[0]"
   ]
  },
  {
   "cell_type": "code",
   "execution_count": 50,
   "metadata": {},
   "outputs": [
    {
     "data": {
      "text/plain": [
       "0.007407407407407408"
      ]
     },
     "execution_count": 50,
     "metadata": {},
     "output_type": "execute_result"
    }
   ],
   "source": [
    "1.0 / ((10 + 5) * 3 * 3)"
   ]
  },
  {
   "cell_type": "code",
   "execution_count": 51,
   "metadata": {},
   "outputs": [
    {
     "data": {
      "text/plain": [
       "0.022222222222222223"
      ]
     },
     "execution_count": 51,
     "metadata": {},
     "output_type": "execute_result"
    }
   ],
   "source": [
    "1.0 / ((10 + 5)*3)"
   ]
  },
  {
   "cell_type": "code",
   "execution_count": 52,
   "metadata": {},
   "outputs": [
    {
     "data": {
      "text/plain": [
       "feasibility:\n",
       "MINIMIZE\n",
       "1*tp_0 + 0\n",
       "SUBJECT TO\n",
       "_C1: 0.00740740740741 tn_0 + 0.00740740740741 tn_1 + 0.00740740740741 tn_2\n",
       " + 0.00694444444444 tn_3 + 0.00694444444444 tn_4 + 0.010101010101 tn_5\n",
       " + 0.00740740740741 tp_0 + 0.00740740740741 tp_1 + 0.00740740740741 tp_2\n",
       " + 0.00694444444444 tp_3 + 0.00694444444444 tp_4 + 0.010101010101 tp_5\n",
       " <= 0.9501\n",
       "\n",
       "_C2: - 0.00740740740741 tn_0 - 0.00740740740741 tn_1 - 0.00740740740741 tn_2\n",
       " - 0.00694444444444 tn_3 - 0.00694444444444 tn_4 - 0.010101010101 tn_5\n",
       " - 0.00740740740741 tp_0 - 0.00740740740741 tp_1 - 0.00740740740741 tp_2\n",
       " - 0.00694444444444 tp_3 - 0.00694444444444 tp_4 - 0.010101010101 tp_5\n",
       " <= -0.9499\n",
       "\n",
       "_C3: 0.0222222222222 tn_0 + 0.0222222222222 tn_1 + 0.0222222222222 tn_2\n",
       " + 0.0222222222222 tp_0 + 0.0222222222222 tp_1 + 0.0222222222222 tp_2 >= 0.5\n",
       "\n",
       "_C4: 0.0222222222222 tn_0 + 0.0222222222222 tn_1 + 0.0222222222222 tn_2\n",
       " + 0.0222222222222 tp_0 + 0.0222222222222 tp_1 + 0.0222222222222 tp_2 <= 1\n",
       "\n",
       "_C5: 0.0208333333333 tn_3 + 0.0208333333333 tn_4 + 0.0208333333333 tp_3\n",
       " + 0.0208333333333 tp_4 >= 0.6\n",
       "\n",
       "_C6: 0.0208333333333 tn_3 + 0.0208333333333 tn_4 + 0.0208333333333 tp_3\n",
       " + 0.0208333333333 tp_4 <= 1\n",
       "\n",
       "_C7: 0.030303030303 tn_5 + 0.030303030303 tp_5 >= 0.7\n",
       "\n",
       "_C8: 0.030303030303 tn_5 + 0.030303030303 tp_5 <= 1\n",
       "\n",
       "VARIABLES\n",
       "0 <= tn_0 <= 10 Integer\n",
       "0 <= tn_1 <= 10 Integer\n",
       "0 <= tn_2 <= 10 Integer\n",
       "0 <= tn_3 <= 20 Integer\n",
       "0 <= tn_4 <= 20 Integer\n",
       "0 <= tn_5 <= 30 Integer\n",
       "0 <= tp_0 <= 5 Integer\n",
       "0 <= tp_1 <= 5 Integer\n",
       "0 <= tp_2 <= 5 Integer\n",
       "0 <= tp_3 <= 4 Integer\n",
       "0 <= tp_4 <= 4 Integer\n",
       "0 <= tp_5 <= 3 Integer"
      ]
     },
     "execution_count": 52,
     "metadata": {},
     "output_type": "execute_result"
    }
   ],
   "source": [
    "add_accuracy_mor(problem=problem,\n",
    "                    tps=tps,\n",
    "                    tns=tns,\n",
    "                    p=p,\n",
    "                    n=n,\n",
    "                    acc=0.95,\n",
    "                    eps=0.0001,\n",
    "                    acc_bounds=[(0.5, 1.0), (0.6, 1.0), (0.7, 1.0)],\n",
    "                    groups=[[0, 1, 2], [3, 4], [5]])"
   ]
  },
  {
   "cell_type": "code",
   "execution_count": null,
   "metadata": {},
   "outputs": [],
   "source": []
  }
 ],
 "metadata": {
  "kernelspec": {
   "display_name": "mlscorecheck",
   "language": "python",
   "name": "python3"
  },
  "language_info": {
   "codemirror_mode": {
    "name": "ipython",
    "version": 3
   },
   "file_extension": ".py",
   "mimetype": "text/x-python",
   "name": "python",
   "nbconvert_exporter": "python",
   "pygments_lexer": "ipython3",
   "version": "3.10.0"
  },
  "orig_nbformat": 4
 },
 "nbformat": 4,
 "nbformat_minor": 2
}
