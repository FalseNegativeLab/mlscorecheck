{
 "cells": [
  {
   "cell_type": "code",
   "execution_count": 18,
   "metadata": {},
   "outputs": [],
   "source": [
    "import glob\n",
    "import json\n",
    "from PIL import Image\n",
    "import numpy as np"
   ]
  },
  {
   "cell_type": "code",
   "execution_count": 19,
   "metadata": {},
   "outputs": [],
   "source": [
    "train = glob.glob('../../../retina-datasets/drishti-gs/Training-20211018T055246Z-001/Training/GT/*/SoftMap/*.png')\n",
    "test = glob.glob('../../../retina-datasets/drishti-gs/Test-20211018T060000Z-001/Test/Test_GT/*/SoftMap/*.png')"
   ]
  },
  {
   "cell_type": "code",
   "execution_count": 20,
   "metadata": {},
   "outputs": [],
   "source": [
    "distributions_train = {}\n",
    "for img in train:\n",
    "    identifier = img.split('/')[-1]\n",
    "    identifier = identifier.split('.')[0]\n",
    "    identifier = identifier.split('_')[1]\n",
    "\n",
    "    image = np.array(Image.open(img).getchannel(0))\n",
    "    values, counts = np.unique(image, return_counts=True)\n",
    "\n",
    "    if identifier not in distributions_train:\n",
    "        distributions_train[identifier] = {}\n",
    "\n",
    "    if 'ODseg' in img:\n",
    "        distributions_train[identifier]['OD'] = {'values': values.tolist(),\n",
    "                                                    'counts': counts.tolist()}\n",
    "    elif 'cupseg' in img:\n",
    "        distributions_train[identifier]['OC'] = {'values': values.tolist(),\n",
    "                                                    'counts': counts.tolist()}\n",
    "    else:\n",
    "        raise ValueError('never get here')"
   ]
  },
  {
   "cell_type": "code",
   "execution_count": 21,
   "metadata": {},
   "outputs": [],
   "source": [
    "distributions_test = {}\n",
    "for img in test:\n",
    "    identifier = img.split('/')[-1]\n",
    "    identifier = identifier.split('.')[0]\n",
    "    identifier = identifier.split('_')[1]\n",
    "\n",
    "    image = np.array(Image.open(img).getchannel(0))\n",
    "    values, counts = np.unique(image, return_counts=True)\n",
    "\n",
    "    if identifier not in distributions_test:\n",
    "        distributions_test[identifier] = {}\n",
    "\n",
    "    if 'ODseg' in img:\n",
    "        distributions_test[identifier]['OD'] = {'values': values.tolist(),\n",
    "                                                    'counts': counts.tolist()}\n",
    "    elif 'cupseg' in img:\n",
    "        distributions_test[identifier]['OC'] = {'values': values.tolist(),\n",
    "                                                    'counts': counts.tolist()}\n",
    "    else:\n",
    "        raise ValueError('never get here')"
   ]
  },
  {
   "cell_type": "code",
   "execution_count": 22,
   "metadata": {},
   "outputs": [],
   "source": [
    "citation = \"\"\"@inproceedings{drishtigs,\n",
    "author = {Sivaswamy, Jayanthi and Krishnadas, Subbaiah and Joshi, Gopal and Jain, Madhulika and Tabish, A.},\n",
    "year = {2014},\n",
    "month = {04},\n",
    "pages = {53-56},\n",
    "title = {Drishti-GS: Retinal image dataset for optic nerve head(ONH) segmentation},\n",
    "isbn = {978-1-4673-1961-4},\n",
    "journal = {2014 IEEE 11th International Symposium on Biomedical Imaging, ISBI 2014},\n",
    "doi = {10.1109/ISBI.2014.6867807}\n",
    "}\"\"\""
   ]
  },
  {
   "cell_type": "code",
   "execution_count": 23,
   "metadata": {},
   "outputs": [],
   "source": [
    "with open('drishti_gs_train.json', 'wt') as file:\n",
    "    json.dump(distributions_train, file)\n",
    "\n",
    "with open('drishti_gs_test.json', 'wt') as file:\n",
    "    json.dump(distributions_test, file)"
   ]
  },
  {
   "cell_type": "code",
   "execution_count": null,
   "metadata": {},
   "outputs": [],
   "source": []
  },
  {
   "cell_type": "code",
   "execution_count": 24,
   "metadata": {},
   "outputs": [
    {
     "data": {
      "text/plain": [
       "['../../../retina-datasets/drishti-gs/Test-20211018T060000Z-001/Test/Test_GT/drishtiGS_053/SoftMap/drishtiGS_053_ODsegSoftmap.png',\n",
       " '../../../retina-datasets/drishti-gs/Test-20211018T060000Z-001/Test/Test_GT/drishtiGS_053/SoftMap/drishtiGS_053_cupsegSoftmap.png',\n",
       " '../../../retina-datasets/drishti-gs/Test-20211018T060000Z-001/Test/Test_GT/drishtiGS_086/SoftMap/drishtiGS_086_cupsegSoftmap.png',\n",
       " '../../../retina-datasets/drishti-gs/Test-20211018T060000Z-001/Test/Test_GT/drishtiGS_086/SoftMap/drishtiGS_086_ODsegSoftmap.png',\n",
       " '../../../retina-datasets/drishti-gs/Test-20211018T060000Z-001/Test/Test_GT/drishtiGS_079/SoftMap/drishtiGS_079_cupsegSoftmap.png',\n",
       " '../../../retina-datasets/drishti-gs/Test-20211018T060000Z-001/Test/Test_GT/drishtiGS_079/SoftMap/drishtiGS_079_ODsegSoftmap.png',\n",
       " '../../../retina-datasets/drishti-gs/Test-20211018T060000Z-001/Test/Test_GT/drishtiGS_052/SoftMap/drishtiGS_052_ODsegSoftmap.png',\n",
       " '../../../retina-datasets/drishti-gs/Test-20211018T060000Z-001/Test/Test_GT/drishtiGS_052/SoftMap/drishtiGS_052_cupsegSoftmap.png',\n",
       " '../../../retina-datasets/drishti-gs/Test-20211018T060000Z-001/Test/Test_GT/drishtiGS_082/SoftMap/drishtiGS_082_ODsegSoftmap.png',\n",
       " '../../../retina-datasets/drishti-gs/Test-20211018T060000Z-001/Test/Test_GT/drishtiGS_082/SoftMap/drishtiGS_082_cupsegSoftmap.png',\n",
       " '../../../retina-datasets/drishti-gs/Test-20211018T060000Z-001/Test/Test_GT/drishtiGS_003/SoftMap/drishtiGS_003_ODsegSoftmap.png',\n",
       " '../../../retina-datasets/drishti-gs/Test-20211018T060000Z-001/Test/Test_GT/drishtiGS_003/SoftMap/drishtiGS_003_cupsegSoftmap.png',\n",
       " '../../../retina-datasets/drishti-gs/Test-20211018T060000Z-001/Test/Test_GT/drishtiGS_020/SoftMap/drishtiGS_020_cupsegSoftmap.png',\n",
       " '../../../retina-datasets/drishti-gs/Test-20211018T060000Z-001/Test/Test_GT/drishtiGS_020/SoftMap/drishtiGS_020_ODsegSoftmap.png',\n",
       " '../../../retina-datasets/drishti-gs/Test-20211018T060000Z-001/Test/Test_GT/drishtiGS_077/SoftMap/drishtiGS_077_cupsegSoftmap.png',\n",
       " '../../../retina-datasets/drishti-gs/Test-20211018T060000Z-001/Test/Test_GT/drishtiGS_077/SoftMap/drishtiGS_077_ODsegSoftmap.png',\n",
       " '../../../retina-datasets/drishti-gs/Test-20211018T060000Z-001/Test/Test_GT/drishtiGS_027/SoftMap/drishtiGS_027_ODsegSoftmap.png',\n",
       " '../../../retina-datasets/drishti-gs/Test-20211018T060000Z-001/Test/Test_GT/drishtiGS_027/SoftMap/drishtiGS_027_cupsegSoftmap.png',\n",
       " '../../../retina-datasets/drishti-gs/Test-20211018T060000Z-001/Test/Test_GT/drishtiGS_039/SoftMap/drishtiGS_039_cupsegSoftmap.png',\n",
       " '../../../retina-datasets/drishti-gs/Test-20211018T060000Z-001/Test/Test_GT/drishtiGS_039/SoftMap/drishtiGS_039_ODsegSoftmap.png',\n",
       " '../../../retina-datasets/drishti-gs/Test-20211018T060000Z-001/Test/Test_GT/drishtiGS_072/SoftMap/drishtiGS_072_cupsegSoftmap.png',\n",
       " '../../../retina-datasets/drishti-gs/Test-20211018T060000Z-001/Test/Test_GT/drishtiGS_072/SoftMap/drishtiGS_072_ODsegSoftmap.png',\n",
       " '../../../retina-datasets/drishti-gs/Test-20211018T060000Z-001/Test/Test_GT/drishtiGS_013/SoftMap/drishtiGS_013_cupsegSoftmap.png',\n",
       " '../../../retina-datasets/drishti-gs/Test-20211018T060000Z-001/Test/Test_GT/drishtiGS_013/SoftMap/drishtiGS_013_ODsegSoftmap.png',\n",
       " '../../../retina-datasets/drishti-gs/Test-20211018T060000Z-001/Test/Test_GT/drishtiGS_009/SoftMap/drishtiGS_009_ODsegSoftmap.png',\n",
       " '../../../retina-datasets/drishti-gs/Test-20211018T060000Z-001/Test/Test_GT/drishtiGS_009/SoftMap/drishtiGS_009_cupsegSoftmap.png',\n",
       " '../../../retina-datasets/drishti-gs/Test-20211018T060000Z-001/Test/Test_GT/drishtiGS_067/SoftMap/drishtiGS_067_ODsegSoftmap.png',\n",
       " '../../../retina-datasets/drishti-gs/Test-20211018T060000Z-001/Test/Test_GT/drishtiGS_067/SoftMap/drishtiGS_067_cupsegSoftmap.png',\n",
       " '../../../retina-datasets/drishti-gs/Test-20211018T060000Z-001/Test/Test_GT/drishtiGS_025/SoftMap/drishtiGS_025_ODsegSoftmap.png',\n",
       " '../../../retina-datasets/drishti-gs/Test-20211018T060000Z-001/Test/Test_GT/drishtiGS_025/SoftMap/drishtiGS_025_cupsegSoftmap.png',\n",
       " '../../../retina-datasets/drishti-gs/Test-20211018T060000Z-001/Test/Test_GT/drishtiGS_001/SoftMap/drishtiGS_001_cupsegSoftmap.png',\n",
       " '../../../retina-datasets/drishti-gs/Test-20211018T060000Z-001/Test/Test_GT/drishtiGS_001/SoftMap/drishtiGS_001_ODsegSoftmap.png',\n",
       " '../../../retina-datasets/drishti-gs/Test-20211018T060000Z-001/Test/Test_GT/drishtiGS_093/SoftMap/drishtiGS_093_cupsegSoftmap.png',\n",
       " '../../../retina-datasets/drishti-gs/Test-20211018T060000Z-001/Test/Test_GT/drishtiGS_093/SoftMap/drishtiGS_093_ODsegSoftmap.png',\n",
       " '../../../retina-datasets/drishti-gs/Test-20211018T060000Z-001/Test/Test_GT/drishtiGS_065/SoftMap/drishtiGS_065_ODsegSoftmap.png',\n",
       " '../../../retina-datasets/drishti-gs/Test-20211018T060000Z-001/Test/Test_GT/drishtiGS_065/SoftMap/drishtiGS_065_cupsegSoftmap.png',\n",
       " '../../../retina-datasets/drishti-gs/Test-20211018T060000Z-001/Test/Test_GT/drishtiGS_073/SoftMap/drishtiGS_073_cupsegSoftmap.png',\n",
       " '../../../retina-datasets/drishti-gs/Test-20211018T060000Z-001/Test/Test_GT/drishtiGS_073/SoftMap/drishtiGS_073_ODsegSoftmap.png',\n",
       " '../../../retina-datasets/drishti-gs/Test-20211018T060000Z-001/Test/Test_GT/drishtiGS_054/SoftMap/drishtiGS_054_cupsegSoftmap.png',\n",
       " '../../../retina-datasets/drishti-gs/Test-20211018T060000Z-001/Test/Test_GT/drishtiGS_054/SoftMap/drishtiGS_054_ODsegSoftmap.png',\n",
       " '../../../retina-datasets/drishti-gs/Test-20211018T060000Z-001/Test/Test_GT/drishtiGS_005/SoftMap/drishtiGS_005_ODsegSoftmap.png',\n",
       " '../../../retina-datasets/drishti-gs/Test-20211018T060000Z-001/Test/Test_GT/drishtiGS_005/SoftMap/drishtiGS_005_cupsegSoftmap.png',\n",
       " '../../../retina-datasets/drishti-gs/Test-20211018T060000Z-001/Test/Test_GT/drishtiGS_055/SoftMap/drishtiGS_055_cupsegSoftmap.png',\n",
       " '../../../retina-datasets/drishti-gs/Test-20211018T060000Z-001/Test/Test_GT/drishtiGS_055/SoftMap/drishtiGS_055_ODsegSoftmap.png',\n",
       " '../../../retina-datasets/drishti-gs/Test-20211018T060000Z-001/Test/Test_GT/drishtiGS_019/SoftMap/drishtiGS_019_ODsegSoftmap.png',\n",
       " '../../../retina-datasets/drishti-gs/Test-20211018T060000Z-001/Test/Test_GT/drishtiGS_019/SoftMap/drishtiGS_019_cupsegSoftmap.png',\n",
       " '../../../retina-datasets/drishti-gs/Test-20211018T060000Z-001/Test/Test_GT/drishtiGS_050/SoftMap/drishtiGS_050_ODsegSoftmap.png',\n",
       " '../../../retina-datasets/drishti-gs/Test-20211018T060000Z-001/Test/Test_GT/drishtiGS_050/SoftMap/drishtiGS_050_cupsegSoftmap.png',\n",
       " '../../../retina-datasets/drishti-gs/Test-20211018T060000Z-001/Test/Test_GT/drishtiGS_006/SoftMap/drishtiGS_006_ODsegSoftmap.png',\n",
       " '../../../retina-datasets/drishti-gs/Test-20211018T060000Z-001/Test/Test_GT/drishtiGS_006/SoftMap/drishtiGS_006_cupsegSoftmap.png',\n",
       " '../../../retina-datasets/drishti-gs/Test-20211018T060000Z-001/Test/Test_GT/drishtiGS_011/SoftMap/drishtiGS_011_cupsegSoftmap.png',\n",
       " '../../../retina-datasets/drishti-gs/Test-20211018T060000Z-001/Test/Test_GT/drishtiGS_011/SoftMap/drishtiGS_011_ODsegSoftmap.png',\n",
       " '../../../retina-datasets/drishti-gs/Test-20211018T060000Z-001/Test/Test_GT/drishtiGS_034/SoftMap/drishtiGS_034_cupsegSoftmap.png',\n",
       " '../../../retina-datasets/drishti-gs/Test-20211018T060000Z-001/Test/Test_GT/drishtiGS_034/SoftMap/drishtiGS_034_ODsegSoftmap.png',\n",
       " '../../../retina-datasets/drishti-gs/Test-20211018T060000Z-001/Test/Test_GT/drishtiGS_056/SoftMap/drishtiGS_056_ODsegSoftmap.png',\n",
       " '../../../retina-datasets/drishti-gs/Test-20211018T060000Z-001/Test/Test_GT/drishtiGS_056/SoftMap/drishtiGS_056_cupsegSoftmap.png',\n",
       " '../../../retina-datasets/drishti-gs/Test-20211018T060000Z-001/Test/Test_GT/drishtiGS_070/SoftMap/drishtiGS_070_cupsegSoftmap.png',\n",
       " '../../../retina-datasets/drishti-gs/Test-20211018T060000Z-001/Test/Test_GT/drishtiGS_070/SoftMap/drishtiGS_070_ODsegSoftmap.png',\n",
       " '../../../retina-datasets/drishti-gs/Test-20211018T060000Z-001/Test/Test_GT/drishtiGS_095/SoftMap/drishtiGS_095_ODsegSoftmap.png',\n",
       " '../../../retina-datasets/drishti-gs/Test-20211018T060000Z-001/Test/Test_GT/drishtiGS_095/SoftMap/drishtiGS_095_cupsegSoftmap.png',\n",
       " '../../../retina-datasets/drishti-gs/Test-20211018T060000Z-001/Test/Test_GT/drishtiGS_083/SoftMap/drishtiGS_083_cupsegSoftmap.png',\n",
       " '../../../retina-datasets/drishti-gs/Test-20211018T060000Z-001/Test/Test_GT/drishtiGS_083/SoftMap/drishtiGS_083_ODsegSoftmap.png',\n",
       " '../../../retina-datasets/drishti-gs/Test-20211018T060000Z-001/Test/Test_GT/drishtiGS_021/SoftMap/drishtiGS_021_cupsegSoftmap.png',\n",
       " '../../../retina-datasets/drishti-gs/Test-20211018T060000Z-001/Test/Test_GT/drishtiGS_021/SoftMap/drishtiGS_021_ODsegSoftmap.png',\n",
       " '../../../retina-datasets/drishti-gs/Test-20211018T060000Z-001/Test/Test_GT/drishtiGS_087/SoftMap/drishtiGS_087_ODsegSoftmap.png',\n",
       " '../../../retina-datasets/drishti-gs/Test-20211018T060000Z-001/Test/Test_GT/drishtiGS_087/SoftMap/drishtiGS_087_cupsegSoftmap.png',\n",
       " '../../../retina-datasets/drishti-gs/Test-20211018T060000Z-001/Test/Test_GT/drishtiGS_023/SoftMap/drishtiGS_023_ODsegSoftmap.png',\n",
       " '../../../retina-datasets/drishti-gs/Test-20211018T060000Z-001/Test/Test_GT/drishtiGS_023/SoftMap/drishtiGS_023_cupsegSoftmap.png',\n",
       " '../../../retina-datasets/drishti-gs/Test-20211018T060000Z-001/Test/Test_GT/drishtiGS_099/SoftMap/drishtiGS_099_cupsegSoftmap.png',\n",
       " '../../../retina-datasets/drishti-gs/Test-20211018T060000Z-001/Test/Test_GT/drishtiGS_099/SoftMap/drishtiGS_099_ODsegSoftmap.png',\n",
       " '../../../retina-datasets/drishti-gs/Test-20211018T060000Z-001/Test/Test_GT/drishtiGS_014/SoftMap/drishtiGS_014_cupsegSoftmap.png',\n",
       " '../../../retina-datasets/drishti-gs/Test-20211018T060000Z-001/Test/Test_GT/drishtiGS_014/SoftMap/drishtiGS_014_ODsegSoftmap.png',\n",
       " '../../../retina-datasets/drishti-gs/Test-20211018T060000Z-001/Test/Test_GT/drishtiGS_007/SoftMap/drishtiGS_007_ODsegSoftmap.png',\n",
       " '../../../retina-datasets/drishti-gs/Test-20211018T060000Z-001/Test/Test_GT/drishtiGS_007/SoftMap/drishtiGS_007_cupsegSoftmap.png',\n",
       " '../../../retina-datasets/drishti-gs/Test-20211018T060000Z-001/Test/Test_GT/drishtiGS_074/SoftMap/drishtiGS_074_ODsegSoftmap.png',\n",
       " '../../../retina-datasets/drishti-gs/Test-20211018T060000Z-001/Test/Test_GT/drishtiGS_074/SoftMap/drishtiGS_074_cupsegSoftmap.png',\n",
       " '../../../retina-datasets/drishti-gs/Test-20211018T060000Z-001/Test/Test_GT/drishtiGS_030/SoftMap/drishtiGS_030_ODsegSoftmap.png',\n",
       " '../../../retina-datasets/drishti-gs/Test-20211018T060000Z-001/Test/Test_GT/drishtiGS_030/SoftMap/drishtiGS_030_cupsegSoftmap.png',\n",
       " '../../../retina-datasets/drishti-gs/Test-20211018T060000Z-001/Test/Test_GT/drishtiGS_029/SoftMap/drishtiGS_029_ODsegSoftmap.png',\n",
       " '../../../retina-datasets/drishti-gs/Test-20211018T060000Z-001/Test/Test_GT/drishtiGS_029/SoftMap/drishtiGS_029_cupsegSoftmap.png',\n",
       " '../../../retina-datasets/drishti-gs/Test-20211018T060000Z-001/Test/Test_GT/drishtiGS_048/SoftMap/drishtiGS_048_cupsegSoftmap.png',\n",
       " '../../../retina-datasets/drishti-gs/Test-20211018T060000Z-001/Test/Test_GT/drishtiGS_048/SoftMap/drishtiGS_048_ODsegSoftmap.png',\n",
       " '../../../retina-datasets/drishti-gs/Test-20211018T060000Z-001/Test/Test_GT/drishtiGS_085/SoftMap/drishtiGS_085_cupsegSoftmap.png',\n",
       " '../../../retina-datasets/drishti-gs/Test-20211018T060000Z-001/Test/Test_GT/drishtiGS_085/SoftMap/drishtiGS_085_ODsegSoftmap.png',\n",
       " '../../../retina-datasets/drishti-gs/Test-20211018T060000Z-001/Test/Test_GT/drishtiGS_096/SoftMap/drishtiGS_096_cupsegSoftmap.png',\n",
       " '../../../retina-datasets/drishti-gs/Test-20211018T060000Z-001/Test/Test_GT/drishtiGS_096/SoftMap/drishtiGS_096_ODsegSoftmap.png',\n",
       " '../../../retina-datasets/drishti-gs/Test-20211018T060000Z-001/Test/Test_GT/drishtiGS_043/SoftMap/drishtiGS_043_ODsegSoftmap.png',\n",
       " '../../../retina-datasets/drishti-gs/Test-20211018T060000Z-001/Test/Test_GT/drishtiGS_043/SoftMap/drishtiGS_043_cupsegSoftmap.png',\n",
       " '../../../retina-datasets/drishti-gs/Test-20211018T060000Z-001/Test/Test_GT/drishtiGS_071/SoftMap/drishtiGS_071_cupsegSoftmap.png',\n",
       " '../../../retina-datasets/drishti-gs/Test-20211018T060000Z-001/Test/Test_GT/drishtiGS_071/SoftMap/drishtiGS_071_ODsegSoftmap.png',\n",
       " '../../../retina-datasets/drishti-gs/Test-20211018T060000Z-001/Test/Test_GT/drishtiGS_059/SoftMap/drishtiGS_059_cupsegSoftmap.png',\n",
       " '../../../retina-datasets/drishti-gs/Test-20211018T060000Z-001/Test/Test_GT/drishtiGS_059/SoftMap/drishtiGS_059_ODsegSoftmap.png',\n",
       " '../../../retina-datasets/drishti-gs/Test-20211018T060000Z-001/Test/Test_GT/drishtiGS_078/SoftMap/drishtiGS_078_cupsegSoftmap.png',\n",
       " '../../../retina-datasets/drishti-gs/Test-20211018T060000Z-001/Test/Test_GT/drishtiGS_078/SoftMap/drishtiGS_078_ODsegSoftmap.png',\n",
       " '../../../retina-datasets/drishti-gs/Test-20211018T060000Z-001/Test/Test_GT/drishtiGS_097/SoftMap/drishtiGS_097_cupsegSoftmap.png',\n",
       " '../../../retina-datasets/drishti-gs/Test-20211018T060000Z-001/Test/Test_GT/drishtiGS_097/SoftMap/drishtiGS_097_ODsegSoftmap.png',\n",
       " '../../../retina-datasets/drishti-gs/Test-20211018T060000Z-001/Test/Test_GT/drishtiGS_028/SoftMap/drishtiGS_028_ODsegSoftmap.png',\n",
       " '../../../retina-datasets/drishti-gs/Test-20211018T060000Z-001/Test/Test_GT/drishtiGS_028/SoftMap/drishtiGS_028_cupsegSoftmap.png',\n",
       " '../../../retina-datasets/drishti-gs/Test-20211018T060000Z-001/Test/Test_GT/drishtiGS_100/SoftMap/drishtiGS_100_cupsegSoftmap.png',\n",
       " '../../../retina-datasets/drishti-gs/Test-20211018T060000Z-001/Test/Test_GT/drishtiGS_100/SoftMap/drishtiGS_100_ODsegSoftmap.png',\n",
       " '../../../retina-datasets/drishti-gs/Test-20211018T060000Z-001/Test/Test_GT/drishtiGS_091/SoftMap/drishtiGS_091_ODsegSoftmap.png',\n",
       " '../../../retina-datasets/drishti-gs/Test-20211018T060000Z-001/Test/Test_GT/drishtiGS_091/SoftMap/drishtiGS_091_cupsegSoftmap.png']"
      ]
     },
     "execution_count": 24,
     "metadata": {},
     "output_type": "execute_result"
    }
   ],
   "source": [
    "test"
   ]
  },
  {
   "cell_type": "code",
   "execution_count": null,
   "metadata": {},
   "outputs": [],
   "source": []
  }
 ],
 "metadata": {
  "kernelspec": {
   "display_name": "mlscorecheck",
   "language": "python",
   "name": "python3"
  },
  "language_info": {
   "codemirror_mode": {
    "name": "ipython",
    "version": 3
   },
   "file_extension": ".py",
   "mimetype": "text/x-python",
   "name": "python",
   "nbconvert_exporter": "python",
   "pygments_lexer": "ipython3",
   "version": "3.10.0"
  }
 },
 "nbformat": 4,
 "nbformat_minor": 2
}
