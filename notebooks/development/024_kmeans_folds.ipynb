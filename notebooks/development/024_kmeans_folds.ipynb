{
 "cells": [
  {
   "cell_type": "code",
   "execution_count": 46,
   "metadata": {},
   "outputs": [],
   "source": [
    "from mlscorecheck.aggregated import create_all_kfolds"
   ]
  },
  {
   "cell_type": "code",
   "execution_count": 47,
   "metadata": {},
   "outputs": [],
   "source": [
    "pos_counts_in_folds, neg_counts_in_folds = create_all_kfolds(p=10, n=20, n_folds=3)"
   ]
  },
  {
   "cell_type": "code",
   "execution_count": 44,
   "metadata": {},
   "outputs": [],
   "source": [
    "p=10\n",
    "n=20\n",
    "n_folds=3\n",
    "\n",
    "tmp = [1]*n_folds\n",
    "tmp[-1] = p - n_folds + 1"
   ]
  },
  {
   "cell_type": "code",
   "execution_count": 45,
   "metadata": {},
   "outputs": [
    {
     "name": "stdout",
     "output_type": "stream",
     "text": [
      "[1, 2, 7]\n",
      "[1, 3, 6]\n",
      "[2, 2, 6]\n",
      "[2, 3, 5]\n",
      "[2, 4, 4]\n",
      "[3, 3, 4]\n"
     ]
    }
   ],
   "source": [
    "idx = n_folds - 1\n",
    "while True:\n",
    "    if idx >= n_folds:\n",
    "        break\n",
    "    if idx == n_folds - 1 and tmp[idx-1] >= tmp[idx]:\n",
    "        break\n",
    "    if idx >= 1 and tmp[idx-1] >= tmp[idx]:\n",
    "        idx += 1\n",
    "        continue\n",
    "    if idx == 0:\n",
    "        idx = n_folds - 1\n",
    "        continue\n",
    "    if idx >= 1 and tmp[idx-1] < tmp[idx] - 1:\n",
    "        tmp[idx-1] += 1\n",
    "        tmp[idx] -= 1\n",
    "        idx-= 1\n",
    "        print(tmp)\n",
    "    else:\n",
    "        idx+= 1\n",
    "\n"
   ]
  },
  {
   "cell_type": "code",
   "execution_count": 48,
   "metadata": {},
   "outputs": [
    {
     "data": {
      "text/plain": [
       "[(1, 4, 5),\n",
       " (2, 3, 5),\n",
       " (2, 4, 4),\n",
       " (3, 3, 4),\n",
       " (1, 2, 7),\n",
       " (2, 2, 6),\n",
       " (1, 3, 6),\n",
       " (1, 1, 8)]"
      ]
     },
     "execution_count": 48,
     "metadata": {},
     "output_type": "execute_result"
    }
   ],
   "source": [
    "pos_counts_in_folds"
   ]
  },
  {
   "cell_type": "code",
   "execution_count": 12,
   "metadata": {},
   "outputs": [
    {
     "data": {
      "text/plain": [
       "((1, 4, 5), (9, 6, 5))"
      ]
     },
     "execution_count": 12,
     "metadata": {},
     "output_type": "execute_result"
    }
   ],
   "source": [
    "# example one folding\n",
    "pos_counts_in_folds[0], neg_counts_in_folds[0]"
   ]
  },
  {
   "cell_type": "code",
   "execution_count": 13,
   "metadata": {},
   "outputs": [],
   "source": [
    "# interpretation:\n",
    "# first fold positives 1, negatives 9\n",
    "# second fold positives 4, negatives 6\n",
    "# third fold positives 5, negatives 5"
   ]
  },
  {
   "cell_type": "code",
   "execution_count": 14,
   "metadata": {},
   "outputs": [
    {
     "data": {
      "text/plain": [
       "8"
      ]
     },
     "execution_count": 14,
     "metadata": {},
     "output_type": "execute_result"
    }
   ],
   "source": [
    "# number of foldings\n",
    "len(pos_counts_in_folds)"
   ]
  },
  {
   "cell_type": "code",
   "execution_count": 15,
   "metadata": {},
   "outputs": [
    {
     "data": {
      "text/plain": [
       "[((1, 4, 5), (9, 6, 5)),\n",
       " ((2, 3, 5), (8, 7, 5)),\n",
       " ((2, 4, 4), (8, 6, 6)),\n",
       " ((3, 3, 4), (7, 7, 6)),\n",
       " ((1, 2, 7), (9, 8, 3)),\n",
       " ((2, 2, 6), (8, 8, 4)),\n",
       " ((1, 3, 6), (9, 7, 4)),\n",
       " ((1, 1, 8), (9, 9, 2))]"
      ]
     },
     "execution_count": 15,
     "metadata": {},
     "output_type": "execute_result"
    }
   ],
   "source": [
    "# all foldings\n",
    "list(zip(pos_counts_in_folds, neg_counts_in_folds))"
   ]
  },
  {
   "cell_type": "code",
   "execution_count": null,
   "metadata": {},
   "outputs": [],
   "source": []
  }
 ],
 "metadata": {
  "kernelspec": {
   "display_name": "mlscorecheck",
   "language": "python",
   "name": "python3"
  },
  "language_info": {
   "codemirror_mode": {
    "name": "ipython",
    "version": 3
   },
   "file_extension": ".py",
   "mimetype": "text/x-python",
   "name": "python",
   "nbconvert_exporter": "python",
   "pygments_lexer": "ipython3",
   "version": "3.10.0"
  },
  "orig_nbformat": 4
 },
 "nbformat": 4,
 "nbformat_minor": 2
}
