{
 "cells": [
  {
   "cell_type": "code",
   "execution_count": 16,
   "metadata": {},
   "outputs": [],
   "source": [
    "import glob\n",
    "import json\n",
    "\n",
    "import numpy as np\n",
    "from PIL import Image"
   ]
  },
  {
   "cell_type": "code",
   "execution_count": 17,
   "metadata": {},
   "outputs": [],
   "source": [
    "citation = \"\"\"@ARTICLE{chase_db1,\n",
    "  author={Fraz, Muhammad Moazam and Remagnino, Paolo and Hoppe, Andreas and Uyyanonvara, Bunyarit and Rudnicka, Alicja R. and Owen, Christopher G. and Barman, Sarah A.},\n",
    "  journal={IEEE Transactions on Biomedical Engineering},\n",
    "  title={An Ensemble Classification-Based Approach Applied to Retinal Blood Vessel Segmentation},\n",
    "  year={2012},\n",
    "  volume={59},\n",
    "  number={9},\n",
    "  pages={2538-2548},\n",
    "  doi={10.1109/TBME.2012.2205687}}\"\"\""
   ]
  },
  {
   "cell_type": "code",
   "execution_count": 18,
   "metadata": {},
   "outputs": [],
   "source": [
    "jpgs = glob.glob('../../../retina-datasets/chasedb1/*.jpg')\n",
    "pngs = glob.glob('../../../retina-datasets/chasedb1/*.png')\n",
    "\n",
    "all_imgs = jpgs + pngs"
   ]
  },
  {
   "cell_type": "code",
   "execution_count": 19,
   "metadata": {},
   "outputs": [],
   "source": [
    "records = {}\n",
    "\n",
    "for img in all_imgs:\n",
    "    identifier = img.split('/')[-1]\n",
    "    identifier = identifier.split('.')[0]\n",
    "    identifier = identifier.split('_')[1]\n",
    "\n",
    "    if identifier not in records:\n",
    "        records[identifier] = {}\n",
    "\n",
    "    if img.endswith('.jpg'):\n",
    "        records[identifier]['image'] = img\n",
    "    if '1stHO' in img:\n",
    "        records[identifier]['manual1'] = img\n",
    "    if '2ndHO' in img:\n",
    "        records[identifier]['manual2'] = img"
   ]
  },
  {
   "cell_type": "code",
   "execution_count": 23,
   "metadata": {},
   "outputs": [],
   "source": [
    "manual1 = []\n",
    "manual2 = []\n",
    "\n",
    "for identifier in records:\n",
    "    man1_array = np.array(Image.open(records[identifier]['manual1']).getchannel(0))\n",
    "    man2_array = np.array(Image.open(records[identifier]['manual2']).getchannel(0))\n",
    "\n",
    "    manual1.append({'identifier': identifier, 'p': int(np.sum(man1_array > 0)), 'n': int(np.sum(man1_array == 0))})\n",
    "    manual2.append({'identifier': identifier, 'p': int(np.sum(man2_array > 0)), 'n': int(np.sum(man2_array == 0))})"
   ]
  },
  {
   "cell_type": "code",
   "execution_count": 24,
   "metadata": {},
   "outputs": [],
   "source": [
    "with open('manual1.json', 'w') as file:\n",
    "    json.dump({'images': manual1, 'citation': citation}, file, indent=2)"
   ]
  },
  {
   "cell_type": "code",
   "execution_count": 25,
   "metadata": {},
   "outputs": [],
   "source": [
    "with open('manual2.json', 'w') as file:\n",
    "    json.dump({'images': manual2, 'citation': citation}, file, indent=2)"
   ]
  },
  {
   "cell_type": "code",
   "execution_count": 13,
   "metadata": {},
   "outputs": [
    {
     "data": {
      "text/plain": [
       "{'11R': {'p': 51133, 'n': 907907},\n",
       " '07L': {'p': 74699, 'n': 884341},\n",
       " '14R': {'p': 56109, 'n': 902931},\n",
       " '09R': {'p': 48819, 'n': 910221},\n",
       " '01L': {'p': 66885, 'n': 892155},\n",
       " '02L': {'p': 77820, 'n': 881220},\n",
       " '04L': {'p': 75168, 'n': 883872},\n",
       " '12R': {'p': 70491, 'n': 888549},\n",
       " '06R': {'p': 71768, 'n': 887272},\n",
       " '02R': {'p': 74890, 'n': 884150},\n",
       " '01R': {'p': 72838, 'n': 886202},\n",
       " '03L': {'p': 75196, 'n': 883844},\n",
       " '08R': {'p': 60935, 'n': 898105},\n",
       " '05R': {'p': 81663, 'n': 877377},\n",
       " '06L': {'p': 72636, 'n': 886404},\n",
       " '04R': {'p': 73824, 'n': 885216},\n",
       " '10L': {'p': 60076, 'n': 898964},\n",
       " '03R': {'p': 72421, 'n': 886619},\n",
       " '10R': {'p': 59371, 'n': 899669},\n",
       " '13R': {'p': 60625, 'n': 898415},\n",
       " '12L': {'p': 69032, 'n': 890008},\n",
       " '07R': {'p': 72968, 'n': 886072},\n",
       " '13L': {'p': 58984, 'n': 900056},\n",
       " '05L': {'p': 75941, 'n': 883099},\n",
       " '09L': {'p': 48524, 'n': 910516},\n",
       " '14L': {'p': 66013, 'n': 893027},\n",
       " '08L': {'p': 62026, 'n': 897014},\n",
       " '11L': {'p': 51119, 'n': 907921}}"
      ]
     },
     "execution_count": 13,
     "metadata": {},
     "output_type": "execute_result"
    }
   ],
   "source": [
    "manual1"
   ]
  },
  {
   "cell_type": "code",
   "execution_count": 14,
   "metadata": {},
   "outputs": [
    {
     "data": {
      "text/plain": [
       "{'11R': {'p': 58801, 'n': 900239},\n",
       " '07L': {'p': 68439, 'n': 890601},\n",
       " '14R': {'p': 62523, 'n': 896517},\n",
       " '09R': {'p': 52633, 'n': 906407},\n",
       " '01L': {'p': 63058, 'n': 895982},\n",
       " '02L': {'p': 58992, 'n': 900048},\n",
       " '04L': {'p': 65066, 'n': 893974},\n",
       " '12R': {'p': 78820, 'n': 880220},\n",
       " '06R': {'p': 64486, 'n': 894554},\n",
       " '02R': {'p': 60221, 'n': 898819},\n",
       " '01R': {'p': 60818, 'n': 898222},\n",
       " '03L': {'p': 57670, 'n': 901370},\n",
       " '08R': {'p': 64673, 'n': 894367},\n",
       " '05R': {'p': 65462, 'n': 893578},\n",
       " '06L': {'p': 57258, 'n': 901782},\n",
       " '04R': {'p': 54027, 'n': 905013},\n",
       " '10L': {'p': 78037, 'n': 881003},\n",
       " '03R': {'p': 57059, 'n': 901981},\n",
       " '10R': {'p': 66581, 'n': 892459},\n",
       " '13R': {'p': 64262, 'n': 894778},\n",
       " '12L': {'p': 75826, 'n': 883214},\n",
       " '07R': {'p': 71572, 'n': 887468},\n",
       " '13L': {'p': 60697, 'n': 898343},\n",
       " '05L': {'p': 58734, 'n': 900306},\n",
       " '09L': {'p': 55822, 'n': 903218},\n",
       " '14L': {'p': 68040, 'n': 891000},\n",
       " '08L': {'p': 76741, 'n': 882299},\n",
       " '11L': {'p': 56262, 'n': 902778}}"
      ]
     },
     "execution_count": 14,
     "metadata": {},
     "output_type": "execute_result"
    }
   ],
   "source": [
    "manual2"
   ]
  },
  {
   "cell_type": "code",
   "execution_count": 7,
   "metadata": {},
   "outputs": [
    {
     "data": {
      "text/plain": [
       "['../../../retina-datasets/chasedb1/Image_11R.jpg',\n",
       " '../../../retina-datasets/chasedb1/Image_07L.jpg',\n",
       " '../../../retina-datasets/chasedb1/Image_14R.jpg',\n",
       " '../../../retina-datasets/chasedb1/Image_09R.jpg',\n",
       " '../../../retina-datasets/chasedb1/Image_01L.jpg',\n",
       " '../../../retina-datasets/chasedb1/Image_02L.jpg',\n",
       " '../../../retina-datasets/chasedb1/Image_04L.jpg',\n",
       " '../../../retina-datasets/chasedb1/Image_12R.jpg',\n",
       " '../../../retina-datasets/chasedb1/Image_06R.jpg',\n",
       " '../../../retina-datasets/chasedb1/Image_02R.jpg',\n",
       " '../../../retina-datasets/chasedb1/Image_01R.jpg',\n",
       " '../../../retina-datasets/chasedb1/Image_03L.jpg',\n",
       " '../../../retina-datasets/chasedb1/Image_08R.jpg',\n",
       " '../../../retina-datasets/chasedb1/Image_05R.jpg',\n",
       " '../../../retina-datasets/chasedb1/Image_06L.jpg',\n",
       " '../../../retina-datasets/chasedb1/Image_04R.jpg',\n",
       " '../../../retina-datasets/chasedb1/Image_10L.jpg',\n",
       " '../../../retina-datasets/chasedb1/Image_03R.jpg',\n",
       " '../../../retina-datasets/chasedb1/Image_10R.jpg',\n",
       " '../../../retina-datasets/chasedb1/Image_13R.jpg',\n",
       " '../../../retina-datasets/chasedb1/Image_12L.jpg',\n",
       " '../../../retina-datasets/chasedb1/Image_07R.jpg',\n",
       " '../../../retina-datasets/chasedb1/Image_13L.jpg',\n",
       " '../../../retina-datasets/chasedb1/Image_05L.jpg',\n",
       " '../../../retina-datasets/chasedb1/Image_09L.jpg',\n",
       " '../../../retina-datasets/chasedb1/Image_14L.jpg',\n",
       " '../../../retina-datasets/chasedb1/Image_08L.jpg',\n",
       " '../../../retina-datasets/chasedb1/Image_11L.jpg',\n",
       " '../../../retina-datasets/chasedb1/Image_03R_1stHO.png',\n",
       " '../../../retina-datasets/chasedb1/Image_11R_2ndHO.png',\n",
       " '../../../retina-datasets/chasedb1/Image_14L_2ndHO.png',\n",
       " '../../../retina-datasets/chasedb1/Image_14R_1stHO.png',\n",
       " '../../../retina-datasets/chasedb1/Image_02L_1stHO.png',\n",
       " '../../../retina-datasets/chasedb1/Image_04R_1stHO.png',\n",
       " '../../../retina-datasets/chasedb1/Image_08R_2ndHO.png',\n",
       " '../../../retina-datasets/chasedb1/Image_11L_2ndHO.png',\n",
       " '../../../retina-datasets/chasedb1/Image_01R_1stHO.png',\n",
       " '../../../retina-datasets/chasedb1/Image_07R_1stHO.png',\n",
       " '../../../retina-datasets/chasedb1/Image_10R_1stHO.png',\n",
       " '../../../retina-datasets/chasedb1/Image_10R_2ndHO.png',\n",
       " '../../../retina-datasets/chasedb1/Image_12R_2ndHO.png',\n",
       " '../../../retina-datasets/chasedb1/Image_01L_2ndHO.png',\n",
       " '../../../retina-datasets/chasedb1/Image_12L_1stHO.png',\n",
       " '../../../retina-datasets/chasedb1/Image_05L_2ndHO.png',\n",
       " '../../../retina-datasets/chasedb1/Image_03R_2ndHO.png',\n",
       " '../../../retina-datasets/chasedb1/Image_04L_2ndHO.png',\n",
       " '../../../retina-datasets/chasedb1/Image_08L_1stHO.png',\n",
       " '../../../retina-datasets/chasedb1/Image_04R_2ndHO.png',\n",
       " '../../../retina-datasets/chasedb1/Image_08L_2ndHO.png',\n",
       " '../../../retina-datasets/chasedb1/Image_10L_2ndHO.png',\n",
       " '../../../retina-datasets/chasedb1/Image_11L_1stHO.png',\n",
       " '../../../retina-datasets/chasedb1/Image_06R_1stHO.png',\n",
       " '../../../retina-datasets/chasedb1/Image_06R_2ndHO.png',\n",
       " '../../../retina-datasets/chasedb1/Image_11R_1stHO.png',\n",
       " '../../../retina-datasets/chasedb1/Image_08R_1stHO.png',\n",
       " '../../../retina-datasets/chasedb1/Image_03L_1stHO.png',\n",
       " '../../../retina-datasets/chasedb1/Image_09L_2ndHO.png',\n",
       " '../../../retina-datasets/chasedb1/Image_13R_2ndHO.png',\n",
       " '../../../retina-datasets/chasedb1/Image_13L_2ndHO.png',\n",
       " '../../../retina-datasets/chasedb1/Image_01L_1stHO.png',\n",
       " '../../../retina-datasets/chasedb1/Image_05R_1stHO.png',\n",
       " '../../../retina-datasets/chasedb1/Image_02R_1stHO.png',\n",
       " '../../../retina-datasets/chasedb1/Image_05L_1stHO.png',\n",
       " '../../../retina-datasets/chasedb1/Image_09L_1stHO.png',\n",
       " '../../../retina-datasets/chasedb1/Image_02R_2ndHO.png',\n",
       " '../../../retina-datasets/chasedb1/Image_07L_1stHO.png',\n",
       " '../../../retina-datasets/chasedb1/Image_07R_2ndHO.png',\n",
       " '../../../retina-datasets/chasedb1/Image_09R_2ndHO.png',\n",
       " '../../../retina-datasets/chasedb1/Image_12L_2ndHO.png',\n",
       " '../../../retina-datasets/chasedb1/Image_01R_2ndHO.png',\n",
       " '../../../retina-datasets/chasedb1/Image_06L_1stHO.png',\n",
       " '../../../retina-datasets/chasedb1/Image_02L_2ndHO.png',\n",
       " '../../../retina-datasets/chasedb1/Image_14R_2ndHO.png',\n",
       " '../../../retina-datasets/chasedb1/Image_12R_1stHO.png',\n",
       " '../../../retina-datasets/chasedb1/Image_04L_1stHO.png',\n",
       " '../../../retina-datasets/chasedb1/Image_07L_2ndHO.png',\n",
       " '../../../retina-datasets/chasedb1/Image_13L_1stHO.png',\n",
       " '../../../retina-datasets/chasedb1/Image_14L_1stHO.png',\n",
       " '../../../retina-datasets/chasedb1/Image_10L_1stHO.png',\n",
       " '../../../retina-datasets/chasedb1/Image_05R_2ndHO.png',\n",
       " '../../../retina-datasets/chasedb1/Image_06L_2ndHO.png',\n",
       " '../../../retina-datasets/chasedb1/Image_03L_2ndHO.png',\n",
       " '../../../retina-datasets/chasedb1/Image_09R_1stHO.png',\n",
       " '../../../retina-datasets/chasedb1/Image_13R_1stHO.png']"
      ]
     },
     "execution_count": 7,
     "metadata": {},
     "output_type": "execute_result"
    }
   ],
   "source": [
    "all_imgs"
   ]
  },
  {
   "cell_type": "code",
   "execution_count": null,
   "metadata": {},
   "outputs": [],
   "source": []
  }
 ],
 "metadata": {
  "kernelspec": {
   "display_name": "mlscorecheck",
   "language": "python",
   "name": "python3"
  },
  "language_info": {
   "codemirror_mode": {
    "name": "ipython",
    "version": 3
   },
   "file_extension": ".py",
   "mimetype": "text/x-python",
   "name": "python",
   "nbconvert_exporter": "python",
   "pygments_lexer": "ipython3",
   "version": "3.10.0"
  }
 },
 "nbformat": 4,
 "nbformat_minor": 2
}
